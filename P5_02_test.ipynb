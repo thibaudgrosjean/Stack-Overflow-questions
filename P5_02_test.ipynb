{
 "cells": [
  {
   "cell_type": "markdown",
   "metadata": {},
   "source": [
    "# Introduction"
   ]
  },
  {
   "cell_type": "markdown",
   "metadata": {},
   "source": [
    "In this project, we will implement a tags recommendation system for *StackOverflow* questions.\\\n",
    "*StackOverflow* is a reknown platform for questions and answers about programmation.\n",
    "* In the first notebook, we will extract the required data using the *StackExchange data explorer* tool, and explore the data.\n",
    "* In the second notebook, we will implement various *machine learning algorithms* and select the suitable inference model to deploy an *API endpoint*."
   ]
  },
  {
   "cell_type": "markdown",
   "metadata": {},
   "source": [
    "# Environment"
   ]
  },
  {
   "cell_type": "code",
   "execution_count": 1,
   "metadata": {},
   "outputs": [
    {
     "name": "stderr",
     "output_type": "stream",
     "text": [
      "/opt/homebrew/Caskroom/miniforge/base/envs/P5/lib/python3.9/site-packages/xgboost/compat.py:36: FutureWarning: pandas.Int64Index is deprecated and will be removed from pandas in a future version. Use pandas.Index with the appropriate dtype instead.\n",
      "  from pandas import MultiIndex, Int64Index\n"
     ]
    }
   ],
   "source": [
    "import pandas as pd\n",
    "import numpy as np\n",
    "from nltk.probability import FreqDist\n",
    "from IPython.display import Image\n",
    "import plotly.graph_objects as go\n",
    "from plotly.subplots import make_subplots\n",
    "from sklearn.feature_extraction.text import CountVectorizer, TfidfVectorizer\n",
    "from sklearn.metrics import recall_score,  hamming_loss, jaccard_score\n",
    "from sklearn.preprocessing import MultiLabelBinarizer\n",
    "from sklearn.model_selection import train_test_split\n",
    "from sklearn.multiclass import OneVsRestClassifier\n",
    "from sklearn.svm import LinearSVC\n",
    "from sklearn.neighbors import KNeighborsClassifier\n",
    "from sklearn.ensemble import RandomForestClassifier\n",
    "from sklearn.linear_model import SGDClassifier\n",
    "from sklearn.decomposition import PCA\n",
    "from DataGT.PCA import display_scree_plot\n",
    "from sklearn.linear_model import LogisticRegression\n",
    "from sklearn.decomposition import TruncatedSVD\n",
    "import gensim\n",
    "from gensim import corpora\n",
    "from gensim.models.ldamulticore import LdaMulticore\n",
    "from gensim.models import TfidfModel\n",
    "import pyLDAvis.gensim_models\n",
    "from gensim.models import CoherenceModel\n",
    "from imp import reload\n",
    "from xgboost import XGBClassifier\n",
    "from ttictoc import tic, toc\n",
    "from joblib import dump"
   ]
  },
  {
   "cell_type": "code",
   "execution_count": 2,
   "metadata": {},
   "outputs": [
    {
     "data": {
      "text/html": [
       "<div>\n",
       "<style scoped>\n",
       "    .dataframe tbody tr th:only-of-type {\n",
       "        vertical-align: middle;\n",
       "    }\n",
       "\n",
       "    .dataframe tbody tr th {\n",
       "        vertical-align: top;\n",
       "    }\n",
       "\n",
       "    .dataframe thead th {\n",
       "        text-align: right;\n",
       "    }\n",
       "</style>\n",
       "<table border=\"1\" class=\"dataframe\">\n",
       "  <thead>\n",
       "    <tr style=\"text-align: right;\">\n",
       "      <th></th>\n",
       "      <th>Title</th>\n",
       "      <th>Body</th>\n",
       "      <th>Tags</th>\n",
       "      <th>Body_tokens</th>\n",
       "      <th>Title_tokens</th>\n",
       "      <th>Tags_tokens</th>\n",
       "      <th>Title_Body_tokens</th>\n",
       "    </tr>\n",
       "    <tr>\n",
       "      <th>Id</th>\n",
       "      <th></th>\n",
       "      <th></th>\n",
       "      <th></th>\n",
       "      <th></th>\n",
       "      <th></th>\n",
       "      <th></th>\n",
       "      <th></th>\n",
       "    </tr>\n",
       "  </thead>\n",
       "  <tbody>\n",
       "    <tr>\n",
       "      <th>4</th>\n",
       "      <td>How to convert a Decimal to a Double in C#?</td>\n",
       "      <td>&lt;p&gt;I want to use a &lt;code&gt;Track-Bar&lt;/code&gt; to c...</td>\n",
       "      <td>&lt;c#&gt;&lt;floating-point&gt;&lt;type-conversion&gt;&lt;double&gt;&lt;...</td>\n",
       "      <td>use,change,opacity,code,application,error,work...</td>\n",
       "      <td>convert</td>\n",
       "      <td>c#,floating-point,type-conversion,double,decimal</td>\n",
       "      <td>convert,use,change,opacity,code,application,er...</td>\n",
       "    </tr>\n",
       "    <tr>\n",
       "      <th>11</th>\n",
       "      <td>Calculate relative time in C#</td>\n",
       "      <td>&lt;p&gt;Given a specific &lt;code&gt;DateTime&lt;/code&gt; valu...</td>\n",
       "      <td>&lt;c#&gt;&lt;datetime&gt;&lt;time&gt;&lt;datediff&gt;&lt;relative-time-s...</td>\n",
       "      <td>value,display,time,hour,day,month</td>\n",
       "      <td>calculate,time</td>\n",
       "      <td>c#,datetime,time,datediff,relative-time-span</td>\n",
       "      <td>calculate,time,value,display,time,hour,day,month</td>\n",
       "    </tr>\n",
       "    <tr>\n",
       "      <th>13</th>\n",
       "      <td>Determine a user's timezone</td>\n",
       "      <td>&lt;p&gt;Is there a standard way for a web server to...</td>\n",
       "      <td>&lt;html&gt;&lt;browser&gt;&lt;timezone&gt;&lt;user-agent&gt;&lt;timezone...</td>\n",
       "      <td>way,web,server,determine,user,timezone,page,he...</td>\n",
       "      <td>determine,user,timezone</td>\n",
       "      <td>html,browser,timezone,user-agent,timezone-offset</td>\n",
       "      <td>determine,user,timezone,way,web,server,determi...</td>\n",
       "    </tr>\n",
       "    <tr>\n",
       "      <th>19</th>\n",
       "      <td>What is the fastest way to get the value of π?</td>\n",
       "      <td>&lt;p&gt;I'm looking for the fastest way to obtain t...</td>\n",
       "      <td>&lt;performance&gt;&lt;algorithm&gt;&lt;language-agnostic&gt;&lt;un...</td>\n",
       "      <td>way,obtain,value,π,challenge,way,involve,const...</td>\n",
       "      <td>way,get,value,π</td>\n",
       "      <td>performance,algorithm,language-agnostic,unix,pi</td>\n",
       "      <td>way,get,value,π,way,obtain,value,π,challenge,w...</td>\n",
       "    </tr>\n",
       "    <tr>\n",
       "      <th>25</th>\n",
       "      <td>How to use the C socket API in C++ on z/OS</td>\n",
       "      <td>&lt;p&gt;I'm having issues getting the C sockets API...</td>\n",
       "      <td>&lt;c++&gt;&lt;c&gt;&lt;sockets&gt;&lt;mainframe&gt;&lt;zos&gt;</td>\n",
       "      <td>issue,socket,work,c++,z/os,get,time,error,some...</td>\n",
       "      <td>use,c,socket,api,c++,z/os</td>\n",
       "      <td>c++,c,sockets,mainframe,zos</td>\n",
       "      <td>use,c,socket,api,c++,z/os,issue,socket,work,c+...</td>\n",
       "    </tr>\n",
       "  </tbody>\n",
       "</table>\n",
       "</div>"
      ],
      "text/plain": [
       "                                             Title  \\\n",
       "Id                                                   \n",
       "4      How to convert a Decimal to a Double in C#?   \n",
       "11                   Calculate relative time in C#   \n",
       "13                     Determine a user's timezone   \n",
       "19  What is the fastest way to get the value of π?   \n",
       "25      How to use the C socket API in C++ on z/OS   \n",
       "\n",
       "                                                 Body  \\\n",
       "Id                                                      \n",
       "4   <p>I want to use a <code>Track-Bar</code> to c...   \n",
       "11  <p>Given a specific <code>DateTime</code> valu...   \n",
       "13  <p>Is there a standard way for a web server to...   \n",
       "19  <p>I'm looking for the fastest way to obtain t...   \n",
       "25  <p>I'm having issues getting the C sockets API...   \n",
       "\n",
       "                                                 Tags  \\\n",
       "Id                                                      \n",
       "4   <c#><floating-point><type-conversion><double><...   \n",
       "11  <c#><datetime><time><datediff><relative-time-s...   \n",
       "13  <html><browser><timezone><user-agent><timezone...   \n",
       "19  <performance><algorithm><language-agnostic><un...   \n",
       "25                  <c++><c><sockets><mainframe><zos>   \n",
       "\n",
       "                                          Body_tokens  \\\n",
       "Id                                                      \n",
       "4   use,change,opacity,code,application,error,work...   \n",
       "11                  value,display,time,hour,day,month   \n",
       "13  way,web,server,determine,user,timezone,page,he...   \n",
       "19  way,obtain,value,π,challenge,way,involve,const...   \n",
       "25  issue,socket,work,c++,z/os,get,time,error,some...   \n",
       "\n",
       "                 Title_tokens  \\\n",
       "Id                              \n",
       "4                     convert   \n",
       "11             calculate,time   \n",
       "13    determine,user,timezone   \n",
       "19            way,get,value,π   \n",
       "25  use,c,socket,api,c++,z/os   \n",
       "\n",
       "                                         Tags_tokens  \\\n",
       "Id                                                     \n",
       "4   c#,floating-point,type-conversion,double,decimal   \n",
       "11      c#,datetime,time,datediff,relative-time-span   \n",
       "13  html,browser,timezone,user-agent,timezone-offset   \n",
       "19   performance,algorithm,language-agnostic,unix,pi   \n",
       "25                       c++,c,sockets,mainframe,zos   \n",
       "\n",
       "                                    Title_Body_tokens  \n",
       "Id                                                     \n",
       "4   convert,use,change,opacity,code,application,er...  \n",
       "11   calculate,time,value,display,time,hour,day,month  \n",
       "13  determine,user,timezone,way,web,server,determi...  \n",
       "19  way,get,value,π,way,obtain,value,π,challenge,w...  \n",
       "25  use,c,socket,api,c++,z/os,issue,socket,work,c+...  "
      ]
     },
     "execution_count": 2,
     "metadata": {},
     "output_type": "execute_result"
    }
   ],
   "source": [
    "df = pd.read_csv('./data/df.csv', index_col=0)\n",
    "\n",
    "df.head()"
   ]
  },
  {
   "cell_type": "markdown",
   "metadata": {},
   "source": [
    "# Preprocessing"
   ]
  },
  {
   "cell_type": "markdown",
   "metadata": {},
   "source": [
    "In order to pass our data to the various models, we need to process it and transform it into numerical features.\n",
    "* First, we apply a split to generate a *traning* and a *test set*. The transformers will be fit on the training data to transform the test data, thus avoiding *data leakage*.\n",
    "* In order to limit dimensionality, we detect the terms with the highest frequencies on the train set and keep the corresponding terms in the test set. We apply this methodology for both the question *content* and *tags*.\n",
    "* We filter the *corpus* in order to keep the documents that have at least 3 *top tags* to improve the performance of the models.\n",
    "* We vectorize the *content* using a *TfidVectorizer*.\n",
    "* We vectorize the *tags* using a *MultiLabelBinarizer*.\n",
    "* In order to further reduce dimentionality, we apply a *TruncatedSVD* on the question *content* vectors.\n",
    "\n",
    "The following schema sums up the applied transformations:"
   ]
  },
  {
   "cell_type": "code",
   "execution_count": 3,
   "metadata": {},
   "outputs": [
    {
     "data": {
      "image/png": "[encoded data removed]",
      "text/plain": [
       "<IPython.core.display.Image object>"
      ]
     },
     "execution_count": 3,
     "metadata": {},
     "output_type": "execute_result"
    }
   ],
   "source": [
    "Image(filename='./assets/processing.png')"
   ]
  },
  {
   "cell_type": "code",
   "execution_count": 4,
   "metadata": {},
   "outputs": [],
   "source": [
    "def gen_frequencies(series):\n",
    "\n",
    "    dist = FreqDist(','.join(series).split(','))\n",
    "\n",
    "    return dist"
   ]
  },
  {
   "cell_type": "markdown",
   "metadata": {},
   "source": [
    "We create a function to extract the top terms from the frequencies dictionary:"
   ]
  },
  {
   "cell_type": "code",
   "execution_count": 5,
   "metadata": {},
   "outputs": [],
   "source": [
    "def extract_top(frequencies:dict, n_top:int):\n",
    "\n",
    "    top_values = pd.DataFrame(\n",
    "        {'Tag':frequencies.keys(), 'Frequency':frequencies.values()}\n",
    "        ).sort_values('Frequency', ascending=False).head(n_top)['Tag'].values\n",
    "    \n",
    "    return top_values"
   ]
  },
  {
   "cell_type": "markdown",
   "metadata": {},
   "source": [
    "We create a function to keep only the top terms for each value of a *series*:"
   ]
  },
  {
   "cell_type": "code",
   "execution_count": 6,
   "metadata": {},
   "outputs": [],
   "source": [
    "def keep_top(series:pd.Series, top_values:list):\n",
    "    \n",
    "    series = series.apply(lambda cell: list(set(cell.split(',')).intersection(top_values)))\n",
    "\n",
    "    return series"
   ]
  },
  {
   "cell_type": "markdown",
   "metadata": {},
   "source": [
    "We develop a *python class* to:\n",
    "* Fit the transformers,\n",
    "* Transform the dataset,\n",
    "* Transform the predictions of the models back into human readable format.\n",
    "\n",
    "We dispose of a limited processing power and choose to generate a *X set* with 600 features reduced to 350, and a *y set* 200 *tags*:"
   ]
  },
  {
   "cell_type": "code",
   "execution_count": 7,
   "metadata": {},
   "outputs": [
    {
     "name": "stdout",
     "output_type": "stream",
     "text": [
      "Dropped Train samples: 30000\n",
      "Dropped Test samples: 7505\n",
      "TruncatedSVD explained variance ratio: 0.96\n",
      "Train size: 10000\n",
      "Test size: 2495\n"
     ]
    }
   ],
   "source": [
    "class DatasetTransformer():\n",
    "\n",
    "    def __init__(self, df:pd.DataFrame, X:str, y:str):\n",
    "\n",
    "        self.dataset = df\n",
    "        self.X = X\n",
    "        self.y = y\n",
    "        self.X_values = df[X]\n",
    "        self.y_values = df[y]\n",
    "        self.test_df = None\n",
    "        self.multi_label_binarizer = None\n",
    "        self.tfid_vectorizer = None\n",
    "        self.truncated_svd = None\n",
    "    \n",
    "    def gen_train_test(self, top_tags, max_features, n_components=None, dimensional_red=True):\n",
    "        \n",
    "        # Apply a train test split on the data\n",
    "        X_train, X_test, y_train, y_test = train_test_split(\n",
    "            self.X_values,\n",
    "            self.y_values,\n",
    "            test_size=0.2,\n",
    "            random_state=42)\n",
    "        \n",
    "        # y processing\n",
    "\n",
    "        # Calculate the tags frequencies\n",
    "        y_frequencies = gen_frequencies(y_train)\n",
    "        # Extract the top tags\n",
    "        self.top_tags = extract_top(y_frequencies, top_tags)\n",
    "        # Keep only the top tags from the target\n",
    "        y_train = keep_top(y_train, self.top_tags)\n",
    "        y_test = keep_top(y_test, self.top_tags)\n",
    "\n",
    "        # Drop the empty rows with to few filtered tags\n",
    "        train_drop = y_train[y_train.map(len) <= 3].keys()\n",
    "        test_drop = y_test[y_test.map(len) <= 3].keys()\n",
    "        y_train.drop(train_drop,inplace=True)\n",
    "        y_test.drop(test_drop,inplace=True)\n",
    "\n",
    "        self.X_train_raw = X_train\n",
    "        self.X_test_raw = X_test\n",
    "        self.y_train_raw = y_train\n",
    "        self.y_test_raw = y_test\n",
    "\n",
    "        print(f'Dropped Train samples: {train_drop.shape[0]}')\n",
    "        print(f'Dropped Test samples: {test_drop.shape[0]}')\n",
    "\n",
    "        # Binarize the target\n",
    "        self.multi_label_binarizer = MultiLabelBinarizer(classes=self.top_tags)\n",
    "        y_train_matrix = self.multi_label_binarizer.fit_transform(y_train)\n",
    "        y_test_matrix = self.multi_label_binarizer.transform(y_test)\n",
    "        \n",
    "        # Convert the matrixes back to pandas DataFrames\n",
    "        tags = self.multi_label_binarizer.classes_\n",
    "        y_train_df = pd.DataFrame(\n",
    "            data=y_train_matrix,\n",
    "            index=y_train.index,\n",
    "            columns=tags)\n",
    "        y_test_df = pd.DataFrame(\n",
    "            data=y_test_matrix,\n",
    "            index=y_test.index,\n",
    "            columns=tags)\n",
    "\n",
    "        # Extract the y data to join predictions later\n",
    "        self.test_df = self.dataset.loc[y_test_df.index, :]\n",
    "        self.test_df['Tags_target'] = y_test.str.join(',')\n",
    "\n",
    "        # X processing\n",
    "\n",
    "        X_train.drop(train_drop, inplace=True)\n",
    "        X_test.drop(test_drop, inplace=True)\n",
    "        # Keep the terms with the top frequencies using the max_features arg\n",
    "        self.tfid_vectorizer = TfidfVectorizer(max_features=max_features)\n",
    "        # Fit and transform with the Tfid vectorizer on X train\n",
    "        self.X_train_matrix = self.tfid_vectorizer.fit_transform(X_train)\n",
    "        # Transform X test\n",
    "        self.X_test_matrix = self.tfid_vectorizer.transform(X_test)\n",
    "\n",
    "        # Convert matrixes to dataframe to be used with the Random Forest\n",
    "        features = self.tfid_vectorizer.get_feature_names_out()\n",
    "        X_train_df = pd.DataFrame(\n",
    "            data=self.X_train_matrix.toarray(),\n",
    "            index=X_train.index,\n",
    "            columns=features)\n",
    "        X_test_df = pd.DataFrame(\n",
    "            data=self.X_test_matrix.toarray(),\n",
    "            index=X_test.index,\n",
    "            columns=features)\n",
    "\n",
    "        if dimensional_red:\n",
    "            # Apply TruncatedSVD to reduce dimentionality\n",
    "            self.truncated_svd = TruncatedSVD(n_components=n_components)\n",
    "            self.X_train_matrix = self.truncated_svd.fit_transform(self.X_train_matrix)\n",
    "            # Transform X test\n",
    "            self.X_test_matrix = self.truncated_svd.transform(self.X_test_matrix)\n",
    "\n",
    "            explained_variance = round(sum(\n",
    "                self.truncated_svd.explained_variance_ratio_), 2)\n",
    "            print(f'TruncatedSVD explained variance ratio: {explained_variance}')\n",
    "\n",
    "            # Convert the matrixes back to pandas DataFrames\n",
    "            components = list(range(n_components))\n",
    "            features = self.tfid_vectorizer.get_feature_names_out()\n",
    "            X_train_df = pd.DataFrame(\n",
    "                data=self.X_train_matrix,\n",
    "                index=X_train.index,\n",
    "                columns=components)\n",
    "            X_test_df = pd.DataFrame(\n",
    "                data=self.X_test_matrix,\n",
    "                index=X_test.index,\n",
    "                columns=components)\n",
    "\n",
    "        print(f'Train size: {X_train.shape[0]}')\n",
    "        print(f'Test size: {X_test.shape[0]}')\n",
    "\n",
    "        return X_train_df, X_test_df, y_train_df, y_test_df\n",
    "\n",
    "    def join_predictions(self, name:str, predictions:np.array):\n",
    "\n",
    "        # Use the binarizer to inverse transform the prediction array\n",
    "        predictions = self.multi_label_binarizer.inverse_transform(predictions)\n",
    "        # Add the predictions to the dataset\n",
    "        self.test_df[name] = predictions\n",
    "\n",
    "        return self.test_df[[self.X, self.y, 'Tags_target', name]]\n",
    "    \n",
    "    def get_predictions(self):\n",
    "\n",
    "        return self.test_df\n",
    "\n",
    "\n",
    "transformer = DatasetTransformer(df, 'Title_Body_tokens', 'Tags_tokens')\n",
    "X_train, X_test, y_train, y_test = transformer.gen_train_test(250, 1250, 990)"
   ]
  },
  {
   "cell_type": "markdown",
   "metadata": {},
   "source": [
    "We plot the scree plot of the *TruncatedSVD*. The *TruncatedSVD* is considered fit once it reaches an explained variance ratio of 0.8, however we will fit voluntarily fit at more than 0.95 of explained variance, in order to loose a minimal amount of information (which in this case would be detrimental to our models)."
   ]
  },
  {
   "cell_type": "code",
   "execution_count": 8,
   "metadata": {},
   "outputs": [
    {
     "data": {
      "image/png": "[encoded data removed]",
      "text/plain": [
       "<Figure size 1008x864 with 1 Axes>"
      ]
     },
     "metadata": {
      "needs_background": "light"
     },
     "output_type": "display_data"
    }
   ],
   "source": [
    "display_scree_plot(transformer.truncated_svd)"
   ]
  },
  {
   "cell_type": "markdown",
   "metadata": {},
   "source": [
    "# Evaluation"
   ]
  },
  {
   "cell_type": "markdown",
   "metadata": {},
   "source": [
    "For each experiment, we will calculate the following metrics:\n",
    "* *sampled Jaccard*: \n",
    "* *weighted Recall*: our objective is to minimize the number of *false negatives*, which would result in a higher *recall* score. We are facing and imbalanced repartition of classes, therefore we will use the *weighted* version of the score.\n",
    "* *ratio of target tags hit*: in combination with the *recall score*, we will compute the number of tags that have been found amongst the filtered *tags*, the equivalent of the accuracy for each document, and calcalute its *mean* as the *ratio of tags hit*,\n",
    "* *ratio of tags hit*: we use use the same approach on the initial *tags*, which haven't been filtered in order to get an evaluation of how many actual *tags* are predicted,\n",
    "* *inference time*: the average time to infer a document of the *test set* in seconds,\n",
    "* *model size*: the size of the model in megabytes.\n",
    "\n",
    "We create a class to evaluate and keep track of our experiments results:"
   ]
  },
  {
   "cell_type": "code",
   "execution_count": 9,
   "metadata": {},
   "outputs": [],
   "source": [
    "def count_values(y_true, y_hat):\n",
    "\n",
    "    y_true = y_true.split(',')\n",
    "    y_hat = list(y_hat)[:5]\n",
    "    score_max = len(y_true)\n",
    "    score = 0\n",
    "\n",
    "    for pred in y_hat:\n",
    "\n",
    "        if pred in y_true:\n",
    "\n",
    "            score += 1\n",
    "\n",
    "    return score / score_max\n",
    "\n",
    "\n",
    "class PerformanceReport():\n",
    "\n",
    "    def __init__(self, true:str, target:str):\n",
    "        \n",
    "        # Initialize our report DataFrame\n",
    "        self.y_true = true\n",
    "        self.y_target = target\n",
    "        self.columns = [\n",
    "            'Jaccard',\n",
    "            'Recall',\n",
    "            'Inference_time',\n",
    "            'Model_size_mb',\n",
    "            'Targets_hit',\n",
    "            'Tags_hit',\n",
    "            'Fill']\n",
    "        self.report = pd.DataFrame(columns=self.columns)\n",
    "\n",
    "    def evaluate(self, name:str, model, X_test:np.array, y_true:np.array, y_pred:np.array):\n",
    "        \n",
    "        # Predict with the model\n",
    "        tic()\n",
    "        model.predict(X_test)\n",
    "        # Calculate time spent\n",
    "        inference_time = toc() / X_test.shape[0]\n",
    "        # Dump model to disk\n",
    "        dump(model, './data/model.joblib')\n",
    "        # Get model file size\n",
    "        model_size = round(os.path.getsize('./data/model.joblib') / 1000000)\n",
    "        # Calculate the scores\n",
    "        recall = recall_score(y_true, y_pred, average='weighted')\n",
    "        jaccard = jaccard_score(y_true, y_pred, average='samples')\n",
    "\n",
    "        # Append the scores to our report\n",
    "        self.report.loc[name,self.columns[:4]] = [\n",
    "            jaccard,\n",
    "            recall,\n",
    "            inference_time,\n",
    "            model_size]\n",
    "            \n",
    "        print(pd.DataFrame(self.report.loc[name,self.columns[:4]]))\n",
    "\n",
    "    def tags_ratio(self, name:str, df:pd.DataFrame):\n",
    "\n",
    "        tags_hit = df.apply(lambda x: count_values(x[self.y_true], x[name]), axis=1)\n",
    "        self.report.loc[name, 'Tags_hit'] = np.mean(tags_hit)\n",
    "        targets_hit = df.apply(lambda x: count_values(x[self.y_target], x[name]), axis=1)\n",
    "        self.report.loc[name, 'Targets_hit'] = np.mean(targets_hit)\n",
    "        filled_ratio = df[name].apply(len).sum() / df[self.y_target].str.split(',').apply(len).sum()\n",
    "        self.report.loc[name, 'Fill'] = np.mean(filled_ratio)\n",
    "        print(f\"Ratio of target tags hit: {round(self.report.loc[name,'Targets_hit'], 4)}\")\n",
    "        print(f\"Ratio of tags hit: {round(self.report.loc[name,'Tags_hit'], 4)}\")\n",
    "        print(f\"Average fill: {round(self.report.loc[name,'Fill'], 4)}\")\n",
    "\n",
    "    def clean_files(self):\n",
    "\n",
    "        os.remove('./data/model.joblib')\n",
    "\n",
    "    def get(self):\n",
    "\n",
    "        return self.report\n",
    "\n",
    "\n",
    "report = PerformanceReport(true='Tags_tokens', target='Tags_target')"
   ]
  },
  {
   "cell_type": "markdown",
   "metadata": {},
   "source": [
    "# Modelling"
   ]
  },
  {
   "cell_type": "markdown",
   "metadata": {},
   "source": [
    "## Unsupervised"
   ]
  },
  {
   "cell_type": "markdown",
   "metadata": {},
   "source": [
    "### LDA"
   ]
  },
  {
   "cell_type": "markdown",
   "metadata": {},
   "source": [
    "For the preprocessing of the data used by the *LDA model*, we are going to use the included *gensim* library methods.\\\n",
    "Moreover, we will not be able to calculate the standard metrics that we choosed to compare the *supervised machine learning algorithms* as we do not use the *y* data for predicting.\n",
    "\n",
    "We create a *dictionary* with the training data and convert it to a *bag of words corpus*:"
   ]
  },
  {
   "cell_type": "code",
   "execution_count": 10,
   "metadata": {},
   "outputs": [
    {
     "data": {
      "text/plain": [
       "['.net',\n",
       " 'thread',\n",
       " 'exception',\n",
       " 'interface',\n",
       " 'ipoller',\n",
       " 'implementation',\n",
       " 'process',\n",
       " 'take',\n",
       " 'ipoller',\n",
       " 'start']"
      ]
     },
     "execution_count": 10,
     "metadata": {},
     "output_type": "execute_result"
    }
   ],
   "source": [
    "texts_train = transformer.X_train_raw.str.split(',')\n",
    "texts_train.values[0][:10]  # First 10 terms of the first document"
   ]
  },
  {
   "cell_type": "code",
   "execution_count": 11,
   "metadata": {},
   "outputs": [
    {
     "data": {
      "text/plain": [
       "[(0, 1),\n",
       " (1, 1),\n",
       " (2, 1),\n",
       " (3, 1),\n",
       " (4, 1),\n",
       " (5, 3),\n",
       " (6, 1),\n",
       " (7, 2),\n",
       " (8, 1),\n",
       " (9, 1)]"
      ]
     },
     "execution_count": 11,
     "metadata": {},
     "output_type": "execute_result"
    }
   ],
   "source": [
    "dictionary = corpora.Dictionary(texts_train)\n",
    "# We keep the 990 most frequent terms (as with the supervised learning)\n",
    "dictionary.filter_extremes(keep_n=990)\n",
    "corpus_train = [dictionary.doc2bow(text) for text in texts_train]\n",
    "corpus_train[0][:10]  # First 10 terms of the first document"
   ]
  },
  {
   "cell_type": "markdown",
   "metadata": {},
   "source": [
    "We transform the test data using the training *dictionary*:"
   ]
  },
  {
   "cell_type": "code",
   "execution_count": 12,
   "metadata": {},
   "outputs": [
    {
     "data": {
      "text/plain": [
       "[(40, 1), (166, 1), (221, 1), (305, 1), (458, 1), (509, 1), (774, 2)]"
      ]
     },
     "execution_count": 12,
     "metadata": {},
     "output_type": "execute_result"
    }
   ],
   "source": [
    "texts_test = transformer.X_test_raw.str.split(',')\n",
    "corpus_test = [dictionary.doc2bow(text) for text in texts_test]\n",
    "corpus_test[0]  # First 10 terms of the first document"
   ]
  },
  {
   "cell_type": "markdown",
   "metadata": {},
   "source": [
    "We test various N topics in order to calculate the coherence and perplexity scores:"
   ]
  },
  {
   "cell_type": "code",
   "execution_count": 13,
   "metadata": {},
   "outputs": [
    {
     "data": {
      "application/vnd.plotly.v1+json": {
       "config": {
        "plotlyServerURL": "https://plot.ly"
       },
       "data": [
        {
         "name": "Coherence",
         "type": "scatter",
         "x": [
          1,
          2,
          3,
          4,
          5,
          6,
          7,
          8,
          9,
          10,
          11,
          12,
          13,
          14,
          15,
          16,
          17,
          18,
          19,
          20,
          21,
          22,
          23,
          24,
          25,
          26,
          27,
          28,
          29,
          30,
          31,
          32,
          33,
          34,
          35,
          36,
          37,
          38,
          39,
          40,
          41,
          42,
          43,
          44,
          45,
          46,
          47,
          48,
          49
         ],
         "xaxis": "x",
         "y": [
          0.3469753593590716,
          0.33406128003910585,
          0.360692737752804,
          0.396382870760625,
          0.40165505094346293,
          0.4167985356657306,
          0.4056001447237479,
          0.3913384657508776,
          0.4107186965858277,
          0.4079563689474818,
          0.4003846514921765,
          0.4146037911688584,
          0.41081306719287797,
          0.42029098852670055,
          0.4176131567964084,
          0.40548262961302617,
          0.41830179110698,
          0.40641848331780306,
          0.41387978666993114,
          0.4001335383781025,
          0.40481502586769363,
          0.4101048242732388,
          0.41619758579989113,
          0.40904166750886367,
          0.40221721536466865,
          0.3957188390901087,
          0.3987692842075891,
          0.4162200929229075,
          0.4044510777737321,
          0.4067137187246732,
          0.41143439342091903,
          0.4028216182321881,
          0.4089363297968335,
          0.39090701917394255,
          0.4118212892447093,
          0.4021929992981212,
          0.4092659468278286,
          0.4081225715387768,
          0.4024498428442754,
          0.40157893530587874,
          0.3947996708792952,
          0.3920189246554108,
          0.3878488980231281,
          0.38994048994751673,
          0.39646441292320034,
          0.39978151338312967,
          0.388949815213004,
          0.39363931892789245,
          0.3921782866358005
         ],
         "yaxis": "y"
        },
        {
         "name": "Perplexity",
         "type": "scatter",
         "x": [
          1,
          2,
          3,
          4,
          5,
          6,
          7,
          8,
          9,
          10,
          11,
          12,
          13,
          14,
          15,
          16,
          17,
          18,
          19,
          20,
          21,
          22,
          23,
          24,
          25,
          26,
          27,
          28,
          29,
          30,
          31,
          32,
          33,
          34,
          35,
          36,
          37,
          38,
          39,
          40,
          41,
          42,
          43,
          44,
          45,
          46,
          47,
          48,
          49
         ],
         "xaxis": "x",
         "y": [
          -6.251116632796424,
          -6.238860915284309,
          -6.199233646781148,
          -6.170174978779958,
          -6.169854426006102,
          -6.155082940960923,
          -6.141702749173925,
          -6.1376770738802415,
          -6.137046567595689,
          -6.137334059923184,
          -6.1372753771061666,
          -6.135670875168119,
          -6.1156916722317645,
          -6.119636703557864,
          -6.117590654110659,
          -6.114143792422813,
          -6.1179875998144295,
          -6.116592635778819,
          -6.1175729112587565,
          -6.116887087713621,
          -6.12134853559679,
          -6.119403927080175,
          -6.1222304991244005,
          -6.127561355182808,
          -6.140141699854539,
          -6.136271315262352,
          -6.134322377191348,
          -6.130933639994984,
          -6.153021393655303,
          -6.146913290655692,
          -6.1366837148283535,
          -6.1462796096334955,
          -6.144751773908366,
          -6.163829833285675,
          -6.170047752780607,
          -6.164109292375585,
          -6.164117832405281,
          -6.1872795953916135,
          -6.178726756271994,
          -6.17593380898449,
          -6.193737647441561,
          -6.197840572910072,
          -6.20600861459751,
          -6.199602921948941,
          -6.2044605421314145,
          -6.201655502696291,
          -6.21085463372619,
          -6.219760674921205,
          -6.226106752546978
         ],
         "yaxis": "y2"
        }
       ],
       "layout": {
        "height": 600,
        "template": {
         "data": {
          "bar": [
           {
            "error_x": {
             "color": "#2a3f5f"
            },
            "error_y": {
             "color": "#2a3f5f"
            },
            "marker": {
             "line": {
              "color": "#E5ECF6",
              "width": 0.5
             },
             "pattern": {
              "fillmode": "overlay",
              "size": 10,
              "solidity": 0.2
             }
            },
            "type": "bar"
           }
          ],
          "barpolar": [
           {
            "marker": {
             "line": {
              "color": "#E5ECF6",
              "width": 0.5
             },
             "pattern": {
              "fillmode": "overlay",
              "size": 10,
              "solidity": 0.2
             }
            },
            "type": "barpolar"
           }
          ],
          "carpet": [
           {
            "aaxis": {
             "endlinecolor": "#2a3f5f",
             "gridcolor": "white",
             "linecolor": "white",
             "minorgridcolor": "white",
             "startlinecolor": "#2a3f5f"
            },
            "baxis": {
             "endlinecolor": "#2a3f5f",
             "gridcolor": "white",
             "linecolor": "white",
             "minorgridcolor": "white",
             "startlinecolor": "#2a3f5f"
            },
            "type": "carpet"
           }
          ],
          "choropleth": [
           {
            "colorbar": {
             "outlinewidth": 0,
             "ticks": ""
            },
            "type": "choropleth"
           }
          ],
          "contour": [
           {
            "colorbar": {
             "outlinewidth": 0,
             "ticks": ""
            },
            "colorscale": [
             [
              0,
              "#0d0887"
             ],
             [
              0.1111111111111111,
              "#46039f"
             ],
             [
              0.2222222222222222,
              "#7201a8"
             ],
             [
              0.3333333333333333,
              "#9c179e"
             ],
             [
              0.4444444444444444,
              "#bd3786"
             ],
             [
              0.5555555555555556,
              "#d8576b"
             ],
             [
              0.6666666666666666,
              "#ed7953"
             ],
             [
              0.7777777777777778,
              "#fb9f3a"
             ],
             [
              0.8888888888888888,
              "#fdca26"
             ],
             [
              1,
              "#f0f921"
             ]
            ],
            "type": "contour"
           }
          ],
          "contourcarpet": [
           {
            "colorbar": {
             "outlinewidth": 0,
             "ticks": ""
            },
            "type": "contourcarpet"
           }
          ],
          "heatmap": [
           {
            "colorbar": {
             "outlinewidth": 0,
             "ticks": ""
            },
            "colorscale": [
             [
              0,
              "#0d0887"
             ],
             [
              0.1111111111111111,
              "#46039f"
             ],
             [
              0.2222222222222222,
              "#7201a8"
             ],
             [
              0.3333333333333333,
              "#9c179e"
             ],
             [
              0.4444444444444444,
              "#bd3786"
             ],
             [
              0.5555555555555556,
              "#d8576b"
             ],
             [
              0.6666666666666666,
              "#ed7953"
             ],
             [
              0.7777777777777778,
              "#fb9f3a"
             ],
             [
              0.8888888888888888,
              "#fdca26"
             ],
             [
              1,
              "#f0f921"
             ]
            ],
            "type": "heatmap"
           }
          ],
          "heatmapgl": [
           {
            "colorbar": {
             "outlinewidth": 0,
             "ticks": ""
            },
            "colorscale": [
             [
              0,
              "#0d0887"
             ],
             [
              0.1111111111111111,
              "#46039f"
             ],
             [
              0.2222222222222222,
              "#7201a8"
             ],
             [
              0.3333333333333333,
              "#9c179e"
             ],
             [
              0.4444444444444444,
              "#bd3786"
             ],
             [
              0.5555555555555556,
              "#d8576b"
             ],
             [
              0.6666666666666666,
              "#ed7953"
             ],
             [
              0.7777777777777778,
              "#fb9f3a"
             ],
             [
              0.8888888888888888,
              "#fdca26"
             ],
             [
              1,
              "#f0f921"
             ]
            ],
            "type": "heatmapgl"
           }
          ],
          "histogram": [
           {
            "marker": {
             "pattern": {
              "fillmode": "overlay",
              "size": 10,
              "solidity": 0.2
             }
            },
            "type": "histogram"
           }
          ],
          "histogram2d": [
           {
            "colorbar": {
             "outlinewidth": 0,
             "ticks": ""
            },
            "colorscale": [
             [
              0,
              "#0d0887"
             ],
             [
              0.1111111111111111,
              "#46039f"
             ],
             [
              0.2222222222222222,
              "#7201a8"
             ],
             [
              0.3333333333333333,
              "#9c179e"
             ],
             [
              0.4444444444444444,
              "#bd3786"
             ],
             [
              0.5555555555555556,
              "#d8576b"
             ],
             [
              0.6666666666666666,
              "#ed7953"
             ],
             [
              0.7777777777777778,
              "#fb9f3a"
             ],
             [
              0.8888888888888888,
              "#fdca26"
             ],
             [
              1,
              "#f0f921"
             ]
            ],
            "type": "histogram2d"
           }
          ],
          "histogram2dcontour": [
           {
            "colorbar": {
             "outlinewidth": 0,
             "ticks": ""
            },
            "colorscale": [
             [
              0,
              "#0d0887"
             ],
             [
              0.1111111111111111,
              "#46039f"
             ],
             [
              0.2222222222222222,
              "#7201a8"
             ],
             [
              0.3333333333333333,
              "#9c179e"
             ],
             [
              0.4444444444444444,
              "#bd3786"
             ],
             [
              0.5555555555555556,
              "#d8576b"
             ],
             [
              0.6666666666666666,
              "#ed7953"
             ],
             [
              0.7777777777777778,
              "#fb9f3a"
             ],
             [
              0.8888888888888888,
              "#fdca26"
             ],
             [
              1,
              "#f0f921"
             ]
            ],
            "type": "histogram2dcontour"
           }
          ],
          "mesh3d": [
           {
            "colorbar": {
             "outlinewidth": 0,
             "ticks": ""
            },
            "type": "mesh3d"
           }
          ],
          "parcoords": [
           {
            "line": {
             "colorbar": {
              "outlinewidth": 0,
              "ticks": ""
             }
            },
            "type": "parcoords"
           }
          ],
          "pie": [
           {
            "automargin": true,
            "type": "pie"
           }
          ],
          "scatter": [
           {
            "marker": {
             "colorbar": {
              "outlinewidth": 0,
              "ticks": ""
             }
            },
            "type": "scatter"
           }
          ],
          "scatter3d": [
           {
            "line": {
             "colorbar": {
              "outlinewidth": 0,
              "ticks": ""
             }
            },
            "marker": {
             "colorbar": {
              "outlinewidth": 0,
              "ticks": ""
             }
            },
            "type": "scatter3d"
           }
          ],
          "scattercarpet": [
           {
            "marker": {
             "colorbar": {
              "outlinewidth": 0,
              "ticks": ""
             }
            },
            "type": "scattercarpet"
           }
          ],
          "scattergeo": [
           {
            "marker": {
             "colorbar": {
              "outlinewidth": 0,
              "ticks": ""
             }
            },
            "type": "scattergeo"
           }
          ],
          "scattergl": [
           {
            "marker": {
             "colorbar": {
              "outlinewidth": 0,
              "ticks": ""
             }
            },
            "type": "scattergl"
           }
          ],
          "scattermapbox": [
           {
            "marker": {
             "colorbar": {
              "outlinewidth": 0,
              "ticks": ""
             }
            },
            "type": "scattermapbox"
           }
          ],
          "scatterpolar": [
           {
            "marker": {
             "colorbar": {
              "outlinewidth": 0,
              "ticks": ""
             }
            },
            "type": "scatterpolar"
           }
          ],
          "scatterpolargl": [
           {
            "marker": {
             "colorbar": {
              "outlinewidth": 0,
              "ticks": ""
             }
            },
            "type": "scatterpolargl"
           }
          ],
          "scatterternary": [
           {
            "marker": {
             "colorbar": {
              "outlinewidth": 0,
              "ticks": ""
             }
            },
            "type": "scatterternary"
           }
          ],
          "surface": [
           {
            "colorbar": {
             "outlinewidth": 0,
             "ticks": ""
            },
            "colorscale": [
             [
              0,
              "#0d0887"
             ],
             [
              0.1111111111111111,
              "#46039f"
             ],
             [
              0.2222222222222222,
              "#7201a8"
             ],
             [
              0.3333333333333333,
              "#9c179e"
             ],
             [
              0.4444444444444444,
              "#bd3786"
             ],
             [
              0.5555555555555556,
              "#d8576b"
             ],
             [
              0.6666666666666666,
              "#ed7953"
             ],
             [
              0.7777777777777778,
              "#fb9f3a"
             ],
             [
              0.8888888888888888,
              "#fdca26"
             ],
             [
              1,
              "#f0f921"
             ]
            ],
            "type": "surface"
           }
          ],
          "table": [
           {
            "cells": {
             "fill": {
              "color": "#EBF0F8"
             },
             "line": {
              "color": "white"
             }
            },
            "header": {
             "fill": {
              "color": "#C8D4E3"
             },
             "line": {
              "color": "white"
             }
            },
            "type": "table"
           }
          ]
         },
         "layout": {
          "annotationdefaults": {
           "arrowcolor": "#2a3f5f",
           "arrowhead": 0,
           "arrowwidth": 1
          },
          "autotypenumbers": "strict",
          "coloraxis": {
           "colorbar": {
            "outlinewidth": 0,
            "ticks": ""
           }
          },
          "colorscale": {
           "diverging": [
            [
             0,
             "#8e0152"
            ],
            [
             0.1,
             "#c51b7d"
            ],
            [
             0.2,
             "#de77ae"
            ],
            [
             0.3,
             "#f1b6da"
            ],
            [
             0.4,
             "#fde0ef"
            ],
            [
             0.5,
             "#f7f7f7"
            ],
            [
             0.6,
             "#e6f5d0"
            ],
            [
             0.7,
             "#b8e186"
            ],
            [
             0.8,
             "#7fbc41"
            ],
            [
             0.9,
             "#4d9221"
            ],
            [
             1,
             "#276419"
            ]
           ],
           "sequential": [
            [
             0,
             "#0d0887"
            ],
            [
             0.1111111111111111,
             "#46039f"
            ],
            [
             0.2222222222222222,
             "#7201a8"
            ],
            [
             0.3333333333333333,
             "#9c179e"
            ],
            [
             0.4444444444444444,
             "#bd3786"
            ],
            [
             0.5555555555555556,
             "#d8576b"
            ],
            [
             0.6666666666666666,
             "#ed7953"
            ],
            [
             0.7777777777777778,
             "#fb9f3a"
            ],
            [
             0.8888888888888888,
             "#fdca26"
            ],
            [
             1,
             "#f0f921"
            ]
           ],
           "sequentialminus": [
            [
             0,
             "#0d0887"
            ],
            [
             0.1111111111111111,
             "#46039f"
            ],
            [
             0.2222222222222222,
             "#7201a8"
            ],
            [
             0.3333333333333333,
             "#9c179e"
            ],
            [
             0.4444444444444444,
             "#bd3786"
            ],
            [
             0.5555555555555556,
             "#d8576b"
            ],
            [
             0.6666666666666666,
             "#ed7953"
            ],
            [
             0.7777777777777778,
             "#fb9f3a"
            ],
            [
             0.8888888888888888,
             "#fdca26"
            ],
            [
             1,
             "#f0f921"
            ]
           ]
          },
          "colorway": [
           "#636efa",
           "#EF553B",
           "#00cc96",
           "#ab63fa",
           "#FFA15A",
           "#19d3f3",
           "#FF6692",
           "#B6E880",
           "#FF97FF",
           "#FECB52"
          ],
          "font": {
           "color": "#2a3f5f"
          },
          "geo": {
           "bgcolor": "white",
           "lakecolor": "white",
           "landcolor": "#E5ECF6",
           "showlakes": true,
           "showland": true,
           "subunitcolor": "white"
          },
          "hoverlabel": {
           "align": "left"
          },
          "hovermode": "closest",
          "mapbox": {
           "style": "light"
          },
          "paper_bgcolor": "white",
          "plot_bgcolor": "#E5ECF6",
          "polar": {
           "angularaxis": {
            "gridcolor": "white",
            "linecolor": "white",
            "ticks": ""
           },
           "bgcolor": "#E5ECF6",
           "radialaxis": {
            "gridcolor": "white",
            "linecolor": "white",
            "ticks": ""
           }
          },
          "scene": {
           "xaxis": {
            "backgroundcolor": "#E5ECF6",
            "gridcolor": "white",
            "gridwidth": 2,
            "linecolor": "white",
            "showbackground": true,
            "ticks": "",
            "zerolinecolor": "white"
           },
           "yaxis": {
            "backgroundcolor": "#E5ECF6",
            "gridcolor": "white",
            "gridwidth": 2,
            "linecolor": "white",
            "showbackground": true,
            "ticks": "",
            "zerolinecolor": "white"
           },
           "zaxis": {
            "backgroundcolor": "#E5ECF6",
            "gridcolor": "white",
            "gridwidth": 2,
            "linecolor": "white",
            "showbackground": true,
            "ticks": "",
            "zerolinecolor": "white"
           }
          },
          "shapedefaults": {
           "line": {
            "color": "#2a3f5f"
           }
          },
          "ternary": {
           "aaxis": {
            "gridcolor": "white",
            "linecolor": "white",
            "ticks": ""
           },
           "baxis": {
            "gridcolor": "white",
            "linecolor": "white",
            "ticks": ""
           },
           "bgcolor": "#E5ECF6",
           "caxis": {
            "gridcolor": "white",
            "linecolor": "white",
            "ticks": ""
           }
          },
          "title": {
           "x": 0.05
          },
          "xaxis": {
           "automargin": true,
           "gridcolor": "white",
           "linecolor": "white",
           "ticks": "",
           "title": {
            "standoff": 15
           },
           "zerolinecolor": "white",
           "zerolinewidth": 2
          },
          "yaxis": {
           "automargin": true,
           "gridcolor": "white",
           "linecolor": "white",
           "ticks": "",
           "title": {
            "standoff": 15
           },
           "zerolinecolor": "white",
           "zerolinewidth": 2
          }
         }
        },
        "title": {
         "text": "Scores per n topics"
        },
        "xaxis": {
         "anchor": "y",
         "domain": [
          0,
          0.94
         ],
         "title": {
          "text": "n topics"
         }
        },
        "yaxis": {
         "anchor": "x",
         "domain": [
          0,
          1
         ],
         "title": {
          "text": "Coherence score"
         }
        },
        "yaxis2": {
         "anchor": "x",
         "overlaying": "y",
         "side": "right",
         "title": {
          "text": "Perplexity score"
         }
        }
       }
      }
     },
     "metadata": {},
     "output_type": "display_data"
    }
   ],
   "source": [
    "TOPICS_RANGE = list(range(1, 50, 1))\n",
    "coherence_scores = list()\n",
    "perplexity_scores = list()\n",
    "models = list()\n",
    "\n",
    "for n_topics in TOPICS_RANGE:\n",
    "\n",
    "    # Fit a LDA model for each n_topics\n",
    "    lda_model = LdaMulticore(\n",
    "        corpus=corpus_train,\n",
    "        id2word=dictionary,\n",
    "        num_topics=n_topics,\n",
    "        random_state=42,\n",
    "        passes=10,\n",
    "        workers=24)\n",
    "    models.append(lda_model)\n",
    "\n",
    "    perplexity_scores.append(lda_model.log_perplexity(corpus_train))\n",
    "\n",
    "    # Fit a coherence model for each n_topics to calculate the score\n",
    "    coherence_model = CoherenceModel(\n",
    "        model=lda_model, \n",
    "        texts=texts_train,\n",
    "        dictionary=dictionary,\n",
    "        coherence='c_v')\n",
    "    coherence_scores.append(coherence_model.get_coherence())\n",
    "\n",
    "# Plot the results\n",
    "fig = make_subplots(specs=[[{\"secondary_y\": True}]])\n",
    "fig.add_trace(\n",
    "    go.Scatter(x=TOPICS_RANGE, y=coherence_scores, name='Coherence'),\n",
    "    secondary_y=False)\n",
    "fig.add_trace(\n",
    "    go.Scatter(x=TOPICS_RANGE, y=perplexity_scores, name='Perplexity'),\n",
    "    secondary_y=True)\n",
    "fig.update_layout(title_text=f\"Scores per n topics\")\n",
    "fig.update_xaxes(title_text='n topics')\n",
    "fig.update_yaxes(title_text=\"Coherence score\", secondary_y=False)\n",
    "fig.update_yaxes(title_text=\"Perplexity score\", secondary_y=True)\n",
    "fig.update_layout(height=600)\n",
    "fig.show()"
   ]
  },
  {
   "cell_type": "markdown",
   "metadata": {},
   "source": [
    "The coherence score hits an optimum with 14 topics, we fit a model accordingly:"
   ]
  },
  {
   "cell_type": "code",
   "execution_count": 14,
   "metadata": {},
   "outputs": [],
   "source": [
    "lda_model = LdaMulticore(\n",
    "    corpus=corpus_train,\n",
    "    id2word=dictionary,\n",
    "    num_topics=14,\n",
    "    random_state=42,\n",
    "    passes=10,\n",
    "    workers=24)"
   ]
  },
  {
   "cell_type": "markdown",
   "metadata": {},
   "source": [
    "We can display the generated *topics* and their *term frequencies* using the pyLDAvis library:"
   ]
  },
  {
   "cell_type": "code",
   "execution_count": 15,
   "metadata": {},
   "outputs": [
    {
     "name": "stderr",
     "output_type": "stream",
     "text": [
      "/opt/homebrew/Caskroom/miniforge/base/envs/P5/lib/python3.9/site-packages/pyLDAvis/_prepare.py:246: FutureWarning:\n",
      "\n",
      "In a future version of pandas all arguments of DataFrame.drop except for the argument 'labels' will be keyword-only.\n",
      "\n",
      "/opt/homebrew/Caskroom/miniforge/base/envs/P5/lib/python3.9/site-packages/past/builtins/misc.py:45: DeprecationWarning: the imp module is deprecated in favour of importlib; see the module's documentation for alternative uses\n",
      "  from imp import reload\n",
      "/opt/homebrew/Caskroom/miniforge/base/envs/P5/lib/python3.9/site-packages/past/builtins/misc.py:45: DeprecationWarning: the imp module is deprecated in favour of importlib; see the module's documentation for alternative uses\n",
      "  from imp import reload\n",
      "/opt/homebrew/Caskroom/miniforge/base/envs/P5/lib/python3.9/site-packages/past/builtins/misc.py:45: DeprecationWarning: the imp module is deprecated in favour of importlib; see the module's documentation for alternative uses\n",
      "  from imp import reload\n",
      "/opt/homebrew/Caskroom/miniforge/base/envs/P5/lib/python3.9/site-packages/past/builtins/misc.py:45: DeprecationWarning: the imp module is deprecated in favour of importlib; see the module's documentation for alternative uses\n",
      "  from imp import reload\n",
      "/opt/homebrew/Caskroom/miniforge/base/envs/P5/lib/python3.9/site-packages/past/builtins/misc.py:45: DeprecationWarning: the imp module is deprecated in favour of importlib; see the module's documentation for alternative uses\n",
      "  from imp import reload\n",
      "/opt/homebrew/Caskroom/miniforge/base/envs/P5/lib/python3.9/site-packages/past/builtins/misc.py:45: DeprecationWarning: the imp module is deprecated in favour of importlib; see the module's documentation for alternative uses\n",
      "  from imp import reload\n",
      "/opt/homebrew/Caskroom/miniforge/base/envs/P5/lib/python3.9/site-packages/past/builtins/misc.py:45: DeprecationWarning: the imp module is deprecated in favour of importlib; see the module's documentation for alternative uses\n",
      "  from imp import reload\n",
      "/opt/homebrew/Caskroom/miniforge/base/envs/P5/lib/python3.9/site-packages/past/builtins/misc.py:45: DeprecationWarning: the imp module is deprecated in favour of importlib; see the module's documentation for alternative uses\n",
      "  from imp import reload\n"
     ]
    },
    {
     "data": {
      "text/html": [
       "\n",
       "<link rel=\"stylesheet\" type=\"text/css\" href=\"https://cdn.jsdelivr.net/gh/bmabey/pyLDAvis@3.3.1/pyLDAvis/js/ldavis.v1.0.0.css\">\n",
       "\n",
       "\n",
       "<div id=\"ldavis_el20545112490532489335626330\"></div>\n",
       "<script type=\"text/javascript\">\n",
       "\n",
       "var ldavis_el20545112490532489335626330_data = {\"mdsDat\": {\"x\": [0.043922094065994934, -0.06208673409391249, -0.09927904646135235, -0.12545290034256695, 0.09390947679148291, -0.02752617837329979, 0.061859634938321924, 0.09339019987895814, 0.046671216388177506, -0.06828339852270916, 0.058927126847634265, 0.050083877201480984, -0.020005400197710986, -0.04612996812049913], \"y\": [-0.039610225510446274, 0.06633716862798796, 0.04682447790562125, 0.016343788714417502, 0.1274590372411966, -0.04564054699310386, -0.08459051603641789, -0.014248655656398056, -0.10528098167484251, -0.08213859951954286, 0.05709586402311921, 0.03297827945062207, 0.050241788720763826, -0.02577087929297691], \"topics\": [1, 2, 3, 4, 5, 6, 7, 8, 9, 10, 11, 12, 13, 14], \"cluster\": [1, 1, 1, 1, 1, 1, 1, 1, 1, 1, 1, 1, 1, 1], \"Freq\": [12.339656672686713, 10.112695329691684, 9.528098659873235, 8.694147274716935, 8.140027862860654, 6.961081818318715, 6.5960327322768, 6.413023017693548, 6.008403830787347, 5.767056402188346, 5.685636595790271, 4.670972324774329, 4.634386243030065, 4.448781235311335]}, \"tinfo\": {\"Term\": [\"file\", \"image\", \"service\", \"test\", \"page\", \"exception\", \"database\", \"class\", \"array\", \"object\", \"property\", \"table\", \"form\", \"server\", \"list\", \"data\", \"memory\", \"error\", \"date\", \"thread\", \"javascript\", \"function\", \"entity\", \"web\", \"jquery\", \"user\", \"method\", \"sql\", \"connection\", \"unit\", \"x86\", \"linker\", \"xcode\", \"mac\", \"dll\", \"dlls\", \"eclipse\", \"x64\", \"vs2008\", \"gcc\", \"ide\", \"sdk\", \"xp\", \"vs2010\", \"compilation\", \"debug\", \"breakpoint\", \"assembly\", \"color\", \"target\", \"linux\", \"studio\", \"symbol\", \"c/c++\", \"debugger\", \"instruction\", \"designer\", \"vista\", \"window\", \"debugging\", \"platform\", \"compile\", \"build\", \"release\", \"project\", \"library\", \"compiler\", \"application\", \"program\", \"c++\", \"iphone\", \"source\", \"tool\", \"version\", \"code\", \"development\", \"app\", \"file\", \"c\", \"system\", \"error\", \"problem\", \"line\", \"use\", \"run\", \"way\", \"work\", \"get\", \"question\", \"know\", \"setter\", \"category\", \"property\", \"binding\", \"generic\", \"constructor\", \"reflection\", \"bind\", \"viewmodel\", \"helper\", \"deserialize\", \"object\", \"interface\", \"subclass\", \"delegate\", \"attribute\", \"expression\", \"define\", \"model\", \"hierarchy\", \"method\", \"serialize\", \"xaml\", \"datasource\", \"serialization\", \"bound\", \"mvvm\", \"notification\", \"type\", \"textbox\", \"class\", \"instance\", \"pattern\", \"implement\", \"custom\", \"collection\", \"parameter\", \"json\", \"data\", \"event\", \"example\", \"something\", \"create\", \"way\", \"use\", \"value\", \"code\", \"question\", \"get\", \"set\", \"case\", \"change\", \"problem\", \"call\", \"std\", \"leak\", \"array\", \"queue\", \"graph\", \"buffer\", \"struct\", \"pointer\", \"garbage\", \"vector\", \"float\", \"heap\", \"stl\", \"memory\", \"integer\", \"algorithm\", \"int\", \"n\", \"byte\", \"member\", \"certificate\", \"guarantee\", \"variable\", \"objective-c\", \"length\", \"calculation\", \"lookup\", \"cast\", \"complexity\", \"bonus\", \"boost\", \"socket\", \"loop\", \"value\", \"size\", \"c++\", \"java\", \"structure\", \"thread\", \"c\", \"implementation\", \"type\", \"time\", \"data\", \"use\", \"function\", \"object\", \"way\", \"code\", \"class\", \"point\", \"string\", \"example\", \"field\", \"question\", \"problem\", \"performance\", \"index\", \"clause\", \"constraint\", \"<\", \"column\", \"list\", \"linq\", \"iterate\", \"table\", \"item\", \"group\", \"operator\", \"query\", \"person\", \"identifier\", \"row\", \">\", \"argument\", \"criterion\", \"join\", \"customer\", \"relationship\", \"sql\", \"count\", \"convention\", \"iteration\", \"sort\", \"ado.net\", \"id\", \"select\", \"function\", \"module\", \"improve\", \"statement\", \"order\", \"name\", \"database\", \"number\", \"result\", \"key\", \"value\", \"way\", \"data\", \"field\", \"use\", \"example\", \"class\", \"server\", \"code\", \"get\", \"problem\", \"method\", \"question\", \"type\", \"animation\", \"pdf\", \"button\", \"height\", \"div\", \"mouse\", \"dom\", \"node\", \"width\", \"html5\", \"dialog\", \"ipad\", \"uiview\", \"html\", \"tab\", \"render\", \"frame\", \"javascript\", \"cursor\", \"left\", \"tag\", \"click\", \"corner\", \"center\", \"resize\", \"bottom\", \"j\", \"menu\", \"fire\", \"document\", \"text\", \"cs\", \"control\", \"event\", \"browser\", \"chrome\", \"box\", \"screen\", \"jquery\", \"view\", \"display\", \"element\", \"code\", \"way\", \"user\", \"change\", \"page\", \"work\", \"like\", \"get\", \"line\", \"file\", \"thanks\", \"application\", \"time\", \"problem\", \"use\", \"jar\", \"oracle\", \"upload\", \"batch\", \"insert\", \"encoding\", \"jsp\", \"excel\", \"record\", \"export\", \"transaction\", \"delete\", \"filename\", \"insertion\", \"storage\", \"join\", \"sqlite\", \"download\", \"file\", \"database\", \"mysql\", \"postgresql\", \"read\", \"package\", \"jdbc\", \"servlet\", \"fetch\", \"character\", \"driver\", \"dump\", \"data\", \"row\", \"space\", \"table\", \"java\", \"performance\", \"db\", \"sql\", \"query\", \"hibernate\", \"problem\", \"server\", \"way\", \"text\", \"use\", \"application\", \"line\", \"store\", \"time\", \"code\", \"thanks\", \"solution\", \"user\", \"like\", \"wsdl\", \"soap\", \"wcf\", \"service\", \"webservice\", \"endpoint\", \"deploy\", \"layer\", \"rest\", \"web\", \"consume\", \"web.config\", \"deployment\", \"repository\", \"controller\", \"contract\", \"ssl\", \"client\", \"credential\", \"proxy\", \"delphi\", \"namespace\", \"communicate\", \"command\", \"view\", \"config\", \"architecture\", \"folder\", \"expose\", \"apis\", \"section\", \"json\", \"tomcat\", \"app\", \"reference\", \"application\", \"response\", \"project\", \"pattern\", \"request\", \"server\", \"rail\", \"mvc\", \"http\", \"use\", \"configuration\", \"data\", \"work\", \"call\", \"model\", \"code\", \"file\", \"way\", \"get\", \"method\", \"class\", \"question\", \".net\", \"worker\", \"password\", \"cookie\", \"secure\", \"cooky\", \"uitableview\", \"facebook\", \"username\", \"shell\", \"authentication\", \"security\", \"token\", \"registry\", \"cell\", \"exit\", \"email\", \"account\", \"monitor\", \"encryption\", \"url\", \"sign\", \"hash\", \"login\", \"measure\", \"encrypt\", \"website\", \"thread\", \"redirect\", \"directory\", \"dictionary\", \"domain\", \"script\", \"user\", \"process\", \"php\", \"site\", \"request\", \"send\", \"address\", \"state\", \"way\", \"information\", \"http\", \"use\", \"*\", \"file\", \"data\", \"get\", \"example\", \"app\", \"like\", \"know\", \"time\", \"key\", \"make\", \"timeout\", \"connection\", \"pool\", \"%\", \"trace\", \"[\", \"]\", \"video\", \"permission\", \"role\", \"session\", \"ii\", \"crash\", \"procedure\", \"traffic\", \"host\", \"tomcat\", \"failure\", \"close\", \"catch\", \"connect\", \"ip\", \"provider\", \"log\", \"driver\", \"server\", \"exception\", \"network\", \"filter\", \"management\", \"error\", \"request\", \"login\", \"sql\", \"message\", \"application\", \"site\", \"asp.net\", \"query\", \"http\", \"access\", \"thread\", \"problem\", \"user\", \"time\", \"code\", \"get\", \"issue\", \"database\", \"way\", \"use\", \"bean\", \"mock\", \"junit\", \"unit\", \"spring\", \"ruby\", \"hibernate\", \"test\", \"integration\", \"django\", \"testing\", \"rail\", \"persist\", \"job\", \"@\", \"context\", \"datasource\", \"datetime\", \"initialization\", \"annotation\", \"python\", \"persistence\", \"jpa\", \"schema\", \"parent\", \"timestamp\", \"verify\", \"activity\", \"child\", \"engine\", \"db\", \"orm\", \"database\", \"sql\", \"java\", \"time\", \"use\", \"class\", \"way\", \"get\", \"server\", \"run\", \"object\", \"create\", \"code\", \"application\", \"like\", \"question\", \"method\", \"work\", \"thanks\", \"data\", \"mvc\", \"callback\", \"form\", \"validation\", \"lambda\", \"ajax\", \"validate\", \"action\", \"submit\", \"asp.net\", \"jquery\", \"enter\", \"header\", \"input\", \"plugin\", \"firebug\", \"controller\", \"response\", \"backend\", \"keyword\", \"template\", \"post\", \"redirect\", \"field\", \"signature\", \"function\", \"and/or\", \"call\", \"occur\", \"helper\", \"page\", \"transaction\", \"return\", \"loop\", \"error\", \"search\", \"collection\", \"method\", \"problem\", \"element\", \"http\", \"value\", \"code\", \"work\", \"user\", \"get\", \"request\", \"way\", \"data\", \"use\", \"application\", \"cache\", \"apache\", \"caching\", \"bash\", \"extension\", \"refresh\", \"page\", \"language\", \"scroll\", \"cs\", \"php\", \"inheritance\", \"perl\", \"safari\", \"\\u2019\", \"push\", \"load\", \"firebug\", \"ie\", \"month\", \"programming\", \"firefox\", \"hierarchy\", \"internet\", \"explorer\", \"base\", \"instantiate\", \"bar\", \"past\", \"notification\", \"class\", \"script\", \"chrome\", \"python\", \"work\", \"browser\", \"file\", \"jquery\", \"server\", \"code\", \"problem\", \"site\", \"time\", \"something\", \"way\", \"question\", \"solution\", \"javascript\", \"make\", \"user\", \"example\", \"use\", \"function\", \"type\", \"image\", \"pixel\", \"picture\", \"quote\", \"null\", \"character\", \"vb.net\", \"resource\", \"string\", \"scale\", \"status\", \"compare\", \"compiles\", \"disk\", \"unicode\", \"resize\", \"translate\", \"char\", \"path\", \"corner\", \"=\", \"procedure\", \"inline\", \"declare\", \"jvm\", \"obtain\", \"body\", \"btw\", \"border\", \"icon\", \"return\", \"error\", \"code\", \"line\", \"size\", \"parameter\", \"value\", \"reference\", \"json\", \"object\", \"test\", \"result\", \"column\", \"see\", \"method\", \"example\", \"use\", \"problem\", \"way\", \"get\", \"work\", \"file\", \"function\", \"thanks\", \"something\", \"ef\", \"date\", \"winforms\", \"throw\", \"entity\", \"nhibernate\", \"com\", \"week\", \"exception\", \"profiler\", \"wpf\", \"jpa\", \"day\", \"format\", \"datetime\", \"con\", \"technology\", \"orm\", \"catch\", \"pro\", \"range\", \"lock\", \"namespace\", \"component\", \"annotation\", \"lead\", \"handling\", \"auto\", \"chance\", \"timestamp\", \"mapping\", \"parse\", \"business\", \".net\", \"year\", \"month\", \"xaml\", \"framework\", \"convert\", \"library\", \"time\", \"use\", \"thanks\", \"question\", \"project\", \"application\", \"like\", \"get\", \"code\", \"way\", \"something\", \"know\", \"control\", \"event\", \"edit\", \"string\"], \"Freq\": [4186.0, 1207.0, 1417.0, 1790.0, 1513.0, 1252.0, 2157.0, 3038.0, 1299.0, 2682.0, 1602.0, 1574.0, 1148.0, 2122.0, 1432.0, 3352.0, 1223.0, 2124.0, 563.0, 1046.0, 1077.0, 1976.0, 698.0, 1045.0, 1000.0, 1977.0, 2923.0, 1324.0, 549.0, 603.0, 60.897405426131556, 70.27750150379302, 172.26363312958867, 221.84946462926618, 362.7474235932679, 50.55834846015368, 300.425255074361, 73.55739678262674, 66.57262607758493, 169.2877404609679, 71.13458823834539, 86.95323490253914, 39.44096662480536, 71.7348969037834, 55.13078083152083, 254.54283751514137, 80.25866187574788, 261.4794923085187, 204.265085269579, 181.76024989158196, 236.8469327660704, 527.6627063708436, 104.70839543298669, 85.10512056291596, 118.78857538661185, 58.98207179144647, 53.39986588478223, 31.429210335569362, 1020.9096404390482, 35.66773393552864, 188.9853105726306, 156.2078502217964, 332.519771731101, 142.99527698529084, 896.065853581207, 465.04205087989556, 241.49308193571088, 1101.2809679345485, 364.49581302287737, 396.3385378560037, 271.35750707935404, 309.2697505600013, 223.12496613712622, 309.63035293878784, 924.121384690127, 180.88922248335663, 386.05261019553313, 732.6266080652032, 304.44730005670493, 272.3836601143902, 454.55826610213455, 441.87694972291274, 293.33255161054115, 430.88809718855583, 250.8478938574215, 342.4723539482625, 300.6626582766569, 299.93843100366234, 253.27405069722963, 245.08623740941673, 54.475305058116824, 68.22430644060238, 1245.8964582256633, 205.93612625902523, 79.16798633520116, 279.55455007060675, 112.12924841571571, 131.5737757651268, 117.88353724843068, 44.28996167081486, 47.59484724288271, 1524.6272973128032, 398.5625579742687, 58.57985433753344, 167.53992762241066, 216.41671902475122, 163.2077542806173, 67.87172182958945, 301.9565401094238, 26.08730833965379, 1286.3778171254642, 57.343787263678315, 85.82637117091883, 26.140275385462854, 56.50296693063403, 36.336895220979976, 55.47175224257251, 36.43622511849379, 743.7641175388916, 54.43506063441438, 981.9065660257104, 257.1018327014433, 147.04455840953426, 194.5853521221202, 166.7289281366358, 151.45577442484105, 213.2211938639828, 221.7875270391107, 591.5045819140093, 270.556114969265, 378.50624715483787, 370.0944988442918, 280.9890359105076, 572.4000760034464, 503.86763069609515, 326.9752594362675, 483.61665745459817, 300.93110640878996, 304.8895290868206, 203.84559661174976, 205.57814259881752, 205.7184437151177, 247.58952381067147, 210.83387966907543, 105.98825156388594, 228.93064494378615, 1107.5840088670418, 126.86615695853259, 128.79037582741478, 103.75504302123908, 118.22900815734872, 384.82580178546107, 69.73216349030187, 187.00256297817006, 86.65036831192059, 45.32640937264265, 50.31482475257492, 892.6476613717747, 170.14054508479066, 239.75726019449687, 113.21901520815852, 30.59841168136081, 240.55976688948843, 145.63196211052534, 91.03522665745444, 27.7106649044108, 294.1285142413554, 32.60337523986732, 86.4589093100854, 39.06761110887278, 33.88607019528278, 42.37137244285786, 34.12358417088059, 22.12765752290327, 79.22335919076694, 96.12423487645312, 151.082995544308, 596.2509588883861, 188.11773480075715, 294.9883747862397, 371.6522765002107, 171.1179223264949, 288.35520080455655, 252.05024177262084, 187.10537785966653, 363.54464460264256, 410.43653178014483, 443.4163650292593, 421.41719466422995, 302.3897325936804, 343.8127121721921, 399.7737467395446, 411.6933133885418, 323.254403559514, 201.83362011536678, 239.55070807426884, 252.47684596897273, 195.42741588907083, 236.74618307512384, 230.60628853780392, 191.75361112115556, 406.803574272001, 69.68621319329709, 91.65977405820327, 224.38211918584832, 605.3167937078667, 1006.1559580765833, 273.6059008984493, 39.54664695899541, 953.9375127752844, 412.8606397094171, 108.06258352056972, 70.61097051227506, 603.5005616110728, 61.87052250954676, 37.82095038772472, 322.7842347272565, 298.078668182306, 142.82856962361177, 26.171523805885055, 75.09489392269528, 66.56628738167386, 70.80164376772561, 518.1694308750094, 58.74276063602924, 21.060750511733268, 19.765943299153818, 177.52820742716483, 28.85757630685079, 152.92280730398755, 84.46359133363504, 645.746435410244, 79.62690486672554, 37.55194201719424, 154.25905669988467, 185.19729553065855, 248.69008050726111, 388.9633415893773, 215.58190925624032, 230.5709630831759, 147.77449551154234, 326.9957131216125, 468.07566138913586, 360.45542961966623, 169.1233711330856, 353.6173338829801, 247.28111959806662, 268.8870231505152, 225.80497970035572, 256.1866604816971, 212.31912355624976, 205.5378886820317, 205.87279265848363, 184.8095092943602, 181.64187850707134, 175.47021801513844, 168.21386477936684, 530.7313395098736, 92.17033309278152, 149.48465421665972, 92.40749913561964, 132.8750438997771, 185.76047467882034, 100.9153720098158, 65.88023637101391, 117.92367964274143, 94.35411245528535, 63.87121093481186, 538.3589060459509, 126.72418803723683, 91.8275290954501, 69.06155894936566, 726.0251142573455, 56.33044828075799, 41.574943453420985, 232.6580195409419, 153.26085291408978, 50.11628486241973, 40.04813892279024, 30.615880220422184, 60.58405937492435, 104.40534056246491, 73.92455824824398, 48.98239609499934, 186.6545648119734, 442.0246371162588, 163.87790909070003, 380.3608451404581, 464.38373160104396, 267.6911374566076, 111.22462392503465, 144.11070533589913, 121.13348315920844, 288.0325804403035, 338.6307966829333, 162.31061578145543, 219.9439281879005, 544.8431757327655, 440.427173473492, 294.4258734981354, 213.4223365926607, 206.66425351882657, 229.90610784530745, 208.0043559786077, 222.63189358106365, 175.12805276448034, 196.36061302298066, 173.85984810781386, 181.3267250835922, 172.93914551980484, 174.33360711236264, 170.55798149606005, 82.86890360444349, 173.90604155091978, 73.61300823738712, 64.82024865266321, 212.8008912873564, 76.35393872864499, 89.64078269489403, 49.06016506416456, 255.76840768049343, 33.60160828265281, 241.11724233574844, 87.41736133772037, 33.34047989075252, 32.98529953697086, 65.75707735669742, 87.88914498953619, 47.48894315302875, 73.0422284314853, 1949.630748649807, 967.0375601495471, 189.93026803363864, 33.050855390554574, 197.10497754502424, 49.59596030715635, 55.510893728800504, 62.43483544516688, 38.1922154459117, 204.97500843487163, 27.57807364999646, 19.448433105658065, 982.5660707418798, 192.6949520884775, 77.87704091265545, 346.35458526890994, 276.2861365747722, 196.08812286577077, 107.83301065809731, 216.51122548570245, 201.6937188308946, 118.03792546845962, 288.7296754313999, 236.9520322445765, 292.696791114406, 142.5813243922464, 230.38091747713236, 216.0874084110211, 135.07838382046916, 111.62476960157909, 140.2420603819931, 157.63395712300786, 125.06918448841489, 116.98819459117013, 119.44445498443407, 116.054377836956, 85.29033388611707, 156.49948240798193, 260.88542928939734, 1222.5391855387045, 85.22010616491978, 47.93722094155719, 48.469288563657535, 191.2365571091516, 137.34514475809377, 613.1433252573815, 29.557954405173568, 42.95191377349546, 43.20881236953799, 77.47392756705318, 279.36008952848596, 37.29516467440676, 53.895117712294706, 447.5570200529944, 34.8177944961565, 41.71248495161554, 40.45966168422003, 48.190675389818175, 16.8316820244581, 251.18995979290065, 486.43417322817396, 40.35367916200128, 54.71222726160755, 110.5303839202705, 22.479306792433125, 21.551058173801625, 65.510525454699, 254.23019417590746, 66.02611244268175, 275.5993510390669, 165.41326580208187, 409.9989754781464, 103.98035010727642, 245.57468316713368, 102.36059449441873, 166.69708156222507, 248.5772254159919, 87.78799889866153, 125.5567846845359, 171.7202743558838, 282.96166195245, 91.86754357303911, 219.6148449449271, 181.46038232952668, 155.02585153695696, 113.84709823389802, 219.10600113392113, 209.10019070333345, 201.18857691708368, 164.47769595077148, 158.90017918116004, 153.1991084471719, 136.27424698777145, 125.60491568232574, 65.84796007065223, 252.80755419696428, 164.94317064777078, 121.96653997340273, 87.50266074780363, 54.506074661304005, 116.26854048595875, 58.51851136105656, 120.71793975952467, 199.5093135070476, 172.98600978865966, 45.140477241055514, 42.39109800361395, 160.7732374172695, 35.950647792727445, 129.8239369198512, 96.179135596848, 46.83684298894551, 74.97561018211252, 211.2976805112984, 31.157364476166613, 148.1835795350075, 107.6769184919003, 27.656081337224563, 36.10338246139471, 157.5409089517605, 505.93390153894376, 36.72131460659719, 166.14079894931444, 63.59304318559944, 95.5513505123264, 248.59969538046334, 670.7103764438856, 281.2262154128991, 232.24917761470562, 179.6187169477209, 236.09190860448635, 112.55900054224834, 102.95941580123393, 123.79913965602152, 391.54992029340696, 157.24517967997724, 209.81173498206067, 279.1265940201218, 124.4944985028997, 273.50277141045393, 232.71606114314818, 209.72502911605247, 187.31251277380912, 155.11443334571362, 154.69791033002954, 146.269381524376, 142.48616322869745, 128.5969144079283, 131.55734877896634, 85.66492539482856, 462.3214684033701, 126.59993837422677, 366.7786370444084, 118.0379861284368, 304.55800106776934, 403.3633225010355, 119.32176474531892, 68.90939981756613, 53.158215934513244, 352.71007172739496, 106.0955948743641, 56.432563472256724, 213.6041270309111, 23.85524460173016, 54.246075414684526, 95.01515440739139, 29.239475960001148, 35.29509707923055, 45.410066388495856, 65.53788364966393, 24.937325165773508, 44.200591898693666, 128.7264208810325, 26.596570296356884, 721.0869062519906, 423.33070929533216, 60.95490132585978, 50.946453105374275, 41.23467500693333, 530.7096069017581, 241.01292476015854, 60.48967544427133, 230.59279210670869, 142.69698917579265, 393.2302188956783, 114.34210598575342, 141.19627758231096, 176.51845823605947, 180.29162559863147, 141.198683444458, 150.35512158297854, 233.9739008788126, 191.88885054239884, 188.32625340012544, 223.85496806588196, 178.804608912756, 132.28755511811758, 132.10014462573997, 134.40636177902562, 121.37333064365566, 104.94804053359174, 143.91520981386978, 84.67215988300391, 422.179441667999, 381.32419943967346, 178.23051334446853, 315.45143026141903, 1133.3010118464358, 48.52382410877163, 144.01525921479313, 46.500492457184656, 160.05278569953157, 25.82791821578234, 78.07729890254168, 104.58504425432007, 123.59239188515177, 26.373093559341044, 54.076578548055444, 24.291828330908952, 65.39770369769487, 263.22985540769866, 28.109163824382698, 109.9402163524246, 66.33602632573249, 80.19684393853876, 21.586791713853085, 24.510988793643477, 23.33689917713893, 72.09192892508361, 55.337900533461955, 115.09124639423185, 39.981480561781595, 377.63529648584466, 201.53305754681458, 190.67477083943288, 269.2004395927308, 346.79944179462893, 269.4956817545358, 299.5864103274441, 219.98249527430656, 201.669360898732, 106.15740500757013, 159.84598761416004, 123.54920180727599, 177.7152775388341, 150.61283543516882, 120.70085592721759, 124.7468509937773, 127.0803670853846, 117.76464116173545, 110.24757981888997, 110.1116486493906, 417.08072222046474, 96.35953995796851, 672.1247432764633, 199.2601870913955, 48.332808106625436, 271.21133195186286, 62.654788486690165, 216.28614266341424, 59.34079563749003, 339.65082656720324, 417.48360907018275, 26.777102416822245, 149.09897301900983, 167.7759874548363, 67.72915136102657, 20.182759421549044, 155.6689173928109, 118.6764542841822, 17.3662280495259, 15.535326556986027, 90.98769861651952, 169.57927136738456, 18.100599870171195, 198.41855452762366, 21.733152863005, 451.93583856853934, 12.014243554202832, 322.10266585920704, 11.007118161886222, 15.178597571011748, 313.00975850491045, 90.55966886541258, 149.37401884773564, 70.7454030560847, 299.5316289346439, 82.84119008475052, 86.42791878467158, 300.11244246563336, 275.99775648485416, 118.45939140516019, 159.95463542988458, 199.9658561844395, 294.4400371268848, 196.4342750821585, 181.947694175522, 185.44635183678037, 127.62467529051952, 184.88983894083142, 137.7813650427832, 128.82011809549414, 119.91277619449953, 244.51685811470585, 118.10660511349904, 39.232634371466354, 59.57271387778053, 120.62571747807674, 30.129381478001275, 705.1741024526711, 250.2909389563627, 39.56646139427473, 120.58304922367614, 264.39198861346966, 37.14868270838028, 39.883623271156736, 29.039347339207662, 26.63770798219956, 16.545410364047413, 148.5240007342225, 18.92788565961973, 73.05097007530401, 39.84288700900743, 40.493615569316425, 55.93698877888143, 15.001851320820506, 28.19600189186065, 25.026167818010308, 54.59054090253948, 13.277233088881506, 39.92204388301906, 8.811720743576112, 20.412489822278122, 632.6128581578846, 134.10178819500393, 46.93330199672076, 124.37254925901527, 224.80746788737093, 92.97006367433897, 315.5937842776016, 111.75159064436977, 176.2381555373705, 225.96707430031967, 170.1434187902921, 72.06660632120449, 129.8341269285095, 112.90614099249068, 145.37378460296628, 104.85259703785101, 89.89087908798084, 81.06078386490852, 89.05899884996899, 95.13010637266913, 93.99165595997556, 108.84058529838185, 90.01778083432994, 85.30825512727343, 1138.411246429755, 91.47966548602258, 56.44828413322385, 23.132067318874, 49.10804061347342, 196.9227969522549, 32.48613842208571, 148.14312391077974, 430.8059648084334, 13.610660996865956, 41.61451289788904, 32.585760744169136, 11.815993515466884, 33.185622254918364, 15.636452809288553, 12.569683012017764, 10.56849259760284, 28.461258283342094, 88.57012406119524, 18.133762353692088, 75.33620670165762, 102.48144058350215, 15.851774943719322, 14.233437307051146, 11.56728437636272, 10.862566565090912, 15.823700087292938, 9.772101144166154, 14.111146590360866, 20.86085034894908, 135.65024273498196, 290.70693556341485, 558.4166671186337, 141.36997515753706, 73.81216054604572, 104.24380948983506, 218.25484810559436, 96.33852401070497, 89.76879348963126, 194.62906367897972, 134.39251091867865, 95.83324796746331, 82.42904277953907, 94.35665428390821, 167.7021614691685, 130.76177484655807, 182.54284223578043, 155.28426892991712, 164.47971649954948, 112.17706616542894, 103.53962187378175, 101.54381073168798, 88.5093555323043, 85.51484012764857, 82.65403587867674, 56.63313782983626, 465.0082544177799, 106.28462069736055, 76.1627339673445, 427.6400920797265, 67.58365224316758, 94.52209792440992, 36.62184259214708, 595.194095150021, 28.59083698444151, 269.3408297069019, 133.71057938112, 134.0122106374523, 157.17779911051937, 57.43494739108132, 27.21285730390983, 45.726811684317035, 58.75828552485302, 46.94053067970872, 27.780616513980583, 58.27253431092263, 43.36270020551188, 42.386757417898274, 80.07845917961697, 53.771373276425976, 14.047410860353873, 19.405523807574205, 15.098891964908834, 15.420488527271578, 16.12450577166785, 30.29073459062444, 58.31740771874068, 47.29180522332906, 252.3681760715868, 46.10392905644739, 36.49320918731631, 48.117500070210006, 131.9979903719698, 70.51385249545757, 125.07507474616766, 196.55326506256668, 239.83337653421887, 134.17764911088824, 144.82270200899688, 127.59405396688842, 146.84943749858803, 105.56026458250203, 114.63800425329279, 130.41342466678788, 124.57069424921842, 99.94226661202602, 84.29440621735237, 76.14188613573498, 79.07543378633973, 77.99634480211657, 77.73468004613115], \"Total\": [4186.0, 1207.0, 1417.0, 1790.0, 1513.0, 1252.0, 2157.0, 3038.0, 1299.0, 2682.0, 1602.0, 1574.0, 1148.0, 2122.0, 1432.0, 3352.0, 1223.0, 2124.0, 563.0, 1046.0, 1077.0, 1976.0, 698.0, 1045.0, 1000.0, 1977.0, 2923.0, 1324.0, 549.0, 603.0, 66.65214041053684, 76.99870884433489, 188.90293431006089, 254.4981460538427, 427.11609444367696, 59.79045251599919, 358.9274432454181, 88.41201832808379, 81.74527807406675, 208.13649488871496, 88.85656768881502, 108.9027718355774, 50.91991984184107, 95.55135383648732, 73.62723422140495, 346.6188981398029, 109.41209185533658, 359.51592699799323, 282.7805985756792, 258.04658081249795, 340.7594202425456, 767.3283173919034, 155.53777869605773, 128.91313384238953, 180.4534505366294, 90.28493871049474, 82.41393866703154, 48.67526826829951, 1596.3974803800709, 55.894557932735516, 296.3417961078978, 247.23517764822165, 546.0946660800788, 228.20736049100594, 1640.91172349036, 944.0540065491402, 465.97715366660856, 3177.719298370507, 784.3383579659754, 931.3054496953332, 597.2087057536235, 727.6376057724162, 463.6255679249659, 812.5250281255244, 4728.571798051942, 368.94757734514275, 1336.7703439927761, 4186.056784033441, 930.0515571633645, 787.0996208894362, 2124.507470906096, 2797.720993370579, 1069.1619214543127, 3801.0271059797856, 801.7586253970135, 4161.891106277813, 2162.9636380666248, 2535.8489305256717, 2099.3494080140144, 1461.4133981939117, 61.02449721033602, 84.42992562153813, 1602.224589140284, 265.35612894969347, 105.74590090668323, 379.4885691159399, 154.66291251363702, 194.66780307667088, 185.59609209192877, 71.74603075690626, 80.74377472625417, 2682.511047904055, 742.5181420200342, 116.81857099062366, 347.1500316114456, 459.2394149218592, 348.37705052125125, 146.14643094537104, 671.449088080071, 59.024885010840045, 2923.9653252080448, 130.56467451784022, 200.45579373437897, 62.585932651129355, 138.53053573134267, 89.33367738356058, 136.5172679212307, 90.3793305441951, 1851.0033310439712, 139.53414342515634, 3038.297428117606, 768.679678147341, 420.947576462283, 579.749429402414, 500.8418679805852, 490.4902393774786, 777.8858920144429, 834.363074290853, 3352.4801426530407, 1135.3290102498713, 1977.6112603428353, 1959.2862983547438, 1282.5313235205047, 4161.891106277813, 3801.0271059797856, 2039.2935845614184, 4728.571798051942, 2099.3494080140144, 2535.8489305256717, 966.0506731607051, 1113.9949990039922, 1216.223166283388, 2797.720993370579, 1448.560431700164, 119.13306580672634, 260.0481117874024, 1299.8075272306744, 152.47752826418966, 156.49415597859175, 128.8179236693361, 148.46897444111045, 493.39014662575846, 91.76501089576873, 246.53016940406508, 115.86163466649026, 61.96116779504244, 68.89541120543969, 1223.44038794429, 233.81237839733149, 330.1156590456105, 168.48224684032786, 48.63432866360575, 384.1660814856444, 238.76894510728354, 154.77554649848673, 47.17250711472103, 530.1228680750974, 59.06113852893597, 158.71170174971752, 72.11534107907494, 62.77209862803812, 84.33593441101289, 68.18191746915316, 46.97349039199075, 172.9228834343838, 214.47279585049932, 369.04017497678115, 2039.2935845614184, 512.8445096677805, 931.3054496953332, 1262.394813998687, 509.51481301732167, 1046.5225317119, 930.0515571633645, 622.8001302060434, 1851.0033310439712, 2337.0865166319873, 3352.4801426530407, 3801.0271059797856, 1976.59673417164, 2682.511047904055, 4161.891106277813, 4728.571798051942, 3038.297428117606, 827.5585123053262, 1466.7104371962066, 1977.6112603428353, 850.9473379585195, 2099.3494080140144, 2797.720993370579, 826.5285866512098, 497.72926901615995, 88.60415982178479, 118.18382106234148, 295.7317124051366, 860.0170936182687, 1432.6695559432721, 408.1085317390304, 62.747430325140606, 1574.3207086790992, 746.2921245432891, 199.3220617622664, 136.00425955483294, 1183.6210641998566, 123.03986782186081, 76.24883904641544, 652.5470790314705, 611.3523988026602, 295.3852860379556, 56.5274502323291, 177.64979919522708, 159.91655101843372, 176.78551017480004, 1324.6111656285104, 151.65949748064745, 57.03950646745071, 53.848004577483195, 486.74079921165014, 80.10461548478365, 427.1002833442323, 236.57972843987667, 1976.59673417164, 238.52019503447508, 106.41684204453466, 494.7148090616302, 605.8320007346108, 982.7195761820357, 2157.6184817424505, 947.8881473982105, 1065.6550333677562, 565.4793486557663, 2039.2935845614184, 4161.891106277813, 3352.4801426530407, 850.9473379585195, 3801.0271059797856, 1977.6112603428353, 3038.297428117606, 2122.355940779809, 4728.571798051942, 2535.8489305256717, 2797.720993370579, 2923.9653252080448, 2099.3494080140144, 1851.0033310439712, 196.27536009823032, 192.4055805261072, 607.8031934961087, 106.63056024521372, 178.57472403125146, 111.11512572251893, 165.10885671486972, 239.98792863291177, 130.58265399164554, 85.52030729042153, 157.71650125319223, 128.51761191814543, 88.67626239474309, 751.4264302750311, 177.49292997887935, 133.96146477880566, 101.22689565711977, 1077.5782554537655, 84.41980558742159, 63.36358957159683, 359.13162788008145, 236.83520808825324, 79.36258523779671, 63.648864362736006, 48.83458869228872, 98.32993055610433, 170.0070731803458, 120.88320483543788, 80.29428481263022, 310.0858139573777, 882.0058599811905, 314.7430342339782, 834.1603299934543, 1135.3290102498713, 645.384988159012, 215.3446530198636, 304.2787116050635, 246.71730570603052, 1000.4857673778134, 1326.7571084040646, 432.6047847963756, 793.2756856164868, 4728.571798051942, 4161.891106277813, 1977.3145758340418, 1216.223166283388, 1513.2205000020706, 2162.9636380666248, 1676.80715769675, 2535.8489305256717, 1069.1619214543127, 4186.056784033441, 1665.885995971271, 3177.719298370507, 2337.0865166319873, 2797.720993370579, 3801.0271059797856, 88.33723002543067, 210.90356901530822, 91.73816355948738, 83.64016411555357, 329.64189960622144, 124.00399190757346, 148.06428908086298, 85.38706572130472, 447.34933153154816, 61.193937195690744, 446.3522812947376, 169.54890263004512, 65.69001013128361, 65.16310707703974, 129.97991290258764, 177.64979919522708, 98.25425718568404, 151.59868685086425, 4186.056784033441, 2157.6184817424505, 454.69943018422805, 80.2270575634804, 484.362530297364, 122.63205917861342, 138.11154124777607, 160.88464918034228, 98.58921384450606, 542.4552263774541, 75.29214434487285, 53.50292274712824, 3352.4801426530407, 652.5470790314705, 240.10131650898842, 1574.3207086790992, 1262.394813998687, 826.5285866512098, 391.01843651459023, 1324.6111656285104, 1183.6210641998566, 493.85725480277847, 2797.720993370579, 2122.355940779809, 4161.891106277813, 882.0058599811905, 3801.0271059797856, 3177.719298370507, 1069.1619214543127, 556.6846468244482, 2337.0865166319873, 4728.571798051942, 1665.885995971271, 1375.1945629219067, 1977.3145758340418, 1676.80715769675, 90.1365727649561, 168.24621352314048, 281.15666139701125, 1417.724293312233, 106.672555768896, 66.60651749424164, 78.54209429928738, 311.6157367554447, 227.71999920764318, 1045.9837676924894, 51.16596655271487, 79.67112346895806, 80.73396149405653, 145.6941560958115, 547.8583494304766, 73.7354231680027, 110.04815267300279, 963.7630049275353, 79.25615680469735, 95.5912330355646, 93.19514519059952, 120.88555370825426, 43.46862526581393, 672.3486990899146, 1326.7571084040646, 112.8958087999707, 159.0872043371919, 323.2437306581028, 66.42409353841794, 65.25394468857804, 202.87688067549948, 834.363074290853, 214.96391725213317, 1336.7703439927761, 810.5615672403568, 3177.719298370507, 419.723046202276, 1640.91172349036, 420.947576462283, 987.4069946216047, 2122.355940779809, 341.9607456373871, 667.0261334477713, 1251.6646007423153, 3801.0271059797856, 385.6796372583576, 3352.4801426530407, 2162.9636380666248, 1448.560431700164, 671.449088080071, 4728.571798051942, 4186.056784033441, 4161.891106277813, 2535.8489305256717, 2923.9653252080448, 3038.297428117606, 2099.3494080140144, 1088.100379634539, 78.11977126736302, 313.77425887466745, 207.5226559447608, 154.6477769829699, 113.67085879899903, 71.18154124008782, 161.22578584573083, 83.71341566579086, 176.00331374976324, 295.17312927625073, 258.18434406037187, 71.26970413742694, 67.56628713575263, 259.37888482351633, 59.39547305379529, 215.56866795730184, 163.09943994159485, 82.64434867817725, 134.5200707756924, 382.38220186646146, 57.22366079435078, 273.2918528953845, 209.78892509514208, 54.25012977903336, 72.07054463802672, 316.73379927041947, 1046.5225317119, 77.00553636589895, 357.174792040555, 142.89296118263098, 215.96370390466245, 640.7629965420773, 1977.3145758340418, 803.5753591600862, 707.8071363792913, 565.646736778768, 987.4069946216047, 320.60247248080685, 281.845402933685, 406.2769525123706, 4161.891106277813, 675.1240397178555, 1251.6646007423153, 3801.0271059797856, 438.7601713233689, 4186.056784033441, 3352.4801426530407, 2535.8489305256717, 1977.6112603428353, 1336.7703439927761, 1676.80715769675, 1461.4133981939117, 2337.0865166319873, 565.4793486557663, 1504.2947689041007, 100.56711283115908, 549.60966927775, 152.39534299476855, 484.3076459744799, 160.06820570788696, 446.0805240757728, 626.9989934158468, 187.6509914026753, 110.36475167678307, 87.32694978603513, 628.8324103871533, 194.40981693700874, 121.27765713041885, 465.2121341202343, 52.71264454142274, 122.60326086165503, 214.96391725213317, 70.37270884889021, 85.03769018981379, 111.35862804179192, 165.7713001094895, 65.32586904198571, 117.41673928988598, 346.96708493223014, 75.29214434487285, 2122.355940779809, 1252.0774342479551, 180.61842243194457, 151.98144188704055, 132.91680861089384, 2124.507470906096, 987.4069946216047, 209.78892509514208, 1324.6111656285104, 707.8055339527704, 3177.719298370507, 565.646736778768, 802.2270139280693, 1183.6210641998566, 1251.6646007423153, 908.6991404843652, 1046.5225317119, 2797.720993370579, 1977.3145758340418, 2337.0865166319873, 4728.571798051942, 2535.8489305256717, 984.1825796851502, 2157.6184817424505, 4161.891106277813, 3801.0271059797856, 113.90830728694944, 166.61992402110474, 104.68744114507552, 603.7661641113384, 577.1452451096862, 272.12783675164025, 493.85725480277847, 1790.0926203569065, 87.80213833440766, 264.3639097785082, 98.25663454717235, 341.9607456373871, 56.05587561671561, 170.34327438060689, 231.62564467164196, 279.6039040806251, 62.585932651129355, 131.98975358083425, 60.696478832993186, 165.9303159640711, 674.9124361639356, 72.6064286373795, 286.79750674459046, 174.82827821219374, 217.50630491921885, 60.96631507032004, 78.39405936925705, 75.7784943928563, 236.64645194414288, 185.3664650707216, 391.01843651459023, 138.2308385101843, 2157.6184817424505, 1324.6111656285104, 1262.394813998687, 2337.0865166319873, 3801.0271059797856, 3038.297428117606, 4161.891106277813, 2535.8489305256717, 2122.355940779809, 801.7586253970135, 2682.511047904055, 1282.5313235205047, 4728.571798051942, 3177.719298370507, 1676.80715769675, 2099.3494080140144, 2923.9653252080448, 2162.9636380666248, 1665.885995971271, 3352.4801426530407, 667.0261334477713, 159.5378149601795, 1148.301529181711, 342.3031051265801, 84.60438170869261, 485.7431198169863, 115.29873335067921, 402.7019508034485, 131.92468739388522, 802.2270139280693, 1000.4857673778134, 72.17446871307966, 403.42445817932594, 461.2795332362406, 210.12689644812582, 64.46098559921609, 547.8583494304766, 419.723046202276, 68.65642562633948, 61.776760978139535, 378.81103444395944, 706.1999070064396, 77.00553636589895, 850.9473379585195, 94.62572512466053, 1976.59673417164, 53.922810682624814, 1448.560431700164, 51.278269359217326, 71.74603075690626, 1513.2205000020706, 446.3522812947376, 801.867366399036, 369.04017497678115, 2124.507470906096, 464.88093923787983, 490.4902393774786, 2923.9653252080448, 2797.720993370579, 793.2756856164868, 1251.6646007423153, 2039.2935845614184, 4728.571798051942, 2162.9636380666248, 1977.3145758340418, 2535.8489305256717, 987.4069946216047, 4161.891106277813, 3352.4801426530407, 3801.0271059797856, 3177.719298370507, 342.46107864906975, 171.0614814884295, 69.95815319607844, 112.1341789084686, 230.2649355728462, 62.41054420383852, 1513.2205000020706, 617.4459619564991, 99.47047969033225, 314.7430342339782, 707.8071363792913, 110.55421021033149, 129.01060705371026, 94.36030623486613, 87.01692075070753, 54.85371221385976, 498.648728011718, 64.46098559921609, 257.7618046472307, 143.55747287958138, 155.36486198425277, 218.15157982098046, 59.024885010840045, 114.97876610270113, 103.70636110981047, 227.38218005701012, 57.065844788813145, 172.8233600994065, 38.168423404186996, 90.3793305441951, 3038.297428117606, 640.7629965420773, 215.3446530198636, 674.9124361639356, 2162.9636380666248, 645.384988159012, 4186.056784033441, 1000.4857673778134, 2122.355940779809, 4728.571798051942, 2797.720993370579, 565.646736778768, 2337.0865166319873, 1959.2862983547438, 4161.891106277813, 2099.3494080140144, 1375.1945629219067, 1077.5782554537655, 1504.2947689041007, 1977.3145758340418, 1977.6112603428353, 3801.0271059797856, 1976.59673417164, 1851.0033310439712, 1207.8042831113164, 115.97640065632768, 102.38528072697326, 51.964538603943794, 126.9859038165867, 542.4552263774541, 106.7384702520611, 496.7254901483629, 1466.7104371962066, 46.72735966059851, 148.7864306098826, 118.0085097604848, 43.074363530709306, 125.19245980223808, 60.483300295998944, 48.83458869228872, 41.29437042414317, 112.16332524939016, 365.3699962865617, 79.36258523779671, 332.5881332850766, 465.2121341202343, 72.29978265828265, 69.55470183230761, 56.67130930832887, 54.7667537594349, 87.01193385766591, 56.124755657879696, 82.83663520149919, 123.04554634170385, 801.867366399036, 2124.507470906096, 4728.571798051942, 1069.1619214543127, 512.8445096677805, 777.8858920144429, 2039.2935845614184, 810.5615672403568, 834.363074290853, 2682.511047904055, 1790.0926203569065, 1065.6550333677562, 860.0170936182687, 1093.7987082580544, 2923.9653252080448, 1977.6112603428353, 3801.0271059797856, 2797.720993370579, 4161.891106277813, 2535.8489305256717, 2162.9636380666248, 4186.056784033441, 1976.59673417164, 1665.885995971271, 1959.2862983547438, 68.52498437136984, 563.7077567814689, 163.6228979119167, 123.83483962340034, 698.562078166339, 119.87490655700864, 171.66329312977888, 74.35695382535644, 1252.0774342479551, 60.79471321481497, 576.101977290171, 286.79750674459046, 302.1726858653178, 354.54172510321223, 131.98975358083425, 62.88830413665151, 106.4446264379114, 138.2308385101843, 111.35862804179192, 71.08220380720786, 152.82817430650687, 121.05916323225637, 120.88555370825426, 245.10754562161998, 165.9303159640711, 48.63796786030811, 68.9837179260328, 55.55394434905604, 57.50233837003984, 60.96631507032004, 114.82156207921882, 224.05971337044383, 182.82671466079418, 1088.100379634539, 186.6109888763588, 143.55747287958138, 200.45579373437897, 754.8871701998266, 360.09944127467963, 944.0540065491402, 2337.0865166319873, 3801.0271059797856, 1665.885995971271, 2099.3494080140144, 1640.91172349036, 3177.719298370507, 1676.80715769675, 2535.8489305256717, 4728.571798051942, 4161.891106277813, 1959.2862983547438, 1461.4133981939117, 834.1603299934543, 1135.3290102498713, 1085.5679152770344, 1466.7104371962066], \"Category\": [\"Default\", \"Default\", \"Default\", \"Default\", \"Default\", \"Default\", \"Default\", \"Default\", \"Default\", \"Default\", \"Default\", \"Default\", \"Default\", \"Default\", \"Default\", \"Default\", \"Default\", \"Default\", \"Default\", \"Default\", \"Default\", \"Default\", \"Default\", \"Default\", \"Default\", \"Default\", \"Default\", \"Default\", \"Default\", \"Default\", \"Topic1\", \"Topic1\", \"Topic1\", \"Topic1\", \"Topic1\", \"Topic1\", \"Topic1\", \"Topic1\", \"Topic1\", \"Topic1\", \"Topic1\", \"Topic1\", \"Topic1\", \"Topic1\", \"Topic1\", \"Topic1\", \"Topic1\", \"Topic1\", \"Topic1\", \"Topic1\", \"Topic1\", \"Topic1\", \"Topic1\", \"Topic1\", \"Topic1\", \"Topic1\", \"Topic1\", \"Topic1\", \"Topic1\", \"Topic1\", \"Topic1\", \"Topic1\", \"Topic1\", \"Topic1\", \"Topic1\", \"Topic1\", \"Topic1\", \"Topic1\", \"Topic1\", \"Topic1\", \"Topic1\", \"Topic1\", \"Topic1\", \"Topic1\", \"Topic1\", \"Topic1\", \"Topic1\", \"Topic1\", \"Topic1\", \"Topic1\", \"Topic1\", \"Topic1\", \"Topic1\", \"Topic1\", \"Topic1\", \"Topic1\", \"Topic1\", \"Topic1\", \"Topic1\", \"Topic1\", \"Topic2\", \"Topic2\", \"Topic2\", \"Topic2\", \"Topic2\", \"Topic2\", \"Topic2\", \"Topic2\", \"Topic2\", \"Topic2\", \"Topic2\", \"Topic2\", \"Topic2\", \"Topic2\", \"Topic2\", \"Topic2\", \"Topic2\", \"Topic2\", \"Topic2\", \"Topic2\", \"Topic2\", \"Topic2\", \"Topic2\", \"Topic2\", \"Topic2\", \"Topic2\", \"Topic2\", \"Topic2\", \"Topic2\", \"Topic2\", \"Topic2\", \"Topic2\", \"Topic2\", \"Topic2\", \"Topic2\", \"Topic2\", \"Topic2\", \"Topic2\", \"Topic2\", \"Topic2\", \"Topic2\", \"Topic2\", \"Topic2\", \"Topic2\", \"Topic2\", \"Topic2\", \"Topic2\", \"Topic2\", \"Topic2\", \"Topic2\", \"Topic2\", \"Topic2\", \"Topic2\", \"Topic2\", \"Topic3\", \"Topic3\", \"Topic3\", \"Topic3\", \"Topic3\", \"Topic3\", \"Topic3\", \"Topic3\", \"Topic3\", \"Topic3\", \"Topic3\", \"Topic3\", \"Topic3\", \"Topic3\", \"Topic3\", \"Topic3\", \"Topic3\", \"Topic3\", \"Topic3\", \"Topic3\", \"Topic3\", \"Topic3\", \"Topic3\", \"Topic3\", \"Topic3\", \"Topic3\", \"Topic3\", \"Topic3\", \"Topic3\", \"Topic3\", \"Topic3\", \"Topic3\", \"Topic3\", \"Topic3\", \"Topic3\", \"Topic3\", \"Topic3\", \"Topic3\", \"Topic3\", \"Topic3\", \"Topic3\", \"Topic3\", \"Topic3\", \"Topic3\", \"Topic3\", \"Topic3\", \"Topic3\", \"Topic3\", \"Topic3\", \"Topic3\", \"Topic3\", \"Topic3\", \"Topic3\", \"Topic3\", \"Topic3\", \"Topic3\", \"Topic3\", \"Topic4\", \"Topic4\", \"Topic4\", \"Topic4\", \"Topic4\", \"Topic4\", \"Topic4\", \"Topic4\", \"Topic4\", \"Topic4\", \"Topic4\", \"Topic4\", \"Topic4\", \"Topic4\", \"Topic4\", \"Topic4\", \"Topic4\", \"Topic4\", \"Topic4\", \"Topic4\", \"Topic4\", \"Topic4\", \"Topic4\", \"Topic4\", \"Topic4\", \"Topic4\", \"Topic4\", \"Topic4\", \"Topic4\", \"Topic4\", \"Topic4\", \"Topic4\", \"Topic4\", \"Topic4\", \"Topic4\", \"Topic4\", \"Topic4\", \"Topic4\", \"Topic4\", \"Topic4\", \"Topic4\", \"Topic4\", \"Topic4\", \"Topic4\", \"Topic4\", \"Topic4\", \"Topic4\", \"Topic4\", \"Topic4\", \"Topic4\", \"Topic4\", \"Topic4\", \"Topic4\", \"Topic4\", \"Topic5\", \"Topic5\", \"Topic5\", \"Topic5\", \"Topic5\", \"Topic5\", \"Topic5\", \"Topic5\", \"Topic5\", \"Topic5\", \"Topic5\", \"Topic5\", \"Topic5\", \"Topic5\", \"Topic5\", \"Topic5\", \"Topic5\", \"Topic5\", \"Topic5\", \"Topic5\", \"Topic5\", \"Topic5\", \"Topic5\", \"Topic5\", \"Topic5\", \"Topic5\", \"Topic5\", \"Topic5\", \"Topic5\", \"Topic5\", \"Topic5\", \"Topic5\", \"Topic5\", \"Topic5\", \"Topic5\", \"Topic5\", \"Topic5\", \"Topic5\", \"Topic5\", \"Topic5\", \"Topic5\", \"Topic5\", \"Topic5\", \"Topic5\", \"Topic5\", \"Topic5\", \"Topic5\", \"Topic5\", \"Topic5\", \"Topic5\", \"Topic5\", \"Topic5\", \"Topic5\", \"Topic5\", \"Topic5\", \"Topic5\", \"Topic5\", \"Topic6\", \"Topic6\", \"Topic6\", \"Topic6\", \"Topic6\", \"Topic6\", \"Topic6\", \"Topic6\", \"Topic6\", \"Topic6\", \"Topic6\", \"Topic6\", \"Topic6\", \"Topic6\", \"Topic6\", \"Topic6\", \"Topic6\", \"Topic6\", \"Topic6\", \"Topic6\", \"Topic6\", \"Topic6\", \"Topic6\", \"Topic6\", \"Topic6\", \"Topic6\", \"Topic6\", \"Topic6\", \"Topic6\", \"Topic6\", \"Topic6\", \"Topic6\", \"Topic6\", \"Topic6\", \"Topic6\", \"Topic6\", \"Topic6\", \"Topic6\", \"Topic6\", \"Topic6\", \"Topic6\", \"Topic6\", \"Topic6\", \"Topic6\", \"Topic6\", \"Topic6\", \"Topic6\", \"Topic6\", \"Topic6\", \"Topic6\", \"Topic6\", \"Topic6\", \"Topic6\", \"Topic6\", \"Topic7\", \"Topic7\", \"Topic7\", \"Topic7\", \"Topic7\", \"Topic7\", \"Topic7\", \"Topic7\", \"Topic7\", \"Topic7\", \"Topic7\", \"Topic7\", \"Topic7\", \"Topic7\", \"Topic7\", \"Topic7\", \"Topic7\", \"Topic7\", \"Topic7\", \"Topic7\", \"Topic7\", \"Topic7\", \"Topic7\", \"Topic7\", \"Topic7\", \"Topic7\", \"Topic7\", \"Topic7\", \"Topic7\", \"Topic7\", \"Topic7\", \"Topic7\", \"Topic7\", \"Topic7\", \"Topic7\", \"Topic7\", \"Topic7\", \"Topic7\", \"Topic7\", \"Topic7\", \"Topic7\", \"Topic7\", \"Topic7\", \"Topic7\", \"Topic7\", \"Topic7\", \"Topic7\", \"Topic7\", \"Topic7\", \"Topic7\", \"Topic7\", \"Topic7\", \"Topic7\", \"Topic7\", \"Topic7\", \"Topic7\", \"Topic7\", \"Topic7\", \"Topic8\", \"Topic8\", \"Topic8\", \"Topic8\", \"Topic8\", \"Topic8\", \"Topic8\", \"Topic8\", \"Topic8\", \"Topic8\", \"Topic8\", \"Topic8\", \"Topic8\", \"Topic8\", \"Topic8\", \"Topic8\", \"Topic8\", \"Topic8\", \"Topic8\", \"Topic8\", \"Topic8\", \"Topic8\", \"Topic8\", \"Topic8\", \"Topic8\", \"Topic8\", \"Topic8\", \"Topic8\", \"Topic8\", \"Topic8\", \"Topic8\", \"Topic8\", \"Topic8\", \"Topic8\", \"Topic8\", \"Topic8\", \"Topic8\", \"Topic8\", \"Topic8\", \"Topic8\", \"Topic8\", \"Topic8\", \"Topic8\", \"Topic8\", \"Topic8\", \"Topic8\", \"Topic8\", \"Topic8\", \"Topic8\", \"Topic8\", \"Topic8\", \"Topic8\", \"Topic8\", \"Topic8\", \"Topic8\", \"Topic9\", \"Topic9\", \"Topic9\", \"Topic9\", \"Topic9\", \"Topic9\", \"Topic9\", \"Topic9\", \"Topic9\", \"Topic9\", \"Topic9\", \"Topic9\", \"Topic9\", \"Topic9\", \"Topic9\", \"Topic9\", \"Topic9\", \"Topic9\", \"Topic9\", \"Topic9\", \"Topic9\", \"Topic9\", \"Topic9\", \"Topic9\", \"Topic9\", \"Topic9\", \"Topic9\", \"Topic9\", \"Topic9\", \"Topic9\", \"Topic9\", \"Topic9\", \"Topic9\", \"Topic9\", \"Topic9\", \"Topic9\", \"Topic9\", \"Topic9\", \"Topic9\", \"Topic9\", \"Topic9\", \"Topic9\", \"Topic9\", \"Topic9\", \"Topic9\", \"Topic9\", \"Topic9\", \"Topic9\", \"Topic9\", \"Topic9\", \"Topic9\", \"Topic10\", \"Topic10\", \"Topic10\", \"Topic10\", \"Topic10\", \"Topic10\", \"Topic10\", \"Topic10\", \"Topic10\", \"Topic10\", \"Topic10\", \"Topic10\", \"Topic10\", \"Topic10\", \"Topic10\", \"Topic10\", \"Topic10\", \"Topic10\", \"Topic10\", \"Topic10\", \"Topic10\", \"Topic10\", \"Topic10\", \"Topic10\", \"Topic10\", \"Topic10\", \"Topic10\", \"Topic10\", \"Topic10\", \"Topic10\", \"Topic10\", \"Topic10\", \"Topic10\", \"Topic10\", \"Topic10\", \"Topic10\", \"Topic10\", \"Topic10\", \"Topic10\", \"Topic10\", \"Topic10\", \"Topic10\", \"Topic10\", \"Topic10\", \"Topic10\", \"Topic10\", \"Topic10\", \"Topic10\", \"Topic10\", \"Topic10\", \"Topic10\", \"Topic10\", \"Topic11\", \"Topic11\", \"Topic11\", \"Topic11\", \"Topic11\", \"Topic11\", \"Topic11\", \"Topic11\", \"Topic11\", \"Topic11\", \"Topic11\", \"Topic11\", \"Topic11\", \"Topic11\", \"Topic11\", \"Topic11\", \"Topic11\", \"Topic11\", \"Topic11\", \"Topic11\", \"Topic11\", \"Topic11\", \"Topic11\", \"Topic11\", \"Topic11\", \"Topic11\", \"Topic11\", \"Topic11\", \"Topic11\", \"Topic11\", \"Topic11\", \"Topic11\", \"Topic11\", \"Topic11\", \"Topic11\", \"Topic11\", \"Topic11\", \"Topic11\", \"Topic11\", \"Topic11\", \"Topic11\", \"Topic11\", \"Topic11\", \"Topic11\", \"Topic11\", \"Topic11\", \"Topic11\", \"Topic11\", \"Topic11\", \"Topic11\", \"Topic11\", \"Topic12\", \"Topic12\", \"Topic12\", \"Topic12\", \"Topic12\", \"Topic12\", \"Topic12\", \"Topic12\", \"Topic12\", \"Topic12\", \"Topic12\", \"Topic12\", \"Topic12\", \"Topic12\", \"Topic12\", \"Topic12\", \"Topic12\", \"Topic12\", \"Topic12\", \"Topic12\", \"Topic12\", \"Topic12\", \"Topic12\", \"Topic12\", \"Topic12\", \"Topic12\", \"Topic12\", \"Topic12\", \"Topic12\", \"Topic12\", \"Topic12\", \"Topic12\", \"Topic12\", \"Topic12\", \"Topic12\", \"Topic12\", \"Topic12\", \"Topic12\", \"Topic12\", \"Topic12\", \"Topic12\", \"Topic12\", \"Topic12\", \"Topic12\", \"Topic12\", \"Topic12\", \"Topic12\", \"Topic12\", \"Topic12\", \"Topic12\", \"Topic12\", \"Topic12\", \"Topic12\", \"Topic12\", \"Topic13\", \"Topic13\", \"Topic13\", \"Topic13\", \"Topic13\", \"Topic13\", \"Topic13\", \"Topic13\", \"Topic13\", \"Topic13\", \"Topic13\", \"Topic13\", \"Topic13\", \"Topic13\", \"Topic13\", \"Topic13\", \"Topic13\", \"Topic13\", \"Topic13\", \"Topic13\", \"Topic13\", \"Topic13\", \"Topic13\", \"Topic13\", \"Topic13\", \"Topic13\", \"Topic13\", \"Topic13\", \"Topic13\", \"Topic13\", \"Topic13\", \"Topic13\", \"Topic13\", \"Topic13\", \"Topic13\", \"Topic13\", \"Topic13\", \"Topic13\", \"Topic13\", \"Topic13\", \"Topic13\", \"Topic13\", \"Topic13\", \"Topic13\", \"Topic13\", \"Topic13\", \"Topic13\", \"Topic13\", \"Topic13\", \"Topic13\", \"Topic13\", \"Topic13\", \"Topic13\", \"Topic13\", \"Topic13\", \"Topic14\", \"Topic14\", \"Topic14\", \"Topic14\", \"Topic14\", \"Topic14\", \"Topic14\", \"Topic14\", \"Topic14\", \"Topic14\", \"Topic14\", \"Topic14\", \"Topic14\", \"Topic14\", \"Topic14\", \"Topic14\", \"Topic14\", \"Topic14\", \"Topic14\", \"Topic14\", \"Topic14\", \"Topic14\", \"Topic14\", \"Topic14\", \"Topic14\", \"Topic14\", \"Topic14\", \"Topic14\", \"Topic14\", \"Topic14\", \"Topic14\", \"Topic14\", \"Topic14\", \"Topic14\", \"Topic14\", \"Topic14\", \"Topic14\", \"Topic14\", \"Topic14\", \"Topic14\", \"Topic14\", \"Topic14\", \"Topic14\", \"Topic14\", \"Topic14\", \"Topic14\", \"Topic14\", \"Topic14\", \"Topic14\", \"Topic14\", \"Topic14\", \"Topic14\", \"Topic14\", \"Topic14\", \"Topic14\", \"Topic14\"], \"logprob\": [30.0, 29.0, 28.0, 27.0, 26.0, 25.0, 24.0, 23.0, 22.0, 21.0, 20.0, 19.0, 18.0, 17.0, 16.0, 15.0, 14.0, 13.0, 12.0, 11.0, 10.0, 9.0, 8.0, 7.0, 6.0, 5.0, 4.0, 3.0, 2.0, 1.0, -6.4587, -6.3155, -5.4189, -5.1659, -4.6742, -6.6448, -4.8627, -6.2698, -6.3696, -5.4363, -6.3033, -6.1025, -6.8931, -6.2949, -6.5582, -5.0284, -6.1826, -5.0015, -5.2485, -5.3652, -5.1005, -4.2994, -5.9167, -6.124, -5.7906, -6.4907, -6.5901, -7.1202, -3.6395, -6.9937, -5.3262, -5.5167, -4.7612, -5.6051, -3.7699, -4.4258, -5.0811, -3.5637, -4.6694, -4.5856, -4.9645, -4.8337, -5.1602, -4.8325, -3.7391, -5.37, -4.6119, -3.9713, -4.8494, -4.9607, -4.4486, -4.4769, -4.8866, -4.5021, -5.0431, -4.7317, -4.8619, -4.8643, -5.0334, -5.0663, -6.3711, -6.1461, -3.2413, -5.0413, -5.9973, -4.7357, -5.6492, -5.4893, -5.5992, -6.5781, -6.5062, -3.0394, -4.381, -6.2985, -5.2477, -4.9917, -5.2739, -6.1513, -4.6586, -7.1074, -3.2093, -6.3198, -5.9165, -7.1054, -6.3346, -6.776, -6.353, -6.7733, -3.7572, -6.3719, -3.4794, -4.8194, -5.3781, -5.098, -5.2525, -5.3486, -5.0065, -4.9672, -3.9862, -4.7684, -4.4326, -4.4551, -4.7306, -4.019, -4.1466, -4.579, -4.1876, -4.662, -4.6489, -5.0515, -5.0431, -5.0424, -4.8571, -5.0178, -5.646, -4.8759, -3.2994, -5.4662, -5.4511, -5.6673, -5.5367, -4.3565, -6.0647, -5.0782, -5.8474, -6.4954, -6.391, -3.5151, -5.1727, -4.8297, -5.58, -6.8884, -4.8264, -5.3282, -5.7981, -6.9875, -4.6253, -6.8249, -5.8497, -6.644, -6.7863, -6.5629, -6.7793, -7.2125, -5.9371, -5.7437, -5.2915, -3.9187, -5.0723, -4.6224, -4.3914, -5.167, -4.6451, -4.7797, -5.0777, -4.4134, -4.2921, -4.2148, -4.2657, -4.5976, -4.4692, -4.3184, -4.2891, -4.5309, -5.0019, -4.8306, -4.778, -5.0341, -4.8423, -4.8686, -5.0531, -4.2094, -5.9737, -5.6997, -4.8044, -3.812, -3.3038, -4.606, -6.5403, -3.3571, -4.1946, -5.535, -5.9605, -3.815, -6.0927, -6.5849, -4.4408, -4.5204, -5.2561, -6.9531, -5.899, -6.0195, -5.9579, -3.9674, -6.1446, -7.1703, -7.2338, -5.0386, -6.8554, -5.1878, -5.7814, -3.7473, -5.8404, -6.592, -5.1791, -4.9963, -4.7015, -4.2542, -4.8444, -4.7772, -5.222, -4.4278, -4.0691, -4.3304, -5.0871, -4.3495, -4.7072, -4.6234, -4.7981, -4.6718, -4.8596, -4.8921, -4.8905, -4.9984, -5.0157, -4.9844, -5.0266, -3.8776, -5.6282, -5.1447, -5.6257, -5.2625, -4.9274, -5.5376, -5.964, -5.3818, -5.6048, -5.995, -3.8634, -5.3099, -5.632, -5.9169, -3.5643, -6.1206, -6.4244, -4.7023, -5.1197, -6.2375, -6.4618, -6.7304, -6.0478, -5.5036, -5.8488, -6.2604, -4.9226, -4.0605, -5.0528, -4.2108, -4.0112, -4.562, -5.4403, -5.1813, -5.355, -4.4888, -4.327, -5.0624, -4.7585, -3.8514, -4.0641, -4.4669, -4.7886, -4.8208, -4.7142, -4.8143, -4.7464, -4.9864, -4.8719, -4.9936, -4.9516, -4.9989, -4.9909, -5.0128, -5.5782, -4.8369, -5.6966, -5.8238, -4.6351, -5.66, -5.4996, -6.1024, -4.4511, -6.4808, -4.5101, -5.5247, -6.4886, -6.4994, -5.8095, -5.5193, -6.1349, -5.7044, -2.42, -3.1212, -4.7488, -6.4974, -4.7117, -6.0915, -5.9788, -5.8613, -6.3528, -4.6725, -6.6784, -7.0277, -3.1053, -4.7343, -5.6403, -4.148, -4.374, -4.7169, -5.3148, -4.6178, -4.6887, -5.2244, -4.3299, -4.5276, -4.3163, -5.0355, -4.5557, -4.6197, -5.0896, -5.2803, -5.052, -4.9351, -5.1666, -5.2333, -5.2126, -5.2414, -5.4955, -4.8885, -4.3775, -2.8329, -5.4963, -6.0717, -6.0606, -4.688, -5.0191, -3.523, -6.5552, -6.1815, -6.1755, -5.5916, -4.3091, -6.3227, -5.9545, -3.8377, -6.3914, -6.2108, -6.2412, -6.0664, -7.1183, -4.4153, -3.7545, -6.2439, -5.9395, -5.2363, -6.829, -6.8711, -5.7593, -4.4033, -5.7515, -4.3226, -4.8331, -3.9254, -5.2974, -4.438, -5.3131, -4.8254, -4.4258, -5.4666, -5.1088, -4.7957, -4.2962, -5.4212, -4.5497, -4.7405, -4.898, -5.2067, -4.552, -4.5987, -4.6373, -4.8388, -4.8733, -4.9098, -5.0269, -5.1084, -5.7261, -4.3808, -4.8078, -5.1097, -5.4417, -5.9151, -5.1575, -5.8441, -5.12, -4.6176, -4.7602, -6.1036, -6.1665, -4.8334, -6.3313, -5.0472, -5.3472, -6.0667, -5.5963, -4.5601, -6.4744, -4.915, -5.2343, -6.5936, -6.327, -4.8537, -3.687, -6.3101, -4.8006, -5.7609, -5.3538, -4.3976, -3.4051, -4.2743, -4.4656, -4.7226, -4.4492, -5.1899, -5.2791, -5.0948, -3.9433, -4.8556, -4.5672, -4.2818, -5.0892, -4.3021, -4.4636, -4.5676, -4.6806, -4.8693, -4.8719, -4.928, -4.9542, -5.0567, -5.034, -5.3978, -3.712, -5.0072, -3.9435, -5.0772, -4.1294, -3.8484, -5.0664, -5.6155, -5.875, -3.9826, -5.1839, -5.8152, -4.4841, -6.6762, -5.8547, -5.2942, -6.4727, -6.2845, -6.0325, -5.6656, -6.6319, -6.0595, -4.9906, -6.5675, -3.2675, -3.8001, -5.7381, -5.9175, -6.129, -3.574, -4.3634, -5.7458, -4.4076, -4.8875, -3.8738, -5.109, -4.8981, -4.6748, -4.6537, -4.8981, -4.8352, -4.393, -4.5913, -4.6101, -4.4372, -4.662, -4.9633, -4.9647, -4.9474, -5.0494, -5.1538, -4.838, -5.3685, -3.7618, -3.8636, -4.6242, -4.0532, -2.7744, -5.9252, -4.8373, -5.9678, -4.7317, -6.5558, -5.4495, -5.1572, -4.9903, -6.5349, -5.8168, -6.6171, -5.6268, -4.2342, -6.4712, -5.1073, -5.6125, -5.4228, -6.7352, -6.6081, -6.6572, -5.5293, -5.7938, -5.0615, -6.1188, -3.8733, -4.5013, -4.5567, -4.2118, -3.9585, -4.2107, -4.1048, -4.4137, -4.5006, -5.1423, -4.733, -4.9906, -4.6271, -4.7925, -5.0139, -4.981, -4.9624, -5.0386, -5.1045, -5.1058, -3.7597, -5.2249, -3.2826, -4.4984, -5.9149, -4.1901, -5.6554, -4.4164, -5.7097, -3.9651, -3.7588, -6.5055, -4.7884, -4.6704, -5.5775, -6.7882, -4.7453, -5.0166, -6.9385, -7.0499, -5.2823, -4.6597, -6.8971, -4.5026, -6.7142, -3.6795, -7.3069, -4.0182, -7.3945, -7.0731, -4.0468, -5.287, -4.7866, -5.5339, -4.0908, -5.3761, -5.3337, -4.0889, -4.1726, -5.0185, -4.7181, -4.4949, -4.108, -4.5127, -4.5893, -4.5703, -4.9439, -4.5733, -4.8674, -4.9346, -5.0063, -4.0972, -4.8249, -5.9269, -5.5093, -4.8038, -6.191, -3.038, -4.0738, -5.9185, -4.8041, -4.019, -5.9815, -5.9105, -6.2278, -6.3141, -6.7903, -4.5957, -6.6558, -5.3053, -5.9115, -5.8953, -5.5722, -6.8883, -6.2573, -6.3765, -5.5966, -7.0104, -5.9095, -7.4204, -6.5803, -3.1466, -4.6979, -5.7477, -4.7732, -4.1812, -5.0642, -3.842, -4.8802, -4.4246, -4.1761, -4.4598, -5.3189, -4.7302, -4.8699, -4.6171, -4.9439, -5.0979, -5.2013, -5.1072, -5.0412, -5.0532, -4.9066, -5.0964, -5.1502, -2.5512, -5.0725, -5.5553, -6.4474, -5.6946, -4.3058, -6.1078, -4.5904, -3.5229, -6.9777, -5.8601, -6.1047, -7.1191, -6.0865, -6.839, -7.0573, -7.2307, -6.24, -5.1048, -6.6908, -5.2666, -4.9589, -6.8253, -6.933, -7.1404, -7.2033, -6.8271, -7.3091, -6.9416, -6.5507, -4.6785, -3.9163, -3.2635, -4.6372, -5.2871, -4.9419, -4.2029, -5.0207, -5.0914, -4.3175, -4.6878, -5.026, -5.1767, -5.0415, -4.4664, -4.7152, -4.3816, -4.5433, -4.4858, -4.8685, -4.9486, -4.9681, -5.1055, -5.1399, -5.1739, -5.5111, -3.4057, -4.8816, -5.2148, -3.4894, -5.3343, -4.9989, -5.9471, -3.1588, -6.1946, -3.9517, -4.652, -4.6498, -4.4903, -5.4971, -6.244, -5.725, -5.4743, -5.6988, -6.2234, -5.4826, -5.7781, -5.8009, -5.1647, -5.563, -6.9053, -6.5822, -6.8331, -6.812, -6.7674, -6.1369, -5.4818, -5.6914, -4.0168, -5.7168, -5.9506, -5.6741, -4.6649, -5.2919, -4.7188, -4.2668, -4.0678, -4.6486, -4.5722, -4.6989, -4.5583, -4.8884, -4.8059, -4.677, -4.7228, -4.9431, -5.1134, -5.2151, -5.1773, -5.1911, -5.1944], \"loglift\": [30.0, 29.0, 28.0, 27.0, 26.0, 25.0, 24.0, 23.0, 22.0, 21.0, 20.0, 19.0, 18.0, 17.0, 16.0, 15.0, 14.0, 13.0, 12.0, 11.0, 10.0, 9.0, 8.0, 7.0, 6.0, 5.0, 4.0, 3.0, 2.0, 1.0, 2.0021, 2.001, 2.0001, 1.9551, 1.929, 1.9246, 1.9144, 1.9084, 1.887, 1.8858, 1.8699, 1.8673, 1.8369, 1.8057, 1.803, 1.7836, 1.7825, 1.7739, 1.7671, 1.7419, 1.7286, 1.7179, 1.6966, 1.6771, 1.6742, 1.6666, 1.6584, 1.6549, 1.6453, 1.6431, 1.6425, 1.6332, 1.5963, 1.6249, 1.4874, 1.3843, 1.4351, 1.0327, 1.326, 1.238, 1.3035, 1.2368, 1.361, 1.1276, 0.4598, 1.3796, 0.8503, 0.3495, 0.9756, 1.0312, 0.5504, 0.2468, 0.799, -0.0848, 0.9304, -0.4052, 0.1191, -0.0424, -0.0226, 0.3068, 2.1779, 2.0783, 2.0398, 2.0379, 2.0019, 1.9858, 1.9698, 1.8997, 1.8375, 1.809, 1.7628, 1.7264, 1.6692, 1.6011, 1.5628, 1.539, 1.5331, 1.5244, 1.4922, 1.4749, 1.4703, 1.4686, 1.4431, 1.4183, 1.3946, 1.3918, 1.3908, 1.3829, 1.3796, 1.3501, 1.1618, 1.1962, 1.2396, 1.1997, 1.1915, 1.1163, 0.9971, 0.9664, 0.5566, 0.8572, 0.638, 0.6248, 0.7731, 0.3075, 0.2707, 0.4609, 0.0113, 0.3489, 0.173, 0.7355, 0.6015, 0.5144, -0.1334, 0.3641, 2.234, 2.2235, 2.1909, 2.167, 2.1561, 2.1346, 2.1232, 2.1024, 2.0764, 2.0746, 2.0604, 2.0383, 2.0366, 2.0357, 2.033, 2.0311, 1.9534, 1.8875, 1.8828, 1.8565, 1.8202, 1.8189, 1.7618, 1.7568, 1.7435, 1.738, 1.7344, 1.6626, 1.6587, 1.5982, 1.5704, 1.5484, 1.4578, 1.1212, 1.348, 1.2013, 1.1281, 1.2598, 1.0619, 1.0453, 1.1484, 0.7233, 0.6115, 0.328, 0.1515, 0.4735, 0.2965, 0.0081, -0.0902, 0.1103, 0.9399, 0.5389, 0.2926, 0.8798, 0.1685, -0.1449, 0.8899, 2.2408, 2.2023, 2.1884, 2.1664, 2.0913, 2.0891, 2.0427, 1.9809, 1.9415, 1.8505, 1.8303, 1.787, 1.7689, 1.7551, 1.7414, 1.7386, 1.7242, 1.7159, 1.6725, 1.5815, 1.5661, 1.5275, 1.5039, 1.4941, 1.4462, 1.4403, 1.4339, 1.4216, 1.4154, 1.4126, 1.3238, 1.3454, 1.4009, 1.2772, 1.2573, 1.0684, 0.7292, 0.9616, 0.9117, 1.1005, 0.6121, 0.2574, 0.2124, 0.8268, 0.0677, 0.3634, 0.0178, 0.2019, -0.473, -0.0377, -0.1684, -0.2109, 0.0125, 0.1211, 2.3963, 2.374, 2.3728, 2.3626, 2.3306, 2.324, 2.2912, 2.2522, 2.2507, 2.2475, 2.2176, 2.1994, 2.1803, 2.1749, 2.1715, 2.1307, 2.126, 2.1135, 2.1038, 2.087, 2.0743, 2.0732, 2.0487, 2.0451, 2.0415, 2.0241, 2.0208, 2.0166, 2.0141, 2.0008, 1.8175, 1.8557, 1.7231, 1.6144, 1.6284, 1.8477, 1.761, 1.797, 1.2632, 1.1428, 1.5281, 1.2256, 0.3475, 0.2624, 0.6039, 0.7681, 0.5175, 0.2668, 0.4213, 0.0756, 0.6993, -0.5512, 0.2485, -0.3552, -0.0953, -0.2672, -0.5956, 2.6009, 2.4719, 2.4447, 2.4099, 2.2272, 2.1799, 2.163, 2.1107, 2.1058, 2.0654, 2.049, 2.0024, 1.9867, 1.984, 1.9834, 1.9611, 1.9378, 1.9346, 1.9007, 1.8623, 1.7919, 1.778, 1.7657, 1.7596, 1.7534, 1.7183, 1.7165, 1.6916, 1.6605, 1.6529, 1.4375, 1.4451, 1.5389, 1.1507, 1.1455, 1.2262, 1.3767, 0.8536, 0.8953, 1.2336, 0.3938, 0.4724, 0.0102, 0.8425, -0.1385, -0.0234, 0.5961, 1.058, -0.1485, -0.7363, 0.0756, 0.2006, -0.1418, -0.0058, 2.6634, 2.6463, 2.6439, 2.5706, 2.4942, 2.3898, 2.236, 2.2304, 2.2131, 2.1846, 2.17, 2.1009, 2.0936, 2.0871, 2.0452, 2.0371, 2.0048, 1.9517, 1.8961, 1.8894, 1.8843, 1.799, 1.7699, 1.7341, 1.7153, 1.6899, 1.6513, 1.6456, 1.6352, 1.6108, 1.5883, 1.5303, 1.5383, 1.1396, 1.1294, 0.6709, 1.3233, 0.8193, 1.3047, 0.9398, 0.5742, 1.3589, 1.0486, 0.7323, 0.121, 1.284, -0.0069, 0.2405, 0.484, 0.9441, -0.3531, -0.278, -0.3108, -0.0168, -0.1937, -0.2686, -0.016, 0.5597, 2.5759, 2.5308, 2.5172, 2.5094, 2.4852, 2.4799, 2.4199, 2.3888, 2.3698, 2.3551, 2.3464, 2.2901, 2.2807, 2.2685, 2.2448, 2.2397, 2.2187, 2.179, 2.1623, 2.1537, 2.1389, 2.1348, 2.0799, 2.0731, 2.0556, 2.0485, 2.02, 2.0063, 1.9814, 1.9372, 1.9314, 1.8, 1.6657, 1.6969, 1.6325, 1.5997, 1.316, 1.7001, 1.7398, 1.5585, 0.3832, 1.2897, 0.9608, 0.1355, 1.4871, 0.0186, 0.0792, 0.2544, 0.39, 0.593, 0.3637, 0.4451, -0.0506, 1.2658, 0.3102, 2.6516, 2.6391, 2.6266, 2.534, 2.5074, 2.4304, 2.3709, 2.3593, 2.341, 2.3156, 2.2338, 2.2064, 2.047, 2.0336, 2.0192, 1.9966, 1.9956, 1.9337, 1.9327, 1.915, 1.884, 1.849, 1.835, 1.8205, 1.7714, 1.7325, 1.7276, 1.7258, 1.719, 1.6416, 1.4249, 1.4018, 1.5684, 1.0638, 1.2106, 0.7225, 1.2132, 1.0748, 0.9091, 0.8744, 0.9502, 0.8718, 0.3307, 0.4794, 0.2935, -0.2384, 0.16, 0.8052, 0.0188, -0.6208, -0.6321, 2.7711, 2.7065, 2.6408, 2.4953, 2.4386, 2.4298, 2.4048, 2.3959, 2.26, 2.2456, 2.1049, 2.0938, 2.0781, 2.0729, 2.0579, 2.0366, 1.9888, 1.9607, 1.9373, 1.9219, 1.9115, 1.9041, 1.8942, 1.8839, 1.8553, 1.8148, 1.6904, 1.6752, 1.6644, 1.6441, 1.63, 1.6125, 1.1102, 0.9701, 0.9628, 0.6918, 0.4587, 0.4305, 0.2217, 0.4083, 0.4994, 0.8311, 0.0327, 0.5131, -0.4282, -0.1962, 0.2217, 0.0299, -0.2829, -0.0575, 0.1376, -0.563, 2.3977, 2.363, 2.3316, 2.3261, 2.3074, 2.2844, 2.2573, 2.2456, 2.0683, 2.0078, 1.9932, 1.8757, 1.8718, 1.8559, 1.735, 1.706, 1.6089, 1.604, 1.4926, 1.4868, 1.4409, 1.4406, 1.4193, 1.4113, 1.3961, 1.3916, 1.3658, 1.3638, 1.3285, 1.314, 1.2915, 1.2721, 1.1867, 1.2154, 0.9082, 1.1424, 1.1311, 0.5907, 0.5511, 0.9656, 0.8099, 0.545, 0.0909, 0.4683, 0.4815, 0.2517, 0.8212, -0.2467, -0.3246, -0.5174, -0.4099, 2.7269, 2.6934, 2.4854, 2.4313, 2.4173, 2.3356, 2.3003, 2.1608, 2.1419, 2.1044, 2.0791, 1.9732, 1.8899, 1.8853, 1.88, 1.8652, 1.8526, 1.8384, 1.8029, 1.782, 1.7192, 1.7028, 1.694, 1.6582, 1.6422, 1.637, 1.6056, 1.5985, 1.5979, 1.5759, 1.4946, 1.4997, 1.5403, 1.3725, 0.7998, 1.1262, 0.4787, 0.8718, 0.5754, 0.0228, 0.2639, 1.0034, 0.1734, 0.21, -0.2906, 0.067, 0.336, 0.4765, 0.237, 0.0296, 0.0174, -0.4893, -0.0253, -0.0134, 3.0125, 2.8344, 2.4762, 2.2623, 2.1216, 2.0584, 1.8821, 1.8618, 1.8465, 1.8382, 1.7976, 1.7848, 1.7782, 1.7439, 1.7189, 1.7145, 1.7088, 1.7003, 1.6546, 1.5954, 1.5867, 1.5589, 1.5541, 1.4851, 1.4826, 1.4539, 1.3671, 1.3236, 1.3018, 1.297, 1.2948, 1.0827, 0.9354, 1.0484, 1.1332, 1.0618, 0.837, 0.9418, 0.8422, 0.4483, 0.4824, 0.6629, 0.7267, 0.6213, 0.2132, 0.3554, 0.0356, 0.1804, -0.1593, -0.0465, 0.0324, -0.6474, -0.0344, 0.1022, -0.094, 2.9219, 2.9201, 2.6811, 2.6265, 2.6218, 2.5395, 2.5158, 2.4043, 2.3689, 2.3581, 2.3522, 2.3494, 2.2995, 2.2991, 2.2805, 2.2749, 2.2676, 2.257, 2.2487, 2.173, 2.1484, 2.0859, 2.0645, 1.9938, 1.9857, 1.8706, 1.8442, 1.8098, 1.7964, 1.7826, 1.78, 1.7665, 1.7603, 1.6512, 1.7144, 1.7429, 1.6856, 1.3688, 1.482, 1.0913, 0.6368, 0.3495, 0.5936, 0.4387, 0.5584, 0.038, 0.3472, 0.016, -0.4781, -0.3963, 0.1368, 0.2597, 0.7187, 0.4483, 0.4793, 0.1751]}, \"token.table\": {\"Topic\": [1, 2, 3, 4, 5, 6, 7, 8, 9, 10, 11, 12, 13, 14, 1, 2, 3, 4, 5, 6, 7, 8, 9, 10, 11, 12, 13, 14, 1, 2, 3, 4, 5, 6, 7, 8, 9, 10, 11, 12, 13, 14, 1, 2, 3, 4, 5, 6, 7, 8, 9, 12, 13, 14, 1, 2, 3, 4, 5, 6, 7, 8, 9, 10, 11, 12, 13, 14, 1, 2, 3, 4, 5, 6, 7, 8, 9, 10, 11, 12, 13, 14, 1, 2, 3, 4, 5, 6, 7, 8, 9, 10, 11, 12, 13, 14, 1, 2, 3, 4, 5, 7, 8, 9, 10, 11, 12, 13, 14, 1, 2, 3, 4, 5, 6, 7, 8, 9, 10, 11, 12, 13, 14, 1, 2, 3, 4, 5, 6, 7, 8, 9, 10, 11, 12, 13, 14, 1, 2, 3, 4, 6, 7, 8, 9, 10, 11, 12, 13, 1, 2, 3, 4, 5, 6, 7, 8, 9, 10, 11, 12, 13, 14, 1, 2, 4, 5, 6, 10, 11, 12, 13, 1, 2, 3, 4, 5, 6, 7, 8, 9, 11, 12, 13, 3, 4, 6, 7, 9, 11, 12, 14, 1, 2, 3, 4, 5, 6, 7, 8, 9, 10, 11, 12, 13, 1, 2, 3, 4, 5, 6, 8, 9, 10, 11, 12, 13, 14, 1, 2, 3, 4, 5, 6, 7, 8, 10, 11, 12, 13, 1, 2, 5, 8, 9, 11, 12, 13, 14, 1, 2, 3, 4, 5, 6, 7, 10, 11, 12, 13, 14, 3, 4, 5, 6, 7, 9, 10, 12, 13, 1, 2, 3, 5, 6, 7, 9, 10, 11, 13, 14, 1, 2, 3, 4, 5, 6, 7, 8, 9, 10, 11, 12, 13, 14, 1, 2, 3, 4, 5, 6, 7, 8, 9, 10, 11, 12, 13, 14, 1, 2, 3, 4, 5, 6, 7, 9, 10, 11, 12, 14, 1, 2, 3, 4, 5, 6, 7, 8, 9, 10, 11, 12, 13, 14, 1, 2, 3, 4, 5, 6, 7, 8, 9, 10, 11, 12, 13, 14, 1, 2, 3, 4, 5, 6, 7, 8, 9, 10, 11, 12, 13, 14, 1, 2, 3, 4, 5, 6, 7, 9, 11, 12, 13, 14, 1, 2, 3, 4, 5, 6, 7, 8, 9, 10, 11, 12, 13, 14, 1, 2, 3, 4, 5, 6, 7, 8, 9, 10, 11, 12, 1, 2, 3, 4, 5, 6, 7, 10, 11, 12, 14, 1, 2, 4, 5, 6, 7, 8, 9, 10, 11, 12, 13, 1, 3, 4, 5, 6, 7, 8, 9, 10, 11, 12, 13, 14, 1, 2, 3, 4, 5, 6, 7, 8, 9, 10, 11, 12, 13, 1, 5, 6, 8, 12, 1, 2, 4, 6, 8, 10, 11, 13, 1, 3, 6, 7, 9, 10, 11, 12, 1, 2, 3, 4, 5, 7, 9, 10, 11, 12, 13, 14, 1, 2, 3, 4, 5, 6, 7, 8, 9, 10, 11, 12, 13, 14, 1, 2, 3, 4, 5, 6, 7, 8, 10, 11, 12, 13, 14, 1, 3, 4, 5, 6, 9, 10, 11, 14, 1, 2, 3, 4, 6, 7, 8, 10, 11, 13, 1, 2, 5, 6, 13, 14, 1, 3, 4, 5, 6, 7, 8, 10, 11, 12, 13, 14, 1, 2, 3, 4, 5, 6, 7, 8, 10, 11, 12, 13, 14, 1, 2, 3, 4, 5, 6, 7, 8, 9, 10, 11, 12, 13, 14, 1, 2, 3, 4, 5, 7, 9, 11, 12, 13, 1, 2, 3, 4, 5, 6, 7, 8, 9, 10, 11, 12, 13, 14, 1, 2, 3, 4, 7, 8, 9, 10, 11, 12, 13, 1, 2, 3, 4, 5, 6, 7, 8, 11, 12, 13, 1, 2, 3, 4, 5, 6, 7, 8, 9, 10, 11, 12, 13, 14, 1, 2, 3, 4, 5, 6, 7, 9, 10, 11, 12, 13, 14, 1, 2, 3, 4, 5, 6, 7, 8, 9, 10, 11, 12, 13, 14, 1, 2, 3, 4, 5, 6, 7, 8, 9, 10, 11, 13, 14, 1, 2, 3, 4, 5, 6, 7, 8, 9, 10, 11, 12, 13, 14, 1, 2, 3, 4, 5, 6, 7, 8, 9, 10, 11, 12, 13, 14, 1, 2, 3, 4, 5, 8, 10, 11, 12, 13, 14, 1, 2, 3, 4, 5, 6, 7, 8, 9, 10, 11, 12, 13, 14, 2, 3, 4, 6, 8, 9, 11, 12, 13, 1, 2, 3, 4, 5, 6, 8, 10, 11, 12, 13, 14, 1, 2, 3, 4, 5, 6, 7, 8, 9, 10, 11, 12, 13, 14, 2, 3, 4, 7, 8, 10, 11, 13, 14, 1, 2, 3, 4, 5, 6, 7, 8, 9, 10, 11, 12, 13, 14, 2, 3, 4, 5, 9, 11, 12, 13, 3, 4, 5, 8, 9, 10, 12, 13, 14, 1, 2, 3, 4, 6, 8, 1, 2, 3, 5, 6, 7, 8, 11, 12, 13, 14, 1, 3, 5, 6, 10, 13, 3, 5, 7, 8, 9, 12, 1, 3, 4, 5, 8, 9, 10, 12, 13, 14, 1, 2, 3, 4, 5, 6, 7, 8, 9, 10, 11, 12, 13, 14, 1, 2, 3, 4, 5, 6, 7, 8, 10, 11, 13, 1, 2, 3, 4, 5, 6, 7, 8, 9, 10, 11, 12, 13, 14, 1, 2, 3, 4, 5, 6, 7, 8, 9, 10, 11, 12, 1, 2, 3, 5, 6, 9, 11, 12, 13, 14, 1, 2, 3, 4, 5, 6, 7, 8, 9, 10, 11, 12, 13, 14, 2, 3, 4, 5, 6, 7, 10, 11, 13, 14, 1, 2, 4, 5, 6, 7, 8, 9, 10, 11, 12, 13, 14, 1, 2, 3, 4, 5, 6, 7, 8, 9, 10, 11, 12, 13, 14, 1, 2, 3, 4, 5, 7, 8, 9, 10, 11, 13, 14, 1, 2, 3, 4, 5, 6, 7, 8, 9, 10, 11, 12, 13, 14, 1, 2, 3, 4, 5, 6, 7, 8, 9, 10, 11, 12, 13, 14, 1, 2, 3, 4, 5, 6, 8, 9, 11, 12, 13, 14, 1, 2, 3, 4, 5, 6, 7, 8, 9, 10, 11, 12, 13, 14, 1, 2, 3, 4, 6, 7, 8, 9, 12, 13, 14, 1, 2, 3, 4, 5, 6, 7, 8, 9, 10, 11, 12, 13, 14, 1, 2, 3, 4, 6, 7, 8, 1, 2, 3, 4, 5, 6, 7, 8, 9, 10, 11, 12, 13, 14, 1, 3, 5, 7, 9, 12, 13, 1, 2, 3, 4, 5, 6, 7, 8, 9, 11, 12, 13, 14, 1, 2, 3, 4, 5, 6, 7, 9, 10, 11, 12, 13, 14, 1, 2, 5, 11, 12, 13, 1, 2, 3, 4, 7, 8, 10, 11, 12, 13, 14, 1, 2, 3, 4, 5, 6, 7, 8, 9, 10, 11, 12, 13, 14, 1, 2, 3, 4, 5, 6, 7, 10, 11, 12, 14, 1, 2, 4, 5, 6, 7, 8, 9, 10, 11, 12, 13, 14, 1, 2, 3, 4, 5, 6, 7, 8, 9, 10, 11, 12, 13, 14, 1, 2, 3, 4, 5, 6, 7, 8, 9, 10, 11, 12, 13, 14, 1, 2, 3, 4, 5, 6, 7, 8, 9, 10, 11, 12, 13, 14, 3, 4, 5, 6, 7, 9, 10, 11, 12, 13, 14, 1, 2, 3, 4, 5, 6, 7, 9, 10, 11, 12, 13, 14, 2, 3, 4, 7, 8, 9, 11, 12, 13, 1, 2, 3, 4, 5, 6, 7, 8, 9, 10, 11, 12, 13, 14, 2, 3, 4, 7, 9, 12, 1, 2, 3, 4, 5, 6, 7, 8, 9, 10, 11, 12, 13, 14, 1, 2, 3, 4, 5, 6, 7, 8, 9, 10, 11, 12, 13, 14, 1, 2, 3, 4, 6, 8, 9, 10, 11, 13, 1, 2, 3, 4, 5, 6, 7, 8, 9, 10, 11, 12, 13, 14, 2, 3, 4, 8, 9, 11, 12, 2, 3, 8, 9, 12, 1, 2, 3, 4, 5, 6, 7, 9, 12, 13, 14, 1, 2, 3, 4, 5, 6, 7, 8, 9, 10, 11, 12, 13, 1, 3, 4, 5, 7, 8, 9, 10, 11, 13, 1, 2, 3, 4, 5, 6, 7, 8, 9, 10, 11, 12, 13, 14, 3, 7, 8, 9, 11, 12, 1, 2, 3, 4, 5, 6, 9, 10, 11, 13, 1, 2, 5, 6, 7, 8, 10, 11, 12, 13, 14, 4, 5, 6, 13, 14, 1, 2, 3, 4, 5, 6, 7, 8, 9, 10, 11, 12, 13, 14, 1, 2, 3, 4, 6, 7, 8, 9, 10, 11, 12, 14, 1, 2, 3, 4, 5, 6, 7, 8, 9, 10, 11, 12, 13, 14, 1, 2, 3, 4, 5, 6, 7, 8, 9, 10, 11, 12, 13, 14, 2, 4, 5, 6, 10, 13, 14, 1, 2, 3, 4, 5, 6, 7, 8, 9, 10, 11, 12, 13, 14, 2, 3, 8, 9, 10, 11, 12, 13, 14, 1, 2, 3, 4, 5, 6, 7, 8, 9, 10, 11, 12, 13, 14, 1, 2, 3, 4, 5, 6, 7, 8, 9, 10, 11, 12, 13, 14, 1, 2, 3, 4, 5, 6, 7, 8, 9, 10, 11, 12, 13, 14, 1, 3, 4, 5, 7, 8, 9, 10, 11, 12, 13, 1, 4, 7, 9, 10, 11, 2, 3, 4, 5, 8, 11, 12, 13, 14, 1, 2, 3, 4, 5, 6, 7, 8, 10, 12, 13, 14, 1, 2, 3, 4, 5, 7, 8, 9, 10, 11, 12, 13, 14, 1, 2, 3, 4, 5, 6, 7, 8, 9, 10, 11, 12, 13, 1, 2, 3, 7, 8, 11, 12, 13, 14, 1, 2, 4, 6, 7, 9, 10, 12, 1, 2, 6, 7, 9, 10, 12, 2, 3, 4, 7, 9, 10, 12, 13, 1, 2, 4, 6, 7, 8, 11, 12, 13, 14, 1, 2, 3, 4, 5, 6, 7, 8, 9, 10, 11, 12, 13, 14, 1, 3, 4, 5, 6, 7, 8, 9, 10, 11, 12, 1, 2, 3, 4, 7, 8, 9, 11, 13, 14, 1, 2, 3, 4, 5, 6, 7, 8, 9, 11, 12, 13, 14, 1, 2, 3, 4, 5, 6, 7, 8, 9, 10, 11, 12, 13, 14, 1, 2, 3, 4, 5, 6, 7, 8, 9, 10, 11, 12, 13, 14, 1, 4, 5, 6, 11, 12, 13, 14, 2, 3, 4, 5, 6, 7, 8, 9, 10, 11, 12, 13, 14, 1, 2, 3, 4, 6, 7, 8, 9, 10, 11, 12, 13, 14, 1, 4, 6, 7, 1, 2, 3, 4, 5, 6, 7, 8, 9, 10, 11, 12, 13, 14, 5, 6, 8, 10, 11, 12, 14, 1, 2, 3, 4, 5, 6, 7, 8, 9, 10, 11, 12, 13, 14, 1, 2, 5, 6, 7, 8, 9, 11, 12, 13, 14, 1, 2, 4, 6, 9, 10, 12, 14, 2, 3, 4, 6, 9, 12, 13, 14, 1, 5, 6, 7, 8, 10, 11, 12, 13, 14, 1, 2, 3, 4, 5, 6, 7, 8, 9, 10, 11, 12, 13, 14, 1, 2, 4, 7, 11, 14, 1, 2, 3, 4, 5, 6, 7, 8, 9, 10, 11, 12, 13, 14, 1, 2, 3, 4, 5, 6, 7, 8, 11, 12, 13, 2, 3, 5, 6, 7, 9, 10, 11, 12, 13, 3, 4, 6, 8, 9, 14, 3, 6, 7, 8, 9, 10, 12, 13, 14, 1, 3, 7, 8, 9, 11, 1, 2, 3, 4, 5, 6, 7, 8, 9, 10, 11, 12, 13, 14, 2, 4, 5, 6, 8, 9, 10, 11, 12, 13, 14, 1, 2, 3, 4, 5, 6, 7, 8, 9, 10, 11, 12, 13, 14, 1, 2, 3, 4, 5, 6, 7, 8, 9, 10, 11, 12, 13, 14, 1, 2, 3, 4, 5, 6, 7, 8, 9, 10, 11, 12, 13, 14, 1, 2, 3, 4, 5, 6, 7, 8, 9, 10, 11, 12, 13, 14, 1, 2, 3, 5, 6, 7, 11, 12, 13, 14, 1, 2, 3, 4, 5, 6, 7, 8, 9, 10, 11, 12, 13, 14, 1, 2, 3, 4, 5, 8, 10, 11, 12, 13, 1, 2, 4, 5, 6, 7, 8, 9, 11, 12, 13, 1, 2, 4, 5, 6, 8, 9, 12, 13, 14, 1, 2, 3, 4, 5, 6, 7, 8, 9, 10, 13, 1, 2, 3, 4, 5, 6, 7, 8, 9, 10, 11, 12, 13, 1, 2, 3, 4, 5, 6, 7, 8, 9, 10, 11, 12, 13, 1, 3, 4, 5, 6, 8, 9, 10, 12, 13, 14, 1, 2, 3, 4, 6, 7, 8, 9, 10, 11, 12, 13, 14, 1, 2, 3, 5, 6, 7, 8, 10, 11, 12, 13, 14, 1, 2, 3, 4, 5, 6, 7, 8, 9, 10, 11, 12, 13, 14, 1, 2, 3, 4, 5, 6, 7, 8, 9, 10, 11, 12, 13, 14, 1, 4, 6, 8, 9, 11, 12, 13, 1, 2, 3, 4, 5, 6, 7, 8, 9, 10, 11, 12, 13, 14, 2, 3, 4, 5, 7, 11, 13, 14, 2, 5, 6, 7, 8, 11, 12, 13, 1, 2, 4, 5, 6, 7, 8, 9, 10, 11, 12, 13, 2, 3, 4, 5, 11, 12, 13, 14, 1, 3, 4, 5, 6, 7, 8, 9, 10, 11, 12, 13, 14, 1, 2, 3, 4, 5, 6, 7, 8, 9, 10, 11, 12, 13, 14, 1, 2, 3, 4, 5, 6, 7, 8, 9, 10, 11, 12, 13, 14, 1, 2, 3, 5, 7, 8, 9, 11, 12, 13, 14, 1, 2, 3, 4, 5, 6, 7, 8, 9, 10, 11, 12, 13, 14, 1, 2, 3, 4, 5, 6, 7, 8, 9, 10, 11, 12, 13, 14, 1, 2, 3, 4, 5, 6, 9, 11, 12, 13, 1, 2, 3, 4, 5, 6, 7, 11, 12, 13, 1, 2, 3, 4, 6, 9, 10, 12, 13, 14, 1, 2, 3, 4, 5, 6, 7, 8, 9, 10, 11, 12, 13, 14, 2, 3, 4, 5, 6, 7, 8, 9, 10, 11, 13, 14, 1, 2, 3, 4, 5, 6, 7, 8, 9, 10, 11, 12, 13, 14, 1, 2, 3, 6, 7, 8, 9, 10, 2, 3, 5, 6, 9, 10, 11, 13, 14, 1, 2, 3, 4, 5, 6, 8, 9, 11, 12, 13, 14, 1, 2, 3, 4, 5, 6, 7, 8, 9, 10, 11, 12, 13, 1, 3, 4, 9, 12, 13, 1, 2, 5, 8, 12, 13, 1, 2, 4, 5, 6, 7, 11, 12, 14, 1, 2, 3, 4, 5, 6, 7, 9, 10, 11, 12, 13, 14, 2, 3, 4, 7, 10, 12, 13, 14, 1, 3, 4, 6, 7, 8, 9, 11, 12, 13, 1, 2, 4, 5, 6, 7, 8, 9, 10, 11, 12, 13, 14, 1, 5, 6, 9, 10, 11, 12, 13, 14, 1, 2, 3, 4, 5, 6, 7, 8, 9, 10, 11, 12, 13, 14, 1, 4, 5, 6, 9, 12, 13, 1, 2, 3, 4, 5, 6, 7, 8, 9, 10, 11, 12, 13, 14, 1, 2, 5, 7, 9, 10, 11, 12, 1, 2, 3, 4, 8, 9, 11, 12, 13, 1, 2, 3, 4, 5, 6, 7, 8, 9, 10, 11, 12, 13, 14, 1, 2, 3, 4, 5, 7, 8, 9, 11, 12, 13, 1, 2, 4, 5, 6, 7, 8, 9, 10, 11, 12, 13, 14, 1, 2, 3, 4, 5, 6, 7, 8, 9, 10, 11, 12, 13, 14, 1, 2, 3, 4, 5, 6, 7, 8, 9, 10, 11, 12, 13, 14, 1, 2, 3, 4, 5, 6, 7, 8, 10, 11, 12, 13, 14, 1, 2, 3, 4, 5, 6, 7, 8, 9, 10, 11, 12, 13, 14, 1, 2, 3, 4, 5, 6, 7, 8, 9, 10, 11, 12, 13, 14, 2, 3, 4, 9, 10, 11, 12, 1, 2, 4, 7, 10, 11, 13, 14, 1, 4, 5, 6, 10, 11, 13, 14, 1, 2, 3, 4, 5, 6, 7, 8, 9, 10, 11, 12, 13, 14, 1, 2, 3, 4, 5, 6, 8, 9, 10, 11, 12, 13, 14, 3, 4, 6, 9, 10, 11, 12, 1, 2, 3, 4, 5, 6, 7, 8, 9, 10, 11, 12, 13, 14, 1, 2, 3, 4, 5, 7, 9, 10, 12, 13, 14, 1, 2, 3, 4, 5, 6, 7, 9, 11, 12, 13, 1, 2, 3, 4, 7, 9, 10, 11, 12, 13, 14, 1, 2, 3, 4, 6, 9, 10, 12, 13, 14, 1, 3, 4, 5, 6, 7, 9, 10, 13, 14, 1, 2, 3, 4, 5, 6, 7, 8, 9, 10, 11, 12, 13, 14, 1, 2, 4, 5, 6, 7, 8, 9, 10, 11, 12, 13, 14, 3, 4, 7, 8, 9, 10, 12, 1, 2, 5, 7, 8, 9, 11, 12, 13, 14, 1, 2, 3, 5, 6, 7, 8, 9, 10, 11, 12, 13, 14, 1, 2, 3, 4, 5, 6, 7, 8, 9, 10, 11, 12, 13, 14, 1, 2, 3, 4, 5, 6, 7, 8, 9, 10, 11, 12, 13, 14, 1, 2, 3, 4, 6, 8, 10, 11, 3, 4, 5, 6, 7, 8, 9, 10, 11, 12, 2, 3, 4, 5, 6, 7, 8, 10, 11, 12, 13, 14, 6, 11, 12, 1, 2, 3, 4, 5, 6, 7, 8, 9, 10, 11, 12, 13, 14, 1, 2, 3, 4, 5, 6, 7, 8, 9, 10, 11, 12, 13, 14, 1, 2, 4, 6, 9, 10, 12, 13, 14, 1, 2, 3, 4, 5, 6, 7, 8, 9, 10, 11, 12, 13, 1, 2, 3, 4, 5, 6, 8, 9, 10, 11, 13, 1, 2, 4, 5, 6, 7, 9, 10, 11, 12, 13, 14, 1, 2, 3, 4, 5, 6, 7, 8, 9, 10, 11, 12, 13, 14, 1, 2, 3, 4, 5, 6, 7, 8, 9, 10, 11, 12, 13, 2, 4, 5, 6, 7, 8, 9, 10, 11, 12, 14, 4, 5, 6, 10, 11, 12, 13, 14, 3, 5, 6, 9, 10, 11, 12, 13, 1, 2, 3, 4, 5, 6, 7, 8, 9, 10, 11, 12, 13, 14, 1, 2, 3, 4, 5, 6, 9, 11, 12, 13, 14, 1, 2, 3, 4, 5, 6, 7, 8, 9, 10, 11, 12, 13, 14, 1, 2, 3, 4, 8, 11, 13, 1, 2, 3, 4, 5, 6, 7, 8, 9, 10, 11, 12, 13, 14, 1, 2, 3, 4, 5, 6, 7, 8, 9, 10, 11, 12, 13, 14, 1, 2, 3, 4, 5, 7, 8, 10, 11, 13, 14, 1, 3, 4, 5, 7, 9, 11, 12, 13, 14, 1, 2, 5, 6, 12, 13, 1, 2, 3, 4, 5, 6, 7, 8, 9, 10, 11, 12, 13, 1, 2, 3, 4, 5, 6, 7, 8, 9, 10, 11, 12, 13, 14, 1, 2, 3, 4, 5, 6, 7, 8, 9, 10, 11, 12, 13, 14, 1, 2, 3, 4, 5, 6, 7, 8, 9, 10, 11, 12, 13, 14, 1, 2, 4, 9, 11, 13, 1, 2, 3, 4, 5, 6, 7, 8, 9, 10, 11, 12, 13, 14, 1, 2, 3, 4, 5, 6, 7, 8, 9, 10, 11, 12, 13, 14, 1, 2, 3, 4, 5, 6, 7, 8, 9, 10, 11, 12, 13, 14, 1, 2, 3, 4, 5, 6, 7, 8, 9, 10, 11, 12, 13, 14, 2, 3, 6, 8, 9, 10, 11, 12, 13, 14, 1, 2, 3, 4, 5, 6, 7, 8, 9, 10, 11, 12, 13, 14, 1, 3, 4, 6, 8, 9, 10, 11, 12, 13, 1, 3, 4, 6, 7, 8, 12, 13, 14, 1, 2, 3, 4, 5, 6, 7, 8, 9, 10, 11, 12, 13, 14, 1, 2, 3, 4, 5, 6, 7, 8, 9, 10, 11, 12, 13, 1, 2, 3, 4, 5, 6, 7, 8, 9, 10, 11, 12, 13, 14, 1, 3, 4, 6, 7, 8, 9, 10, 11, 12, 13, 14, 1, 2, 3, 4, 6, 7, 9, 10, 11, 12, 13, 14, 2, 3, 4, 5, 8, 9, 10, 12, 14, 1, 2, 3, 4, 5, 7, 9, 10, 11, 12, 13, 14, 1, 2, 3, 4, 5, 6, 7, 8, 9, 10, 11, 12, 13, 14, 1, 2, 4, 5, 6, 7, 8, 9, 11, 12, 13, 14, 1, 2, 3, 4, 5, 6, 7, 8, 9, 10, 11, 12, 13, 14, 1, 2, 3, 4, 5, 6, 7, 8, 9, 10, 11, 12, 13, 14, 2, 3, 4, 7, 10, 12, 13, 1, 2, 3, 4, 5, 6, 7, 8, 9, 10, 11, 12, 13, 14, 1, 2, 3, 4, 5, 6, 7, 8, 9, 10, 11, 12, 13, 1, 3, 6, 8, 9, 11, 13, 14, 1, 2, 3, 4, 5, 6, 7, 10, 11, 12, 14, 1, 2, 5, 7, 8, 11, 12, 13, 14, 1, 2, 3, 4, 5, 6, 7, 8, 9, 10, 11, 12, 13, 14, 1, 2, 5, 6, 7, 8, 10, 11, 12, 13, 14, 1, 2, 3, 4, 5, 6, 7, 8, 9, 10, 11, 12, 13, 14, 3, 4, 5, 6, 13, 14, 1, 2, 3, 4, 5, 6, 7, 8, 9, 10, 11, 12, 13, 14, 1, 3, 4, 6, 7, 10, 11, 12, 13, 14, 1, 2, 3, 4, 5, 6, 7, 8, 9, 10, 11, 12, 13, 14, 1, 2, 3, 4, 6, 7, 10, 11, 12, 14, 1, 2, 3, 4, 5, 6, 7, 8, 9, 10, 11, 12, 13, 14, 2, 3, 5, 7, 8, 9, 10, 11, 12, 13, 14, 1, 2, 3, 4, 5, 6, 7, 9, 10, 11, 12, 13, 14, 1, 2, 3, 4, 5, 6, 7, 8, 9, 10, 11, 12, 13, 14, 1, 2, 3, 4, 5, 6, 7, 8, 9, 10, 11, 12, 13, 14, 1, 2, 3, 9, 11, 13, 14, 1, 2, 3, 4, 5, 7, 8, 9, 10, 11, 13, 1, 2, 3, 4, 6, 7, 9, 10, 11, 1, 3, 4, 5, 6, 9, 11, 12, 13, 1, 4, 6, 7, 8, 9, 10, 12, 13, 14, 1, 2, 3, 4, 5, 6, 7, 8, 9, 10, 11, 12, 13, 14, 1, 2, 4, 6, 7, 9, 10, 12, 13, 14, 1, 2, 4, 5, 6, 7, 8, 10, 12, 13, 14, 1, 2, 3, 4, 5, 6, 7, 8, 9, 10, 11, 12, 13, 14, 1, 2, 3, 4, 5, 6, 7, 8, 9, 10, 11, 12, 13, 14, 1, 2, 3, 4, 5, 6, 7, 8, 9, 10, 11, 12, 13, 14, 1, 2, 3, 4, 5, 6, 7, 8, 9, 10, 11, 12, 13, 14, 1, 2, 3, 4, 5, 6, 8, 9, 10, 11, 12, 14, 1, 2, 3, 4, 5, 7, 8, 10, 11, 12, 13, 14, 1, 2, 3, 4, 5, 6, 7, 8, 9, 10, 11, 12, 13, 14, 1, 2, 3, 4, 5, 6, 7, 8, 9, 10, 11, 12, 13, 14, 1, 4, 5, 6, 7, 9, 12, 13, 14, 1, 2, 3, 4, 5, 6, 7, 8, 9, 10, 11, 12, 13, 14, 2, 3, 4, 5, 8, 10, 12, 13, 14, 1, 2, 6, 7, 8, 9, 10, 11, 12, 2, 3, 4, 5, 6, 7, 9, 10, 11, 12, 2, 4, 5, 6, 7, 8, 9, 10, 11, 13, 14, 1, 2, 3, 4, 5, 6, 7, 8, 10, 11, 12, 13, 1, 2, 3, 4, 5, 6, 7, 8, 9, 10, 11, 12, 13, 14, 1, 2, 3, 4, 5, 6, 7, 8, 10, 11, 13, 14, 1, 2, 3, 5, 6, 9, 11, 12, 13, 14, 1, 2, 3, 4, 5, 6, 7, 8, 9, 10, 11, 12, 13, 14, 1, 2, 4, 5, 6, 7, 10, 11, 12, 13, 14, 1, 2, 3, 4, 5, 6, 7, 8, 9, 10, 11, 12, 13, 14, 1, 2, 3, 4, 5, 7, 8, 9, 10, 11, 12, 13, 14, 1, 3, 4, 7, 8, 9, 11, 12, 13, 14, 1, 2, 3, 4, 5, 6, 7, 8, 9, 10, 11, 12, 13, 14, 1, 2, 4, 6, 7, 10, 13, 1, 2, 3, 4, 6, 7, 8, 10, 11, 12, 13, 14, 1, 2, 3, 4, 5, 6, 7, 8, 9, 10, 11, 12, 13, 14, 1, 2, 3, 4, 5, 6, 7, 9, 10, 11, 12, 13, 14, 1, 2, 3, 4, 5, 6, 7, 8, 9, 10, 11, 12, 13, 14, 1, 4, 5, 6, 9, 11, 13, 14, 1, 2, 3, 4, 5, 6, 7, 8, 9, 10, 11, 12, 13, 14, 1, 2, 3, 4, 6, 7, 8, 10, 11, 12, 13, 1, 2, 3, 4, 5, 6, 7, 8, 9, 10, 11, 12, 13, 14, 1, 2, 3, 4, 5, 6, 7, 8, 9, 10, 11, 12, 13, 14, 1, 4, 6, 7, 9, 10, 11, 12, 13, 14, 2, 4, 6, 7, 8, 9, 10, 11, 12, 13, 1, 2, 3, 5, 6, 7, 9, 10, 12, 13, 14, 1, 2, 3, 4, 5, 6, 7, 8, 9, 10, 11, 12, 13, 14, 1, 2, 3, 4, 5, 6, 7, 8, 9, 10, 11, 12, 13, 14, 1, 2, 3, 4, 5, 6, 7, 8, 9, 10, 11, 12, 13, 14, 2, 3, 4, 5, 6, 7, 8, 9, 10, 11, 13, 14, 2, 4, 5, 6, 7, 10, 11, 12, 13, 14, 1, 2, 3, 4, 5, 6, 7, 8, 9, 10, 11, 12, 13, 1, 2, 3, 4, 5, 6, 7, 9, 10, 11, 12, 13, 14, 1, 2, 3, 4, 5, 6, 7, 8, 9, 10, 11, 12, 13, 14, 1, 2, 3, 4, 5, 6, 7, 8, 9, 10, 11, 12, 13, 14, 1, 2, 4, 7, 8, 9, 11, 12, 13, 1, 2, 3, 4, 5, 6, 7, 8, 9, 10, 11, 12, 13, 14, 1, 2, 3, 4, 7, 8, 9, 10, 12, 13, 14, 1, 4, 5, 9, 10, 11, 12, 13, 1, 2, 5, 7, 8, 9, 11, 13, 14, 1, 2, 3, 4, 5, 6, 7, 8, 9, 10, 11, 12, 13, 14, 1, 2, 3, 4, 5, 6, 7, 8, 9, 10, 11, 12, 13, 14, 1, 2, 5, 7, 9, 11, 12, 13, 1, 2, 3, 4, 5, 6, 7, 8, 10, 11, 12, 13, 14, 1, 2, 3, 4, 5, 6, 7, 8, 9, 10, 11, 12, 13, 14, 1, 2, 5, 8, 12, 13, 14, 1, 2, 3, 4, 5, 6, 7, 8, 9, 10, 11, 12, 13, 14, 1, 2, 3, 4, 5, 6, 7, 8, 9, 10, 11, 12, 13, 14, 1, 2, 3, 4, 5, 6, 7, 8, 9, 10, 11, 12, 13, 14, 1, 2, 3, 4, 5, 6, 7, 8, 9, 10, 11, 12, 13, 14, 1, 2, 3, 4, 5, 6, 7, 8, 9, 10, 11, 12, 13, 14, 1, 2, 5, 6, 8, 9, 10, 11, 12, 1, 2, 3, 4, 5, 6, 7, 8, 9, 10, 11, 12, 13, 14, 1, 2, 3, 4, 5, 6, 7, 8, 10, 11, 12, 13, 14, 1, 2, 3, 4, 5, 6, 7, 8, 9, 10, 11, 12, 13, 14, 1, 5, 6, 7, 8, 9, 10, 11, 12, 13, 1, 2, 4, 6, 7, 8, 9, 10, 12, 13, 1, 2, 3, 4, 5, 6, 7, 9, 10, 11, 12, 13, 14, 1, 2, 3, 5, 6, 7, 8, 9, 10, 11, 12, 13, 14, 1, 2, 3, 4, 5, 6, 7, 8, 9, 10, 11, 12, 13, 14, 1, 5, 7, 8, 9, 12, 13, 14, 1, 2, 3, 4, 5, 7, 8, 9, 10, 11, 13, 1, 2, 3, 4, 5, 6, 7, 8, 9, 10, 11, 12, 13, 14, 1, 2, 3, 4, 5, 6, 7, 8, 9, 10, 11, 12, 13, 14, 2, 3, 4, 6, 7, 8, 9, 10, 11, 12, 13, 14, 1, 2, 3, 4, 5, 6, 7, 8, 9, 10, 11, 12, 14, 1, 2, 3, 4, 5, 6, 7, 8, 9, 10, 11, 12, 13, 14, 1, 2, 3, 4, 5, 6, 7, 8, 9, 10, 11, 12, 13, 14, 1, 2, 3, 4, 5, 6, 7, 8, 9, 10, 11, 12, 13, 14, 2, 3, 4, 6, 7, 8, 9, 10, 12, 13, 1, 2, 3, 4, 6, 7, 8, 9, 11, 12, 13, 14, 1, 2, 3, 4, 5, 6, 7, 8, 9, 10, 11, 12, 13, 14, 1, 2, 3, 4, 5, 6, 7, 8, 9, 10, 11, 12, 13, 14, 2, 3, 5, 6, 7, 9, 10, 11, 12, 13, 14, 1, 2, 3, 4, 5, 6, 7, 8, 9, 10, 11, 12, 13, 14, 1, 2, 3, 4, 5, 6, 7, 8, 9, 10, 11, 12, 13, 14, 1, 2, 6, 13, 1, 2, 4, 6, 7, 8, 10, 11, 12, 3, 6, 8, 9, 11, 14, 1, 2, 3, 4, 5, 7, 8, 9, 11, 12, 13, 14, 1, 2, 3, 4, 5, 6, 7, 8, 9, 10, 11, 12, 13, 14, 1, 2, 3, 4, 5, 6, 7, 8, 9, 10, 11, 12, 13, 14, 1, 3, 7, 10, 11, 12, 13, 1, 2, 3, 4, 7, 8, 9, 10, 11, 12, 13, 1, 2, 3, 4, 5, 6, 7, 8, 9, 10, 11, 12, 13, 14, 1, 2, 3, 4, 5, 6, 7, 8, 9, 10, 11, 12, 13, 14, 1, 2, 3, 4, 5, 6, 7, 8, 9, 10, 11, 12, 13, 14, 1, 2, 3, 4, 5, 6, 7, 8, 9, 10, 11, 12, 13, 14, 1, 2, 3, 4, 5, 6, 7, 8, 9, 10, 11, 12, 13, 14, 1, 2, 3, 4, 5, 6, 7, 8, 9, 10, 11, 12, 13, 14, 1, 2, 3, 4, 5, 6, 7, 8, 9, 10, 11, 12, 13, 14, 1, 2, 4, 6, 7, 8, 10, 13, 14, 2, 3, 5, 7, 8, 9, 10, 11, 12, 1, 2, 3, 4, 5, 6, 7, 8, 9, 10, 11, 12, 13, 14, 1, 2, 3, 4, 5, 6, 7, 8, 9, 10, 11, 12, 13, 14, 1, 2, 4, 5, 6, 7, 8, 9, 10, 11, 12, 13, 1, 3, 4, 9, 10, 11, 13, 1, 2, 3, 4, 11, 13, 1, 2, 3, 4, 6, 7, 8, 10, 11, 12, 13, 14, 1, 2, 3, 4, 5, 6, 7, 8, 9, 10, 11, 12, 13, 14, 1, 2, 3, 4, 5, 6, 7, 8, 9, 10, 11, 12, 13, 14, 1, 2, 3, 4, 9, 11, 12, 13, 1, 2, 3, 4, 5, 6, 7, 8, 9, 10, 11, 12, 13, 14, 1, 2, 3, 4, 5, 6, 7, 8, 9, 10, 11, 12, 13, 14, 1, 2, 3, 4, 5, 7, 8, 9, 10, 11, 12, 13, 14, 2, 3, 4, 5, 6, 7, 8, 11, 12, 13, 14, 1, 2, 3, 5, 6, 7, 8, 9, 11, 12, 13, 14, 1, 2, 3, 4, 5, 6, 7, 8, 9, 10, 11, 12, 13, 14, 1, 2, 3, 5, 6, 7, 8, 9, 11, 12, 13, 14, 1, 2, 3, 4, 5, 6, 7, 8, 9, 10, 11, 12, 13, 14, 1, 2, 3, 4, 5, 6, 7, 8, 9, 10, 11, 12, 13, 14, 1, 2, 3, 4, 5, 6, 7, 8, 9, 10, 11, 12, 13, 14, 1, 2, 3, 4, 5, 6, 7, 9, 10, 11, 12, 14, 1, 2, 3, 4, 5, 6, 7, 8, 9, 10, 11, 12, 13, 14, 1, 2, 3, 4, 5, 6, 7, 8, 9, 10, 11, 12, 13, 14, 1, 2, 4, 5, 7, 9, 10, 11, 12, 13, 1, 2, 3, 4, 5, 6, 7, 8, 9, 10, 11, 12, 13, 14, 2, 3, 5, 6, 8, 10, 11, 12, 13, 14, 1, 2, 3, 4, 5, 6, 7, 8, 9, 10, 11, 12, 13, 14, 1, 2, 3, 4, 5, 6, 7, 8, 9, 10, 11, 12, 13, 14, 1, 2, 3, 4, 5, 7, 8, 9, 10, 11, 12, 13, 14, 1, 2, 3, 4, 5, 6, 7, 8, 9, 10, 11, 12, 13, 14, 4, 5, 6, 8, 9, 10, 11, 12, 3, 4, 6, 7, 8, 10, 12, 14, 1, 2, 3, 5, 8, 10, 11, 12, 1, 2, 3, 4, 6, 7, 9, 10, 11, 12, 13, 14, 1, 2, 3, 4, 5, 6, 7, 8, 9, 10, 11, 12, 13, 14, 1, 3, 4, 5, 7, 9, 10, 11, 12, 13, 14, 2, 7, 8, 9, 10, 12, 3, 4, 5, 6, 7, 9, 10, 11, 12, 13, 14, 1, 2, 3, 5, 6, 7, 10, 12, 13, 1, 2, 3, 4, 5, 6, 7, 8, 9, 10, 11, 12, 13, 14, 1, 5, 6, 7, 8, 13, 1, 2, 3, 5, 7, 13, 2, 3, 5, 6, 7, 10, 11, 12, 13, 1, 2, 3, 4, 5, 6, 7, 8, 9, 10, 11, 12, 13, 14, 1, 2, 6, 7, 8, 9, 11, 13, 1, 3, 4, 5, 6, 7, 8, 9, 10, 11, 12, 13, 14, 1, 2, 3, 4, 5, 6, 7, 8, 9, 10, 11, 12, 13, 14, 1, 2, 3, 4, 5, 6, 7, 8, 9, 10, 11, 12, 13, 14, 3, 4, 5, 7, 8, 9, 10, 11, 12, 13, 1, 2, 3, 5, 6, 7, 8, 9, 11, 12, 13, 14, 1, 2, 3, 4, 5, 6, 7, 8, 9, 10, 11, 12, 13, 14, 1, 2, 3, 4, 5, 6, 7, 8, 9, 10, 11, 12, 13, 14, 1, 2, 3, 4, 5, 6, 7, 8, 9, 10, 11, 12, 13, 14, 1, 2, 3, 4, 7, 8, 12, 13, 14, 1, 2, 3, 4, 6, 8, 9, 10, 11, 12, 13, 2, 3, 4, 5, 6, 7, 8, 9, 10, 11, 13, 14, 1, 2, 3, 4, 5, 6, 7, 8, 9, 10, 11, 12, 13, 14, 1, 4, 5, 6, 7, 8, 9, 10, 11, 12, 13, 14, 1, 2, 3, 4, 5, 6, 7, 8, 9, 10, 11, 12, 13, 14, 1, 2, 5, 6, 7, 10, 11, 12, 13, 14, 1, 5, 6, 7, 8, 9, 11, 12, 13, 1, 2, 3, 4, 5, 7, 8, 9, 11, 1, 2, 3, 4, 5, 7, 11, 13, 1, 2, 3, 4, 5, 6, 7, 8, 9, 10, 11, 12, 13, 14, 2, 3, 4, 6, 7, 9, 10, 12, 13, 14, 1, 2, 3, 4, 5, 6, 7, 8, 9, 10, 11, 12, 13, 14, 3, 4, 7, 9, 11, 12, 13, 3, 4, 7, 8, 9, 10, 11, 13, 1, 2, 3, 4, 5, 6, 7, 8, 9, 10, 11, 12, 13, 14, 1, 2, 3, 4, 6, 7, 9, 10, 11, 12, 13, 14, 1, 2, 4, 5, 6, 8, 9, 13, 1, 2, 3, 4, 5, 6, 7, 8, 9, 10, 11, 12, 13, 14, 1, 2, 3, 4, 5, 7, 8, 9, 11, 12, 14, 1, 2, 3, 4, 5, 6, 7, 8, 9, 10, 11, 12, 13, 14, 2, 3, 7, 8, 9, 11, 1, 2, 3, 4, 5, 6, 7, 8, 9, 10, 11, 12, 13, 14, 1, 3, 7, 13, 1, 2, 4, 5, 9, 10, 14, 1, 2, 5, 10, 12, 14, 1, 2, 4, 5, 6, 7, 10, 11, 12, 13, 14, 1, 2, 3, 7, 8, 9, 10, 11, 13, 1, 3, 5, 7, 9, 12, 13, 1, 2, 3, 4, 5, 6, 7, 8, 9, 10, 11, 12, 13, 14, 1, 2, 3, 4, 5, 6, 7, 8, 10, 11, 12, 13, 14], \"Freq\": [0.03510165520057843, 0.006194409741278547, 0.008259212988371395, 0.051620081177321225, 0.051620081177321225, 0.008259212988371395, 0.012388819482557094, 0.012388819482557094, 0.7577827916830755, 0.010324016235464244, 0.01858322922383564, 0.012388819482557094, 0.012388819482557094, 0.004129606494185698, 0.093445127155315, 0.0045582988856251215, 0.2210774959528184, 0.07065363272718939, 0.07977023049843963, 0.034187241642188414, 0.02962894275656329, 0.28261453090875754, 0.05469958662750146, 0.011395747214062803, 0.013674896656875365, 0.006837448328437683, 0.09572427659812756, 0.0022791494428125608, 0.2168917541222304, 0.09282231850146302, 0.08822715421921237, 0.029409051406404124, 0.02573291998060361, 0.019299689985452707, 0.11579813991271624, 0.03951841282735554, 0.061575201382158634, 0.011947427133851676, 0.027570985693503868, 0.018380657129002578, 0.019299689985452707, 0.2315962798254325, 0.0033814432407913483, 0.03381443240791348, 0.04057731888949618, 0.757443285937262, 0.09468041074215774, 0.0033814432407913483, 0.0067628864815826965, 0.0033814432407913483, 0.013525772963165393, 0.013525772963165393, 0.023670102685539436, 0.0067628864815826965, 0.018040330966520454, 0.09020165483260228, 0.20445708428723183, 0.15334281321542387, 0.033073940105287504, 0.009020165483260227, 0.05412099289956137, 0.006013443655506818, 0.10222854214361592, 0.027060496449780685, 0.05111427107180796, 0.018040330966520454, 0.22550413708150568, 0.012026887311013637, 0.06870014754543766, 0.05397868735712959, 0.04416438056492421, 0.4874439040128672, 0.10959309251296007, 0.01962861358441076, 0.01962861358441076, 0.016357177987008965, 0.07197158314283945, 0.0016357177987008965, 0.00490715339610269, 0.03762150937012062, 0.05234296955842869, 0.011450024590906277, 0.01295193373019154, 0.03022117870378026, 0.00863462248679436, 0.09066353611134079, 0.02590386746038308, 0.03885580119057462, 0.00431731124339718, 0.01295193373019154, 0.0863462248679436, 0.4533176805567039, 0.06044235740756052, 0.01726924497358872, 0.1295193373019154, 0.02590386746038308, 0.017933981799754816, 0.01120873862484676, 0.1120873862484676, 0.02241747724969352, 0.06949417947404991, 0.02465922497466287, 0.013450486349816113, 0.6837330561156524, 0.013450486349816113, 0.008966990899877408, 0.01120873862484676, 0.01120873862484676, 0.002241747724969352, 0.012759191137479435, 0.02870818005932873, 0.09569393353109577, 0.039872472304623235, 0.06698575347176704, 0.0015948988921849294, 0.02870818005932873, 0.011164292245294506, 0.6427442535505266, 0.014354090029664365, 0.020733685598404085, 0.015948988921849296, 0.015948988921849296, 0.0015948988921849294, 0.03521517582039639, 0.07923414559589188, 0.15846829119178377, 0.05722466070814413, 0.011004742443873871, 0.08473651681782882, 0.11004742443873872, 0.11444932141628826, 0.1551668684586216, 0.08693746530660358, 0.017607587910198196, 0.045119444019882875, 0.012105216688261259, 0.03081327884284684, 0.012262457803142614, 0.024524915606285228, 0.049049831212570456, 0.06744351791728438, 0.006131228901571307, 0.024524915606285228, 0.5885979745508455, 0.1716744092439966, 0.012262457803142614, 0.012262457803142614, 0.012262457803142614, 0.012262457803142614, 0.00993290445208776, 0.07698000950368016, 0.01986580890417552, 0.01986580890417552, 0.08939614006878985, 0.014899356678131642, 0.09436259229483374, 0.054630974486482686, 0.022349035017197462, 0.027315487243241343, 0.5363768404127391, 0.00993290445208776, 0.00993290445208776, 0.00993290445208776, 0.06598178071576141, 0.013196356143152281, 0.2111416982904365, 0.23753441057674107, 0.07917813685891369, 0.30351619129250246, 0.052785424572609124, 0.026392712286304562, 0.013196356143152281, 0.031932399486812264, 0.02838435509938868, 0.1632100418214849, 0.1170854647849783, 0.010644133162270756, 0.017740221937117925, 0.1170854647849783, 0.36544857190462926, 0.0709608877484717, 0.04612457703650661, 0.021288266324541512, 0.00709608877484717, 0.01248367517836667, 0.3620265801726334, 0.11235307660530003, 0.13732042696203337, 0.26215717874570005, 0.01248367517836667, 0.02496735035673334, 0.06241837589183335, 0.0020587013159893454, 0.026763117107861494, 0.0020587013159893454, 0.006176103947968037, 0.06176103947968037, 0.012352207895936074, 0.03705662368780822, 0.17087220922711568, 0.004117402631978691, 0.006176103947968037, 0.5579080566331126, 0.10499376711545662, 0.006176103947968037, 0.015146206679366196, 0.003029241335873239, 0.7270179206095774, 0.024233930686985913, 0.024233930686985913, 0.03332165469460563, 0.05755558538159154, 0.003029241335873239, 0.012116965343492957, 0.006058482671746478, 0.009087724007619718, 0.07876027473270422, 0.006058482671746478, 0.1854502737043385, 0.018545027370433852, 0.037090054740867705, 0.037090054740867705, 0.1854502737043385, 0.14836021896347082, 0.11127016422260311, 0.018545027370433852, 0.018545027370433852, 0.22254032844520621, 0.018545027370433852, 0.018545027370433852, 0.03566418116108255, 0.015284649069035379, 0.8916045290270638, 0.0050948830230117936, 0.0050948830230117936, 0.0050948830230117936, 0.010189766046023587, 0.020379532092047174, 0.010189766046023587, 0.006026626262897794, 0.1024526464692625, 0.006026626262897794, 0.006026626262897794, 0.012053252525795588, 0.06026626262897794, 0.006026626262897794, 0.3917307070883566, 0.054239636366080146, 0.006026626262897794, 0.024106505051591176, 0.3254378181964809, 0.011691702787779718, 0.005845851393889859, 0.023383405575559436, 0.058458513938898594, 0.06430436533278845, 0.08184191951445803, 0.04676681115111887, 0.6898104644790034, 0.005845851393889859, 0.3064948808144739, 0.015324744040723695, 0.07662372020361848, 0.07662372020361848, 0.03064948808144739, 0.3371443688959213, 0.03064948808144739, 0.07662372020361848, 0.015324744040723695, 0.015324744040723695, 0.03064948808144739, 0.2887556577946391, 0.020946006264896098, 0.0336632243542973, 0.011221074784765767, 0.08677631166885526, 0.02319022122184925, 0.2064677760396901, 0.11595110610924625, 0.05236501566224024, 0.07031873531786546, 0.021694077917213814, 0.011969146437083484, 0.02019793461257838, 0.03740358261588589, 0.3464749075113646, 0.016363937502807412, 0.03870700601625599, 0.026434052889150437, 0.056959090154002724, 0.0679732788578154, 0.12902335338751997, 0.030839728370675508, 0.12367360458852525, 0.04751835697930614, 0.03776293269878633, 0.016363937502807412, 0.015419864185337754, 0.04625959255601326, 0.1948616806056521, 0.04400102465288918, 0.069144467311683, 0.01257172132939691, 0.006285860664698455, 0.018857581994095363, 0.345722336558415, 0.02514344265879382, 0.2200051232644459, 0.006285860664698455, 0.01257172132939691, 0.03142930332349227, 0.07447899756649728, 0.15572881309358522, 0.07786440654679261, 0.4841134841822323, 0.003385408980295331, 0.006770817960590662, 0.016927044901476656, 0.003385408980295331, 0.006770817960590662, 0.006770817960590662, 0.027083271842362647, 0.07447899756649728, 0.03385408980295331, 0.027083271842362647, 0.0015386893506157268, 0.014617548830849404, 0.8524339002411127, 0.06693298675178412, 0.003846723376539317, 0.0007693446753078634, 0.003846723376539317, 0.0030773787012314535, 0.00230803402592359, 0.003846723376539317, 0.02077230623331231, 0.00692410207777077, 0.014617548830849404, 0.00461606805184718, 0.036149368565891064, 0.03365630866479513, 0.003739589851643903, 0.01121876955493171, 0.014958359406575613, 0.006232649752739839, 0.1470905341646602, 0.04612160817027481, 0.17576072302726345, 0.012465299505479678, 0.42382018318630904, 0.06232649752739839, 0.01121876955493171, 0.01620488935712358, 0.7259761818603849, 0.0027815179381623944, 0.013907589690811972, 0.011126071752649578, 0.0027815179381623944, 0.0027815179381623944, 0.07510098433038465, 0.022252143505299155, 0.025033661443461547, 0.005563035876324789, 0.05841187670141028, 0.055630358763247886, 0.03484021510375464, 0.47034290390068756, 0.03484021510375464, 0.0740354570954786, 0.028307674771800642, 0.019597620995861983, 0.03484021510375464, 0.002177513443984665, 0.06097037643157061, 0.0370177285477393, 0.12194075286314122, 0.021775134439846647, 0.006532540331953994, 0.056615349543601284, 0.0033878422553297732, 0.0033878422553297732, 0.04065410706395728, 0.0033878422553297732, 0.0033878422553297732, 0.0033878422553297732, 0.15922858600049933, 0.6775684510659546, 0.0880838986385741, 0.0033878422553297732, 0.016939211276648866, 0.0033878422553297732, 0.054001566138138224, 0.03600104409209215, 0.018000522046046075, 0.2160062645525529, 0.054001566138138224, 0.018000522046046075, 0.018000522046046075, 0.18000522046046075, 0.0720020881841843, 0.054001566138138224, 0.2700078306906911, 0.10195695357193932, 0.029130558163411237, 0.014565279081705618, 0.029130558163411237, 0.14565279081705618, 0.0873916744902337, 0.10195695357193932, 0.014565279081705618, 0.0873916744902337, 0.2476097443889955, 0.058261116326822474, 0.029130558163411237, 0.06364880299557245, 0.023145019271117253, 0.028931274088896567, 0.2661677216178484, 0.057862548177793134, 0.046290038542234506, 0.03471752890667588, 0.14465637044448285, 0.005786254817779313, 0.005786254817779313, 0.23145019271117254, 0.06943505781335176, 0.023145019271117253, 0.0879576402820376, 0.19350680862048272, 0.0439788201410188, 0.13633434243715828, 0.01759152805640752, 0.01319364604230564, 0.03958093812691692, 0.00439788201410188, 0.03958093812691692, 0.1319364604230564, 0.04837670215512068, 0.2418835107756034, 0.00879576402820376, 0.02675366270304436, 0.008917887567681453, 0.03567155027072581, 0.3834691654103025, 0.5350732540608872, 0.059779892266737064, 0.011955978453347412, 0.023911956906694825, 0.7771385994675818, 0.035867935360042236, 0.023911956906694825, 0.035867935360042236, 0.011955978453347412, 0.008778990960517687, 0.008778990960517687, 0.008778990960517687, 0.008778990960517687, 0.017557981921035373, 0.9217940508543571, 0.008778990960517687, 0.008778990960517687, 0.02054782525297509, 0.678078233348178, 0.010273912626487545, 0.015410868939731318, 0.10787608257811923, 0.02054782525297509, 0.025684781566218864, 0.02054782525297509, 0.015410868939731318, 0.015410868939731318, 0.005136956313243773, 0.07191738838541283, 0.06783336820312322, 0.7763152138801879, 0.007537040911458135, 0.007537040911458135, 0.018842602278645336, 0.0037685204557290674, 0.06029632729166508, 0.0037685204557290674, 0.0037685204557290674, 0.0037685204557290674, 0.0037685204557290674, 0.026379643190103472, 0.007537040911458135, 0.007537040911458135, 0.011492676414200834, 0.0344780292426025, 0.045970705656803335, 0.045970705656803335, 0.13791211697041, 0.05746338207100417, 0.21836085186981585, 0.022985352828401667, 0.011492676414200834, 0.17239014621301252, 0.045970705656803335, 0.18388282262721334, 0.011492676414200834, 0.14902022271680157, 0.46834927139566207, 0.021288603245257366, 0.14902022271680157, 0.06386580973577209, 0.04257720649051473, 0.04257720649051473, 0.021288603245257366, 0.021288603245257366, 0.3238437787283914, 0.011565849240299691, 0.4568510449918378, 0.02891462310074923, 0.005782924620149846, 0.005782924620149846, 0.10987556778284707, 0.005782924620149846, 0.005782924620149846, 0.04048047234104892, 0.2172951612075406, 0.024143906800837844, 0.5070220428175948, 0.04828781360167569, 0.16900734760586492, 0.012071953400418922, 0.040679373791662664, 0.020339686895831332, 0.020339686895831332, 0.6203604503228556, 0.030509530343746996, 0.010169843447915666, 0.050849217239578325, 0.010169843447915666, 0.040679373791662664, 0.07118890413540965, 0.050849217239578325, 0.040679373791662664, 0.0335819602177495, 0.402983522612994, 0.04477594695699934, 0.067163920435499, 0.14552182761024784, 0.011193986739249834, 0.04477594695699934, 0.011193986739249834, 0.02238797347849967, 0.02238797347849967, 0.02238797347849967, 0.0335819602177495, 0.14552182761024784, 0.11173966072306127, 0.03286460609501802, 0.01971876365701081, 0.006572921219003604, 0.4732503277682595, 0.01643230304750901, 0.023005224266512612, 0.03615106670451982, 0.049296909142527025, 0.03286460609501802, 0.09530735767555225, 0.03943752731402162, 0.01643230304750901, 0.04272398792352342, 0.7311806094135836, 0.054838545706018774, 0.01827951523533959, 0.009139757617669796, 0.009139757617669796, 0.01827951523533959, 0.027419272853009387, 0.10967709141203755, 0.009139757617669796, 0.01827951523533959, 0.009296776513372669, 0.009296776513372669, 0.001549462752228778, 0.001549462752228778, 0.4152560175973125, 0.04028603155794823, 0.012395702017830223, 0.0774731376114389, 0.11620970641715835, 0.020143015778974115, 0.12860540843498858, 0.14410003595727636, 0.018593553026745337, 0.006197851008915112, 0.07126979802607686, 0.12472214654563449, 0.08908724753259606, 0.03563489901303843, 0.03563489901303843, 0.08908724753259606, 0.14253959605215372, 0.03563489901303843, 0.10690469703911527, 0.07126979802607686, 0.17817449506519212, 0.007762894879185517, 0.007762894879185517, 0.8073410674352938, 0.06210315903348414, 0.007762894879185517, 0.03105157951674207, 0.015525789758371034, 0.02328868463755655, 0.015525789758371034, 0.007762894879185517, 0.015525789758371034, 0.609784384803292, 0.04944197714621286, 0.023805396403732117, 0.04211723979121836, 0.02929894941997799, 0.034792502436223866, 0.07507855788869361, 0.023805396403732117, 0.025636580742480743, 0.023805396403732117, 0.012818290371240371, 0.02746776508122937, 0.012818290371240371, 0.007324737354994498, 0.0328179610465136, 0.14221116453489227, 0.0328179610465136, 0.03828762122093253, 0.04375728139535146, 0.005469660174418933, 0.2625436883721088, 0.005469660174418933, 0.14221116453489227, 0.005469660174418933, 0.02187864069767573, 0.005469660174418933, 0.2570740281976899, 0.006581077629737081, 0.011516885852039893, 0.0049358082223028114, 0.0016452694074342703, 0.8736380553475975, 0.03784119637098822, 0.009871616444605623, 0.006581077629737081, 0.0032905388148685407, 0.0016452694074342703, 0.011516885852039893, 0.011516885852039893, 0.011516885852039893, 0.008226347037171351, 0.01041216336572773, 0.0026030408414319324, 0.6273328427850957, 0.005206081682863865, 0.015618245048591594, 0.018221285890023527, 0.09631251113298149, 0.005206081682863865, 0.062472980194366375, 0.0026030408414319324, 0.013015204207159662, 0.1275490012301647, 0.013015204207159662, 0.3268635998279417, 0.08171589995698543, 0.2709527209100043, 0.07741506311714408, 0.03870753155857204, 0.01397771972948435, 0.030105857878889367, 0.03333148550877037, 0.00967688288964301, 0.012902510519524015, 0.021504184199206692, 0.0279554394589687, 0.035481903928691036, 0.018278556569325685, 0.4252095809484925, 0.07408954819557066, 0.3167596625752659, 0.026844039201293718, 0.010737615680517487, 0.03436037017765596, 0.005368807840258743, 0.004295046272206995, 0.006442569408310493, 0.010737615680517487, 0.023622754497138472, 0.015032661952724482, 0.030065323905448964, 0.016106423520776233, 0.6593587283660471, 0.03102864604075516, 0.17841471473434217, 0.01551432302037758, 0.00775716151018879, 0.00775716151018879, 0.00775716151018879, 0.03102864604075516, 0.01551432302037758, 0.03102864604075516, 0.00775716151018879, 0.005840079719101336, 0.09052123564607072, 0.02044027901685468, 0.002920039859550668, 0.005840079719101336, 0.008760119578652005, 0.005840079719101336, 0.01752023915730401, 0.04672063775281069, 0.008760119578652005, 0.02044027901685468, 0.7154097655899138, 0.04672063775281069, 0.005840079719101336, 0.27159093160659736, 0.028588519116483933, 0.0428827786747259, 0.0428827786747259, 0.028588519116483933, 0.014294259558241967, 0.014294259558241967, 0.5574761227714367, 0.014294259558241967, 0.1386667503802684, 0.01386667503802684, 0.5408003264830468, 0.04160002511408052, 0.04160002511408052, 0.01386667503802684, 0.04160002511408052, 0.01386667503802684, 0.01386667503802684, 0.02773335007605368, 0.04160002511408052, 0.05546670015210736, 0.0538465626238679, 0.14566185530302728, 0.10355108196897674, 0.07938916284288217, 0.024852259672554416, 0.02140055694025519, 0.10700278470127596, 0.06558235191368526, 0.05798860590262697, 0.03520736786945209, 0.22228965596007005, 0.04211077333405054, 0.02968464349777333, 0.011045448743357519, 0.01880431921891871, 0.20684751140810578, 0.01880431921891871, 0.04387674484414365, 0.06268106406306236, 0.006268106406306236, 0.6017382150053987, 0.012536212812612472, 0.012536212812612472, 0.10053905098329675, 0.18492004020142083, 0.1391388652000982, 0.1104134220620134, 0.06552991715875592, 0.04219049460906203, 0.02782777304001964, 0.03231612353034539, 0.05026952549164838, 0.09515303039490586, 0.02962311323614994, 0.05026952549164838, 0.036804474020671135, 0.035009133824540836, 0.10671607616438228, 0.498008355433784, 0.249004177716892, 0.035572025388127426, 0.011857341796042475, 0.02371468359208495, 0.011857341796042475, 0.0474293671841699, 0.017959991382521502, 0.035919982765043004, 0.008979995691260751, 0.008979995691260751, 0.4040998061067338, 0.008979995691260751, 0.026939987073782253, 0.053879974147564506, 0.42205979748925526, 0.023688283334100186, 0.8054016333594063, 0.011844141667050093, 0.09475313333640074, 0.023688283334100186, 0.011844141667050093, 0.026987547597649906, 0.03084291154017132, 0.019276819712607075, 0.06939655096538548, 0.02313218365512849, 0.003855363942521415, 0.6207135947459479, 0.01542145577008566, 0.00771072788504283, 0.04626436731025698, 0.13879310193077096, 0.1728231934714625, 0.04713359821948977, 0.6284479762598637, 0.015711199406496592, 0.015711199406496592, 0.09426719643897954, 0.5879481743641572, 0.03230484474528336, 0.2390558511150969, 0.02584387579622669, 0.08399259633773674, 0.012921937898113346, 0.10434358271464923, 0.052171791357324616, 0.19129656831019026, 0.03478119423821641, 0.03478119423821641, 0.19129656831019026, 0.03478119423821641, 0.017390597119108207, 0.052171791357324616, 0.2608589567866231, 0.17924342015797826, 0.16937680987405285, 0.04028865865936209, 0.051799703990608396, 0.17513233253967603, 0.09373279769729138, 0.029599830851776227, 0.04275531123034344, 0.023022090662492622, 0.04439974627766434, 0.04028865865936209, 0.04275531123034344, 0.03042204837543668, 0.03699978856472028, 0.008915570198873336, 0.008915570198873336, 0.3744539483526801, 0.07132456159098668, 0.008915570198873336, 0.15156469338084672, 0.01783114039774667, 0.07132456159098668, 0.01783114039774667, 0.008915570198873336, 0.24963596556845338, 0.005530410353005842, 0.007373880470674456, 0.009217350588343071, 0.001843470117668614, 0.11245167717778547, 0.3779113741220659, 0.007373880470674456, 0.012904290823680298, 0.03133899200036644, 0.011060820706011684, 0.03318246211803506, 0.020278171294354753, 0.363163613180717, 0.003686940235337228, 0.012677139147254608, 0.04225713049084869, 0.004225713049084869, 0.008451426098169738, 0.40989416576123233, 0.025354278294509217, 0.004225713049084869, 0.05915998268718817, 0.04648284353993356, 0.3042513395341106, 0.04225713049084869, 0.038031417441763825, 0.027862312418068507, 0.0046437187363447515, 0.0046437187363447515, 0.5154527797342674, 0.013931156209034254, 0.013931156209034254, 0.1532427182993768, 0.2182547806082033, 0.03714974989075801, 0.0046437187363447515, 0.04179972599940077, 0.32320733016859493, 0.10630953935280668, 0.08853642751054179, 0.0065826340156536645, 0.007899160818784398, 0.050357150219750534, 0.001316526803130733, 0.03192577497592027, 0.08853642751054179, 0.008557424220349764, 0.2083403665954385, 0.020406165448526362, 0.01612745333835148, 0.011286151824150964, 0.011286151824150964, 0.7900306276905675, 0.10157536641735868, 0.011286151824150964, 0.011286151824150964, 0.022572303648301928, 0.011286151824150964, 0.011286151824150964, 0.022572303648301928, 0.0337787614627759, 0.012667035548540963, 0.008444690365693975, 0.6460188129755892, 0.029556416279928915, 0.012667035548540963, 0.04222345182846988, 0.03800110664562289, 0.004222345182846987, 0.1013362843883277, 0.04222345182846988, 0.01688938073138795, 0.01688938073138795, 0.02697758667542434, 0.08819595643888727, 0.09649675233901783, 0.019714390262810095, 0.004150397950065283, 0.062255969250979246, 0.4648445704073117, 0.037353581550587545, 0.07678236207620774, 0.035278382575554906, 0.03320318360052226, 0.028015186162940662, 0.006225596925097924, 0.020751989750326414, 0.058797457795942386, 0.058797457795942386, 0.08231644091431933, 0.023518983118376954, 0.07055694935513086, 0.023518983118376954, 0.09407593247350782, 0.4115822045715967, 0.04703796623675391, 0.058797457795942386, 0.03527847467756543, 0.023518983118376954, 0.1954078397161413, 0.10235648747035973, 0.08712990255741365, 0.05413896857936382, 0.11525678857716126, 0.03341389467007611, 0.04631419577687765, 0.025589121867589933, 0.04737159750694335, 0.03764350159033891, 0.06217522172786314, 0.047794558198969626, 0.11800603307533208, 0.02749244498170819, 0.018348988985841266, 0.30785525965133675, 0.14067558222478302, 0.18960621952035975, 0.024465318647788354, 0.012232659323894177, 0.004077553107964725, 0.0020387765539823625, 0.0061163296619470885, 0.08562861526725923, 0.1753347836424832, 0.012232659323894177, 0.010193882769911814, 0.00815510621592945, 0.7214073420436744, 0.017681552501070452, 0.00353631050021409, 0.00707262100042818, 0.05304465750321135, 0.02829048400171272, 0.00353631050021409, 0.00707262100042818, 0.010608931500642271, 0.00353631050021409, 0.06011727850363953, 0.09194407300556634, 0.02441811930929033, 0.01395321103388019, 0.008139373103096778, 0.7034743896247929, 0.03139472482623043, 0.04185963310164057, 0.0011627675861566825, 0.0011627675861566825, 0.00465107034462673, 0.00930214068925346, 0.002325535172313365, 0.00930214068925346, 0.09534694206484796, 0.05232454137705071, 0.23301428785803188, 0.12233250112546673, 0.011650714392901593, 0.011650714392901593, 0.011650714392901593, 0.011650714392901593, 0.005825357196450796, 0.011650714392901593, 0.005825357196450796, 0.01747607158935239, 0.5534089336628257, 0.21119993270190004, 0.0014873234697316904, 0.0014873234697316904, 0.11154926022987678, 0.022309852045975357, 0.08180279083524297, 0.3733181909026543, 0.044619704091950714, 0.019335205106511974, 0.010411264288121834, 0.011898587757853523, 0.08329011430497467, 0.028259145924902116, 0.0014873234697316904, 0.2070458852785042, 0.04601019672855649, 0.11502549182139123, 0.023005098364278245, 0.023005098364278245, 0.3910866721927302, 0.18404078691422596, 0.016947930315019545, 0.008473965157509773, 0.3220106759853713, 0.059317756102568404, 0.008473965157509773, 0.06779172126007818, 0.016947930315019545, 0.025421895472529314, 0.008473965157509773, 0.05084379094505863, 0.04236982578754886, 0.025421895472529314, 0.2796408501978225, 0.06779172126007818, 0.747006193857685, 0.06790965398706227, 0.013581930797412455, 0.08149158478447473, 0.013581930797412455, 0.040745792392237364, 0.013581930797412455, 0.6309781701937435, 0.11325249208605652, 0.03640258674194674, 0.03235785488173044, 0.012134195580648913, 0.004044731860216305, 0.012134195580648913, 0.004044731860216305, 0.020223659301081522, 0.01617892744086522, 0.00808946372043261, 0.1011182965054076, 0.012134195580648913, 0.5171927381067005, 0.1523679850853765, 0.19528854426435577, 0.01931425163054068, 0.008584111835795858, 0.004292055917897929, 0.0021460279589489645, 0.004292055917897929, 0.0021460279589489645, 0.025752335507387574, 0.0064380838768468935, 0.049358643055826185, 0.008584111835795858, 0.5571759634449274, 0.04643133028707728, 0.02321566514353864, 0.04643133028707728, 0.02321566514353864, 0.2785879817224637, 0.058666581235555286, 0.014666645308888821, 0.4986659405022199, 0.11733316247111057, 0.058666581235555286, 0.058666581235555286, 0.08799987185333293, 0.014666645308888821, 0.04399993592666646, 0.014666645308888821, 0.04399993592666646, 0.1835928791415825, 0.0611976263805275, 0.008159683517403668, 0.008159683517403668, 0.024479050552211, 0.04487825934572017, 0.1346347780371605, 0.03263873406961467, 0.03263873406961467, 0.0367185758283165, 0.06527746813922934, 0.024479050552211, 0.02039920879350917, 0.3263873406961467, 0.17491328715269272, 0.06360483169188827, 0.031802415845944135, 0.015901207922972067, 0.031802415845944135, 0.06360483169188827, 0.11130845546080446, 0.015901207922972067, 0.015901207922972067, 0.031802415845944135, 0.4293326139202458, 0.0797195227676365, 0.03543089900783844, 0.00885772475195961, 0.02657317425587883, 0.06200407326371727, 0.3543089900783844, 0.00885772475195961, 0.159439045535273, 0.0797195227676365, 0.03543089900783844, 0.12400814652743454, 0.00885772475195961, 0.01771544950391922, 0.23853994640212595, 0.012964127521854671, 0.012964127521854671, 0.028521080548080276, 0.0077784765131128026, 0.13741975173165952, 0.23853994640212595, 0.012964127521854671, 0.1063058456792083, 0.13223410072291764, 0.012964127521854671, 0.036299557061193075, 0.005185651008741869, 0.012964127521854671, 0.08445370212306477, 0.0060324072945046265, 0.024129629178018506, 0.01809722188351388, 0.012064814589009253, 0.11461573859558791, 0.10255092400657866, 0.12668055318459717, 0.39813888143730536, 0.04825925835603701, 0.012064814589009253, 0.042226851061532386, 0.012064814589009253, 0.0060324072945046265, 0.0036389461681564463, 0.00545841925223467, 0.014555784672625785, 0.012736311588547563, 0.0018194730840782232, 0.02911156934525157, 0.01819473084078223, 0.00545841925223467, 0.8405965648441391, 0.03820893476564269, 0.00545841925223467, 0.01819473084078223, 0.0036389461681564463, 0.0036389461681564463, 0.016922790124927575, 0.7784483457466684, 0.008461395062463788, 0.025384185187391363, 0.008461395062463788, 0.008461395062463788, 0.008461395062463788, 0.008461395062463788, 0.008461395062463788, 0.059229765437246513, 0.0761525555621741, 0.034256631313783495, 0.7378351359891829, 0.05797276068486438, 0.02371612937108088, 0.018445878399729575, 0.0026351254856756537, 0.0026351254856756537, 0.02898638034243219, 0.010540501942702615, 0.005270250971351307, 0.05797276068486438, 0.005270250971351307, 0.013175627428378267, 0.019544241365395256, 0.2540751377501383, 0.019544241365395256, 0.5863272409618576, 0.019544241365395256, 0.019544241365395256, 0.03908848273079051, 0.019544241365395256, 0.019544241365395256, 0.0357648797246996, 0.08583571133927903, 0.06080029553198932, 0.053647319587049394, 0.028611903779759678, 0.021458927834819758, 0.057223807559519356, 0.014305951889879839, 0.06795327147692923, 0.44348450858627503, 0.08583571133927903, 0.0071529759449399195, 0.014305951889879839, 0.028611903779759678, 0.1627440310833853, 0.20343003885423164, 0.05424801036112844, 0.501794095840438, 0.01356200259028211, 0.02712400518056422, 0.11508578932392208, 0.15704415001493532, 0.004795241221830087, 0.019180964887320347, 0.45554791607385825, 0.015584533970947782, 0.025175016414607954, 0.04795241221830086, 0.010789292749117696, 0.0023976206109150434, 0.02997025763643804, 0.015584533970947782, 0.00719286183274513, 0.09110958321477164, 0.00730115732316242, 0.07483686256241481, 0.001825289330790605, 0.00730115732316242, 0.010951735984743631, 0.001825289330790605, 0.5092557232905788, 0.01460231464632484, 0.04745752260055573, 0.023728761300277866, 0.28474513560333437, 0.001825289330790605, 0.009126446653953025, 0.001825289330790605, 0.14025366794793637, 0.017531708493492046, 0.05259512548047614, 0.3681658783633329, 0.12272195945444432, 0.07012683397396818, 0.05259512548047614, 0.05259512548047614, 0.017531708493492046, 0.08765854246746023, 0.030547117654673973, 0.08886434226814247, 0.1388505347939726, 0.10274939574753973, 0.1444045561857315, 0.016662064175276714, 0.022216085567035616, 0.019439074871156165, 0.04720918182995069, 0.055540213917589044, 0.005554021391758904, 0.013885053479397261, 0.11663444922693698, 0.1971677594074411, 0.00481875097177912, 0.0240937548588956, 0.00481875097177912, 0.7950939103435547, 0.13974377818159447, 0.00481875097177912, 0.01927500388711648, 0.00879732950525404, 0.00879732950525404, 0.7741649964623555, 0.18474391961033484, 0.00879732950525404, 0.012600395980091467, 0.012600395980091467, 0.012600395980091467, 0.012600395980091467, 0.6300197990045733, 0.012600395980091467, 0.025200791960182933, 0.012600395980091467, 0.012600395980091467, 0.2268071276416464, 0.025200791960182933, 0.019781154822716036, 0.00659371827423868, 0.3099047588892179, 0.3890293781800821, 0.00659371827423868, 0.06593718274238679, 0.00659371827423868, 0.05274974619390944, 0.01318743654847736, 0.02637487309695472, 0.00659371827423868, 0.00659371827423868, 0.07912461929086415, 0.3050850492618864, 0.008245541871942876, 0.032982167487771503, 0.032982167487771503, 0.016491083743885752, 0.008245541871942876, 0.461750344828801, 0.016491083743885752, 0.04122770935971438, 0.057718793103600126, 0.1013620467710328, 0.21909796263584783, 0.08810700988559006, 0.12397358028149397, 0.059257811958449945, 0.039765110656328255, 0.0725128488438927, 0.026510073770885503, 0.02105211740629143, 0.0966837984585236, 0.029628905979224972, 0.035086862343819046, 0.05457956364594074, 0.03352744623964931, 0.012617316311011588, 0.4416060708854056, 0.3154329077752897, 0.13879047942112746, 0.05046926524404635, 0.012617316311011588, 0.08845260098323711, 0.053071560589942265, 0.017690520196647422, 0.459953525112833, 0.08845260098323711, 0.07076208078658969, 0.017690520196647422, 0.14152416157317937, 0.017690520196647422, 0.035381040393294844, 0.003177195016988384, 0.003177195016988384, 0.521059982786095, 0.02224036511891869, 0.003177195016988384, 0.019063170101930305, 0.003177195016988384, 0.003177195016988384, 0.38444059705559447, 0.03494914518687223, 0.003177195016988384, 0.1776834226947684, 0.6633514447271353, 0.011845561512984559, 0.023691123025969117, 0.09476449210387647, 0.0678856984083407, 0.3334385774762617, 0.025956296450247916, 0.023959658261767307, 0.07986552753922437, 0.029949572827209135, 0.11780165312035593, 0.023959658261767307, 0.03993276376961218, 0.013976467319364264, 0.08186216572770497, 0.08585544210466618, 0.053909231088976446, 0.0219630200732867, 0.1250652285371924, 0.056279352841736574, 0.012506522853719238, 0.4189685155995945, 0.0937989214028943, 0.1938511042326482, 0.0312663071342981, 0.018759784280578857, 0.012506522853719238, 0.012506522853719238, 0.006253261426859619, 0.025013045707438477, 0.013422898297732647, 0.17658568427239393, 0.13214097657545695, 0.10738318638186117, 0.010738318638186117, 0.2932157561482487, 0.06562305834447071, 0.06950078451937126, 0.009843458751670607, 0.03281152917223536, 0.04116355477971345, 0.019985204132179718, 0.016107477957279175, 0.01193146515354013, 0.00834253143098012, 0.015758114925184672, 0.006952109525816767, 0.18029137370284815, 0.0018538958735511378, 0.4481793274309876, 0.01668506286196024, 0.019002432703899164, 0.061178563827187546, 0.17519316005058252, 0.02271022445100144, 0.011586849209694612, 0.01668506286196024, 0.015758114925184672, 0.41542881760556194, 0.03195606289273553, 0.015978031446367766, 0.0479340943391033, 0.41542881760556194, 0.015978031446367766, 0.03195606289273553, 0.003547937696332489, 0.012417781937163712, 0.003547937696332489, 0.03547937696332489, 0.003547937696332489, 0.003547937696332489, 0.003547937696332489, 0.003547937696332489, 0.003547937696332489, 0.07273272277481603, 0.014191750785329957, 0.014191750785329957, 0.003547937696332489, 0.8248955143973038, 0.07576345684951763, 0.037881728424758815, 0.007576345684951763, 0.007576345684951763, 0.4091226669873952, 0.007576345684951763, 0.007576345684951763, 0.007576345684951763, 0.4318517040422505, 0.06287795319947793, 0.05294985532587615, 0.029784293620805334, 0.11913717448322134, 0.0033093659578672593, 0.04302175745227437, 0.03971239149440711, 0.04302175745227437, 0.029784293620805334, 0.03309365957867259, 0.04302175745227437, 0.05294985532587615, 0.0033093659578672593, 0.4434550383542128, 0.007672272506485918, 0.012787120844143197, 0.0025574241688286394, 0.17390484348034746, 0.0025574241688286394, 0.27620181023349305, 0.012787120844143197, 0.03836136253242959, 0.07672272506485918, 0.29410377941529353, 0.03580393836360095, 0.007672272506485918, 0.025574241688286394, 0.033246514194772314, 0.7356782950049943, 0.005770025843176426, 0.005770025843176426, 0.005770025843176426, 0.02019509045111749, 0.008655038764764639, 0.04039018090223498, 0.005770025843176426, 0.10674547809876388, 0.008655038764764639, 0.03173514213747034, 0.005770025843176426, 0.011540051686352852, 0.011540051686352852, 0.6594498450770536, 0.07758233471494748, 0.005541595336781962, 0.03324957202069178, 0.01662478601034589, 0.011083190673563925, 0.0886655253885114, 0.005541595336781962, 0.07204073937816552, 0.005541595336781962, 0.011083190673563925, 0.6440698581662105, 0.017890829393505846, 0.03578165878701169, 0.21468995272207017, 0.017890829393505846, 0.05367248818051754, 0.14377173270197355, 0.3450521584847365, 0.08626303962118413, 0.028754346540394708, 0.028754346540394708, 0.043131519810592066, 0.08626303962118413, 0.20128042578276298, 0.014377173270197354, 0.041054714516037524, 0.46528676451509193, 0.13684904838679174, 0.061582071774056286, 0.013684904838679174, 0.041054714516037524, 0.07526697661273546, 0.02736980967735835, 0.020527357258018762, 0.041054714516037524, 0.02736980967735835, 0.047897166935377114, 0.002880598902319183, 0.48394061558962276, 0.3715972583991746, 0.005761197804638366, 0.011522395609276733, 0.020164192316234283, 0.0172835934139151, 0.05473137914406448, 0.002880598902319183, 0.00864179670695755, 0.002880598902319183, 0.011522395609276733, 0.00864179670695755, 0.01179600675071304, 0.08257204725499127, 0.12385807088248692, 0.04128602362749564, 0.06487803712892172, 0.5131262936560173, 0.01179600675071304, 0.035388020252139114, 0.02359201350142608, 0.035388020252139114, 0.017694010126069557, 0.017694010126069557, 0.017694010126069557, 0.1824129354080857, 0.04292069068425546, 0.17168276273702185, 0.42920690684255464, 0.010730172671063866, 0.07511120869744706, 0.010730172671063866, 0.032190518013191595, 0.032190518013191595, 0.1527843140300484, 0.025464052338341404, 0.012732026169170702, 0.012732026169170702, 0.6111372561201937, 0.0381960785075121, 0.08912418318419492, 0.025464052338341404, 0.1486363331853029, 0.01238636109877524, 0.01238636109877524, 0.5326135272473353, 0.04954544439510096, 0.07431816659265145, 0.13624997208652764, 0.5944730743978037, 0.1238485571662091, 0.08669399001634637, 0.02476971143324182, 0.08669399001634637, 0.01238485571662091, 0.04953942286648364, 0.01238485571662091, 0.6430950984411797, 0.04853547912763621, 0.012133869781909052, 0.024267739563818103, 0.012133869781909052, 0.012133869781909052, 0.012133869781909052, 0.04853547912763621, 0.012133869781909052, 0.15774030716481768, 0.49058460094095774, 0.035235358078632324, 0.010841648639579177, 0.008131236479684383, 0.01355206079947397, 0.016262472959368765, 0.092154013436423, 0.008131236479684383, 0.048787418878106295, 0.16262472959368765, 0.016262472959368765, 0.062339479677580266, 0.005420824319789588, 0.03252494591873753, 0.09510735960290899, 0.006340490640193932, 0.006340490640193932, 0.748177895542884, 0.02536196256077573, 0.02536196256077573, 0.02536196256077573, 0.012680981280387865, 0.012680981280387865, 0.03804294384116359, 0.006340490640193932, 0.020994736025980388, 0.006998245341993463, 0.041989472051960776, 0.3359157764156862, 0.006998245341993463, 0.44788770188758165, 0.020994736025980388, 0.006998245341993463, 0.020994736025980388, 0.08397894410392155, 0.24077847013972706, 0.008399248958362571, 0.002799749652787524, 0.011198998611150096, 0.002799749652787524, 0.07839299027805068, 0.08399248958362572, 0.464758442362729, 0.047595744097387906, 0.002799749652787524, 0.04199624479181286, 0.008399248958362571, 0.008399248958362571, 0.07188931357540997, 0.03993850754189442, 0.03195080603351554, 0.207680239217851, 0.05591391055865219, 0.16774173167595657, 0.01597540301675777, 0.04792620905027331, 0.03195080603351554, 0.007987701508378886, 0.007987701508378886, 0.04792620905027331, 0.2635941497765032, 0.007987701508378886, 0.09015156875427778, 0.06241262452219231, 0.01618105080204986, 0.023115786860071225, 0.37447574713315385, 0.06703578189420656, 0.013869472116042735, 0.03929683766212109, 0.03698525897611396, 0.01618105080204986, 0.04623157372014245, 0.06472420320819944, 0.1017094621843134, 0.04623157372014245, 0.016799689968861355, 0.0055998966562871184, 0.8343846017867806, 0.0055998966562871184, 0.022399586625148474, 0.0895983465005939, 0.0055998966562871184, 0.0055998966562871184, 0.026478652119590777, 0.0075653291770259356, 0.022695987531077808, 0.045391975062155615, 0.0075653291770259356, 0.026478652119590777, 0.07565329177025935, 0.0037826645885129678, 0.5447037007458674, 0.09834927930133716, 0.1059146084783631, 0.026478652119590777, 0.0037826645885129678, 0.849886025654948, 0.0023412838172312614, 0.004682567634462523, 0.01638898672061883, 0.004682567634462523, 0.07960364978586289, 0.0023412838172312614, 0.0023412838172312614, 0.0023412838172312614, 0.004682567634462523, 0.0023412838172312614, 0.01404770290338757, 0.01873027053785009, 0.8529789933660901, 0.016725078301295885, 0.016725078301295885, 0.1003504698077753, 0.025799309868137426, 0.022574396134620246, 0.0032249137335171782, 0.012899654934068713, 0.6030588681677123, 0.012899654934068713, 0.04837370600275767, 0.029024223601654603, 0.012899654934068713, 0.009674741200551534, 0.04192387853572332, 0.07739792960441227, 0.01934948240110307, 0.08062284333792945, 0.8055291681274298, 0.04845288229337923, 0.01816983086001721, 0.006056610286672404, 0.07267932344006885, 0.04239627200670683, 0.006056610286672404, 0.018521630846662116, 0.08797774652164506, 0.04167366940498976, 0.004630407711665529, 0.009260815423331058, 0.004630407711665529, 0.12502100821496928, 0.4445191403198908, 0.03704326169332423, 0.009260815423331058, 0.009260815423331058, 0.023152038558327648, 0.004630407711665529, 0.18521630846662118, 0.07915635847034112, 0.01319272641172352, 0.03957817923517056, 0.4815345140279085, 0.02638545282344704, 0.21767998579343809, 0.04617454244103232, 0.00659636320586176, 0.05277090564689408, 0.02638545282344704, 0.00659636320586176, 0.13281598083055482, 0.03984479424916645, 0.026563196166110966, 0.3718847463255535, 0.35860314824249806, 0.013281598083055483, 0.026563196166110966, 0.013281598083055483, 0.03738113540923051, 0.14952454163692205, 0.018690567704615257, 0.35512078638768985, 0.18690567704615255, 0.05607170311384577, 0.13083397393230678, 0.03738113540923051, 0.8358235226802476, 0.005572156817868317, 0.005572156817868317, 0.030646862498275747, 0.0027860784089341587, 0.01950254886253911, 0.0027860784089341587, 0.008358235226802476, 0.041791176134012384, 0.04457725454294654, 0.1455459375470569, 0.12343769386902294, 0.10040827337107089, 0.06816708467393803, 0.1105412183901698, 0.04421648735606792, 0.02855648141746053, 0.05803413965483914, 0.045137664175986, 0.037768249616641346, 0.06171884693451147, 0.04145295689631367, 0.06264002375442955, 0.07185179195361037, 0.014593217483721254, 0.014593217483721254, 0.05837286993488502, 0.02918643496744251, 0.02918643496744251, 0.8318133965721115, 0.012605958031133391, 0.08193872720236704, 0.23068903196974108, 0.09202349362727376, 0.2773310766849346, 0.06933276917123365, 0.012605958031133391, 0.0037817874093400176, 0.005042383212453357, 0.0037817874093400176, 0.14875030476737403, 0.04916323632142023, 0.0037817874093400176, 0.008824170621793375, 0.004638893070481246, 0.027833358422887474, 0.009277786140962491, 0.08350007526866242, 0.023194465352406227, 0.05566671684577495, 0.004638893070481246, 0.6030560991625619, 0.11597232676203113, 0.009277786140962491, 0.06030560991625619, 0.008064256518010737, 0.008064256518010737, 0.016128513036021475, 0.612883495368816, 0.03225702607204295, 0.10483533473413958, 0.008064256518010737, 0.03225702607204295, 0.07257830866209664, 0.09677107821612885, 0.12487764655036772, 0.013875294061151969, 0.19425411685612756, 0.4995105862014709, 0.11100235248921575, 0.027750588122303937, 0.15611053338662584, 0.18584587307931646, 0.007433834923172659, 0.5575376192379494, 0.007433834923172659, 0.014867669846345319, 0.007433834923172659, 0.014867669846345319, 0.044603009539035954, 0.030027091570624553, 0.07506772892656138, 0.7206501976949893, 0.015013545785312277, 0.12010836628249821, 0.030027091570624553, 0.016184157144364976, 0.04855247143309493, 0.04315775238497327, 0.016184157144364976, 0.16723629049177144, 0.0917102238180682, 0.03776303333685161, 0.021578876192486635, 0.03236831428872995, 0.2967095476466913, 0.10249966191431152, 0.0647366285774599, 0.005394719048121659, 0.04855247143309493, 0.05542126005667581, 0.04156594504250686, 0.16626378017002744, 0.08313189008501372, 0.15240846515585849, 0.013855315014168952, 0.013855315014168952, 0.37409350538256175, 0.013855315014168952, 0.027710630028337905, 0.06927657507084477, 0.002863024006756587, 0.04151384809797051, 0.011452096027026348, 0.14744573634796423, 0.007157560016891468, 0.008589072020269761, 0.018609656043917816, 0.0014315120033782935, 0.017178144040539522, 0.02433570405743099, 0.09734281622972396, 0.004294536010134881, 0.005726048013513174, 0.6126871374459096, 0.21416728640918542, 0.03294881329372083, 0.026359050634976667, 0.035302299957558035, 0.01129673598641857, 0.006589762658744167, 0.03436090529202315, 0.02259347197283714, 0.24994028369951088, 0.0371850892886278, 0.14120919983023214, 0.03624369462309292, 0.13697292383532517, 0.016003709314092975, 0.006165613612268562, 0.2386973269892543, 0.1444515189160063, 0.018496840836805684, 0.40869210229894465, 0.007046415556878356, 0.014973633058366506, 0.022900850559854656, 0.012331227224537123, 0.0008808019446097945, 0.039636087507440756, 0.010569623335317534, 0.004404009723048973, 0.06958335362417377, 0.053600018429114334, 0.19164534891164464, 0.12742645890695106, 0.12489815615086076, 0.07584908268270897, 0.04095850464866284, 0.05006039457058792, 0.09455852307777718, 0.01719245874141403, 0.04095850464866284, 0.03539623858526418, 0.04753209181449762, 0.06624153220956583, 0.03286793582917388, 0.03513412686871938, 0.16395925872069045, 0.01171137562290646, 0.07026825373743877, 0.5738574055224166, 0.01171137562290646, 0.01171137562290646, 0.02342275124581292, 0.05855687811453231, 0.04684550249162584, 0.011980089721055923, 0.005590708536492764, 0.011181417072985528, 0.031148233274745397, 0.0023960179442111844, 0.0031946905922815793, 0.019168143553689475, 0.004792035888422369, 0.337838530133777, 0.02316150679404145, 0.033544251218956586, 0.003993363240351974, 0.03753761445930856, 0.4752102256018849, 0.08418149974950838, 0.06734519979960671, 0.016836299949901677, 0.11785409964931173, 0.016836299949901677, 0.6061067981964603, 0.016836299949901677, 0.016836299949901677, 0.016836299949901677, 0.033672599899803354, 0.1446391507664328, 0.00964261005109552, 0.00964261005109552, 0.01928522010219104, 0.03857044020438208, 0.01928522010219104, 0.241065251277388, 0.0964261005109552, 0.1446391507664328, 0.241065251277388, 0.02892783015328656, 0.24512232236392684, 0.016341488157595122, 0.04902446447278537, 0.016341488157595122, 0.5556105973582341, 0.04902446447278537, 0.016341488157595122, 0.016341488157595122, 0.032682976315190244, 0.016341488157595122, 0.015054778269900312, 0.3312051219378068, 0.10538344788930218, 0.06021911307960125, 0.030109556539800623, 0.015054778269900312, 0.3312051219378068, 0.015054778269900312, 0.04516433480970093, 0.030109556539800623, 0.015054778269900312, 0.014352265720485502, 0.4678838624878274, 0.022963625152776803, 0.13491129777256372, 0.07463178174652461, 0.005740906288194201, 0.0086113594322913, 0.028704531440971005, 0.054538609737844905, 0.020093172008679702, 0.08324314117881591, 0.0028704531440971004, 0.07463178174652461, 0.060799530615337584, 0.06514235423071885, 0.02171411807690628, 0.0694851778461001, 0.030399765307668792, 0.039085412538431306, 0.06514235423071885, 0.05211388338457507, 0.013028470846143768, 0.008685647230762513, 0.013028470846143768, 0.525481657461132, 0.030399765307668792, 0.01860744535536366, 0.00620248178512122, 0.01240496357024244, 0.01860744535536366, 0.00620248178512122, 0.7194878870740615, 0.01860744535536366, 0.02480992714048488, 0.09923970856193952, 0.02480992714048488, 0.04961985428096976, 0.07105027050665892, 0.07105027050665892, 0.07105027050665892, 0.014210054101331785, 0.0994703787093225, 0.014210054101331785, 0.014210054101331785, 0.41209156893862176, 0.042630162303995356, 0.07105027050665892, 0.014210054101331785, 0.08526032460799071, 0.014210054101331785, 0.010143097414055762, 0.19271885086705948, 0.10143097414055763, 0.020286194828111524, 0.38543770173411895, 0.020286194828111524, 0.09128787672650186, 0.010143097414055762, 0.0811447793124461, 0.010143097414055762, 0.06085858448433457, 0.010143097414055762, 0.0023503217070966293, 0.08931222486967191, 0.22915636644192136, 0.1986021842496652, 0.028203860485159552, 0.06580900779870563, 0.003525482560644944, 0.011751608535483148, 0.0023503217070966293, 0.07403513377354383, 0.2326818490025663, 0.003525482560644944, 0.008226125974838204, 0.04818159499548091, 0.17510512585396032, 0.008838867198631011, 0.008599978895965308, 0.018633287607924837, 0.04682210732247779, 0.4658321901981209, 0.049927655257131935, 0.06545539493040263, 0.02747215480655585, 0.005016654355979764, 0.016244404581267805, 0.07548870364236215, 0.02436660687190171, 0.01266108004128226, 0.10656110397928503, 0.03044602970836715, 0.502359490188058, 0.015223014854183575, 0.015223014854183575, 0.015223014854183575, 0.1826761782502029, 0.09133808912510145, 0.006579750708926983, 0.13159501417853964, 0.019739252126780946, 0.08553675921605076, 0.03289875354463491, 0.013159501417853966, 0.12501526346961267, 0.006579750708926983, 0.3355672861552761, 0.05263800567141586, 0.1118557620517587, 0.006579750708926983, 0.05263800567141586, 0.02631900283570793, 0.012454186525647972, 0.024908373051295944, 0.03736255957694392, 0.6102551397567507, 0.03736255957694392, 0.17435861135907163, 0.012454186525647972, 0.08717930567953582, 0.015513259543027543, 0.23269889314541314, 0.015513259543027543, 0.015513259543027543, 0.04653977862908263, 0.3102651908605509, 0.2947519313175233, 0.04653977862908263, 0.00458396863694785, 0.00458396863694785, 0.00458396863694785, 0.49506861279036785, 0.027503811821687103, 0.00458396863694785, 0.013751905910843552, 0.05500762364337421, 0.00458396863694785, 0.0825114354650613, 0.2567022436690796, 0.05042365500642636, 0.12083378626841615, 0.7508956718108718, 0.017261969466916594, 0.06904787786766638, 0.008630984733458297, 0.008630984733458297, 0.017261969466916594, 0.008630984733458297, 0.2660531105271855, 0.003093640820083552, 0.009280922460250658, 0.003093640820083552, 0.1825248083849296, 0.3433941310292743, 0.11137106952300789, 0.009280922460250658, 0.003093640820083552, 0.003093640820083552, 0.03403004902091908, 0.030936408200835524, 0.003093640820083552, 0.03570490760315972, 0.075764072231095, 0.01915873090901253, 0.03135065057838414, 0.11233983123920983, 0.023512987933788105, 0.007837662644596035, 0.040930016032890405, 0.014804473884236955, 0.00522510842973069, 0.5852121441298372, 0.01045021685946138, 0.00348340561982046, 0.0348340561982046, 0.053590307302952354, 0.09871898713701749, 0.042308137344436066, 0.031025967385919784, 0.06487247726146864, 0.06205193477183957, 0.06487247726146864, 0.03666705236517793, 0.014102712448145356, 0.014102712448145356, 0.03666705236517793, 0.016923254937774426, 0.0197437974274035, 0.4428251708717642, 0.16793955687017365, 0.01975759492590278, 0.00987879746295139, 0.681637024943646, 0.00987879746295139, 0.00987879746295139, 0.01975759492590278, 0.00987879746295139, 0.029636392388854176, 0.01975759492590278, 0.00987879746295139, 0.17088646501417204, 0.06755976523816104, 0.031792830700311074, 0.08875498570503508, 0.03576693453784996, 0.006623506395898141, 0.12584662152206466, 0.014571714070975909, 0.026494025583592564, 0.11524901128862765, 0.11524901128862765, 0.011922311512616654, 0.014571714070975909, 0.17486056885171092, 0.058686730578159, 0.04249728766004617, 0.15278786753968981, 0.3268243789094027, 0.04097952738647309, 0.009612481732629491, 0.006576961185483336, 0.016695363009303854, 0.009106561641438466, 0.005565121003101284, 0.22867588121834367, 0.04553280820719233, 0.0450268881160013, 0.011636162097393595, 0.032692199027879475, 0.032692199027879475, 0.7628179773171878, 0.032692199027879475, 0.043589598703839307, 0.010897399675959827, 0.010897399675959827, 0.010897399675959827, 0.021794799351919653, 0.043589598703839307, 0.8119671664998481, 0.024022697233723314, 0.10569986782838259, 0.01441361834023399, 0.004804539446744663, 0.004804539446744663, 0.004804539446744663, 0.004804539446744663, 0.009609078893489326, 0.009609078893489326, 0.009456631334414203, 0.747073875418722, 0.009456631334414203, 0.12293620734738464, 0.018913262668828406, 0.018913262668828406, 0.009456631334414203, 0.02836989400324261, 0.018913262668828406, 0.009456631334414203, 0.11830357731042407, 0.12027530359893114, 0.05087053824348235, 0.08360119463269967, 0.08793899246741523, 0.04495535937796115, 0.06467262226303183, 0.08281250411729685, 0.07058780112855303, 0.08675595669431099, 0.07295387267476151, 0.026815477523696122, 0.04416666886255832, 0.04534970463566256, 0.012780029947403264, 0.8243119316075105, 0.051120119789613054, 0.006390014973701632, 0.025560059894806527, 0.006390014973701632, 0.006390014973701632, 0.006390014973701632, 0.019170044921104894, 0.012780029947403264, 0.012780029947403264, 0.012780029947403264, 0.06020407321650391, 0.03511904270962728, 0.005017006101375326, 0.5418366589485352, 0.015051018304125977, 0.030102036608251954, 0.030102036608251954, 0.04515305491237793, 0.08528910372338053, 0.015051018304125977, 0.010034012202750651, 0.08027209762200521, 0.03511904270962728, 0.010034012202750651, 0.10599394235799818, 0.08479515388639855, 0.5935660772047898, 0.08479515388639855, 0.042397576943199275, 0.042397576943199275, 0.021198788471599637, 0.021198788471599637, 0.14496174315687674, 0.04348852294706302, 0.04348852294706302, 0.08697704589412604, 0.2319387890510028, 0.0579846972627507, 0.02899234863137535, 0.0579846972627507, 0.2754273119980658, 0.018295459403665386, 0.018295459403665386, 0.3037046261008454, 0.06220456197246231, 0.007318183761466154, 0.003659091880733077, 0.5415455983484954, 0.007318183761466154, 0.014636367522932308, 0.003659091880733077, 0.010977275642199231, 0.003659091880733077, 0.19830230512310498, 0.06940580679308675, 0.007436336442116437, 0.0024787788140388125, 0.06196947035097031, 0.024787788140388123, 0.05453313390885387, 0.03222412458250456, 0.034702903396543375, 0.0024787788140388125, 0.36933804329178305, 0.12641771951597944, 0.017351451698271687, 0.04841742185885709, 0.7262613278828564, 0.12911312495695224, 0.01613914061961903, 0.03227828123923806, 0.03227828123923806, 0.009378174490505752, 0.009378174490505752, 0.8627920531265292, 0.018756348981011504, 0.009378174490505752, 0.06564722143354026, 0.013938053289501874, 0.6132743447380825, 0.013938053289501874, 0.013938053289501874, 0.013938053289501874, 0.041814159868505625, 0.20907079934252812, 0.013938053289501874, 0.041814159868505625, 0.006074629806133045, 0.004049753204088697, 0.0020248766020443485, 0.014174136214310438, 0.006074629806133045, 0.2389354390412331, 0.004049753204088697, 0.018223889418399135, 0.6378361296439697, 0.008099506408177394, 0.014174136214310438, 0.006074629806133045, 0.038472655438842616, 0.44049217538035096, 0.03388401349079623, 0.05082602023619434, 0.10165204047238868, 0.05082602023619434, 0.2541301011809717, 0.016942006745398114, 0.03388401349079623, 0.24469169734279633, 0.048938339468559265, 0.008156389911426544, 0.032625559645706174, 0.13865862849425126, 0.016312779822853087, 0.4404450552170334, 0.008156389911426544, 0.032625559645706174, 0.016312779822853087, 0.002661604542267666, 0.019962034067007493, 0.001330802271133833, 0.7159716218700021, 0.03859326586288115, 0.002661604542267666, 0.04790888176081798, 0.0039924068134014985, 0.006654011355669164, 0.04657807948968415, 0.0851713453525653, 0.01863123179587366, 0.007984813626802997, 0.011693129172280258, 0.771746525370497, 0.0818519042059618, 0.035079387516840775, 0.011693129172280258, 0.023386258344560516, 0.011693129172280258, 0.023386258344560516, 0.011693129172280258, 0.0511319086295514, 0.06790956614862295, 0.022370210025428737, 0.020772337880755255, 0.062317013642265766, 0.045539356123194215, 0.1374170044419194, 0.16777657519071554, 0.14380849302061333, 0.027962762531785923, 0.1278297715738785, 0.05832233328058207, 0.05992020542525555, 0.007190424651030666, 0.5038784567449747, 0.008127071882983462, 0.2600663002554708, 0.03250828753193385, 0.008127071882983462, 0.008127071882983462, 0.1706685095426527, 0.023413704907192127, 0.023413704907192127, 0.10770304257308379, 0.35822968508003955, 0.018730963925753703, 0.06087563275869953, 0.004682740981438426, 0.08428933766589165, 0.10067893110092614, 0.07960659668445323, 0.06321700324941874, 0.03512055736078819, 0.018730963925753703, 0.021072334416472913, 0.7990405419287566, 0.011254092139841642, 0.06752455283904986, 0.056270460699208213, 0.011254092139841642, 0.011254092139841642, 0.011254092139841642, 0.011254092139841642, 0.013114953781673497, 0.026229907563346994, 0.026229907563346994, 0.4983682437035929, 0.15737944538008197, 0.11803458403506148, 0.013114953781673497, 0.10491963025338798, 0.03934486134502049, 0.023277304440863605, 0.015518202960575737, 0.0077591014802878685, 0.011638652220431802, 0.2987254069910829, 0.07371146406273475, 0.0038795507401439343, 0.02715685518100754, 0.015518202960575737, 0.01939775370071967, 0.15906158034590132, 0.2832072040305072, 0.058193261102159013, 0.0038795507401439343, 0.04115018534579507, 0.005143773168224384, 0.010287546336448768, 0.020575092672897536, 0.005143773168224384, 0.2571886584112192, 0.020575092672897536, 0.5452399558317848, 0.010287546336448768, 0.07715659752336576, 0.005143773168224384, 0.0016558974230890945, 0.0016558974230890945, 0.0016558974230890945, 0.014903076807801851, 0.002483846134633642, 0.0008279487115445472, 0.003311794846178189, 0.0008279487115445472, 0.0008279487115445472, 0.0041397435577227365, 0.02401051263479187, 0.9422056337376947, 0.0008279487115445472, 0.015523948008498939, 0.3363522068508103, 0.11211740228360344, 0.053471376473718565, 0.046571844025496814, 0.02069859734466525, 0.0689953244822175, 0.07072020759427294, 0.03277277912905331, 0.046571844025496814, 0.05864602580988488, 0.10176810361127081, 0.018973714232609813, 0.018973714232609813, 0.04014128897456902, 0.22479121825758652, 0.3002568415297763, 0.05780345612337939, 0.014450864030844848, 0.04656389521050006, 0.05138084988744835, 0.028901728061689697, 0.0369299858566035, 0.06101475924134491, 0.03371868273863798, 0.025690424943724175, 0.01926781870779313, 0.05940910768236215, 0.009397008789092871, 0.0657790615236501, 0.11276410546911446, 0.3570863339855291, 0.11276410546911446, 0.14095513183639308, 0.009397008789092871, 0.009397008789092871, 0.07517607031274297, 0.018794017578185742, 0.018794017578185742, 0.04698504394546436, 0.028191026367278615, 0.006027373085633423, 0.002009124361877808, 0.07433760138947888, 0.8177136152842677, 0.010045621809389038, 0.004018248723755616, 0.002009124361877808, 0.002009124361877808, 0.004018248723755616, 0.002009124361877808, 0.010045621809389038, 0.002009124361877808, 0.014063870533144653, 0.05022810904694519, 0.15997060339479963, 0.04591748801147026, 0.056285953046318386, 0.06961683666255168, 0.03258660439523696, 0.08146651098809239, 0.054804743755625794, 0.23254985863873648, 0.10220344105778864, 0.026661767232466604, 0.056285953046318386, 0.03110539510454437, 0.013330883616233302, 0.03554902297662214, 0.33467743950779255, 0.009045336202913312, 0.10854403443495975, 0.009045336202913312, 0.18090672405826624, 0.009045336202913312, 0.33467743950779255, 0.18122962338995943, 0.19770504369813757, 0.13180336246542504, 0.03295084061635626, 0.39541008739627515, 0.01647542030817813, 0.01647542030817813, 0.01647542030817813, 0.2766260044587949, 0.1521443024523372, 0.1798069028982167, 0.013831300222939746, 0.013831300222939746, 0.12448170200645771, 0.22130080356703594, 0.013831300222939746, 0.021678828735023414, 0.07154013482557726, 0.08671531494009366, 0.04769342321705151, 0.13874450390414986, 0.054197071837558536, 0.008671531494009366, 0.07154013482557726, 0.006503648620507024, 0.013007297241014048, 0.36420432274839337, 0.034686125976037464, 0.06720436907857258, 0.010839414367511707, 0.0151679747203642, 0.009100784832218519, 0.0030335949440728396, 0.16684772192400618, 0.009100784832218519, 0.6461557230875149, 0.012134379776291358, 0.006067189888145679, 0.05763830393738396, 0.0030335949440728396, 0.018201569664437037, 0.04853751910516543, 0.009100784832218519, 0.3222682425988764, 0.07673053395211342, 0.5064215240839486, 0.015346106790422684, 0.015346106790422684, 0.015346106790422684, 0.015346106790422684, 0.08065778472176001, 0.3343395269918117, 0.1235885411059226, 0.06634753259370582, 0.016912116151336778, 0.036426096325956135, 0.0273195722444671, 0.018213048162978068, 0.11578294903607486, 0.06764846460534711, 0.016912116151336778, 0.040328892360880005, 0.019513980174619357, 0.035125164314314845, 0.03504723372450745, 0.36799595410732827, 0.03504723372450745, 0.017523616862253726, 0.017523616862253726, 0.03504723372450745, 0.0700944674490149, 0.08761808431126863, 0.22780701920929844, 0.08761808431126863, 0.017523616862253726, 0.6534866262598662, 0.03322813353863726, 0.06645626707727452, 0.03322813353863726, 0.022152089025758173, 0.022152089025758173, 0.03322813353863726, 0.03322813353863726, 0.05538022256439544, 0.03322813353863726, 0.011076044512879087, 0.00593534344866441, 0.04154740414065087, 0.6706938096990783, 0.17806030345993232, 0.01187068689732882, 0.01187068689732882, 0.01780603034599323, 0.01187068689732882, 0.01187068689732882, 0.029676717243322052, 0.00593534344866441, 0.004276933526165324, 0.03421546820932259, 0.7270786994481051, 0.1283080057849597, 0.012830800578495971, 0.008553867052330648, 0.012830800578495971, 0.008553867052330648, 0.04276933526165324, 0.017107734104661296, 0.17083866389301638, 0.011389244259534427, 0.04555697703813771, 0.03416773277860328, 0.011389244259534427, 0.03416773277860328, 0.03416773277860328, 0.5580729687171869, 0.03416773277860328, 0.05694622129767213, 0.0552175060510424, 0.5373606076674614, 0.02154829504430923, 0.07676580109535162, 0.018854758163770576, 0.005387073761077307, 0.08215287485642893, 0.005387073761077307, 0.09427379081885287, 0.049830432289965094, 0.00404030532080798, 0.03501597944700249, 0.006733842201346634, 0.010774147522154614, 0.11306435475562647, 0.02609177417437534, 0.008697258058125113, 0.008697258058125113, 0.06957806446500091, 0.02609177417437534, 0.2087341933950027, 0.07827532252312602, 0.05218354834875068, 0.06957806446500091, 0.24352322562750317, 0.04348629029062556, 0.04348629029062556, 0.045923614090336316, 0.01530787136344544, 0.18369445636134527, 0.32146529863235423, 0.38269678408613594, 0.01530787136344544, 0.01530787136344544, 0.17118276376013034, 0.00778103471636956, 0.7314172633387387, 0.00778103471636956, 0.0389051735818478, 0.00778103471636956, 0.00778103471636956, 0.00778103471636956, 0.00778103471636956, 0.00778103471636956, 0.4537777118604165, 0.013395652010639601, 0.048559238538568555, 0.21600488867156356, 0.0016744565013299502, 0.09544402057580716, 0.08874619457048735, 0.026791304021279203, 0.0050233695039898505, 0.0033489130026599003, 0.0050233695039898505, 0.038512499530588856, 0.0016744565013299502, 0.1646036043960719, 0.059948226292396566, 0.06502858445276916, 0.044707151811278795, 0.06909287098106723, 0.10465537810367535, 0.0680767993489927, 0.030482148962235542, 0.13412145543383638, 0.04064286528298072, 0.044707151811278795, 0.060964297924471084, 0.060964297924471084, 0.05181965323580042, 0.06029810381228236, 0.07369768243723399, 0.052258356637311376, 0.5534025972105026, 0.07905751388721464, 0.02009936793742745, 0.03751882014986458, 0.005359831449980654, 0.002679915724990327, 0.01607949434994196, 0.01607949434994196, 0.054938272362301706, 0.01875941007493229, 0.010719662899961308, 0.03187381522456822, 0.01593690761228411, 0.047810722836852323, 0.6374763044913643, 0.06374763044913644, 0.06374763044913644, 0.01593690761228411, 0.12749526089827287, 0.33427422503835524, 0.3714158055981725, 0.018570790279908624, 0.0742831611196345, 0.018570790279908624, 0.03714158055981725, 0.018570790279908624, 0.018570790279908624, 0.05571237083972587, 0.05571237083972587, 0.005882108204634442, 0.005882108204634442, 0.005882108204634442, 0.611739253281982, 0.017646324613903325, 0.02941054102317221, 0.017646324613903325, 0.02941054102317221, 0.023528432818537767, 0.19999167895757103, 0.023528432818537767, 0.023528432818537767, 0.9395811932987465, 0.011320255340948751, 0.022640510681897503, 0.1180296356953784, 0.03168580824037004, 0.2946780166354414, 0.00792145206009251, 0.017427194532203524, 0.2186320768585533, 0.035646534270416294, 0.005545016442064757, 0.0031685808240370043, 0.15129973434776695, 0.003960726030046255, 0.041983695918490306, 0.02297221097426828, 0.04673656715454581, 0.0027840205431174997, 0.02876821227888083, 0.006496047933940833, 0.007424054781646666, 0.6737329714344349, 0.015776116410999165, 0.007424054781646666, 0.05104037662382083, 0.003712027390823333, 0.004640034238529166, 0.09372869161828916, 0.0751685546641725, 0.025984191735763332, 0.0027840205431174997, 0.02172157354046114, 0.007240524513487046, 0.04344314708092228, 0.4054693727552746, 0.2172157354046114, 0.24617783345855956, 0.014481049026974092, 0.014481049026974092, 0.036202622567435234, 0.11740997742777301, 0.0058704988713886505, 0.06457548758527516, 0.023481995485554602, 0.01761149661416595, 0.16437396839888221, 0.029352494356943253, 0.058704988713886505, 0.0058704988713886505, 0.4578989119683148, 0.0058704988713886505, 0.0058704988713886505, 0.046963990971109204, 0.022516208957850982, 0.0056290522394627455, 0.0056290522394627455, 0.4221789179597059, 0.0056290522394627455, 0.4953565970727216, 0.0056290522394627455, 0.011258104478925491, 0.0056290522394627455, 0.0056290522394627455, 0.016887156718388235, 0.0034867806605116585, 0.0034867806605116585, 0.02440746462358161, 0.0034867806605116585, 0.08716951651279146, 0.006973561321023317, 0.0034867806605116585, 0.3835458726562824, 0.006973561321023317, 0.006973561321023317, 0.006973561321023317, 0.46722860850856224, 0.003998057873910245, 0.029985434054326833, 0.0019990289369551223, 0.004997572342387805, 0.2878601669215376, 0.030984948522804392, 0.014992717027163417, 0.05597281023474342, 0.003998057873910245, 0.0029985434054326833, 0.41679753335514297, 0.11194562046948683, 0.02798640511737171, 0.004997572342387805, 0.005992595015365021, 0.2660712186822069, 0.007191114018438025, 0.00838963302151103, 0.007191114018438025, 0.004794076012292017, 0.304423826780543, 0.1486163563810525, 0.0011985190030730042, 0.010786671027657038, 0.11985190030730042, 0.007191114018438025, 0.10786671027657037, 0.04052293795651965, 0.006753822992753275, 0.1553379288333253, 0.6078440693477947, 0.006753822992753275, 0.006753822992753275, 0.01350764598550655, 0.01350764598550655, 0.1080611678840524, 0.033769114963766375, 0.01350764598550655, 0.009552244176206419, 0.009552244176206419, 0.02865673252861926, 0.8119407549775457, 0.009552244176206419, 0.009552244176206419, 0.0955224417620642, 0.019104488352412838, 0.38820348900544466, 0.01764561313661112, 0.10587367881966672, 0.01764561313661112, 0.21174735763933344, 0.01764561313661112, 0.03529122627322224, 0.21174735763933344, 0.01945252293677698, 0.014147289408565075, 0.18391476231134596, 0.26172485405845386, 0.04244186822569522, 0.03183140116927142, 0.01237887823249444, 0.22812504171311182, 0.007073644704282537, 0.10256784821209679, 0.0035368223521412686, 0.01237887823249444, 0.03890504587355396, 0.04244186822569522, 0.08093658393273988, 0.048561950359643925, 0.09712390071928785, 0.22662243501167165, 0.048561950359643925, 0.0647492671461919, 0.0647492671461919, 0.2589970685847676, 0.048561950359643925, 0.016187316786547976, 0.048561950359643925, 0.16764592435157866, 0.10400890000587737, 0.10400890000587737, 0.06842690789860353, 0.08074375132035216, 0.06226848618772921, 0.05063591184496661, 0.09990328553196115, 0.03421345394930177, 0.05474152631888282, 0.03968760658119005, 0.039003337502204014, 0.036950530265245904, 0.057478602634826965, 0.011819718787653002, 0.09455775030122401, 0.22457465696540702, 0.059098593938265005, 0.011819718787653002, 0.567346501807344, 0.011819718787653002, 0.14900089346844198, 0.05506554758616334, 0.13766386896540836, 0.014576174361043236, 0.03239149858009608, 0.025913198864076864, 0.00809787464502402, 0.006478299716019216, 0.001619574929004804, 0.11660939488834589, 0.011337024503033628, 0.404893732251201, 0.029152348722086472, 0.00809787464502402, 0.01925448330200598, 0.0320908055033433, 0.03850896660401196, 0.02246356385234031, 0.048136208255014946, 0.01925448330200598, 0.6129343851138569, 0.0032090805503343298, 0.0064181611006686595, 0.07701793320802391, 0.0032090805503343298, 0.0064181611006686595, 0.0064181611006686595, 0.10589965816103288, 0.08224027803727943, 0.143920486565239, 0.08224027803727943, 0.041120139018639715, 0.08224027803727943, 0.06168020852795958, 0.041120139018639715, 0.020560069509319857, 0.08224027803727943, 0.06168020852795958, 0.287840973130478, 0.011536326794991673, 0.8806062786843644, 0.007690884529994449, 0.0038454422649972244, 0.0038454422649972244, 0.015381769059988898, 0.007690884529994449, 0.0038454422649972244, 0.04614530717996669, 0.015381769059988898, 0.03156386835913276, 0.03156386835913276, 0.662841235541788, 0.15781934179566381, 0.03156386835913276, 0.07890967089783191, 0.02520293057097864, 0.031503663213723304, 0.5418630072760408, 0.05040586114195728, 0.018902197928233982, 0.04410512849921262, 0.04410512849921262, 0.031503663213723304, 0.06300732642744661, 0.018902197928233982, 0.018902197928233982, 0.031503663213723304, 0.07560879171293593, 0.49255656644024387, 0.09639279042163912, 0.033896365862554415, 0.02330375153050616, 0.03919267302857855, 0.019066705797686857, 0.04237045732819302, 0.038133411595373715, 0.01165187576525308, 0.027540797263325464, 0.007414830032433779, 0.008474091465638604, 0.027540797263325464, 0.1324076791506032, 0.11987067151841845, 0.09422669701447818, 0.09422669701447818, 0.0751428090115459, 0.12404527201905989, 0.06917909401062955, 0.057251664008796874, 0.09243758251420328, 0.025643974503940264, 0.07216095151108773, 0.04949883450760563, 0.022662117003482096, 0.04114963350632275, 0.06321537900971322, 0.2740464228294352, 0.02805936069925958, 0.0355418568857288, 0.036477168909037454, 0.16367960407901422, 0.1262671231466681, 0.036477168909037454, 0.03086529676918554, 0.027124048675950925, 0.012159056303012485, 0.034606544862420145, 0.0355418568857288, 0.13187899528652003, 0.02525342462933362, 0.9091061532150638, 0.012987230760215197, 0.012987230760215197, 0.012987230760215197, 0.025974461520430394, 0.012987230760215197, 0.009801314329193796, 0.012251642911492245, 0.014701971493790695, 0.6713900315497751, 0.012251642911492245, 0.007350985746895348, 0.009801314329193796, 0.009801314329193796, 0.03430460015217829, 0.04165558589907364, 0.022052957240686042, 0.012251642911492245, 0.012251642911492245, 0.12741708627951936, 0.695505350464877, 0.008803865195757937, 0.044019325978789686, 0.005869243463838624, 0.002934621731919312, 0.08216940849374074, 0.005869243463838624, 0.046953947710708994, 0.008803865195757937, 0.03521546078303175, 0.005869243463838624, 0.044019325978789686, 0.014673108659596562, 0.002934621731919312, 0.015355948556829046, 0.07398775213744904, 0.02861790412863595, 0.7021856476440919, 0.0279199064669619, 0.0062819789550664275, 0.010469964925110714, 0.015355948556829046, 0.0062819789550664275, 0.03140989477533214, 0.020939929850221427, 0.032805890098680235, 0.012563957910132855, 0.016053946218503094, 0.15040648012690316, 0.04010839470050751, 0.008021678940101501, 0.060162592050761264, 0.03409213549543138, 0.06818427099086276, 0.038102974965482136, 0.02607045655532988, 0.1062872459563449, 0.020054197350253756, 0.04813007364060901, 0.29880754051878095, 0.09626014728121803, 0.006016259205076127, 0.016520847712807398, 0.24781271569211097, 0.05782296699482589, 0.033041695425614796, 0.19825017255368876, 0.016520847712807398, 0.0413021192820185, 0.016520847712807398, 0.008260423856403699, 0.35519822582535904, 0.08358141523904004, 0.005764235533726899, 0.0288211776686345, 0.025939059901771047, 0.017292706601180697, 0.12969529950885522, 0.04611388426981519, 0.04899600203667864, 0.371793191925385, 0.005764235533726899, 0.06628870863785934, 0.040349648736088296, 0.020174824368044148, 0.11240259290767454, 0.004766695856544795, 0.00953339171308959, 0.004766695856544795, 0.004766695856544795, 0.5148031525068378, 0.2860017513926877, 0.004766695856544795, 0.15253426740943343, 0.00953339171308959, 0.004766695856544795, 0.03186128938991167, 0.5416419196284984, 0.23895967042433752, 0.07965322347477918, 0.015930644694955837, 0.04779193408486751, 0.015930644694955837, 0.015930644694955837, 0.015930644694955837, 0.00812919623233094, 0.010838928309774586, 0.4091695436939906, 0.20864936996316077, 0.04606544531654199, 0.018968124542105527, 0.0027097320774436464, 0.027097320774436464, 0.013548660387218232, 0.018968124542105527, 0.1923909774984989, 0.010838928309774586, 0.02167785661954917, 0.013548660387218232, 0.8723049792002522, 0.0039293017081092445, 0.023575810248655463, 0.0039293017081092445, 0.015717206832436978, 0.01964650854054622, 0.011787905124327732, 0.0039293017081092445, 0.007858603416218489, 0.011787905124327732, 0.007858603416218489, 0.0039293017081092445, 0.0039293017081092445, 0.14092982597715534, 0.11300976611375663, 0.06780585966825398, 0.09772020952189545, 0.10636213281294742, 0.04719819643574542, 0.05716964638695924, 0.08774875957068162, 0.03855627314469344, 0.0465334331056645, 0.055175356396716474, 0.059163936377202, 0.035232456494288834, 0.047862959765826336, 0.015047005874590945, 0.24075209399345512, 0.02257050881188642, 0.09780553818484115, 0.05266452056106831, 0.015047005874590945, 0.3084636204291144, 0.1655170646205004, 0.015047005874590945, 0.015047005874590945, 0.03009401174918189, 0.02257050881188642, 0.00870916561220505, 0.2438566371417414, 0.0870916561220505, 0.0348366624488202, 0.026127496836615152, 0.0696733248976404, 0.07838249050984546, 0.0696733248976404, 0.00870916561220505, 0.07838249050984546, 0.026127496836615152, 0.2612749683661515, 0.036866271254026785, 0.12903194938909376, 0.07373254250805357, 0.07373254250805357, 0.5161277975563751, 0.07373254250805357, 0.036866271254026785, 0.018433135627013392, 0.018433135627013392, 0.04606964274628547, 0.10051558417371376, 0.6114698037234254, 0.04606964274628547, 0.008376298681142813, 0.008376298681142813, 0.0628222401085711, 0.016752597362285626, 0.016752597362285626, 0.04606964274628547, 0.01256444802171422, 0.02931704538399985, 0.051494131320821444, 0.001634734327645125, 0.7299088772935484, 0.0980840596587075, 0.0065389373105805, 0.012260507457338438, 0.0024521014914676877, 0.005721570146757938, 0.004904202982935375, 0.004904202982935375, 0.005721570146757938, 0.0196168119317415, 0.038416256699660443, 0.0196168119317415, 0.13235916454879984, 0.07445203005869992, 0.01654489556859998, 0.6121611360381993, 0.01654489556859998, 0.049634686705799944, 0.01654489556859998, 0.03308979113719996, 0.024817343352899972, 0.00827244778429999, 0.01654489556859998, 0.00827244778429999, 0.08476904618833286, 0.022605078983555432, 0.17942781443197123, 0.0042384523094166435, 0.05086142771299972, 0.01271535692824993, 0.12150229953661044, 0.1257407518460271, 0.20203289341552666, 0.019779444110611003, 0.055099880022416364, 0.05086142771299972, 0.03390761847533315, 0.035320435911805365, 0.02394009237952211, 0.4398136971437919, 0.057456221710853066, 0.0704522718597365, 0.017784068624787853, 0.016416063345958017, 0.05437820983348594, 0.03933015176635775, 0.03659414120869808, 0.043434167602847254, 0.10260039591223762, 0.017100065985372937, 0.057456221710853066, 0.022914088420399735, 0.030008416036528023, 0.006001683207305605, 0.06601851528036165, 0.01200336641461121, 0.8642423818520071, 0.006001683207305605, 0.006001683207305605, 0.007446580967585952, 0.4497734904421915, 0.022339742902757857, 0.028297007676826618, 0.010425213354620332, 0.013403845741654714, 0.1697820460609597, 0.016382478128689093, 0.0044679485805515715, 0.1280811926424784, 0.06850854490179076, 0.020850426709240664, 0.013403845741654714, 0.04765811819255009, 0.13416054768601376, 0.037732654036691377, 0.00419251711518793, 0.33540136921503444, 0.012577551345563792, 0.012577551345563792, 0.1760857188378931, 0.012577551345563792, 0.00838503423037586, 0.09223537653413447, 0.012577551345563792, 0.14254558191638964, 0.01677006846075172, 0.22990077729316133, 0.012100040910166386, 0.07260024546099832, 0.5687019227778202, 0.06050020455083193, 0.012100040910166386, 0.012100040910166386, 0.012100040910166386, 0.0626926611305659, 0.10448776855094316, 0.006965851236729544, 0.18111213215496816, 0.013931702473459089, 0.048760958657106813, 0.013931702473459089, 0.020897553710188633, 0.013931702473459089, 0.2786340494691818, 0.2507706445222636, 0.04499837414112456, 0.017999349656449823, 0.8279700841966919, 0.008999674828224911, 0.008999674828224911, 0.017999349656449823, 0.008999674828224911, 0.008999674828224911, 0.05399804896934947, 0.020988682898578234, 0.04647494070399466, 0.002998383271225462, 0.005996766542450924, 0.004497574906838193, 0.002998383271225462, 0.18889814608720412, 0.016491107991740042, 0.03448140761909282, 0.016491107991740042, 0.6251629120505089, 0.014991916356127311, 0.002998383271225462, 0.016491107991740042, 0.08790096800738714, 0.4028794367005244, 0.20510225868390333, 0.007325080667282262, 0.18312701668205655, 0.007325080667282262, 0.021975242001846786, 0.007325080667282262, 0.014650161334564524, 0.007325080667282262, 0.03662540333641131, 0.02419180511298022, 0.002199255010270929, 0.006597765030812787, 0.16494412577031967, 0.004398510020541858, 0.41785845195147653, 0.008797020041083715, 0.057180630267044154, 0.010996275051354644, 0.15614710572923596, 0.002199255010270929, 0.04178584519514765, 0.008797020041083715, 0.09016945542110809, 0.6374098471559257, 0.14393125580940258, 0.0205616079727718, 0.0411232159455436, 0.0411232159455436, 0.0822464318910872, 0.09667050733748944, 0.13126837312143305, 0.09260017018643726, 0.25337848765299864, 0.027474775769602264, 0.05393196725144148, 0.045791292949337106, 0.05291438296367843, 0.05800230440249367, 0.01628134860420875, 0.060037472978019764, 0.036633034359469685, 0.04477370866157406, 0.02950994434512836, 0.008272287046088274, 0.033089148184353094, 0.04136143523044137, 0.016544574092176547, 0.3970697782122371, 0.008272287046088274, 0.09099515750697101, 0.016544574092176547, 0.033089148184353094, 0.3474360559357075, 0.16609601388420794, 0.011073067592280529, 0.09965760833052477, 0.0055365337961402646, 0.011073067592280529, 0.038755736572981855, 0.060901871757542914, 0.188242149068769, 0.33772856156455616, 0.016609601388420794, 0.011073067592280529, 0.0055365337961402646, 0.044292270369122116, 0.0055365337961402646, 0.016684058886409763, 0.008342029443204882, 0.008342029443204882, 0.2586029127393513, 0.016684058886409763, 0.06673623554563905, 0.04171014721602441, 0.008342029443204882, 0.008342029443204882, 0.567258002137932, 0.004166876249553415, 0.01666750499821366, 0.06250314374330122, 0.045835638745087566, 0.7750389824169351, 0.004166876249553415, 0.004166876249553415, 0.00833375249910683, 0.05000251499464098, 0.004166876249553415, 0.00833375249910683, 0.004166876249553415, 0.004166876249553415, 0.012500628748660245, 0.3983211624077715, 0.04425790693419683, 0.033193430200647626, 0.033193430200647626, 0.08851581386839366, 0.011064476733549208, 0.011064476733549208, 0.06638686040129525, 0.22128953467098417, 0.04425790693419683, 0.04425790693419683, 0.007874889810166328, 0.1417480165829939, 0.0866237879118296, 0.2519964739253225, 0.007874889810166328, 0.04724933886099797, 0.015749779620332655, 0.015749779620332655, 0.015749779620332655, 0.007874889810166328, 0.007874889810166328, 0.3858696006981501, 0.007874889810166328, 0.07173842207717046, 0.07912325964393802, 0.19728066071221878, 0.2278749877745415, 0.06013367732939289, 0.018989582314545124, 0.017934605519292615, 0.06646353810090794, 0.06751851489616044, 0.049583909376867824, 0.024264466290807658, 0.03481423424333273, 0.04325404860535278, 0.04008911821959526, 0.026467738149848413, 0.5684971926551948, 0.12823805526123738, 0.03466900912585778, 0.008201270976009367, 0.01565697186329061, 0.01714811204074686, 0.00521899062109687, 0.03280508390403747, 0.059645607098249946, 0.0067101307985531185, 0.0067101307985531185, 0.07269308365099213, 0.017893682129474984, 0.2709057156451713, 0.016931607227823206, 0.5587430385181659, 0.050794821683469625, 0.016931607227823206, 0.050794821683469625, 0.016931607227823206, 0.018259252764780236, 0.1643332748830221, 0.1460740221182419, 0.12781476935346164, 0.03651850552956047, 0.09129626382390117, 0.05477775829434071, 0.05477775829434071, 0.018259252764780236, 0.05477775829434071, 0.2008517804125826, 0.07800575272887979, 0.15601150545775958, 0.09750719091109974, 0.13651006727553963, 0.07800575272887979, 0.058504314546659844, 0.15601150545775958, 0.019501438182219947, 0.21451582000441943, 0.029410843550729506, 0.2426394592935184, 0.5220424730254487, 0.11029066331523564, 0.0073527108876823765, 0.014705421775364753, 0.029410843550729506, 0.0073527108876823765, 0.03676355443841188, 0.014224510348529227, 0.018966013798038972, 0.8250216002146952, 0.009483006899019486, 0.004741503449509743, 0.009483006899019486, 0.052156537944607166, 0.009483006899019486, 0.014224510348529227, 0.037932027596077944, 0.06107303667540686, 0.044566810546918516, 0.23934027886308093, 0.3053651833770343, 0.05447054622401152, 0.02971120703127901, 0.047868055772616186, 0.03631369748267435, 0.02806058441843018, 0.042916187934069684, 0.03631369748267435, 0.03136182964412785, 0.02971120703127901, 0.013204980902790672, 0.014468551457514656, 0.014468551457514656, 0.057874205830058624, 0.12298268738887456, 0.028937102915029312, 0.014468551457514656, 0.2893710291502931, 0.021702827186271985, 0.007234275728757328, 0.4268222679966823, 0.2772521331512427, 0.008154474504448315, 0.024463423513344944, 0.008154474504448315, 0.40772372522241573, 0.04892684702668989, 0.008154474504448315, 0.1141626430622764, 0.03261789801779326, 0.008154474504448315, 0.04892684702668989, 0.009251791130229099, 0.011234317800992478, 0.004625895565114549, 0.017181897813282613, 0.13679434028267312, 0.021807793378397163, 0.009251791130229099, 0.05484990455778681, 0.03965053341526757, 0.008590948906641306, 0.20684361598297915, 0.46589376762939394, 0.012556002248168064, 0.0019825266707633785, 0.012855355911011087, 0.27381908090453616, 0.07713213546606652, 0.14012337943002084, 0.06684785073725764, 0.010284284728808869, 0.08870195578597649, 0.002571071182202217, 0.041137138915235474, 0.005142142364404434, 0.1195548099724031, 0.020568569457617737, 0.1336957014745153, 0.00899874913770776, 0.009195135749020212, 0.05517081449412127, 0.013792703623530318, 0.05976838236863138, 0.25746380097256594, 0.013792703623530318, 0.004597567874510106, 0.027585407247060635, 0.009195135749020212, 0.36780542996080845, 0.05976838236863138, 0.09195135749020211, 0.018390271498040425, 0.004597567874510106, 0.008926191906232369, 0.22761789360892537, 0.02231547976558092, 0.04016786357804566, 0.031241671671813288, 0.035704767624929475, 0.026778575718697104, 0.1651345502652988, 0.008926191906232369, 0.004463095953116184, 0.0847988231092075, 0.004463095953116184, 0.08033572715609132, 0.25885956528073867, 0.0031870045796186085, 0.0031870045796186085, 0.08286211907008383, 0.0031870045796186085, 0.01912202747771165, 0.0031870045796186085, 0.8063121586435079, 0.009561013738855826, 0.006374009159237217, 0.04461806411466052, 0.009561013738855826, 0.009561013738855826, 0.10479866977060437, 0.07859900232795328, 0.026199667442651092, 0.052399334885302185, 0.052399334885302185, 0.07859900232795328, 0.10479866977060437, 0.052399334885302185, 0.07859900232795328, 0.23579700698385983, 0.026199667442651092, 0.13099833721325546, 0.35854066105979865, 0.08484549994544853, 0.01915866127800451, 0.010947806444574005, 0.02736951611143501, 0.02463256450029151, 0.04379122577829602, 0.030106467722578512, 0.05473903222287002, 0.008210854833430503, 0.08210854833430503, 0.013684758055717505, 0.2435886933917716, 0.0027369516111435013, 0.00950237089762269, 0.34921213048763383, 0.0783945599053872, 0.021380334519651052, 0.023755927244056726, 0.023755927244056726, 0.2423104578893786, 0.08552133807860421, 0.014253556346434035, 0.06651659628335883, 0.01900474179524538, 0.023755927244056726, 0.011877963622028363, 0.030882705417273743, 0.00519735444920898, 0.01039470889841796, 0.8731555474671087, 0.031184126695253882, 0.01039470889841796, 0.00519735444920898, 0.00519735444920898, 0.02078941779683592, 0.031184126695253882, 0.12219783033665525, 0.043555662298213754, 0.23229686559047336, 0.15607445656859928, 0.03750626475679518, 0.23713638362360823, 0.007259277049702292, 0.006049397541418577, 0.04476554180649747, 0.007259277049702292, 0.009679036066269723, 0.016938313115972017, 0.041135903281646326, 0.03871614426507889, 0.031005202528306082, 0.054259104424535645, 0.054259104424535645, 0.09301560758491825, 0.35655982907552, 0.031005202528306082, 0.31005202528306086, 0.015502601264153041, 0.046507803792459126, 0.06342604766148863, 0.027182591854923697, 0.10873036741969479, 0.03624345580656493, 0.06342604766148863, 0.6251996126632451, 0.027182591854923697, 0.009060863951641232, 0.027182591854923697, 0.01783934313750697, 0.01783934313750697, 0.08919671568753486, 0.053518029412520915, 0.2497508039250976, 0.01783934313750697, 0.03567868627501394, 0.46382292157518124, 0.01783934313750697, 0.01783934313750697, 0.027545770223579805, 0.11018308089431922, 0.013772885111789902, 0.11018308089431922, 0.15150173622968893, 0.013772885111789902, 0.013772885111789902, 0.38564078313011724, 0.013772885111789902, 0.013772885111789902, 0.15150173622968893, 0.07314702266285227, 0.00812744696253914, 0.01625489392507828, 0.5039017116774267, 0.05689212873777399, 0.07314702266285227, 0.08127446962539141, 0.01625489392507828, 0.024382340887617423, 0.00812744696253914, 0.11378425747554798, 0.03250978785015656, 0.002825628475902034, 0.012715328141559155, 0.04379724137648153, 0.031081913234922376, 0.05086131256623662, 0.02401784204516729, 0.01836658509336322, 0.327772903204636, 0.012715328141559155, 0.031081913234922376, 0.016953770855412206, 0.3729829588190685, 0.035320355948775424, 0.01977939933131424, 0.06836920258749517, 0.00976702894107074, 0.06836920258749517, 0.01953405788214148, 0.08790326046963665, 0.01953405788214148, 0.08790326046963665, 0.00976702894107074, 0.01953405788214148, 0.03906811576428296, 0.5469536206999613, 0.00976702894107074, 0.02586733148315135, 0.017244887655434235, 0.008622443827717118, 0.11209176976032252, 0.008622443827717118, 0.008622443827717118, 0.008622443827717118, 0.008622443827717118, 0.7846423883222576, 0.008622443827717118, 0.63777706176548, 0.010123445424848889, 0.09111100882364, 0.006748963616565926, 0.03374481808282963, 0.07761308159050814, 0.05061722712424444, 0.016872409041414814, 0.006748963616565926, 0.03374481808282963, 0.003374481808282963, 0.013497927233131852, 0.006748963616565926, 0.013497927233131852, 0.3093368868941849, 0.033313203203989145, 0.014277087087423918, 0.061867377378836984, 0.03807223223313045, 0.02379514514570653, 0.019036116116565225, 0.32361397398160885, 0.14277087087423918, 0.02379514514570653, 0.004759029029141306, 0.12929599346628742, 0.14621322625626895, 0.24409150168401925, 0.0543768196820835, 0.07008567870135206, 0.0652521836185002, 0.05316844591137053, 0.044709829516379765, 0.016917232789981532, 0.04954332459923163, 0.019333980331407465, 0.0253758491849723, 0.0290009704971112, 0.0543768196820835, 0.04256266596245733, 0.008107174469039491, 0.780315542645051, 0.054723427666016566, 0.012160761703559236, 0.004053587234519746, 0.006080380851779618, 0.002026793617259873, 0.008107174469039491, 0.016214348938078983, 0.004053587234519746, 0.05066984043149682, 0.008107174469039491, 0.00656188030650207, 0.08530444398452691, 0.01968564091950621, 0.01312376061300414, 0.00656188030650207, 0.8333587989257629, 0.01312376061300414, 0.01312376061300414, 0.00656188030650207, 0.00656188030650207, 0.05097706703559751, 0.1968281199430015, 0.024072503877921047, 0.038232800276698134, 0.03964882991657584, 0.06372133379449689, 0.10903428227058357, 0.12177854902948294, 0.007080148199388543, 0.01840838531841021, 0.24072503877921048, 0.045312948476086676, 0.022656474238043338, 0.02124044459816563, 0.012464622664351622, 0.012464622664351622, 0.2991509439444389, 0.4113325479236035, 0.024929245328703244, 0.1745047173009227, 0.037393867993054865, 0.21102328285548982, 0.08440931314219594, 0.02813643771406531, 0.014068218857032655, 0.05627287542813062, 0.09847753199922858, 0.014068218857032655, 0.014068218857032655, 0.014068218857032655, 0.04220465657109797, 0.014068218857032655, 0.3939101279969143, 0.15798573233262142, 0.08864357832237582, 0.08256720400189038, 0.0736313594129412, 0.06219347833908626, 0.10329836344825247, 0.03967514997493434, 0.04074745132560824, 0.08363950535256429, 0.0346710770051228, 0.09865172426199889, 0.06076374320485439, 0.055402236451484885, 0.018229122961456318, 0.008598228005304347, 0.0021495570013260867, 0.008598228005304347, 0.08598228005304347, 0.008598228005304347, 0.10102917906232607, 0.004299114002652173, 0.4600051982837825, 0.027944241017239125, 0.01289734200795652, 0.021495570013260867, 0.21925481413526082, 0.040841583025195645, 0.22151002761713515, 0.023644328790593076, 0.11199945216596721, 0.02239989043319344, 0.01119994521659672, 0.08835512337537413, 0.03111095893499089, 0.34968717842929764, 0.03235539729239053, 0.055999726082983606, 0.013688821931395992, 0.024888767147992714, 0.004977753429598543, 0.007466630144397814, 0.1973855844602576, 0.0986927922301288, 0.01644879870502147, 0.01644879870502147, 0.14803918834519322, 0.03289759741004294, 0.01644879870502147, 0.4770151624456226, 0.4640854247444447, 0.019124399371337007, 0.15172023501260692, 0.03952375870076315, 0.02422423920369354, 0.04717351844929795, 0.008924719706623936, 0.08159743731770455, 0.025499199161782674, 0.011474639622802204, 0.03697383878458488, 0.03059903899413921, 0.02677415911987181, 0.03059903899413921, 0.2381490867848239, 0.18665739234486198, 0.10941985068491909, 0.012872923609990481, 0.0321823090249762, 0.025745847219980963, 0.006436461804995241, 0.07723754165994288, 0.025745847219980963, 0.2574584721998096, 0.01930938541498572, 0.546037905131259, 0.019501353754687825, 0.008531842267675923, 0.015235432620849863, 0.007922424962841929, 0.020720188364355813, 0.14991665698916265, 0.012797763401513885, 0.004875338438671956, 0.05667580934956149, 0.03473678637553769, 0.017063684535351845, 0.027423778717529754, 0.0780054150187513, 0.04930644588496145, 0.7776687540843287, 0.009986115622270673, 0.009986115622270673, 0.024341156829284765, 0.02122049569732518, 0.014355041207014092, 0.0037447933583515023, 0.00624132226391917, 0.03245487577237969, 0.01497917343340601, 0.022468760150109013, 0.007489586716703005, 0.00624132226391917, 0.008516673227751077, 0.09368340550526186, 0.11071675196076401, 0.17033346455502155, 0.37473362202104743, 0.06813338582200862, 0.03406669291100431, 0.017033346455502155, 0.008516673227751077, 0.11071675196076401, 0.04184484155060334, 0.010461210387650835, 0.04184484155060334, 0.43937083628133505, 0.04184484155060334, 0.10461210387650835, 0.2092242077530167, 0.09415089348885751, 0.010461210387650835, 0.010461210387650835, 0.12761214724554826, 0.16407276074427632, 0.12761214724554826, 0.018230306749364034, 0.054690920248092106, 0.054690920248092106, 0.018230306749364034, 0.07292122699745614, 0.3099152147391886, 0.018230306749364034, 0.054690920248092106, 0.06371196868797264, 0.025188452737105464, 0.0563036002358828, 0.06667531606880858, 0.04000518964128515, 0.04741355809337499, 0.010371715832925779, 0.05482192654546483, 0.0014816736904179684, 0.3896801805799257, 0.011853389523343747, 0.18372753761182808, 0.03407849487961327, 0.01629841059459765, 0.03717405961319603, 0.002534594973627002, 0.008448649912090008, 0.5102984546902365, 0.005914054938463005, 0.17066272822421816, 0.008448649912090008, 0.005914054938463005, 0.14954110344399313, 0.03126000467473303, 0.025345949736270024, 0.009293514903299008, 0.009293514903299008, 0.027880544709897027, 0.12051352625446858, 0.14337775257942706, 0.11289211747948243, 0.08812253896077742, 0.060971270199889245, 0.05477887557021299, 0.06478197458738232, 0.05573155166708626, 0.044299438504607026, 0.059542256054579336, 0.04001239606867731, 0.05001549508584664, 0.036201691681184235, 0.06906901702331203, 0.013116686916216971, 0.8329096191797777, 0.0065583434581084855, 0.0065583434581084855, 0.013116686916216971, 0.03279171729054243, 0.01967503037432546, 0.03935006074865092, 0.0065583434581084855, 0.013116686916216971, 0.0065583434581084855, 0.0065583434581084855, 0.05773167780560873, 0.07697557040747831, 0.019243892601869577, 0.019243892601869577, 0.15395114081495662, 0.038487785203739154, 0.05773167780560873, 0.11546335561121746, 0.4426095298430003, 0.019243892601869577, 0.020470185801450887, 0.07895643094845342, 0.005848624514700254, 0.011697249029400508, 0.002924312257350127, 0.00877293677205038, 0.25733947864681117, 0.06725918191905292, 0.002924312257350127, 0.4678899611760203, 0.04678899611760203, 0.020470185801450887, 0.00877293677205038, 0.026173184480878107, 0.04580307284153669, 0.18321229136614675, 0.13740921852461008, 0.09814944180329291, 0.006543296120219527, 0.006543296120219527, 0.006543296120219527, 0.032716480601097636, 0.013086592240439053, 0.01962988836065858, 0.03925977672131716, 0.37951117497273257, 0.04954966269844555, 0.14451984953713284, 0.07845363260587213, 0.03509767774473226, 0.016516554232815183, 0.4067201479830739, 0.024774831349222776, 0.06606621693126073, 0.022710262070120876, 0.026839400628324673, 0.02890396990742657, 0.026839400628324673, 0.05574337053575124, 0.018581123511917083, 0.004470779006537881, 0.011176947516344703, 0.017883116026151523, 0.22353895032689405, 0.008941558013075761, 0.5722597128368487, 0.0022353895032689404, 0.03353084254903411, 0.04694317956864775, 0.03353084254903411, 0.004470779006537881, 0.008941558013075761, 0.011176947516344703, 0.024589284535958347, 0.012986079276799102, 0.012986079276799102, 0.012986079276799102, 0.012986079276799102, 0.48048493324156677, 0.012986079276799102, 0.23374942698238385, 0.20777726842878563, 0.012986079276799102, 0.1813557488303784, 0.0925284432808053, 0.19369287460115242, 0.03577766473524471, 0.007402275462464423, 0.011103413193696635, 0.20356257521777166, 0.008635988039541827, 0.02220682638739327, 0.033310239581089904, 0.02837538927278029, 0.01850568865616106, 0.11843640739943077, 0.04564736535186394, 0.006465674179721835, 0.7241555081288455, 0.032328370898609175, 0.02586269671888734, 0.02586269671888734, 0.006465674179721835, 0.08405376433638385, 0.032328370898609175, 0.006465674179721835, 0.01293134835944367, 0.04525971925805285, 0.016022933508381354, 0.04806880052514407, 0.3044357366592458, 0.016022933508381354, 0.04806880052514407, 0.04806880052514407, 0.4806880052514407, 0.03204586701676271, 0.10360196329769847, 0.014800280471099781, 0.029600560942199563, 0.029600560942199563, 0.6216117797861908, 0.08880168282659869, 0.014800280471099781, 0.059201121884399126, 0.014800280471099781, 0.005656572187456036, 0.11878801593657676, 0.02828286093728018, 0.4016166253093786, 0.005656572187456036, 0.16404059343622504, 0.039596005312192255, 0.011313144374912073, 0.011313144374912073, 0.10181829937420865, 0.04525257749964829, 0.005656572187456036, 0.03393943312473622, 0.02828286093728018, 0.6266230839019581, 0.021909898038530003, 0.06572969411559, 0.017527918430824, 0.017527918430824, 0.013145938823118, 0.030673857253942, 0.004381979607706, 0.056965734900178006, 0.013145938823118, 0.013145938823118, 0.008763959215412, 0.056965734900178006, 0.056965734900178006, 0.007464833276130407, 0.014929666552260815, 0.6867646614039974, 0.03732416638065204, 0.014929666552260815, 0.20155049845552098, 0.007464833276130407, 0.014929666552260815, 0.006863693279107085, 0.12354647902392753, 0.006863693279107085, 0.10981909246571336, 0.01372738655821417, 0.020591079837321256, 0.5285043824912455, 0.006863693279107085, 0.061773239511963764, 0.03431846639553542, 0.01372738655821417, 0.006863693279107085, 0.061773239511963764, 0.0020255072233577223, 0.05367594141897964, 0.03544637640876014, 0.007089275281752029, 0.01721681139854064, 0.010127536116788611, 0.16912985315036982, 0.23900985235621125, 0.24407362041460554, 0.010127536116788611, 0.12963246229489422, 0.0627907239240894, 0.019242318621898364, 0.0010127536116788611, 0.020477289289791974, 0.020477289289791974, 0.6347959679835512, 0.04095457857958395, 0.020477289289791974, 0.26620476076729566, 0.020477289289791974, 0.334188607776941, 0.05234279398915943, 0.03221095014717503, 0.026171396994579713, 0.012079106305190638, 0.03422413453137347, 0.0664350846785485, 0.036237318915571914, 0.030197765762976593, 0.008052737536793758, 0.018118659457785957, 0.030197765762976593, 0.29795128886136907, 0.024158212610381275, 0.009530093799215138, 0.07147570349411354, 0.03335532829725299, 0.009530093799215138, 0.011912617249018924, 0.004765046899607569, 0.24778243877959363, 0.12150869593999303, 0.08338832074313247, 0.009530093799215138, 0.2835202905266504, 0.04050289864666434, 0.07385822694391733, 0.0023825234498037846, 0.052696293877368114, 0.03952222040802609, 0.035130862584912076, 0.026348146938684057, 0.052696293877368114, 0.05708765170048213, 0.6016160217666193, 0.03073950476179807, 0.017565431292456038, 0.03073950476179807, 0.008782715646228019, 0.0043913578231140095, 0.03073950476179807, 0.008782715646228019, 0.07788636791560745, 0.0356588190456998, 0.10040772731289153, 0.2167680841988593, 0.07037924811651276, 0.06568729824207857, 0.06474890826719173, 0.054426618543436535, 0.056303398493210206, 0.03753559899547347, 0.07976314786538113, 0.029090089221491942, 0.09008543758913633, 0.022521359397284082, 0.007482534208798565, 0.14840359514117155, 0.0922845885751823, 0.14590941707157204, 0.017459246487196652, 0.012470890347997608, 0.07108407498358638, 0.05362482849638972, 0.04115393814839211, 0.031177225869994024, 0.18581626618516436, 0.016212157452396892, 0.1696041087327675, 0.006235445173998804, 0.02290243739075185, 0.06870731217225554, 0.011451218695375924, 0.011451218695375924, 0.10306096825838332, 0.6069145908549239, 0.03435365608612777, 0.12596340564913516, 0.011451218695375924, 0.02605176016607399, 0.004597369441071881, 0.027584216646431285, 0.4949834431554058, 0.04290878145000422, 0.29576410070895764, 0.0061298259214291745, 0.010727195362501055, 0.0015324564803572936, 0.012259651842858349, 0.01685702128393023, 0.0061298259214291745, 0.041376324969646924, 0.012259651842858349, 0.04042217852942124, 0.0440969220320959, 0.003674743502674658, 0.007349487005349316, 0.029397948021397263, 0.011024230508023975, 0.08084435705884248, 0.0440969220320959, 0.6541043434760891, 0.003674743502674658, 0.058795896042794525, 0.014698974010698631, 0.007349487005349316, 0.31306180195530825, 0.019956130801932, 0.057373876055554496, 0.034923228903380996, 0.038665003428743246, 0.046148552479467746, 0.079824523207728, 0.0324287125531395, 0.12347855933695424, 0.1322093665627995, 0.042406777954105496, 0.021203388977052748, 0.039912261603864, 0.01621435627656975, 0.02119535300173708, 0.46629776603821577, 0.01059767650086854, 0.02119535300173708, 0.06358605900521125, 0.031793029502605624, 0.01059767650086854, 0.04239070600347416, 0.3073326185251877, 0.02119535300173708, 0.08560295358123741, 0.21400738395309354, 0.10700369197654677, 0.021400738395309354, 0.04280147679061871, 0.021400738395309354, 0.08560295358123741, 0.04280147679061871, 0.10700369197654677, 0.299610337534331, 0.028599492319722825, 0.034319390783667386, 0.01143979692788913, 0.07435868003127935, 0.005719898463944565, 0.25167553241356083, 0.07435868003127935, 0.005719898463944565, 0.3775132986203413, 0.005719898463944565, 0.01143979692788913, 0.02287959385577826, 0.09723827388705761, 0.1945546538076787, 0.028372553680286478, 0.012159665862979918, 0.4904398564735234, 0.008106443908653279, 0.052691885406246315, 0.052691885406246315, 0.024319331725959837, 0.008106443908653279, 0.032425775634613116, 0.008106443908653279, 0.024319331725959837, 0.06485155126922623, 0.029652149238540364, 0.0124851154688591, 0.0015606394336073876, 0.0249702309377182, 0.03277342810575514, 0.05618301960986596, 0.0124851154688591, 0.3885992189682395, 0.003121278867214775, 0.10768412091890975, 0.0374553464065773, 0.20912568410338994, 0.08427452941479893, 0.0015606394336073876, 0.06031940349216143, 0.4021293566144095, 0.010053233915360239, 0.020106467830720478, 0.010053233915360239, 0.4021293566144095, 0.07037263740752167, 0.010053233915360239, 0.798877737761841, 0.01836500546578945, 0.009182502732894724, 0.009182502732894724, 0.04591251366447362, 0.009182502732894724, 0.04591251366447362, 0.009182502732894724, 0.02754750819868417, 0.009182502732894724, 0.009182502732894724, 0.049475033408996984, 0.017208707272694603, 0.10755442045434126, 0.21080666409050888, 0.13336748136338317, 0.025813060909041903, 0.010755442045434126, 0.16778489590877238, 0.012906530454520952, 0.006453265227260476, 0.17854033795420649, 0.012906530454520952, 0.03871959136356286, 0.02796414931812873, 0.17251842537929354, 0.029574587207878894, 0.009858195735959632, 0.019716391471919264, 0.029574587207878894, 0.014787293603939447, 0.32532045928666786, 0.05914917441575779, 0.07393646801969724, 0.014787293603939447, 0.10351105522757613, 0.06900737015171743, 0.06900737015171743, 0.004929097867979816, 0.006466306981639457, 0.03233153490819728, 0.006466306981639457, 0.006466306981639457, 0.051730455853115656, 0.7888894517600138, 0.07112937679803402, 0.012932613963278914, 0.006466306981639457, 0.006466306981639457, 0.006466306981639457, 0.006466306981639457, 0.0038732015438014615, 0.007746403087602923, 0.030985612350411692, 0.0038732015438014615, 0.007746403087602923, 0.011619604631404384, 0.0697176277884263, 0.6700638670776529, 0.100703240138838, 0.030985612350411692, 0.030985612350411692, 0.019366007719007306, 0.007746403087602923, 0.12982278999592553, 0.08868176499721674, 0.09325298999707327, 0.06673988499790537, 0.09690996999695849, 0.05394045499830708, 0.04662649499853663, 0.09051025499715934, 0.07222535499773321, 0.023770369999253967, 0.06582563999793407, 0.023770369999253967, 0.08593902999730281, 0.05942592499813492, 0.07608428718174998, 0.021134524217152773, 0.021134524217152773, 0.3550600068481666, 0.0929919065554722, 0.23670667123211106, 0.004226904843430555, 0.004226904843430555, 0.004226904843430555, 0.004226904843430555, 0.0929919065554722, 0.03804214359087499, 0.03381523874744444, 0.021134524217152773, 0.009357382607770118, 0.06550167825439082, 0.0810973159340077, 0.02183389275146361, 0.04366778550292722, 0.04678691303885059, 0.12164597390101153, 0.35246141155934113, 0.018714765215540236, 0.01247651014369349, 0.159075504332092, 0.04054865796700385, 0.018714765215540236, 0.0031191275359233727, 0.41146162973441597, 0.1515911267442585, 0.08662350099671916, 0.02165587524917979, 0.1227166264120188, 0.00721862508305993, 0.17324700199343832, 0.01443725016611986, 0.00721862508305993, 0.00721862508305993, 0.030636158017254847, 0.43656525174588157, 0.1455217505819605, 0.1378627110776468, 0.007659039504313712, 0.0689313555388234, 0.015318079008627423, 0.09956751355607825, 0.022977118512941135, 0.007659039504313712, 0.015318079008627423, 0.007659039504313712, 0.009894664507728168, 0.023087550518032393, 0.029683993523184505, 0.1064854370831698, 0.006125268504784104, 0.1116683565872179, 0.11732245059163399, 0.03580926202796861, 0.3397168147653338, 0.09517724907433761, 0.020731678016192353, 0.08292671206476941, 0.015548758512144264, 0.006125268504784104, 0.005642846100428723, 0.0021160672876607708, 0.027508874739590024, 0.013401759488518216, 0.0021160672876607708, 0.0028214230502143613, 0.8626500976030409, 0.011285692200857445, 0.03949992270300106, 0.016928538301286166, 0.007758913388089494, 0.0007053557625535903, 0.0035267788127679514, 0.0028214230502143613, 0.21754716921915307, 0.04972506725009213, 0.012431266812523033, 0.385369271188214, 0.031078167031307582, 0.21754716921915307, 0.04350943384383062, 0.012431266812523033, 0.0062156334062615165, 0.012431266812523033, 0.0062156334062615165, 0.0015902488222328264, 0.0015902488222328264, 0.03975622055582066, 0.0047707464666984795, 0.007951244111164133, 0.0031804976444656527, 0.0031804976444656527, 0.20355184924580177, 0.5613578342481877, 0.1319906522453246, 0.023853732333492396, 0.009541492933396959, 0.0015902488222328264, 0.0047707464666984795, 0.09109253007617435, 0.2111690469947678, 0.0786708214294233, 0.09937366917400837, 0.08591681814002808, 0.06003825845929673, 0.02587855968073135, 0.03726512594025314, 0.06314368562098449, 0.06831939755713076, 0.03726512594025314, 0.05382740413592121, 0.05279226174869195, 0.03519484116579463, 0.01638686176394461, 0.8848905352530091, 0.049160585291833835, 0.01638686176394461, 0.09090737929371244, 0.0056817112058570275, 0.02272684482342811, 0.0056817112058570275, 0.01704513361757108, 0.6874870559087003, 0.02272684482342811, 0.0056817112058570275, 0.13067935773471162, 0.06990115529964289, 0.052425866474732165, 0.5417339535722324, 0.10485173294946433, 0.03495057764982144, 0.1572775994241965, 0.021135901440809964, 0.3170385216121494, 0.13738335936526475, 0.052839753602024905, 0.010567950720404982, 0.08454360576323985, 0.010567950720404982, 0.010567950720404982, 0.23249491584890958, 0.021135901440809964, 0.052839753602024905, 0.07397565504283486, 0.024750430064755396, 0.008839439308841212, 0.0053036635853047276, 0.02121465434121891, 0.06894762660896146, 0.02651831792652364, 0.11137693529139928, 0.3182198151182837, 0.20153921624157967, 0.030054093650060124, 0.033589869373596606, 0.12728792604731345, 0.00707155144707297, 0.015910990755914182, 0.07994625900657434, 0.02144899631883702, 0.36658284617648723, 0.04679781015018986, 0.0721466239815427, 0.11504461661921675, 0.02339890507509493, 0.03314844885638449, 0.02144899631883702, 0.005849726268773733, 0.015599270050063287, 0.03314844885638449, 0.1442932479630854, 0.01949908756257911, 0.005943670166832376, 0.035662021000994255, 0.9272125460258507, 0.005943670166832376, 0.005943670166832376, 0.005943670166832376, 0.005943670166832376, 0.14454047599402256, 0.04662595999807179, 0.44760921598148923, 0.018650383999228717, 0.03263817199865025, 0.027975575998843077, 0.19116643599209435, 0.009325191999614358, 0.009325191999614358, 0.060613747997493334, 0.009325191999614358, 0.12798189052322084, 0.09380490839486073, 0.05599207710390912, 0.12507321119314765, 0.07562566258190323, 0.08507887040464113, 0.08507887040464113, 0.045084529616134614, 0.03490415196087841, 0.046538869281171215, 0.05235622794131762, 0.06544528492664702, 0.05890075643398232, 0.04872037877872611, 0.11126500511081991, 0.18884427472937323, 0.08778706825257351, 0.08013121927705838, 0.08268316893556342, 0.0408311945360807, 0.042872754262884734, 0.0637987414626261, 0.048487043511595836, 0.051549383101801884, 0.051038993170100876, 0.05767406228221399, 0.042362364331183726, 0.051038993170100876, 0.055471002315258054, 0.07396133642034407, 0.21777504612656864, 0.3656977189672568, 0.06985237328588051, 0.04725307604633094, 0.010272407836158898, 0.06368892858418518, 0.0061634447016953395, 0.032871705075708475, 0.018490334105086017, 0.012326889403390679, 0.010272407836158898, 0.014381370970622458, 0.42466194373225696, 0.17041450169190894, 0.03160914144285408, 0.030234830945338683, 0.06321828288570816, 0.04122931492546184, 0.037106383432915654, 0.04122931492546184, 0.03985500442794645, 0.016491725970184737, 0.01786603646770013, 0.027486209950307896, 0.042603625422977236, 0.015117415472669342, 0.062473626626026686, 0.004164908441735112, 0.2415646896206365, 0.07080344350949691, 0.09579289415990759, 0.3248628584553388, 0.008329816883470224, 0.01665963376694045, 0.008329816883470224, 0.012494725325205338, 0.004164908441735112, 0.05830871818429158, 0.07080344350949691, 0.02082454220867556, 0.0034653321966117917, 0.0069306643932235835, 0.0034653321966117917, 0.0034653321966117917, 0.0017326660983058959, 0.07623730832545941, 0.07623730832545941, 0.005197998294917688, 0.015593994884753062, 0.6601457834545463, 0.11262329638988323, 0.012128662688141272, 0.005197998294917688, 0.015593994884753062, 0.007549385253184947, 0.0030197541012739787, 0.0030197541012739787, 0.39105815611498024, 0.006039508202547957, 0.16382165999411336, 0.01736358608232538, 0.005284569677229463, 0.17439079934857227, 0.15249758211433592, 0.006039508202547957, 0.011324077879777421, 0.01736358608232538, 0.0430314959431542, 0.050888380241385776, 0.02035535209655431, 0.33586330959314614, 0.4783507742690263, 0.010177676048277155, 0.010177676048277155, 0.04071070419310862, 0.030533028144831467, 0.02035535209655431, 0.009086931272453079, 0.054521587634718476, 0.009086931272453079, 0.4906942887124663, 0.15447783163170234, 0.2180863505388739, 0.009086931272453079, 0.009086931272453079, 0.054521587634718476, 0.03445925227465055, 0.13291425877365212, 0.04430475292455071, 0.017229626137325274, 0.09107088101157645, 0.004922750324950078, 0.022152376462275355, 0.30521052014690486, 0.10091638166147661, 0.02953650194970047, 0.15998938556087755, 0.019691001299800313, 0.009845500649900156, 0.027075126787225432, 0.07883329806515149, 0.02223503278760683, 0.06468373174576532, 0.3112904590264956, 0.046491432192268825, 0.07276919821398599, 0.004042733234110332, 0.002021366617055166, 0.14351702981091682, 0.11521789717214448, 0.03234186587288266, 0.05053416542637916, 0.04851279880932399, 0.008085466468220665, 0.026884172055232535, 0.013442086027616268, 0.12769981726235455, 0.006721043013808134, 0.0201631290414244, 0.1613050323313952, 0.1411419032899708, 0.06721043013808134, 0.0201631290414244, 0.11425773123473827, 0.006721043013808134, 0.2822838065799416, 0.04196987600496802, 0.8897613713053221, 0.008393975200993605, 0.025181925602980812, 0.01678795040198721, 0.008393975200993605, 0.008393975200993605, 0.15966230272142548, 0.014514754792856861, 0.725737739642843, 0.014514754792856861, 0.029029509585713723, 0.014514754792856861, 0.01538699292327487, 0.007693496461637435, 0.10770895046292409, 0.03077398584654974, 0.5077707664680707, 0.023080489384912306, 0.09232195753964922, 0.10770895046292409, 0.007693496461637435, 0.01538699292327487, 0.05385447523146204, 0.038467482308187174, 0.012574444148820698, 0.016167142477055182, 0.1975984080528967, 0.09341015653409661, 0.0071853966564689705, 0.20119110638113116, 0.03951968161057934, 0.22454364551465533, 0.03413063411822761, 0.09161380736997937, 0.0071853966564689705, 0.017963491641172426, 0.037723332446462095, 0.01975984080528967, 0.006817978345552788, 0.08317933581574402, 0.16363148029326693, 0.09136090983040737, 0.07022517695919372, 0.040907870073316734, 0.02522651987854532, 0.037498880900540335, 0.06954337912463844, 0.019772137202103086, 0.03272629605865338, 0.012954158856550298, 0.29385486669332517, 0.05318023109531175, 0.013470827878543009, 0.06061872545344354, 0.7947788448340375, 0.06061872545344354, 0.006735413939271504, 0.006735413939271504, 0.006735413939271504, 0.04041248363562903, 0.045140983956472494, 0.17663863287315323, 0.33561340245899113, 0.22374226830599409, 0.017663863287315323, 0.03729037805099902, 0.06280484724378782, 0.013738560334578586, 0.003925302952736739, 0.015701211810946955, 0.02747712066915717, 0.015701211810946955, 0.011775908858210216, 0.009813257381841847, 0.6881018047067987, 0.009122561804824984, 0.005212892459899991, 0.02736768541447495, 0.023458016069549958, 0.011729008034774979, 0.13944487330232475, 0.006516115574874988, 0.03258057787437494, 0.003909669344924993, 0.014335454264724974, 0.014335454264724974, 0.015638677379699973, 0.009122561804824984, 0.017120565532003713, 0.5050566831941095, 0.017120565532003713, 0.1540850897880334, 0.008560282766001856, 0.06848226212801485, 0.025680848298005567, 0.008560282766001856, 0.034241131064007425, 0.017120565532003713, 0.034241131064007425, 0.0770425448940167, 0.025680848298005567, 0.037900411960587695, 0.007580082392117539, 0.022740247176352615, 0.3714240372137594, 0.05306057674482277, 0.015160164784235078, 0.015160164784235078, 0.44722486113493476, 0.015160164784235078, 0.007580082392117539, 0.007580082392117539, 0.675077147688887, 0.006429306168465591, 0.04500514317925914, 0.10929820486391506, 0.019287918505396774, 0.012858612336931183, 0.006429306168465591, 0.05143444934772473, 0.006429306168465591, 0.012858612336931183, 0.05143444934772473, 0.006429306168465591, 0.3455725206583574, 0.026680231374358477, 0.07749971970646986, 0.031762180207569615, 0.011434384874725062, 0.09909800224761721, 0.015245846499633417, 0.13848310570500352, 0.04827851391550582, 0.027950718582661262, 0.008893410458119493, 0.0914750789978005, 0.01905730812454177, 0.058442411581928096, 0.07324235394360173, 0.011268054452861805, 0.0056340272264309025, 0.7155214577567246, 0.0056340272264309025, 0.02253610890572361, 0.011268054452861805, 0.09014443562289444, 0.02817013613215451, 0.0056340272264309025, 0.0056340272264309025, 0.016902081679292708, 0.007622335102272997, 0.009527918877841247, 0.0050815567348486655, 0.6059756406307033, 0.014609475612689913, 0.21977732878220477, 0.0019055837755682494, 0.01842064316382641, 0.010163113469697331, 0.03938206469507716, 0.006987140510416915, 0.0050815567348486655, 0.03811167551136499, 0.017785448571970328, 0.0027844943813578917, 0.025060449432221025, 0.0027844943813578917, 0.01670696628814735, 0.6487871908563888, 0.08631932582209464, 0.030629438194936808, 0.027844943813578917, 0.025060449432221025, 0.0027844943813578917, 0.036198426957652595, 0.04733640448308416, 0.027844943813578917, 0.01949146066950524, 0.7052990178244021, 0.011625807986116517, 0.042627962615760566, 0.011625807986116517, 0.1278838878472817, 0.0038752693287055057, 0.0077505386574110114, 0.011625807986116517, 0.011625807986116517, 0.0038752693287055057, 0.023251615972233033, 0.015501077314822023, 0.01937634664352753, 0.0038752693287055057, 0.01878911192540649, 0.01878911192540649, 0.009394555962703246, 0.01878911192540649, 0.028183667888109734, 0.028183667888109734, 0.15031289540325193, 0.009394555962703246, 0.21607478714217465, 0.028183667888109734, 0.046972779813516226, 0.4321495742843493, 0.013199193121022166, 0.21118708993635465, 0.05543661110829309, 0.03431790211465763, 0.17422934919749258, 0.0158390317452266, 0.16103015607647042, 0.002639838624204433, 0.005279677248408866, 0.0237585476178399, 0.2402253148026034, 0.029038224866248765, 0.026398386242044332, 0.013199193121022166, 0.10837428063432858, 0.026814255002308104, 0.005586303125480855, 0.04915946750423152, 0.017876170001538735, 0.015641648751346392, 0.015641648751346392, 0.003910412187836598, 0.015641648751346392, 0.6329281441169808, 0.02457973375211576, 0.00614493343802894, 0.07485646188144346, 0.002234521250192342, 0.1730163065155505, 0.06106457877019429, 0.14248401713045336, 0.030532289385097146, 0.04070971918012953, 0.010177429795032382, 0.47833920036652194, 0.020354859590064764, 0.010177429795032382, 0.030532289385097146, 0.06235786234024899, 0.027210703566654105, 0.021541806990267833, 0.006802675891663526, 0.5011304573525464, 0.16213044208464736, 0.009070234522218034, 0.04875251055692194, 0.0022675586305545086, 0.004535117261109017, 0.044217393295812916, 0.02380936562082234, 0.02834448288193136, 0.05668896576386272, 0.38700205322122216, 0.007166704689281891, 0.4085021672890678, 0.014333409378563783, 0.014333409378563783, 0.007166704689281891, 0.10750057033922837, 0.014333409378563783, 0.007166704689281891, 0.028666818757127566, 0.1212567969768104, 0.0942441441849467, 0.08163823954874364, 0.061828960834710255, 0.10444892412853965, 0.07503514664406584, 0.05642643027633751, 0.06423008552732036, 0.0450210879864395, 0.06603092904677794, 0.061828960834710255, 0.03541658921599908, 0.0516241808911173, 0.08043767720243858, 0.007644364796344721, 0.008599910395887811, 0.27519713266840995, 0.007644364796344721, 0.00477772799771545, 0.005733273597258541, 0.00477772799771545, 0.4835060733688036, 0.1433318399314635, 0.014333183993146351, 0.030577459185378884, 0.0019110911990861802, 0.0038221823981723605, 0.007644364796344721, 0.02422581568420837, 0.008075271894736122, 0.008075271894736122, 0.04845163136841674, 0.03230108757894449, 0.016150543789472244, 0.008075271894736122, 0.09690326273683347, 0.03230108757894449, 0.03230108757894449, 0.008075271894736122, 0.08075271894736123, 0.6137206639999454, 0.091566999542832, 0.05519692963095948, 0.1754321019278557, 0.07017284077114228, 0.07402378935004643, 0.05990364456073121, 0.01882685971908695, 0.0607594109115988, 0.08044203698155335, 0.11510057419169069, 0.043644083894247024, 0.05562481280639327, 0.014548027964749008, 0.08429298556045749, 0.01988721704040342, 0.00994360852020171, 0.00994360852020171, 0.00994360852020171, 0.855150332737347, 0.01988721704040342, 0.049718042601008546, 0.01988721704040342, 0.09841500167886895, 0.1640250027981149, 0.01640250027981149, 0.01640250027981149, 0.03280500055962298, 0.3608550061558528, 0.01640250027981149, 0.26244000447698385, 0.028062414797505937, 0.028062414797505937, 0.15434328138628267, 0.014031207398752969, 0.6314043329438837, 0.056124829595011874, 0.04209362219625891, 0.028062414797505937, 0.009303887022370278, 0.004651943511185139, 0.018607774044740556, 0.004651943511185139, 0.06512720915659194, 0.30702827173821917, 0.44193463356258816, 0.041867491600666246, 0.03721554808948111, 0.02791166106711083, 0.02791166106711083, 0.013955830533555416, 0.4809915919824568, 0.008627651874124787, 0.03666752046503034, 0.028039868590905553, 0.03019678155943675, 0.05392282421327991, 0.04745208530768632, 0.028039868590905553, 0.021569129685311963, 0.14019934295452777, 0.015098390779718375, 0.025882955622374356, 0.034510607496499146, 0.049608998276217516, 0.08121537904737978, 0.018742010549395335, 0.006247336849798445, 0.01249467369959689, 0.018742010549395335, 0.7371857482762165, 0.006247336849798445, 0.01249467369959689, 0.006247336849798445, 0.018742010549395335, 0.07496804219758134, 0.03794156065208143, 0.15176624260832572, 0.132795462282285, 0.45529872782497716, 0.056912340978122145, 0.132795462282285, 0.0022403828588022268, 0.0044807657176044536, 0.0044807657176044536, 0.5399322689713367, 0.006721148576406681, 0.07393263434047348, 0.1501056515397492, 0.20387484015100266, 0.0022403828588022268, 0.0022403828588022268, 0.006721148576406681, 0.12108187989413442, 0.09686550391530754, 0.1695146318517882, 0.09686550391530754, 0.07264912793648065, 0.024216375978826886, 0.04843275195765377, 0.12108187989413442, 0.26638013576709574, 0.03781732794641693, 0.4019441713162028, 0.19665010532136804, 0.09832505266068402, 0.011345198383925078, 0.035116090235958575, 0.016207426262750114, 0.015667178720658443, 0.035656337778050246, 0.016207426262750114, 0.02701237710458352, 0.045921041077791984, 0.0437600509094253, 0.018908663973208464, 0.028097171895368367, 0.11238868758147347, 0.014048585947684183, 0.04214575784305255, 0.7726722271226301, 0.028097171895368367, 0.09021580053056291, 0.05638487533160182, 0.011276975066320364, 0.7217264042445033, 0.06766185039792219, 0.045107900265281456, 0.11573442529992134, 0.01653348932856019, 0.08266744664280096, 0.23146885059984268, 0.01653348932856019, 0.049600467985680574, 0.1984018719427223, 0.03306697865712038, 0.26453582925696306, 0.09440741033227035, 0.021531514637184463, 0.0033125407134129946, 0.10103249175909633, 0.008281351783532486, 0.004968811070119492, 0.014906433210358476, 0.0016562703567064973, 0.004968811070119492, 0.6989460905301418, 0.009937622140238984, 0.0033125407134129946, 0.03146913677742345, 0.0016562703567064973, 0.021801177638607352, 0.010900588819303676, 0.806643572628472, 0.010900588819303676, 0.010900588819303676, 0.010900588819303676, 0.05450294409651838, 0.05450294409651838, 0.005230368961310746, 0.005230368961310746, 0.007845553441966118, 0.08368590338097194, 0.013075922403276865, 0.049688505132452085, 0.5518039254182837, 0.10983774818752566, 0.005230368961310746, 0.07060998097769507, 0.023536660325898358, 0.07060998097769507, 0.005230368961310746, 0.11339040422046706, 0.1325957395060682, 0.11075953637312444, 0.09313272179592887, 0.04498784018955886, 0.06050996048888034, 0.07445356007979624, 0.07340121294085919, 0.03183350095284574, 0.09129111430278904, 0.03393819523071984, 0.028676459536034593, 0.04814488160637001, 0.06314082833622296, 0.032872867471066235, 0.03540154958422517, 0.018712247637376164, 0.05461953364423313, 0.14868650825374574, 0.060182634293182796, 0.018712247637376164, 0.3393491395859299, 0.09710139314530333, 0.02832123966738014, 0.09204402891898546, 0.04804496015001988, 0.008091782762108611, 0.0171950383694808, 0.023891033284134548, 0.011945516642067274, 0.011945516642067274, 0.023891033284134548, 0.7047854818819692, 0.011945516642067274, 0.035836549926201826, 0.15529171634687455, 0.023891033284134548, 0.011945516642067274, 0.008673122166559423, 0.19080868766430728, 0.017346244333118845, 0.008673122166559423, 0.03469248866623769, 0.017346244333118845, 0.1561161989980696, 0.008673122166559423, 0.5464066964932436, 0.008673122166559423, 0.008673122166559423, 0.017346244333118845, 0.011685549853603702, 0.2600034842426823, 0.005842774926801851, 0.005842774926801851, 0.005842774926801851, 0.023371099707207403, 0.014606937317004626, 0.014606937317004626, 0.005842774926801851, 0.005842774926801851, 0.5813561052167842, 0.005842774926801851, 0.0029213874634009254, 0.05550636180461758, 0.018143537683887444, 0.16034964385489714, 0.2922580664755923, 0.16034964385489714, 0.030893050650943485, 0.00686512236687633, 0.00735548825022464, 0.012749512967056042, 0.023537562400718845, 0.04021000243456136, 0.09807317666966187, 0.006374756483528021, 0.10689976256993143, 0.03579670948442658, 0.04338616834907377, 0.03584074776662616, 0.5545884128098996, 0.049045233785909484, 0.0056590654368357095, 0.0018863551456119031, 0.013204486019283323, 0.024522616892954742, 0.022636261747342838, 0.03772710291223806, 0.0603633646595809, 0.11695401902793799, 0.022636261747342838, 0.009431775728059515, 0.06558085368349029, 0.2716921081173169, 0.04684346691677878, 0.0843182404502018, 0.037474773533423024, 0.037474773533423024, 0.009368693383355756, 0.2997981882673842, 0.13116170736698057, 0.012168896031069423, 0.008112597354046283, 0.7585278526033273, 0.09329486957153224, 0.012168896031069423, 0.004056298677023141, 0.016225194708092566, 0.012168896031069423, 0.004056298677023141, 0.004056298677023141, 0.0689570775093934, 0.06378034305442276, 0.03826820583265366, 0.03826820583265366, 0.025512137221769107, 0.06378034305442276, 0.012756068610884554, 0.20409709777415286, 0.10204854888707643, 0.31890171527211386, 0.012756068610884554, 0.10204854888707643, 0.025512137221769107, 0.3815267090481662, 0.06645949125355154, 0.04184486486334726, 0.022153163751183844, 0.03569120826579619, 0.049229252780408544, 0.11445801271444986, 0.018460969792653204, 0.03815267090481662, 0.03322974562677577, 0.013538044514612348, 0.0726131478511026, 0.08984338632424559, 0.023383895070694057, 0.05861946114846466, 0.005329041922587696, 0.1545422157550432, 0.01598712576776309, 0.005329041922587696, 0.021316167690350784, 0.6341559887879359, 0.005329041922587696, 0.005329041922587696, 0.010658083845175392, 0.01598712576776309, 0.06394850307105236, 0.013566914310074372, 0.08743122555381262, 0.009044609540049582, 0.021104088926782356, 0.2555102195064007, 0.012059479386732776, 0.3663066863720081, 0.03014869846683194, 0.021857806388453156, 0.05577509216363909, 0.06180483185700547, 0.007537174616707985, 0.04522304770024791, 0.012059479386732776, 0.00538804448266445, 0.6357892489544051, 0.20474569034124912, 0.00538804448266445, 0.0646565337919734, 0.059268489309308954, 0.0107760889653289, 0.0107760889653289, 0.00538804448266445, 0.00538804448266445, 0.6368737369689899, 0.04108862819154773, 0.020544314095773866, 0.020544314095773866, 0.020544314095773866, 0.1848988268619648, 0.020544314095773866, 0.04108862819154773, 0.020544314095773866, 0.819619207109351, 0.012233122494169418, 0.012233122494169418, 0.024466244988338836, 0.024466244988338836, 0.03669936748250825, 0.012233122494169418, 0.024466244988338836, 0.024466244988338836, 0.753521505547795, 0.03139672939782479, 0.010465576465941597, 0.020931152931883194, 0.03139672939782479, 0.13605249405724076, 0.010465576465941597, 0.010465576465941597, 0.08217418266521337, 0.13743752188450892, 0.09611015516399225, 0.11244888154187094, 0.10572117068039147, 0.07040068865762432, 0.04829535296990611, 0.0941879520607124, 0.0321969019799374, 0.0720826163729942, 0.04445094676334641, 0.03483993124694719, 0.039405163617236824, 0.030034423488747578, 0.0035567359316019754, 0.03201062338441778, 0.007113471863203951, 0.0035567359316019754, 0.9283080781481157, 0.014226943726407901, 0.0035567359316019754, 0.0035567359316019754, 0.0035567359316019754, 0.0035567359316019754, 0.02390094451958053, 0.0028681133423496636, 0.013384528930965096, 0.00764830224626577, 0.0497139646007275, 0.01625264227331476, 0.5860511596201146, 0.0497139646007275, 0.10707623144772077, 0.04588981347759462, 0.04588981347759462, 0.033461322327412744, 0.00764830224626577, 0.010516415588615434, 0.012551599079553912, 0.025103198159107824, 0.5397187604208182, 0.28868677882974, 0.07530959447732347, 0.03765479723866173, 0.012551599079553912, 0.018748964863398988, 0.05624689459019696, 0.796831006694457, 0.009374482431699494, 0.018748964863398988, 0.009374482431699494, 0.06562137702189645, 0.018748964863398988, 0.03788670494794494, 0.00631445082465749, 0.00631445082465749, 0.01894335247397247, 0.044201155772602425, 0.01262890164931498, 0.08208786072054737, 0.4988416151479417, 0.08524508613287611, 0.022100577886301213, 0.022100577886301213, 0.10103121319451984, 0.01262890164931498, 0.05051560659725992, 0.08069184778726024, 0.013448641297876707, 0.026897282595753413, 0.013448641297876707, 0.16138369557452048, 0.013448641297876707, 0.06724320648938353, 0.026897282595753413, 0.04034592389363012, 0.05379456519150683, 0.013448641297876707, 0.49759972802143815, 0.015315969915330076, 0.030631939830660152, 0.007657984957665038, 0.7734564807241688, 0.015315969915330076, 0.007657984957665038, 0.007657984957665038, 0.13018574428030566, 0.6395650284770682, 0.023177185165182686, 0.011275387377656442, 0.004384872869088617, 0.0801805324633347, 0.009396156148047036, 0.020671543525703478, 0.033199751723099524, 0.05950898893763123, 0.016913081066484665, 0.03758462459218814, 0.02881487885401091, 0.01566026024674506, 0.01879231229609407, 0.14667873693888459, 0.06111614039120191, 0.006111614039120191, 0.012223228078240382, 0.04278129827384134, 0.024446456156480764, 0.006111614039120191, 0.030558070195600955, 0.006111614039120191, 0.006111614039120191, 0.6478310881467403, 0.1391609154692264, 0.0892294242045206, 0.08229449486220033, 0.05779107785266878, 0.10633558324891054, 0.03883560431699342, 0.08368148073066439, 0.02404108838671021, 0.05131847713316987, 0.05455477749291932, 0.09061641007298464, 0.1040239401348038, 0.04808217677342042, 0.030051360483387763, 0.012800856732894472, 0.012800856732894472, 0.025601713465788944, 0.8448565443710351, 0.07680514039736683, 0.012800856732894472, 0.17358037976257804, 0.18920261394121007, 0.0017358037976257805, 0.003471607595251561, 0.10067662026229526, 0.006943215190503122, 0.013886430381006244, 0.003471607595251561, 0.0017358037976257805, 0.0017358037976257805, 0.013886430381006244, 0.012150626583380463, 0.006943215190503122, 0.46693122156133493, 0.011094275823062874, 0.011094275823062874, 0.9430134449603443, 0.011094275823062874, 0.8369902802738544, 0.033932038389480584, 0.011310679463160195, 0.011310679463160195, 0.04524271785264078, 0.011310679463160195, 0.02262135892632039, 0.9151994163169692, 0.015003269119950315, 0.015003269119950315, 0.015003269119950315, 0.015003269119950315, 0.015003269119950315, 0.12471577665211879, 0.4290222716832886, 0.014965893198254254, 0.10974988345386454, 0.009977262132169503, 0.004988631066084752, 0.004988631066084752, 0.004988631066084752, 0.009977262132169503, 0.039909048528678014, 0.23945429117206807, 0.9105205307064378, 0.03176234409441062, 0.010587448031470208, 0.01588117204720531, 0.005293724015735104, 0.005293724015735104, 0.005293724015735104, 0.005293724015735104, 0.005293724015735104, 0.7659085112689743, 0.019638679776127547, 0.019638679776127547, 0.019638679776127547, 0.05891603932838264, 0.019638679776127547, 0.05891603932838264, 0.19291468426788203, 0.026793706148316946, 0.05358741229663389, 0.11789230705259457, 0.010717482459326778, 0.016076223688990168, 0.016076223688990168, 0.021434964918653557, 0.016076223688990168, 0.11789230705259457, 0.016076223688990168, 0.13396853074158474, 0.010717482459326778, 0.2465020965645159, 0.2298403555016325, 0.011492017775081626, 0.0459680711003265, 0.011492017775081626, 0.03447605332524487, 0.14939623107606112, 0.02298403555016325, 0.011492017775081626, 0.0459680711003265, 0.08044412442557138, 0.31028447992720387, 0.02298403555016325, 0.011492017775081626], \"Term\": [\"%\", \"%\", \"%\", \"%\", \"%\", \"%\", \"%\", \"%\", \"%\", \"%\", \"%\", \"%\", \"%\", \"%\", \"*\", \"*\", \"*\", \"*\", \"*\", \"*\", \"*\", \"*\", \"*\", \"*\", \"*\", \"*\", \"*\", \"*\", \".net\", \".net\", \".net\", \".net\", \".net\", \".net\", \".net\", \".net\", \".net\", \".net\", \".net\", \".net\", \".net\", \".net\", \"<\", \"<\", \"<\", \"<\", \"<\", \"<\", \"<\", \"<\", \"<\", \"<\", \"<\", \"<\", \"=\", \"=\", \"=\", \"=\", \"=\", \"=\", \"=\", \"=\", \"=\", \"=\", \"=\", \"=\", \"=\", \"=\", \">\", \">\", \">\", \">\", \">\", \">\", \">\", \">\", \">\", \">\", \">\", \">\", \">\", \">\", \"@\", \"@\", \"@\", \"@\", \"@\", \"@\", \"@\", \"@\", \"@\", \"@\", \"@\", \"@\", \"@\", \"@\", \"[\", \"[\", \"[\", \"[\", \"[\", \"[\", \"[\", \"[\", \"[\", \"[\", \"[\", \"[\", \"[\", \"]\", \"]\", \"]\", \"]\", \"]\", \"]\", \"]\", \"]\", \"]\", \"]\", \"]\", \"]\", \"]\", \"]\", \"access\", \"access\", \"access\", \"access\", \"access\", \"access\", \"access\", \"access\", \"access\", \"access\", \"access\", \"access\", \"access\", \"access\", \"account\", \"account\", \"account\", \"account\", \"account\", \"account\", \"account\", \"account\", \"account\", \"account\", \"account\", \"account\", \"action\", \"action\", \"action\", \"action\", \"action\", \"action\", \"action\", \"action\", \"action\", \"action\", \"action\", \"action\", \"action\", \"action\", \"activity\", \"activity\", \"activity\", \"activity\", \"activity\", \"activity\", \"activity\", \"activity\", \"activity\", \"address\", \"address\", \"address\", \"address\", \"address\", \"address\", \"address\", \"address\", \"address\", \"address\", \"address\", \"address\", \"ado.net\", \"ado.net\", \"ado.net\", \"ado.net\", \"ado.net\", \"ado.net\", \"ado.net\", \"ado.net\", \"ajax\", \"ajax\", \"ajax\", \"ajax\", \"ajax\", \"ajax\", \"ajax\", \"ajax\", \"ajax\", \"ajax\", \"ajax\", \"ajax\", \"ajax\", \"algorithm\", \"algorithm\", \"algorithm\", \"algorithm\", \"algorithm\", \"algorithm\", \"algorithm\", \"algorithm\", \"algorithm\", \"algorithm\", \"algorithm\", \"algorithm\", \"algorithm\", \"and/or\", \"and/or\", \"and/or\", \"and/or\", \"and/or\", \"and/or\", \"and/or\", \"and/or\", \"and/or\", \"and/or\", \"and/or\", \"and/or\", \"animation\", \"animation\", \"animation\", \"animation\", \"animation\", \"animation\", \"animation\", \"animation\", \"animation\", \"annotation\", \"annotation\", \"annotation\", \"annotation\", \"annotation\", \"annotation\", \"annotation\", \"annotation\", \"annotation\", \"annotation\", \"annotation\", \"annotation\", \"apache\", \"apache\", \"apache\", \"apache\", \"apache\", \"apache\", \"apache\", \"apache\", \"apache\", \"apis\", \"apis\", \"apis\", \"apis\", \"apis\", \"apis\", \"apis\", \"apis\", \"apis\", \"apis\", \"apis\", \"app\", \"app\", \"app\", \"app\", \"app\", \"app\", \"app\", \"app\", \"app\", \"app\", \"app\", \"app\", \"app\", \"app\", \"application\", \"application\", \"application\", \"application\", \"application\", \"application\", \"application\", \"application\", \"application\", \"application\", \"application\", \"application\", \"application\", \"application\", \"architecture\", \"architecture\", \"architecture\", \"architecture\", \"architecture\", \"architecture\", \"architecture\", \"architecture\", \"architecture\", \"architecture\", \"architecture\", \"architecture\", \"argument\", \"argument\", \"argument\", \"argument\", \"argument\", \"argument\", \"argument\", \"argument\", \"argument\", \"argument\", \"argument\", \"argument\", \"argument\", \"argument\", \"array\", \"array\", \"array\", \"array\", \"array\", \"array\", \"array\", \"array\", \"array\", \"array\", \"array\", \"array\", \"array\", \"array\", \"asp.net\", \"asp.net\", \"asp.net\", \"asp.net\", \"asp.net\", \"asp.net\", \"asp.net\", \"asp.net\", \"asp.net\", \"asp.net\", \"asp.net\", \"asp.net\", \"asp.net\", \"asp.net\", \"assembly\", \"assembly\", \"assembly\", \"assembly\", \"assembly\", \"assembly\", \"assembly\", \"assembly\", \"assembly\", \"assembly\", \"assembly\", \"assembly\", \"attribute\", \"attribute\", \"attribute\", \"attribute\", \"attribute\", \"attribute\", \"attribute\", \"attribute\", \"attribute\", \"attribute\", \"attribute\", \"attribute\", \"attribute\", \"attribute\", \"authentication\", \"authentication\", \"authentication\", \"authentication\", \"authentication\", \"authentication\", \"authentication\", \"authentication\", \"authentication\", \"authentication\", \"authentication\", \"authentication\", \"auto\", \"auto\", \"auto\", \"auto\", \"auto\", \"auto\", \"auto\", \"auto\", \"auto\", \"auto\", \"auto\", \"backend\", \"backend\", \"backend\", \"backend\", \"backend\", \"backend\", \"backend\", \"backend\", \"backend\", \"backend\", \"backend\", \"backend\", \"bar\", \"bar\", \"bar\", \"bar\", \"bar\", \"bar\", \"bar\", \"bar\", \"bar\", \"bar\", \"bar\", \"bar\", \"bar\", \"base\", \"base\", \"base\", \"base\", \"base\", \"base\", \"base\", \"base\", \"base\", \"base\", \"base\", \"base\", \"base\", \"bash\", \"bash\", \"bash\", \"bash\", \"bash\", \"batch\", \"batch\", \"batch\", \"batch\", \"batch\", \"batch\", \"batch\", \"batch\", \"bean\", \"bean\", \"bean\", \"bean\", \"bean\", \"bean\", \"bean\", \"bean\", \"bind\", \"bind\", \"bind\", \"bind\", \"bind\", \"bind\", \"bind\", \"bind\", \"bind\", \"bind\", \"bind\", \"bind\", \"binding\", \"binding\", \"binding\", \"binding\", \"binding\", \"binding\", \"binding\", \"binding\", \"binding\", \"binding\", \"binding\", \"binding\", \"binding\", \"binding\", \"body\", \"body\", \"body\", \"body\", \"body\", \"body\", \"body\", \"body\", \"body\", \"body\", \"body\", \"body\", \"body\", \"bonus\", \"bonus\", \"bonus\", \"bonus\", \"bonus\", \"bonus\", \"bonus\", \"bonus\", \"bonus\", \"boost\", \"boost\", \"boost\", \"boost\", \"boost\", \"boost\", \"boost\", \"boost\", \"boost\", \"boost\", \"border\", \"border\", \"border\", \"border\", \"border\", \"border\", \"bottom\", \"bottom\", \"bottom\", \"bottom\", \"bottom\", \"bottom\", \"bottom\", \"bottom\", \"bottom\", \"bottom\", \"bottom\", \"bottom\", \"bound\", \"bound\", \"bound\", \"bound\", \"bound\", \"bound\", \"bound\", \"bound\", \"bound\", \"bound\", \"bound\", \"bound\", \"bound\", \"box\", \"box\", \"box\", \"box\", \"box\", \"box\", \"box\", \"box\", \"box\", \"box\", \"box\", \"box\", \"box\", \"box\", \"breakpoint\", \"breakpoint\", \"breakpoint\", \"breakpoint\", \"breakpoint\", \"breakpoint\", \"breakpoint\", \"breakpoint\", \"breakpoint\", \"breakpoint\", \"browser\", \"browser\", \"browser\", \"browser\", \"browser\", \"browser\", \"browser\", \"browser\", \"browser\", \"browser\", \"browser\", \"browser\", \"browser\", \"browser\", \"btw\", \"btw\", \"btw\", \"btw\", \"btw\", \"btw\", \"btw\", \"btw\", \"btw\", \"btw\", \"btw\", \"buffer\", \"buffer\", \"buffer\", \"buffer\", \"buffer\", \"buffer\", \"buffer\", \"buffer\", \"buffer\", \"buffer\", \"buffer\", \"build\", \"build\", \"build\", \"build\", \"build\", \"build\", \"build\", \"build\", \"build\", \"build\", \"build\", \"build\", \"build\", \"build\", \"business\", \"business\", \"business\", \"business\", \"business\", \"business\", \"business\", \"business\", \"business\", \"business\", \"business\", \"business\", \"business\", \"button\", \"button\", \"button\", \"button\", \"button\", \"button\", \"button\", \"button\", \"button\", \"button\", \"button\", \"button\", \"button\", \"button\", \"byte\", \"byte\", \"byte\", \"byte\", \"byte\", \"byte\", \"byte\", \"byte\", \"byte\", \"byte\", \"byte\", \"byte\", \"byte\", \"c\", \"c\", \"c\", \"c\", \"c\", \"c\", \"c\", \"c\", \"c\", \"c\", \"c\", \"c\", \"c\", \"c\", \"c++\", \"c++\", \"c++\", \"c++\", \"c++\", \"c++\", \"c++\", \"c++\", \"c++\", \"c++\", \"c++\", \"c++\", \"c++\", \"c++\", \"c/c++\", \"c/c++\", \"c/c++\", \"c/c++\", \"c/c++\", \"c/c++\", \"c/c++\", \"c/c++\", \"c/c++\", \"c/c++\", \"c/c++\", \"cache\", \"cache\", \"cache\", \"cache\", \"cache\", \"cache\", \"cache\", \"cache\", \"cache\", \"cache\", \"cache\", \"cache\", \"cache\", \"cache\", \"caching\", \"caching\", \"caching\", \"caching\", \"caching\", \"caching\", \"caching\", \"caching\", \"caching\", \"calculation\", \"calculation\", \"calculation\", \"calculation\", \"calculation\", \"calculation\", \"calculation\", \"calculation\", \"calculation\", \"calculation\", \"calculation\", \"calculation\", \"call\", \"call\", \"call\", \"call\", \"call\", \"call\", \"call\", \"call\", \"call\", \"call\", \"call\", \"call\", \"call\", \"call\", \"callback\", \"callback\", \"callback\", \"callback\", \"callback\", \"callback\", \"callback\", \"callback\", \"callback\", \"case\", \"case\", \"case\", \"case\", \"case\", \"case\", \"case\", \"case\", \"case\", \"case\", \"case\", \"case\", \"case\", \"case\", \"cast\", \"cast\", \"cast\", \"cast\", \"cast\", \"cast\", \"cast\", \"cast\", \"catch\", \"catch\", \"catch\", \"catch\", \"catch\", \"catch\", \"catch\", \"catch\", \"catch\", \"category\", \"category\", \"category\", \"category\", \"category\", \"category\", \"cell\", \"cell\", \"cell\", \"cell\", \"cell\", \"cell\", \"cell\", \"cell\", \"cell\", \"cell\", \"cell\", \"center\", \"center\", \"center\", \"center\", \"center\", \"center\", \"certificate\", \"certificate\", \"certificate\", \"certificate\", \"certificate\", \"certificate\", \"chance\", \"chance\", \"chance\", \"chance\", \"chance\", \"chance\", \"chance\", \"chance\", \"chance\", \"chance\", \"change\", \"change\", \"change\", \"change\", \"change\", \"change\", \"change\", \"change\", \"change\", \"change\", \"change\", \"change\", \"change\", \"change\", \"char\", \"char\", \"char\", \"char\", \"char\", \"char\", \"char\", \"char\", \"char\", \"char\", \"char\", \"character\", \"character\", \"character\", \"character\", \"character\", \"character\", \"character\", \"character\", \"character\", \"character\", \"character\", \"character\", \"character\", \"character\", \"child\", \"child\", \"child\", \"child\", \"child\", \"child\", \"child\", \"child\", \"child\", \"child\", \"child\", \"child\", \"chrome\", \"chrome\", \"chrome\", \"chrome\", \"chrome\", \"chrome\", \"chrome\", \"chrome\", \"chrome\", \"chrome\", \"class\", \"class\", \"class\", \"class\", \"class\", \"class\", \"class\", \"class\", \"class\", \"class\", \"class\", \"class\", \"class\", \"class\", \"clause\", \"clause\", \"clause\", \"clause\", \"clause\", \"clause\", \"clause\", \"clause\", \"clause\", \"clause\", \"click\", \"click\", \"click\", \"click\", \"click\", \"click\", \"click\", \"click\", \"click\", \"click\", \"click\", \"click\", \"click\", \"client\", \"client\", \"client\", \"client\", \"client\", \"client\", \"client\", \"client\", \"client\", \"client\", \"client\", \"client\", \"client\", \"client\", \"close\", \"close\", \"close\", \"close\", \"close\", \"close\", \"close\", \"close\", \"close\", \"close\", \"close\", \"close\", \"code\", \"code\", \"code\", \"code\", \"code\", \"code\", \"code\", \"code\", \"code\", \"code\", \"code\", \"code\", \"code\", \"code\", \"collection\", \"collection\", \"collection\", \"collection\", \"collection\", \"collection\", \"collection\", \"collection\", \"collection\", \"collection\", \"collection\", \"collection\", \"collection\", \"collection\", \"color\", \"color\", \"color\", \"color\", \"color\", \"color\", \"color\", \"color\", \"color\", \"color\", \"color\", \"color\", \"column\", \"column\", \"column\", \"column\", \"column\", \"column\", \"column\", \"column\", \"column\", \"column\", \"column\", \"column\", \"column\", \"column\", \"com\", \"com\", \"com\", \"com\", \"com\", \"com\", \"com\", \"com\", \"com\", \"com\", \"com\", \"command\", \"command\", \"command\", \"command\", \"command\", \"command\", \"command\", \"command\", \"command\", \"command\", \"command\", \"command\", \"command\", \"command\", \"communicate\", \"communicate\", \"communicate\", \"communicate\", \"communicate\", \"communicate\", \"communicate\", \"compare\", \"compare\", \"compare\", \"compare\", \"compare\", \"compare\", \"compare\", \"compare\", \"compare\", \"compare\", \"compare\", \"compare\", \"compare\", \"compare\", \"compilation\", \"compilation\", \"compilation\", \"compilation\", \"compilation\", \"compilation\", \"compilation\", \"compile\", \"compile\", \"compile\", \"compile\", \"compile\", \"compile\", \"compile\", \"compile\", \"compile\", \"compile\", \"compile\", \"compile\", \"compile\", \"compiler\", \"compiler\", \"compiler\", \"compiler\", \"compiler\", \"compiler\", \"compiler\", \"compiler\", \"compiler\", \"compiler\", \"compiler\", \"compiler\", \"compiler\", \"compiles\", \"compiles\", \"compiles\", \"compiles\", \"compiles\", \"compiles\", \"complexity\", \"complexity\", \"complexity\", \"complexity\", \"complexity\", \"complexity\", \"complexity\", \"complexity\", \"complexity\", \"complexity\", \"complexity\", \"component\", \"component\", \"component\", \"component\", \"component\", \"component\", \"component\", \"component\", \"component\", \"component\", \"component\", \"component\", \"component\", \"component\", \"con\", \"con\", \"con\", \"con\", \"con\", \"con\", \"con\", \"con\", \"con\", \"con\", \"con\", \"config\", \"config\", \"config\", \"config\", \"config\", \"config\", \"config\", \"config\", \"config\", \"config\", \"config\", \"config\", \"config\", \"configuration\", \"configuration\", \"configuration\", \"configuration\", \"configuration\", \"configuration\", \"configuration\", \"configuration\", \"configuration\", \"configuration\", \"configuration\", \"configuration\", \"configuration\", \"configuration\", \"connect\", \"connect\", \"connect\", \"connect\", \"connect\", \"connect\", \"connect\", \"connect\", \"connect\", \"connect\", \"connect\", \"connect\", \"connect\", \"connect\", \"connection\", \"connection\", \"connection\", \"connection\", \"connection\", \"connection\", \"connection\", \"connection\", \"connection\", \"connection\", \"connection\", \"connection\", \"connection\", \"connection\", \"constraint\", \"constraint\", \"constraint\", \"constraint\", \"constraint\", \"constraint\", \"constraint\", \"constraint\", \"constraint\", \"constraint\", \"constraint\", \"constructor\", \"constructor\", \"constructor\", \"constructor\", \"constructor\", \"constructor\", \"constructor\", \"constructor\", \"constructor\", \"constructor\", \"constructor\", \"constructor\", \"constructor\", \"consume\", \"consume\", \"consume\", \"consume\", \"consume\", \"consume\", \"consume\", \"consume\", \"consume\", \"context\", \"context\", \"context\", \"context\", \"context\", \"context\", \"context\", \"context\", \"context\", \"context\", \"context\", \"context\", \"context\", \"context\", \"contract\", \"contract\", \"contract\", \"contract\", \"contract\", \"contract\", \"control\", \"control\", \"control\", \"control\", \"control\", \"control\", \"control\", \"control\", \"control\", \"control\", \"control\", \"control\", \"control\", \"control\", \"controller\", \"controller\", \"controller\", \"controller\", \"controller\", \"controller\", \"controller\", \"controller\", \"controller\", \"controller\", \"controller\", \"controller\", \"controller\", \"controller\", \"convention\", \"convention\", \"convention\", \"convention\", \"convention\", \"convention\", \"convention\", \"convention\", \"convention\", \"convention\", \"convert\", \"convert\", \"convert\", \"convert\", \"convert\", \"convert\", \"convert\", \"convert\", \"convert\", \"convert\", \"convert\", \"convert\", \"convert\", \"convert\", \"cookie\", \"cookie\", \"cookie\", \"cookie\", \"cookie\", \"cookie\", \"cookie\", \"cooky\", \"cooky\", \"cooky\", \"cooky\", \"cooky\", \"corner\", \"corner\", \"corner\", \"corner\", \"corner\", \"corner\", \"corner\", \"corner\", \"corner\", \"corner\", \"corner\", \"count\", \"count\", \"count\", \"count\", \"count\", \"count\", \"count\", \"count\", \"count\", \"count\", \"count\", \"count\", \"count\", \"crash\", \"crash\", \"crash\", \"crash\", \"crash\", \"crash\", \"crash\", \"crash\", \"crash\", \"crash\", \"create\", \"create\", \"create\", \"create\", \"create\", \"create\", \"create\", \"create\", \"create\", \"create\", \"create\", \"create\", \"create\", \"create\", \"credential\", \"credential\", \"credential\", \"credential\", \"credential\", \"credential\", \"criterion\", \"criterion\", \"criterion\", \"criterion\", \"criterion\", \"criterion\", \"criterion\", \"criterion\", \"criterion\", \"criterion\", \"cs\", \"cs\", \"cs\", \"cs\", \"cs\", \"cs\", \"cs\", \"cs\", \"cs\", \"cs\", \"cs\", \"cursor\", \"cursor\", \"cursor\", \"cursor\", \"cursor\", \"custom\", \"custom\", \"custom\", \"custom\", \"custom\", \"custom\", \"custom\", \"custom\", \"custom\", \"custom\", \"custom\", \"custom\", \"custom\", \"custom\", \"customer\", \"customer\", \"customer\", \"customer\", \"customer\", \"customer\", \"customer\", \"customer\", \"customer\", \"customer\", \"customer\", \"customer\", \"data\", \"data\", \"data\", \"data\", \"data\", \"data\", \"data\", \"data\", \"data\", \"data\", \"data\", \"data\", \"data\", \"data\", \"database\", \"database\", \"database\", \"database\", \"database\", \"database\", \"database\", \"database\", \"database\", \"database\", \"database\", \"database\", \"database\", \"database\", \"datasource\", \"datasource\", \"datasource\", \"datasource\", \"datasource\", \"datasource\", \"datasource\", \"date\", \"date\", \"date\", \"date\", \"date\", \"date\", \"date\", \"date\", \"date\", \"date\", \"date\", \"date\", \"date\", \"date\", \"datetime\", \"datetime\", \"datetime\", \"datetime\", \"datetime\", \"datetime\", \"datetime\", \"datetime\", \"datetime\", \"day\", \"day\", \"day\", \"day\", \"day\", \"day\", \"day\", \"day\", \"day\", \"day\", \"day\", \"day\", \"day\", \"day\", \"db\", \"db\", \"db\", \"db\", \"db\", \"db\", \"db\", \"db\", \"db\", \"db\", \"db\", \"db\", \"db\", \"db\", \"debug\", \"debug\", \"debug\", \"debug\", \"debug\", \"debug\", \"debug\", \"debug\", \"debug\", \"debug\", \"debug\", \"debug\", \"debug\", \"debug\", \"debugger\", \"debugger\", \"debugger\", \"debugger\", \"debugger\", \"debugger\", \"debugger\", \"debugger\", \"debugger\", \"debugger\", \"debugger\", \"debugging\", \"debugging\", \"debugging\", \"debugging\", \"debugging\", \"debugging\", \"declare\", \"declare\", \"declare\", \"declare\", \"declare\", \"declare\", \"declare\", \"declare\", \"declare\", \"define\", \"define\", \"define\", \"define\", \"define\", \"define\", \"define\", \"define\", \"define\", \"define\", \"define\", \"define\", \"delegate\", \"delegate\", \"delegate\", \"delegate\", \"delegate\", \"delegate\", \"delegate\", \"delegate\", \"delegate\", \"delegate\", \"delegate\", \"delegate\", \"delegate\", \"delete\", \"delete\", \"delete\", \"delete\", \"delete\", \"delete\", \"delete\", \"delete\", \"delete\", \"delete\", \"delete\", \"delete\", \"delete\", \"delphi\", \"delphi\", \"delphi\", \"delphi\", \"delphi\", \"delphi\", \"delphi\", \"delphi\", \"delphi\", \"deploy\", \"deploy\", \"deploy\", \"deploy\", \"deploy\", \"deploy\", \"deploy\", \"deploy\", \"deployment\", \"deployment\", \"deployment\", \"deployment\", \"deployment\", \"deployment\", \"deployment\", \"deserialize\", \"deserialize\", \"deserialize\", \"deserialize\", \"deserialize\", \"deserialize\", \"deserialize\", \"deserialize\", \"designer\", \"designer\", \"designer\", \"designer\", \"designer\", \"designer\", \"designer\", \"designer\", \"designer\", \"designer\", \"development\", \"development\", \"development\", \"development\", \"development\", \"development\", \"development\", \"development\", \"development\", \"development\", \"development\", \"development\", \"development\", \"development\", \"dialog\", \"dialog\", \"dialog\", \"dialog\", \"dialog\", \"dialog\", \"dialog\", \"dialog\", \"dialog\", \"dialog\", \"dialog\", \"dictionary\", \"dictionary\", \"dictionary\", \"dictionary\", \"dictionary\", \"dictionary\", \"dictionary\", \"dictionary\", \"dictionary\", \"dictionary\", \"directory\", \"directory\", \"directory\", \"directory\", \"directory\", \"directory\", \"directory\", \"directory\", \"directory\", \"directory\", \"directory\", \"directory\", \"directory\", \"disk\", \"disk\", \"disk\", \"disk\", \"disk\", \"disk\", \"disk\", \"disk\", \"disk\", \"disk\", \"disk\", \"disk\", \"disk\", \"disk\", \"display\", \"display\", \"display\", \"display\", \"display\", \"display\", \"display\", \"display\", \"display\", \"display\", \"display\", \"display\", \"display\", \"display\", \"div\", \"div\", \"div\", \"div\", \"div\", \"div\", \"div\", \"div\", \"django\", \"django\", \"django\", \"django\", \"django\", \"django\", \"django\", \"django\", \"django\", \"django\", \"django\", \"django\", \"django\", \"dll\", \"dll\", \"dll\", \"dll\", \"dll\", \"dll\", \"dll\", \"dll\", \"dll\", \"dll\", \"dll\", \"dll\", \"dll\", \"dlls\", \"dlls\", \"dlls\", \"dlls\", \"document\", \"document\", \"document\", \"document\", \"document\", \"document\", \"document\", \"document\", \"document\", \"document\", \"document\", \"document\", \"document\", \"document\", \"dom\", \"dom\", \"dom\", \"dom\", \"dom\", \"dom\", \"dom\", \"domain\", \"domain\", \"domain\", \"domain\", \"domain\", \"domain\", \"domain\", \"domain\", \"domain\", \"domain\", \"domain\", \"domain\", \"domain\", \"domain\", \"download\", \"download\", \"download\", \"download\", \"download\", \"download\", \"download\", \"download\", \"download\", \"download\", \"download\", \"driver\", \"driver\", \"driver\", \"driver\", \"driver\", \"driver\", \"driver\", \"driver\", \"dump\", \"dump\", \"dump\", \"dump\", \"dump\", \"dump\", \"dump\", \"dump\", \"eclipse\", \"eclipse\", \"eclipse\", \"eclipse\", \"eclipse\", \"eclipse\", \"eclipse\", \"eclipse\", \"eclipse\", \"eclipse\", \"edit\", \"edit\", \"edit\", \"edit\", \"edit\", \"edit\", \"edit\", \"edit\", \"edit\", \"edit\", \"edit\", \"edit\", \"edit\", \"edit\", \"ef\", \"ef\", \"ef\", \"ef\", \"ef\", \"ef\", \"element\", \"element\", \"element\", \"element\", \"element\", \"element\", \"element\", \"element\", \"element\", \"element\", \"element\", \"element\", \"element\", \"element\", \"email\", \"email\", \"email\", \"email\", \"email\", \"email\", \"email\", \"email\", \"email\", \"email\", \"email\", \"encoding\", \"encoding\", \"encoding\", \"encoding\", \"encoding\", \"encoding\", \"encoding\", \"encoding\", \"encoding\", \"encoding\", \"encrypt\", \"encrypt\", \"encrypt\", \"encrypt\", \"encrypt\", \"encrypt\", \"encryption\", \"encryption\", \"encryption\", \"encryption\", \"encryption\", \"encryption\", \"encryption\", \"encryption\", \"encryption\", \"endpoint\", \"endpoint\", \"endpoint\", \"endpoint\", \"endpoint\", \"endpoint\", \"engine\", \"engine\", \"engine\", \"engine\", \"engine\", \"engine\", \"engine\", \"engine\", \"engine\", \"engine\", \"engine\", \"engine\", \"engine\", \"engine\", \"enter\", \"enter\", \"enter\", \"enter\", \"enter\", \"enter\", \"enter\", \"enter\", \"enter\", \"enter\", \"enter\", \"entity\", \"entity\", \"entity\", \"entity\", \"entity\", \"entity\", \"entity\", \"entity\", \"entity\", \"entity\", \"entity\", \"entity\", \"entity\", \"entity\", \"error\", \"error\", \"error\", \"error\", \"error\", \"error\", \"error\", \"error\", \"error\", \"error\", \"error\", \"error\", \"error\", \"error\", \"event\", \"event\", \"event\", \"event\", \"event\", \"event\", \"event\", \"event\", \"event\", \"event\", \"event\", \"event\", \"event\", \"event\", \"example\", \"example\", \"example\", \"example\", \"example\", \"example\", \"example\", \"example\", \"example\", \"example\", \"example\", \"example\", \"example\", \"example\", \"excel\", \"excel\", \"excel\", \"excel\", \"excel\", \"excel\", \"excel\", \"excel\", \"excel\", \"excel\", \"exception\", \"exception\", \"exception\", \"exception\", \"exception\", \"exception\", \"exception\", \"exception\", \"exception\", \"exception\", \"exception\", \"exception\", \"exception\", \"exception\", \"exit\", \"exit\", \"exit\", \"exit\", \"exit\", \"exit\", \"exit\", \"exit\", \"exit\", \"exit\", \"explorer\", \"explorer\", \"explorer\", \"explorer\", \"explorer\", \"explorer\", \"explorer\", \"explorer\", \"explorer\", \"explorer\", \"explorer\", \"export\", \"export\", \"export\", \"export\", \"export\", \"export\", \"export\", \"export\", \"export\", \"export\", \"expose\", \"expose\", \"expose\", \"expose\", \"expose\", \"expose\", \"expose\", \"expose\", \"expose\", \"expose\", \"expose\", \"expression\", \"expression\", \"expression\", \"expression\", \"expression\", \"expression\", \"expression\", \"expression\", \"expression\", \"expression\", \"expression\", \"expression\", \"expression\", \"extension\", \"extension\", \"extension\", \"extension\", \"extension\", \"extension\", \"extension\", \"extension\", \"extension\", \"extension\", \"extension\", \"extension\", \"extension\", \"facebook\", \"facebook\", \"facebook\", \"facebook\", \"facebook\", \"facebook\", \"facebook\", \"facebook\", \"facebook\", \"facebook\", \"facebook\", \"failure\", \"failure\", \"failure\", \"failure\", \"failure\", \"failure\", \"failure\", \"failure\", \"failure\", \"failure\", \"failure\", \"failure\", \"failure\", \"fetch\", \"fetch\", \"fetch\", \"fetch\", \"fetch\", \"fetch\", \"fetch\", \"fetch\", \"fetch\", \"fetch\", \"fetch\", \"fetch\", \"field\", \"field\", \"field\", \"field\", \"field\", \"field\", \"field\", \"field\", \"field\", \"field\", \"field\", \"field\", \"field\", \"field\", \"file\", \"file\", \"file\", \"file\", \"file\", \"file\", \"file\", \"file\", \"file\", \"file\", \"file\", \"file\", \"file\", \"file\", \"filename\", \"filename\", \"filename\", \"filename\", \"filename\", \"filename\", \"filename\", \"filename\", \"filter\", \"filter\", \"filter\", \"filter\", \"filter\", \"filter\", \"filter\", \"filter\", \"filter\", \"filter\", \"filter\", \"filter\", \"filter\", \"filter\", \"fire\", \"fire\", \"fire\", \"fire\", \"fire\", \"fire\", \"fire\", \"fire\", \"firebug\", \"firebug\", \"firebug\", \"firebug\", \"firebug\", \"firebug\", \"firebug\", \"firebug\", \"firefox\", \"firefox\", \"firefox\", \"firefox\", \"firefox\", \"firefox\", \"firefox\", \"firefox\", \"firefox\", \"firefox\", \"firefox\", \"firefox\", \"float\", \"float\", \"float\", \"float\", \"float\", \"float\", \"float\", \"float\", \"folder\", \"folder\", \"folder\", \"folder\", \"folder\", \"folder\", \"folder\", \"folder\", \"folder\", \"folder\", \"folder\", \"folder\", \"folder\", \"form\", \"form\", \"form\", \"form\", \"form\", \"form\", \"form\", \"form\", \"form\", \"form\", \"form\", \"form\", \"form\", \"form\", \"format\", \"format\", \"format\", \"format\", \"format\", \"format\", \"format\", \"format\", \"format\", \"format\", \"format\", \"format\", \"format\", \"format\", \"frame\", \"frame\", \"frame\", \"frame\", \"frame\", \"frame\", \"frame\", \"frame\", \"frame\", \"frame\", \"frame\", \"framework\", \"framework\", \"framework\", \"framework\", \"framework\", \"framework\", \"framework\", \"framework\", \"framework\", \"framework\", \"framework\", \"framework\", \"framework\", \"framework\", \"function\", \"function\", \"function\", \"function\", \"function\", \"function\", \"function\", \"function\", \"function\", \"function\", \"function\", \"function\", \"function\", \"function\", \"garbage\", \"garbage\", \"garbage\", \"garbage\", \"garbage\", \"garbage\", \"garbage\", \"garbage\", \"garbage\", \"garbage\", \"gcc\", \"gcc\", \"gcc\", \"gcc\", \"gcc\", \"gcc\", \"gcc\", \"gcc\", \"gcc\", \"gcc\", \"generic\", \"generic\", \"generic\", \"generic\", \"generic\", \"generic\", \"generic\", \"generic\", \"generic\", \"generic\", \"get\", \"get\", \"get\", \"get\", \"get\", \"get\", \"get\", \"get\", \"get\", \"get\", \"get\", \"get\", \"get\", \"get\", \"graph\", \"graph\", \"graph\", \"graph\", \"graph\", \"graph\", \"graph\", \"graph\", \"graph\", \"graph\", \"graph\", \"graph\", \"group\", \"group\", \"group\", \"group\", \"group\", \"group\", \"group\", \"group\", \"group\", \"group\", \"group\", \"group\", \"group\", \"group\", \"guarantee\", \"guarantee\", \"guarantee\", \"guarantee\", \"guarantee\", \"guarantee\", \"guarantee\", \"guarantee\", \"handling\", \"handling\", \"handling\", \"handling\", \"handling\", \"handling\", \"handling\", \"handling\", \"handling\", \"hash\", \"hash\", \"hash\", \"hash\", \"hash\", \"hash\", \"hash\", \"hash\", \"hash\", \"hash\", \"hash\", \"hash\", \"header\", \"header\", \"header\", \"header\", \"header\", \"header\", \"header\", \"header\", \"header\", \"header\", \"header\", \"header\", \"header\", \"heap\", \"heap\", \"heap\", \"heap\", \"heap\", \"heap\", \"height\", \"height\", \"height\", \"height\", \"height\", \"height\", \"helper\", \"helper\", \"helper\", \"helper\", \"helper\", \"helper\", \"helper\", \"helper\", \"helper\", \"hibernate\", \"hibernate\", \"hibernate\", \"hibernate\", \"hibernate\", \"hibernate\", \"hibernate\", \"hibernate\", \"hibernate\", \"hibernate\", \"hibernate\", \"hibernate\", \"hibernate\", \"hierarchy\", \"hierarchy\", \"hierarchy\", \"hierarchy\", \"hierarchy\", \"hierarchy\", \"hierarchy\", \"hierarchy\", \"host\", \"host\", \"host\", \"host\", \"host\", \"host\", \"host\", \"host\", \"host\", \"host\", \"html\", \"html\", \"html\", \"html\", \"html\", \"html\", \"html\", \"html\", \"html\", \"html\", \"html\", \"html\", \"html\", \"html5\", \"html5\", \"html5\", \"html5\", \"html5\", \"html5\", \"html5\", \"html5\", \"html5\", \"http\", \"http\", \"http\", \"http\", \"http\", \"http\", \"http\", \"http\", \"http\", \"http\", \"http\", \"http\", \"http\", \"http\", \"icon\", \"icon\", \"icon\", \"icon\", \"icon\", \"icon\", \"icon\", \"id\", \"id\", \"id\", \"id\", \"id\", \"id\", \"id\", \"id\", \"id\", \"id\", \"id\", \"id\", \"id\", \"id\", \"ide\", \"ide\", \"ide\", \"ide\", \"ide\", \"ide\", \"ide\", \"ide\", \"identifier\", \"identifier\", \"identifier\", \"identifier\", \"identifier\", \"identifier\", \"identifier\", \"identifier\", \"identifier\", \"ie\", \"ie\", \"ie\", \"ie\", \"ie\", \"ie\", \"ie\", \"ie\", \"ie\", \"ie\", \"ie\", \"ie\", \"ie\", \"ie\", \"ii\", \"ii\", \"ii\", \"ii\", \"ii\", \"ii\", \"ii\", \"ii\", \"ii\", \"ii\", \"ii\", \"image\", \"image\", \"image\", \"image\", \"image\", \"image\", \"image\", \"image\", \"image\", \"image\", \"image\", \"image\", \"image\", \"implement\", \"implement\", \"implement\", \"implement\", \"implement\", \"implement\", \"implement\", \"implement\", \"implement\", \"implement\", \"implement\", \"implement\", \"implement\", \"implement\", \"implementation\", \"implementation\", \"implementation\", \"implementation\", \"implementation\", \"implementation\", \"implementation\", \"implementation\", \"implementation\", \"implementation\", \"implementation\", \"implementation\", \"implementation\", \"implementation\", \"improve\", \"improve\", \"improve\", \"improve\", \"improve\", \"improve\", \"improve\", \"improve\", \"improve\", \"improve\", \"improve\", \"improve\", \"improve\", \"index\", \"index\", \"index\", \"index\", \"index\", \"index\", \"index\", \"index\", \"index\", \"index\", \"index\", \"index\", \"index\", \"index\", \"information\", \"information\", \"information\", \"information\", \"information\", \"information\", \"information\", \"information\", \"information\", \"information\", \"information\", \"information\", \"information\", \"information\", \"inheritance\", \"inheritance\", \"inheritance\", \"inheritance\", \"inheritance\", \"inheritance\", \"inheritance\", \"initialization\", \"initialization\", \"initialization\", \"initialization\", \"initialization\", \"initialization\", \"initialization\", \"initialization\", \"inline\", \"inline\", \"inline\", \"inline\", \"inline\", \"inline\", \"inline\", \"inline\", \"input\", \"input\", \"input\", \"input\", \"input\", \"input\", \"input\", \"input\", \"input\", \"input\", \"input\", \"input\", \"input\", \"input\", \"insert\", \"insert\", \"insert\", \"insert\", \"insert\", \"insert\", \"insert\", \"insert\", \"insert\", \"insert\", \"insert\", \"insert\", \"insert\", \"insertion\", \"insertion\", \"insertion\", \"insertion\", \"insertion\", \"insertion\", \"insertion\", \"instance\", \"instance\", \"instance\", \"instance\", \"instance\", \"instance\", \"instance\", \"instance\", \"instance\", \"instance\", \"instance\", \"instance\", \"instance\", \"instance\", \"instantiate\", \"instantiate\", \"instantiate\", \"instantiate\", \"instantiate\", \"instantiate\", \"instantiate\", \"instantiate\", \"instantiate\", \"instantiate\", \"instantiate\", \"instruction\", \"instruction\", \"instruction\", \"instruction\", \"instruction\", \"instruction\", \"instruction\", \"instruction\", \"instruction\", \"instruction\", \"instruction\", \"int\", \"int\", \"int\", \"int\", \"int\", \"int\", \"int\", \"int\", \"int\", \"int\", \"int\", \"integer\", \"integer\", \"integer\", \"integer\", \"integer\", \"integer\", \"integer\", \"integer\", \"integer\", \"integer\", \"integration\", \"integration\", \"integration\", \"integration\", \"integration\", \"integration\", \"integration\", \"integration\", \"integration\", \"integration\", \"interface\", \"interface\", \"interface\", \"interface\", \"interface\", \"interface\", \"interface\", \"interface\", \"interface\", \"interface\", \"interface\", \"interface\", \"interface\", \"interface\", \"internet\", \"internet\", \"internet\", \"internet\", \"internet\", \"internet\", \"internet\", \"internet\", \"internet\", \"internet\", \"internet\", \"internet\", \"internet\", \"ip\", \"ip\", \"ip\", \"ip\", \"ip\", \"ip\", \"ip\", \"ipad\", \"ipad\", \"ipad\", \"ipad\", \"ipad\", \"ipad\", \"ipad\", \"ipad\", \"ipad\", \"ipad\", \"iphone\", \"iphone\", \"iphone\", \"iphone\", \"iphone\", \"iphone\", \"iphone\", \"iphone\", \"iphone\", \"iphone\", \"iphone\", \"iphone\", \"iphone\", \"issue\", \"issue\", \"issue\", \"issue\", \"issue\", \"issue\", \"issue\", \"issue\", \"issue\", \"issue\", \"issue\", \"issue\", \"issue\", \"issue\", \"item\", \"item\", \"item\", \"item\", \"item\", \"item\", \"item\", \"item\", \"item\", \"item\", \"item\", \"item\", \"item\", \"item\", \"iterate\", \"iterate\", \"iterate\", \"iterate\", \"iterate\", \"iterate\", \"iterate\", \"iterate\", \"iteration\", \"iteration\", \"iteration\", \"iteration\", \"iteration\", \"iteration\", \"iteration\", \"iteration\", \"iteration\", \"iteration\", \"j\", \"j\", \"j\", \"j\", \"j\", \"j\", \"j\", \"j\", \"j\", \"j\", \"j\", \"j\", \"jar\", \"jar\", \"jar\", \"java\", \"java\", \"java\", \"java\", \"java\", \"java\", \"java\", \"java\", \"java\", \"java\", \"java\", \"java\", \"java\", \"java\", \"javascript\", \"javascript\", \"javascript\", \"javascript\", \"javascript\", \"javascript\", \"javascript\", \"javascript\", \"javascript\", \"javascript\", \"javascript\", \"javascript\", \"javascript\", \"javascript\", \"jdbc\", \"jdbc\", \"jdbc\", \"jdbc\", \"jdbc\", \"jdbc\", \"jdbc\", \"jdbc\", \"jdbc\", \"job\", \"job\", \"job\", \"job\", \"job\", \"job\", \"job\", \"job\", \"job\", \"job\", \"job\", \"job\", \"job\", \"join\", \"join\", \"join\", \"join\", \"join\", \"join\", \"join\", \"join\", \"join\", \"join\", \"join\", \"jpa\", \"jpa\", \"jpa\", \"jpa\", \"jpa\", \"jpa\", \"jpa\", \"jpa\", \"jpa\", \"jpa\", \"jpa\", \"jpa\", \"jquery\", \"jquery\", \"jquery\", \"jquery\", \"jquery\", \"jquery\", \"jquery\", \"jquery\", \"jquery\", \"jquery\", \"jquery\", \"jquery\", \"jquery\", \"jquery\", \"json\", \"json\", \"json\", \"json\", \"json\", \"json\", \"json\", \"json\", \"json\", \"json\", \"json\", \"json\", \"json\", \"jsp\", \"jsp\", \"jsp\", \"jsp\", \"jsp\", \"jsp\", \"jsp\", \"jsp\", \"jsp\", \"jsp\", \"jsp\", \"junit\", \"junit\", \"junit\", \"junit\", \"junit\", \"junit\", \"junit\", \"junit\", \"jvm\", \"jvm\", \"jvm\", \"jvm\", \"jvm\", \"jvm\", \"jvm\", \"jvm\", \"key\", \"key\", \"key\", \"key\", \"key\", \"key\", \"key\", \"key\", \"key\", \"key\", \"key\", \"key\", \"key\", \"key\", \"keyword\", \"keyword\", \"keyword\", \"keyword\", \"keyword\", \"keyword\", \"keyword\", \"keyword\", \"keyword\", \"keyword\", \"keyword\", \"know\", \"know\", \"know\", \"know\", \"know\", \"know\", \"know\", \"know\", \"know\", \"know\", \"know\", \"know\", \"know\", \"know\", \"lambda\", \"lambda\", \"lambda\", \"lambda\", \"lambda\", \"lambda\", \"lambda\", \"language\", \"language\", \"language\", \"language\", \"language\", \"language\", \"language\", \"language\", \"language\", \"language\", \"language\", \"language\", \"language\", \"language\", \"layer\", \"layer\", \"layer\", \"layer\", \"layer\", \"layer\", \"layer\", \"layer\", \"layer\", \"layer\", \"layer\", \"layer\", \"layer\", \"layer\", \"lead\", \"lead\", \"lead\", \"lead\", \"lead\", \"lead\", \"lead\", \"lead\", \"lead\", \"lead\", \"lead\", \"leak\", \"leak\", \"leak\", \"leak\", \"leak\", \"leak\", \"leak\", \"leak\", \"leak\", \"leak\", \"left\", \"left\", \"left\", \"left\", \"left\", \"left\", \"length\", \"length\", \"length\", \"length\", \"length\", \"length\", \"length\", \"length\", \"length\", \"length\", \"length\", \"length\", \"length\", \"library\", \"library\", \"library\", \"library\", \"library\", \"library\", \"library\", \"library\", \"library\", \"library\", \"library\", \"library\", \"library\", \"library\", \"like\", \"like\", \"like\", \"like\", \"like\", \"like\", \"like\", \"like\", \"like\", \"like\", \"like\", \"like\", \"like\", \"like\", \"line\", \"line\", \"line\", \"line\", \"line\", \"line\", \"line\", \"line\", \"line\", \"line\", \"line\", \"line\", \"line\", \"line\", \"linker\", \"linker\", \"linker\", \"linker\", \"linker\", \"linker\", \"linq\", \"linq\", \"linq\", \"linq\", \"linq\", \"linq\", \"linq\", \"linq\", \"linq\", \"linq\", \"linq\", \"linq\", \"linq\", \"linq\", \"linux\", \"linux\", \"linux\", \"linux\", \"linux\", \"linux\", \"linux\", \"linux\", \"linux\", \"linux\", \"linux\", \"linux\", \"linux\", \"linux\", \"list\", \"list\", \"list\", \"list\", \"list\", \"list\", \"list\", \"list\", \"list\", \"list\", \"list\", \"list\", \"list\", \"list\", \"load\", \"load\", \"load\", \"load\", \"load\", \"load\", \"load\", \"load\", \"load\", \"load\", \"load\", \"load\", \"load\", \"load\", \"lock\", \"lock\", \"lock\", \"lock\", \"lock\", \"lock\", \"lock\", \"lock\", \"lock\", \"lock\", \"log\", \"log\", \"log\", \"log\", \"log\", \"log\", \"log\", \"log\", \"log\", \"log\", \"log\", \"log\", \"log\", \"log\", \"login\", \"login\", \"login\", \"login\", \"login\", \"login\", \"login\", \"login\", \"login\", \"login\", \"lookup\", \"lookup\", \"lookup\", \"lookup\", \"lookup\", \"lookup\", \"lookup\", \"lookup\", \"lookup\", \"loop\", \"loop\", \"loop\", \"loop\", \"loop\", \"loop\", \"loop\", \"loop\", \"loop\", \"loop\", \"loop\", \"loop\", \"loop\", \"loop\", \"mac\", \"mac\", \"mac\", \"mac\", \"mac\", \"mac\", \"mac\", \"mac\", \"mac\", \"mac\", \"mac\", \"mac\", \"mac\", \"make\", \"make\", \"make\", \"make\", \"make\", \"make\", \"make\", \"make\", \"make\", \"make\", \"make\", \"make\", \"make\", \"make\", \"management\", \"management\", \"management\", \"management\", \"management\", \"management\", \"management\", \"management\", \"management\", \"management\", \"management\", \"management\", \"mapping\", \"mapping\", \"mapping\", \"mapping\", \"mapping\", \"mapping\", \"mapping\", \"mapping\", \"mapping\", \"mapping\", \"mapping\", \"mapping\", \"measure\", \"measure\", \"measure\", \"measure\", \"measure\", \"measure\", \"measure\", \"measure\", \"measure\", \"member\", \"member\", \"member\", \"member\", \"member\", \"member\", \"member\", \"member\", \"member\", \"member\", \"member\", \"member\", \"memory\", \"memory\", \"memory\", \"memory\", \"memory\", \"memory\", \"memory\", \"memory\", \"memory\", \"memory\", \"memory\", \"memory\", \"memory\", \"memory\", \"menu\", \"menu\", \"menu\", \"menu\", \"menu\", \"menu\", \"menu\", \"menu\", \"menu\", \"menu\", \"menu\", \"menu\", \"message\", \"message\", \"message\", \"message\", \"message\", \"message\", \"message\", \"message\", \"message\", \"message\", \"message\", \"message\", \"message\", \"message\", \"method\", \"method\", \"method\", \"method\", \"method\", \"method\", \"method\", \"method\", \"method\", \"method\", \"method\", \"method\", \"method\", \"method\", \"mock\", \"mock\", \"mock\", \"mock\", \"mock\", \"mock\", \"mock\", \"model\", \"model\", \"model\", \"model\", \"model\", \"model\", \"model\", \"model\", \"model\", \"model\", \"model\", \"model\", \"model\", \"model\", \"module\", \"module\", \"module\", \"module\", \"module\", \"module\", \"module\", \"module\", \"module\", \"module\", \"module\", \"module\", \"module\", \"monitor\", \"monitor\", \"monitor\", \"monitor\", \"monitor\", \"monitor\", \"monitor\", \"monitor\", \"month\", \"month\", \"month\", \"month\", \"month\", \"month\", \"month\", \"month\", \"month\", \"month\", \"month\", \"mouse\", \"mouse\", \"mouse\", \"mouse\", \"mouse\", \"mouse\", \"mouse\", \"mouse\", \"mouse\", \"mvc\", \"mvc\", \"mvc\", \"mvc\", \"mvc\", \"mvc\", \"mvc\", \"mvc\", \"mvc\", \"mvc\", \"mvc\", \"mvc\", \"mvc\", \"mvc\", \"mvvm\", \"mvvm\", \"mvvm\", \"mvvm\", \"mvvm\", \"mvvm\", \"mvvm\", \"mvvm\", \"mvvm\", \"mvvm\", \"mvvm\", \"mysql\", \"mysql\", \"mysql\", \"mysql\", \"mysql\", \"mysql\", \"mysql\", \"mysql\", \"mysql\", \"mysql\", \"mysql\", \"mysql\", \"mysql\", \"mysql\", \"n\", \"n\", \"n\", \"n\", \"n\", \"n\", \"name\", \"name\", \"name\", \"name\", \"name\", \"name\", \"name\", \"name\", \"name\", \"name\", \"name\", \"name\", \"name\", \"name\", \"namespace\", \"namespace\", \"namespace\", \"namespace\", \"namespace\", \"namespace\", \"namespace\", \"namespace\", \"namespace\", \"namespace\", \"network\", \"network\", \"network\", \"network\", \"network\", \"network\", \"network\", \"network\", \"network\", \"network\", \"network\", \"network\", \"network\", \"network\", \"nhibernate\", \"nhibernate\", \"nhibernate\", \"nhibernate\", \"nhibernate\", \"nhibernate\", \"nhibernate\", \"nhibernate\", \"nhibernate\", \"nhibernate\", \"node\", \"node\", \"node\", \"node\", \"node\", \"node\", \"node\", \"node\", \"node\", \"node\", \"node\", \"node\", \"node\", \"node\", \"notification\", \"notification\", \"notification\", \"notification\", \"notification\", \"notification\", \"notification\", \"notification\", \"notification\", \"notification\", \"notification\", \"null\", \"null\", \"null\", \"null\", \"null\", \"null\", \"null\", \"null\", \"null\", \"null\", \"null\", \"null\", \"null\", \"number\", \"number\", \"number\", \"number\", \"number\", \"number\", \"number\", \"number\", \"number\", \"number\", \"number\", \"number\", \"number\", \"number\", \"object\", \"object\", \"object\", \"object\", \"object\", \"object\", \"object\", \"object\", \"object\", \"object\", \"object\", \"object\", \"object\", \"object\", \"objective-c\", \"objective-c\", \"objective-c\", \"objective-c\", \"objective-c\", \"objective-c\", \"objective-c\", \"obtain\", \"obtain\", \"obtain\", \"obtain\", \"obtain\", \"obtain\", \"obtain\", \"obtain\", \"obtain\", \"obtain\", \"obtain\", \"occur\", \"occur\", \"occur\", \"occur\", \"occur\", \"occur\", \"occur\", \"occur\", \"occur\", \"operator\", \"operator\", \"operator\", \"operator\", \"operator\", \"operator\", \"operator\", \"operator\", \"operator\", \"oracle\", \"oracle\", \"oracle\", \"oracle\", \"oracle\", \"oracle\", \"oracle\", \"oracle\", \"oracle\", \"oracle\", \"order\", \"order\", \"order\", \"order\", \"order\", \"order\", \"order\", \"order\", \"order\", \"order\", \"order\", \"order\", \"order\", \"order\", \"orm\", \"orm\", \"orm\", \"orm\", \"orm\", \"orm\", \"orm\", \"orm\", \"orm\", \"orm\", \"package\", \"package\", \"package\", \"package\", \"package\", \"package\", \"package\", \"package\", \"package\", \"package\", \"package\", \"page\", \"page\", \"page\", \"page\", \"page\", \"page\", \"page\", \"page\", \"page\", \"page\", \"page\", \"page\", \"page\", \"page\", \"parameter\", \"parameter\", \"parameter\", \"parameter\", \"parameter\", \"parameter\", \"parameter\", \"parameter\", \"parameter\", \"parameter\", \"parameter\", \"parameter\", \"parameter\", \"parameter\", \"parent\", \"parent\", \"parent\", \"parent\", \"parent\", \"parent\", \"parent\", \"parent\", \"parent\", \"parent\", \"parent\", \"parent\", \"parent\", \"parent\", \"parse\", \"parse\", \"parse\", \"parse\", \"parse\", \"parse\", \"parse\", \"parse\", \"parse\", \"parse\", \"parse\", \"parse\", \"parse\", \"parse\", \"password\", \"password\", \"password\", \"password\", \"password\", \"password\", \"password\", \"password\", \"password\", \"password\", \"password\", \"password\", \"past\", \"past\", \"past\", \"past\", \"past\", \"past\", \"past\", \"past\", \"past\", \"past\", \"past\", \"past\", \"path\", \"path\", \"path\", \"path\", \"path\", \"path\", \"path\", \"path\", \"path\", \"path\", \"path\", \"path\", \"path\", \"path\", \"pattern\", \"pattern\", \"pattern\", \"pattern\", \"pattern\", \"pattern\", \"pattern\", \"pattern\", \"pattern\", \"pattern\", \"pattern\", \"pattern\", \"pattern\", \"pattern\", \"pdf\", \"pdf\", \"pdf\", \"pdf\", \"pdf\", \"pdf\", \"pdf\", \"pdf\", \"pdf\", \"performance\", \"performance\", \"performance\", \"performance\", \"performance\", \"performance\", \"performance\", \"performance\", \"performance\", \"performance\", \"performance\", \"performance\", \"performance\", \"performance\", \"perl\", \"perl\", \"perl\", \"perl\", \"perl\", \"perl\", \"perl\", \"perl\", \"perl\", \"permission\", \"permission\", \"permission\", \"permission\", \"permission\", \"permission\", \"permission\", \"permission\", \"permission\", \"persist\", \"persist\", \"persist\", \"persist\", \"persist\", \"persist\", \"persist\", \"persist\", \"persist\", \"persist\", \"persistence\", \"persistence\", \"persistence\", \"persistence\", \"persistence\", \"persistence\", \"persistence\", \"persistence\", \"persistence\", \"persistence\", \"persistence\", \"person\", \"person\", \"person\", \"person\", \"person\", \"person\", \"person\", \"person\", \"person\", \"person\", \"person\", \"person\", \"php\", \"php\", \"php\", \"php\", \"php\", \"php\", \"php\", \"php\", \"php\", \"php\", \"php\", \"php\", \"php\", \"php\", \"picture\", \"picture\", \"picture\", \"picture\", \"picture\", \"picture\", \"picture\", \"picture\", \"picture\", \"picture\", \"picture\", \"picture\", \"pixel\", \"pixel\", \"pixel\", \"pixel\", \"pixel\", \"pixel\", \"pixel\", \"pixel\", \"pixel\", \"pixel\", \"platform\", \"platform\", \"platform\", \"platform\", \"platform\", \"platform\", \"platform\", \"platform\", \"platform\", \"platform\", \"platform\", \"platform\", \"platform\", \"platform\", \"plugin\", \"plugin\", \"plugin\", \"plugin\", \"plugin\", \"plugin\", \"plugin\", \"plugin\", \"plugin\", \"plugin\", \"plugin\", \"point\", \"point\", \"point\", \"point\", \"point\", \"point\", \"point\", \"point\", \"point\", \"point\", \"point\", \"point\", \"point\", \"point\", \"pointer\", \"pointer\", \"pointer\", \"pointer\", \"pointer\", \"pointer\", \"pointer\", \"pointer\", \"pointer\", \"pointer\", \"pointer\", \"pointer\", \"pointer\", \"pool\", \"pool\", \"pool\", \"pool\", \"pool\", \"pool\", \"pool\", \"pool\", \"pool\", \"pool\", \"post\", \"post\", \"post\", \"post\", \"post\", \"post\", \"post\", \"post\", \"post\", \"post\", \"post\", \"post\", \"post\", \"post\", \"postgresql\", \"postgresql\", \"postgresql\", \"postgresql\", \"postgresql\", \"postgresql\", \"postgresql\", \"pro\", \"pro\", \"pro\", \"pro\", \"pro\", \"pro\", \"pro\", \"pro\", \"pro\", \"pro\", \"pro\", \"pro\", \"problem\", \"problem\", \"problem\", \"problem\", \"problem\", \"problem\", \"problem\", \"problem\", \"problem\", \"problem\", \"problem\", \"problem\", \"problem\", \"problem\", \"procedure\", \"procedure\", \"procedure\", \"procedure\", \"procedure\", \"procedure\", \"procedure\", \"procedure\", \"procedure\", \"procedure\", \"procedure\", \"procedure\", \"procedure\", \"process\", \"process\", \"process\", \"process\", \"process\", \"process\", \"process\", \"process\", \"process\", \"process\", \"process\", \"process\", \"process\", \"process\", \"profiler\", \"profiler\", \"profiler\", \"profiler\", \"profiler\", \"profiler\", \"profiler\", \"profiler\", \"program\", \"program\", \"program\", \"program\", \"program\", \"program\", \"program\", \"program\", \"program\", \"program\", \"program\", \"program\", \"program\", \"program\", \"programming\", \"programming\", \"programming\", \"programming\", \"programming\", \"programming\", \"programming\", \"programming\", \"programming\", \"programming\", \"programming\", \"project\", \"project\", \"project\", \"project\", \"project\", \"project\", \"project\", \"project\", \"project\", \"project\", \"project\", \"project\", \"project\", \"project\", \"property\", \"property\", \"property\", \"property\", \"property\", \"property\", \"property\", \"property\", \"property\", \"property\", \"property\", \"property\", \"property\", \"property\", \"provider\", \"provider\", \"provider\", \"provider\", \"provider\", \"provider\", \"provider\", \"provider\", \"provider\", \"provider\", \"proxy\", \"proxy\", \"proxy\", \"proxy\", \"proxy\", \"proxy\", \"proxy\", \"proxy\", \"proxy\", \"proxy\", \"push\", \"push\", \"push\", \"push\", \"push\", \"push\", \"push\", \"push\", \"push\", \"push\", \"push\", \"python\", \"python\", \"python\", \"python\", \"python\", \"python\", \"python\", \"python\", \"python\", \"python\", \"python\", \"python\", \"python\", \"python\", \"query\", \"query\", \"query\", \"query\", \"query\", \"query\", \"query\", \"query\", \"query\", \"query\", \"query\", \"query\", \"query\", \"query\", \"question\", \"question\", \"question\", \"question\", \"question\", \"question\", \"question\", \"question\", \"question\", \"question\", \"question\", \"question\", \"question\", \"question\", \"queue\", \"queue\", \"queue\", \"queue\", \"queue\", \"queue\", \"queue\", \"queue\", \"queue\", \"queue\", \"queue\", \"queue\", \"quote\", \"quote\", \"quote\", \"quote\", \"quote\", \"quote\", \"quote\", \"quote\", \"quote\", \"quote\", \"rail\", \"rail\", \"rail\", \"rail\", \"rail\", \"rail\", \"rail\", \"rail\", \"rail\", \"rail\", \"rail\", \"rail\", \"rail\", \"range\", \"range\", \"range\", \"range\", \"range\", \"range\", \"range\", \"range\", \"range\", \"range\", \"range\", \"range\", \"range\", \"read\", \"read\", \"read\", \"read\", \"read\", \"read\", \"read\", \"read\", \"read\", \"read\", \"read\", \"read\", \"read\", \"read\", \"record\", \"record\", \"record\", \"record\", \"record\", \"record\", \"record\", \"record\", \"record\", \"record\", \"record\", \"record\", \"record\", \"record\", \"redirect\", \"redirect\", \"redirect\", \"redirect\", \"redirect\", \"redirect\", \"redirect\", \"redirect\", \"redirect\", \"reference\", \"reference\", \"reference\", \"reference\", \"reference\", \"reference\", \"reference\", \"reference\", \"reference\", \"reference\", \"reference\", \"reference\", \"reference\", \"reference\", \"reflection\", \"reflection\", \"reflection\", \"reflection\", \"reflection\", \"reflection\", \"reflection\", \"reflection\", \"reflection\", \"reflection\", \"reflection\", \"refresh\", \"refresh\", \"refresh\", \"refresh\", \"refresh\", \"refresh\", \"refresh\", \"refresh\", \"registry\", \"registry\", \"registry\", \"registry\", \"registry\", \"registry\", \"registry\", \"registry\", \"registry\", \"relationship\", \"relationship\", \"relationship\", \"relationship\", \"relationship\", \"relationship\", \"relationship\", \"relationship\", \"relationship\", \"relationship\", \"relationship\", \"relationship\", \"relationship\", \"relationship\", \"release\", \"release\", \"release\", \"release\", \"release\", \"release\", \"release\", \"release\", \"release\", \"release\", \"release\", \"release\", \"release\", \"release\", \"render\", \"render\", \"render\", \"render\", \"render\", \"render\", \"render\", \"render\", \"repository\", \"repository\", \"repository\", \"repository\", \"repository\", \"repository\", \"repository\", \"repository\", \"repository\", \"repository\", \"repository\", \"repository\", \"repository\", \"request\", \"request\", \"request\", \"request\", \"request\", \"request\", \"request\", \"request\", \"request\", \"request\", \"request\", \"request\", \"request\", \"request\", \"resize\", \"resize\", \"resize\", \"resize\", \"resize\", \"resize\", \"resize\", \"resource\", \"resource\", \"resource\", \"resource\", \"resource\", \"resource\", \"resource\", \"resource\", \"resource\", \"resource\", \"resource\", \"resource\", \"resource\", \"resource\", \"response\", \"response\", \"response\", \"response\", \"response\", \"response\", \"response\", \"response\", \"response\", \"response\", \"response\", \"response\", \"response\", \"response\", \"rest\", \"rest\", \"rest\", \"rest\", \"rest\", \"rest\", \"rest\", \"rest\", \"rest\", \"rest\", \"rest\", \"rest\", \"rest\", \"rest\", \"result\", \"result\", \"result\", \"result\", \"result\", \"result\", \"result\", \"result\", \"result\", \"result\", \"result\", \"result\", \"result\", \"result\", \"return\", \"return\", \"return\", \"return\", \"return\", \"return\", \"return\", \"return\", \"return\", \"return\", \"return\", \"return\", \"return\", \"return\", \"role\", \"role\", \"role\", \"role\", \"role\", \"role\", \"role\", \"role\", \"role\", \"row\", \"row\", \"row\", \"row\", \"row\", \"row\", \"row\", \"row\", \"row\", \"row\", \"row\", \"row\", \"row\", \"row\", \"ruby\", \"ruby\", \"ruby\", \"ruby\", \"ruby\", \"ruby\", \"ruby\", \"ruby\", \"ruby\", \"ruby\", \"ruby\", \"ruby\", \"ruby\", \"run\", \"run\", \"run\", \"run\", \"run\", \"run\", \"run\", \"run\", \"run\", \"run\", \"run\", \"run\", \"run\", \"run\", \"safari\", \"safari\", \"safari\", \"safari\", \"safari\", \"safari\", \"safari\", \"safari\", \"safari\", \"safari\", \"scale\", \"scale\", \"scale\", \"scale\", \"scale\", \"scale\", \"scale\", \"scale\", \"scale\", \"scale\", \"schema\", \"schema\", \"schema\", \"schema\", \"schema\", \"schema\", \"schema\", \"schema\", \"schema\", \"schema\", \"schema\", \"schema\", \"schema\", \"screen\", \"screen\", \"screen\", \"screen\", \"screen\", \"screen\", \"screen\", \"screen\", \"screen\", \"screen\", \"screen\", \"screen\", \"screen\", \"script\", \"script\", \"script\", \"script\", \"script\", \"script\", \"script\", \"script\", \"script\", \"script\", \"script\", \"script\", \"script\", \"script\", \"scroll\", \"scroll\", \"scroll\", \"scroll\", \"scroll\", \"scroll\", \"scroll\", \"scroll\", \"sdk\", \"sdk\", \"sdk\", \"sdk\", \"sdk\", \"sdk\", \"sdk\", \"sdk\", \"sdk\", \"sdk\", \"sdk\", \"search\", \"search\", \"search\", \"search\", \"search\", \"search\", \"search\", \"search\", \"search\", \"search\", \"search\", \"search\", \"search\", \"search\", \"section\", \"section\", \"section\", \"section\", \"section\", \"section\", \"section\", \"section\", \"section\", \"section\", \"section\", \"section\", \"section\", \"section\", \"secure\", \"secure\", \"secure\", \"secure\", \"secure\", \"secure\", \"secure\", \"secure\", \"secure\", \"secure\", \"secure\", \"secure\", \"security\", \"security\", \"security\", \"security\", \"security\", \"security\", \"security\", \"security\", \"security\", \"security\", \"security\", \"security\", \"security\", \"see\", \"see\", \"see\", \"see\", \"see\", \"see\", \"see\", \"see\", \"see\", \"see\", \"see\", \"see\", \"see\", \"see\", \"select\", \"select\", \"select\", \"select\", \"select\", \"select\", \"select\", \"select\", \"select\", \"select\", \"select\", \"select\", \"select\", \"select\", \"send\", \"send\", \"send\", \"send\", \"send\", \"send\", \"send\", \"send\", \"send\", \"send\", \"send\", \"send\", \"send\", \"send\", \"serialization\", \"serialization\", \"serialization\", \"serialization\", \"serialization\", \"serialization\", \"serialization\", \"serialization\", \"serialization\", \"serialization\", \"serialize\", \"serialize\", \"serialize\", \"serialize\", \"serialize\", \"serialize\", \"serialize\", \"serialize\", \"serialize\", \"serialize\", \"serialize\", \"serialize\", \"server\", \"server\", \"server\", \"server\", \"server\", \"server\", \"server\", \"server\", \"server\", \"server\", \"server\", \"server\", \"server\", \"server\", \"service\", \"service\", \"service\", \"service\", \"service\", \"service\", \"service\", \"service\", \"service\", \"service\", \"service\", \"service\", \"service\", \"service\", \"servlet\", \"servlet\", \"servlet\", \"servlet\", \"servlet\", \"servlet\", \"servlet\", \"servlet\", \"servlet\", \"servlet\", \"servlet\", \"session\", \"session\", \"session\", \"session\", \"session\", \"session\", \"session\", \"session\", \"session\", \"session\", \"session\", \"session\", \"session\", \"session\", \"set\", \"set\", \"set\", \"set\", \"set\", \"set\", \"set\", \"set\", \"set\", \"set\", \"set\", \"set\", \"set\", \"set\", \"setter\", \"setter\", \"setter\", \"setter\", \"shell\", \"shell\", \"shell\", \"shell\", \"shell\", \"shell\", \"shell\", \"shell\", \"shell\", \"sign\", \"sign\", \"sign\", \"sign\", \"sign\", \"sign\", \"signature\", \"signature\", \"signature\", \"signature\", \"signature\", \"signature\", \"signature\", \"signature\", \"signature\", \"signature\", \"signature\", \"signature\", \"site\", \"site\", \"site\", \"site\", \"site\", \"site\", \"site\", \"site\", \"site\", \"site\", \"site\", \"site\", \"site\", \"site\", \"size\", \"size\", \"size\", \"size\", \"size\", \"size\", \"size\", \"size\", \"size\", \"size\", \"size\", \"size\", \"size\", \"size\", \"soap\", \"soap\", \"soap\", \"soap\", \"soap\", \"soap\", \"soap\", \"socket\", \"socket\", \"socket\", \"socket\", \"socket\", \"socket\", \"socket\", \"socket\", \"socket\", \"socket\", \"socket\", \"solution\", \"solution\", \"solution\", \"solution\", \"solution\", \"solution\", \"solution\", \"solution\", \"solution\", \"solution\", \"solution\", \"solution\", \"solution\", \"solution\", \"something\", \"something\", \"something\", \"something\", \"something\", \"something\", \"something\", \"something\", \"something\", \"something\", \"something\", \"something\", \"something\", \"something\", \"sort\", \"sort\", \"sort\", \"sort\", \"sort\", \"sort\", \"sort\", \"sort\", \"sort\", \"sort\", \"sort\", \"sort\", \"sort\", \"sort\", \"source\", \"source\", \"source\", \"source\", \"source\", \"source\", \"source\", \"source\", \"source\", \"source\", \"source\", \"source\", \"source\", \"source\", \"space\", \"space\", \"space\", \"space\", \"space\", \"space\", \"space\", \"space\", \"space\", \"space\", \"space\", \"space\", \"space\", \"space\", \"spring\", \"spring\", \"spring\", \"spring\", \"spring\", \"spring\", \"spring\", \"spring\", \"spring\", \"spring\", \"spring\", \"spring\", \"spring\", \"spring\", \"sql\", \"sql\", \"sql\", \"sql\", \"sql\", \"sql\", \"sql\", \"sql\", \"sql\", \"sql\", \"sql\", \"sql\", \"sql\", \"sql\", \"sqlite\", \"sqlite\", \"sqlite\", \"sqlite\", \"sqlite\", \"sqlite\", \"sqlite\", \"sqlite\", \"sqlite\", \"ssl\", \"ssl\", \"ssl\", \"ssl\", \"ssl\", \"ssl\", \"ssl\", \"ssl\", \"ssl\", \"state\", \"state\", \"state\", \"state\", \"state\", \"state\", \"state\", \"state\", \"state\", \"state\", \"state\", \"state\", \"state\", \"state\", \"statement\", \"statement\", \"statement\", \"statement\", \"statement\", \"statement\", \"statement\", \"statement\", \"statement\", \"statement\", \"statement\", \"statement\", \"statement\", \"statement\", \"status\", \"status\", \"status\", \"status\", \"status\", \"status\", \"status\", \"status\", \"status\", \"status\", \"status\", \"status\", \"std\", \"std\", \"std\", \"std\", \"std\", \"std\", \"std\", \"stl\", \"stl\", \"stl\", \"stl\", \"stl\", \"stl\", \"storage\", \"storage\", \"storage\", \"storage\", \"storage\", \"storage\", \"storage\", \"storage\", \"storage\", \"storage\", \"storage\", \"storage\", \"store\", \"store\", \"store\", \"store\", \"store\", \"store\", \"store\", \"store\", \"store\", \"store\", \"store\", \"store\", \"store\", \"store\", \"string\", \"string\", \"string\", \"string\", \"string\", \"string\", \"string\", \"string\", \"string\", \"string\", \"string\", \"string\", \"string\", \"string\", \"struct\", \"struct\", \"struct\", \"struct\", \"struct\", \"struct\", \"struct\", \"struct\", \"structure\", \"structure\", \"structure\", \"structure\", \"structure\", \"structure\", \"structure\", \"structure\", \"structure\", \"structure\", \"structure\", \"structure\", \"structure\", \"structure\", \"studio\", \"studio\", \"studio\", \"studio\", \"studio\", \"studio\", \"studio\", \"studio\", \"studio\", \"studio\", \"studio\", \"studio\", \"studio\", \"studio\", \"subclass\", \"subclass\", \"subclass\", \"subclass\", \"subclass\", \"subclass\", \"subclass\", \"subclass\", \"subclass\", \"subclass\", \"subclass\", \"subclass\", \"subclass\", \"submit\", \"submit\", \"submit\", \"submit\", \"submit\", \"submit\", \"submit\", \"submit\", \"submit\", \"submit\", \"submit\", \"symbol\", \"symbol\", \"symbol\", \"symbol\", \"symbol\", \"symbol\", \"symbol\", \"symbol\", \"symbol\", \"symbol\", \"symbol\", \"symbol\", \"system\", \"system\", \"system\", \"system\", \"system\", \"system\", \"system\", \"system\", \"system\", \"system\", \"system\", \"system\", \"system\", \"system\", \"tab\", \"tab\", \"tab\", \"tab\", \"tab\", \"tab\", \"tab\", \"tab\", \"tab\", \"tab\", \"tab\", \"tab\", \"table\", \"table\", \"table\", \"table\", \"table\", \"table\", \"table\", \"table\", \"table\", \"table\", \"table\", \"table\", \"table\", \"table\", \"tag\", \"tag\", \"tag\", \"tag\", \"tag\", \"tag\", \"tag\", \"tag\", \"tag\", \"tag\", \"tag\", \"tag\", \"tag\", \"tag\", \"target\", \"target\", \"target\", \"target\", \"target\", \"target\", \"target\", \"target\", \"target\", \"target\", \"target\", \"target\", \"target\", \"target\", \"technology\", \"technology\", \"technology\", \"technology\", \"technology\", \"technology\", \"technology\", \"technology\", \"technology\", \"technology\", \"technology\", \"technology\", \"template\", \"template\", \"template\", \"template\", \"template\", \"template\", \"template\", \"template\", \"template\", \"template\", \"template\", \"template\", \"template\", \"template\", \"test\", \"test\", \"test\", \"test\", \"test\", \"test\", \"test\", \"test\", \"test\", \"test\", \"test\", \"test\", \"test\", \"test\", \"testing\", \"testing\", \"testing\", \"testing\", \"testing\", \"testing\", \"testing\", \"testing\", \"testing\", \"testing\", \"text\", \"text\", \"text\", \"text\", \"text\", \"text\", \"text\", \"text\", \"text\", \"text\", \"text\", \"text\", \"text\", \"text\", \"textbox\", \"textbox\", \"textbox\", \"textbox\", \"textbox\", \"textbox\", \"textbox\", \"textbox\", \"textbox\", \"textbox\", \"thanks\", \"thanks\", \"thanks\", \"thanks\", \"thanks\", \"thanks\", \"thanks\", \"thanks\", \"thanks\", \"thanks\", \"thanks\", \"thanks\", \"thanks\", \"thanks\", \"thread\", \"thread\", \"thread\", \"thread\", \"thread\", \"thread\", \"thread\", \"thread\", \"thread\", \"thread\", \"thread\", \"thread\", \"thread\", \"thread\", \"throw\", \"throw\", \"throw\", \"throw\", \"throw\", \"throw\", \"throw\", \"throw\", \"throw\", \"throw\", \"throw\", \"throw\", \"throw\", \"time\", \"time\", \"time\", \"time\", \"time\", \"time\", \"time\", \"time\", \"time\", \"time\", \"time\", \"time\", \"time\", \"time\", \"timeout\", \"timeout\", \"timeout\", \"timeout\", \"timeout\", \"timeout\", \"timeout\", \"timeout\", \"timestamp\", \"timestamp\", \"timestamp\", \"timestamp\", \"timestamp\", \"timestamp\", \"timestamp\", \"timestamp\", \"token\", \"token\", \"token\", \"token\", \"token\", \"token\", \"token\", \"token\", \"tomcat\", \"tomcat\", \"tomcat\", \"tomcat\", \"tomcat\", \"tomcat\", \"tomcat\", \"tomcat\", \"tomcat\", \"tomcat\", \"tomcat\", \"tomcat\", \"tool\", \"tool\", \"tool\", \"tool\", \"tool\", \"tool\", \"tool\", \"tool\", \"tool\", \"tool\", \"tool\", \"tool\", \"tool\", \"tool\", \"trace\", \"trace\", \"trace\", \"trace\", \"trace\", \"trace\", \"trace\", \"trace\", \"trace\", \"trace\", \"trace\", \"traffic\", \"traffic\", \"traffic\", \"traffic\", \"traffic\", \"traffic\", \"transaction\", \"transaction\", \"transaction\", \"transaction\", \"transaction\", \"transaction\", \"transaction\", \"transaction\", \"transaction\", \"transaction\", \"transaction\", \"translate\", \"translate\", \"translate\", \"translate\", \"translate\", \"translate\", \"translate\", \"translate\", \"translate\", \"type\", \"type\", \"type\", \"type\", \"type\", \"type\", \"type\", \"type\", \"type\", \"type\", \"type\", \"type\", \"type\", \"type\", \"uitableview\", \"uitableview\", \"uitableview\", \"uitableview\", \"uitableview\", \"uitableview\", \"uiview\", \"uiview\", \"uiview\", \"uiview\", \"uiview\", \"uiview\", \"unicode\", \"unicode\", \"unicode\", \"unicode\", \"unicode\", \"unicode\", \"unicode\", \"unicode\", \"unicode\", \"unit\", \"unit\", \"unit\", \"unit\", \"unit\", \"unit\", \"unit\", \"unit\", \"unit\", \"unit\", \"unit\", \"unit\", \"unit\", \"unit\", \"upload\", \"upload\", \"upload\", \"upload\", \"upload\", \"upload\", \"upload\", \"upload\", \"url\", \"url\", \"url\", \"url\", \"url\", \"url\", \"url\", \"url\", \"url\", \"url\", \"url\", \"url\", \"url\", \"use\", \"use\", \"use\", \"use\", \"use\", \"use\", \"use\", \"use\", \"use\", \"use\", \"use\", \"use\", \"use\", \"use\", \"user\", \"user\", \"user\", \"user\", \"user\", \"user\", \"user\", \"user\", \"user\", \"user\", \"user\", \"user\", \"user\", \"user\", \"username\", \"username\", \"username\", \"username\", \"username\", \"username\", \"username\", \"username\", \"username\", \"username\", \"validate\", \"validate\", \"validate\", \"validate\", \"validate\", \"validate\", \"validate\", \"validate\", \"validate\", \"validate\", \"validate\", \"validate\", \"validation\", \"validation\", \"validation\", \"validation\", \"validation\", \"validation\", \"validation\", \"validation\", \"validation\", \"validation\", \"validation\", \"validation\", \"validation\", \"validation\", \"value\", \"value\", \"value\", \"value\", \"value\", \"value\", \"value\", \"value\", \"value\", \"value\", \"value\", \"value\", \"value\", \"value\", \"variable\", \"variable\", \"variable\", \"variable\", \"variable\", \"variable\", \"variable\", \"variable\", \"variable\", \"variable\", \"variable\", \"variable\", \"variable\", \"variable\", \"vb.net\", \"vb.net\", \"vb.net\", \"vb.net\", \"vb.net\", \"vb.net\", \"vb.net\", \"vb.net\", \"vb.net\", \"vector\", \"vector\", \"vector\", \"vector\", \"vector\", \"vector\", \"vector\", \"vector\", \"vector\", \"vector\", \"vector\", \"verify\", \"verify\", \"verify\", \"verify\", \"verify\", \"verify\", \"verify\", \"verify\", \"verify\", \"verify\", \"verify\", \"verify\", \"version\", \"version\", \"version\", \"version\", \"version\", \"version\", \"version\", \"version\", \"version\", \"version\", \"version\", \"version\", \"version\", \"version\", \"video\", \"video\", \"video\", \"video\", \"video\", \"video\", \"video\", \"video\", \"video\", \"video\", \"video\", \"video\", \"view\", \"view\", \"view\", \"view\", \"view\", \"view\", \"view\", \"view\", \"view\", \"view\", \"view\", \"view\", \"view\", \"view\", \"viewmodel\", \"viewmodel\", \"viewmodel\", \"viewmodel\", \"viewmodel\", \"viewmodel\", \"viewmodel\", \"viewmodel\", \"viewmodel\", \"viewmodel\", \"vista\", \"vista\", \"vista\", \"vista\", \"vista\", \"vista\", \"vista\", \"vista\", \"vista\", \"vs2008\", \"vs2008\", \"vs2008\", \"vs2008\", \"vs2008\", \"vs2008\", \"vs2008\", \"vs2008\", \"vs2008\", \"vs2010\", \"vs2010\", \"vs2010\", \"vs2010\", \"vs2010\", \"vs2010\", \"vs2010\", \"vs2010\", \"way\", \"way\", \"way\", \"way\", \"way\", \"way\", \"way\", \"way\", \"way\", \"way\", \"way\", \"way\", \"way\", \"way\", \"wcf\", \"wcf\", \"wcf\", \"wcf\", \"wcf\", \"wcf\", \"wcf\", \"wcf\", \"wcf\", \"wcf\", \"web\", \"web\", \"web\", \"web\", \"web\", \"web\", \"web\", \"web\", \"web\", \"web\", \"web\", \"web\", \"web\", \"web\", \"web.config\", \"web.config\", \"web.config\", \"web.config\", \"web.config\", \"web.config\", \"web.config\", \"webservice\", \"webservice\", \"webservice\", \"webservice\", \"webservice\", \"webservice\", \"webservice\", \"webservice\", \"website\", \"website\", \"website\", \"website\", \"website\", \"website\", \"website\", \"website\", \"website\", \"website\", \"website\", \"website\", \"website\", \"website\", \"week\", \"week\", \"week\", \"week\", \"week\", \"week\", \"week\", \"week\", \"week\", \"week\", \"week\", \"week\", \"width\", \"width\", \"width\", \"width\", \"width\", \"width\", \"width\", \"width\", \"window\", \"window\", \"window\", \"window\", \"window\", \"window\", \"window\", \"window\", \"window\", \"window\", \"window\", \"window\", \"window\", \"window\", \"winforms\", \"winforms\", \"winforms\", \"winforms\", \"winforms\", \"winforms\", \"winforms\", \"winforms\", \"winforms\", \"winforms\", \"winforms\", \"work\", \"work\", \"work\", \"work\", \"work\", \"work\", \"work\", \"work\", \"work\", \"work\", \"work\", \"work\", \"work\", \"work\", \"worker\", \"worker\", \"worker\", \"worker\", \"worker\", \"worker\", \"wpf\", \"wpf\", \"wpf\", \"wpf\", \"wpf\", \"wpf\", \"wpf\", \"wpf\", \"wpf\", \"wpf\", \"wpf\", \"wpf\", \"wpf\", \"wpf\", \"wsdl\", \"wsdl\", \"wsdl\", \"wsdl\", \"x64\", \"x64\", \"x64\", \"x64\", \"x64\", \"x64\", \"x64\", \"x86\", \"x86\", \"x86\", \"x86\", \"x86\", \"x86\", \"xaml\", \"xaml\", \"xaml\", \"xaml\", \"xaml\", \"xaml\", \"xaml\", \"xaml\", \"xaml\", \"xaml\", \"xaml\", \"xcode\", \"xcode\", \"xcode\", \"xcode\", \"xcode\", \"xcode\", \"xcode\", \"xcode\", \"xcode\", \"xp\", \"xp\", \"xp\", \"xp\", \"xp\", \"xp\", \"xp\", \"year\", \"year\", \"year\", \"year\", \"year\", \"year\", \"year\", \"year\", \"year\", \"year\", \"year\", \"year\", \"year\", \"year\", \"\\u2019\", \"\\u2019\", \"\\u2019\", \"\\u2019\", \"\\u2019\", \"\\u2019\", \"\\u2019\", \"\\u2019\", \"\\u2019\", \"\\u2019\", \"\\u2019\", \"\\u2019\", \"\\u2019\"]}, \"R\": 30, \"lambda.step\": 0.01, \"plot.opts\": {\"xlab\": \"PC1\", \"ylab\": \"PC2\"}, \"topic.order\": [13, 3, 2, 12, 10, 5, 4, 8, 11, 7, 6, 14, 1, 9]};\n",
       "\n",
       "function LDAvis_load_lib(url, callback){\n",
       "  var s = document.createElement('script');\n",
       "  s.src = url;\n",
       "  s.async = true;\n",
       "  s.onreadystatechange = s.onload = callback;\n",
       "  s.onerror = function(){console.warn(\"failed to load library \" + url);};\n",
       "  document.getElementsByTagName(\"head\")[0].appendChild(s);\n",
       "}\n",
       "\n",
       "if(typeof(LDAvis) !== \"undefined\"){\n",
       "   // already loaded: just create the visualization\n",
       "   !function(LDAvis){\n",
       "       new LDAvis(\"#\" + \"ldavis_el20545112490532489335626330\", ldavis_el20545112490532489335626330_data);\n",
       "   }(LDAvis);\n",
       "}else if(typeof define === \"function\" && define.amd){\n",
       "   // require.js is available: use it to load d3/LDAvis\n",
       "   require.config({paths: {d3: \"https://d3js.org/d3.v5\"}});\n",
       "   require([\"d3\"], function(d3){\n",
       "      window.d3 = d3;\n",
       "      LDAvis_load_lib(\"https://cdn.jsdelivr.net/gh/bmabey/pyLDAvis@3.3.1/pyLDAvis/js/ldavis.v3.0.0.js\", function(){\n",
       "        new LDAvis(\"#\" + \"ldavis_el20545112490532489335626330\", ldavis_el20545112490532489335626330_data);\n",
       "      });\n",
       "    });\n",
       "}else{\n",
       "    // require.js not available: dynamically load d3 & LDAvis\n",
       "    LDAvis_load_lib(\"https://d3js.org/d3.v5.js\", function(){\n",
       "         LDAvis_load_lib(\"https://cdn.jsdelivr.net/gh/bmabey/pyLDAvis@3.3.1/pyLDAvis/js/ldavis.v3.0.0.js\", function(){\n",
       "                 new LDAvis(\"#\" + \"ldavis_el20545112490532489335626330\", ldavis_el20545112490532489335626330_data);\n",
       "            })\n",
       "         });\n",
       "}\n",
       "</script>"
      ],
      "text/plain": [
       "<IPython.core.display.HTML object>"
      ]
     },
     "execution_count": 15,
     "metadata": {},
     "output_type": "execute_result"
    }
   ],
   "source": [
    "lda_display = pyLDAvis.gensim_models.prepare(lda_model, corpus_train, dictionary)\n",
    "pyLDAvis.display(lda_display)"
   ]
  },
  {
   "cell_type": "markdown",
   "metadata": {},
   "source": [
    "In order to compare the predictions of the *LDA* to the *supervised machine learning*, we fit a model with 250 *topics*:"
   ]
  },
  {
   "cell_type": "code",
   "execution_count": 16,
   "metadata": {},
   "outputs": [],
   "source": [
    "lda_model = LdaMulticore(\n",
    "    corpus=corpus_train,\n",
    "    id2word=dictionary,\n",
    "    num_topics=250,\n",
    "    random_state=42,\n",
    "    passes=10,\n",
    "    workers=24)"
   ]
  },
  {
   "cell_type": "markdown",
   "metadata": {},
   "source": [
    "In order to use the *LDA* model to make predictions, we develop a function to select 5 predictions by prioritizing the 50 terms (with the highest probabilities) that are present in the *title* of the question.\\\n",
    "If this does not make up for 5 *tags*, we select the terms with the highest frequencies until we obtain 5 terms."
   ]
  },
  {
   "cell_type": "code",
   "execution_count": 17,
   "metadata": {},
   "outputs": [],
   "source": [
    "def filter_preds(document, preds, length=5, top_n=50):\n",
    "    \n",
    "    filtered_preds = list()\n",
    "\n",
    "    if type(document) == float:\n",
    "\n",
    "        pass\n",
    "\n",
    "    else:\n",
    "\n",
    "        for pred in preds[:top_n]:\n",
    "\n",
    "            if pred in document:\n",
    "\n",
    "                filtered_preds.append(pred)\n",
    "                preds.remove(pred)\n",
    "\n",
    "        filtered_preds = filtered_preds[:length]\n",
    "\n",
    "    for pred in preds:\n",
    "\n",
    "        if len(filtered_preds) == length:\n",
    "            \n",
    "            break\n",
    "        \n",
    "        else:\n",
    "\n",
    "            filtered_preds.append(pred)\n",
    "    \n",
    "    return filtered_preds"
   ]
  },
  {
   "cell_type": "markdown",
   "metadata": {},
   "source": [
    "We filter the *document topics* to select the first *topic* for each *document*:"
   ]
  },
  {
   "cell_type": "code",
   "execution_count": 18,
   "metadata": {},
   "outputs": [
    {
     "data": {
      "text/plain": [
       "[151, 7, 46, 217, 147, 58, 196, 65, 224, 123]"
      ]
     },
     "execution_count": 18,
     "metadata": {},
     "output_type": "execute_result"
    }
   ],
   "source": [
    "topics = [sorted(topic, key=lambda tup: tup[1])[-1][0] for topic in lda_model.get_document_topics(corpus_test)]\n",
    "topics[:10]  # First 10 documents"
   ]
  },
  {
   "cell_type": "markdown",
   "metadata": {},
   "source": [
    "We select the first 50 *terms* for each *topic* and convert their *ids* back to words using the *dictionary*:"
   ]
  },
  {
   "cell_type": "code",
   "execution_count": 19,
   "metadata": {},
   "outputs": [
    {
     "data": {
      "text/plain": [
       "['pointer',\n",
       " 'vector',\n",
       " 'plan',\n",
       " 'execution',\n",
       " 'use',\n",
       " 'c++',\n",
       " 'inheritance',\n",
       " 'function',\n",
       " 'case',\n",
       " 'work']"
      ]
     },
     "execution_count": 19,
     "metadata": {},
     "output_type": "execute_result"
    }
   ],
   "source": [
    "preds = [[dictionary[tag[0]] for tag in lda_model.get_topic_terms(topicid=topic, topn=50)] for topic in topics]\n",
    "preds[0][:10]  # First 10 predictions of the first document"
   ]
  },
  {
   "cell_type": "markdown",
   "metadata": {},
   "source": [
    "We then apply the *filter_preds* function described above and add them to the results dataframe:"
   ]
  },
  {
   "cell_type": "code",
   "execution_count": 20,
   "metadata": {},
   "outputs": [
    {
     "data": {
      "text/html": [
       "<div>\n",
       "<style scoped>\n",
       "    .dataframe tbody tr th:only-of-type {\n",
       "        vertical-align: middle;\n",
       "    }\n",
       "\n",
       "    .dataframe tbody tr th {\n",
       "        vertical-align: top;\n",
       "    }\n",
       "\n",
       "    .dataframe thead th {\n",
       "        text-align: right;\n",
       "    }\n",
       "</style>\n",
       "<table border=\"1\" class=\"dataframe\">\n",
       "  <thead>\n",
       "    <tr style=\"text-align: right;\">\n",
       "      <th></th>\n",
       "      <th>Title_tokens</th>\n",
       "      <th>Tags_tokens</th>\n",
       "      <th>Tags_target</th>\n",
       "      <th>LDA</th>\n",
       "    </tr>\n",
       "    <tr>\n",
       "      <th>Id</th>\n",
       "      <th></th>\n",
       "      <th></th>\n",
       "      <th></th>\n",
       "      <th></th>\n",
       "    </tr>\n",
       "  </thead>\n",
       "  <tbody>\n",
       "    <tr>\n",
       "      <th>1475635</th>\n",
       "      <td>pointer,structure</td>\n",
       "      <td>c,pointers,variables,struct,return</td>\n",
       "      <td>struct,pointers,c,variables</td>\n",
       "      <td>[vector, c++, inheritance, function, object]</td>\n",
       "    </tr>\n",
       "    <tr>\n",
       "      <th>190666</th>\n",
       "      <td>linq,sql,concurrency,issue</td>\n",
       "      <td>c#,linq,linq-to-sql,concurrency,transactions</td>\n",
       "      <td>linq-to-sql,transactions,c#,linq,concurrency</td>\n",
       "      <td>[sql, linq, database, performance, null]</td>\n",
       "    </tr>\n",
       "    <tr>\n",
       "      <th>1735000</th>\n",
       "      <td>instrument,display,console,command,line,applic...</td>\n",
       "      <td>c,xcode,debugging,macos,instruments</td>\n",
       "      <td>macos,xcode,c,debugging</td>\n",
       "      <td>[build, xcode, java, performance, configuration]</td>\n",
       "    </tr>\n",
       "    <tr>\n",
       "      <th>1662904</th>\n",
       "      <td>qt,setting</td>\n",
       "      <td>c++,windows,linux,qt,qt4</td>\n",
       "      <td>qt,c++,windows,linux</td>\n",
       "      <td>[time, qt, javascript, java, winforms]</td>\n",
       "    </tr>\n",
       "    <tr>\n",
       "      <th>116701</th>\n",
       "      <td>program,background</td>\n",
       "      <td>windows,linux,macos,shell,background</td>\n",
       "      <td>shell,windows,macos,linux</td>\n",
       "      <td>[process, .net, time, difference, program]</td>\n",
       "    </tr>\n",
       "    <tr>\n",
       "      <th>...</th>\n",
       "      <td>...</td>\n",
       "      <td>...</td>\n",
       "      <td>...</td>\n",
       "      <td>...</td>\n",
       "    </tr>\n",
       "    <tr>\n",
       "      <th>5588143</th>\n",
       "      <td>code,json,reference,serialization,error</td>\n",
       "      <td>c#,json,entity-framework,serialization,asp.net...</td>\n",
       "      <td>c#,asp.net-mvc-3,json,entity-framework,seriali...</td>\n",
       "      <td>[java, exception, object, time, asp.net]</td>\n",
       "    </tr>\n",
       "    <tr>\n",
       "      <th>919287</th>\n",
       "      <td>wcf,window,service,timeout</td>\n",
       "      <td>.net,windows,wcf,web-services,exception-handling</td>\n",
       "      <td>web-services,.net,exception-handling,wcf,windows</td>\n",
       "      <td>[wcf, soap, rest, .net, class]</td>\n",
       "    </tr>\n",
       "    <tr>\n",
       "      <th>4730570</th>\n",
       "      <td>list,moq</td>\n",
       "      <td>c#,.net,unit-testing,mocking,moq</td>\n",
       "      <td>c#,unit-testing,.net,mocking</td>\n",
       "      <td>[list, listview, object, linq, class]</td>\n",
       "    </tr>\n",
       "    <tr>\n",
       "      <th>6062569</th>\n",
       "      <td>difference,appdelegate.m,view,controller.m</td>\n",
       "      <td>iphone,objective-c,xcode,delegates,viewcontroller</td>\n",
       "      <td>objective-c,xcode,iphone,delegates</td>\n",
       "      <td>[iphone, file, cocoa, xcode, time]</td>\n",
       "    </tr>\n",
       "    <tr>\n",
       "      <th>2565979</th>\n",
       "      <td>macro,gcc/g++,differentiate,linux,mac,osx</td>\n",
       "      <td>linux,macos,gcc,cross-platform,macros</td>\n",
       "      <td>cross-platform,gcc,macos,linux</td>\n",
       "      <td>[linux, python, browser, c++, file]</td>\n",
       "    </tr>\n",
       "  </tbody>\n",
       "</table>\n",
       "<p>2495 rows × 4 columns</p>\n",
       "</div>"
      ],
      "text/plain": [
       "                                              Title_tokens  \\\n",
       "Id                                                           \n",
       "1475635                                  pointer,structure   \n",
       "190666                          linq,sql,concurrency,issue   \n",
       "1735000  instrument,display,console,command,line,applic...   \n",
       "1662904                                         qt,setting   \n",
       "116701                                  program,background   \n",
       "...                                                    ...   \n",
       "5588143            code,json,reference,serialization,error   \n",
       "919287                          wcf,window,service,timeout   \n",
       "4730570                                           list,moq   \n",
       "6062569         difference,appdelegate.m,view,controller.m   \n",
       "2565979          macro,gcc/g++,differentiate,linux,mac,osx   \n",
       "\n",
       "                                               Tags_tokens  \\\n",
       "Id                                                           \n",
       "1475635                 c,pointers,variables,struct,return   \n",
       "190666        c#,linq,linq-to-sql,concurrency,transactions   \n",
       "1735000                c,xcode,debugging,macos,instruments   \n",
       "1662904                           c++,windows,linux,qt,qt4   \n",
       "116701                windows,linux,macos,shell,background   \n",
       "...                                                    ...   \n",
       "5588143  c#,json,entity-framework,serialization,asp.net...   \n",
       "919287    .net,windows,wcf,web-services,exception-handling   \n",
       "4730570                   c#,.net,unit-testing,mocking,moq   \n",
       "6062569  iphone,objective-c,xcode,delegates,viewcontroller   \n",
       "2565979              linux,macos,gcc,cross-platform,macros   \n",
       "\n",
       "                                               Tags_target  \\\n",
       "Id                                                           \n",
       "1475635                        struct,pointers,c,variables   \n",
       "190666        linq-to-sql,transactions,c#,linq,concurrency   \n",
       "1735000                            macos,xcode,c,debugging   \n",
       "1662904                               qt,c++,windows,linux   \n",
       "116701                           shell,windows,macos,linux   \n",
       "...                                                    ...   \n",
       "5588143  c#,asp.net-mvc-3,json,entity-framework,seriali...   \n",
       "919287    web-services,.net,exception-handling,wcf,windows   \n",
       "4730570                       c#,unit-testing,.net,mocking   \n",
       "6062569                 objective-c,xcode,iphone,delegates   \n",
       "2565979                     cross-platform,gcc,macos,linux   \n",
       "\n",
       "                                                      LDA  \n",
       "Id                                                         \n",
       "1475635      [vector, c++, inheritance, function, object]  \n",
       "190666           [sql, linq, database, performance, null]  \n",
       "1735000  [build, xcode, java, performance, configuration]  \n",
       "1662904            [time, qt, javascript, java, winforms]  \n",
       "116701         [process, .net, time, difference, program]  \n",
       "...                                                   ...  \n",
       "5588143          [java, exception, object, time, asp.net]  \n",
       "919287                     [wcf, soap, rest, .net, class]  \n",
       "4730570             [list, listview, object, linq, class]  \n",
       "6062569                [iphone, file, cocoa, xcode, time]  \n",
       "2565979               [linux, python, browser, c++, file]  \n",
       "\n",
       "[2495 rows x 4 columns]"
      ]
     },
     "execution_count": 20,
     "metadata": {},
     "output_type": "execute_result"
    }
   ],
   "source": [
    "transformer.test_df['LDA'] = preds\n",
    "# We apply our filtering function\n",
    "transformer.test_df['LDA'] = transformer.test_df.apply(lambda x: filter_preds(transformer.top_tags, x['LDA']), axis=1)\n",
    "transformer.test_df[['Title_tokens', 'Tags_tokens', 'Tags_target', 'LDA']]"
   ]
  },
  {
   "cell_type": "markdown",
   "metadata": {},
   "source": [
    "We can still calculate the *ratio of tags hit* using our *PerformanceReport* class:"
   ]
  },
  {
   "cell_type": "code",
   "execution_count": 21,
   "metadata": {},
   "outputs": [
    {
     "name": "stdout",
     "output_type": "stream",
     "text": [
      "Ratio of target tags hit: 0.163\n",
      "Ratio of tags hit: 0.138\n",
      "Average fill: 1.1848\n"
     ]
    }
   ],
   "source": [
    "report.tags_ratio('LDA', transformer.test_df)"
   ]
  },
  {
   "cell_type": "markdown",
   "metadata": {},
   "source": [
    "# Supervised"
   ]
  },
  {
   "cell_type": "markdown",
   "metadata": {},
   "source": [
    "### Logistic Regression"
   ]
  },
  {
   "cell_type": "markdown",
   "metadata": {},
   "source": [
    "Using the *OneVsRest* (or *OneVsAll*) strategy, we can fit a binary classifier for each *label* of the dataset. We obtain a classifier that can output multiple *labels* for each document."
   ]
  },
  {
   "cell_type": "code",
   "execution_count": 22,
   "metadata": {},
   "outputs": [
    {
     "name": "stdout",
     "output_type": "stream",
     "text": [
      "                    LogR\n",
      "Jaccard         0.249908\n",
      "Recall          0.268402\n",
      "Inference_time  0.000368\n",
      "Model_size_mb          2\n"
     ]
    }
   ],
   "source": [
    "logr_model = OneVsRestClassifier(LogisticRegression(solver='lbfgs'))\n",
    "logr_model.fit(X_train, y_train)\n",
    "preds = logr_model.predict(X_test)\n",
    "report.evaluate('LogR', logr_model, X_test, y_test, preds)"
   ]
  },
  {
   "cell_type": "code",
   "execution_count": 23,
   "metadata": {},
   "outputs": [
    {
     "data": {
      "text/html": [
       "<div>\n",
       "<style scoped>\n",
       "    .dataframe tbody tr th:only-of-type {\n",
       "        vertical-align: middle;\n",
       "    }\n",
       "\n",
       "    .dataframe tbody tr th {\n",
       "        vertical-align: top;\n",
       "    }\n",
       "\n",
       "    .dataframe thead th {\n",
       "        text-align: right;\n",
       "    }\n",
       "</style>\n",
       "<table border=\"1\" class=\"dataframe\">\n",
       "  <thead>\n",
       "    <tr style=\"text-align: right;\">\n",
       "      <th></th>\n",
       "      <th>Title_Body_tokens</th>\n",
       "      <th>Tags_tokens</th>\n",
       "      <th>Tags_target</th>\n",
       "      <th>LogR</th>\n",
       "    </tr>\n",
       "    <tr>\n",
       "      <th>Id</th>\n",
       "      <th></th>\n",
       "      <th></th>\n",
       "      <th></th>\n",
       "      <th></th>\n",
       "    </tr>\n",
       "  </thead>\n",
       "  <tbody>\n",
       "    <tr>\n",
       "      <th>1475635</th>\n",
       "      <td>pointer,structure,return,pointer,struct,c,mean...</td>\n",
       "      <td>c,pointers,variables,struct,return</td>\n",
       "      <td>struct,pointers,c,variables</td>\n",
       "      <td>(c++, c, pointers)</td>\n",
       "    </tr>\n",
       "    <tr>\n",
       "      <th>190666</th>\n",
       "      <td>linq,sql,concurrency,issue,build,order,record,...</td>\n",
       "      <td>c#,linq,linq-to-sql,concurrency,transactions</td>\n",
       "      <td>linq-to-sql,transactions,c#,linq,concurrency</td>\n",
       "      <td>(c#, linq)</td>\n",
       "    </tr>\n",
       "    <tr>\n",
       "      <th>1735000</th>\n",
       "      <td>instrument,display,console,command,line,applic...</td>\n",
       "      <td>c,xcode,debugging,macos,instruments</td>\n",
       "      <td>macos,xcode,c,debugging</td>\n",
       "      <td>()</td>\n",
       "    </tr>\n",
       "    <tr>\n",
       "      <th>1662904</th>\n",
       "      <td>qt,setting,part,qt,effort,payback,road,questio...</td>\n",
       "      <td>c++,windows,linux,qt,qt4</td>\n",
       "      <td>qt,c++,windows,linux</td>\n",
       "      <td>(c++, qt)</td>\n",
       "    </tr>\n",
       "    <tr>\n",
       "      <th>116701</th>\n",
       "      <td>program,background,way,c,program,command,line,...</td>\n",
       "      <td>windows,linux,macos,shell,background</td>\n",
       "      <td>shell,windows,macos,linux</td>\n",
       "      <td>(linux, shell)</td>\n",
       "    </tr>\n",
       "  </tbody>\n",
       "</table>\n",
       "</div>"
      ],
      "text/plain": [
       "                                         Title_Body_tokens  \\\n",
       "Id                                                           \n",
       "1475635  pointer,structure,return,pointer,struct,c,mean...   \n",
       "190666   linq,sql,concurrency,issue,build,order,record,...   \n",
       "1735000  instrument,display,console,command,line,applic...   \n",
       "1662904  qt,setting,part,qt,effort,payback,road,questio...   \n",
       "116701   program,background,way,c,program,command,line,...   \n",
       "\n",
       "                                          Tags_tokens  \\\n",
       "Id                                                      \n",
       "1475635            c,pointers,variables,struct,return   \n",
       "190666   c#,linq,linq-to-sql,concurrency,transactions   \n",
       "1735000           c,xcode,debugging,macos,instruments   \n",
       "1662904                      c++,windows,linux,qt,qt4   \n",
       "116701           windows,linux,macos,shell,background   \n",
       "\n",
       "                                          Tags_target                LogR  \n",
       "Id                                                                         \n",
       "1475635                   struct,pointers,c,variables  (c++, c, pointers)  \n",
       "190666   linq-to-sql,transactions,c#,linq,concurrency          (c#, linq)  \n",
       "1735000                       macos,xcode,c,debugging                  ()  \n",
       "1662904                          qt,c++,windows,linux           (c++, qt)  \n",
       "116701                      shell,windows,macos,linux      (linux, shell)  "
      ]
     },
     "execution_count": 23,
     "metadata": {},
     "output_type": "execute_result"
    }
   ],
   "source": [
    "transformer.join_predictions('LogR', preds).head()"
   ]
  },
  {
   "cell_type": "code",
   "execution_count": 24,
   "metadata": {},
   "outputs": [
    {
     "name": "stdout",
     "output_type": "stream",
     "text": [
      "Ratio of target tags hit: 0.2685\n",
      "Ratio of tags hit: 0.2264\n",
      "Average fill: 0.3428\n"
     ]
    }
   ],
   "source": [
    "report.tags_ratio('LogR', transformer.test_df)"
   ]
  },
  {
   "cell_type": "markdown",
   "metadata": {},
   "source": [
    "### SVM"
   ]
  },
  {
   "cell_type": "code",
   "execution_count": 25,
   "metadata": {},
   "outputs": [
    {
     "name": "stdout",
     "output_type": "stream",
     "text": [
      "                     SVM\n",
      "Jaccard         0.367723\n",
      "Recall           0.41153\n",
      "Inference_time  0.000372\n",
      "Model_size_mb          2\n"
     ]
    }
   ],
   "source": [
    "svm_model = OneVsRestClassifier(LinearSVC())\n",
    "svm_model.fit(X_train, y_train)\n",
    "preds = svm_model.predict(X_test)\n",
    "report.evaluate('SVM', svm_model, X_test, y_test, preds)"
   ]
  },
  {
   "cell_type": "code",
   "execution_count": 26,
   "metadata": {},
   "outputs": [
    {
     "data": {
      "text/html": [
       "<div>\n",
       "<style scoped>\n",
       "    .dataframe tbody tr th:only-of-type {\n",
       "        vertical-align: middle;\n",
       "    }\n",
       "\n",
       "    .dataframe tbody tr th {\n",
       "        vertical-align: top;\n",
       "    }\n",
       "\n",
       "    .dataframe thead th {\n",
       "        text-align: right;\n",
       "    }\n",
       "</style>\n",
       "<table border=\"1\" class=\"dataframe\">\n",
       "  <thead>\n",
       "    <tr style=\"text-align: right;\">\n",
       "      <th></th>\n",
       "      <th>Title_Body_tokens</th>\n",
       "      <th>Tags_tokens</th>\n",
       "      <th>Tags_target</th>\n",
       "      <th>SVM</th>\n",
       "    </tr>\n",
       "    <tr>\n",
       "      <th>Id</th>\n",
       "      <th></th>\n",
       "      <th></th>\n",
       "      <th></th>\n",
       "      <th></th>\n",
       "    </tr>\n",
       "  </thead>\n",
       "  <tbody>\n",
       "    <tr>\n",
       "      <th>1475635</th>\n",
       "      <td>pointer,structure,return,pointer,struct,c,mean...</td>\n",
       "      <td>c,pointers,variables,struct,return</td>\n",
       "      <td>struct,pointers,c,variables</td>\n",
       "      <td>(c++, c, pointers, struct)</td>\n",
       "    </tr>\n",
       "    <tr>\n",
       "      <th>190666</th>\n",
       "      <td>linq,sql,concurrency,issue,build,order,record,...</td>\n",
       "      <td>c#,linq,linq-to-sql,concurrency,transactions</td>\n",
       "      <td>linq-to-sql,transactions,c#,linq,concurrency</td>\n",
       "      <td>(c#, sql, linq, linq-to-sql)</td>\n",
       "    </tr>\n",
       "    <tr>\n",
       "      <th>1735000</th>\n",
       "      <td>instrument,display,console,command,line,applic...</td>\n",
       "      <td>c,xcode,debugging,macos,instruments</td>\n",
       "      <td>macos,xcode,c,debugging</td>\n",
       "      <td>(xcode,)</td>\n",
       "    </tr>\n",
       "    <tr>\n",
       "      <th>1662904</th>\n",
       "      <td>qt,setting,part,qt,effort,payback,road,questio...</td>\n",
       "      <td>c++,windows,linux,qt,qt4</td>\n",
       "      <td>qt,c++,windows,linux</td>\n",
       "      <td>(c++, qt)</td>\n",
       "    </tr>\n",
       "    <tr>\n",
       "      <th>116701</th>\n",
       "      <td>program,background,way,c,program,command,line,...</td>\n",
       "      <td>windows,linux,macos,shell,background</td>\n",
       "      <td>shell,windows,macos,linux</td>\n",
       "      <td>(linux, shell)</td>\n",
       "    </tr>\n",
       "  </tbody>\n",
       "</table>\n",
       "</div>"
      ],
      "text/plain": [
       "                                         Title_Body_tokens  \\\n",
       "Id                                                           \n",
       "1475635  pointer,structure,return,pointer,struct,c,mean...   \n",
       "190666   linq,sql,concurrency,issue,build,order,record,...   \n",
       "1735000  instrument,display,console,command,line,applic...   \n",
       "1662904  qt,setting,part,qt,effort,payback,road,questio...   \n",
       "116701   program,background,way,c,program,command,line,...   \n",
       "\n",
       "                                          Tags_tokens  \\\n",
       "Id                                                      \n",
       "1475635            c,pointers,variables,struct,return   \n",
       "190666   c#,linq,linq-to-sql,concurrency,transactions   \n",
       "1735000           c,xcode,debugging,macos,instruments   \n",
       "1662904                      c++,windows,linux,qt,qt4   \n",
       "116701           windows,linux,macos,shell,background   \n",
       "\n",
       "                                          Tags_target  \\\n",
       "Id                                                      \n",
       "1475635                   struct,pointers,c,variables   \n",
       "190666   linq-to-sql,transactions,c#,linq,concurrency   \n",
       "1735000                       macos,xcode,c,debugging   \n",
       "1662904                          qt,c++,windows,linux   \n",
       "116701                      shell,windows,macos,linux   \n",
       "\n",
       "                                  SVM  \n",
       "Id                                     \n",
       "1475635    (c++, c, pointers, struct)  \n",
       "190666   (c#, sql, linq, linq-to-sql)  \n",
       "1735000                      (xcode,)  \n",
       "1662904                     (c++, qt)  \n",
       "116701                 (linux, shell)  "
      ]
     },
     "execution_count": 26,
     "metadata": {},
     "output_type": "execute_result"
    }
   ],
   "source": [
    "transformer.join_predictions('SVM', preds).head()"
   ]
  },
  {
   "cell_type": "code",
   "execution_count": 27,
   "metadata": {},
   "outputs": [
    {
     "name": "stdout",
     "output_type": "stream",
     "text": [
      "Ratio of target tags hit: 0.4102\n",
      "Ratio of tags hit: 0.3455\n",
      "Average fill: 0.5616\n"
     ]
    }
   ],
   "source": [
    "report.tags_ratio('SVM', transformer.test_df)"
   ]
  },
  {
   "cell_type": "markdown",
   "metadata": {},
   "source": [
    "### SGD"
   ]
  },
  {
   "cell_type": "code",
   "execution_count": 28,
   "metadata": {},
   "outputs": [
    {
     "name": "stdout",
     "output_type": "stream",
     "text": [
      "                     SGD\n",
      "Jaccard         0.366004\n",
      "Recall          0.417798\n",
      "Inference_time  0.000373\n",
      "Model_size_mb          2\n"
     ]
    }
   ],
   "source": [
    "sgd_model = OneVsRestClassifier(SGDClassifier(loss='modified_huber'), n_jobs=-1)\n",
    "sgd_model.fit(X_train, y_train)\n",
    "preds = sgd_model.predict(X_test)\n",
    "report.evaluate('SGD', sgd_model, X_test, y_test, preds)"
   ]
  },
  {
   "cell_type": "code",
   "execution_count": 29,
   "metadata": {},
   "outputs": [
    {
     "data": {
      "text/html": [
       "<div>\n",
       "<style scoped>\n",
       "    .dataframe tbody tr th:only-of-type {\n",
       "        vertical-align: middle;\n",
       "    }\n",
       "\n",
       "    .dataframe tbody tr th {\n",
       "        vertical-align: top;\n",
       "    }\n",
       "\n",
       "    .dataframe thead th {\n",
       "        text-align: right;\n",
       "    }\n",
       "</style>\n",
       "<table border=\"1\" class=\"dataframe\">\n",
       "  <thead>\n",
       "    <tr style=\"text-align: right;\">\n",
       "      <th></th>\n",
       "      <th>Title_Body_tokens</th>\n",
       "      <th>Tags_tokens</th>\n",
       "      <th>Tags_target</th>\n",
       "      <th>SGD</th>\n",
       "    </tr>\n",
       "    <tr>\n",
       "      <th>Id</th>\n",
       "      <th></th>\n",
       "      <th></th>\n",
       "      <th></th>\n",
       "      <th></th>\n",
       "    </tr>\n",
       "  </thead>\n",
       "  <tbody>\n",
       "    <tr>\n",
       "      <th>1475635</th>\n",
       "      <td>pointer,structure,return,pointer,struct,c,mean...</td>\n",
       "      <td>c,pointers,variables,struct,return</td>\n",
       "      <td>struct,pointers,c,variables</td>\n",
       "      <td>(c++, c, pointers, struct)</td>\n",
       "    </tr>\n",
       "    <tr>\n",
       "      <th>190666</th>\n",
       "      <td>linq,sql,concurrency,issue,build,order,record,...</td>\n",
       "      <td>c#,linq,linq-to-sql,concurrency,transactions</td>\n",
       "      <td>linq-to-sql,transactions,c#,linq,concurrency</td>\n",
       "      <td>(c#, sql, linq, linq-to-sql)</td>\n",
       "    </tr>\n",
       "    <tr>\n",
       "      <th>1735000</th>\n",
       "      <td>instrument,display,console,command,line,applic...</td>\n",
       "      <td>c,xcode,debugging,macos,instruments</td>\n",
       "      <td>macos,xcode,c,debugging</td>\n",
       "      <td>(xcode,)</td>\n",
       "    </tr>\n",
       "    <tr>\n",
       "      <th>1662904</th>\n",
       "      <td>qt,setting,part,qt,effort,payback,road,questio...</td>\n",
       "      <td>c++,windows,linux,qt,qt4</td>\n",
       "      <td>qt,c++,windows,linux</td>\n",
       "      <td>(c++, qt)</td>\n",
       "    </tr>\n",
       "    <tr>\n",
       "      <th>116701</th>\n",
       "      <td>program,background,way,c,program,command,line,...</td>\n",
       "      <td>windows,linux,macos,shell,background</td>\n",
       "      <td>shell,windows,macos,linux</td>\n",
       "      <td>(linux, bash, shell, asynchronous)</td>\n",
       "    </tr>\n",
       "  </tbody>\n",
       "</table>\n",
       "</div>"
      ],
      "text/plain": [
       "                                         Title_Body_tokens  \\\n",
       "Id                                                           \n",
       "1475635  pointer,structure,return,pointer,struct,c,mean...   \n",
       "190666   linq,sql,concurrency,issue,build,order,record,...   \n",
       "1735000  instrument,display,console,command,line,applic...   \n",
       "1662904  qt,setting,part,qt,effort,payback,road,questio...   \n",
       "116701   program,background,way,c,program,command,line,...   \n",
       "\n",
       "                                          Tags_tokens  \\\n",
       "Id                                                      \n",
       "1475635            c,pointers,variables,struct,return   \n",
       "190666   c#,linq,linq-to-sql,concurrency,transactions   \n",
       "1735000           c,xcode,debugging,macos,instruments   \n",
       "1662904                      c++,windows,linux,qt,qt4   \n",
       "116701           windows,linux,macos,shell,background   \n",
       "\n",
       "                                          Tags_target  \\\n",
       "Id                                                      \n",
       "1475635                   struct,pointers,c,variables   \n",
       "190666   linq-to-sql,transactions,c#,linq,concurrency   \n",
       "1735000                       macos,xcode,c,debugging   \n",
       "1662904                          qt,c++,windows,linux   \n",
       "116701                      shell,windows,macos,linux   \n",
       "\n",
       "                                        SGD  \n",
       "Id                                           \n",
       "1475635          (c++, c, pointers, struct)  \n",
       "190666         (c#, sql, linq, linq-to-sql)  \n",
       "1735000                            (xcode,)  \n",
       "1662904                           (c++, qt)  \n",
       "116701   (linux, bash, shell, asynchronous)  "
      ]
     },
     "execution_count": 29,
     "metadata": {},
     "output_type": "execute_result"
    }
   ],
   "source": [
    "transformer.join_predictions('SGD', preds).head()"
   ]
  },
  {
   "cell_type": "markdown",
   "metadata": {},
   "source": [
    "We notice that some *documents* have empty predictions.\\\n",
    "This behavior is unwanted, as we want to offer predictions for all the questions passed to the model. We will try to remediate to this issue in the next part."
   ]
  },
  {
   "cell_type": "code",
   "execution_count": 30,
   "metadata": {},
   "outputs": [
    {
     "name": "stdout",
     "output_type": "stream",
     "text": [
      "Ratio of target tags hit: 0.416\n",
      "Ratio of tags hit: 0.3504\n",
      "Average fill: 0.593\n"
     ]
    }
   ],
   "source": [
    "report.tags_ratio('SGD', transformer.test_df)"
   ]
  },
  {
   "cell_type": "markdown",
   "metadata": {},
   "source": [
    "### KNN"
   ]
  },
  {
   "cell_type": "code",
   "execution_count": 31,
   "metadata": {},
   "outputs": [
    {
     "name": "stdout",
     "output_type": "stream",
     "text": [
      "                     KNN\n",
      "Jaccard         0.147249\n",
      "Recall          0.153481\n",
      "Inference_time  0.002046\n",
      "Model_size_mb         99\n"
     ]
    }
   ],
   "source": [
    "knn_model = KNeighborsClassifier(n_neighbors=25, leaf_size=90, metric='euclidean')\n",
    "knn_model.fit(X_train.values, y_train.values)\n",
    "preds = knn_model.predict(X_test)\n",
    "report.evaluate('KNN', knn_model, X_test, y_test, preds)"
   ]
  },
  {
   "cell_type": "code",
   "execution_count": 32,
   "metadata": {},
   "outputs": [
    {
     "data": {
      "text/html": [
       "<div>\n",
       "<style scoped>\n",
       "    .dataframe tbody tr th:only-of-type {\n",
       "        vertical-align: middle;\n",
       "    }\n",
       "\n",
       "    .dataframe tbody tr th {\n",
       "        vertical-align: top;\n",
       "    }\n",
       "\n",
       "    .dataframe thead th {\n",
       "        text-align: right;\n",
       "    }\n",
       "</style>\n",
       "<table border=\"1\" class=\"dataframe\">\n",
       "  <thead>\n",
       "    <tr style=\"text-align: right;\">\n",
       "      <th></th>\n",
       "      <th>Title_Body_tokens</th>\n",
       "      <th>Tags_tokens</th>\n",
       "      <th>Tags_target</th>\n",
       "      <th>KNN</th>\n",
       "    </tr>\n",
       "    <tr>\n",
       "      <th>Id</th>\n",
       "      <th></th>\n",
       "      <th></th>\n",
       "      <th></th>\n",
       "      <th></th>\n",
       "    </tr>\n",
       "  </thead>\n",
       "  <tbody>\n",
       "    <tr>\n",
       "      <th>1475635</th>\n",
       "      <td>pointer,structure,return,pointer,struct,c,mean...</td>\n",
       "      <td>c,pointers,variables,struct,return</td>\n",
       "      <td>struct,pointers,c,variables</td>\n",
       "      <td>(c++, c, pointers)</td>\n",
       "    </tr>\n",
       "    <tr>\n",
       "      <th>190666</th>\n",
       "      <td>linq,sql,concurrency,issue,build,order,record,...</td>\n",
       "      <td>c#,linq,linq-to-sql,concurrency,transactions</td>\n",
       "      <td>linq-to-sql,transactions,c#,linq,concurrency</td>\n",
       "      <td>(c#,)</td>\n",
       "    </tr>\n",
       "    <tr>\n",
       "      <th>1735000</th>\n",
       "      <td>instrument,display,console,command,line,applic...</td>\n",
       "      <td>c,xcode,debugging,macos,instruments</td>\n",
       "      <td>macos,xcode,c,debugging</td>\n",
       "      <td>()</td>\n",
       "    </tr>\n",
       "    <tr>\n",
       "      <th>1662904</th>\n",
       "      <td>qt,setting,part,qt,effort,payback,road,questio...</td>\n",
       "      <td>c++,windows,linux,qt,qt4</td>\n",
       "      <td>qt,c++,windows,linux</td>\n",
       "      <td>(c++, qt)</td>\n",
       "    </tr>\n",
       "    <tr>\n",
       "      <th>116701</th>\n",
       "      <td>program,background,way,c,program,command,line,...</td>\n",
       "      <td>windows,linux,macos,shell,background</td>\n",
       "      <td>shell,windows,macos,linux</td>\n",
       "      <td>(shell,)</td>\n",
       "    </tr>\n",
       "  </tbody>\n",
       "</table>\n",
       "</div>"
      ],
      "text/plain": [
       "                                         Title_Body_tokens  \\\n",
       "Id                                                           \n",
       "1475635  pointer,structure,return,pointer,struct,c,mean...   \n",
       "190666   linq,sql,concurrency,issue,build,order,record,...   \n",
       "1735000  instrument,display,console,command,line,applic...   \n",
       "1662904  qt,setting,part,qt,effort,payback,road,questio...   \n",
       "116701   program,background,way,c,program,command,line,...   \n",
       "\n",
       "                                          Tags_tokens  \\\n",
       "Id                                                      \n",
       "1475635            c,pointers,variables,struct,return   \n",
       "190666   c#,linq,linq-to-sql,concurrency,transactions   \n",
       "1735000           c,xcode,debugging,macos,instruments   \n",
       "1662904                      c++,windows,linux,qt,qt4   \n",
       "116701           windows,linux,macos,shell,background   \n",
       "\n",
       "                                          Tags_target                 KNN  \n",
       "Id                                                                         \n",
       "1475635                   struct,pointers,c,variables  (c++, c, pointers)  \n",
       "190666   linq-to-sql,transactions,c#,linq,concurrency               (c#,)  \n",
       "1735000                       macos,xcode,c,debugging                  ()  \n",
       "1662904                          qt,c++,windows,linux           (c++, qt)  \n",
       "116701                      shell,windows,macos,linux            (shell,)  "
      ]
     },
     "execution_count": 32,
     "metadata": {},
     "output_type": "execute_result"
    }
   ],
   "source": [
    "transformer.join_predictions('KNN', preds).head()"
   ]
  },
  {
   "cell_type": "code",
   "execution_count": 33,
   "metadata": {},
   "outputs": [
    {
     "name": "stdout",
     "output_type": "stream",
     "text": [
      "Ratio of target tags hit: 0.1536\n",
      "Ratio of tags hit: 0.1295\n",
      "Average fill: 0.2022\n"
     ]
    }
   ],
   "source": [
    "report.tags_ratio('KNN', transformer.test_df)"
   ]
  },
  {
   "cell_type": "markdown",
   "metadata": {},
   "source": [
    "We obtain interesting results, a few rows have actually been predicted by the model, this is because the model outputs low porbabilities for most of its predictions.\n",
    "\n",
    "In order to obtain 5 tags, we are going to use the *predict_proba* method to output predictions with lower probability, using the following function:"
   ]
  },
  {
   "cell_type": "code",
   "execution_count": 34,
   "metadata": {},
   "outputs": [],
   "source": [
    "def get_firsts(preds_proba, n_first=5):\n",
    "\n",
    "    result = np.array([\n",
    "        np.where(pred >= np.partition(pred, -n_first)[-n_first], 1, 0)\n",
    "        for pred in np.array([pred[:,1] for pred in preds_proba\n",
    "        ]).transpose()])\n",
    "\n",
    "    return result"
   ]
  },
  {
   "cell_type": "code",
   "execution_count": 35,
   "metadata": {},
   "outputs": [
    {
     "name": "stdout",
     "output_type": "stream",
     "text": [
      "                   KNN_5\n",
      "Jaccard         0.325648\n",
      "Recall          0.538798\n",
      "Inference_time  0.002036\n",
      "Model_size_mb         99\n"
     ]
    }
   ],
   "source": [
    "preds_proba = knn_model.predict_proba(X_test.values)\n",
    "preds_firsts = get_firsts(preds_proba)\n",
    "report.evaluate('KNN_5', knn_model, X_test, y_test, preds_firsts)"
   ]
  },
  {
   "cell_type": "code",
   "execution_count": 36,
   "metadata": {},
   "outputs": [
    {
     "data": {
      "text/html": [
       "<div>\n",
       "<style scoped>\n",
       "    .dataframe tbody tr th:only-of-type {\n",
       "        vertical-align: middle;\n",
       "    }\n",
       "\n",
       "    .dataframe tbody tr th {\n",
       "        vertical-align: top;\n",
       "    }\n",
       "\n",
       "    .dataframe thead th {\n",
       "        text-align: right;\n",
       "    }\n",
       "</style>\n",
       "<table border=\"1\" class=\"dataframe\">\n",
       "  <thead>\n",
       "    <tr style=\"text-align: right;\">\n",
       "      <th></th>\n",
       "      <th>Title_Body_tokens</th>\n",
       "      <th>Tags_tokens</th>\n",
       "      <th>Tags_target</th>\n",
       "      <th>KNN_5</th>\n",
       "    </tr>\n",
       "    <tr>\n",
       "      <th>Id</th>\n",
       "      <th></th>\n",
       "      <th></th>\n",
       "      <th></th>\n",
       "      <th></th>\n",
       "    </tr>\n",
       "  </thead>\n",
       "  <tbody>\n",
       "    <tr>\n",
       "      <th>1475635</th>\n",
       "      <td>pointer,structure,return,pointer,struct,c,mean...</td>\n",
       "      <td>c,pointers,variables,struct,return</td>\n",
       "      <td>struct,pointers,c,variables</td>\n",
       "      <td>(c++, c, arrays, pointers, struct)</td>\n",
       "    </tr>\n",
       "    <tr>\n",
       "      <th>190666</th>\n",
       "      <td>linq,sql,concurrency,issue,build,order,record,...</td>\n",
       "      <td>c#,linq,linq-to-sql,concurrency,transactions</td>\n",
       "      <td>linq-to-sql,transactions,c#,linq,concurrency</td>\n",
       "      <td>(c#, .net, sql, sql-server, linq-to-sql)</td>\n",
       "    </tr>\n",
       "    <tr>\n",
       "      <th>1735000</th>\n",
       "      <td>instrument,display,console,command,line,applic...</td>\n",
       "      <td>c,xcode,debugging,macos,instruments</td>\n",
       "      <td>macos,xcode,c,debugging</td>\n",
       "      <td>(c#, .net, c++, unix, command-line)</td>\n",
       "    </tr>\n",
       "    <tr>\n",
       "      <th>1662904</th>\n",
       "      <td>qt,setting,part,qt,effort,payback,road,questio...</td>\n",
       "      <td>c++,windows,linux,qt,qt4</td>\n",
       "      <td>qt,c++,windows,linux</td>\n",
       "      <td>(c++, windows, visual-studio, user-interface, ...</td>\n",
       "    </tr>\n",
       "    <tr>\n",
       "      <th>116701</th>\n",
       "      <td>program,background,way,c,program,command,line,...</td>\n",
       "      <td>windows,linux,macos,shell,background</td>\n",
       "      <td>shell,windows,macos,linux</td>\n",
       "      <td>(c++, linux, unix, shell, process)</td>\n",
       "    </tr>\n",
       "  </tbody>\n",
       "</table>\n",
       "</div>"
      ],
      "text/plain": [
       "                                         Title_Body_tokens  \\\n",
       "Id                                                           \n",
       "1475635  pointer,structure,return,pointer,struct,c,mean...   \n",
       "190666   linq,sql,concurrency,issue,build,order,record,...   \n",
       "1735000  instrument,display,console,command,line,applic...   \n",
       "1662904  qt,setting,part,qt,effort,payback,road,questio...   \n",
       "116701   program,background,way,c,program,command,line,...   \n",
       "\n",
       "                                          Tags_tokens  \\\n",
       "Id                                                      \n",
       "1475635            c,pointers,variables,struct,return   \n",
       "190666   c#,linq,linq-to-sql,concurrency,transactions   \n",
       "1735000           c,xcode,debugging,macos,instruments   \n",
       "1662904                      c++,windows,linux,qt,qt4   \n",
       "116701           windows,linux,macos,shell,background   \n",
       "\n",
       "                                          Tags_target  \\\n",
       "Id                                                      \n",
       "1475635                   struct,pointers,c,variables   \n",
       "190666   linq-to-sql,transactions,c#,linq,concurrency   \n",
       "1735000                       macos,xcode,c,debugging   \n",
       "1662904                          qt,c++,windows,linux   \n",
       "116701                      shell,windows,macos,linux   \n",
       "\n",
       "                                                     KNN_5  \n",
       "Id                                                          \n",
       "1475635                 (c++, c, arrays, pointers, struct)  \n",
       "190666            (c#, .net, sql, sql-server, linq-to-sql)  \n",
       "1735000                (c#, .net, c++, unix, command-line)  \n",
       "1662904  (c++, windows, visual-studio, user-interface, ...  \n",
       "116701                  (c++, linux, unix, shell, process)  "
      ]
     },
     "execution_count": 36,
     "metadata": {},
     "output_type": "execute_result"
    }
   ],
   "source": [
    "transformer.join_predictions('KNN_5', preds_firsts).head()"
   ]
  },
  {
   "cell_type": "markdown",
   "metadata": {},
   "source": [
    "We observe an *average fill* superior to 1, which is normal, it compares the lenght of the filtered *target tags* to the number of predicted tags, of which we now have 5 for each *document*:"
   ]
  },
  {
   "cell_type": "code",
   "execution_count": 37,
   "metadata": {},
   "outputs": [
    {
     "name": "stdout",
     "output_type": "stream",
     "text": [
      "Ratio of target tags hit: 0.4706\n",
      "Ratio of tags hit: 0.3968\n",
      "Average fill: 1.3867\n"
     ]
    }
   ],
   "source": [
    "report.tags_ratio('KNN_5', transformer.test_df)"
   ]
  },
  {
   "cell_type": "markdown",
   "metadata": {},
   "source": [
    "### Random Forest"
   ]
  },
  {
   "cell_type": "code",
   "execution_count": 38,
   "metadata": {},
   "outputs": [
    {
     "name": "stdout",
     "output_type": "stream",
     "text": [
      "               Random_Forest\n",
      "Jaccard             0.020073\n",
      "Recall               0.01985\n",
      "Inference_time      0.000841\n",
      "Model_size_mb           5044\n"
     ]
    }
   ],
   "source": [
    "rfc_model = RandomForestClassifier()\n",
    "rfc_model.fit(X_train, y_train)\n",
    "preds = rfc_model.predict(X_test)\n",
    "preds_proba = rfc_model.predict_proba(X_test)\n",
    "report.evaluate('Random_Forest', rfc_model, X_test, y_test, preds)"
   ]
  },
  {
   "cell_type": "code",
   "execution_count": 39,
   "metadata": {},
   "outputs": [
    {
     "data": {
      "text/html": [
       "<div>\n",
       "<style scoped>\n",
       "    .dataframe tbody tr th:only-of-type {\n",
       "        vertical-align: middle;\n",
       "    }\n",
       "\n",
       "    .dataframe tbody tr th {\n",
       "        vertical-align: top;\n",
       "    }\n",
       "\n",
       "    .dataframe thead th {\n",
       "        text-align: right;\n",
       "    }\n",
       "</style>\n",
       "<table border=\"1\" class=\"dataframe\">\n",
       "  <thead>\n",
       "    <tr style=\"text-align: right;\">\n",
       "      <th></th>\n",
       "      <th>Title_Body_tokens</th>\n",
       "      <th>Tags_tokens</th>\n",
       "      <th>Tags_target</th>\n",
       "      <th>Random_Forest</th>\n",
       "    </tr>\n",
       "    <tr>\n",
       "      <th>Id</th>\n",
       "      <th></th>\n",
       "      <th></th>\n",
       "      <th></th>\n",
       "      <th></th>\n",
       "    </tr>\n",
       "  </thead>\n",
       "  <tbody>\n",
       "    <tr>\n",
       "      <th>1475635</th>\n",
       "      <td>pointer,structure,return,pointer,struct,c,mean...</td>\n",
       "      <td>c,pointers,variables,struct,return</td>\n",
       "      <td>struct,pointers,c,variables</td>\n",
       "      <td>(c++,)</td>\n",
       "    </tr>\n",
       "    <tr>\n",
       "      <th>190666</th>\n",
       "      <td>linq,sql,concurrency,issue,build,order,record,...</td>\n",
       "      <td>c#,linq,linq-to-sql,concurrency,transactions</td>\n",
       "      <td>linq-to-sql,transactions,c#,linq,concurrency</td>\n",
       "      <td>()</td>\n",
       "    </tr>\n",
       "    <tr>\n",
       "      <th>1735000</th>\n",
       "      <td>instrument,display,console,command,line,applic...</td>\n",
       "      <td>c,xcode,debugging,macos,instruments</td>\n",
       "      <td>macos,xcode,c,debugging</td>\n",
       "      <td>()</td>\n",
       "    </tr>\n",
       "    <tr>\n",
       "      <th>1662904</th>\n",
       "      <td>qt,setting,part,qt,effort,payback,road,questio...</td>\n",
       "      <td>c++,windows,linux,qt,qt4</td>\n",
       "      <td>qt,c++,windows,linux</td>\n",
       "      <td>()</td>\n",
       "    </tr>\n",
       "    <tr>\n",
       "      <th>116701</th>\n",
       "      <td>program,background,way,c,program,command,line,...</td>\n",
       "      <td>windows,linux,macos,shell,background</td>\n",
       "      <td>shell,windows,macos,linux</td>\n",
       "      <td>()</td>\n",
       "    </tr>\n",
       "  </tbody>\n",
       "</table>\n",
       "</div>"
      ],
      "text/plain": [
       "                                         Title_Body_tokens  \\\n",
       "Id                                                           \n",
       "1475635  pointer,structure,return,pointer,struct,c,mean...   \n",
       "190666   linq,sql,concurrency,issue,build,order,record,...   \n",
       "1735000  instrument,display,console,command,line,applic...   \n",
       "1662904  qt,setting,part,qt,effort,payback,road,questio...   \n",
       "116701   program,background,way,c,program,command,line,...   \n",
       "\n",
       "                                          Tags_tokens  \\\n",
       "Id                                                      \n",
       "1475635            c,pointers,variables,struct,return   \n",
       "190666   c#,linq,linq-to-sql,concurrency,transactions   \n",
       "1735000           c,xcode,debugging,macos,instruments   \n",
       "1662904                      c++,windows,linux,qt,qt4   \n",
       "116701           windows,linux,macos,shell,background   \n",
       "\n",
       "                                          Tags_target Random_Forest  \n",
       "Id                                                                   \n",
       "1475635                   struct,pointers,c,variables        (c++,)  \n",
       "190666   linq-to-sql,transactions,c#,linq,concurrency            ()  \n",
       "1735000                       macos,xcode,c,debugging            ()  \n",
       "1662904                          qt,c++,windows,linux            ()  \n",
       "116701                      shell,windows,macos,linux            ()  "
      ]
     },
     "execution_count": 39,
     "metadata": {},
     "output_type": "execute_result"
    }
   ],
   "source": [
    "transformer.join_predictions('Random_Forest', preds).head()"
   ]
  },
  {
   "cell_type": "code",
   "execution_count": 40,
   "metadata": {},
   "outputs": [
    {
     "name": "stdout",
     "output_type": "stream",
     "text": [
      "Ratio of target tags hit: 0.0202\n",
      "Ratio of tags hit: 0.0168\n",
      "Average fill: 0.0236\n"
     ]
    }
   ],
   "source": [
    "report.tags_ratio('Random_Forest', transformer.test_df)"
   ]
  },
  {
   "cell_type": "code",
   "execution_count": 41,
   "metadata": {},
   "outputs": [
    {
     "name": "stdout",
     "output_type": "stream",
     "text": [
      "               Random_Forest_5\n",
      "Jaccard               0.266762\n",
      "Recall                0.440878\n",
      "Inference_time        0.001079\n",
      "Model_size_mb             5044\n"
     ]
    }
   ],
   "source": [
    "preds_firsts = get_firsts(preds_proba, 5)\n",
    "report.evaluate('Random_Forest_5', rfc_model, X_test, y_test, preds_firsts)"
   ]
  },
  {
   "cell_type": "code",
   "execution_count": 42,
   "metadata": {},
   "outputs": [
    {
     "data": {
      "text/html": [
       "<div>\n",
       "<style scoped>\n",
       "    .dataframe tbody tr th:only-of-type {\n",
       "        vertical-align: middle;\n",
       "    }\n",
       "\n",
       "    .dataframe tbody tr th {\n",
       "        vertical-align: top;\n",
       "    }\n",
       "\n",
       "    .dataframe thead th {\n",
       "        text-align: right;\n",
       "    }\n",
       "</style>\n",
       "<table border=\"1\" class=\"dataframe\">\n",
       "  <thead>\n",
       "    <tr style=\"text-align: right;\">\n",
       "      <th></th>\n",
       "      <th>Title_Body_tokens</th>\n",
       "      <th>Tags_tokens</th>\n",
       "      <th>Tags_target</th>\n",
       "      <th>Random_Forest_5</th>\n",
       "    </tr>\n",
       "    <tr>\n",
       "      <th>Id</th>\n",
       "      <th></th>\n",
       "      <th></th>\n",
       "      <th></th>\n",
       "      <th></th>\n",
       "    </tr>\n",
       "  </thead>\n",
       "  <tbody>\n",
       "    <tr>\n",
       "      <th>1475635</th>\n",
       "      <td>pointer,structure,return,pointer,struct,c,mean...</td>\n",
       "      <td>c,pointers,variables,struct,return</td>\n",
       "      <td>struct,pointers,c,variables</td>\n",
       "      <td>(c#, c++, c, arrays, pointers, struct)</td>\n",
       "    </tr>\n",
       "    <tr>\n",
       "      <th>190666</th>\n",
       "      <td>linq,sql,concurrency,issue,build,order,record,...</td>\n",
       "      <td>c#,linq,linq-to-sql,concurrency,transactions</td>\n",
       "      <td>linq-to-sql,transactions,c#,linq,concurrency</td>\n",
       "      <td>(c#, java, .net, sql, database)</td>\n",
       "    </tr>\n",
       "    <tr>\n",
       "      <th>1735000</th>\n",
       "      <td>instrument,display,console,command,line,applic...</td>\n",
       "      <td>c,xcode,debugging,macos,instruments</td>\n",
       "      <td>macos,xcode,c,debugging</td>\n",
       "      <td>(c#, .net, c++, c, linux)</td>\n",
       "    </tr>\n",
       "    <tr>\n",
       "      <th>1662904</th>\n",
       "      <td>qt,setting,part,qt,effort,payback,road,questio...</td>\n",
       "      <td>c++,windows,linux,qt,qt4</td>\n",
       "      <td>qt,c++,windows,linux</td>\n",
       "      <td>(c#, .net, c++, iphone, objective-c, ios)</td>\n",
       "    </tr>\n",
       "    <tr>\n",
       "      <th>116701</th>\n",
       "      <td>program,background,way,c,program,command,line,...</td>\n",
       "      <td>windows,linux,macos,shell,background</td>\n",
       "      <td>shell,windows,macos,linux</td>\n",
       "      <td>(c++, linux, windows, bash, shell)</td>\n",
       "    </tr>\n",
       "  </tbody>\n",
       "</table>\n",
       "</div>"
      ],
      "text/plain": [
       "                                         Title_Body_tokens  \\\n",
       "Id                                                           \n",
       "1475635  pointer,structure,return,pointer,struct,c,mean...   \n",
       "190666   linq,sql,concurrency,issue,build,order,record,...   \n",
       "1735000  instrument,display,console,command,line,applic...   \n",
       "1662904  qt,setting,part,qt,effort,payback,road,questio...   \n",
       "116701   program,background,way,c,program,command,line,...   \n",
       "\n",
       "                                          Tags_tokens  \\\n",
       "Id                                                      \n",
       "1475635            c,pointers,variables,struct,return   \n",
       "190666   c#,linq,linq-to-sql,concurrency,transactions   \n",
       "1735000           c,xcode,debugging,macos,instruments   \n",
       "1662904                      c++,windows,linux,qt,qt4   \n",
       "116701           windows,linux,macos,shell,background   \n",
       "\n",
       "                                          Tags_target  \\\n",
       "Id                                                      \n",
       "1475635                   struct,pointers,c,variables   \n",
       "190666   linq-to-sql,transactions,c#,linq,concurrency   \n",
       "1735000                       macos,xcode,c,debugging   \n",
       "1662904                          qt,c++,windows,linux   \n",
       "116701                      shell,windows,macos,linux   \n",
       "\n",
       "                                   Random_Forest_5  \n",
       "Id                                                  \n",
       "1475635     (c#, c++, c, arrays, pointers, struct)  \n",
       "190666             (c#, java, .net, sql, database)  \n",
       "1735000                  (c#, .net, c++, c, linux)  \n",
       "1662904  (c#, .net, c++, iphone, objective-c, ios)  \n",
       "116701          (c++, linux, windows, bash, shell)  "
      ]
     },
     "execution_count": 42,
     "metadata": {},
     "output_type": "execute_result"
    }
   ],
   "source": [
    "transformer.join_predictions('Random_Forest_5', preds_firsts).head()"
   ]
  },
  {
   "cell_type": "code",
   "execution_count": 43,
   "metadata": {},
   "outputs": [
    {
     "name": "stdout",
     "output_type": "stream",
     "text": [
      "Ratio of target tags hit: 0.417\n",
      "Ratio of tags hit: 0.3515\n",
      "Average fill: 1.2591\n"
     ]
    }
   ],
   "source": [
    "preds_df = transformer.test_df\n",
    "report.tags_ratio('Random_Forest_5', transformer.test_df)"
   ]
  },
  {
   "cell_type": "markdown",
   "metadata": {},
   "source": [
    "#### *High-end Random forest*"
   ]
  },
  {
   "cell_type": "markdown",
   "metadata": {},
   "source": [
    "We noticed that the dimensional reduction was highly detrimental to the *RandomForest* performances. We will fit a high performance model in order to show the performances that can be attained but which we won't be able to deploy because of its size. \n",
    "\n",
    "We generate a *dataset* with 250 *tags* and 1250 *features* to train our high-end model:"
   ]
  },
  {
   "cell_type": "code",
   "execution_count": 44,
   "metadata": {},
   "outputs": [
    {
     "name": "stdout",
     "output_type": "stream",
     "text": [
      "Dropped Train samples: 30000\n",
      "Dropped Test samples: 7505\n",
      "Train size: 10000\n",
      "Test size: 2495\n"
     ]
    }
   ],
   "source": [
    "X_train, X_test, y_train, y_test = transformer.gen_train_test(250, 1250, dimensional_red=False)"
   ]
  },
  {
   "cell_type": "code",
   "execution_count": 45,
   "metadata": {},
   "outputs": [
    {
     "name": "stdout",
     "output_type": "stream",
     "text": [
      "               Random_Forest_HE\n",
      "Jaccard                0.234456\n",
      "Recall                 0.246082\n",
      "Inference_time         0.000832\n",
      "Model_size_mb              5082\n"
     ]
    }
   ],
   "source": [
    "rfc_model_he = RandomForestClassifier()\n",
    "rfc_model_he.fit(X_train, y_train)\n",
    "preds = rfc_model_he.predict(X_test)\n",
    "preds_proba = rfc_model_he.predict_proba(X_test)\n",
    "report.evaluate('Random_Forest_HE', rfc_model_he, X_test, y_test, preds)"
   ]
  },
  {
   "cell_type": "code",
   "execution_count": 46,
   "metadata": {},
   "outputs": [
    {
     "data": {
      "text/html": [
       "<div>\n",
       "<style scoped>\n",
       "    .dataframe tbody tr th:only-of-type {\n",
       "        vertical-align: middle;\n",
       "    }\n",
       "\n",
       "    .dataframe tbody tr th {\n",
       "        vertical-align: top;\n",
       "    }\n",
       "\n",
       "    .dataframe thead th {\n",
       "        text-align: right;\n",
       "    }\n",
       "</style>\n",
       "<table border=\"1\" class=\"dataframe\">\n",
       "  <thead>\n",
       "    <tr style=\"text-align: right;\">\n",
       "      <th></th>\n",
       "      <th>Title_Body_tokens</th>\n",
       "      <th>Tags_tokens</th>\n",
       "      <th>Tags_target</th>\n",
       "      <th>Random_Forest_HE</th>\n",
       "    </tr>\n",
       "    <tr>\n",
       "      <th>Id</th>\n",
       "      <th></th>\n",
       "      <th></th>\n",
       "      <th></th>\n",
       "      <th></th>\n",
       "    </tr>\n",
       "  </thead>\n",
       "  <tbody>\n",
       "    <tr>\n",
       "      <th>1475635</th>\n",
       "      <td>pointer,structure,return,pointer,struct,c,mean...</td>\n",
       "      <td>c,pointers,variables,struct,return</td>\n",
       "      <td>struct,pointers,c,variables</td>\n",
       "      <td>(c++, c, pointers)</td>\n",
       "    </tr>\n",
       "    <tr>\n",
       "      <th>190666</th>\n",
       "      <td>linq,sql,concurrency,issue,build,order,record,...</td>\n",
       "      <td>c#,linq,linq-to-sql,concurrency,transactions</td>\n",
       "      <td>linq-to-sql,transactions,c#,linq,concurrency</td>\n",
       "      <td>(c#, linq)</td>\n",
       "    </tr>\n",
       "    <tr>\n",
       "      <th>1735000</th>\n",
       "      <td>instrument,display,console,command,line,applic...</td>\n",
       "      <td>c,xcode,debugging,macos,instruments</td>\n",
       "      <td>macos,xcode,c,debugging</td>\n",
       "      <td>(xcode,)</td>\n",
       "    </tr>\n",
       "    <tr>\n",
       "      <th>1662904</th>\n",
       "      <td>qt,setting,part,qt,effort,payback,road,questio...</td>\n",
       "      <td>c++,windows,linux,qt,qt4</td>\n",
       "      <td>qt,c++,windows,linux</td>\n",
       "      <td>(java,)</td>\n",
       "    </tr>\n",
       "    <tr>\n",
       "      <th>116701</th>\n",
       "      <td>program,background,way,c,program,command,line,...</td>\n",
       "      <td>windows,linux,macos,shell,background</td>\n",
       "      <td>shell,windows,macos,linux</td>\n",
       "      <td>()</td>\n",
       "    </tr>\n",
       "  </tbody>\n",
       "</table>\n",
       "</div>"
      ],
      "text/plain": [
       "                                         Title_Body_tokens  \\\n",
       "Id                                                           \n",
       "1475635  pointer,structure,return,pointer,struct,c,mean...   \n",
       "190666   linq,sql,concurrency,issue,build,order,record,...   \n",
       "1735000  instrument,display,console,command,line,applic...   \n",
       "1662904  qt,setting,part,qt,effort,payback,road,questio...   \n",
       "116701   program,background,way,c,program,command,line,...   \n",
       "\n",
       "                                          Tags_tokens  \\\n",
       "Id                                                      \n",
       "1475635            c,pointers,variables,struct,return   \n",
       "190666   c#,linq,linq-to-sql,concurrency,transactions   \n",
       "1735000           c,xcode,debugging,macos,instruments   \n",
       "1662904                      c++,windows,linux,qt,qt4   \n",
       "116701           windows,linux,macos,shell,background   \n",
       "\n",
       "                                          Tags_target    Random_Forest_HE  \n",
       "Id                                                                         \n",
       "1475635                   struct,pointers,c,variables  (c++, c, pointers)  \n",
       "190666   linq-to-sql,transactions,c#,linq,concurrency          (c#, linq)  \n",
       "1735000                       macos,xcode,c,debugging            (xcode,)  \n",
       "1662904                          qt,c++,windows,linux             (java,)  \n",
       "116701                      shell,windows,macos,linux                  ()  "
      ]
     },
     "execution_count": 46,
     "metadata": {},
     "output_type": "execute_result"
    }
   ],
   "source": [
    "transformer.join_predictions('Random_Forest_HE', preds).head()"
   ]
  },
  {
   "cell_type": "code",
   "execution_count": 47,
   "metadata": {},
   "outputs": [
    {
     "name": "stdout",
     "output_type": "stream",
     "text": [
      "Ratio of target tags hit: 0.2471\n",
      "Ratio of tags hit: 0.2077\n",
      "Average fill: 0.3117\n"
     ]
    }
   ],
   "source": [
    "report.tags_ratio('Random_Forest_HE', transformer.test_df)"
   ]
  },
  {
   "cell_type": "code",
   "execution_count": 48,
   "metadata": {},
   "outputs": [
    {
     "name": "stdout",
     "output_type": "stream",
     "text": [
      "               Random_Forest_HE_5\n",
      "Jaccard                  0.391486\n",
      "Recall                    0.58638\n",
      "Inference_time           0.000993\n",
      "Model_size_mb                5082\n"
     ]
    }
   ],
   "source": [
    "preds_firsts = get_firsts(preds_proba, 5)\n",
    "report.evaluate('Random_Forest_HE_5', rfc_model_he, X_test, y_test, preds_firsts)"
   ]
  },
  {
   "cell_type": "code",
   "execution_count": 49,
   "metadata": {},
   "outputs": [
    {
     "data": {
      "text/html": [
       "<div>\n",
       "<style scoped>\n",
       "    .dataframe tbody tr th:only-of-type {\n",
       "        vertical-align: middle;\n",
       "    }\n",
       "\n",
       "    .dataframe tbody tr th {\n",
       "        vertical-align: top;\n",
       "    }\n",
       "\n",
       "    .dataframe thead th {\n",
       "        text-align: right;\n",
       "    }\n",
       "</style>\n",
       "<table border=\"1\" class=\"dataframe\">\n",
       "  <thead>\n",
       "    <tr style=\"text-align: right;\">\n",
       "      <th></th>\n",
       "      <th>Title_Body_tokens</th>\n",
       "      <th>Tags_tokens</th>\n",
       "      <th>Tags_target</th>\n",
       "      <th>Random_Forest_HE_5</th>\n",
       "    </tr>\n",
       "    <tr>\n",
       "      <th>Id</th>\n",
       "      <th></th>\n",
       "      <th></th>\n",
       "      <th></th>\n",
       "      <th></th>\n",
       "    </tr>\n",
       "  </thead>\n",
       "  <tbody>\n",
       "    <tr>\n",
       "      <th>1475635</th>\n",
       "      <td>pointer,structure,return,pointer,struct,c,mean...</td>\n",
       "      <td>c,pointers,variables,struct,return</td>\n",
       "      <td>struct,pointers,c,variables</td>\n",
       "      <td>(c++, c, arrays, pointers, struct)</td>\n",
       "    </tr>\n",
       "    <tr>\n",
       "      <th>190666</th>\n",
       "      <td>linq,sql,concurrency,issue,build,order,record,...</td>\n",
       "      <td>c#,linq,linq-to-sql,concurrency,transactions</td>\n",
       "      <td>linq-to-sql,transactions,c#,linq,concurrency</td>\n",
       "      <td>(c#, sql, sql-server, linq, linq-to-sql)</td>\n",
       "    </tr>\n",
       "    <tr>\n",
       "      <th>1735000</th>\n",
       "      <td>instrument,display,console,command,line,applic...</td>\n",
       "      <td>c,xcode,debugging,macos,instruments</td>\n",
       "      <td>macos,xcode,c,debugging</td>\n",
       "      <td>(iphone, objective-c, macos, xcode, debugging)</td>\n",
       "    </tr>\n",
       "    <tr>\n",
       "      <th>1662904</th>\n",
       "      <td>qt,setting,part,qt,effort,payback,road,questio...</td>\n",
       "      <td>c++,windows,linux,qt,qt4</td>\n",
       "      <td>qt,c++,windows,linux</td>\n",
       "      <td>(c#, java, .net, c++, user-interface, qt)</td>\n",
       "    </tr>\n",
       "    <tr>\n",
       "      <th>116701</th>\n",
       "      <td>program,background,way,c,program,command,line,...</td>\n",
       "      <td>windows,linux,macos,shell,background</td>\n",
       "      <td>shell,windows,macos,linux</td>\n",
       "      <td>(c++, linux, windows, bash, shell)</td>\n",
       "    </tr>\n",
       "  </tbody>\n",
       "</table>\n",
       "</div>"
      ],
      "text/plain": [
       "                                         Title_Body_tokens  \\\n",
       "Id                                                           \n",
       "1475635  pointer,structure,return,pointer,struct,c,mean...   \n",
       "190666   linq,sql,concurrency,issue,build,order,record,...   \n",
       "1735000  instrument,display,console,command,line,applic...   \n",
       "1662904  qt,setting,part,qt,effort,payback,road,questio...   \n",
       "116701   program,background,way,c,program,command,line,...   \n",
       "\n",
       "                                          Tags_tokens  \\\n",
       "Id                                                      \n",
       "1475635            c,pointers,variables,struct,return   \n",
       "190666   c#,linq,linq-to-sql,concurrency,transactions   \n",
       "1735000           c,xcode,debugging,macos,instruments   \n",
       "1662904                      c++,windows,linux,qt,qt4   \n",
       "116701           windows,linux,macos,shell,background   \n",
       "\n",
       "                                          Tags_target  \\\n",
       "Id                                                      \n",
       "1475635                   struct,pointers,c,variables   \n",
       "190666   linq-to-sql,transactions,c#,linq,concurrency   \n",
       "1735000                       macos,xcode,c,debugging   \n",
       "1662904                          qt,c++,windows,linux   \n",
       "116701                      shell,windows,macos,linux   \n",
       "\n",
       "                                     Random_Forest_HE_5  \n",
       "Id                                                       \n",
       "1475635              (c++, c, arrays, pointers, struct)  \n",
       "190666         (c#, sql, sql-server, linq, linq-to-sql)  \n",
       "1735000  (iphone, objective-c, macos, xcode, debugging)  \n",
       "1662904       (c#, java, .net, c++, user-interface, qt)  \n",
       "116701               (c++, linux, windows, bash, shell)  "
      ]
     },
     "execution_count": 49,
     "metadata": {},
     "output_type": "execute_result"
    }
   ],
   "source": [
    "transformer.join_predictions('Random_Forest_HE_5', preds_firsts).head()"
   ]
  },
  {
   "cell_type": "markdown",
   "metadata": {},
   "source": [
    "Thanks to this algorithm, we manage to predict close to 60% of the *filtered tags* and 50% of the *actual tags*."
   ]
  },
  {
   "cell_type": "code",
   "execution_count": 50,
   "metadata": {},
   "outputs": [
    {
     "name": "stdout",
     "output_type": "stream",
     "text": [
      "Ratio of target tags hit: 0.5743\n",
      "Ratio of tags hit: 0.4838\n",
      "Average fill: 1.2221\n"
     ]
    }
   ],
   "source": [
    "report.tags_ratio('Random_Forest_HE_5', transformer.test_df)"
   ]
  },
  {
   "cell_type": "markdown",
   "metadata": {},
   "source": [
    "# Exploring the results"
   ]
  },
  {
   "cell_type": "code",
   "execution_count": 52,
   "metadata": {},
   "outputs": [
    {
     "data": {
      "text/html": [
       "<div>\n",
       "<style scoped>\n",
       "    .dataframe tbody tr th:only-of-type {\n",
       "        vertical-align: middle;\n",
       "    }\n",
       "\n",
       "    .dataframe tbody tr th {\n",
       "        vertical-align: top;\n",
       "    }\n",
       "\n",
       "    .dataframe thead th {\n",
       "        text-align: right;\n",
       "    }\n",
       "</style>\n",
       "<table border=\"1\" class=\"dataframe\">\n",
       "  <thead>\n",
       "    <tr style=\"text-align: right;\">\n",
       "      <th></th>\n",
       "      <th>Jaccard</th>\n",
       "      <th>Recall</th>\n",
       "      <th>Inference_time</th>\n",
       "      <th>Model_size_mb</th>\n",
       "      <th>Targets_hit</th>\n",
       "      <th>Tags_hit</th>\n",
       "      <th>Fill</th>\n",
       "    </tr>\n",
       "  </thead>\n",
       "  <tbody>\n",
       "    <tr>\n",
       "      <th>LDA</th>\n",
       "      <td>NaN</td>\n",
       "      <td>NaN</td>\n",
       "      <td>NaN</td>\n",
       "      <td>NaN</td>\n",
       "      <td>0.163046</td>\n",
       "      <td>0.138036</td>\n",
       "      <td>1.184823</td>\n",
       "    </tr>\n",
       "    <tr>\n",
       "      <th>LogR</th>\n",
       "      <td>0.249908</td>\n",
       "      <td>0.268402</td>\n",
       "      <td>0.000368</td>\n",
       "      <td>2</td>\n",
       "      <td>0.268517</td>\n",
       "      <td>0.226373</td>\n",
       "      <td>0.342768</td>\n",
       "    </tr>\n",
       "    <tr>\n",
       "      <th>SVM</th>\n",
       "      <td>0.367723</td>\n",
       "      <td>0.41153</td>\n",
       "      <td>0.000372</td>\n",
       "      <td>2</td>\n",
       "      <td>0.4102</td>\n",
       "      <td>0.345491</td>\n",
       "      <td>0.561592</td>\n",
       "    </tr>\n",
       "    <tr>\n",
       "      <th>SGD</th>\n",
       "      <td>0.366004</td>\n",
       "      <td>0.417798</td>\n",
       "      <td>0.000373</td>\n",
       "      <td>2</td>\n",
       "      <td>0.416032</td>\n",
       "      <td>0.350381</td>\n",
       "      <td>0.593029</td>\n",
       "    </tr>\n",
       "    <tr>\n",
       "      <th>KNN</th>\n",
       "      <td>0.147249</td>\n",
       "      <td>0.153481</td>\n",
       "      <td>0.002046</td>\n",
       "      <td>99</td>\n",
       "      <td>0.153587</td>\n",
       "      <td>0.129539</td>\n",
       "      <td>0.202203</td>\n",
       "    </tr>\n",
       "    <tr>\n",
       "      <th>KNN_5</th>\n",
       "      <td>0.325648</td>\n",
       "      <td>0.538798</td>\n",
       "      <td>0.002036</td>\n",
       "      <td>99</td>\n",
       "      <td>0.470561</td>\n",
       "      <td>0.396794</td>\n",
       "      <td>1.386741</td>\n",
       "    </tr>\n",
       "    <tr>\n",
       "      <th>Random_Forest</th>\n",
       "      <td>0.020073</td>\n",
       "      <td>0.01985</td>\n",
       "      <td>0.000841</td>\n",
       "      <td>5044</td>\n",
       "      <td>0.02024</td>\n",
       "      <td>0.016754</td>\n",
       "      <td>0.023554</td>\n",
       "    </tr>\n",
       "    <tr>\n",
       "      <th>Random_Forest_5</th>\n",
       "      <td>0.266762</td>\n",
       "      <td>0.440878</td>\n",
       "      <td>0.001079</td>\n",
       "      <td>5044</td>\n",
       "      <td>0.417034</td>\n",
       "      <td>0.351503</td>\n",
       "      <td>1.259094</td>\n",
       "    </tr>\n",
       "    <tr>\n",
       "      <th>Random_Forest_HE</th>\n",
       "      <td>0.234456</td>\n",
       "      <td>0.246082</td>\n",
       "      <td>0.000832</td>\n",
       "      <td>5082</td>\n",
       "      <td>0.247114</td>\n",
       "      <td>0.207695</td>\n",
       "      <td>0.311711</td>\n",
       "    </tr>\n",
       "    <tr>\n",
       "      <th>Random_Forest_HE_5</th>\n",
       "      <td>0.391486</td>\n",
       "      <td>0.58638</td>\n",
       "      <td>0.000993</td>\n",
       "      <td>5082</td>\n",
       "      <td>0.574349</td>\n",
       "      <td>0.483848</td>\n",
       "      <td>1.222148</td>\n",
       "    </tr>\n",
       "  </tbody>\n",
       "</table>\n",
       "</div>"
      ],
      "text/plain": [
       "                     Jaccard    Recall Inference_time Model_size_mb  \\\n",
       "LDA                      NaN       NaN            NaN           NaN   \n",
       "LogR                0.249908  0.268402       0.000368             2   \n",
       "SVM                 0.367723   0.41153       0.000372             2   \n",
       "SGD                 0.366004  0.417798       0.000373             2   \n",
       "KNN                 0.147249  0.153481       0.002046            99   \n",
       "KNN_5               0.325648  0.538798       0.002036            99   \n",
       "Random_Forest       0.020073   0.01985       0.000841          5044   \n",
       "Random_Forest_5     0.266762  0.440878       0.001079          5044   \n",
       "Random_Forest_HE    0.234456  0.246082       0.000832          5082   \n",
       "Random_Forest_HE_5  0.391486   0.58638       0.000993          5082   \n",
       "\n",
       "                   Targets_hit  Tags_hit      Fill  \n",
       "LDA                   0.163046  0.138036  1.184823  \n",
       "LogR                  0.268517  0.226373  0.342768  \n",
       "SVM                     0.4102  0.345491  0.561592  \n",
       "SGD                   0.416032  0.350381  0.593029  \n",
       "KNN                   0.153587  0.129539  0.202203  \n",
       "KNN_5                 0.470561  0.396794  1.386741  \n",
       "Random_Forest          0.02024  0.016754  0.023554  \n",
       "Random_Forest_5       0.417034  0.351503  1.259094  \n",
       "Random_Forest_HE      0.247114  0.207695  0.311711  \n",
       "Random_Forest_HE_5    0.574349  0.483848  1.222148  "
      ]
     },
     "execution_count": 52,
     "metadata": {},
     "output_type": "execute_result"
    }
   ],
   "source": [
    "report.clean_files()\n",
    "report.get()"
   ]
  },
  {
   "cell_type": "markdown",
   "metadata": {},
   "source": [
    "The *KNN_select* model offers a good performance, a good *recall* score, while remaining of light size, for these reasons we are going to implement this model in our *API*.\n",
    "\n",
    "The following cell, when executed, pulls a random *sample* from the dataset to explore the behavior of the *KNN_select* (the *supervised tags*, compared to the *LDA unsupervised tags*):"
   ]
  },
  {
   "cell_type": "code",
   "execution_count": 53,
   "metadata": {},
   "outputs": [
    {
     "name": "stdout",
     "output_type": "stream",
     "text": [
      "\n",
      "    Title raw: Flipping OpenGL texture\n",
      "\n",
      "\n",
      "    Body tokens: ['load', 'texture', 'image', 'opengl', 'coordinate', 'system', 'way', 'flip', 'glscalef', '-1.0f', 'coordinate', 'texture', 'reverse', 'image', 'photoshop', 'know', 'method', 'load', 'png', 'texture', 'file', 'textureimage', 'struct', 'height', 'width', '*', 'data', 'right', 'opengl', 'try', 'game', 'cocoa', 'windowing', 'objective-c', 'language', 'thing', 'game', 'pixel', 'unit', 'set', 'origin', 'corner', 'preference', 'problem', 'thing', 'e.g', 'thanks']\n",
      "\n",
      "\n",
      "    Tags tokens: ['objective-c', 'opengl', 'image', 'macos', 'textures']\n",
      "\n",
      "\n",
      "    Supervised tags tokens: ('c#', 'javascript', 'jquery', 'image', 'image-processing')\n",
      "\n",
      "\n",
      "    Unsupervised tags tokens: ['image', 'http', 'browser', 'file', 'html']\n"
     ]
    }
   ],
   "source": [
    "sample = preds_df.sample(1)\n",
    "print(f\"\"\"\n",
    "    Title raw: {sample['Title'].values[0]}\\n\\n\n",
    "    Body tokens: {sample['Body_tokens'].values[0].split(',')}\\n\\n\n",
    "    Tags tokens: {sample['Tags_tokens'].values[0].split(',')}\\n\\n\n",
    "    Supervised tags tokens: {sample['KNN_5'].values[0]}\\n\\n\n",
    "    Unsupervised tags tokens: {sample['LDA'].values[0]}\"\"\")"
   ]
  },
  {
   "cell_type": "markdown",
   "metadata": {},
   "source": [
    "We can observe that the *LDA* model mainly pulls generic terms from the *document*, which is not, in our case, a wanted behavior. The *KNN_select* predictions seem way more pertinent."
   ]
  },
  {
   "cell_type": "markdown",
   "metadata": {},
   "source": [
    "# Saving files"
   ]
  },
  {
   "cell_type": "markdown",
   "metadata": {},
   "source": [
    "*For further use*"
   ]
  },
  {
   "cell_type": "code",
   "execution_count": 54,
   "metadata": {},
   "outputs": [
    {
     "data": {
      "text/plain": [
       "['./P5_03_api_code/model.joblib']"
      ]
     },
     "execution_count": 54,
     "metadata": {},
     "output_type": "execute_result"
    }
   ],
   "source": [
    "dump(transformer.multi_label_binarizer, './P5_03_api_code/multi_label_binarizer.joblib')\n",
    "dump(transformer.tfid_vectorizer, './P5_03_api_code/tfid_vectorizer.joblib')\n",
    "dump(transformer.truncated_svd, './P5_03_api_code/truncated_svd.joblib')\n",
    "dump(knn_model, './P5_03_api_code/model.joblib')"
   ]
  },
  {
   "cell_type": "markdown",
   "metadata": {},
   "source": [
    "# Conclusion"
   ]
  },
  {
   "cell_type": "markdown",
   "metadata": {},
   "source": [
    "We have succesfully transformed the data in order to train models to suggest *tags* for *StackOverflow* questions.\n",
    "\n",
    "We have selected a model to deploy to an *API endpoint*.\n",
    "\n",
    "The model is far from being the best as we were limited in terms of runtime and processing power. In order to obtain a working prototype, we have greatly reduced the data dimensionality.\n",
    "\n",
    "Of course, several enhancements can be suggested:\n",
    "* The use of more *training data*,\n",
    "* A more advance *data preprocessing* with the creation of a handmade *dictionary*,\n",
    "* The use of a *neuronet*.\n",
    "\n",
    "*Thank you for readng this project,*\n",
    "\n",
    "*Thibaud GROSJEAN*\n"
   ]
  }
 ],
 "metadata": {
  "interpreter": {
   "hash": "73bc5c77dda7f65b49ca8fa5fe9724c28e04e6082e3fc65fbc471f9985772223"
  },
  "kernelspec": {
   "display_name": "Python 3.9.10 ('P5')",
   "language": "python",
   "name": "python3"
  },
  "language_info": {
   "codemirror_mode": {
    "name": "ipython",
    "version": 3
   },
   "file_extension": ".py",
   "mimetype": "text/x-python",
   "name": "python",
   "nbconvert_exporter": "python",
   "pygments_lexer": "ipython3",
   "version": "3.9.10"
  },
  "orig_nbformat": 4
 },
 "nbformat": 4,
 "nbformat_minor": 2
}

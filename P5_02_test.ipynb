{
 "cells": [
  {
   "cell_type": "markdown",
   "metadata": {},
   "source": [
    "# Introduction"
   ]
  },
  {
   "cell_type": "markdown",
   "metadata": {},
   "source": [
    "In this project, we will implement a tags recommendation system for *StackOverflow* questions.\\\n",
    "*StackOverflow* is a reknown platform for questions and answers about programmation.\n",
    "* In the first notebook, we will extract the required data using the *StackExchange data explorer* tool, and explore the data.\n",
    "* In the second notebook, we will implement various *machine learning algorithms* and select the suitable inference model to deploy an *API endpoint*."
   ]
  },
  {
   "cell_type": "markdown",
   "metadata": {},
   "source": [
    "# Environment"
   ]
  },
  {
   "cell_type": "code",
   "execution_count": 1,
   "metadata": {},
   "outputs": [
    {
     "name": "stderr",
     "output_type": "stream",
     "text": [
      "/opt/homebrew/Caskroom/miniforge/base/envs/P5/lib/python3.9/site-packages/xgboost/compat.py:36: FutureWarning: pandas.Int64Index is deprecated and will be removed from pandas in a future version. Use pandas.Index with the appropriate dtype instead.\n",
      "  from pandas import MultiIndex, Int64Index\n"
     ]
    }
   ],
   "source": [
    "import pandas as pd\n",
    "import numpy as np\n",
    "from nltk.probability import FreqDist\n",
    "from IPython.display import Image\n",
    "import plotly.graph_objects as go\n",
    "from plotly.subplots import make_subplots\n",
    "from sklearn.feature_extraction.text import CountVectorizer, TfidfVectorizer\n",
    "from sklearn.metrics import recall_score,  hamming_loss, jaccard_score\n",
    "from sklearn.preprocessing import MultiLabelBinarizer\n",
    "from sklearn.model_selection import train_test_split\n",
    "from sklearn.multiclass import OneVsRestClassifier\n",
    "from sklearn.svm import LinearSVC\n",
    "from sklearn.neighbors import KNeighborsClassifier\n",
    "from sklearn.ensemble import RandomForestClassifier\n",
    "from sklearn.linear_model import SGDClassifier\n",
    "from sklearn.decomposition import PCA\n",
    "from DataGT.PCA import display_scree_plot\n",
    "from sklearn.linear_model import LogisticRegression\n",
    "from sklearn.decomposition import TruncatedSVD\n",
    "import gensim\n",
    "from gensim import corpora\n",
    "from gensim.models.ldamulticore import LdaMulticore\n",
    "from gensim.models import TfidfModel\n",
    "import pyLDAvis.gensim_models\n",
    "from gensim.models import CoherenceModel\n",
    "from imp import reload\n",
    "from xgboost import XGBClassifier\n",
    "from ttictoc import tic, toc\n",
    "from joblib import dump"
   ]
  },
  {
   "cell_type": "code",
   "execution_count": 2,
   "metadata": {},
   "outputs": [
    {
     "data": {
      "text/html": [
       "<div>\n",
       "<style scoped>\n",
       "    .dataframe tbody tr th:only-of-type {\n",
       "        vertical-align: middle;\n",
       "    }\n",
       "\n",
       "    .dataframe tbody tr th {\n",
       "        vertical-align: top;\n",
       "    }\n",
       "\n",
       "    .dataframe thead th {\n",
       "        text-align: right;\n",
       "    }\n",
       "</style>\n",
       "<table border=\"1\" class=\"dataframe\">\n",
       "  <thead>\n",
       "    <tr style=\"text-align: right;\">\n",
       "      <th></th>\n",
       "      <th>Title</th>\n",
       "      <th>Body</th>\n",
       "      <th>Tags</th>\n",
       "      <th>Body_tokens</th>\n",
       "      <th>Title_tokens</th>\n",
       "      <th>Tags_tokens</th>\n",
       "      <th>Title_Body_tokens</th>\n",
       "    </tr>\n",
       "    <tr>\n",
       "      <th>Id</th>\n",
       "      <th></th>\n",
       "      <th></th>\n",
       "      <th></th>\n",
       "      <th></th>\n",
       "      <th></th>\n",
       "      <th></th>\n",
       "      <th></th>\n",
       "    </tr>\n",
       "  </thead>\n",
       "  <tbody>\n",
       "    <tr>\n",
       "      <th>4</th>\n",
       "      <td>How to convert a Decimal to a Double in C#?</td>\n",
       "      <td>&lt;p&gt;I want to use a &lt;code&gt;Track-Bar&lt;/code&gt; to c...</td>\n",
       "      <td>&lt;c#&gt;&lt;floating-point&gt;&lt;type-conversion&gt;&lt;double&gt;&lt;...</td>\n",
       "      <td>use,change,opacity,code,application,error,work...</td>\n",
       "      <td>convert</td>\n",
       "      <td>c#,floating-point,type-conversion,double,decimal</td>\n",
       "      <td>convert,use,change,opacity,code,application,er...</td>\n",
       "    </tr>\n",
       "    <tr>\n",
       "      <th>11</th>\n",
       "      <td>Calculate relative time in C#</td>\n",
       "      <td>&lt;p&gt;Given a specific &lt;code&gt;DateTime&lt;/code&gt; valu...</td>\n",
       "      <td>&lt;c#&gt;&lt;datetime&gt;&lt;time&gt;&lt;datediff&gt;&lt;relative-time-s...</td>\n",
       "      <td>value,display,time,hour,day,month</td>\n",
       "      <td>calculate,time</td>\n",
       "      <td>c#,datetime,time,datediff,relative-time-span</td>\n",
       "      <td>calculate,time,value,display,time,hour,day,month</td>\n",
       "    </tr>\n",
       "    <tr>\n",
       "      <th>13</th>\n",
       "      <td>Determine a user's timezone</td>\n",
       "      <td>&lt;p&gt;Is there a standard way for a web server to...</td>\n",
       "      <td>&lt;html&gt;&lt;browser&gt;&lt;timezone&gt;&lt;user-agent&gt;&lt;timezone...</td>\n",
       "      <td>way,web,server,determine,user,timezone,page,he...</td>\n",
       "      <td>determine,user,timezone</td>\n",
       "      <td>html,browser,timezone,user-agent,timezone-offset</td>\n",
       "      <td>determine,user,timezone,way,web,server,determi...</td>\n",
       "    </tr>\n",
       "    <tr>\n",
       "      <th>19</th>\n",
       "      <td>What is the fastest way to get the value of π?</td>\n",
       "      <td>&lt;p&gt;I'm looking for the fastest way to obtain t...</td>\n",
       "      <td>&lt;performance&gt;&lt;algorithm&gt;&lt;language-agnostic&gt;&lt;un...</td>\n",
       "      <td>way,obtain,value,π,challenge,way,involve,const...</td>\n",
       "      <td>way,get,value,π</td>\n",
       "      <td>performance,algorithm,language-agnostic,unix,pi</td>\n",
       "      <td>way,get,value,π,way,obtain,value,π,challenge,w...</td>\n",
       "    </tr>\n",
       "    <tr>\n",
       "      <th>25</th>\n",
       "      <td>How to use the C socket API in C++ on z/OS</td>\n",
       "      <td>&lt;p&gt;I'm having issues getting the C sockets API...</td>\n",
       "      <td>&lt;c++&gt;&lt;c&gt;&lt;sockets&gt;&lt;mainframe&gt;&lt;zos&gt;</td>\n",
       "      <td>issue,socket,work,c++,z/os,get,time,error,some...</td>\n",
       "      <td>use,c,socket,api,c++,z/os</td>\n",
       "      <td>c++,c,sockets,mainframe,zos</td>\n",
       "      <td>use,c,socket,api,c++,z/os,issue,socket,work,c+...</td>\n",
       "    </tr>\n",
       "  </tbody>\n",
       "</table>\n",
       "</div>"
      ],
      "text/plain": [
       "                                             Title  \\\n",
       "Id                                                   \n",
       "4      How to convert a Decimal to a Double in C#?   \n",
       "11                   Calculate relative time in C#   \n",
       "13                     Determine a user's timezone   \n",
       "19  What is the fastest way to get the value of π?   \n",
       "25      How to use the C socket API in C++ on z/OS   \n",
       "\n",
       "                                                 Body  \\\n",
       "Id                                                      \n",
       "4   <p>I want to use a <code>Track-Bar</code> to c...   \n",
       "11  <p>Given a specific <code>DateTime</code> valu...   \n",
       "13  <p>Is there a standard way for a web server to...   \n",
       "19  <p>I'm looking for the fastest way to obtain t...   \n",
       "25  <p>I'm having issues getting the C sockets API...   \n",
       "\n",
       "                                                 Tags  \\\n",
       "Id                                                      \n",
       "4   <c#><floating-point><type-conversion><double><...   \n",
       "11  <c#><datetime><time><datediff><relative-time-s...   \n",
       "13  <html><browser><timezone><user-agent><timezone...   \n",
       "19  <performance><algorithm><language-agnostic><un...   \n",
       "25                  <c++><c><sockets><mainframe><zos>   \n",
       "\n",
       "                                          Body_tokens  \\\n",
       "Id                                                      \n",
       "4   use,change,opacity,code,application,error,work...   \n",
       "11                  value,display,time,hour,day,month   \n",
       "13  way,web,server,determine,user,timezone,page,he...   \n",
       "19  way,obtain,value,π,challenge,way,involve,const...   \n",
       "25  issue,socket,work,c++,z/os,get,time,error,some...   \n",
       "\n",
       "                 Title_tokens  \\\n",
       "Id                              \n",
       "4                     convert   \n",
       "11             calculate,time   \n",
       "13    determine,user,timezone   \n",
       "19            way,get,value,π   \n",
       "25  use,c,socket,api,c++,z/os   \n",
       "\n",
       "                                         Tags_tokens  \\\n",
       "Id                                                     \n",
       "4   c#,floating-point,type-conversion,double,decimal   \n",
       "11      c#,datetime,time,datediff,relative-time-span   \n",
       "13  html,browser,timezone,user-agent,timezone-offset   \n",
       "19   performance,algorithm,language-agnostic,unix,pi   \n",
       "25                       c++,c,sockets,mainframe,zos   \n",
       "\n",
       "                                    Title_Body_tokens  \n",
       "Id                                                     \n",
       "4   convert,use,change,opacity,code,application,er...  \n",
       "11   calculate,time,value,display,time,hour,day,month  \n",
       "13  determine,user,timezone,way,web,server,determi...  \n",
       "19  way,get,value,π,way,obtain,value,π,challenge,w...  \n",
       "25  use,c,socket,api,c++,z/os,issue,socket,work,c+...  "
      ]
     },
     "execution_count": 2,
     "metadata": {},
     "output_type": "execute_result"
    }
   ],
   "source": [
    "df = pd.read_csv('./data/df.csv', index_col=0)\n",
    "\n",
    "df.head()"
   ]
  },
  {
   "cell_type": "markdown",
   "metadata": {},
   "source": [
    "# Preprocessing"
   ]
  },
  {
   "cell_type": "markdown",
   "metadata": {},
   "source": [
    "In order to pass our data to the various models, we need to process it and transform it into numerical features.\n",
    "* First, we apply a split to generate a *traning* and a *test set*. The transformers will be fit on the training data to transform the test data, thus avoiding *data leakage*.\n",
    "* In order to limit dimensionality, we detect the terms with the highest frequencies on the train set and keep the corresponding terms in the test set. We apply this methodology for both the question *content* and *tags*.\n",
    "* We filter the *corpus* in order to keep the documents that have at least 3 *top tags* to improve the performance of the models.\n",
    "* We vectorize the *content* using a *TfidVectorizer*.\n",
    "* We vectorize the *tags* using a *MultiLabelBinarizer*.\n",
    "* In order to further reduce dimentionality, we apply a *TruncatedSVD* on the question *content* vectors.\n",
    "\n",
    "The following schema sums up the applied transformations:"
   ]
  },
  {
   "cell_type": "code",
   "execution_count": 3,
   "metadata": {},
   "outputs": [
    {
     "data": {
      "image/png": "[encoded data removed]",
      "text/plain": [
       "<IPython.core.display.Image object>"
      ]
     },
     "execution_count": 3,
     "metadata": {},
     "output_type": "execute_result"
    }
   ],
   "source": [
    "Image(filename='./assets/processing.png')"
   ]
  },
  {
   "cell_type": "code",
   "execution_count": 4,
   "metadata": {},
   "outputs": [],
   "source": [
    "def gen_frequencies(series):\n",
    "\n",
    "    dist = FreqDist(','.join(series).split(','))\n",
    "\n",
    "    return dist"
   ]
  },
  {
   "cell_type": "markdown",
   "metadata": {},
   "source": [
    "We create a function to extract the top terms from the frequencies dictionary:"
   ]
  },
  {
   "cell_type": "code",
   "execution_count": 5,
   "metadata": {},
   "outputs": [],
   "source": [
    "def extract_top(frequencies:dict, n_top:int):\n",
    "\n",
    "    top_values = pd.DataFrame(\n",
    "        {'Tag':frequencies.keys(), 'Frequency':frequencies.values()}\n",
    "        ).sort_values('Frequency', ascending=False).head(n_top)['Tag'].values\n",
    "    \n",
    "    return top_values"
   ]
  },
  {
   "cell_type": "markdown",
   "metadata": {},
   "source": [
    "We create a function to keep only the top terms for each value of a *series*:"
   ]
  },
  {
   "cell_type": "code",
   "execution_count": 6,
   "metadata": {},
   "outputs": [],
   "source": [
    "def keep_top(series:pd.Series, top_values:list):\n",
    "    \n",
    "    series = series.apply(lambda cell: list(set(cell.split(',')).intersection(top_values)))\n",
    "\n",
    "    return series"
   ]
  },
  {
   "cell_type": "markdown",
   "metadata": {},
   "source": [
    "We develop a *python class* to:\n",
    "* Fit the transformers,\n",
    "* Transform the dataset,\n",
    "* Transform the predictions of the models back into human readable format.\n",
    "\n",
    "We dispose of a limited processing power and choose to generate a *X set* with 600 features reduced to 350, and a *y set* 200 *tags*:"
   ]
  },
  {
   "cell_type": "code",
   "execution_count": 7,
   "metadata": {},
   "outputs": [
    {
     "name": "stdout",
     "output_type": "stream",
     "text": [
      "Dropped Train samples: 30000\n",
      "Dropped Test samples: 7505\n",
      "TruncatedSVD explained variance ratio: 0.96\n",
      "Train size: 10000\n",
      "Test size: 2495\n"
     ]
    }
   ],
   "source": [
    "class DatasetTransformer():\n",
    "\n",
    "    def __init__(self, df:pd.DataFrame, X:str, y:str):\n",
    "\n",
    "        self.dataset = df\n",
    "        self.X = X\n",
    "        self.y = y\n",
    "        self.X_values = df[X]\n",
    "        self.y_values = df[y]\n",
    "        self.test_df = None\n",
    "        self.multi_label_binarizer = None\n",
    "        self.tfid_vectorizer = None\n",
    "        self.truncated_svd = None\n",
    "    \n",
    "    def gen_train_test(self, top_tags, max_features, n_components=None, dimensional_red=True):\n",
    "        \n",
    "        # Apply a train test split on the data\n",
    "        X_train, X_test, y_train, y_test = train_test_split(\n",
    "            self.X_values,\n",
    "            self.y_values,\n",
    "            test_size=0.2,\n",
    "            random_state=42)\n",
    "        \n",
    "        # y processing\n",
    "\n",
    "        # Calculate the tags frequencies\n",
    "        y_frequencies = gen_frequencies(y_train)\n",
    "        # Extract the top tags\n",
    "        self.top_tags = extract_top(y_frequencies, top_tags)\n",
    "        # Keep only the top tags from the target\n",
    "        y_train = keep_top(y_train, self.top_tags)\n",
    "        y_test = keep_top(y_test, self.top_tags)\n",
    "\n",
    "        # Drop the empty rows with to few filtered tags\n",
    "        train_drop = y_train[y_train.map(len) <= 3].keys()\n",
    "        test_drop = y_test[y_test.map(len) <= 3].keys()\n",
    "        y_train.drop(train_drop,inplace=True)\n",
    "        y_test.drop(test_drop,inplace=True)\n",
    "\n",
    "        self.X_train_raw = X_train\n",
    "        self.X_test_raw = X_test\n",
    "        self.y_train_raw = y_train\n",
    "        self.y_test_raw = y_test\n",
    "\n",
    "        print(f'Dropped Train samples: {train_drop.shape[0]}')\n",
    "        print(f'Dropped Test samples: {test_drop.shape[0]}')\n",
    "\n",
    "        # Binarize the target\n",
    "        self.multi_label_binarizer = MultiLabelBinarizer(classes=self.top_tags)\n",
    "        y_train_matrix = self.multi_label_binarizer.fit_transform(y_train)\n",
    "        y_test_matrix = self.multi_label_binarizer.transform(y_test)\n",
    "        \n",
    "        # Convert the matrixes back to pandas DataFrames\n",
    "        tags = self.multi_label_binarizer.classes_\n",
    "        y_train_df = pd.DataFrame(\n",
    "            data=y_train_matrix,\n",
    "            index=y_train.index,\n",
    "            columns=tags)\n",
    "        y_test_df = pd.DataFrame(\n",
    "            data=y_test_matrix,\n",
    "            index=y_test.index,\n",
    "            columns=tags)\n",
    "\n",
    "        # Extract the y data to join predictions later\n",
    "        self.test_df = self.dataset.loc[y_test_df.index, :]\n",
    "        self.test_df['Tags_target'] = y_test.str.join(',')\n",
    "\n",
    "        # X processing\n",
    "\n",
    "        X_train.drop(train_drop, inplace=True)\n",
    "        X_test.drop(test_drop, inplace=True)\n",
    "        # Keep the terms with the top frequencies using the max_features arg\n",
    "        self.tfid_vectorizer = TfidfVectorizer(max_features=max_features)\n",
    "        # Fit and transform with the Tfid vectorizer on X train\n",
    "        self.X_train_matrix = self.tfid_vectorizer.fit_transform(X_train)\n",
    "        # Transform X test\n",
    "        self.X_test_matrix = self.tfid_vectorizer.transform(X_test)\n",
    "\n",
    "        # Convert matrixes to dataframe to be used with the Random Forest\n",
    "        features = self.tfid_vectorizer.get_feature_names_out()\n",
    "        X_train_df = pd.DataFrame(\n",
    "            data=self.X_train_matrix.toarray(),\n",
    "            index=X_train.index,\n",
    "            columns=features)\n",
    "        X_test_df = pd.DataFrame(\n",
    "            data=self.X_test_matrix.toarray(),\n",
    "            index=X_test.index,\n",
    "            columns=features)\n",
    "\n",
    "        if dimensional_red:\n",
    "            # Apply TruncatedSVD to reduce dimentionality\n",
    "            self.truncated_svd = TruncatedSVD(n_components=n_components)\n",
    "            self.X_train_matrix = self.truncated_svd.fit_transform(self.X_train_matrix)\n",
    "            # Transform X test\n",
    "            self.X_test_matrix = self.truncated_svd.transform(self.X_test_matrix)\n",
    "\n",
    "            explained_variance = round(sum(\n",
    "                self.truncated_svd.explained_variance_ratio_), 2)\n",
    "            print(f'TruncatedSVD explained variance ratio: {explained_variance}')\n",
    "\n",
    "            # Convert the matrixes back to pandas DataFrames\n",
    "            components = list(range(n_components))\n",
    "            features = self.tfid_vectorizer.get_feature_names_out()\n",
    "            X_train_df = pd.DataFrame(\n",
    "                data=self.X_train_matrix,\n",
    "                index=X_train.index,\n",
    "                columns=components)\n",
    "            X_test_df = pd.DataFrame(\n",
    "                data=self.X_test_matrix,\n",
    "                index=X_test.index,\n",
    "                columns=components)\n",
    "\n",
    "        print(f'Train size: {X_train.shape[0]}')\n",
    "        print(f'Test size: {X_test.shape[0]}')\n",
    "\n",
    "        return X_train_df, X_test_df, y_train_df, y_test_df\n",
    "\n",
    "    def join_predictions(self, name:str, predictions:np.array):\n",
    "\n",
    "        # Use the binarizer to inverse transform the prediction array\n",
    "        predictions = self.multi_label_binarizer.inverse_transform(predictions)\n",
    "        # Add the predictions to the dataset\n",
    "        self.test_df[name] = predictions\n",
    "\n",
    "        return self.test_df[[self.X, self.y, 'Tags_target', name]]\n",
    "    \n",
    "    def get_predictions(self):\n",
    "\n",
    "        return self.test_df\n",
    "\n",
    "\n",
    "transformer = DatasetTransformer(df, 'Title_Body_tokens', 'Tags_tokens')\n",
    "X_train, X_test, y_train, y_test = transformer.gen_train_test(250, 1250, 990)"
   ]
  },
  {
   "cell_type": "markdown",
   "metadata": {},
   "source": [
    "We plot the scree plot of the *TruncatedSVD*. The *TruncatedSVD* is considered fit once it reaches an explained variance ratio of 0.8, however we will fit voluntarily fit at more than 0.95 of explained variance, in order to loose a minimal amount of information (which in this case would be detrimental to our models)."
   ]
  },
  {
   "cell_type": "code",
   "execution_count": 8,
   "metadata": {},
   "outputs": [
    {
     "data": {
      "image/png": "[encoded data removed]",
      "text/plain": [
       "<Figure size 1008x864 with 1 Axes>"
      ]
     },
     "metadata": {
      "needs_background": "light"
     },
     "output_type": "display_data"
    }
   ],
   "source": [
    "display_scree_plot(transformer.truncated_svd)"
   ]
  },
  {
   "cell_type": "markdown",
   "metadata": {},
   "source": [
    "# Evaluation"
   ]
  },
  {
   "cell_type": "markdown",
   "metadata": {},
   "source": [
    "For each experiment, we will calculate the following metrics:\n",
    "* *sampled Jaccard*: \n",
    "* *weighted Recall*: our objective is to minimize the number of *false negatives*, which would result in a higher *recall* score. We are facing and imbalanced repartition of classes, therefore we will use the *weighted* version of the score.\n",
    "* *ratio of target tags hit*: in combination with the *recall score*, we will compute the number of tags that have been found amongst the filtered *tags*, the equivalent of the accuracy for each document, and calcalute its *mean* as the *ratio of tags hit*,\n",
    "* *ratio of tags hit*: we use use the same approach on the initial *tags*, which haven't been filtered in order to get an evaluation of how many actual *tags* are predicted,\n",
    "* *inference time*: the average time to infer a document of the *test set* in seconds,\n",
    "* *model size*: the size of the model in megabytes.\n",
    "\n",
    "We create a class to evaluate and keep track of our experiments results:"
   ]
  },
  {
   "cell_type": "code",
   "execution_count": 9,
   "metadata": {},
   "outputs": [],
   "source": [
    "def count_values(y_true, y_hat):\n",
    "\n",
    "    y_true = y_true.split(',')\n",
    "    y_hat = list(y_hat)\n",
    "    score_max = len(y_true)\n",
    "    score = 0\n",
    "\n",
    "    for pred in y_hat:\n",
    "\n",
    "        if pred in y_true:\n",
    "\n",
    "            score += 1\n",
    "\n",
    "    return score / score_max\n",
    "\n",
    "\n",
    "class PerformanceReport():\n",
    "\n",
    "    def __init__(self, true:str, target:str):\n",
    "        \n",
    "        # Initialize our report DataFrame\n",
    "        self.y_true = true\n",
    "        self.y_target = target\n",
    "        self.columns = [\n",
    "            'Jaccard',\n",
    "            'Recall',\n",
    "            'Inference_time',\n",
    "            'Model_size_mb',\n",
    "            'Targets_hit',\n",
    "            'Tags_hit',\n",
    "            'Fill']\n",
    "        self.report = pd.DataFrame(columns=self.columns)\n",
    "\n",
    "    def evaluate(self, name:str, model, X_test:np.array, y_true:np.array, y_pred:np.array):\n",
    "        \n",
    "        # Predict with the model\n",
    "        tic()\n",
    "        model.predict(X_test)\n",
    "        # Calculate time spent\n",
    "        inference_time = toc() / X_test.shape[0]\n",
    "        # Dump model to disk\n",
    "        dump(model, './data/model.joblib')\n",
    "        # Get model file size\n",
    "        model_size = round(os.path.getsize('./data/model.joblib') / 1000000)\n",
    "        # Calculate the scores\n",
    "        recall = recall_score(y_true, y_pred, average='weighted')\n",
    "        jaccard = jaccard_score(y_true, y_pred, average='samples')\n",
    "\n",
    "        # Append the scores to our report\n",
    "        self.report.loc[name,self.columns[:4]] = [\n",
    "            jaccard,\n",
    "            recall,\n",
    "            inference_time,\n",
    "            model_size]\n",
    "            \n",
    "        print(pd.DataFrame(self.report.loc[name,self.columns[:4]]))\n",
    "\n",
    "    def tags_ratio(self, name:str, df:pd.DataFrame):\n",
    "\n",
    "        tags_hit = df.apply(lambda x: count_values(x[self.y_true], x[name]), axis=1)\n",
    "        self.report.loc[name, 'Tags_hit'] = np.mean(tags_hit)\n",
    "        targets_hit = df.apply(lambda x: count_values(x[self.y_target], x[name]), axis=1)\n",
    "        self.report.loc[name, 'Targets_hit'] = np.mean(targets_hit)\n",
    "        filled_ratio = df[name].apply(len).sum() / df[self.y_target].str.split(',').apply(len).sum()\n",
    "        self.report.loc[name, 'Fill'] = np.mean(filled_ratio)\n",
    "        print(f\"Ratio of target tags hit: {round(self.report.loc[name,'Targets_hit'], 4)}\")\n",
    "        print(f\"Ratio of tags hit: {round(self.report.loc[name,'Tags_hit'], 4)}\")\n",
    "        print(f\"Average fill: {round(self.report.loc[name,'Fill'], 4)}\")\n",
    "\n",
    "    def clean_files(self):\n",
    "\n",
    "        os.remove('./data/model.joblib')\n",
    "\n",
    "    def get(self):\n",
    "\n",
    "        return self.report\n",
    "\n",
    "\n",
    "report = PerformanceReport(true='Tags_tokens', target='Tags_target')"
   ]
  },
  {
   "cell_type": "markdown",
   "metadata": {},
   "source": [
    "# Modelling"
   ]
  },
  {
   "cell_type": "markdown",
   "metadata": {},
   "source": [
    "## Unsupervised"
   ]
  },
  {
   "cell_type": "markdown",
   "metadata": {},
   "source": [
    "### LDA"
   ]
  },
  {
   "cell_type": "markdown",
   "metadata": {},
   "source": [
    "For the preprocessing of the data used by the *LDA model*, we are going to use the included *gensim* library methods.\\\n",
    "Moreover, we will not be able to calculate the standard metrics that we choosed to compare the *supervised machine learning algorithms* as we do not use the *y* data for predicting.\n",
    "\n",
    "We create a *dictionary* with the training data and convert it to a *bag of words corpus*:"
   ]
  },
  {
   "cell_type": "code",
   "execution_count": 156,
   "metadata": {},
   "outputs": [
    {
     "data": {
      "text/plain": [
       "['.net',\n",
       " 'thread',\n",
       " 'exception',\n",
       " 'interface',\n",
       " 'ipoller',\n",
       " 'implementation',\n",
       " 'process',\n",
       " 'take',\n",
       " 'ipoller',\n",
       " 'start']"
      ]
     },
     "execution_count": 156,
     "metadata": {},
     "output_type": "execute_result"
    }
   ],
   "source": [
    "texts_train = transformer.X_train_raw.str.split(',')\n",
    "texts_train.values[0][:10]  # First 10 terms of the first document"
   ]
  },
  {
   "cell_type": "code",
   "execution_count": 157,
   "metadata": {},
   "outputs": [
    {
     "data": {
      "text/plain": [
       "[(0, 1),\n",
       " (1, 1),\n",
       " (2, 1),\n",
       " (3, 1),\n",
       " (4, 1),\n",
       " (5, 3),\n",
       " (6, 1),\n",
       " (7, 2),\n",
       " (8, 1),\n",
       " (9, 1)]"
      ]
     },
     "execution_count": 157,
     "metadata": {},
     "output_type": "execute_result"
    }
   ],
   "source": [
    "dictionary = corpora.Dictionary(texts_train)\n",
    "# We keep the 990 most frequent terms (as with the supervised learning)\n",
    "dictionary.filter_extremes(keep_n=990)\n",
    "corpus_train = [dictionary.doc2bow(text) for text in texts_train]\n",
    "corpus_train[0][:10]  # First 10 terms of the first document"
   ]
  },
  {
   "cell_type": "markdown",
   "metadata": {},
   "source": [
    "We transform the test data using the training *dictionary*:"
   ]
  },
  {
   "cell_type": "code",
   "execution_count": 159,
   "metadata": {},
   "outputs": [
    {
     "data": {
      "text/plain": [
       "[(40, 1), (166, 1), (221, 1), (305, 1), (458, 1), (509, 1), (774, 2)]"
      ]
     },
     "execution_count": 159,
     "metadata": {},
     "output_type": "execute_result"
    }
   ],
   "source": [
    "texts_test = transformer.X_test_raw.str.split(',')\n",
    "corpus_test = [dictionary.doc2bow(text) for text in texts_test]\n",
    "corpus_test[0]  # First 10 terms of the first document"
   ]
  },
  {
   "cell_type": "markdown",
   "metadata": {},
   "source": [
    "We test various N topics in order to calculate the coherence and perplexity scores:"
   ]
  },
  {
   "cell_type": "code",
   "execution_count": 161,
   "metadata": {},
   "outputs": [
    {
     "data": {
      "application/vnd.plotly.v1+json": {
       "config": {
        "plotlyServerURL": "https://plot.ly"
       },
       "data": [
        {
         "name": "Coherence",
         "type": "scatter",
         "x": [
          1,
          2,
          3,
          4,
          5,
          6,
          7,
          8,
          9,
          10,
          11,
          12,
          13,
          14,
          15,
          16,
          17,
          18,
          19,
          20,
          21,
          22,
          23,
          24,
          25,
          26,
          27,
          28,
          29,
          30,
          31,
          32,
          33,
          34,
          35,
          36,
          37,
          38,
          39,
          40,
          41,
          42,
          43,
          44,
          45,
          46,
          47,
          48,
          49
         ],
         "xaxis": "x",
         "y": [
          0.3469753593590716,
          0.33406128003910585,
          0.360692737752804,
          0.396382870760625,
          0.40165505094346293,
          0.4167985356657306,
          0.4056001447237479,
          0.3941367989038797,
          0.4107186965858277,
          0.4079563689474818,
          0.39988164910153395,
          0.41676304667162434,
          0.4110726122231487,
          0.4206370896459058,
          0.41898646624494346,
          0.40548262961302617,
          0.4183751520879931,
          0.40641848331780306,
          0.41387978666993114,
          0.4001335383781025,
          0.40481502586769363,
          0.4101048242732388,
          0.41619758579989113,
          0.4091963055095589,
          0.40221721536466865,
          0.3951539384442395,
          0.3987363956397629,
          0.4162200929229075,
          0.40493927381051315,
          0.4067137187246732,
          0.411547126588078,
          0.4028216182321881,
          0.4089363297968335,
          0.39090701917394255,
          0.41211503705767727,
          0.4021929992981212,
          0.4092659468278286,
          0.40697961748298567,
          0.4024498428442754,
          0.40157893530587874,
          0.3947996708792952,
          0.3920189246554108,
          0.3878488980231281,
          0.38994048994751673,
          0.39595082745868787,
          0.39978151338312967,
          0.3886417087045552,
          0.39363931892789245,
          0.3921782866358005
         ],
         "yaxis": "y"
        },
        {
         "name": "Perplexity",
         "type": "scatter",
         "x": [
          1,
          2,
          3,
          4,
          5,
          6,
          7,
          8,
          9,
          10,
          11,
          12,
          13,
          14,
          15,
          16,
          17,
          18,
          19,
          20,
          21,
          22,
          23,
          24,
          25,
          26,
          27,
          28,
          29,
          30,
          31,
          32,
          33,
          34,
          35,
          36,
          37,
          38,
          39,
          40,
          41,
          42,
          43,
          44,
          45,
          46,
          47,
          48,
          49
         ],
         "xaxis": "x",
         "y": [
          -6.251114655657956,
          -6.238861872506394,
          -6.199232092130335,
          -6.170168268487411,
          -6.169829159323329,
          -6.155080182897431,
          -6.141660085769693,
          -6.137668442327422,
          -6.137116570700418,
          -6.137301301594549,
          -6.137279344840247,
          -6.1356856947901575,
          -6.115714792038387,
          -6.119613239492631,
          -6.117641256736055,
          -6.114143659311891,
          -6.11798276060935,
          -6.116599723447008,
          -6.1175732214928,
          -6.11688473764834,
          -6.1213325886519865,
          -6.119404527714434,
          -6.122213147620264,
          -6.127591868231508,
          -6.140140708584195,
          -6.136220574918266,
          -6.134242303002804,
          -6.130927004790465,
          -6.152985369386126,
          -6.146912095406358,
          -6.136623260462492,
          -6.146275164537502,
          -6.144750775418462,
          -6.163828452215664,
          -6.16997993622161,
          -6.164109165409529,
          -6.164118172971162,
          -6.187322422579443,
          -6.178728570669514,
          -6.175938834505282,
          -6.193737035451883,
          -6.19786886165606,
          -6.206007766413331,
          -6.199603532698187,
          -6.204585656352798,
          -6.201647513165772,
          -6.210810554814194,
          -6.219760545205811,
          -6.226107532755955
         ],
         "yaxis": "y2"
        }
       ],
       "layout": {
        "height": 600,
        "template": {
         "data": {
          "bar": [
           {
            "error_x": {
             "color": "#2a3f5f"
            },
            "error_y": {
             "color": "#2a3f5f"
            },
            "marker": {
             "line": {
              "color": "#E5ECF6",
              "width": 0.5
             },
             "pattern": {
              "fillmode": "overlay",
              "size": 10,
              "solidity": 0.2
             }
            },
            "type": "bar"
           }
          ],
          "barpolar": [
           {
            "marker": {
             "line": {
              "color": "#E5ECF6",
              "width": 0.5
             },
             "pattern": {
              "fillmode": "overlay",
              "size": 10,
              "solidity": 0.2
             }
            },
            "type": "barpolar"
           }
          ],
          "carpet": [
           {
            "aaxis": {
             "endlinecolor": "#2a3f5f",
             "gridcolor": "white",
             "linecolor": "white",
             "minorgridcolor": "white",
             "startlinecolor": "#2a3f5f"
            },
            "baxis": {
             "endlinecolor": "#2a3f5f",
             "gridcolor": "white",
             "linecolor": "white",
             "minorgridcolor": "white",
             "startlinecolor": "#2a3f5f"
            },
            "type": "carpet"
           }
          ],
          "choropleth": [
           {
            "colorbar": {
             "outlinewidth": 0,
             "ticks": ""
            },
            "type": "choropleth"
           }
          ],
          "contour": [
           {
            "colorbar": {
             "outlinewidth": 0,
             "ticks": ""
            },
            "colorscale": [
             [
              0,
              "#0d0887"
             ],
             [
              0.1111111111111111,
              "#46039f"
             ],
             [
              0.2222222222222222,
              "#7201a8"
             ],
             [
              0.3333333333333333,
              "#9c179e"
             ],
             [
              0.4444444444444444,
              "#bd3786"
             ],
             [
              0.5555555555555556,
              "#d8576b"
             ],
             [
              0.6666666666666666,
              "#ed7953"
             ],
             [
              0.7777777777777778,
              "#fb9f3a"
             ],
             [
              0.8888888888888888,
              "#fdca26"
             ],
             [
              1,
              "#f0f921"
             ]
            ],
            "type": "contour"
           }
          ],
          "contourcarpet": [
           {
            "colorbar": {
             "outlinewidth": 0,
             "ticks": ""
            },
            "type": "contourcarpet"
           }
          ],
          "heatmap": [
           {
            "colorbar": {
             "outlinewidth": 0,
             "ticks": ""
            },
            "colorscale": [
             [
              0,
              "#0d0887"
             ],
             [
              0.1111111111111111,
              "#46039f"
             ],
             [
              0.2222222222222222,
              "#7201a8"
             ],
             [
              0.3333333333333333,
              "#9c179e"
             ],
             [
              0.4444444444444444,
              "#bd3786"
             ],
             [
              0.5555555555555556,
              "#d8576b"
             ],
             [
              0.6666666666666666,
              "#ed7953"
             ],
             [
              0.7777777777777778,
              "#fb9f3a"
             ],
             [
              0.8888888888888888,
              "#fdca26"
             ],
             [
              1,
              "#f0f921"
             ]
            ],
            "type": "heatmap"
           }
          ],
          "heatmapgl": [
           {
            "colorbar": {
             "outlinewidth": 0,
             "ticks": ""
            },
            "colorscale": [
             [
              0,
              "#0d0887"
             ],
             [
              0.1111111111111111,
              "#46039f"
             ],
             [
              0.2222222222222222,
              "#7201a8"
             ],
             [
              0.3333333333333333,
              "#9c179e"
             ],
             [
              0.4444444444444444,
              "#bd3786"
             ],
             [
              0.5555555555555556,
              "#d8576b"
             ],
             [
              0.6666666666666666,
              "#ed7953"
             ],
             [
              0.7777777777777778,
              "#fb9f3a"
             ],
             [
              0.8888888888888888,
              "#fdca26"
             ],
             [
              1,
              "#f0f921"
             ]
            ],
            "type": "heatmapgl"
           }
          ],
          "histogram": [
           {
            "marker": {
             "pattern": {
              "fillmode": "overlay",
              "size": 10,
              "solidity": 0.2
             }
            },
            "type": "histogram"
           }
          ],
          "histogram2d": [
           {
            "colorbar": {
             "outlinewidth": 0,
             "ticks": ""
            },
            "colorscale": [
             [
              0,
              "#0d0887"
             ],
             [
              0.1111111111111111,
              "#46039f"
             ],
             [
              0.2222222222222222,
              "#7201a8"
             ],
             [
              0.3333333333333333,
              "#9c179e"
             ],
             [
              0.4444444444444444,
              "#bd3786"
             ],
             [
              0.5555555555555556,
              "#d8576b"
             ],
             [
              0.6666666666666666,
              "#ed7953"
             ],
             [
              0.7777777777777778,
              "#fb9f3a"
             ],
             [
              0.8888888888888888,
              "#fdca26"
             ],
             [
              1,
              "#f0f921"
             ]
            ],
            "type": "histogram2d"
           }
          ],
          "histogram2dcontour": [
           {
            "colorbar": {
             "outlinewidth": 0,
             "ticks": ""
            },
            "colorscale": [
             [
              0,
              "#0d0887"
             ],
             [
              0.1111111111111111,
              "#46039f"
             ],
             [
              0.2222222222222222,
              "#7201a8"
             ],
             [
              0.3333333333333333,
              "#9c179e"
             ],
             [
              0.4444444444444444,
              "#bd3786"
             ],
             [
              0.5555555555555556,
              "#d8576b"
             ],
             [
              0.6666666666666666,
              "#ed7953"
             ],
             [
              0.7777777777777778,
              "#fb9f3a"
             ],
             [
              0.8888888888888888,
              "#fdca26"
             ],
             [
              1,
              "#f0f921"
             ]
            ],
            "type": "histogram2dcontour"
           }
          ],
          "mesh3d": [
           {
            "colorbar": {
             "outlinewidth": 0,
             "ticks": ""
            },
            "type": "mesh3d"
           }
          ],
          "parcoords": [
           {
            "line": {
             "colorbar": {
              "outlinewidth": 0,
              "ticks": ""
             }
            },
            "type": "parcoords"
           }
          ],
          "pie": [
           {
            "automargin": true,
            "type": "pie"
           }
          ],
          "scatter": [
           {
            "marker": {
             "colorbar": {
              "outlinewidth": 0,
              "ticks": ""
             }
            },
            "type": "scatter"
           }
          ],
          "scatter3d": [
           {
            "line": {
             "colorbar": {
              "outlinewidth": 0,
              "ticks": ""
             }
            },
            "marker": {
             "colorbar": {
              "outlinewidth": 0,
              "ticks": ""
             }
            },
            "type": "scatter3d"
           }
          ],
          "scattercarpet": [
           {
            "marker": {
             "colorbar": {
              "outlinewidth": 0,
              "ticks": ""
             }
            },
            "type": "scattercarpet"
           }
          ],
          "scattergeo": [
           {
            "marker": {
             "colorbar": {
              "outlinewidth": 0,
              "ticks": ""
             }
            },
            "type": "scattergeo"
           }
          ],
          "scattergl": [
           {
            "marker": {
             "colorbar": {
              "outlinewidth": 0,
              "ticks": ""
             }
            },
            "type": "scattergl"
           }
          ],
          "scattermapbox": [
           {
            "marker": {
             "colorbar": {
              "outlinewidth": 0,
              "ticks": ""
             }
            },
            "type": "scattermapbox"
           }
          ],
          "scatterpolar": [
           {
            "marker": {
             "colorbar": {
              "outlinewidth": 0,
              "ticks": ""
             }
            },
            "type": "scatterpolar"
           }
          ],
          "scatterpolargl": [
           {
            "marker": {
             "colorbar": {
              "outlinewidth": 0,
              "ticks": ""
             }
            },
            "type": "scatterpolargl"
           }
          ],
          "scatterternary": [
           {
            "marker": {
             "colorbar": {
              "outlinewidth": 0,
              "ticks": ""
             }
            },
            "type": "scatterternary"
           }
          ],
          "surface": [
           {
            "colorbar": {
             "outlinewidth": 0,
             "ticks": ""
            },
            "colorscale": [
             [
              0,
              "#0d0887"
             ],
             [
              0.1111111111111111,
              "#46039f"
             ],
             [
              0.2222222222222222,
              "#7201a8"
             ],
             [
              0.3333333333333333,
              "#9c179e"
             ],
             [
              0.4444444444444444,
              "#bd3786"
             ],
             [
              0.5555555555555556,
              "#d8576b"
             ],
             [
              0.6666666666666666,
              "#ed7953"
             ],
             [
              0.7777777777777778,
              "#fb9f3a"
             ],
             [
              0.8888888888888888,
              "#fdca26"
             ],
             [
              1,
              "#f0f921"
             ]
            ],
            "type": "surface"
           }
          ],
          "table": [
           {
            "cells": {
             "fill": {
              "color": "#EBF0F8"
             },
             "line": {
              "color": "white"
             }
            },
            "header": {
             "fill": {
              "color": "#C8D4E3"
             },
             "line": {
              "color": "white"
             }
            },
            "type": "table"
           }
          ]
         },
         "layout": {
          "annotationdefaults": {
           "arrowcolor": "#2a3f5f",
           "arrowhead": 0,
           "arrowwidth": 1
          },
          "autotypenumbers": "strict",
          "coloraxis": {
           "colorbar": {
            "outlinewidth": 0,
            "ticks": ""
           }
          },
          "colorscale": {
           "diverging": [
            [
             0,
             "#8e0152"
            ],
            [
             0.1,
             "#c51b7d"
            ],
            [
             0.2,
             "#de77ae"
            ],
            [
             0.3,
             "#f1b6da"
            ],
            [
             0.4,
             "#fde0ef"
            ],
            [
             0.5,
             "#f7f7f7"
            ],
            [
             0.6,
             "#e6f5d0"
            ],
            [
             0.7,
             "#b8e186"
            ],
            [
             0.8,
             "#7fbc41"
            ],
            [
             0.9,
             "#4d9221"
            ],
            [
             1,
             "#276419"
            ]
           ],
           "sequential": [
            [
             0,
             "#0d0887"
            ],
            [
             0.1111111111111111,
             "#46039f"
            ],
            [
             0.2222222222222222,
             "#7201a8"
            ],
            [
             0.3333333333333333,
             "#9c179e"
            ],
            [
             0.4444444444444444,
             "#bd3786"
            ],
            [
             0.5555555555555556,
             "#d8576b"
            ],
            [
             0.6666666666666666,
             "#ed7953"
            ],
            [
             0.7777777777777778,
             "#fb9f3a"
            ],
            [
             0.8888888888888888,
             "#fdca26"
            ],
            [
             1,
             "#f0f921"
            ]
           ],
           "sequentialminus": [
            [
             0,
             "#0d0887"
            ],
            [
             0.1111111111111111,
             "#46039f"
            ],
            [
             0.2222222222222222,
             "#7201a8"
            ],
            [
             0.3333333333333333,
             "#9c179e"
            ],
            [
             0.4444444444444444,
             "#bd3786"
            ],
            [
             0.5555555555555556,
             "#d8576b"
            ],
            [
             0.6666666666666666,
             "#ed7953"
            ],
            [
             0.7777777777777778,
             "#fb9f3a"
            ],
            [
             0.8888888888888888,
             "#fdca26"
            ],
            [
             1,
             "#f0f921"
            ]
           ]
          },
          "colorway": [
           "#636efa",
           "#EF553B",
           "#00cc96",
           "#ab63fa",
           "#FFA15A",
           "#19d3f3",
           "#FF6692",
           "#B6E880",
           "#FF97FF",
           "#FECB52"
          ],
          "font": {
           "color": "#2a3f5f"
          },
          "geo": {
           "bgcolor": "white",
           "lakecolor": "white",
           "landcolor": "#E5ECF6",
           "showlakes": true,
           "showland": true,
           "subunitcolor": "white"
          },
          "hoverlabel": {
           "align": "left"
          },
          "hovermode": "closest",
          "mapbox": {
           "style": "light"
          },
          "paper_bgcolor": "white",
          "plot_bgcolor": "#E5ECF6",
          "polar": {
           "angularaxis": {
            "gridcolor": "white",
            "linecolor": "white",
            "ticks": ""
           },
           "bgcolor": "#E5ECF6",
           "radialaxis": {
            "gridcolor": "white",
            "linecolor": "white",
            "ticks": ""
           }
          },
          "scene": {
           "xaxis": {
            "backgroundcolor": "#E5ECF6",
            "gridcolor": "white",
            "gridwidth": 2,
            "linecolor": "white",
            "showbackground": true,
            "ticks": "",
            "zerolinecolor": "white"
           },
           "yaxis": {
            "backgroundcolor": "#E5ECF6",
            "gridcolor": "white",
            "gridwidth": 2,
            "linecolor": "white",
            "showbackground": true,
            "ticks": "",
            "zerolinecolor": "white"
           },
           "zaxis": {
            "backgroundcolor": "#E5ECF6",
            "gridcolor": "white",
            "gridwidth": 2,
            "linecolor": "white",
            "showbackground": true,
            "ticks": "",
            "zerolinecolor": "white"
           }
          },
          "shapedefaults": {
           "line": {
            "color": "#2a3f5f"
           }
          },
          "ternary": {
           "aaxis": {
            "gridcolor": "white",
            "linecolor": "white",
            "ticks": ""
           },
           "baxis": {
            "gridcolor": "white",
            "linecolor": "white",
            "ticks": ""
           },
           "bgcolor": "#E5ECF6",
           "caxis": {
            "gridcolor": "white",
            "linecolor": "white",
            "ticks": ""
           }
          },
          "title": {
           "x": 0.05
          },
          "xaxis": {
           "automargin": true,
           "gridcolor": "white",
           "linecolor": "white",
           "ticks": "",
           "title": {
            "standoff": 15
           },
           "zerolinecolor": "white",
           "zerolinewidth": 2
          },
          "yaxis": {
           "automargin": true,
           "gridcolor": "white",
           "linecolor": "white",
           "ticks": "",
           "title": {
            "standoff": 15
           },
           "zerolinecolor": "white",
           "zerolinewidth": 2
          }
         }
        },
        "title": {
         "text": "Scores per n topics"
        },
        "xaxis": {
         "anchor": "y",
         "domain": [
          0,
          0.94
         ],
         "title": {
          "text": "n topics"
         }
        },
        "yaxis": {
         "anchor": "x",
         "domain": [
          0,
          1
         ],
         "title": {
          "text": "Coherence score"
         }
        },
        "yaxis2": {
         "anchor": "x",
         "overlaying": "y",
         "side": "right",
         "title": {
          "text": "Perplexity score"
         }
        }
       }
      }
     },
     "metadata": {},
     "output_type": "display_data"
    }
   ],
   "source": [
    "TOPICS_RANGE = list(range(1, 50, 1))\n",
    "coherence_scores = list()\n",
    "perplexity_scores = list()\n",
    "models = list()\n",
    "\n",
    "for n_topics in TOPICS_RANGE:\n",
    "\n",
    "    # Fit a LDA model for each n_topics\n",
    "    lda_model = LdaMulticore(\n",
    "        corpus=corpus_train,\n",
    "        id2word=dictionary,\n",
    "        num_topics=n_topics,\n",
    "        random_state=42,\n",
    "        passes=10,\n",
    "        workers=24)\n",
    "    models.append(lda_model)\n",
    "\n",
    "    perplexity_scores.append(lda_model.log_perplexity(corpus_train))\n",
    "\n",
    "    # Fit a coherence model for each n_topics to calculate the score\n",
    "    coherence_model = CoherenceModel(\n",
    "        model=lda_model, \n",
    "        texts=texts_train,\n",
    "        dictionary=dictionary,\n",
    "        coherence='c_v')\n",
    "    coherence_scores.append(coherence_model.get_coherence())\n",
    "\n",
    "# Plot the results\n",
    "fig = make_subplots(specs=[[{\"secondary_y\": True}]])\n",
    "fig.add_trace(\n",
    "    go.Scatter(x=TOPICS_RANGE, y=coherence_scores, name='Coherence'),\n",
    "    secondary_y=False)\n",
    "fig.add_trace(\n",
    "    go.Scatter(x=TOPICS_RANGE, y=perplexity_scores, name='Perplexity'),\n",
    "    secondary_y=True)\n",
    "fig.update_layout(title_text=f\"Scores per n topics\")\n",
    "fig.update_xaxes(title_text='n topics')\n",
    "fig.update_yaxes(title_text=\"Coherence score\", secondary_y=False)\n",
    "fig.update_yaxes(title_text=\"Perplexity score\", secondary_y=True)\n",
    "fig.update_layout(height=600)\n",
    "fig.show()"
   ]
  },
  {
   "cell_type": "markdown",
   "metadata": {},
   "source": [
    "The coherence score hits an optimum with 14 topics, we fit a model accordingly:"
   ]
  },
  {
   "cell_type": "code",
   "execution_count": 163,
   "metadata": {},
   "outputs": [],
   "source": [
    "lda_model = LdaMulticore(\n",
    "    corpus=corpus_train,\n",
    "    id2word=dictionary,\n",
    "    num_topics=14,\n",
    "    random_state=42,\n",
    "    passes=10,\n",
    "    workers=24)"
   ]
  },
  {
   "cell_type": "markdown",
   "metadata": {},
   "source": [
    "We can display the generated *topics* and their *term frequencies* using the pyLDAvis library:"
   ]
  },
  {
   "cell_type": "code",
   "execution_count": 164,
   "metadata": {},
   "outputs": [
    {
     "name": "stderr",
     "output_type": "stream",
     "text": [
      "/opt/homebrew/Caskroom/miniforge/base/envs/P5/lib/python3.9/site-packages/pyLDAvis/_prepare.py:246: FutureWarning:\n",
      "\n",
      "In a future version of pandas all arguments of DataFrame.drop except for the argument 'labels' will be keyword-only.\n",
      "\n",
      "/opt/homebrew/Caskroom/miniforge/base/envs/P5/lib/python3.9/site-packages/past/builtins/misc.py:45: DeprecationWarning: the imp module is deprecated in favour of importlib; see the module's documentation for alternative uses\n",
      "  from imp import reload\n",
      "/opt/homebrew/Caskroom/miniforge/base/envs/P5/lib/python3.9/site-packages/past/builtins/misc.py:45: DeprecationWarning: the imp module is deprecated in favour of importlib; see the module's documentation for alternative uses\n",
      "  from imp import reload\n",
      "/opt/homebrew/Caskroom/miniforge/base/envs/P5/lib/python3.9/site-packages/past/builtins/misc.py:45: DeprecationWarning: the imp module is deprecated in favour of importlib; see the module's documentation for alternative uses\n",
      "  from imp import reload\n",
      "/opt/homebrew/Caskroom/miniforge/base/envs/P5/lib/python3.9/site-packages/past/builtins/misc.py:45: DeprecationWarning: the imp module is deprecated in favour of importlib; see the module's documentation for alternative uses\n",
      "  from imp import reload\n",
      "/opt/homebrew/Caskroom/miniforge/base/envs/P5/lib/python3.9/site-packages/past/builtins/misc.py:45: DeprecationWarning: the imp module is deprecated in favour of importlib; see the module's documentation for alternative uses\n",
      "  from imp import reload\n",
      "/opt/homebrew/Caskroom/miniforge/base/envs/P5/lib/python3.9/site-packages/past/builtins/misc.py:45: DeprecationWarning: the imp module is deprecated in favour of importlib; see the module's documentation for alternative uses\n",
      "  from imp import reload\n",
      "/opt/homebrew/Caskroom/miniforge/base/envs/P5/lib/python3.9/site-packages/past/builtins/misc.py:45: DeprecationWarning: the imp module is deprecated in favour of importlib; see the module's documentation for alternative uses\n",
      "  from imp import reload\n",
      "/opt/homebrew/Caskroom/miniforge/base/envs/P5/lib/python3.9/site-packages/past/builtins/misc.py:45: DeprecationWarning: the imp module is deprecated in favour of importlib; see the module's documentation for alternative uses\n",
      "  from imp import reload\n"
     ]
    },
    {
     "data": {
      "text/html": [
       "\n",
       "<link rel=\"stylesheet\" type=\"text/css\" href=\"https://cdn.jsdelivr.net/gh/bmabey/pyLDAvis@3.3.1/pyLDAvis/js/ldavis.v1.0.0.css\">\n",
       "\n",
       "\n",
       "<div id=\"ldavis_el49840110769809122421500836\"></div>\n",
       "<script type=\"text/javascript\">\n",
       "\n",
       "var ldavis_el49840110769809122421500836_data = {\"mdsDat\": {\"x\": [0.04378916985342042, -0.06219342759739326, -0.099262834175107, -0.12535319928410835, 0.09414201113257438, -0.027534685586002344, 0.06142211446856202, 0.0934853893590368, 0.0465122202776989, -0.0683049292893415, 0.0589802101714899, 0.05033143362493784, -0.019880392580969134, -0.046133080374798734], \"y\": [-0.039911727272296825, 0.06614390577296829, 0.047023438305195966, 0.016675847520862895, 0.1273780828387782, -0.04543346100482632, -0.08502145727912824, -0.01422701401877559, -0.1051741993896724, -0.08178112354249736, 0.057059626089433414, 0.03308810353545186, 0.050266358541949295, -0.026086380097443174], \"topics\": [1, 2, 3, 4, 5, 6, 7, 8, 9, 10, 11, 12, 13, 14], \"cluster\": [1, 1, 1, 1, 1, 1, 1, 1, 1, 1, 1, 1, 1, 1], \"Freq\": [12.345446646461628, 10.118740919487657, 9.528109275466552, 8.688108687093445, 8.132705137054012, 6.974519167045802, 6.595524895668493, 6.4158540073250485, 6.006721912772757, 5.766659451767222, 5.6850638545378605, 4.669095016305086, 4.628881832645894, 4.444569196368544]}, \"tinfo\": {\"Term\": [\"file\", \"image\", \"service\", \"test\", \"page\", \"exception\", \"database\", \"class\", \"array\", \"object\", \"property\", \"table\", \"form\", \"server\", \"list\", \"data\", \"memory\", \"error\", \"date\", \"thread\", \"javascript\", \"entity\", \"function\", \"web\", \"jquery\", \"user\", \"method\", \"sql\", \"connection\", \"unit\", \"x86\", \"linker\", \"xcode\", \"mac\", \"dll\", \"dlls\", \"eclipse\", \"x64\", \"vs2008\", \"gcc\", \"ide\", \"sdk\", \"xp\", \"vs2010\", \"compilation\", \"breakpoint\", \"debug\", \"assembly\", \"color\", \"target\", \"linux\", \"studio\", \"symbol\", \"c/c++\", \"debugger\", \"instruction\", \"designer\", \"vista\", \"window\", \"debugging\", \"platform\", \"compile\", \"build\", \"release\", \"project\", \"library\", \"compiler\", \"application\", \"program\", \"c++\", \"iphone\", \"source\", \"tool\", \"version\", \"code\", \"development\", \"app\", \"file\", \"c\", \"system\", \"error\", \"problem\", \"line\", \"use\", \"run\", \"way\", \"work\", \"get\", \"question\", \"know\", \"setter\", \"category\", \"property\", \"binding\", \"generic\", \"constructor\", \"reflection\", \"bind\", \"viewmodel\", \"helper\", \"deserialize\", \"object\", \"interface\", \"subclass\", \"delegate\", \"attribute\", \"expression\", \"define\", \"model\", \"hierarchy\", \"serialize\", \"method\", \"xaml\", \"datasource\", \"serialization\", \"bound\", \"mvvm\", \"type\", \"notification\", \"textbox\", \"class\", \"instance\", \"pattern\", \"implement\", \"custom\", \"collection\", \"parameter\", \"json\", \"data\", \"event\", \"example\", \"something\", \"create\", \"way\", \"use\", \"value\", \"code\", \"question\", \"get\", \"set\", \"case\", \"change\", \"problem\", \"call\", \"std\", \"leak\", \"array\", \"queue\", \"graph\", \"buffer\", \"struct\", \"pointer\", \"vector\", \"garbage\", \"float\", \"heap\", \"stl\", \"memory\", \"integer\", \"algorithm\", \"int\", \"n\", \"byte\", \"member\", \"certificate\", \"guarantee\", \"objective-c\", \"variable\", \"length\", \"calculation\", \"lookup\", \"cast\", \"complexity\", \"bonus\", \"boost\", \"socket\", \"loop\", \"value\", \"size\", \"c++\", \"java\", \"structure\", \"thread\", \"c\", \"type\", \"time\", \"implementation\", \"data\", \"use\", \"function\", \"object\", \"way\", \"code\", \"class\", \"point\", \"string\", \"example\", \"field\", \"question\", \"problem\", \"performance\", \"number\", \"index\", \"clause\", \"constraint\", \"<\", \"column\", \"list\", \"linq\", \"iterate\", \"table\", \"item\", \"group\", \"operator\", \"query\", \"person\", \"identifier\", \"row\", \">\", \"argument\", \"criterion\", \"join\", \"customer\", \"relationship\", \"sql\", \"count\", \"iteration\", \"convention\", \"sort\", \"injection\", \"ado.net\", \"select\", \"id\", \"function\", \"statement\", \"order\", \"name\", \"database\", \"number\", \"result\", \"key\", \"value\", \"way\", \"data\", \"field\", \"use\", \"example\", \"class\", \"server\", \"code\", \"get\", \"problem\", \"method\", \"question\", \"type\", \"animation\", \"pdf\", \"button\", \"height\", \"div\", \"mouse\", \"dom\", \"node\", \"width\", \"html5\", \"dialog\", \"ipad\", \"uiview\", \"html\", \"tab\", \"render\", \"frame\", \"javascript\", \"cursor\", \"left\", \"click\", \"tag\", \"corner\", \"center\", \"resize\", \"bottom\", \"j\", \"menu\", \"fire\", \"document\", \"text\", \"cs\", \"control\", \"event\", \"browser\", \"chrome\", \"box\", \"screen\", \"jquery\", \"view\", \"display\", \"element\", \"code\", \"way\", \"user\", \"change\", \"page\", \"work\", \"like\", \"get\", \"line\", \"file\", \"thanks\", \"application\", \"time\", \"problem\", \"use\", \"jar\", \"oracle\", \"upload\", \"batch\", \"insert\", \"encoding\", \"jsp\", \"excel\", \"record\", \"export\", \"transaction\", \"delete\", \"storage\", \"filename\", \"insertion\", \"join\", \"sqlite\", \"download\", \"file\", \"database\", \"mysql\", \"postgresql\", \"read\", \"jdbc\", \"package\", \"servlet\", \"fetch\", \"driver\", \"character\", \"dump\", \"data\", \"row\", \"space\", \"table\", \"java\", \"performance\", \"db\", \"sql\", \"query\", \"hibernate\", \"problem\", \"server\", \"way\", \"text\", \"use\", \"application\", \"line\", \"store\", \"time\", \"code\", \"thanks\", \"solution\", \"user\", \"like\", \"wsdl\", \"soap\", \"wcf\", \"service\", \"webservice\", \"endpoint\", \"deploy\", \"layer\", \"rest\", \"web\", \"consume\", \"web.config\", \"deployment\", \"repository\", \"controller\", \"contract\", \"ssl\", \"client\", \"credential\", \"delphi\", \"proxy\", \"namespace\", \"communicate\", \"command\", \"view\", \"config\", \"folder\", \"architecture\", \"expose\", \"apis\", \"json\", \"section\", \"tomcat\", \"app\", \"reference\", \"application\", \"response\", \"project\", \"pattern\", \"request\", \"server\", \"rail\", \"mvc\", \"http\", \"use\", \"configuration\", \"data\", \"work\", \"call\", \"model\", \"code\", \"file\", \"way\", \"get\", \"method\", \"class\", \"question\", \"worker\", \"password\", \"cookie\", \"secure\", \"cooky\", \"uitableview\", \"facebook\", \"username\", \"shell\", \"authentication\", \"security\", \"token\", \"registry\", \"cell\", \"exit\", \"email\", \"account\", \"monitor\", \"url\", \"encryption\", \"sign\", \"hash\", \"measure\", \"login\", \"encrypt\", \"website\", \"thread\", \"redirect\", \"directory\", \"dictionary\", \"domain\", \"script\", \"user\", \"process\", \"php\", \"site\", \"request\", \"send\", \"address\", \"state\", \"way\", \"http\", \"information\", \"use\", \"*\", \"file\", \"data\", \"get\", \"example\", \"app\", \"like\", \"know\", \"time\", \"key\", \"make\", \"timeout\", \"connection\", \"pool\", \"%\", \"trace\", \"[\", \"]\", \"video\", \"permission\", \"role\", \"session\", \"ii\", \"crash\", \"procedure\", \"traffic\", \"host\", \"tomcat\", \"close\", \"failure\", \"catch\", \"connect\", \"ip\", \"provider\", \"log\", \"server\", \"exception\", \"network\", \"filter\", \"driver\", \"management\", \"error\", \"request\", \"login\", \"sql\", \"message\", \"application\", \"site\", \"asp.net\", \"query\", \"http\", \"access\", \"thread\", \"problem\", \"user\", \"time\", \"code\", \"get\", \"issue\", \"database\", \"way\", \"use\", \"bean\", \"mock\", \"junit\", \"unit\", \"spring\", \"ruby\", \"hibernate\", \"test\", \"integration\", \"django\", \"testing\", \"rail\", \"persist\", \"job\", \"@\", \"context\", \"datasource\", \"datetime\", \"initialization\", \"annotation\", \"python\", \"persistence\", \"jpa\", \"schema\", \"parent\", \"timestamp\", \"verify\", \"activity\", \"child\", \"engine\", \"db\", \"orm\", \"database\", \"sql\", \"java\", \"time\", \"use\", \"class\", \"way\", \"get\", \"server\", \"run\", \"object\", \"create\", \"code\", \"application\", \"like\", \"question\", \"method\", \"work\", \"thanks\", \"data\", \"mvc\", \"callback\", \"form\", \"validation\", \"lambda\", \"ajax\", \"validate\", \"action\", \"submit\", \"asp.net\", \"jquery\", \"enter\", \"header\", \"input\", \"plugin\", \"firebug\", \"controller\", \"response\", \"backend\", \"keyword\", \"template\", \"post\", \"redirect\", \"field\", \"signature\", \"function\", \"call\", \"and/or\", \"occur\", \"helper\", \"page\", \"transaction\", \"return\", \"loop\", \"error\", \"collection\", \"search\", \"method\", \"element\", \"problem\", \"http\", \"value\", \"code\", \"work\", \"user\", \"get\", \"request\", \"way\", \"data\", \"use\", \"application\", \"cache\", \"apache\", \"caching\", \"bash\", \"extension\", \"refresh\", \"page\", \"language\", \"scroll\", \"cs\", \"php\", \"inheritance\", \"perl\", \"\\u2019\", \"safari\", \"push\", \"load\", \"firebug\", \"ie\", \"month\", \"programming\", \"firefox\", \"hierarchy\", \"internet\", \"explorer\", \"base\", \"instantiate\", \"past\", \"bar\", \"mistake\", \"notification\", \"class\", \"script\", \"chrome\", \"python\", \"work\", \"browser\", \"file\", \"jquery\", \"server\", \"code\", \"problem\", \"site\", \"time\", \"something\", \"way\", \"question\", \"solution\", \"javascript\", \"make\", \"user\", \"example\", \"use\", \"function\", \"type\", \"image\", \"pixel\", \"picture\", \"quote\", \"null\", \"character\", \"vb.net\", \"resource\", \"string\", \"scale\", \"status\", \"compare\", \"compiles\", \"disk\", \"unicode\", \"resize\", \"char\", \"translate\", \"path\", \"corner\", \"=\", \"inline\", \"procedure\", \"jvm\", \"declare\", \"obtain\", \"body\", \"border\", \"return\", \"fail\", \"error\", \"code\", \"line\", \"size\", \"parameter\", \"value\", \"reference\", \"json\", \"object\", \"result\", \"test\", \"column\", \"see\", \"method\", \"example\", \"problem\", \"use\", \"way\", \"get\", \"work\", \"file\", \"function\", \"thanks\", \"something\", \"ef\", \"date\", \"winforms\", \"throw\", \"entity\", \"nhibernate\", \"com\", \"week\", \"exception\", \"profiler\", \"wpf\", \"jpa\", \"day\", \"format\", \"datetime\", \"con\", \"technology\", \"orm\", \"catch\", \"pro\", \"range\", \"lock\", \"namespace\", \"component\", \"annotation\", \"lead\", \"handling\", \"auto\", \"chance\", \"mapping\", \"parse\", \"business\", \".net\", \"year\", \"xaml\", \"framework\", \"library\", \"convert\", \"time\", \"use\", \"thanks\", \"question\", \"project\", \"application\", \"like\", \"get\", \"code\", \"way\", \"something\", \"know\", \"control\", \"event\", \"edit\", \"string\"], \"Freq\": [4188.0, 1206.0, 1417.0, 1790.0, 1512.0, 1252.0, 2158.0, 3038.0, 1299.0, 2682.0, 1602.0, 1574.0, 1148.0, 2122.0, 1432.0, 3353.0, 1223.0, 2124.0, 563.0, 1046.0, 1077.0, 698.0, 1976.0, 1045.0, 1000.0, 1977.0, 2923.0, 1324.0, 549.0, 603.0, 60.915087944805485, 70.29945404662459, 172.31353477754638, 221.9157882115012, 362.9457335998445, 50.50592521904973, 300.6754254321661, 73.5980631654604, 66.59131920851314, 169.44956179698138, 71.1289534475052, 86.93625418661445, 39.44494635471398, 71.76052552736034, 55.22075834773872, 80.30090179180999, 254.38408961339613, 260.91797726485123, 204.38396256373406, 181.7636533286003, 236.7150461865442, 526.7011559273232, 104.90683993005366, 84.98073786817304, 118.83952362922585, 59.00089721046491, 53.42800933151333, 31.391579582161512, 1021.7086625782496, 35.671756201769234, 189.00602871326333, 156.3388719867565, 332.64316622637836, 142.86380722687167, 894.0578127984122, 465.94047872560895, 241.6715812444584, 1102.564084991159, 364.96984975413477, 398.24050758371845, 269.54062444237445, 309.52535653197384, 223.23769989589078, 308.8010248350949, 925.5024492880613, 180.81218256853325, 386.3061822807542, 731.4710774460839, 305.22532289903955, 272.7215491259085, 455.51779430857164, 441.4630215521971, 293.76144561908944, 431.6417921034997, 251.02783110103152, 342.5524700056998, 300.2497026551719, 300.0514991964939, 254.26621052368355, 245.0800433536957, 54.477231497378256, 66.09981832653469, 1245.8765341922824, 206.0427061205944, 79.16882397282716, 279.6201883778766, 112.19709805614303, 131.45498324783193, 118.29429472971631, 44.34437445916568, 47.978118040134454, 1523.2800080844438, 397.90517753727596, 58.254102022117884, 167.5007999966613, 216.72413543384462, 164.43757544050084, 67.93321603814819, 301.97338527568655, 26.489059109331304, 57.69442094423774, 1287.3095044008019, 86.2755859772724, 26.131909613802524, 56.61562409959208, 36.35057788706527, 55.455674370587225, 741.7172380775982, 35.94619371732587, 54.72190714689283, 985.3278672956158, 257.357791287402, 147.04993178548426, 195.49360290773677, 167.35161404319044, 152.0479283723174, 214.13291255677626, 221.0005867063231, 590.2642873901887, 270.6229040363792, 379.3564895985322, 370.29422952043564, 281.8762029436544, 573.727383610307, 503.5418930442118, 326.1419549805646, 484.2619683438774, 301.7465490129678, 304.1423994376396, 204.04505099353736, 204.7312588869594, 206.27653269211584, 247.66218845379248, 211.01533872071028, 105.7976232148325, 228.78022031061076, 1106.7111831527404, 126.81653294306464, 128.58546236546738, 103.83076409422638, 118.25647528061766, 384.49331528085304, 187.0425306429353, 69.37148733205836, 86.6043819173139, 45.27561140054434, 50.28342632057403, 892.2410298674934, 170.02619459777435, 239.69740643999074, 113.20882775998753, 30.631350218717497, 241.83056955047334, 145.5556665223441, 90.70325818813625, 27.584832319464454, 33.37890874591721, 293.808057053974, 86.4634847050505, 39.064077021688675, 33.8913695994277, 42.1396142684189, 33.999987766261086, 22.038148799968788, 79.62551184533687, 94.19423747545933, 150.71013990000077, 597.1392116230317, 188.1328559358909, 294.6954216036543, 370.83411176141504, 170.95178111487584, 287.5623500002238, 251.6588278994177, 364.3983989054496, 410.9080068735651, 187.15227730112858, 443.0190433484271, 420.8376687309585, 302.2265047727724, 343.9946881636336, 400.33504205297896, 411.3218662312291, 323.0214351694289, 201.85585590186554, 241.5729800427924, 252.39489774368604, 195.60443302190862, 236.40503464444325, 230.47308312655153, 191.52776322502862, 187.96947274718116, 406.225463004097, 69.38328832517996, 91.58378853881051, 224.31218675270662, 604.9799100991476, 1005.5485694013884, 274.35836919785027, 39.653717741316534, 952.5861088633408, 412.24913982174286, 107.96809467433279, 70.57636504981939, 603.4850964841912, 61.85583313964407, 37.81787396572224, 321.0362002379762, 298.26052861224827, 142.51765355588577, 26.039805388566236, 75.09422460765006, 67.0866167452681, 70.65079097662625, 519.0464262941817, 58.547941251745605, 19.791023752188654, 20.88411672116203, 176.44472598960232, 38.131305812691416, 28.852152558467736, 84.51331274908338, 152.2648949811419, 646.9985162841169, 154.6350176426589, 185.22108530930436, 248.8597064337268, 388.01808165366197, 214.21039476473368, 230.76984171663017, 147.632634471696, 327.0852357739417, 467.03699481426816, 360.1016243861955, 169.114055732534, 353.6564321491647, 247.0980783242096, 269.2159779287207, 225.78085157872243, 255.894189409437, 211.9367626635765, 205.4765845708955, 205.57460430019924, 184.9382145408327, 182.2513882479603, 175.42276382366745, 168.13685480088736, 530.2679245219572, 92.19392632160786, 149.35887452576853, 92.25476141522456, 133.0346002167564, 185.5561369381008, 100.89918964916411, 65.85428108710418, 117.87412510553129, 94.44711504777395, 63.783269609420664, 538.6491395841817, 126.91870511407203, 91.84318815000807, 69.05461854285863, 725.4807737233298, 56.318499447182575, 41.57591073319291, 153.64692556271513, 232.61090093410087, 50.06607130890277, 39.94380954539178, 30.61808194096888, 60.50113877387606, 104.45891340257171, 73.98761103551529, 48.87435357452552, 186.165537577844, 442.64305965600613, 163.61389680343217, 379.6559782806315, 464.30149811472796, 267.45721870085146, 111.04935802081556, 144.16758934691003, 121.12225389512405, 287.5031454683392, 336.45115721993983, 162.21785068942603, 219.68244155077332, 544.2505487216147, 440.0903714140502, 294.4836026789148, 213.51872529312635, 206.53321041986575, 229.7021246108418, 207.46510862647588, 222.87900365218863, 174.6453509694946, 196.94947641203453, 173.54687196242224, 181.12709162536018, 173.03198042988004, 174.18086906550616, 170.25595582365239, 82.98283112002896, 174.46597697619103, 73.5729265255716, 64.8433026481183, 213.1081886053815, 76.23254327241601, 89.13694179745102, 49.19330156309797, 256.60163480310655, 33.64988125145958, 239.61401751980173, 87.42670847422954, 66.1169933992173, 33.36305301777867, 33.027820361835005, 87.96175290760168, 47.80978466365791, 73.23235907674793, 1951.2345301059945, 971.4983753018748, 192.1745431818585, 33.5691330489698, 198.01717970087063, 56.4478321923827, 49.74370590348706, 62.43073847164565, 38.18548072773199, 29.039893893834783, 204.04759274549275, 19.300468656807453, 984.4815937293845, 194.17766328350334, 77.81609700286721, 348.34955619927536, 276.29431431239186, 196.91302590547735, 108.11429872394034, 217.31722254606998, 203.03237603408581, 118.46486080083817, 289.13675149423557, 237.2941038114294, 293.0501468649672, 143.0224417689509, 230.68016774578723, 216.20468038986823, 134.94904344942714, 112.20185487853061, 140.44582376042294, 157.5387968095404, 125.5931670593721, 116.91911095742073, 119.80966848405966, 116.45208385455528, 85.25612919372884, 156.42474699235288, 260.75840903382357, 1221.7543500379431, 85.3456991631759, 47.978479658613196, 48.41241370489269, 190.99157721886144, 137.34898445505587, 613.492397563557, 29.59797994550288, 43.1298605435296, 43.143926288812686, 77.66275498293155, 279.2818927552946, 37.366772090037706, 53.82658412722477, 447.0430500161544, 34.88941851748667, 40.638293699825084, 41.038175873067146, 48.39278550875833, 16.75363036497956, 251.98802022289416, 487.68508265033427, 40.29312911376144, 110.80005468831475, 54.251376406453026, 22.45408562188598, 21.80831893644816, 253.35682812837862, 65.15215970885606, 65.72707044427607, 275.3003001097717, 165.88855576331738, 410.24175909811527, 103.61085299328568, 246.75231257152646, 102.64297687133434, 166.45211426208698, 248.49135720567253, 87.4012230661912, 125.75924566404011, 170.72535346111354, 282.61222398132145, 92.0288145690136, 219.6343102243023, 181.72807472150862, 155.00013077563176, 113.73931176109967, 219.13448290154707, 209.41915461382877, 200.7670573663942, 164.24890003359934, 158.94623014780976, 153.19678420964485, 136.14453487994246, 65.90144330140257, 252.7854531206655, 164.85551944572646, 121.79845831479601, 87.47793816398874, 54.4998725351907, 116.28240417079292, 58.51341707623857, 120.68129577579106, 199.54769937969874, 172.8178938973924, 45.209568358966244, 42.29605020133038, 160.8292851156522, 35.983268335550925, 129.28883095853712, 96.19420935874827, 46.79513797144434, 213.00715681135054, 74.53355348158463, 31.156558631879914, 147.77997559257736, 27.698207652474302, 106.94168431439866, 36.0566945508463, 157.76166859672455, 506.5813842136379, 36.87535062329288, 166.1502261075058, 63.688964233941256, 95.80575219077632, 247.82283751742708, 669.9549132147124, 281.4879208899782, 232.48628880162562, 179.22100052399497, 236.69002020297623, 112.41086575603576, 102.9839381448985, 123.85596386310165, 392.1039978422684, 210.94044799002464, 157.51691611412323, 279.3072156991559, 124.85076427625538, 273.7971088645074, 232.76581234129225, 210.44495807426895, 187.37272902444798, 155.29206720782233, 154.65779419339296, 146.26998950658063, 142.6713027290654, 128.85947662845263, 131.75310611785912, 85.6104092535668, 461.9998131938733, 126.55685235092035, 366.5904714292931, 117.90434906009608, 304.61487340978994, 403.2644007873136, 119.34300429991595, 68.86350335826845, 53.360093226355616, 353.21603652439177, 106.21773989419147, 56.44439530110571, 214.2806912072218, 23.881252769160156, 54.18755742454491, 94.97942089551746, 35.297621806838286, 29.172438801712374, 45.34795600396428, 65.66956256359026, 24.90681465046916, 44.19291479866288, 128.595862067984, 722.2508492298897, 422.7788506942069, 60.70948202923706, 50.94437633851889, 25.207218752125975, 41.38235050747387, 531.5717547463752, 240.54165131316995, 60.43202633496766, 231.96689816926724, 142.98591212151737, 393.3754983612449, 115.00820234089618, 141.74847338090902, 175.63059539536613, 179.5022091136772, 141.3051433646945, 150.54169342489263, 234.23124675407172, 191.69859493693883, 188.05914800295378, 224.37661606415315, 178.3654094584269, 132.3104689456957, 132.30853069840703, 134.30538353694152, 121.40095597911913, 104.9838010479684, 143.92688919360506, 84.78586187799279, 422.8623865911585, 380.8586047940041, 178.08210397591301, 315.17962830190305, 1135.7441996573752, 48.54631949783296, 143.78364265779172, 46.63386913511708, 161.31041793300145, 25.853868270817657, 78.3486064904068, 104.64765041778237, 123.8079825951127, 26.38226537739338, 53.742952128965214, 24.26558551221237, 65.39050845199819, 264.582187742567, 28.05389857218034, 110.06575440679163, 66.46089484648242, 80.72822782240985, 21.611542944803638, 24.521189569385246, 23.53407960262801, 72.71400874072921, 55.27725312073093, 115.07707409647354, 40.20410340314415, 376.1466937085533, 198.51877327539572, 190.50194063800143, 270.312404415684, 346.8628592007742, 269.1948006271175, 299.46496907014335, 220.06105276473315, 199.32726700858703, 106.21838048546614, 159.94441639622005, 123.27398833483632, 177.95161226863098, 149.6051054119405, 120.35377541745447, 124.8640367237174, 127.03903102212735, 117.92332930783554, 110.26819924823546, 110.35539389500566, 416.57075515549946, 96.43852913523185, 671.147881485216, 199.02766821883606, 48.32976545158607, 271.1191887089831, 62.55500736150605, 216.23331959207422, 59.20575992270537, 339.1014638303131, 416.6574414813185, 26.96153819122035, 149.01145932229667, 167.61870083926976, 67.43108400431852, 20.15169399432255, 155.80961512392545, 118.97755753832847, 17.518021495849702, 15.640393468925533, 92.06163681699792, 169.83040288167925, 18.0790248612171, 198.25659685281676, 21.695652419651562, 451.21796878405274, 322.5611858752218, 11.986074119005556, 10.93997629237748, 15.02396351222399, 313.47840011606104, 91.51882165364984, 149.17629342087213, 71.52546612036782, 299.5783361583465, 86.50674103649423, 82.5591695010079, 300.5842510873099, 118.59618273225068, 275.90859987205334, 160.04605491502437, 200.15489063798944, 294.9354312231177, 196.8973659371658, 181.80800828197954, 185.0777237685234, 127.41555746480283, 185.1068915992001, 137.8491606630128, 129.1720979276474, 119.53616568947005, 244.4534560204003, 118.26861227008443, 39.28470550865028, 59.89258910279853, 120.36011894467383, 30.161827133653755, 705.1092289656902, 249.5199526445489, 39.56022562460112, 120.73725388167453, 264.10230265894575, 37.11232746178848, 40.617997698311946, 26.728663091891416, 28.856133523910614, 16.47363857927337, 149.0367007644669, 19.04768724854607, 73.03447130080298, 40.145544936349474, 40.188730208053244, 56.1530534308092, 14.719777930653626, 28.155215197515954, 25.008554205338278, 54.49888494782689, 13.327245526162521, 8.795015977125166, 39.264027118559966, 8.98521248091041, 20.318874073037488, 629.2684957083883, 134.66412735058225, 46.97466287496415, 124.03908497892387, 224.64785218723082, 93.05915855088891, 316.22337819487217, 112.9566731882982, 176.85104268271627, 226.33507733156964, 170.25685851169334, 71.91996120361202, 129.8286096106748, 113.14658976852161, 145.11418239864807, 104.73408377440548, 90.25669054309331, 81.32254399538574, 89.0954203705466, 95.32609083917379, 93.69724045791821, 108.83565734383463, 89.27418109799403, 85.52623915879627, 1137.3213490825951, 91.32850435778438, 56.55686095454665, 23.31448556738969, 49.003882251415185, 197.85344713809636, 32.58187992328273, 148.68325077135688, 430.77683920352587, 13.606669246681797, 41.180848911572475, 32.429164778137626, 11.495070990727303, 33.291069952243184, 15.620104392134124, 12.53653535801454, 27.765512354908097, 10.147533046867045, 88.53548770917396, 18.135635513937885, 75.63225795338884, 15.873465834672576, 101.90176817046654, 11.903418599641483, 14.121028398213543, 10.879002167511485, 15.502204783224114, 14.4582512884072, 137.49370851578627, 12.72889068651585, 288.72567651290893, 555.6083788897289, 141.0406295306513, 73.67783541342705, 102.87912880507247, 217.40459762487498, 96.29170074721758, 90.10459025235602, 195.33289193345055, 95.39728500461322, 133.64234165929605, 81.89508952384126, 94.16528484152964, 167.633629579046, 130.17013011415236, 155.59932174009242, 182.31366017842345, 164.65986136624156, 111.91655086084708, 103.45938321612327, 101.69483027178369, 88.39781426069986, 85.37428725985583, 82.31420666168542, 56.64876290228733, 465.0932118093135, 106.37052573669456, 76.36071151497674, 427.9741468149317, 67.6438644139577, 95.73958664841146, 36.62380944412645, 596.3463140787649, 28.700519213254253, 270.05641766173653, 133.4952220570524, 134.23976608877174, 156.99040638052614, 57.55090291312284, 27.003322970319605, 45.57745794913286, 58.81256384425851, 46.98793381351625, 27.595489454413272, 58.37859634354443, 43.559323280309584, 42.301870341087856, 80.18192019694418, 53.941805055167485, 14.053865084001067, 19.681679428406834, 15.406939831730373, 15.514173546661969, 30.27634536563318, 58.527287416456964, 47.35896070705902, 251.9402660507341, 45.787727165529624, 47.908744140140335, 132.46718127497923, 124.46692488371674, 68.7881774559488, 195.34903953362482, 239.93316692988012, 133.21975667159086, 143.55101241940037, 127.66631556924264, 147.35962646096854, 105.09467301873217, 115.3505304172363, 130.48666755322853, 123.6744794971041, 100.09309489930345, 83.36166924089503, 76.60459251496493, 79.74712478767383, 77.79277819147318, 76.08786675344922], \"Total\": [4188.0, 1206.0, 1417.0, 1790.0, 1512.0, 1252.0, 2158.0, 3038.0, 1299.0, 2682.0, 1602.0, 1574.0, 1148.0, 2122.0, 1432.0, 3353.0, 1223.0, 2124.0, 563.0, 1046.0, 1077.0, 698.0, 1976.0, 1045.0, 1000.0, 1977.0, 2923.0, 1324.0, 549.0, 603.0, 66.66938271733405, 77.01777050918267, 188.94683885027447, 254.5634861094936, 427.2109927403719, 59.79537499189803, 359.02708700455753, 88.43453186847708, 81.76100425068343, 208.1720506774218, 88.87406155356757, 108.92525326276976, 50.92389216709886, 95.56505764428891, 73.65734900114035, 109.43333798026151, 346.68841455802124, 359.4957265463215, 282.8067052311939, 258.0733432288045, 340.83186047554995, 767.3190107348097, 155.58297546438945, 128.91145801156696, 180.47416629816496, 90.28776175562699, 82.44053960089389, 48.67827662923602, 1596.671924898932, 55.90193299214101, 296.4122307823921, 247.28235178564924, 546.1785176199132, 228.22716707521897, 1640.9606299375484, 944.2579674658135, 466.07791445713593, 3178.147375864404, 784.4300311513257, 931.5369058372038, 597.1749513829943, 727.6678989517791, 463.7020095880226, 812.1707808448003, 4728.440240473089, 368.9814456792789, 1336.804106497466, 4188.286020726933, 930.1237713227621, 787.2579092456713, 2124.6139425515817, 2797.6422931797633, 1069.177203784599, 3801.05174683743, 801.7941870004003, 4161.989231439212, 2162.766968533736, 2535.878427789537, 2099.4443174024036, 1461.4767688135003, 61.030755953058076, 84.1463896552501, 1602.298063431389, 265.3714741076704, 105.74965044566736, 379.4835692307264, 154.67253416903736, 194.66658866302384, 185.6165477336659, 71.75783977223706, 80.7866199116604, 2682.0696019407947, 742.4446220202939, 116.75359869512657, 347.11963454825377, 459.25189229726385, 348.59893665858084, 146.16506698018358, 671.4379959066952, 59.08920264357137, 130.5954389444613, 2923.893634169329, 200.51844400938054, 62.59735777664526, 138.52969640190807, 89.33693329253482, 136.5058135473034, 1850.5983379880672, 90.34951108784473, 139.5520113463654, 3038.596329976492, 768.6606008402999, 420.91204265477535, 579.7863701609058, 500.8575918110285, 490.5119208936341, 777.966056533679, 834.1146474220394, 3353.221583406764, 1135.2289609091972, 1977.6485591779845, 1959.272391335023, 1282.558494309343, 4161.989231439212, 3801.05174683743, 2038.820833764737, 4728.440240473089, 2099.4443174024036, 2535.878427789537, 966.0787608404748, 1113.8817637623583, 1216.3542965648537, 2797.6422931797633, 1448.4448389709214, 119.10172204345159, 259.95212110921494, 1299.3920321816086, 152.43724296628517, 156.44772288303355, 128.78702162034088, 148.4273432241341, 493.25130279663273, 246.4541578940524, 91.67244889744852, 115.8070161092182, 61.93872595088578, 68.88129746339985, 1223.0750313392982, 233.73829639031263, 329.9977983857826, 168.4346203519973, 48.6276544317516, 384.1429935881037, 238.723093415163, 154.70195893641042, 47.166965556608396, 59.055400874281226, 529.9728446111695, 158.69260064624413, 72.10617797717768, 62.76075760837688, 84.30341599658715, 68.16626030448448, 46.964429287738874, 172.8853047747981, 214.39022231970722, 368.95153247754286, 2038.820833764737, 512.786691790471, 931.5369058372038, 1262.664374892288, 509.4612728799369, 1046.5454709149374, 930.1237713227621, 1850.5983379880672, 2337.0727489312417, 622.8328615597248, 3353.221583406764, 3801.05174683743, 1976.1021017718267, 2682.0696019407947, 4161.989231439212, 4728.440240473089, 3038.596329976492, 827.4747046482524, 1466.1446511303134, 1977.6485591779845, 850.899521026036, 2099.4443174024036, 2797.6422931797633, 826.6264869764339, 947.6203769746489, 497.51448277482353, 88.57371244688672, 118.13785134715698, 295.6070448226575, 859.770307200031, 1432.0970376576997, 407.9881347885141, 62.742820711769006, 1574.2762787551499, 746.0641546735474, 199.24605918471735, 135.96137306083452, 1183.616895284373, 123.0104728164417, 76.21916720251592, 652.52728234167, 611.194531876538, 295.3290904817933, 56.510514259365614, 177.72175405942906, 159.90634031403616, 176.76706189392675, 1324.8198738741282, 151.59882245888946, 53.835295678538685, 57.04132968437033, 486.7200589649808, 105.51455793618265, 80.09754748759653, 236.57587198664476, 427.07272179262844, 1976.1021017718267, 494.6778358438068, 605.676083814809, 982.563114721029, 2158.896433152073, 947.6203769746489, 1065.5583158791278, 565.381549027137, 2038.820833764737, 4161.989231439212, 3353.221583406764, 850.899521026036, 3801.05174683743, 1977.6485591779845, 3038.596329976492, 2122.3819121410215, 4728.440240473089, 2535.878427789537, 2797.6422931797633, 2923.893634169329, 2099.4443174024036, 1850.5983379880672, 196.23560946155663, 192.3708977839228, 607.6905217541871, 106.61273182892545, 178.52185033582444, 111.09779912011892, 165.09098288740591, 239.9322859195523, 130.55030144340301, 85.51368933151225, 157.6978673880238, 128.49256235137082, 88.64989235021642, 751.3396000920649, 177.4787609171022, 133.94614725951428, 101.21568219907657, 1077.3133309890543, 84.40382675083283, 63.36214761568736, 236.7987377119676, 359.1068294606947, 79.32813465092073, 63.63752232236597, 48.82036072187553, 98.31033302488295, 169.95967005551884, 120.87411753493976, 80.28027205495644, 310.0265310938175, 882.0696958385107, 314.62277006127965, 834.1470698200386, 1135.2289609091972, 645.2957751862563, 215.29341535006884, 304.28027620666984, 246.70857942439963, 1000.2387119619764, 1326.3620120775659, 432.5666139732208, 793.1166872680211, 4728.440240473089, 4161.989231439212, 1977.4786724568428, 1216.3542965648537, 1512.861160912701, 2162.766968533736, 1676.822656514141, 2535.878427789537, 1069.177203784599, 4188.286020726933, 1665.9061903987447, 3178.147375864404, 2337.0727489312417, 2797.6422931797633, 3801.05174683743, 88.44336861348427, 211.14862256000393, 91.83162308681031, 83.72451489823166, 329.87986699613253, 124.06206043687955, 148.17561691562133, 85.42066923177545, 447.6217956894886, 61.238851674848135, 446.63569550224963, 169.65407011181065, 130.06362985624597, 65.70636738112347, 65.19737269094475, 177.72175405942906, 98.29586994074944, 151.72230717256065, 4188.286020726933, 2158.896433152073, 454.93656435958155, 80.28015115023418, 484.7298863532538, 138.20494639770845, 122.7135410652263, 160.99204834086578, 98.63266198578602, 75.37143562484873, 542.3126739232209, 53.49618070935286, 3353.221583406764, 652.52728234167, 240.1043981581324, 1574.2762787551499, 1262.664374892288, 826.6264869764339, 391.15285254753724, 1324.8198738741282, 1183.616895284373, 494.1303464990062, 2797.6422931797633, 2122.3819121410215, 4161.989231439212, 882.0696958385107, 3801.05174683743, 3178.147375864404, 1069.177203784599, 556.8204907592341, 2337.0727489312417, 4728.440240473089, 1665.9061903987447, 1374.9949327056786, 1977.4786724568428, 1676.822656514141, 90.10370256165268, 168.18489184619781, 281.05493431457904, 1417.2553521440946, 106.6261038398405, 66.58240450206956, 78.530909841156, 311.57364099173157, 227.6615922821901, 1045.7102662186312, 51.149325423472995, 79.64092184620444, 80.72400430020622, 145.65194312129896, 547.7327907193006, 73.69200918372984, 110.0298799217369, 963.682732765166, 79.26216832298668, 93.16374321860643, 95.59660365224573, 120.8646351803171, 43.47049016360633, 672.1696664434106, 1326.3620120775659, 112.89741454847913, 323.21222675526263, 159.15094205593314, 66.41859173436016, 65.21995942685754, 834.1146474220394, 202.90385051885002, 214.94963213893016, 1336.804106497466, 810.2931931698147, 3178.147375864404, 419.5917337172128, 1640.9606299375484, 420.91204265477535, 987.3502364801899, 2122.3819121410215, 341.92495343822077, 666.9537125809447, 1251.6600460642817, 3801.05174683743, 385.71539895257405, 3353.221583406764, 2162.766968533736, 1448.4448389709214, 671.4379959066952, 4728.440240473089, 4188.286020726933, 4161.989231439212, 2535.878427789537, 2923.893634169329, 3038.596329976492, 2099.4443174024036, 78.13737815518127, 313.834877242631, 207.55619623011935, 154.665367788224, 113.69057372621616, 71.18694399112574, 161.23560305388634, 83.72587200357363, 176.04387457899188, 295.2016041671957, 258.2229240034274, 71.28122205190515, 67.59722779621733, 259.44088915547684, 59.400627258789235, 215.59821855386903, 163.10966053366056, 82.6665074580197, 382.4700288227324, 134.56627421066125, 57.23572011897731, 273.3043271484765, 54.250375589100706, 209.7966086942518, 72.0955032546866, 316.74974525722723, 1046.5454709149374, 77.00207751027976, 357.2394961121576, 142.8716398331579, 216.00719496605132, 640.6713290167196, 1977.4786724568428, 803.7520838862495, 707.7707562047657, 565.6119183933391, 987.3502364801899, 320.638408513201, 281.838031895359, 406.25121247599054, 4161.989231439212, 1251.6600460642817, 675.205776705163, 3801.05174683743, 438.79012499806123, 4188.286020726933, 3353.221583406764, 2535.878427789537, 1977.6485591779845, 1336.804106497466, 1676.822656514141, 1461.4767688135003, 2337.0727489312417, 565.381549027137, 1504.2906194114298, 100.56345651227979, 549.6048675196333, 152.38150986425987, 484.27193255420576, 160.07412788747996, 446.0214292809126, 626.9073371801261, 187.64182682306165, 110.37577192289132, 87.3348767216562, 628.8622158002224, 194.37248869674266, 121.27282936879267, 465.22777771695564, 52.721490302416065, 122.57846033482625, 214.94963213893016, 85.03526337543666, 70.37777957553983, 111.37165525114818, 165.79562747177928, 65.3251682096603, 117.41303250752307, 347.00734484544006, 2122.3819121410215, 1252.2437253574085, 180.63142863034204, 151.936320494008, 75.37143562484873, 132.9083832372555, 2124.6139425515817, 987.3502364801899, 209.7966086942518, 1324.8198738741282, 707.8909472549105, 3178.147375864404, 565.6119183933391, 802.1211833870191, 1183.616895284373, 1251.6600460642817, 908.7795052841029, 1046.5454709149374, 2797.6422931797633, 1977.4786724568428, 2337.0727489312417, 4728.440240473089, 2535.878427789537, 984.216773646348, 2158.896433152073, 4161.989231439212, 3801.05174683743, 113.94495865003476, 166.66702221585422, 104.71654092199097, 603.849098835018, 577.3422470815731, 272.20754930821073, 494.1303464990062, 1790.2642700565375, 87.81726295399896, 264.398283822062, 98.23888596839733, 341.92495343822077, 56.07793822927471, 170.38608509345582, 231.6549696361775, 279.6161560581109, 62.59735777664526, 132.05814135337252, 60.70355394577102, 165.99395040425486, 674.9405474161774, 72.6247577965542, 286.90333686710824, 174.88449290541882, 217.47600030739034, 60.96818427425748, 78.39868496662177, 75.76853787002024, 236.62437300536453, 185.37975558950083, 391.15285254753724, 138.27384043608015, 2158.896433152073, 1324.8198738741282, 1262.664374892288, 2337.0727489312417, 3801.05174683743, 3038.596329976492, 4161.989231439212, 2535.878427789537, 2122.3819121410215, 801.7941870004003, 2682.0696019407947, 1282.558494309343, 4728.440240473089, 3178.147375864404, 1676.822656514141, 2099.4443174024036, 2923.893634169329, 2162.766968533736, 1665.9061903987447, 3353.221583406764, 666.9537125809447, 159.50467335371582, 1148.3411147583388, 342.33208886113863, 84.59627205586067, 485.72342041012456, 115.3154507918652, 402.6698402189791, 131.9154293539752, 802.1211833870191, 1000.2387119619764, 72.20850743695522, 403.47144907809405, 461.22791374382496, 210.07838185237566, 64.4447696991017, 547.7327907193006, 419.5917337172128, 68.66080858073788, 61.82040864170437, 378.7407445876687, 706.1515132826316, 77.00207751027976, 850.899521026036, 94.61513403444978, 1976.1021017718267, 1448.4448389709214, 53.9295204449952, 51.261725644041306, 71.75783977223706, 1512.861160912701, 446.63569550224963, 801.3298605373236, 368.95153247754286, 2124.6139425515817, 490.5119208936341, 464.84593829096997, 2923.893634169329, 793.1166872680211, 2797.6422931797633, 1251.6600460642817, 2038.820833764737, 4728.440240473089, 2162.766968533736, 1977.4786724568428, 2535.878427789537, 987.3502364801899, 4161.989231439212, 3353.221583406764, 3801.05174683743, 3178.147375864404, 342.34148801396356, 170.99819688041225, 69.9263505370258, 112.07484000083929, 230.2399453497805, 62.37966989329249, 1512.861160912701, 617.5041317115459, 99.43033338072011, 314.62277006127965, 707.7707562047657, 110.53726149958459, 128.9107781611569, 87.02704336146232, 94.3639730869327, 54.8634713416544, 498.52969746650996, 64.4447696991017, 257.73103111021425, 143.51210583290995, 155.41242312651818, 218.06728613592634, 59.08920264357137, 114.98984191739301, 103.69928079060178, 227.43654940163887, 57.04561752462873, 38.170098988979454, 172.88615465531947, 39.90234028818025, 90.34951108784473, 3038.596329976492, 640.6713290167196, 215.29341535006884, 674.9405474161774, 2162.766968533736, 645.2957751862563, 4188.286020726933, 1000.2387119619764, 2122.3819121410215, 4728.440240473089, 2797.6422931797633, 565.6119183933391, 2337.0727489312417, 1959.272391335023, 4161.989231439212, 2099.4443174024036, 1374.9949327056786, 1077.3133309890543, 1504.2906194114298, 1977.4786724568428, 1977.6485591779845, 3801.05174683743, 1976.1021017718267, 1850.5983379880672, 1206.6520045673724, 115.8970231909354, 102.30841084871717, 51.92523459724971, 126.94045544109213, 542.3126739232209, 106.72679612202869, 496.5251236913641, 1466.1446511303134, 46.71326531503875, 148.8083560817315, 117.99884202061172, 43.13572749468559, 125.14357587998892, 60.478305725270864, 48.82036072187553, 112.27339807335993, 41.36283389733501, 365.28779979460876, 79.32813465092073, 332.36404866363966, 72.27506912463926, 465.22777771695564, 56.58766821865271, 69.54259391877264, 54.74368489539365, 87.03950550604017, 82.74689699441319, 801.3298605373236, 74.82084356605708, 2124.6139425515817, 4728.440240473089, 1069.177203784599, 512.786691790471, 777.966056533679, 2038.820833764737, 810.2931931698147, 834.1146474220394, 2682.0696019407947, 1065.5583158791278, 1790.2642700565375, 859.770307200031, 1093.7790553115647, 2923.893634169329, 1977.6485591779845, 2797.6422931797633, 3801.05174683743, 4161.989231439212, 2535.878427789537, 2162.766968533736, 4188.286020726933, 1976.1021017718267, 1665.9061903987447, 1959.272391335023, 68.54367284738757, 563.8880935754523, 163.6716496348075, 123.85201750170802, 698.681793832603, 119.89164119106206, 171.71167349971233, 74.38285369741172, 1252.2437253574085, 60.810876198577255, 576.2373779436809, 286.90333686710824, 302.2425313439335, 354.6134880058595, 132.05814135337252, 62.909077024728205, 106.4658567562415, 138.27384043608015, 111.37165525114818, 71.10350159254268, 152.82793639359, 121.07176876967876, 120.8646351803171, 245.15146166881647, 165.99395040425486, 48.65560818827875, 69.0052083715119, 55.577084513238205, 57.5004541570308, 114.80561880067029, 224.07414192090613, 182.8320458205026, 1088.3449694131446, 186.61223239463678, 200.51844400938054, 754.9001319399582, 944.2579674658135, 360.03316940198636, 2337.0727489312417, 3801.05174683743, 1665.9061903987447, 2099.4443174024036, 1640.9606299375484, 3178.147375864404, 1676.822656514141, 2535.878427789537, 4728.440240473089, 4161.989231439212, 1959.272391335023, 1461.4767688135003, 834.1470698200386, 1135.2289609091972, 1085.4646596830285, 1466.1446511303134], \"Category\": [\"Default\", \"Default\", \"Default\", \"Default\", \"Default\", \"Default\", \"Default\", \"Default\", \"Default\", \"Default\", \"Default\", \"Default\", \"Default\", \"Default\", \"Default\", \"Default\", \"Default\", \"Default\", \"Default\", \"Default\", \"Default\", \"Default\", \"Default\", \"Default\", \"Default\", \"Default\", \"Default\", \"Default\", \"Default\", \"Default\", \"Topic1\", \"Topic1\", \"Topic1\", \"Topic1\", \"Topic1\", \"Topic1\", \"Topic1\", \"Topic1\", \"Topic1\", \"Topic1\", \"Topic1\", \"Topic1\", \"Topic1\", \"Topic1\", \"Topic1\", \"Topic1\", \"Topic1\", \"Topic1\", \"Topic1\", \"Topic1\", \"Topic1\", \"Topic1\", \"Topic1\", \"Topic1\", \"Topic1\", \"Topic1\", \"Topic1\", \"Topic1\", \"Topic1\", \"Topic1\", \"Topic1\", \"Topic1\", \"Topic1\", \"Topic1\", \"Topic1\", \"Topic1\", \"Topic1\", \"Topic1\", \"Topic1\", \"Topic1\", \"Topic1\", \"Topic1\", \"Topic1\", \"Topic1\", \"Topic1\", \"Topic1\", \"Topic1\", \"Topic1\", \"Topic1\", \"Topic1\", \"Topic1\", \"Topic1\", \"Topic1\", \"Topic1\", \"Topic1\", \"Topic1\", \"Topic1\", \"Topic1\", \"Topic1\", \"Topic1\", \"Topic2\", \"Topic2\", \"Topic2\", \"Topic2\", \"Topic2\", \"Topic2\", \"Topic2\", \"Topic2\", \"Topic2\", \"Topic2\", \"Topic2\", \"Topic2\", \"Topic2\", \"Topic2\", \"Topic2\", \"Topic2\", \"Topic2\", \"Topic2\", \"Topic2\", \"Topic2\", \"Topic2\", \"Topic2\", \"Topic2\", \"Topic2\", \"Topic2\", \"Topic2\", \"Topic2\", \"Topic2\", \"Topic2\", \"Topic2\", \"Topic2\", \"Topic2\", \"Topic2\", \"Topic2\", \"Topic2\", \"Topic2\", \"Topic2\", \"Topic2\", \"Topic2\", \"Topic2\", \"Topic2\", \"Topic2\", \"Topic2\", \"Topic2\", \"Topic2\", \"Topic2\", \"Topic2\", \"Topic2\", \"Topic2\", \"Topic2\", \"Topic2\", \"Topic2\", \"Topic2\", \"Topic2\", \"Topic3\", \"Topic3\", \"Topic3\", \"Topic3\", \"Topic3\", \"Topic3\", \"Topic3\", \"Topic3\", \"Topic3\", \"Topic3\", \"Topic3\", \"Topic3\", \"Topic3\", \"Topic3\", \"Topic3\", \"Topic3\", \"Topic3\", \"Topic3\", \"Topic3\", \"Topic3\", \"Topic3\", \"Topic3\", \"Topic3\", \"Topic3\", \"Topic3\", \"Topic3\", \"Topic3\", \"Topic3\", \"Topic3\", \"Topic3\", \"Topic3\", \"Topic3\", \"Topic3\", \"Topic3\", \"Topic3\", \"Topic3\", \"Topic3\", \"Topic3\", \"Topic3\", \"Topic3\", \"Topic3\", \"Topic3\", \"Topic3\", \"Topic3\", \"Topic3\", \"Topic3\", \"Topic3\", \"Topic3\", \"Topic3\", \"Topic3\", \"Topic3\", \"Topic3\", \"Topic3\", \"Topic3\", \"Topic3\", \"Topic3\", \"Topic3\", \"Topic3\", \"Topic4\", \"Topic4\", \"Topic4\", \"Topic4\", \"Topic4\", \"Topic4\", \"Topic4\", \"Topic4\", \"Topic4\", \"Topic4\", \"Topic4\", \"Topic4\", \"Topic4\", \"Topic4\", \"Topic4\", \"Topic4\", \"Topic4\", \"Topic4\", \"Topic4\", \"Topic4\", \"Topic4\", \"Topic4\", \"Topic4\", \"Topic4\", \"Topic4\", \"Topic4\", \"Topic4\", \"Topic4\", \"Topic4\", \"Topic4\", \"Topic4\", \"Topic4\", \"Topic4\", \"Topic4\", \"Topic4\", \"Topic4\", \"Topic4\", \"Topic4\", \"Topic4\", \"Topic4\", \"Topic4\", \"Topic4\", \"Topic4\", \"Topic4\", \"Topic4\", \"Topic4\", \"Topic4\", \"Topic4\", \"Topic4\", \"Topic4\", \"Topic4\", \"Topic4\", \"Topic4\", \"Topic5\", \"Topic5\", \"Topic5\", \"Topic5\", \"Topic5\", \"Topic5\", \"Topic5\", \"Topic5\", \"Topic5\", \"Topic5\", \"Topic5\", \"Topic5\", \"Topic5\", \"Topic5\", \"Topic5\", \"Topic5\", \"Topic5\", \"Topic5\", \"Topic5\", \"Topic5\", \"Topic5\", \"Topic5\", \"Topic5\", \"Topic5\", \"Topic5\", \"Topic5\", \"Topic5\", \"Topic5\", \"Topic5\", \"Topic5\", \"Topic5\", \"Topic5\", \"Topic5\", \"Topic5\", \"Topic5\", \"Topic5\", \"Topic5\", \"Topic5\", \"Topic5\", \"Topic5\", \"Topic5\", \"Topic5\", \"Topic5\", \"Topic5\", \"Topic5\", \"Topic5\", \"Topic5\", \"Topic5\", \"Topic5\", \"Topic5\", \"Topic5\", \"Topic5\", \"Topic5\", \"Topic5\", \"Topic5\", \"Topic5\", \"Topic5\", \"Topic6\", \"Topic6\", \"Topic6\", \"Topic6\", \"Topic6\", \"Topic6\", \"Topic6\", \"Topic6\", \"Topic6\", \"Topic6\", \"Topic6\", \"Topic6\", \"Topic6\", \"Topic6\", \"Topic6\", \"Topic6\", \"Topic6\", \"Topic6\", \"Topic6\", \"Topic6\", \"Topic6\", \"Topic6\", \"Topic6\", \"Topic6\", \"Topic6\", \"Topic6\", \"Topic6\", \"Topic6\", \"Topic6\", \"Topic6\", \"Topic6\", \"Topic6\", \"Topic6\", \"Topic6\", \"Topic6\", \"Topic6\", \"Topic6\", \"Topic6\", \"Topic6\", \"Topic6\", \"Topic6\", \"Topic6\", \"Topic6\", \"Topic6\", \"Topic6\", \"Topic6\", \"Topic6\", \"Topic6\", \"Topic6\", \"Topic6\", \"Topic6\", \"Topic6\", \"Topic6\", \"Topic6\", \"Topic7\", \"Topic7\", \"Topic7\", \"Topic7\", \"Topic7\", \"Topic7\", \"Topic7\", \"Topic7\", \"Topic7\", \"Topic7\", \"Topic7\", \"Topic7\", \"Topic7\", \"Topic7\", \"Topic7\", \"Topic7\", \"Topic7\", \"Topic7\", \"Topic7\", \"Topic7\", \"Topic7\", \"Topic7\", \"Topic7\", \"Topic7\", \"Topic7\", \"Topic7\", \"Topic7\", \"Topic7\", \"Topic7\", \"Topic7\", \"Topic7\", \"Topic7\", \"Topic7\", \"Topic7\", \"Topic7\", \"Topic7\", \"Topic7\", \"Topic7\", \"Topic7\", \"Topic7\", \"Topic7\", \"Topic7\", \"Topic7\", \"Topic7\", \"Topic7\", \"Topic7\", \"Topic7\", \"Topic7\", \"Topic7\", \"Topic7\", \"Topic7\", \"Topic7\", \"Topic7\", \"Topic7\", \"Topic7\", \"Topic7\", \"Topic7\", \"Topic8\", \"Topic8\", \"Topic8\", \"Topic8\", \"Topic8\", \"Topic8\", \"Topic8\", \"Topic8\", \"Topic8\", \"Topic8\", \"Topic8\", \"Topic8\", \"Topic8\", \"Topic8\", \"Topic8\", \"Topic8\", \"Topic8\", \"Topic8\", \"Topic8\", \"Topic8\", \"Topic8\", \"Topic8\", \"Topic8\", \"Topic8\", \"Topic8\", \"Topic8\", \"Topic8\", \"Topic8\", \"Topic8\", \"Topic8\", \"Topic8\", \"Topic8\", \"Topic8\", \"Topic8\", \"Topic8\", \"Topic8\", \"Topic8\", \"Topic8\", \"Topic8\", \"Topic8\", \"Topic8\", \"Topic8\", \"Topic8\", \"Topic8\", \"Topic8\", \"Topic8\", \"Topic8\", \"Topic8\", \"Topic8\", \"Topic8\", \"Topic8\", \"Topic8\", \"Topic8\", \"Topic8\", \"Topic8\", \"Topic9\", \"Topic9\", \"Topic9\", \"Topic9\", \"Topic9\", \"Topic9\", \"Topic9\", \"Topic9\", \"Topic9\", \"Topic9\", \"Topic9\", \"Topic9\", \"Topic9\", \"Topic9\", \"Topic9\", \"Topic9\", \"Topic9\", \"Topic9\", \"Topic9\", \"Topic9\", \"Topic9\", \"Topic9\", \"Topic9\", \"Topic9\", \"Topic9\", \"Topic9\", \"Topic9\", \"Topic9\", \"Topic9\", \"Topic9\", \"Topic9\", \"Topic9\", \"Topic9\", \"Topic9\", \"Topic9\", \"Topic9\", \"Topic9\", \"Topic9\", \"Topic9\", \"Topic9\", \"Topic9\", \"Topic9\", \"Topic9\", \"Topic9\", \"Topic9\", \"Topic9\", \"Topic9\", \"Topic9\", \"Topic9\", \"Topic9\", \"Topic9\", \"Topic10\", \"Topic10\", \"Topic10\", \"Topic10\", \"Topic10\", \"Topic10\", \"Topic10\", \"Topic10\", \"Topic10\", \"Topic10\", \"Topic10\", \"Topic10\", \"Topic10\", \"Topic10\", \"Topic10\", \"Topic10\", \"Topic10\", \"Topic10\", \"Topic10\", \"Topic10\", \"Topic10\", \"Topic10\", \"Topic10\", \"Topic10\", \"Topic10\", \"Topic10\", \"Topic10\", \"Topic10\", \"Topic10\", \"Topic10\", \"Topic10\", \"Topic10\", \"Topic10\", \"Topic10\", \"Topic10\", \"Topic10\", \"Topic10\", \"Topic10\", \"Topic10\", \"Topic10\", \"Topic10\", \"Topic10\", \"Topic10\", \"Topic10\", \"Topic10\", \"Topic10\", \"Topic10\", \"Topic10\", \"Topic10\", \"Topic10\", \"Topic10\", \"Topic10\", \"Topic11\", \"Topic11\", \"Topic11\", \"Topic11\", \"Topic11\", \"Topic11\", \"Topic11\", \"Topic11\", \"Topic11\", \"Topic11\", \"Topic11\", \"Topic11\", \"Topic11\", \"Topic11\", \"Topic11\", \"Topic11\", \"Topic11\", \"Topic11\", \"Topic11\", \"Topic11\", \"Topic11\", \"Topic11\", \"Topic11\", \"Topic11\", \"Topic11\", \"Topic11\", \"Topic11\", \"Topic11\", \"Topic11\", \"Topic11\", \"Topic11\", \"Topic11\", \"Topic11\", \"Topic11\", \"Topic11\", \"Topic11\", \"Topic11\", \"Topic11\", \"Topic11\", \"Topic11\", \"Topic11\", \"Topic11\", \"Topic11\", \"Topic11\", \"Topic11\", \"Topic11\", \"Topic11\", \"Topic11\", \"Topic11\", \"Topic11\", \"Topic11\", \"Topic12\", \"Topic12\", \"Topic12\", \"Topic12\", \"Topic12\", \"Topic12\", \"Topic12\", \"Topic12\", \"Topic12\", \"Topic12\", \"Topic12\", \"Topic12\", \"Topic12\", \"Topic12\", \"Topic12\", \"Topic12\", \"Topic12\", \"Topic12\", \"Topic12\", \"Topic12\", \"Topic12\", \"Topic12\", \"Topic12\", \"Topic12\", \"Topic12\", \"Topic12\", \"Topic12\", \"Topic12\", \"Topic12\", \"Topic12\", \"Topic12\", \"Topic12\", \"Topic12\", \"Topic12\", \"Topic12\", \"Topic12\", \"Topic12\", \"Topic12\", \"Topic12\", \"Topic12\", \"Topic12\", \"Topic12\", \"Topic12\", \"Topic12\", \"Topic12\", \"Topic12\", \"Topic12\", \"Topic12\", \"Topic12\", \"Topic12\", \"Topic12\", \"Topic12\", \"Topic12\", \"Topic12\", \"Topic12\", \"Topic13\", \"Topic13\", \"Topic13\", \"Topic13\", \"Topic13\", \"Topic13\", \"Topic13\", \"Topic13\", \"Topic13\", \"Topic13\", \"Topic13\", \"Topic13\", \"Topic13\", \"Topic13\", \"Topic13\", \"Topic13\", \"Topic13\", \"Topic13\", \"Topic13\", \"Topic13\", \"Topic13\", \"Topic13\", \"Topic13\", \"Topic13\", \"Topic13\", \"Topic13\", \"Topic13\", \"Topic13\", \"Topic13\", \"Topic13\", \"Topic13\", \"Topic13\", \"Topic13\", \"Topic13\", \"Topic13\", \"Topic13\", \"Topic13\", \"Topic13\", \"Topic13\", \"Topic13\", \"Topic13\", \"Topic13\", \"Topic13\", \"Topic13\", \"Topic13\", \"Topic13\", \"Topic13\", \"Topic13\", \"Topic13\", \"Topic13\", \"Topic13\", \"Topic13\", \"Topic13\", \"Topic13\", \"Topic14\", \"Topic14\", \"Topic14\", \"Topic14\", \"Topic14\", \"Topic14\", \"Topic14\", \"Topic14\", \"Topic14\", \"Topic14\", \"Topic14\", \"Topic14\", \"Topic14\", \"Topic14\", \"Topic14\", \"Topic14\", \"Topic14\", \"Topic14\", \"Topic14\", \"Topic14\", \"Topic14\", \"Topic14\", \"Topic14\", \"Topic14\", \"Topic14\", \"Topic14\", \"Topic14\", \"Topic14\", \"Topic14\", \"Topic14\", \"Topic14\", \"Topic14\", \"Topic14\", \"Topic14\", \"Topic14\", \"Topic14\", \"Topic14\", \"Topic14\", \"Topic14\", \"Topic14\", \"Topic14\", \"Topic14\", \"Topic14\", \"Topic14\", \"Topic14\", \"Topic14\", \"Topic14\", \"Topic14\", \"Topic14\", \"Topic14\", \"Topic14\", \"Topic14\", \"Topic14\", \"Topic14\"], \"logprob\": [30.0, 29.0, 28.0, 27.0, 26.0, 25.0, 24.0, 23.0, 22.0, 21.0, 20.0, 19.0, 18.0, 17.0, 16.0, 15.0, 14.0, 13.0, 12.0, 11.0, 10.0, 9.0, 8.0, 7.0, 6.0, 5.0, 4.0, 3.0, 2.0, 1.0, -6.4589, -6.3156, -5.4191, -5.1661, -4.6741, -6.6463, -4.8623, -6.2698, -6.3698, -5.4358, -6.3039, -6.1032, -6.8935, -6.295, -6.557, -6.1826, -5.0295, -5.0042, -5.2484, -5.3657, -5.1015, -4.3017, -5.9153, -6.1259, -5.7906, -6.4908, -6.59, -7.1218, -3.6391, -6.994, -5.3266, -5.5163, -4.7613, -5.6065, -3.7726, -4.4243, -5.0808, -3.563, -4.6686, -4.5813, -4.9717, -4.8333, -5.1601, -4.8357, -3.738, -5.3709, -4.6117, -3.9733, -4.8473, -4.9599, -4.4469, -4.4783, -4.8856, -4.5008, -5.0428, -4.7319, -4.8638, -4.8644, -5.03, -5.0668, -6.3717, -6.1783, -3.2419, -5.0414, -5.9979, -4.736, -5.6492, -5.4908, -5.5963, -6.5775, -6.4987, -3.0409, -4.3833, -6.3047, -5.2485, -4.9908, -5.2669, -6.1509, -4.6591, -7.0927, -6.3143, -3.2092, -5.9119, -7.1063, -6.3332, -6.7763, -6.3539, -3.7605, -6.7875, -6.3672, -3.4765, -4.819, -5.3787, -5.0939, -5.2494, -5.3453, -5.0029, -4.9713, -3.9889, -4.7687, -4.431, -4.4552, -4.728, -4.0173, -4.1478, -4.5821, -4.1868, -4.6599, -4.652, -5.0511, -5.0478, -5.0403, -4.8574, -5.0175, -5.6478, -4.8766, -3.3002, -5.4666, -5.4527, -5.6666, -5.5365, -4.3574, -5.078, -6.0699, -5.848, -6.4966, -6.3917, -3.5156, -5.1734, -4.83, -5.5801, -6.8873, -4.8211, -5.3288, -5.8017, -6.9921, -6.8014, -4.6264, -5.8496, -6.6441, -6.7862, -6.5683, -6.783, -7.2166, -5.932, -5.764, -5.294, -3.9172, -5.0722, -4.6234, -4.3936, -5.1679, -4.6479, -4.7813, -4.4111, -4.291, -5.0774, -4.2157, -4.2671, -4.5982, -4.4687, -4.317, -4.29, -4.5316, -5.0018, -4.8222, -4.7783, -5.0332, -4.8438, -4.8692, -5.0543, -5.0731, -4.2101, -5.9774, -5.6998, -4.804, -3.8118, -3.3038, -4.6026, -6.5369, -3.3579, -4.1954, -5.5352, -5.9603, -3.8143, -6.0922, -6.5843, -4.4455, -4.5191, -5.2576, -6.9574, -5.8983, -6.0111, -5.9593, -3.965, -6.1472, -7.2318, -7.1781, -5.044, -6.576, -6.8549, -5.7801, -5.1914, -3.7447, -5.176, -4.9955, -4.7002, -4.256, -4.8501, -4.7756, -5.2223, -4.4268, -4.0706, -4.3307, -5.0865, -4.3487, -4.7073, -4.6215, -4.7975, -4.6723, -4.8608, -4.8917, -4.8912, -4.997, -5.0117, -4.9838, -5.0262, -3.8776, -5.6271, -5.1446, -5.6264, -5.2604, -4.9276, -5.5369, -5.9635, -5.3814, -5.6029, -5.9955, -3.8619, -5.3074, -5.6309, -5.9161, -3.5641, -6.12, -6.4235, -5.1163, -4.7016, -6.2376, -6.4635, -6.7294, -6.0483, -5.5022, -5.8471, -6.2617, -4.9243, -4.0582, -5.0535, -4.2117, -4.0104, -4.562, -5.441, -5.18, -5.3542, -4.4897, -4.3325, -5.062, -4.7588, -3.8516, -4.064, -4.4658, -4.7873, -4.8205, -4.7142, -4.816, -4.7443, -4.9882, -4.868, -4.9945, -4.9518, -4.9975, -4.9909, -5.0137, -5.5787, -4.8356, -5.6991, -5.8254, -4.6355, -5.6636, -5.5072, -6.1016, -4.4498, -6.4813, -4.5183, -5.5265, -5.8059, -6.4899, -6.5, -5.5204, -6.1301, -5.7037, -2.4211, -3.1185, -4.7389, -6.4837, -4.709, -5.964, -6.0905, -5.8633, -6.3549, -6.6287, -4.679, -7.0372, -3.1052, -4.7286, -5.643, -4.1441, -4.3759, -4.7146, -5.3142, -4.616, -4.684, -5.2227, -4.3304, -4.528, -4.317, -5.0343, -4.5563, -4.6211, -5.0925, -5.277, -5.0525, -4.9377, -5.1643, -5.2359, -5.2114, -5.2399, -5.4958, -4.8889, -4.3779, -2.8334, -5.4948, -6.0707, -6.0617, -4.6892, -5.019, -3.5223, -6.5538, -6.1773, -6.1769, -5.5891, -4.3093, -6.3207, -5.9557, -3.8388, -6.3893, -6.2368, -6.227, -6.0621, -7.1229, -4.4121, -3.7518, -6.2453, -5.2337, -5.9478, -6.83, -6.8592, -4.4067, -5.7648, -5.756, -4.3236, -4.8302, -3.9247, -5.3008, -4.4331, -5.3102, -4.8268, -4.4261, -5.471, -5.1071, -4.8014, -4.2974, -5.4194, -4.5495, -4.739, -4.8981, -5.2076, -4.5518, -4.5971, -4.6393, -4.8401, -4.8729, -4.9098, -5.0278, -5.7257, -4.3813, -4.8088, -5.1115, -5.4425, -5.9157, -5.1578, -5.8446, -5.1207, -4.6178, -4.7616, -6.1025, -6.1692, -4.8335, -6.3308, -5.0518, -5.3475, -6.0681, -4.5525, -5.6026, -6.4748, -4.9181, -6.5925, -5.2416, -6.3288, -4.8528, -3.6862, -6.3063, -4.801, -5.7598, -5.3515, -4.4011, -3.4066, -4.2738, -4.465, -4.7252, -4.4471, -5.1917, -5.2793, -5.0947, -3.9423, -4.5623, -4.8543, -4.2815, -5.0867, -4.3015, -4.4638, -4.5646, -4.6808, -4.8685, -4.8726, -4.9284, -4.9533, -5.0551, -5.0329, -5.3982, -3.7124, -5.0073, -3.9437, -5.0781, -4.1289, -3.8484, -5.066, -5.6158, -5.8709, -3.9809, -5.1825, -5.8147, -4.4807, -6.6749, -5.8555, -5.2943, -6.2841, -6.4747, -6.0336, -5.6633, -6.6328, -6.0594, -4.9913, -3.2656, -3.8011, -5.7419, -5.9172, -6.6208, -6.1251, -3.5721, -4.3651, -5.7464, -4.4014, -4.8852, -3.8732, -5.103, -4.8939, -4.6796, -4.6578, -4.897, -4.8337, -4.3917, -4.592, -4.6112, -4.4346, -4.6641, -4.9628, -4.9628, -4.9478, -5.0489, -5.1534, -4.8379, -5.367, -3.7601, -3.8647, -4.6249, -4.054, -2.7721, -5.9247, -4.8389, -5.9649, -4.7238, -6.5547, -5.446, -5.1566, -4.9884, -6.5345, -5.823, -6.6181, -5.6268, -4.229, -6.4731, -5.1061, -5.6106, -5.4161, -6.734, -6.6076, -6.6487, -5.5206, -5.7948, -5.0616, -6.1132, -3.8772, -4.5163, -4.5575, -4.2076, -3.9582, -4.2117, -4.1052, -4.4133, -4.5122, -5.1417, -4.7324, -4.9928, -4.6257, -4.7992, -5.0167, -4.98, -4.9627, -5.0371, -5.1043, -5.1035, -3.7609, -5.224, -3.2839, -4.4995, -5.9149, -4.1904, -5.6569, -4.4166, -5.7119, -3.9666, -3.7607, -6.4985, -4.7889, -4.6712, -5.5818, -6.7896, -4.7443, -5.014, -6.9297, -7.0431, -5.2705, -4.6581, -6.8982, -4.5034, -6.7158, -3.681, -4.0166, -7.3092, -7.4005, -7.0833, -4.0452, -5.2764, -4.7878, -5.5229, -4.0906, -5.3327, -5.3794, -4.0872, -5.0172, -4.1729, -4.7175, -4.4938, -4.1062, -4.5102, -4.59, -4.5722, -4.9455, -4.572, -4.8668, -4.9318, -5.0093, -4.097, -4.8231, -5.9252, -5.5035, -4.8056, -6.1895, -3.0377, -4.0765, -5.9182, -4.8024, -4.0197, -5.9821, -5.8918, -6.3103, -6.2337, -6.7943, -4.5919, -6.6491, -5.3051, -5.9035, -5.9025, -5.568, -6.9069, -6.2583, -6.3768, -5.5979, -7.0062, -7.4219, -5.9257, -7.4005, -6.5845, -3.1515, -4.6933, -5.7464, -4.7755, -4.1815, -5.0628, -3.8396, -4.869, -4.4207, -4.174, -4.4587, -5.3205, -4.7298, -4.8674, -4.6185, -4.9446, -5.0934, -5.1976, -5.1063, -5.0387, -5.056, -4.9062, -5.1043, -5.1472, -2.551, -5.0729, -5.5522, -6.4383, -5.6955, -4.2999, -6.1036, -4.5856, -3.5218, -6.9768, -5.8694, -6.1083, -7.1455, -6.0821, -6.8388, -7.0588, -6.2636, -7.2702, -5.104, -6.6895, -5.2615, -6.8228, -4.9634, -7.1106, -6.9397, -7.2006, -6.8464, -6.9161, -4.6638, -7.0435, -3.9219, -3.2673, -4.6384, -5.2877, -4.9538, -4.2056, -5.02, -5.0864, -4.3127, -5.0293, -4.6922, -5.182, -5.0423, -4.4656, -4.7186, -4.5401, -4.3817, -4.4835, -4.8696, -4.9482, -4.9654, -5.1056, -5.1404, -5.1769, -5.5099, -3.4045, -4.8798, -5.2113, -3.4877, -5.3325, -4.9851, -5.9461, -3.1559, -6.1899, -3.9481, -4.6527, -4.6471, -4.4906, -5.4941, -6.2508, -5.7274, -5.4724, -5.6969, -6.2291, -5.4798, -5.7726, -5.8019, -5.1625, -5.5589, -6.9039, -6.5671, -6.8119, -6.805, -6.1364, -5.4773, -5.689, -4.0176, -5.7228, -5.6775, -4.6604, -4.7227, -5.3157, -4.272, -4.0664, -4.6548, -4.5801, -4.6973, -4.5539, -4.8919, -4.7988, -4.6755, -4.7291, -4.9407, -5.1236, -5.2081, -5.1679, -5.1927, -5.2149], \"loglift\": [30.0, 29.0, 28.0, 27.0, 26.0, 25.0, 24.0, 23.0, 22.0, 21.0, 20.0, 19.0, 18.0, 17.0, 16.0, 15.0, 14.0, 13.0, 12.0, 11.0, 10.0, 9.0, 8.0, 7.0, 6.0, 5.0, 4.0, 3.0, 2.0, 1.0, 2.0016, 2.0006, 1.9997, 1.9546, 1.9289, 1.923, 1.9145, 1.9082, 1.8867, 1.8861, 1.8692, 1.8664, 1.8365, 1.8054, 1.8038, 1.7823, 1.7823, 1.7714, 1.7671, 1.7413, 1.7274, 1.7156, 1.6978, 1.6752, 1.6741, 1.6664, 1.6581, 1.6532, 1.6454, 1.6426, 1.6419, 1.6334, 1.596, 1.6234, 1.4846, 1.3855, 1.4351, 1.0332, 1.3267, 1.2421, 1.2964, 1.2371, 1.3609, 1.1249, 0.4609, 1.3786, 0.8505, 0.3469, 0.9776, 1.0318, 0.552, 0.2454, 0.8, -0.0836, 0.9306, -0.4054, 0.1174, -0.0425, -0.0192, 0.3063, 2.1772, 2.0494, 2.0392, 2.0377, 2.0013, 1.9854, 1.9697, 1.8982, 1.8403, 1.8095, 1.7697, 1.7251, 1.667, 1.5955, 1.5621, 1.5398, 1.5394, 1.5246, 1.4917, 1.4885, 1.4738, 1.4704, 1.4474, 1.4172, 1.396, 1.3916, 1.39, 1.3765, 1.3691, 1.3546, 1.1646, 1.1966, 1.2391, 1.2036, 1.1946, 1.1195, 1.0007, 0.9626, 0.5537, 0.8569, 0.6396, 0.6248, 0.7756, 0.3092, 0.2694, 0.458, 0.0121, 0.3509, 0.17, 0.7359, 0.5969, 0.5164, -0.1337, 0.3645, 2.2325, 2.2232, 2.1904, 2.1669, 2.1548, 2.1355, 2.1237, 2.1018, 2.0751, 2.0722, 2.0603, 2.0375, 2.0362, 2.0355, 2.0327, 2.0312, 1.9536, 1.8888, 1.8881, 1.8562, 1.817, 1.8145, 1.7804, 1.761, 1.7437, 1.738, 1.7348, 1.6575, 1.6553, 1.5943, 1.5756, 1.5285, 1.4556, 1.1229, 1.3482, 1.2, 1.1257, 1.259, 1.0591, 1.0437, 0.7259, 0.6126, 1.1486, 0.3269, 0.1501, 0.4732, 0.2972, 0.0095, -0.0911, 0.1095, 0.9401, 0.5477, 0.2923, 0.8807, 0.167, -0.1455, 0.8886, 0.7332, 2.2405, 2.199, 2.1886, 2.1672, 2.0917, 2.0896, 2.0464, 1.9844, 1.9408, 1.85, 1.8305, 1.7875, 1.7696, 1.7558, 1.7424, 1.7339, 1.7258, 1.7146, 1.6684, 1.5817, 1.5746, 1.5261, 1.5062, 1.4918, 1.4425, 1.4384, 1.4285, 1.4254, 1.4222, 1.4139, 1.4119, 1.3267, 1.2804, 1.2584, 1.0699, 0.7269, 0.9562, 0.9134, 1.1004, 0.6133, 0.2559, 0.2119, 0.8275, 0.0685, 0.3633, 0.0196, 0.2025, -0.4734, -0.0388, -0.168, -0.2116, 0.0138, 0.1253, 2.3972, 2.3746, 2.373, 2.364, 2.3309, 2.3234, 2.2934, 2.2523, 2.2516, 2.248, 2.2182, 2.2014, 2.1801, 2.1765, 2.174, 2.1319, 2.1269, 2.1139, 2.1047, 2.0879, 2.0767, 2.075, 2.049, 2.0435, 2.0427, 2.0238, 2.0225, 2.0184, 2.013, 1.9993, 1.8198, 1.8554, 1.7221, 1.6152, 1.6285, 1.8472, 1.7623, 1.7979, 1.2625, 1.1375, 1.5285, 1.2255, 0.3473, 0.2625, 0.6049, 0.7694, 0.518, 0.2669, 0.4196, 0.0776, 0.6974, -0.5478, 0.2476, -0.3556, -0.0939, -0.2672, -0.5965, 2.5992, 2.4721, 2.4412, 2.4073, 2.226, 2.1759, 2.1547, 2.1111, 2.1065, 2.0641, 2.0402, 1.9999, 1.9863, 1.9852, 1.9828, 1.9596, 1.9422, 1.9345, 1.8991, 1.8644, 1.8012, 1.791, 1.7677, 1.7675, 1.7599, 1.7156, 1.714, 1.7091, 1.6854, 1.6434, 1.4373, 1.4508, 1.5362, 1.1546, 1.1434, 1.2283, 1.377, 0.8552, 0.8999, 1.2347, 0.3933, 0.4719, 0.0095, 0.8436, -0.1391, -0.0249, 0.5932, 1.061, -0.1489, -0.7388, 0.0778, 0.1982, -0.1408, -0.0043, 2.6635, 2.6463, 2.6438, 2.5703, 2.4962, 2.3911, 2.235, 2.2294, 2.2134, 2.1855, 2.1717, 2.1055, 2.0923, 2.0899, 2.0452, 2.0397, 2.0038, 1.9507, 1.8982, 1.8891, 1.8731, 1.8035, 1.7653, 1.7376, 1.7183, 1.6885, 1.6482, 1.6426, 1.6343, 1.6233, 1.5272, 1.5828, 1.5339, 1.1386, 1.1327, 0.6715, 1.3201, 0.8241, 1.3076, 0.9385, 0.5739, 1.3547, 1.0504, 0.7266, 0.1198, 1.2858, -0.0069, 0.2421, 0.484, 0.9433, -0.3529, -0.2769, -0.3128, -0.0181, -0.1933, -0.2686, -0.0169, 2.5761, 2.5301, 2.5161, 2.5075, 2.4843, 2.4793, 2.4196, 2.3881, 2.3688, 2.3548, 2.3448, 2.2911, 2.2775, 2.2682, 2.2451, 2.235, 2.2183, 2.1774, 2.1611, 2.1556, 2.1382, 2.1315, 2.0742, 2.0725, 2.0535, 2.0494, 2.0208, 2.0101, 1.9809, 1.9385, 1.9334, 1.7966, 1.664, 1.6972, 1.6331, 1.5971, 1.3181, 1.6982, 1.7396, 1.5585, 0.3842, 0.9657, 1.2909, 0.1357, 1.4895, 0.0187, 0.0788, 0.2573, 0.3898, 0.5937, 0.363, 0.4446, -0.0497, 1.2676, 0.3113, 2.6513, 2.6387, 2.6266, 2.5339, 2.5065, 2.431, 2.3711, 2.3598, 2.3405, 2.3196, 2.2355, 2.208, 2.0475, 2.0371, 2.0204, 1.996, 1.9955, 1.933, 1.9316, 1.9138, 1.8862, 1.8481, 1.8352, 1.8196, 1.7344, 1.7264, 1.7219, 1.7196, 1.717, 1.6455, 1.4268, 1.4002, 1.5677, 1.0699, 1.2127, 0.723, 1.2194, 1.0791, 0.9043, 0.8703, 0.9511, 0.8733, 0.3321, 0.4786, 0.2924, -0.2357, 0.1578, 0.8056, 0.0201, -0.6213, -0.6316, 2.7712, 2.7064, 2.6419, 2.4968, 2.4371, 2.4288, 2.4034, 2.398, 2.2603, 2.2439, 2.108, 2.1018, 2.0788, 2.0762, 2.0584, 2.0384, 1.989, 1.954, 1.9361, 1.9215, 1.9166, 1.9019, 1.895, 1.8856, 1.8621, 1.816, 1.6908, 1.6838, 1.6731, 1.643, 1.6296, 1.6178, 1.1057, 0.9549, 0.9618, 0.696, 0.459, 0.4294, 0.2213, 0.4087, 0.4877, 0.8317, 0.0336, 0.5109, -0.4268, -0.203, 0.2189, 0.0309, -0.2831, -0.056, 0.1379, -0.5609, 2.3967, 2.3642, 2.3302, 2.325, 2.3075, 2.2842, 2.2557, 2.2456, 2.0662, 2.0064, 1.9916, 1.8822, 1.8712, 1.8551, 1.731, 1.7048, 1.6102, 1.607, 1.5014, 1.493, 1.4529, 1.4423, 1.4182, 1.4106, 1.3946, 1.3904, 1.3654, 1.3634, 1.3228, 1.3037, 1.2933, 1.2821, 1.1862, 1.2267, 0.9084, 1.1321, 1.1391, 0.5924, 0.9671, 0.5509, 0.8106, 0.5463, 0.0927, 0.4709, 0.4807, 0.2498, 0.8198, -0.2455, -0.3242, -0.5146, -0.4131, 2.7274, 2.6955, 2.4876, 2.4376, 2.4156, 2.3375, 2.3008, 2.1581, 2.1426, 2.1064, 2.0784, 1.9728, 1.9093, 1.8837, 1.8794, 1.8611, 1.8567, 1.8453, 1.8032, 1.7903, 1.7117, 1.7075, 1.6743, 1.6571, 1.6419, 1.6355, 1.6102, 1.5963, 1.5819, 1.5734, 1.5721, 1.4896, 1.5045, 1.5418, 1.3702, 0.7996, 1.1277, 0.4806, 0.8832, 0.5792, 0.0249, 0.265, 1.0019, 0.1738, 0.2126, -0.292, 0.0662, 0.3407, 0.4804, 0.2378, 0.0319, 0.0146, -0.489, -0.033, -0.0102, 3.0137, 2.8346, 2.4801, 2.2721, 2.121, 2.0645, 1.8863, 1.867, 1.8481, 1.8394, 1.7882, 1.7812, 1.7504, 1.7487, 1.7191, 1.7134, 1.6757, 1.6677, 1.6556, 1.5971, 1.5925, 1.557, 1.5543, 1.5139, 1.4786, 1.457, 1.3475, 1.3283, 1.3102, 1.3016, 1.077, 0.9316, 1.0473, 1.1327, 1.0497, 0.8345, 0.9428, 0.8475, 0.4532, 0.6597, 0.4779, 0.7216, 0.6205, 0.214, 0.352, 0.1836, 0.0356, -0.157, -0.0477, 0.0329, -0.6452, -0.0342, 0.1018, -0.0969, 2.9229, 2.9209, 2.6826, 2.6299, 2.6234, 2.5412, 2.5293, 2.405, 2.3716, 2.3626, 2.3556, 2.3484, 2.3019, 2.2986, 2.2829, 2.2678, 2.2651, 2.2586, 2.2505, 2.167, 2.1511, 2.0912, 2.0636, 1.9959, 1.9894, 1.8716, 1.859, 1.8305, 1.8034, 1.7806, 1.771, 1.7627, 1.6503, 1.7085, 1.6819, 1.3732, 1.0871, 1.4583, 0.6316, 0.3508, 0.5874, 0.4307, 0.5599, 0.0423, 0.3437, 0.0232, -0.4766, -0.4026, 0.1393, 0.2495, 0.7257, 0.4578, 0.4778, 0.155]}, \"token.table\": {\"Topic\": [1, 2, 3, 4, 5, 6, 7, 8, 9, 10, 11, 12, 13, 14, 1, 2, 3, 4, 5, 6, 7, 8, 9, 10, 11, 12, 13, 14, 1, 2, 3, 4, 5, 6, 7, 8, 9, 10, 11, 12, 13, 14, 1, 2, 3, 4, 5, 6, 7, 8, 9, 12, 13, 14, 1, 2, 3, 4, 5, 6, 7, 8, 9, 10, 11, 12, 13, 14, 1, 2, 3, 4, 5, 6, 7, 8, 9, 10, 11, 12, 13, 14, 1, 2, 3, 4, 5, 6, 7, 8, 9, 10, 11, 12, 13, 14, 1, 2, 3, 4, 5, 7, 8, 9, 10, 11, 12, 13, 14, 1, 2, 3, 4, 5, 6, 7, 8, 9, 10, 11, 12, 13, 14, 1, 2, 3, 4, 5, 6, 7, 8, 9, 10, 11, 12, 13, 14, 1, 2, 3, 4, 6, 7, 8, 9, 10, 11, 12, 13, 1, 2, 3, 4, 5, 6, 7, 8, 9, 10, 11, 12, 13, 14, 1, 2, 4, 5, 6, 10, 11, 12, 13, 1, 2, 3, 4, 5, 6, 7, 8, 9, 11, 12, 13, 3, 4, 6, 7, 9, 11, 12, 14, 1, 2, 3, 4, 5, 6, 7, 8, 9, 10, 11, 12, 13, 1, 2, 3, 4, 5, 6, 8, 9, 10, 11, 12, 13, 14, 1, 2, 3, 4, 5, 6, 7, 8, 10, 11, 12, 13, 1, 2, 5, 8, 9, 11, 12, 13, 14, 1, 2, 3, 4, 5, 6, 7, 10, 11, 12, 13, 14, 3, 4, 5, 6, 7, 9, 10, 12, 13, 1, 2, 3, 5, 6, 7, 9, 10, 11, 13, 14, 1, 2, 3, 4, 5, 6, 7, 8, 9, 10, 11, 12, 13, 14, 1, 2, 3, 4, 5, 6, 7, 8, 9, 10, 11, 12, 13, 14, 1, 2, 3, 4, 5, 6, 7, 9, 10, 11, 12, 14, 1, 2, 3, 4, 5, 6, 7, 8, 9, 10, 11, 12, 13, 14, 1, 2, 3, 4, 5, 6, 7, 8, 9, 10, 11, 12, 13, 14, 1, 2, 3, 4, 5, 6, 7, 8, 9, 10, 11, 12, 13, 14, 1, 2, 3, 4, 5, 6, 7, 9, 11, 12, 13, 14, 1, 2, 3, 4, 5, 6, 7, 8, 9, 10, 11, 12, 13, 14, 1, 2, 3, 4, 5, 6, 7, 8, 9, 10, 11, 12, 1, 2, 3, 4, 5, 6, 7, 10, 11, 12, 14, 1, 2, 4, 5, 6, 7, 8, 9, 10, 11, 12, 13, 1, 3, 4, 5, 6, 7, 8, 9, 10, 11, 12, 13, 14, 1, 2, 3, 4, 5, 6, 7, 8, 9, 10, 11, 12, 13, 1, 5, 6, 8, 12, 1, 2, 4, 6, 8, 10, 11, 13, 1, 3, 6, 7, 9, 10, 11, 12, 1, 2, 3, 4, 5, 7, 9, 10, 11, 12, 13, 14, 1, 2, 3, 4, 5, 6, 7, 8, 9, 10, 11, 12, 13, 14, 1, 2, 3, 4, 5, 6, 7, 8, 10, 11, 12, 13, 14, 1, 3, 4, 5, 6, 9, 10, 11, 14, 1, 2, 3, 4, 6, 7, 8, 10, 11, 13, 1, 2, 5, 6, 13, 14, 1, 3, 4, 5, 6, 7, 8, 10, 11, 12, 13, 14, 1, 2, 3, 4, 5, 6, 7, 8, 10, 11, 12, 13, 14, 1, 2, 3, 4, 5, 6, 7, 8, 9, 10, 11, 12, 13, 14, 1, 2, 3, 4, 5, 7, 9, 11, 12, 13, 1, 2, 3, 4, 5, 6, 7, 8, 9, 10, 11, 12, 13, 14, 1, 2, 3, 4, 5, 6, 7, 8, 11, 12, 13, 1, 2, 3, 4, 5, 6, 7, 8, 9, 10, 11, 12, 13, 14, 1, 2, 3, 4, 5, 6, 7, 9, 10, 11, 12, 13, 14, 1, 2, 3, 4, 5, 6, 7, 8, 9, 10, 11, 12, 13, 14, 1, 2, 3, 4, 5, 6, 7, 8, 9, 10, 11, 13, 14, 1, 2, 3, 4, 5, 6, 7, 8, 9, 10, 11, 12, 13, 14, 1, 2, 3, 4, 5, 6, 7, 8, 9, 10, 11, 12, 13, 14, 1, 2, 3, 4, 5, 8, 10, 11, 12, 13, 14, 1, 2, 3, 4, 5, 6, 7, 8, 9, 10, 11, 12, 13, 14, 2, 3, 4, 6, 8, 9, 11, 12, 13, 1, 2, 3, 4, 5, 6, 8, 10, 11, 12, 13, 14, 1, 2, 3, 4, 5, 6, 7, 8, 9, 10, 11, 12, 13, 14, 2, 3, 4, 7, 8, 10, 11, 13, 14, 1, 2, 3, 4, 5, 6, 7, 8, 9, 10, 11, 12, 13, 14, 2, 3, 4, 5, 9, 11, 12, 13, 3, 4, 5, 8, 9, 10, 12, 13, 14, 1, 2, 3, 4, 6, 8, 10, 1, 2, 3, 5, 6, 7, 8, 11, 12, 13, 14, 1, 3, 5, 6, 10, 13, 3, 5, 7, 8, 9, 12, 1, 3, 4, 5, 8, 9, 10, 12, 13, 14, 1, 2, 3, 4, 5, 6, 7, 8, 9, 10, 11, 12, 13, 14, 1, 2, 3, 4, 5, 6, 7, 8, 10, 11, 13, 1, 2, 3, 4, 5, 6, 7, 8, 9, 10, 11, 12, 13, 14, 1, 2, 3, 4, 5, 6, 7, 8, 9, 10, 11, 12, 1, 2, 3, 5, 6, 9, 11, 12, 13, 14, 1, 2, 3, 4, 5, 6, 7, 8, 9, 10, 11, 12, 13, 14, 2, 3, 4, 5, 6, 7, 10, 11, 13, 14, 1, 2, 4, 5, 6, 7, 8, 9, 10, 11, 12, 13, 14, 1, 2, 3, 4, 5, 6, 7, 8, 9, 10, 11, 12, 13, 14, 1, 2, 3, 4, 5, 7, 8, 9, 10, 11, 13, 14, 1, 2, 3, 4, 5, 6, 7, 8, 9, 10, 11, 12, 13, 14, 1, 2, 3, 4, 5, 6, 7, 8, 9, 10, 11, 12, 13, 14, 1, 2, 3, 4, 5, 6, 8, 9, 11, 12, 13, 14, 1, 2, 3, 4, 5, 6, 7, 8, 9, 10, 11, 12, 13, 14, 1, 2, 3, 4, 6, 7, 8, 9, 12, 13, 14, 1, 2, 3, 4, 5, 6, 7, 8, 9, 10, 11, 12, 13, 14, 1, 2, 3, 4, 6, 7, 8, 1, 2, 3, 4, 5, 6, 7, 8, 9, 10, 11, 12, 13, 14, 1, 3, 5, 7, 9, 12, 13, 1, 2, 3, 4, 5, 6, 7, 8, 9, 11, 12, 13, 14, 1, 2, 3, 4, 5, 6, 7, 9, 10, 11, 12, 13, 14, 1, 2, 5, 11, 12, 13, 1, 2, 3, 4, 7, 8, 10, 11, 12, 13, 14, 1, 2, 3, 4, 5, 6, 7, 8, 9, 10, 11, 12, 13, 14, 1, 2, 3, 4, 5, 6, 7, 10, 11, 12, 14, 1, 2, 4, 5, 6, 7, 8, 9, 10, 11, 12, 13, 14, 1, 2, 3, 4, 5, 6, 7, 8, 9, 10, 11, 12, 13, 14, 1, 2, 3, 4, 5, 6, 7, 8, 9, 10, 11, 12, 13, 14, 1, 2, 3, 4, 5, 6, 7, 8, 9, 10, 11, 12, 13, 14, 3, 4, 5, 6, 7, 9, 10, 11, 12, 13, 14, 1, 2, 3, 4, 5, 6, 7, 9, 10, 11, 12, 13, 14, 2, 3, 4, 7, 8, 9, 11, 12, 13, 1, 2, 3, 4, 5, 6, 7, 8, 9, 10, 11, 12, 13, 14, 2, 3, 4, 7, 9, 12, 1, 2, 3, 4, 5, 6, 7, 8, 9, 10, 11, 12, 13, 14, 1, 2, 3, 4, 5, 6, 7, 8, 9, 10, 11, 12, 13, 14, 1, 2, 3, 4, 6, 8, 9, 10, 11, 13, 1, 2, 3, 4, 5, 6, 7, 8, 9, 10, 11, 12, 13, 14, 2, 3, 4, 8, 9, 11, 12, 2, 3, 8, 9, 12, 1, 2, 3, 4, 5, 6, 7, 9, 12, 13, 14, 1, 2, 3, 4, 5, 6, 7, 8, 9, 10, 11, 12, 13, 1, 3, 4, 5, 7, 8, 9, 10, 11, 13, 1, 2, 3, 4, 5, 6, 7, 8, 9, 10, 11, 12, 13, 14, 3, 7, 8, 9, 11, 12, 1, 2, 3, 4, 5, 6, 9, 10, 11, 13, 1, 2, 5, 6, 7, 8, 10, 11, 12, 13, 14, 4, 5, 6, 13, 14, 1, 2, 3, 4, 5, 6, 7, 8, 9, 10, 11, 12, 13, 14, 1, 2, 3, 4, 6, 7, 8, 9, 10, 11, 12, 14, 1, 2, 3, 4, 5, 6, 7, 8, 9, 10, 11, 12, 13, 14, 1, 2, 3, 4, 5, 6, 7, 8, 9, 10, 11, 12, 13, 14, 2, 4, 5, 6, 10, 13, 14, 1, 2, 3, 4, 5, 6, 7, 8, 9, 10, 11, 12, 13, 14, 2, 3, 8, 9, 10, 11, 12, 13, 14, 1, 2, 3, 4, 5, 6, 7, 8, 9, 10, 11, 12, 13, 14, 1, 2, 3, 4, 5, 6, 7, 8, 9, 10, 11, 12, 13, 14, 1, 2, 3, 4, 5, 6, 7, 8, 9, 10, 11, 12, 13, 14, 1, 3, 4, 5, 7, 8, 9, 10, 11, 12, 13, 1, 4, 7, 9, 10, 11, 2, 3, 4, 5, 8, 11, 12, 13, 14, 1, 2, 3, 4, 5, 6, 7, 8, 10, 12, 13, 14, 1, 2, 3, 4, 5, 7, 8, 9, 10, 11, 12, 13, 14, 1, 2, 3, 4, 5, 6, 7, 8, 9, 10, 11, 12, 13, 1, 2, 3, 7, 8, 11, 12, 13, 14, 1, 2, 4, 6, 7, 9, 10, 12, 1, 2, 6, 7, 9, 10, 12, 2, 3, 4, 7, 9, 10, 12, 13, 1, 2, 4, 6, 7, 8, 11, 12, 13, 14, 1, 2, 3, 4, 5, 6, 7, 8, 9, 10, 11, 12, 13, 14, 1, 3, 4, 5, 6, 7, 8, 9, 10, 11, 12, 1, 2, 3, 4, 7, 8, 9, 11, 13, 14, 1, 2, 3, 4, 5, 6, 7, 8, 9, 11, 12, 13, 14, 1, 2, 3, 4, 5, 6, 7, 8, 9, 10, 11, 12, 13, 14, 1, 2, 3, 4, 5, 6, 7, 8, 9, 10, 11, 12, 13, 14, 1, 4, 5, 6, 11, 12, 13, 14, 2, 3, 4, 5, 6, 7, 8, 9, 10, 11, 12, 13, 14, 1, 3, 4, 6, 7, 8, 9, 10, 11, 12, 13, 14, 1, 4, 6, 7, 1, 2, 3, 4, 5, 6, 7, 8, 9, 10, 11, 12, 13, 14, 5, 6, 8, 10, 11, 12, 14, 1, 2, 3, 4, 5, 6, 7, 8, 9, 10, 11, 12, 13, 14, 1, 2, 5, 6, 7, 8, 9, 11, 12, 13, 14, 1, 2, 4, 6, 9, 10, 12, 14, 2, 3, 4, 6, 9, 12, 13, 14, 1, 5, 6, 7, 8, 10, 11, 12, 13, 14, 1, 2, 3, 4, 5, 6, 7, 8, 9, 10, 11, 12, 13, 14, 1, 2, 4, 7, 11, 14, 1, 2, 3, 4, 5, 6, 7, 8, 9, 10, 11, 12, 13, 14, 1, 2, 3, 4, 5, 6, 7, 8, 11, 12, 13, 2, 3, 5, 6, 7, 9, 10, 11, 12, 13, 3, 4, 6, 8, 9, 14, 3, 6, 7, 8, 9, 10, 12, 13, 14, 1, 3, 7, 8, 9, 11, 1, 2, 3, 4, 5, 6, 7, 8, 9, 10, 11, 12, 13, 14, 2, 4, 5, 6, 8, 9, 10, 11, 12, 13, 14, 1, 2, 3, 4, 5, 6, 7, 8, 9, 10, 11, 12, 13, 14, 1, 2, 3, 4, 5, 6, 7, 8, 9, 10, 11, 12, 13, 14, 1, 2, 3, 4, 5, 6, 7, 8, 9, 10, 11, 12, 13, 14, 1, 2, 3, 4, 5, 6, 7, 8, 9, 10, 11, 12, 13, 14, 1, 2, 3, 5, 6, 7, 11, 12, 13, 14, 1, 2, 3, 4, 5, 6, 7, 8, 9, 10, 11, 12, 13, 14, 1, 2, 3, 4, 5, 8, 10, 11, 12, 13, 1, 2, 4, 5, 6, 7, 8, 9, 11, 12, 13, 1, 2, 4, 5, 6, 8, 9, 12, 13, 14, 1, 2, 3, 4, 5, 6, 7, 8, 9, 10, 13, 1, 2, 3, 4, 5, 6, 7, 8, 9, 10, 11, 12, 13, 1, 2, 3, 4, 5, 6, 7, 8, 9, 10, 11, 12, 13, 1, 3, 4, 5, 6, 8, 9, 10, 12, 13, 14, 1, 2, 3, 4, 6, 7, 8, 9, 10, 11, 12, 13, 14, 1, 2, 3, 4, 6, 7, 8, 9, 10, 11, 12, 13, 14, 1, 2, 3, 5, 6, 7, 8, 10, 11, 12, 13, 14, 1, 2, 3, 4, 5, 6, 7, 8, 9, 10, 11, 12, 13, 14, 1, 2, 3, 4, 5, 6, 7, 8, 9, 10, 11, 12, 13, 14, 1, 4, 6, 8, 9, 11, 12, 13, 1, 2, 3, 4, 5, 6, 7, 8, 9, 10, 11, 12, 13, 14, 2, 3, 4, 5, 7, 11, 13, 14, 2, 5, 6, 7, 8, 11, 12, 13, 1, 2, 4, 5, 6, 8, 9, 10, 11, 12, 13, 2, 3, 4, 5, 11, 12, 13, 14, 1, 3, 4, 5, 6, 7, 8, 9, 10, 11, 12, 13, 14, 1, 2, 3, 4, 5, 6, 7, 8, 9, 10, 11, 12, 13, 14, 1, 2, 3, 4, 5, 6, 7, 8, 9, 10, 11, 12, 13, 14, 1, 2, 3, 5, 7, 8, 9, 11, 12, 13, 14, 1, 2, 3, 4, 5, 6, 7, 8, 9, 10, 11, 12, 13, 14, 1, 2, 3, 4, 5, 6, 7, 8, 9, 10, 11, 12, 13, 14, 1, 2, 3, 4, 5, 6, 9, 11, 12, 13, 1, 2, 3, 4, 5, 6, 7, 11, 12, 13, 1, 2, 3, 4, 6, 9, 10, 12, 13, 14, 1, 2, 3, 4, 5, 6, 7, 8, 9, 10, 11, 12, 13, 14, 2, 3, 4, 5, 6, 7, 8, 9, 10, 11, 13, 14, 1, 2, 3, 4, 5, 6, 7, 8, 9, 10, 11, 12, 13, 14, 1, 2, 3, 6, 7, 8, 9, 10, 2, 3, 5, 6, 9, 10, 11, 13, 14, 1, 2, 3, 4, 5, 6, 8, 9, 11, 12, 13, 14, 1, 2, 3, 4, 5, 6, 7, 8, 9, 10, 11, 12, 13, 1, 3, 4, 9, 12, 13, 1, 2, 5, 8, 12, 13, 1, 2, 4, 5, 6, 7, 11, 12, 14, 1, 2, 3, 4, 5, 6, 7, 9, 10, 11, 12, 13, 14, 2, 3, 4, 7, 10, 12, 13, 14, 1, 3, 4, 6, 7, 8, 9, 11, 12, 13, 1, 2, 4, 5, 6, 7, 8, 9, 10, 11, 12, 13, 14, 1, 5, 6, 9, 10, 11, 12, 13, 14, 1, 2, 3, 4, 5, 6, 7, 8, 9, 10, 11, 12, 13, 14, 1, 2, 3, 4, 5, 6, 7, 8, 9, 10, 11, 12, 13, 14, 1, 2, 5, 7, 9, 10, 11, 12, 1, 2, 3, 4, 8, 9, 11, 12, 13, 1, 2, 3, 4, 5, 6, 7, 8, 9, 10, 11, 12, 13, 14, 1, 2, 3, 4, 5, 7, 8, 9, 11, 12, 13, 1, 2, 4, 5, 6, 7, 8, 9, 10, 11, 12, 13, 14, 1, 2, 3, 4, 5, 6, 7, 8, 9, 10, 11, 12, 13, 14, 1, 2, 3, 4, 5, 6, 7, 8, 9, 10, 11, 12, 13, 14, 1, 2, 3, 4, 5, 6, 7, 8, 9, 10, 11, 12, 13, 14, 1, 2, 3, 4, 5, 6, 7, 8, 9, 10, 11, 12, 13, 14, 2, 3, 4, 9, 10, 11, 12, 1, 2, 4, 7, 10, 11, 13, 14, 2, 3, 4, 7, 8, 9, 10, 11, 12, 14, 1, 4, 5, 6, 10, 11, 13, 14, 1, 2, 3, 4, 5, 6, 7, 8, 9, 10, 11, 12, 13, 14, 1, 2, 3, 4, 5, 6, 8, 9, 10, 11, 12, 13, 14, 3, 4, 6, 9, 10, 11, 12, 1, 2, 3, 4, 5, 6, 7, 8, 9, 10, 11, 12, 13, 14, 1, 2, 3, 4, 5, 7, 9, 10, 12, 13, 14, 1, 2, 3, 4, 5, 6, 7, 9, 11, 12, 13, 1, 2, 3, 4, 7, 9, 10, 11, 12, 13, 14, 1, 2, 3, 4, 6, 9, 10, 12, 13, 14, 1, 3, 4, 5, 6, 7, 9, 10, 13, 14, 1, 2, 3, 4, 5, 6, 7, 8, 9, 10, 11, 12, 13, 14, 1, 2, 4, 5, 6, 7, 8, 9, 10, 11, 12, 13, 14, 3, 4, 7, 8, 9, 10, 12, 1, 2, 5, 7, 8, 9, 11, 12, 13, 14, 1, 2, 3, 5, 6, 7, 8, 9, 10, 11, 12, 13, 14, 1, 2, 3, 4, 5, 6, 7, 8, 9, 10, 11, 12, 13, 14, 1, 2, 3, 4, 5, 6, 7, 8, 9, 10, 11, 12, 13, 14, 1, 2, 3, 4, 6, 8, 10, 11, 3, 4, 5, 6, 7, 8, 9, 10, 11, 12, 2, 3, 4, 5, 6, 7, 8, 10, 11, 12, 13, 14, 6, 11, 12, 1, 2, 3, 4, 5, 6, 7, 8, 9, 10, 11, 12, 13, 14, 1, 2, 3, 4, 5, 6, 7, 8, 9, 10, 11, 12, 13, 14, 1, 2, 4, 6, 9, 10, 12, 13, 14, 1, 2, 3, 4, 5, 6, 7, 8, 9, 10, 11, 12, 13, 1, 2, 3, 4, 5, 6, 8, 9, 10, 11, 13, 1, 2, 4, 5, 6, 7, 9, 10, 11, 12, 13, 14, 1, 2, 3, 4, 5, 6, 7, 8, 9, 10, 11, 12, 13, 14, 1, 2, 3, 4, 5, 6, 7, 8, 9, 10, 11, 12, 13, 2, 4, 5, 6, 7, 8, 9, 10, 11, 12, 14, 4, 5, 6, 10, 11, 12, 13, 14, 3, 5, 6, 9, 10, 11, 12, 13, 1, 2, 3, 4, 5, 6, 7, 8, 9, 10, 11, 12, 13, 14, 1, 2, 3, 4, 5, 6, 9, 11, 12, 13, 14, 1, 2, 3, 4, 5, 6, 7, 8, 9, 10, 11, 12, 13, 14, 1, 2, 3, 4, 8, 11, 13, 1, 2, 3, 4, 5, 6, 7, 8, 9, 10, 11, 12, 13, 14, 1, 2, 3, 4, 5, 6, 7, 8, 9, 10, 11, 12, 13, 14, 1, 2, 3, 4, 5, 7, 8, 10, 11, 13, 14, 1, 3, 4, 5, 7, 9, 11, 12, 13, 14, 1, 2, 5, 6, 12, 13, 1, 2, 3, 4, 5, 6, 7, 8, 9, 10, 11, 12, 13, 1, 2, 3, 4, 5, 6, 7, 8, 9, 10, 11, 12, 13, 14, 1, 2, 3, 4, 5, 6, 7, 8, 9, 10, 11, 12, 13, 14, 1, 2, 3, 4, 5, 6, 7, 8, 9, 10, 11, 12, 13, 14, 1, 2, 4, 9, 11, 13, 1, 2, 3, 4, 5, 6, 7, 8, 9, 10, 11, 12, 13, 14, 1, 2, 3, 4, 5, 6, 7, 8, 9, 10, 11, 12, 13, 14, 1, 2, 3, 4, 5, 6, 7, 8, 9, 10, 11, 12, 13, 14, 1, 2, 3, 4, 5, 6, 7, 8, 9, 10, 11, 12, 13, 14, 2, 3, 6, 8, 9, 10, 11, 12, 13, 14, 1, 2, 3, 4, 5, 6, 7, 8, 9, 10, 11, 12, 13, 14, 1, 3, 4, 6, 8, 9, 10, 11, 12, 13, 1, 3, 4, 6, 7, 8, 12, 13, 14, 1, 2, 3, 4, 5, 6, 7, 8, 9, 10, 11, 12, 13, 14, 1, 2, 3, 4, 5, 6, 7, 8, 9, 10, 11, 12, 13, 1, 2, 3, 4, 5, 6, 7, 8, 9, 10, 11, 12, 13, 14, 1, 3, 4, 6, 7, 8, 9, 10, 11, 12, 13, 14, 1, 2, 3, 4, 6, 7, 9, 10, 11, 12, 13, 14, 2, 3, 4, 5, 8, 9, 10, 12, 14, 1, 2, 3, 4, 5, 7, 9, 10, 11, 12, 13, 14, 1, 2, 3, 4, 5, 6, 7, 8, 9, 10, 11, 12, 13, 14, 1, 2, 4, 5, 6, 7, 8, 9, 11, 12, 13, 14, 1, 2, 3, 4, 5, 6, 7, 8, 9, 10, 11, 12, 13, 14, 1, 2, 3, 4, 5, 6, 7, 8, 9, 10, 11, 12, 13, 14, 1, 2, 3, 4, 5, 8, 11, 12, 13, 14, 2, 3, 4, 7, 10, 12, 13, 1, 2, 3, 4, 5, 6, 7, 8, 9, 10, 11, 12, 13, 14, 1, 3, 6, 8, 9, 11, 13, 14, 1, 2, 3, 4, 5, 6, 7, 10, 11, 12, 14, 1, 2, 5, 7, 8, 11, 12, 13, 14, 1, 2, 3, 4, 5, 6, 7, 8, 9, 10, 11, 12, 13, 14, 1, 2, 5, 6, 7, 8, 10, 11, 12, 13, 14, 1, 2, 3, 4, 5, 6, 7, 8, 9, 10, 11, 12, 13, 14, 3, 4, 5, 6, 13, 14, 1, 2, 3, 4, 5, 6, 7, 8, 9, 10, 11, 12, 13, 14, 1, 3, 4, 6, 7, 10, 11, 12, 13, 14, 1, 2, 3, 4, 5, 6, 7, 8, 9, 10, 11, 12, 13, 14, 1, 2, 3, 4, 6, 7, 10, 11, 12, 14, 1, 2, 3, 4, 5, 6, 7, 8, 9, 10, 11, 12, 13, 14, 2, 3, 5, 7, 8, 9, 10, 11, 12, 13, 14, 1, 2, 3, 4, 5, 6, 7, 9, 10, 11, 12, 13, 14, 1, 2, 3, 4, 5, 6, 7, 8, 9, 10, 11, 12, 13, 14, 1, 2, 3, 4, 5, 6, 7, 8, 9, 10, 11, 12, 13, 14, 1, 2, 3, 9, 11, 13, 14, 1, 2, 3, 4, 5, 7, 8, 9, 10, 11, 13, 1, 2, 3, 4, 6, 7, 9, 10, 11, 1, 3, 4, 5, 6, 9, 11, 12, 13, 1, 4, 6, 7, 8, 9, 10, 12, 13, 14, 1, 2, 3, 4, 5, 6, 7, 8, 9, 10, 11, 12, 13, 14, 1, 2, 4, 6, 7, 9, 10, 12, 13, 14, 1, 2, 4, 5, 6, 7, 8, 10, 12, 13, 14, 1, 2, 3, 4, 5, 6, 7, 8, 9, 10, 11, 12, 13, 14, 1, 2, 3, 4, 5, 6, 7, 8, 9, 10, 11, 12, 13, 14, 1, 2, 3, 4, 5, 6, 7, 8, 9, 10, 11, 12, 13, 14, 1, 2, 3, 4, 5, 6, 7, 8, 9, 10, 11, 12, 13, 14, 1, 2, 3, 4, 5, 6, 8, 9, 10, 11, 12, 14, 1, 2, 3, 4, 5, 7, 8, 10, 11, 12, 13, 14, 1, 2, 3, 4, 5, 6, 7, 8, 9, 10, 11, 12, 13, 14, 1, 2, 3, 4, 5, 6, 7, 8, 9, 10, 11, 12, 13, 14, 1, 4, 5, 6, 7, 9, 12, 13, 14, 1, 2, 3, 4, 5, 6, 7, 8, 9, 10, 11, 12, 13, 14, 2, 3, 4, 5, 8, 10, 12, 13, 14, 1, 2, 6, 7, 8, 9, 10, 11, 12, 2, 3, 4, 5, 6, 7, 9, 10, 11, 12, 2, 4, 5, 6, 7, 8, 9, 10, 11, 13, 14, 1, 2, 3, 4, 5, 6, 7, 8, 10, 11, 12, 13, 1, 2, 3, 4, 5, 6, 7, 8, 9, 10, 11, 12, 13, 14, 1, 2, 3, 4, 5, 6, 7, 8, 10, 11, 13, 14, 1, 2, 3, 5, 6, 9, 11, 12, 13, 14, 1, 2, 3, 4, 5, 6, 7, 8, 9, 10, 11, 12, 13, 14, 1, 2, 4, 5, 6, 7, 10, 11, 12, 13, 14, 1, 2, 3, 4, 5, 6, 7, 8, 9, 10, 11, 12, 13, 14, 1, 2, 3, 4, 5, 7, 8, 9, 10, 11, 12, 13, 14, 1, 3, 4, 7, 8, 9, 11, 12, 13, 14, 1, 2, 3, 4, 5, 6, 7, 8, 9, 10, 11, 12, 13, 14, 1, 2, 4, 6, 7, 10, 13, 1, 2, 3, 4, 6, 7, 8, 10, 11, 12, 13, 14, 1, 2, 3, 4, 5, 6, 7, 8, 9, 10, 11, 12, 13, 14, 1, 2, 3, 4, 5, 6, 7, 9, 10, 11, 12, 13, 14, 1, 2, 3, 4, 5, 6, 7, 8, 9, 10, 11, 12, 13, 14, 1, 4, 5, 6, 9, 11, 13, 14, 1, 2, 3, 4, 5, 6, 7, 8, 9, 10, 11, 12, 13, 14, 1, 2, 3, 4, 6, 7, 8, 10, 11, 12, 13, 1, 2, 3, 4, 5, 6, 7, 8, 9, 10, 11, 12, 13, 14, 1, 2, 3, 4, 5, 6, 7, 8, 9, 10, 11, 12, 13, 14, 1, 4, 6, 7, 9, 10, 11, 12, 13, 14, 2, 4, 6, 7, 8, 9, 10, 11, 12, 13, 1, 2, 3, 5, 6, 7, 9, 10, 12, 13, 14, 1, 2, 3, 4, 5, 6, 7, 8, 9, 10, 11, 12, 13, 14, 1, 2, 3, 4, 5, 6, 7, 8, 9, 10, 11, 12, 13, 14, 1, 2, 3, 4, 5, 6, 7, 8, 9, 10, 11, 12, 13, 14, 2, 3, 4, 5, 6, 7, 8, 9, 10, 11, 13, 14, 2, 4, 5, 6, 7, 10, 11, 12, 13, 14, 1, 2, 3, 4, 5, 6, 7, 8, 9, 10, 11, 12, 13, 1, 2, 3, 4, 5, 6, 7, 9, 10, 11, 12, 13, 14, 1, 2, 3, 4, 5, 6, 7, 8, 9, 10, 11, 12, 13, 14, 1, 2, 3, 4, 5, 6, 7, 8, 9, 10, 11, 12, 13, 14, 1, 2, 4, 7, 8, 9, 11, 12, 13, 1, 2, 3, 4, 5, 6, 7, 8, 9, 10, 11, 12, 13, 14, 1, 2, 3, 4, 7, 8, 9, 10, 12, 13, 14, 1, 4, 5, 9, 10, 11, 12, 13, 1, 2, 5, 7, 8, 9, 11, 13, 14, 1, 2, 3, 4, 5, 6, 7, 8, 9, 10, 11, 12, 13, 14, 1, 2, 3, 4, 5, 6, 7, 8, 9, 10, 11, 12, 13, 14, 1, 2, 5, 7, 9, 11, 12, 13, 1, 2, 3, 4, 5, 6, 7, 8, 10, 11, 12, 13, 14, 1, 2, 3, 4, 5, 6, 7, 8, 9, 10, 11, 12, 13, 14, 1, 2, 5, 8, 12, 13, 14, 1, 2, 3, 4, 5, 6, 7, 8, 9, 10, 11, 12, 13, 14, 1, 2, 3, 4, 5, 6, 7, 8, 9, 10, 11, 12, 13, 14, 1, 2, 3, 4, 5, 6, 7, 8, 9, 10, 11, 12, 13, 14, 1, 2, 3, 4, 5, 6, 7, 8, 9, 10, 11, 12, 13, 14, 1, 2, 3, 4, 5, 6, 7, 8, 9, 10, 11, 12, 13, 14, 1, 2, 5, 6, 8, 9, 10, 11, 12, 1, 2, 3, 4, 5, 6, 7, 8, 9, 10, 11, 12, 13, 14, 1, 2, 3, 4, 5, 6, 7, 8, 10, 11, 12, 13, 14, 1, 2, 3, 4, 5, 6, 7, 8, 9, 10, 11, 12, 13, 14, 1, 5, 6, 7, 8, 9, 10, 11, 12, 13, 1, 2, 4, 6, 7, 8, 9, 10, 12, 13, 1, 2, 3, 4, 5, 6, 7, 9, 10, 11, 12, 13, 14, 1, 2, 3, 5, 6, 7, 8, 9, 10, 11, 12, 13, 14, 1, 2, 3, 4, 5, 6, 7, 8, 9, 10, 11, 12, 13, 14, 1, 5, 7, 8, 9, 12, 13, 14, 1, 2, 3, 4, 5, 7, 8, 9, 10, 11, 13, 1, 2, 3, 4, 5, 6, 7, 8, 9, 10, 11, 12, 13, 14, 1, 2, 3, 4, 5, 6, 7, 8, 9, 10, 11, 12, 13, 14, 2, 3, 4, 6, 7, 8, 9, 10, 11, 12, 13, 14, 1, 2, 3, 4, 5, 6, 7, 8, 9, 10, 11, 12, 14, 1, 2, 3, 4, 5, 6, 7, 8, 9, 10, 11, 12, 13, 14, 1, 2, 3, 4, 5, 6, 7, 8, 9, 10, 11, 12, 13, 14, 1, 2, 3, 4, 5, 6, 7, 8, 9, 10, 11, 12, 13, 14, 2, 3, 4, 6, 7, 8, 9, 10, 12, 13, 1, 2, 3, 4, 6, 7, 8, 9, 11, 12, 13, 14, 1, 2, 3, 4, 5, 6, 7, 8, 9, 10, 11, 12, 13, 14, 1, 2, 3, 4, 5, 6, 7, 8, 9, 10, 11, 12, 13, 14, 2, 3, 5, 6, 7, 9, 10, 11, 12, 13, 14, 1, 2, 3, 4, 5, 6, 7, 8, 9, 10, 11, 12, 13, 14, 1, 2, 3, 4, 5, 6, 7, 8, 9, 10, 11, 12, 13, 14, 1, 2, 6, 13, 1, 2, 4, 6, 7, 8, 10, 11, 12, 3, 6, 8, 9, 11, 14, 1, 2, 3, 4, 5, 7, 8, 9, 11, 12, 13, 14, 1, 2, 3, 4, 5, 6, 7, 8, 9, 10, 11, 12, 13, 14, 1, 2, 3, 4, 5, 6, 7, 8, 9, 10, 11, 12, 13, 14, 1, 3, 7, 10, 11, 12, 13, 1, 2, 3, 4, 7, 8, 9, 10, 11, 12, 13, 1, 2, 3, 4, 5, 6, 7, 8, 9, 10, 11, 12, 13, 14, 1, 2, 3, 4, 5, 6, 7, 8, 9, 10, 11, 12, 13, 14, 1, 2, 3, 4, 5, 6, 7, 8, 9, 10, 11, 12, 13, 14, 1, 2, 3, 4, 5, 6, 7, 8, 9, 10, 11, 12, 13, 14, 1, 2, 3, 4, 5, 6, 7, 8, 9, 10, 11, 12, 13, 14, 1, 2, 3, 4, 5, 6, 7, 8, 9, 10, 11, 12, 13, 14, 1, 2, 3, 4, 5, 6, 7, 8, 9, 10, 11, 12, 13, 14, 1, 2, 4, 6, 7, 8, 10, 13, 14, 2, 3, 5, 7, 8, 9, 10, 11, 12, 1, 2, 3, 4, 5, 6, 7, 8, 9, 10, 11, 12, 13, 14, 1, 2, 3, 4, 5, 6, 7, 8, 9, 10, 11, 12, 13, 14, 1, 2, 4, 5, 6, 7, 8, 9, 10, 11, 12, 13, 1, 3, 4, 9, 10, 11, 13, 1, 2, 3, 4, 11, 13, 1, 2, 3, 4, 6, 7, 8, 10, 11, 12, 13, 14, 1, 2, 3, 4, 5, 6, 7, 8, 9, 10, 11, 12, 13, 14, 1, 2, 3, 4, 5, 6, 7, 8, 9, 10, 11, 12, 13, 14, 1, 2, 3, 4, 9, 11, 12, 13, 1, 2, 3, 4, 5, 6, 7, 8, 9, 10, 11, 12, 13, 14, 1, 2, 3, 4, 5, 6, 7, 8, 9, 10, 11, 12, 13, 14, 1, 2, 3, 4, 5, 7, 8, 9, 10, 11, 12, 13, 14, 2, 3, 4, 5, 6, 7, 8, 11, 12, 13, 14, 1, 2, 3, 5, 6, 7, 8, 9, 11, 12, 13, 14, 1, 2, 3, 4, 5, 6, 7, 8, 9, 10, 11, 12, 13, 14, 1, 2, 3, 5, 6, 7, 8, 9, 11, 12, 13, 14, 1, 2, 3, 4, 5, 6, 7, 8, 9, 10, 11, 12, 13, 14, 1, 2, 3, 4, 5, 6, 7, 8, 9, 10, 11, 12, 13, 14, 1, 2, 3, 4, 5, 6, 7, 8, 9, 10, 11, 12, 13, 14, 1, 2, 3, 4, 5, 6, 7, 9, 10, 11, 12, 14, 1, 2, 3, 4, 5, 6, 7, 8, 9, 10, 11, 12, 13, 14, 1, 2, 3, 4, 5, 6, 7, 8, 9, 10, 11, 12, 13, 14, 1, 2, 4, 5, 7, 9, 10, 11, 12, 13, 1, 2, 3, 4, 5, 6, 7, 8, 9, 10, 11, 12, 13, 14, 2, 3, 5, 6, 8, 10, 11, 12, 13, 14, 1, 2, 3, 4, 5, 6, 7, 8, 9, 10, 11, 12, 13, 14, 1, 2, 3, 4, 5, 6, 7, 8, 9, 10, 11, 12, 13, 14, 1, 2, 4, 5, 7, 8, 9, 10, 11, 12, 13, 14, 1, 2, 3, 4, 5, 6, 7, 8, 9, 10, 11, 12, 13, 14, 4, 5, 6, 8, 9, 10, 11, 12, 3, 4, 6, 7, 8, 10, 12, 14, 1, 2, 3, 5, 8, 10, 11, 12, 1, 2, 3, 4, 6, 7, 9, 10, 11, 12, 13, 14, 1, 2, 3, 4, 5, 6, 7, 8, 9, 10, 11, 12, 13, 14, 1, 3, 4, 5, 7, 9, 10, 11, 12, 13, 14, 2, 7, 8, 9, 10, 12, 3, 4, 5, 6, 7, 9, 10, 11, 12, 13, 14, 1, 2, 3, 5, 6, 7, 10, 12, 13, 1, 2, 3, 4, 5, 6, 7, 8, 9, 10, 11, 12, 13, 14, 1, 5, 6, 7, 8, 13, 1, 2, 3, 5, 7, 13, 2, 3, 5, 6, 7, 10, 11, 12, 13, 1, 2, 3, 4, 5, 6, 7, 8, 9, 10, 11, 12, 13, 14, 1, 2, 6, 7, 8, 9, 11, 13, 1, 3, 4, 5, 6, 7, 8, 9, 10, 11, 12, 13, 14, 1, 2, 3, 4, 5, 6, 7, 8, 9, 10, 11, 12, 13, 14, 1, 2, 3, 4, 5, 6, 7, 8, 9, 10, 11, 12, 13, 14, 3, 4, 5, 7, 8, 9, 10, 11, 12, 13, 1, 2, 3, 5, 6, 7, 8, 11, 12, 13, 14, 1, 2, 3, 4, 5, 6, 7, 8, 9, 10, 11, 12, 13, 14, 1, 2, 3, 4, 5, 6, 7, 8, 9, 10, 11, 12, 13, 14, 1, 2, 3, 4, 5, 6, 7, 8, 9, 10, 11, 12, 13, 14, 1, 2, 3, 4, 7, 8, 12, 13, 14, 1, 2, 3, 4, 6, 8, 9, 10, 11, 12, 13, 2, 3, 4, 5, 6, 7, 8, 9, 10, 11, 13, 14, 1, 2, 3, 4, 5, 6, 7, 8, 9, 10, 11, 12, 13, 14, 1, 4, 5, 6, 7, 8, 9, 10, 11, 12, 13, 14, 1, 2, 3, 4, 5, 6, 7, 8, 9, 10, 11, 12, 13, 14, 1, 2, 5, 6, 7, 10, 11, 12, 13, 14, 1, 5, 6, 7, 8, 9, 11, 12, 13, 1, 2, 3, 4, 5, 7, 8, 9, 11, 1, 2, 3, 4, 5, 7, 11, 13, 1, 2, 3, 4, 5, 6, 7, 8, 9, 10, 11, 12, 13, 14, 2, 3, 4, 6, 7, 9, 10, 12, 13, 14, 1, 2, 3, 4, 5, 6, 7, 8, 9, 10, 11, 12, 13, 14, 3, 4, 7, 9, 11, 12, 13, 3, 4, 7, 8, 9, 10, 11, 13, 1, 2, 3, 4, 5, 6, 7, 8, 9, 10, 11, 12, 13, 14, 1, 2, 3, 4, 6, 7, 9, 10, 11, 12, 13, 14, 1, 2, 4, 5, 6, 8, 9, 13, 1, 2, 3, 4, 5, 6, 7, 8, 9, 10, 11, 12, 13, 14, 1, 2, 3, 4, 5, 7, 8, 9, 11, 12, 14, 1, 2, 3, 4, 5, 6, 7, 8, 9, 10, 11, 12, 13, 14, 2, 3, 7, 8, 9, 11, 1, 2, 3, 4, 5, 6, 7, 8, 9, 10, 11, 12, 13, 14, 1, 3, 7, 13, 1, 2, 4, 5, 9, 10, 14, 1, 2, 5, 10, 12, 14, 1, 2, 4, 5, 6, 7, 10, 11, 12, 13, 14, 1, 2, 3, 7, 8, 9, 10, 11, 13, 1, 3, 5, 7, 9, 12, 13, 1, 2, 3, 4, 5, 6, 7, 8, 9, 10, 11, 12, 13, 14, 1, 2, 3, 4, 5, 6, 7, 8, 10, 11, 12, 13, 14], \"Freq\": [0.03510424382915718, 0.006194866558086562, 0.008259822077448749, 0.04955893246469249, 0.05162388798405468, 0.008259822077448749, 0.012389733116173123, 0.012389733116173123, 0.7578386756059227, 0.010324777596810936, 0.018584599674259683, 0.012389733116173123, 0.012389733116173123, 0.004129911038724374, 0.09343874819466631, 0.004557987716812991, 0.22106240426543006, 0.07064880961060135, 0.07976478504422733, 0.03418490787609743, 0.02962692015928444, 0.28487423230081194, 0.05469585260175589, 0.011394969292032478, 0.013673963150438973, 0.006836981575219486, 0.0957177420530728, 0.0022789938584064956, 0.21776183715701347, 0.09372028434605643, 0.08820732644334724, 0.029402442147782412, 0.02572713687930961, 0.019295352659482207, 0.11485328963977504, 0.03950953163608262, 0.06156136324691942, 0.011944742122536604, 0.02756478951354601, 0.018376526342364006, 0.019295352659482207, 0.23154423191378648, 0.0033828693108444914, 0.03382869310844491, 0.0405944317301339, 0.757762725629166, 0.09472034070364575, 0.0033828693108444914, 0.006765738621688983, 0.0033828693108444914, 0.013531477243377965, 0.013531477243377965, 0.02029721586506695, 0.006765738621688983, 0.01805249401710154, 0.08725372108265744, 0.20459493219381744, 0.1534461991453631, 0.03309623903135282, 0.00902624700855077, 0.05415748205130462, 0.0060174980057005134, 0.10229746609690872, 0.02707874102565231, 0.05114873304845436, 0.01805249401710154, 0.2286649242166195, 0.012034996011401027, 0.06871789227408213, 0.05399262964392168, 0.04417578789048138, 0.48756980708753517, 0.1096213995800834, 0.01963368350688061, 0.01963368350688061, 0.016361402922400507, 0.07199017285856224, 0.0016361402922400509, 0.004908420876720152, 0.03763122672152117, 0.050720349059441575, 0.011452982045680356, 0.012950294158211277, 0.03021735303582631, 0.008633529438807517, 0.09065205910747894, 0.025900588316422554, 0.03885088247463383, 0.004316764719403759, 0.012950294158211277, 0.08633529438807518, 0.45326029553739466, 0.06043470607165262, 0.017267058877615035, 0.12950294158211276, 0.025900588316422554, 0.01793635792992684, 0.011210223706204274, 0.11210223706204274, 0.022420447412408548, 0.0695033869784665, 0.024662492153649403, 0.01345226844744513, 0.6838236460784607, 0.01345226844744513, 0.00896817896496342, 0.011210223706204274, 0.011210223706204274, 0.002242044741240855, 0.012761056579724478, 0.028712377304380074, 0.09570792434793358, 0.039878301811639, 0.06699554704355351, 0.0031902641449311196, 0.028712377304380074, 0.011165924507258918, 0.6428382252036206, 0.014356188652190037, 0.022331849014517836, 0.015951320724655597, 0.015951320724655597, 0.0015951320724655598, 0.03521206168706033, 0.07922713879588573, 0.15845427759177147, 0.05721960024147303, 0.011003769277206353, 0.08582940036220955, 0.11003769277206353, 0.11443920048294606, 0.15515314680860956, 0.08692977728993019, 0.017606030843530164, 0.04511545403654604, 0.012104146204926988, 0.03081055397617779, 0.012261689426956195, 0.02452337885391239, 0.04904675770782478, 0.06743929184825907, 0.006130844713478098, 0.02452337885391239, 0.5885610924938974, 0.17166365197738676, 0.012261689426956195, 0.012261689426956195, 0.012261689426956195, 0.012261689426956195, 0.009933696543611828, 0.07698614821299167, 0.019867393087223656, 0.019867393087223656, 0.08940326889250645, 0.014900544815417742, 0.09437011716431237, 0.054635330989865054, 0.022350817223126613, 0.027317665494932527, 0.5364196133550387, 0.009933696543611828, 0.009933696543611828, 0.009933696543611828, 0.06599045118935017, 0.013198090237870034, 0.21116944380592054, 0.2375656242816606, 0.07918854142722019, 0.31675416570888076, 0.052792360951480134, 0.026396180475740067, 0.013198090237870034, 0.031933234629389996, 0.028385097448346663, 0.1632143103279933, 0.11708852697442998, 0.010644411543129999, 0.017740685905216665, 0.11708852697442998, 0.36545812964746327, 0.07096274362086666, 0.04612578335356333, 0.021288823086259998, 0.007096274362086666, 0.01248477676741419, 0.3620585262550115, 0.11236299090672772, 0.1373325444415561, 0.262180312115698, 0.01248477676741419, 0.02496955353482838, 0.062423883837070954, 0.0020587848104084458, 0.026764202535309794, 0.0020587848104084458, 0.006176354431225337, 0.061763544312253366, 0.012352708862450674, 0.034999341776943575, 0.17087913926390097, 0.0041175696208168916, 0.006176354431225337, 0.5579306836206888, 0.10499802533083072, 0.006176354431225337, 0.015151616236405221, 0.0030303232472810443, 0.7272775793474506, 0.024242585978248354, 0.024242585978248354, 0.03333355572009149, 0.05757614169833984, 0.0030303232472810443, 0.012121292989124177, 0.006060646494562089, 0.009090969741843133, 0.07878840442930715, 0.006060646494562089, 0.1854272004921569, 0.018542720049215693, 0.037085440098431385, 0.037085440098431385, 0.1854272004921569, 0.14834176039372554, 0.11125632029529414, 0.018542720049215693, 0.018542720049215693, 0.22251264059058828, 0.018542720049215693, 0.018542720049215693, 0.035671405506916054, 0.01528774521724974, 0.8917851376729015, 0.005095915072416579, 0.005095915072416579, 0.005095915072416579, 0.010191830144833158, 0.020383660289666317, 0.010191830144833158, 0.006024315931783303, 0.10241337084031615, 0.006024315931783303, 0.006024315931783303, 0.012048631863566606, 0.06024315931783303, 0.006024315931783303, 0.3915805355659147, 0.05421884338604973, 0.006024315931783303, 0.024097263727133212, 0.32531306031629836, 0.011696029762224346, 0.005848014881112173, 0.023392059524448693, 0.05848014881112173, 0.0643281636922339, 0.08187220833557042, 0.046784119048897385, 0.6900657559712364, 0.005848014881112173, 0.306654591259436, 0.015332729562971801, 0.076663647814859, 0.061330918251887204, 0.030665459125943602, 0.3373200503853796, 0.030665459125943602, 0.0919963773778308, 0.015332729562971801, 0.015332729562971801, 0.030665459125943602, 0.28874836494282696, 0.020945477249738744, 0.03366237415136584, 0.011220791383788613, 0.08677412003463193, 0.023189635526496465, 0.20571450870279123, 0.11594817763248233, 0.051615640365427616, 0.07031695933840863, 0.021693530008657983, 0.011968844142707854, 0.0201974244908195, 0.03740263794596204, 0.34705753684566065, 0.016361733378036585, 0.038387143694624294, 0.026430492379905253, 0.056951418104319654, 0.0679641232626135, 0.12900597471144232, 0.031150223162031192, 0.12365694649169957, 0.04719730782125938, 0.0377578462570075, 0.016361733378036585, 0.015417787221611398, 0.046253361664834194, 0.20106698450301155, 0.04398340286003378, 0.06911677592291023, 0.012566686531438222, 0.006283343265719111, 0.018850029797157334, 0.339300536348832, 0.025133373062876444, 0.21991701430016888, 0.006283343265719111, 0.012566686531438222, 0.03141671632859556, 0.0744931695150982, 0.15575844534975078, 0.07787922267487539, 0.48420560184813827, 0.0033860531597771906, 0.006772106319554381, 0.016930265798885954, 0.0033860531597771906, 0.006772106319554381, 0.006772106319554381, 0.027088425278217525, 0.0744931695150982, 0.03386053159777191, 0.027088425278217525, 0.0015391813636428944, 0.014622222954607496, 0.8519368847763421, 0.06772398000028736, 0.0038479534091072362, 0.0007695906818214472, 0.0038479534091072362, 0.0030783627272857887, 0.0023087720454643417, 0.004617544090928683, 0.020778948409179075, 0.0076959068182144725, 0.014622222954607496, 0.004617544090928683, 0.036154138053735525, 0.03366074922244342, 0.0037400832469381582, 0.011220249740814474, 0.014960332987752633, 0.006233472078230264, 0.1471099410462342, 0.04612769337890395, 0.17703060702173948, 0.012466944156460527, 0.42262940690401185, 0.062334720782302636, 0.011220249740814474, 0.016207027403398685, 0.726016975243153, 0.0027816742346480957, 0.013908371173240478, 0.011126696938592383, 0.0027816742346480957, 0.0027816742346480957, 0.07788687857014667, 0.022253393877184766, 0.02503506811183286, 0.005563348469296191, 0.05841515892761001, 0.055633484692961914, 0.034839268532928645, 0.4725075794778448, 0.034839268532928645, 0.07403344563247337, 0.028306905683004525, 0.01959708854977236, 0.034839268532928645, 0.0021774542833080403, 0.06096871993262513, 0.03919417709954472, 0.11975998558194222, 0.021774542833080404, 0.006532362849924121, 0.05661381136600905, 0.003387515467001399, 0.003387515467001399, 0.040650185604016786, 0.003387515467001399, 0.003387515467001399, 0.003387515467001399, 0.15921322694906576, 0.6775030934002798, 0.08807540214203637, 0.003387515467001399, 0.016937577335006993, 0.003387515467001399, 0.05397908195931749, 0.035986054639545, 0.0179930273197725, 0.21591632783726997, 0.05397908195931749, 0.0179930273197725, 0.0179930273197725, 0.17993027319772498, 0.07197210927909, 0.05397908195931749, 0.26989540979658744, 0.1019504451621588, 0.02912869861775966, 0.01456434930887983, 0.02912869861775966, 0.1456434930887983, 0.08738609585327897, 0.1019504451621588, 0.01456434930887983, 0.08738609585327897, 0.26215828755983694, 0.05825739723551932, 0.02912869861775966, 0.06362568490189706, 0.023136612691598932, 0.02892076586449866, 0.2660710459533877, 0.05784153172899732, 0.046273225383197863, 0.0347049190373984, 0.15038798249539304, 0.005784153172899733, 0.005784153172899733, 0.22558197374308958, 0.0694098380747968, 0.023136612691598932, 0.08793661376158692, 0.19346055027549122, 0.04396830688079346, 0.13630175133045971, 0.017587322752317384, 0.013190492064238038, 0.03957147619271412, 0.004396830688079346, 0.03957147619271412, 0.13190492064238038, 0.048365137568872806, 0.23742885715628467, 0.008793661376158692, 0.017845218427124436, 0.008922609213562218, 0.03569043685424887, 0.38367219618317533, 0.5353565528137331, 0.05971966521487251, 0.011943933042974501, 0.023887866085949002, 0.7763556477933425, 0.0358317991289235, 0.023887866085949002, 0.0358317991289235, 0.011943933042974501, 0.008776167123561416, 0.008776167123561416, 0.008776167123561416, 0.008776167123561416, 0.017552334247122832, 0.9214975479739486, 0.008776167123561416, 0.008776167123561416, 0.020547953439119283, 0.6729454751311565, 0.010273976719559642, 0.015410965079339464, 0.10787675555537625, 0.020547953439119283, 0.025684941798899106, 0.020547953439119283, 0.015410965079339464, 0.015410965079339464, 0.005136988359779821, 0.0719178370369175, 0.07159774826547877, 0.7762703232994013, 0.007536605080576712, 0.007536605080576712, 0.01884151270144178, 0.003768302540288356, 0.060292840644613696, 0.003768302540288356, 0.003768302540288356, 0.003768302540288356, 0.003768302540288356, 0.02637811778201849, 0.007536605080576712, 0.007536605080576712, 0.011489035860050976, 0.03446710758015293, 0.045956143440203906, 0.045956143440203906, 0.13786843032061172, 0.05744517930025488, 0.21829168134096857, 0.022978071720101953, 0.011489035860050976, 0.18382457376081562, 0.045956143440203906, 0.18382457376081562, 0.011489035860050976, 0.14904897400355524, 0.4684396325826022, 0.021292710571936463, 0.14904897400355524, 0.06387813171580939, 0.042585421143872926, 0.042585421143872926, 0.021292710571936463, 0.021292710571936463, 0.3239141699923315, 0.011568363214011841, 0.46273452856047365, 0.028920908035029603, 0.005784181607005921, 0.005784181607005921, 0.10989945053311248, 0.005784181607005921, 0.005784181607005921, 0.04048927124904144, 0.2296158610187258, 0.024170090633550086, 0.49548685798777675, 0.04834018126710017, 0.1691906344348506, 0.012085045316775043, 0.040687482962625865, 0.010171870740656466, 0.020343741481312932, 0.6204841151800444, 0.0305156122219694, 0.010171870740656466, 0.05085935370328233, 0.010171870740656466, 0.040687482962625865, 0.07120309518459526, 0.05085935370328233, 0.040687482962625865, 0.03358073631402217, 0.402968835768266, 0.044774315085362885, 0.06716147262804434, 0.1455165240274294, 0.011193578771340721, 0.044774315085362885, 0.011193578771340721, 0.022387157542681443, 0.022387157542681443, 0.022387157542681443, 0.03358073631402217, 0.1455165240274294, 0.11173908616050716, 0.03286443710603152, 0.019718662263618913, 0.006572887421206304, 0.4732478943268539, 0.01643221855301576, 0.023005105974222062, 0.03615088081663467, 0.04929665565904728, 0.03286443710603152, 0.09530686760749141, 0.039437324527237826, 0.01643221855301576, 0.04272376823784098, 0.7310386530878697, 0.05482789898159023, 0.018275966327196743, 0.009137983163598372, 0.009137983163598372, 0.018275966327196743, 0.027413949490795116, 0.10965579796318047, 0.009137983163598372, 0.018275966327196743, 0.009298061804709906, 0.009298061804709906, 0.0015496769674516512, 0.0015496769674516512, 0.41376375030959084, 0.04029160115374293, 0.01239741573961321, 0.07748384837258256, 0.11467609559142218, 0.020145800576871466, 0.1301728652659387, 0.14411995797300356, 0.018596123609419812, 0.006198707869806605, 0.007764757561891299, 0.007764757561891299, 0.8075347864366951, 0.06211806049513039, 0.007764757561891299, 0.031059030247565195, 0.015529515123782598, 0.023294272685673894, 0.015529515123782598, 0.007764757561891299, 0.015529515123782598, 0.6096907682329157, 0.04943438661347965, 0.0238017417027865, 0.04211077378185304, 0.02929445132650646, 0.03478716095022642, 0.07506703152417281, 0.0238017417027865, 0.025632644910693152, 0.0238017417027865, 0.012816322455346576, 0.027463548118599808, 0.01464722566325323, 0.009154516039533269, 0.03281700411475222, 0.14220701783059295, 0.03281700411475222, 0.038286504800544255, 0.04375600548633629, 0.005469500685792036, 0.26253603291801775, 0.005469500685792036, 0.14220701783059295, 0.005469500685792036, 0.021878002743168146, 0.005469500685792036, 0.2570665322322257, 0.006582297825632392, 0.011519021194856687, 0.004936723369224295, 0.001645574456408098, 0.8721544618962921, 0.037848212497386256, 0.00987344673844859, 0.006582297825632392, 0.003291148912816196, 0.001645574456408098, 0.013164595651264785, 0.011519021194856687, 0.011519021194856687, 0.00822787228204049, 0.010412789161238717, 0.0026031972903096793, 0.6299737442549423, 0.005206394580619359, 0.015619183741858075, 0.018222381032167754, 0.09631829974145813, 0.005206394580619359, 0.0624767349674323, 0.0026031972903096793, 0.013015986451548396, 0.12755666722517428, 0.013015986451548396, 0.32791334809801564, 0.08170955559163669, 0.27093168433016374, 0.07740905266576108, 0.03870452633288054, 0.01397663450909575, 0.03117864621259821, 0.03332889767553602, 0.010751257314689039, 0.012901508777626846, 0.021502514629378078, 0.0279532690181915, 0.03440402340700492, 0.018277137434971363, 0.42725091996468345, 0.0740711393908622, 0.3166809582652804, 0.02683736934451529, 0.010734947737806116, 0.03435183276097957, 0.005367473868903058, 0.004293979095122446, 0.00644096864268367, 0.010734947737806116, 0.023616885023173457, 0.015028926832928563, 0.028984358892076515, 0.016102421606709175, 0.6593672999367761, 0.031029049408789467, 0.17841703410053944, 0.015514524704394734, 0.007757262352197367, 0.007757262352197367, 0.007757262352197367, 0.031029049408789467, 0.015514524704394734, 0.031029049408789467, 0.007757262352197367, 0.005842119842390891, 0.09055285755705882, 0.02044741944836812, 0.0029210599211954456, 0.005842119842390891, 0.008763179763586338, 0.005842119842390891, 0.017526359527172675, 0.04673695873912713, 0.008763179763586338, 0.02044741944836812, 0.7127386207716887, 0.04673695873912713, 0.005842119842390891, 0.2717144517636389, 0.028601521238277777, 0.042902281857416666, 0.042902281857416666, 0.028601521238277777, 0.014300760619138889, 0.014300760619138889, 0.5577296641464167, 0.014300760619138889, 0.13868437186013519, 0.01386843718601352, 0.5408690502545273, 0.04160531155804056, 0.04160531155804056, 0.02773687437202704, 0.04160531155804056, 0.01386843718601352, 0.01386843718601352, 0.02773687437202704, 0.04160531155804056, 0.05547374874405408, 0.053850859833514106, 0.14567347980604456, 0.10355934583368097, 0.07870510283359754, 0.024854243000083435, 0.020711869166736195, 0.10701132402813701, 0.06627798133355582, 0.05799323366686135, 0.03590057322234274, 0.2229977913618597, 0.0421141339723636, 0.029687012472321878, 0.011046330222259305, 0.01880822634799692, 0.20689048982796612, 0.01880822634799692, 0.04388586147865948, 0.0626940878266564, 0.0062694087826656395, 0.6018632431359014, 0.012538817565331279, 0.01880822634799692, 0.10054927160464286, 0.18404107749064094, 0.1400507711636097, 0.10952688514077169, 0.06553657881374043, 0.042194783619805484, 0.027830601961999362, 0.032319408730063774, 0.05027463580232143, 0.09516270348296556, 0.029626124669225127, 0.05027463580232143, 0.03680821549812819, 0.03411493143728954, 0.10675723982957401, 0.49820045253801204, 0.24910022626900602, 0.035585746609858006, 0.011861915536619335, 0.02372383107323867, 0.011861915536619335, 0.04744766214647734, 0.0179578905915505, 0.035915781183101, 0.00897894529577525, 0.00897894529577525, 0.4040525383098863, 0.00897894529577525, 0.026936835887325754, 0.05387367177465151, 0.4220104289014368, 0.023768102329690566, 0.7843473768797886, 0.011884051164845283, 0.09507240931876226, 0.023768102329690566, 0.011884051164845283, 0.023768102329690566, 0.02698109778603582, 0.030835540326898076, 0.019272212704311297, 0.06937996573552067, 0.023126655245173558, 0.0038544425408622595, 0.6205652490788238, 0.015417770163449038, 0.007708885081724519, 0.04239886794948486, 0.13875993147104135, 0.1728539955449201, 0.047141998784978205, 0.6285599837997095, 0.015713999594992735, 0.015713999594992735, 0.09428399756995641, 0.5882278455013304, 0.032320211291281896, 0.23916956355548602, 0.025856169033025515, 0.08403254935733293, 0.012928084516512757, 0.10434700191435543, 0.05217350095717772, 0.19130283684298496, 0.03478233397145181, 0.03478233397145181, 0.19130283684298496, 0.03478233397145181, 0.017391166985725907, 0.05217350095717772, 0.2782586717716145, 0.17922409664327327, 0.16935855003905637, 0.040284315300552244, 0.0517941196721386, 0.1759355811085343, 0.09372269274006033, 0.02959663981265063, 0.04275070195160646, 0.02301960874317271, 0.044394959718975946, 0.040284315300552244, 0.04275070195160646, 0.03041876869633537, 0.036995799765813284, 0.008906829375081315, 0.008906829375081315, 0.37408683375341517, 0.07125463500065052, 0.008906829375081315, 0.15141609937638234, 0.01781365875016263, 0.07125463500065052, 0.01781365875016263, 0.008906829375081315, 0.2493912225022768, 0.005531864078147529, 0.0073758187708633715, 0.009219773463579215, 0.0018439546927158429, 0.11248123625566642, 0.376166757314032, 0.0073758187708633715, 0.012907682849010902, 0.03134722977616933, 0.011063728156295059, 0.03319118446888517, 0.020283501619874272, 0.3651030291577369, 0.0036879093854316858, 0.012678322025313878, 0.04226107341771293, 0.004226107341771293, 0.008452214683542587, 0.4057063048100441, 0.025356644050627757, 0.004226107341771293, 0.0591655027847981, 0.04648718075948422, 0.30850583594930436, 0.04226107341771293, 0.03803496607594164, 0.02786894336849063, 0.004644823894748439, 0.004644823894748439, 0.5155754523170767, 0.013934471684245315, 0.013934471684245315, 0.15327918852669847, 0.2183067230531766, 0.03715859115798751, 0.004644823894748439, 0.041795614227238445, 0.3241628347545659, 0.1062990818535277, 0.08852771832383576, 0.006581986492478495, 0.007898383790974194, 0.05035219666746049, 0.001316397298495699, 0.0319226344885207, 0.08852771832383576, 0.008556582440222045, 0.20700347518844867, 0.020404158126683336, 0.016125866906572313, 0.011290031459386448, 0.011290031459386448, 0.7790121706976649, 0.10161028313447804, 0.011290031459386448, 0.011290031459386448, 0.022580062918772896, 0.011290031459386448, 0.011290031459386448, 0.022580062918772896, 0.03378396387286015, 0.012668986452322558, 0.008445990968215038, 0.6503413045525579, 0.029560968388752634, 0.012668986452322558, 0.04222995484107519, 0.03800695935696767, 0.004222995484107519, 0.10135189161858046, 0.04222995484107519, 0.016891981936430076, 0.016891981936430076, 0.026979833835349815, 0.08820330292325902, 0.09650479025721281, 0.01971603241814025, 0.004150743666976895, 0.06329884092139765, 0.463845604784668, 0.037356693002792055, 0.07782644375581678, 0.03528132116930361, 0.03216826341907093, 0.02801751975209404, 0.006226115500465343, 0.020753718334884475, 0.05879913581174729, 0.07055896297409675, 0.0823187901364462, 0.023519654324698915, 0.07055896297409675, 0.023519654324698915, 0.09407861729879566, 0.41159395068223104, 0.04703930864939783, 0.05879913581174729, 0.035279481487048375, 0.023519654324698915, 0.19583624893340135, 0.10235933529564391, 0.08692084050931745, 0.054140474867117434, 0.11504850909262455, 0.033414824332049044, 0.04631548435897937, 0.025589833823910977, 0.047372915508727756, 0.03764454893104259, 0.06238843783515486, 0.04779588796862711, 0.11758634385202069, 0.027493209893458073, 0.020386864363625665, 0.3098803383271101, 0.1406693641090171, 0.18959783858171866, 0.024464237236350796, 0.012232118618175398, 0.004077372872725133, 0.0020386864363625664, 0.006116059309087699, 0.08562483032722779, 0.17736571996354328, 0.012232118618175398, 0.010193432181812833, 0.008154745745450265, 0.7213407469714355, 0.017679920268907735, 0.0035359840537815468, 0.0070719681075630935, 0.0530397608067232, 0.028287872430252374, 0.0035359840537815468, 0.0070719681075630935, 0.01060795216134464, 0.0035359840537815468, 0.060111728914286296, 0.09193558539832021, 0.025588229572205454, 0.013957216130293883, 0.008141709409338099, 0.7036763132356499, 0.030240634948970082, 0.04187164839088165, 0.001163101344191157, 0.002326202688382314, 0.004652405376764628, 0.009304810753529257, 0.002326202688382314, 0.009304810753529257, 0.09537431022367487, 0.05350266183279322, 0.2329486352601823, 0.12229803351159571, 0.011647431763009116, 0.011647431763009116, 0.011647431763009116, 0.011647431763009116, 0.005823715881504558, 0.011647431763009116, 0.005823715881504558, 0.017471147644513674, 0.5590767246244376, 0.2097684662654599, 0.0014877196189039708, 0.0014877196189039708, 0.11157897141779781, 0.02231579428355956, 0.08182457903971839, 0.37490534396380065, 0.04463158856711912, 0.01934035504575162, 0.010414037332327795, 0.011901756951231766, 0.08331229865862236, 0.028266672759175444, 0.0014877196189039708, 0.2070370029444673, 0.04600822287654829, 0.11502055719137072, 0.023004111438274143, 0.023004111438274143, 0.3910698944506604, 0.18403289150619315, 0.016949318872558475, 0.008474659436279237, 0.322037058578611, 0.059322616053954655, 0.008474659436279237, 0.0677972754902339, 0.016949318872558475, 0.02542397830883771, 0.008474659436279237, 0.05084795661767542, 0.04237329718139618, 0.02542397830883771, 0.2711891019609356, 0.0677972754902339, 0.7467007806532449, 0.06788188915029499, 0.013576377830058996, 0.08145826698035398, 0.013576377830058996, 0.04072913349017699, 0.013576377830058996, 0.6308577982759759, 0.11323088687004694, 0.03639564220822938, 0.032351681962870554, 0.012131880736076458, 0.004043960245358819, 0.012131880736076458, 0.004043960245358819, 0.020219801226794096, 0.016175840981435277, 0.008087920490717639, 0.09705504588861166, 0.012131880736076458, 0.5192264908794689, 0.15233504484480287, 0.1952463250827755, 0.01931007610708769, 0.008582256047594529, 0.006436692035695896, 0.0021455640118986322, 0.0042911280237972645, 0.0021455640118986322, 0.025746768142783583, 0.006436692035695896, 0.049347972273668536, 0.008582256047594529, 0.5795659758625852, 0.04636527806900682, 0.02318263903450341, 0.04636527806900682, 0.02318263903450341, 0.25500902937953746, 0.05868005641108715, 0.014670014102771788, 0.49878047949424076, 0.1173601128221743, 0.05868005641108715, 0.05868005641108715, 0.08802008461663072, 0.014670014102771788, 0.04401004230831536, 0.014670014102771788, 0.04401004230831536, 0.18355999060202238, 0.06118666353400746, 0.008158221804534328, 0.008158221804534328, 0.024474665413602985, 0.0448702199249388, 0.1346106597748164, 0.03263288721813731, 0.03263288721813731, 0.036711998120404474, 0.06526577443627463, 0.024474665413602985, 0.02039555451133582, 0.32632887218137313, 0.17485552992100228, 0.06358382906218264, 0.03179191453109132, 0.01589595726554566, 0.03179191453109132, 0.06358382906218264, 0.11127170085881964, 0.01589595726554566, 0.01589595726554566, 0.03179191453109132, 0.42919084616973285, 0.0797183889108047, 0.03543039507146876, 0.00885759876786719, 0.026572796303601567, 0.06200319137507032, 0.35430395071468757, 0.00885759876786719, 0.1505791790537422, 0.0797183889108047, 0.03543039507146876, 0.12400638275014064, 0.00885759876786719, 0.01771519753573438, 0.23851783011471608, 0.012962925549712831, 0.012962925549712831, 0.02851843620936823, 0.007777755329827699, 0.137407010826956, 0.23851783011471608, 0.012962925549712831, 0.10629598950764521, 0.13222184060707087, 0.012962925549712831, 0.03629619153919593, 0.005185170219885133, 0.012962925549712831, 0.08444131014482269, 0.006031522153201621, 0.024126088612806483, 0.018094566459604864, 0.012063044306403242, 0.11459892091083079, 0.10253587660442756, 0.12666196521723405, 0.398080462111307, 0.048252177225612966, 0.012063044306403242, 0.042220655072411344, 0.012063044306403242, 0.006031522153201621, 0.003638977960704751, 0.005458466941057126, 0.014555911842819003, 0.012736422862466628, 0.0018194889803523754, 0.029111823685638007, 0.018194889803523753, 0.005458466941057126, 0.8406039089227975, 0.03820926858739988, 0.005458466941057126, 0.018194889803523753, 0.003638977960704751, 0.003638977960704751, 0.0169293751087689, 0.7787512550033695, 0.00846468755438445, 0.02539406266315335, 0.00846468755438445, 0.00846468755438445, 0.00846468755438445, 0.00846468755438445, 0.00846468755438445, 0.059252812880691154, 0.07618218798946005, 0.03425708266197946, 0.7378448573349422, 0.05797352450488832, 0.02371644184290886, 0.018446121433373555, 0.002635160204767651, 0.002635160204767651, 0.02898676225244416, 0.010540640819070603, 0.005270320409535302, 0.05797352450488832, 0.005270320409535302, 0.013175801023838255, 0.01955059996824687, 0.2541577995872093, 0.01955059996824687, 0.5865179990474061, 0.01955059996824687, 0.01955059996824687, 0.03910119993649374, 0.01955059996824687, 0.01955059996824687, 0.03576331261031198, 0.08583195026474875, 0.060797631437530364, 0.053644968915467967, 0.028610650088249583, 0.02145798756618719, 0.057221300176499165, 0.014305325044124791, 0.06437396269856156, 0.4434650763678685, 0.08583195026474875, 0.007152662522062396, 0.014305325044124791, 0.028610650088249583, 0.16283990805680776, 0.2035498850710097, 0.05427996935226925, 0.5020897165084907, 0.013569992338067313, 0.027139984676134626, 0.11508761880649096, 0.15824547585892507, 0.004795317450270457, 0.019181269801081827, 0.4555551577756934, 0.015584781713378983, 0.025175416613919897, 0.04795317450270457, 0.010789464263108527, 0.0023976587251352283, 0.029970734064190353, 0.015584781713378983, 0.007192976175405685, 0.0923098609177063, 0.007302830993096231, 0.07485401767923636, 0.0018257077482740577, 0.007302830993096231, 0.010954246489644347, 0.0018257077482740577, 0.5093724617684621, 0.014605661986192462, 0.0474684014551255, 0.02373420072756275, 0.284810408730753, 0.0018257077482740577, 0.009128538741370288, 0.0018257077482740577, 0.14024918500790223, 0.01753114812598778, 0.05259344437796334, 0.3681541106457433, 0.14024918500790223, 0.07012459250395112, 0.05259344437796334, 0.05259344437796334, 0.01753114812598778, 0.08765574062993889, 0.03055274051074504, 0.08888069966762194, 0.13887609323065928, 0.10276830899068785, 0.14443113695988563, 0.01666513118767911, 0.02499769678151867, 0.0194426530522923, 0.04721787169842415, 0.05277291542765052, 0.005555043729226371, 0.01666513118767911, 0.11665591831375378, 0.1916490086583098, 0.004817972280101392, 0.024089861400506958, 0.004817972280101392, 0.7949654262167296, 0.13972119612294034, 0.004817972280101392, 0.019271889120405568, 0.008795803972351737, 0.008795803972351737, 0.765234945594601, 0.19350768739173818, 0.008795803972351737, 0.012605868074428414, 0.012605868074428414, 0.012605868074428414, 0.012605868074428414, 0.6302934037214206, 0.012605868074428414, 0.025211736148856828, 0.012605868074428414, 0.012605868074428414, 0.22690562533971143, 0.025211736148856828, 0.01978907191586887, 0.006596357305289622, 0.3166251506539019, 0.38918508101208776, 0.006596357305289622, 0.06596357305289623, 0.006596357305289622, 0.05277085844231698, 0.013192714610579245, 0.02638542922115849, 0.006596357305289622, 0.006596357305289622, 0.07915628766347547, 0.30509719442169847, 0.008245870119505363, 0.03298348047802145, 0.03298348047802145, 0.016491740239010726, 0.008245870119505363, 0.46176872669230035, 0.016491740239010726, 0.04122935059752682, 0.05772109083653754, 0.10135989943289482, 0.21987301261597184, 0.08810514335320857, 0.12397095392177136, 0.05925655659153851, 0.04054395977315793, 0.07251131267122475, 0.02650951215937249, 0.021051671420678156, 0.09590205869420049, 0.029628278295769254, 0.03508611903446359, 0.05457840738694336, 0.03352673596626521, 0.012616359369896165, 0.4415725779463658, 0.3280253436173003, 0.13877995306885782, 0.05046543747958466, 0.012616359369896165, 0.08847910987062622, 0.05308746592237573, 0.017695821974125246, 0.46009137132725636, 0.08847910987062622, 0.07078328789650098, 0.017695821974125246, 0.14156657579300197, 0.017695821974125246, 0.03539164394825049, 0.0031784094959345383, 0.0031784094959345383, 0.5212591573332642, 0.022248866471541767, 0.0031784094959345383, 0.01907045697560723, 0.0031784094959345383, 0.0031784094959345383, 0.3845875490080791, 0.03496250445527992, 0.0031784094959345383, 0.17771706067642237, 0.6634770265253102, 0.011847804045094824, 0.023695608090189647, 0.09478243236075859, 0.06788356721730208, 0.3334281095673367, 0.02595548158308609, 0.02395890607669485, 0.07986302025564951, 0.027952057089477327, 0.11779795487708301, 0.02395890607669485, 0.039931510127824754, 0.013976028544738664, 0.08185959576204074, 0.08385617126843198, 0.05390753867256341, 0.021962330570303612, 0.12507321448744613, 0.056282946519350764, 0.012507321448744614, 0.41899526853294455, 0.09380491086558461, 0.18760982173116922, 0.03126830362186153, 0.018760982173116923, 0.012507321448744614, 0.012507321448744614, 0.006253660724372307, 0.02501464289748923, 0.013419930320942724, 0.17595019754124905, 0.13211175849283616, 0.10735944256754179, 0.01073594425675418, 0.29344914301794756, 0.06560854823571999, 0.06948541699510344, 0.009841282235357997, 0.032804274117859994, 0.041154452984224356, 0.01998078514451472, 0.01610391638513127, 0.011928826951949087, 0.008337593097839945, 0.015748786962586563, 0.006947994248199954, 0.1797214512201055, 0.0018527984661866545, 0.4497668276668104, 0.01667518619567989, 0.018527984661866545, 0.0611423493841596, 0.17416305582154554, 0.02269678121078652, 0.01157999041366659, 0.01667518619567989, 0.015748786962586563, 0.41535299449492835, 0.03195023034576372, 0.01597511517288186, 0.04792534551864558, 0.41535299449492835, 0.01597511517288186, 0.03195023034576372, 0.003546803031996251, 0.012413810611986879, 0.003546803031996251, 0.03546803031996251, 0.003546803031996251, 0.003546803031996251, 0.003546803031996251, 0.003546803031996251, 0.003546803031996251, 0.07270946215592314, 0.014187212127985004, 0.014187212127985004, 0.003546803031996251, 0.8246317049391283, 0.07572422190345039, 0.037862110951725196, 0.00757242219034504, 0.00757242219034504, 0.40891079827863214, 0.00757242219034504, 0.00757242219034504, 0.00757242219034504, 0.4392004870400123, 0.06286342268083761, 0.05293761909965272, 0.029777410743554656, 0.11910964297421862, 0.003308601193728295, 0.04301181551846784, 0.03970321432473954, 0.04301181551846784, 0.029777410743554656, 0.03308601193728295, 0.04301181551846784, 0.05293761909965272, 0.003308601193728295, 0.44335255995959155, 0.007669636001530647, 0.012782726669217743, 0.0025565453338435486, 0.17384508270136131, 0.0025565453338435486, 0.27610689605510325, 0.012782726669217743, 0.038348180007653235, 0.07669636001530647, 0.2940027133920081, 0.035791634673809684, 0.007669636001530647, 0.025565453338435486, 0.033235089339966134, 0.7326463456352129, 0.0057688688632693925, 0.0057688688632693925, 0.0057688688632693925, 0.020191041021442875, 0.00865330329490409, 0.04038208204288575, 0.0057688688632693925, 0.10672407397048377, 0.00865330329490409, 0.03172877874798166, 0.0057688688632693925, 0.011537737726538785, 0.011537737726538785, 0.6593741500010463, 0.0775734294118878, 0.005540959243706272, 0.03324575546223763, 0.016622877731118816, 0.011081918487412544, 0.08865534789930035, 0.005540959243706272, 0.07203247016818153, 0.005540959243706272, 0.011081918487412544, 0.6439848869816553, 0.01788846908282376, 0.03577693816564752, 0.2146616289938851, 0.01788846908282376, 0.05366540724847128, 0.1437967644934302, 0.3451122347842325, 0.08627805869605812, 0.02875935289868604, 0.02875935289868604, 0.04313902934802906, 0.08627805869605812, 0.20131547029080227, 0.01437967644934302, 0.04104948004309028, 0.4652274404883565, 0.13683160014363427, 0.06157422006463542, 0.013683160014363427, 0.04104948004309028, 0.07525738007899885, 0.027366320028726854, 0.02052474002154514, 0.04104948004309028, 0.027366320028726854, 0.047891060050271994, 0.0028808511546787427, 0.48398299398602873, 0.3716297989535578, 0.005761702309357485, 0.01152340461871497, 0.020165958082751196, 0.017285106928072454, 0.05473617193889611, 0.0028808511546787427, 0.008642553464036227, 0.0028808511546787427, 0.01152340461871497, 0.008642553464036227, 0.011788694480962928, 0.0825208613667405, 0.12378129205011075, 0.04126043068337025, 0.06483781964529611, 0.5128082099218874, 0.011788694480962928, 0.03536608344288879, 0.023577388961925856, 0.03536608344288879, 0.017683041721444394, 0.017683041721444394, 0.017683041721444394, 0.18247441990506885, 0.04293515762472208, 0.17174063049888832, 0.44008536565340134, 0.01073378940618052, 0.06440273643708312, 0.01073378940618052, 0.03220136821854156, 0.03220136821854156, 0.1528060737392745, 0.025467678956545746, 0.012733839478272873, 0.012733839478272873, 0.611224294957098, 0.03820151843481862, 0.08913687634791011, 0.025467678956545746, 0.14865466727062926, 0.012387888939219103, 0.012387888939219103, 0.5326792243864215, 0.06193944469609552, 0.07432733363531463, 0.13626677833141015, 0.5941577955914935, 0.12378287408156116, 0.08664801185709281, 0.024756574816312233, 0.08664801185709281, 0.012378287408156117, 0.049513149632624466, 0.012378287408156117, 0.6428875921552718, 0.04851981827586957, 0.012129954568967392, 0.024259909137934785, 0.012129954568967392, 0.012129954568967392, 0.012129954568967392, 0.04851981827586957, 0.012129954568967392, 0.1576894093965761, 0.4905395708090059, 0.03523212387026009, 0.010840653498541566, 0.008130490123906174, 0.013550816873176958, 0.01626098024781235, 0.09214555473760332, 0.008130490123906174, 0.04878294074343705, 0.1626098024781235, 0.01626098024781235, 0.062333757616614006, 0.005420326749270783, 0.0325219604956247, 0.09511859766049796, 0.006341239844033198, 0.006341239844033198, 0.7482663015959173, 0.02536495937613279, 0.02536495937613279, 0.02536495937613279, 0.012682479688066396, 0.012682479688066396, 0.03804743906419918, 0.006341239844033198, 0.020997869160760865, 0.006999289720253622, 0.04199573832152173, 0.33596590657217384, 0.006999289720253622, 0.4479545420962318, 0.020997869160760865, 0.006999289720253622, 0.027997158881014488, 0.07699218692278985, 0.24073485976757664, 0.008397727666310813, 0.0027992425554369377, 0.011196970221747751, 0.0027992425554369377, 0.07837879155223425, 0.08397727666310813, 0.46467426420253166, 0.04758712344242794, 0.0027992425554369377, 0.041988638331554064, 0.008397727666310813, 0.008397727666310813, 0.07191739517361151, 0.03995410842978417, 0.031963286743827334, 0.20776136383487767, 0.05593575180169784, 0.1678072554050935, 0.015981643371913667, 0.047944930115741004, 0.031963286743827334, 0.007990821685956833, 0.007990821685956833, 0.047944930115741004, 0.2636971156365755, 0.007990821685956833, 0.09015952396736379, 0.0624181319774057, 0.016182478660808883, 0.023117826658298406, 0.3745087918644342, 0.06704169730906538, 0.013870695994979044, 0.03930030531910729, 0.03698852265327745, 0.016182478660808883, 0.04623565331659681, 0.06472991464323553, 0.10171843729651299, 0.04623565331659681, 0.016804665615758423, 0.005601555205252807, 0.8346317255826683, 0.005601555205252807, 0.02240622082101123, 0.08962488328404491, 0.005601555205252807, 0.005601555205252807, 0.0264752096678167, 0.0075643456193762, 0.0226930368581286, 0.0453860737162572, 0.0075643456193762, 0.0264752096678167, 0.075643456193762, 0.0037821728096881, 0.5446328845950864, 0.0983364930518906, 0.1059008386712668, 0.0264752096678167, 0.0037821728096881, 0.849697236654688, 0.004681527474681477, 0.016385346161385168, 0.004681527474681477, 0.07958596706958511, 0.0023407637373407384, 0.0023407637373407384, 0.0023407637373407384, 0.0023407637373407384, 0.0023407637373407384, 0.01404458242404443, 0.018726109898725907, 0.8529087744145805, 0.01672370145910942, 0.01672370145910942, 0.10034220875465652, 0.025804243178075333, 0.022578712780815916, 0.0032255303972594167, 0.012902121589037667, 0.5999486538902515, 0.012902121589037667, 0.04838295595889125, 0.02902977357533475, 0.012902121589037667, 0.00967659119177825, 0.041931895164372415, 0.077412729534226, 0.0193531823835565, 0.08063825993148542, 0.805616379973385, 0.04845812811869985, 0.018171798044512442, 0.0060572660148374815, 0.07268719217804977, 0.04240086210386237, 0.0060572660148374815, 0.018517901686694548, 0.08796003301179911, 0.04166527879506274, 0.004629475421673637, 0.009258950843347274, 0.004629475421673637, 0.12499583638518821, 0.4444296404806692, 0.037035803373389097, 0.009258950843347274, 0.009258950843347274, 0.023147377108368186, 0.004629475421673637, 0.1851790168669455, 0.0790918634420175, 0.013181977240336252, 0.03954593172100875, 0.48114216927227316, 0.026363954480672504, 0.21091163584538003, 0.046136920341176876, 0.006590988620168126, 0.05272790896134501, 0.026363954480672504, 0.006590988620168126, 0.13267625748531137, 0.03980287724559341, 0.026535251497062273, 0.38476114670740297, 0.33169064371327844, 0.013267625748531136, 0.026535251497062273, 0.013267625748531136, 0.0373858464937168, 0.1495433859748672, 0.0186929232468584, 0.3551655416903096, 0.186929232468584, 0.0560787697405752, 0.1308504627280088, 0.0373858464937168, 0.8383768548253828, 0.005570610331065666, 0.005570610331065666, 0.030638356820861166, 0.002785305165532833, 0.019497136158729833, 0.002785305165532833, 0.008355915496598499, 0.0417795774829925, 0.04456488264852533, 0.14555978270737835, 0.12344943596701707, 0.10041782477914075, 0.06725230466859886, 0.11055173370180633, 0.04422069348072254, 0.028559197872966638, 0.05896092464096338, 0.04514195792823759, 0.03777184234811717, 0.06172471798350854, 0.04145690013817738, 0.06356724687853864, 0.07185862690617412, 0.014589238633688323, 0.014589238633688323, 0.05835695453475329, 0.029178477267376646, 0.029178477267376646, 0.8315866021202344, 0.012608485183240961, 0.08195515369106625, 0.22947443033498552, 0.09204194183765903, 0.2773866740313012, 0.0693466685078253, 0.012608485183240961, 0.0037825455549722886, 0.005043394073296385, 0.0037825455549722886, 0.15004097368056746, 0.050433940732963846, 0.0037825455549722886, 0.01008678814659277, 0.00463825724863372, 0.02782954349180232, 0.00927651449726744, 0.08348863047540696, 0.02782954349180232, 0.05565908698360464, 0.00463825724863372, 0.5983351850737498, 0.115956431215843, 0.00927651449726744, 0.060297344232238356, 0.008060481959420473, 0.008060481959420473, 0.016120963918840946, 0.6125966289159559, 0.03224192783768189, 0.10478626547246615, 0.008060481959420473, 0.03224192783768189, 0.07254433763478425, 0.09672578351304567, 0.12483441537548252, 0.013870490597275836, 0.19418686836186172, 0.4993376615019301, 0.11096392477820669, 0.02774098119455167, 0.15605693271350332, 0.1857820627541706, 0.007431282510166825, 0.5573461882625119, 0.007431282510166825, 0.01486256502033365, 0.007431282510166825, 0.01486256502033365, 0.04458769506100095, 0.03003796596047886, 0.07509491490119714, 0.7209111830514926, 0.01501898298023943, 0.12015186384191544, 0.03003796596047886, 0.016182996845907526, 0.048548990537722575, 0.0431546582557534, 0.016182996845907526, 0.16722430074104444, 0.09170364879347598, 0.037760325973784224, 0.0215773291278767, 0.03236599369181505, 0.2966882755083046, 0.10249231335741434, 0.0647319873836301, 0.005394332281969175, 0.053943322819691754, 0.06924391844500412, 0.04154635106700247, 0.16618540426800987, 0.08309270213400494, 0.15233662057900904, 0.013848783689000823, 0.013848783689000823, 0.3739171596030222, 0.013848783689000823, 0.027697567378001647, 0.06924391844500412, 0.0028625334417675973, 0.04150673490563016, 0.01145013376707039, 0.14742047225103125, 0.007156333604418993, 0.007156333604418993, 0.018606467371489382, 0.0014312667208837987, 0.017175200650605585, 0.024331534255024576, 0.09589487029921451, 0.004293800162651396, 0.005725066883535195, 0.6125821565382659, 0.21462722750108715, 0.03294716211639496, 0.026828403437635893, 0.03530053083899459, 0.01129616986847827, 0.006589432423278991, 0.03435918334995474, 0.02259233973695654, 0.25039843208460166, 0.037183225817074304, 0.14120212335597837, 0.03624187832803445, 0.13602471216625917, 0.015532233569157622, 0.006166156996553142, 0.23871836372370023, 0.14358337006259458, 0.018498470989659427, 0.4087281209143797, 0.007047036567489305, 0.014974952705914774, 0.022902868844340243, 0.012332313993106284, 0.0008808795709361631, 0.03963958069212734, 0.010570554851233958, 0.004404397854680816, 0.07047036567489305, 0.054104658536739646, 0.191641734443218, 0.1274240556192373, 0.12489580054742704, 0.07635330316866996, 0.04095773216332627, 0.050059450421843225, 0.09455673968570387, 0.017192134488309793, 0.04095773216332627, 0.03539557100534369, 0.04753119535003296, 0.06573463186706686, 0.032361664919171376, 0.0351203055066213, 0.1638947590308994, 0.0117067685022071, 0.0702406110132426, 0.5736316566081479, 0.0117067685022071, 0.0117067685022071, 0.0234135370044142, 0.0585338425110355, 0.0468270740088284, 0.011978498830743818, 0.004791399532297527, 0.011179932242027563, 0.031144096959933927, 0.0023956997661487636, 0.003194266354865018, 0.01916559812919011, 0.004791399532297527, 0.33779366702697566, 0.022359864484055126, 0.032741230137366434, 0.003992832943581273, 0.03753262966966396, 0.4759456868748877, 0.08417419530296581, 0.06733935624237265, 0.016834839060593163, 0.11784387342415215, 0.016834839060593163, 0.6060542061813539, 0.016834839060593163, 0.016834839060593163, 0.016834839060593163, 0.033669678121186326, 0.14464902635428348, 0.009643268423618899, 0.009643268423618899, 0.019286536847237797, 0.038573073694475594, 0.019286536847237797, 0.2507249790140914, 0.09643268423618899, 0.14464902635428348, 0.24108171059047248, 0.028929805270856698, 0.24494254202615562, 0.01632950280174371, 0.048988508405231126, 0.01632950280174371, 0.5552030952592861, 0.048988508405231126, 0.01632950280174371, 0.01632950280174371, 0.03265900560348742, 0.01632950280174371, 0.015056025336994197, 0.33123255741387236, 0.10539217735895938, 0.06022410134797679, 0.030112050673988394, 0.015056025336994197, 0.33123255741387236, 0.015056025336994197, 0.04516807601098259, 0.030112050673988394, 0.015056025336994197, 0.014343130383375265, 0.4704546765747087, 0.022949008613400424, 0.13482542560372748, 0.07458427799355137, 0.005737252153350106, 0.008605878230025158, 0.02868626076675053, 0.054503895456826004, 0.02008038253672537, 0.08319015622357653, 0.002868626076675053, 0.07171565191687632, 0.060806129790950056, 0.06514942477601791, 0.021716474925339305, 0.06949271976108577, 0.030403064895475028, 0.03908965486561075, 0.06514942477601791, 0.05211953982081433, 0.013029884955203583, 0.008686589970135722, 0.013029884955203583, 0.5211953982081433, 0.034746359880542886, 0.01860631239737649, 0.00620210413245883, 0.01240420826491766, 0.01240420826491766, 0.00620210413245883, 0.7194440793652243, 0.01860631239737649, 0.02480841652983532, 0.09923366611934129, 0.02480841652983532, 0.04961683305967064, 0.10692207704043112, 0.01336525963005389, 0.10692207704043112, 0.04009577889016167, 0.12028733667048501, 0.02673051926010778, 0.01336525963005389, 0.05346103852021556, 0.09355681741037723, 0.1336525963005389, 0.01336525963005389, 0.17374837519070058, 0.12028733667048501, 0.0710451513269648, 0.0710451513269648, 0.0710451513269648, 0.01420903026539296, 0.09946321185775073, 0.01420903026539296, 0.02841806053078592, 0.41206187769639585, 0.04262709079617888, 0.0710451513269648, 0.01420903026539296, 0.08525418159235776, 0.01420903026539296, 0.010138629332990225, 0.19263395732681426, 0.10138629332990225, 0.02027725866598045, 0.38526791465362853, 0.02027725866598045, 0.09124766399691203, 0.010138629332990225, 0.0811090346639218, 0.010138629332990225, 0.06083177599794135, 0.010138629332990225, 0.002350453785175892, 0.0893172438366839, 0.23034447094723742, 0.19861334484736287, 0.028205445422110707, 0.06698793287751292, 0.0035256806777638383, 0.01175226892587946, 0.002350453785175892, 0.0740392942330406, 0.23269492473241332, 0.0035256806777638383, 0.008226588248115622, 0.04818430259610579, 0.17453440294727654, 0.00883416266627802, 0.00859540151313537, 0.018623369945126634, 0.04703594716910189, 0.46582300978130853, 0.049901081006813675, 0.06542055596108587, 0.027457532611404656, 0.005013984215995633, 0.016235758413700143, 0.07544852439307714, 0.024353637620550216, 0.012654341116560407, 0.10653457616058992, 0.03043845033159712, 0.5022344304713525, 0.01521922516579856, 0.01521922516579856, 0.01521922516579856, 0.18263070198958273, 0.09131535099479136, 0.006581704734908581, 0.1316340946981716, 0.01974511420472574, 0.08556216155381155, 0.0329085236745429, 0.013163409469817162, 0.12505238996326304, 0.006581704734908581, 0.3356669414803376, 0.05265363787926865, 0.11188898049344587, 0.006581704734908581, 0.05265363787926865, 0.026326818939634324, 0.012456360378493021, 0.024912720756986043, 0.037369081135479064, 0.6103616585461581, 0.037369081135479064, 0.1743890452989023, 0.012456360378493021, 0.08719452264945116, 0.015517163063334512, 0.23275744595001768, 0.015517163063334512, 0.015517163063334512, 0.046551489190003535, 0.3103432612666902, 0.2948260982033557, 0.046551489190003535, 0.004585740565307339, 0.004585740565307339, 0.004585740565307339, 0.4952599810531926, 0.027514443391844032, 0.013757221695922016, 0.055028886783688065, 0.004585740565307339, 0.0825433301755321, 0.25680147165721096, 0.050443146218380724, 0.11225572022112747, 0.7512498199413915, 0.01727011080325038, 0.06908044321300152, 0.00863505540162519, 0.00863505540162519, 0.01727011080325038, 0.00863505540162519, 0.2660790430589728, 0.0030939423611508463, 0.00928182708345254, 0.0030939423611508463, 0.18254259930789993, 0.3434276020877439, 0.11138192500143046, 0.00928182708345254, 0.0030939423611508463, 0.0030939423611508463, 0.03403336597265931, 0.030939423611508463, 0.0030939423611508463, 0.03570367678477505, 0.07576146049452266, 0.019158070469879294, 0.03134956985980248, 0.11320678004928673, 0.02351217739485186, 0.00783739246495062, 0.04092860509474213, 0.014803963544906727, 0.00522492830996708, 0.5843211493313185, 0.01044985661993416, 0.0034832855399780536, 0.03570367678477505, 0.05357946226705864, 0.09869900943931854, 0.04229957547399366, 0.031019688680928685, 0.06485934906012361, 0.06203937736185737, 0.06485934906012361, 0.036659632077461174, 0.01409985849133122, 0.01409985849133122, 0.036659632077461174, 0.016919830189597466, 0.019739801887863707, 0.44273555662780034, 0.16795816251639212, 0.019759783825457896, 0.009879891912728948, 0.6817125419782974, 0.009879891912728948, 0.009879891912728948, 0.019759783825457896, 0.009879891912728948, 0.029639675738186846, 0.019759783825457896, 0.009879891912728948, 0.17088353086982921, 0.0675586052276069, 0.031792284812991484, 0.08875346176960122, 0.035766320414615416, 0.006623392669373226, 0.12584446071809127, 0.014571463872621097, 0.026493570677492903, 0.11524703244709412, 0.11392235391321948, 0.011922106804871806, 0.014571463872621097, 0.17485756647145315, 0.05920746701048222, 0.04250792503316672, 0.15282611142876606, 0.3274122321007008, 0.040483738126825444, 0.009614887805121044, 0.006578607445609135, 0.016699541977315498, 0.009108841078535726, 0.005566513992438499, 0.22822707368997847, 0.04503815866609331, 0.04453211193950799, 0.011639074711462315, 0.03272520845773433, 0.03272520845773433, 0.7526797945278895, 0.03272520845773433, 0.0436336112769791, 0.010908402819244776, 0.010908402819244776, 0.010908402819244776, 0.02181680563848955, 0.0436336112769791, 0.8118284824982493, 0.02401859415675294, 0.10568181428971293, 0.014411156494051764, 0.004803718831350588, 0.004803718831350588, 0.004803718831350588, 0.004803718831350588, 0.009607437662701177, 0.009607437662701177, 0.009456296032995264, 0.7470473866066258, 0.009456296032995264, 0.12293184842893842, 0.018912592065990528, 0.018912592065990528, 0.009456296032995264, 0.02836888809898579, 0.018912592065990528, 0.009456296032995264, 0.11830220120666535, 0.11987956388942089, 0.05126428718955499, 0.08360022218604352, 0.08793796956362125, 0.044954836458532835, 0.06467186999297705, 0.08281154084466574, 0.07019263938262144, 0.08675494755155459, 0.07295302407744364, 0.026815165606844146, 0.04416615511715506, 0.04534917712922172, 0.012783823012210146, 0.8245565842875544, 0.05113529204884058, 0.006391911506105073, 0.031959557530525366, 0.006391911506105073, 0.006391911506105073, 0.006391911506105073, 0.019175734518315217, 0.012783823012210146, 0.012783823012210146, 0.012783823012210146, 0.06022703811107762, 0.035132438898128615, 0.005018919842589802, 0.5420433429996986, 0.015056759527769406, 0.03011351905553881, 0.03011351905553881, 0.045170278583308215, 0.08532163732402663, 0.015056759527769406, 0.010037839685179604, 0.08030271748143683, 0.035132438898128615, 0.010037839685179604, 0.1060063953870246, 0.08480511630961968, 0.5936358141673377, 0.08480511630961968, 0.04240255815480984, 0.04240255815480984, 0.02120127907740492, 0.02120127907740492, 0.1449165973988769, 0.04347497921966307, 0.04347497921966307, 0.08694995843932614, 0.23186655583820304, 0.05796663895955076, 0.02898331947977538, 0.05796663895955076, 0.2898331947977538, 0.018294624355814457, 0.018294624355814457, 0.30734968917768285, 0.06220172280976915, 0.007317849742325782, 0.003658924871162891, 0.5415208809321079, 0.007317849742325782, 0.014635699484651564, 0.003658924871162891, 0.010976774613488673, 0.003658924871162891, 0.20075769967138868, 0.06939772334319609, 0.007435470358199581, 0.0024784901193998605, 0.06196225298499651, 0.024784901193998603, 0.052048292507397065, 0.03222037155219819, 0.034698861671598046, 0.0024784901193998605, 0.3692950277905792, 0.12392450596999302, 0.017349430835799023, 0.04843496461936988, 0.7265244692905483, 0.12915990565165303, 0.01614498820645663, 0.03228997641291326, 0.03228997641291326, 0.009379742764725654, 0.009379742764725654, 0.8629363343547602, 0.01875948552945131, 0.009379742764725654, 0.06565819935307958, 0.013935759537550873, 0.6131734196522384, 0.013935759537550873, 0.013935759537550873, 0.013935759537550873, 0.04180727861265262, 0.2090363930632631, 0.013935759537550873, 0.04180727861265262, 0.006071272532147616, 0.004047515021431744, 0.002023757510715872, 0.014166302575011103, 0.006071272532147616, 0.2388033862644729, 0.004047515021431744, 0.02023757510715872, 0.6374836158754996, 0.008095030042863488, 0.014166302575011103, 0.006071272532147616, 0.03642763519288569, 0.44001270683635935, 0.03384713129510457, 0.05077069694265685, 0.1015413938853137, 0.05077069694265685, 0.2538534847132842, 0.016923565647552284, 0.03384713129510457, 0.24474120427075216, 0.04894824085415043, 0.008158040142358405, 0.03263216056943362, 0.13868668242009288, 0.01631608028471681, 0.4405341676873539, 0.008158040142358405, 0.03263216056943362, 0.01631608028471681, 0.0026619121363427823, 0.02129529709074226, 0.0013309560681713912, 0.7173853207443798, 0.038597725976970344, 0.0026619121363427823, 0.04658346238599869, 0.003992868204514173, 0.006654780340856955, 0.04658346238599869, 0.08518118836296903, 0.018633384954399475, 0.007985736409028346, 0.011694034110998116, 0.7718062513258757, 0.08185823877698681, 0.03508210233299435, 0.011694034110998116, 0.023388068221996232, 0.011694034110998116, 0.023388068221996232, 0.011694034110998116, 0.051132094693955854, 0.06790981326541012, 0.022370291428605686, 0.020772413469419566, 0.0623172404082587, 0.04553952183680444, 0.1366185655104133, 0.16857612469413571, 0.14380901632675083, 0.02796286428575711, 0.12783023673488964, 0.0583225455102934, 0.05992042346947952, 0.007190450816337542, 0.023415215933308073, 0.023415215933308073, 0.10770999329321715, 0.3559112821862827, 0.018732172746646458, 0.060879561426600996, 0.0046830431866616146, 0.08429477735990906, 0.10068542851322472, 0.07961173417324745, 0.0655626046132626, 0.03512282389996211, 0.018732172746646458, 0.021073694339977266, 0.7988832597372155, 0.01125187689770726, 0.06751126138624357, 0.056259384488536304, 0.01125187689770726, 0.01125187689770726, 0.01125187689770726, 0.01125187689770726, 0.01312005938536404, 0.02624011877072808, 0.02624011877072808, 0.4985622566438335, 0.15744071262436848, 0.11808053446827636, 0.01312005938536404, 0.10496047508291231, 0.03936017815609212, 0.023280083791827937, 0.015520055861218624, 0.007760027930609312, 0.011640041895913968, 0.29488106136315384, 0.07372026534078846, 0.003880013965304656, 0.02716009775713259, 0.015520055861218624, 0.01940006982652328, 0.1590805725774909, 0.2832410194672399, 0.05820020947956984, 0.003880013965304656, 0.04115808802798987, 0.005144761003498734, 0.010289522006997467, 0.020579044013994935, 0.005144761003498734, 0.25723805017493667, 0.020579044013994935, 0.5453446663708658, 0.010289522006997467, 0.077171415052481, 0.005144761003498734, 0.00165747870341215, 0.00165747870341215, 0.00165747870341215, 0.01491730833070935, 0.0024862180551182248, 0.000828739351706075, 0.0033149574068243, 0.000828739351706075, 0.000828739351706075, 0.0041436967585303745, 0.024033441199476174, 0.9422766428898073, 0.000828739351706075, 0.015522958908989644, 0.33633077636144226, 0.11211025878714743, 0.05346796957540877, 0.04484410351485897, 0.020697278545319525, 0.06726615527228846, 0.07071570169650838, 0.03277069103008925, 0.04656887672696893, 0.060367062423848615, 0.10176161951448767, 0.018972505333209565, 0.018972505333209565, 0.04013917945400942, 0.22638497212061312, 0.30024106231599046, 0.05780041841377356, 0.01445010460344339, 0.04656144816665093, 0.05137814970113205, 0.027294642028726404, 0.03692804509768866, 0.06101155277009432, 0.033716910741367914, 0.025689074850566027, 0.01926680613792452, 0.05940598559193394, 0.006029975214526184, 0.0020099917381753945, 0.076379686050665, 0.8160566456992102, 0.010049958690876973, 0.004019983476350789, 0.0020099917381753945, 0.0020099917381753945, 0.004019983476350789, 0.0020099917381753945, 0.010049958690876973, 0.0020099917381753945, 0.014069942167227763, 0.050249793454384864, 0.15995123816477588, 0.04443089949021552, 0.05627913935427299, 0.06960840920133765, 0.03258265962615805, 0.08145664906539513, 0.05479810937126581, 0.23400273731513507, 0.10219106882749569, 0.02665853969412931, 0.05627913935427299, 0.031101629643150865, 0.013329269847064656, 0.0370257495751796, 0.3347287556978155, 0.009046723126967988, 0.10856067752361585, 0.009046723126967988, 0.18093446253935974, 0.009046723126967988, 0.3347287556978155, 0.18120850073830524, 0.1976820008054239, 0.13178800053694928, 0.03294700013423732, 0.3953640016108478, 0.01647350006711866, 0.01647350006711866, 0.01647350006711866, 0.34118514737818006, 0.018954730409898892, 0.360139877788079, 0.02843209561484834, 0.018954730409898892, 0.009477365204949446, 0.17059257368909003, 0.009477365204949446, 0.02843209561484834, 0.009477365204949446, 0.27672059317590897, 0.15219632624674995, 0.17986838556434084, 0.013836029658795448, 0.013836029658795448, 0.12452426692915904, 0.22137647454072718, 0.013836029658795448, 0.02168125497615523, 0.07371626691892778, 0.08672501990462092, 0.0476987609475415, 0.13876003184739347, 0.05420313744038807, 0.008672501990462092, 0.07154814142131226, 0.006504376492846569, 0.013008752985693138, 0.3642450835994079, 0.03469000796184837, 0.06721189042608121, 0.010840627488077615, 0.015157032908766813, 0.009094219745260087, 0.0030314065817533624, 0.16672736199643495, 0.009094219745260087, 0.6456896019134662, 0.01212562632701345, 0.006062813163506725, 0.05759672505331389, 0.0030314065817533624, 0.018188439490520174, 0.0485025053080538, 0.006062813163506725, 0.32209886891526057, 0.07669020688458585, 0.5061553654382666, 0.01533804137691717, 0.01533804137691717, 0.01533804137691717, 0.01533804137691717, 0.08065978655888123, 0.3343478249295561, 0.12359160843699545, 0.0663491792661765, 0.016912535891378325, 0.036427000381430236, 0.027320250286072677, 0.018213500190715118, 0.11708678694031147, 0.0663491792661765, 0.016912535891378325, 0.040329893279440615, 0.01951446449005191, 0.03512603608209344, 0.03505966079053356, 0.3681264383006024, 0.03505966079053356, 0.01752983039526678, 0.01752983039526678, 0.03505966079053356, 0.07011932158106712, 0.0876491519763339, 0.22788779513846813, 0.0876491519763339, 0.01752983039526678, 0.6534661935655189, 0.03322709458807723, 0.06645418917615446, 0.03322709458807723, 0.02215139639205149, 0.02215139639205149, 0.03322709458807723, 0.03322709458807723, 0.055378490980128724, 0.03322709458807723, 0.011075698196025744, 0.005937021723385515, 0.04155915206369861, 0.6708834547425633, 0.17811065170156545, 0.01187404344677103, 0.01187404344677103, 0.017811065170156546, 0.01187404344677103, 0.01187404344677103, 0.029685108616927577, 0.005937021723385515, 0.004278289075616987, 0.034226312604935895, 0.7273091428548878, 0.12834867226850963, 0.012834867226850961, 0.008556578151233974, 0.012834867226850961, 0.008556578151233974, 0.042782890756169874, 0.017113156302467947, 0.17080924063708752, 0.011387282709139168, 0.04554913083655667, 0.0341618481274175, 0.011387282709139168, 0.0341618481274175, 0.0341618481274175, 0.5579768527478193, 0.0341618481274175, 0.05693641354569584, 0.05522297392152072, 0.5360669175796402, 0.021550428847422722, 0.07677340276894344, 0.01885662524149488, 0.0053876072118556806, 0.08216100998079913, 0.0053876072118556806, 0.09428312620747441, 0.048488464906701126, 0.00404070540889176, 0.035019446877061926, 0.006734509014819601, 0.010775214423711361, 0.11305346440374278, 0.026089261016248335, 0.008696420338749445, 0.008696420338749445, 0.06957136270999556, 0.01739284067749889, 0.2174105084687361, 0.078267783048745, 0.05217852203249667, 0.06957136270999556, 0.24349976948498445, 0.04348210169374722, 0.04348210169374722, 0.04592410677568465, 0.015308035591894881, 0.1836964271027386, 0.32146874742979253, 0.38270088979737205, 0.015308035591894881, 0.015308035591894881, 0.17121613576231476, 0.0077825516255597615, 0.7315598528026176, 0.0077825516255597615, 0.038912758127798805, 0.0077825516255597615, 0.0077825516255597615, 0.0077825516255597615, 0.015565103251119523, 0.0077825516255597615, 0.4521288097813018, 0.01339640917870524, 0.05023653442014465, 0.21769164915396014, 0.001674551147338155, 0.09544941539827483, 0.0887512108089222, 0.02679281835741048, 0.005023653442014464, 0.00334910229467631, 0.005023653442014464, 0.03851467638877756, 0.001674551147338155, 0.16561392201853462, 0.06096217988412317, 0.06502632520973138, 0.04470559858169032, 0.06807443420393754, 0.10465174213441143, 0.06807443420393754, 0.030481089942061584, 0.13411679574507096, 0.041657489587484164, 0.04572163491309238, 0.06197821621552522, 0.05994614355272111, 0.05080181657010264, 0.060316528703473885, 0.0737202017486903, 0.052274324876344036, 0.5522313294629164, 0.07908167096677687, 0.020105509567824628, 0.03753028452660597, 0.005361469218086568, 0.002680734609043284, 0.016084407654259704, 0.016084407654259704, 0.05495505948538732, 0.018765142263302986, 0.010722938436173135, 0.03187615694212564, 0.01593807847106282, 0.04781423541318846, 0.6375231388425128, 0.06375231388425127, 0.06375231388425127, 0.01593807847106282, 0.11156654929743974, 0.3343531371589672, 0.3715034857321858, 0.018575174286609288, 0.07430069714643715, 0.018575174286609288, 0.037150348573218576, 0.018575174286609288, 0.018575174286609288, 0.037150348573218576, 0.05572552285982787, 0.005883748772125417, 0.005883748772125417, 0.005883748772125417, 0.6119098723010433, 0.01765124631637625, 0.029418743860627084, 0.01765124631637625, 0.029418743860627084, 0.023534995088501667, 0.2000474582522642, 0.023534995088501667, 0.023534995088501667, 0.938453626328132, 0.011306670196724482, 0.022613340393448964, 0.11800443804610429, 0.03167904377076625, 0.293823130973857, 0.007919760942691563, 0.01742347407392144, 0.21858540201828716, 0.035638924242112034, 0.005543832659884095, 0.0031679043770766256, 0.15126743400540887, 0.003959880471345782, 0.041974732996265286, 0.022967306733805534, 0.04672658956188022, 0.0027847051676653583, 0.02784705167665358, 0.006497645391219169, 0.007425880447107622, 0.6729704155191283, 0.015779995950103695, 0.007425880447107622, 0.0510529280738649, 0.003712940223553811, 0.004641175279442264, 0.09467997570062218, 0.07518703952696468, 0.025990581564876675, 0.0027847051676653583, 0.021706893119201286, 0.007235631039733762, 0.04341378623840257, 0.40519533822509063, 0.20983330015227908, 0.2460114553509479, 0.014471262079467523, 0.014471262079467523, 0.03617815519866881, 0.11738047733786543, 0.005869023866893271, 0.06455926253582599, 0.023476095467573083, 0.017607071600679813, 0.1643326682730116, 0.029345119334466357, 0.058690238668932714, 0.005869023866893271, 0.45778386161767515, 0.005869023866893271, 0.005869023866893271, 0.04695219093514617, 0.02250709273701195, 0.005626773184252988, 0.005626773184252988, 0.42200798881897406, 0.005626773184252988, 0.4951560402142629, 0.005626773184252988, 0.011253546368505975, 0.005626773184252988, 0.005626773184252988, 0.016880319552758965, 0.0034854944906520676, 0.0034854944906520676, 0.024398461434564474, 0.0034854944906520676, 0.08713736226630169, 0.006970988981304135, 0.0034854944906520676, 0.38340439397172743, 0.006970988981304135, 0.006970988981304135, 0.006970988981304135, 0.46357076725672497, 0.0039990453800313, 0.02999284035023475, 0.00199952269001565, 0.004998806725039125, 0.2879312673622536, 0.02999284035023475, 0.014996420175117375, 0.055986635320438204, 0.0039990453800313, 0.002999284035023475, 0.41690048086826303, 0.11297303198588422, 0.027993317660219102, 0.004998806725039125, 0.005994379807923617, 0.26495158751022385, 0.00719325576950834, 0.008392131731093063, 0.00719325576950834, 0.0047955038463388935, 0.303315618280935, 0.1486606192365057, 0.0011988759615847234, 0.01078988365426251, 0.11988759615847233, 0.00719325576950834, 0.10789883654262511, 0.04049249211775985, 0.006748748686293308, 0.1619699684710394, 0.6006386330801045, 0.006748748686293308, 0.006748748686293308, 0.013497497372586617, 0.013497497372586617, 0.10797997898069293, 0.03374374343146654, 0.013497497372586617, 0.009549589694191238, 0.009549589694191238, 0.028648769082573713, 0.8117151240062552, 0.009549589694191238, 0.009549589694191238, 0.09549589694191238, 0.019099179388382476, 0.38877728474325524, 0.017671694761057056, 0.10603016856634234, 0.017671694761057056, 0.21206033713268468, 0.017671694761057056, 0.03534338952211411, 0.21206033713268468, 0.019455887831726935, 0.014149736604892316, 0.1839465758636001, 0.26177012719050785, 0.042449209814676946, 0.031836907361007714, 0.012381019529280777, 0.2281645027538886, 0.007074868302446158, 0.10258559038546929, 0.003537434151223079, 0.012381019529280777, 0.03891177566345387, 0.042449209814676946, 0.08087943949026202, 0.048527663694157216, 0.09705532738831443, 0.21028654267468128, 0.048527663694157216, 0.06470355159220961, 0.06470355159220961, 0.25881420636883845, 0.048527663694157216, 0.016175887898052403, 0.048527663694157216, 0.16763865511109233, 0.10400439010973891, 0.10400439010973891, 0.06910818027028705, 0.080740250216771, 0.062265786184120014, 0.05063371623763605, 0.0998989536580387, 0.034211970430835174, 0.05405491328071957, 0.039685885699768796, 0.039001646291152096, 0.036948928065301985, 0.056791870915186386, 0.011820851861411569, 0.09456681489129255, 0.2245961853668198, 0.059104259307057844, 0.011820851861411569, 0.5674008893477552, 0.011820851861411569, 0.15060627973812973, 0.055060360334370013, 0.13765090083592504, 0.014574801264980298, 0.03238844725551177, 0.025910757804409417, 0.008097111813877943, 0.006477689451102354, 0.0016194223627755886, 0.11497898775706679, 0.01133595653942912, 0.40485559069389715, 0.029149602529960596, 0.008097111813877943, 0.01925708471648032, 0.03209514119413387, 0.03851416943296064, 0.022466598835893706, 0.0481427117912008, 0.01925708471648032, 0.6130171968079569, 0.003209514119413387, 0.006419028238826774, 0.07702833886592128, 0.003209514119413387, 0.006419028238826774, 0.006419028238826774, 0.10591396594064176, 0.0822104614235119, 0.14386830749114585, 0.0822104614235119, 0.04110523071175595, 0.0822104614235119, 0.06165784606763393, 0.04110523071175595, 0.020552615355877976, 0.0822104614235119, 0.06165784606763393, 0.2877366149822917, 0.011540586732660648, 0.8809314539264295, 0.007693724488440432, 0.003846862244220216, 0.003846862244220216, 0.015387448976880864, 0.007693724488440432, 0.003846862244220216, 0.04616234693064259, 0.015387448976880864, 0.0315645866697996, 0.0315645866697996, 0.6628563200657916, 0.15782293334899802, 0.0315645866697996, 0.07891146667449901, 0.02520596413261106, 0.03150745516576382, 0.5419282288511378, 0.05041192826522212, 0.018904473099458294, 0.03780894619891659, 0.03780894619891659, 0.03150745516576382, 0.06301491033152765, 0.018904473099458294, 0.018904473099458294, 0.03150745516576382, 0.07561789239783318, 0.4935092062295692, 0.0963719694568472, 0.03388904420460561, 0.023298717890666357, 0.039184207361575234, 0.019062587365090655, 0.042361305255757015, 0.03812517473018131, 0.011649358945333178, 0.02753484841624206, 0.007413228419757477, 0.008472261051151403, 0.02753484841624206, 0.13132004629284674, 0.11986956355769214, 0.0942258260801759, 0.09482219206802513, 0.07514211446900104, 0.12344775948478742, 0.06917845459050889, 0.05784750082137382, 0.09243672811662826, 0.025643737477516228, 0.07156391854190575, 0.049498376991484815, 0.022661907538270156, 0.04114925316159581, 0.06261842872416754, 0.2749778043895056, 0.0280589596315822, 0.03554134886667079, 0.036476647521056865, 0.16367726451756284, 0.1262653183421199, 0.036476647521056865, 0.03086485559474042, 0.0280589596315822, 0.013094181161405028, 0.03460605021228472, 0.03554134886667079, 0.13187711026843635, 0.025253063668423982, 0.9088811521966096, 0.012984016459951566, 0.012984016459951566, 0.012984016459951566, 0.02596803291990313, 0.012984016459951566, 0.009804206688690717, 0.012255258360863396, 0.014706310033036076, 0.6715881581753141, 0.012255258360863396, 0.007353155016518038, 0.009804206688690717, 0.012255258360863396, 0.03431472341041751, 0.03921682675476287, 0.022059465049554115, 0.012255258360863396, 0.012255258360863396, 0.12745468695297932, 0.6953575281058607, 0.008801994026656464, 0.04400997013328232, 0.005867996017770976, 0.002933998008885488, 0.08508594225767915, 0.005867996017770976, 0.04694396814216781, 0.008801994026656464, 0.035207976106625856, 0.005867996017770976, 0.04400997013328232, 0.01466999004442744, 0.002933998008885488, 0.015362087499309838, 0.07331905397397877, 0.028629344885077426, 0.7024663647411681, 0.027931068180563342, 0.006284490340626752, 0.010474150567711253, 0.015362087499309838, 0.006284490340626752, 0.031422451703133764, 0.020948301135422506, 0.03281900511216193, 0.012568980681253504, 0.016060364203823924, 0.15044239165920165, 0.04011797110912044, 0.008023594221824089, 0.06017695666368066, 0.034100275442752376, 0.06820055088550475, 0.03811207255366442, 0.026076681220928287, 0.10631262343916917, 0.02005898555456022, 0.048141565330944526, 0.2988788847629473, 0.09628313066188905, 0.006017695666368066, 0.016519127624249928, 0.24778691436374892, 0.06607651049699971, 0.033038255248499855, 0.19822953149099914, 0.016519127624249928, 0.04129781906062482, 0.016519127624249928, 0.008259563812124964, 0.3634208077334984, 0.08357171809408484, 0.005763566765109299, 0.028817833825546497, 0.025936050442991847, 0.017290700295327897, 0.12968025221495924, 0.04610853412087439, 0.04899031750342904, 0.3717500563495498, 0.005763566765109299, 0.06628101779875695, 0.04034496735576509, 0.020172483677882547, 0.11238955191963133, 0.004766521280891414, 0.009533042561782829, 0.004766521280891414, 0.004766521280891414, 0.5100177770553813, 0.28599127685348485, 0.004766521280891414, 0.15729520226941668, 0.009533042561782829, 0.004766521280891414, 0.03186704680144036, 0.541739795624486, 0.23900285101080268, 0.0796676170036009, 0.01593352340072018, 0.04780057020216054, 0.01593352340072018, 0.01593352340072018, 0.01593352340072018, 0.008131149313447024, 0.010841532417929366, 0.40926784877683353, 0.2086994990451403, 0.046076512776199806, 0.018972681731376388, 0.0027103831044823414, 0.027103831044823414, 0.013551915522411707, 0.018972681731376388, 0.19514758352272857, 0.010841532417929366, 0.02168306483585873, 0.010841532417929366, 0.8720810804127372, 0.00392829315501233, 0.02356975893007398, 0.00392829315501233, 0.01571317262004932, 0.01964146577506165, 0.01178487946503699, 0.00392829315501233, 0.00785658631002466, 0.01178487946503699, 0.00785658631002466, 0.00392829315501233, 0.00392829315501233, 0.1409302147233673, 0.1136748430079991, 0.06780604670652578, 0.09772047907705185, 0.10636242620631495, 0.047863091792841726, 0.05716980408589428, 0.08774900162020982, 0.03855637949978917, 0.04653356146526279, 0.054510743430736405, 0.05916409957726269, 0.03523255368084183, 0.047863091792841726, 0.01504795973952816, 0.24076735583245057, 0.02257193960929224, 0.09781173830693304, 0.05266785908834856, 0.01504795973952816, 0.30848317466032726, 0.15800357726504569, 0.01504795973952816, 0.01504795973952816, 0.03009591947905632, 0.02257193960929224, 0.008710375070894715, 0.2351801269141573, 0.08710375070894714, 0.04355187535447357, 0.026131125212684143, 0.06968300056715772, 0.07839337563805243, 0.06968300056715772, 0.008710375070894715, 0.07839337563805243, 0.026131125212684143, 0.2613112521268414, 0.03686610421185387, 0.12903136474148855, 0.07373220842370774, 0.07373220842370774, 0.5161254589659542, 0.07373220842370774, 0.03686610421185387, 0.018433052105926936, 0.018433052105926936, 0.04607849137104602, 0.1005348902641004, 0.6115872491066108, 0.04607849137104602, 0.008377907522008366, 0.008377907522008366, 0.06283430641506275, 0.01675581504401673, 0.01675581504401673, 0.04607849137104602, 0.01256686128301255, 0.029322676327029285, 0.05232712495971598, 0.0016352226549911245, 0.7293093041260416, 0.09811335929946746, 0.006540890619964498, 0.012264169912433433, 0.002452833982486687, 0.005723279292468936, 0.004905667964973374, 0.004905667964973374, 0.005723279292468936, 0.019622671859893494, 0.03842773239229143, 0.019622671859893494, 0.1323691152936447, 0.07445762735267514, 0.016546139411705588, 0.6122071582331067, 0.016546139411705588, 0.049638418235116756, 0.016546139411705588, 0.033092278823411175, 0.024819209117558378, 0.008273069705852794, 0.016546139411705588, 0.008273069705852794, 0.08475881805336054, 0.022602351480896142, 0.17940616487961314, 0.004237940902668026, 0.05085529083201632, 0.01271382270800408, 0.12148763920981677, 0.1271382270800408, 0.20200851636050926, 0.019777057545784123, 0.05509323173468435, 0.05085529083201632, 0.032490880253788205, 0.03531617418890022, 0.023598669662141365, 0.4401664906547237, 0.05779964018698392, 0.07045399928117567, 0.01778450467291813, 0.01641646585192443, 0.054379543134499664, 0.03933111610356894, 0.03659503846158153, 0.04343523256655005, 0.1029449212797761, 0.017100485262421278, 0.057457630481735494, 0.022914650251644512, 0.12530593353395578, 0.05012237341358231, 0.25061186706791155, 0.10024474682716462, 0.025061186706791156, 0.05012237341358231, 0.025061186706791156, 0.2255506803611204, 0.10024474682716462, 0.05012237341358231, 0.02999993600128277, 0.0059999872002565536, 0.06599985920282209, 0.011999974400513107, 0.8639981568369437, 0.0059999872002565536, 0.0059999872002565536, 0.007446703985299654, 0.44978092071209913, 0.022340111955898963, 0.028297475144138686, 0.010425385579419516, 0.013404067173539378, 0.1697848508648321, 0.01638274876765924, 0.004468022391179793, 0.12808330854715405, 0.06850967666475682, 0.020850771158839033, 0.013404067173539378, 0.04765890550591779, 0.22983915232718302, 0.01209679749090437, 0.07258078494542622, 0.5685494820725053, 0.06048398745452185, 0.01209679749090437, 0.01209679749090437, 0.01209679749090437, 0.06271247953450444, 0.10452079922417407, 0.006968053281611604, 0.18116938532190172, 0.013936106563223208, 0.04877637297128123, 0.013936106563223208, 0.020904159844834812, 0.020904159844834812, 0.27872213126446416, 0.25084991813801777, 0.04500539200235642, 0.018002156800942568, 0.8280992128433581, 0.009001078400471284, 0.009001078400471284, 0.018002156800942568, 0.009001078400471284, 0.009001078400471284, 0.0540064704028277, 0.020990961945205295, 0.04647998716438315, 0.002998708849315042, 0.005997417698630084, 0.004498063273972563, 0.002998708849315042, 0.18891865750684764, 0.01649289867123273, 0.03448515176712298, 0.01649289867123273, 0.6252307950821863, 0.01499354424657521, 0.002998708849315042, 0.01649289867123273, 0.08790834388779813, 0.40291324281907476, 0.20511946907152898, 0.007325695323983177, 0.18314238309957942, 0.007325695323983177, 0.02197708597194953, 0.007325695323983177, 0.014651390647966354, 0.007325695323983177, 0.03662847661991589, 0.02417919521479836, 0.00219810865589076, 0.00659432596767228, 0.164858149191807, 0.00439621731178152, 0.4220368619310259, 0.00879243462356304, 0.05715082505315976, 0.010990543279453799, 0.15606571456824395, 0.00219810865589076, 0.03956595580603368, 0.00879243462356304, 0.08792434623563039, 0.637497332788448, 0.14395101062964955, 0.020564430089949938, 0.041128860179899876, 0.041128860179899876, 0.08225772035979975, 0.09668590096318908, 0.1312892760447515, 0.09261491565947585, 0.2534188351561482, 0.027479150800064266, 0.05394055527420022, 0.04579858466677377, 0.052922808948271914, 0.05801154057791345, 0.016283941214852896, 0.06004703322977006, 0.03663886773341902, 0.044780838340845466, 0.02849689712599257, 0.008273718764038025, 0.0330948750561521, 0.041368593820190126, 0.01654743752807605, 0.3971385006738252, 0.008273718764038025, 0.09101090640441828, 0.01654743752807605, 0.0330948750561521, 0.3474961880895971, 0.16608405429486078, 0.011072270286324053, 0.09411429743375445, 0.005536135143162027, 0.011072270286324053, 0.038752946002134185, 0.06643362171794431, 0.19376473001067093, 0.3377042437328836, 0.01660840542948608, 0.011072270286324053, 0.005536135143162027, 0.044289081145296214, 0.005536135143162027, 0.016681730103375217, 0.008340865051687608, 0.008340865051687608, 0.25856681660231584, 0.016681730103375217, 0.06672692041350087, 0.041704325258438035, 0.008340865051687608, 0.008340865051687608, 0.5671788235147573, 0.004167842590118502, 0.01667137036047401, 0.06668548144189604, 0.04584626849130353, 0.7752187217620415, 0.004167842590118502, 0.004167842590118502, 0.008335685180237005, 0.05001411108142203, 0.004167842590118502, 0.008335685180237005, 0.004167842590118502, 0.004167842590118502, 0.012503527770355507, 0.39845262654490776, 0.044272514060545304, 0.03320438554540898, 0.03320438554540898, 0.08854502812109061, 0.011068128515136326, 0.011068128515136326, 0.06640877109081796, 0.22136257030272655, 0.044272514060545304, 0.044272514060545304, 0.00787770924978333, 0.14179876649609993, 0.08665480174761662, 0.25208669599306655, 0.00787770924978333, 0.04726625549869998, 0.01575541849956666, 0.01575541849956666, 0.01575541849956666, 0.00787770924978333, 0.00787770924978333, 0.38600775323938313, 0.00787770924978333, 0.07175869330405836, 0.07914561761477025, 0.19839168148769076, 0.22582882892747777, 0.05909539448569512, 0.01899494822754486, 0.01793967332601459, 0.06648231879640701, 0.06648231879640701, 0.04854264547039242, 0.02427132273519621, 0.03587934665202918, 0.04432154586427134, 0.04010044625815026, 0.026472094515602094, 0.5678450696797464, 0.12825916216010028, 0.03467471535142246, 0.008202620835820367, 0.015659548868384335, 0.01715093447489713, 0.005219849622794779, 0.03243763694165327, 0.05965542426051176, 0.006711235229307573, 0.006711235229307573, 0.0727050483174987, 0.018269473679781725, 0.2709320360734024, 0.01693325225458765, 0.5587973244013924, 0.05079975676376295, 0.01693325225458765, 0.05079975676376295, 0.01693325225458765, 0.018266947172278204, 0.16440252455050383, 0.14613557737822563, 0.1278686302059474, 0.03653389434455641, 0.09133473586139101, 0.05480084151683461, 0.05480084151683461, 0.018266947172278204, 0.05480084151683461, 0.20093641889506023, 0.07803092755354721, 0.15606185510709442, 0.097538659441934, 0.1365541232187076, 0.07803092755354721, 0.058523195665160406, 0.15606185510709442, 0.019507731888386802, 0.21458505077225482, 0.029420120655961904, 0.2427159954116857, 0.5222071416433238, 0.11032545245985714, 0.007355030163990476, 0.014710060327980952, 0.029420120655961904, 0.007355030163990476, 0.03677515081995238, 0.014208001755481326, 0.01894400234064177, 0.824064101817917, 0.009472001170320885, 0.004736000585160442, 0.009472001170320885, 0.05209600643676487, 0.009472001170320885, 0.014208001755481326, 0.03788800468128354, 0.061088758477894745, 0.04457828321359887, 0.23940189133229023, 0.3054437923894737, 0.05283352084574681, 0.029718855475732577, 0.047880378266458044, 0.03632304558145093, 0.02806780794930299, 0.04292723568716928, 0.03632304558145093, 0.031369903002162164, 0.029718855475732577, 0.013208380211436702, 0.014464051867602102, 0.014464051867602102, 0.057856207470408406, 0.12294444087461785, 0.028928103735204203, 0.014464051867602102, 0.289281037352042, 0.02169607780140315, 0.007232025933801051, 0.42668953009426197, 0.2770680375194118, 0.008149059927041524, 0.02444717978112457, 0.008149059927041524, 0.40745299635207616, 0.04889435956224914, 0.008149059927041524, 0.12223589890562285, 0.032596239708166094, 0.008149059927041524, 0.04889435956224914, 0.009253988641994004, 0.011236986208135577, 0.004626994320997002, 0.017185978906560293, 0.1368268320637685, 0.021812973227557295, 0.009253988641994004, 0.05486293266325017, 0.03899895213411759, 0.008592989453280147, 0.2068927460674374, 0.4660044280432695, 0.012558984585563293, 0.0019829975661415727, 0.012854031247270864, 0.27507626869159646, 0.07712418748362518, 0.14010894059525242, 0.06684096248580848, 0.010283224997816691, 0.08869281560616896, 0.0038562093741812587, 0.041132899991266764, 0.0051416124989083455, 0.11825708747489194, 0.020566449995633382, 0.13239652184688988, 0.008997821873089604, 0.009196417062908599, 0.05517850237745159, 0.013794625594362897, 0.059776710908905885, 0.2574996777614407, 0.013794625594362897, 0.004598208531454299, 0.027589251188725794, 0.009196417062908599, 0.3724548910477982, 0.05517850237745159, 0.09196417062908598, 0.018392834125817197, 0.004598208531454299, 0.008925617132145312, 0.2276032368697055, 0.02231404283036328, 0.04016527709465391, 0.031239659962508597, 0.031239659962508597, 0.02677685139643594, 0.16512391694468828, 0.008925617132145312, 0.004462808566072656, 0.08479336275538048, 0.004462808566072656, 0.08033055418930782, 0.26330570539828674, 0.003186388997889751, 0.003186388997889751, 0.08284611394513351, 0.003186388997889751, 0.019118333987338504, 0.003186388997889751, 0.8061564164661069, 0.009559166993669252, 0.006372777995779502, 0.04460944597045651, 0.009559166993669252, 0.009559166993669252, 0.1047940693356569, 0.07859555200174267, 0.026198517333914224, 0.05239703466782845, 0.05239703466782845, 0.07859555200174267, 0.1047940693356569, 0.05239703466782845, 0.07859555200174267, 0.235786656005228, 0.026198517333914224, 0.13099258666957111, 0.3586213393210988, 0.08486459174774094, 0.01916297233013505, 0.010950269902934314, 0.027375674757335787, 0.02463810728160221, 0.04380107961173726, 0.030113242233069368, 0.054751349514671574, 0.008212702427200737, 0.08212702427200737, 0.013687837378667893, 0.2436435053402885, 0.0027375674757335786, 0.00950317309709461, 0.3492416113182269, 0.07840117805103053, 0.02138213946846287, 0.023757932742736524, 0.023757932742736524, 0.2447067072501862, 0.08315276459957784, 0.014254759645641915, 0.06652221167966227, 0.01900634619418922, 0.023757932742736524, 0.00950317309709461, 0.03088531256555748, 0.005198291485457599, 0.010396582970915199, 0.8733129695568767, 0.031189748912745594, 0.010396582970915199, 0.005198291485457599, 0.005198291485457599, 0.020793165941830397, 0.031189748912745594, 0.12218335801146352, 0.04355050384567016, 0.2322693538435742, 0.1560559721136514, 0.03750182275599375, 0.23831803493325063, 0.007258417307611694, 0.0060486810896764115, 0.04476024006360545, 0.007258417307611694, 0.009677889743482259, 0.016936307051093953, 0.0411310314097996, 0.038711558973929035, 0.031029213049970326, 0.054301122837448076, 0.054301122837448076, 0.09308763914991099, 0.3568359500746588, 0.031029213049970326, 0.31804943376219585, 0.015514606524985163, 0.04654381957495549, 0.06341971501581171, 0.02717987786391931, 0.10871951145567724, 0.03623983715189241, 0.06341971501581171, 0.6251371908701441, 0.02717987786391931, 0.009059959287973103, 0.02717987786391931, 0.01783232464630741, 0.01783232464630741, 0.08916162323153706, 0.053496973938922235, 0.24965254504830378, 0.01783232464630741, 0.03566464929261482, 0.4636404408039927, 0.01783232464630741, 0.01783232464630741, 0.027538818175513326, 0.09638586361429663, 0.013769409087756663, 0.1101552727020533, 0.1514634999653233, 0.013769409087756663, 0.013769409087756663, 0.3855434544571865, 0.013769409087756663, 0.013769409087756663, 0.1514634999653233, 0.07316450212682257, 0.008129389125202509, 0.016258778250405018, 0.5040221257625556, 0.05690572387641756, 0.07316450212682257, 0.08129389125202509, 0.016258778250405018, 0.024388167375607527, 0.008129389125202509, 0.11381144775283512, 0.032517556500810035, 0.002825773716230483, 0.012715981723037175, 0.04379949260157249, 0.031083510878535316, 0.0508639268921487, 0.024019076587959105, 0.01836752915549814, 0.32778975108273606, 0.012715981723037175, 0.031083510878535316, 0.0169546422973829, 0.37300213054242376, 0.03532217145288104, 0.019780416013613383, 0.07819493953267978, 0.009774367441584973, 0.06842057209109481, 0.019548734883169945, 0.08796930697426476, 0.019548734883169945, 0.08796930697426476, 0.009774367441584973, 0.019548734883169945, 0.03909746976633989, 0.5571389441703435, 0.009774367441584973, 0.025885047927914663, 0.017256698618609775, 0.008628349309304888, 0.11216854102096353, 0.008628349309304888, 0.008628349309304888, 0.008628349309304888, 0.008628349309304888, 0.7851797871467447, 0.008628349309304888, 0.6376255105976121, 0.010121039850755747, 0.08771567870654981, 0.010121039850755747, 0.033736799502519156, 0.07759463885579407, 0.05060519925377874, 0.016868399751259578, 0.006747359900503832, 0.033736799502519156, 0.003373679950251916, 0.013494719801007663, 0.006747359900503832, 0.013494719801007663, 0.3094083238211355, 0.0333208964115069, 0.0142803841763601, 0.0571215367054404, 0.0380810244702936, 0.0238006402939335, 0.0190405122351468, 0.3189285799387089, 0.142803841763601, 0.0238006402939335, 0.0047601280587867, 0.12930908872372618, 0.14622803491187727, 0.2441162235718943, 0.05438232703334279, 0.06888428090890086, 0.06646728859630785, 0.05317383087704628, 0.04471435778297074, 0.018127442344447596, 0.04954834240815677, 0.019335938500744103, 0.025378419282226637, 0.029003907751116154, 0.05317383087704628, 0.04257464679958137, 0.008109456533253593, 0.778507827192345, 0.05676619573277516, 0.01216418479988039, 0.004054728266626797, 0.006082092399940195, 0.0020273641333133983, 0.008109456533253593, 0.016218913066507187, 0.004054728266626797, 0.05068410333283496, 0.008109456533253593, 0.006562475991285238, 0.0853121878867081, 0.019687427973855712, 0.013124951982570476, 0.006562475991285238, 0.8334344508932252, 0.013124951982570476, 0.013124951982570476, 0.006562475991285238, 0.006562475991285238, 0.050980560577785355, 0.1968416088975601, 0.024074153606176416, 0.03823542043333902, 0.03965154711605527, 0.06372570072223169, 0.10762562788643575, 0.12178689471359834, 0.007080633413581299, 0.018409646875311377, 0.24074153606176416, 0.046732180529636576, 0.022658026923460157, 0.021241900240743898, 0.012456379138208474, 0.012456379138208474, 0.29895309931700337, 0.4235168906990881, 0.02491275827641695, 0.16193292879671017, 0.03736913741462542, 0.2109600745960055, 0.0843840298384022, 0.028128009946134066, 0.014064004973067033, 0.05625601989226813, 0.09844803481146923, 0.014064004973067033, 0.014064004973067033, 0.014064004973067033, 0.0421920149192011, 0.014064004973067033, 0.3937921392458769, 0.1576327327746984, 0.08864607194586213, 0.08221208285301729, 0.07327598689073281, 0.06219522789750004, 0.10330126932400868, 0.039676266072543126, 0.040748597588017264, 0.0836418582069828, 0.03502949617215519, 0.09865449942362076, 0.06076545254353452, 0.05576123880465521, 0.018229635763060355, 0.008597938884108503, 0.0021494847210271257, 0.008597938884108503, 0.08597938884108502, 0.008597938884108503, 0.10102578188827491, 0.004298969442054251, 0.4599897302998049, 0.027943301373352634, 0.012896908326162753, 0.021494847210271256, 0.2192474415447668, 0.040840209699515385, 0.22146132317237183, 0.023639130001545307, 0.11073066158618591, 0.02239496526462187, 0.011197482632310934, 0.08957986105848748, 0.03110411842308593, 0.34961029107548586, 0.032348283160009365, 0.05598741316155467, 0.013685812106157809, 0.024883294738468745, 0.004976658947693749, 0.00870915315846406, 0.1973331211478376, 0.0986665605739188, 0.0164444267623198, 0.0164444267623198, 0.1479998408608782, 0.0328888535246396, 0.0164444267623198, 0.47688837610727425, 0.46530599990451826, 0.019122164379637735, 0.15042769311981685, 0.03951913971791799, 0.0242214082142078, 0.04716800546977308, 0.00892367671049761, 0.08158790135312101, 0.025496219172850314, 0.011473298627782642, 0.036969517800632956, 0.030595463007420377, 0.02677103013149283, 0.030595463007420377, 0.23807620559315926, 0.18660026924869239, 0.10938636473199209, 0.012868984086116716, 0.03217246021529179, 0.025737968172233432, 0.006434492043058358, 0.0772139045167003, 0.025737968172233432, 0.25737968172233433, 0.019303476129175073, 0.5448028329808399, 0.02011017168721221, 0.009140987130551005, 0.015234978550918342, 0.0073127897044408035, 0.020719570829248943, 0.1505215880830732, 0.012797381982771406, 0.004875193136293869, 0.05728351935145296, 0.03534515023813055, 0.01706317597702854, 0.027422961391653015, 0.07800309018070191, 0.048680081303324865, 0.7776330936402921, 0.009985657703246126, 0.009985657703246126, 0.024340040651662433, 0.02121952261939802, 0.014354382948416306, 0.0037446216387172974, 0.0062410360645288295, 0.03245338753554991, 0.01497848655486919, 0.022467729832303784, 0.008113346883887478, 0.0062410360645288295, 0.008516942102963965, 0.09368636313260362, 0.11072024733853156, 0.17033884205927932, 0.37474545253041447, 0.06813553682371172, 0.03406776841185586, 0.01703388420592793, 0.008516942102963965, 0.11072024733853156, 0.04184249070762916, 0.01046062267690729, 0.04184249070762916, 0.4288855297531989, 0.04184249070762916, 0.1046062267690729, 0.2092124535381458, 0.1046062267690729, 0.01046062267690729, 0.01046062267690729, 0.12758944756536647, 0.16404357544118545, 0.12758944756536647, 0.018227063937909495, 0.054681191813728484, 0.054681191813728484, 0.018227063937909495, 0.07290825575163798, 0.2916330230065519, 0.018227063937909495, 0.054681191813728484, 0.06370931508651179, 0.0251874036388535, 0.05630125519273135, 0.06667253904402397, 0.04000352342641438, 0.04592997134143873, 0.010371283851292616, 0.05333803123521917, 0.0014816119787560882, 0.3926271743703634, 0.011852895830048706, 0.18371988536575493, 0.034077075511390026, 0.01629773176631697, 0.03717419054704239, 0.0016897359339564722, 0.008448679669782362, 0.5094553840878764, 0.005914075768847653, 0.17150819729658193, 0.008448679669782362, 0.005914075768847653, 0.14869676218816957, 0.031260114778194736, 0.025346039009347083, 0.009293547636760598, 0.009293547636760598, 0.027035774943303555, 0.12098439472510927, 0.14384758742906692, 0.11241069746112516, 0.08811855521317014, 0.06096851387722042, 0.055252715701231005, 0.0647790459945467, 0.05572903221589679, 0.04429743586391796, 0.05953956433322307, 0.039534270717260116, 0.05001323403990738, 0.03620005511459962, 0.06858957811187297, 0.013120153323963907, 0.833129736071708, 0.006560076661981953, 0.006560076661981953, 0.013120153323963907, 0.03280038330990977, 0.01968022998594586, 0.03936045997189172, 0.006560076661981953, 0.013120153323963907, 0.006560076661981953, 0.006560076661981953, 0.05777537691007175, 0.07703383588009567, 0.019258458970023918, 0.019258458970023918, 0.15406767176019134, 0.038516917940047836, 0.05777537691007175, 0.1155507538201435, 0.44294455631055013, 0.019258458970023918, 0.017547710220231365, 0.07896469599104114, 0.005849236740077122, 0.011698473480154244, 0.002924618370038561, 0.008773855110115683, 0.2544417981933548, 0.0672662225108869, 0.002924618370038561, 0.4708635575762083, 0.046793893920616975, 0.020472328590269925, 0.008773855110115683, 0.026173225225645136, 0.04580314414487899, 0.18321257657951595, 0.13740943243463696, 0.09814959459616926, 0.006543306306411284, 0.006543306306411284, 0.006543306306411284, 0.03271653153205642, 0.013086612612822568, 0.019629918919233852, 0.039259837838467704, 0.37951176577185447, 0.049512111127618115, 0.1444103241222195, 0.07839417595206201, 0.035071078715396165, 0.01650403704253937, 0.4084749168028494, 0.024756055563809058, 0.06601614817015748, 0.022693050933491634, 0.026819060194126478, 0.028882064824443898, 0.026819060194126478, 0.053638120388252955, 0.01856704167285679, 0.004468057675608323, 0.011170144189020808, 0.01787223070243329, 0.22340288378041614, 0.008936115351216646, 0.5741454113156695, 0.0022340288378041614, 0.033510432567062425, 0.04691460559388739, 0.033510432567062425, 0.004468057675608323, 0.008936115351216646, 0.01340417302682497, 0.024574317215845777, 0.012986662598376001, 0.012986662598376001, 0.012986662598376001, 0.012986662598376001, 0.480506516139912, 0.012986662598376001, 0.233759926770768, 0.20778660157401602, 0.012986662598376001, 0.18018169377538198, 0.09255908926817569, 0.19375702686804777, 0.03578951451702793, 0.007404727141454055, 0.011107090712181081, 0.20486411758022885, 0.008638848331696397, 0.022214181424362163, 0.03332127213654325, 0.028384787375573876, 0.018511817853635138, 0.11847563426326488, 0.04566248403896667, 0.006465271971991662, 0.7241104608630662, 0.03232635985995831, 0.02586108788796665, 0.02586108788796665, 0.006465271971991662, 0.08404853563589161, 0.03232635985995831, 0.006465271971991662, 0.012930543943983325, 0.04525690380394164, 0.016030863929075188, 0.048092591787225566, 0.3045864146524286, 0.016030863929075188, 0.048092591787225566, 0.048092591787225566, 0.48092591787225564, 0.032061727858150375, 0.10355454251914918, 0.01479350607416417, 0.02958701214832834, 0.02958701214832834, 0.6213272551148951, 0.10355454251914918, 0.01479350607416417, 0.05917402429665668, 0.01479350607416417, 0.005657162535179058, 0.1188004132387602, 0.028285812675895288, 0.40165853999771306, 0.005657162535179058, 0.16405771352019266, 0.0396001377462534, 0.011314325070358115, 0.011314325070358115, 0.10182892563322303, 0.04525730028143246, 0.005657162535179058, 0.033942975211074346, 0.028285812675895288, 0.6265687027209611, 0.021907996598635005, 0.065723989795905, 0.017526397278908003, 0.017526397278908003, 0.013144797959181002, 0.030671195238089005, 0.004381599319727001, 0.05696079115645101, 0.013144797959181002, 0.013144797959181002, 0.008763198639454002, 0.05696079115645101, 0.06134239047617801, 0.007465686923137458, 0.014931373846274916, 0.6868431969286461, 0.029862747692549832, 0.014931373846274916, 0.20157354692471136, 0.007465686923137458, 0.014931373846274916, 0.00686568252074193, 0.12358228537335474, 0.00686568252074193, 0.10985092033187088, 0.01373136504148386, 0.02059704756222579, 0.5355232366178705, 0.00686568252074193, 0.06179114268667737, 0.03432841260370965, 0.01373136504148386, 0.00686568252074193, 0.06179114268667737, 0.0020256236602827086, 0.053679026997491774, 0.03646122588508875, 0.0070896828109894795, 0.017217801112403022, 0.010128118301413542, 0.1681267638034648, 0.24003640374350094, 0.24408765106406635, 0.010128118301413542, 0.12862710242795197, 0.06279433346876397, 0.01924342477268573, 0.0010128118301413543, 0.020483257092197556, 0.020483257092197556, 0.6349809698581242, 0.04096651418439511, 0.020483257092197556, 0.2662823421985682, 0.020483257092197556, 0.3343234653785298, 0.05236391626410708, 0.030209951690831006, 0.02618195813205354, 0.012083980676332403, 0.03423794524960847, 0.06646189371982822, 0.03625194202899721, 0.030209951690831006, 0.008055987117554935, 0.018125971014498605, 0.02819595491144227, 0.3000855201289213, 0.024167961352664805, 0.009533076270505921, 0.06911480296116793, 0.03336576694677072, 0.009533076270505921, 0.0119163453381324, 0.004766538135252961, 0.24785998303315393, 0.12154672244895048, 0.0834144173669268, 0.009533076270505921, 0.28360901904755115, 0.04051557414965016, 0.07388134109642089, 0.0023832690676264803, 0.05270981319117637, 0.039532359893382274, 0.035139875460784245, 0.026354906595588184, 0.05270981319117637, 0.0571022976237744, 0.6017703672659303, 0.030747391028186216, 0.017569937730392123, 0.030747391028186216, 0.008784968865196061, 0.004392484432598031, 0.030747391028186216, 0.008784968865196061, 0.07695496227472708, 0.03566205568828816, 0.10041684101702192, 0.21678775957880433, 0.07038563622688453, 0.06569326047842555, 0.06475478532873376, 0.05443155868212403, 0.05630850898150762, 0.03753900598767174, 0.07977038772380246, 0.029092729640445604, 0.0891551392207204, 0.022523403592603047, 0.00748755324801794, 0.14850313941902246, 0.09234649005888793, 0.14600728833634982, 0.017470957578708524, 0.012479255413363232, 0.07113175585617043, 0.0536607982774619, 0.04118154286409867, 0.031198138533408082, 0.18594090565911217, 0.0162230320373722, 0.17096579916307628, 0.006239627706681616, 0.022900358654815222, 0.06870107596444566, 0.011450179327407611, 0.011450179327407611, 0.1030516139466685, 0.6068595043526034, 0.03435053798222283, 0.11450179327407611, 0.011450179327407611, 0.02605255053703429, 0.004597508918300169, 0.027585053509801012, 0.4919334542581181, 0.04291008323746824, 0.29730557671674424, 0.006130011891066892, 0.01072752080936706, 0.001532502972766723, 0.012260023782133783, 0.016857532700433952, 0.006130011891066892, 0.04291008323746824, 0.012260023782133783, 0.040410341402931114, 0.04408400880319758, 0.0036736674002664648, 0.0073473348005329295, 0.029389339202131718, 0.011021002200799395, 0.08082068280586223, 0.04408400880319758, 0.6539127972474307, 0.0036736674002664648, 0.058778678404263436, 0.014694669601065859, 0.0073473348005329295, 0.3130479168713089, 0.021202448553036858, 0.057371331378805616, 0.03492167996970776, 0.03866328853789074, 0.04614650567425669, 0.07982098278790346, 0.032427274257585785, 0.12347308275003817, 0.13220350274246512, 0.042404897106073716, 0.021202448553036858, 0.03991049139395173, 0.016213637128792893, 0.021194529379952053, 0.46627964635894514, 0.010597264689976026, 0.021194529379952053, 0.06358358813985616, 0.03179179406992808, 0.010597264689976026, 0.042389058759904105, 0.3073206760093048, 0.021194529379952053, 0.08562878173948268, 0.21407195434870674, 0.10703597717435337, 0.02140719543487067, 0.04281439086974134, 0.02140719543487067, 0.08562878173948268, 0.04281439086974134, 0.10703597717435337, 0.2997007360881894, 0.02859029932804908, 0.0343083591936589, 0.011436119731219632, 0.07433477825292761, 0.005718059865609816, 0.2515946340868319, 0.07433477825292761, 0.005718059865609816, 0.37739195113024787, 0.005718059865609816, 0.011436119731219632, 0.022872239462439263, 0.09720701771536687, 0.1945615353628548, 0.028373557240416323, 0.00810673064011895, 0.4904572037271965, 0.00810673064011895, 0.05269374916077318, 0.05269374916077318, 0.020266826600297376, 0.00810673064011895, 0.0324269225604758, 0.00810673064011895, 0.02432019192035685, 0.06890721044101107, 0.029656391880623953, 0.012486901844473243, 0.0015608627305591554, 0.024973803688946486, 0.03277811734174226, 0.0561910583001296, 0.012486901844473243, 0.38709395717867057, 0.0031217254611183107, 0.10769952840858173, 0.03746070553341973, 0.210716468625486, 0.08428658745019439, 0.0015608627305591554, 0.06034375824755527, 0.40229172165036853, 0.010057293041259213, 0.020114586082518426, 0.010057293041259213, 0.40229172165036853, 0.07040105128881449, 0.010057293041259213, 0.7987128548613278, 0.018361215054283397, 0.009180607527141699, 0.009180607527141699, 0.0459030376357085, 0.009180607527141699, 0.0459030376357085, 0.009180607527141699, 0.0275418225814251, 0.009180607527141699, 0.009180607527141699, 0.049478758671229195, 0.019361253393089684, 0.10971376922750821, 0.21082253694697656, 0.1333775233746178, 0.025815004524119577, 0.010756251885049825, 0.16779752940677725, 0.012907502262059788, 0.006453751131029894, 0.17855378129182709, 0.012907502262059788, 0.03872250678617937, 0.025815004524119577, 0.17249549434621722, 0.02957065617363724, 0.009856885391212412, 0.019713770782424825, 0.02957065617363724, 0.01478532808681862, 0.3203487752144034, 0.05914131234727448, 0.0739266404340931, 0.01478532808681862, 0.10349729660773034, 0.0689981977384869, 0.0689981977384869, 0.004928442695606206, 0.00646557153873809, 0.03232785769369045, 0.00646557153873809, 0.00646557153873809, 0.05172457230990472, 0.788799727726047, 0.07112128692611899, 0.01293114307747618, 0.00646557153873809, 0.00646557153873809, 0.00646557153873809, 0.00646557153873809, 0.003872622865918469, 0.011617868597755406, 0.03098098292734775, 0.003872622865918469, 0.007745245731836938, 0.011617868597755406, 0.06970721158653244, 0.6699637558038951, 0.10068819451388018, 0.03098098292734775, 0.03098098292734775, 0.019363114329592344, 0.007745245731836938, 0.13073938406990818, 0.08868335842504262, 0.09325466556035408, 0.06674108417554754, 0.09691171126860328, 0.05394142419667541, 0.04662733278017704, 0.0905118812791672, 0.07131239131085901, 0.024685058530681966, 0.06582682274848524, 0.02377079710361967, 0.08594057414385572, 0.059426992759049176, 0.07608552744134507, 0.021134868733706968, 0.021134868733706968, 0.35929276847301844, 0.09299342242831066, 0.23671052981751803, 0.004226973746741393, 0.004226973746741393, 0.004226973746741393, 0.004226973746741393, 0.09299342242831066, 0.038042763720672536, 0.03381578997393114, 0.021134868733706968, 0.009356333865025677, 0.0686131150101883, 0.08108822683022254, 0.021831445685059913, 0.043662891370119826, 0.04678166932512839, 0.1216323402453338, 0.3493031309609586, 0.018712667730051355, 0.012475111820034237, 0.15905767570543652, 0.04054411341511127, 0.018712667730051355, 0.0031187779550085593, 0.4114641227150982, 0.15159204521082564, 0.08662402583475752, 0.02165600645868938, 0.12271736993257315, 0.007218668819563127, 0.17324805166951504, 0.014437337639126253, 0.007218668819563127, 0.007218668819563127, 0.03062894104365384, 0.4441196451329807, 0.14548746995735573, 0.1378302346964423, 0.00765723526091346, 0.06891511734822114, 0.01531447052182692, 0.09954405839187498, 0.02297170578274038, 0.00765723526091346, 0.01531447052182692, 0.00765723526091346, 0.009894543427773359, 0.022616099263481963, 0.029683630283320078, 0.10648413403222758, 0.006125193550526365, 0.1116669901134422, 0.11684984619465681, 0.03580882383384645, 0.3401838264215412, 0.09376257819651898, 0.02073142432485847, 0.08339686603408974, 0.01554856824364385, 0.006125193550526365, 0.006350302354748106, 0.002116767451582702, 0.027517976870575125, 0.01340619386002378, 0.002116767451582702, 0.0028223566021102695, 0.8622299419446873, 0.011289426408441078, 0.03951299242954377, 0.016934139612661617, 0.007761480655803241, 0.0014111783010551347, 0.004233534903165404, 0.0028223566021102695, 0.21740204165795246, 0.04969189523610342, 0.012422973809025855, 0.3851121880798015, 0.03105743452256464, 0.21740204165795246, 0.037268921427077564, 0.012422973809025855, 0.006211486904512928, 0.012422973809025855, 0.006211486904512928, 0.001590173451154968, 0.001590173451154968, 0.0397543362788742, 0.004770520353464904, 0.007950867255774841, 0.003180346902309936, 0.003180346902309936, 0.2035422017478359, 0.5613312282577038, 0.13198439644586235, 0.02385260176732452, 0.009541040706929809, 0.001590173451154968, 0.004770520353464904, 0.09108988166082986, 0.2111629074864692, 0.07866853416162578, 0.09937077999363257, 0.08591432020282816, 0.060036512912819674, 0.02587780729000848, 0.03726404249761221, 0.06314184978762069, 0.06831741124562239, 0.03726404249761221, 0.05382583916321764, 0.0527907268716173, 0.035193817914411535, 0.016385181280879953, 0.8847997891675176, 0.049155543842639864, 0.016385181280879953, 0.09088643406800678, 0.005680402129250424, 0.022721608517001696, 0.005680402129250424, 0.017041206387751272, 0.6873286576393013, 0.022721608517001696, 0.005680402129250424, 0.13064924897275976, 0.06988642742128692, 0.0524148205659652, 0.5416198125149737, 0.1048296411319304, 0.03494321371064346, 0.15724446169789558, 0.02113826736504745, 0.3170740104757117, 0.13739873787280843, 0.052845668412618625, 0.010569133682523725, 0.0845530694601898, 0.010569133682523725, 0.010569133682523725, 0.23252094101552195, 0.02113826736504745, 0.052845668412618625, 0.06341480209514234, 0.024751953671287543, 0.008839983454031265, 0.005303990072418759, 0.021215960289675036, 0.06895187094144387, 0.026519950362093796, 0.11138379152079395, 0.3164714076543193, 0.2033196194427191, 0.0300559437437063, 0.033591937125318806, 0.1272957617380502, 0.007071986763225012, 0.015911970217256276, 0.0799552731309044, 0.021451414742437766, 0.3666241792343909, 0.04680308671077331, 0.07215475867910885, 0.11505758816398438, 0.023401543355386654, 0.0331521864201311, 0.021451414742437766, 0.005850385838846664, 0.015601028903591102, 0.0331521864201311, 0.1443095173582177, 0.019501286129488878, 0.005945837280761715, 0.03567502368457029, 0.9275506157988276, 0.005945837280761715, 0.005945837280761715, 0.005945837280761715, 0.005945837280761715, 0.14926053834806108, 0.04664391823376909, 0.4384528313974294, 0.018657567293507635, 0.032650742763638364, 0.027986350940261452, 0.19590445658183017, 0.009328783646753817, 0.009328783646753817, 0.060637093703899816, 0.009328783646753817, 0.12727319631326905, 0.0938185275680669, 0.05600020637783838, 0.12509137009075585, 0.07490936697295264, 0.08509122267801417, 0.08581849808551856, 0.045091075265272465, 0.03490921956021094, 0.046545626080281254, 0.05163655393281202, 0.06545478667539552, 0.05890930800785596, 0.04872745230279444, 0.11126579487574854, 0.18884561515608697, 0.08778769136985665, 0.0806421816071939, 0.08268375582509754, 0.04083148435807286, 0.0428730585759765, 0.06379919430948884, 0.04848738767521152, 0.05103935544759108, 0.05052896189311516, 0.057674471655777916, 0.04185227146702468, 0.05103935544759108, 0.05547336606059754, 0.07396448808079673, 0.21778432601567924, 0.3616041639505617, 0.07190991896744126, 0.047255089607175685, 0.010272845566777322, 0.0636916425140194, 0.0061637073400663935, 0.03287310581368743, 0.01849112202019918, 0.012327414680132787, 0.010272845566777322, 0.014381983793488252, 0.42601851812696634, 0.17040740725078654, 0.03160782553845234, 0.030233572254171805, 0.06321565107690467, 0.0412275985284161, 0.037104838675574486, 0.0412275985284161, 0.03985334524413556, 0.01649103941136644, 0.017865292695646975, 0.02748506568561073, 0.042601851812696635, 0.015116786127085903, 0.06247282480065618, 0.004164854986710412, 0.2415615892292039, 0.07080253477407701, 0.09579166469433947, 0.32485868896341213, 0.008329709973420824, 0.01665941994684165, 0.008329709973420824, 0.012494564960131236, 0.004164854986710412, 0.058307969813945766, 0.07080253477407701, 0.02082427493355206, 0.0034641497484548685, 0.006928299496909737, 0.0034641497484548685, 0.0034641497484548685, 0.0017320748742274343, 0.0762112944660071, 0.0762112944660071, 0.005196224622682303, 0.01558867386804691, 0.6599205270806525, 0.11258486682478323, 0.01212452411959204, 0.005196224622682303, 0.01558867386804691, 0.007548195945126729, 0.0030192783780506917, 0.0030192783780506917, 0.3917513695520773, 0.006038556756101383, 0.16379585200925004, 0.017360850673791478, 0.0052837371615887105, 0.17511814592694014, 0.15020909930802193, 0.006038556756101383, 0.011322293917690095, 0.016606031079278806, 0.043024716887222356, 0.05086683706053864, 0.020346734824215458, 0.33572112459955505, 0.488321635781171, 0.010173367412107729, 0.010173367412107729, 0.040693469648430916, 0.030520102236323187, 0.010173367412107729, 0.009088440346488513, 0.054530642078931074, 0.009088440346488513, 0.4907757787103797, 0.15450348589030471, 0.2181225683157243, 0.009088440346488513, 0.009088440346488513, 0.054530642078931074, 0.034461435609444244, 0.13292268020785636, 0.044307560069285455, 0.017230717804722122, 0.09107665125353122, 0.004923062229920607, 0.022153780034642728, 0.3052298582550776, 0.10092277571337242, 0.029538373379523638, 0.1599995224724197, 0.019692248919682426, 0.009846124459841213, 0.027076842264563333, 0.07883919022463369, 0.022236694678742834, 0.06266704864009344, 0.3133352432004672, 0.046494907055553196, 0.0727746371304311, 0.004043035396135061, 0.0020215176980675304, 0.14352775656279465, 0.1132049910917817, 0.03234428316908049, 0.052559460149755786, 0.04851642475362073, 0.008086070792270122, 0.026880210932530162, 0.013440105466265081, 0.12768100192951826, 0.006720052733132541, 0.02016015819939762, 0.16128126559518097, 0.14112110739578335, 0.07392058006445795, 0.02016015819939762, 0.1142408964632532, 0.006720052733132541, 0.27552216205843416, 0.041980921133750376, 0.889995528035508, 0.008396184226750076, 0.025188552680250227, 0.016792368453500153, 0.008396184226750076, 0.008396184226750076, 0.17421274630281483, 0.014517728858567903, 0.7258864429283951, 0.014517728858567903, 0.029035457717135806, 0.014517728858567903, 0.015377088908025392, 0.007688544454012696, 0.10763962235617774, 0.030754177816050783, 0.5074439339648379, 0.023065633362038086, 0.09226253344815234, 0.10763962235617774, 0.007688544454012696, 0.015377088908025392, 0.05381981117808887, 0.03844272227006348, 0.012571376442083485, 0.016163198282678766, 0.19755020123274047, 0.09338736785547731, 0.007183643681190563, 0.20114202307333576, 0.0395100402465481, 0.22448886503720508, 0.03412230748565517, 0.09159145693517967, 0.007183643681190563, 0.017959109202976407, 0.035918218405952815, 0.01975502012327405, 0.006138548466593331, 0.08252937382864368, 0.16505874765728737, 0.09139616605816737, 0.07025227689545702, 0.04092365644395554, 0.025236254807105916, 0.03819541268102517, 0.06888815501399183, 0.01977976728124518, 0.03273892515516443, 0.012959157873919255, 0.29396826545574734, 0.05183663149567702, 0.013474606205002817, 0.06063572792251268, 0.7950017660951662, 0.06063572792251268, 0.0067373031025014084, 0.0067373031025014084, 0.0067373031025014084, 0.04042381861500845, 0.043182870163292406, 0.17862005385725496, 0.33564867263286374, 0.22376578175524248, 0.017665719612255985, 0.03729429695920708, 0.0628114475102435, 0.013740004142865766, 0.003925715469390219, 0.015702861877560877, 0.027480008285731532, 0.015702861877560877, 0.011777146408170657, 0.009814288673475547, 0.6868069116329173, 0.009122672450532108, 0.005212955686018348, 0.027368017351596326, 0.023458300587082564, 0.011729150293541282, 0.1407498035224954, 0.006516194607522935, 0.03388421195911926, 0.003909716764513761, 0.014335628136550456, 0.014335628136550456, 0.015638867058055044, 0.009122672450532108, 0.017130092968033563, 0.49677269607297325, 0.017130092968033563, 0.15417083671230206, 0.008565046484016781, 0.06852037187213425, 0.02569513945205034, 0.008565046484016781, 0.034260185936067125, 0.017130092968033563, 0.034260185936067125, 0.07708541835615103, 0.02569513945205034, 0.03790307187329279, 0.007580614374658558, 0.022741843123975675, 0.37145010435826936, 0.0530643006226099, 0.015161228749317116, 0.015161228749317116, 0.4472562481048549, 0.015161228749317116, 0.007580614374658558, 0.007580614374658558, 0.6748810381508155, 0.006427438458579195, 0.044992069210054365, 0.1092664537958463, 0.019282315375737585, 0.01285487691715839, 0.006427438458579195, 0.05141950766863356, 0.006427438458579195, 0.01285487691715839, 0.05141950766863356, 0.006427438458579195, 0.34677327060655516, 0.027945098730198584, 0.07748413738827789, 0.0317557940115893, 0.011432085844172149, 0.09907807731615861, 0.015242781125562864, 0.13718503013006578, 0.048268806897615736, 0.027945098730198584, 0.008891622323245004, 0.09145668675337719, 0.019053476406953578, 0.05843066098132431, 0.07324820126545799, 0.01126895404083969, 0.005634477020419845, 0.7155785815933203, 0.005634477020419845, 0.02253790808167938, 0.01126895404083969, 0.09015163232671752, 0.02253790808167938, 0.005634477020419845, 0.005634477020419845, 0.016903431061259536, 0.007622550223197756, 0.009528187778997195, 0.005081700148798504, 0.6053575302256218, 0.014609887927795698, 0.22105395647273493, 0.001905637555799439, 0.018421163039394575, 0.010163400297597007, 0.03874796363458859, 0.006987337704597943, 0.005081700148798504, 0.03811275111598878, 0.017785950520794763, 0.002784686666922476, 0.025062180002302283, 0.002784686666922476, 0.016708120001534855, 0.648831993392937, 0.08632528667459675, 0.03341624000306971, 0.02784686666922476, 0.025062180002302283, 0.002784686666922476, 0.03620092666999219, 0.047339673337682096, 0.02784686666922476, 0.019492806668457333, 0.7052258777406589, 0.011624602380340533, 0.04262354206124862, 0.011624602380340533, 0.12787062618374587, 0.003874867460113511, 0.007749734920227022, 0.011624602380340533, 0.011624602380340533, 0.003874867460113511, 0.023249204760681066, 0.015499469840454043, 0.019374337300567555, 0.003874867460113511, 0.01878536519533293, 0.01878536519533293, 0.009392682597666464, 0.01878536519533293, 0.028178047792999393, 0.028178047792999393, 0.15028292156266343, 0.009392682597666464, 0.21603169974632866, 0.028178047792999393, 0.03757073039066586, 0.4320633994926573, 0.013201642737021733, 0.21122628379234773, 0.05544689949549128, 0.03432427111625651, 0.17162135558128253, 0.01584197128442608, 0.16106004139166516, 0.0026403285474043466, 0.005280657094808693, 0.02376295692663912, 0.2429102263611999, 0.029043614021447815, 0.026403285474043466, 0.010561314189617386, 0.10780531300772983, 0.02681168406409861, 0.005585767513353878, 0.04915475411751412, 0.017874456042732408, 0.015640149037390857, 0.015640149037390857, 0.003910037259347714, 0.015640149037390857, 0.6345431895170005, 0.02457737705875706, 0.006144344264689265, 0.07484928467894196, 0.002234307005341551, 0.17304756494763962, 0.061075611157990456, 0.1425097593686444, 0.030537805578995228, 0.040717074105326975, 0.010179268526331744, 0.47842562073759193, 0.020358537052663488, 0.010179268526331744, 0.030537805578995228, 0.06235334946828215, 0.027208734313432213, 0.021540247998133834, 0.006802183578358053, 0.5022278875354362, 0.16211870861753358, 0.009069578104477404, 0.04874898231156605, 0.002267394526119351, 0.004534789052238702, 0.04308049599626767, 0.02494133978731286, 0.028342431576491887, 0.056684863152983773, 0.39411828944185595, 0.0071657870807610175, 0.408449863603378, 0.014331574161522035, 0.014331574161522035, 0.0071657870807610175, 0.10748680621141526, 0.014331574161522035, 0.0071657870807610175, 0.02866314832304407, 0.12185560097559318, 0.09424300173974448, 0.08163724991468312, 0.06182821133244383, 0.10444765797907987, 0.07563451095036819, 0.05642574626456039, 0.0642293069181698, 0.045020542232362015, 0.0660301286074643, 0.06182821133244383, 0.03541615988945812, 0.05102328119667695, 0.07983642822538864, 0.008599721894674861, 0.008599721894674861, 0.27519110062959556, 0.007644197239710987, 0.004777623274819368, 0.005733147929783241, 0.004777623274819368, 0.48445100006668385, 0.1442842228995449, 0.014332869824458102, 0.03057678895884395, 0.0019110493099277468, 0.0038220986198554937, 0.007644197239710987, 0.0242224556411334, 0.0080741518803778, 0.0484449112822668, 0.0322966075215112, 0.0161483037607556, 0.0080741518803778, 0.0968898225645336, 0.0322966075215112, 0.0322966075215112, 0.0080741518803778, 0.080741518803778, 0.6136355429087128, 0.09156753896422933, 0.05519725479619431, 0.17586102109485163, 0.07017325415950285, 0.0740242254243536, 0.05990399745323414, 0.0188269706281593, 0.06118765454151772, 0.08044251086577155, 0.11552913794552297, 0.04364434100164201, 0.05562514049228884, 0.014548113667214004, 0.08343771073843326, 0.019887940106312677, 0.009943970053156339, 0.009943970053156339, 0.009943970053156339, 0.8551814245714452, 0.019887940106312677, 0.0497198502657817, 0.019887940106312677, 0.09841198440500995, 0.16401997400834992, 0.03280399480166998, 0.01640199740083499, 0.03280399480166998, 0.3608439428183698, 0.01640199740083499, 0.26243195841335987, 0.028057880356535576, 0.028057880356535576, 0.15431834196094568, 0.014028940178267788, 0.6313023080220505, 0.042086820534803365, 0.042086820534803365, 0.028057880356535576, 0.00930450533968499, 0.004652252669842495, 0.01860901067936998, 0.004652252669842495, 0.06513153737779494, 0.3070486762096047, 0.441964003635037, 0.041870274028582455, 0.03721802135873996, 0.02791351601905497, 0.02791351601905497, 0.013956758009527484, 0.48091230011732106, 0.00862622959851697, 0.03666147579369712, 0.028035246195180153, 0.030191803594809392, 0.05391393499073106, 0.047444262791843335, 0.028035246195180153, 0.021565573996292425, 0.14017623097590076, 0.015095901797404696, 0.02587868879555091, 0.03450491839406788, 0.04960082019147258, 0.08745948008438281, 0.012494211440626115, 0.006247105720313058, 0.018741317160939172, 0.018741317160939172, 0.7371584749969408, 0.006247105720313058, 0.012494211440626115, 0.006247105720313058, 0.018741317160939172, 0.07496526864375669, 0.03793519470955369, 0.15174077883821477, 0.13277318148343792, 0.4552223365146443, 0.056902792064330535, 0.13277318148343792, 0.0022389612161998885, 0.004477922432399777, 0.004477922432399777, 0.5373506918879732, 0.006716883648599666, 0.07388572013459632, 0.15224936270159242, 0.20598443189038976, 0.0022389612161998885, 0.0022389612161998885, 0.008955844864799554, 0.1208814660139171, 0.09670517281113368, 0.19341034562226736, 0.09670517281113368, 0.07252887960835026, 0.02417629320278342, 0.04835258640556684, 0.1208814660139171, 0.2417629320278342, 0.03782560405630893, 0.40095140299687465, 0.19669314109280644, 0.09834657054640322, 0.01134768121689268, 0.03566414096737699, 0.01621097316698954, 0.015670607394756557, 0.03512377519514401, 0.01621097316698954, 0.027018288611649236, 0.046471456412036684, 0.04376962755087176, 0.018912802028154464, 0.028095039453432957, 0.11238015781373183, 0.014047519726716478, 0.04214255918014943, 0.7585660652426899, 0.028095039453432957, 0.09024263637450959, 0.0564016477340685, 0.011280329546813699, 0.7219410909960767, 0.0676819772808822, 0.045121318187254796, 0.11574398316973766, 0.01653485473853395, 0.08267427369266976, 0.23148796633947533, 0.01653485473853395, 0.04960456421560186, 0.19841825686240744, 0.0330697094770679, 0.2645576758165432, 0.09439444409202204, 0.02318460030330366, 0.0033120857576148083, 0.09936257272844425, 0.008280214394037021, 0.004968128636422212, 0.014904385909266639, 0.0016560428788074042, 0.004968128636422212, 0.7005061377355319, 0.009936257272844425, 0.0033120857576148083, 0.03146481469734068, 0.0016560428788074042, 0.021778989990292985, 0.010889494995146493, 0.8058226296408405, 0.010889494995146493, 0.010889494995146493, 0.010889494995146493, 0.05444747497573246, 0.05444747497573246, 0.005229167906714495, 0.005229167906714495, 0.007843751860071742, 0.08366668650743192, 0.013072919766786237, 0.0496770951137877, 0.5569063820650937, 0.10719794208764714, 0.005229167906714495, 0.07059376674064569, 0.023531255580215227, 0.07059376674064569, 0.005229167906714495, 0.1136527542303087, 0.13259487993536015, 0.11075881835870362, 0.0931321180498363, 0.044724463470260364, 0.060772653303706736, 0.07445307742402167, 0.07340073710707437, 0.03183329458765591, 0.09129052249517851, 0.033937975221550516, 0.028676273636814, 0.04788148442110227, 0.06314041901683817, 0.03287013959004839, 0.03590430632143747, 0.018710694843566005, 0.05461500116500348, 0.14867416983806503, 0.060683334627781645, 0.018710694843566005, 0.33881528500511415, 0.09709333540445063, 0.028318889492964766, 0.0920363908521355, 0.0480409732469938, 0.00809111128370422, 0.017193611477871466, 0.023887478889615326, 0.011943739444807663, 0.011943739444807663, 0.023887478889615326, 0.7046806272436522, 0.011943739444807663, 0.035831218334422994, 0.1672123522273073, 0.023887478889615326, 0.011943739444807663, 0.00867186481198358, 0.19078102586363876, 0.01734372962396716, 0.00867186481198358, 0.03468745924793432, 0.01734372962396716, 0.15609356661570445, 0.5463274831549656, 0.00867186481198358, 0.00867186481198358, 0.01734372962396716, 0.011684560490099232, 0.2599814709047079, 0.005842280245049616, 0.005842280245049616, 0.005842280245049616, 0.023369120980198464, 0.014605700612624041, 0.014605700612624041, 0.005842280245049616, 0.005842280245049616, 0.5813068843824368, 0.005842280245049616, 0.002921140122524808, 0.05550166232797135, 0.018147744709709736, 0.15989634528014524, 0.29281631328910035, 0.16038682486689415, 0.030900213965181444, 0.006866714214484765, 0.007357193801233677, 0.012752469255471707, 0.023543020163947766, 0.04021932611341077, 0.09809591734978236, 0.0063762346277358535, 0.10643407032451387, 0.03580500983267056, 0.043398450003366944, 0.035850893481042256, 0.5547454043908644, 0.04905911739511046, 0.005660667391743515, 0.0018868891305811716, 0.013208223914068201, 0.02452955869755523, 0.02264266956697406, 0.03773778261162343, 0.06038045217859749, 0.11698712609603264, 0.02264266956697406, 0.009434445652905857, 0.06558802713422016, 0.2810915448609435, 0.046848590810157256, 0.08432746345828306, 0.037478872648125806, 0.028109154486094353, 0.009369718162031452, 0.30920069934703787, 0.1311760542684403, 0.012172649167841035, 0.008115099445227357, 0.7587617981287579, 0.0933236436201146, 0.012172649167841035, 0.004057549722613679, 0.016230198890454715, 0.012172649167841035, 0.004057549722613679, 0.004057549722613679, 0.06897834528443253, 0.06377657995320647, 0.03826594797192388, 0.03826594797192388, 0.02551063198128259, 0.06377657995320647, 0.012755315990641294, 0.2040850558502607, 0.10204252792513036, 0.3188828997660324, 0.012755315990641294, 0.10204252792513036, 0.02551063198128259, 0.3804618527135213, 0.0664884791149843, 0.0430943846115639, 0.020931558239902465, 0.03570677582101009, 0.04801945713859977, 0.1132766681218251, 0.018469021976384527, 0.03816931208452803, 0.03324423955749215, 0.013543949449348655, 0.07387608790553811, 0.09111384175016367, 0.023394094503420403, 0.05862232417067937, 0.005329302197334488, 0.15454976372270016, 0.015987906592003467, 0.005329302197334488, 0.021317208789337953, 0.6341869614828042, 0.005329302197334488, 0.005329302197334488, 0.010658604394668977, 0.015987906592003467, 0.06395162636801387, 0.013570955618523367, 0.08821121152040189, 0.009047303745682245, 0.021110375406591903, 0.25332450487910285, 0.01206307166090966, 0.36792368565774464, 0.030157679152274148, 0.02186431738539876, 0.05579170643170717, 0.06182324226216201, 0.007539419788068537, 0.045236518728411224, 0.01206307166090966, 0.005387450699895905, 0.6357191825877168, 0.20472312659604439, 0.005387450699895905, 0.06464940839875086, 0.05926195769885496, 0.01077490139979181, 0.01077490139979181, 0.005387450699895905, 0.005387450699895905, 0.6368343776036948, 0.04108608887765773, 0.020543044438828865, 0.020543044438828865, 0.020543044438828865, 0.18488739994945977, 0.020543044438828865, 0.04108608887765773, 0.020543044438828865, 0.819461558893951, 0.012230769535730613, 0.012230769535730613, 0.024461539071461227, 0.024461539071461227, 0.03669230860719184, 0.012230769535730613, 0.024461539071461227, 0.024461539071461227, 0.753413452310127, 0.03139222717958862, 0.010464075726529541, 0.020928151453059082, 0.03139222717958862, 0.13603298444488404, 0.010464075726529541, 0.010464075726529541, 0.08241251500821181, 0.13791482103415037, 0.09610788922240444, 0.1122059606671572, 0.10571867814464489, 0.07039902885541126, 0.048294214334258234, 0.09418573143795636, 0.03219614288950549, 0.07184064719374733, 0.04444989876536206, 0.034839109843121614, 0.03964450430424184, 0.02979344565894538, 0.0035580232826680084, 0.032022209544012074, 0.007116046565336017, 0.0035580232826680084, 0.9286440767763502, 0.014232093130672033, 0.0035580232826680084, 0.0035580232826680084, 0.0035580232826680084, 0.0035580232826680084, 0.023907195719137315, 0.0028688634862964776, 0.013388029602716895, 0.00765030263012394, 0.04972696709580561, 0.016256893089013374, 0.5862044390332469, 0.04972696709580561, 0.10710423682173516, 0.04590181578074364, 0.04590181578074364, 0.033470074006792236, 0.00765030263012394, 0.010519166116420418, 0.012556358927275005, 0.02511271785455001, 0.5399234338728252, 0.2887962553273251, 0.07533815356365003, 0.03766907678182502, 0.012556358927275005, 0.018757132896876107, 0.05627139869062832, 0.7971781481172345, 0.009378566448438054, 0.018757132896876107, 0.009378566448438054, 0.06564996513906637, 0.018757132896876107, 0.0378847976349752, 0.006314132939162533, 0.006314132939162533, 0.0189423988174876, 0.044198930574137735, 0.012628265878325067, 0.08208372820911294, 0.49881650219384016, 0.0852407946786942, 0.022099465287068867, 0.022099465287068867, 0.10102612702660053, 0.012628265878325067, 0.05051306351330027, 0.08066375114361578, 0.013443958523935965, 0.013443958523935965, 0.013443958523935965, 0.16132750228723156, 0.013443958523935965, 0.06721979261967982, 0.02688791704787193, 0.04033187557180789, 0.05377583409574386, 0.013443958523935965, 0.4974264653856307, 0.015319765468845375, 0.03063953093769075, 0.007659882734422687, 0.7736481561766915, 0.015319765468845375, 0.007659882734422687, 0.007659882734422687, 0.1302180064851857, 0.6400813993549062, 0.023173201346508344, 0.01127344930370676, 0.00438411917366374, 0.08016675060413697, 0.009394541086422301, 0.02066799039012906, 0.033820347911120284, 0.059498760214007906, 0.016910173955560142, 0.037578164345689204, 0.028809925998361723, 0.0156575684773705, 0.018789082172844602, 0.146635046775358, 0.061097936156399156, 0.006109793615639916, 0.012219587231279833, 0.042768555309479414, 0.024439174462559665, 0.006109793615639916, 0.030548968078199578, 0.006109793615639916, 0.006109793615639916, 0.6476381232578311, 0.13871119929457182, 0.08969990887715645, 0.08230197824811261, 0.05779633303940493, 0.10634525279250506, 0.038839135802480114, 0.08415146090537358, 0.02404327454439245, 0.05086077307467633, 0.054559738389198253, 0.09108702087010216, 0.10403339947092886, 0.04762417842446966, 0.03005409318049056, 0.012797972284327155, 0.012797972284327155, 0.02559594456865431, 0.8446661707655923, 0.07678783370596294, 0.012797972284327155, 0.17180419700173608, 0.1908935522241512, 0.0017353959293104652, 0.0034707918586209304, 0.10065296390000698, 0.006941583717241861, 0.013883167434483722, 0.0034707918586209304, 0.0017353959293104652, 0.0017353959293104652, 0.013883167434483722, 0.012147771505173257, 0.006941583717241861, 0.4685569009138256, 0.011098323060761667, 0.011098323060761667, 0.9433574601647416, 0.011098323060761667, 0.8367772004498806, 0.0339234000182384, 0.011307800006079468, 0.011307800006079468, 0.04523120002431787, 0.011307800006079468, 0.022615600012158937, 0.914962723723254, 0.014999388913495969, 0.014999388913495969, 0.014999388913495969, 0.014999388913495969, 0.014999388913495969, 0.12467681027302638, 0.4288882273392107, 0.014961217232763165, 0.10971559304026321, 0.009974144821842109, 0.0049870724109210545, 0.0049870724109210545, 0.0049870724109210545, 0.009974144821842109, 0.039896579287368436, 0.23937947572421064, 0.9103089580466412, 0.03175496365278981, 0.01058498788426327, 0.015877481826394906, 0.005292493942131635, 0.005292493942131635, 0.005292493942131635, 0.005292493942131635, 0.005292493942131635, 0.7658487664695295, 0.019637147858193066, 0.019637147858193066, 0.019637147858193066, 0.05891144357457919, 0.019637147858193066, 0.05891144357457919, 0.19291339875228156, 0.02679352760448355, 0.0535870552089671, 0.11789152145972763, 0.01071741104179342, 0.016076116562690132, 0.016076116562690132, 0.02143482208358684, 0.016076116562690132, 0.11789152145972763, 0.016076116562690132, 0.13396763802241776, 0.01071741104179342, 0.24650045396124867, 0.22981362146167642, 0.011490681073083821, 0.045962724292335284, 0.011490681073083821, 0.03447204321925146, 0.14937885395008965, 0.022981362146167642, 0.011490681073083821, 0.045962724292335284, 0.08043476751158674, 0.3102483889732631, 0.022981362146167642, 0.011490681073083821], \"Term\": [\"%\", \"%\", \"%\", \"%\", \"%\", \"%\", \"%\", \"%\", \"%\", \"%\", \"%\", \"%\", \"%\", \"%\", \"*\", \"*\", \"*\", \"*\", \"*\", \"*\", \"*\", \"*\", \"*\", \"*\", \"*\", \"*\", \"*\", \"*\", \".net\", \".net\", \".net\", \".net\", \".net\", \".net\", \".net\", \".net\", \".net\", \".net\", \".net\", \".net\", \".net\", \".net\", \"<\", \"<\", \"<\", \"<\", \"<\", \"<\", \"<\", \"<\", \"<\", \"<\", \"<\", \"<\", \"=\", \"=\", \"=\", \"=\", \"=\", \"=\", \"=\", \"=\", \"=\", \"=\", \"=\", \"=\", \"=\", \"=\", \">\", \">\", \">\", \">\", \">\", \">\", \">\", \">\", \">\", \">\", \">\", \">\", \">\", \">\", \"@\", \"@\", \"@\", \"@\", \"@\", \"@\", \"@\", \"@\", \"@\", \"@\", \"@\", \"@\", \"@\", \"@\", \"[\", \"[\", \"[\", \"[\", \"[\", \"[\", \"[\", \"[\", \"[\", \"[\", \"[\", \"[\", \"[\", \"]\", \"]\", \"]\", \"]\", \"]\", \"]\", \"]\", \"]\", \"]\", \"]\", \"]\", \"]\", \"]\", \"]\", \"access\", \"access\", \"access\", \"access\", \"access\", \"access\", \"access\", \"access\", \"access\", \"access\", \"access\", \"access\", \"access\", \"access\", \"account\", \"account\", \"account\", \"account\", \"account\", \"account\", \"account\", \"account\", \"account\", \"account\", \"account\", \"account\", \"action\", \"action\", \"action\", \"action\", \"action\", \"action\", \"action\", \"action\", \"action\", \"action\", \"action\", \"action\", \"action\", \"action\", \"activity\", \"activity\", \"activity\", \"activity\", \"activity\", \"activity\", \"activity\", \"activity\", \"activity\", \"address\", \"address\", \"address\", \"address\", \"address\", \"address\", \"address\", \"address\", \"address\", \"address\", \"address\", \"address\", \"ado.net\", \"ado.net\", \"ado.net\", \"ado.net\", \"ado.net\", \"ado.net\", \"ado.net\", \"ado.net\", \"ajax\", \"ajax\", \"ajax\", \"ajax\", \"ajax\", \"ajax\", \"ajax\", \"ajax\", \"ajax\", \"ajax\", \"ajax\", \"ajax\", \"ajax\", \"algorithm\", \"algorithm\", \"algorithm\", \"algorithm\", \"algorithm\", \"algorithm\", \"algorithm\", \"algorithm\", \"algorithm\", \"algorithm\", \"algorithm\", \"algorithm\", \"algorithm\", \"and/or\", \"and/or\", \"and/or\", \"and/or\", \"and/or\", \"and/or\", \"and/or\", \"and/or\", \"and/or\", \"and/or\", \"and/or\", \"and/or\", \"animation\", \"animation\", \"animation\", \"animation\", \"animation\", \"animation\", \"animation\", \"animation\", \"animation\", \"annotation\", \"annotation\", \"annotation\", \"annotation\", \"annotation\", \"annotation\", \"annotation\", \"annotation\", \"annotation\", \"annotation\", \"annotation\", \"annotation\", \"apache\", \"apache\", \"apache\", \"apache\", \"apache\", \"apache\", \"apache\", \"apache\", \"apache\", \"apis\", \"apis\", \"apis\", \"apis\", \"apis\", \"apis\", \"apis\", \"apis\", \"apis\", \"apis\", \"apis\", \"app\", \"app\", \"app\", \"app\", \"app\", \"app\", \"app\", \"app\", \"app\", \"app\", \"app\", \"app\", \"app\", \"app\", \"application\", \"application\", \"application\", \"application\", \"application\", \"application\", \"application\", \"application\", \"application\", \"application\", \"application\", \"application\", \"application\", \"application\", \"architecture\", \"architecture\", \"architecture\", \"architecture\", \"architecture\", \"architecture\", \"architecture\", \"architecture\", \"architecture\", \"architecture\", \"architecture\", \"architecture\", \"argument\", \"argument\", \"argument\", \"argument\", \"argument\", \"argument\", \"argument\", \"argument\", \"argument\", \"argument\", \"argument\", \"argument\", \"argument\", \"argument\", \"array\", \"array\", \"array\", \"array\", \"array\", \"array\", \"array\", \"array\", \"array\", \"array\", \"array\", \"array\", \"array\", \"array\", \"asp.net\", \"asp.net\", \"asp.net\", \"asp.net\", \"asp.net\", \"asp.net\", \"asp.net\", \"asp.net\", \"asp.net\", \"asp.net\", \"asp.net\", \"asp.net\", \"asp.net\", \"asp.net\", \"assembly\", \"assembly\", \"assembly\", \"assembly\", \"assembly\", \"assembly\", \"assembly\", \"assembly\", \"assembly\", \"assembly\", \"assembly\", \"assembly\", \"attribute\", \"attribute\", \"attribute\", \"attribute\", \"attribute\", \"attribute\", \"attribute\", \"attribute\", \"attribute\", \"attribute\", \"attribute\", \"attribute\", \"attribute\", \"attribute\", \"authentication\", \"authentication\", \"authentication\", \"authentication\", \"authentication\", \"authentication\", \"authentication\", \"authentication\", \"authentication\", \"authentication\", \"authentication\", \"authentication\", \"auto\", \"auto\", \"auto\", \"auto\", \"auto\", \"auto\", \"auto\", \"auto\", \"auto\", \"auto\", \"auto\", \"backend\", \"backend\", \"backend\", \"backend\", \"backend\", \"backend\", \"backend\", \"backend\", \"backend\", \"backend\", \"backend\", \"backend\", \"bar\", \"bar\", \"bar\", \"bar\", \"bar\", \"bar\", \"bar\", \"bar\", \"bar\", \"bar\", \"bar\", \"bar\", \"bar\", \"base\", \"base\", \"base\", \"base\", \"base\", \"base\", \"base\", \"base\", \"base\", \"base\", \"base\", \"base\", \"base\", \"bash\", \"bash\", \"bash\", \"bash\", \"bash\", \"batch\", \"batch\", \"batch\", \"batch\", \"batch\", \"batch\", \"batch\", \"batch\", \"bean\", \"bean\", \"bean\", \"bean\", \"bean\", \"bean\", \"bean\", \"bean\", \"bind\", \"bind\", \"bind\", \"bind\", \"bind\", \"bind\", \"bind\", \"bind\", \"bind\", \"bind\", \"bind\", \"bind\", \"binding\", \"binding\", \"binding\", \"binding\", \"binding\", \"binding\", \"binding\", \"binding\", \"binding\", \"binding\", \"binding\", \"binding\", \"binding\", \"binding\", \"body\", \"body\", \"body\", \"body\", \"body\", \"body\", \"body\", \"body\", \"body\", \"body\", \"body\", \"body\", \"body\", \"bonus\", \"bonus\", \"bonus\", \"bonus\", \"bonus\", \"bonus\", \"bonus\", \"bonus\", \"bonus\", \"boost\", \"boost\", \"boost\", \"boost\", \"boost\", \"boost\", \"boost\", \"boost\", \"boost\", \"boost\", \"border\", \"border\", \"border\", \"border\", \"border\", \"border\", \"bottom\", \"bottom\", \"bottom\", \"bottom\", \"bottom\", \"bottom\", \"bottom\", \"bottom\", \"bottom\", \"bottom\", \"bottom\", \"bottom\", \"bound\", \"bound\", \"bound\", \"bound\", \"bound\", \"bound\", \"bound\", \"bound\", \"bound\", \"bound\", \"bound\", \"bound\", \"bound\", \"box\", \"box\", \"box\", \"box\", \"box\", \"box\", \"box\", \"box\", \"box\", \"box\", \"box\", \"box\", \"box\", \"box\", \"breakpoint\", \"breakpoint\", \"breakpoint\", \"breakpoint\", \"breakpoint\", \"breakpoint\", \"breakpoint\", \"breakpoint\", \"breakpoint\", \"breakpoint\", \"browser\", \"browser\", \"browser\", \"browser\", \"browser\", \"browser\", \"browser\", \"browser\", \"browser\", \"browser\", \"browser\", \"browser\", \"browser\", \"browser\", \"buffer\", \"buffer\", \"buffer\", \"buffer\", \"buffer\", \"buffer\", \"buffer\", \"buffer\", \"buffer\", \"buffer\", \"buffer\", \"build\", \"build\", \"build\", \"build\", \"build\", \"build\", \"build\", \"build\", \"build\", \"build\", \"build\", \"build\", \"build\", \"build\", \"business\", \"business\", \"business\", \"business\", \"business\", \"business\", \"business\", \"business\", \"business\", \"business\", \"business\", \"business\", \"business\", \"button\", \"button\", \"button\", \"button\", \"button\", \"button\", \"button\", \"button\", \"button\", \"button\", \"button\", \"button\", \"button\", \"button\", \"byte\", \"byte\", \"byte\", \"byte\", \"byte\", \"byte\", \"byte\", \"byte\", \"byte\", \"byte\", \"byte\", \"byte\", \"byte\", \"c\", \"c\", \"c\", \"c\", \"c\", \"c\", \"c\", \"c\", \"c\", \"c\", \"c\", \"c\", \"c\", \"c\", \"c++\", \"c++\", \"c++\", \"c++\", \"c++\", \"c++\", \"c++\", \"c++\", \"c++\", \"c++\", \"c++\", \"c++\", \"c++\", \"c++\", \"c/c++\", \"c/c++\", \"c/c++\", \"c/c++\", \"c/c++\", \"c/c++\", \"c/c++\", \"c/c++\", \"c/c++\", \"c/c++\", \"c/c++\", \"cache\", \"cache\", \"cache\", \"cache\", \"cache\", \"cache\", \"cache\", \"cache\", \"cache\", \"cache\", \"cache\", \"cache\", \"cache\", \"cache\", \"caching\", \"caching\", \"caching\", \"caching\", \"caching\", \"caching\", \"caching\", \"caching\", \"caching\", \"calculation\", \"calculation\", \"calculation\", \"calculation\", \"calculation\", \"calculation\", \"calculation\", \"calculation\", \"calculation\", \"calculation\", \"calculation\", \"calculation\", \"call\", \"call\", \"call\", \"call\", \"call\", \"call\", \"call\", \"call\", \"call\", \"call\", \"call\", \"call\", \"call\", \"call\", \"callback\", \"callback\", \"callback\", \"callback\", \"callback\", \"callback\", \"callback\", \"callback\", \"callback\", \"case\", \"case\", \"case\", \"case\", \"case\", \"case\", \"case\", \"case\", \"case\", \"case\", \"case\", \"case\", \"case\", \"case\", \"cast\", \"cast\", \"cast\", \"cast\", \"cast\", \"cast\", \"cast\", \"cast\", \"catch\", \"catch\", \"catch\", \"catch\", \"catch\", \"catch\", \"catch\", \"catch\", \"catch\", \"category\", \"category\", \"category\", \"category\", \"category\", \"category\", \"category\", \"cell\", \"cell\", \"cell\", \"cell\", \"cell\", \"cell\", \"cell\", \"cell\", \"cell\", \"cell\", \"cell\", \"center\", \"center\", \"center\", \"center\", \"center\", \"center\", \"certificate\", \"certificate\", \"certificate\", \"certificate\", \"certificate\", \"certificate\", \"chance\", \"chance\", \"chance\", \"chance\", \"chance\", \"chance\", \"chance\", \"chance\", \"chance\", \"chance\", \"change\", \"change\", \"change\", \"change\", \"change\", \"change\", \"change\", \"change\", \"change\", \"change\", \"change\", \"change\", \"change\", \"change\", \"char\", \"char\", \"char\", \"char\", \"char\", \"char\", \"char\", \"char\", \"char\", \"char\", \"char\", \"character\", \"character\", \"character\", \"character\", \"character\", \"character\", \"character\", \"character\", \"character\", \"character\", \"character\", \"character\", \"character\", \"character\", \"child\", \"child\", \"child\", \"child\", \"child\", \"child\", \"child\", \"child\", \"child\", \"child\", \"child\", \"child\", \"chrome\", \"chrome\", \"chrome\", \"chrome\", \"chrome\", \"chrome\", \"chrome\", \"chrome\", \"chrome\", \"chrome\", \"class\", \"class\", \"class\", \"class\", \"class\", \"class\", \"class\", \"class\", \"class\", \"class\", \"class\", \"class\", \"class\", \"class\", \"clause\", \"clause\", \"clause\", \"clause\", \"clause\", \"clause\", \"clause\", \"clause\", \"clause\", \"clause\", \"click\", \"click\", \"click\", \"click\", \"click\", \"click\", \"click\", \"click\", \"click\", \"click\", \"click\", \"click\", \"click\", \"client\", \"client\", \"client\", \"client\", \"client\", \"client\", \"client\", \"client\", \"client\", \"client\", \"client\", \"client\", \"client\", \"client\", \"close\", \"close\", \"close\", \"close\", \"close\", \"close\", \"close\", \"close\", \"close\", \"close\", \"close\", \"close\", \"code\", \"code\", \"code\", \"code\", \"code\", \"code\", \"code\", \"code\", \"code\", \"code\", \"code\", \"code\", \"code\", \"code\", \"collection\", \"collection\", \"collection\", \"collection\", \"collection\", \"collection\", \"collection\", \"collection\", \"collection\", \"collection\", \"collection\", \"collection\", \"collection\", \"collection\", \"color\", \"color\", \"color\", \"color\", \"color\", \"color\", \"color\", \"color\", \"color\", \"color\", \"color\", \"color\", \"column\", \"column\", \"column\", \"column\", \"column\", \"column\", \"column\", \"column\", \"column\", \"column\", \"column\", \"column\", \"column\", \"column\", \"com\", \"com\", \"com\", \"com\", \"com\", \"com\", \"com\", \"com\", \"com\", \"com\", \"com\", \"command\", \"command\", \"command\", \"command\", \"command\", \"command\", \"command\", \"command\", \"command\", \"command\", \"command\", \"command\", \"command\", \"command\", \"communicate\", \"communicate\", \"communicate\", \"communicate\", \"communicate\", \"communicate\", \"communicate\", \"compare\", \"compare\", \"compare\", \"compare\", \"compare\", \"compare\", \"compare\", \"compare\", \"compare\", \"compare\", \"compare\", \"compare\", \"compare\", \"compare\", \"compilation\", \"compilation\", \"compilation\", \"compilation\", \"compilation\", \"compilation\", \"compilation\", \"compile\", \"compile\", \"compile\", \"compile\", \"compile\", \"compile\", \"compile\", \"compile\", \"compile\", \"compile\", \"compile\", \"compile\", \"compile\", \"compiler\", \"compiler\", \"compiler\", \"compiler\", \"compiler\", \"compiler\", \"compiler\", \"compiler\", \"compiler\", \"compiler\", \"compiler\", \"compiler\", \"compiler\", \"compiles\", \"compiles\", \"compiles\", \"compiles\", \"compiles\", \"compiles\", \"complexity\", \"complexity\", \"complexity\", \"complexity\", \"complexity\", \"complexity\", \"complexity\", \"complexity\", \"complexity\", \"complexity\", \"complexity\", \"component\", \"component\", \"component\", \"component\", \"component\", \"component\", \"component\", \"component\", \"component\", \"component\", \"component\", \"component\", \"component\", \"component\", \"con\", \"con\", \"con\", \"con\", \"con\", \"con\", \"con\", \"con\", \"con\", \"con\", \"con\", \"config\", \"config\", \"config\", \"config\", \"config\", \"config\", \"config\", \"config\", \"config\", \"config\", \"config\", \"config\", \"config\", \"configuration\", \"configuration\", \"configuration\", \"configuration\", \"configuration\", \"configuration\", \"configuration\", \"configuration\", \"configuration\", \"configuration\", \"configuration\", \"configuration\", \"configuration\", \"configuration\", \"connect\", \"connect\", \"connect\", \"connect\", \"connect\", \"connect\", \"connect\", \"connect\", \"connect\", \"connect\", \"connect\", \"connect\", \"connect\", \"connect\", \"connection\", \"connection\", \"connection\", \"connection\", \"connection\", \"connection\", \"connection\", \"connection\", \"connection\", \"connection\", \"connection\", \"connection\", \"connection\", \"connection\", \"constraint\", \"constraint\", \"constraint\", \"constraint\", \"constraint\", \"constraint\", \"constraint\", \"constraint\", \"constraint\", \"constraint\", \"constraint\", \"constructor\", \"constructor\", \"constructor\", \"constructor\", \"constructor\", \"constructor\", \"constructor\", \"constructor\", \"constructor\", \"constructor\", \"constructor\", \"constructor\", \"constructor\", \"consume\", \"consume\", \"consume\", \"consume\", \"consume\", \"consume\", \"consume\", \"consume\", \"consume\", \"context\", \"context\", \"context\", \"context\", \"context\", \"context\", \"context\", \"context\", \"context\", \"context\", \"context\", \"context\", \"context\", \"context\", \"contract\", \"contract\", \"contract\", \"contract\", \"contract\", \"contract\", \"control\", \"control\", \"control\", \"control\", \"control\", \"control\", \"control\", \"control\", \"control\", \"control\", \"control\", \"control\", \"control\", \"control\", \"controller\", \"controller\", \"controller\", \"controller\", \"controller\", \"controller\", \"controller\", \"controller\", \"controller\", \"controller\", \"controller\", \"controller\", \"controller\", \"controller\", \"convention\", \"convention\", \"convention\", \"convention\", \"convention\", \"convention\", \"convention\", \"convention\", \"convention\", \"convention\", \"convert\", \"convert\", \"convert\", \"convert\", \"convert\", \"convert\", \"convert\", \"convert\", \"convert\", \"convert\", \"convert\", \"convert\", \"convert\", \"convert\", \"cookie\", \"cookie\", \"cookie\", \"cookie\", \"cookie\", \"cookie\", \"cookie\", \"cooky\", \"cooky\", \"cooky\", \"cooky\", \"cooky\", \"corner\", \"corner\", \"corner\", \"corner\", \"corner\", \"corner\", \"corner\", \"corner\", \"corner\", \"corner\", \"corner\", \"count\", \"count\", \"count\", \"count\", \"count\", \"count\", \"count\", \"count\", \"count\", \"count\", \"count\", \"count\", \"count\", \"crash\", \"crash\", \"crash\", \"crash\", \"crash\", \"crash\", \"crash\", \"crash\", \"crash\", \"crash\", \"create\", \"create\", \"create\", \"create\", \"create\", \"create\", \"create\", \"create\", \"create\", \"create\", \"create\", \"create\", \"create\", \"create\", \"credential\", \"credential\", \"credential\", \"credential\", \"credential\", \"credential\", \"criterion\", \"criterion\", \"criterion\", \"criterion\", \"criterion\", \"criterion\", \"criterion\", \"criterion\", \"criterion\", \"criterion\", \"cs\", \"cs\", \"cs\", \"cs\", \"cs\", \"cs\", \"cs\", \"cs\", \"cs\", \"cs\", \"cs\", \"cursor\", \"cursor\", \"cursor\", \"cursor\", \"cursor\", \"custom\", \"custom\", \"custom\", \"custom\", \"custom\", \"custom\", \"custom\", \"custom\", \"custom\", \"custom\", \"custom\", \"custom\", \"custom\", \"custom\", \"customer\", \"customer\", \"customer\", \"customer\", \"customer\", \"customer\", \"customer\", \"customer\", \"customer\", \"customer\", \"customer\", \"customer\", \"data\", \"data\", \"data\", \"data\", \"data\", \"data\", \"data\", \"data\", \"data\", \"data\", \"data\", \"data\", \"data\", \"data\", \"database\", \"database\", \"database\", \"database\", \"database\", \"database\", \"database\", \"database\", \"database\", \"database\", \"database\", \"database\", \"database\", \"database\", \"datasource\", \"datasource\", \"datasource\", \"datasource\", \"datasource\", \"datasource\", \"datasource\", \"date\", \"date\", \"date\", \"date\", \"date\", \"date\", \"date\", \"date\", \"date\", \"date\", \"date\", \"date\", \"date\", \"date\", \"datetime\", \"datetime\", \"datetime\", \"datetime\", \"datetime\", \"datetime\", \"datetime\", \"datetime\", \"datetime\", \"day\", \"day\", \"day\", \"day\", \"day\", \"day\", \"day\", \"day\", \"day\", \"day\", \"day\", \"day\", \"day\", \"day\", \"db\", \"db\", \"db\", \"db\", \"db\", \"db\", \"db\", \"db\", \"db\", \"db\", \"db\", \"db\", \"db\", \"db\", \"debug\", \"debug\", \"debug\", \"debug\", \"debug\", \"debug\", \"debug\", \"debug\", \"debug\", \"debug\", \"debug\", \"debug\", \"debug\", \"debug\", \"debugger\", \"debugger\", \"debugger\", \"debugger\", \"debugger\", \"debugger\", \"debugger\", \"debugger\", \"debugger\", \"debugger\", \"debugger\", \"debugging\", \"debugging\", \"debugging\", \"debugging\", \"debugging\", \"debugging\", \"declare\", \"declare\", \"declare\", \"declare\", \"declare\", \"declare\", \"declare\", \"declare\", \"declare\", \"define\", \"define\", \"define\", \"define\", \"define\", \"define\", \"define\", \"define\", \"define\", \"define\", \"define\", \"define\", \"delegate\", \"delegate\", \"delegate\", \"delegate\", \"delegate\", \"delegate\", \"delegate\", \"delegate\", \"delegate\", \"delegate\", \"delegate\", \"delegate\", \"delegate\", \"delete\", \"delete\", \"delete\", \"delete\", \"delete\", \"delete\", \"delete\", \"delete\", \"delete\", \"delete\", \"delete\", \"delete\", \"delete\", \"delphi\", \"delphi\", \"delphi\", \"delphi\", \"delphi\", \"delphi\", \"delphi\", \"delphi\", \"delphi\", \"deploy\", \"deploy\", \"deploy\", \"deploy\", \"deploy\", \"deploy\", \"deploy\", \"deploy\", \"deployment\", \"deployment\", \"deployment\", \"deployment\", \"deployment\", \"deployment\", \"deployment\", \"deserialize\", \"deserialize\", \"deserialize\", \"deserialize\", \"deserialize\", \"deserialize\", \"deserialize\", \"deserialize\", \"designer\", \"designer\", \"designer\", \"designer\", \"designer\", \"designer\", \"designer\", \"designer\", \"designer\", \"designer\", \"development\", \"development\", \"development\", \"development\", \"development\", \"development\", \"development\", \"development\", \"development\", \"development\", \"development\", \"development\", \"development\", \"development\", \"dialog\", \"dialog\", \"dialog\", \"dialog\", \"dialog\", \"dialog\", \"dialog\", \"dialog\", \"dialog\", \"dialog\", \"dialog\", \"dictionary\", \"dictionary\", \"dictionary\", \"dictionary\", \"dictionary\", \"dictionary\", \"dictionary\", \"dictionary\", \"dictionary\", \"dictionary\", \"directory\", \"directory\", \"directory\", \"directory\", \"directory\", \"directory\", \"directory\", \"directory\", \"directory\", \"directory\", \"directory\", \"directory\", \"directory\", \"disk\", \"disk\", \"disk\", \"disk\", \"disk\", \"disk\", \"disk\", \"disk\", \"disk\", \"disk\", \"disk\", \"disk\", \"disk\", \"disk\", \"display\", \"display\", \"display\", \"display\", \"display\", \"display\", \"display\", \"display\", \"display\", \"display\", \"display\", \"display\", \"display\", \"display\", \"div\", \"div\", \"div\", \"div\", \"div\", \"div\", \"div\", \"div\", \"django\", \"django\", \"django\", \"django\", \"django\", \"django\", \"django\", \"django\", \"django\", \"django\", \"django\", \"django\", \"django\", \"dll\", \"dll\", \"dll\", \"dll\", \"dll\", \"dll\", \"dll\", \"dll\", \"dll\", \"dll\", \"dll\", \"dll\", \"dlls\", \"dlls\", \"dlls\", \"dlls\", \"document\", \"document\", \"document\", \"document\", \"document\", \"document\", \"document\", \"document\", \"document\", \"document\", \"document\", \"document\", \"document\", \"document\", \"dom\", \"dom\", \"dom\", \"dom\", \"dom\", \"dom\", \"dom\", \"domain\", \"domain\", \"domain\", \"domain\", \"domain\", \"domain\", \"domain\", \"domain\", \"domain\", \"domain\", \"domain\", \"domain\", \"domain\", \"domain\", \"download\", \"download\", \"download\", \"download\", \"download\", \"download\", \"download\", \"download\", \"download\", \"download\", \"download\", \"driver\", \"driver\", \"driver\", \"driver\", \"driver\", \"driver\", \"driver\", \"driver\", \"dump\", \"dump\", \"dump\", \"dump\", \"dump\", \"dump\", \"dump\", \"dump\", \"eclipse\", \"eclipse\", \"eclipse\", \"eclipse\", \"eclipse\", \"eclipse\", \"eclipse\", \"eclipse\", \"eclipse\", \"eclipse\", \"edit\", \"edit\", \"edit\", \"edit\", \"edit\", \"edit\", \"edit\", \"edit\", \"edit\", \"edit\", \"edit\", \"edit\", \"edit\", \"edit\", \"ef\", \"ef\", \"ef\", \"ef\", \"ef\", \"ef\", \"element\", \"element\", \"element\", \"element\", \"element\", \"element\", \"element\", \"element\", \"element\", \"element\", \"element\", \"element\", \"element\", \"element\", \"email\", \"email\", \"email\", \"email\", \"email\", \"email\", \"email\", \"email\", \"email\", \"email\", \"email\", \"encoding\", \"encoding\", \"encoding\", \"encoding\", \"encoding\", \"encoding\", \"encoding\", \"encoding\", \"encoding\", \"encoding\", \"encrypt\", \"encrypt\", \"encrypt\", \"encrypt\", \"encrypt\", \"encrypt\", \"encryption\", \"encryption\", \"encryption\", \"encryption\", \"encryption\", \"encryption\", \"encryption\", \"encryption\", \"encryption\", \"endpoint\", \"endpoint\", \"endpoint\", \"endpoint\", \"endpoint\", \"endpoint\", \"engine\", \"engine\", \"engine\", \"engine\", \"engine\", \"engine\", \"engine\", \"engine\", \"engine\", \"engine\", \"engine\", \"engine\", \"engine\", \"engine\", \"enter\", \"enter\", \"enter\", \"enter\", \"enter\", \"enter\", \"enter\", \"enter\", \"enter\", \"enter\", \"enter\", \"entity\", \"entity\", \"entity\", \"entity\", \"entity\", \"entity\", \"entity\", \"entity\", \"entity\", \"entity\", \"entity\", \"entity\", \"entity\", \"entity\", \"error\", \"error\", \"error\", \"error\", \"error\", \"error\", \"error\", \"error\", \"error\", \"error\", \"error\", \"error\", \"error\", \"error\", \"event\", \"event\", \"event\", \"event\", \"event\", \"event\", \"event\", \"event\", \"event\", \"event\", \"event\", \"event\", \"event\", \"event\", \"example\", \"example\", \"example\", \"example\", \"example\", \"example\", \"example\", \"example\", \"example\", \"example\", \"example\", \"example\", \"example\", \"example\", \"excel\", \"excel\", \"excel\", \"excel\", \"excel\", \"excel\", \"excel\", \"excel\", \"excel\", \"excel\", \"exception\", \"exception\", \"exception\", \"exception\", \"exception\", \"exception\", \"exception\", \"exception\", \"exception\", \"exception\", \"exception\", \"exception\", \"exception\", \"exception\", \"exit\", \"exit\", \"exit\", \"exit\", \"exit\", \"exit\", \"exit\", \"exit\", \"exit\", \"exit\", \"explorer\", \"explorer\", \"explorer\", \"explorer\", \"explorer\", \"explorer\", \"explorer\", \"explorer\", \"explorer\", \"explorer\", \"explorer\", \"export\", \"export\", \"export\", \"export\", \"export\", \"export\", \"export\", \"export\", \"export\", \"export\", \"expose\", \"expose\", \"expose\", \"expose\", \"expose\", \"expose\", \"expose\", \"expose\", \"expose\", \"expose\", \"expose\", \"expression\", \"expression\", \"expression\", \"expression\", \"expression\", \"expression\", \"expression\", \"expression\", \"expression\", \"expression\", \"expression\", \"expression\", \"expression\", \"extension\", \"extension\", \"extension\", \"extension\", \"extension\", \"extension\", \"extension\", \"extension\", \"extension\", \"extension\", \"extension\", \"extension\", \"extension\", \"facebook\", \"facebook\", \"facebook\", \"facebook\", \"facebook\", \"facebook\", \"facebook\", \"facebook\", \"facebook\", \"facebook\", \"facebook\", \"fail\", \"fail\", \"fail\", \"fail\", \"fail\", \"fail\", \"fail\", \"fail\", \"fail\", \"fail\", \"fail\", \"fail\", \"fail\", \"failure\", \"failure\", \"failure\", \"failure\", \"failure\", \"failure\", \"failure\", \"failure\", \"failure\", \"failure\", \"failure\", \"failure\", \"failure\", \"fetch\", \"fetch\", \"fetch\", \"fetch\", \"fetch\", \"fetch\", \"fetch\", \"fetch\", \"fetch\", \"fetch\", \"fetch\", \"fetch\", \"field\", \"field\", \"field\", \"field\", \"field\", \"field\", \"field\", \"field\", \"field\", \"field\", \"field\", \"field\", \"field\", \"field\", \"file\", \"file\", \"file\", \"file\", \"file\", \"file\", \"file\", \"file\", \"file\", \"file\", \"file\", \"file\", \"file\", \"file\", \"filename\", \"filename\", \"filename\", \"filename\", \"filename\", \"filename\", \"filename\", \"filename\", \"filter\", \"filter\", \"filter\", \"filter\", \"filter\", \"filter\", \"filter\", \"filter\", \"filter\", \"filter\", \"filter\", \"filter\", \"filter\", \"filter\", \"fire\", \"fire\", \"fire\", \"fire\", \"fire\", \"fire\", \"fire\", \"fire\", \"firebug\", \"firebug\", \"firebug\", \"firebug\", \"firebug\", \"firebug\", \"firebug\", \"firebug\", \"firefox\", \"firefox\", \"firefox\", \"firefox\", \"firefox\", \"firefox\", \"firefox\", \"firefox\", \"firefox\", \"firefox\", \"firefox\", \"float\", \"float\", \"float\", \"float\", \"float\", \"float\", \"float\", \"float\", \"folder\", \"folder\", \"folder\", \"folder\", \"folder\", \"folder\", \"folder\", \"folder\", \"folder\", \"folder\", \"folder\", \"folder\", \"folder\", \"form\", \"form\", \"form\", \"form\", \"form\", \"form\", \"form\", \"form\", \"form\", \"form\", \"form\", \"form\", \"form\", \"form\", \"format\", \"format\", \"format\", \"format\", \"format\", \"format\", \"format\", \"format\", \"format\", \"format\", \"format\", \"format\", \"format\", \"format\", \"frame\", \"frame\", \"frame\", \"frame\", \"frame\", \"frame\", \"frame\", \"frame\", \"frame\", \"frame\", \"frame\", \"framework\", \"framework\", \"framework\", \"framework\", \"framework\", \"framework\", \"framework\", \"framework\", \"framework\", \"framework\", \"framework\", \"framework\", \"framework\", \"framework\", \"function\", \"function\", \"function\", \"function\", \"function\", \"function\", \"function\", \"function\", \"function\", \"function\", \"function\", \"function\", \"function\", \"function\", \"garbage\", \"garbage\", \"garbage\", \"garbage\", \"garbage\", \"garbage\", \"garbage\", \"garbage\", \"garbage\", \"garbage\", \"gcc\", \"gcc\", \"gcc\", \"gcc\", \"gcc\", \"gcc\", \"gcc\", \"gcc\", \"gcc\", \"gcc\", \"generic\", \"generic\", \"generic\", \"generic\", \"generic\", \"generic\", \"generic\", \"generic\", \"generic\", \"generic\", \"get\", \"get\", \"get\", \"get\", \"get\", \"get\", \"get\", \"get\", \"get\", \"get\", \"get\", \"get\", \"get\", \"get\", \"graph\", \"graph\", \"graph\", \"graph\", \"graph\", \"graph\", \"graph\", \"graph\", \"graph\", \"graph\", \"graph\", \"graph\", \"group\", \"group\", \"group\", \"group\", \"group\", \"group\", \"group\", \"group\", \"group\", \"group\", \"group\", \"group\", \"group\", \"group\", \"guarantee\", \"guarantee\", \"guarantee\", \"guarantee\", \"guarantee\", \"guarantee\", \"guarantee\", \"guarantee\", \"handling\", \"handling\", \"handling\", \"handling\", \"handling\", \"handling\", \"handling\", \"handling\", \"handling\", \"hash\", \"hash\", \"hash\", \"hash\", \"hash\", \"hash\", \"hash\", \"hash\", \"hash\", \"hash\", \"hash\", \"hash\", \"header\", \"header\", \"header\", \"header\", \"header\", \"header\", \"header\", \"header\", \"header\", \"header\", \"header\", \"header\", \"header\", \"heap\", \"heap\", \"heap\", \"heap\", \"heap\", \"heap\", \"height\", \"height\", \"height\", \"height\", \"height\", \"height\", \"helper\", \"helper\", \"helper\", \"helper\", \"helper\", \"helper\", \"helper\", \"helper\", \"helper\", \"hibernate\", \"hibernate\", \"hibernate\", \"hibernate\", \"hibernate\", \"hibernate\", \"hibernate\", \"hibernate\", \"hibernate\", \"hibernate\", \"hibernate\", \"hibernate\", \"hibernate\", \"hierarchy\", \"hierarchy\", \"hierarchy\", \"hierarchy\", \"hierarchy\", \"hierarchy\", \"hierarchy\", \"hierarchy\", \"host\", \"host\", \"host\", \"host\", \"host\", \"host\", \"host\", \"host\", \"host\", \"host\", \"html\", \"html\", \"html\", \"html\", \"html\", \"html\", \"html\", \"html\", \"html\", \"html\", \"html\", \"html\", \"html\", \"html5\", \"html5\", \"html5\", \"html5\", \"html5\", \"html5\", \"html5\", \"html5\", \"html5\", \"http\", \"http\", \"http\", \"http\", \"http\", \"http\", \"http\", \"http\", \"http\", \"http\", \"http\", \"http\", \"http\", \"http\", \"id\", \"id\", \"id\", \"id\", \"id\", \"id\", \"id\", \"id\", \"id\", \"id\", \"id\", \"id\", \"id\", \"id\", \"ide\", \"ide\", \"ide\", \"ide\", \"ide\", \"ide\", \"ide\", \"ide\", \"identifier\", \"identifier\", \"identifier\", \"identifier\", \"identifier\", \"identifier\", \"identifier\", \"identifier\", \"identifier\", \"ie\", \"ie\", \"ie\", \"ie\", \"ie\", \"ie\", \"ie\", \"ie\", \"ie\", \"ie\", \"ie\", \"ie\", \"ie\", \"ie\", \"ii\", \"ii\", \"ii\", \"ii\", \"ii\", \"ii\", \"ii\", \"ii\", \"ii\", \"ii\", \"ii\", \"image\", \"image\", \"image\", \"image\", \"image\", \"image\", \"image\", \"image\", \"image\", \"image\", \"image\", \"image\", \"image\", \"implement\", \"implement\", \"implement\", \"implement\", \"implement\", \"implement\", \"implement\", \"implement\", \"implement\", \"implement\", \"implement\", \"implement\", \"implement\", \"implement\", \"implementation\", \"implementation\", \"implementation\", \"implementation\", \"implementation\", \"implementation\", \"implementation\", \"implementation\", \"implementation\", \"implementation\", \"implementation\", \"implementation\", \"implementation\", \"implementation\", \"index\", \"index\", \"index\", \"index\", \"index\", \"index\", \"index\", \"index\", \"index\", \"index\", \"index\", \"index\", \"index\", \"index\", \"information\", \"information\", \"information\", \"information\", \"information\", \"information\", \"information\", \"information\", \"information\", \"information\", \"information\", \"information\", \"information\", \"information\", \"inheritance\", \"inheritance\", \"inheritance\", \"inheritance\", \"inheritance\", \"inheritance\", \"inheritance\", \"initialization\", \"initialization\", \"initialization\", \"initialization\", \"initialization\", \"initialization\", \"initialization\", \"initialization\", \"injection\", \"injection\", \"injection\", \"injection\", \"injection\", \"injection\", \"injection\", \"injection\", \"injection\", \"injection\", \"inline\", \"inline\", \"inline\", \"inline\", \"inline\", \"inline\", \"inline\", \"inline\", \"input\", \"input\", \"input\", \"input\", \"input\", \"input\", \"input\", \"input\", \"input\", \"input\", \"input\", \"input\", \"input\", \"input\", \"insert\", \"insert\", \"insert\", \"insert\", \"insert\", \"insert\", \"insert\", \"insert\", \"insert\", \"insert\", \"insert\", \"insert\", \"insert\", \"insertion\", \"insertion\", \"insertion\", \"insertion\", \"insertion\", \"insertion\", \"insertion\", \"instance\", \"instance\", \"instance\", \"instance\", \"instance\", \"instance\", \"instance\", \"instance\", \"instance\", \"instance\", \"instance\", \"instance\", \"instance\", \"instance\", \"instantiate\", \"instantiate\", \"instantiate\", \"instantiate\", \"instantiate\", \"instantiate\", \"instantiate\", \"instantiate\", \"instantiate\", \"instantiate\", \"instantiate\", \"instruction\", \"instruction\", \"instruction\", \"instruction\", \"instruction\", \"instruction\", \"instruction\", \"instruction\", \"instruction\", \"instruction\", \"instruction\", \"int\", \"int\", \"int\", \"int\", \"int\", \"int\", \"int\", \"int\", \"int\", \"int\", \"int\", \"integer\", \"integer\", \"integer\", \"integer\", \"integer\", \"integer\", \"integer\", \"integer\", \"integer\", \"integer\", \"integration\", \"integration\", \"integration\", \"integration\", \"integration\", \"integration\", \"integration\", \"integration\", \"integration\", \"integration\", \"interface\", \"interface\", \"interface\", \"interface\", \"interface\", \"interface\", \"interface\", \"interface\", \"interface\", \"interface\", \"interface\", \"interface\", \"interface\", \"interface\", \"internet\", \"internet\", \"internet\", \"internet\", \"internet\", \"internet\", \"internet\", \"internet\", \"internet\", \"internet\", \"internet\", \"internet\", \"internet\", \"ip\", \"ip\", \"ip\", \"ip\", \"ip\", \"ip\", \"ip\", \"ipad\", \"ipad\", \"ipad\", \"ipad\", \"ipad\", \"ipad\", \"ipad\", \"ipad\", \"ipad\", \"ipad\", \"iphone\", \"iphone\", \"iphone\", \"iphone\", \"iphone\", \"iphone\", \"iphone\", \"iphone\", \"iphone\", \"iphone\", \"iphone\", \"iphone\", \"iphone\", \"issue\", \"issue\", \"issue\", \"issue\", \"issue\", \"issue\", \"issue\", \"issue\", \"issue\", \"issue\", \"issue\", \"issue\", \"issue\", \"issue\", \"item\", \"item\", \"item\", \"item\", \"item\", \"item\", \"item\", \"item\", \"item\", \"item\", \"item\", \"item\", \"item\", \"item\", \"iterate\", \"iterate\", \"iterate\", \"iterate\", \"iterate\", \"iterate\", \"iterate\", \"iterate\", \"iteration\", \"iteration\", \"iteration\", \"iteration\", \"iteration\", \"iteration\", \"iteration\", \"iteration\", \"iteration\", \"iteration\", \"j\", \"j\", \"j\", \"j\", \"j\", \"j\", \"j\", \"j\", \"j\", \"j\", \"j\", \"j\", \"jar\", \"jar\", \"jar\", \"java\", \"java\", \"java\", \"java\", \"java\", \"java\", \"java\", \"java\", \"java\", \"java\", \"java\", \"java\", \"java\", \"java\", \"javascript\", \"javascript\", \"javascript\", \"javascript\", \"javascript\", \"javascript\", \"javascript\", \"javascript\", \"javascript\", \"javascript\", \"javascript\", \"javascript\", \"javascript\", \"javascript\", \"jdbc\", \"jdbc\", \"jdbc\", \"jdbc\", \"jdbc\", \"jdbc\", \"jdbc\", \"jdbc\", \"jdbc\", \"job\", \"job\", \"job\", \"job\", \"job\", \"job\", \"job\", \"job\", \"job\", \"job\", \"job\", \"job\", \"job\", \"join\", \"join\", \"join\", \"join\", \"join\", \"join\", \"join\", \"join\", \"join\", \"join\", \"join\", \"jpa\", \"jpa\", \"jpa\", \"jpa\", \"jpa\", \"jpa\", \"jpa\", \"jpa\", \"jpa\", \"jpa\", \"jpa\", \"jpa\", \"jquery\", \"jquery\", \"jquery\", \"jquery\", \"jquery\", \"jquery\", \"jquery\", \"jquery\", \"jquery\", \"jquery\", \"jquery\", \"jquery\", \"jquery\", \"jquery\", \"json\", \"json\", \"json\", \"json\", \"json\", \"json\", \"json\", \"json\", \"json\", \"json\", \"json\", \"json\", \"json\", \"jsp\", \"jsp\", \"jsp\", \"jsp\", \"jsp\", \"jsp\", \"jsp\", \"jsp\", \"jsp\", \"jsp\", \"jsp\", \"junit\", \"junit\", \"junit\", \"junit\", \"junit\", \"junit\", \"junit\", \"junit\", \"jvm\", \"jvm\", \"jvm\", \"jvm\", \"jvm\", \"jvm\", \"jvm\", \"jvm\", \"key\", \"key\", \"key\", \"key\", \"key\", \"key\", \"key\", \"key\", \"key\", \"key\", \"key\", \"key\", \"key\", \"key\", \"keyword\", \"keyword\", \"keyword\", \"keyword\", \"keyword\", \"keyword\", \"keyword\", \"keyword\", \"keyword\", \"keyword\", \"keyword\", \"know\", \"know\", \"know\", \"know\", \"know\", \"know\", \"know\", \"know\", \"know\", \"know\", \"know\", \"know\", \"know\", \"know\", \"lambda\", \"lambda\", \"lambda\", \"lambda\", \"lambda\", \"lambda\", \"lambda\", \"language\", \"language\", \"language\", \"language\", \"language\", \"language\", \"language\", \"language\", \"language\", \"language\", \"language\", \"language\", \"language\", \"language\", \"layer\", \"layer\", \"layer\", \"layer\", \"layer\", \"layer\", \"layer\", \"layer\", \"layer\", \"layer\", \"layer\", \"layer\", \"layer\", \"layer\", \"lead\", \"lead\", \"lead\", \"lead\", \"lead\", \"lead\", \"lead\", \"lead\", \"lead\", \"lead\", \"lead\", \"leak\", \"leak\", \"leak\", \"leak\", \"leak\", \"leak\", \"leak\", \"leak\", \"leak\", \"leak\", \"left\", \"left\", \"left\", \"left\", \"left\", \"left\", \"length\", \"length\", \"length\", \"length\", \"length\", \"length\", \"length\", \"length\", \"length\", \"length\", \"length\", \"length\", \"length\", \"library\", \"library\", \"library\", \"library\", \"library\", \"library\", \"library\", \"library\", \"library\", \"library\", \"library\", \"library\", \"library\", \"library\", \"like\", \"like\", \"like\", \"like\", \"like\", \"like\", \"like\", \"like\", \"like\", \"like\", \"like\", \"like\", \"like\", \"like\", \"line\", \"line\", \"line\", \"line\", \"line\", \"line\", \"line\", \"line\", \"line\", \"line\", \"line\", \"line\", \"line\", \"line\", \"linker\", \"linker\", \"linker\", \"linker\", \"linker\", \"linker\", \"linq\", \"linq\", \"linq\", \"linq\", \"linq\", \"linq\", \"linq\", \"linq\", \"linq\", \"linq\", \"linq\", \"linq\", \"linq\", \"linq\", \"linux\", \"linux\", \"linux\", \"linux\", \"linux\", \"linux\", \"linux\", \"linux\", \"linux\", \"linux\", \"linux\", \"linux\", \"linux\", \"linux\", \"list\", \"list\", \"list\", \"list\", \"list\", \"list\", \"list\", \"list\", \"list\", \"list\", \"list\", \"list\", \"list\", \"list\", \"load\", \"load\", \"load\", \"load\", \"load\", \"load\", \"load\", \"load\", \"load\", \"load\", \"load\", \"load\", \"load\", \"load\", \"lock\", \"lock\", \"lock\", \"lock\", \"lock\", \"lock\", \"lock\", \"lock\", \"lock\", \"lock\", \"log\", \"log\", \"log\", \"log\", \"log\", \"log\", \"log\", \"log\", \"log\", \"log\", \"log\", \"log\", \"log\", \"log\", \"login\", \"login\", \"login\", \"login\", \"login\", \"login\", \"login\", \"login\", \"login\", \"login\", \"lookup\", \"lookup\", \"lookup\", \"lookup\", \"lookup\", \"lookup\", \"lookup\", \"lookup\", \"lookup\", \"loop\", \"loop\", \"loop\", \"loop\", \"loop\", \"loop\", \"loop\", \"loop\", \"loop\", \"loop\", \"loop\", \"loop\", \"loop\", \"loop\", \"mac\", \"mac\", \"mac\", \"mac\", \"mac\", \"mac\", \"mac\", \"mac\", \"mac\", \"mac\", \"mac\", \"mac\", \"mac\", \"make\", \"make\", \"make\", \"make\", \"make\", \"make\", \"make\", \"make\", \"make\", \"make\", \"make\", \"make\", \"make\", \"make\", \"management\", \"management\", \"management\", \"management\", \"management\", \"management\", \"management\", \"management\", \"management\", \"management\", \"management\", \"management\", \"mapping\", \"mapping\", \"mapping\", \"mapping\", \"mapping\", \"mapping\", \"mapping\", \"mapping\", \"mapping\", \"mapping\", \"mapping\", \"mapping\", \"measure\", \"measure\", \"measure\", \"measure\", \"measure\", \"measure\", \"measure\", \"measure\", \"measure\", \"member\", \"member\", \"member\", \"member\", \"member\", \"member\", \"member\", \"member\", \"member\", \"member\", \"member\", \"member\", \"memory\", \"memory\", \"memory\", \"memory\", \"memory\", \"memory\", \"memory\", \"memory\", \"memory\", \"memory\", \"memory\", \"memory\", \"memory\", \"memory\", \"menu\", \"menu\", \"menu\", \"menu\", \"menu\", \"menu\", \"menu\", \"menu\", \"menu\", \"menu\", \"menu\", \"menu\", \"message\", \"message\", \"message\", \"message\", \"message\", \"message\", \"message\", \"message\", \"message\", \"message\", \"message\", \"message\", \"message\", \"message\", \"method\", \"method\", \"method\", \"method\", \"method\", \"method\", \"method\", \"method\", \"method\", \"method\", \"method\", \"method\", \"method\", \"method\", \"mistake\", \"mistake\", \"mistake\", \"mistake\", \"mistake\", \"mistake\", \"mistake\", \"mistake\", \"mistake\", \"mistake\", \"mock\", \"mock\", \"mock\", \"mock\", \"mock\", \"mock\", \"mock\", \"model\", \"model\", \"model\", \"model\", \"model\", \"model\", \"model\", \"model\", \"model\", \"model\", \"model\", \"model\", \"model\", \"model\", \"monitor\", \"monitor\", \"monitor\", \"monitor\", \"monitor\", \"monitor\", \"monitor\", \"monitor\", \"month\", \"month\", \"month\", \"month\", \"month\", \"month\", \"month\", \"month\", \"month\", \"month\", \"month\", \"mouse\", \"mouse\", \"mouse\", \"mouse\", \"mouse\", \"mouse\", \"mouse\", \"mouse\", \"mouse\", \"mvc\", \"mvc\", \"mvc\", \"mvc\", \"mvc\", \"mvc\", \"mvc\", \"mvc\", \"mvc\", \"mvc\", \"mvc\", \"mvc\", \"mvc\", \"mvc\", \"mvvm\", \"mvvm\", \"mvvm\", \"mvvm\", \"mvvm\", \"mvvm\", \"mvvm\", \"mvvm\", \"mvvm\", \"mvvm\", \"mvvm\", \"mysql\", \"mysql\", \"mysql\", \"mysql\", \"mysql\", \"mysql\", \"mysql\", \"mysql\", \"mysql\", \"mysql\", \"mysql\", \"mysql\", \"mysql\", \"mysql\", \"n\", \"n\", \"n\", \"n\", \"n\", \"n\", \"name\", \"name\", \"name\", \"name\", \"name\", \"name\", \"name\", \"name\", \"name\", \"name\", \"name\", \"name\", \"name\", \"name\", \"namespace\", \"namespace\", \"namespace\", \"namespace\", \"namespace\", \"namespace\", \"namespace\", \"namespace\", \"namespace\", \"namespace\", \"network\", \"network\", \"network\", \"network\", \"network\", \"network\", \"network\", \"network\", \"network\", \"network\", \"network\", \"network\", \"network\", \"network\", \"nhibernate\", \"nhibernate\", \"nhibernate\", \"nhibernate\", \"nhibernate\", \"nhibernate\", \"nhibernate\", \"nhibernate\", \"nhibernate\", \"nhibernate\", \"node\", \"node\", \"node\", \"node\", \"node\", \"node\", \"node\", \"node\", \"node\", \"node\", \"node\", \"node\", \"node\", \"node\", \"notification\", \"notification\", \"notification\", \"notification\", \"notification\", \"notification\", \"notification\", \"notification\", \"notification\", \"notification\", \"notification\", \"null\", \"null\", \"null\", \"null\", \"null\", \"null\", \"null\", \"null\", \"null\", \"null\", \"null\", \"null\", \"null\", \"number\", \"number\", \"number\", \"number\", \"number\", \"number\", \"number\", \"number\", \"number\", \"number\", \"number\", \"number\", \"number\", \"number\", \"object\", \"object\", \"object\", \"object\", \"object\", \"object\", \"object\", \"object\", \"object\", \"object\", \"object\", \"object\", \"object\", \"object\", \"objective-c\", \"objective-c\", \"objective-c\", \"objective-c\", \"objective-c\", \"objective-c\", \"objective-c\", \"obtain\", \"obtain\", \"obtain\", \"obtain\", \"obtain\", \"obtain\", \"obtain\", \"obtain\", \"obtain\", \"obtain\", \"obtain\", \"occur\", \"occur\", \"occur\", \"occur\", \"occur\", \"occur\", \"occur\", \"occur\", \"occur\", \"operator\", \"operator\", \"operator\", \"operator\", \"operator\", \"operator\", \"operator\", \"operator\", \"operator\", \"oracle\", \"oracle\", \"oracle\", \"oracle\", \"oracle\", \"oracle\", \"oracle\", \"oracle\", \"oracle\", \"oracle\", \"order\", \"order\", \"order\", \"order\", \"order\", \"order\", \"order\", \"order\", \"order\", \"order\", \"order\", \"order\", \"order\", \"order\", \"orm\", \"orm\", \"orm\", \"orm\", \"orm\", \"orm\", \"orm\", \"orm\", \"orm\", \"orm\", \"package\", \"package\", \"package\", \"package\", \"package\", \"package\", \"package\", \"package\", \"package\", \"package\", \"package\", \"page\", \"page\", \"page\", \"page\", \"page\", \"page\", \"page\", \"page\", \"page\", \"page\", \"page\", \"page\", \"page\", \"page\", \"parameter\", \"parameter\", \"parameter\", \"parameter\", \"parameter\", \"parameter\", \"parameter\", \"parameter\", \"parameter\", \"parameter\", \"parameter\", \"parameter\", \"parameter\", \"parameter\", \"parent\", \"parent\", \"parent\", \"parent\", \"parent\", \"parent\", \"parent\", \"parent\", \"parent\", \"parent\", \"parent\", \"parent\", \"parent\", \"parent\", \"parse\", \"parse\", \"parse\", \"parse\", \"parse\", \"parse\", \"parse\", \"parse\", \"parse\", \"parse\", \"parse\", \"parse\", \"parse\", \"parse\", \"password\", \"password\", \"password\", \"password\", \"password\", \"password\", \"password\", \"password\", \"password\", \"password\", \"password\", \"password\", \"past\", \"past\", \"past\", \"past\", \"past\", \"past\", \"past\", \"past\", \"past\", \"past\", \"past\", \"past\", \"path\", \"path\", \"path\", \"path\", \"path\", \"path\", \"path\", \"path\", \"path\", \"path\", \"path\", \"path\", \"path\", \"path\", \"pattern\", \"pattern\", \"pattern\", \"pattern\", \"pattern\", \"pattern\", \"pattern\", \"pattern\", \"pattern\", \"pattern\", \"pattern\", \"pattern\", \"pattern\", \"pattern\", \"pdf\", \"pdf\", \"pdf\", \"pdf\", \"pdf\", \"pdf\", \"pdf\", \"pdf\", \"pdf\", \"performance\", \"performance\", \"performance\", \"performance\", \"performance\", \"performance\", \"performance\", \"performance\", \"performance\", \"performance\", \"performance\", \"performance\", \"performance\", \"performance\", \"perl\", \"perl\", \"perl\", \"perl\", \"perl\", \"perl\", \"perl\", \"perl\", \"perl\", \"permission\", \"permission\", \"permission\", \"permission\", \"permission\", \"permission\", \"permission\", \"permission\", \"permission\", \"persist\", \"persist\", \"persist\", \"persist\", \"persist\", \"persist\", \"persist\", \"persist\", \"persist\", \"persist\", \"persistence\", \"persistence\", \"persistence\", \"persistence\", \"persistence\", \"persistence\", \"persistence\", \"persistence\", \"persistence\", \"persistence\", \"persistence\", \"person\", \"person\", \"person\", \"person\", \"person\", \"person\", \"person\", \"person\", \"person\", \"person\", \"person\", \"person\", \"php\", \"php\", \"php\", \"php\", \"php\", \"php\", \"php\", \"php\", \"php\", \"php\", \"php\", \"php\", \"php\", \"php\", \"picture\", \"picture\", \"picture\", \"picture\", \"picture\", \"picture\", \"picture\", \"picture\", \"picture\", \"picture\", \"picture\", \"picture\", \"pixel\", \"pixel\", \"pixel\", \"pixel\", \"pixel\", \"pixel\", \"pixel\", \"pixel\", \"pixel\", \"pixel\", \"platform\", \"platform\", \"platform\", \"platform\", \"platform\", \"platform\", \"platform\", \"platform\", \"platform\", \"platform\", \"platform\", \"platform\", \"platform\", \"platform\", \"plugin\", \"plugin\", \"plugin\", \"plugin\", \"plugin\", \"plugin\", \"plugin\", \"plugin\", \"plugin\", \"plugin\", \"plugin\", \"point\", \"point\", \"point\", \"point\", \"point\", \"point\", \"point\", \"point\", \"point\", \"point\", \"point\", \"point\", \"point\", \"point\", \"pointer\", \"pointer\", \"pointer\", \"pointer\", \"pointer\", \"pointer\", \"pointer\", \"pointer\", \"pointer\", \"pointer\", \"pointer\", \"pointer\", \"pointer\", \"pool\", \"pool\", \"pool\", \"pool\", \"pool\", \"pool\", \"pool\", \"pool\", \"pool\", \"pool\", \"post\", \"post\", \"post\", \"post\", \"post\", \"post\", \"post\", \"post\", \"post\", \"post\", \"post\", \"post\", \"post\", \"post\", \"postgresql\", \"postgresql\", \"postgresql\", \"postgresql\", \"postgresql\", \"postgresql\", \"postgresql\", \"pro\", \"pro\", \"pro\", \"pro\", \"pro\", \"pro\", \"pro\", \"pro\", \"pro\", \"pro\", \"pro\", \"pro\", \"problem\", \"problem\", \"problem\", \"problem\", \"problem\", \"problem\", \"problem\", \"problem\", \"problem\", \"problem\", \"problem\", \"problem\", \"problem\", \"problem\", \"procedure\", \"procedure\", \"procedure\", \"procedure\", \"procedure\", \"procedure\", \"procedure\", \"procedure\", \"procedure\", \"procedure\", \"procedure\", \"procedure\", \"procedure\", \"process\", \"process\", \"process\", \"process\", \"process\", \"process\", \"process\", \"process\", \"process\", \"process\", \"process\", \"process\", \"process\", \"process\", \"profiler\", \"profiler\", \"profiler\", \"profiler\", \"profiler\", \"profiler\", \"profiler\", \"profiler\", \"program\", \"program\", \"program\", \"program\", \"program\", \"program\", \"program\", \"program\", \"program\", \"program\", \"program\", \"program\", \"program\", \"program\", \"programming\", \"programming\", \"programming\", \"programming\", \"programming\", \"programming\", \"programming\", \"programming\", \"programming\", \"programming\", \"programming\", \"project\", \"project\", \"project\", \"project\", \"project\", \"project\", \"project\", \"project\", \"project\", \"project\", \"project\", \"project\", \"project\", \"project\", \"property\", \"property\", \"property\", \"property\", \"property\", \"property\", \"property\", \"property\", \"property\", \"property\", \"property\", \"property\", \"property\", \"property\", \"provider\", \"provider\", \"provider\", \"provider\", \"provider\", \"provider\", \"provider\", \"provider\", \"provider\", \"provider\", \"proxy\", \"proxy\", \"proxy\", \"proxy\", \"proxy\", \"proxy\", \"proxy\", \"proxy\", \"proxy\", \"proxy\", \"push\", \"push\", \"push\", \"push\", \"push\", \"push\", \"push\", \"push\", \"push\", \"push\", \"push\", \"python\", \"python\", \"python\", \"python\", \"python\", \"python\", \"python\", \"python\", \"python\", \"python\", \"python\", \"python\", \"python\", \"python\", \"query\", \"query\", \"query\", \"query\", \"query\", \"query\", \"query\", \"query\", \"query\", \"query\", \"query\", \"query\", \"query\", \"query\", \"question\", \"question\", \"question\", \"question\", \"question\", \"question\", \"question\", \"question\", \"question\", \"question\", \"question\", \"question\", \"question\", \"question\", \"queue\", \"queue\", \"queue\", \"queue\", \"queue\", \"queue\", \"queue\", \"queue\", \"queue\", \"queue\", \"queue\", \"queue\", \"quote\", \"quote\", \"quote\", \"quote\", \"quote\", \"quote\", \"quote\", \"quote\", \"quote\", \"quote\", \"rail\", \"rail\", \"rail\", \"rail\", \"rail\", \"rail\", \"rail\", \"rail\", \"rail\", \"rail\", \"rail\", \"rail\", \"rail\", \"range\", \"range\", \"range\", \"range\", \"range\", \"range\", \"range\", \"range\", \"range\", \"range\", \"range\", \"range\", \"range\", \"read\", \"read\", \"read\", \"read\", \"read\", \"read\", \"read\", \"read\", \"read\", \"read\", \"read\", \"read\", \"read\", \"read\", \"record\", \"record\", \"record\", \"record\", \"record\", \"record\", \"record\", \"record\", \"record\", \"record\", \"record\", \"record\", \"record\", \"record\", \"redirect\", \"redirect\", \"redirect\", \"redirect\", \"redirect\", \"redirect\", \"redirect\", \"redirect\", \"redirect\", \"reference\", \"reference\", \"reference\", \"reference\", \"reference\", \"reference\", \"reference\", \"reference\", \"reference\", \"reference\", \"reference\", \"reference\", \"reference\", \"reference\", \"reflection\", \"reflection\", \"reflection\", \"reflection\", \"reflection\", \"reflection\", \"reflection\", \"reflection\", \"reflection\", \"reflection\", \"reflection\", \"refresh\", \"refresh\", \"refresh\", \"refresh\", \"refresh\", \"refresh\", \"refresh\", \"refresh\", \"registry\", \"registry\", \"registry\", \"registry\", \"registry\", \"registry\", \"registry\", \"registry\", \"registry\", \"relationship\", \"relationship\", \"relationship\", \"relationship\", \"relationship\", \"relationship\", \"relationship\", \"relationship\", \"relationship\", \"relationship\", \"relationship\", \"relationship\", \"relationship\", \"relationship\", \"release\", \"release\", \"release\", \"release\", \"release\", \"release\", \"release\", \"release\", \"release\", \"release\", \"release\", \"release\", \"release\", \"release\", \"render\", \"render\", \"render\", \"render\", \"render\", \"render\", \"render\", \"render\", \"repository\", \"repository\", \"repository\", \"repository\", \"repository\", \"repository\", \"repository\", \"repository\", \"repository\", \"repository\", \"repository\", \"repository\", \"repository\", \"request\", \"request\", \"request\", \"request\", \"request\", \"request\", \"request\", \"request\", \"request\", \"request\", \"request\", \"request\", \"request\", \"request\", \"resize\", \"resize\", \"resize\", \"resize\", \"resize\", \"resize\", \"resize\", \"resource\", \"resource\", \"resource\", \"resource\", \"resource\", \"resource\", \"resource\", \"resource\", \"resource\", \"resource\", \"resource\", \"resource\", \"resource\", \"resource\", \"response\", \"response\", \"response\", \"response\", \"response\", \"response\", \"response\", \"response\", \"response\", \"response\", \"response\", \"response\", \"response\", \"response\", \"rest\", \"rest\", \"rest\", \"rest\", \"rest\", \"rest\", \"rest\", \"rest\", \"rest\", \"rest\", \"rest\", \"rest\", \"rest\", \"rest\", \"result\", \"result\", \"result\", \"result\", \"result\", \"result\", \"result\", \"result\", \"result\", \"result\", \"result\", \"result\", \"result\", \"result\", \"return\", \"return\", \"return\", \"return\", \"return\", \"return\", \"return\", \"return\", \"return\", \"return\", \"return\", \"return\", \"return\", \"return\", \"role\", \"role\", \"role\", \"role\", \"role\", \"role\", \"role\", \"role\", \"role\", \"row\", \"row\", \"row\", \"row\", \"row\", \"row\", \"row\", \"row\", \"row\", \"row\", \"row\", \"row\", \"row\", \"row\", \"ruby\", \"ruby\", \"ruby\", \"ruby\", \"ruby\", \"ruby\", \"ruby\", \"ruby\", \"ruby\", \"ruby\", \"ruby\", \"ruby\", \"ruby\", \"run\", \"run\", \"run\", \"run\", \"run\", \"run\", \"run\", \"run\", \"run\", \"run\", \"run\", \"run\", \"run\", \"run\", \"safari\", \"safari\", \"safari\", \"safari\", \"safari\", \"safari\", \"safari\", \"safari\", \"safari\", \"safari\", \"scale\", \"scale\", \"scale\", \"scale\", \"scale\", \"scale\", \"scale\", \"scale\", \"scale\", \"scale\", \"schema\", \"schema\", \"schema\", \"schema\", \"schema\", \"schema\", \"schema\", \"schema\", \"schema\", \"schema\", \"schema\", \"schema\", \"schema\", \"screen\", \"screen\", \"screen\", \"screen\", \"screen\", \"screen\", \"screen\", \"screen\", \"screen\", \"screen\", \"screen\", \"screen\", \"screen\", \"script\", \"script\", \"script\", \"script\", \"script\", \"script\", \"script\", \"script\", \"script\", \"script\", \"script\", \"script\", \"script\", \"script\", \"scroll\", \"scroll\", \"scroll\", \"scroll\", \"scroll\", \"scroll\", \"scroll\", \"scroll\", \"sdk\", \"sdk\", \"sdk\", \"sdk\", \"sdk\", \"sdk\", \"sdk\", \"sdk\", \"sdk\", \"sdk\", \"sdk\", \"search\", \"search\", \"search\", \"search\", \"search\", \"search\", \"search\", \"search\", \"search\", \"search\", \"search\", \"search\", \"search\", \"search\", \"section\", \"section\", \"section\", \"section\", \"section\", \"section\", \"section\", \"section\", \"section\", \"section\", \"section\", \"section\", \"section\", \"section\", \"secure\", \"secure\", \"secure\", \"secure\", \"secure\", \"secure\", \"secure\", \"secure\", \"secure\", \"secure\", \"secure\", \"secure\", \"security\", \"security\", \"security\", \"security\", \"security\", \"security\", \"security\", \"security\", \"security\", \"security\", \"security\", \"security\", \"security\", \"see\", \"see\", \"see\", \"see\", \"see\", \"see\", \"see\", \"see\", \"see\", \"see\", \"see\", \"see\", \"see\", \"see\", \"select\", \"select\", \"select\", \"select\", \"select\", \"select\", \"select\", \"select\", \"select\", \"select\", \"select\", \"select\", \"select\", \"select\", \"send\", \"send\", \"send\", \"send\", \"send\", \"send\", \"send\", \"send\", \"send\", \"send\", \"send\", \"send\", \"send\", \"send\", \"serialization\", \"serialization\", \"serialization\", \"serialization\", \"serialization\", \"serialization\", \"serialization\", \"serialization\", \"serialization\", \"serialization\", \"serialize\", \"serialize\", \"serialize\", \"serialize\", \"serialize\", \"serialize\", \"serialize\", \"serialize\", \"serialize\", \"serialize\", \"serialize\", \"serialize\", \"server\", \"server\", \"server\", \"server\", \"server\", \"server\", \"server\", \"server\", \"server\", \"server\", \"server\", \"server\", \"server\", \"server\", \"service\", \"service\", \"service\", \"service\", \"service\", \"service\", \"service\", \"service\", \"service\", \"service\", \"service\", \"service\", \"service\", \"service\", \"servlet\", \"servlet\", \"servlet\", \"servlet\", \"servlet\", \"servlet\", \"servlet\", \"servlet\", \"servlet\", \"servlet\", \"servlet\", \"session\", \"session\", \"session\", \"session\", \"session\", \"session\", \"session\", \"session\", \"session\", \"session\", \"session\", \"session\", \"session\", \"session\", \"set\", \"set\", \"set\", \"set\", \"set\", \"set\", \"set\", \"set\", \"set\", \"set\", \"set\", \"set\", \"set\", \"set\", \"setter\", \"setter\", \"setter\", \"setter\", \"shell\", \"shell\", \"shell\", \"shell\", \"shell\", \"shell\", \"shell\", \"shell\", \"shell\", \"sign\", \"sign\", \"sign\", \"sign\", \"sign\", \"sign\", \"signature\", \"signature\", \"signature\", \"signature\", \"signature\", \"signature\", \"signature\", \"signature\", \"signature\", \"signature\", \"signature\", \"signature\", \"site\", \"site\", \"site\", \"site\", \"site\", \"site\", \"site\", \"site\", \"site\", \"site\", \"site\", \"site\", \"site\", \"site\", \"size\", \"size\", \"size\", \"size\", \"size\", \"size\", \"size\", \"size\", \"size\", \"size\", \"size\", \"size\", \"size\", \"size\", \"soap\", \"soap\", \"soap\", \"soap\", \"soap\", \"soap\", \"soap\", \"socket\", \"socket\", \"socket\", \"socket\", \"socket\", \"socket\", \"socket\", \"socket\", \"socket\", \"socket\", \"socket\", \"solution\", \"solution\", \"solution\", \"solution\", \"solution\", \"solution\", \"solution\", \"solution\", \"solution\", \"solution\", \"solution\", \"solution\", \"solution\", \"solution\", \"something\", \"something\", \"something\", \"something\", \"something\", \"something\", \"something\", \"something\", \"something\", \"something\", \"something\", \"something\", \"something\", \"something\", \"sort\", \"sort\", \"sort\", \"sort\", \"sort\", \"sort\", \"sort\", \"sort\", \"sort\", \"sort\", \"sort\", \"sort\", \"sort\", \"sort\", \"source\", \"source\", \"source\", \"source\", \"source\", \"source\", \"source\", \"source\", \"source\", \"source\", \"source\", \"source\", \"source\", \"source\", \"space\", \"space\", \"space\", \"space\", \"space\", \"space\", \"space\", \"space\", \"space\", \"space\", \"space\", \"space\", \"space\", \"space\", \"spring\", \"spring\", \"spring\", \"spring\", \"spring\", \"spring\", \"spring\", \"spring\", \"spring\", \"spring\", \"spring\", \"spring\", \"spring\", \"spring\", \"sql\", \"sql\", \"sql\", \"sql\", \"sql\", \"sql\", \"sql\", \"sql\", \"sql\", \"sql\", \"sql\", \"sql\", \"sql\", \"sql\", \"sqlite\", \"sqlite\", \"sqlite\", \"sqlite\", \"sqlite\", \"sqlite\", \"sqlite\", \"sqlite\", \"sqlite\", \"ssl\", \"ssl\", \"ssl\", \"ssl\", \"ssl\", \"ssl\", \"ssl\", \"ssl\", \"ssl\", \"state\", \"state\", \"state\", \"state\", \"state\", \"state\", \"state\", \"state\", \"state\", \"state\", \"state\", \"state\", \"state\", \"state\", \"statement\", \"statement\", \"statement\", \"statement\", \"statement\", \"statement\", \"statement\", \"statement\", \"statement\", \"statement\", \"statement\", \"statement\", \"statement\", \"statement\", \"status\", \"status\", \"status\", \"status\", \"status\", \"status\", \"status\", \"status\", \"status\", \"status\", \"status\", \"status\", \"std\", \"std\", \"std\", \"std\", \"std\", \"std\", \"std\", \"stl\", \"stl\", \"stl\", \"stl\", \"stl\", \"stl\", \"storage\", \"storage\", \"storage\", \"storage\", \"storage\", \"storage\", \"storage\", \"storage\", \"storage\", \"storage\", \"storage\", \"storage\", \"store\", \"store\", \"store\", \"store\", \"store\", \"store\", \"store\", \"store\", \"store\", \"store\", \"store\", \"store\", \"store\", \"store\", \"string\", \"string\", \"string\", \"string\", \"string\", \"string\", \"string\", \"string\", \"string\", \"string\", \"string\", \"string\", \"string\", \"string\", \"struct\", \"struct\", \"struct\", \"struct\", \"struct\", \"struct\", \"struct\", \"struct\", \"structure\", \"structure\", \"structure\", \"structure\", \"structure\", \"structure\", \"structure\", \"structure\", \"structure\", \"structure\", \"structure\", \"structure\", \"structure\", \"structure\", \"studio\", \"studio\", \"studio\", \"studio\", \"studio\", \"studio\", \"studio\", \"studio\", \"studio\", \"studio\", \"studio\", \"studio\", \"studio\", \"studio\", \"subclass\", \"subclass\", \"subclass\", \"subclass\", \"subclass\", \"subclass\", \"subclass\", \"subclass\", \"subclass\", \"subclass\", \"subclass\", \"subclass\", \"subclass\", \"submit\", \"submit\", \"submit\", \"submit\", \"submit\", \"submit\", \"submit\", \"submit\", \"submit\", \"submit\", \"submit\", \"symbol\", \"symbol\", \"symbol\", \"symbol\", \"symbol\", \"symbol\", \"symbol\", \"symbol\", \"symbol\", \"symbol\", \"symbol\", \"symbol\", \"system\", \"system\", \"system\", \"system\", \"system\", \"system\", \"system\", \"system\", \"system\", \"system\", \"system\", \"system\", \"system\", \"system\", \"tab\", \"tab\", \"tab\", \"tab\", \"tab\", \"tab\", \"tab\", \"tab\", \"tab\", \"tab\", \"tab\", \"tab\", \"table\", \"table\", \"table\", \"table\", \"table\", \"table\", \"table\", \"table\", \"table\", \"table\", \"table\", \"table\", \"table\", \"table\", \"tag\", \"tag\", \"tag\", \"tag\", \"tag\", \"tag\", \"tag\", \"tag\", \"tag\", \"tag\", \"tag\", \"tag\", \"tag\", \"tag\", \"target\", \"target\", \"target\", \"target\", \"target\", \"target\", \"target\", \"target\", \"target\", \"target\", \"target\", \"target\", \"target\", \"target\", \"technology\", \"technology\", \"technology\", \"technology\", \"technology\", \"technology\", \"technology\", \"technology\", \"technology\", \"technology\", \"technology\", \"technology\", \"template\", \"template\", \"template\", \"template\", \"template\", \"template\", \"template\", \"template\", \"template\", \"template\", \"template\", \"template\", \"template\", \"template\", \"test\", \"test\", \"test\", \"test\", \"test\", \"test\", \"test\", \"test\", \"test\", \"test\", \"test\", \"test\", \"test\", \"test\", \"testing\", \"testing\", \"testing\", \"testing\", \"testing\", \"testing\", \"testing\", \"testing\", \"testing\", \"testing\", \"text\", \"text\", \"text\", \"text\", \"text\", \"text\", \"text\", \"text\", \"text\", \"text\", \"text\", \"text\", \"text\", \"text\", \"textbox\", \"textbox\", \"textbox\", \"textbox\", \"textbox\", \"textbox\", \"textbox\", \"textbox\", \"textbox\", \"textbox\", \"thanks\", \"thanks\", \"thanks\", \"thanks\", \"thanks\", \"thanks\", \"thanks\", \"thanks\", \"thanks\", \"thanks\", \"thanks\", \"thanks\", \"thanks\", \"thanks\", \"thread\", \"thread\", \"thread\", \"thread\", \"thread\", \"thread\", \"thread\", \"thread\", \"thread\", \"thread\", \"thread\", \"thread\", \"thread\", \"thread\", \"throw\", \"throw\", \"throw\", \"throw\", \"throw\", \"throw\", \"throw\", \"throw\", \"throw\", \"throw\", \"throw\", \"throw\", \"time\", \"time\", \"time\", \"time\", \"time\", \"time\", \"time\", \"time\", \"time\", \"time\", \"time\", \"time\", \"time\", \"time\", \"timeout\", \"timeout\", \"timeout\", \"timeout\", \"timeout\", \"timeout\", \"timeout\", \"timeout\", \"timestamp\", \"timestamp\", \"timestamp\", \"timestamp\", \"timestamp\", \"timestamp\", \"timestamp\", \"timestamp\", \"token\", \"token\", \"token\", \"token\", \"token\", \"token\", \"token\", \"token\", \"tomcat\", \"tomcat\", \"tomcat\", \"tomcat\", \"tomcat\", \"tomcat\", \"tomcat\", \"tomcat\", \"tomcat\", \"tomcat\", \"tomcat\", \"tomcat\", \"tool\", \"tool\", \"tool\", \"tool\", \"tool\", \"tool\", \"tool\", \"tool\", \"tool\", \"tool\", \"tool\", \"tool\", \"tool\", \"tool\", \"trace\", \"trace\", \"trace\", \"trace\", \"trace\", \"trace\", \"trace\", \"trace\", \"trace\", \"trace\", \"trace\", \"traffic\", \"traffic\", \"traffic\", \"traffic\", \"traffic\", \"traffic\", \"transaction\", \"transaction\", \"transaction\", \"transaction\", \"transaction\", \"transaction\", \"transaction\", \"transaction\", \"transaction\", \"transaction\", \"transaction\", \"translate\", \"translate\", \"translate\", \"translate\", \"translate\", \"translate\", \"translate\", \"translate\", \"translate\", \"type\", \"type\", \"type\", \"type\", \"type\", \"type\", \"type\", \"type\", \"type\", \"type\", \"type\", \"type\", \"type\", \"type\", \"uitableview\", \"uitableview\", \"uitableview\", \"uitableview\", \"uitableview\", \"uitableview\", \"uiview\", \"uiview\", \"uiview\", \"uiview\", \"uiview\", \"uiview\", \"unicode\", \"unicode\", \"unicode\", \"unicode\", \"unicode\", \"unicode\", \"unicode\", \"unicode\", \"unicode\", \"unit\", \"unit\", \"unit\", \"unit\", \"unit\", \"unit\", \"unit\", \"unit\", \"unit\", \"unit\", \"unit\", \"unit\", \"unit\", \"unit\", \"upload\", \"upload\", \"upload\", \"upload\", \"upload\", \"upload\", \"upload\", \"upload\", \"url\", \"url\", \"url\", \"url\", \"url\", \"url\", \"url\", \"url\", \"url\", \"url\", \"url\", \"url\", \"url\", \"use\", \"use\", \"use\", \"use\", \"use\", \"use\", \"use\", \"use\", \"use\", \"use\", \"use\", \"use\", \"use\", \"use\", \"user\", \"user\", \"user\", \"user\", \"user\", \"user\", \"user\", \"user\", \"user\", \"user\", \"user\", \"user\", \"user\", \"user\", \"username\", \"username\", \"username\", \"username\", \"username\", \"username\", \"username\", \"username\", \"username\", \"username\", \"validate\", \"validate\", \"validate\", \"validate\", \"validate\", \"validate\", \"validate\", \"validate\", \"validate\", \"validate\", \"validate\", \"validation\", \"validation\", \"validation\", \"validation\", \"validation\", \"validation\", \"validation\", \"validation\", \"validation\", \"validation\", \"validation\", \"validation\", \"validation\", \"validation\", \"value\", \"value\", \"value\", \"value\", \"value\", \"value\", \"value\", \"value\", \"value\", \"value\", \"value\", \"value\", \"value\", \"value\", \"variable\", \"variable\", \"variable\", \"variable\", \"variable\", \"variable\", \"variable\", \"variable\", \"variable\", \"variable\", \"variable\", \"variable\", \"variable\", \"variable\", \"vb.net\", \"vb.net\", \"vb.net\", \"vb.net\", \"vb.net\", \"vb.net\", \"vb.net\", \"vb.net\", \"vb.net\", \"vector\", \"vector\", \"vector\", \"vector\", \"vector\", \"vector\", \"vector\", \"vector\", \"vector\", \"vector\", \"vector\", \"verify\", \"verify\", \"verify\", \"verify\", \"verify\", \"verify\", \"verify\", \"verify\", \"verify\", \"verify\", \"verify\", \"verify\", \"version\", \"version\", \"version\", \"version\", \"version\", \"version\", \"version\", \"version\", \"version\", \"version\", \"version\", \"version\", \"version\", \"version\", \"video\", \"video\", \"video\", \"video\", \"video\", \"video\", \"video\", \"video\", \"video\", \"video\", \"video\", \"video\", \"view\", \"view\", \"view\", \"view\", \"view\", \"view\", \"view\", \"view\", \"view\", \"view\", \"view\", \"view\", \"view\", \"view\", \"viewmodel\", \"viewmodel\", \"viewmodel\", \"viewmodel\", \"viewmodel\", \"viewmodel\", \"viewmodel\", \"viewmodel\", \"viewmodel\", \"viewmodel\", \"vista\", \"vista\", \"vista\", \"vista\", \"vista\", \"vista\", \"vista\", \"vista\", \"vista\", \"vs2008\", \"vs2008\", \"vs2008\", \"vs2008\", \"vs2008\", \"vs2008\", \"vs2008\", \"vs2008\", \"vs2008\", \"vs2010\", \"vs2010\", \"vs2010\", \"vs2010\", \"vs2010\", \"vs2010\", \"vs2010\", \"vs2010\", \"way\", \"way\", \"way\", \"way\", \"way\", \"way\", \"way\", \"way\", \"way\", \"way\", \"way\", \"way\", \"way\", \"way\", \"wcf\", \"wcf\", \"wcf\", \"wcf\", \"wcf\", \"wcf\", \"wcf\", \"wcf\", \"wcf\", \"wcf\", \"web\", \"web\", \"web\", \"web\", \"web\", \"web\", \"web\", \"web\", \"web\", \"web\", \"web\", \"web\", \"web\", \"web\", \"web.config\", \"web.config\", \"web.config\", \"web.config\", \"web.config\", \"web.config\", \"web.config\", \"webservice\", \"webservice\", \"webservice\", \"webservice\", \"webservice\", \"webservice\", \"webservice\", \"webservice\", \"website\", \"website\", \"website\", \"website\", \"website\", \"website\", \"website\", \"website\", \"website\", \"website\", \"website\", \"website\", \"website\", \"website\", \"week\", \"week\", \"week\", \"week\", \"week\", \"week\", \"week\", \"week\", \"week\", \"week\", \"week\", \"week\", \"width\", \"width\", \"width\", \"width\", \"width\", \"width\", \"width\", \"width\", \"window\", \"window\", \"window\", \"window\", \"window\", \"window\", \"window\", \"window\", \"window\", \"window\", \"window\", \"window\", \"window\", \"window\", \"winforms\", \"winforms\", \"winforms\", \"winforms\", \"winforms\", \"winforms\", \"winforms\", \"winforms\", \"winforms\", \"winforms\", \"winforms\", \"work\", \"work\", \"work\", \"work\", \"work\", \"work\", \"work\", \"work\", \"work\", \"work\", \"work\", \"work\", \"work\", \"work\", \"worker\", \"worker\", \"worker\", \"worker\", \"worker\", \"worker\", \"wpf\", \"wpf\", \"wpf\", \"wpf\", \"wpf\", \"wpf\", \"wpf\", \"wpf\", \"wpf\", \"wpf\", \"wpf\", \"wpf\", \"wpf\", \"wpf\", \"wsdl\", \"wsdl\", \"wsdl\", \"wsdl\", \"x64\", \"x64\", \"x64\", \"x64\", \"x64\", \"x64\", \"x64\", \"x86\", \"x86\", \"x86\", \"x86\", \"x86\", \"x86\", \"xaml\", \"xaml\", \"xaml\", \"xaml\", \"xaml\", \"xaml\", \"xaml\", \"xaml\", \"xaml\", \"xaml\", \"xaml\", \"xcode\", \"xcode\", \"xcode\", \"xcode\", \"xcode\", \"xcode\", \"xcode\", \"xcode\", \"xcode\", \"xp\", \"xp\", \"xp\", \"xp\", \"xp\", \"xp\", \"xp\", \"year\", \"year\", \"year\", \"year\", \"year\", \"year\", \"year\", \"year\", \"year\", \"year\", \"year\", \"year\", \"year\", \"year\", \"\\u2019\", \"\\u2019\", \"\\u2019\", \"\\u2019\", \"\\u2019\", \"\\u2019\", \"\\u2019\", \"\\u2019\", \"\\u2019\", \"\\u2019\", \"\\u2019\", \"\\u2019\", \"\\u2019\"]}, \"R\": 30, \"lambda.step\": 0.01, \"plot.opts\": {\"xlab\": \"PC1\", \"ylab\": \"PC2\"}, \"topic.order\": [13, 3, 2, 12, 10, 5, 4, 8, 11, 7, 6, 14, 1, 9]};\n",
       "\n",
       "function LDAvis_load_lib(url, callback){\n",
       "  var s = document.createElement('script');\n",
       "  s.src = url;\n",
       "  s.async = true;\n",
       "  s.onreadystatechange = s.onload = callback;\n",
       "  s.onerror = function(){console.warn(\"failed to load library \" + url);};\n",
       "  document.getElementsByTagName(\"head\")[0].appendChild(s);\n",
       "}\n",
       "\n",
       "if(typeof(LDAvis) !== \"undefined\"){\n",
       "   // already loaded: just create the visualization\n",
       "   !function(LDAvis){\n",
       "       new LDAvis(\"#\" + \"ldavis_el49840110769809122421500836\", ldavis_el49840110769809122421500836_data);\n",
       "   }(LDAvis);\n",
       "}else if(typeof define === \"function\" && define.amd){\n",
       "   // require.js is available: use it to load d3/LDAvis\n",
       "   require.config({paths: {d3: \"https://d3js.org/d3.v5\"}});\n",
       "   require([\"d3\"], function(d3){\n",
       "      window.d3 = d3;\n",
       "      LDAvis_load_lib(\"https://cdn.jsdelivr.net/gh/bmabey/pyLDAvis@3.3.1/pyLDAvis/js/ldavis.v3.0.0.js\", function(){\n",
       "        new LDAvis(\"#\" + \"ldavis_el49840110769809122421500836\", ldavis_el49840110769809122421500836_data);\n",
       "      });\n",
       "    });\n",
       "}else{\n",
       "    // require.js not available: dynamically load d3 & LDAvis\n",
       "    LDAvis_load_lib(\"https://d3js.org/d3.v5.js\", function(){\n",
       "         LDAvis_load_lib(\"https://cdn.jsdelivr.net/gh/bmabey/pyLDAvis@3.3.1/pyLDAvis/js/ldavis.v3.0.0.js\", function(){\n",
       "                 new LDAvis(\"#\" + \"ldavis_el49840110769809122421500836\", ldavis_el49840110769809122421500836_data);\n",
       "            })\n",
       "         });\n",
       "}\n",
       "</script>"
      ],
      "text/plain": [
       "<IPython.core.display.HTML object>"
      ]
     },
     "execution_count": 164,
     "metadata": {},
     "output_type": "execute_result"
    }
   ],
   "source": [
    "lda_display = pyLDAvis.gensim_models.prepare(lda_model, corpus_train, dictionary)\n",
    "pyLDAvis.display(lda_display)"
   ]
  },
  {
   "cell_type": "markdown",
   "metadata": {},
   "source": [
    "In order to compare the predictions of the *LDA* to the *supervised machine learning*, we fit a model with 250 *topics*:"
   ]
  },
  {
   "cell_type": "code",
   "execution_count": 165,
   "metadata": {},
   "outputs": [],
   "source": [
    "lda_model = LdaMulticore(\n",
    "    corpus=corpus_train,\n",
    "    id2word=dictionary,\n",
    "    num_topics=250,\n",
    "    random_state=42,\n",
    "    passes=10,\n",
    "    workers=24)"
   ]
  },
  {
   "cell_type": "markdown",
   "metadata": {},
   "source": [
    "In order to use the *LDA* model to make predictions, we develop a function to select 5 predictions by prioritizing the 50 terms (with the highest probabilities) that are present in the *title* of the question.\\\n",
    "If this does not make up for 5 *tags*, we select the terms with the highest frequencies until we obtain 5 terms."
   ]
  },
  {
   "cell_type": "code",
   "execution_count": 166,
   "metadata": {},
   "outputs": [],
   "source": [
    "def filter_preds(document, preds, length=5, top_n=50):\n",
    "    \n",
    "    filtered_preds = list()\n",
    "\n",
    "    if type(document) == float:\n",
    "\n",
    "        pass\n",
    "\n",
    "    else:\n",
    "\n",
    "        for pred in preds[:top_n]:\n",
    "\n",
    "            if pred in document:\n",
    "\n",
    "                filtered_preds.append(pred)\n",
    "                preds.remove(pred)\n",
    "\n",
    "        filtered_preds = filtered_preds[:length]\n",
    "\n",
    "    for pred in preds:\n",
    "\n",
    "        if len(filtered_preds) == length:\n",
    "            \n",
    "            break\n",
    "        \n",
    "        else:\n",
    "\n",
    "            filtered_preds.append(pred)\n",
    "    \n",
    "    return filtered_preds"
   ]
  },
  {
   "cell_type": "markdown",
   "metadata": {},
   "source": [
    "We filter the *document topics* to select the first *topic* for each *document*:"
   ]
  },
  {
   "cell_type": "code",
   "execution_count": 168,
   "metadata": {},
   "outputs": [
    {
     "data": {
      "text/plain": [
       "[151, 7, 46, 217, 147, 58, 196, 65, 224, 123]"
      ]
     },
     "execution_count": 168,
     "metadata": {},
     "output_type": "execute_result"
    }
   ],
   "source": [
    "topics = [sorted(topic, key=lambda tup: tup[1])[-1][0] for topic in lda_model.get_document_topics(corpus_test)]\n",
    "topics[:10]  # First 10 documents"
   ]
  },
  {
   "cell_type": "markdown",
   "metadata": {},
   "source": [
    "We select the first 50 *terms* for each *topic* and convert their *ids* back to words using the *dictionary*:"
   ]
  },
  {
   "cell_type": "code",
   "execution_count": 170,
   "metadata": {},
   "outputs": [
    {
     "data": {
      "text/plain": [
       "['pointer',\n",
       " 'vector',\n",
       " 'plan',\n",
       " 'execution',\n",
       " 'use',\n",
       " 'c++',\n",
       " 'inheritance',\n",
       " 'function',\n",
       " 'case',\n",
       " 'work']"
      ]
     },
     "execution_count": 170,
     "metadata": {},
     "output_type": "execute_result"
    }
   ],
   "source": [
    "preds = [[dictionary[tag[0]] for tag in lda_model.get_topic_terms(topicid=topic, topn=50)] for topic in topics]\n",
    "preds[0][:10]  # First 10 predictions of the first document"
   ]
  },
  {
   "cell_type": "markdown",
   "metadata": {},
   "source": [
    "We then apply the *filter_preds* function described above and add them to the results dataframe:"
   ]
  },
  {
   "cell_type": "code",
   "execution_count": 171,
   "metadata": {},
   "outputs": [
    {
     "data": {
      "text/html": [
       "<div>\n",
       "<style scoped>\n",
       "    .dataframe tbody tr th:only-of-type {\n",
       "        vertical-align: middle;\n",
       "    }\n",
       "\n",
       "    .dataframe tbody tr th {\n",
       "        vertical-align: top;\n",
       "    }\n",
       "\n",
       "    .dataframe thead th {\n",
       "        text-align: right;\n",
       "    }\n",
       "</style>\n",
       "<table border=\"1\" class=\"dataframe\">\n",
       "  <thead>\n",
       "    <tr style=\"text-align: right;\">\n",
       "      <th></th>\n",
       "      <th>Title_tokens</th>\n",
       "      <th>Tags_tokens</th>\n",
       "      <th>Tags_target</th>\n",
       "      <th>LDA</th>\n",
       "    </tr>\n",
       "    <tr>\n",
       "      <th>Id</th>\n",
       "      <th></th>\n",
       "      <th></th>\n",
       "      <th></th>\n",
       "      <th></th>\n",
       "    </tr>\n",
       "  </thead>\n",
       "  <tbody>\n",
       "    <tr>\n",
       "      <th>1475635</th>\n",
       "      <td>pointer,structure</td>\n",
       "      <td>c,pointers,variables,struct,return</td>\n",
       "      <td>pointers,struct,variables,c</td>\n",
       "      <td>[vector, c++, inheritance, function, object]</td>\n",
       "    </tr>\n",
       "    <tr>\n",
       "      <th>190666</th>\n",
       "      <td>linq,sql,concurrency,issue</td>\n",
       "      <td>c#,linq,linq-to-sql,concurrency,transactions</td>\n",
       "      <td>linq,concurrency,transactions,linq-to-sql,c#</td>\n",
       "      <td>[sql, linq, database, performance, null]</td>\n",
       "    </tr>\n",
       "    <tr>\n",
       "      <th>1735000</th>\n",
       "      <td>instrument,display,console,command,line,applic...</td>\n",
       "      <td>c,xcode,debugging,macos,instruments</td>\n",
       "      <td>macos,xcode,debugging,c</td>\n",
       "      <td>[build, xcode, java, performance, configuration]</td>\n",
       "    </tr>\n",
       "    <tr>\n",
       "      <th>1662904</th>\n",
       "      <td>qt,setting</td>\n",
       "      <td>c++,windows,linux,qt,qt4</td>\n",
       "      <td>linux,qt,c++,windows</td>\n",
       "      <td>[time, qt, javascript, java, winforms]</td>\n",
       "    </tr>\n",
       "    <tr>\n",
       "      <th>116701</th>\n",
       "      <td>program,background</td>\n",
       "      <td>windows,linux,macos,shell,background</td>\n",
       "      <td>linux,shell,macos,windows</td>\n",
       "      <td>[process, .net, time, difference, program]</td>\n",
       "    </tr>\n",
       "    <tr>\n",
       "      <th>...</th>\n",
       "      <td>...</td>\n",
       "      <td>...</td>\n",
       "      <td>...</td>\n",
       "      <td>...</td>\n",
       "    </tr>\n",
       "    <tr>\n",
       "      <th>5588143</th>\n",
       "      <td>code,json,reference,serialization,error</td>\n",
       "      <td>c#,json,entity-framework,serialization,asp.net...</td>\n",
       "      <td>asp.net-mvc-3,serialization,entity-framework,j...</td>\n",
       "      <td>[java, exception, object, time, asp.net]</td>\n",
       "    </tr>\n",
       "    <tr>\n",
       "      <th>919287</th>\n",
       "      <td>wcf,window,service,timeout</td>\n",
       "      <td>.net,windows,wcf,web-services,exception-handling</td>\n",
       "      <td>wcf,windows,.net,exception-handling,web-services</td>\n",
       "      <td>[wcf, soap, rest, .net, class]</td>\n",
       "    </tr>\n",
       "    <tr>\n",
       "      <th>4730570</th>\n",
       "      <td>list,moq</td>\n",
       "      <td>c#,.net,unit-testing,mocking,moq</td>\n",
       "      <td>.net,mocking,c#,unit-testing</td>\n",
       "      <td>[list, listview, object, linq, class]</td>\n",
       "    </tr>\n",
       "    <tr>\n",
       "      <th>6062569</th>\n",
       "      <td>difference,appdelegate.m,view,controller.m</td>\n",
       "      <td>iphone,objective-c,xcode,delegates,viewcontroller</td>\n",
       "      <td>delegates,iphone,objective-c,xcode</td>\n",
       "      <td>[iphone, file, cocoa, xcode, time]</td>\n",
       "    </tr>\n",
       "    <tr>\n",
       "      <th>2565979</th>\n",
       "      <td>macro,gcc/g++,differentiate,linux,mac,osx</td>\n",
       "      <td>linux,macos,gcc,cross-platform,macros</td>\n",
       "      <td>linux,gcc,macos,cross-platform</td>\n",
       "      <td>[linux, python, browser, c++, file]</td>\n",
       "    </tr>\n",
       "  </tbody>\n",
       "</table>\n",
       "<p>2495 rows × 4 columns</p>\n",
       "</div>"
      ],
      "text/plain": [
       "                                              Title_tokens  \\\n",
       "Id                                                           \n",
       "1475635                                  pointer,structure   \n",
       "190666                          linq,sql,concurrency,issue   \n",
       "1735000  instrument,display,console,command,line,applic...   \n",
       "1662904                                         qt,setting   \n",
       "116701                                  program,background   \n",
       "...                                                    ...   \n",
       "5588143            code,json,reference,serialization,error   \n",
       "919287                          wcf,window,service,timeout   \n",
       "4730570                                           list,moq   \n",
       "6062569         difference,appdelegate.m,view,controller.m   \n",
       "2565979          macro,gcc/g++,differentiate,linux,mac,osx   \n",
       "\n",
       "                                               Tags_tokens  \\\n",
       "Id                                                           \n",
       "1475635                 c,pointers,variables,struct,return   \n",
       "190666        c#,linq,linq-to-sql,concurrency,transactions   \n",
       "1735000                c,xcode,debugging,macos,instruments   \n",
       "1662904                           c++,windows,linux,qt,qt4   \n",
       "116701                windows,linux,macos,shell,background   \n",
       "...                                                    ...   \n",
       "5588143  c#,json,entity-framework,serialization,asp.net...   \n",
       "919287    .net,windows,wcf,web-services,exception-handling   \n",
       "4730570                   c#,.net,unit-testing,mocking,moq   \n",
       "6062569  iphone,objective-c,xcode,delegates,viewcontroller   \n",
       "2565979              linux,macos,gcc,cross-platform,macros   \n",
       "\n",
       "                                               Tags_target  \\\n",
       "Id                                                           \n",
       "1475635                        pointers,struct,variables,c   \n",
       "190666        linq,concurrency,transactions,linq-to-sql,c#   \n",
       "1735000                            macos,xcode,debugging,c   \n",
       "1662904                               linux,qt,c++,windows   \n",
       "116701                           linux,shell,macos,windows   \n",
       "...                                                    ...   \n",
       "5588143  asp.net-mvc-3,serialization,entity-framework,j...   \n",
       "919287    wcf,windows,.net,exception-handling,web-services   \n",
       "4730570                       .net,mocking,c#,unit-testing   \n",
       "6062569                 delegates,iphone,objective-c,xcode   \n",
       "2565979                     linux,gcc,macos,cross-platform   \n",
       "\n",
       "                                                      LDA  \n",
       "Id                                                         \n",
       "1475635      [vector, c++, inheritance, function, object]  \n",
       "190666           [sql, linq, database, performance, null]  \n",
       "1735000  [build, xcode, java, performance, configuration]  \n",
       "1662904            [time, qt, javascript, java, winforms]  \n",
       "116701         [process, .net, time, difference, program]  \n",
       "...                                                   ...  \n",
       "5588143          [java, exception, object, time, asp.net]  \n",
       "919287                     [wcf, soap, rest, .net, class]  \n",
       "4730570             [list, listview, object, linq, class]  \n",
       "6062569                [iphone, file, cocoa, xcode, time]  \n",
       "2565979               [linux, python, browser, c++, file]  \n",
       "\n",
       "[2495 rows x 4 columns]"
      ]
     },
     "execution_count": 171,
     "metadata": {},
     "output_type": "execute_result"
    }
   ],
   "source": [
    "transformer.test_df['LDA'] = preds\n",
    "transformer.test_df['LDA'] = transformer.test_df.apply(lambda x: filter_preds(transformer.top_tags, x['LDA']), axis=1)\n",
    "transformer.test_df[['Title_tokens', 'Tags_tokens', 'Tags_target', 'LDA']]"
   ]
  },
  {
   "cell_type": "markdown",
   "metadata": {},
   "source": [
    "We can still calculate the *ratio of tags hit* using our *PerformanceReport* class:"
   ]
  },
  {
   "cell_type": "code",
   "execution_count": 172,
   "metadata": {},
   "outputs": [
    {
     "name": "stdout",
     "output_type": "stream",
     "text": [
      "Ratio of target tags hit: 0.165\n",
      "Ratio of tags hit: 0.1397\n",
      "Average fill: 1.1848\n"
     ]
    }
   ],
   "source": [
    "report.tags_ratio('LDA', transformer.test_df)"
   ]
  },
  {
   "cell_type": "markdown",
   "metadata": {},
   "source": [
    "# Supervised"
   ]
  },
  {
   "cell_type": "markdown",
   "metadata": {},
   "source": [
    "### Logistic Regression"
   ]
  },
  {
   "cell_type": "markdown",
   "metadata": {},
   "source": [
    "Using the *OneVsRest* (or *OneVsAll*) strategy, we can fit a binary classifier for each *label* of the dataset. We obtain a classifier that can output multiple *labels* for each document."
   ]
  },
  {
   "cell_type": "code",
   "execution_count": 65,
   "metadata": {},
   "outputs": [
    {
     "name": "stdout",
     "output_type": "stream",
     "text": [
      "                    LogR\n",
      "Jaccard         0.250603\n",
      "Recall          0.269161\n",
      "Inference_time  0.000422\n",
      "Model_size_mb          2\n"
     ]
    }
   ],
   "source": [
    "logr_model = OneVsRestClassifier(LogisticRegression(solver='lbfgs'))\n",
    "logr_model.fit(X_train, y_train)\n",
    "preds = logr_model.predict(X_test)\n",
    "report.evaluate('LogR', logr_model, X_test, y_test, preds)"
   ]
  },
  {
   "cell_type": "code",
   "execution_count": 66,
   "metadata": {},
   "outputs": [
    {
     "data": {
      "text/html": [
       "<div>\n",
       "<style scoped>\n",
       "    .dataframe tbody tr th:only-of-type {\n",
       "        vertical-align: middle;\n",
       "    }\n",
       "\n",
       "    .dataframe tbody tr th {\n",
       "        vertical-align: top;\n",
       "    }\n",
       "\n",
       "    .dataframe thead th {\n",
       "        text-align: right;\n",
       "    }\n",
       "</style>\n",
       "<table border=\"1\" class=\"dataframe\">\n",
       "  <thead>\n",
       "    <tr style=\"text-align: right;\">\n",
       "      <th></th>\n",
       "      <th>Title_Body_tokens</th>\n",
       "      <th>Tags_tokens</th>\n",
       "      <th>Tags_target</th>\n",
       "      <th>LogR</th>\n",
       "    </tr>\n",
       "    <tr>\n",
       "      <th>Id</th>\n",
       "      <th></th>\n",
       "      <th></th>\n",
       "      <th></th>\n",
       "      <th></th>\n",
       "    </tr>\n",
       "  </thead>\n",
       "  <tbody>\n",
       "    <tr>\n",
       "      <th>1475635</th>\n",
       "      <td>pointer,structure,return,pointer,struct,c,mean...</td>\n",
       "      <td>c,pointers,variables,struct,return</td>\n",
       "      <td>struct,c,variables,pointers</td>\n",
       "      <td>(c++, c, pointers)</td>\n",
       "    </tr>\n",
       "    <tr>\n",
       "      <th>190666</th>\n",
       "      <td>linq,sql,concurrency,issue,build,order,record,...</td>\n",
       "      <td>c#,linq,linq-to-sql,concurrency,transactions</td>\n",
       "      <td>transactions,linq,linq-to-sql,c#,concurrency</td>\n",
       "      <td>(c#, linq)</td>\n",
       "    </tr>\n",
       "    <tr>\n",
       "      <th>1735000</th>\n",
       "      <td>instrument,display,console,command,line,applic...</td>\n",
       "      <td>c,xcode,debugging,macos,instruments</td>\n",
       "      <td>c,macos,xcode,debugging</td>\n",
       "      <td>()</td>\n",
       "    </tr>\n",
       "    <tr>\n",
       "      <th>1662904</th>\n",
       "      <td>qt,setting,part,qt,effort,payback,road,questio...</td>\n",
       "      <td>c++,windows,linux,qt,qt4</td>\n",
       "      <td>windows,c++,linux,qt</td>\n",
       "      <td>(c++, qt)</td>\n",
       "    </tr>\n",
       "    <tr>\n",
       "      <th>116701</th>\n",
       "      <td>program,background,way,c,program,command,line,...</td>\n",
       "      <td>windows,linux,macos,shell,background</td>\n",
       "      <td>macos,windows,linux,shell</td>\n",
       "      <td>(linux, shell)</td>\n",
       "    </tr>\n",
       "  </tbody>\n",
       "</table>\n",
       "</div>"
      ],
      "text/plain": [
       "                                         Title_Body_tokens  \\\n",
       "Id                                                           \n",
       "1475635  pointer,structure,return,pointer,struct,c,mean...   \n",
       "190666   linq,sql,concurrency,issue,build,order,record,...   \n",
       "1735000  instrument,display,console,command,line,applic...   \n",
       "1662904  qt,setting,part,qt,effort,payback,road,questio...   \n",
       "116701   program,background,way,c,program,command,line,...   \n",
       "\n",
       "                                          Tags_tokens  \\\n",
       "Id                                                      \n",
       "1475635            c,pointers,variables,struct,return   \n",
       "190666   c#,linq,linq-to-sql,concurrency,transactions   \n",
       "1735000           c,xcode,debugging,macos,instruments   \n",
       "1662904                      c++,windows,linux,qt,qt4   \n",
       "116701           windows,linux,macos,shell,background   \n",
       "\n",
       "                                          Tags_target                LogR  \n",
       "Id                                                                         \n",
       "1475635                   struct,c,variables,pointers  (c++, c, pointers)  \n",
       "190666   transactions,linq,linq-to-sql,c#,concurrency          (c#, linq)  \n",
       "1735000                       c,macos,xcode,debugging                  ()  \n",
       "1662904                          windows,c++,linux,qt           (c++, qt)  \n",
       "116701                      macos,windows,linux,shell      (linux, shell)  "
      ]
     },
     "execution_count": 66,
     "metadata": {},
     "output_type": "execute_result"
    }
   ],
   "source": [
    "transformer.join_predictions('LogR', preds).head()"
   ]
  },
  {
   "cell_type": "code",
   "execution_count": 67,
   "metadata": {},
   "outputs": [
    {
     "name": "stdout",
     "output_type": "stream",
     "text": [
      "Ratio of target tags hit: 0.2695\n",
      "Ratio of tags hit: 0.2272\n",
      "Average fill: 0.3437\n"
     ]
    }
   ],
   "source": [
    "report.tags_ratio('LogR', transformer.test_df)"
   ]
  },
  {
   "cell_type": "markdown",
   "metadata": {},
   "source": [
    "### SVM"
   ]
  },
  {
   "cell_type": "code",
   "execution_count": 68,
   "metadata": {},
   "outputs": [
    {
     "name": "stdout",
     "output_type": "stream",
     "text": [
      "                     SVM\n",
      "Jaccard         0.367991\n",
      "Recall            0.4121\n",
      "Inference_time  0.000422\n",
      "Model_size_mb          2\n"
     ]
    }
   ],
   "source": [
    "svm_model = OneVsRestClassifier(LinearSVC())\n",
    "svm_model.fit(X_train, y_train)\n",
    "preds = svm_model.predict(X_test)\n",
    "report.evaluate('SVM', svm_model, X_test, y_test, preds)"
   ]
  },
  {
   "cell_type": "code",
   "execution_count": 69,
   "metadata": {},
   "outputs": [
    {
     "data": {
      "text/html": [
       "<div>\n",
       "<style scoped>\n",
       "    .dataframe tbody tr th:only-of-type {\n",
       "        vertical-align: middle;\n",
       "    }\n",
       "\n",
       "    .dataframe tbody tr th {\n",
       "        vertical-align: top;\n",
       "    }\n",
       "\n",
       "    .dataframe thead th {\n",
       "        text-align: right;\n",
       "    }\n",
       "</style>\n",
       "<table border=\"1\" class=\"dataframe\">\n",
       "  <thead>\n",
       "    <tr style=\"text-align: right;\">\n",
       "      <th></th>\n",
       "      <th>Title_Body_tokens</th>\n",
       "      <th>Tags_tokens</th>\n",
       "      <th>Tags_target</th>\n",
       "      <th>SVM</th>\n",
       "    </tr>\n",
       "    <tr>\n",
       "      <th>Id</th>\n",
       "      <th></th>\n",
       "      <th></th>\n",
       "      <th></th>\n",
       "      <th></th>\n",
       "    </tr>\n",
       "  </thead>\n",
       "  <tbody>\n",
       "    <tr>\n",
       "      <th>1475635</th>\n",
       "      <td>pointer,structure,return,pointer,struct,c,mean...</td>\n",
       "      <td>c,pointers,variables,struct,return</td>\n",
       "      <td>struct,c,variables,pointers</td>\n",
       "      <td>(c++, c, pointers, struct)</td>\n",
       "    </tr>\n",
       "    <tr>\n",
       "      <th>190666</th>\n",
       "      <td>linq,sql,concurrency,issue,build,order,record,...</td>\n",
       "      <td>c#,linq,linq-to-sql,concurrency,transactions</td>\n",
       "      <td>transactions,linq,linq-to-sql,c#,concurrency</td>\n",
       "      <td>(c#, sql, linq, linq-to-sql)</td>\n",
       "    </tr>\n",
       "    <tr>\n",
       "      <th>1735000</th>\n",
       "      <td>instrument,display,console,command,line,applic...</td>\n",
       "      <td>c,xcode,debugging,macos,instruments</td>\n",
       "      <td>c,macos,xcode,debugging</td>\n",
       "      <td>(xcode,)</td>\n",
       "    </tr>\n",
       "    <tr>\n",
       "      <th>1662904</th>\n",
       "      <td>qt,setting,part,qt,effort,payback,road,questio...</td>\n",
       "      <td>c++,windows,linux,qt,qt4</td>\n",
       "      <td>windows,c++,linux,qt</td>\n",
       "      <td>(c++, qt)</td>\n",
       "    </tr>\n",
       "    <tr>\n",
       "      <th>116701</th>\n",
       "      <td>program,background,way,c,program,command,line,...</td>\n",
       "      <td>windows,linux,macos,shell,background</td>\n",
       "      <td>macos,windows,linux,shell</td>\n",
       "      <td>(linux, shell)</td>\n",
       "    </tr>\n",
       "  </tbody>\n",
       "</table>\n",
       "</div>"
      ],
      "text/plain": [
       "                                         Title_Body_tokens  \\\n",
       "Id                                                           \n",
       "1475635  pointer,structure,return,pointer,struct,c,mean...   \n",
       "190666   linq,sql,concurrency,issue,build,order,record,...   \n",
       "1735000  instrument,display,console,command,line,applic...   \n",
       "1662904  qt,setting,part,qt,effort,payback,road,questio...   \n",
       "116701   program,background,way,c,program,command,line,...   \n",
       "\n",
       "                                          Tags_tokens  \\\n",
       "Id                                                      \n",
       "1475635            c,pointers,variables,struct,return   \n",
       "190666   c#,linq,linq-to-sql,concurrency,transactions   \n",
       "1735000           c,xcode,debugging,macos,instruments   \n",
       "1662904                      c++,windows,linux,qt,qt4   \n",
       "116701           windows,linux,macos,shell,background   \n",
       "\n",
       "                                          Tags_target  \\\n",
       "Id                                                      \n",
       "1475635                   struct,c,variables,pointers   \n",
       "190666   transactions,linq,linq-to-sql,c#,concurrency   \n",
       "1735000                       c,macos,xcode,debugging   \n",
       "1662904                          windows,c++,linux,qt   \n",
       "116701                      macos,windows,linux,shell   \n",
       "\n",
       "                                  SVM  \n",
       "Id                                     \n",
       "1475635    (c++, c, pointers, struct)  \n",
       "190666   (c#, sql, linq, linq-to-sql)  \n",
       "1735000                      (xcode,)  \n",
       "1662904                     (c++, qt)  \n",
       "116701                 (linux, shell)  "
      ]
     },
     "execution_count": 69,
     "metadata": {},
     "output_type": "execute_result"
    }
   ],
   "source": [
    "transformer.join_predictions('SVM', preds).head()"
   ]
  },
  {
   "cell_type": "code",
   "execution_count": 70,
   "metadata": {},
   "outputs": [
    {
     "name": "stdout",
     "output_type": "stream",
     "text": [
      "Ratio of target tags hit: 0.4131\n",
      "Ratio of tags hit: 0.3478\n",
      "Average fill: 0.5616\n"
     ]
    }
   ],
   "source": [
    "report.tags_ratio('SVM', transformer.test_df)"
   ]
  },
  {
   "cell_type": "markdown",
   "metadata": {},
   "source": [
    "### SGD"
   ]
  },
  {
   "cell_type": "code",
   "execution_count": 71,
   "metadata": {},
   "outputs": [
    {
     "name": "stdout",
     "output_type": "stream",
     "text": [
      "                     SGD\n",
      "Jaccard         0.364248\n",
      "Recall          0.413715\n",
      "Inference_time  0.000442\n",
      "Model_size_mb          2\n"
     ]
    }
   ],
   "source": [
    "sgd_model = OneVsRestClassifier(SGDClassifier(loss='modified_huber'), n_jobs=-1)\n",
    "sgd_model.fit(X_train, y_train)\n",
    "preds = sgd_model.predict(X_test)\n",
    "report.evaluate('SGD', sgd_model, X_test, y_test, preds)"
   ]
  },
  {
   "cell_type": "code",
   "execution_count": 72,
   "metadata": {},
   "outputs": [
    {
     "data": {
      "text/html": [
       "<div>\n",
       "<style scoped>\n",
       "    .dataframe tbody tr th:only-of-type {\n",
       "        vertical-align: middle;\n",
       "    }\n",
       "\n",
       "    .dataframe tbody tr th {\n",
       "        vertical-align: top;\n",
       "    }\n",
       "\n",
       "    .dataframe thead th {\n",
       "        text-align: right;\n",
       "    }\n",
       "</style>\n",
       "<table border=\"1\" class=\"dataframe\">\n",
       "  <thead>\n",
       "    <tr style=\"text-align: right;\">\n",
       "      <th></th>\n",
       "      <th>Title_Body_tokens</th>\n",
       "      <th>Tags_tokens</th>\n",
       "      <th>Tags_target</th>\n",
       "      <th>SGD</th>\n",
       "    </tr>\n",
       "    <tr>\n",
       "      <th>Id</th>\n",
       "      <th></th>\n",
       "      <th></th>\n",
       "      <th></th>\n",
       "      <th></th>\n",
       "    </tr>\n",
       "  </thead>\n",
       "  <tbody>\n",
       "    <tr>\n",
       "      <th>1475635</th>\n",
       "      <td>pointer,structure,return,pointer,struct,c,mean...</td>\n",
       "      <td>c,pointers,variables,struct,return</td>\n",
       "      <td>struct,c,variables,pointers</td>\n",
       "      <td>(c++, c, pointers, struct)</td>\n",
       "    </tr>\n",
       "    <tr>\n",
       "      <th>190666</th>\n",
       "      <td>linq,sql,concurrency,issue,build,order,record,...</td>\n",
       "      <td>c#,linq,linq-to-sql,concurrency,transactions</td>\n",
       "      <td>transactions,linq,linq-to-sql,c#,concurrency</td>\n",
       "      <td>(c#, sql, linq, linq-to-sql)</td>\n",
       "    </tr>\n",
       "    <tr>\n",
       "      <th>1735000</th>\n",
       "      <td>instrument,display,console,command,line,applic...</td>\n",
       "      <td>c,xcode,debugging,macos,instruments</td>\n",
       "      <td>c,macos,xcode,debugging</td>\n",
       "      <td>(xcode,)</td>\n",
       "    </tr>\n",
       "    <tr>\n",
       "      <th>1662904</th>\n",
       "      <td>qt,setting,part,qt,effort,payback,road,questio...</td>\n",
       "      <td>c++,windows,linux,qt,qt4</td>\n",
       "      <td>windows,c++,linux,qt</td>\n",
       "      <td>(c++, qt)</td>\n",
       "    </tr>\n",
       "    <tr>\n",
       "      <th>116701</th>\n",
       "      <td>program,background,way,c,program,command,line,...</td>\n",
       "      <td>windows,linux,macos,shell,background</td>\n",
       "      <td>macos,windows,linux,shell</td>\n",
       "      <td>(linux, shell, process)</td>\n",
       "    </tr>\n",
       "  </tbody>\n",
       "</table>\n",
       "</div>"
      ],
      "text/plain": [
       "                                         Title_Body_tokens  \\\n",
       "Id                                                           \n",
       "1475635  pointer,structure,return,pointer,struct,c,mean...   \n",
       "190666   linq,sql,concurrency,issue,build,order,record,...   \n",
       "1735000  instrument,display,console,command,line,applic...   \n",
       "1662904  qt,setting,part,qt,effort,payback,road,questio...   \n",
       "116701   program,background,way,c,program,command,line,...   \n",
       "\n",
       "                                          Tags_tokens  \\\n",
       "Id                                                      \n",
       "1475635            c,pointers,variables,struct,return   \n",
       "190666   c#,linq,linq-to-sql,concurrency,transactions   \n",
       "1735000           c,xcode,debugging,macos,instruments   \n",
       "1662904                      c++,windows,linux,qt,qt4   \n",
       "116701           windows,linux,macos,shell,background   \n",
       "\n",
       "                                          Tags_target  \\\n",
       "Id                                                      \n",
       "1475635                   struct,c,variables,pointers   \n",
       "190666   transactions,linq,linq-to-sql,c#,concurrency   \n",
       "1735000                       c,macos,xcode,debugging   \n",
       "1662904                          windows,c++,linux,qt   \n",
       "116701                      macos,windows,linux,shell   \n",
       "\n",
       "                                  SGD  \n",
       "Id                                     \n",
       "1475635    (c++, c, pointers, struct)  \n",
       "190666   (c#, sql, linq, linq-to-sql)  \n",
       "1735000                      (xcode,)  \n",
       "1662904                     (c++, qt)  \n",
       "116701        (linux, shell, process)  "
      ]
     },
     "execution_count": 72,
     "metadata": {},
     "output_type": "execute_result"
    }
   ],
   "source": [
    "transformer.join_predictions('SGD', preds).head()"
   ]
  },
  {
   "cell_type": "markdown",
   "metadata": {},
   "source": [
    "We notice that some *documents* have empty predictions.\\\n",
    "This behavior is unwanted, as we want to offer predictions for all the questions passed to the model. We will try to remediate to this issue in the next part."
   ]
  },
  {
   "cell_type": "code",
   "execution_count": 73,
   "metadata": {},
   "outputs": [
    {
     "name": "stdout",
     "output_type": "stream",
     "text": [
      "Ratio of target tags hit: 0.4146\n",
      "Ratio of tags hit: 0.3492\n",
      "Average fill: 0.5822\n"
     ]
    }
   ],
   "source": [
    "report.tags_ratio('SGD', transformer.test_df)"
   ]
  },
  {
   "cell_type": "markdown",
   "metadata": {},
   "source": [
    "### KNN"
   ]
  },
  {
   "cell_type": "code",
   "execution_count": 74,
   "metadata": {},
   "outputs": [
    {
     "name": "stdout",
     "output_type": "stream",
     "text": [
      "                     KNN\n",
      "Jaccard         0.146193\n",
      "Recall          0.152246\n",
      "Inference_time  0.002671\n",
      "Model_size_mb         99\n"
     ]
    }
   ],
   "source": [
    "knn_model = KNeighborsClassifier(n_neighbors=25, leaf_size=90, metric='euclidean')\n",
    "knn_model.fit(X_train.values, y_train.values)\n",
    "preds = knn_model.predict(X_test)\n",
    "report.evaluate('KNN', knn_model, X_test, y_test, preds)"
   ]
  },
  {
   "cell_type": "code",
   "execution_count": 75,
   "metadata": {},
   "outputs": [
    {
     "data": {
      "text/html": [
       "<div>\n",
       "<style scoped>\n",
       "    .dataframe tbody tr th:only-of-type {\n",
       "        vertical-align: middle;\n",
       "    }\n",
       "\n",
       "    .dataframe tbody tr th {\n",
       "        vertical-align: top;\n",
       "    }\n",
       "\n",
       "    .dataframe thead th {\n",
       "        text-align: right;\n",
       "    }\n",
       "</style>\n",
       "<table border=\"1\" class=\"dataframe\">\n",
       "  <thead>\n",
       "    <tr style=\"text-align: right;\">\n",
       "      <th></th>\n",
       "      <th>Title_Body_tokens</th>\n",
       "      <th>Tags_tokens</th>\n",
       "      <th>Tags_target</th>\n",
       "      <th>KNN</th>\n",
       "    </tr>\n",
       "    <tr>\n",
       "      <th>Id</th>\n",
       "      <th></th>\n",
       "      <th></th>\n",
       "      <th></th>\n",
       "      <th></th>\n",
       "    </tr>\n",
       "  </thead>\n",
       "  <tbody>\n",
       "    <tr>\n",
       "      <th>1475635</th>\n",
       "      <td>pointer,structure,return,pointer,struct,c,mean...</td>\n",
       "      <td>c,pointers,variables,struct,return</td>\n",
       "      <td>struct,c,variables,pointers</td>\n",
       "      <td>(c++, c, pointers)</td>\n",
       "    </tr>\n",
       "    <tr>\n",
       "      <th>190666</th>\n",
       "      <td>linq,sql,concurrency,issue,build,order,record,...</td>\n",
       "      <td>c#,linq,linq-to-sql,concurrency,transactions</td>\n",
       "      <td>transactions,linq,linq-to-sql,c#,concurrency</td>\n",
       "      <td>(c#,)</td>\n",
       "    </tr>\n",
       "    <tr>\n",
       "      <th>1735000</th>\n",
       "      <td>instrument,display,console,command,line,applic...</td>\n",
       "      <td>c,xcode,debugging,macos,instruments</td>\n",
       "      <td>c,macos,xcode,debugging</td>\n",
       "      <td>()</td>\n",
       "    </tr>\n",
       "    <tr>\n",
       "      <th>1662904</th>\n",
       "      <td>qt,setting,part,qt,effort,payback,road,questio...</td>\n",
       "      <td>c++,windows,linux,qt,qt4</td>\n",
       "      <td>windows,c++,linux,qt</td>\n",
       "      <td>(c++, qt)</td>\n",
       "    </tr>\n",
       "    <tr>\n",
       "      <th>116701</th>\n",
       "      <td>program,background,way,c,program,command,line,...</td>\n",
       "      <td>windows,linux,macos,shell,background</td>\n",
       "      <td>macos,windows,linux,shell</td>\n",
       "      <td>(shell,)</td>\n",
       "    </tr>\n",
       "  </tbody>\n",
       "</table>\n",
       "</div>"
      ],
      "text/plain": [
       "                                         Title_Body_tokens  \\\n",
       "Id                                                           \n",
       "1475635  pointer,structure,return,pointer,struct,c,mean...   \n",
       "190666   linq,sql,concurrency,issue,build,order,record,...   \n",
       "1735000  instrument,display,console,command,line,applic...   \n",
       "1662904  qt,setting,part,qt,effort,payback,road,questio...   \n",
       "116701   program,background,way,c,program,command,line,...   \n",
       "\n",
       "                                          Tags_tokens  \\\n",
       "Id                                                      \n",
       "1475635            c,pointers,variables,struct,return   \n",
       "190666   c#,linq,linq-to-sql,concurrency,transactions   \n",
       "1735000           c,xcode,debugging,macos,instruments   \n",
       "1662904                      c++,windows,linux,qt,qt4   \n",
       "116701           windows,linux,macos,shell,background   \n",
       "\n",
       "                                          Tags_target                 KNN  \n",
       "Id                                                                         \n",
       "1475635                   struct,c,variables,pointers  (c++, c, pointers)  \n",
       "190666   transactions,linq,linq-to-sql,c#,concurrency               (c#,)  \n",
       "1735000                       c,macos,xcode,debugging                  ()  \n",
       "1662904                          windows,c++,linux,qt           (c++, qt)  \n",
       "116701                      macos,windows,linux,shell            (shell,)  "
      ]
     },
     "execution_count": 75,
     "metadata": {},
     "output_type": "execute_result"
    }
   ],
   "source": [
    "transformer.join_predictions('KNN', preds).head()"
   ]
  },
  {
   "cell_type": "code",
   "execution_count": 76,
   "metadata": {},
   "outputs": [
    {
     "name": "stdout",
     "output_type": "stream",
     "text": [
      "Ratio of target tags hit: 0.1524\n",
      "Ratio of tags hit: 0.1285\n",
      "Average fill: 0.2001\n"
     ]
    }
   ],
   "source": [
    "report.tags_ratio('KNN', transformer.test_df)"
   ]
  },
  {
   "cell_type": "markdown",
   "metadata": {},
   "source": [
    "We obtain interesting results, a few rows have actually been predicted by the model, this is because the model outputs low porbabilities for most of its predictions.\n",
    "\n",
    "In order to obtain 5 tags, we are going to use the *predict_proba* method to output predictions with lower probability, using the following function:"
   ]
  },
  {
   "cell_type": "code",
   "execution_count": 77,
   "metadata": {},
   "outputs": [],
   "source": [
    "def get_firsts(preds_proba, n_first=5):\n",
    "\n",
    "    result = np.array([\n",
    "        np.where(pred >= np.partition(pred, -n_first)[-n_first], 1, 0)\n",
    "        for pred in np.array([pred[:,1] for pred in preds_proba\n",
    "        ]).transpose()])\n",
    "\n",
    "    return result"
   ]
  },
  {
   "cell_type": "code",
   "execution_count": 78,
   "metadata": {},
   "outputs": [
    {
     "name": "stdout",
     "output_type": "stream",
     "text": [
      "                   KNN_5\n",
      "Jaccard         0.325681\n",
      "Recall          0.538418\n",
      "Inference_time  0.002457\n",
      "Model_size_mb         99\n"
     ]
    }
   ],
   "source": [
    "preds_proba = knn_model.predict_proba(X_test.values)\n",
    "preds_firsts = get_firsts(preds_proba)\n",
    "report.evaluate('KNN_5', knn_model, X_test, y_test, preds_firsts)"
   ]
  },
  {
   "cell_type": "code",
   "execution_count": 79,
   "metadata": {},
   "outputs": [
    {
     "data": {
      "text/html": [
       "<div>\n",
       "<style scoped>\n",
       "    .dataframe tbody tr th:only-of-type {\n",
       "        vertical-align: middle;\n",
       "    }\n",
       "\n",
       "    .dataframe tbody tr th {\n",
       "        vertical-align: top;\n",
       "    }\n",
       "\n",
       "    .dataframe thead th {\n",
       "        text-align: right;\n",
       "    }\n",
       "</style>\n",
       "<table border=\"1\" class=\"dataframe\">\n",
       "  <thead>\n",
       "    <tr style=\"text-align: right;\">\n",
       "      <th></th>\n",
       "      <th>Title_Body_tokens</th>\n",
       "      <th>Tags_tokens</th>\n",
       "      <th>Tags_target</th>\n",
       "      <th>KNN_5</th>\n",
       "    </tr>\n",
       "    <tr>\n",
       "      <th>Id</th>\n",
       "      <th></th>\n",
       "      <th></th>\n",
       "      <th></th>\n",
       "      <th></th>\n",
       "    </tr>\n",
       "  </thead>\n",
       "  <tbody>\n",
       "    <tr>\n",
       "      <th>1475635</th>\n",
       "      <td>pointer,structure,return,pointer,struct,c,mean...</td>\n",
       "      <td>c,pointers,variables,struct,return</td>\n",
       "      <td>struct,c,variables,pointers</td>\n",
       "      <td>(c#, c++, c, arrays, pointers, struct)</td>\n",
       "    </tr>\n",
       "    <tr>\n",
       "      <th>190666</th>\n",
       "      <td>linq,sql,concurrency,issue,build,order,record,...</td>\n",
       "      <td>c#,linq,linq-to-sql,concurrency,transactions</td>\n",
       "      <td>transactions,linq,linq-to-sql,c#,concurrency</td>\n",
       "      <td>(c#, .net, sql, sql-server, linq-to-sql)</td>\n",
       "    </tr>\n",
       "    <tr>\n",
       "      <th>1735000</th>\n",
       "      <td>instrument,display,console,command,line,applic...</td>\n",
       "      <td>c,xcode,debugging,macos,instruments</td>\n",
       "      <td>c,macos,xcode,debugging</td>\n",
       "      <td>(c#, .net, c++, xcode, unix, command-line)</td>\n",
       "    </tr>\n",
       "    <tr>\n",
       "      <th>1662904</th>\n",
       "      <td>qt,setting,part,qt,effort,payback,road,questio...</td>\n",
       "      <td>c++,windows,linux,qt,qt4</td>\n",
       "      <td>windows,c++,linux,qt</td>\n",
       "      <td>(c++, windows, visual-studio, user-interface, ...</td>\n",
       "    </tr>\n",
       "    <tr>\n",
       "      <th>116701</th>\n",
       "      <td>program,background,way,c,program,command,line,...</td>\n",
       "      <td>windows,linux,macos,shell,background</td>\n",
       "      <td>macos,windows,linux,shell</td>\n",
       "      <td>(c++, linux, unix, shell, process)</td>\n",
       "    </tr>\n",
       "  </tbody>\n",
       "</table>\n",
       "</div>"
      ],
      "text/plain": [
       "                                         Title_Body_tokens  \\\n",
       "Id                                                           \n",
       "1475635  pointer,structure,return,pointer,struct,c,mean...   \n",
       "190666   linq,sql,concurrency,issue,build,order,record,...   \n",
       "1735000  instrument,display,console,command,line,applic...   \n",
       "1662904  qt,setting,part,qt,effort,payback,road,questio...   \n",
       "116701   program,background,way,c,program,command,line,...   \n",
       "\n",
       "                                          Tags_tokens  \\\n",
       "Id                                                      \n",
       "1475635            c,pointers,variables,struct,return   \n",
       "190666   c#,linq,linq-to-sql,concurrency,transactions   \n",
       "1735000           c,xcode,debugging,macos,instruments   \n",
       "1662904                      c++,windows,linux,qt,qt4   \n",
       "116701           windows,linux,macos,shell,background   \n",
       "\n",
       "                                          Tags_target  \\\n",
       "Id                                                      \n",
       "1475635                   struct,c,variables,pointers   \n",
       "190666   transactions,linq,linq-to-sql,c#,concurrency   \n",
       "1735000                       c,macos,xcode,debugging   \n",
       "1662904                          windows,c++,linux,qt   \n",
       "116701                      macos,windows,linux,shell   \n",
       "\n",
       "                                                     KNN_5  \n",
       "Id                                                          \n",
       "1475635             (c#, c++, c, arrays, pointers, struct)  \n",
       "190666            (c#, .net, sql, sql-server, linq-to-sql)  \n",
       "1735000         (c#, .net, c++, xcode, unix, command-line)  \n",
       "1662904  (c++, windows, visual-studio, user-interface, ...  \n",
       "116701                  (c++, linux, unix, shell, process)  "
      ]
     },
     "execution_count": 79,
     "metadata": {},
     "output_type": "execute_result"
    }
   ],
   "source": [
    "transformer.join_predictions('KNN_5', preds_firsts).head()"
   ]
  },
  {
   "cell_type": "markdown",
   "metadata": {},
   "source": [
    "We observe an *average fill* superior to 1, which is normal, it compares the lenght of the filtered *target tags* to the number of predicted tags, of which we now have 5 for each *document*:"
   ]
  },
  {
   "cell_type": "code",
   "execution_count": 80,
   "metadata": {},
   "outputs": [
    {
     "name": "stdout",
     "output_type": "stream",
     "text": [
      "Ratio of target tags hit: 0.5389\n",
      "Ratio of tags hit: 0.4544\n",
      "Average fill: 1.3868\n"
     ]
    }
   ],
   "source": [
    "report.tags_ratio('KNN_5', transformer.test_df)"
   ]
  },
  {
   "cell_type": "markdown",
   "metadata": {},
   "source": [
    "### Random Forest"
   ]
  },
  {
   "cell_type": "code",
   "execution_count": 81,
   "metadata": {},
   "outputs": [
    {
     "name": "stdout",
     "output_type": "stream",
     "text": [
      "               Random_Forest\n",
      "Jaccard             0.018116\n",
      "Recall              0.018045\n",
      "Inference_time       0.00135\n",
      "Model_size_mb           5039\n"
     ]
    }
   ],
   "source": [
    "rfc_model = RandomForestClassifier()\n",
    "rfc_model.fit(X_train, y_train)\n",
    "preds = rfc_model.predict(X_test)\n",
    "preds_proba = rfc_model.predict_proba(X_test)\n",
    "report.evaluate('Random_Forest', rfc_model, X_test, y_test, preds)"
   ]
  },
  {
   "cell_type": "code",
   "execution_count": 82,
   "metadata": {},
   "outputs": [
    {
     "data": {
      "text/html": [
       "<div>\n",
       "<style scoped>\n",
       "    .dataframe tbody tr th:only-of-type {\n",
       "        vertical-align: middle;\n",
       "    }\n",
       "\n",
       "    .dataframe tbody tr th {\n",
       "        vertical-align: top;\n",
       "    }\n",
       "\n",
       "    .dataframe thead th {\n",
       "        text-align: right;\n",
       "    }\n",
       "</style>\n",
       "<table border=\"1\" class=\"dataframe\">\n",
       "  <thead>\n",
       "    <tr style=\"text-align: right;\">\n",
       "      <th></th>\n",
       "      <th>Title_Body_tokens</th>\n",
       "      <th>Tags_tokens</th>\n",
       "      <th>Tags_target</th>\n",
       "      <th>Random_Forest</th>\n",
       "    </tr>\n",
       "    <tr>\n",
       "      <th>Id</th>\n",
       "      <th></th>\n",
       "      <th></th>\n",
       "      <th></th>\n",
       "      <th></th>\n",
       "    </tr>\n",
       "  </thead>\n",
       "  <tbody>\n",
       "    <tr>\n",
       "      <th>1475635</th>\n",
       "      <td>pointer,structure,return,pointer,struct,c,mean...</td>\n",
       "      <td>c,pointers,variables,struct,return</td>\n",
       "      <td>struct,c,variables,pointers</td>\n",
       "      <td>()</td>\n",
       "    </tr>\n",
       "    <tr>\n",
       "      <th>190666</th>\n",
       "      <td>linq,sql,concurrency,issue,build,order,record,...</td>\n",
       "      <td>c#,linq,linq-to-sql,concurrency,transactions</td>\n",
       "      <td>transactions,linq,linq-to-sql,c#,concurrency</td>\n",
       "      <td>()</td>\n",
       "    </tr>\n",
       "    <tr>\n",
       "      <th>1735000</th>\n",
       "      <td>instrument,display,console,command,line,applic...</td>\n",
       "      <td>c,xcode,debugging,macos,instruments</td>\n",
       "      <td>c,macos,xcode,debugging</td>\n",
       "      <td>()</td>\n",
       "    </tr>\n",
       "    <tr>\n",
       "      <th>1662904</th>\n",
       "      <td>qt,setting,part,qt,effort,payback,road,questio...</td>\n",
       "      <td>c++,windows,linux,qt,qt4</td>\n",
       "      <td>windows,c++,linux,qt</td>\n",
       "      <td>()</td>\n",
       "    </tr>\n",
       "    <tr>\n",
       "      <th>116701</th>\n",
       "      <td>program,background,way,c,program,command,line,...</td>\n",
       "      <td>windows,linux,macos,shell,background</td>\n",
       "      <td>macos,windows,linux,shell</td>\n",
       "      <td>()</td>\n",
       "    </tr>\n",
       "  </tbody>\n",
       "</table>\n",
       "</div>"
      ],
      "text/plain": [
       "                                         Title_Body_tokens  \\\n",
       "Id                                                           \n",
       "1475635  pointer,structure,return,pointer,struct,c,mean...   \n",
       "190666   linq,sql,concurrency,issue,build,order,record,...   \n",
       "1735000  instrument,display,console,command,line,applic...   \n",
       "1662904  qt,setting,part,qt,effort,payback,road,questio...   \n",
       "116701   program,background,way,c,program,command,line,...   \n",
       "\n",
       "                                          Tags_tokens  \\\n",
       "Id                                                      \n",
       "1475635            c,pointers,variables,struct,return   \n",
       "190666   c#,linq,linq-to-sql,concurrency,transactions   \n",
       "1735000           c,xcode,debugging,macos,instruments   \n",
       "1662904                      c++,windows,linux,qt,qt4   \n",
       "116701           windows,linux,macos,shell,background   \n",
       "\n",
       "                                          Tags_target Random_Forest  \n",
       "Id                                                                   \n",
       "1475635                   struct,c,variables,pointers            ()  \n",
       "190666   transactions,linq,linq-to-sql,c#,concurrency            ()  \n",
       "1735000                       c,macos,xcode,debugging            ()  \n",
       "1662904                          windows,c++,linux,qt            ()  \n",
       "116701                      macos,windows,linux,shell            ()  "
      ]
     },
     "execution_count": 82,
     "metadata": {},
     "output_type": "execute_result"
    }
   ],
   "source": [
    "transformer.join_predictions('Random_Forest', preds).head()"
   ]
  },
  {
   "cell_type": "code",
   "execution_count": 83,
   "metadata": {},
   "outputs": [
    {
     "name": "stdout",
     "output_type": "stream",
     "text": [
      "Ratio of target tags hit: 0.0183\n",
      "Ratio of tags hit: 0.0152\n",
      "Average fill: 0.0226\n"
     ]
    }
   ],
   "source": [
    "report.tags_ratio('Random_Forest', transformer.test_df)"
   ]
  },
  {
   "cell_type": "code",
   "execution_count": 84,
   "metadata": {},
   "outputs": [
    {
     "name": "stdout",
     "output_type": "stream",
     "text": [
      "               Random_Forest_5\n",
      "Jaccard               0.267597\n",
      "Recall                0.442777\n",
      "Inference_time        0.001304\n",
      "Model_size_mb             5039\n"
     ]
    }
   ],
   "source": [
    "preds_firsts = get_firsts(preds_proba, 5)\n",
    "report.evaluate('Random_Forest_5', rfc_model, X_test, y_test, preds_firsts)"
   ]
  },
  {
   "cell_type": "code",
   "execution_count": 85,
   "metadata": {},
   "outputs": [
    {
     "data": {
      "text/html": [
       "<div>\n",
       "<style scoped>\n",
       "    .dataframe tbody tr th:only-of-type {\n",
       "        vertical-align: middle;\n",
       "    }\n",
       "\n",
       "    .dataframe tbody tr th {\n",
       "        vertical-align: top;\n",
       "    }\n",
       "\n",
       "    .dataframe thead th {\n",
       "        text-align: right;\n",
       "    }\n",
       "</style>\n",
       "<table border=\"1\" class=\"dataframe\">\n",
       "  <thead>\n",
       "    <tr style=\"text-align: right;\">\n",
       "      <th></th>\n",
       "      <th>Title_Body_tokens</th>\n",
       "      <th>Tags_tokens</th>\n",
       "      <th>Tags_target</th>\n",
       "      <th>Random_Forest_5</th>\n",
       "    </tr>\n",
       "    <tr>\n",
       "      <th>Id</th>\n",
       "      <th></th>\n",
       "      <th></th>\n",
       "      <th></th>\n",
       "      <th></th>\n",
       "    </tr>\n",
       "  </thead>\n",
       "  <tbody>\n",
       "    <tr>\n",
       "      <th>1475635</th>\n",
       "      <td>pointer,structure,return,pointer,struct,c,mean...</td>\n",
       "      <td>c,pointers,variables,struct,return</td>\n",
       "      <td>struct,c,variables,pointers</td>\n",
       "      <td>(c#, .net, c++, c, pointers)</td>\n",
       "    </tr>\n",
       "    <tr>\n",
       "      <th>190666</th>\n",
       "      <td>linq,sql,concurrency,issue,build,order,record,...</td>\n",
       "      <td>c#,linq,linq-to-sql,concurrency,transactions</td>\n",
       "      <td>transactions,linq,linq-to-sql,c#,concurrency</td>\n",
       "      <td>(c#, .net, sql, sql-server, linq)</td>\n",
       "    </tr>\n",
       "    <tr>\n",
       "      <th>1735000</th>\n",
       "      <td>instrument,display,console,command,line,applic...</td>\n",
       "      <td>c,xcode,debugging,macos,instruments</td>\n",
       "      <td>c,macos,xcode,debugging</td>\n",
       "      <td>(c#, java, .net, c++, c)</td>\n",
       "    </tr>\n",
       "    <tr>\n",
       "      <th>1662904</th>\n",
       "      <td>qt,setting,part,qt,effort,payback,road,questio...</td>\n",
       "      <td>c++,windows,linux,qt,qt4</td>\n",
       "      <td>windows,c++,linux,qt</td>\n",
       "      <td>(c#, java, .net, c++, iphone)</td>\n",
       "    </tr>\n",
       "    <tr>\n",
       "      <th>116701</th>\n",
       "      <td>program,background,way,c,program,command,line,...</td>\n",
       "      <td>windows,linux,macos,shell,background</td>\n",
       "      <td>macos,windows,linux,shell</td>\n",
       "      <td>(c++, linux, windows, bash, shell)</td>\n",
       "    </tr>\n",
       "  </tbody>\n",
       "</table>\n",
       "</div>"
      ],
      "text/plain": [
       "                                         Title_Body_tokens  \\\n",
       "Id                                                           \n",
       "1475635  pointer,structure,return,pointer,struct,c,mean...   \n",
       "190666   linq,sql,concurrency,issue,build,order,record,...   \n",
       "1735000  instrument,display,console,command,line,applic...   \n",
       "1662904  qt,setting,part,qt,effort,payback,road,questio...   \n",
       "116701   program,background,way,c,program,command,line,...   \n",
       "\n",
       "                                          Tags_tokens  \\\n",
       "Id                                                      \n",
       "1475635            c,pointers,variables,struct,return   \n",
       "190666   c#,linq,linq-to-sql,concurrency,transactions   \n",
       "1735000           c,xcode,debugging,macos,instruments   \n",
       "1662904                      c++,windows,linux,qt,qt4   \n",
       "116701           windows,linux,macos,shell,background   \n",
       "\n",
       "                                          Tags_target  \\\n",
       "Id                                                      \n",
       "1475635                   struct,c,variables,pointers   \n",
       "190666   transactions,linq,linq-to-sql,c#,concurrency   \n",
       "1735000                       c,macos,xcode,debugging   \n",
       "1662904                          windows,c++,linux,qt   \n",
       "116701                      macos,windows,linux,shell   \n",
       "\n",
       "                            Random_Forest_5  \n",
       "Id                                           \n",
       "1475635        (c#, .net, c++, c, pointers)  \n",
       "190666    (c#, .net, sql, sql-server, linq)  \n",
       "1735000            (c#, java, .net, c++, c)  \n",
       "1662904       (c#, java, .net, c++, iphone)  \n",
       "116701   (c++, linux, windows, bash, shell)  "
      ]
     },
     "execution_count": 85,
     "metadata": {},
     "output_type": "execute_result"
    }
   ],
   "source": [
    "transformer.join_predictions('Random_Forest_5', preds_firsts).head()"
   ]
  },
  {
   "cell_type": "code",
   "execution_count": 86,
   "metadata": {},
   "outputs": [
    {
     "name": "stdout",
     "output_type": "stream",
     "text": [
      "Ratio of target tags hit: 0.4435\n",
      "Ratio of tags hit: 0.3737\n",
      "Average fill: 1.2595\n"
     ]
    }
   ],
   "source": [
    "preds_df = transformer.test_df\n",
    "report.tags_ratio('Random_Forest_5', transformer.test_df)"
   ]
  },
  {
   "cell_type": "markdown",
   "metadata": {},
   "source": [
    "#### *High-end Random forest*"
   ]
  },
  {
   "cell_type": "markdown",
   "metadata": {},
   "source": [
    "We noticed that the dimensional reduction was highly detrimental to the *RandomForest* performances. We will fit a high performance model in order to show the performances that can be attained but which we won't be able to deploy because of its size. \n",
    "\n",
    "We generate a *dataset* with 250 *tags* and 1250 *features* to train our high-end model:"
   ]
  },
  {
   "cell_type": "code",
   "execution_count": 88,
   "metadata": {},
   "outputs": [
    {
     "name": "stdout",
     "output_type": "stream",
     "text": [
      "Dropped Train samples: 30000\n",
      "Dropped Test samples: 7505\n",
      "Train size: 10000\n",
      "Test size: 2495\n"
     ]
    }
   ],
   "source": [
    "X_train, X_test, y_train, y_test = transformer.gen_train_test(250, 1250, dimensional_red=False)"
   ]
  },
  {
   "cell_type": "code",
   "execution_count": 89,
   "metadata": {},
   "outputs": [
    {
     "name": "stdout",
     "output_type": "stream",
     "text": [
      "               Random_Forest_HE\n",
      "Jaccard                0.230113\n",
      "Recall                 0.241333\n",
      "Inference_time         0.000921\n",
      "Model_size_mb              5081\n"
     ]
    }
   ],
   "source": [
    "rfc_model_he = RandomForestClassifier()\n",
    "rfc_model_he.fit(X_train, y_train)\n",
    "preds = rfc_model_he.predict(X_test)\n",
    "preds_proba = rfc_model_he.predict_proba(X_test)\n",
    "report.evaluate('Random_Forest_HE', rfc_model_he, X_test, y_test, preds)"
   ]
  },
  {
   "cell_type": "code",
   "execution_count": 90,
   "metadata": {},
   "outputs": [
    {
     "data": {
      "text/html": [
       "<div>\n",
       "<style scoped>\n",
       "    .dataframe tbody tr th:only-of-type {\n",
       "        vertical-align: middle;\n",
       "    }\n",
       "\n",
       "    .dataframe tbody tr th {\n",
       "        vertical-align: top;\n",
       "    }\n",
       "\n",
       "    .dataframe thead th {\n",
       "        text-align: right;\n",
       "    }\n",
       "</style>\n",
       "<table border=\"1\" class=\"dataframe\">\n",
       "  <thead>\n",
       "    <tr style=\"text-align: right;\">\n",
       "      <th></th>\n",
       "      <th>Title_Body_tokens</th>\n",
       "      <th>Tags_tokens</th>\n",
       "      <th>Tags_target</th>\n",
       "      <th>Random_Forest_HE</th>\n",
       "    </tr>\n",
       "    <tr>\n",
       "      <th>Id</th>\n",
       "      <th></th>\n",
       "      <th></th>\n",
       "      <th></th>\n",
       "      <th></th>\n",
       "    </tr>\n",
       "  </thead>\n",
       "  <tbody>\n",
       "    <tr>\n",
       "      <th>1475635</th>\n",
       "      <td>pointer,structure,return,pointer,struct,c,mean...</td>\n",
       "      <td>c,pointers,variables,struct,return</td>\n",
       "      <td>struct,c,variables,pointers</td>\n",
       "      <td>(c++, c, pointers)</td>\n",
       "    </tr>\n",
       "    <tr>\n",
       "      <th>190666</th>\n",
       "      <td>linq,sql,concurrency,issue,build,order,record,...</td>\n",
       "      <td>c#,linq,linq-to-sql,concurrency,transactions</td>\n",
       "      <td>transactions,linq,linq-to-sql,c#,concurrency</td>\n",
       "      <td>()</td>\n",
       "    </tr>\n",
       "    <tr>\n",
       "      <th>1735000</th>\n",
       "      <td>instrument,display,console,command,line,applic...</td>\n",
       "      <td>c,xcode,debugging,macos,instruments</td>\n",
       "      <td>c,macos,xcode,debugging</td>\n",
       "      <td>(xcode,)</td>\n",
       "    </tr>\n",
       "    <tr>\n",
       "      <th>1662904</th>\n",
       "      <td>qt,setting,part,qt,effort,payback,road,questio...</td>\n",
       "      <td>c++,windows,linux,qt,qt4</td>\n",
       "      <td>windows,c++,linux,qt</td>\n",
       "      <td>(java,)</td>\n",
       "    </tr>\n",
       "    <tr>\n",
       "      <th>116701</th>\n",
       "      <td>program,background,way,c,program,command,line,...</td>\n",
       "      <td>windows,linux,macos,shell,background</td>\n",
       "      <td>macos,windows,linux,shell</td>\n",
       "      <td>()</td>\n",
       "    </tr>\n",
       "  </tbody>\n",
       "</table>\n",
       "</div>"
      ],
      "text/plain": [
       "                                         Title_Body_tokens  \\\n",
       "Id                                                           \n",
       "1475635  pointer,structure,return,pointer,struct,c,mean...   \n",
       "190666   linq,sql,concurrency,issue,build,order,record,...   \n",
       "1735000  instrument,display,console,command,line,applic...   \n",
       "1662904  qt,setting,part,qt,effort,payback,road,questio...   \n",
       "116701   program,background,way,c,program,command,line,...   \n",
       "\n",
       "                                          Tags_tokens  \\\n",
       "Id                                                      \n",
       "1475635            c,pointers,variables,struct,return   \n",
       "190666   c#,linq,linq-to-sql,concurrency,transactions   \n",
       "1735000           c,xcode,debugging,macos,instruments   \n",
       "1662904                      c++,windows,linux,qt,qt4   \n",
       "116701           windows,linux,macos,shell,background   \n",
       "\n",
       "                                          Tags_target    Random_Forest_HE  \n",
       "Id                                                                         \n",
       "1475635                   struct,c,variables,pointers  (c++, c, pointers)  \n",
       "190666   transactions,linq,linq-to-sql,c#,concurrency                  ()  \n",
       "1735000                       c,macos,xcode,debugging            (xcode,)  \n",
       "1662904                          windows,c++,linux,qt             (java,)  \n",
       "116701                      macos,windows,linux,shell                  ()  "
      ]
     },
     "execution_count": 90,
     "metadata": {},
     "output_type": "execute_result"
    }
   ],
   "source": [
    "transformer.join_predictions('Random_Forest_HE', preds).head()"
   ]
  },
  {
   "cell_type": "code",
   "execution_count": 91,
   "metadata": {},
   "outputs": [
    {
     "name": "stdout",
     "output_type": "stream",
     "text": [
      "Ratio of target tags hit: 0.2423\n",
      "Ratio of tags hit: 0.2037\n",
      "Average fill: 0.3066\n"
     ]
    }
   ],
   "source": [
    "report.tags_ratio('Random_Forest_HE', transformer.test_df)"
   ]
  },
  {
   "cell_type": "code",
   "execution_count": 92,
   "metadata": {},
   "outputs": [
    {
     "name": "stdout",
     "output_type": "stream",
     "text": [
      "               Random_Forest_HE_5\n",
      "Jaccard                  0.391502\n",
      "Recall                    0.58676\n",
      "Inference_time           0.001247\n",
      "Model_size_mb                5081\n"
     ]
    }
   ],
   "source": [
    "preds_firsts = get_firsts(preds_proba, 5)\n",
    "report.evaluate('Random_Forest_HE_5', rfc_model_he, X_test, y_test, preds_firsts)"
   ]
  },
  {
   "cell_type": "code",
   "execution_count": 93,
   "metadata": {},
   "outputs": [
    {
     "data": {
      "text/html": [
       "<div>\n",
       "<style scoped>\n",
       "    .dataframe tbody tr th:only-of-type {\n",
       "        vertical-align: middle;\n",
       "    }\n",
       "\n",
       "    .dataframe tbody tr th {\n",
       "        vertical-align: top;\n",
       "    }\n",
       "\n",
       "    .dataframe thead th {\n",
       "        text-align: right;\n",
       "    }\n",
       "</style>\n",
       "<table border=\"1\" class=\"dataframe\">\n",
       "  <thead>\n",
       "    <tr style=\"text-align: right;\">\n",
       "      <th></th>\n",
       "      <th>Title_Body_tokens</th>\n",
       "      <th>Tags_tokens</th>\n",
       "      <th>Tags_target</th>\n",
       "      <th>Random_Forest_HE_5</th>\n",
       "    </tr>\n",
       "    <tr>\n",
       "      <th>Id</th>\n",
       "      <th></th>\n",
       "      <th></th>\n",
       "      <th></th>\n",
       "      <th></th>\n",
       "    </tr>\n",
       "  </thead>\n",
       "  <tbody>\n",
       "    <tr>\n",
       "      <th>1475635</th>\n",
       "      <td>pointer,structure,return,pointer,struct,c,mean...</td>\n",
       "      <td>c,pointers,variables,struct,return</td>\n",
       "      <td>struct,c,variables,pointers</td>\n",
       "      <td>(c++, c, arrays, pointers, struct)</td>\n",
       "    </tr>\n",
       "    <tr>\n",
       "      <th>190666</th>\n",
       "      <td>linq,sql,concurrency,issue,build,order,record,...</td>\n",
       "      <td>c#,linq,linq-to-sql,concurrency,transactions</td>\n",
       "      <td>transactions,linq,linq-to-sql,c#,concurrency</td>\n",
       "      <td>(c#, sql, sql-server, linq, linq-to-sql)</td>\n",
       "    </tr>\n",
       "    <tr>\n",
       "      <th>1735000</th>\n",
       "      <td>instrument,display,console,command,line,applic...</td>\n",
       "      <td>c,xcode,debugging,macos,instruments</td>\n",
       "      <td>c,macos,xcode,debugging</td>\n",
       "      <td>(c++, iphone, objective-c, ios, xcode)</td>\n",
       "    </tr>\n",
       "    <tr>\n",
       "      <th>1662904</th>\n",
       "      <td>qt,setting,part,qt,effort,payback,road,questio...</td>\n",
       "      <td>c++,windows,linux,qt,qt4</td>\n",
       "      <td>windows,c++,linux,qt</td>\n",
       "      <td>(c#, java, .net, c++, qt, servlets)</td>\n",
       "    </tr>\n",
       "    <tr>\n",
       "      <th>116701</th>\n",
       "      <td>program,background,way,c,program,command,line,...</td>\n",
       "      <td>windows,linux,macos,shell,background</td>\n",
       "      <td>macos,windows,linux,shell</td>\n",
       "      <td>(c++, linux, windows, bash, unix, shell)</td>\n",
       "    </tr>\n",
       "  </tbody>\n",
       "</table>\n",
       "</div>"
      ],
      "text/plain": [
       "                                         Title_Body_tokens  \\\n",
       "Id                                                           \n",
       "1475635  pointer,structure,return,pointer,struct,c,mean...   \n",
       "190666   linq,sql,concurrency,issue,build,order,record,...   \n",
       "1735000  instrument,display,console,command,line,applic...   \n",
       "1662904  qt,setting,part,qt,effort,payback,road,questio...   \n",
       "116701   program,background,way,c,program,command,line,...   \n",
       "\n",
       "                                          Tags_tokens  \\\n",
       "Id                                                      \n",
       "1475635            c,pointers,variables,struct,return   \n",
       "190666   c#,linq,linq-to-sql,concurrency,transactions   \n",
       "1735000           c,xcode,debugging,macos,instruments   \n",
       "1662904                      c++,windows,linux,qt,qt4   \n",
       "116701           windows,linux,macos,shell,background   \n",
       "\n",
       "                                          Tags_target  \\\n",
       "Id                                                      \n",
       "1475635                   struct,c,variables,pointers   \n",
       "190666   transactions,linq,linq-to-sql,c#,concurrency   \n",
       "1735000                       c,macos,xcode,debugging   \n",
       "1662904                          windows,c++,linux,qt   \n",
       "116701                      macos,windows,linux,shell   \n",
       "\n",
       "                               Random_Forest_HE_5  \n",
       "Id                                                 \n",
       "1475635        (c++, c, arrays, pointers, struct)  \n",
       "190666   (c#, sql, sql-server, linq, linq-to-sql)  \n",
       "1735000    (c++, iphone, objective-c, ios, xcode)  \n",
       "1662904       (c#, java, .net, c++, qt, servlets)  \n",
       "116701   (c++, linux, windows, bash, unix, shell)  "
      ]
     },
     "execution_count": 93,
     "metadata": {},
     "output_type": "execute_result"
    }
   ],
   "source": [
    "transformer.join_predictions('Random_Forest_HE_5', preds_firsts).head()"
   ]
  },
  {
   "cell_type": "markdown",
   "metadata": {},
   "source": [
    "Thanks to this algorithm, we manage to predict close to 60% of the *filtered tags* and 50% of the *actual tags*."
   ]
  },
  {
   "cell_type": "code",
   "execution_count": 94,
   "metadata": {},
   "outputs": [
    {
     "name": "stdout",
     "output_type": "stream",
     "text": [
      "Ratio of target tags hit: 0.588\n",
      "Ratio of tags hit: 0.4952\n",
      "Average fill: 1.2245\n"
     ]
    }
   ],
   "source": [
    "report.tags_ratio('Random_Forest_HE_5', transformer.test_df)"
   ]
  },
  {
   "cell_type": "markdown",
   "metadata": {},
   "source": [
    "# Exploring the results"
   ]
  },
  {
   "cell_type": "code",
   "execution_count": 96,
   "metadata": {},
   "outputs": [
    {
     "data": {
      "text/html": [
       "<div>\n",
       "<style scoped>\n",
       "    .dataframe tbody tr th:only-of-type {\n",
       "        vertical-align: middle;\n",
       "    }\n",
       "\n",
       "    .dataframe tbody tr th {\n",
       "        vertical-align: top;\n",
       "    }\n",
       "\n",
       "    .dataframe thead th {\n",
       "        text-align: right;\n",
       "    }\n",
       "</style>\n",
       "<table border=\"1\" class=\"dataframe\">\n",
       "  <thead>\n",
       "    <tr style=\"text-align: right;\">\n",
       "      <th></th>\n",
       "      <th>Jaccard</th>\n",
       "      <th>Recall</th>\n",
       "      <th>Inference_time</th>\n",
       "      <th>Model_size_mb</th>\n",
       "      <th>Targets_hit</th>\n",
       "      <th>Tags_hit</th>\n",
       "      <th>Fill</th>\n",
       "    </tr>\n",
       "  </thead>\n",
       "  <tbody>\n",
       "    <tr>\n",
       "      <th>LDA</th>\n",
       "      <td>NaN</td>\n",
       "      <td>NaN</td>\n",
       "      <td>NaN</td>\n",
       "      <td>NaN</td>\n",
       "      <td>0.01976</td>\n",
       "      <td>0.016673</td>\n",
       "      <td>1.184823</td>\n",
       "    </tr>\n",
       "    <tr>\n",
       "      <th>LogR</th>\n",
       "      <td>0.250603</td>\n",
       "      <td>0.269161</td>\n",
       "      <td>0.000422</td>\n",
       "      <td>2</td>\n",
       "      <td>0.269519</td>\n",
       "      <td>0.227174</td>\n",
       "      <td>0.343717</td>\n",
       "    </tr>\n",
       "    <tr>\n",
       "      <th>SVM</th>\n",
       "      <td>0.367991</td>\n",
       "      <td>0.4121</td>\n",
       "      <td>0.000422</td>\n",
       "      <td>2</td>\n",
       "      <td>0.413126</td>\n",
       "      <td>0.347816</td>\n",
       "      <td>0.561592</td>\n",
       "    </tr>\n",
       "    <tr>\n",
       "      <th>SGD</th>\n",
       "      <td>0.364248</td>\n",
       "      <td>0.413715</td>\n",
       "      <td>0.000442</td>\n",
       "      <td>2</td>\n",
       "      <td>0.414629</td>\n",
       "      <td>0.349178</td>\n",
       "      <td>0.582202</td>\n",
       "    </tr>\n",
       "    <tr>\n",
       "      <th>KNN</th>\n",
       "      <td>0.146193</td>\n",
       "      <td>0.152246</td>\n",
       "      <td>0.002671</td>\n",
       "      <td>99</td>\n",
       "      <td>0.152405</td>\n",
       "      <td>0.128497</td>\n",
       "      <td>0.200114</td>\n",
       "    </tr>\n",
       "    <tr>\n",
       "      <th>KNN_5</th>\n",
       "      <td>0.325681</td>\n",
       "      <td>0.538418</td>\n",
       "      <td>0.002457</td>\n",
       "      <td>99</td>\n",
       "      <td>0.538898</td>\n",
       "      <td>0.454429</td>\n",
       "      <td>1.386836</td>\n",
       "    </tr>\n",
       "    <tr>\n",
       "      <th>Random_Forest</th>\n",
       "      <td>0.018116</td>\n",
       "      <td>0.018045</td>\n",
       "      <td>0.00135</td>\n",
       "      <td>5039</td>\n",
       "      <td>0.018337</td>\n",
       "      <td>0.01523</td>\n",
       "      <td>0.022604</td>\n",
       "    </tr>\n",
       "    <tr>\n",
       "      <th>Random_Forest_5</th>\n",
       "      <td>0.267597</td>\n",
       "      <td>0.442777</td>\n",
       "      <td>0.001304</td>\n",
       "      <td>5039</td>\n",
       "      <td>0.443527</td>\n",
       "      <td>0.373707</td>\n",
       "      <td>1.259474</td>\n",
       "    </tr>\n",
       "    <tr>\n",
       "      <th>Random_Forest_HE</th>\n",
       "      <td>0.230113</td>\n",
       "      <td>0.241333</td>\n",
       "      <td>0.000921</td>\n",
       "      <td>5081</td>\n",
       "      <td>0.242305</td>\n",
       "      <td>0.203687</td>\n",
       "      <td>0.306582</td>\n",
       "    </tr>\n",
       "    <tr>\n",
       "      <th>Random_Forest_HE_5</th>\n",
       "      <td>0.391502</td>\n",
       "      <td>0.58676</td>\n",
       "      <td>0.001247</td>\n",
       "      <td>5081</td>\n",
       "      <td>0.587996</td>\n",
       "      <td>0.49523</td>\n",
       "      <td>1.224523</td>\n",
       "    </tr>\n",
       "  </tbody>\n",
       "</table>\n",
       "</div>"
      ],
      "text/plain": [
       "                     Jaccard    Recall Inference_time Model_size_mb  \\\n",
       "LDA                      NaN       NaN            NaN           NaN   \n",
       "LogR                0.250603  0.269161       0.000422             2   \n",
       "SVM                 0.367991    0.4121       0.000422             2   \n",
       "SGD                 0.364248  0.413715       0.000442             2   \n",
       "KNN                 0.146193  0.152246       0.002671            99   \n",
       "KNN_5               0.325681  0.538418       0.002457            99   \n",
       "Random_Forest       0.018116  0.018045        0.00135          5039   \n",
       "Random_Forest_5     0.267597  0.442777       0.001304          5039   \n",
       "Random_Forest_HE    0.230113  0.241333       0.000921          5081   \n",
       "Random_Forest_HE_5  0.391502   0.58676       0.001247          5081   \n",
       "\n",
       "                   Targets_hit  Tags_hit      Fill  \n",
       "LDA                    0.01976  0.016673  1.184823  \n",
       "LogR                  0.269519  0.227174  0.343717  \n",
       "SVM                   0.413126  0.347816  0.561592  \n",
       "SGD                   0.414629  0.349178  0.582202  \n",
       "KNN                   0.152405  0.128497  0.200114  \n",
       "KNN_5                 0.538898  0.454429  1.386836  \n",
       "Random_Forest         0.018337   0.01523  0.022604  \n",
       "Random_Forest_5       0.443527  0.373707  1.259474  \n",
       "Random_Forest_HE      0.242305  0.203687  0.306582  \n",
       "Random_Forest_HE_5    0.587996   0.49523  1.224523  "
      ]
     },
     "execution_count": 96,
     "metadata": {},
     "output_type": "execute_result"
    }
   ],
   "source": [
    "report.clean_files()\n",
    "report.get()"
   ]
  },
  {
   "cell_type": "markdown",
   "metadata": {},
   "source": [
    "The *KNN_select* model offers a good performance, a good *recall* score, while remaining of light size, for these reasons we are going to implement this model in our *API*.\n",
    "\n",
    "The following cell, when executed, pulls a random *sample* from the dataset to explore the behavior of the *KNN_select* (the *supervised tags*, compared to the *LDA unsupervised tags*):"
   ]
  },
  {
   "cell_type": "code",
   "execution_count": 97,
   "metadata": {},
   "outputs": [
    {
     "name": "stdout",
     "output_type": "stream",
     "text": [
      "\n",
      "    Title raw: my C# winform needs to detect when other applications enter/exit/run-in TRUE fullscreen, prefer by events\n",
      "\n",
      "\n",
      "    Body tokens: ['application', 'mode', 'time', 'application', 'run', 'mode', 'video', 'game', 'video', 'movie', 'powerpoint', 'method', 'detect', 'application', 'fullscreen', 'possibility', 'register', 'event', 'fire', 'application', 'enters/exits', 'fullscreen', 'need', 'appreciate', 'snippet']\n",
      "\n",
      "\n",
      "    Tags tokens: ['c#', 'windows', 'winforms', 'events', 'internals']\n",
      "\n",
      "\n",
      "    Supervised tags tokens: ('c#', '.net', 'javascript', 'html', 'video')\n",
      "\n",
      "\n",
      "    Unsupervised tags tokens: ['file', 'time', 'database', 'class', 'object']\n"
     ]
    }
   ],
   "source": [
    "sample = preds_df.sample(1)\n",
    "print(f\"\"\"\n",
    "    Title raw: {sample['Title'].values[0]}\\n\\n\n",
    "    Body tokens: {sample['Body_tokens'].values[0].split(',')}\\n\\n\n",
    "    Tags tokens: {sample['Tags_tokens'].values[0].split(',')}\\n\\n\n",
    "    Supervised tags tokens: {sample['KNN_5'].values[0]}\\n\\n\n",
    "    Unsupervised tags tokens: {sample['LDA'].values[0]}\"\"\")"
   ]
  },
  {
   "cell_type": "markdown",
   "metadata": {},
   "source": [
    "We can observe that the *LDA* model mainly pulls generic terms from the *document*, which is not, in our case, a wanted behavior. The *KNN_select* predictions seem way more pertinent."
   ]
  },
  {
   "cell_type": "markdown",
   "metadata": {},
   "source": [
    "# Saving files"
   ]
  },
  {
   "cell_type": "markdown",
   "metadata": {},
   "source": [
    "*For further use*"
   ]
  },
  {
   "cell_type": "code",
   "execution_count": 98,
   "metadata": {},
   "outputs": [
    {
     "data": {
      "text/plain": [
       "['./P5_03_api_code/model.joblib']"
      ]
     },
     "execution_count": 98,
     "metadata": {},
     "output_type": "execute_result"
    }
   ],
   "source": [
    "dump(transformer.multi_label_binarizer, './P5_03_api_code/multi_label_binarizer.joblib')\n",
    "dump(transformer.tfid_vectorizer, './P5_03_api_code/tfid_vectorizer.joblib')\n",
    "dump(transformer.truncated_svd, './P5_03_api_code/truncated_svd.joblib')\n",
    "dump(knn_model, './P5_03_api_code/model.joblib')"
   ]
  },
  {
   "cell_type": "markdown",
   "metadata": {},
   "source": [
    "# Conclusion"
   ]
  },
  {
   "cell_type": "markdown",
   "metadata": {},
   "source": [
    "We have succesfully transformed the data in order to train models to suggest *tags* for *StackOverflow* questions.\n",
    "\n",
    "We have selected a model to deploy to an *API endpoint*.\n",
    "\n",
    "The model is far from being the best as we were limited in terms of runtime and processing power. In order to obtain a working prototype, we have greatly reduced the data dimensionality.\n",
    "\n",
    "Of course, several enhancements can be suggested:\n",
    "* The use of more *training data*,\n",
    "* A more advance *data preprocessing* with the creation of a handmade *dictionary*,\n",
    "* The use of a *neuronet*.\n",
    "\n",
    "*Thank you for readng this project,*\n",
    "\n",
    "*Thibaud GROSJEAN*\n"
   ]
  }
 ],
 "metadata": {
  "interpreter": {
   "hash": "73bc5c77dda7f65b49ca8fa5fe9724c28e04e6082e3fc65fbc471f9985772223"
  },
  "kernelspec": {
   "display_name": "Python 3.9.10 ('P5')",
   "language": "python",
   "name": "python3"
  },
  "language_info": {
   "codemirror_mode": {
    "name": "ipython",
    "version": 3
   },
   "file_extension": ".py",
   "mimetype": "text/x-python",
   "name": "python",
   "nbconvert_exporter": "python",
   "pygments_lexer": "ipython3",
   "version": "3.9.10"
  },
  "orig_nbformat": 4
 },
 "nbformat": 4,
 "nbformat_minor": 2
}

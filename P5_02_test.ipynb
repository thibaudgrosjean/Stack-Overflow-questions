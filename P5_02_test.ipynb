{
 "cells": [
  {
   "cell_type": "markdown",
   "metadata": {},
   "source": [
    "# Introduction"
   ]
  },
  {
   "cell_type": "markdown",
   "metadata": {},
   "source": [
    "In this project, we will implement a tags recommendation system for *StackOverflow* questions.\\\n",
    "*StackOverflow* is a reknown platform for questions and answers about programmation.\n",
    "* In the first notebook, we will extract the required data using the *StackExchange data explorer* tool, and explore the data.\n",
    "* In the second notebook, we will implement various *machine learning algorithms* and select the suitable inference model to deploy an *API endpoint*."
   ]
  },
  {
   "cell_type": "markdown",
   "metadata": {},
   "source": [
    "# Environment"
   ]
  },
  {
   "cell_type": "code",
   "execution_count": 92,
   "metadata": {},
   "outputs": [],
   "source": [
    "import pandas as pd\n",
    "import numpy as np\n",
    "from nltk.probability import FreqDist\n",
    "from IPython.display import Image\n",
    "import plotly.graph_objects as go\n",
    "from plotly.subplots import make_subplots\n",
    "from sklearn.feature_extraction.text import CountVectorizer, TfidfVectorizer\n",
    "from sklearn.metrics import accuracy_score, precision_score, recall_score, f1_score, confusion_matrix, hamming_loss, cohen_kappa_score, matthews_corrcoef\n",
    "from sklearn.preprocessing import MultiLabelBinarizer\n",
    "from sklearn.model_selection import train_test_split\n",
    "from sklearn.multiclass import OneVsRestClassifier\n",
    "from sklearn.svm import LinearSVC\n",
    "from sklearn.neighbors import KNeighborsClassifier\n",
    "from sklearn.ensemble import RandomForestClassifier\n",
    "from sklearn.linear_model import SGDClassifier\n",
    "from sklearn.decomposition import PCA\n",
    "from DataGT.PCA import display_scree_plot\n",
    "from sklearn.decomposition import TruncatedSVD\n",
    "import gensim\n",
    "from gensim import corpora\n",
    "from gensim.models.ldamulticore import LdaMulticore\n",
    "from gensim.models import TfidfModel\n",
    "import pyLDAvis.gensim_models\n",
    "from gensim.models import CoherenceModel\n",
    "from imp import reload\n",
    "from xgboost import XGBClassifier\n",
    "from ttictoc import tic, toc\n",
    "from joblib import dump"
   ]
  },
  {
   "cell_type": "code",
   "execution_count": 94,
   "metadata": {},
   "outputs": [
    {
     "data": {
      "text/html": [
       "<div>\n",
       "<style scoped>\n",
       "    .dataframe tbody tr th:only-of-type {\n",
       "        vertical-align: middle;\n",
       "    }\n",
       "\n",
       "    .dataframe tbody tr th {\n",
       "        vertical-align: top;\n",
       "    }\n",
       "\n",
       "    .dataframe thead th {\n",
       "        text-align: right;\n",
       "    }\n",
       "</style>\n",
       "<table border=\"1\" class=\"dataframe\">\n",
       "  <thead>\n",
       "    <tr style=\"text-align: right;\">\n",
       "      <th></th>\n",
       "      <th>Id</th>\n",
       "      <th>Title</th>\n",
       "      <th>Body</th>\n",
       "      <th>Tags</th>\n",
       "      <th>Body_tokens</th>\n",
       "      <th>Title_tokens</th>\n",
       "      <th>Tags_tokens</th>\n",
       "      <th>Title_Body_tokens</th>\n",
       "    </tr>\n",
       "  </thead>\n",
       "  <tbody>\n",
       "    <tr>\n",
       "      <th>0</th>\n",
       "      <td>4</td>\n",
       "      <td>How to convert a Decimal to a Double in C#?</td>\n",
       "      <td>&lt;p&gt;I want to use a &lt;code&gt;Track-Bar&lt;/code&gt; to c...</td>\n",
       "      <td>&lt;c#&gt;&lt;floating-point&gt;&lt;type-conversion&gt;&lt;double&gt;&lt;...</td>\n",
       "      <td>use,change,opacity,code,application,error,work...</td>\n",
       "      <td>convert</td>\n",
       "      <td>c#,floating-point,type-conversion,double,decimal</td>\n",
       "      <td>convert,use,change,opacity,code,application,er...</td>\n",
       "    </tr>\n",
       "    <tr>\n",
       "      <th>1</th>\n",
       "      <td>11</td>\n",
       "      <td>Calculate relative time in C#</td>\n",
       "      <td>&lt;p&gt;Given a specific &lt;code&gt;DateTime&lt;/code&gt; valu...</td>\n",
       "      <td>&lt;c#&gt;&lt;datetime&gt;&lt;time&gt;&lt;datediff&gt;&lt;relative-time-s...</td>\n",
       "      <td>value,display,time,hour,day,month</td>\n",
       "      <td>calculate,time</td>\n",
       "      <td>c#,datetime,time,datediff,relative-time-span</td>\n",
       "      <td>calculate,time,value,display,time,hour,day,month</td>\n",
       "    </tr>\n",
       "    <tr>\n",
       "      <th>2</th>\n",
       "      <td>13</td>\n",
       "      <td>Determine a user's timezone</td>\n",
       "      <td>&lt;p&gt;Is there a standard way for a web server to...</td>\n",
       "      <td>&lt;html&gt;&lt;browser&gt;&lt;timezone&gt;&lt;user-agent&gt;&lt;timezone...</td>\n",
       "      <td>way,web,server,determine,user,timezone,page,he...</td>\n",
       "      <td>determine,user,timezone</td>\n",
       "      <td>html,browser,timezone,user-agent,timezone-offset</td>\n",
       "      <td>determine,user,timezone,way,web,server,determi...</td>\n",
       "    </tr>\n",
       "    <tr>\n",
       "      <th>3</th>\n",
       "      <td>19</td>\n",
       "      <td>What is the fastest way to get the value of π?</td>\n",
       "      <td>&lt;p&gt;I'm looking for the fastest way to obtain t...</td>\n",
       "      <td>&lt;performance&gt;&lt;algorithm&gt;&lt;language-agnostic&gt;&lt;un...</td>\n",
       "      <td>way,obtain,value,π,challenge,way,involve,const...</td>\n",
       "      <td>way,get,value,π</td>\n",
       "      <td>performance,algorithm,language-agnostic,unix,pi</td>\n",
       "      <td>way,get,value,π,way,obtain,value,π,challenge,w...</td>\n",
       "    </tr>\n",
       "    <tr>\n",
       "      <th>4</th>\n",
       "      <td>25</td>\n",
       "      <td>How to use the C socket API in C++ on z/OS</td>\n",
       "      <td>&lt;p&gt;I'm having issues getting the C sockets API...</td>\n",
       "      <td>&lt;c++&gt;&lt;c&gt;&lt;sockets&gt;&lt;mainframe&gt;&lt;zos&gt;</td>\n",
       "      <td>issue,socket,work,c++,z/os,get,time,error,some...</td>\n",
       "      <td>use,c,socket,api,c++,z/os</td>\n",
       "      <td>c++,c,sockets,mainframe,zos</td>\n",
       "      <td>use,c,socket,api,c++,z/os,issue,socket,work,c+...</td>\n",
       "    </tr>\n",
       "  </tbody>\n",
       "</table>\n",
       "</div>"
      ],
      "text/plain": [
       "   Id                                           Title  \\\n",
       "0   4     How to convert a Decimal to a Double in C#?   \n",
       "1  11                   Calculate relative time in C#   \n",
       "2  13                     Determine a user's timezone   \n",
       "3  19  What is the fastest way to get the value of π?   \n",
       "4  25      How to use the C socket API in C++ on z/OS   \n",
       "\n",
       "                                                Body  \\\n",
       "0  <p>I want to use a <code>Track-Bar</code> to c...   \n",
       "1  <p>Given a specific <code>DateTime</code> valu...   \n",
       "2  <p>Is there a standard way for a web server to...   \n",
       "3  <p>I'm looking for the fastest way to obtain t...   \n",
       "4  <p>I'm having issues getting the C sockets API...   \n",
       "\n",
       "                                                Tags  \\\n",
       "0  <c#><floating-point><type-conversion><double><...   \n",
       "1  <c#><datetime><time><datediff><relative-time-s...   \n",
       "2  <html><browser><timezone><user-agent><timezone...   \n",
       "3  <performance><algorithm><language-agnostic><un...   \n",
       "4                  <c++><c><sockets><mainframe><zos>   \n",
       "\n",
       "                                         Body_tokens  \\\n",
       "0  use,change,opacity,code,application,error,work...   \n",
       "1                  value,display,time,hour,day,month   \n",
       "2  way,web,server,determine,user,timezone,page,he...   \n",
       "3  way,obtain,value,π,challenge,way,involve,const...   \n",
       "4  issue,socket,work,c++,z/os,get,time,error,some...   \n",
       "\n",
       "                Title_tokens  \\\n",
       "0                    convert   \n",
       "1             calculate,time   \n",
       "2    determine,user,timezone   \n",
       "3            way,get,value,π   \n",
       "4  use,c,socket,api,c++,z/os   \n",
       "\n",
       "                                        Tags_tokens  \\\n",
       "0  c#,floating-point,type-conversion,double,decimal   \n",
       "1      c#,datetime,time,datediff,relative-time-span   \n",
       "2  html,browser,timezone,user-agent,timezone-offset   \n",
       "3   performance,algorithm,language-agnostic,unix,pi   \n",
       "4                       c++,c,sockets,mainframe,zos   \n",
       "\n",
       "                                   Title_Body_tokens  \n",
       "0  convert,use,change,opacity,code,application,er...  \n",
       "1   calculate,time,value,display,time,hour,day,month  \n",
       "2  determine,user,timezone,way,web,server,determi...  \n",
       "3  way,get,value,π,way,obtain,value,π,challenge,w...  \n",
       "4  use,c,socket,api,c++,z/os,issue,socket,work,c+...  "
      ]
     },
     "execution_count": 94,
     "metadata": {},
     "output_type": "execute_result"
    }
   ],
   "source": [
    "df = pd.read_csv('./data/df.csv')\n",
    "\n",
    "df.head()"
   ]
  },
  {
   "cell_type": "markdown",
   "metadata": {},
   "source": [
    "# Preprocessing"
   ]
  },
  {
   "cell_type": "markdown",
   "metadata": {},
   "source": [
    "In order to pass our data to the various models, we need to process it and transform it into numerical features.\n",
    "* First, we apply a split to generate a *traning* and a *test set*. The transformers will be fit on the training data to transform the test data, thus avoiding *data leakage*.\n",
    "* In order to limit dimensionality, we detect the terms with the highest frequencies on the train set and keep the corresponding terms in the test set. We apply this methodology for both the question *content* and *tags*.\n",
    "* We filter the *corpus* in order to keep the documents that have at least 3 *top tags* to improve the performance of the models.\n",
    "* We vectorize the *content* using a *TfidVectorizer*.\n",
    "* We vectorize the *tags* using a *MultiLabelBinarizer*.\n",
    "* In order to further reduce dimentionality, we apply a *TruncatedSVD* on the question *content* vectors.\n",
    "\n",
    "The following schema sums up the applied transformations:"
   ]
  },
  {
   "cell_type": "code",
   "execution_count": null,
   "metadata": {},
   "outputs": [
    {
     "data": {
      "image/png": "[encoded data removed]",
      "text/plain": [
       "<IPython.core.display.Image object>"
      ]
     },
     "execution_count": 44,
     "metadata": {},
     "output_type": "execute_result"
    }
   ],
   "source": [
    "Image(filename='./assets/processing.png')"
   ]
  },
  {
   "cell_type": "code",
   "execution_count": null,
   "metadata": {},
   "outputs": [],
   "source": [
    "def gen_frequencies(series):\n",
    "\n",
    "    dist = FreqDist(','.join(series).split(','))\n",
    "\n",
    "    return dist"
   ]
  },
  {
   "cell_type": "markdown",
   "metadata": {},
   "source": [
    "We create a function to extract the top terms from the frequencies dictionary:"
   ]
  },
  {
   "cell_type": "code",
   "execution_count": null,
   "metadata": {},
   "outputs": [],
   "source": [
    "def extract_top(frequencies:dict, n_top:int):\n",
    "\n",
    "    top_values = pd.DataFrame(\n",
    "        {'Tag':frequencies.keys(), 'Frequency':frequencies.values()}\n",
    "        ).sort_values('Frequency', ascending=False).head(n_top)['Tag'].values\n",
    "    \n",
    "    return top_values"
   ]
  },
  {
   "cell_type": "markdown",
   "metadata": {},
   "source": [
    "We create a function to keep only the top terms for each value of a *series*:"
   ]
  },
  {
   "cell_type": "code",
   "execution_count": null,
   "metadata": {},
   "outputs": [],
   "source": [
    "def keep_top(series:pd.Series, top_values:list):\n",
    "    \n",
    "    series = series.apply(lambda cell: list(set(cell.split(',')).intersection(top_values)))\n",
    "\n",
    "    return series"
   ]
  },
  {
   "cell_type": "markdown",
   "metadata": {},
   "source": [
    "We develop a *python class* to:\n",
    "* Fit the transformers,\n",
    "* Transform the dataset,\n",
    "* Transform the predictions of the models back into human readable format.\n",
    "\n",
    "We dispose of a limited processing power and choose to generate a *X set* with 600 features reduced to 350, and a *y set* 200 *tags*:"
   ]
  },
  {
   "cell_type": "code",
   "execution_count": null,
   "metadata": {},
   "outputs": [
    {
     "name": "stdout",
     "output_type": "stream",
     "text": [
      "Dropped Train samples: 19695\n",
      "Dropped Test samples: 4935\n",
      "TruncatedSVD explained variance ratio: 0.82\n",
      "Train size: 20305\n",
      "Test size: 5065\n"
     ]
    }
   ],
   "source": [
    "class DatasetTransformer():\n",
    "\n",
    "    def __init__(self, df:pd.DataFrame, X:str, y:str):\n",
    "\n",
    "        self.dataset = df\n",
    "        self.X = X\n",
    "        self.y = y\n",
    "        self.X_values = df[X]\n",
    "        self.y_values = df[y]\n",
    "        self.test_df = None\n",
    "        self.multi_label_binarizer = None\n",
    "        self.tfid_vectorizer = None\n",
    "        self.truncated_svd = None\n",
    "    \n",
    "    def gen_train_test(self, top_tags, max_features, n_components):\n",
    "        \n",
    "        # Apply a train test split on the data\n",
    "        X_train, X_test, y_train, y_test = train_test_split(\n",
    "            self.X_values,\n",
    "            self.y_values,\n",
    "            test_size=0.2,\n",
    "            random_state=42)\n",
    "        \n",
    "        # y processing\n",
    "\n",
    "        # Calculate the tags frequencies\n",
    "        y_frequencies = gen_frequencies(y_train)\n",
    "        # Extract the top tags\n",
    "        self.top_tags = extract_top(y_frequencies, top_tags)\n",
    "        # Keep only the top tags from the target\n",
    "        y_train = keep_top(y_train, self.top_tags)\n",
    "        y_test = keep_top(y_test, self.top_tags)\n",
    "\n",
    "        # Drop the empty rows we might have generated\n",
    "        train_drop = y_train[y_train.map(len)<3].keys()\n",
    "        test_drop = y_test[y_test.map(len)<3].keys()\n",
    "        y_train.drop(train_drop,inplace=True)\n",
    "        y_test.drop(test_drop,inplace=True)\n",
    "\n",
    "        self.X_train_raw = X_train\n",
    "        self.X_test_raw = X_test\n",
    "        self.y_train_raw = y_train\n",
    "        self.y_test_raw = y_test\n",
    "\n",
    "        print(f'Dropped Train samples: {train_drop.shape[0]}')\n",
    "        print(f'Dropped Test samples: {test_drop.shape[0]}')\n",
    "\n",
    "        # Binarize the target\n",
    "        self.multi_label_binarizer = MultiLabelBinarizer(classes=self.top_tags)\n",
    "        y_train_matrix = self.multi_label_binarizer.fit_transform(y_train)\n",
    "        y_test_matrix = self.multi_label_binarizer.transform(y_test)\n",
    "        \n",
    "        # Convert the matrixes back to pandas DataFrames\n",
    "        tags = self.multi_label_binarizer.classes_\n",
    "        y_train = pd.DataFrame(\n",
    "            data=y_train_matrix,\n",
    "            index=y_train.index,\n",
    "            columns=tags)\n",
    "        y_test = pd.DataFrame(\n",
    "            data=y_test_matrix,\n",
    "            index=y_test.index,\n",
    "            columns=tags)\n",
    "\n",
    "        # Extract the y data to join predictions later\n",
    "        self.test_df = self.dataset.loc[y_test.index, :]\n",
    "\n",
    "        # X processing\n",
    "\n",
    "        X_train.drop(train_drop, inplace=True)\n",
    "        X_test.drop(test_drop, inplace=True)\n",
    "        # Keep the terms with the top frequencies using the max_features arg\n",
    "        self.tfid_vectorizer = TfidfVectorizer(max_features=max_features)\n",
    "        # Fit and transform with the Tfid vectorizer on X train\n",
    "        X_train_matrix = self.tfid_vectorizer.fit_transform(X_train)\n",
    "        # Transform X test\n",
    "        X_test_matrix = self.tfid_vectorizer.transform(X_test)\n",
    "        # Apply TruncatedSVD to reduce dimentionality\n",
    "        self.truncated_svd = TruncatedSVD(n_components=n_components)\n",
    "        X_train_matrix = self.truncated_svd.fit_transform(X_train_matrix)\n",
    "        # Transform X test\n",
    "        X_test_matrix = self.truncated_svd.transform(X_test_matrix)\n",
    "\n",
    "        explained_variance = round(sum(\n",
    "            self.truncated_svd.explained_variance_ratio_), 2)\n",
    "        print(f'TruncatedSVD explained variance ratio: {explained_variance}')\n",
    "\n",
    "        # Convert the matrixes back to pandas DataFrames\n",
    "        components = list(range(n_components))\n",
    "        X_train = pd.DataFrame(\n",
    "            data=X_train_matrix,\n",
    "            index=X_train.index,\n",
    "            columns=components)\n",
    "        X_test = pd.DataFrame(\n",
    "            data=X_test_matrix,\n",
    "            index=X_test.index,\n",
    "            columns=components)\n",
    "\n",
    "        print(f'Train size: {X_train.shape[0]}')\n",
    "        print(f'Test size: {X_test.shape[0]}')\n",
    "\n",
    "        return X_train, X_test, y_train, y_test, X_train_matrix, X_test_matrix\n",
    "\n",
    "    def join_predictions(self, name:str, predictions:np.array):\n",
    "\n",
    "        # Use the binarizer to inverse transform the prediction array\n",
    "        predictions = self.multi_label_binarizer.inverse_transform(predictions)\n",
    "        # Add the predictions to the dataset\n",
    "        self.test_df[name] = predictions\n",
    "\n",
    "        return self.test_df[[self.X, self.y, name]]\n",
    "    \n",
    "    def get_predictions(self):\n",
    "\n",
    "        return self.test_df\n",
    "\n",
    "\n",
    "transformer = DatasetTransformer(df, 'Title_Body_tokens', 'Tags_tokens')\n",
    "X_train, X_test, y_train, y_test, X_train_matrix, X_test_matrix = transformer.gen_train_test(200, 600, 350)"
   ]
  },
  {
   "cell_type": "markdown",
   "metadata": {},
   "source": [
    "We plot the scree plot of the *TruncatedSVD*, which is considered fit once it reaches an explained variance ratio of 0.8:"
   ]
  },
  {
   "cell_type": "code",
   "execution_count": null,
   "metadata": {},
   "outputs": [
    {
     "data": {
      "image/png": "[encoded data removed]",
      "text/plain": [
       "<Figure size 1008x864 with 1 Axes>"
      ]
     },
     "metadata": {
      "needs_background": "light"
     },
     "output_type": "display_data"
    }
   ],
   "source": [
    "display_scree_plot(transformer.truncated_svd)"
   ]
  },
  {
   "cell_type": "markdown",
   "metadata": {},
   "source": [
    "# Evaluation"
   ]
  },
  {
   "cell_type": "markdown",
   "metadata": {},
   "source": [
    "For each experiment, we will calculate the following metrics:\n",
    "* *weighted Recall*: our objective is to minimize the number of *false negatives*, which would result in a higher *recall* score. We are facing and imbalanced repartition of classes, therefore we will use the *weighted* version of the score.\n",
    "* *ratio of tags hit*: in combination with the *recall score*, we will compute the number of tags that have been found amongst the filtered *tags*, the equivalent of the accuracy for each document, and calcalute its *mean* as the *ratio of tags hit*,\n",
    "* *inference time*: the average time to infer a document of the *test set* in seconds,\n",
    "* *model size*: the size of the model in megabytes.\n",
    "\n",
    "We create a class to evaluate and keep track of our experiments results:"
   ]
  },
  {
   "cell_type": "code",
   "execution_count": null,
   "metadata": {},
   "outputs": [],
   "source": [
    "def count_values(y_true, y_hat):\n",
    "\n",
    "    y_true = y_true.split(',')\n",
    "    y_hat = list(y_hat)\n",
    "    score_max = len(y_true)\n",
    "    score = 0\n",
    "\n",
    "    for pred in y_hat:\n",
    "\n",
    "        if pred in y_true:\n",
    "\n",
    "            score += 1\n",
    "\n",
    "    return score / score_max\n",
    "\n",
    "\n",
    "class PerformanceReport():\n",
    "\n",
    "    def __init__(self):\n",
    "        \n",
    "        # Initialize our report DataFrame\n",
    "        self.columns = [\n",
    "            'Recall',\n",
    "            'Inference_time',\n",
    "            'Model_size_mb',\n",
    "            'Tags_hit']\n",
    "        self.report = pd.DataFrame(columns=self.columns)\n",
    "\n",
    "    def evaluate(self, name:str, model, X_test:np.array, y_true:np.array, y_pred:np.array):\n",
    "        \n",
    "        # Predict with the model\n",
    "        tic()\n",
    "        model.predict(X_test)\n",
    "        # Calculate time spent\n",
    "        inference_time = toc() / X_test.shape[0]\n",
    "        # Dump model to disk\n",
    "        dump(model, './data/model.joblib')\n",
    "        # Get model file size\n",
    "        model_size = round(os.path.getsize('./data/model.joblib') / 1000000)\n",
    "        # Calculate the scores\n",
    "        # precision = precision_score(y_true, y_pred, average='weighted')\n",
    "        recall = recall_score(y_true, y_pred, average='weighted')\n",
    "        # f1 = f1_score(y_true, y_pred, average='weighted')\n",
    "\n",
    "        # Append the scores to our report\n",
    "        self.report.loc[name,self.columns[:-1]] = [\n",
    "            # precision,\n",
    "            recall,\n",
    "            # f1,\n",
    "            inference_time,\n",
    "            model_size]\n",
    "            \n",
    "        print(pd.DataFrame(self.report.loc[name,self.columns[:-1]]))\n",
    "\n",
    "    def tags_ratio(self, name:str, df:pd.DataFrame, y_true:str):\n",
    "\n",
    "        scores = df.apply(lambda x: count_values(x[y_true], x[name]), axis=1)\n",
    "        self.report.loc[name, 'Tags_hit'] = np.mean(scores)\n",
    "        print(f\"Ratio of tags hit: {round(self.report.loc[name,'Tags_hit'], 4)}\")\n",
    "\n",
    "    def get(self):\n",
    "\n",
    "        return self.report\n",
    "\n",
    "\n",
    "report = PerformanceReport()"
   ]
  },
  {
   "cell_type": "markdown",
   "metadata": {},
   "source": [
    "# Modelling"
   ]
  },
  {
   "cell_type": "markdown",
   "metadata": {},
   "source": [
    "## Unsupervised"
   ]
  },
  {
   "cell_type": "markdown",
   "metadata": {},
   "source": [
    "### LDA"
   ]
  },
  {
   "cell_type": "markdown",
   "metadata": {},
   "source": [
    "For the preprocessing of the data used by the LDA model, we are going to use the included *gensim* library methods.\\\n",
    "Moreover, we will not be able to calculate the standard metrics that we choosed to compare the *supervised machine learning algorithms* as we do not use the *y* data for predicting.\n",
    "\n",
    "We create a dictionnary with the data and convert it to a bag of words corpus:"
   ]
  },
  {
   "cell_type": "code",
   "execution_count": null,
   "metadata": {},
   "outputs": [],
   "source": [
    "texts_train = transformer.X_train_raw.str.split(',')\n",
    "dictionary = corpora.Dictionary(texts_train)\n",
    "dictionary.filter_extremes(no_below=1000)\n",
    "corpus_train = [dictionary.doc2bow(text) for text in texts_train]\n",
    "tfidf = TfidfModel(corpus_train)\n",
    "corpus_train = [tfidf[text] for text in corpus_train]"
   ]
  },
  {
   "cell_type": "markdown",
   "metadata": {},
   "source": [
    "We test various N topics in order to calculate the coherence and perplexity scores:"
   ]
  },
  {
   "cell_type": "code",
   "execution_count": null,
   "metadata": {},
   "outputs": [
    {
     "data": {
      "application/vnd.plotly.v1+json": {
       "config": {
        "plotlyServerURL": "https://plot.ly"
       },
       "data": [
        {
         "name": "Coherence",
         "type": "scatter",
         "x": [
          10,
          20,
          30,
          40,
          50,
          60,
          70,
          80,
          90,
          100,
          110,
          120,
          130,
          140,
          150,
          160,
          170,
          180,
          190
         ],
         "xaxis": "x",
         "y": [
          0.42503433012180825,
          0.4259985737316344,
          0.42419773184534304,
          0.4309048470679822,
          0.43186922849929815,
          0.431005389577345,
          0.436977516227667,
          0.43127116220842554,
          0.42917836296444145,
          0.4132594050600751,
          0.40244196624845896,
          0.3941945415876971,
          0.3174870044296389,
          0.31748700442963895,
          0.31748700442963895,
          0.31748700442963884,
          0.3174870044296389,
          0.3174870044296389,
          0.3174870044296389
         ],
         "yaxis": "y"
        },
        {
         "name": "Perplexity",
         "type": "scatter",
         "x": [
          10,
          20,
          30,
          40,
          50,
          60,
          70,
          80,
          90,
          100,
          110,
          120,
          130,
          140,
          150,
          160,
          170,
          180,
          190
         ],
         "xaxis": "x",
         "y": [
          -5.389525386428165,
          -5.673061999590301,
          -5.887579491354647,
          -6.075420437381206,
          -6.31045169038179,
          -6.510073490880849,
          -6.913834178532825,
          -7.291268735367926,
          -8.000612211793722,
          -8.681161853696814,
          -14.017087018356342,
          -51.661625898417995,
          -254.37409973144523,
          -274.1473083496109,
          -293.9293823242192,
          -313.7191467285187,
          -333.51556396484364,
          -353.31790161132847,
          -373.12536621094114
         ],
         "yaxis": "y2"
        }
       ],
       "layout": {
        "height": 600,
        "template": {
         "data": {
          "bar": [
           {
            "error_x": {
             "color": "#2a3f5f"
            },
            "error_y": {
             "color": "#2a3f5f"
            },
            "marker": {
             "line": {
              "color": "#E5ECF6",
              "width": 0.5
             },
             "pattern": {
              "fillmode": "overlay",
              "size": 10,
              "solidity": 0.2
             }
            },
            "type": "bar"
           }
          ],
          "barpolar": [
           {
            "marker": {
             "line": {
              "color": "#E5ECF6",
              "width": 0.5
             },
             "pattern": {
              "fillmode": "overlay",
              "size": 10,
              "solidity": 0.2
             }
            },
            "type": "barpolar"
           }
          ],
          "carpet": [
           {
            "aaxis": {
             "endlinecolor": "#2a3f5f",
             "gridcolor": "white",
             "linecolor": "white",
             "minorgridcolor": "white",
             "startlinecolor": "#2a3f5f"
            },
            "baxis": {
             "endlinecolor": "#2a3f5f",
             "gridcolor": "white",
             "linecolor": "white",
             "minorgridcolor": "white",
             "startlinecolor": "#2a3f5f"
            },
            "type": "carpet"
           }
          ],
          "choropleth": [
           {
            "colorbar": {
             "outlinewidth": 0,
             "ticks": ""
            },
            "type": "choropleth"
           }
          ],
          "contour": [
           {
            "colorbar": {
             "outlinewidth": 0,
             "ticks": ""
            },
            "colorscale": [
             [
              0,
              "#0d0887"
             ],
             [
              0.1111111111111111,
              "#46039f"
             ],
             [
              0.2222222222222222,
              "#7201a8"
             ],
             [
              0.3333333333333333,
              "#9c179e"
             ],
             [
              0.4444444444444444,
              "#bd3786"
             ],
             [
              0.5555555555555556,
              "#d8576b"
             ],
             [
              0.6666666666666666,
              "#ed7953"
             ],
             [
              0.7777777777777778,
              "#fb9f3a"
             ],
             [
              0.8888888888888888,
              "#fdca26"
             ],
             [
              1,
              "#f0f921"
             ]
            ],
            "type": "contour"
           }
          ],
          "contourcarpet": [
           {
            "colorbar": {
             "outlinewidth": 0,
             "ticks": ""
            },
            "type": "contourcarpet"
           }
          ],
          "heatmap": [
           {
            "colorbar": {
             "outlinewidth": 0,
             "ticks": ""
            },
            "colorscale": [
             [
              0,
              "#0d0887"
             ],
             [
              0.1111111111111111,
              "#46039f"
             ],
             [
              0.2222222222222222,
              "#7201a8"
             ],
             [
              0.3333333333333333,
              "#9c179e"
             ],
             [
              0.4444444444444444,
              "#bd3786"
             ],
             [
              0.5555555555555556,
              "#d8576b"
             ],
             [
              0.6666666666666666,
              "#ed7953"
             ],
             [
              0.7777777777777778,
              "#fb9f3a"
             ],
             [
              0.8888888888888888,
              "#fdca26"
             ],
             [
              1,
              "#f0f921"
             ]
            ],
            "type": "heatmap"
           }
          ],
          "heatmapgl": [
           {
            "colorbar": {
             "outlinewidth": 0,
             "ticks": ""
            },
            "colorscale": [
             [
              0,
              "#0d0887"
             ],
             [
              0.1111111111111111,
              "#46039f"
             ],
             [
              0.2222222222222222,
              "#7201a8"
             ],
             [
              0.3333333333333333,
              "#9c179e"
             ],
             [
              0.4444444444444444,
              "#bd3786"
             ],
             [
              0.5555555555555556,
              "#d8576b"
             ],
             [
              0.6666666666666666,
              "#ed7953"
             ],
             [
              0.7777777777777778,
              "#fb9f3a"
             ],
             [
              0.8888888888888888,
              "#fdca26"
             ],
             [
              1,
              "#f0f921"
             ]
            ],
            "type": "heatmapgl"
           }
          ],
          "histogram": [
           {
            "marker": {
             "pattern": {
              "fillmode": "overlay",
              "size": 10,
              "solidity": 0.2
             }
            },
            "type": "histogram"
           }
          ],
          "histogram2d": [
           {
            "colorbar": {
             "outlinewidth": 0,
             "ticks": ""
            },
            "colorscale": [
             [
              0,
              "#0d0887"
             ],
             [
              0.1111111111111111,
              "#46039f"
             ],
             [
              0.2222222222222222,
              "#7201a8"
             ],
             [
              0.3333333333333333,
              "#9c179e"
             ],
             [
              0.4444444444444444,
              "#bd3786"
             ],
             [
              0.5555555555555556,
              "#d8576b"
             ],
             [
              0.6666666666666666,
              "#ed7953"
             ],
             [
              0.7777777777777778,
              "#fb9f3a"
             ],
             [
              0.8888888888888888,
              "#fdca26"
             ],
             [
              1,
              "#f0f921"
             ]
            ],
            "type": "histogram2d"
           }
          ],
          "histogram2dcontour": [
           {
            "colorbar": {
             "outlinewidth": 0,
             "ticks": ""
            },
            "colorscale": [
             [
              0,
              "#0d0887"
             ],
             [
              0.1111111111111111,
              "#46039f"
             ],
             [
              0.2222222222222222,
              "#7201a8"
             ],
             [
              0.3333333333333333,
              "#9c179e"
             ],
             [
              0.4444444444444444,
              "#bd3786"
             ],
             [
              0.5555555555555556,
              "#d8576b"
             ],
             [
              0.6666666666666666,
              "#ed7953"
             ],
             [
              0.7777777777777778,
              "#fb9f3a"
             ],
             [
              0.8888888888888888,
              "#fdca26"
             ],
             [
              1,
              "#f0f921"
             ]
            ],
            "type": "histogram2dcontour"
           }
          ],
          "mesh3d": [
           {
            "colorbar": {
             "outlinewidth": 0,
             "ticks": ""
            },
            "type": "mesh3d"
           }
          ],
          "parcoords": [
           {
            "line": {
             "colorbar": {
              "outlinewidth": 0,
              "ticks": ""
             }
            },
            "type": "parcoords"
           }
          ],
          "pie": [
           {
            "automargin": true,
            "type": "pie"
           }
          ],
          "scatter": [
           {
            "marker": {
             "colorbar": {
              "outlinewidth": 0,
              "ticks": ""
             }
            },
            "type": "scatter"
           }
          ],
          "scatter3d": [
           {
            "line": {
             "colorbar": {
              "outlinewidth": 0,
              "ticks": ""
             }
            },
            "marker": {
             "colorbar": {
              "outlinewidth": 0,
              "ticks": ""
             }
            },
            "type": "scatter3d"
           }
          ],
          "scattercarpet": [
           {
            "marker": {
             "colorbar": {
              "outlinewidth": 0,
              "ticks": ""
             }
            },
            "type": "scattercarpet"
           }
          ],
          "scattergeo": [
           {
            "marker": {
             "colorbar": {
              "outlinewidth": 0,
              "ticks": ""
             }
            },
            "type": "scattergeo"
           }
          ],
          "scattergl": [
           {
            "marker": {
             "colorbar": {
              "outlinewidth": 0,
              "ticks": ""
             }
            },
            "type": "scattergl"
           }
          ],
          "scattermapbox": [
           {
            "marker": {
             "colorbar": {
              "outlinewidth": 0,
              "ticks": ""
             }
            },
            "type": "scattermapbox"
           }
          ],
          "scatterpolar": [
           {
            "marker": {
             "colorbar": {
              "outlinewidth": 0,
              "ticks": ""
             }
            },
            "type": "scatterpolar"
           }
          ],
          "scatterpolargl": [
           {
            "marker": {
             "colorbar": {
              "outlinewidth": 0,
              "ticks": ""
             }
            },
            "type": "scatterpolargl"
           }
          ],
          "scatterternary": [
           {
            "marker": {
             "colorbar": {
              "outlinewidth": 0,
              "ticks": ""
             }
            },
            "type": "scatterternary"
           }
          ],
          "surface": [
           {
            "colorbar": {
             "outlinewidth": 0,
             "ticks": ""
            },
            "colorscale": [
             [
              0,
              "#0d0887"
             ],
             [
              0.1111111111111111,
              "#46039f"
             ],
             [
              0.2222222222222222,
              "#7201a8"
             ],
             [
              0.3333333333333333,
              "#9c179e"
             ],
             [
              0.4444444444444444,
              "#bd3786"
             ],
             [
              0.5555555555555556,
              "#d8576b"
             ],
             [
              0.6666666666666666,
              "#ed7953"
             ],
             [
              0.7777777777777778,
              "#fb9f3a"
             ],
             [
              0.8888888888888888,
              "#fdca26"
             ],
             [
              1,
              "#f0f921"
             ]
            ],
            "type": "surface"
           }
          ],
          "table": [
           {
            "cells": {
             "fill": {
              "color": "#EBF0F8"
             },
             "line": {
              "color": "white"
             }
            },
            "header": {
             "fill": {
              "color": "#C8D4E3"
             },
             "line": {
              "color": "white"
             }
            },
            "type": "table"
           }
          ]
         },
         "layout": {
          "annotationdefaults": {
           "arrowcolor": "#2a3f5f",
           "arrowhead": 0,
           "arrowwidth": 1
          },
          "autotypenumbers": "strict",
          "coloraxis": {
           "colorbar": {
            "outlinewidth": 0,
            "ticks": ""
           }
          },
          "colorscale": {
           "diverging": [
            [
             0,
             "#8e0152"
            ],
            [
             0.1,
             "#c51b7d"
            ],
            [
             0.2,
             "#de77ae"
            ],
            [
             0.3,
             "#f1b6da"
            ],
            [
             0.4,
             "#fde0ef"
            ],
            [
             0.5,
             "#f7f7f7"
            ],
            [
             0.6,
             "#e6f5d0"
            ],
            [
             0.7,
             "#b8e186"
            ],
            [
             0.8,
             "#7fbc41"
            ],
            [
             0.9,
             "#4d9221"
            ],
            [
             1,
             "#276419"
            ]
           ],
           "sequential": [
            [
             0,
             "#0d0887"
            ],
            [
             0.1111111111111111,
             "#46039f"
            ],
            [
             0.2222222222222222,
             "#7201a8"
            ],
            [
             0.3333333333333333,
             "#9c179e"
            ],
            [
             0.4444444444444444,
             "#bd3786"
            ],
            [
             0.5555555555555556,
             "#d8576b"
            ],
            [
             0.6666666666666666,
             "#ed7953"
            ],
            [
             0.7777777777777778,
             "#fb9f3a"
            ],
            [
             0.8888888888888888,
             "#fdca26"
            ],
            [
             1,
             "#f0f921"
            ]
           ],
           "sequentialminus": [
            [
             0,
             "#0d0887"
            ],
            [
             0.1111111111111111,
             "#46039f"
            ],
            [
             0.2222222222222222,
             "#7201a8"
            ],
            [
             0.3333333333333333,
             "#9c179e"
            ],
            [
             0.4444444444444444,
             "#bd3786"
            ],
            [
             0.5555555555555556,
             "#d8576b"
            ],
            [
             0.6666666666666666,
             "#ed7953"
            ],
            [
             0.7777777777777778,
             "#fb9f3a"
            ],
            [
             0.8888888888888888,
             "#fdca26"
            ],
            [
             1,
             "#f0f921"
            ]
           ]
          },
          "colorway": [
           "#636efa",
           "#EF553B",
           "#00cc96",
           "#ab63fa",
           "#FFA15A",
           "#19d3f3",
           "#FF6692",
           "#B6E880",
           "#FF97FF",
           "#FECB52"
          ],
          "font": {
           "color": "#2a3f5f"
          },
          "geo": {
           "bgcolor": "white",
           "lakecolor": "white",
           "landcolor": "#E5ECF6",
           "showlakes": true,
           "showland": true,
           "subunitcolor": "white"
          },
          "hoverlabel": {
           "align": "left"
          },
          "hovermode": "closest",
          "mapbox": {
           "style": "light"
          },
          "paper_bgcolor": "white",
          "plot_bgcolor": "#E5ECF6",
          "polar": {
           "angularaxis": {
            "gridcolor": "white",
            "linecolor": "white",
            "ticks": ""
           },
           "bgcolor": "#E5ECF6",
           "radialaxis": {
            "gridcolor": "white",
            "linecolor": "white",
            "ticks": ""
           }
          },
          "scene": {
           "xaxis": {
            "backgroundcolor": "#E5ECF6",
            "gridcolor": "white",
            "gridwidth": 2,
            "linecolor": "white",
            "showbackground": true,
            "ticks": "",
            "zerolinecolor": "white"
           },
           "yaxis": {
            "backgroundcolor": "#E5ECF6",
            "gridcolor": "white",
            "gridwidth": 2,
            "linecolor": "white",
            "showbackground": true,
            "ticks": "",
            "zerolinecolor": "white"
           },
           "zaxis": {
            "backgroundcolor": "#E5ECF6",
            "gridcolor": "white",
            "gridwidth": 2,
            "linecolor": "white",
            "showbackground": true,
            "ticks": "",
            "zerolinecolor": "white"
           }
          },
          "shapedefaults": {
           "line": {
            "color": "#2a3f5f"
           }
          },
          "ternary": {
           "aaxis": {
            "gridcolor": "white",
            "linecolor": "white",
            "ticks": ""
           },
           "baxis": {
            "gridcolor": "white",
            "linecolor": "white",
            "ticks": ""
           },
           "bgcolor": "#E5ECF6",
           "caxis": {
            "gridcolor": "white",
            "linecolor": "white",
            "ticks": ""
           }
          },
          "title": {
           "x": 0.05
          },
          "xaxis": {
           "automargin": true,
           "gridcolor": "white",
           "linecolor": "white",
           "ticks": "",
           "title": {
            "standoff": 15
           },
           "zerolinecolor": "white",
           "zerolinewidth": 2
          },
          "yaxis": {
           "automargin": true,
           "gridcolor": "white",
           "linecolor": "white",
           "ticks": "",
           "title": {
            "standoff": 15
           },
           "zerolinecolor": "white",
           "zerolinewidth": 2
          }
         }
        },
        "title": {
         "text": "Scores per n topics"
        },
        "xaxis": {
         "anchor": "y",
         "domain": [
          0,
          0.94
         ],
         "title": {
          "text": "n topics"
         }
        },
        "yaxis": {
         "anchor": "x",
         "domain": [
          0,
          1
         ],
         "title": {
          "text": "Coherence score"
         }
        },
        "yaxis2": {
         "anchor": "x",
         "overlaying": "y",
         "side": "right",
         "title": {
          "text": "Perplexity score"
         }
        }
       }
      }
     },
     "metadata": {},
     "output_type": "display_data"
    }
   ],
   "source": [
    "topics_range = list(range(10, 200, 10))\n",
    "coherence_scores = list()\n",
    "perplexity_scores = list()\n",
    "models = list()\n",
    "\n",
    "for n_topics in topics_range:\n",
    "\n",
    "    lda_model = LdaMulticore(\n",
    "        corpus=corpus_train,\n",
    "        id2word=dictionary,\n",
    "        num_topics=n_topics,\n",
    "        random_state=42,\n",
    "        passes=10,\n",
    "        workers=24)\n",
    "    models.append(lda_model)\n",
    "\n",
    "    perplexity_scores.append(lda_model.log_perplexity(corpus_train))\n",
    "\n",
    "    coherence_model = CoherenceModel(\n",
    "        model=lda_model, \n",
    "        texts=texts_train,\n",
    "        dictionary=dictionary,\n",
    "        coherence='c_v')\n",
    "    coherence_scores.append(coherence_model.get_coherence())\n",
    "\n",
    "fig = make_subplots(specs=[[{\"secondary_y\": True}]])\n",
    "fig.add_trace(\n",
    "    go.Scatter(x=topics_range, y=coherence_scores, name='Coherence'),\n",
    "    secondary_y=False)\n",
    "fig.add_trace(\n",
    "    go.Scatter(x=topics_range, y=perplexity_scores, name='Perplexity'),\n",
    "    secondary_y=True)\n",
    "fig.update_layout(title_text=f\"Scores per n topics\")\n",
    "fig.update_xaxes(title_text='n topics')\n",
    "fig.update_yaxes(title_text=\"Coherence score\", secondary_y=False)\n",
    "fig.update_yaxes(title_text=\"Perplexity score\", secondary_y=True)\n",
    "fig.update_layout(height=600)\n",
    "fig.show()"
   ]
  },
  {
   "cell_type": "markdown",
   "metadata": {},
   "source": [
    "The coherence score hits its maximum with 60 topics, we fit a model accordingly:"
   ]
  },
  {
   "cell_type": "code",
   "execution_count": null,
   "metadata": {},
   "outputs": [],
   "source": [
    "lda_model = LdaMulticore(\n",
    "    corpus=corpus_train,\n",
    "    id2word=dictionary,\n",
    "    num_topics=80,\n",
    "    random_state=42,\n",
    "    passes=10,\n",
    "    workers=24)"
   ]
  },
  {
   "cell_type": "markdown",
   "metadata": {},
   "source": [
    "We can display the generated *topics* and their *term frequencies* using the pyLDAvis library:"
   ]
  },
  {
   "cell_type": "code",
   "execution_count": null,
   "metadata": {},
   "outputs": [
    {
     "name": "stderr",
     "output_type": "stream",
     "text": [
      "/opt/homebrew/Caskroom/miniforge/base/envs/P5/lib/python3.9/site-packages/pyLDAvis/_prepare.py:246: FutureWarning:\n",
      "\n",
      "In a future version of pandas all arguments of DataFrame.drop except for the argument 'labels' will be keyword-only.\n",
      "\n",
      "/opt/homebrew/Caskroom/miniforge/base/envs/P5/lib/python3.9/site-packages/past/builtins/misc.py:45: DeprecationWarning: the imp module is deprecated in favour of importlib; see the module's documentation for alternative uses\n",
      "  from imp import reload\n",
      "/opt/homebrew/Caskroom/miniforge/base/envs/P5/lib/python3.9/site-packages/past/builtins/misc.py:45: DeprecationWarning: the imp module is deprecated in favour of importlib; see the module's documentation for alternative uses\n",
      "  from imp import reload\n",
      "/opt/homebrew/Caskroom/miniforge/base/envs/P5/lib/python3.9/site-packages/past/builtins/misc.py:45: DeprecationWarning: the imp module is deprecated in favour of importlib; see the module's documentation for alternative uses\n",
      "  from imp import reload\n",
      "/opt/homebrew/Caskroom/miniforge/base/envs/P5/lib/python3.9/site-packages/past/builtins/misc.py:45: DeprecationWarning: the imp module is deprecated in favour of importlib; see the module's documentation for alternative uses\n",
      "  from imp import reload\n",
      "/opt/homebrew/Caskroom/miniforge/base/envs/P5/lib/python3.9/site-packages/past/builtins/misc.py:45: DeprecationWarning: the imp module is deprecated in favour of importlib; see the module's documentation for alternative uses\n",
      "  from imp import reload\n",
      "/opt/homebrew/Caskroom/miniforge/base/envs/P5/lib/python3.9/site-packages/past/builtins/misc.py:45: DeprecationWarning: the imp module is deprecated in favour of importlib; see the module's documentation for alternative uses\n",
      "  from imp import reload\n",
      "/opt/homebrew/Caskroom/miniforge/base/envs/P5/lib/python3.9/site-packages/past/builtins/misc.py:45: DeprecationWarning: the imp module is deprecated in favour of importlib; see the module's documentation for alternative uses\n",
      "  from imp import reload\n",
      "/opt/homebrew/Caskroom/miniforge/base/envs/P5/lib/python3.9/site-packages/past/builtins/misc.py:45: DeprecationWarning: the imp module is deprecated in favour of importlib; see the module's documentation for alternative uses\n",
      "  from imp import reload\n"
     ]
    },
    {
     "data": {
      "text/html": [
       "\n",
       "<link rel=\"stylesheet\" type=\"text/css\" href=\"https://cdn.jsdelivr.net/gh/bmabey/pyLDAvis@3.3.1/pyLDAvis/js/ldavis.v1.0.0.css\">\n",
       "\n",
       "\n",
       "<div id=\"ldavis_el1908163733661282555251829\"></div>\n",
       "<script type=\"text/javascript\">\n",
       "\n",
       "var ldavis_el1908163733661282555251829_data = {\"mdsDat\": {\"x\": [-0.03628150921382447, 0.015848859165598184, -0.02194287348078879, -0.0017193434640322106, -0.07957764326513361, 0.09686061018057474, -0.0325560641127355, 0.035682778735748905, -0.0762674024860168, -0.1457245877069181, -0.04404467133964181, -0.07153845069683576, 0.07889025824245771, -0.15655213186517666, -0.009770265933221426, 0.07788054269074968, 0.04310383243234925, 0.1079989740036739, -0.008414485176012898, -0.10522546406181954, -0.05750913656206158, -0.01411676649589377, 0.02409773646975257, 0.059030060361052274, -0.1147292695611117, 0.07880315173230247, 0.1140094468315757, -0.1375022592024784, 0.1457444422428559, 0.08820315976372849, -0.08920995464240121, -0.0761487626582271, 0.06881268136757884, 0.023987683675787592, -0.027947865628119593, 0.05336685102424396, 0.014980163360225144, -0.04533723961783698, 0.08766484685227854, -0.24946709525716687, 0.030378276807502, 0.03478933781101647, -0.008070174917626625, 0.03673443979409298, 0.07714064534330861, -0.011839296719245242, 0.05598864275985331, 0.02560223033027482, 0.07449609711547488, -0.09052227297471051, -0.026241544740421143, 0.03734371614085178, 0.04157758112841265, 0.03633556487626789, 0.03576600665109181, -0.15540537019676626, 0.014545161541116533, 0.035241964814005065, 0.05137375043189965, 0.13152117040732983, 0.0349963519616246, 0.02166343843279817, 0.034201140736256866, 0.08060394653954837, -0.1278717609248221, -0.0883794931855895, -0.019016063085783262, -0.05116521445947333, 0.08760391064562885, 0.05007265260544251, 0.013438649132346516, 0.036532425713030586, 0.014179375066849102, -0.09018882803846975, 0.006072346486186381, 0.013752615234563528, 0.02138837259337886, -0.019337514671193122, -0.028573337216577854, -0.030111776674554704], \"y\": [0.09298192629762707, 0.027658945922194124, 0.1295543344351481, 0.016367187561434793, 0.0036218750932003638, 0.023786274970653828, -0.001252124188425437, 0.04788609610779014, -0.03231533726370642, -0.12011015760132861, 0.04497659303712893, 0.09888945588952126, 0.050041040384366214, -0.002300381113694043, 0.031226724576759908, 0.02166408995649988, 0.04438598656905954, -0.00110953617143581, -0.0021959095039046374, 0.04537095432746967, -0.01953002573518189, 0.0025816824640245073, -0.02576559026650541, -0.0008616573616746734, -0.03211603327523465, 0.02505507199295281, 0.07247922888445922, -0.0040831890629758815, -0.09181601437611966, 0.030726289255731166, 0.025307233764782475, -0.05079356717535112, 0.028676254849985015, -0.019402231133304366, -0.016818197536397513, -0.07041133933084279, 0.011188647556677407, -0.11657548090886258, -0.07490079379710242, -0.050288193204670456, -0.07459904026915304, 0.02704211212725403, -0.018623915768336375, -0.0904788264795921, 0.009383194119207931, -0.04574065824738376, 0.057856898294018924, -0.06320874642319557, 0.026063389149947637, 0.011769411083809894, -0.06272937845626538, 0.08176794746646908, -0.12535939247544756, -0.015421419590132405, -0.06336664209560727, 0.062042070549772385, -0.09361540144091055, -0.031019581550791497, -0.17034734818102615, 0.011031419061034787, -0.17658200122454976, -0.12229637129651416, -0.06129572264010062, 0.04634900094813128, -0.03259099591689689, 0.06842844508815601, -0.003477611916540406, -0.028610199020684103, 0.06478703568153593, 0.023294940574012227, 0.0316983607401996, 0.08850171305183413, 0.06544341652278048, 0.0536582946391305, 0.07298046302987132, 0.06654860487718146, 0.05921834590192991, 0.08407658729837023, 0.07664984095002592, 0.04899162694770496], \"topics\": [1, 2, 3, 4, 5, 6, 7, 8, 9, 10, 11, 12, 13, 14, 15, 16, 17, 18, 19, 20, 21, 22, 23, 24, 25, 26, 27, 28, 29, 30, 31, 32, 33, 34, 35, 36, 37, 38, 39, 40, 41, 42, 43, 44, 45, 46, 47, 48, 49, 50, 51, 52, 53, 54, 55, 56, 57, 58, 59, 60, 61, 62, 63, 64, 65, 66, 67, 68, 69, 70, 71, 72, 73, 74, 75, 76, 77, 78, 79, 80], \"cluster\": [1, 1, 1, 1, 1, 1, 1, 1, 1, 1, 1, 1, 1, 1, 1, 1, 1, 1, 1, 1, 1, 1, 1, 1, 1, 1, 1, 1, 1, 1, 1, 1, 1, 1, 1, 1, 1, 1, 1, 1, 1, 1, 1, 1, 1, 1, 1, 1, 1, 1, 1, 1, 1, 1, 1, 1, 1, 1, 1, 1, 1, 1, 1, 1, 1, 1, 1, 1, 1, 1, 1, 1, 1, 1, 1, 1, 1, 1, 1, 1], \"Freq\": [2.701021052277381, 2.5549992785261355, 2.39358303033725, 2.293722917337496, 2.2661970178969923, 2.239590807462854, 2.1969491644741135, 2.178474737453699, 2.058646871070118, 2.0429986097957764, 2.0381909012143358, 1.9831101375239273, 1.9814903372634516, 1.9650212569802916, 1.9340185274212354, 1.9280947435902558, 1.837188073766038, 1.8199052562054692, 1.7727805163150325, 1.7413347543809305, 1.7149143708573444, 1.7021992693887156, 1.6995279706101474, 1.6626855591146867, 1.574355284792464, 1.559553691973766, 1.5530612527852226, 1.550074715330201, 1.5223913394118471, 1.5112301331719822, 1.4962831048081124, 1.4790506811029975, 1.461162920637213, 1.3772621820870994, 1.3496873835295249, 1.3480257632151038, 1.3341070343206132, 1.2893351735043332, 1.272240479377541, 1.2593451336457728, 1.2390808168280592, 1.2305001767079096, 1.2214691607722825, 1.159993648446162, 1.1524479830951098, 1.1258632470901657, 1.1127186728942882, 1.1049017058914554, 1.066809569506221, 1.0163097700901669, 1.0094403103640803, 1.0067147406372636, 0.9486279431902, 0.9325366302992723, 0.882395173132133, 0.8351815728742858, 0.7849048192167297, 0.7560789329334224, 0.7410149262605564, 0.6503630408578152, 0.6493366223908154, 0.6147594037798683, 0.5322149698858559, 0.4926836081049139, 0.4775924547347429, 0.41458079927916636, 0.41185715807475376, 0.3971566275396931, 0.3775368174810247, 0.3690580509669236, 0.36657660077449533, 0.3665739151457908, 0.36547063466760615, 0.3647964175352548, 0.3631069405990082, 0.3631069405990082, 0.3631069405990082, 0.3631069405990082, 0.3631069405990082, 0.3631069405990082]}, \"tinfo\": {\"Term\": [\"file\", \"test\", \"type\", \"c++\", \"change\", \"form\", \"list\", \"object\", \"page\", \".net\", \"set\", \"anything\", \"view\", \"query\", \"string\", \"property\", \"java\", \"class\", \"jquery\", \"line\", \"javascript\", \"error\", \"library\", \"table\", \"window\", \"server\", \"value\", \"text\", \"program\", \"part\", \"table\", \"database\", \"data\", \"sql\", \"query\", \"user\", \"value\", \"update\", \"create\", \"add\", \"need\", \"idea\", \"time\", \"solution\", \"server\", \"example\", \"number\", \"lot\", \"change\", \"question\", \"result\", \"way\", \"view\", \"option\", \"problem\", \"thing\", \"edit\", \"get\", \"something\", \"write\", \"like\", \"use\", \"thanks\", \"make\", \"work\", \"type\", \"code\", \"jquery\", \"javascript\", \"page\", \"idea\", \"work\", \"function\", \"http\", \"call\", \"help\", \"solution\", \"make\", \"form\", \"get\", \"something\", \"code\", \"see\", \"problem\", \"thanks\", \"issue\", \"like\", \"data\", \"thing\", \"example\", \"anyone\", \"user\", \"option\", \"know\", \"way\", \"use\", \"error\", \"server\", \"object\", \"file\", \"method\", \"sql\", \"server\", \"database\", \"query\", \"table\", \"data\", \"solution\", \"result\", \"value\", \"use\", \"time\", \"edit\", \"access\", \"update\", \"need\", \"anyone\", \"issue\", \"thing\", \"create\", \"point\", \"problem\", \"idea\", \"find\", \"want\", \".net\", \"see\", \"work\", \"question\", \"make\", \"way\", \"something\", \"error\", \"know\", \"like\", \"get\", \"code\", \"application\", \"example\", \"file\", \"view\", \"create\", \"app\", \"user\", \"issue\", \"point\", \"property\", \"edit\", \"idea\", \"method\", \"add\", \"see\", \"make\", \"thing\", \"thanks\", \"something\", \"work\", \"object\", \"like\", \"code\", \"get\", \"problem\", \"change\", \"help\", \"lot\", \"application\", \"want\", \"page\", \"question\", \"solution\", \"time\", \"way\", \"know\", \"class\", \"use\", \"data\", \"example\", \"file\", \"string\", \"number\", \"case\", \"value\", \"example\", \"method\", \"create\", \"way\", \"something\", \"get\", \"function\", \"object\", \"edit\", \"result\", \"problem\", \"point\", \"like\", \"idea\", \"see\", \"use\", \"code\", \"write\", \"thanks\", \"know\", \"anyone\", \"lot\", \"find\", \"make\", \"work\", \"need\", \"question\", \"type\", \"database\", \"data\", \"file\", \"time\", \"window\", \"application\", \"run\", \"system\", \"edit\", \"user\", \"work\", \"c\", \"app\", \"option\", \"file\", \"make\", \"idea\", \"create\", \"need\", \"like\", \"know\", \"anyone\", \"thanks\", \".net\", \"see\", \"find\", \"use\", \"answer\", \"version\", \"get\", \"code\", \"problem\", \"thing\", \"update\", \"way\", \"solution\", \"time\", \"question\", \"something\", \"error\", \"java\", \"see\", \"application\", \"lot\", \"know\", \"like\", \"method\", \"class\", \"object\", \"use\", \"point\", \"question\", \"code\", \"example\", \"need\", \"time\", \"something\", \"create\", \"case\", \"thing\", \"solution\", \"way\", \"option\", \"anyone\", \"result\", \"get\", \"number\", \"make\", \"update\", \"write\", \"library\", \"find\", \"problem\", \"data\", \"file\", \"work\", \"control\", \"user\", \"form\", \"window\", \"version\", \"solution\", \"property\", \"add\", \"text\", \"point\", \"need\", \"like\", \"application\", \"issue\", \"create\", \"page\", \"idea\", \"update\", \"edit\", \"want\", \"make\", \"problem\", \"know\", \"change\", \"thing\", \"work\", \"way\", \"anyone\", \"something\", \".net\", \"code\", \"file\", \"use\", \"get\", \"thanks\", \"time\", \"method\", \"data\", \"project\", \"function\", \"call\", \"code\", \"c++\", \"time\", \"case\", \"point\", \"something\", \"use\", \"edit\", \"need\", \"example\", \"make\", \"work\", \"solution\", \"question\", \"c\", \"thanks\", \"see\", \"create\", \"write\", \"idea\", \"problem\", \"lot\", \"know\", \"answer\", \"thing\", \"number\", \"class\", \"like\", \"method\", \"way\", \"object\", \"value\", \"get\", \"list\", \"class\", \"method\", \"create\", \"example\", \"use\", \"call\", \"something\", \"code\", \"question\", \"case\", \"make\", \"work\", \"thing\", \"way\", \"see\", \"want\", \"need\", \"problem\", \"idea\", \"type\", \"get\", \"edit\", \"answer\", \"error\", \".net\", \"lot\", \"add\", \"solution\", \"thanks\", \"write\", \"help\", \"function\", \"application\", \"value\", \"name\", \"class\", \"file\", \"get\", \"case\", \"something\", \"user\", \"property\", \"database\", \"number\", \"find\", \"error\", \"string\", \"thing\", \"method\", \"create\", \"know\", \"see\", \"object\", \"need\", \"type\", \"value\", \"example\", \"change\", \"make\", \"list\", \"like\", \"problem\", \"work\", \".net\", \"use\", \"way\", \"data\", \"application\", \"code\", \"query\", \"sql\", \"result\", \"database\", \"table\", \"number\", \"update\", \"return\", \"name\", \"value\", \"case\", \"data\", \"line\", \"point\", \"need\", \"example\", \"time\", \"something\", \"issue\", \"run\", \"idea\", \"way\", \"problem\", \"write\", \"user\", \"see\", \"create\", \"get\", \"use\", \"thing\", \"server\", \"work\", \"question\", \"object\", \"method\", \"like\", \"code\", \"error\", \"web\", \"application\", \"app\", \"server\", \"user\", \"need\", \".net\", \"call\", \"http\", \"anyone\", \"thing\", \"option\", \"lot\", \"page\", \"idea\", \"javascript\", \"solution\", \"run\", \"use\", \"issue\", \"access\", \"create\", \"question\", \"like\", \"something\", \"make\", \"work\", \"project\", \"way\", \"data\", \"time\", \"get\", \"thanks\", \"problem\", \"file\", \"code\", \"property\", \"object\", \"class\", \"value\", \"type\", \"change\", \"method\", \"update\", \"see\", \"data\", \"list\", \"get\", \"edit\", \"want\", \"create\", \"solution\", \"error\", \"like\", \"problem\", \"example\", \"access\", \"use\", \"set\", \"code\", \"thanks\", \"work\", \"way\", \"name\", \"question\", \"something\", \"call\", \"find\", \"make\", \"file\", \"text\", \"line\", \"list\", \"user\", \"number\", \"data\", \"string\", \"file\", \"edit\", \"thanks\", \"get\", \"way\", \"change\", \"like\", \"make\", \"want\", \"example\", \"solution\", \"question\", \"see\", \"case\", \"result\", \"point\", \"issue\", \"value\", \"problem\", \"something\", \"app\", \"idea\", \"use\", \"code\", \"work\", \"create\", \"method\", \"know\", \"application\", \"time\", \"project\", \"solution\", \"file\", \"version\", \"add\", \"library\", \"create\", \"run\", \"anyone\", \"error\", \"know\", \"like\", \"thing\", \"use\", \"problem\", \"find\", \"option\", \"want\", \"point\", \"time\", \"application\", \"make\", \"change\", \"edit\", \"thanks\", \"code\", \"work\", \"question\", \"help\", \"java\", \"class\", \"get\", \"way\", \"something\", \"system\", \"program\", \"run\", \"user\", \"time\", \"window\", \"lot\", \"application\", \"point\", \"thing\", \"anything\", \"anyone\", \"need\", \"solution\", \"data\", \"problem\", \"want\", \"something\", \"use\", \"issue\", \"question\", \"work\", \"see\", \"write\", \"idea\", \"change\", \"case\", \"database\", \"file\", \"know\", \"code\", \"like\", \"example\", \"way\", \"make\", \"server\", \"project\", \"help\", \"page\", \"user\", \"web\", \"http\", \"javascript\", \"issue\", \"problem\", \"see\", \"create\", \"idea\", \"solution\", \"work\", \"thanks\", \"make\", \"time\", \"thing\", \"case\", \"get\", \"anyone\", \"something\", \"update\", \"edit\", \"way\", \"jquery\", \"need\", \"part\", \"app\", \"example\", \"know\", \"find\", \"application\", \"code\", \"like\", \"use\", \"file\", \"program\", \"point\", \"run\", \"time\", \"window\", \"problem\", \"thing\", \"make\", \"data\", \"line\", \"code\", \"know\", \"something\", \"find\", \"write\", \"edit\", \"c\", \"error\", \"c++\", \"thanks\", \"lot\", \"use\", \"case\", \"idea\", \"issue\", \"example\", \"question\", \"see\", \"work\", \"like\", \"way\", \"application\", \"function\", \"method\", \"value\", \"object\", \"return\", \"value\", \"function\", \"result\", \"method\", \"call\", \"type\", \"case\", \"object\", \"edit\", \"make\", \"data\", \"get\", \"see\", \"error\", \"number\", \"problem\", \"example\", \"something\", \"work\", \"code\", \"anything\", \"time\", \"test\", \"issue\", \"app\", \"class\", \"point\", \"string\", \"find\", \"question\", \"way\", \"use\", \"like\", \"test\", \"run\", \"case\", \"class\", \"method\", \"database\", \"code\", \"anyone\", \"project\", \"time\", \"create\", \"idea\", \"see\", \"example\", \"way\", \"make\", \"something\", \"edit\", \"thanks\", \"write\", \"problem\", \"work\", \"object\", \"thing\", \"question\", \"data\", \"access\", \"point\", \"call\", \"know\", \"error\", \"use\", \"get\", \"file\", \"javascript\", \"number\", \"function\", \"point\", \"object\", \"idea\", \"know\", \"example\", \"anyone\", \"solution\", \"thing\", \"create\", \"jquery\", \"get\", \"user\", \"like\", \"work\", \"way\", \"http\", \"library\", \"something\", \"time\", \"code\", \"need\", \"thanks\", \"see\", \"problem\", \"help\", \"find\", \"make\", \"use\", \"question\", \"method\", \"data\", \"file\", \"server\", \"error\", \"problem\", \"idea\", \"code\", \"file\", \"help\", \"line\", \"thanks\", \"see\", \"anyone\", \"get\", \"http\", \"function\", \"please\", \"edit\", \"app\", \"work\", \"thing\", \"run\", \"know\", \"solution\", \"time\", \"c++\", \"case\", \"application\", \"find\", \"object\", \"type\", \"question\", \"use\", \"method\", \"way\", \"class\", \"something\", \"app\", \"user\", \"application\", \"make\", \"time\", \"data\", \"point\", \"thanks\", \"web\", \"create\", \"thing\", \"issue\", \"work\", \"question\", \"use\", \"need\", \"idea\", \"edit\", \"see\", \"help\", \"anyone\", \"problem\", \"get\", \"answer\", \"anything\", \"run\", \"know\", \"code\", \"like\", \"lot\", \"find\", \"way\", \"file\", \"method\", \"something\", \"database\", \"list\", \"object\", \"case\", \"test\", \"way\", \"class\", \"something\", \"get\", \"create\", \"data\", \"like\", \"solution\", \"write\", \"need\", \"thanks\", \"type\", \"use\", \"example\", \"see\", \"idea\", \"work\", \"make\", \"method\", \"c\", \"lot\", \"code\", \"find\", \"edit\", \"help\", \"property\", \"time\", \"problem\", \"know\", \"question\", \"library\", \"c++\", \"project\", \"http\", \"need\", \"option\", \"anyone\", \"version\", \"c\", \"application\", \"use\", \"lot\", \"want\", \"something\", \"system\", \"file\", \"write\", \"like\", \"find\", \"window\", \"case\", \"see\", \"thing\", \"solution\", \"work\", \"know\", \"question\", \"anything\", \"part\", \"java\", \"problem\", \"class\", \"code\", \"way\", \"thanks\", \"time\", \"example\", \"server\", \"web\", \"http\", \"issue\", \"application\", \"point\", \"time\", \"data\", \"idea\", \"user\", \"run\", \"anyone\", \"file\", \"need\", \"problem\", \"use\", \"help\", \"database\", \"know\", \"work\", \"app\", \"please\", \"error\", \"window\", \"sql\", \"thanks\", \"thing\", \"anything\", \"number\", \"find\", \"like\", \"get\", \"code\", \"way\", \"page\", \"question\", \"object\", \"class\", \"create\", \"method\", \"case\", \"see\", \"type\", \"idea\", \"way\", \"example\", \"need\", \"property\", \"something\", \"question\", \"thing\", \"use\", \"data\", \"issue\", \"code\", \"point\", \"lot\", \"add\", \"time\", \"return\", \"problem\", \"access\", \"like\", \"part\", \"know\", \"thanks\", \"work\", \"get\", \"result\", \"error\", \"value\", \"java\", \"make\", \"file\", \"create\", \"way\", \"user\", \"idea\", \"get\", \"solution\", \"example\", \"like\", \"time\", \"problem\", \"know\", \"data\", \"work\", \"code\", \"use\", \"application\", \"write\", \"case\", \"see\", \"question\", \"issue\", \"change\", \"make\", \"name\", \"result\", \"page\", \"class\", \"update\", \"thing\", \"list\", \"database\", \"application\", \"data\", \"create\", \"user\", \"use\", \"lot\", \"time\", \"way\", \"problem\", \"like\", \"idea\", \"issue\", \"run\", \"solution\", \"file\", \"web\", \"work\", \"see\", \"know\", \"server\", \"option\", \"question\", \"thanks\", \"edit\", \"need\", \"something\", \"anyone\", \"make\", \"app\", \"code\", \"get\", \"value\", \"javascript\", \"edit\", \"data\", \"see\", \"get\", \"time\", \"case\", \"point\", \"use\", \"solution\", \"like\", \"work\", \"problem\", \"example\", \"code\", \"way\", \"make\", \"something\", \"know\", \"question\", \"function\", \"idea\", \"number\", \"string\", \"thanks\", \"database\", \"help\", \"find\", \"page\", \"user\", \"method\", \"call\", \"method\", \"function\", \"object\", \"case\", \"code\", \"point\", \"get\", \"time\", \"work\", \"something\", \"question\", \"create\", \"way\", \"issue\", \"update\", \"make\", \"need\", \"answer\", \"thing\", \"example\", \"number\", \"see\", \"know\", \"like\", \"application\", \"use\", \"result\", \"idea\", \"want\", \"problem\", \"class\", \"data\", \"thanks\", \"access\", \"user\", \"database\", \"data\", \"web\", \"application\", \"app\", \"file\", \"case\", \"system\", \"create\", \"know\", \"want\", \"anyone\", \"point\", \"server\", \"use\", \"way\", \"idea\", \"update\", \"time\", \"lot\", \"question\", \"see\", \"thanks\", \"problem\", \"like\", \"example\", \"get\", \"thing\", \"solution\", \"code\", \"work\", \"class\", \"make\", \"method\", \"line\", \"file\", \"code\", \"make\", \"number\", \"case\", \"thanks\", \"something\", \"work\", \"example\", \"problem\", \"see\", \"find\", \"idea\", \"edit\", \"thing\", \"text\", \"anyone\", \"data\", \"need\", \"point\", \"way\", \"time\", \"help\", \"like\", \"name\", \"database\", \"http\", \"know\", \"want\", \"question\", \"get\", \"use\", \"c\", \"function\", \"code\", \"example\", \"edit\", \"know\", \"program\", \"something\", \"need\", \"use\", \"time\", \"idea\", \"library\", \"question\", \"issue\", \"anyone\", \"result\", \"line\", \"thing\", \"return\", \"error\", \"thanks\", \"get\", \"call\", \"make\", \"point\", \"write\", \"create\", \"like\", \"way\", \"method\", \"class\", \"file\", \"data\", \"object\", \"application\", \"problem\", \"http\", \"question\", \"answer\", \"see\", \"example\", \"thanks\", \"work\", \"solution\", \"create\", \"use\", \"edit\", \"anyone\", \"case\", \"issue\", \"thing\", \"make\", \"idea\", \"get\", \"like\", \"code\", \"problem\", \"way\", \"user\", \"web\", \"server\", \"something\", \"know\", \"application\", \"option\", \"anything\", \"data\", \"time\", \"error\", \"file\", \".net\", \"library\", \"application\", \"make\", \"use\", \"work\", \"code\", \"solution\", \"way\", \"version\", \"example\", \"see\", \"find\", \"lot\", \"thing\", \"edit\", \"answer\", \"issue\", \"something\", \"problem\", \"question\", \"know\", \"class\", \"project\", \"c\", \"point\", \"case\", \"option\", \"data\", \"part\", \"time\", \"get\", \"object\", \"method\", \"like\", \"file\", \"app\", \"answer\", \"question\", \"time\", \"edit\", \"part\", \"point\", \"case\", \"example\", \"need\", \"thing\", \"know\", \"solution\", \"thanks\", \"find\", \"work\", \"use\", \"way\", \"make\", \"problem\", \"code\", \"idea\", \"update\", \"type\", \"lot\", \"see\", \"get\", \"something\", \"like\", \"class\", \"set\", \"change\", \"object\", \"please\", \"help\", \"know\", \"project\", \"point\", \"thanks\", \"anyone\", \"lot\", \"edit\", \"http\", \"error\", \"issue\", \"idea\", \"question\", \"code\", \"answer\", \"problem\", \"work\", \"create\", \"application\", \"use\", \"thing\", \"example\", \"see\", \"solution\", \"find\", \"set\", \"run\", \"get\", \"need\", \"file\", \"class\", \"time\", \"like\", \"type\", \"data\", \"value\", \"class\", \"c++\", \"example\", \"database\", \"object\", \"c\", \"use\", \"case\", \"code\", \"see\", \"string\", \"like\", \"know\", \"anyone\", \"make\", \"way\", \"method\", \"edit\", \"something\", \"question\", \"get\", \"property\", \"add\", \"function\", \"result\", \"create\", \"option\", \"error\", \"work\", \"problem\", \"c++\", \"c\", \"thing\", \"project\", \"code\", \"want\", \"question\", \"use\", \"program\", \"solution\", \"class\", \"time\", \"lot\", \"function\", \"library\", \"create\", \"make\", \"know\", \"example\", \"version\", \"something\", \"thanks\", \"problem\", \"application\", \"way\", \"anyone\", \"app\", \"data\", \"need\", \"call\", \"file\", \"work\", \"get\", \"form\", \"user\", \"window\", \"data\", \"text\", \"control\", \"problem\", \"something\", \"way\", \"work\", \"code\", \"idea\", \"update\", \"see\", \"create\", \"example\", \"application\", \"get\", \"object\", \"http\", \"file\", \"make\", \"write\", \"part\", \"need\", \"page\", \"solution\", \"lot\", \"thanks\", \"database\", \"method\", \"use\", \"question\", \"class\", \"function\", \"add\", \"create\", \"property\", \"help\", \"please\", \"need\", \"see\", \"something\", \"anyone\", \"know\", \"thing\", \"edit\", \"way\", \"solution\", \"answer\", \"method\", \"file\", \"code\", \"issue\", \"project\", \"problem\", \"update\", \"anything\", \"work\", \"thanks\", \"make\", \"example\", \"use\", \"app\", \"like\", \"get\", \"value\", \"object\", \"question\", \"class\", \"find\", \"edit\", \"anything\", \"anyone\", \"help\", \"solution\", \"thanks\", \"way\", \"know\", \"problem\", \"example\", \"time\", \"code\", \"case\", \"point\", \"something\", \"thing\", \"like\", \"use\", \"work\", \"question\", \"see\", \"get\", \"answer\", \"application\", \"idea\", \"make\", \"method\", \"file\", \"issue\", \"user\", \"run\", \"user\", \"solution\", \"time\", \"idea\", \"create\", \"problem\", \"application\", \"code\", \"like\", \"need\", \"work\", \"see\", \"case\", \"server\", \"want\", \"get\", \"issue\", \"use\", \"app\", \"way\", \"thing\", \"result\", \"number\", \"lot\", \"edit\", \"thanks\", \"window\", \"write\", \"question\", \"know\", \"data\", \"line\", \"file\", \"make\", \"write\", \"case\", \"need\", \"data\", \"lot\", \"code\", \"use\", \"something\", \"create\", \"anyone\", \"make\", \"time\", \"help\", \"example\", \"idea\", \"question\", \"method\", \"like\", \"know\", \"point\", \"way\", \"application\", \"edit\", \"object\", \"file\", \"web\", \"solution\", \"update\", \"thing\", \"thanks\", \"database\", \"class\", \"user\", \"work\", \"option\", \"form\", \"data\", \"want\", \"application\", \"issue\", \"user\", \"like\", \"edit\", \"page\", \"way\", \"solution\", \"create\", \"time\", \"something\", \"use\", \"question\", \"app\", \"need\", \"make\", \"know\", \"jquery\", \"lot\", \"web\", \"database\", \"c++\", \"thing\", \"set\", \"code\", \"help\", \"value\", \"find\", \"file\", \"problem\", \"work\", \"get\", \"thanks\", \"want\", \"example\", \"thing\", \"need\", \"see\", \"know\", \"create\", \"user\", \"solution\", \"code\", \"http\", \"use\", \"like\", \"work\", \"anything\", \"something\", \"lot\", \"way\", \"problem\", \"case\", \"anyone\", \"edit\", \"get\", \"question\", \"application\", \"idea\", \"write\", \"add\", \"data\", \"text\", \"version\", \"file\", \"class\", \"make\", \"time\", \"issue\", \"version\", \"update\", \"anyone\", \"edit\", \"problem\", \"see\", \"question\", \"error\", \"thing\", \"http\", \"application\", \"code\", \"work\", \"case\", \"find\", \"number\", \"point\", \"time\", \"help\", \"option\", \"something\", \"idea\", \"change\", \"solution\", \"know\", \".net\", \"data\", \"app\", \"user\", \"file\", \"get\", \"use\", \"way\", \"database\", \"result\", \"edit\", \"see\", \"return\", \"value\", \"idea\", \"number\", \"code\", \"method\", \"problem\", \"get\", \"answer\", \"data\", \"like\", \"example\", \".net\", \"thing\", \"way\", \"know\", \"case\", \"type\", \"time\", \"question\", \"work\", \"test\", \"database\", \"something\", \"thanks\", \"use\", \"set\", \"set\", \"work\", \"need\", \"thanks\", \"use\", \"way\", \"like\", \"value\", \"code\", \"something\", \"make\", \"time\", \"example\", \"get\", \"know\", \"case\", \"see\", \"create\", \"user\", \"application\", \"anyone\", \"edit\", \"data\", \"database\", \"method\", \"list\", \"answer\", \"option\", \"idea\", \"run\", \"problem\", \"object\", \"http\", \"file\", \"version\", \"error\", \"number\", \"run\", \"time\", \"create\", \"project\", \"server\", \"solution\", \"see\", \"point\", \"system\", \"result\", \"option\", \"like\", \"anyone\", \"need\", \"library\", \"use\", \"anything\", \"window\", \"file\", \"code\", \"set\", \"problem\", \"make\", \"get\", \"idea\", \"update\", \"program\", \"something\", \"data\", \"work\", \"way\", \"application\", \"anyone\", \"make\", \"need\", \"know\", \"work\", \"case\", \"solution\", \"thanks\", \"example\", \"edit\", \"use\", \"code\", \"something\", \"problem\", \"way\", \"application\", \"idea\", \"method\", \"create\", \"update\", \"time\", \"thing\", \"question\", \"issue\", \"error\", \"app\", \"like\", \"get\", \"data\", \"http\", \"file\", \"change\", \"update\", \"value\", \"database\", \"user\", \"problem\", \"set\", \"like\", \"something\", \"example\", \"way\", \"make\", \"see\", \"application\", \"file\", \"code\", \"solution\", \"want\", \"help\", \"thanks\", \"create\", \"time\", \"app\", \"use\", \"work\", \"lot\", \"thing\", \"find\", \"need\", \"get\", \"data\", \"question\", \"server\", \"part\", \"app\", \"work\", \"edit\", \"data\", \"project\", \"get\", \"way\", \"option\", \"create\", \"code\", \"solution\", \"idea\", \"something\", \"object\", \"help\", \"thanks\", \"question\", \"http\", \"write\", \"know\", \"like\", \"file\", \"need\", \"result\", \"anyone\", \"user\", \"use\", \"answer\", \"make\", \"value\", \"number\", \"list\", \"value\", \".net\", \"string\", \"example\", \"method\", \"table\", \"object\", \"find\", \"return\", \"way\", \"problem\", \"get\", \"edit\", \"something\", \"like\", \"name\", \"time\", \"case\", \"see\", \"point\", \"know\", \"question\", \"use\", \"type\", \"create\", \"need\", \"program\", \"idea\", \"set\", \"make\", \"java\", \"function\", \"code\", \"data\", \"file\", \"get\", \"help\", \"work\", \"thanks\", \"see\", \"way\", \"user\", \"know\", \"problem\", \"anyone\", \"code\", \"use\", \"thing\", \"example\", \"like\", \"method\", \"time\", \"idea\", \"something\", \"point\", \"make\", \"find\", \"anything\", \"solution\", \"data\", \"http\", \"issue\", \"case\", \"create\", \"part\", \"application\", \"question\", \"lot\", \"thing\", \"user\", \"time\", \"question\", \"example\", \"point\", \"like\", \"know\", \"see\", \"make\", \"idea\", \"answer\", \"system\", \"way\", \"problem\", \"work\", \"server\", \"use\", \"data\", \"edit\", \"part\", \"case\", \"number\", \"something\", \"application\", \"javascript\", \"code\", \"get\", \"thanks\", \"database\", \"solution\", \"help\", \"thanks\", \"lot\", \"create\", \"problem\", \"code\", \"know\", \"edit\", \"thing\", \"data\", \"example\", \"user\", \"time\", \"use\", \"application\", \"system\", \"please\", \"like\", \"need\", \"test\", \"work\", \"something\", \"class\", \"method\", \"idea\", \"add\", \"file\", \"question\", \"value\", \"write\", \"type\", \"way\", \"update\", \"http\", \"option\", \"page\", \"idea\", \"work\", \"problem\", \"anything\", \"thing\", \"user\", \"make\", \"library\", \"like\", \"file\", \"application\", \"get\", \"anyone\", \"solution\", \"call\", \"create\", \"project\", \"help\", \"use\", \"view\", \"app\", \"javascript\", \"set\", \"issue\", \"know\", \"code\", \"way\", \"thanks\", \"method\", \"example\", \"way\", \"app\", \"something\", \"thanks\", \"example\", \"use\", \"know\", \"thing\", \"edit\", \"web\", \"like\", \"user\", \"create\", \"work\", \"code\", \"application\", \"solution\", \"anyone\", \"see\", \"problem\", \"make\", \"data\", \"point\", \"question\", \"time\", \"get\", \"method\", \"http\", \"object\", \"case\", \"database\", \"anything\", \"something\", \"thanks\", \"like\", \"http\", \"work\", \"user\", \"see\", \"question\", \"code\", \"get\", \"example\", \"know\", \"use\", \"project\", \"problem\", \"data\", \"way\", \"thing\", \"object\", \"idea\", \"number\", \"add\", \"class\", \"error\", \"help\", \"time\", \"application\", \"file\", \"method\", \"like\", \"line\", \"know\", \"method\", \"solution\", \"use\", \"something\", \"file\", \"idea\", \"time\", \"thanks\", \"problem\", \"way\", \"user\", \"code\", \"need\", \"edit\", \"string\", \"example\", \"work\", \"option\", \"data\", \"part\", \"find\", \"see\", \"question\", \"http\", \"query\", \"application\", \"thing\", \"value\", \"get\", \"test\", \"run\", \"solution\", \"project\", \"like\", \"version\", \"update\", \"find\", \"option\", \"point\", \"application\", \"problem\", \"app\", \"see\", \"error\", \"result\", \"lot\", \"edit\", \"issue\", \"set\", \"line\", \"make\", \"file\", \"case\", \"part\", \"want\", \"get\", \"code\", \"http\", \"window\", \"something\", \"server\", \"use\", \"way\", \"method\", \"class\", \"type\", \"method\", \"object\", \"error\", \"idea\", \"class\", \"program\", \"point\", \"number\", \"need\", \"create\", \"thing\", \"case\", \"use\", \"something\", \"work\", \"problem\", \"example\", \"data\", \"see\", \"get\", \"thanks\", \"issue\", \"question\", \"time\", \"name\", \"code\", \"anyone\", \"anything\", \"list\", \"like\", \"way\", \"know\", \"object\", \"database\", \"property\", \"update\", \"number\", \"data\", \"set\", \"point\", \"need\", \"idea\", \"access\", \"problem\", \"thing\", \"create\", \"issue\", \"make\", \"add\", \"solution\", \"time\", \"way\", \"method\", \"sql\", \"see\", \"part\", \"case\", \"question\", \"change\", \"class\", \"use\", \"list\", \"value\", \"code\", \"get\", \"work\", \"error\", \"example\", \"c++\", \"case\", \"program\", \"solution\", \"function\", \"c\", \"window\", \"answer\", \"lot\", \"code\", \"edit\", \"idea\", \"access\", \"write\", \"anything\", \"part\", \"question\", \"use\", \"like\", \"value\", \"create\", \"number\", \"example\", \"something\", \"class\", \"need\", \"point\", \"thing\", \"application\", \"issue\", \"problem\", \"database\", \"get\", \"way\", \"thanks\", \"data\", \"class\", \"know\", \"string\", \"anything\", \"text\", \"point\", \"data\", \"need\", \"see\", \"like\", \"work\", \"use\", \"make\", \"database\", \"something\", \"thing\", \"object\", \"problem\", \"idea\", \"anyone\", \"time\", \"way\", \"file\", \"user\", \"question\", \"example\", \"access\", \"lot\", \"want\", \"add\", \"code\", \"thanks\", \".net\", \"get\", \"method\", \".net\", \"anyone\", \"time\", \"need\", \"file\", \"form\", \"http\", \"application\", \"server\", \"update\", \"user\", \"thing\", \"solution\", \"access\", \"result\", \"like\", \"something\", \"issue\", \"create\", \"data\", \"project\", \"point\", \"system\", \"window\", \"database\", \"anything\", \"want\", \"version\", \"option\", \"way\", \"use\", \"get\", \"page\", \"help\", \"problem\", \"code\", \"question\", \"class\", \"error\", \"example\", \"program\", \"c\", \"file\", \"c++\", \"create\", \"write\", \"window\", \"anyone\", \"know\", \"point\", \"java\", \"help\", \"thing\", \"access\", \"make\", \"set\", \"case\", \"problem\", \"run\", \"project\", \"name\", \"please\", \"add\", \"see\", \"anything\", \"number\", \"function\", \"use\", \"work\", \"question\", \"code\", \"application\", \"something\", \"example\", \"way\", \"data\", \"user\", \"change\", \"edit\", \"lot\", \"user\", \"form\", \"data\", \"want\", \"need\", \"point\", \"question\", \"issue\", \"problem\", \"help\", \"access\", \"database\", \"answer\", \"case\", \"idea\", \"see\", \"application\", \"get\", \"time\", \"example\", \"file\", \"option\", \"thanks\", \"server\", \"update\", \"value\", \"solution\", \"use\", \"way\", \"work\", \"code\", \"type\", \"method\", \"http\", \"like\", \"know\", \"library\", \"object\", \"user\", \"application\", \"access\", \"need\", \".net\", \"program\", \"anyone\", \"form\", \"option\", \"problem\", \"update\", \"data\", \"result\", \"idea\", \"run\", \"thing\", \"thanks\", \"time\", \"point\", \"c++\", \"database\", \"issue\", \"use\", \"jquery\", \"case\", \"function\", \"system\", \"know\", \"get\", \"like\", \"http\", \"example\", \"server\", \"file\", \"way\", \"page\", \"add\", \"list\", \"point\", \"error\", \"web\", \"anyone\", \"update\", \"run\", \"project\", \"edit\", \"issue\", \"http\", \"version\", \"thanks\", \"idea\", \"find\", \"time\", \"server\", \"see\", \"problem\", \"object\", \"call\", \"need\", \"solution\", \"method\", \"want\", \"lot\", \"control\", \"line\", \"code\", \"create\", \"way\", \"user\", \"work\", \"get\", \"application\", \"data\", \"set\", \"anything\", \"object\", \"value\", \"write\", \"database\", \"table\", \"case\", \"return\", \"question\", \"number\", \"error\", \"name\", \"point\", \"solution\", \"idea\", \"way\", \"lot\", \"example\", \"time\", \"property\", \"sql\", \"code\", \"like\", \"create\", \"part\", \"use\", \"edit\", \"work\", \"see\", \"something\", \"thanks\", \"data\", \"user\", \"class\", \"type\", \"file\", \"sql\", \"library\", \"result\", \"need\", \"solution\", \"update\", \"write\", \"data\", \"server\", \"time\", \"thing\", \"answer\", \"see\", \"window\", \"access\", \"edit\", \"web\", \"http\", \"application\", \"value\", \"like\", \"problem\", \"text\", \"make\", \"issue\", \"idea\", \"something\", \"name\", \"want\", \"point\", \"call\", \"work\", \"question\", \"use\", \"way\", \"get\", \"code\", \"file\", \"option\", \"system\", \"server\", \"answer\", \"update\", \"program\", \"find\", \"change\", \"thing\", \"work\", \"access\", \"solution\", \"c\", \"result\", \".net\", \"question\", \"edit\", \"jquery\", \"issue\", \"need\", \"help\", \"idea\", \"javascript\", \"window\", \"part\", \"http\", \"type\", \"case\", \"write\", \"something\", \"set\", \"problem\", \"use\", \"application\", \"page\", \"user\", \"way\", \"thanks\", \"data\", \"file\", \"function\", \"call\", \"database\", \"please\", \"java\", \"application\", \"write\", \"return\", \"server\", \"function\", \"data\", \"change\", \"error\", \"edit\", \"work\", \"file\", \"option\", \"problem\", \"sql\", \"update\", \"thanks\", \"run\", \"issue\", \"code\", \"find\", \"method\", \"case\", \"app\", \"help\", \"get\", \"thing\", \"user\", \"way\", \"question\", \"use\", \"like\", \"window\", \"answer\", \"http\", \"table\", \"idea\", \"add\", \"jquery\", \"function\", \"data\", \"issue\", \"problem\", \"edit\", \"anything\", \"see\", \"system\", \"need\", \"query\", \"line\", \"number\", \"error\", \"something\", \"part\", \"question\", \"type\", \"result\", \"anyone\", \"solution\", \"please\", \"string\", \"thing\", \"version\", \"value\", \"way\", \"work\", \"code\", \"use\", \"server\", \"query\", \"page\", \"http\", \"access\", \"call\", \"point\", \"server\", \"function\", \"value\", \"problem\", \"data\", \"sql\", \"please\", \"method\", \"object\", \"return\", \"question\", \"web\", \"help\", \"see\", \"know\", \"get\", \"program\", \"want\", \"result\", \"something\", \"issue\", \"property\", \"answer\", \"work\", \"way\", \"find\", \"example\", \"file\", \"user\", \"code\", \"class\", \"use\", \"lot\", \"list\", \"java\", \"c\", \"case\", \"write\", \"result\", \"answer\", \"line\", \"thing\", \"need\", \"option\", \".net\", \"web\", \"return\", \"point\", \"work\", \"make\", \"use\", \"help\", \"method\", \"text\", \"something\", \"code\", \"file\", \"question\", \"access\", \"javascript\", \"app\", \"data\", \"solution\", \"like\", \"type\", \"problem\", \"object\", \"value\"], \"Freq\": [1379.0, 607.0, 684.0, 475.0, 542.0, 464.0, 577.0, 832.0, 571.0, 497.0, 482.0, 396.0, 423.0, 426.0, 558.0, 506.0, 549.0, 894.0, 398.0, 522.0, 401.0, 724.0, 433.0, 477.0, 583.0, 664.0, 747.0, 391.0, 407.0, 358.0, 353.9003188748846, 89.03759843142554, 71.09237565572373, 28.689490888567978, 24.821028960777, 30.540097054709403, 29.74148011478331, 14.59490372632851, 18.223444121244142, 11.953993579125077, 11.75894066215403, 13.716084757519244, 21.712482409714543, 15.201367392841197, 18.439894198649547, 19.459226325843563, 13.34894303245559, 9.893941874285302, 14.1917804469466, 17.660745773861418, 12.565027006204748, 26.294445997346536, 10.600685386228053, 8.505814290613948, 18.77438367968319, 10.415938402052292, 9.959608059197642, 19.246804677474497, 15.222255992936228, 7.655702885398387, 14.416862698894473, 18.324152419656983, 13.647249477031767, 11.547028787872117, 11.629706862321466, 11.4167778673609, 12.212320384042323, 351.3346389606567, 53.427424498154494, 40.77851601187681, 18.35669950782031, 27.181423900225838, 25.134844431673574, 19.679054291121364, 17.303557230778143, 16.647735868203558, 16.207784865935395, 16.909007903489407, 13.473691038750177, 24.652976330684393, 19.49178041874516, 29.860749603299467, 11.473144716986939, 20.213718027915068, 17.64887242326848, 9.005016482828719, 17.512031333998344, 21.359997804350474, 10.94885778422075, 17.53016835250052, 12.281442410837268, 16.3770399772574, 7.855662586811141, 13.469223662729922, 22.521614308845137, 20.67403112571631, 15.311667813459191, 12.61442323669034, 14.838488764570059, 18.474436852654303, 12.189480597140442, 288.4245411877561, 116.73965021171179, 87.32798921153392, 57.15083116700385, 38.33522324415186, 34.809504956263375, 14.680012980311407, 13.615902648213691, 19.359407516616166, 23.163651269921072, 17.306021412205816, 9.878914808509958, 8.551562685839746, 8.399954805306407, 8.19560187061941, 10.71216146481679, 7.06149500748132, 8.821986227841418, 9.960160993316656, 6.827095849146223, 14.818917539704369, 8.51854351611553, 9.675540127967759, 5.179797614562378, 9.108037635260228, 7.87770745720078, 13.174491145215761, 11.932393414136858, 9.905751992860624, 17.676426399950106, 11.534270329293587, 12.278162961603496, 9.899856653698826, 10.90355938900675, 11.9223882244118, 11.630985729175086, 10.58941557724059, 8.992432088684867, 9.145709293498284, 364.633906160662, 19.12352319850602, 20.19339384501449, 24.091356828527495, 11.543633422759086, 11.062566711483164, 15.434506071201413, 13.005105161441906, 13.614969834644963, 23.600624008472273, 10.315740759917476, 11.875239292741416, 14.719525299508332, 10.994527736581219, 16.654666259308293, 16.33400459310274, 17.47612883583951, 19.47313165496087, 15.952281938392757, 25.029857862287294, 18.64153502196579, 16.279182563485183, 11.180876048656817, 10.914327275489578, 7.605664004381528, 18.972322498861026, 5.677192329808318, 11.47645303909335, 13.564294398716797, 10.07513731519901, 13.504063141238952, 18.062797115560144, 11.21274081224309, 13.211111399156106, 13.490855472450514, 12.507917961649426, 11.734857048816993, 12.827466448341045, 401.905921863604, 22.19854811032163, 16.602690605893642, 26.015785656263873, 22.74495536027675, 24.13428968539374, 13.999224421960792, 28.316036346903548, 18.098630150472204, 21.726869607973875, 17.268966099060552, 20.196159433563672, 10.500042821178427, 10.784582746861407, 16.79094631531748, 7.704660459542397, 15.22025256431754, 10.055051266035687, 9.315850527646369, 21.109328394950573, 24.024556086865775, 7.42635285153074, 14.444447143134804, 12.43478539238851, 10.612870174785716, 7.511366960000908, 10.096592922043252, 10.768334931755858, 13.386376795889632, 7.177443554416894, 12.334121241765908, 10.575095404900084, 9.685609250664212, 10.711114719724158, 12.483954509075522, 9.964514631628985, 367.50780445795334, 62.4133090995272, 13.817156427151442, 12.535789095256122, 13.486278376296342, 21.71639474630972, 22.06458986391583, 13.107972878024018, 14.871566223837005, 9.119842441939529, 35.31692128043185, 14.571725444941059, 11.656963305190855, 12.676092861740226, 9.780214748288385, 16.86412587252611, 14.351621470757301, 11.884847731693556, 14.984048155583404, 10.900342244679942, 9.282644205007514, 11.296896732979354, 20.416963601366575, 8.345267768811386, 8.183644496192953, 16.2718835985968, 21.257290694884322, 14.51048822301594, 8.352202847964127, 7.189437345700537, 18.698531297768085, 9.6061312790381, 12.586857685667775, 11.895385710768922, 11.53562105754535, 9.437934223655812, 395.7094671234059, 13.829656532628888, 29.41327606890235, 11.65897772484911, 17.982150186638947, 20.22317935405207, 23.635373192190976, 25.650145888631744, 23.58609042552108, 27.60690076392555, 9.72859584292108, 17.20334031142766, 27.55218425631513, 17.831452726681153, 9.600249381308773, 17.49283312727729, 16.100045079008282, 11.941264713096105, 10.198492017147917, 9.827809002361342, 11.50500560669733, 22.05668979774459, 6.811949010038673, 10.046060972689478, 9.359523008271498, 15.157633596340366, 8.650646879561858, 9.753687405374649, 6.462834609931998, 5.866831516484494, 7.283810275352376, 8.742654211399483, 12.000354671354518, 12.811441204688911, 17.70564938219508, 11.132233602842776, 281.1812950996579, 30.34526462813579, 18.575839479742953, 20.924801258952257, 14.40780948476585, 16.33023443874154, 14.739941915214265, 10.420141065428654, 11.084512630036041, 9.801702021951513, 10.733071722641846, 18.031010333622387, 23.6038827821062, 8.59541657406804, 11.741209358948085, 12.909986984169949, 10.355418901908562, 8.496782209252281, 9.595503464359165, 6.032993532416419, 12.125034353030749, 15.859902103388258, 12.410655712872392, 11.151687999965894, 9.017667630083006, 14.836689875899294, 20.617009021709073, 10.350635834662715, 13.135133771318298, 9.310773912593856, 20.093925896014056, 20.77911838924443, 15.442372441832301, 13.906351970722085, 11.839157491643636, 11.971782372405015, 11.976592849778346, 12.025697114231667, 10.447159619662255, 350.09249564563675, 24.890259493155607, 35.94145036982885, 14.952063335728141, 22.219525459360487, 12.89966175726183, 10.21807738367489, 19.54151284482685, 27.455300541879957, 11.930475437879437, 10.667390981300205, 19.77841455136007, 14.703099426062046, 18.532245301797072, 12.567626003195901, 15.51373239154049, 9.674059903748613, 14.91917558485944, 9.029513271705607, 10.596036282761329, 7.248576944871998, 9.437849236845757, 15.203502776921468, 7.296853047455854, 11.533583718076876, 7.700185219609906, 8.41640663012767, 8.875691735350905, 15.558155046225732, 11.91458707690028, 13.944625613834708, 15.635716150226568, 13.284236875138541, 11.279713149509272, 11.799898550510077, 9.179483672877994, 318.79492703895954, 227.66342484549176, 16.866539849883974, 24.03056148600763, 31.2570934679262, 15.897830544046268, 19.324003409721634, 30.258947655588745, 18.30471479721298, 11.304384153539374, 14.680600153643057, 17.821661945885218, 10.512267263113326, 24.304896433152976, 9.843137573075222, 6.259030836090646, 7.955888815666226, 15.44591260044781, 9.244893642030544, 13.393126642549499, 16.263926896433098, 7.069318783563523, 6.040709161496115, 9.68985089475197, 6.477877637984262, 4.797747074410387, 4.4054705556109655, 6.202258332287485, 7.571922987207653, 3.5930795742912727, 4.984806690697074, 5.9449689071038705, 6.238174009964318, 5.233848312288069, 252.83568329404633, 39.367008950685864, 35.83454752866975, 22.018426777556055, 10.984574000414101, 16.65430865135708, 17.15213200547765, 11.889265077860328, 14.334298024184962, 10.930304515664726, 11.426875842282007, 15.54409822093494, 11.830109297039227, 9.202139287512708, 16.874260666656937, 10.254400169902214, 12.109649395268125, 8.645993616380835, 16.63539543413475, 7.80523928798334, 12.957609064096035, 13.665517504260476, 13.089686517014343, 9.596768831248788, 10.18193552905895, 10.081047940512999, 11.978631632050845, 13.040067943502496, 12.404964856859609, 8.331458112977703, 15.74774731775744, 16.43837741201877, 13.75883064697453, 13.381635151171961, 14.034371950704994, 291.60164799112755, 31.80357326454426, 32.684453721097455, 37.7553595699963, 23.678906200013348, 17.670904820811717, 13.031872643898378, 10.580415280644562, 9.547019288567013, 19.548678275705257, 11.185696441310396, 20.84739066623514, 12.160645046779813, 7.887572269239156, 8.73931324548834, 15.969966190029233, 15.3584087102166, 13.77061492350517, 6.955599473653871, 7.264351957276341, 8.782020375800874, 18.77555303121973, 13.56482775909022, 6.01552262492064, 12.16106121049436, 7.231947329541705, 8.398275547274165, 14.021267566234009, 16.05900740208515, 7.033637744845737, 10.489041947730037, 11.561118886689021, 10.745210764748055, 11.151765285860517, 11.027682554354021, 10.01185722600179, 12.511484425285857, 9.126543333731522, 241.9003039534405, 62.95863568064414, 32.26302548388954, 27.72291706594099, 23.09717922076716, 11.402786829626395, 14.361088183214292, 13.703094668174264, 15.11396431789001, 13.647174826973432, 11.577943920833372, 8.963453158688903, 8.899081498554306, 13.226289024960513, 10.463890541060184, 9.067210544371036, 11.700589679360212, 8.150520314842876, 21.101670222404287, 7.342787939652837, 7.804821153239469, 9.605843041723526, 12.83706459859517, 12.1022104629944, 11.519489068201395, 9.817407420389813, 12.435250594911613, 9.674848421383125, 16.914586410050717, 14.175406387013943, 11.760635703550832, 13.3306349749405, 10.629854097660004, 10.957357629268522, 12.248188655501473, 11.237259576363863, 364.11577441226717, 51.54638856858222, 49.52355816179307, 36.419116970734585, 19.122021337535582, 13.46153218386524, 19.425580469937003, 8.6484683453103, 9.748864019165174, 19.499575304297093, 12.536953492151198, 17.032892449238226, 8.453698343709517, 5.336758000534072, 9.53465445721167, 9.727981613406303, 13.424051757849723, 12.895559737538703, 13.619730381190362, 12.947574579334635, 6.748423729378606, 16.669078185365127, 8.150138328293774, 18.588463464045205, 10.891181681087538, 11.608546933340676, 16.15393116053949, 5.232908010357235, 10.295787197470395, 10.095871871401053, 7.35535656117331, 7.501927225874101, 7.76696309234283, 7.445796654311918, 300.6028165559254, 19.81695506122996, 19.676234921699077, 22.610039252169532, 14.096270921520002, 21.33583880347097, 13.722536662432772, 33.09129184793359, 10.395620134961323, 14.043080450419142, 16.589306902794057, 19.797374627037158, 10.388878660126275, 13.325716089368722, 10.912790417150347, 5.354177172710941, 13.31828195558775, 9.42697874959967, 12.197375535541315, 7.6546974211552685, 7.797970056701437, 8.46036754152494, 5.9645439773537055, 5.9516980653340035, 12.510490404243171, 12.624995531923558, 11.089961625075142, 8.969166818736374, 7.47180330336986, 15.41031099222622, 16.53260446832999, 11.035430159302312, 7.698215001329987, 10.267054117586955, 8.07840480702992, 8.978034939042784, 7.969229763810453, 303.65642255436813, 25.406458958475984, 55.76267940763172, 14.51639433955652, 10.221964945488734, 12.085250515892195, 13.673993329335826, 9.317134851385113, 12.303992308042352, 16.853995042208545, 13.688687826000194, 15.641660944883148, 9.812351518865471, 20.63186175969691, 15.530438507571526, 10.63609848939372, 6.961357940108474, 5.519454389971681, 6.838466980755144, 14.186673574337826, 17.12760206471097, 10.385865767068848, 9.688222010987277, 7.786312268013008, 11.679256128925008, 18.75698261265041, 11.667296056286155, 10.507302439119636, 8.140301479668553, 8.41386864681446, 12.922435672933673, 12.174520449549032, 13.606812793819206, 8.76385846008541, 225.00000585690532, 12.169755562101736, 10.443973290345214, 19.195137590724272, 19.38763749211692, 15.093451217195247, 9.579682812638344, 22.92917434900195, 8.499592360129476, 10.66747996483457, 8.923571469367754, 10.957956084630696, 8.221700409946031, 10.663037570510236, 17.674187591000972, 15.585013996118162, 5.651777770029417, 13.3428167996767, 19.207037362475052, 6.882758550182411, 13.019886681872038, 13.923664191828108, 8.104060755746788, 6.5333296864522055, 8.654618795479402, 10.058576388197341, 7.800727202535462, 11.148645510135358, 23.60065698755684, 10.069232025354783, 17.411682621939427, 11.441494319262118, 11.697431050218398, 14.506746403053288, 9.35755318957679, 9.599825079266317, 9.06245387553865, 8.672837483074538, 360.7295871247928, 48.65964725933998, 19.369508192247533, 24.756308459810977, 11.448078729307086, 9.340456940881163, 19.93930828139759, 10.77604904055631, 11.97564169089762, 10.796553842370548, 12.146534939248994, 16.218034727751423, 14.328815698170088, 12.051632864246672, 14.645793290161128, 8.804412533128804, 8.458021799429517, 15.909485424656706, 9.48092378826342, 11.552850064002874, 6.501997171977832, 7.2906424519822695, 16.97578091602582, 6.274836140288766, 6.049675048488692, 5.386973233127347, 7.828695386566511, 10.30834279552892, 8.501507713826289, 7.0928319999889755, 11.280863145924346, 12.732146452571527, 8.80709820174277, 10.64583745639547, 10.743758864078291, 271.53111326670245, 57.541051620116924, 20.92882750612466, 27.16360960666497, 18.516722925420645, 18.573001494025892, 10.396263040132931, 13.355771220413203, 18.949604106967264, 11.380253733850314, 24.22851727228089, 12.820317038059136, 14.273682433519697, 11.050832996496844, 7.018491002080038, 8.57523239918538, 8.360562712044398, 13.19237807582826, 8.49684342558001, 11.982364951981005, 6.423764523792658, 16.178919821004197, 7.206820190524242, 7.486416637828075, 5.616904024698846, 11.230361040843, 10.360429127767034, 6.473494811760147, 10.955556309845264, 10.376842050635616, 15.285788512705258, 13.139475615902189, 9.388055657473064, 9.204945974471512, 7.736373750653993, 7.60793743121084, 222.01464844495243, 33.478846311182004, 26.495391033031996, 18.617438223680267, 29.044056237835022, 16.403897767963915, 19.94532962595846, 12.737397043115354, 19.71852595724068, 9.550668012881399, 12.000245603676527, 17.38024763096444, 17.020319287241247, 8.081600822429289, 13.360271816382445, 9.18666285901068, 13.221586716634553, 12.267092781509369, 11.312983052484462, 12.086982282680866, 18.25760377961498, 6.1085358256221935, 11.094334569056029, 9.137532992998677, 5.219817818364733, 7.943578497766802, 12.821287779987918, 4.996791263386319, 7.876619434209433, 7.279761126160179, 9.065213823969033, 13.05114788257062, 10.959630814803456, 8.396492542728142, 397.32692923723295, 19.962980952168266, 17.554519774307394, 32.157469811049, 24.570093021800957, 15.919756567172929, 24.601719460282904, 10.967117180253066, 11.990234777018166, 14.721219353669019, 10.179754492003225, 8.423782805261759, 7.3564352027298145, 12.196209663879031, 16.634227404469303, 8.728882379147334, 10.000581932881202, 5.5593005966045, 8.591701931607176, 4.392191000404945, 9.613185033342544, 9.097255636864226, 9.83980418580996, 5.209087881023709, 8.002107747581887, 9.719384055290849, 4.175560300237328, 3.689499161943768, 5.273905896792591, 6.097796582051777, 7.051455075675736, 8.414184674382309, 7.154563121874746, 6.79887974141132, 269.57430943678355, 66.4679616403792, 16.013394565291943, 7.876477307368976, 18.34503293419121, 9.411925190218989, 12.235694280994402, 13.90478588067367, 9.921266409174189, 9.776769370431392, 8.308706320478237, 9.413002949791629, 7.259589604444218, 15.531492997968606, 12.998647855084585, 12.517552503935528, 13.126138627980332, 18.328301271386444, 9.980046758442501, 7.410221229256972, 11.5384687426156, 12.128955543021087, 18.414367525179376, 6.38136700511736, 10.908962303232478, 6.8281216777613425, 12.078589979457961, 8.253941753861705, 8.165735279143115, 8.897159222584472, 14.78689499269647, 9.925945369646747, 11.446278611506445, 11.526579731233388, 14.563446137197728, 8.56453997710289, 346.23458654931414, 27.957926430537025, 16.521178587365906, 39.420296763991, 47.437202046438124, 16.1684115014782, 15.461100938871253, 15.427114290210524, 9.480505458907222, 11.316396982479501, 18.39877023655441, 9.900070491518914, 12.018434887175486, 5.133133332207538, 7.216586989389901, 8.128180206491308, 10.661650328626589, 6.373085444751348, 5.31869209417548, 8.470256107834466, 7.081960086645904, 9.863620112495964, 6.339052591599946, 5.560610024672736, 10.62447136970111, 5.749698275130759, 8.910912535800598, 7.158869561576891, 6.960953962268365, 9.794015529355008, 8.17320476430429, 8.657228498103857, 7.849341069392583, 6.0855400069305805, 251.47771469421255, 22.657188451795754, 24.212297133996902, 13.316491608763265, 16.797288813726453, 19.71158872723841, 7.718330028240531, 14.382934120409717, 8.995148184311624, 10.398811566702435, 8.950634192559935, 7.132128021886702, 14.640612885647263, 13.56413459003343, 19.015025224902, 7.483384943674183, 8.752006063867809, 8.021822834671639, 7.858127931068475, 9.66444576464672, 9.464122341596196, 13.234014678999166, 13.982175201080922, 6.566751462712953, 6.456948091404556, 5.7616689482581345, 8.559011482757134, 15.85966177574352, 9.636487977252774, 5.197264063968958, 7.2581199973658315, 13.955035548249535, 17.32811842686954, 8.640487225020019, 7.986667704591736, 7.693675412445737, 363.9268658784188, 23.840799921587585, 11.21301487074803, 15.108677425241256, 21.653481015354938, 18.48293255372533, 13.07712330218571, 16.028867853539744, 9.29840212753218, 15.80036039168198, 12.675399379516733, 8.736689164869444, 5.832793465913022, 6.162048144042961, 9.780379147633388, 9.560102301050282, 13.564478449957361, 10.084206572978895, 5.660778629654327, 5.952325926072766, 9.028639007281633, 6.934321667386951, 9.831328453137514, 5.1840294015053345, 4.369007474519333, 12.517868770679879, 5.382754826985477, 4.374606330397246, 5.033231356727384, 4.6051014073155345, 6.656750286797192, 6.8287527424673256, 5.225772147625177, 5.443368066188401, 257.0539722293895, 17.009533317136437, 20.49079307529975, 16.078452819390183, 11.08427625536925, 8.772104278993972, 13.102322115947526, 10.16294824164095, 10.100414888024822, 21.265650216311727, 21.752582016073326, 7.188492476169184, 5.310382426977293, 12.206366258829314, 6.280627039185989, 24.605704994609454, 6.187833373166066, 11.527079396490258, 8.527255679273603, 9.320917678265873, 6.5597600073054885, 6.3387235592064215, 6.49445074184723, 7.601735414942011, 10.361644941749192, 8.464099304797175, 9.369323385624602, 5.148049751514464, 4.627650028013181, 6.555972825383024, 9.11337183934657, 9.682133819932861, 11.4506783974482, 10.46152380562924, 7.686859406839162, 7.754908842785362, 6.685480571076168, 260.00492555972505, 21.1503135997186, 20.23068553090182, 10.227143889641413, 25.960224107765963, 9.496748913766682, 17.736344790260354, 20.581354623335894, 10.680875085322453, 15.3764490225184, 7.795669384952213, 10.491986053818282, 25.113316529471224, 7.1552265851223655, 13.389252049742375, 16.782095626493305, 8.924306053615394, 10.762592119446413, 9.981461690404968, 12.099055156564972, 8.926135232172577, 4.541016374888044, 10.62214177398508, 8.50120819009342, 5.677365812274876, 9.589598743138318, 5.777756379651221, 5.040629873149518, 6.281284012951974, 6.509104328940614, 8.092381548363052, 9.326407096812549, 11.448131393907293, 9.932201583850189, 6.767903434312969, 7.19297912768273, 270.28193363449407, 43.57089914545891, 18.711590826074296, 20.184590717980754, 9.745839780698722, 8.700605993938701, 13.774547813033001, 9.156996179598538, 19.60508229785688, 13.484932913237836, 6.928683883314123, 8.797598677523874, 11.392685651059802, 11.266117397839187, 7.151682006642155, 15.30288870841416, 13.064243769643355, 5.218296858900543, 15.87326812675654, 4.962194088604097, 5.117804004862754, 4.698513536346652, 9.116550926398304, 4.017007014752533, 9.456983425306124, 4.612295457069201, 8.449857962021259, 4.305298467013375, 7.116204557554968, 7.999452545421897, 8.173429475527284, 8.568625536854041, 5.566841394642426, 7.23898775082742, 6.928454021373951, 5.708585411773719, 5.625530372103299, 530.4169517670674, 15.46426746253155, 23.11507198325419, 14.372840307048785, 8.802631183869604, 14.153615454235773, 7.862034164097652, 10.3648870355406, 8.953678182880823, 9.061524233761626, 8.718107857397142, 6.043201663591969, 8.631627972441521, 6.954708900209766, 9.199703098133607, 7.997068852669426, 7.598372173930771, 2.5867579322758454, 3.1648636697230703, 2.801906336535878, 4.05221561841015, 1.936584312818834, 2.907727075742067, 2.27616333754987, 1.1374126933809774, 1.4957971697112242, 1.6236627133094794, 2.1079973069502076, 0.8990374258166097, 1.0387982977033847, 1.189915589156613, 139.12676570046403, 168.8286161557905, 29.024579977235653, 15.52194802358595, 18.931391032418283, 23.386698752574674, 7.5307910651310745, 14.527329246149872, 18.784963018891023, 12.537322954732685, 11.322990172841607, 7.442399265274281, 5.573406163329985, 5.778830292565169, 7.9994731666973315, 20.8427974075854, 6.1790119919252735, 10.527538674678123, 6.112854470532162, 8.513683214775977, 9.369009918274191, 4.894173777219206, 9.501883177880217, 9.24187162344095, 5.718193141644286, 4.774792455164787, 8.098104374350937, 6.2571216009443225, 6.767297140353327, 6.147898534728119, 11.519432919412198, 7.075891893704364, 261.43299478775623, 16.580977235422512, 9.343629430274984, 18.245874191881278, 8.747327249845183, 16.99417442339204, 14.521299557201706, 8.503837226455309, 6.4643558021766045, 16.363314641750122, 8.718342999797501, 11.560007097508308, 11.856580113747707, 12.358844684435034, 11.590030173415448, 17.43616961237166, 15.225014314361905, 8.371164708049745, 9.713242998691054, 8.604899854048668, 9.772256376058651, 9.180299110000256, 5.879759743567625, 6.279616255888276, 6.783746006468249, 8.264081597125905, 7.855997180570828, 6.22696358572487, 5.937234717332348, 6.231606364080572, 7.21549413648467, 7.892002414194215, 244.27931199735454, 45.56629511898237, 29.598272395934035, 25.543862756304357, 12.051971590271052, 28.472502106737128, 8.651714181122962, 17.907257713827715, 15.382797849128343, 15.12641203618357, 13.642565369194404, 13.180995935006406, 9.754460166405893, 19.722076921832624, 6.361959053853732, 6.608711639475337, 9.48304561493266, 6.186462707679086, 6.2881944799292215, 6.792607649435702, 10.742032790547853, 7.360443664072123, 6.104492543542636, 8.364638822735433, 9.564677479586049, 12.465630107885437, 12.117467433608592, 5.342965785189707, 4.649658214244742, 2.829065649737646, 7.551404749680706, 7.914561601438625, 7.406603266033029, 6.346641198871183, 231.49064111348943, 29.68062528028258, 25.313958614338464, 32.66722933012204, 11.645455602467402, 25.03180296612406, 11.988245391409357, 25.69045942544959, 7.93893193229443, 5.795559115258946, 8.207540663571542, 9.704031125319863, 4.359376465345303, 7.789116766984995, 5.116183069326545, 9.576741845982102, 13.640292962467528, 14.244039496936928, 6.349052970017439, 5.1394561631052476, 9.59176610700183, 4.9095095264655875, 8.875254227018479, 5.327274855890052, 8.321300097503634, 9.052628097140433, 8.141550658097117, 8.382005150747146, 9.709477600503792, 4.950300309776493, 5.794380522979845, 12.052997710841383, 7.785957220440683, 8.815637155617015, 6.066194106019797, 6.678037142658336, 277.96740419934787, 31.861118813589584, 24.77143162386171, 11.539169906956653, 9.662344201672036, 8.231218354448261, 11.513467189058444, 11.227174931373376, 12.165770358101405, 11.939817907404148, 12.197623656555175, 6.7866550545154585, 8.13479943254126, 7.087488873956758, 6.716085528670448, 6.586295158369773, 5.611758630353455, 7.34492390487949, 11.794875125779084, 5.32688116710892, 4.760543779946454, 13.173465434560592, 8.771267548847801, 6.136443132373005, 7.759507568676708, 3.8299856358089652, 6.920379122744404, 5.686198107920533, 5.92694029735156, 2.751600658387234, 6.613087750725452, 7.528398483124458, 8.152964006832434, 227.25140880300174, 23.36062802997215, 30.599957062077795, 14.56762128698036, 8.052533868631834, 10.868686695417809, 6.8722867483508505, 10.991933164462806, 6.045217836414736, 14.844939185420058, 11.095003670754117, 6.545939064875143, 6.014511144349074, 9.475907223183725, 4.758854346650323, 6.954479566736489, 6.533702239752845, 6.796268140896268, 5.682650339324908, 4.136445667730213, 9.151767214343483, 8.472379605439633, 10.53677251803982, 5.990355302211342, 6.731797976500452, 4.0238412214849975, 3.971477787099032, 5.540686549696088, 7.540729385696563, 10.991091336882029, 8.652945556476011, 8.17959767398332, 11.343379197324463, 7.380938016882334, 6.589680134850366, 6.822997986097988, 6.39995657960495, 215.0631252504908, 38.482719774606075, 13.080742271275186, 13.724363084420464, 20.420317542193693, 18.58420403205078, 17.92859528105655, 12.444092513651173, 11.997064189111294, 21.536110455737088, 9.02383874144034, 10.39673930231126, 8.724669121378193, 6.740652080714054, 8.407893164096242, 10.367751390344408, 8.256554989431324, 13.680519579335476, 9.90718681218286, 15.487734829598528, 10.09334210174139, 13.309731874182656, 8.8439045798105, 5.19541900713025, 7.783053857419229, 7.889302484141389, 6.490973441460282, 9.49409422560025, 3.4853663262995433, 3.789323549534465, 8.135415029907701, 6.140155738685763, 5.80942918975846, 6.428878467583527, 272.42545818537076, 11.103301463960314, 23.999957813133076, 10.959933981443996, 16.457539541691446, 12.139190636110575, 16.10422979772462, 7.388628433844078, 14.429508111108937, 5.798793936764324, 9.955437770112182, 5.8810828814384735, 6.9768587799899215, 4.7204710616412555, 5.496460510019947, 5.418116892857422, 4.855204205989185, 4.225315373104398, 7.90670491052133, 8.908958981617088, 7.881656487167632, 6.787008253264317, 10.036968943326874, 6.514621187234218, 4.830785860011982, 3.7948265460415014, 4.744311486980074, 3.445585926901474, 8.563917579397769, 3.372198998367745, 6.673661469801654, 7.5197762520739, 7.29312764785384, 6.0543020032366375, 5.626566991995751, 6.6299709093409085, 4.871984887098116, 164.2877632909847, 78.38350483489243, 52.720572063361125, 24.270026975995027, 13.64566628867632, 10.42170035537239, 12.501889721106851, 17.57664612713781, 9.384263305865666, 10.331643259444002, 13.072030004052552, 10.309153898964084, 13.2881459447114, 9.797598585471373, 13.579451993718395, 17.69709653695881, 18.575018225841816, 8.23040951635609, 10.762625989350044, 14.610851284940876, 5.797957714384328, 4.580833189168636, 8.193098360230119, 4.481320260395221, 4.951281033538238, 8.170460677504662, 6.4175368145639355, 6.34259873815645, 7.655522921553127, 3.1845536419301115, 3.462992446444675, 4.533865154028882, 212.8500485821764, 37.3082498111946, 21.656467084279306, 16.556232429717515, 9.856765501593717, 18.63089779705609, 13.493743771238657, 7.91214232792271, 8.23183751028796, 10.147838423716879, 12.325170034824046, 5.667262411325007, 7.215608633960657, 10.450301936333666, 16.54053463641426, 5.897314149603173, 11.001674205741054, 10.40683886407471, 7.072201762820214, 12.92642558986338, 13.384859696602337, 5.886821702939375, 9.483891171611189, 5.178409756684305, 5.890848771772797, 5.900431640566922, 5.342827819443988, 3.82848042843656, 8.754271939953536, 3.867229246067407, 12.482159401896409, 8.245737872527572, 6.547785814049493, 6.097257202459395, 337.20097388820676, 37.463343466366204, 27.90993254577932, 24.90221243023601, 8.609909400646194, 11.891215682589824, 10.313658654358157, 11.463859498187958, 5.913469968084665, 12.345228362496101, 5.37311964728525, 13.259836355539534, 4.7325454532836115, 6.097244388931912, 6.950515957855503, 5.2961805941412905, 4.468717791648876, 4.890366235441506, 8.472677456367066, 6.432243942839229, 3.3472197639702244, 4.7259325440144035, 4.358604972057983, 5.084566365712108, 2.709335610121868, 1.9249499511001456, 3.494368384093686, 2.1838745922472325, 1.9697872076215885, 1.328013856139187, 2.7630608645685064, 2.5851101953184887, 2.300114631202725, 328.04664481331434, 44.77277751737209, 10.180154807788345, 12.320241215101406, 17.025189837571613, 4.116956856125053, 9.473468346695032, 13.436810166677866, 4.919285887244672, 6.151427827879741, 10.323905276223632, 7.787655958948335, 4.001707646939534, 7.287946408128435, 4.447913617733655, 5.048762758007328, 5.32518557904819, 5.503214397142936, 6.448957310398131, 3.6482914754412445, 5.788344474684856, 5.788455278115199, 6.393204253696035, 7.606404375753953, 8.27676568613282, 3.987123911022172, 3.927508881491623, 4.667274064150549, 2.07155323284305, 2.5365513819032426, 5.851842635487842, 3.2473796084066526, 3.296949945055818, 329.82127678998893, 23.89323340276764, 15.319363002057518, 18.33254113436392, 5.030598532073747, 3.9659451966415493, 8.351992249137915, 7.129644165120107, 10.331551930787349, 7.287200953851611, 10.8288388691057, 4.150657682346789, 3.3503641805355864, 3.658994474273625, 4.259201122590168, 5.979906094095436, 7.706581216080748, 6.909766569668748, 6.6048067268788, 4.460921929467112, 10.442056944507431, 4.354066354773454, 2.6044547849797284, 2.6143765590964887, 2.8590531986230037, 4.004663256458013, 3.6348346349733998, 2.5908863365630808, 4.6484912071011415, 4.312992471476372, 5.384135725977226, 5.732317091636775, 4.278035269165699, 3.9348279230155714, 3.549124518238672, 188.6835759025968, 11.984330091077174, 11.961729116965472, 11.917463570088355, 6.862333286515156, 7.881152771222373, 8.447580079373106, 12.070668929862446, 9.138813330148633, 9.415877802346852, 6.739413319872675, 6.602416595359865, 14.312957151066833, 7.185572334829868, 5.308281392668531, 10.776879526027006, 17.49509702269448, 14.19155211274542, 4.356304277918927, 7.1574045480253154, 9.317677513917276, 4.454816334205882, 4.600963829553723, 8.33419592784726, 7.621322804224594, 6.427588927124966, 8.111400469428864, 10.853804951512888, 5.922685273195925, 7.485877783466733, 8.692876065568871, 7.502840040679039, 7.84344807152704, 6.547984562119406, 6.345905199604541, 189.9580992564008, 12.555581648976386, 11.133312934125753, 14.311566498053057, 12.763305618250973, 11.547809048172429, 14.761452135168604, 22.045418934802942, 12.451096756189864, 14.71489092385352, 13.45152581723959, 13.031674256895712, 19.675634469553632, 7.691299730595935, 6.057459611282896, 11.245935770030036, 7.254110994483622, 10.287974970682232, 14.13655276491259, 10.334337059894382, 9.438391849107079, 5.878367523866653, 11.280183729210364, 5.246730320358, 11.289461151168469, 4.84030959798314, 4.8799844163614585, 6.832192630113232, 11.215083311840555, 2.7082925614969766, 4.691916196451757, 140.23351096569797, 49.47738084015485, 22.94495208997516, 21.907871346842857, 11.267276799744549, 12.130344506228028, 15.766184129703836, 18.18895895529972, 20.54987405627624, 11.746764497944884, 6.477535547243492, 11.49891855263986, 6.728979144343666, 6.332864579554141, 9.49909127443231, 3.933863411959418, 10.328902322936663, 4.22340498671728, 11.591748015657616, 6.321230601206932, 11.816002852588335, 5.06225703206052, 5.489908922173363, 5.3182045556991175, 3.8578803017408916, 4.450279734462979, 6.726047992888282, 5.649682052184605, 3.3581518634243084, 6.531937925403932, 5.59402383616563, 6.855295200189699, 4.827953938647678, 5.829912133572276, 4.73410219771951, 173.035415325289, 33.25349287641259, 9.484540513620223, 20.26478934877023, 7.37177698108241, 20.876021622665167, 17.099259137033233, 11.680411839574445, 8.258685256497015, 8.255230800614, 8.509996416061469, 10.30548375823414, 7.08274203000342, 9.641500708548543, 6.078305859891628, 8.355573940920673, 9.92200171676949, 8.29860577435075, 6.999350918588404, 4.036033869107251, 11.73394781096124, 10.624468457315883, 4.809341239655364, 8.968663971406476, 14.584531616946636, 3.903416002471753, 4.48897334163042, 3.241693931600042, 3.743081287810022, 5.688227062384411, 5.260770526060957, 6.639203655784032, 5.272937010401142, 5.092136111815032, 167.63042861977743, 23.645429919927462, 18.06498203020533, 5.5983390434012685, 17.218049086287206, 5.639298539915622, 11.310595248930559, 10.568969152550178, 6.25910618548299, 7.62796019854106, 13.587044422288429, 6.617498279855696, 6.433293049651608, 9.193765907513749, 8.152596866899342, 11.497792088437413, 7.651543560193233, 5.9780299159555925, 4.22949353065377, 5.746632961533713, 5.883015944482939, 3.8503186769529405, 3.6060462521071557, 4.065721547007852, 5.911424982448166, 4.271655071086534, 3.881061300179074, 4.204660623347642, 9.767722877860487, 4.620398312924479, 6.217860178500564, 4.358029726909314, 7.3185388933868545, 5.135809644221752, 4.996980571901117, 4.972161165088249, 4.603729703912778, 138.469227818439, 46.86993281838315, 11.374939034807172, 8.370389095386859, 8.654797425949273, 11.95174347782175, 9.74817919121819, 13.69230836010504, 8.998882749081112, 18.854328993419, 9.498281971023312, 16.278350760890106, 10.897302645770965, 10.787300839875984, 5.829338541413311, 9.734539189721716, 5.2521150476829845, 13.459047056120882, 9.41676469067626, 5.316458696268186, 6.261210520944037, 5.22864373905082, 10.076366405442155, 7.81177761010502, 10.427016525450318, 4.645077386441726, 3.5029300836444173, 3.553375051322119, 8.13894301583016, 3.487768292522626, 3.738075626332678, 10.070754899293597, 6.891867945988087, 4.776277498389853, 5.307329448033049, 91.95927141111557, 87.40627944546716, 9.953364051616319, 11.868575779859167, 9.752191642483082, 15.168450655557491, 7.323292856902364, 11.38297272525755, 11.884090701671914, 6.79093122969626, 8.108471870432687, 12.797015661929933, 15.206222615743807, 9.46543212882269, 5.5177052401886755, 6.316429369150316, 5.9418770855548955, 4.1579453543303, 8.542528222437673, 6.06367765901842, 3.7368761098160177, 7.138459438009636, 4.777544140472144, 5.543637748391015, 5.296080689500093, 5.67601075065377, 4.687617133980745, 8.060472640998036, 5.007445808946503, 6.2833745894929045, 12.066209344819196, 7.1076985312008825, 7.214944397546721, 7.166222729996515, 5.40952840183195, 191.844566777003, 12.504129811097966, 9.843473809326504, 7.316633657503248, 15.284842801788146, 8.965873396480239, 9.17745578856548, 18.961211199580234, 13.46156422596378, 9.813456136881646, 10.300903532764769, 4.685177843487071, 9.533151140820054, 7.640991487730355, 7.719904335214222, 5.108904819642394, 4.55414555174163, 9.57462638638895, 5.52673174847671, 4.032548303820763, 5.969325266537607, 6.336812492917763, 5.860307517795635, 6.113196178167569, 5.024210208935061, 5.3432215066142135, 5.4443224413373255, 5.28297699525085, 7.475698366975347, 3.674103873862899, 262.2841881804037, 12.945239534269907, 6.86867256573357, 10.06681265875354, 13.666341800220614, 13.866951046054886, 9.28561725208299, 9.660825835020452, 13.712039223056093, 8.192610487171052, 6.702147912713426, 7.911282524230433, 7.61658399851065, 8.246169851724826, 5.520018426874759, 3.722385362264823, 3.605141865668052, 4.022237333626284, 5.422729392957348, 6.909002439737258, 3.7097398925987846, 3.09469309754032, 5.937234781485883, 4.38298760071278, 5.175468785709617, 3.092831942055081, 1.969026070358652, 1.69660153414586, 2.1102309799099137, 1.6919616866758038, 3.2531621180324697, 3.1079715778033976, 2.3762092863881863, 2.726409981668636, 163.8511954460892, 16.19881889979472, 10.561342025695733, 7.46926025341376, 13.567954497979182, 8.33088603321002, 8.472812363396896, 9.297239990793715, 7.261156977409184, 5.621469730162057, 4.521029251469797, 4.357876626893802, 5.970316805428483, 4.143154977731944, 8.087495473446904, 5.900394575169967, 4.107443358086765, 4.131744956694831, 9.25863085371365, 3.694003810822418, 5.371473463984544, 12.386919153380656, 10.058136664484724, 4.303598276481626, 6.565568220497248, 4.913303802332913, 7.2596731589569705, 3.827191219378003, 2.988099575173713, 3.062675928675026, 4.794834018050222, 5.858643633470809, 4.550133807549557, 5.156094953727377, 4.701901744574209, 82.33678931932643, 67.55263333292402, 44.5364135096536, 42.40948404264015, 20.77074660722444, 11.219375008628957, 12.058024033745637, 13.559764046859225, 14.034462516579781, 7.493488639183211, 15.80850002093538, 16.473979890040347, 8.664276542042531, 8.470870101640374, 11.260116429582164, 8.427484030723853, 4.038776509423491, 7.110902338711948, 4.153288062452967, 2.543433062239061, 4.493373252246884, 2.6566135515176588, 3.790306444736825, 1.8560634287979998, 3.741680522539027, 2.666435288700076, 3.38868007125841, 3.619187276099965, 3.593843140232972, 2.333571093112081, 3.299097242846855, 280.28019820223534, 7.449545951027981, 9.728375428595617, 8.016947913919498, 7.860861648057464, 8.429809069310055, 4.538826405188147, 6.344941739916172, 5.571163675898504, 5.985845186798958, 8.335158963806006, 4.608592032965617, 3.353978417277865, 6.801600380682528, 9.408727035385228, 7.312862562886777, 3.365017046385076, 1.7770418183608632, 3.330502996964276, 4.247984802681463, 3.14737560981404, 4.533059431770281, 3.1540567419669068, 5.352485508311932, 4.00086609455593, 1.8603804928615348, 1.9728408745405193, 2.308106023917429, 1.6543887658356264, 3.473774068989769, 3.168019715209897, 2.0248050262042203, 1.9053500625746238, 197.94335398427054, 7.9149040312915355, 10.528082482029381, 6.1203387317416675, 11.925460996807661, 7.802019136582497, 10.991033074599551, 13.255229116430375, 4.346590661361157, 6.338943429138977, 13.862807507784321, 5.870978461710222, 4.836694851141187, 6.773276874159019, 7.88897726278739, 4.991153536835363, 6.398737252130438, 6.371453596803101, 5.271050104687025, 3.226997252618791, 5.51708754842439, 5.995371120704082, 11.531382521740046, 3.059125332263159, 3.783728867818943, 3.6180673406824457, 4.842955484119377, 5.880216553237607, 2.346431234385502, 3.3237083498191913, 2.7994413026383156, 143.94309340564786, 32.08399997549633, 32.913061102419384, 9.491335163152769, 9.354649260199267, 10.35198549730586, 11.367378285894594, 5.645884927142589, 9.399869452419154, 5.1835858678245845, 2.9886722725378485, 8.958159485516976, 6.4031109132901385, 7.0701314543317135, 3.3598828000846495, 5.138986801159714, 5.292107949010663, 2.271995276664259, 4.71314462185034, 2.7210688652898174, 2.6153975815151624, 2.09132730427395, 3.330175734642163, 3.4689550746626625, 4.888905139402345, 3.3982161923440843, 2.4370302131443404, 1.7867160730204528, 1.823907044621598, 2.04021129821326, 2.1097056776071046, 2.4189331289975815, 2.3183774052698447, 2.6293500130535694, 3.3610661287100068, 2.8586217169031913, 2.42158839383247, 135.67633171428534, 16.548578146833155, 15.557342356535878, 11.25689742810396, 6.124417202713566, 14.56573269388073, 9.683652422046672, 7.69750066769547, 9.702347450779424, 6.188231570846195, 13.101816430300117, 10.834174766867013, 4.7920221804373515, 7.425011206564712, 7.102488453496441, 7.7966988801128645, 6.693345118465271, 4.199899364687095, 5.4570201256423205, 2.823480166851755, 4.090018278708129, 3.703744292556343, 2.7737814201325874, 3.382633436703703, 5.602793310686896, 3.4352027118988633, 2.1018786520843107, 2.5906952447075984, 2.8124334731607994, 1.8444312045820639, 3.7987195108786262, 2.827641965801497, 105.51744072958053, 19.98783987364427, 13.46016287118534, 13.21711202211173, 12.203209644581754, 12.83194787030371, 5.906544563279511, 10.906010914578289, 8.77743849137405, 6.193508246224732, 8.233712750487596, 5.408509261696212, 4.584390386687289, 3.7894385784753477, 10.819928197114852, 7.847049593487685, 7.43823771743533, 6.215988567513641, 8.019947543191014, 6.738473418421253, 3.2836055279892618, 2.445842885756095, 2.967260731721474, 3.330717508027428, 4.297765101106331, 5.8870853558088925, 2.4785352648538597, 6.620114523437582, 4.755546745136395, 3.7432894680459348, 2.8890749720266506, 2.534772591888039, 129.0963409858779, 76.69967014284904, 11.044390024096835, 10.525831825874526, 14.435068133790109, 20.932002727606132, 9.55103530330719, 6.147118957156957, 5.827388707958553, 10.399885436610328, 8.167796097507756, 6.680723511968058, 5.261778095904025, 5.576589126187583, 4.667489300012619, 1.3498997015821692, 1.0898976874054136, 2.339619874979811, 1.2700513850272006, 1.8700019611398964, 2.248870558653956, 1.6685872015737886, 1.9678737057456608, 1.6560006209359859, 0.8583035547603751, 0.6336427969505221, 2.306748384177886, 1.0428034836880105, 1.0478120264012662, 0.4716372726842064, 0.7619332491370138, 0.8327935769998062, 125.67102195532183, 13.13880872950996, 4.4228889215702045, 7.077178603955538, 5.2755310110739, 8.368626856922306, 7.8759251827060694, 3.943078156899348, 4.310666786900416, 6.891205117651526, 5.370642420674815, 3.9022828075729152, 6.082953944368476, 11.92520743692776, 8.008149576123618, 6.605782044474576, 3.7172243598729646, 3.622410169773912, 3.511699850721759, 2.9340273001156434, 3.217295897218129, 2.790586888957213, 4.895032475197441, 2.0984034381662298, 2.6344995980312342, 1.7754687504936502, 2.111197174177324, 1.5329599941930392, 2.5518559181933034, 4.6792087404168, 4.113131841900554, 2.6677726929245913, 2.7880340744549823, 2.5432894501120913, 81.50684258145074, 27.337876814792416, 33.63140880551487, 19.309615966140445, 19.656890409974544, 24.381460604991407, 12.806527405353833, 6.036413651787632, 5.09522635457577, 4.248568218889349, 6.4234929193165815, 5.975777356907418, 4.237250852218075, 5.929015676197757, 7.765776491744564, 6.359290950721033, 3.1418767622373203, 2.97969521544826, 2.219254895124629, 3.458243351055315, 2.5923323280460457, 3.5991869631986617, 1.4228616708046857, 2.31999553612758, 2.235686902689457, 2.5284478269629593, 2.294568810236328, 1.368000191677351, 2.0003925586014324, 0.9471205549309794, 1.342981971776399, 194.06309996449187, 8.592427731956617, 7.192764136269616, 7.031896980550601, 4.799072351260378, 5.361207366751356, 5.096139002644187, 2.969650182154675, 3.871291086557513, 6.278625860563076, 4.230247337297687, 3.5679767164043987, 2.882250077414892, 4.406261398752506, 2.349396961746603, 2.939092826125854, 3.2663922372547063, 3.2741264688776375, 1.3887121314505508, 2.076169490199949, 1.055715917415309, 1.1345027561704737, 0.7178504138081957, 1.7082844935125387, 1.1638854189672125, 0.832002155807096, 0.9154586919511281, 1.0868923545266387, 1.5503043109540566, 0.9168646773011623, 79.97527111283019, 19.348152260945124, 12.44310178145852, 10.786024169667588, 6.102796255967293, 10.937293490995717, 6.53485314448631, 13.306792724553832, 4.08727456216316, 6.357128480920542, 5.566471578413972, 5.146661568027853, 6.176001534736459, 4.131078532344879, 6.099001273499459, 1.9508491466008453, 2.1231683278287026, 2.5782000708203983, 3.255661122123097, 3.0595891006670874, 1.338538363542491, 3.2842471360777714, 1.3595333363438835, 1.8660657991562608, 1.4560530760329378, 2.213729887644985, 1.663207986482008, 1.2265340048174922, 2.4197609877451547, 1.0762250283406087, 1.3661007749661391, 1.2575547817551376, 59.42699444372123, 10.040689130956139, 13.602943906183647, 9.612645905421717, 11.345428948902711, 5.625435042232201, 3.9210694277704707, 3.9703861405361933, 2.522962074077296, 2.3490309632284783, 6.226695821214704, 5.054049359636775, 3.5376099239645478, 2.785579314765612, 4.539587093243169, 3.0473483896449842, 2.2872330843235726, 2.5949815575849504, 1.921849187227494, 2.5816039614378283, 2.7921682635100593, 3.0374548930372383, 7.209988546410837, 2.302853637351512, 1.8348649238910895, 1.3574178664978047, 3.872227386760002, 4.885587379557557, 2.4468757783157944, 2.404506232065042, 2.77430519639212, 2.7125462830790634, 3.111661098992018, 2.898576874383269, 2.6849599724223094, 2.613446820213286, 60.72276184837049, 11.17627653972064, 9.666821925875034, 6.989598284333681, 4.196499419082939, 8.080567279886292, 3.671938708609192, 3.0436224535537058, 3.6512228822266413, 2.8517620868789617, 3.601302818410811, 2.9520670683318166, 2.9040062051868114, 6.346738500170598, 4.334409057299262, 4.588308093847723, 4.684973651893462, 4.274791876652017, 4.9838287315355805, 2.4785919900501265, 4.560140441805196, 3.4133816908348766, 1.6035017743634197, 3.071617985206299, 3.2620571782873458, 1.530856453727438, 4.884334132367504, 2.2722164233095197, 1.4859079221221188, 2.1604926918980007, 2.591162588118355, 3.754578815628757, 2.167450047011333, 50.51069970457602, 8.289167141321233, 5.11091535271358, 3.7607223057931876, 4.642202137449081, 7.906421805297216, 4.098721689675927, 2.716656485416654, 2.6972532959391446, 2.951875283146953, 2.085748322273304, 4.086879057836518, 2.1915903539489174, 2.419138118948605, 1.6497215756956913, 2.686620301158213, 1.7016806385146395, 2.3480614624646603, 3.151134531414085, 4.4257231197453075, 3.5184435348658987, 1.608429786607122, 1.7155360408422342, 1.4143844783300723, 1.7345677508349746, 2.6263185990175844, 2.0362526863485875, 3.3018221850024645, 3.5202323743908486, 1.9743683772756064, 2.5262413924055043, 3.1917480071606064, 2.549012674964826, 2.2512135564488602, 2.033850924303633, 1.9899140671484905, 42.87184360804229, 4.783386209175341, 3.714368682846745, 4.6008322012011575, 5.64300982065367, 3.212100677205039, 4.026841446795013, 2.6210384450220268, 2.433064523704584, 7.21686530026558, 2.795329791865604, 2.7198981455973605, 2.2304052930492233, 1.9357167296466427, 2.1924777444288566, 1.9676374929684328, 3.559134665587212, 4.848526960393607, 3.445556157148601, 3.681142957633771, 2.432577592101165, 2.3434815086821787, 3.38953070632242, 3.135704051316794, 4.092917195527711, 1.7668767588497, 1.578786980753945, 1.972623221005109, 4.087481180683312, 1.509221185380628, 3.265059069676278, 2.7076343539710086, 3.2204405144962784, 3.5198984535811464, 2.36840404139961, 2.452372999691456, 40.26143112842782, 9.386005576203566, 8.600620771318379, 3.718014154895458, 3.524258071408881, 3.061786151768039, 6.611314691775102, 2.9435193378869946, 3.041184427050535, 4.236228306520832, 4.293403642991674, 5.566836374706241, 2.946149432633537, 3.2931652435682883, 3.294345993167469, 2.120416936222663, 3.9789441110597217, 3.5669103305848435, 2.1456795521935232, 2.4178821333476663, 3.333666596733168, 4.391004304917411, 5.792408448601693, 2.913880131465605, 2.6995210739799043, 2.7250644213775344, 1.3859945226116022, 1.3541430169109736, 0.9815335303762087, 1.2545941002997083, 3.5034118444315707, 2.1480233829804094, 1.552516712966232, 2.0066900117466906, 1.7485120445212667, 41.91743498494081, 11.698827775752214, 7.183236725326494, 3.5476288729434335, 11.386668861599295, 3.4804224630403655, 4.20576757012916, 6.210578571587923, 3.8399768069174756, 1.9308181593951503, 3.379265569883863, 2.012200717274198, 2.2987857315426865, 1.4949136544486086, 1.924292652504915, 2.689362189953588, 2.594942529784425, 1.304684372641072, 1.84508571599547, 3.072907747208811, 2.0507940756073193, 1.2310739269098894, 1.207473422827955, 2.0108248369476636, 2.080175821845518, 1.2488935281402023, 0.885983970302813, 1.271448380139203, 1.030778324612229, 3.0571707978759743, 2.8567472777279805, 2.41135242192246, 1.6527798897740273, 1.5474447992461458, 2.003243922966014, 2.5036768759223635, 1.8417125188891226, 2.0891360092001294, 1.8652702705860649, 1.7446164236975916, 22.510885636902152, 11.76535864633223, 24.13164734706666, 4.5338040404012965, 3.9286887909909205, 2.5674292382453094, 4.122403815670202, 3.3845961923345156, 3.8043959953178668, 2.0997584065771786, 3.2530736696371205, 2.6516276799967486, 2.1878128464715494, 1.8293501311472056, 2.7335554096681474, 2.1864609004536932, 1.8345025181544141, 2.9945362165835148, 1.4435859671847884, 2.2231924710823643, 1.2663928936899942, 1.1192533380424639, 1.3177529945407052, 1.5084802052531432, 1.3263067231638637, 1.6369955104405054, 2.245891465612544, 3.1464036030795546, 2.351659184490625, 2.1200924906296064, 3.4330476688925162, 2.7240436932908, 2.005023011662034, 2.110417917163258, 2.1769274587416625, 1.963150662983619, 1.7184577209175809, 28.57009576790596, 6.2117627221201674, 2.9859833729882252, 5.5168572045152935, 3.5068345393975875, 6.168065216436644, 1.8562358506647958, 2.3116727050115693, 1.888076953602921, 3.6441560496321985, 1.8044663842258815, 3.8278993234780225, 2.5872647187037576, 1.762130678051864, 2.932996572767377, 1.7863882362918968, 1.9201394498567323, 1.9886647992407833, 1.7920454614709178, 3.8068172108826914, 3.434558517093258, 2.912887009380238, 2.872596061560097, 5.101969425463125, 1.282281669016567, 2.4541047109499323, 2.365297658286709, 1.3185059972055022, 2.5636687047760724, 1.7795365744074896, 3.298033956904249, 3.3244413694322414, 2.37462994661525, 3.2189013309004295, 2.220529821086124, 2.3171660266570284, 1.9008375437812064, 1.9329471520054688, 1.909771686541285, 25.380583607354136, 18.228445873748854, 10.622073662718787, 12.090023807003607, 3.4992156395098566, 3.3957417083086603, 3.6896866227794023, 2.922851356718043, 3.5332845925422047, 2.947598138076166, 2.1618551318521937, 4.5431914656955055, 2.090548886623268, 4.601945922027897, 2.4533332750333274, 2.061283013207775, 1.6154118376290474, 1.8814915435440989, 2.7443872488608223, 2.885928361658065, 1.2143030480323758, 1.629465597852369, 2.2138256788677277, 1.1870563854661662, 3.175630264784718, 1.2886283907034346, 1.4106549952549072, 2.187800459314036, 1.0808105281296851, 1.8025561800843266, 2.398633877721723, 1.8457978983428418, 1.5863861346669932, 1.8289385255248882, 1.7247847702761316, 2.4807665721151384, 1.8547543783801437, 20.042473157919847, 12.376184448890442, 5.363179440236242, 3.231163536411699, 6.250072039538184, 3.4643441230146093, 3.5595697114822995, 2.2668533203481145, 2.054683194068811, 3.1765047745286648, 2.253476114817101, 1.7638436885538624, 2.744454407450643, 2.045018576111571, 3.2454124757674303, 2.1998434631331705, 2.508231456661051, 3.4793261859184836, 3.119950796304777, 1.9970106440513746, 3.5102510583115003, 3.492016252353298, 2.1002555924778066, 1.6127016634424571, 2.120159305581222, 3.304574757797682, 1.112530586174662, 1.4767177559937992, 1.2312378065674172, 1.9334376319287223, 3.9897013773029384, 1.8724356433603215, 3.4223859382982624, 2.499678184369197, 2.3993497998073416, 2.3058622593929665, 2.3003191621714336, 2.114955179462594, 23.79101900523485, 5.267547952340344, 11.027267040924352, 9.536213943926377, 4.155371303295889, 6.2487316752478925, 4.420221291871235, 3.1975360614837993, 2.181971064125594, 4.501385918155146, 3.3046136462155697, 4.728546417152704, 2.2567354801519075, 2.1133793273823733, 3.0208959630412213, 2.049219362898306, 4.4244030751274215, 1.5284163714177923, 2.9055148091577903, 2.804787764737453, 1.8977643860687212, 1.4860928233974675, 3.802424862220596, 2.364359762145904, 1.702669197827448, 1.13258968549983, 3.0072473831153066, 1.3449443603967568, 2.2283664002408, 1.256204083759661, 1.962418263251765, 1.9018701070971196, 2.238083841622355, 1.9107302091439098, 2.0935369215626234, 1.8709072068621138, 2.2594845395484677, 7.456085424992891, 6.866878521528253, 6.131029254170587, 4.8893144134685, 4.851185310305643, 3.403266556644522, 2.748481446505067, 6.605374355541391, 5.0705650409658105, 5.324261943480675, 3.003527422218111, 2.6490913993367955, 2.325076259135127, 3.0954363787884978, 2.013112056297357, 2.2323823012153885, 2.192700817500103, 2.854451570458894, 4.436057147140351, 3.4631922967335482, 3.2217473545845365, 3.533560463834798, 1.7926417105843806, 2.6312041050273627, 1.592321962801052, 2.0338644178886995, 2.8950559325013323, 1.4855877230045702, 1.1732917179959617, 1.4609650159535268, 2.0493374781584297, 2.758705554705104, 2.567083315116713, 3.1174004261042807, 3.1175237811282073, 2.691009753452884, 3.0872293536648865, 2.7866666794671713, 4.5149149463777, 4.000658294381906, 7.611694197979576, 3.8363428757911047, 3.475986301265385, 3.616758858768562, 4.645875558102054, 4.645786794698593, 3.7024135850914632, 4.843948155899253, 2.292887450947222, 2.958982878802955, 2.4236475291736856, 2.676546866401577, 2.698867762179433, 3.69804884052793, 2.327292570365275, 2.0925916888629907, 1.8463430801737766, 1.915761935728461, 2.466576219676219, 2.107726991329113, 1.8242842322377537, 2.5730642389289113, 1.556425324502429, 2.3971004184821822, 2.8738754180227115, 1.8342710941351597, 1.4131499327241104, 2.7090269295070852, 1.9186741585684586, 2.908771510016154, 3.4749136346948926, 3.3343979036568747, 2.2278881644111497, 2.510234597568962, 3.0250339464028233, 2.3349208385181623, 2.4663561060158, 2.75845101259224, 2.3091794515146864, 10.794811197240538, 6.836838636177797, 3.1828402662972333, 5.675481108826662, 9.269754108948069, 2.813846229408329, 2.4098949125180824, 4.887407631974315, 4.830281528790751, 5.751008322417998, 3.4530500988800865, 4.572148740455168, 2.7175826446917157, 4.527126114738286, 7.916016916054751, 1.95584628128776, 4.08702932831729, 1.9415140918213276, 1.7795670570563091, 3.1622311662283877, 1.7052735568722583, 1.6140709546650696, 4.961189600412322, 2.147382857665091, 3.215095320701691, 1.7012043095948768, 2.0740522119733544, 1.9871810680534014, 3.1810897997672303, 1.5962592071493906, 2.5526793317210115, 3.173750502179652, 2.2072167341582567, 2.389744151420413, 1.8836062506488331, 5.926411987048405, 3.8702906352461075, 5.420248468897517, 4.077492157485944, 3.5070397863627076, 2.6838359082386667, 2.829230036770536, 4.401532751898898, 5.433377620544625, 2.212593283620424, 4.76837558159806, 2.660626725754124, 2.332866226796891, 2.5158996280923756, 2.022080586575286, 2.271212047860706, 2.415786093918694, 2.8642021650617955, 2.7493638591629956, 3.862691900505033, 3.554867270361725, 1.8656799591823654, 3.444493241519309, 3.4084053702999957, 2.434880342079957, 2.508767717059573, 2.47590306692841, 1.4560598589042208, 2.632002975658505, 2.0570690316686524, 1.9594650216589764, 3.038108599930895, 3.546391670675438, 2.77687333484275, 3.24643434983588, 2.687725670692875, 2.319192746631505, 16.365384405930516, 7.75898597059645, 6.089156423932376, 3.216192136139301, 3.9451596290404605, 2.411036925497528, 4.392349003001183, 4.5198344622128594, 4.811020849248, 4.505022721932512, 5.020373905013621, 2.2022626267026304, 1.6841860481656452, 4.357566802286445, 4.236644287218112, 1.6354609768827402, 3.4067325717480204, 2.0665596996139945, 2.5142622370009713, 1.9616973233551893, 2.7092379057583247, 3.822108097633249, 1.8193811963727216, 1.2570471685536468, 2.1661661075782006, 2.9281568499269994, 1.517337446047784, 2.0313437982992615, 1.5908488819068622, 2.7647284126987164, 3.7187434406398148, 1.9738649258541512, 2.296521529112419, 2.991579607043526, 2.1244632984179415, 2.27430571354013, 2.1312876377310337, 2.0706614173275684, 11.014166452697545, 13.768398266601043, 8.102034986791587, 5.21047215528525, 4.143863687079187, 3.1221143502328967, 4.257611377925177, 3.194822673092285, 3.551790574156492, 3.0038322200814638, 2.3315959637528874, 2.0543325407873434, 2.938192335894683, 2.2763415609389788, 1.6542011504382883, 1.7860688131917521, 3.6034469589378597, 2.7991434853660544, 4.728253217889852, 2.5632518036460255, 3.875894477761621, 1.6627204791542207, 2.745703021442344, 4.463126395499268, 5.330870901005959, 2.4829576363192274, 1.3740770657274037, 1.431362257731508, 1.947575457467912, 2.993885823853282, 1.7607306143683317, 2.170969610950382, 2.0751584911561864, 2.219745916991902, 2.1473110637358217, 1.94095458867709], \"Total\": [1379.0, 607.0, 684.0, 475.0, 542.0, 464.0, 577.0, 832.0, 571.0, 497.0, 482.0, 396.0, 423.0, 426.0, 558.0, 506.0, 549.0, 894.0, 398.0, 522.0, 401.0, 724.0, 433.0, 477.0, 583.0, 664.0, 747.0, 391.0, 407.0, 358.0, 477.16669305859875, 648.854787828513, 864.6529427551733, 396.68124501180085, 426.17635714783927, 714.5488747448214, 747.9087133257018, 382.02198170350414, 507.04636153917426, 365.9334686253515, 393.4980691489405, 462.00479474806025, 732.5877844936591, 521.1460461303466, 664.0842273482741, 729.8279896066203, 503.5159716870371, 376.8427421724511, 542.0729115698256, 683.9283457154252, 491.6254283251845, 1030.3169739377029, 423.6920577842434, 347.2647256507815, 766.5097085590596, 443.55927105607765, 438.1443847148803, 852.0607760892965, 675.5058227611081, 348.6408232937287, 698.432947031092, 977.1483537727324, 680.9056798951145, 575.9826133343967, 733.7746963352063, 684.2252249833508, 1120.1709198596284, 398.03536625439096, 401.44170992640085, 571.9357196789658, 462.00479474806025, 733.7746963352063, 694.1682592574498, 567.80713847793, 511.3737154199789, 530.6011157215454, 521.1460461303466, 575.9826133343967, 464.79221050719576, 852.0607760892965, 675.5058227611081, 1120.1709198596284, 431.2228946482361, 766.5097085590596, 680.9056798951145, 353.6064915399326, 698.432947031092, 864.6529427551733, 443.55927105607765, 729.8279896066203, 522.013444834469, 714.5488747448214, 347.2647256507815, 602.1257532305001, 1030.3169739377029, 977.1483537727324, 724.7629773878227, 664.0842273482741, 832.5260327996194, 1379.3402106836493, 820.2478635932442, 396.68124501180085, 664.0842273482741, 648.854787828513, 426.17635714783927, 477.16669305859875, 864.6529427551733, 521.1460461303466, 491.6254283251845, 747.9087133257018, 977.1483537727324, 732.5877844936591, 438.1443847148803, 380.8766809673837, 382.02198170350414, 393.4980691489405, 522.013444834469, 353.6064915399326, 443.55927105607765, 507.04636153917426, 352.3765684802409, 766.5097085590596, 462.00479474806025, 527.4841577081993, 282.6425319585814, 497.45556335046484, 431.2228946482361, 733.7746963352063, 683.9283457154252, 575.9826133343967, 1030.3169739377029, 675.5058227611081, 724.7629773878227, 602.1257532305001, 698.432947031092, 852.0607760892965, 1120.1709198596284, 942.4149128217305, 729.8279896066203, 1379.3402106836493, 423.6920577842434, 507.04636153917426, 546.9362080767274, 714.5488747448214, 353.6064915399326, 352.3765684802409, 506.34137777256785, 438.1443847148803, 462.00479474806025, 820.2478635932442, 365.9334686253515, 431.2228946482361, 575.9826133343967, 443.55927105607765, 680.9056798951145, 675.5058227611081, 733.7746963352063, 832.5260327996194, 698.432947031092, 1120.1709198596284, 852.0607760892965, 766.5097085590596, 542.0729115698256, 530.6011157215454, 376.8427421724511, 942.4149128217305, 282.6425319585814, 571.9357196789658, 683.9283457154252, 521.1460461303466, 732.5877844936591, 1030.3169739377029, 602.1257532305001, 894.4563759391984, 977.1483537727324, 864.6529427551733, 729.8279896066203, 1379.3402106836493, 558.1824635818448, 503.5159716870371, 442.29364252419754, 747.9087133257018, 729.8279896066203, 820.2478635932442, 507.04636153917426, 1030.3169739377029, 675.5058227611081, 852.0607760892965, 694.1682592574498, 832.5260327996194, 438.1443847148803, 491.6254283251845, 766.5097085590596, 352.3765684802409, 698.432947031092, 462.00479474806025, 431.2228946482361, 977.1483537727324, 1120.1709198596284, 348.6408232937287, 680.9056798951145, 602.1257532305001, 522.013444834469, 376.8427421724511, 527.4841577081993, 575.9826133343967, 733.7746963352063, 393.4980691489405, 683.9283457154252, 684.2252249833508, 648.854787828513, 864.6529427551733, 1379.3402106836493, 732.5877844936591, 583.4869377454197, 942.4149128217305, 371.1737441299785, 348.77125744257086, 438.1443847148803, 714.5488747448214, 733.7746963352063, 438.51813335433155, 546.9362080767274, 347.2647256507815, 1379.3402106836493, 575.9826133343967, 462.00479474806025, 507.04636153917426, 393.4980691489405, 698.432947031092, 602.1257532305001, 522.013444834469, 680.9056798951145, 497.45556335046484, 431.2228946482361, 527.4841577081993, 977.1483537727324, 402.9112083087456, 423.5748109168386, 852.0607760892965, 1120.1709198596284, 766.5097085590596, 443.55927105607765, 382.02198170350414, 1030.3169739377029, 521.1460461303466, 732.5877844936591, 683.9283457154252, 675.5058227611081, 724.7629773878227, 549.8195527261585, 431.2228946482361, 942.4149128217305, 376.8427421724511, 602.1257532305001, 698.432947031092, 820.2478635932442, 894.4563759391984, 832.5260327996194, 977.1483537727324, 352.3765684802409, 683.9283457154252, 1120.1709198596284, 729.8279896066203, 393.4980691489405, 732.5877844936591, 675.5058227611081, 507.04636153917426, 442.29364252419754, 443.55927105607765, 521.1460461303466, 1030.3169739377029, 347.2647256507815, 522.013444834469, 491.6254283251845, 852.0607760892965, 503.5159716870371, 575.9826133343967, 382.02198170350414, 348.6408232937287, 433.0421617939575, 527.4841577081993, 766.5097085590596, 864.6529427551733, 1379.3402106836493, 733.7746963352063, 323.28033992239534, 714.5488747448214, 464.79221050719576, 583.4869377454197, 423.5748109168386, 521.1460461303466, 506.34137777256785, 365.9334686253515, 391.82288054952215, 352.3765684802409, 393.4980691489405, 698.432947031092, 942.4149128217305, 353.6064915399326, 507.04636153917426, 571.9357196789658, 462.00479474806025, 382.02198170350414, 438.1443847148803, 282.6425319585814, 575.9826133343967, 766.5097085590596, 602.1257532305001, 542.0729115698256, 443.55927105607765, 733.7746963352063, 1030.3169739377029, 522.013444834469, 675.5058227611081, 497.45556335046484, 1120.1709198596284, 1379.3402106836493, 977.1483537727324, 852.0607760892965, 680.9056798951145, 732.5877844936591, 820.2478635932442, 864.6529427551733, 582.8348006883447, 694.1682592574498, 511.3737154199789, 1120.1709198596284, 475.5082668904685, 732.5877844936591, 442.29364252419754, 352.3765684802409, 675.5058227611081, 977.1483537727324, 438.1443847148803, 393.4980691489405, 729.8279896066203, 575.9826133343967, 733.7746963352063, 521.1460461303466, 683.9283457154252, 438.51813335433155, 680.9056798951145, 431.2228946482361, 507.04636153917426, 348.6408232937287, 462.00479474806025, 766.5097085590596, 376.8427421724511, 602.1257532305001, 402.9112083087456, 443.55927105607765, 503.5159716870371, 894.4563759391984, 698.432947031092, 820.2478635932442, 1030.3169739377029, 832.5260327996194, 747.9087133257018, 852.0607760892965, 577.4164222442798, 894.4563759391984, 820.2478635932442, 507.04636153917426, 729.8279896066203, 977.1483537727324, 511.3737154199789, 675.5058227611081, 1120.1709198596284, 683.9283457154252, 442.29364252419754, 575.9826133343967, 733.7746963352063, 443.55927105607765, 1030.3169739377029, 431.2228946482361, 282.6425319585814, 393.4980691489405, 766.5097085590596, 462.00479474806025, 684.2252249833508, 852.0607760892965, 438.1443847148803, 402.9112083087456, 724.7629773878227, 497.45556335046484, 376.8427421724511, 365.9334686253515, 521.1460461303466, 680.9056798951145, 348.6408232937287, 530.6011157215454, 694.1682592574498, 942.4149128217305, 747.9087133257018, 346.7427330775373, 894.4563759391984, 1379.3402106836493, 852.0607760892965, 442.29364252419754, 675.5058227611081, 714.5488747448214, 506.34137777256785, 648.854787828513, 503.5159716870371, 527.4841577081993, 724.7629773878227, 558.1824635818448, 443.55927105607765, 820.2478635932442, 507.04636153917426, 602.1257532305001, 431.2228946482361, 832.5260327996194, 393.4980691489405, 684.2252249833508, 747.9087133257018, 729.8279896066203, 542.0729115698256, 575.9826133343967, 577.4164222442798, 698.432947031092, 766.5097085590596, 733.7746963352063, 497.45556335046484, 977.1483537727324, 1030.3169739377029, 864.6529427551733, 942.4149128217305, 1120.1709198596284, 426.17635714783927, 396.68124501180085, 491.6254283251845, 648.854787828513, 477.16669305859875, 503.5159716870371, 382.02198170350414, 323.2714456575903, 346.7427330775373, 747.9087133257018, 442.29364252419754, 864.6529427551733, 522.7698111575367, 352.3765684802409, 393.4980691489405, 729.8279896066203, 732.5877844936591, 675.5058227611081, 353.6064915399326, 371.1737441299785, 462.00479474806025, 1030.3169739377029, 766.5097085590596, 348.6408232937287, 714.5488747448214, 431.2228946482361, 507.04636153917426, 852.0607760892965, 977.1483537727324, 443.55927105607765, 664.0842273482741, 733.7746963352063, 683.9283457154252, 832.5260327996194, 820.2478635932442, 698.432947031092, 1120.1709198596284, 724.7629773878227, 430.6683436925757, 942.4149128217305, 546.9362080767274, 664.0842273482741, 714.5488747448214, 393.4980691489405, 497.45556335046484, 511.3737154199789, 567.80713847793, 522.013444834469, 443.55927105607765, 347.2647256507815, 376.8427421724511, 571.9357196789658, 462.00479474806025, 401.44170992640085, 521.1460461303466, 371.1737441299785, 977.1483537727324, 353.6064915399326, 380.8766809673837, 507.04636153917426, 683.9283457154252, 698.432947031092, 675.5058227611081, 575.9826133343967, 733.7746963352063, 582.8348006883447, 1030.3169739377029, 864.6529427551733, 732.5877844936591, 852.0607760892965, 680.9056798951145, 766.5097085590596, 1379.3402106836493, 1120.1709198596284, 506.34137777256785, 832.5260327996194, 894.4563759391984, 747.9087133257018, 684.2252249833508, 542.0729115698256, 820.2478635932442, 382.02198170350414, 431.2228946482361, 864.6529427551733, 577.4164222442798, 852.0607760892965, 438.1443847148803, 282.6425319585814, 507.04636153917426, 521.1460461303466, 724.7629773878227, 698.432947031092, 766.5097085590596, 729.8279896066203, 380.8766809673837, 977.1483537727324, 482.0513216206035, 1120.1709198596284, 680.9056798951145, 733.7746963352063, 1030.3169739377029, 346.7427330775373, 683.9283457154252, 675.5058227611081, 511.3737154199789, 527.4841577081993, 575.9826133343967, 1379.3402106836493, 391.82288054952215, 522.7698111575367, 577.4164222442798, 714.5488747448214, 503.5159716870371, 864.6529427551733, 558.1824635818448, 1379.3402106836493, 438.1443847148803, 680.9056798951145, 852.0607760892965, 1030.3169739377029, 542.0729115698256, 698.432947031092, 575.9826133343967, 282.6425319585814, 729.8279896066203, 521.1460461303466, 683.9283457154252, 431.2228946482361, 442.29364252419754, 491.6254283251845, 352.3765684802409, 353.6064915399326, 747.9087133257018, 766.5097085590596, 675.5058227611081, 546.9362080767274, 462.00479474806025, 977.1483537727324, 1120.1709198596284, 733.7746963352063, 507.04636153917426, 820.2478635932442, 602.1257532305001, 942.4149128217305, 732.5877844936591, 582.8348006883447, 521.1460461303466, 1379.3402106836493, 423.5748109168386, 365.9334686253515, 433.0421617939575, 507.04636153917426, 371.1737441299785, 522.013444834469, 724.7629773878227, 602.1257532305001, 698.432947031092, 443.55927105607765, 977.1483537727324, 766.5097085590596, 527.4841577081993, 347.2647256507815, 282.6425319585814, 352.3765684802409, 732.5877844936591, 942.4149128217305, 575.9826133343967, 542.0729115698256, 438.1443847148803, 680.9056798951145, 1120.1709198596284, 733.7746963352063, 683.9283457154252, 530.6011157215454, 549.8195527261585, 894.4563759391984, 852.0607760892965, 1030.3169739377029, 675.5058227611081, 348.77125744257086, 407.0067786424784, 371.1737441299785, 714.5488747448214, 732.5877844936591, 583.4869377454197, 376.8427421724511, 942.4149128217305, 352.3765684802409, 443.55927105607765, 396.7934076186706, 522.013444834469, 393.4980691489405, 521.1460461303466, 864.6529427551733, 766.5097085590596, 282.6425319585814, 675.5058227611081, 977.1483537727324, 353.6064915399326, 683.9283457154252, 733.7746963352063, 431.2228946482361, 348.6408232937287, 462.00479474806025, 542.0729115698256, 442.29364252419754, 648.854787828513, 1379.3402106836493, 602.1257532305001, 1120.1709198596284, 698.432947031092, 729.8279896066203, 1030.3169739377029, 575.9826133343967, 664.0842273482741, 582.8348006883447, 530.6011157215454, 571.9357196789658, 714.5488747448214, 430.6683436925757, 567.80713847793, 401.44170992640085, 353.6064915399326, 766.5097085590596, 431.2228946482361, 507.04636153917426, 462.00479474806025, 521.1460461303466, 733.7746963352063, 680.9056798951145, 575.9826133343967, 732.5877844936591, 443.55927105607765, 442.29364252419754, 852.0607760892965, 522.013444834469, 675.5058227611081, 382.02198170350414, 438.1443847148803, 1030.3169739377029, 398.03536625439096, 393.4980691489405, 358.5759365830456, 546.9362080767274, 729.8279896066203, 602.1257532305001, 527.4841577081993, 942.4149128217305, 1120.1709198596284, 698.432947031092, 977.1483537727324, 1379.3402106836493, 407.0067786424784, 352.3765684802409, 371.1737441299785, 732.5877844936591, 583.4869377454197, 766.5097085590596, 443.55927105607765, 575.9826133343967, 864.6529427551733, 522.7698111575367, 1120.1709198596284, 602.1257532305001, 675.5058227611081, 527.4841577081993, 348.6408232937287, 438.1443847148803, 438.51813335433155, 724.7629773878227, 475.5082668904685, 680.9056798951145, 376.8427421724511, 977.1483537727324, 442.29364252419754, 462.00479474806025, 353.6064915399326, 729.8279896066203, 683.9283457154252, 431.2228946482361, 733.7746963352063, 698.432947031092, 1030.3169739377029, 942.4149128217305, 694.1682592574498, 820.2478635932442, 747.9087133257018, 832.5260327996194, 323.2714456575903, 747.9087133257018, 694.1682592574498, 491.6254283251845, 820.2478635932442, 511.3737154199789, 684.2252249833508, 442.29364252419754, 832.5260327996194, 438.1443847148803, 575.9826133343967, 864.6529427551733, 852.0607760892965, 431.2228946482361, 724.7629773878227, 503.5159716870371, 766.5097085590596, 729.8279896066203, 675.5058227611081, 733.7746963352063, 1120.1709198596284, 396.7934076186706, 732.5877844936591, 607.5266080085671, 353.6064915399326, 546.9362080767274, 894.4563759391984, 352.3765684802409, 558.1824635818448, 527.4841577081993, 683.9283457154252, 1030.3169739377029, 977.1483537727324, 698.432947031092, 607.5266080085671, 371.1737441299785, 442.29364252419754, 894.4563759391984, 820.2478635932442, 648.854787828513, 1120.1709198596284, 522.013444834469, 582.8348006883447, 732.5877844936591, 507.04636153917426, 462.00479474806025, 431.2228946482361, 729.8279896066203, 1030.3169739377029, 575.9826133343967, 675.5058227611081, 438.1443847148803, 680.9056798951145, 348.6408232937287, 766.5097085590596, 733.7746963352063, 832.5260327996194, 443.55927105607765, 683.9283457154252, 864.6529427551733, 380.8766809673837, 352.3765684802409, 511.3737154199789, 602.1257532305001, 724.7629773878227, 977.1483537727324, 852.0607760892965, 1379.3402106836493, 401.44170992640085, 503.5159716870371, 694.1682592574498, 352.3765684802409, 832.5260327996194, 462.00479474806025, 602.1257532305001, 729.8279896066203, 522.013444834469, 521.1460461303466, 443.55927105607765, 507.04636153917426, 398.03536625439096, 852.0607760892965, 714.5488747448214, 698.432947031092, 733.7746963352063, 1030.3169739377029, 567.80713847793, 433.0421617939575, 675.5058227611081, 732.5877844936591, 1120.1709198596284, 393.4980691489405, 680.9056798951145, 431.2228946482361, 766.5097085590596, 530.6011157215454, 527.4841577081993, 575.9826133343967, 977.1483537727324, 683.9283457154252, 820.2478635932442, 864.6529427551733, 1379.3402106836493, 664.0842273482741, 724.7629773878227, 766.5097085590596, 462.00479474806025, 1120.1709198596284, 1379.3402106836493, 530.6011157215454, 522.7698111575367, 680.9056798951145, 431.2228946482361, 522.013444834469, 852.0607760892965, 567.80713847793, 694.1682592574498, 306.84912306952424, 438.1443847148803, 546.9362080767274, 733.7746963352063, 443.55927105607765, 371.1737441299785, 602.1257532305001, 521.1460461303466, 732.5877844936591, 475.5082668904685, 442.29364252419754, 942.4149128217305, 527.4841577081993, 832.5260327996194, 684.2252249833508, 683.9283457154252, 977.1483537727324, 820.2478635932442, 1030.3169739377029, 894.4563759391984, 675.5058227611081, 546.9362080767274, 714.5488747448214, 942.4149128217305, 575.9826133343967, 732.5877844936591, 864.6529427551733, 352.3765684802409, 680.9056798951145, 430.6683436925757, 507.04636153917426, 443.55927105607765, 353.6064915399326, 733.7746963352063, 683.9283457154252, 977.1483537727324, 393.4980691489405, 462.00479474806025, 438.1443847148803, 431.2228946482361, 530.6011157215454, 522.013444834469, 766.5097085590596, 852.0607760892965, 402.9112083087456, 396.7934076186706, 371.1737441299785, 602.1257532305001, 1120.1709198596284, 698.432947031092, 376.8427421724511, 527.4841577081993, 1030.3169739377029, 1379.3402106836493, 820.2478635932442, 675.5058227611081, 648.854787828513, 577.4164222442798, 832.5260327996194, 442.29364252419754, 607.5266080085671, 1030.3169739377029, 894.4563759391984, 675.5058227611081, 852.0607760892965, 507.04636153917426, 864.6529427551733, 698.432947031092, 521.1460461303466, 348.6408232937287, 393.4980691489405, 680.9056798951145, 684.2252249833508, 977.1483537727324, 729.8279896066203, 431.2228946482361, 462.00479474806025, 733.7746963352063, 575.9826133343967, 820.2478635932442, 438.51813335433155, 376.8427421724511, 1120.1709198596284, 527.4841577081993, 438.1443847148803, 530.6011157215454, 506.34137777256785, 732.5877844936591, 766.5097085590596, 602.1257532305001, 683.9283457154252, 433.0421617939575, 475.5082668904685, 582.8348006883447, 567.80713847793, 393.4980691489405, 347.2647256507815, 522.013444834469, 423.5748109168386, 438.51813335433155, 942.4149128217305, 977.1483537727324, 376.8427421724511, 282.6425319585814, 675.5058227611081, 348.77125744257086, 1379.3402106836493, 348.6408232937287, 698.432947031092, 527.4841577081993, 583.4869377454197, 442.29364252419754, 431.2228946482361, 443.55927105607765, 521.1460461303466, 733.7746963352063, 602.1257532305001, 683.9283457154252, 396.7934076186706, 358.5759365830456, 549.8195527261585, 766.5097085590596, 894.4563759391984, 1120.1709198596284, 1030.3169739377029, 680.9056798951145, 732.5877844936591, 729.8279896066203, 664.0842273482741, 430.6683436925757, 567.80713847793, 353.6064915399326, 942.4149128217305, 352.3765684802409, 732.5877844936591, 864.6529427551733, 462.00479474806025, 714.5488747448214, 371.1737441299785, 522.013444834469, 1379.3402106836493, 393.4980691489405, 766.5097085590596, 977.1483537727324, 530.6011157215454, 648.854787828513, 602.1257532305001, 733.7746963352063, 546.9362080767274, 306.84912306952424, 724.7629773878227, 583.4869377454197, 396.68124501180085, 680.9056798951145, 443.55927105607765, 396.7934076186706, 503.5159716870371, 527.4841577081993, 698.432947031092, 852.0607760892965, 1120.1709198596284, 1030.3169739377029, 571.9357196789658, 683.9283457154252, 832.5260327996194, 894.4563759391984, 507.04636153917426, 820.2478635932442, 442.29364252419754, 431.2228946482361, 684.2252249833508, 462.00479474806025, 1030.3169739377029, 729.8279896066203, 393.4980691489405, 506.34137777256785, 675.5058227611081, 683.9283457154252, 443.55927105607765, 977.1483537727324, 864.6529427551733, 353.6064915399326, 1120.1709198596284, 352.3765684802409, 376.8427421724511, 365.9334686253515, 732.5877844936591, 323.2714456575903, 766.5097085590596, 380.8766809673837, 698.432947031092, 358.5759365830456, 602.1257532305001, 680.9056798951145, 733.7746963352063, 852.0607760892965, 491.6254283251845, 724.7629773878227, 747.9087133257018, 549.8195527261585, 575.9826133343967, 1379.3402106836493, 507.04636153917426, 1030.3169739377029, 714.5488747448214, 462.00479474806025, 852.0607760892965, 521.1460461303466, 729.8279896066203, 698.432947031092, 732.5877844936591, 766.5097085590596, 602.1257532305001, 864.6529427551733, 733.7746963352063, 1120.1709198596284, 977.1483537727324, 942.4149128217305, 348.6408232937287, 442.29364252419754, 431.2228946482361, 683.9283457154252, 353.6064915399326, 542.0729115698256, 575.9826133343967, 346.7427330775373, 491.6254283251845, 571.9357196789658, 894.4563759391984, 382.02198170350414, 443.55927105607765, 577.4164222442798, 648.854787828513, 942.4149128217305, 864.6529427551733, 507.04636153917426, 714.5488747448214, 977.1483537727324, 376.8427421724511, 732.5877844936591, 1030.3169739377029, 766.5097085590596, 698.432947031092, 462.00479474806025, 353.6064915399326, 371.1737441299785, 521.1460461303466, 1379.3402106836493, 430.6683436925757, 733.7746963352063, 431.2228946482361, 602.1257532305001, 664.0842273482741, 347.2647256507815, 683.9283457154252, 680.9056798951145, 438.1443847148803, 393.4980691489405, 675.5058227611081, 522.013444834469, 575.9826133343967, 546.9362080767274, 1120.1709198596284, 852.0607760892965, 747.9087133257018, 401.44170992640085, 438.1443847148803, 864.6529427551733, 431.2228946482361, 852.0607760892965, 732.5877844936591, 442.29364252419754, 352.3765684802409, 977.1483537727324, 521.1460461303466, 698.432947031092, 733.7746963352063, 766.5097085590596, 729.8279896066203, 1120.1709198596284, 1030.3169739377029, 575.9826133343967, 675.5058227611081, 602.1257532305001, 683.9283457154252, 694.1682592574498, 462.00479474806025, 503.5159716870371, 558.1824635818448, 680.9056798951145, 648.854787828513, 530.6011157215454, 527.4841577081993, 571.9357196789658, 714.5488747448214, 820.2478635932442, 511.3737154199789, 820.2478635932442, 694.1682592574498, 832.5260327996194, 442.29364252419754, 1120.1709198596284, 352.3765684802409, 852.0607760892965, 732.5877844936591, 733.7746963352063, 675.5058227611081, 683.9283457154252, 507.04636153917426, 1030.3169739377029, 353.6064915399326, 382.02198170350414, 575.9826133343967, 393.4980691489405, 402.9112083087456, 443.55927105607765, 729.8279896066203, 503.5159716870371, 431.2228946482361, 602.1257532305001, 698.432947031092, 942.4149128217305, 977.1483537727324, 491.6254283251845, 462.00479474806025, 282.6425319585814, 766.5097085590596, 894.4563759391984, 864.6529427551733, 680.9056798951145, 380.8766809673837, 714.5488747448214, 648.854787828513, 864.6529427551733, 430.6683436925757, 942.4149128217305, 546.9362080767274, 1379.3402106836493, 442.29364252419754, 348.77125744257086, 507.04636153917426, 602.1257532305001, 282.6425319585814, 522.013444834469, 352.3765684802409, 664.0842273482741, 977.1483537727324, 1030.3169739377029, 462.00479474806025, 382.02198170350414, 732.5877844936591, 376.8427421724511, 683.9283457154252, 431.2228946482361, 680.9056798951145, 766.5097085590596, 698.432947031092, 729.8279896066203, 852.0607760892965, 443.55927105607765, 521.1460461303466, 1120.1709198596284, 733.7746963352063, 894.4563759391984, 575.9826133343967, 820.2478635932442, 522.7698111575367, 1379.3402106836493, 1120.1709198596284, 575.9826133343967, 503.5159716870371, 442.29364252419754, 680.9056798951145, 675.5058227611081, 733.7746963352063, 729.8279896066203, 766.5097085590596, 431.2228946482361, 527.4841577081993, 462.00479474806025, 438.1443847148803, 443.55927105607765, 391.82288054952215, 522.013444834469, 864.6529427551733, 393.4980691489405, 352.3765684802409, 1030.3169739377029, 732.5877844936591, 530.6011157215454, 698.432947031092, 346.7427330775373, 648.854787828513, 567.80713847793, 602.1257532305001, 282.6425319585814, 683.9283457154252, 852.0607760892965, 977.1483537727324, 438.51813335433155, 694.1682592574498, 1120.1709198596284, 729.8279896066203, 438.1443847148803, 602.1257532305001, 407.0067786424784, 675.5058227611081, 393.4980691489405, 977.1483537727324, 732.5877844936591, 462.00479474806025, 433.0421617939575, 683.9283457154252, 353.6064915399326, 522.013444834469, 491.6254283251845, 522.7698111575367, 443.55927105607765, 323.2714456575903, 724.7629773878227, 680.9056798951145, 852.0607760892965, 511.3737154199789, 575.9826133343967, 352.3765684802409, 348.6408232937287, 507.04636153917426, 698.432947031092, 1030.3169739377029, 820.2478635932442, 894.4563759391984, 1379.3402106836493, 864.6529427551733, 832.5260327996194, 942.4149128217305, 766.5097085590596, 567.80713847793, 683.9283457154252, 402.9112083087456, 431.2228946482361, 729.8279896066203, 680.9056798951145, 733.7746963352063, 521.1460461303466, 507.04636153917426, 977.1483537727324, 438.1443847148803, 522.013444834469, 442.29364252419754, 353.6064915399326, 443.55927105607765, 575.9826133343967, 462.00479474806025, 852.0607760892965, 698.432947031092, 1120.1709198596284, 766.5097085590596, 1030.3169739377029, 714.5488747448214, 430.6683436925757, 664.0842273482741, 675.5058227611081, 602.1257532305001, 942.4149128217305, 347.2647256507815, 396.7934076186706, 864.6529427551733, 732.5877844936591, 724.7629773878227, 1379.3402106836493, 497.45556335046484, 433.0421617939575, 942.4149128217305, 575.9826133343967, 977.1483537727324, 733.7746963352063, 1120.1709198596284, 521.1460461303466, 1030.3169739377029, 423.5748109168386, 729.8279896066203, 431.2228946482361, 527.4841577081993, 376.8427421724511, 443.55927105607765, 438.1443847148803, 402.9112083087456, 353.6064915399326, 675.5058227611081, 766.5097085590596, 683.9283457154252, 602.1257532305001, 894.4563759391984, 582.8348006883447, 438.51813335433155, 352.3765684802409, 442.29364252419754, 347.2647256507815, 864.6529427551733, 358.5759365830456, 732.5877844936591, 852.0607760892965, 832.5260327996194, 820.2478635932442, 698.432947031092, 1379.3402106836493, 546.9362080767274, 402.9112083087456, 683.9283457154252, 732.5877844936591, 438.1443847148803, 358.5759365830456, 352.3765684802409, 442.29364252419754, 729.8279896066203, 393.4980691489405, 443.55927105607765, 602.1257532305001, 521.1460461303466, 680.9056798951145, 527.4841577081993, 733.7746963352063, 977.1483537727324, 1030.3169739377029, 575.9826133343967, 766.5097085590596, 1120.1709198596284, 462.00479474806025, 382.02198170350414, 684.2252249833508, 376.8427421724511, 431.2228946482361, 852.0607760892965, 675.5058227611081, 698.432947031092, 894.4563759391984, 482.0513216206035, 542.0729115698256, 832.5260327996194, 306.84912306952424, 530.6011157215454, 602.1257532305001, 582.8348006883447, 352.3765684802409, 680.9056798951145, 522.013444834469, 376.8427421724511, 438.1443847148803, 567.80713847793, 724.7629773878227, 353.6064915399326, 462.00479474806025, 683.9283457154252, 1120.1709198596284, 402.9112083087456, 766.5097085590596, 733.7746963352063, 507.04636153917426, 942.4149128217305, 977.1483537727324, 443.55927105607765, 729.8279896066203, 431.2228946482361, 521.1460461303466, 527.4841577081993, 482.0513216206035, 371.1737441299785, 852.0607760892965, 393.4980691489405, 1379.3402106836493, 894.4563759391984, 732.5877844936591, 698.432947031092, 684.2252249833508, 864.6529427551733, 747.9087133257018, 894.4563759391984, 475.5082668904685, 729.8279896066203, 648.854787828513, 832.5260327996194, 438.51813335433155, 977.1483537727324, 442.29364252419754, 1120.1709198596284, 431.2228946482361, 558.1824635818448, 698.432947031092, 602.1257532305001, 522.013444834469, 575.9826133343967, 1030.3169739377029, 820.2478635932442, 438.1443847148803, 675.5058227611081, 683.9283457154252, 852.0607760892965, 506.34137777256785, 365.9334686253515, 694.1682592574498, 491.6254283251845, 507.04636153917426, 347.2647256507815, 724.7629773878227, 733.7746963352063, 766.5097085590596, 475.5082668904685, 438.51813335433155, 443.55927105607765, 582.8348006883447, 1120.1709198596284, 282.6425319585814, 683.9283457154252, 977.1483537727324, 407.0067786424784, 521.1460461303466, 894.4563759391984, 732.5877844936591, 376.8427421724511, 694.1682592574498, 433.0421617939575, 507.04636153917426, 575.9826133343967, 602.1257532305001, 729.8279896066203, 423.5748109168386, 675.5058227611081, 680.9056798951145, 766.5097085590596, 942.4149128217305, 1030.3169739377029, 522.013444834469, 546.9362080767274, 864.6529427551733, 393.4980691489405, 511.3737154199789, 1379.3402106836493, 733.7746963352063, 852.0607760892965, 464.79221050719576, 714.5488747448214, 583.4869377454197, 864.6529427551733, 391.82288054952215, 323.28033992239534, 766.5097085590596, 675.5058227611081, 1030.3169739377029, 733.7746963352063, 1120.1709198596284, 462.00479474806025, 382.02198170350414, 431.2228946482361, 507.04636153917426, 729.8279896066203, 942.4149128217305, 852.0607760892965, 832.5260327996194, 567.80713847793, 1379.3402106836493, 575.9826133343967, 348.6408232937287, 358.5759365830456, 393.4980691489405, 571.9357196789658, 521.1460461303466, 376.8427421724511, 680.9056798951145, 648.854787828513, 820.2478635932442, 977.1483537727324, 683.9283457154252, 894.4563759391984, 694.1682592574498, 365.9334686253515, 507.04636153917426, 506.34137777256785, 530.6011157215454, 306.84912306952424, 393.4980691489405, 431.2228946482361, 675.5058227611081, 522.013444834469, 602.1257532305001, 443.55927105607765, 438.1443847148803, 1030.3169739377029, 521.1460461303466, 402.9112083087456, 820.2478635932442, 1379.3402106836493, 1120.1709198596284, 353.6064915399326, 582.8348006883447, 766.5097085590596, 382.02198170350414, 396.7934076186706, 733.7746963352063, 680.9056798951145, 575.9826133343967, 729.8279896066203, 977.1483537727324, 546.9362080767274, 698.432947031092, 852.0607760892965, 747.9087133257018, 832.5260327996194, 683.9283457154252, 894.4563759391984, 527.4841577081993, 438.1443847148803, 396.7934076186706, 522.013444834469, 530.6011157215454, 521.1460461303466, 680.9056798951145, 1030.3169739377029, 602.1257532305001, 766.5097085590596, 729.8279896066203, 732.5877844936591, 1120.1709198596284, 442.29364252419754, 352.3765684802409, 675.5058227611081, 443.55927105607765, 698.432947031092, 977.1483537727324, 733.7746963352063, 683.9283457154252, 431.2228946482361, 852.0607760892965, 402.9112083087456, 942.4149128217305, 462.00479474806025, 575.9826133343967, 820.2478635932442, 1379.3402106836493, 353.6064915399326, 714.5488747448214, 371.1737441299785, 714.5488747448214, 521.1460461303466, 732.5877844936591, 462.00479474806025, 507.04636153917426, 766.5097085590596, 942.4149128217305, 1120.1709198596284, 698.432947031092, 393.4980691489405, 733.7746963352063, 431.2228946482361, 442.29364252419754, 664.0842273482741, 282.6425319585814, 852.0607760892965, 353.6064915399326, 977.1483537727324, 546.9362080767274, 1030.3169739377029, 443.55927105607765, 491.6254283251845, 503.5159716870371, 376.8427421724511, 438.1443847148803, 680.9056798951145, 583.4869377454197, 348.6408232937287, 683.9283457154252, 602.1257532305001, 864.6529427551733, 522.7698111575367, 1379.3402106836493, 575.9826133343967, 348.6408232937287, 442.29364252419754, 393.4980691489405, 864.6529427551733, 376.8427421724511, 1120.1709198596284, 977.1483537727324, 675.5058227611081, 507.04636153917426, 522.013444834469, 575.9826133343967, 732.5877844936591, 530.6011157215454, 729.8279896066203, 462.00479474806025, 683.9283457154252, 820.2478635932442, 698.432947031092, 602.1257532305001, 352.3765684802409, 1030.3169739377029, 942.4149128217305, 438.1443847148803, 832.5260327996194, 1379.3402106836493, 430.6683436925757, 521.1460461303466, 382.02198170350414, 443.55927105607765, 680.9056798951145, 648.854787828513, 894.4563759391984, 714.5488747448214, 733.7746963352063, 347.2647256507815, 464.79221050719576, 864.6529427551733, 282.6425319585814, 942.4149128217305, 353.6064915399326, 714.5488747448214, 698.432947031092, 438.1443847148803, 571.9357196789658, 1030.3169739377029, 521.1460461303466, 507.04636153917426, 732.5877844936591, 675.5058227611081, 977.1483537727324, 683.9283457154252, 546.9362080767274, 393.4980691489405, 575.9826133343967, 602.1257532305001, 398.03536625439096, 376.8427421724511, 430.6683436925757, 648.854787828513, 475.5082668904685, 443.55927105607765, 482.0513216206035, 1120.1709198596284, 530.6011157215454, 747.9087133257018, 527.4841577081993, 1379.3402106836493, 766.5097085590596, 733.7746963352063, 852.0607760892965, 680.9056798951145, 282.6425319585814, 729.8279896066203, 443.55927105607765, 393.4980691489405, 431.2228946482361, 602.1257532305001, 507.04636153917426, 714.5488747448214, 521.1460461303466, 1120.1709198596284, 567.80713847793, 977.1483537727324, 698.432947031092, 733.7746963352063, 396.7934076186706, 675.5058227611081, 376.8427421724511, 1030.3169739377029, 766.5097085590596, 442.29364252419754, 522.013444834469, 438.1443847148803, 852.0607760892965, 683.9283457154252, 942.4149128217305, 462.00479474806025, 348.6408232937287, 365.9334686253515, 864.6529427551733, 391.82288054952215, 423.5748109168386, 1379.3402106836493, 894.4563759391984, 575.9826133343967, 732.5877844936591, 353.6064915399326, 423.5748109168386, 382.02198170350414, 522.013444834469, 438.1443847148803, 766.5097085590596, 431.2228946482361, 683.9283457154252, 724.7629773878227, 443.55927105607765, 567.80713847793, 942.4149128217305, 1120.1709198596284, 733.7746963352063, 442.29364252419754, 527.4841577081993, 503.5159716870371, 352.3765684802409, 732.5877844936591, 530.6011157215454, 347.2647256507815, 675.5058227611081, 462.00479474806025, 542.0729115698256, 521.1460461303466, 602.1257532305001, 497.45556335046484, 864.6529427551733, 546.9362080767274, 714.5488747448214, 1379.3402106836493, 852.0607760892965, 977.1483537727324, 1030.3169739377029, 648.854787828513, 491.6254283251845, 438.1443847148803, 431.2228946482361, 323.2714456575903, 747.9087133257018, 462.00479474806025, 503.5159716870371, 1120.1709198596284, 820.2478635932442, 766.5097085590596, 852.0607760892965, 402.9112083087456, 864.6529427551733, 698.432947031092, 729.8279896066203, 497.45556335046484, 443.55927105607765, 1030.3169739377029, 602.1257532305001, 442.29364252419754, 684.2252249833508, 732.5877844936591, 683.9283457154252, 733.7746963352063, 607.5266080085671, 648.854787828513, 675.5058227611081, 680.9056798951145, 977.1483537727324, 482.0513216206035, 482.0513216206035, 733.7746963352063, 393.4980691489405, 680.9056798951145, 977.1483537727324, 1030.3169739377029, 698.432947031092, 747.9087133257018, 1120.1709198596284, 675.5058227611081, 575.9826133343967, 732.5877844936591, 729.8279896066203, 852.0607760892965, 602.1257532305001, 442.29364252419754, 431.2228946482361, 507.04636153917426, 714.5488747448214, 942.4149128217305, 522.013444834469, 438.1443847148803, 864.6529427551733, 648.854787828513, 820.2478635932442, 577.4164222442798, 402.9112083087456, 347.2647256507815, 462.00479474806025, 371.1737441299785, 766.5097085590596, 832.5260327996194, 567.80713847793, 1379.3402106836493, 423.5748109168386, 724.7629773878227, 503.5159716870371, 371.1737441299785, 732.5877844936591, 507.04636153917426, 582.8348006883447, 664.0842273482741, 521.1460461303466, 431.2228946482361, 352.3765684802409, 348.77125744257086, 491.6254283251845, 347.2647256507815, 698.432947031092, 522.013444834469, 393.4980691489405, 433.0421617939575, 977.1483537727324, 396.7934076186706, 583.4869377454197, 1379.3402106836493, 1120.1709198596284, 482.0513216206035, 766.5097085590596, 575.9826133343967, 852.0607760892965, 462.00479474806025, 382.02198170350414, 407.0067786424784, 675.5058227611081, 864.6529427551733, 733.7746963352063, 1030.3169739377029, 942.4149128217305, 522.013444834469, 575.9826133343967, 393.4980691489405, 602.1257532305001, 733.7746963352063, 442.29364252419754, 521.1460461303466, 680.9056798951145, 729.8279896066203, 438.1443847148803, 977.1483537727324, 1120.1709198596284, 675.5058227611081, 766.5097085590596, 1030.3169739377029, 942.4149128217305, 462.00479474806025, 820.2478635932442, 507.04636153917426, 382.02198170350414, 732.5877844936591, 443.55927105607765, 683.9283457154252, 353.6064915399326, 724.7629773878227, 546.9362080767274, 698.432947031092, 852.0607760892965, 864.6529427551733, 567.80713847793, 1379.3402106836493, 542.0729115698256, 382.02198170350414, 747.9087133257018, 648.854787828513, 714.5488747448214, 766.5097085590596, 482.0513216206035, 698.432947031092, 675.5058227611081, 729.8279896066203, 1030.3169739377029, 575.9826133343967, 431.2228946482361, 942.4149128217305, 1379.3402106836493, 1120.1709198596284, 521.1460461303466, 282.6425319585814, 530.6011157215454, 680.9056798951145, 507.04636153917426, 732.5877844936591, 546.9362080767274, 977.1483537727324, 733.7746963352063, 376.8427421724511, 443.55927105607765, 527.4841577081993, 393.4980691489405, 852.0607760892965, 864.6529427551733, 683.9283457154252, 664.0842273482741, 358.5759365830456, 546.9362080767274, 733.7746963352063, 438.1443847148803, 864.6529427551733, 582.8348006883447, 852.0607760892965, 1030.3169739377029, 347.2647256507815, 507.04636153917426, 1120.1709198596284, 521.1460461303466, 462.00479474806025, 675.5058227611081, 832.5260327996194, 530.6011157215454, 680.9056798951145, 683.9283457154252, 567.80713847793, 348.6408232937287, 602.1257532305001, 698.432947031092, 1379.3402106836493, 393.4980691489405, 491.6254283251845, 522.013444834469, 714.5488747448214, 977.1483537727324, 402.9112083087456, 575.9826133343967, 747.9087133257018, 503.5159716870371, 577.4164222442798, 747.9087133257018, 497.45556335046484, 558.1824635818448, 729.8279896066203, 820.2478635932442, 477.16669305859875, 832.5260327996194, 527.4841577081993, 323.2714456575903, 1030.3169739377029, 766.5097085590596, 852.0607760892965, 438.1443847148803, 675.5058227611081, 698.432947031092, 346.7427330775373, 732.5877844936591, 442.29364252419754, 431.2228946482361, 352.3765684802409, 602.1257532305001, 683.9283457154252, 977.1483537727324, 684.2252249833508, 507.04636153917426, 393.4980691489405, 407.0067786424784, 462.00479474806025, 482.0513216206035, 575.9826133343967, 549.8195527261585, 694.1682592574498, 1120.1709198596284, 864.6529427551733, 1379.3402106836493, 852.0607760892965, 530.6011157215454, 733.7746963352063, 680.9056798951145, 431.2228946482361, 1030.3169739377029, 714.5488747448214, 602.1257532305001, 766.5097085590596, 522.013444834469, 1120.1709198596284, 977.1483537727324, 443.55927105607765, 729.8279896066203, 698.432947031092, 820.2478635932442, 732.5877844936591, 462.00479474806025, 675.5058227611081, 352.3765684802409, 575.9826133343967, 527.4841577081993, 396.7934076186706, 521.1460461303466, 864.6529427551733, 567.80713847793, 353.6064915399326, 442.29364252419754, 507.04636153917426, 358.5759365830456, 942.4149128217305, 683.9283457154252, 376.8427421724511, 443.55927105607765, 714.5488747448214, 732.5877844936591, 683.9283457154252, 729.8279896066203, 352.3765684802409, 698.432947031092, 602.1257532305001, 431.2228946482361, 575.9826133343967, 462.00479474806025, 402.9112083087456, 348.77125744257086, 1030.3169739377029, 766.5097085590596, 733.7746963352063, 664.0842273482741, 977.1483537727324, 864.6529427551733, 438.1443847148803, 358.5759365830456, 442.29364252419754, 503.5159716870371, 675.5058227611081, 942.4149128217305, 401.44170992640085, 1120.1709198596284, 852.0607760892965, 680.9056798951145, 648.854787828513, 521.1460461303466, 530.6011157215454, 680.9056798951145, 376.8427421724511, 507.04636153917426, 766.5097085590596, 1120.1709198596284, 602.1257532305001, 438.1443847148803, 443.55927105607765, 864.6529427551733, 729.8279896066203, 714.5488747448214, 732.5877844936591, 977.1483537727324, 942.4149128217305, 348.77125744257086, 306.84912306952424, 698.432947031092, 393.4980691489405, 607.5266080085671, 733.7746963352063, 675.5058227611081, 894.4563759391984, 820.2478635932442, 462.00479474806025, 365.9334686253515, 1379.3402106836493, 683.9283457154252, 747.9087133257018, 348.6408232937287, 684.2252249833508, 1030.3169739377029, 382.02198170350414, 567.80713847793, 347.2647256507815, 571.9357196789658, 462.00479474806025, 733.7746963352063, 766.5097085590596, 396.7934076186706, 443.55927105607765, 714.5488747448214, 575.9826133343967, 433.0421617939575, 698.432947031092, 1379.3402106836493, 942.4149128217305, 852.0607760892965, 522.013444834469, 521.1460461303466, 511.3737154199789, 507.04636153917426, 582.8348006883447, 530.6011157215454, 977.1483537727324, 423.6920577842434, 546.9362080767274, 401.44170992640085, 482.0513216206035, 353.6064915399326, 602.1257532305001, 1120.1709198596284, 1030.3169739377029, 680.9056798951145, 820.2478635932442, 729.8279896066203, 1030.3169739377029, 546.9362080767274, 675.5058227611081, 680.9056798951145, 729.8279896066203, 977.1483537727324, 602.1257532305001, 443.55927105607765, 438.1443847148803, 430.6683436925757, 698.432947031092, 714.5488747448214, 507.04636153917426, 733.7746963352063, 1120.1709198596284, 942.4149128217305, 521.1460461303466, 522.013444834469, 431.2228946482361, 766.5097085590596, 575.9826133343967, 864.6529427551733, 352.3765684802409, 683.9283457154252, 732.5877844936591, 852.0607760892965, 820.2478635932442, 567.80713847793, 832.5260327996194, 442.29364252419754, 648.854787828513, 396.7934076186706, 675.5058227611081, 680.9056798951145, 698.432947031092, 567.80713847793, 733.7746963352063, 714.5488747448214, 431.2228946482361, 683.9283457154252, 1120.1709198596284, 852.0607760892965, 729.8279896066203, 602.1257532305001, 977.1483537727324, 582.8348006883447, 766.5097085590596, 864.6529427551733, 1030.3169739377029, 443.55927105607765, 832.5260327996194, 462.00479474806025, 503.5159716870371, 365.9334686253515, 894.4563759391984, 724.7629773878227, 530.6011157215454, 732.5877844936591, 942.4149128217305, 1379.3402106836493, 820.2478635932442, 698.432947031092, 522.7698111575367, 602.1257532305001, 820.2478635932442, 521.1460461303466, 977.1483537727324, 675.5058227611081, 1379.3402106836493, 462.00479474806025, 732.5877844936591, 680.9056798951145, 766.5097085590596, 1030.3169739377029, 714.5488747448214, 1120.1709198596284, 393.4980691489405, 438.1443847148803, 558.1824635818448, 729.8279896066203, 733.7746963352063, 347.2647256507815, 864.6529427551733, 358.5759365830456, 527.4841577081993, 431.2228946482361, 683.9283457154252, 567.80713847793, 426.17635714783927, 942.4149128217305, 443.55927105607765, 747.9087133257018, 852.0607760892965, 607.5266080085671, 371.1737441299785, 521.1460461303466, 582.8348006883447, 698.432947031092, 423.5748109168386, 382.02198170350414, 527.4841577081993, 347.2647256507815, 352.3765684802409, 942.4149128217305, 766.5097085590596, 546.9362080767274, 431.2228946482361, 724.7629773878227, 491.6254283251845, 376.8427421724511, 438.1443847148803, 353.6064915399326, 482.0513216206035, 522.7698111575367, 575.9826133343967, 1379.3402106836493, 442.29364252419754, 358.5759365830456, 282.6425319585814, 852.0607760892965, 1120.1709198596284, 567.80713847793, 583.4869377454197, 675.5058227611081, 664.0842273482741, 977.1483537727324, 1030.3169739377029, 820.2478635932442, 894.4563759391984, 684.2252249833508, 820.2478635932442, 832.5260327996194, 724.7629773878227, 462.00479474806025, 894.4563759391984, 407.0067786424784, 352.3765684802409, 503.5159716870371, 393.4980691489405, 507.04636153917426, 443.55927105607765, 442.29364252419754, 977.1483537727324, 675.5058227611081, 733.7746963352063, 766.5097085590596, 729.8279896066203, 864.6529427551733, 431.2228946482361, 852.0607760892965, 680.9056798951145, 353.6064915399326, 683.9283457154252, 732.5877844936591, 346.7427330775373, 1120.1709198596284, 522.013444834469, 396.7934076186706, 577.4164222442798, 698.432947031092, 1030.3169739377029, 602.1257532305001, 832.5260327996194, 648.854787828513, 506.34137777256785, 382.02198170350414, 503.5159716870371, 864.6529427551733, 482.0513216206035, 352.3765684802409, 393.4980691489405, 462.00479474806025, 380.8766809673837, 766.5097085590596, 443.55927105607765, 507.04636153917426, 353.6064915399326, 575.9826133343967, 365.9334686253515, 521.1460461303466, 732.5877844936591, 1030.3169739377029, 820.2478635932442, 396.68124501180085, 431.2228946482361, 358.5759365830456, 442.29364252419754, 683.9283457154252, 542.0729115698256, 894.4563759391984, 977.1483537727324, 577.4164222442798, 747.9087133257018, 1120.1709198596284, 852.0607760892965, 733.7746963352063, 724.7629773878227, 729.8279896066203, 475.5082668904685, 442.29364252419754, 407.0067786424784, 521.1460461303466, 694.1682592574498, 438.51813335433155, 583.4869377454197, 402.9112083087456, 376.8427421724511, 1120.1709198596284, 438.1443847148803, 462.00479474806025, 380.8766809673837, 348.6408232937287, 396.7934076186706, 358.5759365830456, 683.9283457154252, 977.1483537727324, 698.432947031092, 747.9087133257018, 507.04636153917426, 503.5159716870371, 729.8279896066203, 675.5058227611081, 894.4563759391984, 393.4980691489405, 352.3765684802409, 443.55927105607765, 942.4149128217305, 353.6064915399326, 766.5097085590596, 648.854787828513, 852.0607760892965, 1030.3169739377029, 680.9056798951145, 864.6529427551733, 894.4563759391984, 602.1257532305001, 558.1824635818448, 396.7934076186706, 391.82288054952215, 352.3765684802409, 864.6529427551733, 393.4980691489405, 431.2228946482361, 698.432947031092, 733.7746963352063, 977.1483537727324, 575.9826133343967, 648.854787828513, 675.5058227611081, 443.55927105607765, 832.5260327996194, 766.5097085590596, 462.00479474806025, 522.013444834469, 732.5877844936591, 1030.3169739377029, 1379.3402106836493, 714.5488747448214, 683.9283457154252, 729.8279896066203, 380.8766809673837, 376.8427421724511, 282.6425319585814, 365.9334686253515, 1120.1709198596284, 680.9056798951145, 497.45556335046484, 852.0607760892965, 820.2478635932442, 497.45556335046484, 522.013444834469, 732.5877844936591, 393.4980691489405, 1379.3402106836493, 464.79221050719576, 567.80713847793, 942.4149128217305, 664.0842273482741, 382.02198170350414, 714.5488747448214, 443.55927105607765, 521.1460461303466, 380.8766809673837, 491.6254283251845, 698.432947031092, 675.5058227611081, 353.6064915399326, 507.04636153917426, 864.6529427551733, 582.8348006883447, 352.3765684802409, 348.77125744257086, 583.4869377454197, 648.854787828513, 396.7934076186706, 282.6425319585814, 423.5748109168386, 347.2647256507815, 1030.3169739377029, 977.1483537727324, 852.0607760892965, 571.9357196789658, 530.6011157215454, 766.5097085590596, 1120.1709198596284, 683.9283457154252, 894.4563759391984, 724.7629773878227, 729.8279896066203, 407.0067786424784, 438.51813335433155, 1379.3402106836493, 475.5082668904685, 507.04636153917426, 348.6408232937287, 583.4869377454197, 522.013444834469, 602.1257532305001, 352.3765684802409, 549.8195527261585, 530.6011157215454, 443.55927105607765, 380.8766809673837, 575.9826133343967, 482.0513216206035, 442.29364252419754, 766.5097085590596, 371.1737441299785, 582.8348006883447, 346.7427330775373, 306.84912306952424, 365.9334686253515, 431.2228946482361, 396.7934076186706, 503.5159716870371, 694.1682592574498, 977.1483537727324, 733.7746963352063, 683.9283457154252, 1120.1709198596284, 942.4149128217305, 675.5058227611081, 729.8279896066203, 1030.3169739377029, 864.6529427551733, 714.5488747448214, 542.0729115698256, 438.1443847148803, 376.8427421724511, 714.5488747448214, 464.79221050719576, 864.6529427551733, 282.6425319585814, 393.4980691489405, 352.3765684802409, 683.9283457154252, 353.6064915399326, 766.5097085590596, 530.6011157215454, 380.8766809673837, 648.854787828513, 402.9112083087456, 442.29364252419754, 462.00479474806025, 431.2228946482361, 942.4149128217305, 852.0607760892965, 732.5877844936591, 729.8279896066203, 1379.3402106836493, 347.2647256507815, 680.9056798951145, 664.0842273482741, 382.02198170350414, 747.9087133257018, 521.1460461303466, 977.1483537727324, 1030.3169739377029, 733.7746963352063, 1120.1709198596284, 684.2252249833508, 820.2478635932442, 567.80713847793, 698.432947031092, 602.1257532305001, 433.0421617939575, 832.5260327996194, 714.5488747448214, 942.4149128217305, 380.8766809673837, 393.4980691489405, 497.45556335046484, 407.0067786424784, 522.013444834469, 464.79221050719576, 347.2647256507815, 766.5097085590596, 382.02198170350414, 864.6529427551733, 491.6254283251845, 462.00479474806025, 371.1737441299785, 443.55927105607765, 680.9056798951145, 732.5877844936591, 352.3765684802409, 475.5082668904685, 648.854787828513, 353.6064915399326, 977.1483537727324, 398.03536625439096, 442.29364252419754, 694.1682592574498, 348.77125744257086, 602.1257532305001, 852.0607760892965, 698.432947031092, 567.80713847793, 729.8279896066203, 664.0842273482741, 1379.3402106836493, 1030.3169739377029, 571.9357196789658, 365.9334686253515, 577.4164222442798, 352.3765684802409, 724.7629773878227, 430.6683436925757, 522.013444834469, 382.02198170350414, 371.1737441299785, 582.8348006883447, 438.1443847148803, 353.6064915399326, 567.80713847793, 423.5748109168386, 680.9056798951145, 462.00479474806025, 527.4841577081993, 732.5877844936591, 664.0842273482741, 431.2228946482361, 766.5097085590596, 832.5260327996194, 511.3737154199789, 393.4980691489405, 521.1460461303466, 820.2478635932442, 282.6425319585814, 376.8427421724511, 323.28033992239534, 522.7698111575367, 1120.1709198596284, 507.04636153917426, 1030.3169739377029, 714.5488747448214, 733.7746963352063, 852.0607760892965, 942.4149128217305, 864.6529427551733, 482.0513216206035, 396.7934076186706, 832.5260327996194, 747.9087133257018, 348.6408232937287, 648.854787828513, 477.16669305859875, 442.29364252419754, 323.2714456575903, 683.9283457154252, 503.5159716870371, 724.7629773878227, 346.7427330775373, 352.3765684802409, 521.1460461303466, 462.00479474806025, 1030.3169739377029, 376.8427421724511, 729.8279896066203, 732.5877844936591, 506.34137777256785, 396.68124501180085, 1120.1709198596284, 698.432947031092, 507.04636153917426, 358.5759365830456, 977.1483537727324, 438.1443847148803, 733.7746963352063, 431.2228946482361, 675.5058227611081, 680.9056798951145, 864.6529427551733, 714.5488747448214, 894.4563759391984, 684.2252249833508, 1379.3402106836493, 396.68124501180085, 433.0421617939575, 491.6254283251845, 393.4980691489405, 521.1460461303466, 382.02198170350414, 348.6408232937287, 864.6529427551733, 664.0842273482741, 732.5877844936591, 443.55927105607765, 402.9112083087456, 431.2228946482361, 583.4869377454197, 380.8766809673837, 438.1443847148803, 430.6683436925757, 567.80713847793, 942.4149128217305, 747.9087133257018, 698.432947031092, 766.5097085590596, 391.82288054952215, 575.9826133343967, 353.6064915399326, 462.00479474806025, 675.5058227611081, 346.7427330775373, 282.6425319585814, 352.3765684802409, 511.3737154199789, 733.7746963352063, 683.9283457154252, 977.1483537727324, 1030.3169739377029, 852.0607760892965, 1120.1709198596284, 1379.3402106836493, 347.2647256507815, 348.77125744257086, 664.0842273482741, 402.9112083087456, 382.02198170350414, 407.0067786424784, 527.4841577081993, 542.0729115698256, 443.55927105607765, 733.7746963352063, 380.8766809673837, 521.1460461303466, 438.51813335433155, 491.6254283251845, 497.45556335046484, 683.9283457154252, 438.1443847148803, 398.03536625439096, 353.6064915399326, 393.4980691489405, 530.6011157215454, 462.00479474806025, 401.44170992640085, 583.4869377454197, 358.5759365830456, 567.80713847793, 684.2252249833508, 442.29364252419754, 348.6408232937287, 675.5058227611081, 482.0513216206035, 766.5097085590596, 977.1483537727324, 942.4149128217305, 571.9357196789658, 714.5488747448214, 1030.3169739377029, 680.9056798951145, 864.6529427551733, 1379.3402106836493, 694.1682592574498, 511.3737154199789, 648.854787828513, 306.84912306952424, 549.8195527261585, 942.4149128217305, 348.6408232937287, 323.2714456575903, 664.0842273482741, 694.1682592574498, 864.6529427551733, 542.0729115698256, 724.7629773878227, 438.1443847148803, 733.7746963352063, 1379.3402106836493, 347.2647256507815, 766.5097085590596, 396.68124501180085, 382.02198170350414, 680.9056798951145, 371.1737441299785, 353.6064915399326, 1120.1709198596284, 527.4841577081993, 820.2478635932442, 442.29364252419754, 546.9362080767274, 530.6011157215454, 852.0607760892965, 443.55927105607765, 714.5488747448214, 1030.3169739377029, 683.9283457154252, 977.1483537727324, 698.432947031092, 583.4869377454197, 402.9112083087456, 567.80713847793, 477.16669305859875, 462.00479474806025, 365.9334686253515, 398.03536625439096, 694.1682592574498, 864.6529427551733, 353.6064915399326, 766.5097085590596, 438.1443847148803, 396.7934076186706, 431.2228946482361, 348.77125744257086, 393.4980691489405, 426.17635714783927, 522.7698111575367, 503.5159716870371, 724.7629773878227, 675.5058227611081, 358.5759365830456, 683.9283457154252, 684.2252249833508, 491.6254283251845, 522.013444834469, 521.1460461303466, 306.84912306952424, 558.1824635818448, 443.55927105607765, 423.5748109168386, 747.9087133257018, 1030.3169739377029, 733.7746963352063, 1120.1709198596284, 977.1483537727324, 664.0842273482741, 426.17635714783927, 571.9357196789658, 567.80713847793, 380.8766809673837, 511.3737154199789, 352.3765684802409, 664.0842273482741, 694.1682592574498, 747.9087133257018, 766.5097085590596, 864.6529427551733, 396.68124501180085, 306.84912306952424, 820.2478635932442, 832.5260327996194, 323.2714456575903, 683.9283457154252, 430.6683436925757, 530.6011157215454, 431.2228946482361, 602.1257532305001, 852.0607760892965, 407.0067786424784, 282.6425319585814, 491.6254283251845, 675.5058227611081, 353.6064915399326, 506.34137777256785, 402.9112083087456, 733.7746963352063, 1030.3169739377029, 527.4841577081993, 729.8279896066203, 1379.3402106836493, 714.5488747448214, 1120.1709198596284, 894.4563759391984, 977.1483537727324, 376.8427421724511, 577.4164222442798, 549.8195527261585, 438.51813335433155, 442.29364252419754, 348.6408232937287, 491.6254283251845, 402.9112083087456, 522.7698111575367, 443.55927105607765, 393.4980691489405, 347.2647256507815, 497.45556335046484, 430.6683436925757, 323.2714456575903, 352.3765684802409, 733.7746963352063, 575.9826133343967, 977.1483537727324, 530.6011157215454, 820.2478635932442, 391.82288054952215, 675.5058227611081, 1120.1709198596284, 1379.3402106836493, 683.9283457154252, 380.8766809673837, 401.44170992640085, 546.9362080767274, 864.6529427551733, 521.1460461303466, 698.432947031092, 684.2252249833508, 766.5097085590596, 832.5260327996194, 747.9087133257018], \"Category\": [\"Default\", \"Default\", \"Default\", \"Default\", \"Default\", \"Default\", \"Default\", \"Default\", \"Default\", \"Default\", \"Default\", \"Default\", \"Default\", \"Default\", \"Default\", \"Default\", \"Default\", \"Default\", \"Default\", \"Default\", \"Default\", \"Default\", \"Default\", \"Default\", \"Default\", \"Default\", \"Default\", \"Default\", \"Default\", \"Default\", \"Topic1\", \"Topic1\", \"Topic1\", \"Topic1\", \"Topic1\", \"Topic1\", \"Topic1\", \"Topic1\", \"Topic1\", \"Topic1\", \"Topic1\", \"Topic1\", \"Topic1\", \"Topic1\", \"Topic1\", \"Topic1\", \"Topic1\", \"Topic1\", \"Topic1\", \"Topic1\", \"Topic1\", \"Topic1\", \"Topic1\", \"Topic1\", \"Topic1\", \"Topic1\", \"Topic1\", \"Topic1\", \"Topic1\", \"Topic1\", \"Topic1\", \"Topic1\", \"Topic1\", \"Topic1\", \"Topic1\", \"Topic1\", \"Topic1\", \"Topic2\", \"Topic2\", \"Topic2\", \"Topic2\", \"Topic2\", \"Topic2\", \"Topic2\", \"Topic2\", \"Topic2\", \"Topic2\", \"Topic2\", \"Topic2\", \"Topic2\", \"Topic2\", \"Topic2\", \"Topic2\", \"Topic2\", \"Topic2\", \"Topic2\", \"Topic2\", \"Topic2\", \"Topic2\", \"Topic2\", \"Topic2\", \"Topic2\", \"Topic2\", \"Topic2\", \"Topic2\", \"Topic2\", \"Topic2\", \"Topic2\", \"Topic2\", \"Topic2\", \"Topic2\", \"Topic3\", \"Topic3\", \"Topic3\", \"Topic3\", \"Topic3\", \"Topic3\", \"Topic3\", \"Topic3\", \"Topic3\", \"Topic3\", \"Topic3\", \"Topic3\", \"Topic3\", \"Topic3\", \"Topic3\", \"Topic3\", \"Topic3\", \"Topic3\", \"Topic3\", \"Topic3\", \"Topic3\", \"Topic3\", \"Topic3\", \"Topic3\", \"Topic3\", \"Topic3\", \"Topic3\", \"Topic3\", \"Topic3\", \"Topic3\", \"Topic3\", \"Topic3\", \"Topic3\", \"Topic3\", \"Topic3\", \"Topic3\", \"Topic3\", \"Topic3\", \"Topic3\", \"Topic4\", \"Topic4\", \"Topic4\", \"Topic4\", \"Topic4\", \"Topic4\", \"Topic4\", \"Topic4\", \"Topic4\", \"Topic4\", \"Topic4\", \"Topic4\", \"Topic4\", \"Topic4\", \"Topic4\", \"Topic4\", \"Topic4\", \"Topic4\", \"Topic4\", \"Topic4\", \"Topic4\", \"Topic4\", \"Topic4\", \"Topic4\", \"Topic4\", \"Topic4\", \"Topic4\", \"Topic4\", \"Topic4\", \"Topic4\", \"Topic4\", \"Topic4\", \"Topic4\", \"Topic4\", \"Topic4\", \"Topic4\", \"Topic4\", \"Topic4\", \"Topic5\", \"Topic5\", \"Topic5\", \"Topic5\", \"Topic5\", \"Topic5\", \"Topic5\", \"Topic5\", \"Topic5\", \"Topic5\", \"Topic5\", \"Topic5\", \"Topic5\", \"Topic5\", \"Topic5\", \"Topic5\", \"Topic5\", \"Topic5\", \"Topic5\", \"Topic5\", \"Topic5\", \"Topic5\", \"Topic5\", \"Topic5\", \"Topic5\", \"Topic5\", \"Topic5\", \"Topic5\", \"Topic5\", \"Topic5\", \"Topic5\", \"Topic5\", \"Topic5\", \"Topic5\", \"Topic5\", \"Topic5\", \"Topic6\", \"Topic6\", \"Topic6\", \"Topic6\", \"Topic6\", \"Topic6\", \"Topic6\", \"Topic6\", \"Topic6\", \"Topic6\", \"Topic6\", \"Topic6\", \"Topic6\", \"Topic6\", \"Topic6\", \"Topic6\", \"Topic6\", \"Topic6\", \"Topic6\", \"Topic6\", \"Topic6\", \"Topic6\", \"Topic6\", \"Topic6\", \"Topic6\", \"Topic6\", \"Topic6\", \"Topic6\", \"Topic6\", \"Topic6\", \"Topic6\", \"Topic6\", \"Topic6\", \"Topic6\", \"Topic6\", \"Topic6\", \"Topic7\", \"Topic7\", \"Topic7\", \"Topic7\", \"Topic7\", \"Topic7\", \"Topic7\", \"Topic7\", \"Topic7\", \"Topic7\", \"Topic7\", \"Topic7\", \"Topic7\", \"Topic7\", \"Topic7\", \"Topic7\", \"Topic7\", \"Topic7\", \"Topic7\", \"Topic7\", \"Topic7\", \"Topic7\", \"Topic7\", \"Topic7\", \"Topic7\", \"Topic7\", \"Topic7\", \"Topic7\", \"Topic7\", \"Topic7\", \"Topic7\", \"Topic7\", \"Topic7\", \"Topic7\", \"Topic7\", \"Topic7\", \"Topic8\", \"Topic8\", \"Topic8\", \"Topic8\", \"Topic8\", \"Topic8\", \"Topic8\", \"Topic8\", \"Topic8\", \"Topic8\", \"Topic8\", \"Topic8\", \"Topic8\", \"Topic8\", \"Topic8\", \"Topic8\", \"Topic8\", \"Topic8\", \"Topic8\", \"Topic8\", \"Topic8\", \"Topic8\", \"Topic8\", \"Topic8\", \"Topic8\", \"Topic8\", \"Topic8\", \"Topic8\", \"Topic8\", \"Topic8\", \"Topic8\", \"Topic8\", \"Topic8\", \"Topic8\", \"Topic8\", \"Topic8\", \"Topic8\", \"Topic8\", \"Topic8\", \"Topic9\", \"Topic9\", \"Topic9\", \"Topic9\", \"Topic9\", \"Topic9\", \"Topic9\", \"Topic9\", \"Topic9\", \"Topic9\", \"Topic9\", \"Topic9\", \"Topic9\", \"Topic9\", \"Topic9\", \"Topic9\", \"Topic9\", \"Topic9\", \"Topic9\", \"Topic9\", \"Topic9\", \"Topic9\", \"Topic9\", \"Topic9\", \"Topic9\", \"Topic9\", \"Topic9\", \"Topic9\", \"Topic9\", \"Topic9\", \"Topic9\", \"Topic9\", \"Topic9\", \"Topic9\", \"Topic9\", \"Topic9\", \"Topic10\", \"Topic10\", \"Topic10\", \"Topic10\", \"Topic10\", \"Topic10\", \"Topic10\", \"Topic10\", \"Topic10\", \"Topic10\", \"Topic10\", \"Topic10\", \"Topic10\", \"Topic10\", \"Topic10\", \"Topic10\", \"Topic10\", \"Topic10\", \"Topic10\", \"Topic10\", \"Topic10\", \"Topic10\", \"Topic10\", \"Topic10\", \"Topic10\", \"Topic10\", \"Topic10\", \"Topic10\", \"Topic10\", \"Topic10\", \"Topic10\", \"Topic10\", \"Topic10\", \"Topic10\", \"Topic11\", \"Topic11\", \"Topic11\", \"Topic11\", \"Topic11\", \"Topic11\", \"Topic11\", \"Topic11\", \"Topic11\", \"Topic11\", \"Topic11\", \"Topic11\", \"Topic11\", \"Topic11\", \"Topic11\", \"Topic11\", \"Topic11\", \"Topic11\", \"Topic11\", \"Topic11\", \"Topic11\", \"Topic11\", \"Topic11\", \"Topic11\", \"Topic11\", \"Topic11\", \"Topic11\", \"Topic11\", \"Topic11\", \"Topic11\", \"Topic11\", \"Topic11\", \"Topic11\", \"Topic11\", \"Topic11\", \"Topic12\", \"Topic12\", \"Topic12\", \"Topic12\", \"Topic12\", \"Topic12\", \"Topic12\", \"Topic12\", \"Topic12\", \"Topic12\", \"Topic12\", \"Topic12\", \"Topic12\", \"Topic12\", \"Topic12\", \"Topic12\", \"Topic12\", \"Topic12\", \"Topic12\", \"Topic12\", \"Topic12\", \"Topic12\", \"Topic12\", \"Topic12\", \"Topic12\", \"Topic12\", \"Topic12\", \"Topic12\", \"Topic12\", \"Topic12\", \"Topic12\", \"Topic12\", \"Topic12\", \"Topic12\", \"Topic12\", \"Topic12\", \"Topic12\", \"Topic12\", \"Topic13\", \"Topic13\", \"Topic13\", \"Topic13\", \"Topic13\", \"Topic13\", \"Topic13\", \"Topic13\", \"Topic13\", \"Topic13\", \"Topic13\", \"Topic13\", \"Topic13\", \"Topic13\", \"Topic13\", \"Topic13\", \"Topic13\", \"Topic13\", \"Topic13\", \"Topic13\", \"Topic13\", \"Topic13\", \"Topic13\", \"Topic13\", \"Topic13\", \"Topic13\", \"Topic13\", \"Topic13\", \"Topic13\", \"Topic13\", \"Topic13\", \"Topic13\", \"Topic13\", \"Topic13\", \"Topic13\", \"Topic13\", \"Topic14\", \"Topic14\", \"Topic14\", \"Topic14\", \"Topic14\", \"Topic14\", \"Topic14\", \"Topic14\", \"Topic14\", \"Topic14\", \"Topic14\", \"Topic14\", \"Topic14\", \"Topic14\", \"Topic14\", \"Topic14\", \"Topic14\", \"Topic14\", \"Topic14\", \"Topic14\", \"Topic14\", \"Topic14\", \"Topic14\", \"Topic14\", \"Topic14\", \"Topic14\", \"Topic14\", \"Topic14\", \"Topic14\", \"Topic14\", \"Topic14\", \"Topic14\", \"Topic14\", \"Topic14\", \"Topic15\", \"Topic15\", \"Topic15\", \"Topic15\", \"Topic15\", \"Topic15\", \"Topic15\", \"Topic15\", \"Topic15\", \"Topic15\", \"Topic15\", \"Topic15\", \"Topic15\", \"Topic15\", \"Topic15\", \"Topic15\", \"Topic15\", \"Topic15\", \"Topic15\", \"Topic15\", \"Topic15\", \"Topic15\", \"Topic15\", \"Topic15\", \"Topic15\", \"Topic15\", \"Topic15\", \"Topic15\", \"Topic15\", \"Topic15\", \"Topic15\", \"Topic15\", \"Topic15\", \"Topic15\", \"Topic15\", \"Topic15\", \"Topic15\", \"Topic16\", \"Topic16\", \"Topic16\", \"Topic16\", \"Topic16\", \"Topic16\", \"Topic16\", \"Topic16\", \"Topic16\", \"Topic16\", \"Topic16\", \"Topic16\", \"Topic16\", \"Topic16\", \"Topic16\", \"Topic16\", \"Topic16\", \"Topic16\", \"Topic16\", \"Topic16\", \"Topic16\", \"Topic16\", \"Topic16\", \"Topic16\", \"Topic16\", \"Topic16\", \"Topic16\", \"Topic16\", \"Topic16\", \"Topic16\", \"Topic16\", \"Topic16\", \"Topic16\", \"Topic16\", \"Topic17\", \"Topic17\", \"Topic17\", \"Topic17\", \"Topic17\", \"Topic17\", \"Topic17\", \"Topic17\", \"Topic17\", \"Topic17\", \"Topic17\", \"Topic17\", \"Topic17\", \"Topic17\", \"Topic17\", \"Topic17\", \"Topic17\", \"Topic17\", \"Topic17\", \"Topic17\", \"Topic17\", \"Topic17\", \"Topic17\", \"Topic17\", \"Topic17\", \"Topic17\", \"Topic17\", \"Topic17\", \"Topic17\", \"Topic17\", \"Topic17\", \"Topic17\", \"Topic17\", \"Topic17\", \"Topic17\", \"Topic17\", \"Topic17\", \"Topic17\", \"Topic18\", \"Topic18\", \"Topic18\", \"Topic18\", \"Topic18\", \"Topic18\", \"Topic18\", \"Topic18\", \"Topic18\", \"Topic18\", \"Topic18\", \"Topic18\", \"Topic18\", \"Topic18\", \"Topic18\", \"Topic18\", \"Topic18\", \"Topic18\", \"Topic18\", \"Topic18\", \"Topic18\", \"Topic18\", \"Topic18\", \"Topic18\", \"Topic18\", \"Topic18\", \"Topic18\", \"Topic18\", \"Topic18\", \"Topic18\", \"Topic18\", \"Topic18\", \"Topic18\", \"Topic18\", \"Topic18\", \"Topic19\", \"Topic19\", \"Topic19\", \"Topic19\", \"Topic19\", \"Topic19\", \"Topic19\", \"Topic19\", \"Topic19\", \"Topic19\", \"Topic19\", \"Topic19\", \"Topic19\", \"Topic19\", \"Topic19\", \"Topic19\", \"Topic19\", \"Topic19\", \"Topic19\", \"Topic19\", \"Topic19\", \"Topic19\", \"Topic19\", \"Topic19\", \"Topic19\", \"Topic19\", \"Topic19\", \"Topic19\", \"Topic19\", \"Topic19\", \"Topic19\", \"Topic19\", \"Topic19\", \"Topic19\", \"Topic19\", \"Topic19\", \"Topic20\", \"Topic20\", \"Topic20\", \"Topic20\", \"Topic20\", \"Topic20\", \"Topic20\", \"Topic20\", \"Topic20\", \"Topic20\", \"Topic20\", \"Topic20\", \"Topic20\", \"Topic20\", \"Topic20\", \"Topic20\", \"Topic20\", \"Topic20\", \"Topic20\", \"Topic20\", \"Topic20\", \"Topic20\", \"Topic20\", \"Topic20\", \"Topic20\", \"Topic20\", \"Topic20\", \"Topic20\", \"Topic20\", \"Topic20\", \"Topic20\", \"Topic20\", \"Topic20\", \"Topic20\", \"Topic21\", \"Topic21\", \"Topic21\", \"Topic21\", \"Topic21\", \"Topic21\", \"Topic21\", \"Topic21\", \"Topic21\", \"Topic21\", \"Topic21\", \"Topic21\", \"Topic21\", \"Topic21\", \"Topic21\", \"Topic21\", \"Topic21\", \"Topic21\", \"Topic21\", \"Topic21\", \"Topic21\", \"Topic21\", \"Topic21\", \"Topic21\", \"Topic21\", \"Topic21\", \"Topic21\", \"Topic21\", \"Topic21\", \"Topic21\", \"Topic21\", \"Topic21\", \"Topic21\", \"Topic21\", \"Topic22\", \"Topic22\", \"Topic22\", \"Topic22\", \"Topic22\", \"Topic22\", \"Topic22\", \"Topic22\", \"Topic22\", \"Topic22\", \"Topic22\", \"Topic22\", \"Topic22\", \"Topic22\", \"Topic22\", \"Topic22\", \"Topic22\", \"Topic22\", \"Topic22\", \"Topic22\", \"Topic22\", \"Topic22\", \"Topic22\", \"Topic22\", \"Topic22\", \"Topic22\", \"Topic22\", \"Topic22\", \"Topic22\", \"Topic22\", \"Topic22\", \"Topic22\", \"Topic22\", \"Topic22\", \"Topic22\", \"Topic22\", \"Topic23\", \"Topic23\", \"Topic23\", \"Topic23\", \"Topic23\", \"Topic23\", \"Topic23\", \"Topic23\", \"Topic23\", \"Topic23\", \"Topic23\", \"Topic23\", \"Topic23\", \"Topic23\", \"Topic23\", \"Topic23\", \"Topic23\", \"Topic23\", \"Topic23\", \"Topic23\", \"Topic23\", \"Topic23\", \"Topic23\", \"Topic23\", \"Topic23\", \"Topic23\", \"Topic23\", \"Topic23\", \"Topic23\", \"Topic23\", \"Topic23\", \"Topic23\", \"Topic23\", \"Topic23\", \"Topic24\", \"Topic24\", \"Topic24\", \"Topic24\", \"Topic24\", \"Topic24\", \"Topic24\", \"Topic24\", \"Topic24\", \"Topic24\", \"Topic24\", \"Topic24\", \"Topic24\", \"Topic24\", \"Topic24\", \"Topic24\", \"Topic24\", \"Topic24\", \"Topic24\", \"Topic24\", \"Topic24\", \"Topic24\", \"Topic24\", \"Topic24\", \"Topic24\", \"Topic24\", \"Topic24\", \"Topic24\", \"Topic24\", \"Topic24\", \"Topic24\", \"Topic24\", \"Topic24\", \"Topic24\", \"Topic24\", \"Topic24\", \"Topic25\", \"Topic25\", \"Topic25\", \"Topic25\", \"Topic25\", \"Topic25\", \"Topic25\", \"Topic25\", \"Topic25\", \"Topic25\", \"Topic25\", \"Topic25\", \"Topic25\", \"Topic25\", \"Topic25\", \"Topic25\", \"Topic25\", \"Topic25\", \"Topic25\", \"Topic25\", \"Topic25\", \"Topic25\", \"Topic25\", \"Topic25\", \"Topic25\", \"Topic25\", \"Topic25\", \"Topic25\", \"Topic25\", \"Topic25\", \"Topic25\", \"Topic25\", \"Topic25\", \"Topic25\", \"Topic26\", \"Topic26\", \"Topic26\", \"Topic26\", \"Topic26\", \"Topic26\", \"Topic26\", \"Topic26\", \"Topic26\", \"Topic26\", \"Topic26\", \"Topic26\", \"Topic26\", \"Topic26\", \"Topic26\", \"Topic26\", \"Topic26\", \"Topic26\", \"Topic26\", \"Topic26\", \"Topic26\", \"Topic26\", \"Topic26\", \"Topic26\", \"Topic26\", \"Topic26\", \"Topic26\", \"Topic26\", \"Topic26\", \"Topic26\", \"Topic26\", \"Topic26\", \"Topic26\", \"Topic26\", \"Topic26\", \"Topic26\", \"Topic26\", \"Topic27\", \"Topic27\", \"Topic27\", \"Topic27\", \"Topic27\", \"Topic27\", \"Topic27\", \"Topic27\", \"Topic27\", \"Topic27\", \"Topic27\", \"Topic27\", \"Topic27\", \"Topic27\", \"Topic27\", \"Topic27\", \"Topic27\", \"Topic27\", \"Topic27\", \"Topic27\", \"Topic27\", \"Topic27\", \"Topic27\", \"Topic27\", \"Topic27\", \"Topic27\", \"Topic27\", \"Topic27\", \"Topic27\", \"Topic27\", \"Topic27\", \"Topic27\", \"Topic27\", \"Topic27\", \"Topic27\", \"Topic27\", \"Topic28\", \"Topic28\", \"Topic28\", \"Topic28\", \"Topic28\", \"Topic28\", \"Topic28\", \"Topic28\", \"Topic28\", \"Topic28\", \"Topic28\", \"Topic28\", \"Topic28\", \"Topic28\", \"Topic28\", \"Topic28\", \"Topic28\", \"Topic28\", \"Topic28\", \"Topic28\", \"Topic28\", \"Topic28\", \"Topic28\", \"Topic28\", \"Topic28\", \"Topic28\", \"Topic28\", \"Topic28\", \"Topic28\", \"Topic28\", \"Topic28\", \"Topic28\", \"Topic28\", \"Topic28\", \"Topic28\", \"Topic28\", \"Topic28\", \"Topic29\", \"Topic29\", \"Topic29\", \"Topic29\", \"Topic29\", \"Topic29\", \"Topic29\", \"Topic29\", \"Topic29\", \"Topic29\", \"Topic29\", \"Topic29\", \"Topic29\", \"Topic29\", \"Topic29\", \"Topic29\", \"Topic29\", \"Topic29\", \"Topic29\", \"Topic29\", \"Topic29\", \"Topic29\", \"Topic29\", \"Topic29\", \"Topic29\", \"Topic29\", \"Topic29\", \"Topic29\", \"Topic29\", \"Topic29\", \"Topic29\", \"Topic30\", \"Topic30\", \"Topic30\", \"Topic30\", \"Topic30\", \"Topic30\", \"Topic30\", \"Topic30\", \"Topic30\", \"Topic30\", \"Topic30\", \"Topic30\", \"Topic30\", \"Topic30\", \"Topic30\", \"Topic30\", \"Topic30\", \"Topic30\", \"Topic30\", \"Topic30\", \"Topic30\", \"Topic30\", \"Topic30\", \"Topic30\", \"Topic30\", \"Topic30\", \"Topic30\", \"Topic30\", \"Topic30\", \"Topic30\", \"Topic30\", \"Topic30\", \"Topic31\", \"Topic31\", \"Topic31\", \"Topic31\", \"Topic31\", \"Topic31\", \"Topic31\", \"Topic31\", \"Topic31\", \"Topic31\", \"Topic31\", \"Topic31\", \"Topic31\", \"Topic31\", \"Topic31\", \"Topic31\", \"Topic31\", \"Topic31\", \"Topic31\", \"Topic31\", \"Topic31\", \"Topic31\", \"Topic31\", \"Topic31\", \"Topic31\", \"Topic31\", \"Topic31\", \"Topic31\", \"Topic31\", \"Topic31\", \"Topic31\", \"Topic31\", \"Topic32\", \"Topic32\", \"Topic32\", \"Topic32\", \"Topic32\", \"Topic32\", \"Topic32\", \"Topic32\", \"Topic32\", \"Topic32\", \"Topic32\", \"Topic32\", \"Topic32\", \"Topic32\", \"Topic32\", \"Topic32\", \"Topic32\", \"Topic32\", \"Topic32\", \"Topic32\", \"Topic32\", \"Topic32\", \"Topic32\", \"Topic32\", \"Topic32\", \"Topic32\", \"Topic32\", \"Topic32\", \"Topic32\", \"Topic32\", \"Topic32\", \"Topic32\", \"Topic32\", \"Topic32\", \"Topic33\", \"Topic33\", \"Topic33\", \"Topic33\", \"Topic33\", \"Topic33\", \"Topic33\", \"Topic33\", \"Topic33\", \"Topic33\", \"Topic33\", \"Topic33\", \"Topic33\", \"Topic33\", \"Topic33\", \"Topic33\", \"Topic33\", \"Topic33\", \"Topic33\", \"Topic33\", \"Topic33\", \"Topic33\", \"Topic33\", \"Topic33\", \"Topic33\", \"Topic33\", \"Topic33\", \"Topic33\", \"Topic33\", \"Topic33\", \"Topic33\", \"Topic33\", \"Topic33\", \"Topic33\", \"Topic33\", \"Topic33\", \"Topic34\", \"Topic34\", \"Topic34\", \"Topic34\", \"Topic34\", \"Topic34\", \"Topic34\", \"Topic34\", \"Topic34\", \"Topic34\", \"Topic34\", \"Topic34\", \"Topic34\", \"Topic34\", \"Topic34\", \"Topic34\", \"Topic34\", \"Topic34\", \"Topic34\", \"Topic34\", \"Topic34\", \"Topic34\", \"Topic34\", \"Topic34\", \"Topic34\", \"Topic34\", \"Topic34\", \"Topic34\", \"Topic34\", \"Topic34\", \"Topic34\", \"Topic34\", \"Topic34\", \"Topic35\", \"Topic35\", \"Topic35\", \"Topic35\", \"Topic35\", \"Topic35\", \"Topic35\", \"Topic35\", \"Topic35\", \"Topic35\", \"Topic35\", \"Topic35\", \"Topic35\", \"Topic35\", \"Topic35\", \"Topic35\", \"Topic35\", \"Topic35\", \"Topic35\", \"Topic35\", \"Topic35\", \"Topic35\", \"Topic35\", \"Topic35\", \"Topic35\", \"Topic35\", \"Topic35\", \"Topic35\", \"Topic35\", \"Topic35\", \"Topic35\", \"Topic35\", \"Topic35\", \"Topic35\", \"Topic35\", \"Topic35\", \"Topic35\", \"Topic36\", \"Topic36\", \"Topic36\", \"Topic36\", \"Topic36\", \"Topic36\", \"Topic36\", \"Topic36\", \"Topic36\", \"Topic36\", \"Topic36\", \"Topic36\", \"Topic36\", \"Topic36\", \"Topic36\", \"Topic36\", \"Topic36\", \"Topic36\", \"Topic36\", \"Topic36\", \"Topic36\", \"Topic36\", \"Topic36\", \"Topic36\", \"Topic36\", \"Topic36\", \"Topic36\", \"Topic36\", \"Topic36\", \"Topic36\", \"Topic36\", \"Topic36\", \"Topic36\", \"Topic36\", \"Topic37\", \"Topic37\", \"Topic37\", \"Topic37\", \"Topic37\", \"Topic37\", \"Topic37\", \"Topic37\", \"Topic37\", \"Topic37\", \"Topic37\", \"Topic37\", \"Topic37\", \"Topic37\", \"Topic37\", \"Topic37\", \"Topic37\", \"Topic37\", \"Topic37\", \"Topic37\", \"Topic37\", \"Topic37\", \"Topic37\", \"Topic37\", \"Topic37\", \"Topic37\", \"Topic37\", \"Topic37\", \"Topic37\", \"Topic37\", \"Topic37\", \"Topic37\", \"Topic37\", \"Topic37\", \"Topic37\", \"Topic37\", \"Topic37\", \"Topic38\", \"Topic38\", \"Topic38\", \"Topic38\", \"Topic38\", \"Topic38\", \"Topic38\", \"Topic38\", \"Topic38\", \"Topic38\", \"Topic38\", \"Topic38\", \"Topic38\", \"Topic38\", \"Topic38\", \"Topic38\", \"Topic38\", \"Topic38\", \"Topic38\", \"Topic38\", \"Topic38\", \"Topic38\", \"Topic38\", \"Topic38\", \"Topic38\", \"Topic38\", \"Topic38\", \"Topic38\", \"Topic38\", \"Topic38\", \"Topic38\", \"Topic38\", \"Topic39\", \"Topic39\", \"Topic39\", \"Topic39\", \"Topic39\", \"Topic39\", \"Topic39\", \"Topic39\", \"Topic39\", \"Topic39\", \"Topic39\", \"Topic39\", \"Topic39\", \"Topic39\", \"Topic39\", \"Topic39\", \"Topic39\", \"Topic39\", \"Topic39\", \"Topic39\", \"Topic39\", \"Topic39\", \"Topic39\", \"Topic39\", \"Topic39\", \"Topic39\", \"Topic39\", \"Topic39\", \"Topic39\", \"Topic39\", \"Topic39\", \"Topic39\", \"Topic39\", \"Topic39\", \"Topic40\", \"Topic40\", \"Topic40\", \"Topic40\", \"Topic40\", \"Topic40\", \"Topic40\", \"Topic40\", \"Topic40\", \"Topic40\", \"Topic40\", \"Topic40\", \"Topic40\", \"Topic40\", \"Topic40\", \"Topic40\", \"Topic40\", \"Topic40\", \"Topic40\", \"Topic40\", \"Topic40\", \"Topic40\", \"Topic40\", \"Topic40\", \"Topic40\", \"Topic40\", \"Topic40\", \"Topic40\", \"Topic40\", \"Topic40\", \"Topic40\", \"Topic40\", \"Topic40\", \"Topic41\", \"Topic41\", \"Topic41\", \"Topic41\", \"Topic41\", \"Topic41\", \"Topic41\", \"Topic41\", \"Topic41\", \"Topic41\", \"Topic41\", \"Topic41\", \"Topic41\", \"Topic41\", \"Topic41\", \"Topic41\", \"Topic41\", \"Topic41\", \"Topic41\", \"Topic41\", \"Topic41\", \"Topic41\", \"Topic41\", \"Topic41\", \"Topic41\", \"Topic41\", \"Topic41\", \"Topic41\", \"Topic41\", \"Topic41\", \"Topic41\", \"Topic41\", \"Topic41\", \"Topic42\", \"Topic42\", \"Topic42\", \"Topic42\", \"Topic42\", \"Topic42\", \"Topic42\", \"Topic42\", \"Topic42\", \"Topic42\", \"Topic42\", \"Topic42\", \"Topic42\", \"Topic42\", \"Topic42\", \"Topic42\", \"Topic42\", \"Topic42\", \"Topic42\", \"Topic42\", \"Topic42\", \"Topic42\", \"Topic42\", \"Topic42\", \"Topic42\", \"Topic42\", \"Topic42\", \"Topic42\", \"Topic42\", \"Topic42\", \"Topic42\", \"Topic42\", \"Topic42\", \"Topic42\", \"Topic42\", \"Topic43\", \"Topic43\", \"Topic43\", \"Topic43\", \"Topic43\", \"Topic43\", \"Topic43\", \"Topic43\", \"Topic43\", \"Topic43\", \"Topic43\", \"Topic43\", \"Topic43\", \"Topic43\", \"Topic43\", \"Topic43\", \"Topic43\", \"Topic43\", \"Topic43\", \"Topic43\", \"Topic43\", \"Topic43\", \"Topic43\", \"Topic43\", \"Topic43\", \"Topic43\", \"Topic43\", \"Topic43\", \"Topic43\", \"Topic43\", \"Topic43\", \"Topic43\", \"Topic43\", \"Topic43\", \"Topic43\", \"Topic44\", \"Topic44\", \"Topic44\", \"Topic44\", \"Topic44\", \"Topic44\", \"Topic44\", \"Topic44\", \"Topic44\", \"Topic44\", \"Topic44\", \"Topic44\", \"Topic44\", \"Topic44\", \"Topic44\", \"Topic44\", \"Topic44\", \"Topic44\", \"Topic44\", \"Topic44\", \"Topic44\", \"Topic44\", \"Topic44\", \"Topic44\", \"Topic44\", \"Topic44\", \"Topic44\", \"Topic44\", \"Topic44\", \"Topic44\", \"Topic44\", \"Topic45\", \"Topic45\", \"Topic45\", \"Topic45\", \"Topic45\", \"Topic45\", \"Topic45\", \"Topic45\", \"Topic45\", \"Topic45\", \"Topic45\", \"Topic45\", \"Topic45\", \"Topic45\", \"Topic45\", \"Topic45\", \"Topic45\", \"Topic45\", \"Topic45\", \"Topic45\", \"Topic45\", \"Topic45\", \"Topic45\", \"Topic45\", \"Topic45\", \"Topic45\", \"Topic45\", \"Topic45\", \"Topic45\", \"Topic45\", \"Topic45\", \"Topic45\", \"Topic45\", \"Topic45\", \"Topic45\", \"Topic46\", \"Topic46\", \"Topic46\", \"Topic46\", \"Topic46\", \"Topic46\", \"Topic46\", \"Topic46\", \"Topic46\", \"Topic46\", \"Topic46\", \"Topic46\", \"Topic46\", \"Topic46\", \"Topic46\", \"Topic46\", \"Topic46\", \"Topic46\", \"Topic46\", \"Topic46\", \"Topic46\", \"Topic46\", \"Topic46\", \"Topic46\", \"Topic46\", \"Topic46\", \"Topic46\", \"Topic46\", \"Topic46\", \"Topic46\", \"Topic46\", \"Topic46\", \"Topic46\", \"Topic46\", \"Topic47\", \"Topic47\", \"Topic47\", \"Topic47\", \"Topic47\", \"Topic47\", \"Topic47\", \"Topic47\", \"Topic47\", \"Topic47\", \"Topic47\", \"Topic47\", \"Topic47\", \"Topic47\", \"Topic47\", \"Topic47\", \"Topic47\", \"Topic47\", \"Topic47\", \"Topic47\", \"Topic47\", \"Topic47\", \"Topic47\", \"Topic47\", \"Topic47\", \"Topic47\", \"Topic47\", \"Topic47\", \"Topic47\", \"Topic47\", \"Topic47\", \"Topic47\", \"Topic47\", \"Topic47\", \"Topic47\", \"Topic47\", \"Topic47\", \"Topic48\", \"Topic48\", \"Topic48\", \"Topic48\", \"Topic48\", \"Topic48\", \"Topic48\", \"Topic48\", \"Topic48\", \"Topic48\", \"Topic48\", \"Topic48\", \"Topic48\", \"Topic48\", \"Topic48\", \"Topic48\", \"Topic48\", \"Topic48\", \"Topic48\", \"Topic48\", \"Topic48\", \"Topic48\", \"Topic48\", \"Topic48\", \"Topic48\", \"Topic48\", \"Topic48\", \"Topic48\", \"Topic48\", \"Topic48\", \"Topic48\", \"Topic48\", \"Topic48\", \"Topic48\", \"Topic48\", \"Topic49\", \"Topic49\", \"Topic49\", \"Topic49\", \"Topic49\", \"Topic49\", \"Topic49\", \"Topic49\", \"Topic49\", \"Topic49\", \"Topic49\", \"Topic49\", \"Topic49\", \"Topic49\", \"Topic49\", \"Topic49\", \"Topic49\", \"Topic49\", \"Topic49\", \"Topic49\", \"Topic49\", \"Topic49\", \"Topic49\", \"Topic49\", \"Topic49\", \"Topic49\", \"Topic49\", \"Topic49\", \"Topic49\", \"Topic49\", \"Topic49\", \"Topic49\", \"Topic49\", \"Topic49\", \"Topic49\", \"Topic50\", \"Topic50\", \"Topic50\", \"Topic50\", \"Topic50\", \"Topic50\", \"Topic50\", \"Topic50\", \"Topic50\", \"Topic50\", \"Topic50\", \"Topic50\", \"Topic50\", \"Topic50\", \"Topic50\", \"Topic50\", \"Topic50\", \"Topic50\", \"Topic50\", \"Topic50\", \"Topic50\", \"Topic50\", \"Topic50\", \"Topic50\", \"Topic50\", \"Topic50\", \"Topic50\", \"Topic50\", \"Topic50\", \"Topic50\", \"Topic51\", \"Topic51\", \"Topic51\", \"Topic51\", \"Topic51\", \"Topic51\", \"Topic51\", \"Topic51\", \"Topic51\", \"Topic51\", \"Topic51\", \"Topic51\", \"Topic51\", \"Topic51\", \"Topic51\", \"Topic51\", \"Topic51\", \"Topic51\", \"Topic51\", \"Topic51\", \"Topic51\", \"Topic51\", \"Topic51\", \"Topic51\", \"Topic51\", \"Topic51\", \"Topic51\", \"Topic51\", \"Topic51\", \"Topic51\", \"Topic51\", \"Topic51\", \"Topic51\", \"Topic51\", \"Topic52\", \"Topic52\", \"Topic52\", \"Topic52\", \"Topic52\", \"Topic52\", \"Topic52\", \"Topic52\", \"Topic52\", \"Topic52\", \"Topic52\", \"Topic52\", \"Topic52\", \"Topic52\", \"Topic52\", \"Topic52\", \"Topic52\", \"Topic52\", \"Topic52\", \"Topic52\", \"Topic52\", \"Topic52\", \"Topic52\", \"Topic52\", \"Topic52\", \"Topic52\", \"Topic52\", \"Topic52\", \"Topic52\", \"Topic52\", \"Topic52\", \"Topic52\", \"Topic52\", \"Topic52\", \"Topic52\", \"Topic53\", \"Topic53\", \"Topic53\", \"Topic53\", \"Topic53\", \"Topic53\", \"Topic53\", \"Topic53\", \"Topic53\", \"Topic53\", \"Topic53\", \"Topic53\", \"Topic53\", \"Topic53\", \"Topic53\", \"Topic53\", \"Topic53\", \"Topic53\", \"Topic53\", \"Topic53\", \"Topic53\", \"Topic53\", \"Topic53\", \"Topic53\", \"Topic53\", \"Topic53\", \"Topic53\", \"Topic53\", \"Topic53\", \"Topic53\", \"Topic53\", \"Topic54\", \"Topic54\", \"Topic54\", \"Topic54\", \"Topic54\", \"Topic54\", \"Topic54\", \"Topic54\", \"Topic54\", \"Topic54\", \"Topic54\", \"Topic54\", \"Topic54\", \"Topic54\", \"Topic54\", \"Topic54\", \"Topic54\", \"Topic54\", \"Topic54\", \"Topic54\", \"Topic54\", \"Topic54\", \"Topic54\", \"Topic54\", \"Topic54\", \"Topic54\", \"Topic54\", \"Topic54\", \"Topic54\", \"Topic54\", \"Topic54\", \"Topic54\", \"Topic54\", \"Topic55\", \"Topic55\", \"Topic55\", \"Topic55\", \"Topic55\", \"Topic55\", \"Topic55\", \"Topic55\", \"Topic55\", \"Topic55\", \"Topic55\", \"Topic55\", \"Topic55\", \"Topic55\", \"Topic55\", \"Topic55\", \"Topic55\", \"Topic55\", \"Topic55\", \"Topic55\", \"Topic55\", \"Topic55\", \"Topic55\", \"Topic55\", \"Topic55\", \"Topic55\", \"Topic55\", \"Topic55\", \"Topic55\", \"Topic55\", \"Topic55\", \"Topic56\", \"Topic56\", \"Topic56\", \"Topic56\", \"Topic56\", \"Topic56\", \"Topic56\", \"Topic56\", \"Topic56\", \"Topic56\", \"Topic56\", \"Topic56\", \"Topic56\", \"Topic56\", \"Topic56\", \"Topic56\", \"Topic56\", \"Topic56\", \"Topic56\", \"Topic56\", \"Topic56\", \"Topic56\", \"Topic56\", \"Topic56\", \"Topic56\", \"Topic56\", \"Topic56\", \"Topic56\", \"Topic56\", \"Topic56\", \"Topic56\", \"Topic56\", \"Topic56\", \"Topic56\", \"Topic56\", \"Topic56\", \"Topic56\", \"Topic57\", \"Topic57\", \"Topic57\", \"Topic57\", \"Topic57\", \"Topic57\", \"Topic57\", \"Topic57\", \"Topic57\", \"Topic57\", \"Topic57\", \"Topic57\", \"Topic57\", \"Topic57\", \"Topic57\", \"Topic57\", \"Topic57\", \"Topic57\", \"Topic57\", \"Topic57\", \"Topic57\", \"Topic57\", \"Topic57\", \"Topic57\", \"Topic57\", \"Topic57\", \"Topic57\", \"Topic57\", \"Topic57\", \"Topic57\", \"Topic57\", \"Topic57\", \"Topic58\", \"Topic58\", \"Topic58\", \"Topic58\", \"Topic58\", \"Topic58\", \"Topic58\", \"Topic58\", \"Topic58\", \"Topic58\", \"Topic58\", \"Topic58\", \"Topic58\", \"Topic58\", \"Topic58\", \"Topic58\", \"Topic58\", \"Topic58\", \"Topic58\", \"Topic58\", \"Topic58\", \"Topic58\", \"Topic58\", \"Topic58\", \"Topic58\", \"Topic58\", \"Topic58\", \"Topic58\", \"Topic58\", \"Topic58\", \"Topic58\", \"Topic58\", \"Topic59\", \"Topic59\", \"Topic59\", \"Topic59\", \"Topic59\", \"Topic59\", \"Topic59\", \"Topic59\", \"Topic59\", \"Topic59\", \"Topic59\", \"Topic59\", \"Topic59\", \"Topic59\", \"Topic59\", \"Topic59\", \"Topic59\", \"Topic59\", \"Topic59\", \"Topic59\", \"Topic59\", \"Topic59\", \"Topic59\", \"Topic59\", \"Topic59\", \"Topic59\", \"Topic59\", \"Topic59\", \"Topic59\", \"Topic59\", \"Topic59\", \"Topic59\", \"Topic60\", \"Topic60\", \"Topic60\", \"Topic60\", \"Topic60\", \"Topic60\", \"Topic60\", \"Topic60\", \"Topic60\", \"Topic60\", \"Topic60\", \"Topic60\", \"Topic60\", \"Topic60\", \"Topic60\", \"Topic60\", \"Topic60\", \"Topic60\", \"Topic60\", \"Topic60\", \"Topic60\", \"Topic60\", \"Topic60\", \"Topic60\", \"Topic60\", \"Topic60\", \"Topic60\", \"Topic60\", \"Topic60\", \"Topic60\", \"Topic60\", \"Topic60\", \"Topic60\", \"Topic60\", \"Topic61\", \"Topic61\", \"Topic61\", \"Topic61\", \"Topic61\", \"Topic61\", \"Topic61\", \"Topic61\", \"Topic61\", \"Topic61\", \"Topic61\", \"Topic61\", \"Topic61\", \"Topic61\", \"Topic61\", \"Topic61\", \"Topic61\", \"Topic61\", \"Topic61\", \"Topic61\", \"Topic61\", \"Topic61\", \"Topic61\", \"Topic61\", \"Topic61\", \"Topic61\", \"Topic61\", \"Topic61\", \"Topic61\", \"Topic61\", \"Topic61\", \"Topic62\", \"Topic62\", \"Topic62\", \"Topic62\", \"Topic62\", \"Topic62\", \"Topic62\", \"Topic62\", \"Topic62\", \"Topic62\", \"Topic62\", \"Topic62\", \"Topic62\", \"Topic62\", \"Topic62\", \"Topic62\", \"Topic62\", \"Topic62\", \"Topic62\", \"Topic62\", \"Topic62\", \"Topic62\", \"Topic62\", \"Topic62\", \"Topic62\", \"Topic62\", \"Topic62\", \"Topic62\", \"Topic62\", \"Topic62\", \"Topic63\", \"Topic63\", \"Topic63\", \"Topic63\", \"Topic63\", \"Topic63\", \"Topic63\", \"Topic63\", \"Topic63\", \"Topic63\", \"Topic63\", \"Topic63\", \"Topic63\", \"Topic63\", \"Topic63\", \"Topic63\", \"Topic63\", \"Topic63\", \"Topic63\", \"Topic63\", \"Topic63\", \"Topic63\", \"Topic63\", \"Topic63\", \"Topic63\", \"Topic63\", \"Topic63\", \"Topic63\", \"Topic63\", \"Topic63\", \"Topic63\", \"Topic63\", \"Topic64\", \"Topic64\", \"Topic64\", \"Topic64\", \"Topic64\", \"Topic64\", \"Topic64\", \"Topic64\", \"Topic64\", \"Topic64\", \"Topic64\", \"Topic64\", \"Topic64\", \"Topic64\", \"Topic64\", \"Topic64\", \"Topic64\", \"Topic64\", \"Topic64\", \"Topic64\", \"Topic64\", \"Topic64\", \"Topic64\", \"Topic64\", \"Topic64\", \"Topic64\", \"Topic64\", \"Topic64\", \"Topic64\", \"Topic64\", \"Topic64\", \"Topic64\", \"Topic64\", \"Topic64\", \"Topic64\", \"Topic64\", \"Topic65\", \"Topic65\", \"Topic65\", \"Topic65\", \"Topic65\", \"Topic65\", \"Topic65\", \"Topic65\", \"Topic65\", \"Topic65\", \"Topic65\", \"Topic65\", \"Topic65\", \"Topic65\", \"Topic65\", \"Topic65\", \"Topic65\", \"Topic65\", \"Topic65\", \"Topic65\", \"Topic65\", \"Topic65\", \"Topic65\", \"Topic65\", \"Topic65\", \"Topic65\", \"Topic65\", \"Topic65\", \"Topic65\", \"Topic65\", \"Topic65\", \"Topic65\", \"Topic65\", \"Topic66\", \"Topic66\", \"Topic66\", \"Topic66\", \"Topic66\", \"Topic66\", \"Topic66\", \"Topic66\", \"Topic66\", \"Topic66\", \"Topic66\", \"Topic66\", \"Topic66\", \"Topic66\", \"Topic66\", \"Topic66\", \"Topic66\", \"Topic66\", \"Topic66\", \"Topic66\", \"Topic66\", \"Topic66\", \"Topic66\", \"Topic66\", \"Topic66\", \"Topic66\", \"Topic66\", \"Topic66\", \"Topic66\", \"Topic66\", \"Topic66\", \"Topic66\", \"Topic66\", \"Topic66\", \"Topic66\", \"Topic66\", \"Topic67\", \"Topic67\", \"Topic67\", \"Topic67\", \"Topic67\", \"Topic67\", \"Topic67\", \"Topic67\", \"Topic67\", \"Topic67\", \"Topic67\", \"Topic67\", \"Topic67\", \"Topic67\", \"Topic67\", \"Topic67\", \"Topic67\", \"Topic67\", \"Topic67\", \"Topic67\", \"Topic67\", \"Topic67\", \"Topic67\", \"Topic67\", \"Topic67\", \"Topic67\", \"Topic67\", \"Topic67\", \"Topic67\", \"Topic67\", \"Topic67\", \"Topic67\", \"Topic67\", \"Topic67\", \"Topic67\", \"Topic67\", \"Topic68\", \"Topic68\", \"Topic68\", \"Topic68\", \"Topic68\", \"Topic68\", \"Topic68\", \"Topic68\", \"Topic68\", \"Topic68\", \"Topic68\", \"Topic68\", \"Topic68\", \"Topic68\", \"Topic68\", \"Topic68\", \"Topic68\", \"Topic68\", \"Topic68\", \"Topic68\", \"Topic68\", \"Topic68\", \"Topic68\", \"Topic68\", \"Topic68\", \"Topic68\", \"Topic68\", \"Topic68\", \"Topic68\", \"Topic68\", \"Topic68\", \"Topic68\", \"Topic68\", \"Topic68\", \"Topic68\", \"Topic69\", \"Topic69\", \"Topic69\", \"Topic69\", \"Topic69\", \"Topic69\", \"Topic69\", \"Topic69\", \"Topic69\", \"Topic69\", \"Topic69\", \"Topic69\", \"Topic69\", \"Topic69\", \"Topic69\", \"Topic69\", \"Topic69\", \"Topic69\", \"Topic69\", \"Topic69\", \"Topic69\", \"Topic69\", \"Topic69\", \"Topic69\", \"Topic69\", \"Topic69\", \"Topic69\", \"Topic69\", \"Topic69\", \"Topic69\", \"Topic69\", \"Topic69\", \"Topic69\", \"Topic69\", \"Topic69\", \"Topic69\", \"Topic69\", \"Topic69\", \"Topic69\", \"Topic69\", \"Topic70\", \"Topic70\", \"Topic70\", \"Topic70\", \"Topic70\", \"Topic70\", \"Topic70\", \"Topic70\", \"Topic70\", \"Topic70\", \"Topic70\", \"Topic70\", \"Topic70\", \"Topic70\", \"Topic70\", \"Topic70\", \"Topic70\", \"Topic70\", \"Topic70\", \"Topic70\", \"Topic70\", \"Topic70\", \"Topic70\", \"Topic70\", \"Topic70\", \"Topic70\", \"Topic70\", \"Topic70\", \"Topic70\", \"Topic70\", \"Topic70\", \"Topic70\", \"Topic70\", \"Topic70\", \"Topic70\", \"Topic70\", \"Topic70\", \"Topic71\", \"Topic71\", \"Topic71\", \"Topic71\", \"Topic71\", \"Topic71\", \"Topic71\", \"Topic71\", \"Topic71\", \"Topic71\", \"Topic71\", \"Topic71\", \"Topic71\", \"Topic71\", \"Topic71\", \"Topic71\", \"Topic71\", \"Topic71\", \"Topic71\", \"Topic71\", \"Topic71\", \"Topic71\", \"Topic71\", \"Topic71\", \"Topic71\", \"Topic71\", \"Topic71\", \"Topic71\", \"Topic71\", \"Topic71\", \"Topic71\", \"Topic71\", \"Topic71\", \"Topic71\", \"Topic71\", \"Topic71\", \"Topic71\", \"Topic71\", \"Topic71\", \"Topic72\", \"Topic72\", \"Topic72\", \"Topic72\", \"Topic72\", \"Topic72\", \"Topic72\", \"Topic72\", \"Topic72\", \"Topic72\", \"Topic72\", \"Topic72\", \"Topic72\", \"Topic72\", \"Topic72\", \"Topic72\", \"Topic72\", \"Topic72\", \"Topic72\", \"Topic72\", \"Topic72\", \"Topic72\", \"Topic72\", \"Topic72\", \"Topic72\", \"Topic72\", \"Topic72\", \"Topic72\", \"Topic72\", \"Topic72\", \"Topic72\", \"Topic72\", \"Topic72\", \"Topic72\", \"Topic72\", \"Topic72\", \"Topic72\", \"Topic73\", \"Topic73\", \"Topic73\", \"Topic73\", \"Topic73\", \"Topic73\", \"Topic73\", \"Topic73\", \"Topic73\", \"Topic73\", \"Topic73\", \"Topic73\", \"Topic73\", \"Topic73\", \"Topic73\", \"Topic73\", \"Topic73\", \"Topic73\", \"Topic73\", \"Topic73\", \"Topic73\", \"Topic73\", \"Topic73\", \"Topic73\", \"Topic73\", \"Topic73\", \"Topic73\", \"Topic73\", \"Topic73\", \"Topic73\", \"Topic73\", \"Topic73\", \"Topic73\", \"Topic73\", \"Topic73\", \"Topic73\", \"Topic73\", \"Topic73\", \"Topic74\", \"Topic74\", \"Topic74\", \"Topic74\", \"Topic74\", \"Topic74\", \"Topic74\", \"Topic74\", \"Topic74\", \"Topic74\", \"Topic74\", \"Topic74\", \"Topic74\", \"Topic74\", \"Topic74\", \"Topic74\", \"Topic74\", \"Topic74\", \"Topic74\", \"Topic74\", \"Topic74\", \"Topic74\", \"Topic74\", \"Topic74\", \"Topic74\", \"Topic74\", \"Topic74\", \"Topic74\", \"Topic74\", \"Topic74\", \"Topic74\", \"Topic74\", \"Topic74\", \"Topic74\", \"Topic74\", \"Topic74\", \"Topic74\", \"Topic75\", \"Topic75\", \"Topic75\", \"Topic75\", \"Topic75\", \"Topic75\", \"Topic75\", \"Topic75\", \"Topic75\", \"Topic75\", \"Topic75\", \"Topic75\", \"Topic75\", \"Topic75\", \"Topic75\", \"Topic75\", \"Topic75\", \"Topic75\", \"Topic75\", \"Topic75\", \"Topic75\", \"Topic75\", \"Topic75\", \"Topic75\", \"Topic75\", \"Topic75\", \"Topic75\", \"Topic75\", \"Topic75\", \"Topic75\", \"Topic75\", \"Topic75\", \"Topic75\", \"Topic75\", \"Topic75\", \"Topic75\", \"Topic75\", \"Topic75\", \"Topic76\", \"Topic76\", \"Topic76\", \"Topic76\", \"Topic76\", \"Topic76\", \"Topic76\", \"Topic76\", \"Topic76\", \"Topic76\", \"Topic76\", \"Topic76\", \"Topic76\", \"Topic76\", \"Topic76\", \"Topic76\", \"Topic76\", \"Topic76\", \"Topic76\", \"Topic76\", \"Topic76\", \"Topic76\", \"Topic76\", \"Topic76\", \"Topic76\", \"Topic76\", \"Topic76\", \"Topic76\", \"Topic76\", \"Topic76\", \"Topic76\", \"Topic76\", \"Topic76\", \"Topic76\", \"Topic76\", \"Topic76\", \"Topic76\", \"Topic76\", \"Topic76\", \"Topic76\", \"Topic76\", \"Topic77\", \"Topic77\", \"Topic77\", \"Topic77\", \"Topic77\", \"Topic77\", \"Topic77\", \"Topic77\", \"Topic77\", \"Topic77\", \"Topic77\", \"Topic77\", \"Topic77\", \"Topic77\", \"Topic77\", \"Topic77\", \"Topic77\", \"Topic77\", \"Topic77\", \"Topic77\", \"Topic77\", \"Topic77\", \"Topic77\", \"Topic77\", \"Topic77\", \"Topic77\", \"Topic77\", \"Topic77\", \"Topic77\", \"Topic77\", \"Topic77\", \"Topic77\", \"Topic77\", \"Topic77\", \"Topic77\", \"Topic78\", \"Topic78\", \"Topic78\", \"Topic78\", \"Topic78\", \"Topic78\", \"Topic78\", \"Topic78\", \"Topic78\", \"Topic78\", \"Topic78\", \"Topic78\", \"Topic78\", \"Topic78\", \"Topic78\", \"Topic78\", \"Topic78\", \"Topic78\", \"Topic78\", \"Topic78\", \"Topic78\", \"Topic78\", \"Topic78\", \"Topic78\", \"Topic78\", \"Topic78\", \"Topic78\", \"Topic78\", \"Topic78\", \"Topic78\", \"Topic78\", \"Topic78\", \"Topic78\", \"Topic78\", \"Topic78\", \"Topic78\", \"Topic78\", \"Topic79\", \"Topic79\", \"Topic79\", \"Topic79\", \"Topic79\", \"Topic79\", \"Topic79\", \"Topic79\", \"Topic79\", \"Topic79\", \"Topic79\", \"Topic79\", \"Topic79\", \"Topic79\", \"Topic79\", \"Topic79\", \"Topic79\", \"Topic79\", \"Topic79\", \"Topic79\", \"Topic79\", \"Topic79\", \"Topic79\", \"Topic79\", \"Topic79\", \"Topic79\", \"Topic79\", \"Topic79\", \"Topic79\", \"Topic79\", \"Topic79\", \"Topic79\", \"Topic79\", \"Topic79\", \"Topic79\", \"Topic79\", \"Topic79\", \"Topic79\", \"Topic80\", \"Topic80\", \"Topic80\", \"Topic80\", \"Topic80\", \"Topic80\", \"Topic80\", \"Topic80\", \"Topic80\", \"Topic80\", \"Topic80\", \"Topic80\", \"Topic80\", \"Topic80\", \"Topic80\", \"Topic80\", \"Topic80\", \"Topic80\", \"Topic80\", \"Topic80\", \"Topic80\", \"Topic80\", \"Topic80\", \"Topic80\", \"Topic80\", \"Topic80\", \"Topic80\", \"Topic80\", \"Topic80\", \"Topic80\", \"Topic80\", \"Topic80\", \"Topic80\", \"Topic80\", \"Topic80\", \"Topic80\"], \"logprob\": [30.0, 29.0, 28.0, 27.0, 26.0, 25.0, 24.0, 23.0, 22.0, 21.0, 20.0, 19.0, 18.0, 17.0, 16.0, 15.0, 14.0, 13.0, 12.0, 11.0, 10.0, 9.0, 8.0, 7.0, 6.0, 5.0, 4.0, 3.0, 2.0, 1.0, -1.3036, -2.6836, -2.9086, -3.8161, -3.9609, -3.7536, -3.7801, -4.4919, -4.2699, -4.6916, -4.708, -4.554, -4.0947, -4.4512, -4.2581, -4.2043, -4.5812, -4.8807, -4.52, -4.3013, -4.6417, -3.9033, -4.8117, -5.0319, -4.2401, -4.8293, -4.8741, -4.2153, -4.4499, -5.1372, -4.5042, -4.2644, -4.5591, -4.7262, -4.7191, -4.7375, -4.6702, -1.2553, -3.1387, -3.4089, -4.207, -3.8145, -3.8928, -4.1375, -4.2661, -4.3048, -4.3315, -4.2892, -4.5163, -3.9121, -4.147, -3.7205, -4.677, -4.1107, -4.2464, -4.9193, -4.2542, -4.0555, -4.7238, -4.2531, -4.609, -4.3212, -5.0558, -4.5166, -4.0026, -4.0882, -4.3884, -4.5822, -4.4198, -4.2007, -4.6165, -1.3873, -2.2918, -2.5821, -3.0061, -3.4054, -3.5019, -4.3653, -4.4405, -4.0886, -3.9092, -4.2007, -4.7614, -4.9057, -4.9236, -4.9482, -4.6804, -5.0971, -4.8745, -4.7532, -5.1309, -4.3559, -4.9095, -4.7822, -5.407, -4.8426, -4.9877, -4.4735, -4.5725, -4.7587, -4.1795, -4.6065, -4.544, -4.7593, -4.6627, -4.5734, -4.5981, -4.6919, -4.8554, -4.8385, -1.1103, -4.0582, -4.0038, -3.8273, -4.563, -4.6056, -4.2726, -4.4438, -4.398, -3.8479, -4.6755, -4.5347, -4.32, -4.6118, -4.1965, -4.2159, -4.1483, -4.0401, -4.2396, -3.7891, -4.0838, -4.2193, -4.595, -4.6191, -4.9803, -4.0662, -5.2727, -4.5689, -4.4017, -4.6991, -4.4062, -4.1153, -4.5921, -4.4281, -4.4072, -4.4828, -4.5466, -4.4576, -1.0009, -3.8971, -4.1875, -3.7384, -3.8727, -3.8135, -4.3581, -3.6537, -4.1013, -3.9185, -4.1482, -3.9916, -4.6457, -4.619, -4.1763, -4.9553, -4.2745, -4.689, -4.7654, -3.9474, -3.818, -4.9921, -4.3268, -4.4766, -4.635, -4.9807, -4.6849, -4.6205, -4.4029, -5.0261, -4.4847, -4.6386, -4.7264, -4.6258, -4.4726, -4.6981, -1.0785, -2.8515, -4.3594, -4.4567, -4.3836, -3.9072, -3.8913, -4.4121, -4.2858, -4.7748, -3.4209, -4.3062, -4.5294, -4.4456, -4.7049, -4.1601, -4.3214, -4.51, -4.2783, -4.5965, -4.7571, -4.5608, -3.9689, -4.8636, -4.8831, -4.1958, -3.9286, -4.3104, -4.8628, -5.0127, -4.0568, -4.7229, -4.4526, -4.5091, -4.5398, -4.7405, -0.9854, -4.3392, -3.5846, -4.51, -4.0767, -3.9592, -3.8033, -3.7215, -3.8054, -3.648, -4.691, -4.121, -3.65, -4.0851, -4.7043, -4.1043, -4.1872, -4.4861, -4.6438, -4.6808, -4.5233, -3.8724, -5.0474, -4.6589, -4.7297, -4.2476, -4.8084, -4.6884, -5.1, -5.1967, -4.9804, -4.7978, -4.4811, -4.4157, -4.0922, -4.5562, -1.3186, -3.545, -4.0358, -3.9167, -4.2898, -4.1646, -4.2671, -4.6139, -4.5521, -4.6751, -4.5843, -4.0655, -3.7962, -4.8064, -4.4945, -4.3996, -4.6201, -4.8179, -4.6963, -5.1604, -4.4623, -4.1938, -4.4391, -4.546, -4.7584, -4.2605, -3.9315, -4.6206, -4.3823, -4.7264, -3.9572, -3.9237, -4.2205, -4.3253, -4.4862, -4.4751, -4.4747, -4.4706, -4.6113, -1.0428, -3.6866, -3.3191, -4.1962, -3.8001, -4.3438, -4.5769, -3.9285, -3.5885, -4.4219, -4.5338, -3.9164, -4.213, -3.9815, -4.3699, -4.1593, -4.6316, -4.1984, -4.7005, -4.5406, -4.9202, -4.6563, -4.1795, -4.9136, -4.4558, -4.8598, -4.7709, -4.7177, -4.1565, -4.4233, -4.2659, -4.1515, -4.3145, -4.478, -4.4329, -4.6841, -1.1289, -1.4655, -4.0681, -3.7141, -3.4512, -4.1272, -3.9321, -3.4836, -3.9862, -4.4682, -4.2069, -4.013, -4.5409, -3.7027, -4.6066, -5.0594, -4.8195, -4.1561, -4.6693, -4.2987, -4.1045, -4.9376, -5.0949, -4.6223, -5.025, -5.3253, -5.4106, -5.0685, -4.869, -5.6144, -5.287, -5.1109, -5.0627, -5.2383, -1.3583, -3.2181, -3.3121, -3.7992, -4.4946, -4.0784, -4.0489, -4.4154, -4.2284, -4.4995, -4.4551, -4.1474, -4.4204, -4.6716, -4.0653, -4.5633, -4.397, -4.734, -4.0795, -4.8363, -4.3294, -4.2762, -4.3192, -4.6296, -4.5704, -4.5804, -4.4079, -4.323, -4.373, -4.771, -4.1344, -4.0914, -4.2694, -4.2972, -4.2495, -1.1883, -3.4041, -3.3768, -3.2325, -3.6991, -3.9917, -4.2963, -4.5046, -4.6074, -3.8907, -4.449, -3.8264, -4.3654, -4.7984, -4.6958, -4.0929, -4.132, -4.2411, -4.9241, -4.8807, -4.6909, -3.9311, -4.2562, -5.0693, -4.3654, -4.8851, -4.7356, -4.2231, -4.0874, -4.913, -4.5133, -4.416, -4.4892, -4.4521, -4.4632, -4.5599, -4.337, -4.6525, -1.3743, -2.7204, -3.3889, -3.5406, -3.7231, -4.429, -4.1983, -4.2452, -4.1472, -4.2493, -4.4137, -4.6697, -4.6769, -4.2806, -4.5149, -4.6582, -4.4032, -4.7648, -3.8135, -4.8691, -4.8081, -4.6005, -4.3105, -4.3694, -4.4188, -4.5787, -4.3423, -4.5933, -4.0347, -4.2113, -4.3981, -4.2728, -4.4992, -4.4688, -4.3575, -4.4436, -0.957, -2.912, -2.952, -3.2594, -3.9037, -4.2547, -3.8879, -4.6971, -4.5773, -3.8841, -4.3258, -4.0193, -4.7199, -5.1799, -4.5996, -4.5795, -4.2574, -4.2976, -4.243, -4.2936, -4.9452, -4.0409, -4.7565, -3.9319, -4.4665, -4.4027, -4.0723, -5.1995, -4.5228, -4.5424, -4.8591, -4.8393, -4.8046, -4.8468, -1.1328, -3.8521, -3.8592, -3.7202, -4.1927, -3.7782, -4.2195, -3.3393, -4.4972, -4.1965, -4.0298, -3.853, -4.4979, -4.2489, -4.4487, -5.1607, -4.2495, -4.595, -4.3374, -4.8033, -4.7847, -4.7032, -5.0528, -5.0549, -4.312, -4.3029, -4.4325, -4.6448, -4.8275, -4.1036, -4.0333, -4.4375, -4.7976, -4.5096, -4.7494, -4.6438, -4.763, -1.1196, -3.6005, -2.8144, -4.1602, -4.511, -4.3435, -4.22, -4.6037, -4.3256, -4.0109, -4.219, -4.0856, -4.5519, -3.8087, -4.0927, -4.4713, -4.8951, -5.1272, -4.913, -4.1832, -3.9948, -4.4951, -4.5646, -4.7832, -4.3777, -3.904, -4.3787, -4.4834, -4.7387, -4.7056, -4.2766, -4.3362, -4.2249, -4.6649, -1.3711, -4.2883, -4.4412, -3.8326, -3.8226, -4.073, -4.5276, -3.6548, -4.6472, -4.42, -4.5985, -4.3932, -4.6804, -4.4204, -3.9151, -4.0409, -5.0553, -4.1962, -3.8319, -4.8582, -4.2207, -4.1536, -4.6949, -4.9103, -4.6291, -4.4788, -4.733, -4.3759, -3.6259, -4.4777, -3.9301, -4.35, -4.3279, -4.1126, -4.551, -4.5255, -4.5831, -4.627, -0.8896, -2.8929, -3.8141, -3.5687, -4.34, -4.5434, -3.7851, -4.4004, -4.2949, -4.3985, -4.2807, -3.9916, -4.1155, -4.2886, -4.0936, -4.6025, -4.6427, -4.0109, -4.5285, -4.3308, -4.9057, -4.7912, -3.946, -4.9412, -4.9778, -5.0938, -4.72, -4.4448, -4.6375, -4.8187, -4.3547, -4.2336, -4.6022, -4.4126, -4.4034, -1.1475, -2.699, -3.7104, -3.4497, -3.8329, -3.8298, -4.4101, -4.1596, -3.8098, -4.3197, -3.564, -4.2005, -4.0931, -4.349, -4.803, -4.6027, -4.628, -4.1719, -4.6118, -4.2681, -4.8915, -3.9678, -4.7765, -4.7384, -5.0258, -4.3329, -4.4135, -4.8838, -4.3577, -4.412, -4.0246, -4.1759, -4.5121, -4.5318, -4.7056, -4.7223, -1.3309, -3.2227, -3.4567, -3.8095, -3.3648, -3.9361, -3.7406, -4.1891, -3.7521, -4.477, -4.2487, -3.8783, -3.8992, -4.644, -4.1414, -4.5159, -4.1518, -4.2267, -4.3077, -4.2415, -3.8291, -4.924, -4.3272, -4.5212, -5.0812, -4.6613, -4.1825, -5.1248, -4.6697, -4.7485, -4.5292, -4.1648, -4.3394, -4.6058, -0.7336, -3.7245, -3.853, -3.2477, -3.5168, -3.9508, -3.5155, -4.3234, -4.2343, -4.0291, -4.398, -4.5873, -4.7228, -4.2172, -3.9069, -4.5517, -4.4157, -5.0029, -4.5676, -5.2385, -4.4552, -4.5104, -4.4319, -5.0679, -4.6386, -4.4442, -5.2891, -5.4129, -5.0556, -4.9104, -4.7651, -4.5884, -4.7506, -4.8016, -1.1141, -2.5142, -3.9375, -4.647, -3.8016, -4.4689, -4.2066, -4.0787, -4.4162, -4.4309, -4.5936, -4.4688, -4.7286, -3.968, -4.1461, -4.1838, -4.1363, -3.8025, -4.4103, -4.708, -4.2652, -4.2153, -3.7978, -4.8575, -4.3213, -4.7899, -4.2195, -4.6002, -4.611, -4.5252, -4.0172, -4.4158, -4.2732, -4.2663, -4.0324, -4.5633, -0.8622, -3.3786, -3.9047, -3.0351, -2.8499, -3.9263, -3.971, -3.9732, -4.4601, -4.2831, -3.7971, -4.4168, -4.2229, -5.0736, -4.733, -4.614, -4.3427, -4.8573, -5.0381, -4.5728, -4.7518, -4.4205, -4.8626, -4.9936, -4.3462, -4.9602, -4.5221, -4.741, -4.769, -4.4276, -4.6085, -4.5509, -4.6489, -4.9034, -1.1601, -3.5669, -3.5006, -4.0984, -3.8662, -3.7062, -4.6438, -4.0214, -4.4907, -4.3457, -4.4957, -4.7228, -4.0036, -4.08, -3.7422, -4.6747, -4.5181, -4.6053, -4.6259, -4.419, -4.4399, -4.1046, -4.0496, -4.8054, -4.8223, -4.9362, -4.5404, -3.9236, -4.4219, -5.0393, -4.7053, -4.0516, -3.8351, -4.531, -4.6096, -4.647, -0.7359, -3.4614, -4.2158, -3.9176, -3.5577, -3.716, -4.062, -3.8584, -4.403, -3.8728, -4.0932, -4.4653, -4.8693, -4.8144, -4.3525, -4.3752, -4.0254, -4.3219, -4.8993, -4.8491, -4.4324, -4.6964, -4.3473, -4.9873, -5.1583, -4.1057, -4.9496, -5.157, -5.0168, -5.1057, -4.7372, -4.7117, -4.9792, -4.9384, -1.0741, -3.7896, -3.6034, -3.8459, -4.2179, -4.4518, -4.0506, -4.3046, -4.3108, -3.5663, -3.5437, -4.6509, -4.9537, -4.1214, -4.7859, -3.4204, -4.8008, -4.1787, -4.4801, -4.3911, -4.7424, -4.7767, -4.7524, -4.595, -4.2853, -4.4876, -4.3859, -4.9848, -5.0913, -4.743, -4.4136, -4.3531, -4.1853, -4.2757, -4.5839, -4.5751, -4.7234, -1.0585, -3.5676, -3.612, -4.2942, -3.3627, -4.3683, -3.7436, -3.5948, -4.2508, -3.8864, -4.5656, -4.2686, -3.3958, -4.6514, -4.0248, -3.7989, -4.4304, -4.2431, -4.3185, -4.1261, -4.4302, -5.1061, -4.2563, -4.479, -4.8827, -4.3585, -4.8652, -5.0017, -4.7816, -4.746, -4.5283, -4.3864, -4.1814, -4.3234, -4.707, -4.6461, -1.0178, -2.8429, -3.6881, -3.6124, -4.3405, -4.4539, -3.9945, -4.4028, -3.6415, -4.0157, -4.6816, -4.4428, -4.1843, -4.1955, -4.6499, -3.8892, -4.0474, -4.9651, -3.8527, -5.0154, -4.9846, -5.07, -4.4072, -5.2268, -4.3705, -5.0886, -4.4831, -5.1574, -4.6549, -4.5379, -4.5164, -4.4692, -4.9005, -4.6378, -4.6817, -4.8753, -4.89, -0.3256, -3.8607, -3.4588, -3.9339, -4.4242, -3.9493, -4.5372, -4.2608, -4.4072, -4.3952, -4.4339, -4.8003, -4.4438, -4.6599, -4.3801, -4.5202, -4.5713, -5.6489, -5.4472, -5.569, -5.2, -5.9383, -5.5319, -5.7768, -6.4705, -6.1966, -6.1146, -5.8535, -6.7057, -6.5612, -6.4254, -1.6565, -1.463, -3.2238, -3.8497, -3.6511, -3.4397, -4.5729, -3.9159, -3.6589, -4.0632, -4.1651, -4.5847, -4.8739, -4.8377, -4.5125, -3.5549, -4.7708, -4.2379, -4.7815, -4.4502, -4.3545, -5.0039, -4.3404, -4.3682, -4.8483, -5.0286, -4.5003, -4.7582, -4.6798, -4.7758, -4.1479, -4.6352, -1.0158, -3.7737, -4.3473, -3.678, -4.4132, -3.7491, -3.9064, -4.4415, -4.7157, -3.7869, -4.4165, -4.1344, -4.1091, -4.0676, -4.1318, -3.7234, -3.859, -4.4572, -4.3085, -4.4296, -4.3024, -4.3649, -4.8105, -4.7447, -4.6674, -4.4701, -4.5207, -4.7531, -4.8007, -4.7523, -4.6057, -4.5161, -1.0721, -2.7512, -3.1827, -3.33, -4.0812, -3.2214, -4.4126, -3.6852, -3.8371, -3.8539, -3.9572, -3.9916, -4.2927, -3.5886, -4.7201, -4.682, -4.3209, -4.748, -4.7317, -4.6546, -4.1962, -4.5743, -4.7614, -4.4464, -4.3123, -4.0474, -4.0757, -4.8946, -5.0336, -5.5304, -4.5487, -4.5017, -4.568, -4.7225, -1.1137, -3.1677, -3.3269, -3.0718, -4.1033, -3.3381, -4.0743, -3.3121, -4.4864, -4.8011, -4.4532, -4.2857, -5.0859, -4.5055, -4.9258, -4.2989, -3.9452, -3.9019, -4.7099, -4.9213, -4.2973, -4.967, -4.375, -4.8854, -4.4394, -4.3552, -4.4612, -4.4321, -4.2851, -4.9588, -4.8013, -4.0689, -4.5059, -4.3817, -4.7555, -4.6594, -0.8716, -3.0377, -3.2894, -4.0533, -4.2308, -4.3912, -4.0556, -4.0807, -4.0005, -4.0192, -3.9978, -4.5841, -4.4029, -4.5408, -4.5946, -4.6141, -4.7742, -4.5051, -4.0314, -4.8263, -4.9387, -3.9209, -4.3276, -4.6848, -4.4502, -5.1562, -4.5646, -4.761, -4.7196, -5.4869, -4.61, -4.4804, -4.4007, -1.0528, -3.3278, -3.0579, -3.8001, -4.3929, -4.093, -4.5514, -4.0817, -4.6796, -3.7812, -4.0724, -4.6, -4.6847, -4.2301, -4.9189, -4.5395, -4.6019, -4.5625, -4.7414, -5.059, -4.2649, -4.342, -4.124, -4.6887, -4.572, -5.0866, -5.0997, -4.7667, -4.4585, -4.0818, -4.321, -4.3772, -4.0502, -4.48, -4.5934, -4.5586, -4.6226, -1.1067, -2.8274, -3.9065, -3.8585, -3.4611, -3.5553, -3.5912, -3.9564, -3.993, -3.4079, -4.2778, -4.1361, -4.3115, -4.5695, -4.3485, -4.1389, -4.3666, -3.8617, -4.1844, -3.7376, -4.1658, -3.8891, -4.2979, -4.8299, -4.4257, -4.4121, -4.6072, -4.227, -5.2291, -5.1454, -4.3814, -4.6628, -4.7181, -4.6168, -0.8599, -4.06, -3.2892, -4.073, -3.6665, -3.9708, -3.6882, -4.4673, -3.798, -4.7096, -4.1691, -4.6955, -4.5247, -4.9153, -4.7631, -4.7775, -4.8872, -5.0262, -4.3995, -4.2802, -4.4027, -4.5522, -4.161, -4.5932, -4.8922, -5.1336, -4.9103, -5.2302, -4.3197, -5.2517, -4.5691, -4.4497, -4.4803, -4.6665, -4.7398, -4.5756, -4.8837, -1.3315, -2.0715, -2.4681, -3.2439, -3.8197, -4.0892, -3.9072, -3.5665, -4.1941, -4.0979, -3.8626, -4.1001, -3.8462, -4.151, -3.8246, -3.5597, -3.5113, -4.3253, -4.057, -3.7514, -4.6756, -4.9112, -4.3298, -4.9332, -4.8335, -4.3326, -4.5741, -4.5858, -4.3977, -5.2748, -5.191, -4.9215, -1.0592, -2.8006, -3.3445, -3.613, -4.1316, -3.4949, -3.8175, -4.3514, -4.3118, -4.1025, -3.9081, -4.6851, -4.4435, -4.0731, -3.614, -4.6453, -4.0217, -4.0773, -4.4636, -3.8605, -3.8256, -4.6471, -4.1702, -4.7753, -4.6464, -4.6447, -4.744, -5.0773, -4.2502, -5.0672, -3.8955, -4.3101, -4.5406, -4.6119, -0.5889, -2.7862, -3.0806, -3.1946, -4.2567, -3.9338, -4.0761, -3.9704, -4.6323, -3.8963, -4.7282, -3.8248, -4.8551, -4.6017, -4.4708, -4.7426, -4.9125, -4.8223, -4.2727, -4.5483, -5.2014, -4.8565, -4.9374, -4.7834, -5.4129, -5.7547, -5.1584, -5.6285, -5.7317, -6.1259, -5.3932, -5.4598, -5.5766, -0.6002, -2.5918, -4.0729, -3.8821, -3.5587, -4.9782, -4.1449, -3.7954, -4.8002, -4.5767, -4.0589, -4.3408, -5.0066, -4.4071, -4.9009, -4.7742, -4.7209, -4.688, -4.5294, -5.0991, -4.6375, -4.6375, -4.5381, -4.3644, -4.2799, -5.0103, -5.0254, -4.8528, -5.6651, -5.4626, -4.6266, -5.2155, -5.2004, -0.5879, -3.2128, -3.6573, -3.4777, -4.7709, -5.0087, -4.2639, -4.4221, -4.0512, -4.4003, -4.0042, -4.9631, -5.1773, -5.0892, -4.9373, -4.598, -4.3443, -4.4535, -4.4986, -4.8911, -4.0406, -4.9153, -5.4292, -5.4254, -5.3359, -4.9989, -5.0958, -5.4344, -4.8499, -4.9248, -4.703, -4.6403, -4.9329, -5.0165, -5.1197, -1.139, -3.8954, -3.8973, -3.901, -4.453, -4.3146, -4.2452, -3.8883, -4.1665, -4.1366, -4.4711, -4.4916, -3.7179, -4.407, -4.7098, -4.0016, -3.5171, -3.7264, -4.9074, -4.4109, -4.1471, -4.8851, -4.8528, -4.2587, -4.3481, -4.5184, -4.2858, -3.9945, -4.6003, -4.366, -4.2165, -4.3638, -4.3194, -4.4999, -4.5312, -1.0806, -3.7972, -3.9175, -3.6663, -3.7808, -3.8809, -3.6354, -3.2343, -3.8056, -3.6385, -3.7283, -3.76, -3.348, -4.2873, -4.5261, -3.9074, -4.3458, -3.9964, -3.6786, -3.9919, -4.0826, -4.5561, -3.9044, -4.6698, -3.9035, -4.7504, -4.7423, -4.4058, -3.9101, -5.3311, -4.7816, -1.3776, -2.4194, -3.1878, -3.234, -3.899, -3.8252, -3.563, -3.4201, -3.298, -3.8573, -4.4525, -3.8786, -4.4145, -4.4751, -4.0697, -4.9513, -3.9859, -4.8802, -3.8706, -4.477, -3.8514, -4.6991, -4.618, -4.6497, -4.9708, -4.8279, -4.4149, -4.5893, -5.1095, -4.4442, -4.5992, -4.3959, -4.7465, -4.5579, -4.7661, -1.144, -2.7934, -4.0479, -3.2887, -4.2999, -3.2589, -3.4585, -3.8396, -4.1863, -4.1867, -4.1563, -3.9649, -4.3399, -4.0315, -4.4928, -4.1746, -4.0028, -4.1815, -4.3517, -4.9023, -3.8351, -3.9344, -4.727, -4.1038, -3.6176, -4.9357, -4.7959, -5.1214, -4.9776, -4.5591, -4.6373, -4.4045, -4.635, -4.6698, -1.164, -3.1226, -3.3918, -4.5633, -3.4398, -4.556, -3.8601, -3.9279, -4.4518, -4.254, -3.6767, -4.3961, -4.4243, -4.0673, -4.1875, -3.8436, -4.2509, -4.4977, -4.8437, -4.5372, -4.5137, -4.9376, -5.0032, -4.8832, -4.5089, -4.8338, -4.9297, -4.8496, -4.0067, -4.7553, -4.4584, -4.8138, -4.2954, -4.6496, -4.677, -4.6819, -4.7589, -1.3481, -2.4314, -3.8473, -4.154, -4.1206, -3.7979, -4.0017, -3.6619, -4.0816, -3.342, -4.0276, -3.4889, -3.8902, -3.9004, -4.5158, -4.0031, -4.6201, -3.6791, -4.0363, -4.6079, -4.4444, -4.6246, -3.9686, -4.2231, -3.9343, -4.7429, -5.0251, -5.0108, -4.1821, -5.0295, -4.9602, -3.9691, -4.3484, -4.7151, -4.6097, -1.7223, -1.7731, -3.9457, -3.7698, -3.9662, -3.5244, -4.2526, -3.8115, -3.7685, -4.3281, -4.1508, -3.6944, -3.522, -3.996, -4.5357, -4.4005, -4.4616, -4.8186, -4.0986, -4.4413, -4.9254, -4.2782, -4.6797, -4.531, -4.5767, -4.5074, -4.6987, -4.1567, -4.6327, -4.4058, -3.7533, -4.2825, -4.2675, -4.2743, -4.5555, -0.9385, -3.6691, -3.9084, -4.205, -3.4683, -4.0017, -3.9784, -3.2528, -3.5953, -3.9114, -3.8629, -4.6508, -3.9404, -4.1616, -4.1514, -4.5642, -4.6791, -3.936, -4.4856, -4.8008, -4.4085, -4.3488, -4.427, -4.3847, -4.5809, -4.5193, -4.5006, -4.5307, -4.1835, -4.8939, -0.619, -3.6277, -4.2614, -3.8791, -3.5734, -3.5589, -3.9599, -3.9203, -3.5701, -4.0852, -4.286, -4.1201, -4.1581, -4.0786, -4.48, -4.874, -4.906, -4.7965, -4.4978, -4.2556, -4.8774, -5.0587, -4.4071, -4.7107, -4.5445, -5.0593, -5.5108, -5.6598, -5.4416, -5.6625, -5.0088, -5.0544, -5.3229, -5.1854, -1.0867, -3.4007, -3.8285, -4.1749, -3.578, -4.0657, -4.0488, -3.956, -4.2031, -4.4591, -4.6769, -4.7137, -4.3989, -4.7642, -4.0954, -4.4107, -4.7729, -4.767, -3.9601, -4.879, -4.5046, -3.669, -3.8773, -4.7262, -4.3038, -4.5937, -4.2033, -4.8435, -5.091, -5.0664, -4.6181, -4.4178, -4.6705, -4.5455, -4.6377, -1.7154, -1.9133, -2.3299, -2.3789, -3.0927, -3.7086, -3.6365, -3.5191, -3.4847, -4.1122, -3.3657, -3.3245, -3.967, -3.9896, -3.705, -3.9948, -4.7303, -4.1646, -4.7023, -5.1927, -4.6236, -5.1492, -4.7938, -5.5078, -4.8067, -5.1455, -4.9058, -4.84, -4.847, -5.2788, -4.9326, -0.4734, -4.101, -3.8341, -4.0276, -4.0472, -3.9774, -4.5965, -4.2615, -4.3915, -4.3197, -3.9887, -4.5812, -4.899, -4.192, -3.8675, -4.1195, -4.8957, -5.5342, -4.906, -4.6627, -4.9626, -4.5977, -4.9605, -4.4316, -4.7226, -5.4884, -5.4297, -5.2727, -5.6057, -4.8639, -4.956, -5.4037, -5.4645, -0.7659, -3.9851, -3.6998, -4.2423, -3.5752, -3.9995, -3.6568, -3.4695, -4.5845, -4.2072, -3.4247, -4.2839, -4.4776, -4.1409, -3.9884, -4.4462, -4.1978, -4.202, -4.3916, -4.8823, -4.346, -4.2629, -3.6088, -4.9357, -4.7232, -4.7679, -4.4763, -4.2823, -5.201, -4.8528, -5.0245, -1.0295, -2.5305, -2.505, -3.7485, -3.763, -3.6617, -3.5681, -4.268, -3.7582, -4.3534, -4.9041, -3.8063, -4.1421, -4.043, -4.787, -4.362, -4.3327, -5.1782, -4.4485, -4.9979, -5.0375, -5.2611, -4.7959, -4.755, -4.4119, -4.7756, -5.1081, -5.4185, -5.3979, -5.2858, -5.2523, -5.1156, -5.158, -5.0321, -4.7866, -4.9485, -5.1145, -1.0265, -3.1305, -3.1923, -3.5158, -4.1245, -3.2581, -3.6664, -3.8959, -3.6644, -4.1141, -3.364, -3.5541, -4.3698, -3.9319, -3.9763, -3.8831, -4.0357, -4.5017, -4.2399, -4.8988, -4.5282, -4.6275, -4.9166, -4.7181, -4.2135, -4.7027, -5.194, -4.9849, -4.9027, -5.3246, -4.6021, -4.8974, -1.2405, -2.9043, -3.2996, -3.3179, -3.3977, -3.3474, -4.1233, -3.5101, -3.7272, -4.0759, -3.7911, -4.2114, -4.3767, -4.5672, -3.518, -3.8392, -3.8927, -4.0723, -3.8174, -3.9915, -4.7104, -5.005, -4.8117, -4.6962, -4.4413, -4.1266, -4.9917, -4.0093, -4.3401, -4.5794, -4.8384, -4.9693, -1.0187, -1.5394, -3.4773, -3.5254, -3.2096, -2.838, -3.6226, -4.0633, -4.1167, -3.5375, -3.7791, -3.98, -4.2188, -4.1607, -4.3386, -5.5792, -5.7932, -5.0293, -5.6402, -5.2533, -5.0688, -5.3673, -5.2023, -5.3748, -6.0321, -6.3355, -5.0434, -5.8373, -5.8325, -6.6308, -6.1511, -6.0622, -0.9151, -3.1732, -4.262, -3.7919, -4.0857, -3.6243, -3.685, -4.3768, -4.2877, -3.8185, -4.0678, -4.3872, -3.9433, -3.2701, -3.6683, -3.8608, -4.4358, -4.4616, -4.4927, -4.6724, -4.5802, -4.7225, -4.1605, -5.0076, -4.7801, -5.1747, -5.0015, -5.3216, -4.8119, -4.2056, -4.3346, -4.7675, -4.7234, -4.8153, -1.3465, -2.4389, -2.2317, -2.7866, -2.7688, -2.5534, -3.1972, -3.9494, -4.1189, -4.3006, -3.8872, -3.9595, -4.3033, -3.9673, -3.6975, -3.8973, -4.6024, -4.6554, -4.95, -4.5064, -4.7946, -4.4665, -5.3945, -4.9056, -4.9426, -4.8196, -4.9166, -5.4338, -5.0538, -5.8015, -5.4523, -0.4243, -3.5416, -3.7194, -3.742, -4.124, -4.0133, -4.064, -4.604, -4.3389, -3.8553, -4.2502, -4.4205, -4.6339, -4.2094, -4.8383, -4.6144, -4.5088, -4.5064, -5.3641, -4.9619, -5.6382, -5.5663, -6.024, -5.157, -5.5407, -5.8764, -5.7808, -5.6091, -5.254, -5.7793, -1.1666, -2.5857, -3.0271, -3.17, -3.7395, -3.1561, -3.6711, -2.96, -4.1404, -3.6987, -3.8315, -3.9099, -3.7276, -4.1297, -3.7402, -4.88, -4.7954, -4.6012, -4.3679, -4.43, -5.2567, -4.3591, -5.2411, -4.9244, -5.1726, -4.7536, -5.0395, -5.3441, -4.6646, -5.4748, -5.2363, -5.3191, -1.3864, -3.1645, -2.8608, -3.208, -3.0423, -3.7438, -4.1047, -4.0922, -4.5457, -4.6171, -3.6423, -3.8509, -4.2076, -4.4466, -3.9583, -4.3568, -4.6438, -4.5175, -4.8178, -4.5227, -4.4443, -4.3601, -3.4956, -4.637, -4.8641, -5.1655, -4.1173, -3.8848, -4.5763, -4.5938, -4.4507, -4.4732, -4.3359, -4.4069, -4.4834, -4.5104, -1.3337, -3.0262, -3.1713, -3.4956, -4.0057, -3.3505, -4.1393, -4.3269, -4.1449, -4.3921, -4.1587, -4.3575, -4.3739, -3.592, -3.9734, -3.9165, -3.8956, -3.9873, -3.8338, -4.5323, -3.9226, -4.2123, -4.9678, -4.3178, -4.2576, -5.0142, -3.854, -4.6192, -5.044, -4.6697, -4.4879, -4.117, -4.6664, -1.3763, -3.1836, -3.6671, -3.9739, -3.7633, -3.2308, -3.8878, -4.2991, -4.3063, -4.2161, -4.5634, -3.8907, -4.5139, -4.4151, -4.7979, -4.3102, -4.7669, -4.4449, -4.1507, -3.8111, -4.0405, -4.8232, -4.7588, -4.9518, -4.7477, -4.3329, -4.5874, -4.104, -4.04, -4.6183, -4.3718, -4.1379, -4.3628, -4.487, -4.5886, -4.6104, -1.5337, -3.7268, -3.9797, -3.7657, -3.5615, -4.125, -3.8989, -4.3283, -4.4028, -3.3155, -4.264, -4.2913, -4.4897, -4.6314, -4.5069, -4.6151, -4.0224, -3.7132, -4.0548, -3.9887, -4.403, -4.4403, -4.0712, -4.1491, -3.8827, -4.7227, -4.8353, -4.6125, -3.884, -4.8803, -4.1086, -4.2958, -4.1224, -4.0335, -4.4297, -4.3949, -1.5602, -3.0163, -3.1037, -3.9424, -3.9959, -4.1366, -3.3668, -4.176, -4.1433, -3.8119, -3.7985, -3.5387, -4.1751, -4.0637, -4.0634, -4.504, -3.8745, -3.9839, -4.4921, -4.3727, -4.0515, -3.776, -3.499, -4.1861, -4.2625, -4.2531, -4.9291, -4.9524, -5.2742, -5.0288, -4.0018, -4.491, -4.8157, -4.5591, -4.6968, -1.4692, -2.7454, -3.2332, -3.9386, -2.7725, -3.9577, -3.7684, -3.3786, -3.8594, -4.547, -3.9872, -4.5057, -4.3725, -4.8028, -4.5503, -4.2156, -4.2513, -4.9389, -4.5924, -4.0823, -4.4867, -4.997, -5.0164, -4.5064, -4.4724, -4.9826, -5.326, -4.9647, -5.1746, -4.0874, -4.1552, -4.3247, -4.7024, -4.7683, -4.5101, -4.2871, -4.5942, -4.4682, -4.5815, -4.6484, -2.0682, -2.717, -1.9987, -3.6706, -3.8139, -4.2393, -3.7658, -3.963, -3.846, -4.4404, -4.0026, -4.207, -4.3993, -4.5782, -4.1766, -4.3999, -4.5754, -4.0854, -4.8151, -4.3832, -4.946, -5.0695, -4.9063, -4.7711, -4.8998, -4.6893, -4.3731, -4.0359, -4.3271, -4.4307, -3.9487, -4.1801, -4.4865, -4.4353, -4.4043, -4.5076, -4.6408, -1.8231, -3.349, -4.0815, -3.4676, -3.9207, -3.3561, -4.5569, -4.3375, -4.5399, -3.8823, -4.5852, -3.8331, -4.2248, -4.6089, -4.0994, -4.5952, -4.523, -4.488, -4.5921, -3.8386, -3.9416, -4.1063, -4.1202, -3.5458, -4.9268, -4.2777, -4.3145, -4.8989, -4.234, -4.5991, -3.9821, -3.9741, -4.3106, -4.0064, -4.3777, -4.3351, -4.5331, -4.5164, -4.5285, -1.9414, -2.2724, -2.8125, -2.6831, -3.9229, -3.9529, -3.8699, -4.1029, -3.9132, -4.0944, -4.4045, -3.6618, -4.438, -3.649, -4.278, -4.4521, -4.6958, -4.5434, -4.1659, -4.1156, -4.9813, -4.6872, -4.3807, -5.004, -4.0199, -4.9219, -4.8314, -4.3925, -5.0977, -4.5862, -4.3005, -4.5625, -4.714, -4.5717, -4.6303, -4.2669, -4.5577, -2.1746, -2.6566, -3.4929, -3.9996, -3.3398, -3.9299, -3.9028, -4.354, -4.4523, -4.0166, -4.3599, -4.6049, -4.1628, -4.457, -3.9952, -4.384, -4.2528, -3.9256, -4.0346, -4.4808, -3.9167, -3.9219, -4.4304, -4.6945, -4.4209, -3.9771, -5.0658, -4.7826, -4.9644, -4.5131, -3.7887, -4.5452, -3.9421, -4.2563, -4.2972, -4.337, -4.3394, -4.4234, -2.0013, -3.509, -2.7702, -2.9155, -3.7462, -3.3382, -3.6844, -4.0082, -4.3903, -3.6662, -3.9753, -3.617, -4.3567, -4.4223, -4.065, -4.4531, -3.6834, -4.7463, -4.104, -4.1392, -4.5299, -4.7744, -3.8349, -4.3101, -4.6384, -5.0461, -4.0695, -4.8742, -4.3693, -4.9425, -4.4964, -4.5277, -4.365, -4.5231, -4.4317, -4.5441, -4.3554, -3.1569, -3.2392, -3.3526, -3.5789, -3.5867, -3.9412, -4.1549, -3.278, -3.5425, -3.4937, -4.0661, -4.1917, -4.3222, -4.036, -4.4662, -4.3629, -4.3808, -4.1171, -3.6762, -3.9237, -3.996, -3.9036, -4.5822, -4.1985, -4.7007, -4.456, -4.1029, -4.7701, -5.0061, -4.7868, -4.4484, -4.1512, -4.2232, -4.0289, -4.0289, -4.176, -4.0387, -4.1411, -3.6585, -3.7795, -3.1362, -3.8214, -3.9201, -3.8804, -3.63, -3.63, -3.8569, -3.5882, -4.3361, -4.0811, -4.2807, -4.1814, -4.1731, -3.8581, -4.3212, -4.4275, -4.5527, -4.5158, -4.2631, -4.4203, -4.5647, -4.2208, -4.7235, -4.2917, -4.1103, -4.5593, -4.8201, -4.1693, -4.5143, -4.0982, -3.9204, -3.9616, -4.3649, -4.2456, -4.059, -4.318, -4.2632, -4.1513, -4.329, -2.7869, -3.2436, -4.0082, -3.4298, -2.9392, -4.1314, -4.2863, -3.5793, -3.591, -3.4166, -3.9267, -3.6459, -4.1662, -3.6558, -3.097, -4.4951, -3.7581, -4.5025, -4.5896, -4.0147, -4.6322, -4.6872, -3.5643, -4.4017, -3.9981, -4.6346, -4.4364, -4.4792, -4.0087, -4.6983, -4.2288, -4.011, -4.3742, -4.2947, -4.5327, -3.3865, -3.8126, -3.4758, -3.7604, -3.9112, -4.1787, -4.1259, -3.684, -3.4734, -4.3718, -3.6039, -4.1874, -4.3188, -4.2433, -4.4618, -4.3456, -4.2839, -4.1136, -4.1546, -3.8146, -3.8976, -4.5423, -3.9292, -3.9397, -4.276, -4.2461, -4.2593, -4.7902, -4.1982, -4.4446, -4.4933, -4.0547, -3.9, -4.1446, -3.9884, -4.1772, -4.3247, -2.3708, -3.1171, -3.3594, -3.9977, -3.7934, -4.2859, -3.6861, -3.6575, -3.595, -3.6607, -3.5524, -4.3764, -4.6446, -3.694, -3.7222, -4.674, -3.9402, -4.44, -4.244, -4.4921, -4.1693, -3.8251, -4.5674, -4.9372, -4.393, -4.0916, -4.749, -4.4572, -4.7017, -4.149, -3.8525, -4.4859, -4.3345, -4.0701, -4.4124, -4.3443, -4.4092, -4.4381, -2.7667, -2.5436, -3.0738, -3.5153, -3.7443, -4.0274, -3.7172, -4.0044, -3.8985, -4.066, -4.3194, -4.446, -4.0881, -4.3434, -4.6626, -4.5859, -3.884, -4.1366, -3.6124, -4.2247, -3.8112, -4.6575, -4.1559, -3.6701, -3.4924, -4.2565, -4.8481, -4.8073, -4.4993, -4.0694, -4.6002, -4.3908, -4.4359, -4.3685, -4.4017, -4.5028], \"loglift\": [30.0, 29.0, 28.0, 27.0, 26.0, 25.0, 24.0, 23.0, 22.0, 21.0, 20.0, 19.0, 18.0, 17.0, 16.0, 15.0, 14.0, 13.0, 12.0, 11.0, 10.0, 9.0, 8.0, 7.0, 6.0, 5.0, 4.0, 3.0, 2.0, 1.0, 3.3127, 1.6254, 1.1132, 0.9849, 0.7684, 0.4589, 0.3868, 0.3467, 0.2856, 0.1902, 0.1011, 0.0945, 0.0928, 0.0769, 0.0276, -0.0129, -0.0186, -0.0284, -0.0312, -0.045, -0.0553, -0.0567, -0.0765, -0.0978, -0.0978, -0.14, -0.1725, -0.1788, -0.1812, -0.2071, -0.2689, -0.3649, -0.2983, -0.2981, -0.5331, -0.4817, -0.9073, 3.5423, 1.6504, 1.0262, 0.4415, 0.3715, 0.3487, 0.3049, 0.2809, 0.2054, 0.1966, 0.1389, 0.1263, 0.1244, 0.1216, 0.0424, 0.0405, 0.0316, 0.0144, -0.0033, -0.0188, -0.0337, -0.0345, -0.0618, -0.0825, -0.1087, -0.1217, -0.1329, -0.156, -0.1886, -0.1901, -0.2964, -0.3601, -0.6459, -0.5419, 3.4137, 1.9939, 1.7268, 1.7232, 1.2109, 0.5199, 0.1628, 0.1459, 0.0783, -0.0097, -0.0131, -0.0598, -0.064, -0.0849, -0.1391, -0.1539, -0.1811, -0.1852, -0.1976, -0.2114, -0.2136, -0.261, -0.2661, -0.267, -0.268, -0.2702, -0.2875, -0.3162, -0.3306, -0.333, -0.3378, -0.3456, -0.3756, -0.4274, -0.5369, -0.8352, -0.7562, -0.664, -1.2837, 3.6249, 0.4973, 0.476, 0.3852, 0.3529, 0.3139, 0.2844, 0.2578, 0.2506, 0.2267, 0.2062, 0.1828, 0.1081, 0.0776, 0.0643, 0.0528, 0.0376, 0.0196, -0.0042, -0.0262, -0.0473, -0.077, -0.1062, -0.1089, -0.1279, -0.1305, -0.1327, -0.1337, -0.1454, -0.171, -0.2186, -0.2688, -0.2084, -0.4402, -0.5076, -0.461, -0.3553, -0.9028, 3.4586, 0.6655, 0.5047, 0.4285, 0.3186, 0.2611, 0.1975, 0.1929, 0.1674, 0.118, 0.0933, 0.0681, 0.0559, -0.0325, -0.0339, -0.0358, -0.0391, -0.0404, -0.0478, -0.0479, -0.0551, -0.0619, -0.066, -0.0929, -0.1086, -0.1283, -0.1689, -0.1924, -0.2169, -0.2171, -0.2284, -0.3827, -0.4175, -0.604, -0.9178, -0.5105, 3.3366, 1.0842, 0.5081, 0.473, 0.318, 0.3053, 0.2946, 0.2887, 0.194, 0.1592, 0.1339, 0.1219, 0.1192, 0.11, 0.1042, 0.0752, 0.0623, 0.0164, -0.0176, -0.0218, -0.0396, -0.0447, -0.0694, -0.0781, -0.1477, -0.1593, -0.1657, -0.1681, -0.1734, -0.174, -0.2103, -0.1948, -0.2651, -0.2528, -0.2711, -0.5422, 3.4892, 0.3783, 0.3511, 0.3423, 0.307, 0.2761, 0.2712, 0.2664, 0.2543, 0.2515, 0.2285, 0.1354, 0.1129, 0.1063, 0.1048, 0.0833, 0.0815, 0.0695, 0.0484, 0.0085, 0.0049, -0.0259, -0.1133, -0.1324, -0.1432, -0.2111, -0.2459, -0.2603, -0.2613, -0.2666, -0.2671, -0.2818, -0.3388, -0.3939, -0.5374, -0.3703, 3.687, 0.6675, 0.6068, 0.4985, 0.4456, 0.3635, 0.2899, 0.2678, 0.2613, 0.2444, 0.2248, 0.1698, 0.1395, 0.1096, 0.061, 0.0355, 0.0285, 0.0208, 0.0053, -0.0204, -0.0343, -0.0515, -0.0554, -0.0573, -0.0691, -0.0746, -0.085, -0.0941, -0.1136, -0.1518, -0.1943, -0.3689, -0.321, -0.2888, -0.2255, -0.2875, -0.4001, -0.4487, -0.195, 3.1986, 0.8605, 0.4438, 0.4236, 0.3875, 0.3483, 0.3426, 0.3402, 0.311, 0.2797, 0.2752, 0.2749, 0.2151, 0.2044, 0.1582, 0.097, 0.0692, 0.0623, 0.017, 0.015, 0.0099, -0.0077, -0.0372, -0.0613, -0.0721, -0.0744, -0.0815, -0.1552, -0.1685, -0.188, -0.1914, -0.3049, -0.2548, -0.3112, -0.3964, -0.2585, 2.8591, 2.609, 0.4875, 0.4773, 0.4484, 0.4198, 0.3366, 0.2793, 0.2701, 0.224, 0.2212, 0.173, 0.1485, 0.1438, 0.1109, 0.0806, -0.0104, -0.0138, -0.0208, -0.0428, -0.068, -0.236, -0.3094, -0.424, -0.4504, -0.4729, -0.5289, -0.5404, -0.6082, -0.6843, -0.7769, -0.8694, -1.127, -1.0714, 3.5773, 0.7698, 0.2427, 0.2373, 0.1976, 0.1903, 0.1636, 0.1415, 0.0806, 0.063, 0.061, 0.0509, 0.0391, 0.0177, 0.0093, -0.0078, -0.0134, -0.0164, -0.0198, -0.0272, -0.0735, -0.1093, -0.1279, -0.1409, -0.1424, -0.1548, -0.1726, -0.1807, -0.187, -0.1964, -0.2348, -0.2449, -0.2475, -0.3615, -0.4866, 3.541, 1.3969, 1.2097, 1.0764, 0.9172, 0.5708, 0.5424, 0.501, 0.3281, 0.2761, 0.2432, 0.1954, 0.1596, 0.1211, 0.1133, 0.0984, 0.0556, 0.0276, -0.0081, -0.0132, -0.0424, -0.0846, -0.1139, -0.1392, -0.1529, -0.1676, -0.1801, -0.1866, -0.1879, -0.2236, -0.2276, -0.2301, -0.2329, -0.3924, -0.3887, -0.3246, -0.5741, -0.4542, 3.3445, 1.2154, 1.0909, 0.7452, 0.4894, 0.3801, 0.3763, 0.3018, 0.2952, 0.2772, 0.2756, 0.2644, 0.1754, 0.1545, 0.1337, 0.1309, 0.1249, 0.1027, 0.086, 0.0469, 0.0336, -0.0449, -0.0542, -0.1341, -0.1501, -0.1506, -0.1563, -0.1771, -0.1881, -0.1895, -0.2105, -0.2363, -0.2384, -0.3265, -0.8027, -0.6807, 3.5999, 1.1477, 1.0359, 0.9075, 0.3522, 0.2341, 0.1867, 0.1416, 0.1402, 0.1377, 0.0998, 0.0172, -0.0183, -0.0399, -0.044, -0.0514, -0.0591, -0.0623, -0.1007, -0.1022, -0.1035, -0.1414, -0.1503, -0.169, -0.2058, -0.2168, -0.2258, -0.2639, -0.2665, -0.2737, -0.312, -0.3233, -0.3765, -1.292, 3.6806, 0.673, 0.5664, 0.4923, 0.3699, 0.2436, 0.2399, 0.2155, 0.2044, 0.0643, 0.0067, -0.0065, -0.0091, -0.0136, -0.0206, -0.0207, -0.0581, -0.0669, -0.0811, -0.0857, -0.0925, -0.1168, -0.1333, -0.1389, -0.1451, -0.1606, -0.1639, -0.165, -0.1789, -0.204, -0.2703, -0.2515, -0.242, -0.4351, -0.3657, -0.7081, -0.5754, 3.2966, 0.9276, 0.7404, 0.5752, 0.3707, 0.3698, 0.3355, 0.2638, 0.2009, 0.1874, 0.1647, 0.1497, 0.1374, 0.0908, 0.0496, 0.0448, 0.0389, 0.0127, 0.0065, 0.0044, -0.0591, -0.067, -0.0759, -0.0815, -0.117, -0.141, -0.1928, -0.2271, -0.2285, -0.2311, -0.2886, -0.2997, -0.3784, -0.3962, 3.5586, 0.4871, 0.4263, 0.3799, 0.365, 0.3422, 0.3248, 0.2809, 0.2723, 0.2693, 0.2022, 0.1333, 0.1286, 0.1077, 0.1067, 0.1014, 0.0847, 0.0725, 0.0676, 0.0578, 0.0356, 0.0323, 0.0227, 0.0198, 0.0195, 0.01, -0.0408, -0.067, -0.0712, -0.094, -0.1672, -0.1147, -0.1365, -0.2661, -0.123, -0.2397, -0.1668, -0.1169, 3.5455, 1.3196, 0.9047, 0.8737, 0.4491, 0.3726, 0.3572, 0.3171, 0.2607, 0.25, 0.2474, 0.1943, 0.1452, 0.1395, 0.094, 0.0868, 0.0495, 0.0256, -0.002, -0.0621, -0.067, -0.0896, -0.0994, -0.1436, -0.1687, -0.1918, -0.2402, -0.2535, -0.2538, -0.3026, -0.419, -0.4707, -0.3669, -0.5131, -0.8486, 3.6279, 2.2204, 1.1571, 0.7379, 0.5823, 0.3125, 0.2792, 0.2685, 0.2121, 0.2054, 0.1989, 0.1832, 0.1756, 0.167, 0.1271, 0.099, 0.0727, 0.0264, 0.0079, -0.0074, -0.0392, -0.0683, -0.0843, -0.0899, -0.1098, -0.1416, -0.1572, -0.1663, -0.1717, -0.1766, -0.1781, -0.2402, -0.2707, -0.4572, -0.5387, -0.6627, 3.6748, 0.9442, 0.7848, 0.7769, 0.7097, 0.6109, 0.5152, 0.5031, 0.3076, 0.2246, 0.1794, 0.1435, 0.1373, 0.0735, 0.057, 0.0467, -0.0095, -0.0354, -0.039, -0.0556, -0.0661, -0.1232, -0.1396, -0.1465, -0.1652, -0.1815, -0.1946, -0.2054, -0.2103, -0.2325, -0.2729, -0.3182, -0.4399, -0.3705, 3.6412, 1.143, 0.8391, 0.7402, 0.5577, 0.3582, 0.2474, 0.203, 0.182, 0.1585, 0.1576, 0.0613, -0.0052, -0.0259, -0.0604, -0.1236, -0.147, -0.3013, -0.3068, -0.3084, -0.3129, -0.3244, -0.3722, -0.3786, -0.3823, -0.4224, -0.4474, -0.4934, -0.5085, -0.5267, -0.5668, -0.6889, -0.7141, -1.2468, 3.675, 2.0484, 0.304, 0.2724, 0.2581, 0.1797, 0.1771, 0.1127, 0.1102, 0.0972, 0.0957, 0.0867, 0.069, 0.0685, 0.0664, 0.0515, 0.0497, 0.0441, 0.0321, 0.0053, 0.0035, -0.0277, -0.0349, -0.0484, -0.0606, -0.0723, -0.0772, -0.0901, -0.0949, -0.0971, -0.1176, -0.1595, -0.1987, -0.2444, -0.4776, -0.2775, 3.3361, 0.7637, 0.7439, 0.7279, 0.7049, 0.5839, 0.554, 0.2875, 0.2574, 0.2434, 0.2394, 0.0256, 0.0185, -0.0158, -0.0313, -0.1342, -0.1567, -0.1679, -0.1706, -0.1891, -0.2237, -0.2329, -0.2428, -0.3014, -0.4105, -0.4442, -0.4624, -0.4851, -0.5127, -0.528, -0.5339, -0.7044, -0.661, -0.6347, 3.3198, 0.6456, 0.4352, 0.3297, 0.3214, 0.3156, 0.2756, 0.2394, 0.2281, 0.2098, 0.1936, 0.1932, 0.1823, 0.1763, 0.1573, 0.1343, 0.1304, 0.0964, 0.0917, 0.0912, 0.0866, 0.0377, -0.0131, -0.02, -0.0215, -0.0687, -0.1567, -0.1607, -0.1865, -0.187, -0.1893, -0.205, -0.2803, -0.4564, -0.341, -0.3381, 3.6897, 0.5983, 0.4764, 0.4572, 0.2889, 0.272, 0.2067, 0.1781, 0.1526, 0.149, 0.1421, 0.0628, 0.0608, -0.0053, -0.0917, -0.1194, -0.1259, -0.1305, -0.1817, -0.2005, -0.2465, -0.2683, -0.2727, -0.2865, -0.306, -0.3428, -0.4336, -0.4554, -0.5066, -0.5487, -0.5496, -0.5694, -0.5955, -0.6821, 3.6392, 0.8302, 0.8128, 0.5965, 0.5912, 0.4823, 0.4759, 0.4308, 0.3899, 0.3694, 0.3559, 0.2014, 0.1863, 0.1473, 0.1438, 0.1344, 0.1293, 0.0566, 0.0359, 0.024, -0.0502, -0.0592, -0.0631, -0.0669, -0.0993, -0.1039, -0.1296, -0.184, -0.1893, -0.2684, -0.2713, -0.3652, -0.4224, -0.4291, -0.3231, -0.3875, -0.5321, 3.2272, 1.1513, 0.8304, 0.6218, 0.5731, 0.5512, 0.444, 0.427, 0.3978, 0.3261, 0.3018, 0.2579, 0.159, 0.1577, 0.1175, 0.1006, 0.0797, 0.0658, 0.0652, 0.0599, 0.0496, -0.0483, -0.058, -0.0639, -0.0817, -0.0978, -0.1759, -0.2009, -0.2191, -0.23, -0.293, -0.3499, -0.4185, -0.4769, -0.2719, -0.3898, 3.0419, 1.145, 0.8674, 0.4622, 0.3517, 0.2636, 0.2614, 0.2458, 0.205, 0.1756, 0.1275, 0.1141, 0.0844, 0.0608, 0.0394, 0.0103, -0.0256, -0.0491, -0.0897, -0.096, -0.1322, -0.1883, -0.2196, -0.2211, -0.2282, -0.2469, -0.2478, -0.2554, -0.2712, -0.2772, -0.3304, -0.4327, -0.314, -0.4395, -0.5148, -0.4008, -0.4619, 3.2292, 0.6948, 0.3878, 0.2786, 0.2244, 0.0872, -0.0091, -0.0695, -0.1719, -0.2077, -0.2916, -0.4166, -0.422, -0.4739, -0.6172, -0.6207, -0.6356, -0.7187, -0.755, -0.8514, -0.9437, -1.0224, -1.0431, -1.3487, -1.5349, -1.6102, -1.6795, -1.8656, -1.867, -1.8719, -1.9998, 2.6524, 2.4727, 0.7981, 0.7059, 0.5614, 0.4598, 0.2794, 0.2717, 0.1877, 0.0791, 0.0702, 0.0639, 0.0421, 0.0298, 0.0156, -0.0001, -0.0519, -0.052, -0.064, -0.0665, -0.0688, -0.0698, -0.0841, -0.1074, -0.1466, -0.2195, -0.2316, -0.2317, -0.2517, -0.296, -0.385, -0.5987, 3.1511, 1.0154, 0.3543, 0.3438, 0.3043, 0.2874, 0.2812, 0.2507, 0.2038, 0.1126, 0.1116, 0.1009, 0.0769, 0.0747, 0.0595, 0.0395, -0.0125, -0.0291, -0.0398, -0.0459, -0.0461, -0.1235, -0.1619, -0.1821, -0.208, -0.2093, -0.2117, -0.2429, -0.2847, -0.3172, -0.3932, -0.4416, 3.475, 1.3233, 1.0588, 0.7297, 0.611, 0.5415, 0.5068, 0.3513, 0.3504, 0.332, 0.3115, 0.2647, 0.2629, 0.2579, 0.1959, 0.1567, 0.1072, 0.0611, 0.0537, 0.0348, -0.0049, -0.0117, -0.0438, -0.0627, -0.077, -0.1117, -0.1762, -0.3082, -0.385, -0.3905, -0.4063, -0.5137, -0.5462, -0.4617, 3.728, 1.0448, 0.9821, 0.95, 0.6155, 0.5976, 0.4055, 0.2427, 0.2057, 0.1286, 0.1024, 0.098, 0.0541, 0.021, -0.0064, -0.0131, -0.0457, -0.0553, -0.0613, -0.0826, -0.1097, -0.1147, -0.1186, -0.1678, -0.1787, -0.2129, -0.2259, -0.2408, -0.2486, -0.2694, -0.2732, -0.306, -0.3199, -0.3938, -0.3274, -0.5848, 3.6534, 0.5171, 0.4735, 0.3747, 0.3317, 0.301, 0.2052, 0.1879, 0.1855, 0.1721, 0.1445, 0.1334, 0.1131, 0.1078, 0.107, 0.0752, 0.0391, 0.0214, -0.0096, -0.0172, -0.0193, -0.0743, -0.14, -0.1747, -0.2148, -0.2206, -0.2557, -0.3187, -0.3359, -0.3469, -0.3537, -0.4439, -0.5012, 3.648, 0.9136, 0.7051, 0.3913, 0.3087, 0.2907, 0.224, 0.187, 0.1295, 0.1183, 0.1152, 0.0486, 0.0286, 0.0262, -0.0029, -0.013, -0.0154, -0.0375, -0.0521, -0.0534, -0.0666, -0.0813, -0.0875, -0.1417, -0.1439, -0.1672, -0.1696, -0.2112, -0.2232, -0.2352, -0.2464, -0.3893, -0.4954, -0.4581, -0.5337, -0.6228, -0.4803, 3.3357, 1.4289, 0.879, 0.8591, 0.7303, 0.7054, 0.5947, 0.5717, 0.5626, 0.4916, 0.4239, 0.3903, 0.3807, 0.3465, 0.3409, 0.2892, 0.282, 0.1748, 0.051, 0.0253, -0.0234, -0.0426, -0.0854, -0.111, -0.1399, -0.1434, -0.2235, -0.2912, -0.295, -0.3447, -0.3596, -0.4752, -0.5198, -1.062, 3.7148, 0.6533, 0.6465, 0.3551, 0.2331, 0.2151, 0.0748, 0.0608, 0.0486, 0.0258, 0.0222, 0.022, -0.0086, -0.063, -0.0738, -0.0759, -0.1018, -0.1102, -0.1308, -0.1379, -0.1464, -0.1685, -0.173, -0.1769, -0.1915, -0.2142, -0.2181, -0.2961, -0.2979, -0.3497, -0.3815, -0.4132, -0.4206, -0.5919, -0.5044, -1.0209, -0.4039, 3.4539, 2.1848, 1.7195, 1.4577, 1.0823, 0.8302, 0.7849, 0.6248, 0.615, 0.5914, 0.5211, 0.428, 0.4145, 0.3651, 0.3614, 0.3398, 0.3352, 0.1028, 0.0853, 0.0116, -0.027, -0.0726, -0.074, -0.0809, -0.1159, -0.2961, -0.3054, -0.3505, -0.4097, -0.6687, -0.7022, -0.8618, 3.9986, 1.7096, 1.0392, 0.8032, 0.7878, 0.7658, 0.7089, 0.501, 0.3899, 0.3399, 0.2902, 0.2309, 0.2051, 0.1832, 0.149, 0.1402, 0.1206, 0.1087, 0.092, 0.0752, 0.0739, 0.0423, 0.0212, -0.0577, -0.1182, -0.1287, -0.1379, -0.2098, -0.2137, -0.2581, -0.3407, -0.3221, -0.3531, -0.3766, 3.667, 1.2356, 1.0863, 0.7933, 0.3631, 0.2576, 0.2328, 0.0893, 0.0684, 0.0032, -0.036, -0.0619, -0.1376, -0.1423, -0.2354, -0.3589, -0.386, -0.3942, -0.4262, -0.4737, -0.4998, -0.5878, -0.6811, -0.7469, -0.8559, -0.873, -0.917, -1.042, -1.1761, -1.1918, -1.1949, -1.2739, -1.4343, 4.0196, 2.109, 0.6164, 0.5341, 0.2043, 0.1617, 0.1114, 0.1042, -0.0249, -0.0485, -0.071, -0.1532, -0.1543, -0.1657, -0.1876, -0.2187, -0.2928, -0.3043, -0.3381, -0.3637, -0.3688, -0.3768, -0.3958, -0.4287, -0.4334, -0.4838, -0.5455, -0.831, -0.856, -0.9155, -1.0718, -1.0296, -1.1639, 4.0547, 0.9997, 0.7578, 0.5441, 0.0425, -0.003, -0.1216, -0.1535, -0.2047, -0.2143, -0.2413, -0.3146, -0.3387, -0.3717, -0.3818, -0.4067, -0.4086, -0.417, -0.4389, -0.4487, -0.4858, -0.4872, -0.4991, -0.5234, -0.5268, -0.5638, -0.5677, -0.5821, -0.5891, -0.6158, -0.6284, -0.7408, -0.6766, -1.0286, -0.8783, 3.7427, 0.6601, 0.6596, 0.6091, 0.6048, 0.4945, 0.4724, 0.3804, 0.36, 0.247, 0.2183, 0.21, 0.1287, 0.1212, 0.0757, 0.0729, 0.0377, 0.0365, 0.0086, 0.0054, -0.0048, -0.0464, -0.052, -0.0727, -0.0874, -0.0904, -0.0944, -0.095, -0.1204, -0.1307, -0.18, -0.1969, -0.2597, -0.2436, -0.5433, 3.4354, 0.9044, 0.8833, 0.8601, 0.7293, 0.6472, 0.6254, 0.6122, 0.5781, 0.5038, 0.463, 0.4276, 0.4149, 0.4049, 0.3933, 0.3613, 0.3435, 0.2389, 0.2209, 0.194, 0.1737, 0.1614, 0.1321, 0.1156, 0.0322, -0.1018, -0.3142, -0.3312, -0.3553, -0.4151, -0.5691, 3.4899, 1.7931, 1.3403, 0.9535, 0.7496, 0.7304, 0.5793, 0.5157, 0.4649, 0.378, 0.3565, 0.3073, 0.3031, 0.2171, 0.2161, 0.1887, 0.0506, 0.0357, 0.0289, 0.0029, -0.0049, -0.0097, -0.0315, -0.0872, -0.1184, -0.1263, -0.1542, -0.1741, -0.1794, -0.1879, -0.2155, -0.374, -0.2214, -1.0031, -0.338, 3.7861, 1.8988, 0.7612, 0.7332, 0.5525, 0.504, 0.441, 0.4291, 0.3693, 0.3398, 0.2718, 0.2227, 0.1703, 0.1599, 0.1558, 0.0817, 0.0718, 0.0539, 0.032, 0.0172, 0.0115, 0.0013, -0.0254, -0.0441, -0.0628, -0.2169, -0.2678, -0.2828, -0.2883, -0.2984, -0.3283, -0.4166, -0.4224, -0.4839, 3.77, 1.5199, 0.63, 0.5767, 0.4959, 0.3599, 0.3525, 0.3074, 0.2499, 0.1812, 0.1699, 0.1321, 0.1312, 0.1203, 0.0812, 0.0559, 0.0054, -0.0179, -0.0346, -0.1091, -0.13, -0.14, -0.1509, -0.1644, -0.2, -0.214, -0.2404, -0.2435, -0.2438, -0.2452, -0.2915, -0.2977, -0.7406, -0.5072, -0.491, -0.6454, -0.4982, 3.7919, 1.76, 0.842, 0.655, 0.5969, 0.5858, 0.5539, 0.5506, 0.4465, 0.4209, 0.4147, 0.4106, 0.3451, 0.2856, 0.2849, 0.2656, 0.2322, 0.1674, 0.1061, 0.0842, 0.0821, 0.077, 0.0679, 0.0332, 0.0014, -0.0944, -0.095, -0.1291, -0.1603, -0.2161, -0.2247, -0.4143, -0.3605, -0.287, -0.4221, 3.1937, 2.9623, 0.8929, 0.7567, 0.7354, 0.6179, 0.4649, 0.4448, 0.4299, 0.3613, 0.2916, 0.2413, 0.241, 0.1899, 0.1565, 0.1155, 0.1009, 0.1008, 0.089, 0.0688, 0.0087, -0.0095, -0.0312, -0.0423, -0.0486, -0.1237, -0.1241, -0.1349, -0.1529, -0.1932, -0.1985, -0.246, -0.368, -0.4277, -0.2465, 3.648, 1.0325, 0.8092, 0.8006, 0.6986, 0.6468, 0.5841, 0.5102, 0.4792, 0.2309, 0.1736, 0.1347, 0.0814, 0.0737, 0.04, 0.0105, 0.0102, -0.0895, -0.1019, -0.1086, -0.1527, -0.1612, -0.1707, -0.1988, -0.2061, -0.2104, -0.2319, -0.2699, -0.284, -0.2877, 3.9872, 0.5583, 0.5477, 0.3816, 0.3261, 0.2877, 0.2754, 0.2466, 0.1928, 0.1835, 0.1421, 0.0675, 0.0333, -0.0421, -0.0963, -0.1818, -0.1885, -0.241, -0.2853, -0.3198, -0.351, -0.3571, -0.3853, -0.4017, -0.4699, -0.6337, -0.7254, -0.7257, -0.793, -0.795, -0.8664, -0.9947, -0.8805, -1.6306, 3.6487, 0.7976, 0.7341, 0.6926, 0.6096, 0.4898, 0.3674, 0.3298, 0.325, 0.2584, 0.2425, 0.216, 0.1876, 0.1698, 0.14, 0.1158, 0.0362, -0.0537, -0.0606, -0.0782, -0.0894, -0.1142, -0.1144, -0.1201, -0.1615, -0.1657, -0.1668, -0.195, -0.2524, -0.2911, -0.3494, -0.3959, -0.4846, -0.699, -0.702, 2.811, 2.5147, 2.4791, 2.0048, 1.0933, 0.9836, 0.8916, 0.7416, 0.7066, 0.5894, 0.5338, 0.4385, 0.3017, 0.1527, 0.1416, -0.059, -0.0817, -0.0901, -0.1468, -0.3541, -0.4361, -0.4599, -0.5375, -0.5918, -0.6084, -0.6657, -0.6705, -0.8035, -0.8252, -0.8365, -1.3778, 4.0154, 0.7377, 0.3328, 0.2814, 0.1653, 0.1649, 0.0096, -0.0262, -0.1228, -0.1284, -0.1421, -0.1531, -0.1815, -0.2563, -0.3127, -0.3566, -0.3676, -0.3942, -0.3959, -0.402, -0.407, -0.4102, -0.4806, -0.5321, -0.5367, -0.636, -0.7403, -0.7567, -0.7966, -0.8274, -0.9342, -1.1474, -1.1787, 4.1361, 0.4947, 0.4861, 0.4594, 0.4466, 0.4168, 0.3797, 0.3771, 0.3496, 0.3484, 0.3383, 0.2443, 0.1709, 0.1278, 0.0713, 0.0639, 0.063, 0.0543, 0.0507, 0.0478, 0.0377, -0.0276, -0.054, -0.1267, -0.1367, -0.2415, -0.2638, -0.3828, -0.4155, -0.4247, -0.8576, 3.5331, 1.8951, 1.6619, 0.8261, 0.6965, 0.5296, 0.5064, 0.3483, 0.3015, 0.1627, 0.1016, 0.0402, 0.0002, -0.0065, -0.0854, -0.0933, -0.0973, -0.2426, -0.261, -0.3057, -0.3199, -0.3416, -0.4122, -0.4987, -0.5124, -0.5198, -0.5525, -0.6094, -0.6226, -0.6372, -0.6462, -0.6875, -0.6834, -0.7907, -1.0237, -0.9267, -1.5597, 3.01, 1.3797, 0.9937, 0.7449, 0.593, 0.5884, 0.5462, 0.4878, 0.4779, 0.4123, 0.3989, 0.3454, 0.3195, 0.2594, 0.259, 0.1915, 0.1519, 0.1468, 0.0288, 0.0206, -0.1002, -0.1114, -0.1158, -0.19, -0.1917, -0.2603, -0.278, -0.2927, -0.3472, -0.4226, -0.6664, -0.641, 3.6118, 1.7851, 0.9129, 0.8697, 0.8586, 0.8439, 0.7961, 0.7253, 0.6565, 0.6417, 0.6369, 0.4372, 0.4087, 0.3626, 0.3285, 0.3031, 0.2932, 0.2135, 0.0821, 0.0303, -0.0088, -0.103, -0.1196, -0.1336, -0.1726, -0.1909, -0.2026, -0.2463, -0.3036, -0.3187, -0.5295, -0.4411, 3.4915, 2.7214, 1.375, 1.0301, 0.9327, 0.9249, 0.7611, 0.6383, 0.5726, 0.4844, 0.4123, 0.2325, -0.0312, -0.2612, -0.4029, -0.6495, -0.7354, -0.7939, -0.8311, -0.8786, -0.8829, -1.0986, -1.2144, -1.3003, -1.3835, -1.4538, -1.4886, -1.581, -1.6657, -1.7007, -1.8953, -2.2157, 3.9236, 1.2692, 0.6721, 0.6432, 0.5629, 0.5617, 0.4574, 0.4239, 0.4017, 0.394, 0.3603, 0.3261, 0.292, 0.2847, 0.2674, 0.1757, 0.0907, 0.0665, 0.0544, -0.1168, -0.164, -0.2124, -0.261, -0.2724, -0.3002, -0.3856, -0.3954, -0.4056, -0.4283, -0.4427, -0.488, -0.5068, -0.6489, -0.624, 2.5, 2.0409, 2.037, 1.4742, 1.4226, 1.3462, 1.1865, 0.74, 0.5827, 0.4182, 0.3481, 0.253, 0.2523, 0.2186, 0.0655, 0.0384, -0.0742, -0.1289, -0.2325, -0.3641, -0.3665, -0.4446, -0.4751, -0.6493, -0.7551, -0.7831, -0.8421, -0.9915, -0.9941, -1.1093, -1.1433, 4.3765, 0.7271, 0.5413, 0.4933, 0.3183, 0.1727, 0.1485, 0.1135, -0.0826, -0.0924, -0.2137, -0.2291, -0.2502, -0.3099, -0.4221, -0.4721, -0.4869, -0.6599, -0.6748, -0.9022, -0.9897, -1.0037, -1.1423, -1.169, -1.3424, -1.3662, -1.5932, -1.6734, -1.6992, -1.7047, 3.0688, 1.9393, 1.3566, 0.9045, 0.7886, 0.7434, 0.5976, 0.5948, 0.5082, 0.4889, 0.4292, 0.2324, 0.1189, 0.0828, 0.0228, -0.0709, -0.0938, -0.1417, -0.1765, -0.244, -0.3226, -0.3373, -0.3391, -0.4084, -0.455, -0.4973, -0.5972, -0.6148, -0.7289, -0.7855, -1.0694, -1.2826, 2.9884, 1.703, 1.6673, 1.2082, 1.193, 0.9916, 0.7339, 0.4238, 0.3884, 0.3024, 0.2935, 0.2914, 0.2722, 0.2709, 0.24, 0.2296, 0.2086, 0.1841, 0.0982, 0.0834, 0.0807, 0.068, 0.0592, 0.0552, 0.0379, -0.0255, -0.0808, -0.1219, -0.1339, -0.1786, -0.182, -0.1875, -0.4364, -0.5603, -0.4089, -0.5225, 2.9222, 1.0484, 0.8884, 0.7027, 0.6428, 0.6374, 0.6361, 0.5925, 0.4176, 0.417, 0.3969, 0.3318, 0.3183, 0.3075, 0.2953, 0.2695, 0.2467, 0.2041, 0.188, 0.1852, 0.1139, 0.0484, -0.0518, -0.0615, -0.0701, -0.0786, -0.091, -0.0928, -0.2432, -0.2441, -0.2526, -0.2705, -0.2827, 2.6834, 1.1254, 0.8898, 0.8648, 0.7992, 0.791, 0.7183, 0.6204, 0.5028, 0.4325, 0.2783, 0.2516, 0.1755, 0.1405, 0.1181, 0.1179, 0.1148, 0.0832, 0.0368, 0.0355, 0.0341, -0.0222, -0.0412, -0.0498, -0.0556, -0.0766, -0.0986, -0.1161, -0.1405, -0.1927, -0.2049, -0.375, -0.3263, -0.3011, -0.3903, -0.4191, 3.0861, 0.9654, 0.7956, 0.7625, 0.68, 0.5758, 0.5162, 0.4571, 0.4496, 0.4474, 0.4377, 0.3573, 0.352, 0.2987, 0.2939, 0.2869, 0.2339, 0.1863, 0.1805, 0.1782, 0.1526, 0.1223, 0.1201, 0.1196, 0.1053, 0.0864, 0.0842, 0.0768, 0.0517, 0.0357, 0.0337, 0.0131, -0.0859, -0.1869, -0.169, -0.373, 2.4278, 1.3673, 1.3557, 0.8584, 0.8175, 0.7829, 0.655, 0.6331, 0.5742, 0.4234, 0.3875, 0.3608, 0.253, 0.2452, 0.2053, 0.1854, 0.1851, 0.1584, 0.1565, 0.1538, 0.1361, 0.0705, 0.0558, 0.0264, -0.0062, -0.0617, -0.0875, -0.1001, -0.1342, -0.147, -0.2389, -0.2303, -0.241, -0.5226, -0.6222, 3.1055, 1.7811, 0.9544, 0.8705, 0.7823, 0.6848, 0.6739, 0.5571, 0.4263, 0.2917, 0.2253, 0.1837, 0.1556, 0.0389, 0.0361, 0.0197, 0.0174, -0.023, -0.0368, -0.0604, -0.0704, -0.0776, -0.0866, -0.0912, -0.1635, -0.1819, -0.186, -0.2293, -0.2405, -0.2409, -0.2557, -0.2882, -0.2673, -0.2581, -0.3678, -0.5242, -0.3379, -0.4802, -0.3832, -0.457, 2.7071, 1.9837, 1.5561, 0.9491, 0.7417, 0.6908, 0.6494, 0.5635, 0.5377, 0.4791, 0.472, 0.3031, 0.29, 0.2635, 0.2515, 0.2062, 0.1168, 0.0569, 0.0524, 0.033, -0.0104, -0.0117, -0.0246, -0.0536, -0.099, -0.1268, -0.1316, -0.1364, -0.1411, -0.1744, -0.1858, -0.2444, -0.2178, -0.244, -0.5577, -0.4858, -0.4283, 2.6657, 1.3526, 0.7708, 0.7449, 0.7218, 0.6658, 0.5831, 0.4716, 0.3796, 0.374, 0.3308, 0.3092, 0.2853, 0.2328, 0.2095, 0.1902, 0.1691, 0.1606, 0.1255, 0.0971, 0.0949, 0.0813, 0.0711, 0.009, 0.0073, -0.0169, -0.0288, -0.0603, -0.0671, -0.071, -0.0826, -0.1276, -0.1246, -0.2435, -0.1218, -0.2605, -0.0908, -0.2811, -0.1448, 2.7719, 1.7872, 1.4, 1.2527, 0.9188, 0.8562, 0.7048, 0.6725, 0.6133, 0.5481, 0.5296, 0.4805, 0.4007, 0.3729, 0.3085, 0.1965, 0.1716, 0.146, 0.0949, 0.072, -0.0618, -0.0674, -0.0718, -0.088, -0.1204, -0.1242, -0.1392, -0.1511, -0.168, -0.2025, -0.264, -0.3272, -0.2716, -0.3803, -0.3446, -0.7121, -0.7111, 2.2606, 2.2251, 0.9327, 0.9199, 0.8585, 0.7889, 0.6237, 0.4847, 0.4152, 0.3996, 0.3417, 0.3111, 0.2795, 0.2784, 0.2656, 0.2646, 0.2632, 0.262, 0.2511, 0.2368, 0.2256, 0.1378, 0.1167, 0.1146, 0.1072, 0.0974, 0.0742, 0.0697, 0.0412, 0.0119, -0.0258, 0.0104, -0.0955, -0.0437, -0.1113, -0.3005, -0.4037, -0.4016, 2.6048, 1.2917, 1.2895, 1.2514, 1.1839, 0.9708, 0.9319, 0.684, 0.6153, 0.5901, 0.5873, 0.5814, 0.5789, 0.4972, 0.4631, 0.1955, 0.1631, 0.106, 0.0874, 0.0483, 0.0271, 0.0266, -0.072, -0.0747, -0.0828, -0.144, -0.17, -0.1726, -0.1833, -0.2249, -0.2277, -0.267, -0.3431, -0.3106, -0.4438, -0.2883, -0.8006, 1.6441, 1.4741, 1.2339, 1.2302, 0.9414, 0.8975, 0.7752, 0.7438, 0.7433, 0.6939, 0.6232, 0.5937, 0.3954, 0.3791, 0.3754, 0.3387, 0.338, 0.3253, 0.2595, 0.2431, 0.2393, 0.2387, 0.2311, 0.2296, 0.2152, 0.1926, 0.1658, 0.1655, 0.1339, 0.1326, 0.0986, 0.0348, 0.0331, -0.1294, -0.1824, -0.1395, -0.2757, -0.5863, 1.2755, 1.1503, 1.1495, 0.964, 0.9186, 0.895, 0.8861, 0.8588, 0.8324, 0.5978, 0.5056, 0.447, 0.4201, 0.405, 0.4016, 0.3982, 0.3804, 0.3701, 0.3633, 0.2933, 0.247, 0.2283, 0.2244, 0.1943, 0.1785, 0.1507, 0.1456, 0.1329, 0.11, 0.0994, 0.0918, 0.0441, -0.0208, -0.0259, 0.0703, -0.033, -0.2125, -0.0572, -0.2414, -0.5965, -0.0876, 1.7602, 1.0653, 1.0496, 1.0448, 0.9965, 0.7987, 0.7193, 0.7065, 0.6504, 0.6053, 0.5621, 0.5524, 0.5354, 0.5301, 0.4578, 0.439, 0.3842, 0.2986, 0.2491, 0.2461, 0.2353, 0.2288, 0.1986, 0.1144, 0.0765, 0.0576, 0.0434, 0.0309, 0.0278, -0.0089, -0.0163, -0.1645, -0.1179, -0.3952, -0.2974, 1.0286, 0.9728, 0.9666, 0.8558, 0.7374, 0.703, 0.6717, 0.5575, 0.5485, 0.5442, 0.5384, 0.5142, 0.4819, 0.4742, 0.4679, 0.4635, 0.4454, 0.4114, 0.408, 0.3837, 0.3711, 0.3597, 0.3272, 0.3162, 0.3104, 0.2803, 0.2688, 0.2676, 0.2613, 0.2447, 0.2422, 0.1122, -0.0535, 0.0414, -0.2255, -0.2777, -0.039, 2.3585, 1.3181, 1.083, 0.844, 0.7536, 0.6336, 0.5997, 0.584, 0.5719, 0.4816, 0.4694, 0.4246, 0.4132, 0.3805, 0.3375, 0.3317, 0.3161, 0.2788, 0.2662, 0.2254, 0.2144, 0.2114, 0.2079, 0.2028, 0.1935, 0.1771, 0.167, 0.0997, 0.0838, 0.037, -0.006, 0.0301, -0.1432, -0.5153, -0.1999, -0.5813, -0.4213, -0.5385, 2.0856, 1.882, 1.4008, 1.1855, 0.9479, 0.9027, 0.8692, 0.781, 0.6265, 0.6233, 0.4897, 0.4881, 0.4865, 0.3755, 0.3431, 0.3335, 0.3019, 0.2915, 0.2871, 0.2855, 0.2634, 0.1559, 0.1128, 0.0928, 0.0624, -0.0002, -0.0065, -0.0182, -0.0195, -0.0475, -0.0721, -0.1554, -0.18, -0.2262, -0.342, -0.3359]}, \"token.table\": {\"Topic\": [1, 2, 3, 5, 6, 8, 10, 11, 13, 15, 16, 17, 18, 19, 20, 21, 22, 23, 24, 25, 27, 28, 31, 32, 35, 37, 39, 45, 46, 47, 48, 49, 50, 56, 57, 58, 60, 63, 65, 66, 68, 69, 70, 72, 73, 75, 76, 77, 78, 79, 80, 1, 2, 3, 4, 5, 7, 8, 9, 10, 11, 13, 14, 15, 16, 17, 19, 20, 21, 22, 23, 24, 25, 26, 28, 30, 31, 32, 33, 34, 35, 37, 38, 42, 45, 46, 48, 51, 52, 55, 58, 64, 66, 67, 68, 69, 70, 71, 72, 73, 74, 75, 76, 77, 78, 79, 80, 1, 2, 3, 4, 5, 6, 7, 8, 9, 10, 11, 13, 14, 15, 16, 17, 20, 21, 22, 23, 24, 26, 27, 28, 31, 33, 34, 35, 38, 39, 40, 43, 45, 46, 47, 48, 49, 50, 52, 56, 59, 60, 62, 64, 65, 66, 68, 69, 70, 71, 73, 75, 76, 77, 78, 79, 80, 1, 2, 3, 4, 5, 6, 7, 8, 9, 10, 11, 12, 13, 14, 15, 16, 17, 18, 19, 20, 21, 22, 23, 24, 26, 27, 28, 30, 31, 32, 33, 34, 35, 36, 37, 38, 39, 40, 41, 42, 43, 44, 45, 47, 48, 49, 50, 51, 52, 55, 56, 57, 58, 63, 65, 66, 67, 68, 70, 71, 72, 73, 74, 75, 76, 77, 78, 79, 80, 1, 2, 3, 4, 5, 6, 7, 8, 9, 10, 11, 12, 13, 15, 16, 17, 18, 19, 20, 21, 22, 23, 24, 25, 26, 27, 28, 30, 31, 32, 33, 34, 35, 36, 39, 40, 41, 43, 44, 45, 46, 47, 48, 49, 50, 51, 52, 53, 55, 56, 57, 58, 60, 61, 64, 65, 66, 67, 68, 69, 70, 71, 72, 73, 74, 75, 76, 77, 78, 79, 80, 1, 2, 3, 4, 6, 7, 8, 9, 11, 12, 13, 15, 16, 17, 18, 19, 20, 21, 23, 24, 25, 26, 27, 28, 30, 31, 32, 33, 34, 35, 36, 37, 43, 44, 46, 47, 48, 49, 50, 52, 53, 55, 57, 60, 62, 65, 67, 68, 69, 70, 71, 73, 74, 75, 76, 77, 78, 79, 80, 1, 2, 3, 4, 5, 6, 8, 9, 10, 11, 12, 13, 14, 15, 16, 17, 18, 20, 22, 23, 24, 25, 26, 27, 28, 30, 32, 33, 34, 37, 38, 39, 41, 43, 45, 46, 47, 48, 49, 52, 53, 54, 55, 56, 58, 60, 61, 63, 64, 65, 66, 67, 68, 70, 71, 72, 73, 75, 76, 77, 78, 79, 80, 1, 2, 3, 4, 5, 6, 7, 8, 9, 10, 11, 12, 13, 14, 15, 16, 17, 18, 19, 20, 21, 22, 23, 24, 25, 26, 27, 28, 29, 30, 31, 32, 33, 34, 35, 36, 37, 39, 41, 42, 43, 44, 45, 46, 47, 48, 49, 50, 51, 52, 53, 54, 56, 57, 58, 59, 60, 61, 62, 63, 64, 66, 67, 68, 69, 70, 71, 72, 73, 74, 75, 76, 77, 78, 79, 80, 1, 4, 5, 6, 7, 8, 9, 10, 11, 12, 13, 15, 16, 17, 19, 20, 22, 23, 24, 25, 26, 27, 28, 30, 31, 32, 35, 37, 39, 40, 41, 43, 44, 45, 47, 49, 52, 63, 65, 67, 68, 70, 73, 75, 76, 77, 78, 80, 5, 8, 9, 10, 11, 16, 17, 19, 20, 23, 24, 26, 37, 40, 41, 43, 47, 52, 64, 67, 68, 70, 72, 74, 75, 76, 77, 78, 79, 80, 1, 2, 4, 5, 6, 7, 8, 9, 10, 11, 12, 13, 14, 15, 16, 17, 18, 19, 20, 21, 22, 23, 24, 25, 26, 27, 28, 30, 31, 32, 33, 35, 36, 37, 39, 40, 41, 43, 45, 47, 48, 50, 52, 56, 57, 60, 63, 64, 65, 66, 67, 68, 70, 71, 72, 73, 74, 75, 76, 77, 78, 79, 80, 1, 2, 3, 4, 5, 6, 7, 8, 9, 10, 11, 12, 13, 14, 15, 16, 17, 18, 19, 20, 21, 22, 23, 24, 25, 26, 27, 28, 29, 30, 31, 32, 33, 34, 36, 37, 38, 40, 43, 44, 45, 46, 47, 48, 49, 50, 51, 52, 53, 55, 56, 57, 58, 60, 61, 64, 65, 66, 67, 68, 69, 70, 71, 72, 73, 74, 75, 76, 77, 78, 79, 80, 1, 2, 3, 4, 5, 7, 8, 9, 10, 11, 12, 13, 14, 15, 16, 17, 19, 20, 21, 22, 23, 24, 26, 28, 29, 30, 31, 32, 33, 34, 35, 37, 38, 41, 42, 43, 45, 47, 48, 49, 50, 51, 52, 54, 55, 56, 58, 60, 63, 64, 66, 67, 68, 69, 70, 71, 72, 73, 74, 75, 76, 77, 78, 79, 80, 1, 2, 3, 4, 5, 6, 7, 8, 9, 10, 11, 12, 13, 14, 15, 16, 17, 18, 19, 20, 21, 22, 23, 24, 25, 26, 27, 28, 29, 30, 31, 32, 33, 34, 35, 36, 37, 38, 39, 40, 41, 42, 43, 44, 45, 46, 47, 48, 49, 50, 51, 52, 54, 56, 57, 58, 59, 62, 63, 64, 65, 66, 67, 68, 69, 70, 71, 72, 73, 74, 75, 76, 77, 78, 79, 80, 1, 2, 3, 4, 5, 6, 7, 8, 9, 10, 11, 12, 13, 14, 15, 16, 17, 18, 19, 20, 21, 22, 23, 24, 25, 26, 27, 28, 29, 30, 31, 32, 33, 34, 35, 36, 37, 38, 39, 40, 41, 42, 43, 44, 45, 46, 47, 48, 49, 50, 51, 52, 53, 54, 55, 56, 57, 58, 59, 60, 61, 62, 63, 64, 65, 66, 67, 68, 69, 70, 71, 72, 73, 74, 75, 76, 77, 78, 79, 80, 1, 3, 4, 6, 8, 11, 13, 15, 16, 17, 18, 31, 36, 37, 42, 43, 47, 66, 72, 73, 76, 77, 78, 1, 2, 3, 4, 5, 6, 7, 8, 9, 10, 11, 12, 13, 14, 15, 16, 17, 18, 19, 20, 21, 22, 24, 25, 26, 28, 29, 30, 31, 32, 33, 34, 35, 36, 37, 39, 40, 41, 42, 43, 44, 45, 46, 47, 48, 49, 50, 51, 52, 53, 54, 55, 56, 57, 58, 59, 60, 61, 63, 64, 65, 66, 67, 68, 69, 70, 71, 73, 74, 75, 76, 78, 79, 80, 1, 2, 3, 4, 5, 6, 7, 8, 9, 10, 11, 12, 13, 14, 15, 16, 17, 18, 19, 20, 21, 22, 23, 24, 25, 26, 27, 28, 29, 30, 31, 32, 33, 34, 35, 36, 37, 38, 40, 41, 42, 43, 44, 45, 46, 47, 48, 49, 50, 51, 52, 53, 54, 55, 56, 57, 58, 59, 60, 61, 62, 63, 64, 65, 66, 67, 68, 69, 70, 71, 72, 73, 74, 75, 76, 77, 78, 79, 80, 1, 2, 3, 4, 5, 6, 7, 8, 9, 11, 12, 13, 14, 15, 16, 17, 18, 20, 21, 22, 23, 24, 25, 26, 27, 28, 30, 31, 33, 34, 35, 36, 38, 40, 42, 43, 44, 45, 46, 47, 49, 50, 51, 52, 53, 54, 55, 56, 57, 58, 61, 63, 64, 66, 67, 68, 69, 70, 71, 72, 73, 74, 75, 76, 77, 78, 79, 80, 1, 2, 3, 4, 5, 6, 7, 8, 9, 10, 11, 12, 13, 14, 15, 16, 17, 18, 19, 20, 21, 22, 23, 24, 25, 26, 27, 28, 30, 31, 33, 34, 35, 36, 37, 38, 39, 40, 43, 44, 45, 46, 47, 48, 49, 50, 51, 52, 53, 55, 56, 57, 58, 59, 60, 61, 63, 64, 65, 66, 67, 68, 69, 70, 71, 72, 73, 74, 75, 76, 77, 78, 79, 80, 1, 2, 3, 4, 5, 6, 7, 8, 9, 10, 11, 12, 13, 14, 15, 16, 17, 19, 20, 21, 22, 23, 24, 25, 26, 27, 28, 29, 30, 31, 35, 36, 37, 39, 40, 41, 43, 44, 45, 47, 48, 49, 50, 51, 52, 53, 54, 57, 60, 62, 63, 64, 65, 66, 67, 68, 69, 70, 71, 72, 73, 74, 75, 76, 77, 78, 79, 80, 1, 2, 3, 4, 5, 6, 7, 8, 9, 10, 11, 12, 13, 14, 15, 16, 17, 18, 19, 20, 21, 22, 23, 24, 25, 26, 27, 28, 29, 30, 31, 32, 33, 34, 35, 36, 37, 38, 39, 40, 41, 42, 43, 44, 45, 46, 47, 48, 49, 50, 51, 52, 53, 54, 55, 56, 57, 58, 59, 60, 61, 62, 63, 64, 65, 66, 67, 68, 69, 70, 71, 72, 73, 74, 75, 76, 77, 78, 79, 80, 1, 2, 3, 4, 5, 6, 7, 8, 9, 11, 12, 13, 14, 15, 16, 17, 18, 20, 21, 22, 23, 24, 25, 26, 27, 28, 29, 30, 31, 32, 33, 34, 35, 36, 37, 39, 40, 41, 42, 43, 44, 45, 46, 47, 48, 49, 50, 51, 52, 53, 54, 55, 56, 57, 58, 59, 60, 62, 63, 64, 65, 66, 67, 68, 69, 70, 71, 72, 73, 74, 75, 76, 77, 78, 79, 80, 1, 2, 3, 5, 6, 7, 8, 9, 10, 11, 12, 13, 14, 15, 16, 17, 18, 19, 20, 22, 23, 24, 25, 26, 27, 28, 30, 31, 32, 33, 34, 35, 36, 37, 38, 39, 40, 41, 42, 43, 44, 45, 46, 47, 48, 49, 50, 51, 52, 54, 56, 57, 58, 60, 61, 63, 64, 65, 66, 67, 68, 69, 70, 71, 72, 73, 74, 75, 76, 77, 78, 79, 80, 1, 2, 4, 5, 6, 8, 9, 11, 12, 13, 15, 16, 17, 18, 19, 20, 22, 24, 27, 28, 31, 33, 34, 35, 37, 41, 42, 47, 63, 66, 67, 69, 71, 72, 73, 74, 75, 76, 77, 78, 80, 1, 2, 3, 4, 5, 6, 7, 8, 9, 10, 11, 12, 13, 14, 15, 16, 17, 19, 20, 22, 23, 24, 25, 26, 27, 28, 30, 31, 32, 33, 34, 35, 36, 37, 38, 39, 40, 41, 42, 43, 44, 45, 46, 47, 48, 50, 51, 52, 56, 57, 60, 61, 63, 65, 67, 70, 71, 72, 74, 75, 76, 77, 78, 79, 80, 1, 2, 3, 4, 5, 6, 7, 8, 9, 10, 11, 12, 13, 14, 15, 16, 17, 18, 19, 20, 21, 22, 23, 24, 25, 26, 27, 28, 29, 30, 31, 32, 33, 34, 35, 36, 37, 38, 39, 40, 41, 42, 43, 44, 45, 46, 47, 48, 49, 50, 51, 52, 53, 54, 55, 56, 57, 58, 59, 60, 61, 62, 63, 64, 65, 66, 67, 68, 69, 70, 71, 72, 73, 74, 75, 76, 77, 78, 79, 80, 1, 2, 3, 4, 5, 6, 7, 8, 9, 10, 11, 12, 13, 14, 15, 16, 17, 18, 19, 20, 22, 23, 24, 25, 26, 27, 28, 30, 31, 32, 33, 34, 35, 36, 37, 38, 39, 42, 43, 44, 46, 47, 48, 49, 50, 51, 52, 54, 55, 56, 57, 58, 59, 60, 61, 62, 63, 64, 65, 66, 67, 69, 70, 71, 72, 73, 74, 75, 76, 77, 78, 79, 80, 1, 2, 3, 4, 5, 6, 7, 8, 9, 10, 11, 12, 13, 14, 15, 16, 17, 18, 19, 20, 22, 23, 24, 25, 26, 27, 28, 30, 31, 33, 34, 35, 36, 37, 38, 39, 42, 43, 44, 45, 47, 48, 49, 50, 51, 52, 53, 55, 57, 58, 60, 61, 62, 63, 64, 65, 66, 68, 69, 70, 71, 72, 73, 75, 76, 77, 78, 79, 80, 1, 2, 3, 4, 5, 6, 7, 8, 9, 10, 11, 12, 13, 14, 15, 16, 17, 18, 19, 20, 21, 22, 23, 24, 25, 26, 27, 28, 29, 30, 31, 32, 33, 34, 35, 36, 37, 38, 39, 40, 41, 42, 43, 44, 45, 46, 47, 48, 49, 50, 51, 52, 53, 54, 55, 56, 57, 58, 59, 60, 61, 62, 63, 64, 65, 66, 67, 68, 69, 70, 71, 72, 73, 74, 75, 76, 77, 78, 79, 80, 1, 2, 3, 4, 5, 6, 7, 8, 10, 11, 12, 13, 14, 15, 16, 17, 18, 19, 20, 21, 22, 23, 24, 25, 26, 27, 28, 29, 30, 31, 32, 33, 34, 35, 36, 37, 38, 39, 42, 43, 44, 45, 46, 47, 48, 49, 50, 51, 52, 53, 56, 57, 58, 60, 63, 64, 65, 66, 67, 68, 69, 70, 71, 72, 73, 74, 75, 76, 77, 78, 79, 80, 1, 3, 4, 5, 6, 7, 8, 11, 12, 13, 15, 16, 17, 20, 21, 22, 24, 25, 26, 27, 28, 30, 31, 35, 36, 37, 39, 43, 46, 47, 48, 51, 52, 54, 56, 57, 58, 65, 66, 67, 68, 69, 70, 71, 72, 73, 74, 75, 77, 78, 79, 80, 2, 4, 5, 6, 8, 9, 13, 14, 15, 16, 18, 22, 23, 31, 33, 36, 42, 43, 47, 58, 60, 72, 76, 78, 80, 1, 2, 4, 13, 15, 18, 20, 22, 27, 31, 43, 47, 58, 72, 73, 75, 76, 78, 79, 1, 2, 3, 4, 5, 6, 7, 8, 9, 11, 12, 13, 15, 16, 17, 18, 19, 20, 21, 22, 23, 24, 25, 26, 27, 28, 29, 30, 31, 32, 33, 34, 35, 36, 37, 38, 39, 40, 41, 42, 43, 44, 45, 46, 47, 48, 49, 50, 51, 52, 53, 54, 55, 56, 57, 58, 59, 60, 61, 62, 63, 64, 65, 66, 67, 68, 69, 70, 71, 72, 73, 74, 75, 76, 77, 78, 79, 80, 1, 2, 3, 4, 5, 6, 7, 8, 9, 11, 12, 13, 14, 15, 16, 17, 20, 22, 24, 25, 26, 27, 28, 30, 31, 32, 33, 35, 36, 37, 38, 41, 43, 45, 46, 47, 48, 52, 53, 55, 56, 60, 64, 65, 66, 67, 69, 70, 72, 75, 76, 77, 78, 79, 80, 1, 2, 3, 4, 5, 6, 7, 8, 9, 11, 12, 13, 14, 15, 16, 17, 18, 19, 20, 22, 24, 25, 26, 27, 28, 29, 30, 31, 32, 33, 34, 35, 36, 37, 38, 39, 40, 42, 43, 44, 45, 46, 47, 48, 49, 50, 51, 52, 53, 54, 55, 56, 57, 58, 59, 60, 61, 62, 63, 64, 65, 66, 67, 68, 69, 70, 71, 72, 73, 74, 75, 76, 77, 78, 79, 80, 1, 2, 3, 4, 5, 6, 7, 8, 9, 11, 12, 13, 15, 16, 17, 18, 19, 20, 21, 23, 24, 25, 26, 28, 30, 31, 34, 35, 36, 37, 38, 39, 42, 43, 44, 45, 47, 48, 49, 50, 51, 52, 53, 56, 58, 63, 64, 65, 67, 69, 70, 72, 73, 74, 75, 76, 77, 78, 79, 80, 1, 2, 3, 4, 6, 8, 9, 11, 12, 13, 14, 15, 16, 17, 18, 19, 20, 23, 24, 25, 26, 27, 28, 29, 30, 31, 33, 35, 42, 43, 47, 48, 50, 51, 52, 56, 57, 58, 65, 66, 67, 68, 70, 71, 73, 74, 75, 76, 78, 79, 80, 1, 2, 3, 4, 5, 6, 7, 8, 9, 10, 11, 13, 14, 15, 16, 17, 18, 19, 20, 21, 23, 24, 25, 26, 27, 28, 29, 30, 31, 32, 33, 34, 35, 36, 37, 38, 39, 41, 42, 44, 45, 46, 47, 48, 49, 50, 51, 53, 54, 55, 56, 57, 58, 59, 60, 64, 65, 66, 67, 68, 70, 71, 72, 73, 74, 76, 77, 78, 79, 80, 1, 2, 3, 4, 5, 6, 7, 8, 9, 10, 11, 12, 13, 14, 15, 16, 17, 18, 19, 20, 21, 22, 23, 24, 25, 26, 27, 28, 29, 30, 31, 32, 33, 34, 35, 36, 37, 38, 39, 40, 41, 42, 43, 44, 45, 46, 47, 48, 49, 50, 51, 52, 53, 54, 55, 56, 57, 58, 60, 61, 63, 64, 65, 66, 67, 68, 70, 71, 72, 73, 74, 75, 76, 77, 78, 79, 80, 1, 2, 3, 4, 5, 6, 7, 8, 9, 10, 11, 12, 13, 14, 15, 16, 17, 18, 19, 20, 21, 22, 23, 24, 25, 26, 27, 28, 30, 31, 32, 33, 34, 35, 36, 37, 38, 40, 41, 42, 43, 44, 45, 46, 47, 48, 49, 50, 51, 52, 53, 54, 55, 56, 57, 59, 60, 61, 62, 63, 64, 65, 66, 67, 68, 69, 71, 72, 73, 74, 75, 76, 77, 78, 79, 80, 2, 4, 6, 7, 8, 9, 11, 12, 13, 14, 15, 16, 17, 19, 22, 24, 25, 26, 29, 30, 31, 34, 35, 36, 39, 43, 44, 46, 47, 52, 56, 64, 65, 66, 70, 73, 74, 75, 76, 77, 78, 79, 1, 2, 3, 4, 5, 6, 7, 8, 9, 10, 11, 12, 13, 15, 16, 17, 18, 19, 20, 21, 22, 23, 24, 25, 26, 27, 28, 30, 31, 32, 34, 35, 36, 37, 38, 39, 41, 42, 43, 45, 46, 47, 48, 49, 51, 52, 53, 54, 55, 56, 58, 59, 60, 63, 65, 66, 67, 68, 69, 70, 71, 72, 73, 74, 75, 76, 77, 78, 79, 80, 1, 2, 3, 4, 5, 6, 7, 8, 9, 10, 11, 12, 13, 14, 15, 16, 17, 18, 19, 20, 21, 22, 23, 24, 26, 27, 28, 30, 31, 32, 33, 34, 35, 36, 37, 39, 42, 43, 44, 45, 46, 47, 48, 49, 50, 52, 56, 57, 58, 62, 65, 66, 67, 68, 70, 71, 73, 74, 75, 76, 78, 1, 2, 3, 4, 5, 7, 8, 9, 11, 12, 13, 14, 15, 16, 17, 19, 20, 21, 22, 23, 24, 25, 27, 28, 30, 31, 32, 34, 35, 36, 37, 38, 39, 40, 42, 43, 44, 45, 46, 47, 48, 50, 51, 52, 53, 54, 55, 56, 57, 58, 61, 62, 63, 65, 66, 67, 68, 70, 71, 72, 73, 74, 75, 76, 77, 78, 79, 80, 1, 2, 3, 4, 5, 6, 7, 8, 9, 11, 12, 13, 15, 16, 17, 18, 19, 20, 21, 22, 23, 24, 26, 27, 28, 30, 34, 36, 37, 39, 40, 41, 43, 45, 47, 49, 51, 52, 55, 57, 60, 63, 64, 65, 67, 68, 69, 70, 71, 72, 73, 76, 77, 78, 80, 1, 2, 4, 5, 6, 8, 9, 11, 13, 16, 17, 18, 19, 20, 24, 27, 29, 30, 31, 33, 34, 35, 36, 39, 42, 43, 44, 47, 48, 49, 52, 55, 56, 57, 58, 60, 63, 64, 69, 71, 72, 73, 74, 76, 77, 78, 79, 80, 1, 2, 3, 5, 6, 8, 9, 10, 11, 12, 13, 15, 16, 17, 18, 19, 20, 22, 23, 24, 26, 27, 28, 30, 31, 32, 33, 35, 36, 37, 38, 42, 43, 45, 46, 47, 49, 50, 55, 56, 57, 58, 63, 64, 66, 67, 68, 70, 71, 72, 73, 74, 75, 76, 78, 79, 80, 1, 4, 5, 6, 7, 8, 11, 13, 14, 16, 17, 18, 20, 21, 23, 24, 26, 27, 28, 31, 34, 38, 39, 42, 43, 46, 48, 50, 56, 59, 60, 67, 69, 70, 71, 75, 77, 78, 79, 80, 1, 2, 3, 4, 5, 6, 7, 8, 9, 11, 12, 13, 14, 15, 16, 17, 19, 20, 21, 22, 24, 25, 26, 27, 28, 30, 31, 32, 33, 34, 35, 36, 37, 38, 39, 42, 43, 44, 46, 47, 48, 49, 50, 52, 53, 55, 56, 57, 58, 60, 61, 63, 64, 65, 66, 67, 68, 69, 70, 71, 72, 73, 74, 75, 76, 77, 78, 79, 80, 1, 2, 3, 4, 5, 6, 7, 8, 9, 10, 11, 12, 13, 14, 15, 16, 17, 18, 19, 20, 21, 22, 23, 24, 25, 26, 27, 28, 29, 30, 31, 32, 33, 34, 35, 36, 37, 38, 39, 40, 41, 42, 43, 44, 45, 46, 47, 48, 49, 50, 51, 52, 53, 54, 55, 56, 57, 58, 59, 60, 61, 62, 63, 64, 65, 66, 67, 68, 69, 70, 71, 72, 73, 74, 75, 76, 77, 78, 79, 80, 1, 3, 4, 8, 9, 11, 14, 15, 16, 17, 19, 20, 21, 24, 25, 26, 27, 28, 30, 31, 33, 35, 37, 39, 41, 43, 44, 45, 46, 47, 49, 50, 52, 54, 55, 56, 60, 64, 65, 66, 67, 70, 71, 72, 75, 76, 77, 78, 79, 1, 2, 3, 4, 5, 6, 7, 8, 9, 11, 12, 13, 14, 15, 16, 17, 18, 19, 20, 21, 22, 24, 25, 26, 27, 28, 30, 31, 32, 33, 35, 36, 37, 39, 41, 43, 44, 45, 46, 47, 48, 49, 50, 51, 52, 53, 55, 57, 58, 60, 62, 64, 65, 67, 68, 69, 70, 71, 72, 73, 74, 75, 76, 77, 78, 80, 1, 2, 3, 4, 5, 6, 7, 8, 10, 11, 12, 13, 14, 15, 16, 17, 20, 21, 25, 26, 28, 30, 31, 35, 36, 37, 40, 42, 43, 44, 47, 50, 52, 53, 65, 66, 68, 69, 71, 74, 75, 76, 77, 78, 79, 80, 1, 3, 4, 5, 11, 12, 17, 20, 21, 24, 27, 28, 31, 35, 45, 50, 56, 63, 66, 71, 74, 75, 78, 79, 1, 2, 3, 4, 5, 6, 7, 8, 9, 10, 11, 12, 13, 14, 15, 16, 17, 18, 19, 20, 21, 22, 23, 24, 25, 26, 27, 28, 29, 30, 31, 32, 33, 34, 35, 36, 37, 38, 39, 40, 41, 42, 43, 44, 45, 46, 47, 48, 49, 50, 51, 52, 53, 54, 55, 56, 57, 58, 59, 60, 61, 62, 63, 64, 65, 66, 67, 68, 69, 70, 71, 72, 73, 74, 75, 76, 77, 78, 79, 80, 1, 2, 3, 4, 5, 6, 7, 8, 9, 11, 12, 13, 14, 15, 16, 17, 18, 19, 20, 21, 22, 23, 24, 25, 26, 27, 28, 29, 30, 31, 32, 33, 34, 35, 36, 37, 39, 40, 41, 42, 43, 44, 45, 46, 47, 48, 49, 50, 51, 52, 55, 56, 57, 58, 64, 65, 66, 67, 68, 69, 71, 72, 73, 74, 75, 76, 77, 78, 79, 80, 1, 2, 3, 4, 5, 6, 7, 8, 10, 11, 12, 13, 14, 15, 16, 18, 19, 20, 21, 22, 24, 25, 28, 31, 32, 35, 43, 50, 56, 57, 63, 66, 68, 73, 74, 75, 77, 78, 79, 80, 1, 2, 3, 4, 5, 6, 7, 8, 9, 11, 12, 13, 15, 16, 17, 19, 20, 21, 22, 23, 24, 25, 26, 27, 28, 30, 32, 33, 34, 35, 36, 37, 39, 43, 44, 45, 47, 48, 49, 50, 51, 52, 54, 58, 63, 64, 66, 67, 69, 70, 71, 72, 73, 74, 75, 76, 77, 78, 79, 80, 1, 2, 3, 4, 5, 6, 7, 8, 9, 10, 11, 12, 13, 14, 15, 16, 17, 18, 19, 20, 21, 22, 23, 24, 25, 26, 27, 28, 29, 30, 31, 32, 33, 34, 35, 36, 37, 38, 39, 40, 41, 42, 43, 44, 45, 46, 47, 48, 49, 50, 51, 52, 53, 54, 55, 56, 57, 58, 61, 62, 63, 64, 65, 66, 67, 68, 69, 70, 71, 72, 73, 74, 75, 76, 78, 79, 80, 1, 2, 3, 4, 5, 6, 7, 8, 11, 12, 13, 15, 16, 17, 18, 19, 20, 22, 23, 24, 26, 27, 30, 31, 32, 33, 34, 35, 36, 37, 41, 42, 44, 45, 46, 47, 48, 49, 50, 51, 52, 53, 54, 56, 57, 58, 60, 64, 66, 68, 69, 70, 71, 72, 73, 74, 75, 76, 77, 78, 79, 80, 1, 2, 3, 4, 5, 6, 8, 9, 11, 12, 13, 14, 15, 16, 17, 19, 20, 21, 22, 24, 26, 28, 30, 31, 32, 35, 36, 37, 38, 39, 41, 42, 43, 46, 47, 48, 49, 50, 51, 52, 53, 54, 55, 56, 60, 64, 66, 67, 70, 71, 72, 73, 74, 75, 76, 77, 78, 79, 1, 2, 3, 4, 5, 6, 7, 8, 9, 10, 11, 12, 13, 14, 15, 16, 17, 18, 19, 20, 22, 23, 24, 25, 26, 28, 29, 30, 31, 32, 33, 34, 35, 36, 37, 38, 39, 41, 42, 43, 44, 45, 46, 47, 48, 49, 50, 52, 53, 54, 55, 56, 57, 58, 60, 61, 63, 64, 65, 66, 67, 68, 69, 70, 71, 72, 73, 74, 75, 76, 77, 78, 79, 80, 1, 2, 3, 4, 5, 6, 7, 8, 9, 10, 11, 12, 13, 14, 15, 16, 17, 18, 19, 20, 21, 22, 23, 24, 25, 26, 27, 28, 30, 31, 32, 33, 34, 35, 36, 37, 38, 39, 40, 41, 42, 43, 44, 45, 46, 47, 48, 49, 50, 51, 52, 53, 54, 55, 56, 57, 58, 59, 60, 61, 62, 63, 64, 65, 66, 67, 68, 69, 70, 71, 72, 73, 74, 75, 76, 77, 78, 79, 80, 1, 3, 4, 5, 11, 12, 16, 17, 20, 27, 28, 30, 31, 33, 34, 42, 50, 56, 58, 66, 69, 74, 75, 76, 77, 78, 79, 80, 2, 3, 4, 5, 7, 8, 9, 11, 12, 13, 14, 15, 17, 19, 20, 21, 22, 23, 24, 26, 28, 31, 34, 35, 36, 40, 41, 43, 45, 47, 49, 50, 52, 56, 63, 65, 66, 68, 69, 70, 73, 74, 75, 76, 77, 78, 80, 1, 2, 4, 5, 6, 7, 8, 11, 12, 13, 14, 15, 16, 17, 19, 20, 21, 22, 23, 24, 26, 27, 28, 30, 33, 35, 37, 40, 44, 45, 46, 47, 49, 50, 52, 58, 59, 65, 66, 67, 69, 70, 71, 72, 75, 76, 77, 78, 79, 80, 1, 2, 3, 4, 5, 8, 11, 12, 15, 17, 18, 20, 21, 24, 28, 30, 31, 33, 34, 42, 47, 49, 52, 54, 56, 66, 71, 72, 73, 74, 75, 76, 78, 79, 80, 2, 3, 4, 5, 6, 7, 8, 9, 11, 12, 13, 15, 16, 17, 18, 19, 20, 21, 23, 24, 25, 26, 27, 28, 30, 31, 33, 35, 39, 43, 45, 47, 49, 50, 52, 53, 56, 58, 59, 63, 64, 66, 67, 68, 69, 71, 72, 73, 74, 76, 77, 78, 79, 80, 1, 2, 4, 5, 6, 7, 8, 11, 12, 13, 15, 16, 24, 31, 33, 34, 35, 40, 42, 43, 46, 47, 48, 52, 57, 58, 63, 65, 68, 71, 75, 76, 77, 78, 80, 1, 2, 3, 4, 5, 6, 8, 9, 10, 11, 12, 13, 14, 15, 16, 17, 18, 19, 20, 21, 22, 23, 24, 25, 26, 27, 28, 30, 31, 32, 33, 34, 35, 36, 37, 38, 39, 41, 42, 43, 44, 45, 46, 47, 48, 49, 50, 51, 52, 53, 54, 55, 56, 57, 58, 59, 60, 61, 62, 63, 64, 65, 66, 67, 68, 69, 70, 71, 72, 73, 74, 75, 76, 77, 78, 79, 80, 1, 2, 3, 4, 5, 6, 7, 8, 9, 10, 11, 12, 13, 14, 15, 16, 17, 18, 19, 20, 21, 22, 23, 24, 25, 26, 27, 28, 29, 30, 31, 32, 33, 34, 35, 36, 37, 38, 39, 41, 42, 43, 44, 45, 46, 47, 48, 49, 50, 52, 53, 54, 55, 56, 57, 58, 59, 60, 61, 62, 63, 64, 65, 66, 67, 68, 69, 70, 71, 72, 73, 74, 75, 76, 77, 78, 79, 80, 1, 2, 3, 4, 5, 6, 7, 8, 9, 11, 12, 13, 15, 16, 17, 18, 19, 20, 21, 22, 23, 24, 25, 26, 27, 28, 29, 30, 31, 32, 33, 34, 35, 36, 37, 38, 39, 40, 41, 42, 43, 44, 45, 46, 47, 48, 49, 50, 51, 52, 53, 54, 55, 56, 57, 58, 59, 60, 61, 62, 63, 64, 65, 66, 67, 68, 69, 70, 71, 72, 73, 74, 75, 76, 77, 78, 79, 80, 1, 2, 3, 4, 5, 6, 7, 8, 9, 10, 11, 12, 13, 14, 15, 16, 17, 18, 19, 20, 21, 22, 23, 24, 25, 26, 28, 30, 31, 32, 34, 35, 37, 38, 40, 42, 43, 45, 46, 48, 49, 50, 52, 54, 56, 58, 59, 61, 65, 66, 68, 69, 70, 71, 72, 73, 74, 75, 76, 78, 79, 80, 1, 2, 3, 4, 5, 6, 7, 8, 9, 10, 11, 12, 13, 14, 15, 16, 17, 18, 19, 20, 22, 24, 26, 28, 29, 30, 31, 32, 33, 34, 35, 36, 37, 38, 39, 41, 42, 43, 44, 45, 46, 47, 48, 49, 50, 51, 52, 53, 54, 55, 56, 57, 60, 64, 65, 66, 69, 70, 71, 72, 73, 74, 75, 76, 77, 78, 80, 1, 2, 3, 4, 5, 6, 7, 8, 9, 10, 11, 12, 13, 14, 15, 16, 17, 18, 19, 20, 21, 22, 23, 24, 25, 26, 27, 28, 29, 30, 31, 32, 33, 34, 35, 36, 37, 38, 39, 40, 41, 42, 43, 44, 45, 46, 47, 48, 49, 50, 51, 52, 53, 54, 55, 56, 57, 58, 59, 60, 61, 62, 63, 64, 65, 66, 67, 68, 69, 70, 71, 72, 73, 74, 75, 76, 77, 78, 79, 80, 1, 2, 3, 4, 5, 6, 7, 8, 9, 10, 11, 12, 13, 14, 15, 16, 17, 18, 19, 20, 21, 22, 23, 24, 25, 26, 27, 28, 29, 30, 31, 32, 33, 34, 35, 36, 37, 38, 39, 41, 42, 43, 44, 45, 46, 47, 48, 49, 50, 51, 52, 54, 55, 57, 58, 59, 60, 61, 62, 63, 65, 66, 67, 68, 69, 70, 71, 72, 73, 74, 75, 76, 77, 78, 79, 80, 1, 2, 3, 4, 5, 6, 7, 8, 9, 10, 11, 12, 13, 14, 15, 16, 17, 19, 20, 21, 22, 23, 24, 25, 26, 27, 28, 31, 32, 33, 34, 35, 36, 37, 38, 40, 43, 44, 45, 46, 47, 48, 50, 51, 52, 54, 55, 56, 57, 58, 59, 62, 63, 66, 67, 68, 71, 72, 73, 74, 75, 76, 77, 78, 79, 80, 1, 2, 3, 4, 5, 6, 7, 8, 9, 10, 11, 12, 13, 14, 15, 16, 17, 18, 20, 22, 23, 24, 26, 27, 28, 30, 33, 34, 35, 36, 37, 41, 42, 45, 47, 48, 49, 50, 52, 58, 60, 63, 64, 66, 67, 68, 69, 71, 72, 73, 75, 76, 78, 79, 80, 1, 2, 4, 5, 6, 7, 11, 14, 15, 16, 20, 23, 24, 28, 31, 33, 42, 43, 45, 47, 52, 60, 69, 76, 77, 78, 80, 1, 2, 3, 4, 5, 6, 7, 8, 9, 10, 11, 13, 14, 15, 16, 17, 18, 19, 20, 22, 24, 26, 30, 31, 32, 33, 34, 35, 36, 38, 41, 43, 45, 47, 48, 50, 54, 64, 66, 67, 68, 69, 71, 73, 75, 78, 79, 80, 1, 2, 3, 4, 5, 6, 7, 8, 9, 10, 11, 12, 13, 14, 15, 16, 17, 18, 19, 20, 21, 22, 23, 24, 25, 26, 27, 28, 29, 30, 31, 32, 33, 34, 35, 36, 37, 38, 39, 40, 41, 42, 43, 44, 45, 46, 47, 48, 49, 50, 51, 52, 53, 54, 55, 56, 57, 58, 59, 60, 61, 62, 63, 64, 65, 66, 67, 68, 69, 70, 71, 72, 73, 74, 75, 76, 77, 78, 79, 80, 1, 2, 3, 4, 6, 7, 8, 10, 11, 13, 14, 15, 16, 17, 18, 20, 21, 22, 24, 25, 26, 27, 28, 30, 31, 33, 34, 35, 36, 37, 39, 41, 45, 46, 47, 48, 49, 52, 54, 57, 58, 60, 61, 63, 64, 65, 68, 69, 71, 72, 73, 75, 76, 77, 78, 79, 80, 1, 2, 4, 5, 6, 7, 8, 9, 11, 13, 15, 16, 17, 19, 20, 22, 24, 26, 27, 28, 30, 32, 33, 34, 35, 36, 37, 39, 41, 42, 43, 44, 45, 47, 48, 49, 52, 58, 60, 64, 67, 69, 70, 71, 72, 73, 74, 75, 76, 77, 78, 79, 80, 1, 2, 3, 4, 5, 6, 7, 8, 9, 10, 11, 12, 13, 14, 15, 16, 17, 18, 19, 20, 21, 22, 23, 24, 25, 26, 27, 28, 29, 30, 31, 32, 33, 34, 35, 36, 37, 38, 39, 40, 41, 42, 43, 44, 45, 46, 47, 48, 49, 50, 51, 52, 53, 54, 55, 56, 57, 58, 59, 60, 61, 62, 63, 64, 65, 66, 67, 68, 69, 70, 71, 72, 73, 74, 75, 76, 77, 78, 79, 80, 1, 2, 3, 4, 5, 6, 7, 8, 9, 10, 11, 12, 13, 14, 15, 16, 17, 19, 21, 22, 23, 24, 25, 26, 27, 28, 29, 30, 31, 33, 34, 35, 36, 37, 42, 43, 45, 46, 47, 48, 52, 55, 56, 57, 60, 63, 65, 66, 67, 68, 69, 70, 71, 74, 75, 76, 77, 78, 80], \"Freq\": [0.002010229804778533, 0.002010229804778533, 0.018092068243006795, 0.016081838438228264, 0.02211252785256386, 0.018092068243006795, 0.012061378828671197, 0.016081838438228264, 0.02814321726689946, 0.002010229804778533, 0.012061378828671197, 0.01407160863344973, 0.002010229804778533, 0.004020459609557066, 0.010051149023892664, 0.004020459609557066, 0.004020459609557066, 0.004020459609557066, 0.004020459609557066, 0.0060306894143355985, 0.0060306894143355985, 0.010051149023892664, 0.0060306894143355985, 0.010051149023892664, 0.008040919219114132, 0.5467825068997609, 0.008040919219114132, 0.004020459609557066, 0.0060306894143355985, 0.0060306894143355985, 0.002010229804778533, 0.010051149023892664, 0.010051149023892664, 0.018092068243006795, 0.002010229804778533, 0.004020459609557066, 0.002010229804778533, 0.002010229804778533, 0.002010229804778533, 0.002010229804778533, 0.004020459609557066, 0.08442965180069838, 0.002010229804778533, 0.008040919219114132, 0.004020459609557066, 0.002010229804778533, 0.0060306894143355985, 0.002010229804778533, 0.002010229804778533, 0.004020459609557066, 0.0060306894143355985, 0.021004173791057262, 0.005251043447764316, 0.02362969551493942, 0.010502086895528631, 0.005251043447764316, 0.007876565171646473, 0.018378652067175105, 0.010502086895528631, 0.002625521723882158, 0.007876565171646473, 0.021004173791057262, 0.018378652067175105, 0.002625521723882158, 0.005251043447764316, 0.015753130343292947, 0.005251043447764316, 0.010502086895528631, 0.010502086895528631, 0.002625521723882158, 0.007876565171646473, 0.010502086895528631, 0.005251043447764316, 0.005251043447764316, 0.013127608619410789, 0.007876565171646473, 0.007876565171646473, 0.010502086895528631, 0.6064955182167785, 0.002625521723882158, 0.005251043447764316, 0.007876565171646473, 0.002625521723882158, 0.005251043447764316, 0.002625521723882158, 0.007876565171646473, 0.005251043447764316, 0.002625521723882158, 0.002625521723882158, 0.005251043447764316, 0.002625521723882158, 0.002625521723882158, 0.005251043447764316, 0.005251043447764316, 0.002625521723882158, 0.002625521723882158, 0.005251043447764316, 0.005251043447764316, 0.007876565171646473, 0.002625521723882158, 0.002625521723882158, 0.005251043447764316, 0.005251043447764316, 0.002625521723882158, 0.002625521723882158, 0.007876565171646473, 0.002625521723882158, 0.032792846320066425, 0.01912916035337208, 0.010930948773355475, 0.027327371933388685, 0.013663685966694343, 0.010930948773355475, 0.0027327371933388686, 0.027327371933388685, 0.008198211580016606, 0.010930948773355475, 0.013663685966694343, 0.013663685966694343, 0.013663685966694343, 0.013663685966694343, 0.027327371933388685, 0.013663685966694343, 0.005465474386677737, 0.005465474386677737, 0.005465474386677737, 0.005465474386677737, 0.005465474386677737, 0.005465474386677737, 0.0027327371933388686, 0.013663685966694343, 0.010930948773355475, 0.005465474386677737, 0.0027327371933388686, 0.0027327371933388686, 0.0027327371933388686, 0.005465474386677737, 0.005465474386677737, 0.5164873295410461, 0.005465474386677737, 0.0027327371933388686, 0.008198211580016606, 0.010930948773355475, 0.005465474386677737, 0.005465474386677737, 0.005465474386677737, 0.0027327371933388686, 0.0027327371933388686, 0.0027327371933388686, 0.0027327371933388686, 0.0027327371933388686, 0.0027327371933388686, 0.005465474386677737, 0.0027327371933388686, 0.0027327371933388686, 0.0027327371933388686, 0.0027327371933388686, 0.032792846320066425, 0.0027327371933388686, 0.0027327371933388686, 0.0027327371933388686, 0.008198211580016606, 0.0027327371933388686, 0.0027327371933388686, 0.01489161849129369, 0.012409682076078076, 0.012409682076078076, 0.012409682076078076, 0.017373554906509305, 0.01985549132172492, 0.012409682076078076, 0.012409682076078076, 0.01985549132172492, 0.01489161849129369, 0.007445809245646845, 0.00992774566086246, 0.01489161849129369, 0.01489161849129369, 0.00992774566086246, 0.00992774566086246, 0.012409682076078076, 0.00496387283043123, 0.01489161849129369, 0.00496387283043123, 0.007445809245646845, 0.012409682076078076, 0.007445809245646845, 0.017373554906509305, 0.00992774566086246, 0.00496387283043123, 0.00992774566086246, 0.00496387283043123, 0.007445809245646845, 0.01489161849129369, 0.007445809245646845, 0.002481936415215615, 0.00496387283043123, 0.032265173397803, 0.012409682076078076, 0.4070375720953609, 0.01489161849129369, 0.002481936415215615, 0.002481936415215615, 0.002481936415215615, 0.012409682076078076, 0.012409682076078076, 0.002481936415215615, 0.002481936415215615, 0.007445809245646845, 0.007445809245646845, 0.012409682076078076, 0.00496387283043123, 0.002481936415215615, 0.00496387283043123, 0.002481936415215615, 0.00496387283043123, 0.012409682076078076, 0.002481936415215615, 0.002481936415215615, 0.002481936415215615, 0.007445809245646845, 0.002481936415215615, 0.002481936415215615, 0.00496387283043123, 0.002481936415215615, 0.002481936415215615, 0.002481936415215615, 0.007445809245646845, 0.00992774566086246, 0.002481936415215615, 0.00992774566086246, 0.00496387283043123, 0.007445809245646845, 0.015325275774337207, 0.022987913661505807, 0.021072254189713657, 0.019156594717921506, 0.021072254189713657, 0.022987913661505807, 0.019156594717921506, 0.019156594717921506, 0.015325275774337207, 0.0019156594717921508, 0.013409616302545054, 0.009578297358960753, 0.02681923260509011, 0.015325275774337207, 0.022987913661505807, 0.021072254189713657, 0.017240935246129355, 0.013409616302545054, 0.007662637887168603, 0.021072254189713657, 0.019156594717921506, 0.021072254189713657, 0.017240935246129355, 0.0038313189435843016, 0.024903573133297958, 0.019156594717921506, 0.0038313189435843016, 0.011493956830752904, 0.009578297358960753, 0.007662637887168603, 0.015325275774337207, 0.013409616302545054, 0.013409616302545054, 0.019156594717921506, 0.024903573133297958, 0.007662637887168603, 0.007662637887168603, 0.017240935246129355, 0.02681923260509011, 0.007662637887168603, 0.015325275774337207, 0.007662637887168603, 0.011493956830752904, 0.022987913661505807, 0.0038313189435843016, 0.007662637887168603, 0.011493956830752904, 0.15708407668695637, 0.007662637887168603, 0.0019156594717921508, 0.011493956830752904, 0.0019156594717921508, 0.007662637887168603, 0.005746978415376452, 0.0019156594717921508, 0.0038313189435843016, 0.0019156594717921508, 0.0019156594717921508, 0.0038313189435843016, 0.022987913661505807, 0.005746978415376452, 0.0038313189435843016, 0.007662637887168603, 0.007662637887168603, 0.0019156594717921508, 0.0019156594717921508, 0.0019156594717921508, 0.0019156594717921508, 0.005746978415376452, 0.0019156594717921508, 0.0019156594717921508, 0.017641422124450197, 0.012601015803178711, 0.012601015803178711, 0.012601015803178711, 0.017641422124450197, 0.007560609481907227, 0.017641422124450197, 0.010080812642542968, 0.010080812642542968, 0.005040406321271484, 0.010080812642542968, 0.012601015803178711, 0.010080812642542968, 0.02268182844572168, 0.010080812642542968, 0.015121218963814454, 0.015121218963814454, 0.005040406321271484, 0.007560609481907227, 0.015121218963814454, 0.007560609481907227, 0.012601015803178711, 0.012601015803178711, 0.005040406321271484, 0.005040406321271484, 0.007560609481907227, 0.007560609481907227, 0.002520203160635742, 0.005040406321271484, 0.007560609481907227, 0.010080812642542968, 0.007560609481907227, 0.012601015803178711, 0.027722234766993165, 0.005040406321271484, 0.005040406321271484, 0.015121218963814454, 0.005040406321271484, 0.002520203160635742, 0.010080812642542968, 0.002520203160635742, 0.002520203160635742, 0.007560609481907227, 0.010080812642542968, 0.488919413163334, 0.002520203160635742, 0.005040406321271484, 0.010080812642542968, 0.002520203160635742, 0.002520203160635742, 0.002520203160635742, 0.002520203160635742, 0.012601015803178711, 0.005040406321271484, 0.002520203160635742, 0.002520203160635742, 0.005040406321271484, 0.002520203160635742, 0.002520203160635742, 0.009141833958264052, 0.007313467166611241, 0.0036567335833056205, 0.03656733583305621, 0.005485100374958431, 0.027425501874792153, 0.010970200749916862, 0.0018283667916528103, 0.0018283667916528103, 0.007313467166611241, 0.0036567335833056205, 0.05850773733288993, 0.005485100374958431, 0.016455301124875293, 0.009141833958264052, 0.012798567541569671, 0.014626934333222482, 0.014626934333222482, 0.0036567335833056205, 0.014626934333222482, 0.45892006470485536, 0.0036567335833056205, 0.009141833958264052, 0.016455301124875293, 0.0018283667916528103, 0.010970200749916862, 0.005485100374958431, 0.021940401499833725, 0.005485100374958431, 0.009141833958264052, 0.0018283667916528103, 0.0036567335833056205, 0.007313467166611241, 0.010970200749916862, 0.010970200749916862, 0.005485100374958431, 0.010970200749916862, 0.0036567335833056205, 0.009141833958264052, 0.0018283667916528103, 0.005485100374958431, 0.005485100374958431, 0.014626934333222482, 0.0018283667916528103, 0.0036567335833056205, 0.005485100374958431, 0.049365903374625875, 0.0018283667916528103, 0.007313467166611241, 0.0018283667916528103, 0.0036567335833056205, 0.0018283667916528103, 0.0018283667916528103, 0.0018283667916528103, 0.0018283667916528103, 0.0018283667916528103, 0.0036567335833056205, 0.0018283667916528103, 0.0018283667916528103, 0.0036567335833056205, 0.0018283667916528103, 0.0018283667916528103, 0.0036567335833056205, 0.011672141272748288, 0.006366622512408157, 0.011672141272748288, 0.020160971289292496, 0.006366622512408157, 0.06578843262821762, 0.03077200880997276, 0.02546649004963263, 0.0021222075041360524, 0.006366622512408157, 0.013794348776884341, 0.006366622512408157, 0.06684953638028565, 0.005305518760340131, 0.009549933768612236, 0.018038763785156446, 0.024405386297564603, 0.011672141272748288, 0.013794348776884341, 0.006366622512408157, 0.005305518760340131, 0.005305518760340131, 0.011672141272748288, 0.02546649004963263, 0.0021222075041360524, 0.02228317879342855, 0.027588697553768683, 0.005305518760340131, 0.00848883001654421, 0.17932653409949642, 0.0031833112562040787, 0.012733245024816315, 0.026527593801700656, 0.005305518760340131, 0.007427726264476183, 0.009549933768612236, 0.02546649004963263, 0.013794348776884341, 0.00848883001654421, 0.00848883001654421, 0.005305518760340131, 0.011672141272748288, 0.019099867537224473, 0.011672141272748288, 0.018038763785156446, 0.010611037520680261, 0.013794348776884341, 0.0010611037520680262, 0.007427726264476183, 0.005305518760340131, 0.00848883001654421, 0.007427726264476183, 0.0010611037520680262, 0.004244415008272105, 0.006366622512408157, 0.005305518760340131, 0.00848883001654421, 0.006366622512408157, 0.0010611037520680262, 0.0021222075041360524, 0.006366622512408157, 0.0010611037520680262, 0.004244415008272105, 0.0021222075041360524, 0.006366622512408157, 0.0031833112562040787, 0.004244415008272105, 0.012733245024816315, 0.0021222075041360524, 0.0010611037520680262, 0.004244415008272105, 0.0031833112562040787, 0.009549933768612236, 0.0021222075041360524, 0.0021222075041360524, 0.0010611037520680262, 0.004560814816713541, 0.004560814816713541, 0.015962851858497395, 0.02964529630863802, 0.011402037041783854, 0.011402037041783854, 0.02280407408356771, 0.006841222225070312, 0.009121629633427083, 0.004560814816713541, 0.004560814816713541, 0.006841222225070312, 0.011402037041783854, 0.009121629633427083, 0.018243259266854165, 0.004560814816713541, 0.004560814816713541, 0.0022804074083567706, 0.011402037041783854, 0.011402037041783854, 0.02280407408356771, 0.006841222225070312, 0.004560814816713541, 0.0022804074083567706, 0.004560814816713541, 0.0022804074083567706, 0.517652481696987, 0.011402037041783854, 0.009121629633427083, 0.013682444450140625, 0.10261833337605468, 0.004560814816713541, 0.0022804074083567706, 0.0022804074083567706, 0.004560814816713541, 0.004560814816713541, 0.004560814816713541, 0.0022804074083567706, 0.0022804074083567706, 0.006841222225070312, 0.0022804074083567706, 0.02736488890028125, 0.0022804074083567706, 0.0022804074083567706, 0.004560814816713541, 0.0022804074083567706, 0.0022804074083567706, 0.011402037041783854, 0.004206025718708887, 0.008412051437417774, 0.03154519289031665, 0.00630903857806333, 0.004206025718708887, 0.004206025718708887, 0.00630903857806333, 0.016824102874835548, 0.00630903857806333, 0.01261807715612666, 0.0021030128593544435, 0.03575121860902554, 0.004206025718708887, 0.01892711573418999, 0.6897882178682574, 0.0021030128593544435, 0.008412051437417774, 0.00630903857806333, 0.0021030128593544435, 0.09042955295224106, 0.0021030128593544435, 0.010515064296772217, 0.004206025718708887, 0.0021030128593544435, 0.0021030128593544435, 0.0021030128593544435, 0.0021030128593544435, 0.004206025718708887, 0.0021030128593544435, 0.0021030128593544435, 0.005866551036038628, 0.033243789204218895, 0.01564413609610301, 0.005866551036038628, 0.01564413609610301, 0.007822068048051505, 0.00977758506006438, 0.048887925300321905, 0.03128827219220602, 0.013688619084090133, 0.007822068048051505, 0.027377238168180267, 0.013688619084090133, 0.0019555170120128763, 0.0019555170120128763, 0.01564413609610301, 0.007822068048051505, 0.011733102072077256, 0.03128827219220602, 0.00977758506006438, 0.011733102072077256, 0.003911034024025753, 0.005866551036038628, 0.003911034024025753, 0.005866551036038628, 0.007822068048051505, 0.005866551036038628, 0.003911034024025753, 0.005866551036038628, 0.47714615093114177, 0.005866551036038628, 0.011733102072077256, 0.003911034024025753, 0.007822068048051505, 0.003911034024025753, 0.0019555170120128763, 0.005866551036038628, 0.003911034024025753, 0.003911034024025753, 0.0019555170120128763, 0.003911034024025753, 0.005866551036038628, 0.003911034024025753, 0.0019555170120128763, 0.0019555170120128763, 0.007822068048051505, 0.0019555170120128763, 0.0019555170120128763, 0.003911034024025753, 0.0019555170120128763, 0.003911034024025753, 0.0019555170120128763, 0.003911034024025753, 0.0019555170120128763, 0.0019555170120128763, 0.003911034024025753, 0.0019555170120128763, 0.003911034024025753, 0.0019555170120128763, 0.02151068713214164, 0.0019555170120128763, 0.007822068048051505, 0.003911034024025753, 0.018087531067241886, 0.013565648300431415, 0.011304706917026178, 0.018087531067241886, 0.038436003517889006, 0.009043765533620943, 0.022609413834052357, 0.013565648300431415, 0.029392237984268064, 0.024870355217457594, 0.024870355217457594, 0.024870355217457594, 0.013565648300431415, 0.013565648300431415, 0.018087531067241886, 0.009043765533620943, 0.018087531067241886, 0.018087531067241886, 0.01582658968383665, 0.029392237984268064, 0.040696944901294246, 0.009043765533620943, 0.013565648300431415, 0.009043765533620943, 0.024870355217457594, 0.01582658968383665, 0.011304706917026178, 0.022609413834052357, 0.006782824150215708, 0.009043765533620943, 0.020348472450647123, 0.02713129660086283, 0.018087531067241886, 0.018087531067241886, 0.020348472450647123, 0.011304706917026178, 0.029392237984268064, 0.011304706917026178, 0.0045218827668104715, 0.018087531067241886, 0.013565648300431415, 0.07461106565237278, 0.006782824150215708, 0.011304706917026178, 0.013565648300431415, 0.009043765533620943, 0.009043765533620943, 0.006782824150215708, 0.024870355217457594, 0.0022609413834052358, 0.006782824150215708, 0.006782824150215708, 0.006782824150215708, 0.0022609413834052358, 0.0022609413834052358, 0.0045218827668104715, 0.006782824150215708, 0.0045218827668104715, 0.011304706917026178, 0.0022609413834052358, 0.0022609413834052358, 0.0045218827668104715, 0.0045218827668104715, 0.0022609413834052358, 0.0022609413834052358, 0.006782824150215708, 0.0022609413834052358, 0.0045218827668104715, 0.0045218827668104715, 0.0045218827668104715, 0.0022609413834052358, 0.009043765533620943, 0.025826784001171454, 0.01660293257218165, 0.011068621714787766, 0.02029247314377757, 0.007379081143191844, 0.001844770285797961, 0.02029247314377757, 0.003689540571595922, 0.009223851428989805, 0.01844770285797961, 0.007379081143191844, 0.007379081143191844, 0.023982013715373493, 0.01844770285797961, 0.01844770285797961, 0.01844770285797961, 0.011068621714787766, 0.009223851428989805, 0.005534310857393883, 0.003689540571595922, 0.001844770285797961, 0.011068621714787766, 0.005534310857393883, 0.003689540571595922, 0.005534310857393883, 0.007379081143191844, 0.007379081143191844, 0.003689540571595922, 0.005534310857393883, 0.005534310857393883, 0.003689540571595922, 0.001844770285797961, 0.005534310857393883, 0.003689540571595922, 0.005534310857393883, 0.003689540571595922, 0.001844770285797961, 0.003689540571595922, 0.001844770285797961, 0.011068621714787766, 0.005534310857393883, 0.003689540571595922, 0.003689540571595922, 0.5165356800234291, 0.003689540571595922, 0.001844770285797961, 0.001844770285797961, 0.001844770285797961, 0.001844770285797961, 0.003689540571595922, 0.003689540571595922, 0.001844770285797961, 0.001844770285797961, 0.001844770285797961, 0.001844770285797961, 0.05349833828814087, 0.001844770285797961, 0.003689540571595922, 0.001844770285797961, 0.001844770285797961, 0.009223851428989805, 0.005534310857393883, 0.003689540571595922, 0.001844770285797961, 0.001844770285797961, 0.011179975087661246, 0.005589987543830623, 0.0011179975087661246, 0.01453396761395962, 0.008943980070128997, 0.0044719900350644985, 0.02906793522791924, 0.01006197757889512, 0.017887960140257994, 0.3566412052963937, 0.043601902841878856, 0.0033539925262983735, 0.006707985052596747, 0.055899875438306226, 0.0033539925262983735, 0.01453396761395962, 0.008943980070128997, 0.0022359950175322493, 0.0022359950175322493, 0.01453396761395962, 0.03577592028051599, 0.0022359950175322493, 0.008943980070128997, 0.0044719900350644985, 0.02012395515779024, 0.011179975087661246, 0.0022359950175322493, 0.04919189038570948, 0.0022359950175322493, 0.0011179975087661246, 0.0033539925262983735, 0.008943980070128997, 0.01006197757889512, 0.0022359950175322493, 0.008943980070128997, 0.006707985052596747, 0.011179975087661246, 0.008943980070128997, 0.008943980070128997, 0.027949937719153113, 0.011179975087661246, 0.0044719900350644985, 0.006707985052596747, 0.0011179975087661246, 0.0011179975087661246, 0.007825982561362872, 0.0022359950175322493, 0.007825982561362872, 0.005589987543830623, 0.0011179975087661246, 0.0011179975087661246, 0.0044719900350644985, 0.0011179975087661246, 0.0011179975087661246, 0.0011179975087661246, 0.0011179975087661246, 0.0022359950175322493, 0.0022359950175322493, 0.0011179975087661246, 0.0033539925262983735, 0.008943980070128997, 0.0033539925262983735, 0.0044719900350644985, 0.044719900350644985, 0.0022359950175322493, 0.0011179975087661246, 0.0022359950175322493, 0.0011179975087661246, 0.0011179975087661246, 0.0022359950175322493, 0.0011179975087661246, 0.0022359950175322493, 0.0022359950175322493, 0.0011179975087661246, 0.0022359950175322493, 0.0022359950175322493, 0.010712650888583817, 0.026781627221459544, 0.010712650888583817, 0.022318022684549618, 0.021425301777167633, 0.01874713905502168, 0.024996185406695574, 0.017854418147639696, 0.03213795266575145, 0.026781627221459544, 0.012498092703347787, 0.011605371795965802, 0.009819929981201833, 0.01696169724025771, 0.01517625542549374, 0.01696169724025771, 0.01517625542549374, 0.011605371795965802, 0.021425301777167633, 0.016068976332875726, 0.022318022684549618, 0.016068976332875726, 0.0348161153878974, 0.014283534518111757, 0.011605371795965802, 0.009819929981201833, 0.009819929981201833, 0.014283534518111757, 0.008034488166437863, 0.010712650888583817, 0.01517625542549374, 0.024996185406695574, 0.010712650888583817, 0.022318022684549618, 0.02767434812884153, 0.013390813610729772, 0.014283534518111757, 0.013390813610729772, 0.01517625542549374, 0.011605371795965802, 0.01517625542549374, 0.009819929981201833, 0.012498092703347787, 0.017854418147639696, 0.01874713905502168, 0.01874713905502168, 0.008927209073819848, 0.01696169724025771, 0.013390813610729772, 0.01696169724025771, 0.012498092703347787, 0.008927209073819848, 0.014283534518111757, 0.006249046351673893, 0.012498092703347787, 0.002678162722145954, 0.011605371795965802, 0.006249046351673893, 0.01874713905502168, 0.004463604536909924, 0.0071417672590558786, 0.005356325444291908, 0.005356325444291908, 0.004463604536909924, 0.004463604536909924, 0.002678162722145954, 0.006249046351673893, 0.0035708836295279393, 0.002678162722145954, 0.002678162722145954, 0.002678162722145954, 0.0008927209073819848, 0.0035708836295279393, 0.0035708836295279393, 0.002678162722145954, 0.0017854418147639696, 0.004463604536909924, 0.002678162722145954, 0.0017854418147639696, 0.0035708836295279393, 0.006186580973281912, 0.003093290486640956, 0.01855974291984574, 0.006186580973281912, 0.8692146267461087, 0.003093290486640956, 0.006186580973281912, 0.006186580973281912, 0.012373161946563824, 0.006186580973281912, 0.00927987145992287, 0.003093290486640956, 0.003093290486640956, 0.003093290486640956, 0.012373161946563824, 0.003093290486640956, 0.003093290486640956, 0.003093290486640956, 0.003093290486640956, 0.003093290486640956, 0.003093290486640956, 0.003093290486640956, 0.003093290486640956, 0.03549971238401111, 0.015777649948449383, 0.019722062435561728, 0.03747191862756728, 0.02761088740978642, 0.02563868116623025, 0.023666474922674076, 0.023666474922674076, 0.021694268679117903, 0.03352750614045494, 0.019722062435561728, 0.015777649948449383, 0.019722062435561728, 0.019722062435561728, 0.015777649948449383, 0.02761088740978642, 0.011833237461337038, 0.023666474922674076, 0.005916618730668519, 0.003944412487112346, 0.019722062435561728, 0.017749856192005555, 0.019722062435561728, 0.017749856192005555, 0.007888824974224691, 0.03747191862756728, 0.029583093653342593, 0.031555299896898766, 0.009861031217780864, 0.019722062435561728, 0.015777649948449383, 0.007888824974224691, 0.011833237461337038, 0.023666474922674076, 0.007888824974224691, 0.01380544370489321, 0.003944412487112346, 0.009861031217780864, 0.007888824974224691, 0.023666474922674076, 0.005916618730668519, 0.023666474922674076, 0.015777649948449383, 0.011833237461337038, 0.019722062435561728, 0.001972206243556173, 0.003944412487112346, 0.007888824974224691, 0.015777649948449383, 0.007888824974224691, 0.005916618730668519, 0.011833237461337038, 0.003944412487112346, 0.005916618730668519, 0.001972206243556173, 0.021694268679117903, 0.005916618730668519, 0.007888824974224691, 0.001972206243556173, 0.001972206243556173, 0.007888824974224691, 0.003944412487112346, 0.003944412487112346, 0.001972206243556173, 0.003944412487112346, 0.007888824974224691, 0.001972206243556173, 0.003944412487112346, 0.003944412487112346, 0.001972206243556173, 0.001972206243556173, 0.003944412487112346, 0.001972206243556173, 0.001972206243556173, 0.0821138707673417, 0.024287201212875715, 0.04047866868812619, 0.015034934084161157, 0.012721867301982517, 0.005782666955446598, 0.015034934084161157, 0.013878400693071837, 0.010408800519803878, 0.004626133564357279, 0.016191467475250475, 0.024287201212875715, 0.016191467475250475, 0.021974134430697075, 0.024287201212875715, 0.004626133564357279, 0.020817601039607756, 0.008095733737625238, 0.021974134430697075, 0.019661067648518434, 0.011565333910893196, 0.013878400693071837, 0.005782666955446598, 0.023130667821786393, 0.018504534257429116, 0.006939200346535918, 0.024287201212875715, 0.015034934084161157, 0.010408800519803878, 0.03353946834159027, 0.020817601039607756, 0.008095733737625238, 0.038165601905947553, 0.013878400693071837, 0.008095733737625238, 0.009252267128714558, 0.010408800519803878, 0.003469600173267959, 0.04279173547030483, 0.005782666955446598, 0.020817601039607756, 0.006939200346535918, 0.004626133564357279, 0.008095733737625238, 0.023130667821786393, 0.020817601039607756, 0.009252267128714558, 0.009252267128714558, 0.011565333910893196, 0.006939200346535918, 0.006939200346535918, 0.004626133564357279, 0.003469600173267959, 0.013878400693071837, 0.003469600173267959, 0.006939200346535918, 0.008095733737625238, 0.011565333910893196, 0.0011565333910893197, 0.004626133564357279, 0.003469600173267959, 0.003469600173267959, 0.0011565333910893197, 0.005782666955446598, 0.009252267128714558, 0.0023130667821786395, 0.008095733737625238, 0.003469600173267959, 0.0023130667821786395, 0.006939200346535918, 0.005782666955446598, 0.0023130667821786395, 0.0023130667821786395, 0.008095733737625238, 0.0023130667821786395, 0.006939200346535918, 0.005782666955446598, 0.005782666955446598, 0.003469600173267959, 0.13716474266584586, 0.003082353767771817, 0.13408238889807403, 0.004623530651657725, 0.015411768838859084, 0.0015411768838859085, 0.012329415071087268, 0.006164707535543634, 0.003082353767771817, 0.021576476374402718, 0.05856472158766452, 0.010788238187201359, 0.004623530651657725, 0.010788238187201359, 0.007705884419429542, 0.016952945722744993, 0.007705884419429542, 0.007705884419429542, 0.024658830142174536, 0.0015411768838859085, 0.006164707535543634, 0.012329415071087268, 0.003082353767771817, 0.0015411768838859085, 0.016952945722744993, 0.004623530651657725, 0.21422358686014126, 0.012329415071087268, 0.03852942209714771, 0.010788238187201359, 0.0015411768838859085, 0.0015411768838859085, 0.0015411768838859085, 0.015411768838859084, 0.006164707535543634, 0.004623530651657725, 0.004623530651657725, 0.006164707535543634, 0.007705884419429542, 0.00924706130331545, 0.007705884419429542, 0.007705884419429542, 0.006164707535543634, 0.004623530651657725, 0.003082353767771817, 0.012329415071087268, 0.003082353767771817, 0.003082353767771817, 0.003082353767771817, 0.004623530651657725, 0.0015411768838859085, 0.0015411768838859085, 0.0015411768838859085, 0.012329415071087268, 0.004623530651657725, 0.004623530651657725, 0.003082353767771817, 0.0015411768838859085, 0.004623530651657725, 0.003082353767771817, 0.0015411768838859085, 0.00924706130331545, 0.003082353767771817, 0.0015411768838859085, 0.010788238187201359, 0.0015411768838859085, 0.003082353767771817, 0.0015411768838859085, 0.02282352655622287, 0.018258821244978296, 0.02282352655622287, 0.02967058452308973, 0.025105879211845157, 0.02967058452308973, 0.013694115933733722, 0.02282352655622287, 0.027388231867467444, 0.01597646858935601, 0.01597646858935601, 0.011411763278111435, 0.011411763278111435, 0.018258821244978296, 0.02282352655622287, 0.018258821244978296, 0.013694115933733722, 0.01597646858935601, 0.020541173900600583, 0.02282352655622287, 0.013694115933733722, 0.011411763278111435, 0.01597646858935601, 0.018258821244978296, 0.009129410622489148, 0.011411763278111435, 0.006847057966866861, 0.011411763278111435, 0.013694115933733722, 0.020541173900600583, 0.006847057966866861, 0.01597646858935601, 0.018258821244978296, 0.020541173900600583, 0.011411763278111435, 0.05477646373493489, 0.018258821244978296, 0.006847057966866861, 0.01597646858935601, 0.02967058452308973, 0.009129410622489148, 0.011411763278111435, 0.013694115933733722, 0.011411763278111435, 0.02282352655622287, 0.02967058452308973, 0.006847057966866861, 0.006847057966866861, 0.01597646858935601, 0.013694115933733722, 0.006847057966866861, 0.004564705311244574, 0.006847057966866861, 0.013694115933733722, 0.002282352655622287, 0.011411763278111435, 0.004564705311244574, 0.006847057966866861, 0.002282352655622287, 0.002282352655622287, 0.006847057966866861, 0.002282352655622287, 0.002282352655622287, 0.002282352655622287, 0.013694115933733722, 0.002282352655622287, 0.004564705311244574, 0.002282352655622287, 0.004564705311244574, 0.004564705311244574, 0.006847057966866861, 0.006847057966866861, 0.002282352655622287, 0.002282352655622287, 0.011038091416911845, 0.02069642140670971, 0.016557137125367768, 0.011038091416911845, 0.009658329989797865, 0.012417852844025827, 0.006898807135569903, 0.011038091416911845, 0.011038091416911845, 0.013797614271139806, 0.02207618283382369, 0.012417852844025827, 0.012417852844025827, 0.017936898552481748, 0.006898807135569903, 0.02345594426093767, 0.006898807135569903, 0.017936898552481748, 0.017936898552481748, 0.009658329989797865, 0.005519045708455923, 0.47739745378143733, 0.009658329989797865, 0.005519045708455923, 0.008278568562683884, 0.015177375698253788, 0.009658329989797865, 0.0013797614271139806, 0.004139284281341942, 0.0027595228542279613, 0.012417852844025827, 0.008278568562683884, 0.0013797614271139806, 0.016557137125367768, 0.004139284281341942, 0.0027595228542279613, 0.0027595228542279613, 0.004139284281341942, 0.005519045708455923, 0.0027595228542279613, 0.0027595228542279613, 0.016557137125367768, 0.0027595228542279613, 0.0013797614271139806, 0.02207618283382369, 0.005519045708455923, 0.0013797614271139806, 0.0013797614271139806, 0.0027595228542279613, 0.0013797614271139806, 0.0013797614271139806, 0.006898807135569903, 0.009658329989797865, 0.0027595228542279613, 0.0013797614271139806, 0.0013797614271139806, 0.0027595228542279613, 0.0027595228542279613, 0.0013797614271139806, 0.0013797614271139806, 0.008278568562683884, 0.006898807135569903, 0.0013797614271139806, 0.0027595228542279613, 0.006898807135569903, 0.005519045708455923, 0.0027595228542279613, 0.0013797614271139806, 0.026033531558910288, 0.024663345687388694, 0.012331672843694347, 0.016442230458259127, 0.03151427504499666, 0.00959130110065116, 0.024663345687388694, 0.012331672843694347, 0.027403717430431882, 0.032884460916518254, 0.01781241632978072, 0.021922973944345506, 0.012331672843694347, 0.01781241632978072, 0.01781241632978072, 0.008221115229129564, 0.016442230458259127, 0.013701858715215941, 0.015072044586737535, 0.016442230458259127, 0.016442230458259127, 0.01918260220130232, 0.005480743486086377, 0.008221115229129564, 0.013701858715215941, 0.00959130110065116, 0.005480743486086377, 0.01781241632978072, 0.013701858715215941, 0.005480743486086377, 0.016442230458259127, 0.015072044586737535, 0.010961486972172753, 0.016442230458259127, 0.020552788072823912, 0.027403717430431882, 0.013701858715215941, 0.024663345687388694, 0.012331672843694347, 0.016442230458259127, 0.008221115229129564, 0.008221115229129564, 0.010961486972172753, 0.01781241632978072, 0.004110557614564782, 0.013701858715215941, 0.004110557614564782, 0.06439873596151492, 0.004110557614564782, 0.010961486972172753, 0.010961486972172753, 0.004110557614564782, 0.01918260220130232, 0.008221115229129564, 0.0027403717430431883, 0.013701858715215941, 0.00959130110065116, 0.01781241632978072, 0.010961486972172753, 0.004110557614564782, 0.027403717430431882, 0.005480743486086377, 0.004110557614564782, 0.0013701858715215942, 0.005480743486086377, 0.0027403717430431883, 0.004110557614564782, 0.004110557614564782, 0.0027403717430431883, 0.0027403717430431883, 0.004110557614564782, 0.0027403717430431883, 0.0027403717430431883, 0.004110557614564782, 0.0027403717430431883, 0.0013701858715215942, 0.0013701858715215942, 0.0027403717430431883, 0.0027403717430431883, 0.0013701858715215942, 0.004349905812595857, 0.01304971743778757, 0.006524858718893785, 0.009424795927291023, 0.008699811625191714, 0.025374450573475833, 0.01304971743778757, 0.015224670344085499, 0.002899937208397238, 0.02609943487557514, 0.002899937208397238, 0.008699811625191714, 0.005074890114695167, 0.023924481969277215, 0.040599120917561335, 0.01739962325038343, 0.007974827323092404, 0.002899937208397238, 0.005074890114695167, 0.010874764531489643, 0.03407426219866755, 0.012324733135688262, 0.002899937208397238, 0.018124607552482738, 0.018124607552482738, 0.001449968604198619, 0.38424168011263404, 0.015224670344085499, 0.0021749529062979286, 0.002899937208397238, 0.018849591854582046, 0.023199497667177903, 0.007974827323092404, 0.004349905812595857, 0.005074890114695167, 0.008699811625191714, 0.0007249843020993095, 0.004349905812595857, 0.007249843020993095, 0.012324733135688262, 0.007974827323092404, 0.004349905812595857, 0.010874764531489643, 0.005074890114695167, 0.007249843020993095, 0.008699811625191714, 0.0021749529062979286, 0.0021749529062979286, 0.008699811625191714, 0.0021749529062979286, 0.006524858718893785, 0.008699811625191714, 0.001449968604198619, 0.001449968604198619, 0.0007249843020993095, 0.001449968604198619, 0.008699811625191714, 0.001449968604198619, 0.009424795927291023, 0.005074890114695167, 0.001449968604198619, 0.0007249843020993095, 0.001449968604198619, 0.004349905812595857, 0.007974827323092404, 0.01739962325038343, 0.0036249215104965475, 0.001449968604198619, 0.001449968604198619, 0.001449968604198619, 0.0021749529062979286, 0.0021749529062979286, 0.005799874416794476, 0.0007249843020993095, 0.0021749529062979286, 0.0036249215104965475, 0.013270540731333874, 0.017062123797429267, 0.018957915330476964, 0.018957915330476964, 0.02085370686352466, 0.017062123797429267, 0.017062123797429267, 0.011374749198286179, 0.0056873745991430896, 0.02085370686352466, 0.015166332264381572, 0.009478957665238482, 0.015166332264381572, 0.013270540731333874, 0.02085370686352466, 0.015166332264381572, 0.013270540731333874, 0.02085370686352466, 0.013270540731333874, 0.015166332264381572, 0.011374749198286179, 0.013270540731333874, 0.009478957665238482, 0.017062123797429267, 0.013270540731333874, 0.009478957665238482, 0.0056873745991430896, 0.011374749198286179, 0.0056873745991430896, 0.007583166132190786, 0.015166332264381572, 0.007583166132190786, 0.007583166132190786, 0.013270540731333874, 0.018957915330476964, 0.011374749198286179, 0.0018957915330476964, 0.0018957915330476964, 0.003791583066095393, 0.009478957665238482, 0.36020039127906234, 0.0018957915330476964, 0.0018957915330476964, 0.007583166132190786, 0.007583166132190786, 0.011374749198286179, 0.0056873745991430896, 0.0018957915330476964, 0.007583166132190786, 0.003791583066095393, 0.009478957665238482, 0.007583166132190786, 0.0018957915330476964, 0.0018957915330476964, 0.0018957915330476964, 0.003791583066095393, 0.007583166132190786, 0.0018957915330476964, 0.0018957915330476964, 0.0018957915330476964, 0.0018957915330476964, 0.0018957915330476964, 0.003791583066095393, 0.0018957915330476964, 0.0018957915330476964, 0.0056873745991430896, 0.0018957915330476964, 0.003791583066095393, 0.009478957665238482, 0.003791583066095393, 0.0018957915330476964, 0.003791583066095393, 0.0018957915330476964, 0.0064544971541719825, 0.02796948766807859, 0.0064544971541719825, 0.004302998102781321, 0.010757495256953305, 0.040878481976422555, 0.004302998102781321, 0.008605996205562643, 0.004302998102781321, 0.004302998102781321, 0.012908994308343965, 0.004302998102781321, 0.0021514990513906607, 0.008605996205562643, 0.0021514990513906607, 0.0064544971541719825, 0.008605996205562643, 0.0021514990513906607, 0.0021514990513906607, 0.004302998102781321, 0.0064544971541719825, 0.004302998102781321, 0.0021514990513906607, 0.0021514990513906607, 0.0064544971541719825, 0.0021514990513906607, 0.7099946869589181, 0.05163597723337586, 0.0021514990513906607, 0.0021514990513906607, 0.0021514990513906607, 0.0064544971541719825, 0.008605996205562643, 0.0064544971541719825, 0.0021514990513906607, 0.0021514990513906607, 0.0021514990513906607, 0.0021514990513906607, 0.0021514990513906607, 0.0021514990513906607, 0.0021514990513906607, 0.0100840104782202, 0.036014323136500714, 0.008643437552760171, 0.004321718776380086, 0.024489739732820485, 0.0100840104782202, 0.004321718776380086, 0.005762291701840114, 0.50420052391101, 0.008643437552760171, 0.012965156329140257, 0.0100840104782202, 0.002881145850920057, 0.004321718776380086, 0.007202864627300143, 0.002881145850920057, 0.008643437552760171, 0.012965156329140257, 0.037454896061960744, 0.023049166807360456, 0.017286875105520343, 0.004321718776380086, 0.005762291701840114, 0.008643437552760171, 0.002881145850920057, 0.007202864627300143, 0.0014405729254600285, 0.012965156329140257, 0.04321718776380086, 0.004321718776380086, 0.0014405729254600285, 0.033133177285580656, 0.0014405729254600285, 0.004321718776380086, 0.0014405729254600285, 0.002881145850920057, 0.004321718776380086, 0.0100840104782202, 0.005762291701840114, 0.004321718776380086, 0.0014405729254600285, 0.002881145850920057, 0.002881145850920057, 0.002881145850920057, 0.0014405729254600285, 0.005762291701840114, 0.0014405729254600285, 0.002881145850920057, 0.004321718776380086, 0.0014405729254600285, 0.0014405729254600285, 0.0014405729254600285, 0.0014405729254600285, 0.002881145850920057, 0.008643437552760171, 0.002881145850920057, 0.0014405729254600285, 0.002881145850920057, 0.002881145850920057, 0.0014405729254600285, 0.002881145850920057, 0.007202864627300143, 0.005762291701840114, 0.007202864627300143, 0.0014405729254600285, 0.022298878827874583, 0.029340630036677084, 0.014083502417605, 0.022298878827874583, 0.025819754432275834, 0.018778003223473335, 0.01760437802200625, 0.016430752820539168, 0.014083502417605, 0.018778003223473335, 0.025819754432275834, 0.016430752820539168, 0.015257127619072084, 0.01995162842494042, 0.01995162842494042, 0.014083502417605, 0.009389001611736668, 0.018778003223473335, 0.0070417512088025, 0.01995162842494042, 0.008215376410269584, 0.018778003223473335, 0.0211252536264075, 0.016430752820539168, 0.018778003223473335, 0.0070417512088025, 0.01056262681320375, 0.01056262681320375, 0.016430752820539168, 0.008215376410269584, 0.01995162842494042, 0.0211252536264075, 0.011736252014670833, 0.009389001611736668, 0.012909877216137917, 0.016430752820539168, 0.009389001611736668, 0.009389001611736668, 0.01056262681320375, 0.0058681260073354165, 0.00352087560440125, 0.008215376410269584, 0.01056262681320375, 0.012909877216137917, 0.011736252014670833, 0.004694500805868334, 0.0058681260073354165, 0.011736252014670833, 0.008215376410269584, 0.011736252014670833, 0.009389001611736668, 0.008215376410269584, 0.004694500805868334, 0.00352087560440125, 0.012909877216137917, 0.008215376410269584, 0.15961302739952335, 0.0058681260073354165, 0.0011736252014670834, 0.008215376410269584, 0.00352087560440125, 0.004694500805868334, 0.0011736252014670834, 0.004694500805868334, 0.0058681260073354165, 0.00352087560440125, 0.00352087560440125, 0.002347250402934167, 0.002347250402934167, 0.0011736252014670834, 0.00352087560440125, 0.002347250402934167, 0.002347250402934167, 0.002347250402934167, 0.00352087560440125, 0.002347250402934167, 0.00352087560440125, 0.002347250402934167, 0.004694500805868334, 0.0011736252014670834, 0.01507723931021345, 0.03203913353420358, 0.011307929482660087, 0.020731204051543495, 0.01507723931021345, 0.013192584396436769, 0.013192584396436769, 0.01696189422399013, 0.013192584396436769, 0.009423274568883406, 0.01507723931021345, 0.013192584396436769, 0.011307929482660087, 0.007538619655106725, 0.011307929482660087, 0.01507723931021345, 0.01696189422399013, 0.011307929482660087, 0.009423274568883406, 0.013192584396436769, 0.01507723931021345, 0.0301544786204269, 0.018846549137766812, 0.009423274568883406, 0.007538619655106725, 0.01696189422399013, 0.007538619655106725, 0.009423274568883406, 0.011307929482660087, 0.005653964741330043, 0.009423274568883406, 0.011307929482660087, 0.009423274568883406, 0.009423274568883406, 0.0037693098275533624, 0.005653964741330043, 0.0697322318097372, 0.0037693098275533624, 0.022615858965320174, 0.024500513879096856, 0.013192584396436769, 0.009423274568883406, 0.0018846549137766812, 0.011307929482660087, 0.005653964741330043, 0.0018846549137766812, 0.005653964741330043, 0.005653964741330043, 0.009423274568883406, 0.0037693098275533624, 0.03203913353420358, 0.0037693098275533624, 0.24312048387719187, 0.005653964741330043, 0.0018846549137766812, 0.0018846549137766812, 0.0018846549137766812, 0.0037693098275533624, 0.0037693098275533624, 0.0037693098275533624, 0.0037693098275533624, 0.0037693098275533624, 0.005653964741330043, 0.005653964741330043, 0.0018846549137766812, 0.0018846549137766812, 0.0018846549137766812, 0.0018846549137766812, 0.0037693098275533624, 0.0037693098275533624, 0.0018846549137766812, 0.005653964741330043, 0.005653964741330043, 0.007044645494810867, 0.03522322747405433, 0.00528348412110815, 0.012328129615919017, 0.014089290989621734, 0.0105669682422163, 0.0105669682422163, 0.014089290989621734, 0.008805806868513583, 0.0035223227474054336, 0.008805806868513583, 0.0035223227474054336, 0.02641742060554075, 0.00528348412110815, 0.012328129615919017, 0.012328129615919017, 0.008805806868513583, 0.04402903434256792, 0.0035223227474054336, 0.0105669682422163, 0.017611613737027167, 0.017611613737027167, 0.0105669682422163, 0.00528348412110815, 0.02817858197924347, 0.03522322747405433, 0.00528348412110815, 0.0035223227474054336, 0.0017611613737027168, 0.007044645494810867, 0.0105669682422163, 0.00528348412110815, 0.3786496953460841, 0.0035223227474054336, 0.0017611613737027168, 0.017611613737027167, 0.007044645494810867, 0.007044645494810867, 0.00528348412110815, 0.0017611613737027168, 0.00528348412110815, 0.01585045236332445, 0.014089290989621734, 0.0035223227474054336, 0.0035223227474054336, 0.007044645494810867, 0.0035223227474054336, 0.008805806868513583, 0.00528348412110815, 0.0017611613737027168, 0.02289509785813532, 0.0017611613737027168, 0.008805806868513583, 0.0035223227474054336, 0.0035223227474054336, 0.0017611613737027168, 0.0017611613737027168, 0.0017611613737027168, 0.007044645494810867, 0.0017611613737027168, 0.0035223227474054336, 0.0035223227474054336, 0.00528348412110815, 0.00528348412110815, 0.0035223227474054336, 0.0035223227474054336, 0.008805806868513583, 0.0105669682422163, 0.0017611613737027168, 0.03030271581409552, 0.03896063461812281, 0.019480317309061405, 0.03030271581409552, 0.021644797010068228, 0.025973756412081873, 0.012986878206040936, 0.021644797010068228, 0.019480317309061405, 0.019480317309061405, 0.017315837608054583, 0.019480317309061405, 0.021644797010068228, 0.012986878206040936, 0.01515135790704776, 0.012986878206040936, 0.019480317309061405, 0.02380927671107505, 0.01515135790704776, 0.012986878206040936, 0.017315837608054583, 0.019480317309061405, 0.036796154917115985, 0.019480317309061405, 0.012986878206040936, 0.010822398505034114, 0.02380927671107505, 0.019480317309061405, 0.019480317309061405, 0.01515135790704776, 0.012986878206040936, 0.010822398505034114, 0.012986878206040936, 0.01515135790704776, 0.01515135790704776, 0.017315837608054583, 0.006493439103020468, 0.012986878206040936, 0.01515135790704776, 0.004328959402013646, 0.002164479701006823, 0.008657918804027291, 0.010822398505034114, 0.010822398505034114, 0.02380927671107505, 0.012986878206040936, 0.006493439103020468, 0.010822398505034114, 0.010822398505034114, 0.019480317309061405, 0.004328959402013646, 0.008657918804027291, 0.008657918804027291, 0.002164479701006823, 0.010822398505034114, 0.004328959402013646, 0.008657918804027291, 0.010822398505034114, 0.002164479701006823, 0.010822398505034114, 0.002164479701006823, 0.002164479701006823, 0.008657918804027291, 0.002164479701006823, 0.008657918804027291, 0.006493439103020468, 0.006493439103020468, 0.004328959402013646, 0.002164479701006823, 0.002164479701006823, 0.004328959402013646, 0.004328959402013646, 0.004328959402013646, 0.004328959402013646, 0.004328959402013646, 0.004328959402013646, 0.002164479701006823, 0.008657918804027291, 0.002164479701006823, 0.002164479701006823, 0.019796016666762728, 0.025452021428694935, 0.019796016666762728, 0.03393602857159325, 0.008484007142898313, 0.016968014285796626, 0.011312009523864417, 0.025452021428694935, 0.002828002380966104, 0.01414001190483052, 0.019796016666762728, 0.019796016666762728, 0.011312009523864417, 0.016968014285796626, 0.01414001190483052, 0.019796016666762728, 0.025452021428694935, 0.016968014285796626, 0.01414001190483052, 0.005656004761932208, 0.011312009523864417, 0.005656004761932208, 0.019796016666762728, 0.008484007142898313, 0.011312009523864417, 0.02828002380966104, 0.01414001190483052, 0.005656004761932208, 0.016968014285796626, 0.008484007142898313, 0.016968014285796626, 0.008484007142898313, 0.005656004761932208, 0.01414001190483052, 0.019796016666762728, 0.011312009523864417, 0.005656004761932208, 0.016968014285796626, 0.002828002380966104, 0.011312009523864417, 0.008484007142898313, 0.011312009523864417, 0.002828002380966104, 0.016968014285796626, 0.002828002380966104, 0.26017621904888155, 0.005656004761932208, 0.005656004761932208, 0.005656004761932208, 0.005656004761932208, 0.002828002380966104, 0.005656004761932208, 0.005656004761932208, 0.005656004761932208, 0.002828002380966104, 0.005656004761932208, 0.005656004761932208, 0.005656004761932208, 0.005656004761932208, 0.002828002380966104, 0.002828002380966104, 0.002828002380966104, 0.005656004761932208, 0.002828002380966104, 0.005656004761932208, 0.002828002380966104, 0.005656004761932208, 0.005656004761932208, 0.005656004761932208, 0.005656004761932208, 0.005656004761932208, 0.002828002380966104, 0.007275114135477515, 0.007275114135477515, 0.0018187785338693787, 0.0036375570677387573, 0.005456335601608136, 0.720236299412274, 0.005456335601608136, 0.010912671203216272, 0.0036375570677387573, 0.01455022827095503, 0.0036375570677387573, 0.01455022827095503, 0.016369006804824407, 0.0036375570677387573, 0.005456335601608136, 0.005456335601608136, 0.005456335601608136, 0.0036375570677387573, 0.01273144973708565, 0.0036375570677387573, 0.010912671203216272, 0.009093892669346893, 0.009093892669346893, 0.007275114135477515, 0.0018187785338693787, 0.007275114135477515, 0.005456335601608136, 0.005456335601608136, 0.005456335601608136, 0.005456335601608136, 0.0036375570677387573, 0.0018187785338693787, 0.0018187785338693787, 0.0018187785338693787, 0.0036375570677387573, 0.0018187785338693787, 0.0018187785338693787, 0.0018187785338693787, 0.0018187785338693787, 0.0018187785338693787, 0.0018187785338693787, 0.0018187785338693787, 0.005456335601608136, 0.0018187785338693787, 0.0018187785338693787, 0.0018187785338693787, 0.0018187785338693787, 0.0018187785338693787, 0.010912671203216272, 0.0018187785338693787, 0.0018187785338693787, 0.01455022827095503, 0.13202414868578768, 0.007473065019950247, 0.002491021673316749, 0.002491021673316749, 0.004982043346633498, 0.002491021673316749, 0.022419195059850742, 0.002491021673316749, 0.007473065019950247, 0.002491021673316749, 0.02740123840648424, 0.6725758517955223, 0.007473065019950247, 0.04234736844638473, 0.002491021673316749, 0.004982043346633498, 0.007473065019950247, 0.002491021673316749, 0.004982043346633498, 0.004982043346633498, 0.004982043346633498, 0.002491021673316749, 0.004982043346633498, 0.004982043346633498, 0.002491021673316749, 0.0025123395677380173, 0.8818311882760441, 0.005024679135476035, 0.005024679135476035, 0.005024679135476035, 0.015074037406428103, 0.0025123395677380173, 0.01758637697416612, 0.0025123395677380173, 0.007537018703214052, 0.0025123395677380173, 0.01004935827095207, 0.005024679135476035, 0.0025123395677380173, 0.0025123395677380173, 0.0025123395677380173, 0.005024679135476035, 0.007537018703214052, 0.0025123395677380173, 0.014947043788965301, 0.021590174361838767, 0.016607826432183666, 0.018268609075402033, 0.0199293917186204, 0.023250957005057134, 0.029894087577930602, 0.0199293917186204, 0.0199293917186204, 0.0199293917186204, 0.011625478502528567, 0.014947043788965301, 0.013286261145746934, 0.023250957005057134, 0.016607826432183666, 0.014947043788965301, 0.021590174361838767, 0.011625478502528567, 0.0099646958593102, 0.0199293917186204, 0.013286261145746934, 0.014947043788965301, 0.008303913216091833, 0.013286261145746934, 0.016607826432183666, 0.011625478502528567, 0.0099646958593102, 0.014947043788965301, 0.014947043788965301, 0.013286261145746934, 0.016607826432183666, 0.0099646958593102, 0.018268609075402033, 0.0099646958593102, 0.011625478502528567, 0.021590174361838767, 0.03653721815080407, 0.008303913216091833, 0.0099646958593102, 0.0016607826432183668, 0.014947043788965301, 0.0199293917186204, 0.0099646958593102, 0.011625478502528567, 0.0099646958593102, 0.0199293917186204, 0.0099646958593102, 0.0099646958593102, 0.0099646958593102, 0.0049823479296551, 0.0697528710151714, 0.0033215652864367336, 0.0099646958593102, 0.0049823479296551, 0.013286261145746934, 0.014947043788965301, 0.016607826432183666, 0.0049823479296551, 0.021590174361838767, 0.0049823479296551, 0.0199293917186204, 0.0016607826432183668, 0.0033215652864367336, 0.0033215652864367336, 0.0033215652864367336, 0.014947043788965301, 0.0033215652864367336, 0.006643130572873467, 0.0033215652864367336, 0.0033215652864367336, 0.0016607826432183668, 0.0016607826432183668, 0.0016607826432183668, 0.0033215652864367336, 0.0033215652864367336, 0.0016607826432183668, 0.0049823479296551, 0.0016607826432183668, 0.00230924396797142, 0.006927731903914259, 0.00230924396797142, 0.00230924396797142, 0.00461848793594284, 0.00923697587188568, 0.01616470777579994, 0.00923697587188568, 0.011546219839857099, 0.00923697587188568, 0.00461848793594284, 0.013855463807828518, 0.00461848793594284, 0.00461848793594284, 0.027710927615657036, 0.013855463807828518, 0.00461848793594284, 0.01616470777579994, 0.006927731903914259, 0.00230924396797142, 0.5934756997686549, 0.00230924396797142, 0.00461848793594284, 0.00230924396797142, 0.00461848793594284, 0.00461848793594284, 0.00230924396797142, 0.013855463807828518, 0.00230924396797142, 0.025401683647685618, 0.00230924396797142, 0.00923697587188568, 0.00230924396797142, 0.00230924396797142, 0.00230924396797142, 0.00461848793594284, 0.006927731903914259, 0.00923697587188568, 0.00230924396797142, 0.00230924396797142, 0.00230924396797142, 0.00923697587188568, 0.00230924396797142, 0.00230924396797142, 0.00230924396797142, 0.00461848793594284, 0.00230924396797142, 0.00230924396797142, 0.05773109919928549, 0.01616470777579994, 0.00461848793594284, 0.00230924396797142, 0.00230924396797142, 0.00230924396797142, 0.00230924396797142, 0.02004487339767029, 0.025771980082718946, 0.0157495433838838, 0.02290842674019462, 0.021476650068932457, 0.024340203411456783, 0.028635533425243272, 0.025771980082718946, 0.017181320055145964, 0.017181320055145964, 0.014317766712621636, 0.017181320055145964, 0.018613096726408127, 0.018613096726408127, 0.02290842674019462, 0.0157495433838838, 0.012885990041359473, 0.014317766712621636, 0.01145421337009731, 0.018613096726408127, 0.014317766712621636, 0.018613096726408127, 0.017181320055145964, 0.01145421337009731, 0.01145421337009731, 0.012885990041359473, 0.0157495433838838, 0.017181320055145964, 0.014317766712621636, 0.01145421337009731, 0.01145421337009731, 0.01145421337009731, 0.014317766712621636, 0.008590660027572982, 0.008590660027572982, 0.008590660027572982, 0.010022436698835145, 0.004295330013786491, 0.010022436698835145, 0.014317766712621636, 0.017181320055145964, 0.01145421337009731, 0.0157495433838838, 0.0157495433838838, 0.007158883356310818, 0.01145421337009731, 0.012885990041359473, 0.01145421337009731, 0.004295330013786491, 0.008590660027572982, 0.008590660027572982, 0.007158883356310818, 0.010022436698835145, 0.0157495433838838, 0.0028635533425243275, 0.008590660027572982, 0.008590660027572982, 0.010022436698835145, 0.11454213370097309, 0.0157495433838838, 0.004295330013786491, 0.0014317766712621637, 0.004295330013786491, 0.005727106685048655, 0.004295330013786491, 0.0014317766712621637, 0.0028635533425243275, 0.0028635533425243275, 0.0028635533425243275, 0.0028635533425243275, 0.004295330013786491, 0.0028635533425243275, 0.0028635533425243275, 0.0014317766712621637, 0.0028635533425243275, 0.0028635533425243275, 0.011477326869190426, 0.013390214680722164, 0.005738663434595213, 0.011477326869190426, 0.00765155124612695, 0.013390214680722164, 0.013390214680722164, 0.011477326869190426, 0.011477326869190426, 0.013390214680722164, 0.02295465373838085, 0.003825775623063475, 0.03825775623063475, 0.005738663434595213, 0.00765155124612695, 0.00765155124612695, 0.021041765926849112, 0.00765155124612695, 0.00765155124612695, 0.028693317172976063, 0.003825775623063475, 0.0019128878115317375, 0.009564439057658688, 0.005738663434595213, 0.003825775623063475, 0.005738663434595213, 0.5317828116058231, 0.013390214680722164, 0.005738663434595213, 0.0019128878115317375, 0.003825775623063475, 0.003825775623063475, 0.0019128878115317375, 0.009564439057658688, 0.0019128878115317375, 0.009564439057658688, 0.0019128878115317375, 0.005738663434595213, 0.00765155124612695, 0.0019128878115317375, 0.003825775623063475, 0.00765155124612695, 0.0019128878115317375, 0.0019128878115317375, 0.0019128878115317375, 0.03634486841910301, 0.005738663434595213, 0.003825775623063475, 0.0019128878115317375, 0.0019128878115317375, 0.0019128878115317375, 0.0019128878115317375, 0.003825775623063475, 0.0019128878115317375, 0.0019128878115317375, 0.0019128878115317375, 0.003825775623063475, 0.005738663434595213, 0.0019128878115317375, 0.00765155124612695, 0.015586671340276656, 0.005195557113425552, 0.010391114226851104, 0.013854818969134805, 0.0069274094845674025, 0.010391114226851104, 0.015586671340276656, 0.017318523711418506, 0.010391114226851104, 0.0017318523711418506, 0.022514080824844056, 0.03463704742283701, 0.0034637047422837013, 0.005195557113425552, 0.005195557113425552, 0.0017318523711418506, 0.010391114226851104, 0.0017318523711418506, 0.0034637047422837013, 0.6303942630956336, 0.0034637047422837013, 0.0017318523711418506, 0.008659261855709253, 0.0017318523711418506, 0.0017318523711418506, 0.008659261855709253, 0.0017318523711418506, 0.0034637047422837013, 0.0017318523711418506, 0.0017318523711418506, 0.0034637047422837013, 0.0069274094845674025, 0.0017318523711418506, 0.005195557113425552, 0.0034637047422837013, 0.05541927587653922, 0.0017318523711418506, 0.0034637047422837013, 0.0034637047422837013, 0.0034637047422837013, 0.0017318523711418506, 0.0017318523711418506, 0.0017318523711418506, 0.0017318523711418506, 0.008659261855709253, 0.0017318523711418506, 0.0017318523711418506, 0.0034637047422837013, 0.0017318523711418506, 0.0017318523711418506, 0.02424593319598591, 0.02653626799962036, 0.015921760799772217, 0.015921760799772217, 0.021229014399696287, 0.021229014399696287, 0.010614507199848144, 0.031843521599544435, 0.010614507199848144, 0.01857538759973425, 0.01326813399981018, 0.007960880399886109, 0.023882641199658324, 0.007960880399886109, 0.01326813399981018, 0.01326813399981018, 0.02653626799962036, 0.010614507199848144, 0.015921760799772217, 0.005307253599924072, 0.007960880399886109, 0.005307253599924072, 0.01326813399981018, 0.010614507199848144, 0.01857538759973425, 0.01326813399981018, 0.01326813399981018, 0.002653626799962036, 0.021229014399696287, 0.005307253599924072, 0.002653626799962036, 0.01326813399981018, 0.005307253599924072, 0.005307253599924072, 0.007960880399886109, 0.01326813399981018, 0.010614507199848144, 0.021229014399696287, 0.010614507199848144, 0.007960880399886109, 0.005307253599924072, 0.010614507199848144, 0.01857538759973425, 0.010614507199848144, 0.01326813399981018, 0.007960880399886109, 0.002653626799962036, 0.002653626799962036, 0.002653626799962036, 0.005307253599924072, 0.002653626799962036, 0.002653626799962036, 0.002653626799962036, 0.2812844407959758, 0.029189894799582398, 0.002653626799962036, 0.005307253599924072, 0.002653626799962036, 0.002653626799962036, 0.005307253599924072, 0.002653626799962036, 0.002653626799962036, 0.007960880399886109, 0.002653626799962036, 0.002653626799962036, 0.005307253599924072, 0.002653626799962036, 0.002653626799962036, 0.002653626799962036, 0.002653626799962036, 0.029189894799582398, 0.020833962210302332, 0.029514779797928305, 0.01736163517525194, 0.026042452762877914, 0.019097798692777137, 0.026042452762877914, 0.01736163517525194, 0.020833962210302332, 0.026042452762877914, 0.026042452762877914, 0.01736163517525194, 0.01215314462267636, 0.01736163517525194, 0.013889308140201555, 0.019097798692777137, 0.01736163517525194, 0.01562547165772675, 0.020833962210302332, 0.022570125727827527, 0.020833962210302332, 0.01562547165772675, 0.01562547165772675, 0.0034723270350503887, 0.022570125727827527, 0.01215314462267636, 0.010416981105151166, 0.010416981105151166, 0.010416981105151166, 0.0034723270350503887, 0.01215314462267636, 0.013889308140201555, 0.01562547165772675, 0.010416981105151166, 0.020833962210302332, 0.01215314462267636, 0.01736163517525194, 0.019097798692777137, 0.013889308140201555, 0.006944654070100777, 0.00868081758762597, 0.00868081758762597, 0.006944654070100777, 0.010416981105151166, 0.00868081758762597, 0.00868081758762597, 0.01562547165772675, 0.010416981105151166, 0.00868081758762597, 0.00868081758762597, 0.006944654070100777, 0.01215314462267636, 0.00868081758762597, 0.11805911919171322, 0.00868081758762597, 0.005208490552575583, 0.0034723270350503887, 0.006944654070100777, 0.013889308140201555, 0.00868081758762597, 0.005208490552575583, 0.0017361635175251943, 0.005208490552575583, 0.0034723270350503887, 0.005208490552575583, 0.0034723270350503887, 0.005208490552575583, 0.005208490552575583, 0.0034723270350503887, 0.0017361635175251943, 0.0017361635175251943, 0.0017361635175251943, 0.005208490552575583, 0.0017361635175251943, 0.0017361635175251943, 0.0017361635175251943, 0.0034723270350503887, 0.005208490552575583, 0.007314862087803452, 0.014629724175606904, 0.006095718406502877, 0.02925944835121381, 0.02925944835121381, 0.009753149450404603, 0.02925944835121381, 0.014629724175606904, 0.017068011538208055, 0.2779647593365312, 0.02072544258210978, 0.01341058049430633, 0.010972293131705179, 0.023163729944710932, 0.012191436813005755, 0.003657431043901726, 0.006095718406502877, 0.004876574725202302, 0.010972293131705179, 0.03535516675771669, 0.030478592032514386, 0.01341058049430633, 0.009753149450404603, 0.010972293131705179, 0.012191436813005755, 0.002438287362601151, 0.003657431043901726, 0.02438287362601151, 0.004876574725202302, 0.009753149450404603, 0.05608060933982647, 0.008534005769104028, 0.006095718406502877, 0.010972293131705179, 0.007314862087803452, 0.007314862087803452, 0.003657431043901726, 0.007314862087803452, 0.0012191436813005754, 0.006095718406502877, 0.01341058049430633, 0.008534005769104028, 0.003657431043901726, 0.012191436813005755, 0.003657431043901726, 0.003657431043901726, 0.003657431043901726, 0.01584886785690748, 0.006095718406502877, 0.002438287362601151, 0.008534005769104028, 0.0012191436813005754, 0.003657431043901726, 0.01341058049430633, 0.009753149450404603, 0.002438287362601151, 0.003657431043901726, 0.002438287362601151, 0.0012191436813005754, 0.01341058049430633, 0.003657431043901726, 0.01341058049430633, 0.004876574725202302, 0.0012191436813005754, 0.002438287362601151, 0.0012191436813005754, 0.002438287362601151, 0.0012191436813005754, 0.003657431043901726, 0.002438287362601151, 0.0012191436813005754, 0.002438287362601151, 0.003657431043901726, 0.0012191436813005754, 0.004876574725202302, 0.004876574725202302, 0.017303895446478767, 0.01153593029765251, 0.008651947723239383, 0.008651947723239383, 0.008651947723239383, 0.005767965148826255, 0.7296475913265213, 0.028839825744131277, 0.008651947723239383, 0.014419912872065638, 0.008651947723239383, 0.01153593029765251, 0.008651947723239383, 0.0028839825744131275, 0.008651947723239383, 0.005767965148826255, 0.008651947723239383, 0.0028839825744131275, 0.0028839825744131275, 0.0028839825744131275, 0.008651947723239383, 0.01153593029765251, 0.005767965148826255, 0.0028839825744131275, 0.0028839825744131275, 0.0028839825744131275, 0.0028839825744131275, 0.0028839825744131275, 0.0028839825744131275, 0.0028839825744131275, 0.005767965148826255, 0.0028839825744131275, 0.005767965148826255, 0.0028839825744131275, 0.0028839825744131275, 0.0028839825744131275, 0.005767965148826255, 0.0028839825744131275, 0.0028839825744131275, 0.0028839825744131275, 0.0028839825744131275, 0.0028839825744131275, 0.030495702370163233, 0.02033046824677549, 0.02033046824677549, 0.01270654265423468, 0.01778915971592855, 0.02541308530846936, 0.02541308530846936, 0.027954393839316298, 0.027954393839316298, 0.02033046824677549, 0.02033046824677549, 0.022871776777622425, 0.027954393839316298, 0.015247851185081616, 0.01270654265423468, 0.02033046824677549, 0.015247851185081616, 0.007623925592540808, 0.010165234123387745, 0.007623925592540808, 0.015247851185081616, 0.0025413085308469362, 0.01778915971592855, 0.015247851185081616, 0.027954393839316298, 0.01778915971592855, 0.01778915971592855, 0.01270654265423468, 0.010165234123387745, 0.015247851185081616, 0.01270654265423468, 0.015247851185081616, 0.0050826170616938724, 0.007623925592540808, 0.022871776777622425, 0.010165234123387745, 0.0050826170616938724, 0.007623925592540808, 0.02033046824677549, 0.015247851185081616, 0.022871776777622425, 0.010165234123387745, 0.02033046824677549, 0.007623925592540808, 0.01778915971592855, 0.010165234123387745, 0.11435888388811212, 0.0050826170616938724, 0.007623925592540808, 0.0050826170616938724, 0.0025413085308469362, 0.0025413085308469362, 0.0025413085308469362, 0.0050826170616938724, 0.007623925592540808, 0.007623925592540808, 0.0050826170616938724, 0.007623925592540808, 0.010165234123387745, 0.0025413085308469362, 0.0050826170616938724, 0.007623925592540808, 0.0050826170616938724, 0.0025413085308469362, 0.01270654265423468, 0.0050826170616938724, 0.0025413085308469362, 0.0050826170616938724, 0.0025413085308469362, 0.0050826170616938724, 0.025818446148675928, 0.003972068638257835, 0.013902240233902421, 0.00794413727651567, 0.04369275502083618, 0.005958102957386752, 0.017874308872160256, 0.017874308872160256, 0.017874308872160256, 0.005958102957386752, 0.02184637751041809, 0.03574861774432051, 0.011916205914773504, 0.003972068638257835, 0.027804480467804843, 0.005958102957386752, 0.01588827455303134, 0.009930171595644587, 0.009930171595644587, 0.017874308872160256, 0.003972068638257835, 0.13107826506250855, 0.003972068638257835, 0.003972068638257835, 0.0019860343191289175, 0.011916205914773504, 0.003972068638257835, 0.0019860343191289175, 0.011916205914773504, 0.013902240233902421, 0.005958102957386752, 0.019860343191289175, 0.00794413727651567, 0.003972068638257835, 0.00794413727651567, 0.003972068638257835, 0.003972068638257835, 0.00794413727651567, 0.003972068638257835, 0.009930171595644587, 0.0019860343191289175, 0.005958102957386752, 0.0019860343191289175, 0.011916205914773504, 0.017874308872160256, 0.02184637751041809, 0.2859889419545641, 0.0019860343191289175, 0.005958102957386752, 0.0019860343191289175, 0.00794413727651567, 0.009930171595644587, 0.003972068638257835, 0.0019860343191289175, 0.003972068638257835, 0.003972068638257835, 0.0019860343191289175, 0.005958102957386752, 0.0019860343191289175, 0.0019860343191289175, 0.005958102957386752, 0.013212800040629587, 0.01801745460085853, 0.008408145480400645, 0.022822109161087466, 0.0240232728011447, 0.028827927361373643, 0.007206981840343411, 0.015615127320744058, 0.020419781880972997, 0.013212800040629587, 0.008408145480400645, 0.06246050928297623, 0.006005818200286175, 0.0024023272801144704, 0.006005818200286175, 0.009609309120457881, 0.0240232728011447, 0.01201163640057235, 0.021620945521030232, 0.010810472760515116, 0.004804654560228941, 0.028827927361373643, 0.0024023272801144704, 0.3243141828154535, 0.0012011636400572352, 0.007206981840343411, 0.031230254641488115, 0.0036034909201717053, 0.008408145480400645, 0.0024023272801144704, 0.008408145480400645, 0.006005818200286175, 0.0012011636400572352, 0.013212800040629587, 0.008408145480400645, 0.009609309120457881, 0.004804654560228941, 0.0036034909201717053, 0.010810472760515116, 0.0036034909201717053, 0.0036034909201717053, 0.0036034909201717053, 0.0036034909201717053, 0.0012011636400572352, 0.0012011636400572352, 0.0012011636400572352, 0.009609309120457881, 0.010810472760515116, 0.0024023272801144704, 0.0024023272801144704, 0.0024023272801144704, 0.0024023272801144704, 0.0012011636400572352, 0.01201163640057235, 0.06125934564291899, 0.0024023272801144704, 0.004804654560228941, 0.0012011636400572352, 0.0024023272801144704, 0.021620945521030232, 0.0036034909201717053, 0.013212800040629587, 0.0012011636400572352, 0.0024023272801144704, 0.0024023272801144704, 0.0012011636400572352, 0.004804654560228941, 0.0024023272801144704, 0.02591682752440176, 0.023037180021690456, 0.01727788501626784, 0.014398237513556534, 0.00863894250813392, 0.02591682752440176, 0.020157532518979147, 0.01727788501626784, 0.011518590010845228, 0.011518590010845228, 0.00863894250813392, 0.02591682752440176, 0.011518590010845228, 0.020157532518979147, 0.011518590010845228, 0.005759295005422614, 0.002879647502711307, 0.00863894250813392, 0.002879647502711307, 0.002879647502711307, 0.005759295005422614, 0.00863894250813392, 0.02591682752440176, 0.011518590010845228, 0.002879647502711307, 0.014398237513556534, 0.002879647502711307, 0.00863894250813392, 0.00863894250813392, 0.002879647502711307, 0.002879647502711307, 0.002879647502711307, 0.005759295005422614, 0.002879647502711307, 0.48378078045549955, 0.011518590010845228, 0.005759295005422614, 0.011518590010845228, 0.011518590010845228, 0.002879647502711307, 0.011518590010845228, 0.002879647502711307, 0.00863894250813392, 0.002879647502711307, 0.002879647502711307, 0.002879647502711307, 0.002879647502711307, 0.002879647502711307, 0.002879647502711307, 0.005759295005422614, 0.002879647502711307, 0.014398237513556534, 0.005759295005422614, 0.002879647502711307, 0.005759295005422614, 0.008742241178443197, 0.07168637766323421, 0.019232930592575033, 0.005245344707065918, 0.006993792942754557, 0.02272982706395231, 0.005245344707065918, 0.0017484482356886393, 0.02272982706395231, 0.0034968964713772786, 0.006993792942754557, 0.6311898130835988, 0.0017484482356886393, 0.005245344707065918, 0.005245344707065918, 0.012239137649820476, 0.0034968964713772786, 0.0034968964713772786, 0.010490689414131836, 0.006993792942754557, 0.0017484482356886393, 0.0017484482356886393, 0.0034968964713772786, 0.0017484482356886393, 0.006993792942754557, 0.006993792942754557, 0.0034968964713772786, 0.013987585885509114, 0.0017484482356886393, 0.0017484482356886393, 0.0017484482356886393, 0.0017484482356886393, 0.0017484482356886393, 0.0017484482356886393, 0.0034968964713772786, 0.012239137649820476, 0.0017484482356886393, 0.0034968964713772786, 0.0034968964713772786, 0.0017484482356886393, 0.0017484482356886393, 0.03496896471377279, 0.0017484482356886393, 0.0034968964713772786, 0.0017484482356886393, 0.0034968964713772786, 0.013987585885509114, 0.0017484482356886393, 0.019521666921390894, 0.019521666921390894, 0.0055776191203973985, 0.013944047800993497, 0.011155238240794797, 0.016732857361192194, 0.013944047800993497, 0.008366428680596097, 0.013944047800993497, 0.011155238240794797, 0.016732857361192194, 0.008366428680596097, 0.011155238240794797, 0.016732857361192194, 0.013944047800993497, 0.0055776191203973985, 0.008366428680596097, 0.0027888095601986992, 0.0055776191203973985, 0.008366428680596097, 0.013944047800993497, 0.0027888095601986992, 0.011155238240794797, 0.0027888095601986992, 0.0027888095601986992, 0.0027888095601986992, 0.011155238240794797, 0.008366428680596097, 0.0055776191203973985, 0.008366428680596097, 0.03904333384278179, 0.008366428680596097, 0.0027888095601986992, 0.0055776191203973985, 0.0027888095601986992, 0.0027888095601986992, 0.0027888095601986992, 0.0027888095601986992, 0.5521842929193425, 0.0027888095601986992, 0.0055776191203973985, 0.0055776191203973985, 0.0027888095601986992, 0.0055776191203973985, 0.0027888095601986992, 0.0055776191203973985, 0.0027888095601986992, 0.0027888095601986992, 0.0027888095601986992, 0.0027888095601986992, 0.0027888095601986992, 0.0027888095601986992, 0.0027888095601986992, 0.0055776191203973985, 0.0055776191203973985, 0.0027888095601986992, 0.0027888095601986992, 0.0162946530528853, 0.01303572244230824, 0.009776791831731179, 0.01303572244230824, 0.00651786122115412, 0.0162946530528853, 0.009776791831731179, 0.00651786122115412, 0.00325893061057706, 0.00651786122115412, 0.01303572244230824, 0.00651786122115412, 0.00651786122115412, 0.00651786122115412, 0.0162946530528853, 0.00651786122115412, 0.00651786122115412, 0.0162946530528853, 0.00325893061057706, 0.009776791831731179, 0.00325893061057706, 0.00325893061057706, 0.6941522200529138, 0.00325893061057706, 0.02281251427403942, 0.00325893061057706, 0.00325893061057706, 0.00651786122115412, 0.00325893061057706, 0.00325893061057706, 0.00325893061057706, 0.00325893061057706, 0.00325893061057706, 0.00325893061057706, 0.00325893061057706, 0.00325893061057706, 0.009776791831731179, 0.00325893061057706, 0.00651786122115412, 0.00325893061057706, 0.017027238859488588, 0.011351492572992393, 0.019865112002736687, 0.03121660457572908, 0.022702985145984785, 0.014189365716240491, 0.028378731432480982, 0.028378731432480982, 0.028378731432480982, 0.014189365716240491, 0.022702985145984785, 0.014189365716240491, 0.005675746286496196, 0.017027238859488588, 0.019865112002736687, 0.022702985145984785, 0.1645966423083897, 0.014189365716240491, 0.011351492572992393, 0.022702985145984785, 0.022702985145984785, 0.008513619429744294, 0.008513619429744294, 0.025540858289232884, 0.014189365716240491, 0.008513619429744294, 0.017027238859488588, 0.025540858289232884, 0.014189365716240491, 0.014189365716240491, 0.011351492572992393, 0.008513619429744294, 0.011351492572992393, 0.028378731432480982, 0.028378731432480982, 0.005675746286496196, 0.011351492572992393, 0.017027238859488588, 0.011351492572992393, 0.005675746286496196, 0.005675746286496196, 0.011351492572992393, 0.005675746286496196, 0.014189365716240491, 0.002837873143248098, 0.002837873143248098, 0.005675746286496196, 0.008513619429744294, 0.017027238859488588, 0.002837873143248098, 0.002837873143248098, 0.002837873143248098, 0.005675746286496196, 0.008513619429744294, 0.008513619429744294, 0.005675746286496196, 0.008513619429744294, 0.002837873143248098, 0.005675746286496196, 0.005675746286496196, 0.002837873143248098, 0.008513619429744294, 0.005675746286496196, 0.002837873143248098, 0.002837873143248098, 0.002837873143248098, 0.002837873143248098, 0.005675746286496196, 0.005675746286496196, 0.02478768342767318, 0.026092298344919135, 0.01956922375868935, 0.02087383867593531, 0.022178453593181265, 0.01956922375868935, 0.01565537900695148, 0.02087383867593531, 0.01956922375868935, 0.01956922375868935, 0.016959993924197437, 0.018264608841443396, 0.014350764089705524, 0.018264608841443396, 0.016959993924197437, 0.02087383867593531, 0.02087383867593531, 0.026092298344919135, 0.02478768342767318, 0.016959993924197437, 0.013046149172459567, 0.01565537900695148, 0.03652921768288679, 0.016959993924197437, 0.009132304420721698, 0.01174153425521361, 0.016959993924197437, 0.01174153425521361, 0.01174153425521361, 0.016959993924197437, 0.01565537900695148, 0.010436919337967655, 0.01174153425521361, 0.01565537900695148, 0.00782768950347574, 0.013046149172459567, 0.01174153425521361, 0.014350764089705524, 0.014350764089705524, 0.0026092298344919137, 0.00782768950347574, 0.010436919337967655, 0.01174153425521361, 0.01956922375868935, 0.02087383867593531, 0.0052184596689838275, 0.006523074586229784, 0.01174153425521361, 0.01956922375868935, 0.013046149172459567, 0.00391384475173787, 0.009132304420721698, 0.010436919337967655, 0.010436919337967655, 0.0026092298344919137, 0.00782768950347574, 0.013046149172459567, 0.010436919337967655, 0.018264608841443396, 0.010436919337967655, 0.00391384475173787, 0.00391384475173787, 0.006523074586229784, 0.006523074586229784, 0.006523074586229784, 0.0052184596689838275, 0.00391384475173787, 0.0052184596689838275, 0.0026092298344919137, 0.00391384475173787, 0.0052184596689838275, 0.006523074586229784, 0.0052184596689838275, 0.0026092298344919137, 0.0052184596689838275, 0.00391384475173787, 0.0052184596689838275, 0.006523074586229784, 0.006523074586229784, 0.0026092298344919137, 0.004913923071922184, 0.004913923071922184, 0.002456961535961092, 0.004913923071922184, 0.007370884607883276, 0.004913923071922184, 0.002456961535961092, 0.009827846143844368, 0.004913923071922184, 0.029483538431533104, 0.6682935377814171, 0.007370884607883276, 0.004913923071922184, 0.002456961535961092, 0.002456961535961092, 0.007370884607883276, 0.002456961535961092, 0.002456961535961092, 0.002456961535961092, 0.004913923071922184, 0.009827846143844368, 0.017198730751727644, 0.007370884607883276, 0.002456961535961092, 0.01228480767980546, 0.002456961535961092, 0.002456961535961092, 0.007370884607883276, 0.004913923071922184, 0.004913923071922184, 0.004913923071922184, 0.002456961535961092, 0.007370884607883276, 0.002456961535961092, 0.004913923071922184, 0.004913923071922184, 0.002456961535961092, 0.002456961535961092, 0.009827846143844368, 0.002456961535961092, 0.009827846143844368, 0.05651011532710512, 0.002456961535961092, 0.007370884607883276, 0.002456961535961092, 0.009827846143844368, 0.002456961535961092, 0.002456961535961092, 0.004913923071922184, 0.01029451225787106, 0.00857876021489255, 0.012010264300849569, 0.012010264300849569, 0.00343150408595702, 0.01372601634382808, 0.012010264300849569, 0.0171575204297851, 0.00171575204297851, 0.015441768386806588, 0.00343150408595702, 0.0171575204297851, 0.00343150408595702, 0.00343150408595702, 0.521588621065467, 0.015441768386806588, 0.00514725612893553, 0.00171575204297851, 0.00343150408595702, 0.02058902451574212, 0.00171575204297851, 0.01029451225787106, 0.00514725612893553, 0.0343150408595702, 0.01029451225787106, 0.00514725612893553, 0.00857876021489255, 0.00171575204297851, 0.00514725612893553, 0.00343150408595702, 0.00514725612893553, 0.00343150408595702, 0.012010264300849569, 0.02916778473063467, 0.02058902451574212, 0.012010264300849569, 0.00171575204297851, 0.00686300817191404, 0.00686300817191404, 0.00514725612893553, 0.00171575204297851, 0.00514725612893553, 0.00171575204297851, 0.00171575204297851, 0.01372601634382808, 0.00343150408595702, 0.01372601634382808, 0.00171575204297851, 0.00171575204297851, 0.00514725612893553, 0.00343150408595702, 0.0171575204297851, 0.00171575204297851, 0.00343150408595702, 0.00171575204297851, 0.00343150408595702, 0.00343150408595702, 0.00171575204297851, 0.00171575204297851, 0.00514725612893553, 0.00171575204297851, 0.00343150408595702, 0.00171575204297851, 0.00171575204297851, 0.00343150408595702, 0.00171575204297851, 0.005924856493453519, 0.003949904328969012, 0.003949904328969012, 0.029624282467267594, 0.003949904328969012, 0.007899808657938025, 0.001974952164484506, 0.029624282467267594, 0.001974952164484506, 0.023699425973814078, 0.003949904328969012, 0.003949904328969012, 0.7188825878723604, 0.013824665151391545, 0.007899808657938025, 0.001974952164484506, 0.007899808657938025, 0.003949904328969012, 0.009874760822422533, 0.001974952164484506, 0.017774569480360557, 0.001974952164484506, 0.001974952164484506, 0.001974952164484506, 0.001974952164484506, 0.001974952164484506, 0.005924856493453519, 0.003949904328969012, 0.023699425973814078, 0.001974952164484506, 0.001974952164484506, 0.001974952164484506, 0.003949904328969012, 0.001974952164484506, 0.001974952164484506, 0.009874760822422533, 0.001974952164484506, 0.001974952164484506, 0.001974952164484506, 0.003949904328969012, 0.001974952164484506, 0.001974952164484506, 0.003949904328969012, 0.001974952164484506, 0.003949904328969012, 0.001974952164484506, 0.058661161232197535, 0.13374744760941037, 0.0023464464492879014, 0.007039339347863704, 0.009385785797151606, 0.6851623631920672, 0.0023464464492879014, 0.004692892898575803, 0.0023464464492879014, 0.0023464464492879014, 0.004692892898575803, 0.0023464464492879014, 0.0023464464492879014, 0.0023464464492879014, 0.0023464464492879014, 0.004692892898575803, 0.004692892898575803, 0.0023464464492879014, 0.0023464464492879014, 0.0023464464492879014, 0.0023464464492879014, 0.0023464464492879014, 0.004692892898575803, 0.03754314318860642, 0.026318546544771514, 0.014621414747095286, 0.01754569769651434, 0.0204699806459334, 0.01754569769651434, 0.01754569769651434, 0.024856405070061986, 0.014621414747095286, 0.023394263595352457, 0.026318546544771514, 0.013159273272385757, 0.016083556221804813, 0.01900783917122387, 0.014621414747095286, 0.01754569769651434, 0.016083556221804813, 0.01900783917122387, 0.005848565898838114, 0.014621414747095286, 0.013159273272385757, 0.011697131797676228, 0.014621414747095286, 0.0102349903229667, 0.0204699806459334, 0.007310707373547643, 0.013159273272385757, 0.0102349903229667, 0.016083556221804813, 0.005848565898838114, 0.014621414747095286, 0.014621414747095286, 0.01900783917122387, 0.013159273272385757, 0.0102349903229667, 0.013159273272385757, 0.055561376038962086, 0.011697131797676228, 0.11404703502734323, 0.014621414747095286, 0.005848565898838114, 0.013159273272385757, 0.005848565898838114, 0.0102349903229667, 0.013159273272385757, 0.0102349903229667, 0.011697131797676228, 0.011697131797676228, 0.011697131797676228, 0.016083556221804813, 0.00877284884825717, 0.002924282949419057, 0.005848565898838114, 0.005848565898838114, 0.002924282949419057, 0.00877284884825717, 0.004386424424128585, 0.004386424424128585, 0.01754569769651434, 0.0014621414747095285, 0.0014621414747095285, 0.002924282949419057, 0.005848565898838114, 0.002924282949419057, 0.0014621414747095285, 0.004386424424128585, 0.004386424424128585, 0.005848565898838114, 0.004386424424128585, 0.002924282949419057, 0.002924282949419057, 0.005848565898838114, 0.0014621414747095285, 0.0014621414747095285, 0.007310707373547643, 0.004386424424128585, 0.005848565898838114, 0.002924282949419057, 0.004386424424128585, 0.004386424424128585, 0.002924282949419057, 0.02644289585322503, 0.016272551294292326, 0.028476964765011572, 0.012204413470719244, 0.02237475802965195, 0.006102206735359622, 0.01830662020607887, 0.006102206735359622, 0.016272551294292326, 0.012204413470719244, 0.06712427408895584, 0.008136275647146163, 0.006102206735359622, 0.016272551294292326, 0.006102206735359622, 0.012204413470719244, 0.012204413470719244, 0.010170344558932704, 0.03864730932394427, 0.006102206735359622, 0.006102206735359622, 0.004068137823573082, 0.008136275647146163, 0.008136275647146163, 0.008136275647146163, 0.006102206735359622, 0.012204413470719244, 0.002034068911786541, 0.004068137823573082, 0.010170344558932704, 0.010170344558932704, 0.004068137823573082, 0.008136275647146163, 0.014238482382505786, 0.002034068911786541, 0.006102206735359622, 0.002034068911786541, 0.004068137823573082, 0.002034068911786541, 0.004068137823573082, 0.002034068911786541, 0.006102206735359622, 0.010170344558932704, 0.004068137823573082, 0.004068137823573082, 0.006102206735359622, 0.004068137823573082, 0.3905412310630158, 0.002034068911786541, 0.012204413470719244, 0.008136275647146163, 0.004068137823573082, 0.004068137823573082, 0.002034068911786541, 0.006102206735359622, 0.002034068911786541, 0.002034068911786541, 0.002034068911786541, 0.002034068911786541, 0.004068137823573082, 0.002034068911786541, 0.004068137823573082, 0.002034068911786541, 0.002034068911786541, 0.012204413470719244, 0.006102206735359622, 0.004068137823573082, 0.004068137823573082, 0.004068137823573082, 0.008136275647146163, 0.006186751186550524, 0.021653629152926835, 0.012373502373101048, 0.009280126779825787, 0.012373502373101048, 0.006186751186550524, 0.006186751186550524, 0.006186751186550524, 0.009280126779825787, 0.009280126779825787, 0.03402713152602788, 0.003093375593275262, 0.006186751186550524, 0.006186751186550524, 0.003093375593275262, 0.003093375593275262, 0.009280126779825787, 0.6867293817071082, 0.006186751186550524, 0.009280126779825787, 0.006186751186550524, 0.006186751186550524, 0.012373502373101048, 0.003093375593275262, 0.006186751186550524, 0.012373502373101048, 0.003093375593275262, 0.021653629152926835, 0.009280126779825787, 0.003093375593275262, 0.003093375593275262, 0.003093375593275262, 0.003093375593275262, 0.003093375593275262, 0.006186751186550524, 0.003093375593275262, 0.006186751186550524, 0.003093375593275262, 0.006186751186550524, 0.006186751186550524, 0.008082468244169375, 0.010776624325559167, 0.01616493648833875, 0.010776624325559167, 0.0026941560813897917, 0.03771818513945708, 0.013470780406948957, 0.01616493648833875, 0.005388312162779583, 0.008082468244169375, 0.01885909256972854, 0.021553248651118333, 0.005388312162779583, 0.024247404732508124, 0.026941560813897914, 0.05657727770918562, 0.013470780406948957, 0.05388312162779583, 0.008082468244169375, 0.013470780406948957, 0.01616493648833875, 0.005388312162779583, 0.010776624325559167, 0.021553248651118333, 0.0026941560813897917, 0.01616493648833875, 0.008082468244169375, 0.005388312162779583, 0.005388312162779583, 0.005388312162779583, 0.0026941560813897917, 0.008082468244169375, 0.010776624325559167, 0.0026941560813897917, 0.005388312162779583, 0.37718185139457083, 0.0026941560813897917, 0.005388312162779583, 0.005388312162779583, 0.0026941560813897917, 0.005388312162779583, 0.01885909256972854, 0.0026941560813897917, 0.0026941560813897917, 0.0026941560813897917, 0.026941560813897914, 0.0026941560813897917, 0.0026941560813897917, 0.0026941560813897917, 0.0026941560813897917, 0.0026941560813897917, 0.005388312162779583, 0.005388312162779583, 0.0026941560813897917, 0.0026941560813897917, 0.0026941560813897917, 0.005388312162779583, 0.0026941560813897917, 0.0026941560813897917, 0.0026941560813897917, 0.02087087701440718, 0.025508849684275442, 0.01855189067947305, 0.027827836019209573, 0.02087087701440718, 0.02087087701440718, 0.032465808689077835, 0.01855189067947305, 0.02087087701440718, 0.02318986334934131, 0.02087087701440718, 0.016232904344538918, 0.013913918009604787, 0.02318986334934131, 0.01855189067947305, 0.013913918009604787, 0.01855189067947305, 0.025508849684275442, 0.013913918009604787, 0.01855189067947305, 0.016232904344538918, 0.016232904344538918, 0.02087087701440718, 0.01855189067947305, 0.013913918009604787, 0.013913918009604787, 0.009275945339736524, 0.02087087701440718, 0.006956959004802393, 0.013913918009604787, 0.02087087701440718, 0.013913918009604787, 0.011594931674670655, 0.016232904344538918, 0.006956959004802393, 0.032465808689077835, 0.013913918009604787, 0.011594931674670655, 0.011594931674670655, 0.011594931674670655, 0.004637972669868262, 0.009275945339736524, 0.01855189067947305, 0.013913918009604787, 0.016232904344538918, 0.004637972669868262, 0.009275945339736524, 0.02087087701440718, 0.016232904344538918, 0.02318986334934131, 0.009275945339736524, 0.013913918009604787, 0.002318986334934131, 0.006956959004802393, 0.002318986334934131, 0.006956959004802393, 0.013913918009604787, 0.013913918009604787, 0.004637972669868262, 0.006956959004802393, 0.002318986334934131, 0.006956959004802393, 0.004637972669868262, 0.004637972669868262, 0.004637972669868262, 0.006956959004802393, 0.002318986334934131, 0.004637972669868262, 0.004637972669868262, 0.002318986334934131, 0.004637972669868262, 0.002318986334934131, 0.004637972669868262, 0.002318986334934131, 0.006956959004802393, 0.004637972669868262, 0.002318986334934131, 0.027104995509191685, 0.019575830089971772, 0.17618247080974594, 0.00602333233537593, 0.0045174992515319475, 0.00602333233537593, 0.00602333233537593, 0.01204666467075186, 0.009034998503063895, 0.015058330838439824, 0.04216332634763151, 0.0045174992515319475, 0.0045174992515319475, 0.015058330838439824, 0.00602333233537593, 0.0045174992515319475, 0.007529165419219912, 0.013552497754595843, 0.007529165419219912, 0.010540831586907877, 0.007529165419219912, 0.3915166017994355, 0.013552497754595843, 0.003011666167687965, 0.003011666167687965, 0.015058330838439824, 0.00602333233537593, 0.0015058330838439826, 0.01204666467075186, 0.00602333233537593, 0.0015058330838439826, 0.0015058330838439826, 0.0015058330838439826, 0.013552497754595843, 0.00602333233537593, 0.0045174992515319475, 0.0045174992515319475, 0.0045174992515319475, 0.003011666167687965, 0.0015058330838439826, 0.013552497754595843, 0.0015058330838439826, 0.003011666167687965, 0.003011666167687965, 0.003011666167687965, 0.009034998503063895, 0.003011666167687965, 0.0045174992515319475, 0.003011666167687965, 0.0015058330838439826, 0.00602333233537593, 0.0015058330838439826, 0.003011666167687965, 0.003011666167687965, 0.0045174992515319475, 0.0015058330838439826, 0.007529165419219912, 0.01204666467075186, 0.007529165419219912, 0.003011666167687965, 0.00602333233537593, 0.003011666167687965, 0.01867021123340766, 0.014521275403761512, 0.014521275403761512, 0.012446807488938439, 0.0062234037444692195, 0.012446807488938439, 0.016595743318584585, 0.0062234037444692195, 0.010372339574115366, 0.016595743318584585, 0.010372339574115366, 0.016595743318584585, 0.012446807488938439, 0.012446807488938439, 0.012446807488938439, 0.012446807488938439, 0.012446807488938439, 0.0062234037444692195, 0.0062234037444692195, 0.008297871659292293, 0.004148935829646146, 0.008297871659292293, 0.0062234037444692195, 0.010372339574115366, 0.002074467914823073, 0.002074467914823073, 0.004148935829646146, 0.004148935829646146, 0.0062234037444692195, 0.010372339574115366, 0.002074467914823073, 0.002074467914823073, 0.0062234037444692195, 0.002074467914823073, 0.008297871659292293, 0.004148935829646146, 0.002074467914823073, 0.008297871659292293, 0.5435105936836452, 0.008297871659292293, 0.002074467914823073, 0.010372339574115366, 0.002074467914823073, 0.004148935829646146, 0.004148935829646146, 0.0062234037444692195, 0.008297871659292293, 0.002074467914823073, 0.004148935829646146, 0.002074467914823073, 0.002074467914823073, 0.002074467914823073, 0.049787229955753756, 0.002074467914823073, 0.004148935829646146, 0.002074467914823073, 0.004148935829646146, 0.002074467914823073, 0.028782718609071577, 0.030701566516343013, 0.028782718609071577, 0.019188479072714384, 0.015350783258171507, 0.019188479072714384, 0.02302617488725726, 0.030701566516343013, 0.024945022794528697, 0.01151308744362863, 0.013431935350900068, 0.01151308744362863, 0.02302617488725726, 0.019188479072714384, 0.017269631165442945, 0.04797119768178596, 0.02110732697998582, 0.02302617488725726, 0.009594239536357192, 0.005756543721814315, 0.019188479072714384, 0.013431935350900068, 0.007675391629085753, 0.017269631165442945, 0.015350783258171507, 0.009594239536357192, 0.015350783258171507, 0.015350783258171507, 0.017269631165442945, 0.007675391629085753, 0.01151308744362863, 0.007675391629085753, 0.005756543721814315, 0.02302617488725726, 0.013431935350900068, 0.019188479072714384, 0.01151308744362863, 0.01151308744362863, 0.007675391629085753, 0.013431935350900068, 0.02302617488725726, 0.04413350186724308, 0.007675391629085753, 0.013431935350900068, 0.017269631165442945, 0.009594239536357192, 0.0038376958145428766, 0.013431935350900068, 0.02302617488725726, 0.005756543721814315, 0.01151308744362863, 0.0019188479072714383, 0.005756543721814315, 0.005756543721814315, 0.007675391629085753, 0.005756543721814315, 0.01151308744362863, 0.026863870701800137, 0.0038376958145428766, 0.0038376958145428766, 0.009594239536357192, 0.0019188479072714383, 0.0038376958145428766, 0.0038376958145428766, 0.0038376958145428766, 0.0019188479072714383, 0.0038376958145428766, 0.005756543721814315, 0.009594239536357192, 0.005756543721814315, 0.0038376958145428766, 0.0038376958145428766, 0.0038376958145428766, 0.0038376958145428766, 0.022205582090599883, 0.028127070648093184, 0.017764465672479905, 0.023685954229973206, 0.026646698508719858, 0.017764465672479905, 0.023685954229973206, 0.01924483781185323, 0.02960744278746651, 0.028127070648093184, 0.025166326369346532, 0.020725209951226557, 0.017764465672479905, 0.014803721393733255, 0.01628409353310658, 0.013323349254359929, 0.01924483781185323, 0.017764465672479905, 0.020725209951226557, 0.01628409353310658, 0.014803721393733255, 0.017764465672479905, 0.008882232836239953, 0.011842977114986603, 0.01924483781185323, 0.017764465672479905, 0.0059214885574933014, 0.01628409353310658, 0.011842977114986603, 0.014803721393733255, 0.020725209951226557, 0.0074018606968666275, 0.01628409353310658, 0.01628409353310658, 0.011842977114986603, 0.011842977114986603, 0.008882232836239953, 0.0059214885574933014, 0.0074018606968666275, 0.008882232836239953, 0.010362604975613279, 0.017764465672479905, 0.01628409353310658, 0.0074018606968666275, 0.017764465672479905, 0.011842977114986603, 0.014803721393733255, 0.010362604975613279, 0.0074018606968666275, 0.011842977114986603, 0.0074018606968666275, 0.013323349254359929, 0.008882232836239953, 0.010362604975613279, 0.0074018606968666275, 0.0074018606968666275, 0.0059214885574933014, 0.0029607442787466507, 0.0014803721393733254, 0.050332652738693064, 0.013323349254359929, 0.010362604975613279, 0.004441116418119976, 0.0059214885574933014, 0.0029607442787466507, 0.004441116418119976, 0.004441116418119976, 0.004441116418119976, 0.0029607442787466507, 0.0029607442787466507, 0.0014803721393733254, 0.0029607442787466507, 0.0029607442787466507, 0.004441116418119976, 0.004441116418119976, 0.0029607442787466507, 0.0059214885574933014, 0.004441116418119976, 0.004441116418119976, 0.07310655687575368, 0.7260237372488642, 0.0025209157543363337, 0.0025209157543363337, 0.0050418315086726674, 0.08066930413876268, 0.0025209157543363337, 0.0025209157543363337, 0.0025209157543363337, 0.015125494526018003, 0.0025209157543363337, 0.0025209157543363337, 0.0050418315086726674, 0.0025209157543363337, 0.0025209157543363337, 0.0025209157543363337, 0.0025209157543363337, 0.0025209157543363337, 0.0025209157543363337, 0.0050418315086726674, 0.0025209157543363337, 0.0025209157543363337, 0.017646410280354338, 0.0025209157543363337, 0.0050418315086726674, 0.0025209157543363337, 0.0050418315086726674, 0.0025209157543363337, 0.007166115492651071, 0.012540702112139373, 0.0035830577463255354, 0.7201946070114326, 0.014332230985302142, 0.0035830577463255354, 0.010749173238976607, 0.021498346477953213, 0.010749173238976607, 0.0035830577463255354, 0.007166115492651071, 0.025081404224278746, 0.0017915288731627677, 0.0017915288731627677, 0.014332230985302142, 0.0017915288731627677, 0.007166115492651071, 0.0035830577463255354, 0.0035830577463255354, 0.0017915288731627677, 0.005374586619488303, 0.012540702112139373, 0.007166115492651071, 0.005374586619488303, 0.0017915288731627677, 0.010749173238976607, 0.0017915288731627677, 0.0017915288731627677, 0.0017915288731627677, 0.0017915288731627677, 0.0017915288731627677, 0.005374586619488303, 0.0035830577463255354, 0.016123759858464908, 0.005374586619488303, 0.0017915288731627677, 0.0017915288731627677, 0.016123759858464908, 0.0017915288731627677, 0.0017915288731627677, 0.0017915288731627677, 0.0017915288731627677, 0.0017915288731627677, 0.0017915288731627677, 0.0017915288731627677, 0.005374586619488303, 0.0017915288731627677, 0.017203252481285583, 0.005734417493761861, 0.0028672087468809304, 0.0028672087468809304, 0.037273713709452094, 0.008601626240642792, 0.017203252481285583, 0.008601626240642792, 0.008601626240642792, 0.008601626240642792, 0.0028672087468809304, 0.014336043734404653, 0.005734417493761861, 0.6451219680482093, 0.005734417493761861, 0.0028672087468809304, 0.0028672087468809304, 0.0028672087468809304, 0.005734417493761861, 0.008601626240642792, 0.017203252481285583, 0.011468834987523721, 0.0028672087468809304, 0.005734417493761861, 0.017203252481285583, 0.005734417493761861, 0.005734417493761861, 0.0028672087468809304, 0.0028672087468809304, 0.005734417493761861, 0.0028672087468809304, 0.005734417493761861, 0.008601626240642792, 0.0028672087468809304, 0.011468834987523721, 0.011468834987523721, 0.0028672087468809304, 0.0028672087468809304, 0.0028672087468809304, 0.0028672087468809304, 0.0028672087468809304, 0.0028672087468809304, 0.0028672087468809304, 0.0028672087468809304, 0.0028672087468809304, 0.011468834987523721, 0.0028672087468809304, 0.005734417493761861, 0.0028672087468809304, 0.0028672087468809304, 0.7418791067140279, 0.00838281476513026, 0.07963674026873746, 0.006287111073847694, 0.002095703691282565, 0.002095703691282565, 0.00838281476513026, 0.050296888590781554, 0.00419140738256513, 0.002095703691282565, 0.00419140738256513, 0.002095703691282565, 0.002095703691282565, 0.002095703691282565, 0.002095703691282565, 0.00419140738256513, 0.002095703691282565, 0.00419140738256513, 0.00419140738256513, 0.002095703691282565, 0.00419140738256513, 0.002095703691282565, 0.002095703691282565, 0.002095703691282565, 0.012574222147695388, 0.002095703691282565, 0.002095703691282565, 0.002095703691282565, 0.002095703691282565, 0.00838281476513026, 0.002095703691282565, 0.002095703691282565, 0.00838281476513026, 0.002095703691282565, 0.002095703691282565, 0.006584073762813025, 0.006584073762813025, 0.004938055322109769, 0.006584073762813025, 0.006584073762813025, 0.004938055322109769, 0.0032920368814065124, 0.006584073762813025, 0.008230092203516282, 0.0032920368814065124, 0.008230092203516282, 0.0016460184407032562, 0.009876110644219538, 0.004938055322109769, 0.0032920368814065124, 0.004938055322109769, 0.014814165966329305, 0.6534693209591927, 0.0032920368814065124, 0.006584073762813025, 0.024690276610548845, 0.0032920368814065124, 0.008230092203516282, 0.004938055322109769, 0.004938055322109769, 0.0016460184407032562, 0.004938055322109769, 0.008230092203516282, 0.0032920368814065124, 0.0016460184407032562, 0.006584073762813025, 0.0016460184407032562, 0.008230092203516282, 0.008230092203516282, 0.006584073762813025, 0.0032920368814065124, 0.0016460184407032562, 0.0016460184407032562, 0.0032920368814065124, 0.0016460184407032562, 0.09711508800149211, 0.0016460184407032562, 0.0016460184407032562, 0.0016460184407032562, 0.0016460184407032562, 0.0016460184407032562, 0.0016460184407032562, 0.0016460184407032562, 0.0016460184407032562, 0.0016460184407032562, 0.0016460184407032562, 0.0032920368814065124, 0.0016460184407032562, 0.0016460184407032562, 0.007656520711073769, 0.015313041422147539, 0.010208694281431693, 0.015313041422147539, 0.010208694281431693, 0.0051043471407158465, 0.028073909273937155, 0.007656520711073769, 0.007656520711073769, 0.0025521735703579232, 0.7682042446777348, 0.0025521735703579232, 0.0025521735703579232, 0.007656520711073769, 0.0025521735703579232, 0.015313041422147539, 0.0051043471407158465, 0.0025521735703579232, 0.012760867851789617, 0.007656520711073769, 0.0025521735703579232, 0.0025521735703579232, 0.007656520711073769, 0.007656520711073769, 0.0025521735703579232, 0.0025521735703579232, 0.0025521735703579232, 0.0025521735703579232, 0.010208694281431693, 0.0025521735703579232, 0.0051043471407158465, 0.0025521735703579232, 0.0025521735703579232, 0.0025521735703579232, 0.0051043471407158465, 0.02056085066312934, 0.026435379424023436, 0.011749057521788194, 0.024966747233799914, 0.02056085066312934, 0.022029482853352864, 0.01762358628268229, 0.022029482853352864, 0.011749057521788194, 0.014686321902235244, 0.011749057521788194, 0.01615495409245877, 0.01615495409245877, 0.02056085066312934, 0.01762358628268229, 0.01028042533156467, 0.02056085066312934, 0.01762358628268229, 0.008811793141341145, 0.013217689712011718, 0.01615495409245877, 0.022029482853352864, 0.02056085066312934, 0.014686321902235244, 0.011749057521788194, 0.014686321902235244, 0.011749057521788194, 0.013217689712011718, 0.011749057521788194, 0.008811793141341145, 0.011749057521788194, 0.01762358628268229, 0.011749057521788194, 0.02790401161424696, 0.007343160951117622, 0.019092218472905816, 0.02790401161424696, 0.008811793141341145, 0.007343160951117622, 0.011749057521788194, 0.022029482853352864, 0.01028042533156467, 0.008811793141341145, 0.007343160951117622, 0.005874528760894097, 0.005874528760894097, 0.007343160951117622, 0.014686321902235244, 0.004405896570670573, 0.02056085066312934, 0.005874528760894097, 0.008811793141341145, 0.0029372643804470486, 0.01615495409245877, 0.005874528760894097, 0.11308467864721138, 0.004405896570670573, 0.02790401161424696, 0.01028042533156467, 0.008811793141341145, 0.0029372643804470486, 0.004405896570670573, 0.0029372643804470486, 0.0029372643804470486, 0.0029372643804470486, 0.0014686321902235243, 0.0029372643804470486, 0.0029372643804470486, 0.004405896570670573, 0.004405896570670573, 0.0029372643804470486, 0.0014686321902235243, 0.0029372643804470486, 0.004405896570670573, 0.0014686321902235243, 0.0014686321902235243, 0.0029372643804470486, 0.022544901330076663, 0.02479939146308433, 0.020290411197068998, 0.02479939146308433, 0.015781430931053664, 0.01803592106406133, 0.022544901330076663, 0.020290411197068998, 0.01803592106406133, 0.02479939146308433, 0.020290411197068998, 0.015781430931053664, 0.027053881596091997, 0.013526940798045999, 0.015781430931053664, 0.022544901330076663, 0.02479939146308433, 0.020290411197068998, 0.022544901330076663, 0.011272450665038332, 0.011272450665038332, 0.01803592106406133, 0.013526940798045999, 0.020290411197068998, 0.006763470399022999, 0.013526940798045999, 0.013526940798045999, 0.015781430931053664, 0.002254490133007666, 0.011272450665038332, 0.009017960532030665, 0.015781430931053664, 0.011272450665038332, 0.015781430931053664, 0.013526940798045999, 0.01803592106406133, 0.011272450665038332, 0.022544901330076663, 0.013526940798045999, 0.022544901330076663, 0.002254490133007666, 0.015781430931053664, 0.015781430931053664, 0.011272450665038332, 0.009017960532030665, 0.009017960532030665, 0.02479939146308433, 0.015781430931053664, 0.011272450665038332, 0.004508980266015332, 0.006763470399022999, 0.004508980266015332, 0.004508980266015332, 0.002254490133007666, 0.011272450665038332, 0.045089802660153326, 0.013526940798045999, 0.009017960532030665, 0.013526940798045999, 0.002254490133007666, 0.002254490133007666, 0.002254490133007666, 0.006763470399022999, 0.004508980266015332, 0.004508980266015332, 0.004508980266015332, 0.004508980266015332, 0.004508980266015332, 0.002254490133007666, 0.004508980266015332, 0.002254490133007666, 0.002254490133007666, 0.006763470399022999, 0.009017960532030665, 0.004508980266015332, 0.004508980266015332, 0.002254490133007666, 0.006763470399022999, 0.030030530764590467, 0.016380289507958435, 0.02320541013627445, 0.01911033775928484, 0.01365024125663203, 0.01774531363362164, 0.02320541013627445, 0.016380289507958435, 0.030030530764590467, 0.012285217130968827, 0.020475361884948046, 0.016380289507958435, 0.010920193005305624, 0.01911033775928484, 0.025935458387600856, 0.020475361884948046, 0.03685565139290648, 0.015015265382295234, 0.020475361884948046, 0.016380289507958435, 0.01365024125663203, 0.02320541013627445, 0.00955516887964242, 0.010920193005305624, 0.024570434261937654, 0.012285217130968827, 0.012285217130968827, 0.020475361884948046, 0.020475361884948046, 0.020475361884948046, 0.01365024125663203, 0.012285217130968827, 0.015015265382295234, 0.008190144753979217, 0.00955516887964242, 0.07234627866014975, 0.00955516887964242, 0.001365024125663203, 0.010920193005305624, 0.004095072376989609, 0.008190144753979217, 0.01774531363362164, 0.030030530764590467, 0.01365024125663203, 0.012285217130968827, 0.006825120628316015, 0.012285217130968827, 0.008190144753979217, 0.010920193005305624, 0.01911033775928484, 0.005460096502652812, 0.006825120628316015, 0.002730048251326406, 0.006825120628316015, 0.00955516887964242, 0.01774531363362164, 0.006825120628316015, 0.002730048251326406, 0.002730048251326406, 0.001365024125663203, 0.008190144753979217, 0.002730048251326406, 0.004095072376989609, 0.004095072376989609, 0.002730048251326406, 0.004095072376989609, 0.00955516887964242, 0.001365024125663203, 0.004095072376989609, 0.004095072376989609, 0.004095072376989609, 0.004095072376989609, 0.006825120628316015, 0.001365024125663203, 0.002730048251326406, 0.001365024125663203, 0.002730048251326406, 0.001365024125663203, 0.01607657770914199, 0.0058460282578698146, 0.013153563580207082, 0.0073075353223372675, 0.01607657770914199, 0.0029230141289349073, 0.011692056515739629, 0.010230549451272174, 0.011692056515739629, 0.018999591838076896, 0.018999591838076896, 0.011692056515739629, 0.004384521193402361, 0.027768634224881617, 0.011692056515739629, 0.008769042386804721, 0.004384521193402361, 0.0029230141289349073, 0.004384521193402361, 0.02923014128934907, 0.0014615070644674536, 0.0029230141289349073, 0.010230549451272174, 0.004384521193402361, 0.014615070644674535, 0.0029230141289349073, 0.02046109890254435, 0.0029230141289349073, 0.008769042386804721, 0.0073075353223372675, 0.0058460282578698146, 0.004384521193402361, 0.0058460282578698146, 0.011692056515739629, 0.49252788072553183, 0.004384521193402361, 0.0058460282578698146, 0.0014615070644674536, 0.004384521193402361, 0.0029230141289349073, 0.0014615070644674536, 0.008769042386804721, 0.0029230141289349073, 0.0014615070644674536, 0.004384521193402361, 0.0014615070644674536, 0.0014615070644674536, 0.0014615070644674536, 0.08915193093251467, 0.0029230141289349073, 0.0014615070644674536, 0.0014615070644674536, 0.0014615070644674536, 0.0029230141289349073, 0.0014615070644674536, 0.0014615070644674536, 0.0029230141289349073, 0.0029230141289349073, 0.004384521193402361, 0.004384521193402361, 0.0014615070644674536, 0.0029230141289349073, 0.039264756266412536, 0.015705902506565016, 0.020941203342086687, 0.018323552924325852, 0.01308825208880418, 0.018323552924325852, 0.015705902506565016, 0.020941203342086687, 0.01308825208880418, 0.010470601671043344, 0.010470601671043344, 0.034029455430890865, 0.01308825208880418, 0.023558853759847523, 0.010470601671043344, 0.010470601671043344, 0.01308825208880418, 0.018323552924325852, 0.007852951253282508, 0.007852951253282508, 0.010470601671043344, 0.01308825208880418, 0.007852951253282508, 0.005235300835521672, 0.002617650417760836, 0.005235300835521672, 0.010470601671043344, 0.018323552924325852, 0.01308825208880418, 0.007852951253282508, 0.007852951253282508, 0.002617650417760836, 0.005235300835521672, 0.01308825208880418, 0.007852951253282508, 0.002617650417760836, 0.007852951253282508, 0.010470601671043344, 0.005235300835521672, 0.007852951253282508, 0.007852951253282508, 0.007852951253282508, 0.005235300835521672, 0.02617650417760836, 0.002617650417760836, 0.005235300835521672, 0.007852951253282508, 0.007852951253282508, 0.018323552924325852, 0.002617650417760836, 0.002617650417760836, 0.002617650417760836, 0.3298239526378653, 0.010470601671043344, 0.002617650417760836, 0.010470601671043344, 0.005235300835521672, 0.002617650417760836, 0.002617650417760836, 0.005235300835521672, 0.005235300835521672, 0.002617650417760836, 0.007852951253282508, 0.007852951253282508, 0.005235300835521672, 0.002617650417760836, 0.002617650417760836, 0.018420949009945817, 0.02149110717827012, 0.02353787929048632, 0.013304018729405311, 0.02149110717827012, 0.020467721122162018, 0.028654809571026826, 0.015350790841621513, 0.027631423514918724, 0.03172496773935113, 0.016374176897729614, 0.016374176897729614, 0.02149110717827012, 0.017397562953837716, 0.015350790841621513, 0.02149110717827012, 0.019444335066053916, 0.01125724661718911, 0.016374176897729614, 0.01125724661718911, 0.008187088448864807, 0.015350790841621513, 0.010233860561081009, 0.019444335066053916, 0.014327404785513413, 0.02251449323437822, 0.017397562953837716, 0.015350790841621513, 0.008187088448864807, 0.02353787929048632, 0.016374176897729614, 0.012280632673297211, 0.014327404785513413, 0.008187088448864807, 0.015350790841621513, 0.02251449323437822, 0.016374176897729614, 0.018420949009945817, 0.013304018729405311, 0.012280632673297211, 0.013304018729405311, 0.0061403163366486055, 0.01125724661718911, 0.014327404785513413, 0.012280632673297211, 0.017397562953837716, 0.01125724661718911, 0.016374176897729614, 0.007163702392756707, 0.007163702392756707, 0.014327404785513413, 0.009210474504972909, 0.016374176897729614, 0.0051169302805405045, 0.0061403163366486055, 0.0051169302805405045, 0.01125724661718911, 0.008187088448864807, 0.0061403163366486055, 0.0051169302805405045, 0.024561265346594422, 0.004093544224432403, 0.01125724661718911, 0.0030701581683243028, 0.0061403163366486055, 0.004093544224432403, 0.0051169302805405045, 0.0061403163366486055, 0.0030701581683243028, 0.0030701581683243028, 0.0030701581683243028, 0.0030701581683243028, 0.0020467721122162017, 0.0030701581683243028, 0.0030701581683243028, 0.0030701581683243028, 0.0020467721122162017, 0.0030701581683243028, 0.0020467721122162017, 0.0051169302805405045, 0.04338401625930861, 0.022391750327385086, 0.008396906372769406, 0.033587625491077626, 0.009796390768230976, 0.030788656700154494, 0.0013994843954615679, 0.041984531863847034, 0.004198453186384703, 0.0055979375818462716, 0.023791234722846652, 0.016793812745538813, 0.03218814109561606, 0.009796390768230976, 0.03218814109561606, 0.006997421977307839, 0.02659020351376979, 0.06857473537761682, 0.009796390768230976, 0.009796390768230976, 0.0055979375818462716, 0.018193297141000382, 0.0055979375818462716, 0.03218814109561606, 0.004198453186384703, 0.0027989687909231358, 0.020992265931923517, 0.0013994843954615679, 0.01959278153646195, 0.02659020351376979, 0.009796390768230976, 0.004198453186384703, 0.041984531863847034, 0.004198453186384703, 0.0055979375818462716, 0.01259535955915411, 0.0027989687909231358, 0.0027989687909231358, 0.004198453186384703, 0.0013994843954615679, 0.033587625491077626, 0.008396906372769406, 0.006997421977307839, 0.06857473537761682, 0.006997421977307839, 0.015394328350077247, 0.01959278153646195, 0.008396906372769406, 0.0027989687909231358, 0.006997421977307839, 0.0027989687909231358, 0.011195875163692543, 0.006997421977307839, 0.013994843954615678, 0.018193297141000382, 0.009796390768230976, 0.009796390768230976, 0.008396906372769406, 0.006997421977307839, 0.0055979375818462716, 0.0013994843954615679, 0.0027989687909231358, 0.0013994843954615679, 0.004198453186384703, 0.004198453186384703, 0.0027989687909231358, 0.008396906372769406, 0.015394328350077247, 0.0027989687909231358, 0.0027989687909231358, 0.0027989687909231358, 0.004198453186384703, 0.004198453186384703, 0.0027989687909231358, 0.0027989687909231358, 0.0013994843954615679, 0.040111847161934985, 0.016044738864773995, 0.02540416986922549, 0.010696492576515997, 0.03476360087367699, 0.004011184716193499, 0.010696492576515997, 0.009359431004451498, 0.014707677292709496, 0.006685307860322498, 0.018718862008902996, 0.02674123144128999, 0.0013370615720644996, 0.04813421659432199, 0.017381800436838495, 0.002674123144128999, 0.008022369432386997, 0.010696492576515997, 0.04412303187812849, 0.006685307860322498, 0.006685307860322498, 0.005348246288257998, 0.004011184716193499, 0.005348246288257998, 0.0013370615720644996, 0.002674123144128999, 0.009359431004451498, 0.3489730703088344, 0.004011184716193499, 0.006685307860322498, 0.005348246288257998, 0.008022369432386997, 0.0013370615720644996, 0.002674123144128999, 0.005348246288257998, 0.03743772401780599, 0.010696492576515997, 0.004011184716193499, 0.0013370615720644996, 0.005348246288257998, 0.008022369432386997, 0.002674123144128999, 0.020055923580967493, 0.013370615720644996, 0.005348246288257998, 0.013370615720644996, 0.004011184716193499, 0.04412303187812849, 0.002674123144128999, 0.0013370615720644996, 0.0013370615720644996, 0.0013370615720644996, 0.0013370615720644996, 0.004011184716193499, 0.005348246288257998, 0.0013370615720644996, 0.004011184716193499, 0.0013370615720644996, 0.0013370615720644996, 0.013370615720644996, 0.004011184716193499, 0.0013370615720644996, 0.0013370615720644996, 0.004011184716193499, 0.006685307860322498, 0.002674123144128999, 0.004721716089941582, 0.014165148269824745, 0.014165148269824745, 0.004721716089941582, 0.002360858044970791, 0.018886864359766328, 0.011804290224853955, 0.03305201262959107, 0.009443432179883164, 0.007082574134912372, 0.014165148269824745, 0.009443432179883164, 0.004721716089941582, 0.004721716089941582, 0.004721716089941582, 0.035412870674561864, 0.011804290224853955, 0.007082574134912372, 0.014165148269824745, 0.007082574134912372, 0.004721716089941582, 0.007082574134912372, 0.02360858044970791, 0.007082574134912372, 0.004721716089941582, 0.004721716089941582, 0.007082574134912372, 0.007082574134912372, 0.007082574134912372, 0.002360858044970791, 0.014165148269824745, 0.009443432179883164, 0.002360858044970791, 0.002360858044970791, 0.007082574134912372, 0.009443432179883164, 0.20539464991245882, 0.002360858044970791, 0.3871807193752097, 0.002360858044970791, 0.002360858044970791, 0.002360858044970791, 0.014165148269824745, 0.002360858044970791, 0.002360858044970791, 0.002360858044970791, 0.002360858044970791, 0.002360858044970791, 0.002360858044970791, 0.004721716089941582, 0.002360858044970791, 0.002360858044970791, 0.004721716089941582, 0.002360858044970791, 0.002360858044970791, 0.025962252059965513, 0.011801023663620687, 0.8614747274443102, 0.0047204094654482755, 0.0023602047327241377, 0.0023602047327241377, 0.011801023663620687, 0.0047204094654482755, 0.0047204094654482755, 0.0023602047327241377, 0.0047204094654482755, 0.0023602047327241377, 0.007080614198172412, 0.0023602047327241377, 0.0023602047327241377, 0.0047204094654482755, 0.0023602047327241377, 0.0023602047327241377, 0.0023602047327241377, 0.0047204094654482755, 0.0023602047327241377, 0.0047204094654482755, 0.0023602047327241377, 0.0023602047327241377, 0.0047204094654482755, 0.0023602047327241377, 0.0023602047327241377, 0.017690189672984896, 0.014152151738387917, 0.017690189672984896, 0.021228227607581876, 0.010614113803790938, 0.014152151738387917, 0.007076075869193958, 0.021228227607581876, 0.007076075869193958, 0.021228227607581876, 0.017690189672984896, 0.010614113803790938, 0.017690189672984896, 0.017690189672984896, 0.021228227607581876, 0.021228227607581876, 0.010614113803790938, 0.007076075869193958, 0.007076075869193958, 0.010614113803790938, 0.010614113803790938, 0.017690189672984896, 0.007076075869193958, 0.010614113803790938, 0.010614113803790938, 0.014152151738387917, 0.010614113803790938, 0.003538037934596979, 0.003538037934596979, 0.007076075869193958, 0.014152151738387917, 0.003538037934596979, 0.014152151738387917, 0.021228227607581876, 0.4882492349743831, 0.003538037934596979, 0.007076075869193958, 0.003538037934596979, 0.003538037934596979, 0.003538037934596979, 0.003538037934596979, 0.003538037934596979, 0.007076075869193958, 0.003538037934596979, 0.003538037934596979, 0.003538037934596979, 0.003538037934596979, 0.003538037934596979, 0.025234952599715265, 0.02232322729974812, 0.017470351799802875, 0.017470351799802875, 0.02717610279969336, 0.018440926899791925, 0.02135265219975907, 0.02038207709977002, 0.015529201599824778, 0.02329380239973717, 0.015529201599824778, 0.018440926899791925, 0.016499776699813826, 0.015529201599824778, 0.019411501999780974, 0.01358805139984668, 0.01455862649983573, 0.016499776699813826, 0.01455862649983573, 0.012617476299857633, 0.016499776699813826, 0.017470351799802875, 0.008735175899901438, 0.01358805139984668, 0.02135265219975907, 0.009705750999890487, 0.009705750999890487, 0.019411501999780974, 0.02232322729974812, 0.018440926899791925, 0.01455862649983573, 0.019411501999780974, 0.01358805139984668, 0.012617476299857633, 0.010676326099879535, 0.012617476299857633, 0.01358805139984668, 0.018440926899791925, 0.004852875499945244, 0.007764600799912389, 0.007764600799912389, 0.009705750999890487, 0.01358805139984668, 0.02135265219975907, 0.011646901199868585, 0.011646901199868585, 0.01358805139984668, 0.012617476299857633, 0.00679402569992334, 0.009705750999890487, 0.01358805139984668, 0.004852875499945244, 0.010676326099879535, 0.007764600799912389, 0.012617476299857633, 0.008735175899901438, 0.01455862649983573, 0.010676326099879535, 0.0009705750999890486, 0.0038823003999561945, 0.07958715819910199, 0.002911725299967146, 0.005823450599934292, 0.002911725299967146, 0.0038823003999561945, 0.0038823003999561945, 0.0038823003999561945, 0.0038823003999561945, 0.002911725299967146, 0.0019411501999780972, 0.002911725299967146, 0.0019411501999780972, 0.002911725299967146, 0.0038823003999561945, 0.002911725299967146, 0.002911725299967146, 0.002911725299967146, 0.0038823003999561945, 0.0038823003999561945, 0.0019411501999780972, 0.006965917147004174, 0.01625380667634307, 0.004643944764669449, 0.013931834294008348, 0.006965917147004174, 0.013931834294008348, 0.009287889529338898, 0.006965917147004174, 0.004643944764669449, 0.5619173165250033, 0.0023219723823347245, 0.006965917147004174, 0.013931834294008348, 0.009287889529338898, 0.044117475264359766, 0.004643944764669449, 0.0023219723823347245, 0.004643944764669449, 0.02089775144101252, 0.0023219723823347245, 0.006965917147004174, 0.048761420029029216, 0.004643944764669449, 0.013931834294008348, 0.004643944764669449, 0.027863668588016696, 0.004643944764669449, 0.0023219723823347245, 0.011609861911673623, 0.0023219723823347245, 0.0023219723823347245, 0.0023219723823347245, 0.004643944764669449, 0.009287889529338898, 0.009287889529338898, 0.0023219723823347245, 0.0023219723823347245, 0.006965917147004174, 0.0023219723823347245, 0.0023219723823347245, 0.0023219723823347245, 0.0023219723823347245, 0.009287889529338898, 0.0023219723823347245, 0.0023219723823347245, 0.0023219723823347245, 0.0023219723823347245, 0.0023219723823347245, 0.0023219723823347245, 0.0023219723823347245, 0.006965917147004174, 0.004643944764669449, 0.0023219723823347245, 0.0023219723823347245, 0.0023219723823347245, 0.004643944764669449, 0.004643944764669449, 0.0017138344242357462, 0.006855337696942985, 0.00856917212117873, 0.00856917212117873, 0.6306910681187545, 0.005141503272707238, 0.03599052290895067, 0.0017138344242357462, 0.010283006545414477, 0.015424509818121714, 0.006855337696942985, 0.00856917212117873, 0.02570751636353619, 0.03256285406047917, 0.0034276688484714923, 0.0017138344242357462, 0.005141503272707238, 0.015424509818121714, 0.015424509818121714, 0.0017138344242357462, 0.005141503272707238, 0.0017138344242357462, 0.006855337696942985, 0.005141503272707238, 0.0034276688484714923, 0.0017138344242357462, 0.006855337696942985, 0.00856917212117873, 0.0017138344242357462, 0.02570751636353619, 0.0017138344242357462, 0.005141503272707238, 0.010283006545414477, 0.006855337696942985, 0.0017138344242357462, 0.0017138344242357462, 0.00856917212117873, 0.0017138344242357462, 0.0017138344242357462, 0.0034276688484714923, 0.006855337696942985, 0.0034276688484714923, 0.006855337696942985, 0.0034276688484714923, 0.0017138344242357462, 0.0017138344242357462, 0.0017138344242357462, 0.005141503272707238, 0.005141503272707238, 0.0017138344242357462, 0.010283006545414477, 0.0034276688484714923, 0.0017138344242357462, 0.016353793691623982, 0.03679603580615396, 0.01771660983259265, 0.02316787439646731, 0.01771660983259265, 0.029981955101310635, 0.014990977550655317, 0.02044224211452998, 0.025893506678404638, 0.024530690537435975, 0.016353793691623982, 0.016353793691623982, 0.016353793691623982, 0.016353793691623982, 0.014990977550655317, 0.016353793691623982, 0.019079425973561312, 0.021805058255498645, 0.014990977550655317, 0.016353793691623982, 0.012265345268717988, 0.01771660983259265, 0.014990977550655317, 0.02044224211452998, 0.012265345268717988, 0.013628161409686652, 0.016353793691623982, 0.010902529127749323, 0.009539712986780656, 0.014990977550655317, 0.016353793691623982, 0.02044224211452998, 0.010902529127749323, 0.016353793691623982, 0.006814080704843326, 0.024530690537435975, 0.016353793691623982, 0.019079425973561312, 0.013628161409686652, 0.0040884484229059955, 0.0040884484229059955, 0.009539712986780656, 0.010902529127749323, 0.013628161409686652, 0.014990977550655317, 0.006814080704843326, 0.006814080704843326, 0.014990977550655317, 0.012265345268717988, 0.008176896845811991, 0.01771660983259265, 0.006814080704843326, 0.02861913896034197, 0.005451264563874661, 0.014990977550655317, 0.0027256322819373307, 0.021805058255498645, 0.009539712986780656, 0.0027256322819373307, 0.010902529127749323, 0.008176896845811991, 0.006814080704843326, 0.0040884484229059955, 0.0027256322819373307, 0.006814080704843326, 0.0027256322819373307, 0.0027256322819373307, 0.005451264563874661, 0.0027256322819373307, 0.0027256322819373307, 0.0027256322819373307, 0.0027256322819373307, 0.0027256322819373307, 0.0027256322819373307, 0.0040884484229059955, 0.006814080704843326, 0.006814080704843326, 0.0040884484229059955, 0.0040884484229059955, 0.005451264563874661, 0.022946251458510432, 0.008604844296941411, 0.005736562864627608, 0.008604844296941411, 0.02007797002619663, 0.005736562864627608, 0.017209688593882822, 0.008604844296941411, 0.02007797002619663, 0.011473125729255216, 0.011473125729255216, 0.017209688593882822, 0.011473125729255216, 0.005736562864627608, 0.008604844296941411, 0.002868281432313804, 0.02007797002619663, 0.02007797002619663, 0.011473125729255216, 0.005736562864627608, 0.005736562864627608, 0.011473125729255216, 0.017209688593882822, 0.017209688593882822, 0.008604844296941411, 0.005736562864627608, 0.008604844296941411, 0.011473125729255216, 0.005736562864627608, 0.008604844296941411, 0.002868281432313804, 0.011473125729255216, 0.008604844296941411, 0.008604844296941411, 0.008604844296941411, 0.002868281432313804, 0.008604844296941411, 0.4962126877902881, 0.002868281432313804, 0.011473125729255216, 0.002868281432313804, 0.008604844296941411, 0.002868281432313804, 0.002868281432313804, 0.002868281432313804, 0.002868281432313804, 0.002868281432313804, 0.002868281432313804, 0.005736562864627608, 0.002868281432313804, 0.002868281432313804, 0.008604844296941411, 0.002868281432313804, 0.011473125729255216, 0.008604844296941411, 0.002868281432313804, 0.008604844296941411, 0.002868281432313804, 0.008604844296941411], \"Term\": [\".net\", \".net\", \".net\", \".net\", \".net\", \".net\", \".net\", \".net\", \".net\", \".net\", \".net\", \".net\", \".net\", \".net\", \".net\", \".net\", \".net\", \".net\", \".net\", \".net\", \".net\", \".net\", \".net\", \".net\", \".net\", \".net\", \".net\", \".net\", \".net\", \".net\", \".net\", \".net\", \".net\", \".net\", \".net\", \".net\", \".net\", \".net\", \".net\", \".net\", \".net\", \".net\", \".net\", \".net\", \".net\", \".net\", \".net\", \".net\", \".net\", \".net\", \".net\", \"access\", \"access\", \"access\", \"access\", \"access\", \"access\", \"access\", \"access\", \"access\", \"access\", \"access\", \"access\", \"access\", \"access\", \"access\", \"access\", \"access\", \"access\", \"access\", \"access\", \"access\", \"access\", \"access\", \"access\", \"access\", \"access\", \"access\", \"access\", \"access\", \"access\", \"access\", \"access\", \"access\", \"access\", \"access\", \"access\", \"access\", \"access\", \"access\", \"access\", \"access\", \"access\", \"access\", \"access\", \"access\", \"access\", \"access\", \"access\", \"access\", \"access\", \"access\", \"access\", \"access\", \"access\", \"access\", \"access\", \"add\", \"add\", \"add\", \"add\", \"add\", \"add\", \"add\", \"add\", \"add\", \"add\", \"add\", \"add\", \"add\", \"add\", \"add\", \"add\", \"add\", \"add\", \"add\", \"add\", \"add\", \"add\", \"add\", \"add\", \"add\", \"add\", \"add\", \"add\", \"add\", \"add\", \"add\", \"add\", \"add\", \"add\", \"add\", \"add\", \"add\", \"add\", \"add\", \"add\", \"add\", \"add\", \"add\", \"add\", \"add\", \"add\", \"add\", \"add\", \"add\", \"add\", \"add\", \"add\", \"add\", \"add\", \"add\", \"add\", \"add\", \"answer\", \"answer\", \"answer\", \"answer\", \"answer\", \"answer\", \"answer\", \"answer\", \"answer\", \"answer\", \"answer\", \"answer\", \"answer\", \"answer\", \"answer\", \"answer\", \"answer\", \"answer\", \"answer\", \"answer\", \"answer\", \"answer\", \"answer\", \"answer\", \"answer\", \"answer\", \"answer\", \"answer\", \"answer\", \"answer\", \"answer\", \"answer\", \"answer\", \"answer\", \"answer\", \"answer\", \"answer\", \"answer\", \"answer\", \"answer\", \"answer\", \"answer\", \"answer\", \"answer\", \"answer\", \"answer\", \"answer\", \"answer\", \"answer\", \"answer\", \"answer\", \"answer\", \"answer\", \"answer\", \"answer\", \"answer\", \"answer\", \"answer\", \"answer\", \"answer\", \"answer\", \"answer\", \"answer\", \"answer\", \"answer\", \"answer\", \"answer\", \"answer\", \"answer\", \"anyone\", \"anyone\", \"anyone\", \"anyone\", \"anyone\", \"anyone\", \"anyone\", \"anyone\", \"anyone\", \"anyone\", \"anyone\", \"anyone\", \"anyone\", \"anyone\", \"anyone\", \"anyone\", \"anyone\", \"anyone\", \"anyone\", \"anyone\", \"anyone\", \"anyone\", \"anyone\", \"anyone\", \"anyone\", \"anyone\", \"anyone\", \"anyone\", \"anyone\", \"anyone\", \"anyone\", \"anyone\", \"anyone\", \"anyone\", \"anyone\", \"anyone\", \"anyone\", \"anyone\", \"anyone\", \"anyone\", \"anyone\", \"anyone\", \"anyone\", \"anyone\", \"anyone\", \"anyone\", \"anyone\", \"anyone\", \"anyone\", \"anyone\", \"anyone\", \"anyone\", \"anyone\", \"anyone\", \"anyone\", \"anyone\", \"anyone\", \"anyone\", \"anyone\", \"anyone\", \"anyone\", \"anyone\", \"anyone\", \"anyone\", \"anyone\", \"anyone\", \"anyone\", \"anyone\", \"anyone\", \"anyone\", \"anyone\", \"anything\", \"anything\", \"anything\", \"anything\", \"anything\", \"anything\", \"anything\", \"anything\", \"anything\", \"anything\", \"anything\", \"anything\", \"anything\", \"anything\", \"anything\", \"anything\", \"anything\", \"anything\", \"anything\", \"anything\", \"anything\", \"anything\", \"anything\", \"anything\", \"anything\", \"anything\", \"anything\", \"anything\", \"anything\", \"anything\", \"anything\", \"anything\", \"anything\", \"anything\", \"anything\", \"anything\", \"anything\", \"anything\", \"anything\", \"anything\", \"anything\", \"anything\", \"anything\", \"anything\", \"anything\", \"anything\", \"anything\", \"anything\", \"anything\", \"anything\", \"anything\", \"anything\", \"anything\", \"anything\", \"anything\", \"anything\", \"anything\", \"anything\", \"anything\", \"app\", \"app\", \"app\", \"app\", \"app\", \"app\", \"app\", \"app\", \"app\", \"app\", \"app\", \"app\", \"app\", \"app\", \"app\", \"app\", \"app\", \"app\", \"app\", \"app\", \"app\", \"app\", \"app\", \"app\", \"app\", \"app\", \"app\", \"app\", \"app\", \"app\", \"app\", \"app\", \"app\", \"app\", \"app\", \"app\", \"app\", \"app\", \"app\", \"app\", \"app\", \"app\", \"app\", \"app\", \"app\", \"app\", \"app\", \"app\", \"app\", \"app\", \"app\", \"app\", \"app\", \"app\", \"app\", \"app\", \"app\", \"app\", \"app\", \"app\", \"app\", \"app\", \"app\", \"application\", \"application\", \"application\", \"application\", \"application\", \"application\", \"application\", \"application\", \"application\", \"application\", \"application\", \"application\", \"application\", \"application\", \"application\", \"application\", \"application\", \"application\", \"application\", \"application\", \"application\", \"application\", \"application\", \"application\", \"application\", \"application\", \"application\", \"application\", \"application\", \"application\", \"application\", \"application\", \"application\", \"application\", \"application\", \"application\", \"application\", \"application\", \"application\", \"application\", \"application\", \"application\", \"application\", \"application\", \"application\", \"application\", \"application\", \"application\", \"application\", \"application\", \"application\", \"application\", \"application\", \"application\", \"application\", \"application\", \"application\", \"application\", \"application\", \"application\", \"application\", \"application\", \"application\", \"application\", \"application\", \"application\", \"application\", \"application\", \"application\", \"application\", \"application\", \"application\", \"application\", \"application\", \"application\", \"application\", \"c\", \"c\", \"c\", \"c\", \"c\", \"c\", \"c\", \"c\", \"c\", \"c\", \"c\", \"c\", \"c\", \"c\", \"c\", \"c\", \"c\", \"c\", \"c\", \"c\", \"c\", \"c\", \"c\", \"c\", \"c\", \"c\", \"c\", \"c\", \"c\", \"c\", \"c\", \"c\", \"c\", \"c\", \"c\", \"c\", \"c\", \"c\", \"c\", \"c\", \"c\", \"c\", \"c\", \"c\", \"c\", \"c\", \"c\", \"c\", \"c++\", \"c++\", \"c++\", \"c++\", \"c++\", \"c++\", \"c++\", \"c++\", \"c++\", \"c++\", \"c++\", \"c++\", \"c++\", \"c++\", \"c++\", \"c++\", \"c++\", \"c++\", \"c++\", \"c++\", \"c++\", \"c++\", \"c++\", \"c++\", \"c++\", \"c++\", \"c++\", \"c++\", \"c++\", \"c++\", \"call\", \"call\", \"call\", \"call\", \"call\", \"call\", \"call\", \"call\", \"call\", \"call\", \"call\", \"call\", \"call\", \"call\", \"call\", \"call\", \"call\", \"call\", \"call\", \"call\", \"call\", \"call\", \"call\", \"call\", \"call\", \"call\", \"call\", \"call\", \"call\", \"call\", \"call\", \"call\", \"call\", \"call\", \"call\", \"call\", \"call\", \"call\", \"call\", \"call\", \"call\", \"call\", \"call\", \"call\", \"call\", \"call\", \"call\", \"call\", \"call\", \"call\", \"call\", \"call\", \"call\", \"call\", \"call\", \"call\", \"call\", \"call\", \"call\", \"call\", \"call\", \"call\", \"call\", \"case\", \"case\", \"case\", \"case\", \"case\", \"case\", \"case\", \"case\", \"case\", \"case\", \"case\", \"case\", \"case\", \"case\", \"case\", \"case\", \"case\", \"case\", \"case\", \"case\", \"case\", \"case\", \"case\", \"case\", \"case\", \"case\", \"case\", \"case\", \"case\", \"case\", \"case\", \"case\", \"case\", \"case\", \"case\", \"case\", \"case\", \"case\", \"case\", \"case\", \"case\", \"case\", \"case\", \"case\", \"case\", \"case\", \"case\", \"case\", \"case\", \"case\", \"case\", \"case\", \"case\", \"case\", \"case\", \"case\", \"case\", \"case\", \"case\", \"case\", \"case\", \"case\", \"case\", \"case\", \"case\", \"case\", \"case\", \"case\", \"case\", \"case\", \"case\", \"case\", \"change\", \"change\", \"change\", \"change\", \"change\", \"change\", \"change\", \"change\", \"change\", \"change\", \"change\", \"change\", \"change\", \"change\", \"change\", \"change\", \"change\", \"change\", \"change\", \"change\", \"change\", \"change\", \"change\", \"change\", \"change\", \"change\", \"change\", \"change\", \"change\", \"change\", \"change\", \"change\", \"change\", \"change\", \"change\", \"change\", \"change\", \"change\", \"change\", \"change\", \"change\", \"change\", \"change\", \"change\", \"change\", \"change\", \"change\", \"change\", \"change\", \"change\", \"change\", \"change\", \"change\", \"change\", \"change\", \"change\", \"change\", \"change\", \"change\", \"change\", \"change\", \"change\", \"change\", \"change\", \"change\", \"class\", \"class\", \"class\", \"class\", \"class\", \"class\", \"class\", \"class\", \"class\", \"class\", \"class\", \"class\", \"class\", \"class\", \"class\", \"class\", \"class\", \"class\", \"class\", \"class\", \"class\", \"class\", \"class\", \"class\", \"class\", \"class\", \"class\", \"class\", \"class\", \"class\", \"class\", \"class\", \"class\", \"class\", \"class\", \"class\", \"class\", \"class\", \"class\", \"class\", \"class\", \"class\", \"class\", \"class\", \"class\", \"class\", \"class\", \"class\", \"class\", \"class\", \"class\", \"class\", \"class\", \"class\", \"class\", \"class\", \"class\", \"class\", \"class\", \"class\", \"class\", \"class\", \"class\", \"class\", \"class\", \"class\", \"class\", \"class\", \"class\", \"class\", \"class\", \"class\", \"class\", \"class\", \"class\", \"class\", \"code\", \"code\", \"code\", \"code\", \"code\", \"code\", \"code\", \"code\", \"code\", \"code\", \"code\", \"code\", \"code\", \"code\", \"code\", \"code\", \"code\", \"code\", \"code\", \"code\", \"code\", \"code\", \"code\", \"code\", \"code\", \"code\", \"code\", \"code\", \"code\", \"code\", \"code\", \"code\", \"code\", \"code\", \"code\", \"code\", \"code\", \"code\", \"code\", \"code\", \"code\", \"code\", \"code\", \"code\", \"code\", \"code\", \"code\", \"code\", \"code\", \"code\", \"code\", \"code\", \"code\", \"code\", \"code\", \"code\", \"code\", \"code\", \"code\", \"code\", \"code\", \"code\", \"code\", \"code\", \"code\", \"code\", \"code\", \"code\", \"code\", \"code\", \"code\", \"code\", \"code\", \"code\", \"code\", \"code\", \"code\", \"code\", \"code\", \"code\", \"control\", \"control\", \"control\", \"control\", \"control\", \"control\", \"control\", \"control\", \"control\", \"control\", \"control\", \"control\", \"control\", \"control\", \"control\", \"control\", \"control\", \"control\", \"control\", \"control\", \"control\", \"control\", \"control\", \"create\", \"create\", \"create\", \"create\", \"create\", \"create\", \"create\", \"create\", \"create\", \"create\", \"create\", \"create\", \"create\", \"create\", \"create\", \"create\", \"create\", \"create\", \"create\", \"create\", \"create\", \"create\", \"create\", \"create\", \"create\", \"create\", \"create\", \"create\", \"create\", \"create\", \"create\", \"create\", \"create\", \"create\", \"create\", \"create\", \"create\", \"create\", \"create\", \"create\", \"create\", \"create\", \"create\", \"create\", \"create\", \"create\", \"create\", \"create\", \"create\", \"create\", \"create\", \"create\", \"create\", \"create\", \"create\", \"create\", \"create\", \"create\", \"create\", \"create\", \"create\", \"create\", \"create\", \"create\", \"create\", \"create\", \"create\", \"create\", \"create\", \"create\", \"create\", \"create\", \"create\", \"create\", \"data\", \"data\", \"data\", \"data\", \"data\", \"data\", \"data\", \"data\", \"data\", \"data\", \"data\", \"data\", \"data\", \"data\", \"data\", \"data\", \"data\", \"data\", \"data\", \"data\", \"data\", \"data\", \"data\", \"data\", \"data\", \"data\", \"data\", \"data\", \"data\", \"data\", \"data\", \"data\", \"data\", \"data\", \"data\", \"data\", \"data\", \"data\", \"data\", \"data\", \"data\", \"data\", \"data\", \"data\", \"data\", \"data\", \"data\", \"data\", \"data\", \"data\", \"data\", \"data\", \"data\", \"data\", \"data\", \"data\", \"data\", \"data\", \"data\", \"data\", \"data\", \"data\", \"data\", \"data\", \"data\", \"data\", \"data\", \"data\", \"data\", \"data\", \"data\", \"data\", \"data\", \"data\", \"data\", \"data\", \"data\", \"data\", \"data\", \"database\", \"database\", \"database\", \"database\", \"database\", \"database\", \"database\", \"database\", \"database\", \"database\", \"database\", \"database\", \"database\", \"database\", \"database\", \"database\", \"database\", \"database\", \"database\", \"database\", \"database\", \"database\", \"database\", \"database\", \"database\", \"database\", \"database\", \"database\", \"database\", \"database\", \"database\", \"database\", \"database\", \"database\", \"database\", \"database\", \"database\", \"database\", \"database\", \"database\", \"database\", \"database\", \"database\", \"database\", \"database\", \"database\", \"database\", \"database\", \"database\", \"database\", \"database\", \"database\", \"database\", \"database\", \"database\", \"database\", \"database\", \"database\", \"database\", \"database\", \"database\", \"database\", \"database\", \"database\", \"database\", \"database\", \"database\", \"database\", \"edit\", \"edit\", \"edit\", \"edit\", \"edit\", \"edit\", \"edit\", \"edit\", \"edit\", \"edit\", \"edit\", \"edit\", \"edit\", \"edit\", \"edit\", \"edit\", \"edit\", \"edit\", \"edit\", \"edit\", \"edit\", \"edit\", \"edit\", \"edit\", \"edit\", \"edit\", \"edit\", \"edit\", \"edit\", \"edit\", \"edit\", \"edit\", \"edit\", \"edit\", \"edit\", \"edit\", \"edit\", \"edit\", \"edit\", \"edit\", \"edit\", \"edit\", \"edit\", \"edit\", \"edit\", \"edit\", \"edit\", \"edit\", \"edit\", \"edit\", \"edit\", \"edit\", \"edit\", \"edit\", \"edit\", \"edit\", \"edit\", \"edit\", \"edit\", \"edit\", \"edit\", \"edit\", \"edit\", \"edit\", \"edit\", \"edit\", \"edit\", \"edit\", \"edit\", \"edit\", \"edit\", \"edit\", \"edit\", \"edit\", \"error\", \"error\", \"error\", \"error\", \"error\", \"error\", \"error\", \"error\", \"error\", \"error\", \"error\", \"error\", \"error\", \"error\", \"error\", \"error\", \"error\", \"error\", \"error\", \"error\", \"error\", \"error\", \"error\", \"error\", \"error\", \"error\", \"error\", \"error\", \"error\", \"error\", \"error\", \"error\", \"error\", \"error\", \"error\", \"error\", \"error\", \"error\", \"error\", \"error\", \"error\", \"error\", \"error\", \"error\", \"error\", \"error\", \"error\", \"error\", \"error\", \"error\", \"error\", \"error\", \"error\", \"error\", \"error\", \"error\", \"error\", \"error\", \"error\", \"error\", \"error\", \"error\", \"error\", \"error\", \"error\", \"error\", \"error\", \"error\", \"example\", \"example\", \"example\", \"example\", \"example\", \"example\", \"example\", \"example\", \"example\", \"example\", \"example\", \"example\", \"example\", \"example\", \"example\", \"example\", \"example\", \"example\", \"example\", \"example\", \"example\", \"example\", \"example\", \"example\", \"example\", \"example\", \"example\", \"example\", \"example\", \"example\", \"example\", \"example\", \"example\", \"example\", \"example\", \"example\", \"example\", \"example\", \"example\", \"example\", \"example\", \"example\", \"example\", \"example\", \"example\", \"example\", \"example\", \"example\", \"example\", \"example\", \"example\", \"example\", \"example\", \"example\", \"example\", \"example\", \"example\", \"example\", \"example\", \"example\", \"example\", \"example\", \"example\", \"example\", \"example\", \"example\", \"example\", \"example\", \"example\", \"example\", \"example\", \"example\", \"example\", \"example\", \"example\", \"example\", \"example\", \"example\", \"example\", \"example\", \"file\", \"file\", \"file\", \"file\", \"file\", \"file\", \"file\", \"file\", \"file\", \"file\", \"file\", \"file\", \"file\", \"file\", \"file\", \"file\", \"file\", \"file\", \"file\", \"file\", \"file\", \"file\", \"file\", \"file\", \"file\", \"file\", \"file\", \"file\", \"file\", \"file\", \"file\", \"file\", \"file\", \"file\", \"file\", \"file\", \"file\", \"file\", \"file\", \"file\", \"file\", \"file\", \"file\", \"file\", \"file\", \"file\", \"file\", \"file\", \"file\", \"file\", \"file\", \"file\", \"file\", \"file\", \"file\", \"file\", \"file\", \"file\", \"file\", \"file\", \"file\", \"file\", \"file\", \"file\", \"file\", \"file\", \"file\", \"file\", \"file\", \"file\", \"file\", \"file\", \"file\", \"file\", \"file\", \"file\", \"find\", \"find\", \"find\", \"find\", \"find\", \"find\", \"find\", \"find\", \"find\", \"find\", \"find\", \"find\", \"find\", \"find\", \"find\", \"find\", \"find\", \"find\", \"find\", \"find\", \"find\", \"find\", \"find\", \"find\", \"find\", \"find\", \"find\", \"find\", \"find\", \"find\", \"find\", \"find\", \"find\", \"find\", \"find\", \"find\", \"find\", \"find\", \"find\", \"find\", \"find\", \"find\", \"find\", \"find\", \"find\", \"find\", \"find\", \"find\", \"find\", \"find\", \"find\", \"find\", \"find\", \"find\", \"find\", \"find\", \"find\", \"find\", \"find\", \"find\", \"find\", \"find\", \"find\", \"find\", \"find\", \"find\", \"find\", \"find\", \"find\", \"find\", \"find\", \"find\", \"find\", \"form\", \"form\", \"form\", \"form\", \"form\", \"form\", \"form\", \"form\", \"form\", \"form\", \"form\", \"form\", \"form\", \"form\", \"form\", \"form\", \"form\", \"form\", \"form\", \"form\", \"form\", \"form\", \"form\", \"form\", \"form\", \"form\", \"form\", \"form\", \"form\", \"form\", \"form\", \"form\", \"form\", \"form\", \"form\", \"form\", \"form\", \"form\", \"form\", \"form\", \"form\", \"function\", \"function\", \"function\", \"function\", \"function\", \"function\", \"function\", \"function\", \"function\", \"function\", \"function\", \"function\", \"function\", \"function\", \"function\", \"function\", \"function\", \"function\", \"function\", \"function\", \"function\", \"function\", \"function\", \"function\", \"function\", \"function\", \"function\", \"function\", \"function\", \"function\", \"function\", \"function\", \"function\", \"function\", \"function\", \"function\", \"function\", \"function\", \"function\", \"function\", \"function\", \"function\", \"function\", \"function\", \"function\", \"function\", \"function\", \"function\", \"function\", \"function\", \"function\", \"function\", \"function\", \"function\", \"function\", \"function\", \"function\", \"function\", \"function\", \"function\", \"function\", \"function\", \"function\", \"function\", \"function\", \"get\", \"get\", \"get\", \"get\", \"get\", \"get\", \"get\", \"get\", \"get\", \"get\", \"get\", \"get\", \"get\", \"get\", \"get\", \"get\", \"get\", \"get\", \"get\", \"get\", \"get\", \"get\", \"get\", \"get\", \"get\", \"get\", \"get\", \"get\", \"get\", \"get\", \"get\", \"get\", \"get\", \"get\", \"get\", \"get\", \"get\", \"get\", \"get\", \"get\", \"get\", \"get\", \"get\", \"get\", \"get\", \"get\", \"get\", \"get\", \"get\", \"get\", \"get\", \"get\", \"get\", \"get\", \"get\", \"get\", \"get\", \"get\", \"get\", \"get\", \"get\", \"get\", \"get\", \"get\", \"get\", \"get\", \"get\", \"get\", \"get\", \"get\", \"get\", \"get\", \"get\", \"get\", \"get\", \"get\", \"get\", \"get\", \"get\", \"get\", \"help\", \"help\", \"help\", \"help\", \"help\", \"help\", \"help\", \"help\", \"help\", \"help\", \"help\", \"help\", \"help\", \"help\", \"help\", \"help\", \"help\", \"help\", \"help\", \"help\", \"help\", \"help\", \"help\", \"help\", \"help\", \"help\", \"help\", \"help\", \"help\", \"help\", \"help\", \"help\", \"help\", \"help\", \"help\", \"help\", \"help\", \"help\", \"help\", \"help\", \"help\", \"help\", \"help\", \"help\", \"help\", \"help\", \"help\", \"help\", \"help\", \"help\", \"help\", \"help\", \"help\", \"help\", \"help\", \"help\", \"help\", \"help\", \"help\", \"help\", \"help\", \"help\", \"help\", \"help\", \"help\", \"help\", \"help\", \"help\", \"help\", \"help\", \"help\", \"help\", \"help\", \"http\", \"http\", \"http\", \"http\", \"http\", \"http\", \"http\", \"http\", \"http\", \"http\", \"http\", \"http\", \"http\", \"http\", \"http\", \"http\", \"http\", \"http\", \"http\", \"http\", \"http\", \"http\", \"http\", \"http\", \"http\", \"http\", \"http\", \"http\", \"http\", \"http\", \"http\", \"http\", \"http\", \"http\", \"http\", \"http\", \"http\", \"http\", \"http\", \"http\", \"http\", \"http\", \"http\", \"http\", \"http\", \"http\", \"http\", \"http\", \"http\", \"http\", \"http\", \"http\", \"http\", \"http\", \"http\", \"http\", \"http\", \"http\", \"http\", \"http\", \"http\", \"http\", \"http\", \"http\", \"http\", \"http\", \"http\", \"http\", \"http\", \"idea\", \"idea\", \"idea\", \"idea\", \"idea\", \"idea\", \"idea\", \"idea\", \"idea\", \"idea\", \"idea\", \"idea\", \"idea\", \"idea\", \"idea\", \"idea\", \"idea\", \"idea\", \"idea\", \"idea\", \"idea\", \"idea\", \"idea\", \"idea\", \"idea\", \"idea\", \"idea\", \"idea\", \"idea\", \"idea\", \"idea\", \"idea\", \"idea\", \"idea\", \"idea\", \"idea\", \"idea\", \"idea\", \"idea\", \"idea\", \"idea\", \"idea\", \"idea\", \"idea\", \"idea\", \"idea\", \"idea\", \"idea\", \"idea\", \"idea\", \"idea\", \"idea\", \"idea\", \"idea\", \"idea\", \"idea\", \"idea\", \"idea\", \"idea\", \"idea\", \"idea\", \"idea\", \"idea\", \"idea\", \"idea\", \"idea\", \"idea\", \"idea\", \"idea\", \"idea\", \"idea\", \"idea\", \"idea\", \"idea\", \"idea\", \"idea\", \"idea\", \"idea\", \"idea\", \"idea\", \"issue\", \"issue\", \"issue\", \"issue\", \"issue\", \"issue\", \"issue\", \"issue\", \"issue\", \"issue\", \"issue\", \"issue\", \"issue\", \"issue\", \"issue\", \"issue\", \"issue\", \"issue\", \"issue\", \"issue\", \"issue\", \"issue\", \"issue\", \"issue\", \"issue\", \"issue\", \"issue\", \"issue\", \"issue\", \"issue\", \"issue\", \"issue\", \"issue\", \"issue\", \"issue\", \"issue\", \"issue\", \"issue\", \"issue\", \"issue\", \"issue\", \"issue\", \"issue\", \"issue\", \"issue\", \"issue\", \"issue\", \"issue\", \"issue\", \"issue\", \"issue\", \"issue\", \"issue\", \"issue\", \"issue\", \"issue\", \"issue\", \"issue\", \"issue\", \"issue\", \"issue\", \"issue\", \"issue\", \"issue\", \"issue\", \"issue\", \"issue\", \"issue\", \"issue\", \"issue\", \"issue\", \"issue\", \"java\", \"java\", \"java\", \"java\", \"java\", \"java\", \"java\", \"java\", \"java\", \"java\", \"java\", \"java\", \"java\", \"java\", \"java\", \"java\", \"java\", \"java\", \"java\", \"java\", \"java\", \"java\", \"java\", \"java\", \"java\", \"java\", \"java\", \"java\", \"java\", \"java\", \"java\", \"java\", \"java\", \"java\", \"java\", \"java\", \"java\", \"java\", \"java\", \"java\", \"java\", \"java\", \"java\", \"java\", \"java\", \"java\", \"java\", \"java\", \"java\", \"java\", \"java\", \"java\", \"javascript\", \"javascript\", \"javascript\", \"javascript\", \"javascript\", \"javascript\", \"javascript\", \"javascript\", \"javascript\", \"javascript\", \"javascript\", \"javascript\", \"javascript\", \"javascript\", \"javascript\", \"javascript\", \"javascript\", \"javascript\", \"javascript\", \"javascript\", \"javascript\", \"javascript\", \"javascript\", \"javascript\", \"javascript\", \"jquery\", \"jquery\", \"jquery\", \"jquery\", \"jquery\", \"jquery\", \"jquery\", \"jquery\", \"jquery\", \"jquery\", \"jquery\", \"jquery\", \"jquery\", \"jquery\", \"jquery\", \"jquery\", \"jquery\", \"jquery\", \"jquery\", \"know\", \"know\", \"know\", \"know\", \"know\", \"know\", \"know\", \"know\", \"know\", \"know\", \"know\", \"know\", \"know\", \"know\", \"know\", \"know\", \"know\", \"know\", \"know\", \"know\", \"know\", \"know\", \"know\", \"know\", \"know\", \"know\", \"know\", \"know\", \"know\", \"know\", \"know\", \"know\", \"know\", \"know\", \"know\", \"know\", \"know\", \"know\", \"know\", \"know\", \"know\", \"know\", \"know\", \"know\", \"know\", \"know\", \"know\", \"know\", \"know\", \"know\", \"know\", \"know\", \"know\", \"know\", \"know\", \"know\", \"know\", \"know\", \"know\", \"know\", \"know\", \"know\", \"know\", \"know\", \"know\", \"know\", \"know\", \"know\", \"know\", \"know\", \"know\", \"know\", \"know\", \"know\", \"know\", \"know\", \"know\", \"know\", \"library\", \"library\", \"library\", \"library\", \"library\", \"library\", \"library\", \"library\", \"library\", \"library\", \"library\", \"library\", \"library\", \"library\", \"library\", \"library\", \"library\", \"library\", \"library\", \"library\", \"library\", \"library\", \"library\", \"library\", \"library\", \"library\", \"library\", \"library\", \"library\", \"library\", \"library\", \"library\", \"library\", \"library\", \"library\", \"library\", \"library\", \"library\", \"library\", \"library\", \"library\", \"library\", \"library\", \"library\", \"library\", \"library\", \"library\", \"library\", \"library\", \"library\", \"library\", \"library\", \"library\", \"library\", \"library\", \"like\", \"like\", \"like\", \"like\", \"like\", \"like\", \"like\", \"like\", \"like\", \"like\", \"like\", \"like\", \"like\", \"like\", \"like\", \"like\", \"like\", \"like\", \"like\", \"like\", \"like\", \"like\", \"like\", \"like\", \"like\", \"like\", \"like\", \"like\", \"like\", \"like\", \"like\", \"like\", \"like\", \"like\", \"like\", \"like\", \"like\", \"like\", \"like\", \"like\", \"like\", \"like\", \"like\", \"like\", \"like\", \"like\", \"like\", \"like\", \"like\", \"like\", \"like\", \"like\", \"like\", \"like\", \"like\", \"like\", \"like\", \"like\", \"like\", \"like\", \"like\", \"like\", \"like\", \"like\", \"like\", \"like\", \"like\", \"like\", \"like\", \"like\", \"like\", \"like\", \"like\", \"like\", \"like\", \"like\", \"line\", \"line\", \"line\", \"line\", \"line\", \"line\", \"line\", \"line\", \"line\", \"line\", \"line\", \"line\", \"line\", \"line\", \"line\", \"line\", \"line\", \"line\", \"line\", \"line\", \"line\", \"line\", \"line\", \"line\", \"line\", \"line\", \"line\", \"line\", \"line\", \"line\", \"line\", \"line\", \"line\", \"line\", \"line\", \"line\", \"line\", \"line\", \"line\", \"line\", \"line\", \"line\", \"line\", \"line\", \"line\", \"line\", \"line\", \"line\", \"line\", \"line\", \"line\", \"line\", \"line\", \"line\", \"line\", \"line\", \"line\", \"line\", \"line\", \"line\", \"list\", \"list\", \"list\", \"list\", \"list\", \"list\", \"list\", \"list\", \"list\", \"list\", \"list\", \"list\", \"list\", \"list\", \"list\", \"list\", \"list\", \"list\", \"list\", \"list\", \"list\", \"list\", \"list\", \"list\", \"list\", \"list\", \"list\", \"list\", \"list\", \"list\", \"list\", \"list\", \"list\", \"list\", \"list\", \"list\", \"list\", \"list\", \"list\", \"list\", \"list\", \"list\", \"list\", \"list\", \"list\", \"list\", \"list\", \"list\", \"list\", \"list\", \"list\", \"lot\", \"lot\", \"lot\", \"lot\", \"lot\", \"lot\", \"lot\", \"lot\", \"lot\", \"lot\", \"lot\", \"lot\", \"lot\", \"lot\", \"lot\", \"lot\", \"lot\", \"lot\", \"lot\", \"lot\", \"lot\", \"lot\", \"lot\", \"lot\", \"lot\", \"lot\", \"lot\", \"lot\", \"lot\", \"lot\", \"lot\", \"lot\", \"lot\", \"lot\", \"lot\", \"lot\", \"lot\", \"lot\", \"lot\", \"lot\", \"lot\", \"lot\", \"lot\", \"lot\", \"lot\", \"lot\", \"lot\", \"lot\", \"lot\", \"lot\", \"lot\", \"lot\", \"lot\", \"lot\", \"lot\", \"lot\", \"lot\", \"lot\", \"lot\", \"lot\", \"lot\", \"lot\", \"lot\", \"lot\", \"lot\", \"lot\", \"lot\", \"lot\", \"lot\", \"lot\", \"make\", \"make\", \"make\", \"make\", \"make\", \"make\", \"make\", \"make\", \"make\", \"make\", \"make\", \"make\", \"make\", \"make\", \"make\", \"make\", \"make\", \"make\", \"make\", \"make\", \"make\", \"make\", \"make\", \"make\", \"make\", \"make\", \"make\", \"make\", \"make\", \"make\", \"make\", \"make\", \"make\", \"make\", \"make\", \"make\", \"make\", \"make\", \"make\", \"make\", \"make\", \"make\", \"make\", \"make\", \"make\", \"make\", \"make\", \"make\", \"make\", \"make\", \"make\", \"make\", \"make\", \"make\", \"make\", \"make\", \"make\", \"make\", \"make\", \"make\", \"make\", \"make\", \"make\", \"make\", \"make\", \"make\", \"make\", \"make\", \"make\", \"make\", \"make\", \"make\", \"make\", \"make\", \"make\", \"make\", \"make\", \"method\", \"method\", \"method\", \"method\", \"method\", \"method\", \"method\", \"method\", \"method\", \"method\", \"method\", \"method\", \"method\", \"method\", \"method\", \"method\", \"method\", \"method\", \"method\", \"method\", \"method\", \"method\", \"method\", \"method\", \"method\", \"method\", \"method\", \"method\", \"method\", \"method\", \"method\", \"method\", \"method\", \"method\", \"method\", \"method\", \"method\", \"method\", \"method\", \"method\", \"method\", \"method\", \"method\", \"method\", \"method\", \"method\", \"method\", \"method\", \"method\", \"method\", \"method\", \"method\", \"method\", \"method\", \"method\", \"method\", \"method\", \"method\", \"method\", \"method\", \"method\", \"method\", \"method\", \"method\", \"method\", \"method\", \"method\", \"method\", \"method\", \"method\", \"method\", \"method\", \"method\", \"method\", \"method\", \"method\", \"name\", \"name\", \"name\", \"name\", \"name\", \"name\", \"name\", \"name\", \"name\", \"name\", \"name\", \"name\", \"name\", \"name\", \"name\", \"name\", \"name\", \"name\", \"name\", \"name\", \"name\", \"name\", \"name\", \"name\", \"name\", \"name\", \"name\", \"name\", \"name\", \"name\", \"name\", \"name\", \"name\", \"name\", \"name\", \"name\", \"name\", \"name\", \"name\", \"name\", \"name\", \"name\", \"need\", \"need\", \"need\", \"need\", \"need\", \"need\", \"need\", \"need\", \"need\", \"need\", \"need\", \"need\", \"need\", \"need\", \"need\", \"need\", \"need\", \"need\", \"need\", \"need\", \"need\", \"need\", \"need\", \"need\", \"need\", \"need\", \"need\", \"need\", \"need\", \"need\", \"need\", \"need\", \"need\", \"need\", \"need\", \"need\", \"need\", \"need\", \"need\", \"need\", \"need\", \"need\", \"need\", \"need\", \"need\", \"need\", \"need\", \"need\", \"need\", \"need\", \"need\", \"need\", \"need\", \"need\", \"need\", \"need\", \"need\", \"need\", \"need\", \"need\", \"need\", \"need\", \"need\", \"need\", \"need\", \"need\", \"need\", \"need\", \"need\", \"need\", \"number\", \"number\", \"number\", \"number\", \"number\", \"number\", \"number\", \"number\", \"number\", \"number\", \"number\", \"number\", \"number\", \"number\", \"number\", \"number\", \"number\", \"number\", \"number\", \"number\", \"number\", \"number\", \"number\", \"number\", \"number\", \"number\", \"number\", \"number\", \"number\", \"number\", \"number\", \"number\", \"number\", \"number\", \"number\", \"number\", \"number\", \"number\", \"number\", \"number\", \"number\", \"number\", \"number\", \"number\", \"number\", \"number\", \"number\", \"number\", \"number\", \"number\", \"number\", \"number\", \"number\", \"number\", \"number\", \"number\", \"number\", \"number\", \"number\", \"number\", \"number\", \"object\", \"object\", \"object\", \"object\", \"object\", \"object\", \"object\", \"object\", \"object\", \"object\", \"object\", \"object\", \"object\", \"object\", \"object\", \"object\", \"object\", \"object\", \"object\", \"object\", \"object\", \"object\", \"object\", \"object\", \"object\", \"object\", \"object\", \"object\", \"object\", \"object\", \"object\", \"object\", \"object\", \"object\", \"object\", \"object\", \"object\", \"object\", \"object\", \"object\", \"object\", \"object\", \"object\", \"object\", \"object\", \"object\", \"object\", \"object\", \"object\", \"object\", \"object\", \"object\", \"object\", \"object\", \"object\", \"object\", \"object\", \"object\", \"object\", \"object\", \"object\", \"object\", \"object\", \"object\", \"object\", \"object\", \"object\", \"object\", \"option\", \"option\", \"option\", \"option\", \"option\", \"option\", \"option\", \"option\", \"option\", \"option\", \"option\", \"option\", \"option\", \"option\", \"option\", \"option\", \"option\", \"option\", \"option\", \"option\", \"option\", \"option\", \"option\", \"option\", \"option\", \"option\", \"option\", \"option\", \"option\", \"option\", \"option\", \"option\", \"option\", \"option\", \"option\", \"option\", \"option\", \"option\", \"option\", \"option\", \"option\", \"option\", \"option\", \"option\", \"option\", \"option\", \"option\", \"option\", \"option\", \"option\", \"option\", \"option\", \"option\", \"option\", \"option\", \"page\", \"page\", \"page\", \"page\", \"page\", \"page\", \"page\", \"page\", \"page\", \"page\", \"page\", \"page\", \"page\", \"page\", \"page\", \"page\", \"page\", \"page\", \"page\", \"page\", \"page\", \"page\", \"page\", \"page\", \"page\", \"page\", \"page\", \"page\", \"page\", \"page\", \"page\", \"page\", \"page\", \"page\", \"page\", \"page\", \"page\", \"page\", \"page\", \"page\", \"page\", \"page\", \"page\", \"page\", \"page\", \"page\", \"page\", \"page\", \"part\", \"part\", \"part\", \"part\", \"part\", \"part\", \"part\", \"part\", \"part\", \"part\", \"part\", \"part\", \"part\", \"part\", \"part\", \"part\", \"part\", \"part\", \"part\", \"part\", \"part\", \"part\", \"part\", \"part\", \"part\", \"part\", \"part\", \"part\", \"part\", \"part\", \"part\", \"part\", \"part\", \"part\", \"part\", \"part\", \"part\", \"part\", \"part\", \"part\", \"part\", \"part\", \"part\", \"part\", \"part\", \"part\", \"part\", \"part\", \"part\", \"part\", \"part\", \"part\", \"part\", \"part\", \"part\", \"part\", \"part\", \"please\", \"please\", \"please\", \"please\", \"please\", \"please\", \"please\", \"please\", \"please\", \"please\", \"please\", \"please\", \"please\", \"please\", \"please\", \"please\", \"please\", \"please\", \"please\", \"please\", \"please\", \"please\", \"please\", \"please\", \"please\", \"please\", \"please\", \"please\", \"please\", \"please\", \"please\", \"please\", \"please\", \"please\", \"please\", \"please\", \"please\", \"please\", \"please\", \"please\", \"point\", \"point\", \"point\", \"point\", \"point\", \"point\", \"point\", \"point\", \"point\", \"point\", \"point\", \"point\", \"point\", \"point\", \"point\", \"point\", \"point\", \"point\", \"point\", \"point\", \"point\", \"point\", \"point\", \"point\", \"point\", \"point\", \"point\", \"point\", \"point\", \"point\", \"point\", \"point\", \"point\", \"point\", \"point\", \"point\", \"point\", \"point\", \"point\", \"point\", \"point\", \"point\", \"point\", \"point\", \"point\", \"point\", \"point\", \"point\", \"point\", \"point\", \"point\", \"point\", \"point\", \"point\", \"point\", \"point\", \"point\", \"point\", \"point\", \"point\", \"point\", \"point\", \"point\", \"point\", \"point\", \"point\", \"point\", \"point\", \"point\", \"problem\", \"problem\", \"problem\", \"problem\", \"problem\", \"problem\", \"problem\", \"problem\", \"problem\", \"problem\", \"problem\", \"problem\", \"problem\", \"problem\", \"problem\", \"problem\", \"problem\", \"problem\", \"problem\", \"problem\", \"problem\", \"problem\", \"problem\", \"problem\", \"problem\", \"problem\", \"problem\", \"problem\", \"problem\", \"problem\", \"problem\", \"problem\", \"problem\", \"problem\", \"problem\", \"problem\", \"problem\", \"problem\", \"problem\", \"problem\", \"problem\", \"problem\", \"problem\", \"problem\", \"problem\", \"problem\", \"problem\", \"problem\", \"problem\", \"problem\", \"problem\", \"problem\", \"problem\", \"problem\", \"problem\", \"problem\", \"problem\", \"problem\", \"problem\", \"problem\", \"problem\", \"problem\", \"problem\", \"problem\", \"problem\", \"problem\", \"problem\", \"problem\", \"problem\", \"problem\", \"problem\", \"problem\", \"problem\", \"problem\", \"problem\", \"problem\", \"problem\", \"problem\", \"problem\", \"problem\", \"program\", \"program\", \"program\", \"program\", \"program\", \"program\", \"program\", \"program\", \"program\", \"program\", \"program\", \"program\", \"program\", \"program\", \"program\", \"program\", \"program\", \"program\", \"program\", \"program\", \"program\", \"program\", \"program\", \"program\", \"program\", \"program\", \"program\", \"program\", \"program\", \"program\", \"program\", \"program\", \"program\", \"program\", \"program\", \"program\", \"program\", \"program\", \"program\", \"program\", \"program\", \"program\", \"program\", \"program\", \"program\", \"program\", \"program\", \"program\", \"program\", \"project\", \"project\", \"project\", \"project\", \"project\", \"project\", \"project\", \"project\", \"project\", \"project\", \"project\", \"project\", \"project\", \"project\", \"project\", \"project\", \"project\", \"project\", \"project\", \"project\", \"project\", \"project\", \"project\", \"project\", \"project\", \"project\", \"project\", \"project\", \"project\", \"project\", \"project\", \"project\", \"project\", \"project\", \"project\", \"project\", \"project\", \"project\", \"project\", \"project\", \"project\", \"project\", \"project\", \"project\", \"project\", \"project\", \"project\", \"project\", \"project\", \"project\", \"project\", \"project\", \"project\", \"project\", \"project\", \"project\", \"project\", \"project\", \"project\", \"project\", \"project\", \"project\", \"project\", \"project\", \"project\", \"project\", \"property\", \"property\", \"property\", \"property\", \"property\", \"property\", \"property\", \"property\", \"property\", \"property\", \"property\", \"property\", \"property\", \"property\", \"property\", \"property\", \"property\", \"property\", \"property\", \"property\", \"property\", \"property\", \"property\", \"property\", \"property\", \"property\", \"property\", \"property\", \"property\", \"property\", \"property\", \"property\", \"property\", \"property\", \"property\", \"property\", \"property\", \"property\", \"property\", \"property\", \"property\", \"property\", \"property\", \"property\", \"property\", \"property\", \"query\", \"query\", \"query\", \"query\", \"query\", \"query\", \"query\", \"query\", \"query\", \"query\", \"query\", \"query\", \"query\", \"query\", \"query\", \"query\", \"query\", \"query\", \"query\", \"query\", \"query\", \"query\", \"query\", \"query\", \"question\", \"question\", \"question\", \"question\", \"question\", \"question\", \"question\", \"question\", \"question\", \"question\", \"question\", \"question\", \"question\", \"question\", \"question\", \"question\", \"question\", \"question\", \"question\", \"question\", \"question\", \"question\", \"question\", \"question\", \"question\", \"question\", \"question\", \"question\", \"question\", \"question\", \"question\", \"question\", \"question\", \"question\", \"question\", \"question\", \"question\", \"question\", \"question\", \"question\", \"question\", \"question\", \"question\", \"question\", \"question\", \"question\", \"question\", \"question\", \"question\", \"question\", \"question\", \"question\", \"question\", \"question\", \"question\", \"question\", \"question\", \"question\", \"question\", \"question\", \"question\", \"question\", \"question\", \"question\", \"question\", \"question\", \"question\", \"question\", \"question\", \"question\", \"question\", \"question\", \"question\", \"question\", \"question\", \"question\", \"question\", \"question\", \"question\", \"question\", \"result\", \"result\", \"result\", \"result\", \"result\", \"result\", \"result\", \"result\", \"result\", \"result\", \"result\", \"result\", \"result\", \"result\", \"result\", \"result\", \"result\", \"result\", \"result\", \"result\", \"result\", \"result\", \"result\", \"result\", \"result\", \"result\", \"result\", \"result\", \"result\", \"result\", \"result\", \"result\", \"result\", \"result\", \"result\", \"result\", \"result\", \"result\", \"result\", \"result\", \"result\", \"result\", \"result\", \"result\", \"result\", \"result\", \"result\", \"result\", \"result\", \"result\", \"result\", \"result\", \"result\", \"result\", \"result\", \"result\", \"result\", \"result\", \"result\", \"result\", \"result\", \"result\", \"result\", \"result\", \"result\", \"result\", \"result\", \"result\", \"result\", \"result\", \"return\", \"return\", \"return\", \"return\", \"return\", \"return\", \"return\", \"return\", \"return\", \"return\", \"return\", \"return\", \"return\", \"return\", \"return\", \"return\", \"return\", \"return\", \"return\", \"return\", \"return\", \"return\", \"return\", \"return\", \"return\", \"return\", \"return\", \"return\", \"return\", \"return\", \"return\", \"return\", \"return\", \"return\", \"return\", \"return\", \"return\", \"return\", \"return\", \"return\", \"run\", \"run\", \"run\", \"run\", \"run\", \"run\", \"run\", \"run\", \"run\", \"run\", \"run\", \"run\", \"run\", \"run\", \"run\", \"run\", \"run\", \"run\", \"run\", \"run\", \"run\", \"run\", \"run\", \"run\", \"run\", \"run\", \"run\", \"run\", \"run\", \"run\", \"run\", \"run\", \"run\", \"run\", \"run\", \"run\", \"run\", \"run\", \"run\", \"run\", \"run\", \"run\", \"run\", \"run\", \"run\", \"run\", \"run\", \"run\", \"run\", \"run\", \"run\", \"run\", \"run\", \"run\", \"run\", \"run\", \"run\", \"run\", \"run\", \"run\", \"see\", \"see\", \"see\", \"see\", \"see\", \"see\", \"see\", \"see\", \"see\", \"see\", \"see\", \"see\", \"see\", \"see\", \"see\", \"see\", \"see\", \"see\", \"see\", \"see\", \"see\", \"see\", \"see\", \"see\", \"see\", \"see\", \"see\", \"see\", \"see\", \"see\", \"see\", \"see\", \"see\", \"see\", \"see\", \"see\", \"see\", \"see\", \"see\", \"see\", \"see\", \"see\", \"see\", \"see\", \"see\", \"see\", \"see\", \"see\", \"see\", \"see\", \"see\", \"see\", \"see\", \"see\", \"see\", \"see\", \"see\", \"see\", \"see\", \"see\", \"see\", \"see\", \"see\", \"see\", \"see\", \"see\", \"see\", \"see\", \"see\", \"see\", \"see\", \"see\", \"see\", \"see\", \"see\", \"see\", \"see\", \"server\", \"server\", \"server\", \"server\", \"server\", \"server\", \"server\", \"server\", \"server\", \"server\", \"server\", \"server\", \"server\", \"server\", \"server\", \"server\", \"server\", \"server\", \"server\", \"server\", \"server\", \"server\", \"server\", \"server\", \"server\", \"server\", \"server\", \"server\", \"server\", \"server\", \"server\", \"server\", \"server\", \"server\", \"server\", \"server\", \"server\", \"server\", \"server\", \"server\", \"server\", \"server\", \"server\", \"server\", \"server\", \"server\", \"server\", \"server\", \"server\", \"server\", \"server\", \"server\", \"server\", \"server\", \"server\", \"server\", \"server\", \"server\", \"server\", \"server\", \"server\", \"server\", \"set\", \"set\", \"set\", \"set\", \"set\", \"set\", \"set\", \"set\", \"set\", \"set\", \"set\", \"set\", \"set\", \"set\", \"set\", \"set\", \"set\", \"set\", \"set\", \"set\", \"set\", \"set\", \"set\", \"set\", \"set\", \"set\", \"set\", \"set\", \"set\", \"set\", \"set\", \"set\", \"set\", \"set\", \"set\", \"set\", \"set\", \"set\", \"set\", \"set\", \"set\", \"set\", \"set\", \"set\", \"set\", \"set\", \"set\", \"set\", \"set\", \"set\", \"set\", \"set\", \"set\", \"set\", \"set\", \"set\", \"set\", \"set\", \"solution\", \"solution\", \"solution\", \"solution\", \"solution\", \"solution\", \"solution\", \"solution\", \"solution\", \"solution\", \"solution\", \"solution\", \"solution\", \"solution\", \"solution\", \"solution\", \"solution\", \"solution\", \"solution\", \"solution\", \"solution\", \"solution\", \"solution\", \"solution\", \"solution\", \"solution\", \"solution\", \"solution\", \"solution\", \"solution\", \"solution\", \"solution\", \"solution\", \"solution\", \"solution\", \"solution\", \"solution\", \"solution\", \"solution\", \"solution\", \"solution\", \"solution\", \"solution\", \"solution\", \"solution\", \"solution\", \"solution\", \"solution\", \"solution\", \"solution\", \"solution\", \"solution\", \"solution\", \"solution\", \"solution\", \"solution\", \"solution\", \"solution\", \"solution\", \"solution\", \"solution\", \"solution\", \"solution\", \"solution\", \"solution\", \"solution\", \"solution\", \"solution\", \"solution\", \"solution\", \"solution\", \"solution\", \"solution\", \"solution\", \"something\", \"something\", \"something\", \"something\", \"something\", \"something\", \"something\", \"something\", \"something\", \"something\", \"something\", \"something\", \"something\", \"something\", \"something\", \"something\", \"something\", \"something\", \"something\", \"something\", \"something\", \"something\", \"something\", \"something\", \"something\", \"something\", \"something\", \"something\", \"something\", \"something\", \"something\", \"something\", \"something\", \"something\", \"something\", \"something\", \"something\", \"something\", \"something\", \"something\", \"something\", \"something\", \"something\", \"something\", \"something\", \"something\", \"something\", \"something\", \"something\", \"something\", \"something\", \"something\", \"something\", \"something\", \"something\", \"something\", \"something\", \"something\", \"something\", \"something\", \"something\", \"something\", \"something\", \"something\", \"something\", \"something\", \"something\", \"something\", \"something\", \"something\", \"something\", \"something\", \"something\", \"something\", \"something\", \"something\", \"something\", \"something\", \"something\", \"sql\", \"sql\", \"sql\", \"sql\", \"sql\", \"sql\", \"sql\", \"sql\", \"sql\", \"sql\", \"sql\", \"sql\", \"sql\", \"sql\", \"sql\", \"sql\", \"sql\", \"sql\", \"sql\", \"sql\", \"sql\", \"sql\", \"sql\", \"sql\", \"sql\", \"sql\", \"sql\", \"sql\", \"string\", \"string\", \"string\", \"string\", \"string\", \"string\", \"string\", \"string\", \"string\", \"string\", \"string\", \"string\", \"string\", \"string\", \"string\", \"string\", \"string\", \"string\", \"string\", \"string\", \"string\", \"string\", \"string\", \"string\", \"string\", \"string\", \"string\", \"string\", \"string\", \"string\", \"string\", \"string\", \"string\", \"string\", \"string\", \"string\", \"string\", \"string\", \"string\", \"string\", \"string\", \"string\", \"string\", \"string\", \"string\", \"string\", \"string\", \"system\", \"system\", \"system\", \"system\", \"system\", \"system\", \"system\", \"system\", \"system\", \"system\", \"system\", \"system\", \"system\", \"system\", \"system\", \"system\", \"system\", \"system\", \"system\", \"system\", \"system\", \"system\", \"system\", \"system\", \"system\", \"system\", \"system\", \"system\", \"system\", \"system\", \"system\", \"system\", \"system\", \"system\", \"system\", \"system\", \"system\", \"system\", \"system\", \"system\", \"system\", \"system\", \"system\", \"system\", \"system\", \"system\", \"system\", \"system\", \"system\", \"system\", \"table\", \"table\", \"table\", \"table\", \"table\", \"table\", \"table\", \"table\", \"table\", \"table\", \"table\", \"table\", \"table\", \"table\", \"table\", \"table\", \"table\", \"table\", \"table\", \"table\", \"table\", \"table\", \"table\", \"table\", \"table\", \"table\", \"table\", \"table\", \"table\", \"table\", \"table\", \"table\", \"table\", \"table\", \"table\", \"test\", \"test\", \"test\", \"test\", \"test\", \"test\", \"test\", \"test\", \"test\", \"test\", \"test\", \"test\", \"test\", \"test\", \"test\", \"test\", \"test\", \"test\", \"test\", \"test\", \"test\", \"test\", \"test\", \"test\", \"test\", \"test\", \"test\", \"test\", \"test\", \"test\", \"test\", \"test\", \"test\", \"test\", \"test\", \"test\", \"test\", \"test\", \"test\", \"test\", \"test\", \"test\", \"test\", \"test\", \"test\", \"test\", \"test\", \"test\", \"test\", \"test\", \"test\", \"test\", \"test\", \"test\", \"text\", \"text\", \"text\", \"text\", \"text\", \"text\", \"text\", \"text\", \"text\", \"text\", \"text\", \"text\", \"text\", \"text\", \"text\", \"text\", \"text\", \"text\", \"text\", \"text\", \"text\", \"text\", \"text\", \"text\", \"text\", \"text\", \"text\", \"text\", \"text\", \"text\", \"text\", \"text\", \"text\", \"text\", \"text\", \"thanks\", \"thanks\", \"thanks\", \"thanks\", \"thanks\", \"thanks\", \"thanks\", \"thanks\", \"thanks\", \"thanks\", \"thanks\", \"thanks\", \"thanks\", \"thanks\", \"thanks\", \"thanks\", \"thanks\", \"thanks\", \"thanks\", \"thanks\", \"thanks\", \"thanks\", \"thanks\", \"thanks\", \"thanks\", \"thanks\", \"thanks\", \"thanks\", \"thanks\", \"thanks\", \"thanks\", \"thanks\", \"thanks\", \"thanks\", \"thanks\", \"thanks\", \"thanks\", \"thanks\", \"thanks\", \"thanks\", \"thanks\", \"thanks\", \"thanks\", \"thanks\", \"thanks\", \"thanks\", \"thanks\", \"thanks\", \"thanks\", \"thanks\", \"thanks\", \"thanks\", \"thanks\", \"thanks\", \"thanks\", \"thanks\", \"thanks\", \"thanks\", \"thanks\", \"thanks\", \"thanks\", \"thanks\", \"thanks\", \"thanks\", \"thanks\", \"thanks\", \"thanks\", \"thanks\", \"thanks\", \"thanks\", \"thanks\", \"thanks\", \"thanks\", \"thanks\", \"thanks\", \"thanks\", \"thanks\", \"thing\", \"thing\", \"thing\", \"thing\", \"thing\", \"thing\", \"thing\", \"thing\", \"thing\", \"thing\", \"thing\", \"thing\", \"thing\", \"thing\", \"thing\", \"thing\", \"thing\", \"thing\", \"thing\", \"thing\", \"thing\", \"thing\", \"thing\", \"thing\", \"thing\", \"thing\", \"thing\", \"thing\", \"thing\", \"thing\", \"thing\", \"thing\", \"thing\", \"thing\", \"thing\", \"thing\", \"thing\", \"thing\", \"thing\", \"thing\", \"thing\", \"thing\", \"thing\", \"thing\", \"thing\", \"thing\", \"thing\", \"thing\", \"thing\", \"thing\", \"thing\", \"thing\", \"thing\", \"thing\", \"thing\", \"thing\", \"thing\", \"thing\", \"thing\", \"thing\", \"thing\", \"thing\", \"thing\", \"thing\", \"thing\", \"thing\", \"thing\", \"thing\", \"thing\", \"thing\", \"thing\", \"thing\", \"thing\", \"thing\", \"thing\", \"thing\", \"thing\", \"thing\", \"time\", \"time\", \"time\", \"time\", \"time\", \"time\", \"time\", \"time\", \"time\", \"time\", \"time\", \"time\", \"time\", \"time\", \"time\", \"time\", \"time\", \"time\", \"time\", \"time\", \"time\", \"time\", \"time\", \"time\", \"time\", \"time\", \"time\", \"time\", \"time\", \"time\", \"time\", \"time\", \"time\", \"time\", \"time\", \"time\", \"time\", \"time\", \"time\", \"time\", \"time\", \"time\", \"time\", \"time\", \"time\", \"time\", \"time\", \"time\", \"time\", \"time\", \"time\", \"time\", \"time\", \"time\", \"time\", \"time\", \"time\", \"time\", \"time\", \"time\", \"time\", \"time\", \"time\", \"time\", \"time\", \"time\", \"time\", \"time\", \"time\", \"time\", \"time\", \"time\", \"time\", \"time\", \"time\", \"time\", \"time\", \"time\", \"type\", \"type\", \"type\", \"type\", \"type\", \"type\", \"type\", \"type\", \"type\", \"type\", \"type\", \"type\", \"type\", \"type\", \"type\", \"type\", \"type\", \"type\", \"type\", \"type\", \"type\", \"type\", \"type\", \"type\", \"type\", \"type\", \"type\", \"type\", \"type\", \"type\", \"type\", \"type\", \"type\", \"type\", \"type\", \"type\", \"type\", \"type\", \"type\", \"type\", \"type\", \"type\", \"type\", \"type\", \"type\", \"type\", \"type\", \"type\", \"type\", \"type\", \"type\", \"type\", \"type\", \"type\", \"type\", \"type\", \"type\", \"type\", \"type\", \"type\", \"type\", \"type\", \"update\", \"update\", \"update\", \"update\", \"update\", \"update\", \"update\", \"update\", \"update\", \"update\", \"update\", \"update\", \"update\", \"update\", \"update\", \"update\", \"update\", \"update\", \"update\", \"update\", \"update\", \"update\", \"update\", \"update\", \"update\", \"update\", \"update\", \"update\", \"update\", \"update\", \"update\", \"update\", \"update\", \"update\", \"update\", \"update\", \"update\", \"update\", \"update\", \"update\", \"update\", \"update\", \"update\", \"update\", \"update\", \"update\", \"update\", \"update\", \"update\", \"update\", \"update\", \"update\", \"update\", \"update\", \"update\", \"update\", \"update\", \"update\", \"update\", \"update\", \"update\", \"update\", \"update\", \"update\", \"update\", \"update\", \"update\", \"use\", \"use\", \"use\", \"use\", \"use\", \"use\", \"use\", \"use\", \"use\", \"use\", \"use\", \"use\", \"use\", \"use\", \"use\", \"use\", \"use\", \"use\", \"use\", \"use\", \"use\", \"use\", \"use\", \"use\", \"use\", \"use\", \"use\", \"use\", \"use\", \"use\", \"use\", \"use\", \"use\", \"use\", \"use\", \"use\", \"use\", \"use\", \"use\", \"use\", \"use\", \"use\", \"use\", \"use\", \"use\", \"use\", \"use\", \"use\", \"use\", \"use\", \"use\", \"use\", \"use\", \"use\", \"use\", \"use\", \"use\", \"use\", \"use\", \"use\", \"use\", \"use\", \"use\", \"use\", \"use\", \"use\", \"use\", \"use\", \"use\", \"use\", \"use\", \"use\", \"use\", \"use\", \"use\", \"use\", \"use\", \"use\", \"use\", \"use\", \"user\", \"user\", \"user\", \"user\", \"user\", \"user\", \"user\", \"user\", \"user\", \"user\", \"user\", \"user\", \"user\", \"user\", \"user\", \"user\", \"user\", \"user\", \"user\", \"user\", \"user\", \"user\", \"user\", \"user\", \"user\", \"user\", \"user\", \"user\", \"user\", \"user\", \"user\", \"user\", \"user\", \"user\", \"user\", \"user\", \"user\", \"user\", \"user\", \"user\", \"user\", \"user\", \"user\", \"user\", \"user\", \"user\", \"user\", \"user\", \"user\", \"user\", \"user\", \"user\", \"user\", \"user\", \"user\", \"user\", \"user\", \"user\", \"user\", \"user\", \"user\", \"user\", \"user\", \"user\", \"user\", \"user\", \"user\", \"user\", \"user\", \"user\", \"user\", \"user\", \"user\", \"user\", \"user\", \"user\", \"value\", \"value\", \"value\", \"value\", \"value\", \"value\", \"value\", \"value\", \"value\", \"value\", \"value\", \"value\", \"value\", \"value\", \"value\", \"value\", \"value\", \"value\", \"value\", \"value\", \"value\", \"value\", \"value\", \"value\", \"value\", \"value\", \"value\", \"value\", \"value\", \"value\", \"value\", \"value\", \"value\", \"value\", \"value\", \"value\", \"value\", \"value\", \"value\", \"value\", \"value\", \"value\", \"value\", \"value\", \"value\", \"value\", \"value\", \"value\", \"value\", \"value\", \"value\", \"value\", \"value\", \"value\", \"value\", \"value\", \"value\", \"value\", \"value\", \"value\", \"value\", \"value\", \"value\", \"value\", \"value\", \"value\", \"version\", \"version\", \"version\", \"version\", \"version\", \"version\", \"version\", \"version\", \"version\", \"version\", \"version\", \"version\", \"version\", \"version\", \"version\", \"version\", \"version\", \"version\", \"version\", \"version\", \"version\", \"version\", \"version\", \"version\", \"version\", \"version\", \"version\", \"version\", \"version\", \"version\", \"version\", \"version\", \"version\", \"version\", \"version\", \"version\", \"version\", \"version\", \"version\", \"version\", \"version\", \"version\", \"version\", \"version\", \"version\", \"version\", \"version\", \"version\", \"version\", \"version\", \"version\", \"version\", \"version\", \"version\", \"version\", \"view\", \"view\", \"view\", \"view\", \"view\", \"view\", \"view\", \"view\", \"view\", \"view\", \"view\", \"view\", \"view\", \"view\", \"view\", \"view\", \"view\", \"view\", \"view\", \"view\", \"view\", \"view\", \"view\", \"view\", \"view\", \"view\", \"view\", \"want\", \"want\", \"want\", \"want\", \"want\", \"want\", \"want\", \"want\", \"want\", \"want\", \"want\", \"want\", \"want\", \"want\", \"want\", \"want\", \"want\", \"want\", \"want\", \"want\", \"want\", \"want\", \"want\", \"want\", \"want\", \"want\", \"want\", \"want\", \"want\", \"want\", \"want\", \"want\", \"want\", \"want\", \"want\", \"want\", \"want\", \"want\", \"want\", \"want\", \"want\", \"want\", \"want\", \"want\", \"want\", \"want\", \"want\", \"want\", \"way\", \"way\", \"way\", \"way\", \"way\", \"way\", \"way\", \"way\", \"way\", \"way\", \"way\", \"way\", \"way\", \"way\", \"way\", \"way\", \"way\", \"way\", \"way\", \"way\", \"way\", \"way\", \"way\", \"way\", \"way\", \"way\", \"way\", \"way\", \"way\", \"way\", \"way\", \"way\", \"way\", \"way\", \"way\", \"way\", \"way\", \"way\", \"way\", \"way\", \"way\", \"way\", \"way\", \"way\", \"way\", \"way\", \"way\", \"way\", \"way\", \"way\", \"way\", \"way\", \"way\", \"way\", \"way\", \"way\", \"way\", \"way\", \"way\", \"way\", \"way\", \"way\", \"way\", \"way\", \"way\", \"way\", \"way\", \"way\", \"way\", \"way\", \"way\", \"way\", \"way\", \"way\", \"way\", \"way\", \"way\", \"way\", \"way\", \"way\", \"web\", \"web\", \"web\", \"web\", \"web\", \"web\", \"web\", \"web\", \"web\", \"web\", \"web\", \"web\", \"web\", \"web\", \"web\", \"web\", \"web\", \"web\", \"web\", \"web\", \"web\", \"web\", \"web\", \"web\", \"web\", \"web\", \"web\", \"web\", \"web\", \"web\", \"web\", \"web\", \"web\", \"web\", \"web\", \"web\", \"web\", \"web\", \"web\", \"web\", \"web\", \"web\", \"web\", \"web\", \"web\", \"web\", \"web\", \"web\", \"web\", \"web\", \"web\", \"web\", \"web\", \"web\", \"web\", \"web\", \"web\", \"window\", \"window\", \"window\", \"window\", \"window\", \"window\", \"window\", \"window\", \"window\", \"window\", \"window\", \"window\", \"window\", \"window\", \"window\", \"window\", \"window\", \"window\", \"window\", \"window\", \"window\", \"window\", \"window\", \"window\", \"window\", \"window\", \"window\", \"window\", \"window\", \"window\", \"window\", \"window\", \"window\", \"window\", \"window\", \"window\", \"window\", \"window\", \"window\", \"window\", \"window\", \"window\", \"window\", \"window\", \"window\", \"window\", \"window\", \"window\", \"window\", \"window\", \"window\", \"window\", \"window\", \"work\", \"work\", \"work\", \"work\", \"work\", \"work\", \"work\", \"work\", \"work\", \"work\", \"work\", \"work\", \"work\", \"work\", \"work\", \"work\", \"work\", \"work\", \"work\", \"work\", \"work\", \"work\", \"work\", \"work\", \"work\", \"work\", \"work\", \"work\", \"work\", \"work\", \"work\", \"work\", \"work\", \"work\", \"work\", \"work\", \"work\", \"work\", \"work\", \"work\", \"work\", \"work\", \"work\", \"work\", \"work\", \"work\", \"work\", \"work\", \"work\", \"work\", \"work\", \"work\", \"work\", \"work\", \"work\", \"work\", \"work\", \"work\", \"work\", \"work\", \"work\", \"work\", \"work\", \"work\", \"work\", \"work\", \"work\", \"work\", \"work\", \"work\", \"work\", \"work\", \"work\", \"work\", \"work\", \"work\", \"work\", \"work\", \"work\", \"work\", \"write\", \"write\", \"write\", \"write\", \"write\", \"write\", \"write\", \"write\", \"write\", \"write\", \"write\", \"write\", \"write\", \"write\", \"write\", \"write\", \"write\", \"write\", \"write\", \"write\", \"write\", \"write\", \"write\", \"write\", \"write\", \"write\", \"write\", \"write\", \"write\", \"write\", \"write\", \"write\", \"write\", \"write\", \"write\", \"write\", \"write\", \"write\", \"write\", \"write\", \"write\", \"write\", \"write\", \"write\", \"write\", \"write\", \"write\", \"write\", \"write\", \"write\", \"write\", \"write\", \"write\", \"write\", \"write\", \"write\", \"write\", \"write\", \"write\"]}, \"R\": 30, \"lambda.step\": 0.01, \"plot.opts\": {\"xlab\": \"PC1\", \"ylab\": \"PC2\"}, \"topic.order\": [62, 58, 52, 11, 27, 21, 35, 33, 24, 49, 23, 41, 51, 38, 76, 22, 17, 72, 28, 47, 31, 42, 56, 63, 70, 26, 10, 34, 16, 50, 8, 4, 15, 59, 64, 40, 78, 1, 7, 73, 48, 65, 45, 57, 75, 66, 13, 5, 74, 3, 77, 6, 68, 60, 9, 19, 25, 43, 32, 18, 55, 53, 69, 71, 20, 44, 39, 79, 54, 12, 14, 61, 2, 36, 67, 37, 29, 30, 46, 80]};\n",
       "\n",
       "function LDAvis_load_lib(url, callback){\n",
       "  var s = document.createElement('script');\n",
       "  s.src = url;\n",
       "  s.async = true;\n",
       "  s.onreadystatechange = s.onload = callback;\n",
       "  s.onerror = function(){console.warn(\"failed to load library \" + url);};\n",
       "  document.getElementsByTagName(\"head\")[0].appendChild(s);\n",
       "}\n",
       "\n",
       "if(typeof(LDAvis) !== \"undefined\"){\n",
       "   // already loaded: just create the visualization\n",
       "   !function(LDAvis){\n",
       "       new LDAvis(\"#\" + \"ldavis_el1908163733661282555251829\", ldavis_el1908163733661282555251829_data);\n",
       "   }(LDAvis);\n",
       "}else if(typeof define === \"function\" && define.amd){\n",
       "   // require.js is available: use it to load d3/LDAvis\n",
       "   require.config({paths: {d3: \"https://d3js.org/d3.v5\"}});\n",
       "   require([\"d3\"], function(d3){\n",
       "      window.d3 = d3;\n",
       "      LDAvis_load_lib(\"https://cdn.jsdelivr.net/gh/bmabey/pyLDAvis@3.3.1/pyLDAvis/js/ldavis.v3.0.0.js\", function(){\n",
       "        new LDAvis(\"#\" + \"ldavis_el1908163733661282555251829\", ldavis_el1908163733661282555251829_data);\n",
       "      });\n",
       "    });\n",
       "}else{\n",
       "    // require.js not available: dynamically load d3 & LDAvis\n",
       "    LDAvis_load_lib(\"https://d3js.org/d3.v5.js\", function(){\n",
       "         LDAvis_load_lib(\"https://cdn.jsdelivr.net/gh/bmabey/pyLDAvis@3.3.1/pyLDAvis/js/ldavis.v3.0.0.js\", function(){\n",
       "                 new LDAvis(\"#\" + \"ldavis_el1908163733661282555251829\", ldavis_el1908163733661282555251829_data);\n",
       "            })\n",
       "         });\n",
       "}\n",
       "</script>"
      ],
      "text/plain": [
       "<IPython.core.display.HTML object>"
      ]
     },
     "execution_count": 54,
     "metadata": {},
     "output_type": "execute_result"
    }
   ],
   "source": [
    "lda_display = pyLDAvis.gensim_models.prepare(lda_model, corpus_train, dictionary, sort_topics=True)\n",
    "pyLDAvis.display(lda_display)"
   ]
  },
  {
   "cell_type": "markdown",
   "metadata": {},
   "source": [
    "In order to use the *LDA* model to make predictions, we develop a function to select 5 predictions by prioritizing terms that are present in the *title* of the question.\\\n",
    "If this does not make up for 5 *tags*, we select the terms with the highest frequencies until we obtain 5 terms."
   ]
  },
  {
   "cell_type": "code",
   "execution_count": null,
   "metadata": {},
   "outputs": [],
   "source": [
    "def filter_preds(document, preds, length=5):\n",
    "    \n",
    "    filtered_preds = list()\n",
    "\n",
    "    if type(document) == float:\n",
    "\n",
    "        pass\n",
    "\n",
    "    else:\n",
    "\n",
    "        for pred in preds:\n",
    "\n",
    "            if pred in document:\n",
    "\n",
    "                filtered_preds.append(pred)\n",
    "                preds.remove(pred)\n",
    "\n",
    "        filtered_preds = filtered_preds[:length]\n",
    "\n",
    "    for pred in preds:\n",
    "\n",
    "        if len(filtered_preds) == length:\n",
    "            \n",
    "            break\n",
    "        \n",
    "        else:\n",
    "\n",
    "            filtered_preds.append(pred)\n",
    "    \n",
    "    return filtered_preds"
   ]
  },
  {
   "cell_type": "markdown",
   "metadata": {},
   "source": [
    "We predict the *tags* for each *document* of the *corpus* using the *get_topic_terms* method after translating the *X_test set* to a *bag of words* using the training *dictionary*.\\\n",
    "We then apply the *filter_preds* function described above:"
   ]
  },
  {
   "cell_type": "code",
   "execution_count": null,
   "metadata": {},
   "outputs": [
    {
     "data": {
      "text/html": [
       "<div>\n",
       "<style scoped>\n",
       "    .dataframe tbody tr th:only-of-type {\n",
       "        vertical-align: middle;\n",
       "    }\n",
       "\n",
       "    .dataframe tbody tr th {\n",
       "        vertical-align: top;\n",
       "    }\n",
       "\n",
       "    .dataframe thead th {\n",
       "        text-align: right;\n",
       "    }\n",
       "</style>\n",
       "<table border=\"1\" class=\"dataframe\">\n",
       "  <thead>\n",
       "    <tr style=\"text-align: right;\">\n",
       "      <th></th>\n",
       "      <th>Title_tokens</th>\n",
       "      <th>Tags_tokens</th>\n",
       "      <th>LDA</th>\n",
       "    </tr>\n",
       "  </thead>\n",
       "  <tbody>\n",
       "    <tr>\n",
       "      <th>199</th>\n",
       "      <td>strategy,audit,trail/change,history,db,applica...</td>\n",
       "      <td>database,postgresql,database-design,crud,audit...</td>\n",
       "      <td>[database, sql, object, class, list]</td>\n",
       "    </tr>\n",
       "    <tr>\n",
       "      <th>39489</th>\n",
       "      <td>strcmp,string,:compare</td>\n",
       "      <td>c++,c,string,char,string-comparison</td>\n",
       "      <td>[object, http, function, text, class]</td>\n",
       "    </tr>\n",
       "    <tr>\n",
       "      <th>42724</th>\n",
       "      <td>decode,entity,rail</td>\n",
       "      <td>ruby-on-rails,ruby,ruby-on-rails-3,html-entiti...</td>\n",
       "      <td>[function, class, c++, object, c]</td>\n",
       "    </tr>\n",
       "    <tr>\n",
       "      <th>10822</th>\n",
       "      <td>pointer,structure</td>\n",
       "      <td>c,pointers,variables,struct,return</td>\n",
       "      <td>[c, function, file, class, object]</td>\n",
       "    </tr>\n",
       "    <tr>\n",
       "      <th>4144</th>\n",
       "      <td>use,http,authentication,client,web,service</td>\n",
       "      <td>java,web-services,ssl,cxf,ws-security</td>\n",
       "      <td>[http, file, javascript, java, database]</td>\n",
       "    </tr>\n",
       "    <tr>\n",
       "      <th>...</th>\n",
       "      <td>...</td>\n",
       "      <td>...</td>\n",
       "      <td>...</td>\n",
       "    </tr>\n",
       "    <tr>\n",
       "      <th>43515</th>\n",
       "      <td>difference,appdelegate.m,view,controller.m</td>\n",
       "      <td>iphone,objective-c,xcode,delegates,viewcontroller</td>\n",
       "      <td>[file, http, object, sql, class]</td>\n",
       "    </tr>\n",
       "    <tr>\n",
       "      <th>26859</th>\n",
       "      <td>center,mass,set,point,map,distance,point</td>\n",
       "      <td>algorithm,language-agnostic,math,geometry,topo...</td>\n",
       "      <td>[function, c++, object, program, point]</td>\n",
       "    </tr>\n",
       "    <tr>\n",
       "      <th>28567</th>\n",
       "      <td>class</td>\n",
       "      <td>c#,wpf,mvvm,dependency-properties,mvvm-foundation</td>\n",
       "      <td>[class, .net, function, c, c++]</td>\n",
       "    </tr>\n",
       "    <tr>\n",
       "      <th>18707</th>\n",
       "      <td>macro,gcc/g++,differentiate,linux,mac,osx</td>\n",
       "      <td>linux,macos,gcc,cross-platform,macros</td>\n",
       "      <td>[list, java, c, .net, object]</td>\n",
       "    </tr>\n",
       "    <tr>\n",
       "      <th>15200</th>\n",
       "      <td>console,window,application</td>\n",
       "      <td>windows,visual-studio,qt,console,hide</td>\n",
       "      <td>[file, c, .net, function, http]</td>\n",
       "    </tr>\n",
       "  </tbody>\n",
       "</table>\n",
       "<p>5065 rows × 3 columns</p>\n",
       "</div>"
      ],
      "text/plain": [
       "                                            Title_tokens  \\\n",
       "199    strategy,audit,trail/change,history,db,applica...   \n",
       "39489                             strcmp,string,:compare   \n",
       "42724                                 decode,entity,rail   \n",
       "10822                                  pointer,structure   \n",
       "4144          use,http,authentication,client,web,service   \n",
       "...                                                  ...   \n",
       "43515         difference,appdelegate.m,view,controller.m   \n",
       "26859           center,mass,set,point,map,distance,point   \n",
       "28567                                              class   \n",
       "18707          macro,gcc/g++,differentiate,linux,mac,osx   \n",
       "15200                         console,window,application   \n",
       "\n",
       "                                             Tags_tokens  \\\n",
       "199    database,postgresql,database-design,crud,audit...   \n",
       "39489                c++,c,string,char,string-comparison   \n",
       "42724  ruby-on-rails,ruby,ruby-on-rails-3,html-entiti...   \n",
       "10822                 c,pointers,variables,struct,return   \n",
       "4144               java,web-services,ssl,cxf,ws-security   \n",
       "...                                                  ...   \n",
       "43515  iphone,objective-c,xcode,delegates,viewcontroller   \n",
       "26859  algorithm,language-agnostic,math,geometry,topo...   \n",
       "28567  c#,wpf,mvvm,dependency-properties,mvvm-foundation   \n",
       "18707              linux,macos,gcc,cross-platform,macros   \n",
       "15200              windows,visual-studio,qt,console,hide   \n",
       "\n",
       "                                            LDA  \n",
       "199        [database, sql, object, class, list]  \n",
       "39489     [object, http, function, text, class]  \n",
       "42724         [function, class, c++, object, c]  \n",
       "10822        [c, function, file, class, object]  \n",
       "4144   [http, file, javascript, java, database]  \n",
       "...                                         ...  \n",
       "43515          [file, http, object, sql, class]  \n",
       "26859   [function, c++, object, program, point]  \n",
       "28567           [class, .net, function, c, c++]  \n",
       "18707             [list, java, c, .net, object]  \n",
       "15200           [file, c, .net, function, http]  \n",
       "\n",
       "[5065 rows x 3 columns]"
      ]
     },
     "execution_count": 56,
     "metadata": {},
     "output_type": "execute_result"
    }
   ],
   "source": [
    "texts_test = transformer.X_test_raw.str.split(',')\n",
    "corpus_test = [dictionary.doc2bow(text) for text in texts_test]\n",
    "topics = [sorted(topic, key= lambda tup: tup[1])[-1][0] for topic in lda_model.get_document_topics(corpus_test)]\n",
    "preds = [[dictionary[tag[0]] for tag in lda_model.get_topic_terms(topicid=topic, topn=50)] for topic in topics]\n",
    "transformer.test_df['LDA'] = preds\n",
    "transformer.test_df['LDA'] = transformer.test_df.apply(lambda x: filter_preds(transformer.top_tags, x['LDA']), axis=1)\n",
    "transformer.test_df[['Title_tokens', 'Tags_tokens', 'LDA']]"
   ]
  },
  {
   "cell_type": "markdown",
   "metadata": {},
   "source": [
    "We can still calculate the *ratio of tags hit* using our *PerformanceReport* class:"
   ]
  },
  {
   "cell_type": "code",
   "execution_count": null,
   "metadata": {},
   "outputs": [
    {
     "name": "stdout",
     "output_type": "stream",
     "text": [
      "Ratio of tags hit: 0.0677\n"
     ]
    }
   ],
   "source": [
    "report.tags_ratio('LDA', transformer.test_df, 'Tags_tokens')"
   ]
  },
  {
   "cell_type": "markdown",
   "metadata": {},
   "source": [
    "# Supervised"
   ]
  },
  {
   "cell_type": "markdown",
   "metadata": {},
   "source": [
    "### Logistic Regression"
   ]
  },
  {
   "cell_type": "code",
   "execution_count": null,
   "metadata": {},
   "outputs": [
    {
     "name": "stdout",
     "output_type": "stream",
     "text": [
      "                     SVM\n",
      "Precision       0.662094\n",
      "Recall          0.296781\n",
      "F1              0.393842\n",
      "Inference_time  0.000094\n",
      "Model_size_mb          1\n"
     ]
    },
    {
     "name": "stderr",
     "output_type": "stream",
     "text": [
      "/opt/homebrew/Caskroom/miniforge/base/envs/P5/lib/python3.9/site-packages/sklearn/metrics/_classification.py:1318: UndefinedMetricWarning:\n",
      "\n",
      "Precision is ill-defined and being set to 0.0 in labels with no predicted samples. Use `zero_division` parameter to control this behavior.\n",
      "\n"
     ]
    }
   ],
   "source": [
    "from sklearn.linear_model import LogisticRegression\n",
    "\n",
    "logr_model = OneVsRestClassifier(LogisticRegression(solver='lbfgs'))\n",
    "logr_model.fit(X_train, y_train)\n",
    "\n",
    "#estimate the best predicted tags\n",
    "preds = logr_model.predict(X_test)\n",
    "report.evaluate('SVM', logr_model, X_test, y_test, preds)"
   ]
  },
  {
   "cell_type": "code",
   "execution_count": null,
   "metadata": {},
   "outputs": [
    {
     "data": {
      "text/html": [
       "<div>\n",
       "<style scoped>\n",
       "    .dataframe tbody tr th:only-of-type {\n",
       "        vertical-align: middle;\n",
       "    }\n",
       "\n",
       "    .dataframe tbody tr th {\n",
       "        vertical-align: top;\n",
       "    }\n",
       "\n",
       "    .dataframe thead th {\n",
       "        text-align: right;\n",
       "    }\n",
       "</style>\n",
       "<table border=\"1\" class=\"dataframe\">\n",
       "  <thead>\n",
       "    <tr style=\"text-align: right;\">\n",
       "      <th></th>\n",
       "      <th>Title_Body_tokens</th>\n",
       "      <th>Tags_tokens</th>\n",
       "      <th>LogR</th>\n",
       "    </tr>\n",
       "  </thead>\n",
       "  <tbody>\n",
       "    <tr>\n",
       "      <th>199</th>\n",
       "      <td>strategy,audit,trail/change,history,db,applica...</td>\n",
       "      <td>database,postgresql,database-design,crud,audit...</td>\n",
       "      <td>(database,)</td>\n",
       "    </tr>\n",
       "    <tr>\n",
       "      <th>39489</th>\n",
       "      <td>strcmp,string,:compare,compare,string,seem,wor...</td>\n",
       "      <td>c++,c,string,char,string-comparison</td>\n",
       "      <td>()</td>\n",
       "    </tr>\n",
       "    <tr>\n",
       "      <th>42724</th>\n",
       "      <td>decode,entity,rail,duplicate,encode/decode,ent...</td>\n",
       "      <td>ruby-on-rails,ruby,ruby-on-rails-3,html-entiti...</td>\n",
       "      <td>(ruby-on-rails, ruby, entity-framework)</td>\n",
       "    </tr>\n",
       "    <tr>\n",
       "      <th>10822</th>\n",
       "      <td>pointer,structure,return,pointer,struct,c,mean...</td>\n",
       "      <td>c,pointers,variables,struct,return</td>\n",
       "      <td>(c++, c, pointers)</td>\n",
       "    </tr>\n",
       "    <tr>\n",
       "      <th>4144</th>\n",
       "      <td>use,http,authentication,client,web,service,acc...</td>\n",
       "      <td>java,web-services,ssl,cxf,ws-security</td>\n",
       "      <td>(security, web-services, wcf, ssl)</td>\n",
       "    </tr>\n",
       "  </tbody>\n",
       "</table>\n",
       "</div>"
      ],
      "text/plain": [
       "                                       Title_Body_tokens  \\\n",
       "199    strategy,audit,trail/change,history,db,applica...   \n",
       "39489  strcmp,string,:compare,compare,string,seem,wor...   \n",
       "42724  decode,entity,rail,duplicate,encode/decode,ent...   \n",
       "10822  pointer,structure,return,pointer,struct,c,mean...   \n",
       "4144   use,http,authentication,client,web,service,acc...   \n",
       "\n",
       "                                             Tags_tokens  \\\n",
       "199    database,postgresql,database-design,crud,audit...   \n",
       "39489                c++,c,string,char,string-comparison   \n",
       "42724  ruby-on-rails,ruby,ruby-on-rails-3,html-entiti...   \n",
       "10822                 c,pointers,variables,struct,return   \n",
       "4144               java,web-services,ssl,cxf,ws-security   \n",
       "\n",
       "                                          LogR  \n",
       "199                                (database,)  \n",
       "39489                                       ()  \n",
       "42724  (ruby-on-rails, ruby, entity-framework)  \n",
       "10822                       (c++, c, pointers)  \n",
       "4144        (security, web-services, wcf, ssl)  "
      ]
     },
     "execution_count": 59,
     "metadata": {},
     "output_type": "execute_result"
    }
   ],
   "source": [
    "transformer.join_predictions('LogR', preds).head()"
   ]
  },
  {
   "cell_type": "code",
   "execution_count": null,
   "metadata": {},
   "outputs": [
    {
     "name": "stdout",
     "output_type": "stream",
     "text": [
      "Ratio of tags hit: 0.206\n"
     ]
    }
   ],
   "source": [
    "report.tags_ratio('LogR', transformer.test_df, 'Tags_tokens')"
   ]
  },
  {
   "cell_type": "markdown",
   "metadata": {},
   "source": [
    "### SVM"
   ]
  },
  {
   "cell_type": "code",
   "execution_count": null,
   "metadata": {},
   "outputs": [
    {
     "name": "stdout",
     "output_type": "stream",
     "text": [
      "                     SVM\n",
      "Precision       0.668853\n",
      "Recall           0.34888\n",
      "F1              0.440923\n",
      "Inference_time  0.000091\n",
      "Model_size_mb          1\n"
     ]
    },
    {
     "name": "stderr",
     "output_type": "stream",
     "text": [
      "/opt/homebrew/Caskroom/miniforge/base/envs/P5/lib/python3.9/site-packages/sklearn/metrics/_classification.py:1318: UndefinedMetricWarning:\n",
      "\n",
      "Precision is ill-defined and being set to 0.0 in labels with no predicted samples. Use `zero_division` parameter to control this behavior.\n",
      "\n"
     ]
    }
   ],
   "source": [
    "svm_model = OneVsRestClassifier(LinearSVC())\n",
    "svm_model.fit(X_train, y_train)\n",
    "preds = svm_model.predict(X_test)\n",
    "report.evaluate('SVM', svm_model, X_test, y_test, preds)"
   ]
  },
  {
   "cell_type": "code",
   "execution_count": null,
   "metadata": {},
   "outputs": [
    {
     "data": {
      "text/html": [
       "<div>\n",
       "<style scoped>\n",
       "    .dataframe tbody tr th:only-of-type {\n",
       "        vertical-align: middle;\n",
       "    }\n",
       "\n",
       "    .dataframe tbody tr th {\n",
       "        vertical-align: top;\n",
       "    }\n",
       "\n",
       "    .dataframe thead th {\n",
       "        text-align: right;\n",
       "    }\n",
       "</style>\n",
       "<table border=\"1\" class=\"dataframe\">\n",
       "  <thead>\n",
       "    <tr style=\"text-align: right;\">\n",
       "      <th></th>\n",
       "      <th>Title_Body_tokens</th>\n",
       "      <th>Tags_tokens</th>\n",
       "      <th>SVM</th>\n",
       "    </tr>\n",
       "  </thead>\n",
       "  <tbody>\n",
       "    <tr>\n",
       "      <th>199</th>\n",
       "      <td>strategy,audit,trail/change,history,db,applica...</td>\n",
       "      <td>database,postgresql,database-design,crud,audit...</td>\n",
       "      <td>(database,)</td>\n",
       "    </tr>\n",
       "    <tr>\n",
       "      <th>39489</th>\n",
       "      <td>strcmp,string,:compare,compare,string,seem,wor...</td>\n",
       "      <td>c++,c,string,char,string-comparison</td>\n",
       "      <td>()</td>\n",
       "    </tr>\n",
       "    <tr>\n",
       "      <th>42724</th>\n",
       "      <td>decode,entity,rail,duplicate,encode/decode,ent...</td>\n",
       "      <td>ruby-on-rails,ruby,ruby-on-rails-3,html-entiti...</td>\n",
       "      <td>(ruby-on-rails, ruby, entity-framework)</td>\n",
       "    </tr>\n",
       "    <tr>\n",
       "      <th>10822</th>\n",
       "      <td>pointer,structure,return,pointer,struct,c,mean...</td>\n",
       "      <td>c,pointers,variables,struct,return</td>\n",
       "      <td>(c++, c, pointers)</td>\n",
       "    </tr>\n",
       "    <tr>\n",
       "      <th>4144</th>\n",
       "      <td>use,http,authentication,client,web,service,acc...</td>\n",
       "      <td>java,web-services,ssl,cxf,ws-security</td>\n",
       "      <td>(security, web-services, wcf, ssl)</td>\n",
       "    </tr>\n",
       "  </tbody>\n",
       "</table>\n",
       "</div>"
      ],
      "text/plain": [
       "                                       Title_Body_tokens  \\\n",
       "199    strategy,audit,trail/change,history,db,applica...   \n",
       "39489  strcmp,string,:compare,compare,string,seem,wor...   \n",
       "42724  decode,entity,rail,duplicate,encode/decode,ent...   \n",
       "10822  pointer,structure,return,pointer,struct,c,mean...   \n",
       "4144   use,http,authentication,client,web,service,acc...   \n",
       "\n",
       "                                             Tags_tokens  \\\n",
       "199    database,postgresql,database-design,crud,audit...   \n",
       "39489                c++,c,string,char,string-comparison   \n",
       "42724  ruby-on-rails,ruby,ruby-on-rails-3,html-entiti...   \n",
       "10822                 c,pointers,variables,struct,return   \n",
       "4144               java,web-services,ssl,cxf,ws-security   \n",
       "\n",
       "                                           SVM  \n",
       "199                                (database,)  \n",
       "39489                                       ()  \n",
       "42724  (ruby-on-rails, ruby, entity-framework)  \n",
       "10822                       (c++, c, pointers)  \n",
       "4144        (security, web-services, wcf, ssl)  "
      ]
     },
     "execution_count": 62,
     "metadata": {},
     "output_type": "execute_result"
    }
   ],
   "source": [
    "transformer.join_predictions('SVM', preds).head()"
   ]
  },
  {
   "cell_type": "code",
   "execution_count": null,
   "metadata": {},
   "outputs": [
    {
     "name": "stdout",
     "output_type": "stream",
     "text": [
      "Ratio of tags hit: 0.2422\n"
     ]
    }
   ],
   "source": [
    "report.tags_ratio('SVM', transformer.test_df, 'Tags_tokens')"
   ]
  },
  {
   "cell_type": "markdown",
   "metadata": {},
   "source": [
    "### SGD"
   ]
  },
  {
   "cell_type": "code",
   "execution_count": null,
   "metadata": {},
   "outputs": [
    {
     "name": "stdout",
     "output_type": "stream",
     "text": [
      "                     SGD\n",
      "Precision       0.657833\n",
      "Recall          0.355875\n",
      "F1              0.443053\n",
      "Inference_time  0.000093\n",
      "Model_size_mb          1\n"
     ]
    },
    {
     "name": "stderr",
     "output_type": "stream",
     "text": [
      "/opt/homebrew/Caskroom/miniforge/base/envs/P5/lib/python3.9/site-packages/sklearn/metrics/_classification.py:1318: UndefinedMetricWarning:\n",
      "\n",
      "Precision is ill-defined and being set to 0.0 in labels with no predicted samples. Use `zero_division` parameter to control this behavior.\n",
      "\n"
     ]
    }
   ],
   "source": [
    "sgd_model = OneVsRestClassifier(SGDClassifier(loss='modified_huber'), n_jobs=-1)\n",
    "sgd_model.fit(X_train, y_train)\n",
    "preds = sgd_model.predict(X_test)\n",
    "report.evaluate('SGD', sgd_model, X_test, y_test, preds)"
   ]
  },
  {
   "cell_type": "code",
   "execution_count": null,
   "metadata": {},
   "outputs": [
    {
     "data": {
      "text/html": [
       "<div>\n",
       "<style scoped>\n",
       "    .dataframe tbody tr th:only-of-type {\n",
       "        vertical-align: middle;\n",
       "    }\n",
       "\n",
       "    .dataframe tbody tr th {\n",
       "        vertical-align: top;\n",
       "    }\n",
       "\n",
       "    .dataframe thead th {\n",
       "        text-align: right;\n",
       "    }\n",
       "</style>\n",
       "<table border=\"1\" class=\"dataframe\">\n",
       "  <thead>\n",
       "    <tr style=\"text-align: right;\">\n",
       "      <th></th>\n",
       "      <th>Title_Body_tokens</th>\n",
       "      <th>Tags_tokens</th>\n",
       "      <th>SGD</th>\n",
       "    </tr>\n",
       "  </thead>\n",
       "  <tbody>\n",
       "    <tr>\n",
       "      <th>199</th>\n",
       "      <td>strategy,audit,trail/change,history,db,applica...</td>\n",
       "      <td>database,postgresql,database-design,crud,audit...</td>\n",
       "      <td>(database,)</td>\n",
       "    </tr>\n",
       "    <tr>\n",
       "      <th>39489</th>\n",
       "      <td>strcmp,string,:compare,compare,string,seem,wor...</td>\n",
       "      <td>c++,c,string,char,string-comparison</td>\n",
       "      <td>(c++,)</td>\n",
       "    </tr>\n",
       "    <tr>\n",
       "      <th>42724</th>\n",
       "      <td>decode,entity,rail,duplicate,encode/decode,ent...</td>\n",
       "      <td>ruby-on-rails,ruby,ruby-on-rails-3,html-entiti...</td>\n",
       "      <td>(ruby-on-rails, ruby, entity-framework)</td>\n",
       "    </tr>\n",
       "    <tr>\n",
       "      <th>10822</th>\n",
       "      <td>pointer,structure,return,pointer,struct,c,mean...</td>\n",
       "      <td>c,pointers,variables,struct,return</td>\n",
       "      <td>(c++, c, pointers)</td>\n",
       "    </tr>\n",
       "    <tr>\n",
       "      <th>4144</th>\n",
       "      <td>use,http,authentication,client,web,service,acc...</td>\n",
       "      <td>java,web-services,ssl,cxf,ws-security</td>\n",
       "      <td>(c#, security, web-services, wcf, ssl)</td>\n",
       "    </tr>\n",
       "  </tbody>\n",
       "</table>\n",
       "</div>"
      ],
      "text/plain": [
       "                                       Title_Body_tokens  \\\n",
       "199    strategy,audit,trail/change,history,db,applica...   \n",
       "39489  strcmp,string,:compare,compare,string,seem,wor...   \n",
       "42724  decode,entity,rail,duplicate,encode/decode,ent...   \n",
       "10822  pointer,structure,return,pointer,struct,c,mean...   \n",
       "4144   use,http,authentication,client,web,service,acc...   \n",
       "\n",
       "                                             Tags_tokens  \\\n",
       "199    database,postgresql,database-design,crud,audit...   \n",
       "39489                c++,c,string,char,string-comparison   \n",
       "42724  ruby-on-rails,ruby,ruby-on-rails-3,html-entiti...   \n",
       "10822                 c,pointers,variables,struct,return   \n",
       "4144               java,web-services,ssl,cxf,ws-security   \n",
       "\n",
       "                                           SGD  \n",
       "199                                (database,)  \n",
       "39489                                   (c++,)  \n",
       "42724  (ruby-on-rails, ruby, entity-framework)  \n",
       "10822                       (c++, c, pointers)  \n",
       "4144    (c#, security, web-services, wcf, ssl)  "
      ]
     },
     "execution_count": 65,
     "metadata": {},
     "output_type": "execute_result"
    }
   ],
   "source": [
    "transformer.join_predictions('SGD', preds).head()"
   ]
  },
  {
   "cell_type": "markdown",
   "metadata": {},
   "source": [
    "We notice that some *documents* have empty predictions.\\\n",
    "This behavior is unwanted, as we want to offer predictions for all the questions passed to the model. We will try to remediate to this issue in the next part."
   ]
  },
  {
   "cell_type": "code",
   "execution_count": null,
   "metadata": {},
   "outputs": [
    {
     "name": "stdout",
     "output_type": "stream",
     "text": [
      "Ratio of tags hit: 0.2471\n"
     ]
    }
   ],
   "source": [
    "report.tags_ratio('SGD', transformer.test_df, 'Tags_tokens')"
   ]
  },
  {
   "cell_type": "markdown",
   "metadata": {},
   "source": [
    "### KNN"
   ]
  },
  {
   "cell_type": "code",
   "execution_count": null,
   "metadata": {},
   "outputs": [
    {
     "name": "stdout",
     "output_type": "stream",
     "text": [
      "                     KNN\n",
      "Precision       0.605923\n",
      "Recall          0.110511\n",
      "F1              0.176966\n",
      "Inference_time  0.000424\n",
      "Model_size_mb         89\n"
     ]
    },
    {
     "name": "stderr",
     "output_type": "stream",
     "text": [
      "/opt/homebrew/Caskroom/miniforge/base/envs/P5/lib/python3.9/site-packages/sklearn/metrics/_classification.py:1318: UndefinedMetricWarning:\n",
      "\n",
      "Precision is ill-defined and being set to 0.0 in labels with no predicted samples. Use `zero_division` parameter to control this behavior.\n",
      "\n"
     ]
    }
   ],
   "source": [
    "knn_model = KNeighborsClassifier(n_neighbors=25, leaf_size=90, weights='distance')\n",
    "knn_model.fit(X_train.values, y_train.values)\n",
    "preds = knn_model.predict(X_test)\n",
    "report.evaluate('KNN', knn_model, X_test, y_test, preds)"
   ]
  },
  {
   "cell_type": "code",
   "execution_count": null,
   "metadata": {},
   "outputs": [
    {
     "data": {
      "text/html": [
       "<div>\n",
       "<style scoped>\n",
       "    .dataframe tbody tr th:only-of-type {\n",
       "        vertical-align: middle;\n",
       "    }\n",
       "\n",
       "    .dataframe tbody tr th {\n",
       "        vertical-align: top;\n",
       "    }\n",
       "\n",
       "    .dataframe thead th {\n",
       "        text-align: right;\n",
       "    }\n",
       "</style>\n",
       "<table border=\"1\" class=\"dataframe\">\n",
       "  <thead>\n",
       "    <tr style=\"text-align: right;\">\n",
       "      <th></th>\n",
       "      <th>Title_Body_tokens</th>\n",
       "      <th>Tags_tokens</th>\n",
       "      <th>KNN</th>\n",
       "    </tr>\n",
       "  </thead>\n",
       "  <tbody>\n",
       "    <tr>\n",
       "      <th>199</th>\n",
       "      <td>strategy,audit,trail/change,history,db,applica...</td>\n",
       "      <td>database,postgresql,database-design,crud,audit...</td>\n",
       "      <td>()</td>\n",
       "    </tr>\n",
       "    <tr>\n",
       "      <th>39489</th>\n",
       "      <td>strcmp,string,:compare,compare,string,seem,wor...</td>\n",
       "      <td>c++,c,string,char,string-comparison</td>\n",
       "      <td>()</td>\n",
       "    </tr>\n",
       "    <tr>\n",
       "      <th>42724</th>\n",
       "      <td>decode,entity,rail,duplicate,encode/decode,ent...</td>\n",
       "      <td>ruby-on-rails,ruby,ruby-on-rails-3,html-entiti...</td>\n",
       "      <td>()</td>\n",
       "    </tr>\n",
       "    <tr>\n",
       "      <th>10822</th>\n",
       "      <td>pointer,structure,return,pointer,struct,c,mean...</td>\n",
       "      <td>c,pointers,variables,struct,return</td>\n",
       "      <td>(c++, c, pointers)</td>\n",
       "    </tr>\n",
       "    <tr>\n",
       "      <th>4144</th>\n",
       "      <td>use,http,authentication,client,web,service,acc...</td>\n",
       "      <td>java,web-services,ssl,cxf,ws-security</td>\n",
       "      <td>(web-services, ssl)</td>\n",
       "    </tr>\n",
       "  </tbody>\n",
       "</table>\n",
       "</div>"
      ],
      "text/plain": [
       "                                       Title_Body_tokens  \\\n",
       "199    strategy,audit,trail/change,history,db,applica...   \n",
       "39489  strcmp,string,:compare,compare,string,seem,wor...   \n",
       "42724  decode,entity,rail,duplicate,encode/decode,ent...   \n",
       "10822  pointer,structure,return,pointer,struct,c,mean...   \n",
       "4144   use,http,authentication,client,web,service,acc...   \n",
       "\n",
       "                                             Tags_tokens                  KNN  \n",
       "199    database,postgresql,database-design,crud,audit...                   ()  \n",
       "39489                c++,c,string,char,string-comparison                   ()  \n",
       "42724  ruby-on-rails,ruby,ruby-on-rails-3,html-entiti...                   ()  \n",
       "10822                 c,pointers,variables,struct,return   (c++, c, pointers)  \n",
       "4144               java,web-services,ssl,cxf,ws-security  (web-services, ssl)  "
      ]
     },
     "execution_count": 68,
     "metadata": {},
     "output_type": "execute_result"
    }
   ],
   "source": [
    "transformer.join_predictions('KNN', preds).head()"
   ]
  },
  {
   "cell_type": "code",
   "execution_count": null,
   "metadata": {},
   "outputs": [
    {
     "name": "stdout",
     "output_type": "stream",
     "text": [
      "Ratio of tags hit: 0.0767\n"
     ]
    }
   ],
   "source": [
    "report.tags_ratio('KNN', transformer.test_df, 'Tags_tokens')"
   ]
  },
  {
   "cell_type": "markdown",
   "metadata": {},
   "source": [
    "We obtain interesting results, a few rows have actually been predicted by the model, this is because the model outputs low porbabilities for most of its predictions.\n",
    "\n",
    "In order to obtain 5 tags, we are going to use the *predict_proba* method to output predictions with lower probability, using the following function:"
   ]
  },
  {
   "cell_type": "code",
   "execution_count": null,
   "metadata": {},
   "outputs": [],
   "source": [
    "def get_firsts(preds_proba, n_first=5):\n",
    "\n",
    "    result = np.array([\n",
    "        np.where(pred >= np.partition(pred, -n_first)[-n_first], 1, 0)\n",
    "        for pred in np.array([pred[:,1] for pred in preds_proba\n",
    "        ]).transpose()])\n",
    "\n",
    "    return result"
   ]
  },
  {
   "cell_type": "markdown",
   "metadata": {},
   "source": [
    "As we generate more predictions for each row, it is normal to observe a consequent drop in *precision*:"
   ]
  },
  {
   "cell_type": "code",
   "execution_count": null,
   "metadata": {},
   "outputs": [
    {
     "name": "stdout",
     "output_type": "stream",
     "text": [
      "                   KNN_5\n",
      "Precision       0.392689\n",
      "Recall          0.475259\n",
      "F1              0.385997\n",
      "Inference_time  0.000434\n",
      "Model_size_mb         89\n"
     ]
    },
    {
     "name": "stderr",
     "output_type": "stream",
     "text": [
      "/opt/homebrew/Caskroom/miniforge/base/envs/P5/lib/python3.9/site-packages/sklearn/metrics/_classification.py:1318: UndefinedMetricWarning:\n",
      "\n",
      "Precision is ill-defined and being set to 0.0 in labels with no predicted samples. Use `zero_division` parameter to control this behavior.\n",
      "\n"
     ]
    }
   ],
   "source": [
    "preds_proba = knn_model.predict_proba(X_test.values)\n",
    "preds_firsts = get_firsts(preds_proba)\n",
    "report.evaluate('KNN_5', knn_model, X_test, y_test, preds_firsts)"
   ]
  },
  {
   "cell_type": "code",
   "execution_count": null,
   "metadata": {},
   "outputs": [
    {
     "data": {
      "text/html": [
       "<div>\n",
       "<style scoped>\n",
       "    .dataframe tbody tr th:only-of-type {\n",
       "        vertical-align: middle;\n",
       "    }\n",
       "\n",
       "    .dataframe tbody tr th {\n",
       "        vertical-align: top;\n",
       "    }\n",
       "\n",
       "    .dataframe thead th {\n",
       "        text-align: right;\n",
       "    }\n",
       "</style>\n",
       "<table border=\"1\" class=\"dataframe\">\n",
       "  <thead>\n",
       "    <tr style=\"text-align: right;\">\n",
       "      <th></th>\n",
       "      <th>Title_Body_tokens</th>\n",
       "      <th>Tags_tokens</th>\n",
       "      <th>KNN_5</th>\n",
       "    </tr>\n",
       "  </thead>\n",
       "  <tbody>\n",
       "    <tr>\n",
       "      <th>199</th>\n",
       "      <td>strategy,audit,trail/change,history,db,applica...</td>\n",
       "      <td>database,postgresql,database-design,crud,audit...</td>\n",
       "      <td>(c#, sql, sql-server, database, sql-server-2005)</td>\n",
       "    </tr>\n",
       "    <tr>\n",
       "      <th>39489</th>\n",
       "      <td>strcmp,string,:compare,compare,string,seem,wor...</td>\n",
       "      <td>c++,c,string,char,string-comparison</td>\n",
       "      <td>(c#, .net, c++, iphone, objective-c)</td>\n",
       "    </tr>\n",
       "    <tr>\n",
       "      <th>42724</th>\n",
       "      <td>decode,entity,rail,duplicate,encode/decode,ent...</td>\n",
       "      <td>ruby-on-rails,ruby,ruby-on-rails-3,html-entiti...</td>\n",
       "      <td>(c#, java, .net, jpa, entity-framework)</td>\n",
       "    </tr>\n",
       "    <tr>\n",
       "      <th>10822</th>\n",
       "      <td>pointer,structure,return,pointer,struct,c,mean...</td>\n",
       "      <td>c,pointers,variables,struct,return</td>\n",
       "      <td>(c#, c++, c, arrays, pointers)</td>\n",
       "    </tr>\n",
       "    <tr>\n",
       "      <th>4144</th>\n",
       "      <td>use,http,authentication,client,web,service,acc...</td>\n",
       "      <td>java,web-services,ssl,cxf,ws-security</td>\n",
       "      <td>(c#, security, web-services, wcf, ssl)</td>\n",
       "    </tr>\n",
       "  </tbody>\n",
       "</table>\n",
       "</div>"
      ],
      "text/plain": [
       "                                       Title_Body_tokens  \\\n",
       "199    strategy,audit,trail/change,history,db,applica...   \n",
       "39489  strcmp,string,:compare,compare,string,seem,wor...   \n",
       "42724  decode,entity,rail,duplicate,encode/decode,ent...   \n",
       "10822  pointer,structure,return,pointer,struct,c,mean...   \n",
       "4144   use,http,authentication,client,web,service,acc...   \n",
       "\n",
       "                                             Tags_tokens  \\\n",
       "199    database,postgresql,database-design,crud,audit...   \n",
       "39489                c++,c,string,char,string-comparison   \n",
       "42724  ruby-on-rails,ruby,ruby-on-rails-3,html-entiti...   \n",
       "10822                 c,pointers,variables,struct,return   \n",
       "4144               java,web-services,ssl,cxf,ws-security   \n",
       "\n",
       "                                                  KNN_5  \n",
       "199    (c#, sql, sql-server, database, sql-server-2005)  \n",
       "39489              (c#, .net, c++, iphone, objective-c)  \n",
       "42724           (c#, java, .net, jpa, entity-framework)  \n",
       "10822                    (c#, c++, c, arrays, pointers)  \n",
       "4144             (c#, security, web-services, wcf, ssl)  "
      ]
     },
     "execution_count": 72,
     "metadata": {},
     "output_type": "execute_result"
    }
   ],
   "source": [
    "transformer.join_predictions('KNN_5', preds_firsts).head()"
   ]
  },
  {
   "cell_type": "code",
   "execution_count": null,
   "metadata": {},
   "outputs": [
    {
     "name": "stdout",
     "output_type": "stream",
     "text": [
      "Ratio of tags hit: 0.33\n"
     ]
    }
   ],
   "source": [
    "report.tags_ratio('KNN_5', transformer.test_df, 'Tags_tokens')"
   ]
  },
  {
   "cell_type": "markdown",
   "metadata": {},
   "source": [
    "We encapsulte our *filter_preds* method in order to be able to sort the results of the *predict_proba* method and apply it to the matrix output, using the transformers *MultiLabelBinarizer* to inverse tranform the predictions:"
   ]
  },
  {
   "cell_type": "code",
   "execution_count": null,
   "metadata": {},
   "outputs": [],
   "source": [
    "def select_preds(name, transformer: DatasetTransformer, preds_proba):\n",
    "\n",
    "    preds_df = pd.DataFrame(np.array([pred[:,1] for pred in preds_proba]).transpose(),columns=transformer.multi_label_binarizer.classes_)\n",
    "    preds_lists = preds_df.apply(lambda x: x[x > 0].sort_values(ascending=False).keys().to_list(), axis=1)\n",
    "    preds_array = transformer.multi_label_binarizer.transform(preds_lists.values)\n",
    "    transformer.test_df[name] = preds_lists.values\n",
    "    transformer.test_df[name] = transformer.test_df.apply(lambda x: filter_preds(x['Title_Body_tokens'], x[name]), axis=1)\n",
    "\n",
    "    return preds_array, transformer.test_df"
   ]
  },
  {
   "cell_type": "code",
   "execution_count": null,
   "metadata": {},
   "outputs": [
    {
     "name": "stdout",
     "output_type": "stream",
     "text": [
      "               KNN_select\n",
      "Precision         0.10364\n",
      "Recall           0.831134\n",
      "F1               0.180341\n",
      "Inference_time   0.000447\n",
      "Model_size_mb          89\n"
     ]
    }
   ],
   "source": [
    "preds_select, preds_df = select_preds('KNN_select', transformer, preds_proba)\n",
    "report.evaluate('KNN_select', knn_model, X_test, y_test, preds_select)"
   ]
  },
  {
   "cell_type": "code",
   "execution_count": null,
   "metadata": {},
   "outputs": [
    {
     "data": {
      "text/html": [
       "<div>\n",
       "<style scoped>\n",
       "    .dataframe tbody tr th:only-of-type {\n",
       "        vertical-align: middle;\n",
       "    }\n",
       "\n",
       "    .dataframe tbody tr th {\n",
       "        vertical-align: top;\n",
       "    }\n",
       "\n",
       "    .dataframe thead th {\n",
       "        text-align: right;\n",
       "    }\n",
       "</style>\n",
       "<table border=\"1\" class=\"dataframe\">\n",
       "  <thead>\n",
       "    <tr style=\"text-align: right;\">\n",
       "      <th></th>\n",
       "      <th>Title_Body_tokens</th>\n",
       "      <th>Tags_tokens</th>\n",
       "      <th>KNN_select</th>\n",
       "    </tr>\n",
       "  </thead>\n",
       "  <tbody>\n",
       "    <tr>\n",
       "      <th>199</th>\n",
       "      <td>strategy,audit,trail/change,history,db,applica...</td>\n",
       "      <td>database,postgresql,database-design,crud,audit...</td>\n",
       "      <td>[sql, database, sql-server, sql-server-2005, c#]</td>\n",
       "    </tr>\n",
       "    <tr>\n",
       "      <th>39489</th>\n",
       "      <td>strcmp,string,:compare,compare,string,seem,wor...</td>\n",
       "      <td>c++,c,string,char,string-comparison</td>\n",
       "      <td>[c++, c, string, iphone, c#]</td>\n",
       "    </tr>\n",
       "    <tr>\n",
       "      <th>42724</th>\n",
       "      <td>decode,entity,rail,duplicate,encode/decode,ent...</td>\n",
       "      <td>ruby-on-rails,ruby,ruby-on-rails-3,html-entiti...</td>\n",
       "      <td>[ruby, string, c#, entity-framework, .net]</td>\n",
       "    </tr>\n",
       "    <tr>\n",
       "      <th>10822</th>\n",
       "      <td>pointer,structure,return,pointer,struct,c,mean...</td>\n",
       "      <td>c,pointers,variables,struct,return</td>\n",
       "      <td>[c, pointers, c++, c#, arrays]</td>\n",
       "    </tr>\n",
       "    <tr>\n",
       "      <th>4144</th>\n",
       "      <td>use,http,authentication,client,web,service,acc...</td>\n",
       "      <td>java,web-services,ssl,cxf,ws-security</td>\n",
       "      <td>[security, authentication, web-services, ssl, c#]</td>\n",
       "    </tr>\n",
       "  </tbody>\n",
       "</table>\n",
       "</div>"
      ],
      "text/plain": [
       "                                       Title_Body_tokens  \\\n",
       "199    strategy,audit,trail/change,history,db,applica...   \n",
       "39489  strcmp,string,:compare,compare,string,seem,wor...   \n",
       "42724  decode,entity,rail,duplicate,encode/decode,ent...   \n",
       "10822  pointer,structure,return,pointer,struct,c,mean...   \n",
       "4144   use,http,authentication,client,web,service,acc...   \n",
       "\n",
       "                                             Tags_tokens  \\\n",
       "199    database,postgresql,database-design,crud,audit...   \n",
       "39489                c++,c,string,char,string-comparison   \n",
       "42724  ruby-on-rails,ruby,ruby-on-rails-3,html-entiti...   \n",
       "10822                 c,pointers,variables,struct,return   \n",
       "4144               java,web-services,ssl,cxf,ws-security   \n",
       "\n",
       "                                              KNN_select  \n",
       "199     [sql, database, sql-server, sql-server-2005, c#]  \n",
       "39489                       [c++, c, string, iphone, c#]  \n",
       "42724         [ruby, string, c#, entity-framework, .net]  \n",
       "10822                     [c, pointers, c++, c#, arrays]  \n",
       "4144   [security, authentication, web-services, ssl, c#]  "
      ]
     },
     "execution_count": 76,
     "metadata": {},
     "output_type": "execute_result"
    }
   ],
   "source": [
    "preds_df[['Title_Body_tokens', 'Tags_tokens', 'KNN_select']].head()"
   ]
  },
  {
   "cell_type": "code",
   "execution_count": null,
   "metadata": {},
   "outputs": [
    {
     "name": "stdout",
     "output_type": "stream",
     "text": [
      "Ratio of tags hit: 0.3673\n"
     ]
    }
   ],
   "source": [
    "report.tags_ratio('KNN_select', transformer.test_df, 'Tags_tokens')"
   ]
  },
  {
   "cell_type": "markdown",
   "metadata": {},
   "source": [
    "As we can see, the strategy of priotizing the selection of the *predictions* that are present in the question content is effective, as we hit more actual *tags*."
   ]
  },
  {
   "cell_type": "markdown",
   "metadata": {},
   "source": [
    "### Random Forest"
   ]
  },
  {
   "cell_type": "code",
   "execution_count": null,
   "metadata": {},
   "outputs": [
    {
     "name": "stdout",
     "output_type": "stream",
     "text": [
      "               Random_Forest\n",
      "Precision           0.486495\n",
      "Recall              0.050051\n",
      "F1                  0.086361\n",
      "Inference_time       0.00103\n",
      "Model_size_mb           8088\n"
     ]
    },
    {
     "name": "stderr",
     "output_type": "stream",
     "text": [
      "/opt/homebrew/Caskroom/miniforge/base/envs/P5/lib/python3.9/site-packages/sklearn/metrics/_classification.py:1318: UndefinedMetricWarning:\n",
      "\n",
      "Precision is ill-defined and being set to 0.0 in labels with no predicted samples. Use `zero_division` parameter to control this behavior.\n",
      "\n"
     ]
    }
   ],
   "source": [
    "rfc_model = RandomForestClassifier()\n",
    "rfc_model.fit(X_train, y_train)\n",
    "preds = rfc_model.predict(X_test)\n",
    "preds_proba = rfc_model.predict_proba(X_test)\n",
    "report.evaluate('Random_Forest', rfc_model, X_test, y_test, preds)"
   ]
  },
  {
   "cell_type": "code",
   "execution_count": null,
   "metadata": {},
   "outputs": [
    {
     "data": {
      "text/html": [
       "<div>\n",
       "<style scoped>\n",
       "    .dataframe tbody tr th:only-of-type {\n",
       "        vertical-align: middle;\n",
       "    }\n",
       "\n",
       "    .dataframe tbody tr th {\n",
       "        vertical-align: top;\n",
       "    }\n",
       "\n",
       "    .dataframe thead th {\n",
       "        text-align: right;\n",
       "    }\n",
       "</style>\n",
       "<table border=\"1\" class=\"dataframe\">\n",
       "  <thead>\n",
       "    <tr style=\"text-align: right;\">\n",
       "      <th></th>\n",
       "      <th>Title_Body_tokens</th>\n",
       "      <th>Tags_tokens</th>\n",
       "      <th>Random_Forest</th>\n",
       "    </tr>\n",
       "  </thead>\n",
       "  <tbody>\n",
       "    <tr>\n",
       "      <th>199</th>\n",
       "      <td>strategy,audit,trail/change,history,db,applica...</td>\n",
       "      <td>database,postgresql,database-design,crud,audit...</td>\n",
       "      <td>()</td>\n",
       "    </tr>\n",
       "    <tr>\n",
       "      <th>39489</th>\n",
       "      <td>strcmp,string,:compare,compare,string,seem,wor...</td>\n",
       "      <td>c++,c,string,char,string-comparison</td>\n",
       "      <td>()</td>\n",
       "    </tr>\n",
       "    <tr>\n",
       "      <th>42724</th>\n",
       "      <td>decode,entity,rail,duplicate,encode/decode,ent...</td>\n",
       "      <td>ruby-on-rails,ruby,ruby-on-rails-3,html-entiti...</td>\n",
       "      <td>()</td>\n",
       "    </tr>\n",
       "    <tr>\n",
       "      <th>10822</th>\n",
       "      <td>pointer,structure,return,pointer,struct,c,mean...</td>\n",
       "      <td>c,pointers,variables,struct,return</td>\n",
       "      <td>(c++,)</td>\n",
       "    </tr>\n",
       "    <tr>\n",
       "      <th>4144</th>\n",
       "      <td>use,http,authentication,client,web,service,acc...</td>\n",
       "      <td>java,web-services,ssl,cxf,ws-security</td>\n",
       "      <td>()</td>\n",
       "    </tr>\n",
       "  </tbody>\n",
       "</table>\n",
       "</div>"
      ],
      "text/plain": [
       "                                       Title_Body_tokens  \\\n",
       "199    strategy,audit,trail/change,history,db,applica...   \n",
       "39489  strcmp,string,:compare,compare,string,seem,wor...   \n",
       "42724  decode,entity,rail,duplicate,encode/decode,ent...   \n",
       "10822  pointer,structure,return,pointer,struct,c,mean...   \n",
       "4144   use,http,authentication,client,web,service,acc...   \n",
       "\n",
       "                                             Tags_tokens Random_Forest  \n",
       "199    database,postgresql,database-design,crud,audit...            ()  \n",
       "39489                c++,c,string,char,string-comparison            ()  \n",
       "42724  ruby-on-rails,ruby,ruby-on-rails-3,html-entiti...            ()  \n",
       "10822                 c,pointers,variables,struct,return        (c++,)  \n",
       "4144               java,web-services,ssl,cxf,ws-security            ()  "
      ]
     },
     "execution_count": 79,
     "metadata": {},
     "output_type": "execute_result"
    }
   ],
   "source": [
    "transformer.join_predictions('Random_Forest', preds).head()"
   ]
  },
  {
   "cell_type": "code",
   "execution_count": null,
   "metadata": {},
   "outputs": [
    {
     "name": "stdout",
     "output_type": "stream",
     "text": [
      "Ratio of tags hit: 0.0347\n"
     ]
    }
   ],
   "source": [
    "report.tags_ratio('Random_Forest', transformer.test_df, 'Tags_tokens')"
   ]
  },
  {
   "cell_type": "code",
   "execution_count": null,
   "metadata": {},
   "outputs": [
    {
     "name": "stdout",
     "output_type": "stream",
     "text": [
      "               Random_Forest_5\n",
      "Precision             0.385465\n",
      "Recall                0.510636\n",
      "F1                    0.366233\n",
      "Inference_time        0.000958\n",
      "Model_size_mb             8088\n"
     ]
    },
    {
     "name": "stderr",
     "output_type": "stream",
     "text": [
      "/opt/homebrew/Caskroom/miniforge/base/envs/P5/lib/python3.9/site-packages/sklearn/metrics/_classification.py:1318: UndefinedMetricWarning:\n",
      "\n",
      "Precision is ill-defined and being set to 0.0 in labels with no predicted samples. Use `zero_division` parameter to control this behavior.\n",
      "\n"
     ]
    }
   ],
   "source": [
    "preds_firsts = get_firsts(preds_proba, 5)\n",
    "report.evaluate('Random_Forest_5', rfc_model, X_test, y_test, preds_firsts)"
   ]
  },
  {
   "cell_type": "code",
   "execution_count": null,
   "metadata": {},
   "outputs": [
    {
     "data": {
      "text/html": [
       "<div>\n",
       "<style scoped>\n",
       "    .dataframe tbody tr th:only-of-type {\n",
       "        vertical-align: middle;\n",
       "    }\n",
       "\n",
       "    .dataframe tbody tr th {\n",
       "        vertical-align: top;\n",
       "    }\n",
       "\n",
       "    .dataframe thead th {\n",
       "        text-align: right;\n",
       "    }\n",
       "</style>\n",
       "<table border=\"1\" class=\"dataframe\">\n",
       "  <thead>\n",
       "    <tr style=\"text-align: right;\">\n",
       "      <th></th>\n",
       "      <th>Title_Body_tokens</th>\n",
       "      <th>Tags_tokens</th>\n",
       "      <th>Random_Forest_5</th>\n",
       "    </tr>\n",
       "  </thead>\n",
       "  <tbody>\n",
       "    <tr>\n",
       "      <th>199</th>\n",
       "      <td>strategy,audit,trail/change,history,db,applica...</td>\n",
       "      <td>database,postgresql,database-design,crud,audit...</td>\n",
       "      <td>(c#, sql, sql-server, mysql, database)</td>\n",
       "    </tr>\n",
       "    <tr>\n",
       "      <th>39489</th>\n",
       "      <td>strcmp,string,:compare,compare,string,seem,wor...</td>\n",
       "      <td>c++,c,string,char,string-comparison</td>\n",
       "      <td>(c#, java, .net, c++, objective-c, string)</td>\n",
       "    </tr>\n",
       "    <tr>\n",
       "      <th>42724</th>\n",
       "      <td>decode,entity,rail,duplicate,encode/decode,ent...</td>\n",
       "      <td>ruby-on-rails,ruby,ruby-on-rails-3,html-entiti...</td>\n",
       "      <td>(c#, java, .net, ruby-on-rails, jpa)</td>\n",
       "    </tr>\n",
       "    <tr>\n",
       "      <th>10822</th>\n",
       "      <td>pointer,structure,return,pointer,struct,c,mean...</td>\n",
       "      <td>c,pointers,variables,struct,return</td>\n",
       "      <td>(c#, c++, c, memory-management, pointers)</td>\n",
       "    </tr>\n",
       "    <tr>\n",
       "      <th>4144</th>\n",
       "      <td>use,http,authentication,client,web,service,acc...</td>\n",
       "      <td>java,web-services,ssl,cxf,ws-security</td>\n",
       "      <td>(c#, java, .net, web-services, wcf)</td>\n",
       "    </tr>\n",
       "  </tbody>\n",
       "</table>\n",
       "</div>"
      ],
      "text/plain": [
       "                                       Title_Body_tokens  \\\n",
       "199    strategy,audit,trail/change,history,db,applica...   \n",
       "39489  strcmp,string,:compare,compare,string,seem,wor...   \n",
       "42724  decode,entity,rail,duplicate,encode/decode,ent...   \n",
       "10822  pointer,structure,return,pointer,struct,c,mean...   \n",
       "4144   use,http,authentication,client,web,service,acc...   \n",
       "\n",
       "                                             Tags_tokens  \\\n",
       "199    database,postgresql,database-design,crud,audit...   \n",
       "39489                c++,c,string,char,string-comparison   \n",
       "42724  ruby-on-rails,ruby,ruby-on-rails-3,html-entiti...   \n",
       "10822                 c,pointers,variables,struct,return   \n",
       "4144               java,web-services,ssl,cxf,ws-security   \n",
       "\n",
       "                                  Random_Forest_5  \n",
       "199        (c#, sql, sql-server, mysql, database)  \n",
       "39489  (c#, java, .net, c++, objective-c, string)  \n",
       "42724        (c#, java, .net, ruby-on-rails, jpa)  \n",
       "10822   (c#, c++, c, memory-management, pointers)  \n",
       "4144          (c#, java, .net, web-services, wcf)  "
      ]
     },
     "execution_count": 82,
     "metadata": {},
     "output_type": "execute_result"
    }
   ],
   "source": [
    "transformer.join_predictions('Random_Forest_5', preds_firsts).head()"
   ]
  },
  {
   "cell_type": "code",
   "execution_count": null,
   "metadata": {},
   "outputs": [
    {
     "name": "stdout",
     "output_type": "stream",
     "text": [
      "Ratio of tags hit: 0.3545\n"
     ]
    }
   ],
   "source": [
    "report.tags_ratio('Random_Forest_5', transformer.test_df, 'Tags_tokens')"
   ]
  },
  {
   "cell_type": "code",
   "execution_count": null,
   "metadata": {},
   "outputs": [
    {
     "name": "stdout",
     "output_type": "stream",
     "text": [
      "               Random_Forest_select\n",
      "Precision                  0.063932\n",
      "Recall                      0.95467\n",
      "F1                         0.113423\n",
      "Inference_time             0.001006\n",
      "Model_size_mb                  8088\n"
     ]
    }
   ],
   "source": [
    "preds_select, preds_df = select_preds('Random_Forest_select', transformer, preds_proba)\n",
    "report.evaluate('Random_Forest_select', rfc_model, X_test, y_test, preds_select)"
   ]
  },
  {
   "cell_type": "code",
   "execution_count": null,
   "metadata": {},
   "outputs": [
    {
     "data": {
      "text/html": [
       "<div>\n",
       "<style scoped>\n",
       "    .dataframe tbody tr th:only-of-type {\n",
       "        vertical-align: middle;\n",
       "    }\n",
       "\n",
       "    .dataframe tbody tr th {\n",
       "        vertical-align: top;\n",
       "    }\n",
       "\n",
       "    .dataframe thead th {\n",
       "        text-align: right;\n",
       "    }\n",
       "</style>\n",
       "<table border=\"1\" class=\"dataframe\">\n",
       "  <thead>\n",
       "    <tr style=\"text-align: right;\">\n",
       "      <th></th>\n",
       "      <th>Title_Body_tokens</th>\n",
       "      <th>Tags_tokens</th>\n",
       "      <th>Random_Forest_select</th>\n",
       "    </tr>\n",
       "  </thead>\n",
       "  <tbody>\n",
       "    <tr>\n",
       "      <th>199</th>\n",
       "      <td>strategy,audit,trail/change,history,db,applica...</td>\n",
       "      <td>database,postgresql,database-design,crud,audit...</td>\n",
       "      <td>[sql, postgresql, c, database, c#]</td>\n",
       "    </tr>\n",
       "    <tr>\n",
       "      <th>39489</th>\n",
       "      <td>strcmp,string,:compare,compare,string,seem,wor...</td>\n",
       "      <td>c++,c,string,char,string-comparison</td>\n",
       "      <td>[string, c, com, c#, .net]</td>\n",
       "    </tr>\n",
       "    <tr>\n",
       "      <th>42724</th>\n",
       "      <td>decode,entity,rail,duplicate,encode/decode,ent...</td>\n",
       "      <td>ruby-on-rails,ruby,ruby-on-rails-3,html-entiti...</td>\n",
       "      <td>[ruby, string, function, c, c#]</td>\n",
       "    </tr>\n",
       "    <tr>\n",
       "      <th>10822</th>\n",
       "      <td>pointer,structure,return,pointer,struct,c,mean...</td>\n",
       "      <td>c,pointers,variables,struct,return</td>\n",
       "      <td>[c, c++, pointers, c#, memory-management]</td>\n",
       "    </tr>\n",
       "    <tr>\n",
       "      <th>4144</th>\n",
       "      <td>use,http,authentication,client,web,service,acc...</td>\n",
       "      <td>java,web-services,ssl,cxf,ws-security</td>\n",
       "      <td>[security, authentication, http, c, web-services]</td>\n",
       "    </tr>\n",
       "  </tbody>\n",
       "</table>\n",
       "</div>"
      ],
      "text/plain": [
       "                                       Title_Body_tokens  \\\n",
       "199    strategy,audit,trail/change,history,db,applica...   \n",
       "39489  strcmp,string,:compare,compare,string,seem,wor...   \n",
       "42724  decode,entity,rail,duplicate,encode/decode,ent...   \n",
       "10822  pointer,structure,return,pointer,struct,c,mean...   \n",
       "4144   use,http,authentication,client,web,service,acc...   \n",
       "\n",
       "                                             Tags_tokens  \\\n",
       "199    database,postgresql,database-design,crud,audit...   \n",
       "39489                c++,c,string,char,string-comparison   \n",
       "42724  ruby-on-rails,ruby,ruby-on-rails-3,html-entiti...   \n",
       "10822                 c,pointers,variables,struct,return   \n",
       "4144               java,web-services,ssl,cxf,ws-security   \n",
       "\n",
       "                                    Random_Forest_select  \n",
       "199                   [sql, postgresql, c, database, c#]  \n",
       "39489                         [string, c, com, c#, .net]  \n",
       "42724                    [ruby, string, function, c, c#]  \n",
       "10822          [c, c++, pointers, c#, memory-management]  \n",
       "4144   [security, authentication, http, c, web-services]  "
      ]
     },
     "execution_count": 85,
     "metadata": {},
     "output_type": "execute_result"
    }
   ],
   "source": [
    "preds_df[['Title_Body_tokens', 'Tags_tokens', 'Random_Forest_select']].head()"
   ]
  },
  {
   "cell_type": "code",
   "execution_count": null,
   "metadata": {},
   "outputs": [
    {
     "name": "stdout",
     "output_type": "stream",
     "text": [
      "Ratio of tags hit: 0.3303\n"
     ]
    }
   ],
   "source": [
    "report.tags_ratio('Random_Forest_select', transformer.test_df, 'Tags_tokens')"
   ]
  },
  {
   "cell_type": "markdown",
   "metadata": {},
   "source": [
    "# Exploring the results"
   ]
  },
  {
   "cell_type": "code",
   "execution_count": null,
   "metadata": {},
   "outputs": [
    {
     "data": {
      "text/html": [
       "<div>\n",
       "<style scoped>\n",
       "    .dataframe tbody tr th:only-of-type {\n",
       "        vertical-align: middle;\n",
       "    }\n",
       "\n",
       "    .dataframe tbody tr th {\n",
       "        vertical-align: top;\n",
       "    }\n",
       "\n",
       "    .dataframe thead th {\n",
       "        text-align: right;\n",
       "    }\n",
       "</style>\n",
       "<table border=\"1\" class=\"dataframe\">\n",
       "  <thead>\n",
       "    <tr style=\"text-align: right;\">\n",
       "      <th></th>\n",
       "      <th>Precision</th>\n",
       "      <th>Recall</th>\n",
       "      <th>F1</th>\n",
       "      <th>Inference_time</th>\n",
       "      <th>Model_size_mb</th>\n",
       "      <th>Tags_hit</th>\n",
       "    </tr>\n",
       "  </thead>\n",
       "  <tbody>\n",
       "    <tr>\n",
       "      <th>LDA</th>\n",
       "      <td>NaN</td>\n",
       "      <td>NaN</td>\n",
       "      <td>NaN</td>\n",
       "      <td>NaN</td>\n",
       "      <td>NaN</td>\n",
       "      <td>0.06768</td>\n",
       "    </tr>\n",
       "    <tr>\n",
       "      <th>SVM</th>\n",
       "      <td>0.668853</td>\n",
       "      <td>0.34888</td>\n",
       "      <td>0.440923</td>\n",
       "      <td>0.000091</td>\n",
       "      <td>1</td>\n",
       "      <td>0.242211</td>\n",
       "    </tr>\n",
       "    <tr>\n",
       "      <th>LogR</th>\n",
       "      <td>NaN</td>\n",
       "      <td>NaN</td>\n",
       "      <td>NaN</td>\n",
       "      <td>NaN</td>\n",
       "      <td>NaN</td>\n",
       "      <td>0.206041</td>\n",
       "    </tr>\n",
       "    <tr>\n",
       "      <th>SGD</th>\n",
       "      <td>0.657833</td>\n",
       "      <td>0.355875</td>\n",
       "      <td>0.443053</td>\n",
       "      <td>0.000093</td>\n",
       "      <td>1</td>\n",
       "      <td>0.247068</td>\n",
       "    </tr>\n",
       "    <tr>\n",
       "      <th>KNN</th>\n",
       "      <td>0.605923</td>\n",
       "      <td>0.110511</td>\n",
       "      <td>0.176966</td>\n",
       "      <td>0.000424</td>\n",
       "      <td>89</td>\n",
       "      <td>0.076723</td>\n",
       "    </tr>\n",
       "    <tr>\n",
       "      <th>KNN_5</th>\n",
       "      <td>0.392689</td>\n",
       "      <td>0.475259</td>\n",
       "      <td>0.385997</td>\n",
       "      <td>0.000434</td>\n",
       "      <td>89</td>\n",
       "      <td>0.329951</td>\n",
       "    </tr>\n",
       "    <tr>\n",
       "      <th>KNN_select</th>\n",
       "      <td>0.10364</td>\n",
       "      <td>0.831134</td>\n",
       "      <td>0.180341</td>\n",
       "      <td>0.000447</td>\n",
       "      <td>89</td>\n",
       "      <td>0.367305</td>\n",
       "    </tr>\n",
       "    <tr>\n",
       "      <th>Random_Forest</th>\n",
       "      <td>0.486495</td>\n",
       "      <td>0.050051</td>\n",
       "      <td>0.086361</td>\n",
       "      <td>0.00103</td>\n",
       "      <td>8088</td>\n",
       "      <td>0.034748</td>\n",
       "    </tr>\n",
       "    <tr>\n",
       "      <th>Random_Forest_5</th>\n",
       "      <td>0.385465</td>\n",
       "      <td>0.510636</td>\n",
       "      <td>0.366233</td>\n",
       "      <td>0.000958</td>\n",
       "      <td>8088</td>\n",
       "      <td>0.354511</td>\n",
       "    </tr>\n",
       "    <tr>\n",
       "      <th>Random_Forest_select</th>\n",
       "      <td>0.063932</td>\n",
       "      <td>0.95467</td>\n",
       "      <td>0.113423</td>\n",
       "      <td>0.001006</td>\n",
       "      <td>8088</td>\n",
       "      <td>0.330346</td>\n",
       "    </tr>\n",
       "  </tbody>\n",
       "</table>\n",
       "</div>"
      ],
      "text/plain": [
       "                     Precision    Recall        F1 Inference_time  \\\n",
       "LDA                        NaN       NaN       NaN            NaN   \n",
       "SVM                   0.668853   0.34888  0.440923       0.000091   \n",
       "LogR                       NaN       NaN       NaN            NaN   \n",
       "SGD                   0.657833  0.355875  0.443053       0.000093   \n",
       "KNN                   0.605923  0.110511  0.176966       0.000424   \n",
       "KNN_5                 0.392689  0.475259  0.385997       0.000434   \n",
       "KNN_select             0.10364  0.831134  0.180341       0.000447   \n",
       "Random_Forest         0.486495  0.050051  0.086361        0.00103   \n",
       "Random_Forest_5       0.385465  0.510636  0.366233       0.000958   \n",
       "Random_Forest_select  0.063932   0.95467  0.113423       0.001006   \n",
       "\n",
       "                     Model_size_mb  Tags_hit  \n",
       "LDA                            NaN   0.06768  \n",
       "SVM                              1  0.242211  \n",
       "LogR                           NaN  0.206041  \n",
       "SGD                              1  0.247068  \n",
       "KNN                             89  0.076723  \n",
       "KNN_5                           89  0.329951  \n",
       "KNN_select                      89  0.367305  \n",
       "Random_Forest                 8088  0.034748  \n",
       "Random_Forest_5               8088  0.354511  \n",
       "Random_Forest_select          8088  0.330346  "
      ]
     },
     "execution_count": 87,
     "metadata": {},
     "output_type": "execute_result"
    }
   ],
   "source": [
    "report.get()"
   ]
  },
  {
   "cell_type": "markdown",
   "metadata": {},
   "source": [
    "The *KNN_select* model offers a good performance, a good *recall* score, while remaining of light size, for these reasons we are going to implement this model in our *API*.\n",
    "\n",
    "The following cell, when executed, pulls a random *sample* from the dataset to explore the behavior of the *KNN_select* (the *supervised tags*, compared to the *LDA unsupervised tags*):"
   ]
  },
  {
   "cell_type": "code",
   "execution_count": null,
   "metadata": {},
   "outputs": [
    {
     "name": "stdout",
     "output_type": "stream",
     "text": [
      "\n",
      "    Title: create,pki,java\n",
      "\n",
      "\n",
      "    Body: create,certificate,database,idea,exit,api,library,help,thanks\n",
      "\n",
      "\n",
      "    Tags: java,security,encryption,cryptography,pki\n",
      "\n",
      "\n",
      "    Unsupervised tags: ['file', 'class', '.net', 'string', 'object']\n",
      "\n",
      "\n",
      "    Supervised tags: ['java', 'database', 'iphone', 'c#', 'objective-c']\n"
     ]
    }
   ],
   "source": [
    "preds_df = transformer.test_df\n",
    "\n",
    "sample = preds_df.sample(1)\n",
    "print(f\"\"\"\n",
    "    Title: {sample['Title_tokens'].values[0]}\\n\\n\n",
    "    Body: {sample['Body_tokens'].values[0]}\\n\\n\n",
    "    Tags: {sample['Tags_tokens'].values[0]}\\n\\n\n",
    "    Unsupervised tags: {sample['LDA'].values[0]}\\n\\n\n",
    "    Supervised tags: {sample['KNN_select'].values[0]}\"\"\")"
   ]
  },
  {
   "cell_type": "markdown",
   "metadata": {},
   "source": [
    "We can observe that the *LDA* model mainly pulls generic terms from the *document*, which is not, in our case, a wanted behavior. The *KNN_select* predictions seem way more pertinent."
   ]
  },
  {
   "cell_type": "markdown",
   "metadata": {},
   "source": [
    "# Saving files"
   ]
  },
  {
   "cell_type": "markdown",
   "metadata": {},
   "source": [
    "*For further use*"
   ]
  },
  {
   "cell_type": "code",
   "execution_count": null,
   "metadata": {},
   "outputs": [
    {
     "data": {
      "text/plain": [
       "['./P5_03_api_code/model.joblib']"
      ]
     },
     "execution_count": 91,
     "metadata": {},
     "output_type": "execute_result"
    }
   ],
   "source": [
    "dump(transformer.multi_label_binarizer, './P5_03_api_code/multi_label_binarizer.joblib')\n",
    "dump(transformer.tfid_vectorizer, './P5_03_api_code/tfid_vectorizer.joblib')\n",
    "dump(transformer.truncated_svd, './P5_03_api_code/truncated_svd.joblib')\n",
    "dump(knn_model, './P5_03_api_code/model.joblib')"
   ]
  },
  {
   "cell_type": "markdown",
   "metadata": {},
   "source": [
    "# Conclusion"
   ]
  },
  {
   "cell_type": "code",
   "execution_count": null,
   "metadata": {},
   "outputs": [
    {
     "ename": "NameError",
     "evalue": "name 'stop' is not defined",
     "output_type": "error",
     "traceback": [
      "\u001b[0;31m---------------------------------------------------------------------------\u001b[0m\n",
      "\u001b[0;31mNameError\u001b[0m                                 Traceback (most recent call last)\n",
      "\u001b[1;32m/Users/grosjeanthibaud/Documents/P5/exploration.ipynb Cell 79'\u001b[0m in \u001b[0;36m<module>\u001b[0;34m\u001b[0m\n",
      "\u001b[0;32m----> <a href='vscode-notebook-cell:/Users/grosjeanthibaud/Documents/P5/exploration.ipynb#ch0000083?line=0'>1</a>\u001b[0m stop\n",
      "\n",
      "\u001b[0;31mNameError\u001b[0m: name 'stop' is not defined"
     ]
    }
   ],
   "source": [
    "stop"
   ]
  }
 ],
 "metadata": {
  "interpreter": {
   "hash": "73bc5c77dda7f65b49ca8fa5fe9724c28e04e6082e3fc65fbc471f9985772223"
  },
  "kernelspec": {
   "display_name": "Python 3.9.10 ('P5')",
   "language": "python",
   "name": "python3"
  },
  "language_info": {
   "codemirror_mode": {
    "name": "ipython",
    "version": 3
   },
   "file_extension": ".py",
   "mimetype": "text/x-python",
   "name": "python",
   "nbconvert_exporter": "python",
   "pygments_lexer": "ipython3",
   "version": "3.9.10"
  },
  "orig_nbformat": 4
 },
 "nbformat": 4,
 "nbformat_minor": 2
}

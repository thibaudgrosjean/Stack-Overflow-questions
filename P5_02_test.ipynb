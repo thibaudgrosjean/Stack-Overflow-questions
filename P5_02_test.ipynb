{
 "cells": [
  {
   "cell_type": "markdown",
   "metadata": {},
   "source": [
    "# Introduction"
   ]
  },
  {
   "cell_type": "markdown",
   "metadata": {},
   "source": [
    "In this project, we will implement a tags recommendation system for *StackOverflow* questions.\\\n",
    "*StackOverflow* is a reknown platform for questions and answers about programmation.\n",
    "* In the first notebook, we will extract the required data using the *StackExchange data explorer* tool, and explore the data.\n",
    "* In the second notebook, we will implement various *machine learning algorithms* and select the suitable inference model to deploy an *API endpoint*."
   ]
  },
  {
   "cell_type": "markdown",
   "metadata": {},
   "source": [
    "# Environment"
   ]
  },
  {
   "cell_type": "code",
   "execution_count": 1,
   "metadata": {},
   "outputs": [
    {
     "name": "stderr",
     "output_type": "stream",
     "text": [
      "/opt/homebrew/Caskroom/miniforge/base/envs/P5/lib/python3.9/site-packages/xgboost/compat.py:36: FutureWarning: pandas.Int64Index is deprecated and will be removed from pandas in a future version. Use pandas.Index with the appropriate dtype instead.\n",
      "  from pandas import MultiIndex, Int64Index\n"
     ]
    }
   ],
   "source": [
    "import pandas as pd\n",
    "import numpy as np\n",
    "from nltk.probability import FreqDist\n",
    "from IPython.display import Image\n",
    "import plotly.graph_objects as go\n",
    "from plotly.subplots import make_subplots\n",
    "from sklearn.feature_extraction.text import CountVectorizer, TfidfVectorizer\n",
    "from sklearn.metrics import recall_score,  hamming_loss, jaccard_score\n",
    "from sklearn.preprocessing import MultiLabelBinarizer\n",
    "from sklearn.model_selection import train_test_split\n",
    "from sklearn.multiclass import OneVsRestClassifier\n",
    "from sklearn.svm import LinearSVC\n",
    "from sklearn.neighbors import KNeighborsClassifier\n",
    "from sklearn.ensemble import RandomForestClassifier\n",
    "from sklearn.linear_model import SGDClassifier\n",
    "from sklearn.decomposition import PCA\n",
    "from DataGT.PCA import display_scree_plot\n",
    "from sklearn.linear_model import LogisticRegression\n",
    "from sklearn.decomposition import TruncatedSVD\n",
    "import gensim\n",
    "from gensim import corpora\n",
    "from gensim.models.ldamulticore import LdaMulticore\n",
    "from gensim.models import TfidfModel\n",
    "import pyLDAvis.gensim_models\n",
    "from gensim.models import CoherenceModel\n",
    "from imp import reload\n",
    "from xgboost import XGBClassifier\n",
    "from ttictoc import tic, toc\n",
    "from joblib import dump"
   ]
  },
  {
   "cell_type": "code",
   "execution_count": 2,
   "metadata": {},
   "outputs": [
    {
     "data": {
      "text/html": [
       "<div>\n",
       "<style scoped>\n",
       "    .dataframe tbody tr th:only-of-type {\n",
       "        vertical-align: middle;\n",
       "    }\n",
       "\n",
       "    .dataframe tbody tr th {\n",
       "        vertical-align: top;\n",
       "    }\n",
       "\n",
       "    .dataframe thead th {\n",
       "        text-align: right;\n",
       "    }\n",
       "</style>\n",
       "<table border=\"1\" class=\"dataframe\">\n",
       "  <thead>\n",
       "    <tr style=\"text-align: right;\">\n",
       "      <th></th>\n",
       "      <th>Title</th>\n",
       "      <th>Body</th>\n",
       "      <th>Tags</th>\n",
       "      <th>Body_tokens</th>\n",
       "      <th>Title_tokens</th>\n",
       "      <th>Tags_tokens</th>\n",
       "      <th>Title_Body_tokens</th>\n",
       "    </tr>\n",
       "    <tr>\n",
       "      <th>Id</th>\n",
       "      <th></th>\n",
       "      <th></th>\n",
       "      <th></th>\n",
       "      <th></th>\n",
       "      <th></th>\n",
       "      <th></th>\n",
       "      <th></th>\n",
       "    </tr>\n",
       "  </thead>\n",
       "  <tbody>\n",
       "    <tr>\n",
       "      <th>4</th>\n",
       "      <td>How to convert a Decimal to a Double in C#?</td>\n",
       "      <td>&lt;p&gt;I want to use a &lt;code&gt;Track-Bar&lt;/code&gt; to c...</td>\n",
       "      <td>&lt;c#&gt;&lt;floating-point&gt;&lt;type-conversion&gt;&lt;double&gt;&lt;...</td>\n",
       "      <td>use,change,opacity,code,application,error,work...</td>\n",
       "      <td>convert</td>\n",
       "      <td>c#,floating-point,type-conversion,double,decimal</td>\n",
       "      <td>convert,use,change,opacity,code,application,er...</td>\n",
       "    </tr>\n",
       "    <tr>\n",
       "      <th>11</th>\n",
       "      <td>Calculate relative time in C#</td>\n",
       "      <td>&lt;p&gt;Given a specific &lt;code&gt;DateTime&lt;/code&gt; valu...</td>\n",
       "      <td>&lt;c#&gt;&lt;datetime&gt;&lt;time&gt;&lt;datediff&gt;&lt;relative-time-s...</td>\n",
       "      <td>value,display,time,hour,day,month</td>\n",
       "      <td>calculate,time</td>\n",
       "      <td>c#,datetime,time,datediff,relative-time-span</td>\n",
       "      <td>calculate,time,value,display,time,hour,day,month</td>\n",
       "    </tr>\n",
       "    <tr>\n",
       "      <th>13</th>\n",
       "      <td>Determine a user's timezone</td>\n",
       "      <td>&lt;p&gt;Is there a standard way for a web server to...</td>\n",
       "      <td>&lt;html&gt;&lt;browser&gt;&lt;timezone&gt;&lt;user-agent&gt;&lt;timezone...</td>\n",
       "      <td>way,web,server,determine,user,timezone,page,he...</td>\n",
       "      <td>determine,user,timezone</td>\n",
       "      <td>html,browser,timezone,user-agent,timezone-offset</td>\n",
       "      <td>determine,user,timezone,way,web,server,determi...</td>\n",
       "    </tr>\n",
       "    <tr>\n",
       "      <th>19</th>\n",
       "      <td>What is the fastest way to get the value of π?</td>\n",
       "      <td>&lt;p&gt;I'm looking for the fastest way to obtain t...</td>\n",
       "      <td>&lt;performance&gt;&lt;algorithm&gt;&lt;language-agnostic&gt;&lt;un...</td>\n",
       "      <td>way,obtain,value,π,challenge,way,involve,const...</td>\n",
       "      <td>way,get,value,π</td>\n",
       "      <td>performance,algorithm,language-agnostic,unix,pi</td>\n",
       "      <td>way,get,value,π,way,obtain,value,π,challenge,w...</td>\n",
       "    </tr>\n",
       "    <tr>\n",
       "      <th>25</th>\n",
       "      <td>How to use the C socket API in C++ on z/OS</td>\n",
       "      <td>&lt;p&gt;I'm having issues getting the C sockets API...</td>\n",
       "      <td>&lt;c++&gt;&lt;c&gt;&lt;sockets&gt;&lt;mainframe&gt;&lt;zos&gt;</td>\n",
       "      <td>issue,socket,work,c++,z/os,get,time,error,some...</td>\n",
       "      <td>use,c,socket,api,c++,z/os</td>\n",
       "      <td>c++,c,sockets,mainframe,zos</td>\n",
       "      <td>use,c,socket,api,c++,z/os,issue,socket,work,c+...</td>\n",
       "    </tr>\n",
       "  </tbody>\n",
       "</table>\n",
       "</div>"
      ],
      "text/plain": [
       "                                             Title  \\\n",
       "Id                                                   \n",
       "4      How to convert a Decimal to a Double in C#?   \n",
       "11                   Calculate relative time in C#   \n",
       "13                     Determine a user's timezone   \n",
       "19  What is the fastest way to get the value of π?   \n",
       "25      How to use the C socket API in C++ on z/OS   \n",
       "\n",
       "                                                 Body  \\\n",
       "Id                                                      \n",
       "4   <p>I want to use a <code>Track-Bar</code> to c...   \n",
       "11  <p>Given a specific <code>DateTime</code> valu...   \n",
       "13  <p>Is there a standard way for a web server to...   \n",
       "19  <p>I'm looking for the fastest way to obtain t...   \n",
       "25  <p>I'm having issues getting the C sockets API...   \n",
       "\n",
       "                                                 Tags  \\\n",
       "Id                                                      \n",
       "4   <c#><floating-point><type-conversion><double><...   \n",
       "11  <c#><datetime><time><datediff><relative-time-s...   \n",
       "13  <html><browser><timezone><user-agent><timezone...   \n",
       "19  <performance><algorithm><language-agnostic><un...   \n",
       "25                  <c++><c><sockets><mainframe><zos>   \n",
       "\n",
       "                                          Body_tokens  \\\n",
       "Id                                                      \n",
       "4   use,change,opacity,code,application,error,work...   \n",
       "11                  value,display,time,hour,day,month   \n",
       "13  way,web,server,determine,user,timezone,page,he...   \n",
       "19  way,obtain,value,π,challenge,way,involve,const...   \n",
       "25  issue,socket,work,c++,z/os,get,time,error,some...   \n",
       "\n",
       "                 Title_tokens  \\\n",
       "Id                              \n",
       "4                     convert   \n",
       "11             calculate,time   \n",
       "13    determine,user,timezone   \n",
       "19            way,get,value,π   \n",
       "25  use,c,socket,api,c++,z/os   \n",
       "\n",
       "                                         Tags_tokens  \\\n",
       "Id                                                     \n",
       "4   c#,floating-point,type-conversion,double,decimal   \n",
       "11      c#,datetime,time,datediff,relative-time-span   \n",
       "13  html,browser,timezone,user-agent,timezone-offset   \n",
       "19   performance,algorithm,language-agnostic,unix,pi   \n",
       "25                       c++,c,sockets,mainframe,zos   \n",
       "\n",
       "                                    Title_Body_tokens  \n",
       "Id                                                     \n",
       "4   convert,use,change,opacity,code,application,er...  \n",
       "11   calculate,time,value,display,time,hour,day,month  \n",
       "13  determine,user,timezone,way,web,server,determi...  \n",
       "19  way,get,value,π,way,obtain,value,π,challenge,w...  \n",
       "25  use,c,socket,api,c++,z/os,issue,socket,work,c+...  "
      ]
     },
     "execution_count": 2,
     "metadata": {},
     "output_type": "execute_result"
    }
   ],
   "source": [
    "df = pd.read_csv('./data/df.csv', index_col=0)\n",
    "\n",
    "df.head()"
   ]
  },
  {
   "cell_type": "markdown",
   "metadata": {},
   "source": [
    "# Preprocessing"
   ]
  },
  {
   "cell_type": "markdown",
   "metadata": {},
   "source": [
    "In order to pass our data to the various models, we need to process it and transform it into numerical features.\n",
    "* First, we apply a split to generate a *traning* and a *test set*. The transformers will be fit on the training data to transform the test data, thus avoiding *data leakage*.\n",
    "* In order to limit dimensionality, we detect the terms with the highest frequencies on the train set and keep the corresponding terms in the test set. We apply this methodology for both the question *content* and *tags*.\n",
    "* We filter the *corpus* in order to keep the documents that have at least 3 *top tags* to improve the performance of the models.\n",
    "* We vectorize the *content* using a *TfidVectorizer*.\n",
    "* We vectorize the *tags* using a *MultiLabelBinarizer*.\n",
    "* In order to further reduce dimentionality, we apply a *TruncatedSVD* on the question *content* vectors.\n",
    "\n",
    "The following schema sums up the applied transformations:"
   ]
  },
  {
   "cell_type": "code",
   "execution_count": 3,
   "metadata": {},
   "outputs": [
    {
     "data": {
      "image/png": "[encoded data removed]",
      "text/plain": [
       "<IPython.core.display.Image object>"
      ]
     },
     "execution_count": 3,
     "metadata": {},
     "output_type": "execute_result"
    }
   ],
   "source": [
    "Image(filename='./assets/processing.png')"
   ]
  },
  {
   "cell_type": "code",
   "execution_count": 4,
   "metadata": {},
   "outputs": [],
   "source": [
    "def gen_frequencies(series):\n",
    "\n",
    "    dist = FreqDist(','.join(series).split(','))\n",
    "\n",
    "    return dist"
   ]
  },
  {
   "cell_type": "markdown",
   "metadata": {},
   "source": [
    "We create a function to extract the top terms from the frequencies dictionary:"
   ]
  },
  {
   "cell_type": "code",
   "execution_count": 5,
   "metadata": {},
   "outputs": [],
   "source": [
    "def extract_top(frequencies:dict, n_top:int):\n",
    "\n",
    "    top_values = pd.DataFrame(\n",
    "        {'Tag':frequencies.keys(), 'Frequency':frequencies.values()}\n",
    "        ).sort_values('Frequency', ascending=False).head(n_top)['Tag'].values\n",
    "    \n",
    "    return top_values"
   ]
  },
  {
   "cell_type": "markdown",
   "metadata": {},
   "source": [
    "We create a function to keep only the top terms for each value of a *series*:"
   ]
  },
  {
   "cell_type": "code",
   "execution_count": 6,
   "metadata": {},
   "outputs": [],
   "source": [
    "def keep_top(series:pd.Series, top_values:list):\n",
    "    \n",
    "    series = series.apply(lambda cell: list(set(cell.split(',')).intersection(top_values)))\n",
    "\n",
    "    return series"
   ]
  },
  {
   "cell_type": "markdown",
   "metadata": {},
   "source": [
    "We develop a *python class* to:\n",
    "* Fit the transformers,\n",
    "* Transform the dataset,\n",
    "* Transform the predictions of the models back into human readable format.\n",
    "\n",
    "We dispose of a limited processing power and choose to generate a *X set* with 600 features reduced to 350, and a *y set* 200 *tags*:"
   ]
  },
  {
   "cell_type": "code",
   "execution_count": 7,
   "metadata": {},
   "outputs": [
    {
     "name": "stdout",
     "output_type": "stream",
     "text": [
      "Dropped Train samples: 30000\n",
      "Dropped Test samples: 7505\n",
      "TruncatedSVD explained variance ratio: 0.96\n",
      "Train size: 10000\n",
      "Test size: 2495\n"
     ]
    }
   ],
   "source": [
    "class DatasetTransformer():\n",
    "\n",
    "    def __init__(self, df:pd.DataFrame, X:str, y:str):\n",
    "\n",
    "        self.dataset = df\n",
    "        self.X = X\n",
    "        self.y = y\n",
    "        self.X_values = df[X]\n",
    "        self.y_values = df[y]\n",
    "        self.test_df = None\n",
    "        self.multi_label_binarizer = None\n",
    "        self.tfid_vectorizer = None\n",
    "        self.truncated_svd = None\n",
    "    \n",
    "    def gen_train_test(self, top_tags, max_features, n_components=None, dimensional_red=True):\n",
    "        \n",
    "        # Apply a train test split on the data\n",
    "        X_train, X_test, y_train, y_test = train_test_split(\n",
    "            self.X_values,\n",
    "            self.y_values,\n",
    "            test_size=0.2,\n",
    "            random_state=42)\n",
    "        \n",
    "        # y processing\n",
    "\n",
    "        # Calculate the tags frequencies\n",
    "        y_frequencies = gen_frequencies(y_train)\n",
    "        # Extract the top tags\n",
    "        self.top_tags = extract_top(y_frequencies, top_tags)\n",
    "        # Keep only the top tags from the target\n",
    "        y_train = keep_top(y_train, self.top_tags)\n",
    "        y_test = keep_top(y_test, self.top_tags)\n",
    "\n",
    "        # Drop the empty rows with to few filtered tags\n",
    "        train_drop = y_train[y_train.map(len) <= 3].keys()\n",
    "        test_drop = y_test[y_test.map(len) <= 3].keys()\n",
    "        y_train.drop(train_drop,inplace=True)\n",
    "        y_test.drop(test_drop,inplace=True)\n",
    "\n",
    "        self.X_train_raw = X_train\n",
    "        self.X_test_raw = X_test\n",
    "        self.y_train_raw = y_train\n",
    "        self.y_test_raw = y_test\n",
    "\n",
    "        print(f'Dropped Train samples: {train_drop.shape[0]}')\n",
    "        print(f'Dropped Test samples: {test_drop.shape[0]}')\n",
    "\n",
    "        # Binarize the target\n",
    "        self.multi_label_binarizer = MultiLabelBinarizer(classes=self.top_tags)\n",
    "        y_train_matrix = self.multi_label_binarizer.fit_transform(y_train)\n",
    "        y_test_matrix = self.multi_label_binarizer.transform(y_test)\n",
    "        \n",
    "        # Convert the matrixes back to pandas DataFrames\n",
    "        tags = self.multi_label_binarizer.classes_\n",
    "        y_train_df = pd.DataFrame(\n",
    "            data=y_train_matrix,\n",
    "            index=y_train.index,\n",
    "            columns=tags)\n",
    "        y_test_df = pd.DataFrame(\n",
    "            data=y_test_matrix,\n",
    "            index=y_test.index,\n",
    "            columns=tags)\n",
    "\n",
    "        # Extract the y data to join predictions later\n",
    "        self.test_df = self.dataset.loc[y_test_df.index, :]\n",
    "        self.test_df['Tags_target'] = y_test.str.join(',')\n",
    "\n",
    "        # X processing\n",
    "\n",
    "        X_train.drop(train_drop, inplace=True)\n",
    "        X_test.drop(test_drop, inplace=True)\n",
    "        # Keep the terms with the top frequencies using the max_features arg\n",
    "        self.tfid_vectorizer = TfidfVectorizer(max_features=max_features)\n",
    "        # Fit and transform with the Tfid vectorizer on X train\n",
    "        self.X_train_matrix = self.tfid_vectorizer.fit_transform(X_train)\n",
    "        # Transform X test\n",
    "        self.X_test_matrix = self.tfid_vectorizer.transform(X_test)\n",
    "\n",
    "        # Convert matrixes to dataframe to be used with the Random Forest\n",
    "        features = self.tfid_vectorizer.get_feature_names_out()\n",
    "        X_train_df = pd.DataFrame(\n",
    "            data=self.X_train_matrix.toarray(),\n",
    "            index=X_train.index,\n",
    "            columns=features)\n",
    "        X_test_df = pd.DataFrame(\n",
    "            data=self.X_test_matrix.toarray(),\n",
    "            index=X_test.index,\n",
    "            columns=features)\n",
    "\n",
    "        if dimensional_red:\n",
    "            # Apply TruncatedSVD to reduce dimentionality\n",
    "            self.truncated_svd = TruncatedSVD(n_components=n_components)\n",
    "            self.X_train_matrix = self.truncated_svd.fit_transform(self.X_train_matrix)\n",
    "            # Transform X test\n",
    "            self.X_test_matrix = self.truncated_svd.transform(self.X_test_matrix)\n",
    "\n",
    "            explained_variance = round(sum(\n",
    "                self.truncated_svd.explained_variance_ratio_), 2)\n",
    "            print(f'TruncatedSVD explained variance ratio: {explained_variance}')\n",
    "\n",
    "            # Convert the matrixes back to pandas DataFrames\n",
    "            components = list(range(n_components))\n",
    "            features = self.tfid_vectorizer.get_feature_names_out()\n",
    "            X_train_df = pd.DataFrame(\n",
    "                data=self.X_train_matrix,\n",
    "                index=X_train.index,\n",
    "                columns=components)\n",
    "            X_test_df = pd.DataFrame(\n",
    "                data=self.X_test_matrix,\n",
    "                index=X_test.index,\n",
    "                columns=components)\n",
    "\n",
    "        print(f'Train size: {X_train.shape[0]}')\n",
    "        print(f'Test size: {X_test.shape[0]}')\n",
    "\n",
    "        return X_train_df, X_test_df, y_train_df, y_test_df\n",
    "\n",
    "    def join_predictions(self, name:str, predictions:np.array):\n",
    "\n",
    "        # Use the binarizer to inverse transform the prediction array\n",
    "        predictions = self.multi_label_binarizer.inverse_transform(predictions)\n",
    "        # Add the predictions to the dataset\n",
    "        self.test_df[name] = predictions\n",
    "\n",
    "        return self.test_df[[self.X, self.y, 'Tags_target', name]]\n",
    "    \n",
    "    def get_predictions(self):\n",
    "\n",
    "        return self.test_df\n",
    "\n",
    "\n",
    "transformer = DatasetTransformer(df, 'Title_Body_tokens', 'Tags_tokens')\n",
    "X_train, X_test, y_train, y_test = transformer.gen_train_test(250, 1250, 990)"
   ]
  },
  {
   "cell_type": "markdown",
   "metadata": {},
   "source": [
    "We plot the scree plot of the *TruncatedSVD*. The *TruncatedSVD* is considered fit once it reaches an explained variance ratio of 0.8, however we will fit voluntarily fit at more than 0.95 of explained variance, in order to loose a minimal amount of information (which in this case would be detrimental to our models)."
   ]
  },
  {
   "cell_type": "code",
   "execution_count": 8,
   "metadata": {},
   "outputs": [
    {
     "data": {
      "image/png": "[encoded data removed]",
      "text/plain": [
       "<Figure size 1008x864 with 1 Axes>"
      ]
     },
     "metadata": {
      "needs_background": "light"
     },
     "output_type": "display_data"
    }
   ],
   "source": [
    "display_scree_plot(transformer.truncated_svd)"
   ]
  },
  {
   "cell_type": "markdown",
   "metadata": {},
   "source": [
    "# Evaluation"
   ]
  },
  {
   "cell_type": "markdown",
   "metadata": {},
   "source": [
    "For each experiment, we will calculate the following metrics:\n",
    "* *sampled Jaccard*: \n",
    "* *weighted Recall*: our objective is to minimize the number of *false negatives*, which would result in a higher *recall* score. We are facing and imbalanced repartition of classes, therefore we will use the *weighted* version of the score.\n",
    "* *ratio of target tags hit*: in combination with the *recall score*, we will compute the number of tags that have been found amongst the filtered *tags*, the equivalent of the accuracy for each document, and calcalute its *mean* as the *ratio of tags hit*,\n",
    "* *ratio of tags hit*: we use use the same approach on the initial *tags*, which haven't been filtered in order to get an evaluation of how many actual *tags* are predicted,\n",
    "* *inference time*: the average time to infer a document of the *test set* in seconds,\n",
    "* *model size*: the size of the model in megabytes.\n",
    "\n",
    "We create a class to evaluate and keep track of our experiments results:"
   ]
  },
  {
   "cell_type": "code",
   "execution_count": 9,
   "metadata": {},
   "outputs": [],
   "source": [
    "def count_values(y_true, y_hat):\n",
    "\n",
    "    y_true = y_true.split(',')\n",
    "    y_hat = list(y_hat)[:5]\n",
    "    score_max = len(y_true)\n",
    "    score = 0\n",
    "\n",
    "    for pred in y_hat:\n",
    "\n",
    "        if pred in y_true:\n",
    "\n",
    "            score += 1\n",
    "\n",
    "    return score / score_max\n",
    "\n",
    "\n",
    "class PerformanceReport():\n",
    "\n",
    "    def __init__(self, true:str, target:str):\n",
    "        \n",
    "        # Initialize our report DataFrame\n",
    "        self.y_true = true\n",
    "        self.y_target = target\n",
    "        self.columns = [\n",
    "            'Jaccard',\n",
    "            'Recall',\n",
    "            'Inference_time',\n",
    "            'Model_size_mb',\n",
    "            'Targets_hit',\n",
    "            'Tags_hit',\n",
    "            'Fill']\n",
    "        self.report = pd.DataFrame(columns=self.columns)\n",
    "\n",
    "    def evaluate(self, name:str, model, X_test:np.array, y_true:np.array, y_pred:np.array):\n",
    "        \n",
    "        # Predict with the model\n",
    "        tic()\n",
    "        model.predict(X_test)\n",
    "        # Calculate time spent\n",
    "        inference_time = toc() / X_test.shape[0]\n",
    "        # Dump model to disk\n",
    "        dump(model, './data/model.joblib')\n",
    "        # Get model file size\n",
    "        model_size = round(os.path.getsize('./data/model.joblib') / 1000000)\n",
    "        # Calculate the scores\n",
    "        recall = recall_score(y_true, y_pred, average='weighted')\n",
    "        jaccard = jaccard_score(y_true, y_pred, average='samples')\n",
    "\n",
    "        # Append the scores to our report\n",
    "        self.report.loc[name,self.columns[:4]] = [\n",
    "            jaccard,\n",
    "            recall,\n",
    "            inference_time,\n",
    "            model_size]\n",
    "            \n",
    "        print(pd.DataFrame(self.report.loc[name,self.columns[:4]]))\n",
    "\n",
    "    def tags_ratio(self, name:str, df:pd.DataFrame):\n",
    "\n",
    "        tags_hit = df.apply(lambda x: count_values(x[self.y_true], x[name]), axis=1)\n",
    "        self.report.loc[name, 'Tags_hit'] = np.mean(tags_hit)\n",
    "        targets_hit = df.apply(lambda x: count_values(x[self.y_target], x[name]), axis=1)\n",
    "        self.report.loc[name, 'Targets_hit'] = np.mean(targets_hit)\n",
    "        filled_ratio = df[name].apply(len).sum() / df[self.y_target].str.split(',').apply(len).sum()\n",
    "        self.report.loc[name, 'Fill'] = np.mean(filled_ratio)\n",
    "        print(f\"Ratio of target tags hit: {round(self.report.loc[name,'Targets_hit'], 4)}\")\n",
    "        print(f\"Ratio of tags hit: {round(self.report.loc[name,'Tags_hit'], 4)}\")\n",
    "        print(f\"Average fill: {round(self.report.loc[name,'Fill'], 4)}\")\n",
    "\n",
    "    def clean_files(self):\n",
    "\n",
    "        os.remove('./data/model.joblib')\n",
    "\n",
    "    def get(self):\n",
    "\n",
    "        return self.report\n",
    "\n",
    "\n",
    "report = PerformanceReport(true='Tags_tokens', target='Tags_target')"
   ]
  },
  {
   "cell_type": "markdown",
   "metadata": {},
   "source": [
    "# Modelling"
   ]
  },
  {
   "cell_type": "markdown",
   "metadata": {},
   "source": [
    "## Unsupervised"
   ]
  },
  {
   "cell_type": "markdown",
   "metadata": {},
   "source": [
    "### LDA"
   ]
  },
  {
   "cell_type": "markdown",
   "metadata": {},
   "source": [
    "For the preprocessing of the data used by the *LDA model*, we are going to use the included *gensim* library methods.\\\n",
    "Moreover, we will not be able to calculate the standard metrics that we choosed to compare the *supervised machine learning algorithms* as we do not use the *y* data for predicting.\n",
    "\n",
    "We create a *dictionary* with the training data and convert it to a *bag of words corpus*:"
   ]
  },
  {
   "cell_type": "code",
   "execution_count": 10,
   "metadata": {},
   "outputs": [
    {
     "data": {
      "text/plain": [
       "['.net',\n",
       " 'thread',\n",
       " 'exception',\n",
       " 'interface',\n",
       " 'ipoller',\n",
       " 'implementation',\n",
       " 'process',\n",
       " 'take',\n",
       " 'ipoller',\n",
       " 'start']"
      ]
     },
     "execution_count": 10,
     "metadata": {},
     "output_type": "execute_result"
    }
   ],
   "source": [
    "texts_train = transformer.X_train_raw.str.split(',')\n",
    "texts_train.values[0][:10]  # First 10 terms of the first document"
   ]
  },
  {
   "cell_type": "code",
   "execution_count": 11,
   "metadata": {},
   "outputs": [
    {
     "data": {
      "text/plain": [
       "[(0, 1),\n",
       " (1, 1),\n",
       " (2, 1),\n",
       " (3, 1),\n",
       " (4, 1),\n",
       " (5, 3),\n",
       " (6, 1),\n",
       " (7, 2),\n",
       " (8, 1),\n",
       " (9, 1)]"
      ]
     },
     "execution_count": 11,
     "metadata": {},
     "output_type": "execute_result"
    }
   ],
   "source": [
    "dictionary = corpora.Dictionary(texts_train)\n",
    "# We keep the 990 most frequent terms (as with the supervised learning)\n",
    "dictionary.filter_extremes(keep_n=990)\n",
    "corpus_train = [dictionary.doc2bow(text) for text in texts_train]\n",
    "corpus_train[0][:10]  # First 10 terms of the first document"
   ]
  },
  {
   "cell_type": "markdown",
   "metadata": {},
   "source": [
    "We transform the test data using the training *dictionary*:"
   ]
  },
  {
   "cell_type": "code",
   "execution_count": 12,
   "metadata": {},
   "outputs": [
    {
     "data": {
      "text/plain": [
       "[(40, 1), (166, 1), (221, 1), (305, 1), (458, 1), (509, 1), (774, 2)]"
      ]
     },
     "execution_count": 12,
     "metadata": {},
     "output_type": "execute_result"
    }
   ],
   "source": [
    "texts_test = transformer.X_test_raw.str.split(',')\n",
    "corpus_test = [dictionary.doc2bow(text) for text in texts_test]\n",
    "corpus_test[0]  # First 10 terms of the first document"
   ]
  },
  {
   "cell_type": "markdown",
   "metadata": {},
   "source": [
    "We test various N topics in order to calculate the coherence and perplexity scores:"
   ]
  },
  {
   "cell_type": "code",
   "execution_count": 13,
   "metadata": {},
   "outputs": [
    {
     "data": {
      "application/vnd.plotly.v1+json": {
       "config": {
        "plotlyServerURL": "https://plot.ly"
       },
       "data": [
        {
         "name": "Coherence",
         "type": "scatter",
         "x": [
          1,
          2,
          3,
          4,
          5,
          6,
          7,
          8,
          9,
          10,
          11,
          12,
          13,
          14,
          15,
          16,
          17,
          18,
          19,
          20,
          21,
          22,
          23,
          24,
          25,
          26,
          27,
          28,
          29,
          30,
          31,
          32,
          33,
          34,
          35,
          36,
          37,
          38,
          39,
          40,
          41,
          42,
          43,
          44,
          45,
          46,
          47,
          48,
          49
         ],
         "xaxis": "x",
         "y": [
          0.3469753593590716,
          0.33406128003910585,
          0.360692737752804,
          0.396382870760625,
          0.40165505094346293,
          0.4167985356657306,
          0.4056001447237479,
          0.3913384657508776,
          0.4107186965858277,
          0.4079563689474818,
          0.4003846514921765,
          0.41676304667162434,
          0.41081306719287797,
          0.42029098852670055,
          0.41867210667696353,
          0.40606334508889474,
          0.4183751520879931,
          0.40641848331780306,
          0.41387978666993114,
          0.4001335383781025,
          0.40481502586769363,
          0.4101048242732388,
          0.41619758579989113,
          0.40904166750886367,
          0.4043959572764414,
          0.39472769586508866,
          0.3987692842075891,
          0.4162200929229075,
          0.40617430378817543,
          0.4067137187246732,
          0.41143439342091903,
          0.40294806611218537,
          0.4089363297968335,
          0.39037062067632333,
          0.41211503705767727,
          0.40177530649776055,
          0.4092659468278286,
          0.4081225715387768,
          0.4024498428442754,
          0.40114922037999934,
          0.3947996708792952,
          0.3920189246554108,
          0.3878488980231281,
          0.38994048994751673,
          0.39595082745868787,
          0.39978151338312967,
          0.388949815213004,
          0.39363931892789245,
          0.3921782866358005
         ],
         "yaxis": "y"
        },
        {
         "name": "Perplexity",
         "type": "scatter",
         "x": [
          1,
          2,
          3,
          4,
          5,
          6,
          7,
          8,
          9,
          10,
          11,
          12,
          13,
          14,
          15,
          16,
          17,
          18,
          19,
          20,
          21,
          22,
          23,
          24,
          25,
          26,
          27,
          28,
          29,
          30,
          31,
          32,
          33,
          34,
          35,
          36,
          37,
          38,
          39,
          40,
          41,
          42,
          43,
          44,
          45,
          46,
          47,
          48,
          49
         ],
         "xaxis": "x",
         "y": [
          -6.251114246049149,
          -6.2388602216933196,
          -6.199232084990412,
          -6.170172915094102,
          -6.169831350174988,
          -6.1550714208207475,
          -6.141697308167533,
          -6.137686067057671,
          -6.137139762416042,
          -6.137263848652723,
          -6.137252218529312,
          -6.135660670056679,
          -6.11575192223765,
          -6.11960227642873,
          -6.117635582760268,
          -6.114181025888417,
          -6.117953833070978,
          -6.116599525645679,
          -6.1175725501828975,
          -6.116885596947203,
          -6.121319881186885,
          -6.119403732799663,
          -6.122214129609292,
          -6.127566424492209,
          -6.140122979270054,
          -6.136257858744244,
          -6.134322899002454,
          -6.13093492199506,
          -6.1529114971010985,
          -6.146912269645917,
          -6.136683799717373,
          -6.146239974382001,
          -6.144751004900015,
          -6.163824578552362,
          -6.170038543034917,
          -6.164106927083244,
          -6.164252574274947,
          -6.18724660950502,
          -6.178726548350294,
          -6.17593879195683,
          -6.193737679802842,
          -6.197866834462497,
          -6.206010191638119,
          -6.199604044141518,
          -6.204662924991949,
          -6.201660532200391,
          -6.210855455603878,
          -6.2197598707364135,
          -6.226107183682232
         ],
         "yaxis": "y2"
        }
       ],
       "layout": {
        "height": 600,
        "template": {
         "data": {
          "bar": [
           {
            "error_x": {
             "color": "#2a3f5f"
            },
            "error_y": {
             "color": "#2a3f5f"
            },
            "marker": {
             "line": {
              "color": "#E5ECF6",
              "width": 0.5
             },
             "pattern": {
              "fillmode": "overlay",
              "size": 10,
              "solidity": 0.2
             }
            },
            "type": "bar"
           }
          ],
          "barpolar": [
           {
            "marker": {
             "line": {
              "color": "#E5ECF6",
              "width": 0.5
             },
             "pattern": {
              "fillmode": "overlay",
              "size": 10,
              "solidity": 0.2
             }
            },
            "type": "barpolar"
           }
          ],
          "carpet": [
           {
            "aaxis": {
             "endlinecolor": "#2a3f5f",
             "gridcolor": "white",
             "linecolor": "white",
             "minorgridcolor": "white",
             "startlinecolor": "#2a3f5f"
            },
            "baxis": {
             "endlinecolor": "#2a3f5f",
             "gridcolor": "white",
             "linecolor": "white",
             "minorgridcolor": "white",
             "startlinecolor": "#2a3f5f"
            },
            "type": "carpet"
           }
          ],
          "choropleth": [
           {
            "colorbar": {
             "outlinewidth": 0,
             "ticks": ""
            },
            "type": "choropleth"
           }
          ],
          "contour": [
           {
            "colorbar": {
             "outlinewidth": 0,
             "ticks": ""
            },
            "colorscale": [
             [
              0,
              "#0d0887"
             ],
             [
              0.1111111111111111,
              "#46039f"
             ],
             [
              0.2222222222222222,
              "#7201a8"
             ],
             [
              0.3333333333333333,
              "#9c179e"
             ],
             [
              0.4444444444444444,
              "#bd3786"
             ],
             [
              0.5555555555555556,
              "#d8576b"
             ],
             [
              0.6666666666666666,
              "#ed7953"
             ],
             [
              0.7777777777777778,
              "#fb9f3a"
             ],
             [
              0.8888888888888888,
              "#fdca26"
             ],
             [
              1,
              "#f0f921"
             ]
            ],
            "type": "contour"
           }
          ],
          "contourcarpet": [
           {
            "colorbar": {
             "outlinewidth": 0,
             "ticks": ""
            },
            "type": "contourcarpet"
           }
          ],
          "heatmap": [
           {
            "colorbar": {
             "outlinewidth": 0,
             "ticks": ""
            },
            "colorscale": [
             [
              0,
              "#0d0887"
             ],
             [
              0.1111111111111111,
              "#46039f"
             ],
             [
              0.2222222222222222,
              "#7201a8"
             ],
             [
              0.3333333333333333,
              "#9c179e"
             ],
             [
              0.4444444444444444,
              "#bd3786"
             ],
             [
              0.5555555555555556,
              "#d8576b"
             ],
             [
              0.6666666666666666,
              "#ed7953"
             ],
             [
              0.7777777777777778,
              "#fb9f3a"
             ],
             [
              0.8888888888888888,
              "#fdca26"
             ],
             [
              1,
              "#f0f921"
             ]
            ],
            "type": "heatmap"
           }
          ],
          "heatmapgl": [
           {
            "colorbar": {
             "outlinewidth": 0,
             "ticks": ""
            },
            "colorscale": [
             [
              0,
              "#0d0887"
             ],
             [
              0.1111111111111111,
              "#46039f"
             ],
             [
              0.2222222222222222,
              "#7201a8"
             ],
             [
              0.3333333333333333,
              "#9c179e"
             ],
             [
              0.4444444444444444,
              "#bd3786"
             ],
             [
              0.5555555555555556,
              "#d8576b"
             ],
             [
              0.6666666666666666,
              "#ed7953"
             ],
             [
              0.7777777777777778,
              "#fb9f3a"
             ],
             [
              0.8888888888888888,
              "#fdca26"
             ],
             [
              1,
              "#f0f921"
             ]
            ],
            "type": "heatmapgl"
           }
          ],
          "histogram": [
           {
            "marker": {
             "pattern": {
              "fillmode": "overlay",
              "size": 10,
              "solidity": 0.2
             }
            },
            "type": "histogram"
           }
          ],
          "histogram2d": [
           {
            "colorbar": {
             "outlinewidth": 0,
             "ticks": ""
            },
            "colorscale": [
             [
              0,
              "#0d0887"
             ],
             [
              0.1111111111111111,
              "#46039f"
             ],
             [
              0.2222222222222222,
              "#7201a8"
             ],
             [
              0.3333333333333333,
              "#9c179e"
             ],
             [
              0.4444444444444444,
              "#bd3786"
             ],
             [
              0.5555555555555556,
              "#d8576b"
             ],
             [
              0.6666666666666666,
              "#ed7953"
             ],
             [
              0.7777777777777778,
              "#fb9f3a"
             ],
             [
              0.8888888888888888,
              "#fdca26"
             ],
             [
              1,
              "#f0f921"
             ]
            ],
            "type": "histogram2d"
           }
          ],
          "histogram2dcontour": [
           {
            "colorbar": {
             "outlinewidth": 0,
             "ticks": ""
            },
            "colorscale": [
             [
              0,
              "#0d0887"
             ],
             [
              0.1111111111111111,
              "#46039f"
             ],
             [
              0.2222222222222222,
              "#7201a8"
             ],
             [
              0.3333333333333333,
              "#9c179e"
             ],
             [
              0.4444444444444444,
              "#bd3786"
             ],
             [
              0.5555555555555556,
              "#d8576b"
             ],
             [
              0.6666666666666666,
              "#ed7953"
             ],
             [
              0.7777777777777778,
              "#fb9f3a"
             ],
             [
              0.8888888888888888,
              "#fdca26"
             ],
             [
              1,
              "#f0f921"
             ]
            ],
            "type": "histogram2dcontour"
           }
          ],
          "mesh3d": [
           {
            "colorbar": {
             "outlinewidth": 0,
             "ticks": ""
            },
            "type": "mesh3d"
           }
          ],
          "parcoords": [
           {
            "line": {
             "colorbar": {
              "outlinewidth": 0,
              "ticks": ""
             }
            },
            "type": "parcoords"
           }
          ],
          "pie": [
           {
            "automargin": true,
            "type": "pie"
           }
          ],
          "scatter": [
           {
            "marker": {
             "colorbar": {
              "outlinewidth": 0,
              "ticks": ""
             }
            },
            "type": "scatter"
           }
          ],
          "scatter3d": [
           {
            "line": {
             "colorbar": {
              "outlinewidth": 0,
              "ticks": ""
             }
            },
            "marker": {
             "colorbar": {
              "outlinewidth": 0,
              "ticks": ""
             }
            },
            "type": "scatter3d"
           }
          ],
          "scattercarpet": [
           {
            "marker": {
             "colorbar": {
              "outlinewidth": 0,
              "ticks": ""
             }
            },
            "type": "scattercarpet"
           }
          ],
          "scattergeo": [
           {
            "marker": {
             "colorbar": {
              "outlinewidth": 0,
              "ticks": ""
             }
            },
            "type": "scattergeo"
           }
          ],
          "scattergl": [
           {
            "marker": {
             "colorbar": {
              "outlinewidth": 0,
              "ticks": ""
             }
            },
            "type": "scattergl"
           }
          ],
          "scattermapbox": [
           {
            "marker": {
             "colorbar": {
              "outlinewidth": 0,
              "ticks": ""
             }
            },
            "type": "scattermapbox"
           }
          ],
          "scatterpolar": [
           {
            "marker": {
             "colorbar": {
              "outlinewidth": 0,
              "ticks": ""
             }
            },
            "type": "scatterpolar"
           }
          ],
          "scatterpolargl": [
           {
            "marker": {
             "colorbar": {
              "outlinewidth": 0,
              "ticks": ""
             }
            },
            "type": "scatterpolargl"
           }
          ],
          "scatterternary": [
           {
            "marker": {
             "colorbar": {
              "outlinewidth": 0,
              "ticks": ""
             }
            },
            "type": "scatterternary"
           }
          ],
          "surface": [
           {
            "colorbar": {
             "outlinewidth": 0,
             "ticks": ""
            },
            "colorscale": [
             [
              0,
              "#0d0887"
             ],
             [
              0.1111111111111111,
              "#46039f"
             ],
             [
              0.2222222222222222,
              "#7201a8"
             ],
             [
              0.3333333333333333,
              "#9c179e"
             ],
             [
              0.4444444444444444,
              "#bd3786"
             ],
             [
              0.5555555555555556,
              "#d8576b"
             ],
             [
              0.6666666666666666,
              "#ed7953"
             ],
             [
              0.7777777777777778,
              "#fb9f3a"
             ],
             [
              0.8888888888888888,
              "#fdca26"
             ],
             [
              1,
              "#f0f921"
             ]
            ],
            "type": "surface"
           }
          ],
          "table": [
           {
            "cells": {
             "fill": {
              "color": "#EBF0F8"
             },
             "line": {
              "color": "white"
             }
            },
            "header": {
             "fill": {
              "color": "#C8D4E3"
             },
             "line": {
              "color": "white"
             }
            },
            "type": "table"
           }
          ]
         },
         "layout": {
          "annotationdefaults": {
           "arrowcolor": "#2a3f5f",
           "arrowhead": 0,
           "arrowwidth": 1
          },
          "autotypenumbers": "strict",
          "coloraxis": {
           "colorbar": {
            "outlinewidth": 0,
            "ticks": ""
           }
          },
          "colorscale": {
           "diverging": [
            [
             0,
             "#8e0152"
            ],
            [
             0.1,
             "#c51b7d"
            ],
            [
             0.2,
             "#de77ae"
            ],
            [
             0.3,
             "#f1b6da"
            ],
            [
             0.4,
             "#fde0ef"
            ],
            [
             0.5,
             "#f7f7f7"
            ],
            [
             0.6,
             "#e6f5d0"
            ],
            [
             0.7,
             "#b8e186"
            ],
            [
             0.8,
             "#7fbc41"
            ],
            [
             0.9,
             "#4d9221"
            ],
            [
             1,
             "#276419"
            ]
           ],
           "sequential": [
            [
             0,
             "#0d0887"
            ],
            [
             0.1111111111111111,
             "#46039f"
            ],
            [
             0.2222222222222222,
             "#7201a8"
            ],
            [
             0.3333333333333333,
             "#9c179e"
            ],
            [
             0.4444444444444444,
             "#bd3786"
            ],
            [
             0.5555555555555556,
             "#d8576b"
            ],
            [
             0.6666666666666666,
             "#ed7953"
            ],
            [
             0.7777777777777778,
             "#fb9f3a"
            ],
            [
             0.8888888888888888,
             "#fdca26"
            ],
            [
             1,
             "#f0f921"
            ]
           ],
           "sequentialminus": [
            [
             0,
             "#0d0887"
            ],
            [
             0.1111111111111111,
             "#46039f"
            ],
            [
             0.2222222222222222,
             "#7201a8"
            ],
            [
             0.3333333333333333,
             "#9c179e"
            ],
            [
             0.4444444444444444,
             "#bd3786"
            ],
            [
             0.5555555555555556,
             "#d8576b"
            ],
            [
             0.6666666666666666,
             "#ed7953"
            ],
            [
             0.7777777777777778,
             "#fb9f3a"
            ],
            [
             0.8888888888888888,
             "#fdca26"
            ],
            [
             1,
             "#f0f921"
            ]
           ]
          },
          "colorway": [
           "#636efa",
           "#EF553B",
           "#00cc96",
           "#ab63fa",
           "#FFA15A",
           "#19d3f3",
           "#FF6692",
           "#B6E880",
           "#FF97FF",
           "#FECB52"
          ],
          "font": {
           "color": "#2a3f5f"
          },
          "geo": {
           "bgcolor": "white",
           "lakecolor": "white",
           "landcolor": "#E5ECF6",
           "showlakes": true,
           "showland": true,
           "subunitcolor": "white"
          },
          "hoverlabel": {
           "align": "left"
          },
          "hovermode": "closest",
          "mapbox": {
           "style": "light"
          },
          "paper_bgcolor": "white",
          "plot_bgcolor": "#E5ECF6",
          "polar": {
           "angularaxis": {
            "gridcolor": "white",
            "linecolor": "white",
            "ticks": ""
           },
           "bgcolor": "#E5ECF6",
           "radialaxis": {
            "gridcolor": "white",
            "linecolor": "white",
            "ticks": ""
           }
          },
          "scene": {
           "xaxis": {
            "backgroundcolor": "#E5ECF6",
            "gridcolor": "white",
            "gridwidth": 2,
            "linecolor": "white",
            "showbackground": true,
            "ticks": "",
            "zerolinecolor": "white"
           },
           "yaxis": {
            "backgroundcolor": "#E5ECF6",
            "gridcolor": "white",
            "gridwidth": 2,
            "linecolor": "white",
            "showbackground": true,
            "ticks": "",
            "zerolinecolor": "white"
           },
           "zaxis": {
            "backgroundcolor": "#E5ECF6",
            "gridcolor": "white",
            "gridwidth": 2,
            "linecolor": "white",
            "showbackground": true,
            "ticks": "",
            "zerolinecolor": "white"
           }
          },
          "shapedefaults": {
           "line": {
            "color": "#2a3f5f"
           }
          },
          "ternary": {
           "aaxis": {
            "gridcolor": "white",
            "linecolor": "white",
            "ticks": ""
           },
           "baxis": {
            "gridcolor": "white",
            "linecolor": "white",
            "ticks": ""
           },
           "bgcolor": "#E5ECF6",
           "caxis": {
            "gridcolor": "white",
            "linecolor": "white",
            "ticks": ""
           }
          },
          "title": {
           "x": 0.05
          },
          "xaxis": {
           "automargin": true,
           "gridcolor": "white",
           "linecolor": "white",
           "ticks": "",
           "title": {
            "standoff": 15
           },
           "zerolinecolor": "white",
           "zerolinewidth": 2
          },
          "yaxis": {
           "automargin": true,
           "gridcolor": "white",
           "linecolor": "white",
           "ticks": "",
           "title": {
            "standoff": 15
           },
           "zerolinecolor": "white",
           "zerolinewidth": 2
          }
         }
        },
        "title": {
         "text": "Scores per n topics"
        },
        "xaxis": {
         "anchor": "y",
         "domain": [
          0,
          0.94
         ],
         "title": {
          "text": "n topics"
         }
        },
        "yaxis": {
         "anchor": "x",
         "domain": [
          0,
          1
         ],
         "title": {
          "text": "Coherence score"
         }
        },
        "yaxis2": {
         "anchor": "x",
         "overlaying": "y",
         "side": "right",
         "title": {
          "text": "Perplexity score"
         }
        }
       }
      }
     },
     "metadata": {},
     "output_type": "display_data"
    }
   ],
   "source": [
    "TOPICS_RANGE = list(range(1, 50, 1))\n",
    "coherence_scores = list()\n",
    "perplexity_scores = list()\n",
    "models = list()\n",
    "\n",
    "for n_topics in TOPICS_RANGE:\n",
    "\n",
    "    # Fit a LDA model for each n_topics\n",
    "    lda_model = LdaMulticore(\n",
    "        corpus=corpus_train,\n",
    "        id2word=dictionary,\n",
    "        num_topics=n_topics,\n",
    "        random_state=42,\n",
    "        passes=10,\n",
    "        workers=24)\n",
    "    models.append(lda_model)\n",
    "\n",
    "    perplexity_scores.append(lda_model.log_perplexity(corpus_train))\n",
    "\n",
    "    # Fit a coherence model for each n_topics to calculate the score\n",
    "    coherence_model = CoherenceModel(\n",
    "        model=lda_model, \n",
    "        texts=texts_train,\n",
    "        dictionary=dictionary,\n",
    "        coherence='c_v')\n",
    "    coherence_scores.append(coherence_model.get_coherence())\n",
    "\n",
    "# Plot the results\n",
    "fig = make_subplots(specs=[[{\"secondary_y\": True}]])\n",
    "fig.add_trace(\n",
    "    go.Scatter(x=TOPICS_RANGE, y=coherence_scores, name='Coherence'),\n",
    "    secondary_y=False)\n",
    "fig.add_trace(\n",
    "    go.Scatter(x=TOPICS_RANGE, y=perplexity_scores, name='Perplexity'),\n",
    "    secondary_y=True)\n",
    "fig.update_layout(title_text=f\"Scores per n topics\")\n",
    "fig.update_xaxes(title_text='n topics')\n",
    "fig.update_yaxes(title_text=\"Coherence score\", secondary_y=False)\n",
    "fig.update_yaxes(title_text=\"Perplexity score\", secondary_y=True)\n",
    "fig.update_layout(height=600)\n",
    "fig.show()"
   ]
  },
  {
   "cell_type": "markdown",
   "metadata": {},
   "source": [
    "The coherence score hits an optimum with 14 topics, we fit a model accordingly:"
   ]
  },
  {
   "cell_type": "code",
   "execution_count": 14,
   "metadata": {},
   "outputs": [],
   "source": [
    "lda_model = LdaMulticore(\n",
    "    corpus=corpus_train,\n",
    "    id2word=dictionary,\n",
    "    num_topics=14,\n",
    "    random_state=42,\n",
    "    passes=10,\n",
    "    workers=24)"
   ]
  },
  {
   "cell_type": "markdown",
   "metadata": {},
   "source": [
    "We can display the generated *topics* and their *term frequencies* using the pyLDAvis library:"
   ]
  },
  {
   "cell_type": "code",
   "execution_count": 15,
   "metadata": {},
   "outputs": [
    {
     "name": "stderr",
     "output_type": "stream",
     "text": [
      "/opt/homebrew/Caskroom/miniforge/base/envs/P5/lib/python3.9/site-packages/pyLDAvis/_prepare.py:246: FutureWarning:\n",
      "\n",
      "In a future version of pandas all arguments of DataFrame.drop except for the argument 'labels' will be keyword-only.\n",
      "\n",
      "/opt/homebrew/Caskroom/miniforge/base/envs/P5/lib/python3.9/site-packages/past/builtins/misc.py:45: DeprecationWarning: the imp module is deprecated in favour of importlib; see the module's documentation for alternative uses\n",
      "  from imp import reload\n",
      "/opt/homebrew/Caskroom/miniforge/base/envs/P5/lib/python3.9/site-packages/past/builtins/misc.py:45: DeprecationWarning: the imp module is deprecated in favour of importlib; see the module's documentation for alternative uses\n",
      "  from imp import reload\n",
      "/opt/homebrew/Caskroom/miniforge/base/envs/P5/lib/python3.9/site-packages/past/builtins/misc.py:45: DeprecationWarning: the imp module is deprecated in favour of importlib; see the module's documentation for alternative uses\n",
      "  from imp import reload\n",
      "/opt/homebrew/Caskroom/miniforge/base/envs/P5/lib/python3.9/site-packages/past/builtins/misc.py:45: DeprecationWarning: the imp module is deprecated in favour of importlib; see the module's documentation for alternative uses\n",
      "  from imp import reload\n",
      "/opt/homebrew/Caskroom/miniforge/base/envs/P5/lib/python3.9/site-packages/past/builtins/misc.py:45: DeprecationWarning: the imp module is deprecated in favour of importlib; see the module's documentation for alternative uses\n",
      "  from imp import reload\n",
      "/opt/homebrew/Caskroom/miniforge/base/envs/P5/lib/python3.9/site-packages/past/builtins/misc.py:45: DeprecationWarning: the imp module is deprecated in favour of importlib; see the module's documentation for alternative uses\n",
      "  from imp import reload\n",
      "/opt/homebrew/Caskroom/miniforge/base/envs/P5/lib/python3.9/site-packages/past/builtins/misc.py:45: DeprecationWarning: the imp module is deprecated in favour of importlib; see the module's documentation for alternative uses\n",
      "  from imp import reload\n",
      "/opt/homebrew/Caskroom/miniforge/base/envs/P5/lib/python3.9/site-packages/past/builtins/misc.py:45: DeprecationWarning: the imp module is deprecated in favour of importlib; see the module's documentation for alternative uses\n",
      "  from imp import reload\n"
     ]
    },
    {
     "data": {
      "text/html": [
       "\n",
       "<link rel=\"stylesheet\" type=\"text/css\" href=\"https://cdn.jsdelivr.net/gh/bmabey/pyLDAvis@3.3.1/pyLDAvis/js/ldavis.v1.0.0.css\">\n",
       "\n",
       "\n",
       "<div id=\"ldavis_el31092111972055201343862738\"></div>\n",
       "<script type=\"text/javascript\">\n",
       "\n",
       "var ldavis_el31092111972055201343862738_data = {\"mdsDat\": {\"x\": [0.04378222315119519, -0.06218757499938177, -0.09923240261020713, -0.125432460603588, 0.09408095624616171, -0.02741469391379436, 0.06153403613217227, 0.09351791286007471, 0.04651473559242133, -0.06811230827301155, 0.058867187045458465, 0.050306123366449323, -0.020007038132727837, -0.046216695861222734], \"y\": [-0.039884498997035944, 0.06616293662504909, 0.0468967923787602, 0.016662155010820166, 0.1273739613301096, -0.04530883222219052, -0.08487162704435032, -0.014111365784519105, -0.10520861733808344, -0.08200921622924931, 0.057134946183016615, 0.03305734100222566, 0.0502342724198384, -0.026128247334390793], \"topics\": [1, 2, 3, 4, 5, 6, 7, 8, 9, 10, 11, 12, 13, 14], \"cluster\": [1, 1, 1, 1, 1, 1, 1, 1, 1, 1, 1, 1, 1, 1], \"Freq\": [12.3425636468413, 10.115519323096633, 9.536248373723387, 8.687703611150331, 8.13413278125342, 6.974030116024974, 6.596345635843977, 6.413703662799251, 6.009483216443144, 5.7652829220494475, 5.687483007974324, 4.666128126116991, 4.6231926960123255, 4.4481828806704975]}, \"tinfo\": {\"Term\": [\"file\", \"image\", \"service\", \"test\", \"page\", \"exception\", \"database\", \"class\", \"array\", \"object\", \"property\", \"table\", \"form\", \"server\", \"list\", \"data\", \"memory\", \"error\", \"date\", \"thread\", \"javascript\", \"entity\", \"function\", \"web\", \"jquery\", \"user\", \"method\", \"sql\", \"connection\", \"unit\", \"x86\", \"linker\", \"xcode\", \"mac\", \"dll\", \"dlls\", \"eclipse\", \"x64\", \"vs2008\", \"gcc\", \"ide\", \"sdk\", \"xp\", \"vs2010\", \"compilation\", \"breakpoint\", \"debug\", \"assembly\", \"color\", \"target\", \"linux\", \"studio\", \"symbol\", \"c/c++\", \"debugger\", \"instruction\", \"designer\", \"vista\", \"window\", \"debugging\", \"platform\", \"compile\", \"build\", \"release\", \"project\", \"library\", \"compiler\", \"application\", \"program\", \"c++\", \"iphone\", \"source\", \"tool\", \"version\", \"code\", \"development\", \"app\", \"file\", \"c\", \"system\", \"error\", \"problem\", \"line\", \"use\", \"run\", \"way\", \"work\", \"get\", \"question\", \"know\", \"setter\", \"category\", \"property\", \"binding\", \"generic\", \"constructor\", \"reflection\", \"bind\", \"viewmodel\", \"helper\", \"deserialize\", \"object\", \"interface\", \"subclass\", \"delegate\", \"attribute\", \"expression\", \"define\", \"model\", \"hierarchy\", \"method\", \"serialize\", \"xaml\", \"datasource\", \"serialization\", \"bound\", \"mvvm\", \"type\", \"notification\", \"textbox\", \"class\", \"instance\", \"pattern\", \"implement\", \"custom\", \"collection\", \"parameter\", \"json\", \"data\", \"event\", \"example\", \"something\", \"create\", \"way\", \"use\", \"value\", \"code\", \"question\", \"get\", \"set\", \"case\", \"change\", \"problem\", \"call\", \"std\", \"leak\", \"array\", \"queue\", \"graph\", \"buffer\", \"struct\", \"pointer\", \"garbage\", \"vector\", \"float\", \"heap\", \"stl\", \"memory\", \"integer\", \"algorithm\", \"int\", \"n\", \"byte\", \"member\", \"guarantee\", \"certificate\", \"variable\", \"objective-c\", \"length\", \"calculation\", \"lookup\", \"cast\", \"complexity\", \"bonus\", \"boost\", \"socket\", \"loop\", \"value\", \"size\", \"c++\", \"java\", \"structure\", \"thread\", \"c\", \"type\", \"time\", \"implementation\", \"data\", \"use\", \"function\", \"object\", \"way\", \"code\", \"class\", \"point\", \"string\", \"example\", \"field\", \"question\", \"problem\", \"performance\", \"number\", \"index\", \"clause\", \"constraint\", \"<\", \"column\", \"list\", \"linq\", \"iterate\", \"table\", \"item\", \"group\", \"operator\", \"query\", \"person\", \"row\", \"identifier\", \">\", \"argument\", \"criterion\", \"join\", \"customer\", \"relationship\", \"sql\", \"count\", \"iteration\", \"convention\", \"sort\", \"ado.net\", \"select\", \"id\", \"function\", \"injection\", \"statement\", \"order\", \"name\", \"database\", \"number\", \"result\", \"key\", \"value\", \"way\", \"data\", \"field\", \"use\", \"example\", \"class\", \"server\", \"code\", \"get\", \"problem\", \"method\", \"question\", \"type\", \"animation\", \"pdf\", \"button\", \"height\", \"div\", \"mouse\", \"dom\", \"node\", \"width\", \"html5\", \"dialog\", \"ipad\", \"uiview\", \"html\", \"tab\", \"render\", \"frame\", \"javascript\", \"cursor\", \"left\", \"tag\", \"click\", \"corner\", \"center\", \"resize\", \"bottom\", \"j\", \"menu\", \"fire\", \"document\", \"text\", \"cs\", \"control\", \"event\", \"browser\", \"box\", \"chrome\", \"screen\", \"jquery\", \"view\", \"display\", \"element\", \"code\", \"way\", \"user\", \"change\", \"page\", \"work\", \"like\", \"get\", \"line\", \"file\", \"thanks\", \"application\", \"time\", \"problem\", \"use\", \"jar\", \"oracle\", \"upload\", \"batch\", \"insert\", \"encoding\", \"jsp\", \"excel\", \"record\", \"export\", \"transaction\", \"delete\", \"filename\", \"insertion\", \"storage\", \"join\", \"sqlite\", \"download\", \"file\", \"database\", \"postgresql\", \"mysql\", \"read\", \"jdbc\", \"package\", \"fetch\", \"servlet\", \"character\", \"driver\", \"dump\", \"data\", \"row\", \"table\", \"java\", \"performance\", \"db\", \"space\", \"sql\", \"query\", \"hibernate\", \"problem\", \"server\", \"way\", \"text\", \"use\", \"application\", \"line\", \"store\", \"time\", \"code\", \"thanks\", \"solution\", \"user\", \"like\", \"wsdl\", \"soap\", \"wcf\", \"service\", \"webservice\", \"endpoint\", \"deploy\", \"layer\", \"rest\", \"web\", \"consume\", \"web.config\", \"deployment\", \"repository\", \"controller\", \"contract\", \"ssl\", \"client\", \"credential\", \"delphi\", \"proxy\", \"namespace\", \"communicate\", \"command\", \"view\", \"config\", \"folder\", \"architecture\", \"expose\", \"apis\", \"json\", \"section\", \"tomcat\", \"app\", \"reference\", \"application\", \"response\", \"project\", \"pattern\", \"request\", \"server\", \"rail\", \"mvc\", \"http\", \"use\", \"configuration\", \"data\", \"work\", \"call\", \"model\", \"code\", \"file\", \"way\", \"get\", \"method\", \"class\", \"question\", \"worker\", \"password\", \"cookie\", \"secure\", \"cooky\", \"uitableview\", \"facebook\", \"username\", \"shell\", \"authentication\", \"security\", \"token\", \"registry\", \"cell\", \"exit\", \"email\", \"account\", \"monitor\", \"url\", \"encryption\", \"sign\", \"hash\", \"login\", \"measure\", \"website\", \"encrypt\", \"thread\", \"redirect\", \"directory\", \"domain\", \"script\", \"user\", \"process\", \"php\", \"site\", \"request\", \"send\", \"address\", \"state\", \"way\", \"http\", \"information\", \"use\", \"*\", \"file\", \"data\", \"get\", \"example\", \"app\", \"like\", \"know\", \"time\", \"key\", \"make\", \"timeout\", \"connection\", \"pool\", \"%\", \"trace\", \"[\", \"]\", \"video\", \"permission\", \"role\", \"session\", \"ii\", \"crash\", \"procedure\", \"traffic\", \"tomcat\", \"host\", \"close\", \"failure\", \"catch\", \"connect\", \"ip\", \"provider\", \"log\", \"driver\", \"server\", \"exception\", \"network\", \"filter\", \"management\", \"error\", \"request\", \"login\", \"sql\", \"message\", \"application\", \"asp.net\", \"site\", \"query\", \"http\", \"access\", \"thread\", \"problem\", \"user\", \"time\", \"code\", \"get\", \"issue\", \"database\", \"way\", \"use\", \"bean\", \"mock\", \"junit\", \"unit\", \"spring\", \"ruby\", \"hibernate\", \"test\", \"integration\", \"django\", \"testing\", \"rail\", \"persist\", \"job\", \"@\", \"context\", \"datasource\", \"datetime\", \"initialization\", \"annotation\", \"python\", \"persistence\", \"jpa\", \"schema\", \"parent\", \"timestamp\", \"verify\", \"activity\", \"child\", \"engine\", \"db\", \"orm\", \"database\", \"sql\", \"java\", \"time\", \"use\", \"class\", \"way\", \"get\", \"server\", \"run\", \"object\", \"create\", \"code\", \"application\", \"like\", \"question\", \"method\", \"work\", \"thanks\", \"data\", \"mvc\", \"callback\", \"form\", \"validation\", \"lambda\", \"ajax\", \"validate\", \"action\", \"submit\", \"asp.net\", \"jquery\", \"enter\", \"header\", \"input\", \"plugin\", \"firebug\", \"response\", \"controller\", \"backend\", \"keyword\", \"post\", \"template\", \"redirect\", \"field\", \"signature\", \"function\", \"and/or\", \"call\", \"occur\", \"helper\", \"page\", \"transaction\", \"return\", \"loop\", \"error\", \"collection\", \"search\", \"method\", \"element\", \"problem\", \"http\", \"value\", \"code\", \"work\", \"user\", \"get\", \"request\", \"way\", \"data\", \"use\", \"cache\", \"apache\", \"caching\", \"bash\", \"extension\", \"refresh\", \"page\", \"language\", \"scroll\", \"cs\", \"php\", \"inheritance\", \"perl\", \"\\u2019\", \"safari\", \"push\", \"load\", \"firebug\", \"ie\", \"month\", \"programming\", \"firefox\", \"hierarchy\", \"internet\", \"explorer\", \"base\", \"instantiate\", \"past\", \"bar\", \"notification\", \"class\", \"script\", \"chrome\", \"python\", \"work\", \"browser\", \"file\", \"jquery\", \"server\", \"code\", \"problem\", \"site\", \"time\", \"something\", \"way\", \"question\", \"solution\", \"javascript\", \"make\", \"user\", \"use\", \"example\", \"function\", \"type\", \"image\", \"pixel\", \"picture\", \"quote\", \"null\", \"character\", \"vb.net\", \"resource\", \"string\", \"scale\", \"status\", \"compare\", \"compiles\", \"disk\", \"resize\", \"unicode\", \"char\", \"translate\", \"path\", \"inline\", \"=\", \"corner\", \"procedure\", \"jvm\", \"declare\", \"obtain\", \"body\", \"border\", \"fail\", \"return\", \"error\", \"code\", \"line\", \"size\", \"parameter\", \"value\", \"reference\", \"json\", \"object\", \"result\", \"test\", \"output\", \"see\", \"column\", \"method\", \"example\", \"problem\", \"use\", \"way\", \"get\", \"work\", \"file\", \"function\", \"thanks\", \"something\", \"ef\", \"date\", \"winforms\", \"throw\", \"entity\", \"nhibernate\", \"com\", \"week\", \"exception\", \"profiler\", \"wpf\", \"jpa\", \"format\", \"day\", \"datetime\", \"con\", \"technology\", \"orm\", \"catch\", \"pro\", \"range\", \"lock\", \"namespace\", \"component\", \"annotation\", \"lead\", \"handling\", \"auto\", \"chance\", \"mapping\", \"parse\", \"business\", \".net\", \"year\", \"month\", \"xaml\", \"framework\", \"convert\", \"library\", \"time\", \"use\", \"thanks\", \"question\", \"project\", \"application\", \"like\", \"get\", \"code\", \"way\", \"something\", \"control\", \"know\", \"event\", \"edit\", \"string\"], \"Freq\": [4187.0, 1205.0, 1417.0, 1790.0, 1513.0, 1252.0, 2158.0, 3038.0, 1299.0, 2682.0, 1602.0, 1573.0, 1148.0, 2122.0, 1431.0, 3353.0, 1223.0, 2124.0, 563.0, 1046.0, 1077.0, 698.0, 1976.0, 1045.0, 1000.0, 1977.0, 2924.0, 1324.0, 549.0, 603.0, 60.88785544322601, 70.28434963059894, 172.24233833133928, 221.8283195293105, 362.7852319723114, 50.512039217908445, 300.51692017998, 73.5741325261326, 66.560303643905, 169.448568400506, 71.1155108938381, 86.96561814722554, 39.38496907083689, 71.73747658359126, 55.04094710437472, 80.35684290996741, 254.14772541680307, 261.34362228954984, 204.2407933223229, 181.88849770295718, 236.7249741582065, 526.5671135023214, 104.8498279667935, 85.29215312670914, 118.65678107476559, 58.9599097983117, 53.43605232235184, 31.377896821801475, 1021.3954799250652, 35.66338737658963, 188.79045359163177, 156.2652509986559, 332.5306180303951, 142.7681153447339, 896.2479833610015, 466.90236175478236, 241.43548840465095, 1102.3661285261055, 364.3024938899722, 398.058584536777, 272.27029047236203, 309.4930454503181, 223.08933123883295, 308.1576840689607, 925.0650254888405, 180.8190898226778, 386.14011671404495, 731.8079434016679, 305.3236346105324, 272.2403478482532, 455.9372424633805, 441.3370089512671, 292.64447206890435, 431.60113032627345, 250.84409813082974, 342.54662492954856, 300.31204673557863, 299.8603910349186, 254.1241913107925, 244.73668986738937, 54.50230144466258, 68.35645092520726, 1246.2998072830546, 206.00177969412718, 79.01378971555451, 279.56626655863755, 112.2732528555211, 131.67803981227925, 118.50970912838756, 44.15138120189452, 47.598976543517594, 1525.0805895480298, 397.91187442469925, 58.56155807338481, 166.29020892304578, 217.15522046530893, 164.1544073664387, 67.89960683869165, 301.25451727654126, 26.45267133865119, 1287.617865688702, 57.01679850734262, 86.26229402932334, 26.14170163495622, 56.495121773926044, 36.352928832855504, 55.36301890824857, 741.7261924376231, 35.49193689041657, 54.496941688682725, 982.5462229326489, 257.09897067259453, 147.05513149923044, 195.07434629413203, 166.92596129325162, 151.99494967077206, 215.03057610315682, 222.51088151741365, 589.8799212849802, 269.56921261327176, 379.0918535366251, 370.4913183216676, 281.70367047827807, 573.606619051418, 503.2145736059716, 326.53725403247927, 484.02897655916064, 301.40226108290085, 303.76464864178996, 203.97318809381198, 205.21346159176667, 206.00655710983793, 247.56839724698705, 210.79958102348417, 105.83819661310646, 228.91058089633972, 1106.750195150088, 126.90491647864982, 128.64476724729448, 104.08564559124265, 118.11985200381913, 384.6778019099062, 69.88958438086081, 187.15186857053286, 86.35067211039822, 45.34312451360482, 50.31707798002898, 892.8012258861141, 170.17259512388503, 239.87278767796852, 113.23703124648016, 30.642119839365716, 241.9063387958374, 145.70464813810742, 27.704950250750187, 90.6083970344588, 294.12522025041545, 32.617372878581094, 86.30561278688998, 39.11687782440563, 34.003585236209325, 42.39729168783333, 34.1459665441876, 22.038904667580628, 79.73336462308146, 94.72588067118267, 150.25356273358074, 594.7549283378551, 188.46136538428036, 294.43397067944557, 372.8435437103765, 171.26162785036365, 288.5045469512891, 251.65778344155345, 364.9543925829531, 411.5461107411651, 187.32672084530435, 443.8342106725048, 421.5456019624189, 302.2910075101827, 344.3177119633891, 399.55600868550357, 411.0385202242898, 322.8484654048202, 201.9328232969753, 240.94419670504612, 252.44978689780987, 194.41150395276455, 237.17871149619998, 230.73848022667437, 191.88079666703084, 188.31395572714757, 406.38349036071594, 69.29314325061887, 91.47545061888233, 224.13105544295132, 605.6444351909151, 1005.33633940056, 274.102654627345, 39.44454236456815, 953.0134722499707, 412.187945027159, 107.93479785402562, 70.50770551130267, 602.9872202705983, 61.88223133915226, 323.8021763704893, 37.79053973959602, 297.8722736638487, 142.8209695236949, 26.131740410369957, 75.18690359086277, 67.00604004441821, 70.90462103291541, 519.1801306369463, 58.505257414106744, 19.747869232573965, 20.754603230935906, 176.4940698028858, 28.84443290467696, 85.024971310477, 152.55812316987462, 646.9702359469392, 37.27269807909905, 155.04843708206644, 184.73091106567583, 248.95440115267868, 387.1918367683281, 215.07403168749298, 230.8481520397596, 147.97690839325975, 327.0001057035999, 466.85884355392517, 361.00275201059105, 169.0474534613714, 353.70538834186385, 247.29250137548595, 269.2331922018681, 225.9944648050034, 255.9173256811366, 212.91527711500268, 205.77507919938384, 205.32651840475765, 185.07549322033412, 182.48106050089012, 175.41594103817178, 168.17633203408263, 530.2905236332297, 92.22462978143453, 149.54103755056767, 92.28438987474414, 133.0243570837879, 185.3882887950936, 100.77210077571715, 65.90491386841441, 117.88983010271745, 94.39007714739851, 63.60440081741189, 538.3521828887287, 126.92642952692763, 91.73755340502048, 68.98580378174103, 725.5629338147071, 56.3960259766856, 41.60323152360751, 232.74997022032514, 153.38270840821855, 50.144331607563245, 40.19599705244, 30.64742220714872, 60.61250679469079, 104.56694424941112, 73.60483307416415, 48.87156331161419, 186.1716482933385, 442.1102049939068, 163.89899351274897, 379.90671247687436, 464.4580699218758, 267.47248138965244, 144.1924913035423, 110.81375306089518, 121.34297087477827, 287.86342695942585, 336.5833053386507, 161.85103217570622, 219.77715037977396, 543.8834215511763, 440.59497822395406, 294.7902528997701, 213.25166792893557, 206.76565171660152, 229.61331098055098, 207.5201154380455, 222.28728904856374, 174.77825347829986, 196.69127395010022, 173.72976150778115, 181.3270959336701, 172.6380332469542, 173.9255059379929, 169.94590606481947, 82.96011404013184, 174.41712356967304, 73.70350627524519, 64.8629729479524, 213.16327305279017, 76.49819447666893, 89.86669807101148, 49.249824684803244, 256.5173170240737, 33.828068514859154, 241.24938186342072, 87.39262224874801, 33.39044415049273, 33.020159791074924, 65.39397521383778, 87.82280246491995, 47.626442898396135, 72.59990555160515, 1952.476249477832, 972.5343298485756, 33.98233704250622, 191.54080227610916, 198.58876119149036, 56.252095811918295, 49.660467528180305, 38.30808015764255, 61.63337362202289, 206.23034937010593, 28.13357900057707, 19.262375322418396, 982.2445882494656, 191.21529532475918, 346.93022275608024, 275.40934277725665, 196.15516148658256, 108.31914316530083, 77.74242848296359, 217.5046204936849, 202.90015814676028, 118.69365178323446, 289.0217771197874, 237.52981386897056, 293.9312836363462, 143.2916030626287, 230.90905853338265, 216.31445693377438, 135.3050523917962, 111.99923748351254, 140.2992447247785, 157.33807395093535, 125.33667563221215, 116.81701040885443, 119.95123462277378, 116.16919818033499, 85.26660286708864, 156.48193516191856, 260.7994681326855, 1221.6580056100909, 85.08872741550454, 47.969066716952234, 48.32944712262699, 191.17889060726054, 137.41076489263168, 613.2750442339001, 29.56652335252257, 43.051761052483116, 43.15286029269677, 77.61304837055624, 279.81792883111405, 37.29662669718841, 53.74803551200638, 448.14458886276316, 34.81150297914835, 40.710785626700414, 41.00926518172328, 48.05508258327306, 16.841816889702557, 252.30124953567048, 488.7644340321797, 40.30712880574496, 110.85750587011941, 54.445639135791765, 22.45548656456384, 21.86915063895322, 253.39160622006673, 65.17177557961278, 65.76262006983795, 275.2677228816003, 165.89799495912004, 409.6955111298994, 103.58066323220025, 245.36529695274803, 102.31547873109882, 166.56071525733097, 247.6768747957383, 87.43338419072035, 125.6519059262358, 170.7098911569039, 282.866376412671, 92.01465666593633, 220.39640171595832, 181.84670365693327, 155.2863044612761, 113.838421732772, 219.30679968400827, 209.27058005155578, 201.25179795863644, 164.4962957655056, 159.39396480127613, 153.23909685024313, 136.1675233626585, 65.88252586518428, 252.83967264217773, 165.1070520118255, 121.82963842080022, 87.56293453731487, 54.484917576781285, 115.92412401011241, 58.537257221583786, 120.75649946773304, 199.6931378969026, 172.96625183597916, 45.13294955046598, 42.373156420043316, 160.83647129176958, 35.98196048715641, 129.1888390470922, 96.22356672704274, 46.777041097377534, 213.55966566899568, 74.01200709426666, 31.20021663915161, 147.8944683859378, 107.78705591807213, 27.68287077398816, 158.22952546369038, 35.699971889479905, 506.0327905603063, 36.728490398994616, 165.92609455403598, 96.06552668030652, 248.63719965654866, 670.1520358371565, 281.8577254663684, 231.87859547205642, 180.68298984657494, 236.38379040435052, 112.36443187885473, 102.97396510901157, 124.62510344748621, 391.4003993464759, 210.78006108985716, 157.15962256872305, 279.06875137017335, 124.68483882229425, 273.40745586742116, 232.52074604767003, 210.26616753788653, 187.99230437954293, 154.63287265721684, 154.99487843569918, 146.418176799363, 141.9124644740588, 128.32575224899958, 131.7993031476404, 85.61346734984737, 462.01863397398813, 126.56998984052055, 366.5821089745275, 117.94880129747375, 304.4685475037256, 403.19952745347564, 119.29693431775344, 68.81182114319742, 53.28907631224116, 352.39382183167504, 106.23360300491805, 56.39410830015541, 213.1083380187352, 23.986398218897733, 95.31442098616252, 54.214847381375286, 35.432093747821, 29.317884904066197, 45.43071833520072, 65.68849955537026, 24.79854900481383, 44.24163872717575, 128.5086521742294, 26.110572184879913, 724.1079484704412, 425.4591781018001, 61.2105356125474, 50.85159709261824, 41.346866624139864, 532.7841722155456, 240.53039791708133, 60.23138094733011, 231.21408999189856, 143.28280588431633, 393.4348026097533, 141.73685431423158, 113.60871008806672, 175.5272912023994, 179.70669836052335, 141.1933050333498, 150.52074537525064, 234.1159399497441, 191.74086727556025, 188.35941552954048, 224.4334345701122, 178.87607728226146, 132.86370119137246, 132.2760276998092, 134.35846832449613, 121.60427972864659, 105.03331508878718, 144.08440172834162, 84.87454591736866, 422.90939473757805, 380.9311986828075, 178.1671633615297, 315.1309791170576, 1135.8201291313064, 48.575565680201926, 144.35667091763634, 46.6227289148146, 161.46119335906621, 25.87071639980754, 78.31518218892731, 104.5399022309902, 123.6621661574307, 26.41249809302182, 53.50113246693757, 24.03509584147364, 65.30513240211157, 264.56090505941654, 28.133519604190695, 110.06092574290012, 66.3683673479207, 80.72637709056926, 21.52360114103916, 24.510061738700212, 23.33624438852732, 72.74241586164703, 55.11358623721089, 115.31318088682, 40.08386697683989, 376.41202735861333, 198.57194556245787, 189.86442207127146, 269.96580108587443, 346.4933996503484, 269.3016766809788, 299.0698874584041, 220.0934897595783, 198.43448336166358, 106.34080419736351, 159.12656835335147, 123.5426477798454, 177.442933068147, 150.35750143835963, 120.50742725259957, 124.53453023732392, 126.94177614488547, 117.70091013841248, 110.21859799905235, 110.42647406217529, 416.4951552900598, 96.43102438011593, 671.7333172774427, 199.4328420591827, 48.322627370823675, 272.01796923464195, 62.58436656076146, 216.52473942308896, 59.465842858292575, 338.99563484082023, 418.19471671434115, 27.085344148555723, 149.7603782187782, 167.73345550360997, 67.90669094739752, 20.163808173471953, 119.29403625643333, 155.52932381666113, 17.510537492244914, 15.650576496625797, 169.66851099377783, 90.66510692059347, 18.167664371420038, 198.68241431639055, 21.712894895876598, 451.013329902286, 12.015247385723404, 322.1202785666158, 10.930017445833089, 14.984483032821917, 313.0622908744543, 90.64074000006727, 149.05538089337244, 72.10145089369635, 298.432028080242, 86.57672806091234, 81.82551223746172, 300.529802211897, 118.901621224433, 276.6512044497386, 160.2976657229054, 200.74788830553362, 295.58003894734946, 197.01099872910186, 181.61979729861469, 185.454021085488, 128.17612498035948, 185.11101559483538, 138.18540692655938, 128.78770048345336, 244.5294472932414, 118.16730307766323, 39.16951919537356, 59.67659605348073, 120.57186356689255, 30.215237805602666, 705.4362413656512, 249.36139962631196, 38.44351154761812, 120.65226607108352, 264.76914202375366, 37.09677644635051, 40.33368216495488, 26.795084117102192, 28.805829404017647, 16.55600349279013, 148.33629643988672, 19.0310496298457, 73.2075134995009, 39.94817378418186, 40.26218361530531, 56.04989765314799, 14.78643149879141, 28.246257609070717, 25.088469446567277, 54.50705996813538, 13.322905566428632, 8.836667575944288, 39.30874528856023, 20.41469405228304, 632.3289298634145, 134.30096757371987, 47.02905903208179, 122.84068152393563, 224.18004434497453, 93.07989444043794, 314.9803279488061, 111.69940479704464, 176.6046616578409, 225.6800287545367, 169.73479191985487, 72.06796472861919, 129.71909248810744, 112.79552198028625, 144.6433248314051, 104.6236969831267, 90.10915605163363, 81.02895659296952, 88.93736552068691, 95.06075399061727, 108.83133906468169, 93.4709977349985, 89.66091277516207, 85.30782346692453, 1136.4173918168253, 91.21139486442172, 56.2654563432895, 23.344348796641032, 48.957619276654306, 196.13618975977877, 32.922731585785016, 148.03720912890964, 429.30662894159025, 13.584796643714741, 41.16129564918933, 32.460975556380184, 11.675191076445245, 33.27706369869209, 12.519191331892106, 15.318618622083784, 28.164817354124647, 10.208014964283892, 88.51837858531643, 16.650323933097443, 75.42231685497167, 17.919103660906952, 102.80782767132064, 11.704737400151839, 14.147607576009802, 10.862523926803018, 15.468793080278306, 14.411321526051875, 12.689643393564532, 135.811564566188, 286.0715035012332, 556.9521992432856, 140.83088298450468, 73.60093153474395, 104.245532897919, 219.47488662898633, 96.53897557562998, 89.69517972081722, 194.74091297943255, 96.18766098846721, 133.54619610414164, 64.1855798977523, 94.282924148129, 81.27036311894277, 166.92441133435733, 129.96410146449557, 155.32276397173396, 182.21682494916266, 164.49891736011693, 111.89304842997032, 103.50737829129127, 101.33404775492502, 88.08029487585186, 85.31302033960941, 82.58693333453773, 56.65026728012249, 465.36848376555616, 106.3799723479834, 76.47043066863984, 427.52033351809695, 67.18574221015353, 95.92970432263996, 36.59485845804306, 593.9783503626588, 28.79128587076756, 269.8638115203776, 133.54311150496437, 157.35857185045492, 133.8422229714504, 58.16164595588103, 27.539781730040925, 45.60434035806593, 58.78834730684404, 46.986907202071045, 28.090119817916953, 58.351763046432076, 44.23711532389029, 42.550266533156794, 80.20557254717369, 53.955429288479536, 14.036053160725611, 19.561228347687205, 15.388787801692128, 15.366081727416551, 30.466231139479426, 58.30880728376261, 47.44204647296782, 252.0308023296279, 45.8817162347383, 36.63124754769813, 47.891353050695315, 133.06211657072328, 70.11458928708612, 123.65603110798565, 196.36962019173703, 240.27052707670225, 133.44695688312012, 143.58669597771998, 127.51703911249449, 147.3390488680889, 105.1969207986796, 114.62329020220388, 130.33126789681208, 124.62324038869987, 99.9749771517347, 76.87154902293527, 83.41743572812184, 79.64029715391617, 78.04064516878373, 78.03859654948266], \"Total\": [4187.0, 1205.0, 1417.0, 1790.0, 1513.0, 1252.0, 2158.0, 3038.0, 1299.0, 2682.0, 1602.0, 1573.0, 1148.0, 2122.0, 1431.0, 3353.0, 1223.0, 2124.0, 563.0, 1046.0, 1077.0, 698.0, 1976.0, 1045.0, 1000.0, 1977.0, 2924.0, 1324.0, 549.0, 603.0, 66.64531994697803, 76.98973672470655, 188.8825264349263, 254.4803267582257, 427.0658096831815, 59.77822267632954, 358.89738639813214, 88.40581545094697, 81.73623237221706, 208.11613851149414, 88.84633838485627, 108.89451311597136, 50.89777656743216, 95.53856536015014, 73.60243768030249, 109.40961018406237, 346.58600743189726, 359.43581467878676, 282.7086303691196, 258.04792520097556, 340.75306151721543, 767.1021315166606, 155.5113110828274, 128.88756918159567, 180.4183962275579, 90.26652922878927, 82.42253332149095, 48.666740697873266, 1596.330432639367, 55.889738560253136, 296.3280461728785, 247.22590887590678, 546.0272671688278, 228.17665152704868, 1640.894785160055, 944.0876390430532, 465.90207143487663, 3177.8320212817216, 784.3007730706745, 931.4633278259561, 597.1844736388206, 727.5663532412358, 463.6601009193168, 812.0749483340613, 4727.712777360886, 368.95894320289267, 1336.740936835539, 4187.838688987835, 930.0180542134235, 787.1669572807874, 2124.694741609211, 2797.6196829601454, 1068.881991295029, 3801.060857570569, 801.7577648530975, 4162.051409343765, 2162.88163591079, 2535.785545781892, 2099.493631152808, 1461.448448341936, 61.04429185817143, 84.45563913887588, 1602.628097132518, 265.4058652694401, 105.74115555111695, 379.56236218988107, 154.7096002638737, 194.71564119883743, 185.6667277605133, 71.75786782434331, 80.74710896884214, 2682.68463745917, 742.5294612206178, 116.7845829429759, 347.0913892041167, 459.36074873966993, 348.6084169532434, 146.15942716993666, 671.4743843947786, 59.09387654239862, 2924.278141847211, 130.53793979943265, 200.51900888651772, 62.60664287916379, 138.54591381044324, 89.34402534824066, 136.4936391856659, 1850.8937524975115, 90.31675755823291, 139.5465211016951, 3038.6656242723157, 768.6694646128972, 420.99778288832044, 579.9460849268264, 500.87683139535255, 490.56799016392057, 777.7976313691175, 834.3510970583369, 3353.153945188798, 1135.2602585728657, 1977.6635427207868, 1959.3407554006587, 1282.5507702267744, 4162.051409343765, 3801.060857570569, 2038.489387827707, 4727.712777360886, 2099.493631152808, 2535.785545781892, 966.103900025301, 1113.967415003558, 1216.3101048468627, 2797.6196829601454, 1448.5720304795518, 119.14107635510052, 260.0348535679752, 1299.7892367473594, 152.48659220831786, 156.49322758817033, 128.83150457419967, 148.47533928252577, 493.35797281462345, 91.7632728903991, 246.50250934862052, 115.87276817562208, 61.95353228034687, 68.89563289663248, 1223.3427929194602, 233.78926275378439, 330.0882371127919, 168.4597872378764, 48.63481055600751, 384.2394076790146, 238.76932633703282, 47.194540060650105, 154.73903120071589, 530.1459430107702, 59.05635255578551, 158.72611352677637, 72.11509494050546, 62.76935864236048, 84.3276346436901, 68.18358256776057, 46.9694625381899, 172.91544485641995, 214.45279779407255, 368.97348756380046, 2038.489387827707, 512.775720757832, 931.4633278259561, 1262.9349425728033, 509.49115488460114, 1046.663281989593, 930.0180542134235, 1850.8937524975115, 2337.3453356607256, 622.8929828441064, 3353.153945188798, 3801.060857570569, 1976.0782829568632, 2682.68463745917, 4162.051409343765, 4727.712777360886, 3038.6656242723157, 827.5510386017387, 1466.0314960957762, 1977.6635427207868, 851.0008643085683, 2099.493631152808, 2797.6196829601454, 826.600800352062, 947.7807972036976, 497.34605419621, 88.54286900875054, 118.09174244853843, 295.51817677233186, 859.5093133696374, 1431.6954731178514, 407.8819661256269, 62.72075388616942, 1573.7135988880032, 745.9745658276853, 199.21482426594378, 135.93476388245742, 1183.298495410853, 122.99861042435232, 652.3533756582128, 76.20649205068138, 611.0997692581049, 295.30571521702393, 56.50822687841406, 177.66311421198932, 159.8656726257186, 176.74067894517395, 1324.6031098870815, 151.60825504719395, 53.838031367234876, 57.045503569078306, 486.6806957249856, 80.08378080167616, 236.5339620603701, 427.0362661657698, 1976.0782829568632, 105.43855227162472, 494.652106885032, 605.6357279837066, 982.5448882565238, 2158.6276346138507, 947.7807972036976, 1065.2866165793214, 565.3704975366727, 2038.489387827707, 4162.051409343765, 3353.153945188798, 851.0008643085683, 3801.060857570569, 1977.6635427207868, 3038.6656242723157, 2122.600575607074, 4727.712777360886, 2535.785545781892, 2797.6196829601454, 2924.278141847211, 2099.493631152808, 1850.8937524975115, 196.2192833750059, 192.3544738287964, 607.6531950943594, 106.60166438863791, 178.54608874704323, 111.09169177352362, 165.08391733221396, 239.91570626502903, 130.50830373804493, 85.50511438607708, 157.6873084774157, 128.46925320413877, 88.62018242913649, 751.3150866672503, 177.46339188500738, 133.93820350900376, 101.21155790734264, 1077.3512603904478, 84.39605288188515, 63.35789194741483, 359.09417868939255, 236.7967211542399, 79.34287661222194, 63.63182462288784, 48.80810946909639, 98.31180311398879, 169.98128539904542, 120.83629319454548, 80.27981132741795, 310.0418848675546, 881.9774106487253, 314.6917427894517, 834.0852848891517, 1135.2602585728657, 645.364611950111, 304.2662128338158, 215.29180925646625, 246.6888737460817, 1000.6056982639255, 1326.351481194446, 432.49591024514814, 793.2222651894467, 4727.712777360886, 4162.051409343765, 1977.554296150389, 1216.3101048468627, 1513.390033151447, 2162.88163591079, 1676.8143179699603, 2535.785545781892, 1068.881991295029, 4187.838688987835, 1665.9139186297189, 3177.8320212817216, 2337.3453356607256, 2797.6196829601454, 3801.060857570569, 88.42297804064074, 211.10487805053108, 91.80522924809172, 83.70705608632173, 329.80444241153316, 124.06954516292735, 148.1862725652109, 85.43015490745141, 447.5243870888661, 61.21933088949356, 446.6764407132382, 169.63409342595722, 65.714080037878, 65.19543266841954, 130.032977960843, 177.66311421198932, 98.26473922454637, 151.68169964601077, 4187.838688987835, 2158.6276346138507, 80.29287144895521, 454.8902215941521, 484.71761408678725, 138.20345032339824, 122.69585940333596, 98.63843332043434, 161.04462897444952, 542.3248621993054, 75.37845964238359, 53.49839208998978, 3353.153945188798, 652.3533756582128, 1573.7135988880032, 1262.9349425728033, 826.600800352062, 391.14641165920574, 240.1103788963502, 1324.6031098870815, 1183.298495410853, 494.25628845110066, 2797.6196829601454, 2122.600575607074, 4162.051409343765, 881.9774106487253, 3801.060857570569, 3177.8320212817216, 1068.881991295029, 556.7790439531367, 2337.3453356607256, 4727.712777360886, 1665.9139186297189, 1374.9716543638883, 1977.554296150389, 1676.8143179699603, 90.1135213856071, 168.20275918807542, 281.08856588053504, 1417.4401967005654, 106.64939451398627, 66.59190964837201, 78.54491476690757, 311.6011981860877, 227.67672936998883, 1045.8902277533382, 51.15843025087545, 79.66144038170235, 80.73552782429662, 145.6605955678571, 547.7977858841106, 73.72249884004124, 110.03850603016971, 963.6871978352085, 79.2703324795876, 93.1708413395299, 95.6110581853192, 120.90384902388323, 43.46473592214084, 672.1130582888335, 1326.351481194446, 112.90683436488807, 323.2074935241892, 159.15887762654773, 66.4304811327349, 65.21750156091024, 834.3510970583369, 202.88859226381652, 214.97341342449928, 1336.740936835539, 810.1942149535876, 3177.8320212817216, 419.6703920517995, 1640.894785160055, 420.99778288832044, 987.4470184310665, 2122.600575607074, 342.0075581909556, 667.1701373085084, 1251.6252340302424, 3801.060857570569, 385.68374415178846, 3353.153945188798, 2162.88163591079, 1448.5720304795518, 671.4743843947786, 4727.712777360886, 4187.838688987835, 4162.051409343765, 2535.785545781892, 2924.278141847211, 3038.6656242723157, 2099.493631152808, 78.13525489518615, 313.843601907438, 207.5676527754337, 154.66982990775392, 113.69324912037834, 71.18702814288396, 161.23137386313584, 83.73118173210713, 176.05576894597732, 295.22022551246755, 258.24172364860163, 71.28493797008423, 67.58877609122183, 259.45584267474015, 59.39800450650284, 215.57962748248798, 163.10843213615755, 82.65910476526871, 382.47001361379387, 134.56179959132055, 57.23908679142955, 273.3100175698979, 209.83208959953606, 54.25325563164789, 316.77491877895994, 72.09289754806105, 1046.663281989593, 77.01295742764654, 357.20770394395356, 216.02596314617338, 640.7981338970587, 1977.554296150389, 803.6934369690525, 707.8127040969769, 565.702848259441, 987.4470184310665, 320.636131139034, 281.85960763141094, 406.2588941196441, 4162.051409343765, 1251.6252340302424, 675.1758351896345, 3801.060857570569, 438.82093243858293, 4187.838688987835, 3353.153945188798, 2535.785545781892, 1977.6635427207868, 1336.740936835539, 1676.8143179699603, 1461.448448341936, 2337.3453356607256, 565.3704975366727, 1504.2662301650125, 100.56339233716298, 549.6125098145727, 152.3858962616865, 484.2460962593428, 160.06501040998566, 446.0299436821431, 626.9052988847876, 187.63972718809825, 110.3752182974021, 87.34563197696767, 628.9130787089232, 194.38000568432665, 121.24862110669149, 464.9783674588701, 52.72290739453564, 214.97341342449928, 122.5653172212298, 84.99714489475866, 70.38340364615377, 111.373268476638, 165.80184210199576, 65.33217660758514, 117.42077926948042, 347.0087834076969, 75.37845964238359, 2122.600575607074, 1252.1409574390395, 180.60220997015278, 151.94156559542878, 132.92106255368938, 2124.694741609211, 987.4470184310665, 209.83208959953606, 1324.6031098870815, 707.8683056520503, 3177.8320212817216, 802.2849166101604, 565.702848259441, 1183.298495410853, 1251.6252340302424, 908.8783243673447, 1046.663281989593, 2797.6196829601454, 1977.554296150389, 2337.3453356607256, 4727.712777360886, 2535.785545781892, 984.0571901090962, 2158.6276346138507, 4162.051409343765, 3801.060857570569, 113.99030509814632, 166.71165911131467, 104.74581681348297, 603.983132109537, 577.5185690551324, 272.2906412041845, 494.25628845110066, 1790.6070889630346, 87.83081155266576, 264.4380359038698, 98.2573336112633, 342.0075581909556, 56.080590904181385, 170.40258262436961, 231.6663278236302, 279.7141960205866, 62.60664287916379, 132.08975035630397, 60.703126704816334, 166.03387862769637, 675.2223284700004, 72.63015664947662, 286.955355590832, 174.9008164211428, 217.50819567905415, 60.987375093195126, 78.39316552173145, 75.7752738424595, 236.6680382889171, 185.46734488074537, 391.14641165920574, 138.29311306117123, 2158.6276346138507, 1324.6031098870815, 1262.9349425728033, 2337.3453356607256, 3801.060857570569, 3038.6656242723157, 4162.051409343765, 2535.785545781892, 2122.600575607074, 801.7577648530975, 2682.68463745917, 1282.5507702267744, 4727.712777360886, 3177.8320212817216, 1676.8143179699603, 2099.493631152808, 2924.278141847211, 2162.88163591079, 1665.9139186297189, 3353.153945188798, 667.1701373085084, 159.56510542829685, 1148.6479481100398, 342.4173806261549, 84.62233516597104, 485.8577032432188, 115.34575644522121, 402.74276384927714, 131.93655439883287, 802.2849166101604, 1000.6056982639255, 72.21535629215546, 403.49687252943596, 461.2983535442784, 210.10959862318984, 64.4656117987671, 419.6703920517995, 547.7977858841106, 68.66242324431146, 61.82126279037554, 706.2029334089883, 378.7944822890832, 77.01295742764654, 851.0008643085683, 94.62909299495183, 1976.0782829568632, 53.93056672875063, 1448.5720304795518, 51.255761893739006, 71.75786782434331, 1513.390033151447, 446.6764407132382, 801.5890381105772, 368.97348756380046, 2124.694741609211, 490.56799016392057, 464.87895135777654, 2924.278141847211, 793.2222651894467, 2797.6196829601454, 1251.6252340302424, 2038.489387827707, 4727.712777360886, 2162.88163591079, 1977.554296150389, 2535.785545781892, 987.4470184310665, 4162.051409343765, 3353.153945188798, 3801.060857570569, 342.50046291807024, 171.08212273996097, 69.98230186621109, 112.1368554272038, 230.28046526204776, 62.388475497247384, 1513.390033151447, 617.7093712640645, 99.56753782108606, 314.6917427894517, 707.8127040969769, 110.5910182424638, 128.98287429925844, 87.03479952409475, 94.38921793104929, 54.861506082372735, 498.53456097196454, 64.4656117987671, 257.7413608349665, 143.5592404951031, 155.4198175582338, 218.10564156365317, 59.09387654239862, 114.9866073089772, 103.71685514180483, 227.46426059102447, 57.050494052716374, 38.169618692113396, 172.89515581835082, 90.31675755823291, 3038.6656242723157, 640.7981338970587, 215.29180925646625, 675.2223284700004, 2162.88163591079, 645.364611950111, 4187.838688987835, 1000.6056982639255, 2122.600575607074, 4727.712777360886, 2797.6196829601454, 565.702848259441, 2337.3453356607256, 1959.3407554006587, 4162.051409343765, 2099.493631152808, 1374.9716543638883, 1077.3512603904478, 1504.2662301650125, 1977.554296150389, 3801.060857570569, 1977.6635427207868, 1976.0782829568632, 1850.8937524975115, 1205.566420931571, 115.81899467868452, 102.28940008630168, 51.90391412329463, 126.87933985613579, 542.3248621993054, 106.61532797605805, 496.3983446850334, 1466.0314960957762, 46.702051723028596, 148.7684141102283, 117.98536736213896, 43.073943137868945, 125.09437927605249, 48.80810946909639, 60.533796944430925, 112.17099089016564, 41.34722791819276, 365.1907028988548, 72.10008878020848, 332.3374641180172, 79.34287661222194, 464.9783674588701, 56.629062177671116, 69.53093956919999, 54.7390687343023, 87.03918071142553, 82.72864868377478, 74.81685975776426, 801.5890381105772, 2124.694741609211, 4727.712777360886, 1068.881991295029, 512.775720757832, 777.7976313691175, 2038.489387827707, 810.1942149535876, 834.3510970583369, 2682.68463745917, 1065.2866165793214, 1790.6070889630346, 578.6637004904212, 1093.645257620583, 859.5093133696374, 2924.278141847211, 1977.6635427207868, 2797.6196829601454, 3801.060857570569, 4162.051409343765, 2535.785545781892, 2162.88163591079, 4187.838688987835, 1976.0782829568632, 1665.9139186297189, 1959.3407554006587, 68.54678787999494, 563.9608315752108, 163.67050129661317, 123.84820326376041, 698.6840824399212, 119.86167232698261, 171.7110658403486, 74.38590311198888, 1252.1409574390395, 60.80226644761591, 576.2328860106268, 286.955355590832, 354.6341825537761, 302.27128090235686, 132.08975035630397, 62.90028737122839, 106.48319575978584, 138.29311306117123, 111.373268476638, 71.09441098269949, 152.83118100293487, 121.13031768800926, 120.90384902388323, 245.15100735637932, 166.03387862769637, 48.65493888746134, 68.99698837850315, 55.57461092331245, 57.49123240656281, 114.8770985051531, 224.11879899546048, 182.8538130765058, 1088.3502872588997, 186.61845471442956, 143.5592404951031, 200.51900888651772, 755.0009725912175, 360.0806542793101, 944.0876390430532, 2337.3453356607256, 3801.060857570569, 1665.9139186297189, 2099.493631152808, 1640.894785160055, 3177.8320212817216, 1676.8143179699603, 2535.785545781892, 4727.712777360886, 4162.051409343765, 1959.3407554006587, 834.0852848891517, 1461.448448341936, 1135.2602585728657, 1085.4047688552382, 1466.0314960957762], \"Category\": [\"Default\", \"Default\", \"Default\", \"Default\", \"Default\", \"Default\", \"Default\", \"Default\", \"Default\", \"Default\", \"Default\", \"Default\", \"Default\", \"Default\", \"Default\", \"Default\", \"Default\", \"Default\", \"Default\", \"Default\", \"Default\", \"Default\", \"Default\", \"Default\", \"Default\", \"Default\", \"Default\", \"Default\", \"Default\", \"Default\", \"Topic1\", \"Topic1\", \"Topic1\", \"Topic1\", \"Topic1\", \"Topic1\", \"Topic1\", \"Topic1\", \"Topic1\", \"Topic1\", \"Topic1\", \"Topic1\", \"Topic1\", \"Topic1\", \"Topic1\", \"Topic1\", \"Topic1\", \"Topic1\", \"Topic1\", \"Topic1\", \"Topic1\", \"Topic1\", \"Topic1\", \"Topic1\", \"Topic1\", \"Topic1\", \"Topic1\", \"Topic1\", \"Topic1\", \"Topic1\", \"Topic1\", \"Topic1\", \"Topic1\", \"Topic1\", \"Topic1\", \"Topic1\", \"Topic1\", \"Topic1\", \"Topic1\", \"Topic1\", \"Topic1\", \"Topic1\", \"Topic1\", \"Topic1\", \"Topic1\", \"Topic1\", \"Topic1\", \"Topic1\", \"Topic1\", \"Topic1\", \"Topic1\", \"Topic1\", \"Topic1\", \"Topic1\", \"Topic1\", \"Topic1\", \"Topic1\", \"Topic1\", \"Topic1\", \"Topic1\", \"Topic2\", \"Topic2\", \"Topic2\", \"Topic2\", \"Topic2\", \"Topic2\", \"Topic2\", \"Topic2\", \"Topic2\", \"Topic2\", \"Topic2\", \"Topic2\", \"Topic2\", \"Topic2\", \"Topic2\", \"Topic2\", \"Topic2\", \"Topic2\", \"Topic2\", \"Topic2\", \"Topic2\", \"Topic2\", \"Topic2\", \"Topic2\", \"Topic2\", \"Topic2\", \"Topic2\", \"Topic2\", \"Topic2\", \"Topic2\", \"Topic2\", \"Topic2\", \"Topic2\", \"Topic2\", \"Topic2\", \"Topic2\", \"Topic2\", \"Topic2\", \"Topic2\", \"Topic2\", \"Topic2\", \"Topic2\", \"Topic2\", \"Topic2\", \"Topic2\", \"Topic2\", \"Topic2\", \"Topic2\", \"Topic2\", \"Topic2\", \"Topic2\", \"Topic2\", \"Topic2\", \"Topic2\", \"Topic3\", \"Topic3\", \"Topic3\", \"Topic3\", \"Topic3\", \"Topic3\", \"Topic3\", \"Topic3\", \"Topic3\", \"Topic3\", \"Topic3\", \"Topic3\", \"Topic3\", \"Topic3\", \"Topic3\", \"Topic3\", \"Topic3\", \"Topic3\", \"Topic3\", \"Topic3\", \"Topic3\", \"Topic3\", \"Topic3\", \"Topic3\", \"Topic3\", \"Topic3\", \"Topic3\", \"Topic3\", \"Topic3\", \"Topic3\", \"Topic3\", \"Topic3\", \"Topic3\", \"Topic3\", \"Topic3\", \"Topic3\", \"Topic3\", \"Topic3\", \"Topic3\", \"Topic3\", \"Topic3\", \"Topic3\", \"Topic3\", \"Topic3\", \"Topic3\", \"Topic3\", \"Topic3\", \"Topic3\", \"Topic3\", \"Topic3\", \"Topic3\", \"Topic3\", \"Topic3\", \"Topic3\", \"Topic3\", \"Topic3\", \"Topic3\", \"Topic3\", \"Topic4\", \"Topic4\", \"Topic4\", \"Topic4\", \"Topic4\", \"Topic4\", \"Topic4\", \"Topic4\", \"Topic4\", \"Topic4\", \"Topic4\", \"Topic4\", \"Topic4\", \"Topic4\", \"Topic4\", \"Topic4\", \"Topic4\", \"Topic4\", \"Topic4\", \"Topic4\", \"Topic4\", \"Topic4\", \"Topic4\", \"Topic4\", \"Topic4\", \"Topic4\", \"Topic4\", \"Topic4\", \"Topic4\", \"Topic4\", \"Topic4\", \"Topic4\", \"Topic4\", \"Topic4\", \"Topic4\", \"Topic4\", \"Topic4\", \"Topic4\", \"Topic4\", \"Topic4\", \"Topic4\", \"Topic4\", \"Topic4\", \"Topic4\", \"Topic4\", \"Topic4\", \"Topic4\", \"Topic4\", \"Topic4\", \"Topic4\", \"Topic4\", \"Topic4\", \"Topic4\", \"Topic5\", \"Topic5\", \"Topic5\", \"Topic5\", \"Topic5\", \"Topic5\", \"Topic5\", \"Topic5\", \"Topic5\", \"Topic5\", \"Topic5\", \"Topic5\", \"Topic5\", \"Topic5\", \"Topic5\", \"Topic5\", \"Topic5\", \"Topic5\", \"Topic5\", \"Topic5\", \"Topic5\", \"Topic5\", \"Topic5\", \"Topic5\", \"Topic5\", \"Topic5\", \"Topic5\", \"Topic5\", \"Topic5\", \"Topic5\", \"Topic5\", \"Topic5\", \"Topic5\", \"Topic5\", \"Topic5\", \"Topic5\", \"Topic5\", \"Topic5\", \"Topic5\", \"Topic5\", \"Topic5\", \"Topic5\", \"Topic5\", \"Topic5\", \"Topic5\", \"Topic5\", \"Topic5\", \"Topic5\", \"Topic5\", \"Topic5\", \"Topic5\", \"Topic5\", \"Topic5\", \"Topic5\", \"Topic5\", \"Topic5\", \"Topic5\", \"Topic6\", \"Topic6\", \"Topic6\", \"Topic6\", \"Topic6\", \"Topic6\", \"Topic6\", \"Topic6\", \"Topic6\", \"Topic6\", \"Topic6\", \"Topic6\", \"Topic6\", \"Topic6\", \"Topic6\", \"Topic6\", \"Topic6\", \"Topic6\", \"Topic6\", \"Topic6\", \"Topic6\", \"Topic6\", \"Topic6\", \"Topic6\", \"Topic6\", \"Topic6\", \"Topic6\", \"Topic6\", \"Topic6\", \"Topic6\", \"Topic6\", \"Topic6\", \"Topic6\", \"Topic6\", \"Topic6\", \"Topic6\", \"Topic6\", \"Topic6\", \"Topic6\", \"Topic6\", \"Topic6\", \"Topic6\", \"Topic6\", \"Topic6\", \"Topic6\", \"Topic6\", \"Topic6\", \"Topic6\", \"Topic6\", \"Topic6\", \"Topic6\", \"Topic6\", \"Topic6\", \"Topic6\", \"Topic7\", \"Topic7\", \"Topic7\", \"Topic7\", \"Topic7\", \"Topic7\", \"Topic7\", \"Topic7\", \"Topic7\", \"Topic7\", \"Topic7\", \"Topic7\", \"Topic7\", \"Topic7\", \"Topic7\", \"Topic7\", \"Topic7\", \"Topic7\", \"Topic7\", \"Topic7\", \"Topic7\", \"Topic7\", \"Topic7\", \"Topic7\", \"Topic7\", \"Topic7\", \"Topic7\", \"Topic7\", \"Topic7\", \"Topic7\", \"Topic7\", \"Topic7\", \"Topic7\", \"Topic7\", \"Topic7\", \"Topic7\", \"Topic7\", \"Topic7\", \"Topic7\", \"Topic7\", \"Topic7\", \"Topic7\", \"Topic7\", \"Topic7\", \"Topic7\", \"Topic7\", \"Topic7\", \"Topic7\", \"Topic7\", \"Topic7\", \"Topic7\", \"Topic7\", \"Topic7\", \"Topic7\", \"Topic7\", \"Topic7\", \"Topic7\", \"Topic8\", \"Topic8\", \"Topic8\", \"Topic8\", \"Topic8\", \"Topic8\", \"Topic8\", \"Topic8\", \"Topic8\", \"Topic8\", \"Topic8\", \"Topic8\", \"Topic8\", \"Topic8\", \"Topic8\", \"Topic8\", \"Topic8\", \"Topic8\", \"Topic8\", \"Topic8\", \"Topic8\", \"Topic8\", \"Topic8\", \"Topic8\", \"Topic8\", \"Topic8\", \"Topic8\", \"Topic8\", \"Topic8\", \"Topic8\", \"Topic8\", \"Topic8\", \"Topic8\", \"Topic8\", \"Topic8\", \"Topic8\", \"Topic8\", \"Topic8\", \"Topic8\", \"Topic8\", \"Topic8\", \"Topic8\", \"Topic8\", \"Topic8\", \"Topic8\", \"Topic8\", \"Topic8\", \"Topic8\", \"Topic8\", \"Topic8\", \"Topic8\", \"Topic8\", \"Topic8\", \"Topic8\", \"Topic9\", \"Topic9\", \"Topic9\", \"Topic9\", \"Topic9\", \"Topic9\", \"Topic9\", \"Topic9\", \"Topic9\", \"Topic9\", \"Topic9\", \"Topic9\", \"Topic9\", \"Topic9\", \"Topic9\", \"Topic9\", \"Topic9\", \"Topic9\", \"Topic9\", \"Topic9\", \"Topic9\", \"Topic9\", \"Topic9\", \"Topic9\", \"Topic9\", \"Topic9\", \"Topic9\", \"Topic9\", \"Topic9\", \"Topic9\", \"Topic9\", \"Topic9\", \"Topic9\", \"Topic9\", \"Topic9\", \"Topic9\", \"Topic9\", \"Topic9\", \"Topic9\", \"Topic9\", \"Topic9\", \"Topic9\", \"Topic9\", \"Topic9\", \"Topic9\", \"Topic9\", \"Topic9\", \"Topic9\", \"Topic9\", \"Topic9\", \"Topic9\", \"Topic10\", \"Topic10\", \"Topic10\", \"Topic10\", \"Topic10\", \"Topic10\", \"Topic10\", \"Topic10\", \"Topic10\", \"Topic10\", \"Topic10\", \"Topic10\", \"Topic10\", \"Topic10\", \"Topic10\", \"Topic10\", \"Topic10\", \"Topic10\", \"Topic10\", \"Topic10\", \"Topic10\", \"Topic10\", \"Topic10\", \"Topic10\", \"Topic10\", \"Topic10\", \"Topic10\", \"Topic10\", \"Topic10\", \"Topic10\", \"Topic10\", \"Topic10\", \"Topic10\", \"Topic10\", \"Topic10\", \"Topic10\", \"Topic10\", \"Topic10\", \"Topic10\", \"Topic10\", \"Topic10\", \"Topic10\", \"Topic10\", \"Topic10\", \"Topic10\", \"Topic10\", \"Topic10\", \"Topic10\", \"Topic10\", \"Topic10\", \"Topic10\", \"Topic10\", \"Topic11\", \"Topic11\", \"Topic11\", \"Topic11\", \"Topic11\", \"Topic11\", \"Topic11\", \"Topic11\", \"Topic11\", \"Topic11\", \"Topic11\", \"Topic11\", \"Topic11\", \"Topic11\", \"Topic11\", \"Topic11\", \"Topic11\", \"Topic11\", \"Topic11\", \"Topic11\", \"Topic11\", \"Topic11\", \"Topic11\", \"Topic11\", \"Topic11\", \"Topic11\", \"Topic11\", \"Topic11\", \"Topic11\", \"Topic11\", \"Topic11\", \"Topic11\", \"Topic11\", \"Topic11\", \"Topic11\", \"Topic11\", \"Topic11\", \"Topic11\", \"Topic11\", \"Topic11\", \"Topic11\", \"Topic11\", \"Topic11\", \"Topic11\", \"Topic11\", \"Topic11\", \"Topic11\", \"Topic11\", \"Topic11\", \"Topic11\", \"Topic12\", \"Topic12\", \"Topic12\", \"Topic12\", \"Topic12\", \"Topic12\", \"Topic12\", \"Topic12\", \"Topic12\", \"Topic12\", \"Topic12\", \"Topic12\", \"Topic12\", \"Topic12\", \"Topic12\", \"Topic12\", \"Topic12\", \"Topic12\", \"Topic12\", \"Topic12\", \"Topic12\", \"Topic12\", \"Topic12\", \"Topic12\", \"Topic12\", \"Topic12\", \"Topic12\", \"Topic12\", \"Topic12\", \"Topic12\", \"Topic12\", \"Topic12\", \"Topic12\", \"Topic12\", \"Topic12\", \"Topic12\", \"Topic12\", \"Topic12\", \"Topic12\", \"Topic12\", \"Topic12\", \"Topic12\", \"Topic12\", \"Topic12\", \"Topic12\", \"Topic12\", \"Topic12\", \"Topic12\", \"Topic12\", \"Topic12\", \"Topic12\", \"Topic12\", \"Topic12\", \"Topic12\", \"Topic13\", \"Topic13\", \"Topic13\", \"Topic13\", \"Topic13\", \"Topic13\", \"Topic13\", \"Topic13\", \"Topic13\", \"Topic13\", \"Topic13\", \"Topic13\", \"Topic13\", \"Topic13\", \"Topic13\", \"Topic13\", \"Topic13\", \"Topic13\", \"Topic13\", \"Topic13\", \"Topic13\", \"Topic13\", \"Topic13\", \"Topic13\", \"Topic13\", \"Topic13\", \"Topic13\", \"Topic13\", \"Topic13\", \"Topic13\", \"Topic13\", \"Topic13\", \"Topic13\", \"Topic13\", \"Topic13\", \"Topic13\", \"Topic13\", \"Topic13\", \"Topic13\", \"Topic13\", \"Topic13\", \"Topic13\", \"Topic13\", \"Topic13\", \"Topic13\", \"Topic13\", \"Topic13\", \"Topic13\", \"Topic13\", \"Topic13\", \"Topic13\", \"Topic13\", \"Topic13\", \"Topic13\", \"Topic13\", \"Topic14\", \"Topic14\", \"Topic14\", \"Topic14\", \"Topic14\", \"Topic14\", \"Topic14\", \"Topic14\", \"Topic14\", \"Topic14\", \"Topic14\", \"Topic14\", \"Topic14\", \"Topic14\", \"Topic14\", \"Topic14\", \"Topic14\", \"Topic14\", \"Topic14\", \"Topic14\", \"Topic14\", \"Topic14\", \"Topic14\", \"Topic14\", \"Topic14\", \"Topic14\", \"Topic14\", \"Topic14\", \"Topic14\", \"Topic14\", \"Topic14\", \"Topic14\", \"Topic14\", \"Topic14\", \"Topic14\", \"Topic14\", \"Topic14\", \"Topic14\", \"Topic14\", \"Topic14\", \"Topic14\", \"Topic14\", \"Topic14\", \"Topic14\", \"Topic14\", \"Topic14\", \"Topic14\", \"Topic14\", \"Topic14\", \"Topic14\", \"Topic14\", \"Topic14\", \"Topic14\", \"Topic14\", \"Topic14\"], \"logprob\": [30.0, 29.0, 28.0, 27.0, 26.0, 25.0, 24.0, 23.0, 22.0, 21.0, 20.0, 19.0, 18.0, 17.0, 16.0, 15.0, 14.0, 13.0, 12.0, 11.0, 10.0, 9.0, 8.0, 7.0, 6.0, 5.0, 4.0, 3.0, 2.0, 1.0, -6.4591, -6.3156, -5.4192, -5.1662, -4.6743, -6.6459, -4.8626, -6.2698, -6.37, -5.4356, -6.3038, -6.1026, -6.8948, -6.2951, -6.5601, -6.1817, -5.0302, -5.0023, -5.2488, -5.3647, -5.1012, -4.3018, -5.9156, -6.1221, -5.7919, -6.4913, -6.5897, -7.122, -3.6392, -6.994, -5.3275, -5.5166, -4.7614, -5.6069, -3.7699, -4.422, -5.0815, -3.5629, -4.6702, -4.5815, -4.9613, -4.8332, -5.1606, -4.8375, -3.7383, -5.3706, -4.6119, -3.9726, -4.8468, -4.9615, -4.4458, -4.4783, -4.8892, -4.5006, -5.0433, -4.7317, -4.8633, -4.8648, -5.0303, -5.068, -6.3709, -6.1444, -3.2412, -5.0413, -5.9995, -4.7359, -5.6482, -5.4888, -5.5942, -6.5815, -6.5063, -3.0394, -4.3829, -6.2991, -5.2554, -4.9885, -5.2683, -6.1511, -4.6612, -7.0938, -3.2086, -6.3258, -5.9118, -7.1056, -6.335, -6.7759, -6.3552, -3.7602, -6.7998, -6.371, -3.479, -4.8197, -5.3783, -5.0958, -5.2516, -5.3453, -4.9984, -4.9642, -3.9892, -4.7723, -4.4314, -4.4543, -4.7283, -4.0172, -4.1481, -4.5806, -4.187, -4.6607, -4.6529, -5.0512, -5.0451, -5.0412, -4.8575, -5.0182, -5.6483, -4.8769, -3.301, -5.4667, -5.4531, -5.665, -5.5385, -4.3578, -6.0633, -5.0783, -5.8518, -6.4959, -6.3918, -3.5158, -5.1734, -4.8301, -5.5807, -6.8878, -4.8216, -5.3286, -6.9886, -5.8036, -4.6262, -6.8253, -5.8523, -6.6436, -6.7837, -6.5631, -6.7795, -7.2174, -5.9315, -5.7592, -5.2979, -3.922, -5.0713, -4.6251, -4.389, -5.167, -4.6455, -4.7821, -4.4104, -4.2903, -5.0773, -4.2147, -4.2663, -4.5988, -4.4686, -4.3198, -4.2915, -4.533, -5.0022, -4.8256, -4.779, -5.0402, -4.8414, -4.8689, -5.0533, -5.0721, -4.2097, -5.9786, -5.7009, -4.8048, -3.8107, -3.3039, -4.6035, -6.5421, -3.3574, -4.1955, -5.5355, -5.9613, -3.8151, -6.0918, -4.4369, -6.5849, -4.5203, -5.2554, -6.9538, -5.897, -6.0122, -5.9557, -3.9647, -6.1479, -7.2339, -7.1842, -5.0437, -6.8551, -5.774, -5.1894, -3.7447, -6.5987, -5.1733, -4.9981, -4.6997, -4.2581, -4.846, -4.7752, -5.2199, -4.427, -4.071, -4.3281, -5.0868, -4.3485, -4.7064, -4.6214, -4.7965, -4.6721, -4.8561, -4.8902, -4.8924, -4.9962, -5.0103, -4.984, -5.0261, -3.8777, -5.6269, -5.1436, -5.6263, -5.2606, -4.9287, -5.5383, -5.9629, -5.3814, -5.6037, -5.9985, -3.8626, -5.3075, -5.6322, -5.9173, -3.5642, -6.1188, -6.423, -4.7012, -5.1182, -6.2362, -6.4574, -6.7286, -6.0467, -5.5013, -5.8524, -6.262, -4.9245, -4.0596, -5.0519, -4.2112, -4.0103, -4.5621, -5.18, -5.4433, -5.3525, -4.4887, -4.3323, -5.0645, -4.7585, -3.8524, -4.063, -4.4649, -4.7887, -4.8196, -4.7148, -4.8159, -4.7472, -4.9876, -4.8695, -4.9937, -4.9509, -5.0, -4.9925, -5.0157, -5.5789, -4.8358, -5.6972, -5.825, -4.6352, -5.66, -5.499, -6.1004, -4.4501, -6.476, -4.5114, -5.5269, -6.489, -6.5002, -5.8168, -5.522, -6.1339, -5.7123, -2.4204, -3.1174, -6.4714, -4.7422, -4.706, -5.9674, -6.0921, -6.3516, -5.8761, -4.6683, -6.6603, -7.0391, -3.1074, -4.7439, -4.1482, -4.379, -4.7184, -5.3122, -5.6439, -4.6151, -4.6846, -5.2207, -4.3308, -4.527, -4.3139, -5.0324, -4.5553, -4.6205, -5.0897, -5.2788, -5.0535, -4.9389, -5.1663, -5.2367, -5.2102, -5.2422, -5.4958, -4.8887, -4.3778, -2.8336, -5.4979, -6.071, -6.0636, -4.6884, -5.0186, -3.5228, -6.555, -6.1792, -6.1769, -5.5899, -4.3075, -6.3227, -5.9573, -3.8365, -6.3917, -6.2351, -6.2278, -6.0693, -7.1177, -4.411, -3.7497, -6.2451, -5.2334, -5.9444, -6.8301, -6.8565, -4.4067, -5.7646, -5.7555, -4.3239, -4.8302, -3.9262, -5.3012, -4.4389, -5.3135, -4.8262, -4.4295, -5.4707, -5.1081, -4.8016, -4.2966, -5.4197, -4.5462, -4.7384, -4.8963, -5.2068, -4.5511, -4.598, -4.637, -4.8387, -4.8702, -4.9096, -5.0277, -5.7256, -4.3808, -4.8069, -5.1109, -5.4412, -5.9156, -5.1606, -5.8439, -5.1197, -4.6167, -4.7604, -6.1039, -6.167, -4.8331, -6.3305, -5.0522, -5.3468, -6.0681, -4.5496, -5.6093, -6.4731, -4.917, -5.2334, -6.5927, -4.8495, -6.3384, -3.6869, -6.31, -4.802, -5.3485, -4.3975, -3.406, -4.2721, -4.4673, -4.7168, -4.4481, -5.1918, -5.279, -5.0882, -3.9438, -4.5627, -4.8563, -4.2821, -5.0877, -4.3026, -4.4645, -4.5651, -4.6771, -4.8725, -4.8701, -4.9271, -4.9583, -5.0589, -5.0322, -5.3986, -3.7128, -5.0076, -3.9442, -5.0782, -4.1299, -3.849, -5.0668, -5.617, -5.8727, -3.9837, -5.1828, -5.8161, -4.4866, -6.6709, -5.2912, -5.8555, -6.2808, -6.4702, -6.0322, -5.6635, -6.6376, -6.0588, -4.9924, -6.5861, -3.2635, -3.7953, -5.7341, -5.9195, -6.1264, -3.5703, -4.3656, -5.7502, -4.4051, -4.8836, -3.8735, -4.8945, -5.1157, -4.6806, -4.6571, -4.8983, -4.8343, -4.3926, -4.5923, -4.6101, -4.4348, -4.6617, -4.9591, -4.9635, -4.9479, -5.0477, -5.1527, -4.8365, -5.3658, -3.7598, -3.8643, -4.6242, -4.054, -2.7718, -5.9238, -4.8347, -5.9649, -4.7227, -6.5538, -5.4462, -5.1574, -4.9894, -6.5331, -5.8272, -6.6274, -5.6279, -4.2289, -6.47, -5.1059, -5.6117, -5.4159, -6.7378, -6.6079, -6.6569, -5.52, -5.7975, -5.0593, -6.116, -3.8763, -4.5158, -4.5606, -4.2086, -3.9591, -4.2111, -4.1063, -4.4129, -4.5165, -5.1403, -4.7372, -4.9904, -4.6283, -4.7939, -5.0152, -4.9824, -4.9632, -5.0388, -5.1045, -5.1026, -3.7615, -5.2245, -3.2835, -4.4979, -5.9155, -4.1875, -5.6568, -4.4156, -5.708, -3.9674, -3.7574, -6.4944, -4.7843, -4.671, -5.5752, -6.7895, -5.0118, -4.7465, -6.9305, -7.0428, -4.6595, -5.2862, -6.8937, -4.5016, -6.7154, -3.6819, -7.3072, -4.0184, -7.4018, -7.0863, -4.047, -5.2864, -4.789, -5.5153, -4.0948, -5.3323, -5.3888, -4.0878, -5.0151, -4.1706, -4.7163, -4.4913, -4.1044, -4.5101, -4.5914, -4.5705, -4.9399, -4.5724, -4.8648, -4.9352, -4.0961, -4.8233, -5.9275, -5.5065, -4.8032, -6.1871, -3.0366, -4.0765, -5.9462, -4.8025, -4.0166, -5.9819, -5.8982, -6.3072, -6.2348, -6.7887, -4.5959, -6.6493, -5.3021, -5.9078, -5.9, -5.5692, -6.9017, -6.2545, -6.373, -5.5971, -7.0059, -7.4165, -5.924, -6.5792, -3.146, -4.6953, -5.7446, -4.7845, -4.183, -5.062, -3.8429, -4.8796, -4.4215, -4.1763, -4.4612, -5.3178, -4.73, -4.8698, -4.6211, -4.945, -5.0944, -5.2006, -5.1075, -5.0409, -4.9056, -5.0578, -5.0994, -5.1491, -2.5505, -5.073, -5.5561, -6.4358, -5.6952, -4.3074, -6.092, -4.5887, -3.524, -6.9772, -5.8687, -6.1061, -7.1287, -6.0813, -7.0589, -6.8571, -6.2481, -7.263, -5.103, -6.7737, -5.2631, -6.7003, -4.9533, -7.1262, -6.9366, -7.2009, -6.8473, -6.9182, -7.0454, -4.6749, -3.9299, -3.2637, -4.6386, -5.2875, -4.9394, -4.1949, -5.0162, -5.0898, -4.3145, -5.0199, -4.6917, -5.4244, -5.0399, -5.1884, -4.4686, -4.7189, -4.5407, -4.381, -4.4833, -4.8686, -4.9465, -4.9677, -5.1079, -5.1398, -5.1723, -5.5107, -3.4048, -4.8806, -5.2107, -3.4896, -5.3401, -4.984, -5.9477, -3.1607, -6.1875, -3.9497, -4.6532, -4.4891, -4.6509, -5.4844, -6.2319, -5.7276, -5.4736, -5.6977, -6.2122, -5.4811, -5.758, -5.7969, -5.163, -5.5594, -6.906, -6.574, -6.8139, -6.8154, -6.131, -5.4818, -5.6881, -4.018, -5.7215, -5.9467, -5.6786, -4.6568, -5.2974, -4.7301, -4.2676, -4.0658, -4.6539, -4.5806, -4.6993, -4.5548, -4.8917, -4.8059, -4.6775, -4.7223, -4.9427, -5.2054, -5.1237, -5.1701, -5.1904, -5.1904], \"loglift\": [30.0, 29.0, 28.0, 27.0, 26.0, 25.0, 24.0, 23.0, 22.0, 21.0, 20.0, 19.0, 18.0, 17.0, 16.0, 15.0, 14.0, 13.0, 12.0, 11.0, 10.0, 9.0, 8.0, 7.0, 6.0, 5.0, 4.0, 3.0, 2.0, 1.0, 2.0018, 2.001, 1.9999, 1.9548, 1.929, 1.9237, 1.9146, 1.9085, 1.8867, 1.8866, 1.8695, 1.8672, 1.8357, 1.8056, 1.8015, 1.7835, 1.7819, 1.7734, 1.767, 1.7424, 1.7279, 1.7159, 1.6979, 1.6793, 1.6731, 1.6662, 1.6587, 1.6532, 1.6456, 1.6429, 1.6413, 1.6334, 1.5962, 1.6232, 1.4873, 1.388, 1.4347, 1.0334, 1.3253, 1.242, 1.3067, 1.2373, 1.3605, 1.1231, 0.4608, 1.3789, 0.8503, 0.3477, 0.9783, 1.0304, 0.5531, 0.2454, 0.7967, -0.0834, 0.9301, -0.4052, 0.1177, -0.0428, -0.0195, 0.3051, 2.1777, 2.0796, 2.0396, 2.0377, 1.9997, 1.9853, 1.9705, 1.8999, 1.8421, 1.8054, 1.7626, 1.7263, 1.6673, 1.6008, 1.5552, 1.5419, 1.538, 1.5244, 1.4896, 1.4873, 1.4708, 1.4628, 1.4476, 1.4178, 1.3941, 1.3919, 1.3887, 1.3767, 1.3571, 1.3508, 1.1621, 1.1959, 1.2393, 1.2015, 1.1923, 1.1194, 1.0054, 0.9694, 0.5534, 0.8533, 0.6392, 0.6256, 0.7753, 0.3093, 0.2691, 0.4597, 0.012, 0.3501, 0.1691, 0.7358, 0.5995, 0.5154, -0.1337, 0.3637, 2.2317, 2.2226, 2.1893, 2.1664, 2.1541, 2.1368, 2.1214, 2.1012, 2.0778, 2.0746, 2.056, 2.0379, 2.0358, 2.0351, 2.0325, 2.0308, 1.9529, 1.8881, 1.8874, 1.8562, 1.8174, 1.8149, 1.7609, 1.7564, 1.7408, 1.7384, 1.7371, 1.6624, 1.6585, 1.5934, 1.576, 1.533, 1.4517, 1.1183, 1.3491, 1.1984, 1.13, 1.2598, 1.0614, 1.0429, 0.7264, 0.6132, 1.1485, 0.3279, 0.151, 0.4726, 0.2971, 0.0067, -0.0924, 0.1081, 0.9395, 0.5443, 0.2916, 0.8736, 0.1694, -0.1452, 0.8896, 0.7341, 2.2413, 2.1981, 2.1879, 2.1668, 2.0932, 2.0897, 2.0458, 1.9795, 1.9417, 1.85, 1.8304, 1.7868, 1.7691, 1.7563, 1.7428, 1.7419, 1.7247, 1.7168, 1.672, 1.5833, 1.5737, 1.5299, 1.5066, 1.4911, 1.4403, 1.4322, 1.4289, 1.4221, 1.4201, 1.4139, 1.3267, 1.4034, 1.2831, 1.2559, 1.0704, 0.725, 0.9601, 0.914, 1.1028, 0.6133, 0.2555, 0.2145, 0.827, 0.0687, 0.3642, 0.0197, 0.2034, -0.4731, -0.0341, -0.1665, -0.2129, 0.0146, 0.1265, 2.397, 2.3748, 2.3729, 2.3642, 2.3318, 2.3236, 2.2932, 2.2513, 2.2505, 2.2487, 2.2182, 2.2008, 2.1774, 2.1758, 2.1739, 2.1307, 2.1258, 2.1138, 2.106, 2.0885, 2.0755, 2.0748, 2.0502, 2.0498, 2.0438, 2.0255, 2.0232, 2.0134, 2.0128, 1.9991, 1.8185, 1.8568, 1.7227, 1.6154, 1.6283, 1.7623, 1.845, 1.7996, 1.2632, 1.1378, 1.5262, 1.2256, 0.3466, 0.2635, 0.6057, 0.768, 0.5186, 0.2663, 0.4197, 0.0748, 0.6983, -0.5492, 0.2485, -0.3546, -0.0965, -0.2688, -0.5985, 2.5992, 2.4721, 2.4434, 2.4079, 2.2265, 2.1794, 2.1628, 2.1122, 2.1064, 2.0698, 2.047, 1.9997, 1.9859, 1.9827, 1.9756, 1.9584, 1.9387, 1.9262, 1.8999, 1.8657, 1.8031, 1.798, 1.7706, 1.7641, 1.7585, 1.7172, 1.7025, 1.6961, 1.6774, 1.6415, 1.4352, 1.4358, 1.1509, 1.14, 1.2246, 1.379, 1.5353, 0.8563, 0.8996, 1.2365, 0.393, 0.4729, 0.0126, 0.8457, -0.138, -0.0242, 0.5961, 1.0593, -0.15, -0.7398, 0.0759, 0.1974, -0.1396, -0.0066, 2.6634, 2.6464, 2.6437, 2.57, 2.4928, 2.3906, 2.233, 2.2301, 2.2137, 2.1848, 2.1704, 2.1033, 2.0922, 2.0891, 2.0469, 2.0372, 2.0021, 1.953, 1.8957, 1.8907, 1.8722, 1.796, 1.7706, 1.7389, 1.7203, 1.6886, 1.6486, 1.646, 1.634, 1.626, 1.5269, 1.583, 1.5342, 1.1384, 1.1328, 0.6701, 1.3195, 0.8184, 1.3041, 0.9389, 0.5704, 1.3547, 1.0491, 0.7264, 0.1206, 1.2856, -0.0036, 0.2426, 0.4856, 0.944, -0.3521, -0.2777, -0.3106, -0.0167, -0.1908, -0.2685, -0.0169, 2.5762, 2.5306, 2.5179, 2.5081, 2.4856, 2.4793, 2.4168, 2.3888, 2.3697, 2.3558, 2.3459, 2.2897, 2.2798, 2.2685, 2.2455, 2.2347, 2.219, 2.1774, 2.164, 2.1489, 2.1399, 2.1326, 2.0806, 2.0739, 2.0526, 2.0439, 2.02, 2.0063, 1.98, 1.9364, 1.8, 1.6646, 1.6989, 1.6308, 1.6054, 1.3171, 1.6982, 1.7398, 1.5651, 0.3827, 0.9654, 1.289, 0.1352, 1.4884, 0.0178, 0.0781, 0.2568, 0.3935, 0.5898, 0.3655, 0.446, -0.0548, 1.2638, 0.312, 2.6509, 2.6382, 2.6262, 2.5335, 2.5065, 2.43, 2.3705, 2.3589, 2.3393, 2.3177, 2.2326, 2.2077, 2.0464, 2.0316, 2.0243, 1.9985, 1.9961, 1.9368, 1.9361, 1.9151, 1.886, 1.8431, 1.8357, 1.8185, 1.7517, 1.7364, 1.7324, 1.7299, 1.7172, 1.6441, 1.4286, 1.3996, 1.5637, 1.0663, 1.2144, 0.7228, 1.0783, 1.2065, 0.9036, 0.871, 0.9498, 0.8726, 0.3311, 0.4784, 0.2934, -0.2358, 0.1603, 0.8095, 0.0195, -0.6214, -0.6304, 2.7715, 2.7074, 2.643, 2.4969, 2.4372, 2.4292, 2.4033, 2.3981, 2.261, 2.248, 2.1078, 2.1027, 2.0796, 2.0759, 2.0576, 2.0371, 1.9903, 1.9495, 1.9268, 1.9202, 1.9163, 1.9049, 1.895, 1.8843, 1.8621, 1.8118, 1.6907, 1.6756, 1.6736, 1.6398, 1.6319, 1.6149, 1.1068, 0.9556, 0.9584, 0.6948, 0.4581, 0.43, 0.2202, 0.4091, 0.4834, 0.8332, 0.0284, 0.5133, -0.4292, -0.1976, 0.2204, 0.0284, -0.2838, -0.0577, 0.1377, -0.56, 2.3957, 2.3633, 2.3304, 2.3263, 2.3066, 2.2869, 2.2555, 2.2463, 2.07, 2.0054, 1.9945, 1.8862, 1.8758, 1.8552, 1.7374, 1.7047, 1.609, 1.6078, 1.5005, 1.4932, 1.4408, 1.4371, 1.4226, 1.4122, 1.3948, 1.3895, 1.3654, 1.3635, 1.3216, 1.3006, 1.2912, 1.272, 1.1846, 1.2343, 0.9041, 1.1324, 1.1297, 0.5916, 0.9691, 0.5531, 0.8117, 0.549, 0.0946, 0.471, 0.4792, 0.2515, 0.8252, -0.2459, -0.3222, -0.518, 2.7279, 2.6948, 2.4845, 2.4341, 2.4178, 2.3398, 2.3015, 2.1577, 2.1132, 2.1062, 2.0815, 1.9725, 1.9023, 1.8868, 1.878, 1.8668, 1.8526, 1.8448, 1.8062, 1.7857, 1.7141, 1.7061, 1.6794, 1.661, 1.6456, 1.6362, 1.6104, 1.6017, 1.5836, 1.5778, 1.4951, 1.5022, 1.5436, 1.3607, 0.7981, 1.1285, 0.4774, 0.8723, 0.5784, 0.0228, 0.2626, 1.0044, 0.1734, 0.2101, -0.2947, 0.0658, 0.3397, 0.4774, 0.2367, 0.0297, -0.4884, 0.0128, -0.028, -0.0123, 3.015, 2.8352, 2.4764, 2.275, 2.1218, 2.057, 1.899, 1.8642, 1.8459, 1.8392, 1.7892, 1.7836, 1.7686, 1.7499, 1.7135, 1.7, 1.6921, 1.6753, 1.6569, 1.6085, 1.591, 1.5862, 1.565, 1.4976, 1.4819, 1.4568, 1.3466, 1.3265, 1.2998, 1.2988, 1.0689, 0.9354, 1.0473, 1.1329, 1.0644, 0.8454, 0.9468, 0.8438, 0.4512, 0.6694, 0.4782, 0.8751, 0.6231, 0.7155, 0.2108, 0.3517, 0.1831, 0.0362, -0.1568, -0.0466, 0.0345, -0.6474, -0.0365, 0.1023, -0.0924, 2.9221, 2.9205, 2.6818, 2.6305, 2.6215, 2.5338, 2.5305, 2.4033, 2.3669, 2.3651, 2.3541, 2.3478, 2.3001, 2.298, 2.2924, 2.2868, 2.2647, 2.2572, 2.2497, 2.1841, 2.1498, 2.1054, 2.0684, 1.9954, 1.9886, 1.8696, 1.8522, 1.8286, 1.7932, 1.7854, 1.7663, 1.7635, 1.6498, 1.7097, 1.7468, 1.6807, 1.3768, 1.4765, 1.08, 0.6359, 0.3514, 0.5882, 0.4302, 0.5579, 0.0415, 0.3439, 0.0161, -0.4784, -0.3958, 0.1372, 0.7285, 0.2493, 0.4556, 0.4802, 0.1796]}, \"token.table\": {\"Topic\": [1, 2, 3, 4, 5, 6, 7, 8, 9, 10, 11, 12, 13, 14, 1, 2, 3, 4, 5, 6, 7, 8, 9, 10, 11, 12, 13, 14, 1, 2, 3, 4, 5, 6, 7, 8, 9, 10, 11, 12, 13, 14, 1, 2, 3, 4, 5, 6, 7, 8, 9, 12, 13, 14, 1, 2, 3, 4, 5, 6, 7, 8, 9, 10, 11, 12, 13, 14, 1, 2, 3, 4, 5, 6, 7, 8, 9, 10, 11, 12, 13, 14, 1, 2, 3, 4, 5, 6, 7, 8, 9, 10, 11, 12, 13, 14, 1, 2, 3, 4, 5, 7, 8, 9, 10, 11, 12, 13, 14, 1, 2, 3, 4, 5, 6, 7, 8, 9, 10, 11, 12, 13, 14, 1, 2, 3, 4, 5, 6, 7, 8, 9, 10, 11, 12, 13, 14, 1, 2, 3, 4, 6, 7, 8, 9, 10, 11, 12, 13, 1, 2, 3, 4, 5, 6, 7, 8, 9, 10, 11, 12, 13, 14, 1, 2, 4, 5, 6, 10, 11, 12, 13, 1, 2, 3, 4, 5, 6, 7, 8, 9, 11, 12, 13, 3, 4, 6, 7, 9, 11, 12, 14, 1, 2, 3, 4, 5, 6, 7, 8, 9, 10, 11, 12, 13, 1, 2, 3, 4, 5, 6, 8, 9, 10, 11, 12, 13, 14, 1, 2, 3, 4, 5, 6, 7, 8, 10, 11, 12, 13, 1, 2, 5, 8, 9, 11, 12, 13, 14, 1, 2, 3, 4, 5, 6, 7, 10, 11, 12, 13, 14, 3, 4, 5, 6, 7, 9, 10, 12, 13, 1, 2, 3, 5, 6, 7, 9, 10, 11, 13, 14, 1, 2, 3, 4, 5, 6, 7, 8, 9, 10, 11, 12, 13, 14, 1, 2, 3, 4, 5, 6, 7, 8, 9, 10, 11, 12, 13, 14, 1, 2, 3, 4, 5, 6, 7, 9, 10, 11, 12, 14, 1, 2, 3, 4, 5, 6, 7, 8, 9, 10, 11, 12, 13, 14, 1, 2, 3, 4, 5, 6, 7, 8, 9, 10, 11, 12, 13, 14, 1, 2, 3, 4, 5, 6, 7, 8, 9, 10, 11, 12, 13, 14, 1, 2, 3, 4, 5, 6, 7, 9, 11, 12, 13, 14, 1, 2, 3, 4, 5, 6, 7, 8, 9, 10, 11, 12, 13, 14, 1, 2, 3, 4, 5, 6, 7, 8, 9, 10, 11, 12, 1, 2, 3, 4, 5, 6, 7, 10, 11, 12, 14, 1, 2, 4, 5, 6, 7, 8, 9, 10, 11, 12, 13, 1, 3, 4, 5, 6, 7, 8, 9, 10, 11, 12, 13, 14, 1, 2, 3, 4, 5, 6, 7, 8, 9, 10, 11, 12, 13, 1, 5, 6, 8, 12, 1, 2, 4, 6, 8, 10, 11, 13, 1, 3, 6, 7, 9, 10, 11, 12, 1, 2, 3, 4, 5, 7, 9, 10, 11, 12, 13, 14, 1, 2, 3, 4, 5, 6, 7, 8, 9, 10, 11, 12, 13, 14, 1, 2, 3, 4, 5, 6, 7, 8, 10, 11, 12, 13, 14, 1, 3, 4, 5, 6, 9, 10, 11, 14, 1, 2, 3, 4, 6, 7, 8, 10, 11, 13, 1, 2, 5, 6, 13, 14, 1, 3, 4, 5, 6, 7, 8, 10, 11, 12, 13, 14, 1, 2, 3, 4, 5, 6, 7, 8, 10, 11, 12, 13, 14, 1, 2, 3, 4, 5, 6, 7, 8, 9, 10, 11, 12, 13, 14, 1, 2, 3, 4, 5, 7, 9, 11, 12, 13, 1, 2, 3, 4, 5, 6, 7, 8, 9, 10, 11, 12, 13, 14, 1, 2, 3, 4, 5, 6, 7, 8, 11, 12, 13, 1, 2, 3, 4, 5, 6, 7, 8, 9, 10, 11, 12, 13, 14, 1, 2, 3, 4, 5, 6, 7, 9, 10, 11, 12, 13, 14, 1, 2, 3, 4, 5, 6, 7, 8, 9, 10, 11, 12, 13, 14, 1, 2, 3, 4, 5, 6, 7, 8, 9, 10, 11, 13, 14, 1, 2, 3, 4, 5, 6, 7, 8, 9, 10, 11, 12, 13, 14, 1, 2, 3, 4, 5, 6, 7, 8, 9, 10, 11, 12, 13, 14, 1, 2, 3, 4, 5, 8, 10, 11, 12, 13, 14, 1, 2, 3, 4, 5, 6, 7, 8, 9, 10, 11, 12, 13, 14, 2, 3, 4, 6, 8, 9, 11, 12, 13, 1, 2, 3, 4, 5, 6, 8, 10, 11, 12, 13, 14, 1, 2, 3, 4, 5, 6, 7, 8, 9, 10, 11, 12, 13, 14, 2, 3, 4, 7, 8, 10, 11, 13, 14, 1, 2, 3, 4, 5, 6, 7, 8, 9, 10, 11, 12, 13, 14, 2, 3, 4, 5, 9, 11, 12, 13, 3, 4, 5, 8, 9, 10, 12, 13, 14, 1, 2, 3, 4, 6, 8, 1, 2, 3, 5, 6, 7, 8, 11, 12, 13, 14, 1, 3, 5, 6, 10, 13, 3, 5, 7, 8, 9, 12, 1, 3, 4, 5, 8, 9, 10, 12, 13, 14, 1, 2, 3, 4, 5, 6, 7, 8, 9, 10, 11, 12, 13, 14, 1, 2, 3, 4, 5, 6, 7, 8, 10, 11, 13, 1, 2, 3, 4, 5, 6, 7, 8, 9, 10, 11, 12, 13, 14, 1, 2, 3, 4, 5, 6, 7, 8, 9, 10, 11, 12, 1, 2, 3, 5, 6, 9, 11, 12, 13, 14, 1, 2, 3, 4, 5, 6, 7, 8, 9, 10, 11, 12, 13, 14, 2, 3, 4, 5, 6, 7, 10, 11, 13, 14, 1, 2, 4, 5, 6, 7, 8, 9, 10, 11, 12, 13, 14, 1, 2, 3, 4, 5, 6, 7, 8, 9, 10, 11, 12, 13, 14, 1, 2, 3, 4, 5, 7, 8, 9, 10, 11, 13, 14, 1, 2, 3, 4, 5, 6, 7, 8, 9, 10, 11, 12, 13, 14, 1, 2, 3, 4, 5, 6, 7, 8, 9, 10, 11, 12, 13, 14, 1, 2, 3, 4, 5, 6, 8, 9, 11, 12, 13, 14, 1, 2, 3, 4, 5, 6, 7, 8, 9, 10, 11, 12, 13, 14, 1, 2, 3, 4, 6, 7, 8, 9, 12, 13, 14, 1, 2, 3, 4, 5, 6, 7, 8, 9, 10, 11, 12, 13, 14, 1, 2, 3, 4, 6, 7, 8, 1, 2, 3, 4, 5, 6, 7, 8, 9, 10, 11, 12, 13, 14, 1, 3, 5, 7, 9, 12, 13, 1, 2, 3, 4, 5, 6, 7, 8, 9, 11, 12, 13, 14, 1, 2, 3, 4, 5, 6, 7, 9, 10, 11, 12, 13, 14, 1, 2, 5, 11, 12, 13, 1, 2, 3, 4, 7, 8, 10, 11, 12, 13, 14, 1, 2, 3, 4, 5, 6, 7, 8, 9, 10, 11, 12, 13, 14, 1, 2, 3, 4, 5, 6, 7, 10, 11, 12, 14, 1, 2, 4, 5, 6, 7, 8, 9, 10, 11, 12, 13, 14, 1, 2, 3, 4, 5, 6, 7, 8, 9, 10, 11, 12, 13, 14, 1, 2, 3, 4, 5, 6, 7, 8, 9, 10, 11, 12, 13, 14, 1, 2, 3, 4, 5, 6, 7, 8, 9, 10, 11, 12, 13, 14, 3, 4, 5, 6, 7, 9, 10, 11, 12, 13, 14, 1, 2, 3, 4, 5, 6, 7, 9, 10, 11, 12, 13, 14, 2, 3, 4, 7, 8, 9, 11, 12, 13, 1, 2, 3, 4, 5, 6, 7, 8, 9, 10, 11, 12, 13, 14, 2, 3, 4, 7, 9, 12, 1, 2, 3, 4, 5, 6, 7, 8, 9, 10, 11, 12, 13, 14, 1, 2, 3, 4, 5, 6, 7, 8, 9, 10, 11, 12, 13, 14, 1, 2, 3, 4, 6, 8, 9, 10, 11, 13, 1, 2, 3, 4, 5, 6, 7, 8, 9, 10, 11, 12, 13, 14, 2, 3, 4, 8, 9, 11, 12, 2, 3, 8, 9, 12, 1, 2, 3, 4, 5, 6, 7, 9, 12, 13, 14, 1, 2, 3, 4, 5, 6, 7, 8, 9, 10, 11, 12, 13, 1, 3, 4, 5, 7, 8, 9, 10, 11, 13, 1, 2, 3, 4, 5, 6, 7, 8, 9, 10, 11, 12, 13, 14, 3, 7, 8, 9, 11, 12, 1, 2, 3, 4, 5, 6, 9, 10, 11, 13, 1, 2, 5, 6, 7, 8, 10, 11, 12, 13, 14, 4, 5, 6, 13, 14, 1, 2, 3, 4, 5, 6, 7, 8, 9, 10, 11, 12, 13, 14, 1, 2, 3, 4, 6, 7, 8, 9, 10, 11, 12, 14, 1, 2, 3, 4, 5, 6, 7, 8, 9, 10, 11, 12, 13, 14, 1, 2, 3, 4, 5, 6, 7, 8, 9, 10, 11, 12, 13, 14, 2, 4, 5, 6, 10, 13, 14, 1, 2, 3, 4, 5, 6, 7, 8, 9, 10, 11, 12, 13, 14, 2, 3, 8, 9, 10, 11, 12, 13, 14, 1, 2, 3, 4, 5, 6, 7, 8, 9, 10, 11, 12, 13, 14, 1, 2, 3, 4, 5, 6, 7, 8, 9, 10, 11, 12, 13, 14, 1, 2, 3, 4, 5, 6, 7, 8, 9, 10, 11, 12, 13, 14, 1, 3, 4, 5, 7, 8, 9, 10, 11, 12, 13, 1, 4, 7, 9, 10, 11, 2, 3, 4, 5, 8, 11, 12, 13, 14, 1, 2, 3, 4, 5, 6, 7, 8, 10, 12, 13, 14, 1, 2, 3, 4, 5, 7, 8, 9, 10, 11, 12, 13, 14, 1, 2, 3, 4, 5, 6, 7, 8, 9, 10, 11, 12, 13, 1, 2, 3, 7, 8, 11, 12, 13, 14, 1, 2, 4, 6, 7, 9, 10, 12, 1, 2, 6, 7, 9, 10, 12, 2, 3, 4, 7, 9, 10, 12, 13, 1, 2, 4, 6, 7, 8, 11, 12, 13, 14, 1, 2, 3, 4, 5, 6, 7, 8, 9, 10, 11, 12, 13, 14, 1, 3, 4, 5, 6, 7, 8, 9, 10, 11, 12, 1, 2, 3, 4, 5, 6, 7, 8, 9, 11, 12, 13, 14, 1, 2, 3, 4, 5, 6, 7, 8, 9, 10, 11, 12, 13, 14, 1, 2, 3, 4, 5, 6, 7, 8, 9, 10, 11, 12, 13, 14, 1, 4, 5, 6, 11, 12, 13, 14, 2, 3, 4, 5, 6, 7, 8, 9, 10, 11, 12, 13, 14, 1, 3, 4, 6, 7, 8, 9, 10, 11, 12, 13, 14, 1, 4, 6, 7, 1, 2, 3, 4, 5, 6, 7, 8, 9, 10, 11, 12, 13, 14, 5, 6, 8, 10, 11, 12, 14, 1, 2, 3, 4, 5, 6, 7, 8, 9, 10, 11, 12, 13, 14, 1, 2, 5, 6, 7, 8, 9, 11, 12, 13, 14, 1, 2, 4, 6, 9, 10, 12, 14, 2, 3, 4, 6, 9, 12, 13, 14, 1, 5, 6, 7, 8, 10, 11, 12, 13, 14, 1, 2, 3, 4, 5, 6, 7, 8, 9, 10, 11, 12, 13, 14, 1, 2, 4, 7, 11, 14, 1, 2, 3, 4, 5, 6, 7, 8, 9, 10, 11, 12, 13, 14, 1, 2, 3, 4, 5, 6, 7, 8, 11, 12, 13, 2, 3, 5, 6, 7, 9, 10, 11, 12, 13, 3, 4, 6, 8, 9, 14, 3, 6, 7, 8, 9, 10, 12, 13, 14, 1, 3, 7, 9, 11, 1, 2, 3, 4, 5, 6, 7, 8, 9, 10, 11, 12, 13, 14, 2, 4, 5, 6, 8, 9, 10, 11, 12, 13, 14, 1, 2, 3, 4, 5, 6, 7, 8, 9, 10, 11, 12, 13, 14, 1, 2, 3, 4, 5, 6, 7, 8, 9, 10, 11, 12, 13, 14, 1, 2, 3, 4, 5, 6, 7, 8, 9, 10, 11, 12, 13, 14, 1, 2, 3, 4, 5, 6, 7, 8, 9, 10, 11, 12, 13, 14, 1, 2, 3, 5, 6, 7, 11, 12, 13, 14, 1, 2, 3, 4, 5, 6, 7, 8, 9, 10, 11, 12, 13, 14, 1, 2, 3, 4, 5, 8, 10, 11, 12, 13, 1, 2, 4, 5, 6, 7, 8, 9, 11, 12, 13, 1, 2, 4, 5, 6, 8, 9, 12, 13, 14, 1, 2, 3, 4, 5, 6, 7, 8, 9, 10, 13, 1, 2, 3, 4, 5, 6, 7, 8, 9, 10, 11, 12, 13, 1, 2, 3, 4, 5, 6, 7, 8, 9, 10, 11, 12, 13, 1, 3, 4, 5, 6, 8, 9, 10, 12, 13, 14, 1, 2, 3, 4, 6, 7, 8, 9, 10, 11, 12, 13, 14, 1, 2, 3, 4, 6, 7, 8, 9, 10, 11, 12, 13, 14, 1, 2, 3, 5, 6, 7, 8, 10, 11, 12, 13, 14, 1, 2, 3, 4, 5, 6, 7, 8, 9, 10, 11, 12, 13, 14, 1, 2, 3, 4, 5, 6, 7, 8, 9, 10, 11, 12, 13, 14, 1, 4, 6, 8, 9, 11, 12, 13, 1, 2, 3, 4, 5, 6, 7, 8, 9, 10, 11, 12, 13, 14, 2, 3, 4, 5, 7, 11, 13, 14, 2, 5, 6, 7, 8, 11, 12, 13, 1, 2, 4, 5, 6, 8, 9, 10, 11, 12, 13, 2, 3, 4, 5, 11, 12, 13, 14, 1, 3, 4, 5, 6, 7, 8, 9, 10, 11, 12, 13, 14, 1, 2, 3, 4, 5, 6, 7, 8, 9, 10, 11, 12, 13, 14, 1, 2, 3, 4, 5, 6, 7, 8, 9, 10, 11, 12, 13, 14, 1, 2, 3, 5, 7, 8, 9, 11, 12, 13, 14, 1, 2, 3, 4, 5, 6, 7, 8, 9, 10, 11, 12, 13, 14, 1, 2, 3, 4, 5, 6, 7, 8, 9, 10, 11, 12, 13, 14, 1, 2, 3, 4, 5, 6, 9, 11, 12, 13, 1, 2, 3, 4, 5, 6, 7, 11, 12, 13, 1, 2, 3, 4, 6, 9, 10, 12, 13, 14, 1, 2, 3, 4, 5, 6, 7, 8, 9, 10, 11, 12, 13, 14, 2, 3, 4, 5, 6, 7, 8, 9, 10, 11, 13, 14, 1, 2, 3, 4, 5, 6, 7, 8, 9, 10, 11, 12, 13, 14, 1, 2, 3, 6, 7, 8, 9, 10, 2, 3, 5, 6, 9, 10, 11, 13, 14, 1, 2, 3, 4, 5, 6, 8, 9, 11, 12, 13, 14, 1, 2, 3, 4, 5, 6, 7, 8, 9, 10, 11, 12, 13, 1, 3, 4, 9, 12, 13, 1, 2, 5, 8, 12, 13, 1, 2, 4, 5, 6, 7, 11, 12, 14, 1, 2, 3, 4, 5, 6, 7, 9, 10, 11, 12, 13, 14, 2, 3, 4, 7, 10, 12, 13, 14, 1, 3, 4, 6, 7, 8, 9, 11, 12, 13, 1, 2, 4, 5, 6, 7, 8, 9, 10, 11, 12, 13, 14, 1, 5, 6, 9, 10, 11, 12, 13, 14, 1, 2, 3, 4, 5, 6, 7, 8, 9, 10, 11, 12, 13, 14, 1, 2, 3, 4, 5, 6, 7, 8, 9, 10, 11, 12, 13, 14, 1, 2, 5, 7, 9, 10, 11, 12, 1, 2, 3, 4, 8, 9, 11, 12, 13, 1, 2, 3, 4, 5, 6, 7, 8, 9, 10, 11, 12, 13, 14, 1, 2, 3, 4, 5, 7, 8, 9, 11, 12, 13, 1, 2, 4, 5, 6, 7, 8, 9, 10, 11, 12, 13, 14, 1, 2, 3, 4, 5, 6, 7, 8, 9, 10, 11, 12, 13, 14, 1, 2, 3, 4, 5, 6, 7, 8, 9, 10, 11, 12, 13, 14, 1, 2, 3, 4, 5, 6, 7, 8, 9, 10, 11, 12, 13, 14, 1, 2, 3, 4, 5, 6, 7, 8, 9, 10, 11, 12, 13, 14, 2, 3, 4, 9, 10, 11, 12, 1, 2, 4, 7, 10, 11, 13, 14, 2, 3, 4, 7, 8, 9, 10, 11, 12, 14, 1, 4, 5, 6, 10, 11, 13, 14, 1, 2, 3, 4, 5, 6, 7, 8, 9, 10, 11, 12, 13, 14, 1, 2, 3, 4, 5, 6, 8, 9, 10, 11, 12, 13, 14, 3, 4, 6, 9, 10, 11, 12, 1, 2, 3, 4, 5, 6, 7, 8, 9, 10, 11, 12, 13, 14, 1, 2, 3, 4, 5, 7, 9, 10, 12, 13, 14, 1, 2, 3, 4, 5, 6, 7, 9, 11, 12, 13, 1, 2, 3, 4, 7, 9, 10, 11, 12, 13, 14, 1, 2, 3, 4, 6, 9, 10, 12, 13, 14, 1, 3, 4, 5, 6, 7, 9, 10, 13, 14, 1, 2, 3, 4, 5, 6, 7, 8, 9, 10, 11, 12, 13, 14, 1, 2, 4, 5, 6, 7, 8, 9, 10, 11, 12, 13, 14, 3, 4, 7, 8, 9, 10, 12, 1, 2, 5, 7, 8, 9, 11, 12, 13, 14, 1, 2, 3, 5, 6, 7, 8, 9, 10, 11, 12, 13, 14, 1, 2, 3, 4, 5, 6, 7, 8, 9, 10, 11, 12, 13, 14, 1, 2, 3, 4, 5, 6, 7, 8, 9, 10, 11, 12, 13, 14, 1, 2, 3, 4, 6, 8, 10, 11, 3, 4, 5, 6, 7, 8, 9, 10, 11, 12, 2, 3, 4, 5, 6, 7, 8, 10, 11, 12, 13, 14, 6, 11, 12, 1, 2, 3, 4, 5, 6, 7, 8, 9, 10, 11, 12, 13, 14, 1, 2, 3, 4, 5, 6, 7, 8, 9, 10, 11, 12, 13, 14, 1, 2, 4, 6, 9, 10, 12, 13, 14, 1, 2, 3, 4, 5, 6, 7, 8, 9, 10, 11, 12, 13, 1, 2, 3, 4, 5, 6, 8, 9, 10, 11, 13, 1, 2, 4, 5, 6, 7, 9, 10, 11, 12, 13, 14, 1, 2, 3, 4, 5, 6, 7, 8, 9, 10, 11, 12, 13, 14, 1, 2, 3, 4, 5, 6, 7, 8, 9, 10, 11, 12, 13, 2, 4, 5, 6, 7, 8, 9, 10, 11, 12, 14, 4, 5, 6, 10, 11, 12, 13, 14, 3, 5, 6, 9, 10, 11, 12, 13, 1, 2, 3, 4, 5, 6, 7, 8, 9, 10, 11, 12, 13, 14, 1, 2, 3, 4, 5, 6, 9, 11, 12, 13, 14, 1, 2, 3, 4, 5, 6, 7, 8, 9, 10, 11, 12, 13, 14, 1, 2, 3, 4, 8, 11, 13, 1, 2, 3, 4, 5, 6, 7, 8, 9, 10, 11, 12, 13, 14, 1, 2, 3, 4, 5, 6, 7, 8, 9, 10, 11, 12, 13, 14, 1, 2, 3, 4, 5, 7, 8, 10, 11, 13, 14, 1, 3, 4, 5, 7, 9, 11, 12, 13, 14, 1, 2, 5, 6, 12, 13, 1, 2, 3, 4, 5, 6, 7, 8, 9, 10, 11, 12, 13, 1, 2, 3, 4, 5, 6, 7, 8, 9, 10, 11, 12, 13, 14, 1, 2, 3, 4, 5, 6, 7, 8, 9, 10, 11, 12, 13, 14, 1, 2, 3, 4, 5, 6, 7, 8, 9, 10, 11, 12, 13, 14, 1, 2, 4, 9, 11, 13, 1, 2, 3, 4, 5, 6, 7, 8, 9, 10, 11, 12, 13, 14, 1, 2, 3, 4, 5, 6, 7, 8, 9, 10, 11, 12, 13, 14, 1, 2, 3, 4, 5, 6, 7, 8, 9, 10, 11, 12, 13, 14, 1, 2, 3, 4, 5, 6, 7, 8, 9, 10, 11, 12, 13, 14, 2, 3, 6, 8, 9, 10, 11, 12, 13, 14, 1, 2, 3, 4, 5, 6, 7, 8, 9, 10, 11, 12, 13, 14, 1, 3, 4, 6, 8, 9, 10, 11, 12, 13, 1, 3, 4, 6, 7, 8, 12, 13, 14, 1, 2, 3, 4, 5, 6, 7, 8, 9, 10, 11, 12, 13, 14, 1, 2, 3, 4, 5, 6, 7, 8, 9, 10, 11, 12, 13, 1, 2, 3, 4, 5, 6, 7, 8, 9, 10, 11, 12, 13, 14, 1, 3, 4, 6, 7, 8, 9, 10, 11, 12, 13, 14, 1, 2, 3, 4, 6, 7, 9, 10, 11, 12, 13, 14, 2, 3, 4, 5, 8, 9, 10, 12, 14, 1, 2, 3, 4, 5, 7, 9, 10, 11, 12, 13, 14, 1, 2, 3, 4, 5, 6, 7, 8, 9, 10, 11, 12, 13, 14, 1, 2, 4, 5, 6, 7, 8, 9, 11, 12, 13, 14, 1, 2, 3, 4, 5, 6, 7, 8, 9, 10, 11, 12, 13, 14, 1, 2, 3, 4, 5, 6, 7, 8, 9, 10, 11, 12, 13, 14, 2, 3, 4, 7, 10, 12, 13, 1, 2, 3, 4, 5, 6, 7, 8, 9, 10, 11, 12, 13, 14, 1, 3, 6, 8, 9, 11, 13, 14, 1, 2, 3, 4, 5, 6, 7, 10, 11, 12, 14, 1, 2, 5, 7, 8, 11, 12, 13, 14, 1, 2, 3, 4, 5, 6, 7, 8, 9, 10, 11, 12, 13, 14, 1, 2, 5, 6, 7, 8, 10, 11, 12, 13, 14, 1, 2, 3, 4, 5, 6, 7, 8, 9, 10, 11, 12, 13, 14, 3, 4, 5, 6, 13, 14, 1, 2, 3, 4, 5, 6, 7, 8, 9, 10, 11, 12, 13, 14, 1, 3, 4, 6, 7, 10, 11, 12, 13, 14, 1, 2, 3, 4, 5, 6, 7, 8, 9, 10, 11, 12, 13, 14, 1, 2, 3, 4, 6, 7, 10, 11, 12, 14, 1, 2, 3, 4, 5, 6, 7, 8, 9, 10, 11, 12, 13, 14, 2, 3, 5, 7, 8, 9, 10, 11, 12, 13, 14, 1, 2, 3, 4, 5, 6, 7, 9, 10, 11, 12, 13, 14, 1, 2, 3, 4, 5, 6, 7, 8, 9, 10, 11, 12, 13, 14, 1, 2, 3, 4, 5, 6, 7, 8, 9, 10, 11, 12, 13, 14, 1, 2, 3, 9, 11, 13, 14, 1, 2, 3, 4, 5, 7, 8, 9, 10, 11, 13, 1, 2, 3, 4, 6, 7, 9, 10, 11, 1, 3, 4, 5, 6, 9, 11, 12, 13, 1, 4, 6, 7, 8, 9, 10, 12, 13, 14, 1, 2, 3, 4, 5, 6, 7, 8, 9, 10, 11, 12, 13, 14, 1, 2, 4, 6, 7, 9, 10, 12, 13, 14, 1, 2, 3, 4, 5, 6, 7, 8, 9, 10, 11, 12, 13, 14, 1, 2, 4, 5, 6, 7, 8, 10, 12, 13, 14, 1, 2, 3, 4, 5, 6, 7, 8, 9, 10, 11, 12, 13, 14, 1, 2, 3, 4, 5, 6, 7, 8, 9, 10, 11, 12, 13, 14, 1, 2, 3, 4, 5, 6, 7, 8, 9, 10, 11, 12, 13, 14, 1, 2, 3, 4, 5, 6, 7, 8, 9, 10, 11, 12, 13, 14, 1, 2, 3, 4, 5, 6, 8, 9, 10, 11, 12, 14, 1, 2, 3, 4, 5, 7, 8, 10, 11, 12, 13, 14, 1, 2, 3, 4, 5, 6, 7, 8, 9, 10, 11, 12, 13, 14, 1, 2, 3, 4, 5, 6, 7, 8, 9, 10, 11, 12, 13, 14, 1, 4, 5, 6, 7, 9, 12, 13, 14, 1, 2, 3, 4, 5, 6, 7, 8, 9, 10, 11, 12, 13, 14, 2, 3, 4, 5, 8, 10, 12, 13, 14, 1, 2, 6, 7, 8, 9, 10, 11, 12, 2, 3, 4, 5, 6, 7, 9, 10, 11, 12, 2, 4, 5, 6, 7, 8, 9, 10, 11, 13, 14, 1, 2, 3, 4, 5, 6, 7, 8, 10, 11, 12, 13, 1, 2, 3, 4, 5, 6, 7, 8, 9, 10, 11, 12, 13, 14, 1, 2, 3, 4, 5, 6, 7, 8, 10, 11, 13, 14, 1, 2, 3, 5, 6, 9, 11, 12, 13, 14, 1, 2, 3, 4, 5, 6, 7, 8, 9, 10, 11, 12, 13, 14, 1, 2, 4, 5, 6, 7, 10, 11, 12, 13, 14, 1, 2, 3, 4, 5, 6, 7, 8, 9, 10, 11, 12, 13, 14, 1, 2, 3, 4, 5, 7, 8, 9, 10, 11, 12, 13, 14, 1, 3, 4, 7, 8, 9, 11, 12, 13, 14, 1, 2, 3, 4, 5, 6, 7, 8, 9, 10, 11, 12, 13, 14, 1, 2, 4, 6, 7, 10, 13, 1, 2, 3, 4, 6, 7, 8, 10, 11, 12, 13, 14, 1, 2, 3, 4, 5, 6, 7, 8, 9, 10, 11, 12, 13, 14, 1, 2, 3, 4, 5, 6, 7, 9, 10, 11, 12, 13, 14, 1, 2, 3, 4, 5, 6, 7, 8, 9, 10, 11, 12, 13, 14, 1, 4, 5, 6, 9, 11, 13, 14, 1, 2, 3, 4, 5, 6, 7, 8, 9, 10, 11, 12, 13, 14, 1, 2, 3, 4, 6, 7, 8, 10, 11, 12, 13, 1, 2, 3, 4, 5, 6, 7, 8, 9, 10, 11, 12, 13, 14, 1, 2, 3, 4, 5, 6, 7, 8, 9, 10, 11, 12, 13, 14, 1, 4, 6, 7, 9, 10, 11, 12, 13, 14, 2, 4, 6, 7, 8, 9, 10, 11, 12, 13, 1, 2, 3, 5, 6, 7, 9, 10, 12, 13, 14, 1, 2, 3, 4, 5, 6, 7, 8, 9, 10, 11, 12, 13, 14, 1, 2, 3, 4, 5, 6, 7, 8, 9, 10, 11, 12, 13, 14, 1, 2, 3, 4, 5, 6, 7, 8, 9, 10, 11, 12, 13, 14, 2, 3, 4, 5, 6, 7, 8, 9, 10, 11, 13, 14, 2, 4, 5, 6, 7, 10, 11, 12, 13, 14, 1, 2, 3, 4, 5, 6, 7, 8, 9, 10, 11, 12, 13, 1, 2, 3, 4, 5, 6, 7, 9, 10, 11, 12, 13, 14, 1, 2, 3, 4, 5, 6, 7, 8, 9, 10, 11, 12, 13, 14, 1, 2, 3, 4, 5, 6, 7, 8, 9, 10, 11, 12, 13, 14, 1, 2, 4, 7, 8, 9, 11, 12, 13, 1, 2, 3, 4, 5, 6, 7, 8, 9, 10, 11, 12, 13, 14, 1, 2, 3, 4, 7, 8, 9, 10, 12, 13, 14, 1, 4, 5, 9, 10, 11, 12, 13, 1, 2, 5, 7, 8, 9, 11, 13, 14, 1, 2, 3, 4, 5, 6, 7, 8, 9, 10, 11, 12, 13, 14, 1, 2, 3, 4, 5, 6, 7, 8, 9, 10, 11, 12, 13, 14, 1, 2, 5, 7, 9, 11, 12, 13, 1, 2, 3, 4, 5, 6, 7, 8, 10, 11, 12, 13, 14, 1, 2, 3, 4, 5, 6, 7, 8, 9, 10, 11, 12, 13, 14, 1, 2, 5, 8, 12, 13, 14, 1, 2, 3, 4, 5, 6, 7, 8, 9, 10, 11, 12, 13, 14, 1, 2, 3, 4, 5, 6, 7, 8, 9, 10, 11, 12, 13, 14, 1, 2, 3, 4, 5, 6, 7, 8, 9, 10, 11, 12, 13, 14, 1, 2, 3, 4, 5, 6, 7, 8, 9, 10, 11, 12, 13, 14, 1, 2, 3, 4, 5, 6, 7, 8, 9, 10, 11, 12, 13, 14, 1, 2, 5, 6, 8, 9, 10, 11, 12, 1, 2, 3, 4, 5, 6, 7, 8, 9, 10, 11, 12, 13, 14, 1, 2, 3, 4, 5, 6, 7, 8, 10, 11, 12, 13, 14, 1, 2, 3, 4, 5, 6, 7, 8, 9, 10, 11, 12, 13, 14, 1, 5, 6, 7, 8, 9, 10, 11, 12, 13, 1, 2, 4, 6, 7, 8, 9, 10, 12, 13, 1, 2, 3, 4, 5, 6, 7, 9, 10, 11, 12, 13, 14, 1, 2, 3, 5, 6, 7, 8, 9, 10, 11, 12, 13, 14, 1, 2, 3, 4, 5, 6, 7, 8, 9, 10, 11, 12, 13, 14, 1, 5, 7, 8, 9, 12, 13, 14, 1, 2, 3, 4, 5, 7, 8, 9, 10, 11, 13, 1, 2, 3, 4, 5, 6, 7, 8, 9, 10, 11, 12, 13, 14, 1, 2, 3, 4, 5, 6, 7, 8, 9, 10, 11, 12, 13, 14, 2, 3, 4, 6, 7, 8, 9, 10, 11, 12, 13, 14, 1, 2, 3, 4, 5, 6, 7, 8, 9, 10, 11, 12, 14, 1, 2, 3, 4, 5, 6, 7, 8, 9, 10, 11, 12, 13, 14, 1, 2, 3, 4, 5, 6, 7, 8, 9, 10, 11, 12, 13, 14, 1, 2, 3, 4, 5, 6, 7, 8, 9, 10, 11, 12, 13, 14, 2, 3, 4, 6, 7, 8, 9, 10, 12, 13, 1, 2, 3, 4, 6, 7, 8, 9, 11, 12, 13, 14, 1, 2, 3, 4, 5, 6, 7, 8, 9, 10, 11, 12, 13, 14, 1, 2, 3, 4, 5, 6, 7, 8, 9, 10, 11, 12, 13, 14, 2, 3, 5, 6, 7, 9, 10, 11, 12, 13, 14, 1, 2, 3, 4, 5, 6, 7, 8, 9, 10, 11, 12, 13, 14, 1, 2, 3, 4, 5, 6, 7, 8, 9, 10, 11, 12, 13, 14, 1, 2, 6, 13, 1, 2, 4, 6, 7, 8, 10, 11, 12, 3, 6, 8, 9, 11, 14, 1, 2, 3, 4, 5, 7, 8, 9, 11, 12, 13, 14, 1, 2, 3, 4, 5, 6, 7, 8, 9, 10, 11, 12, 13, 14, 1, 2, 3, 4, 5, 6, 7, 8, 9, 10, 11, 12, 13, 14, 1, 3, 7, 10, 11, 12, 13, 1, 2, 3, 4, 7, 8, 9, 10, 11, 12, 13, 1, 2, 3, 4, 5, 6, 7, 8, 9, 10, 11, 12, 13, 14, 1, 2, 3, 4, 5, 6, 7, 8, 9, 10, 11, 12, 13, 14, 1, 2, 3, 4, 5, 6, 7, 8, 9, 10, 11, 12, 13, 14, 1, 2, 3, 4, 5, 6, 7, 8, 9, 10, 11, 12, 13, 14, 1, 2, 3, 4, 5, 6, 7, 8, 9, 10, 11, 12, 13, 14, 1, 2, 3, 4, 5, 6, 7, 8, 9, 10, 11, 12, 13, 14, 1, 2, 3, 4, 5, 6, 7, 8, 9, 10, 11, 12, 13, 14, 1, 2, 4, 6, 7, 8, 10, 13, 14, 2, 3, 5, 7, 8, 9, 10, 11, 12, 1, 2, 3, 4, 5, 6, 7, 8, 9, 10, 11, 12, 13, 14, 1, 2, 3, 4, 5, 6, 7, 8, 9, 10, 11, 12, 13, 14, 1, 2, 4, 5, 6, 7, 8, 9, 10, 11, 12, 13, 1, 3, 4, 9, 10, 11, 13, 1, 2, 3, 4, 11, 13, 1, 2, 3, 4, 6, 7, 8, 10, 11, 12, 13, 14, 1, 2, 3, 4, 5, 6, 7, 8, 9, 10, 11, 12, 13, 14, 1, 2, 3, 4, 5, 6, 7, 8, 9, 10, 11, 12, 13, 14, 1, 2, 3, 4, 9, 11, 12, 13, 1, 2, 3, 4, 5, 6, 7, 8, 9, 10, 11, 12, 13, 14, 1, 2, 3, 4, 5, 6, 7, 8, 9, 10, 11, 12, 13, 14, 1, 2, 3, 4, 5, 7, 8, 9, 10, 11, 12, 13, 14, 2, 3, 4, 5, 6, 7, 8, 11, 12, 13, 14, 1, 2, 3, 5, 6, 7, 8, 9, 11, 12, 13, 14, 1, 2, 3, 4, 5, 6, 7, 8, 9, 10, 11, 12, 13, 14, 1, 2, 3, 5, 6, 7, 8, 9, 11, 12, 13, 14, 1, 2, 3, 4, 5, 6, 7, 8, 9, 10, 11, 12, 13, 14, 1, 2, 3, 4, 5, 6, 7, 8, 9, 10, 11, 12, 13, 14, 1, 2, 3, 4, 5, 6, 7, 8, 9, 10, 11, 12, 13, 14, 1, 2, 3, 4, 5, 6, 7, 9, 10, 11, 12, 14, 1, 2, 3, 4, 5, 6, 7, 8, 9, 10, 11, 12, 13, 14, 1, 2, 3, 4, 5, 6, 7, 8, 9, 10, 11, 12, 13, 14, 1, 2, 4, 5, 7, 9, 10, 11, 12, 13, 1, 2, 3, 4, 5, 6, 7, 8, 9, 10, 11, 12, 13, 14, 2, 3, 5, 6, 8, 10, 11, 12, 13, 14, 1, 2, 3, 4, 5, 6, 7, 8, 9, 10, 11, 12, 13, 14, 1, 2, 3, 4, 5, 6, 7, 8, 9, 10, 11, 12, 13, 14, 1, 2, 3, 4, 5, 7, 8, 9, 10, 11, 12, 13, 14, 1, 2, 3, 4, 5, 6, 7, 8, 9, 10, 11, 12, 13, 14, 4, 5, 6, 8, 9, 10, 11, 12, 3, 4, 6, 7, 8, 10, 12, 14, 1, 2, 3, 5, 8, 10, 11, 12, 1, 2, 3, 4, 6, 7, 9, 10, 11, 12, 13, 14, 1, 2, 3, 4, 5, 6, 7, 8, 9, 10, 11, 12, 13, 14, 1, 3, 4, 5, 7, 9, 10, 11, 12, 13, 14, 2, 7, 8, 9, 10, 12, 3, 4, 5, 6, 7, 9, 10, 11, 12, 13, 14, 1, 2, 3, 5, 6, 7, 10, 12, 13, 1, 2, 3, 4, 5, 6, 7, 8, 9, 10, 11, 12, 13, 14, 1, 5, 6, 7, 8, 13, 1, 2, 3, 5, 7, 13, 2, 3, 5, 6, 7, 10, 11, 12, 13, 1, 2, 3, 4, 5, 6, 7, 8, 9, 10, 11, 12, 13, 14, 1, 2, 6, 7, 8, 9, 11, 13, 1, 3, 4, 5, 6, 7, 8, 9, 10, 11, 12, 13, 14, 1, 2, 3, 4, 5, 6, 7, 8, 9, 10, 11, 12, 13, 14, 1, 2, 3, 4, 5, 6, 7, 8, 9, 10, 11, 12, 13, 14, 3, 4, 5, 7, 8, 9, 10, 11, 12, 13, 1, 2, 3, 5, 6, 7, 8, 11, 12, 13, 14, 1, 2, 3, 4, 5, 6, 7, 8, 9, 10, 11, 12, 13, 14, 1, 2, 3, 4, 5, 6, 7, 8, 9, 10, 11, 12, 13, 14, 1, 2, 3, 4, 5, 6, 7, 8, 9, 10, 11, 12, 13, 14, 1, 2, 3, 4, 7, 8, 12, 13, 14, 1, 2, 3, 4, 6, 8, 9, 10, 11, 12, 13, 2, 3, 4, 5, 6, 7, 8, 9, 10, 11, 13, 14, 1, 2, 3, 4, 5, 6, 7, 8, 9, 10, 11, 12, 13, 14, 1, 4, 5, 6, 7, 8, 9, 10, 11, 12, 13, 14, 1, 2, 3, 4, 5, 6, 7, 8, 9, 10, 11, 12, 13, 14, 1, 2, 5, 6, 7, 10, 11, 12, 13, 14, 1, 5, 6, 7, 8, 9, 11, 12, 13, 1, 2, 3, 4, 5, 7, 8, 9, 11, 1, 2, 3, 4, 5, 7, 11, 13, 1, 2, 3, 4, 5, 6, 7, 8, 9, 10, 11, 12, 13, 14, 2, 3, 4, 6, 7, 9, 10, 12, 13, 14, 1, 2, 3, 4, 5, 6, 7, 8, 9, 10, 11, 12, 13, 14, 3, 4, 7, 9, 11, 12, 13, 3, 4, 7, 8, 9, 10, 11, 13, 1, 2, 3, 4, 5, 6, 7, 8, 9, 10, 11, 12, 13, 14, 1, 2, 3, 4, 6, 7, 9, 10, 11, 12, 13, 14, 1, 2, 4, 5, 6, 8, 9, 13, 1, 2, 3, 4, 5, 6, 7, 8, 9, 10, 11, 12, 13, 14, 1, 2, 3, 4, 5, 7, 8, 9, 11, 12, 14, 1, 2, 3, 4, 5, 6, 7, 8, 9, 10, 11, 12, 13, 14, 2, 3, 7, 8, 9, 11, 1, 2, 3, 4, 5, 6, 7, 8, 9, 10, 11, 12, 13, 14, 1, 3, 7, 13, 1, 2, 4, 5, 9, 10, 14, 1, 2, 5, 10, 12, 14, 1, 2, 4, 5, 6, 7, 10, 11, 12, 13, 14, 1, 2, 3, 7, 8, 9, 10, 11, 13, 1, 3, 5, 7, 9, 12, 13, 1, 2, 3, 4, 5, 6, 7, 8, 9, 10, 11, 12, 13, 14, 1, 2, 3, 4, 5, 6, 7, 8, 10, 11, 12, 13, 14], \"Freq\": [0.03510611676856035, 0.006195197076804767, 0.008260262769073021, 0.05162664230670639, 0.05162664230670639, 0.008260262769073021, 0.012390394153609534, 0.012390394153609534, 0.7578791090624498, 0.010325328461341278, 0.0185855912304143, 0.012390394153609534, 0.012390394153609534, 0.004130131384536511, 0.09343218832373802, 0.004557667723109172, 0.22104688457079483, 0.07064384970819217, 0.07748035129285592, 0.03418250792331879, 0.029624840200209616, 0.28485423269432325, 0.05469201267731006, 0.01139416930777293, 0.013673003169327515, 0.0068365015846637575, 0.09571102218529261, 0.002278833861554586, 0.21776077313941278, 0.09371982641443082, 0.08820689544887607, 0.02940229848295869, 0.025727011172588854, 0.01929525837944164, 0.11485272844905738, 0.03950933858647574, 0.061561062448694755, 0.011944683758701967, 0.02756465482777377, 0.01837643655184918, 0.01929525837944164, 0.23154310055329969, 0.003383886605291299, 0.03383886605291299, 0.040606639263495586, 0.757990599585251, 0.09474882494815637, 0.003383886605291299, 0.006767773210582598, 0.003383886605291299, 0.013535546421165195, 0.013535546421165195, 0.020303319631747793, 0.006767773210582598, 0.018053938083457618, 0.08726070073671183, 0.20461129827918634, 0.15345847370938975, 0.03309888648633896, 0.009026969041728809, 0.05416181425037286, 0.006017979361152539, 0.10230564913959317, 0.02708090712518643, 0.051152824569796584, 0.018053938083457618, 0.22567422604322024, 0.012035958722305078, 0.0687285482876051, 0.054001002225975446, 0.044182638184888996, 0.4876454140406267, 0.10963839845879862, 0.01963672808217289, 0.01963672808217289, 0.016363940068477408, 0.0720013363013006, 0.0016363940068477407, 0.004909182020543222, 0.037637062157498034, 0.050728214212279965, 0.011454758047934185, 0.012949659228353326, 0.03021587153282443, 0.00863310615223555, 0.09064761459847329, 0.025899318456706653, 0.03884897768505998, 0.004316553076117775, 0.012949659228353326, 0.0863310615223555, 0.4532380729923664, 0.06043174306564886, 0.0172662123044711, 0.12949659228353327, 0.03021587153282443, 0.017936015537335957, 0.011210009710834972, 0.11210009710834973, 0.022420019421669945, 0.06950206020717684, 0.02466202136383694, 0.013452011653001967, 0.6815685904187664, 0.013452011653001967, 0.008968007768667978, 0.011210009710834972, 0.011210009710834972, 0.0022420019421669946, 0.012761098070524104, 0.028712470658679233, 0.09570823552893078, 0.039878431470387825, 0.06699576487025155, 0.001595137258815513, 0.028712470658679233, 0.011165960811708592, 0.6428403153026517, 0.014356235329339617, 0.022331921623417184, 0.017546509846970645, 0.01595137258815513, 0.001595137258815513, 0.03520823320577556, 0.0803187820006755, 0.15843704942599005, 0.05721337895938529, 0.011002572876804863, 0.08582006843907794, 0.11002572876804864, 0.1133265006310901, 0.1551362775629486, 0.08692032572675842, 0.01760411660288778, 0.045110548794899945, 0.012102830164485351, 0.03080720405505362, 0.0122617817718367, 0.0245235635436734, 0.0490471270873468, 0.06743979974510185, 0.00613089088591835, 0.0245235635436734, 0.5885655250481616, 0.1716649448057138, 0.0122617817718367, 0.0122617817718367, 0.0122617817718367, 0.0122617817718367, 0.009931897873891942, 0.07697220852266255, 0.019863795747783883, 0.019863795747783883, 0.08938708086502747, 0.014897846810837913, 0.09435302980197345, 0.05462543830640568, 0.02234677021625687, 0.02731271915320284, 0.5388054596586378, 0.009931897873891942, 0.009931897873891942, 0.012414872342364927, 0.06598458502961328, 0.013196917005922657, 0.21115067209476251, 0.23754450610660782, 0.07918150203553594, 0.3035290911362211, 0.05278766802369063, 0.026393834011845314, 0.013196917005922657, 0.03193079021017208, 0.02838292463126407, 0.1632018166297684, 0.11707956410396429, 0.010643596736724027, 0.017739327894540045, 0.11707956410396429, 0.36543015462752493, 0.07095731157816018, 0.04612225252580412, 0.021287193473448054, 0.007095731157816017, 0.012486922944815187, 0.36212076539964044, 0.11238230650333669, 0.13735615239296706, 0.26222538184111893, 0.012486922944815187, 0.024973845889630374, 0.06243461472407594, 0.002058215797186616, 0.026756805363426013, 0.002058215797186616, 0.006174647391559849, 0.06174647391559849, 0.012349294783119698, 0.034989668552172476, 0.16877369536930253, 0.004116431594373232, 0.006174647391559849, 0.5598346968347596, 0.10496900565651743, 0.006174647391559849, 0.01514746494371894, 0.0060589859774875755, 0.727078317298509, 0.024235943909950302, 0.024235943909950302, 0.03332442287618167, 0.05756036678613197, 0.0030294929887437877, 0.012117971954975151, 0.0060589859774875755, 0.009088478966231363, 0.07876681770733848, 0.0060589859774875755, 0.18542360309870348, 0.01854236030987035, 0.0370847206197407, 0.0370847206197407, 0.18542360309870348, 0.1483388824789628, 0.11125416185922209, 0.01854236030987035, 0.01854236030987035, 0.22250832371844417, 0.01854236030987035, 0.01854236030987035, 0.03567437348459733, 0.015289017207684571, 0.8918593371149333, 0.00509633906922819, 0.00509633906922819, 0.00509633906922819, 0.01019267813845638, 0.02038535627691276, 0.01019267813845638, 0.006022867189908484, 0.10841160941835272, 0.006022867189908484, 0.006022867189908484, 0.012045734379816968, 0.060228671899084846, 0.006022867189908484, 0.3914863673440515, 0.05420580470917636, 0.006022867189908484, 0.024091468759633937, 0.3252348282550582, 0.011690292170619909, 0.005845146085309954, 0.023380584341239817, 0.058451460853099546, 0.0642966069384095, 0.08183204519433937, 0.046761168682479634, 0.6897272380665747, 0.005845146085309954, 0.30666614821668525, 0.015333307410834262, 0.07666653705417131, 0.061333229643337046, 0.030666614821668523, 0.3373327630383538, 0.030666614821668523, 0.07666653705417131, 0.015333307410834262, 0.015333307410834262, 0.030666614821668523, 0.2887620101721251, 0.020946467059117884, 0.03366396491643946, 0.011221321638813153, 0.08677822067348838, 0.023190731386880516, 0.2057242300449078, 0.11595365693440257, 0.0516180795385405, 0.07032028226989576, 0.021694555168372095, 0.011969409748067364, 0.020198378949863673, 0.03740440546271051, 0.34677729742163277, 0.016363357047118787, 0.038390953072086384, 0.02643311522996112, 0.05695706972170193, 0.06797086773418573, 0.12901877671766737, 0.03083863443495464, 0.12366921768303238, 0.04720199148207343, 0.03744691324244492, 0.016363357047118787, 0.01541931721747732, 0.046257951652431954, 0.2010569594181556, 0.043981209872721534, 0.07539635978180835, 0.012566059963634725, 0.0062830299818173625, 0.018849089945452088, 0.3392836190181376, 0.02513211992726945, 0.2199060493636077, 0.0062830299818173625, 0.012566059963634725, 0.03141514990908681, 0.07449906610792115, 0.15577077458928965, 0.07788538729464482, 0.48424392970148744, 0.0033863211867236885, 0.006772642373447377, 0.016931605933618442, 0.0033863211867236885, 0.006772642373447377, 0.006772642373447377, 0.027090569493789508, 0.07449906610792115, 0.033863211867236884, 0.027090569493789508, 0.0015387110028737226, 0.014617754527300367, 0.8516765400906056, 0.0677032841264438, 0.0038467775071843067, 0.0007693555014368613, 0.0038467775071843067, 0.0030774220057474453, 0.0023080665043105843, 0.004616133008621169, 0.020772598538795258, 0.006924199512931752, 0.014617754527300367, 0.004616133008621169, 0.036146759585773736, 0.03365387961434107, 0.0037393199571490077, 0.011217959871447022, 0.01495727982859603, 0.006232199928581679, 0.14707991831452763, 0.046118279471504424, 0.1769944779717197, 0.012464399857163359, 0.42254315515783786, 0.06232199928581679, 0.011217959871447022, 0.016203719814312366, 0.7261379899864602, 0.0027821378926684297, 0.013910689463342148, 0.011128551570673719, 0.0027821378926684297, 0.0027821378926684297, 0.0751177231020476, 0.022257103141347438, 0.025039241034015867, 0.005564275785336859, 0.05842489574603702, 0.05564275785336859, 0.034831012540576384, 0.4723956075815672, 0.034831012540576384, 0.07401590164872482, 0.02830019768921831, 0.019592444554074214, 0.034831012540576384, 0.002176938283786024, 0.06095427194600867, 0.03700795082436241, 0.11973160560823132, 0.02176938283786024, 0.006530814851358072, 0.05660039537843662, 0.0033873017956819107, 0.0033873017956819107, 0.04064762154818293, 0.0033873017956819107, 0.0033873017956819107, 0.0033873017956819107, 0.1592031843970498, 0.6774603591363821, 0.08806984668772969, 0.0033873017956819107, 0.016936508978409554, 0.0033873017956819107, 0.053981484533282796, 0.03598765635552186, 0.01799382817776093, 0.21592593813313118, 0.053981484533282796, 0.01799382817776093, 0.01799382817776093, 0.17993828177760932, 0.07197531271104372, 0.053981484533282796, 0.269907422666414, 0.10194804769841757, 0.029128013628119308, 0.014564006814059654, 0.029128013628119308, 0.14564006814059655, 0.08738404088435793, 0.10194804769841757, 0.014564006814059654, 0.10194804769841757, 0.26215212265307375, 0.058256027256238616, 0.029128013628119308, 0.06362237245997193, 0.023135408167262523, 0.028919260209078153, 0.266057193923519, 0.057838520418156306, 0.046270816334525046, 0.034703112250893786, 0.1503801530872064, 0.005783852041815631, 0.005783852041815631, 0.2255702296308096, 0.06940622450178757, 0.023135408167262523, 0.0879259007460497, 0.19343698164130932, 0.04396295037302485, 0.13628514615637702, 0.01758518014920994, 0.013188885111907455, 0.03956665533572236, 0.004396295037302485, 0.03956665533572236, 0.13188885111907453, 0.04835924541032733, 0.24179622705163664, 0.00879259007460497, 0.017835349425313122, 0.008917674712656561, 0.035670698850626244, 0.38346001264423213, 0.5350604827593937, 0.05973212096772129, 0.011946424193544258, 0.023892848387088515, 0.7765175725803768, 0.035839272580632776, 0.023892848387088515, 0.035839272580632776, 0.011946424193544258, 0.00877267587922494, 0.00877267587922494, 0.00877267587922494, 0.00877267587922494, 0.01754535175844988, 0.9211309673186188, 0.00877267587922494, 0.00877267587922494, 0.020542777022803868, 0.6779116417525277, 0.010271388511401934, 0.015407082767102901, 0.10784957936972031, 0.020542777022803868, 0.025678471278504835, 0.020542777022803868, 0.015407082767102901, 0.015407082767102901, 0.005135694255700967, 0.07189971957981355, 0.06782065641890166, 0.7761697345718745, 0.007535628490989073, 0.007535628490989073, 0.018839071227472682, 0.0037678142454945366, 0.060285027927912585, 0.0037678142454945366, 0.0037678142454945366, 0.0037678142454945366, 0.0037678142454945366, 0.026374699718461757, 0.007535628490989073, 0.007535628490989073, 0.011489078732432637, 0.03446723619729791, 0.04595631492973055, 0.04595631492973055, 0.13786894478919165, 0.05744539366216318, 0.2182924959162201, 0.022978157464865274, 0.011489078732432637, 0.1838252597189222, 0.04595631492973055, 0.17233618098648953, 0.011489078732432637, 0.14903300190647156, 0.4683894345631963, 0.021290428843781652, 0.14903300190647156, 0.06387128653134495, 0.042580857687563305, 0.042580857687563305, 0.021290428843781652, 0.021290428843781652, 0.32385771002989067, 0.01156634678678181, 0.46265387147127235, 0.028915866966954522, 0.005783173393390905, 0.005783173393390905, 0.10988029447442718, 0.005783173393390905, 0.005783173393390905, 0.04048221375373633, 0.22966650975560285, 0.02417542207953714, 0.4955961526305114, 0.04835084415907428, 0.16922795455675999, 0.01208771103976857, 0.04068687454915411, 0.020343437274577054, 0.020343437274577054, 0.6204748368746001, 0.03051515591186558, 0.010171718637288527, 0.05085859318644263, 0.010171718637288527, 0.04068687454915411, 0.0712020304610197, 0.05085859318644263, 0.04068687454915411, 0.033578070702621136, 0.40293684843145366, 0.044770760936828184, 0.06715614140524227, 0.1455049730446916, 0.011192690234207046, 0.044770760936828184, 0.011192690234207046, 0.022385380468414092, 0.022385380468414092, 0.022385380468414092, 0.033578070702621136, 0.1455049730446916, 0.11174425081029331, 0.03286595612067451, 0.019719573672404702, 0.006573191224134901, 0.4732697681377129, 0.016432978060337253, 0.023006169284472154, 0.036152551732741955, 0.04929893418101176, 0.03286595612067451, 0.09531127274995606, 0.039439147344809404, 0.016432978060337253, 0.04272574295687685, 0.7311971943361658, 0.05483978957521243, 0.018279929858404147, 0.009139964929202073, 0.009139964929202073, 0.018279929858404147, 0.027419894787606217, 0.10967957915042487, 0.009139964929202073, 0.018279929858404147, 0.00929707004211105, 0.00929707004211105, 0.001549511673685175, 0.001549511673685175, 0.4137196168739417, 0.038737791842129374, 0.0123960933894814, 0.07747558368425875, 0.11466386385270295, 0.020143651757907274, 0.1301589805895547, 0.14410458565272127, 0.0185941400842221, 0.0061980466947407, 0.007762076545679527, 0.007762076545679527, 0.8072559607506709, 0.06209661236543622, 0.007762076545679527, 0.03104830618271811, 0.015524153091359055, 0.023286229637038584, 0.015524153091359055, 0.007762076545679527, 0.015524153091359055, 0.6098596535785066, 0.04944808001987891, 0.023808334824386143, 0.0421224385354524, 0.02930256593770602, 0.0347967970510259, 0.07508782521537168, 0.023808334824386143, 0.02563974519549277, 0.023808334824386143, 0.012819872597746385, 0.027471155566599393, 0.01465128296885301, 0.007325641484426505, 0.03281309751790414, 0.14219008924425128, 0.03281309751790414, 0.038281947104221496, 0.04375079669053886, 0.005468849586317357, 0.26250478014323314, 0.005468849586317357, 0.14219008924425128, 0.005468849586317357, 0.02187539834526943, 0.005468849586317357, 0.25703593055691576, 0.006582702160199882, 0.011519728780349793, 0.004937026620149912, 0.0016456755400499705, 0.8722080362264845, 0.03785053742114932, 0.009874053240299824, 0.006582702160199882, 0.003291351080099941, 0.0016456755400499705, 0.013165404320399764, 0.011519728780349793, 0.011519728780349793, 0.008228377700249853, 0.01041017636416282, 0.002602544091040705, 0.6298156700318506, 0.00520508818208141, 0.01561526454624423, 0.018217808637284935, 0.09629413136850609, 0.00520508818208141, 0.06246105818497692, 0.002602544091040705, 0.013012720455203524, 0.12492211636995385, 0.013012720455203524, 0.3279506226983499, 0.08171884368876917, 0.27096248170486614, 0.07741785191567604, 0.03870892595783802, 0.01397822326255262, 0.031182190354925074, 0.033332686241471635, 0.010752479432732784, 0.012902975319279341, 0.02150495886546557, 0.02795644652510524, 0.03548318212801819, 0.018279215035645734, 0.42728466930516273, 0.07407699040717645, 0.3156323939088388, 0.02683948927796248, 0.010735795711184992, 0.03435454627579198, 0.005367897855592496, 0.004294318284473997, 0.006441477426710996, 0.010735795711184992, 0.023618750564606984, 0.013956534424540491, 0.02898664842019948, 0.01610369356677749, 0.6594895112052238, 0.031034800527304653, 0.17845010303200176, 0.015517400263652326, 0.007758700131826163, 0.007758700131826163, 0.007758700131826163, 0.031034800527304653, 0.015517400263652326, 0.031034800527304653, 0.007758700131826163, 0.005839408165934133, 0.09051082657197906, 0.020437928580769465, 0.0029197040829670663, 0.005839408165934133, 0.0087591122489012, 0.005839408165934133, 0.0175182244978024, 0.04671526532747306, 0.0087591122489012, 0.020437928580769465, 0.7153275003269313, 0.04671526532747306, 0.005839408165934133, 0.27149721420028905, 0.028578654126346217, 0.04286798118951932, 0.04286798118951932, 0.028578654126346217, 0.014289327063173108, 0.014289327063173108, 0.5572837554637512, 0.014289327063173108, 0.13866722366863612, 0.013866722366863612, 0.5408021723076809, 0.04160016710059084, 0.04160016710059084, 0.013866722366863612, 0.04160016710059084, 0.013866722366863612, 0.013866722366863612, 0.027733444733727224, 0.04160016710059084, 0.05546688946745445, 0.053846131472093925, 0.1456606889822028, 0.10424058784982286, 0.07869819215152189, 0.024852060679427967, 0.020710050566189974, 0.10700192792531486, 0.06627216181180791, 0.05798814158533192, 0.03589742098139595, 0.2222878760771057, 0.04211043615125294, 0.02968440581153896, 0.011045360301967986, 0.018801103110530005, 0.20681213421583006, 0.018801103110530005, 0.04386924059123668, 0.06267034370176669, 0.006267034370176668, 0.6016352995369602, 0.012534068740353337, 0.012534068740353337, 0.1005415405257992, 0.18402692685525746, 0.1400400028752203, 0.11041615611315447, 0.06553153980699412, 0.04219153932779073, 0.02782846210981942, 0.03231692374043545, 0.0502707702628996, 0.09515538656905996, 0.029623846762065836, 0.0502707702628996, 0.03680538537105149, 0.03501000071880508, 0.10672657946624184, 0.49805737084246193, 0.24902868542123097, 0.03557552648874728, 0.011858508829582426, 0.02371701765916485, 0.011858508829582426, 0.0474340353183297, 0.01795763047413416, 0.03591526094826832, 0.00897881523706708, 0.00897881523706708, 0.4040466856680186, 0.00897881523706708, 0.02693644571120124, 0.05387289142240248, 0.4220043161421528, 0.023681071156317582, 0.8051564193147979, 0.011840535578158791, 0.09472428462527033, 0.023681071156317582, 0.011840535578158791, 0.02697954275315882, 0.03083376314646722, 0.019271101966542012, 0.06937596707955125, 0.023125322359850414, 0.0038542203933084026, 0.6205294833226528, 0.01541688157323361, 0.007708440786616805, 0.04239642432639243, 0.1387519341591025, 0.17286947317935925, 0.03143081330533804, 0.6286162661067608, 0.01571540665266902, 0.01571540665266902, 0.09429243991601413, 0.5880869183028657, 0.032312468038619, 0.23911226348578057, 0.0258499744308952, 0.0904749105081332, 0.0129249872154476, 0.10436373945803744, 0.05218186972901872, 0.1913335223397353, 0.03478791315267915, 0.03478791315267915, 0.1913335223397353, 0.03478791315267915, 0.017393956576339575, 0.05218186972901872, 0.26090934864509363, 0.1792306083220832, 0.16936470327683092, 0.04028577893478017, 0.0517960014875745, 0.1751198145532281, 0.09372609792989672, 0.029597715135756857, 0.04275225519609324, 0.023020445105588667, 0.04439657270363529, 0.04028577893478017, 0.04275225519609324, 0.030419873889527882, 0.03699714391969607, 0.008914960918720679, 0.008914960918720679, 0.3744283585862685, 0.08023464826848611, 0.008914960918720679, 0.15155433561825155, 0.017829921837441358, 0.07131968734976543, 0.017829921837441358, 0.008914960918720679, 0.24961890572417902, 0.005531739754349478, 0.007375653005799304, 0.00921956625724913, 0.001843913251449826, 0.11247870833843938, 0.37984612979866417, 0.007375653005799304, 0.012907392760148783, 0.03134652527464704, 0.011063479508698956, 0.03319043852609687, 0.020283045765948086, 0.3614069972841659, 0.003687826502899652, 0.01267598287326695, 0.04225327624422317, 0.004225327624422317, 0.008450655248844634, 0.4056314519445424, 0.0253519657465339, 0.004225327624422317, 0.059154586741912436, 0.04647860386864548, 0.30844891658282914, 0.04225327624422317, 0.03802794861980085, 0.027869151272970648, 0.004644858545495107, 0.004644858545495107, 0.515579298549957, 0.013934575636485324, 0.013934575636485324, 0.15328033200133856, 0.21830835163827006, 0.03715886836396086, 0.004644858545495107, 0.04179466111228126, 0.32349725884545255, 0.10629665778950273, 0.08852569952128865, 0.006581836395634843, 0.007898203674761812, 0.05035104842660655, 0.0013163672791269686, 0.031921906518828994, 0.08852569952128865, 0.008556387314325297, 0.20798603010206107, 0.020403692826468017, 0.016125499169305366, 0.011293964281879907, 0.011293964281879907, 0.7792835354497136, 0.10164567853691917, 0.011293964281879907, 0.011293964281879907, 0.022587928563759813, 0.011293964281879907, 0.011293964281879907, 0.022587928563759813, 0.033784251576647134, 0.012669094341242674, 0.008446062894161784, 0.6461238114033764, 0.02956122012956624, 0.012669094341242674, 0.04223031447080891, 0.03800728302372802, 0.004223031447080892, 0.10135275472994139, 0.04223031447080891, 0.016892125788323567, 0.016892125788323567, 0.026979708829177603, 0.08820289424923447, 0.09650434311975066, 0.019715941067475942, 0.004150724435258093, 0.062260866528871396, 0.4648811367489064, 0.03735651991732284, 0.07678840205227472, 0.03528115769969379, 0.03216811437325022, 0.02801738993799213, 0.00622608665288714, 0.020753622176290464, 0.058825505329512834, 0.058825505329512834, 0.08235570746131797, 0.023530202131805133, 0.0705906063954154, 0.023530202131805133, 0.10588590959312309, 0.4117785373065898, 0.047060404263610266, 0.058825505329512834, 0.0352953031977077, 0.023530202131805133, 0.19565486389728512, 0.10237508554193081, 0.08693421520192884, 0.05414880557589728, 0.11506621184878173, 0.03320844716959326, 0.04632261102000588, 0.025593771385482703, 0.04738020487891013, 0.03743882260521023, 0.06260955644713123, 0.047803242422471824, 0.11781595588193276, 0.02749744033151034, 0.018346080829678063, 0.3098449206790073, 0.14065328636086516, 0.18957616857334, 0.02446144110623742, 0.01223072055311871, 0.0040769068510395695, 0.0020384534255197847, 0.006115360276559355, 0.08561504387183096, 0.17734544802022129, 0.01223072055311871, 0.010192267127598924, 0.008153813702079139, 0.7215909883389362, 0.01768605363575824, 0.003537210727151648, 0.007074421454303296, 0.05305816090727472, 0.028297685817213186, 0.003537210727151648, 0.007074421454303296, 0.010611632181454944, 0.003537210727151648, 0.060132582361578014, 0.09196747890594285, 0.025595999552059257, 0.013961454301123232, 0.008144181675655218, 0.7050534422067232, 0.03141327217752727, 0.04188436290336969, 0.0011634545250936027, 0.0011634545250936027, 0.004653818100374411, 0.009307636200748821, 0.0023269090501872054, 0.009307636200748821, 0.09423981653258182, 0.052355453629212116, 0.23294945962999675, 0.1222984663057483, 0.011647472981499837, 0.011647472981499837, 0.011647472981499837, 0.011647472981499837, 0.0058237364907499185, 0.011647472981499837, 0.0058237364907499185, 0.017471209472249758, 0.5590787031119923, 0.20978613383733238, 0.0014878449208321446, 0.0014878449208321446, 0.11158836906241083, 0.022317673812482168, 0.08183147064576794, 0.3749369200497004, 0.044635347624964336, 0.017854139049985736, 0.010414914445825011, 0.011902759366657157, 0.08331931556660009, 0.028269053495810745, 0.0014878449208321446, 0.20706441231166942, 0.04601431384703765, 0.11503578461759413, 0.023007156923518825, 0.023007156923518825, 0.39112166769982004, 0.1840572553881506, 0.016951254589573726, 0.008475627294786863, 0.32207383720190075, 0.059329391063508034, 0.008475627294786863, 0.0678050183582949, 0.016951254589573726, 0.025426881884360587, 0.008475627294786863, 0.05085376376872117, 0.04237813647393431, 0.025426881884360587, 0.2712200734331796, 0.0678050183582949, 0.747257859024948, 0.06793253263863164, 0.013586506527726328, 0.08151903916635797, 0.013586506527726328, 0.040759519583178985, 0.013586506527726328, 0.631001826262081, 0.11325673804704017, 0.036403951515120055, 0.028314184511760043, 0.012134650505040019, 0.0040448835016800066, 0.012134650505040019, 0.0040448835016800066, 0.020224417508400032, 0.016179534006720026, 0.008089767003360013, 0.09707720404032015, 0.012134650505040019, 0.5172760860619757, 0.15239253987717957, 0.19532001589892029, 0.019317364209783326, 0.008585495204348145, 0.0064391214032611084, 0.002146373801087036, 0.004292747602174072, 0.002146373801087036, 0.025756485613044434, 0.008585495204348145, 0.04936659742500183, 0.008585495204348145, 0.5571814013679218, 0.04643178344732682, 0.02321589172366341, 0.04643178344732682, 0.02321589172366341, 0.2785907006839609, 0.05866514854987, 0.0146662871374675, 0.498653762673895, 0.11733029709974, 0.05866514854987, 0.05866514854987, 0.08799772282480499, 0.0146662871374675, 0.043998861412402494, 0.0146662871374675, 0.043998861412402494, 0.18356033077434145, 0.06118677692478048, 0.008158236923304064, 0.008158236923304064, 0.024474710769912193, 0.04487030307817235, 0.13461090923451705, 0.03263294769321626, 0.03263294769321626, 0.036712066154868286, 0.06526589538643252, 0.024474710769912193, 0.02039559230826016, 0.3263294769321626, 0.17487996414196955, 0.06359271423344347, 0.031796357116721734, 0.015898178558360867, 0.031796357116721734, 0.06359271423344347, 0.11128724990852608, 0.015898178558360867, 0.015898178558360867, 0.031796357116721734, 0.4451489996341043, 0.0797117380061701, 0.035427439113853376, 0.008856859778463344, 0.026570579335390032, 0.06199801844924341, 0.35427439113853376, 0.008856859778463344, 0.15056661623387685, 0.0797117380061701, 0.035427439113853376, 0.12399603689848682, 0.008856859778463344, 0.017713719556926688, 0.2385374063465656, 0.012963989475356825, 0.012963989475356825, 0.028520776845785016, 0.007778393685214095, 0.13741828843878234, 0.2385374063465656, 0.012963989475356825, 0.10630471369792596, 0.13223269264863963, 0.012963989475356825, 0.03629917053099911, 0.00518559579014273, 0.012963989475356825, 0.08443814509242706, 0.006031296078030504, 0.024125184312122017, 0.018093888234091512, 0.012062592156061008, 0.11459462548257958, 0.10253203332651857, 0.1266572176386406, 0.3980655411500133, 0.04825036862424403, 0.012062592156061008, 0.04221907254621353, 0.012062592156061008, 0.006031296078030504, 0.003638927361159877, 0.0054583910417398155, 0.014555709444639508, 0.01273624576405957, 0.0018194636805799384, 0.029111418889279015, 0.018194636805799386, 0.0054583910417398155, 0.8405922204279316, 0.038208737292178704, 0.0054583910417398155, 0.018194636805799386, 0.003638927361159877, 0.003638927361159877, 0.01693598518009464, 0.7705873256943062, 0.00846799259004732, 0.025403977770141962, 0.00846799259004732, 0.00846799259004732, 0.00846799259004732, 0.00846799259004732, 0.00846799259004732, 0.05927594813033124, 0.07621193331042589, 0.0342499712695343, 0.7376916888822773, 0.057961489840750356, 0.023711518571216054, 0.01844229222205693, 0.002634613174579562, 0.002634613174579562, 0.028980744920375178, 0.010538452698318247, 0.005269226349159124, 0.057961489840750356, 0.005269226349159124, 0.013173065872897809, 0.019547120486224995, 0.25411256632092494, 0.019547120486224995, 0.5864136145867499, 0.019547120486224995, 0.019547120486224995, 0.03909424097244999, 0.019547120486224995, 0.019547120486224995, 0.035750777551755056, 0.08580186612421213, 0.06077632183798359, 0.050051088572457075, 0.028600622041404043, 0.021450466531053033, 0.057201244082808085, 0.014300311020702021, 0.0643513995931591, 0.4433096416417627, 0.08580186612421213, 0.007150155510351011, 0.014300311020702021, 0.028600622041404043, 0.1627725618204681, 0.2034657022755851, 0.0542575206068227, 0.50188206561311, 0.013564380151705675, 0.02712876030341135, 0.11509614393060323, 0.15705827973863565, 0.004795672663775135, 0.01918269065510054, 0.45558890305863775, 0.015585936157269187, 0.025177281484819455, 0.04795672663775134, 0.010790263493494053, 0.0023978363318875673, 0.02997295414859459, 0.015585936157269187, 0.007193508995662702, 0.09231669877767133, 0.007301964526096534, 0.07484513639248948, 0.0018254911315241334, 0.007301964526096534, 0.010952946789144801, 0.0018254911315241334, 0.5111375168267573, 0.014603929052193067, 0.047462769419627474, 0.023731384709813737, 0.2847766165177648, 0.0018254911315241334, 0.009127455657620668, 0.0018254911315241334, 0.14023892330641857, 0.01752986541330232, 0.052589596239906965, 0.3681271736793488, 0.12270905789311626, 0.07011946165320929, 0.052589596239906965, 0.07011946165320929, 0.01752986541330232, 0.08764932706651161, 0.030548711432487666, 0.0888689787126914, 0.1388577792385803, 0.10275475663654943, 0.1444120904081235, 0.016662933508629636, 0.02221724467817285, 0.019440089093401242, 0.0472116449411173, 0.05276595611066051, 0.005554311169543212, 0.016662933508629636, 0.11664053456040745, 0.19440089093401242, 0.004817706355632853, 0.024088531778164262, 0.004817706355632853, 0.7949215486794207, 0.13971348431335273, 0.004817706355632853, 0.01927082542253141, 0.00879559699222951, 0.00879559699222951, 0.7740125353161968, 0.1847075368368197, 0.00879559699222951, 0.012603525895429414, 0.012603525895429414, 0.012603525895429414, 0.012603525895429414, 0.6301762947714706, 0.012603525895429414, 0.025207051790858827, 0.012603525895429414, 0.012603525895429414, 0.22686346611772942, 0.025207051790858827, 0.019787840702118323, 0.006595946900706107, 0.31660545123389316, 0.3891608671416603, 0.006595946900706107, 0.06595946900706108, 0.006595946900706107, 0.052767575205648856, 0.013191893801412214, 0.026383787602824428, 0.006595946900706107, 0.006595946900706107, 0.07915136280847329, 0.3051581095296929, 0.008247516473775484, 0.032990065895101936, 0.032990065895101936, 0.016495032947550968, 0.008247516473775484, 0.46186092253142713, 0.016495032947550968, 0.04123758236887742, 0.05773261531642839, 0.1013605098666106, 0.2198743367875707, 0.08810567396097692, 0.12319200429941905, 0.05925691346048005, 0.04054420394664424, 0.07251174936611374, 0.02650967181126739, 0.02105179820306528, 0.09668233248815165, 0.029628456730240026, 0.035086330338442134, 0.054578736082021094, 0.03352693787895582, 0.0126150599943239, 0.44152709980133653, 0.3279915598524214, 0.1387656599375629, 0.0504602399772956, 0.0126150599943239, 0.08848269139214457, 0.05308961483528674, 0.017696538278428913, 0.46010999523915175, 0.08848269139214457, 0.07078615311371565, 0.017696538278428913, 0.1415723062274313, 0.017696538278428913, 0.035393076556857826, 0.003177712866362248, 0.003177712866362248, 0.5211449100834087, 0.01906627719817349, 0.003177712866362248, 0.01906627719817349, 0.003177712866362248, 0.003177712866362248, 0.38450325682983205, 0.03495484152998473, 0.003177712866362248, 0.1777334305076205, 0.6635381405617832, 0.0118488953671747, 0.0236977907343494, 0.0947911629373976, 0.0678809596867999, 0.3334153019910466, 0.025954484586129374, 0.02395798577181173, 0.07985995257270577, 0.029947482214764665, 0.11779343004474101, 0.02395798577181173, 0.039929976286352885, 0.01397549170022351, 0.08185645138702341, 0.08385295020134106, 0.053905467986576396, 0.021961486957494086, 0.12510503143989196, 0.05629726414795139, 0.012510503143989197, 0.4191018553236381, 0.09382877357991898, 0.18765754715983796, 0.03127625785997299, 0.018765754715983796, 0.012510503143989197, 0.012510503143989197, 0.006255251571994598, 0.025021006287978393, 0.013420201021359995, 0.1759537467244977, 0.13241265007741862, 0.10765983486024351, 0.010736160817087996, 0.2928586089550114, 0.0656098716599822, 0.06948681862170841, 0.009841480748997329, 0.0328049358299911, 0.04115528313217065, 0.019981188187358213, 0.016104241225631994, 0.011929067574542217, 0.008338631318976863, 0.0157507480469563, 0.00694885943248072, 0.17928057335800257, 0.0018530291819948586, 0.45074934852024934, 0.016677262637953726, 0.01806703452444987, 0.06114996300583033, 0.1741847431075167, 0.022699607479437018, 0.011581432387467866, 0.016677262637953726, 0.015287490751457583, 0.41529139408069266, 0.03194549185236097, 0.015972745926180486, 0.03194549185236097, 0.41529139408069266, 0.015972745926180486, 0.03194549185236097, 0.0035463455758332684, 0.012412209515416439, 0.0035463455758332684, 0.035463455758332686, 0.0035463455758332684, 0.0035463455758332684, 0.0035463455758332684, 0.0035463455758332684, 0.0035463455758332684, 0.07270008430458201, 0.014185382303333074, 0.014185382303333074, 0.0035463455758332684, 0.824525346381235, 0.07570610113976002, 0.04542366068385601, 0.007570610113976002, 0.007570610113976002, 0.4088129461547041, 0.007570610113976002, 0.007570610113976002, 0.007570610113976002, 0.4390953866106081, 0.0628574436290479, 0.052932584108671916, 0.029774578561127953, 0.11909831424451181, 0.0033082865067919948, 0.04300772458829593, 0.03969943808150394, 0.04300772458829593, 0.029774578561127953, 0.03308286506791995, 0.04300772458829593, 0.052932584108671916, 0.0033082865067919948, 0.4433103919101273, 0.007669762295080981, 0.012782937158468302, 0.0025565874316936603, 0.1738479453551689, 0.0025565874316936603, 0.2761114426229153, 0.012782937158468302, 0.038348811475404906, 0.07669762295080981, 0.29400755464477096, 0.03579222404371125, 0.007669762295080981, 0.025565874316936604, 0.03323563661201758, 0.7328628235227008, 0.005770573413564573, 0.005770573413564573, 0.005770573413564573, 0.020197006947476007, 0.00865586012034686, 0.03750872718816973, 0.005770573413564573, 0.1067556081509446, 0.00865586012034686, 0.031738153774605156, 0.005770573413564573, 0.011541146827129147, 0.011541146827129147, 0.6595779725805112, 0.07759740853888368, 0.005542672038491691, 0.033256032230950146, 0.016628016115475073, 0.011085344076983382, 0.09422542465435875, 0.005542672038491691, 0.07205473650039199, 0.005542672038491691, 0.011085344076983382, 0.6441253963138408, 0.01789237211982891, 0.03578474423965782, 0.21470846543794692, 0.01789237211982891, 0.05367711635948673, 0.14382086682501388, 0.34517008038003333, 0.08629252009500833, 0.02876417336500278, 0.02876417336500278, 0.043146260047504166, 0.08629252009500833, 0.20134921355501945, 0.01438208668250139, 0.041051064007140085, 0.46524539208092097, 0.1368368800238003, 0.06157659601071013, 0.01368368800238003, 0.041051064007140085, 0.07526028401309016, 0.02736737600476006, 0.020525532003570043, 0.041051064007140085, 0.02736737600476006, 0.047892908008330105, 0.002881085590434865, 0.47826020801218755, 0.3716600411660976, 0.00576217118086973, 0.01152434236173946, 0.020167599133044053, 0.01728651354260919, 0.05474062621826243, 0.002881085590434865, 0.008643256771304595, 0.002881085590434865, 0.01152434236173946, 0.008643256771304595, 0.011790082757585347, 0.08253057930309743, 0.12379586895464614, 0.041265289651548714, 0.06484545516671941, 0.5128685999549626, 0.011790082757585347, 0.03537024827275604, 0.023580165515170694, 0.03537024827275604, 0.01768512413637802, 0.01768512413637802, 0.01768512413637802, 0.18246051828650123, 0.042931886655647344, 0.17172754662258938, 0.4400518382203853, 0.010732971663911836, 0.07513080164738285, 0.010732971663911836, 0.03219891499173551, 0.03219891499173551, 0.16551039667659226, 0.025463137950244963, 0.012731568975122481, 0.012731568975122481, 0.6111153108058791, 0.038194706925367444, 0.08912098282585737, 0.025463137950244963, 0.14863344952813584, 0.01238612079401132, 0.01238612079401132, 0.5326031941424868, 0.061930603970056605, 0.07431672476406792, 0.13624732873412454, 0.5944485271729263, 0.12384344316102631, 0.08669041021271842, 0.024768688632205264, 0.08669041021271842, 0.012384344316102632, 0.04953737726441053, 0.012384344316102632, 0.6430280393502624, 0.04853041806417075, 0.012132604516042688, 0.024265209032085375, 0.012132604516042688, 0.012132604516042688, 0.012132604516042688, 0.04853041806417075, 0.012132604516042688, 0.15772385870855496, 0.49056948837927217, 0.03523427264602507, 0.010841314660315408, 0.008130985995236555, 0.013551643325394259, 0.01626197199047311, 0.09215117461268096, 0.008130985995236555, 0.04878591597141933, 0.16261971990473112, 0.01626197199047311, 0.062337559296813595, 0.005420657330157704, 0.03252394398094622, 0.09512496690339749, 0.0063416644602265, 0.0063416644602265, 0.7483164063067269, 0.025366657840906, 0.025366657840906, 0.025366657840906, 0.012683328920453, 0.012683328920453, 0.038049986761359, 0.0063416644602265, 0.2407562856300925, 0.008398475080119506, 0.0027994916933731686, 0.011197966773492675, 0.0027994916933731686, 0.07838576741444872, 0.08398475080119505, 0.46471562109994596, 0.047591358787343864, 0.0027994916933731686, 0.041992375400597526, 0.008398475080119506, 0.008398475080119506, 0.0719456785515456, 0.03996982141752533, 0.031975857134020264, 0.20784307137113173, 0.05595774998453547, 0.1678732499536064, 0.015987928567010132, 0.047963785701030395, 0.031975857134020264, 0.007993964283505066, 0.007993964283505066, 0.047963785701030395, 0.2638008213556672, 0.007993964283505066, 0.0901742630997226, 0.06474049658441623, 0.016185124146104058, 0.023121605923005797, 0.3745700159526939, 0.06705265717671681, 0.013872963553803477, 0.039306730069109855, 0.03699456947680927, 0.016185124146104058, 0.04624321184601159, 0.06474049658441623, 0.1017350660612255, 0.04624321184601159, 0.016802384309018814, 0.005600794769672938, 0.8401192154509408, 0.005600794769672938, 0.022403179078691753, 0.08961271631476701, 0.005600794769672938, 0.005600794769672938, 0.026471229738465784, 0.007563208496704509, 0.022689625490113528, 0.045379250980227055, 0.007563208496704509, 0.026471229738465784, 0.0756320849670451, 0.0037816042483522546, 0.5445510117627247, 0.09832171045715862, 0.10588491895386314, 0.026471229738465784, 0.0037816042483522546, 0.849986095279534, 0.004683118982256385, 0.01639091643789735, 0.004683118982256385, 0.07961302269835854, 0.0023415594911281924, 0.0023415594911281924, 0.0023415594911281924, 0.0023415594911281924, 0.0023415594911281924, 0.014049356946769155, 0.01873247592902554, 0.8531535016713458, 0.016728500032771487, 0.016728500032771487, 0.10037100019662892, 0.02580296531037245, 0.022577594646575893, 0.0032253706637965563, 0.012901482655186225, 0.5999189434661595, 0.012901482655186225, 0.048380559956948344, 0.029028335974169005, 0.012901482655186225, 0.00967611199138967, 0.04192981862935523, 0.07740889593111736, 0.01935222398277934, 0.0806342665949139, 0.8056508601764734, 0.0484602021158781, 0.018172575793454288, 0.0060575252644847625, 0.07269030317381715, 0.04240267685139334, 0.0060575252644847625, 0.018516292864730388, 0.08332331789128675, 0.04166165894564337, 0.004629073216182597, 0.009258146432365194, 0.004629073216182597, 0.12035590362074752, 0.4443910287535293, 0.037032585729460776, 0.009258146432365194, 0.009258146432365194, 0.023145366080912985, 0.004629073216182597, 0.1897920018634865, 0.0791130375516965, 0.013185506258616083, 0.03955651877584825, 0.4812709784394871, 0.026371012517232166, 0.21756085326716537, 0.046149271905156296, 0.0065927531293080415, 0.05274202503446433, 0.026371012517232166, 0.0065927531293080415, 0.13266389426691372, 0.03979916828007412, 0.026532778853382746, 0.3714589039473584, 0.3449261250939757, 0.013266389426691373, 0.026532778853382746, 0.013266389426691373, 0.03738430113256105, 0.1495372045302442, 0.018692150566280524, 0.35515086075933, 0.18692150566280524, 0.056076451698841574, 0.13084505396396368, 0.03738430113256105, 0.8386798327533503, 0.005572623473444188, 0.005572623473444188, 0.030649429103943034, 0.002786311736722094, 0.01950418215705466, 0.002786311736722094, 0.008358935210166282, 0.04179467605083141, 0.044580987787553504, 0.14464649917245692, 0.12345624770133265, 0.10042336566750193, 0.0672560155387857, 0.11055783376238745, 0.04422313350495498, 0.02856077372195009, 0.05896417800660664, 0.04514444878630821, 0.03777392653548238, 0.061728123850666325, 0.04145918766089529, 0.06357075441337279, 0.07186259194555183, 0.014588575641949889, 0.014588575641949889, 0.058354302567799554, 0.029177151283899777, 0.029177151283899777, 0.8315488115911437, 0.012606806993260182, 0.08194424545619118, 0.22944388727733533, 0.09202969105079933, 0.277349753851724, 0.069337438462931, 0.012606806993260182, 0.0037820420979780547, 0.005042722797304073, 0.0037820420979780547, 0.15002100321979617, 0.05042722797304073, 0.0037820420979780547, 0.010085445594608146, 0.0046386572408435595, 0.027831943445061354, 0.009277314481687119, 0.08349583033518407, 0.027831943445061354, 0.05566388689012271, 0.0046386572408435595, 0.5983867840688192, 0.11596643102108897, 0.009277314481687119, 0.06030254413096627, 0.008059995695855951, 0.008059995695855951, 0.016119991391711903, 0.6125596728850523, 0.032239982783423805, 0.10477994404612737, 0.008059995695855951, 0.032239982783423805, 0.07253996126270355, 0.09671994835027141, 0.12483892735758208, 0.01387099192862023, 0.19419388700068324, 0.4993557094303283, 0.11096793542896184, 0.02774198385724046, 0.1560621221162275, 0.18578824061455657, 0.007431529624582262, 0.5499331922190874, 0.007431529624582262, 0.014863059249164524, 0.007431529624582262, 0.014863059249164524, 0.044589177747493575, 0.030033678423710658, 0.07508419605927664, 0.7208082821690558, 0.12013471369484263, 0.030033678423710658, 0.01617535422167706, 0.048526062665031185, 0.043134277924472164, 0.01617535422167706, 0.16714532695732962, 0.09166034058950334, 0.037742493183913144, 0.021567138962236082, 0.03235070844335412, 0.29654816073074614, 0.10244391007062138, 0.06470141688670825, 0.0053917847405590205, 0.0539178474055902, 0.0553898811191562, 0.041542410839367154, 0.16616964335746862, 0.08308482167873431, 0.15232217307767956, 0.01384747027978905, 0.01384747027978905, 0.3738816975543044, 0.01384747027978905, 0.0276949405595781, 0.06923735139894525, 0.002862524065262324, 0.0415065989463037, 0.011450096261049297, 0.1474199893610097, 0.00715631016315581, 0.00715631016315581, 0.018606406424205107, 0.001431262032631162, 0.017175144391573943, 0.024331454554729754, 0.09732581821891902, 0.004293786097893486, 0.005725048130524648, 0.6125801499661373, 0.21461906553909604, 0.03341656502911364, 0.02635672734690653, 0.035769844256516005, 0.01129574029153137, 0.006589181836726633, 0.034357876720074586, 0.02259148058306274, 0.2508595656410925, 0.037181811792957424, 0.14025544195318118, 0.036240500101996476, 0.1346075718074155, 0.015531642900855633, 0.006165987003543744, 0.2378309272795444, 0.1444602669401677, 0.018497961010631232, 0.40871685280632813, 0.007046842289764279, 0.014974539865749092, 0.022902237441733905, 0.012331974007087488, 0.0008808552862205348, 0.040519343166144604, 0.010570263434646418, 0.004404276431102674, 0.07046842289764278, 0.05410424861895056, 0.191640282491423, 0.1274230902053789, 0.1248948542886055, 0.07584707750320172, 0.040957421851728924, 0.05005907115211313, 0.09506167047067948, 0.017192004234059057, 0.040957421851728924, 0.035900950018182144, 0.047025188051985065, 0.06573413383610816, 0.0323614197346994, 0.0351164059488125, 0.16387656109445833, 0.011705468649604166, 0.070232811897625, 0.5735679638306042, 0.011705468649604166, 0.011705468649604166, 0.02341093729920833, 0.05852734324802083, 0.04682187459841666, 0.011979481951200589, 0.004791792780480236, 0.01118084982112055, 0.031146653073121533, 0.002395896390240118, 0.0031945285203201575, 0.019167171121920942, 0.004791792780480236, 0.3394186552840167, 0.02316033177232114, 0.03354254946336165, 0.003993160650400196, 0.03753571011376185, 0.4743874852675434, 0.0841779120618876, 0.06734232964951008, 0.01683558241237752, 0.11784907688664265, 0.01683558241237752, 0.6060809668455908, 0.01683558241237752, 0.01683558241237752, 0.01683558241237752, 0.03367116482475504, 0.14462451623211622, 0.009641634415474415, 0.009641634415474415, 0.01928326883094883, 0.03856653766189766, 0.01928326883094883, 0.2506824948023348, 0.09641634415474415, 0.14462451623211622, 0.24104086038686037, 0.028924903246423245, 0.24502064596354964, 0.01633470973090331, 0.049004129192709925, 0.01633470973090331, 0.5553801308507125, 0.049004129192709925, 0.01633470973090331, 0.01633470973090331, 0.03266941946180662, 0.01633470973090331, 0.015053330684176405, 0.33117327505188093, 0.10537331478923484, 0.06021332273670562, 0.03010666136835281, 0.015053330684176405, 0.33117327505188093, 0.015053330684176405, 0.04515999205252921, 0.03010666136835281, 0.015053330684176405, 0.014342740326521197, 0.47044188270989523, 0.022948384522433914, 0.13482175906929925, 0.07745079776321447, 0.005737096130608479, 0.008605644195912717, 0.028685480653042394, 0.05450241324078055, 0.020079836457129675, 0.08318789389382295, 0.0028685480653042393, 0.07171370163260599, 0.06079543040730222, 0.06513796115068095, 0.02171265371689365, 0.06948049189405968, 0.03039771520365111, 0.03908277669040857, 0.06513796115068095, 0.052110368920544756, 0.013027592230136189, 0.00868506148675746, 0.013027592230136189, 0.5254462199488263, 0.03039771520365111, 0.018606800451546137, 0.006202266817182046, 0.012404533634364091, 0.018606800451546137, 0.006202266817182046, 0.7194629507931173, 0.024809067268728183, 0.024809067268728183, 0.09923626907491273, 0.024809067268728183, 0.049618134537456365, 0.10692777037023109, 0.013365971296278886, 0.10692777037023109, 0.040097913888836656, 0.12029374166650997, 0.026731942592557772, 0.013365971296278886, 0.053463885185115544, 0.0935617990739522, 0.13365971296278886, 0.013365971296278886, 0.17375762685162552, 0.12029374166650997, 0.07103947437860565, 0.07103947437860565, 0.07103947437860565, 0.01420789487572113, 0.0994552641300479, 0.01420789487572113, 0.02841578975144226, 0.4120289513959128, 0.04262368462716339, 0.07103947437860565, 0.01420789487572113, 0.08524736925432679, 0.01420789487572113, 0.010138036121796715, 0.19262268631413756, 0.10138036121796715, 0.02027607224359343, 0.38524537262827513, 0.02027607224359343, 0.09124232509617043, 0.010138036121796715, 0.08110428897437372, 0.010138036121796715, 0.06082821673078029, 0.010138036121796715, 0.0023501738762921054, 0.0893066072991, 0.22796686600033422, 0.1985896925466829, 0.028202086515505265, 0.066979955474325, 0.003525260814438158, 0.011750869381460527, 0.0023501738762921054, 0.07403047710320132, 0.2338423006910645, 0.003525260814438158, 0.008225608567022369, 0.04817856446398816, 0.17479183281935776, 0.008835106303710706, 0.00859631964685366, 0.0186253592348496, 0.047040971400838086, 0.46611155418495404, 0.04990641128312264, 0.06518875732197359, 0.027460465538560304, 0.005014519793997968, 0.016237492666279135, 0.07521779690996953, 0.024117452342561657, 0.012655692813423445, 0.10652207252943595, 0.030434877865553128, 0.5021754847816267, 0.030434877865553128, 0.015217438932776564, 0.015217438932776564, 0.18260926719331877, 0.09130463359665938, 0.006581477531057409, 0.13162955062114817, 0.019744432593172226, 0.08555920790374631, 0.03290738765528704, 0.013162955062114817, 0.12504807309009078, 0.006581477531057409, 0.3356553540839279, 0.05265182024845927, 0.11188511802797596, 0.006581477531057409, 0.05265182024845927, 0.026325910124229635, 0.01245643186580921, 0.02491286373161842, 0.037369295597427625, 0.6103651614246512, 0.037369295597427625, 0.17439004612132894, 0.01245643186580921, 0.08719502306066447, 0.015512146276088315, 0.2326821941413247, 0.015512146276088315, 0.015512146276088315, 0.04653643882826494, 0.3102429255217663, 0.294730779245678, 0.04653643882826494, 0.004584934130225854, 0.004584934130225854, 0.004584934130225854, 0.49517288606439225, 0.027509604781355123, 0.013754802390677561, 0.055019209562710246, 0.004584934130225854, 0.08252881434406537, 0.2567563112926478, 0.050434275432484396, 0.12082217608524685, 0.7421933673808021, 0.01726031086932098, 0.06904124347728392, 0.00863015543466049, 0.00863015543466049, 0.01726031086932098, 0.00863015543466049, 0.2660829396691066, 0.003093987670571007, 0.009281963011713022, 0.003093987670571007, 0.1825452725636894, 0.34343263143338176, 0.11138355614055626, 0.009281963011713022, 0.003093987670571007, 0.003093987670571007, 0.03403386437628108, 0.030939876705710072, 0.003093987670571007, 0.03569413941622453, 0.07574122266369596, 0.019152952857486333, 0.03134119558497764, 0.11317653961241925, 0.02350589668873323, 0.00783529889624441, 0.040917672013720804, 0.014800009026239439, 0.004352943831246894, 0.5850356509195825, 0.009576476428743166, 0.003482355064997515, 0.03482355064997515, 0.05357633565714967, 0.0986932498947494, 0.04229710709774974, 0.031017878538349808, 0.0648555642165496, 0.062035757076699616, 0.0648555642165496, 0.036657492818049774, 0.014099035699249913, 0.014099035699249913, 0.036657492818049774, 0.016918842839099897, 0.01973864997894988, 0.4427097209564473, 0.16796500667999986, 0.019760589021176455, 0.009880294510588227, 0.6817403212305877, 0.009880294510588227, 0.009880294510588227, 0.019760589021176455, 0.009880294510588227, 0.029640883531764684, 0.019760589021176455, 0.009880294510588227, 0.17086070704950584, 0.06754958185678138, 0.031788038520838294, 0.08874160753734024, 0.03576154333594308, 0.0066225080251746445, 0.12582765247831826, 0.014569517655384218, 0.026490032100698578, 0.11523163963803881, 0.11390713803300388, 0.01192051444531436, 0.014569517655384218, 0.17615871346964554, 0.059208180672341335, 0.04250843740578352, 0.15282795353031695, 0.327416178589785, 0.040484226100746215, 0.009615003698927226, 0.00657868674137126, 0.016699743266557814, 0.009108950872667897, 0.005566581088852604, 0.22822982464295677, 0.04554475436333949, 0.044532648710820834, 0.011639215003964537, 0.03269281822132873, 0.03269281822132873, 0.762832425164337, 0.03269281822132873, 0.04359042429510497, 0.010897606073776243, 0.010897606073776243, 0.010897606073776243, 0.021795212147552485, 0.04359042429510497, 0.8120465871062961, 0.024025046955807577, 0.10571020660555333, 0.014415028173484544, 0.004805009391161515, 0.004805009391161515, 0.004805009391161515, 0.004805009391161515, 0.00961001878232303, 0.00961001878232303, 0.009457055720528646, 0.7471074019217631, 0.009457055720528646, 0.12294172436687241, 0.018914111441057292, 0.018914111441057292, 0.009457055720528646, 0.028371167161585942, 0.018914111441057292, 0.009457055720528646, 0.11830653443822556, 0.1198839548974019, 0.05126616492323108, 0.08399763945114015, 0.08754683548428692, 0.044956483086525716, 0.06467423882622998, 0.0828145741067579, 0.07058956554814125, 0.08675812525469875, 0.07295569623690576, 0.026816147805997795, 0.04416777285693754, 0.0453508382013198, 0.012780105764469417, 0.8243168218082774, 0.051120423057877666, 0.006390052882234708, 0.031950264411173546, 0.006390052882234708, 0.006390052882234708, 0.006390052882234708, 0.019170158646704124, 0.012780105764469417, 0.012780105764469417, 0.012780105764469417, 0.060236481116387616, 0.03513794731789278, 0.005019706759698968, 0.5421283300474885, 0.015059120279096904, 0.030118240558193808, 0.030118240558193808, 0.045177360837290716, 0.08533501491488246, 0.015059120279096904, 0.010039413519397937, 0.08031530815518349, 0.03513794731789278, 0.010039413519397937, 0.1059444586931975, 0.084755566954558, 0.5932889686819061, 0.084755566954558, 0.042377783477279, 0.042377783477279, 0.0211888917386395, 0.0211888917386395, 0.14493386211499662, 0.043480158634498986, 0.043480158634498986, 0.08696031726899797, 0.23189417938399462, 0.057973544845998655, 0.028986772422999327, 0.057973544845998655, 0.28986772422999324, 0.018294243454582745, 0.018294243454582745, 0.3036844413460736, 0.06220042774558133, 0.007317697381833098, 0.003658848690916549, 0.5415096062556493, 0.007317697381833098, 0.014635394763666196, 0.003658848690916549, 0.010976546072749647, 0.003658848690916549, 0.20074505036985354, 0.06939335074513456, 0.007435001865550132, 0.0024783339551833774, 0.06195834887958443, 0.02478333955183377, 0.05204501305885092, 0.0322183414173839, 0.03469667537256728, 0.0024783339551833774, 0.3717500932775066, 0.12391669775916886, 0.01734833768628364, 0.04842338910434767, 0.7263508365652149, 0.12912903761159378, 0.016141129701449222, 0.032282259402898444, 0.032282259402898444, 0.009380716574502044, 0.009380716574502044, 0.863025924854188, 0.018761433149004088, 0.009380716574502044, 0.06566501602151431, 0.01393575408968266, 0.613173179946037, 0.01393575408968266, 0.01393575408968266, 0.01393575408968266, 0.04180726226904798, 0.2090363113452399, 0.01393575408968266, 0.04180726226904798, 0.0060697255049630095, 0.00404648366997534, 0.00202324183498767, 0.01416269284491369, 0.0060697255049630095, 0.24076577836353272, 0.00404648366997534, 0.0202324183498767, 0.637321178021116, 0.00809296733995068, 0.01416269284491369, 0.0060697255049630095, 0.03641835302977806, 0.43997790500925327, 0.033844454231481025, 0.05076668134722153, 0.10153336269444306, 0.05076668134722153, 0.25383340673610766, 0.016922227115740512, 0.033844454231481025, 0.24476744873796674, 0.04895348974759335, 0.008158914957932225, 0.0326356598317289, 0.13870155428484782, 0.01631782991586445, 0.44058140772834015, 0.008158914957932225, 0.0326356598317289, 0.01631782991586445, 0.002661998987497744, 0.02129599189998195, 0.001330999493748872, 0.7160777276368931, 0.038598985318717284, 0.002661998987497744, 0.04658498228121052, 0.003992998481246616, 0.0066549974687443595, 0.04658498228121052, 0.0851839675999278, 0.018633992912484208, 0.007985996962493231, 0.011695206856103936, 0.7718836525028598, 0.08186644799272755, 0.035085620568311805, 0.02339041371220787, 0.02339041371220787, 0.011695206856103936, 0.02339041371220787, 0.011695206856103936, 0.051133516854657474, 0.06711274087173794, 0.022370913623912643, 0.020772991222204596, 0.06231897366661379, 0.04554078844867931, 0.13662236534603792, 0.16858081338019884, 0.14381301615372413, 0.027963642029890805, 0.12783379213664367, 0.058324167662343676, 0.059922090064051726, 0.007190650807686207, 0.023417214865114368, 0.023417214865114368, 0.10771918837952608, 0.3582833874362498, 0.018733771892091494, 0.060884758649297356, 0.0046834429730228735, 0.08430197351441172, 0.10069402391999177, 0.07727680905487741, 0.06556820162232023, 0.03512582229767155, 0.018733771892091494, 0.02107549337860293, 0.7991325392887756, 0.011255387877306698, 0.06753232726384019, 0.05627693938653349, 0.011255387877306698, 0.011255387877306698, 0.011255387877306698, 0.011255387877306698, 0.013122241597670534, 0.02624448319534107, 0.02624448319534107, 0.4986451807114803, 0.1574668991720464, 0.1181001743790348, 0.013122241597670534, 0.10497793278136427, 0.0393667247930116, 0.02327915077565622, 0.01551943385043748, 0.00775971692521874, 0.01163957538782811, 0.29486924315831214, 0.07371731078957804, 0.00387985846260937, 0.027159009238265593, 0.01551943385043748, 0.01939929231304685, 0.1590741969669842, 0.28322966777048403, 0.05819787693914055, 0.00387985846260937, 0.04115649637850104, 0.00514456204731263, 0.01028912409462526, 0.02057824818925052, 0.00514456204731263, 0.2572281023656315, 0.02057824818925052, 0.5453235770151387, 0.01028912409462526, 0.07716843070968944, 0.00514456204731263, 0.0016589712232151842, 0.0016589712232151842, 0.0016589712232151842, 0.014930741008936658, 0.0024884568348227764, 0.0008294856116075921, 0.0033179424464303683, 0.0008294856116075921, 0.0008294856116075921, 0.004147428058037961, 0.02322559712501258, 0.9422956547862247, 0.0008294856116075921, 0.015518683949966758, 0.3362381522492798, 0.11207938408309326, 0.0517289464998892, 0.046556051849900276, 0.020691578599955678, 0.06897192866651893, 0.0706962268831819, 0.03276166611659649, 0.046556051849900276, 0.05862613936654109, 0.10000929656645245, 0.018967280383292706, 0.018967280383292706, 0.040135305242725516, 0.2247577093592629, 0.30021208321558684, 0.057794839549524746, 0.014448709887381186, 0.0465569540815616, 0.05137319071068866, 0.028897419774762373, 0.03692448082330747, 0.0626110761786518, 0.03371365640388944, 0.02568659535534433, 0.019264946516508247, 0.05940025175923377, 0.0060320172939714485, 0.0020106724313238163, 0.07640555239030501, 0.8163330071174694, 0.01005336215661908, 0.004021344862647633, 0.0020106724313238163, 0.0020106724313238163, 0.004021344862647633, 0.0020106724313238163, 0.01005336215661908, 0.0020106724313238163, 0.014074707019266714, 0.0502668107830954, 0.1599583314021693, 0.04591396549506711, 0.05628163512298549, 0.06961149607316627, 0.03258410454488634, 0.08146026136221585, 0.05480053946185429, 0.23253201879759797, 0.1021956006180526, 0.02665972190036155, 0.05628163512298549, 0.03110300888375514, 0.013329860950180775, 0.03554629586714873, 0.33456604874439116, 0.009042325641740302, 0.10850790770088363, 0.009042325641740302, 0.18084651283480604, 0.009042325641740302, 0.33456604874439116, 0.181209776120597, 0.19768339213156033, 0.1317889280877069, 0.032947232021926724, 0.39536678426312066, 0.016473616010963362, 0.016473616010963362, 0.016473616010963362, 0.3414310916111488, 0.018968393978397155, 0.3509152886003474, 0.028452590967595733, 0.018968393978397155, 0.009484196989198578, 0.180199742794773, 0.009484196989198578, 0.028452590967595733, 0.009484196989198578, 0.2773921688358588, 0.15256569285972235, 0.1664353013015153, 0.013869608441792941, 0.013869608441792941, 0.12482647597613647, 0.23578334351048, 0.013869608441792941, 0.021677944270052842, 0.07370501051817965, 0.08671177708021137, 0.04769147739411625, 0.14090663775534346, 0.0541948606751321, 0.008671177708021137, 0.07153721609117437, 0.006503383281015852, 0.013006766562031704, 0.3641894637368877, 0.03468471083208455, 0.0672016272371638, 0.010838972135026421, 0.015160499244461213, 0.009096299546676727, 0.0030320998488922424, 0.16676549168907334, 0.009096299546676727, 0.6458372678140477, 0.01212839939556897, 0.006064199697784485, 0.057609897128952606, 0.0030320998488922424, 0.018192599093353454, 0.04851359758227588, 0.009096299546676727, 0.32210845362135826, 0.07669248895746625, 0.5061704271192773, 0.015338497791493249, 0.015338497791493249, 0.015338497791493249, 0.015338497791493249, 0.08065885644517344, 0.3343439694582189, 0.12359018326276576, 0.06634841417264267, 0.016912340867536367, 0.036426580330078326, 0.027319935247558748, 0.018213290165039163, 0.11708543677525177, 0.06764936347014547, 0.016912340867536367, 0.04032942822258672, 0.019514239462541962, 0.03512563103257553, 0.035056663981769196, 0.3680949718085766, 0.035056663981769196, 0.017528331990884598, 0.017528331990884598, 0.035056663981769196, 0.07011332796353839, 0.087641659954423, 0.2278683158814998, 0.087641659954423, 0.017528331990884598, 0.6536199021284931, 0.033234910277719985, 0.06646982055543997, 0.033234910277719985, 0.022156606851813324, 0.022156606851813324, 0.033234910277719985, 0.033234910277719985, 0.05539151712953331, 0.033234910277719985, 0.011078303425906662, 0.00593613476780624, 0.04155294337464368, 0.670783228762105, 0.17808404303418718, 0.01187226953561248, 0.01187226953561248, 0.017808404303418717, 0.01187226953561248, 0.01187226953561248, 0.029680673839031196, 0.00593613476780624, 0.00427735640303187, 0.03421885122425496, 0.7271505885154179, 0.12832069209095612, 0.01283206920909561, 0.00855471280606374, 0.01283206920909561, 0.00855471280606374, 0.042773564030318706, 0.01710942561212748, 0.17078289195820068, 0.01138552613054671, 0.04554210452218684, 0.03415657839164013, 0.01138552613054671, 0.03415657839164013, 0.03415657839164013, 0.5578907803967889, 0.03415657839164013, 0.056927630652733555, 0.05521666430932122, 0.5360056681734109, 0.02154796655973511, 0.07676463086905633, 0.01885447073976822, 0.005386991639933778, 0.08215162250899011, 0.005386991639933778, 0.0942723536988411, 0.048482924759403995, 0.004040243729950333, 0.03501544565956955, 0.006733739549917222, 0.010773983279867555, 0.11305664463225769, 0.02608999491513639, 0.00869666497171213, 0.00869666497171213, 0.06957331977369705, 0.01739332994342426, 0.2087199593210911, 0.07826998474540917, 0.06087665480198491, 0.06957331977369705, 0.24350661920793965, 0.03478665988684852, 0.04348332485856065, 0.04591918034538125, 0.015306393448460416, 0.183676721381525, 0.3214342624176687, 0.3826598362115104, 0.015306393448460416, 0.015306393448460416, 0.1712472007994147, 0.007783963672700667, 0.7316925852338627, 0.007783963672700667, 0.03891981836350334, 0.007783963672700667, 0.007783963672700667, 0.007783963672700667, 0.015567927345401335, 0.007783963672700667, 0.4554706493667259, 0.013396195569609585, 0.048561208939834746, 0.21601365355995455, 0.001674524446201198, 0.0937733689872671, 0.0887497956486635, 0.02679239113921917, 0.005023573338603594, 0.003349048892402396, 0.005023573338603594, 0.03851406226262755, 0.001674524446201198, 0.16462457835610153, 0.05995586495685179, 0.06503687046166974, 0.04369664734143436, 0.0680854737645605, 0.10466871339924974, 0.0680854737645605, 0.03048603302890769, 0.13515474642815742, 0.040648044038543586, 0.04572904954336154, 0.06198826715877897, 0.06097206605781538, 0.05081005504817949, 0.06032377250030087, 0.07372905527814551, 0.052280602833594085, 0.552297650447199, 0.07909116838928336, 0.020107924166766954, 0.03753479177796498, 0.005362113111137855, 0.0026810565555689275, 0.016086339333413566, 0.016086339333413566, 0.05496165938916301, 0.01876739588898249, 0.01072422622227571, 0.03188737182001604, 0.01594368591000802, 0.04783105773002405, 0.6218037504903127, 0.06377474364003208, 0.06377474364003208, 0.01594368591000802, 0.12754948728006416, 0.3343361475686231, 0.37148460840958125, 0.018574230420479062, 0.07429692168191625, 0.018574230420479062, 0.037148460840958124, 0.018574230420479062, 0.018574230420479062, 0.037148460840958124, 0.05572269126143719, 0.005883000576518854, 0.005883000576518854, 0.005883000576518854, 0.6177150605344797, 0.017649001729556562, 0.029415002882594268, 0.017649001729556562, 0.029415002882594268, 0.023532002306075415, 0.20002201960164104, 0.023532002306075415, 0.023532002306075415, 0.938670036218999, 0.011309277544807216, 0.022618555089614432, 0.11797915710247342, 0.03167225694026132, 0.2953437959679368, 0.00791806423506533, 0.017419741317143727, 0.21774676646429658, 0.03563128905779399, 0.005542644964545731, 0.003167225694026132, 0.15044322046624128, 0.003959032117532665, 0.04196574044584625, 0.022962386281689458, 0.04671657898688545, 0.0027846071288882665, 0.027846071288882664, 0.0064974166340726214, 0.007425619010368711, 0.6738749251909605, 0.01577944039703351, 0.007425619010368711, 0.051051130696284884, 0.0037128095051843554, 0.004641011881480444, 0.09467664238220105, 0.0751843924799832, 0.025989666536290486, 0.0027846071288882665, 0.021707128099768516, 0.007235709366589505, 0.04341425619953703, 0.40519972452901226, 0.20983557163109565, 0.24601411846404317, 0.01447141873317901, 0.01447141873317901, 0.03617854683294752, 0.11736911314359245, 0.005868455657179623, 0.06455301222897586, 0.023473822628718492, 0.017605366971538867, 0.16431675840102944, 0.029342278285898114, 0.05868455657179623, 0.005868455657179623, 0.4577395412600106, 0.005868455657179623, 0.005868455657179623, 0.046947645257436985, 0.022514521473642312, 0.005628630368410578, 0.005628630368410578, 0.42214727763079335, 0.005628630368410578, 0.49531947242013086, 0.005628630368410578, 0.011257260736821156, 0.005628630368410578, 0.005628630368410578, 0.016885891105231733, 0.003484862646808008, 0.003484862646808008, 0.024394038527656054, 0.003484862646808008, 0.0871215661702002, 0.006969725293616016, 0.003484862646808008, 0.38333489114888086, 0.006969725293616016, 0.006969725293616016, 0.006969725293616016, 0.46697159467227306, 0.003997578673537533, 0.029981840051531494, 0.0019987893367687665, 0.004996973341921915, 0.2878256644947023, 0.030981234719915877, 0.014990920025765747, 0.055966101429525454, 0.003997578673537533, 0.0029981840051531493, 0.41774697138467215, 0.11193220285905091, 0.027983050714762727, 0.004996973341921915, 0.005992681039946431, 0.2672735743816108, 0.007191217247935717, 0.008389753455925004, 0.007191217247935717, 0.004794144831957145, 0.3032296606212894, 0.1486184897906715, 0.0011985362079892862, 0.010786825871903575, 0.11985362079892863, 0.007191217247935717, 0.10786825871903576, 0.04048958041885855, 0.006748263403143092, 0.15521005827229112, 0.6073437062828783, 0.006748263403143092, 0.006748263403143092, 0.013496526806286184, 0.006748263403143092, 0.10797221445028947, 0.03374131701571546, 0.013496526806286184, 0.009546920635319148, 0.009546920635319148, 0.028640761905957445, 0.8114882540021277, 0.009546920635319148, 0.009546920635319148, 0.09546920635319148, 0.019093841270638297, 0.38849310149223376, 0.01765877734055608, 0.10595266404333648, 0.01765877734055608, 0.21190532808667295, 0.01765877734055608, 0.03531755468111216, 0.21190532808667295, 0.01945626814262003, 0.014150013194632747, 0.18395017153022572, 0.26177524410070585, 0.042450039583898244, 0.03183752968792368, 0.014150013194632747, 0.22640021111412395, 0.0070750065973163734, 0.10258759566108742, 0.0035375032986581867, 0.012381261545303654, 0.03891253628524006, 0.042450039583898244, 0.08087832202577412, 0.04852699321546447, 0.09705398643092894, 0.2102836372670127, 0.04852699321546447, 0.06470265762061929, 0.06470265762061929, 0.25881063048247716, 0.04852699321546447, 0.016175664405154822, 0.04852699321546447, 0.167641903673004, 0.10469065821212087, 0.10469065821212087, 0.06842526680530775, 0.08074181483026314, 0.06295124546088314, 0.05063469743592774, 0.09990088953574933, 0.034212633402653875, 0.054055960776193124, 0.0396866547470785, 0.039002402079025424, 0.036949644074866186, 0.056792971448405435, 0.011817211118538447, 0.09453768894830758, 0.2245270112522305, 0.059086055592692234, 0.011817211118538447, 0.5672261336898454, 0.011817211118538447, 0.1505562394329346, 0.05504206602924491, 0.13760516507311227, 0.014569958654800123, 0.03237768589955583, 0.025902148719644663, 0.008094421474888957, 0.006475537179911166, 0.0016188842949777914, 0.11494078494342319, 0.01133219006484454, 0.40310218944947007, 0.029139917309600246, 0.008094421474888957, 0.019255381670313123, 0.032092302783855206, 0.038510763340626246, 0.022464611948698646, 0.04813845417578281, 0.019255381670313123, 0.6129629831716344, 0.0032092302783855208, 0.0064184605567710416, 0.07702152668125249, 0.0032092302783855208, 0.0064184605567710416, 0.0064184605567710416, 0.1091138294651077, 0.08221159231649601, 0.14387028655386802, 0.08221159231649601, 0.041105796158248005, 0.08221159231649601, 0.06165869423737201, 0.041105796158248005, 0.020552898079124002, 0.08221159231649601, 0.06165869423737201, 0.28774057310773604, 0.011536914989804534, 0.8806511775550795, 0.00769127665986969, 0.003845638329934845, 0.003845638329934845, 0.01538255331973938, 0.00769127665986969, 0.003845638329934845, 0.046147659959218136, 0.01538255331973938, 0.03156670682256822, 0.03156670682256822, 0.6629008432739327, 0.15783353411284112, 0.03156670682256822, 0.07891676705642056, 0.025200642232856146, 0.03150080279107018, 0.5418138080064071, 0.05040128446571229, 0.01890048167464211, 0.044101123907498256, 0.03780096334928422, 0.03150080279107018, 0.06300160558214037, 0.01890048167464211, 0.01890048167464211, 0.03150080279107018, 0.07560192669856844, 0.49465746683577055, 0.09638935649262338, 0.033895158327076354, 0.023302921349864995, 0.03919127681568203, 0.01906602655898045, 0.041309724211124305, 0.0381320531179609, 0.011651460674932498, 0.02753981614074954, 0.007414565884047953, 0.008473789581769088, 0.02753981614074954, 0.13134373851742087, 0.11987015965091542, 0.09422629465096835, 0.09482266360445549, 0.07514248813937982, 0.12404474232532542, 0.0691787986045084, 0.05784778848825272, 0.09243718779050691, 0.025643864999947082, 0.07216064337194411, 0.04949862313943274, 0.022662020232511373, 0.041149457790612756, 0.06261874011614985, 0.2741181930149361, 0.028066709182416667, 0.03555116496439444, 0.03648672193714167, 0.1637224702307639, 0.126300191320875, 0.03648672193714167, 0.030873380100658335, 0.028066709182416667, 0.013097797618461112, 0.03461560799164722, 0.03555116496439444, 0.13191353315735835, 0.025260038264175, 0.9092120973253894, 0.012988744247505565, 0.012988744247505565, 0.012988744247505565, 0.02597748849501113, 0.012988744247505565, 0.009806758651271204, 0.012258448314089006, 0.014710137976906807, 0.6717629676120775, 0.012258448314089006, 0.0073550689884534035, 0.009806758651271204, 0.009806758651271204, 0.034323655279449215, 0.04167872426790262, 0.022065206965360212, 0.012258448314089006, 0.012258448314089006, 0.12748786246652566, 0.6955183291523452, 0.00880402948294108, 0.0440201474147054, 0.005869352988627386, 0.002934676494313693, 0.0851056183350971, 0.005869352988627386, 0.04695482390901909, 0.00880402948294108, 0.03521611793176432, 0.005869352988627386, 0.0440201474147054, 0.014673382471568465, 0.002934676494313693, 0.015366396285440408, 0.07333961863505649, 0.02863737489559349, 0.701964921221255, 0.027938902337164378, 0.006286253025861986, 0.010477088376436641, 0.015366396285440408, 0.006286253025861986, 0.031431265129309924, 0.020954176752873283, 0.03352668280459725, 0.012572506051723971, 0.01606486884386952, 0.15044092400289513, 0.04011757973410537, 0.008023515946821073, 0.06017636960115805, 0.03409994277398956, 0.06819988554797912, 0.0381117007474001, 0.026076426827168486, 0.10631158629537922, 0.020058789867052684, 0.048141095680926435, 0.2968700900323797, 0.09628219136185287, 0.006017636960115804, 0.016511143024914073, 0.24766714537371112, 0.06604457209965629, 0.033022286049828146, 0.18987814478651185, 0.016511143024914073, 0.041277857562285185, 0.016511143024914073, 0.008255571512457037, 0.36324514654810963, 0.08357137163853345, 0.005763542871622997, 0.028817714358114983, 0.025935942922303487, 0.01729062861486899, 0.12967971461151742, 0.046108342972983975, 0.04899011440879547, 0.3717485152196833, 0.005763542871622997, 0.06628074302366446, 0.040344800101360975, 0.020172400050680488, 0.11238908599664844, 0.004765715300784056, 0.009531430601568112, 0.004765715300784056, 0.004765715300784056, 0.514697252484678, 0.28594291804704336, 0.004765715300784056, 0.1525028896250898, 0.009531430601568112, 0.004765715300784056, 0.031862680187563386, 0.5416655631885776, 0.23897010140672542, 0.07965670046890846, 0.015931340093781693, 0.047794020281345086, 0.015931340093781693, 0.015931340093781693, 0.015931340093781693, 0.008130665484417115, 0.010840887312556153, 0.4065332742208557, 0.20868708076670595, 0.04607377107836365, 0.018971552796973268, 0.0027102218281390383, 0.027102218281390384, 0.013551109140695192, 0.018971552796973268, 0.19513597162601076, 0.010840887312556153, 0.021681774625112307, 0.013551109140695192, 0.872366059993768, 0.0039295768468187746, 0.02357746108091265, 0.0039295768468187746, 0.015718307387275098, 0.019647884234093874, 0.011788730540456325, 0.0039295768468187746, 0.007859153693637549, 0.011788730540456325, 0.007859153693637549, 0.0039295768468187746, 0.0039295768468187746, 0.1409324996790923, 0.11301191012002684, 0.0678071460720161, 0.09772206345672908, 0.10702892664308424, 0.04719909187365827, 0.05717073100189593, 0.08775042432849142, 0.038557004629185626, 0.046534315931775753, 0.05451162723436589, 0.059165058827543464, 0.035233124919773075, 0.04786386781554078, 0.015046524317334293, 0.24074438907734869, 0.02256978647600144, 0.0978024080626729, 0.05266283511067003, 0.015046524317334293, 0.308453748505353, 0.1579885053320101, 0.015046524317334293, 0.015046524317334293, 0.030093048634668586, 0.02256978647600144, 0.008704955234877755, 0.24373874657657715, 0.08704955234877755, 0.03481982093951102, 0.026114865704633266, 0.06963964187902204, 0.0783445971138998, 0.06963964187902204, 0.008704955234877755, 0.0783445971138998, 0.026114865704633266, 0.26114865704633267, 0.03686414716895492, 0.12902451509134222, 0.07372829433790984, 0.07372829433790984, 0.5160980603653689, 0.07372829433790984, 0.03686414716895492, 0.01843207358447746, 0.01843207358447746, 0.04606956918944037, 0.10051542368605171, 0.6114688274234813, 0.04606956918944037, 0.008376285307170977, 0.008376285307170977, 0.06282213980378232, 0.016752570614341954, 0.016752570614341954, 0.04606956918944037, 0.012564427960756464, 0.029316998575098417, 0.052315671756455503, 0.0016348647423892345, 0.7299671074767933, 0.09809188454335407, 0.006539458969556938, 0.01226148556791926, 0.002452297113583852, 0.005722026598362321, 0.004904594227167704, 0.004904594227167704, 0.005722026598362321, 0.019618376908670816, 0.038419321446147014, 0.019618376908670816, 0.13241054965365517, 0.07448093418018104, 0.016551318706706897, 0.6123987921481552, 0.016551318706706897, 0.0496539561201207, 0.016551318706706897, 0.033102637413413794, 0.02482697806006035, 0.008275659353353448, 0.016551318706706897, 0.008275659353353448, 0.08476152911625451, 0.0226030744310012, 0.17941190329607204, 0.004238076455812726, 0.050856917469752703, 0.012714229367438176, 0.12149152506663145, 0.12572960152244417, 0.20201497772707325, 0.01977769012712605, 0.055094993925565425, 0.050856917469752703, 0.032491919494564224, 0.03531730379843938, 0.02359556671870276, 0.4404505787491182, 0.05779204022406908, 0.07010277068600096, 0.017782166222790486, 0.016414307282575834, 0.054372392873532446, 0.03932594453117127, 0.036590226650741964, 0.04342952135181523, 0.10293138525115263, 0.017098236752683158, 0.05710811075396175, 0.022911637248595434, 0.029991903545639007, 0.005998380709127801, 0.06598218780040581, 0.011996761418255602, 0.8637668221144034, 0.005998380709127801, 0.005998380709127801, 0.007446300434091258, 0.4482672861322938, 0.022338901302273773, 0.028295941649546782, 0.010424820607727762, 0.013403340781364265, 0.1697756498972807, 0.016381860955000768, 0.004467780260454755, 0.12807636746636963, 0.06850596399363958, 0.020849641215455524, 0.013403340781364265, 0.04765632277818405, 0.2298597360079724, 0.012097880842524864, 0.07258728505514918, 0.5686003995986686, 0.06048940421262432, 0.012097880842524864, 0.012097880842524864, 0.012097880842524864, 0.06269188920867129, 0.10448648201445214, 0.0069657654676301434, 0.1811099021583837, 0.013931530935260287, 0.048760358273411, 0.013931530935260287, 0.02089729640289043, 0.02089729640289043, 0.2786306187052057, 0.25773332230231527, 0.04500786620653161, 0.018003146482612645, 0.8281447382001818, 0.009001573241306323, 0.009001573241306323, 0.018003146482612645, 0.009001573241306323, 0.009001573241306323, 0.05400943944783794, 0.020984152642800635, 0.04646490942334427, 0.0029977360918286623, 0.0059954721836573245, 0.004496604137742994, 0.0029977360918286623, 0.18885737378520573, 0.016487548505057643, 0.034473965056029614, 0.016487548505057643, 0.6235291071003618, 0.016487548505057643, 0.0029977360918286623, 0.016487548505057643, 0.08791618475112209, 0.4029491801093095, 0.20513776441928486, 0.007326348729260174, 0.18315871823150434, 0.007326348729260174, 0.021979046187780522, 0.007326348729260174, 0.014652697458520348, 0.007326348729260174, 0.03663174364630087, 0.02418165851411525, 0.0021983325921922955, 0.006594997776576886, 0.16487494441442216, 0.004396665184384591, 0.4220798577009207, 0.008793330368769182, 0.05715664739699968, 0.010991662960961476, 0.15608161404565296, 0.0021983325921922955, 0.03956998665946131, 0.008793330368769182, 0.09013163627988412, 0.6374035314540932, 0.14392982968318235, 0.020561404240454623, 0.04112280848090925, 0.04112280848090925, 0.0822456169618185, 0.09668769451192474, 0.1323094767005286, 0.09261663369037001, 0.2534235361417817, 0.0274796605454944, 0.053941555885600116, 0.045799434242490666, 0.05190602547482275, 0.058012616707154845, 0.016284243286218903, 0.06004814711793221, 0.036639547393992535, 0.044781669037101984, 0.029515190956271763, 0.008271035273678186, 0.03308414109471274, 0.04135517636839093, 0.01654207054735637, 0.3970096931365529, 0.008271035273678186, 0.09098138801046005, 0.01654207054735637, 0.03308414109471274, 0.35565451676816195, 0.16611092414072867, 0.011074061609381911, 0.09412952367974625, 0.0055370308046909554, 0.011074061609381911, 0.03875921563283669, 0.06644436965629147, 0.1882590473594925, 0.33775887908614827, 0.016611092414072867, 0.011074061609381911, 0.0055370308046909554, 0.044296246437527644, 0.0055370308046909554, 0.01668590101549727, 0.008342950507748635, 0.008342950507748635, 0.2586314657402077, 0.01668590101549727, 0.06674360406198908, 0.04171475253874317, 0.008342950507748635, 0.008342950507748635, 0.5589776840191585, 0.004168130613738662, 0.01667252245495465, 0.0666900898198186, 0.04584943675112528, 0.7711041635416525, 0.004168130613738662, 0.004168130613738662, 0.008336261227477324, 0.050017567364863944, 0.004168130613738662, 0.008336261227477324, 0.004168130613738662, 0.004168130613738662, 0.012504391841215986, 0.3875249836934557, 0.044288569564966365, 0.03321642717372478, 0.03321642717372478, 0.09964928152117432, 0.011072142391241591, 0.011072142391241591, 0.06643285434744955, 0.22144284782483184, 0.044288569564966365, 0.044288569564966365, 0.007881503806166286, 0.14186706851099315, 0.08669654186782914, 0.25220812179732116, 0.007881503806166286, 0.04728902283699772, 0.015763007612332573, 0.015763007612332573, 0.015763007612332573, 0.007881503806166286, 0.007881503806166286, 0.386193686502148, 0.007881503806166286, 0.07174654751459941, 0.07913222152345524, 0.19835810195212777, 0.22684570170057167, 0.060140488357825976, 0.018991733165629257, 0.018991733165629257, 0.06647106607970239, 0.0675261623666818, 0.04853442920105255, 0.024267214600526273, 0.0348181774703203, 0.04325894776615553, 0.04009365890521732, 0.026466025491257768, 0.5684604066784239, 0.12822975730975594, 0.03466676578432355, 0.007827979370653706, 0.015655958741307412, 0.017147002430955738, 0.0052186529137691375, 0.03243020024985107, 0.05926898666352092, 0.006709696603417462, 0.006709696603417462, 0.07268837987035584, 0.018265285198191983, 0.2709276700569369, 0.016932979378558557, 0.5587883194924325, 0.050798938135675674, 0.016932979378558557, 0.050798938135675674, 0.016932979378558557, 0.018268487629080704, 0.16441638866172634, 0.14614790103264563, 0.12787941340356493, 0.03653697525816141, 0.09134243814540352, 0.05480546288724212, 0.05480546288724212, 0.018268487629080704, 0.05480546288724212, 0.20095336391988777, 0.07804000666876455, 0.1560800133375291, 0.09755000833595569, 0.13657001167033797, 0.07804000666876455, 0.05853000500157341, 0.1560800133375291, 0.019510001667191138, 0.2146100183391025, 0.029425879633401163, 0.24276350697555962, 0.5223093634928707, 0.11034704862525437, 0.007356469908350291, 0.014712939816700582, 0.029425879633401163, 0.007356469908350291, 0.036782349541751455, 0.014210945894305224, 0.018947927859073635, 0.8242348618697031, 0.009473963929536817, 0.004736981964768409, 0.009473963929536817, 0.05210680161245249, 0.009473963929536817, 0.014210945894305224, 0.03789585571814727, 0.061092829056140836, 0.044581253635562236, 0.23941784359838977, 0.3054641452807042, 0.052837041345851536, 0.02972083575704149, 0.04788356871967796, 0.03632546592527293, 0.02806967821498363, 0.04293009609350437, 0.03632546592527293, 0.03137199329909935, 0.02972083575704149, 0.014860417878520745, 0.014462036147203799, 0.014462036147203799, 0.057848144588815195, 0.12292730725123228, 0.028924072294407598, 0.014462036147203799, 0.289240722944076, 0.021693054220805696, 0.007231018073601899, 0.42663006634251205, 0.2713147547823399, 0.04147486697309654, 0.06912477828849424, 0.07949349503176838, 0.0432029864303089, 0.09331845068946722, 0.027649911315397693, 0.03283426968703476, 0.05184358371637068, 0.019009314029335915, 0.053571703173583035, 0.08986221177504251, 0.11059964526159077, 0.015553075114911203, 0.27710796570756635, 0.008150234285516656, 0.02445070285654997, 0.008150234285516656, 0.4075117142758328, 0.04890140571309994, 0.008150234285516656, 0.12225351428274984, 0.032600937142066626, 0.008150234285516656, 0.04890140571309994, 0.009250754725037232, 0.01123305930897378, 0.004625377362518616, 0.016519204866137914, 0.13677901629162192, 0.021805350423302047, 0.009250754725037232, 0.054843760155577875, 0.03964609167873099, 0.008589986530391716, 0.20682044492404666, 0.4658415772250892, 0.012554595698264814, 0.0019823045839365496, 0.012856814673499981, 0.2764215154802496, 0.07585520657364989, 0.1401392799411498, 0.0655697548348499, 0.010285451738799986, 0.08871202124714987, 0.0038570444020499944, 0.04114180695519994, 0.005142725869399993, 0.11828269499619982, 0.02057090347759997, 0.13371087260439982, 0.008999770271449986, 0.009195055817350051, 0.0551703349041003, 0.013792583726025076, 0.05976786281277533, 0.2574615628858014, 0.013792583726025076, 0.0045975279086750255, 0.02758516745205015, 0.009195055817350051, 0.37239976060267704, 0.0551703349041003, 0.09195055817350051, 0.018390111634700102, 0.0045975279086750255, 0.008923838647022689, 0.22755788549907857, 0.022309596617556722, 0.0401572739116021, 0.03123343526457941, 0.03123343526457941, 0.026771515941068066, 0.16509101496991974, 0.008923838647022689, 0.004461919323511344, 0.08477646714671555, 0.004461919323511344, 0.0803145478232042, 0.25879132076365796, 0.0031863004181774917, 0.0031863004181774917, 0.08284381087261478, 0.0031863004181774917, 0.01911780250906495, 0.0031863004181774917, 0.8061340057989054, 0.009558901254532475, 0.0063726008363549835, 0.044608205854484884, 0.009558901254532475, 0.009558901254532475, 0.10479538798291636, 0.07859654098718727, 0.02619884699572909, 0.05239769399145818, 0.05239769399145818, 0.07859654098718727, 0.10479538798291636, 0.05239769399145818, 0.07859654098718727, 0.2357896229615618, 0.02619884699572909, 0.13099423497864546, 0.3587166895546146, 0.08488715554345842, 0.019168067380780935, 0.010953181360446249, 0.02738295340111562, 0.021906362720892497, 0.043812725441784994, 0.030121248741227184, 0.05476590680223124, 0.008214886020334686, 0.08214886020334686, 0.01369147670055781, 0.24370828526992902, 0.002738295340111562, 0.009501237684810074, 0.3491704849167702, 0.07838521089968312, 0.021377784790822668, 0.023753094212025185, 0.023753094212025185, 0.2422815609626569, 0.08551113916329067, 0.014251856527215112, 0.06650866379367051, 0.01900247536962015, 0.023753094212025185, 0.009501237684810074, 0.03087902247563274, 0.005198735335316621, 0.010397470670633242, 0.8733875363331923, 0.031192412011899727, 0.010397470670633242, 0.005198735335316621, 0.005198735335316621, 0.020794941341266485, 0.031192412011899727, 0.12339692867047386, 0.043551857177814304, 0.2322765716150096, 0.15606082155383458, 0.03750298812534009, 0.23711566685698898, 0.00725864286296905, 0.006048869052474208, 0.044761630988309146, 0.00725864286296905, 0.009678190483958734, 0.016936833346927783, 0.04113230955682462, 0.038712761935834936, 0.031011868992153458, 0.05427077073626855, 0.05427077073626855, 0.09303560697646038, 0.3566364934097648, 0.031011868992153458, 0.3101186899215346, 0.015505934496076729, 0.04651780348823019, 0.06342003311956085, 0.027180014194097508, 0.10872005677639003, 0.036240018925463344, 0.06342003311956085, 0.6251403264642427, 0.027180014194097508, 0.009060004731365836, 0.027180014194097508, 0.017831481157332806, 0.017831481157332806, 0.08915740578666403, 0.05349444347199842, 0.2496407362026593, 0.017831481157332806, 0.03566296231466561, 0.46361851009065297, 0.017831481157332806, 0.017831481157332806, 0.027536771119086003, 0.11014708447634401, 0.013768385559543002, 0.11014708447634401, 0.15145224115497302, 0.013768385559543002, 0.013768385559543002, 0.38551479566720404, 0.013768385559543002, 0.013768385559543002, 0.15145224115497302, 0.07317155835297227, 0.008130173150330253, 0.016260346300660505, 0.5040707353204756, 0.05691121205231177, 0.07317155835297227, 0.08130173150330253, 0.016260346300660505, 0.024390519450990758, 0.008130173150330253, 0.11382242410462354, 0.03252069260132101, 0.002825606249257122, 0.01271522812165705, 0.04379689686348539, 0.03108166874182834, 0.0508609124866282, 0.024017653118685537, 0.018366440620171294, 0.3277703249138262, 0.01271522812165705, 0.03108166874182834, 0.016953637495542732, 0.3743928280265687, 0.033907274991085465, 0.019779243744799856, 0.06843328823997494, 0.009776184034282133, 0.06843328823997494, 0.019552368068564266, 0.0879856563085392, 0.019552368068564266, 0.0879856563085392, 0.009776184034282133, 0.019552368068564266, 0.03910473613712853, 0.5474663059197995, 0.009776184034282133, 0.02590248696531057, 0.01726832464354038, 0.00863416232177019, 0.11224411018301247, 0.00863416232177019, 0.00863416232177019, 0.00863416232177019, 0.00863416232177019, 0.7857087712810873, 0.00863416232177019, 0.6378066552962622, 0.010123915163432735, 0.09111523647089462, 0.010123915163432735, 0.03374638387810912, 0.07761668291965096, 0.05061957581716367, 0.01687319193905456, 0.006749276775621823, 0.03374638387810912, 0.0033746383878109115, 0.013498553551243646, 0.006749276775621823, 0.013498553551243646, 0.3093623538664261, 0.03331594580099973, 0.01427826248614274, 0.05711304994457096, 0.038075366629713975, 0.023797104143571234, 0.019037683314856987, 0.3236406163525688, 0.1427826248614274, 0.023797104143571234, 0.004759420828714247, 0.12929716115249063, 0.14621454672384454, 0.24409370610096362, 0.054377310765066154, 0.07008631165275193, 0.06525277291807938, 0.05316892608139801, 0.04471023329572106, 0.01812577025502205, 0.049543772030393604, 0.019334154938690187, 0.024167693673362734, 0.02900123240803528, 0.054377310765066154, 0.04256544164107516, 0.008107703169728602, 0.780366430086378, 0.05472699639566806, 0.012161554754592904, 0.004053851584864301, 0.006080777377296452, 0.0020269257924321504, 0.008107703169728602, 0.016215406339457204, 0.004053851584864301, 0.05067314481080376, 0.008107703169728602, 0.006562287091731495, 0.08530973219250944, 0.019686861275194485, 0.01312457418346299, 0.006562287091731495, 0.8334104606498999, 0.01312457418346299, 0.01312457418346299, 0.006562287091731495, 0.006562287091731495, 0.050976848575551105, 0.19541125287294592, 0.024072400716232466, 0.03823263643166333, 0.03964866000320642, 0.06372106071943888, 0.10903381500881765, 0.12177802715270543, 0.007080117857715432, 0.018408306430060122, 0.24072400716232467, 0.04531275428937876, 0.02265637714468938, 0.021240353573146294, 0.012454405751770037, 0.012454405751770037, 0.2989057380424809, 0.42344979556018125, 0.024908811503540074, 0.16190727477301048, 0.03736321725531011, 0.21098704937087367, 0.08439481974834948, 0.028131606582783155, 0.014065803291391578, 0.05626321316556631, 0.09846062303974104, 0.014065803291391578, 0.014065803291391578, 0.014065803291391578, 0.04219740987417474, 0.014065803291391578, 0.39384249215896416, 0.15763400675440645, 0.08864678837889524, 0.08257019401421291, 0.07363402583085653, 0.06219573055616037, 0.10330210419959969, 0.039676586734102307, 0.04074892691610507, 0.08364253419621567, 0.03502977927875699, 0.09901274347158863, 0.06076594364682335, 0.05540424273680952, 0.018229783094047006, 0.00860255074200591, 0.0021506376855014776, 0.00860255074200591, 0.08602550742005911, 0.00860255074200591, 0.10107997121856946, 0.004301275371002955, 0.4580858270118148, 0.02795828991151921, 0.012903826113008866, 0.02150637685501478, 0.22151568160665222, 0.04086211602452808, 0.22147748359285677, 0.023640854990248757, 0.11073874179642838, 0.02239659946444619, 0.011198299732223095, 0.08958639785778476, 0.031106388145064154, 0.3508800582763236, 0.03235064367086672, 0.055991498661115476, 0.01244255525802566, 0.02488511051605132, 0.004977022103210264, 0.008709788680617963, 0.19736106400472062, 0.09868053200236031, 0.016446755333726717, 0.016446755333726717, 0.14802079800354045, 0.032893510667453434, 0.016446755333726717, 0.47695590467807486, 0.46410766442939544, 0.01912531584187069, 0.1517275056788408, 0.03952565273986609, 0.02295037901024483, 0.04717577907661437, 0.008925147392872989, 0.08160134759198161, 0.025500421122494253, 0.011475189505122415, 0.036975610627616666, 0.030600505346993104, 0.026775442178618967, 0.030600505346993104, 0.23806487860620848, 0.18659139134000124, 0.10938116044069038, 0.01286837181655181, 0.032170929541379525, 0.02573674363310362, 0.006434185908275905, 0.07721023089931085, 0.02573674363310362, 0.2573674363310362, 0.019302557724827713, 0.5460435416720536, 0.02011097865533233, 0.009141353934241968, 0.015235589890403281, 0.007922506743009707, 0.020720402250948462, 0.14930878092595215, 0.012797895507938757, 0.00487538876492905, 0.056676394392300204, 0.03473714495011948, 0.017063860677251675, 0.027424061802725906, 0.0780062202388648, 0.04867005647758236, 0.7774729534752259, 0.009983601328734843, 0.009983601328734843, 0.02433502823879118, 0.021215152823561543, 0.014351426910056338, 0.003743850498275566, 0.006239750830459277, 0.03244670431838824, 0.014975401993102265, 0.022463102989653396, 0.007487700996551132, 0.006239750830459277, 0.008516380203072936, 0.0936801822338023, 0.11071294263994816, 0.17032760406145872, 0.3747207289352092, 0.07664742182765642, 0.03406552081229174, 0.01703276040614587, 0.008516380203072936, 0.11071294263994816, 0.04183616493655949, 0.010459041234139873, 0.04183616493655949, 0.42882069059973477, 0.04183616493655949, 0.10459041234139872, 0.20918082468279744, 0.10459041234139872, 0.010459041234139873, 0.010459041234139873, 0.12759401809876914, 0.16404945184127462, 0.12759401809876914, 0.018227716871252735, 0.054683150613758204, 0.054683150613758204, 0.018227716871252735, 0.07291086748501094, 0.3098711868112965, 0.018227716871252735, 0.054683150613758204, 0.06368272817256287, 0.02517689253333881, 0.056277759780404404, 0.06664471552942626, 0.038505835639224065, 0.047391797709814235, 0.010366955749021863, 0.054796766101972705, 0.0014809936784316948, 0.3924633247843991, 0.011847949427453559, 0.18216222244709845, 0.03406285460392898, 0.016290930462748644, 0.03718419331271334, 0.0025352859076850005, 0.008450953025616667, 0.5095924674446851, 0.005915667117931667, 0.17155434642001835, 0.008450953025616667, 0.005915667117931667, 0.14873677325085335, 0.031268526194781675, 0.025352859076850004, 0.009296048328178335, 0.009296048328178335, 0.027888144984535006, 0.12098155299501027, 0.1433679033523547, 0.11288436244022612, 0.08811648544912165, 0.06096708182425714, 0.055251417903233034, 0.06477752443827321, 0.055727723229985045, 0.04429639538793683, 0.059538165844001116, 0.04000964744716875, 0.05001205930896094, 0.03619920483315268, 0.06858796705228928, 0.013115907248210533, 0.8328601102613689, 0.006557953624105267, 0.006557953624105267, 0.013115907248210533, 0.032789768120526336, 0.0196738608723158, 0.0393477217446316, 0.006557953624105267, 0.013115907248210533, 0.006557953624105267, 0.006557953624105267, 0.05779910919383999, 0.07706547892511999, 0.019266369731279997, 0.019266369731279997, 0.15413095785023997, 0.038532739462559994, 0.05779910919383999, 0.11559821838767997, 0.4431265038194399, 0.019266369731279997, 0.017543471938856907, 0.07894562372485608, 0.005847823979618969, 0.011695647959237937, 0.0029239119898094843, 0.008771735969428453, 0.25438034311342517, 0.06724997576561814, 0.0029239119898094843, 0.470749830359327, 0.04678259183695175, 0.020467383928666393, 0.008771735969428453, 0.02617266956749609, 0.04580217174311816, 0.18320868697247264, 0.13740651522935446, 0.09814751087811034, 0.006543167391874023, 0.006543167391874023, 0.006543167391874023, 0.03271583695937011, 0.013086334783748045, 0.01962950217562207, 0.03925900435124414, 0.3795037087286933, 0.04951336469423798, 0.14235092349593417, 0.0783961607658768, 0.035071966658418566, 0.016504454898079324, 0.4105483155897232, 0.02475668234711899, 0.0660178195923173, 0.02269362548485907, 0.026819739209378905, 0.02888279607163882, 0.026819739209378905, 0.05363947841875781, 0.01856751176033924, 0.004469030197460177, 0.011172575493650442, 0.01787612078984071, 0.22345150987300885, 0.008938060394920355, 0.5742703803736328, 0.0022345150987300886, 0.03351772648095133, 0.04692481707333186, 0.03351772648095133, 0.004469030197460177, 0.008938060394920355, 0.013407090592380532, 0.024579666086030974, 0.0129848279224895, 0.0129848279224895, 0.0129848279224895, 0.0129848279224895, 0.48043863313211155, 0.0129848279224895, 0.23372690260481102, 0.207757246759832, 0.0129848279224895, 0.18020370585880288, 0.09257039684527545, 0.19378069739610992, 0.03579388678017317, 0.007405631747622036, 0.011108447621433053, 0.204889145017543, 0.008639903705559043, 0.022216895242866106, 0.03455961482223617, 0.02715398307461413, 0.017279807411118085, 0.11972437991988957, 0.04566806244366922, 0.006463722990004456, 0.7239369748804991, 0.03231861495002228, 0.025854891960017824, 0.025854891960017824, 0.006463722990004456, 0.08402839887005793, 0.03231861495002228, 0.006463722990004456, 0.012927445980008912, 0.045246060930031196, 0.016028601308652277, 0.048085803925956835, 0.288514823555741, 0.016028601308652277, 0.048085803925956835, 0.048085803925956835, 0.4808580392595683, 0.032057202617304555, 0.1035674915987883, 0.014795355942684042, 0.029590711885368083, 0.029590711885368083, 0.6214049495927297, 0.1035674915987883, 0.014795355942684042, 0.059181423770736166, 0.014795355942684042, 0.005658007007601267, 0.11881814715962662, 0.028290035038006336, 0.40171849753968997, 0.005658007007601267, 0.16408220322043676, 0.03960604905320887, 0.011316014015202535, 0.011316014015202535, 0.10184412613682281, 0.04526405606081014, 0.005658007007601267, 0.033948042045607606, 0.02263202803040507, 0.6267074174460325, 0.021912846763847294, 0.06573854029154187, 0.017530277411077835, 0.017530277411077835, 0.013147708058308375, 0.03067798546938621, 0.004382569352769459, 0.05697340158600296, 0.013147708058308375, 0.013147708058308375, 0.008765138705538918, 0.05697340158600296, 0.05697340158600296, 0.007466129706098207, 0.014932259412196414, 0.686883932961035, 0.037330648530491034, 0.014932259412196414, 0.2015855020646516, 0.007466129706098207, 0.014932259412196414, 0.006865274689434745, 0.1235749444098254, 0.006865274689434745, 0.10984439503095592, 0.01373054937886949, 0.020595824068304232, 0.5354914257759101, 0.006865274689434745, 0.0617874722049127, 0.03432637344717372, 0.01373054937886949, 0.006865274689434745, 0.0617874722049127, 0.0020254251242540155, 0.053673765792731414, 0.03544493967444527, 0.007088987934889055, 0.016203400994032124, 0.010127125621270078, 0.1691229978752103, 0.23900016466197385, 0.24406372747260888, 0.010127125621270078, 0.129627207952257, 0.06278817885187449, 0.01924153868041315, 0.0010127125621270077, 0.020488398564856635, 0.020488398564856635, 0.6351403555105557, 0.04097679712971327, 0.020488398564856635, 0.2663491813431363, 0.020488398564856635, 0.33440885082992694, 0.0523772898890247, 0.0302176672436681, 0.02618864494451235, 0.01208706689746724, 0.034246689542823845, 0.06647886793606982, 0.03626120069240172, 0.0302176672436681, 0.008058044598311493, 0.01813060034620086, 0.028203156094090225, 0.29814765013752526, 0.02417413379493448, 0.009531289497082948, 0.07148467122812212, 0.03335951323979032, 0.009531289497082948, 0.011914111871353685, 0.004765644748541474, 0.24781352692415665, 0.12152394108780759, 0.08339878309947579, 0.009531289497082948, 0.2835558625382177, 0.04050798036260253, 0.07386749360239285, 0.002382822374270737, 0.052706308779142966, 0.03952973158435723, 0.035137539186095315, 0.026353154389571483, 0.052706308779142966, 0.05709850117740488, 0.6017303585618822, 0.0307453467878334, 0.017568769593047658, 0.0307453467878334, 0.008784384796523829, 0.004392192398261914, 0.0307453467878334, 0.008784384796523829, 0.07697458948963926, 0.035671151226906, 0.10044245213891952, 0.21684305087934963, 0.07040358794784078, 0.06477130091201352, 0.06477130091201352, 0.054445441346330205, 0.05538415585230142, 0.03754858023884842, 0.07979073300755289, 0.029100149685107525, 0.0901165925732362, 0.02252914814330905, 0.007485132299391942, 0.1484551239379402, 0.09231663169250062, 0.14596007983814288, 0.0174653086985812, 0.01247522049898657, 0.07110875684422345, 0.05364344814564225, 0.04241574969655434, 0.029940529197567768, 0.1858807854348999, 0.01621778664868254, 0.16966299878621735, 0.006237610249493285, 0.02289753883202063, 0.06869261649606188, 0.011448769416010316, 0.011448769416010316, 0.10303892474409283, 0.6067847790485467, 0.03434630824803094, 0.11448769416010315, 0.011448769416010316, 0.026059495718631493, 0.004598734538582028, 0.027592407231492172, 0.49666333016685904, 0.04292152236009893, 0.29278609895638913, 0.006131646051442704, 0.010730380590024733, 0.001532911512860676, 0.012263292102885409, 0.016862026641467437, 0.006131646051442704, 0.04138861084723826, 0.012263292102885409, 0.04039800983006005, 0.04407055617824733, 0.0036725463481872772, 0.0073450926963745545, 0.029380370785498218, 0.011017639044561833, 0.0807960196601201, 0.04407055617824733, 0.6537132499773354, 0.0036725463481872772, 0.058760741570996436, 0.014690185392749109, 0.0073450926963745545, 0.3130621379712981, 0.02120341173510784, 0.05737393763617416, 0.034923266387236446, 0.038665044928726064, 0.0461486020117053, 0.07982460888511188, 0.032428747359576696, 0.12347869186915743, 0.13220950846596655, 0.04240682347021568, 0.02120341173510784, 0.03991230444255594, 0.016214373679788348, 0.02118886080252288, 0.47674936805676477, 0.01059443040126144, 0.02118886080252288, 0.06356658240756864, 0.03178329120378432, 0.01059443040126144, 0.04237772160504576, 0.30723848163658174, 0.02118886080252288, 0.08564934199727281, 0.21412335499318202, 0.10706167749659101, 0.021412335499318202, 0.042824670998636405, 0.021412335499318202, 0.08564934199727281, 0.042824670998636405, 0.10706167749659101, 0.29977269699045483, 0.028587630991730336, 0.0343051571900764, 0.011435052396692135, 0.07432784057849888, 0.0057175261983460676, 0.25157115272722697, 0.07432784057849888, 0.0057175261983460676, 0.37735672909084045, 0.0057175261983460676, 0.011435052396692135, 0.02287010479338427, 0.09719794537188314, 0.19457707707323144, 0.02837582373984625, 0.008107378211384644, 0.4904963817887709, 0.008107378211384644, 0.05269795837400018, 0.05269795837400018, 0.02026844552846161, 0.008107378211384644, 0.03242951284553858, 0.008107378211384644, 0.02432213463415393, 0.06485902569107715, 0.029650523300450593, 0.012484430863347619, 0.0015605538579184523, 0.024968861726695237, 0.0327716310162875, 0.056179938885064284, 0.012484430863347619, 0.3885779106216946, 0.0031211077158369046, 0.10767821619637322, 0.037453292590042854, 0.2091142169610726, 0.08270935446967798, 0.0015605538579184523, 0.060260604322479705, 0.4117807962036113, 0.010043434053746617, 0.020086868107493234, 0.010043434053746617, 0.38165049404237145, 0.07030403837622631, 0.010043434053746617, 0.7989383258213022, 0.01836639829474258, 0.00918319914737129, 0.00918319914737129, 0.04591599573685645, 0.00918319914737129, 0.04591599573685645, 0.00918319914737129, 0.027549597442113872, 0.00918319914737129, 0.00918319914737129, 0.049475244970381374, 0.01935987846667097, 0.10970597797780217, 0.2086564679185649, 0.13336805165928892, 0.02581317128889463, 0.01075548803703943, 0.16778561337781508, 0.012906585644447315, 0.0064532928222236574, 0.17639000380744663, 0.012906585644447315, 0.03871975693334194, 0.027964268896302515, 0.17250846688555765, 0.029572880037524167, 0.009857626679174723, 0.019715253358349446, 0.029572880037524167, 0.014786440018762084, 0.32037286707317847, 0.059145760075048334, 0.07393220009381042, 0.014786440018762084, 0.1035050801313346, 0.06900338675422306, 0.06900338675422306, 0.0049288133395873615, 0.00646538501139108, 0.0323269250569554, 0.00646538501139108, 0.00646538501139108, 0.05172308009112864, 0.7887769713897118, 0.07111923512530188, 0.01293077002278216, 0.00646538501139108, 0.00646538501139108, 0.00646538501139108, 0.00646538501139108, 0.0038723409442570724, 0.007744681888514145, 0.03097872755405658, 0.0038723409442570724, 0.007744681888514145, 0.011617022832771218, 0.0697021369966273, 0.6699149833564735, 0.10068086455068388, 0.03097872755405658, 0.03097872755405658, 0.01936170472128536, 0.007744681888514145, 0.12984100558251027, 0.08869420803875702, 0.09326607443250738, 0.06674924934875529, 0.09692356754750767, 0.053948023446254274, 0.04663303721625369, 0.09052295459625717, 0.07132111574250564, 0.024688078526251954, 0.06674924934875529, 0.024688078526251954, 0.0859510882025068, 0.060348636397504776, 0.07609900854493738, 0.02113861348470483, 0.02113861348470483, 0.3593564292399821, 0.09300989933270125, 0.2367524710286941, 0.004227722696940966, 0.004227722696940966, 0.004227722696940966, 0.004227722696940966, 0.09300989933270125, 0.03804950427246869, 0.033821781575527725, 0.02113861348470483, 0.009356400320022395, 0.06549480224015676, 0.08108880277352742, 0.021831600746718922, 0.043663201493437845, 0.04678200160011197, 0.12163320416029114, 0.34930561194750276, 0.01871280064004479, 0.012475200426696526, 0.1590588054403807, 0.04054440138676371, 0.01871280064004479, 0.0031188001066741315, 0.4041981351872888, 0.1515743006952333, 0.08661388611156189, 0.02165347152789047, 0.12270300532471268, 0.0072178238426301574, 0.16600994838049363, 0.014435647685260315, 0.0072178238426301574, 0.0072178238426301574, 0.030642432431106783, 0.43665466214327164, 0.14555155404775721, 0.13789094593998052, 0.007660608107776696, 0.06894547296999026, 0.015321216215553391, 0.09192729729332035, 0.030642432431106783, 0.007660608107776696, 0.015321216215553391, 0.007660608107776696, 0.009893524123818678, 0.023084889622243584, 0.029680572371456035, 0.10647316438014387, 0.006124562552840135, 0.11212660673661169, 0.11683780870033487, 0.03580513492429617, 0.34109102217355824, 0.09328179888171897, 0.020729288640381992, 0.0833882747579003, 0.015546966480286495, 0.006124562552840135, 0.006349474228930205, 0.0021164914096434015, 0.02751438832536422, 0.01340444559440821, 0.0021164914096434015, 0.002821988546191202, 0.8621175008614123, 0.011993451321312609, 0.039507839646676826, 0.016931931277147212, 0.007760468502025806, 0.001410994273095601, 0.003527485682739003, 0.002821988546191202, 0.22354051935325062, 0.04967567096738903, 0.012418917741847257, 0.38498644999726495, 0.031047294354618143, 0.217331060482327, 0.03725675322554177, 0.012418917741847257, 0.0062094588709236285, 0.012418917741847257, 0.0062094588709236285, 0.0015900448469808738, 0.0015900448469808738, 0.03975112117452184, 0.004770134540942621, 0.007950224234904369, 0.0031800896939617475, 0.0031800896939617475, 0.20352574041355184, 0.5596957861372676, 0.1319737222994125, 0.023850672704713107, 0.009540269081885242, 0.0015900448469808738, 0.004770134540942621, 0.09108751139261047, 0.2111574127737788, 0.07866648711179995, 0.09936819424648415, 0.08591208460893941, 0.06003495069058417, 0.025877133918355246, 0.03726307284243155, 0.0631402067607868, 0.06831563354445784, 0.03726307284243155, 0.05382443855017891, 0.0527893531934447, 0.03519290212896313, 0.01638154804585778, 0.9009851425221778, 0.049144644137573336, 0.01638154804585778, 0.09088029376026636, 0.005680018360016648, 0.02272007344006659, 0.005680018360016648, 0.017040055080049944, 0.6872822215620145, 0.02272007344006659, 0.005680018360016648, 0.13064042228038292, 0.069882316861123, 0.05241173764584225, 0.5415879556737032, 0.1048234752916845, 0.0349411584305615, 0.15723521293752674, 0.0211351492094159, 0.3170272381412385, 0.13737846986120336, 0.052837873023539754, 0.01056757460470795, 0.0845405968376636, 0.01056757460470795, 0.01056757460470795, 0.2324866413035749, 0.0211351492094159, 0.052837873023539754, 0.06340544762824771, 0.02474797509518524, 0.008838562533994728, 0.005303137520396837, 0.021212550081587348, 0.06894078776515888, 0.026515687601984184, 0.11136588792833357, 0.31995596373060914, 0.2015192257750798, 0.030051112615582076, 0.033586537629179965, 0.1272753004895241, 0.007070850027195782, 0.015909412561190512, 0.07995698380454917, 0.021451873703659533, 0.36663202329890837, 0.04680408808071171, 0.07215630245776389, 0.11506004986508295, 0.023402044040355854, 0.03315289572383746, 0.021451873703659533, 0.005850511010088964, 0.01560136269357057, 0.03315289572383746, 0.14431260491552778, 0.019501703366963212, 0.005945205684062846, 0.03567123410437707, 0.9274520867138039, 0.005945205684062846, 0.005945205684062846, 0.005945205684062846, 0.005945205684062846, 0.14921698541199668, 0.046630307941248963, 0.44298792544186516, 0.018652123176499585, 0.032641215558874274, 0.027978184764749378, 0.19118426255912077, 0.009326061588249793, 0.009326061588249793, 0.06061940032362365, 0.009326061588249793, 0.1272753510551178, 0.09382011592062971, 0.056728442184566796, 0.12509348789417293, 0.07563792291275573, 0.0850926632768502, 0.08581995099716515, 0.045091838659527456, 0.03490981057511803, 0.04654641410015737, 0.051637428142362087, 0.06545589482834631, 0.05891030534551167, 0.04872827726110225, 0.11126191266073161, 0.18883902607555367, 0.08778462833782494, 0.08012899214557277, 0.08268087087632349, 0.041340435438161745, 0.042871562676612185, 0.06379696826876813, 0.048485695884263776, 0.0510375746150145, 0.0510375746150145, 0.05767245931496639, 0.042361186930462036, 0.0510375746150145, 0.05547785280404302, 0.07397047040539069, 0.21780194063809483, 0.361633410870799, 0.07191573511635206, 0.04931364693692713, 0.010273676445193152, 0.06369679396019755, 0.006164205867115891, 0.03287576462461809, 0.018492617601347672, 0.012328411734231782, 0.010273676445193152, 0.014383147023270412, 0.4247035320193625, 0.16905674575528024, 0.03161223701114996, 0.030237791923708658, 0.06322447402229991, 0.04123335262323908, 0.03711001736091517, 0.04123335262323908, 0.03985890753579777, 0.01649334104929563, 0.017867786136736934, 0.027488901748826053, 0.04260779771068038, 0.015118895961854329, 0.06247126870960932, 0.004164751247307288, 0.2415555723438227, 0.0708007712042239, 0.09578927868806762, 0.32485059728996846, 0.008329502494614576, 0.01665900498922915, 0.008329502494614576, 0.012494253741921865, 0.004164751247307288, 0.05830651746230203, 0.0708007712042239, 0.02082375623653644, 0.0034630921102193537, 0.006926184220438707, 0.0034630921102193537, 0.0034630921102193537, 0.0017315460551096768, 0.07618802642482578, 0.07791957247993546, 0.0051946381653290305, 0.015583914495987092, 0.6597190469967869, 0.112550493582129, 0.012120822385767739, 0.0051946381653290305, 0.015583914495987092, 0.007549431165726668, 0.0030197724662906675, 0.0030197724662906675, 0.3918154775012141, 0.006039544932581335, 0.16457759941284136, 0.01736369168117134, 0.005284601816008668, 0.17439185992828604, 0.1502336801979607, 0.006039544932581335, 0.011324146748590003, 0.01736369168117134, 0.04303175764464201, 0.05088295190581453, 0.020353180762325812, 0.3358274825783759, 0.4884763382958195, 0.010176590381162906, 0.010176590381162906, 0.040706361524651624, 0.030529771143488718, 0.010176590381162906, 0.009087727887961564, 0.05452636732776938, 0.009087727887961564, 0.49073730594992443, 0.15449137409534658, 0.21810546931107752, 0.009087727887961564, 0.009087727887961564, 0.05452636732776938, 0.03446078400409609, 0.13292016687294209, 0.04430672229098069, 0.017230392002048046, 0.08861344458196138, 0.004922969143442299, 0.022153361145490345, 0.3076855714651437, 0.10092086744056714, 0.029537814860653797, 0.15999649716187472, 0.019691876573769196, 0.009845938286884598, 0.027076330288932648, 0.07884329098605145, 0.022237851303758098, 0.0646919310654781, 0.31335154109840957, 0.04649732545331239, 0.07277842244866287, 0.0040432456915923815, 0.0020216228457961907, 0.14353522205152955, 0.11321087936458668, 0.03234596553273905, 0.05256219399070096, 0.04851894829910858, 0.008086491383184763, 0.02688742784497417, 0.013443713922487084, 0.1277152822636273, 0.006721856961243542, 0.020165570883730624, 0.161324567069845, 0.14115899618611438, 0.07394042657367896, 0.020165570883730624, 0.12099342530238376, 0.006721856961243542, 0.2755961354109852, 0.04196705412579518, 0.8897015474668578, 0.008393410825159035, 0.02518023247547711, 0.01678682165031807, 0.008393410825159035, 0.008393410825159035, 0.15966178896279018, 0.014514708087526381, 0.725735404376319, 0.014514708087526381, 0.029029416175052763, 0.014514708087526381, 0.015380713657132906, 0.007690356828566453, 0.10766499559993034, 0.030761427314265812, 0.49987319385681944, 0.02307107048569936, 0.09228428194279743, 0.11535535242849679, 0.007690356828566453, 0.015380713657132906, 0.05383249779996517, 0.03845178414283226, 0.012572312259276016, 0.01616440147621202, 0.19936095153994826, 0.09159827503186811, 0.007184178433872009, 0.20115699614841626, 0.039512981386296046, 0.22450557605850027, 0.03412484756089204, 0.09159827503186811, 0.007184178433872009, 0.01796044608468002, 0.03592089216936004, 0.019756490693148023, 0.00682113585324138, 0.0825357438242207, 0.16438937406311727, 0.0914032204334345, 0.07025769928838622, 0.04160892870477242, 0.025238202656993107, 0.03819836077815173, 0.06889347211773794, 0.019781293974400004, 0.03274145209555863, 0.012960158121158622, 0.2926267281040552, 0.053204859655282766, 0.013470250411041709, 0.06735125205520855, 0.7947447742514608, 0.060616126849687695, 0.0067351252055208545, 0.0067351252055208545, 0.0067351252055208545, 0.04041075123312513, 0.04318033745842548, 0.17860957766894175, 0.33562898660867074, 0.22375265773911385, 0.017664683505719515, 0.03729210962318564, 0.0628077635758916, 0.013739198282226289, 0.003925485223493225, 0.0157019408939729, 0.027478396564452577, 0.0157019408939729, 0.011776455670479675, 0.009813713058733064, 0.6870010893569707, 0.009125251661288036, 0.00521442952073602, 0.027375754983864103, 0.02346493284331209, 0.011732466421656046, 0.13948598967968853, 0.006518036900920025, 0.03389379188478413, 0.003910822140552015, 0.014339681182024056, 0.014339681182024056, 0.01564328856220806, 0.009125251661288036, 0.01712554816397785, 0.5052036708373466, 0.01712554816397785, 0.15412993347580065, 0.008562774081988925, 0.0685021926559114, 0.025688322245966778, 0.008562774081988925, 0.0342510963279557, 0.01712554816397785, 0.0342510963279557, 0.07706496673790032, 0.025688322245966778, 0.037897003016202996, 0.007579400603240599, 0.0227382018097218, 0.3713906295587894, 0.053055804222684196, 0.015158801206481198, 0.015158801206481198, 0.44718463559119537, 0.015158801206481198, 0.007579400603240599, 0.007579400603240599, 0.6751920440312897, 0.006430400419345617, 0.05144320335476493, 0.10931680712887548, 0.01929120125803685, 0.012860800838691233, 0.006430400419345617, 0.05144320335476493, 0.006430400419345617, 0.012860800838691233, 0.05144320335476493, 0.006430400419345617, 0.34554295944993013, 0.02667794907517843, 0.07749309017075638, 0.03175946318473622, 0.01143340674650504, 0.09908952513637702, 0.015244542328673387, 0.1372008809580605, 0.04827438404079906, 0.027948327602567876, 0.008892649691726142, 0.09146725397204032, 0.019055677910841735, 0.05843741225991465, 0.07325454484958639, 0.011269929976859445, 0.005634964988429723, 0.7156405535305748, 0.005634964988429723, 0.02253985995371889, 0.011269929976859445, 0.09015943981487556, 0.02253985995371889, 0.005634964988429723, 0.005634964988429723, 0.016904894965289168, 0.007625275659102954, 0.009531594573878692, 0.005083517106068636, 0.6055739752604262, 0.014615111679947328, 0.22049755447572708, 0.0019063189147757384, 0.018427749509498804, 0.010167034212137271, 0.03939725757203193, 0.006989836020844374, 0.005083517106068636, 0.03812637829551477, 0.017792309871240225, 0.0027847847705294465, 0.025063062934765016, 0.0027847847705294465, 0.016708708623176676, 0.648854851533361, 0.08632832788641283, 0.03341741724635335, 0.027847847705294464, 0.025063062934765016, 0.0027847847705294465, 0.036202202016882803, 0.04734134109900059, 0.027847847705294464, 0.019493493393706124, 0.7052953433291621, 0.011625747417513661, 0.042627740530883425, 0.011625747417513661, 0.12788322159265028, 0.0038752491391712204, 0.007750498278342441, 0.011625747417513661, 0.011625747417513661, 0.0038752491391712204, 0.023251494835027323, 0.015500996556684882, 0.019376245695856102, 0.0038752491391712204, 0.018782306313493594, 0.018782306313493594, 0.009391153156746797, 0.018782306313493594, 0.03756461262698719, 0.028173459470240393, 0.15025845050794875, 0.009391153156746797, 0.21599652260517635, 0.028173459470240393, 0.03756461262698719, 0.4319930452103527, 0.013199769885201676, 0.21119631816322681, 0.05543903351784704, 0.03431940170152436, 0.1715970085076218, 0.01583972386224201, 0.1636771465765008, 0.0026399539770403354, 0.005279907954080671, 0.023759585793363017, 0.2402358119106705, 0.029039493747443686, 0.026399539770403352, 0.013199769885201676, 0.10778467324831657, 0.02680655085968495, 0.0055846980957676975, 0.04914534324275574, 0.017871033906456633, 0.015637154668149553, 0.015637154668149553, 0.003909288667037388, 0.015637154668149553, 0.6344217036792105, 0.02457267162137787, 0.0061431679053444675, 0.07483495448328716, 0.002233879238307079, 0.17301507556939524, 0.061064144318610084, 0.1424830034100902, 0.030532072159305042, 0.040709429545740056, 0.010177357386435014, 0.4783357971624457, 0.020354714772870028, 0.010177357386435014, 0.030532072159305042, 0.062359873774483154, 0.02721158128341083, 0.02154250184936691, 0.006802895320852708, 0.5011466219694828, 0.1621356718136562, 0.009070527094470277, 0.04988789901958652, 0.0022676317736175693, 0.004535263547235139, 0.04308500369873382, 0.02494394950979326, 0.028345397170219614, 0.05669079434043923, 0.38696772641610516, 0.007166069007705652, 0.4084659334392221, 0.014332138015411304, 0.014332138015411304, 0.007166069007705652, 0.10749103511558478, 0.014332138015411304, 0.007166069007705652, 0.028664276030822607, 0.1218550356833417, 0.09424256454327412, 0.08163687119672154, 0.06182792450928175, 0.10444717344286432, 0.07503388896757494, 0.056425484503616355, 0.06422900895624414, 0.045020333380544966, 0.06602982229146595, 0.06182792450928175, 0.03541599559269537, 0.05102304449795096, 0.07983605786149973, 0.008598753921024131, 0.008598753921024131, 0.27611554257510823, 0.007643336818688117, 0.004777085511680073, 0.0057325026140160875, 0.004777085511680073, 0.4834410537820234, 0.1442679824527382, 0.01433125653504022, 0.030573347274752468, 0.0019108342046720293, 0.0038216684093440585, 0.007643336818688117, 0.024223201636691317, 0.008074400545563772, 0.008074400545563772, 0.048446403273382635, 0.03229760218225509, 0.016148801091127544, 0.008074400545563772, 0.09689280654676527, 0.03229760218225509, 0.03229760218225509, 0.008074400545563772, 0.08074400545563772, 0.6136544414628466, 0.091556860141724, 0.05519081756206727, 0.17626834756257145, 0.07016507038898476, 0.07401559254447782, 0.05989701130766991, 0.018824774982410544, 0.06075268289777948, 0.0804331294702996, 0.11551566466479196, 0.043639251095588076, 0.05561865335712206, 0.014546417031862692, 0.08385581583073787, 0.01988795279791794, 0.00994397639895897, 0.00994397639895897, 0.00994397639895897, 0.8551819703104714, 0.01988795279791794, 0.04971988199479485, 0.01988795279791794, 0.09838101723235947, 0.16396836205393245, 0.032793672410786484, 0.016396836205393242, 0.032793672410786484, 0.36073039651865135, 0.016396836205393242, 0.2623493792862919, 0.02805641776442773, 0.02805641776442773, 0.1543102977043525, 0.014028208882213865, 0.6312693996996239, 0.042084626646641594, 0.042084626646641594, 0.02805641776442773, 0.009303476035200134, 0.004651738017600067, 0.01860695207040027, 0.004651738017600067, 0.06512433224640095, 0.30701470916160445, 0.4419151116720064, 0.04186564215840061, 0.03721390414080054, 0.027910428105600404, 0.027910428105600404, 0.013955214052800202, 0.4809557681539759, 0.008627009294241721, 0.03666478950052731, 0.02803778020628559, 0.03235128485340645, 0.053918808089010756, 0.04744855111832946, 0.02803778020628559, 0.0215675232356043, 0.14018890103142795, 0.01509726626492301, 0.02588102788272516, 0.034508037176966884, 0.04960530344188989, 0.08121700030945048, 0.018742384686796267, 0.006247461562265422, 0.018742384686796267, 0.018742384686796267, 0.7372004643473198, 0.006247461562265422, 0.012494923124530844, 0.006247461562265422, 0.018742384686796267, 0.07496953874718507, 0.037934175083206546, 0.15173670033282619, 0.1327696127912229, 0.45521010099847853, 0.056901262624809816, 0.1327696127912229, 0.0022387569812350816, 0.004477513962470163, 0.004477513962470163, 0.5395404324776546, 0.006716270943705244, 0.07164022339952261, 0.15223547472398555, 0.2037268852923924, 0.0022387569812350816, 0.0022387569812350816, 0.008955027924940327, 0.12092709116782174, 0.0967416729342574, 0.1934833458685148, 0.0967416729342574, 0.07255625470069305, 0.02418541823356435, 0.0483708364671287, 0.12092709116782174, 0.24185418233564349, 0.03781956684739207, 0.400887408582356, 0.1972020271328301, 0.09833087380321939, 0.011345870054217623, 0.03565844874182681, 0.01620838579173946, 0.015668106265348144, 0.03565844874182681, 0.01620838579173946, 0.027013976319565768, 0.04592375974326181, 0.04322236211130523, 0.018909783423696036, 0.028095006241666307, 0.11238002496666523, 0.014047503120833154, 0.04214250936249946, 0.7585651685249903, 0.028095006241666307, 0.0902728902233648, 0.05642055638960299, 0.0112841112779206, 0.7221831217869183, 0.06770466766752359, 0.0451364451116824, 0.11563788087547011, 0.0165196972679243, 0.08259848633962151, 0.23127576175094022, 0.0165196972679243, 0.0495590918037729, 0.1982363672150916, 0.0330393945358486, 0.24779545901886452, 0.09437349649304877, 0.021523779901923404, 0.003311350754142062, 0.09934052262426186, 0.008278376885355154, 0.004967026131213093, 0.014901078393639279, 0.001655675377071031, 0.004967026131213093, 0.7003506845010461, 0.009934052262426185, 0.003311350754142062, 0.03145783216434959, 0.001655675377071031, 0.021785251410845665, 0.010892625705422833, 0.8060543022012897, 0.010892625705422833, 0.010892625705422833, 0.010892625705422833, 0.054463128527114164, 0.054463128527114164, 0.005229168114652609, 0.005229168114652609, 0.007843752171978913, 0.08366668983444174, 0.01307292028663152, 0.04967709708919978, 0.5595209882678291, 0.10458336229305217, 0.005229168114652609, 0.06797918549048391, 0.023531256515936738, 0.07059376954781021, 0.005229168114652609, 0.11365248181690804, 0.1323314776710758, 0.11102163733040554, 0.09313189482218853, 0.04472435627054252, 0.060772507638207775, 0.07445289896802078, 0.07340056117341978, 0.03209630273533051, 0.09102721923298654, 0.03393789387588226, 0.02867620490287726, 0.047881369654345515, 0.06314026767606003, 0.03286888260238033, 0.03590293330413851, 0.018709979327508803, 0.05461291263164732, 0.14917415950311072, 0.06068101403516368, 0.018709979327508803, 0.33880232836299723, 0.09708962245626189, 0.028317806549743054, 0.09203287128666492, 0.04803913611117125, 0.008090801871355158, 0.01719295397662971, 0.023885964089207287, 0.011942982044603643, 0.011942982044603643, 0.023885964089207287, 0.7046359406316149, 0.011942982044603643, 0.03582894613381093, 0.15525876657984736, 0.023885964089207287, 0.011942982044603643, 0.008669586388077567, 0.19073090053770644, 0.017339172776155133, 0.008669586388077567, 0.034678345552310266, 0.017339172776155133, 0.1560525549853962, 0.5461839424488867, 0.008669586388077567, 0.008669586388077567, 0.017339172776155133, 0.011681650016379068, 0.25991671286443424, 0.005840825008189534, 0.005840825008189534, 0.005840825008189534, 0.023363300032758137, 0.014602062520473835, 0.014602062520473835, 0.005840825008189534, 0.005840825008189534, 0.5811620883148586, 0.005840825008189534, 0.002920412504094767, 0.05548783757780057, 0.01815069542227474, 0.16041290278604972, 0.2918828047636073, 0.16041290278604972, 0.030905238151440775, 0.006867830700320172, 0.007358390036057327, 0.012754542729166034, 0.023546848115383445, 0.04022586553044672, 0.09860242648316818, 0.006377271364583017, 0.10743249452643697, 0.03532027217307517, 0.045270552979620605, 0.03583918777553298, 0.5545642740003525, 0.04904309906125566, 0.005658819122452576, 0.0018862730408175253, 0.013203911285722677, 0.02452154953062783, 0.022635276489810303, 0.0377254608163505, 0.06036073730616081, 0.11694892853068657, 0.022635276489810303, 0.009431365204087626, 0.06565660053657525, 0.2813854308710368, 0.04689757181183947, 0.08441562926131105, 0.03751805744947157, 0.02813854308710368, 0.009379514362367893, 0.30952397395814046, 0.1313132010731505, 0.012170261503330974, 0.008113507668887316, 0.758612967040964, 0.09330533819220414, 0.012170261503330974, 0.004056753834443658, 0.016227015337774632, 0.012170261503330974, 0.004056753834443658, 0.004056753834443658, 0.06896481518554219, 0.06378107028493377, 0.03826864217096026, 0.03826864217096026, 0.025512428113973508, 0.06378107028493377, 0.012756214056986754, 0.20409942491178806, 0.10204971245589403, 0.31890535142466886, 0.012756214056986754, 0.10204971245589403, 0.025512428113973508, 0.3792753373710757, 0.06649632538324055, 0.04309947015580406, 0.020934028361390543, 0.035710989557666224, 0.048025123887895954, 0.1145214492711365, 0.018471201495344598, 0.03817381642371217, 0.03324816269162027, 0.013545547763252704, 0.07388480598137839, 0.0911245940437, 0.02339685522743649, 0.0586229801377462, 0.0053293618307042, 0.15455149309042182, 0.0159880854921126, 0.0053293618307042, 0.0213174473228168, 0.6341940578537999, 0.0053293618307042, 0.0053293618307042, 0.0106587236614084, 0.0159880854921126, 0.0639523419684504, 0.013571063368353987, 0.08821191189430093, 0.008293427613994105, 0.02111054301743954, 0.254080464174183, 0.012063167438536878, 0.36868055484028334, 0.030157918596342197, 0.021864490982348092, 0.055792149403233064, 0.0618237331225015, 0.007539479649085549, 0.04523687789451329, 0.012063167438536878, 0.00538599463706752, 0.6409333618110349, 0.20466779620856576, 0.00538599463706752, 0.06463193564481025, 0.059245941007742726, 0.01077198927413504, 0.01077198927413504, 0.00538599463706752, 0.00538599463706752, 0.6369853323946697, 0.0410958278964303, 0.02054791394821515, 0.02054791394821515, 0.02054791394821515, 0.18493122553393634, 0.02054791394821515, 0.0410958278964303, 0.02054791394821515, 0.8197099138958349, 0.012234476326803505, 0.012234476326803505, 0.02446895265360701, 0.02446895265360701, 0.03670342898041052, 0.012234476326803505, 0.02446895265360701, 0.02446895265360701, 0.7536223694440334, 0.03140093206016806, 0.010466977353389351, 0.020933954706778703, 0.03140093206016806, 0.1360707055940616, 0.010466977353389351, 0.010466977353389351, 0.08241128382748188, 0.13791276069088804, 0.09610645344312756, 0.11220428439485143, 0.10595736492104814, 0.07063824328069876, 0.0482934928551716, 0.09394405824065719, 0.032195661903447734, 0.07183957394873786, 0.044449234717446495, 0.03483858937313374, 0.0394036459116823, 0.030033266700977362, 0.0035575975738017327, 0.03201837816421559, 0.007115195147603465, 0.0035575975738017327, 0.9285329667622523, 0.01423039029520693, 0.0035575975738017327, 0.0035575975738017327, 0.0035575975738017327, 0.0035575975738017327, 0.023903082117615864, 0.0028683698541139037, 0.013385725985864884, 0.007648986277637076, 0.049718410804641, 0.016254095839978788, 0.5861035735239409, 0.049718410804641, 0.10708580788691907, 0.04589391766582246, 0.04589391766582246, 0.032508191679957575, 0.007648986277637076, 0.01051735613175098, 0.012553124764107236, 0.025106249528214473, 0.5397843648566112, 0.28872186957446644, 0.07531874858464342, 0.03765937429232171, 0.012553124764107236, 0.018753036612296145, 0.056259109836888435, 0.7970040560225862, 0.009376518306148073, 0.018753036612296145, 0.009376518306148073, 0.0656356281430365, 0.018753036612296145, 0.03788178699959952, 0.006313631166599921, 0.006313631166599921, 0.01894089349979976, 0.04419541816619944, 0.012627262333199841, 0.08207720516579897, 0.4987768621613937, 0.08207720516579897, 0.02209770908309972, 0.02209770908309972, 0.10101809866559873, 0.012627262333199841, 0.050509049332799365, 0.08066044437165637, 0.013443407395276063, 0.026886814790552126, 0.013443407395276063, 0.16132088874331274, 0.013443407395276063, 0.06721703697638032, 0.040330222185828185, 0.040330222185828185, 0.05377362958110425, 0.013443407395276063, 0.49740607362521433, 0.015324695385010762, 0.030649390770021524, 0.007662347692505381, 0.7738971169430435, 0.015324695385010762, 0.007662347692505381, 0.007662347692505381, 0.13025991077259147, 0.6395918909544825, 0.023178158634001817, 0.011275860957081964, 0.004385057038865208, 0.08018390013924953, 0.009396550797568305, 0.020672411754650268, 0.033201146151408005, 0.059511488384599256, 0.01691379143562295, 0.03758620319027322, 0.028816089112542798, 0.015660917995947172, 0.01879310159513661, 0.14663607559010167, 0.06109836482920902, 0.0061098364829209025, 0.012219672965841805, 0.042768855380446315, 0.02443934593168361, 0.0061098364829209025, 0.03054918241460451, 0.0061098364829209025, 0.0061098364829209025, 0.6476426671896156, 0.1387038453787925, 0.08923280719368984, 0.08229761492475021, 0.05779326890783021, 0.10633961479040759, 0.039299422857324545, 0.08414699952980079, 0.024041999865657367, 0.05085807663889058, 0.05455684584899172, 0.09108219179874041, 0.10356553788283174, 0.04808399973131473, 0.03005249983207171, 0.01279832005848629, 0.01279832005848629, 0.02559664011697258, 0.8446891238600951, 0.07678992035091774, 0.01279832005848629, 0.17354094573171552, 0.19089504030488708, 0.0017354094573171553, 0.0034708189146343106, 0.100653748524395, 0.006941637829268621, 0.013883275658537243, 0.0034708189146343106, 0.0017354094573171553, 0.0017354094573171553, 0.013883275658537243, 0.012147866201220088, 0.006941637829268621, 0.4685605534756319, 0.011097113780748553, 0.011097113780748553, 0.9432546713636271, 0.011097113780748553, 0.8370490065900674, 0.033934419186083815, 0.011311473062027939, 0.011311473062027939, 0.045245892248111756, 0.011311473062027939, 0.022622946124055878, 0.9152930775713979, 0.015004804550350786, 0.015004804550350786, 0.015004804550350786, 0.015004804550350786, 0.015004804550350786, 0.12467645904906985, 0.4288870191288003, 0.014961175085888382, 0.10971528396318146, 0.009974116723925588, 0.004987058361962794, 0.004987058361962794, 0.004987058361962794, 0.009974116723925588, 0.03989646689570235, 0.2393788013742141, 0.9106189081987811, 0.03176577586739934, 0.010588591955799781, 0.01588288793369967, 0.0052942959778998905, 0.0052942959778998905, 0.0052942959778998905, 0.0052942959778998905, 0.0052942959778998905, 0.7662417227269381, 0.019647223659665078, 0.019647223659665078, 0.019647223659665078, 0.05894167097899524, 0.019647223659665078, 0.05894167097899524, 0.1929069665435207, 0.026792634242155656, 0.05358526848431131, 0.11788759066548489, 0.010717053696862263, 0.016075580545293393, 0.016075580545293393, 0.021434107393724526, 0.016075580545293393, 0.11788759066548489, 0.016075580545293393, 0.12860464436234714, 0.010717053696862263, 0.24649223502783202, 0.22979314147168445, 0.011489657073584222, 0.04595862829433689, 0.011489657073584222, 0.03446897122075267, 0.1493655419565949, 0.022979314147168445, 0.011489657073584222, 0.04595862829433689, 0.08042759951508956, 0.310220740986774, 0.022979314147168445, 0.011489657073584222], \"Term\": [\"%\", \"%\", \"%\", \"%\", \"%\", \"%\", \"%\", \"%\", \"%\", \"%\", \"%\", \"%\", \"%\", \"%\", \"*\", \"*\", \"*\", \"*\", \"*\", \"*\", \"*\", \"*\", \"*\", \"*\", \"*\", \"*\", \"*\", \"*\", \".net\", \".net\", \".net\", \".net\", \".net\", \".net\", \".net\", \".net\", \".net\", \".net\", \".net\", \".net\", \".net\", \".net\", \"<\", \"<\", \"<\", \"<\", \"<\", \"<\", \"<\", \"<\", \"<\", \"<\", \"<\", \"<\", \"=\", \"=\", \"=\", \"=\", \"=\", \"=\", \"=\", \"=\", \"=\", \"=\", \"=\", \"=\", \"=\", \"=\", \">\", \">\", \">\", \">\", \">\", \">\", \">\", \">\", \">\", \">\", \">\", \">\", \">\", \">\", \"@\", \"@\", \"@\", \"@\", \"@\", \"@\", \"@\", \"@\", \"@\", \"@\", \"@\", \"@\", \"@\", \"@\", \"[\", \"[\", \"[\", \"[\", \"[\", \"[\", \"[\", \"[\", \"[\", \"[\", \"[\", \"[\", \"[\", \"]\", \"]\", \"]\", \"]\", \"]\", \"]\", \"]\", \"]\", \"]\", \"]\", \"]\", \"]\", \"]\", \"]\", \"access\", \"access\", \"access\", \"access\", \"access\", \"access\", \"access\", \"access\", \"access\", \"access\", \"access\", \"access\", \"access\", \"access\", \"account\", \"account\", \"account\", \"account\", \"account\", \"account\", \"account\", \"account\", \"account\", \"account\", \"account\", \"account\", \"action\", \"action\", \"action\", \"action\", \"action\", \"action\", \"action\", \"action\", \"action\", \"action\", \"action\", \"action\", \"action\", \"action\", \"activity\", \"activity\", \"activity\", \"activity\", \"activity\", \"activity\", \"activity\", \"activity\", \"activity\", \"address\", \"address\", \"address\", \"address\", \"address\", \"address\", \"address\", \"address\", \"address\", \"address\", \"address\", \"address\", \"ado.net\", \"ado.net\", \"ado.net\", \"ado.net\", \"ado.net\", \"ado.net\", \"ado.net\", \"ado.net\", \"ajax\", \"ajax\", \"ajax\", \"ajax\", \"ajax\", \"ajax\", \"ajax\", \"ajax\", \"ajax\", \"ajax\", \"ajax\", \"ajax\", \"ajax\", \"algorithm\", \"algorithm\", \"algorithm\", \"algorithm\", \"algorithm\", \"algorithm\", \"algorithm\", \"algorithm\", \"algorithm\", \"algorithm\", \"algorithm\", \"algorithm\", \"algorithm\", \"and/or\", \"and/or\", \"and/or\", \"and/or\", \"and/or\", \"and/or\", \"and/or\", \"and/or\", \"and/or\", \"and/or\", \"and/or\", \"and/or\", \"animation\", \"animation\", \"animation\", \"animation\", \"animation\", \"animation\", \"animation\", \"animation\", \"animation\", \"annotation\", \"annotation\", \"annotation\", \"annotation\", \"annotation\", \"annotation\", \"annotation\", \"annotation\", \"annotation\", \"annotation\", \"annotation\", \"annotation\", \"apache\", \"apache\", \"apache\", \"apache\", \"apache\", \"apache\", \"apache\", \"apache\", \"apache\", \"apis\", \"apis\", \"apis\", \"apis\", \"apis\", \"apis\", \"apis\", \"apis\", \"apis\", \"apis\", \"apis\", \"app\", \"app\", \"app\", \"app\", \"app\", \"app\", \"app\", \"app\", \"app\", \"app\", \"app\", \"app\", \"app\", \"app\", \"application\", \"application\", \"application\", \"application\", \"application\", \"application\", \"application\", \"application\", \"application\", \"application\", \"application\", \"application\", \"application\", \"application\", \"architecture\", \"architecture\", \"architecture\", \"architecture\", \"architecture\", \"architecture\", \"architecture\", \"architecture\", \"architecture\", \"architecture\", \"architecture\", \"architecture\", \"argument\", \"argument\", \"argument\", \"argument\", \"argument\", \"argument\", \"argument\", \"argument\", \"argument\", \"argument\", \"argument\", \"argument\", \"argument\", \"argument\", \"array\", \"array\", \"array\", \"array\", \"array\", \"array\", \"array\", \"array\", \"array\", \"array\", \"array\", \"array\", \"array\", \"array\", \"asp.net\", \"asp.net\", \"asp.net\", \"asp.net\", \"asp.net\", \"asp.net\", \"asp.net\", \"asp.net\", \"asp.net\", \"asp.net\", \"asp.net\", \"asp.net\", \"asp.net\", \"asp.net\", \"assembly\", \"assembly\", \"assembly\", \"assembly\", \"assembly\", \"assembly\", \"assembly\", \"assembly\", \"assembly\", \"assembly\", \"assembly\", \"assembly\", \"attribute\", \"attribute\", \"attribute\", \"attribute\", \"attribute\", \"attribute\", \"attribute\", \"attribute\", \"attribute\", \"attribute\", \"attribute\", \"attribute\", \"attribute\", \"attribute\", \"authentication\", \"authentication\", \"authentication\", \"authentication\", \"authentication\", \"authentication\", \"authentication\", \"authentication\", \"authentication\", \"authentication\", \"authentication\", \"authentication\", \"auto\", \"auto\", \"auto\", \"auto\", \"auto\", \"auto\", \"auto\", \"auto\", \"auto\", \"auto\", \"auto\", \"backend\", \"backend\", \"backend\", \"backend\", \"backend\", \"backend\", \"backend\", \"backend\", \"backend\", \"backend\", \"backend\", \"backend\", \"bar\", \"bar\", \"bar\", \"bar\", \"bar\", \"bar\", \"bar\", \"bar\", \"bar\", \"bar\", \"bar\", \"bar\", \"bar\", \"base\", \"base\", \"base\", \"base\", \"base\", \"base\", \"base\", \"base\", \"base\", \"base\", \"base\", \"base\", \"base\", \"bash\", \"bash\", \"bash\", \"bash\", \"bash\", \"batch\", \"batch\", \"batch\", \"batch\", \"batch\", \"batch\", \"batch\", \"batch\", \"bean\", \"bean\", \"bean\", \"bean\", \"bean\", \"bean\", \"bean\", \"bean\", \"bind\", \"bind\", \"bind\", \"bind\", \"bind\", \"bind\", \"bind\", \"bind\", \"bind\", \"bind\", \"bind\", \"bind\", \"binding\", \"binding\", \"binding\", \"binding\", \"binding\", \"binding\", \"binding\", \"binding\", \"binding\", \"binding\", \"binding\", \"binding\", \"binding\", \"binding\", \"body\", \"body\", \"body\", \"body\", \"body\", \"body\", \"body\", \"body\", \"body\", \"body\", \"body\", \"body\", \"body\", \"bonus\", \"bonus\", \"bonus\", \"bonus\", \"bonus\", \"bonus\", \"bonus\", \"bonus\", \"bonus\", \"boost\", \"boost\", \"boost\", \"boost\", \"boost\", \"boost\", \"boost\", \"boost\", \"boost\", \"boost\", \"border\", \"border\", \"border\", \"border\", \"border\", \"border\", \"bottom\", \"bottom\", \"bottom\", \"bottom\", \"bottom\", \"bottom\", \"bottom\", \"bottom\", \"bottom\", \"bottom\", \"bottom\", \"bottom\", \"bound\", \"bound\", \"bound\", \"bound\", \"bound\", \"bound\", \"bound\", \"bound\", \"bound\", \"bound\", \"bound\", \"bound\", \"bound\", \"box\", \"box\", \"box\", \"box\", \"box\", \"box\", \"box\", \"box\", \"box\", \"box\", \"box\", \"box\", \"box\", \"box\", \"breakpoint\", \"breakpoint\", \"breakpoint\", \"breakpoint\", \"breakpoint\", \"breakpoint\", \"breakpoint\", \"breakpoint\", \"breakpoint\", \"breakpoint\", \"browser\", \"browser\", \"browser\", \"browser\", \"browser\", \"browser\", \"browser\", \"browser\", \"browser\", \"browser\", \"browser\", \"browser\", \"browser\", \"browser\", \"buffer\", \"buffer\", \"buffer\", \"buffer\", \"buffer\", \"buffer\", \"buffer\", \"buffer\", \"buffer\", \"buffer\", \"buffer\", \"build\", \"build\", \"build\", \"build\", \"build\", \"build\", \"build\", \"build\", \"build\", \"build\", \"build\", \"build\", \"build\", \"build\", \"business\", \"business\", \"business\", \"business\", \"business\", \"business\", \"business\", \"business\", \"business\", \"business\", \"business\", \"business\", \"business\", \"button\", \"button\", \"button\", \"button\", \"button\", \"button\", \"button\", \"button\", \"button\", \"button\", \"button\", \"button\", \"button\", \"button\", \"byte\", \"byte\", \"byte\", \"byte\", \"byte\", \"byte\", \"byte\", \"byte\", \"byte\", \"byte\", \"byte\", \"byte\", \"byte\", \"c\", \"c\", \"c\", \"c\", \"c\", \"c\", \"c\", \"c\", \"c\", \"c\", \"c\", \"c\", \"c\", \"c\", \"c++\", \"c++\", \"c++\", \"c++\", \"c++\", \"c++\", \"c++\", \"c++\", \"c++\", \"c++\", \"c++\", \"c++\", \"c++\", \"c++\", \"c/c++\", \"c/c++\", \"c/c++\", \"c/c++\", \"c/c++\", \"c/c++\", \"c/c++\", \"c/c++\", \"c/c++\", \"c/c++\", \"c/c++\", \"cache\", \"cache\", \"cache\", \"cache\", \"cache\", \"cache\", \"cache\", \"cache\", \"cache\", \"cache\", \"cache\", \"cache\", \"cache\", \"cache\", \"caching\", \"caching\", \"caching\", \"caching\", \"caching\", \"caching\", \"caching\", \"caching\", \"caching\", \"calculation\", \"calculation\", \"calculation\", \"calculation\", \"calculation\", \"calculation\", \"calculation\", \"calculation\", \"calculation\", \"calculation\", \"calculation\", \"calculation\", \"call\", \"call\", \"call\", \"call\", \"call\", \"call\", \"call\", \"call\", \"call\", \"call\", \"call\", \"call\", \"call\", \"call\", \"callback\", \"callback\", \"callback\", \"callback\", \"callback\", \"callback\", \"callback\", \"callback\", \"callback\", \"case\", \"case\", \"case\", \"case\", \"case\", \"case\", \"case\", \"case\", \"case\", \"case\", \"case\", \"case\", \"case\", \"case\", \"cast\", \"cast\", \"cast\", \"cast\", \"cast\", \"cast\", \"cast\", \"cast\", \"catch\", \"catch\", \"catch\", \"catch\", \"catch\", \"catch\", \"catch\", \"catch\", \"catch\", \"category\", \"category\", \"category\", \"category\", \"category\", \"category\", \"cell\", \"cell\", \"cell\", \"cell\", \"cell\", \"cell\", \"cell\", \"cell\", \"cell\", \"cell\", \"cell\", \"center\", \"center\", \"center\", \"center\", \"center\", \"center\", \"certificate\", \"certificate\", \"certificate\", \"certificate\", \"certificate\", \"certificate\", \"chance\", \"chance\", \"chance\", \"chance\", \"chance\", \"chance\", \"chance\", \"chance\", \"chance\", \"chance\", \"change\", \"change\", \"change\", \"change\", \"change\", \"change\", \"change\", \"change\", \"change\", \"change\", \"change\", \"change\", \"change\", \"change\", \"char\", \"char\", \"char\", \"char\", \"char\", \"char\", \"char\", \"char\", \"char\", \"char\", \"char\", \"character\", \"character\", \"character\", \"character\", \"character\", \"character\", \"character\", \"character\", \"character\", \"character\", \"character\", \"character\", \"character\", \"character\", \"child\", \"child\", \"child\", \"child\", \"child\", \"child\", \"child\", \"child\", \"child\", \"child\", \"child\", \"child\", \"chrome\", \"chrome\", \"chrome\", \"chrome\", \"chrome\", \"chrome\", \"chrome\", \"chrome\", \"chrome\", \"chrome\", \"class\", \"class\", \"class\", \"class\", \"class\", \"class\", \"class\", \"class\", \"class\", \"class\", \"class\", \"class\", \"class\", \"class\", \"clause\", \"clause\", \"clause\", \"clause\", \"clause\", \"clause\", \"clause\", \"clause\", \"clause\", \"clause\", \"click\", \"click\", \"click\", \"click\", \"click\", \"click\", \"click\", \"click\", \"click\", \"click\", \"click\", \"click\", \"click\", \"client\", \"client\", \"client\", \"client\", \"client\", \"client\", \"client\", \"client\", \"client\", \"client\", \"client\", \"client\", \"client\", \"client\", \"close\", \"close\", \"close\", \"close\", \"close\", \"close\", \"close\", \"close\", \"close\", \"close\", \"close\", \"close\", \"code\", \"code\", \"code\", \"code\", \"code\", \"code\", \"code\", \"code\", \"code\", \"code\", \"code\", \"code\", \"code\", \"code\", \"collection\", \"collection\", \"collection\", \"collection\", \"collection\", \"collection\", \"collection\", \"collection\", \"collection\", \"collection\", \"collection\", \"collection\", \"collection\", \"collection\", \"color\", \"color\", \"color\", \"color\", \"color\", \"color\", \"color\", \"color\", \"color\", \"color\", \"color\", \"color\", \"column\", \"column\", \"column\", \"column\", \"column\", \"column\", \"column\", \"column\", \"column\", \"column\", \"column\", \"column\", \"column\", \"column\", \"com\", \"com\", \"com\", \"com\", \"com\", \"com\", \"com\", \"com\", \"com\", \"com\", \"com\", \"command\", \"command\", \"command\", \"command\", \"command\", \"command\", \"command\", \"command\", \"command\", \"command\", \"command\", \"command\", \"command\", \"command\", \"communicate\", \"communicate\", \"communicate\", \"communicate\", \"communicate\", \"communicate\", \"communicate\", \"compare\", \"compare\", \"compare\", \"compare\", \"compare\", \"compare\", \"compare\", \"compare\", \"compare\", \"compare\", \"compare\", \"compare\", \"compare\", \"compare\", \"compilation\", \"compilation\", \"compilation\", \"compilation\", \"compilation\", \"compilation\", \"compilation\", \"compile\", \"compile\", \"compile\", \"compile\", \"compile\", \"compile\", \"compile\", \"compile\", \"compile\", \"compile\", \"compile\", \"compile\", \"compile\", \"compiler\", \"compiler\", \"compiler\", \"compiler\", \"compiler\", \"compiler\", \"compiler\", \"compiler\", \"compiler\", \"compiler\", \"compiler\", \"compiler\", \"compiler\", \"compiles\", \"compiles\", \"compiles\", \"compiles\", \"compiles\", \"compiles\", \"complexity\", \"complexity\", \"complexity\", \"complexity\", \"complexity\", \"complexity\", \"complexity\", \"complexity\", \"complexity\", \"complexity\", \"complexity\", \"component\", \"component\", \"component\", \"component\", \"component\", \"component\", \"component\", \"component\", \"component\", \"component\", \"component\", \"component\", \"component\", \"component\", \"con\", \"con\", \"con\", \"con\", \"con\", \"con\", \"con\", \"con\", \"con\", \"con\", \"con\", \"config\", \"config\", \"config\", \"config\", \"config\", \"config\", \"config\", \"config\", \"config\", \"config\", \"config\", \"config\", \"config\", \"configuration\", \"configuration\", \"configuration\", \"configuration\", \"configuration\", \"configuration\", \"configuration\", \"configuration\", \"configuration\", \"configuration\", \"configuration\", \"configuration\", \"configuration\", \"configuration\", \"connect\", \"connect\", \"connect\", \"connect\", \"connect\", \"connect\", \"connect\", \"connect\", \"connect\", \"connect\", \"connect\", \"connect\", \"connect\", \"connect\", \"connection\", \"connection\", \"connection\", \"connection\", \"connection\", \"connection\", \"connection\", \"connection\", \"connection\", \"connection\", \"connection\", \"connection\", \"connection\", \"connection\", \"constraint\", \"constraint\", \"constraint\", \"constraint\", \"constraint\", \"constraint\", \"constraint\", \"constraint\", \"constraint\", \"constraint\", \"constraint\", \"constructor\", \"constructor\", \"constructor\", \"constructor\", \"constructor\", \"constructor\", \"constructor\", \"constructor\", \"constructor\", \"constructor\", \"constructor\", \"constructor\", \"constructor\", \"consume\", \"consume\", \"consume\", \"consume\", \"consume\", \"consume\", \"consume\", \"consume\", \"consume\", \"context\", \"context\", \"context\", \"context\", \"context\", \"context\", \"context\", \"context\", \"context\", \"context\", \"context\", \"context\", \"context\", \"context\", \"contract\", \"contract\", \"contract\", \"contract\", \"contract\", \"contract\", \"control\", \"control\", \"control\", \"control\", \"control\", \"control\", \"control\", \"control\", \"control\", \"control\", \"control\", \"control\", \"control\", \"control\", \"controller\", \"controller\", \"controller\", \"controller\", \"controller\", \"controller\", \"controller\", \"controller\", \"controller\", \"controller\", \"controller\", \"controller\", \"controller\", \"controller\", \"convention\", \"convention\", \"convention\", \"convention\", \"convention\", \"convention\", \"convention\", \"convention\", \"convention\", \"convention\", \"convert\", \"convert\", \"convert\", \"convert\", \"convert\", \"convert\", \"convert\", \"convert\", \"convert\", \"convert\", \"convert\", \"convert\", \"convert\", \"convert\", \"cookie\", \"cookie\", \"cookie\", \"cookie\", \"cookie\", \"cookie\", \"cookie\", \"cooky\", \"cooky\", \"cooky\", \"cooky\", \"cooky\", \"corner\", \"corner\", \"corner\", \"corner\", \"corner\", \"corner\", \"corner\", \"corner\", \"corner\", \"corner\", \"corner\", \"count\", \"count\", \"count\", \"count\", \"count\", \"count\", \"count\", \"count\", \"count\", \"count\", \"count\", \"count\", \"count\", \"crash\", \"crash\", \"crash\", \"crash\", \"crash\", \"crash\", \"crash\", \"crash\", \"crash\", \"crash\", \"create\", \"create\", \"create\", \"create\", \"create\", \"create\", \"create\", \"create\", \"create\", \"create\", \"create\", \"create\", \"create\", \"create\", \"credential\", \"credential\", \"credential\", \"credential\", \"credential\", \"credential\", \"criterion\", \"criterion\", \"criterion\", \"criterion\", \"criterion\", \"criterion\", \"criterion\", \"criterion\", \"criterion\", \"criterion\", \"cs\", \"cs\", \"cs\", \"cs\", \"cs\", \"cs\", \"cs\", \"cs\", \"cs\", \"cs\", \"cs\", \"cursor\", \"cursor\", \"cursor\", \"cursor\", \"cursor\", \"custom\", \"custom\", \"custom\", \"custom\", \"custom\", \"custom\", \"custom\", \"custom\", \"custom\", \"custom\", \"custom\", \"custom\", \"custom\", \"custom\", \"customer\", \"customer\", \"customer\", \"customer\", \"customer\", \"customer\", \"customer\", \"customer\", \"customer\", \"customer\", \"customer\", \"customer\", \"data\", \"data\", \"data\", \"data\", \"data\", \"data\", \"data\", \"data\", \"data\", \"data\", \"data\", \"data\", \"data\", \"data\", \"database\", \"database\", \"database\", \"database\", \"database\", \"database\", \"database\", \"database\", \"database\", \"database\", \"database\", \"database\", \"database\", \"database\", \"datasource\", \"datasource\", \"datasource\", \"datasource\", \"datasource\", \"datasource\", \"datasource\", \"date\", \"date\", \"date\", \"date\", \"date\", \"date\", \"date\", \"date\", \"date\", \"date\", \"date\", \"date\", \"date\", \"date\", \"datetime\", \"datetime\", \"datetime\", \"datetime\", \"datetime\", \"datetime\", \"datetime\", \"datetime\", \"datetime\", \"day\", \"day\", \"day\", \"day\", \"day\", \"day\", \"day\", \"day\", \"day\", \"day\", \"day\", \"day\", \"day\", \"day\", \"db\", \"db\", \"db\", \"db\", \"db\", \"db\", \"db\", \"db\", \"db\", \"db\", \"db\", \"db\", \"db\", \"db\", \"debug\", \"debug\", \"debug\", \"debug\", \"debug\", \"debug\", \"debug\", \"debug\", \"debug\", \"debug\", \"debug\", \"debug\", \"debug\", \"debug\", \"debugger\", \"debugger\", \"debugger\", \"debugger\", \"debugger\", \"debugger\", \"debugger\", \"debugger\", \"debugger\", \"debugger\", \"debugger\", \"debugging\", \"debugging\", \"debugging\", \"debugging\", \"debugging\", \"debugging\", \"declare\", \"declare\", \"declare\", \"declare\", \"declare\", \"declare\", \"declare\", \"declare\", \"declare\", \"define\", \"define\", \"define\", \"define\", \"define\", \"define\", \"define\", \"define\", \"define\", \"define\", \"define\", \"define\", \"delegate\", \"delegate\", \"delegate\", \"delegate\", \"delegate\", \"delegate\", \"delegate\", \"delegate\", \"delegate\", \"delegate\", \"delegate\", \"delegate\", \"delegate\", \"delete\", \"delete\", \"delete\", \"delete\", \"delete\", \"delete\", \"delete\", \"delete\", \"delete\", \"delete\", \"delete\", \"delete\", \"delete\", \"delphi\", \"delphi\", \"delphi\", \"delphi\", \"delphi\", \"delphi\", \"delphi\", \"delphi\", \"delphi\", \"deploy\", \"deploy\", \"deploy\", \"deploy\", \"deploy\", \"deploy\", \"deploy\", \"deploy\", \"deployment\", \"deployment\", \"deployment\", \"deployment\", \"deployment\", \"deployment\", \"deployment\", \"deserialize\", \"deserialize\", \"deserialize\", \"deserialize\", \"deserialize\", \"deserialize\", \"deserialize\", \"deserialize\", \"designer\", \"designer\", \"designer\", \"designer\", \"designer\", \"designer\", \"designer\", \"designer\", \"designer\", \"designer\", \"development\", \"development\", \"development\", \"development\", \"development\", \"development\", \"development\", \"development\", \"development\", \"development\", \"development\", \"development\", \"development\", \"development\", \"dialog\", \"dialog\", \"dialog\", \"dialog\", \"dialog\", \"dialog\", \"dialog\", \"dialog\", \"dialog\", \"dialog\", \"dialog\", \"directory\", \"directory\", \"directory\", \"directory\", \"directory\", \"directory\", \"directory\", \"directory\", \"directory\", \"directory\", \"directory\", \"directory\", \"directory\", \"disk\", \"disk\", \"disk\", \"disk\", \"disk\", \"disk\", \"disk\", \"disk\", \"disk\", \"disk\", \"disk\", \"disk\", \"disk\", \"disk\", \"display\", \"display\", \"display\", \"display\", \"display\", \"display\", \"display\", \"display\", \"display\", \"display\", \"display\", \"display\", \"display\", \"display\", \"div\", \"div\", \"div\", \"div\", \"div\", \"div\", \"div\", \"div\", \"django\", \"django\", \"django\", \"django\", \"django\", \"django\", \"django\", \"django\", \"django\", \"django\", \"django\", \"django\", \"django\", \"dll\", \"dll\", \"dll\", \"dll\", \"dll\", \"dll\", \"dll\", \"dll\", \"dll\", \"dll\", \"dll\", \"dll\", \"dlls\", \"dlls\", \"dlls\", \"dlls\", \"document\", \"document\", \"document\", \"document\", \"document\", \"document\", \"document\", \"document\", \"document\", \"document\", \"document\", \"document\", \"document\", \"document\", \"dom\", \"dom\", \"dom\", \"dom\", \"dom\", \"dom\", \"dom\", \"domain\", \"domain\", \"domain\", \"domain\", \"domain\", \"domain\", \"domain\", \"domain\", \"domain\", \"domain\", \"domain\", \"domain\", \"domain\", \"domain\", \"download\", \"download\", \"download\", \"download\", \"download\", \"download\", \"download\", \"download\", \"download\", \"download\", \"download\", \"driver\", \"driver\", \"driver\", \"driver\", \"driver\", \"driver\", \"driver\", \"driver\", \"dump\", \"dump\", \"dump\", \"dump\", \"dump\", \"dump\", \"dump\", \"dump\", \"eclipse\", \"eclipse\", \"eclipse\", \"eclipse\", \"eclipse\", \"eclipse\", \"eclipse\", \"eclipse\", \"eclipse\", \"eclipse\", \"edit\", \"edit\", \"edit\", \"edit\", \"edit\", \"edit\", \"edit\", \"edit\", \"edit\", \"edit\", \"edit\", \"edit\", \"edit\", \"edit\", \"ef\", \"ef\", \"ef\", \"ef\", \"ef\", \"ef\", \"element\", \"element\", \"element\", \"element\", \"element\", \"element\", \"element\", \"element\", \"element\", \"element\", \"element\", \"element\", \"element\", \"element\", \"email\", \"email\", \"email\", \"email\", \"email\", \"email\", \"email\", \"email\", \"email\", \"email\", \"email\", \"encoding\", \"encoding\", \"encoding\", \"encoding\", \"encoding\", \"encoding\", \"encoding\", \"encoding\", \"encoding\", \"encoding\", \"encrypt\", \"encrypt\", \"encrypt\", \"encrypt\", \"encrypt\", \"encrypt\", \"encryption\", \"encryption\", \"encryption\", \"encryption\", \"encryption\", \"encryption\", \"encryption\", \"encryption\", \"encryption\", \"endpoint\", \"endpoint\", \"endpoint\", \"endpoint\", \"endpoint\", \"engine\", \"engine\", \"engine\", \"engine\", \"engine\", \"engine\", \"engine\", \"engine\", \"engine\", \"engine\", \"engine\", \"engine\", \"engine\", \"engine\", \"enter\", \"enter\", \"enter\", \"enter\", \"enter\", \"enter\", \"enter\", \"enter\", \"enter\", \"enter\", \"enter\", \"entity\", \"entity\", \"entity\", \"entity\", \"entity\", \"entity\", \"entity\", \"entity\", \"entity\", \"entity\", \"entity\", \"entity\", \"entity\", \"entity\", \"error\", \"error\", \"error\", \"error\", \"error\", \"error\", \"error\", \"error\", \"error\", \"error\", \"error\", \"error\", \"error\", \"error\", \"event\", \"event\", \"event\", \"event\", \"event\", \"event\", \"event\", \"event\", \"event\", \"event\", \"event\", \"event\", \"event\", \"event\", \"example\", \"example\", \"example\", \"example\", \"example\", \"example\", \"example\", \"example\", \"example\", \"example\", \"example\", \"example\", \"example\", \"example\", \"excel\", \"excel\", \"excel\", \"excel\", \"excel\", \"excel\", \"excel\", \"excel\", \"excel\", \"excel\", \"exception\", \"exception\", \"exception\", \"exception\", \"exception\", \"exception\", \"exception\", \"exception\", \"exception\", \"exception\", \"exception\", \"exception\", \"exception\", \"exception\", \"exit\", \"exit\", \"exit\", \"exit\", \"exit\", \"exit\", \"exit\", \"exit\", \"exit\", \"exit\", \"explorer\", \"explorer\", \"explorer\", \"explorer\", \"explorer\", \"explorer\", \"explorer\", \"explorer\", \"explorer\", \"explorer\", \"explorer\", \"export\", \"export\", \"export\", \"export\", \"export\", \"export\", \"export\", \"export\", \"export\", \"export\", \"expose\", \"expose\", \"expose\", \"expose\", \"expose\", \"expose\", \"expose\", \"expose\", \"expose\", \"expose\", \"expose\", \"expression\", \"expression\", \"expression\", \"expression\", \"expression\", \"expression\", \"expression\", \"expression\", \"expression\", \"expression\", \"expression\", \"expression\", \"expression\", \"extension\", \"extension\", \"extension\", \"extension\", \"extension\", \"extension\", \"extension\", \"extension\", \"extension\", \"extension\", \"extension\", \"extension\", \"extension\", \"facebook\", \"facebook\", \"facebook\", \"facebook\", \"facebook\", \"facebook\", \"facebook\", \"facebook\", \"facebook\", \"facebook\", \"facebook\", \"fail\", \"fail\", \"fail\", \"fail\", \"fail\", \"fail\", \"fail\", \"fail\", \"fail\", \"fail\", \"fail\", \"fail\", \"fail\", \"failure\", \"failure\", \"failure\", \"failure\", \"failure\", \"failure\", \"failure\", \"failure\", \"failure\", \"failure\", \"failure\", \"failure\", \"failure\", \"fetch\", \"fetch\", \"fetch\", \"fetch\", \"fetch\", \"fetch\", \"fetch\", \"fetch\", \"fetch\", \"fetch\", \"fetch\", \"fetch\", \"field\", \"field\", \"field\", \"field\", \"field\", \"field\", \"field\", \"field\", \"field\", \"field\", \"field\", \"field\", \"field\", \"field\", \"file\", \"file\", \"file\", \"file\", \"file\", \"file\", \"file\", \"file\", \"file\", \"file\", \"file\", \"file\", \"file\", \"file\", \"filename\", \"filename\", \"filename\", \"filename\", \"filename\", \"filename\", \"filename\", \"filename\", \"filter\", \"filter\", \"filter\", \"filter\", \"filter\", \"filter\", \"filter\", \"filter\", \"filter\", \"filter\", \"filter\", \"filter\", \"filter\", \"filter\", \"fire\", \"fire\", \"fire\", \"fire\", \"fire\", \"fire\", \"fire\", \"fire\", \"firebug\", \"firebug\", \"firebug\", \"firebug\", \"firebug\", \"firebug\", \"firebug\", \"firebug\", \"firefox\", \"firefox\", \"firefox\", \"firefox\", \"firefox\", \"firefox\", \"firefox\", \"firefox\", \"firefox\", \"firefox\", \"firefox\", \"float\", \"float\", \"float\", \"float\", \"float\", \"float\", \"float\", \"float\", \"folder\", \"folder\", \"folder\", \"folder\", \"folder\", \"folder\", \"folder\", \"folder\", \"folder\", \"folder\", \"folder\", \"folder\", \"folder\", \"form\", \"form\", \"form\", \"form\", \"form\", \"form\", \"form\", \"form\", \"form\", \"form\", \"form\", \"form\", \"form\", \"form\", \"format\", \"format\", \"format\", \"format\", \"format\", \"format\", \"format\", \"format\", \"format\", \"format\", \"format\", \"format\", \"format\", \"format\", \"frame\", \"frame\", \"frame\", \"frame\", \"frame\", \"frame\", \"frame\", \"frame\", \"frame\", \"frame\", \"frame\", \"framework\", \"framework\", \"framework\", \"framework\", \"framework\", \"framework\", \"framework\", \"framework\", \"framework\", \"framework\", \"framework\", \"framework\", \"framework\", \"framework\", \"function\", \"function\", \"function\", \"function\", \"function\", \"function\", \"function\", \"function\", \"function\", \"function\", \"function\", \"function\", \"function\", \"function\", \"garbage\", \"garbage\", \"garbage\", \"garbage\", \"garbage\", \"garbage\", \"garbage\", \"garbage\", \"garbage\", \"garbage\", \"gcc\", \"gcc\", \"gcc\", \"gcc\", \"gcc\", \"gcc\", \"gcc\", \"gcc\", \"gcc\", \"gcc\", \"generic\", \"generic\", \"generic\", \"generic\", \"generic\", \"generic\", \"generic\", \"generic\", \"generic\", \"generic\", \"get\", \"get\", \"get\", \"get\", \"get\", \"get\", \"get\", \"get\", \"get\", \"get\", \"get\", \"get\", \"get\", \"get\", \"graph\", \"graph\", \"graph\", \"graph\", \"graph\", \"graph\", \"graph\", \"graph\", \"graph\", \"graph\", \"graph\", \"graph\", \"group\", \"group\", \"group\", \"group\", \"group\", \"group\", \"group\", \"group\", \"group\", \"group\", \"group\", \"group\", \"group\", \"group\", \"guarantee\", \"guarantee\", \"guarantee\", \"guarantee\", \"guarantee\", \"guarantee\", \"guarantee\", \"guarantee\", \"handling\", \"handling\", \"handling\", \"handling\", \"handling\", \"handling\", \"handling\", \"handling\", \"handling\", \"hash\", \"hash\", \"hash\", \"hash\", \"hash\", \"hash\", \"hash\", \"hash\", \"hash\", \"hash\", \"hash\", \"hash\", \"header\", \"header\", \"header\", \"header\", \"header\", \"header\", \"header\", \"header\", \"header\", \"header\", \"header\", \"header\", \"header\", \"heap\", \"heap\", \"heap\", \"heap\", \"heap\", \"heap\", \"height\", \"height\", \"height\", \"height\", \"height\", \"height\", \"helper\", \"helper\", \"helper\", \"helper\", \"helper\", \"helper\", \"helper\", \"helper\", \"helper\", \"hibernate\", \"hibernate\", \"hibernate\", \"hibernate\", \"hibernate\", \"hibernate\", \"hibernate\", \"hibernate\", \"hibernate\", \"hibernate\", \"hibernate\", \"hibernate\", \"hibernate\", \"hierarchy\", \"hierarchy\", \"hierarchy\", \"hierarchy\", \"hierarchy\", \"hierarchy\", \"hierarchy\", \"hierarchy\", \"host\", \"host\", \"host\", \"host\", \"host\", \"host\", \"host\", \"host\", \"host\", \"host\", \"html\", \"html\", \"html\", \"html\", \"html\", \"html\", \"html\", \"html\", \"html\", \"html\", \"html\", \"html\", \"html\", \"html5\", \"html5\", \"html5\", \"html5\", \"html5\", \"html5\", \"html5\", \"html5\", \"html5\", \"http\", \"http\", \"http\", \"http\", \"http\", \"http\", \"http\", \"http\", \"http\", \"http\", \"http\", \"http\", \"http\", \"http\", \"id\", \"id\", \"id\", \"id\", \"id\", \"id\", \"id\", \"id\", \"id\", \"id\", \"id\", \"id\", \"id\", \"id\", \"ide\", \"ide\", \"ide\", \"ide\", \"ide\", \"ide\", \"ide\", \"ide\", \"identifier\", \"identifier\", \"identifier\", \"identifier\", \"identifier\", \"identifier\", \"identifier\", \"identifier\", \"identifier\", \"ie\", \"ie\", \"ie\", \"ie\", \"ie\", \"ie\", \"ie\", \"ie\", \"ie\", \"ie\", \"ie\", \"ie\", \"ie\", \"ie\", \"ii\", \"ii\", \"ii\", \"ii\", \"ii\", \"ii\", \"ii\", \"ii\", \"ii\", \"ii\", \"ii\", \"image\", \"image\", \"image\", \"image\", \"image\", \"image\", \"image\", \"image\", \"image\", \"image\", \"image\", \"image\", \"image\", \"implement\", \"implement\", \"implement\", \"implement\", \"implement\", \"implement\", \"implement\", \"implement\", \"implement\", \"implement\", \"implement\", \"implement\", \"implement\", \"implement\", \"implementation\", \"implementation\", \"implementation\", \"implementation\", \"implementation\", \"implementation\", \"implementation\", \"implementation\", \"implementation\", \"implementation\", \"implementation\", \"implementation\", \"implementation\", \"implementation\", \"index\", \"index\", \"index\", \"index\", \"index\", \"index\", \"index\", \"index\", \"index\", \"index\", \"index\", \"index\", \"index\", \"index\", \"information\", \"information\", \"information\", \"information\", \"information\", \"information\", \"information\", \"information\", \"information\", \"information\", \"information\", \"information\", \"information\", \"information\", \"inheritance\", \"inheritance\", \"inheritance\", \"inheritance\", \"inheritance\", \"inheritance\", \"inheritance\", \"initialization\", \"initialization\", \"initialization\", \"initialization\", \"initialization\", \"initialization\", \"initialization\", \"initialization\", \"injection\", \"injection\", \"injection\", \"injection\", \"injection\", \"injection\", \"injection\", \"injection\", \"injection\", \"injection\", \"inline\", \"inline\", \"inline\", \"inline\", \"inline\", \"inline\", \"inline\", \"inline\", \"input\", \"input\", \"input\", \"input\", \"input\", \"input\", \"input\", \"input\", \"input\", \"input\", \"input\", \"input\", \"input\", \"input\", \"insert\", \"insert\", \"insert\", \"insert\", \"insert\", \"insert\", \"insert\", \"insert\", \"insert\", \"insert\", \"insert\", \"insert\", \"insert\", \"insertion\", \"insertion\", \"insertion\", \"insertion\", \"insertion\", \"insertion\", \"insertion\", \"instance\", \"instance\", \"instance\", \"instance\", \"instance\", \"instance\", \"instance\", \"instance\", \"instance\", \"instance\", \"instance\", \"instance\", \"instance\", \"instance\", \"instantiate\", \"instantiate\", \"instantiate\", \"instantiate\", \"instantiate\", \"instantiate\", \"instantiate\", \"instantiate\", \"instantiate\", \"instantiate\", \"instantiate\", \"instruction\", \"instruction\", \"instruction\", \"instruction\", \"instruction\", \"instruction\", \"instruction\", \"instruction\", \"instruction\", \"instruction\", \"instruction\", \"int\", \"int\", \"int\", \"int\", \"int\", \"int\", \"int\", \"int\", \"int\", \"int\", \"int\", \"integer\", \"integer\", \"integer\", \"integer\", \"integer\", \"integer\", \"integer\", \"integer\", \"integer\", \"integer\", \"integration\", \"integration\", \"integration\", \"integration\", \"integration\", \"integration\", \"integration\", \"integration\", \"integration\", \"integration\", \"interface\", \"interface\", \"interface\", \"interface\", \"interface\", \"interface\", \"interface\", \"interface\", \"interface\", \"interface\", \"interface\", \"interface\", \"interface\", \"interface\", \"internet\", \"internet\", \"internet\", \"internet\", \"internet\", \"internet\", \"internet\", \"internet\", \"internet\", \"internet\", \"internet\", \"internet\", \"internet\", \"ip\", \"ip\", \"ip\", \"ip\", \"ip\", \"ip\", \"ip\", \"ipad\", \"ipad\", \"ipad\", \"ipad\", \"ipad\", \"ipad\", \"ipad\", \"ipad\", \"ipad\", \"ipad\", \"iphone\", \"iphone\", \"iphone\", \"iphone\", \"iphone\", \"iphone\", \"iphone\", \"iphone\", \"iphone\", \"iphone\", \"iphone\", \"iphone\", \"iphone\", \"issue\", \"issue\", \"issue\", \"issue\", \"issue\", \"issue\", \"issue\", \"issue\", \"issue\", \"issue\", \"issue\", \"issue\", \"issue\", \"issue\", \"item\", \"item\", \"item\", \"item\", \"item\", \"item\", \"item\", \"item\", \"item\", \"item\", \"item\", \"item\", \"item\", \"item\", \"iterate\", \"iterate\", \"iterate\", \"iterate\", \"iterate\", \"iterate\", \"iterate\", \"iterate\", \"iteration\", \"iteration\", \"iteration\", \"iteration\", \"iteration\", \"iteration\", \"iteration\", \"iteration\", \"iteration\", \"iteration\", \"j\", \"j\", \"j\", \"j\", \"j\", \"j\", \"j\", \"j\", \"j\", \"j\", \"j\", \"j\", \"jar\", \"jar\", \"jar\", \"java\", \"java\", \"java\", \"java\", \"java\", \"java\", \"java\", \"java\", \"java\", \"java\", \"java\", \"java\", \"java\", \"java\", \"javascript\", \"javascript\", \"javascript\", \"javascript\", \"javascript\", \"javascript\", \"javascript\", \"javascript\", \"javascript\", \"javascript\", \"javascript\", \"javascript\", \"javascript\", \"javascript\", \"jdbc\", \"jdbc\", \"jdbc\", \"jdbc\", \"jdbc\", \"jdbc\", \"jdbc\", \"jdbc\", \"jdbc\", \"job\", \"job\", \"job\", \"job\", \"job\", \"job\", \"job\", \"job\", \"job\", \"job\", \"job\", \"job\", \"job\", \"join\", \"join\", \"join\", \"join\", \"join\", \"join\", \"join\", \"join\", \"join\", \"join\", \"join\", \"jpa\", \"jpa\", \"jpa\", \"jpa\", \"jpa\", \"jpa\", \"jpa\", \"jpa\", \"jpa\", \"jpa\", \"jpa\", \"jpa\", \"jquery\", \"jquery\", \"jquery\", \"jquery\", \"jquery\", \"jquery\", \"jquery\", \"jquery\", \"jquery\", \"jquery\", \"jquery\", \"jquery\", \"jquery\", \"jquery\", \"json\", \"json\", \"json\", \"json\", \"json\", \"json\", \"json\", \"json\", \"json\", \"json\", \"json\", \"json\", \"json\", \"jsp\", \"jsp\", \"jsp\", \"jsp\", \"jsp\", \"jsp\", \"jsp\", \"jsp\", \"jsp\", \"jsp\", \"jsp\", \"junit\", \"junit\", \"junit\", \"junit\", \"junit\", \"junit\", \"junit\", \"junit\", \"jvm\", \"jvm\", \"jvm\", \"jvm\", \"jvm\", \"jvm\", \"jvm\", \"jvm\", \"key\", \"key\", \"key\", \"key\", \"key\", \"key\", \"key\", \"key\", \"key\", \"key\", \"key\", \"key\", \"key\", \"key\", \"keyword\", \"keyword\", \"keyword\", \"keyword\", \"keyword\", \"keyword\", \"keyword\", \"keyword\", \"keyword\", \"keyword\", \"keyword\", \"know\", \"know\", \"know\", \"know\", \"know\", \"know\", \"know\", \"know\", \"know\", \"know\", \"know\", \"know\", \"know\", \"know\", \"lambda\", \"lambda\", \"lambda\", \"lambda\", \"lambda\", \"lambda\", \"lambda\", \"language\", \"language\", \"language\", \"language\", \"language\", \"language\", \"language\", \"language\", \"language\", \"language\", \"language\", \"language\", \"language\", \"language\", \"layer\", \"layer\", \"layer\", \"layer\", \"layer\", \"layer\", \"layer\", \"layer\", \"layer\", \"layer\", \"layer\", \"layer\", \"layer\", \"layer\", \"lead\", \"lead\", \"lead\", \"lead\", \"lead\", \"lead\", \"lead\", \"lead\", \"lead\", \"lead\", \"lead\", \"leak\", \"leak\", \"leak\", \"leak\", \"leak\", \"leak\", \"leak\", \"leak\", \"leak\", \"leak\", \"left\", \"left\", \"left\", \"left\", \"left\", \"left\", \"length\", \"length\", \"length\", \"length\", \"length\", \"length\", \"length\", \"length\", \"length\", \"length\", \"length\", \"length\", \"length\", \"library\", \"library\", \"library\", \"library\", \"library\", \"library\", \"library\", \"library\", \"library\", \"library\", \"library\", \"library\", \"library\", \"library\", \"like\", \"like\", \"like\", \"like\", \"like\", \"like\", \"like\", \"like\", \"like\", \"like\", \"like\", \"like\", \"like\", \"like\", \"line\", \"line\", \"line\", \"line\", \"line\", \"line\", \"line\", \"line\", \"line\", \"line\", \"line\", \"line\", \"line\", \"line\", \"linker\", \"linker\", \"linker\", \"linker\", \"linker\", \"linker\", \"linq\", \"linq\", \"linq\", \"linq\", \"linq\", \"linq\", \"linq\", \"linq\", \"linq\", \"linq\", \"linq\", \"linq\", \"linq\", \"linq\", \"linux\", \"linux\", \"linux\", \"linux\", \"linux\", \"linux\", \"linux\", \"linux\", \"linux\", \"linux\", \"linux\", \"linux\", \"linux\", \"linux\", \"list\", \"list\", \"list\", \"list\", \"list\", \"list\", \"list\", \"list\", \"list\", \"list\", \"list\", \"list\", \"list\", \"list\", \"load\", \"load\", \"load\", \"load\", \"load\", \"load\", \"load\", \"load\", \"load\", \"load\", \"load\", \"load\", \"load\", \"load\", \"lock\", \"lock\", \"lock\", \"lock\", \"lock\", \"lock\", \"lock\", \"lock\", \"lock\", \"lock\", \"log\", \"log\", \"log\", \"log\", \"log\", \"log\", \"log\", \"log\", \"log\", \"log\", \"log\", \"log\", \"log\", \"log\", \"login\", \"login\", \"login\", \"login\", \"login\", \"login\", \"login\", \"login\", \"login\", \"login\", \"lookup\", \"lookup\", \"lookup\", \"lookup\", \"lookup\", \"lookup\", \"lookup\", \"lookup\", \"lookup\", \"loop\", \"loop\", \"loop\", \"loop\", \"loop\", \"loop\", \"loop\", \"loop\", \"loop\", \"loop\", \"loop\", \"loop\", \"loop\", \"loop\", \"mac\", \"mac\", \"mac\", \"mac\", \"mac\", \"mac\", \"mac\", \"mac\", \"mac\", \"mac\", \"mac\", \"mac\", \"mac\", \"make\", \"make\", \"make\", \"make\", \"make\", \"make\", \"make\", \"make\", \"make\", \"make\", \"make\", \"make\", \"make\", \"make\", \"management\", \"management\", \"management\", \"management\", \"management\", \"management\", \"management\", \"management\", \"management\", \"management\", \"management\", \"management\", \"mapping\", \"mapping\", \"mapping\", \"mapping\", \"mapping\", \"mapping\", \"mapping\", \"mapping\", \"mapping\", \"mapping\", \"mapping\", \"mapping\", \"measure\", \"measure\", \"measure\", \"measure\", \"measure\", \"measure\", \"measure\", \"measure\", \"measure\", \"member\", \"member\", \"member\", \"member\", \"member\", \"member\", \"member\", \"member\", \"member\", \"member\", \"member\", \"member\", \"memory\", \"memory\", \"memory\", \"memory\", \"memory\", \"memory\", \"memory\", \"memory\", \"memory\", \"memory\", \"memory\", \"memory\", \"memory\", \"memory\", \"menu\", \"menu\", \"menu\", \"menu\", \"menu\", \"menu\", \"menu\", \"menu\", \"menu\", \"menu\", \"menu\", \"menu\", \"message\", \"message\", \"message\", \"message\", \"message\", \"message\", \"message\", \"message\", \"message\", \"message\", \"message\", \"message\", \"message\", \"message\", \"method\", \"method\", \"method\", \"method\", \"method\", \"method\", \"method\", \"method\", \"method\", \"method\", \"method\", \"method\", \"method\", \"method\", \"mock\", \"mock\", \"mock\", \"mock\", \"mock\", \"mock\", \"mock\", \"model\", \"model\", \"model\", \"model\", \"model\", \"model\", \"model\", \"model\", \"model\", \"model\", \"model\", \"model\", \"model\", \"model\", \"monitor\", \"monitor\", \"monitor\", \"monitor\", \"monitor\", \"monitor\", \"monitor\", \"monitor\", \"month\", \"month\", \"month\", \"month\", \"month\", \"month\", \"month\", \"month\", \"month\", \"month\", \"month\", \"mouse\", \"mouse\", \"mouse\", \"mouse\", \"mouse\", \"mouse\", \"mouse\", \"mouse\", \"mouse\", \"mvc\", \"mvc\", \"mvc\", \"mvc\", \"mvc\", \"mvc\", \"mvc\", \"mvc\", \"mvc\", \"mvc\", \"mvc\", \"mvc\", \"mvc\", \"mvc\", \"mvvm\", \"mvvm\", \"mvvm\", \"mvvm\", \"mvvm\", \"mvvm\", \"mvvm\", \"mvvm\", \"mvvm\", \"mvvm\", \"mvvm\", \"mysql\", \"mysql\", \"mysql\", \"mysql\", \"mysql\", \"mysql\", \"mysql\", \"mysql\", \"mysql\", \"mysql\", \"mysql\", \"mysql\", \"mysql\", \"mysql\", \"n\", \"n\", \"n\", \"n\", \"n\", \"n\", \"name\", \"name\", \"name\", \"name\", \"name\", \"name\", \"name\", \"name\", \"name\", \"name\", \"name\", \"name\", \"name\", \"name\", \"namespace\", \"namespace\", \"namespace\", \"namespace\", \"namespace\", \"namespace\", \"namespace\", \"namespace\", \"namespace\", \"namespace\", \"network\", \"network\", \"network\", \"network\", \"network\", \"network\", \"network\", \"network\", \"network\", \"network\", \"network\", \"network\", \"network\", \"network\", \"nhibernate\", \"nhibernate\", \"nhibernate\", \"nhibernate\", \"nhibernate\", \"nhibernate\", \"nhibernate\", \"nhibernate\", \"nhibernate\", \"nhibernate\", \"node\", \"node\", \"node\", \"node\", \"node\", \"node\", \"node\", \"node\", \"node\", \"node\", \"node\", \"node\", \"node\", \"node\", \"notification\", \"notification\", \"notification\", \"notification\", \"notification\", \"notification\", \"notification\", \"notification\", \"notification\", \"notification\", \"notification\", \"null\", \"null\", \"null\", \"null\", \"null\", \"null\", \"null\", \"null\", \"null\", \"null\", \"null\", \"null\", \"null\", \"number\", \"number\", \"number\", \"number\", \"number\", \"number\", \"number\", \"number\", \"number\", \"number\", \"number\", \"number\", \"number\", \"number\", \"object\", \"object\", \"object\", \"object\", \"object\", \"object\", \"object\", \"object\", \"object\", \"object\", \"object\", \"object\", \"object\", \"object\", \"objective-c\", \"objective-c\", \"objective-c\", \"objective-c\", \"objective-c\", \"objective-c\", \"objective-c\", \"obtain\", \"obtain\", \"obtain\", \"obtain\", \"obtain\", \"obtain\", \"obtain\", \"obtain\", \"obtain\", \"obtain\", \"obtain\", \"occur\", \"occur\", \"occur\", \"occur\", \"occur\", \"occur\", \"occur\", \"occur\", \"occur\", \"operator\", \"operator\", \"operator\", \"operator\", \"operator\", \"operator\", \"operator\", \"operator\", \"operator\", \"oracle\", \"oracle\", \"oracle\", \"oracle\", \"oracle\", \"oracle\", \"oracle\", \"oracle\", \"oracle\", \"oracle\", \"order\", \"order\", \"order\", \"order\", \"order\", \"order\", \"order\", \"order\", \"order\", \"order\", \"order\", \"order\", \"order\", \"order\", \"orm\", \"orm\", \"orm\", \"orm\", \"orm\", \"orm\", \"orm\", \"orm\", \"orm\", \"orm\", \"output\", \"output\", \"output\", \"output\", \"output\", \"output\", \"output\", \"output\", \"output\", \"output\", \"output\", \"output\", \"output\", \"output\", \"package\", \"package\", \"package\", \"package\", \"package\", \"package\", \"package\", \"package\", \"package\", \"package\", \"package\", \"page\", \"page\", \"page\", \"page\", \"page\", \"page\", \"page\", \"page\", \"page\", \"page\", \"page\", \"page\", \"page\", \"page\", \"parameter\", \"parameter\", \"parameter\", \"parameter\", \"parameter\", \"parameter\", \"parameter\", \"parameter\", \"parameter\", \"parameter\", \"parameter\", \"parameter\", \"parameter\", \"parameter\", \"parent\", \"parent\", \"parent\", \"parent\", \"parent\", \"parent\", \"parent\", \"parent\", \"parent\", \"parent\", \"parent\", \"parent\", \"parent\", \"parent\", \"parse\", \"parse\", \"parse\", \"parse\", \"parse\", \"parse\", \"parse\", \"parse\", \"parse\", \"parse\", \"parse\", \"parse\", \"parse\", \"parse\", \"password\", \"password\", \"password\", \"password\", \"password\", \"password\", \"password\", \"password\", \"password\", \"password\", \"password\", \"password\", \"past\", \"past\", \"past\", \"past\", \"past\", \"past\", \"past\", \"past\", \"past\", \"past\", \"past\", \"past\", \"path\", \"path\", \"path\", \"path\", \"path\", \"path\", \"path\", \"path\", \"path\", \"path\", \"path\", \"path\", \"path\", \"path\", \"pattern\", \"pattern\", \"pattern\", \"pattern\", \"pattern\", \"pattern\", \"pattern\", \"pattern\", \"pattern\", \"pattern\", \"pattern\", \"pattern\", \"pattern\", \"pattern\", \"pdf\", \"pdf\", \"pdf\", \"pdf\", \"pdf\", \"pdf\", \"pdf\", \"pdf\", \"pdf\", \"performance\", \"performance\", \"performance\", \"performance\", \"performance\", \"performance\", \"performance\", \"performance\", \"performance\", \"performance\", \"performance\", \"performance\", \"performance\", \"performance\", \"perl\", \"perl\", \"perl\", \"perl\", \"perl\", \"perl\", \"perl\", \"perl\", \"perl\", \"permission\", \"permission\", \"permission\", \"permission\", \"permission\", \"permission\", \"permission\", \"permission\", \"permission\", \"persist\", \"persist\", \"persist\", \"persist\", \"persist\", \"persist\", \"persist\", \"persist\", \"persist\", \"persist\", \"persistence\", \"persistence\", \"persistence\", \"persistence\", \"persistence\", \"persistence\", \"persistence\", \"persistence\", \"persistence\", \"persistence\", \"persistence\", \"person\", \"person\", \"person\", \"person\", \"person\", \"person\", \"person\", \"person\", \"person\", \"person\", \"person\", \"person\", \"php\", \"php\", \"php\", \"php\", \"php\", \"php\", \"php\", \"php\", \"php\", \"php\", \"php\", \"php\", \"php\", \"php\", \"picture\", \"picture\", \"picture\", \"picture\", \"picture\", \"picture\", \"picture\", \"picture\", \"picture\", \"picture\", \"picture\", \"picture\", \"pixel\", \"pixel\", \"pixel\", \"pixel\", \"pixel\", \"pixel\", \"pixel\", \"pixel\", \"pixel\", \"pixel\", \"platform\", \"platform\", \"platform\", \"platform\", \"platform\", \"platform\", \"platform\", \"platform\", \"platform\", \"platform\", \"platform\", \"platform\", \"platform\", \"platform\", \"plugin\", \"plugin\", \"plugin\", \"plugin\", \"plugin\", \"plugin\", \"plugin\", \"plugin\", \"plugin\", \"plugin\", \"plugin\", \"point\", \"point\", \"point\", \"point\", \"point\", \"point\", \"point\", \"point\", \"point\", \"point\", \"point\", \"point\", \"point\", \"point\", \"pointer\", \"pointer\", \"pointer\", \"pointer\", \"pointer\", \"pointer\", \"pointer\", \"pointer\", \"pointer\", \"pointer\", \"pointer\", \"pointer\", \"pointer\", \"pool\", \"pool\", \"pool\", \"pool\", \"pool\", \"pool\", \"pool\", \"pool\", \"pool\", \"pool\", \"post\", \"post\", \"post\", \"post\", \"post\", \"post\", \"post\", \"post\", \"post\", \"post\", \"post\", \"post\", \"post\", \"post\", \"postgresql\", \"postgresql\", \"postgresql\", \"postgresql\", \"postgresql\", \"postgresql\", \"postgresql\", \"pro\", \"pro\", \"pro\", \"pro\", \"pro\", \"pro\", \"pro\", \"pro\", \"pro\", \"pro\", \"pro\", \"pro\", \"problem\", \"problem\", \"problem\", \"problem\", \"problem\", \"problem\", \"problem\", \"problem\", \"problem\", \"problem\", \"problem\", \"problem\", \"problem\", \"problem\", \"procedure\", \"procedure\", \"procedure\", \"procedure\", \"procedure\", \"procedure\", \"procedure\", \"procedure\", \"procedure\", \"procedure\", \"procedure\", \"procedure\", \"procedure\", \"process\", \"process\", \"process\", \"process\", \"process\", \"process\", \"process\", \"process\", \"process\", \"process\", \"process\", \"process\", \"process\", \"process\", \"profiler\", \"profiler\", \"profiler\", \"profiler\", \"profiler\", \"profiler\", \"profiler\", \"profiler\", \"program\", \"program\", \"program\", \"program\", \"program\", \"program\", \"program\", \"program\", \"program\", \"program\", \"program\", \"program\", \"program\", \"program\", \"programming\", \"programming\", \"programming\", \"programming\", \"programming\", \"programming\", \"programming\", \"programming\", \"programming\", \"programming\", \"programming\", \"project\", \"project\", \"project\", \"project\", \"project\", \"project\", \"project\", \"project\", \"project\", \"project\", \"project\", \"project\", \"project\", \"project\", \"property\", \"property\", \"property\", \"property\", \"property\", \"property\", \"property\", \"property\", \"property\", \"property\", \"property\", \"property\", \"property\", \"property\", \"provider\", \"provider\", \"provider\", \"provider\", \"provider\", \"provider\", \"provider\", \"provider\", \"provider\", \"provider\", \"proxy\", \"proxy\", \"proxy\", \"proxy\", \"proxy\", \"proxy\", \"proxy\", \"proxy\", \"proxy\", \"proxy\", \"push\", \"push\", \"push\", \"push\", \"push\", \"push\", \"push\", \"push\", \"push\", \"push\", \"push\", \"python\", \"python\", \"python\", \"python\", \"python\", \"python\", \"python\", \"python\", \"python\", \"python\", \"python\", \"python\", \"python\", \"python\", \"query\", \"query\", \"query\", \"query\", \"query\", \"query\", \"query\", \"query\", \"query\", \"query\", \"query\", \"query\", \"query\", \"query\", \"question\", \"question\", \"question\", \"question\", \"question\", \"question\", \"question\", \"question\", \"question\", \"question\", \"question\", \"question\", \"question\", \"question\", \"queue\", \"queue\", \"queue\", \"queue\", \"queue\", \"queue\", \"queue\", \"queue\", \"queue\", \"queue\", \"queue\", \"queue\", \"quote\", \"quote\", \"quote\", \"quote\", \"quote\", \"quote\", \"quote\", \"quote\", \"quote\", \"quote\", \"rail\", \"rail\", \"rail\", \"rail\", \"rail\", \"rail\", \"rail\", \"rail\", \"rail\", \"rail\", \"rail\", \"rail\", \"rail\", \"range\", \"range\", \"range\", \"range\", \"range\", \"range\", \"range\", \"range\", \"range\", \"range\", \"range\", \"range\", \"range\", \"read\", \"read\", \"read\", \"read\", \"read\", \"read\", \"read\", \"read\", \"read\", \"read\", \"read\", \"read\", \"read\", \"read\", \"record\", \"record\", \"record\", \"record\", \"record\", \"record\", \"record\", \"record\", \"record\", \"record\", \"record\", \"record\", \"record\", \"record\", \"redirect\", \"redirect\", \"redirect\", \"redirect\", \"redirect\", \"redirect\", \"redirect\", \"redirect\", \"redirect\", \"reference\", \"reference\", \"reference\", \"reference\", \"reference\", \"reference\", \"reference\", \"reference\", \"reference\", \"reference\", \"reference\", \"reference\", \"reference\", \"reference\", \"reflection\", \"reflection\", \"reflection\", \"reflection\", \"reflection\", \"reflection\", \"reflection\", \"reflection\", \"reflection\", \"reflection\", \"reflection\", \"refresh\", \"refresh\", \"refresh\", \"refresh\", \"refresh\", \"refresh\", \"refresh\", \"refresh\", \"registry\", \"registry\", \"registry\", \"registry\", \"registry\", \"registry\", \"registry\", \"registry\", \"registry\", \"relationship\", \"relationship\", \"relationship\", \"relationship\", \"relationship\", \"relationship\", \"relationship\", \"relationship\", \"relationship\", \"relationship\", \"relationship\", \"relationship\", \"relationship\", \"relationship\", \"release\", \"release\", \"release\", \"release\", \"release\", \"release\", \"release\", \"release\", \"release\", \"release\", \"release\", \"release\", \"release\", \"release\", \"render\", \"render\", \"render\", \"render\", \"render\", \"render\", \"render\", \"render\", \"repository\", \"repository\", \"repository\", \"repository\", \"repository\", \"repository\", \"repository\", \"repository\", \"repository\", \"repository\", \"repository\", \"repository\", \"repository\", \"request\", \"request\", \"request\", \"request\", \"request\", \"request\", \"request\", \"request\", \"request\", \"request\", \"request\", \"request\", \"request\", \"request\", \"resize\", \"resize\", \"resize\", \"resize\", \"resize\", \"resize\", \"resize\", \"resource\", \"resource\", \"resource\", \"resource\", \"resource\", \"resource\", \"resource\", \"resource\", \"resource\", \"resource\", \"resource\", \"resource\", \"resource\", \"resource\", \"response\", \"response\", \"response\", \"response\", \"response\", \"response\", \"response\", \"response\", \"response\", \"response\", \"response\", \"response\", \"response\", \"response\", \"rest\", \"rest\", \"rest\", \"rest\", \"rest\", \"rest\", \"rest\", \"rest\", \"rest\", \"rest\", \"rest\", \"rest\", \"rest\", \"rest\", \"result\", \"result\", \"result\", \"result\", \"result\", \"result\", \"result\", \"result\", \"result\", \"result\", \"result\", \"result\", \"result\", \"result\", \"return\", \"return\", \"return\", \"return\", \"return\", \"return\", \"return\", \"return\", \"return\", \"return\", \"return\", \"return\", \"return\", \"return\", \"role\", \"role\", \"role\", \"role\", \"role\", \"role\", \"role\", \"role\", \"role\", \"row\", \"row\", \"row\", \"row\", \"row\", \"row\", \"row\", \"row\", \"row\", \"row\", \"row\", \"row\", \"row\", \"row\", \"ruby\", \"ruby\", \"ruby\", \"ruby\", \"ruby\", \"ruby\", \"ruby\", \"ruby\", \"ruby\", \"ruby\", \"ruby\", \"ruby\", \"ruby\", \"run\", \"run\", \"run\", \"run\", \"run\", \"run\", \"run\", \"run\", \"run\", \"run\", \"run\", \"run\", \"run\", \"run\", \"safari\", \"safari\", \"safari\", \"safari\", \"safari\", \"safari\", \"safari\", \"safari\", \"safari\", \"safari\", \"scale\", \"scale\", \"scale\", \"scale\", \"scale\", \"scale\", \"scale\", \"scale\", \"scale\", \"scale\", \"schema\", \"schema\", \"schema\", \"schema\", \"schema\", \"schema\", \"schema\", \"schema\", \"schema\", \"schema\", \"schema\", \"schema\", \"schema\", \"screen\", \"screen\", \"screen\", \"screen\", \"screen\", \"screen\", \"screen\", \"screen\", \"screen\", \"screen\", \"screen\", \"screen\", \"screen\", \"script\", \"script\", \"script\", \"script\", \"script\", \"script\", \"script\", \"script\", \"script\", \"script\", \"script\", \"script\", \"script\", \"script\", \"scroll\", \"scroll\", \"scroll\", \"scroll\", \"scroll\", \"scroll\", \"scroll\", \"scroll\", \"sdk\", \"sdk\", \"sdk\", \"sdk\", \"sdk\", \"sdk\", \"sdk\", \"sdk\", \"sdk\", \"sdk\", \"sdk\", \"search\", \"search\", \"search\", \"search\", \"search\", \"search\", \"search\", \"search\", \"search\", \"search\", \"search\", \"search\", \"search\", \"search\", \"section\", \"section\", \"section\", \"section\", \"section\", \"section\", \"section\", \"section\", \"section\", \"section\", \"section\", \"section\", \"section\", \"section\", \"secure\", \"secure\", \"secure\", \"secure\", \"secure\", \"secure\", \"secure\", \"secure\", \"secure\", \"secure\", \"secure\", \"secure\", \"security\", \"security\", \"security\", \"security\", \"security\", \"security\", \"security\", \"security\", \"security\", \"security\", \"security\", \"security\", \"security\", \"see\", \"see\", \"see\", \"see\", \"see\", \"see\", \"see\", \"see\", \"see\", \"see\", \"see\", \"see\", \"see\", \"see\", \"select\", \"select\", \"select\", \"select\", \"select\", \"select\", \"select\", \"select\", \"select\", \"select\", \"select\", \"select\", \"select\", \"select\", \"send\", \"send\", \"send\", \"send\", \"send\", \"send\", \"send\", \"send\", \"send\", \"send\", \"send\", \"send\", \"send\", \"send\", \"serialization\", \"serialization\", \"serialization\", \"serialization\", \"serialization\", \"serialization\", \"serialization\", \"serialization\", \"serialization\", \"serialization\", \"serialize\", \"serialize\", \"serialize\", \"serialize\", \"serialize\", \"serialize\", \"serialize\", \"serialize\", \"serialize\", \"serialize\", \"serialize\", \"serialize\", \"server\", \"server\", \"server\", \"server\", \"server\", \"server\", \"server\", \"server\", \"server\", \"server\", \"server\", \"server\", \"server\", \"server\", \"service\", \"service\", \"service\", \"service\", \"service\", \"service\", \"service\", \"service\", \"service\", \"service\", \"service\", \"service\", \"service\", \"service\", \"servlet\", \"servlet\", \"servlet\", \"servlet\", \"servlet\", \"servlet\", \"servlet\", \"servlet\", \"servlet\", \"servlet\", \"servlet\", \"session\", \"session\", \"session\", \"session\", \"session\", \"session\", \"session\", \"session\", \"session\", \"session\", \"session\", \"session\", \"session\", \"session\", \"set\", \"set\", \"set\", \"set\", \"set\", \"set\", \"set\", \"set\", \"set\", \"set\", \"set\", \"set\", \"set\", \"set\", \"setter\", \"setter\", \"setter\", \"setter\", \"shell\", \"shell\", \"shell\", \"shell\", \"shell\", \"shell\", \"shell\", \"shell\", \"shell\", \"sign\", \"sign\", \"sign\", \"sign\", \"sign\", \"sign\", \"signature\", \"signature\", \"signature\", \"signature\", \"signature\", \"signature\", \"signature\", \"signature\", \"signature\", \"signature\", \"signature\", \"signature\", \"site\", \"site\", \"site\", \"site\", \"site\", \"site\", \"site\", \"site\", \"site\", \"site\", \"site\", \"site\", \"site\", \"site\", \"size\", \"size\", \"size\", \"size\", \"size\", \"size\", \"size\", \"size\", \"size\", \"size\", \"size\", \"size\", \"size\", \"size\", \"soap\", \"soap\", \"soap\", \"soap\", \"soap\", \"soap\", \"soap\", \"socket\", \"socket\", \"socket\", \"socket\", \"socket\", \"socket\", \"socket\", \"socket\", \"socket\", \"socket\", \"socket\", \"solution\", \"solution\", \"solution\", \"solution\", \"solution\", \"solution\", \"solution\", \"solution\", \"solution\", \"solution\", \"solution\", \"solution\", \"solution\", \"solution\", \"something\", \"something\", \"something\", \"something\", \"something\", \"something\", \"something\", \"something\", \"something\", \"something\", \"something\", \"something\", \"something\", \"something\", \"sort\", \"sort\", \"sort\", \"sort\", \"sort\", \"sort\", \"sort\", \"sort\", \"sort\", \"sort\", \"sort\", \"sort\", \"sort\", \"sort\", \"source\", \"source\", \"source\", \"source\", \"source\", \"source\", \"source\", \"source\", \"source\", \"source\", \"source\", \"source\", \"source\", \"source\", \"space\", \"space\", \"space\", \"space\", \"space\", \"space\", \"space\", \"space\", \"space\", \"space\", \"space\", \"space\", \"space\", \"space\", \"spring\", \"spring\", \"spring\", \"spring\", \"spring\", \"spring\", \"spring\", \"spring\", \"spring\", \"spring\", \"spring\", \"spring\", \"spring\", \"spring\", \"sql\", \"sql\", \"sql\", \"sql\", \"sql\", \"sql\", \"sql\", \"sql\", \"sql\", \"sql\", \"sql\", \"sql\", \"sql\", \"sql\", \"sqlite\", \"sqlite\", \"sqlite\", \"sqlite\", \"sqlite\", \"sqlite\", \"sqlite\", \"sqlite\", \"sqlite\", \"ssl\", \"ssl\", \"ssl\", \"ssl\", \"ssl\", \"ssl\", \"ssl\", \"ssl\", \"ssl\", \"state\", \"state\", \"state\", \"state\", \"state\", \"state\", \"state\", \"state\", \"state\", \"state\", \"state\", \"state\", \"state\", \"state\", \"statement\", \"statement\", \"statement\", \"statement\", \"statement\", \"statement\", \"statement\", \"statement\", \"statement\", \"statement\", \"statement\", \"statement\", \"statement\", \"statement\", \"status\", \"status\", \"status\", \"status\", \"status\", \"status\", \"status\", \"status\", \"status\", \"status\", \"status\", \"status\", \"std\", \"std\", \"std\", \"std\", \"std\", \"std\", \"std\", \"stl\", \"stl\", \"stl\", \"stl\", \"stl\", \"stl\", \"storage\", \"storage\", \"storage\", \"storage\", \"storage\", \"storage\", \"storage\", \"storage\", \"storage\", \"storage\", \"storage\", \"storage\", \"store\", \"store\", \"store\", \"store\", \"store\", \"store\", \"store\", \"store\", \"store\", \"store\", \"store\", \"store\", \"store\", \"store\", \"string\", \"string\", \"string\", \"string\", \"string\", \"string\", \"string\", \"string\", \"string\", \"string\", \"string\", \"string\", \"string\", \"string\", \"struct\", \"struct\", \"struct\", \"struct\", \"struct\", \"struct\", \"struct\", \"struct\", \"structure\", \"structure\", \"structure\", \"structure\", \"structure\", \"structure\", \"structure\", \"structure\", \"structure\", \"structure\", \"structure\", \"structure\", \"structure\", \"structure\", \"studio\", \"studio\", \"studio\", \"studio\", \"studio\", \"studio\", \"studio\", \"studio\", \"studio\", \"studio\", \"studio\", \"studio\", \"studio\", \"studio\", \"subclass\", \"subclass\", \"subclass\", \"subclass\", \"subclass\", \"subclass\", \"subclass\", \"subclass\", \"subclass\", \"subclass\", \"subclass\", \"subclass\", \"subclass\", \"submit\", \"submit\", \"submit\", \"submit\", \"submit\", \"submit\", \"submit\", \"submit\", \"submit\", \"submit\", \"submit\", \"symbol\", \"symbol\", \"symbol\", \"symbol\", \"symbol\", \"symbol\", \"symbol\", \"symbol\", \"symbol\", \"symbol\", \"symbol\", \"symbol\", \"system\", \"system\", \"system\", \"system\", \"system\", \"system\", \"system\", \"system\", \"system\", \"system\", \"system\", \"system\", \"system\", \"system\", \"tab\", \"tab\", \"tab\", \"tab\", \"tab\", \"tab\", \"tab\", \"tab\", \"tab\", \"tab\", \"tab\", \"tab\", \"table\", \"table\", \"table\", \"table\", \"table\", \"table\", \"table\", \"table\", \"table\", \"table\", \"table\", \"table\", \"table\", \"table\", \"tag\", \"tag\", \"tag\", \"tag\", \"tag\", \"tag\", \"tag\", \"tag\", \"tag\", \"tag\", \"tag\", \"tag\", \"tag\", \"tag\", \"target\", \"target\", \"target\", \"target\", \"target\", \"target\", \"target\", \"target\", \"target\", \"target\", \"target\", \"target\", \"target\", \"target\", \"technology\", \"technology\", \"technology\", \"technology\", \"technology\", \"technology\", \"technology\", \"technology\", \"technology\", \"technology\", \"technology\", \"technology\", \"template\", \"template\", \"template\", \"template\", \"template\", \"template\", \"template\", \"template\", \"template\", \"template\", \"template\", \"template\", \"template\", \"template\", \"test\", \"test\", \"test\", \"test\", \"test\", \"test\", \"test\", \"test\", \"test\", \"test\", \"test\", \"test\", \"test\", \"test\", \"testing\", \"testing\", \"testing\", \"testing\", \"testing\", \"testing\", \"testing\", \"testing\", \"testing\", \"testing\", \"text\", \"text\", \"text\", \"text\", \"text\", \"text\", \"text\", \"text\", \"text\", \"text\", \"text\", \"text\", \"text\", \"text\", \"textbox\", \"textbox\", \"textbox\", \"textbox\", \"textbox\", \"textbox\", \"textbox\", \"textbox\", \"textbox\", \"textbox\", \"thanks\", \"thanks\", \"thanks\", \"thanks\", \"thanks\", \"thanks\", \"thanks\", \"thanks\", \"thanks\", \"thanks\", \"thanks\", \"thanks\", \"thanks\", \"thanks\", \"thread\", \"thread\", \"thread\", \"thread\", \"thread\", \"thread\", \"thread\", \"thread\", \"thread\", \"thread\", \"thread\", \"thread\", \"thread\", \"thread\", \"throw\", \"throw\", \"throw\", \"throw\", \"throw\", \"throw\", \"throw\", \"throw\", \"throw\", \"throw\", \"throw\", \"throw\", \"throw\", \"time\", \"time\", \"time\", \"time\", \"time\", \"time\", \"time\", \"time\", \"time\", \"time\", \"time\", \"time\", \"time\", \"time\", \"timeout\", \"timeout\", \"timeout\", \"timeout\", \"timeout\", \"timeout\", \"timeout\", \"timeout\", \"timestamp\", \"timestamp\", \"timestamp\", \"timestamp\", \"timestamp\", \"timestamp\", \"timestamp\", \"timestamp\", \"token\", \"token\", \"token\", \"token\", \"token\", \"token\", \"token\", \"token\", \"tomcat\", \"tomcat\", \"tomcat\", \"tomcat\", \"tomcat\", \"tomcat\", \"tomcat\", \"tomcat\", \"tomcat\", \"tomcat\", \"tomcat\", \"tomcat\", \"tool\", \"tool\", \"tool\", \"tool\", \"tool\", \"tool\", \"tool\", \"tool\", \"tool\", \"tool\", \"tool\", \"tool\", \"tool\", \"tool\", \"trace\", \"trace\", \"trace\", \"trace\", \"trace\", \"trace\", \"trace\", \"trace\", \"trace\", \"trace\", \"trace\", \"traffic\", \"traffic\", \"traffic\", \"traffic\", \"traffic\", \"traffic\", \"transaction\", \"transaction\", \"transaction\", \"transaction\", \"transaction\", \"transaction\", \"transaction\", \"transaction\", \"transaction\", \"transaction\", \"transaction\", \"translate\", \"translate\", \"translate\", \"translate\", \"translate\", \"translate\", \"translate\", \"translate\", \"translate\", \"type\", \"type\", \"type\", \"type\", \"type\", \"type\", \"type\", \"type\", \"type\", \"type\", \"type\", \"type\", \"type\", \"type\", \"uitableview\", \"uitableview\", \"uitableview\", \"uitableview\", \"uitableview\", \"uitableview\", \"uiview\", \"uiview\", \"uiview\", \"uiview\", \"uiview\", \"uiview\", \"unicode\", \"unicode\", \"unicode\", \"unicode\", \"unicode\", \"unicode\", \"unicode\", \"unicode\", \"unicode\", \"unit\", \"unit\", \"unit\", \"unit\", \"unit\", \"unit\", \"unit\", \"unit\", \"unit\", \"unit\", \"unit\", \"unit\", \"unit\", \"unit\", \"upload\", \"upload\", \"upload\", \"upload\", \"upload\", \"upload\", \"upload\", \"upload\", \"url\", \"url\", \"url\", \"url\", \"url\", \"url\", \"url\", \"url\", \"url\", \"url\", \"url\", \"url\", \"url\", \"use\", \"use\", \"use\", \"use\", \"use\", \"use\", \"use\", \"use\", \"use\", \"use\", \"use\", \"use\", \"use\", \"use\", \"user\", \"user\", \"user\", \"user\", \"user\", \"user\", \"user\", \"user\", \"user\", \"user\", \"user\", \"user\", \"user\", \"user\", \"username\", \"username\", \"username\", \"username\", \"username\", \"username\", \"username\", \"username\", \"username\", \"username\", \"validate\", \"validate\", \"validate\", \"validate\", \"validate\", \"validate\", \"validate\", \"validate\", \"validate\", \"validate\", \"validate\", \"validation\", \"validation\", \"validation\", \"validation\", \"validation\", \"validation\", \"validation\", \"validation\", \"validation\", \"validation\", \"validation\", \"validation\", \"validation\", \"validation\", \"value\", \"value\", \"value\", \"value\", \"value\", \"value\", \"value\", \"value\", \"value\", \"value\", \"value\", \"value\", \"value\", \"value\", \"variable\", \"variable\", \"variable\", \"variable\", \"variable\", \"variable\", \"variable\", \"variable\", \"variable\", \"variable\", \"variable\", \"variable\", \"variable\", \"variable\", \"vb.net\", \"vb.net\", \"vb.net\", \"vb.net\", \"vb.net\", \"vb.net\", \"vb.net\", \"vb.net\", \"vb.net\", \"vector\", \"vector\", \"vector\", \"vector\", \"vector\", \"vector\", \"vector\", \"vector\", \"vector\", \"vector\", \"vector\", \"verify\", \"verify\", \"verify\", \"verify\", \"verify\", \"verify\", \"verify\", \"verify\", \"verify\", \"verify\", \"verify\", \"verify\", \"version\", \"version\", \"version\", \"version\", \"version\", \"version\", \"version\", \"version\", \"version\", \"version\", \"version\", \"version\", \"version\", \"version\", \"video\", \"video\", \"video\", \"video\", \"video\", \"video\", \"video\", \"video\", \"video\", \"video\", \"video\", \"video\", \"view\", \"view\", \"view\", \"view\", \"view\", \"view\", \"view\", \"view\", \"view\", \"view\", \"view\", \"view\", \"view\", \"view\", \"viewmodel\", \"viewmodel\", \"viewmodel\", \"viewmodel\", \"viewmodel\", \"viewmodel\", \"viewmodel\", \"viewmodel\", \"viewmodel\", \"viewmodel\", \"vista\", \"vista\", \"vista\", \"vista\", \"vista\", \"vista\", \"vista\", \"vista\", \"vista\", \"vs2008\", \"vs2008\", \"vs2008\", \"vs2008\", \"vs2008\", \"vs2008\", \"vs2008\", \"vs2008\", \"vs2008\", \"vs2010\", \"vs2010\", \"vs2010\", \"vs2010\", \"vs2010\", \"vs2010\", \"vs2010\", \"vs2010\", \"way\", \"way\", \"way\", \"way\", \"way\", \"way\", \"way\", \"way\", \"way\", \"way\", \"way\", \"way\", \"way\", \"way\", \"wcf\", \"wcf\", \"wcf\", \"wcf\", \"wcf\", \"wcf\", \"wcf\", \"wcf\", \"wcf\", \"wcf\", \"web\", \"web\", \"web\", \"web\", \"web\", \"web\", \"web\", \"web\", \"web\", \"web\", \"web\", \"web\", \"web\", \"web\", \"web.config\", \"web.config\", \"web.config\", \"web.config\", \"web.config\", \"web.config\", \"web.config\", \"webservice\", \"webservice\", \"webservice\", \"webservice\", \"webservice\", \"webservice\", \"webservice\", \"webservice\", \"website\", \"website\", \"website\", \"website\", \"website\", \"website\", \"website\", \"website\", \"website\", \"website\", \"website\", \"website\", \"website\", \"website\", \"week\", \"week\", \"week\", \"week\", \"week\", \"week\", \"week\", \"week\", \"week\", \"week\", \"week\", \"week\", \"width\", \"width\", \"width\", \"width\", \"width\", \"width\", \"width\", \"width\", \"window\", \"window\", \"window\", \"window\", \"window\", \"window\", \"window\", \"window\", \"window\", \"window\", \"window\", \"window\", \"window\", \"window\", \"winforms\", \"winforms\", \"winforms\", \"winforms\", \"winforms\", \"winforms\", \"winforms\", \"winforms\", \"winforms\", \"winforms\", \"winforms\", \"work\", \"work\", \"work\", \"work\", \"work\", \"work\", \"work\", \"work\", \"work\", \"work\", \"work\", \"work\", \"work\", \"work\", \"worker\", \"worker\", \"worker\", \"worker\", \"worker\", \"worker\", \"wpf\", \"wpf\", \"wpf\", \"wpf\", \"wpf\", \"wpf\", \"wpf\", \"wpf\", \"wpf\", \"wpf\", \"wpf\", \"wpf\", \"wpf\", \"wpf\", \"wsdl\", \"wsdl\", \"wsdl\", \"wsdl\", \"x64\", \"x64\", \"x64\", \"x64\", \"x64\", \"x64\", \"x64\", \"x86\", \"x86\", \"x86\", \"x86\", \"x86\", \"x86\", \"xaml\", \"xaml\", \"xaml\", \"xaml\", \"xaml\", \"xaml\", \"xaml\", \"xaml\", \"xaml\", \"xaml\", \"xaml\", \"xcode\", \"xcode\", \"xcode\", \"xcode\", \"xcode\", \"xcode\", \"xcode\", \"xcode\", \"xcode\", \"xp\", \"xp\", \"xp\", \"xp\", \"xp\", \"xp\", \"xp\", \"year\", \"year\", \"year\", \"year\", \"year\", \"year\", \"year\", \"year\", \"year\", \"year\", \"year\", \"year\", \"year\", \"year\", \"\\u2019\", \"\\u2019\", \"\\u2019\", \"\\u2019\", \"\\u2019\", \"\\u2019\", \"\\u2019\", \"\\u2019\", \"\\u2019\", \"\\u2019\", \"\\u2019\", \"\\u2019\", \"\\u2019\"]}, \"R\": 30, \"lambda.step\": 0.01, \"plot.opts\": {\"xlab\": \"PC1\", \"ylab\": \"PC2\"}, \"topic.order\": [13, 3, 2, 12, 10, 5, 4, 8, 11, 7, 6, 14, 1, 9]};\n",
       "\n",
       "function LDAvis_load_lib(url, callback){\n",
       "  var s = document.createElement('script');\n",
       "  s.src = url;\n",
       "  s.async = true;\n",
       "  s.onreadystatechange = s.onload = callback;\n",
       "  s.onerror = function(){console.warn(\"failed to load library \" + url);};\n",
       "  document.getElementsByTagName(\"head\")[0].appendChild(s);\n",
       "}\n",
       "\n",
       "if(typeof(LDAvis) !== \"undefined\"){\n",
       "   // already loaded: just create the visualization\n",
       "   !function(LDAvis){\n",
       "       new LDAvis(\"#\" + \"ldavis_el31092111972055201343862738\", ldavis_el31092111972055201343862738_data);\n",
       "   }(LDAvis);\n",
       "}else if(typeof define === \"function\" && define.amd){\n",
       "   // require.js is available: use it to load d3/LDAvis\n",
       "   require.config({paths: {d3: \"https://d3js.org/d3.v5\"}});\n",
       "   require([\"d3\"], function(d3){\n",
       "      window.d3 = d3;\n",
       "      LDAvis_load_lib(\"https://cdn.jsdelivr.net/gh/bmabey/pyLDAvis@3.3.1/pyLDAvis/js/ldavis.v3.0.0.js\", function(){\n",
       "        new LDAvis(\"#\" + \"ldavis_el31092111972055201343862738\", ldavis_el31092111972055201343862738_data);\n",
       "      });\n",
       "    });\n",
       "}else{\n",
       "    // require.js not available: dynamically load d3 & LDAvis\n",
       "    LDAvis_load_lib(\"https://d3js.org/d3.v5.js\", function(){\n",
       "         LDAvis_load_lib(\"https://cdn.jsdelivr.net/gh/bmabey/pyLDAvis@3.3.1/pyLDAvis/js/ldavis.v3.0.0.js\", function(){\n",
       "                 new LDAvis(\"#\" + \"ldavis_el31092111972055201343862738\", ldavis_el31092111972055201343862738_data);\n",
       "            })\n",
       "         });\n",
       "}\n",
       "</script>"
      ],
      "text/plain": [
       "<IPython.core.display.HTML object>"
      ]
     },
     "execution_count": 15,
     "metadata": {},
     "output_type": "execute_result"
    }
   ],
   "source": [
    "lda_display = pyLDAvis.gensim_models.prepare(lda_model, corpus_train, dictionary)\n",
    "pyLDAvis.display(lda_display)"
   ]
  },
  {
   "cell_type": "markdown",
   "metadata": {},
   "source": [
    "In order to compare the predictions of the *LDA* to the *supervised machine learning*, we fit a model with 250 *topics*:"
   ]
  },
  {
   "cell_type": "code",
   "execution_count": 16,
   "metadata": {},
   "outputs": [],
   "source": [
    "lda_model = LdaMulticore(\n",
    "    corpus=corpus_train,\n",
    "    id2word=dictionary,\n",
    "    num_topics=250,\n",
    "    random_state=42,\n",
    "    passes=10,\n",
    "    workers=24)"
   ]
  },
  {
   "cell_type": "markdown",
   "metadata": {},
   "source": [
    "In order to use the *LDA* model to make predictions, we develop a function to select 5 predictions by prioritizing the 50 terms (with the highest probabilities) that are present in the *title* of the question.\\\n",
    "If this does not make up for 5 *tags*, we select the terms with the highest frequencies until we obtain 5 terms."
   ]
  },
  {
   "cell_type": "code",
   "execution_count": 17,
   "metadata": {},
   "outputs": [],
   "source": [
    "def filter_preds(document, preds, length=5, top_n=50):\n",
    "    \n",
    "    filtered_preds = list()\n",
    "\n",
    "    if type(document) == float:\n",
    "\n",
    "        pass\n",
    "\n",
    "    else:\n",
    "\n",
    "        for pred in preds[:top_n]:\n",
    "\n",
    "            if pred in document:\n",
    "\n",
    "                filtered_preds.append(pred)\n",
    "                preds.remove(pred)\n",
    "\n",
    "        filtered_preds = filtered_preds[:length]\n",
    "\n",
    "    for pred in preds:\n",
    "\n",
    "        if len(filtered_preds) == length:\n",
    "            \n",
    "            break\n",
    "        \n",
    "        else:\n",
    "\n",
    "            filtered_preds.append(pred)\n",
    "    \n",
    "    return filtered_preds"
   ]
  },
  {
   "cell_type": "markdown",
   "metadata": {},
   "source": [
    "We filter the *document topics* to select the first *topic* for each *document*:"
   ]
  },
  {
   "cell_type": "code",
   "execution_count": 18,
   "metadata": {},
   "outputs": [
    {
     "data": {
      "text/plain": [
       "[151, 7, 46, 217, 147, 58, 196, 65, 224, 123]"
      ]
     },
     "execution_count": 18,
     "metadata": {},
     "output_type": "execute_result"
    }
   ],
   "source": [
    "topics = [sorted(topic, key=lambda tup: tup[1])[-1][0] for topic in lda_model.get_document_topics(corpus_test)]\n",
    "topics[:10]  # First 10 documents"
   ]
  },
  {
   "cell_type": "markdown",
   "metadata": {},
   "source": [
    "We select the first 50 *terms* for each *topic* and convert their *ids* back to words using the *dictionary*:"
   ]
  },
  {
   "cell_type": "code",
   "execution_count": 19,
   "metadata": {},
   "outputs": [
    {
     "data": {
      "text/plain": [
       "['pointer',\n",
       " 'vector',\n",
       " 'plan',\n",
       " 'execution',\n",
       " 'use',\n",
       " 'c++',\n",
       " 'inheritance',\n",
       " 'function',\n",
       " 'case',\n",
       " 'work']"
      ]
     },
     "execution_count": 19,
     "metadata": {},
     "output_type": "execute_result"
    }
   ],
   "source": [
    "preds = [[dictionary[tag[0]] for tag in lda_model.get_topic_terms(topicid=topic, topn=50)] for topic in topics]\n",
    "preds[0][:10]  # First 10 predictions of the first document"
   ]
  },
  {
   "cell_type": "markdown",
   "metadata": {},
   "source": [
    "We then apply the *filter_preds* function described above and add them to the results dataframe:"
   ]
  },
  {
   "cell_type": "code",
   "execution_count": 20,
   "metadata": {},
   "outputs": [
    {
     "data": {
      "text/html": [
       "<div>\n",
       "<style scoped>\n",
       "    .dataframe tbody tr th:only-of-type {\n",
       "        vertical-align: middle;\n",
       "    }\n",
       "\n",
       "    .dataframe tbody tr th {\n",
       "        vertical-align: top;\n",
       "    }\n",
       "\n",
       "    .dataframe thead th {\n",
       "        text-align: right;\n",
       "    }\n",
       "</style>\n",
       "<table border=\"1\" class=\"dataframe\">\n",
       "  <thead>\n",
       "    <tr style=\"text-align: right;\">\n",
       "      <th></th>\n",
       "      <th>Title_tokens</th>\n",
       "      <th>Tags_tokens</th>\n",
       "      <th>Tags_target</th>\n",
       "      <th>LDA</th>\n",
       "    </tr>\n",
       "    <tr>\n",
       "      <th>Id</th>\n",
       "      <th></th>\n",
       "      <th></th>\n",
       "      <th></th>\n",
       "      <th></th>\n",
       "    </tr>\n",
       "  </thead>\n",
       "  <tbody>\n",
       "    <tr>\n",
       "      <th>1475635</th>\n",
       "      <td>pointer,structure</td>\n",
       "      <td>c,pointers,variables,struct,return</td>\n",
       "      <td>pointers,variables,struct,c</td>\n",
       "      <td>[vector, c++, inheritance, function, object]</td>\n",
       "    </tr>\n",
       "    <tr>\n",
       "      <th>190666</th>\n",
       "      <td>linq,sql,concurrency,issue</td>\n",
       "      <td>c#,linq,linq-to-sql,concurrency,transactions</td>\n",
       "      <td>linq,c#,concurrency,linq-to-sql,transactions</td>\n",
       "      <td>[sql, linq, database, performance, null]</td>\n",
       "    </tr>\n",
       "    <tr>\n",
       "      <th>1735000</th>\n",
       "      <td>instrument,display,console,command,line,applic...</td>\n",
       "      <td>c,xcode,debugging,macos,instruments</td>\n",
       "      <td>xcode,macos,debugging,c</td>\n",
       "      <td>[build, xcode, java, performance, configuration]</td>\n",
       "    </tr>\n",
       "    <tr>\n",
       "      <th>1662904</th>\n",
       "      <td>qt,setting</td>\n",
       "      <td>c++,windows,linux,qt,qt4</td>\n",
       "      <td>linux,c++,qt,windows</td>\n",
       "      <td>[time, qt, javascript, java, winforms]</td>\n",
       "    </tr>\n",
       "    <tr>\n",
       "      <th>116701</th>\n",
       "      <td>program,background</td>\n",
       "      <td>windows,linux,macos,shell,background</td>\n",
       "      <td>linux,macos,windows,shell</td>\n",
       "      <td>[process, .net, time, difference, program]</td>\n",
       "    </tr>\n",
       "    <tr>\n",
       "      <th>...</th>\n",
       "      <td>...</td>\n",
       "      <td>...</td>\n",
       "      <td>...</td>\n",
       "      <td>...</td>\n",
       "    </tr>\n",
       "    <tr>\n",
       "      <th>5588143</th>\n",
       "      <td>code,json,reference,serialization,error</td>\n",
       "      <td>c#,json,entity-framework,serialization,asp.net...</td>\n",
       "      <td>json,serialization,c#,asp.net-mvc-3,entity-fra...</td>\n",
       "      <td>[java, exception, object, time, asp.net]</td>\n",
       "    </tr>\n",
       "    <tr>\n",
       "      <th>919287</th>\n",
       "      <td>wcf,window,service,timeout</td>\n",
       "      <td>.net,windows,wcf,web-services,exception-handling</td>\n",
       "      <td>web-services,windows,.net,exception-handling,wcf</td>\n",
       "      <td>[wcf, soap, rest, .net, class]</td>\n",
       "    </tr>\n",
       "    <tr>\n",
       "      <th>4730570</th>\n",
       "      <td>list,moq</td>\n",
       "      <td>c#,.net,unit-testing,mocking,moq</td>\n",
       "      <td>unit-testing,c#,.net,mocking</td>\n",
       "      <td>[list, listview, object, linq, class]</td>\n",
       "    </tr>\n",
       "    <tr>\n",
       "      <th>6062569</th>\n",
       "      <td>difference,appdelegate.m,view,controller.m</td>\n",
       "      <td>iphone,objective-c,xcode,delegates,viewcontroller</td>\n",
       "      <td>xcode,iphone,delegates,objective-c</td>\n",
       "      <td>[iphone, file, cocoa, xcode, time]</td>\n",
       "    </tr>\n",
       "    <tr>\n",
       "      <th>2565979</th>\n",
       "      <td>macro,gcc/g++,differentiate,linux,mac,osx</td>\n",
       "      <td>linux,macos,gcc,cross-platform,macros</td>\n",
       "      <td>linux,macos,gcc,cross-platform</td>\n",
       "      <td>[linux, python, browser, c++, file]</td>\n",
       "    </tr>\n",
       "  </tbody>\n",
       "</table>\n",
       "<p>2495 rows × 4 columns</p>\n",
       "</div>"
      ],
      "text/plain": [
       "                                              Title_tokens  \\\n",
       "Id                                                           \n",
       "1475635                                  pointer,structure   \n",
       "190666                          linq,sql,concurrency,issue   \n",
       "1735000  instrument,display,console,command,line,applic...   \n",
       "1662904                                         qt,setting   \n",
       "116701                                  program,background   \n",
       "...                                                    ...   \n",
       "5588143            code,json,reference,serialization,error   \n",
       "919287                          wcf,window,service,timeout   \n",
       "4730570                                           list,moq   \n",
       "6062569         difference,appdelegate.m,view,controller.m   \n",
       "2565979          macro,gcc/g++,differentiate,linux,mac,osx   \n",
       "\n",
       "                                               Tags_tokens  \\\n",
       "Id                                                           \n",
       "1475635                 c,pointers,variables,struct,return   \n",
       "190666        c#,linq,linq-to-sql,concurrency,transactions   \n",
       "1735000                c,xcode,debugging,macos,instruments   \n",
       "1662904                           c++,windows,linux,qt,qt4   \n",
       "116701                windows,linux,macos,shell,background   \n",
       "...                                                    ...   \n",
       "5588143  c#,json,entity-framework,serialization,asp.net...   \n",
       "919287    .net,windows,wcf,web-services,exception-handling   \n",
       "4730570                   c#,.net,unit-testing,mocking,moq   \n",
       "6062569  iphone,objective-c,xcode,delegates,viewcontroller   \n",
       "2565979              linux,macos,gcc,cross-platform,macros   \n",
       "\n",
       "                                               Tags_target  \\\n",
       "Id                                                           \n",
       "1475635                        pointers,variables,struct,c   \n",
       "190666        linq,c#,concurrency,linq-to-sql,transactions   \n",
       "1735000                            xcode,macos,debugging,c   \n",
       "1662904                               linux,c++,qt,windows   \n",
       "116701                           linux,macos,windows,shell   \n",
       "...                                                    ...   \n",
       "5588143  json,serialization,c#,asp.net-mvc-3,entity-fra...   \n",
       "919287    web-services,windows,.net,exception-handling,wcf   \n",
       "4730570                       unit-testing,c#,.net,mocking   \n",
       "6062569                 xcode,iphone,delegates,objective-c   \n",
       "2565979                     linux,macos,gcc,cross-platform   \n",
       "\n",
       "                                                      LDA  \n",
       "Id                                                         \n",
       "1475635      [vector, c++, inheritance, function, object]  \n",
       "190666           [sql, linq, database, performance, null]  \n",
       "1735000  [build, xcode, java, performance, configuration]  \n",
       "1662904            [time, qt, javascript, java, winforms]  \n",
       "116701         [process, .net, time, difference, program]  \n",
       "...                                                   ...  \n",
       "5588143          [java, exception, object, time, asp.net]  \n",
       "919287                     [wcf, soap, rest, .net, class]  \n",
       "4730570             [list, listview, object, linq, class]  \n",
       "6062569                [iphone, file, cocoa, xcode, time]  \n",
       "2565979               [linux, python, browser, c++, file]  \n",
       "\n",
       "[2495 rows x 4 columns]"
      ]
     },
     "execution_count": 20,
     "metadata": {},
     "output_type": "execute_result"
    }
   ],
   "source": [
    "transformer.test_df['LDA'] = preds\n",
    "transformer.test_df['LDA'] = transformer.test_df.apply(lambda x: filter_preds(transformer.top_tags, x['LDA']), axis=1)\n",
    "transformer.test_df[['Title_tokens', 'Tags_tokens', 'Tags_target', 'LDA']]"
   ]
  },
  {
   "cell_type": "markdown",
   "metadata": {},
   "source": [
    "We can still calculate the *ratio of tags hit* using our *PerformanceReport* class:"
   ]
  },
  {
   "cell_type": "code",
   "execution_count": 21,
   "metadata": {},
   "outputs": [
    {
     "name": "stdout",
     "output_type": "stream",
     "text": [
      "Ratio of target tags hit: 0.163\n",
      "Ratio of tags hit: 0.138\n",
      "Average fill: 1.1848\n"
     ]
    }
   ],
   "source": [
    "report.tags_ratio('LDA', transformer.test_df)"
   ]
  },
  {
   "cell_type": "markdown",
   "metadata": {},
   "source": [
    "# Supervised"
   ]
  },
  {
   "cell_type": "markdown",
   "metadata": {},
   "source": [
    "### Logistic Regression"
   ]
  },
  {
   "cell_type": "markdown",
   "metadata": {},
   "source": [
    "Using the *OneVsRest* (or *OneVsAll*) strategy, we can fit a binary classifier for each *label* of the dataset. We obtain a classifier that can output multiple *labels* for each document."
   ]
  },
  {
   "cell_type": "code",
   "execution_count": 22,
   "metadata": {},
   "outputs": [
    {
     "name": "stdout",
     "output_type": "stream",
     "text": [
      "                    LogR\n",
      "Jaccard         0.250785\n",
      "Recall          0.269066\n",
      "Inference_time  0.000374\n",
      "Model_size_mb          2\n"
     ]
    }
   ],
   "source": [
    "logr_model = OneVsRestClassifier(LogisticRegression(solver='lbfgs'))\n",
    "logr_model.fit(X_train, y_train)\n",
    "preds = logr_model.predict(X_test)\n",
    "report.evaluate('LogR', logr_model, X_test, y_test, preds)"
   ]
  },
  {
   "cell_type": "code",
   "execution_count": 23,
   "metadata": {},
   "outputs": [
    {
     "data": {
      "text/html": [
       "<div>\n",
       "<style scoped>\n",
       "    .dataframe tbody tr th:only-of-type {\n",
       "        vertical-align: middle;\n",
       "    }\n",
       "\n",
       "    .dataframe tbody tr th {\n",
       "        vertical-align: top;\n",
       "    }\n",
       "\n",
       "    .dataframe thead th {\n",
       "        text-align: right;\n",
       "    }\n",
       "</style>\n",
       "<table border=\"1\" class=\"dataframe\">\n",
       "  <thead>\n",
       "    <tr style=\"text-align: right;\">\n",
       "      <th></th>\n",
       "      <th>Title_Body_tokens</th>\n",
       "      <th>Tags_tokens</th>\n",
       "      <th>Tags_target</th>\n",
       "      <th>LogR</th>\n",
       "    </tr>\n",
       "    <tr>\n",
       "      <th>Id</th>\n",
       "      <th></th>\n",
       "      <th></th>\n",
       "      <th></th>\n",
       "      <th></th>\n",
       "    </tr>\n",
       "  </thead>\n",
       "  <tbody>\n",
       "    <tr>\n",
       "      <th>1475635</th>\n",
       "      <td>pointer,structure,return,pointer,struct,c,mean...</td>\n",
       "      <td>c,pointers,variables,struct,return</td>\n",
       "      <td>pointers,variables,struct,c</td>\n",
       "      <td>(c++, c, pointers)</td>\n",
       "    </tr>\n",
       "    <tr>\n",
       "      <th>190666</th>\n",
       "      <td>linq,sql,concurrency,issue,build,order,record,...</td>\n",
       "      <td>c#,linq,linq-to-sql,concurrency,transactions</td>\n",
       "      <td>linq,c#,concurrency,linq-to-sql,transactions</td>\n",
       "      <td>(c#, linq)</td>\n",
       "    </tr>\n",
       "    <tr>\n",
       "      <th>1735000</th>\n",
       "      <td>instrument,display,console,command,line,applic...</td>\n",
       "      <td>c,xcode,debugging,macos,instruments</td>\n",
       "      <td>xcode,macos,debugging,c</td>\n",
       "      <td>()</td>\n",
       "    </tr>\n",
       "    <tr>\n",
       "      <th>1662904</th>\n",
       "      <td>qt,setting,part,qt,effort,payback,road,questio...</td>\n",
       "      <td>c++,windows,linux,qt,qt4</td>\n",
       "      <td>linux,c++,qt,windows</td>\n",
       "      <td>(c++, qt)</td>\n",
       "    </tr>\n",
       "    <tr>\n",
       "      <th>116701</th>\n",
       "      <td>program,background,way,c,program,command,line,...</td>\n",
       "      <td>windows,linux,macos,shell,background</td>\n",
       "      <td>linux,macos,windows,shell</td>\n",
       "      <td>(linux, shell)</td>\n",
       "    </tr>\n",
       "  </tbody>\n",
       "</table>\n",
       "</div>"
      ],
      "text/plain": [
       "                                         Title_Body_tokens  \\\n",
       "Id                                                           \n",
       "1475635  pointer,structure,return,pointer,struct,c,mean...   \n",
       "190666   linq,sql,concurrency,issue,build,order,record,...   \n",
       "1735000  instrument,display,console,command,line,applic...   \n",
       "1662904  qt,setting,part,qt,effort,payback,road,questio...   \n",
       "116701   program,background,way,c,program,command,line,...   \n",
       "\n",
       "                                          Tags_tokens  \\\n",
       "Id                                                      \n",
       "1475635            c,pointers,variables,struct,return   \n",
       "190666   c#,linq,linq-to-sql,concurrency,transactions   \n",
       "1735000           c,xcode,debugging,macos,instruments   \n",
       "1662904                      c++,windows,linux,qt,qt4   \n",
       "116701           windows,linux,macos,shell,background   \n",
       "\n",
       "                                          Tags_target                LogR  \n",
       "Id                                                                         \n",
       "1475635                   pointers,variables,struct,c  (c++, c, pointers)  \n",
       "190666   linq,c#,concurrency,linq-to-sql,transactions          (c#, linq)  \n",
       "1735000                       xcode,macos,debugging,c                  ()  \n",
       "1662904                          linux,c++,qt,windows           (c++, qt)  \n",
       "116701                      linux,macos,windows,shell      (linux, shell)  "
      ]
     },
     "execution_count": 23,
     "metadata": {},
     "output_type": "execute_result"
    }
   ],
   "source": [
    "transformer.join_predictions('LogR', preds).head()"
   ]
  },
  {
   "cell_type": "code",
   "execution_count": 24,
   "metadata": {},
   "outputs": [
    {
     "name": "stdout",
     "output_type": "stream",
     "text": [
      "Ratio of target tags hit: 0.2693\n",
      "Ratio of tags hit: 0.2269\n",
      "Average fill: 0.3433\n"
     ]
    }
   ],
   "source": [
    "report.tags_ratio('LogR', transformer.test_df)"
   ]
  },
  {
   "cell_type": "markdown",
   "metadata": {},
   "source": [
    "### SVM"
   ]
  },
  {
   "cell_type": "code",
   "execution_count": 25,
   "metadata": {},
   "outputs": [
    {
     "name": "stdout",
     "output_type": "stream",
     "text": [
      "                     SVM\n",
      "Jaccard         0.367397\n",
      "Recall           0.41134\n",
      "Inference_time  0.000377\n",
      "Model_size_mb          2\n"
     ]
    }
   ],
   "source": [
    "svm_model = OneVsRestClassifier(LinearSVC())\n",
    "svm_model.fit(X_train, y_train)\n",
    "preds = svm_model.predict(X_test)\n",
    "report.evaluate('SVM', svm_model, X_test, y_test, preds)"
   ]
  },
  {
   "cell_type": "code",
   "execution_count": 26,
   "metadata": {},
   "outputs": [
    {
     "data": {
      "text/html": [
       "<div>\n",
       "<style scoped>\n",
       "    .dataframe tbody tr th:only-of-type {\n",
       "        vertical-align: middle;\n",
       "    }\n",
       "\n",
       "    .dataframe tbody tr th {\n",
       "        vertical-align: top;\n",
       "    }\n",
       "\n",
       "    .dataframe thead th {\n",
       "        text-align: right;\n",
       "    }\n",
       "</style>\n",
       "<table border=\"1\" class=\"dataframe\">\n",
       "  <thead>\n",
       "    <tr style=\"text-align: right;\">\n",
       "      <th></th>\n",
       "      <th>Title_Body_tokens</th>\n",
       "      <th>Tags_tokens</th>\n",
       "      <th>Tags_target</th>\n",
       "      <th>SVM</th>\n",
       "    </tr>\n",
       "    <tr>\n",
       "      <th>Id</th>\n",
       "      <th></th>\n",
       "      <th></th>\n",
       "      <th></th>\n",
       "      <th></th>\n",
       "    </tr>\n",
       "  </thead>\n",
       "  <tbody>\n",
       "    <tr>\n",
       "      <th>1475635</th>\n",
       "      <td>pointer,structure,return,pointer,struct,c,mean...</td>\n",
       "      <td>c,pointers,variables,struct,return</td>\n",
       "      <td>pointers,variables,struct,c</td>\n",
       "      <td>(c++, c, pointers, struct)</td>\n",
       "    </tr>\n",
       "    <tr>\n",
       "      <th>190666</th>\n",
       "      <td>linq,sql,concurrency,issue,build,order,record,...</td>\n",
       "      <td>c#,linq,linq-to-sql,concurrency,transactions</td>\n",
       "      <td>linq,c#,concurrency,linq-to-sql,transactions</td>\n",
       "      <td>(c#, sql, linq, linq-to-sql)</td>\n",
       "    </tr>\n",
       "    <tr>\n",
       "      <th>1735000</th>\n",
       "      <td>instrument,display,console,command,line,applic...</td>\n",
       "      <td>c,xcode,debugging,macos,instruments</td>\n",
       "      <td>xcode,macos,debugging,c</td>\n",
       "      <td>(xcode,)</td>\n",
       "    </tr>\n",
       "    <tr>\n",
       "      <th>1662904</th>\n",
       "      <td>qt,setting,part,qt,effort,payback,road,questio...</td>\n",
       "      <td>c++,windows,linux,qt,qt4</td>\n",
       "      <td>linux,c++,qt,windows</td>\n",
       "      <td>(c++, qt)</td>\n",
       "    </tr>\n",
       "    <tr>\n",
       "      <th>116701</th>\n",
       "      <td>program,background,way,c,program,command,line,...</td>\n",
       "      <td>windows,linux,macos,shell,background</td>\n",
       "      <td>linux,macos,windows,shell</td>\n",
       "      <td>(linux, shell)</td>\n",
       "    </tr>\n",
       "  </tbody>\n",
       "</table>\n",
       "</div>"
      ],
      "text/plain": [
       "                                         Title_Body_tokens  \\\n",
       "Id                                                           \n",
       "1475635  pointer,structure,return,pointer,struct,c,mean...   \n",
       "190666   linq,sql,concurrency,issue,build,order,record,...   \n",
       "1735000  instrument,display,console,command,line,applic...   \n",
       "1662904  qt,setting,part,qt,effort,payback,road,questio...   \n",
       "116701   program,background,way,c,program,command,line,...   \n",
       "\n",
       "                                          Tags_tokens  \\\n",
       "Id                                                      \n",
       "1475635            c,pointers,variables,struct,return   \n",
       "190666   c#,linq,linq-to-sql,concurrency,transactions   \n",
       "1735000           c,xcode,debugging,macos,instruments   \n",
       "1662904                      c++,windows,linux,qt,qt4   \n",
       "116701           windows,linux,macos,shell,background   \n",
       "\n",
       "                                          Tags_target  \\\n",
       "Id                                                      \n",
       "1475635                   pointers,variables,struct,c   \n",
       "190666   linq,c#,concurrency,linq-to-sql,transactions   \n",
       "1735000                       xcode,macos,debugging,c   \n",
       "1662904                          linux,c++,qt,windows   \n",
       "116701                      linux,macos,windows,shell   \n",
       "\n",
       "                                  SVM  \n",
       "Id                                     \n",
       "1475635    (c++, c, pointers, struct)  \n",
       "190666   (c#, sql, linq, linq-to-sql)  \n",
       "1735000                      (xcode,)  \n",
       "1662904                     (c++, qt)  \n",
       "116701                 (linux, shell)  "
      ]
     },
     "execution_count": 26,
     "metadata": {},
     "output_type": "execute_result"
    }
   ],
   "source": [
    "transformer.join_predictions('SVM', preds).head()"
   ]
  },
  {
   "cell_type": "code",
   "execution_count": 27,
   "metadata": {},
   "outputs": [
    {
     "name": "stdout",
     "output_type": "stream",
     "text": [
      "Ratio of target tags hit: 0.4104\n",
      "Ratio of tags hit: 0.3457\n",
      "Average fill: 0.5615\n"
     ]
    }
   ],
   "source": [
    "report.tags_ratio('SVM', transformer.test_df)"
   ]
  },
  {
   "cell_type": "markdown",
   "metadata": {},
   "source": [
    "### SGD"
   ]
  },
  {
   "cell_type": "code",
   "execution_count": 28,
   "metadata": {},
   "outputs": [
    {
     "name": "stdout",
     "output_type": "stream",
     "text": [
      "                     SGD\n",
      "Jaccard         0.361315\n",
      "Recall          0.409726\n",
      "Inference_time  0.000395\n",
      "Model_size_mb          2\n"
     ]
    }
   ],
   "source": [
    "sgd_model = OneVsRestClassifier(SGDClassifier(loss='modified_huber'), n_jobs=-1)\n",
    "sgd_model.fit(X_train, y_train)\n",
    "preds = sgd_model.predict(X_test)\n",
    "report.evaluate('SGD', sgd_model, X_test, y_test, preds)"
   ]
  },
  {
   "cell_type": "code",
   "execution_count": 29,
   "metadata": {},
   "outputs": [
    {
     "data": {
      "text/html": [
       "<div>\n",
       "<style scoped>\n",
       "    .dataframe tbody tr th:only-of-type {\n",
       "        vertical-align: middle;\n",
       "    }\n",
       "\n",
       "    .dataframe tbody tr th {\n",
       "        vertical-align: top;\n",
       "    }\n",
       "\n",
       "    .dataframe thead th {\n",
       "        text-align: right;\n",
       "    }\n",
       "</style>\n",
       "<table border=\"1\" class=\"dataframe\">\n",
       "  <thead>\n",
       "    <tr style=\"text-align: right;\">\n",
       "      <th></th>\n",
       "      <th>Title_Body_tokens</th>\n",
       "      <th>Tags_tokens</th>\n",
       "      <th>Tags_target</th>\n",
       "      <th>SGD</th>\n",
       "    </tr>\n",
       "    <tr>\n",
       "      <th>Id</th>\n",
       "      <th></th>\n",
       "      <th></th>\n",
       "      <th></th>\n",
       "      <th></th>\n",
       "    </tr>\n",
       "  </thead>\n",
       "  <tbody>\n",
       "    <tr>\n",
       "      <th>1475635</th>\n",
       "      <td>pointer,structure,return,pointer,struct,c,mean...</td>\n",
       "      <td>c,pointers,variables,struct,return</td>\n",
       "      <td>pointers,variables,struct,c</td>\n",
       "      <td>(c++, c, pointers, struct)</td>\n",
       "    </tr>\n",
       "    <tr>\n",
       "      <th>190666</th>\n",
       "      <td>linq,sql,concurrency,issue,build,order,record,...</td>\n",
       "      <td>c#,linq,linq-to-sql,concurrency,transactions</td>\n",
       "      <td>linq,c#,concurrency,linq-to-sql,transactions</td>\n",
       "      <td>(c#, sql, linq, linq-to-sql)</td>\n",
       "    </tr>\n",
       "    <tr>\n",
       "      <th>1735000</th>\n",
       "      <td>instrument,display,console,command,line,applic...</td>\n",
       "      <td>c,xcode,debugging,macos,instruments</td>\n",
       "      <td>xcode,macos,debugging,c</td>\n",
       "      <td>(xcode,)</td>\n",
       "    </tr>\n",
       "    <tr>\n",
       "      <th>1662904</th>\n",
       "      <td>qt,setting,part,qt,effort,payback,road,questio...</td>\n",
       "      <td>c++,windows,linux,qt,qt4</td>\n",
       "      <td>linux,c++,qt,windows</td>\n",
       "      <td>(c++, qt)</td>\n",
       "    </tr>\n",
       "    <tr>\n",
       "      <th>116701</th>\n",
       "      <td>program,background,way,c,program,command,line,...</td>\n",
       "      <td>windows,linux,macos,shell,background</td>\n",
       "      <td>linux,macos,windows,shell</td>\n",
       "      <td>(linux, shell, process)</td>\n",
       "    </tr>\n",
       "  </tbody>\n",
       "</table>\n",
       "</div>"
      ],
      "text/plain": [
       "                                         Title_Body_tokens  \\\n",
       "Id                                                           \n",
       "1475635  pointer,structure,return,pointer,struct,c,mean...   \n",
       "190666   linq,sql,concurrency,issue,build,order,record,...   \n",
       "1735000  instrument,display,console,command,line,applic...   \n",
       "1662904  qt,setting,part,qt,effort,payback,road,questio...   \n",
       "116701   program,background,way,c,program,command,line,...   \n",
       "\n",
       "                                          Tags_tokens  \\\n",
       "Id                                                      \n",
       "1475635            c,pointers,variables,struct,return   \n",
       "190666   c#,linq,linq-to-sql,concurrency,transactions   \n",
       "1735000           c,xcode,debugging,macos,instruments   \n",
       "1662904                      c++,windows,linux,qt,qt4   \n",
       "116701           windows,linux,macos,shell,background   \n",
       "\n",
       "                                          Tags_target  \\\n",
       "Id                                                      \n",
       "1475635                   pointers,variables,struct,c   \n",
       "190666   linq,c#,concurrency,linq-to-sql,transactions   \n",
       "1735000                       xcode,macos,debugging,c   \n",
       "1662904                          linux,c++,qt,windows   \n",
       "116701                      linux,macos,windows,shell   \n",
       "\n",
       "                                  SGD  \n",
       "Id                                     \n",
       "1475635    (c++, c, pointers, struct)  \n",
       "190666   (c#, sql, linq, linq-to-sql)  \n",
       "1735000                      (xcode,)  \n",
       "1662904                     (c++, qt)  \n",
       "116701        (linux, shell, process)  "
      ]
     },
     "execution_count": 29,
     "metadata": {},
     "output_type": "execute_result"
    }
   ],
   "source": [
    "transformer.join_predictions('SGD', preds).head()"
   ]
  },
  {
   "cell_type": "markdown",
   "metadata": {},
   "source": [
    "We notice that some *documents* have empty predictions.\\\n",
    "This behavior is unwanted, as we want to offer predictions for all the questions passed to the model. We will try to remediate to this issue in the next part."
   ]
  },
  {
   "cell_type": "code",
   "execution_count": 30,
   "metadata": {},
   "outputs": [
    {
     "name": "stdout",
     "output_type": "stream",
     "text": [
      "Ratio of target tags hit: 0.4079\n",
      "Ratio of tags hit: 0.3432\n",
      "Average fill: 0.5741\n"
     ]
    }
   ],
   "source": [
    "report.tags_ratio('SGD', transformer.test_df)"
   ]
  },
  {
   "cell_type": "markdown",
   "metadata": {},
   "source": [
    "### KNN"
   ]
  },
  {
   "cell_type": "code",
   "execution_count": 31,
   "metadata": {},
   "outputs": [
    {
     "name": "stdout",
     "output_type": "stream",
     "text": [
      "                     KNN\n",
      "Jaccard         0.146033\n",
      "Recall          0.152151\n",
      "Inference_time  0.002111\n",
      "Model_size_mb         99\n"
     ]
    }
   ],
   "source": [
    "knn_model = KNeighborsClassifier(n_neighbors=25, leaf_size=90, metric='euclidean')\n",
    "knn_model.fit(X_train.values, y_train.values)\n",
    "preds = knn_model.predict(X_test)\n",
    "report.evaluate('KNN', knn_model, X_test, y_test, preds)"
   ]
  },
  {
   "cell_type": "code",
   "execution_count": 32,
   "metadata": {},
   "outputs": [
    {
     "data": {
      "text/html": [
       "<div>\n",
       "<style scoped>\n",
       "    .dataframe tbody tr th:only-of-type {\n",
       "        vertical-align: middle;\n",
       "    }\n",
       "\n",
       "    .dataframe tbody tr th {\n",
       "        vertical-align: top;\n",
       "    }\n",
       "\n",
       "    .dataframe thead th {\n",
       "        text-align: right;\n",
       "    }\n",
       "</style>\n",
       "<table border=\"1\" class=\"dataframe\">\n",
       "  <thead>\n",
       "    <tr style=\"text-align: right;\">\n",
       "      <th></th>\n",
       "      <th>Title_Body_tokens</th>\n",
       "      <th>Tags_tokens</th>\n",
       "      <th>Tags_target</th>\n",
       "      <th>KNN</th>\n",
       "    </tr>\n",
       "    <tr>\n",
       "      <th>Id</th>\n",
       "      <th></th>\n",
       "      <th></th>\n",
       "      <th></th>\n",
       "      <th></th>\n",
       "    </tr>\n",
       "  </thead>\n",
       "  <tbody>\n",
       "    <tr>\n",
       "      <th>1475635</th>\n",
       "      <td>pointer,structure,return,pointer,struct,c,mean...</td>\n",
       "      <td>c,pointers,variables,struct,return</td>\n",
       "      <td>pointers,variables,struct,c</td>\n",
       "      <td>(c++, c, pointers)</td>\n",
       "    </tr>\n",
       "    <tr>\n",
       "      <th>190666</th>\n",
       "      <td>linq,sql,concurrency,issue,build,order,record,...</td>\n",
       "      <td>c#,linq,linq-to-sql,concurrency,transactions</td>\n",
       "      <td>linq,c#,concurrency,linq-to-sql,transactions</td>\n",
       "      <td>(c#,)</td>\n",
       "    </tr>\n",
       "    <tr>\n",
       "      <th>1735000</th>\n",
       "      <td>instrument,display,console,command,line,applic...</td>\n",
       "      <td>c,xcode,debugging,macos,instruments</td>\n",
       "      <td>xcode,macos,debugging,c</td>\n",
       "      <td>()</td>\n",
       "    </tr>\n",
       "    <tr>\n",
       "      <th>1662904</th>\n",
       "      <td>qt,setting,part,qt,effort,payback,road,questio...</td>\n",
       "      <td>c++,windows,linux,qt,qt4</td>\n",
       "      <td>linux,c++,qt,windows</td>\n",
       "      <td>(c++, qt)</td>\n",
       "    </tr>\n",
       "    <tr>\n",
       "      <th>116701</th>\n",
       "      <td>program,background,way,c,program,command,line,...</td>\n",
       "      <td>windows,linux,macos,shell,background</td>\n",
       "      <td>linux,macos,windows,shell</td>\n",
       "      <td>(shell,)</td>\n",
       "    </tr>\n",
       "  </tbody>\n",
       "</table>\n",
       "</div>"
      ],
      "text/plain": [
       "                                         Title_Body_tokens  \\\n",
       "Id                                                           \n",
       "1475635  pointer,structure,return,pointer,struct,c,mean...   \n",
       "190666   linq,sql,concurrency,issue,build,order,record,...   \n",
       "1735000  instrument,display,console,command,line,applic...   \n",
       "1662904  qt,setting,part,qt,effort,payback,road,questio...   \n",
       "116701   program,background,way,c,program,command,line,...   \n",
       "\n",
       "                                          Tags_tokens  \\\n",
       "Id                                                      \n",
       "1475635            c,pointers,variables,struct,return   \n",
       "190666   c#,linq,linq-to-sql,concurrency,transactions   \n",
       "1735000           c,xcode,debugging,macos,instruments   \n",
       "1662904                      c++,windows,linux,qt,qt4   \n",
       "116701           windows,linux,macos,shell,background   \n",
       "\n",
       "                                          Tags_target                 KNN  \n",
       "Id                                                                         \n",
       "1475635                   pointers,variables,struct,c  (c++, c, pointers)  \n",
       "190666   linq,c#,concurrency,linq-to-sql,transactions               (c#,)  \n",
       "1735000                       xcode,macos,debugging,c                  ()  \n",
       "1662904                          linux,c++,qt,windows           (c++, qt)  \n",
       "116701                      linux,macos,windows,shell            (shell,)  "
      ]
     },
     "execution_count": 32,
     "metadata": {},
     "output_type": "execute_result"
    }
   ],
   "source": [
    "transformer.join_predictions('KNN', preds).head()"
   ]
  },
  {
   "cell_type": "code",
   "execution_count": 33,
   "metadata": {},
   "outputs": [
    {
     "name": "stdout",
     "output_type": "stream",
     "text": [
      "Ratio of target tags hit: 0.1523\n",
      "Ratio of tags hit: 0.1284\n",
      "Average fill: 0.1997\n"
     ]
    }
   ],
   "source": [
    "report.tags_ratio('KNN', transformer.test_df)"
   ]
  },
  {
   "cell_type": "markdown",
   "metadata": {},
   "source": [
    "We obtain interesting results, a few rows have actually been predicted by the model, this is because the model outputs low porbabilities for most of its predictions.\n",
    "\n",
    "In order to obtain 5 tags, we are going to use the *predict_proba* method to output predictions with lower probability, using the following function:"
   ]
  },
  {
   "cell_type": "code",
   "execution_count": 34,
   "metadata": {},
   "outputs": [],
   "source": [
    "def get_firsts(preds_proba, n_first=5):\n",
    "\n",
    "    result = np.array([\n",
    "        np.where(pred >= np.partition(pred, -n_first)[-n_first], 1, 0)\n",
    "        for pred in np.array([pred[:,1] for pred in preds_proba\n",
    "        ]).transpose()])\n",
    "\n",
    "    return result"
   ]
  },
  {
   "cell_type": "code",
   "execution_count": 35,
   "metadata": {},
   "outputs": [
    {
     "name": "stdout",
     "output_type": "stream",
     "text": [
      "                   KNN_5\n",
      "Jaccard         0.326013\n",
      "Recall          0.539557\n",
      "Inference_time  0.002117\n",
      "Model_size_mb         99\n"
     ]
    }
   ],
   "source": [
    "preds_proba = knn_model.predict_proba(X_test.values)\n",
    "preds_firsts = get_firsts(preds_proba)\n",
    "report.evaluate('KNN_5', knn_model, X_test, y_test, preds_firsts)"
   ]
  },
  {
   "cell_type": "code",
   "execution_count": 36,
   "metadata": {},
   "outputs": [
    {
     "data": {
      "text/html": [
       "<div>\n",
       "<style scoped>\n",
       "    .dataframe tbody tr th:only-of-type {\n",
       "        vertical-align: middle;\n",
       "    }\n",
       "\n",
       "    .dataframe tbody tr th {\n",
       "        vertical-align: top;\n",
       "    }\n",
       "\n",
       "    .dataframe thead th {\n",
       "        text-align: right;\n",
       "    }\n",
       "</style>\n",
       "<table border=\"1\" class=\"dataframe\">\n",
       "  <thead>\n",
       "    <tr style=\"text-align: right;\">\n",
       "      <th></th>\n",
       "      <th>Title_Body_tokens</th>\n",
       "      <th>Tags_tokens</th>\n",
       "      <th>Tags_target</th>\n",
       "      <th>KNN_5</th>\n",
       "    </tr>\n",
       "    <tr>\n",
       "      <th>Id</th>\n",
       "      <th></th>\n",
       "      <th></th>\n",
       "      <th></th>\n",
       "      <th></th>\n",
       "    </tr>\n",
       "  </thead>\n",
       "  <tbody>\n",
       "    <tr>\n",
       "      <th>1475635</th>\n",
       "      <td>pointer,structure,return,pointer,struct,c,mean...</td>\n",
       "      <td>c,pointers,variables,struct,return</td>\n",
       "      <td>pointers,variables,struct,c</td>\n",
       "      <td>(c#, c++, c, arrays, pointers, struct)</td>\n",
       "    </tr>\n",
       "    <tr>\n",
       "      <th>190666</th>\n",
       "      <td>linq,sql,concurrency,issue,build,order,record,...</td>\n",
       "      <td>c#,linq,linq-to-sql,concurrency,transactions</td>\n",
       "      <td>linq,c#,concurrency,linq-to-sql,transactions</td>\n",
       "      <td>(c#, .net, sql, sql-server, linq-to-sql)</td>\n",
       "    </tr>\n",
       "    <tr>\n",
       "      <th>1735000</th>\n",
       "      <td>instrument,display,console,command,line,applic...</td>\n",
       "      <td>c,xcode,debugging,macos,instruments</td>\n",
       "      <td>xcode,macos,debugging,c</td>\n",
       "      <td>(c#, .net, c++, xcode, unix, command-line)</td>\n",
       "    </tr>\n",
       "    <tr>\n",
       "      <th>1662904</th>\n",
       "      <td>qt,setting,part,qt,effort,payback,road,questio...</td>\n",
       "      <td>c++,windows,linux,qt,qt4</td>\n",
       "      <td>linux,c++,qt,windows</td>\n",
       "      <td>(c++, windows, visual-studio, user-interface, ...</td>\n",
       "    </tr>\n",
       "    <tr>\n",
       "      <th>116701</th>\n",
       "      <td>program,background,way,c,program,command,line,...</td>\n",
       "      <td>windows,linux,macos,shell,background</td>\n",
       "      <td>linux,macos,windows,shell</td>\n",
       "      <td>(c++, linux, bash, unix, shell, process)</td>\n",
       "    </tr>\n",
       "  </tbody>\n",
       "</table>\n",
       "</div>"
      ],
      "text/plain": [
       "                                         Title_Body_tokens  \\\n",
       "Id                                                           \n",
       "1475635  pointer,structure,return,pointer,struct,c,mean...   \n",
       "190666   linq,sql,concurrency,issue,build,order,record,...   \n",
       "1735000  instrument,display,console,command,line,applic...   \n",
       "1662904  qt,setting,part,qt,effort,payback,road,questio...   \n",
       "116701   program,background,way,c,program,command,line,...   \n",
       "\n",
       "                                          Tags_tokens  \\\n",
       "Id                                                      \n",
       "1475635            c,pointers,variables,struct,return   \n",
       "190666   c#,linq,linq-to-sql,concurrency,transactions   \n",
       "1735000           c,xcode,debugging,macos,instruments   \n",
       "1662904                      c++,windows,linux,qt,qt4   \n",
       "116701           windows,linux,macos,shell,background   \n",
       "\n",
       "                                          Tags_target  \\\n",
       "Id                                                      \n",
       "1475635                   pointers,variables,struct,c   \n",
       "190666   linq,c#,concurrency,linq-to-sql,transactions   \n",
       "1735000                       xcode,macos,debugging,c   \n",
       "1662904                          linux,c++,qt,windows   \n",
       "116701                      linux,macos,windows,shell   \n",
       "\n",
       "                                                     KNN_5  \n",
       "Id                                                          \n",
       "1475635             (c#, c++, c, arrays, pointers, struct)  \n",
       "190666            (c#, .net, sql, sql-server, linq-to-sql)  \n",
       "1735000         (c#, .net, c++, xcode, unix, command-line)  \n",
       "1662904  (c++, windows, visual-studio, user-interface, ...  \n",
       "116701            (c++, linux, bash, unix, shell, process)  "
      ]
     },
     "execution_count": 36,
     "metadata": {},
     "output_type": "execute_result"
    }
   ],
   "source": [
    "transformer.join_predictions('KNN_5', preds_firsts).head()"
   ]
  },
  {
   "cell_type": "markdown",
   "metadata": {},
   "source": [
    "We observe an *average fill* superior to 1, which is normal, it compares the lenght of the filtered *target tags* to the number of predicted tags, of which we now have 5 for each *document*:"
   ]
  },
  {
   "cell_type": "code",
   "execution_count": 37,
   "metadata": {},
   "outputs": [
    {
     "name": "stdout",
     "output_type": "stream",
     "text": [
      "Ratio of target tags hit: 0.4701\n",
      "Ratio of tags hit: 0.3965\n",
      "Average fill: 1.3878\n"
     ]
    }
   ],
   "source": [
    "report.tags_ratio('KNN_5', transformer.test_df)"
   ]
  },
  {
   "cell_type": "markdown",
   "metadata": {},
   "source": [
    "### Random Forest"
   ]
  },
  {
   "cell_type": "code",
   "execution_count": 38,
   "metadata": {},
   "outputs": [
    {
     "name": "stdout",
     "output_type": "stream",
     "text": [
      "               Random_Forest\n",
      "Jaccard             0.019653\n",
      "Recall               0.01966\n",
      "Inference_time       0.00089\n",
      "Model_size_mb           5035\n"
     ]
    }
   ],
   "source": [
    "rfc_model = RandomForestClassifier()\n",
    "rfc_model.fit(X_train, y_train)\n",
    "preds = rfc_model.predict(X_test)\n",
    "preds_proba = rfc_model.predict_proba(X_test)\n",
    "report.evaluate('Random_Forest', rfc_model, X_test, y_test, preds)"
   ]
  },
  {
   "cell_type": "code",
   "execution_count": 39,
   "metadata": {},
   "outputs": [
    {
     "data": {
      "text/html": [
       "<div>\n",
       "<style scoped>\n",
       "    .dataframe tbody tr th:only-of-type {\n",
       "        vertical-align: middle;\n",
       "    }\n",
       "\n",
       "    .dataframe tbody tr th {\n",
       "        vertical-align: top;\n",
       "    }\n",
       "\n",
       "    .dataframe thead th {\n",
       "        text-align: right;\n",
       "    }\n",
       "</style>\n",
       "<table border=\"1\" class=\"dataframe\">\n",
       "  <thead>\n",
       "    <tr style=\"text-align: right;\">\n",
       "      <th></th>\n",
       "      <th>Title_Body_tokens</th>\n",
       "      <th>Tags_tokens</th>\n",
       "      <th>Tags_target</th>\n",
       "      <th>Random_Forest</th>\n",
       "    </tr>\n",
       "    <tr>\n",
       "      <th>Id</th>\n",
       "      <th></th>\n",
       "      <th></th>\n",
       "      <th></th>\n",
       "      <th></th>\n",
       "    </tr>\n",
       "  </thead>\n",
       "  <tbody>\n",
       "    <tr>\n",
       "      <th>1475635</th>\n",
       "      <td>pointer,structure,return,pointer,struct,c,mean...</td>\n",
       "      <td>c,pointers,variables,struct,return</td>\n",
       "      <td>pointers,variables,struct,c</td>\n",
       "      <td>()</td>\n",
       "    </tr>\n",
       "    <tr>\n",
       "      <th>190666</th>\n",
       "      <td>linq,sql,concurrency,issue,build,order,record,...</td>\n",
       "      <td>c#,linq,linq-to-sql,concurrency,transactions</td>\n",
       "      <td>linq,c#,concurrency,linq-to-sql,transactions</td>\n",
       "      <td>()</td>\n",
       "    </tr>\n",
       "    <tr>\n",
       "      <th>1735000</th>\n",
       "      <td>instrument,display,console,command,line,applic...</td>\n",
       "      <td>c,xcode,debugging,macos,instruments</td>\n",
       "      <td>xcode,macos,debugging,c</td>\n",
       "      <td>()</td>\n",
       "    </tr>\n",
       "    <tr>\n",
       "      <th>1662904</th>\n",
       "      <td>qt,setting,part,qt,effort,payback,road,questio...</td>\n",
       "      <td>c++,windows,linux,qt,qt4</td>\n",
       "      <td>linux,c++,qt,windows</td>\n",
       "      <td>()</td>\n",
       "    </tr>\n",
       "    <tr>\n",
       "      <th>116701</th>\n",
       "      <td>program,background,way,c,program,command,line,...</td>\n",
       "      <td>windows,linux,macos,shell,background</td>\n",
       "      <td>linux,macos,windows,shell</td>\n",
       "      <td>()</td>\n",
       "    </tr>\n",
       "  </tbody>\n",
       "</table>\n",
       "</div>"
      ],
      "text/plain": [
       "                                         Title_Body_tokens  \\\n",
       "Id                                                           \n",
       "1475635  pointer,structure,return,pointer,struct,c,mean...   \n",
       "190666   linq,sql,concurrency,issue,build,order,record,...   \n",
       "1735000  instrument,display,console,command,line,applic...   \n",
       "1662904  qt,setting,part,qt,effort,payback,road,questio...   \n",
       "116701   program,background,way,c,program,command,line,...   \n",
       "\n",
       "                                          Tags_tokens  \\\n",
       "Id                                                      \n",
       "1475635            c,pointers,variables,struct,return   \n",
       "190666   c#,linq,linq-to-sql,concurrency,transactions   \n",
       "1735000           c,xcode,debugging,macos,instruments   \n",
       "1662904                      c++,windows,linux,qt,qt4   \n",
       "116701           windows,linux,macos,shell,background   \n",
       "\n",
       "                                          Tags_target Random_Forest  \n",
       "Id                                                                   \n",
       "1475635                   pointers,variables,struct,c            ()  \n",
       "190666   linq,c#,concurrency,linq-to-sql,transactions            ()  \n",
       "1735000                       xcode,macos,debugging,c            ()  \n",
       "1662904                          linux,c++,qt,windows            ()  \n",
       "116701                      linux,macos,windows,shell            ()  "
      ]
     },
     "execution_count": 39,
     "metadata": {},
     "output_type": "execute_result"
    }
   ],
   "source": [
    "transformer.join_predictions('Random_Forest', preds).head()"
   ]
  },
  {
   "cell_type": "code",
   "execution_count": 40,
   "metadata": {},
   "outputs": [
    {
     "name": "stdout",
     "output_type": "stream",
     "text": [
      "Ratio of target tags hit: 0.0198\n",
      "Ratio of tags hit: 0.0166\n",
      "Average fill: 0.0231\n"
     ]
    }
   ],
   "source": [
    "report.tags_ratio('Random_Forest', transformer.test_df)"
   ]
  },
  {
   "cell_type": "code",
   "execution_count": 41,
   "metadata": {},
   "outputs": [
    {
     "name": "stdout",
     "output_type": "stream",
     "text": [
      "               Random_Forest_5\n",
      "Jaccard               0.266144\n",
      "Recall                0.439738\n",
      "Inference_time        0.000896\n",
      "Model_size_mb             5035\n"
     ]
    }
   ],
   "source": [
    "preds_firsts = get_firsts(preds_proba, 5)\n",
    "report.evaluate('Random_Forest_5', rfc_model, X_test, y_test, preds_firsts)"
   ]
  },
  {
   "cell_type": "code",
   "execution_count": 42,
   "metadata": {},
   "outputs": [
    {
     "data": {
      "text/html": [
       "<div>\n",
       "<style scoped>\n",
       "    .dataframe tbody tr th:only-of-type {\n",
       "        vertical-align: middle;\n",
       "    }\n",
       "\n",
       "    .dataframe tbody tr th {\n",
       "        vertical-align: top;\n",
       "    }\n",
       "\n",
       "    .dataframe thead th {\n",
       "        text-align: right;\n",
       "    }\n",
       "</style>\n",
       "<table border=\"1\" class=\"dataframe\">\n",
       "  <thead>\n",
       "    <tr style=\"text-align: right;\">\n",
       "      <th></th>\n",
       "      <th>Title_Body_tokens</th>\n",
       "      <th>Tags_tokens</th>\n",
       "      <th>Tags_target</th>\n",
       "      <th>Random_Forest_5</th>\n",
       "    </tr>\n",
       "    <tr>\n",
       "      <th>Id</th>\n",
       "      <th></th>\n",
       "      <th></th>\n",
       "      <th></th>\n",
       "      <th></th>\n",
       "    </tr>\n",
       "  </thead>\n",
       "  <tbody>\n",
       "    <tr>\n",
       "      <th>1475635</th>\n",
       "      <td>pointer,structure,return,pointer,struct,c,mean...</td>\n",
       "      <td>c,pointers,variables,struct,return</td>\n",
       "      <td>pointers,variables,struct,c</td>\n",
       "      <td>(c#, .net, c++, c, pointers)</td>\n",
       "    </tr>\n",
       "    <tr>\n",
       "      <th>190666</th>\n",
       "      <td>linq,sql,concurrency,issue,build,order,record,...</td>\n",
       "      <td>c#,linq,linq-to-sql,concurrency,transactions</td>\n",
       "      <td>linq,c#,concurrency,linq-to-sql,transactions</td>\n",
       "      <td>(c#, .net, sql, sql-server, database)</td>\n",
       "    </tr>\n",
       "    <tr>\n",
       "      <th>1735000</th>\n",
       "      <td>instrument,display,console,command,line,applic...</td>\n",
       "      <td>c,xcode,debugging,macos,instruments</td>\n",
       "      <td>xcode,macos,debugging,c</td>\n",
       "      <td>(c#, java, .net, c++, iphone, linux)</td>\n",
       "    </tr>\n",
       "    <tr>\n",
       "      <th>1662904</th>\n",
       "      <td>qt,setting,part,qt,effort,payback,road,questio...</td>\n",
       "      <td>c++,windows,linux,qt,qt4</td>\n",
       "      <td>linux,c++,qt,windows</td>\n",
       "      <td>(c#, java, .net, c++, c)</td>\n",
       "    </tr>\n",
       "    <tr>\n",
       "      <th>116701</th>\n",
       "      <td>program,background,way,c,program,command,line,...</td>\n",
       "      <td>windows,linux,macos,shell,background</td>\n",
       "      <td>linux,macos,windows,shell</td>\n",
       "      <td>(c#, c++, linux, windows, shell)</td>\n",
       "    </tr>\n",
       "  </tbody>\n",
       "</table>\n",
       "</div>"
      ],
      "text/plain": [
       "                                         Title_Body_tokens  \\\n",
       "Id                                                           \n",
       "1475635  pointer,structure,return,pointer,struct,c,mean...   \n",
       "190666   linq,sql,concurrency,issue,build,order,record,...   \n",
       "1735000  instrument,display,console,command,line,applic...   \n",
       "1662904  qt,setting,part,qt,effort,payback,road,questio...   \n",
       "116701   program,background,way,c,program,command,line,...   \n",
       "\n",
       "                                          Tags_tokens  \\\n",
       "Id                                                      \n",
       "1475635            c,pointers,variables,struct,return   \n",
       "190666   c#,linq,linq-to-sql,concurrency,transactions   \n",
       "1735000           c,xcode,debugging,macos,instruments   \n",
       "1662904                      c++,windows,linux,qt,qt4   \n",
       "116701           windows,linux,macos,shell,background   \n",
       "\n",
       "                                          Tags_target  \\\n",
       "Id                                                      \n",
       "1475635                   pointers,variables,struct,c   \n",
       "190666   linq,c#,concurrency,linq-to-sql,transactions   \n",
       "1735000                       xcode,macos,debugging,c   \n",
       "1662904                          linux,c++,qt,windows   \n",
       "116701                      linux,macos,windows,shell   \n",
       "\n",
       "                               Random_Forest_5  \n",
       "Id                                              \n",
       "1475635           (c#, .net, c++, c, pointers)  \n",
       "190666   (c#, .net, sql, sql-server, database)  \n",
       "1735000   (c#, java, .net, c++, iphone, linux)  \n",
       "1662904               (c#, java, .net, c++, c)  \n",
       "116701        (c#, c++, linux, windows, shell)  "
      ]
     },
     "execution_count": 42,
     "metadata": {},
     "output_type": "execute_result"
    }
   ],
   "source": [
    "transformer.join_predictions('Random_Forest_5', preds_firsts).head()"
   ]
  },
  {
   "cell_type": "code",
   "execution_count": 43,
   "metadata": {},
   "outputs": [
    {
     "name": "stdout",
     "output_type": "stream",
     "text": [
      "Ratio of target tags hit: 0.4154\n",
      "Ratio of tags hit: 0.3498\n",
      "Average fill: 1.2608\n"
     ]
    }
   ],
   "source": [
    "preds_df = transformer.test_df\n",
    "report.tags_ratio('Random_Forest_5', transformer.test_df)"
   ]
  },
  {
   "cell_type": "markdown",
   "metadata": {},
   "source": [
    "#### *High-end Random forest*"
   ]
  },
  {
   "cell_type": "markdown",
   "metadata": {},
   "source": [
    "We noticed that the dimensional reduction was highly detrimental to the *RandomForest* performances. We will fit a high performance model in order to show the performances that can be attained but which we won't be able to deploy because of its size. \n",
    "\n",
    "We generate a *dataset* with 250 *tags* and 1250 *features* to train our high-end model:"
   ]
  },
  {
   "cell_type": "code",
   "execution_count": 44,
   "metadata": {},
   "outputs": [
    {
     "name": "stdout",
     "output_type": "stream",
     "text": [
      "Dropped Train samples: 30000\n",
      "Dropped Test samples: 7505\n",
      "Train size: 10000\n",
      "Test size: 2495\n"
     ]
    }
   ],
   "source": [
    "X_train, X_test, y_train, y_test = transformer.gen_train_test(250, 1250, dimensional_red=False)"
   ]
  },
  {
   "cell_type": "code",
   "execution_count": 45,
   "metadata": {},
   "outputs": [
    {
     "name": "stdout",
     "output_type": "stream",
     "text": [
      "               Random_Forest_HE\n",
      "Jaccard                0.233497\n",
      "Recall                 0.245038\n",
      "Inference_time          0.00081\n",
      "Model_size_mb              5084\n"
     ]
    }
   ],
   "source": [
    "rfc_model_he = RandomForestClassifier()\n",
    "rfc_model_he.fit(X_train, y_train)\n",
    "preds = rfc_model_he.predict(X_test)\n",
    "preds_proba = rfc_model_he.predict_proba(X_test)\n",
    "report.evaluate('Random_Forest_HE', rfc_model_he, X_test, y_test, preds)"
   ]
  },
  {
   "cell_type": "code",
   "execution_count": 46,
   "metadata": {},
   "outputs": [
    {
     "data": {
      "text/html": [
       "<div>\n",
       "<style scoped>\n",
       "    .dataframe tbody tr th:only-of-type {\n",
       "        vertical-align: middle;\n",
       "    }\n",
       "\n",
       "    .dataframe tbody tr th {\n",
       "        vertical-align: top;\n",
       "    }\n",
       "\n",
       "    .dataframe thead th {\n",
       "        text-align: right;\n",
       "    }\n",
       "</style>\n",
       "<table border=\"1\" class=\"dataframe\">\n",
       "  <thead>\n",
       "    <tr style=\"text-align: right;\">\n",
       "      <th></th>\n",
       "      <th>Title_Body_tokens</th>\n",
       "      <th>Tags_tokens</th>\n",
       "      <th>Tags_target</th>\n",
       "      <th>Random_Forest_HE</th>\n",
       "    </tr>\n",
       "    <tr>\n",
       "      <th>Id</th>\n",
       "      <th></th>\n",
       "      <th></th>\n",
       "      <th></th>\n",
       "      <th></th>\n",
       "    </tr>\n",
       "  </thead>\n",
       "  <tbody>\n",
       "    <tr>\n",
       "      <th>1475635</th>\n",
       "      <td>pointer,structure,return,pointer,struct,c,mean...</td>\n",
       "      <td>c,pointers,variables,struct,return</td>\n",
       "      <td>pointers,variables,struct,c</td>\n",
       "      <td>(c++, c, pointers)</td>\n",
       "    </tr>\n",
       "    <tr>\n",
       "      <th>190666</th>\n",
       "      <td>linq,sql,concurrency,issue,build,order,record,...</td>\n",
       "      <td>c#,linq,linq-to-sql,concurrency,transactions</td>\n",
       "      <td>linq,c#,concurrency,linq-to-sql,transactions</td>\n",
       "      <td>(c#, linq)</td>\n",
       "    </tr>\n",
       "    <tr>\n",
       "      <th>1735000</th>\n",
       "      <td>instrument,display,console,command,line,applic...</td>\n",
       "      <td>c,xcode,debugging,macos,instruments</td>\n",
       "      <td>xcode,macos,debugging,c</td>\n",
       "      <td>(xcode,)</td>\n",
       "    </tr>\n",
       "    <tr>\n",
       "      <th>1662904</th>\n",
       "      <td>qt,setting,part,qt,effort,payback,road,questio...</td>\n",
       "      <td>c++,windows,linux,qt,qt4</td>\n",
       "      <td>linux,c++,qt,windows</td>\n",
       "      <td>(java,)</td>\n",
       "    </tr>\n",
       "    <tr>\n",
       "      <th>116701</th>\n",
       "      <td>program,background,way,c,program,command,line,...</td>\n",
       "      <td>windows,linux,macos,shell,background</td>\n",
       "      <td>linux,macos,windows,shell</td>\n",
       "      <td>()</td>\n",
       "    </tr>\n",
       "  </tbody>\n",
       "</table>\n",
       "</div>"
      ],
      "text/plain": [
       "                                         Title_Body_tokens  \\\n",
       "Id                                                           \n",
       "1475635  pointer,structure,return,pointer,struct,c,mean...   \n",
       "190666   linq,sql,concurrency,issue,build,order,record,...   \n",
       "1735000  instrument,display,console,command,line,applic...   \n",
       "1662904  qt,setting,part,qt,effort,payback,road,questio...   \n",
       "116701   program,background,way,c,program,command,line,...   \n",
       "\n",
       "                                          Tags_tokens  \\\n",
       "Id                                                      \n",
       "1475635            c,pointers,variables,struct,return   \n",
       "190666   c#,linq,linq-to-sql,concurrency,transactions   \n",
       "1735000           c,xcode,debugging,macos,instruments   \n",
       "1662904                      c++,windows,linux,qt,qt4   \n",
       "116701           windows,linux,macos,shell,background   \n",
       "\n",
       "                                          Tags_target    Random_Forest_HE  \n",
       "Id                                                                         \n",
       "1475635                   pointers,variables,struct,c  (c++, c, pointers)  \n",
       "190666   linq,c#,concurrency,linq-to-sql,transactions          (c#, linq)  \n",
       "1735000                       xcode,macos,debugging,c            (xcode,)  \n",
       "1662904                          linux,c++,qt,windows             (java,)  \n",
       "116701                      linux,macos,windows,shell                  ()  "
      ]
     },
     "execution_count": 46,
     "metadata": {},
     "output_type": "execute_result"
    }
   ],
   "source": [
    "transformer.join_predictions('Random_Forest_HE', preds).head()"
   ]
  },
  {
   "cell_type": "code",
   "execution_count": 47,
   "metadata": {},
   "outputs": [
    {
     "name": "stdout",
     "output_type": "stream",
     "text": [
      "Ratio of target tags hit: 0.2458\n",
      "Ratio of tags hit: 0.2068\n",
      "Average fill: 0.3097\n"
     ]
    }
   ],
   "source": [
    "report.tags_ratio('Random_Forest_HE', transformer.test_df)"
   ]
  },
  {
   "cell_type": "code",
   "execution_count": 48,
   "metadata": {},
   "outputs": [
    {
     "name": "stdout",
     "output_type": "stream",
     "text": [
      "               Random_Forest_HE_5\n",
      "Jaccard                  0.392446\n",
      "Recall                    0.58885\n",
      "Inference_time           0.001118\n",
      "Model_size_mb                5084\n"
     ]
    }
   ],
   "source": [
    "preds_firsts = get_firsts(preds_proba, 5)\n",
    "report.evaluate('Random_Forest_HE_5', rfc_model_he, X_test, y_test, preds_firsts)"
   ]
  },
  {
   "cell_type": "code",
   "execution_count": 49,
   "metadata": {},
   "outputs": [
    {
     "data": {
      "text/html": [
       "<div>\n",
       "<style scoped>\n",
       "    .dataframe tbody tr th:only-of-type {\n",
       "        vertical-align: middle;\n",
       "    }\n",
       "\n",
       "    .dataframe tbody tr th {\n",
       "        vertical-align: top;\n",
       "    }\n",
       "\n",
       "    .dataframe thead th {\n",
       "        text-align: right;\n",
       "    }\n",
       "</style>\n",
       "<table border=\"1\" class=\"dataframe\">\n",
       "  <thead>\n",
       "    <tr style=\"text-align: right;\">\n",
       "      <th></th>\n",
       "      <th>Title_Body_tokens</th>\n",
       "      <th>Tags_tokens</th>\n",
       "      <th>Tags_target</th>\n",
       "      <th>Random_Forest_HE_5</th>\n",
       "    </tr>\n",
       "    <tr>\n",
       "      <th>Id</th>\n",
       "      <th></th>\n",
       "      <th></th>\n",
       "      <th></th>\n",
       "      <th></th>\n",
       "    </tr>\n",
       "  </thead>\n",
       "  <tbody>\n",
       "    <tr>\n",
       "      <th>1475635</th>\n",
       "      <td>pointer,structure,return,pointer,struct,c,mean...</td>\n",
       "      <td>c,pointers,variables,struct,return</td>\n",
       "      <td>pointers,variables,struct,c</td>\n",
       "      <td>(c#, c++, c, pointers, struct)</td>\n",
       "    </tr>\n",
       "    <tr>\n",
       "      <th>190666</th>\n",
       "      <td>linq,sql,concurrency,issue,build,order,record,...</td>\n",
       "      <td>c#,linq,linq-to-sql,concurrency,transactions</td>\n",
       "      <td>linq,c#,concurrency,linq-to-sql,transactions</td>\n",
       "      <td>(c#, sql, sql-server, linq, linq-to-sql)</td>\n",
       "    </tr>\n",
       "    <tr>\n",
       "      <th>1735000</th>\n",
       "      <td>instrument,display,console,command,line,applic...</td>\n",
       "      <td>c,xcode,debugging,macos,instruments</td>\n",
       "      <td>xcode,macos,debugging,c</td>\n",
       "      <td>(iphone, objective-c, macos, xcode, debugging)</td>\n",
       "    </tr>\n",
       "    <tr>\n",
       "      <th>1662904</th>\n",
       "      <td>qt,setting,part,qt,effort,payback,road,questio...</td>\n",
       "      <td>c++,windows,linux,qt,qt4</td>\n",
       "      <td>linux,c++,qt,windows</td>\n",
       "      <td>(c#, java, .net, c++, qt)</td>\n",
       "    </tr>\n",
       "    <tr>\n",
       "      <th>116701</th>\n",
       "      <td>program,background,way,c,program,command,line,...</td>\n",
       "      <td>windows,linux,macos,shell,background</td>\n",
       "      <td>linux,macos,windows,shell</td>\n",
       "      <td>(c++, linux, windows, unix, shell)</td>\n",
       "    </tr>\n",
       "  </tbody>\n",
       "</table>\n",
       "</div>"
      ],
      "text/plain": [
       "                                         Title_Body_tokens  \\\n",
       "Id                                                           \n",
       "1475635  pointer,structure,return,pointer,struct,c,mean...   \n",
       "190666   linq,sql,concurrency,issue,build,order,record,...   \n",
       "1735000  instrument,display,console,command,line,applic...   \n",
       "1662904  qt,setting,part,qt,effort,payback,road,questio...   \n",
       "116701   program,background,way,c,program,command,line,...   \n",
       "\n",
       "                                          Tags_tokens  \\\n",
       "Id                                                      \n",
       "1475635            c,pointers,variables,struct,return   \n",
       "190666   c#,linq,linq-to-sql,concurrency,transactions   \n",
       "1735000           c,xcode,debugging,macos,instruments   \n",
       "1662904                      c++,windows,linux,qt,qt4   \n",
       "116701           windows,linux,macos,shell,background   \n",
       "\n",
       "                                          Tags_target  \\\n",
       "Id                                                      \n",
       "1475635                   pointers,variables,struct,c   \n",
       "190666   linq,c#,concurrency,linq-to-sql,transactions   \n",
       "1735000                       xcode,macos,debugging,c   \n",
       "1662904                          linux,c++,qt,windows   \n",
       "116701                      linux,macos,windows,shell   \n",
       "\n",
       "                                     Random_Forest_HE_5  \n",
       "Id                                                       \n",
       "1475635                  (c#, c++, c, pointers, struct)  \n",
       "190666         (c#, sql, sql-server, linq, linq-to-sql)  \n",
       "1735000  (iphone, objective-c, macos, xcode, debugging)  \n",
       "1662904                       (c#, java, .net, c++, qt)  \n",
       "116701               (c++, linux, windows, unix, shell)  "
      ]
     },
     "execution_count": 49,
     "metadata": {},
     "output_type": "execute_result"
    }
   ],
   "source": [
    "transformer.join_predictions('Random_Forest_HE_5', preds_firsts).head()"
   ]
  },
  {
   "cell_type": "markdown",
   "metadata": {},
   "source": [
    "Thanks to this algorithm, we manage to predict close to 60% of the *filtered tags* and 50% of the *actual tags*."
   ]
  },
  {
   "cell_type": "code",
   "execution_count": 50,
   "metadata": {},
   "outputs": [
    {
     "name": "stdout",
     "output_type": "stream",
     "text": [
      "Ratio of target tags hit: 0.5747\n",
      "Ratio of tags hit: 0.4842\n",
      "Average fill: 1.2276\n"
     ]
    }
   ],
   "source": [
    "report.tags_ratio('Random_Forest_HE_5', transformer.test_df)"
   ]
  },
  {
   "cell_type": "markdown",
   "metadata": {},
   "source": [
    "# Exploring the results"
   ]
  },
  {
   "cell_type": "code",
   "execution_count": 51,
   "metadata": {},
   "outputs": [
    {
     "data": {
      "text/html": [
       "<div>\n",
       "<style scoped>\n",
       "    .dataframe tbody tr th:only-of-type {\n",
       "        vertical-align: middle;\n",
       "    }\n",
       "\n",
       "    .dataframe tbody tr th {\n",
       "        vertical-align: top;\n",
       "    }\n",
       "\n",
       "    .dataframe thead th {\n",
       "        text-align: right;\n",
       "    }\n",
       "</style>\n",
       "<table border=\"1\" class=\"dataframe\">\n",
       "  <thead>\n",
       "    <tr style=\"text-align: right;\">\n",
       "      <th></th>\n",
       "      <th>Jaccard</th>\n",
       "      <th>Recall</th>\n",
       "      <th>Inference_time</th>\n",
       "      <th>Model_size_mb</th>\n",
       "      <th>Targets_hit</th>\n",
       "      <th>Tags_hit</th>\n",
       "      <th>Fill</th>\n",
       "    </tr>\n",
       "  </thead>\n",
       "  <tbody>\n",
       "    <tr>\n",
       "      <th>LDA</th>\n",
       "      <td>NaN</td>\n",
       "      <td>NaN</td>\n",
       "      <td>NaN</td>\n",
       "      <td>NaN</td>\n",
       "      <td>0.163046</td>\n",
       "      <td>0.138036</td>\n",
       "      <td>1.184823</td>\n",
       "    </tr>\n",
       "    <tr>\n",
       "      <th>LogR</th>\n",
       "      <td>0.250785</td>\n",
       "      <td>0.269066</td>\n",
       "      <td>0.000374</td>\n",
       "      <td>2</td>\n",
       "      <td>0.269259</td>\n",
       "      <td>0.226934</td>\n",
       "      <td>0.343337</td>\n",
       "    </tr>\n",
       "    <tr>\n",
       "      <th>SVM</th>\n",
       "      <td>0.367397</td>\n",
       "      <td>0.41134</td>\n",
       "      <td>0.000377</td>\n",
       "      <td>2</td>\n",
       "      <td>0.410421</td>\n",
       "      <td>0.345651</td>\n",
       "      <td>0.561497</td>\n",
       "    </tr>\n",
       "    <tr>\n",
       "      <th>SGD</th>\n",
       "      <td>0.361315</td>\n",
       "      <td>0.409726</td>\n",
       "      <td>0.000395</td>\n",
       "      <td>2</td>\n",
       "      <td>0.407896</td>\n",
       "      <td>0.343246</td>\n",
       "      <td>0.574129</td>\n",
       "    </tr>\n",
       "    <tr>\n",
       "      <th>KNN</th>\n",
       "      <td>0.146033</td>\n",
       "      <td>0.152151</td>\n",
       "      <td>0.002111</td>\n",
       "      <td>99</td>\n",
       "      <td>0.152265</td>\n",
       "      <td>0.128417</td>\n",
       "      <td>0.199734</td>\n",
       "    </tr>\n",
       "    <tr>\n",
       "      <th>KNN_5</th>\n",
       "      <td>0.326013</td>\n",
       "      <td>0.539557</td>\n",
       "      <td>0.002117</td>\n",
       "      <td>99</td>\n",
       "      <td>0.47012</td>\n",
       "      <td>0.396473</td>\n",
       "      <td>1.387786</td>\n",
       "    </tr>\n",
       "    <tr>\n",
       "      <th>Random_Forest</th>\n",
       "      <td>0.019653</td>\n",
       "      <td>0.01966</td>\n",
       "      <td>0.00089</td>\n",
       "      <td>5035</td>\n",
       "      <td>0.01982</td>\n",
       "      <td>0.016593</td>\n",
       "      <td>0.023079</td>\n",
       "    </tr>\n",
       "    <tr>\n",
       "      <th>Random_Forest_5</th>\n",
       "      <td>0.266144</td>\n",
       "      <td>0.439738</td>\n",
       "      <td>0.000896</td>\n",
       "      <td>5035</td>\n",
       "      <td>0.415351</td>\n",
       "      <td>0.34982</td>\n",
       "      <td>1.260803</td>\n",
       "    </tr>\n",
       "    <tr>\n",
       "      <th>Random_Forest_HE</th>\n",
       "      <td>0.233497</td>\n",
       "      <td>0.245038</td>\n",
       "      <td>0.00081</td>\n",
       "      <td>5084</td>\n",
       "      <td>0.245832</td>\n",
       "      <td>0.206814</td>\n",
       "      <td>0.309716</td>\n",
       "    </tr>\n",
       "    <tr>\n",
       "      <th>Random_Forest_HE_5</th>\n",
       "      <td>0.392446</td>\n",
       "      <td>0.58885</td>\n",
       "      <td>0.001118</td>\n",
       "      <td>5084</td>\n",
       "      <td>0.574689</td>\n",
       "      <td>0.484168</td>\n",
       "      <td>1.227562</td>\n",
       "    </tr>\n",
       "  </tbody>\n",
       "</table>\n",
       "</div>"
      ],
      "text/plain": [
       "                     Jaccard    Recall Inference_time Model_size_mb  \\\n",
       "LDA                      NaN       NaN            NaN           NaN   \n",
       "LogR                0.250785  0.269066       0.000374             2   \n",
       "SVM                 0.367397   0.41134       0.000377             2   \n",
       "SGD                 0.361315  0.409726       0.000395             2   \n",
       "KNN                 0.146033  0.152151       0.002111            99   \n",
       "KNN_5               0.326013  0.539557       0.002117            99   \n",
       "Random_Forest       0.019653   0.01966        0.00089          5035   \n",
       "Random_Forest_5     0.266144  0.439738       0.000896          5035   \n",
       "Random_Forest_HE    0.233497  0.245038        0.00081          5084   \n",
       "Random_Forest_HE_5  0.392446   0.58885       0.001118          5084   \n",
       "\n",
       "                   Targets_hit  Tags_hit      Fill  \n",
       "LDA                   0.163046  0.138036  1.184823  \n",
       "LogR                  0.269259  0.226934  0.343337  \n",
       "SVM                   0.410421  0.345651  0.561497  \n",
       "SGD                   0.407896  0.343246  0.574129  \n",
       "KNN                   0.152265  0.128417  0.199734  \n",
       "KNN_5                  0.47012  0.396473  1.387786  \n",
       "Random_Forest          0.01982  0.016593  0.023079  \n",
       "Random_Forest_5       0.415351   0.34982  1.260803  \n",
       "Random_Forest_HE      0.245832  0.206814  0.309716  \n",
       "Random_Forest_HE_5    0.574689  0.484168  1.227562  "
      ]
     },
     "execution_count": 51,
     "metadata": {},
     "output_type": "execute_result"
    }
   ],
   "source": [
    "report.clean_files()\n",
    "report.get()"
   ]
  },
  {
   "cell_type": "markdown",
   "metadata": {},
   "source": [
    "The *KNN_select* model offers a good performance, a good *recall* score, while remaining of light size, for these reasons we are going to implement this model in our *API*.\n",
    "\n",
    "The following cell, when executed, pulls a random *sample* from the dataset to explore the behavior of the *KNN_select* (the *supervised tags*, compared to the *LDA unsupervised tags*):"
   ]
  },
  {
   "cell_type": "code",
   "execution_count": 52,
   "metadata": {},
   "outputs": [
    {
     "name": "stdout",
     "output_type": "stream",
     "text": [
      "\n",
      "    Title raw: How to prevent a globally overridden \"new\" operator from being linked in from external library\n",
      "\n",
      "\n",
      "    Body tokens: ['iphone', 'xcode', 'project', 'c++', 'library', 'libblue.a', 'libgreen.a', 'operator', 'memory', 'management', 'project', 'libgreen.a', 'libblue', 'operator', 'result', 'crash', 'libblue.a', 'assumption', 'kind', 'structure', 'libgreen.a', 'party', 'change', 'source', 'code', 'build', 'option', 'project', 'libgreen.a', 'issue', 'amount', 'order', 'library', 'fix', 'problem', 'experimentation', 'flag', 'way', 'tell', 'xcode', 'tell', 'linker', 'libgreen', 'use', 'operator', 'standard', 'operator', 'one', 'libblue']\n",
      "\n",
      "\n",
      "    Tags tokens: ['c++', 'iphone', 'xcode', 'linker', 'new-operator']\n",
      "\n",
      "\n",
      "    Supervised tags tokens: ('.net', 'c++', 'javascript', 'iphone', 'c', 'sql', 'xcode')\n",
      "\n",
      "\n",
      "    Unsupervised tags tokens: ['boost', 'linker', 'build', 'c++', 'file']\n"
     ]
    }
   ],
   "source": [
    "sample = preds_df.sample(1)\n",
    "print(f\"\"\"\n",
    "    Title raw: {sample['Title'].values[0]}\\n\\n\n",
    "    Body tokens: {sample['Body_tokens'].values[0].split(',')}\\n\\n\n",
    "    Tags tokens: {sample['Tags_tokens'].values[0].split(',')}\\n\\n\n",
    "    Supervised tags tokens: {sample['KNN_5'].values[0]}\\n\\n\n",
    "    Unsupervised tags tokens: {sample['LDA'].values[0]}\"\"\")"
   ]
  },
  {
   "cell_type": "markdown",
   "metadata": {},
   "source": [
    "We can observe that the *LDA* model mainly pulls generic terms from the *document*, which is not, in our case, a wanted behavior. The *KNN_select* predictions seem way more pertinent."
   ]
  },
  {
   "cell_type": "markdown",
   "metadata": {},
   "source": [
    "# Saving files"
   ]
  },
  {
   "cell_type": "markdown",
   "metadata": {},
   "source": [
    "*For further use*"
   ]
  },
  {
   "cell_type": "code",
   "execution_count": 53,
   "metadata": {},
   "outputs": [
    {
     "data": {
      "text/plain": [
       "['./P5_03_api_code/model.joblib']"
      ]
     },
     "execution_count": 53,
     "metadata": {},
     "output_type": "execute_result"
    }
   ],
   "source": [
    "dump(transformer.multi_label_binarizer, './P5_03_api_code/multi_label_binarizer.joblib')\n",
    "dump(transformer.tfid_vectorizer, './P5_03_api_code/tfid_vectorizer.joblib')\n",
    "dump(transformer.truncated_svd, './P5_03_api_code/truncated_svd.joblib')\n",
    "dump(knn_model, './P5_03_api_code/model.joblib')"
   ]
  },
  {
   "cell_type": "markdown",
   "metadata": {},
   "source": [
    "# Conclusion"
   ]
  },
  {
   "cell_type": "markdown",
   "metadata": {},
   "source": [
    "We have succesfully transformed the data in order to train models to suggest *tags* for *StackOverflow* questions.\n",
    "\n",
    "We have selected a model to deploy to an *API endpoint*.\n",
    "\n",
    "The model is far from being the best as we were limited in terms of runtime and processing power. In order to obtain a working prototype, we have greatly reduced the data dimensionality.\n",
    "\n",
    "Of course, several enhancements can be suggested:\n",
    "* The use of more *training data*,\n",
    "* A more advance *data preprocessing* with the creation of a handmade *dictionary*,\n",
    "* The use of a *neuronet*.\n",
    "\n",
    "*Thank you for readng this project,*\n",
    "\n",
    "*Thibaud GROSJEAN*\n"
   ]
  }
 ],
 "metadata": {
  "interpreter": {
   "hash": "73bc5c77dda7f65b49ca8fa5fe9724c28e04e6082e3fc65fbc471f9985772223"
  },
  "kernelspec": {
   "display_name": "Python 3.9.10 ('P5')",
   "language": "python",
   "name": "python3"
  },
  "language_info": {
   "codemirror_mode": {
    "name": "ipython",
    "version": 3
   },
   "file_extension": ".py",
   "mimetype": "text/x-python",
   "name": "python",
   "nbconvert_exporter": "python",
   "pygments_lexer": "ipython3",
   "version": "3.9.10"
  },
  "orig_nbformat": 4
 },
 "nbformat": 4,
 "nbformat_minor": 2
}

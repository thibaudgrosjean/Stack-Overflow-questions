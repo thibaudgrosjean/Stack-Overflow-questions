{
 "cells": [
  {
   "cell_type": "markdown",
   "metadata": {},
   "source": [
    "# Introduction"
   ]
  },
  {
   "cell_type": "markdown",
   "metadata": {},
   "source": [
    "In this project, we will implement a tags recommendation system for *StackOverflow* questions.\\\n",
    "*StackOverflow* is a reknown platform for questions and answers about programmation.\n",
    "* In the first notebook, we will extract the required data using the *StackExchange data explorer* tool, and explore the data.\n",
    "* In the second notebook, we will implement various *machine learning algorithms* and select the suitable inference model to deploy an *API endpoint*."
   ]
  },
  {
   "cell_type": "markdown",
   "metadata": {},
   "source": [
    "# Environment"
   ]
  },
  {
   "cell_type": "code",
   "execution_count": 299,
   "metadata": {},
   "outputs": [],
   "source": [
    "import pandas as pd\n",
    "import numpy as np\n",
    "from nltk.probability import FreqDist\n",
    "from IPython.display import Image\n",
    "import plotly.graph_objects as go\n",
    "from plotly.subplots import make_subplots\n",
    "from sklearn.feature_extraction.text import CountVectorizer, TfidfVectorizer\n",
    "from sklearn.metrics import recall_score,  hamming_loss, jaccard_score\n",
    "from sklearn.preprocessing import MultiLabelBinarizer\n",
    "from sklearn.model_selection import train_test_split\n",
    "from sklearn.multiclass import OneVsRestClassifier\n",
    "from sklearn.svm import LinearSVC\n",
    "from sklearn.neighbors import KNeighborsClassifier\n",
    "from sklearn.ensemble import RandomForestClassifier\n",
    "from sklearn.linear_model import SGDClassifier\n",
    "from sklearn.decomposition import PCA\n",
    "from DataGT.PCA import display_scree_plot\n",
    "from sklearn.linear_model import LogisticRegression\n",
    "from sklearn.decomposition import TruncatedSVD\n",
    "import gensim\n",
    "from gensim import corpora\n",
    "from gensim.models.ldamulticore import LdaMulticore\n",
    "from gensim.models import TfidfModel\n",
    "import pyLDAvis.gensim_models\n",
    "from gensim.models import CoherenceModel\n",
    "from imp import reload\n",
    "from xgboost import XGBClassifier\n",
    "from ttictoc import tic, toc\n",
    "from joblib import dump"
   ]
  },
  {
   "cell_type": "code",
   "execution_count": 300,
   "metadata": {},
   "outputs": [
    {
     "data": {
      "text/html": [
       "<div>\n",
       "<style scoped>\n",
       "    .dataframe tbody tr th:only-of-type {\n",
       "        vertical-align: middle;\n",
       "    }\n",
       "\n",
       "    .dataframe tbody tr th {\n",
       "        vertical-align: top;\n",
       "    }\n",
       "\n",
       "    .dataframe thead th {\n",
       "        text-align: right;\n",
       "    }\n",
       "</style>\n",
       "<table border=\"1\" class=\"dataframe\">\n",
       "  <thead>\n",
       "    <tr style=\"text-align: right;\">\n",
       "      <th></th>\n",
       "      <th>Title</th>\n",
       "      <th>Body</th>\n",
       "      <th>Tags</th>\n",
       "      <th>Body_tokens</th>\n",
       "      <th>Title_tokens</th>\n",
       "      <th>Tags_tokens</th>\n",
       "      <th>Title_Body_tokens</th>\n",
       "    </tr>\n",
       "    <tr>\n",
       "      <th>Id</th>\n",
       "      <th></th>\n",
       "      <th></th>\n",
       "      <th></th>\n",
       "      <th></th>\n",
       "      <th></th>\n",
       "      <th></th>\n",
       "      <th></th>\n",
       "    </tr>\n",
       "  </thead>\n",
       "  <tbody>\n",
       "    <tr>\n",
       "      <th>4</th>\n",
       "      <td>How to convert a Decimal to a Double in C#?</td>\n",
       "      <td>&lt;p&gt;I want to use a &lt;code&gt;Track-Bar&lt;/code&gt; to c...</td>\n",
       "      <td>&lt;c#&gt;&lt;floating-point&gt;&lt;type-conversion&gt;&lt;double&gt;&lt;...</td>\n",
       "      <td>use,change,opacity,code,application,error,work...</td>\n",
       "      <td>convert</td>\n",
       "      <td>c#,floating-point,type-conversion,double,decimal</td>\n",
       "      <td>convert,use,change,opacity,code,application,er...</td>\n",
       "    </tr>\n",
       "    <tr>\n",
       "      <th>11</th>\n",
       "      <td>Calculate relative time in C#</td>\n",
       "      <td>&lt;p&gt;Given a specific &lt;code&gt;DateTime&lt;/code&gt; valu...</td>\n",
       "      <td>&lt;c#&gt;&lt;datetime&gt;&lt;time&gt;&lt;datediff&gt;&lt;relative-time-s...</td>\n",
       "      <td>value,display,time,hour,day,month</td>\n",
       "      <td>calculate,time</td>\n",
       "      <td>c#,datetime,time,datediff,relative-time-span</td>\n",
       "      <td>calculate,time,value,display,time,hour,day,month</td>\n",
       "    </tr>\n",
       "    <tr>\n",
       "      <th>13</th>\n",
       "      <td>Determine a user's timezone</td>\n",
       "      <td>&lt;p&gt;Is there a standard way for a web server to...</td>\n",
       "      <td>&lt;html&gt;&lt;browser&gt;&lt;timezone&gt;&lt;user-agent&gt;&lt;timezone...</td>\n",
       "      <td>way,web,server,determine,user,timezone,page,he...</td>\n",
       "      <td>determine,user,timezone</td>\n",
       "      <td>html,browser,timezone,user-agent,timezone-offset</td>\n",
       "      <td>determine,user,timezone,way,web,server,determi...</td>\n",
       "    </tr>\n",
       "    <tr>\n",
       "      <th>19</th>\n",
       "      <td>What is the fastest way to get the value of π?</td>\n",
       "      <td>&lt;p&gt;I'm looking for the fastest way to obtain t...</td>\n",
       "      <td>&lt;performance&gt;&lt;algorithm&gt;&lt;language-agnostic&gt;&lt;un...</td>\n",
       "      <td>way,obtain,value,π,challenge,way,involve,const...</td>\n",
       "      <td>way,get,value,π</td>\n",
       "      <td>performance,algorithm,language-agnostic,unix,pi</td>\n",
       "      <td>way,get,value,π,way,obtain,value,π,challenge,w...</td>\n",
       "    </tr>\n",
       "    <tr>\n",
       "      <th>25</th>\n",
       "      <td>How to use the C socket API in C++ on z/OS</td>\n",
       "      <td>&lt;p&gt;I'm having issues getting the C sockets API...</td>\n",
       "      <td>&lt;c++&gt;&lt;c&gt;&lt;sockets&gt;&lt;mainframe&gt;&lt;zos&gt;</td>\n",
       "      <td>issue,socket,work,c++,z/os,get,time,error,some...</td>\n",
       "      <td>use,c,socket,api,c++,z/os</td>\n",
       "      <td>c++,c,sockets,mainframe,zos</td>\n",
       "      <td>use,c,socket,api,c++,z/os,issue,socket,work,c+...</td>\n",
       "    </tr>\n",
       "  </tbody>\n",
       "</table>\n",
       "</div>"
      ],
      "text/plain": [
       "                                             Title  \\\n",
       "Id                                                   \n",
       "4      How to convert a Decimal to a Double in C#?   \n",
       "11                   Calculate relative time in C#   \n",
       "13                     Determine a user's timezone   \n",
       "19  What is the fastest way to get the value of π?   \n",
       "25      How to use the C socket API in C++ on z/OS   \n",
       "\n",
       "                                                 Body  \\\n",
       "Id                                                      \n",
       "4   <p>I want to use a <code>Track-Bar</code> to c...   \n",
       "11  <p>Given a specific <code>DateTime</code> valu...   \n",
       "13  <p>Is there a standard way for a web server to...   \n",
       "19  <p>I'm looking for the fastest way to obtain t...   \n",
       "25  <p>I'm having issues getting the C sockets API...   \n",
       "\n",
       "                                                 Tags  \\\n",
       "Id                                                      \n",
       "4   <c#><floating-point><type-conversion><double><...   \n",
       "11  <c#><datetime><time><datediff><relative-time-s...   \n",
       "13  <html><browser><timezone><user-agent><timezone...   \n",
       "19  <performance><algorithm><language-agnostic><un...   \n",
       "25                  <c++><c><sockets><mainframe><zos>   \n",
       "\n",
       "                                          Body_tokens  \\\n",
       "Id                                                      \n",
       "4   use,change,opacity,code,application,error,work...   \n",
       "11                  value,display,time,hour,day,month   \n",
       "13  way,web,server,determine,user,timezone,page,he...   \n",
       "19  way,obtain,value,π,challenge,way,involve,const...   \n",
       "25  issue,socket,work,c++,z/os,get,time,error,some...   \n",
       "\n",
       "                 Title_tokens  \\\n",
       "Id                              \n",
       "4                     convert   \n",
       "11             calculate,time   \n",
       "13    determine,user,timezone   \n",
       "19            way,get,value,π   \n",
       "25  use,c,socket,api,c++,z/os   \n",
       "\n",
       "                                         Tags_tokens  \\\n",
       "Id                                                     \n",
       "4   c#,floating-point,type-conversion,double,decimal   \n",
       "11      c#,datetime,time,datediff,relative-time-span   \n",
       "13  html,browser,timezone,user-agent,timezone-offset   \n",
       "19   performance,algorithm,language-agnostic,unix,pi   \n",
       "25                       c++,c,sockets,mainframe,zos   \n",
       "\n",
       "                                    Title_Body_tokens  \n",
       "Id                                                     \n",
       "4   convert,use,change,opacity,code,application,er...  \n",
       "11   calculate,time,value,display,time,hour,day,month  \n",
       "13  determine,user,timezone,way,web,server,determi...  \n",
       "19  way,get,value,π,way,obtain,value,π,challenge,w...  \n",
       "25  use,c,socket,api,c++,z/os,issue,socket,work,c+...  "
      ]
     },
     "execution_count": 300,
     "metadata": {},
     "output_type": "execute_result"
    }
   ],
   "source": [
    "df = pd.read_csv('./data/df.csv', index_col=0)\n",
    "\n",
    "df.head()"
   ]
  },
  {
   "cell_type": "markdown",
   "metadata": {},
   "source": [
    "# Preprocessing"
   ]
  },
  {
   "cell_type": "markdown",
   "metadata": {},
   "source": [
    "In order to pass our data to the various models, we need to process it and transform it into numerical features.\n",
    "* First, we apply a split to generate a *traning* and a *test set*. The transformers will be fit on the training data to transform the test data, thus avoiding *data leakage*.\n",
    "* In order to limit dimensionality, we detect the terms with the highest frequencies on the train set and keep the corresponding terms in the test set. We apply this methodology for both the question *content* and *tags*.\n",
    "* We filter the *corpus* in order to keep the documents that have at least 3 *top tags* to improve the performance of the models.\n",
    "* We vectorize the *content* using a *TfidVectorizer*.\n",
    "* We vectorize the *tags* using a *MultiLabelBinarizer*.\n",
    "* In order to further reduce dimentionality, we apply a *TruncatedSVD* on the question *content* vectors.\n",
    "\n",
    "The following schema sums up the applied transformations:"
   ]
  },
  {
   "cell_type": "code",
   "execution_count": 301,
   "metadata": {},
   "outputs": [
    {
     "data": {
      "image/png": "[encoded data removed]",
      "text/plain": [
       "<IPython.core.display.Image object>"
      ]
     },
     "execution_count": 301,
     "metadata": {},
     "output_type": "execute_result"
    }
   ],
   "source": [
    "Image(filename='./assets/processing.png')"
   ]
  },
  {
   "cell_type": "code",
   "execution_count": 302,
   "metadata": {},
   "outputs": [],
   "source": [
    "def gen_frequencies(series):\n",
    "\n",
    "    dist = FreqDist(','.join(series).split(','))\n",
    "\n",
    "    return dist"
   ]
  },
  {
   "cell_type": "markdown",
   "metadata": {},
   "source": [
    "We create a function to extract the top terms from the frequencies dictionary:"
   ]
  },
  {
   "cell_type": "code",
   "execution_count": 303,
   "metadata": {},
   "outputs": [],
   "source": [
    "def extract_top(frequencies:dict, n_top:int):\n",
    "\n",
    "    top_values = pd.DataFrame(\n",
    "        {'Tag':frequencies.keys(), 'Frequency':frequencies.values()}\n",
    "        ).sort_values('Frequency', ascending=False).head(n_top)['Tag'].values\n",
    "    \n",
    "    return top_values"
   ]
  },
  {
   "cell_type": "markdown",
   "metadata": {},
   "source": [
    "We create a function to keep only the top terms for each value of a *series*:"
   ]
  },
  {
   "cell_type": "code",
   "execution_count": 304,
   "metadata": {},
   "outputs": [],
   "source": [
    "def keep_top(series:pd.Series, top_values:list):\n",
    "    \n",
    "    series = series.apply(lambda cell: list(set(cell.split(',')).intersection(top_values)))\n",
    "\n",
    "    return series"
   ]
  },
  {
   "cell_type": "markdown",
   "metadata": {},
   "source": [
    "We develop a *python class* to:\n",
    "* Fit the transformers,\n",
    "* Transform the dataset,\n",
    "* Transform the predictions of the models back into human readable format.\n",
    "\n",
    "We dispose of a limited processing power and choose to generate a *X set* with 600 features reduced to 350, and a *y set* 200 *tags*:"
   ]
  },
  {
   "cell_type": "code",
   "execution_count": 305,
   "metadata": {},
   "outputs": [
    {
     "name": "stdout",
     "output_type": "stream",
     "text": [
      "Dropped Train samples: 30000\n",
      "Dropped Test samples: 7505\n",
      "TruncatedSVD explained variance ratio: 0.96\n",
      "Train size: 10000\n",
      "Test size: 2495\n"
     ]
    }
   ],
   "source": [
    "class DatasetTransformer():\n",
    "\n",
    "    def __init__(self, df:pd.DataFrame, X:str, y:str):\n",
    "\n",
    "        self.dataset = df\n",
    "        self.X = X\n",
    "        self.y = y\n",
    "        self.X_values = df[X]\n",
    "        self.y_values = df[y]\n",
    "        self.test_df = None\n",
    "        self.multi_label_binarizer = None\n",
    "        self.tfid_vectorizer = None\n",
    "        self.truncated_svd = None\n",
    "    \n",
    "    def gen_train_test(self, top_tags, max_features, n_components):\n",
    "        \n",
    "        # Apply a train test split on the data\n",
    "        X_train, X_test, y_train, y_test = train_test_split(\n",
    "            self.X_values,\n",
    "            self.y_values,\n",
    "            test_size=0.2,\n",
    "            random_state=42)\n",
    "        \n",
    "        # y processing\n",
    "\n",
    "        # Calculate the tags frequencies\n",
    "        y_frequencies = gen_frequencies(y_train)\n",
    "        # Extract the top tags\n",
    "        self.top_tags = extract_top(y_frequencies, top_tags)\n",
    "        # Keep only the top tags from the target\n",
    "        y_train = keep_top(y_train, self.top_tags)\n",
    "        y_test = keep_top(y_test, self.top_tags)\n",
    "\n",
    "        # Drop the empty rows we might have generated\n",
    "        train_drop = y_train[y_train.map(len) <= 3].keys()\n",
    "        test_drop = y_test[y_test.map(len) <= 3].keys()\n",
    "        y_train.drop(train_drop,inplace=True)\n",
    "        y_test.drop(test_drop,inplace=True)\n",
    "\n",
    "        self.X_train_raw = X_train\n",
    "        self.X_test_raw = X_test\n",
    "        self.y_train_raw = y_train\n",
    "        self.y_test_raw = y_test\n",
    "\n",
    "        print(f'Dropped Train samples: {train_drop.shape[0]}')\n",
    "        print(f'Dropped Test samples: {test_drop.shape[0]}')\n",
    "\n",
    "        # Binarize the target\n",
    "        self.multi_label_binarizer = MultiLabelBinarizer(classes=self.top_tags)\n",
    "        y_train_matrix = self.multi_label_binarizer.fit_transform(y_train)\n",
    "        y_test_matrix = self.multi_label_binarizer.transform(y_test)\n",
    "        \n",
    "        # Convert the matrixes back to pandas DataFrames\n",
    "        tags = self.multi_label_binarizer.classes_\n",
    "        y_train_df = pd.DataFrame(\n",
    "            data=y_train_matrix,\n",
    "            index=y_train.index,\n",
    "            columns=tags)\n",
    "        y_test_df = pd.DataFrame(\n",
    "            data=y_test_matrix,\n",
    "            index=y_test.index,\n",
    "            columns=tags)\n",
    "\n",
    "        # Extract the y data to join predictions later\n",
    "        self.test_df = self.dataset.loc[y_test_df.index, :]\n",
    "        self.test_df['Tags_target'] = y_test.str.join(',')\n",
    "\n",
    "        # X processing\n",
    "\n",
    "        X_train.drop(train_drop, inplace=True)\n",
    "        X_test.drop(test_drop, inplace=True)\n",
    "        # Keep the terms with the top frequencies using the max_features arg\n",
    "        self.tfid_vectorizer = TfidfVectorizer(max_features=max_features)\n",
    "        # Fit and transform with the Tfid vectorizer on X train\n",
    "        X_train_matrix = self.tfid_vectorizer.fit_transform(X_train)\n",
    "        # Transform X test\n",
    "        X_test_matrix = self.tfid_vectorizer.transform(X_test)\n",
    "        # Apply TruncatedSVD to reduce dimentionality\n",
    "        self.truncated_svd = TruncatedSVD(n_components=n_components)\n",
    "        X_train_matrix = self.truncated_svd.fit_transform(X_train_matrix)\n",
    "        # Transform X test\n",
    "        X_test_matrix = self.truncated_svd.transform(X_test_matrix)\n",
    "\n",
    "        explained_variance = round(sum(\n",
    "            self.truncated_svd.explained_variance_ratio_), 2)\n",
    "        print(f'TruncatedSVD explained variance ratio: {explained_variance}')\n",
    "\n",
    "        # Convert the matrixes back to pandas DataFrames\n",
    "        components = list(range(n_components))\n",
    "        features = self.tfid_vectorizer.get_feature_names_out()\n",
    "        X_train_df = pd.DataFrame(\n",
    "            data=X_train_matrix,\n",
    "            index=X_train.index,\n",
    "            columns=components)\n",
    "        X_test_df = pd.DataFrame(\n",
    "            data=X_test_matrix,\n",
    "            index=X_test.index,\n",
    "            columns=components)\n",
    "\n",
    "        print(f'Train size: {X_train.shape[0]}')\n",
    "        print(f'Test size: {X_test.shape[0]}')\n",
    "\n",
    "        return X_train_df, X_test_df, y_train_df, y_test_df, X_train_matrix, X_test_matrix\n",
    "\n",
    "    def join_predictions(self, name:str, predictions:np.array):\n",
    "\n",
    "        # Use the binarizer to inverse transform the prediction array\n",
    "        predictions = self.multi_label_binarizer.inverse_transform(predictions)\n",
    "        # Add the predictions to the dataset\n",
    "        self.test_df[name] = predictions\n",
    "\n",
    "        return self.test_df[[self.X, self.y, 'Tags_target', name]]\n",
    "    \n",
    "    def get_predictions(self):\n",
    "\n",
    "        return self.test_df\n",
    "\n",
    "\n",
    "transformer = DatasetTransformer(df, 'Title_Body_tokens', 'Tags_tokens')\n",
    "X_train, X_test, y_train, y_test, X_train_matrix, X_test_matrix = transformer.gen_train_test(250, 1250, 990)"
   ]
  },
  {
   "cell_type": "markdown",
   "metadata": {},
   "source": [
    "We plot the scree plot of the *TruncatedSVD*. The *TruncatedSVD* is considered fit once it reaches an explained variance ratio of 0.8, however we will fit voluntarily fit at more than 0.95 of explained variance, in order to loose a minimal amount of information (which in this case would be detrimental to our models)."
   ]
  },
  {
   "cell_type": "code",
   "execution_count": 306,
   "metadata": {},
   "outputs": [
    {
     "data": {
      "image/png": "[encoded data removed]",
      "text/plain": [
       "<Figure size 1008x864 with 1 Axes>"
      ]
     },
     "metadata": {
      "needs_background": "light"
     },
     "output_type": "display_data"
    }
   ],
   "source": [
    "display_scree_plot(transformer.truncated_svd)"
   ]
  },
  {
   "cell_type": "markdown",
   "metadata": {},
   "source": [
    "# Evaluation"
   ]
  },
  {
   "cell_type": "markdown",
   "metadata": {},
   "source": [
    "For each experiment, we will calculate the following metrics:\n",
    "* *sampled Jaccard*: \n",
    "* *weighted Recall*: our objective is to minimize the number of *false negatives*, which would result in a higher *recall* score. We are facing and imbalanced repartition of classes, therefore we will use the *weighted* version of the score.\n",
    "* *ratio of target tags hit*: in combination with the *recall score*, we will compute the number of tags that have been found amongst the filtered *tags*, the equivalent of the accuracy for each document, and calcalute its *mean* as the *ratio of tags hit*,\n",
    "* *ratio of tags hit*: we use use the same approach on the initial *tags*, which haven't been filtered in order to get an evaluation of how many actual *tags* are predicted,\n",
    "* *inference time*: the average time to infer a document of the *test set* in seconds,\n",
    "* *model size*: the size of the model in megabytes.\n",
    "\n",
    "We create a class to evaluate and keep track of our experiments results:"
   ]
  },
  {
   "cell_type": "code",
   "execution_count": 307,
   "metadata": {},
   "outputs": [],
   "source": [
    "def count_values(y_true, y_hat):\n",
    "\n",
    "    y_true = y_true.split(',')\n",
    "    y_hat = list(y_hat)\n",
    "    score_max = len(y_true)\n",
    "    score = 0\n",
    "\n",
    "    for pred in y_hat:\n",
    "\n",
    "        if pred in y_true:\n",
    "\n",
    "            score += 1\n",
    "\n",
    "    return score / score_max\n",
    "\n",
    "\n",
    "class PerformanceReport():\n",
    "\n",
    "    def __init__(self, true:str, target:str):\n",
    "        \n",
    "        # Initialize our report DataFrame\n",
    "        self.y_true = true\n",
    "        self.y_target = target\n",
    "        self.columns = [\n",
    "            'Jaccard',\n",
    "            'Recall',\n",
    "            'Inference_time',\n",
    "            'Model_size_mb',\n",
    "            'Targets_hit',\n",
    "            'Tags_hit',\n",
    "            'Fill']\n",
    "        self.report = pd.DataFrame(columns=self.columns)\n",
    "\n",
    "    def evaluate(self, name:str, model, X_test:np.array, y_true:np.array, y_pred:np.array):\n",
    "        \n",
    "        # Predict with the model\n",
    "        tic()\n",
    "        model.predict(X_test)\n",
    "        # Calculate time spent\n",
    "        inference_time = toc() / X_test.shape[0]\n",
    "        # Dump model to disk\n",
    "        dump(model, './data/model.joblib')\n",
    "        # Get model file size\n",
    "        model_size = round(os.path.getsize('./data/model.joblib') / 1000000)\n",
    "        # Calculate the scores\n",
    "        recall = recall_score(y_true, y_pred, average='weighted')\n",
    "        jaccard = jaccard_score(y_true, y_pred, average='weighted')\n",
    "\n",
    "        # Append the scores to our report\n",
    "        self.report.loc[name,self.columns[:4]] = [\n",
    "            jaccard,\n",
    "            recall,\n",
    "            inference_time,\n",
    "            model_size]\n",
    "            \n",
    "        print(pd.DataFrame(self.report.loc[name,self.columns[:4]]))\n",
    "\n",
    "    def tags_ratio(self, name:str, df:pd.DataFrame):\n",
    "\n",
    "        tags_hit = df.apply(lambda x: count_values(x[self.y_true], x[name]), axis=1)\n",
    "        self.report.loc[name, 'Tags_hit'] = np.mean(tags_hit)\n",
    "        targets_hit = df.apply(lambda x: count_values(x[self.y_target], x[name]), axis=1)\n",
    "        self.report.loc[name, 'Targets_hit'] = np.mean(targets_hit)\n",
    "        filled_ratio = df[name].apply(len).sum() / df[self.y_target].str.split(',').apply(len).sum()\n",
    "        self.report.loc[name, 'Fill'] = np.mean(filled_ratio)\n",
    "        print(f\"Ratio of target tags hit: {round(self.report.loc[name,'Targets_hit'], 4)}\")\n",
    "        print(f\"Ratio of tags hit: {round(self.report.loc[name,'Tags_hit'], 4)}\")\n",
    "        print(f\"Average fill: {round(self.report.loc[name,'Fill'], 4)}\")\n",
    "\n",
    "    def clean_files(self):\n",
    "\n",
    "        os.remove('./data/model.joblib')\n",
    "\n",
    "    def get(self):\n",
    "\n",
    "        return self.report\n",
    "\n",
    "\n",
    "report = PerformanceReport(true='Tags_tokens', target='Tags_target')"
   ]
  },
  {
   "cell_type": "markdown",
   "metadata": {},
   "source": [
    "# Modelling"
   ]
  },
  {
   "cell_type": "markdown",
   "metadata": {},
   "source": [
    "## Unsupervised"
   ]
  },
  {
   "cell_type": "markdown",
   "metadata": {},
   "source": [
    "### LDA"
   ]
  },
  {
   "cell_type": "markdown",
   "metadata": {},
   "source": [
    "For the preprocessing of the data used by the LDA model, we are going to use the included *gensim* library methods.\\\n",
    "Moreover, we will not be able to calculate the standard metrics that we choosed to compare the *supervised machine learning algorithms* as we do not use the *y* data for predicting.\n",
    "\n",
    "We create a dictionnary with the data and convert it to a bag of words corpus:"
   ]
  },
  {
   "cell_type": "code",
   "execution_count": 308,
   "metadata": {},
   "outputs": [],
   "source": [
    "texts_train = transformer.X_train_raw.str.split(',')\n",
    "dictionary = corpora.Dictionary(texts_train)\n",
    "dictionary.filter_extremes(no_below=1000)\n",
    "corpus_train = [dictionary.doc2bow(text) for text in texts_train]\n",
    "tfidf = TfidfModel(corpus_train)\n",
    "corpus_train = [tfidf[text] for text in corpus_train]"
   ]
  },
  {
   "cell_type": "markdown",
   "metadata": {},
   "source": [
    "We test various N topics in order to calculate the coherence and perplexity scores:"
   ]
  },
  {
   "cell_type": "code",
   "execution_count": 309,
   "metadata": {},
   "outputs": [
    {
     "data": {
      "application/vnd.plotly.v1+json": {
       "config": {
        "plotlyServerURL": "https://plot.ly"
       },
       "data": [
        {
         "name": "Coherence",
         "type": "scatter",
         "x": [
          10,
          20,
          30,
          40,
          50,
          60,
          70,
          80,
          90,
          100,
          110,
          120,
          130,
          140,
          150,
          160,
          170,
          180,
          190
         ],
         "xaxis": "x",
         "y": [
          0.3924390293264225,
          0.391104407261725,
          0.3858001179950783,
          0.3862016095509945,
          0.38562619500764184,
          0.38286793889694326,
          0.38025385512806387,
          0.3664851435854358,
          0.36015480228896823,
          0.353792995812118,
          0.343437870357507,
          0.34343787035750706,
          0.34343787035750717,
          0.34343787035750717,
          0.3434378703575072,
          0.34343787035750717,
          0.3434378703575072,
          0.3434378703575072,
          0.3434378703575071
         ],
         "yaxis": "y"
        },
        {
         "name": "Perplexity",
         "type": "scatter",
         "x": [
          10,
          20,
          30,
          40,
          50,
          60,
          70,
          80,
          90,
          100,
          110,
          120,
          130,
          140,
          150,
          160,
          170,
          180,
          190
         ],
         "xaxis": "x",
         "y": [
          -4.379378237781628,
          -4.795064013841468,
          -5.132595181841596,
          -5.431541568325357,
          -5.690146931322275,
          -5.890925488480196,
          -6.24833115564912,
          -6.932718324574391,
          -20.0222577347281,
          -46.17725095525586,
          -211.54000854492517,
          -231.06019592285475,
          -250.59034729004244,
          -270.12890625000404,
          -289.6745300293016,
          -309.22628784180137,
          -328.7833251953199,
          -348.3450622558628,
          -367.9108276367263
         ],
         "yaxis": "y2"
        }
       ],
       "layout": {
        "height": 600,
        "template": {
         "data": {
          "bar": [
           {
            "error_x": {
             "color": "#2a3f5f"
            },
            "error_y": {
             "color": "#2a3f5f"
            },
            "marker": {
             "line": {
              "color": "#E5ECF6",
              "width": 0.5
             },
             "pattern": {
              "fillmode": "overlay",
              "size": 10,
              "solidity": 0.2
             }
            },
            "type": "bar"
           }
          ],
          "barpolar": [
           {
            "marker": {
             "line": {
              "color": "#E5ECF6",
              "width": 0.5
             },
             "pattern": {
              "fillmode": "overlay",
              "size": 10,
              "solidity": 0.2
             }
            },
            "type": "barpolar"
           }
          ],
          "carpet": [
           {
            "aaxis": {
             "endlinecolor": "#2a3f5f",
             "gridcolor": "white",
             "linecolor": "white",
             "minorgridcolor": "white",
             "startlinecolor": "#2a3f5f"
            },
            "baxis": {
             "endlinecolor": "#2a3f5f",
             "gridcolor": "white",
             "linecolor": "white",
             "minorgridcolor": "white",
             "startlinecolor": "#2a3f5f"
            },
            "type": "carpet"
           }
          ],
          "choropleth": [
           {
            "colorbar": {
             "outlinewidth": 0,
             "ticks": ""
            },
            "type": "choropleth"
           }
          ],
          "contour": [
           {
            "colorbar": {
             "outlinewidth": 0,
             "ticks": ""
            },
            "colorscale": [
             [
              0,
              "#0d0887"
             ],
             [
              0.1111111111111111,
              "#46039f"
             ],
             [
              0.2222222222222222,
              "#7201a8"
             ],
             [
              0.3333333333333333,
              "#9c179e"
             ],
             [
              0.4444444444444444,
              "#bd3786"
             ],
             [
              0.5555555555555556,
              "#d8576b"
             ],
             [
              0.6666666666666666,
              "#ed7953"
             ],
             [
              0.7777777777777778,
              "#fb9f3a"
             ],
             [
              0.8888888888888888,
              "#fdca26"
             ],
             [
              1,
              "#f0f921"
             ]
            ],
            "type": "contour"
           }
          ],
          "contourcarpet": [
           {
            "colorbar": {
             "outlinewidth": 0,
             "ticks": ""
            },
            "type": "contourcarpet"
           }
          ],
          "heatmap": [
           {
            "colorbar": {
             "outlinewidth": 0,
             "ticks": ""
            },
            "colorscale": [
             [
              0,
              "#0d0887"
             ],
             [
              0.1111111111111111,
              "#46039f"
             ],
             [
              0.2222222222222222,
              "#7201a8"
             ],
             [
              0.3333333333333333,
              "#9c179e"
             ],
             [
              0.4444444444444444,
              "#bd3786"
             ],
             [
              0.5555555555555556,
              "#d8576b"
             ],
             [
              0.6666666666666666,
              "#ed7953"
             ],
             [
              0.7777777777777778,
              "#fb9f3a"
             ],
             [
              0.8888888888888888,
              "#fdca26"
             ],
             [
              1,
              "#f0f921"
             ]
            ],
            "type": "heatmap"
           }
          ],
          "heatmapgl": [
           {
            "colorbar": {
             "outlinewidth": 0,
             "ticks": ""
            },
            "colorscale": [
             [
              0,
              "#0d0887"
             ],
             [
              0.1111111111111111,
              "#46039f"
             ],
             [
              0.2222222222222222,
              "#7201a8"
             ],
             [
              0.3333333333333333,
              "#9c179e"
             ],
             [
              0.4444444444444444,
              "#bd3786"
             ],
             [
              0.5555555555555556,
              "#d8576b"
             ],
             [
              0.6666666666666666,
              "#ed7953"
             ],
             [
              0.7777777777777778,
              "#fb9f3a"
             ],
             [
              0.8888888888888888,
              "#fdca26"
             ],
             [
              1,
              "#f0f921"
             ]
            ],
            "type": "heatmapgl"
           }
          ],
          "histogram": [
           {
            "marker": {
             "pattern": {
              "fillmode": "overlay",
              "size": 10,
              "solidity": 0.2
             }
            },
            "type": "histogram"
           }
          ],
          "histogram2d": [
           {
            "colorbar": {
             "outlinewidth": 0,
             "ticks": ""
            },
            "colorscale": [
             [
              0,
              "#0d0887"
             ],
             [
              0.1111111111111111,
              "#46039f"
             ],
             [
              0.2222222222222222,
              "#7201a8"
             ],
             [
              0.3333333333333333,
              "#9c179e"
             ],
             [
              0.4444444444444444,
              "#bd3786"
             ],
             [
              0.5555555555555556,
              "#d8576b"
             ],
             [
              0.6666666666666666,
              "#ed7953"
             ],
             [
              0.7777777777777778,
              "#fb9f3a"
             ],
             [
              0.8888888888888888,
              "#fdca26"
             ],
             [
              1,
              "#f0f921"
             ]
            ],
            "type": "histogram2d"
           }
          ],
          "histogram2dcontour": [
           {
            "colorbar": {
             "outlinewidth": 0,
             "ticks": ""
            },
            "colorscale": [
             [
              0,
              "#0d0887"
             ],
             [
              0.1111111111111111,
              "#46039f"
             ],
             [
              0.2222222222222222,
              "#7201a8"
             ],
             [
              0.3333333333333333,
              "#9c179e"
             ],
             [
              0.4444444444444444,
              "#bd3786"
             ],
             [
              0.5555555555555556,
              "#d8576b"
             ],
             [
              0.6666666666666666,
              "#ed7953"
             ],
             [
              0.7777777777777778,
              "#fb9f3a"
             ],
             [
              0.8888888888888888,
              "#fdca26"
             ],
             [
              1,
              "#f0f921"
             ]
            ],
            "type": "histogram2dcontour"
           }
          ],
          "mesh3d": [
           {
            "colorbar": {
             "outlinewidth": 0,
             "ticks": ""
            },
            "type": "mesh3d"
           }
          ],
          "parcoords": [
           {
            "line": {
             "colorbar": {
              "outlinewidth": 0,
              "ticks": ""
             }
            },
            "type": "parcoords"
           }
          ],
          "pie": [
           {
            "automargin": true,
            "type": "pie"
           }
          ],
          "scatter": [
           {
            "marker": {
             "colorbar": {
              "outlinewidth": 0,
              "ticks": ""
             }
            },
            "type": "scatter"
           }
          ],
          "scatter3d": [
           {
            "line": {
             "colorbar": {
              "outlinewidth": 0,
              "ticks": ""
             }
            },
            "marker": {
             "colorbar": {
              "outlinewidth": 0,
              "ticks": ""
             }
            },
            "type": "scatter3d"
           }
          ],
          "scattercarpet": [
           {
            "marker": {
             "colorbar": {
              "outlinewidth": 0,
              "ticks": ""
             }
            },
            "type": "scattercarpet"
           }
          ],
          "scattergeo": [
           {
            "marker": {
             "colorbar": {
              "outlinewidth": 0,
              "ticks": ""
             }
            },
            "type": "scattergeo"
           }
          ],
          "scattergl": [
           {
            "marker": {
             "colorbar": {
              "outlinewidth": 0,
              "ticks": ""
             }
            },
            "type": "scattergl"
           }
          ],
          "scattermapbox": [
           {
            "marker": {
             "colorbar": {
              "outlinewidth": 0,
              "ticks": ""
             }
            },
            "type": "scattermapbox"
           }
          ],
          "scatterpolar": [
           {
            "marker": {
             "colorbar": {
              "outlinewidth": 0,
              "ticks": ""
             }
            },
            "type": "scatterpolar"
           }
          ],
          "scatterpolargl": [
           {
            "marker": {
             "colorbar": {
              "outlinewidth": 0,
              "ticks": ""
             }
            },
            "type": "scatterpolargl"
           }
          ],
          "scatterternary": [
           {
            "marker": {
             "colorbar": {
              "outlinewidth": 0,
              "ticks": ""
             }
            },
            "type": "scatterternary"
           }
          ],
          "surface": [
           {
            "colorbar": {
             "outlinewidth": 0,
             "ticks": ""
            },
            "colorscale": [
             [
              0,
              "#0d0887"
             ],
             [
              0.1111111111111111,
              "#46039f"
             ],
             [
              0.2222222222222222,
              "#7201a8"
             ],
             [
              0.3333333333333333,
              "#9c179e"
             ],
             [
              0.4444444444444444,
              "#bd3786"
             ],
             [
              0.5555555555555556,
              "#d8576b"
             ],
             [
              0.6666666666666666,
              "#ed7953"
             ],
             [
              0.7777777777777778,
              "#fb9f3a"
             ],
             [
              0.8888888888888888,
              "#fdca26"
             ],
             [
              1,
              "#f0f921"
             ]
            ],
            "type": "surface"
           }
          ],
          "table": [
           {
            "cells": {
             "fill": {
              "color": "#EBF0F8"
             },
             "line": {
              "color": "white"
             }
            },
            "header": {
             "fill": {
              "color": "#C8D4E3"
             },
             "line": {
              "color": "white"
             }
            },
            "type": "table"
           }
          ]
         },
         "layout": {
          "annotationdefaults": {
           "arrowcolor": "#2a3f5f",
           "arrowhead": 0,
           "arrowwidth": 1
          },
          "autotypenumbers": "strict",
          "coloraxis": {
           "colorbar": {
            "outlinewidth": 0,
            "ticks": ""
           }
          },
          "colorscale": {
           "diverging": [
            [
             0,
             "#8e0152"
            ],
            [
             0.1,
             "#c51b7d"
            ],
            [
             0.2,
             "#de77ae"
            ],
            [
             0.3,
             "#f1b6da"
            ],
            [
             0.4,
             "#fde0ef"
            ],
            [
             0.5,
             "#f7f7f7"
            ],
            [
             0.6,
             "#e6f5d0"
            ],
            [
             0.7,
             "#b8e186"
            ],
            [
             0.8,
             "#7fbc41"
            ],
            [
             0.9,
             "#4d9221"
            ],
            [
             1,
             "#276419"
            ]
           ],
           "sequential": [
            [
             0,
             "#0d0887"
            ],
            [
             0.1111111111111111,
             "#46039f"
            ],
            [
             0.2222222222222222,
             "#7201a8"
            ],
            [
             0.3333333333333333,
             "#9c179e"
            ],
            [
             0.4444444444444444,
             "#bd3786"
            ],
            [
             0.5555555555555556,
             "#d8576b"
            ],
            [
             0.6666666666666666,
             "#ed7953"
            ],
            [
             0.7777777777777778,
             "#fb9f3a"
            ],
            [
             0.8888888888888888,
             "#fdca26"
            ],
            [
             1,
             "#f0f921"
            ]
           ],
           "sequentialminus": [
            [
             0,
             "#0d0887"
            ],
            [
             0.1111111111111111,
             "#46039f"
            ],
            [
             0.2222222222222222,
             "#7201a8"
            ],
            [
             0.3333333333333333,
             "#9c179e"
            ],
            [
             0.4444444444444444,
             "#bd3786"
            ],
            [
             0.5555555555555556,
             "#d8576b"
            ],
            [
             0.6666666666666666,
             "#ed7953"
            ],
            [
             0.7777777777777778,
             "#fb9f3a"
            ],
            [
             0.8888888888888888,
             "#fdca26"
            ],
            [
             1,
             "#f0f921"
            ]
           ]
          },
          "colorway": [
           "#636efa",
           "#EF553B",
           "#00cc96",
           "#ab63fa",
           "#FFA15A",
           "#19d3f3",
           "#FF6692",
           "#B6E880",
           "#FF97FF",
           "#FECB52"
          ],
          "font": {
           "color": "#2a3f5f"
          },
          "geo": {
           "bgcolor": "white",
           "lakecolor": "white",
           "landcolor": "#E5ECF6",
           "showlakes": true,
           "showland": true,
           "subunitcolor": "white"
          },
          "hoverlabel": {
           "align": "left"
          },
          "hovermode": "closest",
          "mapbox": {
           "style": "light"
          },
          "paper_bgcolor": "white",
          "plot_bgcolor": "#E5ECF6",
          "polar": {
           "angularaxis": {
            "gridcolor": "white",
            "linecolor": "white",
            "ticks": ""
           },
           "bgcolor": "#E5ECF6",
           "radialaxis": {
            "gridcolor": "white",
            "linecolor": "white",
            "ticks": ""
           }
          },
          "scene": {
           "xaxis": {
            "backgroundcolor": "#E5ECF6",
            "gridcolor": "white",
            "gridwidth": 2,
            "linecolor": "white",
            "showbackground": true,
            "ticks": "",
            "zerolinecolor": "white"
           },
           "yaxis": {
            "backgroundcolor": "#E5ECF6",
            "gridcolor": "white",
            "gridwidth": 2,
            "linecolor": "white",
            "showbackground": true,
            "ticks": "",
            "zerolinecolor": "white"
           },
           "zaxis": {
            "backgroundcolor": "#E5ECF6",
            "gridcolor": "white",
            "gridwidth": 2,
            "linecolor": "white",
            "showbackground": true,
            "ticks": "",
            "zerolinecolor": "white"
           }
          },
          "shapedefaults": {
           "line": {
            "color": "#2a3f5f"
           }
          },
          "ternary": {
           "aaxis": {
            "gridcolor": "white",
            "linecolor": "white",
            "ticks": ""
           },
           "baxis": {
            "gridcolor": "white",
            "linecolor": "white",
            "ticks": ""
           },
           "bgcolor": "#E5ECF6",
           "caxis": {
            "gridcolor": "white",
            "linecolor": "white",
            "ticks": ""
           }
          },
          "title": {
           "x": 0.05
          },
          "xaxis": {
           "automargin": true,
           "gridcolor": "white",
           "linecolor": "white",
           "ticks": "",
           "title": {
            "standoff": 15
           },
           "zerolinecolor": "white",
           "zerolinewidth": 2
          },
          "yaxis": {
           "automargin": true,
           "gridcolor": "white",
           "linecolor": "white",
           "ticks": "",
           "title": {
            "standoff": 15
           },
           "zerolinecolor": "white",
           "zerolinewidth": 2
          }
         }
        },
        "title": {
         "text": "Scores per n topics"
        },
        "xaxis": {
         "anchor": "y",
         "domain": [
          0,
          0.94
         ],
         "title": {
          "text": "n topics"
         }
        },
        "yaxis": {
         "anchor": "x",
         "domain": [
          0,
          1
         ],
         "title": {
          "text": "Coherence score"
         }
        },
        "yaxis2": {
         "anchor": "x",
         "overlaying": "y",
         "side": "right",
         "title": {
          "text": "Perplexity score"
         }
        }
       }
      }
     },
     "metadata": {},
     "output_type": "display_data"
    }
   ],
   "source": [
    "TOPICS_RANGE = list(range(10, 200, 10))\n",
    "coherence_scores = list()\n",
    "perplexity_scores = list()\n",
    "models = list()\n",
    "\n",
    "for n_topics in TOPICS_RANGE:\n",
    "\n",
    "    # Fit a LDA model for each n_topics\n",
    "    lda_model = LdaMulticore(\n",
    "        corpus=corpus_train,\n",
    "        id2word=dictionary,\n",
    "        num_topics=n_topics,\n",
    "        random_state=42,\n",
    "        passes=10,\n",
    "        workers=24)\n",
    "    models.append(lda_model)\n",
    "\n",
    "    perplexity_scores.append(lda_model.log_perplexity(corpus_train))\n",
    "\n",
    "    # Fit a coherence model for each n_topics to calculate the score\n",
    "    coherence_model = CoherenceModel(\n",
    "        model=lda_model, \n",
    "        texts=texts_train,\n",
    "        dictionary=dictionary,\n",
    "        coherence='c_v')\n",
    "    coherence_scores.append(coherence_model.get_coherence())\n",
    "\n",
    "# Plot the results\n",
    "fig = make_subplots(specs=[[{\"secondary_y\": True}]])\n",
    "fig.add_trace(\n",
    "    go.Scatter(x=TOPICS_RANGE, y=coherence_scores, name='Coherence'),\n",
    "    secondary_y=False)\n",
    "fig.add_trace(\n",
    "    go.Scatter(x=TOPICS_RANGE, y=perplexity_scores, name='Perplexity'),\n",
    "    secondary_y=True)\n",
    "fig.update_layout(title_text=f\"Scores per n topics\")\n",
    "fig.update_xaxes(title_text='n topics')\n",
    "fig.update_yaxes(title_text=\"Coherence score\", secondary_y=False)\n",
    "fig.update_yaxes(title_text=\"Perplexity score\", secondary_y=True)\n",
    "fig.update_layout(height=600)\n",
    "fig.show()"
   ]
  },
  {
   "cell_type": "markdown",
   "metadata": {},
   "source": [
    "The coherence score hits its maximum with 60 topics, we fit a model accordingly:"
   ]
  },
  {
   "cell_type": "code",
   "execution_count": 310,
   "metadata": {},
   "outputs": [],
   "source": [
    "lda_model = LdaMulticore(\n",
    "    corpus=corpus_train,\n",
    "    id2word=dictionary,\n",
    "    num_topics=80,\n",
    "    random_state=42,\n",
    "    passes=10,\n",
    "    workers=24)"
   ]
  },
  {
   "cell_type": "markdown",
   "metadata": {},
   "source": [
    "We can display the generated *topics* and their *term frequencies* using the pyLDAvis library:"
   ]
  },
  {
   "cell_type": "code",
   "execution_count": 311,
   "metadata": {},
   "outputs": [
    {
     "name": "stderr",
     "output_type": "stream",
     "text": [
      "/opt/homebrew/Caskroom/miniforge/base/envs/P5/lib/python3.9/site-packages/pyLDAvis/_prepare.py:246: FutureWarning:\n",
      "\n",
      "In a future version of pandas all arguments of DataFrame.drop except for the argument 'labels' will be keyword-only.\n",
      "\n",
      "/opt/homebrew/Caskroom/miniforge/base/envs/P5/lib/python3.9/site-packages/past/builtins/misc.py:45: DeprecationWarning: the imp module is deprecated in favour of importlib; see the module's documentation for alternative uses\n",
      "  from imp import reload\n",
      "/opt/homebrew/Caskroom/miniforge/base/envs/P5/lib/python3.9/site-packages/past/builtins/misc.py:45: DeprecationWarning: the imp module is deprecated in favour of importlib; see the module's documentation for alternative uses\n",
      "  from imp import reload\n",
      "/opt/homebrew/Caskroom/miniforge/base/envs/P5/lib/python3.9/site-packages/past/builtins/misc.py:45: DeprecationWarning: the imp module is deprecated in favour of importlib; see the module's documentation for alternative uses\n",
      "  from imp import reload\n",
      "/opt/homebrew/Caskroom/miniforge/base/envs/P5/lib/python3.9/site-packages/past/builtins/misc.py:45: DeprecationWarning: the imp module is deprecated in favour of importlib; see the module's documentation for alternative uses\n",
      "  from imp import reload\n",
      "/opt/homebrew/Caskroom/miniforge/base/envs/P5/lib/python3.9/site-packages/past/builtins/misc.py:45: DeprecationWarning: the imp module is deprecated in favour of importlib; see the module's documentation for alternative uses\n",
      "  from imp import reload\n",
      "/opt/homebrew/Caskroom/miniforge/base/envs/P5/lib/python3.9/site-packages/past/builtins/misc.py:45: DeprecationWarning: the imp module is deprecated in favour of importlib; see the module's documentation for alternative uses\n",
      "  from imp import reload\n",
      "/opt/homebrew/Caskroom/miniforge/base/envs/P5/lib/python3.9/site-packages/past/builtins/misc.py:45: DeprecationWarning: the imp module is deprecated in favour of importlib; see the module's documentation for alternative uses\n",
      "  from imp import reload\n",
      "/opt/homebrew/Caskroom/miniforge/base/envs/P5/lib/python3.9/site-packages/past/builtins/misc.py:45: DeprecationWarning: the imp module is deprecated in favour of importlib; see the module's documentation for alternative uses\n",
      "  from imp import reload\n"
     ]
    },
    {
     "data": {
      "text/html": [
       "\n",
       "<link rel=\"stylesheet\" type=\"text/css\" href=\"https://cdn.jsdelivr.net/gh/bmabey/pyLDAvis@3.3.1/pyLDAvis/js/ldavis.v1.0.0.css\">\n",
       "\n",
       "\n",
       "<div id=\"ldavis_el167963647776002826292585\"></div>\n",
       "<script type=\"text/javascript\">\n",
       "\n",
       "var ldavis_el167963647776002826292585_data = {\"mdsDat\": {\"x\": [-0.22161730405176192, -0.22222548120517485, -0.41180626799434983, -0.0657409552474997, 0.4051810400665525, -0.26344884562951143, 0.33755870376757263, -0.07735196238693037, 0.263231859783999, -0.24622988431576395, 0.004045400686850525, 0.13447057540482937, -0.1671827261185963, 0.08521664947841884, -0.3230039434590807, -0.3938489679333186, 0.40709598090621885, 0.5501438870621793, -0.24285610230505444, 0.2441934042898121, 0.4280276187092497, -0.2486979254186768, -0.5489729803265126, 0.2233177757988982, -0.5507261078040545, -0.2211405131344785, 0.16998734231203527, -0.12849595940714906, 0.4069706526375916, -0.03542630138512589, -0.16485812540724398, 0.20455703836176842, 0.17873214288212064, -0.021799998463198546, 0.007659940369601329, 0.036090451991598486, -0.12269707477437933, 0.05396948900369589, -0.023564407182447653, -0.11248133040499626, -0.14800173523992247, 0.1597776447043644, 0.10787796048839882, 0.019252343942170395, 0.019252343942170395, 0.019252343942170395, 0.019252343942170395, 0.019252343942170395, 0.019252343942170395, 0.019252343942170395, 0.019252343942170395, 0.019252343942170395, 0.019252343942170395, 0.019252343942170395, 0.019252343942170395, 0.019252343942170395, 0.019252343942170395, -0.015383186104211183, 0.01925234394217039, 0.01925234394217039, 0.01925234394217039, 0.01925234394217039, 0.01925234394217039, 0.010477498273174273, 0.019252343942170392, 0.019252343942170392, 0.019009062762928974, 0.01925234394217039, 0.019252318306565208, 0.008742384603596633, 0.019252343942170402, 0.04020737292793816, 0.01925299419184635, 0.01925234394217039, 0.019228138883587376, 0.019252343942170392, -0.05508751024063849, 0.0192523439421704, 0.0192523439421704, -0.0314430191539122], \"y\": [-0.09592855779336654, 0.01475996045254567, 0.2874323998535287, 0.4279426702630497, -0.11593458541956131, 0.07886770769136289, -0.19490879132225924, -0.3068086516976643, -0.3968062871901447, 0.2291189207456497, -0.40219939646860753, 0.43446613361575237, 0.13584100095793847, -0.37418374533694354, -0.02752101085150137, -0.211467433727774, 0.049028329227172526, 0.04445121102664745, -0.40733742824403163, 0.3742130698955984, -0.3167604461867849, 0.4229766094545854, -0.11550242302373992, 0.1241693879055874, 0.11283723565313011, -0.3155635803298871, -0.1789246732038245, -0.5512572354526419, 0.1998606840238858, 0.4843255884653121, -0.08358538899433839, -0.07928578704471913, 0.29952863491086434, 0.18875391750153211, -0.2355748952116299, 0.2091836726329297, 0.08513153562149789, -0.13974567519709324, -0.11359149037103866, 0.1781848014978772, -0.18591052273943678, 0.03800787961647717, -0.07327145532160428, 0.0110738412781115, 0.0110738412781115, 0.0110738412781115, 0.0110738412781115, 0.0110738412781115, 0.0110738412781115, 0.0110738412781115, 0.0110738412781115, 0.0110738412781115, 0.0110738412781115, 0.0110738412781115, 0.0110738412781115, 0.0110738412781115, 0.0110738412781115, 0.13905211587755792, 0.011073841278111507, 0.011073841278111507, 0.011073841278111507, 0.011073841278111507, 0.011073841278111507, 0.014581754594901509, 0.011073841278111507, 0.011073841278111507, 0.024619502119540893, 0.011073841278111507, 0.011073902907349036, 0.020553516986535916, 0.0110738412781115, 0.02838881062902406, 0.01107364585496163, 0.011073841278111505, 0.011072539685489956, 0.011073841278111505, -0.05857960468645726, 0.011073841278111502, 0.011073841278111502, 0.0021582116377482333], \"topics\": [1, 2, 3, 4, 5, 6, 7, 8, 9, 10, 11, 12, 13, 14, 15, 16, 17, 18, 19, 20, 21, 22, 23, 24, 25, 26, 27, 28, 29, 30, 31, 32, 33, 34, 35, 36, 37, 38, 39, 40, 41, 42, 43, 44, 45, 46, 47, 48, 49, 50, 51, 52, 53, 54, 55, 56, 57, 58, 59, 60, 61, 62, 63, 64, 65, 66, 67, 68, 69, 70, 71, 72, 73, 74, 75, 76, 77, 78, 79, 80], \"cluster\": [1, 1, 1, 1, 1, 1, 1, 1, 1, 1, 1, 1, 1, 1, 1, 1, 1, 1, 1, 1, 1, 1, 1, 1, 1, 1, 1, 1, 1, 1, 1, 1, 1, 1, 1, 1, 1, 1, 1, 1, 1, 1, 1, 1, 1, 1, 1, 1, 1, 1, 1, 1, 1, 1, 1, 1, 1, 1, 1, 1, 1, 1, 1, 1, 1, 1, 1, 1, 1, 1, 1, 1, 1, 1, 1, 1, 1, 1, 1, 1], \"Freq\": [4.438500351114171, 4.388806956912435, 3.793969629564075, 3.423750794681691, 3.4145065768765575, 3.0905046154105182, 2.947004596504225, 2.932278022237334, 2.923331246467757, 2.8795028694306857, 2.7925844964669917, 2.7109404988281685, 2.636632784602465, 2.5649167493899676, 2.5553839120835136, 2.3317315604403865, 2.237140154212306, 2.189166474444738, 2.120821944558286, 2.119719166827375, 2.101956880477287, 2.072233051532052, 1.9308657761208394, 1.9229480834634365, 1.8392452294652017, 1.7400983889171675, 1.6730962919704124, 1.6133543096319216, 1.2213304910219216, 1.2081722366718757, 1.0850765914335476, 0.9375175709032315, 0.8927187568623618, 0.6244338802118797, 0.5659941377783149, 0.5400327530758916, 0.5384030859009854, 0.5185232515652909, 0.5048519357179546, 0.47771272569051404, 0.46707835863080305, 0.4455434550652424, 0.4444035335207063, 0.43630313035993235, 0.43630313035993235, 0.43630313035993235, 0.43630313035993235, 0.43630313035993235, 0.43630313035993235, 0.43630313035993235, 0.43630313035993235, 0.43630313035993235, 0.43630313035993235, 0.43630313035993235, 0.43630313035993235, 0.43630313035993235, 0.43630313035993235, 0.43630313035993235, 0.43630313035993235, 0.43630313035993235, 0.43630313035993235, 0.43630313035993235, 0.43630313035993235, 0.43630313035993235, 0.43630313035993235, 0.43630313035993235, 0.43630313035993235, 0.43630313035993235, 0.43630313035993235, 0.43630313035993235, 0.43630313035993235, 0.43630313035993235, 0.43630313035993235, 0.43630313035993235, 0.43630313035993235, 0.43630313035993235, 0.43630313035993235, 0.43630313035993235, 0.43630313035993235, 0.43630313035993235]}, \"tinfo\": {\"Term\": [\"file\", \"application\", \"error\", \"user\", \"database\", \"method\", \"code\", \"class\", \"data\", \"server\", \"object\", \"question\", \"way\", \"example\", \"know\", \"use\", \"time\", \"work\", \"value\", \"like\", \"function\", \"get\", \"make\", \"problem\", \"anyone\", \"thanks\", \"something\", \"value\", \"code\", \"problem\", \"use\", \"method\", \"way\", \"example\", \"something\", \"work\", \"get\", \"data\", \"error\", \"question\", \"server\", \"application\", \"database\", \"anyone\", \"function\", \"file\", \"make\", \"know\", \"thanks\", \"like\", \"time\", \"user\", \"object\", \"class\", \"function\", \"code\", \"work\", \"thanks\", \"way\", \"something\", \"question\", \"example\", \"value\", \"get\", \"like\", \"method\", \"problem\", \"object\", \"time\", \"data\", \"anyone\", \"user\", \"class\", \"know\", \"make\", \"server\", \"database\", \"error\", \"use\", \"file\", \"application\", \"file\", \"problem\", \"time\", \"work\", \"make\", \"error\", \"server\", \"anyone\", \"know\", \"thanks\", \"function\", \"something\", \"like\", \"value\", \"question\", \"example\", \"database\", \"user\", \"object\", \"class\", \"get\", \"data\", \"method\", \"use\", \"application\", \"way\", \"code\", \"class\", \"something\", \"object\", \"problem\", \"thanks\", \"example\", \"know\", \"get\", \"make\", \"anyone\", \"function\", \"like\", \"value\", \"server\", \"question\", \"database\", \"work\", \"time\", \"user\", \"error\", \"data\", \"method\", \"use\", \"file\", \"application\", \"way\", \"code\", \"object\", \"use\", \"method\", \"example\", \"way\", \"something\", \"thanks\", \"database\", \"user\", \"value\", \"server\", \"anyone\", \"make\", \"question\", \"work\", \"know\", \"function\", \"problem\", \"like\", \"get\", \"time\", \"application\", \"error\", \"class\", \"data\", \"code\", \"file\", \"anyone\", \"get\", \"way\", \"use\", \"code\", \"problem\", \"something\", \"application\", \"work\", \"object\", \"data\", \"method\", \"make\", \"error\", \"question\", \"class\", \"know\", \"thanks\", \"function\", \"like\", \"value\", \"server\", \"example\", \"database\", \"time\", \"user\", \"file\", \"thanks\", \"something\", \"way\", \"problem\", \"example\", \"application\", \"data\", \"anyone\", \"time\", \"value\", \"make\", \"know\", \"function\", \"like\", \"server\", \"question\", \"database\", \"work\", \"user\", \"object\", \"error\", \"class\", \"get\", \"method\", \"use\", \"file\", \"code\", \"make\", \"way\", \"like\", \"use\", \"something\", \"code\", \"problem\", \"get\", \"method\", \"example\", \"class\", \"server\", \"function\", \"data\", \"thanks\", \"object\", \"value\", \"database\", \"time\", \"work\", \"anyone\", \"know\", \"question\", \"user\", \"error\", \"file\", \"application\", \"data\", \"time\", \"get\", \"application\", \"know\", \"class\", \"error\", \"work\", \"object\", \"value\", \"thanks\", \"anyone\", \"make\", \"function\", \"something\", \"like\", \"server\", \"question\", \"example\", \"database\", \"user\", \"problem\", \"method\", \"use\", \"file\", \"way\", \"code\", \"time\", \"way\", \"something\", \"thanks\", \"get\", \"code\", \"know\", \"question\", \"use\", \"method\", \"database\", \"example\", \"make\", \"object\", \"class\", \"data\", \"file\", \"anyone\", \"server\", \"problem\", \"function\", \"like\", \"value\", \"work\", \"user\", \"error\", \"application\", \"like\", \"something\", \"get\", \"example\", \"application\", \"thanks\", \"time\", \"problem\", \"method\", \"work\", \"value\", \"function\", \"server\", \"make\", \"database\", \"use\", \"know\", \"user\", \"data\", \"class\", \"anyone\", \"question\", \"way\", \"object\", \"error\", \"file\", \"code\", \"error\", \"use\", \"method\", \"code\", \"make\", \"class\", \"time\", \"way\", \"thanks\", \"function\", \"file\", \"know\", \"value\", \"anyone\", \"work\", \"something\", \"like\", \"server\", \"question\", \"example\", \"database\", \"user\", \"object\", \"problem\", \"get\", \"data\", \"application\", \"problem\", \"something\", \"work\", \"code\", \"time\", \"question\", \"use\", \"way\", \"get\", \"application\", \"make\", \"know\", \"thanks\", \"like\", \"data\", \"object\", \"example\", \"user\", \"server\", \"anyone\", \"function\", \"value\", \"database\", \"error\", \"class\", \"method\", \"file\", \"method\", \"way\", \"use\", \"code\", \"work\", \"question\", \"application\", \"like\", \"data\", \"make\", \"anyone\", \"know\", \"thanks\", \"function\", \"something\", \"value\", \"server\", \"example\", \"database\", \"time\", \"user\", \"object\", \"error\", \"problem\", \"class\", \"get\", \"file\", \"get\", \"way\", \"code\", \"question\", \"problem\", \"value\", \"use\", \"method\", \"thanks\", \"work\", \"application\", \"data\", \"class\", \"database\", \"like\", \"error\", \"user\", \"know\", \"file\", \"anyone\", \"make\", \"function\", \"something\", \"server\", \"example\", \"time\", \"object\", \"work\", \"code\", \"way\", \"use\", \"get\", \"class\", \"time\", \"like\", \"example\", \"make\", \"something\", \"question\", \"error\", \"anyone\", \"know\", \"thanks\", \"function\", \"file\", \"value\", \"server\", \"database\", \"user\", \"object\", \"problem\", \"data\", \"method\", \"application\", \"server\", \"application\", \"question\", \"something\", \"way\", \"get\", \"know\", \"object\", \"anyone\", \"make\", \"thanks\", \"function\", \"like\", \"value\", \"example\", \"database\", \"work\", \"time\", \"user\", \"error\", \"problem\", \"class\", \"data\", \"method\", \"use\", \"file\", \"code\", \"user\", \"code\", \"way\", \"function\", \"data\", \"method\", \"object\", \"anyone\", \"example\", \"make\", \"know\", \"get\", \"database\", \"thanks\", \"class\", \"something\", \"like\", \"value\", \"server\", \"question\", \"work\", \"time\", \"use\", \"error\", \"problem\", \"file\", \"application\", \"use\", \"application\", \"way\", \"like\", \"user\", \"method\", \"work\", \"object\", \"get\", \"class\", \"make\", \"example\", \"anyone\", \"know\", \"thanks\", \"function\", \"something\", \"value\", \"problem\", \"server\", \"question\", \"database\", \"time\", \"error\", \"data\", \"code\", \"file\", \"example\", \"code\", \"work\", \"anyone\", \"data\", \"problem\", \"way\", \"like\", \"thanks\", \"error\", \"value\", \"method\", \"function\", \"something\", \"use\", \"make\", \"know\", \"question\", \"class\", \"application\", \"server\", \"database\", \"time\", \"user\", \"object\", \"get\", \"file\", \"database\", \"user\", \"problem\", \"question\", \"use\", \"object\", \"something\", \"server\", \"value\", \"anyone\", \"example\", \"way\", \"make\", \"know\", \"thanks\", \"function\", \"get\", \"like\", \"work\", \"time\", \"error\", \"class\", \"data\", \"method\", \"file\", \"application\", \"code\", \"code\", \"something\", \"example\", \"use\", \"question\", \"know\", \"problem\", \"anyone\", \"data\", \"time\", \"make\", \"thanks\", \"function\", \"like\", \"value\", \"server\", \"database\", \"work\", \"user\", \"object\", \"error\", \"class\", \"get\", \"method\", \"file\", \"application\", \"way\", \"know\", \"example\", \"like\", \"problem\", \"work\", \"something\", \"make\", \"function\", \"value\", \"class\", \"anyone\", \"method\", \"thanks\", \"use\", \"server\", \"question\", \"database\", \"way\", \"time\", \"user\", \"object\", \"error\", \"get\", \"data\", \"file\", \"application\", \"code\", \"server\", \"use\", \"problem\", \"time\", \"thanks\", \"data\", \"code\", \"anyone\", \"get\", \"make\", \"example\", \"way\", \"know\", \"value\", \"something\", \"work\", \"method\", \"file\", \"function\", \"like\", \"question\", \"database\", \"user\", \"object\", \"error\", \"class\", \"application\", \"question\", \"like\", \"data\", \"method\", \"object\", \"make\", \"thanks\", \"server\", \"anyone\", \"example\", \"work\", \"class\", \"application\", \"use\", \"problem\", \"know\", \"get\", \"function\", \"something\", \"value\", \"database\", \"time\", \"user\", \"error\", \"file\", \"way\", \"code\", \"application\", \"use\", \"get\", \"like\", \"code\", \"way\", \"question\", \"work\", \"file\", \"example\", \"something\", \"anyone\", \"make\", \"know\", \"thanks\", \"function\", \"value\", \"server\", \"database\", \"time\", \"user\", \"object\", \"error\", \"problem\", \"class\", \"data\", \"method\", \"database\", \"data\", \"use\", \"server\", \"application\", \"something\", \"question\", \"like\", \"way\", \"thanks\", \"make\", \"file\", \"problem\", \"anyone\", \"get\", \"method\", \"value\", \"example\", \"object\", \"know\", \"function\", \"work\", \"time\", \"user\", \"error\", \"class\", \"code\", \"way\", \"value\", \"database\", \"get\", \"use\", \"data\", \"time\", \"object\", \"know\", \"something\", \"anyone\", \"user\", \"work\", \"make\", \"thanks\", \"function\", \"problem\", \"like\", \"file\", \"server\", \"question\", \"example\", \"error\", \"class\", \"method\", \"code\", \"application\", \"application\", \"time\", \"problem\", \"server\", \"data\", \"method\", \"thanks\", \"value\", \"file\", \"something\", \"anyone\", \"make\", \"know\", \"function\", \"like\", \"question\", \"example\", \"database\", \"work\", \"user\", \"object\", \"error\", \"class\", \"get\", \"use\", \"way\", \"code\", \"method\", \"class\", \"code\", \"example\", \"value\", \"database\", \"like\", \"function\", \"anyone\", \"thanks\", \"something\", \"question\", \"user\", \"object\", \"make\", \"know\", \"problem\", \"data\", \"server\", \"work\", \"time\", \"error\", \"get\", \"use\", \"file\", \"application\", \"way\", \"file\", \"get\", \"application\", \"use\", \"server\", \"know\", \"something\", \"work\", \"way\", \"problem\", \"thanks\", \"error\", \"question\", \"time\", \"anyone\", \"make\", \"function\", \"like\", \"value\", \"example\", \"database\", \"user\", \"object\", \"class\", \"data\", \"method\", \"code\", \"user\", \"data\", \"time\", \"question\", \"application\", \"thanks\", \"problem\", \"database\", \"something\", \"use\", \"way\", \"example\", \"method\", \"get\", \"know\", \"value\", \"work\", \"error\", \"like\", \"object\", \"anyone\", \"make\", \"function\", \"server\", \"class\", \"code\", \"file\", \"error\", \"thanks\", \"something\", \"code\", \"anyone\", \"application\", \"file\", \"way\", \"question\", \"make\", \"know\", \"function\", \"like\", \"value\", \"server\", \"example\", \"database\", \"work\", \"time\", \"user\", \"object\", \"problem\", \"class\", \"get\", \"data\", \"method\", \"use\", \"problem\", \"error\", \"use\", \"class\", \"file\", \"work\", \"function\", \"get\", \"code\", \"application\", \"make\", \"question\", \"way\", \"something\", \"anyone\", \"method\", \"object\", \"thanks\", \"time\", \"server\", \"like\", \"user\", \"know\", \"value\", \"example\", \"database\", \"data\", \"application\", \"user\", \"file\", \"like\", \"way\", \"something\", \"question\", \"method\", \"code\", \"work\", \"use\", \"data\", \"time\", \"database\", \"problem\", \"object\", \"make\", \"know\", \"anyone\", \"server\", \"thanks\", \"function\", \"value\", \"get\", \"example\", \"error\", \"class\", \"method\", \"thanks\", \"problem\", \"get\", \"know\", \"error\", \"time\", \"value\", \"example\", \"work\", \"code\", \"class\", \"use\", \"object\", \"server\", \"data\", \"like\", \"database\", \"way\", \"anyone\", \"make\", \"function\", \"something\", \"question\", \"user\", \"file\", \"application\", \"example\", \"value\", \"question\", \"something\", \"use\", \"get\", \"class\", \"way\", \"application\", \"code\", \"problem\", \"time\", \"thanks\", \"make\", \"know\", \"database\", \"server\", \"data\", \"object\", \"anyone\", \"function\", \"like\", \"work\", \"user\", \"error\", \"method\", \"file\", \"database\", \"function\", \"use\", \"code\", \"work\", \"problem\", \"make\", \"example\", \"way\", \"know\", \"time\", \"server\", \"question\", \"file\", \"anyone\", \"something\", \"object\", \"data\", \"class\", \"user\", \"thanks\", \"get\", \"like\", \"value\", \"error\", \"method\", \"application\", \"make\", \"thanks\", \"work\", \"question\", \"use\", \"way\", \"method\", \"time\", \"something\", \"file\", \"application\", \"problem\", \"code\", \"data\", \"object\", \"function\", \"like\", \"user\", \"anyone\", \"database\", \"server\", \"example\", \"know\", \"value\", \"error\", \"class\", \"get\", \"question\", \"anyone\", \"code\", \"know\", \"thanks\", \"class\", \"use\", \"way\", \"file\", \"problem\", \"time\", \"make\", \"method\", \"something\", \"example\", \"function\", \"error\", \"database\", \"like\", \"value\", \"server\", \"work\", \"user\", \"object\", \"get\", \"data\", \"application\", \"application\", \"code\", \"something\", \"anyone\", \"file\", \"way\", \"know\", \"thanks\", \"work\", \"make\", \"like\", \"example\", \"get\", \"function\", \"use\", \"value\", \"server\", \"question\", \"database\", \"time\", \"user\", \"object\", \"error\", \"problem\", \"class\", \"data\", \"method\", \"server\", \"database\", \"data\", \"error\", \"example\", \"anyone\", \"know\", \"user\", \"time\", \"application\", \"function\", \"method\", \"make\", \"thanks\", \"use\", \"question\", \"code\", \"problem\", \"value\", \"way\", \"like\", \"get\", \"object\", \"something\", \"work\", \"class\", \"file\", \"user\", \"work\", \"know\", \"make\", \"object\", \"like\", \"get\", \"problem\", \"data\", \"server\", \"code\", \"anyone\", \"example\", \"use\", \"way\", \"something\", \"application\", \"question\", \"value\", \"method\", \"thanks\", \"function\", \"database\", \"time\", \"error\", \"class\", \"file\", \"anyone\", \"make\", \"know\", \"thanks\", \"function\", \"something\", \"like\", \"value\", \"server\", \"question\", \"example\", \"database\", \"work\", \"time\", \"user\", \"object\", \"error\", \"problem\", \"class\", \"get\", \"data\", \"method\", \"use\", \"file\", \"application\", \"way\", \"code\", \"anyone\", \"make\", \"know\", \"thanks\", \"function\", \"something\", \"like\", \"value\", \"server\", \"question\", \"example\", \"database\", \"work\", \"time\", \"user\", \"object\", \"error\", \"problem\", \"class\", \"get\", \"data\", \"method\", \"use\", \"file\", \"application\", \"way\", \"code\", \"anyone\", \"make\", \"know\", \"thanks\", \"function\", \"something\", \"like\", \"value\", \"server\", \"question\", \"example\", \"database\", \"work\", \"time\", \"user\", \"object\", \"error\", \"problem\", \"class\", \"get\", \"data\", \"method\", \"use\", \"file\", \"application\", \"way\", \"code\", \"anyone\", \"make\", \"know\", \"thanks\", \"function\", \"something\", \"like\", \"value\", \"server\", \"question\", \"example\", \"database\", \"work\", \"time\", \"user\", \"object\", \"error\", \"problem\", \"class\", \"get\", \"data\", \"method\", \"use\", \"file\", \"application\", \"way\", \"code\", \"anyone\", \"make\", \"know\", \"thanks\", \"function\", \"something\", \"like\", \"value\", \"server\", \"question\", \"example\", \"database\", \"work\", \"time\", \"user\", \"object\", \"error\", \"problem\", \"class\", \"get\", \"data\", \"method\", \"use\", \"file\", \"application\", \"way\", \"code\", \"anyone\", \"make\", \"know\", \"thanks\", \"function\", \"something\", \"like\", \"value\", \"server\", \"question\", \"example\", \"database\", \"work\", \"time\", \"user\", \"object\", \"error\", \"problem\", \"class\", \"get\", \"data\", \"method\", \"use\", \"file\", \"application\", \"way\", \"code\", \"anyone\", \"make\", \"know\", \"thanks\", \"function\", \"something\", \"like\", \"value\", \"server\", \"question\", \"example\", \"database\", \"work\", \"time\", \"user\", \"object\", \"error\", \"problem\", \"class\", \"get\", \"data\", \"method\", \"use\", \"file\", \"application\", \"way\", \"code\", \"anyone\", \"make\", \"know\", \"thanks\", \"function\", \"something\", \"like\", \"value\", \"server\", \"question\", \"example\", \"database\", \"work\", \"time\", \"user\", \"object\", \"error\", \"problem\", \"class\", \"get\", \"data\", \"method\", \"use\", \"file\", \"application\", \"way\", \"code\", \"anyone\", \"make\", \"know\", \"thanks\", \"function\", \"something\", \"like\", \"value\", \"server\", \"question\", \"example\", \"database\", \"work\", \"time\", \"user\", \"object\", \"error\", \"problem\", \"class\", \"get\", \"data\", \"method\", \"use\", \"file\", \"application\", \"way\", \"code\", \"anyone\", \"make\", \"know\", \"thanks\", \"function\", \"something\", \"like\", \"value\", \"server\", \"question\", \"example\", \"database\", \"work\", \"time\", \"user\", \"object\", \"error\", \"problem\", \"class\", \"get\", \"data\", \"method\", \"use\", \"file\", \"application\", \"way\", \"code\", \"anyone\", \"make\", \"know\", \"thanks\", \"function\", \"something\", \"like\", \"value\", \"server\", \"question\", \"example\", \"database\", \"work\", \"time\", \"user\", \"object\", \"error\", \"problem\", \"class\", \"get\", \"data\", \"method\", \"use\", \"file\", \"application\", \"way\", \"code\", \"anyone\", \"make\", \"know\", \"thanks\", \"function\", \"something\", \"like\", \"value\", \"server\", \"question\", \"example\", \"database\", \"work\", \"time\", \"user\", \"object\", \"error\", \"problem\", \"class\", \"get\", \"data\", \"method\", \"use\", \"file\", \"application\", \"way\", \"code\", \"anyone\", \"make\", \"know\", \"thanks\", \"function\", \"something\", \"like\", \"value\", \"server\", \"question\", \"example\", \"database\", \"work\", \"time\", \"user\", \"object\", \"error\", \"problem\", \"class\", \"get\", \"data\", \"method\", \"use\", \"file\", \"application\", \"way\", \"code\", \"anyone\", \"make\", \"know\", \"thanks\", \"function\", \"something\", \"like\", \"value\", \"server\", \"question\", \"example\", \"database\", \"work\", \"time\", \"user\", \"object\", \"error\", \"problem\", \"class\", \"get\", \"data\", \"method\", \"use\", \"file\", \"application\", \"way\", \"code\", \"time\", \"code\", \"get\", \"error\", \"problem\", \"data\", \"way\", \"application\", \"method\", \"value\", \"like\", \"example\", \"thanks\", \"make\", \"use\", \"function\", \"class\", \"anyone\", \"know\", \"question\", \"something\", \"file\", \"object\", \"server\", \"database\", \"work\", \"user\", \"anyone\", \"make\", \"know\", \"thanks\", \"function\", \"something\", \"like\", \"value\", \"server\", \"question\", \"example\", \"database\", \"work\", \"time\", \"user\", \"object\", \"error\", \"problem\", \"class\", \"get\", \"data\", \"method\", \"use\", \"file\", \"application\", \"way\", \"code\", \"anyone\", \"make\", \"know\", \"thanks\", \"function\", \"something\", \"like\", \"value\", \"server\", \"question\", \"example\", \"database\", \"work\", \"time\", \"user\", \"object\", \"error\", \"problem\", \"class\", \"get\", \"data\", \"method\", \"use\", \"file\", \"application\", \"way\", \"code\", \"anyone\", \"make\", \"know\", \"thanks\", \"function\", \"something\", \"like\", \"value\", \"server\", \"question\", \"example\", \"database\", \"work\", \"time\", \"user\", \"object\", \"error\", \"problem\", \"class\", \"get\", \"data\", \"method\", \"use\", \"file\", \"application\", \"way\", \"code\", \"anyone\", \"make\", \"know\", \"thanks\", \"function\", \"something\", \"like\", \"value\", \"server\", \"question\", \"example\", \"database\", \"work\", \"time\", \"user\", \"object\", \"error\", \"problem\", \"class\", \"get\", \"data\", \"method\", \"use\", \"file\", \"application\", \"way\", \"code\", \"anyone\", \"make\", \"know\", \"thanks\", \"function\", \"something\", \"like\", \"value\", \"server\", \"question\", \"example\", \"database\", \"work\", \"time\", \"user\", \"object\", \"error\", \"problem\", \"class\", \"get\", \"data\", \"method\", \"use\", \"file\", \"application\", \"way\", \"code\", \"problem\", \"question\", \"something\", \"time\", \"make\", \"know\", \"data\", \"user\", \"application\", \"anyone\", \"class\", \"use\", \"method\", \"thanks\", \"function\", \"like\", \"value\", \"server\", \"example\", \"database\", \"work\", \"object\", \"error\", \"get\", \"code\", \"file\", \"way\", \"anyone\", \"make\", \"know\", \"thanks\", \"function\", \"something\", \"like\", \"value\", \"server\", \"question\", \"example\", \"database\", \"work\", \"time\", \"user\", \"object\", \"error\", \"problem\", \"class\", \"get\", \"data\", \"method\", \"use\", \"file\", \"application\", \"way\", \"code\", \"anyone\", \"make\", \"know\", \"thanks\", \"function\", \"something\", \"like\", \"value\", \"server\", \"question\", \"example\", \"database\", \"work\", \"time\", \"user\", \"object\", \"error\", \"problem\", \"class\", \"get\", \"data\", \"method\", \"use\", \"file\", \"application\", \"way\", \"code\", \"thanks\", \"anyone\", \"problem\", \"method\", \"value\", \"example\", \"object\", \"time\", \"error\", \"work\", \"class\", \"make\", \"know\", \"file\", \"function\", \"use\", \"something\", \"like\", \"server\", \"question\", \"database\", \"user\", \"get\", \"data\", \"application\", \"way\", \"code\", \"anyone\", \"make\", \"know\", \"thanks\", \"function\", \"something\", \"like\", \"value\", \"server\", \"question\", \"example\", \"database\", \"work\", \"time\", \"user\", \"object\", \"error\", \"problem\", \"class\", \"get\", \"data\", \"method\", \"use\", \"file\", \"application\", \"way\", \"code\", \"anyone\", \"make\", \"know\", \"thanks\", \"function\", \"something\", \"like\", \"value\", \"server\", \"question\", \"example\", \"database\", \"work\", \"time\", \"user\", \"object\", \"error\", \"problem\", \"class\", \"get\", \"data\", \"method\", \"use\", \"file\", \"application\", \"way\", \"code\", \"value\", \"object\", \"example\", \"class\", \"problem\", \"method\", \"get\", \"code\", \"anyone\", \"file\", \"use\", \"make\", \"know\", \"thanks\", \"function\", \"way\", \"something\", \"like\", \"server\", \"question\", \"database\", \"work\", \"time\", \"user\", \"error\", \"data\", \"application\", \"anyone\", \"make\", \"know\", \"thanks\", \"function\", \"something\", \"like\", \"value\", \"server\", \"question\", \"example\", \"database\", \"work\", \"time\", \"user\", \"object\", \"error\", \"problem\", \"class\", \"get\", \"data\", \"method\", \"use\", \"file\", \"application\", \"way\", \"code\", \"object\", \"class\", \"server\", \"file\", \"database\", \"time\", \"thanks\", \"code\", \"application\", \"data\", \"anyone\", \"problem\", \"make\", \"know\", \"function\", \"something\", \"like\", \"value\", \"use\", \"question\", \"example\", \"work\", \"user\", \"error\", \"get\", \"method\", \"way\", \"anyone\", \"make\", \"know\", \"thanks\", \"function\", \"something\", \"like\", \"value\", \"server\", \"question\", \"example\", \"database\", \"work\", \"time\", \"user\", \"object\", \"error\", \"problem\", \"class\", \"get\", \"data\", \"method\", \"use\", \"file\", \"application\", \"way\", \"code\", \"anyone\", \"make\", \"know\", \"thanks\", \"function\", \"something\", \"like\", \"value\", \"server\", \"question\", \"example\", \"database\", \"work\", \"time\", \"user\", \"object\", \"error\", \"problem\", \"class\", \"get\", \"data\", \"method\", \"use\", \"file\", \"application\", \"way\", \"code\", \"anyone\", \"make\", \"know\", \"function\", \"thanks\", \"something\", \"like\", \"value\", \"server\", \"question\", \"example\", \"work\", \"database\", \"time\", \"user\", \"object\", \"error\", \"problem\", \"class\", \"get\", \"data\", \"method\", \"use\", \"file\", \"application\", \"way\", \"code\", \"anyone\", \"make\", \"know\", \"thanks\", \"function\", \"something\", \"like\", \"value\", \"server\", \"question\", \"example\", \"database\", \"work\", \"time\", \"user\", \"object\", \"error\", \"problem\", \"class\", \"get\", \"data\", \"method\", \"use\", \"file\", \"application\", \"way\", \"code\", \"use\", \"get\", \"time\", \"database\", \"object\", \"code\", \"question\", \"user\", \"application\", \"example\", \"file\", \"function\", \"like\", \"thanks\", \"problem\", \"anyone\", \"method\", \"something\", \"value\", \"work\", \"way\", \"make\", \"know\", \"server\", \"error\", \"class\", \"data\", \"anyone\", \"make\", \"know\", \"thanks\", \"function\", \"something\", \"like\", \"value\", \"server\", \"question\", \"example\", \"database\", \"work\", \"time\", \"user\", \"object\", \"error\", \"problem\", \"class\", \"get\", \"data\", \"method\", \"use\", \"file\", \"application\", \"way\", \"code\", \"anyone\", \"make\", \"know\", \"thanks\", \"function\", \"something\", \"like\", \"value\", \"server\", \"question\", \"example\", \"database\", \"work\", \"time\", \"user\", \"object\", \"error\", \"problem\", \"class\", \"get\", \"data\", \"method\", \"use\", \"file\", \"application\", \"way\", \"code\", \"object\", \"problem\", \"like\", \"make\", \"question\", \"code\", \"use\", \"work\", \"time\", \"way\", \"example\", \"class\", \"server\", \"application\", \"user\", \"method\", \"file\", \"anyone\", \"data\", \"know\", \"thanks\", \"function\", \"something\", \"value\", \"database\", \"error\", \"get\"], \"Freq\": [814.0, 828.0, 653.0, 624.0, 613.0, 718.0, 943.0, 669.0, 713.0, 597.0, 634.0, 599.0, 849.0, 606.0, 511.0, 776.0, 618.0, 615.0, 585.0, 554.0, 523.0, 694.0, 497.0, 660.0, 442.0, 514.0, 544.0, 424.4826671813592, 44.969667432246325, 29.848826158293043, 34.410239652590896, 29.08652475354044, 33.82343865958689, 23.214399486622934, 20.046745550918455, 21.074889084383596, 23.29262542159088, 20.18857358564945, 16.636584597740036, 13.782460336012848, 12.644776895157335, 9.710692789043533, 6.424858896899405, 4.30270557545896, 2.5319597548181636, 1.958860783142439, 0.010946318465279433, 0.010946318465279433, 0.010946318465279433, 0.010946318465279433, 0.010946318465279433, 0.010946318465279433, 0.010946318465279433, 0.010946318465279433, 403.75685006303587, 49.95975907922045, 31.29696997258905, 25.214510887964693, 32.10361714195032, 20.435178769229065, 20.63816520582319, 20.792467053338413, 19.00880297498655, 22.452722947636783, 17.910475116776098, 20.770817443278368, 18.949635057377, 14.40421576352842, 14.032135855721371, 13.824585016585672, 4.5915509903900045, 6.1203615532356554, 4.9492622073720085, 2.588199962544373, 0.009965879642709502, 0.009965879642709502, 0.009965879642709502, 0.009965879642709502, 0.009965879642709502, 0.009965879642709502, 0.009965879642709502, 583.4998541344394, 30.51840298150274, 13.84040101269507, 10.96778753453396, 7.265436568709139, 7.974189224906595, 6.077711233313982, 0.009748177609208973, 0.009748177609208973, 0.009748177609208973, 0.009748177609208973, 0.009748177609208973, 0.009748177609208973, 0.009748177609208973, 0.009748177609208973, 0.009748177609208973, 0.009748177609208973, 0.009748177609208973, 0.009748177609208973, 0.009748177609208973, 0.009748177609208973, 0.009748177609208973, 0.009748177609208973, 0.009748177609208973, 0.009748177609208973, 0.009748177609208973, 0.009748177609208973, 441.0508808725797, 28.73513940386717, 25.546472701610707, 25.473748471043265, 16.838660693814948, 19.420157767660793, 14.623607387554987, 14.988885702727933, 9.048785090385516, 0.009779357589614708, 0.009779357589614708, 0.009779357589614708, 0.009779357589614708, 0.009779357589614708, 0.009779357589614708, 0.009779357589614708, 0.009779357589614708, 0.009779357589614708, 0.009779357589614708, 0.009779357589614708, 0.009779357589614708, 0.009779357589614708, 0.009779357589614708, 0.009779357589614708, 0.009779357589614708, 0.009779357589614708, 0.009779357589614708, 441.06673976609363, 30.828036715373095, 28.101017463233127, 22.867314475631904, 28.473017264248885, 16.229153280060135, 9.997056297020833, 8.855799991969496, 5.315273598859614, 2.207111766356055, 0.15992412649200885, 0.013862312185835616, 0.013660211316443157, 0.01482371365889556, 0.013645567908260492, 0.010583717305935674, 0.010583717305935674, 0.012893636573276104, 0.010583717305935674, 0.013007193793072684, 0.01059061092870113, 0.013749057649804807, 0.010583717305935674, 0.010583717305935674, 0.010583717305935674, 0.012614728617305572, 0.010583717305935674, 286.55965851387447, 46.77028383026252, 31.71674141569204, 28.531124773418153, 32.46102876952604, 22.08188209631898, 16.884122081748103, 18.3700096433742, 13.65242819886227, 10.072258965289098, 10.635390394928065, 6.227699909736266, 4.260354828788551, 5.58952977658925, 2.2584280218119672, 1.71459004025502, 0.010499606384039415, 0.010499606384039415, 0.010499606384039415, 0.010499606384039415, 0.010499606384039415, 0.010499606384039415, 0.010499606384039415, 0.010499606384039415, 0.010499606384039415, 0.010499606384039415, 0.010499606384039415, 253.61084502103782, 159.93301401976277, 29.11963002371545, 20.888393032417852, 12.4844078273622, 17.008246480179526, 8.694703940504162, 4.960668653498722, 3.3818068927546836, 1.7921724327149329, 0.9036636498030991, 0.009206412538623162, 0.009206412538623162, 0.009206412538623162, 0.009206412538623162, 0.009206412538623162, 0.009206412538623162, 0.009206412538623162, 0.009206412538623162, 0.009206412538623162, 0.009206412538623162, 0.009206412538623162, 0.009206412538623162, 0.009206412538623162, 0.009206412538623162, 0.009206412538623162, 0.009206412538623162, 308.59988708381087, 41.84780921851419, 21.559203953347847, 30.074687544051493, 19.79623776911361, 26.624323987788273, 16.39266196789, 14.275598281223667, 10.836983472665242, 8.564682125270666, 6.947163612425906, 2.2747579944741223, 0.904029311131459, 0.6257897290764596, 0.4382282775059843, 0.41525989282888637, 0.03132370219206962, 0.03189565036637674, 0.024647812175754014, 0.022567088156419154, 0.010571252780105104, 0.010571252780105104, 0.010571252780105104, 0.010571252780105104, 0.010571252780105104, 0.010571252780105104, 0.010571252780105104, 440.2083036479274, 14.07307150375171, 11.049103626998503, 11.902614805809952, 6.623827777203475, 7.465272081021346, 6.094775035878893, 5.190845501189111, 4.590139736709061, 1.4099450408018055, 0.01925741300848238, 0.011090546963245285, 0.011090546963245285, 0.011090546963245285, 0.011090546963245285, 0.011090546963245285, 0.011090546963245285, 0.011090546963245285, 0.011090546963245285, 0.011090546963245285, 0.011090546963245285, 0.011090546963245285, 0.011090546963245285, 0.011090546963245285, 0.011090546963245285, 0.011090546963245285, 0.011090546963245285, 338.78418749292183, 32.852017638091766, 19.581527256960676, 14.936705607940857, 16.395503463980244, 21.772386421601407, 11.35042015310415, 10.01894887470654, 10.598906289607836, 9.67166223853314, 5.367623903694407, 4.265242446131561, 2.221428698761416, 2.599964933660597, 0.5038800881522327, 0.12122767121314047, 0.023469365149139585, 0.010377510706062491, 0.013454187143984516, 0.014690576583473051, 0.010377510706062491, 0.010377510706062491, 0.010377510706062491, 0.010377510706062491, 0.010377510706062491, 0.010377510706062491, 0.010377510706062491, 358.3987819918465, 35.18770801263871, 21.994082006271093, 11.750075312417398, 15.433045135546212, 8.018269896073019, 8.35028891860653, 7.819388567779385, 6.990535148619818, 5.856076315058821, 2.4526334985699036, 1.6061613504131165, 1.1332971752883216, 0.6465689227172916, 0.18090830201076502, 0.061672122243652955, 0.02886800201257558, 0.02340762107767966, 0.01890980600259842, 0.016305925714449207, 0.010496254245303756, 0.0137783879967665, 0.014902465131933424, 0.010496254245303756, 0.010496254245303756, 0.010496254245303756, 0.010496254245303756, 389.08526844949625, 22.342010032596853, 14.536852382834915, 16.245890715814514, 6.765200653029755, 8.376311246758904, 4.934387847006102, 4.653481786405277, 1.8975315438412734, 1.4490972017568318, 1.0802240393997904, 0.24239400518308, 0.04867908243366643, 0.024133929286326485, 0.017832217058265435, 0.011560157145587526, 0.011560157145587526, 0.011560157145587526, 0.011560157145587526, 0.011560157145587526, 0.011560157145587526, 0.011560157145587526, 0.011560157145587526, 0.011560157145587526, 0.011560157145587526, 0.011560157145587526, 0.011560157145587526, 238.41876090481696, 25.452165225829255, 22.62265043807702, 30.285061530186855, 16.327188216228453, 15.02058488154068, 17.51223544560396, 17.042679172796532, 13.894953190533307, 16.13614388222824, 8.09069873892944, 7.332749307007857, 6.883523474026598, 5.46988241870765, 6.730592784686099, 4.958342071694674, 2.5985987468201333, 2.3278396339803926, 1.7179244091003656, 0.010281934515610736, 0.010281934515610736, 0.010281934515610736, 0.010281934515610736, 0.010281934515610736, 0.010281934515610736, 0.010281934515610736, 0.010281934515610736, 312.6644894353982, 37.50136704045656, 28.132196042469857, 26.177675115938293, 12.201387003655837, 10.747772142376272, 9.643744551083218, 4.394906010013777, 3.497279227844975, 1.2867214607058686, 0.010300645900157165, 0.010300645900157165, 0.010300645900157165, 0.010300645900157165, 0.010300645900157165, 0.010300645900157165, 0.010300645900157165, 0.010300645900157165, 0.010300645900157165, 0.010300645900157165, 0.010300645900157165, 0.010300645900157165, 0.010300645900157165, 0.010300645900157165, 0.010300645900157165, 0.010300645900157165, 0.010300645900157165, 308.2853149406692, 21.76310961176932, 23.88517139895401, 13.904129618841928, 11.595265328669289, 9.41158443016939, 11.756005217487077, 9.746307594649343, 6.844233435710751, 6.239345096761812, 7.11659065331687, 5.472096032865908, 2.6244025208015898, 2.2490049852195093, 1.3972919469909308, 0.8354239043722291, 0.7253590139196086, 0.5842004658466706, 0.24275407268867155, 0.010733279890680944, 0.010733279890680944, 0.010733279890680944, 0.010733279890680944, 0.010733279890680944, 0.010733279890680944, 0.010733279890680944, 0.010733279890680944, 325.85075456115186, 34.450937776059455, 14.233269174558904, 11.349767677039978, 9.20313023190959, 5.839122886285046, 2.2629435308118544, 1.7379765186901124, 0.6672190291148941, 0.028487465825709758, 0.022945929607991578, 0.01628700760313658, 0.0171751930150245, 0.010835957106868278, 0.010835957106868278, 0.010835957106868278, 0.010835957106868278, 0.015956424005988745, 0.010835957106868278, 0.010835957106868278, 0.010835957106868278, 0.010835957106868278, 0.010835957106868278, 0.010835957106868278, 0.010835957106868278, 0.010835957106868278, 0.010835957106868278, 253.3820217320825, 57.83460504953806, 19.069004034457393, 16.007422687890976, 24.598530655379356, 8.669121745870362, 6.291220208638612, 3.25634998315989, 0.013947029152402752, 0.013947029152402752, 0.013947029152402752, 0.013947029152402752, 0.013947029152402752, 0.013947029152402752, 0.013947029152402752, 0.013947029152402752, 0.013947029152402752, 0.013947029152402752, 0.013947029152402752, 0.013947029152402752, 0.013947029152402752, 0.013947029152402752, 0.013947029152402752, 0.013947029152402752, 0.013947029152402752, 0.013947029152402752, 0.013947029152402752, 360.67848873972457, 16.022999269851315, 2.4276782726490014, 0.7302629599697107, 0.826995494460327, 0.04854709953695539, 0.027469347726257396, 0.015162770189059007, 0.019070638959095308, 0.014893232267378155, 0.01482169694454872, 0.01728203271733659, 0.01513492925742126, 0.01136671495300792, 0.014635690134713638, 0.01136671495300792, 0.01136671495300792, 0.01136671495300792, 0.01136671495300792, 0.01136671495300792, 0.01136671495300792, 0.01136671495300792, 0.013617283132805694, 0.01136671495300792, 0.01136671495300792, 0.01136671495300792, 0.01136671495300792, 306.21434932976115, 32.384231893618924, 21.71599709273318, 4.003437964914935, 3.0052363026509923, 1.2615488959180716, 0.2980323958246527, 0.023130750297618345, 0.02244762030391685, 0.020147318484314326, 0.014323891946032988, 0.013975247954948259, 0.009835213362773987, 0.009835213362773987, 0.009835213362773987, 0.009835213362773987, 0.009835213362773987, 0.009835213362773987, 0.01098182645405881, 0.009835213362773987, 0.009835213362773987, 0.009835213362773987, 0.009835213362773987, 0.009835213362773987, 0.009835213362773987, 0.012466942103353328, 0.009835213362773987, 297.25534956298884, 23.677783342569757, 13.420199940331214, 5.439602093845771, 8.558632457741368, 5.437853863984872, 6.646553463995399, 4.248570679306403, 2.7415886364432422, 1.179536751664164, 0.03632753221131249, 0.041052786555758586, 0.024607562583525363, 0.0243410937880725, 0.03074253770748556, 0.018075462598339417, 0.017810581604396726, 0.019224668502518256, 0.017575952054442026, 0.018422554934717554, 0.011769250530618091, 0.011769250530618091, 0.011769250530618091, 0.011769250530618091, 0.011769250530618091, 0.011769250530618091, 0.011769250530618091, 309.15915548434845, 45.30153276812121, 8.898000489425772, 1.2259223272297823, 0.6936397353825302, 0.1929197736011467, 0.03504262125538545, 0.025651933115799976, 0.021898626378045554, 0.014963098604103948, 0.01995191922996792, 0.027180629423280787, 0.014963098604103948, 0.014963098604103948, 0.014963098604103948, 0.014963098604103948, 0.01938531478753563, 0.014963098604103948, 0.014963098604103948, 0.014963098604103948, 0.014963098604103948, 0.014963098604103948, 0.014963098604103948, 0.014963098604103948, 0.014963098604103948, 0.014963098604103948, 0.014963098604103948, 331.09120574721885, 10.949848034006761, 7.929978340589935, 7.367968418522021, 1.307926316604998, 0.5121368907127891, 0.4744207996612142, 0.2870268528084008, 0.3402384912842173, 0.2419293304136971, 0.00991744164093405, 0.00991744164093405, 0.00991744164093405, 0.00991744164093405, 0.00991744164093405, 0.00991744164093405, 0.00991744164093405, 0.00991744164093405, 0.00991744164093405, 0.00991744164093405, 0.00991744164093405, 0.00991744164093405, 0.00991744164093405, 0.00991744164093405, 0.00991744164093405, 0.00991744164093405, 0.00991744164093405, 322.5433464062152, 9.616221814713828, 1.9897761211878984, 1.570653014264425, 0.04356533165892251, 0.024690591272234438, 0.018726872746170884, 0.019021204479714143, 0.018836760244866035, 0.0178583604929103, 0.011080899853400862, 0.017541897211732643, 0.011080899853400862, 0.015752260458534253, 0.011080899853400862, 0.011080899853400862, 0.011080899853400862, 0.015241034178723585, 0.011080899853400862, 0.011080899853400862, 0.011080899853400862, 0.011080899853400862, 0.011080899853400862, 0.011080899853400862, 0.011080899853400862, 0.011080899853400862, 0.011080899853400862, 178.7435554052816, 20.13843530248204, 16.51741911762633, 15.057001863133534, 11.495089510983068, 14.239106259042835, 16.546620680063878, 6.482397130626519, 8.679806288077312, 5.5650502636926475, 6.454915544081656, 8.431620437202024, 4.870329932080536, 5.3643330044711055, 4.6856924837281495, 4.186984569705793, 4.208545050404795, 2.945524173806854, 0.008428305960393215, 0.008428305960393215, 0.008428305960393215, 0.008428305960393215, 0.008428305960393215, 0.008428305960393215, 0.008428305960393215, 0.008428305960393215, 0.008428305960393215, 314.95041707371075, 1.6845857684827648, 1.6341634141124681, 1.259093377410108, 0.29020332479228844, 0.016237066697065844, 0.01568388680257587, 0.016268957809130506, 0.011514750449138942, 0.015690868515138963, 0.015507514418784445, 0.015895202686860295, 0.019356069630588044, 0.018040565916277833, 0.015223870554442772, 0.011514750449138942, 0.01526674141397112, 0.011514750449138942, 0.011514750449138942, 0.011514750449138942, 0.011514750449138942, 0.011514750449138942, 0.011514750449138942, 0.011514750449138942, 0.011514750449138942, 0.011514750449138942, 0.011514750449138942, 235.2863882417993, 14.956322965642372, 12.975850118253499, 6.225463268563248, 9.701477475239997, 8.438577587869688, 5.2183882173123415, 4.527780529068351, 3.8564786779227975, 1.4673182252802623, 0.04158414763419624, 0.010483825871316394, 0.010483209959193864, 0.010483209959193864, 0.010483209959193864, 0.010483209959193864, 0.010483209959193864, 0.010483479902789606, 0.010483455662956519, 0.010483209959193864, 0.010483498633569718, 0.010483209959193864, 0.010483209959193864, 0.010483209959193864, 0.010483209959193864, 0.01048398563385265, 0.010483209959193864, 134.77046439789606, 33.32565061394774, 18.895632963214688, 11.236441813823852, 14.502373451674048, 8.170603000538746, 8.440251186755948, 7.664088528112377, 11.668563210475009, 6.18842516855772, 5.419673395446593, 7.44095865968182, 6.027143622876367, 3.494073874955663, 5.229125279416558, 3.568920672881785, 1.9615247956275548, 1.9235417698513415, 1.21568232990068, 0.007319161276495836, 0.007319161276495836, 0.007319161276495836, 0.007319161276495836, 0.007319161276495836, 0.007319161276495836, 0.007319161276495836, 0.007319161276495836, 279.6032948149234, 0.348982834470268, 0.18390583128717236, 0.19680022652168358, 0.15519270528850607, 0.03770368351094408, 0.0310473117433111, 0.01824001043029126, 0.014232640901951685, 0.01389158161208408, 0.010845755292335066, 0.01439816491425778, 0.013766781996656251, 0.010845755292335066, 0.010845755292335066, 0.010845755292335066, 0.013560776718199519, 0.010845755292335066, 0.015514960372690848, 0.010845755292335066, 0.010845755292335066, 0.010845755292335066, 0.010845755292335066, 0.010845755292335066, 0.010845755292335066, 0.012916623308051265, 0.010845755292335066, 156.67217907554362, 34.27650821877479, 12.025286169261067, 3.921348911065609, 3.693996143986147, 1.5007696513922673, 0.06817972736335974, 0.05863176050035032, 0.051776145024600824, 0.03253916470567884, 0.01593261502981345, 0.01593261502981345, 0.01593261502981345, 0.01593261502981345, 0.01593261502981345, 0.01593261502981345, 0.01593261502981345, 0.01593261502981345, 0.01593261502981345, 0.01593261502981345, 0.01593261502981345, 0.01593261502981345, 0.01593261502981345, 0.01593261502981345, 0.01593261502981345, 0.01593261502981345, 0.01593261502981345, 107.28825804817806, 68.04288706744754, 33.21791568575272, 0.7540012684407299, 0.46117867360796455, 0.06948536938801447, 0.06026991055663804, 0.043796743618869045, 0.033328005103894484, 0.01973932637688977, 0.019862284984217934, 0.019808926165944186, 0.020509434502259567, 0.02030033678471457, 0.015588021025205892, 0.015588021025205892, 0.019363496696007666, 0.01968832682163475, 0.015588021025205892, 0.015588021025205892, 0.015588021025205892, 0.015588021025205892, 0.015588021025205892, 0.015588021025205892, 0.015588021025205892, 0.015588021025205892, 0.015588021025205892, 64.25669711359099, 16.038843750346, 16.65829631210922, 15.068308268703674, 10.016421355496696, 7.870358429432634, 8.017099464521438, 8.328856887345204, 11.126637771988984, 7.549782740899486, 5.725196747853471, 5.985272266995607, 4.871014321273421, 3.0527824184423644, 2.1468662015446496, 2.032204474930224, 0.010227215981068013, 0.010227215981068013, 0.010227215981068013, 0.010227215981068013, 0.010227215981068013, 0.010227215981068013, 0.010227215981068013, 0.010227215981068013, 0.010227215981068013, 0.010227215981068013, 0.010227215981068013, 64.49745802066667, 20.15341895457469, 7.9219782790921, 7.610608345221547, 10.166860619476886, 5.017479180506623, 6.120121942670255, 5.604901350806064, 4.24122749009499, 5.708318095034648, 6.091212133415118, 4.140868648586353, 4.229498893726831, 3.887411337721881, 2.1059278488617155, 2.2289173284454127, 2.246639851812883, 0.689319765112462, 0.2412139034585612, 0.15875699319334258, 0.019344288075835846, 0.014945898222633845, 0.014945898222633845, 0.014945898222633845, 0.014945898222633845, 0.018327846861140657, 0.014945898222633845, 79.80474606825146, 11.693661188345844, 10.338218256658864, 17.507246932263293, 7.4386601262922545, 12.99029659332863, 7.203866454003073, 4.397109411552959, 2.9863643211977755, 0.8347006417506627, 0.010733786636372412, 0.010733786636372412, 0.010733786636372412, 0.010733786636372412, 0.010733786636372412, 0.010733786636372412, 0.010733786636372412, 0.010733786636372412, 0.010733786636372412, 0.010733786636372412, 0.010733786636372412, 0.010733786636372412, 0.010733786636372412, 0.010733786636372412, 0.010733786636372412, 0.010733786636372412, 0.010733786636372412, 31.31621219602217, 23.586554827894584, 7.61002529053095, 5.186699576337457, 5.518019862176278, 4.052707080409054, 3.424203838684838, 4.433836951824991, 5.228890653710512, 3.889507354897099, 1.978869751533307, 1.9054600786301188, 2.636031572452732, 1.375333754364161, 1.1101442210310337, 1.4171190470825141, 1.1304112869316463, 0.8885456158503382, 0.7032921168486477, 0.4432822844452714, 0.38450122931881386, 0.35631723800081455, 0.021297608614197546, 0.021297608614197546, 0.021297608614197546, 0.021297608614197546, 0.021297608614197546, 32.40150356041655, 16.596542109410365, 13.495185605045377, 7.15110957548094, 7.005208452457412, 3.1555454666276783, 3.177120351610331, 2.8583825277351713, 3.618920343253824, 2.2867598217822596, 2.698324331434287, 1.2277078388202212, 1.0150247584977787, 0.9270785693255088, 0.6300396704249073, 0.043049712835185105, 0.022619841063686856, 0.022548954719847344, 0.019093844312453576, 0.02282556470457069, 0.019093844312453576, 0.019093844312453576, 0.019093844312453576, 0.02189364344927791, 0.019093844312453576, 0.019093844312453576, 0.019093844312453576, 29.83567669388243, 8.048739277107558, 8.964909683587134, 8.795253269606576, 6.124611741175422, 5.106700568933334, 4.749499666398256, 4.177824646882461, 2.9921443651003523, 2.5993800290848075, 3.5443111694769955, 2.4896924510903506, 2.421612232726284, 0.9828387355430209, 0.8744277141652771, 0.7733359500318073, 0.5259381747426473, 0.5737139823488745, 0.2392216590691817, 0.02158045719615764, 0.02158045719615764, 0.02158045719615764, 0.02158045719615764, 0.02158045719615764, 0.02158045719615764, 0.02158045719615764, 0.02158045719615764, 29.503996314444073, 8.749983545954105, 6.239662187897555, 5.1209572659606755, 6.763245225235604, 5.343552668089058, 5.087399343918144, 5.035450874890598, 4.648767291331896, 4.403676013304016, 2.6260479968705734, 2.258358192300647, 1.4185321733615346, 1.2536991156071267, 1.1489414897596315, 1.1288983384309805, 1.0610672036192377, 1.0517418058620298, 0.5398433776732108, 0.27256370886696446, 0.007492592088881252, 0.007492592088881252, 0.007492592088881252, 0.007492592088881252, 0.007492592088881252, 0.007492592088881252, 0.007492592088881252, 21.923495735590233, 9.440575417838131, 12.92659707253504, 8.108061826716634, 5.0992924922621405, 5.352540952850433, 3.6504661789565316, 3.560998578292125, 4.662274570221652, 2.7047678666267734, 2.4637217187200373, 1.8256462827247806, 1.6794024334800706, 2.0911064696731505, 1.0537797812555918, 0.7716088020196741, 0.8751112728013088, 0.63342352386787, 0.57207777487259, 0.5058328365873426, 0.09263948500913109, 0.11792521387167716, 0.06468182638456643, 0.018181707135604172, 0.018181707135604172, 0.018181707135604172, 0.018181707135604172, 18.74841748170562, 7.1882315933467265, 6.668814749291938, 5.469352773379502, 7.061722454724172, 6.215150394835815, 4.55002416146433, 3.841154253736323, 3.2570235652239896, 4.72290505761173, 4.704426143175409, 2.7389003630216133, 3.4506963498282417, 2.477832995105989, 1.767154051017315, 1.3173247947248692, 1.1070219855104309, 1.2152217710528257, 0.2951256525888619, 0.3715228432366045, 0.35347675216550395, 0.26824309894169357, 0.01590589553067528, 0.01590589553067528, 0.01590589553067528, 0.01590589553067528, 0.01590589553067528, 20.93411196911909, 7.120529317817472, 14.292571185415618, 7.619114600130735, 6.347760538222947, 4.348141717363279, 4.112578074549953, 3.9216888104040177, 3.348048118773983, 2.507830105925709, 2.0775596305028334, 1.4386038270563153, 1.8885706326874678, 1.1131136034624596, 0.8620742505039262, 0.3983383736759194, 0.3499220422772622, 0.30660017081428614, 0.017615930835334255, 0.017615930835334255, 0.017615930835334255, 0.017615930835334255, 0.017615930835334255, 0.017615930835334255, 0.017615930835334255, 0.017615930835334255, 0.017615930835334255, 28.89188742362865, 16.22933401536175, 7.334761051446569, 5.247233318360349, 6.360330604848834, 5.01019006028993, 2.656528826814276, 1.977242625667049, 2.121194594689037, 1.206212424714298, 1.0489230114484316, 1.049515985280994, 0.7943294087333277, 0.46581535643384014, 0.6381819546498592, 0.021924868176061086, 0.021924868176061086, 0.021924868176061086, 0.021924868176061086, 0.021924868176061086, 0.021924868176061086, 0.021924868176061086, 0.021924868176061086, 0.021924868176061086, 0.021924868176061086, 0.021924868176061086, 0.021924868176061086, 11.474206218994599, 11.467746777582756, 9.734630114309185, 8.04523081184676, 7.061247577428058, 2.9264562870793442, 2.9263629776170887, 2.7964328735902733, 2.762942287619051, 2.8191501166021076, 1.5621771950274967, 2.0001852439492516, 1.378127169567003, 1.4139632029811038, 2.056221909290246, 1.467190040196324, 1.8291533328922753, 0.7959030635075699, 0.6610068305697228, 0.8876123984827724, 0.5510284489793497, 0.5104663490787811, 0.2706427952941094, 0.03714207925879379, 0.03714207925879379, 0.03714207925879379, 0.03714207925879379, 16.284132138440317, 7.9180151425198915, 5.536952936683361, 5.2084858712317095, 4.633546477421114, 3.880989518838069, 4.148823452738067, 3.668201014936449, 3.789998904966623, 3.026799322782596, 4.084472390434458, 1.8537214310227204, 2.3892555996931413, 2.671367678568796, 2.7404195331135432, 1.120988321882109, 1.693951259325166, 1.1838374300630674, 0.5624531125195378, 0.6696774012270983, 0.17206042456385118, 0.01834918239546866, 0.01834918239546866, 0.01834918239546866, 0.01834918239546866, 0.01834918239546866, 0.01834918239546866, 2.812532736933157, 2.812532736933157, 2.812532736933157, 2.812532736933157, 2.812532736933157, 2.812532736933157, 2.812532736933157, 2.812532736933157, 2.812532736933157, 2.812532736933157, 2.812532736933157, 2.812532736933157, 2.812532736933157, 2.812532736933157, 2.812532736933157, 2.812532736933157, 2.812532736933157, 2.812532736933157, 2.812532736933157, 2.812532736933157, 2.812532736933157, 2.812532736933157, 2.812532736933157, 2.812532736933157, 2.812532736933157, 2.812532736933157, 2.812532736933157, 2.812532736933157, 2.812532736933157, 2.812532736933157, 2.812532736933157, 2.812532736933157, 2.812532736933157, 2.812532736933157, 2.812532736933157, 2.812532736933157, 2.812532736933157, 2.812532736933157, 2.812532736933157, 2.812532736933157, 2.812532736933157, 2.812532736933157, 2.812532736933157, 2.812532736933157, 2.812532736933157, 2.812532736933157, 2.812532736933157, 2.812532736933157, 2.812532736933157, 2.812532736933157, 2.812532736933157, 2.812532736933157, 2.812532736933157, 2.812532736933157, 2.812532736933157, 2.812532736933157, 2.812532736933157, 2.812532736933157, 2.812532736933157, 2.812532736933157, 2.812532736933157, 2.812532736933157, 2.812532736933157, 2.812532736933157, 2.812532736933157, 2.812532736933157, 2.812532736933157, 2.812532736933157, 2.812532736933157, 2.812532736933157, 2.812532736933157, 2.812532736933157, 2.812532736933157, 2.812532736933157, 2.812532736933157, 2.812532736933157, 2.812532736933157, 2.812532736933157, 2.812532736933157, 2.812532736933157, 2.812532736933157, 2.812532736933157, 2.812532736933157, 2.812532736933157, 2.812532736933157, 2.812532736933157, 2.812532736933157, 2.812532736933157, 2.812532736933157, 2.812532736933157, 2.812532736933157, 2.812532736933157, 2.812532736933157, 2.812532736933157, 2.812532736933157, 2.812532736933157, 2.812532736933157, 2.812532736933157, 2.812532736933157, 2.812532736933157, 2.812532736933157, 2.812532736933157, 2.812532736933157, 2.812532736933157, 2.812532736933157, 2.812532736933157, 2.812532736933157, 2.812532736933157, 2.812532736933157, 2.812532736933157, 2.812532736933157, 2.812532736933157, 2.812532736933157, 2.812532736933157, 2.812532736933157, 2.812532736933157, 2.812532736933157, 2.812532736933157, 2.812532736933157, 2.812532736933157, 2.812532736933157, 2.812532736933157, 2.812532736933157, 2.812532736933157, 2.812532736933157, 2.812532736933157, 2.812532736933157, 2.812532736933157, 2.812532736933157, 2.812532736933157, 2.812532736933157, 2.812532736933157, 2.812532736933157, 2.812532736933157, 2.812532736933157, 2.812532736933157, 2.812532736933157, 2.812532736933157, 2.812532736933157, 2.812532736933157, 2.812532736933157, 2.812532736933157, 2.812532736933157, 2.812532736933157, 2.812532736933157, 2.812532736933157, 2.812532736933157, 2.812532736933157, 2.812532736933157, 2.812532736933157, 2.812532736933157, 2.812532736933157, 2.812532736933157, 2.812532736933157, 2.812532736933157, 2.812532736933157, 2.812532736933157, 2.812532736933157, 2.812532736933157, 2.812532736933157, 2.812532736933157, 2.812532736933157, 2.812532736933157, 2.812532736933157, 2.812532736933157, 2.812532736933157, 2.812532736933157, 2.812532736933157, 2.812532736933157, 2.812532736933157, 2.812532736933157, 2.812532736933157, 2.812532736933157, 2.812532736933157, 2.812532736933157, 2.812532736933157, 2.812532736933157, 2.812532736933157, 2.812532736933157, 2.812532736933157, 2.812532736933157, 2.812532736933157, 2.812532736933157, 2.812532736933157, 2.812532736933157, 2.812532736933157, 2.812532736933157, 2.812532736933157, 2.812532736933157, 2.812532736933157, 2.812532736933157, 2.812532736933157, 2.812532736933157, 2.812532736933157, 2.812532736933157, 2.812532736933157, 2.812532736933157, 2.812532736933157, 2.812532736933157, 2.812532736933157, 2.812532736933157, 2.812532736933157, 2.812532736933157, 2.812532736933157, 2.812532736933157, 2.812532736933157, 2.812532736933157, 2.812532736933157, 2.812532736933157, 2.812532736933157, 2.812532736933157, 2.812532736933157, 2.812532736933157, 2.812532736933157, 2.812532736933157, 2.812532736933157, 2.812532736933157, 2.812532736933157, 2.812532736933157, 2.812532736933157, 2.812532736933157, 2.812532736933157, 2.812532736933157, 2.812532736933157, 2.812532736933157, 2.812532736933157, 2.812532736933157, 2.812532736933157, 2.812532736933157, 2.812532736933157, 2.812532736933157, 2.812532736933157, 2.812532736933157, 2.812532736933157, 2.812532736933157, 2.812532736933157, 2.812532736933157, 2.812532736933157, 2.812532736933157, 2.812532736933157, 2.812532736933157, 2.812532736933157, 2.812532736933157, 2.812532736933157, 2.812532736933157, 2.812532736933157, 2.812532736933157, 2.812532736933157, 2.812532736933157, 2.812532736933157, 2.812532736933157, 2.812532736933157, 2.812532736933157, 2.812532736933157, 2.812532736933157, 2.812532736933157, 2.812532736933157, 2.812532736933157, 2.812532736933157, 2.812532736933157, 2.812532736933157, 2.812532736933157, 2.812532736933157, 2.812532736933157, 2.812532736933157, 2.812532736933157, 2.812532736933157, 2.812532736933157, 2.812532736933157, 2.812532736933157, 2.812532736933157, 2.812532736933157, 2.812532736933157, 2.812532736933157, 2.812532736933157, 2.812532736933157, 2.812532736933157, 2.812532736933157, 2.812532736933157, 2.812532736933157, 2.812532736933157, 2.812532736933157, 2.812532736933157, 2.812532736933157, 2.812532736933157, 2.812532736933157, 2.812532736933157, 2.812532736933157, 2.812532736933157, 2.812532736933157, 2.812532736933157, 2.812532736933157, 2.812532736933157, 2.812532736933157, 2.812532736933157, 2.812532736933157, 2.812532736933157, 2.812532736933157, 2.812532736933157, 2.812532736933157, 2.812532736933157, 2.812532736933157, 2.812532736933157, 2.812532736933157, 2.812532736933157, 2.812532736933157, 2.812532736933157, 2.812532736933157, 2.812532736933157, 2.812532736933157, 2.812532736933157, 2.812532736933157, 2.812532736933157, 2.812532736933157, 2.812532736933157, 2.812532736933157, 2.812532736933157, 2.812532736933157, 2.812532736933157, 2.812532736933157, 2.812532736933157, 2.812532736933157, 2.812532736933157, 2.812532736933157, 2.812532736933157, 2.812532736933157, 2.812532736933157, 2.812532736933157, 2.812532736933157, 2.812532736933157, 2.812532736933157, 2.812532736933157, 2.812532736933157, 2.812532736933157, 2.812532736933157, 2.812532736933157, 2.812532736933157, 2.812532736933157, 2.812532736933157, 2.812532736933157, 2.812532736933157, 2.812532736933157, 2.812532736933157, 2.812532736933157, 2.812532736933157, 2.812532736933157, 2.812532736933157, 2.812532736933157, 2.812532736933157, 2.812532736933157, 2.812532736933157, 2.812532736933157, 2.812532736933157, 2.812532736933157, 2.812532736933157, 2.812532736933157, 2.812532736933157, 2.812532736933157, 2.812532736933157, 2.812532736933157, 2.812532736933157, 2.812532736933157, 2.812532736933157, 2.812532736933157, 2.812532736933157, 2.812532736933157, 2.812532736933157, 2.812532736933157, 2.812532736933157, 2.812532736933157, 2.812532736933157, 2.812532736933157, 2.812532736933157, 2.812532736933157, 2.812532736933157, 2.812532736933157, 2.812532736933157, 2.812532736933157, 14.719131842447993, 13.055015613445011, 8.001512924383794, 7.434092817264513, 4.134224009409662, 3.6586206217945447, 3.9086197912767346, 3.690001320396848, 2.8272298506869924, 1.9583471958700742, 1.8028154485631827, 1.6569586245596841, 1.2245747035387908, 1.178477654493043, 1.7988536806274409, 0.8485158096932992, 1.0529231761244742, 0.627486246084909, 0.5887842897313833, 0.42228667458514507, 0.35660649870953964, 0.3634941176286367, 0.2648727727908764, 0.09123232549377422, 0.09123232549377422, 0.09123232549377422, 0.09123232549377422, 2.812532736933157, 2.812532736933157, 2.812532736933157, 2.812532736933157, 2.812532736933157, 2.812532736933157, 2.812532736933157, 2.812532736933157, 2.812532736933157, 2.812532736933157, 2.812532736933157, 2.812532736933157, 2.812532736933157, 2.812532736933157, 2.812532736933157, 2.812532736933157, 2.812532736933157, 2.812532736933157, 2.812532736933157, 2.812532736933157, 2.812532736933157, 2.812532736933157, 2.812532736933157, 2.812532736933157, 2.812532736933157, 2.812532736933157, 2.812532736933157, 2.812532736933157, 2.812532736933157, 2.812532736933157, 2.812532736933157, 2.812532736933157, 2.812532736933157, 2.812532736933157, 2.812532736933157, 2.812532736933157, 2.812532736933157, 2.812532736933157, 2.812532736933157, 2.812532736933157, 2.812532736933157, 2.812532736933157, 2.812532736933157, 2.812532736933157, 2.812532736933157, 2.812532736933157, 2.812532736933157, 2.812532736933157, 2.812532736933157, 2.812532736933157, 2.812532736933157, 2.812532736933157, 2.812532736933157, 2.812532736933157, 2.812532736933157, 2.812532736933157, 2.812532736933157, 2.812532736933157, 2.812532736933157, 2.812532736933157, 2.812532736933157, 2.812532736933157, 2.812532736933157, 2.812532736933157, 2.812532736933157, 2.812532736933157, 2.812532736933157, 2.812532736933157, 2.812532736933157, 2.812532736933157, 2.812532736933157, 2.812532736933157, 2.812532736933157, 2.812532736933157, 2.812532736933157, 2.812532736933157, 2.812532736933157, 2.812532736933157, 2.812532736933157, 2.812532736933157, 2.812532736933157, 2.812532736933157, 2.812532736933157, 2.812532736933157, 2.812532736933157, 2.812532736933157, 2.812532736933157, 2.812532736933157, 2.812532736933157, 2.812532736933157, 2.812532736933157, 2.812532736933157, 2.812532736933157, 2.812532736933157, 2.812532736933157, 2.812532736933157, 2.812532736933157, 2.812532736933157, 2.812532736933157, 2.812532736933157, 2.812532736933157, 2.812532736933157, 2.812532736933157, 2.812532736933157, 2.812532736933157, 2.812532736933157, 2.812532736933157, 2.812532736933157, 2.812532736933157, 2.812532736933157, 2.812532736933157, 2.812532736933157, 2.812532736933157, 2.812532736933157, 2.812532736933157, 2.812532736933157, 2.812532736933157, 2.812532736933157, 2.812532736933157, 2.812532736933157, 2.812532736933157, 2.812532736933157, 2.812532736933157, 2.812532736933157, 2.812532736933157, 2.812532736933157, 2.812532736933157, 2.812532736933157, 2.812532736933157, 2.812532736933157, 2.812532736933157, 2.812532736933157, 2.812532736933157, 2.812532736933157, 2.812532736933157, 5.899689020510604, 4.849882895334038, 3.8422939486445626, 4.063376413149378, 3.0687914686356446, 3.0476707150148457, 3.806840446802524, 3.0973008084212976, 3.860552396008527, 2.032603505239839, 2.993106693616158, 3.3533994229720387, 2.9446630513305965, 2.032603505239839, 2.032603505239839, 2.032603505239839, 2.032603505239839, 2.032603505239839, 2.032603505239839, 2.032603505239839, 2.032603505239839, 2.032603505239839, 2.032603505239839, 2.032603505239839, 2.654363582902361, 2.032603505239839, 2.032603505239839, 2.812532736933157, 2.812532736933157, 2.812532736933157, 2.812532736933157, 2.812532736933157, 2.812532736933157, 2.812532736933157, 2.812532736933157, 2.812532736933157, 2.812532736933157, 2.812532736933157, 2.812532736933157, 2.812532736933157, 2.812532736933157, 2.812532736933157, 2.812532736933157, 2.812532736933157, 2.812532736933157, 2.812532736933157, 2.812532736933157, 2.812532736933157, 2.812532736933157, 2.812532736933157, 2.812532736933157, 2.812532736933157, 2.812532736933157, 2.812532736933157, 2.812532736933157, 2.812532736933157, 2.812532736933157, 2.812532736933157, 2.812532736933157, 2.812532736933157, 2.812532736933157, 2.812532736933157, 2.812532736933157, 2.812532736933157, 2.812532736933157, 2.812532736933157, 2.812532736933157, 2.812532736933157, 2.812532736933157, 2.812532736933157, 2.812532736933157, 2.812532736933157, 2.812532736933157, 2.812532736933157, 2.812532736933157, 2.812532736933157, 2.812532736933157, 2.812532736933157, 2.812532736933157, 2.812532736933157, 2.812532736933157, 4.527620818442824, 3.595619048862319, 4.30404041321377, 4.5712558541111035, 3.5628394468759437, 3.322284077529343, 3.462226468155531, 3.353254582014982, 3.4954439877230072, 3.2675443798917256, 3.382834669891376, 2.061085970238538, 2.061085970238538, 3.268353452425284, 2.061085970238538, 2.969857456868613, 2.061085970238538, 2.061085970238538, 2.061085970238538, 2.061085970238538, 2.061085970238538, 2.061085970238538, 2.061085970238538, 2.061085970238538, 2.061085970238538, 2.061085970238538, 2.061085970238538, 2.812532736933157, 2.812532736933157, 2.812532736933157, 2.812532736933157, 2.812532736933157, 2.812532736933157, 2.812532736933157, 2.812532736933157, 2.812532736933157, 2.812532736933157, 2.812532736933157, 2.812532736933157, 2.812532736933157, 2.812532736933157, 2.812532736933157, 2.812532736933157, 2.812532736933157, 2.812532736933157, 2.812532736933157, 2.812532736933157, 2.812532736933157, 2.812532736933157, 2.812532736933157, 2.812532736933157, 2.812532736933157, 2.812532736933157, 2.812532736933157, 2.8125047305762263, 2.8125669669249613, 2.8125047305762263, 2.8125047305762263, 2.8125047305762263, 2.8125047305762263, 2.8125047305762263, 2.8125047305762263, 2.8125047305762263, 2.8125047305762263, 2.81256555246249, 2.8125047305762263, 2.8125791313022144, 2.8125047305762263, 2.8125047305762263, 2.812692288299915, 2.8125734734523293, 2.8125579143651454, 2.8125047305762263, 2.812550842052789, 2.8125635722150304, 2.8125047305762263, 2.812544335525421, 2.8125714932048695, 2.8125047305762263, 2.8125047305762263, 2.812540375030502, 4.235171649950774, 4.091506676992734, 3.891684997893372, 3.9781482598363254, 3.6921889280548927, 3.882953521058307, 3.7091271161481867, 4.534235693635901, 2.0908840267817523, 3.814680812280698, 3.3884741317642746, 2.0908840267817523, 2.0908840267817523, 2.0908840267817523, 2.0908840267817523, 3.266066832394251, 2.0908840267817523, 2.0908840267817523, 2.0908840267817523, 2.0908840267817523, 2.0908840267817523, 2.0908840267817523, 2.0908840267817523, 2.0908840267817523, 2.0908840267817523, 2.0908840267817523, 2.0908840267817523, 2.812532736933157, 2.812532736933157, 2.812532736933157, 2.812532736933157, 2.812532736933157, 2.812532736933157, 2.812532736933157, 2.812532736933157, 2.812532736933157, 2.812532736933157, 2.812532736933157, 2.812532736933157, 2.812532736933157, 2.812532736933157, 2.812532736933157, 2.812532736933157, 2.812532736933157, 2.812532736933157, 2.812532736933157, 2.812532736933157, 2.812532736933157, 2.812532736933157, 2.812532736933157, 2.812532736933157, 2.812532736933157, 2.812532736933157, 2.812532736933157, 6.333540304899179, 5.76948209218158, 4.700223713315308, 6.309658520534488, 4.56562940529294, 3.759702070485438, 2.667195586441598, 4.781032520083167, 4.099967142818306, 3.1809690925210483, 1.6839440224788056, 2.329166496383291, 1.6839440224788056, 1.6839440224788056, 1.6839440224788056, 1.6839440224788056, 1.6839440224788056, 1.6839440224788056, 2.182657322288049, 1.6839440224788056, 1.6839440224788056, 1.6839440224788056, 1.6839440224788056, 1.6839440224788056, 1.6839440224788056, 1.6839440224788056, 1.6839440224788056, 2.812405435310744, 2.812405435310744, 2.812405435310744, 2.812405435310744, 2.812785925715512, 2.812405435310744, 2.812405435310744, 2.8129219970052466, 2.8126996435047653, 2.812405435310744, 2.812697380364811, 2.812405435310744, 2.812405435310744, 2.812405435310744, 2.813362177726302, 2.812405435310744, 2.812405435310744, 2.8126161902189613, 2.812405435310744, 2.8127392484539606, 2.812405435310744, 2.812405435310744, 2.8126492886407886, 2.812405435310744, 2.812405435310744, 2.812405435310744, 2.812609400799099, 2.812532736933157, 2.812532736933157, 2.812532736933157, 2.812532736933157, 2.812532736933157, 2.812532736933157, 2.812532736933157, 2.812532736933157, 2.812532736933157, 2.812532736933157, 2.812532736933157, 2.812532736933157, 2.812532736933157, 2.812532736933157, 2.812532736933157, 2.812532736933157, 2.812532736933157, 2.812532736933157, 2.812532736933157, 2.812532736933157, 2.812532736933157, 2.812532736933157, 2.812532736933157, 2.812532736933157, 2.812532736933157, 2.812532736933157, 2.812532736933157, 2.8019890507799183, 2.807661045289656, 2.8019890507799183, 2.862077962591333, 2.8019890507799183, 2.8019890507799183, 2.8019890507799183, 2.868774593715249, 2.8019890507799183, 2.806502600525697, 2.8019890507799183, 2.816148951687171, 2.8019890507799183, 2.8019890507799183, 2.8019890507799183, 2.8337881473812194, 2.8099502113531374, 2.8077507222103337, 2.815185136959257, 2.8149393033817525, 2.823732450780564, 2.815487266143117, 2.8091204876674984, 2.8019890507799183, 2.8019890507799183, 2.821396041670543, 2.8019890507799183, 2.812532736933157, 2.812532736933157, 2.812532736933157, 2.812532736933157, 2.812532736933157, 2.812532736933157, 2.812532736933157, 2.812532736933157, 2.812532736933157, 2.812532736933157, 2.812532736933157, 2.812532736933157, 2.812532736933157, 2.812532736933157, 2.812532736933157, 2.812532736933157, 2.812532736933157, 2.812532736933157, 2.812532736933157, 2.812532736933157, 2.812532736933157, 2.812532736933157, 2.812532736933157, 2.812532736933157, 2.812532736933157, 2.812532736933157, 2.812532736933157, 10.100423035566196, 8.574125806127551, 7.483664634817149, 6.954468961521097, 5.106726648714637, 7.279850776838913, 3.6899554918127793, 3.643980369432054, 4.649499108848598, 3.3215313006021407, 3.764039661099792, 1.5917637861195284, 1.5678349001545446, 1.4021597595737803, 1.3037534837547744, 0.7387354875273039, 0.9680924867658448, 0.6686091964042369, 0.7050925683715971, 0.6209484590965153, 0.7645093983397944, 0.1731019172323427, 0.1731019172323427, 0.1731019172323427, 0.1731019172323427, 0.1731019172323427, 0.1731019172323427, 2.812532736933157, 2.812532736933157, 2.812532736933157, 2.812532736933157, 2.812532736933157, 2.812532736933157, 2.812532736933157, 2.812532736933157, 2.812532736933157, 2.812532736933157, 2.812532736933157, 2.812532736933157, 2.812532736933157, 2.812532736933157, 2.812532736933157, 2.812532736933157, 2.812532736933157, 2.812532736933157, 2.812532736933157, 2.812532736933157, 2.812532736933157, 2.812532736933157, 2.812532736933157, 2.812532736933157, 2.812532736933157, 2.812532736933157, 2.812532736933157, 2.812532736933157, 2.812532736933157, 2.812532736933157, 2.812532736933157, 2.812532736933157, 2.812532736933157, 2.812532736933157, 2.812532736933157, 2.812532736933157, 2.812532736933157, 2.812532736933157, 2.812532736933157, 2.812532736933157, 2.812532736933157, 2.812532736933157, 2.812532736933157, 2.812532736933157, 2.812532736933157, 2.812532736933157, 2.812532736933157, 2.812532736933157, 2.812532736933157, 2.812532736933157, 2.812532736933157, 2.812532736933157, 2.812532736933157, 2.812532736933157, 9.893865120393723, 9.168693974350148, 6.993891727949975, 4.754413467944102, 5.511499413619125, 5.177446943352508, 3.9296525653318213, 2.486649070330539, 2.285178693774681, 2.546726949334678, 1.7448442699637328, 1.7873245384704781, 1.5610956937102443, 2.158909204626892, 1.5715550779001959, 1.753967694349583, 1.9271257657420344, 1.022833881758428, 1.4800342639450184, 1.022833881758428, 1.022833881758428, 1.022833881758428, 1.022833881758428, 1.022833881758428, 1.022833881758428, 1.022833881758428, 1.022833881758428], \"Total\": [814.0, 828.0, 653.0, 624.0, 613.0, 718.0, 943.0, 669.0, 713.0, 597.0, 634.0, 599.0, 849.0, 606.0, 511.0, 776.0, 618.0, 615.0, 585.0, 554.0, 523.0, 694.0, 497.0, 660.0, 442.0, 514.0, 544.0, 585.4041054570541, 943.4874241251719, 660.6102535231631, 776.0350856186084, 718.4768488247294, 849.4183429392834, 606.1084208372276, 544.3917447150221, 615.6793812477309, 694.1458380021522, 713.5689555081532, 653.6301797321853, 599.0427310860888, 597.7711710509074, 828.1056289179196, 613.0849269995014, 442.0894767751855, 523.7606513506518, 814.2851046693971, 497.50293575990383, 511.6041344750537, 514.708600165524, 554.5237228778102, 618.8160595117623, 624.6954500223874, 634.8935963836957, 669.1168290774061, 523.7606513506518, 943.4874241251719, 615.6793812477309, 514.708600165524, 849.4183429392834, 544.3917447150221, 599.0427310860888, 606.1084208372276, 585.4041054570541, 694.1458380021522, 554.5237228778102, 718.4768488247294, 660.6102535231631, 634.8935963836957, 618.8160595117623, 713.5689555081532, 442.0894767751855, 624.6954500223874, 669.1168290774061, 511.6041344750537, 497.50293575990383, 597.7711710509074, 613.0849269995014, 653.6301797321853, 776.0350856186084, 814.2851046693971, 828.1056289179196, 814.2851046693971, 660.6102535231631, 618.8160595117623, 615.6793812477309, 497.50293575990383, 653.6301797321853, 597.7711710509074, 442.0894767751855, 511.6041344750537, 514.708600165524, 523.7606513506518, 544.3917447150221, 554.5237228778102, 585.4041054570541, 599.0427310860888, 606.1084208372276, 613.0849269995014, 624.6954500223874, 634.8935963836957, 669.1168290774061, 694.1458380021522, 713.5689555081532, 718.4768488247294, 776.0350856186084, 828.1056289179196, 849.4183429392834, 943.4874241251719, 669.1168290774061, 544.3917447150221, 634.8935963836957, 660.6102535231631, 514.708600165524, 606.1084208372276, 511.6041344750537, 694.1458380021522, 497.50293575990383, 442.0894767751855, 523.7606513506518, 554.5237228778102, 585.4041054570541, 597.7711710509074, 599.0427310860888, 613.0849269995014, 615.6793812477309, 618.8160595117623, 624.6954500223874, 653.6301797321853, 713.5689555081532, 718.4768488247294, 776.0350856186084, 814.2851046693971, 828.1056289179196, 849.4183429392834, 943.4874241251719, 634.8935963836957, 776.0350856186084, 718.4768488247294, 606.1084208372276, 849.4183429392834, 544.3917447150221, 514.708600165524, 613.0849269995014, 624.6954500223874, 585.4041054570541, 597.7711710509074, 442.0894767751855, 497.50293575990383, 599.0427310860888, 615.6793812477309, 511.6041344750537, 523.7606513506518, 660.6102535231631, 554.5237228778102, 694.1458380021522, 618.8160595117623, 828.1056289179196, 653.6301797321853, 669.1168290774061, 713.5689555081532, 943.4874241251719, 814.2851046693971, 442.0894767751855, 694.1458380021522, 849.4183429392834, 776.0350856186084, 943.4874241251719, 660.6102535231631, 544.3917447150221, 828.1056289179196, 615.6793812477309, 634.8935963836957, 713.5689555081532, 718.4768488247294, 497.50293575990383, 653.6301797321853, 599.0427310860888, 669.1168290774061, 511.6041344750537, 514.708600165524, 523.7606513506518, 554.5237228778102, 585.4041054570541, 597.7711710509074, 606.1084208372276, 613.0849269995014, 618.8160595117623, 624.6954500223874, 814.2851046693971, 514.708600165524, 544.3917447150221, 849.4183429392834, 660.6102535231631, 606.1084208372276, 828.1056289179196, 713.5689555081532, 442.0894767751855, 618.8160595117623, 585.4041054570541, 497.50293575990383, 511.6041344750537, 523.7606513506518, 554.5237228778102, 597.7711710509074, 599.0427310860888, 613.0849269995014, 615.6793812477309, 624.6954500223874, 634.8935963836957, 653.6301797321853, 669.1168290774061, 694.1458380021522, 718.4768488247294, 776.0350856186084, 814.2851046693971, 943.4874241251719, 497.50293575990383, 849.4183429392834, 554.5237228778102, 776.0350856186084, 544.3917447150221, 943.4874241251719, 660.6102535231631, 694.1458380021522, 718.4768488247294, 606.1084208372276, 669.1168290774061, 597.7711710509074, 523.7606513506518, 713.5689555081532, 514.708600165524, 634.8935963836957, 585.4041054570541, 613.0849269995014, 618.8160595117623, 615.6793812477309, 442.0894767751855, 511.6041344750537, 599.0427310860888, 624.6954500223874, 653.6301797321853, 814.2851046693971, 828.1056289179196, 713.5689555081532, 618.8160595117623, 694.1458380021522, 828.1056289179196, 511.6041344750537, 669.1168290774061, 653.6301797321853, 615.6793812477309, 634.8935963836957, 585.4041054570541, 514.708600165524, 442.0894767751855, 497.50293575990383, 523.7606513506518, 544.3917447150221, 554.5237228778102, 597.7711710509074, 599.0427310860888, 606.1084208372276, 613.0849269995014, 624.6954500223874, 660.6102535231631, 718.4768488247294, 776.0350856186084, 814.2851046693971, 849.4183429392834, 943.4874241251719, 618.8160595117623, 849.4183429392834, 544.3917447150221, 514.708600165524, 694.1458380021522, 943.4874241251719, 511.6041344750537, 599.0427310860888, 776.0350856186084, 718.4768488247294, 613.0849269995014, 606.1084208372276, 497.50293575990383, 634.8935963836957, 669.1168290774061, 713.5689555081532, 814.2851046693971, 442.0894767751855, 597.7711710509074, 660.6102535231631, 523.7606513506518, 554.5237228778102, 585.4041054570541, 615.6793812477309, 624.6954500223874, 653.6301797321853, 828.1056289179196, 554.5237228778102, 544.3917447150221, 694.1458380021522, 606.1084208372276, 828.1056289179196, 514.708600165524, 618.8160595117623, 660.6102535231631, 718.4768488247294, 615.6793812477309, 585.4041054570541, 523.7606513506518, 597.7711710509074, 497.50293575990383, 613.0849269995014, 776.0350856186084, 511.6041344750537, 624.6954500223874, 713.5689555081532, 669.1168290774061, 442.0894767751855, 599.0427310860888, 849.4183429392834, 634.8935963836957, 653.6301797321853, 814.2851046693971, 943.4874241251719, 653.6301797321853, 776.0350856186084, 718.4768488247294, 943.4874241251719, 497.50293575990383, 669.1168290774061, 618.8160595117623, 849.4183429392834, 514.708600165524, 523.7606513506518, 814.2851046693971, 511.6041344750537, 585.4041054570541, 442.0894767751855, 615.6793812477309, 544.3917447150221, 554.5237228778102, 597.7711710509074, 599.0427310860888, 606.1084208372276, 613.0849269995014, 624.6954500223874, 634.8935963836957, 660.6102535231631, 694.1458380021522, 713.5689555081532, 828.1056289179196, 660.6102535231631, 544.3917447150221, 615.6793812477309, 943.4874241251719, 618.8160595117623, 599.0427310860888, 776.0350856186084, 849.4183429392834, 694.1458380021522, 828.1056289179196, 497.50293575990383, 511.6041344750537, 514.708600165524, 554.5237228778102, 713.5689555081532, 634.8935963836957, 606.1084208372276, 624.6954500223874, 597.7711710509074, 442.0894767751855, 523.7606513506518, 585.4041054570541, 613.0849269995014, 653.6301797321853, 669.1168290774061, 718.4768488247294, 814.2851046693971, 718.4768488247294, 849.4183429392834, 776.0350856186084, 943.4874241251719, 615.6793812477309, 599.0427310860888, 828.1056289179196, 554.5237228778102, 713.5689555081532, 497.50293575990383, 442.0894767751855, 511.6041344750537, 514.708600165524, 523.7606513506518, 544.3917447150221, 585.4041054570541, 597.7711710509074, 606.1084208372276, 613.0849269995014, 618.8160595117623, 624.6954500223874, 634.8935963836957, 653.6301797321853, 660.6102535231631, 669.1168290774061, 694.1458380021522, 814.2851046693971, 694.1458380021522, 849.4183429392834, 943.4874241251719, 599.0427310860888, 660.6102535231631, 585.4041054570541, 776.0350856186084, 718.4768488247294, 514.708600165524, 615.6793812477309, 828.1056289179196, 713.5689555081532, 669.1168290774061, 613.0849269995014, 554.5237228778102, 653.6301797321853, 624.6954500223874, 511.6041344750537, 814.2851046693971, 442.0894767751855, 497.50293575990383, 523.7606513506518, 544.3917447150221, 597.7711710509074, 606.1084208372276, 618.8160595117623, 634.8935963836957, 615.6793812477309, 943.4874241251719, 849.4183429392834, 776.0350856186084, 694.1458380021522, 669.1168290774061, 618.8160595117623, 554.5237228778102, 606.1084208372276, 497.50293575990383, 544.3917447150221, 599.0427310860888, 653.6301797321853, 442.0894767751855, 511.6041344750537, 514.708600165524, 523.7606513506518, 814.2851046693971, 585.4041054570541, 597.7711710509074, 613.0849269995014, 624.6954500223874, 634.8935963836957, 660.6102535231631, 713.5689555081532, 718.4768488247294, 828.1056289179196, 597.7711710509074, 828.1056289179196, 599.0427310860888, 544.3917447150221, 849.4183429392834, 694.1458380021522, 511.6041344750537, 634.8935963836957, 442.0894767751855, 497.50293575990383, 514.708600165524, 523.7606513506518, 554.5237228778102, 585.4041054570541, 606.1084208372276, 613.0849269995014, 615.6793812477309, 618.8160595117623, 624.6954500223874, 653.6301797321853, 660.6102535231631, 669.1168290774061, 713.5689555081532, 718.4768488247294, 776.0350856186084, 814.2851046693971, 943.4874241251719, 624.6954500223874, 943.4874241251719, 849.4183429392834, 523.7606513506518, 713.5689555081532, 718.4768488247294, 634.8935963836957, 442.0894767751855, 606.1084208372276, 497.50293575990383, 511.6041344750537, 694.1458380021522, 613.0849269995014, 514.708600165524, 669.1168290774061, 544.3917447150221, 554.5237228778102, 585.4041054570541, 597.7711710509074, 599.0427310860888, 615.6793812477309, 618.8160595117623, 776.0350856186084, 653.6301797321853, 660.6102535231631, 814.2851046693971, 828.1056289179196, 776.0350856186084, 828.1056289179196, 849.4183429392834, 554.5237228778102, 624.6954500223874, 718.4768488247294, 615.6793812477309, 634.8935963836957, 694.1458380021522, 669.1168290774061, 497.50293575990383, 606.1084208372276, 442.0894767751855, 511.6041344750537, 514.708600165524, 523.7606513506518, 544.3917447150221, 585.4041054570541, 660.6102535231631, 597.7711710509074, 599.0427310860888, 613.0849269995014, 618.8160595117623, 653.6301797321853, 713.5689555081532, 943.4874241251719, 814.2851046693971, 606.1084208372276, 943.4874241251719, 615.6793812477309, 442.0894767751855, 713.5689555081532, 660.6102535231631, 849.4183429392834, 554.5237228778102, 514.708600165524, 653.6301797321853, 585.4041054570541, 718.4768488247294, 523.7606513506518, 544.3917447150221, 776.0350856186084, 497.50293575990383, 511.6041344750537, 599.0427310860888, 669.1168290774061, 828.1056289179196, 597.7711710509074, 613.0849269995014, 618.8160595117623, 624.6954500223874, 634.8935963836957, 694.1458380021522, 814.2851046693971, 613.0849269995014, 624.6954500223874, 660.6102535231631, 599.0427310860888, 776.0350856186084, 634.8935963836957, 544.3917447150221, 597.7711710509074, 585.4041054570541, 442.0894767751855, 606.1084208372276, 849.4183429392834, 497.50293575990383, 511.6041344750537, 514.708600165524, 523.7606513506518, 694.1458380021522, 554.5237228778102, 615.6793812477309, 618.8160595117623, 653.6301797321853, 669.1168290774061, 713.5689555081532, 718.4768488247294, 814.2851046693971, 828.1056289179196, 943.4874241251719, 943.4874241251719, 544.3917447150221, 606.1084208372276, 776.0350856186084, 599.0427310860888, 511.6041344750537, 660.6102535231631, 442.0894767751855, 713.5689555081532, 618.8160595117623, 497.50293575990383, 514.708600165524, 523.7606513506518, 554.5237228778102, 585.4041054570541, 597.7711710509074, 613.0849269995014, 615.6793812477309, 624.6954500223874, 634.8935963836957, 653.6301797321853, 669.1168290774061, 694.1458380021522, 718.4768488247294, 814.2851046693971, 828.1056289179196, 849.4183429392834, 511.6041344750537, 606.1084208372276, 554.5237228778102, 660.6102535231631, 615.6793812477309, 544.3917447150221, 497.50293575990383, 523.7606513506518, 585.4041054570541, 669.1168290774061, 442.0894767751855, 718.4768488247294, 514.708600165524, 776.0350856186084, 597.7711710509074, 599.0427310860888, 613.0849269995014, 849.4183429392834, 618.8160595117623, 624.6954500223874, 634.8935963836957, 653.6301797321853, 694.1458380021522, 713.5689555081532, 814.2851046693971, 828.1056289179196, 943.4874241251719, 597.7711710509074, 776.0350856186084, 660.6102535231631, 618.8160595117623, 514.708600165524, 713.5689555081532, 943.4874241251719, 442.0894767751855, 694.1458380021522, 497.50293575990383, 606.1084208372276, 849.4183429392834, 511.6041344750537, 585.4041054570541, 544.3917447150221, 615.6793812477309, 718.4768488247294, 814.2851046693971, 523.7606513506518, 554.5237228778102, 599.0427310860888, 613.0849269995014, 624.6954500223874, 634.8935963836957, 653.6301797321853, 669.1168290774061, 828.1056289179196, 599.0427310860888, 554.5237228778102, 713.5689555081532, 718.4768488247294, 634.8935963836957, 497.50293575990383, 514.708600165524, 597.7711710509074, 442.0894767751855, 606.1084208372276, 615.6793812477309, 669.1168290774061, 828.1056289179196, 776.0350856186084, 660.6102535231631, 511.6041344750537, 694.1458380021522, 523.7606513506518, 544.3917447150221, 585.4041054570541, 613.0849269995014, 618.8160595117623, 624.6954500223874, 653.6301797321853, 814.2851046693971, 849.4183429392834, 943.4874241251719, 828.1056289179196, 776.0350856186084, 694.1458380021522, 554.5237228778102, 943.4874241251719, 849.4183429392834, 599.0427310860888, 615.6793812477309, 814.2851046693971, 606.1084208372276, 544.3917447150221, 442.0894767751855, 497.50293575990383, 511.6041344750537, 514.708600165524, 523.7606513506518, 585.4041054570541, 597.7711710509074, 613.0849269995014, 618.8160595117623, 624.6954500223874, 634.8935963836957, 653.6301797321853, 660.6102535231631, 669.1168290774061, 713.5689555081532, 718.4768488247294, 613.0849269995014, 713.5689555081532, 776.0350856186084, 597.7711710509074, 828.1056289179196, 544.3917447150221, 599.0427310860888, 554.5237228778102, 849.4183429392834, 514.708600165524, 497.50293575990383, 814.2851046693971, 660.6102535231631, 442.0894767751855, 694.1458380021522, 718.4768488247294, 585.4041054570541, 606.1084208372276, 634.8935963836957, 511.6041344750537, 523.7606513506518, 615.6793812477309, 618.8160595117623, 624.6954500223874, 653.6301797321853, 669.1168290774061, 943.4874241251719, 849.4183429392834, 585.4041054570541, 613.0849269995014, 694.1458380021522, 776.0350856186084, 713.5689555081532, 618.8160595117623, 634.8935963836957, 511.6041344750537, 544.3917447150221, 442.0894767751855, 624.6954500223874, 615.6793812477309, 497.50293575990383, 514.708600165524, 523.7606513506518, 660.6102535231631, 554.5237228778102, 814.2851046693971, 597.7711710509074, 599.0427310860888, 606.1084208372276, 653.6301797321853, 669.1168290774061, 718.4768488247294, 943.4874241251719, 828.1056289179196, 828.1056289179196, 618.8160595117623, 660.6102535231631, 597.7711710509074, 713.5689555081532, 718.4768488247294, 514.708600165524, 585.4041054570541, 814.2851046693971, 544.3917447150221, 442.0894767751855, 497.50293575990383, 511.6041344750537, 523.7606513506518, 554.5237228778102, 599.0427310860888, 606.1084208372276, 613.0849269995014, 615.6793812477309, 624.6954500223874, 634.8935963836957, 653.6301797321853, 669.1168290774061, 694.1458380021522, 776.0350856186084, 849.4183429392834, 943.4874241251719, 718.4768488247294, 669.1168290774061, 943.4874241251719, 606.1084208372276, 585.4041054570541, 613.0849269995014, 554.5237228778102, 523.7606513506518, 442.0894767751855, 514.708600165524, 544.3917447150221, 599.0427310860888, 624.6954500223874, 634.8935963836957, 497.50293575990383, 511.6041344750537, 660.6102535231631, 713.5689555081532, 597.7711710509074, 615.6793812477309, 618.8160595117623, 653.6301797321853, 694.1458380021522, 776.0350856186084, 814.2851046693971, 828.1056289179196, 849.4183429392834, 814.2851046693971, 694.1458380021522, 828.1056289179196, 776.0350856186084, 597.7711710509074, 511.6041344750537, 544.3917447150221, 615.6793812477309, 849.4183429392834, 660.6102535231631, 514.708600165524, 653.6301797321853, 599.0427310860888, 618.8160595117623, 442.0894767751855, 497.50293575990383, 523.7606513506518, 554.5237228778102, 585.4041054570541, 606.1084208372276, 613.0849269995014, 624.6954500223874, 634.8935963836957, 669.1168290774061, 713.5689555081532, 718.4768488247294, 943.4874241251719, 624.6954500223874, 713.5689555081532, 618.8160595117623, 599.0427310860888, 828.1056289179196, 514.708600165524, 660.6102535231631, 613.0849269995014, 544.3917447150221, 776.0350856186084, 849.4183429392834, 606.1084208372276, 718.4768488247294, 694.1458380021522, 511.6041344750537, 585.4041054570541, 615.6793812477309, 653.6301797321853, 554.5237228778102, 634.8935963836957, 442.0894767751855, 497.50293575990383, 523.7606513506518, 597.7711710509074, 669.1168290774061, 943.4874241251719, 814.2851046693971, 653.6301797321853, 514.708600165524, 544.3917447150221, 943.4874241251719, 442.0894767751855, 828.1056289179196, 814.2851046693971, 849.4183429392834, 599.0427310860888, 497.50293575990383, 511.6041344750537, 523.7606513506518, 554.5237228778102, 585.4041054570541, 597.7711710509074, 606.1084208372276, 613.0849269995014, 615.6793812477309, 618.8160595117623, 624.6954500223874, 634.8935963836957, 660.6102535231631, 669.1168290774061, 694.1458380021522, 713.5689555081532, 718.4768488247294, 776.0350856186084, 660.6102535231631, 653.6301797321853, 776.0350856186084, 669.1168290774061, 814.2851046693971, 615.6793812477309, 523.7606513506518, 694.1458380021522, 943.4874241251719, 828.1056289179196, 497.50293575990383, 599.0427310860888, 849.4183429392834, 544.3917447150221, 442.0894767751855, 718.4768488247294, 634.8935963836957, 514.708600165524, 618.8160595117623, 597.7711710509074, 554.5237228778102, 624.6954500223874, 511.6041344750537, 585.4041054570541, 606.1084208372276, 613.0849269995014, 713.5689555081532, 828.1056289179196, 624.6954500223874, 814.2851046693971, 554.5237228778102, 849.4183429392834, 544.3917447150221, 599.0427310860888, 718.4768488247294, 943.4874241251719, 615.6793812477309, 776.0350856186084, 713.5689555081532, 618.8160595117623, 613.0849269995014, 660.6102535231631, 634.8935963836957, 497.50293575990383, 511.6041344750537, 442.0894767751855, 597.7711710509074, 514.708600165524, 523.7606513506518, 585.4041054570541, 694.1458380021522, 606.1084208372276, 653.6301797321853, 669.1168290774061, 718.4768488247294, 514.708600165524, 660.6102535231631, 694.1458380021522, 511.6041344750537, 653.6301797321853, 618.8160595117623, 585.4041054570541, 606.1084208372276, 615.6793812477309, 943.4874241251719, 669.1168290774061, 776.0350856186084, 634.8935963836957, 597.7711710509074, 713.5689555081532, 554.5237228778102, 613.0849269995014, 849.4183429392834, 442.0894767751855, 497.50293575990383, 523.7606513506518, 544.3917447150221, 599.0427310860888, 624.6954500223874, 814.2851046693971, 828.1056289179196, 606.1084208372276, 585.4041054570541, 599.0427310860888, 544.3917447150221, 776.0350856186084, 694.1458380021522, 669.1168290774061, 849.4183429392834, 828.1056289179196, 943.4874241251719, 660.6102535231631, 618.8160595117623, 514.708600165524, 497.50293575990383, 511.6041344750537, 613.0849269995014, 597.7711710509074, 713.5689555081532, 634.8935963836957, 442.0894767751855, 523.7606513506518, 554.5237228778102, 615.6793812477309, 624.6954500223874, 653.6301797321853, 718.4768488247294, 814.2851046693971, 613.0849269995014, 523.7606513506518, 776.0350856186084, 943.4874241251719, 615.6793812477309, 660.6102535231631, 497.50293575990383, 606.1084208372276, 849.4183429392834, 511.6041344750537, 618.8160595117623, 597.7711710509074, 599.0427310860888, 814.2851046693971, 442.0894767751855, 544.3917447150221, 634.8935963836957, 713.5689555081532, 669.1168290774061, 624.6954500223874, 514.708600165524, 694.1458380021522, 554.5237228778102, 585.4041054570541, 653.6301797321853, 718.4768488247294, 828.1056289179196, 497.50293575990383, 514.708600165524, 615.6793812477309, 599.0427310860888, 776.0350856186084, 849.4183429392834, 718.4768488247294, 618.8160595117623, 544.3917447150221, 814.2851046693971, 828.1056289179196, 660.6102535231631, 943.4874241251719, 713.5689555081532, 634.8935963836957, 523.7606513506518, 554.5237228778102, 624.6954500223874, 442.0894767751855, 613.0849269995014, 597.7711710509074, 606.1084208372276, 511.6041344750537, 585.4041054570541, 653.6301797321853, 669.1168290774061, 694.1458380021522, 599.0427310860888, 442.0894767751855, 943.4874241251719, 511.6041344750537, 514.708600165524, 669.1168290774061, 776.0350856186084, 849.4183429392834, 814.2851046693971, 660.6102535231631, 618.8160595117623, 497.50293575990383, 718.4768488247294, 544.3917447150221, 606.1084208372276, 523.7606513506518, 653.6301797321853, 613.0849269995014, 554.5237228778102, 585.4041054570541, 597.7711710509074, 615.6793812477309, 624.6954500223874, 634.8935963836957, 694.1458380021522, 713.5689555081532, 828.1056289179196, 828.1056289179196, 943.4874241251719, 544.3917447150221, 442.0894767751855, 814.2851046693971, 849.4183429392834, 511.6041344750537, 514.708600165524, 615.6793812477309, 497.50293575990383, 554.5237228778102, 606.1084208372276, 694.1458380021522, 523.7606513506518, 776.0350856186084, 585.4041054570541, 597.7711710509074, 599.0427310860888, 613.0849269995014, 618.8160595117623, 624.6954500223874, 634.8935963836957, 653.6301797321853, 660.6102535231631, 669.1168290774061, 713.5689555081532, 718.4768488247294, 597.7711710509074, 613.0849269995014, 713.5689555081532, 653.6301797321853, 606.1084208372276, 442.0894767751855, 511.6041344750537, 624.6954500223874, 618.8160595117623, 828.1056289179196, 523.7606513506518, 718.4768488247294, 497.50293575990383, 514.708600165524, 776.0350856186084, 599.0427310860888, 943.4874241251719, 660.6102535231631, 585.4041054570541, 849.4183429392834, 554.5237228778102, 694.1458380021522, 634.8935963836957, 544.3917447150221, 615.6793812477309, 669.1168290774061, 814.2851046693971, 624.6954500223874, 615.6793812477309, 511.6041344750537, 497.50293575990383, 634.8935963836957, 554.5237228778102, 694.1458380021522, 660.6102535231631, 713.5689555081532, 597.7711710509074, 943.4874241251719, 442.0894767751855, 606.1084208372276, 776.0350856186084, 849.4183429392834, 544.3917447150221, 828.1056289179196, 599.0427310860888, 585.4041054570541, 718.4768488247294, 514.708600165524, 523.7606513506518, 613.0849269995014, 618.8160595117623, 653.6301797321853, 669.1168290774061, 814.2851046693971, 442.0894767751855, 497.50293575990383, 511.6041344750537, 514.708600165524, 523.7606513506518, 544.3917447150221, 554.5237228778102, 585.4041054570541, 597.7711710509074, 599.0427310860888, 606.1084208372276, 613.0849269995014, 615.6793812477309, 618.8160595117623, 624.6954500223874, 634.8935963836957, 653.6301797321853, 660.6102535231631, 669.1168290774061, 694.1458380021522, 713.5689555081532, 718.4768488247294, 776.0350856186084, 814.2851046693971, 828.1056289179196, 849.4183429392834, 943.4874241251719, 442.0894767751855, 497.50293575990383, 511.6041344750537, 514.708600165524, 523.7606513506518, 544.3917447150221, 554.5237228778102, 585.4041054570541, 597.7711710509074, 599.0427310860888, 606.1084208372276, 613.0849269995014, 615.6793812477309, 618.8160595117623, 624.6954500223874, 634.8935963836957, 653.6301797321853, 660.6102535231631, 669.1168290774061, 694.1458380021522, 713.5689555081532, 718.4768488247294, 776.0350856186084, 814.2851046693971, 828.1056289179196, 849.4183429392834, 943.4874241251719, 442.0894767751855, 497.50293575990383, 511.6041344750537, 514.708600165524, 523.7606513506518, 544.3917447150221, 554.5237228778102, 585.4041054570541, 597.7711710509074, 599.0427310860888, 606.1084208372276, 613.0849269995014, 615.6793812477309, 618.8160595117623, 624.6954500223874, 634.8935963836957, 653.6301797321853, 660.6102535231631, 669.1168290774061, 694.1458380021522, 713.5689555081532, 718.4768488247294, 776.0350856186084, 814.2851046693971, 828.1056289179196, 849.4183429392834, 943.4874241251719, 442.0894767751855, 497.50293575990383, 511.6041344750537, 514.708600165524, 523.7606513506518, 544.3917447150221, 554.5237228778102, 585.4041054570541, 597.7711710509074, 599.0427310860888, 606.1084208372276, 613.0849269995014, 615.6793812477309, 618.8160595117623, 624.6954500223874, 634.8935963836957, 653.6301797321853, 660.6102535231631, 669.1168290774061, 694.1458380021522, 713.5689555081532, 718.4768488247294, 776.0350856186084, 814.2851046693971, 828.1056289179196, 849.4183429392834, 943.4874241251719, 442.0894767751855, 497.50293575990383, 511.6041344750537, 514.708600165524, 523.7606513506518, 544.3917447150221, 554.5237228778102, 585.4041054570541, 597.7711710509074, 599.0427310860888, 606.1084208372276, 613.0849269995014, 615.6793812477309, 618.8160595117623, 624.6954500223874, 634.8935963836957, 653.6301797321853, 660.6102535231631, 669.1168290774061, 694.1458380021522, 713.5689555081532, 718.4768488247294, 776.0350856186084, 814.2851046693971, 828.1056289179196, 849.4183429392834, 943.4874241251719, 442.0894767751855, 497.50293575990383, 511.6041344750537, 514.708600165524, 523.7606513506518, 544.3917447150221, 554.5237228778102, 585.4041054570541, 597.7711710509074, 599.0427310860888, 606.1084208372276, 613.0849269995014, 615.6793812477309, 618.8160595117623, 624.6954500223874, 634.8935963836957, 653.6301797321853, 660.6102535231631, 669.1168290774061, 694.1458380021522, 713.5689555081532, 718.4768488247294, 776.0350856186084, 814.2851046693971, 828.1056289179196, 849.4183429392834, 943.4874241251719, 442.0894767751855, 497.50293575990383, 511.6041344750537, 514.708600165524, 523.7606513506518, 544.3917447150221, 554.5237228778102, 585.4041054570541, 597.7711710509074, 599.0427310860888, 606.1084208372276, 613.0849269995014, 615.6793812477309, 618.8160595117623, 624.6954500223874, 634.8935963836957, 653.6301797321853, 660.6102535231631, 669.1168290774061, 694.1458380021522, 713.5689555081532, 718.4768488247294, 776.0350856186084, 814.2851046693971, 828.1056289179196, 849.4183429392834, 943.4874241251719, 442.0894767751855, 497.50293575990383, 511.6041344750537, 514.708600165524, 523.7606513506518, 544.3917447150221, 554.5237228778102, 585.4041054570541, 597.7711710509074, 599.0427310860888, 606.1084208372276, 613.0849269995014, 615.6793812477309, 618.8160595117623, 624.6954500223874, 634.8935963836957, 653.6301797321853, 660.6102535231631, 669.1168290774061, 694.1458380021522, 713.5689555081532, 718.4768488247294, 776.0350856186084, 814.2851046693971, 828.1056289179196, 849.4183429392834, 943.4874241251719, 442.0894767751855, 497.50293575990383, 511.6041344750537, 514.708600165524, 523.7606513506518, 544.3917447150221, 554.5237228778102, 585.4041054570541, 597.7711710509074, 599.0427310860888, 606.1084208372276, 613.0849269995014, 615.6793812477309, 618.8160595117623, 624.6954500223874, 634.8935963836957, 653.6301797321853, 660.6102535231631, 669.1168290774061, 694.1458380021522, 713.5689555081532, 718.4768488247294, 776.0350856186084, 814.2851046693971, 828.1056289179196, 849.4183429392834, 943.4874241251719, 442.0894767751855, 497.50293575990383, 511.6041344750537, 514.708600165524, 523.7606513506518, 544.3917447150221, 554.5237228778102, 585.4041054570541, 597.7711710509074, 599.0427310860888, 606.1084208372276, 613.0849269995014, 615.6793812477309, 618.8160595117623, 624.6954500223874, 634.8935963836957, 653.6301797321853, 660.6102535231631, 669.1168290774061, 694.1458380021522, 713.5689555081532, 718.4768488247294, 776.0350856186084, 814.2851046693971, 828.1056289179196, 849.4183429392834, 943.4874241251719, 442.0894767751855, 497.50293575990383, 511.6041344750537, 514.708600165524, 523.7606513506518, 544.3917447150221, 554.5237228778102, 585.4041054570541, 597.7711710509074, 599.0427310860888, 606.1084208372276, 613.0849269995014, 615.6793812477309, 618.8160595117623, 624.6954500223874, 634.8935963836957, 653.6301797321853, 660.6102535231631, 669.1168290774061, 694.1458380021522, 713.5689555081532, 718.4768488247294, 776.0350856186084, 814.2851046693971, 828.1056289179196, 849.4183429392834, 943.4874241251719, 442.0894767751855, 497.50293575990383, 511.6041344750537, 514.708600165524, 523.7606513506518, 544.3917447150221, 554.5237228778102, 585.4041054570541, 597.7711710509074, 599.0427310860888, 606.1084208372276, 613.0849269995014, 615.6793812477309, 618.8160595117623, 624.6954500223874, 634.8935963836957, 653.6301797321853, 660.6102535231631, 669.1168290774061, 694.1458380021522, 713.5689555081532, 718.4768488247294, 776.0350856186084, 814.2851046693971, 828.1056289179196, 849.4183429392834, 943.4874241251719, 442.0894767751855, 497.50293575990383, 511.6041344750537, 514.708600165524, 523.7606513506518, 544.3917447150221, 554.5237228778102, 585.4041054570541, 597.7711710509074, 599.0427310860888, 606.1084208372276, 613.0849269995014, 615.6793812477309, 618.8160595117623, 624.6954500223874, 634.8935963836957, 653.6301797321853, 660.6102535231631, 669.1168290774061, 694.1458380021522, 713.5689555081532, 718.4768488247294, 776.0350856186084, 814.2851046693971, 828.1056289179196, 849.4183429392834, 943.4874241251719, 442.0894767751855, 497.50293575990383, 511.6041344750537, 514.708600165524, 523.7606513506518, 544.3917447150221, 554.5237228778102, 585.4041054570541, 597.7711710509074, 599.0427310860888, 606.1084208372276, 613.0849269995014, 615.6793812477309, 618.8160595117623, 624.6954500223874, 634.8935963836957, 653.6301797321853, 660.6102535231631, 669.1168290774061, 694.1458380021522, 713.5689555081532, 718.4768488247294, 776.0350856186084, 814.2851046693971, 828.1056289179196, 849.4183429392834, 943.4874241251719, 618.8160595117623, 943.4874241251719, 694.1458380021522, 653.6301797321853, 660.6102535231631, 713.5689555081532, 849.4183429392834, 828.1056289179196, 718.4768488247294, 585.4041054570541, 554.5237228778102, 606.1084208372276, 514.708600165524, 497.50293575990383, 776.0350856186084, 523.7606513506518, 669.1168290774061, 442.0894767751855, 511.6041344750537, 599.0427310860888, 544.3917447150221, 814.2851046693971, 634.8935963836957, 597.7711710509074, 613.0849269995014, 615.6793812477309, 624.6954500223874, 442.0894767751855, 497.50293575990383, 511.6041344750537, 514.708600165524, 523.7606513506518, 544.3917447150221, 554.5237228778102, 585.4041054570541, 597.7711710509074, 599.0427310860888, 606.1084208372276, 613.0849269995014, 615.6793812477309, 618.8160595117623, 624.6954500223874, 634.8935963836957, 653.6301797321853, 660.6102535231631, 669.1168290774061, 694.1458380021522, 713.5689555081532, 718.4768488247294, 776.0350856186084, 814.2851046693971, 828.1056289179196, 849.4183429392834, 943.4874241251719, 442.0894767751855, 497.50293575990383, 511.6041344750537, 514.708600165524, 523.7606513506518, 544.3917447150221, 554.5237228778102, 585.4041054570541, 597.7711710509074, 599.0427310860888, 606.1084208372276, 613.0849269995014, 615.6793812477309, 618.8160595117623, 624.6954500223874, 634.8935963836957, 653.6301797321853, 660.6102535231631, 669.1168290774061, 694.1458380021522, 713.5689555081532, 718.4768488247294, 776.0350856186084, 814.2851046693971, 828.1056289179196, 849.4183429392834, 943.4874241251719, 442.0894767751855, 497.50293575990383, 511.6041344750537, 514.708600165524, 523.7606513506518, 544.3917447150221, 554.5237228778102, 585.4041054570541, 597.7711710509074, 599.0427310860888, 606.1084208372276, 613.0849269995014, 615.6793812477309, 618.8160595117623, 624.6954500223874, 634.8935963836957, 653.6301797321853, 660.6102535231631, 669.1168290774061, 694.1458380021522, 713.5689555081532, 718.4768488247294, 776.0350856186084, 814.2851046693971, 828.1056289179196, 849.4183429392834, 943.4874241251719, 442.0894767751855, 497.50293575990383, 511.6041344750537, 514.708600165524, 523.7606513506518, 544.3917447150221, 554.5237228778102, 585.4041054570541, 597.7711710509074, 599.0427310860888, 606.1084208372276, 613.0849269995014, 615.6793812477309, 618.8160595117623, 624.6954500223874, 634.8935963836957, 653.6301797321853, 660.6102535231631, 669.1168290774061, 694.1458380021522, 713.5689555081532, 718.4768488247294, 776.0350856186084, 814.2851046693971, 828.1056289179196, 849.4183429392834, 943.4874241251719, 442.0894767751855, 497.50293575990383, 511.6041344750537, 514.708600165524, 523.7606513506518, 544.3917447150221, 554.5237228778102, 585.4041054570541, 597.7711710509074, 599.0427310860888, 606.1084208372276, 613.0849269995014, 615.6793812477309, 618.8160595117623, 624.6954500223874, 634.8935963836957, 653.6301797321853, 660.6102535231631, 669.1168290774061, 694.1458380021522, 713.5689555081532, 718.4768488247294, 776.0350856186084, 814.2851046693971, 828.1056289179196, 849.4183429392834, 943.4874241251719, 660.6102535231631, 599.0427310860888, 544.3917447150221, 618.8160595117623, 497.50293575990383, 511.6041344750537, 713.5689555081532, 624.6954500223874, 828.1056289179196, 442.0894767751855, 669.1168290774061, 776.0350856186084, 718.4768488247294, 514.708600165524, 523.7606513506518, 554.5237228778102, 585.4041054570541, 597.7711710509074, 606.1084208372276, 613.0849269995014, 615.6793812477309, 634.8935963836957, 653.6301797321853, 694.1458380021522, 943.4874241251719, 814.2851046693971, 849.4183429392834, 442.0894767751855, 497.50293575990383, 511.6041344750537, 514.708600165524, 523.7606513506518, 544.3917447150221, 554.5237228778102, 585.4041054570541, 597.7711710509074, 599.0427310860888, 606.1084208372276, 613.0849269995014, 615.6793812477309, 618.8160595117623, 624.6954500223874, 634.8935963836957, 653.6301797321853, 660.6102535231631, 669.1168290774061, 694.1458380021522, 713.5689555081532, 718.4768488247294, 776.0350856186084, 814.2851046693971, 828.1056289179196, 849.4183429392834, 943.4874241251719, 442.0894767751855, 497.50293575990383, 511.6041344750537, 514.708600165524, 523.7606513506518, 544.3917447150221, 554.5237228778102, 585.4041054570541, 597.7711710509074, 599.0427310860888, 606.1084208372276, 613.0849269995014, 615.6793812477309, 618.8160595117623, 624.6954500223874, 634.8935963836957, 653.6301797321853, 660.6102535231631, 669.1168290774061, 694.1458380021522, 713.5689555081532, 718.4768488247294, 776.0350856186084, 814.2851046693971, 828.1056289179196, 849.4183429392834, 943.4874241251719, 514.708600165524, 442.0894767751855, 660.6102535231631, 718.4768488247294, 585.4041054570541, 606.1084208372276, 634.8935963836957, 618.8160595117623, 653.6301797321853, 615.6793812477309, 669.1168290774061, 497.50293575990383, 511.6041344750537, 814.2851046693971, 523.7606513506518, 776.0350856186084, 544.3917447150221, 554.5237228778102, 597.7711710509074, 599.0427310860888, 613.0849269995014, 624.6954500223874, 694.1458380021522, 713.5689555081532, 828.1056289179196, 849.4183429392834, 943.4874241251719, 442.0894767751855, 497.50293575990383, 511.6041344750537, 514.708600165524, 523.7606513506518, 544.3917447150221, 554.5237228778102, 585.4041054570541, 597.7711710509074, 599.0427310860888, 606.1084208372276, 613.0849269995014, 615.6793812477309, 618.8160595117623, 624.6954500223874, 634.8935963836957, 653.6301797321853, 660.6102535231631, 669.1168290774061, 694.1458380021522, 713.5689555081532, 718.4768488247294, 776.0350856186084, 814.2851046693971, 828.1056289179196, 849.4183429392834, 943.4874241251719, 442.0894767751855, 497.50293575990383, 511.6041344750537, 514.708600165524, 523.7606513506518, 544.3917447150221, 554.5237228778102, 585.4041054570541, 597.7711710509074, 599.0427310860888, 606.1084208372276, 613.0849269995014, 615.6793812477309, 618.8160595117623, 624.6954500223874, 634.8935963836957, 653.6301797321853, 660.6102535231631, 669.1168290774061, 694.1458380021522, 713.5689555081532, 718.4768488247294, 776.0350856186084, 814.2851046693971, 828.1056289179196, 849.4183429392834, 943.4874241251719, 585.4041054570541, 634.8935963836957, 606.1084208372276, 669.1168290774061, 660.6102535231631, 718.4768488247294, 694.1458380021522, 943.4874241251719, 442.0894767751855, 814.2851046693971, 776.0350856186084, 497.50293575990383, 511.6041344750537, 514.708600165524, 523.7606513506518, 849.4183429392834, 544.3917447150221, 554.5237228778102, 597.7711710509074, 599.0427310860888, 613.0849269995014, 615.6793812477309, 618.8160595117623, 624.6954500223874, 653.6301797321853, 713.5689555081532, 828.1056289179196, 442.0894767751855, 497.50293575990383, 511.6041344750537, 514.708600165524, 523.7606513506518, 544.3917447150221, 554.5237228778102, 585.4041054570541, 597.7711710509074, 599.0427310860888, 606.1084208372276, 613.0849269995014, 615.6793812477309, 618.8160595117623, 624.6954500223874, 634.8935963836957, 653.6301797321853, 660.6102535231631, 669.1168290774061, 694.1458380021522, 713.5689555081532, 718.4768488247294, 776.0350856186084, 814.2851046693971, 828.1056289179196, 849.4183429392834, 943.4874241251719, 634.8935963836957, 669.1168290774061, 597.7711710509074, 814.2851046693971, 613.0849269995014, 618.8160595117623, 514.708600165524, 943.4874241251719, 828.1056289179196, 713.5689555081532, 442.0894767751855, 660.6102535231631, 497.50293575990383, 511.6041344750537, 523.7606513506518, 544.3917447150221, 554.5237228778102, 585.4041054570541, 776.0350856186084, 599.0427310860888, 606.1084208372276, 615.6793812477309, 624.6954500223874, 653.6301797321853, 694.1458380021522, 718.4768488247294, 849.4183429392834, 442.0894767751855, 497.50293575990383, 511.6041344750537, 514.708600165524, 523.7606513506518, 544.3917447150221, 554.5237228778102, 585.4041054570541, 597.7711710509074, 599.0427310860888, 606.1084208372276, 613.0849269995014, 615.6793812477309, 618.8160595117623, 624.6954500223874, 634.8935963836957, 653.6301797321853, 660.6102535231631, 669.1168290774061, 694.1458380021522, 713.5689555081532, 718.4768488247294, 776.0350856186084, 814.2851046693971, 828.1056289179196, 849.4183429392834, 943.4874241251719, 442.0894767751855, 497.50293575990383, 511.6041344750537, 514.708600165524, 523.7606513506518, 544.3917447150221, 554.5237228778102, 585.4041054570541, 597.7711710509074, 599.0427310860888, 606.1084208372276, 613.0849269995014, 615.6793812477309, 618.8160595117623, 624.6954500223874, 634.8935963836957, 653.6301797321853, 660.6102535231631, 669.1168290774061, 694.1458380021522, 713.5689555081532, 718.4768488247294, 776.0350856186084, 814.2851046693971, 828.1056289179196, 849.4183429392834, 943.4874241251719, 442.0894767751855, 497.50293575990383, 511.6041344750537, 523.7606513506518, 514.708600165524, 544.3917447150221, 554.5237228778102, 585.4041054570541, 597.7711710509074, 599.0427310860888, 606.1084208372276, 615.6793812477309, 613.0849269995014, 618.8160595117623, 624.6954500223874, 634.8935963836957, 653.6301797321853, 660.6102535231631, 669.1168290774061, 694.1458380021522, 713.5689555081532, 718.4768488247294, 776.0350856186084, 814.2851046693971, 828.1056289179196, 849.4183429392834, 943.4874241251719, 442.0894767751855, 497.50293575990383, 511.6041344750537, 514.708600165524, 523.7606513506518, 544.3917447150221, 554.5237228778102, 585.4041054570541, 597.7711710509074, 599.0427310860888, 606.1084208372276, 613.0849269995014, 615.6793812477309, 618.8160595117623, 624.6954500223874, 634.8935963836957, 653.6301797321853, 660.6102535231631, 669.1168290774061, 694.1458380021522, 713.5689555081532, 718.4768488247294, 776.0350856186084, 814.2851046693971, 828.1056289179196, 849.4183429392834, 943.4874241251719, 776.0350856186084, 694.1458380021522, 618.8160595117623, 613.0849269995014, 634.8935963836957, 943.4874241251719, 599.0427310860888, 624.6954500223874, 828.1056289179196, 606.1084208372276, 814.2851046693971, 523.7606513506518, 554.5237228778102, 514.708600165524, 660.6102535231631, 442.0894767751855, 718.4768488247294, 544.3917447150221, 585.4041054570541, 615.6793812477309, 849.4183429392834, 497.50293575990383, 511.6041344750537, 597.7711710509074, 653.6301797321853, 669.1168290774061, 713.5689555081532, 442.0894767751855, 497.50293575990383, 511.6041344750537, 514.708600165524, 523.7606513506518, 544.3917447150221, 554.5237228778102, 585.4041054570541, 597.7711710509074, 599.0427310860888, 606.1084208372276, 613.0849269995014, 615.6793812477309, 618.8160595117623, 624.6954500223874, 634.8935963836957, 653.6301797321853, 660.6102535231631, 669.1168290774061, 694.1458380021522, 713.5689555081532, 718.4768488247294, 776.0350856186084, 814.2851046693971, 828.1056289179196, 849.4183429392834, 943.4874241251719, 442.0894767751855, 497.50293575990383, 511.6041344750537, 514.708600165524, 523.7606513506518, 544.3917447150221, 554.5237228778102, 585.4041054570541, 597.7711710509074, 599.0427310860888, 606.1084208372276, 613.0849269995014, 615.6793812477309, 618.8160595117623, 624.6954500223874, 634.8935963836957, 653.6301797321853, 660.6102535231631, 669.1168290774061, 694.1458380021522, 713.5689555081532, 718.4768488247294, 776.0350856186084, 814.2851046693971, 828.1056289179196, 849.4183429392834, 943.4874241251719, 634.8935963836957, 660.6102535231631, 554.5237228778102, 497.50293575990383, 599.0427310860888, 943.4874241251719, 776.0350856186084, 615.6793812477309, 618.8160595117623, 849.4183429392834, 606.1084208372276, 669.1168290774061, 597.7711710509074, 828.1056289179196, 624.6954500223874, 718.4768488247294, 814.2851046693971, 442.0894767751855, 713.5689555081532, 511.6041344750537, 514.708600165524, 523.7606513506518, 544.3917447150221, 585.4041054570541, 613.0849269995014, 653.6301797321853, 694.1458380021522], \"Category\": [\"Default\", \"Default\", \"Default\", \"Default\", \"Default\", \"Default\", \"Default\", \"Default\", \"Default\", \"Default\", \"Default\", \"Default\", \"Default\", \"Default\", \"Default\", \"Default\", \"Default\", \"Default\", \"Default\", \"Default\", \"Default\", \"Default\", \"Default\", \"Default\", \"Default\", \"Default\", \"Default\", \"Topic1\", \"Topic1\", \"Topic1\", \"Topic1\", \"Topic1\", \"Topic1\", \"Topic1\", \"Topic1\", \"Topic1\", \"Topic1\", \"Topic1\", \"Topic1\", \"Topic1\", \"Topic1\", \"Topic1\", \"Topic1\", \"Topic1\", \"Topic1\", \"Topic1\", \"Topic1\", \"Topic1\", \"Topic1\", \"Topic1\", \"Topic1\", \"Topic1\", \"Topic1\", \"Topic1\", \"Topic2\", \"Topic2\", \"Topic2\", \"Topic2\", \"Topic2\", \"Topic2\", \"Topic2\", \"Topic2\", \"Topic2\", \"Topic2\", \"Topic2\", \"Topic2\", \"Topic2\", \"Topic2\", \"Topic2\", \"Topic2\", \"Topic2\", \"Topic2\", \"Topic2\", \"Topic2\", \"Topic2\", \"Topic2\", \"Topic2\", \"Topic2\", \"Topic2\", \"Topic2\", \"Topic2\", \"Topic3\", \"Topic3\", \"Topic3\", \"Topic3\", \"Topic3\", \"Topic3\", \"Topic3\", \"Topic3\", \"Topic3\", \"Topic3\", \"Topic3\", \"Topic3\", \"Topic3\", \"Topic3\", \"Topic3\", \"Topic3\", \"Topic3\", \"Topic3\", \"Topic3\", \"Topic3\", \"Topic3\", \"Topic3\", \"Topic3\", \"Topic3\", \"Topic3\", \"Topic3\", \"Topic3\", \"Topic4\", \"Topic4\", \"Topic4\", \"Topic4\", \"Topic4\", \"Topic4\", \"Topic4\", \"Topic4\", \"Topic4\", \"Topic4\", \"Topic4\", \"Topic4\", \"Topic4\", \"Topic4\", \"Topic4\", \"Topic4\", \"Topic4\", \"Topic4\", \"Topic4\", \"Topic4\", \"Topic4\", \"Topic4\", \"Topic4\", \"Topic4\", \"Topic4\", \"Topic4\", \"Topic4\", \"Topic5\", \"Topic5\", \"Topic5\", \"Topic5\", \"Topic5\", \"Topic5\", \"Topic5\", \"Topic5\", \"Topic5\", \"Topic5\", \"Topic5\", \"Topic5\", \"Topic5\", \"Topic5\", \"Topic5\", \"Topic5\", \"Topic5\", \"Topic5\", \"Topic5\", \"Topic5\", \"Topic5\", \"Topic5\", \"Topic5\", \"Topic5\", \"Topic5\", \"Topic5\", \"Topic5\", \"Topic6\", \"Topic6\", \"Topic6\", \"Topic6\", \"Topic6\", \"Topic6\", \"Topic6\", \"Topic6\", \"Topic6\", \"Topic6\", \"Topic6\", \"Topic6\", \"Topic6\", \"Topic6\", \"Topic6\", \"Topic6\", \"Topic6\", \"Topic6\", \"Topic6\", \"Topic6\", \"Topic6\", \"Topic6\", \"Topic6\", \"Topic6\", \"Topic6\", \"Topic6\", \"Topic6\", \"Topic7\", \"Topic7\", \"Topic7\", \"Topic7\", \"Topic7\", \"Topic7\", \"Topic7\", \"Topic7\", \"Topic7\", \"Topic7\", \"Topic7\", \"Topic7\", \"Topic7\", \"Topic7\", \"Topic7\", \"Topic7\", \"Topic7\", \"Topic7\", \"Topic7\", \"Topic7\", \"Topic7\", \"Topic7\", \"Topic7\", \"Topic7\", \"Topic7\", \"Topic7\", \"Topic7\", \"Topic8\", \"Topic8\", \"Topic8\", \"Topic8\", \"Topic8\", \"Topic8\", \"Topic8\", \"Topic8\", \"Topic8\", \"Topic8\", \"Topic8\", \"Topic8\", \"Topic8\", \"Topic8\", \"Topic8\", \"Topic8\", \"Topic8\", \"Topic8\", \"Topic8\", \"Topic8\", \"Topic8\", \"Topic8\", \"Topic8\", \"Topic8\", \"Topic8\", \"Topic8\", \"Topic8\", \"Topic9\", \"Topic9\", \"Topic9\", \"Topic9\", \"Topic9\", \"Topic9\", \"Topic9\", \"Topic9\", \"Topic9\", \"Topic9\", \"Topic9\", \"Topic9\", \"Topic9\", \"Topic9\", \"Topic9\", \"Topic9\", \"Topic9\", \"Topic9\", \"Topic9\", \"Topic9\", \"Topic9\", \"Topic9\", \"Topic9\", \"Topic9\", \"Topic9\", \"Topic9\", \"Topic9\", \"Topic10\", \"Topic10\", \"Topic10\", \"Topic10\", \"Topic10\", \"Topic10\", \"Topic10\", \"Topic10\", \"Topic10\", \"Topic10\", \"Topic10\", \"Topic10\", \"Topic10\", \"Topic10\", \"Topic10\", \"Topic10\", \"Topic10\", \"Topic10\", \"Topic10\", \"Topic10\", \"Topic10\", \"Topic10\", \"Topic10\", \"Topic10\", \"Topic10\", \"Topic10\", \"Topic10\", \"Topic11\", \"Topic11\", \"Topic11\", \"Topic11\", \"Topic11\", \"Topic11\", \"Topic11\", \"Topic11\", \"Topic11\", \"Topic11\", \"Topic11\", \"Topic11\", \"Topic11\", \"Topic11\", \"Topic11\", \"Topic11\", \"Topic11\", \"Topic11\", \"Topic11\", \"Topic11\", \"Topic11\", \"Topic11\", \"Topic11\", \"Topic11\", \"Topic11\", \"Topic11\", \"Topic11\", \"Topic12\", \"Topic12\", \"Topic12\", \"Topic12\", \"Topic12\", \"Topic12\", \"Topic12\", \"Topic12\", \"Topic12\", \"Topic12\", \"Topic12\", \"Topic12\", \"Topic12\", \"Topic12\", \"Topic12\", \"Topic12\", \"Topic12\", \"Topic12\", \"Topic12\", \"Topic12\", \"Topic12\", \"Topic12\", \"Topic12\", \"Topic12\", \"Topic12\", \"Topic12\", \"Topic12\", \"Topic13\", \"Topic13\", \"Topic13\", \"Topic13\", \"Topic13\", \"Topic13\", \"Topic13\", \"Topic13\", \"Topic13\", \"Topic13\", \"Topic13\", \"Topic13\", \"Topic13\", \"Topic13\", \"Topic13\", \"Topic13\", \"Topic13\", \"Topic13\", \"Topic13\", \"Topic13\", \"Topic13\", \"Topic13\", \"Topic13\", \"Topic13\", \"Topic13\", \"Topic13\", \"Topic13\", \"Topic14\", \"Topic14\", \"Topic14\", \"Topic14\", \"Topic14\", \"Topic14\", \"Topic14\", \"Topic14\", \"Topic14\", \"Topic14\", \"Topic14\", \"Topic14\", \"Topic14\", \"Topic14\", \"Topic14\", \"Topic14\", \"Topic14\", \"Topic14\", \"Topic14\", \"Topic14\", \"Topic14\", \"Topic14\", \"Topic14\", \"Topic14\", \"Topic14\", \"Topic14\", \"Topic14\", \"Topic15\", \"Topic15\", \"Topic15\", \"Topic15\", \"Topic15\", \"Topic15\", \"Topic15\", \"Topic15\", \"Topic15\", \"Topic15\", \"Topic15\", \"Topic15\", \"Topic15\", \"Topic15\", \"Topic15\", \"Topic15\", \"Topic15\", \"Topic15\", \"Topic15\", \"Topic15\", \"Topic15\", \"Topic15\", \"Topic15\", \"Topic15\", \"Topic15\", \"Topic15\", \"Topic15\", \"Topic16\", \"Topic16\", \"Topic16\", \"Topic16\", \"Topic16\", \"Topic16\", \"Topic16\", \"Topic16\", \"Topic16\", \"Topic16\", \"Topic16\", \"Topic16\", \"Topic16\", \"Topic16\", \"Topic16\", \"Topic16\", \"Topic16\", \"Topic16\", \"Topic16\", \"Topic16\", \"Topic16\", \"Topic16\", \"Topic16\", \"Topic16\", \"Topic16\", \"Topic16\", \"Topic16\", \"Topic17\", \"Topic17\", \"Topic17\", \"Topic17\", \"Topic17\", \"Topic17\", \"Topic17\", \"Topic17\", \"Topic17\", \"Topic17\", \"Topic17\", \"Topic17\", \"Topic17\", \"Topic17\", \"Topic17\", \"Topic17\", \"Topic17\", \"Topic17\", \"Topic17\", \"Topic17\", \"Topic17\", \"Topic17\", \"Topic17\", \"Topic17\", \"Topic17\", \"Topic17\", \"Topic17\", \"Topic18\", \"Topic18\", \"Topic18\", \"Topic18\", \"Topic18\", \"Topic18\", \"Topic18\", \"Topic18\", \"Topic18\", \"Topic18\", \"Topic18\", \"Topic18\", \"Topic18\", \"Topic18\", \"Topic18\", \"Topic18\", \"Topic18\", \"Topic18\", \"Topic18\", \"Topic18\", \"Topic18\", \"Topic18\", \"Topic18\", \"Topic18\", \"Topic18\", \"Topic18\", \"Topic18\", \"Topic19\", \"Topic19\", \"Topic19\", \"Topic19\", \"Topic19\", \"Topic19\", \"Topic19\", \"Topic19\", \"Topic19\", \"Topic19\", \"Topic19\", \"Topic19\", \"Topic19\", \"Topic19\", \"Topic19\", \"Topic19\", \"Topic19\", \"Topic19\", \"Topic19\", \"Topic19\", \"Topic19\", \"Topic19\", \"Topic19\", \"Topic19\", \"Topic19\", \"Topic19\", \"Topic19\", \"Topic20\", \"Topic20\", \"Topic20\", \"Topic20\", \"Topic20\", \"Topic20\", \"Topic20\", \"Topic20\", \"Topic20\", \"Topic20\", \"Topic20\", \"Topic20\", \"Topic20\", \"Topic20\", \"Topic20\", \"Topic20\", \"Topic20\", \"Topic20\", \"Topic20\", \"Topic20\", \"Topic20\", \"Topic20\", \"Topic20\", \"Topic20\", \"Topic20\", \"Topic20\", \"Topic20\", \"Topic21\", \"Topic21\", \"Topic21\", \"Topic21\", \"Topic21\", \"Topic21\", \"Topic21\", \"Topic21\", \"Topic21\", \"Topic21\", \"Topic21\", \"Topic21\", \"Topic21\", \"Topic21\", \"Topic21\", \"Topic21\", \"Topic21\", \"Topic21\", \"Topic21\", \"Topic21\", \"Topic21\", \"Topic21\", \"Topic21\", \"Topic21\", \"Topic21\", \"Topic21\", \"Topic21\", \"Topic22\", \"Topic22\", \"Topic22\", \"Topic22\", \"Topic22\", \"Topic22\", \"Topic22\", \"Topic22\", \"Topic22\", \"Topic22\", \"Topic22\", \"Topic22\", \"Topic22\", \"Topic22\", \"Topic22\", \"Topic22\", \"Topic22\", \"Topic22\", \"Topic22\", \"Topic22\", \"Topic22\", \"Topic22\", \"Topic22\", \"Topic22\", \"Topic22\", \"Topic22\", \"Topic22\", \"Topic23\", \"Topic23\", \"Topic23\", \"Topic23\", \"Topic23\", \"Topic23\", \"Topic23\", \"Topic23\", \"Topic23\", \"Topic23\", \"Topic23\", \"Topic23\", \"Topic23\", \"Topic23\", \"Topic23\", \"Topic23\", \"Topic23\", \"Topic23\", \"Topic23\", \"Topic23\", \"Topic23\", \"Topic23\", \"Topic23\", \"Topic23\", \"Topic23\", \"Topic23\", \"Topic23\", \"Topic24\", \"Topic24\", \"Topic24\", \"Topic24\", \"Topic24\", \"Topic24\", \"Topic24\", \"Topic24\", \"Topic24\", \"Topic24\", \"Topic24\", \"Topic24\", \"Topic24\", \"Topic24\", \"Topic24\", \"Topic24\", \"Topic24\", \"Topic24\", \"Topic24\", \"Topic24\", \"Topic24\", \"Topic24\", \"Topic24\", \"Topic24\", \"Topic24\", \"Topic24\", \"Topic24\", \"Topic25\", \"Topic25\", \"Topic25\", \"Topic25\", \"Topic25\", \"Topic25\", \"Topic25\", \"Topic25\", \"Topic25\", \"Topic25\", \"Topic25\", \"Topic25\", \"Topic25\", \"Topic25\", \"Topic25\", \"Topic25\", \"Topic25\", \"Topic25\", \"Topic25\", \"Topic25\", \"Topic25\", \"Topic25\", \"Topic25\", \"Topic25\", \"Topic25\", \"Topic25\", \"Topic25\", \"Topic26\", \"Topic26\", \"Topic26\", \"Topic26\", \"Topic26\", \"Topic26\", \"Topic26\", \"Topic26\", \"Topic26\", \"Topic26\", \"Topic26\", \"Topic26\", \"Topic26\", \"Topic26\", \"Topic26\", \"Topic26\", \"Topic26\", \"Topic26\", \"Topic26\", \"Topic26\", \"Topic26\", \"Topic26\", \"Topic26\", \"Topic26\", \"Topic26\", \"Topic26\", \"Topic26\", \"Topic27\", \"Topic27\", \"Topic27\", \"Topic27\", \"Topic27\", \"Topic27\", \"Topic27\", \"Topic27\", \"Topic27\", \"Topic27\", \"Topic27\", \"Topic27\", \"Topic27\", \"Topic27\", \"Topic27\", \"Topic27\", \"Topic27\", \"Topic27\", \"Topic27\", \"Topic27\", \"Topic27\", \"Topic27\", \"Topic27\", \"Topic27\", \"Topic27\", \"Topic27\", \"Topic27\", \"Topic28\", \"Topic28\", \"Topic28\", \"Topic28\", \"Topic28\", \"Topic28\", \"Topic28\", \"Topic28\", \"Topic28\", \"Topic28\", \"Topic28\", \"Topic28\", \"Topic28\", \"Topic28\", \"Topic28\", \"Topic28\", \"Topic28\", \"Topic28\", \"Topic28\", \"Topic28\", \"Topic28\", \"Topic28\", \"Topic28\", \"Topic28\", \"Topic28\", \"Topic28\", \"Topic28\", \"Topic29\", \"Topic29\", \"Topic29\", \"Topic29\", \"Topic29\", \"Topic29\", \"Topic29\", \"Topic29\", \"Topic29\", \"Topic29\", \"Topic29\", \"Topic29\", \"Topic29\", \"Topic29\", \"Topic29\", \"Topic29\", \"Topic29\", \"Topic29\", \"Topic29\", \"Topic29\", \"Topic29\", \"Topic29\", \"Topic29\", \"Topic29\", \"Topic29\", \"Topic29\", \"Topic29\", \"Topic30\", \"Topic30\", \"Topic30\", \"Topic30\", \"Topic30\", \"Topic30\", \"Topic30\", \"Topic30\", \"Topic30\", \"Topic30\", \"Topic30\", \"Topic30\", \"Topic30\", \"Topic30\", \"Topic30\", \"Topic30\", \"Topic30\", \"Topic30\", \"Topic30\", \"Topic30\", \"Topic30\", \"Topic30\", \"Topic30\", \"Topic30\", \"Topic30\", \"Topic30\", \"Topic30\", \"Topic31\", \"Topic31\", \"Topic31\", \"Topic31\", \"Topic31\", \"Topic31\", \"Topic31\", \"Topic31\", \"Topic31\", \"Topic31\", \"Topic31\", \"Topic31\", \"Topic31\", \"Topic31\", \"Topic31\", \"Topic31\", \"Topic31\", \"Topic31\", \"Topic31\", \"Topic31\", \"Topic31\", \"Topic31\", \"Topic31\", \"Topic31\", \"Topic31\", \"Topic31\", \"Topic31\", \"Topic32\", \"Topic32\", \"Topic32\", \"Topic32\", \"Topic32\", \"Topic32\", \"Topic32\", \"Topic32\", \"Topic32\", \"Topic32\", \"Topic32\", \"Topic32\", \"Topic32\", \"Topic32\", \"Topic32\", \"Topic32\", \"Topic32\", \"Topic32\", \"Topic32\", \"Topic32\", \"Topic32\", \"Topic32\", \"Topic32\", \"Topic32\", \"Topic32\", \"Topic32\", \"Topic32\", \"Topic33\", \"Topic33\", \"Topic33\", \"Topic33\", \"Topic33\", \"Topic33\", \"Topic33\", \"Topic33\", \"Topic33\", \"Topic33\", \"Topic33\", \"Topic33\", \"Topic33\", \"Topic33\", \"Topic33\", \"Topic33\", \"Topic33\", \"Topic33\", \"Topic33\", \"Topic33\", \"Topic33\", \"Topic33\", \"Topic33\", \"Topic33\", \"Topic33\", \"Topic33\", \"Topic33\", \"Topic34\", \"Topic34\", \"Topic34\", \"Topic34\", \"Topic34\", \"Topic34\", \"Topic34\", \"Topic34\", \"Topic34\", \"Topic34\", \"Topic34\", \"Topic34\", \"Topic34\", \"Topic34\", \"Topic34\", \"Topic34\", \"Topic34\", \"Topic34\", \"Topic34\", \"Topic34\", \"Topic34\", \"Topic34\", \"Topic34\", \"Topic34\", \"Topic34\", \"Topic34\", \"Topic34\", \"Topic35\", \"Topic35\", \"Topic35\", \"Topic35\", \"Topic35\", \"Topic35\", \"Topic35\", \"Topic35\", \"Topic35\", \"Topic35\", \"Topic35\", \"Topic35\", \"Topic35\", \"Topic35\", \"Topic35\", \"Topic35\", \"Topic35\", \"Topic35\", \"Topic35\", \"Topic35\", \"Topic35\", \"Topic35\", \"Topic35\", \"Topic35\", \"Topic35\", \"Topic35\", \"Topic35\", \"Topic36\", \"Topic36\", \"Topic36\", \"Topic36\", \"Topic36\", \"Topic36\", \"Topic36\", \"Topic36\", \"Topic36\", \"Topic36\", \"Topic36\", \"Topic36\", \"Topic36\", \"Topic36\", \"Topic36\", \"Topic36\", \"Topic36\", \"Topic36\", \"Topic36\", \"Topic36\", \"Topic36\", \"Topic36\", \"Topic36\", \"Topic36\", \"Topic36\", \"Topic36\", \"Topic36\", \"Topic37\", \"Topic37\", \"Topic37\", \"Topic37\", \"Topic37\", \"Topic37\", \"Topic37\", \"Topic37\", \"Topic37\", \"Topic37\", \"Topic37\", \"Topic37\", \"Topic37\", \"Topic37\", \"Topic37\", \"Topic37\", \"Topic37\", \"Topic37\", \"Topic37\", \"Topic37\", \"Topic37\", \"Topic37\", \"Topic37\", \"Topic37\", \"Topic37\", \"Topic37\", \"Topic37\", \"Topic38\", \"Topic38\", \"Topic38\", \"Topic38\", \"Topic38\", \"Topic38\", \"Topic38\", \"Topic38\", \"Topic38\", \"Topic38\", \"Topic38\", \"Topic38\", \"Topic38\", \"Topic38\", \"Topic38\", \"Topic38\", \"Topic38\", \"Topic38\", \"Topic38\", \"Topic38\", \"Topic38\", \"Topic38\", \"Topic38\", \"Topic38\", \"Topic38\", \"Topic38\", \"Topic38\", \"Topic39\", \"Topic39\", \"Topic39\", \"Topic39\", \"Topic39\", \"Topic39\", \"Topic39\", \"Topic39\", \"Topic39\", \"Topic39\", \"Topic39\", \"Topic39\", \"Topic39\", \"Topic39\", \"Topic39\", \"Topic39\", \"Topic39\", \"Topic39\", \"Topic39\", \"Topic39\", \"Topic39\", \"Topic39\", \"Topic39\", \"Topic39\", \"Topic39\", \"Topic39\", \"Topic39\", \"Topic40\", \"Topic40\", \"Topic40\", \"Topic40\", \"Topic40\", \"Topic40\", \"Topic40\", \"Topic40\", \"Topic40\", \"Topic40\", \"Topic40\", \"Topic40\", \"Topic40\", \"Topic40\", \"Topic40\", \"Topic40\", \"Topic40\", \"Topic40\", \"Topic40\", \"Topic40\", \"Topic40\", \"Topic40\", \"Topic40\", \"Topic40\", \"Topic40\", \"Topic40\", \"Topic40\", \"Topic41\", \"Topic41\", \"Topic41\", \"Topic41\", \"Topic41\", \"Topic41\", \"Topic41\", \"Topic41\", \"Topic41\", \"Topic41\", \"Topic41\", \"Topic41\", \"Topic41\", \"Topic41\", \"Topic41\", \"Topic41\", \"Topic41\", \"Topic41\", \"Topic41\", \"Topic41\", \"Topic41\", \"Topic41\", \"Topic41\", \"Topic41\", \"Topic41\", \"Topic41\", \"Topic41\", \"Topic42\", \"Topic42\", \"Topic42\", \"Topic42\", \"Topic42\", \"Topic42\", \"Topic42\", \"Topic42\", \"Topic42\", \"Topic42\", \"Topic42\", \"Topic42\", \"Topic42\", \"Topic42\", \"Topic42\", \"Topic42\", \"Topic42\", \"Topic42\", \"Topic42\", \"Topic42\", \"Topic42\", \"Topic42\", \"Topic42\", \"Topic42\", \"Topic42\", \"Topic42\", \"Topic42\", \"Topic43\", \"Topic43\", \"Topic43\", \"Topic43\", \"Topic43\", \"Topic43\", \"Topic43\", \"Topic43\", \"Topic43\", \"Topic43\", \"Topic43\", \"Topic43\", \"Topic43\", \"Topic43\", \"Topic43\", \"Topic43\", \"Topic43\", \"Topic43\", \"Topic43\", \"Topic43\", \"Topic43\", \"Topic43\", \"Topic43\", \"Topic43\", \"Topic43\", \"Topic43\", \"Topic43\", \"Topic44\", \"Topic44\", \"Topic44\", \"Topic44\", \"Topic44\", \"Topic44\", \"Topic44\", \"Topic44\", \"Topic44\", \"Topic44\", \"Topic44\", \"Topic44\", \"Topic44\", \"Topic44\", \"Topic44\", \"Topic44\", \"Topic44\", \"Topic44\", \"Topic44\", \"Topic44\", \"Topic44\", \"Topic44\", \"Topic44\", \"Topic44\", \"Topic44\", \"Topic44\", \"Topic44\", \"Topic45\", \"Topic45\", \"Topic45\", \"Topic45\", \"Topic45\", \"Topic45\", \"Topic45\", \"Topic45\", \"Topic45\", \"Topic45\", \"Topic45\", \"Topic45\", \"Topic45\", \"Topic45\", \"Topic45\", \"Topic45\", \"Topic45\", \"Topic45\", \"Topic45\", \"Topic45\", \"Topic45\", \"Topic45\", \"Topic45\", \"Topic45\", \"Topic45\", \"Topic45\", \"Topic45\", \"Topic46\", \"Topic46\", \"Topic46\", \"Topic46\", \"Topic46\", \"Topic46\", \"Topic46\", \"Topic46\", \"Topic46\", \"Topic46\", \"Topic46\", \"Topic46\", \"Topic46\", \"Topic46\", \"Topic46\", \"Topic46\", \"Topic46\", \"Topic46\", \"Topic46\", \"Topic46\", \"Topic46\", \"Topic46\", \"Topic46\", \"Topic46\", \"Topic46\", \"Topic46\", \"Topic46\", \"Topic47\", \"Topic47\", \"Topic47\", \"Topic47\", \"Topic47\", \"Topic47\", \"Topic47\", \"Topic47\", \"Topic47\", \"Topic47\", \"Topic47\", \"Topic47\", \"Topic47\", \"Topic47\", \"Topic47\", \"Topic47\", \"Topic47\", \"Topic47\", \"Topic47\", \"Topic47\", \"Topic47\", \"Topic47\", \"Topic47\", \"Topic47\", \"Topic47\", \"Topic47\", \"Topic47\", \"Topic48\", \"Topic48\", \"Topic48\", \"Topic48\", \"Topic48\", \"Topic48\", \"Topic48\", \"Topic48\", \"Topic48\", \"Topic48\", \"Topic48\", \"Topic48\", \"Topic48\", \"Topic48\", \"Topic48\", \"Topic48\", \"Topic48\", \"Topic48\", \"Topic48\", \"Topic48\", \"Topic48\", \"Topic48\", \"Topic48\", \"Topic48\", \"Topic48\", \"Topic48\", \"Topic48\", \"Topic49\", \"Topic49\", \"Topic49\", \"Topic49\", \"Topic49\", \"Topic49\", \"Topic49\", \"Topic49\", \"Topic49\", \"Topic49\", \"Topic49\", \"Topic49\", \"Topic49\", \"Topic49\", \"Topic49\", \"Topic49\", \"Topic49\", \"Topic49\", \"Topic49\", \"Topic49\", \"Topic49\", \"Topic49\", \"Topic49\", \"Topic49\", \"Topic49\", \"Topic49\", \"Topic49\", \"Topic50\", \"Topic50\", \"Topic50\", \"Topic50\", \"Topic50\", \"Topic50\", \"Topic50\", \"Topic50\", \"Topic50\", \"Topic50\", \"Topic50\", \"Topic50\", \"Topic50\", \"Topic50\", \"Topic50\", \"Topic50\", \"Topic50\", \"Topic50\", \"Topic50\", \"Topic50\", \"Topic50\", \"Topic50\", \"Topic50\", \"Topic50\", \"Topic50\", \"Topic50\", \"Topic50\", \"Topic51\", \"Topic51\", \"Topic51\", \"Topic51\", \"Topic51\", \"Topic51\", \"Topic51\", \"Topic51\", \"Topic51\", \"Topic51\", \"Topic51\", \"Topic51\", \"Topic51\", \"Topic51\", \"Topic51\", \"Topic51\", \"Topic51\", \"Topic51\", \"Topic51\", \"Topic51\", \"Topic51\", \"Topic51\", \"Topic51\", \"Topic51\", \"Topic51\", \"Topic51\", \"Topic51\", \"Topic52\", \"Topic52\", \"Topic52\", \"Topic52\", \"Topic52\", \"Topic52\", \"Topic52\", \"Topic52\", \"Topic52\", \"Topic52\", \"Topic52\", \"Topic52\", \"Topic52\", \"Topic52\", \"Topic52\", \"Topic52\", \"Topic52\", \"Topic52\", \"Topic52\", \"Topic52\", \"Topic52\", \"Topic52\", \"Topic52\", \"Topic52\", \"Topic52\", \"Topic52\", \"Topic52\", \"Topic53\", \"Topic53\", \"Topic53\", \"Topic53\", \"Topic53\", \"Topic53\", \"Topic53\", \"Topic53\", \"Topic53\", \"Topic53\", \"Topic53\", \"Topic53\", \"Topic53\", \"Topic53\", \"Topic53\", \"Topic53\", \"Topic53\", \"Topic53\", \"Topic53\", \"Topic53\", \"Topic53\", \"Topic53\", \"Topic53\", \"Topic53\", \"Topic53\", \"Topic53\", \"Topic53\", \"Topic54\", \"Topic54\", \"Topic54\", \"Topic54\", \"Topic54\", \"Topic54\", \"Topic54\", \"Topic54\", \"Topic54\", \"Topic54\", \"Topic54\", \"Topic54\", \"Topic54\", \"Topic54\", \"Topic54\", \"Topic54\", \"Topic54\", \"Topic54\", \"Topic54\", \"Topic54\", \"Topic54\", \"Topic54\", \"Topic54\", \"Topic54\", \"Topic54\", \"Topic54\", \"Topic54\", \"Topic55\", \"Topic55\", \"Topic55\", \"Topic55\", \"Topic55\", \"Topic55\", \"Topic55\", \"Topic55\", \"Topic55\", \"Topic55\", \"Topic55\", \"Topic55\", \"Topic55\", \"Topic55\", \"Topic55\", \"Topic55\", \"Topic55\", \"Topic55\", \"Topic55\", \"Topic55\", \"Topic55\", \"Topic55\", \"Topic55\", \"Topic55\", \"Topic55\", \"Topic55\", \"Topic55\", \"Topic56\", \"Topic56\", \"Topic56\", \"Topic56\", \"Topic56\", \"Topic56\", \"Topic56\", \"Topic56\", \"Topic56\", \"Topic56\", \"Topic56\", \"Topic56\", \"Topic56\", \"Topic56\", \"Topic56\", \"Topic56\", \"Topic56\", \"Topic56\", \"Topic56\", \"Topic56\", \"Topic56\", \"Topic56\", \"Topic56\", \"Topic56\", \"Topic56\", \"Topic56\", \"Topic56\", \"Topic57\", \"Topic57\", \"Topic57\", \"Topic57\", \"Topic57\", \"Topic57\", \"Topic57\", \"Topic57\", \"Topic57\", \"Topic57\", \"Topic57\", \"Topic57\", \"Topic57\", \"Topic57\", \"Topic57\", \"Topic57\", \"Topic57\", \"Topic57\", \"Topic57\", \"Topic57\", \"Topic57\", \"Topic57\", \"Topic57\", \"Topic57\", \"Topic57\", \"Topic57\", \"Topic57\", \"Topic58\", \"Topic58\", \"Topic58\", \"Topic58\", \"Topic58\", \"Topic58\", \"Topic58\", \"Topic58\", \"Topic58\", \"Topic58\", \"Topic58\", \"Topic58\", \"Topic58\", \"Topic58\", \"Topic58\", \"Topic58\", \"Topic58\", \"Topic58\", \"Topic58\", \"Topic58\", \"Topic58\", \"Topic58\", \"Topic58\", \"Topic58\", \"Topic58\", \"Topic58\", \"Topic58\", \"Topic59\", \"Topic59\", \"Topic59\", \"Topic59\", \"Topic59\", \"Topic59\", \"Topic59\", \"Topic59\", \"Topic59\", \"Topic59\", \"Topic59\", \"Topic59\", \"Topic59\", \"Topic59\", \"Topic59\", \"Topic59\", \"Topic59\", \"Topic59\", \"Topic59\", \"Topic59\", \"Topic59\", \"Topic59\", \"Topic59\", \"Topic59\", \"Topic59\", \"Topic59\", \"Topic59\", \"Topic60\", \"Topic60\", \"Topic60\", \"Topic60\", \"Topic60\", \"Topic60\", \"Topic60\", \"Topic60\", \"Topic60\", \"Topic60\", \"Topic60\", \"Topic60\", \"Topic60\", \"Topic60\", \"Topic60\", \"Topic60\", \"Topic60\", \"Topic60\", \"Topic60\", \"Topic60\", \"Topic60\", \"Topic60\", \"Topic60\", \"Topic60\", \"Topic60\", \"Topic60\", \"Topic60\", \"Topic61\", \"Topic61\", \"Topic61\", \"Topic61\", \"Topic61\", \"Topic61\", \"Topic61\", \"Topic61\", \"Topic61\", \"Topic61\", \"Topic61\", \"Topic61\", \"Topic61\", \"Topic61\", \"Topic61\", \"Topic61\", \"Topic61\", \"Topic61\", \"Topic61\", \"Topic61\", \"Topic61\", \"Topic61\", \"Topic61\", \"Topic61\", \"Topic61\", \"Topic61\", \"Topic61\", \"Topic62\", \"Topic62\", \"Topic62\", \"Topic62\", \"Topic62\", \"Topic62\", \"Topic62\", \"Topic62\", \"Topic62\", \"Topic62\", \"Topic62\", \"Topic62\", \"Topic62\", \"Topic62\", \"Topic62\", \"Topic62\", \"Topic62\", \"Topic62\", \"Topic62\", \"Topic62\", \"Topic62\", \"Topic62\", \"Topic62\", \"Topic62\", \"Topic62\", \"Topic62\", \"Topic62\", \"Topic63\", \"Topic63\", \"Topic63\", \"Topic63\", \"Topic63\", \"Topic63\", \"Topic63\", \"Topic63\", \"Topic63\", \"Topic63\", \"Topic63\", \"Topic63\", \"Topic63\", \"Topic63\", \"Topic63\", \"Topic63\", \"Topic63\", \"Topic63\", \"Topic63\", \"Topic63\", \"Topic63\", \"Topic63\", \"Topic63\", \"Topic63\", \"Topic63\", \"Topic63\", \"Topic63\", \"Topic64\", \"Topic64\", \"Topic64\", \"Topic64\", \"Topic64\", \"Topic64\", \"Topic64\", \"Topic64\", \"Topic64\", \"Topic64\", \"Topic64\", \"Topic64\", \"Topic64\", \"Topic64\", \"Topic64\", \"Topic64\", \"Topic64\", \"Topic64\", \"Topic64\", \"Topic64\", \"Topic64\", \"Topic64\", \"Topic64\", \"Topic64\", \"Topic64\", \"Topic64\", \"Topic64\", \"Topic65\", \"Topic65\", \"Topic65\", \"Topic65\", \"Topic65\", \"Topic65\", \"Topic65\", \"Topic65\", \"Topic65\", \"Topic65\", \"Topic65\", \"Topic65\", \"Topic65\", \"Topic65\", \"Topic65\", \"Topic65\", \"Topic65\", \"Topic65\", \"Topic65\", \"Topic65\", \"Topic65\", \"Topic65\", \"Topic65\", \"Topic65\", \"Topic65\", \"Topic65\", \"Topic65\", \"Topic66\", \"Topic66\", \"Topic66\", \"Topic66\", \"Topic66\", \"Topic66\", \"Topic66\", \"Topic66\", \"Topic66\", \"Topic66\", \"Topic66\", \"Topic66\", \"Topic66\", \"Topic66\", \"Topic66\", \"Topic66\", \"Topic66\", \"Topic66\", \"Topic66\", \"Topic66\", \"Topic66\", \"Topic66\", \"Topic66\", \"Topic66\", \"Topic66\", \"Topic66\", \"Topic66\", \"Topic67\", \"Topic67\", \"Topic67\", \"Topic67\", \"Topic67\", \"Topic67\", \"Topic67\", \"Topic67\", \"Topic67\", \"Topic67\", \"Topic67\", \"Topic67\", \"Topic67\", \"Topic67\", \"Topic67\", \"Topic67\", \"Topic67\", \"Topic67\", \"Topic67\", \"Topic67\", \"Topic67\", \"Topic67\", \"Topic67\", \"Topic67\", \"Topic67\", \"Topic67\", \"Topic67\", \"Topic68\", \"Topic68\", \"Topic68\", \"Topic68\", \"Topic68\", \"Topic68\", \"Topic68\", \"Topic68\", \"Topic68\", \"Topic68\", \"Topic68\", \"Topic68\", \"Topic68\", \"Topic68\", \"Topic68\", \"Topic68\", \"Topic68\", \"Topic68\", \"Topic68\", \"Topic68\", \"Topic68\", \"Topic68\", \"Topic68\", \"Topic68\", \"Topic68\", \"Topic68\", \"Topic68\", \"Topic69\", \"Topic69\", \"Topic69\", \"Topic69\", \"Topic69\", \"Topic69\", \"Topic69\", \"Topic69\", \"Topic69\", \"Topic69\", \"Topic69\", \"Topic69\", \"Topic69\", \"Topic69\", \"Topic69\", \"Topic69\", \"Topic69\", \"Topic69\", \"Topic69\", \"Topic69\", \"Topic69\", \"Topic69\", \"Topic69\", \"Topic69\", \"Topic69\", \"Topic69\", \"Topic69\", \"Topic70\", \"Topic70\", \"Topic70\", \"Topic70\", \"Topic70\", \"Topic70\", \"Topic70\", \"Topic70\", \"Topic70\", \"Topic70\", \"Topic70\", \"Topic70\", \"Topic70\", \"Topic70\", \"Topic70\", \"Topic70\", \"Topic70\", \"Topic70\", \"Topic70\", \"Topic70\", \"Topic70\", \"Topic70\", \"Topic70\", \"Topic70\", \"Topic70\", \"Topic70\", \"Topic70\", \"Topic71\", \"Topic71\", \"Topic71\", \"Topic71\", \"Topic71\", \"Topic71\", \"Topic71\", \"Topic71\", \"Topic71\", \"Topic71\", \"Topic71\", \"Topic71\", \"Topic71\", \"Topic71\", \"Topic71\", \"Topic71\", \"Topic71\", \"Topic71\", \"Topic71\", \"Topic71\", \"Topic71\", \"Topic71\", \"Topic71\", \"Topic71\", \"Topic71\", \"Topic71\", \"Topic71\", \"Topic72\", \"Topic72\", \"Topic72\", \"Topic72\", \"Topic72\", \"Topic72\", \"Topic72\", \"Topic72\", \"Topic72\", \"Topic72\", \"Topic72\", \"Topic72\", \"Topic72\", \"Topic72\", \"Topic72\", \"Topic72\", \"Topic72\", \"Topic72\", \"Topic72\", \"Topic72\", \"Topic72\", \"Topic72\", \"Topic72\", \"Topic72\", \"Topic72\", \"Topic72\", \"Topic72\", \"Topic73\", \"Topic73\", \"Topic73\", \"Topic73\", \"Topic73\", \"Topic73\", \"Topic73\", \"Topic73\", \"Topic73\", \"Topic73\", \"Topic73\", \"Topic73\", \"Topic73\", \"Topic73\", \"Topic73\", \"Topic73\", \"Topic73\", \"Topic73\", \"Topic73\", \"Topic73\", \"Topic73\", \"Topic73\", \"Topic73\", \"Topic73\", \"Topic73\", \"Topic73\", \"Topic73\", \"Topic74\", \"Topic74\", \"Topic74\", \"Topic74\", \"Topic74\", \"Topic74\", \"Topic74\", \"Topic74\", \"Topic74\", \"Topic74\", \"Topic74\", \"Topic74\", \"Topic74\", \"Topic74\", \"Topic74\", \"Topic74\", \"Topic74\", \"Topic74\", \"Topic74\", \"Topic74\", \"Topic74\", \"Topic74\", \"Topic74\", \"Topic74\", \"Topic74\", \"Topic74\", \"Topic74\", \"Topic75\", \"Topic75\", \"Topic75\", \"Topic75\", \"Topic75\", \"Topic75\", \"Topic75\", \"Topic75\", \"Topic75\", \"Topic75\", \"Topic75\", \"Topic75\", \"Topic75\", \"Topic75\", \"Topic75\", \"Topic75\", \"Topic75\", \"Topic75\", \"Topic75\", \"Topic75\", \"Topic75\", \"Topic75\", \"Topic75\", \"Topic75\", \"Topic75\", \"Topic75\", \"Topic75\", \"Topic76\", \"Topic76\", \"Topic76\", \"Topic76\", \"Topic76\", \"Topic76\", \"Topic76\", \"Topic76\", \"Topic76\", \"Topic76\", \"Topic76\", \"Topic76\", \"Topic76\", \"Topic76\", \"Topic76\", \"Topic76\", \"Topic76\", \"Topic76\", \"Topic76\", \"Topic76\", \"Topic76\", \"Topic76\", \"Topic76\", \"Topic76\", \"Topic76\", \"Topic76\", \"Topic76\", \"Topic77\", \"Topic77\", \"Topic77\", \"Topic77\", \"Topic77\", \"Topic77\", \"Topic77\", \"Topic77\", \"Topic77\", \"Topic77\", \"Topic77\", \"Topic77\", \"Topic77\", \"Topic77\", \"Topic77\", \"Topic77\", \"Topic77\", \"Topic77\", \"Topic77\", \"Topic77\", \"Topic77\", \"Topic77\", \"Topic77\", \"Topic77\", \"Topic77\", \"Topic77\", \"Topic77\", \"Topic78\", \"Topic78\", \"Topic78\", \"Topic78\", \"Topic78\", \"Topic78\", \"Topic78\", \"Topic78\", \"Topic78\", \"Topic78\", \"Topic78\", \"Topic78\", \"Topic78\", \"Topic78\", \"Topic78\", \"Topic78\", \"Topic78\", \"Topic78\", \"Topic78\", \"Topic78\", \"Topic78\", \"Topic78\", \"Topic78\", \"Topic78\", \"Topic78\", \"Topic78\", \"Topic78\", \"Topic79\", \"Topic79\", \"Topic79\", \"Topic79\", \"Topic79\", \"Topic79\", \"Topic79\", \"Topic79\", \"Topic79\", \"Topic79\", \"Topic79\", \"Topic79\", \"Topic79\", \"Topic79\", \"Topic79\", \"Topic79\", \"Topic79\", \"Topic79\", \"Topic79\", \"Topic79\", \"Topic79\", \"Topic79\", \"Topic79\", \"Topic79\", \"Topic79\", \"Topic79\", \"Topic79\", \"Topic80\", \"Topic80\", \"Topic80\", \"Topic80\", \"Topic80\", \"Topic80\", \"Topic80\", \"Topic80\", \"Topic80\", \"Topic80\", \"Topic80\", \"Topic80\", \"Topic80\", \"Topic80\", \"Topic80\", \"Topic80\", \"Topic80\", \"Topic80\", \"Topic80\", \"Topic80\", \"Topic80\", \"Topic80\", \"Topic80\", \"Topic80\", \"Topic80\", \"Topic80\", \"Topic80\"], \"logprob\": [27.0, 26.0, 25.0, 24.0, 23.0, 22.0, 21.0, 20.0, 19.0, 18.0, 17.0, 16.0, 15.0, 14.0, 13.0, 12.0, 11.0, 10.0, 9.0, 8.0, 7.0, 6.0, 5.0, 4.0, 3.0, 2.0, 1.0, -0.5988, -2.8437, -3.2535, -3.1113, -3.2794, -3.1285, -3.5049, -3.6516, -3.6016, -3.5015, -3.6445, -3.8381, -4.0263, -4.1124, -4.3764, -4.7895, -5.1904, -5.7207, -5.9773, -11.1644, -11.1644, -11.1644, -11.1644, -11.1644, -11.1644, -11.1644, -11.1644, -0.6376, -2.7272, -3.1949, -3.411, -3.1694, -3.6211, -3.6113, -3.6038, -3.6935, -3.527, -3.753, -3.6048, -3.6966, -3.9709, -3.997, -4.0119, -5.1142, -4.8268, -5.0392, -5.6874, -11.247, -11.247, -11.247, -11.247, -11.247, -11.247, -11.247, -0.1237, -3.0744, -3.8652, -4.0978, -4.5096, -4.4165, -4.6881, -11.1234, -11.1234, -11.1234, -11.1234, -11.1234, -11.1234, -11.1234, -11.1234, -11.1234, -11.1234, -11.1234, -11.1234, -11.1234, -11.1234, -11.1234, -11.1234, -11.1234, -11.1234, -11.1234, -11.1234, -0.3009, -3.032, -3.1496, -3.1524, -3.5664, -3.4238, -3.7074, -3.6828, -4.1874, -11.0176, -11.0176, -11.0176, -11.0176, -11.0176, -11.0176, -11.0176, -11.0176, -11.0176, -11.0176, -11.0176, -11.0176, -11.0176, -11.0176, -11.0176, -11.0176, -11.0176, -11.0176, -0.2982, -2.9589, -3.0516, -3.2577, -3.0384, -3.6006, -4.0851, -4.2063, -4.7168, -5.5957, -8.2204, -10.666, -10.6806, -10.5989, -10.6817, -10.9358, -10.9358, -10.7384, -10.9358, -10.7296, -10.9352, -10.6742, -10.9358, -10.9358, -10.9358, -10.7603, -10.9358, -0.6297, -2.4424, -2.8308, -2.9367, -2.8076, -3.1929, -3.4613, -3.377, -3.6738, -3.9779, -3.9235, -4.4587, -4.8383, -4.5668, -5.473, -5.7485, -10.8441, -10.8441, -10.8441, -10.8441, -10.8441, -10.8441, -10.8441, -10.8441, -10.8441, -10.8441, -10.8441, -0.7043, -1.1654, -2.8687, -3.2009, -3.7156, -3.4064, -4.0774, -4.6386, -5.0217, -5.6567, -6.3414, -10.928, -10.928, -10.928, -10.928, -10.928, -10.928, -10.928, -10.928, -10.928, -10.928, -10.928, -10.928, -10.928, -10.928, -10.928, -10.928, -0.5031, -2.5011, -3.1643, -2.8314, -3.2496, -2.9533, -3.4383, -3.5766, -3.8522, -4.0875, -4.2968, -5.4132, -6.336, -6.7039, -7.0601, -7.114, -9.6985, -9.6804, -9.9382, -10.0264, -10.7847, -10.7847, -10.7847, -10.7847, -10.7847, -10.7847, -10.7847, -0.1448, -3.5878, -3.8297, -3.7553, -4.3414, -4.2218, -4.4246, -4.5852, -4.7082, -5.8885, -10.1819, -10.7337, -10.7337, -10.7337, -10.7337, -10.7337, -10.7337, -10.7337, -10.7337, -10.7337, -10.7337, -10.7337, -10.7337, -10.7337, -10.7337, -10.7337, -10.7337, -0.3916, -2.7249, -3.2424, -3.5131, -3.42, -3.1363, -3.7877, -3.9125, -3.8562, -3.9478, -4.5366, -4.7665, -5.4188, -5.2615, -6.9024, -8.327, -9.969, -10.7851, -10.5254, -10.4375, -10.7851, -10.7851, -10.7851, -10.7851, -10.7851, -10.7851, -10.7851, -0.3047, -2.6256, -3.0955, -3.7224, -3.4498, -4.1046, -4.064, -4.1297, -4.2418, -4.4188, -5.2891, -5.7125, -6.0612, -6.6224, -7.8961, -8.9722, -9.7313, -9.941, -10.1544, -10.3025, -10.743, -10.471, -10.3925, -10.743, -10.743, -10.743, -10.743, -0.1928, -3.0502, -3.4799, -3.3688, -4.2448, -4.0312, -4.5604, -4.619, -5.5161, -5.7857, -6.0795, -7.5738, -9.1791, -9.8808, -10.1834, -10.6168, -10.6168, -10.6168, -10.6168, -10.6168, -10.6168, -10.6168, -10.6168, -10.6168, -10.6168, -10.6168, -10.6168, -0.6548, -2.892, -3.0099, -2.7182, -3.336, -3.4194, -3.2659, -3.2931, -3.4973, -3.3478, -4.0381, -4.1365, -4.1997, -4.4296, -4.2222, -4.5278, -5.1739, -5.2839, -5.5877, -10.7062, -10.7062, -10.7062, -10.7062, -10.7062, -10.7062, -10.7062, -10.7062, -0.3561, -2.4769, -2.7644, -2.8364, -3.5997, -3.7266, -3.835, -4.6208, -4.8493, -5.8492, -10.6768, -10.6768, -10.6768, -10.6768, -10.6768, -10.6768, -10.6768, -10.6768, -10.6768, -10.6768, -10.6768, -10.6768, -10.6768, -10.6768, -10.6768, -10.6768, -10.6768, -0.3665, -3.0173, -2.9243, -3.4654, -3.6469, -3.8556, -3.6332, -3.8207, -4.1741, -4.2667, -4.1351, -4.3979, -5.1327, -5.2871, -5.763, -6.2774, -6.4186, -6.6351, -7.5132, -10.6319, -10.6319, -10.6319, -10.6319, -10.6319, -10.6319, -10.6319, -10.6319, -0.2195, -2.4664, -3.3504, -3.5768, -3.7864, -4.2414, -5.1893, -5.4532, -6.4106, -9.5642, -9.7806, -10.1233, -10.0702, -10.5308, -10.5308, -10.5308, -10.5308, -10.1438, -10.5308, -10.5308, -10.5308, -10.5308, -10.5308, -10.5308, -10.5308, -10.5308, -10.5308, -0.4296, -1.907, -3.0165, -3.1915, -2.7619, -3.8048, -4.1254, -4.7839, -10.237, -10.237, -10.237, -10.237, -10.237, -10.237, -10.237, -10.237, -10.237, -10.237, -10.237, -10.237, -10.237, -10.237, -10.237, -10.237, -10.237, -10.237, -10.237, -0.0549, -3.1688, -5.0559, -6.2572, -6.1328, -8.9681, -9.5375, -10.1318, -9.9025, -10.1497, -10.1545, -10.0009, -10.1336, -10.4199, -10.1672, -10.4199, -10.4199, -10.4199, -10.4199, -10.4199, -10.4199, -10.4199, -10.2393, -10.4199, -10.4199, -10.4199, -10.4199, -0.1869, -2.4335, -2.8331, -4.524, -4.8108, -5.6788, -7.1217, -9.6777, -9.7077, -9.8158, -10.157, -10.1816, -10.5329, -10.5329, -10.5329, -10.5329, -10.5329, -10.5329, -10.4227, -10.5329, -10.5329, -10.5329, -10.5329, -10.5329, -10.5329, -10.2958, -10.5329, -0.216, -2.7461, -3.3139, -4.2169, -3.7637, -4.2172, -4.0165, -4.464, -4.9021, -5.7455, -9.2258, -9.1035, -9.6153, -9.6262, -9.3927, -9.9238, -9.9386, -9.8622, -9.9518, -9.9048, -10.3529, -10.3529, -10.3529, -10.3529, -10.3529, -10.3529, -10.3529, -0.1684, -2.0889, -3.7164, -5.6985, -6.268, -7.5477, -9.2534, -9.5653, -9.7235, -10.1044, -9.8166, -9.5075, -10.1044, -10.1044, -10.1044, -10.1044, -9.8454, -10.1044, -10.1044, -10.1044, -10.1044, -10.1044, -10.1044, -10.1044, -10.1044, -10.1044, -10.1044, -0.0856, -3.4946, -3.8173, -3.8908, -5.6195, -6.5571, -6.6336, -7.1361, -6.9661, -7.3071, -10.5014, -10.5014, -10.5014, -10.5014, -10.5014, -10.5014, -10.5014, -10.5014, -10.5014, -10.5014, -10.5014, -10.5014, -10.5014, -10.5014, -10.5014, -10.5014, -10.5014, -0.0411, -3.5539, -5.1293, -5.3658, -8.9508, -9.5186, -9.7951, -9.7795, -9.7893, -9.8426, -10.3198, -9.8605, -10.3198, -9.9681, -10.3198, -10.3198, -10.3198, -10.0011, -10.3198, -10.3198, -10.3198, -10.3198, -10.3198, -10.3198, -10.3198, -10.3198, -10.3198, -0.6272, -2.8106, -3.0088, -3.1014, -3.3713, -3.1572, -3.007, -3.9441, -3.6522, -4.0967, -3.9484, -3.6812, -4.23, -4.1334, -4.2687, -4.3812, -4.3761, -4.7329, -10.5894, -10.5894, -10.5894, -10.5894, -10.5894, -10.5894, -10.5894, -10.5894, -10.5894, -0.0163, -5.2472, -5.2776, -5.5383, -7.0059, -9.8892, -9.9238, -9.8872, -10.2328, -9.9234, -9.9351, -9.9104, -9.7134, -9.7838, -9.9536, -10.2328, -9.9508, -10.2328, -10.2328, -10.2328, -10.2328, -10.2328, -10.2328, -10.2328, -10.2328, -10.2328, -10.2328, -0.2525, -3.0081, -3.1502, -3.8846, -3.441, -3.5805, -4.0611, -4.203, -4.3635, -5.3298, -8.8933, -10.2712, -10.2713, -10.2713, -10.2713, -10.2713, -10.2713, -10.2712, -10.2712, -10.2713, -10.2712, -10.2713, -10.2713, -10.2713, -10.2713, -10.2712, -10.2713, -0.7704, -2.1677, -2.7351, -3.2549, -2.9997, -3.5735, -3.541, -3.6375, -3.2171, -3.8513, -3.984, -3.667, -3.8777, -4.4229, -4.0198, -4.4018, -5.0003, -5.0198, -5.4787, -10.5913, -10.5913, -10.5913, -10.5913, -10.5913, -10.5913, -10.5913, -10.5913, -0.0043, -6.6904, -7.331, -7.2632, -7.5007, -8.9157, -9.1099, -9.6418, -9.8899, -9.9141, -10.1616, -9.8783, -9.9232, -10.1616, -10.1616, -10.1616, -9.9382, -10.1616, -9.8036, -10.1616, -10.1616, -10.1616, -10.1616, -10.1616, -10.1616, -9.9869, -10.1616, -0.3051, -1.8248, -2.8723, -3.9928, -4.0526, -4.9533, -8.0449, -8.1958, -8.3201, -8.7846, -9.4987, -9.4987, -9.4987, -9.4987, -9.4987, -9.4987, -9.4987, -9.4987, -9.4987, -9.4987, -9.4987, -9.4987, -9.4987, -9.4987, -9.4987, -9.4987, -9.4987, -0.6729, -1.1283, -1.8454, -5.6308, -6.1224, -8.0151, -8.1574, -8.4766, -8.7498, -9.2736, -9.2674, -9.2701, -9.2353, -9.2456, -9.5097, -9.5097, -9.2928, -9.2762, -9.5097, -9.5097, -9.5097, -9.5097, -9.5097, -9.5097, -9.5097, -9.5097, -9.5097, -1.0781, -2.466, -2.4281, -2.5284, -2.9368, -3.1779, -3.1594, -3.1213, -2.8316, -3.2195, -3.4961, -3.4517, -3.6577, -4.1249, -4.477, -4.5319, -9.8237, -9.8237, -9.8237, -9.8237, -9.8237, -9.8237, -9.8237, -9.8237, -9.8237, -9.8237, -9.8237, -0.9282, -2.0914, -3.0252, -3.0653, -2.7757, -3.4819, -3.2832, -3.3712, -3.65, -3.3529, -3.288, -3.6739, -3.6527, -3.7371, -4.3501, -4.2933, -4.2854, -5.4669, -6.5169, -6.9352, -9.0402, -9.2981, -9.2981, -9.2981, -9.2981, -9.0942, -9.2981, -0.6663, -2.5868, -2.71, -2.1832, -3.0392, -2.4817, -3.0712, -3.5649, -3.9518, -5.2265, -9.5802, -9.5802, -9.5802, -9.5802, -9.5802, -9.5802, -9.5802, -9.5802, -9.5802, -9.5802, -9.5802, -9.5802, -9.5802, -9.5802, -9.5802, -9.5802, -9.5802, -1.2443, -1.5278, -2.659, -3.0423, -2.9804, -3.289, -3.4576, -3.1992, -3.0342, -3.3301, -4.0059, -4.0437, -3.7192, -4.3697, -4.5839, -4.3398, -4.5658, -4.8066, -5.0404, -5.502, -5.6442, -5.7204, -8.5376, -8.5376, -8.5376, -8.5376, -8.5376, -1.112, -1.781, -1.9878, -2.6229, -2.6435, -3.441, -3.4342, -3.5399, -3.304, -3.763, -3.5975, -4.385, -4.5753, -4.6659, -5.0521, -7.7356, -8.3791, -8.3822, -8.5486, -8.37, -8.5486, -8.5486, -8.5486, -8.4117, -8.5486, -8.5486, -8.5486, -1.1475, -2.4577, -2.3499, -2.369, -2.7309, -2.9127, -2.9852, -3.1134, -3.4472, -3.5879, -3.2779, -3.6311, -3.6588, -4.5605, -4.6774, -4.8003, -5.1858, -5.0988, -5.9736, -8.3792, -8.3792, -8.3792, -8.3792, -8.3792, -8.3792, -8.3792, -8.3792, -1.1557, -2.3711, -2.7093, -2.9069, -2.6287, -2.8643, -2.9134, -2.9237, -3.0036, -3.0578, -3.5747, -3.7256, -4.1906, -4.3141, -4.4014, -4.419, -4.4809, -4.4897, -5.1567, -5.8401, -9.434, -9.434, -9.434, -9.434, -9.434, -9.434, -9.434, -1.415, -2.2576, -1.9433, -2.4097, -2.8735, -2.825, -3.2077, -3.2325, -2.9631, -3.5076, -3.6009, -3.9006, -3.9841, -3.7649, -4.4502, -4.7618, -4.636, -4.9592, -5.0611, -5.1841, -6.8816, -6.6403, -7.2408, -8.5099, -8.5099, -8.5099, -8.5099, -1.5447, -2.5034, -2.5784, -2.7767, -2.5212, -2.6489, -2.9607, -3.1301, -3.295, -2.9234, -2.9273, -3.4683, -3.2373, -3.5685, -3.9065, -4.2002, -4.3742, -4.2809, -5.6962, -5.466, -5.5158, -5.7917, -8.6169, -8.6169, -8.6169, -8.6169, -8.6169, -1.3792, -2.4576, -1.7609, -2.3899, -2.5725, -2.9508, -3.0065, -3.0541, -3.2122, -3.5012, -3.6894, -4.0569, -3.7848, -4.3134, -4.569, -5.341, -5.4706, -5.6028, -8.4595, -8.4595, -8.4595, -8.4595, -8.4595, -8.4595, -8.4595, -8.4595, -8.4595, -1.0345, -1.6113, -2.4055, -2.7404, -2.548, -2.7866, -3.4211, -3.7164, -3.6461, -4.2106, -4.3503, -4.3498, -4.6283, -5.162, -4.8472, -8.2182, -8.2182, -8.2182, -8.2182, -8.2182, -8.2182, -8.2182, -8.2182, -8.2182, -8.2182, -8.2182, -8.2182, -1.9108, -1.9113, -2.0752, -2.2658, -2.3963, -3.2771, -3.2771, -3.3225, -3.3346, -3.3144, -3.9048, -3.6576, -4.0302, -4.0045, -3.63, -3.9675, -3.747, -4.5792, -4.7649, -4.4701, -4.9468, -5.0233, -5.6578, -7.6439, -7.6439, -7.6439, -7.6439, -1.5581, -2.2792, -2.6369, -2.698, -2.815, -2.9922, -2.9255, -3.0486, -3.016, -3.2408, -2.9411, -3.7311, -3.4773, -3.3657, -3.3402, -4.2341, -3.8213, -4.1796, -4.9238, -4.7493, -6.1082, -8.3465, -8.3465, -8.3465, -8.3465, -8.3465, -8.3465, -3.2958, -3.2958, -3.2958, -3.2958, -3.2958, -3.2958, -3.2958, -3.2958, -3.2958, -3.2958, -3.2958, -3.2958, -3.2958, -3.2958, -3.2958, -3.2958, -3.2958, -3.2958, -3.2958, -3.2958, -3.2958, -3.2958, -3.2958, -3.2958, -3.2958, -3.2958, -3.2958, -3.2958, -3.2958, -3.2958, -3.2958, -3.2958, -3.2958, -3.2958, -3.2958, -3.2958, -3.2958, -3.2958, -3.2958, -3.2958, -3.2958, -3.2958, -3.2958, -3.2958, -3.2958, -3.2958, -3.2958, -3.2958, -3.2958, -3.2958, -3.2958, -3.2958, -3.2958, -3.2958, -3.2958, -3.2958, -3.2958, -3.2958, -3.2958, -3.2958, -3.2958, -3.2958, -3.2958, -3.2958, -3.2958, -3.2958, -3.2958, -3.2958, -3.2958, -3.2958, -3.2958, -3.2958, -3.2958, -3.2958, -3.2958, -3.2958, -3.2958, -3.2958, -3.2958, -3.2958, -3.2958, -3.2958, -3.2958, -3.2958, -3.2958, -3.2958, -3.2958, -3.2958, -3.2958, -3.2958, -3.2958, -3.2958, -3.2958, -3.2958, -3.2958, -3.2958, -3.2958, -3.2958, -3.2958, -3.2958, -3.2958, -3.2958, -3.2958, -3.2958, -3.2958, -3.2958, -3.2958, -3.2958, -3.2958, -3.2958, -3.2958, -3.2958, -3.2958, -3.2958, -3.2958, -3.2958, -3.2958, -3.2958, -3.2958, -3.2958, -3.2958, -3.2958, -3.2958, -3.2958, -3.2958, -3.2958, -3.2958, -3.2958, -3.2958, -3.2958, -3.2958, -3.2958, -3.2958, -3.2958, -3.2958, -3.2958, -3.2958, -3.2958, -3.2958, -3.2958, -3.2958, -3.2958, -3.2958, -3.2958, -3.2958, -3.2958, -3.2958, -3.2958, -3.2958, -3.2958, -3.2958, -3.2958, -3.2958, -3.2958, -3.2958, -3.2958, -3.2958, -3.2958, -3.2958, -3.2958, -3.2958, -3.2958, -3.2958, -3.2958, -3.2958, -3.2958, -3.2958, -3.2958, -3.2958, -3.2958, -3.2958, -3.2958, -3.2958, -3.2958, -3.2958, -3.2958, -3.2958, -3.2958, -3.2958, -3.2958, -3.2958, -3.2958, -3.2958, -3.2958, -3.2958, -3.2958, -3.2958, -3.2958, -3.2958, -3.2958, -3.2958, -3.2958, -3.2958, -3.2958, -3.2958, -3.2958, -3.2958, -3.2958, -3.2958, -3.2958, -3.2958, -3.2958, -3.2958, -3.2958, -3.2958, -3.2958, -3.2958, -3.2958, -3.2958, -3.2958, -3.2958, -3.2958, -3.2958, -3.2958, -3.2958, -3.2958, -3.2958, -3.2958, -3.2958, -3.2958, -3.2958, -3.2958, -3.2958, -3.2958, -3.2958, -3.2958, -3.2958, -3.2958, -3.2958, -3.2958, -3.2958, -3.2958, -3.2958, -3.2958, -3.2958, -3.2958, -3.2958, -3.2958, -3.2958, -3.2958, -3.2958, -3.2958, -3.2958, -3.2958, -3.2958, -3.2958, -3.2958, -3.2958, -3.2958, -3.2958, -3.2958, -3.2958, -3.2958, -3.2958, -3.2958, -3.2958, -3.2958, -3.2958, -3.2958, -3.2958, -3.2958, -3.2958, -3.2958, -3.2958, -3.2958, -3.2958, -3.2958, -3.2958, -3.2958, -3.2958, -3.2958, -3.2958, -3.2958, -3.2958, -3.2958, -3.2958, -3.2958, -3.2958, -3.2958, -3.2958, -3.2958, -3.2958, -3.2958, -3.2958, -3.2958, -3.2958, -3.2958, -3.2958, -3.2958, -3.2958, -3.2958, -3.2958, -3.2958, -3.2958, -3.2958, -3.2958, -3.2958, -3.2958, -3.2958, -3.2958, -3.2958, -3.2958, -3.2958, -3.2958, -3.2958, -3.2958, -3.2958, -3.2958, -3.2958, -3.2958, -3.2958, -3.2958, -3.2958, -3.2958, -3.2958, -3.2958, -3.2958, -3.2958, -3.2958, -3.2958, -3.2958, -3.2958, -3.2958, -3.2958, -3.2958, -3.2958, -3.2958, -3.2958, -3.2958, -3.2958, -3.2958, -3.2958, -3.2958, -3.2958, -3.2958, -3.2958, -3.2958, -3.2958, -3.2958, -3.2958, -3.2958, -3.2958, -3.2958, -3.2958, -3.2958, -3.2958, -3.2958, -3.2958, -3.2958, -3.2958, -3.2958, -3.2958, -3.2958, -3.2958, -3.2958, -3.2958, -3.2958, -3.2958, -3.2958, -3.2958, -3.2958, -3.2958, -3.2958, -3.2958, -3.2958, -3.2958, -3.2958, -3.2958, -3.2958, -3.2958, -3.2958, -3.2958, -3.2958, -3.2958, -3.2958, -3.2958, -3.2958, -3.2958, -1.6408, -1.7607, -2.2503, -2.3238, -2.9106, -3.0328, -2.9667, -3.0243, -3.2906, -3.6578, -3.7406, -3.8249, -4.1273, -4.1657, -3.7428, -4.4942, -4.2784, -4.796, -4.8596, -5.192, -5.361, -5.3419, -5.6584, -6.7243, -6.7243, -6.7243, -6.7243, -3.2958, -3.2958, -3.2958, -3.2958, -3.2958, -3.2958, -3.2958, -3.2958, -3.2958, -3.2958, -3.2958, -3.2958, -3.2958, -3.2958, -3.2958, -3.2958, -3.2958, -3.2958, -3.2958, -3.2958, -3.2958, -3.2958, -3.2958, -3.2958, -3.2958, -3.2958, -3.2958, -3.2958, -3.2958, -3.2958, -3.2958, -3.2958, -3.2958, -3.2958, -3.2958, -3.2958, -3.2958, -3.2958, -3.2958, -3.2958, -3.2958, -3.2958, -3.2958, -3.2958, -3.2958, -3.2958, -3.2958, -3.2958, -3.2958, -3.2958, -3.2958, -3.2958, -3.2958, -3.2958, -3.2958, -3.2958, -3.2958, -3.2958, -3.2958, -3.2958, -3.2958, -3.2958, -3.2958, -3.2958, -3.2958, -3.2958, -3.2958, -3.2958, -3.2958, -3.2958, -3.2958, -3.2958, -3.2958, -3.2958, -3.2958, -3.2958, -3.2958, -3.2958, -3.2958, -3.2958, -3.2958, -3.2958, -3.2958, -3.2958, -3.2958, -3.2958, -3.2958, -3.2958, -3.2958, -3.2958, -3.2958, -3.2958, -3.2958, -3.2958, -3.2958, -3.2958, -3.2958, -3.2958, -3.2958, -3.2958, -3.2958, -3.2958, -3.2958, -3.2958, -3.2958, -3.2958, -3.2958, -3.2958, -3.2958, -3.2958, -3.2958, -3.2958, -3.2958, -3.2958, -3.2958, -3.2958, -3.2958, -3.2958, -3.2958, -3.2958, -3.2958, -3.2958, -3.2958, -3.2958, -3.2958, -3.2958, -3.2958, -3.2958, -3.2958, -3.2958, -3.2958, -3.2958, -3.2958, -3.2958, -3.2958, -2.555, -2.751, -2.9839, -2.9279, -3.2086, -3.2155, -2.9931, -3.1994, -2.9791, -3.6206, -3.2336, -3.1199, -3.2499, -3.6206, -3.6206, -3.6206, -3.6206, -3.6206, -3.6206, -3.6206, -3.6206, -3.6206, -3.6206, -3.6206, -3.3537, -3.6206, -3.6206, -3.2958, -3.2958, -3.2958, -3.2958, -3.2958, -3.2958, -3.2958, -3.2958, -3.2958, -3.2958, -3.2958, -3.2958, -3.2958, -3.2958, -3.2958, -3.2958, -3.2958, -3.2958, -3.2958, -3.2958, -3.2958, -3.2958, -3.2958, -3.2958, -3.2958, -3.2958, -3.2958, -3.2958, -3.2958, -3.2958, -3.2958, -3.2958, -3.2958, -3.2958, -3.2958, -3.2958, -3.2958, -3.2958, -3.2958, -3.2958, -3.2958, -3.2958, -3.2958, -3.2958, -3.2958, -3.2958, -3.2958, -3.2958, -3.2958, -3.2958, -3.2958, -3.2958, -3.2958, -3.2958, -2.8197, -3.0502, -2.8704, -2.8101, -3.0594, -3.1293, -3.088, -3.12, -3.0785, -3.1459, -3.1112, -3.6067, -3.6067, -3.1456, -3.6067, -3.2414, -3.6067, -3.6067, -3.6067, -3.6067, -3.6067, -3.6067, -3.6067, -3.6067, -3.6067, -3.6067, -3.6067, -3.2958, -3.2958, -3.2958, -3.2958, -3.2958, -3.2958, -3.2958, -3.2958, -3.2958, -3.2958, -3.2958, -3.2958, -3.2958, -3.2958, -3.2958, -3.2958, -3.2958, -3.2958, -3.2958, -3.2958, -3.2958, -3.2958, -3.2958, -3.2958, -3.2958, -3.2958, -3.2958, -3.2958, -3.2958, -3.2958, -3.2958, -3.2958, -3.2958, -3.2958, -3.2958, -3.2958, -3.2958, -3.2958, -3.2958, -3.2958, -3.2958, -3.2958, -3.2958, -3.2958, -3.2958, -3.2958, -3.2958, -3.2958, -3.2958, -3.2958, -3.2958, -3.2958, -3.2958, -3.2958, -2.8865, -2.921, -2.9711, -2.9491, -3.0237, -2.9733, -3.0191, -2.8183, -3.5923, -2.9911, -3.1095, -3.5923, -3.5923, -3.5923, -3.5923, -3.1463, -3.5923, -3.5923, -3.5923, -3.5923, -3.5923, -3.5923, -3.5923, -3.5923, -3.5923, -3.5923, -3.5923, -3.2958, -3.2958, -3.2958, -3.2958, -3.2958, -3.2958, -3.2958, -3.2958, -3.2958, -3.2958, -3.2958, -3.2958, -3.2958, -3.2958, -3.2958, -3.2958, -3.2958, -3.2958, -3.2958, -3.2958, -3.2958, -3.2958, -3.2958, -3.2958, -3.2958, -3.2958, -3.2958, -2.4841, -2.5773, -2.7823, -2.4878, -2.8114, -3.0056, -3.3489, -2.7653, -2.9189, -3.1727, -3.8088, -3.4844, -3.8088, -3.8088, -3.8088, -3.8088, -3.8088, -3.8088, -3.5494, -3.8088, -3.8088, -3.8088, -3.8088, -3.8088, -3.8088, -3.8088, -3.8088, -3.2959, -3.2959, -3.2959, -3.2959, -3.2957, -3.2959, -3.2959, -3.2957, -3.2958, -3.2959, -3.2958, -3.2959, -3.2959, -3.2959, -3.2955, -3.2959, -3.2959, -3.2958, -3.2959, -3.2958, -3.2959, -3.2959, -3.2958, -3.2959, -3.2959, -3.2959, -3.2958, -3.2958, -3.2958, -3.2958, -3.2958, -3.2958, -3.2958, -3.2958, -3.2958, -3.2958, -3.2958, -3.2958, -3.2958, -3.2958, -3.2958, -3.2958, -3.2958, -3.2958, -3.2958, -3.2958, -3.2958, -3.2958, -3.2958, -3.2958, -3.2958, -3.2958, -3.2958, -3.2958, -3.2996, -3.2976, -3.2996, -3.2784, -3.2996, -3.2996, -3.2996, -3.276, -3.2996, -3.298, -3.2996, -3.2946, -3.2996, -3.2996, -3.2996, -3.2883, -3.2968, -3.2975, -3.2949, -3.295, -3.2919, -3.2948, -3.2971, -3.2996, -3.2996, -3.2927, -3.2996, -3.2958, -3.2958, -3.2958, -3.2958, -3.2958, -3.2958, -3.2958, -3.2958, -3.2958, -3.2958, -3.2958, -3.2958, -3.2958, -3.2958, -3.2958, -3.2958, -3.2958, -3.2958, -3.2958, -3.2958, -3.2958, -3.2958, -3.2958, -3.2958, -3.2958, -3.2958, -3.2958, -2.0173, -2.1812, -2.3172, -2.3905, -2.6994, -2.3448, -3.0243, -3.0368, -2.7932, -3.1295, -3.0044, -3.8651, -3.8802, -3.9919, -4.0647, -4.6327, -4.3623, -4.7325, -4.6793, -4.8064, -4.5984, -6.0838, -6.0838, -6.0838, -6.0838, -6.0838, -6.0838, -3.2958, -3.2958, -3.2958, -3.2958, -3.2958, -3.2958, -3.2958, -3.2958, -3.2958, -3.2958, -3.2958, -3.2958, -3.2958, -3.2958, -3.2958, -3.2958, -3.2958, -3.2958, -3.2958, -3.2958, -3.2958, -3.2958, -3.2958, -3.2958, -3.2958, -3.2958, -3.2958, -3.2958, -3.2958, -3.2958, -3.2958, -3.2958, -3.2958, -3.2958, -3.2958, -3.2958, -3.2958, -3.2958, -3.2958, -3.2958, -3.2958, -3.2958, -3.2958, -3.2958, -3.2958, -3.2958, -3.2958, -3.2958, -3.2958, -3.2958, -3.2958, -3.2958, -3.2958, -3.2958, -2.038, -2.1141, -2.3849, -2.7708, -2.6231, -2.6856, -2.9614, -3.419, -3.5035, -3.3951, -3.7733, -3.7492, -3.8845, -3.5603, -3.8779, -3.768, -3.6739, -4.3073, -3.9379, -4.3073, -4.3073, -4.3073, -4.3073, -4.3073, -4.3073, -4.3073, -4.3073], \"loglift\": [27.0, 26.0, 25.0, 24.0, 23.0, 22.0, 21.0, 20.0, 19.0, 18.0, 17.0, 16.0, 15.0, 14.0, 13.0, 12.0, 11.0, 10.0, 9.0, 8.0, 7.0, 6.0, 5.0, 4.0, 3.0, 2.0, 1.0, 2.7934, 0.0713, 0.0178, -0.001, -0.092, -0.1085, -0.1474, -0.1867, -0.2598, -0.2797, -0.4503, -0.5561, -0.6571, -0.7411, -1.3311, -1.4435, -1.5174, -2.2172, -2.9151, -7.6095, -7.6374, -7.6435, -7.718, -7.8277, -7.8372, -7.8534, -7.9059, 2.8659, 0.1877, 0.1469, 0.1099, -0.1495, -0.1563, -0.2421, -0.2464, -0.3013, -0.3052, -0.3066, -0.4175, -0.4253, -0.6598, -0.6603, -0.8177, -1.4412, -1.4995, -1.7806, -2.1605, -7.6921, -7.8757, -7.901, -7.965, -8.1367, -8.1848, -8.2016, 2.9385, 0.1969, -0.5285, -0.756, -0.9547, -1.1346, -1.3168, -7.4504, -7.5965, -7.6025, -7.62, -7.6586, -7.677, -7.7312, -7.7543, -7.766, -7.7774, -7.7962, -7.8124, -7.8649, -7.9016, -7.9292, -7.9361, -8.0131, -8.0781, -8.1035, -8.2085, 2.9576, 0.4329, 0.1615, 0.1189, -0.0455, -0.0663, -0.1805, -0.4609, -0.6325, -7.3446, -7.5141, -7.5712, -7.6254, -7.6463, -7.6484, -7.6716, -7.6758, -7.6809, -7.6903, -7.7356, -7.8233, -7.8302, -7.9072, -7.9554, -7.9722, -7.9976, -8.1026, 3.0129, 0.1514, 0.1358, 0.0998, -0.0185, -0.1357, -0.5642, -0.8603, -1.3895, -2.2035, -4.8491, -6.993, -7.1257, -7.2297, -7.3399, -7.4089, -7.4323, -7.467, -7.4894, -7.5078, -7.5985, -7.6288, -7.6538, -7.6773, -7.7416, -7.8453, -7.8736, 3.0433, 0.7794, 0.1891, 0.1736, 0.1073, 0.0784, 0.0035, -0.3316, -0.332, -0.6668, -0.7293, -1.2713, -1.2834, -1.2848, -2.1038, -2.4899, -7.3171, -7.3232, -7.3406, -7.3977, -7.4519, -7.4728, -7.4866, -7.4981, -7.5074, -7.5168, -7.7819, 2.8166, 2.2995, 0.1512, 0.0704, -0.3582, -0.3611, -0.8832, -0.9656, -1.685, -2.2645, -2.7865, -7.401, -7.4245, -7.4816, -7.5567, -7.5588, -7.582, -7.5862, -7.6007, -7.6169, -7.646, -7.6694, -7.7062, -7.7406, -7.8177, -7.8658, -8.0131, 3.0518, 0.5189, 0.2821, 0.2789, 0.2152, -0.0384, -0.1669, -0.3547, -0.6648, -0.73, -1.0382, -2.0419, -2.8325, -3.5096, -3.5392, -3.8029, -6.3063, -6.3344, -6.6015, -6.6846, -7.1117, -7.2578, -7.4156, -7.4575, -7.5028, -7.7225, -7.7394, 3.0494, -0.2511, -0.6079, -0.7099, -0.8144, -0.9633, -1.1427, -1.2434, -1.3971, -2.4963, -6.661, -7.0607, -7.1788, -7.2303, -7.2689, -7.2873, -7.3624, -7.3645, -7.3763, -7.3877, -7.4065, -7.4624, -7.5463, -7.6234, -7.6715, -7.7138, -7.8188, 2.9451, 0.295, 0.2225, 0.0078, -0.1981, -0.2214, -0.2607, -0.5433, -0.7459, -0.7604, -1.1906, -1.409, -1.8639, -1.9504, -3.6438, -5.1328, -6.9068, -7.1121, -7.1541, -7.1662, -7.2816, -7.3387, -7.3929, -7.4433, -7.4578, -7.5031, -7.7397, 3.1417, 0.8392, 0.1263, -0.365, -0.4044, -0.5837, -0.7273, -0.8584, -1.0544, -1.077, -1.8969, -2.209, -2.6899, -3.0675, -4.5501, -5.8619, -6.2044, -6.6138, -6.9602, -7.044, -7.07, -7.1018, -7.3726, -7.432, -7.4611, -7.6808, -7.8281, 3.0891, 0.0601, -0.2926, -0.4539, -0.6899, -0.7727, -1.2237, -1.5991, -1.9952, -2.2822, -3.0173, -4.0469, -5.7869, -6.2078, -6.8416, -7.152, -7.1704, -7.2455, -7.2476, -7.2594, -7.2708, -7.2896, -7.3058, -7.3455, -7.395, -7.4226, -7.5715, 2.6165, 0.5728, 0.3319, 0.1967, 0.0007, -0.0502, -0.1556, -0.2732, -0.2755, -0.3024, -0.4832, -0.6095, -0.6788, -0.9832, -1.0279, -1.2167, -1.8164, -1.9567, -2.2164, -7.0332, -7.2027, -7.314, -7.3602, -7.4242, -7.4477, -7.5188, -7.644, 2.8312, 0.5431, 0.346, 0.0786, -0.2579, -0.3574, -0.7896, -1.1744, -1.655, -2.2943, -7.0038, -7.1499, -7.1559, -7.1733, -7.212, -7.2846, -7.3055, -7.3194, -7.3308, -7.3401, -7.3496, -7.3658, -7.3948, -7.4055, -7.4183, -7.455, -7.6146, 2.8553, 0.0026, -0.0094, -0.0962, -0.3756, -0.4634, -0.5229, -0.6333, -0.6532, -0.9249, -1.0897, -1.2036, -1.8741, -1.941, -2.3166, -2.9954, -3.0914, -3.1081, -4.451, -6.959, -7.077, -7.1285, -7.1671, -7.2606, -7.2745, -7.2952, -7.3209, 3.1223, 0.4485, -0.3304, -0.4664, -0.5646, -0.9828, -1.8526, -2.0068, -3.0531, -6.0093, -6.3157, -6.7542, -6.7883, -6.8578, -7.0039, -7.0099, -7.0274, -7.0816, -7.1386, -7.1595, -7.1848, -7.2036, -7.2198, -7.2595, -7.3366, -7.3435, -7.4855, 2.9417, 1.1384, 0.3527, 0.2734, 0.2581, -0.5829, -0.5984, -1.4729, -6.564, -6.6821, -6.7161, -6.7336, -6.7906, -6.8448, -6.8796, -6.891, -6.8952, -6.9003, -6.9098, -6.9551, -6.9657, -6.9785, -7.0428, -7.0497, -7.1267, -7.1748, -7.3221, 3.2724, -0.2539, -2.036, -2.7537, -2.9386, -5.7807, -6.2265, -6.4588, -6.545, -6.5948, -6.6276, -6.7791, -6.7876, -6.899, -6.9086, -6.9551, -6.9735, -7.0277, -7.0486, -7.0507, -7.0781, -7.0832, -7.129, -7.138, -7.1486, -7.3577, -7.3746, 2.9235, 0.6119, 0.1869, -1.0776, -1.4835, -2.4914, -3.7799, -6.3667, -6.4859, -6.5573, -6.6021, -6.8242, -6.8599, -7.006, -7.012, -7.0295, -7.0681, -7.1407, -7.1513, -7.1616, -7.1638, -7.1869, -7.1962, -7.251, -7.3387, -7.3809, -7.4707, 3.1414, 0.1688, 0.0279, -0.5439, -0.5695, -0.9459, -0.9966, -1.0176, -1.3812, -2.4635, -5.8336, -5.9161, -6.1118, -6.1614, -6.2824, -6.3689, -6.4116, -6.493, -6.6933, -6.8594, -6.9816, -7.0069, -7.0162, -7.0256, -7.0418, -7.1311, -7.2907, 3.1777, 1.2384, -0.445, -2.3293, -3.1577, -4.2366, -5.7886, -6.194, -6.3313, -6.4314, -6.4592, -6.4875, -6.5495, -6.5774, -6.5835, -6.6009, -6.6236, -6.658, -6.7626, -6.7677, -6.8224, -6.8458, -6.9101, -6.917, -7.0422, -7.059, -7.1894, 2.8294, -0.0298, -0.4599, -0.7805, -2.2503, -3.0302, -3.3623, -3.4631, -3.7718, -3.9704, -6.9465, -6.9805, -6.998, -7.055, -7.1092, -7.1301, -7.1554, -7.1596, -7.1742, -7.1904, -7.2195, -7.2429, -7.2796, -7.3141, -7.4392, -7.4561, -7.4815, 3.4859, -0.1964, -1.6829, -2.0945, -5.609, -6.0538, -6.2402, -6.276, -6.397, -6.584, -6.6468, -6.6731, -6.7989, -6.8578, -6.9485, -6.9507, -6.9738, -6.9811, -6.9831, -6.9926, -7.0088, -7.0379, -7.098, -7.1256, -7.2576, -7.2745, -7.4049, 2.7441, 0.2997, 0.2626, 0.2353, 0.1496, 0.037, -0.0921, -0.2711, -0.4304, -0.5418, -0.5909, -0.6613, -0.7031, -0.7412, -0.8038, -1.0394, -1.1887, -1.6707, -7.0859, -7.143, -7.2202, -7.2434, -7.2621, -7.2783, -7.3074, -7.3308, -7.544, 3.3529, -1.8008, -2.0833, -2.3509, -3.6948, -6.3342, -6.4029, -6.5159, -6.5598, -6.5659, -6.5933, -6.6519, -6.6681, -6.6735, -6.6822, -6.7059, -6.7289, -6.7293, -6.768, -6.8406, -6.8868, -6.8961, -6.9056, -6.9509, -7.1706, -7.2129, -7.3179, 2.7929, 0.1022, 0.0716, -0.4382, -0.5261, -0.5605, -0.6919, -0.8613, -1.3013, -1.9724, -5.4285, -6.5982, -6.7164, -6.7443, -6.7504, -6.7678, -6.8791, -6.8999, -6.9252, -6.9346, -6.944, -6.9602, -6.9893, -6.9999, -7.0127, -7.077, -7.0839, 2.5756, 1.0265, 0.3752, 0.1164, 0.0457, -0.1086, -0.1718, -0.1911, -0.1972, -0.3304, -0.4291, -0.6048, -0.6064, -0.7499, -0.7979, -1.2144, -1.6081, -1.6624, -2.1677, -7.0643, -7.0878, -7.2495, -7.2546, -7.264, -7.3093, -7.3327, -7.6763, 3.0157, -3.2982, -3.985, -4.0414, -4.3904, -5.7214, -5.7732, -6.3307, -6.3629, -6.4493, -6.4886, -6.5511, -6.5814, -6.6067, -6.6407, -6.6582, -6.6669, -6.7152, -6.7414, -6.7903, -6.7925, -6.8042, -6.8797, -6.9031, -6.9743, -7.072, -7.1163, 2.7402, 1.5119, 0.3991, -0.6215, -0.8583, -1.7659, -4.524, -4.8036, -5.2579, -5.3198, -5.8257, -5.9438, -5.9717, -5.9952, -6.0523, -6.1295, -6.1412, -6.1527, -6.1569, -6.1714, -6.1876, -6.2167, -6.2401, -6.2768, -6.3884, -6.4787, -6.5837, 2.5144, 2.1302, 1.0696, -2.2734, -2.7302, -4.6691, -4.711, -4.9732, -5.0768, -5.7527, -5.8025, -5.9009, -5.9081, -5.9345, -5.9548, -5.9827, -6.0215, -6.0819, -6.1384, -6.1679, -6.173, -6.2277, -6.2879, -6.3994, -6.4475, -6.4643, -6.4897, 1.9841, 0.7559, 0.6173, 0.5819, 0.4345, 0.3491, 0.3054, 0.2205, 0.1883, 0.0519, 0.0248, -0.1697, -0.2885, -0.7882, -0.804, -0.977, -6.3202, -6.3773, -6.4315, -6.4662, -6.4777, -6.4964, -6.5126, -6.5651, -6.6295, -6.6363, -6.9088, 2.3991, 1.1028, 0.3115, 0.3039, 0.2697, 0.039, -0.0119, -0.0252, -0.1851, -0.2426, -0.268, -0.3165, -0.4654, -0.5152, -0.8231, -0.9011, -0.9436, -2.1849, -3.0705, -3.6241, -5.3672, -5.7432, -5.7947, -5.9268, -6.0396, -6.1792, -6.2359, 2.6157, 0.9341, 0.7548, 0.7317, 0.6338, 0.5637, -0.009, -0.545, -0.5826, -1.6716, -6.0533, -6.0767, -6.1338, -6.188, -6.2089, -6.2228, -6.2342, -6.2384, -6.2435, -6.253, -6.2692, -6.3089, -6.3217, -6.3584, -6.386, -6.3928, -6.4699, 2.0271, 1.7542, 0.4513, 0.2162, 0.0818, 0.0527, 0.0459, 0.0227, -0.1193, -0.2848, -0.451, -0.6745, -0.6992, -0.9049, -0.9109, -1.1524, -1.2548, -1.2857, -1.7037, -2.1307, -2.1978, -2.3931, -5.0106, -5.1454, -5.1801, -5.1916, -5.3434, 1.9334, 1.5463, 1.0744, 0.8235, 0.3764, 0.0238, -0.065, -0.3525, -0.3891, -0.4212, -0.4872, -1.1908, -1.2386, -1.3199, -1.7808, -4.4245, -4.8242, -4.8553, -4.8756, -4.9987, -5.0276, -5.0451, -5.1563, -5.1899, -5.1911, -5.2666, -5.29, 2.0399, 1.0632, 0.9214, 0.8528, 0.7961, 0.3693, 0.3515, 0.2788, -0.0898, -0.2462, -0.3629, -0.3725, -0.5485, -1.2495, -1.3061, -1.606, -1.7394, -1.7528, -2.9536, -4.7062, -4.8243, -4.8757, -4.9143, -5.01, -5.0519, -5.317, -5.3338, 2.2018, 1.0211, 0.6599, 0.558, 0.4816, 0.3575, 0.3451, 0.0963, 0.0418, -0.1428, -0.3034, -0.3889, -0.6697, -0.7592, -0.8744, -1.0729, -1.1096, -1.2955, -1.8456, -2.1671, -5.9306, -5.9876, -6.0922, -6.1068, -6.1521, -6.2467, -6.3718, 1.931, 1.2459, 1.167, 0.5052, 0.4683, 0.4463, 0.3472, 0.1249, 0.0569, 0.0194, -0.2642, -0.5293, -0.615, -0.7027, -0.7772, -1.297, -1.3249, -1.765, -1.8025, -1.8569, -3.3607, -3.4184, -3.7944, -5.1177, -5.2279, -5.3225, -5.4645, 2.0102, 1.0175, 0.7634, 0.5925, 0.5892, 0.3711, 0.2267, 0.2066, 0.1698, 0.1388, 0.118, -0.1969, -0.3223, -0.3742, -0.5954, -0.6968, -0.9278, -0.9537, -2.0232, -2.12, -2.1445, -2.4343, -5.09, -5.2247, -5.3349, -5.3584, -5.3951, 1.99, 1.2154, 1.1541, 1.137, 0.9484, 0.3077, 0.1038, -0.0341, -0.15, -0.2298, -0.3527, -0.502, -0.5974, -0.8486, -1.2116, -1.8376, -2.1887, -2.2568, -5.0131, -5.0673, -5.0882, -5.1178, -5.1323, -5.1485, -5.2377, -5.2653, -5.4142, 2.0108, 1.3037, 1.0594, 0.9326, 0.5142, 0.2334, 0.1059, -0.1955, -0.3043, -0.6557, -0.9039, -0.9923, -1.4065, -1.6586, -1.7369, -4.826, -4.8469, -4.849, -4.8722, -4.8815, -4.891, -4.9072, -4.9362, -4.9469, -4.9597, -5.024, -5.0308, 1.4605, 1.4347, 1.119, 1.0162, 0.9612, 0.3959, 0.2498, 0.0047, 0.0021, -0.2691, -0.4013, -0.4703, -0.4752, -0.4836, -0.5197, -0.5984, -0.8321, -1.3078, -1.3727, -1.4501, -1.5004, -1.8015, -2.3468, -4.179, -4.3021, -4.3853, -4.5817, 1.7691, 1.0626, 0.8901, 0.8569, 0.4961, 0.4542, 0.2963, 0.2227, 0.1783, 0.1305, -0.0262, -0.0581, -0.1199, -0.2554, -0.3202, -0.7693, -0.7759, -0.8104, -1.5316, -1.5619, -2.5873, -4.843, -5.0005, -5.0098, -5.0645, -5.0879, -5.2843, 0.3772, 0.2591, 0.2311, 0.2251, 0.2076, 0.169, 0.1506, 0.0964, 0.0755, 0.0733, 0.0616, 0.0502, 0.0459, 0.0409, 0.0314, 0.0152, -0.0139, -0.0245, -0.0373, -0.074, -0.1016, -0.1085, -0.1855, -0.2336, -0.2505, -0.2759, -0.3809, 0.3772, 0.2591, 0.2311, 0.2251, 0.2076, 0.169, 0.1506, 0.0964, 0.0755, 0.0733, 0.0616, 0.0502, 0.0459, 0.0409, 0.0314, 0.0152, -0.0139, -0.0245, -0.0373, -0.074, -0.1016, -0.1085, -0.1855, -0.2336, -0.2505, -0.2759, -0.3809, 0.3772, 0.2591, 0.2311, 0.2251, 0.2076, 0.169, 0.1506, 0.0964, 0.0755, 0.0733, 0.0616, 0.0502, 0.0459, 0.0409, 0.0314, 0.0152, -0.0139, -0.0245, -0.0373, -0.074, -0.1016, -0.1085, -0.1855, -0.2336, -0.2505, -0.2759, -0.3809, 0.3772, 0.2591, 0.2311, 0.2251, 0.2076, 0.169, 0.1506, 0.0964, 0.0755, 0.0733, 0.0616, 0.0502, 0.0459, 0.0409, 0.0314, 0.0152, -0.0139, -0.0245, -0.0373, -0.074, -0.1016, -0.1085, -0.1855, -0.2336, -0.2505, -0.2759, -0.3809, 0.3772, 0.2591, 0.2311, 0.2251, 0.2076, 0.169, 0.1506, 0.0964, 0.0755, 0.0733, 0.0616, 0.0502, 0.0459, 0.0409, 0.0314, 0.0152, -0.0139, -0.0245, -0.0373, -0.074, -0.1016, -0.1085, -0.1855, -0.2336, -0.2505, -0.2759, -0.3809, 0.3772, 0.2591, 0.2311, 0.2251, 0.2076, 0.169, 0.1506, 0.0964, 0.0755, 0.0733, 0.0616, 0.0502, 0.0459, 0.0409, 0.0314, 0.0152, -0.0139, -0.0245, -0.0373, -0.074, -0.1016, -0.1085, -0.1855, -0.2336, -0.2505, -0.2759, -0.3809, 0.3772, 0.2591, 0.2311, 0.2251, 0.2076, 0.169, 0.1506, 0.0964, 0.0755, 0.0733, 0.0616, 0.0502, 0.0459, 0.0409, 0.0314, 0.0152, -0.0139, -0.0245, -0.0373, -0.074, -0.1016, -0.1085, -0.1855, -0.2336, -0.2505, -0.2759, -0.3809, 0.3772, 0.2591, 0.2311, 0.2251, 0.2076, 0.169, 0.1506, 0.0964, 0.0755, 0.0733, 0.0616, 0.0502, 0.0459, 0.0409, 0.0314, 0.0152, -0.0139, -0.0245, -0.0373, -0.074, -0.1016, -0.1085, -0.1855, -0.2336, -0.2505, -0.2759, -0.3809, 0.3772, 0.2591, 0.2311, 0.2251, 0.2076, 0.169, 0.1506, 0.0964, 0.0755, 0.0733, 0.0616, 0.0502, 0.0459, 0.0409, 0.0314, 0.0152, -0.0139, -0.0245, -0.0373, -0.074, -0.1016, -0.1085, -0.1855, -0.2336, -0.2505, -0.2759, -0.3809, 0.3772, 0.2591, 0.2311, 0.2251, 0.2076, 0.169, 0.1506, 0.0964, 0.0755, 0.0733, 0.0616, 0.0502, 0.0459, 0.0409, 0.0314, 0.0152, -0.0139, -0.0245, -0.0373, -0.074, -0.1016, -0.1085, -0.1855, -0.2336, -0.2505, -0.2759, -0.3809, 0.3772, 0.2591, 0.2311, 0.2251, 0.2076, 0.169, 0.1506, 0.0964, 0.0755, 0.0733, 0.0616, 0.0502, 0.0459, 0.0409, 0.0314, 0.0152, -0.0139, -0.0245, -0.0373, -0.074, -0.1016, -0.1085, -0.1855, -0.2336, -0.2505, -0.2759, -0.3809, 0.3772, 0.2591, 0.2311, 0.2251, 0.2076, 0.169, 0.1506, 0.0964, 0.0755, 0.0733, 0.0616, 0.0502, 0.0459, 0.0409, 0.0314, 0.0152, -0.0139, -0.0245, -0.0373, -0.074, -0.1016, -0.1085, -0.1855, -0.2336, -0.2505, -0.2759, -0.3809, 0.3772, 0.2591, 0.2311, 0.2251, 0.2076, 0.169, 0.1506, 0.0964, 0.0755, 0.0733, 0.0616, 0.0502, 0.0459, 0.0409, 0.0314, 0.0152, -0.0139, -0.0245, -0.0373, -0.074, -0.1016, -0.1085, -0.1855, -0.2336, -0.2505, -0.2759, -0.3809, 0.3772, 0.2591, 0.2311, 0.2251, 0.2076, 0.169, 0.1506, 0.0964, 0.0755, 0.0733, 0.0616, 0.0502, 0.0459, 0.0409, 0.0314, 0.0152, -0.0139, -0.0245, -0.0373, -0.074, -0.1016, -0.1085, -0.1855, -0.2336, -0.2505, -0.2759, -0.3809, 1.6959, 1.1542, 0.9715, 0.9581, 0.3607, 0.1614, 0.0532, 0.0211, -0.1032, -0.2656, -0.2942, -0.4675, -0.6064, -0.6108, -0.6325, -0.9907, -1.0198, -1.123, -1.3327, -1.8228, -1.8962, -2.2797, -2.3474, -3.353, -3.3783, -3.3825, -3.397, 0.3772, 0.2591, 0.2311, 0.2251, 0.2076, 0.169, 0.1506, 0.0964, 0.0755, 0.0733, 0.0616, 0.0502, 0.0459, 0.0409, 0.0314, 0.0152, -0.0139, -0.0245, -0.0373, -0.074, -0.1016, -0.1085, -0.1855, -0.2336, -0.2505, -0.2759, -0.3809, 0.3772, 0.2591, 0.2311, 0.2251, 0.2076, 0.169, 0.1506, 0.0964, 0.0755, 0.0733, 0.0616, 0.0502, 0.0459, 0.0409, 0.0314, 0.0152, -0.0139, -0.0245, -0.0373, -0.074, -0.1016, -0.1085, -0.1855, -0.2336, -0.2505, -0.2759, -0.3809, 0.3772, 0.2591, 0.2311, 0.2251, 0.2076, 0.169, 0.1506, 0.0964, 0.0755, 0.0733, 0.0616, 0.0502, 0.0459, 0.0409, 0.0314, 0.0152, -0.0139, -0.0245, -0.0373, -0.074, -0.1016, -0.1085, -0.1855, -0.2336, -0.2505, -0.2759, -0.3809, 0.3772, 0.2591, 0.2311, 0.2251, 0.2076, 0.169, 0.1506, 0.0964, 0.0755, 0.0733, 0.0616, 0.0502, 0.0459, 0.0409, 0.0314, 0.0152, -0.0139, -0.0245, -0.0373, -0.074, -0.1016, -0.1085, -0.1855, -0.2336, -0.2505, -0.2759, -0.3809, 0.3772, 0.2591, 0.2311, 0.2251, 0.2076, 0.169, 0.1506, 0.0964, 0.0755, 0.0733, 0.0616, 0.0502, 0.0459, 0.0409, 0.0314, 0.0152, -0.0139, -0.0245, -0.0373, -0.074, -0.1016, -0.1085, -0.1855, -0.2336, -0.2505, -0.2759, -0.3809, 0.7163, 0.6182, 0.481, 0.4088, 0.3463, 0.3114, 0.2011, 0.1279, 0.0663, 0.0524, 0.0249, -0.0096, -0.0626, -0.0997, -0.1171, -0.1742, -0.2284, -0.2493, -0.2632, -0.2746, -0.2788, -0.3096, -0.3386, -0.3988, -0.4388, -0.5584, -0.6006, 0.3772, 0.2591, 0.2311, 0.2251, 0.2076, 0.169, 0.1506, 0.0964, 0.0755, 0.0733, 0.0616, 0.0502, 0.0459, 0.0409, 0.0314, 0.0152, -0.0139, -0.0245, -0.0373, -0.074, -0.1016, -0.1085, -0.1855, -0.2336, -0.2505, -0.2759, -0.3809, 0.3772, 0.2591, 0.2311, 0.2251, 0.2076, 0.169, 0.1506, 0.0964, 0.0755, 0.0733, 0.0616, 0.0502, 0.0459, 0.0409, 0.0314, 0.0152, -0.0139, -0.0245, -0.0373, -0.074, -0.1016, -0.1085, -0.1855, -0.2336, -0.2505, -0.2759, -0.3809, 0.7012, 0.6228, 0.401, 0.3772, 0.3328, 0.2282, 0.223, 0.2167, 0.2035, 0.1959, 0.1473, -0.0518, -0.0797, -0.0834, -0.1032, -0.1311, -0.1418, -0.1603, -0.2354, -0.2375, -0.2607, -0.2794, -0.3849, -0.4125, -0.5613, -0.5867, -0.6918, 0.3772, 0.2591, 0.2311, 0.2251, 0.2076, 0.169, 0.1506, 0.0964, 0.0755, 0.0733, 0.0616, 0.0502, 0.0459, 0.0409, 0.0314, 0.0152, -0.0139, -0.0245, -0.0373, -0.074, -0.1016, -0.1085, -0.1855, -0.2336, -0.2505, -0.2759, -0.3809, 0.3772, 0.2591, 0.2311, 0.2251, 0.2076, 0.169, 0.1506, 0.0964, 0.0755, 0.0733, 0.0616, 0.0502, 0.046, 0.0409, 0.0314, 0.0153, -0.0139, -0.0245, -0.0373, -0.074, -0.1016, -0.1085, -0.1855, -0.2336, -0.2505, -0.2759, -0.3809, 0.5057, 0.39, 0.3864, 0.3094, 0.2476, 0.2141, 0.2027, 0.0967, 0.0807, 0.0711, 0.0008, -0.0374, -0.0654, -0.0714, -0.0889, -0.1264, -0.1275, -0.1459, -0.221, -0.2232, -0.2463, -0.2506, -0.2556, -0.2651, -0.3104, -0.3981, -0.547, 0.3772, 0.2591, 0.2311, 0.2251, 0.2076, 0.169, 0.1506, 0.0964, 0.0755, 0.0733, 0.0616, 0.0502, 0.0459, 0.0409, 0.0314, 0.0152, -0.0139, -0.0245, -0.0373, -0.074, -0.1016, -0.1085, -0.1855, -0.2336, -0.2505, -0.2759, -0.3809, 0.827, 0.6812, 0.589, 0.5744, 0.5346, 0.3311, 0.172, 0.1497, 0.1264, 0.0215, -0.1358, -0.2131, -0.2539, -0.2818, -0.3053, -0.3439, -0.3624, -0.4166, -0.4391, -0.4396, -0.4513, -0.467, -0.4815, -0.5268, -0.587, -0.6214, -0.7888, 0.3771, 0.259, 0.2311, 0.225, 0.2077, 0.169, 0.1505, 0.0965, 0.0755, 0.0733, 0.0617, 0.0501, 0.0459, 0.0408, 0.0317, 0.0152, -0.0139, -0.0245, -0.0373, -0.0739, -0.1017, -0.1085, -0.1855, -0.2337, -0.2505, -0.2759, -0.3809, 0.3772, 0.2591, 0.2311, 0.2251, 0.2076, 0.169, 0.1506, 0.0964, 0.0755, 0.0733, 0.0616, 0.0502, 0.0459, 0.0409, 0.0314, 0.0152, -0.0139, -0.0245, -0.0373, -0.074, -0.1016, -0.1085, -0.1855, -0.2336, -0.2505, -0.2759, -0.3809, 0.3734, 0.2573, 0.2274, 0.2251, 0.2213, 0.1652, 0.1468, 0.1162, 0.0717, 0.0712, 0.0579, 0.0472, 0.0464, 0.0371, 0.0277, 0.0227, -0.0148, -0.0262, -0.0363, -0.0732, -0.0976, -0.1074, -0.1867, -0.2374, -0.2542, -0.2727, -0.3847, 0.3772, 0.2591, 0.2311, 0.2251, 0.2076, 0.169, 0.1506, 0.0964, 0.0755, 0.0733, 0.0616, 0.0502, 0.0459, 0.0409, 0.0314, 0.0152, -0.0139, -0.0245, -0.0373, -0.074, -0.1016, -0.1085, -0.1855, -0.2336, -0.2505, -0.2759, -0.3809, 1.093, 1.0407, 1.0195, 0.9555, 0.6117, 0.5701, 0.3449, 0.2904, 0.2522, 0.228, 0.0578, -0.3616, -0.4338, -0.471, -0.7933, -0.9597, -1.175, -1.2676, -1.2871, -1.4646, -1.5785, -2.5289, -2.5568, -2.7125, -2.8018, -2.8252, -2.8896, 0.3772, 0.2591, 0.2311, 0.2251, 0.2076, 0.169, 0.1506, 0.0964, 0.0755, 0.0733, 0.0616, 0.0502, 0.0459, 0.0409, 0.0314, 0.0152, -0.0139, -0.0245, -0.0373, -0.074, -0.1016, -0.1085, -0.1855, -0.2336, -0.2505, -0.2759, -0.3809, 0.3772, 0.2591, 0.2311, 0.2251, 0.2076, 0.169, 0.1506, 0.0964, 0.0755, 0.0733, 0.0616, 0.0502, 0.0459, 0.0409, 0.0314, 0.0152, -0.0139, -0.0245, -0.0373, -0.074, -0.1016, -0.1085, -0.1855, -0.2336, -0.2505, -0.2759, -0.3809, 1.273, 1.1572, 1.0615, 0.7841, 0.7461, 0.2293, 0.1489, -0.0772, -0.1668, -0.3752, -0.4158, -0.4907, -0.5132, -0.5149, -0.5506, -0.5807, -0.6117, -0.6343, -0.7436, -0.7804, -0.7864, -0.8039, -0.8425, -0.9151, -0.9613, -1.0254, -1.0855]}, \"token.table\": {\"Topic\": [1, 2, 6, 7, 20, 24, 27, 31, 33, 34, 38, 40, 41, 42, 43, 44, 45, 46, 47, 48, 49, 50, 51, 52, 53, 54, 55, 56, 57, 58, 59, 60, 61, 62, 63, 64, 65, 66, 67, 68, 69, 70, 71, 72, 73, 74, 75, 76, 77, 78, 79, 80, 1, 6, 7, 9, 11, 13, 14, 15, 17, 19, 26, 27, 29, 31, 32, 33, 34, 35, 37, 39, 41, 42, 43, 44, 45, 46, 47, 48, 49, 50, 51, 52, 53, 54, 55, 56, 57, 58, 59, 60, 61, 62, 63, 64, 65, 66, 67, 68, 69, 70, 71, 72, 73, 74, 75, 76, 77, 78, 79, 80, 2, 4, 6, 8, 9, 10, 12, 15, 16, 30, 34, 36, 37, 38, 40, 44, 45, 46, 47, 48, 49, 50, 51, 52, 53, 54, 55, 56, 57, 58, 59, 60, 61, 62, 63, 64, 65, 66, 67, 68, 69, 70, 71, 72, 73, 74, 75, 76, 78, 79, 80, 1, 2, 6, 8, 10, 12, 13, 14, 15, 16, 18, 20, 22, 24, 26, 30, 33, 34, 35, 36, 37, 38, 39, 40, 41, 42, 43, 44, 45, 46, 47, 48, 49, 50, 51, 52, 53, 54, 55, 56, 57, 58, 59, 60, 61, 62, 63, 64, 65, 66, 67, 68, 69, 70, 71, 72, 73, 74, 75, 76, 77, 78, 79, 80, 1, 2, 6, 7, 8, 9, 13, 14, 15, 18, 20, 24, 25, 27, 29, 32, 35, 36, 37, 38, 39, 42, 43, 44, 45, 46, 47, 48, 49, 50, 51, 52, 53, 54, 55, 56, 57, 58, 59, 60, 61, 62, 63, 64, 65, 66, 67, 68, 69, 70, 71, 72, 73, 74, 75, 76, 78, 79, 80, 1, 5, 10, 15, 21, 27, 32, 35, 36, 37, 38, 42, 44, 45, 46, 47, 48, 49, 50, 51, 52, 53, 54, 55, 56, 57, 59, 60, 61, 62, 63, 64, 65, 66, 67, 68, 69, 70, 71, 72, 73, 74, 75, 76, 77, 78, 79, 80, 1, 3, 6, 9, 12, 15, 20, 31, 32, 33, 34, 36, 42, 44, 45, 46, 47, 48, 49, 50, 51, 52, 53, 54, 55, 56, 57, 58, 59, 60, 61, 62, 63, 64, 65, 66, 67, 68, 69, 70, 71, 72, 73, 74, 75, 76, 78, 79, 80, 1, 2, 4, 5, 7, 8, 10, 11, 13, 16, 20, 22, 23, 24, 26, 27, 30, 32, 36, 37, 38, 40, 41, 42, 43, 44, 45, 46, 47, 48, 49, 50, 51, 52, 53, 54, 55, 56, 57, 58, 59, 60, 61, 62, 63, 64, 65, 66, 67, 68, 69, 70, 71, 72, 73, 74, 75, 76, 77, 78, 79, 80, 1, 3, 12, 24, 26, 27, 31, 33, 34, 35, 38, 39, 40, 41, 44, 45, 46, 47, 48, 49, 50, 51, 52, 53, 54, 55, 56, 57, 59, 60, 61, 62, 63, 64, 65, 66, 67, 68, 69, 70, 71, 72, 73, 74, 75, 76, 77, 78, 79, 80, 1, 2, 8, 11, 12, 18, 34, 38, 39, 42, 44, 45, 46, 47, 48, 49, 50, 51, 52, 53, 54, 55, 56, 57, 58, 59, 60, 61, 62, 63, 64, 65, 66, 67, 68, 69, 70, 71, 72, 73, 74, 75, 76, 77, 78, 79, 80, 1, 2, 4, 6, 8, 9, 10, 11, 13, 15, 16, 17, 24, 26, 27, 31, 32, 34, 36, 37, 41, 42, 43, 44, 45, 46, 47, 48, 49, 50, 51, 52, 53, 54, 55, 56, 57, 58, 59, 60, 61, 62, 63, 64, 65, 66, 67, 68, 69, 70, 71, 72, 73, 74, 75, 76, 77, 78, 79, 80, 2, 4, 9, 10, 13, 15, 17, 22, 23, 24, 31, 32, 36, 37, 38, 40, 41, 42, 43, 44, 45, 46, 47, 48, 49, 50, 51, 52, 53, 54, 55, 56, 57, 58, 59, 60, 61, 62, 63, 64, 65, 66, 67, 68, 69, 70, 71, 72, 73, 74, 75, 76, 78, 79, 80, 2, 8, 11, 13, 14, 15, 16, 19, 20, 23, 25, 26, 27, 35, 36, 39, 41, 42, 43, 44, 45, 46, 47, 48, 49, 50, 51, 52, 53, 54, 55, 56, 57, 58, 59, 60, 61, 62, 63, 64, 65, 66, 67, 68, 69, 70, 71, 72, 73, 74, 75, 76, 77, 78, 79, 80, 3, 4, 6, 7, 8, 10, 11, 12, 13, 14, 24, 27, 31, 33, 34, 37, 38, 39, 40, 41, 42, 43, 44, 45, 46, 47, 48, 49, 50, 51, 52, 53, 54, 55, 56, 57, 58, 59, 60, 61, 62, 63, 64, 65, 66, 67, 68, 69, 70, 71, 72, 73, 74, 75, 76, 78, 79, 80, 1, 2, 5, 6, 8, 10, 11, 12, 14, 15, 19, 24, 25, 27, 29, 30, 32, 34, 35, 36, 39, 40, 42, 43, 44, 45, 46, 47, 48, 49, 50, 51, 52, 53, 54, 55, 56, 57, 58, 59, 60, 61, 62, 63, 64, 65, 66, 67, 68, 69, 70, 71, 72, 73, 74, 75, 76, 77, 78, 79, 80, 2, 4, 5, 6, 9, 10, 13, 17, 27, 34, 36, 37, 38, 39, 43, 44, 45, 46, 47, 48, 49, 50, 51, 52, 53, 54, 55, 56, 57, 59, 60, 61, 62, 63, 64, 65, 66, 67, 68, 69, 70, 71, 72, 73, 74, 75, 76, 77, 78, 79, 80, 1, 2, 3, 4, 6, 7, 8, 11, 13, 15, 20, 21, 23, 24, 27, 29, 31, 32, 34, 35, 36, 37, 38, 39, 40, 42, 43, 44, 45, 46, 47, 48, 49, 50, 51, 52, 53, 54, 55, 56, 57, 58, 59, 60, 61, 62, 63, 64, 65, 66, 67, 68, 69, 70, 71, 72, 73, 74, 75, 76, 77, 78, 79, 80, 1, 2, 6, 10, 13, 14, 15, 17, 21, 22, 25, 26, 27, 31, 32, 33, 34, 35, 37, 38, 39, 40, 42, 43, 44, 45, 46, 47, 48, 49, 50, 51, 52, 53, 54, 55, 56, 57, 59, 60, 61, 62, 63, 64, 65, 66, 67, 68, 69, 70, 71, 72, 73, 74, 75, 76, 77, 78, 79, 80, 1, 3, 8, 11, 13, 17, 24, 27, 29, 31, 36, 37, 38, 42, 43, 44, 45, 46, 47, 48, 49, 50, 51, 52, 53, 54, 55, 56, 57, 59, 60, 61, 62, 63, 64, 65, 66, 67, 68, 69, 70, 71, 72, 73, 74, 75, 76, 78, 79, 80, 1, 2, 4, 5, 6, 7, 8, 10, 11, 13, 17, 22, 24, 27, 31, 32, 33, 34, 35, 37, 38, 39, 40, 41, 43, 44, 45, 46, 47, 48, 49, 50, 51, 52, 53, 54, 55, 56, 57, 59, 60, 61, 62, 63, 64, 65, 66, 67, 68, 69, 70, 71, 72, 73, 74, 75, 76, 77, 78, 79, 80, 2, 4, 5, 7, 10, 11, 12, 13, 15, 20, 24, 27, 31, 32, 33, 34, 36, 37, 39, 40, 41, 42, 44, 45, 46, 47, 48, 49, 50, 51, 52, 53, 54, 55, 56, 57, 58, 59, 60, 61, 62, 63, 64, 65, 66, 67, 68, 69, 70, 71, 72, 73, 74, 75, 76, 77, 78, 79, 80, 2, 3, 7, 9, 10, 11, 12, 13, 16, 24, 29, 31, 32, 34, 35, 36, 37, 38, 39, 40, 42, 44, 45, 46, 47, 48, 49, 50, 51, 52, 53, 54, 55, 56, 57, 58, 59, 60, 61, 62, 63, 64, 65, 66, 67, 68, 69, 70, 71, 72, 73, 74, 75, 76, 77, 78, 79, 80, 1, 5, 6, 8, 10, 12, 13, 14, 15, 16, 19, 21, 22, 24, 26, 27, 31, 32, 34, 35, 36, 37, 38, 39, 40, 41, 42, 43, 44, 45, 46, 47, 48, 49, 50, 51, 52, 53, 54, 55, 56, 57, 58, 59, 60, 61, 62, 63, 64, 65, 66, 67, 68, 69, 70, 71, 72, 73, 74, 75, 76, 77, 78, 79, 80, 2, 5, 13, 15, 18, 19, 21, 32, 35, 38, 39, 42, 43, 44, 45, 46, 47, 48, 49, 50, 51, 52, 53, 54, 55, 56, 57, 59, 60, 61, 62, 63, 64, 65, 66, 67, 68, 69, 70, 71, 72, 73, 74, 75, 76, 77, 78, 79, 80, 1, 2, 5, 7, 9, 11, 15, 24, 27, 32, 36, 37, 42, 43, 44, 45, 46, 47, 48, 49, 50, 51, 52, 53, 54, 55, 56, 57, 58, 59, 60, 61, 62, 63, 64, 65, 66, 67, 68, 69, 70, 71, 72, 73, 74, 75, 76, 77, 78, 79, 80, 1, 2, 5, 6, 7, 8, 10, 12, 13, 14, 15, 16, 17, 18, 19, 20, 24, 26, 27, 28, 31, 32, 33, 34, 35, 37, 38, 39, 40, 41, 42, 43, 44, 45, 46, 47, 48, 49, 50, 51, 52, 53, 54, 55, 56, 57, 58, 59, 60, 61, 62, 63, 64, 65, 66, 67, 68, 69, 70, 71, 72, 73, 74, 75, 76, 77, 78, 79, 80, 1, 2, 3, 6, 9, 11, 13, 14, 15, 16, 20, 24, 26, 31, 32, 34, 35, 36, 38, 39, 41, 43, 44, 45, 46, 47, 48, 49, 50, 51, 52, 53, 54, 55, 56, 57, 59, 60, 61, 62, 63, 64, 65, 66, 67, 68, 69, 70, 71, 72, 73, 74, 75, 76, 77, 78, 79, 80], \"Freq\": [0.009047942125150626, 0.011309927656438281, 0.6491898474795573, 0.011309927656438281, 0.011309927656438281, 0.013571913187725937, 0.0067859565938629685, 0.004523971062575313, 0.015833898719013594, 0.0022619855312876564, 0.0022619855312876564, 0.015833898719013594, 0.011309927656438281, 0.0067859565938629685, 0.004523971062575313, 0.0067859565938629685, 0.0067859565938629685, 0.0067859565938629685, 0.0067859565938629685, 0.0067859565938629685, 0.0067859565938629685, 0.0067859565938629685, 0.0067859565938629685, 0.0067859565938629685, 0.0067859565938629685, 0.0067859565938629685, 0.0067859565938629685, 0.0067859565938629685, 0.0067859565938629685, 0.0022619855312876564, 0.0067859565938629685, 0.0067859565938629685, 0.0067859565938629685, 0.0067859565938629685, 0.0067859565938629685, 0.004523971062575313, 0.0067859565938629685, 0.0067859565938629685, 0.009047942125150626, 0.0067859565938629685, 0.0067859565938629685, 0.004523971062575313, 0.0067859565938629685, 0.004523971062575313, 0.0067859565938629685, 0.0067859565938629685, 0.0067859565938629685, 0.0067859565938629685, 0.0022619855312876564, 0.0067859565938629685, 0.0067859565938629685, 0.0022619855312876564, 0.012075754168060586, 0.021736357502509053, 0.020528782085702996, 0.014490905001672702, 0.018113631252090878, 0.019321206668896935, 0.012075754168060586, 0.00845302791764241, 0.0700393741747514, 0.03864241333779387, 0.28378022294942373, 0.018113631252090878, 0.1895893404385512, 0.020528782085702996, 0.012075754168060586, 0.01569848041847876, 0.004830301667224234, 0.03864241333779387, 0.006037877084030293, 0.006037877084030293, 0.0350196870873757, 0.0036227262504181755, 0.002415150833612117, 0.0036227262504181755, 0.0036227262504181755, 0.0036227262504181755, 0.0036227262504181755, 0.0036227262504181755, 0.0036227262504181755, 0.0036227262504181755, 0.0036227262504181755, 0.0036227262504181755, 0.0036227262504181755, 0.0036227262504181755, 0.0036227262504181755, 0.0036227262504181755, 0.0036227262504181755, 0.004830301667224234, 0.0036227262504181755, 0.0036227262504181755, 0.0036227262504181755, 0.0036227262504181755, 0.0036227262504181755, 0.004830301667224234, 0.0036227262504181755, 0.0036227262504181755, 0.002415150833612117, 0.0036227262504181755, 0.0036227262504181755, 0.002415150833612117, 0.0036227262504181755, 0.004830301667224234, 0.0036227262504181755, 0.0036227262504181755, 0.0036227262504181755, 0.0036227262504181755, 0.006037877084030293, 0.0036227262504181755, 0.0036227262504181755, 0.002415150833612117, 0.007472536607537008, 0.659077728784764, 0.0029890146430148028, 0.01046155125055181, 0.01046155125055181, 0.0014945073215074014, 0.011956058572059211, 0.004483521964522204, 0.008967043929044408, 0.1016264978625033, 0.007472536607537008, 0.0029890146430148028, 0.007472536607537008, 0.0014945073215074014, 0.0059780292860296055, 0.004483521964522204, 0.004483521964522204, 0.004483521964522204, 0.004483521964522204, 0.004483521964522204, 0.004483521964522204, 0.004483521964522204, 0.004483521964522204, 0.004483521964522204, 0.004483521964522204, 0.004483521964522204, 0.004483521964522204, 0.004483521964522204, 0.004483521964522204, 0.0014945073215074014, 0.004483521964522204, 0.004483521964522204, 0.004483521964522204, 0.004483521964522204, 0.004483521964522204, 0.004483521964522204, 0.004483521964522204, 0.004483521964522204, 0.004483521964522204, 0.004483521964522204, 0.004483521964522204, 0.0059780292860296055, 0.004483521964522204, 0.008967043929044408, 0.004483521964522204, 0.004483521964522204, 0.004483521964522204, 0.004483521964522204, 0.004483521964522204, 0.004483521964522204, 0.0029890146430148028, 0.047695389307096776, 0.052994877007885306, 0.033916721285046594, 0.028617233584258064, 0.023317745883469534, 0.016958360642523297, 0.03179692620473118, 0.027557336044100357, 0.025437540963784946, 0.03603651636536201, 0.016958360642523297, 0.025437540963784946, 0.3508260857922007, 0.018018258182681005, 0.010598975401577062, 0.0349766188252043, 0.01907815572283871, 0.005299487700788531, 0.004239590160630824, 0.004239590160630824, 0.004239590160630824, 0.008479180321261649, 0.0031796926204731182, 0.014838565562207886, 0.016958360642523297, 0.002119795080315412, 0.004239590160630824, 0.0031796926204731182, 0.0031796926204731182, 0.0031796926204731182, 0.0031796926204731182, 0.0031796926204731182, 0.0031796926204731182, 0.0031796926204731182, 0.0031796926204731182, 0.0031796926204731182, 0.0031796926204731182, 0.0031796926204731182, 0.0031796926204731182, 0.0031796926204731182, 0.0031796926204731182, 0.013778668022050179, 0.0031796926204731182, 0.0031796926204731182, 0.0031796926204731182, 0.0031796926204731182, 0.0031796926204731182, 0.0031796926204731182, 0.0031796926204731182, 0.0031796926204731182, 0.002119795080315412, 0.0031796926204731182, 0.0031796926204731182, 0.005299487700788531, 0.0031796926204731182, 0.005299487700788531, 0.0031796926204731182, 0.0031796926204731182, 0.0031796926204731182, 0.0031796926204731182, 0.007419282781103943, 0.0031796926204731182, 0.0031796926204731182, 0.005299487700788531, 0.02802812516662446, 0.019619687616637124, 0.015415468841643454, 0.012612656324981009, 0.0014014062583312232, 0.6166187536657382, 0.009809843808318562, 0.004204218774993669, 0.007007031291656115, 0.0014014062583312232, 0.012612656324981009, 0.019619687616637124, 0.0028028125166624463, 0.04624640652493037, 0.005605625033324893, 0.02802812516662446, 0.0014014062583312232, 0.0014014062583312232, 0.0014014062583312232, 0.0014014062583312232, 0.0028028125166624463, 0.01401406258331223, 0.005605625033324893, 0.004204218774993669, 0.004204218774993669, 0.004204218774993669, 0.004204218774993669, 0.004204218774993669, 0.004204218774993669, 0.004204218774993669, 0.004204218774993669, 0.004204218774993669, 0.004204218774993669, 0.004204218774993669, 0.004204218774993669, 0.004204218774993669, 0.004204218774993669, 0.005605625033324893, 0.004204218774993669, 0.004204218774993669, 0.004204218774993669, 0.004204218774993669, 0.004204218774993669, 0.005605625033324893, 0.004204218774993669, 0.004204218774993669, 0.0028028125166624463, 0.004204218774993669, 0.004204218774993669, 0.0028028125166624463, 0.004204218774993669, 0.004204218774993669, 0.004204218774993669, 0.004204218774993669, 0.004204218774993669, 0.004204218774993669, 0.004204218774993669, 0.004204218774993669, 0.0014014062583312232, 0.009786572358522328, 0.014679858537783494, 0.008155476965435273, 0.0032621907861741096, 0.5040084764638999, 0.2201978780667524, 0.009786572358522328, 0.0016310953930870548, 0.0016310953930870548, 0.0016310953930870548, 0.035884098647915204, 0.017942049323957602, 0.004893286179261164, 0.004893286179261164, 0.004893286179261164, 0.004893286179261164, 0.004893286179261164, 0.004893286179261164, 0.004893286179261164, 0.004893286179261164, 0.004893286179261164, 0.004893286179261164, 0.004893286179261164, 0.004893286179261164, 0.004893286179261164, 0.004893286179261164, 0.004893286179261164, 0.004893286179261164, 0.004893286179261164, 0.004893286179261164, 0.004893286179261164, 0.0032621907861741096, 0.004893286179261164, 0.004893286179261164, 0.0032621907861741096, 0.004893286179261164, 0.004893286179261164, 0.0032621907861741096, 0.004893286179261164, 0.008155476965435273, 0.004893286179261164, 0.004893286179261164, 0.004893286179261164, 0.004893286179261164, 0.011417667751609384, 0.004893286179261164, 0.004893286179261164, 0.0016310953930870548, 0.026008590984837147, 0.012239336934041011, 0.00917950270053076, 0.00917950270053076, 0.5951377584177442, 0.0015299171167551264, 0.0015299171167551264, 0.00917950270053076, 0.0015299171167551264, 0.12239336934041012, 0.03671801080212304, 0.007649585583775632, 0.012239336934041011, 0.00458975135026538, 0.00458975135026538, 0.00458975135026538, 0.00458975135026538, 0.00458975135026538, 0.00458975135026538, 0.00458975135026538, 0.00458975135026538, 0.00458975135026538, 0.00458975135026538, 0.00458975135026538, 0.00458975135026538, 0.00458975135026538, 0.00458975135026538, 0.010709419817285884, 0.00458975135026538, 0.00458975135026538, 0.00458975135026538, 0.00458975135026538, 0.00458975135026538, 0.003059834233510253, 0.00458975135026538, 0.00458975135026538, 0.00458975135026538, 0.00458975135026538, 0.00458975135026538, 0.003059834233510253, 0.00458975135026538, 0.003059834233510253, 0.00458975135026538, 0.00458975135026538, 0.00458975135026538, 0.00458975135026538, 0.00458975135026538, 0.00458975135026538, 0.0015299171167551264, 0.03794700619441934, 0.03464726652533939, 0.03134752685625945, 0.03794700619441934, 0.019798438014479655, 0.014848828510859741, 0.006599479338159885, 0.019798438014479655, 0.004949609503619914, 0.0016498698345399712, 0.49001134085837145, 0.01319895867631977, 0.01649869834539971, 0.009899219007239828, 0.0016498698345399712, 0.0032997396690799424, 0.0016498698345399712, 0.006599479338159885, 0.004949609503619914, 0.04949609503619914, 0.006599479338159885, 0.0016498698345399712, 0.0016498698345399712, 0.011549088841779798, 0.0032997396690799424, 0.004949609503619914, 0.004949609503619914, 0.004949609503619914, 0.004949609503619914, 0.004949609503619914, 0.004949609503619914, 0.004949609503619914, 0.004949609503619914, 0.004949609503619914, 0.004949609503619914, 0.004949609503619914, 0.004949609503619914, 0.004949609503619914, 0.004949609503619914, 0.0032997396690799424, 0.004949609503619914, 0.004949609503619914, 0.004949609503619914, 0.004949609503619914, 0.004949609503619914, 0.0032997396690799424, 0.004949609503619914, 0.004949609503619914, 0.004949609503619914, 0.004949609503619914, 0.004949609503619914, 0.006599479338159885, 0.004949609503619914, 0.0032997396690799424, 0.004949609503619914, 0.004949609503619914, 0.004949609503619914, 0.004949609503619914, 0.004949609503619914, 0.004949609503619914, 0.004949609503619914, 0.0032997396690799424, 0.002456142189672016, 0.7159654482893927, 0.001228071094836008, 0.0036842132845080243, 0.004912284379344032, 0.008596497663852056, 0.07859655006950451, 0.008596497663852056, 0.007368426569016049, 0.015964924232868105, 0.002456142189672016, 0.006140355474180041, 0.0036842132845080243, 0.007368426569016049, 0.0036842132845080243, 0.0036842132845080243, 0.0036842132845080243, 0.0036842132845080243, 0.0036842132845080243, 0.0036842132845080243, 0.0036842132845080243, 0.0036842132845080243, 0.0036842132845080243, 0.0036842132845080243, 0.0036842132845080243, 0.0036842132845080243, 0.0036842132845080243, 0.0036842132845080243, 0.0036842132845080243, 0.0036842132845080243, 0.0036842132845080243, 0.0036842132845080243, 0.0036842132845080243, 0.002456142189672016, 0.0036842132845080243, 0.0036842132845080243, 0.0036842132845080243, 0.0036842132845080243, 0.0036842132845080243, 0.004912284379344032, 0.0036842132845080243, 0.007368426569016049, 0.0036842132845080243, 0.0036842132845080243, 0.0036842132845080243, 0.0036842132845080243, 0.004912284379344032, 0.0036842132845080243, 0.0036842132845080243, 0.002456142189672016, 0.0057278071429454035, 0.771344695249981, 0.0019092690476484678, 0.0038185380952969355, 0.0019092690476484678, 0.0019092690476484678, 0.0057278071429454035, 0.01718342142883621, 0.0019092690476484678, 0.0038185380952969355, 0.0057278071429454035, 0.0057278071429454035, 0.0057278071429454035, 0.0057278071429454035, 0.0057278071429454035, 0.0057278071429454035, 0.0057278071429454035, 0.0057278071429454035, 0.0057278071429454035, 0.0057278071429454035, 0.0057278071429454035, 0.0057278071429454035, 0.0057278071429454035, 0.0057278071429454035, 0.0019092690476484678, 0.0057278071429454035, 0.0057278071429454035, 0.0057278071429454035, 0.0057278071429454035, 0.0057278071429454035, 0.0038185380952969355, 0.0057278071429454035, 0.0057278071429454035, 0.0038185380952969355, 0.0057278071429454035, 0.0057278071429454035, 0.0038185380952969355, 0.0057278071429454035, 0.0038185380952969355, 0.0057278071429454035, 0.0057278071429454035, 0.0057278071429454035, 0.0057278071429454035, 0.0038185380952969355, 0.0057278071429454035, 0.0057278071429454035, 0.0019092690476484678, 0.03313424750366174, 0.031693628046980796, 0.02160929185021418, 0.06770911446400443, 0.020168672393533232, 0.015846814023490398, 0.023049911306895123, 0.031693628046980796, 0.020168672393533232, 0.44371079265773117, 0.012965575110128507, 0.012965575110128507, 0.012965575110128507, 0.01872805293685229, 0.007203097283404726, 0.023049911306895123, 0.005762477826723781, 0.005762477826723781, 0.012965575110128507, 0.007203097283404726, 0.0014406194566809452, 0.0014406194566809452, 0.005762477826723781, 0.004321858370042835, 0.004321858370042835, 0.004321858370042835, 0.004321858370042835, 0.004321858370042835, 0.004321858370042835, 0.004321858370042835, 0.004321858370042835, 0.004321858370042835, 0.004321858370042835, 0.004321858370042835, 0.004321858370042835, 0.004321858370042835, 0.004321858370042835, 0.011524955653447562, 0.004321858370042835, 0.004321858370042835, 0.004321858370042835, 0.004321858370042835, 0.004321858370042835, 0.0028812389133618904, 0.004321858370042835, 0.004321858370042835, 0.0028812389133618904, 0.004321858370042835, 0.004321858370042835, 0.005762477826723781, 0.004321858370042835, 0.0028812389133618904, 0.004321858370042835, 0.004321858370042835, 0.004321858370042835, 0.004321858370042835, 0.012965575110128507, 0.004321858370042835, 0.004321858370042835, 0.0014406194566809452, 0.005863908826847612, 0.02931954413423806, 0.013682453929311094, 0.021500999031774576, 0.013682453929311094, 0.001954636275615871, 0.011727817653695224, 0.001954636275615871, 0.6313475170239262, 0.009773181378079353, 0.015637090204926967, 0.003909272551231742, 0.011727817653695224, 0.001954636275615871, 0.005863908826847612, 0.015637090204926967, 0.005863908826847612, 0.005863908826847612, 0.011727817653695224, 0.005863908826847612, 0.005863908826847612, 0.005863908826847612, 0.005863908826847612, 0.005863908826847612, 0.005863908826847612, 0.005863908826847612, 0.005863908826847612, 0.005863908826847612, 0.005863908826847612, 0.005863908826847612, 0.005863908826847612, 0.005863908826847612, 0.005863908826847612, 0.001954636275615871, 0.005863908826847612, 0.005863908826847612, 0.005863908826847612, 0.005863908826847612, 0.005863908826847612, 0.005863908826847612, 0.005863908826847612, 0.005863908826847612, 0.003909272551231742, 0.005863908826847612, 0.005863908826847612, 0.003909272551231742, 0.005863908826847612, 0.003909272551231742, 0.005863908826847612, 0.005863908826847612, 0.005863908826847612, 0.005863908826847612, 0.005863908826847612, 0.005863908826847612, 0.001954636275615871, 0.03246028845544326, 0.03967368588998621, 0.6455990703915937, 0.009016746793178683, 0.007213397434542947, 0.0018033493586357367, 0.0036066987172714733, 0.007213397434542947, 0.007213397434542947, 0.0036066987172714733, 0.0036066987172714733, 0.01082009615181442, 0.014426794869085893, 0.012623445510450157, 0.0018033493586357367, 0.0018033493586357367, 0.0018033493586357367, 0.0018033493586357367, 0.007213397434542947, 0.00541004807590721, 0.00541004807590721, 0.00541004807590721, 0.00541004807590721, 0.00541004807590721, 0.00541004807590721, 0.00541004807590721, 0.00541004807590721, 0.00541004807590721, 0.00541004807590721, 0.00541004807590721, 0.00541004807590721, 0.00541004807590721, 0.00541004807590721, 0.0036066987172714733, 0.00541004807590721, 0.00541004807590721, 0.00541004807590721, 0.00541004807590721, 0.00541004807590721, 0.0036066987172714733, 0.00541004807590721, 0.00541004807590721, 0.0036066987172714733, 0.00541004807590721, 0.00541004807590721, 0.0036066987172714733, 0.00541004807590721, 0.0036066987172714733, 0.00541004807590721, 0.00541004807590721, 0.00541004807590721, 0.00541004807590721, 0.0036066987172714733, 0.00541004807590721, 0.00541004807590721, 0.012623445510450157, 0.01407026872978739, 0.018090345509726644, 0.00804015355987851, 0.0020100383899696274, 0.6211018625006148, 0.004020076779939255, 0.0020100383899696274, 0.01407026872978739, 0.01608030711975702, 0.0020100383899696274, 0.012060230339817764, 0.010050191949848136, 0.004020076779939255, 0.0020100383899696274, 0.004020076779939255, 0.0020100383899696274, 0.00804015355987851, 0.03819072940942292, 0.0020100383899696274, 0.0020100383899696274, 0.0020100383899696274, 0.010050191949848136, 0.006030115169908882, 0.006030115169908882, 0.006030115169908882, 0.006030115169908882, 0.006030115169908882, 0.006030115169908882, 0.006030115169908882, 0.006030115169908882, 0.006030115169908882, 0.006030115169908882, 0.006030115169908882, 0.006030115169908882, 0.006030115169908882, 0.006030115169908882, 0.0020100383899696274, 0.006030115169908882, 0.006030115169908882, 0.006030115169908882, 0.006030115169908882, 0.006030115169908882, 0.006030115169908882, 0.006030115169908882, 0.006030115169908882, 0.004020076779939255, 0.006030115169908882, 0.006030115169908882, 0.004020076779939255, 0.006030115169908882, 0.004020076779939255, 0.006030115169908882, 0.006030115169908882, 0.006030115169908882, 0.006030115169908882, 0.006030115169908882, 0.006030115169908882, 0.010050191949848136, 0.04036316555980564, 0.029228499198479946, 0.03897133226463993, 0.00835099977099427, 0.01531016624682283, 0.013918332951657118, 0.009742833066159983, 0.020877499427485676, 0.4356438213868678, 0.013918332951657118, 0.0013918332951657118, 0.005567333180662847, 0.0013918332951657118, 0.005567333180662847, 0.0027836665903314237, 0.14892616258273117, 0.005567333180662847, 0.0013918332951657118, 0.004175499885497135, 0.04175499885497135, 0.006959166475828559, 0.0027836665903314237, 0.0027836665903314237, 0.0013918332951657118, 0.004175499885497135, 0.004175499885497135, 0.004175499885497135, 0.004175499885497135, 0.004175499885497135, 0.004175499885497135, 0.004175499885497135, 0.004175499885497135, 0.004175499885497135, 0.004175499885497135, 0.004175499885497135, 0.004175499885497135, 0.004175499885497135, 0.004175499885497135, 0.004175499885497135, 0.004175499885497135, 0.004175499885497135, 0.004175499885497135, 0.004175499885497135, 0.004175499885497135, 0.004175499885497135, 0.004175499885497135, 0.004175499885497135, 0.006959166475828559, 0.004175499885497135, 0.004175499885497135, 0.005567333180662847, 0.004175499885497135, 0.0027836665903314237, 0.004175499885497135, 0.004175499885497135, 0.004175499885497135, 0.004175499885497135, 0.0013918332951657118, 0.004175499885497135, 0.004175499885497135, 0.0027836665903314237, 0.02205093905458002, 0.04095174395850575, 0.6946045802192706, 0.015750670753271443, 0.007875335376635722, 0.004725201225981433, 0.007875335376635722, 0.004725201225981433, 0.0015750670753271444, 0.0015750670753271444, 0.0015750670753271444, 0.0015750670753271444, 0.0015750670753271444, 0.0031501341506542887, 0.007875335376635722, 0.004725201225981433, 0.004725201225981433, 0.004725201225981433, 0.004725201225981433, 0.004725201225981433, 0.004725201225981433, 0.004725201225981433, 0.004725201225981433, 0.004725201225981433, 0.004725201225981433, 0.004725201225981433, 0.004725201225981433, 0.004725201225981433, 0.004725201225981433, 0.004725201225981433, 0.004725201225981433, 0.004725201225981433, 0.004725201225981433, 0.004725201225981433, 0.0031501341506542887, 0.004725201225981433, 0.004725201225981433, 0.004725201225981433, 0.004725201225981433, 0.004725201225981433, 0.006300268301308577, 0.004725201225981433, 0.009450402451962867, 0.004725201225981433, 0.004725201225981433, 0.004725201225981433, 0.004725201225981433, 0.007875335376635722, 0.004725201225981433, 0.004725201225981433, 0.015750670753271443, 0.045412555799738435, 0.028761285339834342, 0.046926307659729716, 0.03784379649978203, 0.033302540919808186, 0.031788789059816906, 0.024220029759860498, 0.012110014879930249, 0.3602729426779249, 0.018165022319895373, 0.007568759299956406, 0.013623766739921531, 0.0030275037199825622, 0.02573378161985178, 0.009082511159947687, 0.018165022319895373, 0.012110014879930249, 0.009082511159947687, 0.046926307659729716, 0.0015137518599912811, 0.013623766739921531, 0.004541255579973843, 0.007568759299956406, 0.004541255579973843, 0.004541255579973843, 0.0015137518599912811, 0.0060550074399651245, 0.004541255579973843, 0.004541255579973843, 0.004541255579973843, 0.004541255579973843, 0.004541255579973843, 0.004541255579973843, 0.004541255579973843, 0.004541255579973843, 0.004541255579973843, 0.004541255579973843, 0.004541255579973843, 0.004541255579973843, 0.004541255579973843, 0.004541255579973843, 0.0060550074399651245, 0.004541255579973843, 0.004541255579973843, 0.004541255579973843, 0.004541255579973843, 0.004541255579973843, 0.009082511159947687, 0.004541255579973843, 0.004541255579973843, 0.0060550074399651245, 0.004541255579973843, 0.004541255579973843, 0.0060550074399651245, 0.004541255579973843, 0.0030275037199825622, 0.004541255579973843, 0.004541255579973843, 0.004541255579973843, 0.004541255579973843, 0.0015137518599912811, 0.004541255579973843, 0.004541255579973843, 0.013623766739921531, 0.023370619946622893, 0.03505592991993434, 0.003338659992374699, 0.016693299961873496, 0.025039949942810242, 0.018362629958060844, 0.023370619946622893, 0.03171726992755964, 0.0016693299961873494, 0.0016693299961873494, 0.525838948799015, 0.008346649980936748, 0.013354639969498795, 0.008346649980936748, 0.013354639969498795, 0.005007989988562048, 0.003338659992374699, 0.005007989988562048, 0.010015979977124096, 0.003338659992374699, 0.008346649980936748, 0.03505592991993434, 0.0016693299961873494, 0.0016693299961873494, 0.005007989988562048, 0.005007989988562048, 0.005007989988562048, 0.005007989988562048, 0.005007989988562048, 0.005007989988562048, 0.005007989988562048, 0.005007989988562048, 0.005007989988562048, 0.005007989988562048, 0.005007989988562048, 0.005007989988562048, 0.005007989988562048, 0.005007989988562048, 0.005007989988562048, 0.005007989988562048, 0.005007989988562048, 0.005007989988562048, 0.005007989988562048, 0.008346649980936748, 0.005007989988562048, 0.005007989988562048, 0.003338659992374699, 0.005007989988562048, 0.005007989988562048, 0.003338659992374699, 0.005007989988562048, 0.003338659992374699, 0.005007989988562048, 0.005007989988562048, 0.005007989988562048, 0.005007989988562048, 0.006677319984749398, 0.005007989988562048, 0.005007989988562048, 0.010015979977124096, 0.02174745225191346, 0.010037285654729288, 0.0033457618849097627, 0.0016728809424548814, 0.0033457618849097627, 0.423238878441085, 0.2994456886994238, 0.018401690367003697, 0.006691523769819525, 0.016728809424548814, 0.0016728809424548814, 0.0016728809424548814, 0.0033457618849097627, 0.018401690367003697, 0.005018642827364644, 0.005018642827364644, 0.005018642827364644, 0.005018642827364644, 0.005018642827364644, 0.005018642827364644, 0.005018642827364644, 0.005018642827364644, 0.005018642827364644, 0.005018642827364644, 0.005018642827364644, 0.005018642827364644, 0.005018642827364644, 0.005018642827364644, 0.005018642827364644, 0.005018642827364644, 0.005018642827364644, 0.005018642827364644, 0.005018642827364644, 0.005018642827364644, 0.0033457618849097627, 0.005018642827364644, 0.005018642827364644, 0.0033457618849097627, 0.005018642827364644, 0.005018642827364644, 0.0033457618849097627, 0.005018642827364644, 0.008364404712274407, 0.005018642827364644, 0.005018642827364644, 0.005018642827364644, 0.005018642827364644, 0.005018642827364644, 0.005018642827364644, 0.0033457618849097627, 0.03673824997193811, 0.03673824997193811, 0.05327046245931026, 0.02939059997755049, 0.03122751247614739, 0.29390599977550486, 0.03673824997193811, 0.03673824997193811, 0.06429193745089169, 0.045922812464922635, 0.02939059997755049, 0.02020603748456596, 0.009184562492984527, 0.014695299988775244, 0.014695299988775244, 0.007347649994387622, 0.018369124985969053, 0.0018369124985969055, 0.005510737495790717, 0.009184562492984527, 0.0018369124985969055, 0.005510737495790717, 0.0018369124985969055, 0.012858387490178338, 0.0018369124985969055, 0.005510737495790717, 0.005510737495790717, 0.005510737495790717, 0.005510737495790717, 0.005510737495790717, 0.005510737495790717, 0.005510737495790717, 0.005510737495790717, 0.005510737495790717, 0.005510737495790717, 0.005510737495790717, 0.005510737495790717, 0.005510737495790717, 0.005510737495790717, 0.005510737495790717, 0.005510737495790717, 0.005510737495790717, 0.005510737495790717, 0.005510737495790717, 0.007347649994387622, 0.005510737495790717, 0.005510737495790717, 0.003673824997193811, 0.005510737495790717, 0.005510737495790717, 0.003673824997193811, 0.005510737495790717, 0.003673824997193811, 0.005510737495790717, 0.005510737495790717, 0.005510737495790717, 0.005510737495790717, 0.0018369124985969055, 0.005510737495790717, 0.005510737495790717, 0.0018369124985969055, 0.048571172100019905, 0.03302839702801354, 0.019428468840007963, 0.49348310853620225, 0.029142703260011945, 0.01554277507200637, 0.0038856937680015924, 0.013599928188005574, 0.013599928188005574, 0.005828540652002389, 0.021371315724008758, 0.011657081304004778, 0.011657081304004778, 0.009714234420003982, 0.023314162608009555, 0.0019428468840007962, 0.01554277507200637, 0.0019428468840007962, 0.013599928188005574, 0.011657081304004778, 0.0038856937680015924, 0.0019428468840007962, 0.005828540652002389, 0.005828540652002389, 0.005828540652002389, 0.005828540652002389, 0.005828540652002389, 0.005828540652002389, 0.005828540652002389, 0.005828540652002389, 0.005828540652002389, 0.005828540652002389, 0.005828540652002389, 0.005828540652002389, 0.005828540652002389, 0.005828540652002389, 0.0019428468840007962, 0.005828540652002389, 0.005828540652002389, 0.005828540652002389, 0.005828540652002389, 0.005828540652002389, 0.0038856937680015924, 0.005828540652002389, 0.005828540652002389, 0.009714234420003982, 0.005828540652002389, 0.005828540652002389, 0.0038856937680015924, 0.005828540652002389, 0.005828540652002389, 0.005828540652002389, 0.005828540652002389, 0.005828540652002389, 0.005828540652002389, 0.0019428468840007962, 0.005828540652002389, 0.005828540652002389, 0.0019428468840007962, 0.02262384723991458, 0.02262384723991458, 0.004847967265695982, 0.02262384723991458, 0.5478203010236459, 0.012927912708522617, 0.008079945442826636, 0.025855825417045234, 0.0032319781771306543, 0.024239836328479907, 0.05494362901122112, 0.004847967265695982, 0.012927912708522617, 0.0016159890885653271, 0.0016159890885653271, 0.008079945442826636, 0.0032319781771306543, 0.0032319781771306543, 0.0064639563542613085, 0.0032319781771306543, 0.004847967265695982, 0.004847967265695982, 0.004847967265695982, 0.004847967265695982, 0.004847967265695982, 0.004847967265695982, 0.004847967265695982, 0.004847967265695982, 0.004847967265695982, 0.004847967265695982, 0.004847967265695982, 0.004847967265695982, 0.004847967265695982, 0.004847967265695982, 0.004847967265695982, 0.024239836328479907, 0.004847967265695982, 0.004847967265695982, 0.004847967265695982, 0.004847967265695982, 0.004847967265695982, 0.0064639563542613085, 0.004847967265695982, 0.004847967265695982, 0.004847967265695982, 0.004847967265695982, 0.004847967265695982, 0.0032319781771306543, 0.004847967265695982, 0.0064639563542613085, 0.004847967265695982, 0.004847967265695982, 0.004847967265695982, 0.004847967265695982, 0.01131192361995729, 0.004847967265695982, 0.004847967265695982, 0.0032319781771306543, 0.04381245207862896, 0.03994664748345581, 0.03736944442000705, 0.03865804595173143, 0.014174616848968192, 0.028349233697936384, 0.02319482757103886, 0.03608084288828267, 0.015463218380692574, 0.014174616848968192, 0.3943120687076606, 0.0012886015317243812, 0.009020210722070668, 0.025772030634487623, 0.019329022975865716, 0.02448342910276324, 0.019329022975865716, 0.007731609190346287, 0.01030881225379505, 0.0038658045951731434, 0.0025772030634487624, 0.009020210722070668, 0.016751819912416956, 0.009020210722070668, 0.005154406126897525, 0.0012886015317243812, 0.0025772030634487624, 0.0038658045951731434, 0.0038658045951731434, 0.0038658045951731434, 0.0038658045951731434, 0.0038658045951731434, 0.0038658045951731434, 0.0038658045951731434, 0.0038658045951731434, 0.0038658045951731434, 0.0038658045951731434, 0.0038658045951731434, 0.0038658045951731434, 0.0038658045951731434, 0.0038658045951731434, 0.0038658045951731434, 0.0025772030634487624, 0.0038658045951731434, 0.0038658045951731434, 0.0038658045951731434, 0.0038658045951731434, 0.0038658045951731434, 0.0038658045951731434, 0.0038658045951731434, 0.0038658045951731434, 0.0038658045951731434, 0.0038658045951731434, 0.0038658045951731434, 0.0038658045951731434, 0.0038658045951731434, 0.0025772030634487624, 0.0038658045951731434, 0.0038658045951731434, 0.0038658045951731434, 0.0038658045951731434, 0.012886015317243812, 0.0038658045951731434, 0.0038658045951731434, 0.005154406126897525, 0.009604680168208327, 0.008003900140173605, 0.003201560056069442, 0.001600780028034721, 0.5778815901205343, 0.004802340084104163, 0.07203510126156246, 0.10244992179422215, 0.02721326047659026, 0.001600780028034721, 0.001600780028034721, 0.004802340084104163, 0.025612480448555536, 0.004802340084104163, 0.004802340084104163, 0.004802340084104163, 0.004802340084104163, 0.004802340084104163, 0.004802340084104163, 0.004802340084104163, 0.004802340084104163, 0.004802340084104163, 0.004802340084104163, 0.004802340084104163, 0.004802340084104163, 0.004802340084104163, 0.004802340084104163, 0.004802340084104163, 0.004802340084104163, 0.004802340084104163, 0.004802340084104163, 0.004802340084104163, 0.004802340084104163, 0.004802340084104163, 0.004802340084104163, 0.003201560056069442, 0.004802340084104163, 0.004802340084104163, 0.003201560056069442, 0.004802340084104163, 0.003201560056069442, 0.004802340084104163, 0.004802340084104163, 0.004802340084104163, 0.004802340084104163, 0.006403120112138884, 0.004802340084104163, 0.004802340084104163, 0.003201560056069442, 0.7242860035444441, 0.03245621242298216, 0.0034164434129454906, 0.0034164434129454906, 0.0017082217064727453, 0.0034164434129454906, 0.015373995358254709, 0.008541108532363726, 0.0034164434129454906, 0.0034164434129454906, 0.006832886825890981, 0.015373995358254709, 0.0017082217064727453, 0.0017082217064727453, 0.005124665119418236, 0.005124665119418236, 0.005124665119418236, 0.005124665119418236, 0.005124665119418236, 0.005124665119418236, 0.005124665119418236, 0.005124665119418236, 0.005124665119418236, 0.005124665119418236, 0.005124665119418236, 0.005124665119418236, 0.005124665119418236, 0.005124665119418236, 0.0034164434129454906, 0.005124665119418236, 0.005124665119418236, 0.005124665119418236, 0.005124665119418236, 0.005124665119418236, 0.0034164434129454906, 0.005124665119418236, 0.005124665119418236, 0.006832886825890981, 0.005124665119418236, 0.005124665119418236, 0.006832886825890981, 0.005124665119418236, 0.0034164434129454906, 0.005124665119418236, 0.005124665119418236, 0.005124665119418236, 0.005124665119418236, 0.0017082217064727453, 0.005124665119418236, 0.005124665119418236, 0.0017082217064727453, 0.04002739084059352, 0.037672838438205666, 0.032963733633429956, 0.037672838438205666, 0.034141009834623884, 0.049445600450144934, 0.038850114639399594, 0.005886381005969636, 0.02001369542029676, 0.04473649564536923, 0.025900076426266395, 0.016481866816714978, 0.029431905029848177, 0.002354552402387854, 0.025900076426266395, 0.008240933408357489, 0.009418209609551417, 0.009418209609551417, 0.014127314414327125, 0.3296373363342996, 0.012950038213133197, 0.0070636572071635624, 0.004709104804775708, 0.0035318286035817812, 0.008240933408357489, 0.005886381005969636, 0.005886381005969636, 0.0070636572071635624, 0.004709104804775708, 0.005886381005969636, 0.001177276201193927, 0.0035318286035817812, 0.0035318286035817812, 0.0035318286035817812, 0.0035318286035817812, 0.0035318286035817812, 0.0035318286035817812, 0.0035318286035817812, 0.0035318286035817812, 0.0035318286035817812, 0.0035318286035817812, 0.0035318286035817812, 0.0035318286035817812, 0.0035318286035817812, 0.0035318286035817812, 0.0035318286035817812, 0.004709104804775708, 0.0035318286035817812, 0.0035318286035817812, 0.0035318286035817812, 0.0035318286035817812, 0.0035318286035817812, 0.002354552402387854, 0.0035318286035817812, 0.0035318286035817812, 0.002354552402387854, 0.0035318286035817812, 0.0035318286035817812, 0.0035318286035817812, 0.0035318286035817812, 0.002354552402387854, 0.0035318286035817812, 0.0035318286035817812, 0.0035318286035817812, 0.0035318286035817812, 0.001177276201193927, 0.0035318286035817812, 0.0035318286035817812, 0.0035318286035817812, 0.03410866213749365, 0.050350882202966823, 0.017866442072020487, 0.022739108091662436, 0.008121110032736583, 0.009745332039283901, 0.037357106150588286, 0.019490664078567803, 0.009745332039283901, 0.5294963741344253, 0.02111488608511512, 0.006496888026189267, 0.008121110032736583, 0.012993776052378534, 0.0032484440130946335, 0.006496888026189267, 0.0032484440130946335, 0.004872666019641951, 0.008121110032736583, 0.011369554045831218, 0.0032484440130946335, 0.012993776052378534, 0.004872666019641951, 0.004872666019641951, 0.004872666019641951, 0.004872666019641951, 0.004872666019641951, 0.004872666019641951, 0.004872666019641951, 0.004872666019641951, 0.004872666019641951, 0.004872666019641951, 0.004872666019641951, 0.004872666019641951, 0.004872666019641951, 0.004872666019641951, 0.004872666019641951, 0.004872666019641951, 0.004872666019641951, 0.004872666019641951, 0.004872666019641951, 0.0032484440130946335, 0.004872666019641951, 0.004872666019641951, 0.004872666019641951, 0.004872666019641951, 0.004872666019641951, 0.0032484440130946335, 0.004872666019641951, 0.0032484440130946335, 0.004872666019641951, 0.004872666019641951, 0.004872666019641951, 0.004872666019641951, 0.0016242220065473168, 0.004872666019641951, 0.004872666019641951, 0.0032484440130946335], \"Term\": [\"anyone\", \"anyone\", \"anyone\", \"anyone\", \"anyone\", \"anyone\", \"anyone\", \"anyone\", \"anyone\", \"anyone\", \"anyone\", \"anyone\", \"anyone\", \"anyone\", \"anyone\", \"anyone\", \"anyone\", \"anyone\", \"anyone\", \"anyone\", \"anyone\", \"anyone\", \"anyone\", \"anyone\", \"anyone\", \"anyone\", \"anyone\", \"anyone\", \"anyone\", \"anyone\", \"anyone\", \"anyone\", \"anyone\", \"anyone\", \"anyone\", \"anyone\", \"anyone\", \"anyone\", \"anyone\", \"anyone\", \"anyone\", \"anyone\", \"anyone\", \"anyone\", \"anyone\", \"anyone\", \"anyone\", \"anyone\", \"anyone\", \"anyone\", \"anyone\", \"anyone\", \"application\", \"application\", \"application\", \"application\", \"application\", \"application\", \"application\", \"application\", \"application\", \"application\", \"application\", \"application\", \"application\", \"application\", \"application\", \"application\", \"application\", \"application\", \"application\", \"application\", \"application\", \"application\", \"application\", \"application\", \"application\", \"application\", \"application\", \"application\", \"application\", \"application\", \"application\", \"application\", \"application\", \"application\", \"application\", \"application\", \"application\", \"application\", \"application\", \"application\", \"application\", \"application\", \"application\", \"application\", \"application\", \"application\", \"application\", \"application\", \"application\", \"application\", \"application\", \"application\", \"application\", \"application\", \"application\", \"application\", \"application\", \"application\", \"application\", \"application\", \"class\", \"class\", \"class\", \"class\", \"class\", \"class\", \"class\", \"class\", \"class\", \"class\", \"class\", \"class\", \"class\", \"class\", \"class\", \"class\", \"class\", \"class\", \"class\", \"class\", \"class\", \"class\", \"class\", \"class\", \"class\", \"class\", \"class\", \"class\", \"class\", \"class\", \"class\", \"class\", \"class\", \"class\", \"class\", \"class\", \"class\", \"class\", \"class\", \"class\", \"class\", \"class\", \"class\", \"class\", \"class\", \"class\", \"class\", \"class\", \"class\", \"class\", \"class\", \"code\", \"code\", \"code\", \"code\", \"code\", \"code\", \"code\", \"code\", \"code\", \"code\", \"code\", \"code\", \"code\", \"code\", \"code\", \"code\", \"code\", \"code\", \"code\", \"code\", \"code\", \"code\", \"code\", \"code\", \"code\", \"code\", \"code\", \"code\", \"code\", \"code\", \"code\", \"code\", \"code\", \"code\", \"code\", \"code\", \"code\", \"code\", \"code\", \"code\", \"code\", \"code\", \"code\", \"code\", \"code\", \"code\", \"code\", \"code\", \"code\", \"code\", \"code\", \"code\", \"code\", \"code\", \"code\", \"code\", \"code\", \"code\", \"code\", \"code\", \"code\", \"code\", \"code\", \"code\", \"data\", \"data\", \"data\", \"data\", \"data\", \"data\", \"data\", \"data\", \"data\", \"data\", \"data\", \"data\", \"data\", \"data\", \"data\", \"data\", \"data\", \"data\", \"data\", \"data\", \"data\", \"data\", \"data\", \"data\", \"data\", \"data\", \"data\", \"data\", \"data\", \"data\", \"data\", \"data\", \"data\", \"data\", \"data\", \"data\", \"data\", \"data\", \"data\", \"data\", \"data\", \"data\", \"data\", \"data\", \"data\", \"data\", \"data\", \"data\", \"data\", \"data\", \"data\", \"data\", \"data\", \"data\", \"data\", \"data\", \"data\", \"data\", \"data\", \"database\", \"database\", \"database\", \"database\", \"database\", \"database\", \"database\", \"database\", \"database\", \"database\", \"database\", \"database\", \"database\", \"database\", \"database\", \"database\", \"database\", \"database\", \"database\", \"database\", \"database\", \"database\", \"database\", \"database\", \"database\", \"database\", \"database\", \"database\", \"database\", \"database\", \"database\", \"database\", \"database\", \"database\", \"database\", \"database\", \"database\", \"database\", \"database\", \"database\", \"database\", \"database\", \"database\", \"database\", \"database\", \"database\", \"database\", \"database\", \"error\", \"error\", \"error\", \"error\", \"error\", \"error\", \"error\", \"error\", \"error\", \"error\", \"error\", \"error\", \"error\", \"error\", \"error\", \"error\", \"error\", \"error\", \"error\", \"error\", \"error\", \"error\", \"error\", \"error\", \"error\", \"error\", \"error\", \"error\", \"error\", \"error\", \"error\", \"error\", \"error\", \"error\", \"error\", \"error\", \"error\", \"error\", \"error\", \"error\", \"error\", \"error\", \"error\", \"error\", \"error\", \"error\", \"error\", \"error\", \"error\", \"example\", \"example\", \"example\", \"example\", \"example\", \"example\", \"example\", \"example\", \"example\", \"example\", \"example\", \"example\", \"example\", \"example\", \"example\", \"example\", \"example\", \"example\", \"example\", \"example\", \"example\", \"example\", \"example\", \"example\", \"example\", \"example\", \"example\", \"example\", \"example\", \"example\", \"example\", \"example\", \"example\", \"example\", \"example\", \"example\", \"example\", \"example\", \"example\", \"example\", \"example\", \"example\", \"example\", \"example\", \"example\", \"example\", \"example\", \"example\", \"example\", \"example\", \"example\", \"example\", \"example\", \"example\", \"example\", \"example\", \"example\", \"example\", \"example\", \"example\", \"example\", \"example\", \"file\", \"file\", \"file\", \"file\", \"file\", \"file\", \"file\", \"file\", \"file\", \"file\", \"file\", \"file\", \"file\", \"file\", \"file\", \"file\", \"file\", \"file\", \"file\", \"file\", \"file\", \"file\", \"file\", \"file\", \"file\", \"file\", \"file\", \"file\", \"file\", \"file\", \"file\", \"file\", \"file\", \"file\", \"file\", \"file\", \"file\", \"file\", \"file\", \"file\", \"file\", \"file\", \"file\", \"file\", \"file\", \"file\", \"file\", \"file\", \"file\", \"file\", \"function\", \"function\", \"function\", \"function\", \"function\", \"function\", \"function\", \"function\", \"function\", \"function\", \"function\", \"function\", \"function\", \"function\", \"function\", \"function\", \"function\", \"function\", \"function\", \"function\", \"function\", \"function\", \"function\", \"function\", \"function\", \"function\", \"function\", \"function\", \"function\", \"function\", \"function\", \"function\", \"function\", \"function\", \"function\", \"function\", \"function\", \"function\", \"function\", \"function\", \"function\", \"function\", \"function\", \"function\", \"function\", \"function\", \"function\", \"get\", \"get\", \"get\", \"get\", \"get\", \"get\", \"get\", \"get\", \"get\", \"get\", \"get\", \"get\", \"get\", \"get\", \"get\", \"get\", \"get\", \"get\", \"get\", \"get\", \"get\", \"get\", \"get\", \"get\", \"get\", \"get\", \"get\", \"get\", \"get\", \"get\", \"get\", \"get\", \"get\", \"get\", \"get\", \"get\", \"get\", \"get\", \"get\", \"get\", \"get\", \"get\", \"get\", \"get\", \"get\", \"get\", \"get\", \"get\", \"get\", \"get\", \"get\", \"get\", \"get\", \"get\", \"get\", \"get\", \"get\", \"get\", \"get\", \"get\", \"know\", \"know\", \"know\", \"know\", \"know\", \"know\", \"know\", \"know\", \"know\", \"know\", \"know\", \"know\", \"know\", \"know\", \"know\", \"know\", \"know\", \"know\", \"know\", \"know\", \"know\", \"know\", \"know\", \"know\", \"know\", \"know\", \"know\", \"know\", \"know\", \"know\", \"know\", \"know\", \"know\", \"know\", \"know\", \"know\", \"know\", \"know\", \"know\", \"know\", \"know\", \"know\", \"know\", \"know\", \"know\", \"know\", \"know\", \"know\", \"know\", \"know\", \"know\", \"know\", \"know\", \"know\", \"know\", \"like\", \"like\", \"like\", \"like\", \"like\", \"like\", \"like\", \"like\", \"like\", \"like\", \"like\", \"like\", \"like\", \"like\", \"like\", \"like\", \"like\", \"like\", \"like\", \"like\", \"like\", \"like\", \"like\", \"like\", \"like\", \"like\", \"like\", \"like\", \"like\", \"like\", \"like\", \"like\", \"like\", \"like\", \"like\", \"like\", \"like\", \"like\", \"like\", \"like\", \"like\", \"like\", \"like\", \"like\", \"like\", \"like\", \"like\", \"like\", \"like\", \"like\", \"like\", \"like\", \"like\", \"like\", \"like\", \"like\", \"make\", \"make\", \"make\", \"make\", \"make\", \"make\", \"make\", \"make\", \"make\", \"make\", \"make\", \"make\", \"make\", \"make\", \"make\", \"make\", \"make\", \"make\", \"make\", \"make\", \"make\", \"make\", \"make\", \"make\", \"make\", \"make\", \"make\", \"make\", \"make\", \"make\", \"make\", \"make\", \"make\", \"make\", \"make\", \"make\", \"make\", \"make\", \"make\", \"make\", \"make\", \"make\", \"make\", \"make\", \"make\", \"make\", \"make\", \"make\", \"make\", \"make\", \"make\", \"make\", \"make\", \"make\", \"make\", \"make\", \"make\", \"make\", \"method\", \"method\", \"method\", \"method\", \"method\", \"method\", \"method\", \"method\", \"method\", \"method\", \"method\", \"method\", \"method\", \"method\", \"method\", \"method\", \"method\", \"method\", \"method\", \"method\", \"method\", \"method\", \"method\", \"method\", \"method\", \"method\", \"method\", \"method\", \"method\", \"method\", \"method\", \"method\", \"method\", \"method\", \"method\", \"method\", \"method\", \"method\", \"method\", \"method\", \"method\", \"method\", \"method\", \"method\", \"method\", \"method\", \"method\", \"method\", \"method\", \"method\", \"method\", \"method\", \"method\", \"method\", \"method\", \"method\", \"method\", \"method\", \"method\", \"method\", \"method\", \"object\", \"object\", \"object\", \"object\", \"object\", \"object\", \"object\", \"object\", \"object\", \"object\", \"object\", \"object\", \"object\", \"object\", \"object\", \"object\", \"object\", \"object\", \"object\", \"object\", \"object\", \"object\", \"object\", \"object\", \"object\", \"object\", \"object\", \"object\", \"object\", \"object\", \"object\", \"object\", \"object\", \"object\", \"object\", \"object\", \"object\", \"object\", \"object\", \"object\", \"object\", \"object\", \"object\", \"object\", \"object\", \"object\", \"object\", \"object\", \"object\", \"object\", \"object\", \"problem\", \"problem\", \"problem\", \"problem\", \"problem\", \"problem\", \"problem\", \"problem\", \"problem\", \"problem\", \"problem\", \"problem\", \"problem\", \"problem\", \"problem\", \"problem\", \"problem\", \"problem\", \"problem\", \"problem\", \"problem\", \"problem\", \"problem\", \"problem\", \"problem\", \"problem\", \"problem\", \"problem\", \"problem\", \"problem\", \"problem\", \"problem\", \"problem\", \"problem\", \"problem\", \"problem\", \"problem\", \"problem\", \"problem\", \"problem\", \"problem\", \"problem\", \"problem\", \"problem\", \"problem\", \"problem\", \"problem\", \"problem\", \"problem\", \"problem\", \"problem\", \"problem\", \"problem\", \"problem\", \"problem\", \"problem\", \"problem\", \"problem\", \"problem\", \"problem\", \"problem\", \"problem\", \"problem\", \"problem\", \"question\", \"question\", \"question\", \"question\", \"question\", \"question\", \"question\", \"question\", \"question\", \"question\", \"question\", \"question\", \"question\", \"question\", \"question\", \"question\", \"question\", \"question\", \"question\", \"question\", \"question\", \"question\", \"question\", \"question\", \"question\", \"question\", \"question\", \"question\", \"question\", \"question\", \"question\", \"question\", \"question\", \"question\", \"question\", \"question\", \"question\", \"question\", \"question\", \"question\", \"question\", \"question\", \"question\", \"question\", \"question\", \"question\", \"question\", \"question\", \"question\", \"question\", \"question\", \"question\", \"question\", \"question\", \"question\", \"question\", \"question\", \"question\", \"question\", \"question\", \"server\", \"server\", \"server\", \"server\", \"server\", \"server\", \"server\", \"server\", \"server\", \"server\", \"server\", \"server\", \"server\", \"server\", \"server\", \"server\", \"server\", \"server\", \"server\", \"server\", \"server\", \"server\", \"server\", \"server\", \"server\", \"server\", \"server\", \"server\", \"server\", \"server\", \"server\", \"server\", \"server\", \"server\", \"server\", \"server\", \"server\", \"server\", \"server\", \"server\", \"server\", \"server\", \"server\", \"server\", \"server\", \"server\", \"server\", \"server\", \"server\", \"server\", \"something\", \"something\", \"something\", \"something\", \"something\", \"something\", \"something\", \"something\", \"something\", \"something\", \"something\", \"something\", \"something\", \"something\", \"something\", \"something\", \"something\", \"something\", \"something\", \"something\", \"something\", \"something\", \"something\", \"something\", \"something\", \"something\", \"something\", \"something\", \"something\", \"something\", \"something\", \"something\", \"something\", \"something\", \"something\", \"something\", \"something\", \"something\", \"something\", \"something\", \"something\", \"something\", \"something\", \"something\", \"something\", \"something\", \"something\", \"something\", \"something\", \"something\", \"something\", \"something\", \"something\", \"something\", \"something\", \"something\", \"something\", \"something\", \"something\", \"something\", \"something\", \"thanks\", \"thanks\", \"thanks\", \"thanks\", \"thanks\", \"thanks\", \"thanks\", \"thanks\", \"thanks\", \"thanks\", \"thanks\", \"thanks\", \"thanks\", \"thanks\", \"thanks\", \"thanks\", \"thanks\", \"thanks\", \"thanks\", \"thanks\", \"thanks\", \"thanks\", \"thanks\", \"thanks\", \"thanks\", \"thanks\", \"thanks\", \"thanks\", \"thanks\", \"thanks\", \"thanks\", \"thanks\", \"thanks\", \"thanks\", \"thanks\", \"thanks\", \"thanks\", \"thanks\", \"thanks\", \"thanks\", \"thanks\", \"thanks\", \"thanks\", \"thanks\", \"thanks\", \"thanks\", \"thanks\", \"thanks\", \"thanks\", \"thanks\", \"thanks\", \"thanks\", \"thanks\", \"thanks\", \"thanks\", \"thanks\", \"thanks\", \"thanks\", \"thanks\", \"time\", \"time\", \"time\", \"time\", \"time\", \"time\", \"time\", \"time\", \"time\", \"time\", \"time\", \"time\", \"time\", \"time\", \"time\", \"time\", \"time\", \"time\", \"time\", \"time\", \"time\", \"time\", \"time\", \"time\", \"time\", \"time\", \"time\", \"time\", \"time\", \"time\", \"time\", \"time\", \"time\", \"time\", \"time\", \"time\", \"time\", \"time\", \"time\", \"time\", \"time\", \"time\", \"time\", \"time\", \"time\", \"time\", \"time\", \"time\", \"time\", \"time\", \"time\", \"time\", \"time\", \"time\", \"time\", \"time\", \"time\", \"time\", \"use\", \"use\", \"use\", \"use\", \"use\", \"use\", \"use\", \"use\", \"use\", \"use\", \"use\", \"use\", \"use\", \"use\", \"use\", \"use\", \"use\", \"use\", \"use\", \"use\", \"use\", \"use\", \"use\", \"use\", \"use\", \"use\", \"use\", \"use\", \"use\", \"use\", \"use\", \"use\", \"use\", \"use\", \"use\", \"use\", \"use\", \"use\", \"use\", \"use\", \"use\", \"use\", \"use\", \"use\", \"use\", \"use\", \"use\", \"use\", \"use\", \"use\", \"use\", \"use\", \"use\", \"use\", \"use\", \"use\", \"use\", \"use\", \"use\", \"use\", \"use\", \"use\", \"use\", \"use\", \"use\", \"user\", \"user\", \"user\", \"user\", \"user\", \"user\", \"user\", \"user\", \"user\", \"user\", \"user\", \"user\", \"user\", \"user\", \"user\", \"user\", \"user\", \"user\", \"user\", \"user\", \"user\", \"user\", \"user\", \"user\", \"user\", \"user\", \"user\", \"user\", \"user\", \"user\", \"user\", \"user\", \"user\", \"user\", \"user\", \"user\", \"user\", \"user\", \"user\", \"user\", \"user\", \"user\", \"user\", \"user\", \"user\", \"user\", \"user\", \"user\", \"user\", \"value\", \"value\", \"value\", \"value\", \"value\", \"value\", \"value\", \"value\", \"value\", \"value\", \"value\", \"value\", \"value\", \"value\", \"value\", \"value\", \"value\", \"value\", \"value\", \"value\", \"value\", \"value\", \"value\", \"value\", \"value\", \"value\", \"value\", \"value\", \"value\", \"value\", \"value\", \"value\", \"value\", \"value\", \"value\", \"value\", \"value\", \"value\", \"value\", \"value\", \"value\", \"value\", \"value\", \"value\", \"value\", \"value\", \"value\", \"value\", \"value\", \"value\", \"value\", \"way\", \"way\", \"way\", \"way\", \"way\", \"way\", \"way\", \"way\", \"way\", \"way\", \"way\", \"way\", \"way\", \"way\", \"way\", \"way\", \"way\", \"way\", \"way\", \"way\", \"way\", \"way\", \"way\", \"way\", \"way\", \"way\", \"way\", \"way\", \"way\", \"way\", \"way\", \"way\", \"way\", \"way\", \"way\", \"way\", \"way\", \"way\", \"way\", \"way\", \"way\", \"way\", \"way\", \"way\", \"way\", \"way\", \"way\", \"way\", \"way\", \"way\", \"way\", \"way\", \"way\", \"way\", \"way\", \"way\", \"way\", \"way\", \"way\", \"way\", \"way\", \"way\", \"way\", \"way\", \"way\", \"way\", \"way\", \"way\", \"way\", \"work\", \"work\", \"work\", \"work\", \"work\", \"work\", \"work\", \"work\", \"work\", \"work\", \"work\", \"work\", \"work\", \"work\", \"work\", \"work\", \"work\", \"work\", \"work\", \"work\", \"work\", \"work\", \"work\", \"work\", \"work\", \"work\", \"work\", \"work\", \"work\", \"work\", \"work\", \"work\", \"work\", \"work\", \"work\", \"work\", \"work\", \"work\", \"work\", \"work\", \"work\", \"work\", \"work\", \"work\", \"work\", \"work\", \"work\", \"work\", \"work\", \"work\", \"work\", \"work\", \"work\", \"work\", \"work\", \"work\", \"work\", \"work\"]}, \"R\": 27, \"lambda.step\": 0.01, \"plot.opts\": {\"xlab\": \"PC1\", \"ylab\": \"PC2\"}, \"topic.order\": [21, 34, 74, 37, 27, 47, 42, 35, 66, 9, 71, 7, 2, 5, 25, 55, 31, 23, 40, 44, 79, 39, 19, 59, 76, 41, 51, 30, 52, 61, 10, 67, 60, 32, 36, 12, 69, 1, 22, 3, 58, 24, 54, 38, 70, 64, 65, 14, 13, 68, 11, 8, 62, 72, 73, 6, 75, 4, 77, 78, 63, 16, 15, 33, 29, 28, 43, 26, 45, 46, 48, 49, 50, 20, 53, 18, 56, 57, 17, 80]};\n",
       "\n",
       "function LDAvis_load_lib(url, callback){\n",
       "  var s = document.createElement('script');\n",
       "  s.src = url;\n",
       "  s.async = true;\n",
       "  s.onreadystatechange = s.onload = callback;\n",
       "  s.onerror = function(){console.warn(\"failed to load library \" + url);};\n",
       "  document.getElementsByTagName(\"head\")[0].appendChild(s);\n",
       "}\n",
       "\n",
       "if(typeof(LDAvis) !== \"undefined\"){\n",
       "   // already loaded: just create the visualization\n",
       "   !function(LDAvis){\n",
       "       new LDAvis(\"#\" + \"ldavis_el167963647776002826292585\", ldavis_el167963647776002826292585_data);\n",
       "   }(LDAvis);\n",
       "}else if(typeof define === \"function\" && define.amd){\n",
       "   // require.js is available: use it to load d3/LDAvis\n",
       "   require.config({paths: {d3: \"https://d3js.org/d3.v5\"}});\n",
       "   require([\"d3\"], function(d3){\n",
       "      window.d3 = d3;\n",
       "      LDAvis_load_lib(\"https://cdn.jsdelivr.net/gh/bmabey/pyLDAvis@3.3.1/pyLDAvis/js/ldavis.v3.0.0.js\", function(){\n",
       "        new LDAvis(\"#\" + \"ldavis_el167963647776002826292585\", ldavis_el167963647776002826292585_data);\n",
       "      });\n",
       "    });\n",
       "}else{\n",
       "    // require.js not available: dynamically load d3 & LDAvis\n",
       "    LDAvis_load_lib(\"https://d3js.org/d3.v5.js\", function(){\n",
       "         LDAvis_load_lib(\"https://cdn.jsdelivr.net/gh/bmabey/pyLDAvis@3.3.1/pyLDAvis/js/ldavis.v3.0.0.js\", function(){\n",
       "                 new LDAvis(\"#\" + \"ldavis_el167963647776002826292585\", ldavis_el167963647776002826292585_data);\n",
       "            })\n",
       "         });\n",
       "}\n",
       "</script>"
      ],
      "text/plain": [
       "<IPython.core.display.HTML object>"
      ]
     },
     "execution_count": 311,
     "metadata": {},
     "output_type": "execute_result"
    }
   ],
   "source": [
    "lda_display = pyLDAvis.gensim_models.prepare(lda_model, corpus_train, dictionary, sort_topics=True, mds='mmds')\n",
    "pyLDAvis.display(lda_display)"
   ]
  },
  {
   "cell_type": "markdown",
   "metadata": {},
   "source": [
    "In order to use the *LDA* model to make predictions, we develop a function to select 5 predictions by prioritizing terms that are present in the *title* of the question.\\\n",
    "If this does not make up for 5 *tags*, we select the terms with the highest frequencies until we obtain 5 terms."
   ]
  },
  {
   "cell_type": "code",
   "execution_count": 312,
   "metadata": {},
   "outputs": [],
   "source": [
    "def filter_preds(document, preds, length=5):\n",
    "    \n",
    "    filtered_preds = list()\n",
    "\n",
    "    if type(document) == float:\n",
    "\n",
    "        pass\n",
    "\n",
    "    else:\n",
    "\n",
    "        for pred in preds:\n",
    "\n",
    "            if pred in document:\n",
    "\n",
    "                filtered_preds.append(pred)\n",
    "                preds.remove(pred)\n",
    "\n",
    "        filtered_preds = filtered_preds[:length]\n",
    "\n",
    "    for pred in preds:\n",
    "\n",
    "        if len(filtered_preds) == length:\n",
    "            \n",
    "            break\n",
    "        \n",
    "        else:\n",
    "\n",
    "            filtered_preds.append(pred)\n",
    "    \n",
    "    return filtered_preds"
   ]
  },
  {
   "cell_type": "markdown",
   "metadata": {},
   "source": [
    "We predict the *tags* for each *document* of the *corpus* using the *get_topic_terms* method after translating the *X_test set* to a *bag of words* using the training *dictionary*.\n",
    "\n",
    "We then apply the *filter_preds* function described above:"
   ]
  },
  {
   "cell_type": "code",
   "execution_count": 313,
   "metadata": {},
   "outputs": [
    {
     "data": {
      "text/html": [
       "<div>\n",
       "<style scoped>\n",
       "    .dataframe tbody tr th:only-of-type {\n",
       "        vertical-align: middle;\n",
       "    }\n",
       "\n",
       "    .dataframe tbody tr th {\n",
       "        vertical-align: top;\n",
       "    }\n",
       "\n",
       "    .dataframe thead th {\n",
       "        text-align: right;\n",
       "    }\n",
       "</style>\n",
       "<table border=\"1\" class=\"dataframe\">\n",
       "  <thead>\n",
       "    <tr style=\"text-align: right;\">\n",
       "      <th></th>\n",
       "      <th>Title_tokens</th>\n",
       "      <th>Tags_tokens</th>\n",
       "      <th>Tags_target</th>\n",
       "      <th>LDA</th>\n",
       "    </tr>\n",
       "    <tr>\n",
       "      <th>Id</th>\n",
       "      <th></th>\n",
       "      <th></th>\n",
       "      <th></th>\n",
       "      <th></th>\n",
       "    </tr>\n",
       "  </thead>\n",
       "  <tbody>\n",
       "    <tr>\n",
       "      <th>1475635</th>\n",
       "      <td>pointer,structure</td>\n",
       "      <td>c,pointers,variables,struct,return</td>\n",
       "      <td>c,pointers,struct,variables</td>\n",
       "      <td>[time, function, class, object, database]</td>\n",
       "    </tr>\n",
       "    <tr>\n",
       "      <th>190666</th>\n",
       "      <td>linq,sql,concurrency,issue</td>\n",
       "      <td>c#,linq,linq-to-sql,concurrency,transactions</td>\n",
       "      <td>concurrency,linq-to-sql,linq,c#,transactions</td>\n",
       "      <td>[class, file, time, function, get]</td>\n",
       "    </tr>\n",
       "    <tr>\n",
       "      <th>1735000</th>\n",
       "      <td>instrument,display,console,command,line,applic...</td>\n",
       "      <td>c,xcode,debugging,macos,instruments</td>\n",
       "      <td>c,debugging,macos,xcode</td>\n",
       "      <td>[file, database, function, class, time]</td>\n",
       "    </tr>\n",
       "    <tr>\n",
       "      <th>1662904</th>\n",
       "      <td>qt,setting</td>\n",
       "      <td>c++,windows,linux,qt,qt4</td>\n",
       "      <td>windows,qt,c++,linux</td>\n",
       "      <td>[file, database, function, class, time]</td>\n",
       "    </tr>\n",
       "    <tr>\n",
       "      <th>116701</th>\n",
       "      <td>program,background</td>\n",
       "      <td>windows,linux,macos,shell,background</td>\n",
       "      <td>shell,windows,linux,macos</td>\n",
       "      <td>[database, time, file, function, class]</td>\n",
       "    </tr>\n",
       "    <tr>\n",
       "      <th>...</th>\n",
       "      <td>...</td>\n",
       "      <td>...</td>\n",
       "      <td>...</td>\n",
       "      <td>...</td>\n",
       "    </tr>\n",
       "    <tr>\n",
       "      <th>5588143</th>\n",
       "      <td>code,json,reference,serialization,error</td>\n",
       "      <td>c#,json,entity-framework,serialization,asp.net...</td>\n",
       "      <td>serialization,entity-framework,asp.net-mvc-3,c...</td>\n",
       "      <td>[class, time, function, object, database]</td>\n",
       "    </tr>\n",
       "    <tr>\n",
       "      <th>919287</th>\n",
       "      <td>wcf,window,service,timeout</td>\n",
       "      <td>.net,windows,wcf,web-services,exception-handling</td>\n",
       "      <td>wcf,exception-handling,web-services,windows,.net</td>\n",
       "      <td>[time, database, object, class, file]</td>\n",
       "    </tr>\n",
       "    <tr>\n",
       "      <th>4730570</th>\n",
       "      <td>list,moq</td>\n",
       "      <td>c#,.net,unit-testing,mocking,moq</td>\n",
       "      <td>unit-testing,mocking,c#,.net</td>\n",
       "      <td>[function, object, class, database, file]</td>\n",
       "    </tr>\n",
       "    <tr>\n",
       "      <th>6062569</th>\n",
       "      <td>difference,appdelegate.m,view,controller.m</td>\n",
       "      <td>iphone,objective-c,xcode,delegates,viewcontroller</td>\n",
       "      <td>delegates,iphone,objective-c,xcode</td>\n",
       "      <td>[function, class, time, database, file]</td>\n",
       "    </tr>\n",
       "    <tr>\n",
       "      <th>2565979</th>\n",
       "      <td>macro,gcc/g++,differentiate,linux,mac,osx</td>\n",
       "      <td>linux,macos,gcc,cross-platform,macros</td>\n",
       "      <td>cross-platform,linux,macos,gcc</td>\n",
       "      <td>[object, time, file, function, database]</td>\n",
       "    </tr>\n",
       "  </tbody>\n",
       "</table>\n",
       "<p>2495 rows × 4 columns</p>\n",
       "</div>"
      ],
      "text/plain": [
       "                                              Title_tokens  \\\n",
       "Id                                                           \n",
       "1475635                                  pointer,structure   \n",
       "190666                          linq,sql,concurrency,issue   \n",
       "1735000  instrument,display,console,command,line,applic...   \n",
       "1662904                                         qt,setting   \n",
       "116701                                  program,background   \n",
       "...                                                    ...   \n",
       "5588143            code,json,reference,serialization,error   \n",
       "919287                          wcf,window,service,timeout   \n",
       "4730570                                           list,moq   \n",
       "6062569         difference,appdelegate.m,view,controller.m   \n",
       "2565979          macro,gcc/g++,differentiate,linux,mac,osx   \n",
       "\n",
       "                                               Tags_tokens  \\\n",
       "Id                                                           \n",
       "1475635                 c,pointers,variables,struct,return   \n",
       "190666        c#,linq,linq-to-sql,concurrency,transactions   \n",
       "1735000                c,xcode,debugging,macos,instruments   \n",
       "1662904                           c++,windows,linux,qt,qt4   \n",
       "116701                windows,linux,macos,shell,background   \n",
       "...                                                    ...   \n",
       "5588143  c#,json,entity-framework,serialization,asp.net...   \n",
       "919287    .net,windows,wcf,web-services,exception-handling   \n",
       "4730570                   c#,.net,unit-testing,mocking,moq   \n",
       "6062569  iphone,objective-c,xcode,delegates,viewcontroller   \n",
       "2565979              linux,macos,gcc,cross-platform,macros   \n",
       "\n",
       "                                               Tags_target  \\\n",
       "Id                                                           \n",
       "1475635                        c,pointers,struct,variables   \n",
       "190666        concurrency,linq-to-sql,linq,c#,transactions   \n",
       "1735000                            c,debugging,macos,xcode   \n",
       "1662904                               windows,qt,c++,linux   \n",
       "116701                           shell,windows,linux,macos   \n",
       "...                                                    ...   \n",
       "5588143  serialization,entity-framework,asp.net-mvc-3,c...   \n",
       "919287    wcf,exception-handling,web-services,windows,.net   \n",
       "4730570                       unit-testing,mocking,c#,.net   \n",
       "6062569                 delegates,iphone,objective-c,xcode   \n",
       "2565979                     cross-platform,linux,macos,gcc   \n",
       "\n",
       "                                               LDA  \n",
       "Id                                                  \n",
       "1475635  [time, function, class, object, database]  \n",
       "190666          [class, file, time, function, get]  \n",
       "1735000    [file, database, function, class, time]  \n",
       "1662904    [file, database, function, class, time]  \n",
       "116701     [database, time, file, function, class]  \n",
       "...                                            ...  \n",
       "5588143  [class, time, function, object, database]  \n",
       "919287       [time, database, object, class, file]  \n",
       "4730570  [function, object, class, database, file]  \n",
       "6062569    [function, class, time, database, file]  \n",
       "2565979   [object, time, file, function, database]  \n",
       "\n",
       "[2495 rows x 4 columns]"
      ]
     },
     "execution_count": 313,
     "metadata": {},
     "output_type": "execute_result"
    }
   ],
   "source": [
    "texts_test = transformer.X_test_raw.str.split(',')\n",
    "corpus_test = [dictionary.doc2bow(text) for text in texts_test]\n",
    "topics = [sorted(topic, key= lambda tup: tup[1])[-1][0] for topic in lda_model.get_document_topics(corpus_test)]\n",
    "preds = [[dictionary[tag[0]] for tag in lda_model.get_topic_terms(topicid=topic, topn=50)] for topic in topics]\n",
    "transformer.test_df['LDA'] = preds\n",
    "transformer.test_df['LDA'] = transformer.test_df.apply(lambda x: filter_preds(transformer.top_tags, x['LDA']), axis=1)\n",
    "transformer.test_df[['Title_tokens', 'Tags_tokens', 'Tags_target', 'LDA']]"
   ]
  },
  {
   "cell_type": "markdown",
   "metadata": {},
   "source": [
    "We can still calculate the *ratio of tags hit* using our *PerformanceReport* class:"
   ]
  },
  {
   "cell_type": "code",
   "execution_count": 314,
   "metadata": {},
   "outputs": [
    {
     "name": "stdout",
     "output_type": "stream",
     "text": [
      "Ratio of target tags hit: 0.0191\n",
      "Ratio of tags hit: 0.0162\n",
      "Average fill: 1.1848\n"
     ]
    }
   ],
   "source": [
    "report.tags_ratio('LDA', transformer.test_df)"
   ]
  },
  {
   "cell_type": "markdown",
   "metadata": {},
   "source": [
    "# Supervised"
   ]
  },
  {
   "cell_type": "markdown",
   "metadata": {},
   "source": [
    "### Logistic Regression"
   ]
  },
  {
   "cell_type": "markdown",
   "metadata": {},
   "source": [
    "Using the *OneVsRest* (or *OneVsAll*) strategy, we can fit a binary classifier for each *label* of the dataset. We obtain a classifier that can output multiple *labels* for each document."
   ]
  },
  {
   "cell_type": "code",
   "execution_count": 315,
   "metadata": {},
   "outputs": [
    {
     "name": "stdout",
     "output_type": "stream",
     "text": [
      "                    LogR\n",
      "Jaccard         0.246075\n",
      "Recall          0.268686\n",
      "Inference_time  0.000418\n",
      "Model_size_mb          2\n"
     ]
    }
   ],
   "source": [
    "logr_model = OneVsRestClassifier(LogisticRegression(solver='lbfgs'))\n",
    "logr_model.fit(X_train, y_train)\n",
    "preds = logr_model.predict(X_test)\n",
    "report.evaluate('LogR', logr_model, X_test, y_test, preds)"
   ]
  },
  {
   "cell_type": "code",
   "execution_count": 316,
   "metadata": {},
   "outputs": [
    {
     "data": {
      "text/html": [
       "<div>\n",
       "<style scoped>\n",
       "    .dataframe tbody tr th:only-of-type {\n",
       "        vertical-align: middle;\n",
       "    }\n",
       "\n",
       "    .dataframe tbody tr th {\n",
       "        vertical-align: top;\n",
       "    }\n",
       "\n",
       "    .dataframe thead th {\n",
       "        text-align: right;\n",
       "    }\n",
       "</style>\n",
       "<table border=\"1\" class=\"dataframe\">\n",
       "  <thead>\n",
       "    <tr style=\"text-align: right;\">\n",
       "      <th></th>\n",
       "      <th>Title_Body_tokens</th>\n",
       "      <th>Tags_tokens</th>\n",
       "      <th>Tags_target</th>\n",
       "      <th>LogR</th>\n",
       "    </tr>\n",
       "    <tr>\n",
       "      <th>Id</th>\n",
       "      <th></th>\n",
       "      <th></th>\n",
       "      <th></th>\n",
       "      <th></th>\n",
       "    </tr>\n",
       "  </thead>\n",
       "  <tbody>\n",
       "    <tr>\n",
       "      <th>1475635</th>\n",
       "      <td>pointer,structure,return,pointer,struct,c,mean...</td>\n",
       "      <td>c,pointers,variables,struct,return</td>\n",
       "      <td>c,pointers,struct,variables</td>\n",
       "      <td>(c++, c, pointers)</td>\n",
       "    </tr>\n",
       "    <tr>\n",
       "      <th>190666</th>\n",
       "      <td>linq,sql,concurrency,issue,build,order,record,...</td>\n",
       "      <td>c#,linq,linq-to-sql,concurrency,transactions</td>\n",
       "      <td>concurrency,linq-to-sql,linq,c#,transactions</td>\n",
       "      <td>(c#, linq)</td>\n",
       "    </tr>\n",
       "    <tr>\n",
       "      <th>1735000</th>\n",
       "      <td>instrument,display,console,command,line,applic...</td>\n",
       "      <td>c,xcode,debugging,macos,instruments</td>\n",
       "      <td>c,debugging,macos,xcode</td>\n",
       "      <td>()</td>\n",
       "    </tr>\n",
       "    <tr>\n",
       "      <th>1662904</th>\n",
       "      <td>qt,setting,part,qt,effort,payback,road,questio...</td>\n",
       "      <td>c++,windows,linux,qt,qt4</td>\n",
       "      <td>windows,qt,c++,linux</td>\n",
       "      <td>(c++, qt)</td>\n",
       "    </tr>\n",
       "    <tr>\n",
       "      <th>116701</th>\n",
       "      <td>program,background,way,c,program,command,line,...</td>\n",
       "      <td>windows,linux,macos,shell,background</td>\n",
       "      <td>shell,windows,linux,macos</td>\n",
       "      <td>(linux, shell)</td>\n",
       "    </tr>\n",
       "  </tbody>\n",
       "</table>\n",
       "</div>"
      ],
      "text/plain": [
       "                                         Title_Body_tokens  \\\n",
       "Id                                                           \n",
       "1475635  pointer,structure,return,pointer,struct,c,mean...   \n",
       "190666   linq,sql,concurrency,issue,build,order,record,...   \n",
       "1735000  instrument,display,console,command,line,applic...   \n",
       "1662904  qt,setting,part,qt,effort,payback,road,questio...   \n",
       "116701   program,background,way,c,program,command,line,...   \n",
       "\n",
       "                                          Tags_tokens  \\\n",
       "Id                                                      \n",
       "1475635            c,pointers,variables,struct,return   \n",
       "190666   c#,linq,linq-to-sql,concurrency,transactions   \n",
       "1735000           c,xcode,debugging,macos,instruments   \n",
       "1662904                      c++,windows,linux,qt,qt4   \n",
       "116701           windows,linux,macos,shell,background   \n",
       "\n",
       "                                          Tags_target                LogR  \n",
       "Id                                                                         \n",
       "1475635                   c,pointers,struct,variables  (c++, c, pointers)  \n",
       "190666   concurrency,linq-to-sql,linq,c#,transactions          (c#, linq)  \n",
       "1735000                       c,debugging,macos,xcode                  ()  \n",
       "1662904                          windows,qt,c++,linux           (c++, qt)  \n",
       "116701                      shell,windows,linux,macos      (linux, shell)  "
      ]
     },
     "execution_count": 316,
     "metadata": {},
     "output_type": "execute_result"
    }
   ],
   "source": [
    "transformer.join_predictions('LogR', preds).head()"
   ]
  },
  {
   "cell_type": "code",
   "execution_count": 317,
   "metadata": {},
   "outputs": [
    {
     "name": "stdout",
     "output_type": "stream",
     "text": [
      "Ratio of target tags hit: 0.2691\n",
      "Ratio of tags hit: 0.2268\n",
      "Average fill: 0.3434\n"
     ]
    }
   ],
   "source": [
    "report.tags_ratio('LogR', transformer.test_df)"
   ]
  },
  {
   "cell_type": "markdown",
   "metadata": {},
   "source": [
    "### SVM"
   ]
  },
  {
   "cell_type": "code",
   "execution_count": 318,
   "metadata": {},
   "outputs": [
    {
     "name": "stdout",
     "output_type": "stream",
     "text": [
      "                     SVM\n",
      "Jaccard          0.35735\n",
      "Recall          0.409915\n",
      "Inference_time  0.000408\n",
      "Model_size_mb          2\n"
     ]
    }
   ],
   "source": [
    "svm_model = OneVsRestClassifier(LinearSVC())\n",
    "svm_model.fit(X_train, y_train)\n",
    "preds = svm_model.predict(X_test)\n",
    "report.evaluate('SVM', svm_model, X_test, y_test, preds)"
   ]
  },
  {
   "cell_type": "code",
   "execution_count": 319,
   "metadata": {},
   "outputs": [
    {
     "data": {
      "text/html": [
       "<div>\n",
       "<style scoped>\n",
       "    .dataframe tbody tr th:only-of-type {\n",
       "        vertical-align: middle;\n",
       "    }\n",
       "\n",
       "    .dataframe tbody tr th {\n",
       "        vertical-align: top;\n",
       "    }\n",
       "\n",
       "    .dataframe thead th {\n",
       "        text-align: right;\n",
       "    }\n",
       "</style>\n",
       "<table border=\"1\" class=\"dataframe\">\n",
       "  <thead>\n",
       "    <tr style=\"text-align: right;\">\n",
       "      <th></th>\n",
       "      <th>Title_Body_tokens</th>\n",
       "      <th>Tags_tokens</th>\n",
       "      <th>Tags_target</th>\n",
       "      <th>SVM</th>\n",
       "    </tr>\n",
       "    <tr>\n",
       "      <th>Id</th>\n",
       "      <th></th>\n",
       "      <th></th>\n",
       "      <th></th>\n",
       "      <th></th>\n",
       "    </tr>\n",
       "  </thead>\n",
       "  <tbody>\n",
       "    <tr>\n",
       "      <th>1475635</th>\n",
       "      <td>pointer,structure,return,pointer,struct,c,mean...</td>\n",
       "      <td>c,pointers,variables,struct,return</td>\n",
       "      <td>c,pointers,struct,variables</td>\n",
       "      <td>(c++, c, pointers, struct)</td>\n",
       "    </tr>\n",
       "    <tr>\n",
       "      <th>190666</th>\n",
       "      <td>linq,sql,concurrency,issue,build,order,record,...</td>\n",
       "      <td>c#,linq,linq-to-sql,concurrency,transactions</td>\n",
       "      <td>concurrency,linq-to-sql,linq,c#,transactions</td>\n",
       "      <td>(c#, sql, linq, linq-to-sql)</td>\n",
       "    </tr>\n",
       "    <tr>\n",
       "      <th>1735000</th>\n",
       "      <td>instrument,display,console,command,line,applic...</td>\n",
       "      <td>c,xcode,debugging,macos,instruments</td>\n",
       "      <td>c,debugging,macos,xcode</td>\n",
       "      <td>(xcode,)</td>\n",
       "    </tr>\n",
       "    <tr>\n",
       "      <th>1662904</th>\n",
       "      <td>qt,setting,part,qt,effort,payback,road,questio...</td>\n",
       "      <td>c++,windows,linux,qt,qt4</td>\n",
       "      <td>windows,qt,c++,linux</td>\n",
       "      <td>(c++, qt)</td>\n",
       "    </tr>\n",
       "    <tr>\n",
       "      <th>116701</th>\n",
       "      <td>program,background,way,c,program,command,line,...</td>\n",
       "      <td>windows,linux,macos,shell,background</td>\n",
       "      <td>shell,windows,linux,macos</td>\n",
       "      <td>(linux, shell)</td>\n",
       "    </tr>\n",
       "  </tbody>\n",
       "</table>\n",
       "</div>"
      ],
      "text/plain": [
       "                                         Title_Body_tokens  \\\n",
       "Id                                                           \n",
       "1475635  pointer,structure,return,pointer,struct,c,mean...   \n",
       "190666   linq,sql,concurrency,issue,build,order,record,...   \n",
       "1735000  instrument,display,console,command,line,applic...   \n",
       "1662904  qt,setting,part,qt,effort,payback,road,questio...   \n",
       "116701   program,background,way,c,program,command,line,...   \n",
       "\n",
       "                                          Tags_tokens  \\\n",
       "Id                                                      \n",
       "1475635            c,pointers,variables,struct,return   \n",
       "190666   c#,linq,linq-to-sql,concurrency,transactions   \n",
       "1735000           c,xcode,debugging,macos,instruments   \n",
       "1662904                      c++,windows,linux,qt,qt4   \n",
       "116701           windows,linux,macos,shell,background   \n",
       "\n",
       "                                          Tags_target  \\\n",
       "Id                                                      \n",
       "1475635                   c,pointers,struct,variables   \n",
       "190666   concurrency,linq-to-sql,linq,c#,transactions   \n",
       "1735000                       c,debugging,macos,xcode   \n",
       "1662904                          windows,qt,c++,linux   \n",
       "116701                      shell,windows,linux,macos   \n",
       "\n",
       "                                  SVM  \n",
       "Id                                     \n",
       "1475635    (c++, c, pointers, struct)  \n",
       "190666   (c#, sql, linq, linq-to-sql)  \n",
       "1735000                      (xcode,)  \n",
       "1662904                     (c++, qt)  \n",
       "116701                 (linux, shell)  "
      ]
     },
     "execution_count": 319,
     "metadata": {},
     "output_type": "execute_result"
    }
   ],
   "source": [
    "transformer.join_predictions('SVM', preds).head()"
   ]
  },
  {
   "cell_type": "code",
   "execution_count": 320,
   "metadata": {},
   "outputs": [
    {
     "name": "stdout",
     "output_type": "stream",
     "text": [
      "Ratio of target tags hit: 0.4107\n",
      "Ratio of tags hit: 0.346\n",
      "Average fill: 0.5606\n"
     ]
    }
   ],
   "source": [
    "report.tags_ratio('SVM', transformer.test_df)"
   ]
  },
  {
   "cell_type": "markdown",
   "metadata": {},
   "source": [
    "### SGD"
   ]
  },
  {
   "cell_type": "code",
   "execution_count": 321,
   "metadata": {},
   "outputs": [
    {
     "name": "stdout",
     "output_type": "stream",
     "text": [
      "                     SGD\n",
      "Jaccard         0.356643\n",
      "Recall          0.416374\n",
      "Inference_time  0.000437\n",
      "Model_size_mb          2\n"
     ]
    }
   ],
   "source": [
    "sgd_model = OneVsRestClassifier(SGDClassifier(loss='modified_huber'), n_jobs=-1)\n",
    "sgd_model.fit(X_train, y_train)\n",
    "preds = sgd_model.predict(X_test)\n",
    "report.evaluate('SGD', sgd_model, X_test, y_test, preds)"
   ]
  },
  {
   "cell_type": "code",
   "execution_count": 322,
   "metadata": {},
   "outputs": [
    {
     "data": {
      "text/html": [
       "<div>\n",
       "<style scoped>\n",
       "    .dataframe tbody tr th:only-of-type {\n",
       "        vertical-align: middle;\n",
       "    }\n",
       "\n",
       "    .dataframe tbody tr th {\n",
       "        vertical-align: top;\n",
       "    }\n",
       "\n",
       "    .dataframe thead th {\n",
       "        text-align: right;\n",
       "    }\n",
       "</style>\n",
       "<table border=\"1\" class=\"dataframe\">\n",
       "  <thead>\n",
       "    <tr style=\"text-align: right;\">\n",
       "      <th></th>\n",
       "      <th>Title_Body_tokens</th>\n",
       "      <th>Tags_tokens</th>\n",
       "      <th>Tags_target</th>\n",
       "      <th>SGD</th>\n",
       "    </tr>\n",
       "    <tr>\n",
       "      <th>Id</th>\n",
       "      <th></th>\n",
       "      <th></th>\n",
       "      <th></th>\n",
       "      <th></th>\n",
       "    </tr>\n",
       "  </thead>\n",
       "  <tbody>\n",
       "    <tr>\n",
       "      <th>1475635</th>\n",
       "      <td>pointer,structure,return,pointer,struct,c,mean...</td>\n",
       "      <td>c,pointers,variables,struct,return</td>\n",
       "      <td>c,pointers,struct,variables</td>\n",
       "      <td>(c++, c, pointers, struct)</td>\n",
       "    </tr>\n",
       "    <tr>\n",
       "      <th>190666</th>\n",
       "      <td>linq,sql,concurrency,issue,build,order,record,...</td>\n",
       "      <td>c#,linq,linq-to-sql,concurrency,transactions</td>\n",
       "      <td>concurrency,linq-to-sql,linq,c#,transactions</td>\n",
       "      <td>(c#, sql, linq, linq-to-sql)</td>\n",
       "    </tr>\n",
       "    <tr>\n",
       "      <th>1735000</th>\n",
       "      <td>instrument,display,console,command,line,applic...</td>\n",
       "      <td>c,xcode,debugging,macos,instruments</td>\n",
       "      <td>c,debugging,macos,xcode</td>\n",
       "      <td>(xcode,)</td>\n",
       "    </tr>\n",
       "    <tr>\n",
       "      <th>1662904</th>\n",
       "      <td>qt,setting,part,qt,effort,payback,road,questio...</td>\n",
       "      <td>c++,windows,linux,qt,qt4</td>\n",
       "      <td>windows,qt,c++,linux</td>\n",
       "      <td>(c++, qt)</td>\n",
       "    </tr>\n",
       "    <tr>\n",
       "      <th>116701</th>\n",
       "      <td>program,background,way,c,program,command,line,...</td>\n",
       "      <td>windows,linux,macos,shell,background</td>\n",
       "      <td>shell,windows,linux,macos</td>\n",
       "      <td>(linux, unix, shell, process)</td>\n",
       "    </tr>\n",
       "  </tbody>\n",
       "</table>\n",
       "</div>"
      ],
      "text/plain": [
       "                                         Title_Body_tokens  \\\n",
       "Id                                                           \n",
       "1475635  pointer,structure,return,pointer,struct,c,mean...   \n",
       "190666   linq,sql,concurrency,issue,build,order,record,...   \n",
       "1735000  instrument,display,console,command,line,applic...   \n",
       "1662904  qt,setting,part,qt,effort,payback,road,questio...   \n",
       "116701   program,background,way,c,program,command,line,...   \n",
       "\n",
       "                                          Tags_tokens  \\\n",
       "Id                                                      \n",
       "1475635            c,pointers,variables,struct,return   \n",
       "190666   c#,linq,linq-to-sql,concurrency,transactions   \n",
       "1735000           c,xcode,debugging,macos,instruments   \n",
       "1662904                      c++,windows,linux,qt,qt4   \n",
       "116701           windows,linux,macos,shell,background   \n",
       "\n",
       "                                          Tags_target  \\\n",
       "Id                                                      \n",
       "1475635                   c,pointers,struct,variables   \n",
       "190666   concurrency,linq-to-sql,linq,c#,transactions   \n",
       "1735000                       c,debugging,macos,xcode   \n",
       "1662904                          windows,qt,c++,linux   \n",
       "116701                      shell,windows,linux,macos   \n",
       "\n",
       "                                   SGD  \n",
       "Id                                      \n",
       "1475635     (c++, c, pointers, struct)  \n",
       "190666    (c#, sql, linq, linq-to-sql)  \n",
       "1735000                       (xcode,)  \n",
       "1662904                      (c++, qt)  \n",
       "116701   (linux, unix, shell, process)  "
      ]
     },
     "execution_count": 322,
     "metadata": {},
     "output_type": "execute_result"
    }
   ],
   "source": [
    "transformer.join_predictions('SGD', preds).head()"
   ]
  },
  {
   "cell_type": "markdown",
   "metadata": {},
   "source": [
    "We notice that some *documents* have empty predictions.\\\n",
    "This behavior is unwanted, as we want to offer predictions for all the questions passed to the model. We will try to remediate to this issue in the next part."
   ]
  },
  {
   "cell_type": "code",
   "execution_count": 323,
   "metadata": {},
   "outputs": [
    {
     "name": "stdout",
     "output_type": "stream",
     "text": [
      "Ratio of target tags hit: 0.4174\n",
      "Ratio of tags hit: 0.3514\n",
      "Average fill: 0.5891\n"
     ]
    }
   ],
   "source": [
    "report.tags_ratio('SGD', transformer.test_df)"
   ]
  },
  {
   "cell_type": "markdown",
   "metadata": {},
   "source": [
    "### KNN"
   ]
  },
  {
   "cell_type": "code",
   "execution_count": 324,
   "metadata": {},
   "outputs": [
    {
     "name": "stdout",
     "output_type": "stream",
     "text": [
      "                     KNN\n",
      "Jaccard         0.142391\n",
      "Recall          0.153766\n",
      "Inference_time  0.000299\n",
      "Model_size_mb         99\n"
     ]
    }
   ],
   "source": [
    "knn_model = KNeighborsClassifier(n_neighbors=25, leaf_size=90, weights='distance')\n",
    "knn_model.fit(X_train.values, y_train.values)\n",
    "preds = knn_model.predict(X_test)\n",
    "report.evaluate('KNN', knn_model, X_test, y_test, preds)"
   ]
  },
  {
   "cell_type": "code",
   "execution_count": 325,
   "metadata": {},
   "outputs": [
    {
     "data": {
      "text/html": [
       "<div>\n",
       "<style scoped>\n",
       "    .dataframe tbody tr th:only-of-type {\n",
       "        vertical-align: middle;\n",
       "    }\n",
       "\n",
       "    .dataframe tbody tr th {\n",
       "        vertical-align: top;\n",
       "    }\n",
       "\n",
       "    .dataframe thead th {\n",
       "        text-align: right;\n",
       "    }\n",
       "</style>\n",
       "<table border=\"1\" class=\"dataframe\">\n",
       "  <thead>\n",
       "    <tr style=\"text-align: right;\">\n",
       "      <th></th>\n",
       "      <th>Title_Body_tokens</th>\n",
       "      <th>Tags_tokens</th>\n",
       "      <th>Tags_target</th>\n",
       "      <th>KNN</th>\n",
       "    </tr>\n",
       "    <tr>\n",
       "      <th>Id</th>\n",
       "      <th></th>\n",
       "      <th></th>\n",
       "      <th></th>\n",
       "      <th></th>\n",
       "    </tr>\n",
       "  </thead>\n",
       "  <tbody>\n",
       "    <tr>\n",
       "      <th>1475635</th>\n",
       "      <td>pointer,structure,return,pointer,struct,c,mean...</td>\n",
       "      <td>c,pointers,variables,struct,return</td>\n",
       "      <td>c,pointers,struct,variables</td>\n",
       "      <td>(c++, c, pointers)</td>\n",
       "    </tr>\n",
       "    <tr>\n",
       "      <th>190666</th>\n",
       "      <td>linq,sql,concurrency,issue,build,order,record,...</td>\n",
       "      <td>c#,linq,linq-to-sql,concurrency,transactions</td>\n",
       "      <td>concurrency,linq-to-sql,linq,c#,transactions</td>\n",
       "      <td>()</td>\n",
       "    </tr>\n",
       "    <tr>\n",
       "      <th>1735000</th>\n",
       "      <td>instrument,display,console,command,line,applic...</td>\n",
       "      <td>c,xcode,debugging,macos,instruments</td>\n",
       "      <td>c,debugging,macos,xcode</td>\n",
       "      <td>()</td>\n",
       "    </tr>\n",
       "    <tr>\n",
       "      <th>1662904</th>\n",
       "      <td>qt,setting,part,qt,effort,payback,road,questio...</td>\n",
       "      <td>c++,windows,linux,qt,qt4</td>\n",
       "      <td>windows,qt,c++,linux</td>\n",
       "      <td>(c++, qt)</td>\n",
       "    </tr>\n",
       "    <tr>\n",
       "      <th>116701</th>\n",
       "      <td>program,background,way,c,program,command,line,...</td>\n",
       "      <td>windows,linux,macos,shell,background</td>\n",
       "      <td>shell,windows,linux,macos</td>\n",
       "      <td>()</td>\n",
       "    </tr>\n",
       "  </tbody>\n",
       "</table>\n",
       "</div>"
      ],
      "text/plain": [
       "                                         Title_Body_tokens  \\\n",
       "Id                                                           \n",
       "1475635  pointer,structure,return,pointer,struct,c,mean...   \n",
       "190666   linq,sql,concurrency,issue,build,order,record,...   \n",
       "1735000  instrument,display,console,command,line,applic...   \n",
       "1662904  qt,setting,part,qt,effort,payback,road,questio...   \n",
       "116701   program,background,way,c,program,command,line,...   \n",
       "\n",
       "                                          Tags_tokens  \\\n",
       "Id                                                      \n",
       "1475635            c,pointers,variables,struct,return   \n",
       "190666   c#,linq,linq-to-sql,concurrency,transactions   \n",
       "1735000           c,xcode,debugging,macos,instruments   \n",
       "1662904                      c++,windows,linux,qt,qt4   \n",
       "116701           windows,linux,macos,shell,background   \n",
       "\n",
       "                                          Tags_target                 KNN  \n",
       "Id                                                                         \n",
       "1475635                   c,pointers,struct,variables  (c++, c, pointers)  \n",
       "190666   concurrency,linq-to-sql,linq,c#,transactions                  ()  \n",
       "1735000                       c,debugging,macos,xcode                  ()  \n",
       "1662904                          windows,qt,c++,linux           (c++, qt)  \n",
       "116701                      shell,windows,linux,macos                  ()  "
      ]
     },
     "execution_count": 325,
     "metadata": {},
     "output_type": "execute_result"
    }
   ],
   "source": [
    "transformer.join_predictions('KNN', preds).head()"
   ]
  },
  {
   "cell_type": "code",
   "execution_count": 326,
   "metadata": {},
   "outputs": [
    {
     "name": "stdout",
     "output_type": "stream",
     "text": [
      "Ratio of target tags hit: 0.1539\n",
      "Ratio of tags hit: 0.1298\n",
      "Average fill: 0.2038\n"
     ]
    }
   ],
   "source": [
    "report.tags_ratio('KNN', transformer.test_df)"
   ]
  },
  {
   "cell_type": "markdown",
   "metadata": {},
   "source": [
    "We obtain interesting results, a few rows have actually been predicted by the model, this is because the model outputs low porbabilities for most of its predictions.\n",
    "\n",
    "In order to obtain 5 tags, we are going to use the *predict_proba* method to output predictions with lower probability, using the following function:"
   ]
  },
  {
   "cell_type": "code",
   "execution_count": 327,
   "metadata": {},
   "outputs": [],
   "source": [
    "def get_firsts(preds_proba, n_first=5):\n",
    "\n",
    "    result = np.array([\n",
    "        np.where(pred >= np.partition(pred, -n_first)[-n_first], 1, 0)\n",
    "        for pred in np.array([pred[:,1] for pred in preds_proba\n",
    "        ]).transpose()])\n",
    "\n",
    "    return result"
   ]
  },
  {
   "cell_type": "markdown",
   "metadata": {},
   "source": [
    "As we generate more predictions for each row, it is normal to observe a consequent drop in *precision*:"
   ]
  },
  {
   "cell_type": "code",
   "execution_count": 328,
   "metadata": {},
   "outputs": [
    {
     "name": "stdout",
     "output_type": "stream",
     "text": [
      "                   KNN_5\n",
      "Jaccard         0.295064\n",
      "Recall          0.512584\n",
      "Inference_time  0.000312\n",
      "Model_size_mb         99\n"
     ]
    }
   ],
   "source": [
    "preds_proba = knn_model.predict_proba(X_test.values)\n",
    "preds_firsts = get_firsts(preds_proba)\n",
    "report.evaluate('KNN_5', knn_model, X_test, y_test, preds_firsts)"
   ]
  },
  {
   "cell_type": "code",
   "execution_count": 329,
   "metadata": {},
   "outputs": [
    {
     "data": {
      "text/html": [
       "<div>\n",
       "<style scoped>\n",
       "    .dataframe tbody tr th:only-of-type {\n",
       "        vertical-align: middle;\n",
       "    }\n",
       "\n",
       "    .dataframe tbody tr th {\n",
       "        vertical-align: top;\n",
       "    }\n",
       "\n",
       "    .dataframe thead th {\n",
       "        text-align: right;\n",
       "    }\n",
       "</style>\n",
       "<table border=\"1\" class=\"dataframe\">\n",
       "  <thead>\n",
       "    <tr style=\"text-align: right;\">\n",
       "      <th></th>\n",
       "      <th>Title_Body_tokens</th>\n",
       "      <th>Tags_tokens</th>\n",
       "      <th>Tags_target</th>\n",
       "      <th>KNN_5</th>\n",
       "    </tr>\n",
       "    <tr>\n",
       "      <th>Id</th>\n",
       "      <th></th>\n",
       "      <th></th>\n",
       "      <th></th>\n",
       "      <th></th>\n",
       "    </tr>\n",
       "  </thead>\n",
       "  <tbody>\n",
       "    <tr>\n",
       "      <th>1475635</th>\n",
       "      <td>pointer,structure,return,pointer,struct,c,mean...</td>\n",
       "      <td>c,pointers,variables,struct,return</td>\n",
       "      <td>c,pointers,struct,variables</td>\n",
       "      <td>(c++, c, arrays, pointers, struct)</td>\n",
       "    </tr>\n",
       "    <tr>\n",
       "      <th>190666</th>\n",
       "      <td>linq,sql,concurrency,issue,build,order,record,...</td>\n",
       "      <td>c#,linq,linq-to-sql,concurrency,transactions</td>\n",
       "      <td>concurrency,linq-to-sql,linq,c#,transactions</td>\n",
       "      <td>(c#, .net, sql, sql-server, linq-to-sql)</td>\n",
       "    </tr>\n",
       "    <tr>\n",
       "      <th>1735000</th>\n",
       "      <td>instrument,display,console,command,line,applic...</td>\n",
       "      <td>c,xcode,debugging,macos,instruments</td>\n",
       "      <td>c,debugging,macos,xcode</td>\n",
       "      <td>(c#, .net, c++, xcode, command-line)</td>\n",
       "    </tr>\n",
       "    <tr>\n",
       "      <th>1662904</th>\n",
       "      <td>qt,setting,part,qt,effort,payback,road,questio...</td>\n",
       "      <td>c++,windows,linux,qt,qt4</td>\n",
       "      <td>windows,qt,c++,linux</td>\n",
       "      <td>(c++, windows, visual-studio, user-interface, qt)</td>\n",
       "    </tr>\n",
       "    <tr>\n",
       "      <th>116701</th>\n",
       "      <td>program,background,way,c,program,command,line,...</td>\n",
       "      <td>windows,linux,macos,shell,background</td>\n",
       "      <td>shell,windows,linux,macos</td>\n",
       "      <td>(c++, linux, unix, shell, process)</td>\n",
       "    </tr>\n",
       "  </tbody>\n",
       "</table>\n",
       "</div>"
      ],
      "text/plain": [
       "                                         Title_Body_tokens  \\\n",
       "Id                                                           \n",
       "1475635  pointer,structure,return,pointer,struct,c,mean...   \n",
       "190666   linq,sql,concurrency,issue,build,order,record,...   \n",
       "1735000  instrument,display,console,command,line,applic...   \n",
       "1662904  qt,setting,part,qt,effort,payback,road,questio...   \n",
       "116701   program,background,way,c,program,command,line,...   \n",
       "\n",
       "                                          Tags_tokens  \\\n",
       "Id                                                      \n",
       "1475635            c,pointers,variables,struct,return   \n",
       "190666   c#,linq,linq-to-sql,concurrency,transactions   \n",
       "1735000           c,xcode,debugging,macos,instruments   \n",
       "1662904                      c++,windows,linux,qt,qt4   \n",
       "116701           windows,linux,macos,shell,background   \n",
       "\n",
       "                                          Tags_target  \\\n",
       "Id                                                      \n",
       "1475635                   c,pointers,struct,variables   \n",
       "190666   concurrency,linq-to-sql,linq,c#,transactions   \n",
       "1735000                       c,debugging,macos,xcode   \n",
       "1662904                          windows,qt,c++,linux   \n",
       "116701                      shell,windows,linux,macos   \n",
       "\n",
       "                                                     KNN_5  \n",
       "Id                                                          \n",
       "1475635                 (c++, c, arrays, pointers, struct)  \n",
       "190666            (c#, .net, sql, sql-server, linq-to-sql)  \n",
       "1735000               (c#, .net, c++, xcode, command-line)  \n",
       "1662904  (c++, windows, visual-studio, user-interface, qt)  \n",
       "116701                  (c++, linux, unix, shell, process)  "
      ]
     },
     "execution_count": 329,
     "metadata": {},
     "output_type": "execute_result"
    }
   ],
   "source": [
    "transformer.join_predictions('KNN_5', preds_firsts).head()"
   ]
  },
  {
   "cell_type": "markdown",
   "metadata": {},
   "source": [
    "We observe an *average fill* superior to 1, which is normal, it compares the lenght of the filtered *target tags* to the number of predicted tags, of which we now have 5 for each *document*:"
   ]
  },
  {
   "cell_type": "code",
   "execution_count": 330,
   "metadata": {},
   "outputs": [
    {
     "name": "stdout",
     "output_type": "stream",
     "text": [
      "Ratio of target tags hit: 0.5131\n",
      "Ratio of tags hit: 0.4326\n",
      "Average fill: 1.212\n"
     ]
    }
   ],
   "source": [
    "report.tags_ratio('KNN_5', transformer.test_df)"
   ]
  },
  {
   "cell_type": "markdown",
   "metadata": {},
   "source": [
    "We encapsulte our *filter_preds* method in order to be able to sort the results of the *predict_proba* method and apply it to the matrix output, using the transformers *MultiLabelBinarizer* to inverse tranform the predictions:"
   ]
  },
  {
   "cell_type": "code",
   "execution_count": 331,
   "metadata": {},
   "outputs": [],
   "source": [
    "def select_preds(name, transformer: DatasetTransformer, preds_proba):\n",
    "\n",
    "    preds_df = pd.DataFrame(np.array([pred[:,1] for pred in preds_proba]).transpose(),columns=transformer.multi_label_binarizer.classes_)\n",
    "    preds_lists = preds_df.apply(lambda x: x[x > 0].sort_values(ascending=False).keys().to_list(), axis=1)\n",
    "    preds_array = transformer.multi_label_binarizer.transform(preds_lists.values)\n",
    "    transformer.test_df[name] = preds_lists.values\n",
    "    transformer.test_df[name] = transformer.test_df.apply(lambda x: filter_preds(x['Title_Body_tokens'], x[name]), axis=1)\n",
    "\n",
    "    return preds_array, transformer.test_df"
   ]
  },
  {
   "cell_type": "code",
   "execution_count": 332,
   "metadata": {},
   "outputs": [
    {
     "name": "stdout",
     "output_type": "stream",
     "text": [
      "               KNN_select\n",
      "Jaccard          0.106925\n",
      "Recall           0.878146\n",
      "Inference_time   0.000295\n",
      "Model_size_mb          99\n"
     ]
    }
   ],
   "source": [
    "preds_select, preds_df = select_preds('KNN_select', transformer, preds_proba)\n",
    "report.evaluate('KNN_select', knn_model, X_test, y_test, preds_select)"
   ]
  },
  {
   "cell_type": "code",
   "execution_count": 333,
   "metadata": {},
   "outputs": [
    {
     "data": {
      "text/html": [
       "<div>\n",
       "<style scoped>\n",
       "    .dataframe tbody tr th:only-of-type {\n",
       "        vertical-align: middle;\n",
       "    }\n",
       "\n",
       "    .dataframe tbody tr th {\n",
       "        vertical-align: top;\n",
       "    }\n",
       "\n",
       "    .dataframe thead th {\n",
       "        text-align: right;\n",
       "    }\n",
       "</style>\n",
       "<table border=\"1\" class=\"dataframe\">\n",
       "  <thead>\n",
       "    <tr style=\"text-align: right;\">\n",
       "      <th></th>\n",
       "      <th>Title_Body_tokens</th>\n",
       "      <th>Tags_tokens</th>\n",
       "      <th>Tags_target</th>\n",
       "      <th>KNN_select</th>\n",
       "    </tr>\n",
       "    <tr>\n",
       "      <th>Id</th>\n",
       "      <th></th>\n",
       "      <th></th>\n",
       "      <th></th>\n",
       "      <th></th>\n",
       "    </tr>\n",
       "  </thead>\n",
       "  <tbody>\n",
       "    <tr>\n",
       "      <th>1475635</th>\n",
       "      <td>pointer,structure,return,pointer,struct,c,mean...</td>\n",
       "      <td>c,pointers,variables,struct,return</td>\n",
       "      <td>c,pointers,struct,variables</td>\n",
       "      <td>[c, struct, pointers, c++, arrays]</td>\n",
       "    </tr>\n",
       "    <tr>\n",
       "      <th>190666</th>\n",
       "      <td>linq,sql,concurrency,issue,build,order,record,...</td>\n",
       "      <td>c#,linq,linq-to-sql,concurrency,transactions</td>\n",
       "      <td>concurrency,linq-to-sql,linq,c#,transactions</td>\n",
       "      <td>[sql, linq, c#, .net, sql-server]</td>\n",
       "    </tr>\n",
       "    <tr>\n",
       "      <th>1735000</th>\n",
       "      <td>instrument,display,console,command,line,applic...</td>\n",
       "      <td>c,xcode,debugging,macos,instruments</td>\n",
       "      <td>c,debugging,macos,xcode</td>\n",
       "      <td>[xcode, process, memory, c, command-line]</td>\n",
       "    </tr>\n",
       "    <tr>\n",
       "      <th>1662904</th>\n",
       "      <td>qt,setting,part,qt,effort,payback,road,questio...</td>\n",
       "      <td>c++,windows,linux,qt,qt4</td>\n",
       "      <td>windows,qt,c++,linux</td>\n",
       "      <td>[qt, installation, java, c, c++]</td>\n",
       "    </tr>\n",
       "    <tr>\n",
       "      <th>116701</th>\n",
       "      <td>program,background,way,c,program,command,line,...</td>\n",
       "      <td>windows,linux,macos,shell,background</td>\n",
       "      <td>shell,windows,linux,macos</td>\n",
       "      <td>[shell, linux, c, rest, unix]</td>\n",
       "    </tr>\n",
       "  </tbody>\n",
       "</table>\n",
       "</div>"
      ],
      "text/plain": [
       "                                         Title_Body_tokens  \\\n",
       "Id                                                           \n",
       "1475635  pointer,structure,return,pointer,struct,c,mean...   \n",
       "190666   linq,sql,concurrency,issue,build,order,record,...   \n",
       "1735000  instrument,display,console,command,line,applic...   \n",
       "1662904  qt,setting,part,qt,effort,payback,road,questio...   \n",
       "116701   program,background,way,c,program,command,line,...   \n",
       "\n",
       "                                          Tags_tokens  \\\n",
       "Id                                                      \n",
       "1475635            c,pointers,variables,struct,return   \n",
       "190666   c#,linq,linq-to-sql,concurrency,transactions   \n",
       "1735000           c,xcode,debugging,macos,instruments   \n",
       "1662904                      c++,windows,linux,qt,qt4   \n",
       "116701           windows,linux,macos,shell,background   \n",
       "\n",
       "                                          Tags_target  \\\n",
       "Id                                                      \n",
       "1475635                   c,pointers,struct,variables   \n",
       "190666   concurrency,linq-to-sql,linq,c#,transactions   \n",
       "1735000                       c,debugging,macos,xcode   \n",
       "1662904                          windows,qt,c++,linux   \n",
       "116701                      shell,windows,linux,macos   \n",
       "\n",
       "                                        KNN_select  \n",
       "Id                                                  \n",
       "1475635         [c, struct, pointers, c++, arrays]  \n",
       "190666           [sql, linq, c#, .net, sql-server]  \n",
       "1735000  [xcode, process, memory, c, command-line]  \n",
       "1662904           [qt, installation, java, c, c++]  \n",
       "116701               [shell, linux, c, rest, unix]  "
      ]
     },
     "execution_count": 333,
     "metadata": {},
     "output_type": "execute_result"
    }
   ],
   "source": [
    "preds_df[['Title_Body_tokens', 'Tags_tokens', 'Tags_target', 'KNN_select']].head()"
   ]
  },
  {
   "cell_type": "markdown",
   "metadata": {},
   "source": [
    "The average fill is slightly lower, which can be explained be the fact that our *select preds* filtering function excludes the *null* probabilities from the predictions matrix."
   ]
  },
  {
   "cell_type": "code",
   "execution_count": 334,
   "metadata": {},
   "outputs": [
    {
     "name": "stdout",
     "output_type": "stream",
     "text": [
      "Ratio of target tags hit: 0.5182\n",
      "Ratio of tags hit: 0.4362\n",
      "Average fill: 1.1847\n"
     ]
    }
   ],
   "source": [
    "report.tags_ratio('KNN_select', transformer.test_df)"
   ]
  },
  {
   "cell_type": "markdown",
   "metadata": {},
   "source": [
    "As we can see, the strategy of priotizing the selection of the *predictions* that are present in the question content is effective, as we hit more actual *tags*."
   ]
  },
  {
   "cell_type": "markdown",
   "metadata": {},
   "source": [
    "### Random Forest"
   ]
  },
  {
   "cell_type": "code",
   "execution_count": 335,
   "metadata": {},
   "outputs": [
    {
     "name": "stdout",
     "output_type": "stream",
     "text": [
      "               Random_Forest\n",
      "Jaccard             0.018848\n",
      "Recall               0.01909\n",
      "Inference_time      0.000912\n",
      "Model_size_mb           5042\n"
     ]
    }
   ],
   "source": [
    "rfc_model = RandomForestClassifier()\n",
    "rfc_model.fit(X_train, y_train)\n",
    "preds = rfc_model.predict(X_test)\n",
    "preds_proba = rfc_model.predict_proba(X_test)\n",
    "report.evaluate('Random_Forest', rfc_model, X_test, y_test, preds)"
   ]
  },
  {
   "cell_type": "code",
   "execution_count": 336,
   "metadata": {},
   "outputs": [
    {
     "data": {
      "text/html": [
       "<div>\n",
       "<style scoped>\n",
       "    .dataframe tbody tr th:only-of-type {\n",
       "        vertical-align: middle;\n",
       "    }\n",
       "\n",
       "    .dataframe tbody tr th {\n",
       "        vertical-align: top;\n",
       "    }\n",
       "\n",
       "    .dataframe thead th {\n",
       "        text-align: right;\n",
       "    }\n",
       "</style>\n",
       "<table border=\"1\" class=\"dataframe\">\n",
       "  <thead>\n",
       "    <tr style=\"text-align: right;\">\n",
       "      <th></th>\n",
       "      <th>Title_Body_tokens</th>\n",
       "      <th>Tags_tokens</th>\n",
       "      <th>Tags_target</th>\n",
       "      <th>Random_Forest</th>\n",
       "    </tr>\n",
       "    <tr>\n",
       "      <th>Id</th>\n",
       "      <th></th>\n",
       "      <th></th>\n",
       "      <th></th>\n",
       "      <th></th>\n",
       "    </tr>\n",
       "  </thead>\n",
       "  <tbody>\n",
       "    <tr>\n",
       "      <th>1475635</th>\n",
       "      <td>pointer,structure,return,pointer,struct,c,mean...</td>\n",
       "      <td>c,pointers,variables,struct,return</td>\n",
       "      <td>c,pointers,struct,variables</td>\n",
       "      <td>()</td>\n",
       "    </tr>\n",
       "    <tr>\n",
       "      <th>190666</th>\n",
       "      <td>linq,sql,concurrency,issue,build,order,record,...</td>\n",
       "      <td>c#,linq,linq-to-sql,concurrency,transactions</td>\n",
       "      <td>concurrency,linq-to-sql,linq,c#,transactions</td>\n",
       "      <td>()</td>\n",
       "    </tr>\n",
       "    <tr>\n",
       "      <th>1735000</th>\n",
       "      <td>instrument,display,console,command,line,applic...</td>\n",
       "      <td>c,xcode,debugging,macos,instruments</td>\n",
       "      <td>c,debugging,macos,xcode</td>\n",
       "      <td>()</td>\n",
       "    </tr>\n",
       "    <tr>\n",
       "      <th>1662904</th>\n",
       "      <td>qt,setting,part,qt,effort,payback,road,questio...</td>\n",
       "      <td>c++,windows,linux,qt,qt4</td>\n",
       "      <td>windows,qt,c++,linux</td>\n",
       "      <td>()</td>\n",
       "    </tr>\n",
       "    <tr>\n",
       "      <th>116701</th>\n",
       "      <td>program,background,way,c,program,command,line,...</td>\n",
       "      <td>windows,linux,macos,shell,background</td>\n",
       "      <td>shell,windows,linux,macos</td>\n",
       "      <td>()</td>\n",
       "    </tr>\n",
       "  </tbody>\n",
       "</table>\n",
       "</div>"
      ],
      "text/plain": [
       "                                         Title_Body_tokens  \\\n",
       "Id                                                           \n",
       "1475635  pointer,structure,return,pointer,struct,c,mean...   \n",
       "190666   linq,sql,concurrency,issue,build,order,record,...   \n",
       "1735000  instrument,display,console,command,line,applic...   \n",
       "1662904  qt,setting,part,qt,effort,payback,road,questio...   \n",
       "116701   program,background,way,c,program,command,line,...   \n",
       "\n",
       "                                          Tags_tokens  \\\n",
       "Id                                                      \n",
       "1475635            c,pointers,variables,struct,return   \n",
       "190666   c#,linq,linq-to-sql,concurrency,transactions   \n",
       "1735000           c,xcode,debugging,macos,instruments   \n",
       "1662904                      c++,windows,linux,qt,qt4   \n",
       "116701           windows,linux,macos,shell,background   \n",
       "\n",
       "                                          Tags_target Random_Forest  \n",
       "Id                                                                   \n",
       "1475635                   c,pointers,struct,variables            ()  \n",
       "190666   concurrency,linq-to-sql,linq,c#,transactions            ()  \n",
       "1735000                       c,debugging,macos,xcode            ()  \n",
       "1662904                          windows,qt,c++,linux            ()  \n",
       "116701                      shell,windows,linux,macos            ()  "
      ]
     },
     "execution_count": 336,
     "metadata": {},
     "output_type": "execute_result"
    }
   ],
   "source": [
    "transformer.join_predictions('Random_Forest', preds).head()"
   ]
  },
  {
   "cell_type": "code",
   "execution_count": 337,
   "metadata": {},
   "outputs": [
    {
     "name": "stdout",
     "output_type": "stream",
     "text": [
      "Ratio of target tags hit: 0.0193\n",
      "Ratio of tags hit: 0.0161\n",
      "Average fill: 0.0227\n"
     ]
    }
   ],
   "source": [
    "report.tags_ratio('Random_Forest', transformer.test_df)"
   ]
  },
  {
   "cell_type": "code",
   "execution_count": 338,
   "metadata": {},
   "outputs": [
    {
     "name": "stdout",
     "output_type": "stream",
     "text": [
      "               Random_Forest_5\n",
      "Jaccard               0.212368\n",
      "Recall                0.442587\n",
      "Inference_time        0.001211\n",
      "Model_size_mb             5042\n"
     ]
    }
   ],
   "source": [
    "preds_firsts = get_firsts(preds_proba, 5)\n",
    "report.evaluate('Random_Forest_5', rfc_model, X_test, y_test, preds_firsts)"
   ]
  },
  {
   "cell_type": "code",
   "execution_count": 339,
   "metadata": {},
   "outputs": [
    {
     "data": {
      "text/html": [
       "<div>\n",
       "<style scoped>\n",
       "    .dataframe tbody tr th:only-of-type {\n",
       "        vertical-align: middle;\n",
       "    }\n",
       "\n",
       "    .dataframe tbody tr th {\n",
       "        vertical-align: top;\n",
       "    }\n",
       "\n",
       "    .dataframe thead th {\n",
       "        text-align: right;\n",
       "    }\n",
       "</style>\n",
       "<table border=\"1\" class=\"dataframe\">\n",
       "  <thead>\n",
       "    <tr style=\"text-align: right;\">\n",
       "      <th></th>\n",
       "      <th>Title_Body_tokens</th>\n",
       "      <th>Tags_tokens</th>\n",
       "      <th>Tags_target</th>\n",
       "      <th>Random_Forest_5</th>\n",
       "    </tr>\n",
       "    <tr>\n",
       "      <th>Id</th>\n",
       "      <th></th>\n",
       "      <th></th>\n",
       "      <th></th>\n",
       "      <th></th>\n",
       "    </tr>\n",
       "  </thead>\n",
       "  <tbody>\n",
       "    <tr>\n",
       "      <th>1475635</th>\n",
       "      <td>pointer,structure,return,pointer,struct,c,mean...</td>\n",
       "      <td>c,pointers,variables,struct,return</td>\n",
       "      <td>c,pointers,struct,variables</td>\n",
       "      <td>(c#, .net, c++, c, pointers)</td>\n",
       "    </tr>\n",
       "    <tr>\n",
       "      <th>190666</th>\n",
       "      <td>linq,sql,concurrency,issue,build,order,record,...</td>\n",
       "      <td>c#,linq,linq-to-sql,concurrency,transactions</td>\n",
       "      <td>concurrency,linq-to-sql,linq,c#,transactions</td>\n",
       "      <td>(c#, java, .net, sql, database)</td>\n",
       "    </tr>\n",
       "    <tr>\n",
       "      <th>1735000</th>\n",
       "      <td>instrument,display,console,command,line,applic...</td>\n",
       "      <td>c,xcode,debugging,macos,instruments</td>\n",
       "      <td>c,debugging,macos,xcode</td>\n",
       "      <td>(c#, java, .net, c++, c)</td>\n",
       "    </tr>\n",
       "    <tr>\n",
       "      <th>1662904</th>\n",
       "      <td>qt,setting,part,qt,effort,payback,road,questio...</td>\n",
       "      <td>c++,windows,linux,qt,qt4</td>\n",
       "      <td>windows,qt,c++,linux</td>\n",
       "      <td>(c#, .net, c++, iphone, objective-c)</td>\n",
       "    </tr>\n",
       "    <tr>\n",
       "      <th>116701</th>\n",
       "      <td>program,background,way,c,program,command,line,...</td>\n",
       "      <td>windows,linux,macos,shell,background</td>\n",
       "      <td>shell,windows,linux,macos</td>\n",
       "      <td>(c#, .net, linux, bash, unix, shell)</td>\n",
       "    </tr>\n",
       "  </tbody>\n",
       "</table>\n",
       "</div>"
      ],
      "text/plain": [
       "                                         Title_Body_tokens  \\\n",
       "Id                                                           \n",
       "1475635  pointer,structure,return,pointer,struct,c,mean...   \n",
       "190666   linq,sql,concurrency,issue,build,order,record,...   \n",
       "1735000  instrument,display,console,command,line,applic...   \n",
       "1662904  qt,setting,part,qt,effort,payback,road,questio...   \n",
       "116701   program,background,way,c,program,command,line,...   \n",
       "\n",
       "                                          Tags_tokens  \\\n",
       "Id                                                      \n",
       "1475635            c,pointers,variables,struct,return   \n",
       "190666   c#,linq,linq-to-sql,concurrency,transactions   \n",
       "1735000           c,xcode,debugging,macos,instruments   \n",
       "1662904                      c++,windows,linux,qt,qt4   \n",
       "116701           windows,linux,macos,shell,background   \n",
       "\n",
       "                                          Tags_target  \\\n",
       "Id                                                      \n",
       "1475635                   c,pointers,struct,variables   \n",
       "190666   concurrency,linq-to-sql,linq,c#,transactions   \n",
       "1735000                       c,debugging,macos,xcode   \n",
       "1662904                          windows,qt,c++,linux   \n",
       "116701                      shell,windows,linux,macos   \n",
       "\n",
       "                              Random_Forest_5  \n",
       "Id                                             \n",
       "1475635          (c#, .net, c++, c, pointers)  \n",
       "190666        (c#, java, .net, sql, database)  \n",
       "1735000              (c#, java, .net, c++, c)  \n",
       "1662904  (c#, .net, c++, iphone, objective-c)  \n",
       "116701   (c#, .net, linux, bash, unix, shell)  "
      ]
     },
     "execution_count": 339,
     "metadata": {},
     "output_type": "execute_result"
    }
   ],
   "source": [
    "transformer.join_predictions('Random_Forest_5', preds_firsts).head()"
   ]
  },
  {
   "cell_type": "code",
   "execution_count": 340,
   "metadata": {},
   "outputs": [
    {
     "name": "stdout",
     "output_type": "stream",
     "text": [
      "Ratio of target tags hit: 0.4434\n",
      "Ratio of tags hit: 0.3735\n",
      "Average fill: 1.2647\n"
     ]
    }
   ],
   "source": [
    "report.tags_ratio('Random_Forest_5', transformer.test_df)"
   ]
  },
  {
   "cell_type": "code",
   "execution_count": 341,
   "metadata": {},
   "outputs": [
    {
     "name": "stdout",
     "output_type": "stream",
     "text": [
      "               Random_Forest_select\n",
      "Jaccard                    0.066753\n",
      "Recall                      0.95916\n",
      "Inference_time             0.001144\n",
      "Model_size_mb                  5042\n"
     ]
    }
   ],
   "source": [
    "preds_select, preds_df = select_preds('Random_Forest_select', transformer, preds_proba)\n",
    "report.evaluate('Random_Forest_select', rfc_model, X_test, y_test, preds_select)"
   ]
  },
  {
   "cell_type": "code",
   "execution_count": 342,
   "metadata": {},
   "outputs": [
    {
     "data": {
      "text/html": [
       "<div>\n",
       "<style scoped>\n",
       "    .dataframe tbody tr th:only-of-type {\n",
       "        vertical-align: middle;\n",
       "    }\n",
       "\n",
       "    .dataframe tbody tr th {\n",
       "        vertical-align: top;\n",
       "    }\n",
       "\n",
       "    .dataframe thead th {\n",
       "        text-align: right;\n",
       "    }\n",
       "</style>\n",
       "<table border=\"1\" class=\"dataframe\">\n",
       "  <thead>\n",
       "    <tr style=\"text-align: right;\">\n",
       "      <th></th>\n",
       "      <th>Title_Body_tokens</th>\n",
       "      <th>Tags_tokens</th>\n",
       "      <th>Tags_target</th>\n",
       "      <th>Random_Forest_select</th>\n",
       "    </tr>\n",
       "    <tr>\n",
       "      <th>Id</th>\n",
       "      <th></th>\n",
       "      <th></th>\n",
       "      <th></th>\n",
       "      <th></th>\n",
       "    </tr>\n",
       "  </thead>\n",
       "  <tbody>\n",
       "    <tr>\n",
       "      <th>1475635</th>\n",
       "      <td>pointer,structure,return,pointer,struct,c,mean...</td>\n",
       "      <td>c,pointers,variables,struct,return</td>\n",
       "      <td>c,pointers,struct,variables</td>\n",
       "      <td>[c, struct, pointers, c++, c#]</td>\n",
       "    </tr>\n",
       "    <tr>\n",
       "      <th>190666</th>\n",
       "      <td>linq,sql,concurrency,issue,build,order,record,...</td>\n",
       "      <td>c#,linq,linq-to-sql,concurrency,transactions</td>\n",
       "      <td>concurrency,linq-to-sql,linq,c#,transactions</td>\n",
       "      <td>[sql, linq, c, concurrency, exception]</td>\n",
       "    </tr>\n",
       "    <tr>\n",
       "      <th>1735000</th>\n",
       "      <td>instrument,display,console,command,line,applic...</td>\n",
       "      <td>c,xcode,debugging,macos,instruments</td>\n",
       "      <td>c,debugging,macos,xcode</td>\n",
       "      <td>[c, xcode, file, memory, process]</td>\n",
       "    </tr>\n",
       "    <tr>\n",
       "      <th>1662904</th>\n",
       "      <td>qt,setting,part,qt,effort,payback,road,questio...</td>\n",
       "      <td>c++,windows,linux,qt,qt4</td>\n",
       "      <td>windows,qt,c++,linux</td>\n",
       "      <td>[c, java, qt, installation, c#]</td>\n",
       "    </tr>\n",
       "    <tr>\n",
       "      <th>116701</th>\n",
       "      <td>program,background,way,c,program,command,line,...</td>\n",
       "      <td>windows,linux,macos,shell,background</td>\n",
       "      <td>shell,windows,linux,macos</td>\n",
       "      <td>[linux, c, process, orm, rest]</td>\n",
       "    </tr>\n",
       "  </tbody>\n",
       "</table>\n",
       "</div>"
      ],
      "text/plain": [
       "                                         Title_Body_tokens  \\\n",
       "Id                                                           \n",
       "1475635  pointer,structure,return,pointer,struct,c,mean...   \n",
       "190666   linq,sql,concurrency,issue,build,order,record,...   \n",
       "1735000  instrument,display,console,command,line,applic...   \n",
       "1662904  qt,setting,part,qt,effort,payback,road,questio...   \n",
       "116701   program,background,way,c,program,command,line,...   \n",
       "\n",
       "                                          Tags_tokens  \\\n",
       "Id                                                      \n",
       "1475635            c,pointers,variables,struct,return   \n",
       "190666   c#,linq,linq-to-sql,concurrency,transactions   \n",
       "1735000           c,xcode,debugging,macos,instruments   \n",
       "1662904                      c++,windows,linux,qt,qt4   \n",
       "116701           windows,linux,macos,shell,background   \n",
       "\n",
       "                                          Tags_target  \\\n",
       "Id                                                      \n",
       "1475635                   c,pointers,struct,variables   \n",
       "190666   concurrency,linq-to-sql,linq,c#,transactions   \n",
       "1735000                       c,debugging,macos,xcode   \n",
       "1662904                          windows,qt,c++,linux   \n",
       "116701                      shell,windows,linux,macos   \n",
       "\n",
       "                           Random_Forest_select  \n",
       "Id                                               \n",
       "1475635          [c, struct, pointers, c++, c#]  \n",
       "190666   [sql, linq, c, concurrency, exception]  \n",
       "1735000       [c, xcode, file, memory, process]  \n",
       "1662904         [c, java, qt, installation, c#]  \n",
       "116701           [linux, c, process, orm, rest]  "
      ]
     },
     "execution_count": 342,
     "metadata": {},
     "output_type": "execute_result"
    }
   ],
   "source": [
    "preds_df[['Title_Body_tokens', 'Tags_tokens', 'Tags_target', 'Random_Forest_select']].head()"
   ]
  },
  {
   "cell_type": "code",
   "execution_count": 343,
   "metadata": {},
   "outputs": [
    {
     "name": "stdout",
     "output_type": "stream",
     "text": [
      "Ratio of target tags hit: 0.4154\n",
      "Ratio of tags hit: 0.3499\n",
      "Average fill: 1.1848\n"
     ]
    }
   ],
   "source": [
    "report.tags_ratio('Random_Forest_select', transformer.test_df)"
   ]
  },
  {
   "cell_type": "markdown",
   "metadata": {},
   "source": [
    "# Exploring the results"
   ]
  },
  {
   "cell_type": "code",
   "execution_count": 344,
   "metadata": {},
   "outputs": [
    {
     "data": {
      "text/html": [
       "<div>\n",
       "<style scoped>\n",
       "    .dataframe tbody tr th:only-of-type {\n",
       "        vertical-align: middle;\n",
       "    }\n",
       "\n",
       "    .dataframe tbody tr th {\n",
       "        vertical-align: top;\n",
       "    }\n",
       "\n",
       "    .dataframe thead th {\n",
       "        text-align: right;\n",
       "    }\n",
       "</style>\n",
       "<table border=\"1\" class=\"dataframe\">\n",
       "  <thead>\n",
       "    <tr style=\"text-align: right;\">\n",
       "      <th></th>\n",
       "      <th>Jaccard</th>\n",
       "      <th>Recall</th>\n",
       "      <th>Inference_time</th>\n",
       "      <th>Model_size_mb</th>\n",
       "      <th>Targets_hit</th>\n",
       "      <th>Tags_hit</th>\n",
       "      <th>Fill</th>\n",
       "    </tr>\n",
       "  </thead>\n",
       "  <tbody>\n",
       "    <tr>\n",
       "      <th>LDA</th>\n",
       "      <td>NaN</td>\n",
       "      <td>NaN</td>\n",
       "      <td>NaN</td>\n",
       "      <td>NaN</td>\n",
       "      <td>0.019078</td>\n",
       "      <td>0.016192</td>\n",
       "      <td>1.184823</td>\n",
       "    </tr>\n",
       "    <tr>\n",
       "      <th>LogR</th>\n",
       "      <td>0.246075</td>\n",
       "      <td>0.268686</td>\n",
       "      <td>0.000418</td>\n",
       "      <td>2</td>\n",
       "      <td>0.269098</td>\n",
       "      <td>0.226774</td>\n",
       "      <td>0.343432</td>\n",
       "    </tr>\n",
       "    <tr>\n",
       "      <th>SVM</th>\n",
       "      <td>0.35735</td>\n",
       "      <td>0.409915</td>\n",
       "      <td>0.000408</td>\n",
       "      <td>2</td>\n",
       "      <td>0.410701</td>\n",
       "      <td>0.345972</td>\n",
       "      <td>0.560642</td>\n",
       "    </tr>\n",
       "    <tr>\n",
       "      <th>SGD</th>\n",
       "      <td>0.356643</td>\n",
       "      <td>0.416374</td>\n",
       "      <td>0.000437</td>\n",
       "      <td>2</td>\n",
       "      <td>0.417395</td>\n",
       "      <td>0.351423</td>\n",
       "      <td>0.589135</td>\n",
       "    </tr>\n",
       "    <tr>\n",
       "      <th>KNN</th>\n",
       "      <td>0.142391</td>\n",
       "      <td>0.153766</td>\n",
       "      <td>0.000299</td>\n",
       "      <td>99</td>\n",
       "      <td>0.153908</td>\n",
       "      <td>0.12978</td>\n",
       "      <td>0.203818</td>\n",
       "    </tr>\n",
       "    <tr>\n",
       "      <th>KNN_5</th>\n",
       "      <td>0.295064</td>\n",
       "      <td>0.512584</td>\n",
       "      <td>0.000312</td>\n",
       "      <td>99</td>\n",
       "      <td>0.513106</td>\n",
       "      <td>0.432625</td>\n",
       "      <td>1.211986</td>\n",
       "    </tr>\n",
       "    <tr>\n",
       "      <th>KNN_select</th>\n",
       "      <td>0.106925</td>\n",
       "      <td>0.878146</td>\n",
       "      <td>0.000295</td>\n",
       "      <td>99</td>\n",
       "      <td>0.518156</td>\n",
       "      <td>0.436232</td>\n",
       "      <td>1.184728</td>\n",
       "    </tr>\n",
       "    <tr>\n",
       "      <th>Random_Forest</th>\n",
       "      <td>0.018848</td>\n",
       "      <td>0.01909</td>\n",
       "      <td>0.000912</td>\n",
       "      <td>5042</td>\n",
       "      <td>0.019319</td>\n",
       "      <td>0.016112</td>\n",
       "      <td>0.022699</td>\n",
       "    </tr>\n",
       "    <tr>\n",
       "      <th>Random_Forest_5</th>\n",
       "      <td>0.212368</td>\n",
       "      <td>0.442587</td>\n",
       "      <td>0.001211</td>\n",
       "      <td>5042</td>\n",
       "      <td>0.443407</td>\n",
       "      <td>0.373547</td>\n",
       "      <td>1.264698</td>\n",
       "    </tr>\n",
       "    <tr>\n",
       "      <th>Random_Forest_select</th>\n",
       "      <td>0.066753</td>\n",
       "      <td>0.95916</td>\n",
       "      <td>0.001144</td>\n",
       "      <td>5042</td>\n",
       "      <td>0.415411</td>\n",
       "      <td>0.3499</td>\n",
       "      <td>1.184823</td>\n",
       "    </tr>\n",
       "  </tbody>\n",
       "</table>\n",
       "</div>"
      ],
      "text/plain": [
       "                       Jaccard    Recall Inference_time Model_size_mb  \\\n",
       "LDA                        NaN       NaN            NaN           NaN   \n",
       "LogR                  0.246075  0.268686       0.000418             2   \n",
       "SVM                    0.35735  0.409915       0.000408             2   \n",
       "SGD                   0.356643  0.416374       0.000437             2   \n",
       "KNN                   0.142391  0.153766       0.000299            99   \n",
       "KNN_5                 0.295064  0.512584       0.000312            99   \n",
       "KNN_select            0.106925  0.878146       0.000295            99   \n",
       "Random_Forest         0.018848   0.01909       0.000912          5042   \n",
       "Random_Forest_5       0.212368  0.442587       0.001211          5042   \n",
       "Random_Forest_select  0.066753   0.95916       0.001144          5042   \n",
       "\n",
       "                     Targets_hit  Tags_hit      Fill  \n",
       "LDA                     0.019078  0.016192  1.184823  \n",
       "LogR                    0.269098  0.226774  0.343432  \n",
       "SVM                     0.410701  0.345972  0.560642  \n",
       "SGD                     0.417395  0.351423  0.589135  \n",
       "KNN                     0.153908   0.12978  0.203818  \n",
       "KNN_5                   0.513106  0.432625  1.211986  \n",
       "KNN_select              0.518156  0.436232  1.184728  \n",
       "Random_Forest           0.019319  0.016112  0.022699  \n",
       "Random_Forest_5         0.443407  0.373547  1.264698  \n",
       "Random_Forest_select    0.415411    0.3499  1.184823  "
      ]
     },
     "execution_count": 344,
     "metadata": {},
     "output_type": "execute_result"
    }
   ],
   "source": [
    "report.clean_files()\n",
    "report.get()"
   ]
  },
  {
   "cell_type": "markdown",
   "metadata": {},
   "source": [
    "The *KNN_select* model offers a good performance, a good *recall* score, while remaining of light size, for these reasons we are going to implement this model in our *API*.\n",
    "\n",
    "The following cell, when executed, pulls a random *sample* from the dataset to explore the behavior of the *KNN_select* (the *supervised tags*, compared to the *LDA unsupervised tags*):"
   ]
  },
  {
   "cell_type": "code",
   "execution_count": 359,
   "metadata": {},
   "outputs": [
    {
     "name": "stdout",
     "output_type": "stream",
     "text": [
      "\n",
      "    Title raw: Passing object data with UIButton press\n",
      "\n",
      "\n",
      "    Body tokens: ['custom', 'class', 'formdropdown', 'question', 'button', 'nib', 'class', 'nsarray', 'property', 'store', 'option', 'button', 'button', 'instance', 'viewdidload', 'method', 'like', 'button', 'bring', 'uipickerview', 'option', 'send', 'option', 'method', 'attach', 'action', 'button', '..', 'see', 'pas', 'option', 'dropdown.options', 'method']\n",
      "\n",
      "\n",
      "    Tags tokens: ['iphone', 'objective-c', 'uiview', 'ios', 'uibutton']\n",
      "\n",
      "\n",
      "    Supervised tags tokens: ['objective-c', 'ios', 'iphone', 'cocoa-touch', 'c#']\n",
      "\n",
      "\n",
      "    Unsupervised tags tokens: ['class', 'database', 'function', 'object', 'file']\n"
     ]
    }
   ],
   "source": [
    "preds_df = transformer.test_df\n",
    "\n",
    "sample = preds_df.sample(1)\n",
    "print(f\"\"\"\n",
    "    Title raw: {sample['Title'].values[0]}\\n\\n\n",
    "    Body tokens: {sample['Body_tokens'].values[0].split(',')}\\n\\n\n",
    "    Tags tokens: {sample['Tags_tokens'].values[0].split(',')}\\n\\n\n",
    "    Supervised tags tokens: {sample['KNN_select'].values[0]}\\n\\n\n",
    "    Unsupervised tags tokens: {sample['LDA'].values[0]}\"\"\")"
   ]
  },
  {
   "cell_type": "markdown",
   "metadata": {},
   "source": [
    "We can observe that the *LDA* model mainly pulls generic terms from the *document*, which is not, in our case, a wanted behavior. The *KNN_select* predictions seem way more pertinent."
   ]
  },
  {
   "cell_type": "markdown",
   "metadata": {},
   "source": [
    "# Saving files"
   ]
  },
  {
   "cell_type": "markdown",
   "metadata": {},
   "source": [
    "*For further use*"
   ]
  },
  {
   "cell_type": "code",
   "execution_count": 346,
   "metadata": {},
   "outputs": [
    {
     "data": {
      "text/plain": [
       "['./P5_03_api_code/model.joblib']"
      ]
     },
     "execution_count": 346,
     "metadata": {},
     "output_type": "execute_result"
    }
   ],
   "source": [
    "dump(transformer.multi_label_binarizer, './P5_03_api_code/multi_label_binarizer.joblib')\n",
    "dump(transformer.tfid_vectorizer, './P5_03_api_code/tfid_vectorizer.joblib')\n",
    "dump(transformer.truncated_svd, './P5_03_api_code/truncated_svd.joblib')\n",
    "dump(knn_model, './P5_03_api_code/model.joblib')"
   ]
  },
  {
   "cell_type": "markdown",
   "metadata": {},
   "source": [
    "# Conclusion"
   ]
  },
  {
   "cell_type": "markdown",
   "metadata": {},
   "source": []
  }
 ],
 "metadata": {
  "interpreter": {
   "hash": "73bc5c77dda7f65b49ca8fa5fe9724c28e04e6082e3fc65fbc471f9985772223"
  },
  "kernelspec": {
   "display_name": "Python 3.9.10 ('P5')",
   "language": "python",
   "name": "python3"
  },
  "language_info": {
   "codemirror_mode": {
    "name": "ipython",
    "version": 3
   },
   "file_extension": ".py",
   "mimetype": "text/x-python",
   "name": "python",
   "nbconvert_exporter": "python",
   "pygments_lexer": "ipython3",
   "version": "3.9.10"
  },
  "orig_nbformat": 4
 },
 "nbformat": 4,
 "nbformat_minor": 2
}

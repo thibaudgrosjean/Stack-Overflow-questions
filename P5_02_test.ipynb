{
 "cells": [
  {
   "cell_type": "markdown",
   "metadata": {},
   "source": [
    "# Introduction"
   ]
  },
  {
   "cell_type": "markdown",
   "metadata": {},
   "source": [
    "In this project, we will implement a tags recommendation system for *StackOverflow* questions.\\\n",
    "*StackOverflow* is a reknown platform for questions and answers about programmation.\n",
    "* In the first notebook, we will extract the required data using the *StackExchange data explorer* tool, and explore the data.\n",
    "* In the second notebook, we will implement various *machine learning algorithms* and select the suitable inference model to deploy an *API endpoint*."
   ]
  },
  {
   "cell_type": "markdown",
   "metadata": {},
   "source": [
    "# Environment"
   ]
  },
  {
   "cell_type": "code",
   "execution_count": 26,
   "metadata": {},
   "outputs": [],
   "source": [
    "import pandas as pd\n",
    "import numpy as np\n",
    "from nltk.probability import FreqDist\n",
    "from IPython.display import Image\n",
    "import plotly.graph_objects as go\n",
    "from plotly.subplots import make_subplots\n",
    "from sklearn.feature_extraction.text import CountVectorizer, TfidfVectorizer\n",
    "from sklearn.metrics import accuracy_score, precision_score, recall_score, f1_score, confusion_matrix, hamming_loss, cohen_kappa_score, matthews_corrcoef\n",
    "from sklearn.preprocessing import MultiLabelBinarizer\n",
    "from sklearn.model_selection import train_test_split\n",
    "from sklearn.multiclass import OneVsRestClassifier\n",
    "from sklearn.svm import LinearSVC\n",
    "from sklearn.neighbors import KNeighborsClassifier\n",
    "from sklearn.ensemble import RandomForestClassifier\n",
    "from sklearn.linear_model import SGDClassifier\n",
    "from sklearn.decomposition import PCA\n",
    "from DataGT.PCA import display_scree_plot\n",
    "from sklearn.decomposition import TruncatedSVD\n",
    "import gensim\n",
    "from gensim import corpora\n",
    "from gensim.models.ldamulticore import LdaMulticore\n",
    "from gensim.models import TfidfModel\n",
    "import pyLDAvis.gensim_models\n",
    "from gensim.models import CoherenceModel\n",
    "from imp import reload\n",
    "from xgboost import XGBClassifier\n",
    "from ttictoc import tic, toc\n",
    "from joblib import dump"
   ]
  },
  {
   "cell_type": "code",
   "execution_count": 3,
   "metadata": {},
   "outputs": [
    {
     "data": {
      "text/html": [
       "<div>\n",
       "<style scoped>\n",
       "    .dataframe tbody tr th:only-of-type {\n",
       "        vertical-align: middle;\n",
       "    }\n",
       "\n",
       "    .dataframe tbody tr th {\n",
       "        vertical-align: top;\n",
       "    }\n",
       "\n",
       "    .dataframe thead th {\n",
       "        text-align: right;\n",
       "    }\n",
       "</style>\n",
       "<table border=\"1\" class=\"dataframe\">\n",
       "  <thead>\n",
       "    <tr style=\"text-align: right;\">\n",
       "      <th></th>\n",
       "      <th>Id</th>\n",
       "      <th>Title</th>\n",
       "      <th>Body</th>\n",
       "      <th>Tags</th>\n",
       "      <th>Body_tokens</th>\n",
       "      <th>Title_tokens</th>\n",
       "      <th>Tags_tokens</th>\n",
       "      <th>Title_Body_tokens</th>\n",
       "    </tr>\n",
       "  </thead>\n",
       "  <tbody>\n",
       "    <tr>\n",
       "      <th>0</th>\n",
       "      <td>4</td>\n",
       "      <td>How to convert a Decimal to a Double in C#?</td>\n",
       "      <td>&lt;p&gt;I want to use a &lt;code&gt;Track-Bar&lt;/code&gt; to c...</td>\n",
       "      <td>&lt;c#&gt;&lt;floating-point&gt;&lt;type-conversion&gt;&lt;double&gt;&lt;...</td>\n",
       "      <td>use,change,opacity,code,application,error,work...</td>\n",
       "      <td>convert</td>\n",
       "      <td>c#,floating-point,type-conversion,double,decimal</td>\n",
       "      <td>convert,use,change,opacity,code,application,er...</td>\n",
       "    </tr>\n",
       "    <tr>\n",
       "      <th>1</th>\n",
       "      <td>11</td>\n",
       "      <td>Calculate relative time in C#</td>\n",
       "      <td>&lt;p&gt;Given a specific &lt;code&gt;DateTime&lt;/code&gt; valu...</td>\n",
       "      <td>&lt;c#&gt;&lt;datetime&gt;&lt;time&gt;&lt;datediff&gt;&lt;relative-time-s...</td>\n",
       "      <td>value,display,time,hour,day,month</td>\n",
       "      <td>calculate,time</td>\n",
       "      <td>c#,datetime,time,datediff,relative-time-span</td>\n",
       "      <td>calculate,time,value,display,time,hour,day,month</td>\n",
       "    </tr>\n",
       "    <tr>\n",
       "      <th>2</th>\n",
       "      <td>13</td>\n",
       "      <td>Determine a user's timezone</td>\n",
       "      <td>&lt;p&gt;Is there a standard way for a web server to...</td>\n",
       "      <td>&lt;html&gt;&lt;browser&gt;&lt;timezone&gt;&lt;user-agent&gt;&lt;timezone...</td>\n",
       "      <td>way,web,server,determine,user,timezone,page,he...</td>\n",
       "      <td>determine,user,timezone</td>\n",
       "      <td>html,browser,timezone,user-agent,timezone-offset</td>\n",
       "      <td>determine,user,timezone,way,web,server,determi...</td>\n",
       "    </tr>\n",
       "    <tr>\n",
       "      <th>3</th>\n",
       "      <td>19</td>\n",
       "      <td>What is the fastest way to get the value of π?</td>\n",
       "      <td>&lt;p&gt;I'm looking for the fastest way to obtain t...</td>\n",
       "      <td>&lt;performance&gt;&lt;algorithm&gt;&lt;language-agnostic&gt;&lt;un...</td>\n",
       "      <td>way,obtain,value,π,challenge,way,involve,const...</td>\n",
       "      <td>way,get,value,π</td>\n",
       "      <td>performance,algorithm,language-agnostic,unix,pi</td>\n",
       "      <td>way,get,value,π,way,obtain,value,π,challenge,w...</td>\n",
       "    </tr>\n",
       "    <tr>\n",
       "      <th>4</th>\n",
       "      <td>25</td>\n",
       "      <td>How to use the C socket API in C++ on z/OS</td>\n",
       "      <td>&lt;p&gt;I'm having issues getting the C sockets API...</td>\n",
       "      <td>&lt;c++&gt;&lt;c&gt;&lt;sockets&gt;&lt;mainframe&gt;&lt;zos&gt;</td>\n",
       "      <td>issue,socket,work,c++,z/os,get,time,error,some...</td>\n",
       "      <td>use,c,socket,api,c++,z/os</td>\n",
       "      <td>c++,c,sockets,mainframe,zos</td>\n",
       "      <td>use,c,socket,api,c++,z/os,issue,socket,work,c+...</td>\n",
       "    </tr>\n",
       "  </tbody>\n",
       "</table>\n",
       "</div>"
      ],
      "text/plain": [
       "   Id                                           Title  \\\n",
       "0   4     How to convert a Decimal to a Double in C#?   \n",
       "1  11                   Calculate relative time in C#   \n",
       "2  13                     Determine a user's timezone   \n",
       "3  19  What is the fastest way to get the value of π?   \n",
       "4  25      How to use the C socket API in C++ on z/OS   \n",
       "\n",
       "                                                Body  \\\n",
       "0  <p>I want to use a <code>Track-Bar</code> to c...   \n",
       "1  <p>Given a specific <code>DateTime</code> valu...   \n",
       "2  <p>Is there a standard way for a web server to...   \n",
       "3  <p>I'm looking for the fastest way to obtain t...   \n",
       "4  <p>I'm having issues getting the C sockets API...   \n",
       "\n",
       "                                                Tags  \\\n",
       "0  <c#><floating-point><type-conversion><double><...   \n",
       "1  <c#><datetime><time><datediff><relative-time-s...   \n",
       "2  <html><browser><timezone><user-agent><timezone...   \n",
       "3  <performance><algorithm><language-agnostic><un...   \n",
       "4                  <c++><c><sockets><mainframe><zos>   \n",
       "\n",
       "                                         Body_tokens  \\\n",
       "0  use,change,opacity,code,application,error,work...   \n",
       "1                  value,display,time,hour,day,month   \n",
       "2  way,web,server,determine,user,timezone,page,he...   \n",
       "3  way,obtain,value,π,challenge,way,involve,const...   \n",
       "4  issue,socket,work,c++,z/os,get,time,error,some...   \n",
       "\n",
       "                Title_tokens  \\\n",
       "0                    convert   \n",
       "1             calculate,time   \n",
       "2    determine,user,timezone   \n",
       "3            way,get,value,π   \n",
       "4  use,c,socket,api,c++,z/os   \n",
       "\n",
       "                                        Tags_tokens  \\\n",
       "0  c#,floating-point,type-conversion,double,decimal   \n",
       "1      c#,datetime,time,datediff,relative-time-span   \n",
       "2  html,browser,timezone,user-agent,timezone-offset   \n",
       "3   performance,algorithm,language-agnostic,unix,pi   \n",
       "4                       c++,c,sockets,mainframe,zos   \n",
       "\n",
       "                                   Title_Body_tokens  \n",
       "0  convert,use,change,opacity,code,application,er...  \n",
       "1   calculate,time,value,display,time,hour,day,month  \n",
       "2  determine,user,timezone,way,web,server,determi...  \n",
       "3  way,get,value,π,way,obtain,value,π,challenge,w...  \n",
       "4  use,c,socket,api,c++,z/os,issue,socket,work,c+...  "
      ]
     },
     "execution_count": 3,
     "metadata": {},
     "output_type": "execute_result"
    }
   ],
   "source": [
    "df = pd.read_csv('./data/df.csv')\n",
    "\n",
    "df.head()"
   ]
  },
  {
   "cell_type": "markdown",
   "metadata": {},
   "source": [
    "# Preprocessing"
   ]
  },
  {
   "cell_type": "markdown",
   "metadata": {},
   "source": [
    "In order to pass our data to the various models, we need to process it and transform it into numerical features.\n",
    "* First, we apply a split to generate a *traning* and a *test set*. The transformers will be fit on the training data to transform the test data, thus avoiding *data leakage*.\n",
    "* In order to limit dimensionality, we detect the terms with the highest frequencies on the train set and keep the corresponding terms in the test set. We apply this methodology for both the question *content* and *tags*.\n",
    "* We filter the *corpus* in order to keep the documents that have at least 3 *top tags* to improve the performance of the models.\n",
    "* We vectorize the *content* using a *TfidVectorizer*.\n",
    "* We vectorize the *tags* using a *MultiLabelBinarizer*.\n",
    "* In order to further reduce dimentionality, we apply a *TruncatedSVD* on the question *content* vectors.\n",
    "\n",
    "The following schema sums up the applied transformations:"
   ]
  },
  {
   "cell_type": "code",
   "execution_count": 4,
   "metadata": {},
   "outputs": [
    {
     "data": {
      "image/png": "[encoded data removed]",
      "text/plain": [
       "<IPython.core.display.Image object>"
      ]
     },
     "execution_count": 4,
     "metadata": {},
     "output_type": "execute_result"
    }
   ],
   "source": [
    "Image(filename='processing.png')"
   ]
  },
  {
   "cell_type": "code",
   "execution_count": 5,
   "metadata": {},
   "outputs": [],
   "source": [
    "def gen_frequencies(series):\n",
    "\n",
    "    dist = FreqDist(','.join(series).split(','))\n",
    "\n",
    "    return dist"
   ]
  },
  {
   "cell_type": "markdown",
   "metadata": {},
   "source": [
    "We create a function to extract the top terms from the frequencies dictionary:"
   ]
  },
  {
   "cell_type": "code",
   "execution_count": 6,
   "metadata": {},
   "outputs": [],
   "source": [
    "def extract_top(frequencies:dict, n_top:int):\n",
    "\n",
    "    top_values = pd.DataFrame(\n",
    "        {'Tag':frequencies.keys(), 'Frequency':frequencies.values()}\n",
    "        ).sort_values('Frequency', ascending=False).head(n_top)['Tag'].values\n",
    "    \n",
    "    return top_values"
   ]
  },
  {
   "cell_type": "markdown",
   "metadata": {},
   "source": [
    "We create a function to keep only the top terms for each value of a *series*:"
   ]
  },
  {
   "cell_type": "code",
   "execution_count": 7,
   "metadata": {},
   "outputs": [],
   "source": [
    "def keep_top(series:pd.Series, top_values:list):\n",
    "    \n",
    "    series = series.apply(lambda cell: list(set(cell.split(',')).intersection(top_values)))\n",
    "\n",
    "    return series"
   ]
  },
  {
   "cell_type": "markdown",
   "metadata": {},
   "source": [
    "We develop a *python class* to:\n",
    "* Fit the transformers,\n",
    "* Transform the dataset,\n",
    "* Transform the predictions of the models back into human readable format.\n",
    "\n",
    "We dispose of a limited processing power and choose to generate a *X set* with 600 features reduced to 350, and a *y set* 200 *tags*:"
   ]
  },
  {
   "cell_type": "code",
   "execution_count": 20,
   "metadata": {},
   "outputs": [
    {
     "name": "stdout",
     "output_type": "stream",
     "text": [
      "Dropped Train samples: 19695\n",
      "Dropped Test samples: 4935\n",
      "TruncatedSVD explained variance ratio: 0.82\n",
      "Train size: 20305\n",
      "Test size: 5065\n"
     ]
    }
   ],
   "source": [
    "class DatasetTransformer():\n",
    "\n",
    "    def __init__(self, df:pd.DataFrame, X:str, y:str):\n",
    "\n",
    "        self.dataset = df\n",
    "        self.X = X\n",
    "        self.y = y\n",
    "        self.X_values = df[X]\n",
    "        self.y_values = df[y]\n",
    "        self.test_df = None\n",
    "        self.multi_label_binarizer = None\n",
    "        self.tfid_vectorizer = None\n",
    "        self.truncated_svd = None\n",
    "    \n",
    "    def gen_train_test(self, top_tags, max_features, n_components):\n",
    "        \n",
    "        # Apply a train test split on the data\n",
    "        X_train, X_test, y_train, y_test = train_test_split(\n",
    "            self.X_values,\n",
    "            self.y_values,\n",
    "            test_size=0.2,\n",
    "            random_state=42)\n",
    "        \n",
    "        # y processing\n",
    "\n",
    "        # Calculate the tags frequencies\n",
    "        y_frequencies = gen_frequencies(y_train)\n",
    "        # Extract the top tags\n",
    "        self.top_tags = extract_top(y_frequencies, top_tags)\n",
    "        # Keep only the top tags from the target\n",
    "        y_train = keep_top(y_train, self.top_tags)\n",
    "        y_test = keep_top(y_test, self.top_tags)\n",
    "\n",
    "        # Drop the empty rows we might have generated\n",
    "        train_drop = y_train[y_train.map(len)<3].keys()\n",
    "        test_drop = y_test[y_test.map(len)<3].keys()\n",
    "        y_train.drop(train_drop,inplace=True)\n",
    "        y_test.drop(test_drop,inplace=True)\n",
    "\n",
    "        self.X_train_raw = X_train\n",
    "        self.X_test_raw = X_test\n",
    "        self.y_train_raw = y_train\n",
    "        self.y_test_raw = y_test\n",
    "\n",
    "        print(f'Dropped Train samples: {train_drop.shape[0]}')\n",
    "        print(f'Dropped Test samples: {test_drop.shape[0]}')\n",
    "\n",
    "        # Binarize the target\n",
    "        self.multi_label_binarizer = MultiLabelBinarizer(classes=self.top_tags)\n",
    "        y_train_matrix = self.multi_label_binarizer.fit_transform(y_train)\n",
    "        y_test_matrix = self.multi_label_binarizer.transform(y_test)\n",
    "        \n",
    "        # Convert the matrixes back to pandas DataFrames\n",
    "        tags = self.multi_label_binarizer.classes_\n",
    "        y_train = pd.DataFrame(\n",
    "            data=y_train_matrix,\n",
    "            index=y_train.index,\n",
    "            columns=tags)\n",
    "        y_test = pd.DataFrame(\n",
    "            data=y_test_matrix,\n",
    "            index=y_test.index,\n",
    "            columns=tags)\n",
    "\n",
    "        # Extract the y data to join predictions later\n",
    "        self.test_df = self.dataset.loc[y_test.index, :]\n",
    "\n",
    "        # X processing\n",
    "\n",
    "        X_train.drop(train_drop, inplace=True)\n",
    "        X_test.drop(test_drop, inplace=True)\n",
    "        # Keep the terms with the top frequencies using the max_features arg\n",
    "        self.tfid_vectorizer = TfidfVectorizer(max_features=max_features)\n",
    "        # Fit and transform with the Tfid vectorizer on X train\n",
    "        X_train_matrix = self.tfid_vectorizer.fit_transform(X_train)\n",
    "        # Transform X test\n",
    "        X_test_matrix = self.tfid_vectorizer.transform(X_test)\n",
    "        # Apply TruncatedSVD to reduce dimentionality\n",
    "        self.truncated_svd = TruncatedSVD(n_components=n_components)\n",
    "        X_train_matrix = self.truncated_svd.fit_transform(X_train_matrix)\n",
    "        # Transform X test\n",
    "        X_test_matrix = self.truncated_svd.transform(X_test_matrix)\n",
    "\n",
    "        explained_variance = round(sum(\n",
    "            self.truncated_svd.explained_variance_ratio_), 2)\n",
    "        print(f'TruncatedSVD explained variance ratio: {explained_variance}')\n",
    "\n",
    "        # Convert the matrixes back to pandas DataFrames\n",
    "        components = list(range(n_components))\n",
    "        X_train = pd.DataFrame(\n",
    "            data=X_train_matrix,\n",
    "            index=X_train.index,\n",
    "            columns=components)\n",
    "        X_test = pd.DataFrame(\n",
    "            data=X_test_matrix,\n",
    "            index=X_test.index,\n",
    "            columns=components)\n",
    "\n",
    "        print(f'Train size: {X_train.shape[0]}')\n",
    "        print(f'Test size: {X_test.shape[0]}')\n",
    "\n",
    "        return X_train, X_test, y_train, y_test, X_train_matrix, X_test_matrix\n",
    "\n",
    "    def join_predictions(self, name:str, predictions:np.array):\n",
    "\n",
    "        # Use the binarizer to inverse transform the prediction array\n",
    "        predictions = self.multi_label_binarizer.inverse_transform(predictions)\n",
    "        # Add the predictions to the dataset\n",
    "        self.test_df[name] = predictions\n",
    "\n",
    "        return self.test_df[[self.X, self.y, name]]\n",
    "    \n",
    "    def get_predictions(self):\n",
    "\n",
    "        return self.test_df\n",
    "\n",
    "\n",
    "transformer = DatasetTransformer(df, 'Title_Body_tokens', 'Tags_tokens')\n",
    "X_train, X_test, y_train, y_test, X_train_matrix, X_test_matrix = transformer.gen_train_test(200, 600, 350)"
   ]
  },
  {
   "cell_type": "markdown",
   "metadata": {},
   "source": [
    "We plot the scree plot of the *TruncatedSVD*, which is considered fit once it reaches an explained variance ratio of 0.8:"
   ]
  },
  {
   "cell_type": "code",
   "execution_count": 9,
   "metadata": {},
   "outputs": [
    {
     "data": {
      "image/png": "[encoded data removed]",
      "text/plain": [
       "<Figure size 1008x864 with 1 Axes>"
      ]
     },
     "metadata": {
      "needs_background": "light"
     },
     "output_type": "display_data"
    }
   ],
   "source": [
    "display_scree_plot(transformer.truncated_svd)"
   ]
  },
  {
   "cell_type": "markdown",
   "metadata": {},
   "source": [
    "# Evaluation"
   ]
  },
  {
   "cell_type": "markdown",
   "metadata": {},
   "source": [
    "For each experiment, we will calculate the following metrics:\n",
    "* *weighted Recall*: our objective is to minimize the number of *false negatives*, which would result in a higher *recall* score. We are facing and imbalanced repartition of classes, therefore we will use the *weighted* version of the score.\n",
    "* *ratio of tags hit*: in combination with the *recall score*, we will compute the number of tags that have been found amongst the filtered *tags*, the equivalent of the accuracy for each document, and calcalute its *mean* as the *ratio of tags hit*,\n",
    "* *inference time*: the average time to infer a document of the *test set* in seconds,\n",
    "* *model size*: the size of the model in megabytes.\n",
    "\n",
    "We create a class to evaluate and keep track of our experiments results:"
   ]
  },
  {
   "cell_type": "code",
   "execution_count": 10,
   "metadata": {},
   "outputs": [],
   "source": [
    "def count_values(y_true, y_hat):\n",
    "\n",
    "    y_true = y_true.split(',')\n",
    "    y_hat = list(y_hat)\n",
    "    score_max = len(y_true)\n",
    "    score = 0\n",
    "\n",
    "    for pred in y_hat:\n",
    "\n",
    "        if pred in y_true:\n",
    "\n",
    "            score += 1\n",
    "\n",
    "    return score / score_max\n",
    "\n",
    "\n",
    "class PerformanceReport():\n",
    "\n",
    "    def __init__(self):\n",
    "        \n",
    "        # Initialize our report DataFrame\n",
    "        self.columns = [\n",
    "            'Precision',\n",
    "            'Recall',\n",
    "            'F1',\n",
    "            'Inference_time',\n",
    "            'Model_size_mb',\n",
    "            'Tags_hit']\n",
    "        self.report = pd.DataFrame(columns=self.columns)\n",
    "\n",
    "    def evaluate(self, name:str, model, X_test:np.array, y_true:np.array, y_pred:np.array):\n",
    "        \n",
    "        # Predict with the model\n",
    "        tic()\n",
    "        model.predict(X_test)\n",
    "        # Calculate time spent\n",
    "        inference_time = toc() / X_test.shape[0]\n",
    "        # Dump model to disk\n",
    "        dump(model, './model.joblib')\n",
    "        # Get model file size\n",
    "        model_size = round(os.path.getsize('./model.joblib') / 1000000)\n",
    "        # Calculate the scores\n",
    "        precision = precision_score(y_true, y_pred, average='weighted')\n",
    "        recall = recall_score(y_true, y_pred, average='weighted')\n",
    "        f1 = f1_score(y_true, y_pred, average='weighted')\n",
    "\n",
    "        # Append the scores to our report\n",
    "        self.report.loc[name,self.columns[:-1]] = [\n",
    "            precision,\n",
    "            recall,\n",
    "            f1,\n",
    "            inference_time,\n",
    "            model_size]\n",
    "            \n",
    "        print(pd.DataFrame(self.report.loc[name,self.columns[:-1]]))\n",
    "\n",
    "    def tags_ratio(self, name:str, df:pd.DataFrame, y_true:str):\n",
    "\n",
    "        scores = df.apply(lambda x: count_values(x[y_true], x[name]), axis=1)\n",
    "        self.report.loc[name, 'Tags_hit'] = np.mean(scores)\n",
    "        print(f\"Ratio of tags hit: {round(self.report.loc[name,'Tags_hit'], 4)}\")\n",
    "\n",
    "    def get(self):\n",
    "\n",
    "        return self.report\n",
    "\n",
    "\n",
    "report = PerformanceReport()"
   ]
  },
  {
   "cell_type": "markdown",
   "metadata": {},
   "source": [
    "# Modelling"
   ]
  },
  {
   "cell_type": "markdown",
   "metadata": {},
   "source": [
    "## Unsupervised"
   ]
  },
  {
   "cell_type": "markdown",
   "metadata": {},
   "source": [
    "### LDA"
   ]
  },
  {
   "cell_type": "markdown",
   "metadata": {},
   "source": [
    "For the preprocessing of the data used by the LDA model, we are going to use the included *gensim* library methods.\\\n",
    "Moreover, we will not be able to calculate the standard metrics that we choosed to compare the *supervised machine learning algorithms* as we do not use the *y* data for predicting.\n",
    "\n",
    "We create a dictionnary with the data and convert it to a bag of words corpus:"
   ]
  },
  {
   "cell_type": "code",
   "execution_count": 11,
   "metadata": {},
   "outputs": [],
   "source": [
    "texts_train = transformer.X_train_raw.str.split(',')\n",
    "dictionary = corpora.Dictionary(texts_train)\n",
    "dictionary.filter_extremes(no_below=1000)\n",
    "corpus_train = [dictionary.doc2bow(text) for text in texts_train]\n",
    "tfidf = TfidfModel(corpus_train)\n",
    "corpus_train = [tfidf[text] for text in corpus_train]"
   ]
  },
  {
   "cell_type": "markdown",
   "metadata": {},
   "source": [
    "We test various N topics in order to calculate the coherence and perplexity scores:"
   ]
  },
  {
   "cell_type": "code",
   "execution_count": 12,
   "metadata": {},
   "outputs": [
    {
     "data": {
      "application/vnd.plotly.v1+json": {
       "config": {
        "plotlyServerURL": "https://plot.ly"
       },
       "data": [
        {
         "name": "Coherence",
         "type": "scatter",
         "x": [
          10,
          20,
          30,
          40,
          50,
          60,
          70,
          80,
          90,
          100,
          110,
          120,
          130,
          140,
          150,
          160,
          170,
          180,
          190
         ],
         "xaxis": "x",
         "y": [
          0.4223174300234344,
          0.4260423408344057,
          0.4272474027706474,
          0.43060724437082526,
          0.4313342498382447,
          0.4314212024781836,
          0.4358022852160055,
          0.4320347697536781,
          0.42836775935724314,
          0.41325237677271504,
          0.4023291633601084,
          0.3941945415876971,
          0.3174870044296389,
          0.31748700442963895,
          0.31748700442963895,
          0.31748700442963884,
          0.3174870044296389,
          0.3174870044296389,
          0.3174870044296389
         ],
         "yaxis": "y"
        },
        {
         "name": "Perplexity",
         "type": "scatter",
         "x": [
          10,
          20,
          30,
          40,
          50,
          60,
          70,
          80,
          90,
          100,
          110,
          120,
          130,
          140,
          150,
          160,
          170,
          180,
          190
         ],
         "xaxis": "x",
         "y": [
          -5.39001857217041,
          -5.672549487132587,
          -5.884049529437299,
          -6.072681867434226,
          -6.310616579148043,
          -6.514337440112788,
          -6.940504241904485,
          -7.258000423957691,
          -8.017154766364046,
          -8.681876685622123,
          -14.008673516069736,
          -51.661513660229815,
          -254.37409973144523,
          -274.1473083496109,
          -293.9293823242192,
          -313.7191467285187,
          -333.51556396484364,
          -353.31790161132847,
          -373.12536621094114
         ],
         "yaxis": "y2"
        }
       ],
       "layout": {
        "height": 600,
        "template": {
         "data": {
          "bar": [
           {
            "error_x": {
             "color": "#2a3f5f"
            },
            "error_y": {
             "color": "#2a3f5f"
            },
            "marker": {
             "line": {
              "color": "#E5ECF6",
              "width": 0.5
             },
             "pattern": {
              "fillmode": "overlay",
              "size": 10,
              "solidity": 0.2
             }
            },
            "type": "bar"
           }
          ],
          "barpolar": [
           {
            "marker": {
             "line": {
              "color": "#E5ECF6",
              "width": 0.5
             },
             "pattern": {
              "fillmode": "overlay",
              "size": 10,
              "solidity": 0.2
             }
            },
            "type": "barpolar"
           }
          ],
          "carpet": [
           {
            "aaxis": {
             "endlinecolor": "#2a3f5f",
             "gridcolor": "white",
             "linecolor": "white",
             "minorgridcolor": "white",
             "startlinecolor": "#2a3f5f"
            },
            "baxis": {
             "endlinecolor": "#2a3f5f",
             "gridcolor": "white",
             "linecolor": "white",
             "minorgridcolor": "white",
             "startlinecolor": "#2a3f5f"
            },
            "type": "carpet"
           }
          ],
          "choropleth": [
           {
            "colorbar": {
             "outlinewidth": 0,
             "ticks": ""
            },
            "type": "choropleth"
           }
          ],
          "contour": [
           {
            "colorbar": {
             "outlinewidth": 0,
             "ticks": ""
            },
            "colorscale": [
             [
              0,
              "#0d0887"
             ],
             [
              0.1111111111111111,
              "#46039f"
             ],
             [
              0.2222222222222222,
              "#7201a8"
             ],
             [
              0.3333333333333333,
              "#9c179e"
             ],
             [
              0.4444444444444444,
              "#bd3786"
             ],
             [
              0.5555555555555556,
              "#d8576b"
             ],
             [
              0.6666666666666666,
              "#ed7953"
             ],
             [
              0.7777777777777778,
              "#fb9f3a"
             ],
             [
              0.8888888888888888,
              "#fdca26"
             ],
             [
              1,
              "#f0f921"
             ]
            ],
            "type": "contour"
           }
          ],
          "contourcarpet": [
           {
            "colorbar": {
             "outlinewidth": 0,
             "ticks": ""
            },
            "type": "contourcarpet"
           }
          ],
          "heatmap": [
           {
            "colorbar": {
             "outlinewidth": 0,
             "ticks": ""
            },
            "colorscale": [
             [
              0,
              "#0d0887"
             ],
             [
              0.1111111111111111,
              "#46039f"
             ],
             [
              0.2222222222222222,
              "#7201a8"
             ],
             [
              0.3333333333333333,
              "#9c179e"
             ],
             [
              0.4444444444444444,
              "#bd3786"
             ],
             [
              0.5555555555555556,
              "#d8576b"
             ],
             [
              0.6666666666666666,
              "#ed7953"
             ],
             [
              0.7777777777777778,
              "#fb9f3a"
             ],
             [
              0.8888888888888888,
              "#fdca26"
             ],
             [
              1,
              "#f0f921"
             ]
            ],
            "type": "heatmap"
           }
          ],
          "heatmapgl": [
           {
            "colorbar": {
             "outlinewidth": 0,
             "ticks": ""
            },
            "colorscale": [
             [
              0,
              "#0d0887"
             ],
             [
              0.1111111111111111,
              "#46039f"
             ],
             [
              0.2222222222222222,
              "#7201a8"
             ],
             [
              0.3333333333333333,
              "#9c179e"
             ],
             [
              0.4444444444444444,
              "#bd3786"
             ],
             [
              0.5555555555555556,
              "#d8576b"
             ],
             [
              0.6666666666666666,
              "#ed7953"
             ],
             [
              0.7777777777777778,
              "#fb9f3a"
             ],
             [
              0.8888888888888888,
              "#fdca26"
             ],
             [
              1,
              "#f0f921"
             ]
            ],
            "type": "heatmapgl"
           }
          ],
          "histogram": [
           {
            "marker": {
             "pattern": {
              "fillmode": "overlay",
              "size": 10,
              "solidity": 0.2
             }
            },
            "type": "histogram"
           }
          ],
          "histogram2d": [
           {
            "colorbar": {
             "outlinewidth": 0,
             "ticks": ""
            },
            "colorscale": [
             [
              0,
              "#0d0887"
             ],
             [
              0.1111111111111111,
              "#46039f"
             ],
             [
              0.2222222222222222,
              "#7201a8"
             ],
             [
              0.3333333333333333,
              "#9c179e"
             ],
             [
              0.4444444444444444,
              "#bd3786"
             ],
             [
              0.5555555555555556,
              "#d8576b"
             ],
             [
              0.6666666666666666,
              "#ed7953"
             ],
             [
              0.7777777777777778,
              "#fb9f3a"
             ],
             [
              0.8888888888888888,
              "#fdca26"
             ],
             [
              1,
              "#f0f921"
             ]
            ],
            "type": "histogram2d"
           }
          ],
          "histogram2dcontour": [
           {
            "colorbar": {
             "outlinewidth": 0,
             "ticks": ""
            },
            "colorscale": [
             [
              0,
              "#0d0887"
             ],
             [
              0.1111111111111111,
              "#46039f"
             ],
             [
              0.2222222222222222,
              "#7201a8"
             ],
             [
              0.3333333333333333,
              "#9c179e"
             ],
             [
              0.4444444444444444,
              "#bd3786"
             ],
             [
              0.5555555555555556,
              "#d8576b"
             ],
             [
              0.6666666666666666,
              "#ed7953"
             ],
             [
              0.7777777777777778,
              "#fb9f3a"
             ],
             [
              0.8888888888888888,
              "#fdca26"
             ],
             [
              1,
              "#f0f921"
             ]
            ],
            "type": "histogram2dcontour"
           }
          ],
          "mesh3d": [
           {
            "colorbar": {
             "outlinewidth": 0,
             "ticks": ""
            },
            "type": "mesh3d"
           }
          ],
          "parcoords": [
           {
            "line": {
             "colorbar": {
              "outlinewidth": 0,
              "ticks": ""
             }
            },
            "type": "parcoords"
           }
          ],
          "pie": [
           {
            "automargin": true,
            "type": "pie"
           }
          ],
          "scatter": [
           {
            "marker": {
             "colorbar": {
              "outlinewidth": 0,
              "ticks": ""
             }
            },
            "type": "scatter"
           }
          ],
          "scatter3d": [
           {
            "line": {
             "colorbar": {
              "outlinewidth": 0,
              "ticks": ""
             }
            },
            "marker": {
             "colorbar": {
              "outlinewidth": 0,
              "ticks": ""
             }
            },
            "type": "scatter3d"
           }
          ],
          "scattercarpet": [
           {
            "marker": {
             "colorbar": {
              "outlinewidth": 0,
              "ticks": ""
             }
            },
            "type": "scattercarpet"
           }
          ],
          "scattergeo": [
           {
            "marker": {
             "colorbar": {
              "outlinewidth": 0,
              "ticks": ""
             }
            },
            "type": "scattergeo"
           }
          ],
          "scattergl": [
           {
            "marker": {
             "colorbar": {
              "outlinewidth": 0,
              "ticks": ""
             }
            },
            "type": "scattergl"
           }
          ],
          "scattermapbox": [
           {
            "marker": {
             "colorbar": {
              "outlinewidth": 0,
              "ticks": ""
             }
            },
            "type": "scattermapbox"
           }
          ],
          "scatterpolar": [
           {
            "marker": {
             "colorbar": {
              "outlinewidth": 0,
              "ticks": ""
             }
            },
            "type": "scatterpolar"
           }
          ],
          "scatterpolargl": [
           {
            "marker": {
             "colorbar": {
              "outlinewidth": 0,
              "ticks": ""
             }
            },
            "type": "scatterpolargl"
           }
          ],
          "scatterternary": [
           {
            "marker": {
             "colorbar": {
              "outlinewidth": 0,
              "ticks": ""
             }
            },
            "type": "scatterternary"
           }
          ],
          "surface": [
           {
            "colorbar": {
             "outlinewidth": 0,
             "ticks": ""
            },
            "colorscale": [
             [
              0,
              "#0d0887"
             ],
             [
              0.1111111111111111,
              "#46039f"
             ],
             [
              0.2222222222222222,
              "#7201a8"
             ],
             [
              0.3333333333333333,
              "#9c179e"
             ],
             [
              0.4444444444444444,
              "#bd3786"
             ],
             [
              0.5555555555555556,
              "#d8576b"
             ],
             [
              0.6666666666666666,
              "#ed7953"
             ],
             [
              0.7777777777777778,
              "#fb9f3a"
             ],
             [
              0.8888888888888888,
              "#fdca26"
             ],
             [
              1,
              "#f0f921"
             ]
            ],
            "type": "surface"
           }
          ],
          "table": [
           {
            "cells": {
             "fill": {
              "color": "#EBF0F8"
             },
             "line": {
              "color": "white"
             }
            },
            "header": {
             "fill": {
              "color": "#C8D4E3"
             },
             "line": {
              "color": "white"
             }
            },
            "type": "table"
           }
          ]
         },
         "layout": {
          "annotationdefaults": {
           "arrowcolor": "#2a3f5f",
           "arrowhead": 0,
           "arrowwidth": 1
          },
          "autotypenumbers": "strict",
          "coloraxis": {
           "colorbar": {
            "outlinewidth": 0,
            "ticks": ""
           }
          },
          "colorscale": {
           "diverging": [
            [
             0,
             "#8e0152"
            ],
            [
             0.1,
             "#c51b7d"
            ],
            [
             0.2,
             "#de77ae"
            ],
            [
             0.3,
             "#f1b6da"
            ],
            [
             0.4,
             "#fde0ef"
            ],
            [
             0.5,
             "#f7f7f7"
            ],
            [
             0.6,
             "#e6f5d0"
            ],
            [
             0.7,
             "#b8e186"
            ],
            [
             0.8,
             "#7fbc41"
            ],
            [
             0.9,
             "#4d9221"
            ],
            [
             1,
             "#276419"
            ]
           ],
           "sequential": [
            [
             0,
             "#0d0887"
            ],
            [
             0.1111111111111111,
             "#46039f"
            ],
            [
             0.2222222222222222,
             "#7201a8"
            ],
            [
             0.3333333333333333,
             "#9c179e"
            ],
            [
             0.4444444444444444,
             "#bd3786"
            ],
            [
             0.5555555555555556,
             "#d8576b"
            ],
            [
             0.6666666666666666,
             "#ed7953"
            ],
            [
             0.7777777777777778,
             "#fb9f3a"
            ],
            [
             0.8888888888888888,
             "#fdca26"
            ],
            [
             1,
             "#f0f921"
            ]
           ],
           "sequentialminus": [
            [
             0,
             "#0d0887"
            ],
            [
             0.1111111111111111,
             "#46039f"
            ],
            [
             0.2222222222222222,
             "#7201a8"
            ],
            [
             0.3333333333333333,
             "#9c179e"
            ],
            [
             0.4444444444444444,
             "#bd3786"
            ],
            [
             0.5555555555555556,
             "#d8576b"
            ],
            [
             0.6666666666666666,
             "#ed7953"
            ],
            [
             0.7777777777777778,
             "#fb9f3a"
            ],
            [
             0.8888888888888888,
             "#fdca26"
            ],
            [
             1,
             "#f0f921"
            ]
           ]
          },
          "colorway": [
           "#636efa",
           "#EF553B",
           "#00cc96",
           "#ab63fa",
           "#FFA15A",
           "#19d3f3",
           "#FF6692",
           "#B6E880",
           "#FF97FF",
           "#FECB52"
          ],
          "font": {
           "color": "#2a3f5f"
          },
          "geo": {
           "bgcolor": "white",
           "lakecolor": "white",
           "landcolor": "#E5ECF6",
           "showlakes": true,
           "showland": true,
           "subunitcolor": "white"
          },
          "hoverlabel": {
           "align": "left"
          },
          "hovermode": "closest",
          "mapbox": {
           "style": "light"
          },
          "paper_bgcolor": "white",
          "plot_bgcolor": "#E5ECF6",
          "polar": {
           "angularaxis": {
            "gridcolor": "white",
            "linecolor": "white",
            "ticks": ""
           },
           "bgcolor": "#E5ECF6",
           "radialaxis": {
            "gridcolor": "white",
            "linecolor": "white",
            "ticks": ""
           }
          },
          "scene": {
           "xaxis": {
            "backgroundcolor": "#E5ECF6",
            "gridcolor": "white",
            "gridwidth": 2,
            "linecolor": "white",
            "showbackground": true,
            "ticks": "",
            "zerolinecolor": "white"
           },
           "yaxis": {
            "backgroundcolor": "#E5ECF6",
            "gridcolor": "white",
            "gridwidth": 2,
            "linecolor": "white",
            "showbackground": true,
            "ticks": "",
            "zerolinecolor": "white"
           },
           "zaxis": {
            "backgroundcolor": "#E5ECF6",
            "gridcolor": "white",
            "gridwidth": 2,
            "linecolor": "white",
            "showbackground": true,
            "ticks": "",
            "zerolinecolor": "white"
           }
          },
          "shapedefaults": {
           "line": {
            "color": "#2a3f5f"
           }
          },
          "ternary": {
           "aaxis": {
            "gridcolor": "white",
            "linecolor": "white",
            "ticks": ""
           },
           "baxis": {
            "gridcolor": "white",
            "linecolor": "white",
            "ticks": ""
           },
           "bgcolor": "#E5ECF6",
           "caxis": {
            "gridcolor": "white",
            "linecolor": "white",
            "ticks": ""
           }
          },
          "title": {
           "x": 0.05
          },
          "xaxis": {
           "automargin": true,
           "gridcolor": "white",
           "linecolor": "white",
           "ticks": "",
           "title": {
            "standoff": 15
           },
           "zerolinecolor": "white",
           "zerolinewidth": 2
          },
          "yaxis": {
           "automargin": true,
           "gridcolor": "white",
           "linecolor": "white",
           "ticks": "",
           "title": {
            "standoff": 15
           },
           "zerolinecolor": "white",
           "zerolinewidth": 2
          }
         }
        },
        "title": {
         "text": "Scores per n topics"
        },
        "xaxis": {
         "anchor": "y",
         "domain": [
          0,
          0.94
         ],
         "title": {
          "text": "n topics"
         }
        },
        "yaxis": {
         "anchor": "x",
         "domain": [
          0,
          1
         ],
         "title": {
          "text": "Coherence score"
         }
        },
        "yaxis2": {
         "anchor": "x",
         "overlaying": "y",
         "side": "right",
         "title": {
          "text": "Perplexity score"
         }
        }
       }
      }
     },
     "metadata": {},
     "output_type": "display_data"
    }
   ],
   "source": [
    "topics_range = list(range(10, 200, 10))\n",
    "coherence_scores = list()\n",
    "perplexity_scores = list()\n",
    "models = list()\n",
    "\n",
    "for n_topics in topics_range:\n",
    "\n",
    "    lda_model = LdaMulticore(\n",
    "        corpus=corpus_train,\n",
    "        id2word=dictionary,\n",
    "        num_topics=n_topics,\n",
    "        random_state=42,\n",
    "        passes=10,\n",
    "        workers=24)\n",
    "    models.append(lda_model)\n",
    "\n",
    "    perplexity_scores.append(lda_model.log_perplexity(corpus_train))\n",
    "\n",
    "    coherence_model = CoherenceModel(\n",
    "        model=lda_model, \n",
    "        texts=texts_train,\n",
    "        dictionary=dictionary,\n",
    "        coherence='c_v')\n",
    "    coherence_scores.append(coherence_model.get_coherence())\n",
    "\n",
    "fig = make_subplots(specs=[[{\"secondary_y\": True}]])\n",
    "fig.add_trace(\n",
    "    go.Scatter(x=topics_range, y=coherence_scores, name='Coherence'),\n",
    "    secondary_y=False)\n",
    "fig.add_trace(\n",
    "    go.Scatter(x=topics_range, y=perplexity_scores, name='Perplexity'),\n",
    "    secondary_y=True)\n",
    "fig.update_layout(title_text=f\"Scores per n topics\")\n",
    "fig.update_xaxes(title_text='n topics')\n",
    "fig.update_yaxes(title_text=\"Coherence score\", secondary_y=False)\n",
    "fig.update_yaxes(title_text=\"Perplexity score\", secondary_y=True)\n",
    "fig.update_layout(height=600)\n",
    "fig.show()"
   ]
  },
  {
   "cell_type": "markdown",
   "metadata": {},
   "source": [
    "The coherence score hits its maximum with 60 topics, we fit a model accordingly:"
   ]
  },
  {
   "cell_type": "code",
   "execution_count": 13,
   "metadata": {},
   "outputs": [],
   "source": [
    "lda_model = LdaMulticore(\n",
    "    corpus=corpus_train,\n",
    "    id2word=dictionary,\n",
    "    num_topics=80,\n",
    "    random_state=42,\n",
    "    passes=10,\n",
    "    workers=24)"
   ]
  },
  {
   "cell_type": "markdown",
   "metadata": {},
   "source": [
    "We can display the generated *topics* and their *term frequencies* using the pyLDAvis library:"
   ]
  },
  {
   "cell_type": "code",
   "execution_count": 14,
   "metadata": {},
   "outputs": [
    {
     "name": "stderr",
     "output_type": "stream",
     "text": [
      "/opt/homebrew/Caskroom/miniforge/base/envs/P5/lib/python3.9/site-packages/pyLDAvis/_prepare.py:246: FutureWarning:\n",
      "\n",
      "In a future version of pandas all arguments of DataFrame.drop except for the argument 'labels' will be keyword-only.\n",
      "\n",
      "/opt/homebrew/Caskroom/miniforge/base/envs/P5/lib/python3.9/site-packages/past/builtins/misc.py:45: DeprecationWarning: the imp module is deprecated in favour of importlib; see the module's documentation for alternative uses\n",
      "  from imp import reload\n",
      "/opt/homebrew/Caskroom/miniforge/base/envs/P5/lib/python3.9/site-packages/past/builtins/misc.py:45: DeprecationWarning: the imp module is deprecated in favour of importlib; see the module's documentation for alternative uses\n",
      "  from imp import reload\n",
      "/opt/homebrew/Caskroom/miniforge/base/envs/P5/lib/python3.9/site-packages/past/builtins/misc.py:45: DeprecationWarning: the imp module is deprecated in favour of importlib; see the module's documentation for alternative uses\n",
      "  from imp import reload\n",
      "/opt/homebrew/Caskroom/miniforge/base/envs/P5/lib/python3.9/site-packages/past/builtins/misc.py:45: DeprecationWarning: the imp module is deprecated in favour of importlib; see the module's documentation for alternative uses\n",
      "  from imp import reload\n",
      "/opt/homebrew/Caskroom/miniforge/base/envs/P5/lib/python3.9/site-packages/past/builtins/misc.py:45: DeprecationWarning: the imp module is deprecated in favour of importlib; see the module's documentation for alternative uses\n",
      "  from imp import reload\n",
      "/opt/homebrew/Caskroom/miniforge/base/envs/P5/lib/python3.9/site-packages/past/builtins/misc.py:45: DeprecationWarning: the imp module is deprecated in favour of importlib; see the module's documentation for alternative uses\n",
      "  from imp import reload\n",
      "/opt/homebrew/Caskroom/miniforge/base/envs/P5/lib/python3.9/site-packages/past/builtins/misc.py:45: DeprecationWarning: the imp module is deprecated in favour of importlib; see the module's documentation for alternative uses\n",
      "  from imp import reload\n",
      "/opt/homebrew/Caskroom/miniforge/base/envs/P5/lib/python3.9/site-packages/past/builtins/misc.py:45: DeprecationWarning: the imp module is deprecated in favour of importlib; see the module's documentation for alternative uses\n",
      "  from imp import reload\n"
     ]
    },
    {
     "data": {
      "text/html": [
       "\n",
       "<link rel=\"stylesheet\" type=\"text/css\" href=\"https://cdn.jsdelivr.net/gh/bmabey/pyLDAvis@3.3.1/pyLDAvis/js/ldavis.v1.0.0.css\">\n",
       "\n",
       "\n",
       "<div id=\"ldavis_el19081110353767687507692627\"></div>\n",
       "<script type=\"text/javascript\">\n",
       "\n",
       "var ldavis_el19081110353767687507692627_data = {\"mdsDat\": {\"x\": [0.03129958964582627, -0.0037657358801223948, 0.03232106849210567, 0.03600330287101006, 0.09699306957222688, -0.023179644345894118, -0.029049690555575707, 0.06464019100222351, 0.020509480528340132, 0.06073566556037079, -0.10314623788367179, 0.10453831958775346, 0.05762217132773337, -0.10907301705892847, 0.041047069091216117, 0.04768717188698511, 0.009537528254453883, -0.08817903941647481, -0.08694591963476193, -0.027353515343736503, -0.18504580294078385, 0.09714819518974886, 0.08016773424273299, -0.07651429985749, -0.012596568950853256, 0.14049236966539236, 0.02684200560449351, -0.0773994466348484, -0.06599179954699733, -0.011889299455370116, 0.08988233587698682, 0.044167117131556834, 0.128002206943861, -0.0887891368215157, -0.04451967977999399, -0.12005685761417649, 0.11762616549674063, -0.10366404545993811, -0.0031777600403245843, -0.1374877887093634, -0.026989350233490014, 0.08875683923136031, 0.09287650434078638, 0.0856679972571436, 0.00717062074800089, 0.09386826353052964, 0.0337041724987572, -0.04090146626991619, 0.000944740526013553, -0.07990288015751805, 0.02647032460291273, -0.09093673801951281, -0.14366623697173822, 0.03307846273386304, -0.02584717097218888, -0.01960955879620705, -0.01906375303377122, 0.08363397054334172, -0.03332520906907306, -0.03257656841842567, -0.09668001966458634, -0.1849059562535224, -0.07986893419267424, -0.015956957869470646, 0.015401179073496495, 0.07184185791471147, -0.09991869131480882, -0.030475749260686837, 0.08374854918722877, -0.03848372673074862, -0.014063714456525558, 0.05757888123699409, 0.06209016317004596, 0.056689259511497614, 0.060964088155983816, 0.10731097405834454, 0.035286644042638975, 0.03605927462139754, 0.018883580098412855, -0.008291137439534822], \"y\": [0.03785763126646575, 0.09905336656892144, 0.08493833969376816, 0.026940920246414736, -0.024740066274421987, 0.01598689926909281, 0.015607325138165694, 0.035277894611131934, 0.011431395736281434, -0.007945451476395358, 0.060480595219736547, -0.018889298642922388, 0.012554264217552683, 0.08115315503781684, 0.060645288745744985, -0.029555065719943967, 0.05936213063193507, 0.007678062569480916, 0.04782133046412953, 0.07417355464804579, -0.06086921703683981, 0.036802899023939135, -0.05287508835799021, 0.011617281476814985, -0.0037314145269029845, 0.004569923754466238, -0.038151362298776574, -0.0019335072341525304, 0.07272762595862298, -6.804612878507372e-05, -0.025738142354858523, 0.01644586927645318, -0.0494928807195949, -0.02264673007963425, 0.019003186440495867, 0.03491589054031063, -0.08762102375749316, 0.09495307260498721, -0.03661611577966342, 0.05833669560768628, 0.0049321208712389325, -0.006091036007861934, -0.029900045294968904, 0.016922528465879584, 0.004685479499765355, 0.03898713746980044, -0.042381479101499864, -0.1269925232228931, -0.026247897537985548, 0.01108433262287391, -0.010136956633622752, 0.057819882659128206, -0.24757358511462577, -0.07820434580267738, -0.07496313152022255, -0.13622714757974158, -0.16092305909434554, -0.010369006819568075, -0.13935003119237768, -0.17953383791303118, -0.08183407592182039, 0.13664998275108003, -0.14861388267586345, -0.08543156336001344, -0.04525483744093686, 0.0019775201735442835, 0.08694726635777561, 0.0974670450622778, -0.0033421272708407126, 0.05223012374681663, 0.02747534634177438, 0.08567624347109215, 0.03817811651197758, 0.06454406088004036, 0.03964885266700896, 0.04742531066053682, 0.04007379765662611, 0.052299374887533584, 0.049341881250365524, 0.05954297713767445], \"topics\": [1, 2, 3, 4, 5, 6, 7, 8, 9, 10, 11, 12, 13, 14, 15, 16, 17, 18, 19, 20, 21, 22, 23, 24, 25, 26, 27, 28, 29, 30, 31, 32, 33, 34, 35, 36, 37, 38, 39, 40, 41, 42, 43, 44, 45, 46, 47, 48, 49, 50, 51, 52, 53, 54, 55, 56, 57, 58, 59, 60, 61, 62, 63, 64, 65, 66, 67, 68, 69, 70, 71, 72, 73, 74, 75, 76, 77, 78, 79, 80], \"cluster\": [1, 1, 1, 1, 1, 1, 1, 1, 1, 1, 1, 1, 1, 1, 1, 1, 1, 1, 1, 1, 1, 1, 1, 1, 1, 1, 1, 1, 1, 1, 1, 1, 1, 1, 1, 1, 1, 1, 1, 1, 1, 1, 1, 1, 1, 1, 1, 1, 1, 1, 1, 1, 1, 1, 1, 1, 1, 1, 1, 1, 1, 1, 1, 1, 1, 1, 1, 1, 1, 1, 1, 1, 1, 1, 1, 1, 1, 1, 1, 1], \"Freq\": [2.63677270950902, 2.4372716980595266, 2.3584042373486223, 2.239032093086955, 2.1838912622176556, 2.174564390413812, 2.140698022419525, 2.1114208467831737, 2.01073526645044, 1.9943795193555505, 1.9655364817431176, 1.9401333368569755, 1.9297313191469063, 1.89878967766652, 1.888174759587177, 1.887687497782117, 1.8715683810439259, 1.8402011090872021, 1.8363699358609875, 1.8334578915634132, 1.8076550696282654, 1.7889643663233028, 1.7198727096835027, 1.7129921755866477, 1.614152494324712, 1.5640567293725676, 1.5407781497729713, 1.5406506624523084, 1.4858902489005095, 1.4826202468077645, 1.427728776062743, 1.4276047474870257, 1.398051568647095, 1.3735657485558166, 1.365974597712541, 1.3339398907599989, 1.3223972848988808, 1.3130651419419401, 1.2873588319374392, 1.2864333726243764, 1.268677218803996, 1.234133316869968, 1.226640947029809, 1.2264808354096621, 1.2257268135259196, 1.2187084980121428, 1.1760047244272593, 1.114452453362393, 1.0817813373851153, 0.9550936847247862, 0.948953956801833, 0.9361887137129968, 0.9138651178743409, 0.8801621100622927, 0.8382373127085955, 0.8282419759735944, 0.8161574745004303, 0.8144613632730504, 0.7724432525172549, 0.768046683530122, 0.7222428395588573, 0.6828862799059793, 0.6723504008650488, 0.5362730793789737, 0.5285659495560362, 0.44209635938011027, 0.4115984966514591, 0.386174067414543, 0.38435413773948235, 0.37410735732892236, 0.3702764000764646, 0.3635603991306143, 0.3635603991306143, 0.3635603991306143, 0.3635603991306143, 0.3635603991306143, 0.3635603991306143, 0.3635603991306143, 0.3635603991306143, 0.3635603991306143]}, \"tinfo\": {\"Term\": [\"list\", \"test\", \"string\", \"file\", \"form\", \"c++\", \"type\", \"property\", \"please\", \"page\", \"version\", \"view\", \"part\", \"database\", \"java\", \"table\", \"jquery\", \"sql\", \"window\", \".net\", \"text\", \"app\", \"line\", \"function\", \"value\", \"http\", \"user\", \"server\", \"error\", \"solution\", \"jquery\", \"javascript\", \"page\", \"idea\", \"call\", \"work\", \"function\", \"help\", \"http\", \"something\", \"form\", \"get\", \"make\", \"code\", \"like\", \"thanks\", \"see\", \"problem\", \"example\", \"data\", \"solution\", \"thing\", \"change\", \"anyone\", \"need\", \"way\", \"anything\", \"know\", \"use\", \"option\", \"error\", \"object\", \"user\", \"file\", \"value\", \"server\", \"method\", \"query\", \"sql\", \"table\", \"result\", \"database\", \"return\", \"name\", \"number\", \"data\", \"server\", \"value\", \"time\", \"case\", \"write\", \"update\", \"need\", \"example\", \"something\", \"run\", \"idea\", \"thing\", \"see\", \"set\", \"issue\", \"way\", \"problem\", \"like\", \"use\", \"get\", \"help\", \"question\", \"object\", \"work\", \"user\", \"error\", \"type\", \"code\", \"method\", \"thanks\", \"table\", \"database\", \"data\", \"sql\", \"value\", \"query\", \"create\", \"add\", \"update\", \"idea\", \"user\", \"change\", \"need\", \"number\", \"anything\", \"example\", \"server\", \"time\", \"way\", \"result\", \"problem\", \"want\", \"lot\", \"question\", \"option\", \"solution\", \"something\", \"edit\", \"like\", \"type\", \"get\", \"use\", \"make\", \"thanks\", \"class\", \"work\", \"code\", \"view\", \"create\", \"app\", \"property\", \"user\", \"edit\", \"idea\", \"add\", \"see\", \"thanks\", \"method\", \"want\", \"make\", \"something\", \"change\", \"like\", \"point\", \"thing\", \"help\", \"part\", \"work\", \"object\", \"issue\", \"code\", \"page\", \"get\", \"anything\", \"lot\", \"problem\", \"application\", \"way\", \"question\", \"time\", \"data\", \"class\", \"use\", \"example\", \"file\", \"window\", \"application\", \"system\", \"run\", \"c\", \"anything\", \"edit\", \"need\", \"work\", \".net\", \"app\", \"make\", \"user\", \"idea\", \"file\", \"like\", \"anyone\", \"thanks\", \"program\", \"option\", \"find\", \"create\", \"use\", \"see\", \"know\", \"want\", \"something\", \"answer\", \"way\", \"get\", \"code\", \"problem\", \"time\", \"question\", \"solution\", \"error\", \"javascript\", \"number\", \"function\", \"object\", \"example\", \"library\", \"get\", \"idea\", \"time\", \"way\", \"solution\", \"anyone\", \"need\", \"find\", \"problem\", \"create\", \"something\", \"thing\", \"know\", \"thanks\", \"like\", \"want\", \"work\", \"code\", \"use\", \"help\", \"make\", \"question\", \"method\", \"case\", \"data\", \"file\", \"value\", \"java\", \"class\", \"application\", \"see\", \"lot\", \"like\", \"object\", \"use\", \"know\", \"method\", \"something\", \"need\", \"code\", \"example\", \"create\", \"case\", \"question\", \"anyone\", \"way\", \"write\", \"web\", \"time\", \"option\", \"thing\", \"result\", \"string\", \"help\", \"point\", \"get\", \"make\", \"file\", \"problem\", \"data\", \"work\", \"type\", \"control\", \"user\", \"window\", \"form\", \"property\", \"add\", \"text\", \"version\", \"anything\", \"like\", \"need\", \"application\", \"solution\", \"want\", \"page\", \"idea\", \"change\", \"update\", \"edit\", \"set\", \"problem\", \"work\", \"option\", \"create\", \".net\", \"way\", \"issue\", \"make\", \"something\", \"thing\", \"code\", \"find\", \"thanks\", \"get\", \"file\", \"use\", \"know\", \"time\", \"data\", \"program\", \"c\", \"run\", \"window\", \"c++\", \"time\", \"thing\", \"write\", \"file\", \"something\", \"problem\", \"code\", \"make\", \"anything\", \"edit\", \"know\", \"data\", \"find\", \"use\", \"work\", \"function\", \"help\", \"error\", \"thanks\", \"library\", \"line\", \"example\", \"point\", \"anyone\", \"lot\", \"way\", \"question\", \"application\", \"like\", \"project\", \"file\", \"solution\", \"version\", \"library\", \"anyone\", \"add\", \"error\", \"create\", \"thing\", \"edit\", \".net\", \"run\", \"use\", \"change\", \"want\", \"like\", \"find\", \"option\", \"know\", \"application\", \"problem\", \"time\", \"thanks\", \"make\", \"class\", \"code\", \"help\", \"work\", \"anything\", \"web\", \"way\", \"get\", \"question\", \"something\", \"object\", \"class\", \"create\", \"method\", \"type\", \"case\", \"idea\", \"need\", \"example\", \"property\", \"way\", \"something\", \"data\", \"thing\", \"see\", \"use\", \"question\", \"return\", \"code\", \"problem\", \"access\", \"add\", \"make\", \"lot\", \"like\", \"point\", \"thanks\", \"get\", \"time\", \"issue\", \"answer\", \"list\", \"work\", \"error\", \"know\", \"value\", \"page\", \"web\", \"user\", \"http\", \"javascript\", \"see\", \"problem\", \"jquery\", \"idea\", \"work\", \"want\", \"anyone\", \"solution\", \"make\", \"update\", \"thing\", \"thanks\", \"anything\", \"case\", \"issue\", \"something\", \"part\", \"time\", \"get\", \"edit\", \"way\", \"need\", \"result\", \"example\", \"please\", \"find\", \"code\", \"application\", \"file\", \"use\", \"like\", \"error\", \"know\", \"system\", \"anything\", \"want\", \"time\", \"program\", \"lot\", \"window\", \"run\", \"application\", \"problem\", \"thing\", \"number\", \"anyone\", \"point\", \"need\", \"change\", \"work\", \"something\", \"part\", \"user\", \"write\", \"see\", \"use\", \"idea\", \"question\", \".net\", \"issue\", \"file\", \"data\", \"library\", \"project\", \"example\", \"code\", \"way\", \"like\", \"server\", \"make\", \"solution\", \"know\", \"help\", \"property\", \"class\", \"object\", \"value\", \"type\", \"change\", \"want\", \"see\", \"error\", \"get\", \"edit\", \"method\", \"like\", \"data\", \"problem\", \"example\", \"use\", \"thanks\", \"access\", \"code\", \"make\", \"create\", \"update\", \"way\", \"find\", \"idea\", \"call\", \"list\", \"work\", \"something\", \"question\", \"solution\", \"file\", \"application\", \"sql\", \"server\", \"database\", \"table\", \"query\", \"data\", \"value\", \"solution\", \"anything\", \".net\", \"use\", \"edit\", \"result\", \"time\", \"problem\", \"access\", \"work\", \"need\", \"create\", \"point\", \"anyone\", \"way\", \"want\", \"lot\", \"error\", \"find\", \"something\", \"thing\", \"make\", \"type\", \"question\", \"code\", \"get\", \"application\", \"thanks\", \"file\", \"like\", \"library\", \"want\", \"need\", \"anything\", \"project\", \"anyone\", \"application\", \"use\", \"c++\", \"thing\", \"like\", \"something\", \"case\", \"know\", \"lot\", \"option\", \"c\", \"file\", \"write\", \"way\", \"find\", \"create\", \"question\", \"see\", \"version\", \"work\", \"example\", \"class\", \"http\", \"java\", \"code\", \"thanks\", \"time\", \"problem\", \"solution\", \"window\", \"make\", \"text\", \"line\", \"list\", \"number\", \"edit\", \"string\", \"change\", \"data\", \"want\", \"user\", \"case\", \"thanks\", \"example\", \"file\", \"anything\", \"way\", \"see\", \"like\", \"result\", \"solution\", \"make\", \"get\", \"add\", \"property\", \"question\", \"something\", \"anyone\", \"value\", \"need\", \"use\", \"code\", \"work\", \"problem\", \"create\", \"method\", \"function\", \"call\", \"line\", \"something\", \"code\", \"case\", \"use\", \"need\", \"example\", \"work\", \"time\", \"thanks\", \"c++\", \"make\", \"class\", \"c\", \"create\", \"idea\", \"like\", \"write\", \"edit\", \"see\", \"string\", \"problem\", \"question\", \"way\", \"object\", \"point\", \"value\", \"know\", \"solution\", \"method\", \"get\", \"error\", \"string\", \"number\", \"case\", \"create\", \"value\", \"way\", \"example\", \"get\", \"something\", \"see\", \"like\", \"lot\", \"object\", \"function\", \"edit\", \"code\", \"type\", \"method\", \"thanks\", \"use\", \"find\", \"anyone\", \"problem\", \"result\", \"know\", \"work\", \"make\", \"idea\", \"help\", \"write\", \".net\", \"time\", \"question\", \"error\", \"file\", \"name\", \"class\", \".net\", \"something\", \"type\", \"property\", \"case\", \"method\", \"get\", \"want\", \"error\", \"create\", \"thing\", \"file\", \"see\", \"object\", \"example\", \"make\", \"change\", \"value\", \"use\", \"string\", \"know\", \"way\", \"work\", \"find\", \"need\", \"like\", \"problem\", \"number\", \"code\", \"application\", \"data\", \"question\", \"user\", \"list\", \"method\", \"class\", \"example\", \"use\", \"something\", \"way\", \"see\", \"code\", \"question\", \"want\", \"thing\", \"need\", \"work\", \"create\", \"time\", \"problem\", \"make\", \"case\", \"know\", \"error\", \"idea\", \".net\", \"edit\", \"thanks\", \"answer\", \"result\", \"find\", \"value\", \"get\", \"application\", \"database\", \"data\", \"application\", \"table\", \"user\", \"server\", \"need\", \"access\", \"use\", \"system\", \"name\", \"time\", \"idea\", \"thanks\", \"java\", \"want\", \"way\", \"solution\", \"query\", \"lot\", \"problem\", \"create\", \"file\", \"thing\", \"anything\", \"case\", \"run\", \"option\", \"web\", \"question\", \"anyone\", \"work\", \"make\", \"like\", \"get\", \"something\", \"method\", \"file\", \"create\", \"write\", \"way\", \"application\", \"idea\", \"name\", \"get\", \"list\", \"like\", \"user\", \"example\", \"use\", \"work\", \"change\", \"time\", \"know\", \"problem\", \"code\", \"data\", \"want\", \"case\", \"edit\", \"app\", \"question\", \"result\", \"server\", \"issue\", \"page\", \"anyone\", \"something\", \"class\", \"test\", \"run\", \"case\", \"class\", \"write\", \"method\", \"project\", \"code\", \"see\", \"anyone\", \"result\", \"time\", \"create\", \"something\", \"example\", \"problem\", \"way\", \"object\", \"lot\", \"thanks\", \"work\", \"thing\", \"edit\", \"error\", \"set\", \"data\", \"database\", \"point\", \"question\", \"call\", \"use\", \"get\", \"file\", \"know\", \"error\", \"file\", \"code\", \"problem\", \"idea\", \"help\", \"line\", \"thanks\", \"see\", \"get\", \"please\", \"anyone\", \"edit\", \"class\", \"type\", \"function\", \"time\", \"case\", \"application\", \"thing\", \"work\", \"http\", \"c++\", \"use\", \"know\", \"object\", \"app\", \"find\", \"method\", \"something\", \"way\", \"server\", \"question\", \"server\", \"web\", \"application\", \"http\", \"idea\", \"sql\", \"need\", \"anything\", \"issue\", \"anyone\", \"data\", \"file\", \"lot\", \"point\", \"run\", \"work\", \"problem\", \"help\", \"use\", \"error\", \"number\", \"time\", \"option\", \"access\", \"user\", \"thanks\", \"app\", \"thing\", \"page\", \"know\", \"window\", \"code\", \"way\", \"get\", \"question\", \"like\", \"database\", \"project\", \"http\", \"example\", \"see\", \"work\", \"get\", \"anyone\", \"web\", \"server\", \"data\", \"access\", \"idea\", \"problem\", \"use\", \"create\", \"make\", \"case\", \"issue\", \"page\", \"thanks\", \"like\", \"know\", \"find\", \"want\", \"thing\", \"code\", \"solution\", \"something\", \"anything\", \"question\", \"way\", \"edit\", \"application\", \"class\", \"error\", \"time\", \"file\", \"call\", \"method\", \"function\", \"case\", \"code\", \"object\", \"time\", \"something\", \"work\", \"class\", \"way\", \"get\", \"make\", \"anything\", \"question\", \".net\", \"like\", \"need\", \"thing\", \"issue\", \"update\", \"example\", \"result\", \"answer\", \"want\", \"access\", \"application\", \"know\", \"use\", \"create\", \"type\", \"data\", \"thanks\", \"problem\", \"value\", \"javascript\", \"edit\", \"data\", \"see\", \"case\", \"anything\", \"time\", \"get\", \"use\", \"like\", \"something\", \"example\", \"work\", \"function\", \"number\", \"code\", \"make\", \"problem\", \"need\", \"way\", \"idea\", \"point\", \"know\", \"set\", \"type\", \"question\", \"string\", \"name\", \"thanks\", \"help\", \"database\", \"method\", \"list\", \"line\", \"file\", \"code\", \"something\", \"find\", \"need\", \"work\", \"case\", \"thanks\", \"like\", \"make\", \"see\", \"string\", \"example\", \"problem\", \"help\", \"data\", \"error\", \"edit\", \"text\", \"way\", \"part\", \"thing\", \"question\", \"want\", \"idea\", \"solution\", \"method\", \"program\", \"use\", \"time\", \"value\", \"get\", \"know\", \"app\", \"time\", \"anything\", \"application\", \"run\", \"thanks\", \"see\", \"work\", \"idea\", \"thing\", \"anyone\", \"data\", \"user\", \"help\", \"test\", \"need\", \"make\", \"edit\", \"problem\", \"point\", \"issue\", \"way\", \"code\", \"update\", \"use\", \"version\", \"like\", \"question\", \"project\", \"c\", \"file\", \"something\", \"error\", \"know\", \"server\", \"get\", \"change\", \"update\", \"want\", \"see\", \"application\", \"edit\", \"need\", \"problem\", \"value\", \"idea\", \"help\", \"lot\", \"code\", \"time\", \"make\", \"way\", \"create\", \"option\", \"question\", \"like\", \"data\", \"something\", \"file\", \"example\", \"user\", \"find\", \"thing\", \"work\", \"server\", \"anything\", \"thanks\", \"get\", \"use\", \"class\", \"user\", \"application\", \"time\", \"data\", \"idea\", \"thanks\", \"need\", \"server\", \"like\", \"problem\", \"app\", \"access\", \"get\", \"way\", \"use\", \"help\", \"edit\", \"make\", \"anything\", \"case\", \"page\", \"something\", \"know\", \"web\", \"thing\", \"example\", \"see\", \"system\", \"question\", \"form\", \"database\", \"work\", \"code\", \"file\", \"c++\", \"class\", \"thing\", \"code\", \"write\", \"lot\", \"example\", \"function\", \"question\", \"program\", \"library\", \"use\", \"thanks\", \"problem\", \"solution\", \"case\", \"time\", \"java\", \"make\", \"point\", \"something\", \"way\", \"want\", \"anything\", \"need\", \"answer\", \"edit\", \"like\", \"change\", \"file\", \"project\", \"find\", \"object\", \"data\", \"get\", \"application\", \"work\", \"c\", \"function\", \"code\", \"example\", \"library\", \"anything\", \"edit\", \"idea\", \"something\", \"use\", \"result\", \"time\", \"anyone\", \"need\", \"know\", \"error\", \"thanks\", \"program\", \"return\", \"question\", \"make\", \"create\", \"way\", \"thing\", \"get\", \".net\", \"like\", \"line\", \"help\", \"issue\", \"class\", \"data\", \"application\", \"file\", \"work\", \"problem\", \"object\", \"method\", \"value\", \"list\", \"case\", \"anything\", \"class\", \"idea\", \"way\", \"like\", \"object\", \"something\", \"c\", \"get\", \"thanks\", \"test\", \"create\", \"example\", \"see\", \"data\", \"use\", \"type\", \"solution\", \"name\", \"make\", \"code\", \"work\", \"time\", \"need\", \"question\", \"find\", \"method\", \"write\", \"problem\", \"value\", \"web\", \"app\", \"application\", \"thing\", \"use\", \"thanks\", \"way\", \"user\", \"make\", \"like\", \"something\", \"edit\", \"create\", \"anyone\", \"example\", \"http\", \"want\", \"help\", \"work\", \"access\", \"anything\", \"get\", \"idea\", \"data\", \"point\", \"question\", \"know\", \"find\", \"see\", \"page\", \"problem\", \"file\", \"database\", \"return\", \"value\", \"function\", \"type\", \"method\", \"call\", \"result\", \"case\", \"string\", \"data\", \"edit\", \"object\", \"get\", \"help\", \"make\", \"work\", \"error\", \"problem\", \"example\", \"something\", \"code\", \"issue\", \"anything\", \"way\", \"idea\", \"thanks\", \"question\", \"use\", \"change\", \"part\", \"class\", \"application\", \"time\", \"file\", \".net\", \"see\", \"library\", \"application\", \"make\", \"time\", \"way\", \"use\", \"something\", \"question\", \"work\", \"thing\", \"like\", \"code\", \"answer\", \"problem\", \"class\", \"web\", \"object\", \"part\", \"find\", \"edit\", \"example\", \"version\", \"method\", \"c\", \"lot\", \"project\", \"solution\", \"call\", \"data\", \"know\", \"get\", \"file\", \"type\", \"case\", \"class\", \"object\", \"method\", \"need\", \"data\", \"use\", \"see\", \"thing\", \"example\", \"error\", \"idea\", \"something\", \"create\", \"code\", \"anything\", \"work\", \"like\", \"edit\", \"question\", \"way\", \"answer\", \"number\", \"name\", \"problem\", \"add\", \"anyone\", \"get\", \"list\", \"thanks\", \"time\", \"make\", \"string\", \"function\", \"set\", \"anything\", \"thanks\", \"work\", \"like\", \"value\", \"see\", \"use\", \"need\", \"help\", \"code\", \"way\", \"something\", \"case\", \"time\", \"create\", \"anyone\", \"error\", \"example\", \"project\", \"get\", \"problem\", \"idea\", \"want\", \"data\", \"question\", \"make\", \"point\", \"edit\", \"find\", \"application\", \"file\", \"object\", \"know\", \"access\", \"data\", \"application\", \"web\", \"database\", \"user\", \"app\", \"want\", \"class\", \"case\", \"anyone\", \"create\", \"example\", \"use\", \"update\", \"file\", \"lot\", \"like\", \"way\", \"question\", \"idea\", \"know\", \"thanks\", \"time\", \"make\", \"part\", \"thing\", \"code\", \"server\", \"solution\", \"value\", \"problem\", \"get\", \"method\", \"run\", \"time\", \"application\", \"idea\", \"code\", \"solution\", \"create\", \"like\", \"window\", \"want\", \"problem\", \"line\", \"need\", \"error\", \"lot\", \"see\", \"case\", \"app\", \"thing\", \"program\", \"get\", \"server\", \"user\", \"project\", \"result\", \"way\", \"work\", \"web\", \"library\", \"write\", \"thanks\", \"make\", \"use\", \"file\", \"option\", \"form\", \"want\", \"application\", \"data\", \"like\", \"web\", \"edit\", \"anything\", \"create\", \"way\", \"need\", \"time\", \"use\", \"page\", \"lot\", \"something\", \"user\", \"solution\", \"case\", \"make\", \"question\", \"help\", \"c++\", \"version\", \"set\", \"issue\", \"see\", \"code\", \"app\", \"know\", \"file\", \"work\", \"problem\", \"value\", \"thanks\", \"server\", \"add\", \"create\", \"help\", \"anything\", \"need\", \"please\", \"see\", \"anyone\", \"something\", \"project\", \"file\", \"thing\", \"way\", \"edit\", \"know\", \"code\", \"thanks\", \"property\", \"work\", \"make\", \"example\", \"answer\", \"app\", \"use\", \"update\", \"like\", \"find\", \"problem\", \"idea\", \"line\", \"application\", \"get\", \"method\", \"value\", \"object\", \"form\", \"window\", \"user\", \"data\", \"control\", \"change\", \"application\", \"text\", \"update\", \"create\", \"something\", \"work\", \"way\", \"code\", \"object\", \"page\", \"see\", \"javascript\", \"idea\", \"problem\", \"get\", \"need\", \"make\", \"example\", \"thanks\", \"like\", \"solution\", \"file\", \"write\", \"function\", \"use\", \"method\", \"question\", \"issue\", \"error\", \"anyone\", \"problem\", \"edit\", \"help\", \"application\", \"thing\", \"question\", \"see\", \"version\", \"time\", \"code\", \"idea\", \"case\", \"http\", \"something\", \"update\", \"anything\", \"change\", \"answer\", \"work\", \"find\", \".net\", \"data\", \"number\", \"know\", \"server\", \"test\", \"get\", \"way\", \"file\", \"class\", \"use\", \"find\", \"anything\", \"edit\", \"anyone\", \"help\", \"thanks\", \"something\", \"way\", \"time\", \"example\", \"problem\", \"code\", \"know\", \"case\", \"use\", \"like\", \"thing\", \"see\", \"work\", \"question\", \"application\", \"answer\", \"idea\", \"solution\", \"lot\", \"make\", \"get\", \"method\", \"point\", \"object\", \"file\", \"write\", \"need\", \"lot\", \"code\", \"application\", \"something\", \"anyone\", \"data\", \"create\", \"make\", \"web\", \"time\", \"case\", \"like\", \"way\", \"help\", \"use\", \"anything\", \"idea\", \"example\", \"object\", \"know\", \"question\", \"class\", \"thanks\", \"method\", \"edit\", \"file\", \".net\", \"update\", \"solution\", \"project\", \"get\", \"point\", \"return\", \"case\", \"time\", \"result\", \"idea\", \"make\", \"use\", \"thing\", \"anything\", \"set\", \"problem\", \"function\", \"find\", \"thanks\", \"anyone\", \"answer\", \"value\", \"see\", \"method\", \"call\", \"know\", \"code\", \"example\", \"data\", \"want\", \"something\", \"way\", \"edit\", \"solution\", \"error\", \"type\", \"class\", \"question\", \"object\", \"version\", \"edit\", \"want\", \"anyone\", \"like\", \"http\", \"number\", \"thing\", \"see\", \"need\", \"get\", \"add\", \"library\", \"point\", \"know\", \"code\", \"work\", \"list\", \"create\", \"example\", \"class\", \"use\", \"find\", \"problem\", \"file\", \"question\", \"idea\", \"way\", \"value\", \"make\", \"application\", \"data\", \"result\", \"number\", \"return\", \"value\", \"edit\", \"see\", \"idea\", \"code\", \"method\", \"problem\", \"get\", \"answer\", \"like\", \"example\", \"type\", \"case\", \".net\", \"data\", \"time\", \"way\", \"test\", \"work\", \"string\", \"something\", \"help\", \"know\", \"use\", \"question\", \"thing\", \"change\", \"make\", \"thanks\", \"answer\", \"question\", \"edit\", \"case\", \"example\", \"use\", \"code\", \"problem\", \"need\", \"way\", \"work\", \"idea\", \"anything\", \"like\", \"something\", \"application\", \"make\", \"see\", \"http\", \"get\", \"data\", \"result\", \"window\", \"library\", \"value\", \"change\", \"page\", \"line\", \"type\", \"add\", \"string\", \"function\", \"lot\", \"thing\", \"time\", \"like\", \"example\", \"anything\", \"know\", \"answer\", \"work\", \"help\", \"question\", \"edit\", \"make\", \"way\", \"problem\", \"application\", \"see\", \"user\", \"thanks\", \"data\", \"point\", \"use\", \"server\", \"code\", \"idea\", \"something\", \"number\", \"anyone\", \"system\", \"issue\", \"find\", \"get\", \".net\", \"get\", \"work\", \"help\", \"way\", \"anything\", \"see\", \"thanks\", \"problem\", \"code\", \"use\", \"example\", \"like\", \"thing\", \"something\", \"application\", \"time\", \"method\", \"need\", \"data\", \"find\", \"anyone\", \"idea\", \"create\", \"know\", \"text\", \"make\", \"case\", \"result\", \"value\", \"answer\", \"user\", \"question\", \"file\", \"make\", \"anyone\", \"know\", \"need\", \"work\", \"thanks\", \"example\", \"use\", \"case\", \"anything\", \"application\", \"way\", \"code\", \"error\", \"problem\", \"idea\", \"edit\", \"something\", \"create\", \"method\", \"solution\", \"app\", \"time\", \"like\", \"help\", \"library\", \"http\", \"get\", \"question\", \"test\", \"file\", \"data\", \"know\", \"like\", \"example\", \"use\", \"way\", \"thanks\", \"thing\", \"database\", \"case\", \"edit\", \"application\", \"sql\", \"server\", \"something\", \"code\", \"create\", \"update\", \"make\", \"option\", \"write\", \"work\", \"time\", \"data\", \"table\", \"want\", \"question\", \"anyone\", \"change\", \"set\", \"project\", \"value\", \"update\", \"option\", \"work\", \"http\", \"need\", \"thing\", \"problem\", \"idea\", \"page\", \"anyone\", \"change\", \"solution\", \"library\", \"help\", \"set\", \"version\", \"get\", \"create\", \"case\", \"example\", \"add\", \"make\", \"like\", \"call\", \"error\", \"method\", \"anything\", \"use\", \"something\", \"application\", \"data\", \"file\", \"way\", \"code\", \"time\", \"solution\", \"question\", \"problem\", \"lot\", \"thanks\", \"work\", \"create\", \"edit\", \"code\", \"way\", \"use\", \"example\", \"answer\", \"idea\", \"time\", \"text\", \"like\", \"make\", \"write\", \"app\", \"application\", \"something\", \"data\", \"value\", \"want\", \"set\", \"thing\", \"result\", \"find\", \"change\", \"get\", \"file\", \"please\", \"point\", \"know\", \"anyone\", \"thanks\", \"project\", \".net\", \"use\", \"idea\", \"question\", \"application\", \"code\", \"class\", \"c\", \"edit\", \"like\", \"work\", \"set\", \"solution\", \"problem\", \"time\", \"lot\", \"error\", \"example\", \"issue\", \"window\", \"way\", \"get\", \"thing\", \"see\", \"something\", \"help\", \"please\", \"thanks\", \"create\", \"code\", \"problem\", \"value\", \"edit\", \"know\", \"need\", \"class\", \"case\", \"get\", \"use\", \"lot\", \"work\", \"test\", \"example\", \"file\", \"find\", \"type\", \"something\", \"like\", \"c\", \"method\", \"time\", \"system\", \"write\", \"add\", \"make\", \"way\", \"data\", \"object\", \"type\", \"data\", \"value\", \"c++\", \"c\", \"code\", \"function\", \"example\", \"return\", \"class\", \"anyone\", \"version\", \"result\", \"something\", \"know\", \"use\", \"problem\", \"string\", \"library\", \"program\", \"case\", \"way\", \"edit\", \"question\", \"option\", \"make\", \"property\", \"add\", \"help\", \"system\", \"method\", \"object\", \"get\", \"part\", \"time\", \"answer\", \"work\", \"question\", \"solution\", \"example\", \"want\", \"thanks\", \"thing\", \"need\", \"set\", \"problem\", \"edit\", \"way\", \"use\", \"make\", \"something\", \"code\", \"find\", \"get\", \"know\", \"type\", \"class\", \"object\", \"idea\", \"see\", \"function\", \"web\", \"value\", \"application\", \"create\", \"http\", \"question\", \"answer\", \"thanks\", \"thing\", \"example\", \"way\", \"use\", \"application\", \"something\", \"like\", \"work\", \"edit\", \"anything\", \"idea\", \"make\", \"case\", \"problem\", \"anyone\", \"code\", \"c++\", \"time\", \"see\", \"get\", \"know\", \"method\", \"issue\", \"solution\", \"help\", \"class\", \"file\", \"part\", \"app\", \"data\", \"help\", \"option\", \"create\", \"way\", \"result\", \"code\", \"file\", \"like\", \"anything\", \"idea\", \"something\", \"get\", \"project\", \"anyone\", \"write\", \"edit\", \"library\", \"thanks\", \"use\", \"case\", \"work\", \"method\", \"need\", \"object\", \"access\", \"http\", \"update\", \"answer\", \"time\", \"question\", \"test\", \"version\", \"project\", \"like\", \"solution\", \"idea\", \"make\", \"run\", \"option\", \"library\", \"find\", \"update\", \"want\", \"application\", \"add\", \"problem\", \"part\", \"error\", \"point\", \"issue\", \"window\", \"code\", \"create\", \"http\", \"edit\", \"method\", \"file\", \"get\", \"thing\", \"web\", \"way\", \"class\", \"use\", \"server\", \"something\", \"user\", \"list\", \".net\", \"value\", \"string\", \"number\", \"object\", \"edit\", \"way\", \"result\", \"example\", \"need\", \"get\", \"like\", \"something\", \"data\", \"method\", \"anyone\", \"case\", \"name\", \"answer\", \"find\", \"program\", \"return\", \"time\", \"type\", \"lot\", \"know\", \"see\", \"set\", \"function\", \"work\", \"use\", \"code\", \"solution\", \"question\", \"problem\", \"thanks\", \"property\", \"object\", \"set\", \"update\", \"need\", \"value\", \"database\", \"add\", \"data\", \"anyone\", \"change\", \"method\", \"idea\", \"list\", \"class\", \"form\", \"thing\", \"create\", \"problem\", \"make\", \"case\", \"name\", \"way\", \"time\", \"something\", \"type\", \"access\", \"see\", \"work\", \"issue\", \"example\", \"code\", \"know\", \"get\", \"use\", \"error\", \"web\", \"need\", \"javascript\", \"application\", \"lot\", \".net\", \"anyone\", \"call\", \"app\", \"part\", \"something\", \"time\", \"option\", \"user\", \"get\", \"page\", \"example\", \"run\", \"make\", \"server\", \"add\", \"data\", \"access\", \"thanks\", \"http\", \"work\", \"library\", \"question\", \"use\", \"update\", \"solution\", \"window\", \"code\", \"way\", \"problem\", \"idea\", \"method\", \"string\", \"anything\", \"text\", \"class\", \"c\", \"data\", \"idea\", \"example\", \".net\", \"need\", \"database\", \"something\", \"work\", \"way\", \"see\", \"use\", \"part\", \"file\", \"point\", \"answer\", \"case\", \"thing\", \"problem\", \"thanks\", \"make\", \"like\", \"return\", \"result\", \"solution\", \"version\", \"code\", \"method\", \"question\", \"know\", \"get\", \"value\", \"object\", \"c++\", \"c\", \"create\", \"anything\", \"access\", \"program\", \"function\", \"application\", \"database\", \"window\", \"solution\", \"edit\", \"answer\", \"use\", \"call\", \"case\", \"something\", \"need\", \"library\", \"value\", \"code\", \"class\", \"want\", \"like\", \"write\", \"thanks\", \"data\", \"part\", \"see\", \"problem\", \"get\", \"question\", \"way\", \"know\", \"line\", \"table\", \"database\", \"version\", \"sql\", \"name\", \"type\", \"thing\", \"create\", \"time\", \"data\", \"anything\", \"idea\", \"number\", \"user\", \"problem\", \"server\", \"class\", \"want\", \"web\", \"text\", \"file\", \"change\", \"way\", \"solution\", \"application\", \"edit\", \"need\", \"example\", \"see\", \"http\", \"know\", \"work\", \"get\", \"code\", \"string\", \"use\", \"program\", \"option\", \"change\", \"system\", \"server\", \".net\", \"window\", \"idea\", \"number\", \"find\", \"need\", \"application\", \"update\", \"work\", \"answer\", \"anything\", \"issue\", \"run\", \"thing\", \"solution\", \"lot\", \"edit\", \"access\", \"part\", \"file\", \"like\", \"question\", \"jquery\", \"type\", \"something\", \"problem\", \"way\", \"code\", \"data\", \"thanks\", \"method\", \"use\", \"version\", \"error\", \"anything\", \"server\", \"run\", \"text\", \"time\", \"program\", \"result\", \"see\", \"number\", \"set\", \"view\", \"idea\", \"data\", \"library\", \"problem\", \"option\", \"line\", \"code\", \"help\", \"system\", \"string\", \"anyone\", \"edit\", \"project\", \"point\", \"sql\", \"work\", \"issue\", \"user\", \"get\", \"file\", \"use\", \"application\", \"window\", \"page\", \"add\", \"error\", \"anyone\", \"web\", \"find\", \"version\", \"project\", \"thanks\", \"server\", \"part\", \"update\", \"idea\", \"time\", \".net\", \"problem\", \"create\", \"issue\", \"solution\", \"see\", \"run\", \"edit\", \"point\", \"list\", \"line\", \"need\", \"want\", \"method\", \"code\", \"result\", \"user\", \"way\", \"object\", \"data\", \"work\", \"get\", \"file\", \"application\", \"view\", \"form\", \"window\", \"need\", \"anything\", \"server\", \".net\", \"file\", \"result\", \"point\", \"write\", \"option\", \"time\", \"please\", \"system\", \"find\", \"page\", \"http\", \"update\", \"application\", \"user\", \"want\", \"jquery\", \"thanks\", \"thing\", \"library\", \"edit\", \"help\", \"issue\", \"access\", \"problem\", \"code\", \"way\", \"get\", \"like\", \"something\", \"data\", \"example\", \"form\", \"want\", \"program\", \"application\", \"string\", \"thing\", \"server\", \"create\", \"update\", \"control\", \"solution\", \"get\", \"edit\", \"answer\", \"access\", \"jquery\", \"version\", \"use\", \"work\", \"project\", \"time\", \"see\", \"run\", \"problem\", \"c\", \"something\", \"return\", \"issue\", \"way\", \"method\", \"question\", \"class\", \"data\", \"thanks\", \"value\", \"know\", \"code\", \"app\", \"result\", \"library\", \"sql\", \"need\", \"solution\", \"like\", \"data\", \"name\", \"add\", \"edit\", \"thing\", \"answer\", \"form\", \"jquery\", \"write\", \"server\", \"table\", \"http\", \"idea\", \"time\", \"make\", \"access\", \"value\", \"application\", \"window\", \"something\", \"call\", \"work\", \"example\", \"project\", \"user\", \"code\", \"use\", \"way\", \"get\", \"problem\", \"file\", \"anything\", \"project\", \"http\", \"add\", \"please\", \"c++\", \"question\", \"issue\", \"program\", \"run\", \"object\", \"want\", \"help\", \"class\", \"number\", \"java\", \"point\", \"name\", \"see\", \"case\", \"c\", \"window\", \"table\", \"problem\", \"option\", \"error\", \"access\", \"code\", \"value\", \".net\", \"use\", \"like\", \"application\", \"file\", \"user\", \"app\", \"data\", \"know\", \"example\", \"java\", \"list\", \"write\", \"need\", \"c\", \"method\", \".net\", \"thing\", \"help\", \"return\", \"line\", \"app\", \"lot\", \"make\", \"type\", \"answer\", \"data\", \"form\", \"work\", \"file\", \"point\", \"question\", \"run\", \"object\", \"case\", \"use\", \"class\", \"code\", \"result\", \"time\", \"anyone\", \"something\", \"like\", \"example\", \"application\"], \"Freq\": [602.0, 579.0, 637.0, 1300.0, 461.0, 459.0, 630.0, 518.0, 381.0, 548.0, 444.0, 425.0, 399.0, 679.0, 533.0, 495.0, 403.0, 428.0, 584.0, 509.0, 419.0, 596.0, 499.0, 700.0, 752.0, 560.0, 726.0, 671.0, 733.0, 603.0, 361.4108900607071, 57.78310428676905, 37.15108651038412, 18.97449008448306, 19.46224342895635, 28.00348936131524, 24.755078557270565, 17.486027721804664, 18.069943296553653, 20.8858657792222, 13.979059029694577, 26.021832699957855, 16.949368587949802, 31.13435090907967, 18.155241391569767, 17.929041303679313, 11.789175676428062, 20.336701455757815, 18.678214013658508, 22.403538909329402, 15.291658425022735, 11.254764253838056, 11.279496187012171, 12.56471544954737, 9.051572364500462, 23.294926455662885, 6.891794953075296, 14.478449049092552, 21.697172243032536, 7.310031576457926, 15.672848690784427, 15.388429681966935, 14.522958945594521, 18.931368863575404, 13.30803368332222, 12.827038876041724, 13.123806670732865, 310.0690013356164, 61.67337456644955, 52.449677447494594, 37.530651425666925, 43.54035450371068, 14.706022842097344, 12.387631584808533, 13.57487052015324, 30.144961146439375, 22.063864765165217, 24.48955548573966, 21.107982836291065, 12.342688913828377, 10.014463606515665, 9.432324863798826, 9.91145634080701, 18.36287332150001, 16.31082283567379, 8.887145129332524, 10.812920783381175, 10.429609687544742, 10.116053647507655, 9.575221419620025, 8.575561046870671, 20.540521240736528, 15.651338013578624, 13.095936184141191, 19.273798341433178, 16.584992295138477, 9.698413732877462, 13.029918045446374, 12.873676139414544, 12.660506485065264, 12.25084092372876, 11.854447332343211, 11.268848765144188, 12.756930336730743, 11.914604907314017, 10.63087093049967, 342.20127463777413, 61.52000867877373, 63.59379638007714, 28.145653009974836, 28.694076021275603, 13.94944393891454, 17.10677415186869, 11.598263250253245, 10.83093161802647, 13.395091417236202, 19.925075203372153, 12.051815155300227, 9.77760682387273, 9.74902753766147, 7.118440265624885, 16.943323144624184, 15.717937630570457, 16.868460824059152, 23.251891912686144, 11.281535194589019, 17.089774102544894, 5.762249964599383, 7.495884070044488, 15.050495197830317, 6.876009663853439, 12.226591050461579, 13.217961734309238, 9.078398324276941, 12.761531446744744, 11.963083397324777, 15.823157560566331, 15.764041560857416, 9.999444697110377, 10.641002882940448, 11.105997312303185, 10.385002763586439, 10.309224786727174, 363.47383417904473, 18.90058519033509, 19.546502467278984, 15.308678746721414, 20.718971936603086, 12.613719878640465, 12.842866511316254, 9.611915793218486, 11.385907372831438, 17.025276765199752, 21.963873824735472, 6.6557826670206435, 14.248899592321123, 15.805237739981264, 11.06518539593764, 15.877790896256652, 8.983742899357006, 10.554027230613501, 11.936525560842645, 8.879525336187388, 16.418861769056416, 16.540538976115187, 9.040254070836184, 24.598952946004975, 11.929156550766914, 17.896745716736337, 5.914763505673672, 7.101113256060001, 14.67146362271922, 17.58352053040429, 17.915582773896066, 12.982188493047072, 12.448930340514657, 13.20570775361014, 13.165836217389352, 13.067709859435254, 11.389769965633286, 11.793554289168533, 365.9310442549854, 65.08024434174712, 11.319746954827796, 11.9827899904362, 13.611671982245568, 8.414924789322043, 12.678077805778223, 10.802448714173266, 20.654510097580204, 13.310294137153358, 15.041390422207856, 14.540368155375711, 17.190295911186965, 10.938782198367015, 30.404869461382965, 15.136889220194222, 11.520088147228803, 14.516585704389176, 8.497322336145984, 7.1822835146921316, 10.935807674601223, 10.784363099366349, 19.50272856748423, 8.629254388769434, 12.575086269767501, 5.107121386516299, 12.090570598032885, 8.160402808452725, 17.93817224683168, 15.328016356627888, 20.031408704092453, 12.911543082859781, 12.070289664960024, 11.714223173910622, 9.653890975093665, 9.08033978927948, 282.03674305929104, 191.72873746935977, 21.857387532659477, 20.43586036810646, 18.123355901708106, 9.926446416640136, 21.259050974547808, 11.197460147340179, 17.438779657620028, 24.038149137959866, 13.968257201087297, 11.714213262860186, 8.616970063512584, 11.938634422245597, 16.88697426372556, 11.619595270319069, 14.169782150871862, 9.524107901160013, 13.912223000791048, 13.88609820186319, 13.970757794334217, 5.7599000998068774, 15.084644564375834, 21.898624357598905, 18.509354081011995, 9.292047180225396, 10.639142852938688, 12.94540609656718, 15.05759828853049, 7.209427263928957, 13.465507994055608, 15.99780571455707, 10.128849847600543, 391.00228012171, 32.09254855096692, 29.619042112137382, 13.38472437632941, 10.550284734011129, 18.7645902511528, 21.23697889531844, 26.170199225739253, 16.947806454551554, 21.899733011335528, 16.01172172252972, 9.190409606828842, 26.58173235789861, 17.012363425200103, 12.40294281322892, 10.069309810804578, 15.770024118338517, 11.14143650234152, 21.36317425743289, 7.002408799635312, 8.809254131890626, 13.656423512342801, 6.368536015882667, 8.41035342617378, 9.295590044479152, 11.732267938810402, 9.02014119796676, 6.4749708461678415, 13.802747836025134, 9.372546647845027, 19.45565670154819, 11.982713584889222, 12.898982953501884, 10.532847329645964, 9.282187090045444, 276.1450093835753, 26.922737832274027, 20.31980331094043, 16.01287511300664, 15.024021994851655, 10.305549306774331, 11.706916590068989, 12.24696673723552, 7.9968726899317835, 17.63434818361056, 10.288071436809618, 23.331790326012324, 14.941395627885855, 6.549878972143988, 13.151788313601527, 10.815546170670016, 10.537907914925258, 7.942894431413654, 9.388935078229213, 8.875582303901675, 15.716364249289018, 15.159331506470874, 6.883822421757207, 10.827018127987388, 10.0604577842905, 19.65025316291924, 8.093297475164604, 11.359889644018095, 12.638690766841467, 8.558563098656055, 19.80701412462435, 10.096912630378345, 11.604363496812603, 14.271868251097452, 18.99370918402439, 14.99752387029954, 11.331644776151013, 11.518592802119587, 11.014183429468797, 272.29268337722664, 23.32583742724663, 16.587332326641363, 24.388714618586032, 18.863948143459, 21.656652031853813, 12.996234027453125, 10.096736970328905, 36.33183257729505, 16.902339284930694, 19.68160005734172, 27.18404062840745, 13.79895918531674, 6.6971032308987715, 10.01125599253307, 14.482131147301931, 18.66212249948352, 11.306757460152259, 20.332730093058785, 15.24753851156113, 14.349086043380092, 10.207038649568128, 14.663900544100898, 13.003459770061161, 7.842142636422743, 9.44151563005648, 13.379617635969188, 6.810985705180591, 9.030131704211364, 6.302496996890259, 16.163486547344945, 11.861637026245907, 14.01808522865649, 9.113567029729522, 300.7154269586936, 53.5148715150325, 22.62603110940773, 15.95934486125611, 13.823916741198682, 14.004890496861304, 9.722658702079178, 19.295973479967564, 14.027609342746064, 10.898014385047809, 10.537013268249362, 11.72716622397552, 8.116735631143941, 21.69855013383551, 10.043180840097467, 5.898510984992367, 14.239552425367023, 11.493416634132943, 7.083664450313469, 13.768046304460935, 19.033994267776897, 15.095577029338305, 14.03135548774797, 12.491801021625198, 11.013582062149652, 17.36321538934097, 19.269442169767466, 8.680283997022682, 12.591760358690394, 4.886729648083609, 7.225399129495009, 14.074238093536527, 11.860646389152262, 10.167091307587524, 9.353474319727525, 296.04529799378383, 86.20639886279227, 25.73613414435538, 23.870807235291196, 16.97913487758478, 11.780018591613535, 12.087477354988765, 9.847905930902977, 18.328397135348315, 12.40253291591353, 23.71714542191105, 15.354013743195193, 18.51515063771705, 9.35842344668183, 9.15694181977659, 20.045455330187963, 14.467210179648674, 7.0094545165747695, 20.002743327409174, 13.306903356156095, 6.895387289748428, 6.24058635505145, 9.954908515803966, 5.950946193439305, 10.848328474007333, 6.049837490083562, 10.27388657154532, 12.9612115297037, 10.863266811055965, 6.104317860557968, 6.532362646750045, 8.350271619150549, 9.643742769599367, 8.776341467623668, 7.91710577352443, 8.18204596496186, 359.0248627739657, 23.794785274057762, 33.48816155545205, 23.685762866014787, 14.319192259589784, 12.381732858171036, 21.598884788846778, 10.717991626959055, 12.148651580897424, 18.241528181408817, 6.607810662771821, 11.780107019202369, 13.393207102124991, 12.857994697602464, 7.828916122261397, 9.359662221288398, 13.706838545923246, 6.191897368689762, 8.939679658197619, 8.378172844826022, 12.482100604521547, 7.445621059793219, 13.213538522402382, 15.327680483971191, 7.902509081139635, 17.302798605225334, 6.559094080382143, 7.9754263713554705, 10.940930899652388, 5.717203516470371, 8.012573326668505, 14.277608558698734, 11.61428310833, 12.830099607896402, 10.615541949297816, 8.784085806789273, 8.63621724572614, 8.069833412357802, 219.80588352740315, 9.109996342361526, 8.00239331653109, 21.17665025296366, 11.519132343002882, 10.275199352680712, 16.550071804780483, 9.349596807767838, 23.84970438077542, 19.45950577981249, 11.145000395096732, 9.545377268113176, 12.215719798437636, 8.641200418984177, 8.475532825394172, 9.924573408320517, 15.835495193645693, 13.98599233147187, 8.359895809683827, 15.139361260911885, 7.330829388020218, 9.018720346226072, 19.834457190342718, 9.029303987841832, 14.176668710330082, 9.913237942265523, 7.962253522450641, 25.166089140097043, 16.904577406050873, 7.452391682154199, 10.461512201460229, 12.995085119091463, 18.569546824000323, 15.848667296566086, 11.639700876113375, 11.46350167028057, 10.032801441321721, 10.034512340535807, 10.070555688652073, 9.311141031058778, 365.35511614239226, 55.673210482467496, 39.89037799243725, 34.55180154138125, 21.566164883951068, 13.735673397569796, 6.754105448481076, 9.277985866671207, 15.17248762151028, 16.57578866330349, 8.68290909096239, 16.547911211178437, 12.259513160228156, 16.155229243068515, 13.294667497619079, 12.411671044811415, 16.502011368511475, 10.921511500509206, 6.53893532403772, 18.19044024658102, 9.333280868047432, 8.309082287429455, 5.606500165540055, 14.80102944576564, 7.683438609023286, 6.198223660554349, 6.51896367910735, 7.967109943990318, 9.616088711904322, 8.409580024519101, 8.855794175197394, 6.827292292830191, 8.28214085284178, 6.769626103909416, 286.2572521669267, 118.42059658229556, 54.30145601806611, 23.276938866365857, 13.58976020028511, 26.888898312124752, 17.50880313568628, 13.358821191144042, 6.178393370800174, 10.489258975763567, 19.388048439306058, 8.899110189775797, 9.05068218340481, 13.042457852788328, 13.049039528427915, 6.574639177542901, 11.766502836429908, 6.064771860240601, 8.319728431091507, 5.716025354106043, 7.71622941723387, 14.370401912780169, 3.883981109636742, 4.9645476683073735, 10.027059382766026, 7.231116565161036, 8.544060310130025, 5.5220101646949935, 6.974093943582896, 7.515589703837249, 8.498327125010293, 11.034853328795672, 8.990422136273299, 8.629304761139748, 6.79666657920136, 7.362002565223833, 6.643186349332379, 231.8947026354152, 85.60110394591861, 17.071794464456094, 12.354234998584195, 18.36417595004825, 15.46935244300154, 27.16803781156975, 27.3184433488635, 12.668757398561223, 12.077790282683525, 17.472172969851034, 16.00781461532348, 10.402345038903242, 15.517282703445092, 8.318590877635305, 7.537912255361261, 8.163995768694754, 24.472937860756836, 6.679497102442166, 18.104339378159054, 9.704629944740859, 9.58518007420285, 12.695706718508335, 7.4133558407224776, 7.37983672275867, 11.954939725218605, 11.35687519165134, 14.443597027468448, 8.746430205650576, 8.21143573304358, 16.971984430390716, 10.010476309325407, 10.370775229634383, 10.79145860980345, 9.048373711529532, 8.637210388576909, 8.50837787945108, 318.02224011869504, 17.840161763327906, 17.570623343049963, 11.320215849330898, 10.229975032345207, 14.373856804993638, 10.301833441984783, 19.627572631787157, 5.887774074046988, 14.99137892188577, 8.973742987951994, 13.19992947657802, 14.373779431176466, 25.225891255792337, 5.739369410670893, 19.110940926369274, 8.378963727190024, 12.091375454495283, 8.62459616102096, 10.278616250714563, 9.746333167714315, 14.343645693466838, 6.0242905027204765, 8.539821370032112, 11.700945491004036, 10.486261504392878, 8.099246444855158, 11.486732714083344, 5.8812498633218295, 14.837672469993864, 16.316143142799902, 10.760895663347421, 11.037223636082237, 7.997038155429722, 9.911037634901472, 351.0069236849826, 20.65207858589501, 15.444457947299636, 18.303080872599182, 31.426830188857526, 11.23355239013349, 25.124460932456444, 9.59255656132358, 17.718926622143645, 17.24473181114191, 16.630389860108064, 14.237583348224668, 9.621100336280083, 12.035123246392201, 18.564102853598094, 8.6294071664712, 10.556205418487615, 8.533526941120462, 11.70100528685223, 6.0399377828355805, 7.65615027520265, 7.353549710607119, 10.671133019478544, 12.588618449385908, 11.551603209416063, 15.249737107399936, 11.202802380992386, 5.63556474338318, 11.185945527974008, 9.700222112610934, 8.687373736975749, 10.173746287959105, 10.024365710556221, 9.136904702104237, 401.24286521098935, 12.609478544241469, 13.62286136305491, 13.93092275545806, 19.537262814494945, 25.38137184469484, 17.3569087893442, 20.413623191129734, 13.70091316581839, 8.891246953991345, 13.264203488813832, 7.237899592318608, 14.951223248982778, 13.714677547803852, 8.135872854359944, 20.08537073767021, 11.18407363930231, 14.680127639278712, 10.896558145141007, 16.022932223858234, 8.314266011554132, 7.90765808071658, 11.451828003043598, 7.3155891310718015, 9.387981879534422, 9.131829866555458, 7.167022102323807, 5.5852606672126885, 6.090309097930377, 4.24574534082226, 6.019252538937324, 8.342543234425584, 8.021818280514704, 6.639073469898773, 7.332757474429567, 223.94371910983426, 61.52187911450044, 18.405178113311614, 15.990764450844049, 14.787780077294867, 11.628042077272829, 9.345463018501603, 17.92077447215746, 17.557741978583664, 5.487169446133914, 14.60982717284668, 10.21657704813643, 8.302424518150923, 23.84700413117219, 7.878654545453459, 13.044325239587675, 12.388135541940308, 9.893262021411717, 7.613338373590241, 12.3943856032077, 16.159560595349475, 10.316372878763293, 10.389948277036508, 15.253789456933623, 11.21376501334453, 8.163817504275576, 5.796558601441269, 9.875197317569265, 11.270517316308114, 5.6715034110244895, 14.440207134158893, 12.158717263496747, 10.715482874688504, 8.627454892563314, 8.377132770924886, 8.16610463452581, 320.92215341135693, 220.20780603694035, 22.53216295539953, 28.62230682823696, 18.944246854648462, 25.27165359485981, 11.024104837697838, 26.759628260141312, 16.25781235390458, 5.741295861740661, 9.424755008053182, 8.041052762371894, 15.326685079964614, 9.763759982820478, 12.272622615293816, 12.430696864334623, 8.660460193816652, 6.390566257171275, 7.860858792077701, 8.71394928804067, 5.475478238345289, 5.92597941006605, 5.068609315431586, 7.318252631429652, 4.268862918274041, 4.157644121519175, 4.500405574232058, 6.0166978041499775, 6.215010109523925, 6.347370619218526, 329.7775468785034, 52.274198492231406, 35.3377654173426, 14.947567675193286, 18.098224953065845, 16.42658986308304, 8.399110052767872, 8.198392227933807, 19.878909117619063, 6.628966226889406, 6.410941634625268, 13.34790658222754, 8.3301145063316, 11.440854919119607, 9.144314368578637, 4.666088913874133, 16.768413090519736, 10.114843093252409, 5.6358832756314285, 5.512122423772581, 11.634619006430384, 8.067906348184662, 19.410767429545444, 6.510386110460482, 4.323673613872594, 6.213006510650955, 5.034140192228147, 4.572422873335729, 6.102343204294788, 9.712667051415613, 6.86637607078783, 9.551259950846148, 7.526626615471594, 7.647919091484746, 8.471012502658967, 7.221538415764863, 6.788249824838319, 511.30538485730125, 18.79121017037421, 10.889388946076728, 25.840714609706716, 23.416718899984126, 10.701979090512994, 7.889605512468834, 19.617032787479015, 11.49246378482563, 12.484083428107347, 12.967722363383691, 12.483428821760462, 14.628141022917786, 10.984441342767443, 6.677160948671885, 10.002981622786963, 8.397731516806221, 9.801466430225593, 13.31735016366929, 10.022503885269035, 3.002359931729414, 4.5515606251439795, 4.269610774315723, 3.947264292497497, 4.730847797465965, 3.0110137580784784, 3.9619226056948924, 2.3529206856516307, 3.1207092041231985, 2.854547384116374, 3.4670865786196474, 3.287776993565596, 405.07084887684925, 18.311281307584554, 19.244371675147665, 34.305662211626796, 10.108633190710602, 21.905436817879036, 13.356674927091314, 25.908601729767657, 9.244661968106413, 10.790632924799105, 9.543912695400747, 13.611261045038633, 9.148298673853773, 10.5126683970476, 11.328469518939713, 11.243784268055395, 14.224760521971797, 10.350492081115119, 4.540657422884699, 8.065658379216572, 9.048554589509926, 5.229467616975921, 5.27240449787127, 8.32214195790497, 4.713794364980355, 9.150721111562566, 6.9369586683914495, 3.8347997179203275, 7.375262862449385, 4.8242816180190795, 9.179878886577312, 7.049589320794691, 8.883232260575909, 5.254010675097046, 313.8382492176564, 49.9998508898236, 39.572495403259644, 25.551220113571507, 14.92032681290302, 15.945646520486548, 11.231979326841895, 14.51968064922891, 9.345798999325757, 16.247641313048288, 6.83196975972304, 9.18031644885232, 7.8305118790578465, 15.270158156240909, 9.929944576016574, 10.694981222485417, 11.009389581839923, 5.9047871531305764, 12.432887101584427, 5.891852062759218, 9.644001684420358, 7.290270028604766, 5.833106674903495, 10.632249697180258, 7.023838211751956, 7.631270287701568, 6.025752697553063, 5.4430501961885405, 8.778303008480513, 6.550728559137149, 9.513630219267169, 6.53216841264344, 6.26188428462805, 244.24349346674418, 39.48189840279174, 30.958145139536903, 14.182618650007186, 11.23869493898651, 9.480658054425346, 8.300679253762922, 6.382940827238504, 8.48611507654468, 9.835097432187778, 16.21276559590859, 22.81945374797491, 6.265043171354829, 6.541151657482079, 6.16192893381709, 12.28888342322368, 12.476259068893848, 8.18554514266085, 15.376256334007772, 11.351979190000797, 6.065391117571682, 11.023490566045863, 5.126631050168783, 6.034827661729174, 10.842677284980432, 9.27074953853693, 8.411552080019915, 6.295099180775081, 7.40833893722932, 8.717284332423803, 7.627277469230153, 11.40935929160679, 9.562772303527305, 8.688155361550585, 7.896837647440265, 7.257616807303133, 6.895226967035745, 6.778081343938519, 294.94043638991934, 20.541219018811958, 12.409552183296137, 19.468608805377148, 20.71391503895696, 10.851347702861757, 9.21380895865265, 13.62794861790168, 16.81834187041852, 7.247718781379683, 7.850321446142217, 12.96776884273671, 16.612807947074028, 9.004308425975486, 9.806651230368812, 6.622063531919773, 6.207982474580447, 8.066072036848011, 9.55897113085076, 9.587031655032025, 9.39410862754811, 7.689993298664261, 3.862896588427528, 6.335438792544142, 15.663710290604678, 8.09715131066978, 8.295798884490319, 3.7291012424056618, 9.026479618862687, 12.379385458104226, 5.5090041504235305, 10.177114817271718, 9.041666145150486, 7.155180949796609, 7.060275199917545, 7.600484602328252, 250.73877487086355, 43.81152055741187, 31.07177296199808, 12.489320108187476, 28.81383814045002, 19.126781149449798, 17.8708567421603, 14.057648174194536, 15.648756221733635, 18.810974062905483, 19.653105062651534, 16.32729837525527, 10.9120985446494, 5.471627431650106, 12.777704538869768, 8.521663348512476, 11.017306418874906, 6.417459478798041, 7.260035638042182, 6.511995294449624, 5.59190738185249, 11.048953589911633, 6.937651544916467, 5.79372559806865, 3.474663385036587, 5.112298561765466, 11.384626697914186, 7.880144203512259, 11.621239702053634, 6.295494084119612, 7.071883403027447, 7.160776839348672, 6.18221310739456, 6.315402336883267, 264.00995841680214, 12.606062774091427, 10.116336838325795, 19.16384250431752, 9.077181324699934, 8.894106868494523, 5.6914393240509895, 13.545063273431579, 15.766812883056966, 17.84678249945978, 11.33259615429673, 10.889694760271967, 11.52754581503201, 11.532347978145802, 10.898589311834654, 6.052924956819605, 17.282973027781704, 8.81506280959936, 11.462884875663296, 5.7649507461885205, 14.549731617309464, 6.1842519656781, 5.0294565983933355, 8.324732042317908, 5.151500449052293, 7.459123445204641, 8.565505903878625, 7.293052198633931, 3.8687222934256416, 7.227571312615643, 5.615493434906661, 6.343933237137714, 6.980030220359946, 5.909263359640599, 278.66402721161796, 41.40483581726917, 25.84703858150338, 14.798987675754626, 12.162265964000353, 8.449913126171065, 14.399802242936675, 8.293968428904885, 12.270827036858702, 12.194438672801612, 9.992724763027145, 7.371469802874056, 10.529789140950273, 11.854042219578254, 12.578413856252556, 8.232705701789499, 12.732571032754318, 10.440582327579945, 6.424951241651433, 5.665070368412844, 13.469081554381177, 5.2590886257485145, 5.867837050129941, 9.040739706138456, 3.320426085118806, 5.612343502659265, 7.101056486488588, 9.845780296102571, 4.385279453681336, 10.585023066203108, 7.236572946081044, 7.389816708133303, 7.937965313770792, 5.728896785390877, 260.43763489230633, 18.796299414990855, 7.408892358209147, 22.82268830517894, 7.663354400917952, 13.02323135798281, 8.401980294830784, 13.504638369179172, 8.080429584967819, 7.6044708133211625, 8.40041678096095, 13.773122635580672, 11.159072440759456, 7.831320828976245, 8.868082577522879, 5.871691971287341, 8.817198766061896, 6.672311799633629, 11.25538155896064, 5.434427120446418, 5.861200966445517, 13.642422627975062, 15.206529311438969, 4.724714043234863, 12.475933496782467, 5.468166171487385, 7.72561522979944, 8.36855240678812, 6.350164426701749, 4.8638055074102295, 13.131536611735147, 6.651461954027609, 7.063693260474993, 6.294586224192109, 6.236074107473708, 6.220040551822897, 228.04851463987927, 10.26203145274607, 7.003195898486911, 9.323794849274263, 18.130508664815014, 8.722496686673678, 7.326439224662189, 13.942862323096204, 12.032342501615245, 7.325974124505052, 7.907274904901121, 5.404619714673907, 16.76710829052658, 10.706720448918038, 8.565875972930813, 14.590399781043159, 7.618627973724795, 4.777956593296716, 10.295455795349037, 9.276336029240007, 12.09593484420376, 8.947990073202844, 17.39312668685836, 9.604960403853994, 9.53242081727708, 7.064192661439873, 5.584503134483117, 9.172195934193562, 8.185699255382307, 3.5694332882999764, 7.750972383817484, 9.997847506800232, 10.482448511629132, 7.935213631719704, 282.30169774002417, 37.206449314058446, 21.005739621680984, 23.252050931575514, 11.311191903992174, 15.885637400424754, 9.187793956680771, 14.967542783365277, 13.042393897379219, 14.196960786869099, 10.367241554441332, 6.71866196991997, 14.308476669161175, 16.037540142930165, 14.434591528798824, 7.321521581577537, 6.438706884080645, 7.913356885873879, 4.0197679128558, 5.633030298012284, 6.954588304175259, 7.887023064831003, 7.576197656726132, 5.066134756288647, 4.957560594945906, 7.801880582528906, 4.726359233089964, 3.5715708899674854, 7.750612653048623, 4.779089698901278, 6.991680688220243, 7.03266814324993, 7.6537202493550875, 6.226612730116443, 316.0852543823442, 25.31493047777624, 11.212258378712223, 21.610760187575917, 6.596110430613253, 6.635685632820926, 12.97028074225311, 12.061261487651272, 12.400448937450514, 6.58589335367354, 6.209844063004568, 13.591205955798264, 9.010749572614351, 10.461278225660074, 7.568432602744243, 5.452907600372995, 8.934068722046392, 6.250621637342886, 6.82318099986895, 4.36285943233027, 7.552482037754448, 11.285174718179153, 2.950002431363416, 3.2117124899198553, 4.0110847264426095, 4.455094274944522, 4.511550831245179, 6.536444873949546, 4.39926637162901, 12.390249760301247, 5.298284272627715, 5.091146354501882, 6.501116242716635, 7.190409397252991, 7.0367588305333255, 6.21870075587039, 4.798911906744808, 245.16477380197054, 21.442119620279698, 32.958223780017995, 15.692560394690965, 7.465959796784074, 5.1162268380171305, 7.2837335649914845, 7.190677392559727, 10.03450130036596, 15.024735761228033, 7.542110671460915, 10.461911128227335, 7.443600682154229, 5.4495771998415625, 9.155969050417504, 10.087742461230423, 8.685687986540858, 4.980296053543897, 4.69290353641854, 8.922907843708648, 7.019627648967331, 6.379625768176309, 11.797499012858603, 5.132200659451539, 9.675772735751938, 5.4259026626385065, 7.0105123782197, 5.223675623974482, 5.335474880061385, 4.249329908920979, 9.281665258001132, 8.533822051478811, 8.643037112963189, 9.456063405763787, 6.400566337978022, 6.169282762520691, 5.9572032517509275, 6.171611606777695, 5.761062881419126, 372.2975370159057, 11.246349669535176, 5.6081519795459185, 17.162956916359537, 8.030521147287182, 17.30497570777837, 10.435402013971379, 11.724146238960204, 9.633260549695647, 6.240765719682648, 12.349674145102226, 9.03567496244909, 7.538623642332885, 6.864538501728866, 8.546004930561734, 5.029809817452231, 10.069048631498385, 10.752641893143267, 6.841771041548935, 6.18962854870824, 3.2667549944110386, 5.4581578035319085, 10.37605867876488, 6.7301678074201305, 6.009911154314943, 2.8435536939483614, 4.653982181599377, 3.2135471006945004, 4.9378408352899825, 1.873754869590983, 3.882263467745216, 2.9367886672616828, 201.26235112187692, 85.74564392977953, 52.25893574854998, 11.049407961513179, 22.920957536591093, 13.286975231304172, 19.203128188607767, 13.676213632185656, 10.342581146388572, 11.628322073867263, 11.023994660730457, 7.4235742156618, 8.652530089371233, 8.235868665421865, 10.505773923691907, 8.15456999139612, 3.786900329678576, 6.511900127958016, 9.310046211135434, 5.062877881301213, 3.6683798994030563, 10.392241847562685, 5.560072002923406, 8.937892232400126, 3.7362689362061747, 7.014524421739227, 6.277030028940889, 5.019255854834904, 3.978280323680403, 4.797275135246006, 6.242166517188058, 5.070739092451533, 4.318125728854794, 232.09115598831957, 28.96847446377289, 23.352827499682437, 17.909077812037086, 22.715866805548337, 11.94410637251262, 10.344475378640583, 8.076738638185393, 11.411947505367595, 15.639730242671888, 7.867974621400996, 11.94543869913489, 13.569490567339328, 7.289936632681701, 7.749075976284072, 9.465676160864339, 9.184852627363876, 9.54633738595041, 8.834238898754634, 7.9100296469438485, 12.245671245882914, 4.16743506785371, 3.011458808395265, 10.019313336856705, 4.14115701989704, 5.764284579131687, 6.342746221754786, 8.603908066039928, 3.778607226078797, 2.958120014844882, 6.250690004760255, 5.648031705748273, 4.54024489775316, 5.025027398503714, 266.86044153338645, 32.66113433577851, 13.615634921798966, 28.80027968492209, 10.320691346589683, 12.597351801763653, 16.242078156152647, 15.057693888240154, 9.162535493880283, 9.755245381461593, 9.444620974215477, 5.639263727009191, 8.080741069671916, 13.459984876704358, 5.240078574563331, 8.240930570292642, 9.753099162524178, 4.658445143584363, 7.657220339856713, 4.082836455765425, 5.454090155372535, 4.555275647218431, 7.084077489833122, 4.29067346303595, 7.612683693674827, 3.701803918963003, 3.067845843838548, 4.573159551622941, 4.752816010050396, 3.7526137721953843, 6.628523140761736, 4.637188320173222, 4.845606137096891, 4.197113647499904, 217.56988732265566, 23.616372697991697, 26.917377156654563, 20.467611335519614, 19.46915652918627, 8.080052021772245, 17.444496773788945, 19.219291940969633, 7.698760990971408, 7.679894200531027, 12.176724939403426, 12.343768034639911, 7.498066714403445, 10.385267200060667, 7.741819264892165, 14.69720373946522, 3.8284505382382727, 9.472599436082701, 8.425940867526682, 5.417365012772008, 8.6231331366648, 11.472808728249147, 5.063296915923997, 4.442360591615136, 3.7580025543423217, 8.099868019244616, 3.7890538217722267, 5.265682075907657, 8.738906334418141, 6.088634745287625, 6.594607761643278, 6.208069500495678, 5.24143972140486, 5.364668992421677, 5.173278910238552, 232.72597616061165, 17.287658614764037, 13.07884967604836, 14.704773689009087, 12.306444069181044, 13.703081528566756, 7.261182691315777, 15.502602370200533, 5.999606668266361, 7.843437453069496, 17.28893221991361, 14.670523174158546, 8.887189938990845, 5.922017091880181, 9.749245604312042, 7.207630274249869, 6.54287508796385, 9.172247171779036, 8.97353854380946, 6.688265040188612, 9.783582774481623, 8.614971945940148, 5.09938902662138, 2.9872879116405224, 9.579064819531672, 7.645008174483668, 5.921773658845773, 3.684949030080006, 4.168225744365822, 4.973353425884034, 7.964779414059106, 9.044767505757951, 6.015778147081409, 5.027157827496097, 242.62512385981583, 32.38083522291975, 28.863364884339095, 13.750625266023913, 16.667619709083, 14.528129087868377, 11.630512706415919, 5.2194838330079465, 13.79454118218514, 5.812403604398376, 6.611652426402986, 6.77946493146444, 8.568140653385372, 11.564769712562699, 4.204232180478582, 14.137087324723211, 3.7851603856299136, 6.65617671454013, 9.678268664239084, 7.015395133023483, 4.359146312325938, 6.104865260594621, 6.105000023028666, 6.707652082300003, 5.302603971340075, 3.5889967482505054, 3.9651045599339905, 8.644447801996321, 5.153530099545931, 4.4612818183064, 5.479483825358897, 5.332070914428809, 5.519909228104975, 5.505003282828147, 180.49201958204628, 22.095707020322696, 28.155223552241907, 10.315060245558712, 24.11012341697398, 12.78070245786387, 10.775277416665922, 13.188002261006922, 11.527410473901945, 5.362998469767788, 15.020630339499801, 9.565424174602953, 7.146837751430982, 12.33948443093062, 5.887474177209216, 7.064454291726444, 7.009311133342928, 9.305648305257687, 6.905396816884906, 5.973961403548753, 11.728396372230094, 9.05050646762504, 9.549660639582441, 7.271545404191496, 6.356706405847039, 12.2132339383029, 8.57019489588937, 5.155404101568989, 4.4423709280630295, 3.8052262938774324, 7.0085162869376, 5.698303488796609, 7.736254945758779, 8.631993928298087, 175.74144995980348, 18.323157872215273, 7.260766142284066, 21.20595623400341, 17.68186227704733, 11.895805063643087, 7.8191191532563025, 7.514462106988699, 4.669011138603832, 8.33977314404717, 14.676222714531956, 5.455300421519423, 10.013568966030638, 13.412393403161802, 7.3107258040103416, 4.608214427758725, 8.243756988059378, 9.10436958999398, 7.531454278141761, 5.329270329666641, 6.875126362640394, 8.483383472526736, 5.861272826708123, 5.229146533589205, 4.630252277835802, 4.274474870790696, 4.016000254080528, 4.242602218140209, 10.680003120137101, 5.655498962289888, 6.06300408545649, 9.889654146237971, 6.28032707077617, 6.215655300562985, 6.052209474052257, 5.408469576751271, 5.361855329669317, 194.19959003000864, 12.830807497131426, 12.052546475749322, 6.39590101088443, 7.7017334490381995, 7.187673714882316, 8.12177542440987, 9.514004748139588, 11.48603623045364, 8.671515452404883, 19.443022113941634, 6.654652679758341, 14.416825998557751, 6.457539972939251, 8.787462775074166, 14.868931712876568, 8.279648014930665, 6.494419909872309, 9.102033099036165, 7.099475712264519, 8.216158914605638, 5.045008700265949, 6.745470839491757, 11.038983558257735, 4.033814499544539, 7.080619063356963, 5.731272298432498, 8.11000041519866, 4.873180482072575, 5.097354559345211, 9.161884714057102, 8.137349303418521, 7.9707443246465095, 7.033115289878587, 6.218683762373791, 330.0385030838127, 17.25941646383197, 20.29569694305528, 16.22329662244963, 5.3240300221749735, 5.892082403470505, 11.030197931270557, 4.6722096285441035, 3.8996271522244417, 5.638418009945368, 6.630451758486391, 7.170681505768557, 9.363009665997303, 10.057205304728011, 6.680629871262446, 4.842813569043116, 3.8646325393306915, 3.540212762530755, 3.813068880848515, 6.022340129241687, 6.730816198736362, 2.9227289844948587, 4.276689724982409, 5.190898247445006, 4.563460172362736, 4.498988759129397, 4.108032394053519, 8.782129760166399, 2.3879025916433063, 4.304454034640953, 5.4919587094034705, 4.811756534658068, 4.136281097062681, 186.07063402233305, 22.38142171320456, 15.245827954189872, 20.550699086698405, 11.57211193224795, 11.913664187828752, 19.77403234050451, 9.419357190674429, 15.226155618092813, 8.984243756975113, 8.629361176405103, 12.804721768822018, 18.6698639504568, 7.5736348438712, 7.0509502908740895, 8.322485733330423, 9.599868551247832, 5.111453269369762, 4.11030622841358, 6.133614662689013, 5.460040871494918, 9.037963513425186, 6.449714320736403, 5.933959422906132, 9.990072661726812, 3.9321774157178333, 6.5264975211311365, 6.643167062029756, 5.731231206321973, 8.466700032580382, 8.342572379627345, 8.403780370174427, 6.857791371610231, 7.003689334504021, 192.89059314231454, 26.011860183563748, 15.164817480563618, 16.414724587453755, 14.11783547179311, 17.99850729235176, 14.899540104908516, 20.45884264774227, 14.09838750666844, 13.179179940856145, 13.776188500174369, 19.709775980921997, 11.235149648367294, 7.2328531765724025, 15.865978872421334, 10.031926872448006, 6.592362885474045, 6.158833618512204, 9.881308056591637, 9.042400344514483, 11.604424609376723, 5.452507002564878, 5.272382207174713, 6.445484024388008, 3.1261742566431896, 4.130630305417062, 4.903237954279244, 4.887419768503174, 1.9201549030021254, 3.123611676493245, 5.198530620394953, 176.43272537009125, 10.922384545090223, 9.624973801853873, 21.935668906923343, 17.279481934751164, 11.75780126699689, 9.057952458464584, 14.678083297809293, 8.753642824465876, 8.860641833318013, 6.7701438974731545, 10.13788070398461, 5.657266704517765, 8.29927110316255, 12.216380809029053, 6.098460791311239, 11.588386898821781, 3.5027134967773015, 5.396300637945721, 8.393630121881692, 8.506691970397652, 7.351461428456522, 8.071391554874559, 9.735700348754614, 6.781615264566393, 8.57372348795087, 4.385816504049756, 11.24763897621493, 4.163970142345128, 2.9034886649507623, 4.806102738538789, 4.380735132737542, 5.13991232643415, 164.7501463585728, 19.845079195092534, 9.924874374346635, 11.70166527064112, 7.8519951529434655, 7.196355063260373, 9.027684886375948, 12.954794056949327, 5.844015859599928, 3.577307030481606, 5.146728330366454, 9.0352351425289, 8.144961572455479, 6.178977360060908, 7.3755822300808, 5.800449525366744, 4.91893566016382, 8.31140025686404, 4.547058076668498, 8.80792573678899, 4.776259338315765, 6.357747872007146, 10.830322276874798, 6.857972513925178, 8.166678430194194, 2.45907426568376, 5.851585858350826, 8.29892722683237, 3.657948461499966, 4.7086439446649715, 5.5997707383191155, 4.810107164117419, 6.288678393099064, 5.082841712605659, 4.899215809125862, 246.94259651026826, 7.487740896969603, 4.473520610313321, 7.678061649903481, 8.728334866434915, 6.658055861063074, 4.536851127171905, 5.044475619840228, 4.899926361095786, 4.182197418339532, 8.969353635376152, 3.6098599294796636, 3.841013714803151, 3.494031017914225, 5.9498733602645695, 10.045242377364413, 6.391760576865414, 5.136450153279234, 4.508044641552045, 5.690181738913994, 7.096719708978582, 7.327977969143703, 3.928048507158556, 5.517043899219384, 8.93060498268411, 4.935676799046909, 2.7507545649551877, 5.3965545568612425, 3.9297188253409163, 2.9386717568896077, 3.8179874597071346, 3.4582507300083494, 182.04135640906077, 12.7960198908308, 11.723238501467735, 18.916799083884637, 11.34388232569894, 9.115682243792953, 7.069159535876101, 16.00799394587961, 11.823309266831822, 9.919393457518629, 9.063021745183555, 4.690997603161656, 6.959114592063027, 6.8060543472153086, 5.922701154893556, 3.882660884688982, 4.414986435908009, 7.498537632193979, 5.8653537305555234, 7.99431265104113, 4.398014893160993, 5.500097456296545, 4.706024288387491, 4.790264426772992, 3.689814567950592, 4.42968540233458, 6.402938348154017, 4.503641312521341, 2.6359523133514804, 2.6849639428910215, 3.105437469292814, 3.107254857242522, 199.38208962319302, 120.39185959040883, 24.393761895717223, 16.84471729894878, 12.325743649461073, 10.51476098670226, 11.201664062339155, 6.050066757620958, 2.9170638353609095, 7.27217914373374, 5.034115228779417, 2.7689159155538183, 1.7095128433626445, 3.412705626502143, 3.073351655994063, 4.024466512433317, 1.6500727590959932, 0.7120892753474707, 0.8641328203197225, 1.023220830078709, 0.7714211506557853, 0.2504220428387888, 0.27221580444022614, 0.18554679404552107, 0.26469474284434763, 0.12218502052519174, 0.14002644735676173, 0.12573113537485225, 0.15356443779475368, 0.08779439254459637, 0.14887622564242278, 0.13343556957576763, 126.25482676420995, 26.01485958930757, 18.69315679253778, 15.766682964989055, 12.52992193552271, 5.008247846426787, 10.168057112757914, 6.727899233925269, 10.534667259456478, 7.241826922564776, 10.171433230399623, 5.943685562900669, 7.59183650580764, 11.069352376173804, 8.387868566154165, 9.51733495925986, 4.385627047010685, 7.2021425106975485, 6.413565911638071, 8.624968055689797, 3.64153760074197, 9.070931205515313, 5.950622503776718, 9.603748699516593, 3.700412013998391, 4.821991834262509, 2.684031521100833, 3.4130219773237283, 2.106806768376694, 2.5340841986772604, 3.255377336075864, 4.784371616159584, 2.973937232126491, 171.2440548725515, 18.26932844125487, 12.033475237705561, 18.656877909108292, 5.5431445211145824, 7.449432667894239, 10.45912492702973, 10.618733677630907, 14.615151769631238, 12.545980807963653, 8.649032947493435, 7.883643201967828, 4.869389778031569, 6.936691298712597, 9.44015340303147, 6.904617371651284, 8.272734779714252, 3.5223673334121095, 7.882889850774374, 4.1070801088604, 3.8878737453450616, 2.8506568087925337, 3.0689158331821034, 3.4618043009435358, 1.8530740552032285, 2.4643750426598965, 1.7586186942301416, 1.9540180300055368, 2.857649414570176, 1.5175590251261843, 2.408105358642818, 2.075070266525726, 2.4595036855052235, 85.26010798501997, 72.87309698745308, 22.793851108295666, 13.137835704660967, 20.04806938724836, 12.254218713393044, 12.884871152378029, 15.737410140383172, 6.113327009908362, 4.007173317896091, 12.509520581379844, 13.314233069704905, 14.40034794762191, 8.964768427211167, 9.146343616470409, 5.421023775209744, 5.215580051968934, 6.087567781058065, 4.586066123929509, 6.863775438948853, 4.701245543285863, 3.452922816441109, 3.767229623877411, 3.246029808590294, 1.9894527843442331, 1.4964032011574964, 2.052371611045614, 3.067530906425043, 2.0360753472317015, 1.528437080557376, 3.1958940145584642, 2.169096710675555, 142.87909343253725, 46.62842091821386, 33.33354493843613, 31.474796305006308, 27.479728130926, 14.87758967032169, 9.957955320030125, 10.395547451375444, 5.25257735858786, 5.181931067767324, 10.586858630893682, 4.826304712254352, 6.17907669334944, 5.264627050139929, 8.19047040126169, 2.8910558494342684, 1.9459347808814693, 2.7919371882254342, 1.6061991280185666, 1.5462308700556913, 3.202853858747496, 2.9790266663449234, 2.8802679738549557, 0.9190117836946453, 0.5043690793474966, 1.2164551463810254, 0.836133341375391, 0.6332701091796773, 0.5143516555743377, 0.4562150570859388, 0.5206486784114914, 160.95242146373596, 5.247797474875131, 11.30367706831956, 8.45650632258695, 5.166654600403049, 5.595987501354372, 9.168086001975027, 5.179149549748252, 5.791283120430106, 5.403063507110417, 4.7188859762995135, 5.906287161231091, 3.6662066234979425, 4.487618883984377, 3.700749265974497, 3.7508941255156674, 6.9143843590930665, 4.237780651667063, 3.3820885305913, 5.401925273587758, 2.720020179481461, 4.233682644994005, 4.6779659321726905, 3.434919401651054, 5.117936009684324, 5.984843939860372, 2.015714031898068, 6.541339484781895, 4.330767376630067, 6.103122506490049, 5.736077330615196, 7.495212847986932, 5.736918745042397, 5.48246865400514, 4.233937375068529, 176.6007300959589, 20.200659970824905, 19.563042571218933, 6.300944853654569, 11.17259015076534, 12.397857082281106, 8.118399432743882, 6.200378766568361, 13.672615646623031, 10.993105836581115, 10.182490913790168, 7.359453910690549, 4.130522483247055, 3.889178314014642, 5.034671045262221, 2.882594824869392, 4.4407815175372765, 3.6284070943409787, 2.159768697850551, 3.318170969308353, 5.04118386950874, 3.4149514751318337, 4.587742669464607, 3.4334812463172484, 1.241878920152441, 1.7423923965766281, 1.3810097919665112, 1.3313418272788589, 1.4228153688692728, 0.8726027746382026, 1.5396197807163678, 1.998668542222022, 214.84856067561287, 9.172036349746637, 15.474437048492005, 11.929634506343156, 13.640503855008435, 7.833867861034062, 4.99829178780167, 9.346968356751864, 4.300889619785671, 6.704593284090488, 7.372352212759158, 7.584676759407043, 5.829207086510514, 2.507893322573401, 2.5463298934543506, 3.676570328718705, 4.112424551992124, 2.379066597886886, 3.232723830607227, 4.06051324801848, 3.367092549214031, 1.681495141499852, 3.1482667078766564, 2.9247090753733365, 1.482209423331781, 1.99060362731032, 2.8536115834485276, 2.3850394919727975, 0.9961764702388431, 0.8701985702956909, 0.9241380559459702, 106.076441650571, 56.686403987518624, 33.658069215996136, 11.478593935092917, 17.774963584544356, 10.464748643736078, 8.847652821156775, 5.119568952103585, 7.134055477932822, 3.4029935234904953, 8.062833201158014, 3.7199074408482486, 5.808936651299507, 6.518553124190752, 2.2872223184908194, 4.493100324689592, 3.3667615576462144, 4.047887593767621, 6.864513435191881, 2.818131111698325, 3.2566713864830605, 3.287390843572492, 3.05807404943825, 1.6917809853493002, 3.347975862518267, 2.5948855418809855, 1.1358934847128257, 1.0965349511270175, 1.1027625281723654, 1.563421156086177, 2.5212511148833645, 2.1628990996273685, 1.3909068943929472, 114.8989377994921, 43.42480533924006, 35.243105131072916, 20.414932383515318, 9.75062238609229, 11.446094907315242, 6.564301782093518, 6.665860951960512, 3.239021784315664, 7.03817051779255, 3.9133050627312604, 3.299336312039463, 3.1550285493786805, 4.1490444940712035, 3.8156924974995037, 5.009306414273776, 3.5123753252243923, 2.840081459595534, 1.7665898089402619, 1.6743291415501074, 1.7458603916072777, 3.8158195400559913, 1.703859324580648, 2.713100583189631, 1.0918384063219555, 1.619327846542023, 1.4313002599490854, 0.9622378909206512, 1.2104269557807494, 0.6873193330117124, 1.7530915373134464, 1.281252567290472, 1.3282325364403202, 127.94441230524303, 27.826253560100625, 13.24872607690617, 19.686245489657818, 16.947351146221497, 8.923706043872523, 10.040809873996327, 3.7493436004752763, 7.8040026733803325, 5.062736596809211, 3.9632394862306835, 4.324956585395648, 7.288948646142258, 3.851694913045612, 7.720050571567068, 6.250825644328535, 3.6391284063721305, 3.7918601648313555, 6.3610390256420235, 2.809074077960837, 4.284906019236541, 2.8530792447570636, 2.543329386694232, 3.7203398723553622, 2.6368632903720863, 1.5677433982103892, 1.1369130135696437, 1.4961342790411947, 0.8467353922378776, 1.2323353908728563, 1.1161592156466142, 42.9897755548707, 15.377106093505656, 16.757338426192963, 7.799419225641004, 11.043700735913895, 5.86669566309779, 8.485062264656097, 11.58034202876657, 10.995710407893283, 9.34987812738644, 6.0969477355371025, 5.414296742040347, 5.949372127050064, 3.400292971322344, 2.2326479307400446, 3.197810339384012, 3.974903553146455, 2.7874832026994376, 4.7949842868624435, 3.1972281243411396, 6.536909521510668, 2.378602928232332, 3.415176325321867, 2.0604016827604275, 4.014524539925775, 2.8858592302332746, 3.6596032616009158, 1.6530528555604804, 2.4085163949073345, 2.012375809740302, 2.363923204907986, 2.7204325615161773, 98.65990892121813, 10.647449592887039, 13.169499568865305, 7.558528395057972, 4.1173108182432525, 6.006560747773178, 9.998652118044289, 4.503158758283329, 10.074476014308757, 11.060382381998732, 5.370580787271145, 2.3040921396961163, 3.447177421708301, 4.411703689037566, 5.537858327663036, 3.6230660021437107, 2.965218788328763, 1.9557985618450537, 2.4013909066908354, 2.0948584028457096, 3.0634968491420786, 4.546938393656559, 1.8216069250903275, 3.016144917132492, 3.250130346813893, 1.3909289187013376, 2.666023506251836, 1.4092154434277224, 1.9564322644664502, 1.035715441235672, 1.2087054497294731, 1.5489620727079012, 1.5086408432637728, 43.168408001281605, 9.10627863472232, 9.756707526115267, 11.074444529337978, 9.672960655280784, 6.518157194851425, 7.581849255787648, 4.084173369466603, 2.8732386978541617, 3.0635433458951926, 4.076360740318985, 2.6931054071779514, 1.983133577706738, 6.487386251234616, 2.277232200464827, 3.7716284709211294, 1.9203899767541064, 3.382202899186497, 1.69924207169013, 1.7467046976794889, 2.425768704586563, 4.515411585678153, 2.125663897191848, 2.1932197169270347, 1.7549895492622365, 3.2523872233996207, 4.781903175001119, 3.0570734813411953, 1.504811586235232, 1.5267022846478873, 3.3189983996013455, 3.0709191146579355, 3.0473028276581826, 2.2019064641708117, 2.1438485335399955, 2.1787012113394564, 48.80888586442593, 13.814906371146293, 11.72578170759852, 9.576136405950262, 5.160057462018958, 9.30252138998976, 3.445921344422086, 5.557543619108786, 2.67864342013247, 3.8145303020652177, 1.9871485387902754, 4.106757691080655, 3.1026775943786165, 3.04884782972802, 3.9690516547460284, 3.6679754815539614, 2.1248399634040305, 1.7499024659969347, 1.3426522576325695, 1.6723010961141742, 2.0148584651936483, 1.441830885197819, 1.339695973574897, 2.4201868623463736, 2.0336972274428535, 1.1583255837919577, 2.087100847727768, 1.3850429869046295, 1.3266949637310028, 2.135950974896917, 2.160557112845208, 2.617320802010458, 2.759141979834693, 1.7360749691313175, 1.885056260099771, 1.8026102724347592, 1.7055325883806993, 21.13593423518149, 25.044198514058266, 13.213941666881752, 3.045848047839059, 2.8012919895802333, 5.387053499651866, 4.574551782188064, 2.395961726651742, 4.75102748146439, 2.453686293897336, 2.145056594187571, 3.956244586828669, 2.0931651857234703, 2.692906020101372, 4.120055456147509, 2.0098978592892793, 1.9103664422833662, 2.2820002958028986, 3.2513201722190552, 2.4473606467294005, 1.7888288810697215, 1.3218042092562952, 3.840804476085225, 2.7568918535454263, 2.2768588419926385, 2.1464526720836, 1.251019242188207, 1.3371341684029927, 2.2504213435085876, 1.2328802944892387, 2.1410207230094556, 3.1997841605891457, 1.9101555989466756, 2.3807303345957775, 2.5806816606930814, 2.0247377595200806, 23.04652421743273, 11.455022097958949, 5.680770009568655, 8.70306049906517, 3.2281507914499055, 4.412687185521178, 3.8969149869782527, 3.4953286550816, 3.9665222159719518, 2.572329226764681, 3.4952740768902575, 3.8123388254299506, 1.7206505408474961, 3.6337164952722754, 4.006703854905562, 2.5500502708861177, 3.2881329145982763, 1.6457076027869058, 2.6199967137019566, 2.946858938450774, 1.5969827497502709, 3.8597779820857245, 1.749715845758407, 2.8476439042328536, 2.4225108825194965, 3.1808266635138596, 1.7073913219514294, 3.0673461681759475, 4.16041262244184, 1.499690905913985, 2.378557303330428, 2.161810379362202, 3.0937205609947283, 2.8070062955994213, 2.2017629971511297, 1.7917268903967574, 1.8604620773395473, 41.271276559279876, 3.4690342272998276, 4.381558836245457, 8.218047244518587, 3.199342110564357, 5.938795084815404, 3.034455246478203, 4.212028403553659, 2.7819370375559025, 1.9190128087149805, 3.2889568317819893, 3.093164733993555, 3.3741334163263534, 4.407449647951895, 1.873096586382798, 4.113462095155036, 1.6682843120284225, 5.388026694555055, 1.4891757415730098, 1.6923623802595633, 1.640583110404014, 1.6586554046710453, 2.8332418974988776, 2.415529349036809, 2.1447759460582194, 2.3740662252780425, 1.3236434984456182, 1.743645553852885, 2.0213478348386533, 1.4603855153512744, 3.6059248545395435, 2.8031600726384784, 2.225962578488821, 2.077933236866629, 2.301016176748432, 2.044876347434002, 1.7847596786823443, 29.493781117582202, 12.104976982585898, 7.472363311027494, 3.969573873933417, 4.776927148909102, 3.42402985458252, 5.41406605489486, 6.288290698627864, 4.353770100469171, 3.3376492894490344, 3.348801395017616, 2.465350107724261, 2.376492165833038, 5.081365121746519, 2.48667444971465, 2.1718615777587402, 3.1841168224657754, 1.8340048922955865, 1.8512613380556595, 3.4702885302441273, 5.1866395740178, 3.7291952833393975, 1.004319203122733, 2.388569897494929, 1.2637252918113921, 2.302403642339546, 2.866208602278004, 1.26279117984162, 1.3762882800149676, 2.3331301690602375, 2.4656296424783073, 2.1268734541101684, 2.6798080063006404, 1.7559581234068484, 14.93117785701372, 11.876627260660944, 11.211834772468299, 5.205483326441202, 4.368150296565919, 3.27980990771984, 4.486328548355931, 3.08447377342379, 3.6479522262291986, 4.5525238570040365, 5.544916320279841, 1.8456875705290416, 2.4954135854969484, 2.114789988969075, 3.726284751905911, 3.8736679983777442, 2.96369823691509, 4.023297933706754, 1.1721778903613205, 1.938355480669885, 1.7796791592087873, 5.383913421156216, 1.751657466402513, 3.8006924336977472, 2.2836754135922583, 3.534839480162401, 1.6335203843036021, 1.3879542861732026, 2.550384925422993, 1.5407109941925496, 1.935346989155566, 2.116660759337279, 2.0931321175017787, 2.273608443887542, 2.207403823047402, 1.8977783390523997, 1.9815062180964973, 7.201431120665382, 5.261715243099502, 6.01550941509181, 4.1707406475101765, 7.2743498319624305, 4.2595730781353165, 4.579359960729701, 3.3977225169791816, 2.5983948300019484, 3.539474011103384, 2.5026436040669293, 5.572623522390211, 2.051797257521903, 4.184523998695627, 2.480826771847885, 1.6329696579992432, 2.2112776949337736, 1.9017920571910798, 2.333528968822264, 3.115147807242009, 1.8583222546584417, 2.1914963118473336, 1.8646681051005107, 1.7407680831065355, 5.642860975868471, 2.799750397903488, 3.0648841888189033, 1.6628583636225491, 2.5755088927886223, 2.6661292642843955, 2.965348618738476, 2.8540777262330383, 2.9440292536202253, 2.573731734456134, 2.175591904711277, 2.2873225254339995, 2.291096250413052, 16.144504853629595, 10.728023592864556, 3.955167976320524, 7.201844124550703, 3.705542415950222, 3.90286025005994, 5.929123640394904, 3.134095013968302, 3.366190781263043, 2.8839430696903627, 2.1387456846638435, 2.34750738592507, 2.289299650837545, 2.422830113113143, 4.37884069302158, 1.9463688669732984, 3.7050402110675167, 1.587211833546538, 2.345095201444542, 5.077589354295147, 2.226131948203198, 1.4359542250729629, 2.708729438778439, 2.0803842167218534, 1.7775115422980088, 2.1907768224838224, 1.399957048218574, 1.5187353645935482, 2.61148287084882, 1.4454036494111775, 2.4958109056904223, 2.8726004930487035, 3.830680632741212, 2.7195588646274573, 2.57939518093104, 1.9927809954452733, 16.514809887896032, 8.30690986377799, 8.119004858725509, 4.091430831785207, 3.429832588832202, 4.055473354275807, 3.285315863789109, 4.116120556932803, 4.49681146263819, 3.8550664863592603, 2.2772516348063214, 2.0306048322845442, 2.480460328922736, 3.833619364501167, 2.6960607733167024, 3.9115555502151462, 2.7127014971106487, 2.0729261311329212, 2.8228171876884325, 2.01796214293743, 1.661451405766382, 2.0684927108655264, 1.7035461079419185, 2.588841011089873, 2.127903352443409, 1.6050224627292455, 1.0794978090221161, 3.4351656975475664, 4.22843278122821, 1.7772934409582521, 2.40650338989973, 2.958118110053125, 2.2914122114550666, 2.3266797698949593, 2.161798587846631, 2.2570748919878882, 2.268264879377613, 2.1939060457510107, 10.153427363000638, 7.852268390549411, 9.481148525899377, 4.071497839677573, 3.0762375479987076, 5.819957303289274, 4.356527047188903, 10.876242976158016, 3.63114420972221, 2.6377341035659994, 2.354145835243172, 2.180933672131516, 4.511957334552906, 2.234231268068193, 1.9311297097664466, 3.106084920559123, 3.077466757347268, 3.017850757429255, 1.940834974327926, 4.95266384757484, 3.783738362810428, 1.3674976874783629, 1.9747365812309614, 3.0612148584137113, 1.9808909599350568, 1.7422052647438673, 1.86239380641081, 1.9806112674304404, 1.539056854817992, 1.4195734257970334, 2.5800409896172254, 3.298991062849527, 2.851054694629402, 2.592221990285574, 2.181186081547189, 2.1493957282873546, 2.270147412514702, 2.0687109755770727, 7.915344931724894, 4.245291116246542, 3.1975688753372586, 7.322977118536097, 4.794930671457873, 3.273281570988252, 4.73897910079135, 3.7464935155952, 2.3175598664573354, 1.8539072954033258, 3.411853196590342, 4.722869008571583, 2.412761346318736, 2.3569582806093954, 2.048149492193002, 2.041502874285396, 2.106037508687341, 4.533779884784603, 3.3886289163997607, 2.5343741632515946, 3.246687584255485, 1.968608995500439, 1.6153393912727836, 3.408815134782018, 1.9145247643945276, 2.866443337024177, 1.629352769938667, 1.7948191497390606, 4.286207254328444, 3.705298665239423, 3.0027931062811817, 3.1508853863219612, 2.8740525415189326, 2.310697271043244, 2.3773975618944867, 2.194034129234433, 2.1849981988969103, 2.063336370427028, 17.97364808972084, 6.086709455157219, 5.643483749132255, 4.8968308848279145, 4.189752549465341, 4.545538732747385, 5.939829720542412, 2.284735369766296, 2.1586105507350144, 2.6309919131611967, 2.5068868595706713, 2.4497609724770544, 2.453033962919513, 2.1127551933236313, 1.827456912474039, 3.296470236128596, 2.347296799687657, 2.6487300052691087, 2.1167641736803993, 3.267271449574797, 2.6258411273635613, 1.8032200539285432, 3.260632020025955, 4.020145511645375, 2.3815120804276457, 2.6478629911791556, 1.839557370849878, 2.7821131061900553, 2.631150220425784, 2.0502778998741613, 2.517069659874554, 3.2792554238643095, 2.895763998933375, 2.895605528296998, 2.6860501668795638, 2.381326490074115, 2.556320549300172, 4.145270658693159, 7.609456740799756, 5.85375827316962, 2.9827748340991262, 2.879905499270331, 3.266092558737581, 4.973163413050471, 2.652899089980155, 2.4937135386493785, 2.282085152587622, 4.461883554149873, 1.621272727944901, 2.9982128147745053, 5.363276623376919, 2.140175514570622, 2.8636261538760412, 2.007037471334795, 1.7905644582100129, 2.297550252980154, 2.1550987107354596, 2.115822008567009, 2.8369445998637914, 2.3947662703850283, 3.4803674044268402, 1.5082171620046316, 3.191780939558312, 1.747815615386997, 4.73490362811602, 2.935917517499184, 1.9763915374644696, 3.5541813931335264, 2.42835322322037, 3.0640467450229543, 3.6726707048118494, 2.42155417943262, 2.2346274446591363, 2.4212764473894843, 2.2551703036591384, 2.2214524900199426, 6.788282161194105, 7.142833580486727, 4.0535334776404, 4.089768360449354, 4.538958117042972, 7.454147675303993, 4.2514430443737865, 3.6714176431819374, 3.9604664502163915, 2.8116572607080825, 3.0853925763711985, 3.413081752451742, 2.04153097423329, 3.214871254881028, 3.32651920947797, 2.305634379268672, 4.538809775457579, 2.200324106524295, 3.521838026364272, 6.154660357061522, 1.7726625041966508, 3.085606266672623, 1.5101485433069548, 3.0456644779467577, 1.7647716467357972, 3.9206537252046894, 3.664619416253138, 4.394912556242469, 1.931425412706491, 2.7368504616330815, 1.8608942167496678, 2.1144885680163776, 2.075286200012414, 2.1363439559778805, 1.9709667771748705], \"Total\": [602.0, 579.0, 637.0, 1300.0, 461.0, 459.0, 630.0, 518.0, 381.0, 548.0, 444.0, 425.0, 399.0, 679.0, 533.0, 495.0, 403.0, 428.0, 584.0, 509.0, 419.0, 596.0, 499.0, 700.0, 752.0, 560.0, 726.0, 671.0, 733.0, 603.0, 403.5660259004457, 413.8293391676609, 548.9587578690333, 462.55499032518844, 486.7457873375167, 740.1874405247339, 700.4610159810193, 509.8438767582576, 560.8157290346568, 654.7351290911802, 461.771394051424, 859.6695248997241, 583.8754804625215, 1126.5857674363263, 660.5070627347445, 656.0291243264019, 438.5164483757768, 766.1810002687728, 721.3152964957261, 883.7408873518199, 603.4651464463333, 447.6817371921908, 459.72913322344573, 516.4546829811068, 386.0651375925159, 997.9764406125605, 299.12599332173005, 654.951996018197, 985.7056952408453, 336.59503890703866, 733.858349448381, 749.3309533125955, 726.3430900407252, 1300.64337998434, 752.3890658024352, 671.9057438936946, 873.0383795791935, 368.8827045276954, 428.78140756391394, 495.3574980781803, 496.736977623716, 679.6017534449495, 373.06030127623677, 341.64888761377887, 394.0375095965548, 883.7408873518199, 671.9057438936946, 752.3890658024352, 721.1511878923992, 437.7090468314875, 355.9791480175852, 361.617408904034, 386.0651375925159, 721.3152964957261, 654.7351290911802, 362.0017529749342, 462.55499032518844, 447.6817371921908, 438.5164483757768, 432.56242494129555, 411.1940459027022, 997.9764406125605, 766.1810002687728, 660.5070627347445, 985.7056952408453, 859.6695248997241, 509.8438767582576, 726.5281029364703, 749.3309533125955, 740.1874405247339, 726.3430900407252, 733.858349448381, 630.5180472273785, 1126.5857674363263, 873.0383795791935, 656.0291243264019, 495.3574980781803, 679.6017534449495, 883.7408873518199, 428.78140756391394, 752.3890658024352, 368.8827045276954, 534.7910697794384, 365.39781477864534, 361.617408904034, 462.55499032518844, 726.3430900407252, 459.72913322344573, 386.0651375925159, 394.0375095965548, 299.12599332173005, 721.3152964957261, 671.9057438936946, 721.1511878923992, 997.9764406125605, 496.736977623716, 766.1810002687728, 272.38210021181385, 360.7914863812142, 726.5281029364703, 336.59503890703866, 603.4651464463333, 654.7351290911802, 452.4700651860944, 660.5070627347445, 630.5180472273785, 859.6695248997241, 985.7056952408453, 583.8754804625215, 656.0291243264019, 924.2557528529916, 740.1874405247339, 1126.5857674363263, 425.79199909309426, 534.7910697794384, 596.8096098884885, 518.7132712173628, 726.3430900407252, 452.4700651860944, 462.55499032518844, 365.39781477864534, 438.5164483757768, 656.0291243264019, 873.0383795791935, 272.38210021181385, 583.8754804625215, 654.7351290911802, 459.72913322344573, 660.5070627347445, 376.95463741637957, 447.6817371921908, 509.8438767582576, 399.8519489227498, 740.1874405247339, 749.3309533125955, 411.1940459027022, 1126.5857674363263, 548.9587578690333, 859.6695248997241, 299.12599332173005, 360.7914863812142, 766.1810002687728, 934.6230260553675, 997.9764406125605, 726.5281029364703, 721.1511878923992, 883.7408873518199, 924.2557528529916, 985.7056952408453, 721.3152964957261, 1300.64337998434, 584.6929156498953, 934.6230260553675, 331.505782751394, 362.0017529749342, 431.94661427818403, 299.12599332173005, 452.4700651860944, 386.0651375925159, 740.1874405247339, 509.00859871786594, 596.8096098884885, 583.8754804625215, 726.3430900407252, 462.55499032518844, 1300.64337998434, 660.5070627347445, 516.4546829811068, 656.0291243264019, 395.0051146729979, 336.59503890703866, 539.9250799654735, 534.7910697794384, 985.7056952408453, 438.5164483757768, 654.951996018197, 272.38210021181385, 654.7351290911802, 445.0552550757041, 997.9764406125605, 859.6695248997241, 1126.5857674363263, 766.1810002687728, 721.1511878923992, 726.5281029364703, 603.4651464463333, 733.858349448381, 413.8293391676609, 394.0375095965548, 700.4610159810193, 749.3309533125955, 721.3152964957261, 399.2857160227035, 859.6695248997241, 462.55499032518844, 721.1511878923992, 997.9764406125605, 603.4651464463333, 516.4546829811068, 386.0651375925159, 539.9250799654735, 766.1810002687728, 534.7910697794384, 654.7351290911802, 447.6817371921908, 654.951996018197, 656.0291243264019, 660.5070627347445, 272.38210021181385, 740.1874405247339, 1126.5857674363263, 985.7056952408453, 509.8438767582576, 583.8754804625215, 726.5281029364703, 873.0383795791935, 437.7090468314875, 883.7408873518199, 1300.64337998434, 752.3890658024352, 533.1135242189127, 924.2557528529916, 934.6230260553675, 438.5164483757768, 360.7914863812142, 660.5070627347445, 749.3309533125955, 985.7056952408453, 654.951996018197, 873.0383795791935, 654.7351290911802, 386.0651375925159, 1126.5857674363263, 721.3152964957261, 534.7910697794384, 437.7090468314875, 726.5281029364703, 516.4546829811068, 997.9764406125605, 355.9791480175852, 454.2651521509093, 721.1511878923992, 336.59503890703866, 447.6817371921908, 496.736977623716, 637.4131332769049, 509.8438767582576, 376.95463741637957, 859.6695248997241, 583.8754804625215, 1300.64337998434, 766.1810002687728, 883.7408873518199, 740.1874405247339, 630.5180472273785, 322.1763525159129, 726.3430900407252, 584.6929156498953, 461.771394051424, 518.7132712173628, 365.39781477864534, 419.62104111943455, 444.37660889415037, 299.12599332173005, 660.5070627347445, 386.0651375925159, 934.6230260553675, 603.4651464463333, 272.38210021181385, 548.9587578690333, 462.55499032518844, 459.72913322344573, 361.617408904034, 452.4700651860944, 432.56242494129555, 766.1810002687728, 740.1874405247339, 336.59503890703866, 534.7910697794384, 509.00859871786594, 997.9764406125605, 411.1940459027022, 583.8754804625215, 654.7351290911802, 447.6817371921908, 1126.5857674363263, 539.9250799654735, 656.0291243264019, 859.6695248997241, 1300.64337998434, 985.7056952408453, 654.951996018197, 721.1511878923992, 883.7408873518199, 395.0051146729979, 431.94661427818403, 362.0017529749342, 584.6929156498953, 459.26929393025483, 721.1511878923992, 447.6817371921908, 355.9791480175852, 1300.64337998434, 654.7351290911802, 766.1810002687728, 1126.5857674363263, 583.8754804625215, 299.12599332173005, 452.4700651860944, 654.951996018197, 883.7408873518199, 539.9250799654735, 985.7056952408453, 740.1874405247339, 700.4610159810193, 509.8438767582576, 733.858349448381, 656.0291243264019, 399.2857160227035, 499.0350151879494, 721.3152964957261, 376.95463741637957, 516.4546829811068, 360.7914863812142, 997.9764406125605, 726.5281029364703, 934.6230260553675, 660.5070627347445, 562.5091455939992, 1300.64337998434, 603.4651464463333, 444.37660889415037, 399.2857160227035, 516.4546829811068, 365.39781477864534, 733.858349448381, 534.7910697794384, 447.6817371921908, 452.4700651860944, 509.00859871786594, 362.0017529749342, 985.7056952408453, 459.72913322344573, 272.38210021181385, 660.5070627347445, 539.9250799654735, 336.59503890703866, 654.951996018197, 934.6230260553675, 766.1810002687728, 721.1511878923992, 656.0291243264019, 583.8754804625215, 924.2557528529916, 1126.5857674363263, 509.8438767582576, 740.1874405247339, 299.12599332173005, 454.2651521509093, 997.9764406125605, 859.6695248997241, 726.5281029364703, 654.7351290911802, 749.3309533125955, 924.2557528529916, 534.7910697794384, 873.0383795791935, 630.5180472273785, 437.7090468314875, 462.55499032518844, 386.0651375925159, 721.3152964957261, 518.7132712173628, 997.9764406125605, 654.7351290911802, 883.7408873518199, 447.6817371921908, 438.5164483757768, 985.7056952408453, 726.5281029364703, 373.06030127623677, 1126.5857674363263, 766.1810002687728, 402.8880965831275, 365.39781477864534, 583.8754804625215, 360.7914863812142, 660.5070627347445, 376.95463741637957, 656.0291243264019, 859.6695248997241, 721.1511878923992, 411.1940459027022, 445.0552550757041, 602.4225749741881, 740.1874405247339, 733.858349448381, 654.951996018197, 752.3890658024352, 548.9587578690333, 454.2651521509093, 726.3430900407252, 560.8157290346568, 413.8293391676609, 438.5164483757768, 766.1810002687728, 403.5660259004457, 462.55499032518844, 740.1874405247339, 272.38210021181385, 516.4546829811068, 603.4651464463333, 583.8754804625215, 361.617408904034, 447.6817371921908, 656.0291243264019, 299.12599332173005, 437.7090468314875, 411.1940459027022, 654.7351290911802, 399.8519489227498, 721.1511878923992, 859.6695248997241, 452.4700651860944, 997.9764406125605, 386.0651375925159, 496.736977623716, 721.3152964957261, 381.7864898571163, 539.9250799654735, 1126.5857674363263, 934.6230260553675, 1300.64337998434, 985.7056952408453, 660.5070627347445, 733.858349448381, 654.951996018197, 331.505782751394, 299.12599332173005, 272.38210021181385, 721.1511878923992, 395.0051146729979, 360.7914863812142, 584.6929156498953, 362.0017529749342, 934.6230260553675, 766.1810002687728, 447.6817371921908, 394.0375095965548, 516.4546829811068, 376.95463741637957, 386.0651375925159, 459.72913322344573, 740.1874405247339, 654.7351290911802, 399.8519489227498, 726.3430900407252, 355.9791480175852, 438.5164483757768, 985.7056952408453, 462.55499032518844, 726.5281029364703, 509.00859871786594, 411.1940459027022, 1300.64337998434, 883.7408873518199, 399.2857160227035, 562.5091455939992, 721.3152964957261, 1126.5857674363263, 997.9764406125605, 660.5070627347445, 671.9057438936946, 583.8754804625215, 603.4651464463333, 654.951996018197, 509.8438767582576, 518.7132712173628, 924.2557528529916, 749.3309533125955, 752.3890658024352, 630.5180472273785, 459.72913322344573, 272.38210021181385, 438.5164483757768, 733.858349448381, 859.6695248997241, 452.4700651860944, 873.0383795791935, 660.5070627347445, 883.7408873518199, 766.1810002687728, 721.3152964957261, 985.7056952408453, 656.0291243264019, 402.8880965831275, 1126.5857674363263, 583.8754804625215, 534.7910697794384, 361.617408904034, 997.9764406125605, 539.9250799654735, 462.55499032518844, 486.7457873375167, 602.4225749741881, 740.1874405247339, 654.7351290911802, 726.5281029364703, 603.4651464463333, 1300.64337998434, 934.6230260553675, 428.78140756391394, 671.9057438936946, 679.6017534449495, 495.3574980781803, 368.8827045276954, 883.7408873518199, 752.3890658024352, 603.4651464463333, 299.12599332173005, 509.00859871786594, 985.7056952408453, 452.4700651860944, 496.736977623716, 721.1511878923992, 766.1810002687728, 402.8880965831275, 740.1874405247339, 386.0651375925159, 534.7910697794384, 376.95463741637957, 516.4546829811068, 997.9764406125605, 272.38210021181385, 360.7914863812142, 733.858349448381, 539.9250799654735, 654.7351290911802, 447.6817371921908, 583.8754804625215, 630.5180472273785, 726.5281029364703, 1126.5857674363263, 859.6695248997241, 934.6230260553675, 656.0291243264019, 1300.64337998434, 660.5070627347445, 399.2857160227035, 272.38210021181385, 386.0651375925159, 299.12599332173005, 562.5091455939992, 516.4546829811068, 934.6230260553675, 985.7056952408453, 459.26929393025483, 447.6817371921908, 660.5070627347445, 654.7351290911802, 437.7090468314875, 654.951996018197, 360.7914863812142, 336.59503890703866, 431.94661427818403, 1300.64337998434, 355.9791480175852, 997.9764406125605, 539.9250799654735, 534.7910697794384, 726.5281029364703, 438.5164483757768, 444.37660889415037, 740.1874405247339, 721.3152964957261, 924.2557528529916, 560.8157290346568, 533.1135242189127, 1126.5857674363263, 656.0291243264019, 721.1511878923992, 766.1810002687728, 603.4651464463333, 584.6929156498953, 583.8754804625215, 419.62104111943455, 499.0350151879494, 602.4225749741881, 394.0375095965548, 452.4700651860944, 637.4131332769049, 459.72913322344573, 883.7408873518199, 272.38210021181385, 726.3430900407252, 437.7090468314875, 656.0291243264019, 721.3152964957261, 1300.64337998434, 299.12599332173005, 997.9764406125605, 438.5164483757768, 660.5070627347445, 496.736977623716, 603.4651464463333, 583.8754804625215, 859.6695248997241, 365.39781477864534, 518.7132712173628, 726.5281029364703, 654.7351290911802, 516.4546829811068, 752.3890658024352, 386.0651375925159, 985.7056952408453, 1126.5857674363263, 740.1874405247339, 766.1810002687728, 534.7910697794384, 873.0383795791935, 700.4610159810193, 486.7457873375167, 499.0350151879494, 654.7351290911802, 1126.5857674363263, 437.7090468314875, 985.7056952408453, 386.0651375925159, 721.3152964957261, 740.1874405247339, 721.1511878923992, 656.0291243264019, 459.26929393025483, 583.8754804625215, 924.2557528529916, 431.94661427818403, 534.7910697794384, 462.55499032518844, 660.5070627347445, 355.9791480175852, 452.4700651860944, 438.5164483757768, 637.4131332769049, 766.1810002687728, 726.5281029364703, 997.9764406125605, 749.3309533125955, 376.95463741637957, 752.3890658024352, 654.951996018197, 603.4651464463333, 873.0383795791935, 859.6695248997241, 733.858349448381, 637.4131332769049, 394.0375095965548, 437.7090468314875, 534.7910697794384, 752.3890658024352, 997.9764406125605, 721.3152964957261, 859.6695248997241, 654.7351290911802, 438.5164483757768, 660.5070627347445, 360.7914863812142, 749.3309533125955, 700.4610159810193, 452.4700651860944, 1126.5857674363263, 630.5180472273785, 873.0383795791935, 656.0291243264019, 985.7056952408453, 539.9250799654735, 516.4546829811068, 766.1810002687728, 496.736977623716, 654.951996018197, 740.1874405247339, 583.8754804625215, 462.55499032518844, 509.8438767582576, 355.9791480175852, 509.00859871786594, 721.1511878923992, 726.5281029364703, 733.858349448381, 1300.64337998434, 341.64888761377887, 924.2557528529916, 509.00859871786594, 654.7351290911802, 630.5180472273785, 518.7132712173628, 437.7090468314875, 873.0383795791935, 859.6695248997241, 272.38210021181385, 733.858349448381, 534.7910697794384, 447.6817371921908, 1300.64337998434, 438.5164483757768, 749.3309533125955, 721.3152964957261, 583.8754804625215, 459.72913322344573, 752.3890658024352, 985.7056952408453, 637.4131332769049, 654.951996018197, 997.9764406125605, 740.1874405247339, 539.9250799654735, 386.0651375925159, 660.5070627347445, 766.1810002687728, 394.0375095965548, 1126.5857674363263, 934.6230260553675, 883.7408873518199, 726.5281029364703, 726.3430900407252, 602.4225749741881, 873.0383795791935, 924.2557528529916, 721.3152964957261, 985.7056952408453, 654.7351290911802, 997.9764406125605, 438.5164483757768, 1126.5857674363263, 726.5281029364703, 272.38210021181385, 447.6817371921908, 386.0651375925159, 740.1874405247339, 534.7910697794384, 721.1511878923992, 766.1810002687728, 583.8754804625215, 437.7090468314875, 654.951996018197, 733.858349448381, 462.55499032518844, 509.00859871786594, 452.4700651860944, 656.0291243264019, 445.0552550757041, 496.736977623716, 539.9250799654735, 752.3890658024352, 859.6695248997241, 934.6230260553675, 679.6017534449495, 883.7408873518199, 934.6230260553675, 495.3574980781803, 726.3430900407252, 671.9057438936946, 386.0651375925159, 402.8880965831275, 985.7056952408453, 331.505782751394, 341.64888761377887, 721.1511878923992, 462.55499032518844, 656.0291243264019, 533.1135242189127, 272.38210021181385, 997.9764406125605, 603.4651464463333, 368.8827045276954, 360.7914863812142, 766.1810002687728, 534.7910697794384, 1300.64337998434, 447.6817371921908, 299.12599332173005, 437.7090468314875, 362.0017529749342, 336.59503890703866, 454.2651521509093, 726.5281029364703, 516.4546829811068, 740.1874405247339, 583.8754804625215, 660.5070627347445, 859.6695248997241, 654.7351290911802, 873.0383795791935, 1300.64337998434, 534.7910697794384, 355.9791480175852, 997.9764406125605, 934.6230260553675, 462.55499032518844, 341.64888761377887, 859.6695248997241, 602.4225749741881, 660.5070627347445, 726.3430900407252, 721.3152964957261, 985.7056952408453, 740.1874405247339, 459.72913322344573, 721.1511878923992, 654.951996018197, 766.1810002687728, 1126.5857674363263, 883.7408873518199, 272.38210021181385, 437.7090468314875, 452.4700651860944, 596.8096098884885, 726.5281029364703, 496.736977623716, 671.9057438936946, 411.1940459027022, 548.9587578690333, 516.4546829811068, 654.7351290911802, 924.2557528529916, 579.6855792400908, 362.0017529749342, 437.7090468314875, 924.2557528529916, 355.9791480175852, 873.0383795791935, 562.5091455939992, 1126.5857674363263, 438.5164483757768, 516.4546829811068, 496.736977623716, 721.1511878923992, 534.7910697794384, 654.7351290911802, 721.3152964957261, 766.1810002687728, 997.9764406125605, 749.3309533125955, 360.7914863812142, 656.0291243264019, 740.1874405247339, 447.6817371921908, 452.4700651860944, 733.858349448381, 432.56242494129555, 883.7408873518199, 679.6017534449495, 376.95463741637957, 726.5281029364703, 486.7457873375167, 985.7056952408453, 859.6695248997241, 1300.64337998434, 654.951996018197, 733.858349448381, 1300.64337998434, 1126.5857674363263, 766.1810002687728, 462.55499032518844, 509.8438767582576, 499.0350151879494, 656.0291243264019, 438.5164483757768, 859.6695248997241, 381.7864898571163, 516.4546829811068, 452.4700651860944, 924.2557528529916, 630.5180472273785, 700.4610159810193, 721.1511878923992, 437.7090468314875, 934.6230260553675, 447.6817371921908, 740.1874405247339, 560.8157290346568, 459.26929393025483, 985.7056952408453, 654.951996018197, 749.3309533125955, 596.8096098884885, 539.9250799654735, 873.0383795791935, 654.7351290911802, 997.9764406125605, 671.9057438936946, 726.5281029364703, 671.9057438936946, 454.2651521509093, 934.6230260553675, 560.8157290346568, 462.55499032518844, 428.78140756391394, 386.0651375925159, 299.12599332173005, 411.1940459027022, 516.4546829811068, 883.7408873518199, 1300.64337998434, 360.7914863812142, 376.95463741637957, 362.0017529749342, 740.1874405247339, 766.1810002687728, 509.8438767582576, 985.7056952408453, 733.858349448381, 394.0375095965548, 721.1511878923992, 336.59503890703866, 402.8880965831275, 726.3430900407252, 656.0291243264019, 596.8096098884885, 447.6817371921908, 548.9587578690333, 654.951996018197, 584.6929156498953, 1126.5857674363263, 997.9764406125605, 859.6695248997241, 726.5281029364703, 660.5070627347445, 679.6017534449495, 562.5091455939992, 560.8157290346568, 721.3152964957261, 438.5164483757768, 740.1874405247339, 859.6695248997241, 516.4546829811068, 454.2651521509093, 671.9057438936946, 883.7408873518199, 402.8880965831275, 462.55499032518844, 766.1810002687728, 985.7056952408453, 534.7910697794384, 583.8754804625215, 437.7090468314875, 411.1940459027022, 548.9587578690333, 656.0291243264019, 660.5070627347445, 654.951996018197, 539.9250799654735, 272.38210021181385, 447.6817371921908, 1126.5857674363263, 603.4651464463333, 654.7351290911802, 299.12599332173005, 726.5281029364703, 997.9764406125605, 452.4700651860944, 934.6230260553675, 924.2557528529916, 733.858349448381, 721.1511878923992, 1300.64337998434, 486.7457873375167, 873.0383795791935, 700.4610159810193, 437.7090468314875, 1126.5857674363263, 749.3309533125955, 721.1511878923992, 654.7351290911802, 740.1874405247339, 924.2557528529916, 997.9764406125605, 859.6695248997241, 583.8754804625215, 299.12599332173005, 726.5281029364703, 509.00859871786594, 660.5070627347445, 386.0651375925159, 447.6817371921908, 411.1940459027022, 361.617408904034, 721.3152964957261, 496.736977623716, 445.0552550757041, 272.38210021181385, 402.8880965831275, 934.6230260553675, 654.951996018197, 985.7056952408453, 534.7910697794384, 630.5180472273785, 883.7408873518199, 656.0291243264019, 766.1810002687728, 752.3890658024352, 413.8293391676609, 452.4700651860944, 883.7408873518199, 438.5164483757768, 437.7090468314875, 299.12599332173005, 721.1511878923992, 859.6695248997241, 985.7056952408453, 660.5070627347445, 654.7351290911802, 721.3152964957261, 740.1874405247339, 700.4610159810193, 394.0375095965548, 1126.5857674363263, 583.8754804625215, 766.1810002687728, 386.0651375925159, 997.9764406125605, 462.55499032518844, 376.95463741637957, 654.951996018197, 432.56242494129555, 630.5180472273785, 726.5281029364703, 637.4131332769049, 341.64888761377887, 656.0291243264019, 509.8438767582576, 679.6017534449495, 873.0383795791935, 602.4225749741881, 499.0350151879494, 1300.64337998434, 1126.5857674363263, 654.7351290911802, 539.9250799654735, 386.0651375925159, 740.1874405247339, 437.7090468314875, 656.0291243264019, 660.5070627347445, 583.8754804625215, 438.5164483757768, 637.4131332769049, 721.3152964957261, 766.1810002687728, 509.8438767582576, 883.7408873518199, 733.858349448381, 452.4700651860944, 419.62104111943455, 997.9764406125605, 399.8519489227498, 447.6817371921908, 726.5281029364703, 272.38210021181385, 462.55499032518844, 603.4651464463333, 873.0383795791935, 395.0051146729979, 985.7056952408453, 721.1511878923992, 752.3890658024352, 859.6695248997241, 654.951996018197, 596.8096098884885, 721.1511878923992, 299.12599332173005, 934.6230260553675, 362.0017529749342, 656.0291243264019, 438.5164483757768, 740.1874405247339, 462.55499032518844, 447.6817371921908, 516.4546829811068, 883.7408873518199, 726.3430900407252, 509.8438767582576, 579.6855792400908, 386.0651375925159, 583.8754804625215, 452.4700651860944, 766.1810002687728, 376.95463741637957, 411.1940459027022, 997.9764406125605, 1126.5857674363263, 361.617408904034, 985.7056952408453, 444.37660889415037, 660.5070627347445, 726.5281029364703, 562.5091455939992, 431.94661427818403, 1300.64337998434, 654.7351290911802, 733.858349448381, 654.951996018197, 671.9057438936946, 859.6695248997241, 459.72913322344573, 361.617408904034, 272.38210021181385, 438.5164483757768, 934.6230260553675, 452.4700651860944, 386.0651375925159, 766.1810002687728, 752.3890658024352, 462.55499032518844, 509.8438767582576, 360.7914863812142, 1126.5857674363263, 721.1511878923992, 583.8754804625215, 997.9764406125605, 534.7910697794384, 336.59503890703866, 726.5281029364703, 660.5070627347445, 883.7408873518199, 654.7351290911802, 1300.64337998434, 721.3152964957261, 726.3430900407252, 539.9250799654735, 447.6817371921908, 740.1874405247339, 671.9057438936946, 299.12599332173005, 656.0291243264019, 859.6695248997241, 985.7056952408453, 924.2557528529916, 726.3430900407252, 934.6230260553675, 721.1511878923992, 883.7408873518199, 462.55499032518844, 656.0291243264019, 386.0651375925159, 671.9057438936946, 660.5070627347445, 766.1810002687728, 596.8096098884885, 402.8880965831275, 859.6695248997241, 997.9764406125605, 985.7056952408453, 509.8438767582576, 452.4700651860944, 583.8754804625215, 299.12599332173005, 437.7090468314875, 548.9587578690333, 654.7351290911802, 654.951996018197, 454.2651521509093, 447.6817371921908, 721.3152964957261, 438.5164483757768, 331.505782751394, 726.5281029364703, 461.771394051424, 679.6017534449495, 740.1874405247339, 1126.5857674363263, 1300.64337998434, 459.26929393025483, 924.2557528529916, 447.6817371921908, 1126.5857674363263, 355.9791480175852, 360.7914863812142, 721.3152964957261, 700.4610159810193, 726.5281029364703, 395.0051146729979, 399.2857160227035, 985.7056952408453, 656.0291243264019, 766.1810002687728, 603.4651464463333, 437.7090468314875, 721.1511878923992, 533.1135242189127, 583.8754804625215, 376.95463741637957, 654.7351290911802, 997.9764406125605, 272.38210021181385, 299.12599332173005, 386.0651375925159, 445.0552550757041, 452.4700651860944, 660.5070627347445, 459.72913322344573, 1300.64337998434, 562.5091455939992, 539.9250799654735, 749.3309533125955, 883.7408873518199, 859.6695248997241, 934.6230260553675, 740.1874405247339, 431.94661427818403, 700.4610159810193, 1126.5857674363263, 721.3152964957261, 399.2857160227035, 299.12599332173005, 452.4700651860944, 462.55499032518844, 654.7351290911802, 985.7056952408453, 496.736977623716, 721.1511878923992, 516.4546829811068, 386.0651375925159, 654.951996018197, 733.858349448381, 656.0291243264019, 395.0051146729979, 373.06030127623677, 726.5281029364703, 583.8754804625215, 534.7910697794384, 997.9764406125605, 447.6817371921908, 859.6695248997241, 509.00859871786594, 660.5070627347445, 499.0350151879494, 509.8438767582576, 411.1940459027022, 924.2557528529916, 883.7408873518199, 934.6230260553675, 1300.64337998434, 740.1874405247339, 766.1810002687728, 749.3309533125955, 873.0383795791935, 752.3890658024352, 602.4225749741881, 437.7090468314875, 299.12599332173005, 924.2557528529916, 462.55499032518844, 997.9764406125605, 660.5070627347445, 749.3309533125955, 654.7351290911802, 431.94661427818403, 859.6695248997241, 656.0291243264019, 579.6855792400908, 534.7910697794384, 721.3152964957261, 438.5164483757768, 883.7408873518199, 985.7056952408453, 630.5180472273785, 603.4651464463333, 341.64888761377887, 583.8754804625215, 1126.5857674363263, 740.1874405247339, 721.1511878923992, 386.0651375925159, 726.5281029364703, 539.9250799654735, 873.0383795791935, 355.9791480175852, 766.1810002687728, 752.3890658024352, 454.2651521509093, 596.8096098884885, 934.6230260553675, 447.6817371921908, 985.7056952408453, 656.0291243264019, 997.9764406125605, 726.3430900407252, 583.8754804625215, 660.5070627347445, 654.7351290911802, 452.4700651860944, 534.7910697794384, 516.4546829811068, 721.3152964957261, 560.8157290346568, 272.38210021181385, 509.8438767582576, 740.1874405247339, 402.8880965831275, 299.12599332173005, 859.6695248997241, 462.55499032518844, 883.7408873518199, 376.95463741637957, 726.5281029364703, 654.951996018197, 539.9250799654735, 438.5164483757768, 548.9587578690333, 766.1810002687728, 1300.64337998434, 679.6017534449495, 373.06030127623677, 752.3890658024352, 700.4610159810193, 630.5180472273785, 873.0383795791935, 486.7457873375167, 496.736977623716, 437.7090468314875, 637.4131332769049, 883.7408873518199, 452.4700651860944, 749.3309533125955, 859.6695248997241, 509.8438767582576, 583.8754804625215, 740.1874405247339, 733.858349448381, 766.1810002687728, 721.3152964957261, 654.7351290911802, 1126.5857674363263, 411.1940459027022, 299.12599332173005, 997.9764406125605, 462.55499032518844, 656.0291243264019, 726.5281029364703, 985.7056952408453, 459.72913322344573, 399.8519489227498, 924.2557528529916, 934.6230260553675, 721.1511878923992, 1300.64337998434, 509.00859871786594, 438.5164483757768, 399.2857160227035, 934.6230260553675, 583.8754804625215, 721.1511878923992, 997.9764406125605, 985.7056952408453, 654.7351290911802, 726.5281029364703, 740.1874405247339, 447.6817371921908, 660.5070627347445, 1126.5857674363263, 445.0552550757041, 766.1810002687728, 924.2557528529916, 454.2651521509093, 749.3309533125955, 399.8519489227498, 539.9250799654735, 452.4700651860944, 721.3152964957261, 444.37660889415037, 873.0383795791935, 431.94661427818403, 360.7914863812142, 562.5091455939992, 603.4651464463333, 486.7457873375167, 883.7408873518199, 654.951996018197, 859.6695248997241, 1300.64337998434, 630.5180472273785, 437.7090468314875, 924.2557528529916, 749.3309533125955, 873.0383795791935, 386.0651375925159, 883.7408873518199, 985.7056952408453, 438.5164483757768, 447.6817371921908, 721.3152964957261, 733.858349448381, 462.55499032518844, 654.7351290911802, 534.7910697794384, 1126.5857674363263, 299.12599332173005, 740.1874405247339, 660.5070627347445, 452.4700651860944, 726.5281029364703, 997.9764406125605, 445.0552550757041, 394.0375095965548, 341.64888761377887, 766.1810002687728, 365.39781477864534, 516.4546829811068, 859.6695248997241, 602.4225749741881, 656.0291243264019, 721.1511878923992, 583.8754804625215, 637.4131332769049, 700.4610159810193, 432.56242494129555, 299.12599332173005, 656.0291243264019, 740.1874405247339, 660.5070627347445, 752.3890658024352, 438.5164483757768, 985.7056952408453, 386.0651375925159, 509.8438767582576, 1126.5857674363263, 997.9764406125605, 654.7351290911802, 437.7090468314875, 721.1511878923992, 534.7910697794384, 516.4546829811068, 733.858349448381, 721.3152964957261, 562.5091455939992, 859.6695248997241, 766.1810002687728, 462.55499032518844, 272.38210021181385, 883.7408873518199, 726.5281029364703, 583.8754804625215, 376.95463741637957, 452.4700651860944, 539.9250799654735, 934.6230260553675, 1300.64337998434, 749.3309533125955, 654.951996018197, 402.8880965831275, 883.7408873518199, 934.6230260553675, 454.2651521509093, 679.6017534449495, 726.3430900407252, 596.8096098884885, 272.38210021181385, 924.2557528529916, 437.7090468314875, 516.4546829811068, 534.7910697794384, 721.3152964957261, 985.7056952408453, 361.617408904034, 1300.64337998434, 360.7914863812142, 660.5070627347445, 997.9764406125605, 726.5281029364703, 462.55499032518844, 654.951996018197, 656.0291243264019, 721.1511878923992, 583.8754804625215, 399.8519489227498, 447.6817371921908, 1126.5857674363263, 671.9057438936946, 603.4651464463333, 752.3890658024352, 766.1810002687728, 859.6695248997241, 873.0383795791935, 362.0017529749342, 721.1511878923992, 934.6230260553675, 462.55499032518844, 1126.5857674363263, 603.4651464463333, 534.7910697794384, 660.5070627347445, 584.6929156498953, 272.38210021181385, 766.1810002687728, 499.0350151879494, 386.0651375925159, 733.858349448381, 360.7914863812142, 438.5164483757768, 437.7090468314875, 596.8096098884885, 447.6817371921908, 395.0051146729979, 859.6695248997241, 671.9057438936946, 726.3430900407252, 562.5091455939992, 496.736977623716, 997.9764406125605, 740.1874405247339, 454.2651521509093, 399.2857160227035, 355.9791480175852, 656.0291243264019, 583.8754804625215, 985.7056952408453, 1300.64337998434, 336.59503890703866, 461.771394051424, 272.38210021181385, 934.6230260553675, 883.7408873518199, 660.5070627347445, 454.2651521509093, 452.4700651860944, 299.12599332173005, 534.7910697794384, 997.9764406125605, 386.0651375925159, 721.1511878923992, 985.7056952408453, 548.9587578690333, 360.7914863812142, 654.7351290911802, 726.3430900407252, 603.4651464463333, 437.7090468314875, 583.8754804625215, 726.5281029364703, 509.8438767582576, 459.26929393025483, 444.37660889415037, 432.56242494129555, 411.1940459027022, 438.5164483757768, 1126.5857674363263, 596.8096098884885, 654.951996018197, 1300.64337998434, 740.1874405247339, 766.1810002687728, 752.3890658024352, 656.0291243264019, 671.9057438936946, 365.39781477864534, 534.7910697794384, 509.8438767582576, 299.12599332173005, 386.0651375925159, 381.7864898571163, 438.5164483757768, 516.4546829811068, 654.7351290911802, 562.5091455939992, 1300.64337998434, 447.6817371921908, 997.9764406125605, 452.4700651860944, 654.951996018197, 1126.5857674363263, 656.0291243264019, 518.7132712173628, 740.1874405247339, 583.8754804625215, 721.3152964957261, 445.0552550757041, 596.8096098884885, 985.7056952408453, 361.617408904034, 660.5070627347445, 539.9250799654735, 766.1810002687728, 462.55499032518844, 499.0350151879494, 934.6230260553675, 859.6695248997241, 873.0383795791935, 752.3890658024352, 749.3309533125955, 461.771394051424, 584.6929156498953, 726.3430900407252, 883.7408873518199, 322.1763525159129, 459.72913322344573, 934.6230260553675, 419.62104111943455, 361.617408904034, 534.7910697794384, 654.7351290911802, 740.1874405247339, 997.9764406125605, 1126.5857674363263, 749.3309533125955, 548.9587578690333, 438.5164483757768, 413.8293391676609, 462.55499032518844, 766.1810002687728, 859.6695248997241, 386.0651375925159, 583.8754804625215, 721.3152964957261, 656.0291243264019, 660.5070627347445, 603.4651464463333, 1300.64337998434, 355.9791480175852, 700.4610159810193, 985.7056952408453, 873.0383795791935, 726.5281029364703, 411.1940459027022, 733.858349448381, 516.4546829811068, 766.1810002687728, 452.4700651860944, 509.8438767582576, 934.6230260553675, 447.6817371921908, 726.5281029364703, 438.5164483757768, 444.37660889415037, 721.1511878923992, 1126.5857674363263, 462.55499032518844, 437.7090468314875, 560.8157290346568, 654.7351290911802, 361.617408904034, 299.12599332173005, 459.72913322344573, 445.0552550757041, 740.1874405247339, 539.9250799654735, 509.00859871786594, 883.7408873518199, 394.0375095965548, 654.951996018197, 671.9057438936946, 579.6855792400908, 859.6695248997241, 997.9764406125605, 1300.64337998434, 924.2557528529916, 985.7056952408453, 539.9250799654735, 299.12599332173005, 452.4700651860944, 516.4546829811068, 509.8438767582576, 656.0291243264019, 654.7351290911802, 997.9764406125605, 721.1511878923992, 721.3152964957261, 766.1810002687728, 1126.5857674363263, 654.951996018197, 437.7090468314875, 985.7056952408453, 660.5070627347445, 447.6817371921908, 438.5164483757768, 740.1874405247339, 726.5281029364703, 934.6230260553675, 445.0552550757041, 462.55499032518844, 603.4651464463333, 360.7914863812142, 583.8754804625215, 859.6695248997241, 873.0383795791935, 376.95463741637957, 749.3309533125955, 1300.64337998434, 355.9791480175852, 386.0651375925159, 360.7914863812142, 1126.5857674363263, 934.6230260553675, 654.7351290911802, 516.4546829811068, 883.7408873518199, 534.7910697794384, 583.8754804625215, 454.2651521509093, 721.1511878923992, 437.7090468314875, 660.5070627347445, 997.9764406125605, 509.8438767582576, 985.7056952408453, 299.12599332173005, 462.55499032518844, 721.3152964957261, 749.3309533125955, 654.951996018197, 726.5281029364703, 924.2557528529916, 656.0291243264019, 873.0383795791935, 452.4700651860944, 1300.64337998434, 509.00859871786594, 361.617408904034, 603.4651464463333, 562.5091455939992, 859.6695248997241, 376.95463741637957, 373.06030127623677, 437.7090468314875, 721.1511878923992, 496.736977623716, 462.55499032518844, 583.8754804625215, 985.7056952408453, 447.6817371921908, 299.12599332173005, 432.56242494129555, 766.1810002687728, 700.4610159810193, 539.9250799654735, 656.0291243264019, 516.4546829811068, 445.0552550757041, 752.3890658024352, 438.5164483757768, 873.0383795791935, 486.7457873375167, 654.951996018197, 1126.5857674363263, 721.3152964957261, 883.7408873518199, 272.38210021181385, 654.7351290911802, 997.9764406125605, 452.4700651860944, 603.4651464463333, 733.858349448381, 630.5180472273785, 924.2557528529916, 726.5281029364703, 749.3309533125955, 444.37660889415037, 452.4700651860944, 272.38210021181385, 516.4546829811068, 660.5070627347445, 560.8157290346568, 394.0375095965548, 447.6817371921908, 438.5164483757768, 386.0651375925159, 859.6695248997241, 365.39781477864534, 399.2857160227035, 376.95463741637957, 654.951996018197, 1126.5857674363263, 740.1874405247339, 602.4225749741881, 534.7910697794384, 721.3152964957261, 924.2557528529916, 985.7056952408453, 539.9250799654735, 766.1810002687728, 1300.64337998434, 726.5281029364703, 462.55499032518844, 997.9764406125605, 752.3890658024352, 583.8754804625215, 934.6230260553675, 883.7408873518199, 496.736977623716, 394.0375095965548, 373.06030127623677, 752.3890658024352, 452.4700651860944, 438.5164483757768, 462.55499032518844, 1126.5857674363263, 873.0383795791935, 766.1810002687728, 859.6695248997241, 445.0552550757041, 660.5070627347445, 721.3152964957261, 630.5180472273785, 437.7090468314875, 509.00859871786594, 883.7408873518199, 721.1511878923992, 997.9764406125605, 579.6855792400908, 740.1874405247339, 637.4131332769049, 654.7351290911802, 509.8438767582576, 654.951996018197, 985.7056952408453, 726.5281029364703, 447.6817371921908, 459.72913322344573, 583.8754804625215, 656.0291243264019, 445.0552550757041, 726.5281029364703, 452.4700651860944, 437.7090468314875, 721.3152964957261, 985.7056952408453, 1126.5857674363263, 766.1810002687728, 386.0651375925159, 997.9764406125605, 740.1874405247339, 462.55499032518844, 299.12599332173005, 660.5070627347445, 654.7351290911802, 934.6230260553675, 583.8754804625215, 438.5164483757768, 560.8157290346568, 859.6695248997241, 883.7408873518199, 496.736977623716, 584.6929156498953, 399.2857160227035, 752.3890658024352, 459.72913322344573, 548.9587578690333, 499.0350151879494, 630.5180472273785, 365.39781477864534, 637.4131332769049, 700.4610159810193, 360.7914863812142, 447.6817371921908, 721.1511878923992, 660.5070627347445, 721.3152964957261, 299.12599332173005, 654.951996018197, 445.0552550757041, 740.1874405247339, 509.8438767582576, 726.5281029364703, 452.4700651860944, 583.8754804625215, 997.9764406125605, 766.1810002687728, 934.6230260553675, 438.5164483757768, 726.3430900407252, 656.0291243264019, 883.7408873518199, 376.95463741637957, 985.7056952408453, 671.9057438936946, 1126.5857674363263, 462.55499032518844, 654.7351290911802, 394.0375095965548, 516.4546829811068, 331.505782751394, 411.1940459027022, 539.9250799654735, 859.6695248997241, 509.00859871786594, 859.6695248997241, 740.1874405247339, 509.8438767582576, 997.9764406125605, 299.12599332173005, 438.5164483757768, 656.0291243264019, 766.1810002687728, 1126.5857674363263, 985.7056952408453, 721.3152964957261, 660.5070627347445, 447.6817371921908, 654.7351290911802, 934.6230260553675, 721.1511878923992, 873.0383795791935, 386.0651375925159, 883.7408873518199, 539.9250799654735, 516.4546829811068, 462.55499032518844, 534.7910697794384, 654.951996018197, 419.62104111943455, 583.8754804625215, 437.7090468314875, 496.736977623716, 752.3890658024352, 445.0552550757041, 726.3430900407252, 726.5281029364703, 1300.64337998434, 583.8754804625215, 516.4546829811068, 654.951996018197, 386.0651375925159, 740.1874405247339, 656.0291243264019, 721.3152964957261, 985.7056952408453, 437.7090468314875, 299.12599332173005, 934.6230260553675, 997.9764406125605, 1126.5857674363263, 733.858349448381, 766.1810002687728, 462.55499032518844, 452.4700651860944, 654.7351290911802, 534.7910697794384, 873.0383795791935, 603.4651464463333, 596.8096098884885, 721.1511878923992, 660.5070627347445, 509.8438767582576, 399.2857160227035, 560.8157290346568, 859.6695248997241, 726.5281029364703, 579.6855792400908, 1300.64337998434, 883.7408873518199, 654.951996018197, 660.5070627347445, 721.3152964957261, 985.7056952408453, 997.9764406125605, 656.0291243264019, 447.6817371921908, 679.6017534449495, 437.7090468314875, 452.4700651860944, 934.6230260553675, 428.78140756391394, 671.9057438936946, 654.7351290911802, 1126.5857674363263, 534.7910697794384, 361.617408904034, 583.8754804625215, 336.59503890703866, 355.9791480175852, 740.1874405247339, 721.1511878923992, 883.7408873518199, 495.3574980781803, 272.38210021181385, 726.5281029364703, 516.4546829811068, 459.72913322344573, 432.56242494129555, 562.5091455939992, 752.3890658024352, 361.617408904034, 336.59503890703866, 740.1874405247339, 560.8157290346568, 386.0651375925159, 447.6817371921908, 766.1810002687728, 462.55499032518844, 548.9587578690333, 516.4546829811068, 459.72913322344573, 603.4651464463333, 399.2857160227035, 509.8438767582576, 432.56242494129555, 444.37660889415037, 859.6695248997241, 534.7910697794384, 437.7090468314875, 721.3152964957261, 365.39781477864534, 583.8754804625215, 660.5070627347445, 486.7457873375167, 733.858349448381, 873.0383795791935, 299.12599332173005, 985.7056952408453, 654.7351290911802, 934.6230260553675, 883.7408873518199, 1300.64337998434, 997.9764406125605, 1126.5857674363263, 721.1511878923992, 603.4651464463333, 726.5281029364703, 766.1810002687728, 360.7914863812142, 656.0291243264019, 740.1874405247339, 534.7910697794384, 452.4700651860944, 1126.5857674363263, 997.9764406125605, 985.7056952408453, 721.3152964957261, 445.0552550757041, 462.55499032518844, 721.1511878923992, 419.62104111943455, 660.5070627347445, 583.8754804625215, 355.9791480175852, 596.8096098884885, 934.6230260553675, 654.7351290911802, 883.7408873518199, 752.3890658024352, 272.38210021181385, 432.56242494129555, 447.6817371921908, 496.736977623716, 539.9250799654735, 459.72913322344573, 859.6695248997241, 1300.64337998434, 381.7864898571163, 376.95463741637957, 654.951996018197, 516.4546829811068, 656.0291243264019, 562.5091455939992, 509.00859871786594, 985.7056952408453, 462.55499032518844, 726.5281029364703, 934.6230260553675, 1126.5857674363263, 924.2557528529916, 431.94661427818403, 452.4700651860944, 660.5070627347445, 740.1874405247339, 432.56242494129555, 603.4651464463333, 766.1810002687728, 721.1511878923992, 360.7914863812142, 733.858349448381, 721.3152964957261, 411.1940459027022, 584.6929156498953, 997.9764406125605, 859.6695248997241, 447.6817371921908, 438.5164483757768, 654.7351290911802, 509.8438767582576, 381.7864898571163, 656.0291243264019, 534.7910697794384, 1126.5857674363263, 766.1810002687728, 752.3890658024352, 452.4700651860944, 654.951996018197, 386.0651375925159, 924.2557528529916, 437.7090468314875, 859.6695248997241, 985.7056952408453, 360.7914863812142, 740.1874405247339, 579.6855792400908, 721.3152964957261, 1300.64337998434, 539.9250799654735, 630.5180472273785, 654.7351290911802, 660.5070627347445, 431.94661427818403, 873.0383795791935, 721.1511878923992, 331.505782751394, 355.9791480175852, 365.39781477864534, 583.8754804625215, 997.9764406125605, 883.7408873518199, 749.3309533125955, 630.5180472273785, 883.7408873518199, 752.3890658024352, 459.26929393025483, 431.94661427818403, 1126.5857674363263, 700.4610159810193, 721.3152964957261, 373.06030127623677, 924.2557528529916, 516.4546829811068, 444.37660889415037, 496.736977623716, 654.7351290911802, 654.951996018197, 985.7056952408453, 766.1810002687728, 637.4131332769049, 399.2857160227035, 395.0051146729979, 437.7090468314875, 997.9764406125605, 452.4700651860944, 726.5281029364703, 336.59503890703866, 583.8754804625215, 518.7132712173628, 365.39781477864534, 509.8438767582576, 331.505782751394, 873.0383795791935, 749.3309533125955, 859.6695248997241, 399.8519489227498, 721.1511878923992, 445.0552550757041, 740.1874405247339, 726.5281029364703, 603.4651464463333, 721.3152964957261, 272.38210021181385, 656.0291243264019, 447.6817371921908, 386.0651375925159, 432.56242494129555, 766.1810002687728, 452.4700651860944, 997.9764406125605, 985.7056952408453, 583.8754804625215, 654.7351290911802, 1126.5857674363263, 539.9250799654735, 859.6695248997241, 654.951996018197, 630.5180472273785, 924.2557528529916, 749.3309533125955, 462.55499032518844, 438.5164483757768, 700.4610159810193, 454.2651521509093, 752.3890658024352, 934.6230260553675, 534.7910697794384, 560.8157290346568, 726.5281029364703, 445.0552550757041, 656.0291243264019, 447.6817371921908, 721.3152964957261, 997.9764406125605, 985.7056952408453, 934.6230260553675, 654.7351290911802, 660.5070627347445, 740.1874405247339, 452.4700651860944, 299.12599332173005, 462.55499032518844, 583.8754804625215, 437.7090468314875, 766.1810002687728, 516.4546829811068, 1126.5857674363263, 459.26929393025483, 721.1511878923992, 438.5164483757768, 859.6695248997241, 654.951996018197, 873.0383795791935, 411.1940459027022, 603.4651464463333, 509.8438767582576, 924.2557528529916, 1300.64337998434, 399.8519489227498, 596.8096098884885, 883.7408873518199, 509.8438767582576, 336.59503890703866, 534.7910697794384, 997.9764406125605, 496.736977623716, 1126.5857674363263, 1300.64337998434, 660.5070627347445, 299.12599332173005, 462.55499032518844, 654.7351290911802, 859.6695248997241, 562.5091455939992, 516.4546829811068, 355.9791480175852, 452.4700651860944, 399.2857160227035, 656.0291243264019, 985.7056952408453, 437.7090468314875, 740.1874405247339, 873.0383795791935, 386.0651375925159, 749.3309533125955, 402.8880965831275, 560.8157290346568, 361.617408904034, 445.0552550757041, 721.1511878923992, 726.5281029364703, 579.6855792400908, 444.37660889415037, 562.5091455939992, 660.5070627347445, 603.4651464463333, 462.55499032518844, 583.8754804625215, 362.0017529749342, 336.59503890703866, 399.2857160227035, 539.9250799654735, 361.617408904034, 272.38210021181385, 934.6230260553675, 365.39781477864534, 766.1810002687728, 399.8519489227498, 733.858349448381, 376.95463741637957, 411.1940459027022, 584.6929156498953, 1126.5857674363263, 534.7910697794384, 560.8157290346568, 452.4700651860944, 873.0383795791935, 1300.64337998434, 859.6695248997241, 447.6817371921908, 454.2651521509093, 997.9764406125605, 924.2557528529916, 985.7056952408453, 671.9057438936946, 654.7351290911802, 726.3430900407252, 602.4225749741881, 509.00859871786594, 752.3890658024352, 637.4131332769049, 394.0375095965548, 749.3309533125955, 452.4700651860944, 997.9764406125605, 496.736977623716, 721.3152964957261, 386.0651375925159, 859.6695248997241, 660.5070627347445, 654.7351290911802, 883.7408873518199, 873.0383795791935, 516.4546829811068, 437.7090468314875, 341.64888761377887, 445.0552550757041, 539.9250799654735, 395.0051146729979, 373.06030127623677, 721.1511878923992, 630.5180472273785, 360.7914863812142, 654.951996018197, 438.5164483757768, 432.56242494129555, 700.4610159810193, 740.1874405247339, 985.7056952408453, 1126.5857674363263, 603.4651464463333, 726.5281029364703, 766.1810002687728, 656.0291243264019, 518.7132712173628, 749.3309533125955, 432.56242494129555, 361.617408904034, 386.0651375925159, 752.3890658024352, 679.6017534449495, 365.39781477864534, 883.7408873518199, 516.4546829811068, 459.72913322344573, 873.0383795791935, 462.55499032518844, 602.4225749741881, 924.2557528529916, 461.771394051424, 447.6817371921908, 534.7910697794384, 766.1810002687728, 583.8754804625215, 437.7090468314875, 341.64888761377887, 997.9764406125605, 721.1511878923992, 654.7351290911802, 630.5180472273785, 402.8880965831275, 438.5164483757768, 740.1874405247339, 411.1940459027022, 721.3152964957261, 1126.5857674363263, 654.951996018197, 859.6695248997241, 985.7056952408453, 733.858349448381, 454.2651521509093, 386.0651375925159, 413.8293391676609, 934.6230260553675, 360.7914863812142, 509.00859871786594, 516.4546829811068, 486.7457873375167, 596.8096098884885, 399.8519489227498, 654.7351290911802, 721.1511878923992, 336.59503890703866, 726.3430900407252, 859.6695248997241, 548.9587578690333, 721.3152964957261, 362.0017529749342, 583.8754804625215, 671.9057438936946, 365.39781477864534, 883.7408873518199, 402.8880965831275, 656.0291243264019, 560.8157290346568, 740.1874405247339, 399.2857160227035, 726.5281029364703, 985.7056952408453, 361.617408904034, 603.4651464463333, 584.6929156498953, 1126.5857674363263, 997.9764406125605, 766.1810002687728, 462.55499032518844, 873.0383795791935, 637.4131332769049, 299.12599332173005, 419.62104111943455, 924.2557528529916, 431.94661427818403, 883.7408873518199, 462.55499032518844, 721.3152964957261, 509.00859871786594, 386.0651375925159, 679.6017534449495, 654.7351290911802, 740.1874405247339, 997.9764406125605, 438.5164483757768, 985.7056952408453, 399.8519489227498, 1300.64337998434, 376.95463741637957, 445.0552550757041, 437.7090468314875, 447.6817371921908, 766.1810002687728, 656.0291243264019, 583.8754804625215, 660.5070627347445, 373.06030127623677, 496.736977623716, 603.4651464463333, 444.37660889415037, 1126.5857674363263, 873.0383795791935, 726.5281029364703, 654.951996018197, 859.6695248997241, 752.3890658024352, 749.3309533125955, 459.26929393025483, 431.94661427818403, 534.7910697794384, 299.12599332173005, 402.8880965831275, 395.0051146729979, 700.4610159810193, 934.6230260553675, 679.6017534449495, 584.6929156498953, 603.4651464463333, 452.4700651860944, 445.0552550757041, 985.7056952408453, 486.7457873375167, 437.7090468314875, 654.7351290911802, 386.0651375925159, 399.2857160227035, 752.3890658024352, 1126.5857674363263, 924.2557528529916, 272.38210021181385, 660.5070627347445, 355.9791480175852, 656.0291243264019, 883.7408873518199, 399.8519489227498, 438.5164483757768, 766.1810002687728, 859.6695248997241, 726.5281029364703, 997.9764406125605, 654.951996018197, 499.0350151879494, 495.3574980781803, 679.6017534449495, 444.37660889415037, 428.78140756391394, 341.64888761377887, 630.5180472273785, 447.6817371921908, 534.7910697794384, 721.1511878923992, 883.7408873518199, 299.12599332173005, 462.55499032518844, 394.0375095965548, 726.3430900407252, 766.1810002687728, 671.9057438936946, 924.2557528529916, 272.38210021181385, 454.2651521509093, 419.62104111943455, 1300.64337998434, 459.72913322344573, 997.9764406125605, 603.4651464463333, 934.6230260553675, 452.4700651860944, 386.0651375925159, 721.3152964957261, 438.5164483757768, 560.8157290346568, 654.951996018197, 740.1874405247339, 859.6695248997241, 1126.5857674363263, 637.4131332769049, 985.7056952408453, 395.0051146729979, 336.59503890703866, 459.72913322344573, 331.505782751394, 671.9057438936946, 509.00859871786594, 584.6929156498953, 462.55499032518844, 394.0375095965548, 539.9250799654735, 386.0651375925159, 934.6230260553675, 361.617408904034, 740.1874405247339, 445.0552550757041, 299.12599332173005, 411.1940459027022, 362.0017529749342, 447.6817371921908, 603.4651464463333, 360.7914863812142, 452.4700651860944, 402.8880965831275, 399.8519489227498, 1300.64337998434, 660.5070627347445, 726.5281029364703, 403.5660259004457, 630.5180472273785, 654.7351290911802, 766.1810002687728, 997.9764406125605, 1126.5857674363263, 883.7408873518199, 656.0291243264019, 873.0383795791935, 985.7056952408453, 444.37660889415037, 733.858349448381, 299.12599332173005, 671.9057438936946, 362.0017529749342, 419.62104111943455, 721.1511878923992, 395.0051146729979, 496.736977623716, 438.5164483757768, 394.0375095965548, 432.56242494129555, 425.79199909309426, 462.55499032518844, 883.7408873518199, 399.2857160227035, 766.1810002687728, 336.59503890703866, 499.0350151879494, 1126.5857674363263, 509.8438767582576, 331.505782751394, 637.4131332769049, 516.4546829811068, 452.4700651860944, 562.5091455939992, 376.95463741637957, 428.78140756391394, 740.1874405247339, 411.1940459027022, 726.3430900407252, 859.6695248997241, 1300.64337998434, 985.7056952408453, 934.6230260553675, 584.6929156498953, 548.9587578690333, 365.39781477864534, 733.858349448381, 516.4546829811068, 454.2651521509093, 539.9250799654735, 444.37660889415037, 562.5091455939992, 656.0291243264019, 671.9057438936946, 399.8519489227498, 361.617408904034, 462.55499032518844, 721.1511878923992, 509.00859871786594, 766.1810002687728, 534.7910697794384, 411.1940459027022, 603.4651464463333, 438.5164483757768, 362.0017529749342, 452.4700651860944, 376.95463741637957, 602.4225749741881, 499.0350151879494, 386.0651375925159, 272.38210021181385, 873.0383795791935, 1126.5857674363263, 496.736977623716, 726.3430900407252, 997.9764406125605, 749.3309533125955, 883.7408873518199, 740.1874405247339, 859.6695248997241, 1300.64337998434, 934.6230260553675, 425.79199909309426, 461.771394051424, 584.6929156498953, 386.0651375925159, 299.12599332173005, 671.9057438936946, 509.00859871786594, 1300.64337998434, 496.736977623716, 376.95463741637957, 355.9791480175852, 336.59503890703866, 721.1511878923992, 381.7864898571163, 331.505782751394, 539.9250799654735, 548.9587578690333, 560.8157290346568, 361.617408904034, 934.6230260553675, 726.3430900407252, 272.38210021181385, 403.5660259004457, 656.0291243264019, 447.6817371921908, 399.2857160227035, 452.4700651860944, 509.8438767582576, 411.1940459027022, 402.8880965831275, 766.1810002687728, 1126.5857674363263, 997.9764406125605, 859.6695248997241, 660.5070627347445, 654.7351290911802, 883.7408873518199, 721.3152964957261, 461.771394051424, 272.38210021181385, 395.0051146729979, 934.6230260553675, 637.4131332769049, 447.6817371921908, 671.9057438936946, 534.7910697794384, 361.617408904034, 322.1763525159129, 603.4651464463333, 859.6695248997241, 452.4700651860944, 445.0552550757041, 402.8880965831275, 403.5660259004457, 444.37660889415037, 985.7056952408453, 740.1874405247339, 562.5091455939992, 721.1511878923992, 438.5164483757768, 362.0017529749342, 766.1810002687728, 431.94661427818403, 654.7351290911802, 373.06030127623677, 411.1940459027022, 997.9764406125605, 873.0383795791935, 726.5281029364703, 924.2557528529916, 883.7408873518199, 656.0291243264019, 752.3890658024352, 654.951996018197, 1126.5857674363263, 596.8096098884885, 496.736977623716, 399.2857160227035, 428.78140756391394, 386.0651375925159, 603.4651464463333, 660.5070627347445, 883.7408873518199, 341.64888761377887, 365.39781477864534, 452.4700651860944, 447.6817371921908, 445.0552550757041, 461.771394051424, 403.5660259004457, 355.9791480175852, 671.9057438936946, 495.3574980781803, 560.8157290346568, 462.55499032518844, 721.1511878923992, 583.8754804625215, 402.8880965831275, 752.3890658024352, 934.6230260553675, 584.6929156498953, 654.7351290911802, 486.7457873375167, 740.1874405247339, 721.3152964957261, 562.5091455939992, 726.3430900407252, 1126.5857674363263, 985.7056952408453, 997.9764406125605, 859.6695248997241, 766.1810002687728, 1300.64337998434, 299.12599332173005, 562.5091455939992, 560.8157290346568, 365.39781477864534, 381.7864898571163, 459.26929393025483, 726.5281029364703, 411.1940459027022, 395.0051146729979, 362.0017529749342, 749.3309533125955, 272.38210021181385, 509.8438767582576, 924.2557528529916, 394.0375095965548, 533.1135242189127, 376.95463741637957, 341.64888761377887, 438.5164483757768, 437.7090468314875, 431.94661427818403, 584.6929156498953, 495.3574980781803, 766.1810002687728, 336.59503890703866, 733.858349448381, 402.8880965831275, 1126.5857674363263, 752.3890658024352, 509.00859871786594, 985.7056952408453, 660.5070627347445, 934.6230260553675, 1300.64337998434, 726.3430900407252, 596.8096098884885, 883.7408873518199, 654.951996018197, 721.3152964957261, 533.1135242189127, 602.4225749741881, 355.9791480175852, 386.0651375925159, 431.94661427818403, 873.0383795791935, 509.00859871786594, 447.6817371921908, 509.8438767582576, 373.06030127623677, 499.0350151879494, 596.8096098884885, 360.7914863812142, 583.8754804625215, 630.5180472273785, 445.0552550757041, 883.7408873518199, 461.771394051424, 740.1874405247339, 1300.64337998434, 376.95463741637957, 726.5281029364703, 362.0017529749342, 749.3309533125955, 437.7090468314875, 985.7056952408453, 924.2557528529916, 1126.5857674363263, 496.736977623716, 721.1511878923992, 516.4546829811068, 654.7351290911802, 660.5070627347445, 721.3152964957261, 934.6230260553675], \"Category\": [\"Default\", \"Default\", \"Default\", \"Default\", \"Default\", \"Default\", \"Default\", \"Default\", \"Default\", \"Default\", \"Default\", \"Default\", \"Default\", \"Default\", \"Default\", \"Default\", \"Default\", \"Default\", \"Default\", \"Default\", \"Default\", \"Default\", \"Default\", \"Default\", \"Default\", \"Default\", \"Default\", \"Default\", \"Default\", \"Default\", \"Topic1\", \"Topic1\", \"Topic1\", \"Topic1\", \"Topic1\", \"Topic1\", \"Topic1\", \"Topic1\", \"Topic1\", \"Topic1\", \"Topic1\", \"Topic1\", \"Topic1\", \"Topic1\", \"Topic1\", \"Topic1\", \"Topic1\", \"Topic1\", \"Topic1\", \"Topic1\", \"Topic1\", \"Topic1\", \"Topic1\", \"Topic1\", \"Topic1\", \"Topic1\", \"Topic1\", \"Topic1\", \"Topic1\", \"Topic1\", \"Topic1\", \"Topic1\", \"Topic1\", \"Topic1\", \"Topic1\", \"Topic1\", \"Topic1\", \"Topic2\", \"Topic2\", \"Topic2\", \"Topic2\", \"Topic2\", \"Topic2\", \"Topic2\", \"Topic2\", \"Topic2\", \"Topic2\", \"Topic2\", \"Topic2\", \"Topic2\", \"Topic2\", \"Topic2\", \"Topic2\", \"Topic2\", \"Topic2\", \"Topic2\", \"Topic2\", \"Topic2\", \"Topic2\", \"Topic2\", \"Topic2\", \"Topic2\", \"Topic2\", \"Topic2\", \"Topic2\", \"Topic2\", \"Topic2\", \"Topic2\", \"Topic2\", \"Topic2\", \"Topic2\", \"Topic2\", \"Topic2\", \"Topic2\", \"Topic2\", \"Topic2\", \"Topic3\", \"Topic3\", \"Topic3\", \"Topic3\", \"Topic3\", \"Topic3\", \"Topic3\", \"Topic3\", \"Topic3\", \"Topic3\", \"Topic3\", \"Topic3\", \"Topic3\", \"Topic3\", \"Topic3\", \"Topic3\", \"Topic3\", \"Topic3\", \"Topic3\", \"Topic3\", \"Topic3\", \"Topic3\", \"Topic3\", \"Topic3\", \"Topic3\", \"Topic3\", \"Topic3\", \"Topic3\", \"Topic3\", \"Topic3\", \"Topic3\", \"Topic3\", \"Topic3\", \"Topic3\", \"Topic3\", \"Topic3\", \"Topic3\", \"Topic4\", \"Topic4\", \"Topic4\", \"Topic4\", \"Topic4\", \"Topic4\", \"Topic4\", \"Topic4\", \"Topic4\", \"Topic4\", \"Topic4\", \"Topic4\", \"Topic4\", \"Topic4\", \"Topic4\", \"Topic4\", \"Topic4\", \"Topic4\", \"Topic4\", \"Topic4\", \"Topic4\", \"Topic4\", \"Topic4\", \"Topic4\", \"Topic4\", \"Topic4\", \"Topic4\", \"Topic4\", \"Topic4\", \"Topic4\", \"Topic4\", \"Topic4\", \"Topic4\", \"Topic4\", \"Topic4\", \"Topic4\", \"Topic4\", \"Topic4\", \"Topic5\", \"Topic5\", \"Topic5\", \"Topic5\", \"Topic5\", \"Topic5\", \"Topic5\", \"Topic5\", \"Topic5\", \"Topic5\", \"Topic5\", \"Topic5\", \"Topic5\", \"Topic5\", \"Topic5\", \"Topic5\", \"Topic5\", \"Topic5\", \"Topic5\", \"Topic5\", \"Topic5\", \"Topic5\", \"Topic5\", \"Topic5\", \"Topic5\", \"Topic5\", \"Topic5\", \"Topic5\", \"Topic5\", \"Topic5\", \"Topic5\", \"Topic5\", \"Topic5\", \"Topic5\", \"Topic5\", \"Topic5\", \"Topic6\", \"Topic6\", \"Topic6\", \"Topic6\", \"Topic6\", \"Topic6\", \"Topic6\", \"Topic6\", \"Topic6\", \"Topic6\", \"Topic6\", \"Topic6\", \"Topic6\", \"Topic6\", \"Topic6\", \"Topic6\", \"Topic6\", \"Topic6\", \"Topic6\", \"Topic6\", \"Topic6\", \"Topic6\", \"Topic6\", \"Topic6\", \"Topic6\", \"Topic6\", \"Topic6\", \"Topic6\", \"Topic6\", \"Topic6\", \"Topic6\", \"Topic6\", \"Topic6\", \"Topic7\", \"Topic7\", \"Topic7\", \"Topic7\", \"Topic7\", \"Topic7\", \"Topic7\", \"Topic7\", \"Topic7\", \"Topic7\", \"Topic7\", \"Topic7\", \"Topic7\", \"Topic7\", \"Topic7\", \"Topic7\", \"Topic7\", \"Topic7\", \"Topic7\", \"Topic7\", \"Topic7\", \"Topic7\", \"Topic7\", \"Topic7\", \"Topic7\", \"Topic7\", \"Topic7\", \"Topic7\", \"Topic7\", \"Topic7\", \"Topic7\", \"Topic7\", \"Topic7\", \"Topic7\", \"Topic7\", \"Topic8\", \"Topic8\", \"Topic8\", \"Topic8\", \"Topic8\", \"Topic8\", \"Topic8\", \"Topic8\", \"Topic8\", \"Topic8\", \"Topic8\", \"Topic8\", \"Topic8\", \"Topic8\", \"Topic8\", \"Topic8\", \"Topic8\", \"Topic8\", \"Topic8\", \"Topic8\", \"Topic8\", \"Topic8\", \"Topic8\", \"Topic8\", \"Topic8\", \"Topic8\", \"Topic8\", \"Topic8\", \"Topic8\", \"Topic8\", \"Topic8\", \"Topic8\", \"Topic8\", \"Topic8\", \"Topic8\", \"Topic8\", \"Topic8\", \"Topic8\", \"Topic8\", \"Topic9\", \"Topic9\", \"Topic9\", \"Topic9\", \"Topic9\", \"Topic9\", \"Topic9\", \"Topic9\", \"Topic9\", \"Topic9\", \"Topic9\", \"Topic9\", \"Topic9\", \"Topic9\", \"Topic9\", \"Topic9\", \"Topic9\", \"Topic9\", \"Topic9\", \"Topic9\", \"Topic9\", \"Topic9\", \"Topic9\", \"Topic9\", \"Topic9\", \"Topic9\", \"Topic9\", \"Topic9\", \"Topic9\", \"Topic9\", \"Topic9\", \"Topic9\", \"Topic9\", \"Topic9\", \"Topic10\", \"Topic10\", \"Topic10\", \"Topic10\", \"Topic10\", \"Topic10\", \"Topic10\", \"Topic10\", \"Topic10\", \"Topic10\", \"Topic10\", \"Topic10\", \"Topic10\", \"Topic10\", \"Topic10\", \"Topic10\", \"Topic10\", \"Topic10\", \"Topic10\", \"Topic10\", \"Topic10\", \"Topic10\", \"Topic10\", \"Topic10\", \"Topic10\", \"Topic10\", \"Topic10\", \"Topic10\", \"Topic10\", \"Topic10\", \"Topic10\", \"Topic10\", \"Topic10\", \"Topic10\", \"Topic10\", \"Topic11\", \"Topic11\", \"Topic11\", \"Topic11\", \"Topic11\", \"Topic11\", \"Topic11\", \"Topic11\", \"Topic11\", \"Topic11\", \"Topic11\", \"Topic11\", \"Topic11\", \"Topic11\", \"Topic11\", \"Topic11\", \"Topic11\", \"Topic11\", \"Topic11\", \"Topic11\", \"Topic11\", \"Topic11\", \"Topic11\", \"Topic11\", \"Topic11\", \"Topic11\", \"Topic11\", \"Topic11\", \"Topic11\", \"Topic11\", \"Topic11\", \"Topic11\", \"Topic11\", \"Topic11\", \"Topic11\", \"Topic11\", \"Topic12\", \"Topic12\", \"Topic12\", \"Topic12\", \"Topic12\", \"Topic12\", \"Topic12\", \"Topic12\", \"Topic12\", \"Topic12\", \"Topic12\", \"Topic12\", \"Topic12\", \"Topic12\", \"Topic12\", \"Topic12\", \"Topic12\", \"Topic12\", \"Topic12\", \"Topic12\", \"Topic12\", \"Topic12\", \"Topic12\", \"Topic12\", \"Topic12\", \"Topic12\", \"Topic12\", \"Topic12\", \"Topic12\", \"Topic12\", \"Topic12\", \"Topic12\", \"Topic12\", \"Topic12\", \"Topic12\", \"Topic12\", \"Topic12\", \"Topic12\", \"Topic13\", \"Topic13\", \"Topic13\", \"Topic13\", \"Topic13\", \"Topic13\", \"Topic13\", \"Topic13\", \"Topic13\", \"Topic13\", \"Topic13\", \"Topic13\", \"Topic13\", \"Topic13\", \"Topic13\", \"Topic13\", \"Topic13\", \"Topic13\", \"Topic13\", \"Topic13\", \"Topic13\", \"Topic13\", \"Topic13\", \"Topic13\", \"Topic13\", \"Topic13\", \"Topic13\", \"Topic13\", \"Topic13\", \"Topic13\", \"Topic13\", \"Topic13\", \"Topic13\", \"Topic13\", \"Topic13\", \"Topic13\", \"Topic13\", \"Topic13\", \"Topic13\", \"Topic13\", \"Topic14\", \"Topic14\", \"Topic14\", \"Topic14\", \"Topic14\", \"Topic14\", \"Topic14\", \"Topic14\", \"Topic14\", \"Topic14\", \"Topic14\", \"Topic14\", \"Topic14\", \"Topic14\", \"Topic14\", \"Topic14\", \"Topic14\", \"Topic14\", \"Topic14\", \"Topic14\", \"Topic14\", \"Topic14\", \"Topic14\", \"Topic14\", \"Topic14\", \"Topic14\", \"Topic14\", \"Topic14\", \"Topic14\", \"Topic14\", \"Topic14\", \"Topic14\", \"Topic14\", \"Topic14\", \"Topic15\", \"Topic15\", \"Topic15\", \"Topic15\", \"Topic15\", \"Topic15\", \"Topic15\", \"Topic15\", \"Topic15\", \"Topic15\", \"Topic15\", \"Topic15\", \"Topic15\", \"Topic15\", \"Topic15\", \"Topic15\", \"Topic15\", \"Topic15\", \"Topic15\", \"Topic15\", \"Topic15\", \"Topic15\", \"Topic15\", \"Topic15\", \"Topic15\", \"Topic15\", \"Topic15\", \"Topic15\", \"Topic15\", \"Topic15\", \"Topic15\", \"Topic15\", \"Topic15\", \"Topic15\", \"Topic15\", \"Topic15\", \"Topic15\", \"Topic16\", \"Topic16\", \"Topic16\", \"Topic16\", \"Topic16\", \"Topic16\", \"Topic16\", \"Topic16\", \"Topic16\", \"Topic16\", \"Topic16\", \"Topic16\", \"Topic16\", \"Topic16\", \"Topic16\", \"Topic16\", \"Topic16\", \"Topic16\", \"Topic16\", \"Topic16\", \"Topic16\", \"Topic16\", \"Topic16\", \"Topic16\", \"Topic16\", \"Topic16\", \"Topic16\", \"Topic16\", \"Topic16\", \"Topic16\", \"Topic16\", \"Topic16\", \"Topic16\", \"Topic16\", \"Topic16\", \"Topic16\", \"Topic16\", \"Topic17\", \"Topic17\", \"Topic17\", \"Topic17\", \"Topic17\", \"Topic17\", \"Topic17\", \"Topic17\", \"Topic17\", \"Topic17\", \"Topic17\", \"Topic17\", \"Topic17\", \"Topic17\", \"Topic17\", \"Topic17\", \"Topic17\", \"Topic17\", \"Topic17\", \"Topic17\", \"Topic17\", \"Topic17\", \"Topic17\", \"Topic17\", \"Topic17\", \"Topic17\", \"Topic17\", \"Topic17\", \"Topic17\", \"Topic17\", \"Topic17\", \"Topic17\", \"Topic17\", \"Topic17\", \"Topic17\", \"Topic18\", \"Topic18\", \"Topic18\", \"Topic18\", \"Topic18\", \"Topic18\", \"Topic18\", \"Topic18\", \"Topic18\", \"Topic18\", \"Topic18\", \"Topic18\", \"Topic18\", \"Topic18\", \"Topic18\", \"Topic18\", \"Topic18\", \"Topic18\", \"Topic18\", \"Topic18\", \"Topic18\", \"Topic18\", \"Topic18\", \"Topic18\", \"Topic18\", \"Topic18\", \"Topic18\", \"Topic18\", \"Topic18\", \"Topic18\", \"Topic18\", \"Topic18\", \"Topic18\", \"Topic18\", \"Topic19\", \"Topic19\", \"Topic19\", \"Topic19\", \"Topic19\", \"Topic19\", \"Topic19\", \"Topic19\", \"Topic19\", \"Topic19\", \"Topic19\", \"Topic19\", \"Topic19\", \"Topic19\", \"Topic19\", \"Topic19\", \"Topic19\", \"Topic19\", \"Topic19\", \"Topic19\", \"Topic19\", \"Topic19\", \"Topic19\", \"Topic19\", \"Topic19\", \"Topic19\", \"Topic19\", \"Topic19\", \"Topic19\", \"Topic19\", \"Topic19\", \"Topic19\", \"Topic19\", \"Topic19\", \"Topic19\", \"Topic20\", \"Topic20\", \"Topic20\", \"Topic20\", \"Topic20\", \"Topic20\", \"Topic20\", \"Topic20\", \"Topic20\", \"Topic20\", \"Topic20\", \"Topic20\", \"Topic20\", \"Topic20\", \"Topic20\", \"Topic20\", \"Topic20\", \"Topic20\", \"Topic20\", \"Topic20\", \"Topic20\", \"Topic20\", \"Topic20\", \"Topic20\", \"Topic20\", \"Topic20\", \"Topic20\", \"Topic20\", \"Topic20\", \"Topic20\", \"Topic20\", \"Topic20\", \"Topic20\", \"Topic20\", \"Topic20\", \"Topic20\", \"Topic21\", \"Topic21\", \"Topic21\", \"Topic21\", \"Topic21\", \"Topic21\", \"Topic21\", \"Topic21\", \"Topic21\", \"Topic21\", \"Topic21\", \"Topic21\", \"Topic21\", \"Topic21\", \"Topic21\", \"Topic21\", \"Topic21\", \"Topic21\", \"Topic21\", \"Topic21\", \"Topic21\", \"Topic21\", \"Topic21\", \"Topic21\", \"Topic21\", \"Topic21\", \"Topic21\", \"Topic21\", \"Topic21\", \"Topic21\", \"Topic22\", \"Topic22\", \"Topic22\", \"Topic22\", \"Topic22\", \"Topic22\", \"Topic22\", \"Topic22\", \"Topic22\", \"Topic22\", \"Topic22\", \"Topic22\", \"Topic22\", \"Topic22\", \"Topic22\", \"Topic22\", \"Topic22\", \"Topic22\", \"Topic22\", \"Topic22\", \"Topic22\", \"Topic22\", \"Topic22\", \"Topic22\", \"Topic22\", \"Topic22\", \"Topic22\", \"Topic22\", \"Topic22\", \"Topic22\", \"Topic22\", \"Topic22\", \"Topic22\", \"Topic22\", \"Topic22\", \"Topic22\", \"Topic22\", \"Topic23\", \"Topic23\", \"Topic23\", \"Topic23\", \"Topic23\", \"Topic23\", \"Topic23\", \"Topic23\", \"Topic23\", \"Topic23\", \"Topic23\", \"Topic23\", \"Topic23\", \"Topic23\", \"Topic23\", \"Topic23\", \"Topic23\", \"Topic23\", \"Topic23\", \"Topic23\", \"Topic23\", \"Topic23\", \"Topic23\", \"Topic23\", \"Topic23\", \"Topic23\", \"Topic23\", \"Topic23\", \"Topic23\", \"Topic23\", \"Topic23\", \"Topic23\", \"Topic24\", \"Topic24\", \"Topic24\", \"Topic24\", \"Topic24\", \"Topic24\", \"Topic24\", \"Topic24\", \"Topic24\", \"Topic24\", \"Topic24\", \"Topic24\", \"Topic24\", \"Topic24\", \"Topic24\", \"Topic24\", \"Topic24\", \"Topic24\", \"Topic24\", \"Topic24\", \"Topic24\", \"Topic24\", \"Topic24\", \"Topic24\", \"Topic24\", \"Topic24\", \"Topic24\", \"Topic24\", \"Topic24\", \"Topic24\", \"Topic24\", \"Topic24\", \"Topic24\", \"Topic24\", \"Topic25\", \"Topic25\", \"Topic25\", \"Topic25\", \"Topic25\", \"Topic25\", \"Topic25\", \"Topic25\", \"Topic25\", \"Topic25\", \"Topic25\", \"Topic25\", \"Topic25\", \"Topic25\", \"Topic25\", \"Topic25\", \"Topic25\", \"Topic25\", \"Topic25\", \"Topic25\", \"Topic25\", \"Topic25\", \"Topic25\", \"Topic25\", \"Topic25\", \"Topic25\", \"Topic25\", \"Topic25\", \"Topic25\", \"Topic25\", \"Topic25\", \"Topic25\", \"Topic25\", \"Topic26\", \"Topic26\", \"Topic26\", \"Topic26\", \"Topic26\", \"Topic26\", \"Topic26\", \"Topic26\", \"Topic26\", \"Topic26\", \"Topic26\", \"Topic26\", \"Topic26\", \"Topic26\", \"Topic26\", \"Topic26\", \"Topic26\", \"Topic26\", \"Topic26\", \"Topic26\", \"Topic26\", \"Topic26\", \"Topic26\", \"Topic26\", \"Topic26\", \"Topic26\", \"Topic26\", \"Topic26\", \"Topic26\", \"Topic26\", \"Topic26\", \"Topic26\", \"Topic26\", \"Topic26\", \"Topic26\", \"Topic26\", \"Topic26\", \"Topic26\", \"Topic27\", \"Topic27\", \"Topic27\", \"Topic27\", \"Topic27\", \"Topic27\", \"Topic27\", \"Topic27\", \"Topic27\", \"Topic27\", \"Topic27\", \"Topic27\", \"Topic27\", \"Topic27\", \"Topic27\", \"Topic27\", \"Topic27\", \"Topic27\", \"Topic27\", \"Topic27\", \"Topic27\", \"Topic27\", \"Topic27\", \"Topic27\", \"Topic27\", \"Topic27\", \"Topic27\", \"Topic27\", \"Topic27\", \"Topic27\", \"Topic27\", \"Topic27\", \"Topic27\", \"Topic27\", \"Topic27\", \"Topic27\", \"Topic28\", \"Topic28\", \"Topic28\", \"Topic28\", \"Topic28\", \"Topic28\", \"Topic28\", \"Topic28\", \"Topic28\", \"Topic28\", \"Topic28\", \"Topic28\", \"Topic28\", \"Topic28\", \"Topic28\", \"Topic28\", \"Topic28\", \"Topic28\", \"Topic28\", \"Topic28\", \"Topic28\", \"Topic28\", \"Topic28\", \"Topic28\", \"Topic28\", \"Topic28\", \"Topic28\", \"Topic28\", \"Topic28\", \"Topic28\", \"Topic28\", \"Topic28\", \"Topic28\", \"Topic28\", \"Topic29\", \"Topic29\", \"Topic29\", \"Topic29\", \"Topic29\", \"Topic29\", \"Topic29\", \"Topic29\", \"Topic29\", \"Topic29\", \"Topic29\", \"Topic29\", \"Topic29\", \"Topic29\", \"Topic29\", \"Topic29\", \"Topic29\", \"Topic29\", \"Topic29\", \"Topic29\", \"Topic29\", \"Topic29\", \"Topic29\", \"Topic29\", \"Topic29\", \"Topic29\", \"Topic29\", \"Topic29\", \"Topic29\", \"Topic29\", \"Topic29\", \"Topic29\", \"Topic29\", \"Topic29\", \"Topic30\", \"Topic30\", \"Topic30\", \"Topic30\", \"Topic30\", \"Topic30\", \"Topic30\", \"Topic30\", \"Topic30\", \"Topic30\", \"Topic30\", \"Topic30\", \"Topic30\", \"Topic30\", \"Topic30\", \"Topic30\", \"Topic30\", \"Topic30\", \"Topic30\", \"Topic30\", \"Topic30\", \"Topic30\", \"Topic30\", \"Topic30\", \"Topic30\", \"Topic30\", \"Topic30\", \"Topic30\", \"Topic30\", \"Topic30\", \"Topic30\", \"Topic30\", \"Topic30\", \"Topic30\", \"Topic31\", \"Topic31\", \"Topic31\", \"Topic31\", \"Topic31\", \"Topic31\", \"Topic31\", \"Topic31\", \"Topic31\", \"Topic31\", \"Topic31\", \"Topic31\", \"Topic31\", \"Topic31\", \"Topic31\", \"Topic31\", \"Topic31\", \"Topic31\", \"Topic31\", \"Topic31\", \"Topic31\", \"Topic31\", \"Topic31\", \"Topic31\", \"Topic31\", \"Topic31\", \"Topic31\", \"Topic31\", \"Topic31\", \"Topic31\", \"Topic31\", \"Topic31\", \"Topic31\", \"Topic31\", \"Topic31\", \"Topic31\", \"Topic32\", \"Topic32\", \"Topic32\", \"Topic32\", \"Topic32\", \"Topic32\", \"Topic32\", \"Topic32\", \"Topic32\", \"Topic32\", \"Topic32\", \"Topic32\", \"Topic32\", \"Topic32\", \"Topic32\", \"Topic32\", \"Topic32\", \"Topic32\", \"Topic32\", \"Topic32\", \"Topic32\", \"Topic32\", \"Topic32\", \"Topic32\", \"Topic32\", \"Topic32\", \"Topic32\", \"Topic32\", \"Topic32\", \"Topic32\", \"Topic32\", \"Topic32\", \"Topic32\", \"Topic32\", \"Topic33\", \"Topic33\", \"Topic33\", \"Topic33\", \"Topic33\", \"Topic33\", \"Topic33\", \"Topic33\", \"Topic33\", \"Topic33\", \"Topic33\", \"Topic33\", \"Topic33\", \"Topic33\", \"Topic33\", \"Topic33\", \"Topic33\", \"Topic33\", \"Topic33\", \"Topic33\", \"Topic33\", \"Topic33\", \"Topic33\", \"Topic33\", \"Topic33\", \"Topic33\", \"Topic33\", \"Topic33\", \"Topic33\", \"Topic33\", \"Topic33\", \"Topic33\", \"Topic33\", \"Topic33\", \"Topic34\", \"Topic34\", \"Topic34\", \"Topic34\", \"Topic34\", \"Topic34\", \"Topic34\", \"Topic34\", \"Topic34\", \"Topic34\", \"Topic34\", \"Topic34\", \"Topic34\", \"Topic34\", \"Topic34\", \"Topic34\", \"Topic34\", \"Topic34\", \"Topic34\", \"Topic34\", \"Topic34\", \"Topic34\", \"Topic34\", \"Topic34\", \"Topic34\", \"Topic34\", \"Topic34\", \"Topic34\", \"Topic34\", \"Topic34\", \"Topic34\", \"Topic34\", \"Topic34\", \"Topic34\", \"Topic34\", \"Topic34\", \"Topic34\", \"Topic35\", \"Topic35\", \"Topic35\", \"Topic35\", \"Topic35\", \"Topic35\", \"Topic35\", \"Topic35\", \"Topic35\", \"Topic35\", \"Topic35\", \"Topic35\", \"Topic35\", \"Topic35\", \"Topic35\", \"Topic35\", \"Topic35\", \"Topic35\", \"Topic35\", \"Topic35\", \"Topic35\", \"Topic35\", \"Topic35\", \"Topic35\", \"Topic35\", \"Topic35\", \"Topic35\", \"Topic35\", \"Topic35\", \"Topic35\", \"Topic35\", \"Topic35\", \"Topic35\", \"Topic35\", \"Topic35\", \"Topic35\", \"Topic35\", \"Topic35\", \"Topic35\", \"Topic36\", \"Topic36\", \"Topic36\", \"Topic36\", \"Topic36\", \"Topic36\", \"Topic36\", \"Topic36\", \"Topic36\", \"Topic36\", \"Topic36\", \"Topic36\", \"Topic36\", \"Topic36\", \"Topic36\", \"Topic36\", \"Topic36\", \"Topic36\", \"Topic36\", \"Topic36\", \"Topic36\", \"Topic36\", \"Topic36\", \"Topic36\", \"Topic36\", \"Topic36\", \"Topic36\", \"Topic36\", \"Topic36\", \"Topic36\", \"Topic36\", \"Topic36\", \"Topic37\", \"Topic37\", \"Topic37\", \"Topic37\", \"Topic37\", \"Topic37\", \"Topic37\", \"Topic37\", \"Topic37\", \"Topic37\", \"Topic37\", \"Topic37\", \"Topic37\", \"Topic37\", \"Topic37\", \"Topic37\", \"Topic37\", \"Topic37\", \"Topic37\", \"Topic37\", \"Topic37\", \"Topic37\", \"Topic37\", \"Topic37\", \"Topic37\", \"Topic37\", \"Topic37\", \"Topic37\", \"Topic37\", \"Topic37\", \"Topic37\", \"Topic37\", \"Topic37\", \"Topic38\", \"Topic38\", \"Topic38\", \"Topic38\", \"Topic38\", \"Topic38\", \"Topic38\", \"Topic38\", \"Topic38\", \"Topic38\", \"Topic38\", \"Topic38\", \"Topic38\", \"Topic38\", \"Topic38\", \"Topic38\", \"Topic38\", \"Topic38\", \"Topic38\", \"Topic38\", \"Topic38\", \"Topic38\", \"Topic38\", \"Topic38\", \"Topic38\", \"Topic38\", \"Topic38\", \"Topic38\", \"Topic38\", \"Topic38\", \"Topic38\", \"Topic38\", \"Topic38\", \"Topic38\", \"Topic39\", \"Topic39\", \"Topic39\", \"Topic39\", \"Topic39\", \"Topic39\", \"Topic39\", \"Topic39\", \"Topic39\", \"Topic39\", \"Topic39\", \"Topic39\", \"Topic39\", \"Topic39\", \"Topic39\", \"Topic39\", \"Topic39\", \"Topic39\", \"Topic39\", \"Topic39\", \"Topic39\", \"Topic39\", \"Topic39\", \"Topic39\", \"Topic39\", \"Topic39\", \"Topic39\", \"Topic39\", \"Topic39\", \"Topic39\", \"Topic39\", \"Topic39\", \"Topic39\", \"Topic39\", \"Topic40\", \"Topic40\", \"Topic40\", \"Topic40\", \"Topic40\", \"Topic40\", \"Topic40\", \"Topic40\", \"Topic40\", \"Topic40\", \"Topic40\", \"Topic40\", \"Topic40\", \"Topic40\", \"Topic40\", \"Topic40\", \"Topic40\", \"Topic40\", \"Topic40\", \"Topic40\", \"Topic40\", \"Topic40\", \"Topic40\", \"Topic40\", \"Topic40\", \"Topic40\", \"Topic40\", \"Topic40\", \"Topic40\", \"Topic40\", \"Topic40\", \"Topic40\", \"Topic40\", \"Topic40\", \"Topic40\", \"Topic41\", \"Topic41\", \"Topic41\", \"Topic41\", \"Topic41\", \"Topic41\", \"Topic41\", \"Topic41\", \"Topic41\", \"Topic41\", \"Topic41\", \"Topic41\", \"Topic41\", \"Topic41\", \"Topic41\", \"Topic41\", \"Topic41\", \"Topic41\", \"Topic41\", \"Topic41\", \"Topic41\", \"Topic41\", \"Topic41\", \"Topic41\", \"Topic41\", \"Topic41\", \"Topic41\", \"Topic41\", \"Topic41\", \"Topic41\", \"Topic41\", \"Topic41\", \"Topic41\", \"Topic41\", \"Topic42\", \"Topic42\", \"Topic42\", \"Topic42\", \"Topic42\", \"Topic42\", \"Topic42\", \"Topic42\", \"Topic42\", \"Topic42\", \"Topic42\", \"Topic42\", \"Topic42\", \"Topic42\", \"Topic42\", \"Topic42\", \"Topic42\", \"Topic42\", \"Topic42\", \"Topic42\", \"Topic42\", \"Topic42\", \"Topic42\", \"Topic42\", \"Topic42\", \"Topic42\", \"Topic42\", \"Topic42\", \"Topic42\", \"Topic42\", \"Topic42\", \"Topic42\", \"Topic42\", \"Topic42\", \"Topic43\", \"Topic43\", \"Topic43\", \"Topic43\", \"Topic43\", \"Topic43\", \"Topic43\", \"Topic43\", \"Topic43\", \"Topic43\", \"Topic43\", \"Topic43\", \"Topic43\", \"Topic43\", \"Topic43\", \"Topic43\", \"Topic43\", \"Topic43\", \"Topic43\", \"Topic43\", \"Topic43\", \"Topic43\", \"Topic43\", \"Topic43\", \"Topic43\", \"Topic43\", \"Topic43\", \"Topic43\", \"Topic43\", \"Topic43\", \"Topic43\", \"Topic43\", \"Topic43\", \"Topic43\", \"Topic44\", \"Topic44\", \"Topic44\", \"Topic44\", \"Topic44\", \"Topic44\", \"Topic44\", \"Topic44\", \"Topic44\", \"Topic44\", \"Topic44\", \"Topic44\", \"Topic44\", \"Topic44\", \"Topic44\", \"Topic44\", \"Topic44\", \"Topic44\", \"Topic44\", \"Topic44\", \"Topic44\", \"Topic44\", \"Topic44\", \"Topic44\", \"Topic44\", \"Topic44\", \"Topic44\", \"Topic44\", \"Topic44\", \"Topic44\", \"Topic44\", \"Topic44\", \"Topic44\", \"Topic44\", \"Topic44\", \"Topic44\", \"Topic44\", \"Topic45\", \"Topic45\", \"Topic45\", \"Topic45\", \"Topic45\", \"Topic45\", \"Topic45\", \"Topic45\", \"Topic45\", \"Topic45\", \"Topic45\", \"Topic45\", \"Topic45\", \"Topic45\", \"Topic45\", \"Topic45\", \"Topic45\", \"Topic45\", \"Topic45\", \"Topic45\", \"Topic45\", \"Topic45\", \"Topic45\", \"Topic45\", \"Topic45\", \"Topic45\", \"Topic45\", \"Topic45\", \"Topic45\", \"Topic45\", \"Topic45\", \"Topic45\", \"Topic45\", \"Topic45\", \"Topic45\", \"Topic46\", \"Topic46\", \"Topic46\", \"Topic46\", \"Topic46\", \"Topic46\", \"Topic46\", \"Topic46\", \"Topic46\", \"Topic46\", \"Topic46\", \"Topic46\", \"Topic46\", \"Topic46\", \"Topic46\", \"Topic46\", \"Topic46\", \"Topic46\", \"Topic46\", \"Topic46\", \"Topic46\", \"Topic46\", \"Topic46\", \"Topic46\", \"Topic46\", \"Topic46\", \"Topic46\", \"Topic46\", \"Topic46\", \"Topic46\", \"Topic46\", \"Topic46\", \"Topic46\", \"Topic47\", \"Topic47\", \"Topic47\", \"Topic47\", \"Topic47\", \"Topic47\", \"Topic47\", \"Topic47\", \"Topic47\", \"Topic47\", \"Topic47\", \"Topic47\", \"Topic47\", \"Topic47\", \"Topic47\", \"Topic47\", \"Topic47\", \"Topic47\", \"Topic47\", \"Topic47\", \"Topic47\", \"Topic47\", \"Topic47\", \"Topic47\", \"Topic47\", \"Topic47\", \"Topic47\", \"Topic47\", \"Topic47\", \"Topic47\", \"Topic47\", \"Topic47\", \"Topic47\", \"Topic47\", \"Topic48\", \"Topic48\", \"Topic48\", \"Topic48\", \"Topic48\", \"Topic48\", \"Topic48\", \"Topic48\", \"Topic48\", \"Topic48\", \"Topic48\", \"Topic48\", \"Topic48\", \"Topic48\", \"Topic48\", \"Topic48\", \"Topic48\", \"Topic48\", \"Topic48\", \"Topic48\", \"Topic48\", \"Topic48\", \"Topic48\", \"Topic48\", \"Topic48\", \"Topic48\", \"Topic48\", \"Topic48\", \"Topic48\", \"Topic48\", \"Topic48\", \"Topic49\", \"Topic49\", \"Topic49\", \"Topic49\", \"Topic49\", \"Topic49\", \"Topic49\", \"Topic49\", \"Topic49\", \"Topic49\", \"Topic49\", \"Topic49\", \"Topic49\", \"Topic49\", \"Topic49\", \"Topic49\", \"Topic49\", \"Topic49\", \"Topic49\", \"Topic49\", \"Topic49\", \"Topic49\", \"Topic49\", \"Topic49\", \"Topic49\", \"Topic49\", \"Topic49\", \"Topic49\", \"Topic49\", \"Topic49\", \"Topic49\", \"Topic49\", \"Topic49\", \"Topic50\", \"Topic50\", \"Topic50\", \"Topic50\", \"Topic50\", \"Topic50\", \"Topic50\", \"Topic50\", \"Topic50\", \"Topic50\", \"Topic50\", \"Topic50\", \"Topic50\", \"Topic50\", \"Topic50\", \"Topic50\", \"Topic50\", \"Topic50\", \"Topic50\", \"Topic50\", \"Topic50\", \"Topic50\", \"Topic50\", \"Topic50\", \"Topic50\", \"Topic50\", \"Topic50\", \"Topic50\", \"Topic50\", \"Topic50\", \"Topic50\", \"Topic50\", \"Topic50\", \"Topic50\", \"Topic50\", \"Topic51\", \"Topic51\", \"Topic51\", \"Topic51\", \"Topic51\", \"Topic51\", \"Topic51\", \"Topic51\", \"Topic51\", \"Topic51\", \"Topic51\", \"Topic51\", \"Topic51\", \"Topic51\", \"Topic51\", \"Topic51\", \"Topic51\", \"Topic51\", \"Topic51\", \"Topic51\", \"Topic51\", \"Topic51\", \"Topic51\", \"Topic51\", \"Topic51\", \"Topic51\", \"Topic51\", \"Topic51\", \"Topic51\", \"Topic51\", \"Topic51\", \"Topic51\", \"Topic52\", \"Topic52\", \"Topic52\", \"Topic52\", \"Topic52\", \"Topic52\", \"Topic52\", \"Topic52\", \"Topic52\", \"Topic52\", \"Topic52\", \"Topic52\", \"Topic52\", \"Topic52\", \"Topic52\", \"Topic52\", \"Topic52\", \"Topic52\", \"Topic52\", \"Topic52\", \"Topic52\", \"Topic52\", \"Topic52\", \"Topic52\", \"Topic52\", \"Topic52\", \"Topic52\", \"Topic52\", \"Topic52\", \"Topic52\", \"Topic52\", \"Topic52\", \"Topic53\", \"Topic53\", \"Topic53\", \"Topic53\", \"Topic53\", \"Topic53\", \"Topic53\", \"Topic53\", \"Topic53\", \"Topic53\", \"Topic53\", \"Topic53\", \"Topic53\", \"Topic53\", \"Topic53\", \"Topic53\", \"Topic53\", \"Topic53\", \"Topic53\", \"Topic53\", \"Topic53\", \"Topic53\", \"Topic53\", \"Topic53\", \"Topic53\", \"Topic53\", \"Topic53\", \"Topic53\", \"Topic53\", \"Topic53\", \"Topic53\", \"Topic53\", \"Topic54\", \"Topic54\", \"Topic54\", \"Topic54\", \"Topic54\", \"Topic54\", \"Topic54\", \"Topic54\", \"Topic54\", \"Topic54\", \"Topic54\", \"Topic54\", \"Topic54\", \"Topic54\", \"Topic54\", \"Topic54\", \"Topic54\", \"Topic54\", \"Topic54\", \"Topic54\", \"Topic54\", \"Topic54\", \"Topic54\", \"Topic54\", \"Topic54\", \"Topic54\", \"Topic54\", \"Topic54\", \"Topic54\", \"Topic54\", \"Topic54\", \"Topic54\", \"Topic54\", \"Topic55\", \"Topic55\", \"Topic55\", \"Topic55\", \"Topic55\", \"Topic55\", \"Topic55\", \"Topic55\", \"Topic55\", \"Topic55\", \"Topic55\", \"Topic55\", \"Topic55\", \"Topic55\", \"Topic55\", \"Topic55\", \"Topic55\", \"Topic55\", \"Topic55\", \"Topic55\", \"Topic55\", \"Topic55\", \"Topic55\", \"Topic55\", \"Topic55\", \"Topic55\", \"Topic55\", \"Topic55\", \"Topic55\", \"Topic55\", \"Topic55\", \"Topic55\", \"Topic55\", \"Topic56\", \"Topic56\", \"Topic56\", \"Topic56\", \"Topic56\", \"Topic56\", \"Topic56\", \"Topic56\", \"Topic56\", \"Topic56\", \"Topic56\", \"Topic56\", \"Topic56\", \"Topic56\", \"Topic56\", \"Topic56\", \"Topic56\", \"Topic56\", \"Topic56\", \"Topic56\", \"Topic56\", \"Topic56\", \"Topic56\", \"Topic56\", \"Topic56\", \"Topic56\", \"Topic56\", \"Topic56\", \"Topic56\", \"Topic56\", \"Topic56\", \"Topic56\", \"Topic57\", \"Topic57\", \"Topic57\", \"Topic57\", \"Topic57\", \"Topic57\", \"Topic57\", \"Topic57\", \"Topic57\", \"Topic57\", \"Topic57\", \"Topic57\", \"Topic57\", \"Topic57\", \"Topic57\", \"Topic57\", \"Topic57\", \"Topic57\", \"Topic57\", \"Topic57\", \"Topic57\", \"Topic57\", \"Topic57\", \"Topic57\", \"Topic57\", \"Topic57\", \"Topic57\", \"Topic57\", \"Topic57\", \"Topic57\", \"Topic57\", \"Topic58\", \"Topic58\", \"Topic58\", \"Topic58\", \"Topic58\", \"Topic58\", \"Topic58\", \"Topic58\", \"Topic58\", \"Topic58\", \"Topic58\", \"Topic58\", \"Topic58\", \"Topic58\", \"Topic58\", \"Topic58\", \"Topic58\", \"Topic58\", \"Topic58\", \"Topic58\", \"Topic58\", \"Topic58\", \"Topic58\", \"Topic58\", \"Topic58\", \"Topic58\", \"Topic58\", \"Topic58\", \"Topic58\", \"Topic58\", \"Topic58\", \"Topic58\", \"Topic58\", \"Topic58\", \"Topic58\", \"Topic59\", \"Topic59\", \"Topic59\", \"Topic59\", \"Topic59\", \"Topic59\", \"Topic59\", \"Topic59\", \"Topic59\", \"Topic59\", \"Topic59\", \"Topic59\", \"Topic59\", \"Topic59\", \"Topic59\", \"Topic59\", \"Topic59\", \"Topic59\", \"Topic59\", \"Topic59\", \"Topic59\", \"Topic59\", \"Topic59\", \"Topic59\", \"Topic59\", \"Topic59\", \"Topic59\", \"Topic59\", \"Topic59\", \"Topic59\", \"Topic59\", \"Topic59\", \"Topic60\", \"Topic60\", \"Topic60\", \"Topic60\", \"Topic60\", \"Topic60\", \"Topic60\", \"Topic60\", \"Topic60\", \"Topic60\", \"Topic60\", \"Topic60\", \"Topic60\", \"Topic60\", \"Topic60\", \"Topic60\", \"Topic60\", \"Topic60\", \"Topic60\", \"Topic60\", \"Topic60\", \"Topic60\", \"Topic60\", \"Topic60\", \"Topic60\", \"Topic60\", \"Topic60\", \"Topic60\", \"Topic60\", \"Topic60\", \"Topic60\", \"Topic61\", \"Topic61\", \"Topic61\", \"Topic61\", \"Topic61\", \"Topic61\", \"Topic61\", \"Topic61\", \"Topic61\", \"Topic61\", \"Topic61\", \"Topic61\", \"Topic61\", \"Topic61\", \"Topic61\", \"Topic61\", \"Topic61\", \"Topic61\", \"Topic61\", \"Topic61\", \"Topic61\", \"Topic61\", \"Topic61\", \"Topic61\", \"Topic61\", \"Topic61\", \"Topic61\", \"Topic61\", \"Topic61\", \"Topic61\", \"Topic61\", \"Topic61\", \"Topic61\", \"Topic62\", \"Topic62\", \"Topic62\", \"Topic62\", \"Topic62\", \"Topic62\", \"Topic62\", \"Topic62\", \"Topic62\", \"Topic62\", \"Topic62\", \"Topic62\", \"Topic62\", \"Topic62\", \"Topic62\", \"Topic62\", \"Topic62\", \"Topic62\", \"Topic62\", \"Topic62\", \"Topic62\", \"Topic62\", \"Topic62\", \"Topic62\", \"Topic62\", \"Topic62\", \"Topic62\", \"Topic62\", \"Topic62\", \"Topic62\", \"Topic62\", \"Topic62\", \"Topic62\", \"Topic63\", \"Topic63\", \"Topic63\", \"Topic63\", \"Topic63\", \"Topic63\", \"Topic63\", \"Topic63\", \"Topic63\", \"Topic63\", \"Topic63\", \"Topic63\", \"Topic63\", \"Topic63\", \"Topic63\", \"Topic63\", \"Topic63\", \"Topic63\", \"Topic63\", \"Topic63\", \"Topic63\", \"Topic63\", \"Topic63\", \"Topic63\", \"Topic63\", \"Topic63\", \"Topic63\", \"Topic63\", \"Topic63\", \"Topic63\", \"Topic63\", \"Topic64\", \"Topic64\", \"Topic64\", \"Topic64\", \"Topic64\", \"Topic64\", \"Topic64\", \"Topic64\", \"Topic64\", \"Topic64\", \"Topic64\", \"Topic64\", \"Topic64\", \"Topic64\", \"Topic64\", \"Topic64\", \"Topic64\", \"Topic64\", \"Topic64\", \"Topic64\", \"Topic64\", \"Topic64\", \"Topic64\", \"Topic64\", \"Topic64\", \"Topic64\", \"Topic64\", \"Topic64\", \"Topic64\", \"Topic64\", \"Topic64\", \"Topic64\", \"Topic65\", \"Topic65\", \"Topic65\", \"Topic65\", \"Topic65\", \"Topic65\", \"Topic65\", \"Topic65\", \"Topic65\", \"Topic65\", \"Topic65\", \"Topic65\", \"Topic65\", \"Topic65\", \"Topic65\", \"Topic65\", \"Topic65\", \"Topic65\", \"Topic65\", \"Topic65\", \"Topic65\", \"Topic65\", \"Topic65\", \"Topic65\", \"Topic65\", \"Topic65\", \"Topic65\", \"Topic65\", \"Topic65\", \"Topic65\", \"Topic65\", \"Topic65\", \"Topic65\", \"Topic66\", \"Topic66\", \"Topic66\", \"Topic66\", \"Topic66\", \"Topic66\", \"Topic66\", \"Topic66\", \"Topic66\", \"Topic66\", \"Topic66\", \"Topic66\", \"Topic66\", \"Topic66\", \"Topic66\", \"Topic66\", \"Topic66\", \"Topic66\", \"Topic66\", \"Topic66\", \"Topic66\", \"Topic66\", \"Topic66\", \"Topic66\", \"Topic66\", \"Topic66\", \"Topic66\", \"Topic66\", \"Topic66\", \"Topic66\", \"Topic66\", \"Topic66\", \"Topic66\", \"Topic66\", \"Topic66\", \"Topic66\", \"Topic67\", \"Topic67\", \"Topic67\", \"Topic67\", \"Topic67\", \"Topic67\", \"Topic67\", \"Topic67\", \"Topic67\", \"Topic67\", \"Topic67\", \"Topic67\", \"Topic67\", \"Topic67\", \"Topic67\", \"Topic67\", \"Topic67\", \"Topic67\", \"Topic67\", \"Topic67\", \"Topic67\", \"Topic67\", \"Topic67\", \"Topic67\", \"Topic67\", \"Topic67\", \"Topic67\", \"Topic67\", \"Topic67\", \"Topic67\", \"Topic67\", \"Topic67\", \"Topic67\", \"Topic67\", \"Topic67\", \"Topic67\", \"Topic67\", \"Topic68\", \"Topic68\", \"Topic68\", \"Topic68\", \"Topic68\", \"Topic68\", \"Topic68\", \"Topic68\", \"Topic68\", \"Topic68\", \"Topic68\", \"Topic68\", \"Topic68\", \"Topic68\", \"Topic68\", \"Topic68\", \"Topic68\", \"Topic68\", \"Topic68\", \"Topic68\", \"Topic68\", \"Topic68\", \"Topic68\", \"Topic68\", \"Topic68\", \"Topic68\", \"Topic68\", \"Topic68\", \"Topic68\", \"Topic68\", \"Topic68\", \"Topic68\", \"Topic68\", \"Topic68\", \"Topic68\", \"Topic68\", \"Topic69\", \"Topic69\", \"Topic69\", \"Topic69\", \"Topic69\", \"Topic69\", \"Topic69\", \"Topic69\", \"Topic69\", \"Topic69\", \"Topic69\", \"Topic69\", \"Topic69\", \"Topic69\", \"Topic69\", \"Topic69\", \"Topic69\", \"Topic69\", \"Topic69\", \"Topic69\", \"Topic69\", \"Topic69\", \"Topic69\", \"Topic69\", \"Topic69\", \"Topic69\", \"Topic69\", \"Topic69\", \"Topic69\", \"Topic69\", \"Topic69\", \"Topic69\", \"Topic69\", \"Topic69\", \"Topic69\", \"Topic69\", \"Topic69\", \"Topic70\", \"Topic70\", \"Topic70\", \"Topic70\", \"Topic70\", \"Topic70\", \"Topic70\", \"Topic70\", \"Topic70\", \"Topic70\", \"Topic70\", \"Topic70\", \"Topic70\", \"Topic70\", \"Topic70\", \"Topic70\", \"Topic70\", \"Topic70\", \"Topic70\", \"Topic70\", \"Topic70\", \"Topic70\", \"Topic70\", \"Topic70\", \"Topic70\", \"Topic70\", \"Topic70\", \"Topic70\", \"Topic70\", \"Topic70\", \"Topic70\", \"Topic70\", \"Topic70\", \"Topic70\", \"Topic70\", \"Topic70\", \"Topic70\", \"Topic71\", \"Topic71\", \"Topic71\", \"Topic71\", \"Topic71\", \"Topic71\", \"Topic71\", \"Topic71\", \"Topic71\", \"Topic71\", \"Topic71\", \"Topic71\", \"Topic71\", \"Topic71\", \"Topic71\", \"Topic71\", \"Topic71\", \"Topic71\", \"Topic71\", \"Topic71\", \"Topic71\", \"Topic71\", \"Topic71\", \"Topic71\", \"Topic71\", \"Topic71\", \"Topic71\", \"Topic71\", \"Topic71\", \"Topic71\", \"Topic71\", \"Topic71\", \"Topic71\", \"Topic71\", \"Topic72\", \"Topic72\", \"Topic72\", \"Topic72\", \"Topic72\", \"Topic72\", \"Topic72\", \"Topic72\", \"Topic72\", \"Topic72\", \"Topic72\", \"Topic72\", \"Topic72\", \"Topic72\", \"Topic72\", \"Topic72\", \"Topic72\", \"Topic72\", \"Topic72\", \"Topic72\", \"Topic72\", \"Topic72\", \"Topic72\", \"Topic72\", \"Topic72\", \"Topic72\", \"Topic72\", \"Topic72\", \"Topic72\", \"Topic72\", \"Topic72\", \"Topic72\", \"Topic72\", \"Topic72\", \"Topic72\", \"Topic72\", \"Topic72\", \"Topic73\", \"Topic73\", \"Topic73\", \"Topic73\", \"Topic73\", \"Topic73\", \"Topic73\", \"Topic73\", \"Topic73\", \"Topic73\", \"Topic73\", \"Topic73\", \"Topic73\", \"Topic73\", \"Topic73\", \"Topic73\", \"Topic73\", \"Topic73\", \"Topic73\", \"Topic73\", \"Topic73\", \"Topic73\", \"Topic73\", \"Topic73\", \"Topic73\", \"Topic73\", \"Topic73\", \"Topic73\", \"Topic73\", \"Topic73\", \"Topic73\", \"Topic73\", \"Topic73\", \"Topic73\", \"Topic73\", \"Topic73\", \"Topic73\", \"Topic74\", \"Topic74\", \"Topic74\", \"Topic74\", \"Topic74\", \"Topic74\", \"Topic74\", \"Topic74\", \"Topic74\", \"Topic74\", \"Topic74\", \"Topic74\", \"Topic74\", \"Topic74\", \"Topic74\", \"Topic74\", \"Topic74\", \"Topic74\", \"Topic74\", \"Topic74\", \"Topic74\", \"Topic74\", \"Topic74\", \"Topic74\", \"Topic74\", \"Topic74\", \"Topic74\", \"Topic74\", \"Topic74\", \"Topic74\", \"Topic74\", \"Topic74\", \"Topic74\", \"Topic74\", \"Topic74\", \"Topic74\", \"Topic75\", \"Topic75\", \"Topic75\", \"Topic75\", \"Topic75\", \"Topic75\", \"Topic75\", \"Topic75\", \"Topic75\", \"Topic75\", \"Topic75\", \"Topic75\", \"Topic75\", \"Topic75\", \"Topic75\", \"Topic75\", \"Topic75\", \"Topic75\", \"Topic75\", \"Topic75\", \"Topic75\", \"Topic75\", \"Topic75\", \"Topic75\", \"Topic75\", \"Topic75\", \"Topic75\", \"Topic75\", \"Topic75\", \"Topic75\", \"Topic75\", \"Topic75\", \"Topic75\", \"Topic75\", \"Topic75\", \"Topic75\", \"Topic75\", \"Topic75\", \"Topic76\", \"Topic76\", \"Topic76\", \"Topic76\", \"Topic76\", \"Topic76\", \"Topic76\", \"Topic76\", \"Topic76\", \"Topic76\", \"Topic76\", \"Topic76\", \"Topic76\", \"Topic76\", \"Topic76\", \"Topic76\", \"Topic76\", \"Topic76\", \"Topic76\", \"Topic76\", \"Topic76\", \"Topic76\", \"Topic76\", \"Topic76\", \"Topic76\", \"Topic76\", \"Topic76\", \"Topic76\", \"Topic76\", \"Topic76\", \"Topic76\", \"Topic76\", \"Topic76\", \"Topic76\", \"Topic76\", \"Topic76\", \"Topic76\", \"Topic76\", \"Topic77\", \"Topic77\", \"Topic77\", \"Topic77\", \"Topic77\", \"Topic77\", \"Topic77\", \"Topic77\", \"Topic77\", \"Topic77\", \"Topic77\", \"Topic77\", \"Topic77\", \"Topic77\", \"Topic77\", \"Topic77\", \"Topic77\", \"Topic77\", \"Topic77\", \"Topic77\", \"Topic77\", \"Topic77\", \"Topic77\", \"Topic77\", \"Topic77\", \"Topic77\", \"Topic77\", \"Topic77\", \"Topic77\", \"Topic77\", \"Topic77\", \"Topic77\", \"Topic77\", \"Topic77\", \"Topic77\", \"Topic77\", \"Topic77\", \"Topic77\", \"Topic78\", \"Topic78\", \"Topic78\", \"Topic78\", \"Topic78\", \"Topic78\", \"Topic78\", \"Topic78\", \"Topic78\", \"Topic78\", \"Topic78\", \"Topic78\", \"Topic78\", \"Topic78\", \"Topic78\", \"Topic78\", \"Topic78\", \"Topic78\", \"Topic78\", \"Topic78\", \"Topic78\", \"Topic78\", \"Topic78\", \"Topic78\", \"Topic78\", \"Topic78\", \"Topic78\", \"Topic78\", \"Topic78\", \"Topic78\", \"Topic78\", \"Topic78\", \"Topic78\", \"Topic78\", \"Topic78\", \"Topic78\", \"Topic78\", \"Topic79\", \"Topic79\", \"Topic79\", \"Topic79\", \"Topic79\", \"Topic79\", \"Topic79\", \"Topic79\", \"Topic79\", \"Topic79\", \"Topic79\", \"Topic79\", \"Topic79\", \"Topic79\", \"Topic79\", \"Topic79\", \"Topic79\", \"Topic79\", \"Topic79\", \"Topic79\", \"Topic79\", \"Topic79\", \"Topic79\", \"Topic79\", \"Topic79\", \"Topic79\", \"Topic79\", \"Topic79\", \"Topic79\", \"Topic79\", \"Topic79\", \"Topic79\", \"Topic79\", \"Topic79\", \"Topic79\", \"Topic79\", \"Topic79\", \"Topic79\", \"Topic79\", \"Topic80\", \"Topic80\", \"Topic80\", \"Topic80\", \"Topic80\", \"Topic80\", \"Topic80\", \"Topic80\", \"Topic80\", \"Topic80\", \"Topic80\", \"Topic80\", \"Topic80\", \"Topic80\", \"Topic80\", \"Topic80\", \"Topic80\", \"Topic80\", \"Topic80\", \"Topic80\", \"Topic80\", \"Topic80\", \"Topic80\", \"Topic80\", \"Topic80\", \"Topic80\", \"Topic80\", \"Topic80\", \"Topic80\", \"Topic80\", \"Topic80\", \"Topic80\", \"Topic80\", \"Topic80\", \"Topic80\"], \"logprob\": [30.0, 29.0, 28.0, 27.0, 26.0, 25.0, 24.0, 23.0, 22.0, 21.0, 20.0, 19.0, 18.0, 17.0, 16.0, 15.0, 14.0, 13.0, 12.0, 11.0, 10.0, 9.0, 8.0, 7.0, 6.0, 5.0, 4.0, 3.0, 2.0, 1.0, -1.2585, -3.0918, -3.5336, -4.2054, -4.1801, -3.8162, -3.9395, -4.2871, -4.2543, -4.1095, -4.511, -3.8896, -4.3183, -3.7102, -4.2496, -4.2621, -4.6814, -4.1361, -4.2212, -4.0393, -4.4212, -4.7278, -4.7256, -4.6177, -4.9456, -4.0003, -5.2182, -4.4759, -4.0714, -5.1593, -4.3966, -4.4149, -4.4728, -4.2077, -4.5602, -4.597, -4.5741, -1.3331, -2.948, -3.11, -3.4447, -3.2962, -4.3816, -4.5532, -4.4616, -3.6638, -3.9759, -3.8716, -4.0202, -4.5568, -4.7658, -4.8257, -4.7762, -4.1595, -4.278, -4.8853, -4.6891, -4.7252, -4.7557, -4.8107, -4.921, -4.0475, -4.3193, -4.4976, -4.1111, -4.2614, -4.7979, -4.5026, -4.5147, -4.5314, -4.5643, -4.5972, -4.6478, -4.5238, -4.5921, -4.7061, -1.2016, -2.9176, -2.8845, -3.6996, -3.6803, -4.4015, -4.1975, -4.5861, -4.6546, -4.4421, -4.045, -4.5478, -4.7569, -4.7598, -5.0743, -4.2071, -4.2822, -4.2115, -3.8906, -4.6138, -4.1985, -5.2856, -5.0226, -4.3256, -5.1089, -4.5334, -4.4554, -4.8311, -4.4905, -4.5551, -4.2755, -4.2792, -4.7344, -4.6723, -4.6295, -4.6966, -4.7039, -1.0893, -4.0458, -4.0122, -4.2566, -3.954, -4.4502, -4.4322, -4.722, -4.5527, -4.1503, -3.8956, -5.0895, -4.3284, -4.2247, -4.5812, -4.2201, -4.7896, -4.6285, -4.5054, -4.8013, -4.1866, -4.1792, -4.7833, -3.7823, -4.506, -4.1004, -5.2076, -5.0248, -4.2991, -4.1181, -4.0994, -4.4215, -4.4634, -4.4044, -4.4074, -4.4149, -4.5523, -4.5175, -1.0577, -2.7845, -4.5335, -4.4766, -4.3492, -4.8301, -4.4202, -4.5803, -3.9322, -4.3716, -4.2493, -4.2832, -4.1158, -4.5678, -3.5455, -4.243, -4.516, -4.2848, -4.8203, -4.9885, -4.5681, -4.582, -3.9895, -4.8049, -4.4284, -5.3295, -4.4677, -4.8608, -4.0732, -4.2304, -3.9628, -4.402, -4.4693, -4.4993, -4.6927, -4.754, -1.3138, -1.6997, -3.8713, -3.9385, -4.0586, -4.6606, -3.899, -4.5401, -4.0971, -3.7762, -4.319, -4.495, -4.8021, -4.476, -4.1293, -4.5031, -4.3047, -4.702, -4.323, -4.3249, -4.3188, -5.2049, -4.2421, -3.8694, -4.0375, -4.7267, -4.5913, -4.3951, -4.2439, -4.9804, -4.3557, -4.1834, -4.6404, -0.9714, -3.4715, -3.5517, -4.346, -4.584, -4.0081, -3.8844, -3.6755, -4.11, -3.8536, -4.1668, -4.722, -3.6599, -4.1062, -4.4222, -4.6306, -4.182, -4.5294, -3.8785, -4.9939, -4.7643, -4.3259, -5.0888, -4.8107, -4.7106, -4.4778, -4.7407, -5.0722, -4.3153, -4.7023, -3.972, -4.4567, -4.383, -4.5856, -4.712, -1.3054, -3.6334, -3.9148, -4.153, -4.2167, -4.5937, -4.4662, -4.4211, -4.8473, -4.0565, -4.5954, -3.7765, -4.2222, -5.0469, -4.3498, -4.5454, -4.5714, -4.8541, -4.6868, -4.743, -4.1716, -4.2077, -4.9972, -4.5443, -4.6177, -3.9483, -4.8353, -4.4963, -4.3896, -4.7794, -3.9403, -4.6141, -4.475, -4.2681, -3.9822, -4.2185, -4.4987, -4.4824, -4.5272, -1.2706, -3.7279, -4.0688, -3.6834, -3.9402, -3.8022, -4.3128, -4.5653, -3.2848, -4.05, -3.8978, -3.5749, -4.2529, -4.9758, -4.5738, -4.2046, -3.951, -4.4521, -3.8653, -4.1531, -4.2138, -4.5544, -4.1921, -4.3123, -4.818, -4.6324, -4.2838, -4.959, -4.6769, -5.0365, -4.0947, -4.4042, -4.2371, -4.6677, -1.1632, -2.8894, -3.7502, -4.0993, -4.2429, -4.2299, -4.5949, -3.9094, -4.2283, -4.4807, -4.5144, -4.4074, -4.7754, -3.7921, -4.5624, -5.0946, -4.2133, -4.4275, -4.9115, -4.247, -3.9231, -4.1549, -4.228, -4.3442, -4.4702, -4.015, -3.9108, -4.7083, -4.3363, -5.2828, -4.8917, -4.225, -4.3961, -4.5502, -4.6336, -1.1642, -2.398, -3.6069, -3.6821, -4.0228, -4.3883, -4.3626, -4.5675, -3.9463, -4.3369, -3.6886, -4.1234, -3.9362, -4.6185, -4.6402, -3.8568, -4.1829, -4.9075, -3.8589, -4.2665, -4.9239, -5.0237, -4.5567, -5.0712, -4.4707, -5.0547, -4.5251, -4.2928, -4.4694, -5.0458, -4.978, -4.7325, -4.5884, -4.6827, -4.7857, -4.7528, -0.9584, -3.6723, -3.3306, -3.6769, -4.1801, -4.3255, -3.7691, -4.4698, -4.3445, -3.938, -4.9535, -4.3753, -4.247, -4.2878, -4.7839, -4.6053, -4.2238, -5.0185, -4.6512, -4.7161, -4.3174, -4.8341, -4.2605, -4.1121, -4.7746, -3.9909, -4.9609, -4.7654, -4.4492, -5.0983, -4.7607, -4.1831, -4.3895, -4.29, -4.4794, -4.6688, -4.6858, -4.7536, -1.4436, -4.627, -4.7566, -3.7835, -4.3924, -4.5066, -4.03, -4.601, -3.6646, -3.868, -4.4254, -4.5803, -4.3336, -4.6798, -4.6992, -4.5414, -4.0741, -4.1983, -4.7129, -4.1191, -4.8443, -4.6371, -3.8489, -4.6359, -4.1848, -4.5425, -4.7617, -3.6109, -4.0088, -4.8278, -4.4887, -4.2718, -3.9148, -4.0733, -4.3819, -4.3972, -4.5305, -4.5303, -4.5268, -4.6052, -0.9193, -2.8007, -3.1341, -3.2777, -3.7491, -4.2002, -4.9101, -4.5926, -4.1007, -4.0123, -4.6588, -4.0139, -4.3139, -4.038, -4.2328, -4.3016, -4.0167, -4.4295, -4.9424, -3.9193, -4.5866, -4.7029, -5.0963, -4.1255, -4.7811, -4.9959, -4.9455, -4.7449, -4.5568, -4.6908, -4.6391, -4.8993, -4.7061, -4.9078, -1.1577, -2.0404, -2.82, -3.6671, -4.2053, -3.5229, -3.9519, -4.2224, -4.9935, -4.4642, -3.8499, -4.6286, -4.6118, -4.2464, -4.2459, -4.9314, -4.3493, -5.0121, -4.696, -5.0713, -4.7713, -4.1494, -5.4577, -5.2123, -4.5093, -4.8362, -4.6694, -5.1059, -4.8724, -4.7976, -4.6747, -4.4135, -4.6184, -4.6594, -4.8982, -4.8183, -4.921, -1.3681, -2.3646, -3.9769, -4.3003, -3.9039, -4.0755, -3.5123, -3.5068, -4.2752, -4.323, -3.9537, -4.0413, -4.4723, -4.0724, -4.6958, -4.7944, -4.7146, -3.6168, -4.9153, -3.9182, -4.5417, -4.5541, -4.2731, -4.8111, -4.8156, -4.3332, -4.3845, -4.1441, -4.6457, -4.7088, -3.9828, -4.5107, -4.4753, -4.4356, -4.6118, -4.6583, -4.6733, -1.0436, -3.9243, -3.9395, -4.3792, -4.4804, -4.1404, -4.4734, -3.8288, -5.0329, -4.0983, -4.6115, -4.2256, -4.1404, -3.5779, -5.0584, -3.8555, -4.68, -4.3133, -4.6511, -4.4757, -4.5289, -4.1425, -5.01, -4.661, -4.3461, -4.4557, -4.714, -4.3646, -5.034, -4.1086, -4.0136, -4.4298, -4.4045, -4.7267, -4.5121, -0.9281, -3.761, -4.0516, -3.8818, -3.3412, -4.37, -3.565, -4.5279, -3.9142, -3.9414, -3.9776, -4.133, -4.5249, -4.301, -3.8676, -4.6337, -4.4321, -4.6449, -4.3292, -4.9905, -4.7534, -4.7937, -4.4213, -4.2561, -4.342, -4.0643, -4.3727, -5.0598, -4.3742, -4.5167, -4.627, -4.4691, -4.4838, -4.5765, -0.7922, -4.2523, -4.175, -4.1527, -3.8145, -3.5528, -3.9328, -3.7706, -4.1693, -4.6017, -4.2017, -4.8074, -4.082, -4.1683, -4.6905, -3.7868, -4.3723, -4.1003, -4.3983, -4.0128, -4.6688, -4.7189, -4.3486, -4.7968, -4.5473, -4.575, -4.8173, -5.0666, -4.9801, -5.3409, -4.9918, -4.6654, -4.7046, -4.8938, -4.7944, -1.3738, -2.6658, -3.8726, -4.0132, -4.0914, -4.3318, -4.5503, -3.8992, -3.9197, -5.0828, -4.1035, -4.4612, -4.6686, -3.6135, -4.721, -4.2168, -4.2685, -4.4933, -4.7553, -4.2679, -4.0027, -4.4515, -4.4444, -4.0604, -4.368, -4.6855, -5.0279, -4.4952, -4.363, -5.0497, -4.1152, -4.2871, -4.4135, -4.6302, -4.6597, -4.6852, -0.9998, -1.3764, -3.6561, -3.4168, -3.8295, -3.5413, -4.3709, -3.4841, -3.9824, -5.0233, -4.5277, -4.6865, -4.0414, -4.4923, -4.2636, -4.2508, -4.6123, -4.9162, -4.7091, -4.6061, -5.0707, -4.9917, -5.148, -4.7806, -5.3197, -5.3461, -5.2669, -4.9765, -4.9441, -4.923, -0.9622, -2.8041, -3.1957, -4.0561, -3.8648, -3.9617, -4.6325, -4.6567, -3.771, -4.8692, -4.9026, -4.1693, -4.6407, -4.3234, -4.5475, -5.2203, -3.9411, -4.4466, -5.0315, -5.0537, -4.3066, -4.6727, -3.7948, -4.8872, -5.2965, -4.934, -5.1444, -5.2406, -4.952, -4.4872, -4.834, -4.504, -4.7422, -4.7262, -4.624, -4.7836, -4.8454, -0.4843, -3.7878, -4.3334, -3.4693, -3.5678, -4.3508, -4.6557, -3.7448, -4.2795, -4.1968, -4.1588, -4.1968, -4.0383, -4.3248, -4.8225, -4.4184, -4.5933, -4.4387, -4.1322, -4.4164, -5.6218, -5.2058, -5.2697, -5.3482, -5.1671, -5.619, -5.3445, -5.8656, -5.5832, -5.6723, -5.4779, -5.531, -0.7132, -3.8097, -3.76, -3.1819, -4.4038, -3.6305, -4.1252, -3.4627, -4.4932, -4.3386, -4.4613, -4.1063, -4.5037, -4.3646, -4.2899, -4.2974, -4.0622, -4.3802, -5.2042, -4.6296, -4.5146, -5.0629, -5.0547, -4.5983, -5.1667, -4.5034, -4.7804, -5.3731, -4.7191, -5.1436, -4.5002, -4.7643, -4.5331, -5.0582, -0.9089, -2.7458, -2.9797, -3.4171, -3.9551, -3.8886, -4.239, -3.9823, -4.4229, -3.8699, -4.7362, -4.4407, -4.5998, -3.9319, -4.3622, -4.288, -4.259, -4.882, -4.1375, -4.8842, -4.3915, -4.6713, -4.8942, -4.2939, -4.7085, -4.6255, -4.8618, -4.9635, -4.4855, -4.7782, -4.4051, -4.7811, -4.8233, -1.1281, -2.9504, -3.1936, -3.9743, -4.2069, -4.377, -4.5099, -4.7726, -4.4878, -4.3403, -3.8405, -3.4987, -4.7913, -4.7482, -4.8079, -4.1176, -4.1024, -4.5239, -3.8934, -4.1969, -4.8237, -4.2262, -4.9918, -4.8287, -4.2428, -4.3994, -4.4967, -4.7865, -4.6237, -4.461, -4.5945, -4.1918, -4.3684, -4.4643, -4.5598, -4.6442, -4.6954, -4.7126, -0.9245, -3.5888, -4.0928, -3.6425, -3.5805, -4.227, -4.3906, -3.9992, -3.7888, -4.6306, -4.5507, -4.0488, -3.8011, -4.4136, -4.3282, -4.7209, -4.7854, -4.5236, -4.3538, -4.3509, -4.3712, -4.5714, -5.2599, -4.7651, -3.8599, -4.5198, -4.4955, -5.2951, -4.4111, -4.0952, -4.9049, -4.2911, -4.4094, -4.6434, -4.6568, -4.5831, -1.0868, -2.8313, -3.1749, -4.0863, -3.2503, -3.6601, -3.728, -3.968, -3.8608, -3.6768, -3.633, -3.8184, -4.2213, -4.9116, -4.0635, -4.4686, -4.2117, -4.7522, -4.6288, -4.7375, -4.8899, -4.2089, -4.6742, -4.8544, -5.3657, -4.9795, -4.1789, -4.5468, -4.1584, -4.7714, -4.6551, -4.6426, -4.7895, -4.7682, -0.999, -4.0408, -4.2609, -3.622, -4.3692, -4.3896, -4.836, -3.969, -3.8171, -3.6932, -4.1473, -4.1872, -4.1303, -4.1298, -4.1864, -4.7745, -3.7253, -4.3985, -4.1359, -4.8232, -3.8974, -4.753, -4.9597, -4.4558, -4.9357, -4.5656, -4.4273, -4.5881, -5.2221, -4.5971, -4.8495, -4.7275, -4.6319, -4.7985, -0.9428, -2.8494, -3.3206, -3.8782, -4.0745, -4.4386, -3.9056, -4.4573, -4.0656, -4.0718, -4.2709, -4.5752, -4.2186, -4.1001, -4.0408, -4.4647, -4.0286, -4.2271, -4.7126, -4.8385, -3.9724, -4.9128, -4.8033, -4.3711, -5.3727, -4.8478, -4.6126, -4.2858, -5.0945, -4.2134, -4.5937, -4.5727, -4.5011, -4.8273, -0.9727, -3.6014, -4.5324, -3.4073, -4.4986, -3.9683, -4.4066, -3.932, -4.4456, -4.5063, -4.4068, -3.9124, -4.1228, -4.4769, -4.3526, -4.7649, -4.3584, -4.6371, -4.1142, -4.8423, -4.7667, -3.9219, -3.8133, -4.9823, -4.0113, -4.8361, -4.4905, -4.4106, -4.6866, -4.9533, -3.9601, -4.6402, -4.5801, -4.6954, -4.7047, -4.7073, -1.1054, -4.2065, -4.5886, -4.3024, -3.6374, -4.3691, -4.5435, -3.9, -4.0474, -4.5436, -4.4672, -4.8477, -3.7156, -4.1641, -4.3872, -3.8546, -4.5044, -4.971, -4.2033, -4.3075, -4.0421, -4.3436, -3.6789, -4.2727, -4.2803, -4.5799, -4.815, -4.3188, -4.4326, -5.2626, -4.4872, -4.2326, -4.1853, -4.4637, -0.8711, -2.8976, -3.4693, -3.3677, -4.0883, -3.7487, -4.2962, -3.8082, -3.9459, -3.861, -4.1754, -4.6092, -3.8532, -3.7391, -3.8444, -4.5232, -4.6517, -4.4455, -5.1228, -4.7854, -4.5747, -4.4488, -4.4891, -4.8915, -4.9132, -4.4597, -4.9609, -5.2411, -4.4663, -4.9498, -4.5693, -4.5635, -4.4789, -4.6852, -0.7404, -3.265, -4.0794, -3.4232, -4.6099, -4.6039, -3.9337, -4.0064, -3.9787, -4.6115, -4.6703, -3.887, -4.298, -4.1487, -4.4724, -4.8002, -4.3065, -4.6637, -4.5761, -5.0233, -4.4745, -4.0729, -5.4146, -5.3296, -5.1073, -5.0023, -4.9898, -4.619, -5.015, -3.9795, -4.829, -4.8689, -4.6244, -4.5236, -4.5453, -4.6688, -4.928, -0.9889, -3.4255, -2.9956, -3.7377, -4.4805, -4.8584, -4.5052, -4.5181, -4.1848, -3.7812, -4.4704, -4.1431, -4.4835, -4.7953, -4.2765, -4.1795, -4.3292, -4.8854, -4.9448, -4.3022, -4.5421, -4.6377, -4.023, -4.8553, -4.2212, -4.7997, -4.5434, -4.8377, -4.8165, -5.0441, -4.2628, -4.3468, -4.3341, -4.2442, -4.6345, -4.6713, -4.7063, -4.6709, -4.7397, -0.5474, -4.0471, -4.7429, -3.6244, -4.3839, -3.6161, -4.1219, -4.0055, -4.2019, -4.636, -3.9535, -4.2659, -4.4471, -4.5408, -4.3217, -4.8517, -4.1577, -4.092, -4.5441, -4.6442, -5.2833, -4.77, -4.1276, -4.5605, -4.6737, -5.4221, -4.9294, -5.2997, -4.8702, -5.8392, -5.1107, -5.3898, -1.1538, -2.007, -2.5022, -4.0561, -3.3264, -3.8716, -3.5034, -3.8428, -4.1222, -4.005, -4.0584, -4.4538, -4.3006, -4.3499, -4.1065, -4.3599, -5.1269, -4.5848, -4.2273, -4.8365, -5.1587, -4.1174, -4.7428, -4.2681, -5.1403, -4.5105, -4.6215, -4.8452, -5.0776, -4.8904, -4.6271, -4.8349, -4.9956, -1.0042, -3.0851, -3.3006, -3.566, -3.3283, -3.9711, -4.1149, -4.3624, -4.0167, -3.7015, -4.3886, -3.971, -3.8435, -4.4649, -4.4038, -4.2037, -4.2338, -4.1952, -4.2727, -4.3832, -3.9462, -5.0241, -5.3489, -4.1468, -5.0304, -4.6997, -4.604, -4.2991, -5.122, -5.3668, -4.6187, -4.72, -4.9384, -4.8369, -0.8449, -2.9454, -3.8204, -3.0712, -4.0974, -3.8981, -3.644, -3.7197, -4.2165, -4.1538, -4.1861, -4.7018, -4.3421, -3.8319, -4.7752, -4.3225, -4.154, -4.8929, -4.3959, -5.0248, -4.7352, -4.9153, -4.4737, -4.9751, -4.4018, -5.1228, -5.3106, -4.9114, -4.8728, -5.1091, -4.5402, -4.8975, -4.8535, -4.9972, -1.0483, -3.2689, -3.1381, -3.412, -3.462, -4.3415, -3.5718, -3.4749, -4.3898, -4.3923, -3.9313, -3.9177, -4.4162, -4.0905, -4.3842, -3.7432, -5.0884, -4.1825, -4.2995, -4.7413, -4.2764, -3.9909, -4.8088, -4.9397, -5.107, -4.339, -5.0987, -4.7697, -4.2631, -4.6244, -4.5446, -4.605, -4.7743, -4.751, -4.7874, -0.9671, -3.567, -3.846, -3.7288, -3.9068, -3.7993, -4.4344, -3.676, -4.6253, -4.3573, -3.5669, -3.7311, -4.2324, -4.6383, -4.1398, -4.4418, -4.5386, -4.2008, -4.2227, -4.5166, -4.1363, -4.2635, -4.7878, -5.3226, -4.1574, -4.3829, -4.6383, -5.1127, -4.9895, -4.8129, -4.3419, -4.2148, -4.6226, -4.8021, -0.8978, -2.9118, -3.0268, -3.7683, -3.5759, -3.7133, -3.9357, -4.737, -3.7651, -4.6294, -4.5005, -4.4755, -4.2413, -3.9414, -4.9533, -3.7406, -5.0583, -4.4938, -4.1195, -4.4412, -4.9171, -4.5803, -4.5802, -4.4861, -4.7212, -5.1115, -5.0118, -4.2324, -4.7497, -4.8939, -4.6883, -4.7156, -4.681, -4.6837, -1.1876, -3.2879, -3.0455, -4.0497, -3.2006, -3.8353, -4.006, -3.804, -3.9385, -4.7037, -3.6738, -4.1251, -4.4166, -3.8705, -4.6104, -4.4282, -4.436, -4.1526, -4.451, -4.5959, -3.9213, -4.1804, -4.1268, -4.3993, -4.5338, -3.8807, -4.235, -4.7432, -4.8921, -5.0469, -4.4361, -4.6431, -4.3373, -4.2278, -1.2141, -3.475, -4.4007, -3.3289, -3.5106, -3.907, -4.3266, -4.3663, -4.8422, -4.2621, -3.6969, -4.6865, -4.0792, -3.787, -4.3938, -4.8553, -4.2737, -4.1744, -4.364, -4.7099, -4.4552, -4.245, -4.6148, -4.7289, -4.8505, -4.9305, -4.9929, -4.938, -4.0148, -4.6505, -4.5809, -4.0916, -4.5457, -4.5561, -4.5827, -4.6952, -4.7038, -1.1136, -3.8307, -3.8932, -4.5269, -4.3411, -4.4102, -4.288, -4.1298, -3.9414, -4.2225, -3.415, -4.4872, -3.7141, -4.5173, -4.2092, -3.6832, -4.2687, -4.5116, -4.174, -4.4225, -4.2764, -4.7641, -4.4737, -3.9811, -4.9878, -4.4252, -4.6366, -4.2894, -4.7988, -4.7538, -4.1675, -4.2861, -4.3067, -4.4319, -4.555, -0.5776, -3.5284, -3.3664, -3.5903, -4.7045, -4.6032, -3.9761, -4.8351, -5.0159, -4.6472, -4.4851, -4.4068, -4.14, -4.0685, -4.4776, -4.7993, -5.0249, -5.1126, -5.0383, -4.5813, -4.4701, -5.3043, -4.9236, -4.7299, -4.8587, -4.8729, -4.9638, -4.2041, -5.5064, -4.9171, -4.6735, -4.8057, -4.957, -1.115, -3.2329, -3.6168, -3.3182, -3.8925, -3.8634, -3.3567, -4.0983, -3.6181, -4.1456, -4.1859, -3.7913, -3.4142, -4.3164, -4.3879, -4.2221, -4.0794, -4.7096, -4.9276, -4.5273, -4.6437, -4.1397, -4.4771, -4.5604, -4.0395, -4.9719, -4.4652, -4.4475, -4.5952, -4.205, -4.2197, -4.2124, -4.4157, -4.3947, -1.0252, -3.0288, -3.5684, -3.4892, -3.6399, -3.3971, -3.586, -3.2689, -3.6413, -3.7087, -3.6644, -3.3062, -3.8683, -4.3087, -3.5232, -3.9816, -4.4014, -4.4695, -3.9967, -4.0854, -3.836, -4.5913, -4.6249, -4.424, -5.1475, -4.8689, -4.6975, -4.7007, -5.6349, -5.1484, -4.639, -1.0847, -3.8668, -3.9932, -3.1695, -3.4081, -3.7931, -4.054, -3.5712, -4.0881, -4.076, -4.3451, -3.9413, -4.5247, -4.1414, -3.7548, -4.4496, -3.8076, -5.0041, -4.5719, -4.1301, -4.1167, -4.2627, -4.1693, -3.9818, -4.3434, -4.1089, -4.7792, -3.8374, -4.8311, -5.1917, -4.6877, -4.7804, -4.6206, -1.0286, -3.1451, -3.838, -3.6733, -4.0723, -4.1595, -3.9327, -3.5716, -4.3676, -4.8584, -4.4947, -3.9319, -4.0356, -4.3119, -4.1349, -4.3751, -4.5399, -4.0154, -4.6186, -3.9574, -4.5694, -4.2834, -3.7507, -4.2076, -4.033, -5.2333, -4.3663, -4.0169, -4.8361, -4.5836, -4.4103, -4.5623, -4.2943, -4.5072, -4.544, -0.6174, -4.1133, -4.6284, -4.0882, -3.96, -4.2308, -4.6144, -4.5083, -4.5374, -4.6958, -3.9328, -4.8429, -4.7809, -4.8755, -4.3432, -3.8195, -4.2716, -4.4902, -4.6207, -4.3879, -4.167, -4.1349, -4.7585, -4.4188, -3.9371, -4.5301, -5.1147, -4.4408, -4.758, -5.0486, -4.7869, -4.8858, -0.9088, -3.5639, -3.6515, -3.173, -3.6844, -3.9031, -4.1573, -3.34, -3.643, -3.8186, -3.9088, -4.5674, -4.173, -4.1952, -4.3343, -4.7565, -4.628, -4.0983, -4.344, -4.0343, -4.6319, -4.4083, -4.5642, -4.5465, -4.8075, -4.6247, -4.2563, -4.6082, -5.1438, -5.1254, -4.9799, -4.9793, -0.7937, -1.2982, -2.8946, -3.2649, -3.5772, -3.7361, -3.6729, -4.2888, -5.0183, -4.1049, -4.4727, -5.0705, -5.5527, -4.8614, -4.9661, -4.6965, -5.5881, -6.4285, -6.2349, -6.066, -6.3484, -7.4735, -7.3901, -7.7734, -7.4181, -8.1911, -8.0548, -8.1625, -7.9626, -8.5217, -7.9936, -8.1031, -1.213, -2.7927, -3.1232, -3.2934, -3.5232, -4.4403, -3.7321, -4.1451, -3.6967, -4.0715, -3.7318, -4.269, -4.0243, -3.6472, -3.9246, -3.7982, -4.573, -4.077, -4.1929, -3.8967, -4.7589, -3.8463, -4.2678, -3.7892, -4.7429, -4.4782, -5.064, -4.8237, -5.3062, -5.1215, -4.871, -4.486, -4.9615, -0.8594, -3.0973, -3.5148, -3.0763, -4.29, -3.9944, -3.6551, -3.6399, -3.3205, -3.4731, -3.8451, -3.9377, -4.4196, -4.0657, -3.7576, -4.0703, -3.8896, -4.7434, -3.9378, -4.5898, -4.6447, -4.955, -4.8812, -4.7607, -5.3857, -5.1006, -5.438, -5.3326, -4.9525, -5.5854, -5.1237, -5.2725, -5.1026, -1.5448, -1.7018, -2.864, -3.415, -2.9924, -3.4847, -3.4345, -3.2345, -4.1801, -4.6025, -3.464, -3.4017, -3.3233, -3.7972, -3.7772, -4.3003, -4.3389, -4.1843, -4.4675, -4.0643, -4.4427, -4.7513, -4.6642, -4.8131, -5.3027, -5.5875, -5.2715, -4.8697, -5.2795, -5.5663, -4.8287, -5.2162, -1.0138, -2.1336, -2.4693, -2.5267, -2.6624, -3.276, -3.6775, -3.6345, -4.3171, -4.3307, -3.6162, -4.4018, -4.1547, -4.3148, -3.8729, -4.9142, -5.3101, -4.9491, -5.502, -5.54, -4.8118, -4.8842, -4.918, -6.0603, -6.6603, -5.7799, -6.1548, -6.4327, -6.6407, -6.7606, -6.6285, -0.8927, -4.316, -3.5486, -3.8388, -4.3315, -4.2517, -3.758, -4.3291, -4.2174, -4.2868, -4.4222, -4.1977, -4.6746, -4.4724, -4.6652, -4.6518, -4.0402, -4.5297, -4.7553, -4.287, -4.9731, -4.5307, -4.4309, -4.7398, -4.341, -4.1845, -5.2728, -4.0956, -4.508, -4.165, -4.227, -3.9595, -4.2268, -4.2722, -4.5306, -0.7469, -2.9151, -2.9471, -4.0801, -3.5073, -3.4033, -3.8267, -4.0962, -3.3054, -3.5235, -3.6001, -3.9248, -4.5024, -4.5626, -4.3044, -4.8621, -4.43, -4.632, -5.1508, -4.7214, -4.3032, -4.6926, -4.3974, -4.6872, -5.7042, -5.3655, -5.598, -5.6346, -5.5682, -6.0571, -5.4893, -5.2283, -0.5451, -3.6989, -3.1759, -3.4361, -3.302, -3.8566, -4.306, -3.68, -4.4563, -4.0123, -3.9173, -3.889, -4.1522, -4.9956, -4.9804, -4.6131, -4.5011, -5.0484, -4.7418, -4.5138, -4.701, -5.3954, -4.7682, -4.8419, -5.5215, -5.2266, -4.8665, -5.0459, -5.9189, -6.0541, -5.994, -1.1894, -1.8161, -2.3373, -3.4131, -2.9758, -3.5056, -3.6734, -4.2205, -3.8887, -4.6289, -3.7663, -4.5399, -4.0942, -3.9789, -5.0263, -4.3511, -4.6396, -4.4554, -3.9272, -4.8175, -4.6729, -4.6635, -4.7358, -5.3278, -4.6452, -4.9001, -5.7262, -5.7614, -5.7558, -5.4067, -4.9288, -5.0821, -5.5236, -1.0535, -2.0265, -2.2353, -2.7813, -3.5202, -3.3599, -3.9159, -3.9006, -4.6223, -3.8462, -4.4332, -4.6038, -4.6486, -4.3747, -4.4584, -4.1863, -4.5413, -4.7537, -5.2285, -5.2821, -5.2403, -4.4584, -5.2647, -4.7995, -5.7097, -5.3155, -5.439, -5.8361, -5.6066, -6.1725, -5.2362, -5.5497, -5.5137, -0.9304, -2.456, -3.1981, -2.8021, -2.9519, -3.5933, -3.4754, -4.4604, -3.7274, -4.1601, -4.405, -4.3176, -3.7957, -4.4335, -3.7382, -3.9493, -4.4903, -4.4492, -3.9318, -4.7492, -4.3269, -4.7336, -4.8485, -4.4682, -4.8124, -5.3324, -5.6537, -5.3791, -5.9484, -5.5731, -5.6721, -1.7949, -2.823, -2.737, -3.5018, -3.154, -3.7866, -3.4176, -3.1066, -3.1584, -3.3205, -3.7481, -3.8668, -3.7726, -4.332, -4.7527, -4.3934, -4.1759, -4.5307, -3.9883, -4.3936, -3.6784, -4.6894, -4.3276, -4.833, -4.166, -4.4961, -4.2585, -5.0533, -4.6769, -4.8566, -4.6956, -4.5551, -0.9497, -3.1761, -2.9635, -3.5187, -4.1262, -3.7485, -3.2389, -4.0366, -3.2314, -3.138, -3.8605, -4.7067, -4.3038, -4.0571, -3.8298, -4.2541, -4.4544, -4.8706, -4.6654, -4.8019, -4.4218, -4.0269, -4.9417, -4.4374, -4.3627, -5.2114, -4.5608, -5.1984, -4.8703, -5.5063, -5.3519, -5.1038, -5.1302, -1.5977, -3.1538, -3.0848, -2.9581, -3.0934, -3.4882, -3.337, -3.9556, -4.3073, -4.2432, -3.9576, -4.3721, -4.6781, -3.4929, -4.5398, -4.0353, -4.7102, -4.1442, -4.8326, -4.805, -4.4766, -3.8553, -4.6087, -4.5774, -4.8003, -4.1834, -3.7979, -4.2453, -4.9541, -4.9397, -4.1631, -4.2408, -4.2485, -4.5734, -4.6002, -4.584, -1.4034, -2.6655, -2.8295, -3.032, -3.6503, -3.061, -4.0541, -3.5761, -4.306, -3.9525, -4.6046, -3.8786, -4.159, -4.1765, -3.9128, -3.9916, -4.5376, -4.7317, -4.9966, -4.7771, -4.5907, -4.9254, -4.9988, -4.4074, -4.5814, -5.1443, -4.5555, -4.9655, -5.0086, -4.5324, -4.5209, -4.3291, -4.2764, -4.7397, -4.6573, -4.702, -4.7574, -2.1765, -2.0069, -2.6462, -4.1137, -4.1974, -3.5435, -3.707, -4.3537, -3.6692, -4.3299, -4.4644, -3.8522, -4.4888, -4.2369, -3.8117, -4.5294, -4.5802, -4.4025, -4.0485, -4.3325, -4.646, -4.9485, -3.8818, -4.2134, -4.4047, -4.4637, -5.0036, -4.937, -4.4164, -5.0182, -4.4662, -4.0644, -4.5803, -4.3601, -4.2795, -4.5221, -2.0853, -2.7844, -3.4857, -3.0591, -4.0509, -3.7383, -3.8626, -3.9714, -3.8449, -4.278, -3.9714, -3.8846, -4.6801, -3.9325, -3.8348, -4.2867, -4.0325, -4.7246, -4.2596, -4.1421, -4.7547, -3.8722, -4.6633, -4.1763, -4.338, -4.0657, -4.6878, -4.102, -3.7972, -4.8175, -4.3563, -4.4519, -4.0934, -4.1907, -4.4335, -4.6396, -4.602, -1.4756, -3.9519, -3.7184, -3.0894, -4.0328, -3.4143, -4.0857, -3.7578, -4.1726, -4.544, -4.0052, -4.0666, -3.9796, -3.7125, -4.5682, -3.7815, -4.684, -3.5116, -4.7976, -4.6697, -4.7007, -4.6898, -4.1544, -4.3139, -4.4327, -4.3312, -4.9154, -4.6398, -4.492, -4.8171, -3.9132, -4.165, -4.3956, -4.4644, -4.3624, -4.4804, -4.6165, -1.8013, -2.6919, -3.1743, -3.8068, -3.6217, -3.9547, -3.4965, -3.3468, -3.7144, -3.9802, -3.9769, -4.2831, -4.3199, -3.5599, -4.2745, -4.4099, -4.0273, -4.579, -4.5696, -3.9412, -3.5394, -3.8693, -5.1812, -4.3148, -4.9514, -4.3515, -4.1325, -4.9522, -4.8661, -4.3383, -4.283, -4.4308, -4.1997, -4.6225, -2.4637, -2.6926, -2.7502, -3.5175, -3.6928, -3.9794, -3.6661, -4.0408, -3.873, -3.6515, -3.4543, -4.5543, -4.2527, -4.4182, -3.8518, -3.813, -4.0807, -3.7751, -5.0083, -4.5053, -4.5907, -3.4838, -4.6066, -3.832, -4.3414, -3.9045, -4.6764, -4.8393, -4.2309, -4.7349, -4.5069, -4.4173, -4.4285, -4.3458, -4.3754, -4.5265, -4.4833, -3.1929, -3.5067, -3.3728, -3.7391, -3.1828, -3.718, -3.6456, -3.9441, -4.2123, -3.9032, -4.2498, -3.4493, -4.4485, -3.7358, -4.2586, -4.6768, -4.3736, -4.5244, -4.3198, -4.0309, -4.5475, -4.3826, -4.5441, -4.6129, -3.4368, -4.1376, -4.0472, -4.6586, -4.2211, -4.1866, -4.0802, -4.1184, -4.0874, -4.2218, -4.3899, -4.3398, -4.3381, -2.3856, -2.7943, -3.7922, -3.1928, -3.8573, -3.8055, -3.3873, -4.0248, -3.9534, -4.108, -4.407, -4.3138, -4.3389, -4.2822, -3.6904, -4.5012, -3.8575, -4.7052, -4.3149, -3.5423, -4.3669, -4.8053, -4.1707, -4.4346, -4.592, -4.3829, -4.8307, -4.7493, -4.2073, -4.7988, -4.2526, -4.112, -3.8241, -4.1667, -4.2196, -4.4776, -2.3629, -3.0501, -3.073, -3.7583, -3.9347, -3.7671, -3.9777, -3.7523, -3.6638, -3.8178, -4.3442, -4.4588, -4.2587, -3.8234, -4.1754, -3.8032, -4.1692, -4.4382, -4.1294, -4.4651, -4.6595, -4.4404, -4.6345, -4.216, -4.412, -4.694, -5.0907, -3.9331, -3.7253, -4.5921, -4.289, -4.0826, -4.338, -4.3227, -4.3962, -4.3531, -4.3482, -4.3815, -2.8494, -3.1064, -2.9179, -3.7632, -4.0435, -3.4059, -3.6955, -2.7806, -3.8776, -4.1973, -4.311, -4.3874, -3.6604, -4.3633, -4.5091, -4.0338, -4.0431, -4.0626, -4.5041, -3.5673, -3.8365, -4.8542, -4.4867, -4.0484, -4.4836, -4.612, -4.5453, -4.4838, -4.736, -4.8168, -4.2194, -3.9736, -4.1195, -4.2147, -4.3873, -4.402, -4.3473, -4.4403, -3.0984, -3.7214, -4.0048, -3.1762, -3.5996, -3.9814, -3.6114, -3.8464, -4.3267, -4.5499, -3.9399, -3.6148, -4.2864, -4.3098, -4.4502, -4.4535, -4.4224, -3.6556, -3.9468, -4.2372, -3.9895, -4.4899, -4.6876, -3.9408, -4.5177, -4.1141, -4.679, -4.5823, -3.7118, -3.8574, -4.0676, -4.0195, -4.1115, -4.3296, -4.3012, -4.3814, -4.3856, -4.4429, -2.2783, -3.3611, -3.4367, -3.5786, -3.7345, -3.653, -3.3855, -4.3409, -4.3977, -4.1998, -4.2481, -4.2712, -4.2699, -4.4192, -4.5643, -3.9743, -4.3139, -4.1931, -4.4173, -3.9832, -4.2018, -4.5776, -3.9853, -3.7759, -4.2994, -4.1934, -4.5577, -4.144, -4.1998, -4.4492, -4.2441, -3.9796, -4.1039, -4.104, -4.1791, -4.2995, -4.2286, -3.7452, -3.1378, -3.4001, -4.0743, -4.1094, -3.9836, -3.5631, -4.1915, -4.2534, -4.3421, -3.6716, -4.684, -4.0692, -3.4876, -4.4063, -4.1151, -4.4705, -4.5846, -4.3353, -4.3993, -4.4177, -4.1245, -4.2939, -3.92, -4.7562, -4.0066, -4.6088, -3.6122, -4.0902, -4.4859, -3.8991, -4.28, -4.0474, -3.8663, -4.2828, -4.3631, -4.2829, -4.354, -4.369, -3.252, -3.2011, -3.7676, -3.7587, -3.6545, -3.1584, -3.7199, -3.8666, -3.7908, -4.1334, -4.0405, -3.9396, -4.4535, -3.9994, -3.9653, -4.3318, -3.6545, -4.3786, -3.9082, -3.35, -4.5947, -4.0404, -4.755, -4.0535, -4.5992, -3.8009, -3.8685, -3.6867, -4.5089, -4.1604, -4.5461, -4.4184, -4.4371, -4.4081, -4.4887], \"loglift\": [30.0, 29.0, 28.0, 27.0, 26.0, 25.0, 24.0, 23.0, 22.0, 21.0, 20.0, 19.0, 18.0, 17.0, 16.0, 15.0, 14.0, 13.0, 12.0, 11.0, 10.0, 9.0, 8.0, 7.0, 6.0, 5.0, 4.0, 3.0, 2.0, 1.0, 3.5253, 1.6669, 0.9426, 0.4419, 0.4163, 0.361, 0.2929, 0.2629, 0.2005, 0.1905, 0.1381, 0.138, 0.0962, 0.047, 0.0416, 0.0358, 0.0194, 0.0066, -0.0181, -0.0393, -0.0398, -0.0477, -0.072, -0.0805, -0.1175, -0.1219, -0.1349, -0.1763, -0.1806, -0.194, -0.2108, -0.25, -0.2767, -0.5942, -0.3993, -0.3229, -0.5619, 3.5406, 1.7752, 1.4689, 1.1314, 0.9665, 0.4808, 0.3972, 0.3461, 0.3361, 0.2981, 0.2893, 0.1831, 0.1458, 0.1434, 0.0678, 0.052, 0.0435, 0.0219, 0.0072, -0.0417, -0.0451, -0.055, -0.0963, -0.1559, -0.169, -0.1766, -0.2064, -0.2203, -0.2338, -0.2479, -0.3067, -0.3497, -0.3541, -0.3681, -0.4113, -0.3102, -0.7666, -0.5799, -0.4082, 3.3773, 1.345, 1.1155, 1.0236, 0.4806, 0.4721, 0.3048, 0.2971, 0.239, 0.2053, 0.1511, 0.1058, 0.0713, 0.0479, 0.009, -0.004, -0.0081, -0.0082, -0.0122, -0.0377, -0.0558, -0.1087, -0.1268, -0.1297, -0.1437, -0.1519, -0.1555, -0.1616, -0.1994, -0.2175, -0.2479, -0.3884, -0.32, -0.3743, -0.6743, -0.5194, -0.9467, 3.6409, 0.4564, 0.3803, 0.2762, 0.2422, 0.2192, 0.2151, 0.1611, 0.1481, 0.1476, 0.1165, 0.0874, 0.0861, 0.0752, 0.0723, 0.071, 0.0624, 0.0516, 0.0446, -0.0082, -0.0093, -0.0142, -0.0183, -0.0251, -0.0299, -0.0728, -0.1243, -0.1289, -0.1564, -0.1741, -0.2209, -0.2256, -0.2601, -0.4044, -0.4522, -0.5241, -0.3492, -0.9039, 3.3554, 1.1595, 0.447, 0.4159, 0.3667, 0.2532, 0.2492, 0.2478, 0.2451, 0.1801, 0.1433, 0.1313, 0.0804, 0.0796, 0.0681, 0.0482, 0.0212, 0.0131, -0.0151, -0.0232, -0.0753, -0.0797, -0.0987, -0.1042, -0.1288, -0.1525, -0.1677, -0.1748, -0.1947, -0.2028, -0.2056, -0.2592, -0.266, -0.3034, -0.3113, -0.5681, 3.4449, 3.108, 0.3611, 0.2265, 0.1445, 0.1339, 0.1286, 0.1073, 0.1062, 0.1023, 0.0624, 0.0422, 0.0261, 0.0167, 0.0135, -0.0008, -0.0048, -0.0219, -0.0235, -0.027, -0.0277, -0.0279, -0.0649, -0.1122, -0.1467, -0.1766, -0.1768, -0.1992, -0.2318, -0.2778, -0.3557, -0.5698, -0.4795, 3.534, 0.4837, 0.3923, 0.3548, 0.3119, 0.283, 0.2806, 0.2153, 0.1896, 0.1585, 0.1331, 0.1062, 0.0973, 0.0969, 0.0801, 0.072, 0.0139, 0.0077, -0.0, -0.0846, -0.0988, -0.1226, -0.1235, -0.1306, -0.1345, -0.151, -0.1906, -0.2201, -0.2876, -0.2879, -0.3584, -0.3139, -0.383, -0.4084, -0.3744, 3.7036, 0.5628, 0.4983, 0.4961, 0.3161, 0.2895, 0.2786, 0.2664, 0.236, 0.2346, 0.2328, 0.1675, 0.1593, 0.13, 0.1263, 0.102, 0.0822, 0.0395, -0.0174, -0.0286, -0.0289, -0.0305, -0.0319, -0.042, -0.066, -0.0698, -0.0702, -0.0818, -0.0897, -0.0993, -0.1831, -0.1214, -0.177, -0.2404, -0.3687, -0.3277, -0.1992, -0.2791, -0.5272, 3.5346, 0.9879, 0.8237, 0.7297, 0.7143, 0.4011, 0.3672, 0.344, 0.3287, 0.2499, 0.2449, 0.1824, 0.1616, 0.1075, 0.0957, 0.095, 0.049, 0.0406, 0.0255, 0.0242, 0.0186, -0.0044, -0.0063, -0.0143, -0.0235, -0.0609, -0.0807, -0.1069, -0.1398, -0.1407, -0.2163, -0.2083, -0.2931, -0.3766, 3.2886, 0.7242, 0.6312, 0.5882, 0.5516, 0.3073, 0.2883, 0.2764, 0.274, 0.1993, 0.155, 0.1443, 0.1171, 0.0987, 0.0911, 0.0823, 0.0779, 0.0652, 0.0537, 0.0526, 0.0209, -0.0122, -0.0247, -0.0463, -0.0557, -0.0598, -0.1536, -0.1582, -0.159, -0.1995, -0.2262, -0.3465, -0.3685, -0.3543, -0.3336, 3.0007, 1.5572, 0.8954, 0.3301, 0.3148, 0.3143, 0.2848, 0.2607, 0.2568, 0.196, 0.1899, 0.1766, 0.0638, 0.0616, 0.0605, 0.034, 0.013, -0.0451, -0.1017, -0.1237, -0.1384, -0.1405, -0.1422, -0.1753, -0.1796, -0.2027, -0.2272, -0.2652, -0.2661, -0.2807, -0.292, -0.3493, -0.4112, -0.4969, -0.4861, -0.5919, 3.5178, 0.9932, 0.8656, 0.7779, 0.5786, 0.3752, 0.3736, 0.314, 0.3029, 0.2392, 0.2235, 0.1618, 0.1345, 0.1267, 0.1097, 0.0747, 0.0741, 0.0648, 0.0514, 0.049, -0.0175, -0.0411, -0.0572, -0.0845, -0.1051, -0.1124, -0.1327, -0.1893, -0.2462, -0.259, -0.268, -0.4258, -0.4455, -0.6764, -0.5886, -0.3777, -0.4999, -0.454, 3.5369, 0.4563, 0.4203, 0.4198, 0.4129, 0.3892, 0.3831, 0.2915, 0.2794, 0.2747, 0.2547, 0.2274, 0.2035, 0.1722, 0.129, 0.1122, 0.1031, 0.1016, 0.0801, 0.0771, 0.065, 0.0637, 0.0419, 0.0115, 0.0111, 0.0092, 0.0034, 0.0027, -0.0088, -0.0334, -0.0369, -0.0687, -0.1576, -0.1949, -0.0908, -0.1232, -0.116, -0.1489, -0.2272, -0.0551, 3.6135, 1.1545, 1.0309, 0.8832, 0.5885, 0.4533, 0.2669, 0.1082, 0.0851, 0.0153, 0.0106, -0.0018, -0.0228, -0.038, -0.0901, -0.0985, -0.1259, -0.1315, -0.1569, -0.1621, -0.1721, -0.2006, -0.2027, -0.2471, -0.2884, -0.3485, -0.3491, -0.3617, -0.3795, -0.3909, -0.4433, -0.5178, -1.0926, -0.9637, 3.5655, 2.2337, 1.4426, 0.9117, 0.6684, 0.4771, 0.209, 0.159, 0.0898, 0.0874, 0.0409, 0.0408, -0.0357, -0.0431, -0.1031, -0.1459, -0.1721, -0.1839, -0.1937, -0.2193, -0.2341, -0.271, -0.2808, -0.3164, -0.3235, -0.3435, -0.3694, -0.4258, -0.4579, -0.46, -0.4788, -0.6563, -0.5908, -0.7154, -0.6002, -1.2047, -0.6299, 3.4264, 2.8123, 0.8512, 0.783, 0.5478, 0.4617, 0.4317, 0.384, 0.3793, 0.3571, 0.3374, 0.2587, 0.2303, 0.2272, 0.2, 0.1709, 0.0012, -0.0032, -0.006, -0.0398, -0.049, -0.0518, -0.0772, -0.1103, -0.1281, -0.1559, -0.1814, -0.1889, -0.1909, -0.2034, -0.2256, -0.2128, -0.272, -0.2928, -0.2303, -0.2452, -0.2588, 3.7012, 0.6472, 0.4437, 0.4285, 0.189, 0.1864, 0.1801, 0.1712, 0.1441, 0.0978, 0.0911, 0.0724, 0.0627, 0.0356, 0.0249, 0.0229, 0.0207, -0.0221, -0.075, -0.0942, -0.1144, -0.1148, -0.1268, -0.1282, -0.1502, -0.1558, -0.1768, -0.2037, -0.2058, -0.2178, -0.2564, -0.2526, -0.2618, -0.2244, -0.4999, 3.3044, 0.8354, 0.5199, 0.4181, 0.416, 0.3326, 0.3258, 0.3003, 0.2889, 0.2359, 0.2257, 0.165, 0.1296, 0.1134, 0.0875, 0.0822, 0.0701, 0.0025, -0.038, -0.0812, -0.0839, -0.0929, -0.0946, -0.1133, -0.1462, -0.1859, -0.2077, -0.2077, -0.2133, -0.2171, -0.2455, -0.4569, -0.4562, -0.3907, 3.5345, 0.5554, 0.5276, 0.3496, 0.3464, 0.3257, 0.2703, 0.257, 0.1306, 0.099, 0.0894, 0.0884, 0.083, 0.0641, -0.0211, -0.0296, -0.0347, -0.0881, -0.1004, -0.122, -0.1761, -0.1818, -0.2059, -0.2207, -0.2478, -0.3978, -0.4028, -0.4193, -0.43, -0.4316, -0.4401, -0.4621, -0.5087, -0.708, -1.1809, 3.5766, 1.2894, 0.6791, 0.2867, 0.2462, 0.201, 0.1523, 0.1129, 0.1079, 0.0942, 0.0823, 0.0411, 0.0114, 0.0, -0.0203, -0.0519, -0.0654, -0.0789, -0.1018, -0.107, -0.1119, -0.1247, -0.1448, -0.1819, -0.1908, -0.1928, -0.1998, -0.204, -0.2203, -0.242, -0.358, -0.3431, -0.4135, -0.4344, -0.4636, -0.302, 3.0124, 2.5787, 0.547, 0.474, 0.4704, 0.3371, 0.3298, 0.2731, 0.2134, 0.1536, 0.1524, 0.1417, 0.1358, 0.0099, -0.0603, -0.1081, -0.1978, -0.2136, -0.4095, -0.4203, -0.4233, -0.44, -0.4785, -0.4827, -0.6337, -0.77, -0.7741, -0.8156, -0.9164, -0.979, 3.3004, 1.1959, 0.7483, 0.5228, 0.3313, 0.3123, 0.1957, 0.1288, 0.1198, 0.1113, 0.0478, 0.034, 0.0066, -0.0255, -0.0421, -0.0434, -0.0627, -0.0652, -0.1578, -0.1578, -0.1639, -0.1704, -0.1813, -0.2072, -0.2132, -0.2314, -0.2519, -0.2753, -0.2865, -0.2913, -0.2968, -0.3267, -0.3277, -0.435, -0.5964, -0.4836, -0.8333, 3.1293, 0.7144, 0.5758, 0.4091, 0.3762, 0.2966, 0.2947, 0.2828, 0.1037, 0.0944, 0.0374, 0.0062, -0.1475, -0.1475, -0.169, -0.215, -0.2937, -0.296, -0.375, -0.4164, -0.4449, -0.5032, -0.6003, -0.9557, -0.9713, -1.0429, -1.0705, -1.1005, -1.107, -1.1352, -1.178, -1.5759, 3.7085, 1.0828, 0.9426, 0.7733, 0.5054, 0.3817, 0.3265, 0.2946, 0.2076, 0.1986, 0.1148, 0.097, -0.0014, -0.0647, -0.0868, -0.1547, -0.1838, -0.2152, -0.3083, -0.3317, -0.3374, -0.3828, -0.3853, -0.4125, -0.4523, -0.5034, -0.5177, -0.5211, -0.5232, -0.5472, -0.6094, -0.7367, -0.9195, -0.7586, 3.2769, 0.8678, 0.7775, 0.7256, 0.6923, 0.6614, 0.3324, 0.3157, 0.2779, 0.1578, 0.1031, 0.0964, 0.0697, 0.0233, -0.0246, -0.0556, -0.0557, -0.1794, -0.1934, -0.2042, -0.2142, -0.2165, -0.2397, -0.4031, -0.4089, -0.4606, -0.4692, -0.4707, -0.4733, -0.4783, -0.5266, -0.507, -0.6274, 3.1459, 1.715, 0.7504, 0.4805, 0.4405, 0.3462, 0.3182, 0.3107, 0.2773, 0.1969, 0.1595, 0.1149, 0.1046, 0.1039, 0.0846, 0.0597, 0.0403, 0.0262, -0.0026, -0.011, -0.016, -0.0229, -0.0265, -0.0432, -0.0466, -0.1015, -0.1041, -0.1064, -0.1475, -0.1614, -0.1815, -0.4346, -0.49, -0.4367, -0.3639, -0.3531, -0.4328, -0.2608, 3.5303, 0.6142, 0.608, 0.5348, 0.4471, 0.3102, 0.2749, 0.2749, 0.2112, 0.1549, 0.0967, 0.0939, 0.0897, 0.0887, 0.0863, -0.0183, -0.0203, -0.0475, -0.0558, -0.0597, -0.0716, -0.0786, -0.0829, -0.085, -0.1027, -0.1383, -0.1956, -0.2118, -0.2152, -0.2168, -0.2355, -0.3471, -0.4543, -0.4576, -0.4535, -0.9695, 3.5096, 1.1809, 1.0575, 0.6163, 0.5069, 0.5049, 0.4753, 0.3319, 0.3165, 0.2784, 0.2455, 0.2093, 0.1931, 0.1717, 0.1324, 0.0831, 0.0794, 0.076, 0.0513, 0.0275, 0.0037, -0.0058, -0.0981, -0.1685, -0.1887, -0.194, -0.2349, -0.2473, -0.2676, -0.2691, -0.3174, -0.6426, -0.4916, -0.6255, 3.1619, 0.7179, 0.4086, 0.378, 0.3315, 0.313, 0.2473, 0.2343, 0.2105, 0.1976, 0.1438, 0.1127, 0.0728, 0.0474, 0.0461, 0.0333, 0.0319, 0.0159, 0.0069, 0.0049, -0.019, -0.1056, -0.1077, -0.1562, -0.2213, -0.2279, -0.2314, -0.2613, -0.2717, -0.2991, -0.2994, -0.4649, -0.6198, -0.4153, 3.6287, 0.7641, 0.4366, 0.4217, 0.4183, 0.3895, 0.2717, 0.2453, 0.2324, 0.2193, 0.1435, 0.1256, 0.1081, 0.103, 0.1019, 0.0854, -0.0286, -0.0413, -0.0432, -0.0937, -0.094, -0.1198, -0.1232, -0.1752, -0.1958, -0.2004, -0.2311, -0.2736, -0.2893, -0.3226, -0.3903, -0.4118, -0.4735, -0.5277, 3.4199, 0.6019, 0.5509, 0.5367, 0.3939, 0.3296, 0.2942, 0.2452, 0.2018, 0.1737, 0.1304, 0.0876, 0.0733, 0.0731, 0.0691, 0.0632, 0.0561, 0.0323, 0.0285, 0.0097, -0.0016, -0.0435, -0.0561, -0.0887, -0.1205, -0.1486, -0.1994, -0.2147, -0.2348, -0.2374, -0.3465, -0.3403, -0.3943, -0.3958, -0.4307, -0.6797, 3.5481, 0.687, 0.5883, 0.3983, 0.3066, 0.3004, 0.2847, 0.2427, 0.1135, 0.1038, 0.0829, 0.0481, 0.0416, 0.0392, 0.0273, 0.0238, -0.0021, -0.0057, -0.0074, -0.0164, -0.0421, -0.0436, -0.0654, -0.0696, -0.0842, -0.0872, -0.1349, -0.1416, -0.1586, -0.1793, -0.1892, -0.205, -0.2945, -0.5085, 3.325, 1.0464, 0.734, 0.6323, 0.5591, 0.5493, 0.532, 0.4659, 0.3453, 0.2817, 0.2171, 0.1763, 0.1744, 0.1393, 0.0464, 0.0268, 0.0177, -0.031, -0.0396, -0.0828, -0.0985, -0.1489, -0.1895, -0.226, -0.2331, -0.2566, -0.2602, -0.2605, -0.2704, -0.3007, -0.3067, -0.3862, -0.7217, -1.0717, 3.9141, 0.6902, 0.6007, 0.334, 0.2994, 0.2919, 0.2693, 0.226, 0.2172, 0.1938, 0.1242, 0.0038, -0.0, -0.006, -0.0909, -0.0976, -0.1032, -0.1583, -0.1616, -0.1712, -0.1746, -0.1945, -0.2376, -0.2463, -0.2792, -0.3164, -0.3203, -0.3279, -0.3614, -0.3659, -0.3773, -0.3762, -0.4594, -0.5237, -0.5176, -0.7248, -0.7508, 3.7269, 0.8069, 0.7616, 0.4654, 0.314, 0.2249, 0.1642, 0.1293, 0.1151, 0.1096, 0.1057, 0.0602, 0.0537, 0.0328, 0.0231, 0.0063, -0.0312, -0.0801, -0.0824, -0.1064, -0.1277, -0.1355, -0.1445, -0.1752, -0.1936, -0.248, -0.2523, -0.2662, -0.2664, -0.279, -0.3076, -0.3468, -0.3901, -0.6307, -0.4572, -0.5285, -0.5413, -0.6587, -0.5788, 3.8358, 0.6555, 0.3404, 0.3308, 0.2635, 0.2623, 0.1692, 0.1595, 0.098, 0.0798, 0.0741, 0.032, -0.0254, -0.0385, -0.1186, -0.151, -0.1577, -0.2012, -0.2065, -0.2628, -0.333, -0.3555, -0.3704, -0.3833, -0.4704, -0.5939, -0.7335, -0.807, -0.858, -0.9299, -0.968, -1.2289, 3.5117, 2.3855, 1.4418, 0.624, 0.5644, 0.4263, 0.3751, 0.3534, 0.2923, 0.2862, 0.2416, 0.2157, 0.2017, 0.1872, 0.0966, 0.0949, 0.0501, -0.0347, -0.0501, -0.051, -0.0754, -0.0898, -0.0954, -0.2681, -0.2883, -0.3146, -0.3219, -0.3524, -0.3768, -0.4143, -0.4844, -1.2214, -0.733, 3.8582, 1.0758, 0.9318, 0.7716, 0.6839, 0.6253, 0.4612, 0.3402, 0.31, 0.2985, 0.2809, 0.194, 0.1841, 0.0852, 0.0107, -0.0264, -0.048, -0.0525, -0.0696, -0.0833, -0.189, -0.259, -0.2656, -0.2684, -0.383, -0.4017, -0.4082, -0.4083, -0.4685, -0.5737, -0.6635, -0.776, -0.7351, -1.2234, 3.7068, 1.7554, 0.9741, 0.8728, 0.317, 0.3052, 0.2345, 0.1711, 0.0835, 0.0421, -0.0089, -0.0218, -0.0509, -0.0746, -0.0893, -0.1797, -0.1988, -0.2274, -0.231, -0.2317, -0.2425, -0.2459, -0.2706, -0.2877, -0.3896, -0.4069, -0.4147, -0.4596, -0.4914, -0.5127, -0.5402, -0.5979, -0.8259, -1.3836, 3.2893, 1.4337, 0.8171, 0.753, 0.5501, 0.4867, 0.4282, 0.4159, 0.311, 0.2878, 0.2717, 0.2681, 0.2312, 0.2095, 0.1181, 0.014, -0.0051, -0.0052, -0.0084, -0.0718, -0.0805, -0.1125, -0.1229, -0.132, -0.1566, -0.1963, -0.2156, -0.2325, -0.2355, -0.2412, -0.2467, -0.4017, -0.3598, -0.4243, -0.5549, 3.7473, 1.5163, 0.452, 0.4485, 0.3843, 0.3616, 0.2663, 0.2148, 0.2029, 0.1928, 0.1903, 0.1473, 0.0676, 0.0643, 0.0635, 0.0605, -0.0014, -0.0149, -0.0196, -0.0649, -0.1086, -0.1207, -0.1404, -0.1456, -0.1574, -0.187, -0.2239, -0.2607, -0.32, -0.3201, -0.3979, -0.6012, -0.4576, -0.5025, 3.8877, 1.0882, 0.9172, 0.8972, 0.6868, 0.4829, 0.4568, 0.44, 0.1901, 0.0732, 0.0366, 0.0268, -0.0382, -0.0506, -0.0597, -0.127, -0.1624, -0.2027, -0.241, -0.2454, -0.2697, -0.2807, -0.2823, -0.2828, -0.3067, -0.3184, -0.3317, -0.4752, -0.4756, -0.5125, -0.5274, -0.5729, -0.6534, -0.6715, 3.7049, 0.9154, 0.8985, 0.5977, 0.5566, 0.5461, 0.4963, 0.4872, 0.4745, 0.4732, 0.4689, 0.4464, 0.4116, 0.3154, 0.2854, 0.2726, 0.2666, 0.2399, 0.2291, 0.2094, 0.1064, 0.0936, 0.0694, 0.0525, 0.0423, -0.0023, -0.0577, -0.0777, -0.0976, -0.1376, -0.1382, -0.2286, -0.4465, -0.6142, 3.7512, 1.1741, 0.7763, 0.6152, 0.4894, 0.3842, 0.3389, 0.3031, 0.2411, 0.2402, 0.1815, 0.1416, 0.1241, 0.1038, 0.0823, 0.0406, 0.0262, 0.0218, 0.0174, -0.0073, -0.0408, -0.0491, -0.0647, -0.0744, -0.163, -0.216, -0.2278, -0.2372, -0.2576, -0.2579, -0.2813, -0.4781, -0.3685, -0.4133, -0.4218, -0.3972, -0.4298, 3.7695, 0.6716, 0.6568, 0.5564, 0.4871, 0.4291, 0.4128, 0.4074, 0.3585, 0.2293, 0.1985, 0.1929, 0.1643, 0.1522, 0.0904, 0.074, 0.0292, 0.0212, 0.0032, -0.008, -0.0733, -0.0782, -0.0811, -0.0903, -0.0942, -0.134, -0.1439, -0.1467, -0.1514, -0.1823, -0.2235, -0.2584, -0.2946, -0.271, -0.39, 4.0715, 0.8846, 0.8298, 0.4097, 0.3045, 0.0504, -0.0321, -0.0903, -0.1223, -0.1449, -0.1852, -0.2295, -0.2616, -0.3113, -0.3126, -0.3231, -0.3242, -0.3539, -0.391, -0.4386, -0.4425, -0.4761, -0.5091, -0.5268, -0.5607, -0.5818, -0.5824, -0.5905, -0.5971, -0.6847, -0.7827, -0.7935, -0.7611, 3.6501, 0.953, 0.9204, 0.8245, 0.7769, 0.6866, 0.5873, 0.5817, 0.5778, 0.5551, 0.5015, 0.412, 0.343, 0.331, 0.3147, 0.2326, 0.2206, 0.1839, 0.1557, 0.1262, 0.0423, 0.0376, 0.0157, -0.0087, -0.0395, -0.1642, -0.1656, -0.1735, -0.1735, -0.1774, -0.3413, -0.5989, -0.4606, -0.5039, 3.4675, 2.0545, 1.1011, 1.048, 0.9101, 0.9009, 0.7139, 0.6095, 0.562, 0.4944, 0.4783, 0.451, 0.4313, 0.3939, 0.3676, 0.3096, 0.2786, 0.2313, 0.1805, 0.1105, 0.1081, 0.0947, 0.0225, -0.0425, -0.2517, -0.4545, -0.6698, -0.6885, -0.7829, -0.9834, -1.0254, 3.8246, 0.9614, 0.9026, 0.5877, 0.5359, 0.5068, 0.4832, 0.4288, 0.4142, 0.3385, 0.3204, 0.262, 0.1779, 0.1497, 0.1236, 0.1005, 0.0832, 0.0792, 0.0755, 0.073, 0.0482, 0.0369, 0.0266, -0.0266, -0.0454, -0.0967, -0.1098, -0.2239, -0.2794, -0.2981, -0.3062, -0.3286, -0.593, 3.8234, 1.7173, 0.8646, 0.53, 0.5038, 0.4879, 0.4817, 0.3192, 0.3125, 0.2249, 0.2198, 0.2108, 0.1968, 0.1808, 0.1631, 0.1621, 0.146, 0.1455, 0.0822, 0.0548, 0.027, 0.0162, 0.0065, -0.0045, -0.033, -0.0563, -0.0664, -0.1385, -0.1667, -0.2022, -0.2245, -0.2247, -0.3391, -0.3113, -0.379, 4.07, 0.5561, 0.5485, 0.4489, 0.3311, 0.224, 0.1934, 0.1718, 0.1634, 0.1324, 0.0948, 0.0402, 0.0136, -0.0235, -0.0436, -0.0623, -0.0943, -0.107, -0.1184, -0.1848, -0.2118, -0.2441, -0.2657, -0.276, -0.3236, -0.3342, -0.4673, -0.5624, -0.5971, -0.6342, -0.8429, -0.8858, 3.6673, 1.2438, 1.2109, 0.9879, 0.9851, 0.7977, 0.4901, 0.4172, 0.3692, 0.3242, 0.1188, 0.1186, 0.1182, 0.0078, 0.0034, -0.0539, -0.0764, -0.0983, -0.1407, -0.1559, -0.2102, -0.231, -0.2375, -0.2465, -0.2574, -0.3251, -0.3655, -0.4123, -0.4637, -0.4719, -0.5654, -0.6814, 3.8923, 2.8977, 1.7748, 1.4377, 0.6259, 0.1547, 0.0844, -0.1461, -0.1902, -0.2264, -0.2954, -0.4231, -0.4694, -0.5703, -0.6662, -0.7525, -1.1736, -1.7277, -1.7802, -2.0384, -2.3484, -2.8974, -2.977, -2.9789, -3.2572, -3.5376, -3.5787, -3.591, -3.6249, -3.6385, -3.6668, -3.8706, 3.6828, 1.8874, 1.0801, 0.9977, 0.6799, 0.643, 0.5675, 0.5409, 0.4806, 0.4786, 0.4641, 0.4004, 0.3902, 0.2313, 0.2182, 0.1458, 0.1278, 0.1192, 0.105, 0.1033, 0.0931, 0.0445, 0.0062, -0.032, -0.0955, -0.1782, -0.2563, -0.2866, -0.3257, -0.3564, -0.3783, -0.4584, -0.4098, 3.1682, 1.0799, 1.0352, 0.8021, 0.7933, 0.7064, 0.6429, 0.5028, 0.4367, 0.4177, 0.358, 0.3534, 0.2605, 0.2342, 0.1865, 0.133, 0.1226, 0.0848, 0.0622, -0.0971, -0.1075, -0.3076, -0.3789, -0.4611, -0.6409, -0.6861, -0.7354, -0.7565, -0.7916, -0.8995, -0.9276, -1.0767, -1.489, 2.8696, 2.8354, 1.4355, 1.4131, 1.1848, 0.8133, 0.7686, 0.6563, 0.5225, 0.4808, 0.48, 0.4767, 0.4339, 0.3886, 0.3656, 0.3471, 0.3305, 0.1156, 0.0348, -0.0521, -0.0612, -0.3588, -0.4609, -0.522, -0.7526, -0.793, -0.8168, -0.8421, -1.0836, -1.1446, -1.2151, -1.2162, 3.2858, 2.1575, 1.7338, 1.3641, 1.216, 1.022, 1.0026, 0.6282, 0.3855, 0.3388, 0.3278, 0.3215, 0.1194, -0.0149, -0.1157, -0.4119, -0.4165, -0.5346, -0.5367, -0.6307, -0.6345, -0.6809, -0.918, -1.4814, -1.4833, -1.584, -1.6176, -1.7792, -1.9263, -2.3089, -2.4676, 4.0009, 0.6493, 0.6286, 0.6159, 0.4966, 0.4284, 0.3847, 0.3183, 0.2587, 0.2504, 0.2313, 0.1837, 0.1199, 0.0776, 0.0492, 0.0357, -0.0125, -0.0274, -0.0527, -0.0839, -0.0899, -0.1162, -0.1397, -0.1434, -0.1552, -0.1724, -0.1895, -0.2048, -0.2081, -0.2209, -0.227, -0.346, -0.3484, -0.515, -0.3273, 3.6346, 1.2808, 1.1956, 0.8158, 0.7906, 0.774, 0.6756, 0.5733, 0.4518, 0.3549, 0.2907, 0.2783, 0.1836, 0.0848, -0.1011, -0.1173, -0.1388, -0.2175, -0.2415, -0.3288, -0.3591, -0.3927, -0.3974, -0.5263, -0.5272, -0.6511, -0.9179, -1.0585, -1.0754, -1.4035, -1.4616, -1.6148, 4.2941, 1.1531, 1.1237, 1.1011, 0.9959, 0.5951, 0.2457, 0.2108, 0.1911, 0.1836, 0.0267, -0.1317, -0.197, -0.2798, -0.311, -0.322, -0.3238, -0.3339, -0.3603, -0.371, -0.4977, -0.4995, -0.5824, -0.6388, -0.7565, -0.8136, -0.9881, -1.0183, -1.2388, -1.3534, -1.694, 3.3606, 3.0232, 1.9606, 1.0892, 0.7814, 0.6372, 0.4875, 0.4489, 0.4109, 0.1992, 0.1888, 0.1627, -0.0666, -0.0881, -0.1304, -0.1738, -0.218, -0.2523, -0.3137, -0.3248, -0.3353, -0.3636, -0.4447, -0.612, -0.6331, -0.6967, -0.7457, -0.8522, -0.8726, -0.9922, -1.0504, -1.0822, -1.3587, 3.2841, 1.9735, 1.9256, 1.8732, 1.1956, 0.3973, 0.3165, 0.3025, 0.2401, 0.109, 0.104, 0.0836, -0.0725, -0.0748, -0.1588, -0.2955, -0.3985, -0.427, -0.434, -0.4769, -0.5377, -0.58, -0.5952, -0.6036, -0.7444, -0.9011, -0.9062, -0.9529, -1.0565, -1.192, -1.224, -1.3847, -1.4861, 3.8626, 1.7473, 1.4878, 1.3752, 1.244, 0.7882, 0.7277, 0.7165, 0.5706, 0.52, 0.4232, 0.3968, 0.3471, 0.2359, 0.1402, -0.0585, -0.0758, -0.1492, -0.1746, -0.2564, -0.2993, -0.434, -0.5109, -0.513, -0.6474, -0.685, -0.9529, -1.1467, -1.2829, -1.4122, -1.7281, 2.7074, 1.6318, 1.4588, 1.1841, 1.1439, 0.8935, 0.7855, 0.7719, 0.7324, 0.6235, 0.5518, 0.4243, 0.4047, 0.3374, 0.3306, 0.254, 0.2386, 0.1719, 0.1544, 0.1436, 0.0788, -0.0348, -0.1243, -0.1322, -0.1383, -0.1965, -0.2463, -0.2882, -0.2954, -0.3065, -0.7404, -0.9415, 3.8433, 1.2165, 1.0365, 1.0313, 0.8391, 0.7537, 0.6395, 0.5395, 0.5258, 0.4755, 0.4307, 0.3766, 0.3435, 0.2428, 0.1978, 0.1977, 0.0827, 0.0387, 0.0041, -0.0074, -0.1239, -0.1361, -0.2391, -0.2602, -0.3505, -0.3833, -0.3958, -0.4129, -0.4155, -0.6127, -0.6659, -0.9005, -0.9343, 2.824, 1.5337, 1.3669, 1.333, 1.288, 1.1592, 1.0775, 0.9369, 0.658, 0.5513, 0.5352, 0.5215, 0.4989, 0.4511, 0.3434, 0.1075, 0.0828, 0.0416, 0.0195, -0.0399, -0.0635, -0.0981, -0.1064, -0.1226, -0.1309, -0.1712, -0.1844, -0.2177, -0.274, -0.2742, -0.2847, -0.2856, -0.3577, -0.2994, -0.3002, -0.3879, 2.9798, 1.8862, 1.3314, 1.2947, 1.1574, 1.104, 0.6153, 0.3023, 0.2701, 0.2506, 0.2236, 0.149, 0.1321, 0.1234, 0.0872, 0.0205, -0.0004, -0.0291, -0.0463, -0.0911, -0.098, -0.1201, -0.1364, -0.2041, -0.2438, -0.2484, -0.2559, -0.2648, -0.2942, -0.2999, -0.3437, -0.4383, -0.5192, -0.3582, -0.4614, -0.5593, -0.4595, 2.3563, 2.1581, 2.0682, 0.7798, 0.6307, 0.6174, 0.5556, 0.5294, 0.3308, 0.2072, 0.1892, 0.16, 0.1585, 0.1463, 0.1435, 0.1197, 0.0998, 0.0998, 0.0943, 0.082, 0.0566, 0.0019, -0.0034, -0.0101, -0.1048, -0.1261, -0.2181, -0.2362, -0.2391, -0.2531, -0.2632, -0.3072, -0.2807, -0.3325, -0.3887, -0.3362, 2.5802, 2.0438, 1.273, 0.8849, 0.845, 0.8134, 0.6746, 0.625, 0.5477, 0.5151, 0.3285, 0.3188, 0.2852, 0.2636, 0.1928, 0.1895, 0.1706, 0.1679, 0.1548, 0.132, 0.1285, 0.1278, 0.1222, 0.1216, 0.1168, 0.1116, 0.1067, 0.0939, 0.0936, 0.076, 0.0252, -0.0388, -0.3362, -0.3123, -0.2908, 0.0078, -0.5898, 2.8511, 1.1314, 1.0264, 0.8657, 0.683, 0.5857, 0.5616, 0.4453, 0.3791, 0.2842, 0.2574, 0.2333, 0.1976, 0.1659, 0.1326, 0.1093, 0.1091, 0.1019, 0.0545, 0.0163, 0.0019, -0.0097, -0.0116, -0.0159, -0.0183, -0.04, -0.053, -0.0637, -0.1105, -0.1296, -0.156, -0.1528, -0.1997, -0.1648, -0.3348, -0.3195, -0.4515, 2.8532, 2.024, 1.328, 1.2765, 1.1638, 0.8506, 0.7359, 0.5972, 0.5482, 0.4329, 0.4046, 0.3863, 0.3661, 0.3309, 0.3219, 0.2927, 0.2726, 0.2492, 0.2249, 0.2197, 0.2178, 0.0859, -0.0042, -0.0236, -0.0421, -0.0536, -0.1325, -0.1591, -0.1653, -0.1955, -0.2554, -0.2349, -0.3213, -0.3229, 2.1078, 1.8863, 1.5124, 1.17, 1.0304, 0.971, 0.6715, 0.6393, 0.6293, 0.5518, 0.5457, 0.529, 0.3947, 0.3895, 0.3444, 0.3298, 0.1933, 0.1801, 0.1686, 0.1601, 0.1541, 0.1298, 0.0469, 0.0464, 0.0401, 0.0395, -0.007, -0.0112, -0.0279, -0.0342, -0.0521, -0.1177, -0.2513, -0.3182, -0.6181, -0.1998, -0.5925, 1.6124, 1.4586, 1.2807, 1.2414, 1.0912, 0.8337, 0.7675, 0.7033, 0.5954, 0.5895, 0.5783, 0.4947, 0.4451, 0.4415, 0.4274, 0.4065, 0.3915, 0.3681, 0.3603, 0.3506, 0.3484, 0.2868, 0.2414, 0.1802, 0.1768, 0.1535, 0.1487, 0.1252, 0.1165, 0.1134, 0.0626, -0.24, -0.3302, -0.2218, -0.0919, -0.3276, -0.4473, 2.3019, 1.3915, 1.2911, 1.0812, 1.0352, 0.9393, 0.816, 0.7804, 0.6227, 0.5927, 0.4008, 0.4006, 0.3913, 0.3652, 0.3096, 0.2933, 0.2853, 0.2601, 0.2566, 0.2149, 0.1831, 0.1752, 0.156, 0.1025, 0.0775, 0.0688, 0.0213, -0.0261, -0.03, -0.0337, -0.0564, -0.0844, -0.2106, -0.2759, -0.2756, -0.0646, 2.1132, 1.8331, 1.1129, 0.7789, 0.7308, 0.7256, 0.7098, 0.6995, 0.6341, 0.4563, 0.4489, 0.4347, 0.3887, 0.3799, 0.3763, 0.3395, 0.333, 0.3269, 0.252, 0.2357, 0.233, 0.2291, 0.2176, 0.1672, 0.1594, 0.1341, 0.0863, 0.0791, 0.0319, -0.016, -0.0929, -0.2042, -0.173, -0.3227, -0.219, -0.3255, -0.7346, -0.4375, 1.8808, 1.5427, 1.4952, 1.065, 1.0398, 0.8682, 0.8562, 0.8329, 0.6985, 0.6548, 0.5983, 0.5779, 0.5429, 0.476, 0.4714, 0.4589, 0.4331, 0.3921, 0.3895, 0.3768, 0.3597, 0.3228, 0.2971, 0.2496, 0.1964, 0.1825, 0.1241, 0.0663, 0.0291, -0.0313, -0.0766, -0.2164, -0.2411, -0.1871, -0.0962, -0.1021, -0.3473, -0.2372, 1.5507, 1.4556, 0.8005, 0.7679, 0.7271, 0.6987, 0.6627, 0.6559, 0.5669, 0.4592, 0.4415, 0.4128, 0.383, 0.3762, 0.3353, 0.3303, 0.2651, 0.2352, 0.2305, 0.2145, 0.2138, 0.2109, 0.2049, 0.2019, 0.1981, 0.1858, 0.1834, 0.1828, 0.1667, 0.1548, 0.1282, -0.0643, -0.1115, -0.0317, -0.1403, -0.0818, -0.6284, -0.0503, 2.2978, 1.4334, 1.2865, 1.2496, 0.6469, 0.6381, 0.6145, 0.6094, 0.4855, 0.4696, 0.4319, 0.4148, 0.3792, 0.3646, 0.345, 0.2997, 0.265, 0.2617, 0.2301, 0.2201, 0.2127, 0.2079, 0.1756, 0.1682, 0.1136, 0.1065, 0.0388, 0.0333, 0.0033, 0.0025, -0.0479, -0.2224, -0.2131, -0.2256, -0.1515, -0.1568, -0.6151, 1.3381, 1.314, 1.0547, 0.8088, 0.7299, 0.6709, 0.6328, 0.5736, 0.5519, 0.5504, 0.4934, 0.493, 0.4809, 0.4676, 0.4014, 0.3903, 0.3815, 0.3657, 0.3654, 0.3033, 0.2981, 0.2886, 0.285, 0.2227, 0.209, 0.1792, 0.1767, 0.145, 0.0707, 0.0658, -0.0083, 0.0112, -0.1034, -0.2527, -0.0866, 0.0295, -0.2829, -0.0544, -0.1659, 1.2534, 1.1821, 1.1417, 1.0695, 1.0614, 0.8538, 0.8318, 0.8135, 0.7592, 0.729, 0.531, 0.453, 0.4424, 0.4151, 0.3724, 0.3541, 0.3455, 0.2705, 0.2691, 0.2636, 0.2573, 0.1555, 0.1375, 0.1115, 0.1034, 0.0899, 0.0867, 0.0705, 0.0672, 0.0429, -0.009, -0.1184, -0.1459, -0.205, -0.5446]}, \"token.table\": {\"Topic\": [1, 3, 4, 5, 6, 8, 9, 10, 11, 12, 13, 15, 16, 18, 19, 20, 21, 24, 25, 26, 27, 28, 29, 30, 31, 32, 33, 34, 35, 37, 39, 40, 43, 44, 45, 47, 49, 51, 52, 54, 55, 58, 60, 65, 66, 67, 68, 69, 70, 72, 73, 75, 76, 77, 78, 79, 80, 1, 3, 4, 6, 7, 8, 9, 10, 11, 13, 14, 15, 16, 17, 19, 20, 22, 24, 25, 26, 27, 28, 29, 32, 33, 35, 36, 37, 39, 41, 42, 43, 46, 49, 51, 54, 61, 65, 66, 67, 68, 69, 70, 71, 72, 73, 74, 75, 76, 77, 78, 79, 80, 1, 2, 3, 4, 5, 6, 7, 8, 9, 10, 11, 12, 13, 14, 15, 16, 17, 18, 19, 20, 25, 26, 27, 29, 30, 31, 32, 35, 38, 40, 41, 42, 43, 44, 45, 47, 49, 51, 52, 54, 58, 61, 62, 66, 68, 69, 70, 73, 74, 75, 76, 77, 78, 79, 80, 1, 2, 3, 4, 5, 6, 7, 8, 9, 10, 11, 12, 13, 14, 15, 16, 17, 18, 19, 20, 21, 22, 24, 25, 26, 27, 28, 29, 30, 31, 32, 34, 35, 38, 39, 40, 41, 42, 43, 44, 45, 46, 47, 48, 50, 52, 53, 54, 55, 59, 61, 63, 64, 65, 67, 68, 69, 70, 71, 73, 74, 75, 76, 77, 78, 79, 80, 1, 2, 3, 4, 5, 6, 7, 8, 9, 10, 11, 12, 13, 15, 16, 17, 18, 19, 20, 21, 22, 23, 24, 25, 26, 27, 28, 29, 30, 31, 32, 33, 34, 35, 37, 38, 40, 41, 42, 43, 44, 45, 46, 47, 48, 49, 50, 51, 52, 54, 55, 56, 57, 58, 60, 61, 62, 64, 65, 66, 67, 68, 69, 70, 72, 73, 74, 75, 77, 79, 80, 1, 3, 4, 5, 7, 8, 9, 10, 11, 12, 13, 14, 15, 16, 17, 18, 20, 22, 24, 25, 26, 27, 28, 29, 30, 31, 32, 33, 34, 35, 36, 37, 38, 39, 40, 41, 44, 45, 47, 48, 49, 50, 52, 53, 54, 55, 56, 58, 62, 64, 65, 68, 69, 70, 71, 72, 73, 74, 75, 76, 77, 78, 79, 80, 1, 2, 3, 4, 5, 6, 8, 9, 10, 11, 12, 13, 14, 15, 16, 17, 18, 19, 20, 22, 23, 24, 25, 26, 27, 28, 29, 30, 31, 32, 33, 35, 36, 37, 38, 39, 42, 43, 44, 45, 46, 47, 49, 51, 52, 54, 56, 58, 59, 65, 66, 67, 68, 69, 70, 72, 73, 74, 75, 77, 78, 79, 80, 1, 2, 3, 4, 5, 6, 7, 8, 9, 10, 11, 12, 13, 14, 15, 16, 17, 18, 19, 20, 21, 22, 23, 24, 25, 26, 27, 28, 29, 30, 31, 32, 33, 34, 35, 36, 37, 38, 39, 41, 42, 43, 44, 45, 46, 47, 48, 49, 50, 51, 52, 53, 54, 55, 56, 57, 58, 59, 60, 61, 62, 63, 64, 66, 67, 68, 69, 70, 71, 72, 73, 74, 75, 76, 77, 78, 79, 80, 2, 3, 4, 5, 6, 8, 9, 10, 11, 13, 16, 17, 18, 20, 22, 25, 26, 28, 29, 30, 31, 32, 35, 36, 38, 39, 40, 43, 44, 45, 47, 48, 50, 54, 60, 61, 62, 65, 69, 70, 71, 72, 73, 74, 75, 77, 79, 80, 8, 9, 10, 13, 16, 18, 19, 20, 25, 30, 31, 34, 38, 39, 41, 43, 44, 45, 62, 64, 66, 70, 71, 74, 76, 77, 78, 79, 80, 1, 2, 3, 4, 5, 6, 7, 8, 9, 10, 11, 12, 13, 14, 16, 17, 18, 19, 20, 22, 23, 24, 25, 26, 27, 28, 29, 31, 32, 33, 34, 35, 36, 37, 38, 39, 40, 41, 42, 43, 44, 45, 46, 49, 50, 52, 55, 58, 61, 64, 66, 67, 68, 69, 71, 72, 73, 74, 75, 76, 77, 78, 79, 80, 1, 2, 3, 4, 5, 6, 7, 8, 9, 10, 11, 12, 13, 14, 15, 16, 17, 18, 19, 20, 21, 22, 23, 24, 25, 26, 27, 28, 29, 30, 31, 32, 33, 34, 36, 38, 39, 40, 41, 42, 43, 44, 45, 47, 48, 49, 50, 51, 52, 53, 54, 55, 56, 57, 58, 59, 61, 62, 63, 64, 65, 66, 67, 68, 69, 70, 71, 72, 73, 74, 75, 76, 77, 78, 79, 80, 1, 2, 3, 4, 8, 9, 10, 11, 12, 13, 14, 16, 17, 18, 19, 20, 22, 23, 24, 25, 27, 28, 29, 30, 31, 32, 33, 34, 35, 38, 39, 40, 41, 42, 43, 44, 45, 46, 47, 49, 50, 52, 57, 58, 59, 61, 62, 63, 65, 66, 67, 68, 70, 71, 72, 73, 74, 75, 76, 77, 78, 79, 80, 1, 2, 3, 4, 5, 6, 7, 8, 9, 10, 11, 12, 13, 14, 16, 17, 18, 19, 20, 21, 22, 23, 24, 25, 26, 27, 28, 29, 30, 31, 32, 33, 34, 35, 36, 37, 38, 39, 40, 41, 42, 43, 44, 45, 46, 47, 48, 49, 50, 51, 52, 54, 56, 60, 61, 62, 63, 64, 66, 67, 68, 69, 70, 71, 72, 73, 74, 75, 76, 77, 78, 79, 80, 1, 2, 3, 4, 5, 6, 7, 8, 9, 10, 11, 12, 13, 14, 15, 16, 17, 18, 19, 20, 21, 22, 23, 24, 25, 26, 27, 28, 29, 30, 31, 32, 33, 34, 35, 36, 37, 38, 39, 40, 41, 42, 43, 44, 45, 46, 47, 48, 49, 50, 51, 52, 53, 54, 55, 56, 57, 58, 59, 60, 61, 62, 63, 64, 65, 66, 67, 68, 69, 70, 71, 72, 73, 74, 75, 76, 77, 78, 79, 80, 3, 4, 5, 8, 9, 10, 11, 12, 13, 16, 17, 20, 22, 29, 44, 45, 46, 54, 68, 72, 73, 75, 76, 77, 79, 80, 1, 2, 3, 4, 5, 6, 7, 8, 9, 10, 11, 12, 13, 14, 15, 16, 17, 18, 19, 20, 21, 22, 23, 24, 26, 27, 28, 29, 30, 31, 32, 33, 35, 36, 37, 39, 40, 41, 42, 43, 44, 45, 46, 47, 48, 49, 50, 51, 52, 54, 55, 56, 57, 58, 59, 61, 62, 64, 65, 66, 67, 68, 69, 70, 71, 72, 73, 74, 75, 76, 77, 78, 79, 80, 1, 2, 3, 4, 5, 6, 7, 8, 9, 10, 11, 12, 13, 14, 15, 16, 17, 18, 19, 20, 21, 22, 23, 24, 25, 26, 27, 28, 29, 30, 31, 32, 33, 34, 35, 36, 37, 38, 39, 40, 41, 42, 43, 44, 45, 46, 47, 48, 49, 50, 51, 52, 53, 54, 55, 56, 57, 58, 59, 61, 62, 63, 64, 65, 66, 67, 68, 69, 70, 71, 72, 73, 74, 75, 76, 77, 78, 79, 80, 1, 2, 3, 4, 6, 7, 8, 9, 10, 11, 12, 13, 14, 15, 17, 18, 19, 20, 22, 24, 25, 26, 29, 30, 31, 32, 33, 36, 37, 38, 40, 41, 42, 43, 44, 45, 46, 47, 49, 52, 54, 57, 58, 59, 62, 65, 66, 68, 69, 70, 71, 72, 73, 74, 75, 76, 77, 78, 79, 80, 1, 2, 3, 4, 5, 6, 7, 8, 9, 10, 11, 12, 13, 14, 15, 16, 17, 18, 19, 20, 21, 22, 23, 24, 25, 26, 27, 28, 29, 30, 31, 32, 33, 34, 35, 37, 38, 39, 40, 41, 42, 43, 44, 45, 47, 48, 49, 50, 51, 52, 53, 54, 55, 56, 57, 58, 59, 60, 61, 62, 63, 64, 65, 66, 67, 68, 69, 70, 71, 72, 73, 74, 75, 76, 77, 78, 79, 80, 1, 2, 3, 4, 5, 6, 7, 8, 9, 10, 11, 12, 13, 14, 15, 16, 17, 18, 19, 20, 21, 22, 23, 24, 25, 26, 27, 29, 30, 31, 32, 33, 34, 35, 36, 37, 38, 39, 40, 41, 43, 44, 45, 47, 48, 50, 51, 52, 55, 56, 58, 60, 63, 64, 66, 68, 69, 70, 71, 73, 74, 75, 76, 77, 78, 79, 80, 1, 2, 3, 4, 5, 6, 7, 8, 9, 10, 11, 12, 13, 14, 15, 16, 17, 18, 19, 20, 21, 22, 23, 24, 25, 26, 27, 28, 29, 30, 31, 32, 33, 34, 35, 36, 37, 38, 39, 40, 41, 42, 43, 44, 45, 46, 47, 48, 49, 50, 51, 52, 53, 54, 55, 56, 57, 58, 59, 60, 61, 62, 63, 64, 65, 66, 67, 68, 69, 70, 71, 72, 73, 74, 75, 76, 77, 78, 79, 80, 1, 2, 3, 4, 5, 6, 7, 8, 9, 10, 11, 12, 13, 14, 15, 16, 17, 18, 19, 20, 22, 23, 24, 25, 26, 27, 28, 29, 30, 31, 32, 33, 34, 35, 37, 38, 39, 40, 41, 42, 43, 44, 45, 46, 47, 48, 49, 50, 51, 52, 54, 55, 56, 58, 59, 60, 61, 62, 64, 65, 66, 67, 68, 69, 70, 71, 72, 73, 74, 75, 76, 77, 78, 79, 80, 1, 2, 3, 5, 6, 7, 8, 9, 10, 11, 12, 13, 14, 15, 16, 17, 18, 19, 20, 21, 22, 23, 25, 26, 27, 28, 29, 30, 31, 32, 34, 35, 36, 37, 38, 39, 41, 42, 43, 44, 45, 46, 47, 48, 49, 50, 51, 52, 54, 55, 58, 59, 61, 63, 64, 65, 66, 67, 68, 69, 70, 71, 72, 73, 74, 75, 76, 77, 78, 79, 80, 1, 2, 3, 4, 5, 6, 7, 8, 9, 10, 11, 12, 13, 17, 18, 20, 26, 29, 30, 31, 32, 33, 35, 41, 44, 46, 68, 71, 72, 73, 75, 76, 77, 78, 79, 80, 1, 2, 3, 4, 5, 6, 7, 8, 9, 10, 11, 12, 13, 14, 15, 16, 17, 18, 19, 20, 22, 25, 26, 27, 28, 29, 30, 31, 32, 34, 35, 36, 37, 38, 39, 40, 41, 42, 43, 44, 45, 46, 49, 50, 51, 52, 54, 58, 61, 62, 63, 64, 66, 67, 69, 70, 71, 72, 73, 74, 76, 77, 78, 80, 1, 2, 3, 4, 5, 6, 7, 8, 9, 10, 11, 12, 13, 14, 15, 16, 17, 18, 19, 20, 21, 22, 23, 24, 25, 26, 27, 28, 29, 30, 31, 32, 33, 34, 35, 36, 37, 38, 39, 40, 41, 42, 43, 44, 45, 46, 47, 48, 49, 50, 51, 52, 53, 54, 55, 56, 58, 59, 60, 61, 62, 63, 64, 65, 66, 67, 68, 69, 70, 71, 72, 73, 74, 75, 76, 77, 78, 79, 80, 1, 2, 3, 4, 5, 6, 7, 8, 9, 10, 11, 12, 13, 14, 15, 16, 17, 18, 19, 20, 22, 23, 24, 25, 26, 27, 28, 29, 30, 31, 32, 33, 34, 35, 36, 37, 38, 39, 40, 41, 42, 44, 45, 46, 47, 48, 49, 50, 51, 52, 54, 55, 56, 58, 61, 62, 64, 65, 66, 67, 68, 69, 70, 71, 72, 73, 74, 75, 76, 77, 78, 79, 80, 1, 2, 3, 4, 5, 6, 7, 8, 9, 10, 11, 12, 13, 14, 15, 16, 17, 18, 19, 20, 22, 23, 25, 26, 27, 29, 30, 31, 32, 33, 35, 36, 37, 38, 40, 43, 44, 45, 47, 50, 51, 52, 53, 54, 55, 56, 58, 63, 64, 65, 66, 68, 69, 70, 71, 72, 73, 74, 75, 76, 77, 78, 79, 80, 1, 2, 3, 4, 5, 6, 7, 8, 9, 10, 11, 12, 13, 14, 15, 16, 17, 18, 19, 20, 21, 22, 23, 25, 26, 27, 28, 29, 30, 31, 32, 33, 34, 35, 36, 37, 38, 39, 40, 41, 42, 43, 44, 45, 46, 47, 48, 49, 50, 51, 52, 53, 54, 55, 56, 58, 59, 60, 61, 63, 64, 65, 66, 67, 68, 69, 70, 71, 72, 73, 74, 75, 76, 77, 78, 79, 80, 1, 2, 3, 4, 5, 6, 7, 8, 9, 10, 11, 12, 13, 14, 15, 16, 17, 19, 20, 22, 23, 24, 25, 26, 27, 28, 29, 30, 31, 32, 33, 35, 36, 37, 38, 40, 41, 42, 43, 44, 45, 46, 47, 48, 49, 50, 52, 54, 55, 56, 58, 60, 62, 64, 66, 67, 68, 69, 70, 71, 72, 73, 74, 75, 76, 77, 78, 79, 80, 3, 4, 5, 6, 7, 8, 9, 10, 11, 12, 13, 15, 16, 17, 19, 20, 22, 24, 26, 29, 31, 32, 34, 35, 38, 39, 40, 41, 44, 45, 49, 54, 55, 64, 67, 69, 70, 71, 72, 74, 75, 76, 77, 78, 79, 80, 1, 4, 6, 8, 10, 12, 17, 18, 25, 29, 40, 44, 45, 46, 54, 58, 64, 66, 68, 69, 73, 76, 77, 78, 79, 80, 1, 3, 4, 12, 17, 18, 26, 29, 44, 45, 51, 54, 69, 73, 75, 76, 77, 78, 1, 2, 3, 4, 5, 6, 7, 8, 9, 10, 11, 12, 13, 14, 15, 16, 17, 18, 19, 20, 21, 22, 23, 24, 25, 26, 27, 28, 29, 30, 31, 32, 33, 34, 35, 36, 37, 38, 39, 40, 41, 42, 43, 44, 45, 47, 48, 49, 50, 51, 52, 54, 55, 56, 57, 58, 59, 60, 61, 62, 63, 64, 65, 66, 67, 68, 69, 70, 71, 72, 73, 74, 75, 76, 77, 78, 79, 80, 1, 2, 3, 5, 6, 8, 9, 10, 11, 13, 14, 16, 17, 18, 19, 20, 22, 25, 26, 27, 28, 29, 31, 32, 33, 34, 35, 36, 39, 40, 43, 44, 45, 49, 51, 52, 56, 58, 62, 64, 65, 66, 69, 70, 71, 72, 73, 74, 76, 77, 78, 79, 80, 1, 2, 3, 4, 5, 6, 7, 8, 9, 10, 11, 12, 13, 14, 15, 16, 17, 18, 19, 20, 22, 23, 26, 27, 28, 29, 30, 31, 32, 33, 34, 35, 36, 37, 38, 39, 40, 41, 42, 43, 44, 45, 46, 47, 48, 49, 50, 51, 52, 53, 54, 55, 56, 57, 58, 59, 60, 61, 64, 65, 66, 67, 68, 69, 70, 71, 72, 73, 74, 75, 76, 77, 78, 79, 80, 1, 2, 3, 4, 5, 7, 8, 9, 10, 11, 12, 13, 15, 16, 17, 18, 19, 20, 22, 24, 25, 27, 29, 30, 31, 34, 35, 38, 40, 41, 43, 44, 45, 47, 48, 50, 51, 52, 54, 56, 64, 66, 67, 68, 69, 71, 72, 73, 74, 75, 76, 77, 78, 79, 80, 1, 2, 3, 4, 5, 8, 9, 10, 11, 12, 13, 14, 15, 16, 17, 18, 20, 22, 23, 25, 26, 27, 29, 30, 31, 32, 35, 36, 40, 41, 42, 43, 44, 45, 50, 51, 52, 54, 55, 64, 67, 68, 70, 71, 72, 73, 74, 75, 76, 77, 79, 80, 1, 2, 3, 4, 5, 7, 8, 9, 10, 11, 12, 13, 14, 15, 16, 17, 18, 19, 20, 21, 22, 23, 24, 25, 26, 27, 28, 29, 30, 31, 32, 33, 34, 35, 36, 38, 39, 40, 41, 42, 43, 44, 46, 47, 48, 49, 50, 51, 52, 54, 55, 56, 58, 59, 60, 61, 64, 66, 67, 68, 69, 70, 71, 73, 75, 76, 77, 79, 80, 1, 2, 3, 4, 5, 6, 7, 8, 9, 10, 11, 12, 13, 14, 15, 16, 17, 18, 19, 20, 21, 22, 23, 25, 26, 27, 28, 29, 30, 31, 32, 33, 34, 35, 36, 37, 38, 39, 40, 41, 42, 43, 44, 45, 46, 47, 48, 49, 50, 51, 52, 53, 54, 55, 56, 57, 58, 59, 61, 62, 63, 64, 65, 66, 67, 68, 69, 70, 71, 72, 73, 74, 75, 76, 77, 78, 79, 80, 1, 2, 3, 4, 5, 6, 7, 8, 9, 10, 11, 12, 13, 14, 15, 16, 17, 18, 19, 20, 21, 22, 23, 24, 25, 26, 27, 28, 29, 30, 31, 32, 33, 34, 35, 36, 37, 38, 39, 40, 41, 42, 43, 44, 45, 46, 47, 48, 49, 50, 52, 55, 56, 58, 59, 61, 62, 64, 65, 66, 67, 68, 69, 70, 71, 72, 73, 74, 75, 76, 77, 78, 79, 80, 1, 2, 4, 5, 6, 7, 8, 9, 10, 11, 13, 14, 16, 17, 20, 22, 23, 25, 26, 29, 33, 35, 36, 38, 40, 41, 44, 45, 49, 51, 58, 64, 66, 67, 68, 69, 72, 73, 74, 76, 78, 79, 1, 2, 3, 4, 5, 6, 7, 8, 9, 10, 11, 12, 13, 15, 16, 17, 18, 19, 20, 21, 22, 24, 25, 26, 27, 28, 29, 30, 31, 32, 33, 34, 35, 36, 37, 38, 39, 40, 41, 43, 44, 45, 46, 47, 49, 51, 53, 54, 55, 56, 58, 60, 61, 63, 64, 65, 66, 67, 68, 69, 70, 71, 72, 73, 74, 75, 76, 77, 78, 79, 80, 1, 2, 3, 4, 5, 6, 7, 8, 9, 10, 11, 12, 13, 14, 17, 19, 20, 22, 23, 24, 25, 26, 28, 29, 31, 32, 35, 37, 39, 40, 41, 42, 43, 44, 45, 47, 49, 51, 52, 54, 55, 64, 67, 68, 69, 70, 71, 72, 73, 74, 75, 76, 77, 78, 79, 1, 2, 3, 4, 6, 7, 8, 9, 10, 11, 12, 13, 14, 15, 17, 18, 19, 20, 22, 23, 24, 25, 26, 27, 28, 29, 30, 31, 32, 33, 34, 35, 36, 37, 38, 39, 40, 41, 43, 44, 45, 46, 48, 49, 50, 51, 52, 54, 55, 56, 61, 62, 63, 64, 65, 66, 67, 68, 69, 70, 71, 72, 73, 74, 75, 77, 78, 79, 80, 1, 2, 3, 4, 5, 7, 8, 9, 10, 11, 12, 13, 15, 16, 17, 18, 20, 22, 25, 26, 29, 30, 31, 32, 33, 37, 38, 39, 43, 44, 45, 47, 54, 57, 58, 62, 64, 65, 66, 69, 70, 71, 73, 74, 75, 76, 77, 79, 80, 1, 3, 4, 5, 8, 9, 10, 12, 13, 18, 19, 22, 23, 26, 27, 29, 30, 31, 32, 33, 35, 37, 38, 40, 42, 44, 45, 46, 48, 51, 54, 55, 58, 63, 66, 67, 69, 70, 72, 73, 74, 75, 76, 77, 79, 80, 1, 2, 3, 4, 5, 6, 8, 9, 10, 11, 12, 13, 15, 16, 17, 18, 19, 20, 22, 25, 26, 27, 28, 29, 30, 31, 32, 33, 34, 35, 38, 39, 40, 42, 43, 44, 45, 46, 49, 52, 54, 55, 63, 64, 65, 66, 68, 69, 70, 71, 73, 75, 76, 77, 78, 80, 3, 4, 5, 7, 8, 9, 10, 11, 12, 13, 14, 16, 19, 20, 22, 24, 25, 26, 27, 29, 30, 31, 32, 38, 40, 45, 46, 49, 51, 52, 55, 58, 59, 60, 61, 67, 72, 73, 76, 77, 78, 79, 80, 1, 2, 3, 4, 5, 6, 7, 8, 9, 10, 11, 13, 14, 15, 16, 17, 18, 19, 20, 22, 24, 26, 27, 28, 29, 30, 31, 32, 33, 34, 35, 36, 37, 39, 40, 41, 42, 43, 44, 45, 46, 48, 49, 50, 51, 52, 54, 55, 56, 60, 64, 66, 67, 68, 69, 70, 72, 74, 75, 76, 78, 79, 80, 1, 2, 3, 4, 5, 6, 7, 8, 9, 10, 11, 12, 13, 14, 15, 16, 17, 18, 19, 20, 21, 22, 23, 24, 25, 26, 27, 28, 29, 30, 31, 32, 33, 34, 35, 36, 37, 38, 39, 40, 41, 42, 43, 44, 45, 46, 47, 48, 49, 50, 51, 52, 53, 54, 55, 56, 58, 59, 60, 61, 62, 63, 64, 66, 67, 68, 69, 70, 71, 72, 73, 74, 75, 76, 77, 78, 79, 80, 1, 3, 4, 5, 8, 9, 10, 13, 14, 15, 16, 17, 18, 20, 22, 24, 26, 29, 30, 31, 32, 34, 35, 38, 39, 40, 41, 42, 43, 44, 45, 47, 48, 50, 52, 58, 60, 62, 65, 66, 67, 70, 71, 73, 74, 77, 78, 79, 1, 2, 3, 4, 5, 6, 7, 8, 9, 10, 11, 12, 13, 14, 15, 16, 17, 19, 20, 22, 24, 26, 27, 28, 29, 30, 31, 32, 34, 35, 36, 37, 38, 39, 40, 41, 42, 43, 44, 45, 47, 49, 51, 52, 54, 56, 58, 60, 64, 65, 66, 68, 69, 71, 72, 73, 74, 75, 76, 77, 78, 79, 80, 1, 2, 3, 4, 5, 7, 8, 10, 11, 13, 14, 16, 17, 19, 20, 22, 24, 26, 28, 29, 30, 32, 35, 36, 38, 40, 41, 44, 45, 48, 50, 51, 52, 62, 63, 64, 68, 69, 72, 73, 74, 75, 76, 77, 78, 79, 80, 2, 3, 4, 11, 13, 15, 19, 20, 22, 26, 27, 29, 41, 52, 68, 72, 77, 78, 79, 1, 2, 3, 4, 5, 6, 7, 8, 9, 10, 11, 12, 13, 14, 15, 16, 17, 18, 19, 20, 21, 22, 23, 24, 25, 26, 27, 28, 29, 30, 31, 32, 33, 34, 35, 36, 37, 38, 39, 40, 41, 42, 43, 44, 45, 46, 47, 48, 49, 50, 51, 52, 53, 54, 55, 56, 57, 58, 59, 60, 62, 63, 64, 65, 66, 67, 68, 69, 70, 71, 72, 73, 74, 75, 76, 77, 78, 79, 80, 1, 2, 3, 4, 5, 7, 8, 9, 10, 11, 12, 13, 14, 15, 16, 17, 18, 19, 20, 21, 22, 23, 24, 25, 26, 27, 28, 29, 30, 31, 32, 33, 34, 35, 37, 38, 39, 40, 41, 43, 44, 45, 46, 47, 48, 49, 50, 51, 52, 54, 55, 59, 62, 64, 65, 66, 67, 68, 70, 71, 72, 73, 74, 75, 76, 77, 78, 79, 80, 1, 2, 3, 5, 6, 7, 8, 9, 10, 11, 12, 14, 15, 17, 19, 20, 21, 24, 27, 28, 29, 30, 31, 32, 35, 36, 38, 41, 45, 46, 50, 52, 62, 64, 67, 68, 70, 75, 77, 78, 80, 1, 2, 3, 4, 5, 6, 7, 8, 9, 10, 11, 12, 13, 15, 16, 17, 18, 20, 22, 24, 25, 26, 28, 30, 31, 32, 33, 35, 36, 39, 40, 41, 42, 43, 44, 45, 50, 51, 52, 54, 64, 66, 68, 69, 71, 72, 73, 74, 75, 76, 77, 78, 79, 80, 1, 2, 3, 4, 5, 6, 7, 8, 9, 10, 11, 12, 13, 14, 15, 16, 17, 18, 19, 20, 21, 22, 23, 24, 25, 26, 27, 28, 29, 30, 31, 32, 33, 34, 35, 36, 37, 38, 39, 40, 41, 42, 43, 44, 45, 46, 47, 48, 49, 50, 51, 52, 53, 54, 55, 58, 60, 62, 63, 64, 65, 66, 67, 68, 69, 70, 71, 72, 73, 74, 75, 76, 77, 78, 79, 80, 1, 2, 3, 4, 5, 6, 7, 8, 9, 10, 12, 13, 15, 16, 17, 19, 20, 21, 22, 23, 25, 26, 27, 28, 29, 30, 31, 32, 33, 34, 35, 37, 38, 39, 41, 42, 43, 44, 45, 46, 47, 49, 50, 52, 54, 56, 57, 58, 64, 65, 66, 67, 68, 69, 70, 71, 72, 73, 74, 75, 76, 77, 78, 79, 80, 1, 2, 3, 4, 5, 6, 7, 8, 9, 10, 11, 13, 14, 15, 16, 17, 18, 19, 20, 21, 22, 24, 25, 27, 29, 31, 32, 33, 34, 35, 37, 39, 41, 43, 44, 45, 46, 49, 50, 52, 56, 57, 58, 59, 60, 61, 63, 64, 65, 66, 67, 68, 69, 71, 73, 74, 75, 76, 77, 78, 79, 1, 2, 3, 4, 5, 6, 7, 8, 9, 10, 11, 12, 13, 14, 15, 16, 17, 18, 19, 20, 21, 22, 23, 25, 27, 28, 29, 30, 31, 32, 33, 34, 35, 36, 37, 38, 39, 40, 41, 42, 43, 44, 45, 46, 47, 48, 49, 50, 51, 52, 54, 55, 56, 58, 59, 60, 63, 64, 65, 66, 67, 68, 69, 70, 71, 72, 73, 74, 75, 76, 77, 78, 79, 80, 1, 2, 3, 4, 5, 6, 7, 8, 9, 10, 11, 12, 13, 14, 15, 16, 17, 18, 19, 20, 21, 22, 23, 24, 25, 26, 27, 28, 29, 30, 31, 32, 33, 34, 35, 36, 37, 38, 39, 40, 41, 42, 43, 44, 45, 46, 47, 48, 49, 50, 51, 52, 53, 54, 55, 56, 57, 58, 59, 60, 61, 62, 63, 64, 65, 66, 67, 68, 69, 70, 71, 72, 73, 74, 75, 76, 77, 78, 79, 80, 2, 3, 4, 10, 11, 13, 15, 17, 20, 26, 29, 32, 41, 42, 46, 49, 52, 54, 57, 68, 72, 73, 74, 75, 76, 77, 78, 79, 80, 1, 2, 4, 6, 7, 8, 9, 10, 11, 12, 13, 14, 15, 16, 17, 18, 19, 20, 22, 24, 25, 26, 29, 30, 31, 35, 36, 38, 40, 41, 43, 44, 45, 50, 52, 58, 61, 62, 64, 67, 68, 69, 70, 72, 73, 74, 75, 76, 77, 78, 79, 80, 1, 2, 3, 4, 5, 6, 7, 8, 9, 10, 11, 13, 14, 16, 17, 19, 20, 22, 24, 25, 26, 28, 31, 32, 33, 35, 39, 40, 42, 44, 46, 47, 48, 49, 54, 61, 62, 66, 68, 69, 70, 71, 73, 74, 76, 77, 78, 79, 80, 1, 2, 3, 4, 8, 11, 12, 13, 15, 17, 19, 20, 22, 24, 26, 29, 32, 41, 42, 43, 44, 46, 57, 67, 68, 72, 73, 74, 75, 76, 77, 78, 79, 80, 1, 2, 4, 5, 7, 8, 9, 10, 11, 12, 13, 15, 17, 19, 20, 21, 22, 24, 25, 26, 27, 29, 30, 31, 32, 35, 36, 41, 42, 44, 45, 47, 50, 52, 56, 61, 66, 68, 69, 70, 71, 72, 74, 75, 77, 78, 79, 80, 1, 2, 3, 4, 5, 7, 8, 10, 11, 17, 18, 19, 23, 25, 29, 30, 31, 32, 35, 37, 38, 40, 41, 42, 44, 45, 46, 50, 51, 54, 55, 59, 62, 70, 72, 73, 74, 78, 79, 80, 1, 2, 3, 4, 5, 6, 8, 9, 10, 11, 12, 13, 14, 15, 16, 17, 18, 19, 20, 21, 22, 24, 25, 26, 27, 28, 29, 30, 31, 32, 33, 34, 35, 36, 37, 38, 39, 40, 41, 42, 43, 44, 45, 46, 47, 48, 49, 50, 51, 52, 54, 55, 56, 57, 58, 59, 60, 61, 62, 63, 64, 65, 66, 67, 68, 69, 70, 71, 72, 73, 74, 75, 76, 77, 78, 79, 80, 1, 2, 3, 4, 5, 6, 7, 8, 9, 10, 11, 12, 13, 14, 15, 16, 17, 18, 19, 20, 21, 22, 23, 24, 25, 26, 27, 28, 29, 30, 31, 32, 33, 34, 35, 36, 37, 38, 39, 40, 41, 42, 43, 44, 45, 46, 47, 48, 49, 50, 51, 52, 54, 55, 56, 57, 58, 59, 60, 63, 64, 66, 67, 68, 69, 70, 71, 72, 73, 74, 75, 76, 77, 78, 79, 80, 1, 2, 3, 4, 5, 6, 7, 8, 9, 10, 11, 12, 13, 15, 16, 17, 18, 19, 20, 21, 22, 23, 24, 25, 26, 27, 28, 29, 30, 31, 32, 33, 34, 35, 36, 37, 38, 39, 40, 41, 42, 43, 44, 45, 46, 47, 48, 49, 50, 51, 52, 54, 55, 56, 57, 58, 59, 60, 61, 62, 63, 64, 65, 66, 67, 68, 69, 70, 71, 72, 73, 74, 75, 76, 77, 78, 79, 80, 1, 2, 3, 4, 5, 6, 7, 8, 9, 10, 11, 12, 13, 14, 15, 16, 17, 19, 20, 21, 22, 24, 25, 27, 28, 29, 30, 31, 32, 34, 35, 36, 37, 38, 39, 40, 41, 45, 46, 47, 49, 50, 51, 52, 54, 61, 62, 63, 64, 66, 67, 68, 69, 70, 72, 73, 74, 75, 76, 77, 78, 79, 80, 1, 2, 3, 4, 5, 6, 7, 8, 9, 10, 11, 12, 13, 14, 15, 17, 18, 19, 20, 21, 22, 23, 27, 28, 29, 30, 31, 32, 33, 34, 35, 36, 38, 39, 40, 42, 43, 44, 45, 46, 47, 48, 49, 50, 51, 56, 57, 58, 64, 65, 66, 67, 68, 69, 70, 72, 73, 74, 75, 76, 77, 78, 80, 1, 2, 3, 4, 5, 6, 7, 8, 9, 10, 11, 12, 13, 14, 15, 16, 17, 18, 19, 20, 21, 22, 23, 24, 25, 26, 27, 28, 29, 30, 31, 32, 33, 34, 35, 36, 37, 38, 39, 40, 41, 42, 43, 44, 45, 46, 47, 48, 49, 50, 51, 52, 53, 54, 55, 56, 57, 58, 59, 60, 61, 62, 63, 64, 65, 66, 67, 68, 69, 70, 71, 72, 73, 74, 75, 76, 77, 78, 79, 80, 1, 2, 3, 4, 5, 6, 7, 8, 9, 10, 11, 12, 13, 14, 16, 17, 18, 19, 20, 22, 23, 25, 26, 27, 28, 29, 30, 31, 32, 33, 34, 35, 36, 37, 38, 39, 40, 41, 42, 43, 44, 45, 46, 47, 48, 49, 50, 51, 52, 54, 55, 58, 59, 64, 65, 66, 68, 69, 70, 71, 72, 73, 74, 75, 76, 77, 78, 79, 80, 1, 2, 3, 4, 5, 6, 7, 8, 9, 10, 11, 13, 14, 15, 16, 17, 18, 19, 20, 21, 22, 23, 24, 25, 26, 27, 28, 29, 30, 31, 32, 34, 35, 36, 38, 39, 41, 42, 44, 45, 47, 48, 49, 50, 51, 52, 54, 55, 57, 59, 61, 62, 63, 64, 65, 67, 68, 70, 71, 72, 73, 74, 75, 77, 78, 79, 80, 1, 2, 3, 4, 5, 6, 7, 8, 9, 10, 11, 12, 13, 14, 15, 16, 17, 18, 20, 21, 22, 23, 25, 26, 30, 31, 32, 35, 38, 39, 42, 44, 47, 48, 49, 51, 52, 54, 58, 62, 64, 65, 66, 68, 69, 70, 71, 72, 73, 74, 75, 76, 77, 78, 79, 80, 1, 2, 3, 4, 5, 7, 10, 11, 13, 14, 17, 19, 20, 25, 29, 31, 38, 42, 44, 45, 46, 58, 68, 73, 74, 75, 76, 77, 80, 1, 3, 4, 5, 6, 7, 8, 9, 10, 12, 13, 14, 15, 16, 17, 18, 19, 20, 21, 22, 23, 27, 28, 29, 30, 31, 32, 34, 35, 37, 41, 42, 43, 44, 45, 50, 51, 54, 57, 59, 63, 64, 66, 68, 69, 70, 71, 72, 73, 75, 76, 77, 78, 79, 80, 1, 2, 3, 4, 5, 6, 7, 8, 9, 10, 11, 12, 13, 14, 15, 16, 17, 18, 19, 20, 21, 22, 23, 24, 25, 26, 27, 28, 29, 30, 31, 32, 33, 34, 35, 36, 37, 38, 39, 40, 41, 42, 43, 44, 45, 46, 47, 48, 49, 50, 51, 52, 53, 54, 55, 56, 57, 58, 59, 60, 61, 62, 63, 64, 65, 66, 67, 68, 69, 70, 71, 72, 73, 74, 75, 76, 77, 78, 79, 80, 1, 3, 4, 5, 6, 7, 8, 10, 11, 12, 13, 14, 16, 17, 20, 22, 24, 26, 27, 28, 29, 30, 31, 32, 33, 35, 37, 38, 39, 40, 41, 42, 43, 44, 49, 50, 51, 54, 55, 58, 63, 64, 66, 69, 72, 73, 74, 75, 77, 78, 79, 80, 1, 3, 4, 5, 7, 8, 9, 10, 11, 13, 16, 17, 18, 19, 20, 22, 26, 27, 28, 30, 31, 32, 33, 35, 41, 42, 43, 44, 45, 46, 47, 48, 50, 51, 54, 60, 64, 66, 68, 69, 71, 72, 73, 74, 75, 76, 77, 78, 79, 80, 1, 2, 3, 4, 5, 6, 7, 8, 9, 10, 11, 12, 13, 14, 15, 16, 17, 18, 19, 20, 21, 22, 23, 24, 25, 26, 27, 28, 29, 30, 31, 32, 33, 34, 35, 36, 37, 38, 39, 40, 41, 42, 43, 44, 45, 46, 47, 48, 49, 50, 51, 52, 53, 54, 55, 56, 57, 58, 59, 60, 61, 62, 63, 64, 65, 66, 67, 68, 69, 70, 71, 72, 73, 74, 75, 76, 77, 78, 79, 80, 1, 2, 3, 4, 6, 7, 8, 9, 10, 11, 13, 14, 16, 17, 18, 19, 20, 21, 22, 23, 24, 25, 26, 27, 29, 30, 32, 34, 35, 36, 37, 38, 39, 40, 41, 42, 43, 44, 45, 46, 49, 57, 58, 59, 61, 64, 65, 67, 70, 71, 72, 73, 74, 76, 78, 79, 80], \"Freq\": [0.001964603353497141, 0.003929206706994282, 0.001964603353497141, 0.025539843595462835, 0.007858413413988564, 0.01964603353497141, 0.011787620120982846, 0.02357524024196569, 0.011787620120982846, 0.003929206706994282, 0.01964603353497141, 0.01964603353497141, 0.015716826827977128, 0.001964603353497141, 0.011787620120982846, 0.03536286036294854, 0.011787620120982846, 0.005893810060491423, 0.005893810060491423, 0.007858413413988564, 0.005893810060491423, 0.01768143018147427, 0.005893810060491423, 0.001964603353497141, 0.005893810060491423, 0.003929206706994282, 0.001964603353497141, 0.005893810060491423, 0.009823016767485706, 0.001964603353497141, 0.5245490953837366, 0.003929206706994282, 0.007858413413988564, 0.007858413413988564, 0.001964603353497141, 0.011787620120982846, 0.007858413413988564, 0.003929206706994282, 0.007858413413988564, 0.005893810060491423, 0.001964603353497141, 0.003929206706994282, 0.009823016767485706, 0.001964603353497141, 0.001964603353497141, 0.027504446948959975, 0.001964603353497141, 0.007858413413988564, 0.005893810060491423, 0.001964603353497141, 0.007858413413988564, 0.005893810060491423, 0.007858413413988564, 0.001964603353497141, 0.001964603353497141, 0.003929206706994282, 0.007858413413988564, 0.004964157583611662, 0.017374551542640816, 0.009928315167223324, 0.002482078791805831, 0.009928315167223324, 0.017374551542640816, 0.012410393959029155, 0.004964157583611662, 0.017374551542640816, 0.014892472750834985, 0.017374551542640816, 0.017374551542640816, 0.009928315167223324, 0.002482078791805831, 0.004964157583611662, 0.007446236375417492, 0.019856630334446648, 0.007446236375417492, 0.004964157583611662, 0.014892472750834985, 0.017374551542640816, 0.012410393959029155, 0.004964157583611662, 0.007446236375417492, 0.017374551542640816, 0.002482078791805831, 0.004964157583611662, 0.012410393959029155, 0.004964157583611662, 0.002482078791805831, 0.6031451464088169, 0.002482078791805831, 0.004964157583611662, 0.004964157583611662, 0.002482078791805831, 0.004964157583611662, 0.002482078791805831, 0.002482078791805831, 0.002482078791805831, 0.002482078791805831, 0.002482078791805831, 0.004964157583611662, 0.002482078791805831, 0.012410393959029155, 0.002482078791805831, 0.004964157583611662, 0.002482078791805831, 0.002482078791805831, 0.002482078791805831, 0.004964157583611662, 0.004964157583611662, 0.004964157583611662, 0.002482078791805831, 0.016420459448107935, 0.008210229724053967, 0.03284091889621587, 0.027367432413513224, 0.01094697296540529, 0.005473486482702645, 0.0027367432413513224, 0.027367432413513224, 0.008210229724053967, 0.027367432413513224, 0.016420459448107935, 0.008210229724053967, 0.013683716206756612, 0.013683716206756612, 0.005473486482702645, 0.01094697296540529, 0.016420459448107935, 0.005473486482702645, 0.008210229724053967, 0.013683716206756612, 0.0027367432413513224, 0.005473486482702645, 0.005473486482702645, 0.008210229724053967, 0.0027367432413513224, 0.005473486482702645, 0.008210229724053967, 0.0027367432413513224, 0.005473486482702645, 0.01094697296540529, 0.0027367432413513224, 0.005473486482702645, 0.005473486482702645, 0.005473486482702645, 0.5309281888221565, 0.0027367432413513224, 0.005473486482702645, 0.01094697296540529, 0.0027367432413513224, 0.005473486482702645, 0.008210229724053967, 0.0027367432413513224, 0.0027367432413513224, 0.005473486482702645, 0.005473486482702645, 0.005473486482702645, 0.0027367432413513224, 0.0027367432413513224, 0.0027367432413513224, 0.02189394593081058, 0.0027367432413513224, 0.0027367432413513224, 0.005473486482702645, 0.008210229724053967, 0.0027367432413513224, 0.008987648060283206, 0.011234560075354009, 0.013481472090424811, 0.011234560075354009, 0.017975296120566413, 0.013481472090424811, 0.008987648060283206, 0.008987648060283206, 0.011234560075354009, 0.008987648060283206, 0.015728384105495614, 0.006740736045212406, 0.015728384105495614, 0.013481472090424811, 0.011234560075354009, 0.008987648060283206, 0.008987648060283206, 0.011234560075354009, 0.008987648060283206, 0.006740736045212406, 0.008987648060283206, 0.0022469120150708016, 0.008987648060283206, 0.006740736045212406, 0.004493824030141603, 0.008987648060283206, 0.013481472090424811, 0.004493824030141603, 0.006740736045212406, 0.004493824030141603, 0.008987648060283206, 0.008987648060283206, 0.004493824030141603, 0.0022469120150708016, 0.011234560075354009, 0.011234560075354009, 0.006740736045212406, 0.0022469120150708016, 0.0022469120150708016, 0.006740736045212406, 0.011234560075354009, 0.0022469120150708016, 0.011234560075354009, 0.011234560075354009, 0.011234560075354009, 0.011234560075354009, 0.44713549099908956, 0.015728384105495614, 0.004493824030141603, 0.008987648060283206, 0.0022469120150708016, 0.02920985619592042, 0.017975296120566413, 0.0022469120150708016, 0.004493824030141603, 0.0022469120150708016, 0.0022469120150708016, 0.004493824030141603, 0.004493824030141603, 0.004493824030141603, 0.0022469120150708016, 0.0022469120150708016, 0.0022469120150708016, 0.004493824030141603, 0.004493824030141603, 0.0022469120150708016, 0.004493824030141603, 0.025171618011014477, 0.013553948159777026, 0.013553948159777026, 0.01742650477685618, 0.023235339702474902, 0.023235339702474902, 0.02129906139393533, 0.01742650477685618, 0.01742650477685618, 0.027107896319554053, 0.007745113234158301, 0.023235339702474902, 0.023235339702474902, 0.015490226468316602, 0.029044174628093628, 0.015490226468316602, 0.013553948159777026, 0.015490226468316602, 0.013553948159777026, 0.0019362783085395752, 0.013553948159777026, 0.0058088349256187255, 0.02129906139393533, 0.01742650477685618, 0.019362783085395754, 0.02129906139393533, 0.009681391542697877, 0.009681391542697877, 0.009681391542697877, 0.015490226468316602, 0.009681391542697877, 0.009681391542697877, 0.0038725566170791505, 0.013553948159777026, 0.015490226468316602, 0.0038725566170791505, 0.009681391542697877, 0.013553948159777026, 0.013553948159777026, 0.009681391542697877, 0.009681391542697877, 0.019362783085395754, 0.0019362783085395752, 0.029044174628093628, 0.030980452936633204, 0.01742650477685618, 0.011617669851237451, 0.015490226468316602, 0.0038725566170791505, 0.0058088349256187255, 0.007745113234158301, 0.141348316523389, 0.0019362783085395752, 0.009681391542697877, 0.023235339702474902, 0.0019362783085395752, 0.007745113234158301, 0.0058088349256187255, 0.0058088349256187255, 0.0019362783085395752, 0.0038725566170791505, 0.0038725566170791505, 0.007745113234158301, 0.0038725566170791505, 0.0019362783085395752, 0.0038725566170791505, 0.0038725566170791505, 0.007745113234158301, 0.0019362783085395752, 0.0019362783085395752, 0.0038725566170791505, 0.023401510254145753, 0.023401510254145753, 0.02005843736069636, 0.026744583147595147, 0.01002921868034818, 0.026744583147595147, 0.023401510254145753, 0.016715364467246967, 0.013372291573797573, 0.02005843736069636, 0.03008765604104454, 0.01002921868034818, 0.02005843736069636, 0.04011687472139272, 0.02005843736069636, 0.013372291573797573, 0.013372291573797573, 0.013372291573797573, 0.01002921868034818, 0.01002921868034818, 0.02005843736069636, 0.013372291573797573, 0.016715364467246967, 0.02005843736069636, 0.01002921868034818, 0.023401510254145753, 0.013372291573797573, 0.013372291573797573, 0.01002921868034818, 0.016715364467246967, 0.02005843736069636, 0.013372291573797573, 0.01002921868034818, 0.006686145786898787, 0.013372291573797573, 0.05683223918863969, 0.016715364467246967, 0.02005843736069636, 0.013372291573797573, 0.08691989522968423, 0.013372291573797573, 0.013372291573797573, 0.0033430728934493933, 0.006686145786898787, 0.016715364467246967, 0.02005843736069636, 0.013372291573797573, 0.006686145786898787, 0.0033430728934493933, 0.006686145786898787, 0.006686145786898787, 0.0033430728934493933, 0.0033430728934493933, 0.01002921868034818, 0.013372291573797573, 0.006686145786898787, 0.006686145786898787, 0.013372291573797573, 0.0033430728934493933, 0.01002921868034818, 0.0033430728934493933, 0.0033430728934493933, 0.013372291573797573, 0.0033430728934493933, 0.005026728709278891, 0.005026728709278891, 0.008377881182131485, 0.03351152472852594, 0.025133643546394455, 0.001675576236426297, 0.008377881182131485, 0.005026728709278891, 0.010053457418557782, 0.001675576236426297, 0.010053457418557782, 0.011729033654984079, 0.005026728709278891, 0.001675576236426297, 0.013404609891410376, 0.013404609891410376, 0.001675576236426297, 0.001675576236426297, 0.005026728709278891, 0.010053457418557782, 0.006702304945705188, 0.001675576236426297, 0.010053457418557782, 0.013404609891410376, 0.003351152472852594, 0.008377881182131485, 0.001675576236426297, 0.008377881182131485, 0.4356498214708372, 0.008377881182131485, 0.01675576236426297, 0.001675576236426297, 0.001675576236426297, 0.14409955633266153, 0.003351152472852594, 0.006702304945705188, 0.020106914837115564, 0.015080186127836672, 0.010053457418557782, 0.011729033654984079, 0.001675576236426297, 0.005026728709278891, 0.006702304945705188, 0.003351152472852594, 0.001675576236426297, 0.003351152472852594, 0.005026728709278891, 0.005026728709278891, 0.005026728709278891, 0.018431338600689268, 0.001675576236426297, 0.001675576236426297, 0.001675576236426297, 0.006702304945705188, 0.001675576236426297, 0.001675576236426297, 0.001675576236426297, 0.003351152472852594, 0.003351152472852594, 0.003351152472852594, 0.001675576236426297, 0.003351152472852594, 0.005026728709278891, 0.007489650698575146, 0.008559600798371595, 0.009629550898168044, 0.019259101796336088, 0.06954675648676921, 0.005349750498982247, 0.03209850299389348, 0.024608852295318336, 0.014979301397150292, 0.020329051896132537, 0.007489650698575146, 0.012839401197557393, 0.025678802395114785, 0.007489650698575146, 0.009629550898168044, 0.028888652694504132, 0.008559600798371595, 0.0021399001995928988, 0.0042798003991857975, 0.012839401197557393, 0.006419700598778696, 0.03744825349287573, 0.024608852295318336, 0.005349750498982247, 0.012839401197557393, 0.03316845309368993, 0.010699500997964495, 0.011769451097760944, 0.003209850299389348, 0.005349750498982247, 0.024608852295318336, 0.019259101796336088, 0.039588153692468625, 0.006419700598778696, 0.009629550898168044, 0.0021399001995928988, 0.055637405189415366, 0.006419700598778696, 0.031028552894097033, 0.008559600798371595, 0.031028552894097033, 0.029958602794300584, 0.02246895209572544, 0.009629550898168044, 0.011769451097760944, 0.02139900199592899, 0.012839401197557393, 0.01818915169653964, 0.0042798003991857975, 0.0042798003991857975, 0.0010699500997964494, 0.0042798003991857975, 0.010699500997964495, 0.009629550898168044, 0.013909351297353842, 0.011769451097760944, 0.006419700598778696, 0.005349750498982247, 0.007489650698575146, 0.0010699500997964494, 0.0010699500997964494, 0.0010699500997964494, 0.009629550898168044, 0.006419700598778696, 0.0010699500997964494, 0.0010699500997964494, 0.009629550898168044, 0.0010699500997964494, 0.006419700598778696, 0.0042798003991857975, 0.006419700598778696, 0.003209850299389348, 0.0021399001995928988, 0.005349750498982247, 0.007489650698575146, 0.0042798003991857975, 0.003209850299389348, 0.0021399001995928988, 0.00463020182098696, 0.00463020182098696, 0.00463020182098696, 0.03241141274690872, 0.011575504552467402, 0.011575504552467402, 0.05324732094135005, 0.01620570637345436, 0.006945302731480441, 0.013890605462960882, 0.01852080728394784, 0.006945302731480441, 0.020835908194441324, 0.011575504552467402, 0.00231510091049348, 0.00463020182098696, 0.006945302731480441, 0.011575504552467402, 0.00463020182098696, 0.006945302731480441, 0.011575504552467402, 0.00231510091049348, 0.5671997230709027, 0.013890605462960882, 0.00463020182098696, 0.00926040364197392, 0.00463020182098696, 0.00463020182098696, 0.00463020182098696, 0.00463020182098696, 0.00231510091049348, 0.00463020182098696, 0.00231510091049348, 0.00231510091049348, 0.006945302731480441, 0.00463020182098696, 0.023151009104934804, 0.00231510091049348, 0.00231510091049348, 0.006945302731480441, 0.027781210925921763, 0.00231510091049348, 0.00463020182098696, 0.00231510091049348, 0.00231510091049348, 0.00463020182098696, 0.00463020182098696, 0.011575504552467402, 0.00870948711978869, 0.04137006381899627, 0.004354743559894345, 0.010886858899735861, 0.02830583313931324, 0.021773717799471723, 0.004354743559894345, 0.004354743559894345, 0.013064230679683033, 0.0021773717799471724, 0.00870948711978869, 0.6880494824633064, 0.004354743559894345, 0.0021773717799471724, 0.0021773717799471724, 0.0021773717799471724, 0.010886858899735861, 0.0021773717799471724, 0.043547435598943446, 0.004354743559894345, 0.0021773717799471724, 0.0021773717799471724, 0.063143781618468, 0.0021773717799471724, 0.0021773717799471724, 0.004354743559894345, 0.0021773717799471724, 0.006532115339841517, 0.0021773717799471724, 0.039034749748794687, 0.008217842052377829, 0.006163381539283371, 0.018490144617850115, 0.016435684104755658, 0.012326763078566743, 0.010272302565472286, 0.010272302565472286, 0.016435684104755658, 0.0020544605130944573, 0.0143812235916612, 0.012326763078566743, 0.016435684104755658, 0.0143812235916612, 0.008217842052377829, 0.0020544605130944573, 0.0431436707749836, 0.0041089210261889145, 0.012326763078566743, 0.006163381539283371, 0.0020544605130944573, 0.010272302565472286, 0.0041089210261889145, 0.008217842052377829, 0.010272302565472286, 0.5156695887867088, 0.0041089210261889145, 0.008217842052377829, 0.0041089210261889145, 0.0041089210261889145, 0.006163381539283371, 0.010272302565472286, 0.0020544605130944573, 0.0041089210261889145, 0.024653526157133485, 0.008217842052377829, 0.006163381539283371, 0.0020544605130944573, 0.0020544605130944573, 0.0041089210261889145, 0.0020544605130944573, 0.0020544605130944573, 0.0020544605130944573, 0.0020544605130944573, 0.010272302565472286, 0.0041089210261889145, 0.0020544605130944573, 0.006163381539283371, 0.0020544605130944573, 0.0020544605130944573, 0.0020544605130944573, 0.0020544605130944573, 0.0020544605130944573, 0.006163381539283371, 0.0041089210261889145, 0.0020544605130944573, 0.0020544605130944573, 0.0020544605130944573, 0.0041089210261889145, 0.0020544605130944573, 0.0041089210261889145, 0.0041089210261889145, 0.0020544605130944573, 0.0041089210261889145, 0.01370773586571521, 0.02741547173143042, 0.015992358510001078, 0.018276981154286946, 0.009138490577143473, 0.015992358510001078, 0.022846226442858684, 0.01370773586571521, 0.015992358510001078, 0.009138490577143473, 0.02741547173143042, 0.020561603798572817, 0.018276981154286946, 0.006853867932857605, 0.009138490577143473, 0.022846226442858684, 0.020561603798572817, 0.025130849087144552, 0.031984717020002155, 0.020561603798572817, 0.01370773586571521, 0.01370773586571521, 0.011423113221429342, 0.0434078302414315, 0.01370773586571521, 0.011423113221429342, 0.015992358510001078, 0.02741547173143042, 0.020561603798572817, 0.018276981154286946, 0.006853867932857605, 0.009138490577143473, 0.01370773586571521, 0.011423113221429342, 0.025130849087144552, 0.018276981154286946, 0.006853867932857605, 0.05483094346286084, 0.01370773586571521, 0.01370773586571521, 0.015992358510001078, 0.011423113221429342, 0.004569245288571736, 0.015992358510001078, 0.015992358510001078, 0.01370773586571521, 0.022846226442858684, 0.002284622644285868, 0.009138490577143473, 0.038838584952859766, 0.006853867932857605, 0.004569245288571736, 0.01370773586571521, 0.011423113221429342, 0.006853867932857605, 0.002284622644285868, 0.009138490577143473, 0.004569245288571736, 0.002284622644285868, 0.006853867932857605, 0.004569245288571736, 0.002284622644285868, 0.004569245288571736, 0.004569245288571736, 0.002284622644285868, 0.004569245288571736, 0.004569245288571736, 0.002284622644285868, 0.002284622644285868, 0.002284622644285868, 0.002284622644285868, 0.002284622644285868, 0.002284622644285868, 0.002284622644285868, 0.004569245288571736, 0.004569245288571736, 0.02392713275069645, 0.01087596943213475, 0.0261023266371234, 0.02392713275069645, 0.02392713275069645, 0.01522635720498865, 0.0217519388642695, 0.008700775545707801, 0.01087596943213475, 0.0217519388642695, 0.0304527144099773, 0.00652558165928085, 0.0217519388642695, 0.0043503877728539005, 0.0043503877728539005, 0.017401551091415602, 0.0130511633185617, 0.01522635720498865, 0.00652558165928085, 0.0021751938864269502, 0.0021751938864269502, 0.00652558165928085, 0.01087596943213475, 0.00652558165928085, 0.00652558165928085, 0.4959442061053446, 0.0043503877728539005, 0.008700775545707801, 0.0043503877728539005, 0.008700775545707801, 0.0021751938864269502, 0.0021751938864269502, 0.00652558165928085, 0.0021751938864269502, 0.0043503877728539005, 0.0043503877728539005, 0.0021751938864269502, 0.0130511633185617, 0.0130511633185617, 0.0021751938864269502, 0.0043503877728539005, 0.00652558165928085, 0.0021751938864269502, 0.01087596943213475, 0.0021751938864269502, 0.0021751938864269502, 0.0021751938864269502, 0.0021751938864269502, 0.0021751938864269502, 0.0021751938864269502, 0.0021751938864269502, 0.0043503877728539005, 0.0021751938864269502, 0.0021751938864269502, 0.0043503877728539005, 0.0130511633185617, 0.0021751938864269502, 0.0021751938864269502, 0.0021751938864269502, 0.0043503877728539005, 0.0021751938864269502, 0.0043503877728539005, 0.0021751938864269502, 0.006491709660966899, 0.006491709660966899, 0.011901467711772648, 0.014065370932094949, 0.004327806440644599, 0.004327806440644599, 0.03462245152515679, 0.010819516101611498, 0.004327806440644599, 0.018393177372739548, 0.09304783847385889, 0.0021639032203222995, 0.008655612881289198, 0.06058929016902439, 0.015147322542256097, 0.004327806440644599, 0.020557080593061848, 0.004327806440644599, 0.06708099982999129, 0.23802935423545296, 0.005409758050805749, 0.0032458548304834496, 0.036786354745479095, 0.016229274152417247, 0.0032458548304834496, 0.009737564491450348, 0.020557080593061848, 0.005409758050805749, 0.0021639032203222995, 0.0021639032203222995, 0.008655612881289198, 0.0010819516101611497, 0.027048790254028746, 0.009737564491450348, 0.018393177372739548, 0.0010819516101611497, 0.006491709660966899, 0.010819516101611498, 0.029212693474351046, 0.0032458548304834496, 0.015147322542256097, 0.0021639032203222995, 0.0032458548304834496, 0.006491709660966899, 0.0010819516101611497, 0.007573661271128049, 0.0021639032203222995, 0.010819516101611498, 0.006491709660966899, 0.007573661271128049, 0.0010819516101611497, 0.0010819516101611497, 0.0021639032203222995, 0.006491709660966899, 0.008655612881289198, 0.007573661271128049, 0.004327806440644599, 0.0021639032203222995, 0.0032458548304834496, 0.0010819516101611497, 0.004327806440644599, 0.0010819516101611497, 0.008655612881289198, 0.004327806440644599, 0.004327806440644599, 0.0010819516101611497, 0.0010819516101611497, 0.0010819516101611497, 0.0021639032203222995, 0.0032458548304834496, 0.0010819516101611497, 0.005409758050805749, 0.004327806440644599, 0.02751676871486138, 0.011539290106232192, 0.008876377004793993, 0.022190942511984984, 0.017752754009587986, 0.019528029410546786, 0.02396621791294378, 0.017752754009587986, 0.02396621791294378, 0.01686511630910859, 0.017752754009587986, 0.01242692780671159, 0.01686511630910859, 0.01597747860862919, 0.009764014705273393, 0.015089840908149788, 0.01420220320767039, 0.02751676871486138, 0.017752754009587986, 0.01242692780671159, 0.02396621791294378, 0.005325826202876396, 0.011539290106232192, 0.023078580212464384, 0.03550550801917597, 0.009764014705273393, 0.01420220320767039, 0.02574149331390258, 0.015089840908149788, 0.023078580212464384, 0.01331456550719099, 0.015089840908149788, 0.007101101603835195, 0.019528029410546786, 0.02929204411582018, 0.008876377004793993, 0.0017752754009587987, 0.010651652405752792, 0.011539290106232192, 0.01331456550719099, 0.015089840908149788, 0.007988739304314594, 0.021303304811505584, 0.009764014705273393, 0.01331456550719099, 0.008876377004793993, 0.01686511630910859, 0.017752754009587986, 0.019528029410546786, 0.009764014705273393, 0.008876377004793993, 0.01420220320767039, 0.009764014705273393, 0.008876377004793993, 0.01331456550719099, 0.01242692780671159, 0.007101101603835195, 0.004438188502396996, 0.01242692780671159, 0.007101101603835195, 0.01597747860862919, 0.009764014705273393, 0.005325826202876396, 0.006213463903355795, 0.008876377004793993, 0.004438188502396996, 0.002662913101438198, 0.002662913101438198, 0.002662913101438198, 0.0035505508019175974, 0.004438188502396996, 0.0017752754009587987, 0.002662913101438198, 0.004438188502396996, 0.0035505508019175974, 0.002662913101438198, 0.0017752754009587987, 0.002662913101438198, 0.004438188502396996, 0.0035505508019175974, 0.006207780255694639, 0.018623340767083916, 0.006207780255694639, 0.8566736752858601, 0.0031038901278473193, 0.012415560511389277, 0.0031038901278473193, 0.009311670383541958, 0.006207780255694639, 0.0031038901278473193, 0.006207780255694639, 0.0031038901278473193, 0.0031038901278473193, 0.0031038901278473193, 0.0031038901278473193, 0.0031038901278473193, 0.015519450639236597, 0.0031038901278473193, 0.0031038901278473193, 0.0031038901278473193, 0.0031038901278473193, 0.0031038901278473193, 0.0031038901278473193, 0.006207780255694639, 0.0031038901278473193, 0.0031038901278473193, 0.016829002031974526, 0.018698891146638363, 0.03178811494928522, 0.035527893178612886, 0.0205687802613022, 0.022438669375966034, 0.022438669375966034, 0.0205687802613022, 0.01495911291731069, 0.026178447605293708, 0.04861711698125974, 0.013089223802646854, 0.011219334687983017, 0.01495911291731069, 0.01495911291731069, 0.018698891146638363, 0.01495911291731069, 0.0205687802613022, 0.026178447605293708, 0.018698891146638363, 0.018698891146638363, 0.01495911291731069, 0.035527893178612886, 0.016829002031974526, 0.009349445573319182, 0.016829002031974526, 0.011219334687983017, 0.007479556458655345, 0.0018698891146638362, 0.0056096673439915085, 0.01495911291731069, 0.0018698891146638362, 0.011219334687983017, 0.013089223802646854, 0.016829002031974526, 0.0056096673439915085, 0.01495911291731069, 0.013089223802646854, 0.013089223802646854, 0.0205687802613022, 0.01495911291731069, 0.02430855849062987, 0.011219334687983017, 0.0018698891146638362, 0.0037397782293276723, 0.016829002031974526, 0.0037397782293276723, 0.009349445573319182, 0.0018698891146638362, 0.0018698891146638362, 0.0056096673439915085, 0.009349445573319182, 0.0056096673439915085, 0.007479556458655345, 0.01495911291731069, 0.0205687802613022, 0.0018698891146638362, 0.08040523193054495, 0.011219334687983017, 0.0037397782293276723, 0.0018698891146638362, 0.0037397782293276723, 0.0018698891146638362, 0.0018698891146638362, 0.013089223802646854, 0.007479556458655345, 0.0018698891146638362, 0.0018698891146638362, 0.0056096673439915085, 0.0018698891146638362, 0.007479556458655345, 0.0037397782293276723, 0.0018698891146638362, 0.0018698891146638362, 0.024894174655564774, 0.033946601803042875, 0.07241941717982481, 0.014710194114651912, 0.0045262135737390505, 0.014710194114651912, 0.014710194114651912, 0.012447087327782387, 0.021499514475260488, 0.005657766967173813, 0.021499514475260488, 0.007920873754043338, 0.019236407688390963, 0.018104854294956202, 0.03055194162273859, 0.007920873754043338, 0.022631067868695252, 0.005657766967173813, 0.005657766967173813, 0.012447087327782387, 0.0022631067868695252, 0.05884077645860765, 0.011315533934347626, 0.010183980540912864, 0.005657766967173813, 0.018104854294956202, 0.019236407688390963, 0.007920873754043338, 0.021499514475260488, 0.014710194114651912, 0.015841747508086677, 0.01357864072121715, 0.02602572804899954, 0.007920873754043338, 0.010183980540912864, 0.011315533934347626, 0.010183980540912864, 0.018104854294956202, 0.007920873754043338, 0.019236407688390963, 0.011315533934347626, 0.036209708589912404, 0.0033946601803042874, 0.020367961081825727, 0.006789320360608575, 0.018104854294956202, 0.011315533934347626, 0.0033946601803042874, 0.016973300901521438, 0.009052427147478101, 0.0033946601803042874, 0.007920873754043338, 0.0011315533934347626, 0.010183980540912864, 0.009052427147478101, 0.0022631067868695252, 0.0033946601803042874, 0.006789320360608575, 0.005657766967173813, 0.0022631067868695252, 0.04865679591769479, 0.0011315533934347626, 0.0022631067868695252, 0.014710194114651912, 0.0011315533934347626, 0.0045262135737390505, 0.005657766967173813, 0.0045262135737390505, 0.006789320360608575, 0.0033946601803042874, 0.006789320360608575, 0.0033946601803042874, 0.0045262135737390505, 0.0022631067868695252, 0.0022631067868695252, 0.0033946601803042874, 0.006789320360608575, 0.0022631067868695252, 0.005657766967173813, 0.0014714499998431862, 0.06474379999310019, 0.09122989999027754, 0.0029428999996863724, 0.0014714499998431862, 0.005885799999372745, 0.0029428999996863724, 0.0029428999996863724, 0.004414349999529559, 0.005885799999372745, 0.004414349999529559, 0.01177159999874549, 0.0014714499998431862, 0.07945829999153205, 0.008828699999059117, 0.0014714499998431862, 0.0029428999996863724, 0.010300149998902303, 0.4855784999482514, 0.010300149998902303, 0.0014714499998431862, 0.010300149998902303, 0.008828699999059117, 0.0014714499998431862, 0.0014714499998431862, 0.008828699999059117, 0.010300149998902303, 0.0014714499998431862, 0.005885799999372745, 0.005885799999372745, 0.0014714499998431862, 0.007357249999215931, 0.025014649997334167, 0.0029428999996863724, 0.005885799999372745, 0.0014714499998431862, 0.004414349999529559, 0.005885799999372745, 0.004414349999529559, 0.004414349999529559, 0.004414349999529559, 0.014714499998431862, 0.0029428999996863724, 0.0014714499998431862, 0.0014714499998431862, 0.0014714499998431862, 0.0014714499998431862, 0.007357249999215931, 0.0014714499998431862, 0.004414349999529559, 0.005885799999372745, 0.016185949998275048, 0.0014714499998431862, 0.0029428999996863724, 0.0014714499998431862, 0.0014714499998431862, 0.0014714499998431862, 0.0029428999996863724, 0.0014714499998431862, 0.0014714499998431862, 0.017680727666944587, 0.017680727666944587, 0.01989081862531266, 0.028731182458784952, 0.028731182458784952, 0.011050454791840367, 0.013260545750208439, 0.01989081862531266, 0.022100909583680734, 0.024311000542048804, 0.013260545750208439, 0.017680727666944587, 0.015470636708576513, 0.01989081862531266, 0.01989081862531266, 0.011050454791840367, 0.022100909583680734, 0.017680727666944587, 0.017680727666944587, 0.013260545750208439, 0.011050454791840367, 0.011050454791840367, 0.008840363833472293, 0.011050454791840367, 0.017680727666944587, 0.0066302728751042195, 0.013260545750208439, 0.0066302728751042195, 0.022100909583680734, 0.013260545750208439, 0.015470636708576513, 0.01989081862531266, 0.013260545750208439, 0.011050454791840367, 0.015470636708576513, 0.015470636708576513, 0.017680727666944587, 0.011050454791840367, 0.011050454791840367, 0.008840363833472293, 0.004420181916736147, 0.0066302728751042195, 0.017680727666944587, 0.013260545750208439, 0.026521091500416878, 0.033151364375521096, 0.008840363833472293, 0.008840363833472293, 0.015470636708576513, 0.024311000542048804, 0.053042183000833756, 0.013260545750208439, 0.0022100909583680733, 0.011050454791840367, 0.011050454791840367, 0.0022100909583680733, 0.013260545750208439, 0.0066302728751042195, 0.011050454791840367, 0.004420181916736147, 0.008840363833472293, 0.0066302728751042195, 0.004420181916736147, 0.004420181916736147, 0.0066302728751042195, 0.0022100909583680733, 0.0022100909583680733, 0.0022100909583680733, 0.004420181916736147, 0.004420181916736147, 0.004420181916736147, 0.004420181916736147, 0.004420181916736147, 0.004420181916736147, 0.004420181916736147, 0.0066302728751042195, 0.0022100909583680733, 0.0022100909583680733, 0.021802572679082706, 0.016351929509312028, 0.010901286339541353, 0.009538625547098684, 0.012263947131984022, 0.004087982377328007, 0.006813303962213345, 0.010901286339541353, 0.020439911886640037, 0.025890555056410712, 0.012263947131984022, 0.012263947131984022, 0.008175964754656014, 0.020439911886640037, 0.01362660792442669, 0.0054506431697706765, 0.0054506431697706765, 0.012263947131984022, 0.009538625547098684, 0.020439911886640037, 0.012263947131984022, 0.006813303962213345, 0.0027253215848853382, 0.010901286339541353, 0.4278754888269981, 0.01498926871686936, 0.009538625547098684, 0.004087982377328007, 0.01362660792442669, 0.009538625547098684, 0.0027253215848853382, 0.0013626607924426691, 0.0054506431697706765, 0.01362660792442669, 0.0027253215848853382, 0.0054506431697706765, 0.012263947131984022, 0.0013626607924426691, 0.016351929509312028, 0.012263947131984022, 0.016351929509312028, 0.0027253215848853382, 0.0054506431697706765, 0.02997853743373872, 0.004087982377328007, 0.008175964754656014, 0.004087982377328007, 0.0013626607924426691, 0.0013626607924426691, 0.012263947131984022, 0.006813303962213345, 0.004087982377328007, 0.0013626607924426691, 0.0027253215848853382, 0.004087982377328007, 0.0027253215848853382, 0.0027253215848853382, 0.0013626607924426691, 0.0013626607924426691, 0.0013626607924426691, 0.01498926871686936, 0.010901286339541353, 0.0027253215848853382, 0.0027253215848853382, 0.0013626607924426691, 0.004087982377328007, 0.0013626607924426691, 0.026340769552933747, 0.024954413260674074, 0.023568056968414405, 0.01524991921485638, 0.009704494045817696, 0.024954413260674074, 0.023568056968414405, 0.012477206630337037, 0.018022631799375723, 0.009704494045817696, 0.024954413260674074, 0.01524991921485638, 0.018022631799375723, 0.01663627550711605, 0.008318137753558025, 0.01524991921485638, 0.019408988091635392, 0.024954413260674074, 0.023568056968414405, 0.01663627550711605, 0.03188619472197243, 0.008318137753558025, 0.01663627550711605, 0.01524991921485638, 0.006931781461298354, 0.006931781461298354, 0.029113482137453087, 0.01524991921485638, 0.01663627550711605, 0.01663627550711605, 0.004159068876779012, 0.013863562922596709, 0.011090850338077368, 0.018022631799375723, 0.022181700676154735, 0.012477206630337037, 0.01524991921485638, 0.012477206630337037, 0.009704494045817696, 0.01663627550711605, 0.012477206630337037, 0.012477206630337037, 0.001386356292259671, 0.005545425169038684, 0.011090850338077368, 0.006931781461298354, 0.002772712584519342, 0.018022631799375723, 0.011090850338077368, 0.009704494045817696, 0.008318137753558025, 0.009704494045817696, 0.01663627550711605, 0.018022631799375723, 0.012477206630337037, 0.018022631799375723, 0.045749757644569136, 0.006931781461298354, 0.009704494045817696, 0.004159068876779012, 0.005545425169038684, 0.009704494045817696, 0.013863562922596709, 0.011090850338077368, 0.001386356292259671, 0.001386356292259671, 0.005545425169038684, 0.002772712584519342, 0.004159068876779012, 0.005545425169038684, 0.002772712584519342, 0.004159068876779012, 0.001386356292259671, 0.002772712584519342, 0.002772712584519342, 0.002772712584519342, 0.002772712584519342, 0.004159068876779012, 0.002772712584519342, 0.002772712584519342, 0.014608154927316635, 0.0023065507779973632, 0.0023065507779973632, 0.009226203111989453, 0.023065507779973633, 0.012301604149319271, 0.014608154927316635, 0.014608154927316635, 0.02767860933596836, 0.04151791400395254, 0.001537700518664909, 0.009995053371321908, 0.019221256483311362, 0.006150802074659636, 0.005381951815327181, 0.018452406223978906, 0.019221256483311362, 0.0038442512966622724, 0.005381951815327181, 0.018452406223978906, 0.014608154927316635, 0.39288248251888425, 0.00691965233399209, 0.038442512966622724, 0.017683555964646453, 0.006150802074659636, 0.0023065507779973632, 0.001537700518664909, 0.031522860632630635, 0.009995053371321908, 0.013070454408651726, 0.0046131015559947265, 0.009226203111989453, 0.00691965233399209, 0.0038442512966622724, 0.0038442512966622724, 0.003075401037329818, 0.001537700518664909, 0.00691965233399209, 0.010763903630654362, 0.00691965233399209, 0.007688502593324545, 0.014608154927316635, 0.00691965233399209, 0.006150802074659636, 0.0038442512966622724, 0.008457352852657, 0.0007688502593324544, 0.00691965233399209, 0.0007688502593324544, 0.001537700518664909, 0.001537700518664909, 0.0023065507779973632, 0.005381951815327181, 0.001537700518664909, 0.0007688502593324544, 0.005381951815327181, 0.0007688502593324544, 0.0023065507779973632, 0.008457352852657, 0.0038442512966622724, 0.0007688502593324544, 0.0007688502593324544, 0.0007688502593324544, 0.0038442512966622724, 0.001537700518664909, 0.0038442512966622724, 0.0046131015559947265, 0.003075401037329818, 0.001537700518664909, 0.008457352852657, 0.001537700518664909, 0.0023065507779973632, 0.003075401037329818, 0.0046131015559947265, 0.016668979334272676, 0.018521088149191862, 0.009260544074595931, 0.020373196964111048, 0.022225305779030233, 0.01481687051935349, 0.018521088149191862, 0.020373196964111048, 0.020373196964111048, 0.011112652889515117, 0.01481687051935349, 0.016668979334272676, 0.01481687051935349, 0.012964761704434304, 0.018521088149191862, 0.011112652889515117, 0.011112652889515117, 0.01481687051935349, 0.01481687051935349, 0.009260544074595931, 0.009260544074595931, 0.0018521088149191863, 0.009260544074595931, 0.012964761704434304, 0.01481687051935349, 0.007408435259676745, 0.011112652889515117, 0.022225305779030233, 0.007408435259676745, 0.012964761704434304, 0.009260544074595931, 0.005556326444757558, 0.005556326444757558, 0.009260544074595931, 0.005556326444757558, 0.009260544074595931, 0.009260544074595931, 0.005556326444757558, 0.0037042176298383725, 0.007408435259676745, 0.011112652889515117, 0.0037042176298383725, 0.011112652889515117, 0.35745700127940294, 0.0037042176298383725, 0.011112652889515117, 0.007408435259676745, 0.005556326444757558, 0.005556326444757558, 0.007408435259676745, 0.0018521088149191863, 0.0018521088149191863, 0.005556326444757558, 0.005556326444757558, 0.0037042176298383725, 0.0018521088149191863, 0.007408435259676745, 0.0037042176298383725, 0.0018521088149191863, 0.0018521088149191863, 0.0037042176298383725, 0.0018521088149191863, 0.0018521088149191863, 0.007408435259676745, 0.0037042176298383725, 0.007408435259676745, 0.005556326444757558, 0.0018521088149191863, 0.0037042176298383725, 0.0037042176298383725, 0.0018521088149191863, 0.03031803221323174, 0.004331147459033105, 0.006496721188549658, 0.006496721188549658, 0.010827868647582764, 0.004331147459033105, 0.0021655737295165527, 0.03464917967226484, 0.004331147459033105, 0.004331147459033105, 0.004331147459033105, 0.010827868647582764, 0.0021655737295165527, 0.012993442377099316, 0.004331147459033105, 0.004331147459033105, 0.0021655737295165527, 0.00866229491806621, 0.0021655737295165527, 0.0021655737295165527, 0.004331147459033105, 0.010827868647582764, 0.0021655737295165527, 0.0021655737295165527, 0.03898032713129795, 0.7146393307404624, 0.004331147459033105, 0.0021655737295165527, 0.0021655737295165527, 0.0021655737295165527, 0.0021655737295165527, 0.01732458983613242, 0.01732458983613242, 0.004331147459033105, 0.004331147459033105, 0.004331147459033105, 0.03569077997151156, 0.01284868078974416, 0.009993418392023235, 0.004282893596581387, 0.008565787193162774, 0.03140788637493017, 0.004282893596581387, 0.007138155994302312, 0.01998683678404647, 0.0028552623977209247, 0.009993418392023235, 0.0028552623977209247, 0.011421049590883699, 0.004282893596581387, 0.007138155994302312, 0.007138155994302312, 0.005710524795441849, 0.5010985508000223, 0.01998683678404647, 0.009993418392023235, 0.0014276311988604623, 0.015703943187465087, 0.0014276311988604623, 0.0028552623977209247, 0.04425656716467433, 0.015703943187465087, 0.0028552623977209247, 0.0028552623977209247, 0.005710524795441849, 0.017131574386325548, 0.029980255176069708, 0.0014276311988604623, 0.0028552623977209247, 0.032835517573790635, 0.0014276311988604623, 0.007138155994302312, 0.0028552623977209247, 0.0028552623977209247, 0.005710524795441849, 0.004282893596581387, 0.004282893596581387, 0.005710524795441849, 0.0014276311988604623, 0.011421049590883699, 0.0014276311988604623, 0.004282893596581387, 0.0014276311988604623, 0.0028552623977209247, 0.0014276311988604623, 0.009993418392023235, 0.0014276311988604623, 0.0028552623977209247, 0.0028552623977209247, 0.0028552623977209247, 0.0014276311988604623, 0.0014276311988604623, 0.007138155994302312, 0.0014276311988604623, 0.0028552623977209247, 0.0028552623977209247, 0.0014276311988604623, 0.0028552623977209247, 0.0014276311988604623, 0.0014276311988604623, 0.030244180172645716, 0.019775040882114507, 0.018611803183166596, 0.020938278581062418, 0.01744856548421868, 0.024427991677906154, 0.01628532778527077, 0.01628532778527077, 0.009305901591583298, 0.013958852387374945, 0.015122090086322858, 0.01744856548421868, 0.010469139290531209, 0.019775040882114507, 0.010469139290531209, 0.009305901591583298, 0.01628532778527077, 0.011632376989479122, 0.023264753978958243, 0.020938278581062418, 0.006979426193687473, 0.009305901591583298, 0.023264753978958243, 0.008142663892635385, 0.018611803183166596, 0.010469139290531209, 0.024427991677906154, 0.018611803183166596, 0.018611803183166596, 0.009305901591583298, 0.006979426193687473, 0.011632376989479122, 0.01628532778527077, 0.008142663892635385, 0.011632376989479122, 0.013958852387374945, 0.011632376989479122, 0.01628532778527077, 0.005816188494739561, 0.010469139290531209, 0.011632376989479122, 0.006979426193687473, 0.013958852387374945, 0.005816188494739561, 0.009305901591583298, 0.008142663892635385, 0.009305901591583298, 0.005816188494739561, 0.005816188494739561, 0.005816188494739561, 0.010469139290531209, 0.010469139290531209, 0.0011632376989479123, 0.005816188494739561, 0.198913646520093, 0.0034897130968437363, 0.008142663892635385, 0.0023264753978958245, 0.0023264753978958245, 0.006979426193687473, 0.0011632376989479123, 0.004652950795791649, 0.004652950795791649, 0.006979426193687473, 0.0034897130968437363, 0.004652950795791649, 0.0023264753978958245, 0.004652950795791649, 0.0023264753978958245, 0.0023264753978958245, 0.0023264753978958245, 0.0023264753978958245, 0.0034897130968437363, 0.0023264753978958245, 0.0034897130968437363, 0.005816188494739561, 0.0034897130968437363, 0.0023264753978958245, 0.0011632376989479123, 0.033343540591467276, 0.019613847406745457, 0.013729693184721819, 0.023536616888094546, 0.013729693184721819, 0.01765246266607091, 0.01765246266607091, 0.01765246266607091, 0.019613847406745457, 0.01765246266607091, 0.011768308444047273, 0.015691077925396365, 0.01765246266607091, 0.009806923703372728, 0.009806923703372728, 0.007845538962698182, 0.009806923703372728, 0.013729693184721819, 0.011768308444047273, 0.011768308444047273, 0.009806923703372728, 0.0019613847406745456, 0.005884154222023636, 0.03138215585079273, 0.015691077925396365, 0.009806923703372728, 0.003922769481349091, 0.011768308444047273, 0.015691077925396365, 0.015691077925396365, 0.015691077925396365, 0.013729693184721819, 0.007845538962698182, 0.009806923703372728, 0.003922769481349091, 0.013729693184721819, 0.013729693184721819, 0.003922769481349091, 0.005884154222023636, 0.015691077925396365, 0.005884154222023636, 0.011768308444047273, 0.023536616888094546, 0.005884154222023636, 0.023536616888094546, 0.027459386369443638, 0.011768308444047273, 0.007845538962698182, 0.003922769481349091, 0.007845538962698182, 0.013729693184721819, 0.023536616888094546, 0.003922769481349091, 0.007845538962698182, 0.20790678251150183, 0.0019613847406745456, 0.003922769481349091, 0.015691077925396365, 0.0019613847406745456, 0.0019613847406745456, 0.0019613847406745456, 0.0019613847406745456, 0.0019613847406745456, 0.0019613847406745456, 0.0019613847406745456, 0.003922769481349091, 0.003922769481349091, 0.003922769481349091, 0.003922769481349091, 0.0019613847406745456, 0.0019613847406745456, 0.005884154222023636, 0.007845538962698182, 0.032096104064313166, 0.007132467569847371, 0.005349350677385528, 0.010698701354771056, 0.007132467569847371, 0.0124818182472329, 0.008915584462309214, 0.010698701354771056, 0.005349350677385528, 0.0124818182472329, 0.005349350677385528, 0.042794805419084224, 0.008915584462309214, 0.005349350677385528, 0.0035662337849236853, 0.016048052032156583, 0.008915584462309214, 0.005349350677385528, 0.005349350677385528, 0.005349350677385528, 0.0035662337849236853, 0.0017831168924618427, 0.0124818182472329, 0.0249636364944658, 0.5260194832762436, 0.0035662337849236853, 0.005349350677385528, 0.005349350677385528, 0.0035662337849236853, 0.0035662337849236853, 0.005349350677385528, 0.0035662337849236853, 0.014264935139694741, 0.007132467569847371, 0.0035662337849236853, 0.0035662337849236853, 0.008915584462309214, 0.007132467569847371, 0.014264935139694741, 0.0035662337849236853, 0.0124818182472329, 0.0017831168924618427, 0.0017831168924618427, 0.0017831168924618427, 0.0035662337849236853, 0.0035662337849236853, 0.014264935139694741, 0.0017831168924618427, 0.02674675338692764, 0.0035662337849236853, 0.0035662337849236853, 0.0017831168924618427, 0.0035662337849236853, 0.0017831168924618427, 0.0017831168924618427, 0.0035662337849236853, 0.0035662337849236853, 0.0035662337849236853, 0.0035662337849236853, 0.005349350677385528, 0.0035662337849236853, 0.005349350677385528, 0.010698701354771056, 0.0017831168924618427, 0.04107619720336926, 0.023780956275634833, 0.028104766507568442, 0.028104766507568442, 0.023780956275634833, 0.023780956275634833, 0.015133335811767621, 0.023780956275634833, 0.012971430695800819, 0.015133335811767621, 0.025942861391601638, 0.025942861391601638, 0.019457146043701228, 0.012971430695800819, 0.010809525579834016, 0.008647620463867212, 0.012971430695800819, 0.019457146043701228, 0.012971430695800819, 0.015133335811767621, 0.010809525579834016, 0.017295240927734424, 0.023780956275634833, 0.032428576739502044, 0.023780956275634833, 0.017295240927734424, 0.008647620463867212, 0.012971430695800819, 0.012971430695800819, 0.017295240927734424, 0.015133335811767621, 0.023780956275634833, 0.008647620463867212, 0.015133335811767621, 0.017295240927734424, 0.012971430695800819, 0.008647620463867212, 0.006485715347900409, 0.015133335811767621, 0.010809525579834016, 0.008647620463867212, 0.021619051159668033, 0.004323810231933606, 0.010809525579834016, 0.008647620463867212, 0.017295240927734424, 0.010809525579834016, 0.010809525579834016, 0.015133335811767621, 0.006485715347900409, 0.015133335811767621, 0.006485715347900409, 0.008647620463867212, 0.006485715347900409, 0.010809525579834016, 0.010809525579834016, 0.008647620463867212, 0.008647620463867212, 0.002161905115966803, 0.004323810231933606, 0.006485715347900409, 0.006485715347900409, 0.015133335811767621, 0.002161905115966803, 0.004323810231933606, 0.004323810231933606, 0.006485715347900409, 0.002161905115966803, 0.004323810231933606, 0.006485715347900409, 0.004323810231933606, 0.004323810231933606, 0.002161905115966803, 0.002161905115966803, 0.004323810231933606, 0.004323810231933606, 0.002161905115966803, 0.019455534630705672, 0.021887476459543878, 0.009727767315352836, 0.021887476459543878, 0.012159709144191044, 0.009727767315352836, 0.007295825486514626, 0.019455534630705672, 0.014591650973029252, 0.014591650973029252, 0.014591650973029252, 0.019455534630705672, 0.019455534630705672, 0.012159709144191044, 0.009727767315352836, 0.007295825486514626, 0.009727767315352836, 0.004863883657676418, 0.009727767315352836, 0.012159709144191044, 0.004863883657676418, 0.004863883657676418, 0.004863883657676418, 0.019455534630705672, 0.014591650973029252, 0.017023592801867462, 0.007295825486514626, 0.004863883657676418, 0.014591650973029252, 0.009727767315352836, 0.007295825486514626, 0.009727767315352836, 0.002431941828838209, 0.002431941828838209, 0.009727767315352836, 0.007295825486514626, 0.002431941828838209, 0.004863883657676418, 0.009727767315352836, 0.009727767315352836, 0.007295825486514626, 0.004863883657676418, 0.45234118016390684, 0.002431941828838209, 0.002431941828838209, 0.002431941828838209, 0.002431941828838209, 0.007295825486514626, 0.002431941828838209, 0.002431941828838209, 0.004863883657676418, 0.002431941828838209, 0.002431941828838209, 0.004863883657676418, 0.004863883657676418, 0.002431941828838209, 0.002431941828838209, 0.002431941828838209, 0.002431941828838209, 0.002431941828838209, 0.002431941828838209, 0.004863883657676418, 0.002431941828838209, 0.004863883657676418, 0.004863883657676418, 0.004863883657676418, 0.002431941828838209, 0.007295825486514626, 0.002431941828838209, 0.005627319255116304, 0.0018757730850387682, 0.005627319255116304, 0.005627319255116304, 0.7334272762501584, 0.0037515461700775364, 0.00937886542519384, 0.015006184680310146, 0.013130411595271377, 0.0018757730850387682, 0.015006184680310146, 0.0037515461700775364, 0.015006184680310146, 0.0018757730850387682, 0.0018757730850387682, 0.00937886542519384, 0.016881957765348912, 0.005627319255116304, 0.007503092340155073, 0.007503092340155073, 0.0037515461700775364, 0.007503092340155073, 0.011254638510232609, 0.005627319255116304, 0.005627319255116304, 0.005627319255116304, 0.0037515461700775364, 0.005627319255116304, 0.007503092340155073, 0.005627319255116304, 0.007503092340155073, 0.0018757730850387682, 0.0018757730850387682, 0.0018757730850387682, 0.0018757730850387682, 0.0037515461700775364, 0.0018757730850387682, 0.0018757730850387682, 0.0018757730850387682, 0.0018757730850387682, 0.0018757730850387682, 0.0037515461700775364, 0.0018757730850387682, 0.0018757730850387682, 0.005627319255116304, 0.013130411595271377, 0.14015439339476504, 0.016915185409713023, 0.6814403265055817, 0.004832910117060864, 0.002416455058530432, 0.033830370819426046, 0.004832910117060864, 0.002416455058530432, 0.004832910117060864, 0.03141391576089561, 0.002416455058530432, 0.004832910117060864, 0.002416455058530432, 0.009665820234121728, 0.002416455058530432, 0.004832910117060864, 0.002416455058530432, 0.002416455058530432, 0.002416455058530432, 0.014498730351182591, 0.004832910117060864, 0.002416455058530432, 0.002416455058530432, 0.002416455058530432, 0.002416455058530432, 0.002416455058530432, 0.8945252494793846, 0.004955818556672491, 0.009911637113344982, 0.0272570020616987, 0.004955818556672491, 0.0024779092783362455, 0.0024779092783362455, 0.004955818556672491, 0.007433727835008737, 0.0024779092783362455, 0.0024779092783362455, 0.0024779092783362455, 0.0024779092783362455, 0.004955818556672491, 0.0024779092783362455, 0.004955818556672491, 0.004955818556672491, 0.004955818556672491, 0.02137561238856203, 0.013741465106932733, 0.010687806194281014, 0.016795124019584454, 0.01984878293223617, 0.02137561238856203, 0.025956100757539607, 0.016795124019584454, 0.02137561238856203, 0.02137561238856203, 0.012214635650606874, 0.012214635650606874, 0.015268294563258593, 0.009160976737955155, 0.009160976737955155, 0.024429271301213747, 0.010687806194281014, 0.015268294563258593, 0.013741465106932733, 0.015268294563258593, 0.012214635650606874, 0.007634147281629296, 0.012214635650606874, 0.007634147281629296, 0.010687806194281014, 0.013741465106932733, 0.013741465106932733, 0.012214635650606874, 0.012214635650606874, 0.009160976737955155, 0.009160976737955155, 0.007634147281629296, 0.012214635650606874, 0.004580488368977577, 0.013741465106932733, 0.0030536589126517184, 0.009160976737955155, 0.006107317825303437, 0.007634147281629296, 0.007634147281629296, 0.007634147281629296, 0.009160976737955155, 0.007634147281629296, 0.009160976737955155, 0.013741465106932733, 0.010687806194281014, 0.016795124019584454, 0.010687806194281014, 0.009160976737955155, 0.009160976737955155, 0.006107317825303437, 0.015268294563258593, 0.004580488368977577, 0.03511707749549477, 0.21833661225459788, 0.004580488368977577, 0.0015268294563258592, 0.022902441844887888, 0.010687806194281014, 0.006107317825303437, 0.004580488368977577, 0.004580488368977577, 0.0015268294563258592, 0.0015268294563258592, 0.0030536589126517184, 0.0030536589126517184, 0.0030536589126517184, 0.0030536589126517184, 0.0030536589126517184, 0.0030536589126517184, 0.0030536589126517184, 0.0015268294563258592, 0.0030536589126517184, 0.0015268294563258592, 0.0030536589126517184, 0.0015268294563258592, 0.0030536589126517184, 0.0015268294563258592, 0.010017889044076293, 0.007513416783057221, 0.0025044722610190733, 0.010017889044076293, 0.025044722610190737, 0.010017889044076293, 0.020035778088152587, 0.03506261165426703, 0.007513416783057221, 0.017531305827133515, 0.007513416783057221, 0.5810375645564251, 0.005008944522038147, 0.012522361305095368, 0.0025044722610190733, 0.010017889044076293, 0.005008944522038147, 0.0025044722610190733, 0.005008944522038147, 0.005008944522038147, 0.005008944522038147, 0.0025044722610190733, 0.005008944522038147, 0.0025044722610190733, 0.0025044722610190733, 0.015026833566114442, 0.017531305827133515, 0.0025044722610190733, 0.03506261165426703, 0.007513416783057221, 0.010017889044076293, 0.005008944522038147, 0.005008944522038147, 0.005008944522038147, 0.010017889044076293, 0.0025044722610190733, 0.0025044722610190733, 0.010017889044076293, 0.005008944522038147, 0.0025044722610190733, 0.005008944522038147, 0.007513416783057221, 0.005008944522038147, 0.0025044722610190733, 0.005008944522038147, 0.0025044722610190733, 0.0025044722610190733, 0.005008944522038147, 0.005008944522038147, 0.0025044722610190733, 0.015026833566114442, 0.0025044722610190733, 0.0025044722610190733, 0.027251790352510866, 0.019681848587924513, 0.019681848587924513, 0.024223813646676324, 0.022709825293759055, 0.021195836940841786, 0.028765778705428135, 0.027251790352510866, 0.013625895176255433, 0.021195836940841786, 0.016653871882089975, 0.013625895176255433, 0.018167860235007244, 0.018167860235007244, 0.010597918470420893, 0.025737801999593597, 0.018167860235007244, 0.018167860235007244, 0.019681848587924513, 0.015139883529172704, 0.012111906823338162, 0.018167860235007244, 0.010597918470420893, 0.015139883529172704, 0.016653871882089975, 0.016653871882089975, 0.018167860235007244, 0.012111906823338162, 0.013625895176255433, 0.019681848587924513, 0.010597918470420893, 0.010597918470420893, 0.015139883529172704, 0.018167860235007244, 0.006055953411669081, 0.012111906823338162, 0.012111906823338162, 0.018167860235007244, 0.010597918470420893, 0.019681848587924513, 0.018167860235007244, 0.010597918470420893, 0.006055953411669081, 0.0030279767058345405, 0.015139883529172704, 0.012111906823338162, 0.0030279767058345405, 0.013625895176255433, 0.010597918470420893, 0.004541965058751811, 0.024223813646676324, 0.012111906823338162, 0.004541965058751811, 0.0711574525871117, 0.007569941764586352, 0.006055953411669081, 0.006055953411669081, 0.004541965058751811, 0.007569941764586352, 0.007569941764586352, 0.016653871882089975, 0.004541965058751811, 0.0015139883529172702, 0.0030279767058345405, 0.0030279767058345405, 0.0030279767058345405, 0.0015139883529172702, 0.004541965058751811, 0.0030279767058345405, 0.0030279767058345405, 0.0030279767058345405, 0.0015139883529172702, 0.007569941764586352, 0.0030279767058345405, 0.0030279767058345405, 0.014027071822532574, 0.014027071822532574, 0.010019337016094695, 0.010019337016094695, 0.012023204419313635, 0.014027071822532574, 0.012023204419313635, 0.018034806628970453, 0.008015469612875756, 0.008015469612875756, 0.012023204419313635, 0.008015469612875756, 0.004007734806437878, 0.008015469612875756, 0.036069613257940905, 0.030058011048284088, 0.002003867403218939, 0.010019337016094695, 0.004007734806437878, 0.010019337016094695, 0.02204254143540833, 0.004007734806437878, 0.008015469612875756, 0.559079005498084, 0.004007734806437878, 0.002003867403218939, 0.010019337016094695, 0.004007734806437878, 0.0060116022096568175, 0.0060116022096568175, 0.02003867403218939, 0.004007734806437878, 0.010019337016094695, 0.008015469612875756, 0.004007734806437878, 0.004007734806437878, 0.004007734806437878, 0.002003867403218939, 0.002003867403218939, 0.002003867403218939, 0.004007734806437878, 0.002003867403218939, 0.002003867403218939, 0.002003867403218939, 0.002003867403218939, 0.002003867403218939, 0.030058011048284088, 0.002003867403218939, 0.004007734806437878, 0.004007734806437878, 0.002003867403218939, 0.002003867403218939, 0.002003867403218939, 0.002003867403218939, 0.0060116022096568175, 0.006639857412666495, 0.014939679178499612, 0.014939679178499612, 0.01327971482533299, 0.006639857412666495, 0.011619750472166365, 0.00497989305949987, 0.0033199287063332473, 0.01327971482533299, 0.0033199287063332473, 0.00497989305949987, 0.01327971482533299, 0.00497989305949987, 0.00497989305949987, 0.029879358356999224, 0.006639857412666495, 0.01327971482533299, 0.0016599643531666237, 0.01825960788483286, 0.0033199287063332473, 0.0033199287063332473, 0.0016599643531666237, 0.00995978611899974, 0.00497989305949987, 0.0016599643531666237, 0.0033199287063332473, 0.0033199287063332473, 0.617506739377984, 0.00995978611899974, 0.0033199287063332473, 0.0016599643531666237, 0.0016599643531666237, 0.00497989305949987, 0.0016599643531666237, 0.0033199287063332473, 0.008299821765833118, 0.0016599643531666237, 0.0033199287063332473, 0.0016599643531666237, 0.0016599643531666237, 0.08133825330516456, 0.00497989305949987, 0.0016599643531666237, 0.0016599643531666237, 0.0016599643531666237, 0.0033199287063332473, 0.0016599643531666237, 0.00497989305949987, 0.0016599643531666237, 0.0016599643531666237, 0.0033199287063332473, 0.011619750472166365, 0.019401788191320463, 0.013858420136657475, 0.019401788191320463, 0.019401788191320463, 0.01108673610932598, 0.030488524300646445, 0.013858420136657475, 0.016630104163988968, 0.016630104163988968, 0.016630104163988968, 0.013858420136657475, 0.02771684027331495, 0.00554336805466299, 0.013858420136657475, 0.02217347221865196, 0.01108673610932598, 0.008315052081994484, 0.019401788191320463, 0.008315052081994484, 0.002771684027331495, 0.016630104163988968, 0.002771684027331495, 0.013858420136657475, 0.008315052081994484, 0.016630104163988968, 0.002771684027331495, 0.00554336805466299, 0.00554336805466299, 0.00554336805466299, 0.01108673610932598, 0.013858420136657475, 0.00554336805466299, 0.019401788191320463, 0.00554336805466299, 0.002771684027331495, 0.002771684027331495, 0.008315052081994484, 0.002771684027331495, 0.008315052081994484, 0.01108673610932598, 0.016630104163988968, 0.013858420136657475, 0.00554336805466299, 0.008315052081994484, 0.008315052081994484, 0.02771684027331495, 0.00554336805466299, 0.002771684027331495, 0.002771684027331495, 0.3492321874437684, 0.002771684027331495, 0.002771684027331495, 0.00554336805466299, 0.016630104163988968, 0.00554336805466299, 0.00554336805466299, 0.002771684027331495, 0.002771684027331495, 0.002771684027331495, 0.002771684027331495, 0.008315052081994484, 0.002771684027331495, 0.002771684027331495, 0.00554336805466299, 0.002771684027331495, 0.002771684027331495, 0.002771684027331495, 0.002771684027331495, 0.00554336805466299, 0.029115797064355773, 0.017126939449621043, 0.017126939449621043, 0.02397771522946946, 0.025690409174431564, 0.018839633394583145, 0.015414245504658938, 0.018839633394583145, 0.02397771522946946, 0.018839633394583145, 0.017126939449621043, 0.022265021284507355, 0.017126939449621043, 0.015414245504658938, 0.01198885761473473, 0.015414245504658938, 0.017126939449621043, 0.02055232733954525, 0.01198885761473473, 0.017126939449621043, 0.015414245504658938, 0.013701551559696833, 0.0034253878899242083, 0.0034253878899242083, 0.010276163669772626, 0.017126939449621043, 0.018839633394583145, 0.015414245504658938, 0.017126939449621043, 0.015414245504658938, 0.015414245504658938, 0.013701551559696833, 0.01198885761473473, 0.01198885761473473, 0.008563469724810521, 0.017126939449621043, 0.013701551559696833, 0.017126939449621043, 0.008563469724810521, 0.010276163669772626, 0.008563469724810521, 0.010276163669772626, 0.01198885761473473, 0.01198885761473473, 0.006850775779848417, 0.006850775779848417, 0.006850775779848417, 0.015414245504658938, 0.015414245504658938, 0.005138081834886313, 0.005138081834886313, 0.0034253878899242083, 0.013701551559696833, 0.0034253878899242083, 0.14557898532177885, 0.005138081834886313, 0.006850775779848417, 0.006850775779848417, 0.0034253878899242083, 0.0034253878899242083, 0.006850775779848417, 0.006850775779848417, 0.0017126939449621042, 0.013701551559696833, 0.0034253878899242083, 0.0034253878899242083, 0.005138081834886313, 0.0034253878899242083, 0.0017126939449621042, 0.0034253878899242083, 0.0034253878899242083, 0.0017126939449621042, 0.0017126939449621042, 0.0017126939449621042, 0.0017126939449621042, 0.005138081834886313, 0.0034253878899242083, 0.005138081834886313, 0.01489052520951717, 0.013745100193400464, 0.005727125080583526, 0.025199350354567517, 0.008017975112816938, 0.01718137524175058, 0.025199350354567517, 0.011454250161167053, 0.006872550096700232, 0.003436275048350116, 0.027490200386800927, 0.004581700064466821, 0.006872550096700232, 0.01947222527398399, 0.0022908500322334105, 0.004581700064466821, 0.011454250161167053, 0.011454250161167053, 0.01718137524175058, 0.020617650290100695, 0.3676814301734624, 0.008017975112816938, 0.0011454250161167052, 0.025199350354567517, 0.010308825145050347, 0.003436275048350116, 0.008017975112816938, 0.05039870070913503, 0.008017975112816938, 0.011454250161167053, 0.005727125080583526, 0.006872550096700232, 0.003436275048350116, 0.0022908500322334105, 0.006872550096700232, 0.005727125080583526, 0.003436275048350116, 0.026344775370684224, 0.009163400128933642, 0.021763075306217402, 0.005727125080583526, 0.006872550096700232, 0.0011454250161167052, 0.003436275048350116, 0.009163400128933642, 0.005727125080583526, 0.003436275048350116, 0.005727125080583526, 0.010308825145050347, 0.010308825145050347, 0.013745100193400464, 0.009163400128933642, 0.008017975112816938, 0.006872550096700232, 0.0011454250161167052, 0.003436275048350116, 0.0022908500322334105, 0.004581700064466821, 0.003436275048350116, 0.003436275048350116, 0.004581700064466821, 0.004581700064466821, 0.0022908500322334105, 0.003436275048350116, 0.0011454250161167052, 0.0011454250161167052, 0.0022908500322334105, 0.0011454250161167052, 0.003436275048350116, 0.0011454250161167052, 0.004581700064466821, 0.0011454250161167052, 0.0022908500322334105, 0.008017975112816938, 0.020488871042112788, 0.03512377892933621, 0.011707926309778736, 0.005853963154889368, 0.014634907887223419, 0.014634907887223419, 0.011707926309778736, 0.008780944732334052, 0.008780944732334052, 0.002926981577444684, 0.008780944732334052, 0.011707926309778736, 0.002926981577444684, 0.008780944732334052, 0.6556438733476092, 0.017561889464668103, 0.023415852619557472, 0.005853963154889368, 0.008780944732334052, 0.011707926309778736, 0.005853963154889368, 0.002926981577444684, 0.008780944732334052, 0.002926981577444684, 0.011707926309778736, 0.005853963154889368, 0.002926981577444684, 0.005853963154889368, 0.002926981577444684, 0.002926981577444684, 0.002926981577444684, 0.002926981577444684, 0.002926981577444684, 0.002926981577444684, 0.002926981577444684, 0.002926981577444684, 0.008780944732334052, 0.002926981577444684, 0.002926981577444684, 0.002926981577444684, 0.005853963154889368, 0.005853963154889368, 0.02331212824893638, 0.025902364721040422, 0.025902364721040422, 0.010360945888416169, 0.028492601193144465, 0.02331212824893638, 0.02331212824893638, 0.025902364721040422, 0.018131655304728295, 0.015541418832624254, 0.025902364721040422, 0.018131655304728295, 0.020721891776832337, 0.015541418832624254, 0.044034020025768714, 0.015541418832624254, 0.025902364721040422, 0.010360945888416169, 0.015541418832624254, 0.020721891776832337, 0.020721891776832337, 0.005180472944208084, 0.002590236472104042, 0.020721891776832337, 0.005180472944208084, 0.015541418832624254, 0.015541418832624254, 0.020721891776832337, 0.015541418832624254, 0.018131655304728295, 0.02331212824893638, 0.010360945888416169, 0.012951182360520211, 0.007770709416312127, 0.005180472944208084, 0.007770709416312127, 0.005180472944208084, 0.020721891776832337, 0.015541418832624254, 0.018131655304728295, 0.012951182360520211, 0.020721891776832337, 0.007770709416312127, 0.005180472944208084, 0.028492601193144465, 0.010360945888416169, 0.007770709416312127, 0.005180472944208084, 0.010360945888416169, 0.03367307413735255, 0.012951182360520211, 0.002590236472104042, 0.007770709416312127, 0.010360945888416169, 0.002590236472104042, 0.002590236472104042, 0.002590236472104042, 0.005180472944208084, 0.007770709416312127, 0.028492601193144465, 0.005180472944208084, 0.005180472944208084, 0.002590236472104042, 0.007770709416312127, 0.002590236472104042, 0.005180472944208084, 0.010360945888416169, 0.005180472944208084, 0.012951182360520211, 0.002590236472104042, 0.010360945888416169, 0.005075658918989084, 0.03552961243292359, 0.02537829459494542, 0.010151317837978168, 0.007613488378483625, 0.487263256222952, 0.010151317837978168, 0.017764806216461794, 0.01522697675696725, 0.007613488378483625, 0.010151317837978168, 0.007613488378483625, 0.02537829459494542, 0.005075658918989084, 0.02791612405443996, 0.03299178297342904, 0.01522697675696725, 0.005075658918989084, 0.005075658918989084, 0.005075658918989084, 0.005075658918989084, 0.01522697675696725, 0.007613488378483625, 0.01522697675696725, 0.005075658918989084, 0.007613488378483625, 0.005075658918989084, 0.002537829459494542, 0.007613488378483625, 0.010151317837978168, 0.007613488378483625, 0.005075658918989084, 0.002537829459494542, 0.007613488378483625, 0.007613488378483625, 0.010151317837978168, 0.005075658918989084, 0.01268914729747271, 0.03299178297342904, 0.007613488378483625, 0.002537829459494542, 0.002537829459494542, 0.01268914729747271, 0.002537829459494542, 0.002537829459494542, 0.002537829459494542, 0.002537829459494542, 0.005075658918989084, 0.007613488378483625, 0.005075658918989084, 0.002537829459494542, 0.002537829459494542, 0.002537829459494542, 0.002537829459494542, 0.005075658918989084, 0.0200178571747089, 0.01734880955141438, 0.01067619049317808, 0.02268690479800342, 0.0266904762329452, 0.02802500004459246, 0.00934166668153082, 0.00934166668153082, 0.00266904762329452, 0.395019048247589, 0.00266904762329452, 0.00533809524658904, 0.0533809524658904, 0.00533809524658904, 0.00800714286988356, 0.01467976192811986, 0.0200178571747089, 0.01734880955141438, 0.00400357143494178, 0.00133452381164726, 0.0133452381164726, 0.01067619049317808, 0.00400357143494178, 0.0066726190582363, 0.02535595242129794, 0.0066726190582363, 0.0066726190582363, 0.00266904762329452, 0.00400357143494178, 0.00400357143494178, 0.00934166668153082, 0.00800714286988356, 0.01601428573976712, 0.00400357143494178, 0.01601428573976712, 0.01067619049317808, 0.0266904762329452, 0.00800714286988356, 0.00400357143494178, 0.00400357143494178, 0.00800714286988356, 0.00934166668153082, 0.00400357143494178, 0.01201071430482534, 0.0066726190582363, 0.00133452381164726, 0.00133452381164726, 0.00266904762329452, 0.00133452381164726, 0.00133452381164726, 0.00133452381164726, 0.00133452381164726, 0.00400357143494178, 0.00133452381164726, 0.00400357143494178, 0.00133452381164726, 0.01201071430482534, 0.0333630952911815, 0.00133452381164726, 0.00266904762329452, 0.00133452381164726, 0.00266904762329452, 0.00133452381164726, 0.00133452381164726, 0.00266904762329452, 0.00133452381164726, 0.00133452381164726, 0.00533809524658904, 0.00400357143494178, 0.020796503783091322, 0.014854645559350944, 0.020796503783091322, 0.014854645559350944, 0.020796503783091322, 0.017825574671221135, 0.020796503783091322, 0.011883716447480755, 0.020796503783091322, 0.0029709291118701887, 0.005941858223740377, 0.014854645559350944, 0.008912787335610567, 0.02376743289496151, 0.008912787335610567, 0.014854645559350944, 0.008912787335610567, 0.014854645559350944, 0.005941858223740377, 0.014854645559350944, 0.005941858223740377, 0.008912787335610567, 0.008912787335610567, 0.014854645559350944, 0.0029709291118701887, 0.005941858223740377, 0.0029709291118701887, 0.005941858223740377, 0.005941858223740377, 0.5228835236891533, 0.005941858223740377, 0.005941858223740377, 0.0029709291118701887, 0.005941858223740377, 0.014854645559350944, 0.0029709291118701887, 0.0029709291118701887, 0.011883716447480755, 0.008912787335610567, 0.005941858223740377, 0.0029709291118701887, 0.0029709291118701887, 0.014854645559350944, 0.005941858223740377, 0.0029709291118701887, 0.005941858223740377, 0.0029709291118701887, 0.005941858223740377, 0.0029709291118701887, 0.06740032738274884, 0.007286521879216091, 0.021859565637648275, 0.007286521879216091, 0.0236811961074523, 0.0036432609396080456, 0.0036432609396080456, 0.6539653386596442, 0.007286521879216091, 0.005464891409412069, 0.0036432609396080456, 0.007286521879216091, 0.005464891409412069, 0.01275141328862816, 0.014573043758432182, 0.009108152349020114, 0.0018216304698040228, 0.0036432609396080456, 0.0036432609396080456, 0.01275141328862816, 0.0018216304698040228, 0.009108152349020114, 0.0018216304698040228, 0.0018216304698040228, 0.0018216304698040228, 0.01275141328862816, 0.007286521879216091, 0.009108152349020114, 0.0018216304698040228, 0.0018216304698040228, 0.0018216304698040228, 0.0018216304698040228, 0.010929782818824138, 0.0018216304698040228, 0.0018216304698040228, 0.0018216304698040228, 0.005464891409412069, 0.0018216304698040228, 0.0018216304698040228, 0.0036432609396080456, 0.0018216304698040228, 0.030967717986668388, 0.005464891409412069, 0.0018216304698040228, 0.0018216304698040228, 0.0018216304698040228, 0.015005553971075385, 0.017506479632921283, 0.015005553971075385, 0.022508330956613077, 0.007502776985537692, 0.005001851323691795, 0.017506479632921283, 0.015005553971075385, 0.015005553971075385, 0.012504628309229488, 0.017506479632921283, 0.02000740529476718, 0.005001851323691795, 0.015005553971075385, 0.007502776985537692, 0.01000370264738359, 0.005001851323691795, 0.012504628309229488, 0.005001851323691795, 0.007502776985537692, 0.005001851323691795, 0.01000370264738359, 0.007502776985537692, 0.005001851323691795, 0.012504628309229488, 0.005001851323691795, 0.01000370264738359, 0.005001851323691795, 0.005001851323691795, 0.007502776985537692, 0.007502776985537692, 0.01000370264738359, 0.0025009256618458973, 0.01000370264738359, 0.005001851323691795, 0.005001851323691795, 0.005001851323691795, 0.0025009256618458973, 0.005001851323691795, 0.0025009256618458973, 0.005001851323691795, 0.0025009256618458973, 0.32011848471627485, 0.0025009256618458973, 0.24759164052274385, 0.005001851323691795, 0.0025009256618458973, 0.007502776985537692, 0.005001851323691795, 0.0025009256618458973, 0.005001851323691795, 0.005001851323691795, 0.0025009256618458973, 0.0025009256618458973, 0.0025009256618458973, 0.0025009256618458973, 0.013096325126306202, 0.010477060101044962, 0.013096325126306202, 0.010477060101044962, 0.013096325126306202, 0.00785779507578372, 0.010477060101044962, 0.0026192650252612405, 0.01571559015156744, 0.01571559015156744, 0.00785779507578372, 0.005238530050522481, 0.005238530050522481, 0.00785779507578372, 0.0026192650252612405, 0.005238530050522481, 0.018334855176828684, 0.013096325126306202, 0.00785779507578372, 0.010477060101044962, 0.0026192650252612405, 0.005238530050522481, 0.00785779507578372, 0.005238530050522481, 0.0026192650252612405, 0.018334855176828684, 0.0026192650252612405, 0.0026192650252612405, 0.0026192650252612405, 0.0026192650252612405, 0.0026192650252612405, 0.005238530050522481, 0.0026192650252612405, 0.5631419804311667, 0.1492981064398907, 0.0026192650252612405, 0.0026192650252612405, 0.0026192650252612405, 0.005238530050522481, 0.005238530050522481, 0.0026192650252612405, 0.00785779507578372, 0.0026192650252612405, 0.007958517291528201, 0.018569873680232468, 0.010611356388704267, 0.0238755518745846, 0.010611356388704267, 0.015917034583056402, 0.015917034583056402, 0.018569873680232468, 0.018569873680232468, 0.013264195485880334, 0.015917034583056402, 0.0238755518745846, 0.002652839097176067, 0.015917034583056402, 0.002652839097176067, 0.010611356388704267, 0.015917034583056402, 0.007958517291528201, 0.010611356388704267, 0.013264195485880334, 0.010611356388704267, 0.018569873680232468, 0.007958517291528201, 0.010611356388704267, 0.013264195485880334, 0.007958517291528201, 0.013264195485880334, 0.010611356388704267, 0.002652839097176067, 0.010611356388704267, 0.007958517291528201, 0.002652839097176067, 0.010611356388704267, 0.005305678194352134, 0.007958517291528201, 0.010611356388704267, 0.007958517291528201, 0.002652839097176067, 0.007958517291528201, 0.007958517291528201, 0.002652839097176067, 0.005305678194352134, 0.005305678194352134, 0.43771845103405105, 0.007958517291528201, 0.002652839097176067, 0.010611356388704267, 0.002652839097176067, 0.002652839097176067, 0.0238755518745846, 0.002652839097176067, 0.005305678194352134, 0.002652839097176067, 0.002652839097176067, 0.002652839097176067, 0.002652839097176067, 0.002652839097176067, 0.002652839097176067, 0.005305678194352134, 0.007958517291528201, 0.002652839097176067, 0.005305678194352134, 0.005305678194352134, 0.026103492507624296, 0.020882794006099437, 0.02218796863148065, 0.019577619380718222, 0.016967270129955792, 0.02218796863148065, 0.015662095504574577, 0.020882794006099437, 0.026103492507624296, 0.019577619380718222, 0.016967270129955792, 0.02871384175838673, 0.02479831788224308, 0.016967270129955792, 0.016967270129955792, 0.014356920879193364, 0.014356920879193364, 0.016967270129955792, 0.014356920879193364, 0.014356920879193364, 0.015662095504574577, 0.015662095504574577, 0.013051746253812148, 0.014356920879193364, 0.033934540259911584, 0.015662095504574577, 0.016967270129955792, 0.007831047752287289, 0.014356920879193364, 0.016967270129955792, 0.014356920879193364, 0.018272444755337007, 0.018272444755337007, 0.013051746253812148, 0.007831047752287289, 0.005220698501524859, 0.007831047752287289, 0.013051746253812148, 0.010441397003049718, 0.010441397003049718, 0.011746571628430933, 0.006525873126906074, 0.019577619380718222, 0.007831047752287289, 0.010441397003049718, 0.007831047752287289, 0.027408667133005514, 0.018272444755337007, 0.005220698501524859, 0.011746571628430933, 0.007831047752287289, 0.013051746253812148, 0.007831047752287289, 0.010441397003049718, 0.014356920879193364, 0.011746571628430933, 0.011746571628430933, 0.026103492507624296, 0.005220698501524859, 0.013051746253812148, 0.005220698501524859, 0.009136222377668504, 0.006525873126906074, 0.005220698501524859, 0.0026103492507624296, 0.003915523876143644, 0.0026103492507624296, 0.003915523876143644, 0.0026103492507624296, 0.005220698501524859, 0.003915523876143644, 0.005220698501524859, 0.005220698501524859, 0.003915523876143644, 0.003915523876143644, 0.0026103492507624296, 0.003915523876143644, 0.0026103492507624296, 0.0025316127889327277, 0.0025316127889327277, 0.0025316127889327277, 0.02025290231146182, 0.005063225577865455, 0.6885986785897019, 0.0075948383667981826, 0.03037935346719273, 0.0025316127889327277, 0.005063225577865455, 0.01012645115573091, 0.0075948383667981826, 0.005063225577865455, 0.005063225577865455, 0.0025316127889327277, 0.0075948383667981826, 0.0025316127889327277, 0.0025316127889327277, 0.01012645115573091, 0.0025316127889327277, 0.012658063944663638, 0.017721289522529094, 0.012658063944663638, 0.0025316127889327277, 0.0025316127889327277, 0.005063225577865455, 0.0025316127889327277, 0.005063225577865455, 0.015189676733596365, 0.005063225577865455, 0.0025316127889327277, 0.0025316127889327277, 0.0025316127889327277, 0.0025316127889327277, 0.0025316127889327277, 0.0025316127889327277, 0.0025316127889327277, 0.005063225577865455, 0.0025316127889327277, 0.0025316127889327277, 0.0025316127889327277, 0.0025316127889327277, 0.0075948383667981826, 0.017721289522529094, 0.0075948383667981826, 0.0075948383667981826, 0.0025316127889327277, 0.005063225577865455, 0.008888744368271724, 0.005333246620963035, 0.00711099549461738, 0.012444242115580414, 0.01422199098923476, 0.001777748873654345, 0.012444242115580414, 0.01777748873654345, 0.012444242115580414, 0.5351024109699578, 0.00711099549461738, 0.005333246620963035, 0.01777748873654345, 0.00355549774730869, 0.008888744368271724, 0.03199947972577821, 0.00355549774730869, 0.001777748873654345, 0.01422199098923476, 0.008888744368271724, 0.023110735357506487, 0.012444242115580414, 0.00355549774730869, 0.00711099549461738, 0.001777748873654345, 0.00355549774730869, 0.01066649324192607, 0.008888744368271724, 0.008888744368271724, 0.005333246620963035, 0.00355549774730869, 0.00355549774730869, 0.001777748873654345, 0.008888744368271724, 0.001777748873654345, 0.012444242115580414, 0.001777748873654345, 0.012444242115580414, 0.00711099549461738, 0.015999739862889106, 0.001777748873654345, 0.00711099549461738, 0.001777748873654345, 0.001777748873654345, 0.001777748873654345, 0.001777748873654345, 0.005333246620963035, 0.01422199098923476, 0.001777748873654345, 0.00711099549461738, 0.01777748873654345, 0.001777748873654345, 0.001777748873654345, 0.001777748873654345, 0.001777748873654345, 0.001777748873654345, 0.00355549774730869, 0.00711099549461738, 0.001777748873654345, 0.005333246620963035, 0.00355549774730869, 0.01422199098923476, 0.001777748873654345, 0.0038556946794637056, 0.007711389358927411, 0.0038556946794637056, 0.02891771009597779, 0.007711389358927411, 0.0038556946794637056, 0.02891771009597779, 0.007711389358927411, 0.023134168076782233, 0.0019278473397318528, 0.7036642790021262, 0.0019278473397318528, 0.017350626057586676, 0.0019278473397318528, 0.023134168076782233, 0.0019278473397318528, 0.0038556946794637056, 0.0019278473397318528, 0.0019278473397318528, 0.0019278473397318528, 0.0019278473397318528, 0.005783542019195558, 0.0019278473397318528, 0.0019278473397318528, 0.0038556946794637056, 0.005783542019195558, 0.0038556946794637056, 0.0038556946794637056, 0.011567084038391117, 0.0019278473397318528, 0.0019278473397318528, 0.0019278473397318528, 0.0019278473397318528, 0.0019278473397318528, 0.0019278473397318528, 0.0019278473397318528, 0.04048479413436891, 0.0019278473397318528, 0.0019278473397318528, 0.0019278473397318528, 0.0019278473397318528, 0.0019278473397318528, 0.0038556946794637056, 0.0038556946794637056, 0.0019278473397318528, 0.0019278473397318528, 0.0038556946794637056, 0.8403755345399379, 0.03795244349535203, 0.002710888821096574, 0.002710888821096574, 0.002710888821096574, 0.03795244349535203, 0.005421777642193148, 0.005421777642193148, 0.016265332926579442, 0.002710888821096574, 0.002710888821096574, 0.002710888821096574, 0.002710888821096574, 0.002710888821096574, 0.002710888821096574, 0.002710888821096574, 0.002710888821096574, 0.002710888821096574, 0.002710888821096574, 0.015140501730821376, 0.017893320227334353, 0.02064613872384733, 0.017893320227334353, 0.016516910979077867, 0.017893320227334353, 0.02202254797210382, 0.012387683234308399, 0.016516910979077867, 0.013764092482564888, 0.019269729475590844, 0.008258455489538933, 0.019269729475590844, 0.012387683234308399, 0.01101127398605191, 0.017893320227334353, 0.016516910979077867, 0.016516910979077867, 0.01101127398605191, 0.012387683234308399, 0.02202254797210382, 0.013764092482564888, 0.006882046241282444, 0.009634864737795422, 0.008258455489538933, 0.01101127398605191, 0.012387683234308399, 0.017893320227334353, 0.012387683234308399, 0.012387683234308399, 0.01101127398605191, 0.013764092482564888, 0.01101127398605191, 0.016516910979077867, 0.012387683234308399, 0.006882046241282444, 0.009634864737795422, 0.008258455489538933, 0.013764092482564888, 0.012387683234308399, 0.01101127398605191, 0.009634864737795422, 0.008258455489538933, 0.01101127398605191, 0.006882046241282444, 0.005505636993025955, 0.02064613872384733, 0.012387683234308399, 0.01101127398605191, 0.006882046241282444, 0.006882046241282444, 0.006882046241282444, 0.16516910979077865, 0.013764092482564888, 0.0027528184965129776, 0.0027528184965129776, 0.0013764092482564888, 0.0027528184965129776, 0.027528184965129775, 0.009634864737795422, 0.004129227744769467, 0.023398957220360308, 0.023398957220360308, 0.0027528184965129776, 0.0013764092482564888, 0.0027528184965129776, 0.0027528184965129776, 0.004129227744769467, 0.0027528184965129776, 0.0027528184965129776, 0.0013764092482564888, 0.004129227744769467, 0.0027528184965129776, 0.0027528184965129776, 0.0027528184965129776, 0.004129227744769467, 0.0027528184965129776, 0.006882046241282444, 0.004129227744769467, 0.018118240448001446, 0.07649923744711722, 0.02214451610311288, 0.012078826965334298, 0.004026275655111432, 0.018118240448001446, 0.008052551310222865, 0.010065689137778581, 0.006039413482667149, 0.014091964792890014, 0.01610510262044573, 0.01610510262044573, 0.002013137827555716, 0.018118240448001446, 0.008052551310222865, 0.018118240448001446, 0.012078826965334298, 0.014091964792890014, 0.010065689137778581, 0.008052551310222865, 0.002013137827555716, 0.006039413482667149, 0.020131378275557162, 0.004026275655111432, 0.006039413482667149, 0.010065689137778581, 0.014091964792890014, 0.010065689137778581, 0.008052551310222865, 0.004026275655111432, 0.008052551310222865, 0.004026275655111432, 0.004026275655111432, 0.01610510262044573, 0.002013137827555716, 0.020131378275557162, 0.006039413482667149, 0.002013137827555716, 0.006039413482667149, 0.012078826965334298, 0.006039413482667149, 0.004026275655111432, 0.004026275655111432, 0.004026275655111432, 0.002013137827555716, 0.006039413482667149, 0.01610510262044573, 0.002013137827555716, 0.36639108461514036, 0.002013137827555716, 0.004026275655111432, 0.002013137827555716, 0.006039413482667149, 0.002013137827555716, 0.010065689137778581, 0.002013137827555716, 0.006039413482667149, 0.002013137827555716, 0.004026275655111432, 0.002013137827555716, 0.002013137827555716, 0.004026275655111432, 0.006039413482667149, 0.004026275655111432, 0.008052551310222865, 0.004026275655111432, 0.03623648089600289, 0.002013137827555716, 0.004026275655111432, 0.021444254380946066, 0.040207976964273875, 0.0053610635952365164, 0.008041595392854775, 0.013402658988091292, 0.008041595392854775, 0.0026805317976182582, 0.0053610635952365164, 0.0026805317976182582, 0.01876372258332781, 0.008041595392854775, 0.008041595392854775, 0.0053610635952365164, 0.008041595392854775, 0.008041595392854775, 0.010722127190473033, 0.0053610635952365164, 0.0053610635952365164, 0.0053610635952365164, 0.008041595392854775, 0.0026805317976182582, 0.008041595392854775, 0.008041595392854775, 0.0026805317976182582, 0.013402658988091292, 0.0026805317976182582, 0.6218833770474359, 0.0053610635952365164, 0.0026805317976182582, 0.0026805317976182582, 0.05361063595236517, 0.0321663815714191, 0.008041595392854775, 0.0026805317976182582, 0.0026805317976182582, 0.0026805317976182582, 0.0026805317976182582, 0.0026805317976182582, 0.0053610635952365164, 0.0026805317976182582, 0.008041595392854775, 0.008287252686888857, 0.02486175806066657, 0.005524835124592571, 0.008287252686888857, 0.03314901074755543, 0.005524835124592571, 0.011049670249185142, 0.01381208781148143, 0.04696109855903686, 0.022099340498370285, 0.0027624175622962856, 0.005524835124592571, 0.02486175806066657, 0.005524835124592571, 0.008287252686888857, 0.005524835124592571, 0.0027624175622962856, 0.008287252686888857, 0.01381208781148143, 0.04972351612133314, 0.005524835124592571, 0.016574505373777713, 0.011049670249185142, 0.005524835124592571, 0.022099340498370285, 0.005524835124592571, 0.0027624175622962856, 0.005524835124592571, 0.0027624175622962856, 0.005524835124592571, 0.0027624175622962856, 0.008287252686888857, 0.0027624175622962856, 0.49723516121333144, 0.005524835124592571, 0.005524835124592571, 0.0027624175622962856, 0.0027624175622962856, 0.0027624175622962856, 0.005524835124592571, 0.0027624175622962856, 0.011049670249185142, 0.0027624175622962856, 0.005524835124592571, 0.0027624175622962856, 0.0027624175622962856, 0.005524835124592571, 0.011049670249185142, 0.005524835124592571, 0.0027624175622962856, 0.005524835124592571, 0.0027624175622962856, 0.005524835124592571, 0.005524835124592571, 0.027364994048562734, 0.022804161707135614, 0.013682497024281367, 0.025084577877849172, 0.020523745536422052, 0.013682497024281367, 0.029645410219276296, 0.01824332936570849, 0.011402080853567807, 0.013682497024281367, 0.020523745536422052, 0.027364994048562734, 0.020523745536422052, 0.020523745536422052, 0.011402080853567807, 0.01596291319499493, 0.01824332936570849, 0.01596291319499493, 0.020523745536422052, 0.01824332936570849, 0.025084577877849172, 0.011402080853567807, 0.0022804161707135613, 0.020523745536422052, 0.020523745536422052, 0.011402080853567807, 0.027364994048562734, 0.011402080853567807, 0.020523745536422052, 0.01596291319499493, 0.01824332936570849, 0.020523745536422052, 0.011402080853567807, 0.009121664682854245, 0.0068412485121406835, 0.011402080853567807, 0.009121664682854245, 0.004560832341427123, 0.07525373363354752, 0.01824332936570849, 0.01596291319499493, 0.004560832341427123, 0.01596291319499493, 0.009121664682854245, 0.01824332936570849, 0.009121664682854245, 0.020523745536422052, 0.013682497024281367, 0.004560832341427123, 0.011402080853567807, 0.011402080853567807, 0.020523745536422052, 0.0022804161707135613, 0.009121664682854245, 0.01596291319499493, 0.004560832341427123, 0.0022804161707135613, 0.0022804161707135613, 0.0022804161707135613, 0.004560832341427123, 0.0022804161707135613, 0.0022804161707135613, 0.0022804161707135613, 0.0022804161707135613, 0.0022804161707135613, 0.004560832341427123, 0.0022804161707135613, 0.004560832341427123, 0.0022804161707135613, 0.0068412485121406835, 0.004560832341427123, 0.0022804161707135613, 0.004560832341427123, 0.004560832341427123, 0.004560832341427123, 0.0022804161707135613, 0.01934795187888257, 0.03274268779503204, 0.023812863850932394, 0.0059532159627330985, 0.0074415199534163725, 0.013394735916149472, 0.0074415199534163725, 0.010418127934782922, 0.004464911972049824, 0.004464911972049824, 0.010418127934782922, 0.01637134389751602, 0.1756198709006264, 0.010418127934782922, 0.004464911972049824, 0.0029766079813665493, 0.0059532159627330985, 0.0014883039906832746, 0.023812863850932394, 0.0059532159627330985, 0.010418127934782922, 0.363146173726719, 0.020836255869565844, 0.0029766079813665493, 0.0029766079813665493, 0.0014883039906832746, 0.008929823944099647, 0.011906431925466197, 0.02232455986024912, 0.0014883039906832746, 0.0014883039906832746, 0.0014883039906832746, 0.0059532159627330985, 0.0059532159627330985, 0.0014883039906832746, 0.0074415199534163725, 0.013394735916149472, 0.0074415199534163725, 0.0014883039906832746, 0.0029766079813665493, 0.010418127934782922, 0.004464911972049824, 0.0014883039906832746, 0.0014883039906832746, 0.008929823944099647, 0.0014883039906832746, 0.008929823944099647, 0.004464911972049824, 0.0029766079813665493, 0.0014883039906832746, 0.0029766079813665493, 0.0014883039906832746, 0.0014883039906832746, 0.004464911972049824, 0.0014883039906832746, 0.0014883039906832746, 0.004464911972049824, 0.010418127934782922, 0.010418127934782922, 0.0059532159627330985, 0.008929823944099647, 0.0074415199534163725, 0.004464911972049824, 0.0014883039906832746, 0.0029766079813665493, 0.018494440429229854, 0.023118050536537316, 0.018494440429229854, 0.01618263537557612, 0.01387083032192239, 0.011559025268268658, 0.0046236101073074635, 0.020806245482883585, 0.01618263537557612, 0.01387083032192239, 0.009247220214614927, 0.01387083032192239, 0.006935415160961195, 0.011559025268268658, 0.006935415160961195, 0.01387083032192239, 0.006935415160961195, 0.0023118050536537317, 0.009247220214614927, 0.0023118050536537317, 0.009247220214614927, 0.011559025268268658, 0.0023118050536537317, 0.009247220214614927, 0.011559025268268658, 0.0046236101073074635, 0.006935415160961195, 0.006935415160961195, 0.006935415160961195, 0.0023118050536537317, 0.0046236101073074635, 0.0023118050536537317, 0.5386505775013195, 0.0023118050536537317, 0.009247220214614927, 0.006935415160961195, 0.0023118050536537317, 0.0046236101073074635, 0.011559025268268658, 0.0046236101073074635, 0.0023118050536537317, 0.0023118050536537317, 0.009247220214614927, 0.0046236101073074635, 0.0046236101073074635, 0.0023118050536537317, 0.009247220214614927, 0.0023118050536537317, 0.0023118050536537317, 0.0023118050536537317, 0.0023118050536537317, 0.030053465697498512, 0.0023118050536537317, 0.0023118050536537317, 0.0023118050536537317, 0.0046236101073074635, 0.0023118050536537317, 0.0023118050536537317, 0.0023118050536537317, 0.0023118050536537317, 0.0023118050536537317, 0.024856447946217827, 0.014913868767730695, 0.01988515835697426, 0.01325677223798284, 0.01657096529747855, 0.02319935141646997, 0.01325677223798284, 0.024856447946217827, 0.00994257917848713, 0.038113220184200665, 0.00994257917848713, 0.021542254886722116, 0.01657096529747855, 0.011599675708234985, 0.021542254886722116, 0.014913868767730695, 0.01657096529747855, 0.014913868767730695, 0.004971289589243565, 0.00994257917848713, 0.004971289589243565, 0.01657096529747855, 0.001657096529747855, 0.008285482648739274, 0.01325677223798284, 0.008285482648739274, 0.008285482648739274, 0.011599675708234985, 0.00331419305949571, 0.011599675708234985, 0.00331419305949571, 0.01325677223798284, 0.00662838611899142, 0.00994257917848713, 0.00331419305949571, 0.004971289589243565, 0.008285482648739274, 0.00662838611899142, 0.00662838611899142, 0.00662838611899142, 0.021542254886722116, 0.01325677223798284, 0.008285482648739274, 0.00662838611899142, 0.008285482648739274, 0.00994257917848713, 0.008285482648739274, 0.008285482648739274, 0.00331419305949571, 0.001657096529747855, 0.00331419305949571, 0.00331419305949571, 0.008285482648739274, 0.00994257917848713, 0.2933060857653703, 0.004971289589243565, 0.014913868767730695, 0.00331419305949571, 0.001657096529747855, 0.01657096529747855, 0.00331419305949571, 0.00331419305949571, 0.00331419305949571, 0.00331419305949571, 0.004971289589243565, 0.00331419305949571, 0.004971289589243565, 0.00331419305949571, 0.004971289589243565, 0.00331419305949571, 0.004971289589243565, 0.00662838611899142, 0.001657096529747855, 0.00331419305949571, 0.03207403890050855, 0.024437362971816038, 0.01985535741460053, 0.024437362971816038, 0.01832802222886203, 0.021382692600339034, 0.024437362971816038, 0.01985535741460053, 0.02596469815755454, 0.013746016671646521, 0.022910027786077536, 0.01832802222886203, 0.021382692600339034, 0.012218681485908019, 0.013746016671646521, 0.024437362971816038, 0.015273351857385023, 0.027492033343293042, 0.021382692600339034, 0.024437362971816038, 0.029019368529031545, 0.010691346300169517, 0.004582005557215507, 0.016800687043123527, 0.010691346300169517, 0.007636675928692512, 0.012218681485908019, 0.021382692600339034, 0.016800687043123527, 0.022910027786077536, 0.010691346300169517, 0.013746016671646521, 0.012218681485908019, 0.012218681485908019, 0.015273351857385023, 0.015273351857385023, 0.016800687043123527, 0.012218681485908019, 0.013746016671646521, 0.015273351857385023, 0.013746016671646521, 0.0061093407429540095, 0.007636675928692512, 0.012218681485908019, 0.016800687043123527, 0.010691346300169517, 0.015273351857385023, 0.022910027786077536, 0.01832802222886203, 0.009164011114431015, 0.0015273351857385024, 0.007636675928692512, 0.004582005557215507, 0.007636675928692512, 0.010691346300169517, 0.009164011114431015, 0.007636675928692512, 0.0061093407429540095, 0.004582005557215507, 0.0015273351857385024, 0.004582005557215507, 0.0061093407429540095, 0.0061093407429540095, 0.009164011114431015, 0.0061093407429540095, 0.0030546703714770048, 0.004582005557215507, 0.0030546703714770048, 0.004582005557215507, 0.004582005557215507, 0.004582005557215507, 0.0015273351857385024, 0.004582005557215507, 0.0030546703714770048, 0.0030546703714770048, 0.0030546703714770048, 0.004582005557215507, 0.004582005557215507, 0.0015273351857385024, 0.0030546703714770048, 0.14459582180171446, 0.06530133887819363, 0.002332190674221201, 0.002332190674221201, 0.002332190674221201, 0.002332190674221201, 0.6670065328272634, 0.002332190674221201, 0.004664381348442402, 0.02098971606799081, 0.002332190674221201, 0.002332190674221201, 0.002332190674221201, 0.002332190674221201, 0.002332190674221201, 0.002332190674221201, 0.002332190674221201, 0.002332190674221201, 0.011660953371106005, 0.002332190674221201, 0.009328762696884804, 0.002332190674221201, 0.004664381348442402, 0.002332190674221201, 0.002332190674221201, 0.002332190674221201, 0.013993144045327206, 0.002332190674221201, 0.002332190674221201, 0.009413047342081484, 0.012550729789441979, 0.0031376824473604947, 0.010981888565761731, 0.018826094684162967, 0.0031376824473604947, 0.0031376824473604947, 0.0015688412236802474, 0.006275364894720989, 0.0031376824473604947, 0.0031376824473604947, 0.006275364894720989, 0.009413047342081484, 0.0015688412236802474, 0.021963777131523463, 0.01725725346048272, 0.6291053306957791, 0.015688412236802472, 0.006275364894720989, 0.004706523671040742, 0.004706523671040742, 0.004706523671040742, 0.010981888565761731, 0.01725725346048272, 0.0015688412236802474, 0.004706523671040742, 0.0015688412236802474, 0.01725725346048272, 0.007844206118401236, 0.0015688412236802474, 0.0015688412236802474, 0.0015688412236802474, 0.0031376824473604947, 0.0031376824473604947, 0.007844206118401236, 0.0015688412236802474, 0.0015688412236802474, 0.004706523671040742, 0.0015688412236802474, 0.015688412236802472, 0.0015688412236802474, 0.0015688412236802474, 0.06432249017089013, 0.0031376824473604947, 0.0015688412236802474, 0.004706523671040742, 0.0015688412236802474, 0.0015688412236802474, 0.007844206118401236, 0.0015688412236802474, 0.0031376824473604947, 0.0015688412236802474, 0.006033077261580861, 0.012066154523161721, 0.015082693153952153, 0.0030165386307904303, 0.033181924938694735, 0.0030165386307904303, 0.006033077261580861, 0.015082693153952153, 0.018099231784742584, 0.006033077261580861, 0.0030165386307904303, 0.6636384987738947, 0.0030165386307904303, 0.015082693153952153, 0.012066154523161721, 0.0030165386307904303, 0.006033077261580861, 0.021115770415533013, 0.006033077261580861, 0.006033077261580861, 0.009049615892371292, 0.0030165386307904303, 0.009049615892371292, 0.006033077261580861, 0.012066154523161721, 0.006033077261580861, 0.0030165386307904303, 0.0030165386307904303, 0.006033077261580861, 0.009049615892371292, 0.0030165386307904303, 0.006033077261580861, 0.0030165386307904303, 0.0030165386307904303, 0.006033077261580861, 0.0030165386307904303, 0.0030165386307904303, 0.0030165386307904303, 0.0030165386307904303, 0.0030165386307904303, 0.0030165386307904303, 0.0030165386307904303, 0.012066154523161721, 0.0030165386307904303, 0.006033077261580861, 0.0030165386307904303, 0.0030165386307904303, 0.0030165386307904303, 0.0030165386307904303, 0.006056232138685669, 0.10497469040388492, 0.6904104638101662, 0.006056232138685669, 0.0020187440462285564, 0.004037488092457113, 0.004037488092457113, 0.004037488092457113, 0.04643111306325679, 0.004037488092457113, 0.0020187440462285564, 0.006056232138685669, 0.030281160693428344, 0.0020187440462285564, 0.0020187440462285564, 0.0020187440462285564, 0.004037488092457113, 0.004037488092457113, 0.004037488092457113, 0.0020187440462285564, 0.004037488092457113, 0.0020187440462285564, 0.0020187440462285564, 0.0020187440462285564, 0.0020187440462285564, 0.024224928554742675, 0.0020187440462285564, 0.0020187440462285564, 0.0020187440462285564, 0.004037488092457113, 0.0020187440462285564, 0.004037488092457113, 0.004037488092457113, 0.0020187440462285564, 0.006900292405485739, 0.006900292405485739, 0.0034501462027428697, 0.006900292405485739, 0.005175219304114304, 0.0017250731013714348, 0.005175219304114304, 0.010350438608228608, 0.006900292405485739, 0.005175219304114304, 0.006900292405485739, 0.005175219304114304, 0.0017250731013714348, 0.005175219304114304, 0.006900292405485739, 0.006900292405485739, 0.005175219304114304, 0.6986546060554311, 0.0017250731013714348, 0.010350438608228608, 0.006900292405485739, 0.0017250731013714348, 0.0034501462027428697, 0.015525657912342913, 0.0034501462027428697, 0.008625365506857174, 0.013800584810971479, 0.0034501462027428697, 0.0017250731013714348, 0.0017250731013714348, 0.0034501462027428697, 0.010350438608228608, 0.0017250731013714348, 0.006900292405485739, 0.0034501462027428697, 0.005175219304114304, 0.0741781433589717, 0.0017250731013714348, 0.0017250731013714348, 0.0017250731013714348, 0.0017250731013714348, 0.0017250731013714348, 0.0017250731013714348, 0.0017250731013714348, 0.0017250731013714348, 0.0017250731013714348, 0.0017250731013714348, 0.0034501462027428697, 0.01906482091235983, 0.007149307842134936, 0.007149307842134936, 0.009532410456179915, 0.009532410456179915, 0.007149307842134936, 0.028597231368539745, 0.0023831026140449787, 0.0023831026140449787, 0.7578266312663032, 0.004766205228089957, 0.007149307842134936, 0.004766205228089957, 0.0023831026140449787, 0.009532410456179915, 0.014298615684269872, 0.0023831026140449787, 0.004766205228089957, 0.0023831026140449787, 0.0023831026140449787, 0.0023831026140449787, 0.009532410456179915, 0.0023831026140449787, 0.0023831026140449787, 0.0023831026140449787, 0.007149307842134936, 0.011915513070224894, 0.0023831026140449787, 0.0023831026140449787, 0.0023831026140449787, 0.004766205228089957, 0.007149307842134936, 0.0023831026140449787, 0.009532410456179915, 0.004766205228089957, 0.0023831026140449787, 0.009532410456179915, 0.0023831026140449787, 0.0023831026140449787, 0.0023831026140449787, 0.027437806238377077, 0.016767548256785992, 0.016767548256785992, 0.02591348366957835, 0.0228648385319809, 0.02134051596318217, 0.018291870825584717, 0.019816193394383445, 0.018291870825584717, 0.015243225687987265, 0.02134051596318217, 0.012194580550389812, 0.016767548256785992, 0.010670257981591085, 0.015243225687987265, 0.019816193394383445, 0.02134051596318217, 0.016767548256785992, 0.012194580550389812, 0.010670257981591085, 0.016767548256785992, 0.012194580550389812, 0.0228648385319809, 0.013718903119188539, 0.015243225687987265, 0.009145935412792358, 0.010670257981591085, 0.018291870825584717, 0.019816193394383445, 0.012194580550389812, 0.024389161100779624, 0.013718903119188539, 0.013718903119188539, 0.013718903119188539, 0.019816193394383445, 0.009145935412792358, 0.006097290275194906, 0.010670257981591085, 0.019816193394383445, 0.009145935412792358, 0.010670257981591085, 0.007621612843993633, 0.012194580550389812, 0.007621612843993633, 0.009145935412792358, 0.027437806238377077, 0.010670257981591085, 0.010670257981591085, 0.0015243225687987265, 0.004572967706396179, 0.009145935412792358, 0.015243225687987265, 0.018291870825584717, 0.0228648385319809, 0.004572967706396179, 0.016767548256785992, 0.02134051596318217, 0.0518269673391567, 0.0015243225687987265, 0.012194580550389812, 0.016767548256785992, 0.004572967706396179, 0.003048645137597453, 0.003048645137597453, 0.003048645137597453, 0.004572967706396179, 0.003048645137597453, 0.003048645137597453, 0.0015243225687987265, 0.003048645137597453, 0.003048645137597453, 0.006097290275194906, 0.004572967706396179, 0.003048645137597453, 0.003048645137597453, 0.003048645137597453, 0.003048645137597453, 0.024571026883943838, 0.022337297167221673, 0.017869837733777337, 0.024571026883943838, 0.017869837733777337, 0.022337297167221673, 0.017869837733777337, 0.020103567450499505, 0.029038486317388174, 0.024571026883943838, 0.020103567450499505, 0.020103567450499505, 0.024571026883943838, 0.011168648583610837, 0.013402378300333003, 0.026804756600666006, 0.013402378300333003, 0.013402378300333003, 0.008934918866888669, 0.017869837733777337, 0.020103567450499505, 0.01563610801705517, 0.004467459433444334, 0.011168648583610837, 0.013402378300333003, 0.013402378300333003, 0.013402378300333003, 0.01563610801705517, 0.008934918866888669, 0.013402378300333003, 0.017869837733777337, 0.013402378300333003, 0.011168648583610837, 0.024571026883943838, 0.011168648583610837, 0.004467459433444334, 0.024571026883943838, 0.006701189150166501, 0.013402378300333003, 0.017869837733777337, 0.006701189150166501, 0.008934918866888669, 0.01563610801705517, 0.008934918866888669, 0.01563610801705517, 0.004467459433444334, 0.020103567450499505, 0.01563610801705517, 0.006701189150166501, 0.013402378300333003, 0.011168648583610837, 0.006701189150166501, 0.05807697263477635, 0.011168648583610837, 0.002233729716722167, 0.022337297167221673, 0.013402378300333003, 0.002233729716722167, 0.002233729716722167, 0.011168648583610837, 0.013402378300333003, 0.004467459433444334, 0.002233729716722167, 0.004467459433444334, 0.004467459433444334, 0.004467459433444334, 0.002233729716722167, 0.006701189150166501, 0.004467459433444334, 0.002233729716722167, 0.002233729716722167, 0.004467459433444334, 0.006701189150166501, 0.006701189150166501, 0.004467459433444334, 0.008934918866888669, 0.016640061337305157, 0.029120107340284026, 0.023573420227848974, 0.016640061337305157, 0.016640061337305157, 0.023573420227848974, 0.019413404893522685, 0.016640061337305157, 0.03050677911839279, 0.019413404893522685, 0.015253389559196395, 0.01802673311541392, 0.029120107340284026, 0.01802673311541392, 0.013866717781087633, 0.011093374224870107, 0.023573420227848974, 0.011093374224870107, 0.011093374224870107, 0.016640061337305157, 0.01802673311541392, 0.013866717781087633, 0.019413404893522685, 0.015253389559196395, 0.015253389559196395, 0.009706702446761343, 0.024960092005957737, 0.019413404893522685, 0.009706702446761343, 0.0263467637840665, 0.015253389559196395, 0.029120107340284026, 0.012480046002978869, 0.013866717781087633, 0.008320030668652579, 0.004160015334326289, 0.006933358890543816, 0.01802673311541392, 0.008320030668652579, 0.013866717781087633, 0.009706702446761343, 0.03050677911839279, 0.013866717781087633, 0.008320030668652579, 0.004160015334326289, 0.01802673311541392, 0.019413404893522685, 0.013866717781087633, 0.016640061337305157, 0.004160015334326289, 0.008320030668652579, 0.0263467637840665, 0.009706702446761343, 0.005546687112435053, 0.004160015334326289, 0.005546687112435053, 0.006933358890543816, 0.004160015334326289, 0.004160015334326289, 0.0013866717781087633, 0.03882680978704537, 0.004160015334326289, 0.0027733435562175266, 0.0013866717781087633, 0.0027733435562175266, 0.004160015334326289, 0.005546687112435053, 0.0013866717781087633, 0.0013866717781087633, 0.006933358890543816, 0.0013866717781087633, 0.008320030668652579, 0.005546687112435053, 0.006933358890543816, 0.004160015334326289, 0.004160015334326289, 0.0027733435562175266, 0.004160015334326289, 0.00951598455648371, 0.017445971686886802, 0.01903196911296742, 0.007929987130403092, 0.004757992278241855, 0.007929987130403092, 0.014273976834725565, 0.012687979408644946, 0.004757992278241855, 0.011101981982564329, 0.02696195624337051, 0.004757992278241855, 0.006343989704322473, 0.034891943373773604, 0.012687979408644946, 0.006343989704322473, 0.012687979408644946, 0.017445971686886802, 0.023789961391209275, 0.004757992278241855, 0.004757992278241855, 0.0015859974260806183, 0.015859974260806185, 0.0015859974260806183, 0.011101981982564329, 0.011101981982564329, 0.004757992278241855, 0.0031719948521612366, 0.004757992278241855, 0.004757992278241855, 0.004757992278241855, 0.011101981982564329, 0.0031719948521612366, 0.02854795366945113, 0.004757992278241855, 0.3457474388855748, 0.007929987130403092, 0.007929987130403092, 0.004757992278241855, 0.0031719948521612366, 0.004757992278241855, 0.007929987130403092, 0.0015859974260806183, 0.00951598455648371, 0.0015859974260806183, 0.004757992278241855, 0.1823897039992711, 0.004757992278241855, 0.0015859974260806183, 0.0015859974260806183, 0.0031719948521612366, 0.0031719948521612366, 0.0015859974260806183, 0.0015859974260806183, 0.006343989704322473, 0.004757992278241855, 0.0015859974260806183, 0.0015859974260806183, 0.0015859974260806183, 0.0015859974260806183, 0.0031719948521612366, 0.0031719948521612366, 0.004757992278241855, 0.013826767951116257, 0.024888182312009264, 0.030418889492455768, 0.01659212154133951, 0.01659212154133951, 0.011061414360893007, 0.013826767951116257, 0.022122828721786014, 0.011061414360893007, 0.011061414360893007, 0.008296060770669755, 0.022122828721786014, 0.013826767951116257, 0.01659212154133951, 0.011061414360893007, 0.011061414360893007, 0.005530707180446503, 0.0027653535902232517, 0.011061414360893007, 0.0027653535902232517, 0.005530707180446503, 0.0027653535902232517, 0.005530707180446503, 0.01659212154133951, 0.008296060770669755, 0.0027653535902232517, 0.013826767951116257, 0.027653535902232514, 0.008296060770669755, 0.0027653535902232517, 0.005530707180446503, 0.005530707180446503, 0.008296060770669755, 0.005530707180446503, 0.0027653535902232517, 0.011061414360893007, 0.008296060770669755, 0.008296060770669755, 0.011061414360893007, 0.011061414360893007, 0.013826767951116257, 0.0027653535902232517, 0.008296060770669755, 0.005530707180446503, 0.0027653535902232517, 0.0027653535902232517, 0.005530707180446503, 0.4452219280259435, 0.0027653535902232517, 0.0027653535902232517, 0.008296060770669755, 0.0027653535902232517, 0.008296060770669755, 0.0027653535902232517, 0.0027653535902232517, 0.0027653535902232517, 0.005530707180446503, 0.0027653535902232517, 0.005530707180446503, 0.005530707180446503, 0.005530707180446503, 0.0027653535902232517, 0.0027653535902232517, 0.022319035089499575, 0.019275530304567814, 0.016232025519636054, 0.013188520734704294, 0.020290031899545067, 0.019275530304567814, 0.02637704146940859, 0.015217523924658801, 0.020290031899545067, 0.022319035089499575, 0.020290031899545067, 0.011159517544749788, 0.020290031899545067, 0.017246527114613306, 0.019275530304567814, 0.02739154306438584, 0.015217523924658801, 0.025362539874431333, 0.016232025519636054, 0.016232025519636054, 0.029420546254340346, 0.020290031899545067, 0.015217523924658801, 0.009130514354795281, 0.011159517544749788, 0.015217523924658801, 0.017246527114613306, 0.01217401913972704, 0.018261028709590562, 0.011159517544749788, 0.01217401913972704, 0.010145015949772533, 0.014203022329681547, 0.014203022329681547, 0.015217523924658801, 0.011159517544749788, 0.023333536684476828, 0.009130514354795281, 0.015217523924658801, 0.019275530304567814, 0.016232025519636054, 0.01217401913972704, 0.008116012759818027, 0.013188520734704294, 0.011159517544749788, 0.005072507974886267, 0.007101511164840773, 0.016232025519636054, 0.01217401913972704, 0.013188520734704294, 0.007101511164840773, 0.00608700956986352, 0.011159517544749788, 0.009130514354795281, 0.013188520734704294, 0.016232025519636054, 0.03144954944429485, 0.007101511164840773, 0.010145015949772533, 0.009130514354795281, 0.007101511164840773, 0.005072507974886267, 0.00608700956986352, 0.011159517544749788, 0.005072507974886267, 0.00304350478493176, 0.00304350478493176, 0.00304350478493176, 0.004058006379909013, 0.004058006379909013, 0.005072507974886267, 0.0020290031899545067, 0.0020290031899545067, 0.00304350478493176, 0.0020290031899545067, 0.0010145015949772533, 0.005072507974886267, 0.00304350478493176, 0.004058006379909013, 0.004058006379909013, 0.02065139767373428, 0.016521118138987424, 0.02753519689831237, 0.02891195674322799, 0.023404917363565515, 0.011014078759324948, 0.0013767598449156186, 0.0371725158127217, 0.008260559069493712, 0.002753519689831237, 0.004130279534746856, 0.045433074882215416, 0.02065139767373428, 0.008260559069493712, 0.011014078759324948, 0.02065139767373428, 0.002753519689831237, 0.004130279534746856, 0.011014078759324948, 0.024781677208481134, 0.017897877983903042, 0.004130279534746856, 0.015144358294071803, 0.004130279534746856, 0.002753519689831237, 0.005507039379662474, 0.0013767598449156186, 0.015144358294071803, 0.013767598449156185, 0.38824627626620445, 0.0013767598449156186, 0.0013767598449156186, 0.0013767598449156186, 0.01927463782881866, 0.004130279534746856, 0.0013767598449156186, 0.0013767598449156186, 0.005507039379662474, 0.02065139767373428, 0.013767598449156185, 0.012390838604240567, 0.006883799224578093, 0.02753519689831237, 0.004130279534746856, 0.0013767598449156186, 0.005507039379662474, 0.004130279534746856, 0.0013767598449156186, 0.002753519689831237, 0.00963731891440933, 0.002753519689831237, 0.004130279534746856, 0.0013767598449156186, 0.002753519689831237, 0.0013767598449156186, 0.002753519689831237, 0.0013767598449156186, 0.005507039379662474, 0.0013767598449156186, 0.0013767598449156186, 0.005507039379662474, 0.002753519689831237, 0.002753519689831237, 0.002753519689831237, 0.005507039379662474, 0.002753519689831237, 0.004130279534746856, 0.002753519689831237, 0.0013767598449156186, 0.017278294689377614, 0.031898390195774055, 0.038543888153226985, 0.010632796731924686, 0.003987298774471757, 0.013290995914905856, 0.011961896323415272, 0.010632796731924686, 0.006645497957452928, 0.0026581991829811714, 0.010632796731924686, 0.007974597548943514, 0.0465184857021705, 0.023923792646830543, 0.0026581991829811714, 0.014620095506396442, 0.014620095506396442, 0.02658199182981171, 0.015949195097887028, 0.007974597548943514, 0.0026581991829811714, 0.0013290995914905857, 0.006645497957452928, 0.003987298774471757, 0.0026581991829811714, 0.003987298774471757, 0.005316398365962343, 0.35088229215351463, 0.0093036971404341, 0.0013290995914905857, 0.015949195097887028, 0.005316398365962343, 0.007974597548943514, 0.003987298774471757, 0.038543888153226985, 0.0013290995914905857, 0.0186073942808682, 0.006645497957452928, 0.007974597548943514, 0.0093036971404341, 0.0026581991829811714, 0.0026581991829811714, 0.005316398365962343, 0.010632796731924686, 0.005316398365962343, 0.02525289223832113, 0.0013290995914905857, 0.003987298774471757, 0.0013290995914905857, 0.003987298774471757, 0.011961896323415272, 0.0465184857021705, 0.0013290995914905857, 0.0013290995914905857, 0.0013290995914905857, 0.015949195097887028, 0.006645497957452928, 0.0026581991829811714, 0.003987298774471757, 0.0013290995914905857, 0.0013290995914905857, 0.0013290995914905857, 0.0026581991829811714, 0.0026581991829811714, 0.003987298774471757, 0.003987298774471757, 0.0026581991829811714, 0.00900137387958868, 0.011251717349485851, 0.00225034346989717, 0.00450068693979434, 0.01575240428928019, 0.00900137387958868, 0.00900137387958868, 0.027004121638766043, 0.00225034346989717, 0.03600549551835472, 0.00450068693979434, 0.006751030409691511, 0.01575240428928019, 0.00450068693979434, 0.00900137387958868, 0.01575240428928019, 0.00450068693979434, 0.00900137387958868, 0.013502060819383021, 0.00225034346989717, 0.00225034346989717, 0.00225034346989717, 0.00450068693979434, 0.00900137387958868, 0.006751030409691511, 0.011251717349485851, 0.011251717349485851, 0.006751030409691511, 0.00225034346989717, 0.00900137387958868, 0.00450068693979434, 0.011251717349485851, 0.02025309122907453, 0.00225034346989717, 0.00225034346989717, 0.555834837064601, 0.00450068693979434, 0.00225034346989717, 0.00900137387958868, 0.006751030409691511, 0.00225034346989717, 0.00225034346989717, 0.02025309122907453, 0.00225034346989717, 0.00225034346989717, 0.00225034346989717, 0.00225034346989717, 0.011251717349485851, 0.00225034346989717, 0.03600549551835472, 0.006751030409691511, 0.00225034346989717, 0.00450068693979434, 0.00225034346989717, 0.00225034346989717, 0.00225034346989717, 0.00939425824937929, 0.004697129124689645, 0.016439951936413757, 0.8525289361311705, 0.0023485645623448227, 0.0023485645623448227, 0.004697129124689645, 0.004697129124689645, 0.0023485645623448227, 0.004697129124689645, 0.004697129124689645, 0.0023485645623448227, 0.00939425824937929, 0.0023485645623448227, 0.0023485645623448227, 0.007045693687034468, 0.0023485645623448227, 0.0023485645623448227, 0.004697129124689645, 0.0023485645623448227, 0.004697129124689645, 0.0023485645623448227, 0.0023485645623448227, 0.0023485645623448227, 0.004697129124689645, 0.0023485645623448227, 0.023485645623448227, 0.0023485645623448227, 0.0023485645623448227, 0.018356566000892957, 0.022027879201071545, 0.025699192401250136, 0.018356566000892957, 0.022027879201071545, 0.007342626400357182, 0.025699192401250136, 0.011013939600535773, 0.022027879201071545, 0.025699192401250136, 0.029370505601428728, 0.025699192401250136, 0.014685252800714364, 0.31573293521535883, 0.022027879201071545, 0.007342626400357182, 0.011013939600535773, 0.018356566000892957, 0.022027879201071545, 0.018356566000892957, 0.011013939600535773, 0.014685252800714364, 0.011013939600535773, 0.011013939600535773, 0.011013939600535773, 0.007342626400357182, 0.025699192401250136, 0.011013939600535773, 0.003671313200178591, 0.014685252800714364, 0.011013939600535773, 0.018356566000892957, 0.018356566000892957, 0.025699192401250136, 0.007342626400357182, 0.007342626400357182, 0.014685252800714364, 0.003671313200178591, 0.003671313200178591, 0.003671313200178591, 0.014685252800714364, 0.003671313200178591, 0.007342626400357182, 0.003671313200178591, 0.003671313200178591, 0.003671313200178591, 0.003671313200178591, 0.003671313200178591, 0.003671313200178591, 0.003671313200178591, 0.003671313200178591, 0.014685252800714364, 0.003671313200178591, 0.007342626400357182, 0.003671313200178591, 0.0230466362371065, 0.02104258091214072, 0.0230466362371065, 0.018036497924692044, 0.018036497924692044, 0.02404866389958939, 0.02104258091214072, 0.020040553249657825, 0.01603244259972626, 0.014028387274760478, 0.02404866389958939, 0.017034470262209153, 0.01603244259972626, 0.01503041493724337, 0.014028387274760478, 0.018036497924692044, 0.019038525587174934, 0.01503041493724337, 0.02505069156207228, 0.01503041493724337, 0.02505069156207228, 0.017034470262209153, 0.026052719224555175, 0.014028387274760478, 0.010020276624828912, 0.010020276624828912, 0.012024331949794695, 0.020040553249657825, 0.01503041493724337, 0.013026359612277588, 0.014028387274760478, 0.01503041493724337, 0.01603244259972626, 0.011022304287311805, 0.012024331949794695, 0.017034470262209153, 0.019038525587174934, 0.010020276624828912, 0.01603244259972626, 0.011022304287311805, 0.01503041493724337, 0.010020276624828912, 0.012024331949794695, 0.01503041493724337, 0.014028387274760478, 0.009018248962346022, 0.00801622129986313, 0.020040553249657825, 0.012024331949794695, 0.00801622129986313, 0.005010138312414456, 0.00801622129986313, 0.007014193637380239, 0.011022304287311805, 0.019038525587174934, 0.013026359612277588, 0.027054746887038066, 0.006012165974897348, 0.011022304287311805, 0.003006082987448674, 0.003006082987448674, 0.004008110649931565, 0.00801622129986313, 0.012024331949794695, 0.010020276624828912, 0.003006082987448674, 0.006012165974897348, 0.004008110649931565, 0.003006082987448674, 0.004008110649931565, 0.003006082987448674, 0.004008110649931565, 0.003006082987448674, 0.0010020276624828912, 0.003006082987448674, 0.003006082987448674, 0.004008110649931565, 0.003006082987448674, 0.0020040553249657824, 0.0020040553249657824, 0.017610860005705123, 0.00660407250213942, 0.01540950250499198, 0.008805430002852561, 0.00660407250213942, 0.01981221750641826, 0.011006787503565702, 0.01540950250499198, 0.004402715001426281, 0.05283258001711536, 0.008805430002852561, 0.004402715001426281, 0.008805430002852561, 0.004402715001426281, 0.00660407250213942, 0.01320814500427884, 0.0022013575007131404, 0.08585294252781246, 0.01981221750641826, 0.004402715001426281, 0.0022013575007131404, 0.0022013575007131404, 0.00660407250213942, 0.00660407250213942, 0.011006787503565702, 0.0022013575007131404, 0.44247285764334116, 0.0022013575007131404, 0.011006787503565702, 0.004402715001426281, 0.004402715001426281, 0.03081900500998396, 0.011006787503565702, 0.017610860005705123, 0.01540950250499198, 0.004402715001426281, 0.004402715001426281, 0.0022013575007131404, 0.0022013575007131404, 0.0022013575007131404, 0.0022013575007131404, 0.0022013575007131404, 0.004402715001426281, 0.05063122251640222, 0.004402715001426281, 0.0022013575007131404, 0.0022013575007131404, 0.00660407250213942, 0.004402715001426281, 0.004402715001426281, 0.0022013575007131404, 0.0022013575007131404, 0.006841197991177877, 0.0017102994977944693, 0.008551497488972347, 0.6259696161927758, 0.005130898493383408, 0.03420598995588939, 0.041047187947067264, 0.008551497488972347, 0.0017102994977944693, 0.02907509146250598, 0.015392695480150225, 0.005130898493383408, 0.0017102994977944693, 0.010261796986766816, 0.008551497488972347, 0.0034205989955889385, 0.013682395982355754, 0.005130898493383408, 0.005130898493383408, 0.0034205989955889385, 0.006841197991177877, 0.010261796986766816, 0.0034205989955889385, 0.0034205989955889385, 0.0017102994977944693, 0.005130898493383408, 0.020523593973533632, 0.006841197991177877, 0.0017102994977944693, 0.02907509146250598, 0.0017102994977944693, 0.0017102994977944693, 0.0017102994977944693, 0.0017102994977944693, 0.0017102994977944693, 0.0034205989955889385, 0.0017102994977944693, 0.0034205989955889385, 0.0017102994977944693, 0.0034205989955889385, 0.005130898493383408, 0.0034205989955889385, 0.008551497488972347, 0.0034205989955889385, 0.0017102994977944693, 0.015392695480150225, 0.0034205989955889385, 0.0034205989955889385, 0.005130898493383408, 0.0017102994977944693, 0.0378282560160035, 0.017563118864573055, 0.013510091434286964, 0.021616146294859143, 0.028371192012002628, 0.020265137151430447, 0.014861100577715662, 0.020265137151430447, 0.020265137151430447, 0.017563118864573055, 0.013510091434286964, 0.024318164581716536, 0.021616146294859143, 0.013510091434286964, 0.01621210972114436, 0.01621210972114436, 0.014861100577715662, 0.02296715543828784, 0.012159082290858268, 0.014861100577715662, 0.020265137151430447, 0.013510091434286964, 0.014861100577715662, 0.012159082290858268, 0.013510091434286964, 0.01621210972114436, 0.025669173725145232, 0.021616146294859143, 0.01621210972114436, 0.01891412800800175, 0.01891412800800175, 0.012159082290858268, 0.009457064004000875, 0.006755045717143482, 0.00810605486057218, 0.009457064004000875, 0.012159082290858268, 0.012159082290858268, 0.012159082290858268, 0.012159082290858268, 0.020265137151430447, 0.005404036573714786, 0.012159082290858268, 0.00810605486057218, 0.012159082290858268, 0.009457064004000875, 0.012159082290858268, 0.013510091434286964, 0.005404036573714786, 0.005404036573714786, 0.00810605486057218, 0.00810605486057218, 0.006755045717143482, 0.014861100577715662, 0.024318164581716536, 0.02702018286857393, 0.00405302743028609, 0.014861100577715662, 0.01621210972114436, 0.005404036573714786, 0.005404036573714786, 0.0013510091434286965, 0.02702018286857393, 0.00810605486057218, 0.00405302743028609, 0.0013510091434286965, 0.002702018286857393, 0.002702018286857393, 0.00405302743028609, 0.00405302743028609, 0.0013510091434286965, 0.002702018286857393, 0.005404036573714786, 0.00405302743028609, 0.002702018286857393, 0.0013510091434286965, 0.00405302743028609, 0.00405302743028609, 0.002702018286857393, 0.005404036573714786, 0.014045766522686891, 0.028091533045373783, 0.014045766522686891, 0.005618306609074757, 0.008427459913612136, 0.019664073131761647, 0.008427459913612136, 0.028091533045373783, 0.0028091533045373784, 0.005618306609074757, 0.019664073131761647, 0.005618306609074757, 0.019664073131761647, 0.008427459913612136, 0.01685491982722427, 0.011236613218149514, 0.011236613218149514, 0.0028091533045373784, 0.008427459913612136, 0.030900686349911163, 0.028091533045373783, 0.0028091533045373784, 0.008427459913612136, 0.005618306609074757, 0.005618306609074757, 0.005618306609074757, 0.005618306609074757, 0.019664073131761647, 0.008427459913612136, 0.005618306609074757, 0.005618306609074757, 0.008427459913612136, 0.0028091533045373784, 0.008427459913612136, 0.0028091533045373784, 0.005618306609074757, 0.011236613218149514, 0.0028091533045373784, 0.0028091533045373784, 0.005618306609074757, 0.4944109815985786, 0.005618306609074757, 0.005618306609074757, 0.005618306609074757, 0.0028091533045373784, 0.0028091533045373784, 0.005618306609074757, 0.0028091533045373784, 0.0028091533045373784, 0.0028091533045373784, 0.0028091533045373784, 0.0028091533045373784, 0.0028091533045373784, 0.005618306609074757, 0.005618306609074757, 0.0028091533045373784, 0.011236613218149514], \"Term\": [\".net\", \".net\", \".net\", \".net\", \".net\", \".net\", \".net\", \".net\", \".net\", \".net\", \".net\", \".net\", \".net\", \".net\", \".net\", \".net\", \".net\", \".net\", \".net\", \".net\", \".net\", \".net\", \".net\", \".net\", \".net\", \".net\", \".net\", \".net\", \".net\", \".net\", \".net\", \".net\", \".net\", \".net\", \".net\", \".net\", \".net\", \".net\", \".net\", \".net\", \".net\", \".net\", \".net\", \".net\", \".net\", \".net\", \".net\", \".net\", \".net\", \".net\", \".net\", \".net\", \".net\", \".net\", \".net\", \".net\", \".net\", \"access\", \"access\", \"access\", \"access\", \"access\", \"access\", \"access\", \"access\", \"access\", \"access\", \"access\", \"access\", \"access\", \"access\", \"access\", \"access\", \"access\", \"access\", \"access\", \"access\", \"access\", \"access\", \"access\", \"access\", \"access\", \"access\", \"access\", \"access\", \"access\", \"access\", \"access\", \"access\", \"access\", \"access\", \"access\", \"access\", \"access\", \"access\", \"access\", \"access\", \"access\", \"access\", \"access\", \"access\", \"access\", \"access\", \"access\", \"access\", \"access\", \"access\", \"access\", \"access\", \"access\", \"add\", \"add\", \"add\", \"add\", \"add\", \"add\", \"add\", \"add\", \"add\", \"add\", \"add\", \"add\", \"add\", \"add\", \"add\", \"add\", \"add\", \"add\", \"add\", \"add\", \"add\", \"add\", \"add\", \"add\", \"add\", \"add\", \"add\", \"add\", \"add\", \"add\", \"add\", \"add\", \"add\", \"add\", \"add\", \"add\", \"add\", \"add\", \"add\", \"add\", \"add\", \"add\", \"add\", \"add\", \"add\", \"add\", \"add\", \"add\", \"add\", \"add\", \"add\", \"add\", \"add\", \"add\", \"add\", \"answer\", \"answer\", \"answer\", \"answer\", \"answer\", \"answer\", \"answer\", \"answer\", \"answer\", \"answer\", \"answer\", \"answer\", \"answer\", \"answer\", \"answer\", \"answer\", \"answer\", \"answer\", \"answer\", \"answer\", \"answer\", \"answer\", \"answer\", \"answer\", \"answer\", \"answer\", \"answer\", \"answer\", \"answer\", \"answer\", \"answer\", \"answer\", \"answer\", \"answer\", \"answer\", \"answer\", \"answer\", \"answer\", \"answer\", \"answer\", \"answer\", \"answer\", \"answer\", \"answer\", \"answer\", \"answer\", \"answer\", \"answer\", \"answer\", \"answer\", \"answer\", \"answer\", \"answer\", \"answer\", \"answer\", \"answer\", \"answer\", \"answer\", \"answer\", \"answer\", \"answer\", \"answer\", \"answer\", \"answer\", \"answer\", \"answer\", \"answer\", \"anyone\", \"anyone\", \"anyone\", \"anyone\", \"anyone\", \"anyone\", \"anyone\", \"anyone\", \"anyone\", \"anyone\", \"anyone\", \"anyone\", \"anyone\", \"anyone\", \"anyone\", \"anyone\", \"anyone\", \"anyone\", \"anyone\", \"anyone\", \"anyone\", \"anyone\", \"anyone\", \"anyone\", \"anyone\", \"anyone\", \"anyone\", \"anyone\", \"anyone\", \"anyone\", \"anyone\", \"anyone\", \"anyone\", \"anyone\", \"anyone\", \"anyone\", \"anyone\", \"anyone\", \"anyone\", \"anyone\", \"anyone\", \"anyone\", \"anyone\", \"anyone\", \"anyone\", \"anyone\", \"anyone\", \"anyone\", \"anyone\", \"anyone\", \"anyone\", \"anyone\", \"anyone\", \"anyone\", \"anyone\", \"anyone\", \"anyone\", \"anyone\", \"anyone\", \"anyone\", \"anyone\", \"anyone\", \"anyone\", \"anyone\", \"anyone\", \"anyone\", \"anyone\", \"anyone\", \"anyone\", \"anyone\", \"anyone\", \"anything\", \"anything\", \"anything\", \"anything\", \"anything\", \"anything\", \"anything\", \"anything\", \"anything\", \"anything\", \"anything\", \"anything\", \"anything\", \"anything\", \"anything\", \"anything\", \"anything\", \"anything\", \"anything\", \"anything\", \"anything\", \"anything\", \"anything\", \"anything\", \"anything\", \"anything\", \"anything\", \"anything\", \"anything\", \"anything\", \"anything\", \"anything\", \"anything\", \"anything\", \"anything\", \"anything\", \"anything\", \"anything\", \"anything\", \"anything\", \"anything\", \"anything\", \"anything\", \"anything\", \"anything\", \"anything\", \"anything\", \"anything\", \"anything\", \"anything\", \"anything\", \"anything\", \"anything\", \"anything\", \"anything\", \"anything\", \"anything\", \"anything\", \"anything\", \"anything\", \"anything\", \"anything\", \"anything\", \"anything\", \"app\", \"app\", \"app\", \"app\", \"app\", \"app\", \"app\", \"app\", \"app\", \"app\", \"app\", \"app\", \"app\", \"app\", \"app\", \"app\", \"app\", \"app\", \"app\", \"app\", \"app\", \"app\", \"app\", \"app\", \"app\", \"app\", \"app\", \"app\", \"app\", \"app\", \"app\", \"app\", \"app\", \"app\", \"app\", \"app\", \"app\", \"app\", \"app\", \"app\", \"app\", \"app\", \"app\", \"app\", \"app\", \"app\", \"app\", \"app\", \"app\", \"app\", \"app\", \"app\", \"app\", \"app\", \"app\", \"app\", \"app\", \"app\", \"app\", \"app\", \"app\", \"app\", \"app\", \"application\", \"application\", \"application\", \"application\", \"application\", \"application\", \"application\", \"application\", \"application\", \"application\", \"application\", \"application\", \"application\", \"application\", \"application\", \"application\", \"application\", \"application\", \"application\", \"application\", \"application\", \"application\", \"application\", \"application\", \"application\", \"application\", \"application\", \"application\", \"application\", \"application\", \"application\", \"application\", \"application\", \"application\", \"application\", \"application\", \"application\", \"application\", \"application\", \"application\", \"application\", \"application\", \"application\", \"application\", \"application\", \"application\", \"application\", \"application\", \"application\", \"application\", \"application\", \"application\", \"application\", \"application\", \"application\", \"application\", \"application\", \"application\", \"application\", \"application\", \"application\", \"application\", \"application\", \"application\", \"application\", \"application\", \"application\", \"application\", \"application\", \"application\", \"application\", \"application\", \"application\", \"application\", \"application\", \"application\", \"application\", \"application\", \"c\", \"c\", \"c\", \"c\", \"c\", \"c\", \"c\", \"c\", \"c\", \"c\", \"c\", \"c\", \"c\", \"c\", \"c\", \"c\", \"c\", \"c\", \"c\", \"c\", \"c\", \"c\", \"c\", \"c\", \"c\", \"c\", \"c\", \"c\", \"c\", \"c\", \"c\", \"c\", \"c\", \"c\", \"c\", \"c\", \"c\", \"c\", \"c\", \"c\", \"c\", \"c\", \"c\", \"c\", \"c\", \"c\", \"c\", \"c\", \"c++\", \"c++\", \"c++\", \"c++\", \"c++\", \"c++\", \"c++\", \"c++\", \"c++\", \"c++\", \"c++\", \"c++\", \"c++\", \"c++\", \"c++\", \"c++\", \"c++\", \"c++\", \"c++\", \"c++\", \"c++\", \"c++\", \"c++\", \"c++\", \"c++\", \"c++\", \"c++\", \"c++\", \"c++\", \"call\", \"call\", \"call\", \"call\", \"call\", \"call\", \"call\", \"call\", \"call\", \"call\", \"call\", \"call\", \"call\", \"call\", \"call\", \"call\", \"call\", \"call\", \"call\", \"call\", \"call\", \"call\", \"call\", \"call\", \"call\", \"call\", \"call\", \"call\", \"call\", \"call\", \"call\", \"call\", \"call\", \"call\", \"call\", \"call\", \"call\", \"call\", \"call\", \"call\", \"call\", \"call\", \"call\", \"call\", \"call\", \"call\", \"call\", \"call\", \"call\", \"call\", \"call\", \"call\", \"call\", \"call\", \"call\", \"call\", \"call\", \"call\", \"call\", \"call\", \"call\", \"call\", \"call\", \"call\", \"case\", \"case\", \"case\", \"case\", \"case\", \"case\", \"case\", \"case\", \"case\", \"case\", \"case\", \"case\", \"case\", \"case\", \"case\", \"case\", \"case\", \"case\", \"case\", \"case\", \"case\", \"case\", \"case\", \"case\", \"case\", \"case\", \"case\", \"case\", \"case\", \"case\", \"case\", \"case\", \"case\", \"case\", \"case\", \"case\", \"case\", \"case\", \"case\", \"case\", \"case\", \"case\", \"case\", \"case\", \"case\", \"case\", \"case\", \"case\", \"case\", \"case\", \"case\", \"case\", \"case\", \"case\", \"case\", \"case\", \"case\", \"case\", \"case\", \"case\", \"case\", \"case\", \"case\", \"case\", \"case\", \"case\", \"case\", \"case\", \"case\", \"case\", \"case\", \"case\", \"case\", \"case\", \"case\", \"case\", \"change\", \"change\", \"change\", \"change\", \"change\", \"change\", \"change\", \"change\", \"change\", \"change\", \"change\", \"change\", \"change\", \"change\", \"change\", \"change\", \"change\", \"change\", \"change\", \"change\", \"change\", \"change\", \"change\", \"change\", \"change\", \"change\", \"change\", \"change\", \"change\", \"change\", \"change\", \"change\", \"change\", \"change\", \"change\", \"change\", \"change\", \"change\", \"change\", \"change\", \"change\", \"change\", \"change\", \"change\", \"change\", \"change\", \"change\", \"change\", \"change\", \"change\", \"change\", \"change\", \"change\", \"change\", \"change\", \"change\", \"change\", \"change\", \"change\", \"change\", \"change\", \"change\", \"change\", \"class\", \"class\", \"class\", \"class\", \"class\", \"class\", \"class\", \"class\", \"class\", \"class\", \"class\", \"class\", \"class\", \"class\", \"class\", \"class\", \"class\", \"class\", \"class\", \"class\", \"class\", \"class\", \"class\", \"class\", \"class\", \"class\", \"class\", \"class\", \"class\", \"class\", \"class\", \"class\", \"class\", \"class\", \"class\", \"class\", \"class\", \"class\", \"class\", \"class\", \"class\", \"class\", \"class\", \"class\", \"class\", \"class\", \"class\", \"class\", \"class\", \"class\", \"class\", \"class\", \"class\", \"class\", \"class\", \"class\", \"class\", \"class\", \"class\", \"class\", \"class\", \"class\", \"class\", \"class\", \"class\", \"class\", \"class\", \"class\", \"class\", \"class\", \"class\", \"class\", \"class\", \"code\", \"code\", \"code\", \"code\", \"code\", \"code\", \"code\", \"code\", \"code\", \"code\", \"code\", \"code\", \"code\", \"code\", \"code\", \"code\", \"code\", \"code\", \"code\", \"code\", \"code\", \"code\", \"code\", \"code\", \"code\", \"code\", \"code\", \"code\", \"code\", \"code\", \"code\", \"code\", \"code\", \"code\", \"code\", \"code\", \"code\", \"code\", \"code\", \"code\", \"code\", \"code\", \"code\", \"code\", \"code\", \"code\", \"code\", \"code\", \"code\", \"code\", \"code\", \"code\", \"code\", \"code\", \"code\", \"code\", \"code\", \"code\", \"code\", \"code\", \"code\", \"code\", \"code\", \"code\", \"code\", \"code\", \"code\", \"code\", \"code\", \"code\", \"code\", \"code\", \"code\", \"code\", \"code\", \"code\", \"code\", \"code\", \"code\", \"code\", \"control\", \"control\", \"control\", \"control\", \"control\", \"control\", \"control\", \"control\", \"control\", \"control\", \"control\", \"control\", \"control\", \"control\", \"control\", \"control\", \"control\", \"control\", \"control\", \"control\", \"control\", \"control\", \"control\", \"control\", \"control\", \"control\", \"create\", \"create\", \"create\", \"create\", \"create\", \"create\", \"create\", \"create\", \"create\", \"create\", \"create\", \"create\", \"create\", \"create\", \"create\", \"create\", \"create\", \"create\", \"create\", \"create\", \"create\", \"create\", \"create\", \"create\", \"create\", \"create\", \"create\", \"create\", \"create\", \"create\", \"create\", \"create\", \"create\", \"create\", \"create\", \"create\", \"create\", \"create\", \"create\", \"create\", \"create\", \"create\", \"create\", \"create\", \"create\", \"create\", \"create\", \"create\", \"create\", \"create\", \"create\", \"create\", \"create\", \"create\", \"create\", \"create\", \"create\", \"create\", \"create\", \"create\", \"create\", \"create\", \"create\", \"create\", \"create\", \"create\", \"create\", \"create\", \"create\", \"create\", \"create\", \"create\", \"create\", \"create\", \"data\", \"data\", \"data\", \"data\", \"data\", \"data\", \"data\", \"data\", \"data\", \"data\", \"data\", \"data\", \"data\", \"data\", \"data\", \"data\", \"data\", \"data\", \"data\", \"data\", \"data\", \"data\", \"data\", \"data\", \"data\", \"data\", \"data\", \"data\", \"data\", \"data\", \"data\", \"data\", \"data\", \"data\", \"data\", \"data\", \"data\", \"data\", \"data\", \"data\", \"data\", \"data\", \"data\", \"data\", \"data\", \"data\", \"data\", \"data\", \"data\", \"data\", \"data\", \"data\", \"data\", \"data\", \"data\", \"data\", \"data\", \"data\", \"data\", \"data\", \"data\", \"data\", \"data\", \"data\", \"data\", \"data\", \"data\", \"data\", \"data\", \"data\", \"data\", \"data\", \"data\", \"data\", \"data\", \"data\", \"data\", \"data\", \"data\", \"database\", \"database\", \"database\", \"database\", \"database\", \"database\", \"database\", \"database\", \"database\", \"database\", \"database\", \"database\", \"database\", \"database\", \"database\", \"database\", \"database\", \"database\", \"database\", \"database\", \"database\", \"database\", \"database\", \"database\", \"database\", \"database\", \"database\", \"database\", \"database\", \"database\", \"database\", \"database\", \"database\", \"database\", \"database\", \"database\", \"database\", \"database\", \"database\", \"database\", \"database\", \"database\", \"database\", \"database\", \"database\", \"database\", \"database\", \"database\", \"database\", \"database\", \"database\", \"database\", \"database\", \"database\", \"database\", \"database\", \"database\", \"database\", \"database\", \"database\", \"edit\", \"edit\", \"edit\", \"edit\", \"edit\", \"edit\", \"edit\", \"edit\", \"edit\", \"edit\", \"edit\", \"edit\", \"edit\", \"edit\", \"edit\", \"edit\", \"edit\", \"edit\", \"edit\", \"edit\", \"edit\", \"edit\", \"edit\", \"edit\", \"edit\", \"edit\", \"edit\", \"edit\", \"edit\", \"edit\", \"edit\", \"edit\", \"edit\", \"edit\", \"edit\", \"edit\", \"edit\", \"edit\", \"edit\", \"edit\", \"edit\", \"edit\", \"edit\", \"edit\", \"edit\", \"edit\", \"edit\", \"edit\", \"edit\", \"edit\", \"edit\", \"edit\", \"edit\", \"edit\", \"edit\", \"edit\", \"edit\", \"edit\", \"edit\", \"edit\", \"edit\", \"edit\", \"edit\", \"edit\", \"edit\", \"edit\", \"edit\", \"edit\", \"edit\", \"edit\", \"edit\", \"edit\", \"edit\", \"edit\", \"edit\", \"edit\", \"edit\", \"edit\", \"error\", \"error\", \"error\", \"error\", \"error\", \"error\", \"error\", \"error\", \"error\", \"error\", \"error\", \"error\", \"error\", \"error\", \"error\", \"error\", \"error\", \"error\", \"error\", \"error\", \"error\", \"error\", \"error\", \"error\", \"error\", \"error\", \"error\", \"error\", \"error\", \"error\", \"error\", \"error\", \"error\", \"error\", \"error\", \"error\", \"error\", \"error\", \"error\", \"error\", \"error\", \"error\", \"error\", \"error\", \"error\", \"error\", \"error\", \"error\", \"error\", \"error\", \"error\", \"error\", \"error\", \"error\", \"error\", \"error\", \"error\", \"error\", \"error\", \"error\", \"error\", \"error\", \"error\", \"error\", \"error\", \"error\", \"error\", \"example\", \"example\", \"example\", \"example\", \"example\", \"example\", \"example\", \"example\", \"example\", \"example\", \"example\", \"example\", \"example\", \"example\", \"example\", \"example\", \"example\", \"example\", \"example\", \"example\", \"example\", \"example\", \"example\", \"example\", \"example\", \"example\", \"example\", \"example\", \"example\", \"example\", \"example\", \"example\", \"example\", \"example\", \"example\", \"example\", \"example\", \"example\", \"example\", \"example\", \"example\", \"example\", \"example\", \"example\", \"example\", \"example\", \"example\", \"example\", \"example\", \"example\", \"example\", \"example\", \"example\", \"example\", \"example\", \"example\", \"example\", \"example\", \"example\", \"example\", \"example\", \"example\", \"example\", \"example\", \"example\", \"example\", \"example\", \"example\", \"example\", \"example\", \"example\", \"example\", \"example\", \"example\", \"example\", \"example\", \"example\", \"example\", \"example\", \"example\", \"file\", \"file\", \"file\", \"file\", \"file\", \"file\", \"file\", \"file\", \"file\", \"file\", \"file\", \"file\", \"file\", \"file\", \"file\", \"file\", \"file\", \"file\", \"file\", \"file\", \"file\", \"file\", \"file\", \"file\", \"file\", \"file\", \"file\", \"file\", \"file\", \"file\", \"file\", \"file\", \"file\", \"file\", \"file\", \"file\", \"file\", \"file\", \"file\", \"file\", \"file\", \"file\", \"file\", \"file\", \"file\", \"file\", \"file\", \"file\", \"file\", \"file\", \"file\", \"file\", \"file\", \"file\", \"file\", \"file\", \"file\", \"file\", \"file\", \"file\", \"file\", \"file\", \"file\", \"file\", \"file\", \"file\", \"file\", \"file\", \"file\", \"file\", \"file\", \"file\", \"file\", \"file\", \"file\", \"find\", \"find\", \"find\", \"find\", \"find\", \"find\", \"find\", \"find\", \"find\", \"find\", \"find\", \"find\", \"find\", \"find\", \"find\", \"find\", \"find\", \"find\", \"find\", \"find\", \"find\", \"find\", \"find\", \"find\", \"find\", \"find\", \"find\", \"find\", \"find\", \"find\", \"find\", \"find\", \"find\", \"find\", \"find\", \"find\", \"find\", \"find\", \"find\", \"find\", \"find\", \"find\", \"find\", \"find\", \"find\", \"find\", \"find\", \"find\", \"find\", \"find\", \"find\", \"find\", \"find\", \"find\", \"find\", \"find\", \"find\", \"find\", \"find\", \"find\", \"find\", \"find\", \"find\", \"find\", \"find\", \"find\", \"find\", \"find\", \"find\", \"find\", \"find\", \"form\", \"form\", \"form\", \"form\", \"form\", \"form\", \"form\", \"form\", \"form\", \"form\", \"form\", \"form\", \"form\", \"form\", \"form\", \"form\", \"form\", \"form\", \"form\", \"form\", \"form\", \"form\", \"form\", \"form\", \"form\", \"form\", \"form\", \"form\", \"form\", \"form\", \"form\", \"form\", \"form\", \"form\", \"form\", \"form\", \"function\", \"function\", \"function\", \"function\", \"function\", \"function\", \"function\", \"function\", \"function\", \"function\", \"function\", \"function\", \"function\", \"function\", \"function\", \"function\", \"function\", \"function\", \"function\", \"function\", \"function\", \"function\", \"function\", \"function\", \"function\", \"function\", \"function\", \"function\", \"function\", \"function\", \"function\", \"function\", \"function\", \"function\", \"function\", \"function\", \"function\", \"function\", \"function\", \"function\", \"function\", \"function\", \"function\", \"function\", \"function\", \"function\", \"function\", \"function\", \"function\", \"function\", \"function\", \"function\", \"function\", \"function\", \"function\", \"function\", \"function\", \"function\", \"function\", \"function\", \"function\", \"function\", \"function\", \"function\", \"get\", \"get\", \"get\", \"get\", \"get\", \"get\", \"get\", \"get\", \"get\", \"get\", \"get\", \"get\", \"get\", \"get\", \"get\", \"get\", \"get\", \"get\", \"get\", \"get\", \"get\", \"get\", \"get\", \"get\", \"get\", \"get\", \"get\", \"get\", \"get\", \"get\", \"get\", \"get\", \"get\", \"get\", \"get\", \"get\", \"get\", \"get\", \"get\", \"get\", \"get\", \"get\", \"get\", \"get\", \"get\", \"get\", \"get\", \"get\", \"get\", \"get\", \"get\", \"get\", \"get\", \"get\", \"get\", \"get\", \"get\", \"get\", \"get\", \"get\", \"get\", \"get\", \"get\", \"get\", \"get\", \"get\", \"get\", \"get\", \"get\", \"get\", \"get\", \"get\", \"get\", \"get\", \"get\", \"get\", \"get\", \"get\", \"get\", \"help\", \"help\", \"help\", \"help\", \"help\", \"help\", \"help\", \"help\", \"help\", \"help\", \"help\", \"help\", \"help\", \"help\", \"help\", \"help\", \"help\", \"help\", \"help\", \"help\", \"help\", \"help\", \"help\", \"help\", \"help\", \"help\", \"help\", \"help\", \"help\", \"help\", \"help\", \"help\", \"help\", \"help\", \"help\", \"help\", \"help\", \"help\", \"help\", \"help\", \"help\", \"help\", \"help\", \"help\", \"help\", \"help\", \"help\", \"help\", \"help\", \"help\", \"help\", \"help\", \"help\", \"help\", \"help\", \"help\", \"help\", \"help\", \"help\", \"help\", \"help\", \"help\", \"help\", \"help\", \"help\", \"help\", \"help\", \"help\", \"help\", \"help\", \"help\", \"help\", \"help\", \"http\", \"http\", \"http\", \"http\", \"http\", \"http\", \"http\", \"http\", \"http\", \"http\", \"http\", \"http\", \"http\", \"http\", \"http\", \"http\", \"http\", \"http\", \"http\", \"http\", \"http\", \"http\", \"http\", \"http\", \"http\", \"http\", \"http\", \"http\", \"http\", \"http\", \"http\", \"http\", \"http\", \"http\", \"http\", \"http\", \"http\", \"http\", \"http\", \"http\", \"http\", \"http\", \"http\", \"http\", \"http\", \"http\", \"http\", \"http\", \"http\", \"http\", \"http\", \"http\", \"http\", \"http\", \"http\", \"http\", \"http\", \"http\", \"http\", \"http\", \"http\", \"http\", \"http\", \"http\", \"idea\", \"idea\", \"idea\", \"idea\", \"idea\", \"idea\", \"idea\", \"idea\", \"idea\", \"idea\", \"idea\", \"idea\", \"idea\", \"idea\", \"idea\", \"idea\", \"idea\", \"idea\", \"idea\", \"idea\", \"idea\", \"idea\", \"idea\", \"idea\", \"idea\", \"idea\", \"idea\", \"idea\", \"idea\", \"idea\", \"idea\", \"idea\", \"idea\", \"idea\", \"idea\", \"idea\", \"idea\", \"idea\", \"idea\", \"idea\", \"idea\", \"idea\", \"idea\", \"idea\", \"idea\", \"idea\", \"idea\", \"idea\", \"idea\", \"idea\", \"idea\", \"idea\", \"idea\", \"idea\", \"idea\", \"idea\", \"idea\", \"idea\", \"idea\", \"idea\", \"idea\", \"idea\", \"idea\", \"idea\", \"idea\", \"idea\", \"idea\", \"idea\", \"idea\", \"idea\", \"idea\", \"idea\", \"idea\", \"idea\", \"idea\", \"idea\", \"idea\", \"issue\", \"issue\", \"issue\", \"issue\", \"issue\", \"issue\", \"issue\", \"issue\", \"issue\", \"issue\", \"issue\", \"issue\", \"issue\", \"issue\", \"issue\", \"issue\", \"issue\", \"issue\", \"issue\", \"issue\", \"issue\", \"issue\", \"issue\", \"issue\", \"issue\", \"issue\", \"issue\", \"issue\", \"issue\", \"issue\", \"issue\", \"issue\", \"issue\", \"issue\", \"issue\", \"issue\", \"issue\", \"issue\", \"issue\", \"issue\", \"issue\", \"issue\", \"issue\", \"issue\", \"issue\", \"issue\", \"issue\", \"issue\", \"issue\", \"issue\", \"issue\", \"issue\", \"issue\", \"issue\", \"issue\", \"issue\", \"issue\", \"issue\", \"issue\", \"issue\", \"issue\", \"issue\", \"issue\", \"issue\", \"issue\", \"issue\", \"issue\", \"issue\", \"issue\", \"java\", \"java\", \"java\", \"java\", \"java\", \"java\", \"java\", \"java\", \"java\", \"java\", \"java\", \"java\", \"java\", \"java\", \"java\", \"java\", \"java\", \"java\", \"java\", \"java\", \"java\", \"java\", \"java\", \"java\", \"java\", \"java\", \"java\", \"java\", \"java\", \"java\", \"java\", \"java\", \"java\", \"java\", \"java\", \"java\", \"java\", \"java\", \"java\", \"java\", \"java\", \"java\", \"java\", \"java\", \"java\", \"java\", \"javascript\", \"javascript\", \"javascript\", \"javascript\", \"javascript\", \"javascript\", \"javascript\", \"javascript\", \"javascript\", \"javascript\", \"javascript\", \"javascript\", \"javascript\", \"javascript\", \"javascript\", \"javascript\", \"javascript\", \"javascript\", \"javascript\", \"javascript\", \"javascript\", \"javascript\", \"javascript\", \"javascript\", \"javascript\", \"javascript\", \"jquery\", \"jquery\", \"jquery\", \"jquery\", \"jquery\", \"jquery\", \"jquery\", \"jquery\", \"jquery\", \"jquery\", \"jquery\", \"jquery\", \"jquery\", \"jquery\", \"jquery\", \"jquery\", \"jquery\", \"jquery\", \"know\", \"know\", \"know\", \"know\", \"know\", \"know\", \"know\", \"know\", \"know\", \"know\", \"know\", \"know\", \"know\", \"know\", \"know\", \"know\", \"know\", \"know\", \"know\", \"know\", \"know\", \"know\", \"know\", \"know\", \"know\", \"know\", \"know\", \"know\", \"know\", \"know\", \"know\", \"know\", \"know\", \"know\", \"know\", \"know\", \"know\", \"know\", \"know\", \"know\", \"know\", \"know\", \"know\", \"know\", \"know\", \"know\", \"know\", \"know\", \"know\", \"know\", \"know\", \"know\", \"know\", \"know\", \"know\", \"know\", \"know\", \"know\", \"know\", \"know\", \"know\", \"know\", \"know\", \"know\", \"know\", \"know\", \"know\", \"know\", \"know\", \"know\", \"know\", \"know\", \"know\", \"know\", \"know\", \"know\", \"know\", \"know\", \"library\", \"library\", \"library\", \"library\", \"library\", \"library\", \"library\", \"library\", \"library\", \"library\", \"library\", \"library\", \"library\", \"library\", \"library\", \"library\", \"library\", \"library\", \"library\", \"library\", \"library\", \"library\", \"library\", \"library\", \"library\", \"library\", \"library\", \"library\", \"library\", \"library\", \"library\", \"library\", \"library\", \"library\", \"library\", \"library\", \"library\", \"library\", \"library\", \"library\", \"library\", \"library\", \"library\", \"library\", \"library\", \"library\", \"library\", \"library\", \"library\", \"library\", \"library\", \"library\", \"library\", \"like\", \"like\", \"like\", \"like\", \"like\", \"like\", \"like\", \"like\", \"like\", \"like\", \"like\", \"like\", \"like\", \"like\", \"like\", \"like\", \"like\", \"like\", \"like\", \"like\", \"like\", \"like\", \"like\", \"like\", \"like\", \"like\", \"like\", \"like\", \"like\", \"like\", \"like\", \"like\", \"like\", \"like\", \"like\", \"like\", \"like\", \"like\", \"like\", \"like\", \"like\", \"like\", \"like\", \"like\", \"like\", \"like\", \"like\", \"like\", \"like\", \"like\", \"like\", \"like\", \"like\", \"like\", \"like\", \"like\", \"like\", \"like\", \"like\", \"like\", \"like\", \"like\", \"like\", \"like\", \"like\", \"like\", \"like\", \"like\", \"like\", \"like\", \"like\", \"like\", \"like\", \"like\", \"like\", \"line\", \"line\", \"line\", \"line\", \"line\", \"line\", \"line\", \"line\", \"line\", \"line\", \"line\", \"line\", \"line\", \"line\", \"line\", \"line\", \"line\", \"line\", \"line\", \"line\", \"line\", \"line\", \"line\", \"line\", \"line\", \"line\", \"line\", \"line\", \"line\", \"line\", \"line\", \"line\", \"line\", \"line\", \"line\", \"line\", \"line\", \"line\", \"line\", \"line\", \"line\", \"line\", \"line\", \"line\", \"line\", \"line\", \"line\", \"line\", \"line\", \"line\", \"line\", \"line\", \"line\", \"line\", \"line\", \"list\", \"list\", \"list\", \"list\", \"list\", \"list\", \"list\", \"list\", \"list\", \"list\", \"list\", \"list\", \"list\", \"list\", \"list\", \"list\", \"list\", \"list\", \"list\", \"list\", \"list\", \"list\", \"list\", \"list\", \"list\", \"list\", \"list\", \"list\", \"list\", \"list\", \"list\", \"list\", \"list\", \"list\", \"list\", \"list\", \"list\", \"list\", \"list\", \"list\", \"list\", \"list\", \"list\", \"list\", \"list\", \"list\", \"list\", \"list\", \"list\", \"list\", \"list\", \"list\", \"lot\", \"lot\", \"lot\", \"lot\", \"lot\", \"lot\", \"lot\", \"lot\", \"lot\", \"lot\", \"lot\", \"lot\", \"lot\", \"lot\", \"lot\", \"lot\", \"lot\", \"lot\", \"lot\", \"lot\", \"lot\", \"lot\", \"lot\", \"lot\", \"lot\", \"lot\", \"lot\", \"lot\", \"lot\", \"lot\", \"lot\", \"lot\", \"lot\", \"lot\", \"lot\", \"lot\", \"lot\", \"lot\", \"lot\", \"lot\", \"lot\", \"lot\", \"lot\", \"lot\", \"lot\", \"lot\", \"lot\", \"lot\", \"lot\", \"lot\", \"lot\", \"lot\", \"lot\", \"lot\", \"lot\", \"lot\", \"lot\", \"lot\", \"lot\", \"lot\", \"lot\", \"lot\", \"lot\", \"lot\", \"lot\", \"lot\", \"lot\", \"lot\", \"lot\", \"make\", \"make\", \"make\", \"make\", \"make\", \"make\", \"make\", \"make\", \"make\", \"make\", \"make\", \"make\", \"make\", \"make\", \"make\", \"make\", \"make\", \"make\", \"make\", \"make\", \"make\", \"make\", \"make\", \"make\", \"make\", \"make\", \"make\", \"make\", \"make\", \"make\", \"make\", \"make\", \"make\", \"make\", \"make\", \"make\", \"make\", \"make\", \"make\", \"make\", \"make\", \"make\", \"make\", \"make\", \"make\", \"make\", \"make\", \"make\", \"make\", \"make\", \"make\", \"make\", \"make\", \"make\", \"make\", \"make\", \"make\", \"make\", \"make\", \"make\", \"make\", \"make\", \"make\", \"make\", \"make\", \"make\", \"make\", \"make\", \"make\", \"make\", \"make\", \"make\", \"make\", \"make\", \"make\", \"make\", \"make\", \"make\", \"method\", \"method\", \"method\", \"method\", \"method\", \"method\", \"method\", \"method\", \"method\", \"method\", \"method\", \"method\", \"method\", \"method\", \"method\", \"method\", \"method\", \"method\", \"method\", \"method\", \"method\", \"method\", \"method\", \"method\", \"method\", \"method\", \"method\", \"method\", \"method\", \"method\", \"method\", \"method\", \"method\", \"method\", \"method\", \"method\", \"method\", \"method\", \"method\", \"method\", \"method\", \"method\", \"method\", \"method\", \"method\", \"method\", \"method\", \"method\", \"method\", \"method\", \"method\", \"method\", \"method\", \"method\", \"method\", \"method\", \"method\", \"method\", \"method\", \"method\", \"method\", \"method\", \"method\", \"method\", \"method\", \"method\", \"method\", \"method\", \"method\", \"method\", \"method\", \"method\", \"method\", \"method\", \"name\", \"name\", \"name\", \"name\", \"name\", \"name\", \"name\", \"name\", \"name\", \"name\", \"name\", \"name\", \"name\", \"name\", \"name\", \"name\", \"name\", \"name\", \"name\", \"name\", \"name\", \"name\", \"name\", \"name\", \"name\", \"name\", \"name\", \"name\", \"name\", \"name\", \"name\", \"name\", \"name\", \"name\", \"name\", \"name\", \"name\", \"name\", \"name\", \"name\", \"name\", \"name\", \"need\", \"need\", \"need\", \"need\", \"need\", \"need\", \"need\", \"need\", \"need\", \"need\", \"need\", \"need\", \"need\", \"need\", \"need\", \"need\", \"need\", \"need\", \"need\", \"need\", \"need\", \"need\", \"need\", \"need\", \"need\", \"need\", \"need\", \"need\", \"need\", \"need\", \"need\", \"need\", \"need\", \"need\", \"need\", \"need\", \"need\", \"need\", \"need\", \"need\", \"need\", \"need\", \"need\", \"need\", \"need\", \"need\", \"need\", \"need\", \"need\", \"need\", \"need\", \"need\", \"need\", \"need\", \"need\", \"need\", \"need\", \"need\", \"need\", \"need\", \"need\", \"need\", \"need\", \"need\", \"need\", \"need\", \"need\", \"need\", \"need\", \"need\", \"need\", \"number\", \"number\", \"number\", \"number\", \"number\", \"number\", \"number\", \"number\", \"number\", \"number\", \"number\", \"number\", \"number\", \"number\", \"number\", \"number\", \"number\", \"number\", \"number\", \"number\", \"number\", \"number\", \"number\", \"number\", \"number\", \"number\", \"number\", \"number\", \"number\", \"number\", \"number\", \"number\", \"number\", \"number\", \"number\", \"number\", \"number\", \"number\", \"number\", \"number\", \"number\", \"number\", \"number\", \"number\", \"number\", \"number\", \"number\", \"number\", \"number\", \"number\", \"number\", \"number\", \"number\", \"number\", \"number\", \"object\", \"object\", \"object\", \"object\", \"object\", \"object\", \"object\", \"object\", \"object\", \"object\", \"object\", \"object\", \"object\", \"object\", \"object\", \"object\", \"object\", \"object\", \"object\", \"object\", \"object\", \"object\", \"object\", \"object\", \"object\", \"object\", \"object\", \"object\", \"object\", \"object\", \"object\", \"object\", \"object\", \"object\", \"object\", \"object\", \"object\", \"object\", \"object\", \"object\", \"object\", \"object\", \"object\", \"object\", \"object\", \"object\", \"object\", \"object\", \"object\", \"object\", \"object\", \"object\", \"object\", \"object\", \"object\", \"object\", \"object\", \"object\", \"object\", \"object\", \"object\", \"object\", \"object\", \"object\", \"object\", \"object\", \"object\", \"object\", \"object\", \"option\", \"option\", \"option\", \"option\", \"option\", \"option\", \"option\", \"option\", \"option\", \"option\", \"option\", \"option\", \"option\", \"option\", \"option\", \"option\", \"option\", \"option\", \"option\", \"option\", \"option\", \"option\", \"option\", \"option\", \"option\", \"option\", \"option\", \"option\", \"option\", \"option\", \"option\", \"option\", \"option\", \"option\", \"option\", \"option\", \"option\", \"option\", \"option\", \"option\", \"option\", \"option\", \"option\", \"option\", \"option\", \"option\", \"option\", \"option\", \"option\", \"page\", \"page\", \"page\", \"page\", \"page\", \"page\", \"page\", \"page\", \"page\", \"page\", \"page\", \"page\", \"page\", \"page\", \"page\", \"page\", \"page\", \"page\", \"page\", \"page\", \"page\", \"page\", \"page\", \"page\", \"page\", \"page\", \"page\", \"page\", \"page\", \"page\", \"page\", \"page\", \"page\", \"page\", \"page\", \"page\", \"page\", \"page\", \"page\", \"page\", \"page\", \"page\", \"page\", \"page\", \"page\", \"page\", \"part\", \"part\", \"part\", \"part\", \"part\", \"part\", \"part\", \"part\", \"part\", \"part\", \"part\", \"part\", \"part\", \"part\", \"part\", \"part\", \"part\", \"part\", \"part\", \"part\", \"part\", \"part\", \"part\", \"part\", \"part\", \"part\", \"part\", \"part\", \"part\", \"part\", \"part\", \"part\", \"part\", \"part\", \"part\", \"part\", \"part\", \"part\", \"part\", \"part\", \"part\", \"part\", \"part\", \"part\", \"part\", \"part\", \"part\", \"part\", \"part\", \"part\", \"part\", \"part\", \"part\", \"part\", \"part\", \"part\", \"please\", \"please\", \"please\", \"please\", \"please\", \"please\", \"please\", \"please\", \"please\", \"please\", \"please\", \"please\", \"please\", \"please\", \"please\", \"please\", \"please\", \"please\", \"please\", \"please\", \"please\", \"please\", \"please\", \"please\", \"please\", \"please\", \"please\", \"please\", \"please\", \"please\", \"please\", \"please\", \"please\", \"please\", \"please\", \"please\", \"please\", \"please\", \"please\", \"please\", \"please\", \"please\", \"please\", \"point\", \"point\", \"point\", \"point\", \"point\", \"point\", \"point\", \"point\", \"point\", \"point\", \"point\", \"point\", \"point\", \"point\", \"point\", \"point\", \"point\", \"point\", \"point\", \"point\", \"point\", \"point\", \"point\", \"point\", \"point\", \"point\", \"point\", \"point\", \"point\", \"point\", \"point\", \"point\", \"point\", \"point\", \"point\", \"point\", \"point\", \"point\", \"point\", \"point\", \"point\", \"point\", \"point\", \"point\", \"point\", \"point\", \"point\", \"point\", \"point\", \"point\", \"point\", \"point\", \"point\", \"point\", \"point\", \"point\", \"point\", \"point\", \"point\", \"point\", \"point\", \"point\", \"point\", \"problem\", \"problem\", \"problem\", \"problem\", \"problem\", \"problem\", \"problem\", \"problem\", \"problem\", \"problem\", \"problem\", \"problem\", \"problem\", \"problem\", \"problem\", \"problem\", \"problem\", \"problem\", \"problem\", \"problem\", \"problem\", \"problem\", \"problem\", \"problem\", \"problem\", \"problem\", \"problem\", \"problem\", \"problem\", \"problem\", \"problem\", \"problem\", \"problem\", \"problem\", \"problem\", \"problem\", \"problem\", \"problem\", \"problem\", \"problem\", \"problem\", \"problem\", \"problem\", \"problem\", \"problem\", \"problem\", \"problem\", \"problem\", \"problem\", \"problem\", \"problem\", \"problem\", \"problem\", \"problem\", \"problem\", \"problem\", \"problem\", \"problem\", \"problem\", \"problem\", \"problem\", \"problem\", \"problem\", \"problem\", \"problem\", \"problem\", \"problem\", \"problem\", \"problem\", \"problem\", \"problem\", \"problem\", \"problem\", \"problem\", \"problem\", \"problem\", \"problem\", \"problem\", \"program\", \"program\", \"program\", \"program\", \"program\", \"program\", \"program\", \"program\", \"program\", \"program\", \"program\", \"program\", \"program\", \"program\", \"program\", \"program\", \"program\", \"program\", \"program\", \"program\", \"program\", \"program\", \"program\", \"program\", \"program\", \"program\", \"program\", \"program\", \"program\", \"program\", \"program\", \"program\", \"program\", \"program\", \"program\", \"program\", \"program\", \"program\", \"program\", \"program\", \"program\", \"program\", \"program\", \"program\", \"program\", \"program\", \"program\", \"program\", \"project\", \"project\", \"project\", \"project\", \"project\", \"project\", \"project\", \"project\", \"project\", \"project\", \"project\", \"project\", \"project\", \"project\", \"project\", \"project\", \"project\", \"project\", \"project\", \"project\", \"project\", \"project\", \"project\", \"project\", \"project\", \"project\", \"project\", \"project\", \"project\", \"project\", \"project\", \"project\", \"project\", \"project\", \"project\", \"project\", \"project\", \"project\", \"project\", \"project\", \"project\", \"project\", \"project\", \"project\", \"project\", \"project\", \"project\", \"project\", \"project\", \"project\", \"project\", \"project\", \"project\", \"project\", \"project\", \"project\", \"project\", \"project\", \"project\", \"project\", \"project\", \"project\", \"project\", \"property\", \"property\", \"property\", \"property\", \"property\", \"property\", \"property\", \"property\", \"property\", \"property\", \"property\", \"property\", \"property\", \"property\", \"property\", \"property\", \"property\", \"property\", \"property\", \"property\", \"property\", \"property\", \"property\", \"property\", \"property\", \"property\", \"property\", \"property\", \"property\", \"property\", \"property\", \"property\", \"property\", \"property\", \"property\", \"property\", \"property\", \"property\", \"property\", \"property\", \"property\", \"property\", \"property\", \"property\", \"property\", \"property\", \"property\", \"query\", \"query\", \"query\", \"query\", \"query\", \"query\", \"query\", \"query\", \"query\", \"query\", \"query\", \"query\", \"query\", \"query\", \"query\", \"query\", \"query\", \"query\", \"query\", \"question\", \"question\", \"question\", \"question\", \"question\", \"question\", \"question\", \"question\", \"question\", \"question\", \"question\", \"question\", \"question\", \"question\", \"question\", \"question\", \"question\", \"question\", \"question\", \"question\", \"question\", \"question\", \"question\", \"question\", \"question\", \"question\", \"question\", \"question\", \"question\", \"question\", \"question\", \"question\", \"question\", \"question\", \"question\", \"question\", \"question\", \"question\", \"question\", \"question\", \"question\", \"question\", \"question\", \"question\", \"question\", \"question\", \"question\", \"question\", \"question\", \"question\", \"question\", \"question\", \"question\", \"question\", \"question\", \"question\", \"question\", \"question\", \"question\", \"question\", \"question\", \"question\", \"question\", \"question\", \"question\", \"question\", \"question\", \"question\", \"question\", \"question\", \"question\", \"question\", \"question\", \"question\", \"question\", \"question\", \"question\", \"question\", \"question\", \"result\", \"result\", \"result\", \"result\", \"result\", \"result\", \"result\", \"result\", \"result\", \"result\", \"result\", \"result\", \"result\", \"result\", \"result\", \"result\", \"result\", \"result\", \"result\", \"result\", \"result\", \"result\", \"result\", \"result\", \"result\", \"result\", \"result\", \"result\", \"result\", \"result\", \"result\", \"result\", \"result\", \"result\", \"result\", \"result\", \"result\", \"result\", \"result\", \"result\", \"result\", \"result\", \"result\", \"result\", \"result\", \"result\", \"result\", \"result\", \"result\", \"result\", \"result\", \"result\", \"result\", \"result\", \"result\", \"result\", \"result\", \"result\", \"result\", \"result\", \"result\", \"result\", \"result\", \"result\", \"result\", \"result\", \"result\", \"result\", \"result\", \"return\", \"return\", \"return\", \"return\", \"return\", \"return\", \"return\", \"return\", \"return\", \"return\", \"return\", \"return\", \"return\", \"return\", \"return\", \"return\", \"return\", \"return\", \"return\", \"return\", \"return\", \"return\", \"return\", \"return\", \"return\", \"return\", \"return\", \"return\", \"return\", \"return\", \"return\", \"return\", \"return\", \"return\", \"return\", \"return\", \"return\", \"return\", \"return\", \"return\", \"return\", \"run\", \"run\", \"run\", \"run\", \"run\", \"run\", \"run\", \"run\", \"run\", \"run\", \"run\", \"run\", \"run\", \"run\", \"run\", \"run\", \"run\", \"run\", \"run\", \"run\", \"run\", \"run\", \"run\", \"run\", \"run\", \"run\", \"run\", \"run\", \"run\", \"run\", \"run\", \"run\", \"run\", \"run\", \"run\", \"run\", \"run\", \"run\", \"run\", \"run\", \"run\", \"run\", \"run\", \"run\", \"run\", \"run\", \"run\", \"run\", \"run\", \"run\", \"run\", \"run\", \"run\", \"run\", \"see\", \"see\", \"see\", \"see\", \"see\", \"see\", \"see\", \"see\", \"see\", \"see\", \"see\", \"see\", \"see\", \"see\", \"see\", \"see\", \"see\", \"see\", \"see\", \"see\", \"see\", \"see\", \"see\", \"see\", \"see\", \"see\", \"see\", \"see\", \"see\", \"see\", \"see\", \"see\", \"see\", \"see\", \"see\", \"see\", \"see\", \"see\", \"see\", \"see\", \"see\", \"see\", \"see\", \"see\", \"see\", \"see\", \"see\", \"see\", \"see\", \"see\", \"see\", \"see\", \"see\", \"see\", \"see\", \"see\", \"see\", \"see\", \"see\", \"see\", \"see\", \"see\", \"see\", \"see\", \"see\", \"see\", \"see\", \"see\", \"see\", \"see\", \"see\", \"see\", \"see\", \"see\", \"see\", \"see\", \"server\", \"server\", \"server\", \"server\", \"server\", \"server\", \"server\", \"server\", \"server\", \"server\", \"server\", \"server\", \"server\", \"server\", \"server\", \"server\", \"server\", \"server\", \"server\", \"server\", \"server\", \"server\", \"server\", \"server\", \"server\", \"server\", \"server\", \"server\", \"server\", \"server\", \"server\", \"server\", \"server\", \"server\", \"server\", \"server\", \"server\", \"server\", \"server\", \"server\", \"server\", \"server\", \"server\", \"server\", \"server\", \"server\", \"server\", \"server\", \"server\", \"server\", \"server\", \"server\", \"server\", \"server\", \"server\", \"server\", \"server\", \"server\", \"server\", \"server\", \"server\", \"server\", \"server\", \"server\", \"server\", \"set\", \"set\", \"set\", \"set\", \"set\", \"set\", \"set\", \"set\", \"set\", \"set\", \"set\", \"set\", \"set\", \"set\", \"set\", \"set\", \"set\", \"set\", \"set\", \"set\", \"set\", \"set\", \"set\", \"set\", \"set\", \"set\", \"set\", \"set\", \"set\", \"set\", \"set\", \"set\", \"set\", \"set\", \"set\", \"set\", \"set\", \"set\", \"set\", \"set\", \"set\", \"set\", \"set\", \"set\", \"set\", \"set\", \"set\", \"set\", \"set\", \"set\", \"set\", \"set\", \"set\", \"set\", \"set\", \"set\", \"set\", \"set\", \"set\", \"set\", \"set\", \"solution\", \"solution\", \"solution\", \"solution\", \"solution\", \"solution\", \"solution\", \"solution\", \"solution\", \"solution\", \"solution\", \"solution\", \"solution\", \"solution\", \"solution\", \"solution\", \"solution\", \"solution\", \"solution\", \"solution\", \"solution\", \"solution\", \"solution\", \"solution\", \"solution\", \"solution\", \"solution\", \"solution\", \"solution\", \"solution\", \"solution\", \"solution\", \"solution\", \"solution\", \"solution\", \"solution\", \"solution\", \"solution\", \"solution\", \"solution\", \"solution\", \"solution\", \"solution\", \"solution\", \"solution\", \"solution\", \"solution\", \"solution\", \"solution\", \"solution\", \"solution\", \"solution\", \"solution\", \"solution\", \"solution\", \"solution\", \"solution\", \"solution\", \"solution\", \"solution\", \"solution\", \"solution\", \"solution\", \"solution\", \"solution\", \"solution\", \"solution\", \"solution\", \"solution\", \"solution\", \"solution\", \"solution\", \"solution\", \"solution\", \"something\", \"something\", \"something\", \"something\", \"something\", \"something\", \"something\", \"something\", \"something\", \"something\", \"something\", \"something\", \"something\", \"something\", \"something\", \"something\", \"something\", \"something\", \"something\", \"something\", \"something\", \"something\", \"something\", \"something\", \"something\", \"something\", \"something\", \"something\", \"something\", \"something\", \"something\", \"something\", \"something\", \"something\", \"something\", \"something\", \"something\", \"something\", \"something\", \"something\", \"something\", \"something\", \"something\", \"something\", \"something\", \"something\", \"something\", \"something\", \"something\", \"something\", \"something\", \"something\", \"something\", \"something\", \"something\", \"something\", \"something\", \"something\", \"something\", \"something\", \"something\", \"something\", \"something\", \"something\", \"something\", \"something\", \"something\", \"something\", \"something\", \"something\", \"something\", \"something\", \"something\", \"something\", \"something\", \"something\", \"something\", \"something\", \"something\", \"something\", \"sql\", \"sql\", \"sql\", \"sql\", \"sql\", \"sql\", \"sql\", \"sql\", \"sql\", \"sql\", \"sql\", \"sql\", \"sql\", \"sql\", \"sql\", \"sql\", \"sql\", \"sql\", \"sql\", \"sql\", \"sql\", \"sql\", \"sql\", \"sql\", \"sql\", \"sql\", \"sql\", \"sql\", \"sql\", \"string\", \"string\", \"string\", \"string\", \"string\", \"string\", \"string\", \"string\", \"string\", \"string\", \"string\", \"string\", \"string\", \"string\", \"string\", \"string\", \"string\", \"string\", \"string\", \"string\", \"string\", \"string\", \"string\", \"string\", \"string\", \"string\", \"string\", \"string\", \"string\", \"string\", \"string\", \"string\", \"string\", \"string\", \"string\", \"string\", \"string\", \"string\", \"string\", \"string\", \"string\", \"string\", \"string\", \"string\", \"string\", \"string\", \"string\", \"string\", \"string\", \"string\", \"string\", \"string\", \"system\", \"system\", \"system\", \"system\", \"system\", \"system\", \"system\", \"system\", \"system\", \"system\", \"system\", \"system\", \"system\", \"system\", \"system\", \"system\", \"system\", \"system\", \"system\", \"system\", \"system\", \"system\", \"system\", \"system\", \"system\", \"system\", \"system\", \"system\", \"system\", \"system\", \"system\", \"system\", \"system\", \"system\", \"system\", \"system\", \"system\", \"system\", \"system\", \"system\", \"system\", \"system\", \"system\", \"system\", \"system\", \"system\", \"system\", \"system\", \"system\", \"table\", \"table\", \"table\", \"table\", \"table\", \"table\", \"table\", \"table\", \"table\", \"table\", \"table\", \"table\", \"table\", \"table\", \"table\", \"table\", \"table\", \"table\", \"table\", \"table\", \"table\", \"table\", \"table\", \"table\", \"table\", \"table\", \"table\", \"table\", \"table\", \"table\", \"table\", \"table\", \"table\", \"table\", \"test\", \"test\", \"test\", \"test\", \"test\", \"test\", \"test\", \"test\", \"test\", \"test\", \"test\", \"test\", \"test\", \"test\", \"test\", \"test\", \"test\", \"test\", \"test\", \"test\", \"test\", \"test\", \"test\", \"test\", \"test\", \"test\", \"test\", \"test\", \"test\", \"test\", \"test\", \"test\", \"test\", \"test\", \"test\", \"test\", \"test\", \"test\", \"test\", \"test\", \"test\", \"test\", \"test\", \"test\", \"test\", \"test\", \"test\", \"test\", \"text\", \"text\", \"text\", \"text\", \"text\", \"text\", \"text\", \"text\", \"text\", \"text\", \"text\", \"text\", \"text\", \"text\", \"text\", \"text\", \"text\", \"text\", \"text\", \"text\", \"text\", \"text\", \"text\", \"text\", \"text\", \"text\", \"text\", \"text\", \"text\", \"text\", \"text\", \"text\", \"text\", \"text\", \"text\", \"text\", \"text\", \"text\", \"text\", \"text\", \"thanks\", \"thanks\", \"thanks\", \"thanks\", \"thanks\", \"thanks\", \"thanks\", \"thanks\", \"thanks\", \"thanks\", \"thanks\", \"thanks\", \"thanks\", \"thanks\", \"thanks\", \"thanks\", \"thanks\", \"thanks\", \"thanks\", \"thanks\", \"thanks\", \"thanks\", \"thanks\", \"thanks\", \"thanks\", \"thanks\", \"thanks\", \"thanks\", \"thanks\", \"thanks\", \"thanks\", \"thanks\", \"thanks\", \"thanks\", \"thanks\", \"thanks\", \"thanks\", \"thanks\", \"thanks\", \"thanks\", \"thanks\", \"thanks\", \"thanks\", \"thanks\", \"thanks\", \"thanks\", \"thanks\", \"thanks\", \"thanks\", \"thanks\", \"thanks\", \"thanks\", \"thanks\", \"thanks\", \"thanks\", \"thanks\", \"thanks\", \"thanks\", \"thanks\", \"thanks\", \"thanks\", \"thanks\", \"thanks\", \"thanks\", \"thanks\", \"thanks\", \"thanks\", \"thanks\", \"thanks\", \"thanks\", \"thanks\", \"thanks\", \"thanks\", \"thanks\", \"thanks\", \"thanks\", \"thanks\", \"thing\", \"thing\", \"thing\", \"thing\", \"thing\", \"thing\", \"thing\", \"thing\", \"thing\", \"thing\", \"thing\", \"thing\", \"thing\", \"thing\", \"thing\", \"thing\", \"thing\", \"thing\", \"thing\", \"thing\", \"thing\", \"thing\", \"thing\", \"thing\", \"thing\", \"thing\", \"thing\", \"thing\", \"thing\", \"thing\", \"thing\", \"thing\", \"thing\", \"thing\", \"thing\", \"thing\", \"thing\", \"thing\", \"thing\", \"thing\", \"thing\", \"thing\", \"thing\", \"thing\", \"thing\", \"thing\", \"thing\", \"thing\", \"thing\", \"thing\", \"thing\", \"thing\", \"thing\", \"thing\", \"thing\", \"thing\", \"thing\", \"thing\", \"thing\", \"thing\", \"thing\", \"thing\", \"thing\", \"thing\", \"thing\", \"thing\", \"thing\", \"thing\", \"thing\", \"thing\", \"thing\", \"thing\", \"thing\", \"thing\", \"thing\", \"thing\", \"time\", \"time\", \"time\", \"time\", \"time\", \"time\", \"time\", \"time\", \"time\", \"time\", \"time\", \"time\", \"time\", \"time\", \"time\", \"time\", \"time\", \"time\", \"time\", \"time\", \"time\", \"time\", \"time\", \"time\", \"time\", \"time\", \"time\", \"time\", \"time\", \"time\", \"time\", \"time\", \"time\", \"time\", \"time\", \"time\", \"time\", \"time\", \"time\", \"time\", \"time\", \"time\", \"time\", \"time\", \"time\", \"time\", \"time\", \"time\", \"time\", \"time\", \"time\", \"time\", \"time\", \"time\", \"time\", \"time\", \"time\", \"time\", \"time\", \"time\", \"time\", \"time\", \"time\", \"time\", \"time\", \"time\", \"time\", \"time\", \"time\", \"time\", \"time\", \"time\", \"time\", \"time\", \"time\", \"time\", \"time\", \"time\", \"type\", \"type\", \"type\", \"type\", \"type\", \"type\", \"type\", \"type\", \"type\", \"type\", \"type\", \"type\", \"type\", \"type\", \"type\", \"type\", \"type\", \"type\", \"type\", \"type\", \"type\", \"type\", \"type\", \"type\", \"type\", \"type\", \"type\", \"type\", \"type\", \"type\", \"type\", \"type\", \"type\", \"type\", \"type\", \"type\", \"type\", \"type\", \"type\", \"type\", \"type\", \"type\", \"type\", \"type\", \"type\", \"type\", \"type\", \"type\", \"type\", \"type\", \"type\", \"type\", \"type\", \"type\", \"type\", \"type\", \"type\", \"type\", \"type\", \"type\", \"type\", \"type\", \"type\", \"update\", \"update\", \"update\", \"update\", \"update\", \"update\", \"update\", \"update\", \"update\", \"update\", \"update\", \"update\", \"update\", \"update\", \"update\", \"update\", \"update\", \"update\", \"update\", \"update\", \"update\", \"update\", \"update\", \"update\", \"update\", \"update\", \"update\", \"update\", \"update\", \"update\", \"update\", \"update\", \"update\", \"update\", \"update\", \"update\", \"update\", \"update\", \"update\", \"update\", \"update\", \"update\", \"update\", \"update\", \"update\", \"update\", \"update\", \"update\", \"update\", \"update\", \"update\", \"update\", \"update\", \"update\", \"update\", \"update\", \"update\", \"update\", \"update\", \"update\", \"update\", \"update\", \"update\", \"use\", \"use\", \"use\", \"use\", \"use\", \"use\", \"use\", \"use\", \"use\", \"use\", \"use\", \"use\", \"use\", \"use\", \"use\", \"use\", \"use\", \"use\", \"use\", \"use\", \"use\", \"use\", \"use\", \"use\", \"use\", \"use\", \"use\", \"use\", \"use\", \"use\", \"use\", \"use\", \"use\", \"use\", \"use\", \"use\", \"use\", \"use\", \"use\", \"use\", \"use\", \"use\", \"use\", \"use\", \"use\", \"use\", \"use\", \"use\", \"use\", \"use\", \"use\", \"use\", \"use\", \"use\", \"use\", \"use\", \"use\", \"use\", \"use\", \"use\", \"use\", \"use\", \"use\", \"use\", \"use\", \"use\", \"use\", \"use\", \"use\", \"use\", \"use\", \"use\", \"use\", \"use\", \"use\", \"use\", \"use\", \"use\", \"use\", \"use\", \"user\", \"user\", \"user\", \"user\", \"user\", \"user\", \"user\", \"user\", \"user\", \"user\", \"user\", \"user\", \"user\", \"user\", \"user\", \"user\", \"user\", \"user\", \"user\", \"user\", \"user\", \"user\", \"user\", \"user\", \"user\", \"user\", \"user\", \"user\", \"user\", \"user\", \"user\", \"user\", \"user\", \"user\", \"user\", \"user\", \"user\", \"user\", \"user\", \"user\", \"user\", \"user\", \"user\", \"user\", \"user\", \"user\", \"user\", \"user\", \"user\", \"user\", \"user\", \"user\", \"user\", \"user\", \"user\", \"user\", \"user\", \"user\", \"user\", \"user\", \"user\", \"user\", \"user\", \"user\", \"user\", \"user\", \"user\", \"user\", \"user\", \"value\", \"value\", \"value\", \"value\", \"value\", \"value\", \"value\", \"value\", \"value\", \"value\", \"value\", \"value\", \"value\", \"value\", \"value\", \"value\", \"value\", \"value\", \"value\", \"value\", \"value\", \"value\", \"value\", \"value\", \"value\", \"value\", \"value\", \"value\", \"value\", \"value\", \"value\", \"value\", \"value\", \"value\", \"value\", \"value\", \"value\", \"value\", \"value\", \"value\", \"value\", \"value\", \"value\", \"value\", \"value\", \"value\", \"value\", \"value\", \"value\", \"value\", \"value\", \"value\", \"value\", \"value\", \"value\", \"value\", \"value\", \"value\", \"value\", \"value\", \"value\", \"value\", \"value\", \"value\", \"value\", \"value\", \"value\", \"version\", \"version\", \"version\", \"version\", \"version\", \"version\", \"version\", \"version\", \"version\", \"version\", \"version\", \"version\", \"version\", \"version\", \"version\", \"version\", \"version\", \"version\", \"version\", \"version\", \"version\", \"version\", \"version\", \"version\", \"version\", \"version\", \"version\", \"version\", \"version\", \"version\", \"version\", \"version\", \"version\", \"version\", \"version\", \"version\", \"version\", \"version\", \"version\", \"version\", \"version\", \"version\", \"version\", \"version\", \"version\", \"version\", \"version\", \"version\", \"version\", \"version\", \"version\", \"version\", \"version\", \"version\", \"version\", \"version\", \"view\", \"view\", \"view\", \"view\", \"view\", \"view\", \"view\", \"view\", \"view\", \"view\", \"view\", \"view\", \"view\", \"view\", \"view\", \"view\", \"view\", \"view\", \"view\", \"view\", \"view\", \"view\", \"view\", \"view\", \"view\", \"view\", \"view\", \"view\", \"view\", \"want\", \"want\", \"want\", \"want\", \"want\", \"want\", \"want\", \"want\", \"want\", \"want\", \"want\", \"want\", \"want\", \"want\", \"want\", \"want\", \"want\", \"want\", \"want\", \"want\", \"want\", \"want\", \"want\", \"want\", \"want\", \"want\", \"want\", \"want\", \"want\", \"want\", \"want\", \"want\", \"want\", \"want\", \"want\", \"want\", \"want\", \"want\", \"want\", \"want\", \"want\", \"want\", \"want\", \"want\", \"want\", \"want\", \"want\", \"want\", \"want\", \"want\", \"want\", \"want\", \"want\", \"want\", \"want\", \"way\", \"way\", \"way\", \"way\", \"way\", \"way\", \"way\", \"way\", \"way\", \"way\", \"way\", \"way\", \"way\", \"way\", \"way\", \"way\", \"way\", \"way\", \"way\", \"way\", \"way\", \"way\", \"way\", \"way\", \"way\", \"way\", \"way\", \"way\", \"way\", \"way\", \"way\", \"way\", \"way\", \"way\", \"way\", \"way\", \"way\", \"way\", \"way\", \"way\", \"way\", \"way\", \"way\", \"way\", \"way\", \"way\", \"way\", \"way\", \"way\", \"way\", \"way\", \"way\", \"way\", \"way\", \"way\", \"way\", \"way\", \"way\", \"way\", \"way\", \"way\", \"way\", \"way\", \"way\", \"way\", \"way\", \"way\", \"way\", \"way\", \"way\", \"way\", \"way\", \"way\", \"way\", \"way\", \"way\", \"way\", \"way\", \"way\", \"way\", \"web\", \"web\", \"web\", \"web\", \"web\", \"web\", \"web\", \"web\", \"web\", \"web\", \"web\", \"web\", \"web\", \"web\", \"web\", \"web\", \"web\", \"web\", \"web\", \"web\", \"web\", \"web\", \"web\", \"web\", \"web\", \"web\", \"web\", \"web\", \"web\", \"web\", \"web\", \"web\", \"web\", \"web\", \"web\", \"web\", \"web\", \"web\", \"web\", \"web\", \"web\", \"web\", \"web\", \"web\", \"web\", \"web\", \"web\", \"web\", \"web\", \"web\", \"web\", \"web\", \"window\", \"window\", \"window\", \"window\", \"window\", \"window\", \"window\", \"window\", \"window\", \"window\", \"window\", \"window\", \"window\", \"window\", \"window\", \"window\", \"window\", \"window\", \"window\", \"window\", \"window\", \"window\", \"window\", \"window\", \"window\", \"window\", \"window\", \"window\", \"window\", \"window\", \"window\", \"window\", \"window\", \"window\", \"window\", \"window\", \"window\", \"window\", \"window\", \"window\", \"window\", \"window\", \"window\", \"window\", \"window\", \"window\", \"window\", \"window\", \"window\", \"window\", \"work\", \"work\", \"work\", \"work\", \"work\", \"work\", \"work\", \"work\", \"work\", \"work\", \"work\", \"work\", \"work\", \"work\", \"work\", \"work\", \"work\", \"work\", \"work\", \"work\", \"work\", \"work\", \"work\", \"work\", \"work\", \"work\", \"work\", \"work\", \"work\", \"work\", \"work\", \"work\", \"work\", \"work\", \"work\", \"work\", \"work\", \"work\", \"work\", \"work\", \"work\", \"work\", \"work\", \"work\", \"work\", \"work\", \"work\", \"work\", \"work\", \"work\", \"work\", \"work\", \"work\", \"work\", \"work\", \"work\", \"work\", \"work\", \"work\", \"work\", \"work\", \"work\", \"work\", \"work\", \"work\", \"work\", \"work\", \"work\", \"work\", \"work\", \"work\", \"work\", \"work\", \"work\", \"work\", \"work\", \"work\", \"work\", \"work\", \"work\", \"write\", \"write\", \"write\", \"write\", \"write\", \"write\", \"write\", \"write\", \"write\", \"write\", \"write\", \"write\", \"write\", \"write\", \"write\", \"write\", \"write\", \"write\", \"write\", \"write\", \"write\", \"write\", \"write\", \"write\", \"write\", \"write\", \"write\", \"write\", \"write\", \"write\", \"write\", \"write\", \"write\", \"write\", \"write\", \"write\", \"write\", \"write\", \"write\", \"write\", \"write\", \"write\", \"write\", \"write\", \"write\", \"write\", \"write\", \"write\", \"write\", \"write\", \"write\", \"write\", \"write\", \"write\", \"write\", \"write\", \"write\"]}, \"R\": 30, \"lambda.step\": 0.01, \"plot.opts\": {\"xlab\": \"PC1\", \"ylab\": \"PC2\"}, \"topic.order\": [58, 41, 62, 11, 21, 42, 35, 33, 12, 22, 34, 72, 17, 38, 52, 26, 76, 24, 27, 23, 49, 50, 16, 31, 56, 10, 46, 4, 8, 69, 47, 14, 61, 60, 64, 70, 55, 29, 78, 20, 36, 15, 75, 13, 45, 65, 74, 57, 66, 28, 5, 3, 30, 43, 25, 68, 77, 18, 63, 7, 32, 73, 1, 40, 9, 71, 19, 44, 51, 79, 39, 59, 37, 6, 2, 54, 48, 67, 53, 80]};\n",
       "\n",
       "function LDAvis_load_lib(url, callback){\n",
       "  var s = document.createElement('script');\n",
       "  s.src = url;\n",
       "  s.async = true;\n",
       "  s.onreadystatechange = s.onload = callback;\n",
       "  s.onerror = function(){console.warn(\"failed to load library \" + url);};\n",
       "  document.getElementsByTagName(\"head\")[0].appendChild(s);\n",
       "}\n",
       "\n",
       "if(typeof(LDAvis) !== \"undefined\"){\n",
       "   // already loaded: just create the visualization\n",
       "   !function(LDAvis){\n",
       "       new LDAvis(\"#\" + \"ldavis_el19081110353767687507692627\", ldavis_el19081110353767687507692627_data);\n",
       "   }(LDAvis);\n",
       "}else if(typeof define === \"function\" && define.amd){\n",
       "   // require.js is available: use it to load d3/LDAvis\n",
       "   require.config({paths: {d3: \"https://d3js.org/d3.v5\"}});\n",
       "   require([\"d3\"], function(d3){\n",
       "      window.d3 = d3;\n",
       "      LDAvis_load_lib(\"https://cdn.jsdelivr.net/gh/bmabey/pyLDAvis@3.3.1/pyLDAvis/js/ldavis.v3.0.0.js\", function(){\n",
       "        new LDAvis(\"#\" + \"ldavis_el19081110353767687507692627\", ldavis_el19081110353767687507692627_data);\n",
       "      });\n",
       "    });\n",
       "}else{\n",
       "    // require.js not available: dynamically load d3 & LDAvis\n",
       "    LDAvis_load_lib(\"https://d3js.org/d3.v5.js\", function(){\n",
       "         LDAvis_load_lib(\"https://cdn.jsdelivr.net/gh/bmabey/pyLDAvis@3.3.1/pyLDAvis/js/ldavis.v3.0.0.js\", function(){\n",
       "                 new LDAvis(\"#\" + \"ldavis_el19081110353767687507692627\", ldavis_el19081110353767687507692627_data);\n",
       "            })\n",
       "         });\n",
       "}\n",
       "</script>"
      ],
      "text/plain": [
       "<IPython.core.display.HTML object>"
      ]
     },
     "execution_count": 14,
     "metadata": {},
     "output_type": "execute_result"
    }
   ],
   "source": [
    "lda_display = pyLDAvis.gensim_models.prepare(lda_model, corpus_train, dictionary, sort_topics=True)\n",
    "pyLDAvis.display(lda_display)"
   ]
  },
  {
   "cell_type": "markdown",
   "metadata": {},
   "source": [
    "In order to use the *LDA* model to make predictions, we develop a function to select 5 predictions by prioritizing terms that are present in the *title* of the question.\\\n",
    "If this does not make up for 5 *tags*, we select the terms with the highest frequencies until we obtain 5 terms."
   ]
  },
  {
   "cell_type": "code",
   "execution_count": 15,
   "metadata": {},
   "outputs": [],
   "source": [
    "def filter_preds(document, preds, length=5):\n",
    "    \n",
    "    filtered_preds = list()\n",
    "\n",
    "    if type(document) == float:\n",
    "\n",
    "        pass\n",
    "\n",
    "    else:\n",
    "\n",
    "        for pred in preds:\n",
    "\n",
    "            if pred in document:\n",
    "\n",
    "                filtered_preds.append(pred)\n",
    "                preds.remove(pred)\n",
    "\n",
    "        filtered_preds = filtered_preds[:length]\n",
    "\n",
    "    for pred in preds:\n",
    "\n",
    "        if len(filtered_preds) == length:\n",
    "            \n",
    "            break\n",
    "        \n",
    "        else:\n",
    "\n",
    "            filtered_preds.append(pred)\n",
    "    \n",
    "    return filtered_preds"
   ]
  },
  {
   "cell_type": "markdown",
   "metadata": {},
   "source": [
    "We predict the *tags* for each *document* of the *corpus* using the *get_topic_terms* method after translating the *X_test set* to a *bag of words* using the training *dictionary*.\\\n",
    "We then apply the *filter_preds* function described above:"
   ]
  },
  {
   "cell_type": "code",
   "execution_count": 23,
   "metadata": {},
   "outputs": [
    {
     "data": {
      "text/html": [
       "<div>\n",
       "<style scoped>\n",
       "    .dataframe tbody tr th:only-of-type {\n",
       "        vertical-align: middle;\n",
       "    }\n",
       "\n",
       "    .dataframe tbody tr th {\n",
       "        vertical-align: top;\n",
       "    }\n",
       "\n",
       "    .dataframe thead th {\n",
       "        text-align: right;\n",
       "    }\n",
       "</style>\n",
       "<table border=\"1\" class=\"dataframe\">\n",
       "  <thead>\n",
       "    <tr style=\"text-align: right;\">\n",
       "      <th></th>\n",
       "      <th>Title_tokens</th>\n",
       "      <th>Tags_tokens</th>\n",
       "      <th>LDA</th>\n",
       "    </tr>\n",
       "  </thead>\n",
       "  <tbody>\n",
       "    <tr>\n",
       "      <th>199</th>\n",
       "      <td>strategy,audit,trail/change,history,db,applica...</td>\n",
       "      <td>database,postgresql,database-design,crud,audit...</td>\n",
       "      <td>[database, sql, class, list, object]</td>\n",
       "    </tr>\n",
       "    <tr>\n",
       "      <th>39489</th>\n",
       "      <td>strcmp,string,:compare</td>\n",
       "      <td>c++,c,string,char,string-comparison</td>\n",
       "      <td>[text, file, database, object, jquery]</td>\n",
       "    </tr>\n",
       "    <tr>\n",
       "      <th>42724</th>\n",
       "      <td>decode,entity,rail</td>\n",
       "      <td>ruby-on-rails,ruby,ruby-on-rails-3,html-entiti...</td>\n",
       "      <td>[function, class, object, string, c++]</td>\n",
       "    </tr>\n",
       "    <tr>\n",
       "      <th>10822</th>\n",
       "      <td>pointer,structure</td>\n",
       "      <td>c,pointers,variables,struct,return</td>\n",
       "      <td>[c, function, file, object, .net]</td>\n",
       "    </tr>\n",
       "    <tr>\n",
       "      <th>4144</th>\n",
       "      <td>use,http,authentication,client,web,service</td>\n",
       "      <td>java,web-services,ssl,cxf,ws-security</td>\n",
       "      <td>[http, file, database, object, function]</td>\n",
       "    </tr>\n",
       "    <tr>\n",
       "      <th>...</th>\n",
       "      <td>...</td>\n",
       "      <td>...</td>\n",
       "      <td>...</td>\n",
       "    </tr>\n",
       "    <tr>\n",
       "      <th>43515</th>\n",
       "      <td>difference,appdelegate.m,view,controller.m</td>\n",
       "      <td>iphone,objective-c,xcode,delegates,viewcontroller</td>\n",
       "      <td>[object, class, file, list, javascript]</td>\n",
       "    </tr>\n",
       "    <tr>\n",
       "      <th>26859</th>\n",
       "      <td>center,mass,set,point,map,distance,point</td>\n",
       "      <td>algorithm,language-agnostic,math,geometry,topo...</td>\n",
       "      <td>[function, class, object, string, http]</td>\n",
       "    </tr>\n",
       "    <tr>\n",
       "      <th>28567</th>\n",
       "      <td>class</td>\n",
       "      <td>c#,wpf,mvvm,dependency-properties,mvvm-foundation</td>\n",
       "      <td>[class, .net, function, string, javascript]</td>\n",
       "    </tr>\n",
       "    <tr>\n",
       "      <th>18707</th>\n",
       "      <td>macro,gcc/g++,differentiate,linux,mac,osx</td>\n",
       "      <td>linux,macos,gcc,cross-platform,macros</td>\n",
       "      <td>[list, file, .net, class, object]</td>\n",
       "    </tr>\n",
       "    <tr>\n",
       "      <th>15200</th>\n",
       "      <td>console,window,application</td>\n",
       "      <td>windows,visual-studio,qt,console,hide</td>\n",
       "      <td>[file, c, function, window, application]</td>\n",
       "    </tr>\n",
       "  </tbody>\n",
       "</table>\n",
       "<p>5065 rows × 3 columns</p>\n",
       "</div>"
      ],
      "text/plain": [
       "                                            Title_tokens  \\\n",
       "199    strategy,audit,trail/change,history,db,applica...   \n",
       "39489                             strcmp,string,:compare   \n",
       "42724                                 decode,entity,rail   \n",
       "10822                                  pointer,structure   \n",
       "4144          use,http,authentication,client,web,service   \n",
       "...                                                  ...   \n",
       "43515         difference,appdelegate.m,view,controller.m   \n",
       "26859           center,mass,set,point,map,distance,point   \n",
       "28567                                              class   \n",
       "18707          macro,gcc/g++,differentiate,linux,mac,osx   \n",
       "15200                         console,window,application   \n",
       "\n",
       "                                             Tags_tokens  \\\n",
       "199    database,postgresql,database-design,crud,audit...   \n",
       "39489                c++,c,string,char,string-comparison   \n",
       "42724  ruby-on-rails,ruby,ruby-on-rails-3,html-entiti...   \n",
       "10822                 c,pointers,variables,struct,return   \n",
       "4144               java,web-services,ssl,cxf,ws-security   \n",
       "...                                                  ...   \n",
       "43515  iphone,objective-c,xcode,delegates,viewcontroller   \n",
       "26859  algorithm,language-agnostic,math,geometry,topo...   \n",
       "28567  c#,wpf,mvvm,dependency-properties,mvvm-foundation   \n",
       "18707              linux,macos,gcc,cross-platform,macros   \n",
       "15200              windows,visual-studio,qt,console,hide   \n",
       "\n",
       "                                               LDA  \n",
       "199           [database, sql, class, list, object]  \n",
       "39489       [text, file, database, object, jquery]  \n",
       "42724       [function, class, object, string, c++]  \n",
       "10822            [c, function, file, object, .net]  \n",
       "4144      [http, file, database, object, function]  \n",
       "...                                            ...  \n",
       "43515      [object, class, file, list, javascript]  \n",
       "26859      [function, class, object, string, http]  \n",
       "28567  [class, .net, function, string, javascript]  \n",
       "18707            [list, file, .net, class, object]  \n",
       "15200     [file, c, function, window, application]  \n",
       "\n",
       "[5065 rows x 3 columns]"
      ]
     },
     "execution_count": 23,
     "metadata": {},
     "output_type": "execute_result"
    }
   ],
   "source": [
    "texts_test = transformer.X_test_raw.str.split(',')\n",
    "corpus_test = [dictionary.doc2bow(text) for text in texts_test]\n",
    "topics = [sorted(topic, key= lambda tup: tup[1])[-1][0] for topic in lda_model.get_document_topics(corpus_test)]\n",
    "preds = [[dictionary[tag[0]] for tag in lda_model.get_topic_terms(topicid=topic, topn=50)] for topic in topics]\n",
    "transformer.test_df['LDA'] = preds\n",
    "transformer.test_df['LDA'] = transformer.test_df.apply(lambda x: filter_preds(transformer.top_tags, x['LDA']), axis=1)\n",
    "transformer.test_df[['Title_tokens', 'Tags_tokens', 'LDA']]"
   ]
  },
  {
   "cell_type": "markdown",
   "metadata": {},
   "source": [
    "We can still calculate the *ratio of tags hit* using our *PerformanceReport* class:"
   ]
  },
  {
   "cell_type": "code",
   "execution_count": 24,
   "metadata": {},
   "outputs": [
    {
     "name": "stdout",
     "output_type": "stream",
     "text": [
      "Ratio of tags hit: 0.0688\n"
     ]
    }
   ],
   "source": [
    "report.tags_ratio('LDA', transformer.test_df, 'Tags_tokens')"
   ]
  },
  {
   "cell_type": "markdown",
   "metadata": {},
   "source": [
    "# Supervised"
   ]
  },
  {
   "cell_type": "markdown",
   "metadata": {},
   "source": [
    "### Logistic Regression"
   ]
  },
  {
   "cell_type": "code",
   "execution_count": 19,
   "metadata": {},
   "outputs": [
    {
     "ename": "KeyboardInterrupt",
     "evalue": "",
     "output_type": "error",
     "traceback": [
      "\u001b[0;31m---------------------------------------------------------------------------\u001b[0m",
      "\u001b[0;31mKeyboardInterrupt\u001b[0m                         Traceback (most recent call last)",
      "Input \u001b[0;32mIn [19]\u001b[0m, in \u001b[0;36m<module>\u001b[0;34m\u001b[0m\n\u001b[1;32m      1\u001b[0m \u001b[39mfrom\u001b[39;00m \u001b[39msklearn\u001b[39;00m\u001b[39m.\u001b[39;00m\u001b[39mlinear_model\u001b[39;00m \u001b[39mimport\u001b[39;00m LogisticRegression\n\u001b[1;32m      3\u001b[0m logr_model \u001b[39m=\u001b[39m OneVsRestClassifier(LogisticRegression(solver\u001b[39m=\u001b[39m\u001b[39m'\u001b[39m\u001b[39mlbfgs\u001b[39m\u001b[39m'\u001b[39m))\n\u001b[0;32m----> 4\u001b[0m logr_model\u001b[39m.\u001b[39;49mfit(X_train, y_train)\n\u001b[1;32m      6\u001b[0m \u001b[39m#estimate the best predicted tags\u001b[39;00m\n\u001b[1;32m      7\u001b[0m preds \u001b[39m=\u001b[39m logr_model\u001b[39m.\u001b[39mpredict(X_test)\n",
      "File \u001b[0;32m/opt/homebrew/Caskroom/miniforge/base/envs/P5/lib/python3.9/site-packages/sklearn/multiclass.py:337\u001b[0m, in \u001b[0;36mOneVsRestClassifier.fit\u001b[0;34m(self, X, y)\u001b[0m\n\u001b[1;32m    <a href='file:///opt/homebrew/Caskroom/miniforge/base/envs/P5/lib/python3.9/site-packages/sklearn/multiclass.py?line=332'>333</a>\u001b[0m columns \u001b[39m=\u001b[39m (col\u001b[39m.\u001b[39mtoarray()\u001b[39m.\u001b[39mravel() \u001b[39mfor\u001b[39;00m col \u001b[39min\u001b[39;00m Y\u001b[39m.\u001b[39mT)\n\u001b[1;32m    <a href='file:///opt/homebrew/Caskroom/miniforge/base/envs/P5/lib/python3.9/site-packages/sklearn/multiclass.py?line=333'>334</a>\u001b[0m \u001b[39m# In cases where individual estimators are very fast to train setting\u001b[39;00m\n\u001b[1;32m    <a href='file:///opt/homebrew/Caskroom/miniforge/base/envs/P5/lib/python3.9/site-packages/sklearn/multiclass.py?line=334'>335</a>\u001b[0m \u001b[39m# n_jobs > 1 in can results in slower performance due to the overhead\u001b[39;00m\n\u001b[1;32m    <a href='file:///opt/homebrew/Caskroom/miniforge/base/envs/P5/lib/python3.9/site-packages/sklearn/multiclass.py?line=335'>336</a>\u001b[0m \u001b[39m# of spawning threads.  See joblib issue #112.\u001b[39;00m\n\u001b[0;32m--> <a href='file:///opt/homebrew/Caskroom/miniforge/base/envs/P5/lib/python3.9/site-packages/sklearn/multiclass.py?line=336'>337</a>\u001b[0m \u001b[39mself\u001b[39m\u001b[39m.\u001b[39mestimators_ \u001b[39m=\u001b[39m Parallel(n_jobs\u001b[39m=\u001b[39;49m\u001b[39mself\u001b[39;49m\u001b[39m.\u001b[39;49mn_jobs)(\n\u001b[1;32m    <a href='file:///opt/homebrew/Caskroom/miniforge/base/envs/P5/lib/python3.9/site-packages/sklearn/multiclass.py?line=337'>338</a>\u001b[0m     delayed(_fit_binary)(\n\u001b[1;32m    <a href='file:///opt/homebrew/Caskroom/miniforge/base/envs/P5/lib/python3.9/site-packages/sklearn/multiclass.py?line=338'>339</a>\u001b[0m         \u001b[39mself\u001b[39;49m\u001b[39m.\u001b[39;49mestimator,\n\u001b[1;32m    <a href='file:///opt/homebrew/Caskroom/miniforge/base/envs/P5/lib/python3.9/site-packages/sklearn/multiclass.py?line=339'>340</a>\u001b[0m         X,\n\u001b[1;32m    <a href='file:///opt/homebrew/Caskroom/miniforge/base/envs/P5/lib/python3.9/site-packages/sklearn/multiclass.py?line=340'>341</a>\u001b[0m         column,\n\u001b[1;32m    <a href='file:///opt/homebrew/Caskroom/miniforge/base/envs/P5/lib/python3.9/site-packages/sklearn/multiclass.py?line=341'>342</a>\u001b[0m         classes\u001b[39m=\u001b[39;49m[\n\u001b[1;32m    <a href='file:///opt/homebrew/Caskroom/miniforge/base/envs/P5/lib/python3.9/site-packages/sklearn/multiclass.py?line=342'>343</a>\u001b[0m             \u001b[39m\"\u001b[39;49m\u001b[39mnot \u001b[39;49m\u001b[39m%s\u001b[39;49;00m\u001b[39m\"\u001b[39;49m \u001b[39m%\u001b[39;49m \u001b[39mself\u001b[39;49m\u001b[39m.\u001b[39;49mlabel_binarizer_\u001b[39m.\u001b[39;49mclasses_[i],\n\u001b[1;32m    <a href='file:///opt/homebrew/Caskroom/miniforge/base/envs/P5/lib/python3.9/site-packages/sklearn/multiclass.py?line=343'>344</a>\u001b[0m             \u001b[39mself\u001b[39;49m\u001b[39m.\u001b[39;49mlabel_binarizer_\u001b[39m.\u001b[39;49mclasses_[i],\n\u001b[1;32m    <a href='file:///opt/homebrew/Caskroom/miniforge/base/envs/P5/lib/python3.9/site-packages/sklearn/multiclass.py?line=344'>345</a>\u001b[0m         ],\n\u001b[1;32m    <a href='file:///opt/homebrew/Caskroom/miniforge/base/envs/P5/lib/python3.9/site-packages/sklearn/multiclass.py?line=345'>346</a>\u001b[0m     )\n\u001b[1;32m    <a href='file:///opt/homebrew/Caskroom/miniforge/base/envs/P5/lib/python3.9/site-packages/sklearn/multiclass.py?line=346'>347</a>\u001b[0m     \u001b[39mfor\u001b[39;49;00m i, column \u001b[39min\u001b[39;49;00m \u001b[39menumerate\u001b[39;49m(columns)\n\u001b[1;32m    <a href='file:///opt/homebrew/Caskroom/miniforge/base/envs/P5/lib/python3.9/site-packages/sklearn/multiclass.py?line=347'>348</a>\u001b[0m )\n\u001b[1;32m    <a href='file:///opt/homebrew/Caskroom/miniforge/base/envs/P5/lib/python3.9/site-packages/sklearn/multiclass.py?line=349'>350</a>\u001b[0m \u001b[39mif\u001b[39;00m \u001b[39mhasattr\u001b[39m(\u001b[39mself\u001b[39m\u001b[39m.\u001b[39mestimators_[\u001b[39m0\u001b[39m], \u001b[39m\"\u001b[39m\u001b[39mn_features_in_\u001b[39m\u001b[39m\"\u001b[39m):\n\u001b[1;32m    <a href='file:///opt/homebrew/Caskroom/miniforge/base/envs/P5/lib/python3.9/site-packages/sklearn/multiclass.py?line=350'>351</a>\u001b[0m     \u001b[39mself\u001b[39m\u001b[39m.\u001b[39mn_features_in_ \u001b[39m=\u001b[39m \u001b[39mself\u001b[39m\u001b[39m.\u001b[39mestimators_[\u001b[39m0\u001b[39m]\u001b[39m.\u001b[39mn_features_in_\n",
      "File \u001b[0;32m/opt/homebrew/Caskroom/miniforge/base/envs/P5/lib/python3.9/site-packages/joblib/parallel.py:1046\u001b[0m, in \u001b[0;36mParallel.__call__\u001b[0;34m(self, iterable)\u001b[0m\n\u001b[1;32m   <a href='file:///opt/homebrew/Caskroom/miniforge/base/envs/P5/lib/python3.9/site-packages/joblib/parallel.py?line=1042'>1043</a>\u001b[0m \u001b[39mif\u001b[39;00m \u001b[39mself\u001b[39m\u001b[39m.\u001b[39mdispatch_one_batch(iterator):\n\u001b[1;32m   <a href='file:///opt/homebrew/Caskroom/miniforge/base/envs/P5/lib/python3.9/site-packages/joblib/parallel.py?line=1043'>1044</a>\u001b[0m     \u001b[39mself\u001b[39m\u001b[39m.\u001b[39m_iterating \u001b[39m=\u001b[39m \u001b[39mself\u001b[39m\u001b[39m.\u001b[39m_original_iterator \u001b[39mis\u001b[39;00m \u001b[39mnot\u001b[39;00m \u001b[39mNone\u001b[39;00m\n\u001b[0;32m-> <a href='file:///opt/homebrew/Caskroom/miniforge/base/envs/P5/lib/python3.9/site-packages/joblib/parallel.py?line=1045'>1046</a>\u001b[0m \u001b[39mwhile\u001b[39;00m \u001b[39mself\u001b[39;49m\u001b[39m.\u001b[39;49mdispatch_one_batch(iterator):\n\u001b[1;32m   <a href='file:///opt/homebrew/Caskroom/miniforge/base/envs/P5/lib/python3.9/site-packages/joblib/parallel.py?line=1046'>1047</a>\u001b[0m     \u001b[39mpass\u001b[39;00m\n\u001b[1;32m   <a href='file:///opt/homebrew/Caskroom/miniforge/base/envs/P5/lib/python3.9/site-packages/joblib/parallel.py?line=1048'>1049</a>\u001b[0m \u001b[39mif\u001b[39;00m pre_dispatch \u001b[39m==\u001b[39m \u001b[39m\"\u001b[39m\u001b[39mall\u001b[39m\u001b[39m\"\u001b[39m \u001b[39mor\u001b[39;00m n_jobs \u001b[39m==\u001b[39m \u001b[39m1\u001b[39m:\n\u001b[1;32m   <a href='file:///opt/homebrew/Caskroom/miniforge/base/envs/P5/lib/python3.9/site-packages/joblib/parallel.py?line=1049'>1050</a>\u001b[0m     \u001b[39m# The iterable was consumed all at once by the above for loop.\u001b[39;00m\n\u001b[1;32m   <a href='file:///opt/homebrew/Caskroom/miniforge/base/envs/P5/lib/python3.9/site-packages/joblib/parallel.py?line=1050'>1051</a>\u001b[0m     \u001b[39m# No need to wait for async callbacks to trigger to\u001b[39;00m\n\u001b[1;32m   <a href='file:///opt/homebrew/Caskroom/miniforge/base/envs/P5/lib/python3.9/site-packages/joblib/parallel.py?line=1051'>1052</a>\u001b[0m     \u001b[39m# consumption.\u001b[39;00m\n",
      "File \u001b[0;32m/opt/homebrew/Caskroom/miniforge/base/envs/P5/lib/python3.9/site-packages/joblib/parallel.py:861\u001b[0m, in \u001b[0;36mParallel.dispatch_one_batch\u001b[0;34m(self, iterator)\u001b[0m\n\u001b[1;32m    <a href='file:///opt/homebrew/Caskroom/miniforge/base/envs/P5/lib/python3.9/site-packages/joblib/parallel.py?line=858'>859</a>\u001b[0m     \u001b[39mreturn\u001b[39;00m \u001b[39mFalse\u001b[39;00m\n\u001b[1;32m    <a href='file:///opt/homebrew/Caskroom/miniforge/base/envs/P5/lib/python3.9/site-packages/joblib/parallel.py?line=859'>860</a>\u001b[0m \u001b[39melse\u001b[39;00m:\n\u001b[0;32m--> <a href='file:///opt/homebrew/Caskroom/miniforge/base/envs/P5/lib/python3.9/site-packages/joblib/parallel.py?line=860'>861</a>\u001b[0m     \u001b[39mself\u001b[39;49m\u001b[39m.\u001b[39;49m_dispatch(tasks)\n\u001b[1;32m    <a href='file:///opt/homebrew/Caskroom/miniforge/base/envs/P5/lib/python3.9/site-packages/joblib/parallel.py?line=861'>862</a>\u001b[0m     \u001b[39mreturn\u001b[39;00m \u001b[39mTrue\u001b[39;00m\n",
      "File \u001b[0;32m/opt/homebrew/Caskroom/miniforge/base/envs/P5/lib/python3.9/site-packages/joblib/parallel.py:779\u001b[0m, in \u001b[0;36mParallel._dispatch\u001b[0;34m(self, batch)\u001b[0m\n\u001b[1;32m    <a href='file:///opt/homebrew/Caskroom/miniforge/base/envs/P5/lib/python3.9/site-packages/joblib/parallel.py?line=776'>777</a>\u001b[0m \u001b[39mwith\u001b[39;00m \u001b[39mself\u001b[39m\u001b[39m.\u001b[39m_lock:\n\u001b[1;32m    <a href='file:///opt/homebrew/Caskroom/miniforge/base/envs/P5/lib/python3.9/site-packages/joblib/parallel.py?line=777'>778</a>\u001b[0m     job_idx \u001b[39m=\u001b[39m \u001b[39mlen\u001b[39m(\u001b[39mself\u001b[39m\u001b[39m.\u001b[39m_jobs)\n\u001b[0;32m--> <a href='file:///opt/homebrew/Caskroom/miniforge/base/envs/P5/lib/python3.9/site-packages/joblib/parallel.py?line=778'>779</a>\u001b[0m     job \u001b[39m=\u001b[39m \u001b[39mself\u001b[39;49m\u001b[39m.\u001b[39;49m_backend\u001b[39m.\u001b[39;49mapply_async(batch, callback\u001b[39m=\u001b[39;49mcb)\n\u001b[1;32m    <a href='file:///opt/homebrew/Caskroom/miniforge/base/envs/P5/lib/python3.9/site-packages/joblib/parallel.py?line=779'>780</a>\u001b[0m     \u001b[39m# A job can complete so quickly than its callback is\u001b[39;00m\n\u001b[1;32m    <a href='file:///opt/homebrew/Caskroom/miniforge/base/envs/P5/lib/python3.9/site-packages/joblib/parallel.py?line=780'>781</a>\u001b[0m     \u001b[39m# called before we get here, causing self._jobs to\u001b[39;00m\n\u001b[1;32m    <a href='file:///opt/homebrew/Caskroom/miniforge/base/envs/P5/lib/python3.9/site-packages/joblib/parallel.py?line=781'>782</a>\u001b[0m     \u001b[39m# grow. To ensure correct results ordering, .insert is\u001b[39;00m\n\u001b[1;32m    <a href='file:///opt/homebrew/Caskroom/miniforge/base/envs/P5/lib/python3.9/site-packages/joblib/parallel.py?line=782'>783</a>\u001b[0m     \u001b[39m# used (rather than .append) in the following line\u001b[39;00m\n\u001b[1;32m    <a href='file:///opt/homebrew/Caskroom/miniforge/base/envs/P5/lib/python3.9/site-packages/joblib/parallel.py?line=783'>784</a>\u001b[0m     \u001b[39mself\u001b[39m\u001b[39m.\u001b[39m_jobs\u001b[39m.\u001b[39minsert(job_idx, job)\n",
      "File \u001b[0;32m/opt/homebrew/Caskroom/miniforge/base/envs/P5/lib/python3.9/site-packages/joblib/_parallel_backends.py:208\u001b[0m, in \u001b[0;36mSequentialBackend.apply_async\u001b[0;34m(self, func, callback)\u001b[0m\n\u001b[1;32m    <a href='file:///opt/homebrew/Caskroom/miniforge/base/envs/P5/lib/python3.9/site-packages/joblib/_parallel_backends.py?line=205'>206</a>\u001b[0m \u001b[39mdef\u001b[39;00m \u001b[39mapply_async\u001b[39m(\u001b[39mself\u001b[39m, func, callback\u001b[39m=\u001b[39m\u001b[39mNone\u001b[39;00m):\n\u001b[1;32m    <a href='file:///opt/homebrew/Caskroom/miniforge/base/envs/P5/lib/python3.9/site-packages/joblib/_parallel_backends.py?line=206'>207</a>\u001b[0m     \u001b[39m\"\"\"Schedule a func to be run\"\"\"\u001b[39;00m\n\u001b[0;32m--> <a href='file:///opt/homebrew/Caskroom/miniforge/base/envs/P5/lib/python3.9/site-packages/joblib/_parallel_backends.py?line=207'>208</a>\u001b[0m     result \u001b[39m=\u001b[39m ImmediateResult(func)\n\u001b[1;32m    <a href='file:///opt/homebrew/Caskroom/miniforge/base/envs/P5/lib/python3.9/site-packages/joblib/_parallel_backends.py?line=208'>209</a>\u001b[0m     \u001b[39mif\u001b[39;00m callback:\n\u001b[1;32m    <a href='file:///opt/homebrew/Caskroom/miniforge/base/envs/P5/lib/python3.9/site-packages/joblib/_parallel_backends.py?line=209'>210</a>\u001b[0m         callback(result)\n",
      "File \u001b[0;32m/opt/homebrew/Caskroom/miniforge/base/envs/P5/lib/python3.9/site-packages/joblib/_parallel_backends.py:572\u001b[0m, in \u001b[0;36mImmediateResult.__init__\u001b[0;34m(self, batch)\u001b[0m\n\u001b[1;32m    <a href='file:///opt/homebrew/Caskroom/miniforge/base/envs/P5/lib/python3.9/site-packages/joblib/_parallel_backends.py?line=568'>569</a>\u001b[0m \u001b[39mdef\u001b[39;00m \u001b[39m__init__\u001b[39m(\u001b[39mself\u001b[39m, batch):\n\u001b[1;32m    <a href='file:///opt/homebrew/Caskroom/miniforge/base/envs/P5/lib/python3.9/site-packages/joblib/_parallel_backends.py?line=569'>570</a>\u001b[0m     \u001b[39m# Don't delay the application, to avoid keeping the input\u001b[39;00m\n\u001b[1;32m    <a href='file:///opt/homebrew/Caskroom/miniforge/base/envs/P5/lib/python3.9/site-packages/joblib/_parallel_backends.py?line=570'>571</a>\u001b[0m     \u001b[39m# arguments in memory\u001b[39;00m\n\u001b[0;32m--> <a href='file:///opt/homebrew/Caskroom/miniforge/base/envs/P5/lib/python3.9/site-packages/joblib/_parallel_backends.py?line=571'>572</a>\u001b[0m     \u001b[39mself\u001b[39m\u001b[39m.\u001b[39mresults \u001b[39m=\u001b[39m batch()\n",
      "File \u001b[0;32m/opt/homebrew/Caskroom/miniforge/base/envs/P5/lib/python3.9/site-packages/joblib/parallel.py:262\u001b[0m, in \u001b[0;36mBatchedCalls.__call__\u001b[0;34m(self)\u001b[0m\n\u001b[1;32m    <a href='file:///opt/homebrew/Caskroom/miniforge/base/envs/P5/lib/python3.9/site-packages/joblib/parallel.py?line=257'>258</a>\u001b[0m \u001b[39mdef\u001b[39;00m \u001b[39m__call__\u001b[39m(\u001b[39mself\u001b[39m):\n\u001b[1;32m    <a href='file:///opt/homebrew/Caskroom/miniforge/base/envs/P5/lib/python3.9/site-packages/joblib/parallel.py?line=258'>259</a>\u001b[0m     \u001b[39m# Set the default nested backend to self._backend but do not set the\u001b[39;00m\n\u001b[1;32m    <a href='file:///opt/homebrew/Caskroom/miniforge/base/envs/P5/lib/python3.9/site-packages/joblib/parallel.py?line=259'>260</a>\u001b[0m     \u001b[39m# change the default number of processes to -1\u001b[39;00m\n\u001b[1;32m    <a href='file:///opt/homebrew/Caskroom/miniforge/base/envs/P5/lib/python3.9/site-packages/joblib/parallel.py?line=260'>261</a>\u001b[0m     \u001b[39mwith\u001b[39;00m parallel_backend(\u001b[39mself\u001b[39m\u001b[39m.\u001b[39m_backend, n_jobs\u001b[39m=\u001b[39m\u001b[39mself\u001b[39m\u001b[39m.\u001b[39m_n_jobs):\n\u001b[0;32m--> <a href='file:///opt/homebrew/Caskroom/miniforge/base/envs/P5/lib/python3.9/site-packages/joblib/parallel.py?line=261'>262</a>\u001b[0m         \u001b[39mreturn\u001b[39;00m [func(\u001b[39m*\u001b[39margs, \u001b[39m*\u001b[39m\u001b[39m*\u001b[39mkwargs)\n\u001b[1;32m    <a href='file:///opt/homebrew/Caskroom/miniforge/base/envs/P5/lib/python3.9/site-packages/joblib/parallel.py?line=262'>263</a>\u001b[0m                 \u001b[39mfor\u001b[39;00m func, args, kwargs \u001b[39min\u001b[39;00m \u001b[39mself\u001b[39m\u001b[39m.\u001b[39mitems]\n",
      "File \u001b[0;32m/opt/homebrew/Caskroom/miniforge/base/envs/P5/lib/python3.9/site-packages/joblib/parallel.py:262\u001b[0m, in \u001b[0;36m<listcomp>\u001b[0;34m(.0)\u001b[0m\n\u001b[1;32m    <a href='file:///opt/homebrew/Caskroom/miniforge/base/envs/P5/lib/python3.9/site-packages/joblib/parallel.py?line=257'>258</a>\u001b[0m \u001b[39mdef\u001b[39;00m \u001b[39m__call__\u001b[39m(\u001b[39mself\u001b[39m):\n\u001b[1;32m    <a href='file:///opt/homebrew/Caskroom/miniforge/base/envs/P5/lib/python3.9/site-packages/joblib/parallel.py?line=258'>259</a>\u001b[0m     \u001b[39m# Set the default nested backend to self._backend but do not set the\u001b[39;00m\n\u001b[1;32m    <a href='file:///opt/homebrew/Caskroom/miniforge/base/envs/P5/lib/python3.9/site-packages/joblib/parallel.py?line=259'>260</a>\u001b[0m     \u001b[39m# change the default number of processes to -1\u001b[39;00m\n\u001b[1;32m    <a href='file:///opt/homebrew/Caskroom/miniforge/base/envs/P5/lib/python3.9/site-packages/joblib/parallel.py?line=260'>261</a>\u001b[0m     \u001b[39mwith\u001b[39;00m parallel_backend(\u001b[39mself\u001b[39m\u001b[39m.\u001b[39m_backend, n_jobs\u001b[39m=\u001b[39m\u001b[39mself\u001b[39m\u001b[39m.\u001b[39m_n_jobs):\n\u001b[0;32m--> <a href='file:///opt/homebrew/Caskroom/miniforge/base/envs/P5/lib/python3.9/site-packages/joblib/parallel.py?line=261'>262</a>\u001b[0m         \u001b[39mreturn\u001b[39;00m [func(\u001b[39m*\u001b[39;49margs, \u001b[39m*\u001b[39;49m\u001b[39m*\u001b[39;49mkwargs)\n\u001b[1;32m    <a href='file:///opt/homebrew/Caskroom/miniforge/base/envs/P5/lib/python3.9/site-packages/joblib/parallel.py?line=262'>263</a>\u001b[0m                 \u001b[39mfor\u001b[39;00m func, args, kwargs \u001b[39min\u001b[39;00m \u001b[39mself\u001b[39m\u001b[39m.\u001b[39mitems]\n",
      "File \u001b[0;32m/opt/homebrew/Caskroom/miniforge/base/envs/P5/lib/python3.9/site-packages/sklearn/utils/fixes.py:216\u001b[0m, in \u001b[0;36m_FuncWrapper.__call__\u001b[0;34m(self, *args, **kwargs)\u001b[0m\n\u001b[1;32m    <a href='file:///opt/homebrew/Caskroom/miniforge/base/envs/P5/lib/python3.9/site-packages/sklearn/utils/fixes.py?line=213'>214</a>\u001b[0m \u001b[39mdef\u001b[39;00m \u001b[39m__call__\u001b[39m(\u001b[39mself\u001b[39m, \u001b[39m*\u001b[39margs, \u001b[39m*\u001b[39m\u001b[39m*\u001b[39mkwargs):\n\u001b[1;32m    <a href='file:///opt/homebrew/Caskroom/miniforge/base/envs/P5/lib/python3.9/site-packages/sklearn/utils/fixes.py?line=214'>215</a>\u001b[0m     \u001b[39mwith\u001b[39;00m config_context(\u001b[39m*\u001b[39m\u001b[39m*\u001b[39m\u001b[39mself\u001b[39m\u001b[39m.\u001b[39mconfig):\n\u001b[0;32m--> <a href='file:///opt/homebrew/Caskroom/miniforge/base/envs/P5/lib/python3.9/site-packages/sklearn/utils/fixes.py?line=215'>216</a>\u001b[0m         \u001b[39mreturn\u001b[39;00m \u001b[39mself\u001b[39;49m\u001b[39m.\u001b[39;49mfunction(\u001b[39m*\u001b[39;49margs, \u001b[39m*\u001b[39;49m\u001b[39m*\u001b[39;49mkwargs)\n",
      "File \u001b[0;32m/opt/homebrew/Caskroom/miniforge/base/envs/P5/lib/python3.9/site-packages/sklearn/multiclass.py:85\u001b[0m, in \u001b[0;36m_fit_binary\u001b[0;34m(estimator, X, y, classes)\u001b[0m\n\u001b[1;32m     <a href='file:///opt/homebrew/Caskroom/miniforge/base/envs/P5/lib/python3.9/site-packages/sklearn/multiclass.py?line=82'>83</a>\u001b[0m \u001b[39melse\u001b[39;00m:\n\u001b[1;32m     <a href='file:///opt/homebrew/Caskroom/miniforge/base/envs/P5/lib/python3.9/site-packages/sklearn/multiclass.py?line=83'>84</a>\u001b[0m     estimator \u001b[39m=\u001b[39m clone(estimator)\n\u001b[0;32m---> <a href='file:///opt/homebrew/Caskroom/miniforge/base/envs/P5/lib/python3.9/site-packages/sklearn/multiclass.py?line=84'>85</a>\u001b[0m     estimator\u001b[39m.\u001b[39;49mfit(X, y)\n\u001b[1;32m     <a href='file:///opt/homebrew/Caskroom/miniforge/base/envs/P5/lib/python3.9/site-packages/sklearn/multiclass.py?line=85'>86</a>\u001b[0m \u001b[39mreturn\u001b[39;00m estimator\n",
      "File \u001b[0;32m/opt/homebrew/Caskroom/miniforge/base/envs/P5/lib/python3.9/site-packages/sklearn/linear_model/_logistic.py:1589\u001b[0m, in \u001b[0;36mLogisticRegression.fit\u001b[0;34m(self, X, y, sample_weight)\u001b[0m\n\u001b[1;32m   <a href='file:///opt/homebrew/Caskroom/miniforge/base/envs/P5/lib/python3.9/site-packages/sklearn/linear_model/_logistic.py?line=1586'>1587</a>\u001b[0m \u001b[39melse\u001b[39;00m:\n\u001b[1;32m   <a href='file:///opt/homebrew/Caskroom/miniforge/base/envs/P5/lib/python3.9/site-packages/sklearn/linear_model/_logistic.py?line=1587'>1588</a>\u001b[0m     prefer \u001b[39m=\u001b[39m \u001b[39m\"\u001b[39m\u001b[39mprocesses\u001b[39m\u001b[39m\"\u001b[39m\n\u001b[0;32m-> <a href='file:///opt/homebrew/Caskroom/miniforge/base/envs/P5/lib/python3.9/site-packages/sklearn/linear_model/_logistic.py?line=1588'>1589</a>\u001b[0m fold_coefs_ \u001b[39m=\u001b[39m Parallel(\n\u001b[1;32m   <a href='file:///opt/homebrew/Caskroom/miniforge/base/envs/P5/lib/python3.9/site-packages/sklearn/linear_model/_logistic.py?line=1589'>1590</a>\u001b[0m     n_jobs\u001b[39m=\u001b[39;49m\u001b[39mself\u001b[39;49m\u001b[39m.\u001b[39;49mn_jobs,\n\u001b[1;32m   <a href='file:///opt/homebrew/Caskroom/miniforge/base/envs/P5/lib/python3.9/site-packages/sklearn/linear_model/_logistic.py?line=1590'>1591</a>\u001b[0m     verbose\u001b[39m=\u001b[39;49m\u001b[39mself\u001b[39;49m\u001b[39m.\u001b[39;49mverbose,\n\u001b[1;32m   <a href='file:///opt/homebrew/Caskroom/miniforge/base/envs/P5/lib/python3.9/site-packages/sklearn/linear_model/_logistic.py?line=1591'>1592</a>\u001b[0m     \u001b[39m*\u001b[39;49m\u001b[39m*\u001b[39;49m_joblib_parallel_args(prefer\u001b[39m=\u001b[39;49mprefer),\n\u001b[1;32m   <a href='file:///opt/homebrew/Caskroom/miniforge/base/envs/P5/lib/python3.9/site-packages/sklearn/linear_model/_logistic.py?line=1592'>1593</a>\u001b[0m )(\n\u001b[1;32m   <a href='file:///opt/homebrew/Caskroom/miniforge/base/envs/P5/lib/python3.9/site-packages/sklearn/linear_model/_logistic.py?line=1593'>1594</a>\u001b[0m     path_func(\n\u001b[1;32m   <a href='file:///opt/homebrew/Caskroom/miniforge/base/envs/P5/lib/python3.9/site-packages/sklearn/linear_model/_logistic.py?line=1594'>1595</a>\u001b[0m         X,\n\u001b[1;32m   <a href='file:///opt/homebrew/Caskroom/miniforge/base/envs/P5/lib/python3.9/site-packages/sklearn/linear_model/_logistic.py?line=1595'>1596</a>\u001b[0m         y,\n\u001b[1;32m   <a href='file:///opt/homebrew/Caskroom/miniforge/base/envs/P5/lib/python3.9/site-packages/sklearn/linear_model/_logistic.py?line=1596'>1597</a>\u001b[0m         pos_class\u001b[39m=\u001b[39;49mclass_,\n\u001b[1;32m   <a href='file:///opt/homebrew/Caskroom/miniforge/base/envs/P5/lib/python3.9/site-packages/sklearn/linear_model/_logistic.py?line=1597'>1598</a>\u001b[0m         Cs\u001b[39m=\u001b[39;49m[C_],\n\u001b[1;32m   <a href='file:///opt/homebrew/Caskroom/miniforge/base/envs/P5/lib/python3.9/site-packages/sklearn/linear_model/_logistic.py?line=1598'>1599</a>\u001b[0m         l1_ratio\u001b[39m=\u001b[39;49m\u001b[39mself\u001b[39;49m\u001b[39m.\u001b[39;49ml1_ratio,\n\u001b[1;32m   <a href='file:///opt/homebrew/Caskroom/miniforge/base/envs/P5/lib/python3.9/site-packages/sklearn/linear_model/_logistic.py?line=1599'>1600</a>\u001b[0m         fit_intercept\u001b[39m=\u001b[39;49m\u001b[39mself\u001b[39;49m\u001b[39m.\u001b[39;49mfit_intercept,\n\u001b[1;32m   <a href='file:///opt/homebrew/Caskroom/miniforge/base/envs/P5/lib/python3.9/site-packages/sklearn/linear_model/_logistic.py?line=1600'>1601</a>\u001b[0m         tol\u001b[39m=\u001b[39;49m\u001b[39mself\u001b[39;49m\u001b[39m.\u001b[39;49mtol,\n\u001b[1;32m   <a href='file:///opt/homebrew/Caskroom/miniforge/base/envs/P5/lib/python3.9/site-packages/sklearn/linear_model/_logistic.py?line=1601'>1602</a>\u001b[0m         verbose\u001b[39m=\u001b[39;49m\u001b[39mself\u001b[39;49m\u001b[39m.\u001b[39;49mverbose,\n\u001b[1;32m   <a href='file:///opt/homebrew/Caskroom/miniforge/base/envs/P5/lib/python3.9/site-packages/sklearn/linear_model/_logistic.py?line=1602'>1603</a>\u001b[0m         solver\u001b[39m=\u001b[39;49msolver,\n\u001b[1;32m   <a href='file:///opt/homebrew/Caskroom/miniforge/base/envs/P5/lib/python3.9/site-packages/sklearn/linear_model/_logistic.py?line=1603'>1604</a>\u001b[0m         multi_class\u001b[39m=\u001b[39;49mmulti_class,\n\u001b[1;32m   <a href='file:///opt/homebrew/Caskroom/miniforge/base/envs/P5/lib/python3.9/site-packages/sklearn/linear_model/_logistic.py?line=1604'>1605</a>\u001b[0m         max_iter\u001b[39m=\u001b[39;49m\u001b[39mself\u001b[39;49m\u001b[39m.\u001b[39;49mmax_iter,\n\u001b[1;32m   <a href='file:///opt/homebrew/Caskroom/miniforge/base/envs/P5/lib/python3.9/site-packages/sklearn/linear_model/_logistic.py?line=1605'>1606</a>\u001b[0m         class_weight\u001b[39m=\u001b[39;49m\u001b[39mself\u001b[39;49m\u001b[39m.\u001b[39;49mclass_weight,\n\u001b[1;32m   <a href='file:///opt/homebrew/Caskroom/miniforge/base/envs/P5/lib/python3.9/site-packages/sklearn/linear_model/_logistic.py?line=1606'>1607</a>\u001b[0m         check_input\u001b[39m=\u001b[39;49m\u001b[39mFalse\u001b[39;49;00m,\n\u001b[1;32m   <a href='file:///opt/homebrew/Caskroom/miniforge/base/envs/P5/lib/python3.9/site-packages/sklearn/linear_model/_logistic.py?line=1607'>1608</a>\u001b[0m         random_state\u001b[39m=\u001b[39;49m\u001b[39mself\u001b[39;49m\u001b[39m.\u001b[39;49mrandom_state,\n\u001b[1;32m   <a href='file:///opt/homebrew/Caskroom/miniforge/base/envs/P5/lib/python3.9/site-packages/sklearn/linear_model/_logistic.py?line=1608'>1609</a>\u001b[0m         coef\u001b[39m=\u001b[39;49mwarm_start_coef_,\n\u001b[1;32m   <a href='file:///opt/homebrew/Caskroom/miniforge/base/envs/P5/lib/python3.9/site-packages/sklearn/linear_model/_logistic.py?line=1609'>1610</a>\u001b[0m         penalty\u001b[39m=\u001b[39;49mpenalty,\n\u001b[1;32m   <a href='file:///opt/homebrew/Caskroom/miniforge/base/envs/P5/lib/python3.9/site-packages/sklearn/linear_model/_logistic.py?line=1610'>1611</a>\u001b[0m         max_squared_sum\u001b[39m=\u001b[39;49mmax_squared_sum,\n\u001b[1;32m   <a href='file:///opt/homebrew/Caskroom/miniforge/base/envs/P5/lib/python3.9/site-packages/sklearn/linear_model/_logistic.py?line=1611'>1612</a>\u001b[0m         sample_weight\u001b[39m=\u001b[39;49msample_weight,\n\u001b[1;32m   <a href='file:///opt/homebrew/Caskroom/miniforge/base/envs/P5/lib/python3.9/site-packages/sklearn/linear_model/_logistic.py?line=1612'>1613</a>\u001b[0m     )\n\u001b[1;32m   <a href='file:///opt/homebrew/Caskroom/miniforge/base/envs/P5/lib/python3.9/site-packages/sklearn/linear_model/_logistic.py?line=1613'>1614</a>\u001b[0m     \u001b[39mfor\u001b[39;49;00m class_, warm_start_coef_ \u001b[39min\u001b[39;49;00m \u001b[39mzip\u001b[39;49m(classes_, warm_start_coef)\n\u001b[1;32m   <a href='file:///opt/homebrew/Caskroom/miniforge/base/envs/P5/lib/python3.9/site-packages/sklearn/linear_model/_logistic.py?line=1614'>1615</a>\u001b[0m )\n\u001b[1;32m   <a href='file:///opt/homebrew/Caskroom/miniforge/base/envs/P5/lib/python3.9/site-packages/sklearn/linear_model/_logistic.py?line=1616'>1617</a>\u001b[0m fold_coefs_, _, n_iter_ \u001b[39m=\u001b[39m \u001b[39mzip\u001b[39m(\u001b[39m*\u001b[39mfold_coefs_)\n\u001b[1;32m   <a href='file:///opt/homebrew/Caskroom/miniforge/base/envs/P5/lib/python3.9/site-packages/sklearn/linear_model/_logistic.py?line=1617'>1618</a>\u001b[0m \u001b[39mself\u001b[39m\u001b[39m.\u001b[39mn_iter_ \u001b[39m=\u001b[39m np\u001b[39m.\u001b[39masarray(n_iter_, dtype\u001b[39m=\u001b[39mnp\u001b[39m.\u001b[39mint32)[:, \u001b[39m0\u001b[39m]\n",
      "File \u001b[0;32m/opt/homebrew/Caskroom/miniforge/base/envs/P5/lib/python3.9/site-packages/joblib/parallel.py:1043\u001b[0m, in \u001b[0;36mParallel.__call__\u001b[0;34m(self, iterable)\u001b[0m\n\u001b[1;32m   <a href='file:///opt/homebrew/Caskroom/miniforge/base/envs/P5/lib/python3.9/site-packages/joblib/parallel.py?line=1033'>1034</a>\u001b[0m \u001b[39mtry\u001b[39;00m:\n\u001b[1;32m   <a href='file:///opt/homebrew/Caskroom/miniforge/base/envs/P5/lib/python3.9/site-packages/joblib/parallel.py?line=1034'>1035</a>\u001b[0m     \u001b[39m# Only set self._iterating to True if at least a batch\u001b[39;00m\n\u001b[1;32m   <a href='file:///opt/homebrew/Caskroom/miniforge/base/envs/P5/lib/python3.9/site-packages/joblib/parallel.py?line=1035'>1036</a>\u001b[0m     \u001b[39m# was dispatched. In particular this covers the edge\u001b[39;00m\n\u001b[0;32m   (...)\u001b[0m\n\u001b[1;32m   <a href='file:///opt/homebrew/Caskroom/miniforge/base/envs/P5/lib/python3.9/site-packages/joblib/parallel.py?line=1039'>1040</a>\u001b[0m     \u001b[39m# was very quick and its callback already dispatched all the\u001b[39;00m\n\u001b[1;32m   <a href='file:///opt/homebrew/Caskroom/miniforge/base/envs/P5/lib/python3.9/site-packages/joblib/parallel.py?line=1040'>1041</a>\u001b[0m     \u001b[39m# remaining jobs.\u001b[39;00m\n\u001b[1;32m   <a href='file:///opt/homebrew/Caskroom/miniforge/base/envs/P5/lib/python3.9/site-packages/joblib/parallel.py?line=1041'>1042</a>\u001b[0m     \u001b[39mself\u001b[39m\u001b[39m.\u001b[39m_iterating \u001b[39m=\u001b[39m \u001b[39mFalse\u001b[39;00m\n\u001b[0;32m-> <a href='file:///opt/homebrew/Caskroom/miniforge/base/envs/P5/lib/python3.9/site-packages/joblib/parallel.py?line=1042'>1043</a>\u001b[0m     \u001b[39mif\u001b[39;00m \u001b[39mself\u001b[39;49m\u001b[39m.\u001b[39;49mdispatch_one_batch(iterator):\n\u001b[1;32m   <a href='file:///opt/homebrew/Caskroom/miniforge/base/envs/P5/lib/python3.9/site-packages/joblib/parallel.py?line=1043'>1044</a>\u001b[0m         \u001b[39mself\u001b[39m\u001b[39m.\u001b[39m_iterating \u001b[39m=\u001b[39m \u001b[39mself\u001b[39m\u001b[39m.\u001b[39m_original_iterator \u001b[39mis\u001b[39;00m \u001b[39mnot\u001b[39;00m \u001b[39mNone\u001b[39;00m\n\u001b[1;32m   <a href='file:///opt/homebrew/Caskroom/miniforge/base/envs/P5/lib/python3.9/site-packages/joblib/parallel.py?line=1045'>1046</a>\u001b[0m     \u001b[39mwhile\u001b[39;00m \u001b[39mself\u001b[39m\u001b[39m.\u001b[39mdispatch_one_batch(iterator):\n",
      "File \u001b[0;32m/opt/homebrew/Caskroom/miniforge/base/envs/P5/lib/python3.9/site-packages/joblib/parallel.py:861\u001b[0m, in \u001b[0;36mParallel.dispatch_one_batch\u001b[0;34m(self, iterator)\u001b[0m\n\u001b[1;32m    <a href='file:///opt/homebrew/Caskroom/miniforge/base/envs/P5/lib/python3.9/site-packages/joblib/parallel.py?line=858'>859</a>\u001b[0m     \u001b[39mreturn\u001b[39;00m \u001b[39mFalse\u001b[39;00m\n\u001b[1;32m    <a href='file:///opt/homebrew/Caskroom/miniforge/base/envs/P5/lib/python3.9/site-packages/joblib/parallel.py?line=859'>860</a>\u001b[0m \u001b[39melse\u001b[39;00m:\n\u001b[0;32m--> <a href='file:///opt/homebrew/Caskroom/miniforge/base/envs/P5/lib/python3.9/site-packages/joblib/parallel.py?line=860'>861</a>\u001b[0m     \u001b[39mself\u001b[39;49m\u001b[39m.\u001b[39;49m_dispatch(tasks)\n\u001b[1;32m    <a href='file:///opt/homebrew/Caskroom/miniforge/base/envs/P5/lib/python3.9/site-packages/joblib/parallel.py?line=861'>862</a>\u001b[0m     \u001b[39mreturn\u001b[39;00m \u001b[39mTrue\u001b[39;00m\n",
      "File \u001b[0;32m/opt/homebrew/Caskroom/miniforge/base/envs/P5/lib/python3.9/site-packages/joblib/parallel.py:779\u001b[0m, in \u001b[0;36mParallel._dispatch\u001b[0;34m(self, batch)\u001b[0m\n\u001b[1;32m    <a href='file:///opt/homebrew/Caskroom/miniforge/base/envs/P5/lib/python3.9/site-packages/joblib/parallel.py?line=776'>777</a>\u001b[0m \u001b[39mwith\u001b[39;00m \u001b[39mself\u001b[39m\u001b[39m.\u001b[39m_lock:\n\u001b[1;32m    <a href='file:///opt/homebrew/Caskroom/miniforge/base/envs/P5/lib/python3.9/site-packages/joblib/parallel.py?line=777'>778</a>\u001b[0m     job_idx \u001b[39m=\u001b[39m \u001b[39mlen\u001b[39m(\u001b[39mself\u001b[39m\u001b[39m.\u001b[39m_jobs)\n\u001b[0;32m--> <a href='file:///opt/homebrew/Caskroom/miniforge/base/envs/P5/lib/python3.9/site-packages/joblib/parallel.py?line=778'>779</a>\u001b[0m     job \u001b[39m=\u001b[39m \u001b[39mself\u001b[39;49m\u001b[39m.\u001b[39;49m_backend\u001b[39m.\u001b[39;49mapply_async(batch, callback\u001b[39m=\u001b[39;49mcb)\n\u001b[1;32m    <a href='file:///opt/homebrew/Caskroom/miniforge/base/envs/P5/lib/python3.9/site-packages/joblib/parallel.py?line=779'>780</a>\u001b[0m     \u001b[39m# A job can complete so quickly than its callback is\u001b[39;00m\n\u001b[1;32m    <a href='file:///opt/homebrew/Caskroom/miniforge/base/envs/P5/lib/python3.9/site-packages/joblib/parallel.py?line=780'>781</a>\u001b[0m     \u001b[39m# called before we get here, causing self._jobs to\u001b[39;00m\n\u001b[1;32m    <a href='file:///opt/homebrew/Caskroom/miniforge/base/envs/P5/lib/python3.9/site-packages/joblib/parallel.py?line=781'>782</a>\u001b[0m     \u001b[39m# grow. To ensure correct results ordering, .insert is\u001b[39;00m\n\u001b[1;32m    <a href='file:///opt/homebrew/Caskroom/miniforge/base/envs/P5/lib/python3.9/site-packages/joblib/parallel.py?line=782'>783</a>\u001b[0m     \u001b[39m# used (rather than .append) in the following line\u001b[39;00m\n\u001b[1;32m    <a href='file:///opt/homebrew/Caskroom/miniforge/base/envs/P5/lib/python3.9/site-packages/joblib/parallel.py?line=783'>784</a>\u001b[0m     \u001b[39mself\u001b[39m\u001b[39m.\u001b[39m_jobs\u001b[39m.\u001b[39minsert(job_idx, job)\n",
      "File \u001b[0;32m/opt/homebrew/Caskroom/miniforge/base/envs/P5/lib/python3.9/site-packages/joblib/_parallel_backends.py:208\u001b[0m, in \u001b[0;36mSequentialBackend.apply_async\u001b[0;34m(self, func, callback)\u001b[0m\n\u001b[1;32m    <a href='file:///opt/homebrew/Caskroom/miniforge/base/envs/P5/lib/python3.9/site-packages/joblib/_parallel_backends.py?line=205'>206</a>\u001b[0m \u001b[39mdef\u001b[39;00m \u001b[39mapply_async\u001b[39m(\u001b[39mself\u001b[39m, func, callback\u001b[39m=\u001b[39m\u001b[39mNone\u001b[39;00m):\n\u001b[1;32m    <a href='file:///opt/homebrew/Caskroom/miniforge/base/envs/P5/lib/python3.9/site-packages/joblib/_parallel_backends.py?line=206'>207</a>\u001b[0m     \u001b[39m\"\"\"Schedule a func to be run\"\"\"\u001b[39;00m\n\u001b[0;32m--> <a href='file:///opt/homebrew/Caskroom/miniforge/base/envs/P5/lib/python3.9/site-packages/joblib/_parallel_backends.py?line=207'>208</a>\u001b[0m     result \u001b[39m=\u001b[39m ImmediateResult(func)\n\u001b[1;32m    <a href='file:///opt/homebrew/Caskroom/miniforge/base/envs/P5/lib/python3.9/site-packages/joblib/_parallel_backends.py?line=208'>209</a>\u001b[0m     \u001b[39mif\u001b[39;00m callback:\n\u001b[1;32m    <a href='file:///opt/homebrew/Caskroom/miniforge/base/envs/P5/lib/python3.9/site-packages/joblib/_parallel_backends.py?line=209'>210</a>\u001b[0m         callback(result)\n",
      "File \u001b[0;32m/opt/homebrew/Caskroom/miniforge/base/envs/P5/lib/python3.9/site-packages/joblib/_parallel_backends.py:572\u001b[0m, in \u001b[0;36mImmediateResult.__init__\u001b[0;34m(self, batch)\u001b[0m\n\u001b[1;32m    <a href='file:///opt/homebrew/Caskroom/miniforge/base/envs/P5/lib/python3.9/site-packages/joblib/_parallel_backends.py?line=568'>569</a>\u001b[0m \u001b[39mdef\u001b[39;00m \u001b[39m__init__\u001b[39m(\u001b[39mself\u001b[39m, batch):\n\u001b[1;32m    <a href='file:///opt/homebrew/Caskroom/miniforge/base/envs/P5/lib/python3.9/site-packages/joblib/_parallel_backends.py?line=569'>570</a>\u001b[0m     \u001b[39m# Don't delay the application, to avoid keeping the input\u001b[39;00m\n\u001b[1;32m    <a href='file:///opt/homebrew/Caskroom/miniforge/base/envs/P5/lib/python3.9/site-packages/joblib/_parallel_backends.py?line=570'>571</a>\u001b[0m     \u001b[39m# arguments in memory\u001b[39;00m\n\u001b[0;32m--> <a href='file:///opt/homebrew/Caskroom/miniforge/base/envs/P5/lib/python3.9/site-packages/joblib/_parallel_backends.py?line=571'>572</a>\u001b[0m     \u001b[39mself\u001b[39m\u001b[39m.\u001b[39mresults \u001b[39m=\u001b[39m batch()\n",
      "File \u001b[0;32m/opt/homebrew/Caskroom/miniforge/base/envs/P5/lib/python3.9/site-packages/joblib/parallel.py:262\u001b[0m, in \u001b[0;36mBatchedCalls.__call__\u001b[0;34m(self)\u001b[0m\n\u001b[1;32m    <a href='file:///opt/homebrew/Caskroom/miniforge/base/envs/P5/lib/python3.9/site-packages/joblib/parallel.py?line=257'>258</a>\u001b[0m \u001b[39mdef\u001b[39;00m \u001b[39m__call__\u001b[39m(\u001b[39mself\u001b[39m):\n\u001b[1;32m    <a href='file:///opt/homebrew/Caskroom/miniforge/base/envs/P5/lib/python3.9/site-packages/joblib/parallel.py?line=258'>259</a>\u001b[0m     \u001b[39m# Set the default nested backend to self._backend but do not set the\u001b[39;00m\n\u001b[1;32m    <a href='file:///opt/homebrew/Caskroom/miniforge/base/envs/P5/lib/python3.9/site-packages/joblib/parallel.py?line=259'>260</a>\u001b[0m     \u001b[39m# change the default number of processes to -1\u001b[39;00m\n\u001b[1;32m    <a href='file:///opt/homebrew/Caskroom/miniforge/base/envs/P5/lib/python3.9/site-packages/joblib/parallel.py?line=260'>261</a>\u001b[0m     \u001b[39mwith\u001b[39;00m parallel_backend(\u001b[39mself\u001b[39m\u001b[39m.\u001b[39m_backend, n_jobs\u001b[39m=\u001b[39m\u001b[39mself\u001b[39m\u001b[39m.\u001b[39m_n_jobs):\n\u001b[0;32m--> <a href='file:///opt/homebrew/Caskroom/miniforge/base/envs/P5/lib/python3.9/site-packages/joblib/parallel.py?line=261'>262</a>\u001b[0m         \u001b[39mreturn\u001b[39;00m [func(\u001b[39m*\u001b[39margs, \u001b[39m*\u001b[39m\u001b[39m*\u001b[39mkwargs)\n\u001b[1;32m    <a href='file:///opt/homebrew/Caskroom/miniforge/base/envs/P5/lib/python3.9/site-packages/joblib/parallel.py?line=262'>263</a>\u001b[0m                 \u001b[39mfor\u001b[39;00m func, args, kwargs \u001b[39min\u001b[39;00m \u001b[39mself\u001b[39m\u001b[39m.\u001b[39mitems]\n",
      "File \u001b[0;32m/opt/homebrew/Caskroom/miniforge/base/envs/P5/lib/python3.9/site-packages/joblib/parallel.py:262\u001b[0m, in \u001b[0;36m<listcomp>\u001b[0;34m(.0)\u001b[0m\n\u001b[1;32m    <a href='file:///opt/homebrew/Caskroom/miniforge/base/envs/P5/lib/python3.9/site-packages/joblib/parallel.py?line=257'>258</a>\u001b[0m \u001b[39mdef\u001b[39;00m \u001b[39m__call__\u001b[39m(\u001b[39mself\u001b[39m):\n\u001b[1;32m    <a href='file:///opt/homebrew/Caskroom/miniforge/base/envs/P5/lib/python3.9/site-packages/joblib/parallel.py?line=258'>259</a>\u001b[0m     \u001b[39m# Set the default nested backend to self._backend but do not set the\u001b[39;00m\n\u001b[1;32m    <a href='file:///opt/homebrew/Caskroom/miniforge/base/envs/P5/lib/python3.9/site-packages/joblib/parallel.py?line=259'>260</a>\u001b[0m     \u001b[39m# change the default number of processes to -1\u001b[39;00m\n\u001b[1;32m    <a href='file:///opt/homebrew/Caskroom/miniforge/base/envs/P5/lib/python3.9/site-packages/joblib/parallel.py?line=260'>261</a>\u001b[0m     \u001b[39mwith\u001b[39;00m parallel_backend(\u001b[39mself\u001b[39m\u001b[39m.\u001b[39m_backend, n_jobs\u001b[39m=\u001b[39m\u001b[39mself\u001b[39m\u001b[39m.\u001b[39m_n_jobs):\n\u001b[0;32m--> <a href='file:///opt/homebrew/Caskroom/miniforge/base/envs/P5/lib/python3.9/site-packages/joblib/parallel.py?line=261'>262</a>\u001b[0m         \u001b[39mreturn\u001b[39;00m [func(\u001b[39m*\u001b[39;49margs, \u001b[39m*\u001b[39;49m\u001b[39m*\u001b[39;49mkwargs)\n\u001b[1;32m    <a href='file:///opt/homebrew/Caskroom/miniforge/base/envs/P5/lib/python3.9/site-packages/joblib/parallel.py?line=262'>263</a>\u001b[0m                 \u001b[39mfor\u001b[39;00m func, args, kwargs \u001b[39min\u001b[39;00m \u001b[39mself\u001b[39m\u001b[39m.\u001b[39mitems]\n",
      "File \u001b[0;32m/opt/homebrew/Caskroom/miniforge/base/envs/P5/lib/python3.9/site-packages/sklearn/utils/fixes.py:216\u001b[0m, in \u001b[0;36m_FuncWrapper.__call__\u001b[0;34m(self, *args, **kwargs)\u001b[0m\n\u001b[1;32m    <a href='file:///opt/homebrew/Caskroom/miniforge/base/envs/P5/lib/python3.9/site-packages/sklearn/utils/fixes.py?line=213'>214</a>\u001b[0m \u001b[39mdef\u001b[39;00m \u001b[39m__call__\u001b[39m(\u001b[39mself\u001b[39m, \u001b[39m*\u001b[39margs, \u001b[39m*\u001b[39m\u001b[39m*\u001b[39mkwargs):\n\u001b[1;32m    <a href='file:///opt/homebrew/Caskroom/miniforge/base/envs/P5/lib/python3.9/site-packages/sklearn/utils/fixes.py?line=214'>215</a>\u001b[0m     \u001b[39mwith\u001b[39;00m config_context(\u001b[39m*\u001b[39m\u001b[39m*\u001b[39m\u001b[39mself\u001b[39m\u001b[39m.\u001b[39mconfig):\n\u001b[0;32m--> <a href='file:///opt/homebrew/Caskroom/miniforge/base/envs/P5/lib/python3.9/site-packages/sklearn/utils/fixes.py?line=215'>216</a>\u001b[0m         \u001b[39mreturn\u001b[39;00m \u001b[39mself\u001b[39;49m\u001b[39m.\u001b[39;49mfunction(\u001b[39m*\u001b[39;49margs, \u001b[39m*\u001b[39;49m\u001b[39m*\u001b[39;49mkwargs)\n",
      "File \u001b[0;32m/opt/homebrew/Caskroom/miniforge/base/envs/P5/lib/python3.9/site-packages/sklearn/linear_model/_logistic.py:806\u001b[0m, in \u001b[0;36m_logistic_regression_path\u001b[0;34m(X, y, pos_class, Cs, fit_intercept, max_iter, tol, verbose, solver, coef, class_weight, dual, penalty, intercept_scaling, multi_class, random_state, check_input, max_squared_sum, sample_weight, l1_ratio)\u001b[0m\n\u001b[1;32m    <a href='file:///opt/homebrew/Caskroom/miniforge/base/envs/P5/lib/python3.9/site-packages/sklearn/linear_model/_logistic.py?line=801'>802</a>\u001b[0m \u001b[39mif\u001b[39;00m solver \u001b[39m==\u001b[39m \u001b[39m\"\u001b[39m\u001b[39mlbfgs\u001b[39m\u001b[39m\"\u001b[39m:\n\u001b[1;32m    <a href='file:///opt/homebrew/Caskroom/miniforge/base/envs/P5/lib/python3.9/site-packages/sklearn/linear_model/_logistic.py?line=802'>803</a>\u001b[0m     iprint \u001b[39m=\u001b[39m [\u001b[39m-\u001b[39m\u001b[39m1\u001b[39m, \u001b[39m50\u001b[39m, \u001b[39m1\u001b[39m, \u001b[39m100\u001b[39m, \u001b[39m101\u001b[39m][\n\u001b[1;32m    <a href='file:///opt/homebrew/Caskroom/miniforge/base/envs/P5/lib/python3.9/site-packages/sklearn/linear_model/_logistic.py?line=803'>804</a>\u001b[0m         np\u001b[39m.\u001b[39msearchsorted(np\u001b[39m.\u001b[39marray([\u001b[39m0\u001b[39m, \u001b[39m1\u001b[39m, \u001b[39m2\u001b[39m, \u001b[39m3\u001b[39m]), verbose)\n\u001b[1;32m    <a href='file:///opt/homebrew/Caskroom/miniforge/base/envs/P5/lib/python3.9/site-packages/sklearn/linear_model/_logistic.py?line=804'>805</a>\u001b[0m     ]\n\u001b[0;32m--> <a href='file:///opt/homebrew/Caskroom/miniforge/base/envs/P5/lib/python3.9/site-packages/sklearn/linear_model/_logistic.py?line=805'>806</a>\u001b[0m     opt_res \u001b[39m=\u001b[39m optimize\u001b[39m.\u001b[39;49mminimize(\n\u001b[1;32m    <a href='file:///opt/homebrew/Caskroom/miniforge/base/envs/P5/lib/python3.9/site-packages/sklearn/linear_model/_logistic.py?line=806'>807</a>\u001b[0m         func,\n\u001b[1;32m    <a href='file:///opt/homebrew/Caskroom/miniforge/base/envs/P5/lib/python3.9/site-packages/sklearn/linear_model/_logistic.py?line=807'>808</a>\u001b[0m         w0,\n\u001b[1;32m    <a href='file:///opt/homebrew/Caskroom/miniforge/base/envs/P5/lib/python3.9/site-packages/sklearn/linear_model/_logistic.py?line=808'>809</a>\u001b[0m         method\u001b[39m=\u001b[39;49m\u001b[39m\"\u001b[39;49m\u001b[39mL-BFGS-B\u001b[39;49m\u001b[39m\"\u001b[39;49m,\n\u001b[1;32m    <a href='file:///opt/homebrew/Caskroom/miniforge/base/envs/P5/lib/python3.9/site-packages/sklearn/linear_model/_logistic.py?line=809'>810</a>\u001b[0m         jac\u001b[39m=\u001b[39;49m\u001b[39mTrue\u001b[39;49;00m,\n\u001b[1;32m    <a href='file:///opt/homebrew/Caskroom/miniforge/base/envs/P5/lib/python3.9/site-packages/sklearn/linear_model/_logistic.py?line=810'>811</a>\u001b[0m         args\u001b[39m=\u001b[39;49m(X, target, \u001b[39m1.0\u001b[39;49m \u001b[39m/\u001b[39;49m C, sample_weight),\n\u001b[1;32m    <a href='file:///opt/homebrew/Caskroom/miniforge/base/envs/P5/lib/python3.9/site-packages/sklearn/linear_model/_logistic.py?line=811'>812</a>\u001b[0m         options\u001b[39m=\u001b[39;49m{\u001b[39m\"\u001b[39;49m\u001b[39miprint\u001b[39;49m\u001b[39m\"\u001b[39;49m: iprint, \u001b[39m\"\u001b[39;49m\u001b[39mgtol\u001b[39;49m\u001b[39m\"\u001b[39;49m: tol, \u001b[39m\"\u001b[39;49m\u001b[39mmaxiter\u001b[39;49m\u001b[39m\"\u001b[39;49m: max_iter},\n\u001b[1;32m    <a href='file:///opt/homebrew/Caskroom/miniforge/base/envs/P5/lib/python3.9/site-packages/sklearn/linear_model/_logistic.py?line=812'>813</a>\u001b[0m     )\n\u001b[1;32m    <a href='file:///opt/homebrew/Caskroom/miniforge/base/envs/P5/lib/python3.9/site-packages/sklearn/linear_model/_logistic.py?line=813'>814</a>\u001b[0m     n_iter_i \u001b[39m=\u001b[39m _check_optimize_result(\n\u001b[1;32m    <a href='file:///opt/homebrew/Caskroom/miniforge/base/envs/P5/lib/python3.9/site-packages/sklearn/linear_model/_logistic.py?line=814'>815</a>\u001b[0m         solver,\n\u001b[1;32m    <a href='file:///opt/homebrew/Caskroom/miniforge/base/envs/P5/lib/python3.9/site-packages/sklearn/linear_model/_logistic.py?line=815'>816</a>\u001b[0m         opt_res,\n\u001b[1;32m    <a href='file:///opt/homebrew/Caskroom/miniforge/base/envs/P5/lib/python3.9/site-packages/sklearn/linear_model/_logistic.py?line=816'>817</a>\u001b[0m         max_iter,\n\u001b[1;32m    <a href='file:///opt/homebrew/Caskroom/miniforge/base/envs/P5/lib/python3.9/site-packages/sklearn/linear_model/_logistic.py?line=817'>818</a>\u001b[0m         extra_warning_msg\u001b[39m=\u001b[39m_LOGISTIC_SOLVER_CONVERGENCE_MSG,\n\u001b[1;32m    <a href='file:///opt/homebrew/Caskroom/miniforge/base/envs/P5/lib/python3.9/site-packages/sklearn/linear_model/_logistic.py?line=818'>819</a>\u001b[0m     )\n\u001b[1;32m    <a href='file:///opt/homebrew/Caskroom/miniforge/base/envs/P5/lib/python3.9/site-packages/sklearn/linear_model/_logistic.py?line=819'>820</a>\u001b[0m     w0, loss \u001b[39m=\u001b[39m opt_res\u001b[39m.\u001b[39mx, opt_res\u001b[39m.\u001b[39mfun\n",
      "File \u001b[0;32m/opt/homebrew/Caskroom/miniforge/base/envs/P5/lib/python3.9/site-packages/scipy/optimize/_minimize.py:681\u001b[0m, in \u001b[0;36mminimize\u001b[0;34m(fun, x0, args, method, jac, hess, hessp, bounds, constraints, tol, callback, options)\u001b[0m\n\u001b[1;32m    <a href='file:///opt/homebrew/Caskroom/miniforge/base/envs/P5/lib/python3.9/site-packages/scipy/optimize/_minimize.py?line=677'>678</a>\u001b[0m     res \u001b[39m=\u001b[39m _minimize_newtoncg(fun, x0, args, jac, hess, hessp, callback,\n\u001b[1;32m    <a href='file:///opt/homebrew/Caskroom/miniforge/base/envs/P5/lib/python3.9/site-packages/scipy/optimize/_minimize.py?line=678'>679</a>\u001b[0m                              \u001b[39m*\u001b[39m\u001b[39m*\u001b[39moptions)\n\u001b[1;32m    <a href='file:///opt/homebrew/Caskroom/miniforge/base/envs/P5/lib/python3.9/site-packages/scipy/optimize/_minimize.py?line=679'>680</a>\u001b[0m \u001b[39melif\u001b[39;00m meth \u001b[39m==\u001b[39m \u001b[39m'\u001b[39m\u001b[39ml-bfgs-b\u001b[39m\u001b[39m'\u001b[39m:\n\u001b[0;32m--> <a href='file:///opt/homebrew/Caskroom/miniforge/base/envs/P5/lib/python3.9/site-packages/scipy/optimize/_minimize.py?line=680'>681</a>\u001b[0m     res \u001b[39m=\u001b[39m _minimize_lbfgsb(fun, x0, args, jac, bounds,\n\u001b[1;32m    <a href='file:///opt/homebrew/Caskroom/miniforge/base/envs/P5/lib/python3.9/site-packages/scipy/optimize/_minimize.py?line=681'>682</a>\u001b[0m                            callback\u001b[39m=\u001b[39;49mcallback, \u001b[39m*\u001b[39;49m\u001b[39m*\u001b[39;49moptions)\n\u001b[1;32m    <a href='file:///opt/homebrew/Caskroom/miniforge/base/envs/P5/lib/python3.9/site-packages/scipy/optimize/_minimize.py?line=682'>683</a>\u001b[0m \u001b[39melif\u001b[39;00m meth \u001b[39m==\u001b[39m \u001b[39m'\u001b[39m\u001b[39mtnc\u001b[39m\u001b[39m'\u001b[39m:\n\u001b[1;32m    <a href='file:///opt/homebrew/Caskroom/miniforge/base/envs/P5/lib/python3.9/site-packages/scipy/optimize/_minimize.py?line=683'>684</a>\u001b[0m     res \u001b[39m=\u001b[39m _minimize_tnc(fun, x0, args, jac, bounds, callback\u001b[39m=\u001b[39mcallback,\n\u001b[1;32m    <a href='file:///opt/homebrew/Caskroom/miniforge/base/envs/P5/lib/python3.9/site-packages/scipy/optimize/_minimize.py?line=684'>685</a>\u001b[0m                         \u001b[39m*\u001b[39m\u001b[39m*\u001b[39moptions)\n",
      "File \u001b[0;32m/opt/homebrew/Caskroom/miniforge/base/envs/P5/lib/python3.9/site-packages/scipy/optimize/_lbfgsb_py.py:362\u001b[0m, in \u001b[0;36m_minimize_lbfgsb\u001b[0;34m(fun, x0, args, jac, bounds, disp, maxcor, ftol, gtol, eps, maxfun, maxiter, iprint, callback, maxls, finite_diff_rel_step, **unknown_options)\u001b[0m\n\u001b[1;32m    <a href='file:///opt/homebrew/Caskroom/miniforge/base/envs/P5/lib/python3.9/site-packages/scipy/optimize/_lbfgsb_py.py?line=355'>356</a>\u001b[0m task_str \u001b[39m=\u001b[39m task\u001b[39m.\u001b[39mtobytes()\n\u001b[1;32m    <a href='file:///opt/homebrew/Caskroom/miniforge/base/envs/P5/lib/python3.9/site-packages/scipy/optimize/_lbfgsb_py.py?line=356'>357</a>\u001b[0m \u001b[39mif\u001b[39;00m task_str\u001b[39m.\u001b[39mstartswith(\u001b[39mb\u001b[39m\u001b[39m'\u001b[39m\u001b[39mFG\u001b[39m\u001b[39m'\u001b[39m):\n\u001b[1;32m    <a href='file:///opt/homebrew/Caskroom/miniforge/base/envs/P5/lib/python3.9/site-packages/scipy/optimize/_lbfgsb_py.py?line=357'>358</a>\u001b[0m     \u001b[39m# The minimization routine wants f and g at the current x.\u001b[39;00m\n\u001b[1;32m    <a href='file:///opt/homebrew/Caskroom/miniforge/base/envs/P5/lib/python3.9/site-packages/scipy/optimize/_lbfgsb_py.py?line=358'>359</a>\u001b[0m     \u001b[39m# Note that interruptions due to maxfun are postponed\u001b[39;00m\n\u001b[1;32m    <a href='file:///opt/homebrew/Caskroom/miniforge/base/envs/P5/lib/python3.9/site-packages/scipy/optimize/_lbfgsb_py.py?line=359'>360</a>\u001b[0m     \u001b[39m# until the completion of the current minimization iteration.\u001b[39;00m\n\u001b[1;32m    <a href='file:///opt/homebrew/Caskroom/miniforge/base/envs/P5/lib/python3.9/site-packages/scipy/optimize/_lbfgsb_py.py?line=360'>361</a>\u001b[0m     \u001b[39m# Overwrite f and g:\u001b[39;00m\n\u001b[0;32m--> <a href='file:///opt/homebrew/Caskroom/miniforge/base/envs/P5/lib/python3.9/site-packages/scipy/optimize/_lbfgsb_py.py?line=361'>362</a>\u001b[0m     f, g \u001b[39m=\u001b[39m func_and_grad(x)\n\u001b[1;32m    <a href='file:///opt/homebrew/Caskroom/miniforge/base/envs/P5/lib/python3.9/site-packages/scipy/optimize/_lbfgsb_py.py?line=362'>363</a>\u001b[0m \u001b[39melif\u001b[39;00m task_str\u001b[39m.\u001b[39mstartswith(\u001b[39mb\u001b[39m\u001b[39m'\u001b[39m\u001b[39mNEW_X\u001b[39m\u001b[39m'\u001b[39m):\n\u001b[1;32m    <a href='file:///opt/homebrew/Caskroom/miniforge/base/envs/P5/lib/python3.9/site-packages/scipy/optimize/_lbfgsb_py.py?line=363'>364</a>\u001b[0m     \u001b[39m# new iteration\u001b[39;00m\n\u001b[1;32m    <a href='file:///opt/homebrew/Caskroom/miniforge/base/envs/P5/lib/python3.9/site-packages/scipy/optimize/_lbfgsb_py.py?line=364'>365</a>\u001b[0m     n_iterations \u001b[39m+\u001b[39m\u001b[39m=\u001b[39m \u001b[39m1\u001b[39m\n",
      "File \u001b[0;32m/opt/homebrew/Caskroom/miniforge/base/envs/P5/lib/python3.9/site-packages/scipy/optimize/_differentiable_functions.py:285\u001b[0m, in \u001b[0;36mScalarFunction.fun_and_grad\u001b[0;34m(self, x)\u001b[0m\n\u001b[1;32m    <a href='file:///opt/homebrew/Caskroom/miniforge/base/envs/P5/lib/python3.9/site-packages/scipy/optimize/_differentiable_functions.py?line=282'>283</a>\u001b[0m \u001b[39mif\u001b[39;00m \u001b[39mnot\u001b[39;00m np\u001b[39m.\u001b[39marray_equal(x, \u001b[39mself\u001b[39m\u001b[39m.\u001b[39mx):\n\u001b[1;32m    <a href='file:///opt/homebrew/Caskroom/miniforge/base/envs/P5/lib/python3.9/site-packages/scipy/optimize/_differentiable_functions.py?line=283'>284</a>\u001b[0m     \u001b[39mself\u001b[39m\u001b[39m.\u001b[39m_update_x_impl(x)\n\u001b[0;32m--> <a href='file:///opt/homebrew/Caskroom/miniforge/base/envs/P5/lib/python3.9/site-packages/scipy/optimize/_differentiable_functions.py?line=284'>285</a>\u001b[0m \u001b[39mself\u001b[39;49m\u001b[39m.\u001b[39;49m_update_fun()\n\u001b[1;32m    <a href='file:///opt/homebrew/Caskroom/miniforge/base/envs/P5/lib/python3.9/site-packages/scipy/optimize/_differentiable_functions.py?line=285'>286</a>\u001b[0m \u001b[39mself\u001b[39m\u001b[39m.\u001b[39m_update_grad()\n\u001b[1;32m    <a href='file:///opt/homebrew/Caskroom/miniforge/base/envs/P5/lib/python3.9/site-packages/scipy/optimize/_differentiable_functions.py?line=286'>287</a>\u001b[0m \u001b[39mreturn\u001b[39;00m \u001b[39mself\u001b[39m\u001b[39m.\u001b[39mf, \u001b[39mself\u001b[39m\u001b[39m.\u001b[39mg\n",
      "File \u001b[0;32m/opt/homebrew/Caskroom/miniforge/base/envs/P5/lib/python3.9/site-packages/scipy/optimize/_differentiable_functions.py:251\u001b[0m, in \u001b[0;36mScalarFunction._update_fun\u001b[0;34m(self)\u001b[0m\n\u001b[1;32m    <a href='file:///opt/homebrew/Caskroom/miniforge/base/envs/P5/lib/python3.9/site-packages/scipy/optimize/_differentiable_functions.py?line=248'>249</a>\u001b[0m \u001b[39mdef\u001b[39;00m \u001b[39m_update_fun\u001b[39m(\u001b[39mself\u001b[39m):\n\u001b[1;32m    <a href='file:///opt/homebrew/Caskroom/miniforge/base/envs/P5/lib/python3.9/site-packages/scipy/optimize/_differentiable_functions.py?line=249'>250</a>\u001b[0m     \u001b[39mif\u001b[39;00m \u001b[39mnot\u001b[39;00m \u001b[39mself\u001b[39m\u001b[39m.\u001b[39mf_updated:\n\u001b[0;32m--> <a href='file:///opt/homebrew/Caskroom/miniforge/base/envs/P5/lib/python3.9/site-packages/scipy/optimize/_differentiable_functions.py?line=250'>251</a>\u001b[0m         \u001b[39mself\u001b[39;49m\u001b[39m.\u001b[39;49m_update_fun_impl()\n\u001b[1;32m    <a href='file:///opt/homebrew/Caskroom/miniforge/base/envs/P5/lib/python3.9/site-packages/scipy/optimize/_differentiable_functions.py?line=251'>252</a>\u001b[0m         \u001b[39mself\u001b[39m\u001b[39m.\u001b[39mf_updated \u001b[39m=\u001b[39m \u001b[39mTrue\u001b[39;00m\n",
      "File \u001b[0;32m/opt/homebrew/Caskroom/miniforge/base/envs/P5/lib/python3.9/site-packages/scipy/optimize/_differentiable_functions.py:155\u001b[0m, in \u001b[0;36mScalarFunction.__init__.<locals>.update_fun\u001b[0;34m()\u001b[0m\n\u001b[1;32m    <a href='file:///opt/homebrew/Caskroom/miniforge/base/envs/P5/lib/python3.9/site-packages/scipy/optimize/_differentiable_functions.py?line=153'>154</a>\u001b[0m \u001b[39mdef\u001b[39;00m \u001b[39mupdate_fun\u001b[39m():\n\u001b[0;32m--> <a href='file:///opt/homebrew/Caskroom/miniforge/base/envs/P5/lib/python3.9/site-packages/scipy/optimize/_differentiable_functions.py?line=154'>155</a>\u001b[0m     \u001b[39mself\u001b[39m\u001b[39m.\u001b[39mf \u001b[39m=\u001b[39m fun_wrapped(\u001b[39mself\u001b[39;49m\u001b[39m.\u001b[39;49mx)\n",
      "File \u001b[0;32m/opt/homebrew/Caskroom/miniforge/base/envs/P5/lib/python3.9/site-packages/scipy/optimize/_differentiable_functions.py:137\u001b[0m, in \u001b[0;36mScalarFunction.__init__.<locals>.fun_wrapped\u001b[0;34m(x)\u001b[0m\n\u001b[1;32m    <a href='file:///opt/homebrew/Caskroom/miniforge/base/envs/P5/lib/python3.9/site-packages/scipy/optimize/_differentiable_functions.py?line=132'>133</a>\u001b[0m \u001b[39mself\u001b[39m\u001b[39m.\u001b[39mnfev \u001b[39m+\u001b[39m\u001b[39m=\u001b[39m \u001b[39m1\u001b[39m\n\u001b[1;32m    <a href='file:///opt/homebrew/Caskroom/miniforge/base/envs/P5/lib/python3.9/site-packages/scipy/optimize/_differentiable_functions.py?line=133'>134</a>\u001b[0m \u001b[39m# Send a copy because the user may overwrite it.\u001b[39;00m\n\u001b[1;32m    <a href='file:///opt/homebrew/Caskroom/miniforge/base/envs/P5/lib/python3.9/site-packages/scipy/optimize/_differentiable_functions.py?line=134'>135</a>\u001b[0m \u001b[39m# Overwriting results in undefined behaviour because\u001b[39;00m\n\u001b[1;32m    <a href='file:///opt/homebrew/Caskroom/miniforge/base/envs/P5/lib/python3.9/site-packages/scipy/optimize/_differentiable_functions.py?line=135'>136</a>\u001b[0m \u001b[39m# fun(self.x) will change self.x, with the two no longer linked.\u001b[39;00m\n\u001b[0;32m--> <a href='file:///opt/homebrew/Caskroom/miniforge/base/envs/P5/lib/python3.9/site-packages/scipy/optimize/_differentiable_functions.py?line=136'>137</a>\u001b[0m fx \u001b[39m=\u001b[39m fun(np\u001b[39m.\u001b[39;49mcopy(x), \u001b[39m*\u001b[39;49margs)\n\u001b[1;32m    <a href='file:///opt/homebrew/Caskroom/miniforge/base/envs/P5/lib/python3.9/site-packages/scipy/optimize/_differentiable_functions.py?line=137'>138</a>\u001b[0m \u001b[39m# Make sure the function returns a true scalar\u001b[39;00m\n\u001b[1;32m    <a href='file:///opt/homebrew/Caskroom/miniforge/base/envs/P5/lib/python3.9/site-packages/scipy/optimize/_differentiable_functions.py?line=138'>139</a>\u001b[0m \u001b[39mif\u001b[39;00m \u001b[39mnot\u001b[39;00m np\u001b[39m.\u001b[39misscalar(fx):\n",
      "File \u001b[0;32m/opt/homebrew/Caskroom/miniforge/base/envs/P5/lib/python3.9/site-packages/scipy/optimize/_optimize.py:76\u001b[0m, in \u001b[0;36mMemoizeJac.__call__\u001b[0;34m(self, x, *args)\u001b[0m\n\u001b[1;32m     <a href='file:///opt/homebrew/Caskroom/miniforge/base/envs/P5/lib/python3.9/site-packages/scipy/optimize/_optimize.py?line=73'>74</a>\u001b[0m \u001b[39mdef\u001b[39;00m \u001b[39m__call__\u001b[39m(\u001b[39mself\u001b[39m, x, \u001b[39m*\u001b[39margs):\n\u001b[1;32m     <a href='file:///opt/homebrew/Caskroom/miniforge/base/envs/P5/lib/python3.9/site-packages/scipy/optimize/_optimize.py?line=74'>75</a>\u001b[0m     \u001b[39m\"\"\" returns the the function value \"\"\"\u001b[39;00m\n\u001b[0;32m---> <a href='file:///opt/homebrew/Caskroom/miniforge/base/envs/P5/lib/python3.9/site-packages/scipy/optimize/_optimize.py?line=75'>76</a>\u001b[0m     \u001b[39mself\u001b[39;49m\u001b[39m.\u001b[39;49m_compute_if_needed(x, \u001b[39m*\u001b[39;49margs)\n\u001b[1;32m     <a href='file:///opt/homebrew/Caskroom/miniforge/base/envs/P5/lib/python3.9/site-packages/scipy/optimize/_optimize.py?line=76'>77</a>\u001b[0m     \u001b[39mreturn\u001b[39;00m \u001b[39mself\u001b[39m\u001b[39m.\u001b[39m_value\n",
      "File \u001b[0;32m/opt/homebrew/Caskroom/miniforge/base/envs/P5/lib/python3.9/site-packages/scipy/optimize/_optimize.py:70\u001b[0m, in \u001b[0;36mMemoizeJac._compute_if_needed\u001b[0;34m(self, x, *args)\u001b[0m\n\u001b[1;32m     <a href='file:///opt/homebrew/Caskroom/miniforge/base/envs/P5/lib/python3.9/site-packages/scipy/optimize/_optimize.py?line=67'>68</a>\u001b[0m \u001b[39mif\u001b[39;00m \u001b[39mnot\u001b[39;00m np\u001b[39m.\u001b[39mall(x \u001b[39m==\u001b[39m \u001b[39mself\u001b[39m\u001b[39m.\u001b[39mx) \u001b[39mor\u001b[39;00m \u001b[39mself\u001b[39m\u001b[39m.\u001b[39m_value \u001b[39mis\u001b[39;00m \u001b[39mNone\u001b[39;00m \u001b[39mor\u001b[39;00m \u001b[39mself\u001b[39m\u001b[39m.\u001b[39mjac \u001b[39mis\u001b[39;00m \u001b[39mNone\u001b[39;00m:\n\u001b[1;32m     <a href='file:///opt/homebrew/Caskroom/miniforge/base/envs/P5/lib/python3.9/site-packages/scipy/optimize/_optimize.py?line=68'>69</a>\u001b[0m     \u001b[39mself\u001b[39m\u001b[39m.\u001b[39mx \u001b[39m=\u001b[39m np\u001b[39m.\u001b[39masarray(x)\u001b[39m.\u001b[39mcopy()\n\u001b[0;32m---> <a href='file:///opt/homebrew/Caskroom/miniforge/base/envs/P5/lib/python3.9/site-packages/scipy/optimize/_optimize.py?line=69'>70</a>\u001b[0m     fg \u001b[39m=\u001b[39m \u001b[39mself\u001b[39;49m\u001b[39m.\u001b[39;49mfun(x, \u001b[39m*\u001b[39;49margs)\n\u001b[1;32m     <a href='file:///opt/homebrew/Caskroom/miniforge/base/envs/P5/lib/python3.9/site-packages/scipy/optimize/_optimize.py?line=70'>71</a>\u001b[0m     \u001b[39mself\u001b[39m\u001b[39m.\u001b[39mjac \u001b[39m=\u001b[39m fg[\u001b[39m1\u001b[39m]\n\u001b[1;32m     <a href='file:///opt/homebrew/Caskroom/miniforge/base/envs/P5/lib/python3.9/site-packages/scipy/optimize/_optimize.py?line=71'>72</a>\u001b[0m     \u001b[39mself\u001b[39m\u001b[39m.\u001b[39m_value \u001b[39m=\u001b[39m fg[\u001b[39m0\u001b[39m]\n",
      "File \u001b[0;32m/opt/homebrew/Caskroom/miniforge/base/envs/P5/lib/python3.9/site-packages/sklearn/linear_model/_logistic.py:116\u001b[0m, in \u001b[0;36m_logistic_loss_and_grad\u001b[0;34m(w, X, y, alpha, sample_weight)\u001b[0m\n\u001b[1;32m    <a href='file:///opt/homebrew/Caskroom/miniforge/base/envs/P5/lib/python3.9/site-packages/sklearn/linear_model/_logistic.py?line=112'>113</a>\u001b[0m n_samples, n_features \u001b[39m=\u001b[39m X\u001b[39m.\u001b[39mshape\n\u001b[1;32m    <a href='file:///opt/homebrew/Caskroom/miniforge/base/envs/P5/lib/python3.9/site-packages/sklearn/linear_model/_logistic.py?line=113'>114</a>\u001b[0m grad \u001b[39m=\u001b[39m np\u001b[39m.\u001b[39mempty_like(w)\n\u001b[0;32m--> <a href='file:///opt/homebrew/Caskroom/miniforge/base/envs/P5/lib/python3.9/site-packages/sklearn/linear_model/_logistic.py?line=115'>116</a>\u001b[0m w, c, yz \u001b[39m=\u001b[39m _intercept_dot(w, X, y)\n\u001b[1;32m    <a href='file:///opt/homebrew/Caskroom/miniforge/base/envs/P5/lib/python3.9/site-packages/sklearn/linear_model/_logistic.py?line=117'>118</a>\u001b[0m \u001b[39mif\u001b[39;00m sample_weight \u001b[39mis\u001b[39;00m \u001b[39mNone\u001b[39;00m:\n\u001b[1;32m    <a href='file:///opt/homebrew/Caskroom/miniforge/base/envs/P5/lib/python3.9/site-packages/sklearn/linear_model/_logistic.py?line=118'>119</a>\u001b[0m     sample_weight \u001b[39m=\u001b[39m np\u001b[39m.\u001b[39mones(n_samples)\n",
      "File \u001b[0;32m/opt/homebrew/Caskroom/miniforge/base/envs/P5/lib/python3.9/site-packages/sklearn/linear_model/_logistic.py:79\u001b[0m, in \u001b[0;36m_intercept_dot\u001b[0;34m(w, X, y)\u001b[0m\n\u001b[1;32m     <a href='file:///opt/homebrew/Caskroom/miniforge/base/envs/P5/lib/python3.9/site-packages/sklearn/linear_model/_logistic.py?line=75'>76</a>\u001b[0m     c \u001b[39m=\u001b[39m w[\u001b[39m-\u001b[39m\u001b[39m1\u001b[39m]\n\u001b[1;32m     <a href='file:///opt/homebrew/Caskroom/miniforge/base/envs/P5/lib/python3.9/site-packages/sklearn/linear_model/_logistic.py?line=76'>77</a>\u001b[0m     w \u001b[39m=\u001b[39m w[:\u001b[39m-\u001b[39m\u001b[39m1\u001b[39m]\n\u001b[0;32m---> <a href='file:///opt/homebrew/Caskroom/miniforge/base/envs/P5/lib/python3.9/site-packages/sklearn/linear_model/_logistic.py?line=78'>79</a>\u001b[0m z \u001b[39m=\u001b[39m safe_sparse_dot(X, w) \u001b[39m+\u001b[39m c\n\u001b[1;32m     <a href='file:///opt/homebrew/Caskroom/miniforge/base/envs/P5/lib/python3.9/site-packages/sklearn/linear_model/_logistic.py?line=79'>80</a>\u001b[0m yz \u001b[39m=\u001b[39m y \u001b[39m*\u001b[39m z\n\u001b[1;32m     <a href='file:///opt/homebrew/Caskroom/miniforge/base/envs/P5/lib/python3.9/site-packages/sklearn/linear_model/_logistic.py?line=80'>81</a>\u001b[0m \u001b[39mreturn\u001b[39;00m w, c, yz\n",
      "File \u001b[0;32m/opt/homebrew/Caskroom/miniforge/base/envs/P5/lib/python3.9/site-packages/sklearn/utils/extmath.py:153\u001b[0m, in \u001b[0;36msafe_sparse_dot\u001b[0;34m(a, b, dense_output)\u001b[0m\n\u001b[1;32m    <a href='file:///opt/homebrew/Caskroom/miniforge/base/envs/P5/lib/python3.9/site-packages/sklearn/utils/extmath.py?line=150'>151</a>\u001b[0m         ret \u001b[39m=\u001b[39m np\u001b[39m.\u001b[39mdot(a, b)\n\u001b[1;32m    <a href='file:///opt/homebrew/Caskroom/miniforge/base/envs/P5/lib/python3.9/site-packages/sklearn/utils/extmath.py?line=151'>152</a>\u001b[0m \u001b[39melse\u001b[39;00m:\n\u001b[0;32m--> <a href='file:///opt/homebrew/Caskroom/miniforge/base/envs/P5/lib/python3.9/site-packages/sklearn/utils/extmath.py?line=152'>153</a>\u001b[0m     ret \u001b[39m=\u001b[39m a \u001b[39m@\u001b[39;49m b\n\u001b[1;32m    <a href='file:///opt/homebrew/Caskroom/miniforge/base/envs/P5/lib/python3.9/site-packages/sklearn/utils/extmath.py?line=154'>155</a>\u001b[0m \u001b[39mif\u001b[39;00m (\n\u001b[1;32m    <a href='file:///opt/homebrew/Caskroom/miniforge/base/envs/P5/lib/python3.9/site-packages/sklearn/utils/extmath.py?line=155'>156</a>\u001b[0m     sparse\u001b[39m.\u001b[39missparse(a)\n\u001b[1;32m    <a href='file:///opt/homebrew/Caskroom/miniforge/base/envs/P5/lib/python3.9/site-packages/sklearn/utils/extmath.py?line=156'>157</a>\u001b[0m     \u001b[39mand\u001b[39;00m sparse\u001b[39m.\u001b[39missparse(b)\n\u001b[1;32m    <a href='file:///opt/homebrew/Caskroom/miniforge/base/envs/P5/lib/python3.9/site-packages/sklearn/utils/extmath.py?line=157'>158</a>\u001b[0m     \u001b[39mand\u001b[39;00m dense_output\n\u001b[1;32m    <a href='file:///opt/homebrew/Caskroom/miniforge/base/envs/P5/lib/python3.9/site-packages/sklearn/utils/extmath.py?line=158'>159</a>\u001b[0m     \u001b[39mand\u001b[39;00m \u001b[39mhasattr\u001b[39m(ret, \u001b[39m\"\u001b[39m\u001b[39mtoarray\u001b[39m\u001b[39m\"\u001b[39m)\n\u001b[1;32m    <a href='file:///opt/homebrew/Caskroom/miniforge/base/envs/P5/lib/python3.9/site-packages/sklearn/utils/extmath.py?line=159'>160</a>\u001b[0m ):\n\u001b[1;32m    <a href='file:///opt/homebrew/Caskroom/miniforge/base/envs/P5/lib/python3.9/site-packages/sklearn/utils/extmath.py?line=160'>161</a>\u001b[0m     \u001b[39mreturn\u001b[39;00m ret\u001b[39m.\u001b[39mtoarray()\n",
      "\u001b[0;31mKeyboardInterrupt\u001b[0m: "
     ]
    }
   ],
   "source": [
    "from sklearn.linear_model import LogisticRegression\n",
    "\n",
    "logr_model = OneVsRestClassifier(LogisticRegression(solver='lbfgs'))\n",
    "logr_model.fit(X_train, y_train)\n",
    "\n",
    "#estimate the best predicted tags\n",
    "preds = logr_model.predict(X_test)\n",
    "report.evaluate('SVM', logr_model, X_test, y_test, preds)"
   ]
  },
  {
   "cell_type": "code",
   "execution_count": null,
   "metadata": {},
   "outputs": [
    {
     "data": {
      "text/html": [
       "<div>\n",
       "<style scoped>\n",
       "    .dataframe tbody tr th:only-of-type {\n",
       "        vertical-align: middle;\n",
       "    }\n",
       "\n",
       "    .dataframe tbody tr th {\n",
       "        vertical-align: top;\n",
       "    }\n",
       "\n",
       "    .dataframe thead th {\n",
       "        text-align: right;\n",
       "    }\n",
       "</style>\n",
       "<table border=\"1\" class=\"dataframe\">\n",
       "  <thead>\n",
       "    <tr style=\"text-align: right;\">\n",
       "      <th></th>\n",
       "      <th>Title_Body_tokens</th>\n",
       "      <th>Tags_tokens</th>\n",
       "      <th>LogR</th>\n",
       "    </tr>\n",
       "  </thead>\n",
       "  <tbody>\n",
       "    <tr>\n",
       "      <th>199</th>\n",
       "      <td>strategy,audit,trail/change,history,db,applica...</td>\n",
       "      <td>database,postgresql,database-design,crud,audit...</td>\n",
       "      <td>(database,)</td>\n",
       "    </tr>\n",
       "    <tr>\n",
       "      <th>39489</th>\n",
       "      <td>strcmp,string,:compare,compare,string,seem,wor...</td>\n",
       "      <td>c++,c,string,char,string-comparison</td>\n",
       "      <td>()</td>\n",
       "    </tr>\n",
       "    <tr>\n",
       "      <th>42724</th>\n",
       "      <td>decode,entity,rail,duplicate,encode/decode,ent...</td>\n",
       "      <td>ruby-on-rails,ruby,ruby-on-rails-3,html-entiti...</td>\n",
       "      <td>(ruby-on-rails, ruby, entity-framework)</td>\n",
       "    </tr>\n",
       "    <tr>\n",
       "      <th>10822</th>\n",
       "      <td>pointer,structure,return,pointer,struct,c,mean...</td>\n",
       "      <td>c,pointers,variables,struct,return</td>\n",
       "      <td>(c++, c, pointers)</td>\n",
       "    </tr>\n",
       "    <tr>\n",
       "      <th>4144</th>\n",
       "      <td>use,http,authentication,client,web,service,acc...</td>\n",
       "      <td>java,web-services,ssl,cxf,ws-security</td>\n",
       "      <td>(security, web-services, wcf, ssl)</td>\n",
       "    </tr>\n",
       "  </tbody>\n",
       "</table>\n",
       "</div>"
      ],
      "text/plain": [
       "                                       Title_Body_tokens  \\\n",
       "199    strategy,audit,trail/change,history,db,applica...   \n",
       "39489  strcmp,string,:compare,compare,string,seem,wor...   \n",
       "42724  decode,entity,rail,duplicate,encode/decode,ent...   \n",
       "10822  pointer,structure,return,pointer,struct,c,mean...   \n",
       "4144   use,http,authentication,client,web,service,acc...   \n",
       "\n",
       "                                             Tags_tokens  \\\n",
       "199    database,postgresql,database-design,crud,audit...   \n",
       "39489                c++,c,string,char,string-comparison   \n",
       "42724  ruby-on-rails,ruby,ruby-on-rails-3,html-entiti...   \n",
       "10822                 c,pointers,variables,struct,return   \n",
       "4144               java,web-services,ssl,cxf,ws-security   \n",
       "\n",
       "                                          LogR  \n",
       "199                                (database,)  \n",
       "39489                                       ()  \n",
       "42724  (ruby-on-rails, ruby, entity-framework)  \n",
       "10822                       (c++, c, pointers)  \n",
       "4144        (security, web-services, wcf, ssl)  "
      ]
     },
     "execution_count": 442,
     "metadata": {},
     "output_type": "execute_result"
    }
   ],
   "source": [
    "transformer.join_predictions('LogR', preds).head()"
   ]
  },
  {
   "cell_type": "code",
   "execution_count": null,
   "metadata": {},
   "outputs": [
    {
     "name": "stdout",
     "output_type": "stream",
     "text": [
      "Ratio of tags hit: 0.2066\n"
     ]
    }
   ],
   "source": [
    "report.tags_ratio('LogR', transformer.test_df, 'Tags_tokens')"
   ]
  },
  {
   "cell_type": "markdown",
   "metadata": {},
   "source": [
    "### SVM"
   ]
  },
  {
   "cell_type": "code",
   "execution_count": null,
   "metadata": {},
   "outputs": [
    {
     "ename": "KeyboardInterrupt",
     "evalue": "",
     "output_type": "error",
     "traceback": [
      "\u001b[0;31m---------------------------------------------------------------------------\u001b[0m",
      "\u001b[0;31mKeyboardInterrupt\u001b[0m                         Traceback (most recent call last)",
      "\u001b[1;32m/Users/grosjeanthibaud/Documents/P5/P5_02_test.ipynb Cell 44'\u001b[0m in \u001b[0;36m<module>\u001b[0;34m\u001b[0m\n\u001b[1;32m      <a href='vscode-notebook-cell:/Users/grosjeanthibaud/Documents/P5/P5_02_test.ipynb#ch0000038?line=0'>1</a>\u001b[0m svm_model \u001b[39m=\u001b[39m OneVsRestClassifier(LinearSVC())\n\u001b[0;32m----> <a href='vscode-notebook-cell:/Users/grosjeanthibaud/Documents/P5/P5_02_test.ipynb#ch0000038?line=1'>2</a>\u001b[0m svm_model\u001b[39m.\u001b[39;49mfit(X_train, y_train)\n\u001b[1;32m      <a href='vscode-notebook-cell:/Users/grosjeanthibaud/Documents/P5/P5_02_test.ipynb#ch0000038?line=2'>3</a>\u001b[0m preds \u001b[39m=\u001b[39m svm_model\u001b[39m.\u001b[39mpredict(X_test)\n\u001b[1;32m      <a href='vscode-notebook-cell:/Users/grosjeanthibaud/Documents/P5/P5_02_test.ipynb#ch0000038?line=3'>4</a>\u001b[0m report\u001b[39m.\u001b[39mevaluate(\u001b[39m'\u001b[39m\u001b[39mSVM\u001b[39m\u001b[39m'\u001b[39m, svm_model, X_test, y_test, preds)\n",
      "File \u001b[0;32m/opt/homebrew/Caskroom/miniforge/base/envs/P5/lib/python3.9/site-packages/sklearn/multiclass.py:337\u001b[0m, in \u001b[0;36mOneVsRestClassifier.fit\u001b[0;34m(self, X, y)\u001b[0m\n\u001b[1;32m    <a href='file:///opt/homebrew/Caskroom/miniforge/base/envs/P5/lib/python3.9/site-packages/sklearn/multiclass.py?line=332'>333</a>\u001b[0m columns \u001b[39m=\u001b[39m (col\u001b[39m.\u001b[39mtoarray()\u001b[39m.\u001b[39mravel() \u001b[39mfor\u001b[39;00m col \u001b[39min\u001b[39;00m Y\u001b[39m.\u001b[39mT)\n\u001b[1;32m    <a href='file:///opt/homebrew/Caskroom/miniforge/base/envs/P5/lib/python3.9/site-packages/sklearn/multiclass.py?line=333'>334</a>\u001b[0m \u001b[39m# In cases where individual estimators are very fast to train setting\u001b[39;00m\n\u001b[1;32m    <a href='file:///opt/homebrew/Caskroom/miniforge/base/envs/P5/lib/python3.9/site-packages/sklearn/multiclass.py?line=334'>335</a>\u001b[0m \u001b[39m# n_jobs > 1 in can results in slower performance due to the overhead\u001b[39;00m\n\u001b[1;32m    <a href='file:///opt/homebrew/Caskroom/miniforge/base/envs/P5/lib/python3.9/site-packages/sklearn/multiclass.py?line=335'>336</a>\u001b[0m \u001b[39m# of spawning threads.  See joblib issue #112.\u001b[39;00m\n\u001b[0;32m--> <a href='file:///opt/homebrew/Caskroom/miniforge/base/envs/P5/lib/python3.9/site-packages/sklearn/multiclass.py?line=336'>337</a>\u001b[0m \u001b[39mself\u001b[39m\u001b[39m.\u001b[39mestimators_ \u001b[39m=\u001b[39m Parallel(n_jobs\u001b[39m=\u001b[39;49m\u001b[39mself\u001b[39;49m\u001b[39m.\u001b[39;49mn_jobs)(\n\u001b[1;32m    <a href='file:///opt/homebrew/Caskroom/miniforge/base/envs/P5/lib/python3.9/site-packages/sklearn/multiclass.py?line=337'>338</a>\u001b[0m     delayed(_fit_binary)(\n\u001b[1;32m    <a href='file:///opt/homebrew/Caskroom/miniforge/base/envs/P5/lib/python3.9/site-packages/sklearn/multiclass.py?line=338'>339</a>\u001b[0m         \u001b[39mself\u001b[39;49m\u001b[39m.\u001b[39;49mestimator,\n\u001b[1;32m    <a href='file:///opt/homebrew/Caskroom/miniforge/base/envs/P5/lib/python3.9/site-packages/sklearn/multiclass.py?line=339'>340</a>\u001b[0m         X,\n\u001b[1;32m    <a href='file:///opt/homebrew/Caskroom/miniforge/base/envs/P5/lib/python3.9/site-packages/sklearn/multiclass.py?line=340'>341</a>\u001b[0m         column,\n\u001b[1;32m    <a href='file:///opt/homebrew/Caskroom/miniforge/base/envs/P5/lib/python3.9/site-packages/sklearn/multiclass.py?line=341'>342</a>\u001b[0m         classes\u001b[39m=\u001b[39;49m[\n\u001b[1;32m    <a href='file:///opt/homebrew/Caskroom/miniforge/base/envs/P5/lib/python3.9/site-packages/sklearn/multiclass.py?line=342'>343</a>\u001b[0m             \u001b[39m\"\u001b[39;49m\u001b[39mnot \u001b[39;49m\u001b[39m%s\u001b[39;49;00m\u001b[39m\"\u001b[39;49m \u001b[39m%\u001b[39;49m \u001b[39mself\u001b[39;49m\u001b[39m.\u001b[39;49mlabel_binarizer_\u001b[39m.\u001b[39;49mclasses_[i],\n\u001b[1;32m    <a href='file:///opt/homebrew/Caskroom/miniforge/base/envs/P5/lib/python3.9/site-packages/sklearn/multiclass.py?line=343'>344</a>\u001b[0m             \u001b[39mself\u001b[39;49m\u001b[39m.\u001b[39;49mlabel_binarizer_\u001b[39m.\u001b[39;49mclasses_[i],\n\u001b[1;32m    <a href='file:///opt/homebrew/Caskroom/miniforge/base/envs/P5/lib/python3.9/site-packages/sklearn/multiclass.py?line=344'>345</a>\u001b[0m         ],\n\u001b[1;32m    <a href='file:///opt/homebrew/Caskroom/miniforge/base/envs/P5/lib/python3.9/site-packages/sklearn/multiclass.py?line=345'>346</a>\u001b[0m     )\n\u001b[1;32m    <a href='file:///opt/homebrew/Caskroom/miniforge/base/envs/P5/lib/python3.9/site-packages/sklearn/multiclass.py?line=346'>347</a>\u001b[0m     \u001b[39mfor\u001b[39;49;00m i, column \u001b[39min\u001b[39;49;00m \u001b[39menumerate\u001b[39;49m(columns)\n\u001b[1;32m    <a href='file:///opt/homebrew/Caskroom/miniforge/base/envs/P5/lib/python3.9/site-packages/sklearn/multiclass.py?line=347'>348</a>\u001b[0m )\n\u001b[1;32m    <a href='file:///opt/homebrew/Caskroom/miniforge/base/envs/P5/lib/python3.9/site-packages/sklearn/multiclass.py?line=349'>350</a>\u001b[0m \u001b[39mif\u001b[39;00m \u001b[39mhasattr\u001b[39m(\u001b[39mself\u001b[39m\u001b[39m.\u001b[39mestimators_[\u001b[39m0\u001b[39m], \u001b[39m\"\u001b[39m\u001b[39mn_features_in_\u001b[39m\u001b[39m\"\u001b[39m):\n\u001b[1;32m    <a href='file:///opt/homebrew/Caskroom/miniforge/base/envs/P5/lib/python3.9/site-packages/sklearn/multiclass.py?line=350'>351</a>\u001b[0m     \u001b[39mself\u001b[39m\u001b[39m.\u001b[39mn_features_in_ \u001b[39m=\u001b[39m \u001b[39mself\u001b[39m\u001b[39m.\u001b[39mestimators_[\u001b[39m0\u001b[39m]\u001b[39m.\u001b[39mn_features_in_\n",
      "File \u001b[0;32m/opt/homebrew/Caskroom/miniforge/base/envs/P5/lib/python3.9/site-packages/joblib/parallel.py:1046\u001b[0m, in \u001b[0;36mParallel.__call__\u001b[0;34m(self, iterable)\u001b[0m\n\u001b[1;32m   <a href='file:///opt/homebrew/Caskroom/miniforge/base/envs/P5/lib/python3.9/site-packages/joblib/parallel.py?line=1042'>1043</a>\u001b[0m \u001b[39mif\u001b[39;00m \u001b[39mself\u001b[39m\u001b[39m.\u001b[39mdispatch_one_batch(iterator):\n\u001b[1;32m   <a href='file:///opt/homebrew/Caskroom/miniforge/base/envs/P5/lib/python3.9/site-packages/joblib/parallel.py?line=1043'>1044</a>\u001b[0m     \u001b[39mself\u001b[39m\u001b[39m.\u001b[39m_iterating \u001b[39m=\u001b[39m \u001b[39mself\u001b[39m\u001b[39m.\u001b[39m_original_iterator \u001b[39mis\u001b[39;00m \u001b[39mnot\u001b[39;00m \u001b[39mNone\u001b[39;00m\n\u001b[0;32m-> <a href='file:///opt/homebrew/Caskroom/miniforge/base/envs/P5/lib/python3.9/site-packages/joblib/parallel.py?line=1045'>1046</a>\u001b[0m \u001b[39mwhile\u001b[39;00m \u001b[39mself\u001b[39;49m\u001b[39m.\u001b[39;49mdispatch_one_batch(iterator):\n\u001b[1;32m   <a href='file:///opt/homebrew/Caskroom/miniforge/base/envs/P5/lib/python3.9/site-packages/joblib/parallel.py?line=1046'>1047</a>\u001b[0m     \u001b[39mpass\u001b[39;00m\n\u001b[1;32m   <a href='file:///opt/homebrew/Caskroom/miniforge/base/envs/P5/lib/python3.9/site-packages/joblib/parallel.py?line=1048'>1049</a>\u001b[0m \u001b[39mif\u001b[39;00m pre_dispatch \u001b[39m==\u001b[39m \u001b[39m\"\u001b[39m\u001b[39mall\u001b[39m\u001b[39m\"\u001b[39m \u001b[39mor\u001b[39;00m n_jobs \u001b[39m==\u001b[39m \u001b[39m1\u001b[39m:\n\u001b[1;32m   <a href='file:///opt/homebrew/Caskroom/miniforge/base/envs/P5/lib/python3.9/site-packages/joblib/parallel.py?line=1049'>1050</a>\u001b[0m     \u001b[39m# The iterable was consumed all at once by the above for loop.\u001b[39;00m\n\u001b[1;32m   <a href='file:///opt/homebrew/Caskroom/miniforge/base/envs/P5/lib/python3.9/site-packages/joblib/parallel.py?line=1050'>1051</a>\u001b[0m     \u001b[39m# No need to wait for async callbacks to trigger to\u001b[39;00m\n\u001b[1;32m   <a href='file:///opt/homebrew/Caskroom/miniforge/base/envs/P5/lib/python3.9/site-packages/joblib/parallel.py?line=1051'>1052</a>\u001b[0m     \u001b[39m# consumption.\u001b[39;00m\n",
      "File \u001b[0;32m/opt/homebrew/Caskroom/miniforge/base/envs/P5/lib/python3.9/site-packages/joblib/parallel.py:861\u001b[0m, in \u001b[0;36mParallel.dispatch_one_batch\u001b[0;34m(self, iterator)\u001b[0m\n\u001b[1;32m    <a href='file:///opt/homebrew/Caskroom/miniforge/base/envs/P5/lib/python3.9/site-packages/joblib/parallel.py?line=858'>859</a>\u001b[0m     \u001b[39mreturn\u001b[39;00m \u001b[39mFalse\u001b[39;00m\n\u001b[1;32m    <a href='file:///opt/homebrew/Caskroom/miniforge/base/envs/P5/lib/python3.9/site-packages/joblib/parallel.py?line=859'>860</a>\u001b[0m \u001b[39melse\u001b[39;00m:\n\u001b[0;32m--> <a href='file:///opt/homebrew/Caskroom/miniforge/base/envs/P5/lib/python3.9/site-packages/joblib/parallel.py?line=860'>861</a>\u001b[0m     \u001b[39mself\u001b[39;49m\u001b[39m.\u001b[39;49m_dispatch(tasks)\n\u001b[1;32m    <a href='file:///opt/homebrew/Caskroom/miniforge/base/envs/P5/lib/python3.9/site-packages/joblib/parallel.py?line=861'>862</a>\u001b[0m     \u001b[39mreturn\u001b[39;00m \u001b[39mTrue\u001b[39;00m\n",
      "File \u001b[0;32m/opt/homebrew/Caskroom/miniforge/base/envs/P5/lib/python3.9/site-packages/joblib/parallel.py:779\u001b[0m, in \u001b[0;36mParallel._dispatch\u001b[0;34m(self, batch)\u001b[0m\n\u001b[1;32m    <a href='file:///opt/homebrew/Caskroom/miniforge/base/envs/P5/lib/python3.9/site-packages/joblib/parallel.py?line=776'>777</a>\u001b[0m \u001b[39mwith\u001b[39;00m \u001b[39mself\u001b[39m\u001b[39m.\u001b[39m_lock:\n\u001b[1;32m    <a href='file:///opt/homebrew/Caskroom/miniforge/base/envs/P5/lib/python3.9/site-packages/joblib/parallel.py?line=777'>778</a>\u001b[0m     job_idx \u001b[39m=\u001b[39m \u001b[39mlen\u001b[39m(\u001b[39mself\u001b[39m\u001b[39m.\u001b[39m_jobs)\n\u001b[0;32m--> <a href='file:///opt/homebrew/Caskroom/miniforge/base/envs/P5/lib/python3.9/site-packages/joblib/parallel.py?line=778'>779</a>\u001b[0m     job \u001b[39m=\u001b[39m \u001b[39mself\u001b[39;49m\u001b[39m.\u001b[39;49m_backend\u001b[39m.\u001b[39;49mapply_async(batch, callback\u001b[39m=\u001b[39;49mcb)\n\u001b[1;32m    <a href='file:///opt/homebrew/Caskroom/miniforge/base/envs/P5/lib/python3.9/site-packages/joblib/parallel.py?line=779'>780</a>\u001b[0m     \u001b[39m# A job can complete so quickly than its callback is\u001b[39;00m\n\u001b[1;32m    <a href='file:///opt/homebrew/Caskroom/miniforge/base/envs/P5/lib/python3.9/site-packages/joblib/parallel.py?line=780'>781</a>\u001b[0m     \u001b[39m# called before we get here, causing self._jobs to\u001b[39;00m\n\u001b[1;32m    <a href='file:///opt/homebrew/Caskroom/miniforge/base/envs/P5/lib/python3.9/site-packages/joblib/parallel.py?line=781'>782</a>\u001b[0m     \u001b[39m# grow. To ensure correct results ordering, .insert is\u001b[39;00m\n\u001b[1;32m    <a href='file:///opt/homebrew/Caskroom/miniforge/base/envs/P5/lib/python3.9/site-packages/joblib/parallel.py?line=782'>783</a>\u001b[0m     \u001b[39m# used (rather than .append) in the following line\u001b[39;00m\n\u001b[1;32m    <a href='file:///opt/homebrew/Caskroom/miniforge/base/envs/P5/lib/python3.9/site-packages/joblib/parallel.py?line=783'>784</a>\u001b[0m     \u001b[39mself\u001b[39m\u001b[39m.\u001b[39m_jobs\u001b[39m.\u001b[39minsert(job_idx, job)\n",
      "File \u001b[0;32m/opt/homebrew/Caskroom/miniforge/base/envs/P5/lib/python3.9/site-packages/joblib/_parallel_backends.py:208\u001b[0m, in \u001b[0;36mSequentialBackend.apply_async\u001b[0;34m(self, func, callback)\u001b[0m\n\u001b[1;32m    <a href='file:///opt/homebrew/Caskroom/miniforge/base/envs/P5/lib/python3.9/site-packages/joblib/_parallel_backends.py?line=205'>206</a>\u001b[0m \u001b[39mdef\u001b[39;00m \u001b[39mapply_async\u001b[39m(\u001b[39mself\u001b[39m, func, callback\u001b[39m=\u001b[39m\u001b[39mNone\u001b[39;00m):\n\u001b[1;32m    <a href='file:///opt/homebrew/Caskroom/miniforge/base/envs/P5/lib/python3.9/site-packages/joblib/_parallel_backends.py?line=206'>207</a>\u001b[0m     \u001b[39m\"\"\"Schedule a func to be run\"\"\"\u001b[39;00m\n\u001b[0;32m--> <a href='file:///opt/homebrew/Caskroom/miniforge/base/envs/P5/lib/python3.9/site-packages/joblib/_parallel_backends.py?line=207'>208</a>\u001b[0m     result \u001b[39m=\u001b[39m ImmediateResult(func)\n\u001b[1;32m    <a href='file:///opt/homebrew/Caskroom/miniforge/base/envs/P5/lib/python3.9/site-packages/joblib/_parallel_backends.py?line=208'>209</a>\u001b[0m     \u001b[39mif\u001b[39;00m callback:\n\u001b[1;32m    <a href='file:///opt/homebrew/Caskroom/miniforge/base/envs/P5/lib/python3.9/site-packages/joblib/_parallel_backends.py?line=209'>210</a>\u001b[0m         callback(result)\n",
      "File \u001b[0;32m/opt/homebrew/Caskroom/miniforge/base/envs/P5/lib/python3.9/site-packages/joblib/_parallel_backends.py:572\u001b[0m, in \u001b[0;36mImmediateResult.__init__\u001b[0;34m(self, batch)\u001b[0m\n\u001b[1;32m    <a href='file:///opt/homebrew/Caskroom/miniforge/base/envs/P5/lib/python3.9/site-packages/joblib/_parallel_backends.py?line=568'>569</a>\u001b[0m \u001b[39mdef\u001b[39;00m \u001b[39m__init__\u001b[39m(\u001b[39mself\u001b[39m, batch):\n\u001b[1;32m    <a href='file:///opt/homebrew/Caskroom/miniforge/base/envs/P5/lib/python3.9/site-packages/joblib/_parallel_backends.py?line=569'>570</a>\u001b[0m     \u001b[39m# Don't delay the application, to avoid keeping the input\u001b[39;00m\n\u001b[1;32m    <a href='file:///opt/homebrew/Caskroom/miniforge/base/envs/P5/lib/python3.9/site-packages/joblib/_parallel_backends.py?line=570'>571</a>\u001b[0m     \u001b[39m# arguments in memory\u001b[39;00m\n\u001b[0;32m--> <a href='file:///opt/homebrew/Caskroom/miniforge/base/envs/P5/lib/python3.9/site-packages/joblib/_parallel_backends.py?line=571'>572</a>\u001b[0m     \u001b[39mself\u001b[39m\u001b[39m.\u001b[39mresults \u001b[39m=\u001b[39m batch()\n",
      "File \u001b[0;32m/opt/homebrew/Caskroom/miniforge/base/envs/P5/lib/python3.9/site-packages/joblib/parallel.py:262\u001b[0m, in \u001b[0;36mBatchedCalls.__call__\u001b[0;34m(self)\u001b[0m\n\u001b[1;32m    <a href='file:///opt/homebrew/Caskroom/miniforge/base/envs/P5/lib/python3.9/site-packages/joblib/parallel.py?line=257'>258</a>\u001b[0m \u001b[39mdef\u001b[39;00m \u001b[39m__call__\u001b[39m(\u001b[39mself\u001b[39m):\n\u001b[1;32m    <a href='file:///opt/homebrew/Caskroom/miniforge/base/envs/P5/lib/python3.9/site-packages/joblib/parallel.py?line=258'>259</a>\u001b[0m     \u001b[39m# Set the default nested backend to self._backend but do not set the\u001b[39;00m\n\u001b[1;32m    <a href='file:///opt/homebrew/Caskroom/miniforge/base/envs/P5/lib/python3.9/site-packages/joblib/parallel.py?line=259'>260</a>\u001b[0m     \u001b[39m# change the default number of processes to -1\u001b[39;00m\n\u001b[1;32m    <a href='file:///opt/homebrew/Caskroom/miniforge/base/envs/P5/lib/python3.9/site-packages/joblib/parallel.py?line=260'>261</a>\u001b[0m     \u001b[39mwith\u001b[39;00m parallel_backend(\u001b[39mself\u001b[39m\u001b[39m.\u001b[39m_backend, n_jobs\u001b[39m=\u001b[39m\u001b[39mself\u001b[39m\u001b[39m.\u001b[39m_n_jobs):\n\u001b[0;32m--> <a href='file:///opt/homebrew/Caskroom/miniforge/base/envs/P5/lib/python3.9/site-packages/joblib/parallel.py?line=261'>262</a>\u001b[0m         \u001b[39mreturn\u001b[39;00m [func(\u001b[39m*\u001b[39margs, \u001b[39m*\u001b[39m\u001b[39m*\u001b[39mkwargs)\n\u001b[1;32m    <a href='file:///opt/homebrew/Caskroom/miniforge/base/envs/P5/lib/python3.9/site-packages/joblib/parallel.py?line=262'>263</a>\u001b[0m                 \u001b[39mfor\u001b[39;00m func, args, kwargs \u001b[39min\u001b[39;00m \u001b[39mself\u001b[39m\u001b[39m.\u001b[39mitems]\n",
      "File \u001b[0;32m/opt/homebrew/Caskroom/miniforge/base/envs/P5/lib/python3.9/site-packages/joblib/parallel.py:262\u001b[0m, in \u001b[0;36m<listcomp>\u001b[0;34m(.0)\u001b[0m\n\u001b[1;32m    <a href='file:///opt/homebrew/Caskroom/miniforge/base/envs/P5/lib/python3.9/site-packages/joblib/parallel.py?line=257'>258</a>\u001b[0m \u001b[39mdef\u001b[39;00m \u001b[39m__call__\u001b[39m(\u001b[39mself\u001b[39m):\n\u001b[1;32m    <a href='file:///opt/homebrew/Caskroom/miniforge/base/envs/P5/lib/python3.9/site-packages/joblib/parallel.py?line=258'>259</a>\u001b[0m     \u001b[39m# Set the default nested backend to self._backend but do not set the\u001b[39;00m\n\u001b[1;32m    <a href='file:///opt/homebrew/Caskroom/miniforge/base/envs/P5/lib/python3.9/site-packages/joblib/parallel.py?line=259'>260</a>\u001b[0m     \u001b[39m# change the default number of processes to -1\u001b[39;00m\n\u001b[1;32m    <a href='file:///opt/homebrew/Caskroom/miniforge/base/envs/P5/lib/python3.9/site-packages/joblib/parallel.py?line=260'>261</a>\u001b[0m     \u001b[39mwith\u001b[39;00m parallel_backend(\u001b[39mself\u001b[39m\u001b[39m.\u001b[39m_backend, n_jobs\u001b[39m=\u001b[39m\u001b[39mself\u001b[39m\u001b[39m.\u001b[39m_n_jobs):\n\u001b[0;32m--> <a href='file:///opt/homebrew/Caskroom/miniforge/base/envs/P5/lib/python3.9/site-packages/joblib/parallel.py?line=261'>262</a>\u001b[0m         \u001b[39mreturn\u001b[39;00m [func(\u001b[39m*\u001b[39;49margs, \u001b[39m*\u001b[39;49m\u001b[39m*\u001b[39;49mkwargs)\n\u001b[1;32m    <a href='file:///opt/homebrew/Caskroom/miniforge/base/envs/P5/lib/python3.9/site-packages/joblib/parallel.py?line=262'>263</a>\u001b[0m                 \u001b[39mfor\u001b[39;00m func, args, kwargs \u001b[39min\u001b[39;00m \u001b[39mself\u001b[39m\u001b[39m.\u001b[39mitems]\n",
      "File \u001b[0;32m/opt/homebrew/Caskroom/miniforge/base/envs/P5/lib/python3.9/site-packages/sklearn/utils/fixes.py:216\u001b[0m, in \u001b[0;36m_FuncWrapper.__call__\u001b[0;34m(self, *args, **kwargs)\u001b[0m\n\u001b[1;32m    <a href='file:///opt/homebrew/Caskroom/miniforge/base/envs/P5/lib/python3.9/site-packages/sklearn/utils/fixes.py?line=213'>214</a>\u001b[0m \u001b[39mdef\u001b[39;00m \u001b[39m__call__\u001b[39m(\u001b[39mself\u001b[39m, \u001b[39m*\u001b[39margs, \u001b[39m*\u001b[39m\u001b[39m*\u001b[39mkwargs):\n\u001b[1;32m    <a href='file:///opt/homebrew/Caskroom/miniforge/base/envs/P5/lib/python3.9/site-packages/sklearn/utils/fixes.py?line=214'>215</a>\u001b[0m     \u001b[39mwith\u001b[39;00m config_context(\u001b[39m*\u001b[39m\u001b[39m*\u001b[39m\u001b[39mself\u001b[39m\u001b[39m.\u001b[39mconfig):\n\u001b[0;32m--> <a href='file:///opt/homebrew/Caskroom/miniforge/base/envs/P5/lib/python3.9/site-packages/sklearn/utils/fixes.py?line=215'>216</a>\u001b[0m         \u001b[39mreturn\u001b[39;00m \u001b[39mself\u001b[39;49m\u001b[39m.\u001b[39;49mfunction(\u001b[39m*\u001b[39;49margs, \u001b[39m*\u001b[39;49m\u001b[39m*\u001b[39;49mkwargs)\n",
      "File \u001b[0;32m/opt/homebrew/Caskroom/miniforge/base/envs/P5/lib/python3.9/site-packages/sklearn/multiclass.py:85\u001b[0m, in \u001b[0;36m_fit_binary\u001b[0;34m(estimator, X, y, classes)\u001b[0m\n\u001b[1;32m     <a href='file:///opt/homebrew/Caskroom/miniforge/base/envs/P5/lib/python3.9/site-packages/sklearn/multiclass.py?line=82'>83</a>\u001b[0m \u001b[39melse\u001b[39;00m:\n\u001b[1;32m     <a href='file:///opt/homebrew/Caskroom/miniforge/base/envs/P5/lib/python3.9/site-packages/sklearn/multiclass.py?line=83'>84</a>\u001b[0m     estimator \u001b[39m=\u001b[39m clone(estimator)\n\u001b[0;32m---> <a href='file:///opt/homebrew/Caskroom/miniforge/base/envs/P5/lib/python3.9/site-packages/sklearn/multiclass.py?line=84'>85</a>\u001b[0m     estimator\u001b[39m.\u001b[39;49mfit(X, y)\n\u001b[1;32m     <a href='file:///opt/homebrew/Caskroom/miniforge/base/envs/P5/lib/python3.9/site-packages/sklearn/multiclass.py?line=85'>86</a>\u001b[0m \u001b[39mreturn\u001b[39;00m estimator\n",
      "File \u001b[0;32m/opt/homebrew/Caskroom/miniforge/base/envs/P5/lib/python3.9/site-packages/sklearn/svm/_classes.py:257\u001b[0m, in \u001b[0;36mLinearSVC.fit\u001b[0;34m(self, X, y, sample_weight)\u001b[0m\n\u001b[1;32m    <a href='file:///opt/homebrew/Caskroom/miniforge/base/envs/P5/lib/python3.9/site-packages/sklearn/svm/_classes.py?line=253'>254</a>\u001b[0m check_classification_targets(y)\n\u001b[1;32m    <a href='file:///opt/homebrew/Caskroom/miniforge/base/envs/P5/lib/python3.9/site-packages/sklearn/svm/_classes.py?line=254'>255</a>\u001b[0m \u001b[39mself\u001b[39m\u001b[39m.\u001b[39mclasses_ \u001b[39m=\u001b[39m np\u001b[39m.\u001b[39munique(y)\n\u001b[0;32m--> <a href='file:///opt/homebrew/Caskroom/miniforge/base/envs/P5/lib/python3.9/site-packages/sklearn/svm/_classes.py?line=256'>257</a>\u001b[0m \u001b[39mself\u001b[39m\u001b[39m.\u001b[39mcoef_, \u001b[39mself\u001b[39m\u001b[39m.\u001b[39mintercept_, \u001b[39mself\u001b[39m\u001b[39m.\u001b[39mn_iter_ \u001b[39m=\u001b[39m _fit_liblinear(\n\u001b[1;32m    <a href='file:///opt/homebrew/Caskroom/miniforge/base/envs/P5/lib/python3.9/site-packages/sklearn/svm/_classes.py?line=257'>258</a>\u001b[0m     X,\n\u001b[1;32m    <a href='file:///opt/homebrew/Caskroom/miniforge/base/envs/P5/lib/python3.9/site-packages/sklearn/svm/_classes.py?line=258'>259</a>\u001b[0m     y,\n\u001b[1;32m    <a href='file:///opt/homebrew/Caskroom/miniforge/base/envs/P5/lib/python3.9/site-packages/sklearn/svm/_classes.py?line=259'>260</a>\u001b[0m     \u001b[39mself\u001b[39;49m\u001b[39m.\u001b[39;49mC,\n\u001b[1;32m    <a href='file:///opt/homebrew/Caskroom/miniforge/base/envs/P5/lib/python3.9/site-packages/sklearn/svm/_classes.py?line=260'>261</a>\u001b[0m     \u001b[39mself\u001b[39;49m\u001b[39m.\u001b[39;49mfit_intercept,\n\u001b[1;32m    <a href='file:///opt/homebrew/Caskroom/miniforge/base/envs/P5/lib/python3.9/site-packages/sklearn/svm/_classes.py?line=261'>262</a>\u001b[0m     \u001b[39mself\u001b[39;49m\u001b[39m.\u001b[39;49mintercept_scaling,\n\u001b[1;32m    <a href='file:///opt/homebrew/Caskroom/miniforge/base/envs/P5/lib/python3.9/site-packages/sklearn/svm/_classes.py?line=262'>263</a>\u001b[0m     \u001b[39mself\u001b[39;49m\u001b[39m.\u001b[39;49mclass_weight,\n\u001b[1;32m    <a href='file:///opt/homebrew/Caskroom/miniforge/base/envs/P5/lib/python3.9/site-packages/sklearn/svm/_classes.py?line=263'>264</a>\u001b[0m     \u001b[39mself\u001b[39;49m\u001b[39m.\u001b[39;49mpenalty,\n\u001b[1;32m    <a href='file:///opt/homebrew/Caskroom/miniforge/base/envs/P5/lib/python3.9/site-packages/sklearn/svm/_classes.py?line=264'>265</a>\u001b[0m     \u001b[39mself\u001b[39;49m\u001b[39m.\u001b[39;49mdual,\n\u001b[1;32m    <a href='file:///opt/homebrew/Caskroom/miniforge/base/envs/P5/lib/python3.9/site-packages/sklearn/svm/_classes.py?line=265'>266</a>\u001b[0m     \u001b[39mself\u001b[39;49m\u001b[39m.\u001b[39;49mverbose,\n\u001b[1;32m    <a href='file:///opt/homebrew/Caskroom/miniforge/base/envs/P5/lib/python3.9/site-packages/sklearn/svm/_classes.py?line=266'>267</a>\u001b[0m     \u001b[39mself\u001b[39;49m\u001b[39m.\u001b[39;49mmax_iter,\n\u001b[1;32m    <a href='file:///opt/homebrew/Caskroom/miniforge/base/envs/P5/lib/python3.9/site-packages/sklearn/svm/_classes.py?line=267'>268</a>\u001b[0m     \u001b[39mself\u001b[39;49m\u001b[39m.\u001b[39;49mtol,\n\u001b[1;32m    <a href='file:///opt/homebrew/Caskroom/miniforge/base/envs/P5/lib/python3.9/site-packages/sklearn/svm/_classes.py?line=268'>269</a>\u001b[0m     \u001b[39mself\u001b[39;49m\u001b[39m.\u001b[39;49mrandom_state,\n\u001b[1;32m    <a href='file:///opt/homebrew/Caskroom/miniforge/base/envs/P5/lib/python3.9/site-packages/sklearn/svm/_classes.py?line=269'>270</a>\u001b[0m     \u001b[39mself\u001b[39;49m\u001b[39m.\u001b[39;49mmulti_class,\n\u001b[1;32m    <a href='file:///opt/homebrew/Caskroom/miniforge/base/envs/P5/lib/python3.9/site-packages/sklearn/svm/_classes.py?line=270'>271</a>\u001b[0m     \u001b[39mself\u001b[39;49m\u001b[39m.\u001b[39;49mloss,\n\u001b[1;32m    <a href='file:///opt/homebrew/Caskroom/miniforge/base/envs/P5/lib/python3.9/site-packages/sklearn/svm/_classes.py?line=271'>272</a>\u001b[0m     sample_weight\u001b[39m=\u001b[39;49msample_weight,\n\u001b[1;32m    <a href='file:///opt/homebrew/Caskroom/miniforge/base/envs/P5/lib/python3.9/site-packages/sklearn/svm/_classes.py?line=272'>273</a>\u001b[0m )\n\u001b[1;32m    <a href='file:///opt/homebrew/Caskroom/miniforge/base/envs/P5/lib/python3.9/site-packages/sklearn/svm/_classes.py?line=274'>275</a>\u001b[0m \u001b[39mif\u001b[39;00m \u001b[39mself\u001b[39m\u001b[39m.\u001b[39mmulti_class \u001b[39m==\u001b[39m \u001b[39m\"\u001b[39m\u001b[39mcrammer_singer\u001b[39m\u001b[39m\"\u001b[39m \u001b[39mand\u001b[39;00m \u001b[39mlen\u001b[39m(\u001b[39mself\u001b[39m\u001b[39m.\u001b[39mclasses_) \u001b[39m==\u001b[39m \u001b[39m2\u001b[39m:\n\u001b[1;32m    <a href='file:///opt/homebrew/Caskroom/miniforge/base/envs/P5/lib/python3.9/site-packages/sklearn/svm/_classes.py?line=275'>276</a>\u001b[0m     \u001b[39mself\u001b[39m\u001b[39m.\u001b[39mcoef_ \u001b[39m=\u001b[39m (\u001b[39mself\u001b[39m\u001b[39m.\u001b[39mcoef_[\u001b[39m1\u001b[39m] \u001b[39m-\u001b[39m \u001b[39mself\u001b[39m\u001b[39m.\u001b[39mcoef_[\u001b[39m0\u001b[39m])\u001b[39m.\u001b[39mreshape(\u001b[39m1\u001b[39m, \u001b[39m-\u001b[39m\u001b[39m1\u001b[39m)\n",
      "File \u001b[0;32m/opt/homebrew/Caskroom/miniforge/base/envs/P5/lib/python3.9/site-packages/sklearn/svm/_base.py:1186\u001b[0m, in \u001b[0;36m_fit_liblinear\u001b[0;34m(X, y, C, fit_intercept, intercept_scaling, class_weight, penalty, dual, verbose, max_iter, tol, random_state, multi_class, loss, epsilon, sample_weight)\u001b[0m\n\u001b[1;32m   <a href='file:///opt/homebrew/Caskroom/miniforge/base/envs/P5/lib/python3.9/site-packages/sklearn/svm/_base.py?line=1182'>1183</a>\u001b[0m sample_weight \u001b[39m=\u001b[39m _check_sample_weight(sample_weight, X, dtype\u001b[39m=\u001b[39mnp\u001b[39m.\u001b[39mfloat64)\n\u001b[1;32m   <a href='file:///opt/homebrew/Caskroom/miniforge/base/envs/P5/lib/python3.9/site-packages/sklearn/svm/_base.py?line=1184'>1185</a>\u001b[0m solver_type \u001b[39m=\u001b[39m _get_liblinear_solver_type(multi_class, penalty, loss, dual)\n\u001b[0;32m-> <a href='file:///opt/homebrew/Caskroom/miniforge/base/envs/P5/lib/python3.9/site-packages/sklearn/svm/_base.py?line=1185'>1186</a>\u001b[0m raw_coef_, n_iter_ \u001b[39m=\u001b[39m liblinear\u001b[39m.\u001b[39;49mtrain_wrap(\n\u001b[1;32m   <a href='file:///opt/homebrew/Caskroom/miniforge/base/envs/P5/lib/python3.9/site-packages/sklearn/svm/_base.py?line=1186'>1187</a>\u001b[0m     X,\n\u001b[1;32m   <a href='file:///opt/homebrew/Caskroom/miniforge/base/envs/P5/lib/python3.9/site-packages/sklearn/svm/_base.py?line=1187'>1188</a>\u001b[0m     y_ind,\n\u001b[1;32m   <a href='file:///opt/homebrew/Caskroom/miniforge/base/envs/P5/lib/python3.9/site-packages/sklearn/svm/_base.py?line=1188'>1189</a>\u001b[0m     sp\u001b[39m.\u001b[39;49misspmatrix(X),\n\u001b[1;32m   <a href='file:///opt/homebrew/Caskroom/miniforge/base/envs/P5/lib/python3.9/site-packages/sklearn/svm/_base.py?line=1189'>1190</a>\u001b[0m     solver_type,\n\u001b[1;32m   <a href='file:///opt/homebrew/Caskroom/miniforge/base/envs/P5/lib/python3.9/site-packages/sklearn/svm/_base.py?line=1190'>1191</a>\u001b[0m     tol,\n\u001b[1;32m   <a href='file:///opt/homebrew/Caskroom/miniforge/base/envs/P5/lib/python3.9/site-packages/sklearn/svm/_base.py?line=1191'>1192</a>\u001b[0m     bias,\n\u001b[1;32m   <a href='file:///opt/homebrew/Caskroom/miniforge/base/envs/P5/lib/python3.9/site-packages/sklearn/svm/_base.py?line=1192'>1193</a>\u001b[0m     C,\n\u001b[1;32m   <a href='file:///opt/homebrew/Caskroom/miniforge/base/envs/P5/lib/python3.9/site-packages/sklearn/svm/_base.py?line=1193'>1194</a>\u001b[0m     class_weight_,\n\u001b[1;32m   <a href='file:///opt/homebrew/Caskroom/miniforge/base/envs/P5/lib/python3.9/site-packages/sklearn/svm/_base.py?line=1194'>1195</a>\u001b[0m     max_iter,\n\u001b[1;32m   <a href='file:///opt/homebrew/Caskroom/miniforge/base/envs/P5/lib/python3.9/site-packages/sklearn/svm/_base.py?line=1195'>1196</a>\u001b[0m     rnd\u001b[39m.\u001b[39;49mrandint(np\u001b[39m.\u001b[39;49miinfo(\u001b[39m\"\u001b[39;49m\u001b[39mi\u001b[39;49m\u001b[39m\"\u001b[39;49m)\u001b[39m.\u001b[39;49mmax),\n\u001b[1;32m   <a href='file:///opt/homebrew/Caskroom/miniforge/base/envs/P5/lib/python3.9/site-packages/sklearn/svm/_base.py?line=1196'>1197</a>\u001b[0m     epsilon,\n\u001b[1;32m   <a href='file:///opt/homebrew/Caskroom/miniforge/base/envs/P5/lib/python3.9/site-packages/sklearn/svm/_base.py?line=1197'>1198</a>\u001b[0m     sample_weight,\n\u001b[1;32m   <a href='file:///opt/homebrew/Caskroom/miniforge/base/envs/P5/lib/python3.9/site-packages/sklearn/svm/_base.py?line=1198'>1199</a>\u001b[0m )\n\u001b[1;32m   <a href='file:///opt/homebrew/Caskroom/miniforge/base/envs/P5/lib/python3.9/site-packages/sklearn/svm/_base.py?line=1199'>1200</a>\u001b[0m \u001b[39m# Regarding rnd.randint(..) in the above signature:\u001b[39;00m\n\u001b[1;32m   <a href='file:///opt/homebrew/Caskroom/miniforge/base/envs/P5/lib/python3.9/site-packages/sklearn/svm/_base.py?line=1200'>1201</a>\u001b[0m \u001b[39m# seed for srand in range [0..INT_MAX); due to limitations in Numpy\u001b[39;00m\n\u001b[1;32m   <a href='file:///opt/homebrew/Caskroom/miniforge/base/envs/P5/lib/python3.9/site-packages/sklearn/svm/_base.py?line=1201'>1202</a>\u001b[0m \u001b[39m# on 32-bit platforms, we can't get to the UINT_MAX limit that\u001b[39;00m\n\u001b[1;32m   <a href='file:///opt/homebrew/Caskroom/miniforge/base/envs/P5/lib/python3.9/site-packages/sklearn/svm/_base.py?line=1202'>1203</a>\u001b[0m \u001b[39m# srand supports\u001b[39;00m\n\u001b[1;32m   <a href='file:///opt/homebrew/Caskroom/miniforge/base/envs/P5/lib/python3.9/site-packages/sklearn/svm/_base.py?line=1203'>1204</a>\u001b[0m n_iter_ \u001b[39m=\u001b[39m \u001b[39mmax\u001b[39m(n_iter_)\n",
      "\u001b[0;31mKeyboardInterrupt\u001b[0m: "
     ]
    }
   ],
   "source": [
    "svm_model = OneVsRestClassifier(LinearSVC())\n",
    "svm_model.fit(X_train, y_train)\n",
    "preds = svm_model.predict(X_test)\n",
    "report.evaluate('SVM', svm_model, X_test, y_test, preds)"
   ]
  },
  {
   "cell_type": "code",
   "execution_count": null,
   "metadata": {},
   "outputs": [
    {
     "data": {
      "text/html": [
       "<div>\n",
       "<style scoped>\n",
       "    .dataframe tbody tr th:only-of-type {\n",
       "        vertical-align: middle;\n",
       "    }\n",
       "\n",
       "    .dataframe tbody tr th {\n",
       "        vertical-align: top;\n",
       "    }\n",
       "\n",
       "    .dataframe thead th {\n",
       "        text-align: right;\n",
       "    }\n",
       "</style>\n",
       "<table border=\"1\" class=\"dataframe\">\n",
       "  <thead>\n",
       "    <tr style=\"text-align: right;\">\n",
       "      <th></th>\n",
       "      <th>Title_Body_tokens</th>\n",
       "      <th>Tags_tokens</th>\n",
       "      <th>SVM</th>\n",
       "    </tr>\n",
       "  </thead>\n",
       "  <tbody>\n",
       "    <tr>\n",
       "      <th>199</th>\n",
       "      <td>strategy,audit,trail/change,history,db,applica...</td>\n",
       "      <td>database,postgresql,database-design,crud,audit...</td>\n",
       "      <td>(database,)</td>\n",
       "    </tr>\n",
       "    <tr>\n",
       "      <th>39489</th>\n",
       "      <td>strcmp,string,:compare,compare,string,seem,wor...</td>\n",
       "      <td>c++,c,string,char,string-comparison</td>\n",
       "      <td>()</td>\n",
       "    </tr>\n",
       "    <tr>\n",
       "      <th>42724</th>\n",
       "      <td>decode,entity,rail,duplicate,encode/decode,ent...</td>\n",
       "      <td>ruby-on-rails,ruby,ruby-on-rails-3,html-entiti...</td>\n",
       "      <td>(ruby-on-rails, ruby, entity-framework)</td>\n",
       "    </tr>\n",
       "    <tr>\n",
       "      <th>10822</th>\n",
       "      <td>pointer,structure,return,pointer,struct,c,mean...</td>\n",
       "      <td>c,pointers,variables,struct,return</td>\n",
       "      <td>(c++, c, pointers)</td>\n",
       "    </tr>\n",
       "    <tr>\n",
       "      <th>4144</th>\n",
       "      <td>use,http,authentication,client,web,service,acc...</td>\n",
       "      <td>java,web-services,ssl,cxf,ws-security</td>\n",
       "      <td>(security, web-services, wcf, ssl)</td>\n",
       "    </tr>\n",
       "  </tbody>\n",
       "</table>\n",
       "</div>"
      ],
      "text/plain": [
       "                                       Title_Body_tokens  \\\n",
       "199    strategy,audit,trail/change,history,db,applica...   \n",
       "39489  strcmp,string,:compare,compare,string,seem,wor...   \n",
       "42724  decode,entity,rail,duplicate,encode/decode,ent...   \n",
       "10822  pointer,structure,return,pointer,struct,c,mean...   \n",
       "4144   use,http,authentication,client,web,service,acc...   \n",
       "\n",
       "                                             Tags_tokens  \\\n",
       "199    database,postgresql,database-design,crud,audit...   \n",
       "39489                c++,c,string,char,string-comparison   \n",
       "42724  ruby-on-rails,ruby,ruby-on-rails-3,html-entiti...   \n",
       "10822                 c,pointers,variables,struct,return   \n",
       "4144               java,web-services,ssl,cxf,ws-security   \n",
       "\n",
       "                                           SVM  \n",
       "199                                (database,)  \n",
       "39489                                       ()  \n",
       "42724  (ruby-on-rails, ruby, entity-framework)  \n",
       "10822                       (c++, c, pointers)  \n",
       "4144        (security, web-services, wcf, ssl)  "
      ]
     },
     "execution_count": 264,
     "metadata": {},
     "output_type": "execute_result"
    }
   ],
   "source": [
    "transformer.join_predictions('SVM', preds).head()"
   ]
  },
  {
   "cell_type": "code",
   "execution_count": null,
   "metadata": {},
   "outputs": [
    {
     "name": "stdout",
     "output_type": "stream",
     "text": [
      "Ratio of tags hit: 0.2434\n"
     ]
    }
   ],
   "source": [
    "report.tags_ratio('SVM', transformer.test_df, 'Tags_tokens')"
   ]
  },
  {
   "cell_type": "markdown",
   "metadata": {},
   "source": [
    "### SGD"
   ]
  },
  {
   "cell_type": "markdown",
   "metadata": {},
   "source": [
    "LOSS = modified huber\\\n",
    "logistic regression -> solver lbsds"
   ]
  },
  {
   "cell_type": "code",
   "execution_count": null,
   "metadata": {},
   "outputs": [
    {
     "name": "stdout",
     "output_type": "stream",
     "text": [
      "                     SGD\n",
      "Precision       0.667912\n",
      "Recall          0.349676\n",
      "F1              0.437114\n",
      "Inference_time  0.000085\n",
      "Model_size_mb          1\n"
     ]
    },
    {
     "name": "stderr",
     "output_type": "stream",
     "text": [
      "/opt/homebrew/Caskroom/miniforge/base/envs/P5/lib/python3.9/site-packages/sklearn/metrics/_classification.py:1318: UndefinedMetricWarning:\n",
      "\n",
      "Precision is ill-defined and being set to 0.0 in labels with no predicted samples. Use `zero_division` parameter to control this behavior.\n",
      "\n"
     ]
    }
   ],
   "source": [
    "sgd_model = OneVsRestClassifier(SGDClassifier(loss='modified_huber'), n_jobs=-1)\n",
    "sgd_model.fit(X_train, y_train)\n",
    "preds = sgd_model.predict(X_test)\n",
    "report.evaluate('SGD', sgd_model, X_test, y_test, preds)"
   ]
  },
  {
   "cell_type": "code",
   "execution_count": null,
   "metadata": {},
   "outputs": [
    {
     "data": {
      "text/html": [
       "<div>\n",
       "<style scoped>\n",
       "    .dataframe tbody tr th:only-of-type {\n",
       "        vertical-align: middle;\n",
       "    }\n",
       "\n",
       "    .dataframe tbody tr th {\n",
       "        vertical-align: top;\n",
       "    }\n",
       "\n",
       "    .dataframe thead th {\n",
       "        text-align: right;\n",
       "    }\n",
       "</style>\n",
       "<table border=\"1\" class=\"dataframe\">\n",
       "  <thead>\n",
       "    <tr style=\"text-align: right;\">\n",
       "      <th></th>\n",
       "      <th>Title_Body_tokens</th>\n",
       "      <th>Tags_tokens</th>\n",
       "      <th>SGD</th>\n",
       "    </tr>\n",
       "  </thead>\n",
       "  <tbody>\n",
       "    <tr>\n",
       "      <th>199</th>\n",
       "      <td>strategy,audit,trail/change,history,db,applica...</td>\n",
       "      <td>database,postgresql,database-design,crud,audit...</td>\n",
       "      <td>(database,)</td>\n",
       "    </tr>\n",
       "    <tr>\n",
       "      <th>39489</th>\n",
       "      <td>strcmp,string,:compare,compare,string,seem,wor...</td>\n",
       "      <td>c++,c,string,char,string-comparison</td>\n",
       "      <td>()</td>\n",
       "    </tr>\n",
       "    <tr>\n",
       "      <th>42724</th>\n",
       "      <td>decode,entity,rail,duplicate,encode/decode,ent...</td>\n",
       "      <td>ruby-on-rails,ruby,ruby-on-rails-3,html-entiti...</td>\n",
       "      <td>(ruby-on-rails, ruby, entity-framework)</td>\n",
       "    </tr>\n",
       "    <tr>\n",
       "      <th>10822</th>\n",
       "      <td>pointer,structure,return,pointer,struct,c,mean...</td>\n",
       "      <td>c,pointers,variables,struct,return</td>\n",
       "      <td>(c++, c, pointers)</td>\n",
       "    </tr>\n",
       "    <tr>\n",
       "      <th>4144</th>\n",
       "      <td>use,http,authentication,client,web,service,acc...</td>\n",
       "      <td>java,web-services,ssl,cxf,ws-security</td>\n",
       "      <td>(security, web-services, wcf, ssl)</td>\n",
       "    </tr>\n",
       "  </tbody>\n",
       "</table>\n",
       "</div>"
      ],
      "text/plain": [
       "                                       Title_Body_tokens  \\\n",
       "199    strategy,audit,trail/change,history,db,applica...   \n",
       "39489  strcmp,string,:compare,compare,string,seem,wor...   \n",
       "42724  decode,entity,rail,duplicate,encode/decode,ent...   \n",
       "10822  pointer,structure,return,pointer,struct,c,mean...   \n",
       "4144   use,http,authentication,client,web,service,acc...   \n",
       "\n",
       "                                             Tags_tokens  \\\n",
       "199    database,postgresql,database-design,crud,audit...   \n",
       "39489                c++,c,string,char,string-comparison   \n",
       "42724  ruby-on-rails,ruby,ruby-on-rails-3,html-entiti...   \n",
       "10822                 c,pointers,variables,struct,return   \n",
       "4144               java,web-services,ssl,cxf,ws-security   \n",
       "\n",
       "                                           SGD  \n",
       "199                                (database,)  \n",
       "39489                                       ()  \n",
       "42724  (ruby-on-rails, ruby, entity-framework)  \n",
       "10822                       (c++, c, pointers)  \n",
       "4144        (security, web-services, wcf, ssl)  "
      ]
     },
     "execution_count": 267,
     "metadata": {},
     "output_type": "execute_result"
    }
   ],
   "source": [
    "transformer.join_predictions('SGD', preds).head()"
   ]
  },
  {
   "cell_type": "markdown",
   "metadata": {},
   "source": [
    "We notice that some *documents* have empty predictions.\\\n",
    "This behavior is unwanted, as we want to offer predictions for all the questions passed to the model. We will try to remediate to this issue in the next part."
   ]
  },
  {
   "cell_type": "code",
   "execution_count": null,
   "metadata": {},
   "outputs": [
    {
     "name": "stdout",
     "output_type": "stream",
     "text": [
      "Ratio of tags hit: 0.2428\n"
     ]
    }
   ],
   "source": [
    "report.tags_ratio('SGD', transformer.test_df, 'Tags_tokens')"
   ]
  },
  {
   "cell_type": "markdown",
   "metadata": {},
   "source": [
    "### KNN"
   ]
  },
  {
   "cell_type": "code",
   "execution_count": 28,
   "metadata": {},
   "outputs": [
    {
     "name": "stdout",
     "output_type": "stream",
     "text": [
      "                     KNN\n",
      "Precision       0.614317\n",
      "Recall          0.109771\n",
      "F1              0.176203\n",
      "Inference_time  0.000383\n",
      "Model_size_mb         89\n"
     ]
    },
    {
     "name": "stderr",
     "output_type": "stream",
     "text": [
      "/opt/homebrew/Caskroom/miniforge/base/envs/P5/lib/python3.9/site-packages/sklearn/metrics/_classification.py:1318: UndefinedMetricWarning:\n",
      "\n",
      "Precision is ill-defined and being set to 0.0 in labels with no predicted samples. Use `zero_division` parameter to control this behavior.\n",
      "\n"
     ]
    }
   ],
   "source": [
    "knn_model = KNeighborsClassifier(n_neighbors=25, leaf_size=90, weights='distance')\n",
    "knn_model.fit(X_train.values, y_train.values)\n",
    "preds = knn_model.predict(X_test)\n",
    "report.evaluate('KNN', knn_model, X_test, y_test, preds)"
   ]
  },
  {
   "cell_type": "code",
   "execution_count": 29,
   "metadata": {},
   "outputs": [
    {
     "data": {
      "text/html": [
       "<div>\n",
       "<style scoped>\n",
       "    .dataframe tbody tr th:only-of-type {\n",
       "        vertical-align: middle;\n",
       "    }\n",
       "\n",
       "    .dataframe tbody tr th {\n",
       "        vertical-align: top;\n",
       "    }\n",
       "\n",
       "    .dataframe thead th {\n",
       "        text-align: right;\n",
       "    }\n",
       "</style>\n",
       "<table border=\"1\" class=\"dataframe\">\n",
       "  <thead>\n",
       "    <tr style=\"text-align: right;\">\n",
       "      <th></th>\n",
       "      <th>Title_Body_tokens</th>\n",
       "      <th>Tags_tokens</th>\n",
       "      <th>KNN</th>\n",
       "    </tr>\n",
       "  </thead>\n",
       "  <tbody>\n",
       "    <tr>\n",
       "      <th>199</th>\n",
       "      <td>strategy,audit,trail/change,history,db,applica...</td>\n",
       "      <td>database,postgresql,database-design,crud,audit...</td>\n",
       "      <td>()</td>\n",
       "    </tr>\n",
       "    <tr>\n",
       "      <th>39489</th>\n",
       "      <td>strcmp,string,:compare,compare,string,seem,wor...</td>\n",
       "      <td>c++,c,string,char,string-comparison</td>\n",
       "      <td>()</td>\n",
       "    </tr>\n",
       "    <tr>\n",
       "      <th>42724</th>\n",
       "      <td>decode,entity,rail,duplicate,encode/decode,ent...</td>\n",
       "      <td>ruby-on-rails,ruby,ruby-on-rails-3,html-entiti...</td>\n",
       "      <td>()</td>\n",
       "    </tr>\n",
       "    <tr>\n",
       "      <th>10822</th>\n",
       "      <td>pointer,structure,return,pointer,struct,c,mean...</td>\n",
       "      <td>c,pointers,variables,struct,return</td>\n",
       "      <td>(c++, c, pointers)</td>\n",
       "    </tr>\n",
       "    <tr>\n",
       "      <th>4144</th>\n",
       "      <td>use,http,authentication,client,web,service,acc...</td>\n",
       "      <td>java,web-services,ssl,cxf,ws-security</td>\n",
       "      <td>(web-services,)</td>\n",
       "    </tr>\n",
       "  </tbody>\n",
       "</table>\n",
       "</div>"
      ],
      "text/plain": [
       "                                       Title_Body_tokens  \\\n",
       "199    strategy,audit,trail/change,history,db,applica...   \n",
       "39489  strcmp,string,:compare,compare,string,seem,wor...   \n",
       "42724  decode,entity,rail,duplicate,encode/decode,ent...   \n",
       "10822  pointer,structure,return,pointer,struct,c,mean...   \n",
       "4144   use,http,authentication,client,web,service,acc...   \n",
       "\n",
       "                                             Tags_tokens                 KNN  \n",
       "199    database,postgresql,database-design,crud,audit...                  ()  \n",
       "39489                c++,c,string,char,string-comparison                  ()  \n",
       "42724  ruby-on-rails,ruby,ruby-on-rails-3,html-entiti...                  ()  \n",
       "10822                 c,pointers,variables,struct,return  (c++, c, pointers)  \n",
       "4144               java,web-services,ssl,cxf,ws-security     (web-services,)  "
      ]
     },
     "execution_count": 29,
     "metadata": {},
     "output_type": "execute_result"
    }
   ],
   "source": [
    "transformer.join_predictions('KNN', preds).head()"
   ]
  },
  {
   "cell_type": "code",
   "execution_count": 30,
   "metadata": {},
   "outputs": [
    {
     "name": "stdout",
     "output_type": "stream",
     "text": [
      "Ratio of tags hit: 0.0762\n"
     ]
    }
   ],
   "source": [
    "report.tags_ratio('KNN', transformer.test_df, 'Tags_tokens')"
   ]
  },
  {
   "cell_type": "markdown",
   "metadata": {},
   "source": [
    "We obtain interesting results, a few rows have actually been predicted by the model, this is because the model outputs low porbabilities for most of its predictions.\n",
    "\n",
    "In order to obtain 5 tags, we are going to use the *predict_proba* method to output predictions with lower probability, using the following function:"
   ]
  },
  {
   "cell_type": "code",
   "execution_count": 31,
   "metadata": {},
   "outputs": [],
   "source": [
    "def get_firsts(preds_proba, n_first=5):\n",
    "\n",
    "    result = np.array([\n",
    "        np.where(pred >= np.partition(pred, -n_first)[-n_first], 1, 0)\n",
    "        for pred in np.array([pred[:,1] for pred in preds_proba\n",
    "        ]).transpose()])\n",
    "\n",
    "    return result"
   ]
  },
  {
   "cell_type": "markdown",
   "metadata": {},
   "source": [
    "As we generate more predictions for each row, it is normal to observe a consequent drop in *precision*:"
   ]
  },
  {
   "cell_type": "code",
   "execution_count": 32,
   "metadata": {},
   "outputs": [
    {
     "name": "stdout",
     "output_type": "stream",
     "text": [
      "                   KNN_5\n",
      "Precision       0.385571\n",
      "Recall          0.474235\n",
      "F1              0.384409\n",
      "Inference_time  0.000392\n",
      "Model_size_mb         89\n"
     ]
    }
   ],
   "source": [
    "preds_proba = knn_model.predict_proba(X_test.values)\n",
    "preds_firsts = get_firsts(preds_proba)\n",
    "report.evaluate('KNN_5', knn_model, X_test, y_test, preds_firsts)"
   ]
  },
  {
   "cell_type": "code",
   "execution_count": 33,
   "metadata": {},
   "outputs": [
    {
     "data": {
      "text/html": [
       "<div>\n",
       "<style scoped>\n",
       "    .dataframe tbody tr th:only-of-type {\n",
       "        vertical-align: middle;\n",
       "    }\n",
       "\n",
       "    .dataframe tbody tr th {\n",
       "        vertical-align: top;\n",
       "    }\n",
       "\n",
       "    .dataframe thead th {\n",
       "        text-align: right;\n",
       "    }\n",
       "</style>\n",
       "<table border=\"1\" class=\"dataframe\">\n",
       "  <thead>\n",
       "    <tr style=\"text-align: right;\">\n",
       "      <th></th>\n",
       "      <th>Title_Body_tokens</th>\n",
       "      <th>Tags_tokens</th>\n",
       "      <th>KNN_5</th>\n",
       "    </tr>\n",
       "  </thead>\n",
       "  <tbody>\n",
       "    <tr>\n",
       "      <th>199</th>\n",
       "      <td>strategy,audit,trail/change,history,db,applica...</td>\n",
       "      <td>database,postgresql,database-design,crud,audit...</td>\n",
       "      <td>(c#, sql, sql-server, database, sql-server-2005)</td>\n",
       "    </tr>\n",
       "    <tr>\n",
       "      <th>39489</th>\n",
       "      <td>strcmp,string,:compare,compare,string,seem,wor...</td>\n",
       "      <td>c++,c,string,char,string-comparison</td>\n",
       "      <td>(c#, .net, c++, iphone, objective-c)</td>\n",
       "    </tr>\n",
       "    <tr>\n",
       "      <th>42724</th>\n",
       "      <td>decode,entity,rail,duplicate,encode/decode,ent...</td>\n",
       "      <td>ruby-on-rails,ruby,ruby-on-rails-3,html-entiti...</td>\n",
       "      <td>(c#, java, .net, jpa, entity-framework)</td>\n",
       "    </tr>\n",
       "    <tr>\n",
       "      <th>10822</th>\n",
       "      <td>pointer,structure,return,pointer,struct,c,mean...</td>\n",
       "      <td>c,pointers,variables,struct,return</td>\n",
       "      <td>(c#, c++, c, arrays, pointers)</td>\n",
       "    </tr>\n",
       "    <tr>\n",
       "      <th>4144</th>\n",
       "      <td>use,http,authentication,client,web,service,acc...</td>\n",
       "      <td>java,web-services,ssl,cxf,ws-security</td>\n",
       "      <td>(c#, security, web-services, wcf, ssl)</td>\n",
       "    </tr>\n",
       "  </tbody>\n",
       "</table>\n",
       "</div>"
      ],
      "text/plain": [
       "                                       Title_Body_tokens  \\\n",
       "199    strategy,audit,trail/change,history,db,applica...   \n",
       "39489  strcmp,string,:compare,compare,string,seem,wor...   \n",
       "42724  decode,entity,rail,duplicate,encode/decode,ent...   \n",
       "10822  pointer,structure,return,pointer,struct,c,mean...   \n",
       "4144   use,http,authentication,client,web,service,acc...   \n",
       "\n",
       "                                             Tags_tokens  \\\n",
       "199    database,postgresql,database-design,crud,audit...   \n",
       "39489                c++,c,string,char,string-comparison   \n",
       "42724  ruby-on-rails,ruby,ruby-on-rails-3,html-entiti...   \n",
       "10822                 c,pointers,variables,struct,return   \n",
       "4144               java,web-services,ssl,cxf,ws-security   \n",
       "\n",
       "                                                  KNN_5  \n",
       "199    (c#, sql, sql-server, database, sql-server-2005)  \n",
       "39489              (c#, .net, c++, iphone, objective-c)  \n",
       "42724           (c#, java, .net, jpa, entity-framework)  \n",
       "10822                    (c#, c++, c, arrays, pointers)  \n",
       "4144             (c#, security, web-services, wcf, ssl)  "
      ]
     },
     "execution_count": 33,
     "metadata": {},
     "output_type": "execute_result"
    }
   ],
   "source": [
    "transformer.join_predictions('KNN_5', preds_firsts).head()"
   ]
  },
  {
   "cell_type": "code",
   "execution_count": 34,
   "metadata": {},
   "outputs": [
    {
     "name": "stdout",
     "output_type": "stream",
     "text": [
      "Ratio of tags hit: 0.3292\n"
     ]
    }
   ],
   "source": [
    "report.tags_ratio('KNN_5', transformer.test_df, 'Tags_tokens')"
   ]
  },
  {
   "cell_type": "markdown",
   "metadata": {},
   "source": [
    "We encapsulte our *filter_preds* method in order to be able to sort the results of the *predict_proba* method and apply it to the matrix output, using the transformers *MultiLabelBinarizer* to inverse tranform the predictions:"
   ]
  },
  {
   "cell_type": "code",
   "execution_count": 35,
   "metadata": {},
   "outputs": [],
   "source": [
    "def select_preds(name, transformer: DatasetTransformer, preds_proba):\n",
    "\n",
    "    preds_df = pd.DataFrame(np.array([pred[:,1] for pred in preds_proba]).transpose(),columns=transformer.multi_label_binarizer.classes_)\n",
    "    preds_lists = preds_df.apply(lambda x: x[x > 0].sort_values(ascending=False).keys().to_list(), axis=1)\n",
    "    preds_array = transformer.multi_label_binarizer.transform(preds_lists.values)\n",
    "    transformer.test_df[name] = preds_lists.values\n",
    "    transformer.test_df[name] = transformer.test_df.apply(lambda x: filter_preds(x['Title_Body_tokens'], x[name]), axis=1)\n",
    "\n",
    "    return preds_array, transformer.test_df"
   ]
  },
  {
   "cell_type": "code",
   "execution_count": 36,
   "metadata": {},
   "outputs": [
    {
     "name": "stdout",
     "output_type": "stream",
     "text": [
      "               KNN_select\n",
      "Precision        0.103705\n",
      "Recall           0.831817\n",
      "F1               0.180451\n",
      "Inference_time   0.000397\n",
      "Model_size_mb          89\n"
     ]
    }
   ],
   "source": [
    "preds_select, preds_df = select_preds('KNN_select', transformer, preds_proba)\n",
    "report.evaluate('KNN_select', knn_model, X_test, y_test, preds_select)"
   ]
  },
  {
   "cell_type": "code",
   "execution_count": 37,
   "metadata": {},
   "outputs": [
    {
     "data": {
      "text/html": [
       "<div>\n",
       "<style scoped>\n",
       "    .dataframe tbody tr th:only-of-type {\n",
       "        vertical-align: middle;\n",
       "    }\n",
       "\n",
       "    .dataframe tbody tr th {\n",
       "        vertical-align: top;\n",
       "    }\n",
       "\n",
       "    .dataframe thead th {\n",
       "        text-align: right;\n",
       "    }\n",
       "</style>\n",
       "<table border=\"1\" class=\"dataframe\">\n",
       "  <thead>\n",
       "    <tr style=\"text-align: right;\">\n",
       "      <th></th>\n",
       "      <th>Title_Body_tokens</th>\n",
       "      <th>Tags_tokens</th>\n",
       "      <th>KNN_select</th>\n",
       "    </tr>\n",
       "  </thead>\n",
       "  <tbody>\n",
       "    <tr>\n",
       "      <th>199</th>\n",
       "      <td>strategy,audit,trail/change,history,db,applica...</td>\n",
       "      <td>database,postgresql,database-design,crud,audit...</td>\n",
       "      <td>[sql, database, sql-server, sql-server-2005, c#]</td>\n",
       "    </tr>\n",
       "    <tr>\n",
       "      <th>39489</th>\n",
       "      <td>strcmp,string,:compare,compare,string,seem,wor...</td>\n",
       "      <td>c++,c,string,char,string-comparison</td>\n",
       "      <td>[c++, c, string, c#, iphone]</td>\n",
       "    </tr>\n",
       "    <tr>\n",
       "      <th>42724</th>\n",
       "      <td>decode,entity,rail,duplicate,encode/decode,ent...</td>\n",
       "      <td>ruby-on-rails,ruby,ruby-on-rails-3,html-entiti...</td>\n",
       "      <td>[ruby, string, entity-framework, c#, .net]</td>\n",
       "    </tr>\n",
       "    <tr>\n",
       "      <th>10822</th>\n",
       "      <td>pointer,structure,return,pointer,struct,c,mean...</td>\n",
       "      <td>c,pointers,variables,struct,return</td>\n",
       "      <td>[c, pointers, c++, arrays, c#]</td>\n",
       "    </tr>\n",
       "    <tr>\n",
       "      <th>4144</th>\n",
       "      <td>use,http,authentication,client,web,service,acc...</td>\n",
       "      <td>java,web-services,ssl,cxf,ws-security</td>\n",
       "      <td>[security, authentication, web-services, ssl, c#]</td>\n",
       "    </tr>\n",
       "  </tbody>\n",
       "</table>\n",
       "</div>"
      ],
      "text/plain": [
       "                                       Title_Body_tokens  \\\n",
       "199    strategy,audit,trail/change,history,db,applica...   \n",
       "39489  strcmp,string,:compare,compare,string,seem,wor...   \n",
       "42724  decode,entity,rail,duplicate,encode/decode,ent...   \n",
       "10822  pointer,structure,return,pointer,struct,c,mean...   \n",
       "4144   use,http,authentication,client,web,service,acc...   \n",
       "\n",
       "                                             Tags_tokens  \\\n",
       "199    database,postgresql,database-design,crud,audit...   \n",
       "39489                c++,c,string,char,string-comparison   \n",
       "42724  ruby-on-rails,ruby,ruby-on-rails-3,html-entiti...   \n",
       "10822                 c,pointers,variables,struct,return   \n",
       "4144               java,web-services,ssl,cxf,ws-security   \n",
       "\n",
       "                                              KNN_select  \n",
       "199     [sql, database, sql-server, sql-server-2005, c#]  \n",
       "39489                       [c++, c, string, c#, iphone]  \n",
       "42724         [ruby, string, entity-framework, c#, .net]  \n",
       "10822                     [c, pointers, c++, arrays, c#]  \n",
       "4144   [security, authentication, web-services, ssl, c#]  "
      ]
     },
     "execution_count": 37,
     "metadata": {},
     "output_type": "execute_result"
    }
   ],
   "source": [
    "preds_df[['Title_Body_tokens', 'Tags_tokens', 'KNN_select']].head()"
   ]
  },
  {
   "cell_type": "code",
   "execution_count": 38,
   "metadata": {},
   "outputs": [
    {
     "name": "stdout",
     "output_type": "stream",
     "text": [
      "Ratio of tags hit: 0.369\n"
     ]
    }
   ],
   "source": [
    "report.tags_ratio('KNN_select', transformer.test_df, 'Tags_tokens')"
   ]
  },
  {
   "cell_type": "markdown",
   "metadata": {},
   "source": [
    "As we can see, the strategy of priotizing the selection of the *predictions* that are present in the question content is effective, as we hit more actual *tags*."
   ]
  },
  {
   "cell_type": "markdown",
   "metadata": {},
   "source": [
    "### Random Forest"
   ]
  },
  {
   "cell_type": "code",
   "execution_count": null,
   "metadata": {},
   "outputs": [
    {
     "name": "stdout",
     "output_type": "stream",
     "text": [
      "               Random_Forest\n",
      "Precision                0.0\n",
      "Recall                   0.0\n",
      "F1                       0.0\n",
      "Inference_time      0.000652\n",
      "Model_size_mb           1249\n"
     ]
    },
    {
     "name": "stderr",
     "output_type": "stream",
     "text": [
      "/opt/homebrew/Caskroom/miniforge/base/envs/P5/lib/python3.9/site-packages/sklearn/metrics/_classification.py:1318: UndefinedMetricWarning:\n",
      "\n",
      "Precision is ill-defined and being set to 0.0 in labels with no predicted samples. Use `zero_division` parameter to control this behavior.\n",
      "\n"
     ]
    }
   ],
   "source": [
    "rfc_model = RandomForestClassifier()\n",
    "rfc_model.fit(X_train, y_train)\n",
    "preds = rfc_model.predict(X_test)\n",
    "preds_proba = rfc_model.predict_proba(X_test)\n",
    "report.evaluate('Random_Forest', rfc_model, X_test, y_test, preds)"
   ]
  },
  {
   "cell_type": "code",
   "execution_count": null,
   "metadata": {},
   "outputs": [
    {
     "data": {
      "text/html": [
       "<div>\n",
       "<style scoped>\n",
       "    .dataframe tbody tr th:only-of-type {\n",
       "        vertical-align: middle;\n",
       "    }\n",
       "\n",
       "    .dataframe tbody tr th {\n",
       "        vertical-align: top;\n",
       "    }\n",
       "\n",
       "    .dataframe thead th {\n",
       "        text-align: right;\n",
       "    }\n",
       "</style>\n",
       "<table border=\"1\" class=\"dataframe\">\n",
       "  <thead>\n",
       "    <tr style=\"text-align: right;\">\n",
       "      <th></th>\n",
       "      <th>Title_Body_tokens</th>\n",
       "      <th>Tags_tokens</th>\n",
       "      <th>Random_Forest</th>\n",
       "    </tr>\n",
       "  </thead>\n",
       "  <tbody>\n",
       "    <tr>\n",
       "      <th>199</th>\n",
       "      <td>strategy,audit,trail/change,history,db,applica...</td>\n",
       "      <td>database,postgresql,database-design,crud,audit...</td>\n",
       "      <td>()</td>\n",
       "    </tr>\n",
       "    <tr>\n",
       "      <th>39489</th>\n",
       "      <td>strcmp,string,:compare,compare,string,seem,wor...</td>\n",
       "      <td>c++,c,string,char,string-comparison</td>\n",
       "      <td>()</td>\n",
       "    </tr>\n",
       "    <tr>\n",
       "      <th>42724</th>\n",
       "      <td>decode,entity,rail,duplicate,encode/decode,ent...</td>\n",
       "      <td>ruby-on-rails,ruby,ruby-on-rails-3,html-entiti...</td>\n",
       "      <td>()</td>\n",
       "    </tr>\n",
       "    <tr>\n",
       "      <th>10822</th>\n",
       "      <td>pointer,structure,return,pointer,struct,c,mean...</td>\n",
       "      <td>c,pointers,variables,struct,return</td>\n",
       "      <td>()</td>\n",
       "    </tr>\n",
       "    <tr>\n",
       "      <th>4144</th>\n",
       "      <td>use,http,authentication,client,web,service,acc...</td>\n",
       "      <td>java,web-services,ssl,cxf,ws-security</td>\n",
       "      <td>()</td>\n",
       "    </tr>\n",
       "  </tbody>\n",
       "</table>\n",
       "</div>"
      ],
      "text/plain": [
       "                                       Title_Body_tokens  \\\n",
       "199    strategy,audit,trail/change,history,db,applica...   \n",
       "39489  strcmp,string,:compare,compare,string,seem,wor...   \n",
       "42724  decode,entity,rail,duplicate,encode/decode,ent...   \n",
       "10822  pointer,structure,return,pointer,struct,c,mean...   \n",
       "4144   use,http,authentication,client,web,service,acc...   \n",
       "\n",
       "                                             Tags_tokens Random_Forest  \n",
       "199    database,postgresql,database-design,crud,audit...            ()  \n",
       "39489                c++,c,string,char,string-comparison            ()  \n",
       "42724  ruby-on-rails,ruby,ruby-on-rails-3,html-entiti...            ()  \n",
       "10822                 c,pointers,variables,struct,return            ()  \n",
       "4144               java,web-services,ssl,cxf,ws-security            ()  "
      ]
     },
     "execution_count": 425,
     "metadata": {},
     "output_type": "execute_result"
    }
   ],
   "source": [
    "transformer.join_predictions('Random_Forest', preds).head()"
   ]
  },
  {
   "cell_type": "code",
   "execution_count": null,
   "metadata": {},
   "outputs": [
    {
     "name": "stdout",
     "output_type": "stream",
     "text": [
      "Ratio of tags hit: 0.0\n"
     ]
    }
   ],
   "source": [
    "report.tags_ratio('Random_Forest', transformer.test_df, 'Tags_tokens')"
   ]
  },
  {
   "cell_type": "code",
   "execution_count": null,
   "metadata": {},
   "outputs": [
    {
     "name": "stdout",
     "output_type": "stream",
     "text": [
      "               Random_Forest_5\n",
      "Precision             0.398853\n",
      "Recall                 0.32175\n",
      "F1                    0.226886\n",
      "Inference_time        0.000657\n",
      "Model_size_mb             1249\n"
     ]
    },
    {
     "name": "stderr",
     "output_type": "stream",
     "text": [
      "/opt/homebrew/Caskroom/miniforge/base/envs/P5/lib/python3.9/site-packages/sklearn/metrics/_classification.py:1318: UndefinedMetricWarning:\n",
      "\n",
      "Precision is ill-defined and being set to 0.0 in labels with no predicted samples. Use `zero_division` parameter to control this behavior.\n",
      "\n"
     ]
    }
   ],
   "source": [
    "preds_firsts = get_firsts(preds_proba, 5)\n",
    "report.evaluate('Random_Forest_5', rfc_model, X_test, y_test, preds_firsts)"
   ]
  },
  {
   "cell_type": "code",
   "execution_count": null,
   "metadata": {},
   "outputs": [
    {
     "data": {
      "text/html": [
       "<div>\n",
       "<style scoped>\n",
       "    .dataframe tbody tr th:only-of-type {\n",
       "        vertical-align: middle;\n",
       "    }\n",
       "\n",
       "    .dataframe tbody tr th {\n",
       "        vertical-align: top;\n",
       "    }\n",
       "\n",
       "    .dataframe thead th {\n",
       "        text-align: right;\n",
       "    }\n",
       "</style>\n",
       "<table border=\"1\" class=\"dataframe\">\n",
       "  <thead>\n",
       "    <tr style=\"text-align: right;\">\n",
       "      <th></th>\n",
       "      <th>Title_Body_tokens</th>\n",
       "      <th>Tags_tokens</th>\n",
       "      <th>Random_Forest_5</th>\n",
       "    </tr>\n",
       "  </thead>\n",
       "  <tbody>\n",
       "    <tr>\n",
       "      <th>199</th>\n",
       "      <td>strategy,audit,trail/change,history,db,applica...</td>\n",
       "      <td>database,postgresql,database-design,crud,audit...</td>\n",
       "      <td>(java, sql, sql-server, mysql, database)</td>\n",
       "    </tr>\n",
       "    <tr>\n",
       "      <th>39489</th>\n",
       "      <td>strcmp,string,:compare,compare,string,seem,wor...</td>\n",
       "      <td>c++,c,string,char,string-comparison</td>\n",
       "      <td>(c#, java, c++, javascript, python)</td>\n",
       "    </tr>\n",
       "    <tr>\n",
       "      <th>42724</th>\n",
       "      <td>decode,entity,rail,duplicate,encode/decode,ent...</td>\n",
       "      <td>ruby-on-rails,ruby,ruby-on-rails-3,html-entiti...</td>\n",
       "      <td>(java, c++, ruby-on-rails, ruby, ruby-on-rails-3)</td>\n",
       "    </tr>\n",
       "    <tr>\n",
       "      <th>10822</th>\n",
       "      <td>pointer,structure,return,pointer,struct,c,mean...</td>\n",
       "      <td>c,pointers,variables,struct,return</td>\n",
       "      <td>(java, c++, python, c, pointers)</td>\n",
       "    </tr>\n",
       "    <tr>\n",
       "      <th>4144</th>\n",
       "      <td>use,http,authentication,client,web,service,acc...</td>\n",
       "      <td>java,web-services,ssl,cxf,ws-security</td>\n",
       "      <td>(c#, java, .net, web-services, ssl)</td>\n",
       "    </tr>\n",
       "  </tbody>\n",
       "</table>\n",
       "</div>"
      ],
      "text/plain": [
       "                                       Title_Body_tokens  \\\n",
       "199    strategy,audit,trail/change,history,db,applica...   \n",
       "39489  strcmp,string,:compare,compare,string,seem,wor...   \n",
       "42724  decode,entity,rail,duplicate,encode/decode,ent...   \n",
       "10822  pointer,structure,return,pointer,struct,c,mean...   \n",
       "4144   use,http,authentication,client,web,service,acc...   \n",
       "\n",
       "                                             Tags_tokens  \\\n",
       "199    database,postgresql,database-design,crud,audit...   \n",
       "39489                c++,c,string,char,string-comparison   \n",
       "42724  ruby-on-rails,ruby,ruby-on-rails-3,html-entiti...   \n",
       "10822                 c,pointers,variables,struct,return   \n",
       "4144               java,web-services,ssl,cxf,ws-security   \n",
       "\n",
       "                                         Random_Forest_5  \n",
       "199             (java, sql, sql-server, mysql, database)  \n",
       "39489                (c#, java, c++, javascript, python)  \n",
       "42724  (java, c++, ruby-on-rails, ruby, ruby-on-rails-3)  \n",
       "10822                   (java, c++, python, c, pointers)  \n",
       "4144                 (c#, java, .net, web-services, ssl)  "
      ]
     },
     "execution_count": 428,
     "metadata": {},
     "output_type": "execute_result"
    }
   ],
   "source": [
    "transformer.join_predictions('Random_Forest_5', preds_firsts).head()"
   ]
  },
  {
   "cell_type": "code",
   "execution_count": null,
   "metadata": {},
   "outputs": [
    {
     "name": "stdout",
     "output_type": "stream",
     "text": [
      "Ratio of tags hit: 0.2234\n"
     ]
    }
   ],
   "source": [
    "report.tags_ratio('Random_Forest_5', transformer.test_df, 'Tags_tokens')"
   ]
  },
  {
   "cell_type": "code",
   "execution_count": null,
   "metadata": {},
   "outputs": [
    {
     "name": "stdout",
     "output_type": "stream",
     "text": [
      "               Random_Forest_select\n",
      "Precision                  0.058261\n",
      "Recall                          1.0\n",
      "F1                         0.102722\n",
      "Inference_time             0.000646\n",
      "Model_size_mb                  1249\n"
     ]
    }
   ],
   "source": [
    "preds_select, preds_df = select_preds('Random_Forest_select', transformer, preds_proba)\n",
    "report.evaluate('Random_Forest_select', rfc_model, X_test, y_test, preds_select)"
   ]
  },
  {
   "cell_type": "code",
   "execution_count": null,
   "metadata": {},
   "outputs": [
    {
     "data": {
      "text/html": [
       "<div>\n",
       "<style scoped>\n",
       "    .dataframe tbody tr th:only-of-type {\n",
       "        vertical-align: middle;\n",
       "    }\n",
       "\n",
       "    .dataframe tbody tr th {\n",
       "        vertical-align: top;\n",
       "    }\n",
       "\n",
       "    .dataframe thead th {\n",
       "        text-align: right;\n",
       "    }\n",
       "</style>\n",
       "<table border=\"1\" class=\"dataframe\">\n",
       "  <thead>\n",
       "    <tr style=\"text-align: right;\">\n",
       "      <th></th>\n",
       "      <th>Title_Body_tokens</th>\n",
       "      <th>Tags_tokens</th>\n",
       "      <th>Random_Forest_select</th>\n",
       "    </tr>\n",
       "  </thead>\n",
       "  <tbody>\n",
       "    <tr>\n",
       "      <th>199</th>\n",
       "      <td>strategy,audit,trail/change,history,db,applica...</td>\n",
       "      <td>database,postgresql,database-design,crud,audit...</td>\n",
       "      <td>[sql, postgresql, c, r, sql-server]</td>\n",
       "    </tr>\n",
       "    <tr>\n",
       "      <th>39489</th>\n",
       "      <td>strcmp,string,:compare,compare,string,seem,wor...</td>\n",
       "      <td>c++,c,string,char,string-comparison</td>\n",
       "      <td>[c++, c, string, com, r]</td>\n",
       "    </tr>\n",
       "    <tr>\n",
       "      <th>42724</th>\n",
       "      <td>decode,entity,rail,duplicate,encode/decode,ent...</td>\n",
       "      <td>ruby-on-rails,ruby,ruby-on-rails-3,html-entiti...</td>\n",
       "      <td>[ruby, c, string, function, r]</td>\n",
       "    </tr>\n",
       "    <tr>\n",
       "      <th>10822</th>\n",
       "      <td>pointer,structure,return,pointer,struct,c,mean...</td>\n",
       "      <td>c,pointers,variables,struct,return</td>\n",
       "      <td>[c, r, c++, java, python]</td>\n",
       "    </tr>\n",
       "    <tr>\n",
       "      <th>4144</th>\n",
       "      <td>use,http,authentication,client,web,service,acc...</td>\n",
       "      <td>java,web-services,ssl,cxf,ws-security</td>\n",
       "      <td>[security, http, c, r, c#]</td>\n",
       "    </tr>\n",
       "  </tbody>\n",
       "</table>\n",
       "</div>"
      ],
      "text/plain": [
       "                                       Title_Body_tokens  \\\n",
       "199    strategy,audit,trail/change,history,db,applica...   \n",
       "39489  strcmp,string,:compare,compare,string,seem,wor...   \n",
       "42724  decode,entity,rail,duplicate,encode/decode,ent...   \n",
       "10822  pointer,structure,return,pointer,struct,c,mean...   \n",
       "4144   use,http,authentication,client,web,service,acc...   \n",
       "\n",
       "                                             Tags_tokens  \\\n",
       "199    database,postgresql,database-design,crud,audit...   \n",
       "39489                c++,c,string,char,string-comparison   \n",
       "42724  ruby-on-rails,ruby,ruby-on-rails-3,html-entiti...   \n",
       "10822                 c,pointers,variables,struct,return   \n",
       "4144               java,web-services,ssl,cxf,ws-security   \n",
       "\n",
       "                      Random_Forest_select  \n",
       "199    [sql, postgresql, c, r, sql-server]  \n",
       "39489             [c++, c, string, com, r]  \n",
       "42724       [ruby, c, string, function, r]  \n",
       "10822            [c, r, c++, java, python]  \n",
       "4144            [security, http, c, r, c#]  "
      ]
     },
     "execution_count": 431,
     "metadata": {},
     "output_type": "execute_result"
    }
   ],
   "source": [
    "preds_df[['Title_Body_tokens', 'Tags_tokens', 'Random_Forest_select']].head()"
   ]
  },
  {
   "cell_type": "code",
   "execution_count": null,
   "metadata": {},
   "outputs": [
    {
     "name": "stdout",
     "output_type": "stream",
     "text": [
      "Ratio of tags hit: 0.2528\n"
     ]
    }
   ],
   "source": [
    "report.tags_ratio('Random_Forest_select', transformer.test_df, 'Tags_tokens')"
   ]
  },
  {
   "cell_type": "markdown",
   "metadata": {},
   "source": [
    "# Exploring the results"
   ]
  },
  {
   "cell_type": "code",
   "execution_count": null,
   "metadata": {},
   "outputs": [
    {
     "data": {
      "text/html": [
       "<div>\n",
       "<style scoped>\n",
       "    .dataframe tbody tr th:only-of-type {\n",
       "        vertical-align: middle;\n",
       "    }\n",
       "\n",
       "    .dataframe tbody tr th {\n",
       "        vertical-align: top;\n",
       "    }\n",
       "\n",
       "    .dataframe thead th {\n",
       "        text-align: right;\n",
       "    }\n",
       "</style>\n",
       "<table border=\"1\" class=\"dataframe\">\n",
       "  <thead>\n",
       "    <tr style=\"text-align: right;\">\n",
       "      <th></th>\n",
       "      <th>Precision</th>\n",
       "      <th>Recall</th>\n",
       "      <th>F1</th>\n",
       "      <th>Inference_time</th>\n",
       "      <th>Model_size_mb</th>\n",
       "      <th>Tags_hit</th>\n",
       "    </tr>\n",
       "  </thead>\n",
       "  <tbody>\n",
       "    <tr>\n",
       "      <th>SVM</th>\n",
       "      <td>0.667811</td>\n",
       "      <td>0.350586</td>\n",
       "      <td>0.442996</td>\n",
       "      <td>0.000083</td>\n",
       "      <td>1</td>\n",
       "      <td>0.243396</td>\n",
       "    </tr>\n",
       "    <tr>\n",
       "      <th>SGD</th>\n",
       "      <td>0.667912</td>\n",
       "      <td>0.349676</td>\n",
       "      <td>0.437114</td>\n",
       "      <td>0.000085</td>\n",
       "      <td>1</td>\n",
       "      <td>0.242764</td>\n",
       "    </tr>\n",
       "    <tr>\n",
       "      <th>KNN</th>\n",
       "      <td>0.632555</td>\n",
       "      <td>0.110169</td>\n",
       "      <td>0.176991</td>\n",
       "      <td>0.000389</td>\n",
       "      <td>89</td>\n",
       "      <td>0.076486</td>\n",
       "    </tr>\n",
       "    <tr>\n",
       "      <th>KNN_5</th>\n",
       "      <td>0.384411</td>\n",
       "      <td>0.473951</td>\n",
       "      <td>0.383665</td>\n",
       "      <td>0.000381</td>\n",
       "      <td>89</td>\n",
       "      <td>0.329042</td>\n",
       "    </tr>\n",
       "    <tr>\n",
       "      <th>KNN_select</th>\n",
       "      <td>0.103802</td>\n",
       "      <td>0.83267</td>\n",
       "      <td>0.18061</td>\n",
       "      <td>0.000386</td>\n",
       "      <td>89</td>\n",
       "      <td>0.368766</td>\n",
       "    </tr>\n",
       "    <tr>\n",
       "      <th>Random_Forest</th>\n",
       "      <td>0.352745</td>\n",
       "      <td>0.004379</td>\n",
       "      <td>0.008523</td>\n",
       "      <td>0.000686</td>\n",
       "      <td>8268</td>\n",
       "      <td>0.00304</td>\n",
       "    </tr>\n",
       "    <tr>\n",
       "      <th>Random_Forest_5</th>\n",
       "      <td>0.388243</td>\n",
       "      <td>0.454499</td>\n",
       "      <td>0.328078</td>\n",
       "      <td>0.000942</td>\n",
       "      <td>8268</td>\n",
       "      <td>0.315538</td>\n",
       "    </tr>\n",
       "    <tr>\n",
       "      <th>Random_Forest_select</th>\n",
       "      <td>0.061741</td>\n",
       "      <td>0.95211</td>\n",
       "      <td>0.109372</td>\n",
       "      <td>0.00097</td>\n",
       "      <td>8268</td>\n",
       "      <td>0.310839</td>\n",
       "    </tr>\n",
       "  </tbody>\n",
       "</table>\n",
       "</div>"
      ],
      "text/plain": [
       "                     Precision    Recall        F1 Inference_time  \\\n",
       "SVM                   0.667811  0.350586  0.442996       0.000083   \n",
       "SGD                   0.667912  0.349676  0.437114       0.000085   \n",
       "KNN                   0.632555  0.110169  0.176991       0.000389   \n",
       "KNN_5                 0.384411  0.473951  0.383665       0.000381   \n",
       "KNN_select            0.103802   0.83267   0.18061       0.000386   \n",
       "Random_Forest         0.352745  0.004379  0.008523       0.000686   \n",
       "Random_Forest_5       0.388243  0.454499  0.328078       0.000942   \n",
       "Random_Forest_select  0.061741   0.95211  0.109372        0.00097   \n",
       "\n",
       "                     Model_size_mb  Tags_hit  \n",
       "SVM                              1  0.243396  \n",
       "SGD                              1  0.242764  \n",
       "KNN                             89  0.076486  \n",
       "KNN_5                           89  0.329042  \n",
       "KNN_select                      89  0.368766  \n",
       "Random_Forest                 8268   0.00304  \n",
       "Random_Forest_5               8268  0.315538  \n",
       "Random_Forest_select          8268  0.310839  "
      ]
     },
     "execution_count": 407,
     "metadata": {},
     "output_type": "execute_result"
    }
   ],
   "source": [
    "report.get()"
   ]
  },
  {
   "cell_type": "markdown",
   "metadata": {},
   "source": [
    "The *KNN_select* model offers a good performance, a good *recall* score, while remaining of light size, for these reasons we are going to implement this model in our *API*.\n",
    "\n",
    "The following cell, when executed, pulls a random *sample* from the dataset to explore the behavior of the *KNN_select* (the *supervised tags*, compared to the *LDA unsupervised tags*):"
   ]
  },
  {
   "cell_type": "code",
   "execution_count": null,
   "metadata": {},
   "outputs": [
    {
     "ename": "KeyError",
     "evalue": "'LDA'",
     "output_type": "error",
     "traceback": [
      "\u001b[0;31m---------------------------------------------------------------------------\u001b[0m",
      "\u001b[0;31mKeyError\u001b[0m                                  Traceback (most recent call last)",
      "File \u001b[0;32m/opt/homebrew/Caskroom/miniforge/base/envs/P5/lib/python3.9/site-packages/pandas/core/indexes/base.py:3621\u001b[0m, in \u001b[0;36mIndex.get_loc\u001b[0;34m(self, key, method, tolerance)\u001b[0m\n\u001b[1;32m   <a href='file:///opt/homebrew/Caskroom/miniforge/base/envs/P5/lib/python3.9/site-packages/pandas/core/indexes/base.py?line=3619'>3620</a>\u001b[0m \u001b[39mtry\u001b[39;00m:\n\u001b[0;32m-> <a href='file:///opt/homebrew/Caskroom/miniforge/base/envs/P5/lib/python3.9/site-packages/pandas/core/indexes/base.py?line=3620'>3621</a>\u001b[0m     \u001b[39mreturn\u001b[39;00m \u001b[39mself\u001b[39;49m\u001b[39m.\u001b[39;49m_engine\u001b[39m.\u001b[39;49mget_loc(casted_key)\n\u001b[1;32m   <a href='file:///opt/homebrew/Caskroom/miniforge/base/envs/P5/lib/python3.9/site-packages/pandas/core/indexes/base.py?line=3621'>3622</a>\u001b[0m \u001b[39mexcept\u001b[39;00m \u001b[39mKeyError\u001b[39;00m \u001b[39mas\u001b[39;00m err:\n",
      "File \u001b[0;32m/opt/homebrew/Caskroom/miniforge/base/envs/P5/lib/python3.9/site-packages/pandas/_libs/index.pyx:136\u001b[0m, in \u001b[0;36mpandas._libs.index.IndexEngine.get_loc\u001b[0;34m()\u001b[0m\n",
      "File \u001b[0;32m/opt/homebrew/Caskroom/miniforge/base/envs/P5/lib/python3.9/site-packages/pandas/_libs/index.pyx:163\u001b[0m, in \u001b[0;36mpandas._libs.index.IndexEngine.get_loc\u001b[0;34m()\u001b[0m\n",
      "File \u001b[0;32mpandas/_libs/hashtable_class_helper.pxi:5198\u001b[0m, in \u001b[0;36mpandas._libs.hashtable.PyObjectHashTable.get_item\u001b[0;34m()\u001b[0m\n",
      "File \u001b[0;32mpandas/_libs/hashtable_class_helper.pxi:5206\u001b[0m, in \u001b[0;36mpandas._libs.hashtable.PyObjectHashTable.get_item\u001b[0;34m()\u001b[0m\n",
      "\u001b[0;31mKeyError\u001b[0m: 'LDA'",
      "\nThe above exception was the direct cause of the following exception:\n",
      "\u001b[0;31mKeyError\u001b[0m                                  Traceback (most recent call last)",
      "\u001b[1;32m/Users/grosjeanthibaud/Documents/P5/P5_02_test.ipynb Cell 78'\u001b[0m in \u001b[0;36m<module>\u001b[0;34m\u001b[0m\n\u001b[1;32m      <a href='vscode-notebook-cell:/Users/grosjeanthibaud/Documents/P5/P5_02_test.ipynb#ch0000072?line=0'>1</a>\u001b[0m preds_df \u001b[39m=\u001b[39m transformer\u001b[39m.\u001b[39mtest_df\n\u001b[1;32m      <a href='vscode-notebook-cell:/Users/grosjeanthibaud/Documents/P5/P5_02_test.ipynb#ch0000072?line=2'>3</a>\u001b[0m sample \u001b[39m=\u001b[39m preds_df\u001b[39m.\u001b[39msample(\u001b[39m1\u001b[39m)\n\u001b[1;32m      <a href='vscode-notebook-cell:/Users/grosjeanthibaud/Documents/P5/P5_02_test.ipynb#ch0000072?line=3'>4</a>\u001b[0m \u001b[39mprint\u001b[39m(\u001b[39mf\u001b[39m\u001b[39m\"\"\"\u001b[39m\n\u001b[1;32m      <a href='vscode-notebook-cell:/Users/grosjeanthibaud/Documents/P5/P5_02_test.ipynb#ch0000072?line=4'>5</a>\u001b[0m \u001b[39m    Title: \u001b[39m\u001b[39m{\u001b[39;00msample[\u001b[39m'\u001b[39m\u001b[39mTitle_tokens\u001b[39m\u001b[39m'\u001b[39m]\u001b[39m.\u001b[39mvalues[\u001b[39m0\u001b[39m]\u001b[39m}\u001b[39;00m\u001b[39m\\n\u001b[39;00m\u001b[39m\\n\u001b[39;00m\n\u001b[1;32m      <a href='vscode-notebook-cell:/Users/grosjeanthibaud/Documents/P5/P5_02_test.ipynb#ch0000072?line=5'>6</a>\u001b[0m \u001b[39m    Body: \u001b[39m\u001b[39m{\u001b[39;00msample[\u001b[39m'\u001b[39m\u001b[39mBody_tokens\u001b[39m\u001b[39m'\u001b[39m]\u001b[39m.\u001b[39mvalues[\u001b[39m0\u001b[39m]\u001b[39m}\u001b[39;00m\u001b[39m\\n\u001b[39;00m\u001b[39m\\n\u001b[39;00m\n\u001b[1;32m      <a href='vscode-notebook-cell:/Users/grosjeanthibaud/Documents/P5/P5_02_test.ipynb#ch0000072?line=6'>7</a>\u001b[0m \u001b[39m    Tags: \u001b[39m\u001b[39m{\u001b[39;00msample[\u001b[39m'\u001b[39m\u001b[39mTags_tokens\u001b[39m\u001b[39m'\u001b[39m]\u001b[39m.\u001b[39mvalues[\u001b[39m0\u001b[39m]\u001b[39m}\u001b[39;00m\u001b[39m\\n\u001b[39;00m\u001b[39m\\n\u001b[39;00m\n\u001b[0;32m----> <a href='vscode-notebook-cell:/Users/grosjeanthibaud/Documents/P5/P5_02_test.ipynb#ch0000072?line=7'>8</a>\u001b[0m \u001b[39m    Unsupervised tags: \u001b[39m\u001b[39m{\u001b[39;00msample[\u001b[39m'\u001b[39m\u001b[39mLDA\u001b[39m\u001b[39m'\u001b[39m]\u001b[39m.\u001b[39mvalues[\u001b[39m0\u001b[39m]\u001b[39m}\u001b[39;00m\u001b[39m\\n\u001b[39;00m\u001b[39m\\n\u001b[39;00m\n\u001b[1;32m      <a href='vscode-notebook-cell:/Users/grosjeanthibaud/Documents/P5/P5_02_test.ipynb#ch0000072?line=8'>9</a>\u001b[0m \u001b[39m    Supervised tags: \u001b[39m\u001b[39m{\u001b[39;00msample[\u001b[39m'\u001b[39m\u001b[39mKNN_select\u001b[39m\u001b[39m'\u001b[39m]\u001b[39m.\u001b[39mvalues[\u001b[39m0\u001b[39m]\u001b[39m}\u001b[39;00m\u001b[39m\"\"\"\u001b[39m)\n",
      "File \u001b[0;32m/opt/homebrew/Caskroom/miniforge/base/envs/P5/lib/python3.9/site-packages/pandas/core/frame.py:3506\u001b[0m, in \u001b[0;36mDataFrame.__getitem__\u001b[0;34m(self, key)\u001b[0m\n\u001b[1;32m   <a href='file:///opt/homebrew/Caskroom/miniforge/base/envs/P5/lib/python3.9/site-packages/pandas/core/frame.py?line=3503'>3504</a>\u001b[0m \u001b[39mif\u001b[39;00m \u001b[39mself\u001b[39m\u001b[39m.\u001b[39mcolumns\u001b[39m.\u001b[39mnlevels \u001b[39m>\u001b[39m \u001b[39m1\u001b[39m:\n\u001b[1;32m   <a href='file:///opt/homebrew/Caskroom/miniforge/base/envs/P5/lib/python3.9/site-packages/pandas/core/frame.py?line=3504'>3505</a>\u001b[0m     \u001b[39mreturn\u001b[39;00m \u001b[39mself\u001b[39m\u001b[39m.\u001b[39m_getitem_multilevel(key)\n\u001b[0;32m-> <a href='file:///opt/homebrew/Caskroom/miniforge/base/envs/P5/lib/python3.9/site-packages/pandas/core/frame.py?line=3505'>3506</a>\u001b[0m indexer \u001b[39m=\u001b[39m \u001b[39mself\u001b[39;49m\u001b[39m.\u001b[39;49mcolumns\u001b[39m.\u001b[39;49mget_loc(key)\n\u001b[1;32m   <a href='file:///opt/homebrew/Caskroom/miniforge/base/envs/P5/lib/python3.9/site-packages/pandas/core/frame.py?line=3506'>3507</a>\u001b[0m \u001b[39mif\u001b[39;00m is_integer(indexer):\n\u001b[1;32m   <a href='file:///opt/homebrew/Caskroom/miniforge/base/envs/P5/lib/python3.9/site-packages/pandas/core/frame.py?line=3507'>3508</a>\u001b[0m     indexer \u001b[39m=\u001b[39m [indexer]\n",
      "File \u001b[0;32m/opt/homebrew/Caskroom/miniforge/base/envs/P5/lib/python3.9/site-packages/pandas/core/indexes/base.py:3623\u001b[0m, in \u001b[0;36mIndex.get_loc\u001b[0;34m(self, key, method, tolerance)\u001b[0m\n\u001b[1;32m   <a href='file:///opt/homebrew/Caskroom/miniforge/base/envs/P5/lib/python3.9/site-packages/pandas/core/indexes/base.py?line=3620'>3621</a>\u001b[0m     \u001b[39mreturn\u001b[39;00m \u001b[39mself\u001b[39m\u001b[39m.\u001b[39m_engine\u001b[39m.\u001b[39mget_loc(casted_key)\n\u001b[1;32m   <a href='file:///opt/homebrew/Caskroom/miniforge/base/envs/P5/lib/python3.9/site-packages/pandas/core/indexes/base.py?line=3621'>3622</a>\u001b[0m \u001b[39mexcept\u001b[39;00m \u001b[39mKeyError\u001b[39;00m \u001b[39mas\u001b[39;00m err:\n\u001b[0;32m-> <a href='file:///opt/homebrew/Caskroom/miniforge/base/envs/P5/lib/python3.9/site-packages/pandas/core/indexes/base.py?line=3622'>3623</a>\u001b[0m     \u001b[39mraise\u001b[39;00m \u001b[39mKeyError\u001b[39;00m(key) \u001b[39mfrom\u001b[39;00m \u001b[39merr\u001b[39;00m\n\u001b[1;32m   <a href='file:///opt/homebrew/Caskroom/miniforge/base/envs/P5/lib/python3.9/site-packages/pandas/core/indexes/base.py?line=3623'>3624</a>\u001b[0m \u001b[39mexcept\u001b[39;00m \u001b[39mTypeError\u001b[39;00m:\n\u001b[1;32m   <a href='file:///opt/homebrew/Caskroom/miniforge/base/envs/P5/lib/python3.9/site-packages/pandas/core/indexes/base.py?line=3624'>3625</a>\u001b[0m     \u001b[39m# If we have a listlike key, _check_indexing_error will raise\u001b[39;00m\n\u001b[1;32m   <a href='file:///opt/homebrew/Caskroom/miniforge/base/envs/P5/lib/python3.9/site-packages/pandas/core/indexes/base.py?line=3625'>3626</a>\u001b[0m     \u001b[39m#  InvalidIndexError. Otherwise we fall through and re-raise\u001b[39;00m\n\u001b[1;32m   <a href='file:///opt/homebrew/Caskroom/miniforge/base/envs/P5/lib/python3.9/site-packages/pandas/core/indexes/base.py?line=3626'>3627</a>\u001b[0m     \u001b[39m#  the TypeError.\u001b[39;00m\n\u001b[1;32m   <a href='file:///opt/homebrew/Caskroom/miniforge/base/envs/P5/lib/python3.9/site-packages/pandas/core/indexes/base.py?line=3627'>3628</a>\u001b[0m     \u001b[39mself\u001b[39m\u001b[39m.\u001b[39m_check_indexing_error(key)\n",
      "\u001b[0;31mKeyError\u001b[0m: 'LDA'"
     ]
    }
   ],
   "source": [
    "preds_df = transformer.test_df\n",
    "\n",
    "sample = preds_df.sample(1)\n",
    "print(f\"\"\"\n",
    "    Title: {sample['Title_tokens'].values[0]}\\n\\n\n",
    "    Body: {sample['Body_tokens'].values[0]}\\n\\n\n",
    "    Tags: {sample['Tags_tokens'].values[0]}\\n\\n\n",
    "    Unsupervised tags: {sample['LDA'].values[0]}\\n\\n\n",
    "    Supervised tags: {sample['KNN_select'].values[0]}\"\"\")"
   ]
  },
  {
   "cell_type": "markdown",
   "metadata": {},
   "source": [
    "We can observe that the *LDA* model mainly pulls generic terms from the *document*, which is not, in our case, a wanted behavior. The *KNN_select* predictions seem way more pertinent."
   ]
  },
  {
   "cell_type": "markdown",
   "metadata": {},
   "source": [
    "# Saving files"
   ]
  },
  {
   "cell_type": "markdown",
   "metadata": {},
   "source": [
    "*For further use*"
   ]
  },
  {
   "cell_type": "code",
   "execution_count": null,
   "metadata": {},
   "outputs": [],
   "source": [
    "X_train.to_csv('./X_train.csv')\n",
    "X_test.to_csv('./X_test.csv')\n",
    "y_train.to_csv('./y_train.csv')\n",
    "y_test.to_csv('./y_test.csv')"
   ]
  },
  {
   "cell_type": "code",
   "execution_count": 40,
   "metadata": {},
   "outputs": [
    {
     "data": {
      "text/plain": [
       "['./api/model.joblib']"
      ]
     },
     "execution_count": 40,
     "metadata": {},
     "output_type": "execute_result"
    }
   ],
   "source": [
    "dump(transformer.multi_label_binarizer, './api/multi_label_binarizer.joblib')\n",
    "dump(transformer.tfid_vectorizer, './api/tfid_vectorizer.joblib')\n",
    "dump(transformer.truncated_svd, './api/truncated_svd.joblib')\n",
    "dump(knn_model, './api/model.joblib')"
   ]
  },
  {
   "cell_type": "code",
   "execution_count": null,
   "metadata": {},
   "outputs": [
    {
     "ename": "NameError",
     "evalue": "name 'stop' is not defined",
     "output_type": "error",
     "traceback": [
      "\u001b[0;31m---------------------------------------------------------------------------\u001b[0m\n",
      "\u001b[0;31mNameError\u001b[0m                                 Traceback (most recent call last)\n",
      "\u001b[1;32m/Users/grosjeanthibaud/Documents/P5/exploration.ipynb Cell 79'\u001b[0m in \u001b[0;36m<module>\u001b[0;34m\u001b[0m\n",
      "\u001b[0;32m----> <a href='vscode-notebook-cell:/Users/grosjeanthibaud/Documents/P5/exploration.ipynb#ch0000083?line=0'>1</a>\u001b[0m stop\n",
      "\n",
      "\u001b[0;31mNameError\u001b[0m: name 'stop' is not defined"
     ]
    }
   ],
   "source": [
    "stop"
   ]
  }
 ],
 "metadata": {
  "interpreter": {
   "hash": "73bc5c77dda7f65b49ca8fa5fe9724c28e04e6082e3fc65fbc471f9985772223"
  },
  "kernelspec": {
   "display_name": "Python 3.9.10 ('P5')",
   "language": "python",
   "name": "python3"
  },
  "language_info": {
   "codemirror_mode": {
    "name": "ipython",
    "version": 3
   },
   "file_extension": ".py",
   "mimetype": "text/x-python",
   "name": "python",
   "nbconvert_exporter": "python",
   "pygments_lexer": "ipython3",
   "version": "3.9.10"
  },
  "orig_nbformat": 4
 },
 "nbformat": 4,
 "nbformat_minor": 2
}
